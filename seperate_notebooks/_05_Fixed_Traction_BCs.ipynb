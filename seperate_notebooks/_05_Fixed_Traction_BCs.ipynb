{
 "cells": [
  {
   "cell_type": "code",
   "execution_count": 16,
   "metadata": {},
   "outputs": [],
   "source": [
    "from ipynb.fs.full.Background_Functions import * \n",
    "from ipynb.fs.full._04_Fixed_Displacement_BCs import * "
   ]
  },
  {
   "cell_type": "markdown",
   "metadata": {},
   "source": [
    "# Fixed Traction Boundary Conditions\n",
    "***\n",
    "\n",
    "A fixed traction boundary condition is where the traction on the boundary is fixed, i.e. there is a constant force (traction x area) acting on the boundary face. \n",
    "\n",
    "*Can you think of any real world examples?*\n",
    "\n",
    "Here's one: \n",
    "\n",
    "- Uniformly distributed load across a beam:\n",
    "\n",
    "<img src=\"./Paper_Images/uniform_load.png\" alt=\"Drawing\" style=\"width: 400px;\"/> \n",
    "\n",
    "This means that a load (force) is evenly distributed per unit area. \n",
    "\n",
    "<img src=\"./Paper_Images/uniform_load_zoomed_in.png\" alt=\"Drawing\" style=\"width: 500px;\"/> \n",
    "\n",
    "The goal of our solver is to produce $\\boldsymbol{u}$ field that continuously satisfies this constant traction. \n",
    "\n"
   ]
  },
  {
   "cell_type": "markdown",
   "metadata": {},
   "source": [
    "## Cell Boundaries\n",
    "\n",
    "For cells which share a face with the boundary, we need to set the *force term* for the face on the boundary equal to the force produced by the fixed traction boundary condition."
   ]
  },
  {
   "cell_type": "markdown",
   "metadata": {},
   "source": [
    "Starting from the momentum equation:\n",
    "\n",
    "$$ \\underbrace{  \\rho \\int_V \\frac{\\partial^2 (\\boldsymbol{u})}{\\partial t^2} \\, dV }_{Temporal\\space term} -\\underbrace{ \\oint_S \\boldsymbol{\\sigma} \\cdot n \\, dS }_{Force\\space term} = 0$$\n"
   ]
  },
  {
   "cell_type": "markdown",
   "metadata": {},
   "source": [
    "Splitting the force term into separate force terms for each face, we can see that they take the following form:\n",
    "\n",
    "$$ force = |traction| |Area|$$"
   ]
  },
  {
   "cell_type": "markdown",
   "metadata": {
    "jp-MarkdownHeadingCollapsed": true,
    "tags": []
   },
   "source": [
    "### x-equation:\n",
    "\n",
    "$$\n",
    "\\frac{\\rho}{\\Delta t^2} \\left(   u_p^n V^n -2  u_p^o V^o + u_p^{oo} V^{oo} \\right)\n",
    "-\n",
    "\\underbrace{\n",
    "\\left[\n",
    "\\mu \\left( \\dfrac{\\delta v}{\\delta x} + \\dfrac{\\delta u}{\\delta y} \\right)\n",
    "\\right] _N \n",
    "}_{{tr_x}_N }\n",
    "|S_N|\n",
    "+\n",
    "\\underbrace{\n",
    "\\left[\n",
    "\\mu \\left( \\dfrac{\\delta v}{\\delta x} + \\dfrac{\\delta u}{\\delta y} \\right)\n",
    "\\right] _S \n",
    "}_{{tr_x}_S }\n",
    "|S_S|\n",
    "- \n",
    "\\underbrace{\n",
    "\\left[\n",
    "(2\\mu + \\lambda)\\dfrac{\\delta u}{\\delta x} + \\lambda\\dfrac{\\delta v}{\\delta y}\n",
    "\\right] _E \n",
    "}_{{tr_x}_E }\n",
    "|S_E|\n",
    "+ \n",
    "\\underbrace{\n",
    "\\left[\n",
    "(2\\mu + \\lambda)\\dfrac{\\delta u}{\\delta x} + \\lambda\\dfrac{\\delta v}{\\delta y}\n",
    "\\right] _W\n",
    "}_{{tr_x}_W }\n",
    "|S_W|\n",
    "= 0\n",
    "$$"
   ]
  },
  {
   "cell_type": "markdown",
   "metadata": {},
   "source": [
    "### y-equation:\n",
    "\n",
    "$$\n",
    "\\frac{\\rho}{\\Delta t^2} \\left(   v_p^n V^n -2  v_p^o V^o + v_p^{oo} V^{oo} \\right)\n",
    "-\n",
    "\\underbrace{\n",
    "\\left[\n",
    "(2\\mu + \\lambda)\\dfrac{\\delta v}{\\delta y} + \\lambda\\dfrac{\\delta u}{\\delta x}\n",
    "\\right] _N \n",
    "}_{{tr_y}_N}\n",
    "|S_N|\n",
    "+\n",
    "\\underbrace{\n",
    "\\left[\n",
    "(2\\mu + \\lambda)\\dfrac{\\delta v}{\\delta y} + \\lambda\\dfrac{\\delta u}{\\delta x}\n",
    "\\right] _S \n",
    "}_{{tr_y}_S}\n",
    "|S_S|\n",
    "- \n",
    "\\underbrace{\n",
    "\\left[\n",
    "\\mu \\left( \\dfrac{\\delta v}{\\delta x} + \\dfrac{\\delta u}{\\delta y} \\right)\n",
    "\\right] _E \n",
    "}_{{tr_y}_E}\n",
    "|S_E|\n",
    "+ \n",
    "\\underbrace{\n",
    "\\left[\n",
    "\\mu \\left( \\dfrac{\\delta v}{\\delta x} + \\dfrac{\\delta u}{\\delta y} \\right)\n",
    "\\right] _W \n",
    "}_{{tr_y}_W}\n",
    "|S_W|\n",
    "= 0\n",
    "$$"
   ]
  },
  {
   "cell_type": "markdown",
   "metadata": {},
   "source": [
    "With a fixed boundary condition the traction in the x and y direction on the the boundary is set at a fixed value. "
   ]
  },
  {
   "cell_type": "markdown",
   "metadata": {},
   "source": [
    "Taking an example of the top boundary having a fixed traction BC:"
   ]
  },
  {
   "cell_type": "markdown",
   "metadata": {},
   "source": [
    "### x-equation:\n",
    "\n",
    "<!-- The red parts change depending on markdown type -->\n",
    "\n",
    "$$\n",
    "\\frac{\\rho}{\\Delta t^2} \\left(   u_p^n V^n -2  u_p^o V^o + u_p^{oo} V^{oo} \\right)\n",
    "-\n",
    "\\underbrace{\n",
    "\\left[\n",
    "\\mu \\left( \\dfrac{\\delta v}{\\delta x} + \\dfrac{\\delta u}{\\delta y} \\right)\n",
    "\\right] _N \n",
    "}_{ \\color{red}{{tr_x}_N} }\n",
    "|S_N|\n",
    "+\n",
    "\\left[\n",
    "\\mu \\left( \\dfrac{\\delta v}{\\delta x} + \\dfrac{\\delta u}{\\delta y} \\right)\n",
    "\\right] _S |S_S|\n",
    "- \n",
    "\\left[\n",
    "(2\\mu + \\lambda)\\dfrac{\\delta u}{\\delta x} + \\lambda\\dfrac{\\delta v}{\\delta y}\n",
    "\\right] _E |S_E|\n",
    "+ \n",
    "\\left[\n",
    "(2\\mu + \\lambda)\\dfrac{\\delta u}{\\delta x} + \\lambda\\dfrac{\\delta v}{\\delta y}\n",
    "\\right] _W |S_W|\n",
    "= 0\n",
    "$$\n",
    "\n",
    "As we know the fixed traction value, the term containing this is known. Putting the unknowns on the LHS and the knowns on the RHS:\n",
    "\n",
    "$$\n",
    "\\frac{\\rho}{\\Delta t^2} \\left( u_p^n V^n \\right) \n",
    "+\n",
    "\\mu \\left( \\dfrac{\\delta u}{\\delta y} \\right)\n",
    " _S |S_S|\n",
    "- \n",
    "(2\\mu + \\lambda)\n",
    "\\left(\\dfrac{\\delta u}{\\delta x} \\right)\n",
    " _E |S_E|\n",
    "+ \n",
    "(2\\mu + \\lambda)\n",
    "\\left(\\dfrac{\\delta u}{\\delta x}\\right) \n",
    " _W |S_W|\n",
    "= \n",
    "\\frac{\\rho}{\\Delta t^2} \\left( 2  u_p^o V^o - u_p^{oo} V^{oo} \\right)\n",
    "+\n",
    "\\underbrace{\\color{red}{{tr_x}_N} |S_N|}_{Force\\space term}  \n",
    "-\n",
    "\\mu \\left( \\dfrac{\\delta v}{\\delta x} \\right)\n",
    "_S |S_S|\n",
    "+ \n",
    "\\lambda\n",
    "\\left(\\dfrac{\\delta v}{\\delta y}\\right)\n",
    "_E |S_E|\n",
    "- \n",
    "\\lambda\n",
    "\\left(\\dfrac{\\delta v}{\\delta y}\\right)\n",
    "_W |S_W|\n",
    "$$"
   ]
  },
  {
   "cell_type": "markdown",
   "metadata": {},
   "source": [
    "### y-equation:\n",
    "\n",
    "$$\n",
    "\\frac{\\rho}{\\Delta t^2} \\left(   v_p^n V^n -2  v_p^o V^o + v_p^{oo} V^{oo} \\right)\n",
    "-\n",
    "\\underbrace{\n",
    "\\left[\n",
    "(2\\mu + \\lambda)\\dfrac{\\delta v}{\\delta y} + \\lambda\\dfrac{\\delta u}{\\delta x}\n",
    "\\right] _N \n",
    "}_{\\color{red}{{tr_y}_N}}\n",
    "|S_N|\n",
    "+\n",
    "\\left[\n",
    "(2\\mu + \\lambda)\\dfrac{\\delta v}{\\delta y} + \\lambda\\dfrac{\\delta u}{\\delta x}\n",
    "\\right] _S |S_S|\n",
    "- \n",
    "\\left[\n",
    "\\mu \\left( \\dfrac{\\delta v}{\\delta x} + \\dfrac{\\delta u}{\\delta y} \\right)\n",
    "\\right] _E |S_E|\n",
    "+ \n",
    "\\left[\n",
    "\\mu \\left( \\dfrac{\\delta v}{\\delta x} + \\dfrac{\\delta u}{\\delta y} \\right)\n",
    "\\right] _W |S_W|\n",
    "= 0\n",
    "$$\n",
    "\n",
    "Putting the unknowns on the LHS and the knowns on the RHS:\n",
    "\n",
    "$$\n",
    "\\frac{\\rho}{\\Delta t^2} \\left(   v_p^n V^n \\right)\n",
    "-\n",
    "(2\\mu + \\lambda)\n",
    "\\left(\\dfrac{\\delta v}{\\delta y} \\right)\n",
    "_S |S_S|\n",
    "- \n",
    "\\mu\n",
    "\\left( \\dfrac{\\delta v}{\\delta x}\\right)\n",
    " _E |S_E|\n",
    "+ \n",
    "\\mu\n",
    "\\left( \\dfrac{\\delta v}{\\delta x}\\right)\n",
    " _W |S_W|\n",
    "= \n",
    "\\frac{\\rho}{\\Delta t^2} \\left( 2  v_p^o V^o - v_p^{oo} V^{oo} \\right)\n",
    "+\n",
    "\\underbrace{\\color{red}{{tr_y}_N} |S_N|}_{Force\\space term}  \n",
    "-\n",
    "(2\\mu + \\lambda)\n",
    "\\left(\\lambda\\dfrac{\\delta u}{\\delta x} \\right)\n",
    "_S |S_S|\n",
    "+ \n",
    "\\mu\n",
    "\\left( \\dfrac{\\delta u}{\\delta y} \\right)\n",
    "_E |S_E|\n",
    "- \n",
    "\\mu \n",
    "\\left(  \\dfrac{\\delta u}{\\delta y} \\right) \n",
    "_W |S_W|\n",
    "$$"
   ]
  },
  {
   "cell_type": "markdown",
   "metadata": {},
   "source": [
    "So as you can see on the LHS (A-matrix) we lose the term corresponding to the face on the boundary. On the RHS (b-matrix) the usual term as seen for internal cells is replaced by the force term for the face on the boundary. "
   ]
  },
  {
   "cell_type": "markdown",
   "metadata": {},
   "source": [
    "## $A$-matrix terms"
   ]
  },
  {
   "cell_type": "markdown",
   "metadata": {},
   "source": [
    "The term referring to the face on the boundary (N in the case above) becomes zero in the A matrix.\n",
    "\n",
    "So we need to some code that passes the same internal cell values from class <code>A</code> except for the term on the boundary:"
   ]
  },
  {
   "cell_type": "code",
   "execution_count": 17,
   "metadata": {},
   "outputs": [
    {
     "name": "stdout",
     "output_type": "stream",
     "text": [
      "Printing a-term values for fixed traction cell on the top boundary:\n",
      "\n",
      "a_N should 0\n",
      "a_E and a_W should be identical\n",
      "\n",
      "Value for a_N:  0\n",
      "Value for a_S:  153846153846.15384\n",
      "Value for a_E:  134615384615.38461\n",
      "Value for a_W:  134615384615.38461\n",
      "Value for a_P:  423076923076.9231\n"
     ]
    }
   ],
   "source": [
    "# Example values\n",
    "xy = \"x\"\n",
    "boundaries = [\"t\"]\n",
    "\n",
    "# Initialise a terms to the same as internal cell values\n",
    "a_N = A(xy).a_N\n",
    "a_S = A(xy).a_S\n",
    "a_E = A(xy).a_E\n",
    "a_W = A(xy).a_W\n",
    "\n",
    "# Zero a terms if on the boundary\n",
    "for boundary in boundaries:\n",
    "    if boundary == \"b\": a_S = 0\n",
    "    if boundary == \"t\": a_N = 0\n",
    "    if boundary == \"l\": a_W = 0\n",
    "    if boundary == \"r\": a_E = 0\n",
    "\n",
    "# Sum the boundary a terms and the temporal a term for a_p\n",
    "if transient:\n",
    "    a_P = (rho*dx*dy/(dt**2)) + a_N + a_S + a_E + a_W\n",
    "else:\n",
    "    a_P = a_N + a_S + a_E + a_W\n",
    "\n",
    "print(\"Printing a-term values for fixed traction cell on the top boundary:\\n\")\n",
    "print(\"a_N should 0\")\n",
    "print(\"a_E and a_W should be identical\\n\")\n",
    "\n",
    "print(\"Value for a_N: \", a_N)\n",
    "print(\"Value for a_S: \", a_S)\n",
    "print(\"Value for a_E: \", a_E)\n",
    "print(\"Value for a_W: \", a_W)\n",
    "print(\"Value for a_P: \", a_P)\n"
   ]
  },
  {
   "cell_type": "markdown",
   "metadata": {},
   "source": [
    "# $b$-matrix terms"
   ]
  },
  {
   "cell_type": "markdown",
   "metadata": {},
   "source": [
    "For the b term, of RHS of the momentum equation, the same process for face terms for the internal cells is followed. However the internal cell term is replaced by the full force term ($traction \\times Area$) for the face on the boundary. \n",
    "\n",
    "For the corner function, the same function is used for the fixed displacement BCs.\n",
    "\n",
    "*NOTE TO SELF:* Technically you don't need the corner function here as everytime the term on the boundary is replaced by the force term.\n",
    "it should really be:\n",
    "\n",
    "        if (boundary == \"b\") & (xy == \"x\") : S_term =  Sfy*tr_bottom_x\n",
    "        else:\n",
    "\n",
    "            S_term =(\n",
    "                S_S*A.coef(xy, \"S\", uv)*(\n",
    "                    (boundaryCellDisplacement.corner(boundaries, \"SE\", uv, U_previous, k) - boundaryCellDisplacement.corner(boundaries, \"SW\", uv, U_previous, k))\n",
    "                    /dx)\n",
    "            ) \n",
    "        \n",
    "\n"
   ]
  },
  {
   "cell_type": "code",
   "execution_count": 18,
   "metadata": {},
   "outputs": [],
   "source": [
    "def b_temp(U_old, U_old_old, k, xy):      \n",
    "    return A.b_temp(U_old, U_old_old, k, xy)\n",
    "\n",
    "def b_force(boundaries, k, xy, U_previous):\n",
    "\n",
    "    if xy == \"x\":\n",
    "        uv = \"v\"\n",
    "    if xy == \"y\":\n",
    "        uv = \"u\"\n",
    "\n",
    "    # Initialise face terms to the same used by internal cells using the fixed displacement corner function\n",
    "\n",
    "    N_term =(\n",
    "                S_N*A.coef(xy, \"N\", uv)*(\n",
    "                (boundaryCellDisplacement.corner(boundaries, \"NE\", uv, U_previous, k) - boundaryCellDisplacement.corner(boundaries, \"NW\", uv, U_previous, k))\n",
    "                /dx)\n",
    "            )\n",
    "    S_term =(\n",
    "                S_S*A.coef(xy, \"S\", uv)*(\n",
    "                    (boundaryCellDisplacement.corner(boundaries, \"SE\", uv, U_previous, k) - boundaryCellDisplacement.corner(boundaries, \"SW\", uv, U_previous, k))\n",
    "                    /dx)\n",
    "            ) \n",
    "    E_term =(\n",
    "                S_E*A.coef(xy, \"E\", uv)*(\n",
    "                    (boundaryCellDisplacement.corner(boundaries, \"NE\", uv, U_previous, k) - boundaryCellDisplacement.corner(boundaries, \"SE\", uv, U_previous, k))\n",
    "                    /dy)\n",
    "            ) \n",
    "    W_term =(\n",
    "                S_W*A.coef(xy, \"W\", uv)*(\n",
    "                    (boundaryCellDisplacement.corner(boundaries, \"NW\", uv, U_previous, k) - boundaryCellDisplacement.corner(boundaries, \"SW\", uv, U_previous, k))\n",
    "                    /dy)\n",
    "            )\n",
    "\n",
    "    # Apply force term (Area x Traction) to boundary face term\n",
    "    for boundary in boundaries:\n",
    "\n",
    "        if (boundary == \"t\") & (xy == \"x\") : N_term =  S_N*tr_top_x\n",
    "        if (boundary == \"t\") & (xy == \"y\") : N_term =  S_N*tr_top_y\n",
    "        if (boundary == \"b\") & (xy == \"x\") : S_term =  S_S*tr_bottom_x\n",
    "        if (boundary == \"b\") & (xy == \"y\") : S_term =  S_S*tr_bottom_y\n",
    "        if (boundary == \"r\") & (xy == \"x\") : E_term =  S_E*tr_right_x\n",
    "        if (boundary == \"r\") & (xy == \"y\") : E_term =  S_E*tr_right_y\n",
    "        if (boundary == \"l\") & (xy == \"x\") : W_term =  S_W*tr_left_x\n",
    "        if (boundary == \"l\") & (xy == \"y\") : W_term =  S_W*tr_left_y\n",
    "\n",
    "    # Sum all terms \n",
    "    b_force = N_term + S_term + E_term + W_term\n",
    "\n",
    "    return b_force"
   ]
  },
  {
   "cell_type": "markdown",
   "metadata": {},
   "source": [
    "That's all that's needed to code the value for the boundary cell centres for a fixed traction BC. To summarise:\n",
    "\n",
    "**A-matrix terms for cells on the boundary**: The face terms $a_N$, $a_S$, $a_E$ & $a_W$ are initialised to the internal cell values. The terms relating to the face on the boundary ($a_N$ in the example above) is zeroed. $a_p$ is the sum of the face terms and the temporal term (if transient)\n",
    "\n",
    "**b-matrix terms for cells on the boundary**: The the same process used for the fixed displacement boundary cells is followed. However, the term corresponding to the face on the boundary is set to the total force term: fixed traction times the face area.\n",
    "\n",
    "Combining these into a single class <code>boundaryCellTraction</code>:"
   ]
  },
  {
   "cell_type": "code",
   "execution_count": 19,
   "metadata": {},
   "outputs": [],
   "source": [
    " # For SL only:\n",
    " # order of dependecies is important, boundaryCellDisplacement comes before A as boundaryCellDisplacement calls A as a dependencie\n",
    "\n",
    "# This class will inherit the A class from notebook 3 \n",
    "# and the boundaryCellDisplacement class from notebook 4\n",
    "\n",
    "class boundaryCellTraction(boundaryCellDisplacement, A):    \n",
    "\n",
    "    def __init__(self, boundaries, xy):\n",
    "\n",
    "        # Initialise a terms to the same as internal cell values        \n",
    "        self.a_N = A(xy).a_N\n",
    "        self.a_S = A(xy).a_S\n",
    "        self.a_E = A(xy).a_E\n",
    "        self.a_W = A(xy).a_W\n",
    "\n",
    "        # Zero a terms if on the boundary\n",
    "        for boundary in boundaries:\n",
    "            if boundary == \"b\": self.a_S = 0\n",
    "            if boundary == \"t\": self.a_N = 0\n",
    "            if boundary == \"l\": self.a_W = 0\n",
    "            if boundary == \"r\": self.a_E = 0\n",
    "\n",
    "        if transient:\n",
    "            self.a_P = (rho*dx*dy/(dt**2)) + self.a_N + self.a_S + self.a_E + self.a_W\n",
    "        else:\n",
    "            self.a_P = self.a_N + self.a_S + self.a_E + self.a_W\n",
    "\n",
    "        # self.a_faces = A(xy).a_N*sw_N + A(xy).a_S*sw_S + A(xy).a_E*sw_E + A(xy).a_W*sw_W \n",
    "\n",
    "    def b_temp(U_old, U_old_old, k, xy):      \n",
    "        return A.b_temp(U_old, U_old_old, k, xy)\n",
    "    \n",
    "    def b_force(boundaries, k, xy, U_previous):\n",
    "\n",
    "        if xy == \"x\":\n",
    "            uv = \"v\"\n",
    "        if xy == \"y\":\n",
    "            uv = \"u\"\n",
    "\n",
    "        # Initialise face terms to the same used by internal cells using the fixed displacement corner function            \n",
    "        N_term =(\n",
    "                    Sfy*A.coef(xy, \"N\", uv)*(\n",
    "                    (boundaryCellDisplacement.corner(boundaries, \"NE\", uv, U_previous, k) - boundaryCellDisplacement.corner(boundaries, \"NW\", uv, U_previous, k))\n",
    "                    /dx)\n",
    "                )\n",
    "        S_term =(\n",
    "                    Sfy*A.coef(xy, \"S\", uv)*(\n",
    "                        (boundaryCellDisplacement.corner(boundaries, \"SE\", uv, U_previous, k) - boundaryCellDisplacement.corner(boundaries, \"SW\", uv, U_previous, k))\n",
    "                        /dx)\n",
    "                ) \n",
    "        E_term =(\n",
    "                    Sfx*A.coef(xy, \"E\", uv)*(\n",
    "                        (boundaryCellDisplacement.corner(boundaries, \"NE\", uv, U_previous, k) - boundaryCellDisplacement.corner(boundaries, \"SE\", uv, U_previous, k))\n",
    "                        /dy)\n",
    "                ) \n",
    "        W_term =(\n",
    "                    Sfx*A.coef(xy, \"W\", uv)*(\n",
    "                        (boundaryCellDisplacement.corner(boundaries, \"NW\", uv, U_previous, k) - boundaryCellDisplacement.corner(boundaries, \"SW\", uv, U_previous, k))\n",
    "                        /dy)\n",
    "                )\n",
    "\n",
    "        # Apply force term (Area x Traction) to boundary face term\n",
    "        for boundary in boundaries:\n",
    "\n",
    "            if (boundary == \"b\") & (xy == \"x\") : S_term =  Sfy*tr_bottom_x  \n",
    "            if (boundary == \"b\") & (xy == \"y\") : S_term =  Sfy*tr_bottom_y  \n",
    "            if (boundary == \"t\") & (xy == \"x\") : N_term =  Sfy*tr_top_x  \n",
    "            if (boundary == \"t\") & (xy == \"y\") : N_term =  Sfy*tr_top_y  \n",
    "            if (boundary == \"l\") & (xy == \"x\") : W_term =  Sfx*tr_left_x  \n",
    "            if (boundary == \"l\") & (xy == \"y\") : W_term =  Sfx*tr_left_y  \n",
    "            if (boundary == \"r\") & (xy == \"x\") : E_term =  Sfx*tr_right_x  \n",
    "            if (boundary == \"r\") & (xy == \"y\") : E_term =  Sfx*tr_right_y        \n",
    "\n",
    "        # Sum all terms \n",
    "        b_force = N_term + S_term + E_term + W_term\n",
    "\n",
    "        return b_force\n",
    "   "
   ]
  },
  {
   "cell_type": "markdown",
   "metadata": {},
   "source": [
    "The <code>boundaryCellTraction</code> class points to the value for the terms in the matrices. However, it doesn't actually assign them to the matrix. \n",
    "\n",
    "The function below <code>traction_cell_BCs</code> takes in the A-matrix and b-matrix and assigns the values from the <code>boundaryCellTraction</code> class to a point <code>k</code> in the mesh.\n"
   ]
  },
  {
   "cell_type": "code",
   "execution_count": 20,
   "metadata": {},
   "outputs": [],
   "source": [
    "def traction_cell_BCs(A_matrix, b_matrix, k, edges, xy, U_old, U_old_old, U_previous):\n",
    "\n",
    "    A_matrix[k,k] = boundaryCellTraction(edges, xy).a_P\n",
    "\n",
    "    b_matrix[k] =(\n",
    "                    boundaryCellTraction.b_temp(U_old, U_old_old, k, xy)\n",
    "                    +\n",
    "                    boundaryCellTraction.b_force(edges, k, xy, U_previous)  \n",
    "                )\n",
    "                \n",
    "    A_matrix[k,index(k).n] = - boundaryCellTraction(edges, xy).a_N\n",
    "\n",
    "    A_matrix[k,index(k).s] = - boundaryCellTraction(edges, xy).a_S\n",
    "\n",
    "    A_matrix[k,index(k).e] = - boundaryCellTraction(edges, xy).a_E\n",
    "\n",
    "    A_matrix[k,index(k).w] = - boundaryCellTraction(edges, xy).a_W           \n",
    "\n",
    "    return A_matrix, b_matrix"
   ]
  },
  {
   "cell_type": "markdown",
   "metadata": {},
   "source": [
    "## Points on the Boundary\n",
    "\n",
    "Now we need to discuss how evaluate the displacement of the points on the boundary. As we don't know these values, this is more complicated than the fixed boundaries in the previous notebook.\n"
   ]
  },
  {
   "cell_type": "markdown",
   "metadata": {},
   "source": [
    "<!-- $$ \\underbrace{  \\rho \\int_V \\frac{\\partial^2 (\\boldsymbol{u})}{\\partial t^2} \\, dV }_{Temporal\\space term} -\\underbrace{ \\oint_S \\boldsymbol{\\sigma} \\cdot n \\, dS }_{Force\\space term} = 0$$\n",
    "\n",
    "The RHS is the negative of the forces acting on the surface - this is why the signs are changed -->"
   ]
  },
  {
   "cell_type": "markdown",
   "metadata": {},
   "source": [
    "From the cell-centre perspective the full force term for a face (N is this example) is given as:\n",
    "\n",
    "\n",
    "$$\n",
    "\\left[\n",
    "\\mu \\left( \\dfrac{\\delta v}{\\delta x} + \\dfrac{\\delta u}{\\delta y} \\right)\n",
    "\\right] _N \n",
    "|S_N|\n",
    "=\n",
    "{tr_x}_N \n",
    "|S_N|\n",
    "$$"
   ]
  },
  {
   "cell_type": "markdown",
   "metadata": {},
   "source": [
    "Using finite difference approximations:\n",
    "\n",
    "$$\n",
    "\\left[\n",
    "\\mu\\dfrac{\\delta v}{\\delta x} \\right] _N + \\mu\\dfrac{u_N - u_P}{ dy / 2}\n",
    "=\n",
    "{tr_y}_N \n",
    "$$"
   ]
  },
  {
   "cell_type": "markdown",
   "metadata": {},
   "source": [
    "Now we're going to move from the perspective of the cell centre to the point on the boundary:\n",
    "\n",
    "$u_N \\rightarrow u_P$, $u_P \\rightarrow u_S$:"
   ]
  },
  {
   "cell_type": "markdown",
   "metadata": {},
   "source": [
    "Cell Center Perspective |   |  Boundary Point Perspective $\\color{green}{**Change image}$\n",
    ":-------------------------:|:-------------------------:|:-------------------------:\n",
    "<img src=\"./Paper_Images/N.jpg\" alt=\"Drawing\" style=\"width: 600px;\"/> |  $$ N \\rightarrow P \\\\ P \\rightarrow S $$ |  <img src=\"./Paper_Images/N_converted.jpg\" alt=\"Drawing\" style=\"width: 600px;\"/>"
   ]
  },
  {
   "cell_type": "markdown",
   "metadata": {},
   "source": [
    "This gives:\n",
    "\n",
    "$$\n",
    "\\left[\n",
    "\\mu\\dfrac{\\delta v}{\\delta x} \\right] _N + \\mu\\dfrac{u_P - u_S}{ dy / 2}\n",
    "=\n",
    "{tr_y}_N \n",
    "$$"
   ]
  },
  {
   "cell_type": "markdown",
   "metadata": {},
   "source": [
    "$$\n",
    "\\left(\\dfrac{2\\mu}{ dy} \\right) u_P\n",
    "- \\left( \\dfrac{2\\mu}{dy}\\right) u_S\n",
    "=\n",
    "-\n",
    "\\left[\n",
    "\\mu\\dfrac{\\delta v}{\\delta x} \\right] _N\n",
    "+\n",
    "{tr_y}_N \n",
    "$$"
   ]
  },
  {
   "cell_type": "markdown",
   "metadata": {},
   "source": [
    "$$\n",
    "\\left(\\dfrac{2\\mu}{ dy} \\right) u_P\n",
    "- \\left( \\dfrac{2\\mu}{dy}\\right) u_S\n",
    "=\n",
    "-\n",
    "\\mu\\dfrac{{v_E}_c - {v_W}_c}{ 2dx} \n",
    "+\n",
    "{tr_y}_N \n",
    "$$"
   ]
  },
  {
   "cell_type": "markdown",
   "metadata": {},
   "source": [
    "The differential term on the LHS refers to the E and W verteces (corners)"
   ]
  },
  {
   "cell_type": "markdown",
   "metadata": {},
   "source": [
    "#### y - direction"
   ]
  },
  {
   "cell_type": "markdown",
   "metadata": {},
   "source": [
    "$$\n",
    "\\left[\n",
    "(2\\mu + \\lambda)\\dfrac{\\delta v}{\\delta y} + \\lambda\\dfrac{\\delta u}{\\delta x}\n",
    "\\right] _N \n",
    "|S_N|\n",
    "=\n",
    "{tr_y}_N |S_N|\n",
    "$$"
   ]
  },
  {
   "cell_type": "markdown",
   "metadata": {},
   "source": [
    "$$\n",
    "(2\\mu + \\lambda)\\dfrac{v_N - v_P}{ dy/2} + \n",
    "\\left[\\lambda\\dfrac{\\delta u}{\\delta x}\n",
    "\\right] _N \n",
    "=\n",
    "{tr_y}_N \n",
    "$$"
   ]
  },
  {
   "cell_type": "markdown",
   "metadata": {},
   "source": [
    "Now from the boundary point perspective: $v_N \\rightarrow v_P$, $v_P \\rightarrow v_S$:"
   ]
  },
  {
   "cell_type": "markdown",
   "metadata": {},
   "source": [
    "$$\n",
    "2(2\\mu + \\lambda)\\dfrac{v_P - v_S}{ dy}\n",
    "=\n",
    "-\n",
    "\\left[\\lambda\\dfrac{\\delta u}{\\delta x}\n",
    "\\right] _N \n",
    "+ \n",
    "{tr_y}_N \n",
    "$$\n",
    "\n",
    "$$\n",
    "2\\left(\\dfrac{2\\mu + \\lambda}{dy} \\right)v_P - 2\\left(\\dfrac{2\\mu + \\lambda}{dy} \\right)v_s\n",
    "=\n",
    "-\n",
    "(\\lambda)\\dfrac{{u_E}_c - {u_W}_c}{2 dx} \n",
    "+ \n",
    "{tr_y}_N \n",
    "$$"
   ]
  },
  {
   "cell_type": "markdown",
   "metadata": {},
   "source": [
    "This is a repeated for each face. \n",
    "\n",
    "*NOTE TO SELF: The rest of these can be removed? Or placed in an extra notebook somewhere?*"
   ]
  },
  {
   "cell_type": "markdown",
   "metadata": {},
   "source": [
    "#### South x-direction"
   ]
  },
  {
   "cell_type": "markdown",
   "metadata": {},
   "source": [
    "$$\n",
    "-\n",
    "\\left[\n",
    "\\mu \\left( \\dfrac{\\delta v}{\\delta x} + \\dfrac{\\delta u}{\\delta y} \\right)\n",
    "\\right] _S \n",
    "|S_S|\n",
    "=\n",
    "{tr_x}_S \n",
    "|S_S|\n",
    "$$"
   ]
  },
  {
   "cell_type": "markdown",
   "metadata": {},
   "source": [
    "$$\n",
    "-\n",
    "\\left[\n",
    "\\mu\\dfrac{\\delta v}{\\delta x} \\right] _S\n",
    "- \\mu\\dfrac{u_P - u_S}{ dy / 2}\n",
    "=\n",
    "{tr_x}_S\n",
    "$$"
   ]
  },
  {
   "cell_type": "markdown",
   "metadata": {},
   "source": [
    "Now from the boundary point perspective: $u_S \\rightarrow u_P$, $u_P \\rightarrow u_N$:"
   ]
  },
  {
   "cell_type": "markdown",
   "metadata": {},
   "source": [
    "Cell Center Perspective |   |  Boundary Point Perspective\n",
    ":-------------------------:|:-------------------------:|:-------------------------:\n",
    "<img src=\"./Paper_Images/S.jpg\" alt=\"Drawing\" style=\"width: 600px;\"/>  |  $$ S \\rightarrow P \\\\ P \\rightarrow N $$ |  <img src=\"./Paper_Images/S_converted.jpg\" alt=\"Drawing\" style=\"width: 600px;\"/>"
   ]
  },
  {
   "cell_type": "markdown",
   "metadata": {},
   "source": [
    "$$\n",
    "-\n",
    "\\left[\n",
    "\\mu\\dfrac{\\delta v}{\\delta x} \\right] _S\n",
    "- \\mu\\dfrac{u_N - u_P}{ dy / 2}\n",
    "=\n",
    "{tr_x}_S\n",
    "$$"
   ]
  },
  {
   "cell_type": "markdown",
   "metadata": {},
   "source": [
    "$$\n",
    "2\\left(\\dfrac{\\mu}{ dy} \\right) u_P\n",
    "- 2\\left( \\dfrac{\\mu}{dy}\\right) u_N\n",
    "=\n",
    "+\n",
    "\\left[\n",
    "\\mu\\dfrac{\\delta v}{\\delta x} \\right] _S\n",
    "+\n",
    "{tr_x}_S \n",
    "$$"
   ]
  },
  {
   "cell_type": "markdown",
   "metadata": {},
   "source": [
    "$$\n",
    "2\\left(\\dfrac{\\mu}{ dy} \\right) u_P\n",
    "- 2\\left( \\dfrac{\\mu}{dy}\\right) u_N\n",
    "=\n",
    "+\n",
    "\\mu\\dfrac{{v_E}_c - {v_W}_c}{ 2dx} \n",
    "+\n",
    "{tr_x}_S\n",
    "$$"
   ]
  },
  {
   "cell_type": "markdown",
   "metadata": {},
   "source": [
    "#### South y-direction"
   ]
  },
  {
   "cell_type": "markdown",
   "metadata": {},
   "source": [
    "$$\n",
    "-\n",
    "\\left[\n",
    "(2\\mu + \\lambda)\\dfrac{\\delta v}{\\delta y} + \\lambda\\dfrac{\\delta u}{\\delta x}\n",
    "\\right] _S \n",
    "|S_S|\n",
    "=\n",
    "{tr_y}_S |S_S|\n",
    "$$"
   ]
  },
  {
   "cell_type": "markdown",
   "metadata": {},
   "source": [
    "$$\n",
    "-\n",
    "(2\\mu + \\lambda)\\dfrac{v_P - v_S}{ dy/2} -\n",
    "\\left[\\lambda\\dfrac{\\delta u}{\\delta x}\n",
    "\\right] _S \n",
    "=\n",
    "{tr_y}_S \n",
    "$$"
   ]
  },
  {
   "cell_type": "markdown",
   "metadata": {},
   "source": [
    "Now from the boundary point perspective: $v_S \\rightarrow v_P$, $v_P \\rightarrow v_N$:"
   ]
  },
  {
   "cell_type": "markdown",
   "metadata": {},
   "source": [
    "$$\n",
    "-2(2\\mu + \\lambda)\\dfrac{v_S - v_P}{ dy}\n",
    "=\n",
    "+\n",
    "\\left[\\lambda\\dfrac{\\delta u}{\\delta x}\n",
    "\\right] _S \n",
    "+ \n",
    "{tr_y}_S \n",
    "$$\n",
    "\n",
    "$$\n",
    "2\\left(\\dfrac{2\\mu + \\lambda}{dy} \\right)v_P - 2\\left(\\dfrac{2\\mu + \\lambda}{dy} \\right)v_s\n",
    "=\n",
    "+\n",
    "(\\lambda)\\dfrac{{u_E}_c - {u_W}_c}{ 2dx} \n",
    "+ \n",
    "{tr_y}_S \n",
    "$$"
   ]
  },
  {
   "cell_type": "markdown",
   "metadata": {},
   "source": [
    "#### East: x-direction\n"
   ]
  },
  {
   "cell_type": "markdown",
   "metadata": {},
   "source": [
    "$$\n",
    "\\left[\n",
    "(2\\mu + \\lambda)\\dfrac{\\delta u}{\\delta x} + \\lambda\\dfrac{\\delta v}{\\delta y}\n",
    "\\right] _W |S_E|\n",
    "= \n",
    "{tr_x}_E |S_E|\n",
    "$$\n",
    "\n"
   ]
  },
  {
   "cell_type": "markdown",
   "metadata": {},
   "source": [
    "$$\n",
    "(2\\mu + \\lambda)\\dfrac{u_E - u_P}{dx/2} + \\left[ \\lambda\\dfrac{\\delta v}{\\delta y}\n",
    "\\right] _E \n",
    "= \n",
    "{tr_x}_E\n",
    "$$\n"
   ]
  },
  {
   "cell_type": "markdown",
   "metadata": {},
   "source": [
    "Now from the boundary point perspective: $u_E \\rightarrow u_P$, $u_P \\rightarrow u_W$:\n",
    "\n"
   ]
  },
  {
   "cell_type": "markdown",
   "metadata": {},
   "source": [
    "Cell Center Perspective |   |  Boundary Point Perspective\n",
    ":-------------------------:|:-------------------------:|:-------------------------:\n",
    "<img src=\"./Paper_Images/E.jpg\" alt=\"Drawing\" style=\"width: 300px;\"/>  |  $$ E \\rightarrow P \\\\ P \\rightarrow W $$ |  <img src=\"./Paper_Images/E_converted.jpg\" alt=\"Drawing\" style=\"width: 300px;\"/>\n",
    "\n",
    "\n",
    "\n"
   ]
  },
  {
   "cell_type": "markdown",
   "metadata": {},
   "source": [
    "$$\n",
    "2(2\\mu + \\lambda)\\dfrac{u_P - u_W}{dx} \n",
    "= \n",
    "- \\left[ \\lambda\\dfrac{\\delta v}{\\delta y}\n",
    "\\right] _E \n",
    "+\n",
    "{tr_x}_E\n",
    "$$"
   ]
  },
  {
   "cell_type": "markdown",
   "metadata": {},
   "source": [
    "$$\n",
    "2\\left(\\frac{2\\mu + \\lambda}{dx}\\right)u_P - 2\\left(\\frac{2\\mu + \\lambda}{dx}\\right)u_W\n",
    "= \n",
    "-  (\\lambda)\\dfrac{{v_N}_c - {v_S}_c}{2dy}\n",
    "+\n",
    "{tr_x}_E\n",
    "$$"
   ]
  },
  {
   "cell_type": "markdown",
   "metadata": {},
   "source": [
    "#### East: y-direction\n"
   ]
  },
  {
   "cell_type": "markdown",
   "metadata": {},
   "source": [
    "$$ \n",
    "\\left[\n",
    "\\mu \\left( \\dfrac{\\delta v}{\\delta x} + \\dfrac{\\delta u}{\\delta y} \\right)\n",
    "\\right] _E|S_E|\n",
    "=\n",
    "{tr_y}_E|S_E|\n",
    "$$"
   ]
  },
  {
   "cell_type": "markdown",
   "metadata": {},
   "source": [
    "$$\n",
    "\\mu\\frac{v_E - v_P}{dx/2} + \\left[\\mu \\frac{\\delta u}{\\delta y}\\right]_E = {tr_y}_E\n",
    "$$"
   ]
  },
  {
   "cell_type": "markdown",
   "metadata": {},
   "source": [
    "Now from the boundary point perspective: $v_E \\rightarrow v_P$, $v_P \\rightarrow v_W$:"
   ]
  },
  {
   "cell_type": "markdown",
   "metadata": {},
   "source": [
    "$$\n",
    "2\\mu\\frac{v_P - v_W}{dx}x =  - \\left[\\mu \\frac{\\delta u}{\\delta y}\\right]_E + {tr_y}_E\n",
    "$$"
   ]
  },
  {
   "cell_type": "markdown",
   "metadata": {},
   "source": [
    "$$\n",
    "2\\left( \\frac{\\mu}{dx} \\right) v_P - 2\\left( \\frac{\\mu}{dx} \\right) v_W = - (\\mu) \\dfrac{{u_N}_c - {u_S}_c}{2dy} +  {tr_y}_E\n",
    "$$"
   ]
  },
  {
   "cell_type": "markdown",
   "metadata": {},
   "source": [
    "#### West: x-direction\n"
   ]
  },
  {
   "cell_type": "markdown",
   "metadata": {},
   "source": [
    "$$\n",
    "-\n",
    "\\left[\n",
    "(2\\mu + \\lambda)\\dfrac{\\delta u}{\\delta x} + \\lambda\\dfrac{\\delta v}{\\delta y}\n",
    "\\right] _W |S_W|\n",
    "= \n",
    "{tr_x}_W |S_W|\n",
    "$$\n",
    "\n"
   ]
  },
  {
   "cell_type": "markdown",
   "metadata": {},
   "source": [
    "$$\n",
    "-\n",
    "(2\\mu + \\lambda)\\dfrac{u_P - u_W}{dx/2} \n",
    "-\n",
    " \\left[ \\lambda\\dfrac{\\delta v}{\\delta y}\n",
    "\\right] _W \n",
    "= \n",
    "{tr_x}_W\n",
    "$$\n"
   ]
  },
  {
   "cell_type": "markdown",
   "metadata": {},
   "source": [
    "Now from the boundary point perspective: $u_W \\rightarrow u_P$, $u_P \\rightarrow u_E$:"
   ]
  },
  {
   "cell_type": "markdown",
   "metadata": {},
   "source": [
    "Cell Center Perspective |   |  Boundary Point Perspective\n",
    ":-------------------------:|:-------------------------:|:-------------------------:\n",
    "<img src=\"./Paper_Images/W.jpg\" alt=\"Drawing\" style=\"width: 300px;\"/> |  $$ W \\rightarrow P \\\\ P \\rightarrow E $$ |  <img src=\"./Paper_Images/W_converted.jpg\" alt=\"Drawing\" style=\"width: 300px;\"/>"
   ]
  },
  {
   "cell_type": "markdown",
   "metadata": {},
   "source": [
    "$$\n",
    "-\n",
    "2(2\\mu + \\lambda)\\dfrac{u_E - u_P}{dx} \n",
    "= \n",
    " \\left[ \\lambda\\dfrac{\\delta v}{\\delta y}\n",
    "\\right] _W \n",
    "+\n",
    "{tr_x}_W\n",
    "$$"
   ]
  },
  {
   "cell_type": "markdown",
   "metadata": {},
   "source": [
    "$$\n",
    "2\\left(\\frac{2\\mu + \\lambda}{dx}\\right)u_P - 2\\left(\\frac{2\\mu + \\lambda}{dx}\\right)u_E\n",
    "= \n",
    "(\\lambda)\\dfrac{{v_N}_c - {v_S}_c}{2dy}\n",
    "+\n",
    "{tr_x}_W\n",
    "$$"
   ]
  },
  {
   "cell_type": "markdown",
   "metadata": {},
   "source": [
    "#### West: y-direction\n"
   ]
  },
  {
   "cell_type": "markdown",
   "metadata": {},
   "source": [
    "$$ \n",
    "-\n",
    "\\left[\n",
    "\\mu \\left( \\dfrac{\\delta v}{\\delta x} + \\dfrac{\\delta u}{\\delta y} \\right)\n",
    "\\right] _W|S_W|\n",
    "=\n",
    "{tr_y}_W|S_W|\n",
    "$$"
   ]
  },
  {
   "cell_type": "markdown",
   "metadata": {},
   "source": [
    "$$\n",
    "-\n",
    "\\mu\\frac{v_P - v_W}{dx/2} \n",
    "-\n",
    " \\left[\\mu \\frac{\\delta u}{\\delta y}\\right]_W = {tr_y}_W\n",
    "$$"
   ]
  },
  {
   "cell_type": "markdown",
   "metadata": {},
   "source": [
    "Now from the boundary point perspective: $v_W \\rightarrow v_P$, $v_P \\rightarrow v_E$:"
   ]
  },
  {
   "cell_type": "markdown",
   "metadata": {},
   "source": [
    "$$\n",
    "- 2\\mu\\frac{v_E - v_P}{dx} =  \\left[\\mu \\frac{\\delta u}{\\delta y}\\right]_W + {tr_y}_W\n",
    "$$"
   ]
  },
  {
   "cell_type": "markdown",
   "metadata": {},
   "source": [
    "$$\n",
    "2\\left( \\frac{\\mu}{dx} \\right) v_P - 2\\left( \\frac{\\mu}{dx} \\right) v_E = (\\mu) \\dfrac{{u_N}_c - {u_S}_c}{2dy} +  {tr_y}_W\n",
    "$$"
   ]
  },
  {
   "cell_type": "markdown",
   "metadata": {},
   "source": [
    "<table border=\"0\">\n",
    " <tr>\n",
    "    <td>Face</b></td>\n",
    "    <td>x-direction</b></td>\n",
    "    <td>y-direction</b></td>\n",
    " </tr>\n",
    " <tr>\n",
    "<td>\n",
    "\n",
    "North N\n",
    "\n",
    "\n",
    "\n",
    "South S\n",
    "\n",
    "\n",
    "\n",
    "East E\n",
    "\n",
    "West W\n",
    "<td>\n",
    "\n",
    "$$\n",
    "2\\left(\\dfrac{\\mu}{ dy} \\right) u_P\n",
    "- 2\\left( \\dfrac{\\mu}{dy}\\right) u_S\n",
    "=\n",
    "-\n",
    "(\\mu)\\dfrac{{v_E}_c - {v_W}_c {v_W}_c}{ dx} \n",
    "+\n",
    "{tr_y}_N \n",
    "$$\n",
    "\n",
    "$$\n",
    "2\\left(\\dfrac{\\mu}{ dy} \\right) u_P\n",
    "- 2\\left( \\dfrac{\\mu}{dy}\\right) u_N\n",
    "=\n",
    "+\n",
    "(\\mu)\\dfrac{{v_E}_c - {v_W}_c}{ dx} \n",
    "+\n",
    "{tr_x}_S\n",
    "$$\n",
    "\n",
    "$$\n",
    "2\\left(\\frac{2\\mu + \\lambda}{dx}\\right)u_P - 2\\left(\\frac{2\\mu + \\lambda}{dx}\\right)u_W\n",
    "= \n",
    "-  (\\lambda)\\dfrac{{v_N}_c - {v_S}_c}{dy}\n",
    "+\n",
    "{tr_x}_E\n",
    "$$\n",
    "\n",
    "$$\n",
    "2\\left(\\frac{2\\mu + \\lambda}{dx}\\right)u_P - 2\\left(\\frac{2\\mu + \\lambda}{dx}\\right)u_E\n",
    "= \n",
    "(\\lambda)\\dfrac{{v_N}_c - {v_S}_c}{dy}\n",
    "+\n",
    "{tr_x}_W\n",
    "$$\n",
    "</td>\n",
    "<td>\n",
    "\n",
    "$$\n",
    "2\\left(\\dfrac{2\\mu + \\lambda}{dy} \\right)v_P - 2\\left(\\dfrac{2\\mu + \\lambda}{dy} \\right)v_s\n",
    "=\n",
    "-\n",
    "(\\lambda)\\dfrac{{u_E}_c - {u_W}_c {u_W}_c}{ dx} \n",
    "+ \n",
    "{tr_y}_N \n",
    "$$\n",
    "\n",
    "$$\n",
    "2\\left(\\dfrac{2\\mu + \\lambda}{dy} \\right)v_P - 2\\left(\\dfrac{2\\mu + \\lambda}{dy} \\right)v_s\n",
    "=\n",
    "+\n",
    "(\\lambda)\\dfrac{{u_E}_c - {u_W}_c}{ dx} \n",
    "+ \n",
    "{tr_y}_S \n",
    "$$\n",
    "\n",
    "$$\n",
    "2\\left( \\frac{\\mu}{dx} \\right) v_P - 2\\left( \\frac{\\mu}{dx} \\right) v_W = - (\\mu) \\dfrac{{u_N}_c - {u_S}_c}{dy} +  {tr_y}_E\n",
    "$$\n",
    "\n",
    "$$\n",
    "2\\left( \\frac{\\mu}{dx} \\right) v_P - 2\\left( \\frac{\\mu}{dx} \\right) v_E = (\\mu) \\dfrac{{u_N}_c - {u_S}_c}{dy} +  {tr_y}_W\n",
    "$$\n",
    "\n",
    "</td>\n",
    " </tr>\n",
    "</table>"
   ]
  },
  {
   "cell_type": "markdown",
   "metadata": {},
   "source": [
    "#### Summarising"
   ]
  },
  {
   "cell_type": "markdown",
   "metadata": {},
   "source": [
    "| Face | x-direction | y-direction |\n",
    ":---------:|:---------:|:-----------:\n",
    "| North $N$  $\\\\$ (Top) |$$ 2\\left(\\dfrac{\\mu}{ dy} \\right) u_P- 2\\left( \\dfrac{\\mu}{dy}\\right) u_S=-(\\mu)\\dfrac{{v_E}_c - {v_W}_c}{ dx} + {tr_y}_N $$ |$$2\\left(\\dfrac{2\\mu + \\lambda}{dy} \\right)v_P - 2\\left(\\dfrac{2\\mu + \\lambda}{dy} \\right)v_S=-(\\lambda)\\dfrac{{u_E}_c - {u_W}_c}{ dx} + {tr_y}_N $$|\n",
    "| South $S$ $\\\\$ (Bottom) |$$2\\left(\\dfrac{\\mu}{ dy} \\right) u_P- 2\\left( \\dfrac{\\mu}{dy}\\right) u_N=+(\\mu)\\dfrac{{v_E}_c - {v_W}_c}{ dx} +{tr_x}_S$$ | $$2\\left(\\dfrac{2\\mu + \\lambda}{dy} \\right)v_P - 2\\left(\\dfrac{2\\mu + \\lambda}{dy} \\right)v_N=+(\\lambda)\\dfrac{{u_E}_c - {u_W}_c}{ dx} + {tr_y}_S $$ |\n",
    "| East $E$ $\\\\$ (Right) |$$2\\left(\\frac{2\\mu + \\lambda}{dx}\\right)u_P - 2\\left(\\frac{2\\mu + \\lambda}{dx}\\right)u_W= -  (\\lambda)\\dfrac{{v_N}_c - {v_S}_c}{dy}+{tr_x}_E$$ | $$2\\left( \\frac{\\mu}{dx} \\right) v_P - 2\\left( \\frac{\\mu}{dx} \\right) v_W = - (\\mu) \\dfrac{{u_N}_c - {u_S}_c}{dy} +  {tr_y}_E$$ |\n",
    "| West $W$ $\\\\$ (Left) |$$2\\left(\\frac{2\\mu + \\lambda}{dx}\\right)u_P - 2\\left(\\frac{2\\mu + \\lambda}{dx}\\right)u_E= (\\lambda)\\dfrac{{v_N}_c - {v_S}_c}{dy}+{tr_x}_W$$ | $$2\\left( \\frac{\\mu}{dx} \\right) v_P - 2\\left( \\frac{\\mu}{dx} \\right) v_E = (\\mu) \\dfrac{{u_N}_c - {u_S}_c}{dy} +  {tr_y}_W$$ |\n"
   ]
  },
  {
   "cell_type": "markdown",
   "metadata": {},
   "source": [
    "### Corner Points"
   ]
  },
  {
   "cell_type": "markdown",
   "metadata": {},
   "source": [
    "For the points adjacent to the corner point, the displacement from the adjacent vertex changes:\n",
    "\n",
    "Two letters will be used to label these points just in the <code>boundaries</code> array. The first letter will state which face it point is on. The second is state which face other the the on it is on it is closest to."
   ]
  },
  {
   "cell_type": "markdown",
   "metadata": {},
   "source": [
    "<img src=\"./Paper_Images/Specific_Points.jpg\" alt=\"Drawing\"/>"
   ]
  },
  {
   "cell_type": "markdown",
   "metadata": {},
   "source": [
    "From this we can create a corner function which describes how the displacements of the corners on the boundary are calculated. \n",
    "\n",
    "To do this an array called \"boundaries\" will be assigned to each point on the boundary. This array will contain either one of 2 letters. If it contains two letters this means it is one of the highlighted points (blue) in the figure above. If not it is a point on the boundary that is not adjacent to a corner.  "
   ]
  },
  {
   "cell_type": "markdown",
   "metadata": {},
   "source": [
    "Note, this corner function is different to the function used previously "
   ]
  },
  {
   "cell_type": "code",
   "execution_count": 21,
   "metadata": {},
   "outputs": [],
   "source": [
    "# boundaries is an array containing 1 or 2 letters\n",
    "# corner_placement is a letter indicating the position of the corner with respect to P\n",
    "# uv determines the direction of the displacement vector (0 = u, 1 = v)\n",
    "\n",
    "def corner(boundaries, corner_placement, uv, U_previous, k):\n",
    "\n",
    "    if uv == \"u\":\n",
    "        uv_i = 0\n",
    "    elif uv == \"v\":\n",
    "        uv_i = 1\n",
    "\n",
    "    disp = displacement(k, U_previous, uv_i)\n",
    "\n",
    "\n",
    "    if corner_placement == \"E\":\n",
    "        corner =  (1/2)*(disp.E + disp.P)\n",
    "    if corner_placement == \"W\":\n",
    "        corner =  (1/2)*(disp.W + disp.P)\n",
    "    if  corner_placement == \"N\":\n",
    "        corner =  (1/2)*(disp.N + disp.P)\n",
    "    if  corner_placement == \"S\":\n",
    "        corner =  (1/2)*(disp.S + disp.P)\n",
    "\n",
    "    # For points adjacent to corner\n",
    "    if len(boundaries) > 1:\n",
    "\n",
    "        # This assigns the displacement in the corner as the corner value\n",
    "        if (boundaries[1] == \"r\") & (corner_placement == \"E\"):\n",
    "                corner =  disp.E\n",
    "        if (boundaries[1] == \"l\") & (corner_placement == \"W\"):\n",
    "                corner =  disp.W\n",
    "        if (boundaries[1] == \"t\") & (corner_placement == \"N\"):\n",
    "                corner =  disp.N\n",
    "        if (boundaries[1] == \"b\") & (corner_placement == \"S\"):\n",
    "                corner =  disp.S\n",
    "    \n",
    "    return corner "
   ]
  },
  {
   "cell_type": "markdown",
   "metadata": {},
   "source": [
    "Now we need to write a class that combines all this information for the points on the boundary for a fixed traction boundary condition."
   ]
  },
  {
   "cell_type": "code",
   "execution_count": 22,
   "metadata": {},
   "outputs": [],
   "source": [
    "# This class will inherit the A class from notebook 3 \n",
    "class boundaryPointTraction(A):\n",
    "\n",
    "    def __init__(self, boundaries, xy):    \n",
    "        \n",
    "        # The order matters for boundaries, bottom left corner on the bottom is : [\"b\", \"l\"]\n",
    "        \n",
    "        # From perspective of cell centre:  \n",
    "\n",
    "        # Each terms is multiplied by 2 and divided by the area of the face\n",
    "        # The area of the face cancel in equation X, multipling the A terms removes it\n",
    "        if boundaries[0] == \"t\": a_P = a_N = A(xy).a_N*2/S_N\n",
    "        if boundaries[0] == \"b\": a_P = a_S = A(xy).a_S*2/S_S\n",
    "        if boundaries[0] == \"r\": a_P = a_E = A(xy).a_E*2/S_E   \n",
    "        if boundaries[0] == \"l\": a_P = a_W = A(xy).a_W*2/S_W         \n",
    "                \n",
    "        ## From perspective of point on the boundary ##\n",
    "        if boundaries[0] == \"t\":\n",
    "            self.a_S = a_P\n",
    "            self.a_P = a_N\n",
    "        if boundaries[0] == \"b\":\n",
    "            self.a_N = a_P\n",
    "            self.a_P = a_S\n",
    "        if boundaries[0] == \"r\":\n",
    "            self.a_W = a_P\n",
    "            self.a_P = a_E\n",
    "        if boundaries[0] == \"l\":\n",
    "            self.a_E = a_P\n",
    "            self.a_P = a_W\n",
    "    \n",
    "    def b_force(boundaries, k, xy, U_previous):\n",
    "\n",
    "        if xy == \"x\":\n",
    "            uv = \"v\"\n",
    "        if xy == \"y\":\n",
    "            uv = \"u\"\n",
    "            \n",
    "        def N_term():\n",
    "            \n",
    "            N_term =( A.coef(xy, \"N\", uv)*(\n",
    "                    (boundaryPointTraction.corner(boundaries, \"E\", uv, U_previous, k) - boundaryPointTraction.corner(boundaries, \"W\", uv, U_previous, k))\n",
    "                    /dx)\n",
    "            )\n",
    "\n",
    "            return N_term\n",
    "\n",
    "        def S_term():\n",
    "            \n",
    "            S_term =(\n",
    "                    A.coef(xy, \"S\", uv)*(\n",
    "                        (boundaryPointTraction.corner(boundaries, \"E\", uv, U_previous, k) - boundaryPointTraction.corner(boundaries, \"W\", uv, U_previous, k))\n",
    "                        /dx)\n",
    "                ) \n",
    "            return S_term\n",
    "\n",
    "        def E_term():\n",
    "            \n",
    "            E_term =(\n",
    "                    A.coef(xy, \"E\", uv)*(\n",
    "                        (boundaryPointTraction.corner(boundaries, \"N\", uv, U_previous, k) - boundaryPointTraction.corner(boundaries, \"S\", uv, U_previous, k))\n",
    "                        /dy)\n",
    "                ) \n",
    "            return E_term\n",
    "            \n",
    "        def W_term():\n",
    "            \n",
    "            W_term =(\n",
    "                        A.coef(xy, \"W\", uv)*(\n",
    "                        (boundaryPointTraction.corner(boundaries, \"N\", uv, U_previous, k) - boundaryPointTraction.corner(boundaries, \"S\", uv, U_previous, k))\n",
    "                        /dy)\n",
    "                )\n",
    "                \n",
    "            return W_term\n",
    "\n",
    "        # This can be tidied up/shortened\n",
    "\n",
    "        if (boundaries[0] == \"b\") & (xy == \"x\") : b_force =  tr_bottom_x  + N_term()\n",
    "        if (boundaries[0] == \"b\") & (xy == \"y\") : b_force =  tr_bottom_y  + N_term()\n",
    "        if (boundaries[0] == \"t\") & (xy == \"x\") : b_force =  tr_top_x + S_term()\n",
    "        if (boundaries[0] == \"t\") & (xy == \"y\") : b_force =  tr_top_y + S_term()\n",
    "        if (boundaries[0] == \"l\") & (xy == \"x\") : b_force =  tr_left_x + E_term()\n",
    "        if (boundaries[0] == \"l\") & (xy == \"y\") : b_force =  tr_left_y + E_term()\n",
    "        if (boundaries[0] == \"r\") & (xy == \"x\") : b_force =  tr_right_x + W_term()\n",
    "        if (boundaries[0] == \"r\") & (xy == \"y\") : b_force =  tr_right_y + W_term()  \n",
    "\n",
    "        return b_force\n",
    "    \n",
    "    def corner(boundaries, corner_placement, uv, U_previous, k):\n",
    "\n",
    "        if uv == \"u\":\n",
    "            uv_i = 0\n",
    "        elif uv == \"v\":\n",
    "            uv_i = 1\n",
    "\n",
    "        disp = displacement(k, U_previous, uv_i)\n",
    "\n",
    "\n",
    "        if corner_placement == \"E\":\n",
    "            corner =  (1/2)*(disp.E + disp.P)\n",
    "        if corner_placement == \"W\":\n",
    "            corner =  (1/2)*(disp.W + disp.P)\n",
    "        if  corner_placement == \"N\":\n",
    "            corner =  (1/2)*(disp.N + disp.P)\n",
    "        if  corner_placement == \"S\":\n",
    "            corner =  (1/2)*(disp.S + disp.P)\n",
    "\n",
    "        if len(boundaries) > 1:\n",
    "\n",
    "            if (boundaries[1] == \"r\") & (corner_placement == \"E\"):\n",
    "                    corner =  disp.E\n",
    "            if (boundaries[1] == \"l\") & (corner_placement == \"W\"):\n",
    "                    corner =  disp.W\n",
    "            if (boundaries[1] == \"t\") & (corner_placement == \"N\"):\n",
    "                    corner =  disp.N\n",
    "            if (boundaries[1] == \"b\") & (corner_placement == \"S\"):\n",
    "                    corner =  disp.S\n",
    "        \n",
    "        return corner\n",
    "# boundaryCellTraction.b_force([\"b\", \"l\"], 14, \"x\", U_previous)\n",
    "   "
   ]
  },
  {
   "cell_type": "markdown",
   "metadata": {},
   "source": [
    "Now we need to assign these values to the $A$-matrices and $b$-matrices. Previously for cells on boundary we still had a cell in all directions; for a point on the boundary there is no point on the mesh outwards from the boundary, e.g. on the bottom boundary there is no south point. Therefore, we need to more selective about assigning values to the $A$-matrix. "
   ]
  },
  {
   "cell_type": "code",
   "execution_count": 23,
   "metadata": {},
   "outputs": [],
   "source": [
    "def traction_point_BCs(A_matrix, b_matrix, k, edges, xy, U_previous):\n",
    "    \n",
    "    #ap\n",
    "    A_matrix[k,k] = boundaryPointTraction(edges, xy).a_P\n",
    "    #b\n",
    "    b_matrix[k] = boundaryPointTraction.b_force(edges, k, xy, U_previous)\n",
    "\n",
    "    # Only assign correlating to the cell centre inwards from boundary\n",
    "    \n",
    "    # Bottom boundary -> assign value to a_N     \n",
    "    if edges[0] == \"b\":\n",
    "        A_matrix[k,index(k).n] = - boundaryPointTraction(edges, xy).a_N\n",
    "    \n",
    "    # Top boundary -> assign value to a_S     \n",
    "    if edges[0] == \"t\":\n",
    "        A_matrix[k,index(k).s] = - boundaryPointTraction(edges, xy).a_S\n",
    "    \n",
    "    # Left boundary -> assign value to a_S     \n",
    "    if edges[0] == \"l\":\n",
    "        A_matrix[k, index(k).e] = - boundaryPointTraction(edges, xy).a_E\n",
    "\n",
    "    # Left boundary -> assign value to a_W   \n",
    "    if edges[0] == \"r\":\n",
    "        A_matrix[k, index(k).w] = -  boundaryPointTraction(edges, xy).a_W\n",
    "\n",
    "    return A_matrix, b_matrix"
   ]
  },
  {
   "cell_type": "markdown",
   "metadata": {},
   "source": [
    "# Corner Cells"
   ]
  },
  {
   "cell_type": "markdown",
   "metadata": {},
   "source": [
    "For corner cells we need to write a function that can work for any combination of boundary conditions applied at each boundary of the cell.\n",
    "\n",
    "From previous examples we've seen the following:"
   ]
  },
  {
   "cell_type": "markdown",
   "metadata": {},
   "source": [
    "## $A$-matrix terms\n",
    "\n",
    "**Fixed Displacement** : The terms for the face on the boundaries are double that of the internal cells. For example, on the top boundary $a_N = 2{a_N}_{(no\\space boundary)}$  \n",
    "\n",
    "**Fixed Traction** : The terms for the face on the boundareis are equal to zero. This is because the whole traction term is brought to the RHS\n",
    "\n",
    "In both <code>boundaryCellDisplacement</code> and <code>boundaryCellTraction</code> classes, <code>a_P</code> ($a_P$) is equal to the sum of the transient term, $a_N$, $a_S$, $a_E$ & $a_W$. This is the same for the corner cells.\n",
    "\n"
   ]
  },
  {
   "cell_type": "markdown",
   "metadata": {},
   "source": [
    "\n",
    "<img src=\"./Paper_Images/boundaryCellDisplacementCorner.png\" alt=\"Drawing\" style=\"width: 600px;\"/> \n",
    "\n"
   ]
  },
  {
   "cell_type": "code",
   "execution_count": 24,
   "metadata": {},
   "outputs": [],
   "source": [
    "# Initialise a terms to the same as internal cell values\n",
    "a_N = A(xy).a_N\n",
    "a_S = A(xy).a_S\n",
    "a_E = A(xy).a_E\n",
    "a_W = A(xy).a_W\n",
    "\n",
    "#Overrule a terms for on the boundary\n",
    "\n",
    "for boundary in boundaries:\n",
    "\n",
    "    if boundary == \"t\":\n",
    "\n",
    "        if BC_settings(\"t\").traction:\n",
    "            # Apply traction settings to North term\n",
    "            a_N = 0        \n",
    "        \n",
    "        elif BC_settings(\"t\").fixed_displacement:\n",
    "            # Apply fixed boundary setings to North term\n",
    "            a_N = boundaryCellDisplacement([\"t\"], xy).a_N        \n",
    "\n",
    "    if boundary == \"b\":\n",
    "\n",
    "        if BC_settings(\"b\").traction:\n",
    "            # Apply traction settings to South term\n",
    "            a_S = 0\n",
    "\n",
    "        elif BC_settings(\"b\").fixed_displacement:\n",
    "            # Apply fixed boundary setings to South term\n",
    "            a_S = boundaryCellDisplacement([\"b\"], xy).a_S\n",
    "\n",
    "    if boundary == \"r\":\n",
    "\n",
    "        if BC_settings(\"r\").traction:\n",
    "            # Apply traction settings to East term\n",
    "            a_E = 0\n",
    "\n",
    "        elif BC_settings(\"r\").fixed_displacement:\n",
    "            # Apply fixed boundary setings to East term\n",
    "            a_E = boundaryCellDisplacement([\"r\"], xy).a_E\n",
    "\n",
    "    if boundary == \"l\":\n",
    "\n",
    "        if BC_settings(\"l\").traction:\n",
    "            # Apply traction settings to West term\n",
    "            a_W = 0\n",
    "\n",
    "        elif BC_settings(\"l\").fixed_displacement:\n",
    "            # Apply fixed boundary setings to West term\n",
    "            a_W = boundaryCellDisplacement([boundary], xy).a_W\n",
    "\n",
    "if transient:\n",
    "    a_P = (rho*dx*dy/(dt**2)) + a_N + a_S + a_E + a_W\n",
    "\n",
    "else:\n",
    "    a_P = a_N + a_S + a_E + a_W"
   ]
  },
  {
   "cell_type": "markdown",
   "metadata": {},
   "source": [
    "# $b$-matrix terms\n"
   ]
  },
  {
   "cell_type": "markdown",
   "metadata": {},
   "source": [
    "**Fixed Displacement:** The b-terms are obtained using the <code>corner</code> function which approximtes the displacement at the mesh vertces on the boundaries. \n",
    "\n",
    "**Fixed Traction:** The b-terms are obtained using the same <code>corner</code> function as fixed dispalcements. However, if the term for the face on the boundry is \"overruled\" or equal to the boundary traction times the face area (force term). \n",
    "\n",
    "So for both b-terms we can write a function that applies the correct function depending on the boundary condition. However, we need to add the <code>corner</code> function to allow for the displacements at the corner"
   ]
  },
  {
   "cell_type": "code",
   "execution_count": 25,
   "metadata": {},
   "outputs": [],
   "source": [
    "# This part if for the corner point displacements - This is added to the end of boundaryCellDisplacement.corner\n",
    "\n",
    "if len(boundaries) > 1:\n",
    "\n",
    "    # The order of boundaries shouldn't matter shouldn't matter\n",
    "    for boundary in boundaries:\n",
    "        if boundary == \"b\":\n",
    "            for boundary in boundaries:\n",
    "                # bottom left\n",
    "                if (boundary == \"l\") & (corner_placement == \"SW\"):\n",
    "                    corner = disp.SW \n",
    "                # bottom right\n",
    "                if (boundaries == \"r\") & (corner_placement == \"SE\"):\n",
    "                    corner = disp.SE\n",
    "        if boundary == \"t\":\n",
    "            for boundary in boundaries:\n",
    "                #top left\n",
    "                if (boundary == \"l\") & (corner_placement == \"NW\"):\n",
    "                    corner = disp.NW\n",
    "                #top right\n",
    "                if (boundaries == \"r\") & (corner_placement == \"NE\"):\n",
    "                    corner = disp.NE"
   ]
  },
  {
   "cell_type": "markdown",
   "metadata": {},
   "source": [
    "Putting this together to create a single function:"
   ]
  },
  {
   "cell_type": "code",
   "execution_count": 26,
   "metadata": {},
   "outputs": [],
   "source": [
    "# Write a function that reads each corner boundary BC (traction or displacement) and applies the correct a and b terms\n",
    "\n",
    "#This will take in boundaries array, example: [t,l] -> this means top left corner\n",
    "#It will then search BC_settings \n",
    "\n",
    "def cell_corner_BCs(A_matrix, b_matrix, k, boundaries, xy, U_previous, U_old, U_old_old):\n",
    "\n",
    "    a_N = A(xy).a_N\n",
    "    a_S = A(xy).a_S\n",
    "    a_E = A(xy).a_E\n",
    "    a_W = A(xy).a_W\n",
    "\n",
    "    #Overrule a terms for on the boundary\n",
    "\n",
    "    for boundary in boundaries:\n",
    "\n",
    "        if boundary == \"t\":\n",
    "\n",
    "            if BC_settings(\"t\").traction:\n",
    "\n",
    "                # Apply traction settings to North term\n",
    "                a_N = 0        \n",
    "            \n",
    "            elif BC_settings(\"t\").fixed_displacement:\n",
    "\n",
    "                # Apply fixed boundary setings to North term\n",
    "                a_N = boundaryCellDisplacement([\"t\"], xy).a_N  \n",
    "\n",
    "        if boundary == \"b\":\n",
    "\n",
    "            if BC_settings(\"b\").traction:\n",
    "\n",
    "                # Apply traction settings to South term\n",
    "                a_S = 0\n",
    "\n",
    "            elif BC_settings(\"b\").fixed_displacement:\n",
    "\n",
    "                # Apply fixed boundary setings to South term\n",
    "                a_S = boundaryCellDisplacement([\"b\"], xy).a_S\n",
    "\n",
    "        if boundary == \"r\":\n",
    "\n",
    "            if BC_settings(\"r\").traction:\n",
    "\n",
    "                # Apply traction settings to East term\n",
    "                a_E = 0\n",
    "\n",
    "            elif BC_settings(\"r\").fixed_displacement:\n",
    "\n",
    "                # Apply fixed boundary setings to East term\n",
    "                a_E = boundaryCellDisplacement([\"r\"], xy).a_E\n",
    "\n",
    "        if boundary == \"l\":\n",
    "\n",
    "            if BC_settings(\"l\").traction:\n",
    "\n",
    "                # Apply traction settings to West term\n",
    "                a_W = 0\n",
    "\n",
    "            elif BC_settings(\"l\").fixed_displacement:\n",
    "\n",
    "                # Apply fixed boundary setings to West term\n",
    "                a_W = boundaryCellDisplacement([boundary], xy).a_W\n",
    "\n",
    "    if transient:\n",
    "        a_P = (rho*dx*dy/(dt**2)) + a_N + a_S + a_E + a_W\n",
    "\n",
    "    else:\n",
    "        a_P = a_N + a_S + a_E + a_W\n",
    "\n",
    "    #Aply a terms to matrices\n",
    "\n",
    "    A_matrix[k,k] = a_P\n",
    "\n",
    "    #an\n",
    "    A_matrix[k,index(k).n] = - a_N        \n",
    "    #as\n",
    "    A_matrix[k,index(k).s] = - a_S   \n",
    "    #ae\n",
    "    A_matrix[k, index(k).e] = - a_E\n",
    "    #aw\n",
    "    A_matrix[k, index(k).w] = - a_W\n",
    "\n",
    "\n",
    "    # b force\n",
    "\n",
    "    def b_force(boundaries, k, xy, U_previous):\n",
    "\n",
    "        if xy == \"x\":\n",
    "            uv = \"v\"\n",
    "        if xy == \"y\":\n",
    "            uv = \"u\"\n",
    "            \n",
    "        N_term =(\n",
    "                    Sfy*A.coef(xy, \"N\", uv)*(\n",
    "                    (boundaryCellDisplacement.corner(boundaries, \"NE\", uv, U_previous, k) - boundaryCellDisplacement.corner(boundaries, \"NW\", uv, U_previous, k))\n",
    "                    /dx)\n",
    "                )\n",
    "        S_term =(\n",
    "                    Sfy*A.coef(xy, \"S\", uv)*(\n",
    "                        (boundaryCellDisplacement.corner(boundaries, \"SE\", uv, U_previous, k) - boundaryCellDisplacement.corner(boundaries, \"SW\", uv, U_previous, k))\n",
    "                        /dx)\n",
    "                ) \n",
    "        E_term =(\n",
    "                    Sfx*A.coef(xy, \"E\", uv)*(\n",
    "                        (boundaryCellDisplacement.corner(boundaries, \"NE\", uv, U_previous, k) - boundaryCellDisplacement.corner(boundaries, \"SE\", uv, U_previous, k))\n",
    "                        /dy)\n",
    "                ) \n",
    "        W_term =(\n",
    "                    Sfx*A.coef(xy, \"W\", uv)*(\n",
    "                        (boundaryCellDisplacement.corner(boundaries, \"NW\", uv, U_previous, k) - boundaryCellDisplacement.corner(boundaries, \"SW\", uv, U_previous, k))\n",
    "                        /dy)\n",
    "                )\n",
    "\n",
    "        # Apply force term (Area x Traction) to boundary face term \n",
    "        # if traction boundary condition is used.\n",
    "        for boundary in boundaries:\n",
    "\n",
    "            if BC_settings(\"t\").traction:\n",
    "                if (boundary == \"t\") & (xy == \"x\") : N_term =  Sfy*tr_top_x\n",
    "                if (boundary == \"t\") & (xy == \"y\") : N_term =  Sfy*tr_top_y\n",
    "\n",
    "            if BC_settings(\"b\").traction:\n",
    "                if (boundary == \"b\") & (xy == \"x\") : S_term =  Sfy*tr_bottom_x  \n",
    "                if (boundary == \"b\") & (xy == \"y\") : S_term =  Sfy*tr_bottom_y \n",
    "\n",
    "            if BC_settings(\"r\").traction:\n",
    "                if (boundary == \"r\") & (xy == \"x\") : E_term =  Sfx*tr_right_x  \n",
    "                if (boundary == \"r\") & (xy == \"y\") : E_term =  Sfx*tr_right_y     \n",
    "\n",
    "            if BC_settings(\"l\").traction:\n",
    "                if (boundary == \"l\") & (xy == \"x\") : W_term =  Sfx*tr_left_x  \n",
    "                if (boundary == \"l\") & (xy == \"y\") : W_term =  Sfx*tr_left_y      \n",
    "\n",
    "        b_force = N_term + S_term + E_term + W_term\n",
    "\n",
    "        return b_force\n",
    "\n",
    "\n",
    "    b_matrix[k] =(\n",
    "            A.b_temp(U_old, U_old_old, k, xy)\n",
    "            +\n",
    "            b_force(boundaries, k, xy, U_previous)\n",
    "        )  \n",
    "\n",
    "    return A_matrix, b_matrix    \n",
    "\n",
    "\n"
   ]
  },
  {
   "cell_type": "markdown",
   "metadata": {},
   "source": [
    "# Corner points\n",
    "\n",
    "To determine the displacement at the corner, we will use an approximation which is consistent with the approximations used previously. "
   ]
  },
  {
   "cell_type": "markdown",
   "metadata": {},
   "source": [
    "Following the same method used for approximating displacement, we can say that the displacement at point **SW** is equal to the average of the four surrounding vertices (blue).\n"
   ]
  },
  {
   "cell_type": "markdown",
   "metadata": {},
   "source": [
    "<img src=\"./Paper_Images/corner_points.png\" alt=\"Drawing\" style=\"width: 400px;\"/>\n"
   ]
  },
  {
   "cell_type": "markdown",
   "metadata": {},
   "source": [
    "This gives:\n",
    "\n",
    "$$\n",
    "SW  = \\frac{1}{4}\\left(P + \\frac{1}{2}(S + S,S) + \\frac{1}{2}(W+ W,W)  + \\frac{1}{4}(SW + W, SW + S, SW + SW, SW)\\right)\n",
    "$$\n",
    "\n",
    "$$\n",
    "16 (SW)  = 4P + 2(S + S,S) + 2(W+ W,W)  + 1(SW + W, SW + S, SW + SW, SW)\n",
    "$$\n",
    "\n",
    "$$\n",
    "4P -15SW + 2S + 2S,S + 2W + 2W,W  + W,SW + S,SW + SW, SW = 0\n",
    "$$\n"
   ]
  },
  {
   "cell_type": "markdown",
   "metadata": {},
   "source": [
    "Repeating for each corner gives:\n"
   ]
  },
  {
   "cell_type": "markdown",
   "metadata": {},
   "source": [
    "Top Left:\n",
    "\n",
    "$$\n",
    "4P -15SE + 2S + 2S,S + 2E + 2E,E  + E,SE + S,SE + SE, SE = 0\n",
    "$$\n"
   ]
  },
  {
   "cell_type": "markdown",
   "metadata": {},
   "source": [
    "Bottom Left:\n",
    "\n",
    "$$\n",
    "4P -15NE + 2N + 2N,N + 2E + 2E,E  + E,NE + N,NE + NE, NE = 0\n",
    "$$\n"
   ]
  },
  {
   "cell_type": "markdown",
   "metadata": {},
   "source": [
    "Bottom right:\n",
    "\n",
    "$$\n",
    "4P -15NW + 2N + 2N,N + 2W + 2W,W  + W,NW + N,NW + NW, NW = 0\n",
    "$$\n"
   ]
  },
  {
   "cell_type": "markdown",
   "metadata": {},
   "source": [
    "Coding the top left corner expressions:\n"
   ]
  },
  {
   "cell_type": "code",
   "execution_count": 27,
   "metadata": {},
   "outputs": [],
   "source": [
    "b_matrix = np.zeros([(ny+2)*(nx+2),1])\n",
    "A_matrix = A(\"x\").createMatrix()        \n"
   ]
  },
  {
   "cell_type": "code",
   "execution_count": 28,
   "metadata": {},
   "outputs": [],
   "source": [
    "A_matrix[k, k] = 4\n",
    "\n",
    "A_matrix[k, index(k).s] = 2\n",
    "A_matrix[k, index(k).w] = 2\n",
    "\n",
    "A_matrix[k, index(k).sw] = -15\n",
    "\n",
    "A_matrix[k, index(k).dir([\"s\", \"s\"])] = 2\n",
    "A_matrix[k, index(k).dir([\"w\", \"w\"])] = 2\n",
    "\n",
    "A_matrix[k, index(k).dir([\"s\", \"sw\"])] = 1\n",
    "A_matrix[k, index(k).dir([\"sw\", \"sw\"])] = 1\n",
    "A_matrix[k, index(k).dir([\"w\", \"sw\"])] = 1\n",
    "\n",
    "b_matrix[k] = 0"
   ]
  },
  {
   "cell_type": "markdown",
   "metadata": {},
   "source": [
    "Should this approximation be for every corner point? \n",
    "\n",
    "There's no correct answer to this question. However it may help convergence to avoid using this when possible. \n",
    "\n",
    "Since this is an approximation of displacement, it would make sense to use the fixed displacement value if the corner point is on a boundary with fixed displacement. \n",
    "\n",
    "However, what if it is at a corner with 2 different fixed displacement values? Then we should use the approximation as there can't be two different displacements at one point. \n",
    "\n",
    "So, there's three different scenarios that can happen:\n",
    "\n",
    "- Fixed Displacement & Fixed Traction  $\\rightarrow$ Use Fixed Displacement\n",
    "- Fixed Displacement & Fixed Displacement  $\\rightarrow$ Use Approximation\n",
    "- Fixed Traction & Fixed Traction     $\\rightarrow$ Use Approximation"
   ]
  },
  {
   "cell_type": "code",
   "execution_count": 29,
   "metadata": {},
   "outputs": [],
   "source": [
    "boundaries = [\"t\", \"r\"]\n",
    "\n",
    "if BC_settings(boundaries[0]).fixed_displacement & BC_settings(boundaries[1]).traction:\n",
    "    A_matrix, b_matrix = displacement_point_BCs(A_matrix, b_matrix, k, boundaries[0], xy)\n",
    "\n",
    "elif BC_settings(boundaries[0]).traction & BC_settings(boundaries[1]).fixed_displacement:\n",
    "    A_matrix, b_matrix = displacement_point_BCs(A_matrix, b_matrix, k, boundaries[1], xy)\n",
    "\n",
    "else: \n",
    "\n",
    "    A_matrix[k,k] = 4\n",
    "\n",
    "    A_matrix[k,index(k).s] = 2 \n",
    "    A_matrix[k,index(k).w] = 2\n",
    "\n",
    "    A_matrix[k,index(k).sw] = -15\n",
    "\n",
    "    A_matrix[k,index(k).dir([\"s\", \"s\"])] = 2 \n",
    "    A_matrix[k,index(k).dir([\"w\", \"w\"])] = 2\n",
    "\n",
    "    A_matrix[k,index(k).dir([\"s\", \"sw\"])] = 1\n",
    "    A_matrix[k,index(k).dir([\"sw\", \"sw\"])] = 1\n",
    "    A_matrix[k,index(k).dir([\"w\", \"sw\"])] = 1\n",
    "\n",
    "    b_matrix[k] = 0  "
   ]
  },
  {
   "cell_type": "code",
   "execution_count": null,
   "metadata": {},
   "outputs": [],
   "source": []
  }
 ],
 "metadata": {
  "interpreter": {
   "hash": "18ed160ad9db49083d5c6dbf82376d1730af41ed005a12d6dc5900d1b4ae07ba"
  },
  "kernelspec": {
   "display_name": "Python 3 (ipykernel)",
   "language": "python",
   "name": "python3"
  },
  "language_info": {
   "codemirror_mode": {
    "name": "ipython",
    "version": 3
   },
   "file_extension": ".py",
   "mimetype": "text/x-python",
   "name": "python",
   "nbconvert_exporter": "python",
   "pygments_lexer": "ipython3",
   "version": "3.9.5"
  }
 },
 "nbformat": 4,
 "nbformat_minor": 4
}
