{
 "cells": [
  {
   "cell_type": "code",
   "execution_count": 170,
   "metadata": {},
   "outputs": [],
   "source": [
    "import numpy as np\n",
    "import pandas as pd\n",
    "import math\n",
    "from scipy.sparse import csr_matrix\n",
    "from scipy.sparse.linalg import spsolve\n",
    "\n",
    "def printVar (varname, var):\n",
    "\n",
    "    print(varname)\n",
    "    print(var)\n",
    "\n",
    "def saveArray (name, array):\n",
    "\n",
    "    pd.DataFrame(array).to_csv(\"savedVariables/\" + name + \".csv\", index=False, header=None)\n",
    "\n"
   ]
  },
  {
   "cell_type": "code",
   "execution_count": 171,
   "metadata": {},
   "outputs": [
    {
     "data": {
      "text/plain": [
       "True"
      ]
     },
     "execution_count": 171,
     "metadata": {},
     "output_type": "execute_result"
    }
   ],
   "source": [
    "# Set Boundary Conditions:\n",
    "class BC_settings:\n",
    "\n",
    "    left = \"fixed_displacement\"\n",
    "    right = \"fixed_displacement\"\n",
    "    top = \"fixed_displacement\"\n",
    "    bottom = \"fixed_displacement\"\n",
    "\n",
    "    def __init__(self, edge):\n",
    "\n",
    "        if edge == \"l\":\n",
    "            if BC_settings.left == \"traction\":\n",
    "                self.traction = True\n",
    "                self.fixed_displacement = False\n",
    "            elif BC_settings.left == \"fixed_displacement\":\n",
    "                self.fixed_displacement = True\n",
    "                self.traction = False\n",
    "\n",
    "        if edge == \"r\":\n",
    "            if BC_settings.right == \"traction\":\n",
    "                self.traction = True\n",
    "                self.fixed_displacement = False\n",
    "            elif BC_settings.right == \"fixed_displacement\":\n",
    "                self.fixed_displacement = True\n",
    "                self.traction = False\n",
    "\n",
    "        if edge == \"t\":\n",
    "            if BC_settings.top == \"traction\":\n",
    "                self.traction = True\n",
    "                self.fixed_displacement = False\n",
    "            elif BC_settings.top == \"fixed_displacement\":\n",
    "                self.fixed_displacement = True\n",
    "                self.traction = False\n",
    "\n",
    "        if edge == \"b\":\n",
    "            if BC_settings.bottom == \"traction\":\n",
    "                self.traction = True\n",
    "                self.fixed_displacement = False\n",
    "            elif BC_settings.bottom == \"fixed_displacement\":\n",
    "                self.fixed_displacement = True\n",
    "                self.traction = False\n",
    "\n",
    "BC_settings(\"b\").fixed_displacement"
   ]
  },
  {
   "cell_type": "code",
   "execution_count": 172,
   "metadata": {},
   "outputs": [],
   "source": [
    "# Solve the 2D Navier-Cauchy equation using a segregated finite volume method\n",
    "\n",
    "# Define mesh geometry and boundary conditions\n",
    "\n",
    "Lx = .01 #width of domain\n",
    "Ly = .01 #height of domain\n",
    "\n",
    "fac = 1\n",
    "\n",
    "# tr_left_x = -1     #u boundary condition at the left boundary\n",
    "# tr_left_y =  0     #v boundary condition at the left boundary\n",
    "\n",
    "tr_right_x = 0    #u boundary condition at the right boundary\n",
    "tr_right_y = -1    #v boundary condition at the right boundary\n",
    "\n",
    "tr_top_x = 0    #u boundary condition at the top boundary\n",
    "tr_top_y = 0       #v boundary condition at the top boundary\n",
    "\n",
    "tr_bottom_x = 0    #u boundary condition at the bottom boundary \n",
    "tr_bottom_y = 0  #v boundary condition at the bottom boundary\n",
    "\n",
    "nx = 8          #number of control volumes in the x-direction\n",
    "ny = 8         #number of control volumes in the y-direction\n",
    "\n",
    "# u_bottom = -1e-20\n",
    "# v_bottom = -1e-20\n",
    "\n",
    "# u_top = 1e-20\n",
    "# v_top = 1e-20\n",
    "\n",
    "# u_left = -1e-20\n",
    "# v_left = -1e-20\n",
    "\n",
    "# u_right = 1e-20\n",
    "# v_right = 1e-20\n",
    "\n",
    "\n",
    "# u_bottom = -1e-6\n",
    "# v_bottom = -1e-6*0\n",
    "\n",
    "# u_top = 1e-6\n",
    "# v_top = 1e-6*0\n",
    "\n",
    "# u_left = -1e-6*0\n",
    "# v_left = -1e-6\n",
    "\n",
    "# u_right = 1e-6*0\n",
    "# v_right = 1e-6\n",
    "\n",
    "# u_bottom = 1e-20\n",
    "# v_bottom = 1e-20\n",
    "\n",
    "# u_top =  1e-20\n",
    "# v_top =  1e-20\n",
    "\n",
    "# u_left =  1e-20\n",
    "# v_left =  1e-20\n",
    "\n",
    "# u_right = 1e-20\n",
    "# v_right =  1e-20\n",
    "\n",
    "u_bottom = -1e-6\n",
    "v_bottom = -1e-6\n",
    "\n",
    "u_top = 1e-6\n",
    "v_top = 1e-6\n",
    "\n",
    "u_left = -1e-6\n",
    "v_left = -1e-6\n",
    "\n",
    "u_right = 1e-6\n",
    "v_right = 1e-6"
   ]
  },
  {
   "cell_type": "code",
   "execution_count": 173,
   "metadata": {},
   "outputs": [
    {
     "name": "stdout",
     "output_type": "stream",
     "text": [
      "8\n"
     ]
    }
   ],
   "source": [
    "sys.path.append(\"/home/scottlevie/pythonsolver/tractionBCs/Classes/\")\n",
    "\n",
    "from index_and_direction import dim\n",
    "\n",
    "print(dim().nx)"
   ]
  },
  {
   "cell_type": "code",
   "execution_count": 174,
   "metadata": {},
   "outputs": [],
   "source": [
    "from index_and_direction import index\n",
    "from index_and_direction import boundary_point_index\n",
    "from index_and_direction import cell_index\n",
    "from index_and_direction import displacement"
   ]
  },
  {
   "cell_type": "code",
   "execution_count": 175,
   "metadata": {},
   "outputs": [],
   "source": [
    "# Define material properties\n",
    "\n",
    "rho = 8050         #density of steel in kg/m^3\n",
    "mu = 78*10e9       #shear modulus in Pa\n",
    "K = 1.6*10e11      #bulk modulus in Pa\n",
    "\n",
    "Lambda = K - (2/3)*mu\n",
    "\n",
    "#print(Lambda)"
   ]
  },
  {
   "cell_type": "code",
   "execution_count": 176,
   "metadata": {},
   "outputs": [],
   "source": [
    "## Define required variables\n",
    "\n",
    "tf = 0.01           #total time in seconds\n",
    "dx = Lx/nx          #length of each control volume in the x-direction\n",
    "dy = Ly/ny          #length of each control volume in the y-direction\n",
    "dt = tf/10          #size of time steps\n",
    "Sfx = dy            #area vector x component (Area of East and West Faces)\n",
    "Sfy = dx            #area vector y component (Area of North and South Faces)\n"
   ]
  },
  {
   "cell_type": "code",
   "execution_count": 177,
   "metadata": {},
   "outputs": [],
   "source": [
    "## Define  position and time vectors\n",
    "\n",
    "t = np.array(np.arange(0,tf, dt))        #time vector (could possibly use a list)\n",
    "x = np.zeros((1,nx+2))   #position vector defining the center points of the control volumes in the x-direction.\n",
    "x[0,nx+1] = Lx\n",
    "x[0,1:nx+1] = np.arange(dx/2,Lx,dx)\n",
    "\n",
    "t = np.array(np.arange(0,tf, dt))        #time vector (could possibly use a list)\n",
    "y = np.zeros((1,ny+2))   #position vector defining the center points of the control volumes in the y-direction.\n",
    "y[0,ny+1] = Ly\n",
    "y[0,1:ny+1] = np.arange(dy/2,Ly,dy)"
   ]
  },
  {
   "cell_type": "code",
   "execution_count": 178,
   "metadata": {},
   "outputs": [],
   "source": [
    "## Define required displacement matrices and b vector\n",
    "\n",
    "u_new = np.zeros([(ny+2)*(nx+2),2])         #unknown displacements at t + 1    (Column 1 = x, Column2 = y)\n",
    "u_old = np.zeros([(ny+2)*(nx+2),2])         #displacement at time t\n",
    "u_old_old = np.zeros([(ny+2)*(nx+2),2])     #displacement at time t - 1\n",
    "\n",
    "#rhs vector\n",
    "b_x = np.zeros([(ny+2)*(nx+2),1])\n",
    "b_y = np.zeros([(ny+2)*(nx+2),1])"
   ]
  },
  {
   "cell_type": "markdown",
   "metadata": {},
   "source": [
    "## X equation:"
   ]
  },
  {
   "cell_type": "code",
   "execution_count": 179,
   "metadata": {},
   "outputs": [],
   "source": [
    "class A(index, displacement):\n",
    "\n",
    "    val = \"value that stays in class without changning with instance\"\n",
    "\n",
    "    def __init__(self, xy):\n",
    "\n",
    "        if xy == \"x\":\n",
    "\n",
    "            self.a_P = (rho*dx*dy/(dt**2))+((4*mu+2*Lambda)*Sfx)/dx + ((2*mu)*Sfy)/dy\n",
    "            self.a_N = + A.coef(xy, \"N\", \"u\")*(Sfy)/dy\n",
    "            self.a_S = - A.coef(xy, \"S\", \"u\")*(Sfy)/dy\n",
    "            self.a_E = + A.coef(xy, \"E\", \"u\")*(Sfx)/dx\n",
    "            self.a_W = - A.coef(xy, \"W\", \"u\")*(Sfx)/dx\n",
    "\n",
    "        if xy == \"y\":\n",
    "\n",
    "            self.a_P = (rho*dx*dy/(dt**2))+((4*mu+2*Lambda)*Sfy)/dy + ((2*mu)*Sfx)/dx \n",
    "            self.a_N = + A.coef(xy, \"N\", \"v\")*(Sfy)/dy\n",
    "            self.a_S = - A.coef(xy, \"S\", \"v\")*(Sfy)/dy\n",
    "            self.a_E = + A.coef(xy, \"E\", \"v\")*(Sfx)/dx\n",
    "            self.a_W = - A.coef(xy, \"W\", \"v\")*(Sfx)/dx\n",
    "\n",
    "    def createMatrix(self):\n",
    "\n",
    "        A_no_boundary = np.zeros([(ny+2)*(nx+2), (ny+2)*(nx+2)])\n",
    "        # A_no_boundary = csr_matrix(A_no_boundary)  \n",
    "\n",
    "        for j in np.arange(2, ny):     \n",
    "\n",
    "            for k in np.arange((j*(nx+2)+2), (j*(nx+2)+nx)):  \n",
    "                \n",
    "                A_no_boundary[k,k] = self.a_P\n",
    "                A_no_boundary[k,index(k).n] = -self.a_N\n",
    "                A_no_boundary[k,index(k).s] = -self.a_S\n",
    "                A_no_boundary[k, index(k).e] = -self.a_E\n",
    "                A_no_boundary[k, index(k).w] = -self.a_W\n",
    "\n",
    "        return A_no_boundary\n",
    "\n",
    "    # b temporal term\n",
    "    def b_temp(u_old, u_old_old, k, xy):\n",
    "\n",
    "        if xy == \"x\":\n",
    "            b_temporal_term = (rho/(dt**2))*( 2*(u_old[k,0])*dx*dy - u_old_old[k,0]*dx*dy)\n",
    "        if xy == \"y\":\n",
    "            b_temporal_term = (rho/(dt**2))*( 2*(u_old[k,1])*dx*dy - u_old_old[k,1]*dx*dy)\n",
    "        \n",
    "        return b_temporal_term\n",
    "    \n",
    "    def b_diff(k, xy, u_previous):\n",
    "\n",
    "        if xy == \"x\":\n",
    "            uv = \"v\"\n",
    "        if xy == \"y\":\n",
    "            uv = \"u\"\n",
    "\n",
    "        b_diffusion = (\n",
    "                                Sfy*A.coef(xy, \"N\", uv)*(\n",
    "                                    (A.corner(\"NE\", uv, u_previous, k) - A.corner(\"NW\", uv, u_previous, k))\n",
    "                                    /dx)\n",
    "                                + \n",
    "                                Sfy*A.coef(xy, \"S\", uv)*(\n",
    "                                    (A.corner(\"SE\", uv, u_previous, k) - A.corner(\"SW\", uv, u_previous, k))\n",
    "                                    /dx)\n",
    "                                +\n",
    "                                Sfx*A.coef(xy, \"E\", uv)*(\n",
    "                                    (A.corner(\"NE\", uv, u_previous, k) - A.corner(\"SE\", uv, u_previous, k))\n",
    "                                    /dy)\n",
    "                                +\n",
    "                                Sfx*A.coef(xy, \"W\", uv)*(\n",
    "                                    (A.corner(\"NW\", uv, u_previous, k) - A.corner(\"SW\", uv, u_previous, k))\n",
    "                                    /dy)\n",
    "        )\n",
    "\n",
    "        return b_diffusion\n",
    "    \n",
    "    def corner(corner_placement, uv, u_previous, k):\n",
    "        if uv == \"u\":\n",
    "            uv_i = 0\n",
    "        elif uv == \"v\":\n",
    "            uv_i = 1\n",
    "\n",
    "        disp = displacement(k, u_previous, uv_i)\n",
    "\n",
    "        if corner_placement == \"NE\":\n",
    "            return (1/4)*(disp.P + disp.NE + disp.N + disp.E)\n",
    "        if corner_placement == \"SE\":\n",
    "            return (1/4)*(disp.P + disp.SE + disp.S + disp.E)\n",
    "        if corner_placement == \"SW\":\n",
    "            return (1/4)*(disp.P + disp.SW + disp.S + disp.W)\n",
    "        if corner_placement == \"NW\":\n",
    "            return (1/4)*(disp.P + disp.NW + disp.N + disp.W)\n",
    "\n",
    "\n",
    "    \n",
    "    def coef(xy, face, uv):\n",
    "        # could have and statements\n",
    "        if xy == \"x\":\n",
    "            if face == \"N\":\n",
    "                if uv == \"u\":\n",
    "                    return mu\n",
    "                if uv == \"v\":\n",
    "                    return mu\n",
    "            if face == \"S\":\n",
    "                if uv == \"u\":\n",
    "                    return - mu\n",
    "                if uv == \"v\":\n",
    "                    return - mu\n",
    "            if face == \"E\":\n",
    "                if uv == \"u\":\n",
    "                    return 2*mu + Lambda\n",
    "                if uv == \"v\":\n",
    "                    return Lambda\n",
    "            if face == \"W\":\n",
    "                if uv == \"u\":\n",
    "                    return - (2*mu + Lambda)\n",
    "                if uv == \"v\":\n",
    "                    return - Lambda\n",
    "\n",
    "        elif xy == \"y\":\n",
    "            if face == \"N\":\n",
    "                if uv == \"u\":\n",
    "                    return Lambda\n",
    "                if uv == \"v\":\n",
    "                    return 2*mu + Lambda\n",
    "            if face == \"S\":\n",
    "                if uv == \"u\":\n",
    "                    return - Lambda\n",
    "                if uv == \"v\":\n",
    "                    return - (2*mu + Lambda)\n",
    "            if face == \"E\":\n",
    "                if uv == \"u\":\n",
    "                    return mu\n",
    "                if uv == \"v\":\n",
    "                    return mu\n",
    "            if face == \"W\":\n",
    "                if uv == \"u\":\n",
    "                    return - mu\n",
    "                if uv == \"v\":\n",
    "                    return - mu\n",
    "\n",
    "u_previous = u_new\n",
    "\n",
    "# A.b_diff(25, \"x\", u_previous)"
   ]
  },
  {
   "cell_type": "code",
   "execution_count": 180,
   "metadata": {},
   "outputs": [],
   "source": [
    "class boundaryCellTraction(A):\n",
    "\n",
    "    def __init__(self, edges, xy):\n",
    "        \n",
    "        sw_S, sw_N, sw_W, sw_E = 1, 1, 1, 1\n",
    "\n",
    "        for edge in edges:\n",
    "            if edge == \"b\": sw_S = 0\n",
    "            if edge == \"t\": sw_N = 0\n",
    "            if edge == \"l\": sw_W = 0\n",
    "            if edge == \"r\": sw_E = 0\n",
    "        \n",
    "        self.a_P = (rho*dx*dy/(dt**2)) + A(xy).a_N*sw_N + A(xy).a_S**sw_S + A(xy).a_E*sw_E + A(xy).a_W*sw_W\n",
    "        \n",
    "        self.a_N = A(xy).a_N \n",
    "        self.a_S = A(xy).a_S \n",
    "        self.a_E = A(xy).a_E \n",
    "        self.a_W = A(xy).a_W \n",
    "\n",
    "        # self.a_faces = A(xy).a_N*sw_N + A(xy).a_S*sw_S + A(xy).a_E*sw_E + A(xy).a_W*sw_W \n",
    "\n",
    "    def b_temp(u_old, u_old_old, k, xy):      \n",
    "        return A.b_temp(u_old, u_old_old, k, xy)\n",
    "    \n",
    "    def b_diff(edges, k, xy, u_previous):\n",
    "\n",
    "        if xy == \"x\":\n",
    "            uv = \"v\"\n",
    "        if xy == \"y\":\n",
    "            uv = \"u\"\n",
    "            \n",
    "        N_term =(\n",
    "                    Sfy*A.coef(xy, \"N\", uv)*(\n",
    "                    (boundaryCellTraction.corner(edges, \"NE\", uv, u_previous, k) - boundaryCellTraction.corner(edges, \"NW\", uv, u_previous, k))\n",
    "                    /dx)\n",
    "                )\n",
    "        S_term =(\n",
    "                    Sfy*A.coef(xy, \"S\", uv)*(\n",
    "                        (boundaryCellTraction.corner(edges, \"SE\", uv, u_previous, k) - boundaryCellTraction.corner(edges, \"SW\", uv, u_previous, k))\n",
    "                        /dx)\n",
    "                ) \n",
    "        E_term =(\n",
    "                    Sfx*A.coef(xy, \"E\", uv)*(\n",
    "                        (boundaryCellTraction.corner(edges, \"NE\", uv, u_previous, k) - boundaryCellTraction.corner(edges, \"SE\", uv, u_previous, k))\n",
    "                        /dy)\n",
    "                ) \n",
    "        W_term =(\n",
    "                    Sfx*A.coef(xy, \"W\", uv)*(\n",
    "                        (boundaryCellTraction.corner(edges, \"NW\", uv, u_previous, k) - boundaryCellTraction.corner(edges, \"SW\", uv, u_previous, k))\n",
    "                        /dy)\n",
    "                )\n",
    "\n",
    "        for edge in edges:\n",
    "\n",
    "            if (edge == \"b\") & (xy == \"x\") : S_term =  Sfy*tr_bottom_x  \n",
    "            if (edge == \"b\") & (xy == \"y\") : S_term =  Sfy*tr_bottom_y  \n",
    "            if (edge == \"t\") & (xy == \"x\") : N_term =  Sfy*tr_top_x  \n",
    "            if (edge == \"t\") & (xy == \"y\") : N_term =  Sfy*tr_top_y  \n",
    "            if (edge == \"l\") & (xy == \"x\") : W_term =  Sfx*tr_left_x  \n",
    "            if (edge == \"l\") & (xy == \"y\") : W_term =  Sfx*tr_left_y  \n",
    "            if (edge == \"r\") & (xy == \"x\") : E_term =  Sfx*tr_right_x  \n",
    "            if (edge == \"r\") & (xy == \"y\") : E_term =  Sfx*tr_right_y        \n",
    "\n",
    "        b_diffusion = (N_term + S_term + E_term + W_term)\n",
    "\n",
    "        return b_diffusion\n",
    "    \n",
    "    def corner(edges, corner_placement, uv, u_previous, k):\n",
    "\n",
    "        if uv == \"u\":\n",
    "            uv_i = 0\n",
    "        elif uv == \"v\":\n",
    "            uv_i = 1\n",
    "\n",
    "        disp = displacement(k, u_previous, uv_i)\n",
    "\n",
    "        if corner_placement == \"NE\":\n",
    "            corner =  (1/4)*(disp.P + disp.NE + disp.N + disp.E)\n",
    "        if corner_placement == \"SE\":\n",
    "            corner =  (1/4)*(disp.P + disp.SE + disp.S + disp.E)\n",
    "        if corner_placement == \"SW\":\n",
    "            corner =  (1/4)*(disp.P + disp.SW + disp.S + disp.W)\n",
    "        if corner_placement == \"NW\":\n",
    "            corner =  (1/4)*(disp.P + disp.NW + disp.N + disp.W)\n",
    "\n",
    "        for edge in edges:\n",
    "            if (edge == \"b\") & (corner_placement == \"SE\"):\n",
    "                corner =  (1/2)*(disp.SE + disp.S)\n",
    "            if (edge == \"b\") & (corner_placement == \"SW\"):\n",
    "                corner =  (1/2)*(disp.SW + disp.S)\n",
    "\n",
    "            if (edge == \"t\") & (corner_placement == \"NE\"):\n",
    "                corner =  (1/2)*(disp.NE + disp.N)\n",
    "            if (edge == \"t\") & (corner_placement == \"NW\"):\n",
    "                corner =  (1/2)*(disp.NW + disp.N)\n",
    "\n",
    "            if (edge == \"l\") & (corner_placement == \"NW\"):\n",
    "                corner =  (1/2)*(disp.NW + disp.W)\n",
    "            if (edge == \"l\") & (corner_placement == \"SW\"):\n",
    "                corner =  (1/2)*(disp.SW + disp.W)\n",
    "\n",
    "            if (edge == \"r\") & (corner_placement == \"NE\"):\n",
    "                corner =  (1/2)*(disp.NE + disp.E)\n",
    "            if (edge == \"r\") & (corner_placement == \"SE\"):\n",
    "                corner =  (1/2)*(disp.SE + disp.E)\n",
    "        \n",
    "        return corner\n",
    "\n",
    "# boundaryCellTraction.b_diff([\"b\", \"l\"], 14, \"x\", u_previous)\n",
    "   "
   ]
  },
  {
   "cell_type": "code",
   "execution_count": 181,
   "metadata": {},
   "outputs": [],
   "source": [
    "class boundaryPointTraction(A):\n",
    "\n",
    "    def __init__(self, edges, xy):    # The order matters for edges, bottom left corner on the bottom is : [\"b\", \"l\"]\n",
    "        \n",
    "        sw_S, sw_N, sw_W, sw_E = 0, 0, 0, 0\n",
    "\n",
    "        if edges[0] == \"b\": sw_S = 1\n",
    "        if edges[0] == \"t\": sw_N = 1\n",
    "        if edges[0] == \"l\": sw_W = 1\n",
    "        if edges[0] == \"r\": sw_E = 1\n",
    "        \n",
    "        a_P = (A(xy).a_N*sw_N + A(xy).a_S**sw_S + A(xy).a_E*sw_E + A(xy).a_W*sw_W)*2/(Sfy)\n",
    "        \n",
    "        a_N = A(xy).a_N*2/(Sfy) # are terms cancel in derivation\n",
    "        a_S = A(xy).a_S*2/(Sfy)\n",
    "        a_E = A(xy).a_E*2/(Sfx)\n",
    "        a_W = A(xy).a_W*2/(Sfx)\n",
    "\n",
    "        if edges[0] == \"b\":\n",
    "            self.a_N = a_P\n",
    "            self.a_P = a_S\n",
    "        if edges[0] == \"t\":\n",
    "            self.a_S = a_P\n",
    "            self.a_P = a_N\n",
    "        if edges[0] == \"l\":\n",
    "            self.a_E = a_P\n",
    "            self.a_P = a_W\n",
    "        if edges[0] == \"r\":\n",
    "            self.a_W = a_P\n",
    "            self.a_P = a_E\n",
    "    \n",
    "    def b_diff(edges, k, xy, u_previous):\n",
    "\n",
    "        if xy == \"x\":\n",
    "            uv = \"v\"\n",
    "        if xy == \"y\":\n",
    "            uv = \"u\"\n",
    "            \n",
    "        def N_term():\n",
    "            \n",
    "            N_term =( A.coef(xy, \"N\", uv)*(\n",
    "                    (boundaryPointTraction.corner(edges, \"E\", uv, u_previous, k) - boundaryPointTraction.corner(edges, \"W\", uv, u_previous, k))\n",
    "                    /dx)\n",
    "            )\n",
    "\n",
    "            return N_term\n",
    "\n",
    "        def S_term():\n",
    "            \n",
    "            S_term =(\n",
    "                    A.coef(xy, \"S\", uv)*(\n",
    "                        (boundaryPointTraction.corner(edges, \"E\", uv, u_previous, k) - boundaryPointTraction.corner(edges, \"W\", uv, u_previous, k))\n",
    "                        /dx)\n",
    "                ) \n",
    "            return S_term\n",
    "        def E_term():\n",
    "            \n",
    "            E_term =(\n",
    "                    A.coef(xy, \"E\", uv)*(\n",
    "                        (boundaryPointTraction.corner(edges, \"N\", uv, u_previous, k) - boundaryPointTraction.corner(edges, \"S\", uv, u_previous, k))\n",
    "                        /dy)\n",
    "                ) \n",
    "            return E_term\n",
    "        def W_term():\n",
    "            \n",
    "            W_term =(\n",
    "                        A.coef(xy, \"W\", uv)*(\n",
    "                        (boundaryPointTraction.corner(edges, \"N\", uv, u_previous, k) - boundaryPointTraction.corner(edges, \"S\", uv, u_previous, k))\n",
    "                        /dy)\n",
    "                )\n",
    "                \n",
    "            return W_term\n",
    "\n",
    "        # This can be tidied up/shortened\n",
    "\n",
    "        if (edges[0] == \"b\") & (xy == \"x\") : b_diffusion =  tr_bottom_x  + N_term()\n",
    "        if (edges[0] == \"b\") & (xy == \"y\") : b_diffusion =  tr_bottom_y  + N_term()\n",
    "        if (edges[0] == \"t\") & (xy == \"x\") : b_diffusion =  tr_top_x + S_term()\n",
    "        if (edges[0] == \"t\") & (xy == \"y\") : b_diffusion =  tr_top_y + S_term()\n",
    "        if (edges[0] == \"l\") & (xy == \"x\") : b_diffusion =  tr_left_x + E_term()\n",
    "        if (edges[0] == \"l\") & (xy == \"y\") : b_diffusion =  tr_left_y + E_term()\n",
    "        if (edges[0] == \"r\") & (xy == \"x\") : b_diffusion =  tr_right_x + W_term()\n",
    "        if (edges[0] == \"r\") & (xy == \"y\") : b_diffusion =  tr_right_y + W_term()  \n",
    "\n",
    "        return b_diffusion\n",
    "    \n",
    "    def corner(edges, corner_placement, uv, u_previous, k):\n",
    "\n",
    "        if uv == \"u\":\n",
    "            uv_i = 0\n",
    "        elif uv == \"v\":\n",
    "            uv_i = 1\n",
    "\n",
    "        disp = displacement(k, u_previous, uv_i)\n",
    "\n",
    "\n",
    "        if corner_placement == \"E\":\n",
    "            corner =  (1/2)*(disp.E + disp.P)\n",
    "        if corner_placement == \"W\":\n",
    "            corner =  (1/2)*(disp.W + disp.P)\n",
    "        if  corner_placement == \"N\":\n",
    "            corner =  (1/2)*(disp.N + disp.P)\n",
    "        if  corner_placement == \"S\":\n",
    "            corner =  (1/2)*(disp.S + disp.P)\n",
    "\n",
    "        if len(edges) > 1:\n",
    "\n",
    "            if (edges[1] == \"r\") & (corner_placement == \"E\"):\n",
    "                    corner =  disp.E\n",
    "            if (edges[1] == \"l\") & (corner_placement == \"W\"):\n",
    "                    corner =  disp.W\n",
    "            if (edges[1] == \"t\") & (corner_placement == \"N\"):\n",
    "                    corner =  disp.N\n",
    "            if (edges[1] == \"b\") & (corner_placement == \"S\"):\n",
    "                    corner =  disp.S\n",
    "        \n",
    "        return corner\n",
    "# boundaryCellTraction.b_diff([\"b\", \"l\"], 14, \"x\", u_previous)\n",
    "   "
   ]
  },
  {
   "cell_type": "code",
   "execution_count": 182,
   "metadata": {},
   "outputs": [],
   "source": [
    "class boundaryCellDisplacement(A):\n",
    "\n",
    "    def __init__(self, edges, xy):\n",
    "        \n",
    "        sw_S, sw_N, sw_W, sw_E = 1, 1, 1, 1\n",
    "\n",
    "        for edge in edges:\n",
    "            if edge == \"b\": sw_S = 2\n",
    "            if edge == \"t\": sw_N = 2\n",
    "            if edge == \"l\": sw_W = 2\n",
    "            if edge == \"r\": sw_E = 2\n",
    "        \n",
    "        self.a_P = (rho*dx*dy/(dt**2)) + A(xy).a_N*sw_N + A(xy).a_S**sw_S + A(xy).a_E*sw_E + A(xy).a_W*sw_W\n",
    "        \n",
    "        self.a_N = A(xy).a_N*sw_N\n",
    "        self.a_S = A(xy).a_S*sw_S\n",
    "        self.a_E = A(xy).a_E*sw_E\n",
    "        self.a_W = A(xy).a_W*sw_W\n",
    "\n",
    "    def b_temp(u_old, u_old_old, k, xy):      \n",
    "        return A.b_temp(u_old, u_old_old, k, xy)\n",
    "    \n",
    "    def b_diff(edges, k, xy, u_previous):\n",
    "\n",
    "        if xy == \"x\":\n",
    "            uv = \"v\"\n",
    "        if xy == \"y\":\n",
    "            uv = \"u\"\n",
    "            \n",
    "        N_term =(\n",
    "                    Sfy*A.coef(xy, \"N\", uv)*(\n",
    "                    (boundaryCellDisplacement.corner(edges, \"NE\", uv, u_previous, k) - boundaryCellDisplacement.corner(edges, \"NW\", uv, u_previous, k))\n",
    "                    /dx)\n",
    "                )\n",
    "        S_term =(\n",
    "                    Sfy*A.coef(xy, \"S\", uv)*(\n",
    "                        (boundaryCellDisplacement.corner(edges, \"SE\", uv, u_previous, k) - boundaryCellDisplacement.corner(edges, \"SW\", uv, u_previous, k))\n",
    "                        /dx)\n",
    "                ) \n",
    "        E_term =(\n",
    "                    Sfx*A.coef(xy, \"E\", uv)*(\n",
    "                        (boundaryCellDisplacement.corner(edges, \"NE\", uv, u_previous, k) - boundaryCellDisplacement.corner(edges, \"SE\", uv, u_previous, k))\n",
    "                        /dy)\n",
    "                ) \n",
    "        W_term =(\n",
    "                    Sfx*A.coef(xy, \"W\", uv)*(\n",
    "                        (boundaryCellDisplacement.corner(edges, \"NW\", uv, u_previous, k) - boundaryCellDisplacement.corner(edges, \"SW\", uv, u_previous, k))\n",
    "                        /dy)\n",
    "                ) \n",
    "\n",
    "        b_diffusion = (N_term + S_term + E_term + W_term)\n",
    "\n",
    "        return b_diffusion\n",
    "    \n",
    "    def corner(edges, corner_placement, uv, u_previous, k):\n",
    "\n",
    "        if uv == \"u\":\n",
    "            uv_i = 0\n",
    "        elif uv == \"v\":\n",
    "            uv_i = 1\n",
    "\n",
    "        disp = displacement(k, u_previous, uv_i)\n",
    "\n",
    "        if corner_placement == \"NE\":\n",
    "            corner =  (1/4)*(disp.P + disp.NE + disp.N + disp.E)\n",
    "        if corner_placement == \"SE\":\n",
    "            corner =  (1/4)*(disp.P + disp.SE + disp.S + disp.E)\n",
    "        if corner_placement == \"SW\":\n",
    "            corner =  (1/4)*(disp.P + disp.SW + disp.S + disp.W)\n",
    "        if corner_placement == \"NW\":\n",
    "            corner =  (1/4)*(disp.P + disp.NW + disp.N + disp.W)\n",
    "\n",
    "        for edge in edges:\n",
    "            if (edge == \"b\") & (corner_placement == \"SE\"):\n",
    "                corner =  (1/2)*(disp.SE + disp.S)\n",
    "            if (edge == \"b\") & (corner_placement == \"SW\"):\n",
    "                corner =  (1/2)*(disp.SW + disp.S)\n",
    "\n",
    "            if (edge == \"t\") & (corner_placement == \"NE\"):\n",
    "                corner =  (1/2)*(disp.NE + disp.N)\n",
    "            if (edge == \"t\") & (corner_placement == \"NW\"):\n",
    "                corner =  (1/2)*(disp.NW + disp.N)\n",
    "\n",
    "            if (edge == \"l\") & (corner_placement == \"NW\"):\n",
    "                corner =  (1/2)*(disp.NW + disp.W)\n",
    "            if (edge == \"l\") & (corner_placement == \"SW\"):\n",
    "                corner =  (1/2)*(disp.SW + disp.W)\n",
    "\n",
    "            if (edge == \"r\") & (corner_placement == \"NE\"):\n",
    "                corner =  (1/2)*(disp.NE + disp.E)\n",
    "            if (edge == \"r\") & (corner_placement == \"SE\"):\n",
    "                corner =  (1/2)*(disp.SE + disp.E)\n",
    "\n",
    "        if len(edges) > 1:\n",
    "\n",
    "            if (edges[0] == \"b\") & (edges[1] == \"l\") & (corner_placement == \"SW\"):\n",
    "                corner = disp.SW \n",
    "            if (edges[0] == \"b\") & (edges[1] == \"r\") & (corner_placement == \"SE\"):\n",
    "                corner = disp.SE\n",
    "            if (edges[0] == \"t\") & (edges[1] == \"l\") & (corner_placement == \"NW\"):\n",
    "                corner = disp.NW\n",
    "            if (edges[0] == \"t\") & (edges[1] == \"r\") & (corner_placement == \"NE\"):\n",
    "                corner = disp.NE\n",
    "\n",
    "        \n",
    "        return corner\n",
    "\n",
    "# boundaryCellDisplacement.b_diff([\"b\", \"l\"], 14, \"x\", u_previous)\n",
    "\n",
    "\n"
   ]
  },
  {
   "cell_type": "code",
   "execution_count": 183,
   "metadata": {},
   "outputs": [],
   "source": [
    "def traction_cell_BCs(A_matrix, b_matrix, k, edges, xy, u_old, u_old_old, u_previous):\n",
    "\n",
    "    A_matrix[k,k] = boundaryCellTraction(edges, xy).a_P\n",
    "\n",
    "    b_matrix[k] =(\n",
    "                    boundaryCellTraction.b_temp(u_old, u_old_old, k, xy)\n",
    "                    +\n",
    "                    boundaryCellTraction.b_diff(edges, k, xy, u_previous)  \n",
    "                )\n",
    "    for edge in edges:\n",
    "        if edge == \"b\":\n",
    "            #an\n",
    "            A_matrix[k,index(k).n] = - boundaryCellTraction(edges, xy).a_N\n",
    "\n",
    "        if edge == \"t\":\n",
    "            #as\n",
    "            A_matrix[k,index(k).s] = - boundaryCellTraction(edges, xy).a_S\n",
    "\n",
    "        if edge == \"l\":\n",
    "            #ae\n",
    "            A_matrix[k,index(k).e] = - boundaryCellTraction(edges, xy).a_E\n",
    "\n",
    "        if edge == \"r\":\n",
    "            #aw\n",
    "            A_matrix[k,index(k).w] = - boundaryCellTraction(edges, xy).a_W           \n",
    "\n",
    "    if len(edges) == 1:\n",
    "\n",
    "        if (edges[0] == \"b\") | (edges[0] == \"t\") :\n",
    "            #ae\n",
    "            A_matrix[k, index(k).e] = - boundaryCellTraction(edges, xy).a_E\n",
    "            #aw\n",
    "            A_matrix[k, index(k).w] = - boundaryCellTraction(edges, xy).a_W\n",
    "\n",
    "        if (edges[0] == \"l\") | (edges[0] == \"r\") :\n",
    "            #an\n",
    "            A_matrix[k,index(k).n] = - boundaryCellTraction(edges, xy).a_N            \n",
    "            #as\n",
    "            A_matrix[k,index(k).s] = - boundaryCellTraction(edges, xy).a_S\n",
    "\n",
    "    return A_matrix, b_matrix"
   ]
  },
  {
   "cell_type": "code",
   "execution_count": 184,
   "metadata": {},
   "outputs": [],
   "source": [
    "def traction_point_BCs(A_matrix, b_matrix, k, edges, xy, u_previous):\n",
    "    \n",
    "    #ap\n",
    "    A_matrix[k,k] = boundaryPointTraction(edges, xy).a_P\n",
    "    #b\n",
    "    b_matrix[k] =boundaryPointTraction.b_diff(edges, k, xy, u_previous)\n",
    "\n",
    "    if edges[0] == \"b\":\n",
    "        #an\n",
    "        A_matrix[k,index(k).n] = - boundaryPointTraction(edges, xy).a_N\n",
    "    if edges[0] == \"t\":\n",
    "        #as\n",
    "        A_matrix[k,index(k).s] = - boundaryPointTraction(edges, xy).a_S\n",
    "    if edges[0] == \"l\":\n",
    "        #ae\n",
    "        A_matrix[k, index(k).e] = - boundaryPointTraction(edges, xy).a_E\n",
    "    if edges[0] == \"r\":\n",
    "        #aw\n",
    "        A_matrix[k, index(k).w] = -  boundaryPointTraction(edges, xy).a_W\n",
    "\n",
    "    return A_matrix, b_matrix"
   ]
  },
  {
   "cell_type": "code",
   "execution_count": 185,
   "metadata": {},
   "outputs": [
    {
     "data": {
      "text/plain": [
       "-1e-06"
      ]
     },
     "execution_count": 185,
     "metadata": {},
     "output_type": "execute_result"
    }
   ],
   "source": [
    "class edge_U:\n",
    "\n",
    "    def __init__(self, edges, xy):\n",
    "\n",
    "        if xy == \"x\":\n",
    "            if edges[0] == \"b\":\n",
    "                self.BC = u_bottom\n",
    "            if edges[0] == \"t\":\n",
    "                self.BC = u_top\n",
    "            if edges[0] == \"l\":\n",
    "                self.BC = u_left\n",
    "            if edges[0] == \"r\":\n",
    "                self.BC = u_right\n",
    "\n",
    "        if xy == \"y\":\n",
    "            if edges[0] == \"b\":\n",
    "                self.BC = v_bottom\n",
    "            if edges[0] == \"t\":\n",
    "                self.BC = v_top\n",
    "            if edges[0] == \"l\":\n",
    "                self.BC = v_left\n",
    "            if edges[0] == \"r\":\n",
    "                self.BC = v_right\n",
    "\n",
    "edge_U([\"b\"], \"x\").BC"
   ]
  },
  {
   "cell_type": "code",
   "execution_count": 186,
   "metadata": {},
   "outputs": [],
   "source": [
    "def displacement_cell_BCs(A_matrix, b_matrix, k, edges, xy, u_old, u_old_old, u_previous):\n",
    "\n",
    "    A_matrix[k,k] = boundaryCellDisplacement(edges, xy).a_P\n",
    "    #an\n",
    "    A_matrix[k,index(k).n] = - boundaryCellDisplacement(edges, xy).a_N        \n",
    "    #as\n",
    "    A_matrix[k,index(k).s] = - boundaryCellDisplacement(edges, xy).a_S   \n",
    "    #ae\n",
    "    A_matrix[k, index(k).e] = - boundaryCellDisplacement(edges, xy).a_E\n",
    "    #aw\n",
    "    A_matrix[k, index(k).w] = - boundaryCellDisplacement(edges, xy).a_W\n",
    "\n",
    "    b_matrix[k] =(\n",
    "                boundaryCellDisplacement.b_temp(u_old, u_old_old, k, xy)\n",
    "                +\n",
    "                boundaryCellDisplacement.b_diff(edges, k, xy, u_previous)\n",
    "            )   \n",
    "\n",
    "    return A_matrix, b_matrix\n",
    "\n",
    "def displacement_point_BCs(A_matrix, b_matrix, k, edges, xy):\n",
    "    \n",
    "    A_matrix[k,k] = 1\n",
    "    b_matrix[k] = edge_U(edges, xy).BC\n",
    "\n",
    "    return A_matrix, b_matrix"
   ]
  },
  {
   "cell_type": "code",
   "execution_count": 187,
   "metadata": {},
   "outputs": [],
   "source": [
    "def boundary_conditions(A_matrix, b_matrix, u_previous, u_old, u_old_old, xy):\n",
    "    for k in np.arange(0,(nx+2)*(ny+2)):   # j is the cell number\n",
    "\n",
    "        U = displacement(k, u_previous, 0)\n",
    "        V = displacement(k, u_previous, 1)\n",
    "\n",
    "        #Bottom left corner coefficients        \n",
    "        if cell_index().bottom_left_corner(k):  \n",
    "            edges = [\"b\", \"l\"]\n",
    "            \n",
    "            if BC_settings(edges[0]).traction:\n",
    "                A_matrix, b_matrix = traction_cell_BCs(A_matrix, b_matrix, k, edges, xy, u_old, u_old_old, u_previous)\n",
    "            \n",
    "            elif BC_settings(edges[0]).fixed_displacement:\n",
    "                A_matrix, b_matrix = displacement_cell_BCs(A_matrix, b_matrix, k, edges, xy, u_old, u_old_old, u_previous)\n",
    "\n",
    "        #Bottom right corner coefficients            \n",
    "        elif  cell_index().bottom_right_corner(k):\n",
    "            edges = [\"b\", \"r\"]\n",
    "            \n",
    "            if BC_settings(edges[0]).traction:\n",
    "                A_matrix, b_matrix = traction_cell_BCs(A_matrix, b_matrix, k, edges, xy, u_old, u_old_old, u_previous)\n",
    "\n",
    "            elif BC_settings(edges[0]).fixed_displacement:\n",
    "                A_matrix, b_matrix = displacement_cell_BCs(A_matrix, b_matrix, k, edges, xy, u_old, u_old_old, u_previous)\n",
    "\n",
    "        #Top left corner coefficients            \n",
    "        elif  cell_index().top_left_corner(k):\n",
    "            edges = [\"t\", \"l\"]\n",
    "        \n",
    "            if BC_settings(edges[0]).traction:\n",
    "                A_matrix, b_matrix = traction_cell_BCs(A_matrix, b_matrix, k, edges, xy, u_old, u_old_old, u_previous)\n",
    "\n",
    "            elif BC_settings(edges[0]).fixed_displacement:\n",
    "                A_matrix, b_matrix = displacement_cell_BCs(A_matrix, b_matrix, k, edges, xy, u_old, u_old_old, u_previous)\n",
    "\n",
    "        #Top right corner coefficients            \n",
    "        elif  cell_index().top_right_corner(k):  \n",
    "            edges = [\"t\", \"r\"]\n",
    "            \n",
    "            if BC_settings(edges[0]).traction:\n",
    "                A_matrix, b_matrix = traction_cell_BCs(A_matrix, b_matrix, k, edges, xy, u_old, u_old_old, u_previous)\n",
    "\n",
    "            elif BC_settings(edges[0]).fixed_displacement:\n",
    "                A_matrix, b_matrix = displacement_cell_BCs(A_matrix, b_matrix, k, edges, xy, u_old, u_old_old, u_previous)\n",
    "\n",
    "        # Center Bottom Boundaries\n",
    "        elif  cell_index().center_bottom(k):\n",
    "            edges = [\"b\"]\n",
    "\n",
    "            if BC_settings(edges[0]).traction:\n",
    "                A_matrix, b_matrix = traction_cell_BCs(A_matrix, b_matrix, k, edges, xy, u_old, u_old_old, u_previous)\n",
    "\n",
    "            elif BC_settings(edges[0]).fixed_displacement:\n",
    "                A_matrix, b_matrix = displacement_cell_BCs(A_matrix, b_matrix, k, edges, xy, u_old, u_old_old, u_previous)\n",
    "\n",
    "        # Center Top Boundaries\n",
    "        elif cell_index().center_top(k):\n",
    "            edges = [\"t\"]\n",
    "\n",
    "            if BC_settings(edges[0]).traction:\n",
    "                A_matrix, b_matrix = traction_cell_BCs(A_matrix, b_matrix, k, edges, xy, u_old, u_old_old, u_previous)\n",
    "\n",
    "            elif BC_settings(edges[0]).fixed_displacement:\n",
    "                A_matrix, b_matrix = displacement_cell_BCs(A_matrix, b_matrix, k, edges, xy, u_old, u_old_old, u_previous)\n",
    "\n",
    "        # Center Left Boundaries\n",
    "        elif  cell_index().center_left(k):\n",
    "            edges = [\"l\"]\n",
    "\n",
    "            if BC_settings(edges[0]).traction:\n",
    "                A_matrix, b_matrix = traction_cell_BCs(A_matrix, b_matrix, k, edges, xy, u_old, u_old_old, u_previous)\n",
    "\n",
    "            elif BC_settings(edges[0]).fixed_displacement:\n",
    "                A_matrix, b_matrix = displacement_cell_BCs(A_matrix, b_matrix, k, edges, xy, u_old, u_old_old, u_previous)\n",
    "\n",
    "        # Center Right Boundaries\n",
    "        elif  cell_index().center_right(k):\n",
    "            edges = [\"r\"]\n",
    "\n",
    "            if BC_settings(edges[0]).traction:\n",
    "                A_matrix, b_matrix = traction_cell_BCs(A_matrix, b_matrix, k, edges, xy, u_old, u_old_old, u_previous)\n",
    "\n",
    "            elif BC_settings(edges[0]).fixed_displacement:\n",
    "                A_matrix, b_matrix = displacement_cell_BCs(A_matrix, b_matrix, k, edges, xy, u_old, u_old_old, u_previous)\n",
    "\n",
    "        #### Points on Boundary ####\n",
    "\n",
    "        # Center Bottom\n",
    "        elif boundary_point_index().center_bottom(k):\n",
    "            edges = [\"b\"]\n",
    "\n",
    "            if BC_settings(edges[0]).traction:\n",
    "                A_matrix, b_matrix = traction_point_BCs(A_matrix, b_matrix, k, edges, xy, u_previous)\n",
    "\n",
    "            elif BC_settings(edges[0]).fixed_displacement:\n",
    "                A_matrix, b_matrix = displacement_point_BCs(A_matrix, b_matrix, k, edges, xy)\n",
    "\n",
    "        # Center Top\n",
    "        elif boundary_point_index().center_top(k):\n",
    "            edges = [\"t\"]\n",
    "\n",
    "            if BC_settings(edges[0]).traction:\n",
    "                A_matrix, b_matrix = traction_point_BCs(A_matrix, b_matrix, k, edges, xy, u_previous)\n",
    "\n",
    "            elif BC_settings(edges[0]).fixed_displacement:\n",
    "                A_matrix, b_matrix = displacement_point_BCs(A_matrix, b_matrix, k, edges, xy)\n",
    "            \n",
    "        # Center Left\n",
    "        elif boundary_point_index().center_left(k):\n",
    "            edges = [\"l\"]\n",
    "\n",
    "            if BC_settings(edges[0]).traction:\n",
    "                A_matrix, b_matrix = traction_point_BCs(A_matrix, b_matrix, k, edges, xy, u_previous)\n",
    "\n",
    "            elif BC_settings(edges[0]).fixed_displacement:\n",
    "                A_matrix, b_matrix = displacement_point_BCs(A_matrix, b_matrix, k, edges, xy)\n",
    "\n",
    "        # Center Right\n",
    "        elif boundary_point_index().center_right(k):\n",
    "            edges = [\"r\"]\n",
    "\n",
    "            if BC_settings(edges[0]).traction:\n",
    "                A_matrix, b_matrix = traction_point_BCs(A_matrix, b_matrix, k, edges, xy, u_previous)\n",
    "\n",
    "            elif BC_settings(edges[0]).fixed_displacement:\n",
    "                A_matrix, b_matrix = displacement_point_BCs(A_matrix, b_matrix, k, edges, xy)\n",
    "\n",
    "        # Bottom Left: Bottom\n",
    "        elif boundary_point_index().bottom_left_bottom(k):\n",
    "            edges = [\"b\", \"l\"]\n",
    "\n",
    "            if BC_settings(edges[0]).traction:\n",
    "                A_matrix, b_matrix = traction_point_BCs(A_matrix, b_matrix, k, edges, xy, u_previous) \n",
    "\n",
    "            elif BC_settings(edges[0]).fixed_displacement:\n",
    "                A_matrix, b_matrix = displacement_point_BCs(A_matrix, b_matrix, k, edges, xy)\n",
    "\n",
    "        # Bottom Left: Left\n",
    "        elif boundary_point_index().bottom_left_left(k):\n",
    "            edges = [\"l\", \"b\"]\n",
    "            \n",
    "            if BC_settings(edges[0]).traction:\n",
    "                A_matrix, b_matrix = traction_point_BCs(A_matrix, b_matrix, k, edges, xy, u_previous)\n",
    "\n",
    "            elif BC_settings(edges[0]).fixed_displacement:\n",
    "                A_matrix, b_matrix = displacement_point_BCs(A_matrix, b_matrix, k, edges, xy)\n",
    "            \n",
    "        # Bottom Right: Right\n",
    "        elif boundary_point_index().bottom_right_right(k):\n",
    "            edges = [\"r\", \"b\"]\n",
    "\n",
    "            if BC_settings(edges[0]).traction:\n",
    "                A_matrix, b_matrix = traction_point_BCs(A_matrix, b_matrix, k, edges, xy, u_previous)\n",
    "\n",
    "            elif BC_settings(edges[0]).fixed_displacement:\n",
    "                A_matrix, b_matrix = displacement_point_BCs(A_matrix, b_matrix, k, edges, xy)\n",
    "\n",
    "        # Bottom Right: Bottom\n",
    "        elif boundary_point_index().bottom_right_bottom(k):\n",
    "            edges = [\"b\", \"r\"]\n",
    "\n",
    "            if BC_settings(edges[0]).traction:\n",
    "                A_matrix, b_matrix = traction_point_BCs(A_matrix, b_matrix, k, edges, xy, u_previous) \n",
    "\n",
    "            elif BC_settings(edges[0]).fixed_displacement:\n",
    "                A_matrix, b_matrix = displacement_point_BCs(A_matrix, b_matrix, k, edges, xy)\n",
    "\n",
    "        # Top Left: Left\n",
    "        elif boundary_point_index().top_left_left(k):\n",
    "            edges = [\"l\", \"t\"]\n",
    "\n",
    "            if BC_settings(edges[0]).traction:\n",
    "                A_matrix, b_matrix = traction_point_BCs(A_matrix, b_matrix, k, edges, xy, u_previous)\n",
    "\n",
    "            elif BC_settings(edges[0]).fixed_displacement:\n",
    "                A_matrix, b_matrix = displacement_point_BCs(A_matrix, b_matrix, k, edges, xy)\n",
    "\n",
    "        # Top Left: Top\n",
    "        elif boundary_point_index().top_left_top(k):\n",
    "            edges = [\"t\", \"l\"]\n",
    "\n",
    "            if BC_settings(edges[0]).traction:  \n",
    "                A_matrix, b_matrix = traction_point_BCs(A_matrix, b_matrix, k, edges, xy, u_previous)\n",
    "\n",
    "            elif BC_settings(edges[0]).fixed_displacement:\n",
    "                A_matrix, b_matrix = displacement_point_BCs(A_matrix, b_matrix, k, edges, xy)\n",
    "\n",
    "        # Top Right: Right\n",
    "        elif boundary_point_index().top_right_right(k):\n",
    "            edges = [\"r\", \"t\"]\n",
    "\n",
    "            if BC_settings(edges[0]).traction:  \n",
    "                A_matrix, b_matrix = traction_point_BCs(A_matrix, b_matrix, k, edges, xy, u_previous)\n",
    "\n",
    "            elif BC_settings(edges[0]).fixed_displacement:\n",
    "                A_matrix, b_matrix = displacement_point_BCs(A_matrix, b_matrix, k, edges, xy)\n",
    "\n",
    "        # Top Right: Top        \n",
    "        elif boundary_point_index().top_right_top(k):\n",
    "            edges = [\"t\", \"r\"]\n",
    "\n",
    "            if BC_settings(edges[0]).traction:  \n",
    "                A_matrix, b_matrix = traction_point_BCs(A_matrix, b_matrix, k, edges, xy, u_previous)\n",
    "\n",
    "            elif BC_settings(edges[0]).fixed_displacement:\n",
    "                A_matrix, b_matrix = displacement_point_BCs(A_matrix, b_matrix, k, edges, xy)\n",
    "\n",
    "        # # Corner Points\n",
    "        elif boundary_point_index().bottom_left_corner(k):\n",
    "\n",
    "            #print(str(k) + \": Bottom Left Corner Point on Boundary\")\n",
    "\n",
    "            A_matrix[k,k] = 4\n",
    "\n",
    "            A_matrix[k,index(k).n] = 2 \n",
    "            A_matrix[k,index(k).e] = 2\n",
    "\n",
    "            A_matrix[k,index(k).ne] = -15\n",
    "\n",
    "            A_matrix[k,index(k).dir([\"n\", \"n\"])] = 2 \n",
    "            A_matrix[k,index(k).dir([\"e\", \"e\"])] = 2\n",
    "\n",
    "            A_matrix[k,index(k).dir([\"n\", \"ne\"])] = 1\n",
    "            A_matrix[k,index(k).dir([\"ne\", \"ne\"])] = 1\n",
    "            A_matrix[k,index(k).dir([\"e\", \"ne\"])] = 1\n",
    "\n",
    "            b_matrix[k] = 0\n",
    "\n",
    "            # edges = [\"l\"]\n",
    "\n",
    "            # A_matrix[k,k] = 1\n",
    "            # b_matrix[k] = edge_U(edges, xy).BC\n",
    "\n",
    "        elif boundary_point_index().bottom_right_corner(k):\n",
    "            #print(str(k) + \": Bottom Right Corner Point on Boundary\")\n",
    "            A_matrix[k,k] = 4\n",
    "\n",
    "            A_matrix[k,index(k).n] = 2 \n",
    "            A_matrix[k,index(k).w] = 2\n",
    "\n",
    "            A_matrix[k,index(k).nw] = -15\n",
    "\n",
    "            A_matrix[k,index(k).dir([\"n\", \"n\"])] = 2 \n",
    "            A_matrix[k,index(k).dir([\"w\", \"w\"])] = 2\n",
    "\n",
    "            A_matrix[k,index(k).dir([\"n\", \"nw\"])] = 1\n",
    "            A_matrix[k,index(k).dir([\"nw\", \"nw\"])] = 1\n",
    "            A_matrix[k,index(k).dir([\"w\", \"nw\"])] = 1\n",
    "\n",
    "            b_matrix[k] = 0\n",
    "\n",
    "        elif boundary_point_index().top_left_corner(k):\n",
    "            #print(str(k) + \": Top Left Corner Point on Boundary\")\n",
    "            A_matrix[k,k] = 4\n",
    "\n",
    "            A_matrix[k,index(k).s] = 2 \n",
    "            A_matrix[k,index(k).e] = 2\n",
    "\n",
    "            A_matrix[k,index(k).se] = -15\n",
    "\n",
    "            A_matrix[k,index(k).dir([\"s\", \"s\"])] = 2 \n",
    "            A_matrix[k,index(k).dir([\"e\", \"e\"])] = 2\n",
    "\n",
    "            A_matrix[k,index(k).dir([\"s\", \"se\"])] = 1\n",
    "            A_matrix[k,index(k).dir([\"se\", \"se\"])] = 1\n",
    "            A_matrix[k,index(k).dir([\"e\", \"se\"])] = 1\n",
    "\n",
    "            b_matrix[k] = 0\n",
    "\n",
    "        elif boundary_point_index().top_right_corner(k):\n",
    "            #print(str(k) + \": Top Right Corner Point on Boundary\")\n",
    "            A_matrix[k,k] = 4\n",
    "\n",
    "            A_matrix[k,index(k).s] = 2 \n",
    "            A_matrix[k,index(k).w] = 2\n",
    "\n",
    "            A_matrix[k,index(k).sw] = -15\n",
    "\n",
    "            A_matrix[k,index(k).dir([\"s\", \"s\"])] = 2 \n",
    "            A_matrix[k,index(k).dir([\"w\", \"w\"])] = 2\n",
    "\n",
    "            A_matrix[k,index(k).dir([\"s\", \"sw\"])] = 1\n",
    "            A_matrix[k,index(k).dir([\"sw\", \"sw\"])] = 1\n",
    "            A_matrix[k,index(k).dir([\"w\", \"sw\"])] = 1\n",
    "\n",
    "            b_matrix[k] = 0      \n",
    "            # # \n",
    "            \n",
    "            # edges = [\"l\"]\n",
    "\n",
    "            # A_matrix[k,k] = 1\n",
    "            # b_matrix[k] = edge_U(edges, xy).BC  \n",
    "\n",
    "        else:\n",
    "\n",
    "            #print(str(k) + \": NO BC Cell\")\n",
    "\n",
    "            b_matrix[k] = (\n",
    "                            A.b_temp(u_old, u_old_old, k, xy)\n",
    "                            +\n",
    "                            A.b_diff(k, xy, u_previous)\n",
    "                        )\n",
    "\n",
    "    return A_matrix, b_matrix\n"
   ]
  },
  {
   "cell_type": "code",
   "execution_count": 188,
   "metadata": {},
   "outputs": [
    {
     "name": "stdout",
     "output_type": "stream",
     "text": [
      "\n",
      "Time = 0.0\n",
      "icorr = 1, Residual = 0.33249854625773833661, normFactor = 0.00000229857107888503\n"
     ]
    },
    {
     "name": "stderr",
     "output_type": "stream",
     "text": [
      "/home/scottlevie/miniconda3/lib/python3.9/site-packages/scipy/sparse/linalg/dsolve/linsolve.py:144: SparseEfficiencyWarning:\n",
      "\n",
      "spsolve requires A be CSC or CSR matrix format\n",
      "\n"
     ]
    },
    {
     "name": "stdout",
     "output_type": "stream",
     "text": [
      "icorr = 2, Residual = 0.05792829700418709177, normFactor = 0.00000227816267693017\n",
      "icorr = 3, Residual = 0.03009851480791678885, normFactor = 0.00000322679113987702\n",
      "icorr = 4, Residual = 0.01962805900244529028, normFactor = 0.00000393383779801378\n",
      "icorr = 5, Residual = 0.01353180170734452625, normFactor = 0.00000453498651319448\n",
      "icorr = 6, Residual = 0.00980955411631828644, normFactor = 0.00000498382384630815\n",
      "icorr = 7, Residual = 0.00725539416554306371, normFactor = 0.00000536483914316459\n",
      "icorr = 8, Residual = 0.00548681118920010900, normFactor = 0.00000564946060386036\n",
      "icorr = 9, Residual = 0.00419032400575958860, normFactor = 0.00000589100707440397\n",
      "icorr = 10, Residual = 0.00323752289883372886, normFactor = 0.00000607147109566118\n",
      "icorr = 11, Residual = 0.00251493172603412321, normFactor = 0.00000622460417824780\n",
      "icorr = 12, Residual = 0.00196643191834508990, normFactor = 0.00000633902570723416\n",
      "icorr = 13, Residual = 0.00154246356658704876, normFactor = 0.00000643610812083914\n",
      "icorr = 14, Residual = 0.00121453840097576933, normFactor = 0.00000650865616725674\n",
      "icorr = 15, Residual = 0.00095821594286417497, normFactor = 0.00000657020426518699\n",
      "icorr = 16, Residual = 0.00075770394693697662, normFactor = 0.00000661620298228822\n",
      "icorr = 17, Residual = 0.00059991137990790132, normFactor = 0.00000665522330454941\n",
      "icorr = 18, Residual = 0.00047561717134331991, normFactor = 0.00000668438871365541\n",
      "icorr = 19, Residual = 0.00037739509277122233, normFactor = 0.00000670912698159796\n",
      "icorr = 20, Residual = 0.00029968983177097947, normFactor = 0.00000672761934692894\n",
      "icorr = 21, Residual = 0.00023812573759262776, normFactor = 0.00000674330312375365\n",
      "icorr = 22, Residual = 0.00018928880195308071, normFactor = 0.00000675502826982883\n",
      "icorr = 23, Residual = 0.00015053332396349837, normFactor = 0.00000676497163395184\n",
      "icorr = 24, Residual = 0.00011973874597615431, normFactor = 0.00000677240605850014\n",
      "icorr = 25, Residual = 0.00009527521109966497, normFactor = 0.00000677871009325239\n",
      "icorr = 26, Residual = 0.00007581488210674063, normFactor = 0.00000678342395265798\n",
      "icorr = 27, Residual = 0.00006034680901264567, normFactor = 0.00000678742073811392\n",
      "icorr = 28, Residual = 0.00004803302530024583, normFactor = 0.00000679040958743098\n",
      "icorr = 29, Residual = 0.00003824235595100705, normFactor = 0.00000679294358956931\n",
      "icorr = 30, Residual = 0.00003044332438634864, normFactor = 0.00000679483870195883\n",
      "icorr = 31, Residual = 0.00002424226041634882, normFactor = 0.00000679644528367147\n",
      "icorr = 32, Residual = 0.00001930173264111542, normFactor = 0.00000679764692109149\n",
      "icorr = 33, Residual = 0.00001537598779714536, normFactor = 0.00000679866548953955\n",
      "icorr = 34, Residual = 0.00001223937174575130, normFactor = 0.00000679942745693688\n",
      "icorr = 35, Residual = 0.00000974700661836307, normFactor = 0.00000680007322204541\n",
      "icorr = 36, Residual = 0.00000776098756620783, normFactor = 0.00000680055639156969\n",
      "icorr = 37, Residual = 0.00000618205578587904, normFactor = 0.00000680096581331222\n",
      "icorr = 38, Residual = 0.00000492300223772729, normFactor = 0.00000680127216997209\n",
      "icorr = 39, Residual = 0.00000392127490160123, normFactor = 0.00000680153174131838\n",
      "icorr = 40, Residual = 0.00000312345014750177, normFactor = 0.00000680172601252842\n",
      "icorr = 41, Residual = 0.00000248855149375796, normFactor = 0.00000680189059282882\n",
      "icorr = 42, Residual = 0.00000199742747364464, normFactor = 0.00000680201378383721\n",
      "icorr = 43, Residual = 0.00000161614975738041, normFactor = 0.00000680211811633397\n",
      "icorr = 44, Residual = 0.00000126787574914068, normFactor = 0.00000680219623997427\n",
      "icorr = 45, Residual = 0.00000100667018575465, normFactor = 0.00000680226237654729\n",
      "icorr = 46, Residual = 0.00000081378356967012, normFactor = 0.00000680231189740817\n",
      "\n",
      "Time = 0.001\n",
      "icorr = 1, Residual = 0.00000064615757347960, normFactor = 0.00000680235385925883\n",
      "\n",
      "Time = 0.002\n",
      "icorr = 1, Residual = 0.00000053213677067316, normFactor = 0.00000680238524840176\n",
      "\n",
      "Time = 0.003\n",
      "icorr = 1, Residual = 0.00000043676480049478, normFactor = 0.00000680241188044370\n",
      "\n",
      "Time = 0.004\n",
      "icorr = 1, Residual = 0.00000036206853206129, normFactor = 0.00000680243175785293\n",
      "\n",
      "Time = 0.005\n",
      "icorr = 1, Residual = 0.00000028275704195248, normFactor = 0.00000680244867052461\n",
      "\n",
      "Time = 0.006\n",
      "icorr = 1, Residual = 0.00000020421199044467, normFactor = 0.00000680246126079622\n",
      "\n",
      "Time = 0.007\n",
      "icorr = 1, Residual = 0.00000016192962823758, normFactor = 0.00000680247199945541\n",
      "\n",
      "Time = 0.008\n",
      "icorr = 1, Residual = 0.00000029390855417070, normFactor = 0.00000680247997826355\n",
      "\n",
      "Time = 0.009000000000000001\n",
      "icorr = 1, Residual = 0.00000020073048987087, normFactor = 0.00000680248679806771\n"
     ]
    },
    {
     "data": {
      "application/vnd.plotly.v1+json": {
       "config": {
        "plotlyServerURL": "https://plot.ly"
       },
       "data": [
        {
         "type": "surface",
         "x": [
          [
           0,
           0.000625,
           0.001875,
           0.0031249999999999997,
           0.0043749999999999995,
           0.005624999999999999,
           0.006874999999999998,
           0.008124999999999999,
           0.009375,
           0.01
          ],
          [
           0,
           0.000625,
           0.001875,
           0.0031249999999999997,
           0.0043749999999999995,
           0.005624999999999999,
           0.006874999999999998,
           0.008124999999999999,
           0.009375,
           0.01
          ],
          [
           0,
           0.000625,
           0.001875,
           0.0031249999999999997,
           0.0043749999999999995,
           0.005624999999999999,
           0.006874999999999998,
           0.008124999999999999,
           0.009375,
           0.01
          ],
          [
           0,
           0.000625,
           0.001875,
           0.0031249999999999997,
           0.0043749999999999995,
           0.005624999999999999,
           0.006874999999999998,
           0.008124999999999999,
           0.009375,
           0.01
          ],
          [
           0,
           0.000625,
           0.001875,
           0.0031249999999999997,
           0.0043749999999999995,
           0.005624999999999999,
           0.006874999999999998,
           0.008124999999999999,
           0.009375,
           0.01
          ],
          [
           0,
           0.000625,
           0.001875,
           0.0031249999999999997,
           0.0043749999999999995,
           0.005624999999999999,
           0.006874999999999998,
           0.008124999999999999,
           0.009375,
           0.01
          ],
          [
           0,
           0.000625,
           0.001875,
           0.0031249999999999997,
           0.0043749999999999995,
           0.005624999999999999,
           0.006874999999999998,
           0.008124999999999999,
           0.009375,
           0.01
          ],
          [
           0,
           0.000625,
           0.001875,
           0.0031249999999999997,
           0.0043749999999999995,
           0.005624999999999999,
           0.006874999999999998,
           0.008124999999999999,
           0.009375,
           0.01
          ],
          [
           0,
           0.000625,
           0.001875,
           0.0031249999999999997,
           0.0043749999999999995,
           0.005624999999999999,
           0.006874999999999998,
           0.008124999999999999,
           0.009375,
           0.01
          ],
          [
           0,
           0.000625,
           0.001875,
           0.0031249999999999997,
           0.0043749999999999995,
           0.005624999999999999,
           0.006874999999999998,
           0.008124999999999999,
           0.009375,
           0.01
          ]
         ],
         "y": [
          [
           0,
           0,
           0,
           0,
           0,
           0,
           0,
           0,
           0,
           0
          ],
          [
           0.000625,
           0.000625,
           0.000625,
           0.000625,
           0.000625,
           0.000625,
           0.000625,
           0.000625,
           0.000625,
           0.000625
          ],
          [
           0.001875,
           0.001875,
           0.001875,
           0.001875,
           0.001875,
           0.001875,
           0.001875,
           0.001875,
           0.001875,
           0.001875
          ],
          [
           0.0031249999999999997,
           0.0031249999999999997,
           0.0031249999999999997,
           0.0031249999999999997,
           0.0031249999999999997,
           0.0031249999999999997,
           0.0031249999999999997,
           0.0031249999999999997,
           0.0031249999999999997,
           0.0031249999999999997
          ],
          [
           0.0043749999999999995,
           0.0043749999999999995,
           0.0043749999999999995,
           0.0043749999999999995,
           0.0043749999999999995,
           0.0043749999999999995,
           0.0043749999999999995,
           0.0043749999999999995,
           0.0043749999999999995,
           0.0043749999999999995
          ],
          [
           0.005624999999999999,
           0.005624999999999999,
           0.005624999999999999,
           0.005624999999999999,
           0.005624999999999999,
           0.005624999999999999,
           0.005624999999999999,
           0.005624999999999999,
           0.005624999999999999,
           0.005624999999999999
          ],
          [
           0.006874999999999998,
           0.006874999999999998,
           0.006874999999999998,
           0.006874999999999998,
           0.006874999999999998,
           0.006874999999999998,
           0.006874999999999998,
           0.006874999999999998,
           0.006874999999999998,
           0.006874999999999998
          ],
          [
           0.008124999999999999,
           0.008124999999999999,
           0.008124999999999999,
           0.008124999999999999,
           0.008124999999999999,
           0.008124999999999999,
           0.008124999999999999,
           0.008124999999999999,
           0.008124999999999999,
           0.008124999999999999
          ],
          [
           0.009375,
           0.009375,
           0.009375,
           0.009375,
           0.009375,
           0.009375,
           0.009375,
           0.009375,
           0.009375,
           0.009375
          ],
          [
           0.01,
           0.01,
           0.01,
           0.01,
           0.01,
           0.01,
           0.01,
           0.01,
           0.01,
           0.01
          ]
         ],
         "z": [
          [
           3.1199936324930415,
           1.414213562373095,
           1.4142135623730951,
           1.4142135623730951,
           1.414213562373095,
           1.4142135623730951,
           1.414213562373095,
           1.4142135623730951,
           1.4142135623730956,
           0.3302376207691659
          ],
          [
           1.4142050051887025,
           1.0485366122523622e-13,
           2.6403794179749087e-12,
           2.6629161340419593e-12,
           2.5768876786844476e-12,
           2.4460894236039104e-12,
           2.2562668248631467e-12,
           1.972529028328247e-12,
           7.023378759246217e-12,
           1.4142130149995502
          ],
          [
           1.414213562373223,
           0.9067932482149698,
           0.3496090235037502,
           0.1783038325532623,
           0.17861019894829466,
           0.24561920795746073,
           0.35928474791391285,
           0.5329979110775548,
           0.7883136781771618,
           1.4142135623732368
          ],
          [
           1.414213562371881,
           1.0306167851794754,
           0.5126146586954459,
           0.30545947653207495,
           0.2969325225489273,
           0.37895845835394254,
           0.524484464266373,
           0.7325778961332403,
           1.0232030743805907,
           1.4142135623730567
          ],
          [
           1.4142135623864522,
           1.0188503084864455,
           0.5716934794703628,
           0.4195552573389153,
           0.40629339993214014,
           0.471315598940784,
           0.6142301745226892,
           0.8299288312730453,
           1.1352617814459498,
           1.4142135623730876
          ],
          [
           1.414213562351517,
           0.9420661722432173,
           0.6203545871647012,
           0.5470880084123475,
           0.5201867141919806,
           0.5587094264066448,
           0.6858688297011288,
           0.8939408790845984,
           1.1909305715173866,
           1.4142135623730845
          ],
          [
           1.414213562373099,
           0.8214316176029327,
           0.7467589729872801,
           0.6852496703737048,
           0.6262534464355577,
           0.6548544545543115,
           0.7695512269188661,
           0.9523161497226678,
           1.2182840043656868,
           1.4142135623730252
          ],
          [
           1.414213562373102,
           0.945182903712739,
           0.9941363651197342,
           0.7749646999750132,
           0.7274200568632295,
           0.7978636508496629,
           0.9078156576168395,
           1.0361426323865162,
           1.22782586031248,
           1.4142135623724594
          ],
          [
           1.4142135623730945,
           2.7527762644354534,
           0.9478117178154808,
           0.8433343795037329,
           0.9909159883889906,
           1.1034886527159828,
           1.1758593363724783,
           1.2149558799542173,
           1.1578176572818164,
           1.4142135623730951
          ],
          [
           9.626221638895146,
           1.4142135623730945,
           1.4142135623699488,
           1.4142135623734882,
           1.4142135623731897,
           1.4142135623730534,
           1.414213562373217,
           1.4142135623731287,
           1.414213562373095,
           0.6444313506869197
          ]
         ]
        }
       ],
       "layout": {
        "template": {
         "data": {
          "bar": [
           {
            "error_x": {
             "color": "#2a3f5f"
            },
            "error_y": {
             "color": "#2a3f5f"
            },
            "marker": {
             "line": {
              "color": "#E5ECF6",
              "width": 0.5
             },
             "pattern": {
              "fillmode": "overlay",
              "size": 10,
              "solidity": 0.2
             }
            },
            "type": "bar"
           }
          ],
          "barpolar": [
           {
            "marker": {
             "line": {
              "color": "#E5ECF6",
              "width": 0.5
             },
             "pattern": {
              "fillmode": "overlay",
              "size": 10,
              "solidity": 0.2
             }
            },
            "type": "barpolar"
           }
          ],
          "carpet": [
           {
            "aaxis": {
             "endlinecolor": "#2a3f5f",
             "gridcolor": "white",
             "linecolor": "white",
             "minorgridcolor": "white",
             "startlinecolor": "#2a3f5f"
            },
            "baxis": {
             "endlinecolor": "#2a3f5f",
             "gridcolor": "white",
             "linecolor": "white",
             "minorgridcolor": "white",
             "startlinecolor": "#2a3f5f"
            },
            "type": "carpet"
           }
          ],
          "choropleth": [
           {
            "colorbar": {
             "outlinewidth": 0,
             "ticks": ""
            },
            "type": "choropleth"
           }
          ],
          "contour": [
           {
            "colorbar": {
             "outlinewidth": 0,
             "ticks": ""
            },
            "colorscale": [
             [
              0,
              "#0d0887"
             ],
             [
              0.1111111111111111,
              "#46039f"
             ],
             [
              0.2222222222222222,
              "#7201a8"
             ],
             [
              0.3333333333333333,
              "#9c179e"
             ],
             [
              0.4444444444444444,
              "#bd3786"
             ],
             [
              0.5555555555555556,
              "#d8576b"
             ],
             [
              0.6666666666666666,
              "#ed7953"
             ],
             [
              0.7777777777777778,
              "#fb9f3a"
             ],
             [
              0.8888888888888888,
              "#fdca26"
             ],
             [
              1,
              "#f0f921"
             ]
            ],
            "type": "contour"
           }
          ],
          "contourcarpet": [
           {
            "colorbar": {
             "outlinewidth": 0,
             "ticks": ""
            },
            "type": "contourcarpet"
           }
          ],
          "heatmap": [
           {
            "colorbar": {
             "outlinewidth": 0,
             "ticks": ""
            },
            "colorscale": [
             [
              0,
              "#0d0887"
             ],
             [
              0.1111111111111111,
              "#46039f"
             ],
             [
              0.2222222222222222,
              "#7201a8"
             ],
             [
              0.3333333333333333,
              "#9c179e"
             ],
             [
              0.4444444444444444,
              "#bd3786"
             ],
             [
              0.5555555555555556,
              "#d8576b"
             ],
             [
              0.6666666666666666,
              "#ed7953"
             ],
             [
              0.7777777777777778,
              "#fb9f3a"
             ],
             [
              0.8888888888888888,
              "#fdca26"
             ],
             [
              1,
              "#f0f921"
             ]
            ],
            "type": "heatmap"
           }
          ],
          "heatmapgl": [
           {
            "colorbar": {
             "outlinewidth": 0,
             "ticks": ""
            },
            "colorscale": [
             [
              0,
              "#0d0887"
             ],
             [
              0.1111111111111111,
              "#46039f"
             ],
             [
              0.2222222222222222,
              "#7201a8"
             ],
             [
              0.3333333333333333,
              "#9c179e"
             ],
             [
              0.4444444444444444,
              "#bd3786"
             ],
             [
              0.5555555555555556,
              "#d8576b"
             ],
             [
              0.6666666666666666,
              "#ed7953"
             ],
             [
              0.7777777777777778,
              "#fb9f3a"
             ],
             [
              0.8888888888888888,
              "#fdca26"
             ],
             [
              1,
              "#f0f921"
             ]
            ],
            "type": "heatmapgl"
           }
          ],
          "histogram": [
           {
            "marker": {
             "pattern": {
              "fillmode": "overlay",
              "size": 10,
              "solidity": 0.2
             }
            },
            "type": "histogram"
           }
          ],
          "histogram2d": [
           {
            "colorbar": {
             "outlinewidth": 0,
             "ticks": ""
            },
            "colorscale": [
             [
              0,
              "#0d0887"
             ],
             [
              0.1111111111111111,
              "#46039f"
             ],
             [
              0.2222222222222222,
              "#7201a8"
             ],
             [
              0.3333333333333333,
              "#9c179e"
             ],
             [
              0.4444444444444444,
              "#bd3786"
             ],
             [
              0.5555555555555556,
              "#d8576b"
             ],
             [
              0.6666666666666666,
              "#ed7953"
             ],
             [
              0.7777777777777778,
              "#fb9f3a"
             ],
             [
              0.8888888888888888,
              "#fdca26"
             ],
             [
              1,
              "#f0f921"
             ]
            ],
            "type": "histogram2d"
           }
          ],
          "histogram2dcontour": [
           {
            "colorbar": {
             "outlinewidth": 0,
             "ticks": ""
            },
            "colorscale": [
             [
              0,
              "#0d0887"
             ],
             [
              0.1111111111111111,
              "#46039f"
             ],
             [
              0.2222222222222222,
              "#7201a8"
             ],
             [
              0.3333333333333333,
              "#9c179e"
             ],
             [
              0.4444444444444444,
              "#bd3786"
             ],
             [
              0.5555555555555556,
              "#d8576b"
             ],
             [
              0.6666666666666666,
              "#ed7953"
             ],
             [
              0.7777777777777778,
              "#fb9f3a"
             ],
             [
              0.8888888888888888,
              "#fdca26"
             ],
             [
              1,
              "#f0f921"
             ]
            ],
            "type": "histogram2dcontour"
           }
          ],
          "mesh3d": [
           {
            "colorbar": {
             "outlinewidth": 0,
             "ticks": ""
            },
            "type": "mesh3d"
           }
          ],
          "parcoords": [
           {
            "line": {
             "colorbar": {
              "outlinewidth": 0,
              "ticks": ""
             }
            },
            "type": "parcoords"
           }
          ],
          "pie": [
           {
            "automargin": true,
            "type": "pie"
           }
          ],
          "scatter": [
           {
            "marker": {
             "colorbar": {
              "outlinewidth": 0,
              "ticks": ""
             }
            },
            "type": "scatter"
           }
          ],
          "scatter3d": [
           {
            "line": {
             "colorbar": {
              "outlinewidth": 0,
              "ticks": ""
             }
            },
            "marker": {
             "colorbar": {
              "outlinewidth": 0,
              "ticks": ""
             }
            },
            "type": "scatter3d"
           }
          ],
          "scattercarpet": [
           {
            "marker": {
             "colorbar": {
              "outlinewidth": 0,
              "ticks": ""
             }
            },
            "type": "scattercarpet"
           }
          ],
          "scattergeo": [
           {
            "marker": {
             "colorbar": {
              "outlinewidth": 0,
              "ticks": ""
             }
            },
            "type": "scattergeo"
           }
          ],
          "scattergl": [
           {
            "marker": {
             "colorbar": {
              "outlinewidth": 0,
              "ticks": ""
             }
            },
            "type": "scattergl"
           }
          ],
          "scattermapbox": [
           {
            "marker": {
             "colorbar": {
              "outlinewidth": 0,
              "ticks": ""
             }
            },
            "type": "scattermapbox"
           }
          ],
          "scatterpolar": [
           {
            "marker": {
             "colorbar": {
              "outlinewidth": 0,
              "ticks": ""
             }
            },
            "type": "scatterpolar"
           }
          ],
          "scatterpolargl": [
           {
            "marker": {
             "colorbar": {
              "outlinewidth": 0,
              "ticks": ""
             }
            },
            "type": "scatterpolargl"
           }
          ],
          "scatterternary": [
           {
            "marker": {
             "colorbar": {
              "outlinewidth": 0,
              "ticks": ""
             }
            },
            "type": "scatterternary"
           }
          ],
          "surface": [
           {
            "colorbar": {
             "outlinewidth": 0,
             "ticks": ""
            },
            "colorscale": [
             [
              0,
              "#0d0887"
             ],
             [
              0.1111111111111111,
              "#46039f"
             ],
             [
              0.2222222222222222,
              "#7201a8"
             ],
             [
              0.3333333333333333,
              "#9c179e"
             ],
             [
              0.4444444444444444,
              "#bd3786"
             ],
             [
              0.5555555555555556,
              "#d8576b"
             ],
             [
              0.6666666666666666,
              "#ed7953"
             ],
             [
              0.7777777777777778,
              "#fb9f3a"
             ],
             [
              0.8888888888888888,
              "#fdca26"
             ],
             [
              1,
              "#f0f921"
             ]
            ],
            "type": "surface"
           }
          ],
          "table": [
           {
            "cells": {
             "fill": {
              "color": "#EBF0F8"
             },
             "line": {
              "color": "white"
             }
            },
            "header": {
             "fill": {
              "color": "#C8D4E3"
             },
             "line": {
              "color": "white"
             }
            },
            "type": "table"
           }
          ]
         },
         "layout": {
          "annotationdefaults": {
           "arrowcolor": "#2a3f5f",
           "arrowhead": 0,
           "arrowwidth": 1
          },
          "autotypenumbers": "strict",
          "coloraxis": {
           "colorbar": {
            "outlinewidth": 0,
            "ticks": ""
           }
          },
          "colorscale": {
           "diverging": [
            [
             0,
             "#8e0152"
            ],
            [
             0.1,
             "#c51b7d"
            ],
            [
             0.2,
             "#de77ae"
            ],
            [
             0.3,
             "#f1b6da"
            ],
            [
             0.4,
             "#fde0ef"
            ],
            [
             0.5,
             "#f7f7f7"
            ],
            [
             0.6,
             "#e6f5d0"
            ],
            [
             0.7,
             "#b8e186"
            ],
            [
             0.8,
             "#7fbc41"
            ],
            [
             0.9,
             "#4d9221"
            ],
            [
             1,
             "#276419"
            ]
           ],
           "sequential": [
            [
             0,
             "#0d0887"
            ],
            [
             0.1111111111111111,
             "#46039f"
            ],
            [
             0.2222222222222222,
             "#7201a8"
            ],
            [
             0.3333333333333333,
             "#9c179e"
            ],
            [
             0.4444444444444444,
             "#bd3786"
            ],
            [
             0.5555555555555556,
             "#d8576b"
            ],
            [
             0.6666666666666666,
             "#ed7953"
            ],
            [
             0.7777777777777778,
             "#fb9f3a"
            ],
            [
             0.8888888888888888,
             "#fdca26"
            ],
            [
             1,
             "#f0f921"
            ]
           ],
           "sequentialminus": [
            [
             0,
             "#0d0887"
            ],
            [
             0.1111111111111111,
             "#46039f"
            ],
            [
             0.2222222222222222,
             "#7201a8"
            ],
            [
             0.3333333333333333,
             "#9c179e"
            ],
            [
             0.4444444444444444,
             "#bd3786"
            ],
            [
             0.5555555555555556,
             "#d8576b"
            ],
            [
             0.6666666666666666,
             "#ed7953"
            ],
            [
             0.7777777777777778,
             "#fb9f3a"
            ],
            [
             0.8888888888888888,
             "#fdca26"
            ],
            [
             1,
             "#f0f921"
            ]
           ]
          },
          "colorway": [
           "#636efa",
           "#EF553B",
           "#00cc96",
           "#ab63fa",
           "#FFA15A",
           "#19d3f3",
           "#FF6692",
           "#B6E880",
           "#FF97FF",
           "#FECB52"
          ],
          "font": {
           "color": "#2a3f5f"
          },
          "geo": {
           "bgcolor": "white",
           "lakecolor": "white",
           "landcolor": "#E5ECF6",
           "showlakes": true,
           "showland": true,
           "subunitcolor": "white"
          },
          "hoverlabel": {
           "align": "left"
          },
          "hovermode": "closest",
          "mapbox": {
           "style": "light"
          },
          "paper_bgcolor": "white",
          "plot_bgcolor": "#E5ECF6",
          "polar": {
           "angularaxis": {
            "gridcolor": "white",
            "linecolor": "white",
            "ticks": ""
           },
           "bgcolor": "#E5ECF6",
           "radialaxis": {
            "gridcolor": "white",
            "linecolor": "white",
            "ticks": ""
           }
          },
          "scene": {
           "xaxis": {
            "backgroundcolor": "#E5ECF6",
            "gridcolor": "white",
            "gridwidth": 2,
            "linecolor": "white",
            "showbackground": true,
            "ticks": "",
            "zerolinecolor": "white"
           },
           "yaxis": {
            "backgroundcolor": "#E5ECF6",
            "gridcolor": "white",
            "gridwidth": 2,
            "linecolor": "white",
            "showbackground": true,
            "ticks": "",
            "zerolinecolor": "white"
           },
           "zaxis": {
            "backgroundcolor": "#E5ECF6",
            "gridcolor": "white",
            "gridwidth": 2,
            "linecolor": "white",
            "showbackground": true,
            "ticks": "",
            "zerolinecolor": "white"
           }
          },
          "shapedefaults": {
           "line": {
            "color": "#2a3f5f"
           }
          },
          "ternary": {
           "aaxis": {
            "gridcolor": "white",
            "linecolor": "white",
            "ticks": ""
           },
           "baxis": {
            "gridcolor": "white",
            "linecolor": "white",
            "ticks": ""
           },
           "bgcolor": "#E5ECF6",
           "caxis": {
            "gridcolor": "white",
            "linecolor": "white",
            "ticks": ""
           }
          },
          "title": {
           "x": 0.05
          },
          "xaxis": {
           "automargin": true,
           "gridcolor": "white",
           "linecolor": "white",
           "ticks": "",
           "title": {
            "standoff": 15
           },
           "zerolinecolor": "white",
           "zerolinewidth": 2
          },
          "yaxis": {
           "automargin": true,
           "gridcolor": "white",
           "linecolor": "white",
           "ticks": "",
           "title": {
            "standoff": 15
           },
           "zerolinecolor": "white",
           "zerolinewidth": 2
          }
         }
        }
       }
      },
      "text/html": [
       "<div>                            <div id=\"8be9aa98-ccf6-4897-8064-5e9124c77f4d\" class=\"plotly-graph-div\" style=\"height:525px; width:100%;\"></div>            <script type=\"text/javascript\">                require([\"plotly\"], function(Plotly) {                    window.PLOTLYENV=window.PLOTLYENV || {};                                    if (document.getElementById(\"8be9aa98-ccf6-4897-8064-5e9124c77f4d\")) {                    Plotly.newPlot(                        \"8be9aa98-ccf6-4897-8064-5e9124c77f4d\",                        [{\"x\":[[0.0,0.000625,0.001875,0.0031249999999999997,0.0043749999999999995,0.005624999999999999,0.006874999999999998,0.008124999999999999,0.009375,0.01],[0.0,0.000625,0.001875,0.0031249999999999997,0.0043749999999999995,0.005624999999999999,0.006874999999999998,0.008124999999999999,0.009375,0.01],[0.0,0.000625,0.001875,0.0031249999999999997,0.0043749999999999995,0.005624999999999999,0.006874999999999998,0.008124999999999999,0.009375,0.01],[0.0,0.000625,0.001875,0.0031249999999999997,0.0043749999999999995,0.005624999999999999,0.006874999999999998,0.008124999999999999,0.009375,0.01],[0.0,0.000625,0.001875,0.0031249999999999997,0.0043749999999999995,0.005624999999999999,0.006874999999999998,0.008124999999999999,0.009375,0.01],[0.0,0.000625,0.001875,0.0031249999999999997,0.0043749999999999995,0.005624999999999999,0.006874999999999998,0.008124999999999999,0.009375,0.01],[0.0,0.000625,0.001875,0.0031249999999999997,0.0043749999999999995,0.005624999999999999,0.006874999999999998,0.008124999999999999,0.009375,0.01],[0.0,0.000625,0.001875,0.0031249999999999997,0.0043749999999999995,0.005624999999999999,0.006874999999999998,0.008124999999999999,0.009375,0.01],[0.0,0.000625,0.001875,0.0031249999999999997,0.0043749999999999995,0.005624999999999999,0.006874999999999998,0.008124999999999999,0.009375,0.01],[0.0,0.000625,0.001875,0.0031249999999999997,0.0043749999999999995,0.005624999999999999,0.006874999999999998,0.008124999999999999,0.009375,0.01]],\"y\":[[0.0,0.0,0.0,0.0,0.0,0.0,0.0,0.0,0.0,0.0],[0.000625,0.000625,0.000625,0.000625,0.000625,0.000625,0.000625,0.000625,0.000625,0.000625],[0.001875,0.001875,0.001875,0.001875,0.001875,0.001875,0.001875,0.001875,0.001875,0.001875],[0.0031249999999999997,0.0031249999999999997,0.0031249999999999997,0.0031249999999999997,0.0031249999999999997,0.0031249999999999997,0.0031249999999999997,0.0031249999999999997,0.0031249999999999997,0.0031249999999999997],[0.0043749999999999995,0.0043749999999999995,0.0043749999999999995,0.0043749999999999995,0.0043749999999999995,0.0043749999999999995,0.0043749999999999995,0.0043749999999999995,0.0043749999999999995,0.0043749999999999995],[0.005624999999999999,0.005624999999999999,0.005624999999999999,0.005624999999999999,0.005624999999999999,0.005624999999999999,0.005624999999999999,0.005624999999999999,0.005624999999999999,0.005624999999999999],[0.006874999999999998,0.006874999999999998,0.006874999999999998,0.006874999999999998,0.006874999999999998,0.006874999999999998,0.006874999999999998,0.006874999999999998,0.006874999999999998,0.006874999999999998],[0.008124999999999999,0.008124999999999999,0.008124999999999999,0.008124999999999999,0.008124999999999999,0.008124999999999999,0.008124999999999999,0.008124999999999999,0.008124999999999999,0.008124999999999999],[0.009375,0.009375,0.009375,0.009375,0.009375,0.009375,0.009375,0.009375,0.009375,0.009375],[0.01,0.01,0.01,0.01,0.01,0.01,0.01,0.01,0.01,0.01]],\"z\":[[3.1199936324930415,1.414213562373095,1.4142135623730951,1.4142135623730951,1.414213562373095,1.4142135623730951,1.414213562373095,1.4142135623730951,1.4142135623730956,0.3302376207691659],[1.4142050051887025,1.0485366122523622e-13,2.6403794179749087e-12,2.6629161340419593e-12,2.5768876786844476e-12,2.4460894236039104e-12,2.2562668248631467e-12,1.972529028328247e-12,7.023378759246217e-12,1.4142130149995502],[1.414213562373223,0.9067932482149698,0.3496090235037502,0.1783038325532623,0.17861019894829466,0.24561920795746073,0.35928474791391285,0.5329979110775548,0.7883136781771618,1.4142135623732368],[1.414213562371881,1.0306167851794754,0.5126146586954459,0.30545947653207495,0.2969325225489273,0.37895845835394254,0.524484464266373,0.7325778961332403,1.0232030743805907,1.4142135623730567],[1.4142135623864522,1.0188503084864455,0.5716934794703628,0.4195552573389153,0.40629339993214014,0.471315598940784,0.6142301745226892,0.8299288312730453,1.1352617814459498,1.4142135623730876],[1.414213562351517,0.9420661722432173,0.6203545871647012,0.5470880084123475,0.5201867141919806,0.5587094264066448,0.6858688297011288,0.8939408790845984,1.1909305715173866,1.4142135623730845],[1.414213562373099,0.8214316176029327,0.7467589729872801,0.6852496703737048,0.6262534464355577,0.6548544545543115,0.7695512269188661,0.9523161497226678,1.2182840043656868,1.4142135623730252],[1.414213562373102,0.945182903712739,0.9941363651197342,0.7749646999750132,0.7274200568632295,0.7978636508496629,0.9078156576168395,1.0361426323865162,1.22782586031248,1.4142135623724594],[1.4142135623730945,2.7527762644354534,0.9478117178154808,0.8433343795037329,0.9909159883889906,1.1034886527159828,1.1758593363724783,1.2149558799542173,1.1578176572818164,1.4142135623730951],[9.626221638895146,1.4142135623730945,1.4142135623699488,1.4142135623734882,1.4142135623731897,1.4142135623730534,1.414213562373217,1.4142135623731287,1.414213562373095,0.6444313506869197]],\"type\":\"surface\"}],                        {\"template\":{\"data\":{\"bar\":[{\"error_x\":{\"color\":\"#2a3f5f\"},\"error_y\":{\"color\":\"#2a3f5f\"},\"marker\":{\"line\":{\"color\":\"#E5ECF6\",\"width\":0.5},\"pattern\":{\"fillmode\":\"overlay\",\"size\":10,\"solidity\":0.2}},\"type\":\"bar\"}],\"barpolar\":[{\"marker\":{\"line\":{\"color\":\"#E5ECF6\",\"width\":0.5},\"pattern\":{\"fillmode\":\"overlay\",\"size\":10,\"solidity\":0.2}},\"type\":\"barpolar\"}],\"carpet\":[{\"aaxis\":{\"endlinecolor\":\"#2a3f5f\",\"gridcolor\":\"white\",\"linecolor\":\"white\",\"minorgridcolor\":\"white\",\"startlinecolor\":\"#2a3f5f\"},\"baxis\":{\"endlinecolor\":\"#2a3f5f\",\"gridcolor\":\"white\",\"linecolor\":\"white\",\"minorgridcolor\":\"white\",\"startlinecolor\":\"#2a3f5f\"},\"type\":\"carpet\"}],\"choropleth\":[{\"colorbar\":{\"outlinewidth\":0,\"ticks\":\"\"},\"type\":\"choropleth\"}],\"contour\":[{\"colorbar\":{\"outlinewidth\":0,\"ticks\":\"\"},\"colorscale\":[[0.0,\"#0d0887\"],[0.1111111111111111,\"#46039f\"],[0.2222222222222222,\"#7201a8\"],[0.3333333333333333,\"#9c179e\"],[0.4444444444444444,\"#bd3786\"],[0.5555555555555556,\"#d8576b\"],[0.6666666666666666,\"#ed7953\"],[0.7777777777777778,\"#fb9f3a\"],[0.8888888888888888,\"#fdca26\"],[1.0,\"#f0f921\"]],\"type\":\"contour\"}],\"contourcarpet\":[{\"colorbar\":{\"outlinewidth\":0,\"ticks\":\"\"},\"type\":\"contourcarpet\"}],\"heatmap\":[{\"colorbar\":{\"outlinewidth\":0,\"ticks\":\"\"},\"colorscale\":[[0.0,\"#0d0887\"],[0.1111111111111111,\"#46039f\"],[0.2222222222222222,\"#7201a8\"],[0.3333333333333333,\"#9c179e\"],[0.4444444444444444,\"#bd3786\"],[0.5555555555555556,\"#d8576b\"],[0.6666666666666666,\"#ed7953\"],[0.7777777777777778,\"#fb9f3a\"],[0.8888888888888888,\"#fdca26\"],[1.0,\"#f0f921\"]],\"type\":\"heatmap\"}],\"heatmapgl\":[{\"colorbar\":{\"outlinewidth\":0,\"ticks\":\"\"},\"colorscale\":[[0.0,\"#0d0887\"],[0.1111111111111111,\"#46039f\"],[0.2222222222222222,\"#7201a8\"],[0.3333333333333333,\"#9c179e\"],[0.4444444444444444,\"#bd3786\"],[0.5555555555555556,\"#d8576b\"],[0.6666666666666666,\"#ed7953\"],[0.7777777777777778,\"#fb9f3a\"],[0.8888888888888888,\"#fdca26\"],[1.0,\"#f0f921\"]],\"type\":\"heatmapgl\"}],\"histogram\":[{\"marker\":{\"pattern\":{\"fillmode\":\"overlay\",\"size\":10,\"solidity\":0.2}},\"type\":\"histogram\"}],\"histogram2d\":[{\"colorbar\":{\"outlinewidth\":0,\"ticks\":\"\"},\"colorscale\":[[0.0,\"#0d0887\"],[0.1111111111111111,\"#46039f\"],[0.2222222222222222,\"#7201a8\"],[0.3333333333333333,\"#9c179e\"],[0.4444444444444444,\"#bd3786\"],[0.5555555555555556,\"#d8576b\"],[0.6666666666666666,\"#ed7953\"],[0.7777777777777778,\"#fb9f3a\"],[0.8888888888888888,\"#fdca26\"],[1.0,\"#f0f921\"]],\"type\":\"histogram2d\"}],\"histogram2dcontour\":[{\"colorbar\":{\"outlinewidth\":0,\"ticks\":\"\"},\"colorscale\":[[0.0,\"#0d0887\"],[0.1111111111111111,\"#46039f\"],[0.2222222222222222,\"#7201a8\"],[0.3333333333333333,\"#9c179e\"],[0.4444444444444444,\"#bd3786\"],[0.5555555555555556,\"#d8576b\"],[0.6666666666666666,\"#ed7953\"],[0.7777777777777778,\"#fb9f3a\"],[0.8888888888888888,\"#fdca26\"],[1.0,\"#f0f921\"]],\"type\":\"histogram2dcontour\"}],\"mesh3d\":[{\"colorbar\":{\"outlinewidth\":0,\"ticks\":\"\"},\"type\":\"mesh3d\"}],\"parcoords\":[{\"line\":{\"colorbar\":{\"outlinewidth\":0,\"ticks\":\"\"}},\"type\":\"parcoords\"}],\"pie\":[{\"automargin\":true,\"type\":\"pie\"}],\"scatter\":[{\"marker\":{\"colorbar\":{\"outlinewidth\":0,\"ticks\":\"\"}},\"type\":\"scatter\"}],\"scatter3d\":[{\"line\":{\"colorbar\":{\"outlinewidth\":0,\"ticks\":\"\"}},\"marker\":{\"colorbar\":{\"outlinewidth\":0,\"ticks\":\"\"}},\"type\":\"scatter3d\"}],\"scattercarpet\":[{\"marker\":{\"colorbar\":{\"outlinewidth\":0,\"ticks\":\"\"}},\"type\":\"scattercarpet\"}],\"scattergeo\":[{\"marker\":{\"colorbar\":{\"outlinewidth\":0,\"ticks\":\"\"}},\"type\":\"scattergeo\"}],\"scattergl\":[{\"marker\":{\"colorbar\":{\"outlinewidth\":0,\"ticks\":\"\"}},\"type\":\"scattergl\"}],\"scattermapbox\":[{\"marker\":{\"colorbar\":{\"outlinewidth\":0,\"ticks\":\"\"}},\"type\":\"scattermapbox\"}],\"scatterpolar\":[{\"marker\":{\"colorbar\":{\"outlinewidth\":0,\"ticks\":\"\"}},\"type\":\"scatterpolar\"}],\"scatterpolargl\":[{\"marker\":{\"colorbar\":{\"outlinewidth\":0,\"ticks\":\"\"}},\"type\":\"scatterpolargl\"}],\"scatterternary\":[{\"marker\":{\"colorbar\":{\"outlinewidth\":0,\"ticks\":\"\"}},\"type\":\"scatterternary\"}],\"surface\":[{\"colorbar\":{\"outlinewidth\":0,\"ticks\":\"\"},\"colorscale\":[[0.0,\"#0d0887\"],[0.1111111111111111,\"#46039f\"],[0.2222222222222222,\"#7201a8\"],[0.3333333333333333,\"#9c179e\"],[0.4444444444444444,\"#bd3786\"],[0.5555555555555556,\"#d8576b\"],[0.6666666666666666,\"#ed7953\"],[0.7777777777777778,\"#fb9f3a\"],[0.8888888888888888,\"#fdca26\"],[1.0,\"#f0f921\"]],\"type\":\"surface\"}],\"table\":[{\"cells\":{\"fill\":{\"color\":\"#EBF0F8\"},\"line\":{\"color\":\"white\"}},\"header\":{\"fill\":{\"color\":\"#C8D4E3\"},\"line\":{\"color\":\"white\"}},\"type\":\"table\"}]},\"layout\":{\"annotationdefaults\":{\"arrowcolor\":\"#2a3f5f\",\"arrowhead\":0,\"arrowwidth\":1},\"autotypenumbers\":\"strict\",\"coloraxis\":{\"colorbar\":{\"outlinewidth\":0,\"ticks\":\"\"}},\"colorscale\":{\"diverging\":[[0,\"#8e0152\"],[0.1,\"#c51b7d\"],[0.2,\"#de77ae\"],[0.3,\"#f1b6da\"],[0.4,\"#fde0ef\"],[0.5,\"#f7f7f7\"],[0.6,\"#e6f5d0\"],[0.7,\"#b8e186\"],[0.8,\"#7fbc41\"],[0.9,\"#4d9221\"],[1,\"#276419\"]],\"sequential\":[[0.0,\"#0d0887\"],[0.1111111111111111,\"#46039f\"],[0.2222222222222222,\"#7201a8\"],[0.3333333333333333,\"#9c179e\"],[0.4444444444444444,\"#bd3786\"],[0.5555555555555556,\"#d8576b\"],[0.6666666666666666,\"#ed7953\"],[0.7777777777777778,\"#fb9f3a\"],[0.8888888888888888,\"#fdca26\"],[1.0,\"#f0f921\"]],\"sequentialminus\":[[0.0,\"#0d0887\"],[0.1111111111111111,\"#46039f\"],[0.2222222222222222,\"#7201a8\"],[0.3333333333333333,\"#9c179e\"],[0.4444444444444444,\"#bd3786\"],[0.5555555555555556,\"#d8576b\"],[0.6666666666666666,\"#ed7953\"],[0.7777777777777778,\"#fb9f3a\"],[0.8888888888888888,\"#fdca26\"],[1.0,\"#f0f921\"]]},\"colorway\":[\"#636efa\",\"#EF553B\",\"#00cc96\",\"#ab63fa\",\"#FFA15A\",\"#19d3f3\",\"#FF6692\",\"#B6E880\",\"#FF97FF\",\"#FECB52\"],\"font\":{\"color\":\"#2a3f5f\"},\"geo\":{\"bgcolor\":\"white\",\"lakecolor\":\"white\",\"landcolor\":\"#E5ECF6\",\"showlakes\":true,\"showland\":true,\"subunitcolor\":\"white\"},\"hoverlabel\":{\"align\":\"left\"},\"hovermode\":\"closest\",\"mapbox\":{\"style\":\"light\"},\"paper_bgcolor\":\"white\",\"plot_bgcolor\":\"#E5ECF6\",\"polar\":{\"angularaxis\":{\"gridcolor\":\"white\",\"linecolor\":\"white\",\"ticks\":\"\"},\"bgcolor\":\"#E5ECF6\",\"radialaxis\":{\"gridcolor\":\"white\",\"linecolor\":\"white\",\"ticks\":\"\"}},\"scene\":{\"xaxis\":{\"backgroundcolor\":\"#E5ECF6\",\"gridcolor\":\"white\",\"gridwidth\":2,\"linecolor\":\"white\",\"showbackground\":true,\"ticks\":\"\",\"zerolinecolor\":\"white\"},\"yaxis\":{\"backgroundcolor\":\"#E5ECF6\",\"gridcolor\":\"white\",\"gridwidth\":2,\"linecolor\":\"white\",\"showbackground\":true,\"ticks\":\"\",\"zerolinecolor\":\"white\"},\"zaxis\":{\"backgroundcolor\":\"#E5ECF6\",\"gridcolor\":\"white\",\"gridwidth\":2,\"linecolor\":\"white\",\"showbackground\":true,\"ticks\":\"\",\"zerolinecolor\":\"white\"}},\"shapedefaults\":{\"line\":{\"color\":\"#2a3f5f\"}},\"ternary\":{\"aaxis\":{\"gridcolor\":\"white\",\"linecolor\":\"white\",\"ticks\":\"\"},\"baxis\":{\"gridcolor\":\"white\",\"linecolor\":\"white\",\"ticks\":\"\"},\"bgcolor\":\"#E5ECF6\",\"caxis\":{\"gridcolor\":\"white\",\"linecolor\":\"white\",\"ticks\":\"\"}},\"title\":{\"x\":0.05},\"xaxis\":{\"automargin\":true,\"gridcolor\":\"white\",\"linecolor\":\"white\",\"ticks\":\"\",\"title\":{\"standoff\":15},\"zerolinecolor\":\"white\",\"zerolinewidth\":2},\"yaxis\":{\"automargin\":true,\"gridcolor\":\"white\",\"linecolor\":\"white\",\"ticks\":\"\",\"title\":{\"standoff\":15},\"zerolinecolor\":\"white\",\"zerolinewidth\":2}}}},                        {\"responsive\": true}                    ).then(function(){\n",
       "                            \n",
       "var gd = document.getElementById('8be9aa98-ccf6-4897-8064-5e9124c77f4d');\n",
       "var x = new MutationObserver(function (mutations, observer) {{\n",
       "        var display = window.getComputedStyle(gd).display;\n",
       "        if (!display || display === 'none') {{\n",
       "            console.log([gd, 'removed!']);\n",
       "            Plotly.purge(gd);\n",
       "            observer.disconnect();\n",
       "        }}\n",
       "}});\n",
       "\n",
       "// Listen for the removal of the full notebook cells\n",
       "var notebookContainer = gd.closest('#notebook-container');\n",
       "if (notebookContainer) {{\n",
       "    x.observe(notebookContainer, {childList: true});\n",
       "}}\n",
       "\n",
       "// Listen for the clearing of the current output cell\n",
       "var outputEl = gd.closest('.output');\n",
       "if (outputEl) {{\n",
       "    x.observe(outputEl, {childList: true});\n",
       "}}\n",
       "\n",
       "                        })                };                });            </script>        </div>"
      ]
     },
     "metadata": {},
     "output_type": "display_data"
    },
    {
     "name": "stdout",
     "output_type": "stream",
     "text": [
      "U graph\n"
     ]
    },
    {
     "data": {
      "application/vnd.plotly.v1+json": {
       "config": {
        "plotlyServerURL": "https://plot.ly"
       },
       "data": [
        {
         "type": "surface",
         "x": [
          [
           0,
           0.000625,
           0.001875,
           0.0031249999999999997,
           0.0043749999999999995,
           0.005624999999999999,
           0.006874999999999998,
           0.008124999999999999,
           0.009375,
           0.01
          ],
          [
           0,
           0.000625,
           0.001875,
           0.0031249999999999997,
           0.0043749999999999995,
           0.005624999999999999,
           0.006874999999999998,
           0.008124999999999999,
           0.009375,
           0.01
          ],
          [
           0,
           0.000625,
           0.001875,
           0.0031249999999999997,
           0.0043749999999999995,
           0.005624999999999999,
           0.006874999999999998,
           0.008124999999999999,
           0.009375,
           0.01
          ],
          [
           0,
           0.000625,
           0.001875,
           0.0031249999999999997,
           0.0043749999999999995,
           0.005624999999999999,
           0.006874999999999998,
           0.008124999999999999,
           0.009375,
           0.01
          ],
          [
           0,
           0.000625,
           0.001875,
           0.0031249999999999997,
           0.0043749999999999995,
           0.005624999999999999,
           0.006874999999999998,
           0.008124999999999999,
           0.009375,
           0.01
          ],
          [
           0,
           0.000625,
           0.001875,
           0.0031249999999999997,
           0.0043749999999999995,
           0.005624999999999999,
           0.006874999999999998,
           0.008124999999999999,
           0.009375,
           0.01
          ],
          [
           0,
           0.000625,
           0.001875,
           0.0031249999999999997,
           0.0043749999999999995,
           0.005624999999999999,
           0.006874999999999998,
           0.008124999999999999,
           0.009375,
           0.01
          ],
          [
           0,
           0.000625,
           0.001875,
           0.0031249999999999997,
           0.0043749999999999995,
           0.005624999999999999,
           0.006874999999999998,
           0.008124999999999999,
           0.009375,
           0.01
          ],
          [
           0,
           0.000625,
           0.001875,
           0.0031249999999999997,
           0.0043749999999999995,
           0.005624999999999999,
           0.006874999999999998,
           0.008124999999999999,
           0.009375,
           0.01
          ],
          [
           0,
           0.000625,
           0.001875,
           0.0031249999999999997,
           0.0043749999999999995,
           0.005624999999999999,
           0.006874999999999998,
           0.008124999999999999,
           0.009375,
           0.01
          ]
         ],
         "y": [
          [
           0,
           0,
           0,
           0,
           0,
           0,
           0,
           0,
           0,
           0
          ],
          [
           0.000625,
           0.000625,
           0.000625,
           0.000625,
           0.000625,
           0.000625,
           0.000625,
           0.000625,
           0.000625,
           0.000625
          ],
          [
           0.001875,
           0.001875,
           0.001875,
           0.001875,
           0.001875,
           0.001875,
           0.001875,
           0.001875,
           0.001875,
           0.001875
          ],
          [
           0.0031249999999999997,
           0.0031249999999999997,
           0.0031249999999999997,
           0.0031249999999999997,
           0.0031249999999999997,
           0.0031249999999999997,
           0.0031249999999999997,
           0.0031249999999999997,
           0.0031249999999999997,
           0.0031249999999999997
          ],
          [
           0.0043749999999999995,
           0.0043749999999999995,
           0.0043749999999999995,
           0.0043749999999999995,
           0.0043749999999999995,
           0.0043749999999999995,
           0.0043749999999999995,
           0.0043749999999999995,
           0.0043749999999999995,
           0.0043749999999999995
          ],
          [
           0.005624999999999999,
           0.005624999999999999,
           0.005624999999999999,
           0.005624999999999999,
           0.005624999999999999,
           0.005624999999999999,
           0.005624999999999999,
           0.005624999999999999,
           0.005624999999999999,
           0.005624999999999999
          ],
          [
           0.006874999999999998,
           0.006874999999999998,
           0.006874999999999998,
           0.006874999999999998,
           0.006874999999999998,
           0.006874999999999998,
           0.006874999999999998,
           0.006874999999999998,
           0.006874999999999998,
           0.006874999999999998
          ],
          [
           0.008124999999999999,
           0.008124999999999999,
           0.008124999999999999,
           0.008124999999999999,
           0.008124999999999999,
           0.008124999999999999,
           0.008124999999999999,
           0.008124999999999999,
           0.008124999999999999,
           0.008124999999999999
          ],
          [
           0.009375,
           0.009375,
           0.009375,
           0.009375,
           0.009375,
           0.009375,
           0.009375,
           0.009375,
           0.009375,
           0.009375
          ],
          [
           0.01,
           0.01,
           0.01,
           0.01,
           0.01,
           0.01,
           0.01,
           0.01,
           0.01,
           0.01
          ]
         ],
         "z": [
          [
           0.000002275979489954106,
           -0.000001,
           -0.000001,
           -0.000001,
           -0.000001,
           -0.0000010000000000000002,
           -0.000001,
           -0.0000010000000000000002,
           -0.0000010000000000000006,
           -2.903899522415579e-7
          ],
          [
           -9.99987898277163e-7,
           1.6844944294654962e-20,
           -2.5375642832648126e-18,
           -2.5721395672737282e-18,
           -2.4876984986626106e-18,
           -2.35494444203016e-18,
           -2.1607292500616444e-18,
           -1.8697975778456288e-18,
           7.012171078134666e-18,
           9.999992258967595e-7
          ],
          [
           -0.0000010000000000000006,
           -7.561736320234243e-7,
           -3.477685312358816e-7,
           -1.340247608911105e-7,
           6.9799865574205985e-9,
           1.3398375242599187e-7,
           2.781740710062112e-7,
           4.612934454020782e-7,
           7.002679118776866e-7,
           0.000001000000000000001
          ],
          [
           -0.0000010000000000000048,
           -8.326817590146925e-7,
           -5.058731753590573e-7,
           -2.469880590824523e-7,
           -3.569859566219352e-8,
           1.6214835416485558e-7,
           3.6698613367480233e-7,
           5.863674012012357e-7,
           8.127654653310408e-7,
           0.000001000000000000001
          ],
          [
           -9.99999999999978e-7,
           -8.349604763874605e-7,
           -5.707683506964522e-7,
           -3.264954188157028e-7,
           -9.135093110024387e-8,
           1.4068304858791697e-7,
           3.725312509146657e-7,
           6.050273362806453e-7,
           8.418348405869144e-7,
           9.999999999999995e-7
          ],
          [
           -9.999999999999678e-7,
           -8.214145458555958e-7,
           -6.089065368692101e-7,
           -3.7959726866026623e-7,
           -1.2952906306265393e-7,
           1.2254634891251154e-7,
           3.67344741432668e-7,
           6.07229922352804e-7,
           8.548373929155027e-7,
           9.999999999999934e-7
          ],
          [
           -0.0000010000000000000057,
           -8.003838735660528e-7,
           -6.445259879568494e-7,
           -3.906615045013956e-7,
           -1.0627700495967157e-7,
           1.6049434468146232e-7,
           4.0089612025675957e-7,
           6.278303072723653e-7,
           8.673952464523396e-7,
           9.999999999999021e-7
          ],
          [
           -0.00000100000000000001,
           -8.446265168700452e-7,
           -6.808946681564327e-7,
           -2.7559872027289916e-7,
           6.30169137733749e-8,
           3.2095210392631696e-7,
           5.197632848357398e-7,
           6.879962364340267e-7,
           8.800311177368182e-7,
           9.999999999991008e-7
          ],
          [
           -9.999999999999983e-7,
           -0.0000019456249002634,
           -4.146774837058193e-7,
           2.1257204986422155e-7,
           5.17535565630635e-7,
           6.818545158763453e-7,
           7.75158845003217e-7,
           8.234003079671245e-7,
           8.159548683283707e-7,
           0.0000010000000000000006
          ],
          [
           -0.000006811043708804669,
           0.000001,
           9.999999999999985e-7,
           9.999999999999923e-7,
           9.99999999999992e-7,
           0.0000010000000000000038,
           0.000001000000000000002,
           9.999999999999991e-7,
           0.000001,
           4.6197384069734714e-7
          ]
         ]
        }
       ],
       "layout": {
        "template": {
         "data": {
          "bar": [
           {
            "error_x": {
             "color": "#2a3f5f"
            },
            "error_y": {
             "color": "#2a3f5f"
            },
            "marker": {
             "line": {
              "color": "#E5ECF6",
              "width": 0.5
             },
             "pattern": {
              "fillmode": "overlay",
              "size": 10,
              "solidity": 0.2
             }
            },
            "type": "bar"
           }
          ],
          "barpolar": [
           {
            "marker": {
             "line": {
              "color": "#E5ECF6",
              "width": 0.5
             },
             "pattern": {
              "fillmode": "overlay",
              "size": 10,
              "solidity": 0.2
             }
            },
            "type": "barpolar"
           }
          ],
          "carpet": [
           {
            "aaxis": {
             "endlinecolor": "#2a3f5f",
             "gridcolor": "white",
             "linecolor": "white",
             "minorgridcolor": "white",
             "startlinecolor": "#2a3f5f"
            },
            "baxis": {
             "endlinecolor": "#2a3f5f",
             "gridcolor": "white",
             "linecolor": "white",
             "minorgridcolor": "white",
             "startlinecolor": "#2a3f5f"
            },
            "type": "carpet"
           }
          ],
          "choropleth": [
           {
            "colorbar": {
             "outlinewidth": 0,
             "ticks": ""
            },
            "type": "choropleth"
           }
          ],
          "contour": [
           {
            "colorbar": {
             "outlinewidth": 0,
             "ticks": ""
            },
            "colorscale": [
             [
              0,
              "#0d0887"
             ],
             [
              0.1111111111111111,
              "#46039f"
             ],
             [
              0.2222222222222222,
              "#7201a8"
             ],
             [
              0.3333333333333333,
              "#9c179e"
             ],
             [
              0.4444444444444444,
              "#bd3786"
             ],
             [
              0.5555555555555556,
              "#d8576b"
             ],
             [
              0.6666666666666666,
              "#ed7953"
             ],
             [
              0.7777777777777778,
              "#fb9f3a"
             ],
             [
              0.8888888888888888,
              "#fdca26"
             ],
             [
              1,
              "#f0f921"
             ]
            ],
            "type": "contour"
           }
          ],
          "contourcarpet": [
           {
            "colorbar": {
             "outlinewidth": 0,
             "ticks": ""
            },
            "type": "contourcarpet"
           }
          ],
          "heatmap": [
           {
            "colorbar": {
             "outlinewidth": 0,
             "ticks": ""
            },
            "colorscale": [
             [
              0,
              "#0d0887"
             ],
             [
              0.1111111111111111,
              "#46039f"
             ],
             [
              0.2222222222222222,
              "#7201a8"
             ],
             [
              0.3333333333333333,
              "#9c179e"
             ],
             [
              0.4444444444444444,
              "#bd3786"
             ],
             [
              0.5555555555555556,
              "#d8576b"
             ],
             [
              0.6666666666666666,
              "#ed7953"
             ],
             [
              0.7777777777777778,
              "#fb9f3a"
             ],
             [
              0.8888888888888888,
              "#fdca26"
             ],
             [
              1,
              "#f0f921"
             ]
            ],
            "type": "heatmap"
           }
          ],
          "heatmapgl": [
           {
            "colorbar": {
             "outlinewidth": 0,
             "ticks": ""
            },
            "colorscale": [
             [
              0,
              "#0d0887"
             ],
             [
              0.1111111111111111,
              "#46039f"
             ],
             [
              0.2222222222222222,
              "#7201a8"
             ],
             [
              0.3333333333333333,
              "#9c179e"
             ],
             [
              0.4444444444444444,
              "#bd3786"
             ],
             [
              0.5555555555555556,
              "#d8576b"
             ],
             [
              0.6666666666666666,
              "#ed7953"
             ],
             [
              0.7777777777777778,
              "#fb9f3a"
             ],
             [
              0.8888888888888888,
              "#fdca26"
             ],
             [
              1,
              "#f0f921"
             ]
            ],
            "type": "heatmapgl"
           }
          ],
          "histogram": [
           {
            "marker": {
             "pattern": {
              "fillmode": "overlay",
              "size": 10,
              "solidity": 0.2
             }
            },
            "type": "histogram"
           }
          ],
          "histogram2d": [
           {
            "colorbar": {
             "outlinewidth": 0,
             "ticks": ""
            },
            "colorscale": [
             [
              0,
              "#0d0887"
             ],
             [
              0.1111111111111111,
              "#46039f"
             ],
             [
              0.2222222222222222,
              "#7201a8"
             ],
             [
              0.3333333333333333,
              "#9c179e"
             ],
             [
              0.4444444444444444,
              "#bd3786"
             ],
             [
              0.5555555555555556,
              "#d8576b"
             ],
             [
              0.6666666666666666,
              "#ed7953"
             ],
             [
              0.7777777777777778,
              "#fb9f3a"
             ],
             [
              0.8888888888888888,
              "#fdca26"
             ],
             [
              1,
              "#f0f921"
             ]
            ],
            "type": "histogram2d"
           }
          ],
          "histogram2dcontour": [
           {
            "colorbar": {
             "outlinewidth": 0,
             "ticks": ""
            },
            "colorscale": [
             [
              0,
              "#0d0887"
             ],
             [
              0.1111111111111111,
              "#46039f"
             ],
             [
              0.2222222222222222,
              "#7201a8"
             ],
             [
              0.3333333333333333,
              "#9c179e"
             ],
             [
              0.4444444444444444,
              "#bd3786"
             ],
             [
              0.5555555555555556,
              "#d8576b"
             ],
             [
              0.6666666666666666,
              "#ed7953"
             ],
             [
              0.7777777777777778,
              "#fb9f3a"
             ],
             [
              0.8888888888888888,
              "#fdca26"
             ],
             [
              1,
              "#f0f921"
             ]
            ],
            "type": "histogram2dcontour"
           }
          ],
          "mesh3d": [
           {
            "colorbar": {
             "outlinewidth": 0,
             "ticks": ""
            },
            "type": "mesh3d"
           }
          ],
          "parcoords": [
           {
            "line": {
             "colorbar": {
              "outlinewidth": 0,
              "ticks": ""
             }
            },
            "type": "parcoords"
           }
          ],
          "pie": [
           {
            "automargin": true,
            "type": "pie"
           }
          ],
          "scatter": [
           {
            "marker": {
             "colorbar": {
              "outlinewidth": 0,
              "ticks": ""
             }
            },
            "type": "scatter"
           }
          ],
          "scatter3d": [
           {
            "line": {
             "colorbar": {
              "outlinewidth": 0,
              "ticks": ""
             }
            },
            "marker": {
             "colorbar": {
              "outlinewidth": 0,
              "ticks": ""
             }
            },
            "type": "scatter3d"
           }
          ],
          "scattercarpet": [
           {
            "marker": {
             "colorbar": {
              "outlinewidth": 0,
              "ticks": ""
             }
            },
            "type": "scattercarpet"
           }
          ],
          "scattergeo": [
           {
            "marker": {
             "colorbar": {
              "outlinewidth": 0,
              "ticks": ""
             }
            },
            "type": "scattergeo"
           }
          ],
          "scattergl": [
           {
            "marker": {
             "colorbar": {
              "outlinewidth": 0,
              "ticks": ""
             }
            },
            "type": "scattergl"
           }
          ],
          "scattermapbox": [
           {
            "marker": {
             "colorbar": {
              "outlinewidth": 0,
              "ticks": ""
             }
            },
            "type": "scattermapbox"
           }
          ],
          "scatterpolar": [
           {
            "marker": {
             "colorbar": {
              "outlinewidth": 0,
              "ticks": ""
             }
            },
            "type": "scatterpolar"
           }
          ],
          "scatterpolargl": [
           {
            "marker": {
             "colorbar": {
              "outlinewidth": 0,
              "ticks": ""
             }
            },
            "type": "scatterpolargl"
           }
          ],
          "scatterternary": [
           {
            "marker": {
             "colorbar": {
              "outlinewidth": 0,
              "ticks": ""
             }
            },
            "type": "scatterternary"
           }
          ],
          "surface": [
           {
            "colorbar": {
             "outlinewidth": 0,
             "ticks": ""
            },
            "colorscale": [
             [
              0,
              "#0d0887"
             ],
             [
              0.1111111111111111,
              "#46039f"
             ],
             [
              0.2222222222222222,
              "#7201a8"
             ],
             [
              0.3333333333333333,
              "#9c179e"
             ],
             [
              0.4444444444444444,
              "#bd3786"
             ],
             [
              0.5555555555555556,
              "#d8576b"
             ],
             [
              0.6666666666666666,
              "#ed7953"
             ],
             [
              0.7777777777777778,
              "#fb9f3a"
             ],
             [
              0.8888888888888888,
              "#fdca26"
             ],
             [
              1,
              "#f0f921"
             ]
            ],
            "type": "surface"
           }
          ],
          "table": [
           {
            "cells": {
             "fill": {
              "color": "#EBF0F8"
             },
             "line": {
              "color": "white"
             }
            },
            "header": {
             "fill": {
              "color": "#C8D4E3"
             },
             "line": {
              "color": "white"
             }
            },
            "type": "table"
           }
          ]
         },
         "layout": {
          "annotationdefaults": {
           "arrowcolor": "#2a3f5f",
           "arrowhead": 0,
           "arrowwidth": 1
          },
          "autotypenumbers": "strict",
          "coloraxis": {
           "colorbar": {
            "outlinewidth": 0,
            "ticks": ""
           }
          },
          "colorscale": {
           "diverging": [
            [
             0,
             "#8e0152"
            ],
            [
             0.1,
             "#c51b7d"
            ],
            [
             0.2,
             "#de77ae"
            ],
            [
             0.3,
             "#f1b6da"
            ],
            [
             0.4,
             "#fde0ef"
            ],
            [
             0.5,
             "#f7f7f7"
            ],
            [
             0.6,
             "#e6f5d0"
            ],
            [
             0.7,
             "#b8e186"
            ],
            [
             0.8,
             "#7fbc41"
            ],
            [
             0.9,
             "#4d9221"
            ],
            [
             1,
             "#276419"
            ]
           ],
           "sequential": [
            [
             0,
             "#0d0887"
            ],
            [
             0.1111111111111111,
             "#46039f"
            ],
            [
             0.2222222222222222,
             "#7201a8"
            ],
            [
             0.3333333333333333,
             "#9c179e"
            ],
            [
             0.4444444444444444,
             "#bd3786"
            ],
            [
             0.5555555555555556,
             "#d8576b"
            ],
            [
             0.6666666666666666,
             "#ed7953"
            ],
            [
             0.7777777777777778,
             "#fb9f3a"
            ],
            [
             0.8888888888888888,
             "#fdca26"
            ],
            [
             1,
             "#f0f921"
            ]
           ],
           "sequentialminus": [
            [
             0,
             "#0d0887"
            ],
            [
             0.1111111111111111,
             "#46039f"
            ],
            [
             0.2222222222222222,
             "#7201a8"
            ],
            [
             0.3333333333333333,
             "#9c179e"
            ],
            [
             0.4444444444444444,
             "#bd3786"
            ],
            [
             0.5555555555555556,
             "#d8576b"
            ],
            [
             0.6666666666666666,
             "#ed7953"
            ],
            [
             0.7777777777777778,
             "#fb9f3a"
            ],
            [
             0.8888888888888888,
             "#fdca26"
            ],
            [
             1,
             "#f0f921"
            ]
           ]
          },
          "colorway": [
           "#636efa",
           "#EF553B",
           "#00cc96",
           "#ab63fa",
           "#FFA15A",
           "#19d3f3",
           "#FF6692",
           "#B6E880",
           "#FF97FF",
           "#FECB52"
          ],
          "font": {
           "color": "#2a3f5f"
          },
          "geo": {
           "bgcolor": "white",
           "lakecolor": "white",
           "landcolor": "#E5ECF6",
           "showlakes": true,
           "showland": true,
           "subunitcolor": "white"
          },
          "hoverlabel": {
           "align": "left"
          },
          "hovermode": "closest",
          "mapbox": {
           "style": "light"
          },
          "paper_bgcolor": "white",
          "plot_bgcolor": "#E5ECF6",
          "polar": {
           "angularaxis": {
            "gridcolor": "white",
            "linecolor": "white",
            "ticks": ""
           },
           "bgcolor": "#E5ECF6",
           "radialaxis": {
            "gridcolor": "white",
            "linecolor": "white",
            "ticks": ""
           }
          },
          "scene": {
           "xaxis": {
            "backgroundcolor": "#E5ECF6",
            "gridcolor": "white",
            "gridwidth": 2,
            "linecolor": "white",
            "showbackground": true,
            "ticks": "",
            "zerolinecolor": "white"
           },
           "yaxis": {
            "backgroundcolor": "#E5ECF6",
            "gridcolor": "white",
            "gridwidth": 2,
            "linecolor": "white",
            "showbackground": true,
            "ticks": "",
            "zerolinecolor": "white"
           },
           "zaxis": {
            "backgroundcolor": "#E5ECF6",
            "gridcolor": "white",
            "gridwidth": 2,
            "linecolor": "white",
            "showbackground": true,
            "ticks": "",
            "zerolinecolor": "white"
           }
          },
          "shapedefaults": {
           "line": {
            "color": "#2a3f5f"
           }
          },
          "ternary": {
           "aaxis": {
            "gridcolor": "white",
            "linecolor": "white",
            "ticks": ""
           },
           "baxis": {
            "gridcolor": "white",
            "linecolor": "white",
            "ticks": ""
           },
           "bgcolor": "#E5ECF6",
           "caxis": {
            "gridcolor": "white",
            "linecolor": "white",
            "ticks": ""
           }
          },
          "title": {
           "x": 0.05
          },
          "xaxis": {
           "automargin": true,
           "gridcolor": "white",
           "linecolor": "white",
           "ticks": "",
           "title": {
            "standoff": 15
           },
           "zerolinecolor": "white",
           "zerolinewidth": 2
          },
          "yaxis": {
           "automargin": true,
           "gridcolor": "white",
           "linecolor": "white",
           "ticks": "",
           "title": {
            "standoff": 15
           },
           "zerolinecolor": "white",
           "zerolinewidth": 2
          }
         }
        }
       }
      },
      "text/html": [
       "<div>                            <div id=\"0861a7d1-36a6-449a-8b33-fb3960a8edb5\" class=\"plotly-graph-div\" style=\"height:525px; width:100%;\"></div>            <script type=\"text/javascript\">                require([\"plotly\"], function(Plotly) {                    window.PLOTLYENV=window.PLOTLYENV || {};                                    if (document.getElementById(\"0861a7d1-36a6-449a-8b33-fb3960a8edb5\")) {                    Plotly.newPlot(                        \"0861a7d1-36a6-449a-8b33-fb3960a8edb5\",                        [{\"x\":[[0.0,0.000625,0.001875,0.0031249999999999997,0.0043749999999999995,0.005624999999999999,0.006874999999999998,0.008124999999999999,0.009375,0.01],[0.0,0.000625,0.001875,0.0031249999999999997,0.0043749999999999995,0.005624999999999999,0.006874999999999998,0.008124999999999999,0.009375,0.01],[0.0,0.000625,0.001875,0.0031249999999999997,0.0043749999999999995,0.005624999999999999,0.006874999999999998,0.008124999999999999,0.009375,0.01],[0.0,0.000625,0.001875,0.0031249999999999997,0.0043749999999999995,0.005624999999999999,0.006874999999999998,0.008124999999999999,0.009375,0.01],[0.0,0.000625,0.001875,0.0031249999999999997,0.0043749999999999995,0.005624999999999999,0.006874999999999998,0.008124999999999999,0.009375,0.01],[0.0,0.000625,0.001875,0.0031249999999999997,0.0043749999999999995,0.005624999999999999,0.006874999999999998,0.008124999999999999,0.009375,0.01],[0.0,0.000625,0.001875,0.0031249999999999997,0.0043749999999999995,0.005624999999999999,0.006874999999999998,0.008124999999999999,0.009375,0.01],[0.0,0.000625,0.001875,0.0031249999999999997,0.0043749999999999995,0.005624999999999999,0.006874999999999998,0.008124999999999999,0.009375,0.01],[0.0,0.000625,0.001875,0.0031249999999999997,0.0043749999999999995,0.005624999999999999,0.006874999999999998,0.008124999999999999,0.009375,0.01],[0.0,0.000625,0.001875,0.0031249999999999997,0.0043749999999999995,0.005624999999999999,0.006874999999999998,0.008124999999999999,0.009375,0.01]],\"y\":[[0.0,0.0,0.0,0.0,0.0,0.0,0.0,0.0,0.0,0.0],[0.000625,0.000625,0.000625,0.000625,0.000625,0.000625,0.000625,0.000625,0.000625,0.000625],[0.001875,0.001875,0.001875,0.001875,0.001875,0.001875,0.001875,0.001875,0.001875,0.001875],[0.0031249999999999997,0.0031249999999999997,0.0031249999999999997,0.0031249999999999997,0.0031249999999999997,0.0031249999999999997,0.0031249999999999997,0.0031249999999999997,0.0031249999999999997,0.0031249999999999997],[0.0043749999999999995,0.0043749999999999995,0.0043749999999999995,0.0043749999999999995,0.0043749999999999995,0.0043749999999999995,0.0043749999999999995,0.0043749999999999995,0.0043749999999999995,0.0043749999999999995],[0.005624999999999999,0.005624999999999999,0.005624999999999999,0.005624999999999999,0.005624999999999999,0.005624999999999999,0.005624999999999999,0.005624999999999999,0.005624999999999999,0.005624999999999999],[0.006874999999999998,0.006874999999999998,0.006874999999999998,0.006874999999999998,0.006874999999999998,0.006874999999999998,0.006874999999999998,0.006874999999999998,0.006874999999999998,0.006874999999999998],[0.008124999999999999,0.008124999999999999,0.008124999999999999,0.008124999999999999,0.008124999999999999,0.008124999999999999,0.008124999999999999,0.008124999999999999,0.008124999999999999,0.008124999999999999],[0.009375,0.009375,0.009375,0.009375,0.009375,0.009375,0.009375,0.009375,0.009375,0.009375],[0.01,0.01,0.01,0.01,0.01,0.01,0.01,0.01,0.01,0.01]],\"z\":[[2.275979489954106e-06,-1e-06,-1e-06,-1e-06,-1e-06,-1.0000000000000002e-06,-1e-06,-1.0000000000000002e-06,-1.0000000000000006e-06,-2.903899522415579e-07],[-9.99987898277163e-07,1.6844944294654962e-20,-2.5375642832648126e-18,-2.5721395672737282e-18,-2.4876984986626106e-18,-2.35494444203016e-18,-2.1607292500616444e-18,-1.8697975778456288e-18,7.012171078134666e-18,9.999992258967595e-07],[-1.0000000000000006e-06,-7.561736320234243e-07,-3.477685312358816e-07,-1.340247608911105e-07,6.9799865574205985e-09,1.3398375242599187e-07,2.781740710062112e-07,4.612934454020782e-07,7.002679118776866e-07,1.000000000000001e-06],[-1.0000000000000048e-06,-8.326817590146925e-07,-5.058731753590573e-07,-2.469880590824523e-07,-3.569859566219352e-08,1.6214835416485558e-07,3.6698613367480233e-07,5.863674012012357e-07,8.127654653310408e-07,1.000000000000001e-06],[-9.99999999999978e-07,-8.349604763874605e-07,-5.707683506964522e-07,-3.264954188157028e-07,-9.135093110024387e-08,1.4068304858791697e-07,3.725312509146657e-07,6.050273362806453e-07,8.418348405869144e-07,9.999999999999995e-07],[-9.999999999999678e-07,-8.214145458555958e-07,-6.089065368692101e-07,-3.7959726866026623e-07,-1.2952906306265393e-07,1.2254634891251154e-07,3.67344741432668e-07,6.07229922352804e-07,8.548373929155027e-07,9.999999999999934e-07],[-1.0000000000000057e-06,-8.003838735660528e-07,-6.445259879568494e-07,-3.906615045013956e-07,-1.0627700495967157e-07,1.6049434468146232e-07,4.0089612025675957e-07,6.278303072723653e-07,8.673952464523396e-07,9.999999999999021e-07],[-1.00000000000001e-06,-8.446265168700452e-07,-6.808946681564327e-07,-2.7559872027289916e-07,6.30169137733749e-08,3.2095210392631696e-07,5.197632848357398e-07,6.879962364340267e-07,8.800311177368182e-07,9.999999999991008e-07],[-9.999999999999983e-07,-1.9456249002634e-06,-4.146774837058193e-07,2.1257204986422155e-07,5.17535565630635e-07,6.818545158763453e-07,7.75158845003217e-07,8.234003079671245e-07,8.159548683283707e-07,1.0000000000000006e-06],[-6.811043708804669e-06,1e-06,9.999999999999985e-07,9.999999999999923e-07,9.99999999999992e-07,1.0000000000000038e-06,1.000000000000002e-06,9.999999999999991e-07,1e-06,4.6197384069734714e-07]],\"type\":\"surface\"}],                        {\"template\":{\"data\":{\"bar\":[{\"error_x\":{\"color\":\"#2a3f5f\"},\"error_y\":{\"color\":\"#2a3f5f\"},\"marker\":{\"line\":{\"color\":\"#E5ECF6\",\"width\":0.5},\"pattern\":{\"fillmode\":\"overlay\",\"size\":10,\"solidity\":0.2}},\"type\":\"bar\"}],\"barpolar\":[{\"marker\":{\"line\":{\"color\":\"#E5ECF6\",\"width\":0.5},\"pattern\":{\"fillmode\":\"overlay\",\"size\":10,\"solidity\":0.2}},\"type\":\"barpolar\"}],\"carpet\":[{\"aaxis\":{\"endlinecolor\":\"#2a3f5f\",\"gridcolor\":\"white\",\"linecolor\":\"white\",\"minorgridcolor\":\"white\",\"startlinecolor\":\"#2a3f5f\"},\"baxis\":{\"endlinecolor\":\"#2a3f5f\",\"gridcolor\":\"white\",\"linecolor\":\"white\",\"minorgridcolor\":\"white\",\"startlinecolor\":\"#2a3f5f\"},\"type\":\"carpet\"}],\"choropleth\":[{\"colorbar\":{\"outlinewidth\":0,\"ticks\":\"\"},\"type\":\"choropleth\"}],\"contour\":[{\"colorbar\":{\"outlinewidth\":0,\"ticks\":\"\"},\"colorscale\":[[0.0,\"#0d0887\"],[0.1111111111111111,\"#46039f\"],[0.2222222222222222,\"#7201a8\"],[0.3333333333333333,\"#9c179e\"],[0.4444444444444444,\"#bd3786\"],[0.5555555555555556,\"#d8576b\"],[0.6666666666666666,\"#ed7953\"],[0.7777777777777778,\"#fb9f3a\"],[0.8888888888888888,\"#fdca26\"],[1.0,\"#f0f921\"]],\"type\":\"contour\"}],\"contourcarpet\":[{\"colorbar\":{\"outlinewidth\":0,\"ticks\":\"\"},\"type\":\"contourcarpet\"}],\"heatmap\":[{\"colorbar\":{\"outlinewidth\":0,\"ticks\":\"\"},\"colorscale\":[[0.0,\"#0d0887\"],[0.1111111111111111,\"#46039f\"],[0.2222222222222222,\"#7201a8\"],[0.3333333333333333,\"#9c179e\"],[0.4444444444444444,\"#bd3786\"],[0.5555555555555556,\"#d8576b\"],[0.6666666666666666,\"#ed7953\"],[0.7777777777777778,\"#fb9f3a\"],[0.8888888888888888,\"#fdca26\"],[1.0,\"#f0f921\"]],\"type\":\"heatmap\"}],\"heatmapgl\":[{\"colorbar\":{\"outlinewidth\":0,\"ticks\":\"\"},\"colorscale\":[[0.0,\"#0d0887\"],[0.1111111111111111,\"#46039f\"],[0.2222222222222222,\"#7201a8\"],[0.3333333333333333,\"#9c179e\"],[0.4444444444444444,\"#bd3786\"],[0.5555555555555556,\"#d8576b\"],[0.6666666666666666,\"#ed7953\"],[0.7777777777777778,\"#fb9f3a\"],[0.8888888888888888,\"#fdca26\"],[1.0,\"#f0f921\"]],\"type\":\"heatmapgl\"}],\"histogram\":[{\"marker\":{\"pattern\":{\"fillmode\":\"overlay\",\"size\":10,\"solidity\":0.2}},\"type\":\"histogram\"}],\"histogram2d\":[{\"colorbar\":{\"outlinewidth\":0,\"ticks\":\"\"},\"colorscale\":[[0.0,\"#0d0887\"],[0.1111111111111111,\"#46039f\"],[0.2222222222222222,\"#7201a8\"],[0.3333333333333333,\"#9c179e\"],[0.4444444444444444,\"#bd3786\"],[0.5555555555555556,\"#d8576b\"],[0.6666666666666666,\"#ed7953\"],[0.7777777777777778,\"#fb9f3a\"],[0.8888888888888888,\"#fdca26\"],[1.0,\"#f0f921\"]],\"type\":\"histogram2d\"}],\"histogram2dcontour\":[{\"colorbar\":{\"outlinewidth\":0,\"ticks\":\"\"},\"colorscale\":[[0.0,\"#0d0887\"],[0.1111111111111111,\"#46039f\"],[0.2222222222222222,\"#7201a8\"],[0.3333333333333333,\"#9c179e\"],[0.4444444444444444,\"#bd3786\"],[0.5555555555555556,\"#d8576b\"],[0.6666666666666666,\"#ed7953\"],[0.7777777777777778,\"#fb9f3a\"],[0.8888888888888888,\"#fdca26\"],[1.0,\"#f0f921\"]],\"type\":\"histogram2dcontour\"}],\"mesh3d\":[{\"colorbar\":{\"outlinewidth\":0,\"ticks\":\"\"},\"type\":\"mesh3d\"}],\"parcoords\":[{\"line\":{\"colorbar\":{\"outlinewidth\":0,\"ticks\":\"\"}},\"type\":\"parcoords\"}],\"pie\":[{\"automargin\":true,\"type\":\"pie\"}],\"scatter\":[{\"marker\":{\"colorbar\":{\"outlinewidth\":0,\"ticks\":\"\"}},\"type\":\"scatter\"}],\"scatter3d\":[{\"line\":{\"colorbar\":{\"outlinewidth\":0,\"ticks\":\"\"}},\"marker\":{\"colorbar\":{\"outlinewidth\":0,\"ticks\":\"\"}},\"type\":\"scatter3d\"}],\"scattercarpet\":[{\"marker\":{\"colorbar\":{\"outlinewidth\":0,\"ticks\":\"\"}},\"type\":\"scattercarpet\"}],\"scattergeo\":[{\"marker\":{\"colorbar\":{\"outlinewidth\":0,\"ticks\":\"\"}},\"type\":\"scattergeo\"}],\"scattergl\":[{\"marker\":{\"colorbar\":{\"outlinewidth\":0,\"ticks\":\"\"}},\"type\":\"scattergl\"}],\"scattermapbox\":[{\"marker\":{\"colorbar\":{\"outlinewidth\":0,\"ticks\":\"\"}},\"type\":\"scattermapbox\"}],\"scatterpolar\":[{\"marker\":{\"colorbar\":{\"outlinewidth\":0,\"ticks\":\"\"}},\"type\":\"scatterpolar\"}],\"scatterpolargl\":[{\"marker\":{\"colorbar\":{\"outlinewidth\":0,\"ticks\":\"\"}},\"type\":\"scatterpolargl\"}],\"scatterternary\":[{\"marker\":{\"colorbar\":{\"outlinewidth\":0,\"ticks\":\"\"}},\"type\":\"scatterternary\"}],\"surface\":[{\"colorbar\":{\"outlinewidth\":0,\"ticks\":\"\"},\"colorscale\":[[0.0,\"#0d0887\"],[0.1111111111111111,\"#46039f\"],[0.2222222222222222,\"#7201a8\"],[0.3333333333333333,\"#9c179e\"],[0.4444444444444444,\"#bd3786\"],[0.5555555555555556,\"#d8576b\"],[0.6666666666666666,\"#ed7953\"],[0.7777777777777778,\"#fb9f3a\"],[0.8888888888888888,\"#fdca26\"],[1.0,\"#f0f921\"]],\"type\":\"surface\"}],\"table\":[{\"cells\":{\"fill\":{\"color\":\"#EBF0F8\"},\"line\":{\"color\":\"white\"}},\"header\":{\"fill\":{\"color\":\"#C8D4E3\"},\"line\":{\"color\":\"white\"}},\"type\":\"table\"}]},\"layout\":{\"annotationdefaults\":{\"arrowcolor\":\"#2a3f5f\",\"arrowhead\":0,\"arrowwidth\":1},\"autotypenumbers\":\"strict\",\"coloraxis\":{\"colorbar\":{\"outlinewidth\":0,\"ticks\":\"\"}},\"colorscale\":{\"diverging\":[[0,\"#8e0152\"],[0.1,\"#c51b7d\"],[0.2,\"#de77ae\"],[0.3,\"#f1b6da\"],[0.4,\"#fde0ef\"],[0.5,\"#f7f7f7\"],[0.6,\"#e6f5d0\"],[0.7,\"#b8e186\"],[0.8,\"#7fbc41\"],[0.9,\"#4d9221\"],[1,\"#276419\"]],\"sequential\":[[0.0,\"#0d0887\"],[0.1111111111111111,\"#46039f\"],[0.2222222222222222,\"#7201a8\"],[0.3333333333333333,\"#9c179e\"],[0.4444444444444444,\"#bd3786\"],[0.5555555555555556,\"#d8576b\"],[0.6666666666666666,\"#ed7953\"],[0.7777777777777778,\"#fb9f3a\"],[0.8888888888888888,\"#fdca26\"],[1.0,\"#f0f921\"]],\"sequentialminus\":[[0.0,\"#0d0887\"],[0.1111111111111111,\"#46039f\"],[0.2222222222222222,\"#7201a8\"],[0.3333333333333333,\"#9c179e\"],[0.4444444444444444,\"#bd3786\"],[0.5555555555555556,\"#d8576b\"],[0.6666666666666666,\"#ed7953\"],[0.7777777777777778,\"#fb9f3a\"],[0.8888888888888888,\"#fdca26\"],[1.0,\"#f0f921\"]]},\"colorway\":[\"#636efa\",\"#EF553B\",\"#00cc96\",\"#ab63fa\",\"#FFA15A\",\"#19d3f3\",\"#FF6692\",\"#B6E880\",\"#FF97FF\",\"#FECB52\"],\"font\":{\"color\":\"#2a3f5f\"},\"geo\":{\"bgcolor\":\"white\",\"lakecolor\":\"white\",\"landcolor\":\"#E5ECF6\",\"showlakes\":true,\"showland\":true,\"subunitcolor\":\"white\"},\"hoverlabel\":{\"align\":\"left\"},\"hovermode\":\"closest\",\"mapbox\":{\"style\":\"light\"},\"paper_bgcolor\":\"white\",\"plot_bgcolor\":\"#E5ECF6\",\"polar\":{\"angularaxis\":{\"gridcolor\":\"white\",\"linecolor\":\"white\",\"ticks\":\"\"},\"bgcolor\":\"#E5ECF6\",\"radialaxis\":{\"gridcolor\":\"white\",\"linecolor\":\"white\",\"ticks\":\"\"}},\"scene\":{\"xaxis\":{\"backgroundcolor\":\"#E5ECF6\",\"gridcolor\":\"white\",\"gridwidth\":2,\"linecolor\":\"white\",\"showbackground\":true,\"ticks\":\"\",\"zerolinecolor\":\"white\"},\"yaxis\":{\"backgroundcolor\":\"#E5ECF6\",\"gridcolor\":\"white\",\"gridwidth\":2,\"linecolor\":\"white\",\"showbackground\":true,\"ticks\":\"\",\"zerolinecolor\":\"white\"},\"zaxis\":{\"backgroundcolor\":\"#E5ECF6\",\"gridcolor\":\"white\",\"gridwidth\":2,\"linecolor\":\"white\",\"showbackground\":true,\"ticks\":\"\",\"zerolinecolor\":\"white\"}},\"shapedefaults\":{\"line\":{\"color\":\"#2a3f5f\"}},\"ternary\":{\"aaxis\":{\"gridcolor\":\"white\",\"linecolor\":\"white\",\"ticks\":\"\"},\"baxis\":{\"gridcolor\":\"white\",\"linecolor\":\"white\",\"ticks\":\"\"},\"bgcolor\":\"#E5ECF6\",\"caxis\":{\"gridcolor\":\"white\",\"linecolor\":\"white\",\"ticks\":\"\"}},\"title\":{\"x\":0.05},\"xaxis\":{\"automargin\":true,\"gridcolor\":\"white\",\"linecolor\":\"white\",\"ticks\":\"\",\"title\":{\"standoff\":15},\"zerolinecolor\":\"white\",\"zerolinewidth\":2},\"yaxis\":{\"automargin\":true,\"gridcolor\":\"white\",\"linecolor\":\"white\",\"ticks\":\"\",\"title\":{\"standoff\":15},\"zerolinecolor\":\"white\",\"zerolinewidth\":2}}}},                        {\"responsive\": true}                    ).then(function(){\n",
       "                            \n",
       "var gd = document.getElementById('0861a7d1-36a6-449a-8b33-fb3960a8edb5');\n",
       "var x = new MutationObserver(function (mutations, observer) {{\n",
       "        var display = window.getComputedStyle(gd).display;\n",
       "        if (!display || display === 'none') {{\n",
       "            console.log([gd, 'removed!']);\n",
       "            Plotly.purge(gd);\n",
       "            observer.disconnect();\n",
       "        }}\n",
       "}});\n",
       "\n",
       "// Listen for the removal of the full notebook cells\n",
       "var notebookContainer = gd.closest('#notebook-container');\n",
       "if (notebookContainer) {{\n",
       "    x.observe(notebookContainer, {childList: true});\n",
       "}}\n",
       "\n",
       "// Listen for the clearing of the current output cell\n",
       "var outputEl = gd.closest('.output');\n",
       "if (outputEl) {{\n",
       "    x.observe(outputEl, {childList: true});\n",
       "}}\n",
       "\n",
       "                        })                };                });            </script>        </div>"
      ]
     },
     "metadata": {},
     "output_type": "display_data"
    },
    {
     "name": "stdout",
     "output_type": "stream",
     "text": [
      "V graph\n"
     ]
    },
    {
     "data": {
      "application/vnd.plotly.v1+json": {
       "config": {
        "plotlyServerURL": "https://plot.ly"
       },
       "data": [
        {
         "type": "surface",
         "x": [
          [
           0,
           0.000625,
           0.001875,
           0.0031249999999999997,
           0.0043749999999999995,
           0.005624999999999999,
           0.006874999999999998,
           0.008124999999999999,
           0.009375,
           0.01
          ],
          [
           0,
           0.000625,
           0.001875,
           0.0031249999999999997,
           0.0043749999999999995,
           0.005624999999999999,
           0.006874999999999998,
           0.008124999999999999,
           0.009375,
           0.01
          ],
          [
           0,
           0.000625,
           0.001875,
           0.0031249999999999997,
           0.0043749999999999995,
           0.005624999999999999,
           0.006874999999999998,
           0.008124999999999999,
           0.009375,
           0.01
          ],
          [
           0,
           0.000625,
           0.001875,
           0.0031249999999999997,
           0.0043749999999999995,
           0.005624999999999999,
           0.006874999999999998,
           0.008124999999999999,
           0.009375,
           0.01
          ],
          [
           0,
           0.000625,
           0.001875,
           0.0031249999999999997,
           0.0043749999999999995,
           0.005624999999999999,
           0.006874999999999998,
           0.008124999999999999,
           0.009375,
           0.01
          ],
          [
           0,
           0.000625,
           0.001875,
           0.0031249999999999997,
           0.0043749999999999995,
           0.005624999999999999,
           0.006874999999999998,
           0.008124999999999999,
           0.009375,
           0.01
          ],
          [
           0,
           0.000625,
           0.001875,
           0.0031249999999999997,
           0.0043749999999999995,
           0.005624999999999999,
           0.006874999999999998,
           0.008124999999999999,
           0.009375,
           0.01
          ],
          [
           0,
           0.000625,
           0.001875,
           0.0031249999999999997,
           0.0043749999999999995,
           0.005624999999999999,
           0.006874999999999998,
           0.008124999999999999,
           0.009375,
           0.01
          ],
          [
           0,
           0.000625,
           0.001875,
           0.0031249999999999997,
           0.0043749999999999995,
           0.005624999999999999,
           0.006874999999999998,
           0.008124999999999999,
           0.009375,
           0.01
          ],
          [
           0,
           0.000625,
           0.001875,
           0.0031249999999999997,
           0.0043749999999999995,
           0.005624999999999999,
           0.006874999999999998,
           0.008124999999999999,
           0.009375,
           0.01
          ]
         ],
         "y": [
          [
           0,
           0,
           0,
           0,
           0,
           0,
           0,
           0,
           0,
           0
          ],
          [
           0.000625,
           0.000625,
           0.000625,
           0.000625,
           0.000625,
           0.000625,
           0.000625,
           0.000625,
           0.000625,
           0.000625
          ],
          [
           0.001875,
           0.001875,
           0.001875,
           0.001875,
           0.001875,
           0.001875,
           0.001875,
           0.001875,
           0.001875,
           0.001875
          ],
          [
           0.0031249999999999997,
           0.0031249999999999997,
           0.0031249999999999997,
           0.0031249999999999997,
           0.0031249999999999997,
           0.0031249999999999997,
           0.0031249999999999997,
           0.0031249999999999997,
           0.0031249999999999997,
           0.0031249999999999997
          ],
          [
           0.0043749999999999995,
           0.0043749999999999995,
           0.0043749999999999995,
           0.0043749999999999995,
           0.0043749999999999995,
           0.0043749999999999995,
           0.0043749999999999995,
           0.0043749999999999995,
           0.0043749999999999995,
           0.0043749999999999995
          ],
          [
           0.005624999999999999,
           0.005624999999999999,
           0.005624999999999999,
           0.005624999999999999,
           0.005624999999999999,
           0.005624999999999999,
           0.005624999999999999,
           0.005624999999999999,
           0.005624999999999999,
           0.005624999999999999
          ],
          [
           0.006874999999999998,
           0.006874999999999998,
           0.006874999999999998,
           0.006874999999999998,
           0.006874999999999998,
           0.006874999999999998,
           0.006874999999999998,
           0.006874999999999998,
           0.006874999999999998,
           0.006874999999999998
          ],
          [
           0.008124999999999999,
           0.008124999999999999,
           0.008124999999999999,
           0.008124999999999999,
           0.008124999999999999,
           0.008124999999999999,
           0.008124999999999999,
           0.008124999999999999,
           0.008124999999999999,
           0.008124999999999999
          ],
          [
           0.009375,
           0.009375,
           0.009375,
           0.009375,
           0.009375,
           0.009375,
           0.009375,
           0.009375,
           0.009375,
           0.009375
          ],
          [
           0.01,
           0.01,
           0.01,
           0.01,
           0.01,
           0.01,
           0.01,
           0.01,
           0.01,
           0.01
          ]
         ],
         "z": [
          [
           0.0000021340753567072954,
           -0.000001,
           -0.0000010000000000000002,
           -0.0000010000000000000002,
           -0.000001,
           -0.000001,
           -9.999999999999997e-7,
           -0.000001,
           -0.0000010000000000000002,
           -1.572595364625789e-7
          ],
          [
           -0.000001,
           -1.0349172973743639e-19,
           -7.296375669908019e-19,
           -6.893623019906829e-19,
           -6.720909821650006e-19,
           -6.61505966124396e-19,
           -6.496068756610172e-19,
           -6.282736549308719e-19,
           -3.9661816247198556e-19,
           0.000001
          ],
          [
           -0.0000010000000000001804,
           -5.00475207418668e-7,
           -3.5826219410976276e-8,
           1.1759940548855874e-7,
           1.7847375985283559e-7,
           2.058571091886332e-7,
           2.2738671092083475e-7,
           2.670114799818856e-7,
           3.620266658627102e-7,
           0.0000010000000000001996
          ],
          [
           -9.999999999982781e-7,
           -6.072989758742183e-7,
           -8.286204656893885e-8,
           1.7972865790945052e-7,
           2.9477878691489393e-7,
           3.425163126036852e-7,
           3.747067265838771e-7,
           4.391396642430672e-7,
           6.215760852760583e-7,
           9.999999999999451e-7
          ],
          [
           -0.0000010000000000189119,
           -5.838638145781516e-7,
           -3.251037237839388e-8,
           2.634907122710063e-7,
           3.958905583813997e-7,
           4.49829605122784e-7,
           4.883637725979761e-7,
           5.680878341694969e-7,
           7.616648958602699e-7,
           9.999999999999898e-7
          ],
          [
           -9.999999999695165e-7,
           -4.612665354671118e-7,
           1.1862817192485153e-7,
           3.939685299287932e-7,
           5.03801984358895e-7,
           5.451042244597403e-7,
           5.792010812294487e-7,
           6.56050391889184e-7,
           8.291975987954591e-7,
           9.999999999999917e-7
          ],
          [
           -9.999999999999997e-7,
           -1.8475810491876004e-7,
           3.771408418419632e-7,
           5.629837472325264e-7,
           6.171698124416131e-7,
           6.348826048765966e-7,
           6.56880043550883e-7,
           7.160552732107305e-7,
           8.554772946871109e-7,
           9.999999999999991e-7
          ],
          [
           -0.000001,
           4.2423668920877197e-7,
           7.243545839777774e-7,
           7.243035493433001e-7,
           7.246853163307389e-7,
           7.304629712260736e-7,
           7.442952344003394e-7,
           7.747597907103038e-7,
           8.562135102104897e-7,
           0.0000010000000000000004
          ],
          [
           -0.0000010000000000000012,
           0.0000019473882277333005,
           8.522849505510129e-7,
           8.161041595712334e-7,
           8.450274755014235e-7,
           8.676183641740012e-7,
           8.841798142615582e-7,
           8.933810626350722e-7,
           8.214373867585923e-7,
           9.999999999999995e-7
          ],
          [
           0.00000680248679806771,
           9.999999999999993e-7,
           9.999999999955522e-7,
           0.0000010000000000005637,
           0.0000010000000000001418,
           9.999999999999375e-7,
           0.0000010000000000001706,
           0.0000010000000000000482,
           0.000001,
           4.493016094557306e-7
          ]
         ]
        }
       ],
       "layout": {
        "template": {
         "data": {
          "bar": [
           {
            "error_x": {
             "color": "#2a3f5f"
            },
            "error_y": {
             "color": "#2a3f5f"
            },
            "marker": {
             "line": {
              "color": "#E5ECF6",
              "width": 0.5
             },
             "pattern": {
              "fillmode": "overlay",
              "size": 10,
              "solidity": 0.2
             }
            },
            "type": "bar"
           }
          ],
          "barpolar": [
           {
            "marker": {
             "line": {
              "color": "#E5ECF6",
              "width": 0.5
             },
             "pattern": {
              "fillmode": "overlay",
              "size": 10,
              "solidity": 0.2
             }
            },
            "type": "barpolar"
           }
          ],
          "carpet": [
           {
            "aaxis": {
             "endlinecolor": "#2a3f5f",
             "gridcolor": "white",
             "linecolor": "white",
             "minorgridcolor": "white",
             "startlinecolor": "#2a3f5f"
            },
            "baxis": {
             "endlinecolor": "#2a3f5f",
             "gridcolor": "white",
             "linecolor": "white",
             "minorgridcolor": "white",
             "startlinecolor": "#2a3f5f"
            },
            "type": "carpet"
           }
          ],
          "choropleth": [
           {
            "colorbar": {
             "outlinewidth": 0,
             "ticks": ""
            },
            "type": "choropleth"
           }
          ],
          "contour": [
           {
            "colorbar": {
             "outlinewidth": 0,
             "ticks": ""
            },
            "colorscale": [
             [
              0,
              "#0d0887"
             ],
             [
              0.1111111111111111,
              "#46039f"
             ],
             [
              0.2222222222222222,
              "#7201a8"
             ],
             [
              0.3333333333333333,
              "#9c179e"
             ],
             [
              0.4444444444444444,
              "#bd3786"
             ],
             [
              0.5555555555555556,
              "#d8576b"
             ],
             [
              0.6666666666666666,
              "#ed7953"
             ],
             [
              0.7777777777777778,
              "#fb9f3a"
             ],
             [
              0.8888888888888888,
              "#fdca26"
             ],
             [
              1,
              "#f0f921"
             ]
            ],
            "type": "contour"
           }
          ],
          "contourcarpet": [
           {
            "colorbar": {
             "outlinewidth": 0,
             "ticks": ""
            },
            "type": "contourcarpet"
           }
          ],
          "heatmap": [
           {
            "colorbar": {
             "outlinewidth": 0,
             "ticks": ""
            },
            "colorscale": [
             [
              0,
              "#0d0887"
             ],
             [
              0.1111111111111111,
              "#46039f"
             ],
             [
              0.2222222222222222,
              "#7201a8"
             ],
             [
              0.3333333333333333,
              "#9c179e"
             ],
             [
              0.4444444444444444,
              "#bd3786"
             ],
             [
              0.5555555555555556,
              "#d8576b"
             ],
             [
              0.6666666666666666,
              "#ed7953"
             ],
             [
              0.7777777777777778,
              "#fb9f3a"
             ],
             [
              0.8888888888888888,
              "#fdca26"
             ],
             [
              1,
              "#f0f921"
             ]
            ],
            "type": "heatmap"
           }
          ],
          "heatmapgl": [
           {
            "colorbar": {
             "outlinewidth": 0,
             "ticks": ""
            },
            "colorscale": [
             [
              0,
              "#0d0887"
             ],
             [
              0.1111111111111111,
              "#46039f"
             ],
             [
              0.2222222222222222,
              "#7201a8"
             ],
             [
              0.3333333333333333,
              "#9c179e"
             ],
             [
              0.4444444444444444,
              "#bd3786"
             ],
             [
              0.5555555555555556,
              "#d8576b"
             ],
             [
              0.6666666666666666,
              "#ed7953"
             ],
             [
              0.7777777777777778,
              "#fb9f3a"
             ],
             [
              0.8888888888888888,
              "#fdca26"
             ],
             [
              1,
              "#f0f921"
             ]
            ],
            "type": "heatmapgl"
           }
          ],
          "histogram": [
           {
            "marker": {
             "pattern": {
              "fillmode": "overlay",
              "size": 10,
              "solidity": 0.2
             }
            },
            "type": "histogram"
           }
          ],
          "histogram2d": [
           {
            "colorbar": {
             "outlinewidth": 0,
             "ticks": ""
            },
            "colorscale": [
             [
              0,
              "#0d0887"
             ],
             [
              0.1111111111111111,
              "#46039f"
             ],
             [
              0.2222222222222222,
              "#7201a8"
             ],
             [
              0.3333333333333333,
              "#9c179e"
             ],
             [
              0.4444444444444444,
              "#bd3786"
             ],
             [
              0.5555555555555556,
              "#d8576b"
             ],
             [
              0.6666666666666666,
              "#ed7953"
             ],
             [
              0.7777777777777778,
              "#fb9f3a"
             ],
             [
              0.8888888888888888,
              "#fdca26"
             ],
             [
              1,
              "#f0f921"
             ]
            ],
            "type": "histogram2d"
           }
          ],
          "histogram2dcontour": [
           {
            "colorbar": {
             "outlinewidth": 0,
             "ticks": ""
            },
            "colorscale": [
             [
              0,
              "#0d0887"
             ],
             [
              0.1111111111111111,
              "#46039f"
             ],
             [
              0.2222222222222222,
              "#7201a8"
             ],
             [
              0.3333333333333333,
              "#9c179e"
             ],
             [
              0.4444444444444444,
              "#bd3786"
             ],
             [
              0.5555555555555556,
              "#d8576b"
             ],
             [
              0.6666666666666666,
              "#ed7953"
             ],
             [
              0.7777777777777778,
              "#fb9f3a"
             ],
             [
              0.8888888888888888,
              "#fdca26"
             ],
             [
              1,
              "#f0f921"
             ]
            ],
            "type": "histogram2dcontour"
           }
          ],
          "mesh3d": [
           {
            "colorbar": {
             "outlinewidth": 0,
             "ticks": ""
            },
            "type": "mesh3d"
           }
          ],
          "parcoords": [
           {
            "line": {
             "colorbar": {
              "outlinewidth": 0,
              "ticks": ""
             }
            },
            "type": "parcoords"
           }
          ],
          "pie": [
           {
            "automargin": true,
            "type": "pie"
           }
          ],
          "scatter": [
           {
            "marker": {
             "colorbar": {
              "outlinewidth": 0,
              "ticks": ""
             }
            },
            "type": "scatter"
           }
          ],
          "scatter3d": [
           {
            "line": {
             "colorbar": {
              "outlinewidth": 0,
              "ticks": ""
             }
            },
            "marker": {
             "colorbar": {
              "outlinewidth": 0,
              "ticks": ""
             }
            },
            "type": "scatter3d"
           }
          ],
          "scattercarpet": [
           {
            "marker": {
             "colorbar": {
              "outlinewidth": 0,
              "ticks": ""
             }
            },
            "type": "scattercarpet"
           }
          ],
          "scattergeo": [
           {
            "marker": {
             "colorbar": {
              "outlinewidth": 0,
              "ticks": ""
             }
            },
            "type": "scattergeo"
           }
          ],
          "scattergl": [
           {
            "marker": {
             "colorbar": {
              "outlinewidth": 0,
              "ticks": ""
             }
            },
            "type": "scattergl"
           }
          ],
          "scattermapbox": [
           {
            "marker": {
             "colorbar": {
              "outlinewidth": 0,
              "ticks": ""
             }
            },
            "type": "scattermapbox"
           }
          ],
          "scatterpolar": [
           {
            "marker": {
             "colorbar": {
              "outlinewidth": 0,
              "ticks": ""
             }
            },
            "type": "scatterpolar"
           }
          ],
          "scatterpolargl": [
           {
            "marker": {
             "colorbar": {
              "outlinewidth": 0,
              "ticks": ""
             }
            },
            "type": "scatterpolargl"
           }
          ],
          "scatterternary": [
           {
            "marker": {
             "colorbar": {
              "outlinewidth": 0,
              "ticks": ""
             }
            },
            "type": "scatterternary"
           }
          ],
          "surface": [
           {
            "colorbar": {
             "outlinewidth": 0,
             "ticks": ""
            },
            "colorscale": [
             [
              0,
              "#0d0887"
             ],
             [
              0.1111111111111111,
              "#46039f"
             ],
             [
              0.2222222222222222,
              "#7201a8"
             ],
             [
              0.3333333333333333,
              "#9c179e"
             ],
             [
              0.4444444444444444,
              "#bd3786"
             ],
             [
              0.5555555555555556,
              "#d8576b"
             ],
             [
              0.6666666666666666,
              "#ed7953"
             ],
             [
              0.7777777777777778,
              "#fb9f3a"
             ],
             [
              0.8888888888888888,
              "#fdca26"
             ],
             [
              1,
              "#f0f921"
             ]
            ],
            "type": "surface"
           }
          ],
          "table": [
           {
            "cells": {
             "fill": {
              "color": "#EBF0F8"
             },
             "line": {
              "color": "white"
             }
            },
            "header": {
             "fill": {
              "color": "#C8D4E3"
             },
             "line": {
              "color": "white"
             }
            },
            "type": "table"
           }
          ]
         },
         "layout": {
          "annotationdefaults": {
           "arrowcolor": "#2a3f5f",
           "arrowhead": 0,
           "arrowwidth": 1
          },
          "autotypenumbers": "strict",
          "coloraxis": {
           "colorbar": {
            "outlinewidth": 0,
            "ticks": ""
           }
          },
          "colorscale": {
           "diverging": [
            [
             0,
             "#8e0152"
            ],
            [
             0.1,
             "#c51b7d"
            ],
            [
             0.2,
             "#de77ae"
            ],
            [
             0.3,
             "#f1b6da"
            ],
            [
             0.4,
             "#fde0ef"
            ],
            [
             0.5,
             "#f7f7f7"
            ],
            [
             0.6,
             "#e6f5d0"
            ],
            [
             0.7,
             "#b8e186"
            ],
            [
             0.8,
             "#7fbc41"
            ],
            [
             0.9,
             "#4d9221"
            ],
            [
             1,
             "#276419"
            ]
           ],
           "sequential": [
            [
             0,
             "#0d0887"
            ],
            [
             0.1111111111111111,
             "#46039f"
            ],
            [
             0.2222222222222222,
             "#7201a8"
            ],
            [
             0.3333333333333333,
             "#9c179e"
            ],
            [
             0.4444444444444444,
             "#bd3786"
            ],
            [
             0.5555555555555556,
             "#d8576b"
            ],
            [
             0.6666666666666666,
             "#ed7953"
            ],
            [
             0.7777777777777778,
             "#fb9f3a"
            ],
            [
             0.8888888888888888,
             "#fdca26"
            ],
            [
             1,
             "#f0f921"
            ]
           ],
           "sequentialminus": [
            [
             0,
             "#0d0887"
            ],
            [
             0.1111111111111111,
             "#46039f"
            ],
            [
             0.2222222222222222,
             "#7201a8"
            ],
            [
             0.3333333333333333,
             "#9c179e"
            ],
            [
             0.4444444444444444,
             "#bd3786"
            ],
            [
             0.5555555555555556,
             "#d8576b"
            ],
            [
             0.6666666666666666,
             "#ed7953"
            ],
            [
             0.7777777777777778,
             "#fb9f3a"
            ],
            [
             0.8888888888888888,
             "#fdca26"
            ],
            [
             1,
             "#f0f921"
            ]
           ]
          },
          "colorway": [
           "#636efa",
           "#EF553B",
           "#00cc96",
           "#ab63fa",
           "#FFA15A",
           "#19d3f3",
           "#FF6692",
           "#B6E880",
           "#FF97FF",
           "#FECB52"
          ],
          "font": {
           "color": "#2a3f5f"
          },
          "geo": {
           "bgcolor": "white",
           "lakecolor": "white",
           "landcolor": "#E5ECF6",
           "showlakes": true,
           "showland": true,
           "subunitcolor": "white"
          },
          "hoverlabel": {
           "align": "left"
          },
          "hovermode": "closest",
          "mapbox": {
           "style": "light"
          },
          "paper_bgcolor": "white",
          "plot_bgcolor": "#E5ECF6",
          "polar": {
           "angularaxis": {
            "gridcolor": "white",
            "linecolor": "white",
            "ticks": ""
           },
           "bgcolor": "#E5ECF6",
           "radialaxis": {
            "gridcolor": "white",
            "linecolor": "white",
            "ticks": ""
           }
          },
          "scene": {
           "xaxis": {
            "backgroundcolor": "#E5ECF6",
            "gridcolor": "white",
            "gridwidth": 2,
            "linecolor": "white",
            "showbackground": true,
            "ticks": "",
            "zerolinecolor": "white"
           },
           "yaxis": {
            "backgroundcolor": "#E5ECF6",
            "gridcolor": "white",
            "gridwidth": 2,
            "linecolor": "white",
            "showbackground": true,
            "ticks": "",
            "zerolinecolor": "white"
           },
           "zaxis": {
            "backgroundcolor": "#E5ECF6",
            "gridcolor": "white",
            "gridwidth": 2,
            "linecolor": "white",
            "showbackground": true,
            "ticks": "",
            "zerolinecolor": "white"
           }
          },
          "shapedefaults": {
           "line": {
            "color": "#2a3f5f"
           }
          },
          "ternary": {
           "aaxis": {
            "gridcolor": "white",
            "linecolor": "white",
            "ticks": ""
           },
           "baxis": {
            "gridcolor": "white",
            "linecolor": "white",
            "ticks": ""
           },
           "bgcolor": "#E5ECF6",
           "caxis": {
            "gridcolor": "white",
            "linecolor": "white",
            "ticks": ""
           }
          },
          "title": {
           "x": 0.05
          },
          "xaxis": {
           "automargin": true,
           "gridcolor": "white",
           "linecolor": "white",
           "ticks": "",
           "title": {
            "standoff": 15
           },
           "zerolinecolor": "white",
           "zerolinewidth": 2
          },
          "yaxis": {
           "automargin": true,
           "gridcolor": "white",
           "linecolor": "white",
           "ticks": "",
           "title": {
            "standoff": 15
           },
           "zerolinecolor": "white",
           "zerolinewidth": 2
          }
         }
        }
       }
      },
      "text/html": [
       "<div>                            <div id=\"82495acf-90a7-4cdb-914c-9ae1634d0ce7\" class=\"plotly-graph-div\" style=\"height:525px; width:100%;\"></div>            <script type=\"text/javascript\">                require([\"plotly\"], function(Plotly) {                    window.PLOTLYENV=window.PLOTLYENV || {};                                    if (document.getElementById(\"82495acf-90a7-4cdb-914c-9ae1634d0ce7\")) {                    Plotly.newPlot(                        \"82495acf-90a7-4cdb-914c-9ae1634d0ce7\",                        [{\"x\":[[0.0,0.000625,0.001875,0.0031249999999999997,0.0043749999999999995,0.005624999999999999,0.006874999999999998,0.008124999999999999,0.009375,0.01],[0.0,0.000625,0.001875,0.0031249999999999997,0.0043749999999999995,0.005624999999999999,0.006874999999999998,0.008124999999999999,0.009375,0.01],[0.0,0.000625,0.001875,0.0031249999999999997,0.0043749999999999995,0.005624999999999999,0.006874999999999998,0.008124999999999999,0.009375,0.01],[0.0,0.000625,0.001875,0.0031249999999999997,0.0043749999999999995,0.005624999999999999,0.006874999999999998,0.008124999999999999,0.009375,0.01],[0.0,0.000625,0.001875,0.0031249999999999997,0.0043749999999999995,0.005624999999999999,0.006874999999999998,0.008124999999999999,0.009375,0.01],[0.0,0.000625,0.001875,0.0031249999999999997,0.0043749999999999995,0.005624999999999999,0.006874999999999998,0.008124999999999999,0.009375,0.01],[0.0,0.000625,0.001875,0.0031249999999999997,0.0043749999999999995,0.005624999999999999,0.006874999999999998,0.008124999999999999,0.009375,0.01],[0.0,0.000625,0.001875,0.0031249999999999997,0.0043749999999999995,0.005624999999999999,0.006874999999999998,0.008124999999999999,0.009375,0.01],[0.0,0.000625,0.001875,0.0031249999999999997,0.0043749999999999995,0.005624999999999999,0.006874999999999998,0.008124999999999999,0.009375,0.01],[0.0,0.000625,0.001875,0.0031249999999999997,0.0043749999999999995,0.005624999999999999,0.006874999999999998,0.008124999999999999,0.009375,0.01]],\"y\":[[0.0,0.0,0.0,0.0,0.0,0.0,0.0,0.0,0.0,0.0],[0.000625,0.000625,0.000625,0.000625,0.000625,0.000625,0.000625,0.000625,0.000625,0.000625],[0.001875,0.001875,0.001875,0.001875,0.001875,0.001875,0.001875,0.001875,0.001875,0.001875],[0.0031249999999999997,0.0031249999999999997,0.0031249999999999997,0.0031249999999999997,0.0031249999999999997,0.0031249999999999997,0.0031249999999999997,0.0031249999999999997,0.0031249999999999997,0.0031249999999999997],[0.0043749999999999995,0.0043749999999999995,0.0043749999999999995,0.0043749999999999995,0.0043749999999999995,0.0043749999999999995,0.0043749999999999995,0.0043749999999999995,0.0043749999999999995,0.0043749999999999995],[0.005624999999999999,0.005624999999999999,0.005624999999999999,0.005624999999999999,0.005624999999999999,0.005624999999999999,0.005624999999999999,0.005624999999999999,0.005624999999999999,0.005624999999999999],[0.006874999999999998,0.006874999999999998,0.006874999999999998,0.006874999999999998,0.006874999999999998,0.006874999999999998,0.006874999999999998,0.006874999999999998,0.006874999999999998,0.006874999999999998],[0.008124999999999999,0.008124999999999999,0.008124999999999999,0.008124999999999999,0.008124999999999999,0.008124999999999999,0.008124999999999999,0.008124999999999999,0.008124999999999999,0.008124999999999999],[0.009375,0.009375,0.009375,0.009375,0.009375,0.009375,0.009375,0.009375,0.009375,0.009375],[0.01,0.01,0.01,0.01,0.01,0.01,0.01,0.01,0.01,0.01]],\"z\":[[2.1340753567072954e-06,-1e-06,-1.0000000000000002e-06,-1.0000000000000002e-06,-1e-06,-1e-06,-9.999999999999997e-07,-1e-06,-1.0000000000000002e-06,-1.572595364625789e-07],[-1e-06,-1.0349172973743639e-19,-7.296375669908019e-19,-6.893623019906829e-19,-6.720909821650006e-19,-6.61505966124396e-19,-6.496068756610172e-19,-6.282736549308719e-19,-3.9661816247198556e-19,1e-06],[-1.0000000000001804e-06,-5.00475207418668e-07,-3.5826219410976276e-08,1.1759940548855874e-07,1.7847375985283559e-07,2.058571091886332e-07,2.2738671092083475e-07,2.670114799818856e-07,3.620266658627102e-07,1.0000000000001996e-06],[-9.999999999982781e-07,-6.072989758742183e-07,-8.286204656893885e-08,1.7972865790945052e-07,2.9477878691489393e-07,3.425163126036852e-07,3.747067265838771e-07,4.391396642430672e-07,6.215760852760583e-07,9.999999999999451e-07],[-1.0000000000189119e-06,-5.838638145781516e-07,-3.251037237839388e-08,2.634907122710063e-07,3.958905583813997e-07,4.49829605122784e-07,4.883637725979761e-07,5.680878341694969e-07,7.616648958602699e-07,9.999999999999898e-07],[-9.999999999695165e-07,-4.612665354671118e-07,1.1862817192485153e-07,3.939685299287932e-07,5.03801984358895e-07,5.451042244597403e-07,5.792010812294487e-07,6.56050391889184e-07,8.291975987954591e-07,9.999999999999917e-07],[-9.999999999999997e-07,-1.8475810491876004e-07,3.771408418419632e-07,5.629837472325264e-07,6.171698124416131e-07,6.348826048765966e-07,6.56880043550883e-07,7.160552732107305e-07,8.554772946871109e-07,9.999999999999991e-07],[-1e-06,4.2423668920877197e-07,7.243545839777774e-07,7.243035493433001e-07,7.246853163307389e-07,7.304629712260736e-07,7.442952344003394e-07,7.747597907103038e-07,8.562135102104897e-07,1.0000000000000004e-06],[-1.0000000000000012e-06,1.9473882277333005e-06,8.522849505510129e-07,8.161041595712334e-07,8.450274755014235e-07,8.676183641740012e-07,8.841798142615582e-07,8.933810626350722e-07,8.214373867585923e-07,9.999999999999995e-07],[6.80248679806771e-06,9.999999999999993e-07,9.999999999955522e-07,1.0000000000005637e-06,1.0000000000001418e-06,9.999999999999375e-07,1.0000000000001706e-06,1.0000000000000482e-06,1e-06,4.493016094557306e-07]],\"type\":\"surface\"}],                        {\"template\":{\"data\":{\"bar\":[{\"error_x\":{\"color\":\"#2a3f5f\"},\"error_y\":{\"color\":\"#2a3f5f\"},\"marker\":{\"line\":{\"color\":\"#E5ECF6\",\"width\":0.5},\"pattern\":{\"fillmode\":\"overlay\",\"size\":10,\"solidity\":0.2}},\"type\":\"bar\"}],\"barpolar\":[{\"marker\":{\"line\":{\"color\":\"#E5ECF6\",\"width\":0.5},\"pattern\":{\"fillmode\":\"overlay\",\"size\":10,\"solidity\":0.2}},\"type\":\"barpolar\"}],\"carpet\":[{\"aaxis\":{\"endlinecolor\":\"#2a3f5f\",\"gridcolor\":\"white\",\"linecolor\":\"white\",\"minorgridcolor\":\"white\",\"startlinecolor\":\"#2a3f5f\"},\"baxis\":{\"endlinecolor\":\"#2a3f5f\",\"gridcolor\":\"white\",\"linecolor\":\"white\",\"minorgridcolor\":\"white\",\"startlinecolor\":\"#2a3f5f\"},\"type\":\"carpet\"}],\"choropleth\":[{\"colorbar\":{\"outlinewidth\":0,\"ticks\":\"\"},\"type\":\"choropleth\"}],\"contour\":[{\"colorbar\":{\"outlinewidth\":0,\"ticks\":\"\"},\"colorscale\":[[0.0,\"#0d0887\"],[0.1111111111111111,\"#46039f\"],[0.2222222222222222,\"#7201a8\"],[0.3333333333333333,\"#9c179e\"],[0.4444444444444444,\"#bd3786\"],[0.5555555555555556,\"#d8576b\"],[0.6666666666666666,\"#ed7953\"],[0.7777777777777778,\"#fb9f3a\"],[0.8888888888888888,\"#fdca26\"],[1.0,\"#f0f921\"]],\"type\":\"contour\"}],\"contourcarpet\":[{\"colorbar\":{\"outlinewidth\":0,\"ticks\":\"\"},\"type\":\"contourcarpet\"}],\"heatmap\":[{\"colorbar\":{\"outlinewidth\":0,\"ticks\":\"\"},\"colorscale\":[[0.0,\"#0d0887\"],[0.1111111111111111,\"#46039f\"],[0.2222222222222222,\"#7201a8\"],[0.3333333333333333,\"#9c179e\"],[0.4444444444444444,\"#bd3786\"],[0.5555555555555556,\"#d8576b\"],[0.6666666666666666,\"#ed7953\"],[0.7777777777777778,\"#fb9f3a\"],[0.8888888888888888,\"#fdca26\"],[1.0,\"#f0f921\"]],\"type\":\"heatmap\"}],\"heatmapgl\":[{\"colorbar\":{\"outlinewidth\":0,\"ticks\":\"\"},\"colorscale\":[[0.0,\"#0d0887\"],[0.1111111111111111,\"#46039f\"],[0.2222222222222222,\"#7201a8\"],[0.3333333333333333,\"#9c179e\"],[0.4444444444444444,\"#bd3786\"],[0.5555555555555556,\"#d8576b\"],[0.6666666666666666,\"#ed7953\"],[0.7777777777777778,\"#fb9f3a\"],[0.8888888888888888,\"#fdca26\"],[1.0,\"#f0f921\"]],\"type\":\"heatmapgl\"}],\"histogram\":[{\"marker\":{\"pattern\":{\"fillmode\":\"overlay\",\"size\":10,\"solidity\":0.2}},\"type\":\"histogram\"}],\"histogram2d\":[{\"colorbar\":{\"outlinewidth\":0,\"ticks\":\"\"},\"colorscale\":[[0.0,\"#0d0887\"],[0.1111111111111111,\"#46039f\"],[0.2222222222222222,\"#7201a8\"],[0.3333333333333333,\"#9c179e\"],[0.4444444444444444,\"#bd3786\"],[0.5555555555555556,\"#d8576b\"],[0.6666666666666666,\"#ed7953\"],[0.7777777777777778,\"#fb9f3a\"],[0.8888888888888888,\"#fdca26\"],[1.0,\"#f0f921\"]],\"type\":\"histogram2d\"}],\"histogram2dcontour\":[{\"colorbar\":{\"outlinewidth\":0,\"ticks\":\"\"},\"colorscale\":[[0.0,\"#0d0887\"],[0.1111111111111111,\"#46039f\"],[0.2222222222222222,\"#7201a8\"],[0.3333333333333333,\"#9c179e\"],[0.4444444444444444,\"#bd3786\"],[0.5555555555555556,\"#d8576b\"],[0.6666666666666666,\"#ed7953\"],[0.7777777777777778,\"#fb9f3a\"],[0.8888888888888888,\"#fdca26\"],[1.0,\"#f0f921\"]],\"type\":\"histogram2dcontour\"}],\"mesh3d\":[{\"colorbar\":{\"outlinewidth\":0,\"ticks\":\"\"},\"type\":\"mesh3d\"}],\"parcoords\":[{\"line\":{\"colorbar\":{\"outlinewidth\":0,\"ticks\":\"\"}},\"type\":\"parcoords\"}],\"pie\":[{\"automargin\":true,\"type\":\"pie\"}],\"scatter\":[{\"marker\":{\"colorbar\":{\"outlinewidth\":0,\"ticks\":\"\"}},\"type\":\"scatter\"}],\"scatter3d\":[{\"line\":{\"colorbar\":{\"outlinewidth\":0,\"ticks\":\"\"}},\"marker\":{\"colorbar\":{\"outlinewidth\":0,\"ticks\":\"\"}},\"type\":\"scatter3d\"}],\"scattercarpet\":[{\"marker\":{\"colorbar\":{\"outlinewidth\":0,\"ticks\":\"\"}},\"type\":\"scattercarpet\"}],\"scattergeo\":[{\"marker\":{\"colorbar\":{\"outlinewidth\":0,\"ticks\":\"\"}},\"type\":\"scattergeo\"}],\"scattergl\":[{\"marker\":{\"colorbar\":{\"outlinewidth\":0,\"ticks\":\"\"}},\"type\":\"scattergl\"}],\"scattermapbox\":[{\"marker\":{\"colorbar\":{\"outlinewidth\":0,\"ticks\":\"\"}},\"type\":\"scattermapbox\"}],\"scatterpolar\":[{\"marker\":{\"colorbar\":{\"outlinewidth\":0,\"ticks\":\"\"}},\"type\":\"scatterpolar\"}],\"scatterpolargl\":[{\"marker\":{\"colorbar\":{\"outlinewidth\":0,\"ticks\":\"\"}},\"type\":\"scatterpolargl\"}],\"scatterternary\":[{\"marker\":{\"colorbar\":{\"outlinewidth\":0,\"ticks\":\"\"}},\"type\":\"scatterternary\"}],\"surface\":[{\"colorbar\":{\"outlinewidth\":0,\"ticks\":\"\"},\"colorscale\":[[0.0,\"#0d0887\"],[0.1111111111111111,\"#46039f\"],[0.2222222222222222,\"#7201a8\"],[0.3333333333333333,\"#9c179e\"],[0.4444444444444444,\"#bd3786\"],[0.5555555555555556,\"#d8576b\"],[0.6666666666666666,\"#ed7953\"],[0.7777777777777778,\"#fb9f3a\"],[0.8888888888888888,\"#fdca26\"],[1.0,\"#f0f921\"]],\"type\":\"surface\"}],\"table\":[{\"cells\":{\"fill\":{\"color\":\"#EBF0F8\"},\"line\":{\"color\":\"white\"}},\"header\":{\"fill\":{\"color\":\"#C8D4E3\"},\"line\":{\"color\":\"white\"}},\"type\":\"table\"}]},\"layout\":{\"annotationdefaults\":{\"arrowcolor\":\"#2a3f5f\",\"arrowhead\":0,\"arrowwidth\":1},\"autotypenumbers\":\"strict\",\"coloraxis\":{\"colorbar\":{\"outlinewidth\":0,\"ticks\":\"\"}},\"colorscale\":{\"diverging\":[[0,\"#8e0152\"],[0.1,\"#c51b7d\"],[0.2,\"#de77ae\"],[0.3,\"#f1b6da\"],[0.4,\"#fde0ef\"],[0.5,\"#f7f7f7\"],[0.6,\"#e6f5d0\"],[0.7,\"#b8e186\"],[0.8,\"#7fbc41\"],[0.9,\"#4d9221\"],[1,\"#276419\"]],\"sequential\":[[0.0,\"#0d0887\"],[0.1111111111111111,\"#46039f\"],[0.2222222222222222,\"#7201a8\"],[0.3333333333333333,\"#9c179e\"],[0.4444444444444444,\"#bd3786\"],[0.5555555555555556,\"#d8576b\"],[0.6666666666666666,\"#ed7953\"],[0.7777777777777778,\"#fb9f3a\"],[0.8888888888888888,\"#fdca26\"],[1.0,\"#f0f921\"]],\"sequentialminus\":[[0.0,\"#0d0887\"],[0.1111111111111111,\"#46039f\"],[0.2222222222222222,\"#7201a8\"],[0.3333333333333333,\"#9c179e\"],[0.4444444444444444,\"#bd3786\"],[0.5555555555555556,\"#d8576b\"],[0.6666666666666666,\"#ed7953\"],[0.7777777777777778,\"#fb9f3a\"],[0.8888888888888888,\"#fdca26\"],[1.0,\"#f0f921\"]]},\"colorway\":[\"#636efa\",\"#EF553B\",\"#00cc96\",\"#ab63fa\",\"#FFA15A\",\"#19d3f3\",\"#FF6692\",\"#B6E880\",\"#FF97FF\",\"#FECB52\"],\"font\":{\"color\":\"#2a3f5f\"},\"geo\":{\"bgcolor\":\"white\",\"lakecolor\":\"white\",\"landcolor\":\"#E5ECF6\",\"showlakes\":true,\"showland\":true,\"subunitcolor\":\"white\"},\"hoverlabel\":{\"align\":\"left\"},\"hovermode\":\"closest\",\"mapbox\":{\"style\":\"light\"},\"paper_bgcolor\":\"white\",\"plot_bgcolor\":\"#E5ECF6\",\"polar\":{\"angularaxis\":{\"gridcolor\":\"white\",\"linecolor\":\"white\",\"ticks\":\"\"},\"bgcolor\":\"#E5ECF6\",\"radialaxis\":{\"gridcolor\":\"white\",\"linecolor\":\"white\",\"ticks\":\"\"}},\"scene\":{\"xaxis\":{\"backgroundcolor\":\"#E5ECF6\",\"gridcolor\":\"white\",\"gridwidth\":2,\"linecolor\":\"white\",\"showbackground\":true,\"ticks\":\"\",\"zerolinecolor\":\"white\"},\"yaxis\":{\"backgroundcolor\":\"#E5ECF6\",\"gridcolor\":\"white\",\"gridwidth\":2,\"linecolor\":\"white\",\"showbackground\":true,\"ticks\":\"\",\"zerolinecolor\":\"white\"},\"zaxis\":{\"backgroundcolor\":\"#E5ECF6\",\"gridcolor\":\"white\",\"gridwidth\":2,\"linecolor\":\"white\",\"showbackground\":true,\"ticks\":\"\",\"zerolinecolor\":\"white\"}},\"shapedefaults\":{\"line\":{\"color\":\"#2a3f5f\"}},\"ternary\":{\"aaxis\":{\"gridcolor\":\"white\",\"linecolor\":\"white\",\"ticks\":\"\"},\"baxis\":{\"gridcolor\":\"white\",\"linecolor\":\"white\",\"ticks\":\"\"},\"bgcolor\":\"#E5ECF6\",\"caxis\":{\"gridcolor\":\"white\",\"linecolor\":\"white\",\"ticks\":\"\"}},\"title\":{\"x\":0.05},\"xaxis\":{\"automargin\":true,\"gridcolor\":\"white\",\"linecolor\":\"white\",\"ticks\":\"\",\"title\":{\"standoff\":15},\"zerolinecolor\":\"white\",\"zerolinewidth\":2},\"yaxis\":{\"automargin\":true,\"gridcolor\":\"white\",\"linecolor\":\"white\",\"ticks\":\"\",\"title\":{\"standoff\":15},\"zerolinecolor\":\"white\",\"zerolinewidth\":2}}}},                        {\"responsive\": true}                    ).then(function(){\n",
       "                            \n",
       "var gd = document.getElementById('82495acf-90a7-4cdb-914c-9ae1634d0ce7');\n",
       "var x = new MutationObserver(function (mutations, observer) {{\n",
       "        var display = window.getComputedStyle(gd).display;\n",
       "        if (!display || display === 'none') {{\n",
       "            console.log([gd, 'removed!']);\n",
       "            Plotly.purge(gd);\n",
       "            observer.disconnect();\n",
       "        }}\n",
       "}});\n",
       "\n",
       "// Listen for the removal of the full notebook cells\n",
       "var notebookContainer = gd.closest('#notebook-container');\n",
       "if (notebookContainer) {{\n",
       "    x.observe(notebookContainer, {childList: true});\n",
       "}}\n",
       "\n",
       "// Listen for the clearing of the current output cell\n",
       "var outputEl = gd.closest('.output');\n",
       "if (outputEl) {{\n",
       "    x.observe(outputEl, {childList: true});\n",
       "}}\n",
       "\n",
       "                        })                };                });            </script>        </div>"
      ]
     },
     "metadata": {},
     "output_type": "display_data"
    }
   ],
   "source": [
    "## Time loop\n",
    "\n",
    "!rm -r savedVariables\n",
    "! mkdir savedVariables\n",
    "\n",
    "for time in t:\n",
    "\n",
    "    print(\"\\nTime = \" + str(time))\n",
    "    \n",
    "    # Set number of maximum iterations for convergence\n",
    "    \n",
    "    icorr = 1\n",
    "    maxcorr = 100000\n",
    "\n",
    "    # Make directory\n",
    "\n",
    "    ! mkdir savedVariables/{time}\n",
    "    \n",
    "    while True:\n",
    "    # for iteration in [1]:\n",
    "            \n",
    "        u_previous = u_new #store latest guess values\n",
    "\n",
    "        A_x = A(\"x\").createMatrix()\n",
    "        \n",
    "        A_x, b_x = boundary_conditions(A_x, b_x, u_previous, u_old, u_old_old, \"x\")\n",
    "\n",
    "        # saveArray(str(time) + \"/A_x_\" + str(icorr) , A_x.todense())   \n",
    "        # saveArray(str(time) + \"/b_x_\" + str(icorr), b_x)  \n",
    "\n",
    "        ## Solve the x-equation\n",
    "        \n",
    "        Ux = spsolve(A_x, b_x)\n",
    "        Ux = np.array(Ux)\n",
    "\n",
    "        # #print(Ux)\n",
    "\n",
    "        saveArray(str(time) + \"/Ux_\" + str(icorr), Ux)\n",
    "        \n",
    "        ## Prepare matrix A and b vector for the y-equation\n",
    "        \n",
    "        A_y = A(\"y\").createMatrix()\n",
    "\n",
    "        A_y, b_y = boundary_conditions(A_y, b_y, u_previous, u_old, u_old_old, \"y\")\n",
    "        \n",
    "        ## Solve the y-equation\n",
    "        Uy = spsolve(A_y, b_y)\n",
    "        Uy = np.array(Uy)\n",
    "\n",
    "        saveArray(str(time) + \"/Uy_\" + str(icorr), Uy)\n",
    "        \n",
    "        # ## Update U.New with new x and y displacements\n",
    "\n",
    "        u_new1 = np.vstack((Ux, Uy)).T\n",
    "        saveArray (str(time) + \"/U_new1_\" + str(icorr), u_new1)    \n",
    "        saveArray (str(time) + \"/u_previous_\" + str(icorr), u_previous)\n",
    "\n",
    "        # # U.New[:,0] = Ux\n",
    "        # # U.New[:,1] = Uy\n",
    "        \n",
    "        ## Calculate the residual of each iteration\n",
    "        \n",
    "        normFactor = np.max(u_new1)\n",
    "        residual = math.sqrt(np.mean((u_new1 - u_previous)**2))/normFactor\n",
    "        tolerance = 1e-6\n",
    "        u_new = u_new1\n",
    "    \n",
    "        ##print out residual of each iteration\n",
    "        print(\"icorr = {:01d}, Residual = {:.20f}, normFactor = {:.20f}\".format(icorr, residual, normFactor))\n",
    "             \n",
    "        ## Convergence check\n",
    "        \n",
    "        if residual < tolerance:\n",
    "            \n",
    "            break\n",
    "            \n",
    "        elif icorr > maxcorr:\n",
    "            \n",
    "            break            \n",
    "        \n",
    "        icorr = icorr + 1\n",
    "    \n",
    "    ## Update variables\n",
    "    \n",
    "    u_old_old = u_old\n",
    "    u_old = u_new1\n",
    "    \n",
    "    # ## Add the boundary conditions to the solution matrices\n",
    "    u_reshape_x = u_new[:,0].reshape(nx+2, ny+2)\n",
    "    u_reshape_y = u_new[:,1].reshape(nx+2, ny+2)\n",
    "    \n",
    "    # #Boundary conditions for u matrix\n",
    "    U = np.zeros((nx+2,ny+2))\n",
    "    V = np.zeros((nx+2,ny+2))\n",
    " \n",
    "    U[:, :] = u_reshape_x\n",
    "    V[:, :] = u_reshape_y \n",
    "\n",
    "    #Modulus of displacement\n",
    "\n",
    "    disp_mod = np.sqrt((U**2) + (V**2))\n",
    "    disp_mod_converted = disp_mod*1e6 #Convert displacement to micrometers\n",
    "    \n",
    "#     # ## Plot the results\n",
    "\n",
    "    import plotly.graph_objects as go\n",
    "\n",
    "    disp_mod = np.sqrt((U**2) + (V**2))*1e-10\n",
    "\n",
    "    dispx, dispy = np.meshgrid(x, y)\n",
    "    fig = go.Figure(data=[go.Surface(z=disp_mod_converted, x=dispx, y=dispy)])\n",
    "    \n",
    "fig.show()   \n",
    "\n",
    "print(\"U graph\")\n",
    "fig = go.Figure(data=[go.Surface(z=U, x=dispx, y=dispy)])\n",
    "\n",
    "fig.show()   \n",
    "\n",
    "print(\"V graph\")\n",
    "fig = go.Figure(data=[go.Surface(z=V, x=dispx, y=dispy)])\n",
    "\n",
    "fig.show()"
   ]
  },
  {
   "cell_type": "code",
   "execution_count": 189,
   "metadata": {},
   "outputs": [
    {
     "name": "stdout",
     "output_type": "stream",
     "text": [
      "(100, 100)\n"
     ]
    },
    {
     "data": {
      "text/plain": [
       "<matplotlib.collections.PathCollection at 0x7fc7f0578cd0>"
      ]
     },
     "execution_count": 189,
     "metadata": {},
     "output_type": "execute_result"
    },
    {
     "data": {
      "image/png": "[encoded data removed]",
      "text/plain": [
       "<Figure size 720x720 with 1 Axes>"
      ]
     },
     "metadata": {
      "needs_background": "light"
     },
     "output_type": "display_data"
    }
   ],
   "source": [
    "from matplotlib import pyplot as plt\n",
    "\n",
    "plt.figure(figsize=(10, 10))\n",
    "\n",
    "\n",
    "# Displacement Scatter:\n",
    "\n",
    "#\n",
    "x_values = (dispx.reshape((nx+2)*(ny+2), 1) + u_new[:, 0])#*scale\n",
    "y_values = (dispy.reshape((nx+2)*(ny+2), 1) + u_new[:, 1])#*scale\n",
    "\n",
    "print(x_values.shape)\n",
    "\n",
    "plt.scatter(x_values, y_values, s=1)"
   ]
  },
  {
   "cell_type": "code",
   "execution_count": 190,
   "metadata": {},
   "outputs": [
    {
     "name": "stdout",
     "output_type": "stream",
     "text": [
      "0 10\n",
      "10 20\n",
      "20 30\n",
      "30 40\n",
      "40 50\n",
      "50 60\n",
      "60 70\n",
      "70 80\n",
      "80 90\n",
      "90 100\n"
     ]
    },
    {
     "data": {
      "text/plain": [
       "array([[2.27597949e-06],\n",
       "       [6.24000000e-04],\n",
       "       [1.87400000e-03],\n",
       "       [3.12400000e-03],\n",
       "       [4.37400000e-03],\n",
       "       [5.62400000e-03],\n",
       "       [6.87400000e-03],\n",
       "       [8.12400000e-03],\n",
       "       [9.37400000e-03],\n",
       "       [9.99970961e-03]])"
      ]
     },
     "execution_count": 190,
     "metadata": {},
     "output_type": "execute_result"
    },
    {
     "data": {
      "image/png": "[encoded data removed]",
      "text/plain": [
       "<Figure size 720x720 with 1 Axes>"
      ]
     },
     "metadata": {
      "needs_background": "light"
     },
     "output_type": "display_data"
    },
    {
     "data": {
      "image/png": "[encoded data removed]",
      "text/plain": [
       "<Figure size 720x720 with 1 Axes>"
      ]
     },
     "metadata": {
      "needs_background": "light"
     },
     "output_type": "display_data"
    },
    {
     "data": {
      "image/png": "[encoded data removed]",
      "text/plain": [
       "<Figure size 720x720 with 1 Axes>"
      ]
     },
     "metadata": {
      "needs_background": "light"
     },
     "output_type": "display_data"
    },
    {
     "data": {
      "image/png": "[encoded data removed]",
      "text/plain": [
       "<Figure size 720x720 with 1 Axes>"
      ]
     },
     "metadata": {
      "needs_background": "light"
     },
     "output_type": "display_data"
    },
    {
     "data": {
      "image/png": "[encoded data removed]",
      "text/plain": [
       "<Figure size 720x720 with 1 Axes>"
      ]
     },
     "metadata": {
      "needs_background": "light"
     },
     "output_type": "display_data"
    },
    {
     "data": {
      "image/png": "[encoded data removed]",
      "text/plain": [
       "<Figure size 720x720 with 1 Axes>"
      ]
     },
     "metadata": {
      "needs_background": "light"
     },
     "output_type": "display_data"
    },
    {
     "data": {
      "image/png": "[encoded data removed]",
      "text/plain": [
       "<Figure size 720x720 with 1 Axes>"
      ]
     },
     "metadata": {
      "needs_background": "light"
     },
     "output_type": "display_data"
    },
    {
     "data": {
      "image/png": "[encoded data removed]",
      "text/plain": [
       "<Figure size 720x720 with 1 Axes>"
      ]
     },
     "metadata": {
      "needs_background": "light"
     },
     "output_type": "display_data"
    },
    {
     "data": {
      "image/png": "[encoded data removed]",
      "text/plain": [
       "<Figure size 720x720 with 1 Axes>"
      ]
     },
     "metadata": {
      "needs_background": "light"
     },
     "output_type": "display_data"
    },
    {
     "data": {
      "image/png": "[encoded data removed]",
      "text/plain": [
       "<Figure size 720x720 with 1 Axes>"
      ]
     },
     "metadata": {
      "needs_background": "light"
     },
     "output_type": "display_data"
    }
   ],
   "source": [
    "for i in np.arange(0,ny+2):\n",
    "    \n",
    "    plt.figure(figsize=(10, 10))\n",
    "\n",
    "    print(str(0+(i*10)), str(10+(i*10)))\n",
    "    \n",
    "    x_values = dispx.reshape((nx+2)*(ny+2), 1)[0+(i*10):10+(i*10)] + u_new[:,0].reshape((nx+2)*(ny+2), 1)[0:10]\n",
    "\n",
    "    y_values = u_new[:,1].reshape((nx+2)*(ny+2), 1)[0:10]\n",
    "\n",
    "    plt.plot(x_values, y_values)\n",
    "    plt.title(str(i))\n",
    "\n",
    "    plt.show\n",
    "\n",
    "x_values"
   ]
  },
  {
   "cell_type": "code",
   "execution_count": 191,
   "metadata": {},
   "outputs": [
    {
     "data": {
      "text/plain": [
       "array([[ 2.27597949e-06,  2.13407536e-06],\n",
       "       [-1.00000000e-06, -1.00000000e-06],\n",
       "       [-1.00000000e-06, -1.00000000e-06],\n",
       "       [-1.00000000e-06, -1.00000000e-06],\n",
       "       [-1.00000000e-06, -1.00000000e-06],\n",
       "       [-1.00000000e-06, -1.00000000e-06],\n",
       "       [-1.00000000e-06, -1.00000000e-06],\n",
       "       [-1.00000000e-06, -1.00000000e-06],\n",
       "       [-1.00000000e-06, -1.00000000e-06],\n",
       "       [-2.90389952e-07, -1.57259536e-07],\n",
       "       [-9.99987898e-07, -1.00000000e-06],\n",
       "       [ 1.68449443e-20, -1.03491730e-19],\n",
       "       [-2.53756428e-18, -7.29637567e-19],\n",
       "       [-2.57213957e-18, -6.89362302e-19],\n",
       "       [-2.48769850e-18, -6.72090982e-19],\n",
       "       [-2.35494444e-18, -6.61505966e-19],\n",
       "       [-2.16072925e-18, -6.49606876e-19],\n",
       "       [-1.86979758e-18, -6.28273655e-19],\n",
       "       [ 7.01217108e-18, -3.96618162e-19],\n",
       "       [ 9.99999226e-07,  1.00000000e-06],\n",
       "       [-1.00000000e-06, -1.00000000e-06],\n",
       "       [-7.56173632e-07, -5.00475207e-07],\n",
       "       [-3.47768531e-07, -3.58262194e-08],\n",
       "       [-1.34024761e-07,  1.17599405e-07],\n",
       "       [ 6.97998656e-09,  1.78473760e-07],\n",
       "       [ 1.33983752e-07,  2.05857109e-07],\n",
       "       [ 2.78174071e-07,  2.27386711e-07],\n",
       "       [ 4.61293445e-07,  2.67011480e-07],\n",
       "       [ 7.00267912e-07,  3.62026666e-07],\n",
       "       [ 1.00000000e-06,  1.00000000e-06],\n",
       "       [-1.00000000e-06, -1.00000000e-06],\n",
       "       [-8.32681759e-07, -6.07298976e-07],\n",
       "       [-5.05873175e-07, -8.28620466e-08],\n",
       "       [-2.46988059e-07,  1.79728658e-07],\n",
       "       [-3.56985957e-08,  2.94778787e-07],\n",
       "       [ 1.62148354e-07,  3.42516313e-07],\n",
       "       [ 3.66986134e-07,  3.74706727e-07],\n",
       "       [ 5.86367401e-07,  4.39139664e-07],\n",
       "       [ 8.12765465e-07,  6.21576085e-07],\n",
       "       [ 1.00000000e-06,  1.00000000e-06],\n",
       "       [-1.00000000e-06, -1.00000000e-06],\n",
       "       [-8.34960476e-07, -5.83863815e-07],\n",
       "       [-5.70768351e-07, -3.25103724e-08],\n",
       "       [-3.26495419e-07,  2.63490712e-07],\n",
       "       [-9.13509311e-08,  3.95890558e-07],\n",
       "       [ 1.40683049e-07,  4.49829605e-07],\n",
       "       [ 3.72531251e-07,  4.88363773e-07],\n",
       "       [ 6.05027336e-07,  5.68087834e-07],\n",
       "       [ 8.41834841e-07,  7.61664896e-07],\n",
       "       [ 1.00000000e-06,  1.00000000e-06],\n",
       "       [-1.00000000e-06, -1.00000000e-06],\n",
       "       [-8.21414546e-07, -4.61266535e-07],\n",
       "       [-6.08906537e-07,  1.18628172e-07],\n",
       "       [-3.79597269e-07,  3.93968530e-07],\n",
       "       [-1.29529063e-07,  5.03801984e-07],\n",
       "       [ 1.22546349e-07,  5.45104224e-07],\n",
       "       [ 3.67344741e-07,  5.79201081e-07],\n",
       "       [ 6.07229922e-07,  6.56050392e-07],\n",
       "       [ 8.54837393e-07,  8.29197599e-07],\n",
       "       [ 1.00000000e-06,  1.00000000e-06],\n",
       "       [-1.00000000e-06, -1.00000000e-06],\n",
       "       [-8.00383874e-07, -1.84758105e-07],\n",
       "       [-6.44525988e-07,  3.77140842e-07],\n",
       "       [-3.90661505e-07,  5.62983747e-07],\n",
       "       [-1.06277005e-07,  6.17169812e-07],\n",
       "       [ 1.60494345e-07,  6.34882605e-07],\n",
       "       [ 4.00896120e-07,  6.56880044e-07],\n",
       "       [ 6.27830307e-07,  7.16055273e-07],\n",
       "       [ 8.67395246e-07,  8.55477295e-07],\n",
       "       [ 1.00000000e-06,  1.00000000e-06],\n",
       "       [-1.00000000e-06, -1.00000000e-06],\n",
       "       [-8.44626517e-07,  4.24236689e-07],\n",
       "       [-6.80894668e-07,  7.24354584e-07],\n",
       "       [-2.75598720e-07,  7.24303549e-07],\n",
       "       [ 6.30169138e-08,  7.24685316e-07],\n",
       "       [ 3.20952104e-07,  7.30462971e-07],\n",
       "       [ 5.19763285e-07,  7.44295234e-07],\n",
       "       [ 6.87996236e-07,  7.74759791e-07],\n",
       "       [ 8.80031118e-07,  8.56213510e-07],\n",
       "       [ 1.00000000e-06,  1.00000000e-06],\n",
       "       [-1.00000000e-06, -1.00000000e-06],\n",
       "       [-1.94562490e-06,  1.94738823e-06],\n",
       "       [-4.14677484e-07,  8.52284951e-07],\n",
       "       [ 2.12572050e-07,  8.16104160e-07],\n",
       "       [ 5.17535566e-07,  8.45027476e-07],\n",
       "       [ 6.81854516e-07,  8.67618364e-07],\n",
       "       [ 7.75158845e-07,  8.84179814e-07],\n",
       "       [ 8.23400308e-07,  8.93381063e-07],\n",
       "       [ 8.15954868e-07,  8.21437387e-07],\n",
       "       [ 1.00000000e-06,  1.00000000e-06],\n",
       "       [-6.81104371e-06,  6.80248680e-06],\n",
       "       [ 1.00000000e-06,  1.00000000e-06],\n",
       "       [ 1.00000000e-06,  1.00000000e-06],\n",
       "       [ 1.00000000e-06,  1.00000000e-06],\n",
       "       [ 1.00000000e-06,  1.00000000e-06],\n",
       "       [ 1.00000000e-06,  1.00000000e-06],\n",
       "       [ 1.00000000e-06,  1.00000000e-06],\n",
       "       [ 1.00000000e-06,  1.00000000e-06],\n",
       "       [ 1.00000000e-06,  1.00000000e-06],\n",
       "       [ 4.61973841e-07,  4.49301609e-07]])"
      ]
     },
     "execution_count": 191,
     "metadata": {},
     "output_type": "execute_result"
    }
   ],
   "source": [
    "u_new"
   ]
  },
  {
   "cell_type": "code",
   "execution_count": 192,
   "metadata": {},
   "outputs": [
    {
     "data": {
      "text/plain": [
       "(2.275979489954106e-06,\n",
       " -2.903899522415579e-07,\n",
       " -6.811043708804669e-06,\n",
       " 4.6197384069734714e-07)"
      ]
     },
     "execution_count": 192,
     "metadata": {},
     "output_type": "execute_result"
    }
   ],
   "source": [
    "Ux[0], Ux[9], Ux[90], Ux[99]"
   ]
  },
  {
   "cell_type": "code",
   "execution_count": 193,
   "metadata": {},
   "outputs": [
    {
     "data": {
      "text/plain": [
       "(2.1340753567072954e-06,\n",
       " -1.572595364625789e-07,\n",
       " 6.80248679806771e-06,\n",
       " 4.493016094557306e-07)"
      ]
     },
     "execution_count": 193,
     "metadata": {},
     "output_type": "execute_result"
    }
   ],
   "source": [
    "Uy[0], Uy[9], Uy[90], Uy[99]"
   ]
  },
  {
   "cell_type": "code",
   "execution_count": 194,
   "metadata": {},
   "outputs": [
    {
     "data": {
      "text/plain": [
       "1.419041332468105e-07"
      ]
     },
     "execution_count": 194,
     "metadata": {},
     "output_type": "execute_result"
    }
   ],
   "source": [
    "Ux[0] - Uy[0]"
   ]
  },
  {
   "cell_type": "code",
   "execution_count": null,
   "metadata": {},
   "outputs": [],
   "source": []
  }
 ],
 "metadata": {
  "interpreter": {
   "hash": "1b2f9133931ab063f1f037caeeb0be83973bf9a3d4f21c40e4cd03e999a0b9b9"
  },
  "kernelspec": {
   "display_name": "Python 3.6.13 64-bit ('python3': conda)",
   "language": "python",
   "name": "python3"
  },
  "language_info": {
   "codemirror_mode": {
    "name": "ipython",
    "version": 3
   },
   "file_extension": ".py",
   "mimetype": "text/x-python",
   "name": "python",
   "nbconvert_exporter": "python",
   "pygments_lexer": "ipython3",
   "version": "3.9.5"
  },
  "orig_nbformat": 4
 },
 "nbformat": 4,
 "nbformat_minor": 2
}
