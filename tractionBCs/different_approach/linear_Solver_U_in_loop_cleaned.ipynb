{
 "cells": [
  {
   "cell_type": "code",
   "execution_count": 101,
   "metadata": {},
   "outputs": [],
   "source": [
    "import numpy as np\n",
    "import pandas as pd\n",
    "import math\n",
    "from scipy.sparse import csr_matrix\n",
    "from scipy.sparse.linalg import spsolve\n",
    "\n",
    "def printVar (varname, var):\n",
    "\n",
    "    print(varname)\n",
    "    print(var)\n",
    "\n",
    "def saveArray (name, array):\n",
    "\n",
    "    pd.DataFrame(array).to_csv(\"savedVariables/\" + name + \".csv\", index=False, header=None)\n",
    "\n"
   ]
  },
  {
   "cell_type": "code",
   "execution_count": 102,
   "metadata": {},
   "outputs": [],
   "source": [
    "# Solve the 2D Navier-Cauchy equation using a segregated finite volume method\n",
    "\n",
    "# Define mesh geometry and boundary conditions\n",
    "\n",
    "Lx = .01 #width of domain\n",
    "Ly = .01 #height of domain\n",
    "\n",
    "fac = 1\n",
    "\n",
    "tr_left_x = -1e-6*fac      #u boundary condition at the left boundary\n",
    "tr_left_y =  1e-6*0     #v boundary condition at the left boundary\n",
    "\n",
    "tr_right_x = +1e-6*fac    #u boundary condition at the right boundary\n",
    "tr_right_y = 1e-6*0     #v boundary condition at the right boundary\n",
    "\n",
    "tr_top_x = 1e-6*0       #u boundary condition at the top boundary\n",
    "tr_top_y = +1e-6*fac       #v boundary condition at the top boundary\n",
    "\n",
    "tr_bottom_x = -1e-6*0    #u boundary condition at the bottom boundary \n",
    "tr_bottom_y = -1e-6*fac    #v boundary condition at the bottom boundary\n",
    "\n",
    "nx = 8          #number of control volumes in the x-direction\n",
    "ny = 8            #number of control volumes in the y-direction\n"
   ]
  },
  {
   "cell_type": "code",
   "execution_count": 103,
   "metadata": {},
   "outputs": [],
   "source": [
    "sys.path.append(\"../Classes/\")\n",
    "\n",
    "from index_and_direction import dim\n",
    "\n",
    "# dim().nx = 9\n",
    "# dim().ny = 9\n",
    "\n",
    "# print(dim().nx)"
   ]
  },
  {
   "cell_type": "code",
   "execution_count": 104,
   "metadata": {},
   "outputs": [
    {
     "name": "stdout",
     "output_type": "stream",
     "text": [
      "8\n"
     ]
    }
   ],
   "source": [
    "print(dim().nx)"
   ]
  },
  {
   "cell_type": "code",
   "execution_count": 105,
   "metadata": {},
   "outputs": [],
   "source": [
    "from index_and_direction import index\n",
    "from index_and_direction import boundary_point_index\n",
    "from index_and_direction import cell_index\n",
    "from index_and_direction import displacement"
   ]
  },
  {
   "cell_type": "code",
   "execution_count": 106,
   "metadata": {},
   "outputs": [],
   "source": [
    "# Define material properties\n",
    "\n",
    "rho = 8050         #density of steel in kg/m^3\n",
    "mu = 78*10e9       #shear modulus in Pa\n",
    "K = 1.6*10e11      #bulk modulus in Pa\n",
    "\n",
    "Lambda = K - (2/3)*mu\n",
    "\n",
    "#print(Lambda)"
   ]
  },
  {
   "cell_type": "code",
   "execution_count": 107,
   "metadata": {},
   "outputs": [],
   "source": [
    "## Define required variables\n",
    "\n",
    "tf = 0.01           #total time in seconds\n",
    "dx = Lx/nx          #length of each control volume in the x-direction\n",
    "dy = Ly/ny          #length of each control volume in the y-direction\n",
    "dt = tf/10          #size of time steps\n",
    "Sfx = dy            #area vector x component (Area of East and West Faces)\n",
    "Sfy = dx            #area vector y component (Area of North and South Faces)\n"
   ]
  },
  {
   "cell_type": "code",
   "execution_count": 108,
   "metadata": {},
   "outputs": [],
   "source": [
    "## Define  position and time vectors\n",
    "\n",
    "t = np.array(np.arange(0,tf, dt))        #time vector (could possibly use a list)\n",
    "x = np.zeros((1,nx+2))   #position vector defining the center points of the control volumes in the x-direction.\n",
    "x[0,nx+1] = Lx\n",
    "x[0,1:nx+1] = np.arange(dx/2,Lx,dx)\n",
    "\n",
    "t = np.array(np.arange(0,tf, dt))        #time vector (could possibly use a list)\n",
    "y = np.zeros((1,ny+2))   #position vector defining the center points of the control volumes in the y-direction.\n",
    "y[0,ny+1] = Ly\n",
    "y[0,1:ny+1] = np.arange(dy/2,Ly,dy)"
   ]
  },
  {
   "cell_type": "code",
   "execution_count": 109,
   "metadata": {},
   "outputs": [],
   "source": [
    "## Define required displacement matrices and b vector\n",
    "\n",
    "u_new = np.zeros([(ny+2)*(nx+2),2])         #unknown displacements at t + 1    (Column 1 = x, Column2 = y)\n",
    "u_old = np.zeros([(ny+2)*(nx+2),2])         #displacement at time t\n",
    "u_old_old = np.zeros([(ny+2)*(nx+2),2])     #displacement at time t - 1\n",
    "\n",
    "#rhs vector\n",
    "b_x = np.zeros([(ny+2)*(nx+2),1])\n",
    "b_y = np.zeros([(ny+2)*(nx+2),1])"
   ]
  },
  {
   "cell_type": "markdown",
   "metadata": {},
   "source": [
    "## X equation:"
   ]
  },
  {
   "cell_type": "code",
   "execution_count": 110,
   "metadata": {},
   "outputs": [],
   "source": [
    "class A:\n",
    "\n",
    "    val = \"value that stays in class without changning with instance\"\n",
    "\n",
    "    def __init__(self, xy):\n",
    "\n",
    "        if xy == \"x\":\n",
    "\n",
    "            self.a_P = (rho*dx*dy/(dt**2))+((4*mu+2*Lambda)*Sfx)/dx + ((2*mu)*Sfy)/dy\n",
    "            self.a_N = ((mu)*Sfy)/dy\n",
    "            self.a_S = ((mu)*Sfy)/dy\n",
    "            self.a_E = ((2*mu + Lambda)*Sfx)/dx\n",
    "            self.a_W = ((2*mu + Lambda)*Sfx)/dx\n",
    "\n",
    "        if xy == \"y\":\n",
    "\n",
    "            self.a_P = (rho*dx*dy/(dt**2))+((4*mu+2*Lambda)*Sfy)/dy + ((2*mu)*Sfx)/dx \n",
    "            self.a_N = ((2*mu + Lambda)*Sfy)/dy\n",
    "            self.a_S = ((2*mu + Lambda)*Sfy)/dy\n",
    "            self.a_E = ((mu)*Sfx)/dx\n",
    "            self.a_W = ((mu)*Sfx)/dx          \n",
    "\n",
    "    def createMatrix(self):\n",
    "\n",
    "        A_no_boundary = np.zeros([(ny+2)*(nx+2), (ny+2)*(nx+2)])\n",
    "        # A_no_boundary = csr_matrix(A_no_boundary)  \n",
    "\n",
    "        for j in np.arange(2, ny):     \n",
    "\n",
    "            for k in np.arange((j*(nx+2)+2), (j*(nx+2)+nx)):  \n",
    "                \n",
    "                A_no_boundary[k,k] = self.a_P\n",
    "                A_no_boundary[k,k+nx+2] = -self.a_N\n",
    "                A_no_boundary[k,k-nx-2] = -self.a_S\n",
    "                A_no_boundary[k,k+1] = -self.a_E\n",
    "                A_no_boundary[k,k-1] = -self.a_W\n",
    "            \n",
    "        return A_no_boundary\n",
    "\n",
    "\n",
    "\n",
    "\n"
   ]
  },
  {
   "cell_type": "code",
   "execution_count": null,
   "metadata": {},
   "outputs": [],
   "source": [
    "# North diffusion term :\n",
    "\n",
    "# Sn*( coeff_n_1*dv/dx + coeff_n_2*du/dy )"
   ]
  },
  {
   "cell_type": "code",
   "execution_count": 111,
   "metadata": {},
   "outputs": [
    {
     "name": "stdout",
     "output_type": "stream",
     "text": [
      "mkdir: cannot create directory ‘hello’: File exists\n"
     ]
    }
   ],
   "source": [
    "! mkdir hello"
   ]
  },
  {
   "cell_type": "code",
   "execution_count": 112,
   "metadata": {},
   "outputs": [
    {
     "name": "stdout",
     "output_type": "stream",
     "text": [
      "\n",
      "Time = 0.0\n",
      "icorr = 1, Residual = 0.67571795153166258618, normFactor = 0.00000000000000000000\n",
      "icorr = 2, Residual = 0.46342160490108780246, normFactor = 0.00000000000000000000\n",
      "icorr = 3, Residual = 0.14869673168875396918, normFactor = 0.00000000000000000000\n",
      "icorr = 4, Residual = 0.06714255347592815171, normFactor = 0.00000000000000000000\n",
      "icorr = 5, Residual = 0.02646713711938687361, normFactor = 0.00000000000000000000\n",
      "icorr = 6, Residual = 0.01109371379740260212, normFactor = 0.00000000000000000000\n",
      "icorr = 7, Residual = 0.00456225125866921780, normFactor = 0.00000000000000000000\n",
      "icorr = 8, Residual = 0.00193317398640076863, normFactor = 0.00000000000000000000\n",
      "icorr = 9, Residual = 0.00086150427584839287, normFactor = 0.00000000000000000000\n",
      "\n",
      "Time = 0.001\n",
      "icorr = 1, Residual = 0.00046037698277507716, normFactor = 0.00000000000000000000\n",
      "\n",
      "Time = 0.002\n",
      "icorr = 1, Residual = 0.00033217840239163719, normFactor = 0.00000000000000000000\n",
      "\n",
      "Time = 0.003\n",
      "icorr = 1, Residual = 0.00029862496926709415, normFactor = 0.00000000000000000000\n",
      "\n",
      "Time = 0.004\n",
      "icorr = 1, Residual = 0.00028969274932477354, normFactor = 0.00000000000000000000\n",
      "\n",
      "Time = 0.005\n",
      "icorr = 1, Residual = 0.00028713483421745524, normFactor = 0.00000000000000000000\n",
      "\n",
      "Time = 0.006\n",
      "icorr = 1, Residual = 0.00028653584285957302, normFactor = 0.00000000000000000000\n",
      "\n",
      "Time = 0.007\n",
      "icorr = 1, Residual = 0.00028644574527955500, normFactor = 0.00000000000000000000\n",
      "\n",
      "Time = 0.008\n",
      "icorr = 1, Residual = 0.00028680403936472761, normFactor = 0.00000000000000000000\n",
      "\n",
      "Time = 0.009000000000000001\n",
      "icorr = 1, Residual = 0.00028708148859684371, normFactor = 0.00000000000000000000\n"
     ]
    },
    {
     "data": {
      "application/vnd.plotly.v1+json": {
       "config": {
        "plotlyServerURL": "https://plot.ly"
       },
       "data": [
        {
         "type": "surface",
         "x": [
          [
           0,
           0.000625,
           0.001875,
           0.0031249999999999997,
           0.0043749999999999995,
           0.005624999999999999,
           0.006874999999999998,
           0.008124999999999999,
           0.009375,
           0.01
          ],
          [
           0,
           0.000625,
           0.001875,
           0.0031249999999999997,
           0.0043749999999999995,
           0.005624999999999999,
           0.006874999999999998,
           0.008124999999999999,
           0.009375,
           0.01
          ],
          [
           0,
           0.000625,
           0.001875,
           0.0031249999999999997,
           0.0043749999999999995,
           0.005624999999999999,
           0.006874999999999998,
           0.008124999999999999,
           0.009375,
           0.01
          ],
          [
           0,
           0.000625,
           0.001875,
           0.0031249999999999997,
           0.0043749999999999995,
           0.005624999999999999,
           0.006874999999999998,
           0.008124999999999999,
           0.009375,
           0.01
          ],
          [
           0,
           0.000625,
           0.001875,
           0.0031249999999999997,
           0.0043749999999999995,
           0.005624999999999999,
           0.006874999999999998,
           0.008124999999999999,
           0.009375,
           0.01
          ],
          [
           0,
           0.000625,
           0.001875,
           0.0031249999999999997,
           0.0043749999999999995,
           0.005624999999999999,
           0.006874999999999998,
           0.008124999999999999,
           0.009375,
           0.01
          ],
          [
           0,
           0.000625,
           0.001875,
           0.0031249999999999997,
           0.0043749999999999995,
           0.005624999999999999,
           0.006874999999999998,
           0.008124999999999999,
           0.009375,
           0.01
          ],
          [
           0,
           0.000625,
           0.001875,
           0.0031249999999999997,
           0.0043749999999999995,
           0.005624999999999999,
           0.006874999999999998,
           0.008124999999999999,
           0.009375,
           0.01
          ],
          [
           0,
           0.000625,
           0.001875,
           0.0031249999999999997,
           0.0043749999999999995,
           0.005624999999999999,
           0.006874999999999998,
           0.008124999999999999,
           0.009375,
           0.01
          ],
          [
           0,
           0.000625,
           0.001875,
           0.0031249999999999997,
           0.0043749999999999995,
           0.005624999999999999,
           0.006874999999999998,
           0.008124999999999999,
           0.009375,
           0.01
          ]
         ],
         "y": [
          [
           0,
           0,
           0,
           0,
           0,
           0,
           0,
           0,
           0,
           0
          ],
          [
           0.000625,
           0.000625,
           0.000625,
           0.000625,
           0.000625,
           0.000625,
           0.000625,
           0.000625,
           0.000625,
           0.000625
          ],
          [
           0.001875,
           0.001875,
           0.001875,
           0.001875,
           0.001875,
           0.001875,
           0.001875,
           0.001875,
           0.001875,
           0.001875
          ],
          [
           0.0031249999999999997,
           0.0031249999999999997,
           0.0031249999999999997,
           0.0031249999999999997,
           0.0031249999999999997,
           0.0031249999999999997,
           0.0031249999999999997,
           0.0031249999999999997,
           0.0031249999999999997,
           0.0031249999999999997
          ],
          [
           0.0043749999999999995,
           0.0043749999999999995,
           0.0043749999999999995,
           0.0043749999999999995,
           0.0043749999999999995,
           0.0043749999999999995,
           0.0043749999999999995,
           0.0043749999999999995,
           0.0043749999999999995,
           0.0043749999999999995
          ],
          [
           0.005624999999999999,
           0.005624999999999999,
           0.005624999999999999,
           0.005624999999999999,
           0.005624999999999999,
           0.005624999999999999,
           0.005624999999999999,
           0.005624999999999999,
           0.005624999999999999,
           0.005624999999999999
          ],
          [
           0.006874999999999998,
           0.006874999999999998,
           0.006874999999999998,
           0.006874999999999998,
           0.006874999999999998,
           0.006874999999999998,
           0.006874999999999998,
           0.006874999999999998,
           0.006874999999999998,
           0.006874999999999998
          ],
          [
           0.008124999999999999,
           0.008124999999999999,
           0.008124999999999999,
           0.008124999999999999,
           0.008124999999999999,
           0.008124999999999999,
           0.008124999999999999,
           0.008124999999999999,
           0.008124999999999999,
           0.008124999999999999
          ],
          [
           0.009375,
           0.009375,
           0.009375,
           0.009375,
           0.009375,
           0.009375,
           0.009375,
           0.009375,
           0.009375,
           0.009375
          ],
          [
           0.01,
           0.01,
           0.01,
           0.01,
           0.01,
           0.01,
           0.01,
           0.01,
           0.01,
           0.01
          ]
         ],
         "z": [
          [
           1.8762151598266794e-15,
           1.8094372707649073e-15,
           1.5830884526277713e-15,
           1.4360616759534583e-15,
           1.3547762407793794e-15,
           1.35482712150441e-15,
           1.4356781930785336e-15,
           1.5869189559076988e-15,
           1.775359427081902e-15,
           1.9086365699172177e-15
          ],
          [
           1.7921940678712905e-15,
           1.6604012445773412e-15,
           1.4470227392355818e-15,
           1.279641100300563e-15,
           1.188215381506678e-15,
           1.1883354175169587e-15,
           1.2801435350105097e-15,
           1.4451237491319258e-15,
           1.6638395273451408e-15,
           1.7838322954557735e-15
          ],
          [
           1.5847952365798664e-15,
           1.445775384853789e-15,
           1.188712729994937e-15,
           9.800107767526399e-16,
           8.568972544730323e-16,
           8.569159798964766e-16,
           9.79868119032689e-16,
           1.1878033287925546e-15,
           1.4444149302161665e-15,
           1.5842573934357668e-15
          ],
          [
           1.4360509308504504e-15,
           1.2799931144387875e-15,
           9.802067327480688e-16,
           7.132190738814932e-16,
           5.315284060740282e-16,
           5.313057894581395e-16,
           7.125415866773574e-16,
           9.790168399566324e-16,
           1.278654314528827e-15,
           1.4347155143326525e-15
          ],
          [
           1.355052563226524e-15,
           1.188549924889327e-15,
           8.572151498245451e-16,
           5.317753699005449e-16,
           2.379366119522135e-16,
           2.372592974641523e-16,
           5.30693288033569e-16,
           8.559020062657731e-16,
           1.1873014453388898e-15,
           1.3540228752917594e-15
          ],
          [
           1.3550823996810547e-15,
           1.1886251762965515e-15,
           8.572475235259265e-16,
           5.317350128624485e-16,
           2.3788436615960303e-16,
           2.3747370959289893e-16,
           5.309687887995693e-16,
           8.561690573793815e-16,
           1.1875360039852013e-15,
           1.3542502632404708e-15
          ],
          [
           1.4359093840082427e-15,
           1.2803842456268042e-15,
           9.801853664912462e-16,
           7.130160869105525e-16,
           5.313622934388581e-16,
           5.31526239489877e-16,
           7.131333267990223e-16,
           9.797328847145788e-16,
           1.2794237353993755e-15,
           1.4351926028867624e-15
          ],
          [
           1.5871365983711438e-15,
           1.4453566171932042e-15,
           1.1881242793172552e-15,
           9.794972906727918e-16,
           8.566095818441048e-16,
           8.570551583117051e-16,
           9.804816867529237e-16,
           1.1886243542800711e-15,
           1.444847776621186e-15,
           1.5865294917579803e-15
          ],
          [
           1.7757196692951848e-15,
           1.6640977363610686e-15,
           1.4447753356297796e-15,
           1.279135474228916e-15,
           1.1879833213771922e-15,
           1.1885152093439619e-15,
           1.2807844318460807e-15,
           1.4453943902265545e-15,
           1.6659651007646145e-15,
           1.7753172522754238e-15
          ],
          [
           1.908674147637793e-15,
           1.784242635900549e-15,
           1.5846589289630325e-15,
           1.4352171334459521e-15,
           1.3546514758864191e-15,
           1.3550605906648349e-15,
           1.4360692321261153e-15,
           1.589004750812965e-15,
           1.7669536284991913e-15,
           1.9213355115975023e-15
          ]
         ]
        }
       ],
       "layout": {
        "template": {
         "data": {
          "bar": [
           {
            "error_x": {
             "color": "#2a3f5f"
            },
            "error_y": {
             "color": "#2a3f5f"
            },
            "marker": {
             "line": {
              "color": "#E5ECF6",
              "width": 0.5
             },
             "pattern": {
              "fillmode": "overlay",
              "size": 10,
              "solidity": 0.2
             }
            },
            "type": "bar"
           }
          ],
          "barpolar": [
           {
            "marker": {
             "line": {
              "color": "#E5ECF6",
              "width": 0.5
             },
             "pattern": {
              "fillmode": "overlay",
              "size": 10,
              "solidity": 0.2
             }
            },
            "type": "barpolar"
           }
          ],
          "carpet": [
           {
            "aaxis": {
             "endlinecolor": "#2a3f5f",
             "gridcolor": "white",
             "linecolor": "white",
             "minorgridcolor": "white",
             "startlinecolor": "#2a3f5f"
            },
            "baxis": {
             "endlinecolor": "#2a3f5f",
             "gridcolor": "white",
             "linecolor": "white",
             "minorgridcolor": "white",
             "startlinecolor": "#2a3f5f"
            },
            "type": "carpet"
           }
          ],
          "choropleth": [
           {
            "colorbar": {
             "outlinewidth": 0,
             "ticks": ""
            },
            "type": "choropleth"
           }
          ],
          "contour": [
           {
            "colorbar": {
             "outlinewidth": 0,
             "ticks": ""
            },
            "colorscale": [
             [
              0,
              "#0d0887"
             ],
             [
              0.1111111111111111,
              "#46039f"
             ],
             [
              0.2222222222222222,
              "#7201a8"
             ],
             [
              0.3333333333333333,
              "#9c179e"
             ],
             [
              0.4444444444444444,
              "#bd3786"
             ],
             [
              0.5555555555555556,
              "#d8576b"
             ],
             [
              0.6666666666666666,
              "#ed7953"
             ],
             [
              0.7777777777777778,
              "#fb9f3a"
             ],
             [
              0.8888888888888888,
              "#fdca26"
             ],
             [
              1,
              "#f0f921"
             ]
            ],
            "type": "contour"
           }
          ],
          "contourcarpet": [
           {
            "colorbar": {
             "outlinewidth": 0,
             "ticks": ""
            },
            "type": "contourcarpet"
           }
          ],
          "heatmap": [
           {
            "colorbar": {
             "outlinewidth": 0,
             "ticks": ""
            },
            "colorscale": [
             [
              0,
              "#0d0887"
             ],
             [
              0.1111111111111111,
              "#46039f"
             ],
             [
              0.2222222222222222,
              "#7201a8"
             ],
             [
              0.3333333333333333,
              "#9c179e"
             ],
             [
              0.4444444444444444,
              "#bd3786"
             ],
             [
              0.5555555555555556,
              "#d8576b"
             ],
             [
              0.6666666666666666,
              "#ed7953"
             ],
             [
              0.7777777777777778,
              "#fb9f3a"
             ],
             [
              0.8888888888888888,
              "#fdca26"
             ],
             [
              1,
              "#f0f921"
             ]
            ],
            "type": "heatmap"
           }
          ],
          "heatmapgl": [
           {
            "colorbar": {
             "outlinewidth": 0,
             "ticks": ""
            },
            "colorscale": [
             [
              0,
              "#0d0887"
             ],
             [
              0.1111111111111111,
              "#46039f"
             ],
             [
              0.2222222222222222,
              "#7201a8"
             ],
             [
              0.3333333333333333,
              "#9c179e"
             ],
             [
              0.4444444444444444,
              "#bd3786"
             ],
             [
              0.5555555555555556,
              "#d8576b"
             ],
             [
              0.6666666666666666,
              "#ed7953"
             ],
             [
              0.7777777777777778,
              "#fb9f3a"
             ],
             [
              0.8888888888888888,
              "#fdca26"
             ],
             [
              1,
              "#f0f921"
             ]
            ],
            "type": "heatmapgl"
           }
          ],
          "histogram": [
           {
            "marker": {
             "pattern": {
              "fillmode": "overlay",
              "size": 10,
              "solidity": 0.2
             }
            },
            "type": "histogram"
           }
          ],
          "histogram2d": [
           {
            "colorbar": {
             "outlinewidth": 0,
             "ticks": ""
            },
            "colorscale": [
             [
              0,
              "#0d0887"
             ],
             [
              0.1111111111111111,
              "#46039f"
             ],
             [
              0.2222222222222222,
              "#7201a8"
             ],
             [
              0.3333333333333333,
              "#9c179e"
             ],
             [
              0.4444444444444444,
              "#bd3786"
             ],
             [
              0.5555555555555556,
              "#d8576b"
             ],
             [
              0.6666666666666666,
              "#ed7953"
             ],
             [
              0.7777777777777778,
              "#fb9f3a"
             ],
             [
              0.8888888888888888,
              "#fdca26"
             ],
             [
              1,
              "#f0f921"
             ]
            ],
            "type": "histogram2d"
           }
          ],
          "histogram2dcontour": [
           {
            "colorbar": {
             "outlinewidth": 0,
             "ticks": ""
            },
            "colorscale": [
             [
              0,
              "#0d0887"
             ],
             [
              0.1111111111111111,
              "#46039f"
             ],
             [
              0.2222222222222222,
              "#7201a8"
             ],
             [
              0.3333333333333333,
              "#9c179e"
             ],
             [
              0.4444444444444444,
              "#bd3786"
             ],
             [
              0.5555555555555556,
              "#d8576b"
             ],
             [
              0.6666666666666666,
              "#ed7953"
             ],
             [
              0.7777777777777778,
              "#fb9f3a"
             ],
             [
              0.8888888888888888,
              "#fdca26"
             ],
             [
              1,
              "#f0f921"
             ]
            ],
            "type": "histogram2dcontour"
           }
          ],
          "mesh3d": [
           {
            "colorbar": {
             "outlinewidth": 0,
             "ticks": ""
            },
            "type": "mesh3d"
           }
          ],
          "parcoords": [
           {
            "line": {
             "colorbar": {
              "outlinewidth": 0,
              "ticks": ""
             }
            },
            "type": "parcoords"
           }
          ],
          "pie": [
           {
            "automargin": true,
            "type": "pie"
           }
          ],
          "scatter": [
           {
            "marker": {
             "colorbar": {
              "outlinewidth": 0,
              "ticks": ""
             }
            },
            "type": "scatter"
           }
          ],
          "scatter3d": [
           {
            "line": {
             "colorbar": {
              "outlinewidth": 0,
              "ticks": ""
             }
            },
            "marker": {
             "colorbar": {
              "outlinewidth": 0,
              "ticks": ""
             }
            },
            "type": "scatter3d"
           }
          ],
          "scattercarpet": [
           {
            "marker": {
             "colorbar": {
              "outlinewidth": 0,
              "ticks": ""
             }
            },
            "type": "scattercarpet"
           }
          ],
          "scattergeo": [
           {
            "marker": {
             "colorbar": {
              "outlinewidth": 0,
              "ticks": ""
             }
            },
            "type": "scattergeo"
           }
          ],
          "scattergl": [
           {
            "marker": {
             "colorbar": {
              "outlinewidth": 0,
              "ticks": ""
             }
            },
            "type": "scattergl"
           }
          ],
          "scattermapbox": [
           {
            "marker": {
             "colorbar": {
              "outlinewidth": 0,
              "ticks": ""
             }
            },
            "type": "scattermapbox"
           }
          ],
          "scatterpolar": [
           {
            "marker": {
             "colorbar": {
              "outlinewidth": 0,
              "ticks": ""
             }
            },
            "type": "scatterpolar"
           }
          ],
          "scatterpolargl": [
           {
            "marker": {
             "colorbar": {
              "outlinewidth": 0,
              "ticks": ""
             }
            },
            "type": "scatterpolargl"
           }
          ],
          "scatterternary": [
           {
            "marker": {
             "colorbar": {
              "outlinewidth": 0,
              "ticks": ""
             }
            },
            "type": "scatterternary"
           }
          ],
          "surface": [
           {
            "colorbar": {
             "outlinewidth": 0,
             "ticks": ""
            },
            "colorscale": [
             [
              0,
              "#0d0887"
             ],
             [
              0.1111111111111111,
              "#46039f"
             ],
             [
              0.2222222222222222,
              "#7201a8"
             ],
             [
              0.3333333333333333,
              "#9c179e"
             ],
             [
              0.4444444444444444,
              "#bd3786"
             ],
             [
              0.5555555555555556,
              "#d8576b"
             ],
             [
              0.6666666666666666,
              "#ed7953"
             ],
             [
              0.7777777777777778,
              "#fb9f3a"
             ],
             [
              0.8888888888888888,
              "#fdca26"
             ],
             [
              1,
              "#f0f921"
             ]
            ],
            "type": "surface"
           }
          ],
          "table": [
           {
            "cells": {
             "fill": {
              "color": "#EBF0F8"
             },
             "line": {
              "color": "white"
             }
            },
            "header": {
             "fill": {
              "color": "#C8D4E3"
             },
             "line": {
              "color": "white"
             }
            },
            "type": "table"
           }
          ]
         },
         "layout": {
          "annotationdefaults": {
           "arrowcolor": "#2a3f5f",
           "arrowhead": 0,
           "arrowwidth": 1
          },
          "autotypenumbers": "strict",
          "coloraxis": {
           "colorbar": {
            "outlinewidth": 0,
            "ticks": ""
           }
          },
          "colorscale": {
           "diverging": [
            [
             0,
             "#8e0152"
            ],
            [
             0.1,
             "#c51b7d"
            ],
            [
             0.2,
             "#de77ae"
            ],
            [
             0.3,
             "#f1b6da"
            ],
            [
             0.4,
             "#fde0ef"
            ],
            [
             0.5,
             "#f7f7f7"
            ],
            [
             0.6,
             "#e6f5d0"
            ],
            [
             0.7,
             "#b8e186"
            ],
            [
             0.8,
             "#7fbc41"
            ],
            [
             0.9,
             "#4d9221"
            ],
            [
             1,
             "#276419"
            ]
           ],
           "sequential": [
            [
             0,
             "#0d0887"
            ],
            [
             0.1111111111111111,
             "#46039f"
            ],
            [
             0.2222222222222222,
             "#7201a8"
            ],
            [
             0.3333333333333333,
             "#9c179e"
            ],
            [
             0.4444444444444444,
             "#bd3786"
            ],
            [
             0.5555555555555556,
             "#d8576b"
            ],
            [
             0.6666666666666666,
             "#ed7953"
            ],
            [
             0.7777777777777778,
             "#fb9f3a"
            ],
            [
             0.8888888888888888,
             "#fdca26"
            ],
            [
             1,
             "#f0f921"
            ]
           ],
           "sequentialminus": [
            [
             0,
             "#0d0887"
            ],
            [
             0.1111111111111111,
             "#46039f"
            ],
            [
             0.2222222222222222,
             "#7201a8"
            ],
            [
             0.3333333333333333,
             "#9c179e"
            ],
            [
             0.4444444444444444,
             "#bd3786"
            ],
            [
             0.5555555555555556,
             "#d8576b"
            ],
            [
             0.6666666666666666,
             "#ed7953"
            ],
            [
             0.7777777777777778,
             "#fb9f3a"
            ],
            [
             0.8888888888888888,
             "#fdca26"
            ],
            [
             1,
             "#f0f921"
            ]
           ]
          },
          "colorway": [
           "#636efa",
           "#EF553B",
           "#00cc96",
           "#ab63fa",
           "#FFA15A",
           "#19d3f3",
           "#FF6692",
           "#B6E880",
           "#FF97FF",
           "#FECB52"
          ],
          "font": {
           "color": "#2a3f5f"
          },
          "geo": {
           "bgcolor": "white",
           "lakecolor": "white",
           "landcolor": "#E5ECF6",
           "showlakes": true,
           "showland": true,
           "subunitcolor": "white"
          },
          "hoverlabel": {
           "align": "left"
          },
          "hovermode": "closest",
          "mapbox": {
           "style": "light"
          },
          "paper_bgcolor": "white",
          "plot_bgcolor": "#E5ECF6",
          "polar": {
           "angularaxis": {
            "gridcolor": "white",
            "linecolor": "white",
            "ticks": ""
           },
           "bgcolor": "#E5ECF6",
           "radialaxis": {
            "gridcolor": "white",
            "linecolor": "white",
            "ticks": ""
           }
          },
          "scene": {
           "xaxis": {
            "backgroundcolor": "#E5ECF6",
            "gridcolor": "white",
            "gridwidth": 2,
            "linecolor": "white",
            "showbackground": true,
            "ticks": "",
            "zerolinecolor": "white"
           },
           "yaxis": {
            "backgroundcolor": "#E5ECF6",
            "gridcolor": "white",
            "gridwidth": 2,
            "linecolor": "white",
            "showbackground": true,
            "ticks": "",
            "zerolinecolor": "white"
           },
           "zaxis": {
            "backgroundcolor": "#E5ECF6",
            "gridcolor": "white",
            "gridwidth": 2,
            "linecolor": "white",
            "showbackground": true,
            "ticks": "",
            "zerolinecolor": "white"
           }
          },
          "shapedefaults": {
           "line": {
            "color": "#2a3f5f"
           }
          },
          "ternary": {
           "aaxis": {
            "gridcolor": "white",
            "linecolor": "white",
            "ticks": ""
           },
           "baxis": {
            "gridcolor": "white",
            "linecolor": "white",
            "ticks": ""
           },
           "bgcolor": "#E5ECF6",
           "caxis": {
            "gridcolor": "white",
            "linecolor": "white",
            "ticks": ""
           }
          },
          "title": {
           "x": 0.05
          },
          "xaxis": {
           "automargin": true,
           "gridcolor": "white",
           "linecolor": "white",
           "ticks": "",
           "title": {
            "standoff": 15
           },
           "zerolinecolor": "white",
           "zerolinewidth": 2
          },
          "yaxis": {
           "automargin": true,
           "gridcolor": "white",
           "linecolor": "white",
           "ticks": "",
           "title": {
            "standoff": 15
           },
           "zerolinecolor": "white",
           "zerolinewidth": 2
          }
         }
        }
       }
      },
      "text/html": [
       "<div>                            <div id=\"5f73a77b-aaba-4a20-ab85-560598390361\" class=\"plotly-graph-div\" style=\"height:525px; width:100%;\"></div>            <script type=\"text/javascript\">                require([\"plotly\"], function(Plotly) {                    window.PLOTLYENV=window.PLOTLYENV || {};                                    if (document.getElementById(\"5f73a77b-aaba-4a20-ab85-560598390361\")) {                    Plotly.newPlot(                        \"5f73a77b-aaba-4a20-ab85-560598390361\",                        [{\"x\":[[0.0,0.000625,0.001875,0.0031249999999999997,0.0043749999999999995,0.005624999999999999,0.006874999999999998,0.008124999999999999,0.009375,0.01],[0.0,0.000625,0.001875,0.0031249999999999997,0.0043749999999999995,0.005624999999999999,0.006874999999999998,0.008124999999999999,0.009375,0.01],[0.0,0.000625,0.001875,0.0031249999999999997,0.0043749999999999995,0.005624999999999999,0.006874999999999998,0.008124999999999999,0.009375,0.01],[0.0,0.000625,0.001875,0.0031249999999999997,0.0043749999999999995,0.005624999999999999,0.006874999999999998,0.008124999999999999,0.009375,0.01],[0.0,0.000625,0.001875,0.0031249999999999997,0.0043749999999999995,0.005624999999999999,0.006874999999999998,0.008124999999999999,0.009375,0.01],[0.0,0.000625,0.001875,0.0031249999999999997,0.0043749999999999995,0.005624999999999999,0.006874999999999998,0.008124999999999999,0.009375,0.01],[0.0,0.000625,0.001875,0.0031249999999999997,0.0043749999999999995,0.005624999999999999,0.006874999999999998,0.008124999999999999,0.009375,0.01],[0.0,0.000625,0.001875,0.0031249999999999997,0.0043749999999999995,0.005624999999999999,0.006874999999999998,0.008124999999999999,0.009375,0.01],[0.0,0.000625,0.001875,0.0031249999999999997,0.0043749999999999995,0.005624999999999999,0.006874999999999998,0.008124999999999999,0.009375,0.01],[0.0,0.000625,0.001875,0.0031249999999999997,0.0043749999999999995,0.005624999999999999,0.006874999999999998,0.008124999999999999,0.009375,0.01]],\"y\":[[0.0,0.0,0.0,0.0,0.0,0.0,0.0,0.0,0.0,0.0],[0.000625,0.000625,0.000625,0.000625,0.000625,0.000625,0.000625,0.000625,0.000625,0.000625],[0.001875,0.001875,0.001875,0.001875,0.001875,0.001875,0.001875,0.001875,0.001875,0.001875],[0.0031249999999999997,0.0031249999999999997,0.0031249999999999997,0.0031249999999999997,0.0031249999999999997,0.0031249999999999997,0.0031249999999999997,0.0031249999999999997,0.0031249999999999997,0.0031249999999999997],[0.0043749999999999995,0.0043749999999999995,0.0043749999999999995,0.0043749999999999995,0.0043749999999999995,0.0043749999999999995,0.0043749999999999995,0.0043749999999999995,0.0043749999999999995,0.0043749999999999995],[0.005624999999999999,0.005624999999999999,0.005624999999999999,0.005624999999999999,0.005624999999999999,0.005624999999999999,0.005624999999999999,0.005624999999999999,0.005624999999999999,0.005624999999999999],[0.006874999999999998,0.006874999999999998,0.006874999999999998,0.006874999999999998,0.006874999999999998,0.006874999999999998,0.006874999999999998,0.006874999999999998,0.006874999999999998,0.006874999999999998],[0.008124999999999999,0.008124999999999999,0.008124999999999999,0.008124999999999999,0.008124999999999999,0.008124999999999999,0.008124999999999999,0.008124999999999999,0.008124999999999999,0.008124999999999999],[0.009375,0.009375,0.009375,0.009375,0.009375,0.009375,0.009375,0.009375,0.009375,0.009375],[0.01,0.01,0.01,0.01,0.01,0.01,0.01,0.01,0.01,0.01]],\"z\":[[1.8762151598266794e-15,1.8094372707649073e-15,1.5830884526277713e-15,1.4360616759534583e-15,1.3547762407793794e-15,1.35482712150441e-15,1.4356781930785336e-15,1.5869189559076988e-15,1.775359427081902e-15,1.9086365699172177e-15],[1.7921940678712905e-15,1.6604012445773412e-15,1.4470227392355818e-15,1.279641100300563e-15,1.188215381506678e-15,1.1883354175169587e-15,1.2801435350105097e-15,1.4451237491319258e-15,1.6638395273451408e-15,1.7838322954557735e-15],[1.5847952365798664e-15,1.445775384853789e-15,1.188712729994937e-15,9.800107767526399e-16,8.568972544730323e-16,8.569159798964766e-16,9.79868119032689e-16,1.1878033287925546e-15,1.4444149302161665e-15,1.5842573934357668e-15],[1.4360509308504504e-15,1.2799931144387875e-15,9.802067327480688e-16,7.132190738814932e-16,5.315284060740282e-16,5.313057894581395e-16,7.125415866773574e-16,9.790168399566324e-16,1.278654314528827e-15,1.4347155143326525e-15],[1.355052563226524e-15,1.188549924889327e-15,8.572151498245451e-16,5.317753699005449e-16,2.379366119522135e-16,2.372592974641523e-16,5.30693288033569e-16,8.559020062657731e-16,1.1873014453388898e-15,1.3540228752917594e-15],[1.3550823996810547e-15,1.1886251762965515e-15,8.572475235259265e-16,5.317350128624485e-16,2.3788436615960303e-16,2.3747370959289893e-16,5.309687887995693e-16,8.561690573793815e-16,1.1875360039852013e-15,1.3542502632404708e-15],[1.4359093840082427e-15,1.2803842456268042e-15,9.801853664912462e-16,7.130160869105525e-16,5.313622934388581e-16,5.31526239489877e-16,7.131333267990223e-16,9.797328847145788e-16,1.2794237353993755e-15,1.4351926028867624e-15],[1.5871365983711438e-15,1.4453566171932042e-15,1.1881242793172552e-15,9.794972906727918e-16,8.566095818441048e-16,8.570551583117051e-16,9.804816867529237e-16,1.1886243542800711e-15,1.444847776621186e-15,1.5865294917579803e-15],[1.7757196692951848e-15,1.6640977363610686e-15,1.4447753356297796e-15,1.279135474228916e-15,1.1879833213771922e-15,1.1885152093439619e-15,1.2807844318460807e-15,1.4453943902265545e-15,1.6659651007646145e-15,1.7753172522754238e-15],[1.908674147637793e-15,1.784242635900549e-15,1.5846589289630325e-15,1.4352171334459521e-15,1.3546514758864191e-15,1.3550605906648349e-15,1.4360692321261153e-15,1.589004750812965e-15,1.7669536284991913e-15,1.9213355115975023e-15]],\"type\":\"surface\"}],                        {\"template\":{\"data\":{\"bar\":[{\"error_x\":{\"color\":\"#2a3f5f\"},\"error_y\":{\"color\":\"#2a3f5f\"},\"marker\":{\"line\":{\"color\":\"#E5ECF6\",\"width\":0.5},\"pattern\":{\"fillmode\":\"overlay\",\"size\":10,\"solidity\":0.2}},\"type\":\"bar\"}],\"barpolar\":[{\"marker\":{\"line\":{\"color\":\"#E5ECF6\",\"width\":0.5},\"pattern\":{\"fillmode\":\"overlay\",\"size\":10,\"solidity\":0.2}},\"type\":\"barpolar\"}],\"carpet\":[{\"aaxis\":{\"endlinecolor\":\"#2a3f5f\",\"gridcolor\":\"white\",\"linecolor\":\"white\",\"minorgridcolor\":\"white\",\"startlinecolor\":\"#2a3f5f\"},\"baxis\":{\"endlinecolor\":\"#2a3f5f\",\"gridcolor\":\"white\",\"linecolor\":\"white\",\"minorgridcolor\":\"white\",\"startlinecolor\":\"#2a3f5f\"},\"type\":\"carpet\"}],\"choropleth\":[{\"colorbar\":{\"outlinewidth\":0,\"ticks\":\"\"},\"type\":\"choropleth\"}],\"contour\":[{\"colorbar\":{\"outlinewidth\":0,\"ticks\":\"\"},\"colorscale\":[[0.0,\"#0d0887\"],[0.1111111111111111,\"#46039f\"],[0.2222222222222222,\"#7201a8\"],[0.3333333333333333,\"#9c179e\"],[0.4444444444444444,\"#bd3786\"],[0.5555555555555556,\"#d8576b\"],[0.6666666666666666,\"#ed7953\"],[0.7777777777777778,\"#fb9f3a\"],[0.8888888888888888,\"#fdca26\"],[1.0,\"#f0f921\"]],\"type\":\"contour\"}],\"contourcarpet\":[{\"colorbar\":{\"outlinewidth\":0,\"ticks\":\"\"},\"type\":\"contourcarpet\"}],\"heatmap\":[{\"colorbar\":{\"outlinewidth\":0,\"ticks\":\"\"},\"colorscale\":[[0.0,\"#0d0887\"],[0.1111111111111111,\"#46039f\"],[0.2222222222222222,\"#7201a8\"],[0.3333333333333333,\"#9c179e\"],[0.4444444444444444,\"#bd3786\"],[0.5555555555555556,\"#d8576b\"],[0.6666666666666666,\"#ed7953\"],[0.7777777777777778,\"#fb9f3a\"],[0.8888888888888888,\"#fdca26\"],[1.0,\"#f0f921\"]],\"type\":\"heatmap\"}],\"heatmapgl\":[{\"colorbar\":{\"outlinewidth\":0,\"ticks\":\"\"},\"colorscale\":[[0.0,\"#0d0887\"],[0.1111111111111111,\"#46039f\"],[0.2222222222222222,\"#7201a8\"],[0.3333333333333333,\"#9c179e\"],[0.4444444444444444,\"#bd3786\"],[0.5555555555555556,\"#d8576b\"],[0.6666666666666666,\"#ed7953\"],[0.7777777777777778,\"#fb9f3a\"],[0.8888888888888888,\"#fdca26\"],[1.0,\"#f0f921\"]],\"type\":\"heatmapgl\"}],\"histogram\":[{\"marker\":{\"pattern\":{\"fillmode\":\"overlay\",\"size\":10,\"solidity\":0.2}},\"type\":\"histogram\"}],\"histogram2d\":[{\"colorbar\":{\"outlinewidth\":0,\"ticks\":\"\"},\"colorscale\":[[0.0,\"#0d0887\"],[0.1111111111111111,\"#46039f\"],[0.2222222222222222,\"#7201a8\"],[0.3333333333333333,\"#9c179e\"],[0.4444444444444444,\"#bd3786\"],[0.5555555555555556,\"#d8576b\"],[0.6666666666666666,\"#ed7953\"],[0.7777777777777778,\"#fb9f3a\"],[0.8888888888888888,\"#fdca26\"],[1.0,\"#f0f921\"]],\"type\":\"histogram2d\"}],\"histogram2dcontour\":[{\"colorbar\":{\"outlinewidth\":0,\"ticks\":\"\"},\"colorscale\":[[0.0,\"#0d0887\"],[0.1111111111111111,\"#46039f\"],[0.2222222222222222,\"#7201a8\"],[0.3333333333333333,\"#9c179e\"],[0.4444444444444444,\"#bd3786\"],[0.5555555555555556,\"#d8576b\"],[0.6666666666666666,\"#ed7953\"],[0.7777777777777778,\"#fb9f3a\"],[0.8888888888888888,\"#fdca26\"],[1.0,\"#f0f921\"]],\"type\":\"histogram2dcontour\"}],\"mesh3d\":[{\"colorbar\":{\"outlinewidth\":0,\"ticks\":\"\"},\"type\":\"mesh3d\"}],\"parcoords\":[{\"line\":{\"colorbar\":{\"outlinewidth\":0,\"ticks\":\"\"}},\"type\":\"parcoords\"}],\"pie\":[{\"automargin\":true,\"type\":\"pie\"}],\"scatter\":[{\"marker\":{\"colorbar\":{\"outlinewidth\":0,\"ticks\":\"\"}},\"type\":\"scatter\"}],\"scatter3d\":[{\"line\":{\"colorbar\":{\"outlinewidth\":0,\"ticks\":\"\"}},\"marker\":{\"colorbar\":{\"outlinewidth\":0,\"ticks\":\"\"}},\"type\":\"scatter3d\"}],\"scattercarpet\":[{\"marker\":{\"colorbar\":{\"outlinewidth\":0,\"ticks\":\"\"}},\"type\":\"scattercarpet\"}],\"scattergeo\":[{\"marker\":{\"colorbar\":{\"outlinewidth\":0,\"ticks\":\"\"}},\"type\":\"scattergeo\"}],\"scattergl\":[{\"marker\":{\"colorbar\":{\"outlinewidth\":0,\"ticks\":\"\"}},\"type\":\"scattergl\"}],\"scattermapbox\":[{\"marker\":{\"colorbar\":{\"outlinewidth\":0,\"ticks\":\"\"}},\"type\":\"scattermapbox\"}],\"scatterpolar\":[{\"marker\":{\"colorbar\":{\"outlinewidth\":0,\"ticks\":\"\"}},\"type\":\"scatterpolar\"}],\"scatterpolargl\":[{\"marker\":{\"colorbar\":{\"outlinewidth\":0,\"ticks\":\"\"}},\"type\":\"scatterpolargl\"}],\"scatterternary\":[{\"marker\":{\"colorbar\":{\"outlinewidth\":0,\"ticks\":\"\"}},\"type\":\"scatterternary\"}],\"surface\":[{\"colorbar\":{\"outlinewidth\":0,\"ticks\":\"\"},\"colorscale\":[[0.0,\"#0d0887\"],[0.1111111111111111,\"#46039f\"],[0.2222222222222222,\"#7201a8\"],[0.3333333333333333,\"#9c179e\"],[0.4444444444444444,\"#bd3786\"],[0.5555555555555556,\"#d8576b\"],[0.6666666666666666,\"#ed7953\"],[0.7777777777777778,\"#fb9f3a\"],[0.8888888888888888,\"#fdca26\"],[1.0,\"#f0f921\"]],\"type\":\"surface\"}],\"table\":[{\"cells\":{\"fill\":{\"color\":\"#EBF0F8\"},\"line\":{\"color\":\"white\"}},\"header\":{\"fill\":{\"color\":\"#C8D4E3\"},\"line\":{\"color\":\"white\"}},\"type\":\"table\"}]},\"layout\":{\"annotationdefaults\":{\"arrowcolor\":\"#2a3f5f\",\"arrowhead\":0,\"arrowwidth\":1},\"autotypenumbers\":\"strict\",\"coloraxis\":{\"colorbar\":{\"outlinewidth\":0,\"ticks\":\"\"}},\"colorscale\":{\"diverging\":[[0,\"#8e0152\"],[0.1,\"#c51b7d\"],[0.2,\"#de77ae\"],[0.3,\"#f1b6da\"],[0.4,\"#fde0ef\"],[0.5,\"#f7f7f7\"],[0.6,\"#e6f5d0\"],[0.7,\"#b8e186\"],[0.8,\"#7fbc41\"],[0.9,\"#4d9221\"],[1,\"#276419\"]],\"sequential\":[[0.0,\"#0d0887\"],[0.1111111111111111,\"#46039f\"],[0.2222222222222222,\"#7201a8\"],[0.3333333333333333,\"#9c179e\"],[0.4444444444444444,\"#bd3786\"],[0.5555555555555556,\"#d8576b\"],[0.6666666666666666,\"#ed7953\"],[0.7777777777777778,\"#fb9f3a\"],[0.8888888888888888,\"#fdca26\"],[1.0,\"#f0f921\"]],\"sequentialminus\":[[0.0,\"#0d0887\"],[0.1111111111111111,\"#46039f\"],[0.2222222222222222,\"#7201a8\"],[0.3333333333333333,\"#9c179e\"],[0.4444444444444444,\"#bd3786\"],[0.5555555555555556,\"#d8576b\"],[0.6666666666666666,\"#ed7953\"],[0.7777777777777778,\"#fb9f3a\"],[0.8888888888888888,\"#fdca26\"],[1.0,\"#f0f921\"]]},\"colorway\":[\"#636efa\",\"#EF553B\",\"#00cc96\",\"#ab63fa\",\"#FFA15A\",\"#19d3f3\",\"#FF6692\",\"#B6E880\",\"#FF97FF\",\"#FECB52\"],\"font\":{\"color\":\"#2a3f5f\"},\"geo\":{\"bgcolor\":\"white\",\"lakecolor\":\"white\",\"landcolor\":\"#E5ECF6\",\"showlakes\":true,\"showland\":true,\"subunitcolor\":\"white\"},\"hoverlabel\":{\"align\":\"left\"},\"hovermode\":\"closest\",\"mapbox\":{\"style\":\"light\"},\"paper_bgcolor\":\"white\",\"plot_bgcolor\":\"#E5ECF6\",\"polar\":{\"angularaxis\":{\"gridcolor\":\"white\",\"linecolor\":\"white\",\"ticks\":\"\"},\"bgcolor\":\"#E5ECF6\",\"radialaxis\":{\"gridcolor\":\"white\",\"linecolor\":\"white\",\"ticks\":\"\"}},\"scene\":{\"xaxis\":{\"backgroundcolor\":\"#E5ECF6\",\"gridcolor\":\"white\",\"gridwidth\":2,\"linecolor\":\"white\",\"showbackground\":true,\"ticks\":\"\",\"zerolinecolor\":\"white\"},\"yaxis\":{\"backgroundcolor\":\"#E5ECF6\",\"gridcolor\":\"white\",\"gridwidth\":2,\"linecolor\":\"white\",\"showbackground\":true,\"ticks\":\"\",\"zerolinecolor\":\"white\"},\"zaxis\":{\"backgroundcolor\":\"#E5ECF6\",\"gridcolor\":\"white\",\"gridwidth\":2,\"linecolor\":\"white\",\"showbackground\":true,\"ticks\":\"\",\"zerolinecolor\":\"white\"}},\"shapedefaults\":{\"line\":{\"color\":\"#2a3f5f\"}},\"ternary\":{\"aaxis\":{\"gridcolor\":\"white\",\"linecolor\":\"white\",\"ticks\":\"\"},\"baxis\":{\"gridcolor\":\"white\",\"linecolor\":\"white\",\"ticks\":\"\"},\"bgcolor\":\"#E5ECF6\",\"caxis\":{\"gridcolor\":\"white\",\"linecolor\":\"white\",\"ticks\":\"\"}},\"title\":{\"x\":0.05},\"xaxis\":{\"automargin\":true,\"gridcolor\":\"white\",\"linecolor\":\"white\",\"ticks\":\"\",\"title\":{\"standoff\":15},\"zerolinecolor\":\"white\",\"zerolinewidth\":2},\"yaxis\":{\"automargin\":true,\"gridcolor\":\"white\",\"linecolor\":\"white\",\"ticks\":\"\",\"title\":{\"standoff\":15},\"zerolinecolor\":\"white\",\"zerolinewidth\":2}}}},                        {\"responsive\": true}                    ).then(function(){\n",
       "                            \n",
       "var gd = document.getElementById('5f73a77b-aaba-4a20-ab85-560598390361');\n",
       "var x = new MutationObserver(function (mutations, observer) {{\n",
       "        var display = window.getComputedStyle(gd).display;\n",
       "        if (!display || display === 'none') {{\n",
       "            console.log([gd, 'removed!']);\n",
       "            Plotly.purge(gd);\n",
       "            observer.disconnect();\n",
       "        }}\n",
       "}});\n",
       "\n",
       "// Listen for the removal of the full notebook cells\n",
       "var notebookContainer = gd.closest('#notebook-container');\n",
       "if (notebookContainer) {{\n",
       "    x.observe(notebookContainer, {childList: true});\n",
       "}}\n",
       "\n",
       "// Listen for the clearing of the current output cell\n",
       "var outputEl = gd.closest('.output');\n",
       "if (outputEl) {{\n",
       "    x.observe(outputEl, {childList: true});\n",
       "}}\n",
       "\n",
       "                        })                };                });            </script>        </div>"
      ]
     },
     "metadata": {},
     "output_type": "display_data"
    },
    {
     "name": "stdout",
     "output_type": "stream",
     "text": [
      "U graph\n"
     ]
    },
    {
     "data": {
      "application/vnd.plotly.v1+json": {
       "config": {
        "plotlyServerURL": "https://plot.ly"
       },
       "data": [
        {
         "type": "surface",
         "x": [
          [
           0,
           0.000625,
           0.001875,
           0.0031249999999999997,
           0.0043749999999999995,
           0.005624999999999999,
           0.006874999999999998,
           0.008124999999999999,
           0.009375,
           0.01
          ],
          [
           0,
           0.000625,
           0.001875,
           0.0031249999999999997,
           0.0043749999999999995,
           0.005624999999999999,
           0.006874999999999998,
           0.008124999999999999,
           0.009375,
           0.01
          ],
          [
           0,
           0.000625,
           0.001875,
           0.0031249999999999997,
           0.0043749999999999995,
           0.005624999999999999,
           0.006874999999999998,
           0.008124999999999999,
           0.009375,
           0.01
          ],
          [
           0,
           0.000625,
           0.001875,
           0.0031249999999999997,
           0.0043749999999999995,
           0.005624999999999999,
           0.006874999999999998,
           0.008124999999999999,
           0.009375,
           0.01
          ],
          [
           0,
           0.000625,
           0.001875,
           0.0031249999999999997,
           0.0043749999999999995,
           0.005624999999999999,
           0.006874999999999998,
           0.008124999999999999,
           0.009375,
           0.01
          ],
          [
           0,
           0.000625,
           0.001875,
           0.0031249999999999997,
           0.0043749999999999995,
           0.005624999999999999,
           0.006874999999999998,
           0.008124999999999999,
           0.009375,
           0.01
          ],
          [
           0,
           0.000625,
           0.001875,
           0.0031249999999999997,
           0.0043749999999999995,
           0.005624999999999999,
           0.006874999999999998,
           0.008124999999999999,
           0.009375,
           0.01
          ],
          [
           0,
           0.000625,
           0.001875,
           0.0031249999999999997,
           0.0043749999999999995,
           0.005624999999999999,
           0.006874999999999998,
           0.008124999999999999,
           0.009375,
           0.01
          ],
          [
           0,
           0.000625,
           0.001875,
           0.0031249999999999997,
           0.0043749999999999995,
           0.005624999999999999,
           0.006874999999999998,
           0.008124999999999999,
           0.009375,
           0.01
          ],
          [
           0,
           0.000625,
           0.001875,
           0.0031249999999999997,
           0.0043749999999999995,
           0.005624999999999999,
           0.006874999999999998,
           0.008124999999999999,
           0.009375,
           0.01
          ]
         ],
         "y": [
          [
           0,
           0,
           0,
           0,
           0,
           0,
           0,
           0,
           0,
           0
          ],
          [
           0.000625,
           0.000625,
           0.000625,
           0.000625,
           0.000625,
           0.000625,
           0.000625,
           0.000625,
           0.000625,
           0.000625
          ],
          [
           0.001875,
           0.001875,
           0.001875,
           0.001875,
           0.001875,
           0.001875,
           0.001875,
           0.001875,
           0.001875,
           0.001875
          ],
          [
           0.0031249999999999997,
           0.0031249999999999997,
           0.0031249999999999997,
           0.0031249999999999997,
           0.0031249999999999997,
           0.0031249999999999997,
           0.0031249999999999997,
           0.0031249999999999997,
           0.0031249999999999997,
           0.0031249999999999997
          ],
          [
           0.0043749999999999995,
           0.0043749999999999995,
           0.0043749999999999995,
           0.0043749999999999995,
           0.0043749999999999995,
           0.0043749999999999995,
           0.0043749999999999995,
           0.0043749999999999995,
           0.0043749999999999995,
           0.0043749999999999995
          ],
          [
           0.005624999999999999,
           0.005624999999999999,
           0.005624999999999999,
           0.005624999999999999,
           0.005624999999999999,
           0.005624999999999999,
           0.005624999999999999,
           0.005624999999999999,
           0.005624999999999999,
           0.005624999999999999
          ],
          [
           0.006874999999999998,
           0.006874999999999998,
           0.006874999999999998,
           0.006874999999999998,
           0.006874999999999998,
           0.006874999999999998,
           0.006874999999999998,
           0.006874999999999998,
           0.006874999999999998,
           0.006874999999999998
          ],
          [
           0.008124999999999999,
           0.008124999999999999,
           0.008124999999999999,
           0.008124999999999999,
           0.008124999999999999,
           0.008124999999999999,
           0.008124999999999999,
           0.008124999999999999,
           0.008124999999999999,
           0.008124999999999999
          ],
          [
           0.009375,
           0.009375,
           0.009375,
           0.009375,
           0.009375,
           0.009375,
           0.009375,
           0.009375,
           0.009375,
           0.009375
          ],
          [
           0.01,
           0.01,
           0.01,
           0.01,
           0.01,
           0.01,
           0.01,
           0.01,
           0.01,
           0.01
          ]
         ],
         "z": [
          [
           -1.3284309304563402e-21,
           -1.1884433823322666e-21,
           -8.370234983274055e-22,
           -5.061706719835801e-22,
           -1.7043592904039652e-22,
           1.6550032365074982e-22,
           5.019933975525875e-22,
           8.431206905940192e-22,
           1.180982482735883e-21,
           1.3484448335647862e-21
          ],
          [
           -1.3463336894347552e-21,
           -1.1738425003840967e-21,
           -8.421028341397339e-22,
           -5.060430711120639e-22,
           -1.7018735783542611e-22,
           1.6581487752649917e-22,
           5.019834179723479e-22,
           8.383127941921295e-22,
           1.1779413421169872e-21,
           1.3441926850824441e-21
          ],
          [
           -1.3446226396194602e-21,
           -1.1774207345503559e-21,
           -8.4154379581822505e-22,
           -5.056868992762951e-22,
           -1.6961942808847415e-22,
           1.6641237710703799e-22,
           5.02400842392513e-22,
           8.384869764889063e-22,
           1.1750276278788489e-21,
           1.3434608410555424e-21
          ],
          [
           -1.3450912900776998e-21,
           -1.1770857191024772e-21,
           -8.411559003534099e-22,
           -5.051950264774844e-22,
           -1.6916250931197657e-22,
           1.668184745383011e-22,
           5.027070904482802e-22,
           8.385865385432611e-22,
           1.1747440440829649e-21,
           1.3429804838901524e-21
          ],
          [
           -1.344759846951404e-21,
           -1.1767909030890025e-21,
           -8.407764871839302e-22,
           -5.047452065882947e-22,
           -1.6869393732313398e-22,
           1.6728803739988427e-22,
           5.031627530289767e-22,
           8.390179276535316e-22,
           1.1751235267169468e-21,
           1.3433320241413332e-21
          ],
          [
           -1.3444414301533132e-21,
           -1.1765022133442132e-21,
           -8.404126444589518e-22,
           -5.042769574756858e-22,
           -1.681438325052791e-22,
           1.6790822398158372e-22,
           5.038417718852017e-22,
           8.39748458431445e-22,
           1.1759227730786465e-21,
           1.3441237115689816e-21
          ],
          [
           -1.343786061623338e-21,
           -1.1763506444884976e-21,
           -8.400120534359881e-22,
           -5.037280972786643e-22,
           -1.6749185676412367e-22,
           1.6865957545036987e-22,
           5.0470839377448975e-22,
           8.407741220091928e-22,
           1.1773055375416993e-21,
           1.3451494142415274e-21
          ],
          [
           -1.3421427410873654e-21,
           -1.1748521802764138e-21,
           -8.390228665029122e-22,
           -5.028755687630006e-22,
           -1.6675083957050775e-22,
           1.6935599242523102e-22,
           5.054374491845618e-22,
           8.417370314021772e-22,
           1.1786122696080583e-21,
           1.3465601257864273e-21
          ],
          [
           -1.3223934853727158e-21,
           -1.1718758980114768e-21,
           -8.367946212180327e-22,
           -5.015781482074482e-22,
           -1.6609170788381956e-22,
           1.6953288244204934e-22,
           5.053583556441757e-22,
           8.412141996656246e-22,
           1.1828659798828377e-21,
           1.3325984087550508e-21
          ],
          [
           -1.3469990950103929e-21,
           -1.1691836959946707e-21,
           -8.3601628861185975e-22,
           -5.010896520466035e-22,
           -1.6591108703079556e-22,
           1.6969798702492592e-22,
           5.059207923479749e-22,
           8.503238436097626e-22,
           1.1882372792915407e-21,
           1.3614967206702858e-21
          ]
         ]
        }
       ],
       "layout": {
        "template": {
         "data": {
          "bar": [
           {
            "error_x": {
             "color": "#2a3f5f"
            },
            "error_y": {
             "color": "#2a3f5f"
            },
            "marker": {
             "line": {
              "color": "#E5ECF6",
              "width": 0.5
             },
             "pattern": {
              "fillmode": "overlay",
              "size": 10,
              "solidity": 0.2
             }
            },
            "type": "bar"
           }
          ],
          "barpolar": [
           {
            "marker": {
             "line": {
              "color": "#E5ECF6",
              "width": 0.5
             },
             "pattern": {
              "fillmode": "overlay",
              "size": 10,
              "solidity": 0.2
             }
            },
            "type": "barpolar"
           }
          ],
          "carpet": [
           {
            "aaxis": {
             "endlinecolor": "#2a3f5f",
             "gridcolor": "white",
             "linecolor": "white",
             "minorgridcolor": "white",
             "startlinecolor": "#2a3f5f"
            },
            "baxis": {
             "endlinecolor": "#2a3f5f",
             "gridcolor": "white",
             "linecolor": "white",
             "minorgridcolor": "white",
             "startlinecolor": "#2a3f5f"
            },
            "type": "carpet"
           }
          ],
          "choropleth": [
           {
            "colorbar": {
             "outlinewidth": 0,
             "ticks": ""
            },
            "type": "choropleth"
           }
          ],
          "contour": [
           {
            "colorbar": {
             "outlinewidth": 0,
             "ticks": ""
            },
            "colorscale": [
             [
              0,
              "#0d0887"
             ],
             [
              0.1111111111111111,
              "#46039f"
             ],
             [
              0.2222222222222222,
              "#7201a8"
             ],
             [
              0.3333333333333333,
              "#9c179e"
             ],
             [
              0.4444444444444444,
              "#bd3786"
             ],
             [
              0.5555555555555556,
              "#d8576b"
             ],
             [
              0.6666666666666666,
              "#ed7953"
             ],
             [
              0.7777777777777778,
              "#fb9f3a"
             ],
             [
              0.8888888888888888,
              "#fdca26"
             ],
             [
              1,
              "#f0f921"
             ]
            ],
            "type": "contour"
           }
          ],
          "contourcarpet": [
           {
            "colorbar": {
             "outlinewidth": 0,
             "ticks": ""
            },
            "type": "contourcarpet"
           }
          ],
          "heatmap": [
           {
            "colorbar": {
             "outlinewidth": 0,
             "ticks": ""
            },
            "colorscale": [
             [
              0,
              "#0d0887"
             ],
             [
              0.1111111111111111,
              "#46039f"
             ],
             [
              0.2222222222222222,
              "#7201a8"
             ],
             [
              0.3333333333333333,
              "#9c179e"
             ],
             [
              0.4444444444444444,
              "#bd3786"
             ],
             [
              0.5555555555555556,
              "#d8576b"
             ],
             [
              0.6666666666666666,
              "#ed7953"
             ],
             [
              0.7777777777777778,
              "#fb9f3a"
             ],
             [
              0.8888888888888888,
              "#fdca26"
             ],
             [
              1,
              "#f0f921"
             ]
            ],
            "type": "heatmap"
           }
          ],
          "heatmapgl": [
           {
            "colorbar": {
             "outlinewidth": 0,
             "ticks": ""
            },
            "colorscale": [
             [
              0,
              "#0d0887"
             ],
             [
              0.1111111111111111,
              "#46039f"
             ],
             [
              0.2222222222222222,
              "#7201a8"
             ],
             [
              0.3333333333333333,
              "#9c179e"
             ],
             [
              0.4444444444444444,
              "#bd3786"
             ],
             [
              0.5555555555555556,
              "#d8576b"
             ],
             [
              0.6666666666666666,
              "#ed7953"
             ],
             [
              0.7777777777777778,
              "#fb9f3a"
             ],
             [
              0.8888888888888888,
              "#fdca26"
             ],
             [
              1,
              "#f0f921"
             ]
            ],
            "type": "heatmapgl"
           }
          ],
          "histogram": [
           {
            "marker": {
             "pattern": {
              "fillmode": "overlay",
              "size": 10,
              "solidity": 0.2
             }
            },
            "type": "histogram"
           }
          ],
          "histogram2d": [
           {
            "colorbar": {
             "outlinewidth": 0,
             "ticks": ""
            },
            "colorscale": [
             [
              0,
              "#0d0887"
             ],
             [
              0.1111111111111111,
              "#46039f"
             ],
             [
              0.2222222222222222,
              "#7201a8"
             ],
             [
              0.3333333333333333,
              "#9c179e"
             ],
             [
              0.4444444444444444,
              "#bd3786"
             ],
             [
              0.5555555555555556,
              "#d8576b"
             ],
             [
              0.6666666666666666,
              "#ed7953"
             ],
             [
              0.7777777777777778,
              "#fb9f3a"
             ],
             [
              0.8888888888888888,
              "#fdca26"
             ],
             [
              1,
              "#f0f921"
             ]
            ],
            "type": "histogram2d"
           }
          ],
          "histogram2dcontour": [
           {
            "colorbar": {
             "outlinewidth": 0,
             "ticks": ""
            },
            "colorscale": [
             [
              0,
              "#0d0887"
             ],
             [
              0.1111111111111111,
              "#46039f"
             ],
             [
              0.2222222222222222,
              "#7201a8"
             ],
             [
              0.3333333333333333,
              "#9c179e"
             ],
             [
              0.4444444444444444,
              "#bd3786"
             ],
             [
              0.5555555555555556,
              "#d8576b"
             ],
             [
              0.6666666666666666,
              "#ed7953"
             ],
             [
              0.7777777777777778,
              "#fb9f3a"
             ],
             [
              0.8888888888888888,
              "#fdca26"
             ],
             [
              1,
              "#f0f921"
             ]
            ],
            "type": "histogram2dcontour"
           }
          ],
          "mesh3d": [
           {
            "colorbar": {
             "outlinewidth": 0,
             "ticks": ""
            },
            "type": "mesh3d"
           }
          ],
          "parcoords": [
           {
            "line": {
             "colorbar": {
              "outlinewidth": 0,
              "ticks": ""
             }
            },
            "type": "parcoords"
           }
          ],
          "pie": [
           {
            "automargin": true,
            "type": "pie"
           }
          ],
          "scatter": [
           {
            "marker": {
             "colorbar": {
              "outlinewidth": 0,
              "ticks": ""
             }
            },
            "type": "scatter"
           }
          ],
          "scatter3d": [
           {
            "line": {
             "colorbar": {
              "outlinewidth": 0,
              "ticks": ""
             }
            },
            "marker": {
             "colorbar": {
              "outlinewidth": 0,
              "ticks": ""
             }
            },
            "type": "scatter3d"
           }
          ],
          "scattercarpet": [
           {
            "marker": {
             "colorbar": {
              "outlinewidth": 0,
              "ticks": ""
             }
            },
            "type": "scattercarpet"
           }
          ],
          "scattergeo": [
           {
            "marker": {
             "colorbar": {
              "outlinewidth": 0,
              "ticks": ""
             }
            },
            "type": "scattergeo"
           }
          ],
          "scattergl": [
           {
            "marker": {
             "colorbar": {
              "outlinewidth": 0,
              "ticks": ""
             }
            },
            "type": "scattergl"
           }
          ],
          "scattermapbox": [
           {
            "marker": {
             "colorbar": {
              "outlinewidth": 0,
              "ticks": ""
             }
            },
            "type": "scattermapbox"
           }
          ],
          "scatterpolar": [
           {
            "marker": {
             "colorbar": {
              "outlinewidth": 0,
              "ticks": ""
             }
            },
            "type": "scatterpolar"
           }
          ],
          "scatterpolargl": [
           {
            "marker": {
             "colorbar": {
              "outlinewidth": 0,
              "ticks": ""
             }
            },
            "type": "scatterpolargl"
           }
          ],
          "scatterternary": [
           {
            "marker": {
             "colorbar": {
              "outlinewidth": 0,
              "ticks": ""
             }
            },
            "type": "scatterternary"
           }
          ],
          "surface": [
           {
            "colorbar": {
             "outlinewidth": 0,
             "ticks": ""
            },
            "colorscale": [
             [
              0,
              "#0d0887"
             ],
             [
              0.1111111111111111,
              "#46039f"
             ],
             [
              0.2222222222222222,
              "#7201a8"
             ],
             [
              0.3333333333333333,
              "#9c179e"
             ],
             [
              0.4444444444444444,
              "#bd3786"
             ],
             [
              0.5555555555555556,
              "#d8576b"
             ],
             [
              0.6666666666666666,
              "#ed7953"
             ],
             [
              0.7777777777777778,
              "#fb9f3a"
             ],
             [
              0.8888888888888888,
              "#fdca26"
             ],
             [
              1,
              "#f0f921"
             ]
            ],
            "type": "surface"
           }
          ],
          "table": [
           {
            "cells": {
             "fill": {
              "color": "#EBF0F8"
             },
             "line": {
              "color": "white"
             }
            },
            "header": {
             "fill": {
              "color": "#C8D4E3"
             },
             "line": {
              "color": "white"
             }
            },
            "type": "table"
           }
          ]
         },
         "layout": {
          "annotationdefaults": {
           "arrowcolor": "#2a3f5f",
           "arrowhead": 0,
           "arrowwidth": 1
          },
          "autotypenumbers": "strict",
          "coloraxis": {
           "colorbar": {
            "outlinewidth": 0,
            "ticks": ""
           }
          },
          "colorscale": {
           "diverging": [
            [
             0,
             "#8e0152"
            ],
            [
             0.1,
             "#c51b7d"
            ],
            [
             0.2,
             "#de77ae"
            ],
            [
             0.3,
             "#f1b6da"
            ],
            [
             0.4,
             "#fde0ef"
            ],
            [
             0.5,
             "#f7f7f7"
            ],
            [
             0.6,
             "#e6f5d0"
            ],
            [
             0.7,
             "#b8e186"
            ],
            [
             0.8,
             "#7fbc41"
            ],
            [
             0.9,
             "#4d9221"
            ],
            [
             1,
             "#276419"
            ]
           ],
           "sequential": [
            [
             0,
             "#0d0887"
            ],
            [
             0.1111111111111111,
             "#46039f"
            ],
            [
             0.2222222222222222,
             "#7201a8"
            ],
            [
             0.3333333333333333,
             "#9c179e"
            ],
            [
             0.4444444444444444,
             "#bd3786"
            ],
            [
             0.5555555555555556,
             "#d8576b"
            ],
            [
             0.6666666666666666,
             "#ed7953"
            ],
            [
             0.7777777777777778,
             "#fb9f3a"
            ],
            [
             0.8888888888888888,
             "#fdca26"
            ],
            [
             1,
             "#f0f921"
            ]
           ],
           "sequentialminus": [
            [
             0,
             "#0d0887"
            ],
            [
             0.1111111111111111,
             "#46039f"
            ],
            [
             0.2222222222222222,
             "#7201a8"
            ],
            [
             0.3333333333333333,
             "#9c179e"
            ],
            [
             0.4444444444444444,
             "#bd3786"
            ],
            [
             0.5555555555555556,
             "#d8576b"
            ],
            [
             0.6666666666666666,
             "#ed7953"
            ],
            [
             0.7777777777777778,
             "#fb9f3a"
            ],
            [
             0.8888888888888888,
             "#fdca26"
            ],
            [
             1,
             "#f0f921"
            ]
           ]
          },
          "colorway": [
           "#636efa",
           "#EF553B",
           "#00cc96",
           "#ab63fa",
           "#FFA15A",
           "#19d3f3",
           "#FF6692",
           "#B6E880",
           "#FF97FF",
           "#FECB52"
          ],
          "font": {
           "color": "#2a3f5f"
          },
          "geo": {
           "bgcolor": "white",
           "lakecolor": "white",
           "landcolor": "#E5ECF6",
           "showlakes": true,
           "showland": true,
           "subunitcolor": "white"
          },
          "hoverlabel": {
           "align": "left"
          },
          "hovermode": "closest",
          "mapbox": {
           "style": "light"
          },
          "paper_bgcolor": "white",
          "plot_bgcolor": "#E5ECF6",
          "polar": {
           "angularaxis": {
            "gridcolor": "white",
            "linecolor": "white",
            "ticks": ""
           },
           "bgcolor": "#E5ECF6",
           "radialaxis": {
            "gridcolor": "white",
            "linecolor": "white",
            "ticks": ""
           }
          },
          "scene": {
           "xaxis": {
            "backgroundcolor": "#E5ECF6",
            "gridcolor": "white",
            "gridwidth": 2,
            "linecolor": "white",
            "showbackground": true,
            "ticks": "",
            "zerolinecolor": "white"
           },
           "yaxis": {
            "backgroundcolor": "#E5ECF6",
            "gridcolor": "white",
            "gridwidth": 2,
            "linecolor": "white",
            "showbackground": true,
            "ticks": "",
            "zerolinecolor": "white"
           },
           "zaxis": {
            "backgroundcolor": "#E5ECF6",
            "gridcolor": "white",
            "gridwidth": 2,
            "linecolor": "white",
            "showbackground": true,
            "ticks": "",
            "zerolinecolor": "white"
           }
          },
          "shapedefaults": {
           "line": {
            "color": "#2a3f5f"
           }
          },
          "ternary": {
           "aaxis": {
            "gridcolor": "white",
            "linecolor": "white",
            "ticks": ""
           },
           "baxis": {
            "gridcolor": "white",
            "linecolor": "white",
            "ticks": ""
           },
           "bgcolor": "#E5ECF6",
           "caxis": {
            "gridcolor": "white",
            "linecolor": "white",
            "ticks": ""
           }
          },
          "title": {
           "x": 0.05
          },
          "xaxis": {
           "automargin": true,
           "gridcolor": "white",
           "linecolor": "white",
           "ticks": "",
           "title": {
            "standoff": 15
           },
           "zerolinecolor": "white",
           "zerolinewidth": 2
          },
          "yaxis": {
           "automargin": true,
           "gridcolor": "white",
           "linecolor": "white",
           "ticks": "",
           "title": {
            "standoff": 15
           },
           "zerolinecolor": "white",
           "zerolinewidth": 2
          }
         }
        }
       }
      },
      "text/html": [
       "<div>                            <div id=\"1d40929b-537d-4edc-9fba-162bcb363d85\" class=\"plotly-graph-div\" style=\"height:525px; width:100%;\"></div>            <script type=\"text/javascript\">                require([\"plotly\"], function(Plotly) {                    window.PLOTLYENV=window.PLOTLYENV || {};                                    if (document.getElementById(\"1d40929b-537d-4edc-9fba-162bcb363d85\")) {                    Plotly.newPlot(                        \"1d40929b-537d-4edc-9fba-162bcb363d85\",                        [{\"x\":[[0.0,0.000625,0.001875,0.0031249999999999997,0.0043749999999999995,0.005624999999999999,0.006874999999999998,0.008124999999999999,0.009375,0.01],[0.0,0.000625,0.001875,0.0031249999999999997,0.0043749999999999995,0.005624999999999999,0.006874999999999998,0.008124999999999999,0.009375,0.01],[0.0,0.000625,0.001875,0.0031249999999999997,0.0043749999999999995,0.005624999999999999,0.006874999999999998,0.008124999999999999,0.009375,0.01],[0.0,0.000625,0.001875,0.0031249999999999997,0.0043749999999999995,0.005624999999999999,0.006874999999999998,0.008124999999999999,0.009375,0.01],[0.0,0.000625,0.001875,0.0031249999999999997,0.0043749999999999995,0.005624999999999999,0.006874999999999998,0.008124999999999999,0.009375,0.01],[0.0,0.000625,0.001875,0.0031249999999999997,0.0043749999999999995,0.005624999999999999,0.006874999999999998,0.008124999999999999,0.009375,0.01],[0.0,0.000625,0.001875,0.0031249999999999997,0.0043749999999999995,0.005624999999999999,0.006874999999999998,0.008124999999999999,0.009375,0.01],[0.0,0.000625,0.001875,0.0031249999999999997,0.0043749999999999995,0.005624999999999999,0.006874999999999998,0.008124999999999999,0.009375,0.01],[0.0,0.000625,0.001875,0.0031249999999999997,0.0043749999999999995,0.005624999999999999,0.006874999999999998,0.008124999999999999,0.009375,0.01],[0.0,0.000625,0.001875,0.0031249999999999997,0.0043749999999999995,0.005624999999999999,0.006874999999999998,0.008124999999999999,0.009375,0.01]],\"y\":[[0.0,0.0,0.0,0.0,0.0,0.0,0.0,0.0,0.0,0.0],[0.000625,0.000625,0.000625,0.000625,0.000625,0.000625,0.000625,0.000625,0.000625,0.000625],[0.001875,0.001875,0.001875,0.001875,0.001875,0.001875,0.001875,0.001875,0.001875,0.001875],[0.0031249999999999997,0.0031249999999999997,0.0031249999999999997,0.0031249999999999997,0.0031249999999999997,0.0031249999999999997,0.0031249999999999997,0.0031249999999999997,0.0031249999999999997,0.0031249999999999997],[0.0043749999999999995,0.0043749999999999995,0.0043749999999999995,0.0043749999999999995,0.0043749999999999995,0.0043749999999999995,0.0043749999999999995,0.0043749999999999995,0.0043749999999999995,0.0043749999999999995],[0.005624999999999999,0.005624999999999999,0.005624999999999999,0.005624999999999999,0.005624999999999999,0.005624999999999999,0.005624999999999999,0.005624999999999999,0.005624999999999999,0.005624999999999999],[0.006874999999999998,0.006874999999999998,0.006874999999999998,0.006874999999999998,0.006874999999999998,0.006874999999999998,0.006874999999999998,0.006874999999999998,0.006874999999999998,0.006874999999999998],[0.008124999999999999,0.008124999999999999,0.008124999999999999,0.008124999999999999,0.008124999999999999,0.008124999999999999,0.008124999999999999,0.008124999999999999,0.008124999999999999,0.008124999999999999],[0.009375,0.009375,0.009375,0.009375,0.009375,0.009375,0.009375,0.009375,0.009375,0.009375],[0.01,0.01,0.01,0.01,0.01,0.01,0.01,0.01,0.01,0.01]],\"z\":[[-1.3284309304563402e-21,-1.1884433823322666e-21,-8.370234983274055e-22,-5.061706719835801e-22,-1.7043592904039652e-22,1.6550032365074982e-22,5.019933975525875e-22,8.431206905940192e-22,1.180982482735883e-21,1.3484448335647862e-21],[-1.3463336894347552e-21,-1.1738425003840967e-21,-8.421028341397339e-22,-5.060430711120639e-22,-1.7018735783542611e-22,1.6581487752649917e-22,5.019834179723479e-22,8.383127941921295e-22,1.1779413421169872e-21,1.3441926850824441e-21],[-1.3446226396194602e-21,-1.1774207345503559e-21,-8.4154379581822505e-22,-5.056868992762951e-22,-1.6961942808847415e-22,1.6641237710703799e-22,5.02400842392513e-22,8.384869764889063e-22,1.1750276278788489e-21,1.3434608410555424e-21],[-1.3450912900776998e-21,-1.1770857191024772e-21,-8.411559003534099e-22,-5.051950264774844e-22,-1.6916250931197657e-22,1.668184745383011e-22,5.027070904482802e-22,8.385865385432611e-22,1.1747440440829649e-21,1.3429804838901524e-21],[-1.344759846951404e-21,-1.1767909030890025e-21,-8.407764871839302e-22,-5.047452065882947e-22,-1.6869393732313398e-22,1.6728803739988427e-22,5.031627530289767e-22,8.390179276535316e-22,1.1751235267169468e-21,1.3433320241413332e-21],[-1.3444414301533132e-21,-1.1765022133442132e-21,-8.404126444589518e-22,-5.042769574756858e-22,-1.681438325052791e-22,1.6790822398158372e-22,5.038417718852017e-22,8.39748458431445e-22,1.1759227730786465e-21,1.3441237115689816e-21],[-1.343786061623338e-21,-1.1763506444884976e-21,-8.400120534359881e-22,-5.037280972786643e-22,-1.6749185676412367e-22,1.6865957545036987e-22,5.0470839377448975e-22,8.407741220091928e-22,1.1773055375416993e-21,1.3451494142415274e-21],[-1.3421427410873654e-21,-1.1748521802764138e-21,-8.390228665029122e-22,-5.028755687630006e-22,-1.6675083957050775e-22,1.6935599242523102e-22,5.054374491845618e-22,8.417370314021772e-22,1.1786122696080583e-21,1.3465601257864273e-21],[-1.3223934853727158e-21,-1.1718758980114768e-21,-8.367946212180327e-22,-5.015781482074482e-22,-1.6609170788381956e-22,1.6953288244204934e-22,5.053583556441757e-22,8.412141996656246e-22,1.1828659798828377e-21,1.3325984087550508e-21],[-1.3469990950103929e-21,-1.1691836959946707e-21,-8.3601628861185975e-22,-5.010896520466035e-22,-1.6591108703079556e-22,1.6969798702492592e-22,5.059207923479749e-22,8.503238436097626e-22,1.1882372792915407e-21,1.3614967206702858e-21]],\"type\":\"surface\"}],                        {\"template\":{\"data\":{\"bar\":[{\"error_x\":{\"color\":\"#2a3f5f\"},\"error_y\":{\"color\":\"#2a3f5f\"},\"marker\":{\"line\":{\"color\":\"#E5ECF6\",\"width\":0.5},\"pattern\":{\"fillmode\":\"overlay\",\"size\":10,\"solidity\":0.2}},\"type\":\"bar\"}],\"barpolar\":[{\"marker\":{\"line\":{\"color\":\"#E5ECF6\",\"width\":0.5},\"pattern\":{\"fillmode\":\"overlay\",\"size\":10,\"solidity\":0.2}},\"type\":\"barpolar\"}],\"carpet\":[{\"aaxis\":{\"endlinecolor\":\"#2a3f5f\",\"gridcolor\":\"white\",\"linecolor\":\"white\",\"minorgridcolor\":\"white\",\"startlinecolor\":\"#2a3f5f\"},\"baxis\":{\"endlinecolor\":\"#2a3f5f\",\"gridcolor\":\"white\",\"linecolor\":\"white\",\"minorgridcolor\":\"white\",\"startlinecolor\":\"#2a3f5f\"},\"type\":\"carpet\"}],\"choropleth\":[{\"colorbar\":{\"outlinewidth\":0,\"ticks\":\"\"},\"type\":\"choropleth\"}],\"contour\":[{\"colorbar\":{\"outlinewidth\":0,\"ticks\":\"\"},\"colorscale\":[[0.0,\"#0d0887\"],[0.1111111111111111,\"#46039f\"],[0.2222222222222222,\"#7201a8\"],[0.3333333333333333,\"#9c179e\"],[0.4444444444444444,\"#bd3786\"],[0.5555555555555556,\"#d8576b\"],[0.6666666666666666,\"#ed7953\"],[0.7777777777777778,\"#fb9f3a\"],[0.8888888888888888,\"#fdca26\"],[1.0,\"#f0f921\"]],\"type\":\"contour\"}],\"contourcarpet\":[{\"colorbar\":{\"outlinewidth\":0,\"ticks\":\"\"},\"type\":\"contourcarpet\"}],\"heatmap\":[{\"colorbar\":{\"outlinewidth\":0,\"ticks\":\"\"},\"colorscale\":[[0.0,\"#0d0887\"],[0.1111111111111111,\"#46039f\"],[0.2222222222222222,\"#7201a8\"],[0.3333333333333333,\"#9c179e\"],[0.4444444444444444,\"#bd3786\"],[0.5555555555555556,\"#d8576b\"],[0.6666666666666666,\"#ed7953\"],[0.7777777777777778,\"#fb9f3a\"],[0.8888888888888888,\"#fdca26\"],[1.0,\"#f0f921\"]],\"type\":\"heatmap\"}],\"heatmapgl\":[{\"colorbar\":{\"outlinewidth\":0,\"ticks\":\"\"},\"colorscale\":[[0.0,\"#0d0887\"],[0.1111111111111111,\"#46039f\"],[0.2222222222222222,\"#7201a8\"],[0.3333333333333333,\"#9c179e\"],[0.4444444444444444,\"#bd3786\"],[0.5555555555555556,\"#d8576b\"],[0.6666666666666666,\"#ed7953\"],[0.7777777777777778,\"#fb9f3a\"],[0.8888888888888888,\"#fdca26\"],[1.0,\"#f0f921\"]],\"type\":\"heatmapgl\"}],\"histogram\":[{\"marker\":{\"pattern\":{\"fillmode\":\"overlay\",\"size\":10,\"solidity\":0.2}},\"type\":\"histogram\"}],\"histogram2d\":[{\"colorbar\":{\"outlinewidth\":0,\"ticks\":\"\"},\"colorscale\":[[0.0,\"#0d0887\"],[0.1111111111111111,\"#46039f\"],[0.2222222222222222,\"#7201a8\"],[0.3333333333333333,\"#9c179e\"],[0.4444444444444444,\"#bd3786\"],[0.5555555555555556,\"#d8576b\"],[0.6666666666666666,\"#ed7953\"],[0.7777777777777778,\"#fb9f3a\"],[0.8888888888888888,\"#fdca26\"],[1.0,\"#f0f921\"]],\"type\":\"histogram2d\"}],\"histogram2dcontour\":[{\"colorbar\":{\"outlinewidth\":0,\"ticks\":\"\"},\"colorscale\":[[0.0,\"#0d0887\"],[0.1111111111111111,\"#46039f\"],[0.2222222222222222,\"#7201a8\"],[0.3333333333333333,\"#9c179e\"],[0.4444444444444444,\"#bd3786\"],[0.5555555555555556,\"#d8576b\"],[0.6666666666666666,\"#ed7953\"],[0.7777777777777778,\"#fb9f3a\"],[0.8888888888888888,\"#fdca26\"],[1.0,\"#f0f921\"]],\"type\":\"histogram2dcontour\"}],\"mesh3d\":[{\"colorbar\":{\"outlinewidth\":0,\"ticks\":\"\"},\"type\":\"mesh3d\"}],\"parcoords\":[{\"line\":{\"colorbar\":{\"outlinewidth\":0,\"ticks\":\"\"}},\"type\":\"parcoords\"}],\"pie\":[{\"automargin\":true,\"type\":\"pie\"}],\"scatter\":[{\"marker\":{\"colorbar\":{\"outlinewidth\":0,\"ticks\":\"\"}},\"type\":\"scatter\"}],\"scatter3d\":[{\"line\":{\"colorbar\":{\"outlinewidth\":0,\"ticks\":\"\"}},\"marker\":{\"colorbar\":{\"outlinewidth\":0,\"ticks\":\"\"}},\"type\":\"scatter3d\"}],\"scattercarpet\":[{\"marker\":{\"colorbar\":{\"outlinewidth\":0,\"ticks\":\"\"}},\"type\":\"scattercarpet\"}],\"scattergeo\":[{\"marker\":{\"colorbar\":{\"outlinewidth\":0,\"ticks\":\"\"}},\"type\":\"scattergeo\"}],\"scattergl\":[{\"marker\":{\"colorbar\":{\"outlinewidth\":0,\"ticks\":\"\"}},\"type\":\"scattergl\"}],\"scattermapbox\":[{\"marker\":{\"colorbar\":{\"outlinewidth\":0,\"ticks\":\"\"}},\"type\":\"scattermapbox\"}],\"scatterpolar\":[{\"marker\":{\"colorbar\":{\"outlinewidth\":0,\"ticks\":\"\"}},\"type\":\"scatterpolar\"}],\"scatterpolargl\":[{\"marker\":{\"colorbar\":{\"outlinewidth\":0,\"ticks\":\"\"}},\"type\":\"scatterpolargl\"}],\"scatterternary\":[{\"marker\":{\"colorbar\":{\"outlinewidth\":0,\"ticks\":\"\"}},\"type\":\"scatterternary\"}],\"surface\":[{\"colorbar\":{\"outlinewidth\":0,\"ticks\":\"\"},\"colorscale\":[[0.0,\"#0d0887\"],[0.1111111111111111,\"#46039f\"],[0.2222222222222222,\"#7201a8\"],[0.3333333333333333,\"#9c179e\"],[0.4444444444444444,\"#bd3786\"],[0.5555555555555556,\"#d8576b\"],[0.6666666666666666,\"#ed7953\"],[0.7777777777777778,\"#fb9f3a\"],[0.8888888888888888,\"#fdca26\"],[1.0,\"#f0f921\"]],\"type\":\"surface\"}],\"table\":[{\"cells\":{\"fill\":{\"color\":\"#EBF0F8\"},\"line\":{\"color\":\"white\"}},\"header\":{\"fill\":{\"color\":\"#C8D4E3\"},\"line\":{\"color\":\"white\"}},\"type\":\"table\"}]},\"layout\":{\"annotationdefaults\":{\"arrowcolor\":\"#2a3f5f\",\"arrowhead\":0,\"arrowwidth\":1},\"autotypenumbers\":\"strict\",\"coloraxis\":{\"colorbar\":{\"outlinewidth\":0,\"ticks\":\"\"}},\"colorscale\":{\"diverging\":[[0,\"#8e0152\"],[0.1,\"#c51b7d\"],[0.2,\"#de77ae\"],[0.3,\"#f1b6da\"],[0.4,\"#fde0ef\"],[0.5,\"#f7f7f7\"],[0.6,\"#e6f5d0\"],[0.7,\"#b8e186\"],[0.8,\"#7fbc41\"],[0.9,\"#4d9221\"],[1,\"#276419\"]],\"sequential\":[[0.0,\"#0d0887\"],[0.1111111111111111,\"#46039f\"],[0.2222222222222222,\"#7201a8\"],[0.3333333333333333,\"#9c179e\"],[0.4444444444444444,\"#bd3786\"],[0.5555555555555556,\"#d8576b\"],[0.6666666666666666,\"#ed7953\"],[0.7777777777777778,\"#fb9f3a\"],[0.8888888888888888,\"#fdca26\"],[1.0,\"#f0f921\"]],\"sequentialminus\":[[0.0,\"#0d0887\"],[0.1111111111111111,\"#46039f\"],[0.2222222222222222,\"#7201a8\"],[0.3333333333333333,\"#9c179e\"],[0.4444444444444444,\"#bd3786\"],[0.5555555555555556,\"#d8576b\"],[0.6666666666666666,\"#ed7953\"],[0.7777777777777778,\"#fb9f3a\"],[0.8888888888888888,\"#fdca26\"],[1.0,\"#f0f921\"]]},\"colorway\":[\"#636efa\",\"#EF553B\",\"#00cc96\",\"#ab63fa\",\"#FFA15A\",\"#19d3f3\",\"#FF6692\",\"#B6E880\",\"#FF97FF\",\"#FECB52\"],\"font\":{\"color\":\"#2a3f5f\"},\"geo\":{\"bgcolor\":\"white\",\"lakecolor\":\"white\",\"landcolor\":\"#E5ECF6\",\"showlakes\":true,\"showland\":true,\"subunitcolor\":\"white\"},\"hoverlabel\":{\"align\":\"left\"},\"hovermode\":\"closest\",\"mapbox\":{\"style\":\"light\"},\"paper_bgcolor\":\"white\",\"plot_bgcolor\":\"#E5ECF6\",\"polar\":{\"angularaxis\":{\"gridcolor\":\"white\",\"linecolor\":\"white\",\"ticks\":\"\"},\"bgcolor\":\"#E5ECF6\",\"radialaxis\":{\"gridcolor\":\"white\",\"linecolor\":\"white\",\"ticks\":\"\"}},\"scene\":{\"xaxis\":{\"backgroundcolor\":\"#E5ECF6\",\"gridcolor\":\"white\",\"gridwidth\":2,\"linecolor\":\"white\",\"showbackground\":true,\"ticks\":\"\",\"zerolinecolor\":\"white\"},\"yaxis\":{\"backgroundcolor\":\"#E5ECF6\",\"gridcolor\":\"white\",\"gridwidth\":2,\"linecolor\":\"white\",\"showbackground\":true,\"ticks\":\"\",\"zerolinecolor\":\"white\"},\"zaxis\":{\"backgroundcolor\":\"#E5ECF6\",\"gridcolor\":\"white\",\"gridwidth\":2,\"linecolor\":\"white\",\"showbackground\":true,\"ticks\":\"\",\"zerolinecolor\":\"white\"}},\"shapedefaults\":{\"line\":{\"color\":\"#2a3f5f\"}},\"ternary\":{\"aaxis\":{\"gridcolor\":\"white\",\"linecolor\":\"white\",\"ticks\":\"\"},\"baxis\":{\"gridcolor\":\"white\",\"linecolor\":\"white\",\"ticks\":\"\"},\"bgcolor\":\"#E5ECF6\",\"caxis\":{\"gridcolor\":\"white\",\"linecolor\":\"white\",\"ticks\":\"\"}},\"title\":{\"x\":0.05},\"xaxis\":{\"automargin\":true,\"gridcolor\":\"white\",\"linecolor\":\"white\",\"ticks\":\"\",\"title\":{\"standoff\":15},\"zerolinecolor\":\"white\",\"zerolinewidth\":2},\"yaxis\":{\"automargin\":true,\"gridcolor\":\"white\",\"linecolor\":\"white\",\"ticks\":\"\",\"title\":{\"standoff\":15},\"zerolinecolor\":\"white\",\"zerolinewidth\":2}}}},                        {\"responsive\": true}                    ).then(function(){\n",
       "                            \n",
       "var gd = document.getElementById('1d40929b-537d-4edc-9fba-162bcb363d85');\n",
       "var x = new MutationObserver(function (mutations, observer) {{\n",
       "        var display = window.getComputedStyle(gd).display;\n",
       "        if (!display || display === 'none') {{\n",
       "            console.log([gd, 'removed!']);\n",
       "            Plotly.purge(gd);\n",
       "            observer.disconnect();\n",
       "        }}\n",
       "}});\n",
       "\n",
       "// Listen for the removal of the full notebook cells\n",
       "var notebookContainer = gd.closest('#notebook-container');\n",
       "if (notebookContainer) {{\n",
       "    x.observe(notebookContainer, {childList: true});\n",
       "}}\n",
       "\n",
       "// Listen for the clearing of the current output cell\n",
       "var outputEl = gd.closest('.output');\n",
       "if (outputEl) {{\n",
       "    x.observe(outputEl, {childList: true});\n",
       "}}\n",
       "\n",
       "                        })                };                });            </script>        </div>"
      ]
     },
     "metadata": {},
     "output_type": "display_data"
    },
    {
     "name": "stdout",
     "output_type": "stream",
     "text": [
      "V graph\n"
     ]
    },
    {
     "data": {
      "application/vnd.plotly.v1+json": {
       "config": {
        "plotlyServerURL": "https://plot.ly"
       },
       "data": [
        {
         "type": "surface",
         "x": [
          [
           0,
           0.000625,
           0.001875,
           0.0031249999999999997,
           0.0043749999999999995,
           0.005624999999999999,
           0.006874999999999998,
           0.008124999999999999,
           0.009375,
           0.01
          ],
          [
           0,
           0.000625,
           0.001875,
           0.0031249999999999997,
           0.0043749999999999995,
           0.005624999999999999,
           0.006874999999999998,
           0.008124999999999999,
           0.009375,
           0.01
          ],
          [
           0,
           0.000625,
           0.001875,
           0.0031249999999999997,
           0.0043749999999999995,
           0.005624999999999999,
           0.006874999999999998,
           0.008124999999999999,
           0.009375,
           0.01
          ],
          [
           0,
           0.000625,
           0.001875,
           0.0031249999999999997,
           0.0043749999999999995,
           0.005624999999999999,
           0.006874999999999998,
           0.008124999999999999,
           0.009375,
           0.01
          ],
          [
           0,
           0.000625,
           0.001875,
           0.0031249999999999997,
           0.0043749999999999995,
           0.005624999999999999,
           0.006874999999999998,
           0.008124999999999999,
           0.009375,
           0.01
          ],
          [
           0,
           0.000625,
           0.001875,
           0.0031249999999999997,
           0.0043749999999999995,
           0.005624999999999999,
           0.006874999999999998,
           0.008124999999999999,
           0.009375,
           0.01
          ],
          [
           0,
           0.000625,
           0.001875,
           0.0031249999999999997,
           0.0043749999999999995,
           0.005624999999999999,
           0.006874999999999998,
           0.008124999999999999,
           0.009375,
           0.01
          ],
          [
           0,
           0.000625,
           0.001875,
           0.0031249999999999997,
           0.0043749999999999995,
           0.005624999999999999,
           0.006874999999999998,
           0.008124999999999999,
           0.009375,
           0.01
          ],
          [
           0,
           0.000625,
           0.001875,
           0.0031249999999999997,
           0.0043749999999999995,
           0.005624999999999999,
           0.006874999999999998,
           0.008124999999999999,
           0.009375,
           0.01
          ],
          [
           0,
           0.000625,
           0.001875,
           0.0031249999999999997,
           0.0043749999999999995,
           0.005624999999999999,
           0.006874999999999998,
           0.008124999999999999,
           0.009375,
           0.01
          ]
         ],
         "y": [
          [
           0,
           0,
           0,
           0,
           0,
           0,
           0,
           0,
           0,
           0
          ],
          [
           0.000625,
           0.000625,
           0.000625,
           0.000625,
           0.000625,
           0.000625,
           0.000625,
           0.000625,
           0.000625,
           0.000625
          ],
          [
           0.001875,
           0.001875,
           0.001875,
           0.001875,
           0.001875,
           0.001875,
           0.001875,
           0.001875,
           0.001875,
           0.001875
          ],
          [
           0.0031249999999999997,
           0.0031249999999999997,
           0.0031249999999999997,
           0.0031249999999999997,
           0.0031249999999999997,
           0.0031249999999999997,
           0.0031249999999999997,
           0.0031249999999999997,
           0.0031249999999999997,
           0.0031249999999999997
          ],
          [
           0.0043749999999999995,
           0.0043749999999999995,
           0.0043749999999999995,
           0.0043749999999999995,
           0.0043749999999999995,
           0.0043749999999999995,
           0.0043749999999999995,
           0.0043749999999999995,
           0.0043749999999999995,
           0.0043749999999999995
          ],
          [
           0.005624999999999999,
           0.005624999999999999,
           0.005624999999999999,
           0.005624999999999999,
           0.005624999999999999,
           0.005624999999999999,
           0.005624999999999999,
           0.005624999999999999,
           0.005624999999999999,
           0.005624999999999999
          ],
          [
           0.006874999999999998,
           0.006874999999999998,
           0.006874999999999998,
           0.006874999999999998,
           0.006874999999999998,
           0.006874999999999998,
           0.006874999999999998,
           0.006874999999999998,
           0.006874999999999998,
           0.006874999999999998
          ],
          [
           0.008124999999999999,
           0.008124999999999999,
           0.008124999999999999,
           0.008124999999999999,
           0.008124999999999999,
           0.008124999999999999,
           0.008124999999999999,
           0.008124999999999999,
           0.008124999999999999,
           0.008124999999999999
          ],
          [
           0.009375,
           0.009375,
           0.009375,
           0.009375,
           0.009375,
           0.009375,
           0.009375,
           0.009375,
           0.009375,
           0.009375
          ],
          [
           0.01,
           0.01,
           0.01,
           0.01,
           0.01,
           0.01,
           0.01,
           0.01,
           0.01,
           0.01
          ]
         ],
         "z": [
          [
           -1.324935692390523e-21,
           -1.3644286583855524e-21,
           -1.343711543483624e-21,
           -1.34389895005761e-21,
           -1.3440127442373617e-21,
           -1.3446806951969758e-21,
           -1.3450555761361137e-21,
           -1.34441781961987e-21,
           -1.3255872173491898e-21,
           -1.3507738844298845e-21
          ],
          [
           -1.1829392095987201e-21,
           -1.1743194102483343e-21,
           -1.1767487516877486e-21,
           -1.1753304878875158e-21,
           -1.1759643090170964e-21,
           -1.1767100283910546e-21,
           -1.177616286533947e-21,
           -1.1771211957138897e-21,
           -1.1750813449662678e-21,
           -1.1726907877534739e-21
          ],
          [
           -8.3878835167700695e-22,
           -8.390154213719923e-22,
           -8.39548684813376e-22,
           -8.394652359994656e-22,
           -8.399417565155096e-22,
           -8.4060211595470285e-22,
           -8.412698284497983e-22,
           -8.413182145592509e-22,
           -8.400265259816371e-22,
           -8.396335255373174e-22
          ],
          [
           -5.0296291846770805e-22,
           -5.0284349741814395e-22,
           -5.032514185030062e-22,
           -5.034475469905366e-22,
           -5.0389134930744e-22,
           -5.044377448847886e-22,
           -5.049763300964814e-22,
           -5.052193486919342e-22,
           -5.049091868393612e-22,
           -5.04789091559019e-22
          ],
          [
           -1.666985396876922e-22,
           -1.6677558083063111e-22,
           -1.6707097799249215e-22,
           -1.6738375207588444e-22,
           -1.6779805367678366e-22,
           -1.6824591161772112e-22,
           -1.6870865398129888e-22,
           -1.6916607640348154e-22,
           -1.6961550359605e-22,
           -1.6981466288195455e-22
          ],
          [
           1.6948613752363283e-22,
           1.6932912248687706e-22,
           1.6905591863299387e-22,
           1.6866201132114381e-22,
           1.6827543865220717e-22,
           1.6793031610511186e-22,
           1.6754498972772053e-22,
           1.6687714455823614e-22,
           1.6567254605445668e-22,
           1.6530342853343866e-22
          ],
          [
           5.060383183809001e-22,
           5.055521512770136e-22,
           5.051169198966052e-22,
           5.046285209986184e-22,
           5.042740969019818e-22,
           5.040576265419969e-22,
           5.038140322033674e-22,
           5.02966600432694e-22,
           5.008759986033885e-22,
           5.003507377296007e-22
          ],
          [
           8.471454682848858e-22,
           8.418896040241497e-22,
           8.412371440850573e-22,
           8.405540463150649e-22,
           8.402226688263431e-22,
           8.401559927884625e-22,
           8.401650570094318e-22,
           8.392297811409972e-22,
           8.35738126171426e-22,
           8.389586735113218e-22
          ],
          [
           1.1850973857728324e-21,
           1.1814940354575758e-21,
           1.1777735488389572e-21,
           1.1766932151889128e-21,
           1.1763153983701059e-21,
           1.1763617660451277e-21,
           1.1768694461323663e-21,
           1.175382326555626e-21,
           1.173144403132652e-21,
           1.1730016313757911e-21
          ],
          [
           1.3522686271233385e-21,
           1.3477875458638056e-21,
           1.3461874632895364e-21,
           1.3449005096097739e-21,
           1.344453097851135e-21,
           1.34439272445689e-21,
           1.3440011128452564e-21,
           1.3423432717061957e-21,
           1.3077527646188691e-21,
           1.3556757826743437e-21
          ]
         ]
        }
       ],
       "layout": {
        "template": {
         "data": {
          "bar": [
           {
            "error_x": {
             "color": "#2a3f5f"
            },
            "error_y": {
             "color": "#2a3f5f"
            },
            "marker": {
             "line": {
              "color": "#E5ECF6",
              "width": 0.5
             },
             "pattern": {
              "fillmode": "overlay",
              "size": 10,
              "solidity": 0.2
             }
            },
            "type": "bar"
           }
          ],
          "barpolar": [
           {
            "marker": {
             "line": {
              "color": "#E5ECF6",
              "width": 0.5
             },
             "pattern": {
              "fillmode": "overlay",
              "size": 10,
              "solidity": 0.2
             }
            },
            "type": "barpolar"
           }
          ],
          "carpet": [
           {
            "aaxis": {
             "endlinecolor": "#2a3f5f",
             "gridcolor": "white",
             "linecolor": "white",
             "minorgridcolor": "white",
             "startlinecolor": "#2a3f5f"
            },
            "baxis": {
             "endlinecolor": "#2a3f5f",
             "gridcolor": "white",
             "linecolor": "white",
             "minorgridcolor": "white",
             "startlinecolor": "#2a3f5f"
            },
            "type": "carpet"
           }
          ],
          "choropleth": [
           {
            "colorbar": {
             "outlinewidth": 0,
             "ticks": ""
            },
            "type": "choropleth"
           }
          ],
          "contour": [
           {
            "colorbar": {
             "outlinewidth": 0,
             "ticks": ""
            },
            "colorscale": [
             [
              0,
              "#0d0887"
             ],
             [
              0.1111111111111111,
              "#46039f"
             ],
             [
              0.2222222222222222,
              "#7201a8"
             ],
             [
              0.3333333333333333,
              "#9c179e"
             ],
             [
              0.4444444444444444,
              "#bd3786"
             ],
             [
              0.5555555555555556,
              "#d8576b"
             ],
             [
              0.6666666666666666,
              "#ed7953"
             ],
             [
              0.7777777777777778,
              "#fb9f3a"
             ],
             [
              0.8888888888888888,
              "#fdca26"
             ],
             [
              1,
              "#f0f921"
             ]
            ],
            "type": "contour"
           }
          ],
          "contourcarpet": [
           {
            "colorbar": {
             "outlinewidth": 0,
             "ticks": ""
            },
            "type": "contourcarpet"
           }
          ],
          "heatmap": [
           {
            "colorbar": {
             "outlinewidth": 0,
             "ticks": ""
            },
            "colorscale": [
             [
              0,
              "#0d0887"
             ],
             [
              0.1111111111111111,
              "#46039f"
             ],
             [
              0.2222222222222222,
              "#7201a8"
             ],
             [
              0.3333333333333333,
              "#9c179e"
             ],
             [
              0.4444444444444444,
              "#bd3786"
             ],
             [
              0.5555555555555556,
              "#d8576b"
             ],
             [
              0.6666666666666666,
              "#ed7953"
             ],
             [
              0.7777777777777778,
              "#fb9f3a"
             ],
             [
              0.8888888888888888,
              "#fdca26"
             ],
             [
              1,
              "#f0f921"
             ]
            ],
            "type": "heatmap"
           }
          ],
          "heatmapgl": [
           {
            "colorbar": {
             "outlinewidth": 0,
             "ticks": ""
            },
            "colorscale": [
             [
              0,
              "#0d0887"
             ],
             [
              0.1111111111111111,
              "#46039f"
             ],
             [
              0.2222222222222222,
              "#7201a8"
             ],
             [
              0.3333333333333333,
              "#9c179e"
             ],
             [
              0.4444444444444444,
              "#bd3786"
             ],
             [
              0.5555555555555556,
              "#d8576b"
             ],
             [
              0.6666666666666666,
              "#ed7953"
             ],
             [
              0.7777777777777778,
              "#fb9f3a"
             ],
             [
              0.8888888888888888,
              "#fdca26"
             ],
             [
              1,
              "#f0f921"
             ]
            ],
            "type": "heatmapgl"
           }
          ],
          "histogram": [
           {
            "marker": {
             "pattern": {
              "fillmode": "overlay",
              "size": 10,
              "solidity": 0.2
             }
            },
            "type": "histogram"
           }
          ],
          "histogram2d": [
           {
            "colorbar": {
             "outlinewidth": 0,
             "ticks": ""
            },
            "colorscale": [
             [
              0,
              "#0d0887"
             ],
             [
              0.1111111111111111,
              "#46039f"
             ],
             [
              0.2222222222222222,
              "#7201a8"
             ],
             [
              0.3333333333333333,
              "#9c179e"
             ],
             [
              0.4444444444444444,
              "#bd3786"
             ],
             [
              0.5555555555555556,
              "#d8576b"
             ],
             [
              0.6666666666666666,
              "#ed7953"
             ],
             [
              0.7777777777777778,
              "#fb9f3a"
             ],
             [
              0.8888888888888888,
              "#fdca26"
             ],
             [
              1,
              "#f0f921"
             ]
            ],
            "type": "histogram2d"
           }
          ],
          "histogram2dcontour": [
           {
            "colorbar": {
             "outlinewidth": 0,
             "ticks": ""
            },
            "colorscale": [
             [
              0,
              "#0d0887"
             ],
             [
              0.1111111111111111,
              "#46039f"
             ],
             [
              0.2222222222222222,
              "#7201a8"
             ],
             [
              0.3333333333333333,
              "#9c179e"
             ],
             [
              0.4444444444444444,
              "#bd3786"
             ],
             [
              0.5555555555555556,
              "#d8576b"
             ],
             [
              0.6666666666666666,
              "#ed7953"
             ],
             [
              0.7777777777777778,
              "#fb9f3a"
             ],
             [
              0.8888888888888888,
              "#fdca26"
             ],
             [
              1,
              "#f0f921"
             ]
            ],
            "type": "histogram2dcontour"
           }
          ],
          "mesh3d": [
           {
            "colorbar": {
             "outlinewidth": 0,
             "ticks": ""
            },
            "type": "mesh3d"
           }
          ],
          "parcoords": [
           {
            "line": {
             "colorbar": {
              "outlinewidth": 0,
              "ticks": ""
             }
            },
            "type": "parcoords"
           }
          ],
          "pie": [
           {
            "automargin": true,
            "type": "pie"
           }
          ],
          "scatter": [
           {
            "marker": {
             "colorbar": {
              "outlinewidth": 0,
              "ticks": ""
             }
            },
            "type": "scatter"
           }
          ],
          "scatter3d": [
           {
            "line": {
             "colorbar": {
              "outlinewidth": 0,
              "ticks": ""
             }
            },
            "marker": {
             "colorbar": {
              "outlinewidth": 0,
              "ticks": ""
             }
            },
            "type": "scatter3d"
           }
          ],
          "scattercarpet": [
           {
            "marker": {
             "colorbar": {
              "outlinewidth": 0,
              "ticks": ""
             }
            },
            "type": "scattercarpet"
           }
          ],
          "scattergeo": [
           {
            "marker": {
             "colorbar": {
              "outlinewidth": 0,
              "ticks": ""
             }
            },
            "type": "scattergeo"
           }
          ],
          "scattergl": [
           {
            "marker": {
             "colorbar": {
              "outlinewidth": 0,
              "ticks": ""
             }
            },
            "type": "scattergl"
           }
          ],
          "scattermapbox": [
           {
            "marker": {
             "colorbar": {
              "outlinewidth": 0,
              "ticks": ""
             }
            },
            "type": "scattermapbox"
           }
          ],
          "scatterpolar": [
           {
            "marker": {
             "colorbar": {
              "outlinewidth": 0,
              "ticks": ""
             }
            },
            "type": "scatterpolar"
           }
          ],
          "scatterpolargl": [
           {
            "marker": {
             "colorbar": {
              "outlinewidth": 0,
              "ticks": ""
             }
            },
            "type": "scatterpolargl"
           }
          ],
          "scatterternary": [
           {
            "marker": {
             "colorbar": {
              "outlinewidth": 0,
              "ticks": ""
             }
            },
            "type": "scatterternary"
           }
          ],
          "surface": [
           {
            "colorbar": {
             "outlinewidth": 0,
             "ticks": ""
            },
            "colorscale": [
             [
              0,
              "#0d0887"
             ],
             [
              0.1111111111111111,
              "#46039f"
             ],
             [
              0.2222222222222222,
              "#7201a8"
             ],
             [
              0.3333333333333333,
              "#9c179e"
             ],
             [
              0.4444444444444444,
              "#bd3786"
             ],
             [
              0.5555555555555556,
              "#d8576b"
             ],
             [
              0.6666666666666666,
              "#ed7953"
             ],
             [
              0.7777777777777778,
              "#fb9f3a"
             ],
             [
              0.8888888888888888,
              "#fdca26"
             ],
             [
              1,
              "#f0f921"
             ]
            ],
            "type": "surface"
           }
          ],
          "table": [
           {
            "cells": {
             "fill": {
              "color": "#EBF0F8"
             },
             "line": {
              "color": "white"
             }
            },
            "header": {
             "fill": {
              "color": "#C8D4E3"
             },
             "line": {
              "color": "white"
             }
            },
            "type": "table"
           }
          ]
         },
         "layout": {
          "annotationdefaults": {
           "arrowcolor": "#2a3f5f",
           "arrowhead": 0,
           "arrowwidth": 1
          },
          "autotypenumbers": "strict",
          "coloraxis": {
           "colorbar": {
            "outlinewidth": 0,
            "ticks": ""
           }
          },
          "colorscale": {
           "diverging": [
            [
             0,
             "#8e0152"
            ],
            [
             0.1,
             "#c51b7d"
            ],
            [
             0.2,
             "#de77ae"
            ],
            [
             0.3,
             "#f1b6da"
            ],
            [
             0.4,
             "#fde0ef"
            ],
            [
             0.5,
             "#f7f7f7"
            ],
            [
             0.6,
             "#e6f5d0"
            ],
            [
             0.7,
             "#b8e186"
            ],
            [
             0.8,
             "#7fbc41"
            ],
            [
             0.9,
             "#4d9221"
            ],
            [
             1,
             "#276419"
            ]
           ],
           "sequential": [
            [
             0,
             "#0d0887"
            ],
            [
             0.1111111111111111,
             "#46039f"
            ],
            [
             0.2222222222222222,
             "#7201a8"
            ],
            [
             0.3333333333333333,
             "#9c179e"
            ],
            [
             0.4444444444444444,
             "#bd3786"
            ],
            [
             0.5555555555555556,
             "#d8576b"
            ],
            [
             0.6666666666666666,
             "#ed7953"
            ],
            [
             0.7777777777777778,
             "#fb9f3a"
            ],
            [
             0.8888888888888888,
             "#fdca26"
            ],
            [
             1,
             "#f0f921"
            ]
           ],
           "sequentialminus": [
            [
             0,
             "#0d0887"
            ],
            [
             0.1111111111111111,
             "#46039f"
            ],
            [
             0.2222222222222222,
             "#7201a8"
            ],
            [
             0.3333333333333333,
             "#9c179e"
            ],
            [
             0.4444444444444444,
             "#bd3786"
            ],
            [
             0.5555555555555556,
             "#d8576b"
            ],
            [
             0.6666666666666666,
             "#ed7953"
            ],
            [
             0.7777777777777778,
             "#fb9f3a"
            ],
            [
             0.8888888888888888,
             "#fdca26"
            ],
            [
             1,
             "#f0f921"
            ]
           ]
          },
          "colorway": [
           "#636efa",
           "#EF553B",
           "#00cc96",
           "#ab63fa",
           "#FFA15A",
           "#19d3f3",
           "#FF6692",
           "#B6E880",
           "#FF97FF",
           "#FECB52"
          ],
          "font": {
           "color": "#2a3f5f"
          },
          "geo": {
           "bgcolor": "white",
           "lakecolor": "white",
           "landcolor": "#E5ECF6",
           "showlakes": true,
           "showland": true,
           "subunitcolor": "white"
          },
          "hoverlabel": {
           "align": "left"
          },
          "hovermode": "closest",
          "mapbox": {
           "style": "light"
          },
          "paper_bgcolor": "white",
          "plot_bgcolor": "#E5ECF6",
          "polar": {
           "angularaxis": {
            "gridcolor": "white",
            "linecolor": "white",
            "ticks": ""
           },
           "bgcolor": "#E5ECF6",
           "radialaxis": {
            "gridcolor": "white",
            "linecolor": "white",
            "ticks": ""
           }
          },
          "scene": {
           "xaxis": {
            "backgroundcolor": "#E5ECF6",
            "gridcolor": "white",
            "gridwidth": 2,
            "linecolor": "white",
            "showbackground": true,
            "ticks": "",
            "zerolinecolor": "white"
           },
           "yaxis": {
            "backgroundcolor": "#E5ECF6",
            "gridcolor": "white",
            "gridwidth": 2,
            "linecolor": "white",
            "showbackground": true,
            "ticks": "",
            "zerolinecolor": "white"
           },
           "zaxis": {
            "backgroundcolor": "#E5ECF6",
            "gridcolor": "white",
            "gridwidth": 2,
            "linecolor": "white",
            "showbackground": true,
            "ticks": "",
            "zerolinecolor": "white"
           }
          },
          "shapedefaults": {
           "line": {
            "color": "#2a3f5f"
           }
          },
          "ternary": {
           "aaxis": {
            "gridcolor": "white",
            "linecolor": "white",
            "ticks": ""
           },
           "baxis": {
            "gridcolor": "white",
            "linecolor": "white",
            "ticks": ""
           },
           "bgcolor": "#E5ECF6",
           "caxis": {
            "gridcolor": "white",
            "linecolor": "white",
            "ticks": ""
           }
          },
          "title": {
           "x": 0.05
          },
          "xaxis": {
           "automargin": true,
           "gridcolor": "white",
           "linecolor": "white",
           "ticks": "",
           "title": {
            "standoff": 15
           },
           "zerolinecolor": "white",
           "zerolinewidth": 2
          },
          "yaxis": {
           "automargin": true,
           "gridcolor": "white",
           "linecolor": "white",
           "ticks": "",
           "title": {
            "standoff": 15
           },
           "zerolinecolor": "white",
           "zerolinewidth": 2
          }
         }
        }
       }
      },
      "text/html": [
       "<div>                            <div id=\"40b991a4-a9b1-440d-b1ff-d9cb89fbcbd2\" class=\"plotly-graph-div\" style=\"height:525px; width:100%;\"></div>            <script type=\"text/javascript\">                require([\"plotly\"], function(Plotly) {                    window.PLOTLYENV=window.PLOTLYENV || {};                                    if (document.getElementById(\"40b991a4-a9b1-440d-b1ff-d9cb89fbcbd2\")) {                    Plotly.newPlot(                        \"40b991a4-a9b1-440d-b1ff-d9cb89fbcbd2\",                        [{\"x\":[[0.0,0.000625,0.001875,0.0031249999999999997,0.0043749999999999995,0.005624999999999999,0.006874999999999998,0.008124999999999999,0.009375,0.01],[0.0,0.000625,0.001875,0.0031249999999999997,0.0043749999999999995,0.005624999999999999,0.006874999999999998,0.008124999999999999,0.009375,0.01],[0.0,0.000625,0.001875,0.0031249999999999997,0.0043749999999999995,0.005624999999999999,0.006874999999999998,0.008124999999999999,0.009375,0.01],[0.0,0.000625,0.001875,0.0031249999999999997,0.0043749999999999995,0.005624999999999999,0.006874999999999998,0.008124999999999999,0.009375,0.01],[0.0,0.000625,0.001875,0.0031249999999999997,0.0043749999999999995,0.005624999999999999,0.006874999999999998,0.008124999999999999,0.009375,0.01],[0.0,0.000625,0.001875,0.0031249999999999997,0.0043749999999999995,0.005624999999999999,0.006874999999999998,0.008124999999999999,0.009375,0.01],[0.0,0.000625,0.001875,0.0031249999999999997,0.0043749999999999995,0.005624999999999999,0.006874999999999998,0.008124999999999999,0.009375,0.01],[0.0,0.000625,0.001875,0.0031249999999999997,0.0043749999999999995,0.005624999999999999,0.006874999999999998,0.008124999999999999,0.009375,0.01],[0.0,0.000625,0.001875,0.0031249999999999997,0.0043749999999999995,0.005624999999999999,0.006874999999999998,0.008124999999999999,0.009375,0.01],[0.0,0.000625,0.001875,0.0031249999999999997,0.0043749999999999995,0.005624999999999999,0.006874999999999998,0.008124999999999999,0.009375,0.01]],\"y\":[[0.0,0.0,0.0,0.0,0.0,0.0,0.0,0.0,0.0,0.0],[0.000625,0.000625,0.000625,0.000625,0.000625,0.000625,0.000625,0.000625,0.000625,0.000625],[0.001875,0.001875,0.001875,0.001875,0.001875,0.001875,0.001875,0.001875,0.001875,0.001875],[0.0031249999999999997,0.0031249999999999997,0.0031249999999999997,0.0031249999999999997,0.0031249999999999997,0.0031249999999999997,0.0031249999999999997,0.0031249999999999997,0.0031249999999999997,0.0031249999999999997],[0.0043749999999999995,0.0043749999999999995,0.0043749999999999995,0.0043749999999999995,0.0043749999999999995,0.0043749999999999995,0.0043749999999999995,0.0043749999999999995,0.0043749999999999995,0.0043749999999999995],[0.005624999999999999,0.005624999999999999,0.005624999999999999,0.005624999999999999,0.005624999999999999,0.005624999999999999,0.005624999999999999,0.005624999999999999,0.005624999999999999,0.005624999999999999],[0.006874999999999998,0.006874999999999998,0.006874999999999998,0.006874999999999998,0.006874999999999998,0.006874999999999998,0.006874999999999998,0.006874999999999998,0.006874999999999998,0.006874999999999998],[0.008124999999999999,0.008124999999999999,0.008124999999999999,0.008124999999999999,0.008124999999999999,0.008124999999999999,0.008124999999999999,0.008124999999999999,0.008124999999999999,0.008124999999999999],[0.009375,0.009375,0.009375,0.009375,0.009375,0.009375,0.009375,0.009375,0.009375,0.009375],[0.01,0.01,0.01,0.01,0.01,0.01,0.01,0.01,0.01,0.01]],\"z\":[[-1.324935692390523e-21,-1.3644286583855524e-21,-1.343711543483624e-21,-1.34389895005761e-21,-1.3440127442373617e-21,-1.3446806951969758e-21,-1.3450555761361137e-21,-1.34441781961987e-21,-1.3255872173491898e-21,-1.3507738844298845e-21],[-1.1829392095987201e-21,-1.1743194102483343e-21,-1.1767487516877486e-21,-1.1753304878875158e-21,-1.1759643090170964e-21,-1.1767100283910546e-21,-1.177616286533947e-21,-1.1771211957138897e-21,-1.1750813449662678e-21,-1.1726907877534739e-21],[-8.3878835167700695e-22,-8.390154213719923e-22,-8.39548684813376e-22,-8.394652359994656e-22,-8.399417565155096e-22,-8.4060211595470285e-22,-8.412698284497983e-22,-8.413182145592509e-22,-8.400265259816371e-22,-8.396335255373174e-22],[-5.0296291846770805e-22,-5.0284349741814395e-22,-5.032514185030062e-22,-5.034475469905366e-22,-5.0389134930744e-22,-5.044377448847886e-22,-5.049763300964814e-22,-5.052193486919342e-22,-5.049091868393612e-22,-5.04789091559019e-22],[-1.666985396876922e-22,-1.6677558083063111e-22,-1.6707097799249215e-22,-1.6738375207588444e-22,-1.6779805367678366e-22,-1.6824591161772112e-22,-1.6870865398129888e-22,-1.6916607640348154e-22,-1.6961550359605e-22,-1.6981466288195455e-22],[1.6948613752363283e-22,1.6932912248687706e-22,1.6905591863299387e-22,1.6866201132114381e-22,1.6827543865220717e-22,1.6793031610511186e-22,1.6754498972772053e-22,1.6687714455823614e-22,1.6567254605445668e-22,1.6530342853343866e-22],[5.060383183809001e-22,5.055521512770136e-22,5.051169198966052e-22,5.046285209986184e-22,5.042740969019818e-22,5.040576265419969e-22,5.038140322033674e-22,5.02966600432694e-22,5.008759986033885e-22,5.003507377296007e-22],[8.471454682848858e-22,8.418896040241497e-22,8.412371440850573e-22,8.405540463150649e-22,8.402226688263431e-22,8.401559927884625e-22,8.401650570094318e-22,8.392297811409972e-22,8.35738126171426e-22,8.389586735113218e-22],[1.1850973857728324e-21,1.1814940354575758e-21,1.1777735488389572e-21,1.1766932151889128e-21,1.1763153983701059e-21,1.1763617660451277e-21,1.1768694461323663e-21,1.175382326555626e-21,1.173144403132652e-21,1.1730016313757911e-21],[1.3522686271233385e-21,1.3477875458638056e-21,1.3461874632895364e-21,1.3449005096097739e-21,1.344453097851135e-21,1.34439272445689e-21,1.3440011128452564e-21,1.3423432717061957e-21,1.3077527646188691e-21,1.3556757826743437e-21]],\"type\":\"surface\"}],                        {\"template\":{\"data\":{\"bar\":[{\"error_x\":{\"color\":\"#2a3f5f\"},\"error_y\":{\"color\":\"#2a3f5f\"},\"marker\":{\"line\":{\"color\":\"#E5ECF6\",\"width\":0.5},\"pattern\":{\"fillmode\":\"overlay\",\"size\":10,\"solidity\":0.2}},\"type\":\"bar\"}],\"barpolar\":[{\"marker\":{\"line\":{\"color\":\"#E5ECF6\",\"width\":0.5},\"pattern\":{\"fillmode\":\"overlay\",\"size\":10,\"solidity\":0.2}},\"type\":\"barpolar\"}],\"carpet\":[{\"aaxis\":{\"endlinecolor\":\"#2a3f5f\",\"gridcolor\":\"white\",\"linecolor\":\"white\",\"minorgridcolor\":\"white\",\"startlinecolor\":\"#2a3f5f\"},\"baxis\":{\"endlinecolor\":\"#2a3f5f\",\"gridcolor\":\"white\",\"linecolor\":\"white\",\"minorgridcolor\":\"white\",\"startlinecolor\":\"#2a3f5f\"},\"type\":\"carpet\"}],\"choropleth\":[{\"colorbar\":{\"outlinewidth\":0,\"ticks\":\"\"},\"type\":\"choropleth\"}],\"contour\":[{\"colorbar\":{\"outlinewidth\":0,\"ticks\":\"\"},\"colorscale\":[[0.0,\"#0d0887\"],[0.1111111111111111,\"#46039f\"],[0.2222222222222222,\"#7201a8\"],[0.3333333333333333,\"#9c179e\"],[0.4444444444444444,\"#bd3786\"],[0.5555555555555556,\"#d8576b\"],[0.6666666666666666,\"#ed7953\"],[0.7777777777777778,\"#fb9f3a\"],[0.8888888888888888,\"#fdca26\"],[1.0,\"#f0f921\"]],\"type\":\"contour\"}],\"contourcarpet\":[{\"colorbar\":{\"outlinewidth\":0,\"ticks\":\"\"},\"type\":\"contourcarpet\"}],\"heatmap\":[{\"colorbar\":{\"outlinewidth\":0,\"ticks\":\"\"},\"colorscale\":[[0.0,\"#0d0887\"],[0.1111111111111111,\"#46039f\"],[0.2222222222222222,\"#7201a8\"],[0.3333333333333333,\"#9c179e\"],[0.4444444444444444,\"#bd3786\"],[0.5555555555555556,\"#d8576b\"],[0.6666666666666666,\"#ed7953\"],[0.7777777777777778,\"#fb9f3a\"],[0.8888888888888888,\"#fdca26\"],[1.0,\"#f0f921\"]],\"type\":\"heatmap\"}],\"heatmapgl\":[{\"colorbar\":{\"outlinewidth\":0,\"ticks\":\"\"},\"colorscale\":[[0.0,\"#0d0887\"],[0.1111111111111111,\"#46039f\"],[0.2222222222222222,\"#7201a8\"],[0.3333333333333333,\"#9c179e\"],[0.4444444444444444,\"#bd3786\"],[0.5555555555555556,\"#d8576b\"],[0.6666666666666666,\"#ed7953\"],[0.7777777777777778,\"#fb9f3a\"],[0.8888888888888888,\"#fdca26\"],[1.0,\"#f0f921\"]],\"type\":\"heatmapgl\"}],\"histogram\":[{\"marker\":{\"pattern\":{\"fillmode\":\"overlay\",\"size\":10,\"solidity\":0.2}},\"type\":\"histogram\"}],\"histogram2d\":[{\"colorbar\":{\"outlinewidth\":0,\"ticks\":\"\"},\"colorscale\":[[0.0,\"#0d0887\"],[0.1111111111111111,\"#46039f\"],[0.2222222222222222,\"#7201a8\"],[0.3333333333333333,\"#9c179e\"],[0.4444444444444444,\"#bd3786\"],[0.5555555555555556,\"#d8576b\"],[0.6666666666666666,\"#ed7953\"],[0.7777777777777778,\"#fb9f3a\"],[0.8888888888888888,\"#fdca26\"],[1.0,\"#f0f921\"]],\"type\":\"histogram2d\"}],\"histogram2dcontour\":[{\"colorbar\":{\"outlinewidth\":0,\"ticks\":\"\"},\"colorscale\":[[0.0,\"#0d0887\"],[0.1111111111111111,\"#46039f\"],[0.2222222222222222,\"#7201a8\"],[0.3333333333333333,\"#9c179e\"],[0.4444444444444444,\"#bd3786\"],[0.5555555555555556,\"#d8576b\"],[0.6666666666666666,\"#ed7953\"],[0.7777777777777778,\"#fb9f3a\"],[0.8888888888888888,\"#fdca26\"],[1.0,\"#f0f921\"]],\"type\":\"histogram2dcontour\"}],\"mesh3d\":[{\"colorbar\":{\"outlinewidth\":0,\"ticks\":\"\"},\"type\":\"mesh3d\"}],\"parcoords\":[{\"line\":{\"colorbar\":{\"outlinewidth\":0,\"ticks\":\"\"}},\"type\":\"parcoords\"}],\"pie\":[{\"automargin\":true,\"type\":\"pie\"}],\"scatter\":[{\"marker\":{\"colorbar\":{\"outlinewidth\":0,\"ticks\":\"\"}},\"type\":\"scatter\"}],\"scatter3d\":[{\"line\":{\"colorbar\":{\"outlinewidth\":0,\"ticks\":\"\"}},\"marker\":{\"colorbar\":{\"outlinewidth\":0,\"ticks\":\"\"}},\"type\":\"scatter3d\"}],\"scattercarpet\":[{\"marker\":{\"colorbar\":{\"outlinewidth\":0,\"ticks\":\"\"}},\"type\":\"scattercarpet\"}],\"scattergeo\":[{\"marker\":{\"colorbar\":{\"outlinewidth\":0,\"ticks\":\"\"}},\"type\":\"scattergeo\"}],\"scattergl\":[{\"marker\":{\"colorbar\":{\"outlinewidth\":0,\"ticks\":\"\"}},\"type\":\"scattergl\"}],\"scattermapbox\":[{\"marker\":{\"colorbar\":{\"outlinewidth\":0,\"ticks\":\"\"}},\"type\":\"scattermapbox\"}],\"scatterpolar\":[{\"marker\":{\"colorbar\":{\"outlinewidth\":0,\"ticks\":\"\"}},\"type\":\"scatterpolar\"}],\"scatterpolargl\":[{\"marker\":{\"colorbar\":{\"outlinewidth\":0,\"ticks\":\"\"}},\"type\":\"scatterpolargl\"}],\"scatterternary\":[{\"marker\":{\"colorbar\":{\"outlinewidth\":0,\"ticks\":\"\"}},\"type\":\"scatterternary\"}],\"surface\":[{\"colorbar\":{\"outlinewidth\":0,\"ticks\":\"\"},\"colorscale\":[[0.0,\"#0d0887\"],[0.1111111111111111,\"#46039f\"],[0.2222222222222222,\"#7201a8\"],[0.3333333333333333,\"#9c179e\"],[0.4444444444444444,\"#bd3786\"],[0.5555555555555556,\"#d8576b\"],[0.6666666666666666,\"#ed7953\"],[0.7777777777777778,\"#fb9f3a\"],[0.8888888888888888,\"#fdca26\"],[1.0,\"#f0f921\"]],\"type\":\"surface\"}],\"table\":[{\"cells\":{\"fill\":{\"color\":\"#EBF0F8\"},\"line\":{\"color\":\"white\"}},\"header\":{\"fill\":{\"color\":\"#C8D4E3\"},\"line\":{\"color\":\"white\"}},\"type\":\"table\"}]},\"layout\":{\"annotationdefaults\":{\"arrowcolor\":\"#2a3f5f\",\"arrowhead\":0,\"arrowwidth\":1},\"autotypenumbers\":\"strict\",\"coloraxis\":{\"colorbar\":{\"outlinewidth\":0,\"ticks\":\"\"}},\"colorscale\":{\"diverging\":[[0,\"#8e0152\"],[0.1,\"#c51b7d\"],[0.2,\"#de77ae\"],[0.3,\"#f1b6da\"],[0.4,\"#fde0ef\"],[0.5,\"#f7f7f7\"],[0.6,\"#e6f5d0\"],[0.7,\"#b8e186\"],[0.8,\"#7fbc41\"],[0.9,\"#4d9221\"],[1,\"#276419\"]],\"sequential\":[[0.0,\"#0d0887\"],[0.1111111111111111,\"#46039f\"],[0.2222222222222222,\"#7201a8\"],[0.3333333333333333,\"#9c179e\"],[0.4444444444444444,\"#bd3786\"],[0.5555555555555556,\"#d8576b\"],[0.6666666666666666,\"#ed7953\"],[0.7777777777777778,\"#fb9f3a\"],[0.8888888888888888,\"#fdca26\"],[1.0,\"#f0f921\"]],\"sequentialminus\":[[0.0,\"#0d0887\"],[0.1111111111111111,\"#46039f\"],[0.2222222222222222,\"#7201a8\"],[0.3333333333333333,\"#9c179e\"],[0.4444444444444444,\"#bd3786\"],[0.5555555555555556,\"#d8576b\"],[0.6666666666666666,\"#ed7953\"],[0.7777777777777778,\"#fb9f3a\"],[0.8888888888888888,\"#fdca26\"],[1.0,\"#f0f921\"]]},\"colorway\":[\"#636efa\",\"#EF553B\",\"#00cc96\",\"#ab63fa\",\"#FFA15A\",\"#19d3f3\",\"#FF6692\",\"#B6E880\",\"#FF97FF\",\"#FECB52\"],\"font\":{\"color\":\"#2a3f5f\"},\"geo\":{\"bgcolor\":\"white\",\"lakecolor\":\"white\",\"landcolor\":\"#E5ECF6\",\"showlakes\":true,\"showland\":true,\"subunitcolor\":\"white\"},\"hoverlabel\":{\"align\":\"left\"},\"hovermode\":\"closest\",\"mapbox\":{\"style\":\"light\"},\"paper_bgcolor\":\"white\",\"plot_bgcolor\":\"#E5ECF6\",\"polar\":{\"angularaxis\":{\"gridcolor\":\"white\",\"linecolor\":\"white\",\"ticks\":\"\"},\"bgcolor\":\"#E5ECF6\",\"radialaxis\":{\"gridcolor\":\"white\",\"linecolor\":\"white\",\"ticks\":\"\"}},\"scene\":{\"xaxis\":{\"backgroundcolor\":\"#E5ECF6\",\"gridcolor\":\"white\",\"gridwidth\":2,\"linecolor\":\"white\",\"showbackground\":true,\"ticks\":\"\",\"zerolinecolor\":\"white\"},\"yaxis\":{\"backgroundcolor\":\"#E5ECF6\",\"gridcolor\":\"white\",\"gridwidth\":2,\"linecolor\":\"white\",\"showbackground\":true,\"ticks\":\"\",\"zerolinecolor\":\"white\"},\"zaxis\":{\"backgroundcolor\":\"#E5ECF6\",\"gridcolor\":\"white\",\"gridwidth\":2,\"linecolor\":\"white\",\"showbackground\":true,\"ticks\":\"\",\"zerolinecolor\":\"white\"}},\"shapedefaults\":{\"line\":{\"color\":\"#2a3f5f\"}},\"ternary\":{\"aaxis\":{\"gridcolor\":\"white\",\"linecolor\":\"white\",\"ticks\":\"\"},\"baxis\":{\"gridcolor\":\"white\",\"linecolor\":\"white\",\"ticks\":\"\"},\"bgcolor\":\"#E5ECF6\",\"caxis\":{\"gridcolor\":\"white\",\"linecolor\":\"white\",\"ticks\":\"\"}},\"title\":{\"x\":0.05},\"xaxis\":{\"automargin\":true,\"gridcolor\":\"white\",\"linecolor\":\"white\",\"ticks\":\"\",\"title\":{\"standoff\":15},\"zerolinecolor\":\"white\",\"zerolinewidth\":2},\"yaxis\":{\"automargin\":true,\"gridcolor\":\"white\",\"linecolor\":\"white\",\"ticks\":\"\",\"title\":{\"standoff\":15},\"zerolinecolor\":\"white\",\"zerolinewidth\":2}}}},                        {\"responsive\": true}                    ).then(function(){\n",
       "                            \n",
       "var gd = document.getElementById('40b991a4-a9b1-440d-b1ff-d9cb89fbcbd2');\n",
       "var x = new MutationObserver(function (mutations, observer) {{\n",
       "        var display = window.getComputedStyle(gd).display;\n",
       "        if (!display || display === 'none') {{\n",
       "            console.log([gd, 'removed!']);\n",
       "            Plotly.purge(gd);\n",
       "            observer.disconnect();\n",
       "        }}\n",
       "}});\n",
       "\n",
       "// Listen for the removal of the full notebook cells\n",
       "var notebookContainer = gd.closest('#notebook-container');\n",
       "if (notebookContainer) {{\n",
       "    x.observe(notebookContainer, {childList: true});\n",
       "}}\n",
       "\n",
       "// Listen for the clearing of the current output cell\n",
       "var outputEl = gd.closest('.output');\n",
       "if (outputEl) {{\n",
       "    x.observe(outputEl, {childList: true});\n",
       "}}\n",
       "\n",
       "                        })                };                });            </script>        </div>"
      ]
     },
     "metadata": {},
     "output_type": "display_data"
    }
   ],
   "source": [
    "## Time loop\n",
    "\n",
    "!rm -r savedVariables\n",
    "! mkdir savedVariables\n",
    "\n",
    "for time in t:\n",
    "\n",
    "    print(\"\\nTime = \" + str(time))\n",
    "    \n",
    "    # Set number of maximum iterations for convergence\n",
    "    \n",
    "    icorr = 1\n",
    "    maxcorr = 100000\n",
    "\n",
    "    # Make directory\n",
    "\n",
    "    ! mkdir savedVariables/{time}\n",
    "    \n",
    "    while True:\n",
    "    # for iteration in [1]:\n",
    "            \n",
    "        u_previous = u_new #store latest guess values\n",
    "\n",
    "        A_x = A(\"x\").createMatrix()\n",
    "        \n",
    "        for k in np.arange(0,(nx+2)*(ny+2)):   # k is the cell number\n",
    "\n",
    "            U = displacement(k, u_previous, 0)\n",
    "            V = displacement(k, u_previous, 1)\n",
    "\n",
    "            #Bottom left corner coefficients\n",
    "               \n",
    "            if cell_index().bottom_left_corner(k):\n",
    "\n",
    "                #print(str(k) + \": Bottom left corner coefficients\")\n",
    "\n",
    "                #ap\n",
    "                A_x[k,k] = (rho*dx*dy/(dt**2)) + (Sfy/dy)*mu + (Sfx/dx)*(2*mu + Lambda)\n",
    "\n",
    "                #an\n",
    "                A_x[k,k+nx+2] = -(Sfy/dy)*mu\n",
    "\n",
    "                #ae\n",
    "                A_x[k,k+1] = - (Sfx/dx)*(2*mu + Lambda)\n",
    "\n",
    "                b_x[k] =(\n",
    "                            (rho/(dt**2))*( 2*(u_old[k,0])*dx*dy - u_old_old[k,0]*dx*dy) \n",
    "                            +\n",
    "                            (Sfy/(4*dx))*mu*(\n",
    "                                                + V.NE\n",
    "                                                + V.E\n",
    "                                                + V.P\n",
    "                                                + V.N\n",
    "                                                - 2*V.NW #l\n",
    "                                                - 2*V.W #l\n",
    "                                            )\n",
    "                            +\n",
    "                            (Sfx/(4*dy))*Lambda*(\n",
    "                                                    + V.NE\n",
    "                                                    + V.N\n",
    "                                                    + V.P\n",
    "                                                    + V.E\n",
    "                                                    - 2*V.SE #b\n",
    "                                                    - 2*V.S #b\n",
    "                                                )\n",
    "                            +\n",
    "                            Sfy*tr_bottom_x\n",
    "                            +\n",
    "                            Sfx*tr_left_x\n",
    "                        )   \n",
    "\n",
    "            #Bottom right corner coefficients\n",
    "                \n",
    "            elif  cell_index().bottom_right_corner(k):\n",
    "\n",
    "                #print(str(k) + \": Bottom right corner coefficients\")\n",
    "\n",
    "                #ap\n",
    "                A_x[k,k] = (rho*dx*dy/(dt**2)) + (Sfy/dy)*mu + (Sfx/dx)*(2*mu + Lambda)\n",
    "\n",
    "                #an\n",
    "                A_x[k,k+nx+2] = -(Sfy/dy)*mu\n",
    "\n",
    "                #aw\n",
    "                A_x[k,k-1] = -(Sfx/dx)*(2*mu + Lambda)\n",
    "\n",
    "                #b_x = A + B(u_b) + C(u_r) + D(-V.W -V.NW + 2v_r) + E(-V.N -V.NW + 2v_b)\n",
    "\n",
    "\n",
    "                b_x[k] =(\n",
    "                            (rho/(dt**2))*( 2*(u_old[k,0])*dx*dy - u_old_old[k,0]*dx*dy) \n",
    "                            +\n",
    "                            (Sfy/(4*dx))*mu*(\n",
    "                                                + 2*V.NE #r\n",
    "                                                + 2*V.E #r\n",
    "                                                - V.NW\n",
    "                                                - V.W\n",
    "                                                - V.P\n",
    "                                                - V.N\n",
    "                                            )\n",
    "                            +\n",
    "                            (Sfx/(4*dy))*Lambda*(\n",
    "                                                    - V.N\n",
    "                                                    - V.NW\n",
    "                                                    - V.P\n",
    "                                                    - V.W\n",
    "                                                    + 2*V.S #b\n",
    "                                                    + 2*V.SW #b\n",
    "                                                )\n",
    "                            +\n",
    "                            Sfx*tr_right_x\n",
    "                            +\n",
    "                            Sfy*tr_bottom_x\n",
    "                        ) \n",
    "\n",
    "            # Top Left Corner Coeficients\n",
    "                \n",
    "            elif  cell_index().top_left_corner(k):\n",
    "\n",
    "                #print(str(k) + \":Top Left corner coefficients\")\n",
    "\n",
    "                #ap                \n",
    "                A_x[k,k] = (rho*dx*dy/(dt**2)) + (Sfy/dy)*mu + (Sfx/dx)*(2*mu + Lambda)\n",
    "                \n",
    "                #as\n",
    "                A_x[k,k-nx-2] = -(Sfy/dy)*mu\n",
    "\n",
    "                #ae                \n",
    "                A_x[k,k+1] = -(Sfx/dx)*(2*mu + Lambda)\n",
    "                \n",
    "                b_x[k] =(\n",
    "                            (rho/(dt**2))*( 2*(u_old[k,0])*dx*dy - u_old_old[k,0]*dx*dy) \n",
    "                            +\n",
    "                            (Sfy/(4*dx))*mu*(\n",
    "                                                - V.E\n",
    "                                                - V.SE\n",
    "                                                - V.P\n",
    "                                                - V.S\n",
    "                                                + 2*V.W #l\n",
    "                                                + 2*V.SW #l\n",
    "                                            )\n",
    "                            +\n",
    "                            (Sfx/(4*dy))*Lambda*(\n",
    "                                                    + 2*V.NE #t\n",
    "                                                    + 2*V.N #t\n",
    "                                                    - V.P\n",
    "                                                    - V.E\n",
    "                                                    - V.SE\n",
    "                                                    - V.S\n",
    "                                                )\n",
    "                            +\n",
    "                            Sfy*tr_top_x\n",
    "                            +\n",
    "                            Sfx*tr_left_x\n",
    "                        )\n",
    "                \n",
    "            # Top right corner coefficients\n",
    "                \n",
    "            elif  cell_index().top_right_corner(k):   \n",
    "\n",
    "                #print(str(k) + \":Top right corner coefficients\")\n",
    "\n",
    "                #ap\n",
    "                A_x[k,k] = (rho*dx*dy/(dt**2)) + (Sfy/dy)*mu + (Sfx/dx)*(2*mu + Lambda)\n",
    "\n",
    "                #as\n",
    "                A_x[k,k-nx-2] = -(Sfy/dy)*mu\n",
    "\n",
    "                #aw\n",
    "                A_x[k,k-1] = -(Sfx/dx)*(2*mu + Lambda)\n",
    "\n",
    "                b_x[k] =(\n",
    "                            (rho/(dt**2))*( 2*(u_old[k,0])*dx*dy - u_old_old[k,0]*dx*dy) \n",
    "                            +\n",
    "                            (Sfy/(4*dx))*mu*(\n",
    "                                                - 2*V.E #r\n",
    "                                                - 2*V.SE #r\n",
    "                                                + V.W\n",
    "                                                + V.SW\n",
    "                                                + V.P\n",
    "                                                + V.S\n",
    "                                            )\n",
    "                            +\n",
    "                            (Sfx/(4*dy))*Lambda*(\n",
    "                                                    - 2*V.N #t\n",
    "                                                    - 2*V.NW #t\n",
    "                                                    + V.S\n",
    "                                                    + V.SW\n",
    "                                                    + V.P\n",
    "                                                    + V.W\n",
    "                                                )\n",
    "                            +\n",
    "                            Sfy*tr_top_x\n",
    "                            +\n",
    "                            Sfx*tr_right_x\n",
    "                        )\n",
    "                \n",
    "            # Center Bottom Boundaries\n",
    "\n",
    "            elif  cell_index().center_bottom(k):\n",
    "\n",
    "                #print(str(k) + \": Bottom Center Coefficents for Cell\")\n",
    "\n",
    "                #ap\n",
    "                A_x[k,k] = (rho*dx*dy/(dt**2)) + (Sfy/dy)*mu + (Sfx/dx)*(2*mu + Lambda) + (Sfx/dx)*(2*mu + Lambda)\n",
    "\n",
    "                #an\n",
    "                A_x[k,k+nx+2] = -(Sfy/dy)*mu\n",
    "                \n",
    "                #ae\n",
    "                A_x[k,k+1] = -(Sfx/dx)*(2*mu + Lambda)\n",
    "\n",
    "                #aw\n",
    "                A_x[k,k-1] = -(Sfx/dx)*(2*mu + Lambda)\n",
    "\n",
    "                b_x[k] =(\n",
    "                            (rho/(dt**2))*( 2*(u_old[k,0])*dx*dy - u_old_old[k,0]*dx*dy) \n",
    "                            +\n",
    "                            (Sfy/(4*dx))*mu*(\n",
    "                                                + V.NE\n",
    "                                                + V.E\n",
    "                                                - V.NW\n",
    "                                                - V.W\n",
    "                                            )\n",
    "                            +\n",
    "                            (Sfx/(4*dy))*Lambda*(\n",
    "                                                    + V.NE\n",
    "                                                    + V.N\n",
    "                                                    + V.E\n",
    "                                                    + V.P\n",
    "                                                    - 2*V.SE #b\n",
    "                                                    - 2*V.S #b\n",
    "                                                )\n",
    "                            +\n",
    "                            (Sfx/(4*dy))*Lambda*(\n",
    "                                                    - V.N\n",
    "                                                    - V.NW\n",
    "                                                    - V.P\n",
    "                                                    - V.W\n",
    "                                                    + 2*V.S #b\n",
    "                                                    + 2*V.SW #b\n",
    "                                                )\n",
    "                            +\n",
    "                            Sfy*tr_bottom_x\n",
    "                        )                                 \n",
    "\n",
    "            # Center Top Boundaries\n",
    "\n",
    "            elif cell_index().center_top(k):\n",
    "\n",
    "                # #print(k)\n",
    "\n",
    "                #print(str(k) + \": Top Center Coefficents for Cell\")\n",
    "\n",
    "                #ap\n",
    "                A_x[k,k] = (rho*dx*dy/(dt**2)) + (Sfy/dy)*mu + (Sfx/dx)*(2*mu + Lambda) + (Sfx/dx)*(2*mu + Lambda)\n",
    "\n",
    "                #as\n",
    "                A_x[k,k-nx-2] = -(Sfy/dy)*mu\n",
    "                \n",
    "                #ae\n",
    "                A_x[k,k+1] = -(Sfx/dx)*(2*mu + Lambda)\n",
    "\n",
    "                #aw\n",
    "                A_x[k,k-1] = -(Sfx/dx)*(2*mu + Lambda)\n",
    "\n",
    "                b_x[k] =(\n",
    "                            (rho/(dt**2))*( 2*(u_old[k,0])*dx*dy - u_old_old[k,0]*dx*dy) \n",
    "                            +\n",
    "                            (Sfy/(4*dx))*mu*(\n",
    "                                                - V.E\n",
    "                                                - V.SE\n",
    "                                                + V.W\n",
    "                                                + V.SW\n",
    "                                            )\n",
    "                            +\n",
    "                            (Sfx/(4*dy))*Lambda*(\n",
    "                                                    + 2*V.NE #t\n",
    "                                                    + 2*V.N #t\n",
    "                                                    - V.E\n",
    "                                                    - V.P\n",
    "                                                    - V.SE\n",
    "                                                    - V.S\n",
    "                                                )\n",
    "                            +\n",
    "                            (Sfx/(4*dy))*Lambda*(\n",
    "                                                    - 2*V.N #t\n",
    "                                                    - 2*V.NW #t\n",
    "                                                    + V.P\n",
    "                                                    + V.W\n",
    "                                                    + V.S\n",
    "                                                    + V.SW\n",
    "                                                )\n",
    "                            +\n",
    "                            Sfy*tr_top_x\n",
    "                        )\n",
    "            \n",
    "            # Center Left Boundaries\n",
    "\n",
    "            elif  cell_index().center_left(k):\n",
    "\n",
    "                #print(str(k) + \": Left Center Coefficents for Cell\")\n",
    "\n",
    "                #ap\n",
    "                A_x[k,k] = (rho*dx*dy/(dt**2)) + (Sfy/dy)*mu + (Sfy/dy)*mu + (Sfx/dx)*(2*mu + Lambda)\n",
    "\n",
    "                #an\n",
    "                A_x[k,k+nx+2] = -(Sfy/dy)*mu\n",
    "                \n",
    "                #as\n",
    "                A_x[k,k-nx-2] = -(Sfy/dy)*mu\n",
    "\n",
    "                #ae\n",
    "                A_x[k,k+1] = -(Sfx/dx)*(2*mu + Lambda)\n",
    "\n",
    "                b_x[k] =(\n",
    "                            (rho/(dt**2))*( 2*(u_old[k,0])*dx*dy - u_old_old[k,0]*dx*dy) \n",
    "                            +\n",
    "                            (Sfy/(4*dx))*mu*(\n",
    "                                                + V.NE\n",
    "                                                + V.E\n",
    "                                                + V.N\n",
    "                                                + V.P\n",
    "                                                - 2*V.NW #l\n",
    "                                                - 2*V.W #l\n",
    "                                            )\n",
    "                            +\n",
    "                            (Sfy/(4*dx))*mu*(\n",
    "                                                - V.E\n",
    "                                                - V.SE\n",
    "                                                - V.P\n",
    "                                                - V.S\n",
    "                                                + 2*V.W #l\n",
    "                                                + 2*V.SW #l \n",
    "                                            )\n",
    "                            +\n",
    "                            (Sfx/(4*dy))*Lambda*(\n",
    "                                                   + V.NE\n",
    "                                                   + V.N\n",
    "                                                   - V.SE\n",
    "                                                   - V.S\n",
    "                                                )\n",
    "                            +\n",
    "                            Sfx*tr_left_x\n",
    "                        )\n",
    "\n",
    "            # Center Right Boundaries\n",
    "\n",
    "            elif  cell_index().center_right(k):\n",
    "\n",
    "                #print(str(k) + \": Right Center Coefficents for Cell\")\n",
    "\n",
    "                #ap\n",
    "                A_x[k,k] = (rho*dx*dy/(dt**2)) + (Sfy/dy)*mu + (Sfy/dy)*mu + (Sfx/dx)*(2*mu + Lambda)\n",
    "\n",
    "                #an\n",
    "                A_x[k,k+nx+2] = -(Sfy/dy)*mu\n",
    "                \n",
    "                #as\n",
    "                A_x[k,k-nx-2] = -(Sfy/dy)*mu\n",
    "\n",
    "                #aw\n",
    "                A_x[k,k-1] = -(Sfx/dx)*(2*mu + Lambda)\n",
    "\n",
    "                b_x[k] =(\n",
    "                            (rho/(dt**2))*( 2*(u_old[k,0])*dx*dy - u_old_old[k,0]*dx*dy) \n",
    "                            +\n",
    "                            (Sfy/(4*dx))*mu*(\n",
    "                                                + 2*V.NE #r\n",
    "                                                + 2*V.E #r\n",
    "                                                - V.N\n",
    "                                                - V.P\n",
    "                                                - V.NW \n",
    "                                                - V.W \n",
    "                                            )\n",
    "                            +\n",
    "                            (Sfy/(4*dx))*mu*(\n",
    "                                                - 2*V.E #r\n",
    "                                                - 2*V.SE #r\n",
    "                                                + V.P\n",
    "                                                + V.S\n",
    "                                                + V.W \n",
    "                                                + V.SW \n",
    "                                            )\n",
    "                            +\n",
    "                            (Sfx/(4*dy))*Lambda*(\n",
    "                                                   - V.N \n",
    "                                                   - V.NW\n",
    "                                                   + V.S\n",
    "                                                   + V.SW\n",
    "                                                )\n",
    "                            +\n",
    "                            Sfx*tr_right_x\n",
    "                        )\n",
    "\n",
    "            #### Points on Boundary ####\n",
    "\n",
    "            # Center Bottom\n",
    "\n",
    "            elif boundary_point_index().center_bottom(k):\n",
    "\n",
    "                #print(str(k) +  \": Bottom points\")\n",
    "\n",
    "                #ap\n",
    "                A_x[k,k] = 2*mu/dy\n",
    "\n",
    "                #an\n",
    "                A_x[k,k+nx+2] = -2*mu/dy\n",
    "\n",
    "                #b\n",
    "                b_x[k] =(\n",
    "                        tr_bottom_x\n",
    "                        +\n",
    "                        (mu/(2*dx))*(\n",
    "                                        + V.E\n",
    "                                        - V.W\n",
    "                                    )\n",
    "                        ) \n",
    "\n",
    "            # Center Top\n",
    "\n",
    "            elif boundary_point_index().center_top(k):\n",
    "                \n",
    "                #print( str(k) + \": Center points\" )\n",
    "                \n",
    "                #ap\n",
    "                A_x[k,k] = 2*mu/dy\n",
    "\n",
    "                #as\n",
    "                A_x[k,k-nx-2] = -2*mu/dy\n",
    "\n",
    "                #b\n",
    "                b_x[k] =(\n",
    "                        tr_top_x\n",
    "                        +\n",
    "                        (mu/(2*dx))*(\n",
    "                                        - V.E\n",
    "                                        + V.W\n",
    "                                    )\n",
    "                        ) \n",
    "\n",
    "                \n",
    "            # Center Left\n",
    "\n",
    "            elif boundary_point_index().center_left(k):\n",
    "\n",
    "                #print( str(k) + \": Left points\" )\n",
    "\n",
    "                #ap\n",
    "                A_x[k,k] = (4*mu + 2*Lambda)/dx\n",
    "\n",
    "                #ae\n",
    "                A_x[k,k+1] = -(4*mu + 2*Lambda)/dx\n",
    "\n",
    "                #b\n",
    "                b_x[k] =(\n",
    "                        tr_left_x\n",
    "                        +\n",
    "                        (Lambda/(2*dy))*(\n",
    "                                        + V.N\n",
    "                                        - V.S\n",
    "                                    )\n",
    "                        )\n",
    "\n",
    "            # Center Right\n",
    "\n",
    "            elif boundary_point_index().center_right(k):\n",
    "\n",
    "                #print( str(k) + \": Right points\" )\n",
    "\n",
    "                #ap\n",
    "                A_x[k,k] = (4*mu + 2*Lambda)/dx\n",
    "\n",
    "                #aw\n",
    "                A_x[k,k-1] = -(4*mu + 2*Lambda)/dx\n",
    "\n",
    "                #b\n",
    "                b_x[k] =(\n",
    "                        tr_right_x\n",
    "                        +\n",
    "                        (Lambda/(2*dy))*(\n",
    "                                        - V.N\n",
    "                                        + V.S\n",
    "                                    )\n",
    "                        )\n",
    "\n",
    "            # Bottom Left: Bottom\n",
    "\n",
    "            elif boundary_point_index().bottom_left_bottom(k):\n",
    "\n",
    "                # print( str(k) + \": Bottom Left: Bottom points\" )\n",
    "                \n",
    "                # ap\n",
    "                A_x[k,k] = 2*mu/dy\n",
    "\n",
    "                #an\n",
    "                A_x[k,k+nx+2] = -2*mu/dy\n",
    "\n",
    "                #b\n",
    "                b_x[k] =(\n",
    "                        tr_bottom_x\n",
    "                        +\n",
    "                        ((mu)/(2*dx))*(\n",
    "                                        + V.E\n",
    "                                        + V.P\n",
    "                                        - 2*V.W\n",
    "                                    )\n",
    "                        ) \n",
    "\n",
    "            # Bottom Left: Left\n",
    "\n",
    "            elif boundary_point_index().bottom_left_left(k):\n",
    "\n",
    "                #print( str(k) +  \": Bottom Left: Left points\" )\n",
    "                \n",
    "                #ap\n",
    "                A_x[k,k] = (4*mu + 2*Lambda)/dx\n",
    "\n",
    "                #ae\n",
    "                A_x[k,k+1] = -(4*mu + 2*Lambda)/dx\n",
    "\n",
    "                #b\n",
    "                b_x[k] =(\n",
    "                        tr_left_x\n",
    "                        +\n",
    "                        ((Lambda)/(2*dy))*(\n",
    "                                        + V.N\n",
    "                                        + V.P\n",
    "                                        - 2*V.S\n",
    "                                    )\n",
    "                        )\n",
    "            \n",
    "            # Bottom Right: Right\n",
    "\n",
    "            elif boundary_point_index().bottom_right_right(k):\n",
    "\n",
    "                #print( str(k) + \": Bottom Right: Right points\" )\n",
    "\n",
    "                #ap\n",
    "                A_x[k,k] = (4*mu + 2*Lambda)/dx\n",
    "\n",
    "                #aw\n",
    "                A_x[k,k-1] = -(4*mu + 2*Lambda)/dx\n",
    "\n",
    "                #b\n",
    "                b_x[k] =(\n",
    "                        tr_right_x\n",
    "                        +\n",
    "                        ((Lambda)/(2*dy))*(\n",
    "                                        - V.N\n",
    "                                        - V.P\n",
    "                                        + 2*V.S\n",
    "                                    )\n",
    "                        )\n",
    "\n",
    "            # Bottom Right: Bottom\n",
    "\n",
    "            elif boundary_point_index().bottom_right_bottom(k):\n",
    "\n",
    "                #print( str(k) + \": Bottom Right: Bottom points\" )\n",
    "\n",
    "\n",
    "                #ap\n",
    "                A_x[k,k] = 2*mu/dy\n",
    "\n",
    "                #an\n",
    "                A_x[k,k+nx+2] = -2*mu/dy\n",
    "\n",
    "                #b\n",
    "                b_x[k] =(\n",
    "                        tr_bottom_x\n",
    "                        +\n",
    "                        ((mu)/(2*dx))*(\n",
    "                                        + V.E\n",
    "                                        + V.P\n",
    "                                        - 2*V.W\n",
    "                                    )\n",
    "                        )\n",
    "\n",
    "            # Top Left: Left\n",
    "\n",
    "            elif boundary_point_index().top_left_left(k):\n",
    "\n",
    "                #print( str(k) + \" Top Left: Left points\" )\n",
    "\n",
    "                \n",
    "                #ap\n",
    "                A_x[k,k] = (4*mu + 2*Lambda)/dx\n",
    "\n",
    "                #ae\n",
    "                A_x[k,k+1] = -(4*mu + 2*Lambda)/dx\n",
    "\n",
    "                #b\n",
    "                b_x[k] =(\n",
    "                        tr_left_x\n",
    "                        +\n",
    "                        ((Lambda)/(2*dy))*(\n",
    "                                        + V.N\n",
    "                                        + V.P\n",
    "                                        - 2*V.S\n",
    "                                    )\n",
    "                        )\n",
    "\n",
    "            # Top Left: Top\n",
    "\n",
    "            elif boundary_point_index().top_left_top(k):\n",
    "\n",
    "                #print( str(k) + \" Top Left: Top points\" )\n",
    "\n",
    "                \n",
    "                #ap\n",
    "                A_x[k,k] = 2*mu/dy\n",
    "\n",
    "                #as\n",
    "                A_x[k,k-nx-2] = -2*mu/dy\n",
    "\n",
    "                #b\n",
    "                b_x[k] =(\n",
    "                        tr_top_x\n",
    "                        +\n",
    "                        ((mu)/(2*dx))*(\n",
    "                                        - V.E\n",
    "                                        - V.P\n",
    "                                        + 2*V.W\n",
    "                                    )\n",
    "                        )\n",
    "\n",
    "            # Top Right: Right\n",
    "\n",
    "            elif boundary_point_index().top_right_right(k):\n",
    "\n",
    "                #print( str(k) + \" Top Right: Right points\" )\n",
    "\n",
    "                #ap\n",
    "                A_x[k,k] = (4*mu + 2*Lambda)/dx\n",
    "\n",
    "                #aw\n",
    "                A_x[k,k-1] = -(4*mu + 2*Lambda)/dx\n",
    "\n",
    "                #b\n",
    "                b_x[k] =(\n",
    "                        tr_right_x\n",
    "                        +\n",
    "                        ((Lambda)/(2*dy))*(\n",
    "                                                - V.N\n",
    "                                                - V.P\n",
    "                                                + 2*V.S\n",
    "                                            )\n",
    "                        )\n",
    "\n",
    "            # Top Right: Top\n",
    "            \n",
    "            elif boundary_point_index().top_right_top(k):\n",
    "\n",
    "                #print( str(k) + \" Top Right: Top points\" )\n",
    "\n",
    "                #ap\n",
    "                A_x[k,k] = 2*mu/dy\n",
    "\n",
    "                #as\n",
    "                A_x[k,k-nx-2] = -2*mu/dy\n",
    "\n",
    "                #b\n",
    "                b_x[k] =(\n",
    "                        tr_top_x\n",
    "                        +\n",
    "                        ((mu)/(2*dx))*(\n",
    "                                            - V.E\n",
    "                                            - V.P\n",
    "                                            + 2*V.W\n",
    "                                    )\n",
    "                        ) \n",
    "            # Corner Points\n",
    "\n",
    "            elif boundary_point_index().bottom_left_corner(k):\n",
    "\n",
    "                #print(str(k) + \": Bottom Left Corner Point on Boundary\")\n",
    "\n",
    "                A_x[k,k] = 4\n",
    "\n",
    "                A_x[k,index(k).n] = 2 \n",
    "                A_x[k,index(k).e] = 2\n",
    "\n",
    "                A_x[k,index(k).ne] = -15\n",
    "\n",
    "                A_x[k,index(k).dir([\"n\", \"n\"])] = 2 \n",
    "                A_x[k,index(k).dir([\"e\", \"e\"])] = 2\n",
    "\n",
    "                A_x[k,index(k).dir([\"n\", \"ne\"])] = 1\n",
    "                A_x[k,index(k).dir([\"ne\", \"ne\"])] = 1\n",
    "                A_x[k,index(k).dir([\"e\", \"ne\"])] = 1\n",
    "\n",
    "                b_x[k] = 0\n",
    "\n",
    "            elif boundary_point_index().bottom_right_corner(k):\n",
    "                #print(str(k) + \": Bottom Right Corner Point on Boundary\")\n",
    "                A_x[k,k] = 4\n",
    "\n",
    "                A_x[k,index(k).n] = 2 \n",
    "                A_x[k,index(k).w] = 2\n",
    "\n",
    "                A_x[k,index(k).nw] = -15\n",
    "\n",
    "                A_x[k,index(k).dir([\"n\", \"n\"])] = 2 \n",
    "                A_x[k,index(k).dir([\"w\", \"w\"])] = 2\n",
    "\n",
    "                A_x[k,index(k).dir([\"n\", \"nw\"])] = 1\n",
    "                A_x[k,index(k).dir([\"nw\", \"nw\"])] = 1\n",
    "                A_x[k,index(k).dir([\"w\", \"nw\"])] = 1\n",
    "\n",
    "                b_x[k] = 0\n",
    "\n",
    "            elif boundary_point_index().top_left_corner(k):\n",
    "                #print(str(k) + \": Top Left Corner Point on Boundary\")\n",
    "                A_x[k,k] = 4\n",
    "\n",
    "                A_x[k,index(k).s] = 2 \n",
    "                A_x[k,index(k).e] = 2\n",
    "\n",
    "                A_x[k,index(k).se] = -15\n",
    "\n",
    "                A_x[k,index(k).dir([\"s\", \"s\"])] = 2 \n",
    "                A_x[k,index(k).dir([\"e\", \"e\"])] = 2\n",
    "\n",
    "                A_x[k,index(k).dir([\"s\", \"se\"])] = 1\n",
    "                A_x[k,index(k).dir([\"se\", \"se\"])] = 1\n",
    "                A_x[k,index(k).dir([\"e\", \"se\"])] = 1\n",
    "\n",
    "                b_x[k] = 0\n",
    "\n",
    "            elif boundary_point_index().top_right_corner(k):\n",
    "                #print(str(k) + \": Top Right Corner Point on Boundary\")\n",
    "                A_x[k,k] = 4\n",
    "\n",
    "                A_x[k,index(k).s] = 2 \n",
    "                A_x[k,index(k).w] = 2\n",
    "\n",
    "                A_x[k,index(k).sw] = -15\n",
    "\n",
    "                A_x[k,index(k).dir([\"s\", \"s\"])] = 2 \n",
    "                A_x[k,index(k).dir([\"w\", \"w\"])] = 2\n",
    "\n",
    "                A_x[k,index(k).dir([\"s\", \"sw\"])] = 1\n",
    "                A_x[k,index(k).dir([\"sw\", \"sw\"])] = 1\n",
    "                A_x[k,index(k).dir([\"w\", \"sw\"])] = 1\n",
    "\n",
    "                b_x[k] = 0\n",
    "                \n",
    "            else:\n",
    "\n",
    "                # print(str(k) + \": NO BC Cell\")\n",
    "\n",
    "                b_x[k] = (\n",
    "                            (rho/(dt**2))*( 2*(u_old[k,0])*dx*dy - u_old_old[k,0]*dx*dy)\n",
    "                            + (Sfy/(4*dx))*mu*(\n",
    "                                                + V.NE    # + V.Ne\n",
    "                                                - V.NW    # - V.NW\n",
    "                                                - V.SE    # - V.SE\n",
    "                                                + V.SW    # + V.SW\n",
    "                                            )\n",
    "                            +(Sfx/(4*dy))*Lambda*(\n",
    "                                                    + V.NE    # + V.Ne\n",
    "                                                    - V.NW    # - V.NW\n",
    "                                                    - V.SE    # - V.SE\n",
    "                                                    + V.SW    # + V.SW \n",
    "                                                )\n",
    "                            )\n",
    "\n",
    "        # saveArray(str(time) + \"/A_x_\" + str(icorr) , A_x.todense())   \n",
    "        # saveArray(str(time) + \"/b_x_\" + str(icorr), b_x)  \n",
    "\n",
    "        ## Solve the x-equation\n",
    "        \n",
    "        Ux = spsolve(A_x, b_x)\n",
    "        Ux = np.array(Ux)\n",
    "\n",
    "        # #print(Ux)\n",
    "\n",
    "        saveArray(str(time) + \"/Ux_\" + str(icorr), Ux)\n",
    "        \n",
    "        ## Prepare matrix A and b vector for the y-equation\n",
    "        \n",
    "        A_y = A(\"y\").createMatrix()\n",
    "        \n",
    "        for k in np.arange(0,(nx+2)*(ny+2)):   # j is the cell number\n",
    "\n",
    "\n",
    "            U = displacement(k, u_previous, 0)\n",
    "            V = displacement(k, u_previous, 1)\n",
    " \n",
    "            #Bottom left corner coefficients\n",
    "            \n",
    "            if cell_index().bottom_left_corner(k):\n",
    "\n",
    "                #print(str(k) + \": Bottom left corner coefficients\")\n",
    "                \n",
    "                #ap\n",
    "                A_y[k,k] = (rho*dx*dy/(dt**2)) + (Sfy/dy)*(2*mu + Lambda) + (Sfx/dx)*(mu)    \n",
    "                \n",
    "                #an\n",
    "                A_y[k,k+nx+2] = -(Sfy/dy)*(2*mu + Lambda)\n",
    "\n",
    "                #ae                \n",
    "                A_y[k,k+1] = -(Sfx/dx)*(mu)\n",
    "                \n",
    "                b_y[k] =(\n",
    "                            (rho/(dt**2))*( 2*(u_old[k,1])*dx*dy - u_old_old[k,1]*dx*dy) \n",
    "                            +\n",
    "                            (Sfy/(4*dx))*Lambda*(\n",
    "                                                + U.NE\n",
    "                                                + U.E\n",
    "                                                + U.P\n",
    "                                                + U.N\n",
    "                                                - 2*U.NW #l\n",
    "                                                - 2*U.W #l\n",
    "                                            )\n",
    "                            +\n",
    "                            (Sfx/(4*dy))*mu*(\n",
    "                                                    + U.NE\n",
    "                                                    + U.N\n",
    "                                                    + U.P\n",
    "                                                    + U.E\n",
    "                                                    - 2*U.SE #b\n",
    "                                                    - 2*U.S #b\n",
    "                                                )\n",
    "                            +\n",
    "                            Sfy*tr_bottom_y\n",
    "                            +\n",
    "                            Sfx*tr_left_y\n",
    "                        )\n",
    "                \n",
    "            #Bottom right corner coefficients\n",
    "\n",
    "            elif  cell_index().bottom_right_corner(k):\n",
    "                \n",
    "                #print(str(k) + \": Bottom right corner coefficients\")\n",
    "               \n",
    "                A_y[k,k] = (rho*dx*dy/(dt**2)) + (Sfy/dy)*(2*mu + Lambda) + (Sfx/dx)*(mu)    \n",
    "                \n",
    "                #an\n",
    "                A_y[k,k+nx+2] = -(Sfy/dy)*(2*mu + Lambda)\n",
    "\n",
    "                #aw                \n",
    "                A_y[k,k-1] = -(Sfx/dx)*(mu)\n",
    "                \n",
    "                b_y[k] =(\n",
    "                            (rho/(dt**2))*( 2*(u_old[k,1])*dx*dy - u_old_old[k,1]*dx*dy) \n",
    "                            +\n",
    "                            (Sfy/(4*dx))*Lambda*(\n",
    "                                                + 2*U.NE #r\n",
    "                                                + 2*U.E #r\n",
    "                                                - U.NW\n",
    "                                                - U.W\n",
    "                                                - U.P\n",
    "                                                - U.N\n",
    "                                            )\n",
    "                            +\n",
    "                            (Sfx/(4*dy))*mu*(\n",
    "                                                    - U.N\n",
    "                                                    - U.NW\n",
    "                                                    - U.P\n",
    "                                                    - U.W\n",
    "                                                    + 2*U.S #b\n",
    "                                                    + 2*U.SW #b\n",
    "                                                )\n",
    "                            +\n",
    "                            Sfy*tr_bottom_y\n",
    "                            +\n",
    "                            Sfx*tr_right_y\n",
    "                        )\n",
    "                     \n",
    "            #Top left corner coefficients\n",
    "                \n",
    "            elif  cell_index().top_left_corner(k):\n",
    "\n",
    "                #print(str(k) + \":Top Left corner coefficients\")\n",
    "\n",
    "                A_y[k,k] = (rho*dx*dy/(dt**2)) + (Sfy/dy)*(2*mu + Lambda) + (Sfx/dx)*(mu)    \n",
    "                \n",
    "                #as\n",
    "                A_y[k,k-nx-2] = -(Sfy/dy)*(2*mu + Lambda)\n",
    "\n",
    "                #ae                \n",
    "                A_y[k,k+1] = -(Sfx/dx)*(mu)\n",
    "                \n",
    "                b_y[k] =(\n",
    "                            (rho/(dt**2))*( 2*(u_old[k,1])*dx*dy - u_old_old[k,1]*dx*dy) \n",
    "                            +\n",
    "                            (Sfy/(4*dx))*Lambda*(\n",
    "                                                    - U.E\n",
    "                                                    - U.SE\n",
    "                                                    - U.P\n",
    "                                                    - U.S\n",
    "                                                    + 2*U.W #l\n",
    "                                                    + 2*U.SW #l\n",
    "                                            )\n",
    "                            +\n",
    "                            (Sfx/(4*dy))*mu*(\n",
    "                                                    + 2*U.NE #t\n",
    "                                                    + 2*U.N #t\n",
    "                                                    - U.P\n",
    "                                                    - U.E\n",
    "                                                    - U.SE\n",
    "                                                    - U.S\n",
    "                                                )\n",
    "                            +\n",
    "                            Sfy*tr_top_y\n",
    "                            +\n",
    "                            Sfx*tr_left_y\n",
    "                        )    \n",
    "                \n",
    "            #Top right corner coefficients\n",
    "                \n",
    "            elif  cell_index().top_right_corner(k):   \n",
    "\n",
    "                #print(str(k) + \":Top right corner coefficients\")\n",
    "\n",
    "                #ap\n",
    "                \n",
    "                A_y[k,k] = (rho*dx*dy/(dt**2)) + (Sfy/dy)*(2*mu + Lambda) + (Sfx/dx)*(mu)    \n",
    "                \n",
    "                #as\n",
    "                A_y[k,k-nx-2] = -(Sfy/dy)*(2*mu + Lambda)\n",
    "\n",
    "                #aw                \n",
    "                A_y[k,k-1] = -(Sfx/dx)*(mu)\n",
    "                \n",
    "                b_y[k] = (\n",
    "                            (rho/(dt**2))*( 2*(u_old[k,1])*dx*dy - u_old_old[k,1]*dx*dy) \n",
    "                            +\n",
    "                            (Sfy/(4*dx))*Lambda*(\n",
    "                                                    - 2*U.E #r\n",
    "                                                    - 2*U.SE #r\n",
    "                                                    + U.W\n",
    "                                                    + U.SW\n",
    "                                                    + U.P\n",
    "                                                    + U.S\n",
    "                                            )\n",
    "                            +\n",
    "                            (Sfx/(4*dy))*mu*(\n",
    "                                                    - 2*U.N #t\n",
    "                                                    - 2*U.NW #t\n",
    "                                                    + U.S\n",
    "                                                    + U.SW\n",
    "                                                    + U.P\n",
    "                                                    + U.W\n",
    "                                                )\n",
    "                            +\n",
    "                            Sfy*tr_top_y\n",
    "                            +\n",
    "                            Sfx*tr_right_y\n",
    "                        )\n",
    "            \n",
    "            # Center Bottom Boundaries\n",
    "\n",
    "            elif  cell_index().center_bottom(k):\n",
    "\n",
    "                #print(str(k) + \": Bottom Center Coefficents for Cell\")\n",
    "\n",
    "\n",
    "                #ap\n",
    "                A_y[k,k] = (rho*dx*dy/(dt**2)) + (Sfy/dy)*(2*mu + Lambda) + (Sfx/dx)*(mu) + (Sfx/dx)*(mu)\n",
    "\n",
    "                #an\n",
    "                A_y[k,k+nx+2] = -(Sfy/dy)*(2*mu + Lambda)\n",
    "                \n",
    "                #ae\n",
    "                A_y[k,k+1] = -(Sfx/dx)*(mu)\n",
    "\n",
    "                #aw\n",
    "                A_y[k,k-1] = -(Sfx/dx)*(mu)\n",
    "\n",
    "                b_y[k] =(\n",
    "                            (rho/(dt**2))*( 2*(u_old[k,1])*dx*dy - u_old_old[k,1]*dx*dy) \n",
    "                            +\n",
    "                            (Sfy/(4*dx))*Lambda*(\n",
    "                                                + U.NE\n",
    "                                                + U.E\n",
    "                                                - U.NW\n",
    "                                                - U.W\n",
    "                                            )\n",
    "                            +\n",
    "                            (Sfx/(4*dy))*mu*(\n",
    "                                                    + U.NE\n",
    "                                                    + U.N\n",
    "                                                    + U.E\n",
    "                                                    + U.P\n",
    "                                                    - 2*U.SE #b\n",
    "                                                    - 2*U.S #b\n",
    "                                                )\n",
    "                            +\n",
    "                            (Sfx/(4*dy))*mu*(\n",
    "                                                    - U.N\n",
    "                                                    - U.NW\n",
    "                                                    - U.P\n",
    "                                                    - U.W\n",
    "                                                    + 2*U.S #b\n",
    "                                                    + 2*U.SW #b\n",
    "                                                )\n",
    "                            +\n",
    "                            Sfy*tr_bottom_y\n",
    "                        )\n",
    "\n",
    "            # Center Top Boundaries\n",
    "\n",
    "            elif cell_index().center_top(k):\n",
    "\n",
    "                #print(str(k) + \": Top Center Coefficents for Cell\")\n",
    "\n",
    "                #ap\n",
    "                A_y[k,k] = (rho*dx*dy/(dt**2)) + (Sfy/dy)*(2*mu + Lambda) + (Sfx/dx)*(mu) + (Sfx/dx)*(mu)\n",
    "\n",
    "                #as\n",
    "                A_y[k,k-nx-2] = -(Sfy/dy)*(2*mu + Lambda)\n",
    "                \n",
    "                #ae\n",
    "                A_y[k,k+1] = -(Sfx/dx)*(mu)\n",
    "\n",
    "                #aw\n",
    "                A_y[k,k-1] = -(Sfx/dx)*(mu)\n",
    "\n",
    "                b_y[k] =(\n",
    "                            (rho/(dt**2))*( 2*(u_old[k,1])*dx*dy - u_old_old[k,1]*dx*dy) \n",
    "                            +\n",
    "                            (Sfy/(4*dx))*Lambda*(\n",
    "                                                - U.E\n",
    "                                                - U.SE\n",
    "                                                + U.W\n",
    "                                                + U.SW\n",
    "                                            )\n",
    "                            +\n",
    "                            (Sfx/(4*dy))*mu*(\n",
    "                                                    + 2*U.NE #t\n",
    "                                                    + 2*U.N #t\n",
    "                                                    - U.E\n",
    "                                                    - U.P\n",
    "                                                    - U.SE\n",
    "                                                    - U.S\n",
    "                                                )\n",
    "                            +\n",
    "                            (Sfx/(4*dy))*mu*(\n",
    "                                                    - 2*U.N #t\n",
    "                                                    - 2*U.NW #t\n",
    "                                                    + U.P\n",
    "                                                    + U.W\n",
    "                                                    + U.S\n",
    "                                                    + U.SW\n",
    "                                                )\n",
    "                            +\n",
    "                            Sfy*tr_top_y\n",
    "                        )\n",
    "\n",
    "            # Center Left Boundaries\n",
    "\n",
    "            elif  cell_index().center_left(k):\n",
    "\n",
    "                #print(str(k) + \": Left Center Coefficents for Cell\")\n",
    "\n",
    "                #ap\n",
    "                A_y[k,k] = (rho*dx*dy/(dt**2)) + (Sfy/dy)*(2*mu + Lambda) + (Sfy/dy)*(2*mu + Lambda) + (Sfx/dx)*mu\n",
    "\n",
    "                #an\n",
    "                A_y[k,k+nx+2] = -(Sfy/dy)*(2*mu + Lambda)\n",
    "                \n",
    "                #as\n",
    "                A_y[k,k-nx-2] = -(Sfy/dy)*(2*mu + Lambda)\n",
    "\n",
    "                #ae\n",
    "                A_y[k,k+1] = -(Sfx/dx)*(mu)\n",
    "\n",
    "                b_y[k] =(\n",
    "                            (rho/(dt**2))*( 2*(u_old[k,1])*dx*dy - u_old_old[k,1]*dx*dy) \n",
    "                            +\n",
    "                            (Sfy/(4*dx))*Lambda*(\n",
    "                                                + U.NE\n",
    "                                                + U.E\n",
    "                                                + U.N\n",
    "                                                + U.P\n",
    "                                                - 2*U.NW #l\n",
    "                                                - 2*U.W #l\n",
    "                                            )\n",
    "                            +\n",
    "                            (Sfy/(4*dx))*Lambda*(\n",
    "                                                - U.E\n",
    "                                                - U.SE\n",
    "                                                - U.P\n",
    "                                                - U.S\n",
    "                                                + 2*U.W #l\n",
    "                                                + 2*U.SW #l \n",
    "                                            )\n",
    "                            +\n",
    "                            (Sfx/(4*dy))*mu*(\n",
    "                                                   + U.NE\n",
    "                                                   + U.N\n",
    "                                                   - U.SE\n",
    "                                                   - U.S\n",
    "                                                )\n",
    "                            +\n",
    "                            Sfx*tr_left_y\n",
    "                        )\n",
    "\n",
    "            # Center Right Boundaries\n",
    "\n",
    "            elif  cell_index().center_right(k):\n",
    "\n",
    "                #print(str(k) + \": Right Center Coefficents for Cell\")\n",
    "\n",
    "                #ap\n",
    "                A_y[k,k] = (rho*dx*dy/(dt**2)) + (Sfy/dy)*(2*mu + Lambda) + (Sfy/dy)*(2*mu + Lambda) + (Sfx/dx)*mu\n",
    "\n",
    "                #an\n",
    "                A_y[k,k+nx+2] = -(Sfy/dy)*(2*mu + Lambda)\n",
    "                \n",
    "                #as\n",
    "                A_y[k,k-nx-2] = -(Sfy/dy)*(2*mu + Lambda)\n",
    "\n",
    "                #aw\n",
    "                A_y[k,k-1] = -(Sfx/dx)*(mu)\n",
    "\n",
    "                b_y[k] =(\n",
    "                            (rho/(dt**2))*( 2*(u_old[k,1])*dx*dy - u_old_old[k,1]*dx*dy)\n",
    "                            +\n",
    "                            (Sfy/(4*dx))*Lambda*(\n",
    "                                                + 2*U.NE #r\n",
    "                                                + 2*U.E #r\n",
    "                                                - U.N\n",
    "                                                - U.P\n",
    "                                                - U.NW \n",
    "                                                - U.W \n",
    "                                            )\n",
    "                            +\n",
    "                            (Sfy/(4*dx))*Lambda*(\n",
    "                                                - 2*U.E #r\n",
    "                                                - 2*U.SE #r\n",
    "                                                + U.P\n",
    "                                                + U.S\n",
    "                                                + U.W\n",
    "                                                + U.SW \n",
    "                                            )\n",
    "                            +\n",
    "                            (Sfx/(4*dy))*mu*(\n",
    "                                                   - U.N \n",
    "                                                   - U.NW\n",
    "                                                   + U.S\n",
    "                                                   + U.SW\n",
    "                                                )\n",
    "                            +\n",
    "                            Sfx*tr_right_y\n",
    "                        )\n",
    "\n",
    "\n",
    "            #### Points on Boundary ####\n",
    "\n",
    "            # Center Bottom\n",
    "\n",
    "            elif boundary_point_index().center_bottom(k):\n",
    "\n",
    "                #print(str(k) +  \": Bottom points\")\n",
    "\n",
    "                #ap\n",
    "                A_y[k,k] = (4*mu + 2*Lambda)/dy\n",
    "\n",
    "                #an\n",
    "                A_y[k,k+nx+2] = -(4*mu + 2*Lambda)/dy\n",
    "\n",
    "                #b\n",
    "                b_y[k] =(\n",
    "                        tr_bottom_y\n",
    "                        +\n",
    "                        (Lambda/(2*dx))*(\n",
    "                                        + U.E\n",
    "                                        - U.W\n",
    "                                    )\n",
    "                        ) \n",
    "\n",
    "            # Center Top\n",
    "\n",
    "            elif boundary_point_index().center_top(k):\n",
    "                \n",
    "                #print( str(k) + \": Center points\" )\n",
    "                \n",
    "                #ap\n",
    "                A_y[k,k] = (4*mu + 2*Lambda)/dy\n",
    "\n",
    "                #as\n",
    "                A_y[k,k-nx-2] = - (4*mu + 2*Lambda)/dy\n",
    "\n",
    "                #b\n",
    "                b_y[k] =(\n",
    "                        tr_top_y\n",
    "                        +\n",
    "                        (Lambda/(2*dx))*(\n",
    "                                        - U.E\n",
    "                                        + U.W\n",
    "                                    )\n",
    "                        ) \n",
    "                \n",
    "            # Center Left\n",
    "\n",
    "            elif boundary_point_index().center_left(k):\n",
    "\n",
    "                #print( str(k) + \": Left points\" )\n",
    "\n",
    "                #ap\n",
    "                A_y[k,k] = (2*mu)/dx\n",
    "\n",
    "                #ae\n",
    "                A_y[k,k+1] = -(2*mu)/dx\n",
    "\n",
    "                #b\n",
    "                b_y[k] =(\n",
    "                        tr_left_y\n",
    "                        +\n",
    "                        (mu/(2*dy))*(\n",
    "                                        + U.N\n",
    "                                        - U.S\n",
    "                                    )\n",
    "                        )\n",
    "\n",
    "            # Center Right\n",
    "\n",
    "            elif boundary_point_index().center_right(k):\n",
    "\n",
    "                #print( str(k) + \": Right points\" )\n",
    "\n",
    "                #ap\n",
    "                A_y[k,k] = (2*mu)/dx\n",
    "\n",
    "                #aw\n",
    "                A_y[k,k-1] = -(2*mu)/dx\n",
    "\n",
    "                #b\n",
    "                b_y[k] =(\n",
    "                        tr_right_y\n",
    "                        +\n",
    "                        (mu/(2*dy))*(\n",
    "                                        - U.N\n",
    "                                        + U.S\n",
    "                                    )\n",
    "                        )\n",
    "\n",
    "            # Bottom Left: Bottom\n",
    "\n",
    "            elif boundary_point_index().bottom_left_bottom(k):\n",
    "\n",
    "                #print( str(k) + \": Bottom Left: Bottom points\" )\n",
    "                #ap\n",
    "                A_y[k,k] = (4*mu + 2*Lambda)/dx      \n",
    "\n",
    "                #an\n",
    "                A_y[k,k+nx+2] = -(4*mu + 2*Lambda)/dx\n",
    "\n",
    "                #b\n",
    "                b_y[k] =(\n",
    "                        tr_bottom_y\n",
    "                        +\n",
    "                        ((mu)/(2*dx))*(\n",
    "                                        + U.E\n",
    "                                        + U.P\n",
    "                                        - 2*U.W\n",
    "                                    )\n",
    "                        ) \n",
    "            # Bottom Left: Left\n",
    "\n",
    "            elif boundary_point_index().bottom_left_left(k):\n",
    "\n",
    "                #print( str(k) +  \": Bottom Left: Left points\" )\n",
    "                \n",
    "                #ap\n",
    "                A_y[k,k] = (2*mu)/dx\n",
    "\n",
    "                #ae\n",
    "                A_y[k,k+1] = -(2*mu)/dx\n",
    "\n",
    "                #b\n",
    "                b_y[k] =(\n",
    "                        tr_left_y\n",
    "                        +\n",
    "                        ((mu)/(2*dy))*(\n",
    "                                        + U.N\n",
    "                                        + U.P\n",
    "                                        - 2*U.S\n",
    "                                    )\n",
    "                        )\n",
    "            \n",
    "            # Bottom Right: Right\n",
    "\n",
    "            elif boundary_point_index().bottom_right_right(k):\n",
    "\n",
    "                #print( str(k) + \": Bottom Right: Right points\" )\n",
    "\n",
    "                #ap\n",
    "                A_y[k,k] = (2*mu)/dx\n",
    "\n",
    "                #aw\n",
    "                A_y[k,k-1] = -(2*mu)/dx\n",
    "\n",
    "                #b\n",
    "                b_y[k] =(\n",
    "                        tr_right_y\n",
    "                        +\n",
    "                        ((mu)/(2*dy))*(\n",
    "                                        - U.N\n",
    "                                        - U.P\n",
    "                                        + 2*U.S\n",
    "                                    )\n",
    "                        )\n",
    "\n",
    "            # Bottom Right: Bottom\n",
    "\n",
    "            elif boundary_point_index().bottom_right_bottom(k):\n",
    "\n",
    "                #print( str(k) + \": Bottom Right: Bottom points\" )\n",
    "\n",
    "\n",
    "                #ap\n",
    "                A_y[k,k] = (4*mu + 2*Lambda)/dy\n",
    "\n",
    "                #an\n",
    "                A_y[k,k+nx+2] = -(4*mu + 2*Lambda)/dy\n",
    "\n",
    "                #b\n",
    "                b_y[k] =(\n",
    "                        tr_bottom_y\n",
    "                        +\n",
    "                        ((Lambda)/(2*dx))*(\n",
    "                                        + U.E\n",
    "                                        + U.P\n",
    "                                        - 2*U.W\n",
    "                                    )\n",
    "                        )\n",
    "\n",
    "            # Top Left: Left\n",
    "\n",
    "            elif boundary_point_index().top_left_left(k):\n",
    "\n",
    "                #print( str(k) + \" Top Left: Left points\" )\n",
    "\n",
    "                \n",
    "                #ap\n",
    "                A_y[k,k] = 2*mu/dx\n",
    "\n",
    "                #ae\n",
    "                A_y[k,k+1] = - 2*mu/dx\n",
    "\n",
    "                #b\n",
    "                b_y[k] =(\n",
    "                        tr_left_y\n",
    "                        +\n",
    "                        ((mu)/(2*dy))*(\n",
    "                                        + U.N\n",
    "                                        + U.P\n",
    "                                        - 2*U.S\n",
    "                                    )\n",
    "                        )\n",
    "\n",
    "            # Top Left: Top\n",
    "\n",
    "            elif boundary_point_index().top_left_top(k):\n",
    "\n",
    "                #print( str(k) + \" Top Left: Top points\" )\n",
    "\n",
    "                \n",
    "                #ap\n",
    "                A_y[k,k] = (4*mu + 2*Lambda)/dy\n",
    "\n",
    "                #as\n",
    "                A_y[k,k-nx-2] = -(4*mu + 2*Lambda)/dy\n",
    "\n",
    "                #b\n",
    "                b_y[k] =(\n",
    "                        tr_top_y\n",
    "                        +\n",
    "                        ((Lambda)/(2*dx))*(\n",
    "                                        - U.E\n",
    "                                        - U.P\n",
    "                                        + 2*U.W\n",
    "                                    )\n",
    "                        )\n",
    "\n",
    "            # Top Right: Right\n",
    "\n",
    "            elif boundary_point_index().top_right_right(k):\n",
    "\n",
    "                #print( str(k) + \" Top Right: Right points\" )\n",
    "\n",
    "                #ap\n",
    "                A_y[k,k] =  2*mu/dx\n",
    "\n",
    "                #aw\n",
    "                A_y[k,k-1] = - 2*mu/dx\n",
    "\n",
    "                #b\n",
    "                b_y[k] =(\n",
    "                        tr_right_y\n",
    "                        +\n",
    "                        ((mu)/(2*dy))*(\n",
    "                                        - U.N\n",
    "                                        - U.P\n",
    "                                        + 2*U.S\n",
    "                                    )\n",
    "                        )\n",
    "\n",
    "            # Top Right: Top\n",
    "            \n",
    "            elif boundary_point_index().top_right_top(k):\n",
    "\n",
    "                #print( str(k) + \" Top Right: Top points\" )\n",
    "\n",
    "                #ap\n",
    "                A_y[k,k] = (4*Lambda + 2*mu)/dy\n",
    "\n",
    "                #as\n",
    "                A_y[k,k-nx-2] = -(4*Lambda + 2*mu)/dy\n",
    "\n",
    "                #b\n",
    "                b_y[k] =(\n",
    "                        tr_top_y\n",
    "                        +\n",
    "                        ((Lambda)/(2*dx))*(\n",
    "                                        - U.E\n",
    "                                        - U.P\n",
    "                                        + 2*U.W\n",
    "                                    )\n",
    "                        ) \n",
    "            # # Corner Points\n",
    "            elif boundary_point_index().bottom_left_corner(k):\n",
    "\n",
    "                #print(str(k) + \": Bottom Left Corner Point on Boundary\")\n",
    "\n",
    "                A_y[k,k] = 4\n",
    "\n",
    "                A_y[k,index(k).n] = 2 \n",
    "                A_y[k,index(k).e] = 2\n",
    "\n",
    "                A_y[k,index(k).ne] = -15\n",
    "\n",
    "                A_y[k,index(k).dir([\"n\", \"n\"])] = 2 \n",
    "                A_y[k,index(k).dir([\"e\", \"e\"])] = 2\n",
    "\n",
    "                A_y[k,index(k).dir([\"n\", \"ne\"])] = 1\n",
    "                A_y[k,index(k).dir([\"ne\", \"ne\"])] = 1\n",
    "                A_y[k,index(k).dir([\"e\", \"ne\"])] = 1\n",
    "\n",
    "                b_y[k] = 0\n",
    "\n",
    "            elif boundary_point_index().bottom_right_corner(k):\n",
    "                #print(str(k) + \": Bottom Right Corner Point on Boundary\")\n",
    "                A_y[k,k] = 4\n",
    "\n",
    "                A_y[k,index(k).n] = 2 \n",
    "                A_y[k,index(k).w] = 2\n",
    "\n",
    "                A_y[k,index(k).nw] = -15\n",
    "\n",
    "                A_y[k,index(k).dir([\"n\", \"n\"])] = 2 \n",
    "                A_y[k,index(k).dir([\"w\", \"w\"])] = 2\n",
    "\n",
    "                A_y[k,index(k).dir([\"n\", \"nw\"])] = 1\n",
    "                A_y[k,index(k).dir([\"nw\", \"nw\"])] = 1\n",
    "                A_y[k,index(k).dir([\"w\", \"nw\"])] = 1\n",
    "\n",
    "                b_y[k] = 0\n",
    "\n",
    "            elif boundary_point_index().top_left_corner(k):\n",
    "                #print(str(k) + \": Top Left Corner Point on Boundary\")\n",
    "                A_y[k,k] = 4\n",
    "\n",
    "                A_y[k,index(k).s] = 2 \n",
    "                A_y[k,index(k).e] = 2\n",
    "\n",
    "                A_y[k,index(k).se] = -15\n",
    "\n",
    "                A_y[k,index(k).dir([\"s\", \"s\"])] = 2 \n",
    "                A_y[k,index(k).dir([\"e\", \"e\"])] = 2\n",
    "\n",
    "                A_y[k,index(k).dir([\"s\", \"se\"])] = 1\n",
    "                A_y[k,index(k).dir([\"se\", \"se\"])] = 1\n",
    "                A_y[k,index(k).dir([\"e\", \"se\"])] = 1\n",
    "\n",
    "                b_y[k] = 0\n",
    "\n",
    "            elif boundary_point_index().top_right_corner(k):\n",
    "                #print(str(k) + \": Top Right Corner Point on Boundary\")\n",
    "                A_y[k,k] = 4\n",
    "\n",
    "                A_y[k,index(k).s] = 2 \n",
    "                A_y[k,index(k).w] = 2\n",
    "\n",
    "                A_y[k,index(k).sw] = -15\n",
    "\n",
    "                A_y[k,index(k).dir([\"s\", \"s\"])] = 2 \n",
    "                A_y[k,index(k).dir([\"w\", \"w\"])] = 2\n",
    "\n",
    "                A_y[k,index(k).dir([\"s\", \"sw\"])] = 1\n",
    "                A_y[k,index(k).dir([\"sw\", \"sw\"])] = 1\n",
    "                A_y[k,index(k).dir([\"w\", \"sw\"])] = 1\n",
    "\n",
    "                b_y[k] = 0\n",
    "            \n",
    "            # Corner Points\n",
    "            # elif boundary_point_index().bottom_left_corner(k):\n",
    "\n",
    "            #     #print(str(k) + \": Bottom Left Corner Point on Boundary\")\n",
    "\n",
    "            #     A_y[k,k] = 1\n",
    "            #     b_y[k] = 1e-16\n",
    "\n",
    "            # elif boundary_point_index().bottom_right_corner(k):\n",
    "            #     #print(str(k) + \": Bottom Right Corner Point on Boundary\")\n",
    "            #     A_y[k,k] = 1\n",
    "            #     b_y[k] = 1e-16\n",
    "\n",
    "            # elif boundary_point_index().top_left_corner(k):\n",
    "            #     #print(str(k) + \": Top Left Corner Point on Boundary\")\n",
    "            #     A_y[k,k] = 1\n",
    "            #     b_y[k] = 1e-16\n",
    "\n",
    "            # elif boundary_point_index().top_right_corner(k):\n",
    "            #     #print(str(k) + \": Top Right Corner Point on Boundary\")\n",
    "            #     A_y[k,k] = 1\n",
    "            #     b_y[k] = 1e-16\n",
    "\n",
    "            else:\n",
    "\n",
    "                #print(str(k) + \": NO BC Cell\")\n",
    "\n",
    "                b_y[k] = (\n",
    "                            (rho/(dt**2))*( 2*(u_old[k,1])*dx*dy - u_old_old[k,1]*dx*dy)\n",
    "                            + (Sfy/(4*dx))*Lambda*(\n",
    "                                                + U.NE    # + U.Ne\n",
    "                                                - U.NW    # - U.Nw\n",
    "                                                - U.SE    # - U.Se\n",
    "                                                + U.SW    # + U.Sw\n",
    "                                            )\n",
    "                            +(Sfx/(4*dy))*mu*(\n",
    "                                                    + U.NE    # + U.Ne\n",
    "                                                    - U.NW    # - U.Nw\n",
    "                                                    - U.SE    # - U.Se\n",
    "                                                    + U.SW    # + U.Sw \n",
    "                                                )\n",
    "                            )\n",
    "        # saveArray(str(time) + \"/A_y_\" + str(icorr) , A_y)\n",
    "        # saveArray(str(time) + \"/b_y_\" + str(icorr), b_y)       \n",
    "                \n",
    "        ## Solve the y-equation\n",
    "        Uy = spsolve(A_y, b_y)\n",
    "        Uy = np.array(Uy)\n",
    "\n",
    "        saveArray(str(time) + \"/Uy_\" + str(icorr), Uy)\n",
    "        \n",
    "        # ## Update U.New with new x and y displacements\n",
    "\n",
    "        u_new1 = np.vstack((Ux, Uy)).T\n",
    "        saveArray (str(time) + \"/U_new1_\" + str(icorr), u_new1)    \n",
    "        saveArray (str(time) + \"/u_previous_\" + str(icorr), u_previous)\n",
    "\n",
    "        # # U.New[:,0] = Ux\n",
    "        # # U.New[:,1] = Uy\n",
    "        \n",
    "        ## Calculate the residual of each iteration\n",
    "        \n",
    "        normFactor = np.max(u_new1)\n",
    "        residual = math.sqrt(np.mean((u_new1 - u_previous)**2))/normFactor\n",
    "        tolerance = 1e-3\n",
    "\n",
    "        u_new = u_new1\n",
    "    \n",
    "        ##print out residual of each iteration\n",
    "        print(\"icorr = {:01d}, Residual = {:.20f}, normFactor = {:.20f}\".format(icorr, residual, normFactor))\n",
    "             \n",
    "        ## Convergence check\n",
    "        \n",
    "        if residual < tolerance:\n",
    "            \n",
    "            break\n",
    "            \n",
    "        elif icorr > maxcorr:\n",
    "            \n",
    "            break            \n",
    "        \n",
    "        icorr = icorr + 1\n",
    "    \n",
    "    ## Update variables\n",
    "    \n",
    "    u_old_old = u_old\n",
    "    u_old = u_new1\n",
    "    \n",
    "    # ## Add the boundary conditions to the solution matrices\n",
    "    u_reshape_x = u_new[:,0].reshape(nx+2, ny+2)\n",
    "    u_reshape_y = u_new[:,1].reshape(nx+2, ny+2)\n",
    "    \n",
    "    # #Boundary conditions for u matrix\n",
    "    U = np.zeros((nx+2,ny+2))\n",
    "    V = np.zeros((nx+2,ny+2))\n",
    " \n",
    "    U[:, :] = u_reshape_x\n",
    "    V[:, :] = u_reshape_y \n",
    "\n",
    "    #Modulus of displacement\n",
    "\n",
    "    disp_mod = np.sqrt((U**2) + (V**2))\n",
    "    disp_mod_converted = disp_mod*1e6 #Convert displacement to micrometers\n",
    "    \n",
    "#     # ## Plot the results\n",
    "\n",
    "    import plotly.graph_objects as go\n",
    "\n",
    "    disp_mod = np.sqrt((U**2) + (V**2))*1e-10\n",
    "\n",
    "    dispx, dispy = np.meshgrid(x, y)\n",
    "    fig = go.Figure(data=[go.Surface(z=disp_mod_converted, x=dispx, y=dispy)])\n",
    "    \n",
    "fig.show()   \n",
    "\n",
    "print(\"U graph\")\n",
    "fig = go.Figure(data=[go.Surface(z=U, x=dispx, y=dispy)])\n",
    "\n",
    "fig.show()   \n",
    "\n",
    "print(\"V graph\")\n",
    "fig = go.Figure(data=[go.Surface(z=V, x=dispx, y=dispy)])\n",
    "\n",
    "fig.show()   \n",
    "\n"
   ]
  },
  {
   "cell_type": "code",
   "execution_count": 113,
   "metadata": {},
   "outputs": [
    {
     "name": "stdout",
     "output_type": "stream",
     "text": [
      "(100, 100)\n"
     ]
    },
    {
     "data": {
      "text/plain": [
       "<matplotlib.collections.PathCollection at 0x7fcdd2d1a760>"
      ]
     },
     "execution_count": 113,
     "metadata": {},
     "output_type": "execute_result"
    },
    {
     "data": {
      "image/png": "[encoded data removed]",
      "text/plain": [
       "<Figure size 720x720 with 1 Axes>"
      ]
     },
     "metadata": {
      "needs_background": "light"
     },
     "output_type": "display_data"
    }
   ],
   "source": [
    "from matplotlib import pyplot as plt\n",
    "\n",
    "plt.figure(figsize=(10, 10))\n",
    "\n",
    "\n",
    "# Displacement Scatter:\n",
    "\n",
    "#\n",
    "x_values = (dispx.reshape((nx+2)*(ny+2), 1) + u_new[:, 0])#*scale\n",
    "y_values = (dispy.reshape((nx+2)*(ny+2), 1) + u_new[:, 1])#*scale\n",
    "\n",
    "print(x_values.shape)\n",
    "\n",
    "plt.scatter(x_values, y_values, s=1)"
   ]
  },
  {
   "cell_type": "code",
   "execution_count": 114,
   "metadata": {},
   "outputs": [
    {
     "name": "stdout",
     "output_type": "stream",
     "text": [
      "0 10\n",
      "[[-1.32843093e-21]\n",
      " [ 6.25000000e-04]\n",
      " [ 1.87500000e-03]\n",
      " [ 3.12500000e-03]\n",
      " [ 4.37500000e-03]\n",
      " [ 5.62500000e-03]\n",
      " [ 6.87500000e-03]\n",
      " [ 8.12500000e-03]\n",
      " [ 9.37500000e-03]\n",
      " [ 1.00000000e-02]]\n",
      "[[-1.32493569e-21]\n",
      " [-1.36442866e-21]\n",
      " [-1.34371154e-21]\n",
      " [-1.34389895e-21]\n",
      " [-1.34401274e-21]\n",
      " [-1.34468070e-21]\n",
      " [-1.34505558e-21]\n",
      " [-1.34441782e-21]\n",
      " [-1.32558722e-21]\n",
      " [-1.35077388e-21]]\n",
      "10 20\n",
      "[[-1.32843093e-21]\n",
      " [ 6.25000000e-04]\n",
      " [ 1.87500000e-03]\n",
      " [ 3.12500000e-03]\n",
      " [ 4.37500000e-03]\n",
      " [ 5.62500000e-03]\n",
      " [ 6.87500000e-03]\n",
      " [ 8.12500000e-03]\n",
      " [ 9.37500000e-03]\n",
      " [ 1.00000000e-02]]\n",
      "[[-1.32493569e-21]\n",
      " [-1.36442866e-21]\n",
      " [-1.34371154e-21]\n",
      " [-1.34389895e-21]\n",
      " [-1.34401274e-21]\n",
      " [-1.34468070e-21]\n",
      " [-1.34505558e-21]\n",
      " [-1.34441782e-21]\n",
      " [-1.32558722e-21]\n",
      " [-1.35077388e-21]]\n",
      "20 30\n",
      "[[-1.32843093e-21]\n",
      " [ 6.25000000e-04]\n",
      " [ 1.87500000e-03]\n",
      " [ 3.12500000e-03]\n",
      " [ 4.37500000e-03]\n",
      " [ 5.62500000e-03]\n",
      " [ 6.87500000e-03]\n",
      " [ 8.12500000e-03]\n",
      " [ 9.37500000e-03]\n",
      " [ 1.00000000e-02]]\n",
      "[[-1.32493569e-21]\n",
      " [-1.36442866e-21]\n",
      " [-1.34371154e-21]\n",
      " [-1.34389895e-21]\n",
      " [-1.34401274e-21]\n",
      " [-1.34468070e-21]\n",
      " [-1.34505558e-21]\n",
      " [-1.34441782e-21]\n",
      " [-1.32558722e-21]\n",
      " [-1.35077388e-21]]\n",
      "30 40\n",
      "[[-1.32843093e-21]\n",
      " [ 6.25000000e-04]\n",
      " [ 1.87500000e-03]\n",
      " [ 3.12500000e-03]\n",
      " [ 4.37500000e-03]\n",
      " [ 5.62500000e-03]\n",
      " [ 6.87500000e-03]\n",
      " [ 8.12500000e-03]\n",
      " [ 9.37500000e-03]\n",
      " [ 1.00000000e-02]]\n",
      "[[-1.32493569e-21]\n",
      " [-1.36442866e-21]\n",
      " [-1.34371154e-21]\n",
      " [-1.34389895e-21]\n",
      " [-1.34401274e-21]\n",
      " [-1.34468070e-21]\n",
      " [-1.34505558e-21]\n",
      " [-1.34441782e-21]\n",
      " [-1.32558722e-21]\n",
      " [-1.35077388e-21]]\n",
      "40 50\n",
      "[[-1.32843093e-21]\n",
      " [ 6.25000000e-04]\n",
      " [ 1.87500000e-03]\n",
      " [ 3.12500000e-03]\n",
      " [ 4.37500000e-03]\n",
      " [ 5.62500000e-03]\n",
      " [ 6.87500000e-03]\n",
      " [ 8.12500000e-03]\n",
      " [ 9.37500000e-03]\n",
      " [ 1.00000000e-02]]\n",
      "[[-1.32493569e-21]\n",
      " [-1.36442866e-21]\n",
      " [-1.34371154e-21]\n",
      " [-1.34389895e-21]\n",
      " [-1.34401274e-21]\n",
      " [-1.34468070e-21]\n",
      " [-1.34505558e-21]\n",
      " [-1.34441782e-21]\n",
      " [-1.32558722e-21]\n",
      " [-1.35077388e-21]]\n",
      "50 60\n",
      "[[-1.32843093e-21]\n",
      " [ 6.25000000e-04]\n",
      " [ 1.87500000e-03]\n",
      " [ 3.12500000e-03]\n",
      " [ 4.37500000e-03]\n",
      " [ 5.62500000e-03]\n",
      " [ 6.87500000e-03]\n",
      " [ 8.12500000e-03]\n",
      " [ 9.37500000e-03]\n",
      " [ 1.00000000e-02]]\n",
      "[[-1.32493569e-21]\n",
      " [-1.36442866e-21]\n",
      " [-1.34371154e-21]\n",
      " [-1.34389895e-21]\n",
      " [-1.34401274e-21]\n",
      " [-1.34468070e-21]\n",
      " [-1.34505558e-21]\n",
      " [-1.34441782e-21]\n",
      " [-1.32558722e-21]\n",
      " [-1.35077388e-21]]\n",
      "60 70\n",
      "[[-1.32843093e-21]\n",
      " [ 6.25000000e-04]\n",
      " [ 1.87500000e-03]\n",
      " [ 3.12500000e-03]\n",
      " [ 4.37500000e-03]\n",
      " [ 5.62500000e-03]\n",
      " [ 6.87500000e-03]\n",
      " [ 8.12500000e-03]\n",
      " [ 9.37500000e-03]\n",
      " [ 1.00000000e-02]]\n",
      "[[-1.32493569e-21]\n",
      " [-1.36442866e-21]\n",
      " [-1.34371154e-21]\n",
      " [-1.34389895e-21]\n",
      " [-1.34401274e-21]\n",
      " [-1.34468070e-21]\n",
      " [-1.34505558e-21]\n",
      " [-1.34441782e-21]\n",
      " [-1.32558722e-21]\n",
      " [-1.35077388e-21]]\n",
      "70 80\n",
      "[[-1.32843093e-21]\n",
      " [ 6.25000000e-04]\n",
      " [ 1.87500000e-03]\n",
      " [ 3.12500000e-03]\n",
      " [ 4.37500000e-03]\n",
      " [ 5.62500000e-03]\n",
      " [ 6.87500000e-03]\n",
      " [ 8.12500000e-03]\n",
      " [ 9.37500000e-03]\n",
      " [ 1.00000000e-02]]\n",
      "[[-1.32493569e-21]\n",
      " [-1.36442866e-21]\n",
      " [-1.34371154e-21]\n",
      " [-1.34389895e-21]\n",
      " [-1.34401274e-21]\n",
      " [-1.34468070e-21]\n",
      " [-1.34505558e-21]\n",
      " [-1.34441782e-21]\n",
      " [-1.32558722e-21]\n",
      " [-1.35077388e-21]]\n",
      "80 90\n",
      "[[-1.32843093e-21]\n",
      " [ 6.25000000e-04]\n",
      " [ 1.87500000e-03]\n",
      " [ 3.12500000e-03]\n",
      " [ 4.37500000e-03]\n",
      " [ 5.62500000e-03]\n",
      " [ 6.87500000e-03]\n",
      " [ 8.12500000e-03]\n",
      " [ 9.37500000e-03]\n",
      " [ 1.00000000e-02]]\n",
      "[[-1.32493569e-21]\n",
      " [-1.36442866e-21]\n",
      " [-1.34371154e-21]\n",
      " [-1.34389895e-21]\n",
      " [-1.34401274e-21]\n",
      " [-1.34468070e-21]\n",
      " [-1.34505558e-21]\n",
      " [-1.34441782e-21]\n",
      " [-1.32558722e-21]\n",
      " [-1.35077388e-21]]\n",
      "90 100\n",
      "[[-1.32843093e-21]\n",
      " [ 6.25000000e-04]\n",
      " [ 1.87500000e-03]\n",
      " [ 3.12500000e-03]\n",
      " [ 4.37500000e-03]\n",
      " [ 5.62500000e-03]\n",
      " [ 6.87500000e-03]\n",
      " [ 8.12500000e-03]\n",
      " [ 9.37500000e-03]\n",
      " [ 1.00000000e-02]]\n",
      "[[-1.32493569e-21]\n",
      " [-1.36442866e-21]\n",
      " [-1.34371154e-21]\n",
      " [-1.34389895e-21]\n",
      " [-1.34401274e-21]\n",
      " [-1.34468070e-21]\n",
      " [-1.34505558e-21]\n",
      " [-1.34441782e-21]\n",
      " [-1.32558722e-21]\n",
      " [-1.35077388e-21]]\n"
     ]
    },
    {
     "data": {
      "text/plain": [
       "array([[-1.32843093e-21],\n",
       "       [ 6.25000000e-04],\n",
       "       [ 1.87500000e-03],\n",
       "       [ 3.12500000e-03],\n",
       "       [ 4.37500000e-03],\n",
       "       [ 5.62500000e-03],\n",
       "       [ 6.87500000e-03],\n",
       "       [ 8.12500000e-03],\n",
       "       [ 9.37500000e-03],\n",
       "       [ 1.00000000e-02]])"
      ]
     },
     "execution_count": 114,
     "metadata": {},
     "output_type": "execute_result"
    },
    {
     "data": {
      "image/png": "[encoded data removed]",
      "text/plain": [
       "<Figure size 720x720 with 1 Axes>"
      ]
     },
     "metadata": {
      "needs_background": "light"
     },
     "output_type": "display_data"
    },
    {
     "data": {
      "image/png": "[encoded data removed]",
      "text/plain": [
       "<Figure size 720x720 with 1 Axes>"
      ]
     },
     "metadata": {
      "needs_background": "light"
     },
     "output_type": "display_data"
    },
    {
     "data": {
      "image/png": "[encoded data removed]",
      "text/plain": [
       "<Figure size 720x720 with 1 Axes>"
      ]
     },
     "metadata": {
      "needs_background": "light"
     },
     "output_type": "display_data"
    },
    {
     "data": {
      "image/png": "[encoded data removed]",
      "text/plain": [
       "<Figure size 720x720 with 1 Axes>"
      ]
     },
     "metadata": {
      "needs_background": "light"
     },
     "output_type": "display_data"
    },
    {
     "data": {
      "image/png": "[encoded data removed]",
      "text/plain": [
       "<Figure size 720x720 with 1 Axes>"
      ]
     },
     "metadata": {
      "needs_background": "light"
     },
     "output_type": "display_data"
    },
    {
     "data": {
      "image/png": "[encoded data removed]",
      "text/plain": [
       "<Figure size 720x720 with 1 Axes>"
      ]
     },
     "metadata": {
      "needs_background": "light"
     },
     "output_type": "display_data"
    },
    {
     "data": {
      "image/png": "[encoded data removed]",
      "text/plain": [
       "<Figure size 720x720 with 1 Axes>"
      ]
     },
     "metadata": {
      "needs_background": "light"
     },
     "output_type": "display_data"
    },
    {
     "data": {
      "image/png": "[encoded data removed]",
      "text/plain": [
       "<Figure size 720x720 with 1 Axes>"
      ]
     },
     "metadata": {
      "needs_background": "light"
     },
     "output_type": "display_data"
    },
    {
     "data": {
      "image/png": "[encoded data removed]",
      "text/plain": [
       "<Figure size 720x720 with 1 Axes>"
      ]
     },
     "metadata": {
      "needs_background": "light"
     },
     "output_type": "display_data"
    },
    {
     "data": {
      "image/png": "[encoded data removed]",
      "text/plain": [
       "<Figure size 720x720 with 1 Axes>"
      ]
     },
     "metadata": {
      "needs_background": "light"
     },
     "output_type": "display_data"
    }
   ],
   "source": [
    "for i in np.arange(0,ny+2):\n",
    "    \n",
    "    plt.figure(figsize=(10, 10))\n",
    "\n",
    "    print(str(0+(i*10)), str(10+(i*10)))\n",
    "    \n",
    "    x_values = dispx.reshape((nx+2)*(ny+2), 1)[0+(i*10):10+(i*10)] + u_new[:,0].reshape((nx+2)*(ny+2), 1)[0:10]\n",
    "\n",
    "    y_values = u_new[:,1].reshape((nx+2)*(ny+2), 1)[0:10]\n",
    "\n",
    "    plt.plot(x_values, y_values)\n",
    "    plt.title(str(i))\n",
    "\n",
    "    plt.show\n",
    "\n",
    "x_values"
   ]
  }
 ],
 "metadata": {
  "interpreter": {
   "hash": "1b2f9133931ab063f1f037caeeb0be83973bf9a3d4f21c40e4cd03e999a0b9b9"
  },
  "kernelspec": {
   "display_name": "Python 3.6.13 64-bit ('python3': conda)",
   "language": "python",
   "name": "python3"
  },
  "language_info": {
   "codemirror_mode": {
    "name": "ipython",
    "version": 3
   },
   "file_extension": ".py",
   "mimetype": "text/x-python",
   "name": "python",
   "nbconvert_exporter": "python",
   "pygments_lexer": "ipython3",
   "version": "3.9.5"
  },
  "orig_nbformat": 4
 },
 "nbformat": 4,
 "nbformat_minor": 2
}
