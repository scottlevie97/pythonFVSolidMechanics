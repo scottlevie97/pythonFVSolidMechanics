{
 "cells": [
  {
   "cell_type": "code",
   "execution_count": 53,
   "metadata": {},
   "outputs": [],
   "source": [
    "import numpy as np\n",
    "import pandas as pd\n",
    "import math\n",
    "from scipy.sparse import csr_matrix\n",
    "from scipy.sparse.linalg import spsolve\n",
    "from matplotlib import pyplot as plt\n",
    "\n",
    "def printVar (varname, var):\n",
    "\n",
    "    print(varname)\n",
    "    print(var)\n",
    "\n",
    "def saveArray (name, array): \n",
    "\n",
    "    pd.DataFrame(array).to_csv(\"savedVariables/\" + name + \".csv\", index=False, header=None)\n",
    "\n"
   ]
  },
  {
   "cell_type": "code",
   "execution_count": 54,
   "metadata": {},
   "outputs": [
    {
     "data": {
      "text/plain": [
       "False"
      ]
     },
     "execution_count": 54,
     "metadata": {},
     "output_type": "execute_result"
    }
   ],
   "source": [
    "# Set Boundary Conditions:\n",
    "class BC_settings:\n",
    "\n",
    "    left = \"fixed_displacement\"\n",
    "    right = \"traction\"\n",
    "    top = \"traction\"\n",
    "    bottom = \"traction\"\n",
    "\n",
    "    def __init__(self, edge):\n",
    "\n",
    "        if edge == \"l\":\n",
    "            if BC_settings.left == \"traction\":\n",
    "                self.traction = True\n",
    "                self.fixed_displacement = False\n",
    "            elif BC_settings.left == \"fixed_displacement\":\n",
    "                self.fixed_displacement = True\n",
    "                self.traction = False\n",
    "\n",
    "        if edge == \"r\":\n",
    "            if BC_settings.right == \"traction\":\n",
    "                self.traction = True\n",
    "                self.fixed_displacement = False\n",
    "            elif BC_settings.right == \"fixed_displacement\":\n",
    "                self.fixed_displacement = True\n",
    "                self.traction = False\n",
    "\n",
    "        if edge == \"t\":\n",
    "            if BC_settings.top == \"traction\":\n",
    "                self.traction = True\n",
    "                self.fixed_displacement = False\n",
    "            elif BC_settings.top == \"fixed_displacement\":\n",
    "                self.fixed_displacement = True\n",
    "                self.traction = False\n",
    "\n",
    "        if edge == \"b\":\n",
    "            if BC_settings.bottom == \"traction\":\n",
    "                self.traction = True\n",
    "                self.fixed_displacement = False\n",
    "            elif BC_settings.bottom == \"fixed_displacement\":\n",
    "                self.fixed_displacement = True\n",
    "                self.traction = False\n",
    "\n",
    "BC_settings(\"b\").fixed_displacement"
   ]
  },
  {
   "cell_type": "code",
   "execution_count": 55,
   "metadata": {},
   "outputs": [],
   "source": [
    "# Solve the 2D Navier-Cauchy equation using a segregated finite volume method\n",
    "\n",
    "# Define mesh geometry and boundary conditions\n",
    "\n",
    "Lx = 2 #width of domain\n",
    "Ly = .1 #height of domain\n",
    "\n",
    "fac = 1\n",
    "\n",
    "nx = 50      #number of control volumes in the x-direction\n",
    "ny = 4    #number of control volumes in the y-direction\n"
   ]
  },
  {
   "cell_type": "code",
   "execution_count": 56,
   "metadata": {},
   "outputs": [],
   "source": [
    "# Cantilever Setup \n",
    "\n",
    "tr_right_x = 0    #u boundary condition at the right boundary\n",
    "tr_right_y = - 1e6   #v boundary condition at the right boundary\n",
    "\n",
    "tr_top_x = 0    #u boundary condition at the top boundary\n",
    "tr_top_y = 0       #v boundary condition at the top boundary\n",
    "\n",
    "tr_bottom_x = 0    #u boundary condition at the bottom boundary \n",
    "tr_bottom_y = 0  #v boundary condition at the bottom boundary\n",
    "\n",
    "u_left = 0\n",
    "v_left = 0\n"
   ]
  },
  {
   "cell_type": "code",
   "execution_count": 57,
   "metadata": {},
   "outputs": [
    {
     "name": "stdout",
     "output_type": "stream",
     "text": [
      "50\n"
     ]
    }
   ],
   "source": [
    "sys.path.append(\"/home/scottlevie/newPythonSolver/pythonsolver_new/tractionBCs/Classes/\")\n",
    "\n",
    "from index_and_direction import dim\n",
    "\n",
    "print(dim().nx)"
   ]
  },
  {
   "cell_type": "code",
   "execution_count": 58,
   "metadata": {},
   "outputs": [],
   "source": [
    "from index_and_direction import index\n",
    "from index_and_direction import boundary_point_index\n",
    "from index_and_direction import cell_index\n",
    "from index_and_direction import displacement"
   ]
  },
  {
   "cell_type": "code",
   "execution_count": 59,
   "metadata": {},
   "outputs": [],
   "source": [
    "# # Define material properties\n",
    "\n",
    "# rho = 8050         #density of steel in kg/m^3\n",
    "# mu = 78*10e9       #shear modulus in Pa\n",
    "# K1 = 1.6*10e11      #bulk modulus in Pa\n",
    "\n",
    "# Lambda = K - (2/3)*mu\n",
    "\n",
    "# #print(Lambda)\n",
    "# #\n",
    "# E = mu*(2*(1+0.3))\n",
    "\n",
    "# print(E)"
   ]
  },
  {
   "cell_type": "code",
   "execution_count": 60,
   "metadata": {},
   "outputs": [
    {
     "data": {
      "text/plain": [
       "0.0"
      ]
     },
     "execution_count": 60,
     "metadata": {},
     "output_type": "execute_result"
    }
   ],
   "source": [
    "1e9 - (10**9)"
   ]
  },
  {
   "cell_type": "code",
   "execution_count": 61,
   "metadata": {},
   "outputs": [
    {
     "name": "stdout",
     "output_type": "stream",
     "text": [
      "76923076923.07692 166666666666.66666\n"
     ]
    }
   ],
   "source": [
    "# Define material properties\n",
    "\n",
    "v = 0.3\n",
    "E = 200*1e9\n",
    "rho = 8050 #density of steel in kg/m^3\n",
    "\n",
    "mu = E/(2*(1+v)) #shear modulus in Pa\n",
    "K = E/(3*(1-2*v))     #bulk modulus in Pa\n",
    "\n",
    "Lambda = K - (2/3)*mu\n",
    "\n",
    "print(mu, K)\n"
   ]
  },
  {
   "cell_type": "code",
   "execution_count": 62,
   "metadata": {},
   "outputs": [],
   "source": [
    "## Define required variables\n",
    "\n",
    "tf = 0.001           #total time in seconds\n",
    "dx = Lx/nx          #length of each control volume in the x-direction\n",
    "dy = Ly/ny          #length of each control volume in the y-direction\n",
    "dt = tf/1          #size of time steps\n",
    "Sfx = dy            #area vector x component (Area of East and West Faces)\n",
    "Sfy = dx            #area vector y component (Area of North and South Faces)\n"
   ]
  },
  {
   "cell_type": "code",
   "execution_count": 63,
   "metadata": {},
   "outputs": [],
   "source": [
    "## Define  position and time vectors\n",
    "\n",
    "t = np.array(np.arange(0,tf, dt))        #time vector (could possibly use a list)\n",
    "x = np.zeros((1,nx+2))   #position vector defining the center points of the control volumes in the x-direction.\n",
    "x[0,nx+1] = Lx\n",
    "x[0,1:nx+1] = np.arange(dx/2,Lx,dx)\n",
    "\n",
    "t = np.array(np.arange(0,tf, dt))        #time vector (could possibly use a list)\n",
    "y = np.zeros((1,ny+2))   #position vector defining the center points of the control volumes in the y-direction.\n",
    "y[0,ny+1] = Ly\n",
    "y[0,1:ny+1] = np.arange(dy/2,Ly,dy)"
   ]
  },
  {
   "cell_type": "code",
   "execution_count": 64,
   "metadata": {},
   "outputs": [],
   "source": [
    "## Define required displacement matrices and b vector\n",
    "\n",
    "u_new = np.zeros([(ny+2)*(nx+2),2])         #unknown displacements at t + 1    (Column 1 = x, Column2 = y)\n",
    "u_old = np.zeros([(ny+2)*(nx+2),2])         #displacement at time t\n",
    "u_old_old = np.zeros([(ny+2)*(nx+2),2])     #displacement at time t - 1\n",
    "\n",
    "#rhs vector\n",
    "b_x = np.zeros([(ny+2)*(nx+2),1])\n",
    "b_y = np.zeros([(ny+2)*(nx+2),1])"
   ]
  },
  {
   "cell_type": "markdown",
   "metadata": {},
   "source": [
    "## X equation:"
   ]
  },
  {
   "cell_type": "code",
   "execution_count": 65,
   "metadata": {},
   "outputs": [],
   "source": [
    "class A(index, displacement):\n",
    "\n",
    "    val = \"value that stays in class without changning with instance\"\n",
    "\n",
    "    def __init__(self, xy):\n",
    "\n",
    "        if xy == \"x\":\n",
    "\n",
    "            self.a_P = (rho*dx*dy/(dt**2))+((4*mu+2*Lambda)*Sfx)/dx + ((2*mu)*Sfy)/dy\n",
    "            self.a_N = + A.coef(xy, \"N\", \"u\")*(Sfy)/dy\n",
    "            self.a_S = - A.coef(xy, \"S\", \"u\")*(Sfy)/dy\n",
    "            self.a_E = + A.coef(xy, \"E\", \"u\")*(Sfx)/dx\n",
    "            self.a_W = - A.coef(xy, \"W\", \"u\")*(Sfx)/dx\n",
    "\n",
    "        if xy == \"y\":\n",
    "\n",
    "            self.a_P = (rho*dx*dy/(dt**2))+((4*mu+2*Lambda)*Sfy)/dy + ((2*mu)*Sfx)/dx \n",
    "            self.a_N = + A.coef(xy, \"N\", \"v\")*(Sfy)/dy\n",
    "            self.a_S = - A.coef(xy, \"S\", \"v\")*(Sfy)/dy\n",
    "            self.a_E = + A.coef(xy, \"E\", \"v\")*(Sfx)/dx\n",
    "            self.a_W = - A.coef(xy, \"W\", \"v\")*(Sfx)/dx\n",
    "\n",
    "    def createMatrix(self):\n",
    "\n",
    "        A_no_boundary = np.zeros([(ny+2)*(nx+2), (ny+2)*(nx+2)])\n",
    "        # A_no_boundary = csr_matrix(A_no_boundary)  \n",
    "\n",
    "        for j in np.arange(2, ny):     \n",
    "\n",
    "            for k in np.arange((j*(nx+2)+2), (j*(nx+2)+nx)):  \n",
    "                \n",
    "                A_no_boundary[k,k] = self.a_P\n",
    "                A_no_boundary[k,index(k).n] = -self.a_N\n",
    "                A_no_boundary[k,index(k).s] = -self.a_S\n",
    "                A_no_boundary[k, index(k).e] = -self.a_E\n",
    "                A_no_boundary[k, index(k).w] = -self.a_W\n",
    "\n",
    "        return A_no_boundary\n",
    "\n",
    "    # b temporal term\n",
    "    def b_temp(u_old, u_old_old, k, xy):\n",
    "\n",
    "        if xy == \"x\":\n",
    "            b_temporal_term = (rho/(dt**2))*( 2*(u_old[k,0])*dx*dy - u_old_old[k,0]*dx*dy)\n",
    "        if xy == \"y\":\n",
    "            b_temporal_term = (rho/(dt**2))*( 2*(u_old[k,1])*dx*dy - u_old_old[k,1]*dx*dy)\n",
    "        \n",
    "        return b_temporal_term\n",
    "    \n",
    "    def b_diff(k, xy, u_previous):\n",
    "\n",
    "        if xy == \"x\":\n",
    "            uv = \"v\"\n",
    "        if xy == \"y\":\n",
    "            uv = \"u\"\n",
    "\n",
    "        b_diffusion = (\n",
    "                                Sfy*A.coef(xy, \"N\", uv)*(\n",
    "                                    (A.corner(\"NE\", uv, u_previous, k) - A.corner(\"NW\", uv, u_previous, k))\n",
    "                                    /dx)\n",
    "                                + \n",
    "                                Sfy*A.coef(xy, \"S\", uv)*(\n",
    "                                    (A.corner(\"SE\", uv, u_previous, k) - A.corner(\"SW\", uv, u_previous, k))\n",
    "                                    /dx)\n",
    "                                +\n",
    "                                Sfx*A.coef(xy, \"E\", uv)*(\n",
    "                                    (A.corner(\"NE\", uv, u_previous, k) - A.corner(\"SE\", uv, u_previous, k))\n",
    "                                    /dy)\n",
    "                                +\n",
    "                                Sfx*A.coef(xy, \"W\", uv)*(\n",
    "                                    (A.corner(\"NW\", uv, u_previous, k) - A.corner(\"SW\", uv, u_previous, k))\n",
    "                                    /dy)\n",
    "        )\n",
    "\n",
    "        return b_diffusion\n",
    "    \n",
    "    def corner(corner_placement, uv, u_previous, k):\n",
    "        if uv == \"u\":\n",
    "            uv_i = 0\n",
    "        elif uv == \"v\":\n",
    "            uv_i = 1\n",
    "\n",
    "        disp = displacement(k, u_previous, uv_i)\n",
    "\n",
    "        if corner_placement == \"NE\":\n",
    "            return (1/4)*(disp.P + disp.NE + disp.N + disp.E)\n",
    "        if corner_placement == \"SE\":\n",
    "            return (1/4)*(disp.P + disp.SE + disp.S + disp.E)\n",
    "        if corner_placement == \"SW\":\n",
    "            return (1/4)*(disp.P + disp.SW + disp.S + disp.W)\n",
    "        if corner_placement == \"NW\":\n",
    "            return (1/4)*(disp.P + disp.NW + disp.N + disp.W)\n",
    "\n",
    "\n",
    "    \n",
    "    def coef(xy, face, uv):\n",
    "        # could have and statements\n",
    "        if xy == \"x\":\n",
    "            if face == \"N\":\n",
    "                if uv == \"u\":\n",
    "                    return mu\n",
    "                if uv == \"v\":\n",
    "                    return mu\n",
    "            if face == \"S\":\n",
    "                if uv == \"u\":\n",
    "                    return - mu\n",
    "                if uv == \"v\":\n",
    "                    return - mu\n",
    "            if face == \"E\":\n",
    "                if uv == \"u\":\n",
    "                    return 2*mu + Lambda\n",
    "                if uv == \"v\":\n",
    "                    return Lambda\n",
    "            if face == \"W\":\n",
    "                if uv == \"u\":\n",
    "                    return - (2*mu + Lambda)\n",
    "                if uv == \"v\":\n",
    "                    return - Lambda\n",
    "\n",
    "        elif xy == \"y\":\n",
    "            if face == \"N\":\n",
    "                if uv == \"u\":\n",
    "                    return Lambda\n",
    "                if uv == \"v\":\n",
    "                    return 2*mu + Lambda\n",
    "            if face == \"S\":\n",
    "                if uv == \"u\":\n",
    "                    return - Lambda\n",
    "                if uv == \"v\":\n",
    "                    return - (2*mu + Lambda)\n",
    "            if face == \"E\":\n",
    "                if uv == \"u\":\n",
    "                    return mu\n",
    "                if uv == \"v\":\n",
    "                    return mu\n",
    "            if face == \"W\":\n",
    "                if uv == \"u\":\n",
    "                    return - mu\n",
    "                if uv == \"v\":\n",
    "                    return - mu\n",
    "\n",
    "u_previous = u_new\n",
    "\n",
    "# A.b_diff(25, \"x\", u_previous)"
   ]
  },
  {
   "cell_type": "code",
   "execution_count": 66,
   "metadata": {},
   "outputs": [],
   "source": [
    "class boundaryCellTraction(A):\n",
    "\n",
    "    def __init__(self, edges, xy):\n",
    "        \n",
    "        sw_S, sw_N, sw_W, sw_E = 1, 1, 1, 1\n",
    "\n",
    "        for edge in edges:\n",
    "            if edge == \"b\": sw_S = 0\n",
    "            if edge == \"t\": sw_N = 0\n",
    "            if edge == \"l\": sw_W = 0\n",
    "            if edge == \"r\": sw_E = 0\n",
    "        \n",
    "        self.a_P = (rho*dx*dy/(dt**2)) + A(xy).a_N*sw_N + A(xy).a_S**sw_S + A(xy).a_E*sw_E + A(xy).a_W*sw_W\n",
    "        \n",
    "        self.a_N = A(xy).a_N \n",
    "        self.a_S = A(xy).a_S \n",
    "        self.a_E = A(xy).a_E \n",
    "        self.a_W = A(xy).a_W \n",
    "\n",
    "        # self.a_faces = A(xy).a_N*sw_N + A(xy).a_S*sw_S + A(xy).a_E*sw_E + A(xy).a_W*sw_W \n",
    "\n",
    "    def b_temp(u_old, u_old_old, k, xy):      \n",
    "        return A.b_temp(u_old, u_old_old, k, xy)\n",
    "    \n",
    "    def b_diff(edges, k, xy, u_previous):\n",
    "\n",
    "        if xy == \"x\":\n",
    "            uv = \"v\"\n",
    "        if xy == \"y\":\n",
    "            uv = \"u\"\n",
    "            \n",
    "        N_term =(\n",
    "                    Sfy*A.coef(xy, \"N\", uv)*(\n",
    "                    (boundaryCellTraction.corner(edges, \"NE\", uv, u_previous, k) - boundaryCellTraction.corner(edges, \"NW\", uv, u_previous, k))\n",
    "                    /dx)\n",
    "                )\n",
    "        S_term =(\n",
    "                    Sfy*A.coef(xy, \"S\", uv)*(\n",
    "                        (boundaryCellTraction.corner(edges, \"SE\", uv, u_previous, k) - boundaryCellTraction.corner(edges, \"SW\", uv, u_previous, k))\n",
    "                        /dx)\n",
    "                ) \n",
    "        E_term =(\n",
    "                    Sfx*A.coef(xy, \"E\", uv)*(\n",
    "                        (boundaryCellTraction.corner(edges, \"NE\", uv, u_previous, k) - boundaryCellTraction.corner(edges, \"SE\", uv, u_previous, k))\n",
    "                        /dy)\n",
    "                ) \n",
    "        W_term =(\n",
    "                    Sfx*A.coef(xy, \"W\", uv)*(\n",
    "                        (boundaryCellTraction.corner(edges, \"NW\", uv, u_previous, k) - boundaryCellTraction.corner(edges, \"SW\", uv, u_previous, k))\n",
    "                        /dy)\n",
    "                )\n",
    "\n",
    "        for edge in edges:\n",
    "\n",
    "            if (edge == \"b\") & (xy == \"x\") : S_term =  Sfy*tr_bottom_x  \n",
    "            if (edge == \"b\") & (xy == \"y\") : S_term =  Sfy*tr_bottom_y  \n",
    "            if (edge == \"t\") & (xy == \"x\") : N_term =  Sfy*tr_top_x  \n",
    "            if (edge == \"t\") & (xy == \"y\") : N_term =  Sfy*tr_top_y  \n",
    "            if (edge == \"l\") & (xy == \"x\") : W_term =  Sfx*tr_left_x  \n",
    "            if (edge == \"l\") & (xy == \"y\") : W_term =  Sfx*tr_left_y  \n",
    "            if (edge == \"r\") & (xy == \"x\") : E_term =  Sfx*tr_right_x  \n",
    "            if (edge == \"r\") & (xy == \"y\") : E_term =  Sfx*tr_right_y        \n",
    "\n",
    "        b_diffusion = (N_term + S_term + E_term + W_term)\n",
    "\n",
    "        return b_diffusion\n",
    "    \n",
    "    def corner(edges, corner_placement, uv, u_previous, k):\n",
    "\n",
    "        if uv == \"u\":\n",
    "            uv_i = 0\n",
    "        elif uv == \"v\":\n",
    "            uv_i = 1\n",
    "\n",
    "        disp = displacement(k, u_previous, uv_i)\n",
    "\n",
    "        if corner_placement == \"NE\":\n",
    "            corner =  (1/4)*(disp.P + disp.NE + disp.N + disp.E)\n",
    "        if corner_placement == \"SE\":\n",
    "            corner =  (1/4)*(disp.P + disp.SE + disp.S + disp.E)\n",
    "        if corner_placement == \"SW\":\n",
    "            corner =  (1/4)*(disp.P + disp.SW + disp.S + disp.W)\n",
    "        if corner_placement == \"NW\":\n",
    "            corner =  (1/4)*(disp.P + disp.NW + disp.N + disp.W)\n",
    "\n",
    "        for edge in edges:\n",
    "            if (edge == \"b\") & (corner_placement == \"SE\"):\n",
    "                corner =  (1/2)*(disp.SE + disp.S)\n",
    "            if (edge == \"b\") & (corner_placement == \"SW\"):\n",
    "                corner =  (1/2)*(disp.SW + disp.S)\n",
    "\n",
    "            if (edge == \"t\") & (corner_placement == \"NE\"):\n",
    "                corner =  (1/2)*(disp.NE + disp.N)\n",
    "            if (edge == \"t\") & (corner_placement == \"NW\"):\n",
    "                corner =  (1/2)*(disp.NW + disp.N)\n",
    "\n",
    "            if (edge == \"l\") & (corner_placement == \"NW\"):\n",
    "                corner =  (1/2)*(disp.NW + disp.W)\n",
    "            if (edge == \"l\") & (corner_placement == \"SW\"):\n",
    "                corner =  (1/2)*(disp.SW + disp.W)\n",
    "\n",
    "            if (edge == \"r\") & (corner_placement == \"NE\"):\n",
    "                corner =  (1/2)*(disp.NE + disp.E)\n",
    "            if (edge == \"r\") & (corner_placement == \"SE\"):\n",
    "                corner =  (1/2)*(disp.SE + disp.E)\n",
    "        \n",
    "        return corner\n",
    "\n",
    "# boundaryCellTraction.b_diff([\"b\", \"l\"], 14, \"x\", u_previous)\n",
    "   "
   ]
  },
  {
   "cell_type": "code",
   "execution_count": 67,
   "metadata": {},
   "outputs": [],
   "source": [
    "class boundaryPointTraction(A):\n",
    "\n",
    "    def __init__(self, edges, xy):    # The order matters for edges, bottom left corner on the bottom is : [\"b\", \"l\"]\n",
    "        \n",
    "        sw_S, sw_N, sw_W, sw_E = 0, 0, 0, 0\n",
    "\n",
    "        if edges[0] == \"b\": sw_S = 1\n",
    "        if edges[0] == \"t\": sw_N = 1\n",
    "        if edges[0] == \"l\": sw_W = 1\n",
    "        if edges[0] == \"r\": sw_E = 1\n",
    "        \n",
    "        a_P = (A(xy).a_N*sw_N + A(xy).a_S**sw_S )*2/(Sfy) + (A(xy).a_E*sw_E + A(xy).a_W*sw_W)*2/(Sfx)\n",
    "        \n",
    "        a_N = A(xy).a_N*2/(Sfy) # are terms cancel in derivation\n",
    "        a_S = A(xy).a_S*2/(Sfy)\n",
    "        a_E = A(xy).a_E*2/(Sfx)\n",
    "        a_W = A(xy).a_W*2/(Sfx)\n",
    "\n",
    "        if edges[0] == \"b\":\n",
    "            self.a_N = a_P\n",
    "            self.a_P = a_S\n",
    "        if edges[0] == \"t\":\n",
    "            self.a_S = a_P\n",
    "            self.a_P = a_N\n",
    "        if edges[0] == \"l\":\n",
    "            self.a_E = a_P\n",
    "            self.a_P = a_W\n",
    "        if edges[0] == \"r\":\n",
    "            self.a_W = a_P\n",
    "            self.a_P = a_E\n",
    "    \n",
    "    def b_diff(edges, k, xy, u_previous):\n",
    "\n",
    "        if xy == \"x\":\n",
    "            uv = \"v\"\n",
    "        if xy == \"y\":\n",
    "            uv = \"u\"\n",
    "            \n",
    "        def N_term():\n",
    "            \n",
    "            N_term =( A.coef(xy, \"N\", uv)*(\n",
    "                    (boundaryPointTraction.corner(edges, \"E\", uv, u_previous, k) - boundaryPointTraction.corner(edges, \"W\", uv, u_previous, k))\n",
    "                    /dx)\n",
    "            )\n",
    "\n",
    "            return N_term\n",
    "\n",
    "        def S_term():\n",
    "            \n",
    "            S_term =(\n",
    "                    A.coef(xy, \"S\", uv)*(\n",
    "                        (boundaryPointTraction.corner(edges, \"E\", uv, u_previous, k) - boundaryPointTraction.corner(edges, \"W\", uv, u_previous, k))\n",
    "                        /dx)\n",
    "                ) \n",
    "            return S_term\n",
    "        def E_term():\n",
    "            \n",
    "            E_term =(\n",
    "                    A.coef(xy, \"E\", uv)*(\n",
    "                        (boundaryPointTraction.corner(edges, \"N\", uv, u_previous, k) - boundaryPointTraction.corner(edges, \"S\", uv, u_previous, k))\n",
    "                        /dy)\n",
    "                ) \n",
    "            return E_term\n",
    "        def W_term():\n",
    "            \n",
    "            W_term =(\n",
    "                        A.coef(xy, \"W\", uv)*(\n",
    "                        (boundaryPointTraction.corner(edges, \"N\", uv, u_previous, k) - boundaryPointTraction.corner(edges, \"S\", uv, u_previous, k))\n",
    "                        /dy)\n",
    "                )\n",
    "                \n",
    "            return W_term\n",
    "\n",
    "        # This can be tidied up/shortened\n",
    "\n",
    "        if (edges[0] == \"b\") & (xy == \"x\") : b_diffusion =  tr_bottom_x  + N_term()\n",
    "        if (edges[0] == \"b\") & (xy == \"y\") : b_diffusion =  tr_bottom_y  + N_term()\n",
    "        if (edges[0] == \"t\") & (xy == \"x\") : b_diffusion =  tr_top_x + S_term()\n",
    "        if (edges[0] == \"t\") & (xy == \"y\") : b_diffusion =  tr_top_y + S_term()\n",
    "        if (edges[0] == \"l\") & (xy == \"x\") : b_diffusion =  tr_left_x + E_term()\n",
    "        if (edges[0] == \"l\") & (xy == \"y\") : b_diffusion =  tr_left_y + E_term()\n",
    "        if (edges[0] == \"r\") & (xy == \"x\") : b_diffusion =  tr_right_x + W_term()\n",
    "        if (edges[0] == \"r\") & (xy == \"y\") : b_diffusion =  tr_right_y + W_term()  \n",
    "\n",
    "        return b_diffusion\n",
    "    \n",
    "    def corner(edges, corner_placement, uv, u_previous, k):\n",
    "\n",
    "        if uv == \"u\":\n",
    "            uv_i = 0\n",
    "        elif uv == \"v\":\n",
    "            uv_i = 1\n",
    "\n",
    "        disp = displacement(k, u_previous, uv_i)\n",
    "\n",
    "\n",
    "        if corner_placement == \"E\":\n",
    "            corner =  (1/2)*(disp.E + disp.P)\n",
    "        if corner_placement == \"W\":\n",
    "            corner =  (1/2)*(disp.W + disp.P)\n",
    "        if  corner_placement == \"N\":\n",
    "            corner =  (1/2)*(disp.N + disp.P)\n",
    "        if  corner_placement == \"S\":\n",
    "            corner =  (1/2)*(disp.S + disp.P)\n",
    "\n",
    "        if len(edges) > 1:\n",
    "\n",
    "            if (edges[1] == \"r\") & (corner_placement == \"E\"):\n",
    "                    corner =  disp.E\n",
    "            if (edges[1] == \"l\") & (corner_placement == \"W\"):\n",
    "                    corner =  disp.W\n",
    "            if (edges[1] == \"t\") & (corner_placement == \"N\"):\n",
    "                    corner =  disp.N\n",
    "            if (edges[1] == \"b\") & (corner_placement == \"S\"):\n",
    "                    corner =  disp.S\n",
    "        \n",
    "        return corner\n",
    "# boundaryCellTraction.b_diff([\"b\", \"l\"], 14, \"x\", u_previous)\n",
    "   "
   ]
  },
  {
   "cell_type": "code",
   "execution_count": 68,
   "metadata": {},
   "outputs": [],
   "source": [
    "class boundaryCellDisplacement(A):\n",
    "\n",
    "    def __init__(self, edges, xy):\n",
    "        \n",
    "        sw_S, sw_N, sw_W, sw_E = 1, 1, 1, 1\n",
    "\n",
    "        for edge in edges:\n",
    "            if edge == \"b\": sw_S = 2\n",
    "            if edge == \"t\": sw_N = 2\n",
    "            if edge == \"l\": sw_W = 2\n",
    "            if edge == \"r\": sw_E = 2\n",
    "        \n",
    "        self.a_P = (rho*dx*dy/(dt**2)) + A(xy).a_N*sw_N + A(xy).a_S*sw_S + A(xy).a_E*sw_E + A(xy).a_W*sw_W\n",
    "        \n",
    "        self.a_N = A(xy).a_N*sw_N\n",
    "        self.a_S = A(xy).a_S*sw_S\n",
    "        self.a_E = A(xy).a_E*sw_E\n",
    "        self.a_W = A(xy).a_W*sw_W\n",
    "\n",
    "    def b_temp(u_old, u_old_old, k, xy):      \n",
    "        return A.b_temp(u_old, u_old_old, k, xy)\n",
    "    \n",
    "    def b_diff(edges, k, xy, u_previous):\n",
    "\n",
    "        if xy == \"x\":\n",
    "            uv = \"v\"\n",
    "        if xy == \"y\":\n",
    "            uv = \"u\"\n",
    "            \n",
    "        N_term =(\n",
    "                    Sfy*A.coef(xy, \"N\", uv)*(\n",
    "                    (boundaryCellDisplacement.corner(edges, \"NE\", uv, u_previous, k) - boundaryCellDisplacement.corner(edges, \"NW\", uv, u_previous, k))\n",
    "                    /dx)\n",
    "                )\n",
    "        S_term =(\n",
    "                    Sfy*A.coef(xy, \"S\", uv)*(\n",
    "                        (boundaryCellDisplacement.corner(edges, \"SE\", uv, u_previous, k) - boundaryCellDisplacement.corner(edges, \"SW\", uv, u_previous, k))\n",
    "                        /dx)\n",
    "                ) \n",
    "        E_term =(\n",
    "                    Sfx*A.coef(xy, \"E\", uv)*(\n",
    "                        (boundaryCellDisplacement.corner(edges, \"NE\", uv, u_previous, k) - boundaryCellDisplacement.corner(edges, \"SE\", uv, u_previous, k))\n",
    "                        /dy)\n",
    "                ) \n",
    "        W_term =(\n",
    "                    Sfx*A.coef(xy, \"W\", uv)*(\n",
    "                        (boundaryCellDisplacement.corner(edges, \"NW\", uv, u_previous, k) - boundaryCellDisplacement.corner(edges, \"SW\", uv, u_previous, k))\n",
    "                        /dy)\n",
    "                ) \n",
    "\n",
    "        b_diffusion = (N_term + S_term + E_term + W_term)\n",
    "\n",
    "        return b_diffusion\n",
    "    \n",
    "    def corner(edges, corner_placement, uv, u_previous, k):\n",
    "\n",
    "        if uv == \"u\":\n",
    "            uv_i = 0\n",
    "        elif uv == \"v\":\n",
    "            uv_i = 1\n",
    "\n",
    "        disp = displacement(k, u_previous, uv_i)\n",
    "\n",
    "        if corner_placement == \"NE\":\n",
    "            corner =  (1/4)*(disp.P + disp.NE + disp.N + disp.E)\n",
    "        if corner_placement == \"SE\":\n",
    "            corner =  (1/4)*(disp.P + disp.SE + disp.S + disp.E)\n",
    "        if corner_placement == \"SW\":\n",
    "            corner =  (1/4)*(disp.P + disp.SW + disp.S + disp.W)\n",
    "        if corner_placement == \"NW\":\n",
    "            corner =  (1/4)*(disp.P + disp.NW + disp.N + disp.W)\n",
    "\n",
    "        for edge in edges:\n",
    "            if (edge == \"b\") & (corner_placement == \"SE\"):\n",
    "                corner =  (1/2)*(disp.SE + disp.S)\n",
    "            if (edge == \"b\") & (corner_placement == \"SW\"):\n",
    "                corner =  (1/2)*(disp.SW + disp.S)\n",
    "\n",
    "            if (edge == \"t\") & (corner_placement == \"NE\"):\n",
    "                corner =  (1/2)*(disp.NE + disp.N)\n",
    "            if (edge == \"t\") & (corner_placement == \"NW\"):\n",
    "                corner =  (1/2)*(disp.NW + disp.N)\n",
    "\n",
    "            if (edge == \"l\") & (corner_placement == \"NW\"):\n",
    "                corner =  (1/2)*(disp.NW + disp.W)\n",
    "            if (edge == \"l\") & (corner_placement == \"SW\"):\n",
    "                corner =  (1/2)*(disp.SW + disp.W)\n",
    "\n",
    "            if (edge == \"r\") & (corner_placement == \"NE\"):\n",
    "                corner =  (1/2)*(disp.NE + disp.E)\n",
    "            if (edge == \"r\") & (corner_placement == \"SE\"):\n",
    "                corner =  (1/2)*(disp.SE + disp.E)\n",
    "\n",
    "        if len(edges) > 1:\n",
    "\n",
    "            if (edges[0] == \"b\") & (edges[1] == \"l\") & (corner_placement == \"SW\"):\n",
    "                corner = disp.SW \n",
    "            if (edges[0] == \"b\") & (edges[1] == \"r\") & (corner_placement == \"SE\"):\n",
    "                corner = disp.SE\n",
    "            if (edges[0] == \"t\") & (edges[1] == \"l\") & (corner_placement == \"NW\"):\n",
    "                corner = disp.NW\n",
    "            if (edges[0] == \"t\") & (edges[1] == \"r\") & (corner_placement == \"NE\"):\n",
    "                corner = disp.NE\n",
    "\n",
    "        \n",
    "        return corner\n",
    "\n",
    "# boundaryCellDisplacement.b_diff([\"b\", \"l\"], 14, \"x\", u_previous)\n",
    "\n",
    "\n"
   ]
  },
  {
   "cell_type": "code",
   "execution_count": 69,
   "metadata": {},
   "outputs": [],
   "source": [
    "def traction_cell_BCs(A_matrix, b_matrix, k, edges, xy, u_old, u_old_old, u_previous):\n",
    "\n",
    "    A_matrix[k,k] = boundaryCellTraction(edges, xy).a_P\n",
    "\n",
    "    b_matrix[k] =(\n",
    "                    boundaryCellTraction.b_temp(u_old, u_old_old, k, xy)\n",
    "                    +\n",
    "                    boundaryCellTraction.b_diff(edges, k, xy, u_previous)  \n",
    "                )\n",
    "    for edge in edges:\n",
    "        if edge == \"b\":\n",
    "            #an\n",
    "            A_matrix[k,index(k).n] = - boundaryCellTraction(edges, xy).a_N\n",
    "\n",
    "        if edge == \"t\":\n",
    "            #as\n",
    "            A_matrix[k,index(k).s] = - boundaryCellTraction(edges, xy).a_S\n",
    "\n",
    "        if edge == \"l\":\n",
    "            #ae\n",
    "            A_matrix[k,index(k).e] = - boundaryCellTraction(edges, xy).a_E\n",
    "\n",
    "        if edge == \"r\":\n",
    "            #aw\n",
    "            A_matrix[k,index(k).w] = - boundaryCellTraction(edges, xy).a_W           \n",
    "\n",
    "    if len(edges) == 1:\n",
    "\n",
    "        if (edges[0] == \"b\") | (edges[0] == \"t\") :\n",
    "            #ae\n",
    "            A_matrix[k, index(k).e] = - boundaryCellTraction(edges, xy).a_E\n",
    "            #aw\n",
    "            A_matrix[k, index(k).w] = - boundaryCellTraction(edges, xy).a_W\n",
    "\n",
    "        if (edges[0] == \"l\") | (edges[0] == \"r\") :\n",
    "            #an\n",
    "            A_matrix[k,index(k).n] = - boundaryCellTraction(edges, xy).a_N            \n",
    "            #as\n",
    "            A_matrix[k,index(k).s] = - boundaryCellTraction(edges, xy).a_S\n",
    "\n",
    "    return A_matrix, b_matrix"
   ]
  },
  {
   "cell_type": "code",
   "execution_count": 70,
   "metadata": {},
   "outputs": [],
   "source": [
    "def traction_point_BCs(A_matrix, b_matrix, k, edges, xy, u_previous):\n",
    "    \n",
    "    #ap\n",
    "    A_matrix[k,k] = boundaryPointTraction(edges, xy).a_P\n",
    "    #b\n",
    "    b_matrix[k] =boundaryPointTraction.b_diff(edges, k, xy, u_previous)\n",
    "\n",
    "    if edges[0] == \"b\":\n",
    "        #an\n",
    "        A_matrix[k,index(k).n] = - boundaryPointTraction(edges, xy).a_N\n",
    "    if edges[0] == \"t\":\n",
    "        #as\n",
    "        A_matrix[k,index(k).s] = - boundaryPointTraction(edges, xy).a_S\n",
    "    if edges[0] == \"l\":\n",
    "        #ae\n",
    "        A_matrix[k, index(k).e] = - boundaryPointTraction(edges, xy).a_E\n",
    "    if edges[0] == \"r\":\n",
    "        #aw\n",
    "        A_matrix[k, index(k).w] = -  boundaryPointTraction(edges, xy).a_W\n",
    "\n",
    "    return A_matrix, b_matrix"
   ]
  },
  {
   "cell_type": "code",
   "execution_count": 71,
   "metadata": {},
   "outputs": [],
   "source": [
    "class edge_U:\n",
    "\n",
    "    def __init__(self, edges, xy):\n",
    "\n",
    "        if xy == \"x\":\n",
    "            if edges[0] == \"b\":\n",
    "                if BC_settings(edges[0]).fixed_displacement:\n",
    "                    self.BC = u_bottom\n",
    "            if edges[0] == \"t\":\n",
    "                if BC_settings(edges[0]).fixed_displacement:\n",
    "                    self.BC = u_top\n",
    "            if edges[0] == \"l\":\n",
    "                if BC_settings(edges[0]).fixed_displacement:\n",
    "                    self.BC = u_left\n",
    "            if edges[0] == \"r\":\n",
    "                if BC_settings(edges[0]).fixed_displacement:\n",
    "                    self.BC = u_right\n",
    "\n",
    "        if xy == \"y\":\n",
    "            if edges[0] == \"b\":\n",
    "                if BC_settings(edges[0]).fixed_displacement:\n",
    "                    self.BC = v_bottom\n",
    "            if edges[0] == \"t\":\n",
    "                if BC_settings(edges[0]).fixed_displacement:\n",
    "                    self.BC = v_top\n",
    "            if edges[0] == \"l\":\n",
    "                if BC_settings(edges[0]).fixed_displacement:\n",
    "                    self.BC = v_left\n",
    "            if edges[0] == \"r\":\n",
    "                if BC_settings(edges[0]).fixed_displacement:\n",
    "                    self.BC = v_right"
   ]
  },
  {
   "cell_type": "code",
   "execution_count": 72,
   "metadata": {},
   "outputs": [],
   "source": [
    "def displacement_cell_BCs(A_matrix, b_matrix, k, edges, xy, u_old, u_old_old, u_previous):\n",
    "\n",
    "    A_matrix[k,k] = boundaryCellDisplacement(edges, xy).a_P\n",
    "    #an\n",
    "    A_matrix[k,index(k).n] = - boundaryCellDisplacement(edges, xy).a_N        \n",
    "    #as\n",
    "    A_matrix[k,index(k).s] = - boundaryCellDisplacement(edges, xy).a_S   \n",
    "    #ae\n",
    "    A_matrix[k, index(k).e] = - boundaryCellDisplacement(edges, xy).a_E\n",
    "    #aw\n",
    "    A_matrix[k, index(k).w] = - boundaryCellDisplacement(edges, xy).a_W\n",
    "\n",
    "    b_matrix[k] =(\n",
    "                boundaryCellDisplacement.b_temp(u_old, u_old_old, k, xy)\n",
    "                +\n",
    "                boundaryCellDisplacement.b_diff(edges, k, xy, u_previous)\n",
    "            )   \n",
    "\n",
    "    return A_matrix, b_matrix\n",
    "\n",
    "def displacement_point_BCs(A_matrix, b_matrix, k, edges, xy):\n",
    "    \n",
    "    A_matrix[k,k] = 1e10\n",
    "    b_matrix[k] = edge_U(edges, xy).BC*1e10\n",
    "\n",
    "    return A_matrix, b_matrix"
   ]
  },
  {
   "cell_type": "code",
   "execution_count": 73,
   "metadata": {},
   "outputs": [],
   "source": [
    "def boundary_conditions(A_matrix, b_matrix, u_previous, u_old, u_old_old, xy):\n",
    "    for k in np.arange(0,(nx+2)*(ny+2)):   # j is the cell number\n",
    "\n",
    "        U = displacement(k, u_previous, 0)\n",
    "        V = displacement(k, u_previous, 1)\n",
    "\n",
    "        #Bottom left corner coefficients        \n",
    "        if cell_index().bottom_left_corner(k):  \n",
    "            edges = [\"b\", \"l\"]\n",
    "            \n",
    "            if BC_settings(edges[1]).traction:\n",
    "                A_matrix, b_matrix = traction_cell_BCs(A_matrix, b_matrix, k, edges, xy, u_old, u_old_old, u_previous)\n",
    "            \n",
    "            elif BC_settings(edges[1]).fixed_displacement:\n",
    "                A_matrix, b_matrix = displacement_cell_BCs(A_matrix, b_matrix, k, edges, xy, u_old, u_old_old, u_previous)\n",
    "\n",
    "        #Bottom right corner coefficients            \n",
    "        elif  cell_index().bottom_right_corner(k):\n",
    "            edges = [\"b\", \"r\"]\n",
    "            \n",
    "            if BC_settings(edges[1]).traction:\n",
    "                A_matrix, b_matrix = traction_cell_BCs(A_matrix, b_matrix, k, edges, xy, u_old, u_old_old, u_previous)\n",
    "\n",
    "            elif BC_settings(edges[1]).fixed_displacement:\n",
    "                A_matrix, b_matrix = displacement_cell_BCs(A_matrix, b_matrix, k, edges, xy, u_old, u_old_old, u_previous)\n",
    "\n",
    "        #Top left corner coefficients            \n",
    "        elif  cell_index().top_left_corner(k):\n",
    "            edges = [\"t\", \"l\"]\n",
    "        \n",
    "            if BC_settings(edges[1]).traction:\n",
    "                A_matrix, b_matrix = traction_cell_BCs(A_matrix, b_matrix, k, edges, xy, u_old, u_old_old, u_previous)\n",
    "\n",
    "            elif BC_settings(edges[1]).fixed_displacement:\n",
    "                A_matrix, b_matrix = displacement_cell_BCs(A_matrix, b_matrix, k, edges, xy, u_old, u_old_old, u_previous)\n",
    "\n",
    "        #Top right corner coefficients            \n",
    "        elif  cell_index().top_right_corner(k):  \n",
    "            edges = [\"t\", \"r\"]\n",
    "            \n",
    "            if BC_settings(edges[1]).traction:\n",
    "                A_matrix, b_matrix = traction_cell_BCs(A_matrix, b_matrix, k, edges, xy, u_old, u_old_old, u_previous)\n",
    "\n",
    "            elif BC_settings(edges[1]).fixed_displacement:\n",
    "                A_matrix, b_matrix = displacement_cell_BCs(A_matrix, b_matrix, k, edges, xy, u_old, u_old_old, u_previous)\n",
    "\n",
    "        # Center Bottom Boundaries\n",
    "        elif  cell_index().center_bottom(k):\n",
    "            edges = [\"b\"]\n",
    "\n",
    "            if BC_settings(edges[0]).traction:\n",
    "                A_matrix, b_matrix = traction_cell_BCs(A_matrix, b_matrix, k, edges, xy, u_old, u_old_old, u_previous)\n",
    "\n",
    "            elif BC_settings(edges[0]).fixed_displacement:\n",
    "                A_matrix, b_matrix = displacement_cell_BCs(A_matrix, b_matrix, k, edges, xy, u_old, u_old_old, u_previous)\n",
    "\n",
    "        # Center Top Boundaries\n",
    "        elif cell_index().center_top(k):\n",
    "            edges = [\"t\"]\n",
    "\n",
    "            if BC_settings(edges[0]).traction:\n",
    "                A_matrix, b_matrix = traction_cell_BCs(A_matrix, b_matrix, k, edges, xy, u_old, u_old_old, u_previous)\n",
    "\n",
    "            elif BC_settings(edges[0]).fixed_displacement:\n",
    "                A_matrix, b_matrix = displacement_cell_BCs(A_matrix, b_matrix, k, edges, xy, u_old, u_old_old, u_previous)\n",
    "\n",
    "        # Center Left Boundaries\n",
    "        elif  cell_index().center_left(k):\n",
    "            edges = [\"l\"]\n",
    "\n",
    "            if BC_settings(edges[0]).traction:\n",
    "                A_matrix, b_matrix = traction_cell_BCs(A_matrix, b_matrix, k, edges, xy, u_old, u_old_old, u_previous)\n",
    "\n",
    "            elif BC_settings(edges[0]).fixed_displacement:\n",
    "                A_matrix, b_matrix = displacement_cell_BCs(A_matrix, b_matrix, k, edges, xy, u_old, u_old_old, u_previous)\n",
    "\n",
    "        # Center Right Boundaries\n",
    "        elif  cell_index().center_right(k):\n",
    "            edges = [\"r\"]\n",
    "\n",
    "            if BC_settings(edges[0]).traction:\n",
    "                A_matrix, b_matrix = traction_cell_BCs(A_matrix, b_matrix, k, edges, xy, u_old, u_old_old, u_previous)\n",
    "\n",
    "            elif BC_settings(edges[0]).fixed_displacement:\n",
    "                A_matrix, b_matrix = displacement_cell_BCs(A_matrix, b_matrix, k, edges, xy, u_old, u_old_old, u_previous)\n",
    "\n",
    "        #### Points on Boundary ####\n",
    "\n",
    "        # Center Bottom\n",
    "        elif boundary_point_index().center_bottom(k):\n",
    "            edges = [\"b\"]\n",
    "\n",
    "            if BC_settings(edges[0]).traction:\n",
    "                A_matrix, b_matrix = traction_point_BCs(A_matrix, b_matrix, k, edges, xy, u_previous)\n",
    "\n",
    "            elif BC_settings(edges[0]).fixed_displacement:\n",
    "                A_matrix, b_matrix = displacement_point_BCs(A_matrix, b_matrix, k, edges, xy)\n",
    "\n",
    "        # Center Top\n",
    "        elif boundary_point_index().center_top(k):\n",
    "            edges = [\"t\"]\n",
    "\n",
    "            if BC_settings(edges[0]).traction:\n",
    "                A_matrix, b_matrix = traction_point_BCs(A_matrix, b_matrix, k, edges, xy, u_previous)\n",
    "\n",
    "            elif BC_settings(edges[0]).fixed_displacement:\n",
    "                A_matrix, b_matrix = displacement_point_BCs(A_matrix, b_matrix, k, edges, xy)\n",
    "            \n",
    "        # Center Left\n",
    "        elif boundary_point_index().center_left(k):\n",
    "            edges = [\"l\"]\n",
    "\n",
    "            if BC_settings(edges[0]).traction:\n",
    "                A_matrix, b_matrix = traction_point_BCs(A_matrix, b_matrix, k, edges, xy, u_previous)\n",
    "\n",
    "            elif BC_settings(edges[0]).fixed_displacement:\n",
    "                A_matrix, b_matrix = displacement_point_BCs(A_matrix, b_matrix, k, edges, xy)\n",
    "\n",
    "        # Center Right\n",
    "        elif boundary_point_index().center_right(k):\n",
    "            edges = [\"r\"]\n",
    "\n",
    "            if BC_settings(edges[0]).traction:\n",
    "                A_matrix, b_matrix = traction_point_BCs(A_matrix, b_matrix, k, edges, xy, u_previous)\n",
    "\n",
    "            elif BC_settings(edges[0]).fixed_displacement:\n",
    "                A_matrix, b_matrix = displacement_point_BCs(A_matrix, b_matrix, k, edges, xy)\n",
    "\n",
    "        # Bottom Left: Bottom\n",
    "        elif boundary_point_index().bottom_left_bottom(k):\n",
    "            edges = [\"b\", \"l\"]\n",
    "\n",
    "            if BC_settings(edges[0]).traction:\n",
    "                A_matrix, b_matrix = traction_point_BCs(A_matrix, b_matrix, k, edges, xy, u_previous) \n",
    "\n",
    "            elif BC_settings(edges[0]).fixed_displacement:\n",
    "                A_matrix, b_matrix = displacement_point_BCs(A_matrix, b_matrix, k, edges, xy)\n",
    "\n",
    "        # Bottom Left: Left\n",
    "        elif boundary_point_index().bottom_left_left(k):\n",
    "            edges = [\"l\", \"b\"]\n",
    "            \n",
    "            if BC_settings(edges[0]).traction:\n",
    "                A_matrix, b_matrix = traction_point_BCs(A_matrix, b_matrix, k, edges, xy, u_previous)\n",
    "\n",
    "            elif BC_settings(edges[0]).fixed_displacement:\n",
    "                A_matrix, b_matrix = displacement_point_BCs(A_matrix, b_matrix, k, edges, xy)\n",
    "            \n",
    "        # Bottom Right: Right\n",
    "        elif boundary_point_index().bottom_right_right(k):\n",
    "            edges = [\"r\", \"b\"]\n",
    "\n",
    "            if BC_settings(edges[0]).traction:\n",
    "                A_matrix, b_matrix = traction_point_BCs(A_matrix, b_matrix, k, edges, xy, u_previous)\n",
    "\n",
    "            elif BC_settings(edges[0]).fixed_displacement:\n",
    "                A_matrix, b_matrix = displacement_point_BCs(A_matrix, b_matrix, k, edges, xy)\n",
    "\n",
    "        # Bottom Right: Bottom\n",
    "        elif boundary_point_index().bottom_right_bottom(k):\n",
    "            edges = [\"b\", \"r\"]\n",
    "\n",
    "            if BC_settings(edges[0]).traction:\n",
    "                A_matrix, b_matrix = traction_point_BCs(A_matrix, b_matrix, k, edges, xy, u_previous) \n",
    "\n",
    "            elif BC_settings(edges[0]).fixed_displacement:\n",
    "                A_matrix, b_matrix = displacement_point_BCs(A_matrix, b_matrix, k, edges, xy)\n",
    "\n",
    "        # Top Left: Left\n",
    "        elif boundary_point_index().top_left_left(k):\n",
    "            edges = [\"l\", \"t\"]\n",
    "\n",
    "            if BC_settings(edges[0]).traction:\n",
    "                A_matrix, b_matrix = traction_point_BCs(A_matrix, b_matrix, k, edges, xy, u_previous)\n",
    "\n",
    "            elif BC_settings(edges[0]).fixed_displacement:\n",
    "                A_matrix, b_matrix = displacement_point_BCs(A_matrix, b_matrix, k, edges, xy)\n",
    "\n",
    "        # Top Left: Top\n",
    "        elif boundary_point_index().top_left_top(k):\n",
    "            edges = [\"t\", \"l\"]\n",
    "\n",
    "            if BC_settings(edges[0]).traction:  \n",
    "                A_matrix, b_matrix = traction_point_BCs(A_matrix, b_matrix, k, edges, xy, u_previous)\n",
    "\n",
    "            elif BC_settings(edges[0]).fixed_displacement:\n",
    "                A_matrix, b_matrix = displacement_point_BCs(A_matrix, b_matrix, k, edges, xy)\n",
    "\n",
    "        # Top Right: Right\n",
    "        elif boundary_point_index().top_right_right(k):\n",
    "            edges = [\"r\", \"t\"]\n",
    "\n",
    "            if BC_settings(edges[0]).traction:  \n",
    "                A_matrix, b_matrix = traction_point_BCs(A_matrix, b_matrix, k, edges, xy, u_previous)\n",
    "\n",
    "            elif BC_settings(edges[0]).fixed_displacement:\n",
    "                A_matrix, b_matrix = displacement_point_BCs(A_matrix, b_matrix, k, edges, xy)\n",
    "\n",
    "        # Top Right: Top        \n",
    "        elif boundary_point_index().top_right_top(k):\n",
    "            edges = [\"t\", \"r\"]\n",
    "\n",
    "            if BC_settings(edges[0]).traction:  \n",
    "                A_matrix, b_matrix = traction_point_BCs(A_matrix, b_matrix, k, edges, xy, u_previous)\n",
    "\n",
    "            elif BC_settings(edges[0]).fixed_displacement:\n",
    "                A_matrix, b_matrix = displacement_point_BCs(A_matrix, b_matrix, k, edges, xy)\n",
    "\n",
    "        # # Corner Points\n",
    "\n",
    "        # If on of the edges uses fixed displacement this BC is used, if both edges use traction an interpolation is used\n",
    "\n",
    "        elif boundary_point_index().bottom_left_corner(k):\n",
    "\n",
    "            edges = [\"b\", \"l\"]\n",
    "\n",
    "            #print(str(k) + \": Bottom Left Corner Point on Boundary\")\n",
    "                    \n",
    "            if BC_settings(edges[0]).fixed_displacement | BC_settings(edges[1]).fixed_displacement:\n",
    "                for i in [0,1]:                 \n",
    "                    if BC_settings(edges[i]).fixed_displacement:\n",
    "                        edges = [edges[i]]\n",
    "                        A_matrix, b_matrix = displacement_point_BCs(A_matrix, b_matrix, k, edges, xy)\n",
    "            else: \n",
    "                A_matrix[k,k] = 4*fac\n",
    "\n",
    "                A_matrix[k,index(k).n] = 2*fac\n",
    "                A_matrix[k,index(k).e] = 2*fac\n",
    "\n",
    "                A_matrix[k,index(k).ne] = -15*fac\n",
    "\n",
    "                A_matrix[k,index(k).dir([\"n\", \"n\"])] = 2*fac \n",
    "                A_matrix[k,index(k).dir([\"e\", \"e\"])] = 2*fac\n",
    "\n",
    "                A_matrix[k,index(k).dir([\"n\", \"ne\"])] = 1*fac\n",
    "                A_matrix[k,index(k).dir([\"ne\", \"ne\"])] = 1*fac\n",
    "                A_matrix[k,index(k).dir([\"e\", \"ne\"])] = 1*fac\n",
    "\n",
    "                b_matrix[k] = 0\n",
    "\n",
    "            # edges = [\"l\"]\n",
    "\n",
    "            # A_matrix, b_matrix = displacement_point_BCs(A_matrix, b_matrix, k, edges, xy)\n",
    "\n",
    "        elif boundary_point_index().bottom_right_corner(k):\n",
    "            edges = [\"b\", \"r\"]\n",
    "            \n",
    "            if BC_settings(edges[0]).fixed_displacement | BC_settings(edges[1]).fixed_displacement:\n",
    "                for i in [0,1]:                 \n",
    "                    if BC_settings(edges[i]).fixed_displacement:\n",
    "                        edges = [edges[i]]\n",
    "                        A_matrix, b_matrix = displacement_point_BCs(A_matrix, b_matrix, k, edges, xy)\n",
    "            else: \n",
    "                A_matrix[k,k] = 4*fac\n",
    "\n",
    "                A_matrix[k,index(k).n] = 2 *fac\n",
    "                A_matrix[k,index(k).w] = 2*fac\n",
    "\n",
    "                A_matrix[k,index(k).nw] = -15*fac\n",
    "\n",
    "                A_matrix[k,index(k).dir([\"n\", \"n\"])] = 2 *fac\n",
    "                A_matrix[k,index(k).dir([\"w\", \"w\"])] = 2*fac\n",
    "\n",
    "                A_matrix[k,index(k).dir([\"n\", \"nw\"])] = 1*fac\n",
    "                A_matrix[k,index(k).dir([\"nw\", \"nw\"])] = 1*fac\n",
    "                A_matrix[k,index(k).dir([\"w\", \"nw\"])] = 1*fac\n",
    "\n",
    "                b_matrix[k] = 0\n",
    "\n",
    "        elif boundary_point_index().top_left_corner(k):\n",
    "\n",
    "            edges = [\"t\", \"l\"]\n",
    "            \n",
    "            if BC_settings(edges[0]).fixed_displacement | BC_settings(edges[1]).fixed_displacement:\n",
    "                for i in [0,1]:                 \n",
    "                    if BC_settings(edges[i]).fixed_displacement:\n",
    "                        edges = [edges[i]]\n",
    "                        A_matrix, b_matrix = displacement_point_BCs(A_matrix, b_matrix, k, edges, xy)\n",
    "            else: \n",
    "                A_matrix[k,k] = 4*fac\n",
    "\n",
    "                A_matrix[k,index(k).s] = 2 *fac\n",
    "                A_matrix[k,index(k).e] = 2*fac\n",
    "\n",
    "                A_matrix[k,index(k).se] = -15*fac\n",
    "\n",
    "                A_matrix[k,index(k).dir([\"s\", \"s\"])] = 2 *fac\n",
    "                A_matrix[k,index(k).dir([\"e\", \"e\"])] = 2*fac\n",
    "\n",
    "                A_matrix[k,index(k).dir([\"s\", \"se\"])] = 1*fac\n",
    "                A_matrix[k,index(k).dir([\"se\", \"se\"])] = 1*fac\n",
    "                A_matrix[k,index(k).dir([\"e\", \"se\"])] = 1*fac\n",
    "\n",
    "                b_matrix[k] = 0\n",
    "\n",
    "        elif boundary_point_index().top_right_corner(k):\n",
    "\n",
    "            edges = [\"t\", \"r\"]\n",
    "            \n",
    "            if BC_settings(edges[0]).fixed_displacement | BC_settings(edges[1]).fixed_displacement:\n",
    "                for i in [0,1]:                 \n",
    "                    if BC_settings(edges[i]).fixed_displacement:\n",
    "                        edges = [edges[i]]\n",
    "                        A_matrix, b_matrix = displacement_point_BCs(A_matrix, b_matrix, k, edges, xy)\n",
    "            else: \n",
    "                A_matrix[k,k] = 4*fac\n",
    "\n",
    "                A_matrix[k,index(k).s] = 2 *fac\n",
    "                A_matrix[k,index(k).w] = 2*fac\n",
    "\n",
    "                A_matrix[k,index(k).sw] = -15*fac\n",
    "\n",
    "                A_matrix[k,index(k).dir([\"s\", \"s\"])] = 2 *fac\n",
    "                A_matrix[k,index(k).dir([\"w\", \"w\"])] = 2*fac\n",
    "\n",
    "                A_matrix[k,index(k).dir([\"s\", \"sw\"])] = 1*fac\n",
    "                A_matrix[k,index(k).dir([\"sw\", \"sw\"])] = 1*fac\n",
    "                A_matrix[k,index(k).dir([\"w\", \"sw\"])] = 1*fac\n",
    "\n",
    "                b_matrix[k] = 0      \n",
    "            # # \n",
    "            \n",
    "            # edges = [\"l\"]\n",
    "\n",
    "            # A_matrix[k,k] = 1\n",
    "            # b_matrix[k] = edge_U(edges, xy).BC  \n",
    "\n",
    "        else:\n",
    "\n",
    "            #print(str(k) + \": NO BC Cell\")\n",
    "\n",
    "            b_matrix[k] = (\n",
    "                            A.b_temp(u_old, u_old_old, k, xy)\n",
    "                            +\n",
    "                            A.b_diff(k, xy, u_previous)\n",
    "                        )\n",
    "\n",
    "    return A_matrix, b_matrix\n"
   ]
  },
  {
   "cell_type": "code",
   "execution_count": 74,
   "metadata": {},
   "outputs": [
    {
     "name": "stdout",
     "output_type": "stream",
     "text": [
      "\n",
      "Time = 0.0\n",
      "icorr = 100, Residual = 0.00305446793740909908, normFactor = 0.00002183519398405018, moving average = 18990754766524.37500000000000000000, time = 0.00000\n",
      "icorr = 200, Residual = 0.00091307838058117617, normFactor = 0.00003114446331298601, moving average = 0.00776679281214989314, time = 0.00000\n",
      "icorr = 300, Residual = 0.00034541030692793743, normFactor = 0.00003514513093697506, moving average = 0.00257266917756608258, time = 0.00000\n",
      "icorr = 400, Residual = 0.00014058399540396193, normFactor = 0.00003685590963355542, moving average = 0.00100610308463792921, time = 0.00000\n",
      "icorr = 500, Residual = 0.00005883485044001807, normFactor = 0.00003758635972744137, moving average = 0.00041490902602469068, time = 0.00000\n",
      "icorr = 600, Residual = 0.00002490374162622850, normFactor = 0.00003789813600829396, moving average = 0.00017459394491688761, time = 0.00000\n",
      "icorr = 700, Residual = 0.00001059153883839118, normFactor = 0.00003803120186135711, moving average = 0.00007407386834661523, time = 0.00000\n",
      "icorr = 800, Residual = 0.00000451364614653417, normFactor = 0.00003808799350827033, moving average = 0.00003153460843080611, time = 0.00000\n",
      "icorr = 900, Residual = 0.00000192516376649833, normFactor = 0.00003811223175399544, moving average = 0.00001344430417568448, time = 0.00000\n",
      "icorr = 1000, Residual = 0.00000082142187848734, normFactor = 0.00003812257644887968, moving average = 0.00000573530256373728, time = 0.00000\n",
      "icorr = 1100, Residual = 0.00000035053583422543, normFactor = 0.00003812699148381473, moving average = 0.00000244730521214646, time = 0.00000\n",
      "icorr = 1200, Residual = 0.00000014959855770772, normFactor = 0.00003812887578618930, moving average = 0.00000104440385363370, time = 0.00000\n",
      "icorr = 1300, Residual = 0.00000006384614715688, normFactor = 0.00003812967999170261, moving average = 0.00000044572757315550, time = 0.00000\n",
      "icorr = 1400, Residual = 0.00000002724879096754, normFactor = 0.00003813002322031845, moving average = 0.00000019023015936549, time = 0.00000\n",
      "icorr = 1500, Residual = 0.00000001162952598712, normFactor = 0.00003813016970760684, moving average = 0.00000008118821861411, time = 0.00000\n",
      "icorr = 1600, Residual = 0.00000000496338274223, normFactor = 0.00003813023222723266, moving average = 0.00000003465040077278, time = 0.00000\n",
      "icorr = 1700, Residual = 0.00000000211833120828, normFactor = 0.00003813025891012624, moving average = 0.00000001478850254462, time = 0.00000\n",
      "icorr = 1800, Residual = 0.00000000090408684846, normFactor = 0.00003813027029817033, moving average = 0.00000000631161396642, time = 0.00000\n",
      "icorr = 1900, Residual = 0.00000000038585706290, normFactor = 0.00003813027515850062, moving average = 0.00000000269374695812, time = 0.00000\n",
      "icorr = 2000, Residual = 0.00000000016468095638, normFactor = 0.00003813027723285917, moving average = 0.00000000114966994266, time = 0.00000\n",
      "icorr = 2100, Residual = 0.00000000007028444592, normFactor = 0.00003813027811816071, moving average = 0.00000000049067023385, time = 0.00000\n",
      "icorr = 2200, Residual = 0.00000000002999693849, normFactor = 0.00003813027849601756, moving average = 0.00000000020941410293, time = 0.00000\n",
      "icorr = 2300, Residual = 0.00000000001280226525, normFactor = 0.00003813027865727767, moving average = 0.00000000008937629373, time = 0.00000\n",
      "icorr = 2400, Residual = 0.00000000000546411354, normFactor = 0.00003813027872609792, moving average = 0.00000000003814513224, time = 0.00000\n",
      "icorr = 2500, Residual = 0.00000000000233383961, normFactor = 0.00003813027875548054, moving average = 0.00000000001628032408, time = 0.00000\n",
      "icorr = 2600, Residual = 0.00000000000099575314, normFactor = 0.00003813027876801638, moving average = 0.00000000000694851588, time = 0.00000\n",
      "icorr = 2700, Residual = 0.00000000000043179087, normFactor = 0.00003813027877335985, moving average = 0.00000000000296572877, time = 0.00000\n",
      "icorr = 2800, Residual = 0.00000000000018412003, normFactor = 0.00003813027877564856, moving average = 0.00000000000126766975, time = 0.00000\n",
      "icorr = 2900, Residual = 0.00000000000008759297, normFactor = 0.00003813027877662571, moving average = 0.00000000000054296535, time = 0.00000\n",
      "icorr = 3000, Residual = 0.00000000000004267798, normFactor = 0.00003813027877703893, moving average = 0.00000000000023843865, time = 0.00000\n",
      "icorr = 3100, Residual = 0.00000000000004102897, normFactor = 0.00003813027877721991, moving average = 0.00000000000010678531, time = 0.00000\n",
      "icorr = 3200, Residual = 0.00000000000001719377, normFactor = 0.00003813027877729053, moving average = 0.00000000000005797706, time = 0.00000\n",
      "icorr = 3300, Residual = 0.00000000000001558501, normFactor = 0.00003813027877732528, moving average = 0.00000000000003384114, time = 0.00000\n",
      "icorr = 3400, Residual = 0.00000000000000852444, normFactor = 0.00003813027877733765, moving average = 0.00000000000002144144, time = 0.00000\n",
      "icorr = 3500, Residual = 0.00000000000001306657, normFactor = 0.00003813027877734329, moving average = 0.00000000000001510457, time = 0.00000\n"
     ]
    },
    {
     "data": {
      "application/vnd.plotly.v1+json": {
       "config": {
        "plotlyServerURL": "https://plot.ly"
       },
       "data": [
        {
         "type": "surface",
         "x": [
          [
           0,
           0.02,
           0.06,
           0.09999999999999999,
           0.13999999999999999,
           0.17999999999999997,
           0.21999999999999995,
           0.25999999999999995,
           0.3,
           0.33999999999999997,
           0.37999999999999995,
           0.41999999999999993,
           0.45999999999999996,
           0.49999999999999994,
           0.5399999999999999,
           0.58,
           0.6199999999999999,
           0.6599999999999999,
           0.7,
           0.7399999999999999,
           0.7799999999999999,
           0.8199999999999998,
           0.8599999999999999,
           0.8999999999999999,
           0.9399999999999998,
           0.9799999999999999,
           1.0199999999999998,
           1.0599999999999998,
           1.0999999999999999,
           1.14,
           1.18,
           1.2199999999999998,
           1.2599999999999998,
           1.2999999999999998,
           1.3399999999999999,
           1.38,
           1.4199999999999997,
           1.4599999999999997,
           1.4999999999999998,
           1.5399999999999998,
           1.5799999999999998,
           1.6199999999999997,
           1.6599999999999997,
           1.6999999999999997,
           1.7399999999999998,
           1.7799999999999998,
           1.8199999999999998,
           1.8599999999999997,
           1.8999999999999997,
           1.9399999999999997,
           1.9799999999999998,
           2
          ],
          [
           0,
           0.02,
           0.06,
           0.09999999999999999,
           0.13999999999999999,
           0.17999999999999997,
           0.21999999999999995,
           0.25999999999999995,
           0.3,
           0.33999999999999997,
           0.37999999999999995,
           0.41999999999999993,
           0.45999999999999996,
           0.49999999999999994,
           0.5399999999999999,
           0.58,
           0.6199999999999999,
           0.6599999999999999,
           0.7,
           0.7399999999999999,
           0.7799999999999999,
           0.8199999999999998,
           0.8599999999999999,
           0.8999999999999999,
           0.9399999999999998,
           0.9799999999999999,
           1.0199999999999998,
           1.0599999999999998,
           1.0999999999999999,
           1.14,
           1.18,
           1.2199999999999998,
           1.2599999999999998,
           1.2999999999999998,
           1.3399999999999999,
           1.38,
           1.4199999999999997,
           1.4599999999999997,
           1.4999999999999998,
           1.5399999999999998,
           1.5799999999999998,
           1.6199999999999997,
           1.6599999999999997,
           1.6999999999999997,
           1.7399999999999998,
           1.7799999999999998,
           1.8199999999999998,
           1.8599999999999997,
           1.8999999999999997,
           1.9399999999999997,
           1.9799999999999998,
           2
          ],
          [
           0,
           0.02,
           0.06,
           0.09999999999999999,
           0.13999999999999999,
           0.17999999999999997,
           0.21999999999999995,
           0.25999999999999995,
           0.3,
           0.33999999999999997,
           0.37999999999999995,
           0.41999999999999993,
           0.45999999999999996,
           0.49999999999999994,
           0.5399999999999999,
           0.58,
           0.6199999999999999,
           0.6599999999999999,
           0.7,
           0.7399999999999999,
           0.7799999999999999,
           0.8199999999999998,
           0.8599999999999999,
           0.8999999999999999,
           0.9399999999999998,
           0.9799999999999999,
           1.0199999999999998,
           1.0599999999999998,
           1.0999999999999999,
           1.14,
           1.18,
           1.2199999999999998,
           1.2599999999999998,
           1.2999999999999998,
           1.3399999999999999,
           1.38,
           1.4199999999999997,
           1.4599999999999997,
           1.4999999999999998,
           1.5399999999999998,
           1.5799999999999998,
           1.6199999999999997,
           1.6599999999999997,
           1.6999999999999997,
           1.7399999999999998,
           1.7799999999999998,
           1.8199999999999998,
           1.8599999999999997,
           1.8999999999999997,
           1.9399999999999997,
           1.9799999999999998,
           2
          ],
          [
           0,
           0.02,
           0.06,
           0.09999999999999999,
           0.13999999999999999,
           0.17999999999999997,
           0.21999999999999995,
           0.25999999999999995,
           0.3,
           0.33999999999999997,
           0.37999999999999995,
           0.41999999999999993,
           0.45999999999999996,
           0.49999999999999994,
           0.5399999999999999,
           0.58,
           0.6199999999999999,
           0.6599999999999999,
           0.7,
           0.7399999999999999,
           0.7799999999999999,
           0.8199999999999998,
           0.8599999999999999,
           0.8999999999999999,
           0.9399999999999998,
           0.9799999999999999,
           1.0199999999999998,
           1.0599999999999998,
           1.0999999999999999,
           1.14,
           1.18,
           1.2199999999999998,
           1.2599999999999998,
           1.2999999999999998,
           1.3399999999999999,
           1.38,
           1.4199999999999997,
           1.4599999999999997,
           1.4999999999999998,
           1.5399999999999998,
           1.5799999999999998,
           1.6199999999999997,
           1.6599999999999997,
           1.6999999999999997,
           1.7399999999999998,
           1.7799999999999998,
           1.8199999999999998,
           1.8599999999999997,
           1.8999999999999997,
           1.9399999999999997,
           1.9799999999999998,
           2
          ],
          [
           0,
           0.02,
           0.06,
           0.09999999999999999,
           0.13999999999999999,
           0.17999999999999997,
           0.21999999999999995,
           0.25999999999999995,
           0.3,
           0.33999999999999997,
           0.37999999999999995,
           0.41999999999999993,
           0.45999999999999996,
           0.49999999999999994,
           0.5399999999999999,
           0.58,
           0.6199999999999999,
           0.6599999999999999,
           0.7,
           0.7399999999999999,
           0.7799999999999999,
           0.8199999999999998,
           0.8599999999999999,
           0.8999999999999999,
           0.9399999999999998,
           0.9799999999999999,
           1.0199999999999998,
           1.0599999999999998,
           1.0999999999999999,
           1.14,
           1.18,
           1.2199999999999998,
           1.2599999999999998,
           1.2999999999999998,
           1.3399999999999999,
           1.38,
           1.4199999999999997,
           1.4599999999999997,
           1.4999999999999998,
           1.5399999999999998,
           1.5799999999999998,
           1.6199999999999997,
           1.6599999999999997,
           1.6999999999999997,
           1.7399999999999998,
           1.7799999999999998,
           1.8199999999999998,
           1.8599999999999997,
           1.8999999999999997,
           1.9399999999999997,
           1.9799999999999998,
           2
          ],
          [
           0,
           0.02,
           0.06,
           0.09999999999999999,
           0.13999999999999999,
           0.17999999999999997,
           0.21999999999999995,
           0.25999999999999995,
           0.3,
           0.33999999999999997,
           0.37999999999999995,
           0.41999999999999993,
           0.45999999999999996,
           0.49999999999999994,
           0.5399999999999999,
           0.58,
           0.6199999999999999,
           0.6599999999999999,
           0.7,
           0.7399999999999999,
           0.7799999999999999,
           0.8199999999999998,
           0.8599999999999999,
           0.8999999999999999,
           0.9399999999999998,
           0.9799999999999999,
           1.0199999999999998,
           1.0599999999999998,
           1.0999999999999999,
           1.14,
           1.18,
           1.2199999999999998,
           1.2599999999999998,
           1.2999999999999998,
           1.3399999999999999,
           1.38,
           1.4199999999999997,
           1.4599999999999997,
           1.4999999999999998,
           1.5399999999999998,
           1.5799999999999998,
           1.6199999999999997,
           1.6599999999999997,
           1.6999999999999997,
           1.7399999999999998,
           1.7799999999999998,
           1.8199999999999998,
           1.8599999999999997,
           1.8999999999999997,
           1.9399999999999997,
           1.9799999999999998,
           2
          ]
         ],
         "y": [
          [
           0,
           0,
           0,
           0,
           0,
           0,
           0,
           0,
           0,
           0,
           0,
           0,
           0,
           0,
           0,
           0,
           0,
           0,
           0,
           0,
           0,
           0,
           0,
           0,
           0,
           0,
           0,
           0,
           0,
           0,
           0,
           0,
           0,
           0,
           0,
           0,
           0,
           0,
           0,
           0,
           0,
           0,
           0,
           0,
           0,
           0,
           0,
           0,
           0,
           0,
           0,
           0
          ],
          [
           0.0125,
           0.0125,
           0.0125,
           0.0125,
           0.0125,
           0.0125,
           0.0125,
           0.0125,
           0.0125,
           0.0125,
           0.0125,
           0.0125,
           0.0125,
           0.0125,
           0.0125,
           0.0125,
           0.0125,
           0.0125,
           0.0125,
           0.0125,
           0.0125,
           0.0125,
           0.0125,
           0.0125,
           0.0125,
           0.0125,
           0.0125,
           0.0125,
           0.0125,
           0.0125,
           0.0125,
           0.0125,
           0.0125,
           0.0125,
           0.0125,
           0.0125,
           0.0125,
           0.0125,
           0.0125,
           0.0125,
           0.0125,
           0.0125,
           0.0125,
           0.0125,
           0.0125,
           0.0125,
           0.0125,
           0.0125,
           0.0125,
           0.0125,
           0.0125,
           0.0125
          ],
          [
           0.037500000000000006,
           0.037500000000000006,
           0.037500000000000006,
           0.037500000000000006,
           0.037500000000000006,
           0.037500000000000006,
           0.037500000000000006,
           0.037500000000000006,
           0.037500000000000006,
           0.037500000000000006,
           0.037500000000000006,
           0.037500000000000006,
           0.037500000000000006,
           0.037500000000000006,
           0.037500000000000006,
           0.037500000000000006,
           0.037500000000000006,
           0.037500000000000006,
           0.037500000000000006,
           0.037500000000000006,
           0.037500000000000006,
           0.037500000000000006,
           0.037500000000000006,
           0.037500000000000006,
           0.037500000000000006,
           0.037500000000000006,
           0.037500000000000006,
           0.037500000000000006,
           0.037500000000000006,
           0.037500000000000006,
           0.037500000000000006,
           0.037500000000000006,
           0.037500000000000006,
           0.037500000000000006,
           0.037500000000000006,
           0.037500000000000006,
           0.037500000000000006,
           0.037500000000000006,
           0.037500000000000006,
           0.037500000000000006,
           0.037500000000000006,
           0.037500000000000006,
           0.037500000000000006,
           0.037500000000000006,
           0.037500000000000006,
           0.037500000000000006,
           0.037500000000000006,
           0.037500000000000006,
           0.037500000000000006,
           0.037500000000000006,
           0.037500000000000006,
           0.037500000000000006
          ],
          [
           0.06250000000000001,
           0.06250000000000001,
           0.06250000000000001,
           0.06250000000000001,
           0.06250000000000001,
           0.06250000000000001,
           0.06250000000000001,
           0.06250000000000001,
           0.06250000000000001,
           0.06250000000000001,
           0.06250000000000001,
           0.06250000000000001,
           0.06250000000000001,
           0.06250000000000001,
           0.06250000000000001,
           0.06250000000000001,
           0.06250000000000001,
           0.06250000000000001,
           0.06250000000000001,
           0.06250000000000001,
           0.06250000000000001,
           0.06250000000000001,
           0.06250000000000001,
           0.06250000000000001,
           0.06250000000000001,
           0.06250000000000001,
           0.06250000000000001,
           0.06250000000000001,
           0.06250000000000001,
           0.06250000000000001,
           0.06250000000000001,
           0.06250000000000001,
           0.06250000000000001,
           0.06250000000000001,
           0.06250000000000001,
           0.06250000000000001,
           0.06250000000000001,
           0.06250000000000001,
           0.06250000000000001,
           0.06250000000000001,
           0.06250000000000001,
           0.06250000000000001,
           0.06250000000000001,
           0.06250000000000001,
           0.06250000000000001,
           0.06250000000000001,
           0.06250000000000001,
           0.06250000000000001,
           0.06250000000000001,
           0.06250000000000001,
           0.06250000000000001,
           0.06250000000000001
          ],
          [
           0.08750000000000001,
           0.08750000000000001,
           0.08750000000000001,
           0.08750000000000001,
           0.08750000000000001,
           0.08750000000000001,
           0.08750000000000001,
           0.08750000000000001,
           0.08750000000000001,
           0.08750000000000001,
           0.08750000000000001,
           0.08750000000000001,
           0.08750000000000001,
           0.08750000000000001,
           0.08750000000000001,
           0.08750000000000001,
           0.08750000000000001,
           0.08750000000000001,
           0.08750000000000001,
           0.08750000000000001,
           0.08750000000000001,
           0.08750000000000001,
           0.08750000000000001,
           0.08750000000000001,
           0.08750000000000001,
           0.08750000000000001,
           0.08750000000000001,
           0.08750000000000001,
           0.08750000000000001,
           0.08750000000000001,
           0.08750000000000001,
           0.08750000000000001,
           0.08750000000000001,
           0.08750000000000001,
           0.08750000000000001,
           0.08750000000000001,
           0.08750000000000001,
           0.08750000000000001,
           0.08750000000000001,
           0.08750000000000001,
           0.08750000000000001,
           0.08750000000000001,
           0.08750000000000001,
           0.08750000000000001,
           0.08750000000000001,
           0.08750000000000001,
           0.08750000000000001,
           0.08750000000000001,
           0.08750000000000001,
           0.08750000000000001,
           0.08750000000000001,
           0.08750000000000001
          ],
          [
           0.1,
           0.1,
           0.1,
           0.1,
           0.1,
           0.1,
           0.1,
           0.1,
           0.1,
           0.1,
           0.1,
           0.1,
           0.1,
           0.1,
           0.1,
           0.1,
           0.1,
           0.1,
           0.1,
           0.1,
           0.1,
           0.1,
           0.1,
           0.1,
           0.1,
           0.1,
           0.1,
           0.1,
           0.1,
           0.1,
           0.1,
           0.1,
           0.1,
           0.1,
           0.1,
           0.1,
           0.1,
           0.1,
           0.1,
           0.1,
           0.1,
           0.1,
           0.1,
           0.1,
           0.1,
           0.1,
           0.1,
           0.1,
           0.1,
           0.1,
           0.1,
           0.1
          ]
         ],
         "z": [
          [
           0,
           0.23239626081328438,
           0.7058744077628271,
           1.362330271924047,
           2.2133533701603656,
           3.2502572795216422,
           4.45013277168634,
           5.784356930790234,
           7.221687477729135,
           8.729384540884,
           10.273585571621298,
           11.81938959712877,
           13.330821853278191,
           14.770750282084213,
           16.10078886539329,
           17.281209669616224,
           18.27088269624353,
           19.027266579036304,
           19.50648505746955,
           19.663550435234495,
           19.452853127854798,
           18.82917169310461,
           17.74980214759921,
           16.179382517718384,
           14.102162547674446,
           11.558643225932423,
           8.779089644833165,
           6.717384524905591,
           7.70067280138977,
           12.161378618695803,
           18.62983948219927,
           26.494614088894984,
           35.60715224443001,
           45.9490412122212,
           57.541897542356175,
           70.42002263919035,
           84.6199879687177,
           100.17558553781898,
           117.11470136700238,
           135.45691927880398,
           155.21138734209262,
           176.37474448574892,
           198.9290126311917,
           222.83940785596454,
           248.05204765681654,
           274.49154417608923,
           302.0584824353174,
           330.62678420550697,
           360.04100179655893,
           390.1103242919655,
           420.6126481224647,
           435.61001217930084
          ],
          [
           1.1986913930037888e-15,
           0.1339009327778268,
           0.5660445213442056,
           1.1986166351706131,
           2.046628912013539,
           3.0908366470382833,
           4.303140627335176,
           5.652456519901186,
           7.106346900519405,
           8.631449652889678,
           10.193548464744218,
           11.757514333087464,
           13.287196069160672,
           14.745292052806747,
           16.09322011905125,
           17.290997449109575,
           18.2971418835408,
           19.068608861372933,
           19.56078521704624,
           19.72757614726448,
           19.52165472702974,
           18.895020925708028,
           17.800216536664887,
           16.193118814390857,
           14.040172087514739,
           11.340869338473322,
           8.21908021903559,
           5.433341646197634,
           5.981826024537624,
           10.692606714005692,
           17.349636963368088,
           25.311077247127464,
           34.47080250481185,
           44.83314002928853,
           56.43134061294436,
           69.30619425075864,
           83.49826778002448,
           99.04406245987022,
           115.9734747401473,
           134.30770498785768,
           154.05729105316178,
           175.22013014911053,
           197.7794263400811,
           221.70153341383167,
           246.93367875697837,
           273.40156252939386,
           301.0068321711381,
           329.62445781028634,
           359.0999414241293,
           389.24934444946035,
           419.8130024561555,
           435.4493788490613
          ],
          [
           5.888235180447597e-15,
           0.038302836530307645,
           0.38300734912230966,
           1.0011848016928062,
           1.8540463881994704,
           2.9107380899196396,
           4.139038182603116,
           5.506157123308969,
           6.978851695764254,
           8.523334389965864,
           10.105133701045748,
           11.688938716727206,
           13.23843747772408,
           14.716154237707938,
           16.083289944369106,
           17.29957021049654,
           18.323105287524132,
           19.1102670749608,
           19.61558916569112,
           19.79169779111783,
           19.589285427988084,
           18.95714780745828,
           17.842328164241945,
           16.190480393278605,
           13.946799107907747,
           11.058912033516343,
           7.48994483675282,
           3.3475778687838242,
           2.9280326206477465,
           8.710163163383957,
           15.76660375976856,
           23.900212031852707,
           33.14237847495067,
           43.544347284176304,
           55.15934982021814,
           68.0382275680857,
           82.22731307976807,
           97.76680462604955,
           114.68921462919312,
           133.01776220400697,
           152.76466138407042,
           173.92928418111973,
           196.4961887643815,
           220.43300853176572,
           245.68820136261357,
           272.18866170180695,
           299.83720292356696,
           328.5099182838439,
           358.05325299088923,
           388.27917914938917,
           418.93415846573095,
           434.27578237854647
          ],
          [
           1.2864914974516052e-15,
           0.03830283598855096,
           0.3830073483280518,
           1.0011848008318212,
           1.8540463873215411,
           2.910738089041782,
           4.139038181734065,
           5.506157122454865,
           6.9788516949301975,
           8.523334389156567,
           10.105133700265947,
           11.688938715981994,
           13.238437477019176,
           14.716154237050002,
           16.08328994376612,
           17.299570209958272,
           18.32310528706283,
           19.110267074592144,
           19.61558916543568,
           19.791697791003365,
           19.589285428053355,
           18.957147807759714,
           17.84232816486625,
           16.19048039436903,
           13.946799109726594,
           11.058912036625753,
           7.489944842737738,
           3.347577885752309,
           2.92803264470302,
           8.71016317323906,
           15.766603766310013,
           23.900212036975745,
           33.14237847929157,
           43.54434728802343,
           55.15934982372611,
           68.03822757134682,
           82.22731308284176,
           97.7668046289762,
           114.68921463200125,
           133.0177622067174,
           152.76466138669858,
           173.9292841836773,
           196.4961887668774,
           220.4330085342066,
           245.68820136500435,
           272.18866170415095,
           299.83720292586577,
           328.50991828609693,
           358.0532529930948,
           388.2791791515524,
           418.9341584678813,
           434.27578238059385
          ],
          [
           6.120328108924774e-15,
           0.1339009320930608,
           0.5660445196087903,
           1.1986166329630379,
           2.0466289095978016,
           3.0908366445358455,
           4.303140624809075,
           5.652456517389292,
           7.106346898047807,
           8.631449650478864,
           10.193548462412341,
           11.757514330852343,
           13.28719606704119,
           14.7452920508241,
           16.093220117230246,
           17.29099744748023,
           18.297141882140405,
           19.068608860249032,
           19.560785216261035,
           19.727576146901754,
           19.521654727206187,
           18.89502092659296,
           17.800216538516906,
           16.19311881763225,
           14.04017209289978,
           11.340869347525029,
           8.21908023533583,
           5.433341677470169,
           5.98182605978365,
           10.69260673805004,
           17.34963698118153,
           25.31107726162973,
           34.47080251732888,
           44.83314004049878,
           56.431340623235094,
           69.30619426036982,
           83.49826778911438,
           99.04406246854809,
           115.9734747484913,
           134.3077049959253,
           154.05729106099602,
           175.22013015674398,
           197.77942634753853,
           221.70153342113167,
           246.9336787641347,
           273.4015625364159,
           301.00683217803066,
           329.6244578170503,
           359.0999414307648,
           389.2493444560016,
           419.81300246255154,
           435.44937885636585
          ],
          [
           0,
           0.2323962598670725,
           0.7058744057988585,
           1.362330269279522,
           2.213353367144426,
           3.2502572763199677,
           4.450132768407014,
           5.784356927499758,
           7.221687474472383,
           8.7293845376947,
           10.27358556852782,
           11.81938959415761,
           13.330821850456365,
           14.770750279441232,
           16.10078886296308,
           17.281209667439366,
           18.270882694370147,
           19.02726657753007,
           19.50648505641363,
           19.663550434740785,
           19.45285312807897,
           18.829171694272084,
           17.749802150052812,
           16.179382522012755,
           14.102162554780186,
           11.558643237714442,
           8.779089665095931,
           6.717384558521613,
           7.70067283781007,
           12.161378646846833,
           18.629839504315548,
           26.494614107389047,
           35.60715226062883,
           45.94904122686653,
           57.54189755589279,
           70.42002265190263,
           84.61998798079739,
           100.17558554940076,
           117.11470137818401,
           135.4569192896583,
           155.21138735267476,
           176.37474449610113,
           198.9290126413465,
           222.8394078659467,
           248.05204766664457,
           274.49154418577604,
           302.05848244487044,
           330.62678421492916,
           360.0410018058534,
           390.1103243011387,
           420.61264813156333,
           435.61001218679854
          ]
         ]
        }
       ],
       "layout": {
        "template": {
         "data": {
          "bar": [
           {
            "error_x": {
             "color": "#2a3f5f"
            },
            "error_y": {
             "color": "#2a3f5f"
            },
            "marker": {
             "line": {
              "color": "#E5ECF6",
              "width": 0.5
             },
             "pattern": {
              "fillmode": "overlay",
              "size": 10,
              "solidity": 0.2
             }
            },
            "type": "bar"
           }
          ],
          "barpolar": [
           {
            "marker": {
             "line": {
              "color": "#E5ECF6",
              "width": 0.5
             },
             "pattern": {
              "fillmode": "overlay",
              "size": 10,
              "solidity": 0.2
             }
            },
            "type": "barpolar"
           }
          ],
          "carpet": [
           {
            "aaxis": {
             "endlinecolor": "#2a3f5f",
             "gridcolor": "white",
             "linecolor": "white",
             "minorgridcolor": "white",
             "startlinecolor": "#2a3f5f"
            },
            "baxis": {
             "endlinecolor": "#2a3f5f",
             "gridcolor": "white",
             "linecolor": "white",
             "minorgridcolor": "white",
             "startlinecolor": "#2a3f5f"
            },
            "type": "carpet"
           }
          ],
          "choropleth": [
           {
            "colorbar": {
             "outlinewidth": 0,
             "ticks": ""
            },
            "type": "choropleth"
           }
          ],
          "contour": [
           {
            "colorbar": {
             "outlinewidth": 0,
             "ticks": ""
            },
            "colorscale": [
             [
              0,
              "#0d0887"
             ],
             [
              0.1111111111111111,
              "#46039f"
             ],
             [
              0.2222222222222222,
              "#7201a8"
             ],
             [
              0.3333333333333333,
              "#9c179e"
             ],
             [
              0.4444444444444444,
              "#bd3786"
             ],
             [
              0.5555555555555556,
              "#d8576b"
             ],
             [
              0.6666666666666666,
              "#ed7953"
             ],
             [
              0.7777777777777778,
              "#fb9f3a"
             ],
             [
              0.8888888888888888,
              "#fdca26"
             ],
             [
              1,
              "#f0f921"
             ]
            ],
            "type": "contour"
           }
          ],
          "contourcarpet": [
           {
            "colorbar": {
             "outlinewidth": 0,
             "ticks": ""
            },
            "type": "contourcarpet"
           }
          ],
          "heatmap": [
           {
            "colorbar": {
             "outlinewidth": 0,
             "ticks": ""
            },
            "colorscale": [
             [
              0,
              "#0d0887"
             ],
             [
              0.1111111111111111,
              "#46039f"
             ],
             [
              0.2222222222222222,
              "#7201a8"
             ],
             [
              0.3333333333333333,
              "#9c179e"
             ],
             [
              0.4444444444444444,
              "#bd3786"
             ],
             [
              0.5555555555555556,
              "#d8576b"
             ],
             [
              0.6666666666666666,
              "#ed7953"
             ],
             [
              0.7777777777777778,
              "#fb9f3a"
             ],
             [
              0.8888888888888888,
              "#fdca26"
             ],
             [
              1,
              "#f0f921"
             ]
            ],
            "type": "heatmap"
           }
          ],
          "heatmapgl": [
           {
            "colorbar": {
             "outlinewidth": 0,
             "ticks": ""
            },
            "colorscale": [
             [
              0,
              "#0d0887"
             ],
             [
              0.1111111111111111,
              "#46039f"
             ],
             [
              0.2222222222222222,
              "#7201a8"
             ],
             [
              0.3333333333333333,
              "#9c179e"
             ],
             [
              0.4444444444444444,
              "#bd3786"
             ],
             [
              0.5555555555555556,
              "#d8576b"
             ],
             [
              0.6666666666666666,
              "#ed7953"
             ],
             [
              0.7777777777777778,
              "#fb9f3a"
             ],
             [
              0.8888888888888888,
              "#fdca26"
             ],
             [
              1,
              "#f0f921"
             ]
            ],
            "type": "heatmapgl"
           }
          ],
          "histogram": [
           {
            "marker": {
             "pattern": {
              "fillmode": "overlay",
              "size": 10,
              "solidity": 0.2
             }
            },
            "type": "histogram"
           }
          ],
          "histogram2d": [
           {
            "colorbar": {
             "outlinewidth": 0,
             "ticks": ""
            },
            "colorscale": [
             [
              0,
              "#0d0887"
             ],
             [
              0.1111111111111111,
              "#46039f"
             ],
             [
              0.2222222222222222,
              "#7201a8"
             ],
             [
              0.3333333333333333,
              "#9c179e"
             ],
             [
              0.4444444444444444,
              "#bd3786"
             ],
             [
              0.5555555555555556,
              "#d8576b"
             ],
             [
              0.6666666666666666,
              "#ed7953"
             ],
             [
              0.7777777777777778,
              "#fb9f3a"
             ],
             [
              0.8888888888888888,
              "#fdca26"
             ],
             [
              1,
              "#f0f921"
             ]
            ],
            "type": "histogram2d"
           }
          ],
          "histogram2dcontour": [
           {
            "colorbar": {
             "outlinewidth": 0,
             "ticks": ""
            },
            "colorscale": [
             [
              0,
              "#0d0887"
             ],
             [
              0.1111111111111111,
              "#46039f"
             ],
             [
              0.2222222222222222,
              "#7201a8"
             ],
             [
              0.3333333333333333,
              "#9c179e"
             ],
             [
              0.4444444444444444,
              "#bd3786"
             ],
             [
              0.5555555555555556,
              "#d8576b"
             ],
             [
              0.6666666666666666,
              "#ed7953"
             ],
             [
              0.7777777777777778,
              "#fb9f3a"
             ],
             [
              0.8888888888888888,
              "#fdca26"
             ],
             [
              1,
              "#f0f921"
             ]
            ],
            "type": "histogram2dcontour"
           }
          ],
          "mesh3d": [
           {
            "colorbar": {
             "outlinewidth": 0,
             "ticks": ""
            },
            "type": "mesh3d"
           }
          ],
          "parcoords": [
           {
            "line": {
             "colorbar": {
              "outlinewidth": 0,
              "ticks": ""
             }
            },
            "type": "parcoords"
           }
          ],
          "pie": [
           {
            "automargin": true,
            "type": "pie"
           }
          ],
          "scatter": [
           {
            "marker": {
             "colorbar": {
              "outlinewidth": 0,
              "ticks": ""
             }
            },
            "type": "scatter"
           }
          ],
          "scatter3d": [
           {
            "line": {
             "colorbar": {
              "outlinewidth": 0,
              "ticks": ""
             }
            },
            "marker": {
             "colorbar": {
              "outlinewidth": 0,
              "ticks": ""
             }
            },
            "type": "scatter3d"
           }
          ],
          "scattercarpet": [
           {
            "marker": {
             "colorbar": {
              "outlinewidth": 0,
              "ticks": ""
             }
            },
            "type": "scattercarpet"
           }
          ],
          "scattergeo": [
           {
            "marker": {
             "colorbar": {
              "outlinewidth": 0,
              "ticks": ""
             }
            },
            "type": "scattergeo"
           }
          ],
          "scattergl": [
           {
            "marker": {
             "colorbar": {
              "outlinewidth": 0,
              "ticks": ""
             }
            },
            "type": "scattergl"
           }
          ],
          "scattermapbox": [
           {
            "marker": {
             "colorbar": {
              "outlinewidth": 0,
              "ticks": ""
             }
            },
            "type": "scattermapbox"
           }
          ],
          "scatterpolar": [
           {
            "marker": {
             "colorbar": {
              "outlinewidth": 0,
              "ticks": ""
             }
            },
            "type": "scatterpolar"
           }
          ],
          "scatterpolargl": [
           {
            "marker": {
             "colorbar": {
              "outlinewidth": 0,
              "ticks": ""
             }
            },
            "type": "scatterpolargl"
           }
          ],
          "scatterternary": [
           {
            "marker": {
             "colorbar": {
              "outlinewidth": 0,
              "ticks": ""
             }
            },
            "type": "scatterternary"
           }
          ],
          "surface": [
           {
            "colorbar": {
             "outlinewidth": 0,
             "ticks": ""
            },
            "colorscale": [
             [
              0,
              "#0d0887"
             ],
             [
              0.1111111111111111,
              "#46039f"
             ],
             [
              0.2222222222222222,
              "#7201a8"
             ],
             [
              0.3333333333333333,
              "#9c179e"
             ],
             [
              0.4444444444444444,
              "#bd3786"
             ],
             [
              0.5555555555555556,
              "#d8576b"
             ],
             [
              0.6666666666666666,
              "#ed7953"
             ],
             [
              0.7777777777777778,
              "#fb9f3a"
             ],
             [
              0.8888888888888888,
              "#fdca26"
             ],
             [
              1,
              "#f0f921"
             ]
            ],
            "type": "surface"
           }
          ],
          "table": [
           {
            "cells": {
             "fill": {
              "color": "#EBF0F8"
             },
             "line": {
              "color": "white"
             }
            },
            "header": {
             "fill": {
              "color": "#C8D4E3"
             },
             "line": {
              "color": "white"
             }
            },
            "type": "table"
           }
          ]
         },
         "layout": {
          "annotationdefaults": {
           "arrowcolor": "#2a3f5f",
           "arrowhead": 0,
           "arrowwidth": 1
          },
          "autotypenumbers": "strict",
          "coloraxis": {
           "colorbar": {
            "outlinewidth": 0,
            "ticks": ""
           }
          },
          "colorscale": {
           "diverging": [
            [
             0,
             "#8e0152"
            ],
            [
             0.1,
             "#c51b7d"
            ],
            [
             0.2,
             "#de77ae"
            ],
            [
             0.3,
             "#f1b6da"
            ],
            [
             0.4,
             "#fde0ef"
            ],
            [
             0.5,
             "#f7f7f7"
            ],
            [
             0.6,
             "#e6f5d0"
            ],
            [
             0.7,
             "#b8e186"
            ],
            [
             0.8,
             "#7fbc41"
            ],
            [
             0.9,
             "#4d9221"
            ],
            [
             1,
             "#276419"
            ]
           ],
           "sequential": [
            [
             0,
             "#0d0887"
            ],
            [
             0.1111111111111111,
             "#46039f"
            ],
            [
             0.2222222222222222,
             "#7201a8"
            ],
            [
             0.3333333333333333,
             "#9c179e"
            ],
            [
             0.4444444444444444,
             "#bd3786"
            ],
            [
             0.5555555555555556,
             "#d8576b"
            ],
            [
             0.6666666666666666,
             "#ed7953"
            ],
            [
             0.7777777777777778,
             "#fb9f3a"
            ],
            [
             0.8888888888888888,
             "#fdca26"
            ],
            [
             1,
             "#f0f921"
            ]
           ],
           "sequentialminus": [
            [
             0,
             "#0d0887"
            ],
            [
             0.1111111111111111,
             "#46039f"
            ],
            [
             0.2222222222222222,
             "#7201a8"
            ],
            [
             0.3333333333333333,
             "#9c179e"
            ],
            [
             0.4444444444444444,
             "#bd3786"
            ],
            [
             0.5555555555555556,
             "#d8576b"
            ],
            [
             0.6666666666666666,
             "#ed7953"
            ],
            [
             0.7777777777777778,
             "#fb9f3a"
            ],
            [
             0.8888888888888888,
             "#fdca26"
            ],
            [
             1,
             "#f0f921"
            ]
           ]
          },
          "colorway": [
           "#636efa",
           "#EF553B",
           "#00cc96",
           "#ab63fa",
           "#FFA15A",
           "#19d3f3",
           "#FF6692",
           "#B6E880",
           "#FF97FF",
           "#FECB52"
          ],
          "font": {
           "color": "#2a3f5f"
          },
          "geo": {
           "bgcolor": "white",
           "lakecolor": "white",
           "landcolor": "#E5ECF6",
           "showlakes": true,
           "showland": true,
           "subunitcolor": "white"
          },
          "hoverlabel": {
           "align": "left"
          },
          "hovermode": "closest",
          "mapbox": {
           "style": "light"
          },
          "paper_bgcolor": "white",
          "plot_bgcolor": "#E5ECF6",
          "polar": {
           "angularaxis": {
            "gridcolor": "white",
            "linecolor": "white",
            "ticks": ""
           },
           "bgcolor": "#E5ECF6",
           "radialaxis": {
            "gridcolor": "white",
            "linecolor": "white",
            "ticks": ""
           }
          },
          "scene": {
           "xaxis": {
            "backgroundcolor": "#E5ECF6",
            "gridcolor": "white",
            "gridwidth": 2,
            "linecolor": "white",
            "showbackground": true,
            "ticks": "",
            "zerolinecolor": "white"
           },
           "yaxis": {
            "backgroundcolor": "#E5ECF6",
            "gridcolor": "white",
            "gridwidth": 2,
            "linecolor": "white",
            "showbackground": true,
            "ticks": "",
            "zerolinecolor": "white"
           },
           "zaxis": {
            "backgroundcolor": "#E5ECF6",
            "gridcolor": "white",
            "gridwidth": 2,
            "linecolor": "white",
            "showbackground": true,
            "ticks": "",
            "zerolinecolor": "white"
           }
          },
          "shapedefaults": {
           "line": {
            "color": "#2a3f5f"
           }
          },
          "ternary": {
           "aaxis": {
            "gridcolor": "white",
            "linecolor": "white",
            "ticks": ""
           },
           "baxis": {
            "gridcolor": "white",
            "linecolor": "white",
            "ticks": ""
           },
           "bgcolor": "#E5ECF6",
           "caxis": {
            "gridcolor": "white",
            "linecolor": "white",
            "ticks": ""
           }
          },
          "title": {
           "x": 0.05
          },
          "xaxis": {
           "automargin": true,
           "gridcolor": "white",
           "linecolor": "white",
           "ticks": "",
           "title": {
            "standoff": 15
           },
           "zerolinecolor": "white",
           "zerolinewidth": 2
          },
          "yaxis": {
           "automargin": true,
           "gridcolor": "white",
           "linecolor": "white",
           "ticks": "",
           "title": {
            "standoff": 15
           },
           "zerolinecolor": "white",
           "zerolinewidth": 2
          }
         }
        }
       }
      },
      "text/html": [
       "<div>                            <div id=\"78503aff-1b2b-4736-bb3d-58915f2dedec\" class=\"plotly-graph-div\" style=\"height:525px; width:100%;\"></div>            <script type=\"text/javascript\">                require([\"plotly\"], function(Plotly) {                    window.PLOTLYENV=window.PLOTLYENV || {};                                    if (document.getElementById(\"78503aff-1b2b-4736-bb3d-58915f2dedec\")) {                    Plotly.newPlot(                        \"78503aff-1b2b-4736-bb3d-58915f2dedec\",                        [{\"x\":[[0.0,0.02,0.06,0.09999999999999999,0.13999999999999999,0.17999999999999997,0.21999999999999995,0.25999999999999995,0.3,0.33999999999999997,0.37999999999999995,0.41999999999999993,0.45999999999999996,0.49999999999999994,0.5399999999999999,0.58,0.6199999999999999,0.6599999999999999,0.7,0.7399999999999999,0.7799999999999999,0.8199999999999998,0.8599999999999999,0.8999999999999999,0.9399999999999998,0.9799999999999999,1.0199999999999998,1.0599999999999998,1.0999999999999999,1.14,1.18,1.2199999999999998,1.2599999999999998,1.2999999999999998,1.3399999999999999,1.38,1.4199999999999997,1.4599999999999997,1.4999999999999998,1.5399999999999998,1.5799999999999998,1.6199999999999997,1.6599999999999997,1.6999999999999997,1.7399999999999998,1.7799999999999998,1.8199999999999998,1.8599999999999997,1.8999999999999997,1.9399999999999997,1.9799999999999998,2.0],[0.0,0.02,0.06,0.09999999999999999,0.13999999999999999,0.17999999999999997,0.21999999999999995,0.25999999999999995,0.3,0.33999999999999997,0.37999999999999995,0.41999999999999993,0.45999999999999996,0.49999999999999994,0.5399999999999999,0.58,0.6199999999999999,0.6599999999999999,0.7,0.7399999999999999,0.7799999999999999,0.8199999999999998,0.8599999999999999,0.8999999999999999,0.9399999999999998,0.9799999999999999,1.0199999999999998,1.0599999999999998,1.0999999999999999,1.14,1.18,1.2199999999999998,1.2599999999999998,1.2999999999999998,1.3399999999999999,1.38,1.4199999999999997,1.4599999999999997,1.4999999999999998,1.5399999999999998,1.5799999999999998,1.6199999999999997,1.6599999999999997,1.6999999999999997,1.7399999999999998,1.7799999999999998,1.8199999999999998,1.8599999999999997,1.8999999999999997,1.9399999999999997,1.9799999999999998,2.0],[0.0,0.02,0.06,0.09999999999999999,0.13999999999999999,0.17999999999999997,0.21999999999999995,0.25999999999999995,0.3,0.33999999999999997,0.37999999999999995,0.41999999999999993,0.45999999999999996,0.49999999999999994,0.5399999999999999,0.58,0.6199999999999999,0.6599999999999999,0.7,0.7399999999999999,0.7799999999999999,0.8199999999999998,0.8599999999999999,0.8999999999999999,0.9399999999999998,0.9799999999999999,1.0199999999999998,1.0599999999999998,1.0999999999999999,1.14,1.18,1.2199999999999998,1.2599999999999998,1.2999999999999998,1.3399999999999999,1.38,1.4199999999999997,1.4599999999999997,1.4999999999999998,1.5399999999999998,1.5799999999999998,1.6199999999999997,1.6599999999999997,1.6999999999999997,1.7399999999999998,1.7799999999999998,1.8199999999999998,1.8599999999999997,1.8999999999999997,1.9399999999999997,1.9799999999999998,2.0],[0.0,0.02,0.06,0.09999999999999999,0.13999999999999999,0.17999999999999997,0.21999999999999995,0.25999999999999995,0.3,0.33999999999999997,0.37999999999999995,0.41999999999999993,0.45999999999999996,0.49999999999999994,0.5399999999999999,0.58,0.6199999999999999,0.6599999999999999,0.7,0.7399999999999999,0.7799999999999999,0.8199999999999998,0.8599999999999999,0.8999999999999999,0.9399999999999998,0.9799999999999999,1.0199999999999998,1.0599999999999998,1.0999999999999999,1.14,1.18,1.2199999999999998,1.2599999999999998,1.2999999999999998,1.3399999999999999,1.38,1.4199999999999997,1.4599999999999997,1.4999999999999998,1.5399999999999998,1.5799999999999998,1.6199999999999997,1.6599999999999997,1.6999999999999997,1.7399999999999998,1.7799999999999998,1.8199999999999998,1.8599999999999997,1.8999999999999997,1.9399999999999997,1.9799999999999998,2.0],[0.0,0.02,0.06,0.09999999999999999,0.13999999999999999,0.17999999999999997,0.21999999999999995,0.25999999999999995,0.3,0.33999999999999997,0.37999999999999995,0.41999999999999993,0.45999999999999996,0.49999999999999994,0.5399999999999999,0.58,0.6199999999999999,0.6599999999999999,0.7,0.7399999999999999,0.7799999999999999,0.8199999999999998,0.8599999999999999,0.8999999999999999,0.9399999999999998,0.9799999999999999,1.0199999999999998,1.0599999999999998,1.0999999999999999,1.14,1.18,1.2199999999999998,1.2599999999999998,1.2999999999999998,1.3399999999999999,1.38,1.4199999999999997,1.4599999999999997,1.4999999999999998,1.5399999999999998,1.5799999999999998,1.6199999999999997,1.6599999999999997,1.6999999999999997,1.7399999999999998,1.7799999999999998,1.8199999999999998,1.8599999999999997,1.8999999999999997,1.9399999999999997,1.9799999999999998,2.0],[0.0,0.02,0.06,0.09999999999999999,0.13999999999999999,0.17999999999999997,0.21999999999999995,0.25999999999999995,0.3,0.33999999999999997,0.37999999999999995,0.41999999999999993,0.45999999999999996,0.49999999999999994,0.5399999999999999,0.58,0.6199999999999999,0.6599999999999999,0.7,0.7399999999999999,0.7799999999999999,0.8199999999999998,0.8599999999999999,0.8999999999999999,0.9399999999999998,0.9799999999999999,1.0199999999999998,1.0599999999999998,1.0999999999999999,1.14,1.18,1.2199999999999998,1.2599999999999998,1.2999999999999998,1.3399999999999999,1.38,1.4199999999999997,1.4599999999999997,1.4999999999999998,1.5399999999999998,1.5799999999999998,1.6199999999999997,1.6599999999999997,1.6999999999999997,1.7399999999999998,1.7799999999999998,1.8199999999999998,1.8599999999999997,1.8999999999999997,1.9399999999999997,1.9799999999999998,2.0]],\"y\":[[0.0,0.0,0.0,0.0,0.0,0.0,0.0,0.0,0.0,0.0,0.0,0.0,0.0,0.0,0.0,0.0,0.0,0.0,0.0,0.0,0.0,0.0,0.0,0.0,0.0,0.0,0.0,0.0,0.0,0.0,0.0,0.0,0.0,0.0,0.0,0.0,0.0,0.0,0.0,0.0,0.0,0.0,0.0,0.0,0.0,0.0,0.0,0.0,0.0,0.0,0.0,0.0],[0.0125,0.0125,0.0125,0.0125,0.0125,0.0125,0.0125,0.0125,0.0125,0.0125,0.0125,0.0125,0.0125,0.0125,0.0125,0.0125,0.0125,0.0125,0.0125,0.0125,0.0125,0.0125,0.0125,0.0125,0.0125,0.0125,0.0125,0.0125,0.0125,0.0125,0.0125,0.0125,0.0125,0.0125,0.0125,0.0125,0.0125,0.0125,0.0125,0.0125,0.0125,0.0125,0.0125,0.0125,0.0125,0.0125,0.0125,0.0125,0.0125,0.0125,0.0125,0.0125],[0.037500000000000006,0.037500000000000006,0.037500000000000006,0.037500000000000006,0.037500000000000006,0.037500000000000006,0.037500000000000006,0.037500000000000006,0.037500000000000006,0.037500000000000006,0.037500000000000006,0.037500000000000006,0.037500000000000006,0.037500000000000006,0.037500000000000006,0.037500000000000006,0.037500000000000006,0.037500000000000006,0.037500000000000006,0.037500000000000006,0.037500000000000006,0.037500000000000006,0.037500000000000006,0.037500000000000006,0.037500000000000006,0.037500000000000006,0.037500000000000006,0.037500000000000006,0.037500000000000006,0.037500000000000006,0.037500000000000006,0.037500000000000006,0.037500000000000006,0.037500000000000006,0.037500000000000006,0.037500000000000006,0.037500000000000006,0.037500000000000006,0.037500000000000006,0.037500000000000006,0.037500000000000006,0.037500000000000006,0.037500000000000006,0.037500000000000006,0.037500000000000006,0.037500000000000006,0.037500000000000006,0.037500000000000006,0.037500000000000006,0.037500000000000006,0.037500000000000006,0.037500000000000006],[0.06250000000000001,0.06250000000000001,0.06250000000000001,0.06250000000000001,0.06250000000000001,0.06250000000000001,0.06250000000000001,0.06250000000000001,0.06250000000000001,0.06250000000000001,0.06250000000000001,0.06250000000000001,0.06250000000000001,0.06250000000000001,0.06250000000000001,0.06250000000000001,0.06250000000000001,0.06250000000000001,0.06250000000000001,0.06250000000000001,0.06250000000000001,0.06250000000000001,0.06250000000000001,0.06250000000000001,0.06250000000000001,0.06250000000000001,0.06250000000000001,0.06250000000000001,0.06250000000000001,0.06250000000000001,0.06250000000000001,0.06250000000000001,0.06250000000000001,0.06250000000000001,0.06250000000000001,0.06250000000000001,0.06250000000000001,0.06250000000000001,0.06250000000000001,0.06250000000000001,0.06250000000000001,0.06250000000000001,0.06250000000000001,0.06250000000000001,0.06250000000000001,0.06250000000000001,0.06250000000000001,0.06250000000000001,0.06250000000000001,0.06250000000000001,0.06250000000000001,0.06250000000000001],[0.08750000000000001,0.08750000000000001,0.08750000000000001,0.08750000000000001,0.08750000000000001,0.08750000000000001,0.08750000000000001,0.08750000000000001,0.08750000000000001,0.08750000000000001,0.08750000000000001,0.08750000000000001,0.08750000000000001,0.08750000000000001,0.08750000000000001,0.08750000000000001,0.08750000000000001,0.08750000000000001,0.08750000000000001,0.08750000000000001,0.08750000000000001,0.08750000000000001,0.08750000000000001,0.08750000000000001,0.08750000000000001,0.08750000000000001,0.08750000000000001,0.08750000000000001,0.08750000000000001,0.08750000000000001,0.08750000000000001,0.08750000000000001,0.08750000000000001,0.08750000000000001,0.08750000000000001,0.08750000000000001,0.08750000000000001,0.08750000000000001,0.08750000000000001,0.08750000000000001,0.08750000000000001,0.08750000000000001,0.08750000000000001,0.08750000000000001,0.08750000000000001,0.08750000000000001,0.08750000000000001,0.08750000000000001,0.08750000000000001,0.08750000000000001,0.08750000000000001,0.08750000000000001],[0.1,0.1,0.1,0.1,0.1,0.1,0.1,0.1,0.1,0.1,0.1,0.1,0.1,0.1,0.1,0.1,0.1,0.1,0.1,0.1,0.1,0.1,0.1,0.1,0.1,0.1,0.1,0.1,0.1,0.1,0.1,0.1,0.1,0.1,0.1,0.1,0.1,0.1,0.1,0.1,0.1,0.1,0.1,0.1,0.1,0.1,0.1,0.1,0.1,0.1,0.1,0.1]],\"z\":[[0.0,0.23239626081328438,0.7058744077628271,1.362330271924047,2.2133533701603656,3.2502572795216422,4.45013277168634,5.784356930790234,7.221687477729135,8.729384540884,10.273585571621298,11.81938959712877,13.330821853278191,14.770750282084213,16.10078886539329,17.281209669616224,18.27088269624353,19.027266579036304,19.50648505746955,19.663550435234495,19.452853127854798,18.82917169310461,17.74980214759921,16.179382517718384,14.102162547674446,11.558643225932423,8.779089644833165,6.717384524905591,7.70067280138977,12.161378618695803,18.62983948219927,26.494614088894984,35.60715224443001,45.9490412122212,57.541897542356175,70.42002263919035,84.6199879687177,100.17558553781898,117.11470136700238,135.45691927880398,155.21138734209262,176.37474448574892,198.9290126311917,222.83940785596454,248.05204765681654,274.49154417608923,302.0584824353174,330.62678420550697,360.04100179655893,390.1103242919655,420.6126481224647,435.61001217930084],[1.1986913930037888e-15,0.1339009327778268,0.5660445213442056,1.1986166351706131,2.046628912013539,3.0908366470382833,4.303140627335176,5.652456519901186,7.106346900519405,8.631449652889678,10.193548464744218,11.757514333087464,13.287196069160672,14.745292052806747,16.09322011905125,17.290997449109575,18.2971418835408,19.068608861372933,19.56078521704624,19.72757614726448,19.52165472702974,18.895020925708028,17.800216536664887,16.193118814390857,14.040172087514739,11.340869338473322,8.21908021903559,5.433341646197634,5.981826024537624,10.692606714005692,17.349636963368088,25.311077247127464,34.47080250481185,44.83314002928853,56.43134061294436,69.30619425075864,83.49826778002448,99.04406245987022,115.9734747401473,134.30770498785768,154.05729105316178,175.22013014911053,197.7794263400811,221.70153341383167,246.93367875697837,273.40156252939386,301.0068321711381,329.62445781028634,359.0999414241293,389.24934444946035,419.8130024561555,435.4493788490613],[5.888235180447597e-15,0.038302836530307645,0.38300734912230966,1.0011848016928062,1.8540463881994704,2.9107380899196396,4.139038182603116,5.506157123308969,6.978851695764254,8.523334389965864,10.105133701045748,11.688938716727206,13.23843747772408,14.716154237707938,16.083289944369106,17.29957021049654,18.323105287524132,19.1102670749608,19.61558916569112,19.79169779111783,19.589285427988084,18.95714780745828,17.842328164241945,16.190480393278605,13.946799107907747,11.058912033516343,7.48994483675282,3.3475778687838242,2.9280326206477465,8.710163163383957,15.76660375976856,23.900212031852707,33.14237847495067,43.544347284176304,55.15934982021814,68.0382275680857,82.22731307976807,97.76680462604955,114.68921462919312,133.01776220400697,152.76466138407042,173.92928418111973,196.4961887643815,220.43300853176572,245.68820136261357,272.18866170180695,299.83720292356696,328.5099182838439,358.05325299088923,388.27917914938917,418.93415846573095,434.27578237854647],[1.2864914974516052e-15,0.03830283598855096,0.3830073483280518,1.0011848008318212,1.8540463873215411,2.910738089041782,4.139038181734065,5.506157122454865,6.9788516949301975,8.523334389156567,10.105133700265947,11.688938715981994,13.238437477019176,14.716154237050002,16.08328994376612,17.299570209958272,18.32310528706283,19.110267074592144,19.61558916543568,19.791697791003365,19.589285428053355,18.957147807759714,17.84232816486625,16.19048039436903,13.946799109726594,11.058912036625753,7.489944842737738,3.347577885752309,2.92803264470302,8.71016317323906,15.766603766310013,23.900212036975745,33.14237847929157,43.54434728802343,55.15934982372611,68.03822757134682,82.22731308284176,97.7668046289762,114.68921463200125,133.0177622067174,152.76466138669858,173.9292841836773,196.4961887668774,220.4330085342066,245.68820136500435,272.18866170415095,299.83720292586577,328.50991828609693,358.0532529930948,388.2791791515524,418.9341584678813,434.27578238059385],[6.120328108924774e-15,0.1339009320930608,0.5660445196087903,1.1986166329630379,2.0466289095978016,3.0908366445358455,4.303140624809075,5.652456517389292,7.106346898047807,8.631449650478864,10.193548462412341,11.757514330852343,13.28719606704119,14.7452920508241,16.093220117230246,17.29099744748023,18.297141882140405,19.068608860249032,19.560785216261035,19.727576146901754,19.521654727206187,18.89502092659296,17.800216538516906,16.19311881763225,14.04017209289978,11.340869347525029,8.21908023533583,5.433341677470169,5.98182605978365,10.69260673805004,17.34963698118153,25.31107726162973,34.47080251732888,44.83314004049878,56.431340623235094,69.30619426036982,83.49826778911438,99.04406246854809,115.9734747484913,134.3077049959253,154.05729106099602,175.22013015674398,197.77942634753853,221.70153342113167,246.9336787641347,273.4015625364159,301.00683217803066,329.6244578170503,359.0999414307648,389.2493444560016,419.81300246255154,435.44937885636585],[0.0,0.2323962598670725,0.7058744057988585,1.362330269279522,2.213353367144426,3.2502572763199677,4.450132768407014,5.784356927499758,7.221687474472383,8.7293845376947,10.27358556852782,11.81938959415761,13.330821850456365,14.770750279441232,16.10078886296308,17.281209667439366,18.270882694370147,19.02726657753007,19.50648505641363,19.663550434740785,19.45285312807897,18.829171694272084,17.749802150052812,16.179382522012755,14.102162554780186,11.558643237714442,8.779089665095931,6.717384558521613,7.70067283781007,12.161378646846833,18.629839504315548,26.494614107389047,35.60715226062883,45.94904122686653,57.54189755589279,70.42002265190263,84.61998798079739,100.17558554940076,117.11470137818401,135.4569192896583,155.21138735267476,176.37474449610113,198.9290126413465,222.8394078659467,248.05204766664457,274.49154418577604,302.05848244487044,330.62678421492916,360.0410018058534,390.1103243011387,420.61264813156333,435.61001218679854]],\"type\":\"surface\"}],                        {\"template\":{\"data\":{\"bar\":[{\"error_x\":{\"color\":\"#2a3f5f\"},\"error_y\":{\"color\":\"#2a3f5f\"},\"marker\":{\"line\":{\"color\":\"#E5ECF6\",\"width\":0.5},\"pattern\":{\"fillmode\":\"overlay\",\"size\":10,\"solidity\":0.2}},\"type\":\"bar\"}],\"barpolar\":[{\"marker\":{\"line\":{\"color\":\"#E5ECF6\",\"width\":0.5},\"pattern\":{\"fillmode\":\"overlay\",\"size\":10,\"solidity\":0.2}},\"type\":\"barpolar\"}],\"carpet\":[{\"aaxis\":{\"endlinecolor\":\"#2a3f5f\",\"gridcolor\":\"white\",\"linecolor\":\"white\",\"minorgridcolor\":\"white\",\"startlinecolor\":\"#2a3f5f\"},\"baxis\":{\"endlinecolor\":\"#2a3f5f\",\"gridcolor\":\"white\",\"linecolor\":\"white\",\"minorgridcolor\":\"white\",\"startlinecolor\":\"#2a3f5f\"},\"type\":\"carpet\"}],\"choropleth\":[{\"colorbar\":{\"outlinewidth\":0,\"ticks\":\"\"},\"type\":\"choropleth\"}],\"contour\":[{\"colorbar\":{\"outlinewidth\":0,\"ticks\":\"\"},\"colorscale\":[[0.0,\"#0d0887\"],[0.1111111111111111,\"#46039f\"],[0.2222222222222222,\"#7201a8\"],[0.3333333333333333,\"#9c179e\"],[0.4444444444444444,\"#bd3786\"],[0.5555555555555556,\"#d8576b\"],[0.6666666666666666,\"#ed7953\"],[0.7777777777777778,\"#fb9f3a\"],[0.8888888888888888,\"#fdca26\"],[1.0,\"#f0f921\"]],\"type\":\"contour\"}],\"contourcarpet\":[{\"colorbar\":{\"outlinewidth\":0,\"ticks\":\"\"},\"type\":\"contourcarpet\"}],\"heatmap\":[{\"colorbar\":{\"outlinewidth\":0,\"ticks\":\"\"},\"colorscale\":[[0.0,\"#0d0887\"],[0.1111111111111111,\"#46039f\"],[0.2222222222222222,\"#7201a8\"],[0.3333333333333333,\"#9c179e\"],[0.4444444444444444,\"#bd3786\"],[0.5555555555555556,\"#d8576b\"],[0.6666666666666666,\"#ed7953\"],[0.7777777777777778,\"#fb9f3a\"],[0.8888888888888888,\"#fdca26\"],[1.0,\"#f0f921\"]],\"type\":\"heatmap\"}],\"heatmapgl\":[{\"colorbar\":{\"outlinewidth\":0,\"ticks\":\"\"},\"colorscale\":[[0.0,\"#0d0887\"],[0.1111111111111111,\"#46039f\"],[0.2222222222222222,\"#7201a8\"],[0.3333333333333333,\"#9c179e\"],[0.4444444444444444,\"#bd3786\"],[0.5555555555555556,\"#d8576b\"],[0.6666666666666666,\"#ed7953\"],[0.7777777777777778,\"#fb9f3a\"],[0.8888888888888888,\"#fdca26\"],[1.0,\"#f0f921\"]],\"type\":\"heatmapgl\"}],\"histogram\":[{\"marker\":{\"pattern\":{\"fillmode\":\"overlay\",\"size\":10,\"solidity\":0.2}},\"type\":\"histogram\"}],\"histogram2d\":[{\"colorbar\":{\"outlinewidth\":0,\"ticks\":\"\"},\"colorscale\":[[0.0,\"#0d0887\"],[0.1111111111111111,\"#46039f\"],[0.2222222222222222,\"#7201a8\"],[0.3333333333333333,\"#9c179e\"],[0.4444444444444444,\"#bd3786\"],[0.5555555555555556,\"#d8576b\"],[0.6666666666666666,\"#ed7953\"],[0.7777777777777778,\"#fb9f3a\"],[0.8888888888888888,\"#fdca26\"],[1.0,\"#f0f921\"]],\"type\":\"histogram2d\"}],\"histogram2dcontour\":[{\"colorbar\":{\"outlinewidth\":0,\"ticks\":\"\"},\"colorscale\":[[0.0,\"#0d0887\"],[0.1111111111111111,\"#46039f\"],[0.2222222222222222,\"#7201a8\"],[0.3333333333333333,\"#9c179e\"],[0.4444444444444444,\"#bd3786\"],[0.5555555555555556,\"#d8576b\"],[0.6666666666666666,\"#ed7953\"],[0.7777777777777778,\"#fb9f3a\"],[0.8888888888888888,\"#fdca26\"],[1.0,\"#f0f921\"]],\"type\":\"histogram2dcontour\"}],\"mesh3d\":[{\"colorbar\":{\"outlinewidth\":0,\"ticks\":\"\"},\"type\":\"mesh3d\"}],\"parcoords\":[{\"line\":{\"colorbar\":{\"outlinewidth\":0,\"ticks\":\"\"}},\"type\":\"parcoords\"}],\"pie\":[{\"automargin\":true,\"type\":\"pie\"}],\"scatter\":[{\"marker\":{\"colorbar\":{\"outlinewidth\":0,\"ticks\":\"\"}},\"type\":\"scatter\"}],\"scatter3d\":[{\"line\":{\"colorbar\":{\"outlinewidth\":0,\"ticks\":\"\"}},\"marker\":{\"colorbar\":{\"outlinewidth\":0,\"ticks\":\"\"}},\"type\":\"scatter3d\"}],\"scattercarpet\":[{\"marker\":{\"colorbar\":{\"outlinewidth\":0,\"ticks\":\"\"}},\"type\":\"scattercarpet\"}],\"scattergeo\":[{\"marker\":{\"colorbar\":{\"outlinewidth\":0,\"ticks\":\"\"}},\"type\":\"scattergeo\"}],\"scattergl\":[{\"marker\":{\"colorbar\":{\"outlinewidth\":0,\"ticks\":\"\"}},\"type\":\"scattergl\"}],\"scattermapbox\":[{\"marker\":{\"colorbar\":{\"outlinewidth\":0,\"ticks\":\"\"}},\"type\":\"scattermapbox\"}],\"scatterpolar\":[{\"marker\":{\"colorbar\":{\"outlinewidth\":0,\"ticks\":\"\"}},\"type\":\"scatterpolar\"}],\"scatterpolargl\":[{\"marker\":{\"colorbar\":{\"outlinewidth\":0,\"ticks\":\"\"}},\"type\":\"scatterpolargl\"}],\"scatterternary\":[{\"marker\":{\"colorbar\":{\"outlinewidth\":0,\"ticks\":\"\"}},\"type\":\"scatterternary\"}],\"surface\":[{\"colorbar\":{\"outlinewidth\":0,\"ticks\":\"\"},\"colorscale\":[[0.0,\"#0d0887\"],[0.1111111111111111,\"#46039f\"],[0.2222222222222222,\"#7201a8\"],[0.3333333333333333,\"#9c179e\"],[0.4444444444444444,\"#bd3786\"],[0.5555555555555556,\"#d8576b\"],[0.6666666666666666,\"#ed7953\"],[0.7777777777777778,\"#fb9f3a\"],[0.8888888888888888,\"#fdca26\"],[1.0,\"#f0f921\"]],\"type\":\"surface\"}],\"table\":[{\"cells\":{\"fill\":{\"color\":\"#EBF0F8\"},\"line\":{\"color\":\"white\"}},\"header\":{\"fill\":{\"color\":\"#C8D4E3\"},\"line\":{\"color\":\"white\"}},\"type\":\"table\"}]},\"layout\":{\"annotationdefaults\":{\"arrowcolor\":\"#2a3f5f\",\"arrowhead\":0,\"arrowwidth\":1},\"autotypenumbers\":\"strict\",\"coloraxis\":{\"colorbar\":{\"outlinewidth\":0,\"ticks\":\"\"}},\"colorscale\":{\"diverging\":[[0,\"#8e0152\"],[0.1,\"#c51b7d\"],[0.2,\"#de77ae\"],[0.3,\"#f1b6da\"],[0.4,\"#fde0ef\"],[0.5,\"#f7f7f7\"],[0.6,\"#e6f5d0\"],[0.7,\"#b8e186\"],[0.8,\"#7fbc41\"],[0.9,\"#4d9221\"],[1,\"#276419\"]],\"sequential\":[[0.0,\"#0d0887\"],[0.1111111111111111,\"#46039f\"],[0.2222222222222222,\"#7201a8\"],[0.3333333333333333,\"#9c179e\"],[0.4444444444444444,\"#bd3786\"],[0.5555555555555556,\"#d8576b\"],[0.6666666666666666,\"#ed7953\"],[0.7777777777777778,\"#fb9f3a\"],[0.8888888888888888,\"#fdca26\"],[1.0,\"#f0f921\"]],\"sequentialminus\":[[0.0,\"#0d0887\"],[0.1111111111111111,\"#46039f\"],[0.2222222222222222,\"#7201a8\"],[0.3333333333333333,\"#9c179e\"],[0.4444444444444444,\"#bd3786\"],[0.5555555555555556,\"#d8576b\"],[0.6666666666666666,\"#ed7953\"],[0.7777777777777778,\"#fb9f3a\"],[0.8888888888888888,\"#fdca26\"],[1.0,\"#f0f921\"]]},\"colorway\":[\"#636efa\",\"#EF553B\",\"#00cc96\",\"#ab63fa\",\"#FFA15A\",\"#19d3f3\",\"#FF6692\",\"#B6E880\",\"#FF97FF\",\"#FECB52\"],\"font\":{\"color\":\"#2a3f5f\"},\"geo\":{\"bgcolor\":\"white\",\"lakecolor\":\"white\",\"landcolor\":\"#E5ECF6\",\"showlakes\":true,\"showland\":true,\"subunitcolor\":\"white\"},\"hoverlabel\":{\"align\":\"left\"},\"hovermode\":\"closest\",\"mapbox\":{\"style\":\"light\"},\"paper_bgcolor\":\"white\",\"plot_bgcolor\":\"#E5ECF6\",\"polar\":{\"angularaxis\":{\"gridcolor\":\"white\",\"linecolor\":\"white\",\"ticks\":\"\"},\"bgcolor\":\"#E5ECF6\",\"radialaxis\":{\"gridcolor\":\"white\",\"linecolor\":\"white\",\"ticks\":\"\"}},\"scene\":{\"xaxis\":{\"backgroundcolor\":\"#E5ECF6\",\"gridcolor\":\"white\",\"gridwidth\":2,\"linecolor\":\"white\",\"showbackground\":true,\"ticks\":\"\",\"zerolinecolor\":\"white\"},\"yaxis\":{\"backgroundcolor\":\"#E5ECF6\",\"gridcolor\":\"white\",\"gridwidth\":2,\"linecolor\":\"white\",\"showbackground\":true,\"ticks\":\"\",\"zerolinecolor\":\"white\"},\"zaxis\":{\"backgroundcolor\":\"#E5ECF6\",\"gridcolor\":\"white\",\"gridwidth\":2,\"linecolor\":\"white\",\"showbackground\":true,\"ticks\":\"\",\"zerolinecolor\":\"white\"}},\"shapedefaults\":{\"line\":{\"color\":\"#2a3f5f\"}},\"ternary\":{\"aaxis\":{\"gridcolor\":\"white\",\"linecolor\":\"white\",\"ticks\":\"\"},\"baxis\":{\"gridcolor\":\"white\",\"linecolor\":\"white\",\"ticks\":\"\"},\"bgcolor\":\"#E5ECF6\",\"caxis\":{\"gridcolor\":\"white\",\"linecolor\":\"white\",\"ticks\":\"\"}},\"title\":{\"x\":0.05},\"xaxis\":{\"automargin\":true,\"gridcolor\":\"white\",\"linecolor\":\"white\",\"ticks\":\"\",\"title\":{\"standoff\":15},\"zerolinecolor\":\"white\",\"zerolinewidth\":2},\"yaxis\":{\"automargin\":true,\"gridcolor\":\"white\",\"linecolor\":\"white\",\"ticks\":\"\",\"title\":{\"standoff\":15},\"zerolinecolor\":\"white\",\"zerolinewidth\":2}}}},                        {\"responsive\": true}                    ).then(function(){\n",
       "                            \n",
       "var gd = document.getElementById('78503aff-1b2b-4736-bb3d-58915f2dedec');\n",
       "var x = new MutationObserver(function (mutations, observer) {{\n",
       "        var display = window.getComputedStyle(gd).display;\n",
       "        if (!display || display === 'none') {{\n",
       "            console.log([gd, 'removed!']);\n",
       "            Plotly.purge(gd);\n",
       "            observer.disconnect();\n",
       "        }}\n",
       "}});\n",
       "\n",
       "// Listen for the removal of the full notebook cells\n",
       "var notebookContainer = gd.closest('#notebook-container');\n",
       "if (notebookContainer) {{\n",
       "    x.observe(notebookContainer, {childList: true});\n",
       "}}\n",
       "\n",
       "// Listen for the clearing of the current output cell\n",
       "var outputEl = gd.closest('.output');\n",
       "if (outputEl) {{\n",
       "    x.observe(outputEl, {childList: true});\n",
       "}}\n",
       "\n",
       "                        })                };                });            </script>        </div>"
      ]
     },
     "metadata": {},
     "output_type": "display_data"
    },
    {
     "name": "stdout",
     "output_type": "stream",
     "text": [
      "U graph\n"
     ]
    },
    {
     "data": {
      "application/vnd.plotly.v1+json": {
       "config": {
        "plotlyServerURL": "https://plot.ly"
       },
       "data": [
        {
         "type": "surface",
         "x": [
          [
           0,
           0.02,
           0.06,
           0.09999999999999999,
           0.13999999999999999,
           0.17999999999999997,
           0.21999999999999995,
           0.25999999999999995,
           0.3,
           0.33999999999999997,
           0.37999999999999995,
           0.41999999999999993,
           0.45999999999999996,
           0.49999999999999994,
           0.5399999999999999,
           0.58,
           0.6199999999999999,
           0.6599999999999999,
           0.7,
           0.7399999999999999,
           0.7799999999999999,
           0.8199999999999998,
           0.8599999999999999,
           0.8999999999999999,
           0.9399999999999998,
           0.9799999999999999,
           1.0199999999999998,
           1.0599999999999998,
           1.0999999999999999,
           1.14,
           1.18,
           1.2199999999999998,
           1.2599999999999998,
           1.2999999999999998,
           1.3399999999999999,
           1.38,
           1.4199999999999997,
           1.4599999999999997,
           1.4999999999999998,
           1.5399999999999998,
           1.5799999999999998,
           1.6199999999999997,
           1.6599999999999997,
           1.6999999999999997,
           1.7399999999999998,
           1.7799999999999998,
           1.8199999999999998,
           1.8599999999999997,
           1.8999999999999997,
           1.9399999999999997,
           1.9799999999999998,
           2
          ],
          [
           0,
           0.02,
           0.06,
           0.09999999999999999,
           0.13999999999999999,
           0.17999999999999997,
           0.21999999999999995,
           0.25999999999999995,
           0.3,
           0.33999999999999997,
           0.37999999999999995,
           0.41999999999999993,
           0.45999999999999996,
           0.49999999999999994,
           0.5399999999999999,
           0.58,
           0.6199999999999999,
           0.6599999999999999,
           0.7,
           0.7399999999999999,
           0.7799999999999999,
           0.8199999999999998,
           0.8599999999999999,
           0.8999999999999999,
           0.9399999999999998,
           0.9799999999999999,
           1.0199999999999998,
           1.0599999999999998,
           1.0999999999999999,
           1.14,
           1.18,
           1.2199999999999998,
           1.2599999999999998,
           1.2999999999999998,
           1.3399999999999999,
           1.38,
           1.4199999999999997,
           1.4599999999999997,
           1.4999999999999998,
           1.5399999999999998,
           1.5799999999999998,
           1.6199999999999997,
           1.6599999999999997,
           1.6999999999999997,
           1.7399999999999998,
           1.7799999999999998,
           1.8199999999999998,
           1.8599999999999997,
           1.8999999999999997,
           1.9399999999999997,
           1.9799999999999998,
           2
          ],
          [
           0,
           0.02,
           0.06,
           0.09999999999999999,
           0.13999999999999999,
           0.17999999999999997,
           0.21999999999999995,
           0.25999999999999995,
           0.3,
           0.33999999999999997,
           0.37999999999999995,
           0.41999999999999993,
           0.45999999999999996,
           0.49999999999999994,
           0.5399999999999999,
           0.58,
           0.6199999999999999,
           0.6599999999999999,
           0.7,
           0.7399999999999999,
           0.7799999999999999,
           0.8199999999999998,
           0.8599999999999999,
           0.8999999999999999,
           0.9399999999999998,
           0.9799999999999999,
           1.0199999999999998,
           1.0599999999999998,
           1.0999999999999999,
           1.14,
           1.18,
           1.2199999999999998,
           1.2599999999999998,
           1.2999999999999998,
           1.3399999999999999,
           1.38,
           1.4199999999999997,
           1.4599999999999997,
           1.4999999999999998,
           1.5399999999999998,
           1.5799999999999998,
           1.6199999999999997,
           1.6599999999999997,
           1.6999999999999997,
           1.7399999999999998,
           1.7799999999999998,
           1.8199999999999998,
           1.8599999999999997,
           1.8999999999999997,
           1.9399999999999997,
           1.9799999999999998,
           2
          ],
          [
           0,
           0.02,
           0.06,
           0.09999999999999999,
           0.13999999999999999,
           0.17999999999999997,
           0.21999999999999995,
           0.25999999999999995,
           0.3,
           0.33999999999999997,
           0.37999999999999995,
           0.41999999999999993,
           0.45999999999999996,
           0.49999999999999994,
           0.5399999999999999,
           0.58,
           0.6199999999999999,
           0.6599999999999999,
           0.7,
           0.7399999999999999,
           0.7799999999999999,
           0.8199999999999998,
           0.8599999999999999,
           0.8999999999999999,
           0.9399999999999998,
           0.9799999999999999,
           1.0199999999999998,
           1.0599999999999998,
           1.0999999999999999,
           1.14,
           1.18,
           1.2199999999999998,
           1.2599999999999998,
           1.2999999999999998,
           1.3399999999999999,
           1.38,
           1.4199999999999997,
           1.4599999999999997,
           1.4999999999999998,
           1.5399999999999998,
           1.5799999999999998,
           1.6199999999999997,
           1.6599999999999997,
           1.6999999999999997,
           1.7399999999999998,
           1.7799999999999998,
           1.8199999999999998,
           1.8599999999999997,
           1.8999999999999997,
           1.9399999999999997,
           1.9799999999999998,
           2
          ],
          [
           0,
           0.02,
           0.06,
           0.09999999999999999,
           0.13999999999999999,
           0.17999999999999997,
           0.21999999999999995,
           0.25999999999999995,
           0.3,
           0.33999999999999997,
           0.37999999999999995,
           0.41999999999999993,
           0.45999999999999996,
           0.49999999999999994,
           0.5399999999999999,
           0.58,
           0.6199999999999999,
           0.6599999999999999,
           0.7,
           0.7399999999999999,
           0.7799999999999999,
           0.8199999999999998,
           0.8599999999999999,
           0.8999999999999999,
           0.9399999999999998,
           0.9799999999999999,
           1.0199999999999998,
           1.0599999999999998,
           1.0999999999999999,
           1.14,
           1.18,
           1.2199999999999998,
           1.2599999999999998,
           1.2999999999999998,
           1.3399999999999999,
           1.38,
           1.4199999999999997,
           1.4599999999999997,
           1.4999999999999998,
           1.5399999999999998,
           1.5799999999999998,
           1.6199999999999997,
           1.6599999999999997,
           1.6999999999999997,
           1.7399999999999998,
           1.7799999999999998,
           1.8199999999999998,
           1.8599999999999997,
           1.8999999999999997,
           1.9399999999999997,
           1.9799999999999998,
           2
          ],
          [
           0,
           0.02,
           0.06,
           0.09999999999999999,
           0.13999999999999999,
           0.17999999999999997,
           0.21999999999999995,
           0.25999999999999995,
           0.3,
           0.33999999999999997,
           0.37999999999999995,
           0.41999999999999993,
           0.45999999999999996,
           0.49999999999999994,
           0.5399999999999999,
           0.58,
           0.6199999999999999,
           0.6599999999999999,
           0.7,
           0.7399999999999999,
           0.7799999999999999,
           0.8199999999999998,
           0.8599999999999999,
           0.8999999999999999,
           0.9399999999999998,
           0.9799999999999999,
           1.0199999999999998,
           1.0599999999999998,
           1.0999999999999999,
           1.14,
           1.18,
           1.2199999999999998,
           1.2599999999999998,
           1.2999999999999998,
           1.3399999999999999,
           1.38,
           1.4199999999999997,
           1.4599999999999997,
           1.4999999999999998,
           1.5399999999999998,
           1.5799999999999998,
           1.6199999999999997,
           1.6599999999999997,
           1.6999999999999997,
           1.7399999999999998,
           1.7799999999999998,
           1.8199999999999998,
           1.8599999999999997,
           1.8999999999999997,
           1.9399999999999997,
           1.9799999999999998,
           2
          ]
         ],
         "y": [
          [
           0,
           0,
           0,
           0,
           0,
           0,
           0,
           0,
           0,
           0,
           0,
           0,
           0,
           0,
           0,
           0,
           0,
           0,
           0,
           0,
           0,
           0,
           0,
           0,
           0,
           0,
           0,
           0,
           0,
           0,
           0,
           0,
           0,
           0,
           0,
           0,
           0,
           0,
           0,
           0,
           0,
           0,
           0,
           0,
           0,
           0,
           0,
           0,
           0,
           0,
           0,
           0
          ],
          [
           0.0125,
           0.0125,
           0.0125,
           0.0125,
           0.0125,
           0.0125,
           0.0125,
           0.0125,
           0.0125,
           0.0125,
           0.0125,
           0.0125,
           0.0125,
           0.0125,
           0.0125,
           0.0125,
           0.0125,
           0.0125,
           0.0125,
           0.0125,
           0.0125,
           0.0125,
           0.0125,
           0.0125,
           0.0125,
           0.0125,
           0.0125,
           0.0125,
           0.0125,
           0.0125,
           0.0125,
           0.0125,
           0.0125,
           0.0125,
           0.0125,
           0.0125,
           0.0125,
           0.0125,
           0.0125,
           0.0125,
           0.0125,
           0.0125,
           0.0125,
           0.0125,
           0.0125,
           0.0125,
           0.0125,
           0.0125,
           0.0125,
           0.0125,
           0.0125,
           0.0125
          ],
          [
           0.037500000000000006,
           0.037500000000000006,
           0.037500000000000006,
           0.037500000000000006,
           0.037500000000000006,
           0.037500000000000006,
           0.037500000000000006,
           0.037500000000000006,
           0.037500000000000006,
           0.037500000000000006,
           0.037500000000000006,
           0.037500000000000006,
           0.037500000000000006,
           0.037500000000000006,
           0.037500000000000006,
           0.037500000000000006,
           0.037500000000000006,
           0.037500000000000006,
           0.037500000000000006,
           0.037500000000000006,
           0.037500000000000006,
           0.037500000000000006,
           0.037500000000000006,
           0.037500000000000006,
           0.037500000000000006,
           0.037500000000000006,
           0.037500000000000006,
           0.037500000000000006,
           0.037500000000000006,
           0.037500000000000006,
           0.037500000000000006,
           0.037500000000000006,
           0.037500000000000006,
           0.037500000000000006,
           0.037500000000000006,
           0.037500000000000006,
           0.037500000000000006,
           0.037500000000000006,
           0.037500000000000006,
           0.037500000000000006,
           0.037500000000000006,
           0.037500000000000006,
           0.037500000000000006,
           0.037500000000000006,
           0.037500000000000006,
           0.037500000000000006,
           0.037500000000000006,
           0.037500000000000006,
           0.037500000000000006,
           0.037500000000000006,
           0.037500000000000006,
           0.037500000000000006
          ],
          [
           0.06250000000000001,
           0.06250000000000001,
           0.06250000000000001,
           0.06250000000000001,
           0.06250000000000001,
           0.06250000000000001,
           0.06250000000000001,
           0.06250000000000001,
           0.06250000000000001,
           0.06250000000000001,
           0.06250000000000001,
           0.06250000000000001,
           0.06250000000000001,
           0.06250000000000001,
           0.06250000000000001,
           0.06250000000000001,
           0.06250000000000001,
           0.06250000000000001,
           0.06250000000000001,
           0.06250000000000001,
           0.06250000000000001,
           0.06250000000000001,
           0.06250000000000001,
           0.06250000000000001,
           0.06250000000000001,
           0.06250000000000001,
           0.06250000000000001,
           0.06250000000000001,
           0.06250000000000001,
           0.06250000000000001,
           0.06250000000000001,
           0.06250000000000001,
           0.06250000000000001,
           0.06250000000000001,
           0.06250000000000001,
           0.06250000000000001,
           0.06250000000000001,
           0.06250000000000001,
           0.06250000000000001,
           0.06250000000000001,
           0.06250000000000001,
           0.06250000000000001,
           0.06250000000000001,
           0.06250000000000001,
           0.06250000000000001,
           0.06250000000000001,
           0.06250000000000001,
           0.06250000000000001,
           0.06250000000000001,
           0.06250000000000001,
           0.06250000000000001,
           0.06250000000000001
          ],
          [
           0.08750000000000001,
           0.08750000000000001,
           0.08750000000000001,
           0.08750000000000001,
           0.08750000000000001,
           0.08750000000000001,
           0.08750000000000001,
           0.08750000000000001,
           0.08750000000000001,
           0.08750000000000001,
           0.08750000000000001,
           0.08750000000000001,
           0.08750000000000001,
           0.08750000000000001,
           0.08750000000000001,
           0.08750000000000001,
           0.08750000000000001,
           0.08750000000000001,
           0.08750000000000001,
           0.08750000000000001,
           0.08750000000000001,
           0.08750000000000001,
           0.08750000000000001,
           0.08750000000000001,
           0.08750000000000001,
           0.08750000000000001,
           0.08750000000000001,
           0.08750000000000001,
           0.08750000000000001,
           0.08750000000000001,
           0.08750000000000001,
           0.08750000000000001,
           0.08750000000000001,
           0.08750000000000001,
           0.08750000000000001,
           0.08750000000000001,
           0.08750000000000001,
           0.08750000000000001,
           0.08750000000000001,
           0.08750000000000001,
           0.08750000000000001,
           0.08750000000000001,
           0.08750000000000001,
           0.08750000000000001,
           0.08750000000000001,
           0.08750000000000001,
           0.08750000000000001,
           0.08750000000000001,
           0.08750000000000001,
           0.08750000000000001,
           0.08750000000000001,
           0.08750000000000001
          ],
          [
           0.1,
           0.1,
           0.1,
           0.1,
           0.1,
           0.1,
           0.1,
           0.1,
           0.1,
           0.1,
           0.1,
           0.1,
           0.1,
           0.1,
           0.1,
           0.1,
           0.1,
           0.1,
           0.1,
           0.1,
           0.1,
           0.1,
           0.1,
           0.1,
           0.1,
           0.1,
           0.1,
           0.1,
           0.1,
           0.1,
           0.1,
           0.1,
           0.1,
           0.1,
           0.1,
           0.1,
           0.1,
           0.1,
           0.1,
           0.1,
           0.1,
           0.1,
           0.1,
           0.1,
           0.1,
           0.1,
           0.1,
           0.1,
           0.1,
           0.1,
           0.1,
           0.1
          ]
         ],
         "z": [
          [
           0,
           2.1103826389938796e-7,
           5.435190697738209e-7,
           8.570845033668859e-7,
           0.0000011323098938121705,
           0.0000013670306441331118,
           0.0000015605920069067237,
           0.0000017125300156664958,
           0.0000018222548784547876,
           0.0000018890016608781897,
           0.000001911815242436034,
           0.0000018895431599169088,
           0.0000018208330742247707,
           0.0000017041346818416749,
           0.0000015377061896187646,
           0.0000013196255096782793,
           0.0000010478063504547456,
           7.20019398405445e-7,
           3.3391880225312067e-7,
           -1.1292581300941214e-7,
           -6.22991562319737e-7,
           -0.0000011987584972369985,
           -0.000001842659527422635,
           -0.000002557023809513962,
           -0.000003344013349211698,
           -0.000004205552571183409,
           -0.000005143250626404201,
           -0.000006158316228514914,
           -0.000007251464840403355,
           -0.000008422818070253136,
           -0.000009671795183525588,
           -0.000010996996694527234,
           -0.000012396080069163478,
           -0.000013865627649990146,
           -0.000015401007006549157,
           -0.0000169962240190054,
           -0.00001864376912206478,
           -0.000020334457269794792,
           -0.000022057262330997646,
           -0.000023799146789849475,
           -0.00002554488780818268,
           -0.00002727690090452528,
           -0.000028975062721803357,
           -0.00003061653459890033,
           -0.000032175588993439215,
           -0.0000336234417028907,
           -0.00003492809489944337,
           -0.00003605421659404232,
           -0.00003696268204014319,
           -0.00003761226605575216,
           -0.000037865137425349764,
           -0.00003813027870921005
          ],
          [
           -1.1890993586608342e-21,
           1.254597702829657e-7,
           3.932659916508036e-7,
           6.303022156125319e-7,
           8.370195523236365e-7,
           0.00000101301021144549,
           0.0000011580545073977682,
           0.0000012718300805384545,
           0.000001353893648924105,
           0.0000014036685118956827,
           0.0000014204363323377657,
           0.0000014033320459277118,
           0.0000013513420046307854,
           0.0000012633054477051024,
           0.0000011379194028449986,
           9.737471338492529e-7,
           7.692302660089594e-7,
           5.227047345338086e-7,
           2.3242071427825716e-7,
           -1.0343329958476368e-7,
           -4.867020808519545e-7,
           -9.192307453569444e-7,
           -0.0000014028271173210036,
           -0.000001939219197404226,
           -0.000002530007543480071,
           -0.0000031766123819417364,
           -0.0000038802152788208625,
           -0.000004641695216682866,
           -0.000005461558945702931,
           -0.000006339865506082521,
           -0.0000072761448546128774,
           -0.000008269310571316264,
           -0.000009317566673292364,
           -0.000010418308622765387,
           -0.000011568018685465742,
           -0.000012762155874479774,
           -0.000013995040804141786,
           -0.00001525973587898173,
           -0.00001654792135471274,
           -0.00001784976793225492,
           -0.000019153806682385588,
           -0.000020446797248646736,
           -0.00002171359544226307,
           -0.000022937021536535353,
           -0.00002409773084772599,
           -0.000025174088829902377,
           -0.00002614205584645187,
           -0.000026975094699727113,
           -0.000027644271927678215,
           -0.00002811755310554199,
           -0.000028384162655036177,
           -0.00002824201776758663
          ],
          [
           -5.58876698570592e-21,
           3.741859165907481e-8,
           1.2667921683190211e-7,
           2.0663421399322443e-7,
           2.7571862820899626e-7,
           3.3439290755890985e-7,
           3.827111619740936e-7,
           4.205893943304725e-7,
           4.4788251935240773e-7,
           4.6439800328622483e-7,
           4.6989594967877373e-7,
           4.640878276315223e-7,
           4.466359204836547e-7,
           4.171538352115834e-7,
           3.7520814970026595e-7,
           3.2032124263521685e-7,
           2.5197535056085607e-7,
           1.6961790057525384e-7,
           7.266817128123537e-8,
           -3.947466165646558e-8,
           -1.6742203589896977e-7,
           -3.117850069992746e-7,
           -4.731616839896124e-7,
           -6.521230325200178e-7,
           -8.491969829980892e-7,
           -0.0000010648507834949167,
           -0.0000012994715410615706,
           -0.000001553344900718986,
           -0.0000018266318189228208,
           -0.000002119343397950492,
           -0.000002431313759601318,
           -0.000002762170951037784,
           -0.00000311130589272418,
           -0.000003477839398437458,
           -0.000003860587320432908,
           -0.0000042580238992403305,
           -0.0000046682434274356025,
           -0.0000050889203702567176,
           -0.000005517268123257698,
           -0.000005949996628339465,
           -0.000006383269113936866,
           -0.000006812658269767947,
           -0.000007233102195900943,
           -0.000007638860405361987,
           -0.000008023469655977443,
           -0.00000837969684846017,
           -0.000008699474873896722,
           -0.000008973766488351844,
           -0.000009192155610486259,
           -0.000009342590478967716,
           -0.00000940630287524072,
           -0.000009468018015787414
          ],
          [
           1.621499125446592e-23,
           -3.7418591128368284e-8,
           -1.2667921494815407e-7,
           -2.0663421071207947e-7,
           -2.757186235363615e-7,
           -3.34392901498727e-7,
           -3.827111545267904e-7,
           -4.2058938549501524e-7,
           -4.478825091272551e-7,
           -4.643979916696212e-7,
           -4.698959366688297e-7,
           -4.640878132262577e-7,
           -4.4663590468103323e-7,
           -4.1715381800954906e-7,
           -3.752081310967827e-7,
           -3.2032122262830796e-7,
           -2.519753291486446e-7,
           -1.6961787775601074e-7,
           -7.266814705342123e-8,
           3.947468729415922e-8,
           1.6742206294758017e-7,
           3.117850354595066e-7,
           4.7316171386177826e-7,
           6.521230638040043e-7,
           8.491970156932978e-7,
           0.0000010648508176002035,
           0.0000012994715765751943,
           0.000001553344937638547,
           0.0000018266318572452091,
           0.0000021193434376718264,
           0.0000024313138007168927,
           0.000002762170993542004,
           0.000003111305936610511,
           0.000003477839443698383,
           0.000003860587367059887,
           0.0000042580239472237195,
           0.000004668243476764639,
           0.000005088920420919507,
           0.000005517268175241162,
           0.0000059499966816293335,
           0.000006383269168517662,
           0.000006812658325623026,
           0.000007233102253012536,
           0.000007638860463711227,
           0.000008023469715544308,
           0.000008379696909223535,
           0.000008699474935833799,
           0.000008973766551436317,
           0.000009192155674683537,
           0.00000934259054423243,
           0.000009406302941477957,
           0.000009468018082637868
          ],
          [
           6.118456700018474e-21,
           -1.2545976968508292e-7,
           -3.9326598971772244e-7,
           -6.303022123186029e-7,
           -8.370195476515533e-7,
           -0.0000010130102053897177,
           -0.0000011580544999560753,
           -0.0000012718300717091802,
           -0.0000013538936387055053,
           -0.000001403668500285855,
           -0.0000014204363193346647,
           -0.0000014033320315291957,
           -0.0000013513419888346478,
           -0.0000012633054305091117,
           -0.0000011379193842469397,
           -9.737471138469626e-7,
           -7.692302446003644e-7,
           -5.227047117169775e-7,
           -2.3242069005143616e-7,
           1.03433325223108e-7,
           4.867021079030856e-7,
           9.192307738218034e-7,
           0.000001402827147200159,
           0.0000019392192286978208,
           0.0000025300075761877655,
           0.000003176612416062659,
           0.000003880215314353551,
           0.000004641695253625202,
           0.0000054615589840520915,
           0.000006339865545834909,
           0.000007276144895764065,
           0.000008269310613860933,
           0.000009317566717224254,
           0.000010418308668077242,
           0.000011568018732149248,
           0.000012762155922525514,
           0.0000139950408535392,
           0.00001525973592971908,
           0.00001654792140677707,
           0.00001784976798563199,
           0.000019153806737059955,
           0.00002044679730460172,
           0.000021713595499480765,
           0.000022937021594996672,
           0.000024097730907410665,
           0.00002517408889078913,
           0.000026142055908518935,
           0.000026975094762953976,
           0.000027644271992051418,
           0.000028117553171060853,
           0.000028384162721789075,
           0.00002824201783425419
          ],
          [
           0,
           -2.1103826310678207e-7,
           -5.435190678131802e-7,
           -8.570845000747333e-7,
           -0.0000011323098891486326,
           -0.0000013670306380877562,
           -0.0000015605919994766723,
           -0.000001712530006849889,
           -0.0000018222548682496323,
           -0.0000018890016492822811,
           -0.00000191181522944701,
           -0.0000018895431455322922,
           -0.0000018208330584420096,
           -0.0000017041346646581836,
           -0.0000015377061710319577,
           -0.0000013196254896856118,
           -0.0000010478063290537473,
           -7.20019375593767e-7,
           -3.339187780285788e-7,
           1.1292583864880226e-7,
           6.229915893757078e-7,
           0.000001198758525710978,
           0.0000018426595573156988,
           0.000002557023840826774,
           0.000003344013381944456,
           0.000004205552605335798,
           0.000005143250661975319,
           0.000006158316265503218,
           0.000007251464878806604,
           0.00000842281811006831,
           0.000009671795224748833,
           0.0000109969967371538,
           0.00001239608011318766,
           0.000013865627695405209,
           0.000015401007053347256,
           0.000016996224067177594,
           0.00001864376917160089,
           0.000020334457320683383,
           0.000022057262383225995,
           0.000023799146843403526,
           0.00002554488786304698,
           0.00002727690096068308,
           0.000028975062779236463,
           0.00003061653465758926,
           0.000032175589053363036,
           0.00003362344176402719,
           0.00003492809496176951,
           0.00003605421665753673,
           0.00003696268210479217,
           0.000037612266121569814,
           0.00003786513749188281,
           0.00003813027877734386
          ]
         ]
        }
       ],
       "layout": {
        "template": {
         "data": {
          "bar": [
           {
            "error_x": {
             "color": "#2a3f5f"
            },
            "error_y": {
             "color": "#2a3f5f"
            },
            "marker": {
             "line": {
              "color": "#E5ECF6",
              "width": 0.5
             },
             "pattern": {
              "fillmode": "overlay",
              "size": 10,
              "solidity": 0.2
             }
            },
            "type": "bar"
           }
          ],
          "barpolar": [
           {
            "marker": {
             "line": {
              "color": "#E5ECF6",
              "width": 0.5
             },
             "pattern": {
              "fillmode": "overlay",
              "size": 10,
              "solidity": 0.2
             }
            },
            "type": "barpolar"
           }
          ],
          "carpet": [
           {
            "aaxis": {
             "endlinecolor": "#2a3f5f",
             "gridcolor": "white",
             "linecolor": "white",
             "minorgridcolor": "white",
             "startlinecolor": "#2a3f5f"
            },
            "baxis": {
             "endlinecolor": "#2a3f5f",
             "gridcolor": "white",
             "linecolor": "white",
             "minorgridcolor": "white",
             "startlinecolor": "#2a3f5f"
            },
            "type": "carpet"
           }
          ],
          "choropleth": [
           {
            "colorbar": {
             "outlinewidth": 0,
             "ticks": ""
            },
            "type": "choropleth"
           }
          ],
          "contour": [
           {
            "colorbar": {
             "outlinewidth": 0,
             "ticks": ""
            },
            "colorscale": [
             [
              0,
              "#0d0887"
             ],
             [
              0.1111111111111111,
              "#46039f"
             ],
             [
              0.2222222222222222,
              "#7201a8"
             ],
             [
              0.3333333333333333,
              "#9c179e"
             ],
             [
              0.4444444444444444,
              "#bd3786"
             ],
             [
              0.5555555555555556,
              "#d8576b"
             ],
             [
              0.6666666666666666,
              "#ed7953"
             ],
             [
              0.7777777777777778,
              "#fb9f3a"
             ],
             [
              0.8888888888888888,
              "#fdca26"
             ],
             [
              1,
              "#f0f921"
             ]
            ],
            "type": "contour"
           }
          ],
          "contourcarpet": [
           {
            "colorbar": {
             "outlinewidth": 0,
             "ticks": ""
            },
            "type": "contourcarpet"
           }
          ],
          "heatmap": [
           {
            "colorbar": {
             "outlinewidth": 0,
             "ticks": ""
            },
            "colorscale": [
             [
              0,
              "#0d0887"
             ],
             [
              0.1111111111111111,
              "#46039f"
             ],
             [
              0.2222222222222222,
              "#7201a8"
             ],
             [
              0.3333333333333333,
              "#9c179e"
             ],
             [
              0.4444444444444444,
              "#bd3786"
             ],
             [
              0.5555555555555556,
              "#d8576b"
             ],
             [
              0.6666666666666666,
              "#ed7953"
             ],
             [
              0.7777777777777778,
              "#fb9f3a"
             ],
             [
              0.8888888888888888,
              "#fdca26"
             ],
             [
              1,
              "#f0f921"
             ]
            ],
            "type": "heatmap"
           }
          ],
          "heatmapgl": [
           {
            "colorbar": {
             "outlinewidth": 0,
             "ticks": ""
            },
            "colorscale": [
             [
              0,
              "#0d0887"
             ],
             [
              0.1111111111111111,
              "#46039f"
             ],
             [
              0.2222222222222222,
              "#7201a8"
             ],
             [
              0.3333333333333333,
              "#9c179e"
             ],
             [
              0.4444444444444444,
              "#bd3786"
             ],
             [
              0.5555555555555556,
              "#d8576b"
             ],
             [
              0.6666666666666666,
              "#ed7953"
             ],
             [
              0.7777777777777778,
              "#fb9f3a"
             ],
             [
              0.8888888888888888,
              "#fdca26"
             ],
             [
              1,
              "#f0f921"
             ]
            ],
            "type": "heatmapgl"
           }
          ],
          "histogram": [
           {
            "marker": {
             "pattern": {
              "fillmode": "overlay",
              "size": 10,
              "solidity": 0.2
             }
            },
            "type": "histogram"
           }
          ],
          "histogram2d": [
           {
            "colorbar": {
             "outlinewidth": 0,
             "ticks": ""
            },
            "colorscale": [
             [
              0,
              "#0d0887"
             ],
             [
              0.1111111111111111,
              "#46039f"
             ],
             [
              0.2222222222222222,
              "#7201a8"
             ],
             [
              0.3333333333333333,
              "#9c179e"
             ],
             [
              0.4444444444444444,
              "#bd3786"
             ],
             [
              0.5555555555555556,
              "#d8576b"
             ],
             [
              0.6666666666666666,
              "#ed7953"
             ],
             [
              0.7777777777777778,
              "#fb9f3a"
             ],
             [
              0.8888888888888888,
              "#fdca26"
             ],
             [
              1,
              "#f0f921"
             ]
            ],
            "type": "histogram2d"
           }
          ],
          "histogram2dcontour": [
           {
            "colorbar": {
             "outlinewidth": 0,
             "ticks": ""
            },
            "colorscale": [
             [
              0,
              "#0d0887"
             ],
             [
              0.1111111111111111,
              "#46039f"
             ],
             [
              0.2222222222222222,
              "#7201a8"
             ],
             [
              0.3333333333333333,
              "#9c179e"
             ],
             [
              0.4444444444444444,
              "#bd3786"
             ],
             [
              0.5555555555555556,
              "#d8576b"
             ],
             [
              0.6666666666666666,
              "#ed7953"
             ],
             [
              0.7777777777777778,
              "#fb9f3a"
             ],
             [
              0.8888888888888888,
              "#fdca26"
             ],
             [
              1,
              "#f0f921"
             ]
            ],
            "type": "histogram2dcontour"
           }
          ],
          "mesh3d": [
           {
            "colorbar": {
             "outlinewidth": 0,
             "ticks": ""
            },
            "type": "mesh3d"
           }
          ],
          "parcoords": [
           {
            "line": {
             "colorbar": {
              "outlinewidth": 0,
              "ticks": ""
             }
            },
            "type": "parcoords"
           }
          ],
          "pie": [
           {
            "automargin": true,
            "type": "pie"
           }
          ],
          "scatter": [
           {
            "marker": {
             "colorbar": {
              "outlinewidth": 0,
              "ticks": ""
             }
            },
            "type": "scatter"
           }
          ],
          "scatter3d": [
           {
            "line": {
             "colorbar": {
              "outlinewidth": 0,
              "ticks": ""
             }
            },
            "marker": {
             "colorbar": {
              "outlinewidth": 0,
              "ticks": ""
             }
            },
            "type": "scatter3d"
           }
          ],
          "scattercarpet": [
           {
            "marker": {
             "colorbar": {
              "outlinewidth": 0,
              "ticks": ""
             }
            },
            "type": "scattercarpet"
           }
          ],
          "scattergeo": [
           {
            "marker": {
             "colorbar": {
              "outlinewidth": 0,
              "ticks": ""
             }
            },
            "type": "scattergeo"
           }
          ],
          "scattergl": [
           {
            "marker": {
             "colorbar": {
              "outlinewidth": 0,
              "ticks": ""
             }
            },
            "type": "scattergl"
           }
          ],
          "scattermapbox": [
           {
            "marker": {
             "colorbar": {
              "outlinewidth": 0,
              "ticks": ""
             }
            },
            "type": "scattermapbox"
           }
          ],
          "scatterpolar": [
           {
            "marker": {
             "colorbar": {
              "outlinewidth": 0,
              "ticks": ""
             }
            },
            "type": "scatterpolar"
           }
          ],
          "scatterpolargl": [
           {
            "marker": {
             "colorbar": {
              "outlinewidth": 0,
              "ticks": ""
             }
            },
            "type": "scatterpolargl"
           }
          ],
          "scatterternary": [
           {
            "marker": {
             "colorbar": {
              "outlinewidth": 0,
              "ticks": ""
             }
            },
            "type": "scatterternary"
           }
          ],
          "surface": [
           {
            "colorbar": {
             "outlinewidth": 0,
             "ticks": ""
            },
            "colorscale": [
             [
              0,
              "#0d0887"
             ],
             [
              0.1111111111111111,
              "#46039f"
             ],
             [
              0.2222222222222222,
              "#7201a8"
             ],
             [
              0.3333333333333333,
              "#9c179e"
             ],
             [
              0.4444444444444444,
              "#bd3786"
             ],
             [
              0.5555555555555556,
              "#d8576b"
             ],
             [
              0.6666666666666666,
              "#ed7953"
             ],
             [
              0.7777777777777778,
              "#fb9f3a"
             ],
             [
              0.8888888888888888,
              "#fdca26"
             ],
             [
              1,
              "#f0f921"
             ]
            ],
            "type": "surface"
           }
          ],
          "table": [
           {
            "cells": {
             "fill": {
              "color": "#EBF0F8"
             },
             "line": {
              "color": "white"
             }
            },
            "header": {
             "fill": {
              "color": "#C8D4E3"
             },
             "line": {
              "color": "white"
             }
            },
            "type": "table"
           }
          ]
         },
         "layout": {
          "annotationdefaults": {
           "arrowcolor": "#2a3f5f",
           "arrowhead": 0,
           "arrowwidth": 1
          },
          "autotypenumbers": "strict",
          "coloraxis": {
           "colorbar": {
            "outlinewidth": 0,
            "ticks": ""
           }
          },
          "colorscale": {
           "diverging": [
            [
             0,
             "#8e0152"
            ],
            [
             0.1,
             "#c51b7d"
            ],
            [
             0.2,
             "#de77ae"
            ],
            [
             0.3,
             "#f1b6da"
            ],
            [
             0.4,
             "#fde0ef"
            ],
            [
             0.5,
             "#f7f7f7"
            ],
            [
             0.6,
             "#e6f5d0"
            ],
            [
             0.7,
             "#b8e186"
            ],
            [
             0.8,
             "#7fbc41"
            ],
            [
             0.9,
             "#4d9221"
            ],
            [
             1,
             "#276419"
            ]
           ],
           "sequential": [
            [
             0,
             "#0d0887"
            ],
            [
             0.1111111111111111,
             "#46039f"
            ],
            [
             0.2222222222222222,
             "#7201a8"
            ],
            [
             0.3333333333333333,
             "#9c179e"
            ],
            [
             0.4444444444444444,
             "#bd3786"
            ],
            [
             0.5555555555555556,
             "#d8576b"
            ],
            [
             0.6666666666666666,
             "#ed7953"
            ],
            [
             0.7777777777777778,
             "#fb9f3a"
            ],
            [
             0.8888888888888888,
             "#fdca26"
            ],
            [
             1,
             "#f0f921"
            ]
           ],
           "sequentialminus": [
            [
             0,
             "#0d0887"
            ],
            [
             0.1111111111111111,
             "#46039f"
            ],
            [
             0.2222222222222222,
             "#7201a8"
            ],
            [
             0.3333333333333333,
             "#9c179e"
            ],
            [
             0.4444444444444444,
             "#bd3786"
            ],
            [
             0.5555555555555556,
             "#d8576b"
            ],
            [
             0.6666666666666666,
             "#ed7953"
            ],
            [
             0.7777777777777778,
             "#fb9f3a"
            ],
            [
             0.8888888888888888,
             "#fdca26"
            ],
            [
             1,
             "#f0f921"
            ]
           ]
          },
          "colorway": [
           "#636efa",
           "#EF553B",
           "#00cc96",
           "#ab63fa",
           "#FFA15A",
           "#19d3f3",
           "#FF6692",
           "#B6E880",
           "#FF97FF",
           "#FECB52"
          ],
          "font": {
           "color": "#2a3f5f"
          },
          "geo": {
           "bgcolor": "white",
           "lakecolor": "white",
           "landcolor": "#E5ECF6",
           "showlakes": true,
           "showland": true,
           "subunitcolor": "white"
          },
          "hoverlabel": {
           "align": "left"
          },
          "hovermode": "closest",
          "mapbox": {
           "style": "light"
          },
          "paper_bgcolor": "white",
          "plot_bgcolor": "#E5ECF6",
          "polar": {
           "angularaxis": {
            "gridcolor": "white",
            "linecolor": "white",
            "ticks": ""
           },
           "bgcolor": "#E5ECF6",
           "radialaxis": {
            "gridcolor": "white",
            "linecolor": "white",
            "ticks": ""
           }
          },
          "scene": {
           "xaxis": {
            "backgroundcolor": "#E5ECF6",
            "gridcolor": "white",
            "gridwidth": 2,
            "linecolor": "white",
            "showbackground": true,
            "ticks": "",
            "zerolinecolor": "white"
           },
           "yaxis": {
            "backgroundcolor": "#E5ECF6",
            "gridcolor": "white",
            "gridwidth": 2,
            "linecolor": "white",
            "showbackground": true,
            "ticks": "",
            "zerolinecolor": "white"
           },
           "zaxis": {
            "backgroundcolor": "#E5ECF6",
            "gridcolor": "white",
            "gridwidth": 2,
            "linecolor": "white",
            "showbackground": true,
            "ticks": "",
            "zerolinecolor": "white"
           }
          },
          "shapedefaults": {
           "line": {
            "color": "#2a3f5f"
           }
          },
          "ternary": {
           "aaxis": {
            "gridcolor": "white",
            "linecolor": "white",
            "ticks": ""
           },
           "baxis": {
            "gridcolor": "white",
            "linecolor": "white",
            "ticks": ""
           },
           "bgcolor": "#E5ECF6",
           "caxis": {
            "gridcolor": "white",
            "linecolor": "white",
            "ticks": ""
           }
          },
          "title": {
           "x": 0.05
          },
          "xaxis": {
           "automargin": true,
           "gridcolor": "white",
           "linecolor": "white",
           "ticks": "",
           "title": {
            "standoff": 15
           },
           "zerolinecolor": "white",
           "zerolinewidth": 2
          },
          "yaxis": {
           "automargin": true,
           "gridcolor": "white",
           "linecolor": "white",
           "ticks": "",
           "title": {
            "standoff": 15
           },
           "zerolinecolor": "white",
           "zerolinewidth": 2
          }
         }
        }
       }
      },
      "text/html": [
       "<div>                            <div id=\"5b26eaee-f032-4c6d-9b21-36e0be0e83f9\" class=\"plotly-graph-div\" style=\"height:525px; width:100%;\"></div>            <script type=\"text/javascript\">                require([\"plotly\"], function(Plotly) {                    window.PLOTLYENV=window.PLOTLYENV || {};                                    if (document.getElementById(\"5b26eaee-f032-4c6d-9b21-36e0be0e83f9\")) {                    Plotly.newPlot(                        \"5b26eaee-f032-4c6d-9b21-36e0be0e83f9\",                        [{\"x\":[[0.0,0.02,0.06,0.09999999999999999,0.13999999999999999,0.17999999999999997,0.21999999999999995,0.25999999999999995,0.3,0.33999999999999997,0.37999999999999995,0.41999999999999993,0.45999999999999996,0.49999999999999994,0.5399999999999999,0.58,0.6199999999999999,0.6599999999999999,0.7,0.7399999999999999,0.7799999999999999,0.8199999999999998,0.8599999999999999,0.8999999999999999,0.9399999999999998,0.9799999999999999,1.0199999999999998,1.0599999999999998,1.0999999999999999,1.14,1.18,1.2199999999999998,1.2599999999999998,1.2999999999999998,1.3399999999999999,1.38,1.4199999999999997,1.4599999999999997,1.4999999999999998,1.5399999999999998,1.5799999999999998,1.6199999999999997,1.6599999999999997,1.6999999999999997,1.7399999999999998,1.7799999999999998,1.8199999999999998,1.8599999999999997,1.8999999999999997,1.9399999999999997,1.9799999999999998,2.0],[0.0,0.02,0.06,0.09999999999999999,0.13999999999999999,0.17999999999999997,0.21999999999999995,0.25999999999999995,0.3,0.33999999999999997,0.37999999999999995,0.41999999999999993,0.45999999999999996,0.49999999999999994,0.5399999999999999,0.58,0.6199999999999999,0.6599999999999999,0.7,0.7399999999999999,0.7799999999999999,0.8199999999999998,0.8599999999999999,0.8999999999999999,0.9399999999999998,0.9799999999999999,1.0199999999999998,1.0599999999999998,1.0999999999999999,1.14,1.18,1.2199999999999998,1.2599999999999998,1.2999999999999998,1.3399999999999999,1.38,1.4199999999999997,1.4599999999999997,1.4999999999999998,1.5399999999999998,1.5799999999999998,1.6199999999999997,1.6599999999999997,1.6999999999999997,1.7399999999999998,1.7799999999999998,1.8199999999999998,1.8599999999999997,1.8999999999999997,1.9399999999999997,1.9799999999999998,2.0],[0.0,0.02,0.06,0.09999999999999999,0.13999999999999999,0.17999999999999997,0.21999999999999995,0.25999999999999995,0.3,0.33999999999999997,0.37999999999999995,0.41999999999999993,0.45999999999999996,0.49999999999999994,0.5399999999999999,0.58,0.6199999999999999,0.6599999999999999,0.7,0.7399999999999999,0.7799999999999999,0.8199999999999998,0.8599999999999999,0.8999999999999999,0.9399999999999998,0.9799999999999999,1.0199999999999998,1.0599999999999998,1.0999999999999999,1.14,1.18,1.2199999999999998,1.2599999999999998,1.2999999999999998,1.3399999999999999,1.38,1.4199999999999997,1.4599999999999997,1.4999999999999998,1.5399999999999998,1.5799999999999998,1.6199999999999997,1.6599999999999997,1.6999999999999997,1.7399999999999998,1.7799999999999998,1.8199999999999998,1.8599999999999997,1.8999999999999997,1.9399999999999997,1.9799999999999998,2.0],[0.0,0.02,0.06,0.09999999999999999,0.13999999999999999,0.17999999999999997,0.21999999999999995,0.25999999999999995,0.3,0.33999999999999997,0.37999999999999995,0.41999999999999993,0.45999999999999996,0.49999999999999994,0.5399999999999999,0.58,0.6199999999999999,0.6599999999999999,0.7,0.7399999999999999,0.7799999999999999,0.8199999999999998,0.8599999999999999,0.8999999999999999,0.9399999999999998,0.9799999999999999,1.0199999999999998,1.0599999999999998,1.0999999999999999,1.14,1.18,1.2199999999999998,1.2599999999999998,1.2999999999999998,1.3399999999999999,1.38,1.4199999999999997,1.4599999999999997,1.4999999999999998,1.5399999999999998,1.5799999999999998,1.6199999999999997,1.6599999999999997,1.6999999999999997,1.7399999999999998,1.7799999999999998,1.8199999999999998,1.8599999999999997,1.8999999999999997,1.9399999999999997,1.9799999999999998,2.0],[0.0,0.02,0.06,0.09999999999999999,0.13999999999999999,0.17999999999999997,0.21999999999999995,0.25999999999999995,0.3,0.33999999999999997,0.37999999999999995,0.41999999999999993,0.45999999999999996,0.49999999999999994,0.5399999999999999,0.58,0.6199999999999999,0.6599999999999999,0.7,0.7399999999999999,0.7799999999999999,0.8199999999999998,0.8599999999999999,0.8999999999999999,0.9399999999999998,0.9799999999999999,1.0199999999999998,1.0599999999999998,1.0999999999999999,1.14,1.18,1.2199999999999998,1.2599999999999998,1.2999999999999998,1.3399999999999999,1.38,1.4199999999999997,1.4599999999999997,1.4999999999999998,1.5399999999999998,1.5799999999999998,1.6199999999999997,1.6599999999999997,1.6999999999999997,1.7399999999999998,1.7799999999999998,1.8199999999999998,1.8599999999999997,1.8999999999999997,1.9399999999999997,1.9799999999999998,2.0],[0.0,0.02,0.06,0.09999999999999999,0.13999999999999999,0.17999999999999997,0.21999999999999995,0.25999999999999995,0.3,0.33999999999999997,0.37999999999999995,0.41999999999999993,0.45999999999999996,0.49999999999999994,0.5399999999999999,0.58,0.6199999999999999,0.6599999999999999,0.7,0.7399999999999999,0.7799999999999999,0.8199999999999998,0.8599999999999999,0.8999999999999999,0.9399999999999998,0.9799999999999999,1.0199999999999998,1.0599999999999998,1.0999999999999999,1.14,1.18,1.2199999999999998,1.2599999999999998,1.2999999999999998,1.3399999999999999,1.38,1.4199999999999997,1.4599999999999997,1.4999999999999998,1.5399999999999998,1.5799999999999998,1.6199999999999997,1.6599999999999997,1.6999999999999997,1.7399999999999998,1.7799999999999998,1.8199999999999998,1.8599999999999997,1.8999999999999997,1.9399999999999997,1.9799999999999998,2.0]],\"y\":[[0.0,0.0,0.0,0.0,0.0,0.0,0.0,0.0,0.0,0.0,0.0,0.0,0.0,0.0,0.0,0.0,0.0,0.0,0.0,0.0,0.0,0.0,0.0,0.0,0.0,0.0,0.0,0.0,0.0,0.0,0.0,0.0,0.0,0.0,0.0,0.0,0.0,0.0,0.0,0.0,0.0,0.0,0.0,0.0,0.0,0.0,0.0,0.0,0.0,0.0,0.0,0.0],[0.0125,0.0125,0.0125,0.0125,0.0125,0.0125,0.0125,0.0125,0.0125,0.0125,0.0125,0.0125,0.0125,0.0125,0.0125,0.0125,0.0125,0.0125,0.0125,0.0125,0.0125,0.0125,0.0125,0.0125,0.0125,0.0125,0.0125,0.0125,0.0125,0.0125,0.0125,0.0125,0.0125,0.0125,0.0125,0.0125,0.0125,0.0125,0.0125,0.0125,0.0125,0.0125,0.0125,0.0125,0.0125,0.0125,0.0125,0.0125,0.0125,0.0125,0.0125,0.0125],[0.037500000000000006,0.037500000000000006,0.037500000000000006,0.037500000000000006,0.037500000000000006,0.037500000000000006,0.037500000000000006,0.037500000000000006,0.037500000000000006,0.037500000000000006,0.037500000000000006,0.037500000000000006,0.037500000000000006,0.037500000000000006,0.037500000000000006,0.037500000000000006,0.037500000000000006,0.037500000000000006,0.037500000000000006,0.037500000000000006,0.037500000000000006,0.037500000000000006,0.037500000000000006,0.037500000000000006,0.037500000000000006,0.037500000000000006,0.037500000000000006,0.037500000000000006,0.037500000000000006,0.037500000000000006,0.037500000000000006,0.037500000000000006,0.037500000000000006,0.037500000000000006,0.037500000000000006,0.037500000000000006,0.037500000000000006,0.037500000000000006,0.037500000000000006,0.037500000000000006,0.037500000000000006,0.037500000000000006,0.037500000000000006,0.037500000000000006,0.037500000000000006,0.037500000000000006,0.037500000000000006,0.037500000000000006,0.037500000000000006,0.037500000000000006,0.037500000000000006,0.037500000000000006],[0.06250000000000001,0.06250000000000001,0.06250000000000001,0.06250000000000001,0.06250000000000001,0.06250000000000001,0.06250000000000001,0.06250000000000001,0.06250000000000001,0.06250000000000001,0.06250000000000001,0.06250000000000001,0.06250000000000001,0.06250000000000001,0.06250000000000001,0.06250000000000001,0.06250000000000001,0.06250000000000001,0.06250000000000001,0.06250000000000001,0.06250000000000001,0.06250000000000001,0.06250000000000001,0.06250000000000001,0.06250000000000001,0.06250000000000001,0.06250000000000001,0.06250000000000001,0.06250000000000001,0.06250000000000001,0.06250000000000001,0.06250000000000001,0.06250000000000001,0.06250000000000001,0.06250000000000001,0.06250000000000001,0.06250000000000001,0.06250000000000001,0.06250000000000001,0.06250000000000001,0.06250000000000001,0.06250000000000001,0.06250000000000001,0.06250000000000001,0.06250000000000001,0.06250000000000001,0.06250000000000001,0.06250000000000001,0.06250000000000001,0.06250000000000001,0.06250000000000001,0.06250000000000001],[0.08750000000000001,0.08750000000000001,0.08750000000000001,0.08750000000000001,0.08750000000000001,0.08750000000000001,0.08750000000000001,0.08750000000000001,0.08750000000000001,0.08750000000000001,0.08750000000000001,0.08750000000000001,0.08750000000000001,0.08750000000000001,0.08750000000000001,0.08750000000000001,0.08750000000000001,0.08750000000000001,0.08750000000000001,0.08750000000000001,0.08750000000000001,0.08750000000000001,0.08750000000000001,0.08750000000000001,0.08750000000000001,0.08750000000000001,0.08750000000000001,0.08750000000000001,0.08750000000000001,0.08750000000000001,0.08750000000000001,0.08750000000000001,0.08750000000000001,0.08750000000000001,0.08750000000000001,0.08750000000000001,0.08750000000000001,0.08750000000000001,0.08750000000000001,0.08750000000000001,0.08750000000000001,0.08750000000000001,0.08750000000000001,0.08750000000000001,0.08750000000000001,0.08750000000000001,0.08750000000000001,0.08750000000000001,0.08750000000000001,0.08750000000000001,0.08750000000000001,0.08750000000000001],[0.1,0.1,0.1,0.1,0.1,0.1,0.1,0.1,0.1,0.1,0.1,0.1,0.1,0.1,0.1,0.1,0.1,0.1,0.1,0.1,0.1,0.1,0.1,0.1,0.1,0.1,0.1,0.1,0.1,0.1,0.1,0.1,0.1,0.1,0.1,0.1,0.1,0.1,0.1,0.1,0.1,0.1,0.1,0.1,0.1,0.1,0.1,0.1,0.1,0.1,0.1,0.1]],\"z\":[[0.0,2.1103826389938796e-07,5.435190697738209e-07,8.570845033668859e-07,1.1323098938121705e-06,1.3670306441331118e-06,1.5605920069067237e-06,1.7125300156664958e-06,1.8222548784547876e-06,1.8890016608781897e-06,1.911815242436034e-06,1.8895431599169088e-06,1.8208330742247707e-06,1.7041346818416749e-06,1.5377061896187646e-06,1.3196255096782793e-06,1.0478063504547456e-06,7.20019398405445e-07,3.3391880225312067e-07,-1.1292581300941214e-07,-6.22991562319737e-07,-1.1987584972369985e-06,-1.842659527422635e-06,-2.557023809513962e-06,-3.344013349211698e-06,-4.205552571183409e-06,-5.143250626404201e-06,-6.158316228514914e-06,-7.251464840403355e-06,-8.422818070253136e-06,-9.671795183525588e-06,-1.0996996694527234e-05,-1.2396080069163478e-05,-1.3865627649990146e-05,-1.5401007006549157e-05,-1.69962240190054e-05,-1.864376912206478e-05,-2.0334457269794792e-05,-2.2057262330997646e-05,-2.3799146789849475e-05,-2.554488780818268e-05,-2.727690090452528e-05,-2.8975062721803357e-05,-3.061653459890033e-05,-3.2175588993439215e-05,-3.36234417028907e-05,-3.492809489944337e-05,-3.605421659404232e-05,-3.696268204014319e-05,-3.761226605575216e-05,-3.7865137425349764e-05,-3.813027870921005e-05],[-1.1890993586608342e-21,1.254597702829657e-07,3.932659916508036e-07,6.303022156125319e-07,8.370195523236365e-07,1.01301021144549e-06,1.1580545073977682e-06,1.2718300805384545e-06,1.353893648924105e-06,1.4036685118956827e-06,1.4204363323377657e-06,1.4033320459277118e-06,1.3513420046307854e-06,1.2633054477051024e-06,1.1379194028449986e-06,9.737471338492529e-07,7.692302660089594e-07,5.227047345338086e-07,2.3242071427825716e-07,-1.0343329958476368e-07,-4.867020808519545e-07,-9.192307453569444e-07,-1.4028271173210036e-06,-1.939219197404226e-06,-2.530007543480071e-06,-3.1766123819417364e-06,-3.8802152788208625e-06,-4.641695216682866e-06,-5.461558945702931e-06,-6.339865506082521e-06,-7.2761448546128774e-06,-8.269310571316264e-06,-9.317566673292364e-06,-1.0418308622765387e-05,-1.1568018685465742e-05,-1.2762155874479774e-05,-1.3995040804141786e-05,-1.525973587898173e-05,-1.654792135471274e-05,-1.784976793225492e-05,-1.9153806682385588e-05,-2.0446797248646736e-05,-2.171359544226307e-05,-2.2937021536535353e-05,-2.409773084772599e-05,-2.5174088829902377e-05,-2.614205584645187e-05,-2.6975094699727113e-05,-2.7644271927678215e-05,-2.811755310554199e-05,-2.8384162655036177e-05,-2.824201776758663e-05],[-5.58876698570592e-21,3.741859165907481e-08,1.2667921683190211e-07,2.0663421399322443e-07,2.7571862820899626e-07,3.3439290755890985e-07,3.827111619740936e-07,4.205893943304725e-07,4.4788251935240773e-07,4.6439800328622483e-07,4.6989594967877373e-07,4.640878276315223e-07,4.466359204836547e-07,4.171538352115834e-07,3.7520814970026595e-07,3.2032124263521685e-07,2.5197535056085607e-07,1.6961790057525384e-07,7.266817128123537e-08,-3.947466165646558e-08,-1.6742203589896977e-07,-3.117850069992746e-07,-4.731616839896124e-07,-6.521230325200178e-07,-8.491969829980892e-07,-1.0648507834949167e-06,-1.2994715410615706e-06,-1.553344900718986e-06,-1.8266318189228208e-06,-2.119343397950492e-06,-2.431313759601318e-06,-2.762170951037784e-06,-3.11130589272418e-06,-3.477839398437458e-06,-3.860587320432908e-06,-4.2580238992403305e-06,-4.6682434274356025e-06,-5.0889203702567176e-06,-5.517268123257698e-06,-5.949996628339465e-06,-6.383269113936866e-06,-6.812658269767947e-06,-7.233102195900943e-06,-7.638860405361987e-06,-8.023469655977443e-06,-8.37969684846017e-06,-8.699474873896722e-06,-8.973766488351844e-06,-9.192155610486259e-06,-9.342590478967716e-06,-9.40630287524072e-06,-9.468018015787414e-06],[1.621499125446592e-23,-3.7418591128368284e-08,-1.2667921494815407e-07,-2.0663421071207947e-07,-2.757186235363615e-07,-3.34392901498727e-07,-3.827111545267904e-07,-4.2058938549501524e-07,-4.478825091272551e-07,-4.643979916696212e-07,-4.698959366688297e-07,-4.640878132262577e-07,-4.4663590468103323e-07,-4.1715381800954906e-07,-3.752081310967827e-07,-3.2032122262830796e-07,-2.519753291486446e-07,-1.6961787775601074e-07,-7.266814705342123e-08,3.947468729415922e-08,1.6742206294758017e-07,3.117850354595066e-07,4.7316171386177826e-07,6.521230638040043e-07,8.491970156932978e-07,1.0648508176002035e-06,1.2994715765751943e-06,1.553344937638547e-06,1.8266318572452091e-06,2.1193434376718264e-06,2.4313138007168927e-06,2.762170993542004e-06,3.111305936610511e-06,3.477839443698383e-06,3.860587367059887e-06,4.2580239472237195e-06,4.668243476764639e-06,5.088920420919507e-06,5.517268175241162e-06,5.9499966816293335e-06,6.383269168517662e-06,6.812658325623026e-06,7.233102253012536e-06,7.638860463711227e-06,8.023469715544308e-06,8.379696909223535e-06,8.699474935833799e-06,8.973766551436317e-06,9.192155674683537e-06,9.34259054423243e-06,9.406302941477957e-06,9.468018082637868e-06],[6.118456700018474e-21,-1.2545976968508292e-07,-3.9326598971772244e-07,-6.303022123186029e-07,-8.370195476515533e-07,-1.0130102053897177e-06,-1.1580544999560753e-06,-1.2718300717091802e-06,-1.3538936387055053e-06,-1.403668500285855e-06,-1.4204363193346647e-06,-1.4033320315291957e-06,-1.3513419888346478e-06,-1.2633054305091117e-06,-1.1379193842469397e-06,-9.737471138469626e-07,-7.692302446003644e-07,-5.227047117169775e-07,-2.3242069005143616e-07,1.03433325223108e-07,4.867021079030856e-07,9.192307738218034e-07,1.402827147200159e-06,1.9392192286978208e-06,2.5300075761877655e-06,3.176612416062659e-06,3.880215314353551e-06,4.641695253625202e-06,5.4615589840520915e-06,6.339865545834909e-06,7.276144895764065e-06,8.269310613860933e-06,9.317566717224254e-06,1.0418308668077242e-05,1.1568018732149248e-05,1.2762155922525514e-05,1.39950408535392e-05,1.525973592971908e-05,1.654792140677707e-05,1.784976798563199e-05,1.9153806737059955e-05,2.044679730460172e-05,2.1713595499480765e-05,2.2937021594996672e-05,2.4097730907410665e-05,2.517408889078913e-05,2.6142055908518935e-05,2.6975094762953976e-05,2.7644271992051418e-05,2.8117553171060853e-05,2.8384162721789075e-05,2.824201783425419e-05],[0.0,-2.1103826310678207e-07,-5.435190678131802e-07,-8.570845000747333e-07,-1.1323098891486326e-06,-1.3670306380877562e-06,-1.5605919994766723e-06,-1.712530006849889e-06,-1.8222548682496323e-06,-1.8890016492822811e-06,-1.91181522944701e-06,-1.8895431455322922e-06,-1.8208330584420096e-06,-1.7041346646581836e-06,-1.5377061710319577e-06,-1.3196254896856118e-06,-1.0478063290537473e-06,-7.20019375593767e-07,-3.339187780285788e-07,1.1292583864880226e-07,6.229915893757078e-07,1.198758525710978e-06,1.8426595573156988e-06,2.557023840826774e-06,3.344013381944456e-06,4.205552605335798e-06,5.143250661975319e-06,6.158316265503218e-06,7.251464878806604e-06,8.42281811006831e-06,9.671795224748833e-06,1.09969967371538e-05,1.239608011318766e-05,1.3865627695405209e-05,1.5401007053347256e-05,1.6996224067177594e-05,1.864376917160089e-05,2.0334457320683383e-05,2.2057262383225995e-05,2.3799146843403526e-05,2.554488786304698e-05,2.727690096068308e-05,2.8975062779236463e-05,3.061653465758926e-05,3.2175589053363036e-05,3.362344176402719e-05,3.492809496176951e-05,3.605421665753673e-05,3.696268210479217e-05,3.7612266121569814e-05,3.786513749188281e-05,3.813027877734386e-05]],\"type\":\"surface\"}],                        {\"template\":{\"data\":{\"bar\":[{\"error_x\":{\"color\":\"#2a3f5f\"},\"error_y\":{\"color\":\"#2a3f5f\"},\"marker\":{\"line\":{\"color\":\"#E5ECF6\",\"width\":0.5},\"pattern\":{\"fillmode\":\"overlay\",\"size\":10,\"solidity\":0.2}},\"type\":\"bar\"}],\"barpolar\":[{\"marker\":{\"line\":{\"color\":\"#E5ECF6\",\"width\":0.5},\"pattern\":{\"fillmode\":\"overlay\",\"size\":10,\"solidity\":0.2}},\"type\":\"barpolar\"}],\"carpet\":[{\"aaxis\":{\"endlinecolor\":\"#2a3f5f\",\"gridcolor\":\"white\",\"linecolor\":\"white\",\"minorgridcolor\":\"white\",\"startlinecolor\":\"#2a3f5f\"},\"baxis\":{\"endlinecolor\":\"#2a3f5f\",\"gridcolor\":\"white\",\"linecolor\":\"white\",\"minorgridcolor\":\"white\",\"startlinecolor\":\"#2a3f5f\"},\"type\":\"carpet\"}],\"choropleth\":[{\"colorbar\":{\"outlinewidth\":0,\"ticks\":\"\"},\"type\":\"choropleth\"}],\"contour\":[{\"colorbar\":{\"outlinewidth\":0,\"ticks\":\"\"},\"colorscale\":[[0.0,\"#0d0887\"],[0.1111111111111111,\"#46039f\"],[0.2222222222222222,\"#7201a8\"],[0.3333333333333333,\"#9c179e\"],[0.4444444444444444,\"#bd3786\"],[0.5555555555555556,\"#d8576b\"],[0.6666666666666666,\"#ed7953\"],[0.7777777777777778,\"#fb9f3a\"],[0.8888888888888888,\"#fdca26\"],[1.0,\"#f0f921\"]],\"type\":\"contour\"}],\"contourcarpet\":[{\"colorbar\":{\"outlinewidth\":0,\"ticks\":\"\"},\"type\":\"contourcarpet\"}],\"heatmap\":[{\"colorbar\":{\"outlinewidth\":0,\"ticks\":\"\"},\"colorscale\":[[0.0,\"#0d0887\"],[0.1111111111111111,\"#46039f\"],[0.2222222222222222,\"#7201a8\"],[0.3333333333333333,\"#9c179e\"],[0.4444444444444444,\"#bd3786\"],[0.5555555555555556,\"#d8576b\"],[0.6666666666666666,\"#ed7953\"],[0.7777777777777778,\"#fb9f3a\"],[0.8888888888888888,\"#fdca26\"],[1.0,\"#f0f921\"]],\"type\":\"heatmap\"}],\"heatmapgl\":[{\"colorbar\":{\"outlinewidth\":0,\"ticks\":\"\"},\"colorscale\":[[0.0,\"#0d0887\"],[0.1111111111111111,\"#46039f\"],[0.2222222222222222,\"#7201a8\"],[0.3333333333333333,\"#9c179e\"],[0.4444444444444444,\"#bd3786\"],[0.5555555555555556,\"#d8576b\"],[0.6666666666666666,\"#ed7953\"],[0.7777777777777778,\"#fb9f3a\"],[0.8888888888888888,\"#fdca26\"],[1.0,\"#f0f921\"]],\"type\":\"heatmapgl\"}],\"histogram\":[{\"marker\":{\"pattern\":{\"fillmode\":\"overlay\",\"size\":10,\"solidity\":0.2}},\"type\":\"histogram\"}],\"histogram2d\":[{\"colorbar\":{\"outlinewidth\":0,\"ticks\":\"\"},\"colorscale\":[[0.0,\"#0d0887\"],[0.1111111111111111,\"#46039f\"],[0.2222222222222222,\"#7201a8\"],[0.3333333333333333,\"#9c179e\"],[0.4444444444444444,\"#bd3786\"],[0.5555555555555556,\"#d8576b\"],[0.6666666666666666,\"#ed7953\"],[0.7777777777777778,\"#fb9f3a\"],[0.8888888888888888,\"#fdca26\"],[1.0,\"#f0f921\"]],\"type\":\"histogram2d\"}],\"histogram2dcontour\":[{\"colorbar\":{\"outlinewidth\":0,\"ticks\":\"\"},\"colorscale\":[[0.0,\"#0d0887\"],[0.1111111111111111,\"#46039f\"],[0.2222222222222222,\"#7201a8\"],[0.3333333333333333,\"#9c179e\"],[0.4444444444444444,\"#bd3786\"],[0.5555555555555556,\"#d8576b\"],[0.6666666666666666,\"#ed7953\"],[0.7777777777777778,\"#fb9f3a\"],[0.8888888888888888,\"#fdca26\"],[1.0,\"#f0f921\"]],\"type\":\"histogram2dcontour\"}],\"mesh3d\":[{\"colorbar\":{\"outlinewidth\":0,\"ticks\":\"\"},\"type\":\"mesh3d\"}],\"parcoords\":[{\"line\":{\"colorbar\":{\"outlinewidth\":0,\"ticks\":\"\"}},\"type\":\"parcoords\"}],\"pie\":[{\"automargin\":true,\"type\":\"pie\"}],\"scatter\":[{\"marker\":{\"colorbar\":{\"outlinewidth\":0,\"ticks\":\"\"}},\"type\":\"scatter\"}],\"scatter3d\":[{\"line\":{\"colorbar\":{\"outlinewidth\":0,\"ticks\":\"\"}},\"marker\":{\"colorbar\":{\"outlinewidth\":0,\"ticks\":\"\"}},\"type\":\"scatter3d\"}],\"scattercarpet\":[{\"marker\":{\"colorbar\":{\"outlinewidth\":0,\"ticks\":\"\"}},\"type\":\"scattercarpet\"}],\"scattergeo\":[{\"marker\":{\"colorbar\":{\"outlinewidth\":0,\"ticks\":\"\"}},\"type\":\"scattergeo\"}],\"scattergl\":[{\"marker\":{\"colorbar\":{\"outlinewidth\":0,\"ticks\":\"\"}},\"type\":\"scattergl\"}],\"scattermapbox\":[{\"marker\":{\"colorbar\":{\"outlinewidth\":0,\"ticks\":\"\"}},\"type\":\"scattermapbox\"}],\"scatterpolar\":[{\"marker\":{\"colorbar\":{\"outlinewidth\":0,\"ticks\":\"\"}},\"type\":\"scatterpolar\"}],\"scatterpolargl\":[{\"marker\":{\"colorbar\":{\"outlinewidth\":0,\"ticks\":\"\"}},\"type\":\"scatterpolargl\"}],\"scatterternary\":[{\"marker\":{\"colorbar\":{\"outlinewidth\":0,\"ticks\":\"\"}},\"type\":\"scatterternary\"}],\"surface\":[{\"colorbar\":{\"outlinewidth\":0,\"ticks\":\"\"},\"colorscale\":[[0.0,\"#0d0887\"],[0.1111111111111111,\"#46039f\"],[0.2222222222222222,\"#7201a8\"],[0.3333333333333333,\"#9c179e\"],[0.4444444444444444,\"#bd3786\"],[0.5555555555555556,\"#d8576b\"],[0.6666666666666666,\"#ed7953\"],[0.7777777777777778,\"#fb9f3a\"],[0.8888888888888888,\"#fdca26\"],[1.0,\"#f0f921\"]],\"type\":\"surface\"}],\"table\":[{\"cells\":{\"fill\":{\"color\":\"#EBF0F8\"},\"line\":{\"color\":\"white\"}},\"header\":{\"fill\":{\"color\":\"#C8D4E3\"},\"line\":{\"color\":\"white\"}},\"type\":\"table\"}]},\"layout\":{\"annotationdefaults\":{\"arrowcolor\":\"#2a3f5f\",\"arrowhead\":0,\"arrowwidth\":1},\"autotypenumbers\":\"strict\",\"coloraxis\":{\"colorbar\":{\"outlinewidth\":0,\"ticks\":\"\"}},\"colorscale\":{\"diverging\":[[0,\"#8e0152\"],[0.1,\"#c51b7d\"],[0.2,\"#de77ae\"],[0.3,\"#f1b6da\"],[0.4,\"#fde0ef\"],[0.5,\"#f7f7f7\"],[0.6,\"#e6f5d0\"],[0.7,\"#b8e186\"],[0.8,\"#7fbc41\"],[0.9,\"#4d9221\"],[1,\"#276419\"]],\"sequential\":[[0.0,\"#0d0887\"],[0.1111111111111111,\"#46039f\"],[0.2222222222222222,\"#7201a8\"],[0.3333333333333333,\"#9c179e\"],[0.4444444444444444,\"#bd3786\"],[0.5555555555555556,\"#d8576b\"],[0.6666666666666666,\"#ed7953\"],[0.7777777777777778,\"#fb9f3a\"],[0.8888888888888888,\"#fdca26\"],[1.0,\"#f0f921\"]],\"sequentialminus\":[[0.0,\"#0d0887\"],[0.1111111111111111,\"#46039f\"],[0.2222222222222222,\"#7201a8\"],[0.3333333333333333,\"#9c179e\"],[0.4444444444444444,\"#bd3786\"],[0.5555555555555556,\"#d8576b\"],[0.6666666666666666,\"#ed7953\"],[0.7777777777777778,\"#fb9f3a\"],[0.8888888888888888,\"#fdca26\"],[1.0,\"#f0f921\"]]},\"colorway\":[\"#636efa\",\"#EF553B\",\"#00cc96\",\"#ab63fa\",\"#FFA15A\",\"#19d3f3\",\"#FF6692\",\"#B6E880\",\"#FF97FF\",\"#FECB52\"],\"font\":{\"color\":\"#2a3f5f\"},\"geo\":{\"bgcolor\":\"white\",\"lakecolor\":\"white\",\"landcolor\":\"#E5ECF6\",\"showlakes\":true,\"showland\":true,\"subunitcolor\":\"white\"},\"hoverlabel\":{\"align\":\"left\"},\"hovermode\":\"closest\",\"mapbox\":{\"style\":\"light\"},\"paper_bgcolor\":\"white\",\"plot_bgcolor\":\"#E5ECF6\",\"polar\":{\"angularaxis\":{\"gridcolor\":\"white\",\"linecolor\":\"white\",\"ticks\":\"\"},\"bgcolor\":\"#E5ECF6\",\"radialaxis\":{\"gridcolor\":\"white\",\"linecolor\":\"white\",\"ticks\":\"\"}},\"scene\":{\"xaxis\":{\"backgroundcolor\":\"#E5ECF6\",\"gridcolor\":\"white\",\"gridwidth\":2,\"linecolor\":\"white\",\"showbackground\":true,\"ticks\":\"\",\"zerolinecolor\":\"white\"},\"yaxis\":{\"backgroundcolor\":\"#E5ECF6\",\"gridcolor\":\"white\",\"gridwidth\":2,\"linecolor\":\"white\",\"showbackground\":true,\"ticks\":\"\",\"zerolinecolor\":\"white\"},\"zaxis\":{\"backgroundcolor\":\"#E5ECF6\",\"gridcolor\":\"white\",\"gridwidth\":2,\"linecolor\":\"white\",\"showbackground\":true,\"ticks\":\"\",\"zerolinecolor\":\"white\"}},\"shapedefaults\":{\"line\":{\"color\":\"#2a3f5f\"}},\"ternary\":{\"aaxis\":{\"gridcolor\":\"white\",\"linecolor\":\"white\",\"ticks\":\"\"},\"baxis\":{\"gridcolor\":\"white\",\"linecolor\":\"white\",\"ticks\":\"\"},\"bgcolor\":\"#E5ECF6\",\"caxis\":{\"gridcolor\":\"white\",\"linecolor\":\"white\",\"ticks\":\"\"}},\"title\":{\"x\":0.05},\"xaxis\":{\"automargin\":true,\"gridcolor\":\"white\",\"linecolor\":\"white\",\"ticks\":\"\",\"title\":{\"standoff\":15},\"zerolinecolor\":\"white\",\"zerolinewidth\":2},\"yaxis\":{\"automargin\":true,\"gridcolor\":\"white\",\"linecolor\":\"white\",\"ticks\":\"\",\"title\":{\"standoff\":15},\"zerolinecolor\":\"white\",\"zerolinewidth\":2}}}},                        {\"responsive\": true}                    ).then(function(){\n",
       "                            \n",
       "var gd = document.getElementById('5b26eaee-f032-4c6d-9b21-36e0be0e83f9');\n",
       "var x = new MutationObserver(function (mutations, observer) {{\n",
       "        var display = window.getComputedStyle(gd).display;\n",
       "        if (!display || display === 'none') {{\n",
       "            console.log([gd, 'removed!']);\n",
       "            Plotly.purge(gd);\n",
       "            observer.disconnect();\n",
       "        }}\n",
       "}});\n",
       "\n",
       "// Listen for the removal of the full notebook cells\n",
       "var notebookContainer = gd.closest('#notebook-container');\n",
       "if (notebookContainer) {{\n",
       "    x.observe(notebookContainer, {childList: true});\n",
       "}}\n",
       "\n",
       "// Listen for the clearing of the current output cell\n",
       "var outputEl = gd.closest('.output');\n",
       "if (outputEl) {{\n",
       "    x.observe(outputEl, {childList: true});\n",
       "}}\n",
       "\n",
       "                        })                };                });            </script>        </div>"
      ]
     },
     "metadata": {},
     "output_type": "display_data"
    },
    {
     "name": "stdout",
     "output_type": "stream",
     "text": [
      "V graph\n"
     ]
    },
    {
     "data": {
      "application/vnd.plotly.v1+json": {
       "config": {
        "plotlyServerURL": "https://plot.ly"
       },
       "data": [
        {
         "type": "surface",
         "x": [
          [
           0,
           0.02,
           0.06,
           0.09999999999999999,
           0.13999999999999999,
           0.17999999999999997,
           0.21999999999999995,
           0.25999999999999995,
           0.3,
           0.33999999999999997,
           0.37999999999999995,
           0.41999999999999993,
           0.45999999999999996,
           0.49999999999999994,
           0.5399999999999999,
           0.58,
           0.6199999999999999,
           0.6599999999999999,
           0.7,
           0.7399999999999999,
           0.7799999999999999,
           0.8199999999999998,
           0.8599999999999999,
           0.8999999999999999,
           0.9399999999999998,
           0.9799999999999999,
           1.0199999999999998,
           1.0599999999999998,
           1.0999999999999999,
           1.14,
           1.18,
           1.2199999999999998,
           1.2599999999999998,
           1.2999999999999998,
           1.3399999999999999,
           1.38,
           1.4199999999999997,
           1.4599999999999997,
           1.4999999999999998,
           1.5399999999999998,
           1.5799999999999998,
           1.6199999999999997,
           1.6599999999999997,
           1.6999999999999997,
           1.7399999999999998,
           1.7799999999999998,
           1.8199999999999998,
           1.8599999999999997,
           1.8999999999999997,
           1.9399999999999997,
           1.9799999999999998,
           2
          ],
          [
           0,
           0.02,
           0.06,
           0.09999999999999999,
           0.13999999999999999,
           0.17999999999999997,
           0.21999999999999995,
           0.25999999999999995,
           0.3,
           0.33999999999999997,
           0.37999999999999995,
           0.41999999999999993,
           0.45999999999999996,
           0.49999999999999994,
           0.5399999999999999,
           0.58,
           0.6199999999999999,
           0.6599999999999999,
           0.7,
           0.7399999999999999,
           0.7799999999999999,
           0.8199999999999998,
           0.8599999999999999,
           0.8999999999999999,
           0.9399999999999998,
           0.9799999999999999,
           1.0199999999999998,
           1.0599999999999998,
           1.0999999999999999,
           1.14,
           1.18,
           1.2199999999999998,
           1.2599999999999998,
           1.2999999999999998,
           1.3399999999999999,
           1.38,
           1.4199999999999997,
           1.4599999999999997,
           1.4999999999999998,
           1.5399999999999998,
           1.5799999999999998,
           1.6199999999999997,
           1.6599999999999997,
           1.6999999999999997,
           1.7399999999999998,
           1.7799999999999998,
           1.8199999999999998,
           1.8599999999999997,
           1.8999999999999997,
           1.9399999999999997,
           1.9799999999999998,
           2
          ],
          [
           0,
           0.02,
           0.06,
           0.09999999999999999,
           0.13999999999999999,
           0.17999999999999997,
           0.21999999999999995,
           0.25999999999999995,
           0.3,
           0.33999999999999997,
           0.37999999999999995,
           0.41999999999999993,
           0.45999999999999996,
           0.49999999999999994,
           0.5399999999999999,
           0.58,
           0.6199999999999999,
           0.6599999999999999,
           0.7,
           0.7399999999999999,
           0.7799999999999999,
           0.8199999999999998,
           0.8599999999999999,
           0.8999999999999999,
           0.9399999999999998,
           0.9799999999999999,
           1.0199999999999998,
           1.0599999999999998,
           1.0999999999999999,
           1.14,
           1.18,
           1.2199999999999998,
           1.2599999999999998,
           1.2999999999999998,
           1.3399999999999999,
           1.38,
           1.4199999999999997,
           1.4599999999999997,
           1.4999999999999998,
           1.5399999999999998,
           1.5799999999999998,
           1.6199999999999997,
           1.6599999999999997,
           1.6999999999999997,
           1.7399999999999998,
           1.7799999999999998,
           1.8199999999999998,
           1.8599999999999997,
           1.8999999999999997,
           1.9399999999999997,
           1.9799999999999998,
           2
          ],
          [
           0,
           0.02,
           0.06,
           0.09999999999999999,
           0.13999999999999999,
           0.17999999999999997,
           0.21999999999999995,
           0.25999999999999995,
           0.3,
           0.33999999999999997,
           0.37999999999999995,
           0.41999999999999993,
           0.45999999999999996,
           0.49999999999999994,
           0.5399999999999999,
           0.58,
           0.6199999999999999,
           0.6599999999999999,
           0.7,
           0.7399999999999999,
           0.7799999999999999,
           0.8199999999999998,
           0.8599999999999999,
           0.8999999999999999,
           0.9399999999999998,
           0.9799999999999999,
           1.0199999999999998,
           1.0599999999999998,
           1.0999999999999999,
           1.14,
           1.18,
           1.2199999999999998,
           1.2599999999999998,
           1.2999999999999998,
           1.3399999999999999,
           1.38,
           1.4199999999999997,
           1.4599999999999997,
           1.4999999999999998,
           1.5399999999999998,
           1.5799999999999998,
           1.6199999999999997,
           1.6599999999999997,
           1.6999999999999997,
           1.7399999999999998,
           1.7799999999999998,
           1.8199999999999998,
           1.8599999999999997,
           1.8999999999999997,
           1.9399999999999997,
           1.9799999999999998,
           2
          ],
          [
           0,
           0.02,
           0.06,
           0.09999999999999999,
           0.13999999999999999,
           0.17999999999999997,
           0.21999999999999995,
           0.25999999999999995,
           0.3,
           0.33999999999999997,
           0.37999999999999995,
           0.41999999999999993,
           0.45999999999999996,
           0.49999999999999994,
           0.5399999999999999,
           0.58,
           0.6199999999999999,
           0.6599999999999999,
           0.7,
           0.7399999999999999,
           0.7799999999999999,
           0.8199999999999998,
           0.8599999999999999,
           0.8999999999999999,
           0.9399999999999998,
           0.9799999999999999,
           1.0199999999999998,
           1.0599999999999998,
           1.0999999999999999,
           1.14,
           1.18,
           1.2199999999999998,
           1.2599999999999998,
           1.2999999999999998,
           1.3399999999999999,
           1.38,
           1.4199999999999997,
           1.4599999999999997,
           1.4999999999999998,
           1.5399999999999998,
           1.5799999999999998,
           1.6199999999999997,
           1.6599999999999997,
           1.6999999999999997,
           1.7399999999999998,
           1.7799999999999998,
           1.8199999999999998,
           1.8599999999999997,
           1.8999999999999997,
           1.9399999999999997,
           1.9799999999999998,
           2
          ],
          [
           0,
           0.02,
           0.06,
           0.09999999999999999,
           0.13999999999999999,
           0.17999999999999997,
           0.21999999999999995,
           0.25999999999999995,
           0.3,
           0.33999999999999997,
           0.37999999999999995,
           0.41999999999999993,
           0.45999999999999996,
           0.49999999999999994,
           0.5399999999999999,
           0.58,
           0.6199999999999999,
           0.6599999999999999,
           0.7,
           0.7399999999999999,
           0.7799999999999999,
           0.8199999999999998,
           0.8599999999999999,
           0.8999999999999999,
           0.9399999999999998,
           0.9799999999999999,
           1.0199999999999998,
           1.0599999999999998,
           1.0999999999999999,
           1.14,
           1.18,
           1.2199999999999998,
           1.2599999999999998,
           1.2999999999999998,
           1.3399999999999999,
           1.38,
           1.4199999999999997,
           1.4599999999999997,
           1.4999999999999998,
           1.5399999999999998,
           1.5799999999999998,
           1.6199999999999997,
           1.6599999999999997,
           1.6999999999999997,
           1.7399999999999998,
           1.7799999999999998,
           1.8199999999999998,
           1.8599999999999997,
           1.8999999999999997,
           1.9399999999999997,
           1.9799999999999998,
           2
          ]
         ],
         "y": [
          [
           0,
           0,
           0,
           0,
           0,
           0,
           0,
           0,
           0,
           0,
           0,
           0,
           0,
           0,
           0,
           0,
           0,
           0,
           0,
           0,
           0,
           0,
           0,
           0,
           0,
           0,
           0,
           0,
           0,
           0,
           0,
           0,
           0,
           0,
           0,
           0,
           0,
           0,
           0,
           0,
           0,
           0,
           0,
           0,
           0,
           0,
           0,
           0,
           0,
           0,
           0,
           0
          ],
          [
           0.0125,
           0.0125,
           0.0125,
           0.0125,
           0.0125,
           0.0125,
           0.0125,
           0.0125,
           0.0125,
           0.0125,
           0.0125,
           0.0125,
           0.0125,
           0.0125,
           0.0125,
           0.0125,
           0.0125,
           0.0125,
           0.0125,
           0.0125,
           0.0125,
           0.0125,
           0.0125,
           0.0125,
           0.0125,
           0.0125,
           0.0125,
           0.0125,
           0.0125,
           0.0125,
           0.0125,
           0.0125,
           0.0125,
           0.0125,
           0.0125,
           0.0125,
           0.0125,
           0.0125,
           0.0125,
           0.0125,
           0.0125,
           0.0125,
           0.0125,
           0.0125,
           0.0125,
           0.0125,
           0.0125,
           0.0125,
           0.0125,
           0.0125,
           0.0125,
           0.0125
          ],
          [
           0.037500000000000006,
           0.037500000000000006,
           0.037500000000000006,
           0.037500000000000006,
           0.037500000000000006,
           0.037500000000000006,
           0.037500000000000006,
           0.037500000000000006,
           0.037500000000000006,
           0.037500000000000006,
           0.037500000000000006,
           0.037500000000000006,
           0.037500000000000006,
           0.037500000000000006,
           0.037500000000000006,
           0.037500000000000006,
           0.037500000000000006,
           0.037500000000000006,
           0.037500000000000006,
           0.037500000000000006,
           0.037500000000000006,
           0.037500000000000006,
           0.037500000000000006,
           0.037500000000000006,
           0.037500000000000006,
           0.037500000000000006,
           0.037500000000000006,
           0.037500000000000006,
           0.037500000000000006,
           0.037500000000000006,
           0.037500000000000006,
           0.037500000000000006,
           0.037500000000000006,
           0.037500000000000006,
           0.037500000000000006,
           0.037500000000000006,
           0.037500000000000006,
           0.037500000000000006,
           0.037500000000000006,
           0.037500000000000006,
           0.037500000000000006,
           0.037500000000000006,
           0.037500000000000006,
           0.037500000000000006,
           0.037500000000000006,
           0.037500000000000006,
           0.037500000000000006,
           0.037500000000000006,
           0.037500000000000006,
           0.037500000000000006,
           0.037500000000000006,
           0.037500000000000006
          ],
          [
           0.06250000000000001,
           0.06250000000000001,
           0.06250000000000001,
           0.06250000000000001,
           0.06250000000000001,
           0.06250000000000001,
           0.06250000000000001,
           0.06250000000000001,
           0.06250000000000001,
           0.06250000000000001,
           0.06250000000000001,
           0.06250000000000001,
           0.06250000000000001,
           0.06250000000000001,
           0.06250000000000001,
           0.06250000000000001,
           0.06250000000000001,
           0.06250000000000001,
           0.06250000000000001,
           0.06250000000000001,
           0.06250000000000001,
           0.06250000000000001,
           0.06250000000000001,
           0.06250000000000001,
           0.06250000000000001,
           0.06250000000000001,
           0.06250000000000001,
           0.06250000000000001,
           0.06250000000000001,
           0.06250000000000001,
           0.06250000000000001,
           0.06250000000000001,
           0.06250000000000001,
           0.06250000000000001,
           0.06250000000000001,
           0.06250000000000001,
           0.06250000000000001,
           0.06250000000000001,
           0.06250000000000001,
           0.06250000000000001,
           0.06250000000000001,
           0.06250000000000001,
           0.06250000000000001,
           0.06250000000000001,
           0.06250000000000001,
           0.06250000000000001,
           0.06250000000000001,
           0.06250000000000001,
           0.06250000000000001,
           0.06250000000000001,
           0.06250000000000001,
           0.06250000000000001
          ],
          [
           0.08750000000000001,
           0.08750000000000001,
           0.08750000000000001,
           0.08750000000000001,
           0.08750000000000001,
           0.08750000000000001,
           0.08750000000000001,
           0.08750000000000001,
           0.08750000000000001,
           0.08750000000000001,
           0.08750000000000001,
           0.08750000000000001,
           0.08750000000000001,
           0.08750000000000001,
           0.08750000000000001,
           0.08750000000000001,
           0.08750000000000001,
           0.08750000000000001,
           0.08750000000000001,
           0.08750000000000001,
           0.08750000000000001,
           0.08750000000000001,
           0.08750000000000001,
           0.08750000000000001,
           0.08750000000000001,
           0.08750000000000001,
           0.08750000000000001,
           0.08750000000000001,
           0.08750000000000001,
           0.08750000000000001,
           0.08750000000000001,
           0.08750000000000001,
           0.08750000000000001,
           0.08750000000000001,
           0.08750000000000001,
           0.08750000000000001,
           0.08750000000000001,
           0.08750000000000001,
           0.08750000000000001,
           0.08750000000000001,
           0.08750000000000001,
           0.08750000000000001,
           0.08750000000000001,
           0.08750000000000001,
           0.08750000000000001,
           0.08750000000000001,
           0.08750000000000001,
           0.08750000000000001,
           0.08750000000000001,
           0.08750000000000001,
           0.08750000000000001,
           0.08750000000000001
          ],
          [
           0.1,
           0.1,
           0.1,
           0.1,
           0.1,
           0.1,
           0.1,
           0.1,
           0.1,
           0.1,
           0.1,
           0.1,
           0.1,
           0.1,
           0.1,
           0.1,
           0.1,
           0.1,
           0.1,
           0.1,
           0.1,
           0.1,
           0.1,
           0.1,
           0.1,
           0.1,
           0.1,
           0.1,
           0.1,
           0.1,
           0.1,
           0.1,
           0.1,
           0.1,
           0.1,
           0.1,
           0.1,
           0.1,
           0.1,
           0.1,
           0.1,
           0.1,
           0.1,
           0.1,
           0.1,
           0.1,
           0.1,
           0.1,
           0.1,
           0.1,
           0.1,
           0.1
          ]
         ],
         "z": [
          [
           0,
           9.731841146632212e-8,
           4.5038394767878013e-7,
           0.000001058938111453633,
           0.0000019017905893066463,
           0.00000294879629698025,
           0.000004167521358507426,
           0.000005525036293837564,
           0.000006988000943326891,
           0.000008522548162833932,
           0.000010094133096814931,
           0.00001166737318746285,
           0.00001320588422634579,
           0.000014672116032864355,
           0.000016027191324819852,
           0.00001723075146821646,
           0.00001824081293012562,
           0.000019013638408669495,
           0.00001950362677890409,
           0.00001966322617170862,
           0.00001944287469298634,
           0.00001879097349031481,
           0.000017653897080953997,
           0.00001597604606566437,
           0.000013699947563451686,
           0.000010766408908981958,
           0.000007114730352304978,
           0.0000026829826844485898,
           -0.0000025916441234201317,
           -0.000008772415041634128,
           -0.00001592254053411207,
           -0.000024104577146675478,
           -0.000033379731722662266,
           -0.00004380706288025062,
           -0.000055442573496900734,
           -0.00006833818813518446,
           -0.00008254060962186475,
           -0.00009809004936989162,
           -0.00011501882652306839,
           -0.00013334983161811497,
           -0.0001530948512116736,
           -0.00017425275082321636,
           -0.00019680751460929633,
           -0.00022072614141227414,
           -0.0002459563982084322,
           -0.00027242443354483876,
           -0.00030003225659555745,
           -0.0003286550834839844,
           -0.00035813863671917476,
           -0.0003882929082037603,
           -0.0004189047996005198,
           -0.0004339379731671435
          ],
          [
           1.5133991837501525e-22,
           4.679001858642045e-8,
           4.0712192271443803e-7,
           0.000001019510154486779,
           0.000001867642410237479,
           0.0000029201166911926685,
           0.000004144385239877958,
           0.000005507514226546399,
           0.000006976183645656465,
           0.000008516550817031617,
           0.000010094096835718589,
           0.000011673465743369854,
           0.000013218299972645471,
           0.000014691075422458508,
           0.000016052939706884367,
           0.000017263557261017622,
           0.000018280965125076925,
           0.000019061443378415138,
           0.00001955940436002562,
           0.00001972730499076484,
           0.000019515586703090867,
           0.000018872647684406523,
           0.000017744852347401116,
           0.000016076583151944885,
           0.000013810340114456338,
           0.000010886893548079672,
           0.0000072454957757869994,
           0.0000028241577434217484,
           -0.0000024400033750894467,
           -0.000008610339349014335,
           -0.000015750162501236574,
           -0.00002392214735522651,
           -0.0000331876358997518,
           -0.000043605840094264966,
           -0.000055232935347189894,
           -0.0000681210388863776,
           -0.00008231706721667797,
           -0.00009786146723536486,
           -0.00011478681606413616,
           -0.00013311628526919633,
           -0.0001528619658914944,
           -0.00017402305161025067,
           -0.00019658387842440514,
           -0.0002205118204565842,
           -0.00024575504282200425,
           -0.00027224011395291886,
           -0.00029986948149123927,
           -0.00032851883880938396,
           -0.0003580343030498638,
           -0.0003882324759235009,
           -0.00041885235625650297,
           -0.0004345325649159665
          ],
          [
           1.853914000093937e-21,
           8.182681988131196e-9,
           3.6145124913956893e-7,
           9.79629168996139e-7,
           0.0000018334304589086684,
           0.0000028914663427893003,
           0.000004121306739803159,
           0.000005490070202460331,
           0.000006964464964398209,
           0.000008510673511404284,
           0.000010094202539700005,
           0.000011679722206099275,
           0.000013230901073099414,
           0.000014710240590343095,
           0.000016078912720673713,
           0.000017296604399980244,
           0.000018321372650552265,
           0.000019109514317327252,
           0.000019615454561494654,
           0.000019791658424852262,
           0.000019588569969272432,
           0.000018954583696384123,
           0.00001783605316041936,
           0.000016177341898952246,
           0.00001392092201832922,
           0.000011007525978799362,
           0.000007376357324016462,
           0.0000029653662854665314,
           -0.0000022884036413351595,
           -0.000008448391911738854,
           -0.000015578013593520883,
           -0.000023740062064046078,
           -0.00003299601531425838,
           -0.000043405239470870666,
           -0.00005502408325570279,
           -0.00006790485728635408,
           -0.00008209469239616165,
           -0.00009763427152518387,
           -0.00011455643021985806,
           -0.00013288462138970217,
           -0.00015263124071830366,
           -0.00017379581002733083,
           -0.00019636301696488343,
           -0.00022030061067113024,
           -0.0002455571546982001,
           -0.0002720596409608537,
           -0.0002997109730956588,
           -0.00032838732911893894,
           -0.0003579352403055479,
           -0.00038816676437333704,
           -0.0004188285455835233,
           -0.0004341725599290579
          ],
          [
           -1.2863893061876297e-21,
           8.182681879056079e-9,
           3.6145124895814787e-7,
           9.796291688083043e-7,
           0.0000018334304587235568,
           0.000002891466342606441,
           0.000004121306739621938,
           0.000005490070202280602,
           0.000006964464964220006,
           0.000008510673511227661,
           0.000010094202539524986,
           0.00001167972220592586,
           0.000013230901072927556,
           0.000014710240590172711,
           0.00001607891272050468,
           0.0000172966043998124,
           0.000018321372650385406,
           0.00001910951431716113,
           0.000019615454561328964,
           0.00001979165842468666,
           0.000019588569969106522,
           0.00001895458369621745,
           0.000017836053160251425,
           0.00001617734189878247,
           0.000013920922018156993,
           0.000011007525978623994,
           0.000007376357323837208,
           0.0000029653662852825782,
           -0.0000022884036415246937,
           -0.000008448391911934915,
           -0.00001557801359372448,
           -0.000023740062064258287,
           -0.000032996015314480336,
           -0.000043405239471103593,
           -0.000055024083255947946,
           -0.00006790485728661277,
           -0.00008209469239643526,
           -0.00009763427152547384,
           -0.00011455643022016583,
           -0.00013288462139002922,
           -0.00015263124071865147,
           -0.00017379581002770092,
           -0.0001963630169652773,
           -0.00022030061067154934,
           -0.0002455571546986458,
           -0.0002720596409613272,
           -0.0002997109730961608,
           -0.00032838732911946895,
           -0.0003579352403061056,
           -0.00038816676437393005,
           -0.0004188285455841865,
           -0.000434172559929648
          ],
          [
           1.5133991837501525e-22,
           4.6790018229921995e-8,
           4.071219221688835e-7,
           0.000001019510153927819,
           0.0000018676424096841118,
           0.0000029201166906447225,
           0.000004144385239334504,
           0.000005507514226007311,
           0.000006976183645121913,
           0.000008516550816501769,
           0.000010094096835193529,
           0.000011673465742849567,
           0.000013218299972129823,
           0.000014691075421947251,
           0.000016052939706377126,
           0.00001726355726051391,
           0.000018280965124576128,
           0.0000190614433779165,
           0.00001955940435952824,
           0.000019727304990267683,
           0.000019515586702592734,
           0.00001887264768390606,
           0.000017744852346896806,
           0.000016076583151435018,
           0.000013810340113939059,
           0.000010886893547552917,
           0.000007245495775248528,
           0.000002824157742869122,
           -0.000002440003375658869,
           -0.00000861033934960339,
           -0.000015750162501848298,
           -0.000023922147355864116,
           -0.00003318763590041872,
           -0.000043605840094964826,
           -0.00005523293534792649,
           -0.00006812103888715487,
           -0.00008231706721750006,
           -0.00009786146723623602,
           -0.0001147868160650607,
           -0.00013311628527017873,
           -0.00015286196589253914,
           -0.00017402305161136222,
           -0.00019658387842558795,
           -0.00022051182045784265,
           -0.0002457550428233425,
           -0.00027224011395434063,
           -0.0002998694814927471,
           -0.00032851883881097904,
           -0.0003580343030515486,
           -0.0003882324759253141,
           -0.0004188523562583901,
           -0.0004345325649189535
          ],
          [
           0,
           9.731841092556189e-8,
           4.503839469667887e-7,
           0.0000010589381107160415,
           0.0000019017905885732474,
           0.000002948796296253825,
           0.000004167521357788017,
           0.000005525036293125427,
           0.000006988000942622419,
           0.000008522548162137435,
           0.00001009413309612656,
           0.000011667373186782582,
           0.000013205884225673402,
           0.00001467211603219943,
           0.000016027191324161765,
           0.000017230751467564376,
           0.000018240812929478485,
           0.000019013638408026028,
           0.000019503626778262758,
           0.000019663226171067654,
           0.000019442874692343696,
           0.000018790973489668178,
           0.000017653897080300782,
           0.000015976046065001668,
           0.00001369994756277632,
           0.00001076640890829041,
           0.000007114730351593422,
           0.0000026829826837128697,
           -0.000002591644124184516,
           -0.00000877241504243201,
           -0.00001592254053494862,
           -0.000024104577147556175,
           -0.00003337973172359296,
           -0.00004380706288123745,
           -0.00005544257349795018,
           -0.0000683381881363032,
           -0.00008254060962305984,
           -0.00009809004937117024,
           -0.0001150188265244379,
           -0.0001333498316195829,
           -0.00015309485121324753,
           -0.0001742527508249039,
           -0.000196807514611105,
           -0.00022072614141421126,
           -0.0002459563982105048,
           -0.0002724244335470534,
           -0.0003000322565979193,
           -0.0003286550834864976,
           -0.0003581386367218463,
           -0.0003882929082066009,
           -0.0004189047996036416,
           -0.0004339379731686832
          ]
         ]
        }
       ],
       "layout": {
        "template": {
         "data": {
          "bar": [
           {
            "error_x": {
             "color": "#2a3f5f"
            },
            "error_y": {
             "color": "#2a3f5f"
            },
            "marker": {
             "line": {
              "color": "#E5ECF6",
              "width": 0.5
             },
             "pattern": {
              "fillmode": "overlay",
              "size": 10,
              "solidity": 0.2
             }
            },
            "type": "bar"
           }
          ],
          "barpolar": [
           {
            "marker": {
             "line": {
              "color": "#E5ECF6",
              "width": 0.5
             },
             "pattern": {
              "fillmode": "overlay",
              "size": 10,
              "solidity": 0.2
             }
            },
            "type": "barpolar"
           }
          ],
          "carpet": [
           {
            "aaxis": {
             "endlinecolor": "#2a3f5f",
             "gridcolor": "white",
             "linecolor": "white",
             "minorgridcolor": "white",
             "startlinecolor": "#2a3f5f"
            },
            "baxis": {
             "endlinecolor": "#2a3f5f",
             "gridcolor": "white",
             "linecolor": "white",
             "minorgridcolor": "white",
             "startlinecolor": "#2a3f5f"
            },
            "type": "carpet"
           }
          ],
          "choropleth": [
           {
            "colorbar": {
             "outlinewidth": 0,
             "ticks": ""
            },
            "type": "choropleth"
           }
          ],
          "contour": [
           {
            "colorbar": {
             "outlinewidth": 0,
             "ticks": ""
            },
            "colorscale": [
             [
              0,
              "#0d0887"
             ],
             [
              0.1111111111111111,
              "#46039f"
             ],
             [
              0.2222222222222222,
              "#7201a8"
             ],
             [
              0.3333333333333333,
              "#9c179e"
             ],
             [
              0.4444444444444444,
              "#bd3786"
             ],
             [
              0.5555555555555556,
              "#d8576b"
             ],
             [
              0.6666666666666666,
              "#ed7953"
             ],
             [
              0.7777777777777778,
              "#fb9f3a"
             ],
             [
              0.8888888888888888,
              "#fdca26"
             ],
             [
              1,
              "#f0f921"
             ]
            ],
            "type": "contour"
           }
          ],
          "contourcarpet": [
           {
            "colorbar": {
             "outlinewidth": 0,
             "ticks": ""
            },
            "type": "contourcarpet"
           }
          ],
          "heatmap": [
           {
            "colorbar": {
             "outlinewidth": 0,
             "ticks": ""
            },
            "colorscale": [
             [
              0,
              "#0d0887"
             ],
             [
              0.1111111111111111,
              "#46039f"
             ],
             [
              0.2222222222222222,
              "#7201a8"
             ],
             [
              0.3333333333333333,
              "#9c179e"
             ],
             [
              0.4444444444444444,
              "#bd3786"
             ],
             [
              0.5555555555555556,
              "#d8576b"
             ],
             [
              0.6666666666666666,
              "#ed7953"
             ],
             [
              0.7777777777777778,
              "#fb9f3a"
             ],
             [
              0.8888888888888888,
              "#fdca26"
             ],
             [
              1,
              "#f0f921"
             ]
            ],
            "type": "heatmap"
           }
          ],
          "heatmapgl": [
           {
            "colorbar": {
             "outlinewidth": 0,
             "ticks": ""
            },
            "colorscale": [
             [
              0,
              "#0d0887"
             ],
             [
              0.1111111111111111,
              "#46039f"
             ],
             [
              0.2222222222222222,
              "#7201a8"
             ],
             [
              0.3333333333333333,
              "#9c179e"
             ],
             [
              0.4444444444444444,
              "#bd3786"
             ],
             [
              0.5555555555555556,
              "#d8576b"
             ],
             [
              0.6666666666666666,
              "#ed7953"
             ],
             [
              0.7777777777777778,
              "#fb9f3a"
             ],
             [
              0.8888888888888888,
              "#fdca26"
             ],
             [
              1,
              "#f0f921"
             ]
            ],
            "type": "heatmapgl"
           }
          ],
          "histogram": [
           {
            "marker": {
             "pattern": {
              "fillmode": "overlay",
              "size": 10,
              "solidity": 0.2
             }
            },
            "type": "histogram"
           }
          ],
          "histogram2d": [
           {
            "colorbar": {
             "outlinewidth": 0,
             "ticks": ""
            },
            "colorscale": [
             [
              0,
              "#0d0887"
             ],
             [
              0.1111111111111111,
              "#46039f"
             ],
             [
              0.2222222222222222,
              "#7201a8"
             ],
             [
              0.3333333333333333,
              "#9c179e"
             ],
             [
              0.4444444444444444,
              "#bd3786"
             ],
             [
              0.5555555555555556,
              "#d8576b"
             ],
             [
              0.6666666666666666,
              "#ed7953"
             ],
             [
              0.7777777777777778,
              "#fb9f3a"
             ],
             [
              0.8888888888888888,
              "#fdca26"
             ],
             [
              1,
              "#f0f921"
             ]
            ],
            "type": "histogram2d"
           }
          ],
          "histogram2dcontour": [
           {
            "colorbar": {
             "outlinewidth": 0,
             "ticks": ""
            },
            "colorscale": [
             [
              0,
              "#0d0887"
             ],
             [
              0.1111111111111111,
              "#46039f"
             ],
             [
              0.2222222222222222,
              "#7201a8"
             ],
             [
              0.3333333333333333,
              "#9c179e"
             ],
             [
              0.4444444444444444,
              "#bd3786"
             ],
             [
              0.5555555555555556,
              "#d8576b"
             ],
             [
              0.6666666666666666,
              "#ed7953"
             ],
             [
              0.7777777777777778,
              "#fb9f3a"
             ],
             [
              0.8888888888888888,
              "#fdca26"
             ],
             [
              1,
              "#f0f921"
             ]
            ],
            "type": "histogram2dcontour"
           }
          ],
          "mesh3d": [
           {
            "colorbar": {
             "outlinewidth": 0,
             "ticks": ""
            },
            "type": "mesh3d"
           }
          ],
          "parcoords": [
           {
            "line": {
             "colorbar": {
              "outlinewidth": 0,
              "ticks": ""
             }
            },
            "type": "parcoords"
           }
          ],
          "pie": [
           {
            "automargin": true,
            "type": "pie"
           }
          ],
          "scatter": [
           {
            "marker": {
             "colorbar": {
              "outlinewidth": 0,
              "ticks": ""
             }
            },
            "type": "scatter"
           }
          ],
          "scatter3d": [
           {
            "line": {
             "colorbar": {
              "outlinewidth": 0,
              "ticks": ""
             }
            },
            "marker": {
             "colorbar": {
              "outlinewidth": 0,
              "ticks": ""
             }
            },
            "type": "scatter3d"
           }
          ],
          "scattercarpet": [
           {
            "marker": {
             "colorbar": {
              "outlinewidth": 0,
              "ticks": ""
             }
            },
            "type": "scattercarpet"
           }
          ],
          "scattergeo": [
           {
            "marker": {
             "colorbar": {
              "outlinewidth": 0,
              "ticks": ""
             }
            },
            "type": "scattergeo"
           }
          ],
          "scattergl": [
           {
            "marker": {
             "colorbar": {
              "outlinewidth": 0,
              "ticks": ""
             }
            },
            "type": "scattergl"
           }
          ],
          "scattermapbox": [
           {
            "marker": {
             "colorbar": {
              "outlinewidth": 0,
              "ticks": ""
             }
            },
            "type": "scattermapbox"
           }
          ],
          "scatterpolar": [
           {
            "marker": {
             "colorbar": {
              "outlinewidth": 0,
              "ticks": ""
             }
            },
            "type": "scatterpolar"
           }
          ],
          "scatterpolargl": [
           {
            "marker": {
             "colorbar": {
              "outlinewidth": 0,
              "ticks": ""
             }
            },
            "type": "scatterpolargl"
           }
          ],
          "scatterternary": [
           {
            "marker": {
             "colorbar": {
              "outlinewidth": 0,
              "ticks": ""
             }
            },
            "type": "scatterternary"
           }
          ],
          "surface": [
           {
            "colorbar": {
             "outlinewidth": 0,
             "ticks": ""
            },
            "colorscale": [
             [
              0,
              "#0d0887"
             ],
             [
              0.1111111111111111,
              "#46039f"
             ],
             [
              0.2222222222222222,
              "#7201a8"
             ],
             [
              0.3333333333333333,
              "#9c179e"
             ],
             [
              0.4444444444444444,
              "#bd3786"
             ],
             [
              0.5555555555555556,
              "#d8576b"
             ],
             [
              0.6666666666666666,
              "#ed7953"
             ],
             [
              0.7777777777777778,
              "#fb9f3a"
             ],
             [
              0.8888888888888888,
              "#fdca26"
             ],
             [
              1,
              "#f0f921"
             ]
            ],
            "type": "surface"
           }
          ],
          "table": [
           {
            "cells": {
             "fill": {
              "color": "#EBF0F8"
             },
             "line": {
              "color": "white"
             }
            },
            "header": {
             "fill": {
              "color": "#C8D4E3"
             },
             "line": {
              "color": "white"
             }
            },
            "type": "table"
           }
          ]
         },
         "layout": {
          "annotationdefaults": {
           "arrowcolor": "#2a3f5f",
           "arrowhead": 0,
           "arrowwidth": 1
          },
          "autotypenumbers": "strict",
          "coloraxis": {
           "colorbar": {
            "outlinewidth": 0,
            "ticks": ""
           }
          },
          "colorscale": {
           "diverging": [
            [
             0,
             "#8e0152"
            ],
            [
             0.1,
             "#c51b7d"
            ],
            [
             0.2,
             "#de77ae"
            ],
            [
             0.3,
             "#f1b6da"
            ],
            [
             0.4,
             "#fde0ef"
            ],
            [
             0.5,
             "#f7f7f7"
            ],
            [
             0.6,
             "#e6f5d0"
            ],
            [
             0.7,
             "#b8e186"
            ],
            [
             0.8,
             "#7fbc41"
            ],
            [
             0.9,
             "#4d9221"
            ],
            [
             1,
             "#276419"
            ]
           ],
           "sequential": [
            [
             0,
             "#0d0887"
            ],
            [
             0.1111111111111111,
             "#46039f"
            ],
            [
             0.2222222222222222,
             "#7201a8"
            ],
            [
             0.3333333333333333,
             "#9c179e"
            ],
            [
             0.4444444444444444,
             "#bd3786"
            ],
            [
             0.5555555555555556,
             "#d8576b"
            ],
            [
             0.6666666666666666,
             "#ed7953"
            ],
            [
             0.7777777777777778,
             "#fb9f3a"
            ],
            [
             0.8888888888888888,
             "#fdca26"
            ],
            [
             1,
             "#f0f921"
            ]
           ],
           "sequentialminus": [
            [
             0,
             "#0d0887"
            ],
            [
             0.1111111111111111,
             "#46039f"
            ],
            [
             0.2222222222222222,
             "#7201a8"
            ],
            [
             0.3333333333333333,
             "#9c179e"
            ],
            [
             0.4444444444444444,
             "#bd3786"
            ],
            [
             0.5555555555555556,
             "#d8576b"
            ],
            [
             0.6666666666666666,
             "#ed7953"
            ],
            [
             0.7777777777777778,
             "#fb9f3a"
            ],
            [
             0.8888888888888888,
             "#fdca26"
            ],
            [
             1,
             "#f0f921"
            ]
           ]
          },
          "colorway": [
           "#636efa",
           "#EF553B",
           "#00cc96",
           "#ab63fa",
           "#FFA15A",
           "#19d3f3",
           "#FF6692",
           "#B6E880",
           "#FF97FF",
           "#FECB52"
          ],
          "font": {
           "color": "#2a3f5f"
          },
          "geo": {
           "bgcolor": "white",
           "lakecolor": "white",
           "landcolor": "#E5ECF6",
           "showlakes": true,
           "showland": true,
           "subunitcolor": "white"
          },
          "hoverlabel": {
           "align": "left"
          },
          "hovermode": "closest",
          "mapbox": {
           "style": "light"
          },
          "paper_bgcolor": "white",
          "plot_bgcolor": "#E5ECF6",
          "polar": {
           "angularaxis": {
            "gridcolor": "white",
            "linecolor": "white",
            "ticks": ""
           },
           "bgcolor": "#E5ECF6",
           "radialaxis": {
            "gridcolor": "white",
            "linecolor": "white",
            "ticks": ""
           }
          },
          "scene": {
           "xaxis": {
            "backgroundcolor": "#E5ECF6",
            "gridcolor": "white",
            "gridwidth": 2,
            "linecolor": "white",
            "showbackground": true,
            "ticks": "",
            "zerolinecolor": "white"
           },
           "yaxis": {
            "backgroundcolor": "#E5ECF6",
            "gridcolor": "white",
            "gridwidth": 2,
            "linecolor": "white",
            "showbackground": true,
            "ticks": "",
            "zerolinecolor": "white"
           },
           "zaxis": {
            "backgroundcolor": "#E5ECF6",
            "gridcolor": "white",
            "gridwidth": 2,
            "linecolor": "white",
            "showbackground": true,
            "ticks": "",
            "zerolinecolor": "white"
           }
          },
          "shapedefaults": {
           "line": {
            "color": "#2a3f5f"
           }
          },
          "ternary": {
           "aaxis": {
            "gridcolor": "white",
            "linecolor": "white",
            "ticks": ""
           },
           "baxis": {
            "gridcolor": "white",
            "linecolor": "white",
            "ticks": ""
           },
           "bgcolor": "#E5ECF6",
           "caxis": {
            "gridcolor": "white",
            "linecolor": "white",
            "ticks": ""
           }
          },
          "title": {
           "x": 0.05
          },
          "xaxis": {
           "automargin": true,
           "gridcolor": "white",
           "linecolor": "white",
           "ticks": "",
           "title": {
            "standoff": 15
           },
           "zerolinecolor": "white",
           "zerolinewidth": 2
          },
          "yaxis": {
           "automargin": true,
           "gridcolor": "white",
           "linecolor": "white",
           "ticks": "",
           "title": {
            "standoff": 15
           },
           "zerolinecolor": "white",
           "zerolinewidth": 2
          }
         }
        }
       }
      },
      "text/html": [
       "<div>                            <div id=\"d2fd0b78-0b32-4641-aeae-f64d2a528d81\" class=\"plotly-graph-div\" style=\"height:525px; width:100%;\"></div>            <script type=\"text/javascript\">                require([\"plotly\"], function(Plotly) {                    window.PLOTLYENV=window.PLOTLYENV || {};                                    if (document.getElementById(\"d2fd0b78-0b32-4641-aeae-f64d2a528d81\")) {                    Plotly.newPlot(                        \"d2fd0b78-0b32-4641-aeae-f64d2a528d81\",                        [{\"x\":[[0.0,0.02,0.06,0.09999999999999999,0.13999999999999999,0.17999999999999997,0.21999999999999995,0.25999999999999995,0.3,0.33999999999999997,0.37999999999999995,0.41999999999999993,0.45999999999999996,0.49999999999999994,0.5399999999999999,0.58,0.6199999999999999,0.6599999999999999,0.7,0.7399999999999999,0.7799999999999999,0.8199999999999998,0.8599999999999999,0.8999999999999999,0.9399999999999998,0.9799999999999999,1.0199999999999998,1.0599999999999998,1.0999999999999999,1.14,1.18,1.2199999999999998,1.2599999999999998,1.2999999999999998,1.3399999999999999,1.38,1.4199999999999997,1.4599999999999997,1.4999999999999998,1.5399999999999998,1.5799999999999998,1.6199999999999997,1.6599999999999997,1.6999999999999997,1.7399999999999998,1.7799999999999998,1.8199999999999998,1.8599999999999997,1.8999999999999997,1.9399999999999997,1.9799999999999998,2.0],[0.0,0.02,0.06,0.09999999999999999,0.13999999999999999,0.17999999999999997,0.21999999999999995,0.25999999999999995,0.3,0.33999999999999997,0.37999999999999995,0.41999999999999993,0.45999999999999996,0.49999999999999994,0.5399999999999999,0.58,0.6199999999999999,0.6599999999999999,0.7,0.7399999999999999,0.7799999999999999,0.8199999999999998,0.8599999999999999,0.8999999999999999,0.9399999999999998,0.9799999999999999,1.0199999999999998,1.0599999999999998,1.0999999999999999,1.14,1.18,1.2199999999999998,1.2599999999999998,1.2999999999999998,1.3399999999999999,1.38,1.4199999999999997,1.4599999999999997,1.4999999999999998,1.5399999999999998,1.5799999999999998,1.6199999999999997,1.6599999999999997,1.6999999999999997,1.7399999999999998,1.7799999999999998,1.8199999999999998,1.8599999999999997,1.8999999999999997,1.9399999999999997,1.9799999999999998,2.0],[0.0,0.02,0.06,0.09999999999999999,0.13999999999999999,0.17999999999999997,0.21999999999999995,0.25999999999999995,0.3,0.33999999999999997,0.37999999999999995,0.41999999999999993,0.45999999999999996,0.49999999999999994,0.5399999999999999,0.58,0.6199999999999999,0.6599999999999999,0.7,0.7399999999999999,0.7799999999999999,0.8199999999999998,0.8599999999999999,0.8999999999999999,0.9399999999999998,0.9799999999999999,1.0199999999999998,1.0599999999999998,1.0999999999999999,1.14,1.18,1.2199999999999998,1.2599999999999998,1.2999999999999998,1.3399999999999999,1.38,1.4199999999999997,1.4599999999999997,1.4999999999999998,1.5399999999999998,1.5799999999999998,1.6199999999999997,1.6599999999999997,1.6999999999999997,1.7399999999999998,1.7799999999999998,1.8199999999999998,1.8599999999999997,1.8999999999999997,1.9399999999999997,1.9799999999999998,2.0],[0.0,0.02,0.06,0.09999999999999999,0.13999999999999999,0.17999999999999997,0.21999999999999995,0.25999999999999995,0.3,0.33999999999999997,0.37999999999999995,0.41999999999999993,0.45999999999999996,0.49999999999999994,0.5399999999999999,0.58,0.6199999999999999,0.6599999999999999,0.7,0.7399999999999999,0.7799999999999999,0.8199999999999998,0.8599999999999999,0.8999999999999999,0.9399999999999998,0.9799999999999999,1.0199999999999998,1.0599999999999998,1.0999999999999999,1.14,1.18,1.2199999999999998,1.2599999999999998,1.2999999999999998,1.3399999999999999,1.38,1.4199999999999997,1.4599999999999997,1.4999999999999998,1.5399999999999998,1.5799999999999998,1.6199999999999997,1.6599999999999997,1.6999999999999997,1.7399999999999998,1.7799999999999998,1.8199999999999998,1.8599999999999997,1.8999999999999997,1.9399999999999997,1.9799999999999998,2.0],[0.0,0.02,0.06,0.09999999999999999,0.13999999999999999,0.17999999999999997,0.21999999999999995,0.25999999999999995,0.3,0.33999999999999997,0.37999999999999995,0.41999999999999993,0.45999999999999996,0.49999999999999994,0.5399999999999999,0.58,0.6199999999999999,0.6599999999999999,0.7,0.7399999999999999,0.7799999999999999,0.8199999999999998,0.8599999999999999,0.8999999999999999,0.9399999999999998,0.9799999999999999,1.0199999999999998,1.0599999999999998,1.0999999999999999,1.14,1.18,1.2199999999999998,1.2599999999999998,1.2999999999999998,1.3399999999999999,1.38,1.4199999999999997,1.4599999999999997,1.4999999999999998,1.5399999999999998,1.5799999999999998,1.6199999999999997,1.6599999999999997,1.6999999999999997,1.7399999999999998,1.7799999999999998,1.8199999999999998,1.8599999999999997,1.8999999999999997,1.9399999999999997,1.9799999999999998,2.0],[0.0,0.02,0.06,0.09999999999999999,0.13999999999999999,0.17999999999999997,0.21999999999999995,0.25999999999999995,0.3,0.33999999999999997,0.37999999999999995,0.41999999999999993,0.45999999999999996,0.49999999999999994,0.5399999999999999,0.58,0.6199999999999999,0.6599999999999999,0.7,0.7399999999999999,0.7799999999999999,0.8199999999999998,0.8599999999999999,0.8999999999999999,0.9399999999999998,0.9799999999999999,1.0199999999999998,1.0599999999999998,1.0999999999999999,1.14,1.18,1.2199999999999998,1.2599999999999998,1.2999999999999998,1.3399999999999999,1.38,1.4199999999999997,1.4599999999999997,1.4999999999999998,1.5399999999999998,1.5799999999999998,1.6199999999999997,1.6599999999999997,1.6999999999999997,1.7399999999999998,1.7799999999999998,1.8199999999999998,1.8599999999999997,1.8999999999999997,1.9399999999999997,1.9799999999999998,2.0]],\"y\":[[0.0,0.0,0.0,0.0,0.0,0.0,0.0,0.0,0.0,0.0,0.0,0.0,0.0,0.0,0.0,0.0,0.0,0.0,0.0,0.0,0.0,0.0,0.0,0.0,0.0,0.0,0.0,0.0,0.0,0.0,0.0,0.0,0.0,0.0,0.0,0.0,0.0,0.0,0.0,0.0,0.0,0.0,0.0,0.0,0.0,0.0,0.0,0.0,0.0,0.0,0.0,0.0],[0.0125,0.0125,0.0125,0.0125,0.0125,0.0125,0.0125,0.0125,0.0125,0.0125,0.0125,0.0125,0.0125,0.0125,0.0125,0.0125,0.0125,0.0125,0.0125,0.0125,0.0125,0.0125,0.0125,0.0125,0.0125,0.0125,0.0125,0.0125,0.0125,0.0125,0.0125,0.0125,0.0125,0.0125,0.0125,0.0125,0.0125,0.0125,0.0125,0.0125,0.0125,0.0125,0.0125,0.0125,0.0125,0.0125,0.0125,0.0125,0.0125,0.0125,0.0125,0.0125],[0.037500000000000006,0.037500000000000006,0.037500000000000006,0.037500000000000006,0.037500000000000006,0.037500000000000006,0.037500000000000006,0.037500000000000006,0.037500000000000006,0.037500000000000006,0.037500000000000006,0.037500000000000006,0.037500000000000006,0.037500000000000006,0.037500000000000006,0.037500000000000006,0.037500000000000006,0.037500000000000006,0.037500000000000006,0.037500000000000006,0.037500000000000006,0.037500000000000006,0.037500000000000006,0.037500000000000006,0.037500000000000006,0.037500000000000006,0.037500000000000006,0.037500000000000006,0.037500000000000006,0.037500000000000006,0.037500000000000006,0.037500000000000006,0.037500000000000006,0.037500000000000006,0.037500000000000006,0.037500000000000006,0.037500000000000006,0.037500000000000006,0.037500000000000006,0.037500000000000006,0.037500000000000006,0.037500000000000006,0.037500000000000006,0.037500000000000006,0.037500000000000006,0.037500000000000006,0.037500000000000006,0.037500000000000006,0.037500000000000006,0.037500000000000006,0.037500000000000006,0.037500000000000006],[0.06250000000000001,0.06250000000000001,0.06250000000000001,0.06250000000000001,0.06250000000000001,0.06250000000000001,0.06250000000000001,0.06250000000000001,0.06250000000000001,0.06250000000000001,0.06250000000000001,0.06250000000000001,0.06250000000000001,0.06250000000000001,0.06250000000000001,0.06250000000000001,0.06250000000000001,0.06250000000000001,0.06250000000000001,0.06250000000000001,0.06250000000000001,0.06250000000000001,0.06250000000000001,0.06250000000000001,0.06250000000000001,0.06250000000000001,0.06250000000000001,0.06250000000000001,0.06250000000000001,0.06250000000000001,0.06250000000000001,0.06250000000000001,0.06250000000000001,0.06250000000000001,0.06250000000000001,0.06250000000000001,0.06250000000000001,0.06250000000000001,0.06250000000000001,0.06250000000000001,0.06250000000000001,0.06250000000000001,0.06250000000000001,0.06250000000000001,0.06250000000000001,0.06250000000000001,0.06250000000000001,0.06250000000000001,0.06250000000000001,0.06250000000000001,0.06250000000000001,0.06250000000000001],[0.08750000000000001,0.08750000000000001,0.08750000000000001,0.08750000000000001,0.08750000000000001,0.08750000000000001,0.08750000000000001,0.08750000000000001,0.08750000000000001,0.08750000000000001,0.08750000000000001,0.08750000000000001,0.08750000000000001,0.08750000000000001,0.08750000000000001,0.08750000000000001,0.08750000000000001,0.08750000000000001,0.08750000000000001,0.08750000000000001,0.08750000000000001,0.08750000000000001,0.08750000000000001,0.08750000000000001,0.08750000000000001,0.08750000000000001,0.08750000000000001,0.08750000000000001,0.08750000000000001,0.08750000000000001,0.08750000000000001,0.08750000000000001,0.08750000000000001,0.08750000000000001,0.08750000000000001,0.08750000000000001,0.08750000000000001,0.08750000000000001,0.08750000000000001,0.08750000000000001,0.08750000000000001,0.08750000000000001,0.08750000000000001,0.08750000000000001,0.08750000000000001,0.08750000000000001,0.08750000000000001,0.08750000000000001,0.08750000000000001,0.08750000000000001,0.08750000000000001,0.08750000000000001],[0.1,0.1,0.1,0.1,0.1,0.1,0.1,0.1,0.1,0.1,0.1,0.1,0.1,0.1,0.1,0.1,0.1,0.1,0.1,0.1,0.1,0.1,0.1,0.1,0.1,0.1,0.1,0.1,0.1,0.1,0.1,0.1,0.1,0.1,0.1,0.1,0.1,0.1,0.1,0.1,0.1,0.1,0.1,0.1,0.1,0.1,0.1,0.1,0.1,0.1,0.1,0.1]],\"z\":[[0.0,9.731841146632212e-08,4.5038394767878013e-07,1.058938111453633e-06,1.9017905893066463e-06,2.94879629698025e-06,4.167521358507426e-06,5.525036293837564e-06,6.988000943326891e-06,8.522548162833932e-06,1.0094133096814931e-05,1.166737318746285e-05,1.320588422634579e-05,1.4672116032864355e-05,1.6027191324819852e-05,1.723075146821646e-05,1.824081293012562e-05,1.9013638408669495e-05,1.950362677890409e-05,1.966322617170862e-05,1.944287469298634e-05,1.879097349031481e-05,1.7653897080953997e-05,1.597604606566437e-05,1.3699947563451686e-05,1.0766408908981958e-05,7.114730352304978e-06,2.6829826844485898e-06,-2.5916441234201317e-06,-8.772415041634128e-06,-1.592254053411207e-05,-2.4104577146675478e-05,-3.3379731722662266e-05,-4.380706288025062e-05,-5.5442573496900734e-05,-6.833818813518446e-05,-8.254060962186475e-05,-9.809004936989162e-05,-0.00011501882652306839,-0.00013334983161811497,-0.0001530948512116736,-0.00017425275082321636,-0.00019680751460929633,-0.00022072614141227414,-0.0002459563982084322,-0.00027242443354483876,-0.00030003225659555745,-0.0003286550834839844,-0.00035813863671917476,-0.0003882929082037603,-0.0004189047996005198,-0.0004339379731671435],[1.5133991837501525e-22,4.679001858642045e-08,4.0712192271443803e-07,1.019510154486779e-06,1.867642410237479e-06,2.9201166911926685e-06,4.144385239877958e-06,5.507514226546399e-06,6.976183645656465e-06,8.516550817031617e-06,1.0094096835718589e-05,1.1673465743369854e-05,1.3218299972645471e-05,1.4691075422458508e-05,1.6052939706884367e-05,1.7263557261017622e-05,1.8280965125076925e-05,1.9061443378415138e-05,1.955940436002562e-05,1.972730499076484e-05,1.9515586703090867e-05,1.8872647684406523e-05,1.7744852347401116e-05,1.6076583151944885e-05,1.3810340114456338e-05,1.0886893548079672e-05,7.2454957757869994e-06,2.8241577434217484e-06,-2.4400033750894467e-06,-8.610339349014335e-06,-1.5750162501236574e-05,-2.392214735522651e-05,-3.31876358997518e-05,-4.3605840094264966e-05,-5.5232935347189894e-05,-6.81210388863776e-05,-8.231706721667797e-05,-9.786146723536486e-05,-0.00011478681606413616,-0.00013311628526919633,-0.0001528619658914944,-0.00017402305161025067,-0.00019658387842440514,-0.0002205118204565842,-0.00024575504282200425,-0.00027224011395291886,-0.00029986948149123927,-0.00032851883880938396,-0.0003580343030498638,-0.0003882324759235009,-0.00041885235625650297,-0.0004345325649159665],[1.853914000093937e-21,8.182681988131196e-09,3.6145124913956893e-07,9.79629168996139e-07,1.8334304589086684e-06,2.8914663427893003e-06,4.121306739803159e-06,5.490070202460331e-06,6.964464964398209e-06,8.510673511404284e-06,1.0094202539700005e-05,1.1679722206099275e-05,1.3230901073099414e-05,1.4710240590343095e-05,1.6078912720673713e-05,1.7296604399980244e-05,1.8321372650552265e-05,1.9109514317327252e-05,1.9615454561494654e-05,1.9791658424852262e-05,1.9588569969272432e-05,1.8954583696384123e-05,1.783605316041936e-05,1.6177341898952246e-05,1.392092201832922e-05,1.1007525978799362e-05,7.376357324016462e-06,2.9653662854665314e-06,-2.2884036413351595e-06,-8.448391911738854e-06,-1.5578013593520883e-05,-2.3740062064046078e-05,-3.299601531425838e-05,-4.3405239470870666e-05,-5.502408325570279e-05,-6.790485728635408e-05,-8.209469239616165e-05,-9.763427152518387e-05,-0.00011455643021985806,-0.00013288462138970217,-0.00015263124071830366,-0.00017379581002733083,-0.00019636301696488343,-0.00022030061067113024,-0.0002455571546982001,-0.0002720596409608537,-0.0002997109730956588,-0.00032838732911893894,-0.0003579352403055479,-0.00038816676437333704,-0.0004188285455835233,-0.0004341725599290579],[-1.2863893061876297e-21,8.182681879056079e-09,3.6145124895814787e-07,9.796291688083043e-07,1.8334304587235568e-06,2.891466342606441e-06,4.121306739621938e-06,5.490070202280602e-06,6.964464964220006e-06,8.510673511227661e-06,1.0094202539524986e-05,1.167972220592586e-05,1.3230901072927556e-05,1.4710240590172711e-05,1.607891272050468e-05,1.72966043998124e-05,1.8321372650385406e-05,1.910951431716113e-05,1.9615454561328964e-05,1.979165842468666e-05,1.9588569969106522e-05,1.895458369621745e-05,1.7836053160251425e-05,1.617734189878247e-05,1.3920922018156993e-05,1.1007525978623994e-05,7.376357323837208e-06,2.9653662852825782e-06,-2.2884036415246937e-06,-8.448391911934915e-06,-1.557801359372448e-05,-2.3740062064258287e-05,-3.2996015314480336e-05,-4.3405239471103593e-05,-5.5024083255947946e-05,-6.790485728661277e-05,-8.209469239643526e-05,-9.763427152547384e-05,-0.00011455643022016583,-0.00013288462139002922,-0.00015263124071865147,-0.00017379581002770092,-0.0001963630169652773,-0.00022030061067154934,-0.0002455571546986458,-0.0002720596409613272,-0.0002997109730961608,-0.00032838732911946895,-0.0003579352403061056,-0.00038816676437393005,-0.0004188285455841865,-0.000434172559929648],[1.5133991837501525e-22,4.6790018229921995e-08,4.071219221688835e-07,1.019510153927819e-06,1.8676424096841118e-06,2.9201166906447225e-06,4.144385239334504e-06,5.507514226007311e-06,6.976183645121913e-06,8.516550816501769e-06,1.0094096835193529e-05,1.1673465742849567e-05,1.3218299972129823e-05,1.4691075421947251e-05,1.6052939706377126e-05,1.726355726051391e-05,1.8280965124576128e-05,1.90614433779165e-05,1.955940435952824e-05,1.9727304990267683e-05,1.9515586702592734e-05,1.887264768390606e-05,1.7744852346896806e-05,1.6076583151435018e-05,1.3810340113939059e-05,1.0886893547552917e-05,7.245495775248528e-06,2.824157742869122e-06,-2.440003375658869e-06,-8.61033934960339e-06,-1.5750162501848298e-05,-2.3922147355864116e-05,-3.318763590041872e-05,-4.3605840094964826e-05,-5.523293534792649e-05,-6.812103888715487e-05,-8.231706721750006e-05,-9.786146723623602e-05,-0.0001147868160650607,-0.00013311628527017873,-0.00015286196589253914,-0.00017402305161136222,-0.00019658387842558795,-0.00022051182045784265,-0.0002457550428233425,-0.00027224011395434063,-0.0002998694814927471,-0.00032851883881097904,-0.0003580343030515486,-0.0003882324759253141,-0.0004188523562583901,-0.0004345325649189535],[0.0,9.731841092556189e-08,4.503839469667887e-07,1.0589381107160415e-06,1.9017905885732474e-06,2.948796296253825e-06,4.167521357788017e-06,5.525036293125427e-06,6.988000942622419e-06,8.522548162137435e-06,1.009413309612656e-05,1.1667373186782582e-05,1.3205884225673402e-05,1.467211603219943e-05,1.6027191324161765e-05,1.7230751467564376e-05,1.8240812929478485e-05,1.9013638408026028e-05,1.9503626778262758e-05,1.9663226171067654e-05,1.9442874692343696e-05,1.8790973489668178e-05,1.7653897080300782e-05,1.5976046065001668e-05,1.369994756277632e-05,1.076640890829041e-05,7.114730351593422e-06,2.6829826837128697e-06,-2.591644124184516e-06,-8.77241504243201e-06,-1.592254053494862e-05,-2.4104577147556175e-05,-3.337973172359296e-05,-4.380706288123745e-05,-5.544257349795018e-05,-6.83381881363032e-05,-8.254060962305984e-05,-9.809004937117024e-05,-0.0001150188265244379,-0.0001333498316195829,-0.00015309485121324753,-0.0001742527508249039,-0.000196807514611105,-0.00022072614141421126,-0.0002459563982105048,-0.0002724244335470534,-0.0003000322565979193,-0.0003286550834864976,-0.0003581386367218463,-0.0003882929082066009,-0.0004189047996036416,-0.0004339379731686832]],\"type\":\"surface\"}],                        {\"template\":{\"data\":{\"bar\":[{\"error_x\":{\"color\":\"#2a3f5f\"},\"error_y\":{\"color\":\"#2a3f5f\"},\"marker\":{\"line\":{\"color\":\"#E5ECF6\",\"width\":0.5},\"pattern\":{\"fillmode\":\"overlay\",\"size\":10,\"solidity\":0.2}},\"type\":\"bar\"}],\"barpolar\":[{\"marker\":{\"line\":{\"color\":\"#E5ECF6\",\"width\":0.5},\"pattern\":{\"fillmode\":\"overlay\",\"size\":10,\"solidity\":0.2}},\"type\":\"barpolar\"}],\"carpet\":[{\"aaxis\":{\"endlinecolor\":\"#2a3f5f\",\"gridcolor\":\"white\",\"linecolor\":\"white\",\"minorgridcolor\":\"white\",\"startlinecolor\":\"#2a3f5f\"},\"baxis\":{\"endlinecolor\":\"#2a3f5f\",\"gridcolor\":\"white\",\"linecolor\":\"white\",\"minorgridcolor\":\"white\",\"startlinecolor\":\"#2a3f5f\"},\"type\":\"carpet\"}],\"choropleth\":[{\"colorbar\":{\"outlinewidth\":0,\"ticks\":\"\"},\"type\":\"choropleth\"}],\"contour\":[{\"colorbar\":{\"outlinewidth\":0,\"ticks\":\"\"},\"colorscale\":[[0.0,\"#0d0887\"],[0.1111111111111111,\"#46039f\"],[0.2222222222222222,\"#7201a8\"],[0.3333333333333333,\"#9c179e\"],[0.4444444444444444,\"#bd3786\"],[0.5555555555555556,\"#d8576b\"],[0.6666666666666666,\"#ed7953\"],[0.7777777777777778,\"#fb9f3a\"],[0.8888888888888888,\"#fdca26\"],[1.0,\"#f0f921\"]],\"type\":\"contour\"}],\"contourcarpet\":[{\"colorbar\":{\"outlinewidth\":0,\"ticks\":\"\"},\"type\":\"contourcarpet\"}],\"heatmap\":[{\"colorbar\":{\"outlinewidth\":0,\"ticks\":\"\"},\"colorscale\":[[0.0,\"#0d0887\"],[0.1111111111111111,\"#46039f\"],[0.2222222222222222,\"#7201a8\"],[0.3333333333333333,\"#9c179e\"],[0.4444444444444444,\"#bd3786\"],[0.5555555555555556,\"#d8576b\"],[0.6666666666666666,\"#ed7953\"],[0.7777777777777778,\"#fb9f3a\"],[0.8888888888888888,\"#fdca26\"],[1.0,\"#f0f921\"]],\"type\":\"heatmap\"}],\"heatmapgl\":[{\"colorbar\":{\"outlinewidth\":0,\"ticks\":\"\"},\"colorscale\":[[0.0,\"#0d0887\"],[0.1111111111111111,\"#46039f\"],[0.2222222222222222,\"#7201a8\"],[0.3333333333333333,\"#9c179e\"],[0.4444444444444444,\"#bd3786\"],[0.5555555555555556,\"#d8576b\"],[0.6666666666666666,\"#ed7953\"],[0.7777777777777778,\"#fb9f3a\"],[0.8888888888888888,\"#fdca26\"],[1.0,\"#f0f921\"]],\"type\":\"heatmapgl\"}],\"histogram\":[{\"marker\":{\"pattern\":{\"fillmode\":\"overlay\",\"size\":10,\"solidity\":0.2}},\"type\":\"histogram\"}],\"histogram2d\":[{\"colorbar\":{\"outlinewidth\":0,\"ticks\":\"\"},\"colorscale\":[[0.0,\"#0d0887\"],[0.1111111111111111,\"#46039f\"],[0.2222222222222222,\"#7201a8\"],[0.3333333333333333,\"#9c179e\"],[0.4444444444444444,\"#bd3786\"],[0.5555555555555556,\"#d8576b\"],[0.6666666666666666,\"#ed7953\"],[0.7777777777777778,\"#fb9f3a\"],[0.8888888888888888,\"#fdca26\"],[1.0,\"#f0f921\"]],\"type\":\"histogram2d\"}],\"histogram2dcontour\":[{\"colorbar\":{\"outlinewidth\":0,\"ticks\":\"\"},\"colorscale\":[[0.0,\"#0d0887\"],[0.1111111111111111,\"#46039f\"],[0.2222222222222222,\"#7201a8\"],[0.3333333333333333,\"#9c179e\"],[0.4444444444444444,\"#bd3786\"],[0.5555555555555556,\"#d8576b\"],[0.6666666666666666,\"#ed7953\"],[0.7777777777777778,\"#fb9f3a\"],[0.8888888888888888,\"#fdca26\"],[1.0,\"#f0f921\"]],\"type\":\"histogram2dcontour\"}],\"mesh3d\":[{\"colorbar\":{\"outlinewidth\":0,\"ticks\":\"\"},\"type\":\"mesh3d\"}],\"parcoords\":[{\"line\":{\"colorbar\":{\"outlinewidth\":0,\"ticks\":\"\"}},\"type\":\"parcoords\"}],\"pie\":[{\"automargin\":true,\"type\":\"pie\"}],\"scatter\":[{\"marker\":{\"colorbar\":{\"outlinewidth\":0,\"ticks\":\"\"}},\"type\":\"scatter\"}],\"scatter3d\":[{\"line\":{\"colorbar\":{\"outlinewidth\":0,\"ticks\":\"\"}},\"marker\":{\"colorbar\":{\"outlinewidth\":0,\"ticks\":\"\"}},\"type\":\"scatter3d\"}],\"scattercarpet\":[{\"marker\":{\"colorbar\":{\"outlinewidth\":0,\"ticks\":\"\"}},\"type\":\"scattercarpet\"}],\"scattergeo\":[{\"marker\":{\"colorbar\":{\"outlinewidth\":0,\"ticks\":\"\"}},\"type\":\"scattergeo\"}],\"scattergl\":[{\"marker\":{\"colorbar\":{\"outlinewidth\":0,\"ticks\":\"\"}},\"type\":\"scattergl\"}],\"scattermapbox\":[{\"marker\":{\"colorbar\":{\"outlinewidth\":0,\"ticks\":\"\"}},\"type\":\"scattermapbox\"}],\"scatterpolar\":[{\"marker\":{\"colorbar\":{\"outlinewidth\":0,\"ticks\":\"\"}},\"type\":\"scatterpolar\"}],\"scatterpolargl\":[{\"marker\":{\"colorbar\":{\"outlinewidth\":0,\"ticks\":\"\"}},\"type\":\"scatterpolargl\"}],\"scatterternary\":[{\"marker\":{\"colorbar\":{\"outlinewidth\":0,\"ticks\":\"\"}},\"type\":\"scatterternary\"}],\"surface\":[{\"colorbar\":{\"outlinewidth\":0,\"ticks\":\"\"},\"colorscale\":[[0.0,\"#0d0887\"],[0.1111111111111111,\"#46039f\"],[0.2222222222222222,\"#7201a8\"],[0.3333333333333333,\"#9c179e\"],[0.4444444444444444,\"#bd3786\"],[0.5555555555555556,\"#d8576b\"],[0.6666666666666666,\"#ed7953\"],[0.7777777777777778,\"#fb9f3a\"],[0.8888888888888888,\"#fdca26\"],[1.0,\"#f0f921\"]],\"type\":\"surface\"}],\"table\":[{\"cells\":{\"fill\":{\"color\":\"#EBF0F8\"},\"line\":{\"color\":\"white\"}},\"header\":{\"fill\":{\"color\":\"#C8D4E3\"},\"line\":{\"color\":\"white\"}},\"type\":\"table\"}]},\"layout\":{\"annotationdefaults\":{\"arrowcolor\":\"#2a3f5f\",\"arrowhead\":0,\"arrowwidth\":1},\"autotypenumbers\":\"strict\",\"coloraxis\":{\"colorbar\":{\"outlinewidth\":0,\"ticks\":\"\"}},\"colorscale\":{\"diverging\":[[0,\"#8e0152\"],[0.1,\"#c51b7d\"],[0.2,\"#de77ae\"],[0.3,\"#f1b6da\"],[0.4,\"#fde0ef\"],[0.5,\"#f7f7f7\"],[0.6,\"#e6f5d0\"],[0.7,\"#b8e186\"],[0.8,\"#7fbc41\"],[0.9,\"#4d9221\"],[1,\"#276419\"]],\"sequential\":[[0.0,\"#0d0887\"],[0.1111111111111111,\"#46039f\"],[0.2222222222222222,\"#7201a8\"],[0.3333333333333333,\"#9c179e\"],[0.4444444444444444,\"#bd3786\"],[0.5555555555555556,\"#d8576b\"],[0.6666666666666666,\"#ed7953\"],[0.7777777777777778,\"#fb9f3a\"],[0.8888888888888888,\"#fdca26\"],[1.0,\"#f0f921\"]],\"sequentialminus\":[[0.0,\"#0d0887\"],[0.1111111111111111,\"#46039f\"],[0.2222222222222222,\"#7201a8\"],[0.3333333333333333,\"#9c179e\"],[0.4444444444444444,\"#bd3786\"],[0.5555555555555556,\"#d8576b\"],[0.6666666666666666,\"#ed7953\"],[0.7777777777777778,\"#fb9f3a\"],[0.8888888888888888,\"#fdca26\"],[1.0,\"#f0f921\"]]},\"colorway\":[\"#636efa\",\"#EF553B\",\"#00cc96\",\"#ab63fa\",\"#FFA15A\",\"#19d3f3\",\"#FF6692\",\"#B6E880\",\"#FF97FF\",\"#FECB52\"],\"font\":{\"color\":\"#2a3f5f\"},\"geo\":{\"bgcolor\":\"white\",\"lakecolor\":\"white\",\"landcolor\":\"#E5ECF6\",\"showlakes\":true,\"showland\":true,\"subunitcolor\":\"white\"},\"hoverlabel\":{\"align\":\"left\"},\"hovermode\":\"closest\",\"mapbox\":{\"style\":\"light\"},\"paper_bgcolor\":\"white\",\"plot_bgcolor\":\"#E5ECF6\",\"polar\":{\"angularaxis\":{\"gridcolor\":\"white\",\"linecolor\":\"white\",\"ticks\":\"\"},\"bgcolor\":\"#E5ECF6\",\"radialaxis\":{\"gridcolor\":\"white\",\"linecolor\":\"white\",\"ticks\":\"\"}},\"scene\":{\"xaxis\":{\"backgroundcolor\":\"#E5ECF6\",\"gridcolor\":\"white\",\"gridwidth\":2,\"linecolor\":\"white\",\"showbackground\":true,\"ticks\":\"\",\"zerolinecolor\":\"white\"},\"yaxis\":{\"backgroundcolor\":\"#E5ECF6\",\"gridcolor\":\"white\",\"gridwidth\":2,\"linecolor\":\"white\",\"showbackground\":true,\"ticks\":\"\",\"zerolinecolor\":\"white\"},\"zaxis\":{\"backgroundcolor\":\"#E5ECF6\",\"gridcolor\":\"white\",\"gridwidth\":2,\"linecolor\":\"white\",\"showbackground\":true,\"ticks\":\"\",\"zerolinecolor\":\"white\"}},\"shapedefaults\":{\"line\":{\"color\":\"#2a3f5f\"}},\"ternary\":{\"aaxis\":{\"gridcolor\":\"white\",\"linecolor\":\"white\",\"ticks\":\"\"},\"baxis\":{\"gridcolor\":\"white\",\"linecolor\":\"white\",\"ticks\":\"\"},\"bgcolor\":\"#E5ECF6\",\"caxis\":{\"gridcolor\":\"white\",\"linecolor\":\"white\",\"ticks\":\"\"}},\"title\":{\"x\":0.05},\"xaxis\":{\"automargin\":true,\"gridcolor\":\"white\",\"linecolor\":\"white\",\"ticks\":\"\",\"title\":{\"standoff\":15},\"zerolinecolor\":\"white\",\"zerolinewidth\":2},\"yaxis\":{\"automargin\":true,\"gridcolor\":\"white\",\"linecolor\":\"white\",\"ticks\":\"\",\"title\":{\"standoff\":15},\"zerolinecolor\":\"white\",\"zerolinewidth\":2}}}},                        {\"responsive\": true}                    ).then(function(){\n",
       "                            \n",
       "var gd = document.getElementById('d2fd0b78-0b32-4641-aeae-f64d2a528d81');\n",
       "var x = new MutationObserver(function (mutations, observer) {{\n",
       "        var display = window.getComputedStyle(gd).display;\n",
       "        if (!display || display === 'none') {{\n",
       "            console.log([gd, 'removed!']);\n",
       "            Plotly.purge(gd);\n",
       "            observer.disconnect();\n",
       "        }}\n",
       "}});\n",
       "\n",
       "// Listen for the removal of the full notebook cells\n",
       "var notebookContainer = gd.closest('#notebook-container');\n",
       "if (notebookContainer) {{\n",
       "    x.observe(notebookContainer, {childList: true});\n",
       "}}\n",
       "\n",
       "// Listen for the clearing of the current output cell\n",
       "var outputEl = gd.closest('.output');\n",
       "if (outputEl) {{\n",
       "    x.observe(outputEl, {childList: true});\n",
       "}}\n",
       "\n",
       "                        })                };                });            </script>        </div>"
      ]
     },
     "metadata": {},
     "output_type": "display_data"
    }
   ],
   "source": [
    "## Time loop\n",
    "\n",
    "!rm -r savedVariables\n",
    "! mkdir savedVariables\n",
    "\n",
    "for time in t:\n",
    "\n",
    "    print(\"\\nTime = \" + str(time))\n",
    "    \n",
    "    # Set number of maximum iterations for convergence\n",
    "    \n",
    "    icorr = 1\n",
    "    maxcorr = 100000\n",
    "    fac = 10**math.ceil((math.log((A(\"x\").a_P), 10)))\n",
    "\n",
    "    # Make directory\n",
    "\n",
    "    ! mkdir savedVariables/{time}\n",
    "\n",
    "    residual_array = np.array([])\n",
    "    \n",
    "    while True:\n",
    "    # for iteration in [1]:\n",
    "        \n",
    "        u_previous = u_new #store latest guess values    # change_u new to U\n",
    "\n",
    "        A_x = A(\"x\").createMatrix()        \n",
    "        A_x, b_x = boundary_conditions(A_x, b_x, u_previous, u_old, u_old_old, \"x\")\n",
    "\n",
    "        ## Solve the x-equation\n",
    "        \n",
    "        Ux = spsolve(A_x, b_x)\n",
    "        Ux = np.array(Ux)\n",
    "        \n",
    "        ## Prepare matrix A and b vector for the y-equation\n",
    "        \n",
    "        A_y = A(\"y\").createMatrix()\n",
    "        A_y, b_y = boundary_conditions(A_y, b_y, u_previous, u_old, u_old_old, \"y\")\n",
    "        \n",
    "        ## Solve the y-equation\n",
    "        Uy = spsolve(A_y, b_y)\n",
    "        Uy = np.array(Uy)\n",
    "        \n",
    "        # ## Update U.New with new x and y displacements\n",
    "\n",
    "        u_new = np.vstack((Ux, Uy)).T\n",
    "       \n",
    "        ## Calculate the residual of each iteration\n",
    "        \n",
    "        normFactor = np.max(u_new)\n",
    "        residual = math.sqrt(np.mean((u_new - u_previous)**2))/normFactor\n",
    "        tolerance = 1e-15\n",
    "\n",
    "        residual_array = np.append(residual_array, residual)\n",
    "        \n",
    "    \n",
    "        ##print out residual of each iteration\n",
    "        if icorr%100 == 0 :\n",
    "            moving_average = np.mean(residual_array[len(residual_array)-100 :len(residual_array) ])\n",
    "            print(\"icorr = {:01d}, Residual = {:.20f}, normFactor = {:.20f}, moving average = {:.20f}, time = {:.5f}\".format(icorr, residual, normFactor, moving_average, time))\n",
    "\n",
    "\n",
    "        ## Convergence check\n",
    "        \n",
    "        if residual < tolerance:\n",
    "            \n",
    "            break\n",
    "            \n",
    "        elif icorr > maxcorr:\n",
    "            \n",
    "            break            \n",
    "        \n",
    "        icorr = icorr + 1\n",
    "    \n",
    "    ## Update variables\n",
    "    \n",
    "    u_old_old = u_old\n",
    "    u_old = u_new\n",
    "    \n",
    "    # ## Add the boundary conditions to the solution matrices\n",
    "    u_reshape_x = u_new[:,0].reshape(ny+2, nx+2)\n",
    "    u_reshape_y = u_new[:,1].reshape(ny+2, nx+2)\n",
    "    \n",
    "    # #Boundary conditions for u matrix\n",
    "    U = np.zeros((ny+2,nx+2))\n",
    "    V = np.zeros((ny+2,nx+2))\n",
    " \n",
    " \n",
    "    U[:, :] = u_reshape_x\n",
    "    V[:, :] = u_reshape_y \n",
    "\n",
    "    #Modulus of displacement\n",
    "\n",
    "    disp_mod = np.sqrt((U**2) + (V**2))\n",
    "    disp_mod_converted = disp_mod*1e6 #Convert displacement to micrometers\n",
    "    \n",
    "   ### Plot the results\n",
    "\n",
    "    import plotly.graph_objects as go\n",
    "\n",
    "    disp_mod = np.sqrt((U**2) + (V**2))*1e-10\n",
    "\n",
    "    dispx, dispy = np.meshgrid(x, y)\n",
    "    fig = go.Figure(data=[go.Surface(z=disp_mod_converted, x=dispx, y=dispy)])\n",
    "    \n",
    "fig.show()   \n",
    "\n",
    "print(\"U graph\")\n",
    "fig = go.Figure(data=[go.Surface(z=U, x=dispx, y=dispy)])\n",
    "\n",
    "fig.show()   \n",
    "\n",
    "print(\"V graph\")\n",
    "fig = go.Figure(data=[go.Surface(z=V, x=dispx, y=dispy)])\n",
    "\n",
    "fig.show()"
   ]
  },
  {
   "cell_type": "code",
   "execution_count": 75,
   "metadata": {},
   "outputs": [
    {
     "data": {
      "text/plain": [
       "[<matplotlib.lines.Line2D at 0x7f8a40a71b50>]"
      ]
     },
     "execution_count": 75,
     "metadata": {},
     "output_type": "execute_result"
    },
    {
     "data": {
      "image/png": "[encoded data removed]",
      "text/plain": [
       "<Figure size 432x288 with 1 Axes>"
      ]
     },
     "metadata": {
      "needs_background": "light"
     },
     "output_type": "display_data"
    }
   ],
   "source": [
    "\n",
    "residual_array.shape\n",
    "\n",
    "plt.plot(np.arange(0, len(residual_array)), residual_array)"
   ]
  },
  {
   "cell_type": "code",
   "execution_count": 76,
   "metadata": {},
   "outputs": [
    {
     "data": {
      "text/plain": [
       "(6, 52)"
      ]
     },
     "execution_count": 76,
     "metadata": {},
     "output_type": "execute_result"
    }
   ],
   "source": [
    "u_reshape_x.shape\n",
    "\n",
    "# plt.scatter(x, u_reshape_x[nx,:],  label = \"Python, U @ y = 0.009375\")\n",
    "\n",
    "u_reshape_x[:,:].shape"
   ]
  },
  {
   "cell_type": "code",
   "execution_count": 77,
   "metadata": {},
   "outputs": [
    {
     "data": {
      "text/plain": [
       "array([[0.  , 0.02, 0.06, 0.1 , 0.14, 0.18, 0.22, 0.26, 0.3 , 0.34, 0.38,\n",
       "        0.42, 0.46, 0.5 , 0.54, 0.58, 0.62, 0.66, 0.7 , 0.74, 0.78, 0.82,\n",
       "        0.86, 0.9 , 0.94, 0.98, 1.02, 1.06, 1.1 , 1.14, 1.18, 1.22, 1.26,\n",
       "        1.3 , 1.34, 1.38, 1.42, 1.46, 1.5 , 1.54, 1.58, 1.62, 1.66, 1.7 ,\n",
       "        1.74, 1.78, 1.82, 1.86, 1.9 , 1.94, 1.98, 2.  ]])"
      ]
     },
     "execution_count": 77,
     "metadata": {},
     "output_type": "execute_result"
    },
    {
     "data": {
      "image/png": "[encoded data removed]",
      "text/plain": [
       "<Figure size 720x720 with 1 Axes>"
      ]
     },
     "metadata": {
      "needs_background": "light"
     },
     "output_type": "display_data"
    }
   ],
   "source": [
    "import matplotlib.pyplot as plt\n",
    "\n",
    "plt.figure(figsize=(10, 10))\n",
    "plt.scatter(x, u_reshape_x[ny,:],  label = \"Python, U @ y = 0.09\")\n",
    "plt.title(\"U along x-axis\")\n",
    "plt.legend()\n",
    "\n",
    "x"
   ]
  },
  {
   "cell_type": "code",
   "execution_count": 78,
   "metadata": {},
   "outputs": [
    {
     "data": {
      "text/plain": [
       "-0.0004345325649189535"
      ]
     },
     "execution_count": 78,
     "metadata": {},
     "output_type": "execute_result"
    },
    {
     "data": {
      "image/png": "[encoded data removed]",
      "text/plain": [
       "<Figure size 720x720 with 1 Axes>"
      ]
     },
     "metadata": {
      "needs_background": "light"
     },
     "output_type": "display_data"
    }
   ],
   "source": [
    "import matplotlib.pyplot as plt\n",
    "\n",
    "plt.figure(figsize=(10, 10))\n",
    "plt.scatter(x, u_reshape_y[ny,:],  label = \"Python, U @ y = 0.09\")\n",
    "plt.title(\"U along x-axis\")\n",
    "plt.legend()\n",
    "\n",
    "u_reshape_y[ny, nx+1]"
   ]
  },
  {
   "cell_type": "markdown",
   "metadata": {},
   "source": [
    "Above graph indicates some error in Python model? Further benchmark testing is required\n"
   ]
  },
  {
   "cell_type": "code",
   "execution_count": 79,
   "metadata": {},
   "outputs": [
    {
     "name": "stdout",
     "output_type": "stream",
     "text": [
      "mkdir: cannot create directory ‘x_50_y_4’: File exists\n"
     ]
    }
   ],
   "source": [
    "!mkdir x_50_y_4\n",
    "np.save(\"x_50_y_4/u_reshape_x.npy\", u_reshape_x)\n",
    "np.save(\"x_50_y_4/u_reshape_y.npy\", u_reshape_y)\n"
   ]
  },
  {
   "cell_type": "code",
   "execution_count": 80,
   "metadata": {},
   "outputs": [
    {
     "data": {
      "text/plain": [
       "array([-0.00043394, -0.00043453, -0.00043417, -0.00043417, -0.00043453,\n",
       "       -0.00043394])"
      ]
     },
     "execution_count": 80,
     "metadata": {},
     "output_type": "execute_result"
    }
   ],
   "source": [
    "u_reshape_y[:, nx+1]"
   ]
  },
  {
   "cell_type": "code",
   "execution_count": 81,
   "metadata": {},
   "outputs": [
    {
     "data": {
      "text/plain": [
       "array([-0.0004189 , -0.00041885, -0.00041883, -0.00041883, -0.00041885,\n",
       "       -0.0004189 ])"
      ]
     },
     "execution_count": 81,
     "metadata": {},
     "output_type": "execute_result"
    }
   ],
   "source": [
    "u_reshape_y[:, nx]"
   ]
  },
  {
   "cell_type": "code",
   "execution_count": 82,
   "metadata": {},
   "outputs": [
    {
     "data": {
      "text/plain": [
       "-0.0004339379731671435"
      ]
     },
     "execution_count": 82,
     "metadata": {},
     "output_type": "execute_result"
    }
   ],
   "source": [
    "u_reshape_y[0, nx+1]"
   ]
  },
  {
   "cell_type": "code",
   "execution_count": null,
   "metadata": {},
   "outputs": [],
   "source": []
  }
 ],
 "metadata": {
  "interpreter": {
   "hash": "1b2f9133931ab063f1f037caeeb0be83973bf9a3d4f21c40e4cd03e999a0b9b9"
  },
  "kernelspec": {
   "display_name": "Python 3.6.13 64-bit ('python3': conda)",
   "language": "python",
   "name": "python3"
  },
  "language_info": {
   "codemirror_mode": {
    "name": "ipython",
    "version": 3
   },
   "file_extension": ".py",
   "mimetype": "text/x-python",
   "name": "python",
   "nbconvert_exporter": "python",
   "pygments_lexer": "ipython3",
   "version": "3.9.5"
  },
  "orig_nbformat": 4
 },
 "nbformat": 4,
 "nbformat_minor": 2
}
