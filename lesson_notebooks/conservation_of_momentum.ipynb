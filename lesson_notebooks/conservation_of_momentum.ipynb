{
 "cells": [
  {
   "cell_type": "markdown",
   "metadata": {},
   "source": [
    "# Conservation of Momentum"
   ]
  },
  {
   "cell_type": "markdown",
   "metadata": {},
   "source": [
    "Option 1:\n",
    "\n",
    "Begin with Newtons second law on a CM then convert to CV (Ferziger Peric)\n",
    "\n",
    "Option 2: \n",
    "\n",
    "Begin with momentum equation on an infitisimal point, then expand the CV (Jasak)\n",
    " "
   ]
  },
  {
   "cell_type": "markdown",
   "metadata": {},
   "source": [
    "# Option 1"
   ]
  },
  {
   "cell_type": "markdown",
   "metadata": {},
   "source": [
    "An intensive property ($\\phi$) are independent of the amount of matter within a system. Examples are density (mass per volume) and velocity (momentum per unit mass).\n",
    "\n",
    "For momentum $mv$ the corresponding intensive property is velocity $v$\n",
    "\n",
    "For any Control Mass (CM) which is a closed system, an intensive property $\\phi$ can be described as:\n",
    "\n",
    "$$ \\phi = \\int_{V_{CM}} \\rho \\phi \\, dV  $$\n",
    "\n",
    "$V_{CM}$ is the volume occupied by the CM"
   ]
  },
  {
   "cell_type": "markdown",
   "metadata": {},
   "source": []
  }
 ],
 "metadata": {
  "language_info": {
   "name": "python"
  },
  "orig_nbformat": 4
 },
 "nbformat": 4,
 "nbformat_minor": 2
}
