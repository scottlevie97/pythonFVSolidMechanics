{
 "cells": [
  {
   "cell_type": "markdown",
   "metadata": {},
   "source": [
    "<!-- Change wording above -->\n",
    "To derive the backward Euler scheme, the value of the function $T$ at time $t - \\Delta t$ is\n",
    "expressed using a Taylor series using the values of $T$ and its derivates at time $t$ as:"
   ]
  },
  {
   "cell_type": "markdown",
   "metadata": {},
   "source": [
    "Backwards:\n",
    "\n",
    "$$\n",
    "T(t-\\Delta t)\n",
    "=\n",
    "T(t) - \\frac{\\partial{T(t)}}{\\partial{t}}\\Delta t + \\frac{\\partial^2{T(t)}}{\\partial{t^2}} \\frac{\\Delta t}{2!} - O(\\Delta t^3)\n",
    "$$\n",
    "\n",
    "$$\n",
    "\\frac{\\partial{T(t)}}{\\partial{t}}\\Delta t\n",
    "=\n",
    "T(t) - T(t-\\Delta t) + \\frac{\\partial^2{T(t)}}{\\partial{t^2}} \\frac{\\Delta t}{2!} - O(\\Delta t^3)\n",
    "$$\n",
    "\n",
    "\n"
   ]
  },
  {
   "cell_type": "markdown",
   "metadata": {},
   "source": [
    "Forwards:\n",
    "\n",
    "\n",
    "$$\n",
    "T(t+\\Delta t)\n",
    "=\n",
    "T(t) + \\frac{\\partial{T(t)}}{\\partial{t}}\\Delta t + \\frac{\\partial^2{T(t)}}{\\partial{t^2}} \\frac{\\Delta t}{2!} + O(\\Delta t^3)\n",
    "$$\n",
    "\n",
    "$$\n",
    "\\frac{\\partial{T(t)}}{\\partial{t}}\\Delta t\n",
    "=\n",
    "- T(t) + T(t+\\Delta t) - \\frac{\\partial^2{T(t)}}{\\partial{t^2}}\\frac{\\Delta t}{2!} - O(\\Delta t^3)\n",
    "$$\n"
   ]
  },
  {
   "cell_type": "markdown",
   "metadata": {},
   "source": [
    "Truncating the $O$ term"
   ]
  },
  {
   "cell_type": "markdown",
   "metadata": {},
   "source": [
    "Equating $\\frac{\\partial{T(t)}}{\\partial{t}}\\Delta t$ terms:\n",
    "\n",
    "$$\n",
    "0 = \n",
    "2T(t) - T(t-\\Delta t) - T(t+\\Delta t) + 2 \\left( \\frac{\\partial^2{T(t)}}{\\partial{t^2}}\\frac{\\Delta t}{2!}  \\right)\n",
    "$$\n",
    "\n",
    "$$\n",
    "\\frac{\\partial^2{T(t)}}{\\partial{t^2}} =  \n",
    "\\frac{T(t+\\Delta t) - 2T(t) -+T(t-\\Delta t)}{\\Delta t} \n",
    "$$\n",
    "\n",
    "$$\n",
    "\\frac{\\partial^2{u(t)}}{\\partial{t^2}} =  \n",
    "\\frac{u(t+\\Delta t) - 2u(t) -+u(t-\\Delta t)}{\\Delta t} \n",
    "$$\n",
    "\n",
    "$$ \\frac{\\partial^2 u}{\\partial t^2} = \\frac{u^n - 2u^o + u^{oo}}{\\Delta t^2} $$\n"
   ]
  },
  {
   "cell_type": "code",
   "execution_count": null,
   "metadata": {},
   "outputs": [],
   "source": []
  },
  {
   "cell_type": "code",
   "execution_count": null,
   "metadata": {},
   "outputs": [],
   "source": []
  },
  {
   "cell_type": "code",
   "execution_count": null,
   "metadata": {},
   "outputs": [],
   "source": []
  },
  {
   "cell_type": "code",
   "execution_count": null,
   "metadata": {},
   "outputs": [],
   "source": []
  },
  {
   "cell_type": "code",
   "execution_count": null,
   "metadata": {},
   "outputs": [],
   "source": []
  },
  {
   "cell_type": "code",
   "execution_count": null,
   "metadata": {},
   "outputs": [],
   "source": []
  },
  {
   "cell_type": "markdown",
   "metadata": {},
   "source": [
    "Backwards:\n",
    "\n",
    "$$\n",
    "T(t-\\Delta t)\n",
    "=\n",
    "T(t) - \\frac{\\partial{T(t)}}{\\partial{t}}\\Delta t + \\frac{\\partial^2{T(t)}}{\\partial{t^2}} \\frac{\\Delta t}{2!} + ..\n",
    "$$\n",
    "\n",
    "$$\n",
    "T(t-\\Delta t)\n",
    "=\n",
    "T(t) - \\frac{\\partial{T(t)}}{\\partial{t}}\\Delta t + O(\\Delta t)\n",
    "$$"
   ]
  },
  {
   "cell_type": "markdown",
   "metadata": {},
   "source": [
    "Forwards:\n",
    "\n",
    "\n",
    "$$\n",
    "T(t+\\Delta t)\n",
    "=\n",
    "T(t) + \\frac{\\partial{T(t)}}{\\partial{t}}\\Delta t + \\frac{\\partial^2{T(t)}}{\\partial{t^2}} \\frac{\\Delta t}{2!} + ..\n",
    "$$\n",
    "\n",
    "$$\n",
    "T(t+\\Delta t)\n",
    "=\n",
    "T(t) + \\frac{\\partial{T(t)}}{\\partial{t}}\\Delta t + O(\\Delta t)\n",
    "$$"
   ]
  },
  {
   "cell_type": "markdown",
   "metadata": {},
   "source": [
    "Rearranging both for $T(t)$:\n",
    "\n",
    "$$\n",
    "\n",
    "T(t)\n",
    "=\n",
    "T(t-\\Delta t)\n",
    "+ \\frac{\\partial{T(t)}}{\\partial{t}}\\Delta t + O(\\Delta t)\n",
    "$$\n",
    "\n",
    "$$\n",
    "T(t) =\n",
    "T(t+\\Delta t) - \\frac{\\partial{T(t)}}{\\partial{t}}\\Delta t + O(\\Delta t)\n",
    "$$"
   ]
  },
  {
   "cell_type": "markdown",
   "metadata": {},
   "source": [
    "Truncating the $O$ term:"
   ]
  },
  {
   "cell_type": "markdown",
   "metadata": {},
   "source": [
    "Equating both $T(t)$ terms:\n",
    "\n",
    "$$\n",
    "\\frac{\\partial{T(t)}}{\\partial{t}} = \n",
    "\\frac{T(t+\\Delta t) - T(t-\\Delta t)}{2 \\Delta t} \n",
    "$$"
   ]
  },
  {
   "cell_type": "markdown",
   "metadata": {},
   "source": [
    "Rearranging for $\\frac{\\partial{T(t)}}{\\partial{t}}$:"
   ]
  },
  {
   "cell_type": "markdown",
   "metadata": {},
   "source": [
    "$$\n",
    "T(t-\\Delta t)\n",
    "=\n",
    "T(t) - \\frac{\\partial{T(t)}}{\\partial{t}}\\Delta t + O(\\Delta t)\n",
    "$$\n",
    "\n",
    "$$\n",
    "\\frac{\\partial{T(t)}}{\\partial{t}} \n",
    "=\n",
    "\\frac{T(t) - T(t-\\Delta t)}{\\Delta t} \n",
    "$$"
   ]
  },
  {
   "cell_type": "markdown",
   "metadata": {},
   "source": [
    "Rearranging for $\\frac{\\partial^2{T(t)}}{\\partial{t^2}}$"
   ]
  },
  {
   "cell_type": "markdown",
   "metadata": {},
   "source": [
    "$$\n",
    "\n",
    "\\frac{\\partial^2{T(t)}}{\\partial{t^2}} = \n",
    " \\frac{2}{\\Delta t}\n",
    " \\left(\n",
    "T(t-\\Delta t)\n",
    "-\n",
    "T(t)\n",
    "+\n",
    "\\frac{\\partial{T(t)}}{\\partial{t}}\\Delta t\n",
    "\\right)\n",
    "$$\n"
   ]
  },
  {
   "cell_type": "markdown",
   "metadata": {},
   "source": [
    "Substituting expression for $\\frac{\\partial{T(t)}}{\\partial{t}}$:"
   ]
  },
  {
   "cell_type": "markdown",
   "metadata": {},
   "source": [
    "$$\n",
    "\\frac{\\partial^2{T(t)}}{\\partial{t^2}} = \n",
    " \\frac{2}{\\Delta t}\n",
    " \\left(\n",
    "T(t-\\Delta t)\n",
    "-\n",
    "T(t)\n",
    "+\n",
    "\\left(\n",
    "\\frac{T(t) - T(t-\\Delta t)}{\\Delta t} \n",
    "\\right)\n",
    "\\Delta t\n",
    "\\right)\n",
    "$$"
   ]
  },
  {
   "cell_type": "markdown",
   "metadata": {},
   "source": []
  }
 ],
 "metadata": {
  "interpreter": {
   "hash": "18ed160ad9db49083d5c6dbf82376d1730af41ed005a12d6dc5900d1b4ae07ba"
  },
  "kernelspec": {
   "display_name": "Python 3.9.5 ('base')",
   "language": "python",
   "name": "python3"
  },
  "language_info": {
   "name": "python",
   "version": "3.9.5"
  },
  "orig_nbformat": 4
 },
 "nbformat": 4,
 "nbformat_minor": 2
}
