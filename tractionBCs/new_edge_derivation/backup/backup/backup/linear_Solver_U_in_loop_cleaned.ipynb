{
 "cells": [
  {
   "cell_type": "code",
   "execution_count": 59,
   "metadata": {},
   "outputs": [],
   "source": [
    "import numpy as np\n",
    "import pandas as pd\n",
    "import math\n",
    "from scipy.sparse import csr_matrix\n",
    "from scipy.sparse.linalg import spsolve\n",
    "\n",
    "def printVar (varname, var):\n",
    "\n",
    "    print(varname)\n",
    "    print(var)\n",
    "\n",
    "def saveArray (name, array):\n",
    "\n",
    "    pd.DataFrame(array).to_csv(\"savedVariables/\" + name + \".csv\", index=False, header=None)\n",
    "\n"
   ]
  },
  {
   "cell_type": "code",
   "execution_count": 60,
   "metadata": {},
   "outputs": [],
   "source": [
    "# Solve the 2D Navier-Cauchy equation using a segregated finite volume method\n",
    "\n",
    "# Define mesh geometry and boundary conditions\n",
    "\n",
    "Lx = .01 #width of domain\n",
    "Ly = .01 #height of domain\n",
    "\n",
    "fac = 1\n",
    "\n",
    "tr_left_x = -1e-6*fac      #u boundary condition at the left boundary\n",
    "tr_left_y =  1e-6*0     #v boundary condition at the left boundary\n",
    "\n",
    "tr_right_x = +1e-6*fac    #u boundary condition at the right boundary\n",
    "tr_right_y = 1e-6*0     #v boundary condition at the right boundary\n",
    "\n",
    "tr_top_x = 1e-6*0       #u boundary condition at the top boundary\n",
    "tr_top_y = +1e-6*fac       #v boundary condition at the top boundary\n",
    "\n",
    "tr_bottom_x = -1e-6*0    #u boundary condition at the bottom boundary \n",
    "tr_bottom_y = -1e-6*fac    #v boundary condition at the bottom boundary\n",
    "\n",
    "nx = 8          #number of control volumes in the x-direction\n",
    "ny = 8            #number of control volumes in the y-direction\n"
   ]
  },
  {
   "cell_type": "code",
   "execution_count": 61,
   "metadata": {},
   "outputs": [],
   "source": [
    "sys.path.append(\"../../Classes/\")\n",
    "\n",
    "from index_and_direction import dim\n",
    "\n",
    "# dim().nx = 9\n",
    "# dim().ny = 9\n",
    "\n",
    "# print(dim().nx)"
   ]
  },
  {
   "cell_type": "code",
   "execution_count": 62,
   "metadata": {},
   "outputs": [
    {
     "name": "stdout",
     "output_type": "stream",
     "text": [
      "8\n"
     ]
    }
   ],
   "source": [
    "print(dim().nx)"
   ]
  },
  {
   "cell_type": "code",
   "execution_count": 63,
   "metadata": {},
   "outputs": [],
   "source": [
    "from index_and_direction import index\n",
    "from index_and_direction import boundary_point_index\n",
    "from index_and_direction import cell_index\n",
    "from index_and_direction import displacement"
   ]
  },
  {
   "cell_type": "code",
   "execution_count": 64,
   "metadata": {},
   "outputs": [],
   "source": [
    "# Define material properties\n",
    "\n",
    "rho = 8050         #density of steel in kg/m^3\n",
    "mu = 78*10e9       #shear modulus in Pa\n",
    "K = 1.6*10e11      #bulk modulus in Pa\n",
    "\n",
    "Lambda = K - (2/3)*mu\n",
    "\n",
    "#print(Lambda)"
   ]
  },
  {
   "cell_type": "code",
   "execution_count": 65,
   "metadata": {},
   "outputs": [],
   "source": [
    "## Define required variables\n",
    "\n",
    "tf = 0.01           #total time in seconds\n",
    "dx = Lx/nx          #length of each control volume in the x-direction\n",
    "dy = Ly/ny          #length of each control volume in the y-direction\n",
    "dt = tf/10          #size of time steps\n",
    "Sfx = dy            #area vector x component (Area of East and West Faces)\n",
    "Sfy = dx            #area vector y component (Area of North and South Faces)\n"
   ]
  },
  {
   "cell_type": "code",
   "execution_count": 66,
   "metadata": {},
   "outputs": [],
   "source": [
    "## Define  position and time vectors\n",
    "\n",
    "t = np.array(np.arange(0,tf, dt))        #time vector (could possibly use a list)\n",
    "x = np.zeros((1,nx+2))   #position vector defining the center points of the control volumes in the x-direction.\n",
    "x[0,nx+1] = Lx\n",
    "x[0,1:nx+1] = np.arange(dx/2,Lx,dx)\n",
    "\n",
    "t = np.array(np.arange(0,tf, dt))        #time vector (could possibly use a list)\n",
    "y = np.zeros((1,ny+2))   #position vector defining the center points of the control volumes in the y-direction.\n",
    "y[0,ny+1] = Ly\n",
    "y[0,1:ny+1] = np.arange(dy/2,Ly,dy)"
   ]
  },
  {
   "cell_type": "code",
   "execution_count": 67,
   "metadata": {},
   "outputs": [],
   "source": [
    "## Define required displacement matrices and b vector\n",
    "\n",
    "u_new = np.zeros([(ny+2)*(nx+2),2])         #unknown displacements at t + 1    (Column 1 = x, Column2 = y)\n",
    "u_old = np.zeros([(ny+2)*(nx+2),2])         #displacement at time t\n",
    "u_old_old = np.zeros([(ny+2)*(nx+2),2])     #displacement at time t - 1\n",
    "\n",
    "#rhs vector\n",
    "b_x = np.zeros([(ny+2)*(nx+2),1])\n",
    "b_y = np.zeros([(ny+2)*(nx+2),1])"
   ]
  },
  {
   "cell_type": "markdown",
   "metadata": {},
   "source": [
    "## X equation:"
   ]
  },
  {
   "cell_type": "code",
   "execution_count": 68,
   "metadata": {},
   "outputs": [
    {
     "data": {
      "text/plain": [
       "0.0"
      ]
     },
     "execution_count": 68,
     "metadata": {},
     "output_type": "execute_result"
    }
   ],
   "source": [
    "class A(index, displacement):\n",
    "\n",
    "    val = \"value that stays in class without changning with instance\"\n",
    "\n",
    "    def __init__(self, xy):\n",
    "\n",
    "        if xy == \"x\":\n",
    "\n",
    "            self.a_P = (rho*dx*dy/(dt**2))+((4*mu+2*Lambda)*Sfx)/dx + ((2*mu)*Sfy)/dy\n",
    "            self.a_N = + A.coef(xy, \"N\", \"u\")*(Sfy)/dy\n",
    "            self.a_S = - A.coef(xy, \"S\", \"u\")*(Sfy)/dy\n",
    "            self.a_E = + A.coef(xy, \"E\", \"u\")*(Sfx)/dx\n",
    "            self.a_W = - A.coef(xy, \"W\", \"u\")*(Sfx)/dx\n",
    "\n",
    "        if xy == \"y\":\n",
    "\n",
    "            self.a_P = (rho*dx*dy/(dt**2))+((4*mu+2*Lambda)*Sfy)/dy + ((2*mu)*Sfx)/dx \n",
    "            self.a_N = + A.coef(xy, \"N\", \"v\")*(Sfy)/dy\n",
    "            self.a_S = - A.coef(xy, \"S\", \"v\")*(Sfy)/dy\n",
    "            self.a_E = + A.coef(xy, \"E\", \"v\")*(Sfx)/dx\n",
    "            self.a_W = - A.coef(xy, \"W\", \"v\")*(Sfx)/dx\n",
    "\n",
    "    def createMatrix(self):\n",
    "\n",
    "        A_no_boundary = np.zeros([(ny+2)*(nx+2), (ny+2)*(nx+2)])\n",
    "        # A_no_boundary = csr_matrix(A_no_boundary)  \n",
    "\n",
    "        for j in np.arange(2, ny):     \n",
    "\n",
    "            for k in np.arange((j*(nx+2)+2), (j*(nx+2)+nx)):  \n",
    "                \n",
    "                A_no_boundary[k,k] = self.a_P\n",
    "                A_no_boundary[k,index(k).n] = -self.a_N\n",
    "                A_no_boundary[k,k-nx-2] = -self.a_S\n",
    "                A_no_boundary[k, index(k).e] = -self.a_E\n",
    "                A_no_boundary[k, index(k).w] = -self.a_W\n",
    "\n",
    "        return A_no_boundary\n",
    "\n",
    "    # b temporal term\n",
    "    def b_temp(u_old, u_old_old, k, xy):\n",
    "\n",
    "        if xy == \"x\":\n",
    "            b_temporal_term = (rho/(dt**2))*( 2*(u_old[k,0])*dx*dy - u_old_old[k,0]*dx*dy)\n",
    "        if xy == \"y\":\n",
    "            b_temporal_term = (rho/(dt**2))*( 2*(u_old[k,1])*dx*dy - u_old_old[k,1]*dx*dy)\n",
    "        \n",
    "        return b_temporal_term\n",
    "    \n",
    "    def b_diff(k, xy, u_previous):\n",
    "\n",
    "        if xy == \"x\":\n",
    "            uv = \"v\"\n",
    "        if xy == \"y\":\n",
    "            uv = \"u\"\n",
    "\n",
    "        b_diffusion = (\n",
    "                                Sfy*A.coef(xy, \"N\", uv)*(\n",
    "                                    (A.corner(\"NE\", uv, u_previous, k) - A.corner(\"NW\", uv, u_previous, k))\n",
    "                                    /dx)\n",
    "                                + \n",
    "                                Sfy*A.coef(xy, \"S\", uv)*(\n",
    "                                    (A.corner(\"SE\", uv, u_previous, k) - A.corner(\"SW\", uv, u_previous, k))\n",
    "                                    /dx)\n",
    "                                +\n",
    "                                Sfx*A.coef(xy, \"E\", uv)*(\n",
    "                                    (A.corner(\"NE\", uv, u_previous, k) - A.corner(\"SE\", uv, u_previous, k))\n",
    "                                    /dy)\n",
    "                                +\n",
    "                                Sfx*A.coef(xy, \"W\", uv)*(\n",
    "                                    (A.corner(\"NW\", uv, u_previous, k) - A.corner(\"SW\", uv, u_previous, k))\n",
    "                                    /dy)\n",
    "        )\n",
    "\n",
    "        return b_diffusion\n",
    "    \n",
    "    def corner(corner_placement, uv, u_previous, k):\n",
    "        if uv == \"u\":\n",
    "            uv_i = 0\n",
    "        elif uv == \"v\":\n",
    "            uv_i = 1\n",
    "\n",
    "        disp = displacement(k, u_previous, uv_i)\n",
    "\n",
    "        if corner_placement == \"NE\":\n",
    "            return (1/4)*(disp.P + disp.NE + disp.N + disp.E)\n",
    "        if corner_placement == \"SE\":\n",
    "            return (1/4)*(disp.P + disp.SE + disp.S + disp.E)\n",
    "        if corner_placement == \"SW\":\n",
    "            return (1/4)*(disp.P + disp.SW + disp.S + disp.W)\n",
    "        if corner_placement == \"NW\":\n",
    "            return (1/4)*(disp.P + disp.NW + disp.N + disp.W)\n",
    "\n",
    "\n",
    "    \n",
    "    def coef(xy, face, uv):\n",
    "        # could have and statements\n",
    "        if xy == \"x\":\n",
    "            if face == \"N\":\n",
    "                if uv == \"u\":\n",
    "                    return mu\n",
    "                if uv == \"v\":\n",
    "                    return mu\n",
    "            if face == \"S\":\n",
    "                if uv == \"u\":\n",
    "                    return - mu\n",
    "                if uv == \"v\":\n",
    "                    return - mu\n",
    "            if face == \"E\":\n",
    "                if uv == \"u\":\n",
    "                    return 2*mu + Lambda\n",
    "                if uv == \"v\":\n",
    "                    return Lambda\n",
    "            if face == \"W\":\n",
    "                if uv == \"u\":\n",
    "                    return - (2*mu + Lambda)\n",
    "                if uv == \"v\":\n",
    "                    return - Lambda\n",
    "\n",
    "        elif xy == \"y\":\n",
    "            if face == \"N\":\n",
    "                if uv == \"u\":\n",
    "                    return Lambda\n",
    "                if uv == \"v\":\n",
    "                    return 2*mu + Lambda\n",
    "            if face == \"S\":\n",
    "                if uv == \"u\":\n",
    "                    return - Lambda\n",
    "                if uv == \"v\":\n",
    "                    return - (2*mu + Lambda)\n",
    "            if face == \"E\":\n",
    "                if uv == \"u\":\n",
    "                    return mu\n",
    "                if uv == \"v\":\n",
    "                    return mu\n",
    "            if face == \"W\":\n",
    "                if uv == \"u\":\n",
    "                    return - mu\n",
    "                if uv == \"v\":\n",
    "                    return - mu\n",
    "\n",
    "u_previous = u_new\n",
    "\n",
    "A.b_diff(25, \"x\", u_previous)"
   ]
  },
  {
   "cell_type": "code",
   "execution_count": 69,
   "metadata": {},
   "outputs": [],
   "source": [
    "class boundaryCellTraction(A):\n",
    "\n",
    "    def __init__(self, edges, xy):\n",
    "        \n",
    "        sw_S, sw_N, sw_W, sw_E = 1, 1, 1, 1\n",
    "\n",
    "        for edge in edges:\n",
    "            if edge == \"b\": sw_S = 0\n",
    "            if edge == \"t\": sw_N = 0\n",
    "            if edge == \"l\": sw_W = 0\n",
    "            if edge == \"r\": sw_E = 0\n",
    "        \n",
    "        self.a_P = (rho*dx*dy/(dt**2)) + A(xy).a_N*sw_N + A(xy).a_S**sw_S + A(xy).a_E*sw_E + A(xy).a_W*sw_W\n",
    "        \n",
    "        self.a_N = A(xy).a_N \n",
    "        self.a_S = A(xy).a_S \n",
    "        self.a_E = A(xy).a_E \n",
    "        self.a_W = A(xy).a_W \n",
    "\n",
    "        # self.a_faces = A(xy).a_N*sw_N + A(xy).a_S*sw_S + A(xy).a_E*sw_E + A(xy).a_W*sw_W \n",
    "\n",
    "    def b_temp(u_old, u_old_old, k, xy):      \n",
    "        return A.b_temp(u_old, u_old_old, k, xy)\n",
    "    \n",
    "    def b_diff(edges, k, xy, u_previous):\n",
    "\n",
    "        if xy == \"x\":\n",
    "            uv = \"v\"\n",
    "        if xy == \"y\":\n",
    "            uv = \"u\"\n",
    "            \n",
    "        N_term =(\n",
    "                    Sfy*A.coef(xy, \"N\", uv)*(\n",
    "                    (boundaryCellTraction.corner(edges, \"NE\", uv, u_previous, k) - boundaryCellTraction.corner(edges, \"NW\", uv, u_previous, k))\n",
    "                    /dx)\n",
    "                )\n",
    "        S_term =(\n",
    "                    Sfy*A.coef(xy, \"S\", uv)*(\n",
    "                        (boundaryCellTraction.corner(edges, \"SE\", uv, u_previous, k) - boundaryCellTraction.corner(edges, \"SW\", uv, u_previous, k))\n",
    "                        /dx)\n",
    "                ) \n",
    "        E_term =(\n",
    "                    Sfx*A.coef(xy, \"E\", uv)*(\n",
    "                        (boundaryCellTraction.corner(edges, \"NE\", uv, u_previous, k) - boundaryCellTraction.corner(edges, \"SE\", uv, u_previous, k))\n",
    "                        /dy)\n",
    "                ) \n",
    "        W_term =(\n",
    "                    Sfx*A.coef(xy, \"W\", uv)*(\n",
    "                        (boundaryCellTraction.corner(edges, \"NW\", uv, u_previous, k) - boundaryCellTraction.corner(edges, \"SW\", uv, u_previous, k))\n",
    "                        /dy)\n",
    "                )\n",
    "\n",
    "        for edge in edges:\n",
    "\n",
    "            if (edge == \"b\") & (xy == \"x\") : S_term =  Sfy*tr_bottom_x  \n",
    "            if (edge == \"b\") & (xy == \"y\") : S_term =  Sfy*tr_bottom_y  \n",
    "            if (edge == \"t\") & (xy == \"x\") : N_term =  Sfy*tr_top_x  \n",
    "            if (edge == \"t\") & (xy == \"y\") : N_term =  Sfy*tr_top_y  \n",
    "            if (edge == \"l\") & (xy == \"x\") : W_term =  Sfy*tr_left_x  \n",
    "            if (edge == \"l\") & (xy == \"y\") : W_term =  Sfy*tr_left_y  \n",
    "            if (edge == \"r\") & (xy == \"x\") : E_term =  Sfy*tr_right_x  \n",
    "            if (edge == \"r\") & (xy == \"y\") : E_term =  Sfy*tr_right_y        \n",
    "\n",
    "        b_diffusion = (N_term + S_term + E_term + W_term)\n",
    "\n",
    "        return b_diffusion\n",
    "    \n",
    "    def corner(edges, corner_placement, uv, u_previous, k):\n",
    "\n",
    "        if uv == \"u\":\n",
    "            uv_i = 0\n",
    "        elif uv == \"v\":\n",
    "            uv_i = 1\n",
    "\n",
    "        disp = displacement(k, u_previous, uv_i)\n",
    "\n",
    "        if corner_placement == \"NE\":\n",
    "            corner =  (1/4)*(disp.P + disp.NE + disp.N + disp.E)\n",
    "        if corner_placement == \"SE\":\n",
    "            corner =  (1/4)*(disp.P + disp.SE + disp.S + disp.E)\n",
    "        if corner_placement == \"SW\":\n",
    "            corner =  (1/4)*(disp.P + disp.SW + disp.S + disp.W)\n",
    "        if corner_placement == \"NW\":\n",
    "            corner =  (1/4)*(disp.P + disp.NW + disp.N + disp.W)\n",
    "\n",
    "        for edge in edges:\n",
    "            if (edge == \"b\") & (corner_placement == \"SE\"):\n",
    "                corner =  (1/2)*(disp.SE + disp.S)\n",
    "            if (edge == \"b\") & (corner_placement == \"SW\"):\n",
    "                corner =  (1/2)*(disp.SW + disp.S)\n",
    "\n",
    "            if (edge == \"t\") & (corner_placement == \"NE\"):\n",
    "                corner =  (1/2)*(disp.NE + disp.N)\n",
    "            if (edge == \"t\") & (corner_placement == \"NW\"):\n",
    "                corner =  (1/2)*(disp.NW + disp.N)\n",
    "\n",
    "            if (edge == \"l\") & (corner_placement == \"NW\"):\n",
    "                corner =  (1/2)*(disp.NW + disp.W)\n",
    "            if (edge == \"l\") & (corner_placement == \"SW\"):\n",
    "                corner =  (1/2)*(disp.SW + disp.W)\n",
    "\n",
    "            if (edge == \"r\") & (corner_placement == \"NE\"):\n",
    "                corner =  (1/2)*(disp.NE + disp.E)\n",
    "            if (edge == \"r\") & (corner_placement == \"SE\"):\n",
    "                corner =  (1/2)*(disp.SE + disp.E)\n",
    "        \n",
    "        return corner\n",
    "\n",
    "# boundaryCellTraction.b_diff([\"b\", \"l\"], 14, \"x\", u_previous)\n",
    "   "
   ]
  },
  {
   "cell_type": "code",
   "execution_count": 70,
   "metadata": {},
   "outputs": [
    {
     "name": "stdout",
     "output_type": "stream",
     "text": [
      "\n",
      "Time = 0.0\n",
      "icorr = 1, Residual = 0.67571211913923279191, normFactor = 0.00000000000000000000\n",
      "icorr = 2, Residual = 0.46341764445855654353, normFactor = 0.00000000000000000000\n",
      "icorr = 3, Residual = 0.14869545564591313269, normFactor = 0.00000000000000000000\n",
      "icorr = 4, Residual = 0.06714248159417532391, normFactor = 0.00000000000000000000\n",
      "icorr = 5, Residual = 0.02646710940779437721, normFactor = 0.00000000000000000000\n",
      "icorr = 6, Residual = 0.01109370217685548728, normFactor = 0.00000000000000000000\n",
      "icorr = 7, Residual = 0.00456224672302771393, normFactor = 0.00000000000000000000\n",
      "icorr = 8, Residual = 0.00193317205536269309, normFactor = 0.00000000000000000000\n",
      "icorr = 9, Residual = 0.00086150357071717437, normFactor = 0.00000000000000000000\n",
      "\n",
      "Time = 0.001\n",
      "icorr = 1, Residual = 0.00046031547048462938, normFactor = 0.00000000000000000000\n",
      "\n",
      "Time = 0.002\n",
      "icorr = 1, Residual = 0.00033323486690710352, normFactor = 0.00000000000000000000\n",
      "\n",
      "Time = 0.003\n",
      "icorr = 1, Residual = 0.00029930185311393353, normFactor = 0.00000000000000000000\n",
      "\n",
      "Time = 0.004\n",
      "icorr = 1, Residual = 0.00029178555383632286, normFactor = 0.00000000000000000000\n",
      "\n",
      "Time = 0.005\n",
      "icorr = 1, Residual = 0.00028924182105304145, normFactor = 0.00000000000000000000\n",
      "\n",
      "Time = 0.006\n",
      "icorr = 1, Residual = 0.00029001047310721632, normFactor = 0.00000000000000000000\n",
      "\n",
      "Time = 0.007\n",
      "icorr = 1, Residual = 0.00029046467642899267, normFactor = 0.00000000000000000000\n",
      "\n",
      "Time = 0.008\n",
      "icorr = 1, Residual = 0.00029217415603879243, normFactor = 0.00000000000000000000\n",
      "\n",
      "Time = 0.009000000000000001\n",
      "icorr = 1, Residual = 0.00029346360152985218, normFactor = 0.00000000000000000000\n"
     ]
    },
    {
     "data": {
      "application/vnd.plotly.v1+json": {
       "config": {
        "plotlyServerURL": "https://plot.ly"
       },
       "data": [
        {
         "type": "surface",
         "x": [
          [
           0,
           0.000625,
           0.001875,
           0.0031249999999999997,
           0.0043749999999999995,
           0.005624999999999999,
           0.006874999999999998,
           0.008124999999999999,
           0.009375,
           0.01
          ],
          [
           0,
           0.000625,
           0.001875,
           0.0031249999999999997,
           0.0043749999999999995,
           0.005624999999999999,
           0.006874999999999998,
           0.008124999999999999,
           0.009375,
           0.01
          ],
          [
           0,
           0.000625,
           0.001875,
           0.0031249999999999997,
           0.0043749999999999995,
           0.005624999999999999,
           0.006874999999999998,
           0.008124999999999999,
           0.009375,
           0.01
          ],
          [
           0,
           0.000625,
           0.001875,
           0.0031249999999999997,
           0.0043749999999999995,
           0.005624999999999999,
           0.006874999999999998,
           0.008124999999999999,
           0.009375,
           0.01
          ],
          [
           0,
           0.000625,
           0.001875,
           0.0031249999999999997,
           0.0043749999999999995,
           0.005624999999999999,
           0.006874999999999998,
           0.008124999999999999,
           0.009375,
           0.01
          ],
          [
           0,
           0.000625,
           0.001875,
           0.0031249999999999997,
           0.0043749999999999995,
           0.005624999999999999,
           0.006874999999999998,
           0.008124999999999999,
           0.009375,
           0.01
          ],
          [
           0,
           0.000625,
           0.001875,
           0.0031249999999999997,
           0.0043749999999999995,
           0.005624999999999999,
           0.006874999999999998,
           0.008124999999999999,
           0.009375,
           0.01
          ],
          [
           0,
           0.000625,
           0.001875,
           0.0031249999999999997,
           0.0043749999999999995,
           0.005624999999999999,
           0.006874999999999998,
           0.008124999999999999,
           0.009375,
           0.01
          ],
          [
           0,
           0.000625,
           0.001875,
           0.0031249999999999997,
           0.0043749999999999995,
           0.005624999999999999,
           0.006874999999999998,
           0.008124999999999999,
           0.009375,
           0.01
          ],
          [
           0,
           0.000625,
           0.001875,
           0.0031249999999999997,
           0.0043749999999999995,
           0.005624999999999999,
           0.006874999999999998,
           0.008124999999999999,
           0.009375,
           0.01
          ]
         ],
         "y": [
          [
           0,
           0,
           0,
           0,
           0,
           0,
           0,
           0,
           0,
           0
          ],
          [
           0.000625,
           0.000625,
           0.000625,
           0.000625,
           0.000625,
           0.000625,
           0.000625,
           0.000625,
           0.000625,
           0.000625
          ],
          [
           0.001875,
           0.001875,
           0.001875,
           0.001875,
           0.001875,
           0.001875,
           0.001875,
           0.001875,
           0.001875,
           0.001875
          ],
          [
           0.0031249999999999997,
           0.0031249999999999997,
           0.0031249999999999997,
           0.0031249999999999997,
           0.0031249999999999997,
           0.0031249999999999997,
           0.0031249999999999997,
           0.0031249999999999997,
           0.0031249999999999997,
           0.0031249999999999997
          ],
          [
           0.0043749999999999995,
           0.0043749999999999995,
           0.0043749999999999995,
           0.0043749999999999995,
           0.0043749999999999995,
           0.0043749999999999995,
           0.0043749999999999995,
           0.0043749999999999995,
           0.0043749999999999995,
           0.0043749999999999995
          ],
          [
           0.005624999999999999,
           0.005624999999999999,
           0.005624999999999999,
           0.005624999999999999,
           0.005624999999999999,
           0.005624999999999999,
           0.005624999999999999,
           0.005624999999999999,
           0.005624999999999999,
           0.005624999999999999
          ],
          [
           0.006874999999999998,
           0.006874999999999998,
           0.006874999999999998,
           0.006874999999999998,
           0.006874999999999998,
           0.006874999999999998,
           0.006874999999999998,
           0.006874999999999998,
           0.006874999999999998,
           0.006874999999999998
          ],
          [
           0.008124999999999999,
           0.008124999999999999,
           0.008124999999999999,
           0.008124999999999999,
           0.008124999999999999,
           0.008124999999999999,
           0.008124999999999999,
           0.008124999999999999,
           0.008124999999999999,
           0.008124999999999999
          ],
          [
           0.009375,
           0.009375,
           0.009375,
           0.009375,
           0.009375,
           0.009375,
           0.009375,
           0.009375,
           0.009375,
           0.009375
          ],
          [
           0.01,
           0.01,
           0.01,
           0.01,
           0.01,
           0.01,
           0.01,
           0.01,
           0.01,
           0.01
          ]
         ],
         "z": [
          [
           1.8757046319344507e-15,
           1.8089001151706332e-15,
           1.582500777584379e-15,
           1.4354323065771271e-15,
           1.3541290268430415e-15,
           1.3541996152046576e-15,
           1.435104776252612e-15,
           1.5864178016099092e-15,
           1.774933640240492e-15,
           1.9082391207272747e-15
          ],
          [
           1.791709687203599e-15,
           1.6598901178432673e-15,
           1.4464536249642368e-15,
           1.2790194041227795e-15,
           1.1875682818851405e-15,
           1.1877107882272966e-15,
           1.27958444952228e-15,
           1.4446475039159708e-15,
           1.6634431508282023e-15,
           1.783470963869574e-15
          ],
          [
           1.5843870275611348e-15,
           1.4453371383075006e-15,
           1.1882021745867072e-15,
           9.79419132931231e-16,
           8.562518303882033e-16,
           8.563017131695715e-16,
           9.7935819631798e-16,
           1.187405500951996e-15,
           1.444107160373735e-15,
           1.583985527805806e-15
          ],
          [
           1.4357506148113372e-15,
           1.2796668192346713e-15,
           9.798079796534743e-16,
           7.127087801252591e-16,
           5.30893979705331e-16,
           5.30721477203841e-16,
           7.121435428099342e-16,
           9.787546844022278e-16,
           1.2784749575936362e-15,
           1.4345651778832575e-15
          ],
          [
           1.3548936986074102e-15,
           1.1883801556939404e-15,
           8.570111344496268e-16,
           5.314970337691539e-16,
           2.374269116953047e-16,
           2.3686131231004715e-16,
           5.30565958703174e-16,
           8.558543580055678e-16,
           1.1872896772717394e-15,
           1.354022477407224e-15
          ],
          [
           1.355082884684139e-15,
           1.1886370353183774e-15,
           8.57295369290537e-16,
           5.318626246898435e-16,
           2.3828219054517945e-16,
           2.379851604827843e-16,
           5.312482479891001e-16,
           8.563735203711714e-16,
           1.187705591206501e-15,
           1.3544088132699185e-15
          ],
          [
           1.4360603848285512e-15,
           1.2805638835396297e-15,
           9.804473824359684e-16,
           7.134138026456937e-16,
           5.319463896364532e-16,
           5.321608236962553e-16,
           7.136441787558009e-16,
           9.801318777244367e-16,
           1.2797494464666832e-15,
           1.4354921621685475e-15
          ],
          [
           1.587411294054976e-15,
           1.4456652481650734e-15,
           1.1885221388521315e-15,
           9.800070603561568e-16,
           8.572238005244555e-16,
           8.577006019093831e-16,
           9.810735543365874e-16,
           1.1891349215684874e-15,
           1.4452850716736202e-15,
           1.5869375809822097e-15
          ],
          [
           1.7760882890227975e-15,
           1.6644969765019214e-15,
           1.4452522031085967e-15,
           1.2796946455199548e-15,
           1.1886079278775634e-15,
           1.189162316196663e-15,
           1.2814063267493104e-15,
           1.4459635546958473e-15,
           1.666474599350702e-15,
           1.7758021228906214e-15
          ],
          [
           1.9090722895323294e-15,
           1.7846749578027788e-15,
           1.5851619818311413e-15,
           1.4357907785352137e-15,
           1.3552789497684567e-15,
           1.3557078049565285e-15,
           1.4366986456892198e-15,
           1.5895904066553155e-15,
           1.7674831678055088e-15,
           1.9218457945911332e-15
          ]
         ]
        }
       ],
       "layout": {
        "template": {
         "data": {
          "bar": [
           {
            "error_x": {
             "color": "#2a3f5f"
            },
            "error_y": {
             "color": "#2a3f5f"
            },
            "marker": {
             "line": {
              "color": "#E5ECF6",
              "width": 0.5
             },
             "pattern": {
              "fillmode": "overlay",
              "size": 10,
              "solidity": 0.2
             }
            },
            "type": "bar"
           }
          ],
          "barpolar": [
           {
            "marker": {
             "line": {
              "color": "#E5ECF6",
              "width": 0.5
             },
             "pattern": {
              "fillmode": "overlay",
              "size": 10,
              "solidity": 0.2
             }
            },
            "type": "barpolar"
           }
          ],
          "carpet": [
           {
            "aaxis": {
             "endlinecolor": "#2a3f5f",
             "gridcolor": "white",
             "linecolor": "white",
             "minorgridcolor": "white",
             "startlinecolor": "#2a3f5f"
            },
            "baxis": {
             "endlinecolor": "#2a3f5f",
             "gridcolor": "white",
             "linecolor": "white",
             "minorgridcolor": "white",
             "startlinecolor": "#2a3f5f"
            },
            "type": "carpet"
           }
          ],
          "choropleth": [
           {
            "colorbar": {
             "outlinewidth": 0,
             "ticks": ""
            },
            "type": "choropleth"
           }
          ],
          "contour": [
           {
            "colorbar": {
             "outlinewidth": 0,
             "ticks": ""
            },
            "colorscale": [
             [
              0,
              "#0d0887"
             ],
             [
              0.1111111111111111,
              "#46039f"
             ],
             [
              0.2222222222222222,
              "#7201a8"
             ],
             [
              0.3333333333333333,
              "#9c179e"
             ],
             [
              0.4444444444444444,
              "#bd3786"
             ],
             [
              0.5555555555555556,
              "#d8576b"
             ],
             [
              0.6666666666666666,
              "#ed7953"
             ],
             [
              0.7777777777777778,
              "#fb9f3a"
             ],
             [
              0.8888888888888888,
              "#fdca26"
             ],
             [
              1,
              "#f0f921"
             ]
            ],
            "type": "contour"
           }
          ],
          "contourcarpet": [
           {
            "colorbar": {
             "outlinewidth": 0,
             "ticks": ""
            },
            "type": "contourcarpet"
           }
          ],
          "heatmap": [
           {
            "colorbar": {
             "outlinewidth": 0,
             "ticks": ""
            },
            "colorscale": [
             [
              0,
              "#0d0887"
             ],
             [
              0.1111111111111111,
              "#46039f"
             ],
             [
              0.2222222222222222,
              "#7201a8"
             ],
             [
              0.3333333333333333,
              "#9c179e"
             ],
             [
              0.4444444444444444,
              "#bd3786"
             ],
             [
              0.5555555555555556,
              "#d8576b"
             ],
             [
              0.6666666666666666,
              "#ed7953"
             ],
             [
              0.7777777777777778,
              "#fb9f3a"
             ],
             [
              0.8888888888888888,
              "#fdca26"
             ],
             [
              1,
              "#f0f921"
             ]
            ],
            "type": "heatmap"
           }
          ],
          "heatmapgl": [
           {
            "colorbar": {
             "outlinewidth": 0,
             "ticks": ""
            },
            "colorscale": [
             [
              0,
              "#0d0887"
             ],
             [
              0.1111111111111111,
              "#46039f"
             ],
             [
              0.2222222222222222,
              "#7201a8"
             ],
             [
              0.3333333333333333,
              "#9c179e"
             ],
             [
              0.4444444444444444,
              "#bd3786"
             ],
             [
              0.5555555555555556,
              "#d8576b"
             ],
             [
              0.6666666666666666,
              "#ed7953"
             ],
             [
              0.7777777777777778,
              "#fb9f3a"
             ],
             [
              0.8888888888888888,
              "#fdca26"
             ],
             [
              1,
              "#f0f921"
             ]
            ],
            "type": "heatmapgl"
           }
          ],
          "histogram": [
           {
            "marker": {
             "pattern": {
              "fillmode": "overlay",
              "size": 10,
              "solidity": 0.2
             }
            },
            "type": "histogram"
           }
          ],
          "histogram2d": [
           {
            "colorbar": {
             "outlinewidth": 0,
             "ticks": ""
            },
            "colorscale": [
             [
              0,
              "#0d0887"
             ],
             [
              0.1111111111111111,
              "#46039f"
             ],
             [
              0.2222222222222222,
              "#7201a8"
             ],
             [
              0.3333333333333333,
              "#9c179e"
             ],
             [
              0.4444444444444444,
              "#bd3786"
             ],
             [
              0.5555555555555556,
              "#d8576b"
             ],
             [
              0.6666666666666666,
              "#ed7953"
             ],
             [
              0.7777777777777778,
              "#fb9f3a"
             ],
             [
              0.8888888888888888,
              "#fdca26"
             ],
             [
              1,
              "#f0f921"
             ]
            ],
            "type": "histogram2d"
           }
          ],
          "histogram2dcontour": [
           {
            "colorbar": {
             "outlinewidth": 0,
             "ticks": ""
            },
            "colorscale": [
             [
              0,
              "#0d0887"
             ],
             [
              0.1111111111111111,
              "#46039f"
             ],
             [
              0.2222222222222222,
              "#7201a8"
             ],
             [
              0.3333333333333333,
              "#9c179e"
             ],
             [
              0.4444444444444444,
              "#bd3786"
             ],
             [
              0.5555555555555556,
              "#d8576b"
             ],
             [
              0.6666666666666666,
              "#ed7953"
             ],
             [
              0.7777777777777778,
              "#fb9f3a"
             ],
             [
              0.8888888888888888,
              "#fdca26"
             ],
             [
              1,
              "#f0f921"
             ]
            ],
            "type": "histogram2dcontour"
           }
          ],
          "mesh3d": [
           {
            "colorbar": {
             "outlinewidth": 0,
             "ticks": ""
            },
            "type": "mesh3d"
           }
          ],
          "parcoords": [
           {
            "line": {
             "colorbar": {
              "outlinewidth": 0,
              "ticks": ""
             }
            },
            "type": "parcoords"
           }
          ],
          "pie": [
           {
            "automargin": true,
            "type": "pie"
           }
          ],
          "scatter": [
           {
            "marker": {
             "colorbar": {
              "outlinewidth": 0,
              "ticks": ""
             }
            },
            "type": "scatter"
           }
          ],
          "scatter3d": [
           {
            "line": {
             "colorbar": {
              "outlinewidth": 0,
              "ticks": ""
             }
            },
            "marker": {
             "colorbar": {
              "outlinewidth": 0,
              "ticks": ""
             }
            },
            "type": "scatter3d"
           }
          ],
          "scattercarpet": [
           {
            "marker": {
             "colorbar": {
              "outlinewidth": 0,
              "ticks": ""
             }
            },
            "type": "scattercarpet"
           }
          ],
          "scattergeo": [
           {
            "marker": {
             "colorbar": {
              "outlinewidth": 0,
              "ticks": ""
             }
            },
            "type": "scattergeo"
           }
          ],
          "scattergl": [
           {
            "marker": {
             "colorbar": {
              "outlinewidth": 0,
              "ticks": ""
             }
            },
            "type": "scattergl"
           }
          ],
          "scattermapbox": [
           {
            "marker": {
             "colorbar": {
              "outlinewidth": 0,
              "ticks": ""
             }
            },
            "type": "scattermapbox"
           }
          ],
          "scatterpolar": [
           {
            "marker": {
             "colorbar": {
              "outlinewidth": 0,
              "ticks": ""
             }
            },
            "type": "scatterpolar"
           }
          ],
          "scatterpolargl": [
           {
            "marker": {
             "colorbar": {
              "outlinewidth": 0,
              "ticks": ""
             }
            },
            "type": "scatterpolargl"
           }
          ],
          "scatterternary": [
           {
            "marker": {
             "colorbar": {
              "outlinewidth": 0,
              "ticks": ""
             }
            },
            "type": "scatterternary"
           }
          ],
          "surface": [
           {
            "colorbar": {
             "outlinewidth": 0,
             "ticks": ""
            },
            "colorscale": [
             [
              0,
              "#0d0887"
             ],
             [
              0.1111111111111111,
              "#46039f"
             ],
             [
              0.2222222222222222,
              "#7201a8"
             ],
             [
              0.3333333333333333,
              "#9c179e"
             ],
             [
              0.4444444444444444,
              "#bd3786"
             ],
             [
              0.5555555555555556,
              "#d8576b"
             ],
             [
              0.6666666666666666,
              "#ed7953"
             ],
             [
              0.7777777777777778,
              "#fb9f3a"
             ],
             [
              0.8888888888888888,
              "#fdca26"
             ],
             [
              1,
              "#f0f921"
             ]
            ],
            "type": "surface"
           }
          ],
          "table": [
           {
            "cells": {
             "fill": {
              "color": "#EBF0F8"
             },
             "line": {
              "color": "white"
             }
            },
            "header": {
             "fill": {
              "color": "#C8D4E3"
             },
             "line": {
              "color": "white"
             }
            },
            "type": "table"
           }
          ]
         },
         "layout": {
          "annotationdefaults": {
           "arrowcolor": "#2a3f5f",
           "arrowhead": 0,
           "arrowwidth": 1
          },
          "autotypenumbers": "strict",
          "coloraxis": {
           "colorbar": {
            "outlinewidth": 0,
            "ticks": ""
           }
          },
          "colorscale": {
           "diverging": [
            [
             0,
             "#8e0152"
            ],
            [
             0.1,
             "#c51b7d"
            ],
            [
             0.2,
             "#de77ae"
            ],
            [
             0.3,
             "#f1b6da"
            ],
            [
             0.4,
             "#fde0ef"
            ],
            [
             0.5,
             "#f7f7f7"
            ],
            [
             0.6,
             "#e6f5d0"
            ],
            [
             0.7,
             "#b8e186"
            ],
            [
             0.8,
             "#7fbc41"
            ],
            [
             0.9,
             "#4d9221"
            ],
            [
             1,
             "#276419"
            ]
           ],
           "sequential": [
            [
             0,
             "#0d0887"
            ],
            [
             0.1111111111111111,
             "#46039f"
            ],
            [
             0.2222222222222222,
             "#7201a8"
            ],
            [
             0.3333333333333333,
             "#9c179e"
            ],
            [
             0.4444444444444444,
             "#bd3786"
            ],
            [
             0.5555555555555556,
             "#d8576b"
            ],
            [
             0.6666666666666666,
             "#ed7953"
            ],
            [
             0.7777777777777778,
             "#fb9f3a"
            ],
            [
             0.8888888888888888,
             "#fdca26"
            ],
            [
             1,
             "#f0f921"
            ]
           ],
           "sequentialminus": [
            [
             0,
             "#0d0887"
            ],
            [
             0.1111111111111111,
             "#46039f"
            ],
            [
             0.2222222222222222,
             "#7201a8"
            ],
            [
             0.3333333333333333,
             "#9c179e"
            ],
            [
             0.4444444444444444,
             "#bd3786"
            ],
            [
             0.5555555555555556,
             "#d8576b"
            ],
            [
             0.6666666666666666,
             "#ed7953"
            ],
            [
             0.7777777777777778,
             "#fb9f3a"
            ],
            [
             0.8888888888888888,
             "#fdca26"
            ],
            [
             1,
             "#f0f921"
            ]
           ]
          },
          "colorway": [
           "#636efa",
           "#EF553B",
           "#00cc96",
           "#ab63fa",
           "#FFA15A",
           "#19d3f3",
           "#FF6692",
           "#B6E880",
           "#FF97FF",
           "#FECB52"
          ],
          "font": {
           "color": "#2a3f5f"
          },
          "geo": {
           "bgcolor": "white",
           "lakecolor": "white",
           "landcolor": "#E5ECF6",
           "showlakes": true,
           "showland": true,
           "subunitcolor": "white"
          },
          "hoverlabel": {
           "align": "left"
          },
          "hovermode": "closest",
          "mapbox": {
           "style": "light"
          },
          "paper_bgcolor": "white",
          "plot_bgcolor": "#E5ECF6",
          "polar": {
           "angularaxis": {
            "gridcolor": "white",
            "linecolor": "white",
            "ticks": ""
           },
           "bgcolor": "#E5ECF6",
           "radialaxis": {
            "gridcolor": "white",
            "linecolor": "white",
            "ticks": ""
           }
          },
          "scene": {
           "xaxis": {
            "backgroundcolor": "#E5ECF6",
            "gridcolor": "white",
            "gridwidth": 2,
            "linecolor": "white",
            "showbackground": true,
            "ticks": "",
            "zerolinecolor": "white"
           },
           "yaxis": {
            "backgroundcolor": "#E5ECF6",
            "gridcolor": "white",
            "gridwidth": 2,
            "linecolor": "white",
            "showbackground": true,
            "ticks": "",
            "zerolinecolor": "white"
           },
           "zaxis": {
            "backgroundcolor": "#E5ECF6",
            "gridcolor": "white",
            "gridwidth": 2,
            "linecolor": "white",
            "showbackground": true,
            "ticks": "",
            "zerolinecolor": "white"
           }
          },
          "shapedefaults": {
           "line": {
            "color": "#2a3f5f"
           }
          },
          "ternary": {
           "aaxis": {
            "gridcolor": "white",
            "linecolor": "white",
            "ticks": ""
           },
           "baxis": {
            "gridcolor": "white",
            "linecolor": "white",
            "ticks": ""
           },
           "bgcolor": "#E5ECF6",
           "caxis": {
            "gridcolor": "white",
            "linecolor": "white",
            "ticks": ""
           }
          },
          "title": {
           "x": 0.05
          },
          "xaxis": {
           "automargin": true,
           "gridcolor": "white",
           "linecolor": "white",
           "ticks": "",
           "title": {
            "standoff": 15
           },
           "zerolinecolor": "white",
           "zerolinewidth": 2
          },
          "yaxis": {
           "automargin": true,
           "gridcolor": "white",
           "linecolor": "white",
           "ticks": "",
           "title": {
            "standoff": 15
           },
           "zerolinecolor": "white",
           "zerolinewidth": 2
          }
         }
        }
       }
      },
      "text/html": [
       "<div>                            <div id=\"b717b2ac-8967-4bb5-bffd-5fc531a6c89a\" class=\"plotly-graph-div\" style=\"height:525px; width:100%;\"></div>            <script type=\"text/javascript\">                require([\"plotly\"], function(Plotly) {                    window.PLOTLYENV=window.PLOTLYENV || {};                                    if (document.getElementById(\"b717b2ac-8967-4bb5-bffd-5fc531a6c89a\")) {                    Plotly.newPlot(                        \"b717b2ac-8967-4bb5-bffd-5fc531a6c89a\",                        [{\"x\":[[0.0,0.000625,0.001875,0.0031249999999999997,0.0043749999999999995,0.005624999999999999,0.006874999999999998,0.008124999999999999,0.009375,0.01],[0.0,0.000625,0.001875,0.0031249999999999997,0.0043749999999999995,0.005624999999999999,0.006874999999999998,0.008124999999999999,0.009375,0.01],[0.0,0.000625,0.001875,0.0031249999999999997,0.0043749999999999995,0.005624999999999999,0.006874999999999998,0.008124999999999999,0.009375,0.01],[0.0,0.000625,0.001875,0.0031249999999999997,0.0043749999999999995,0.005624999999999999,0.006874999999999998,0.008124999999999999,0.009375,0.01],[0.0,0.000625,0.001875,0.0031249999999999997,0.0043749999999999995,0.005624999999999999,0.006874999999999998,0.008124999999999999,0.009375,0.01],[0.0,0.000625,0.001875,0.0031249999999999997,0.0043749999999999995,0.005624999999999999,0.006874999999999998,0.008124999999999999,0.009375,0.01],[0.0,0.000625,0.001875,0.0031249999999999997,0.0043749999999999995,0.005624999999999999,0.006874999999999998,0.008124999999999999,0.009375,0.01],[0.0,0.000625,0.001875,0.0031249999999999997,0.0043749999999999995,0.005624999999999999,0.006874999999999998,0.008124999999999999,0.009375,0.01],[0.0,0.000625,0.001875,0.0031249999999999997,0.0043749999999999995,0.005624999999999999,0.006874999999999998,0.008124999999999999,0.009375,0.01],[0.0,0.000625,0.001875,0.0031249999999999997,0.0043749999999999995,0.005624999999999999,0.006874999999999998,0.008124999999999999,0.009375,0.01]],\"y\":[[0.0,0.0,0.0,0.0,0.0,0.0,0.0,0.0,0.0,0.0],[0.000625,0.000625,0.000625,0.000625,0.000625,0.000625,0.000625,0.000625,0.000625,0.000625],[0.001875,0.001875,0.001875,0.001875,0.001875,0.001875,0.001875,0.001875,0.001875,0.001875],[0.0031249999999999997,0.0031249999999999997,0.0031249999999999997,0.0031249999999999997,0.0031249999999999997,0.0031249999999999997,0.0031249999999999997,0.0031249999999999997,0.0031249999999999997,0.0031249999999999997],[0.0043749999999999995,0.0043749999999999995,0.0043749999999999995,0.0043749999999999995,0.0043749999999999995,0.0043749999999999995,0.0043749999999999995,0.0043749999999999995,0.0043749999999999995,0.0043749999999999995],[0.005624999999999999,0.005624999999999999,0.005624999999999999,0.005624999999999999,0.005624999999999999,0.005624999999999999,0.005624999999999999,0.005624999999999999,0.005624999999999999,0.005624999999999999],[0.006874999999999998,0.006874999999999998,0.006874999999999998,0.006874999999999998,0.006874999999999998,0.006874999999999998,0.006874999999999998,0.006874999999999998,0.006874999999999998,0.006874999999999998],[0.008124999999999999,0.008124999999999999,0.008124999999999999,0.008124999999999999,0.008124999999999999,0.008124999999999999,0.008124999999999999,0.008124999999999999,0.008124999999999999,0.008124999999999999],[0.009375,0.009375,0.009375,0.009375,0.009375,0.009375,0.009375,0.009375,0.009375,0.009375],[0.01,0.01,0.01,0.01,0.01,0.01,0.01,0.01,0.01,0.01]],\"z\":[[1.8757046319344507e-15,1.8089001151706332e-15,1.582500777584379e-15,1.4354323065771271e-15,1.3541290268430415e-15,1.3541996152046576e-15,1.435104776252612e-15,1.5864178016099092e-15,1.774933640240492e-15,1.9082391207272747e-15],[1.791709687203599e-15,1.6598901178432673e-15,1.4464536249642368e-15,1.2790194041227795e-15,1.1875682818851405e-15,1.1877107882272966e-15,1.27958444952228e-15,1.4446475039159708e-15,1.6634431508282023e-15,1.783470963869574e-15],[1.5843870275611348e-15,1.4453371383075006e-15,1.1882021745867072e-15,9.79419132931231e-16,8.562518303882033e-16,8.563017131695715e-16,9.7935819631798e-16,1.187405500951996e-15,1.444107160373735e-15,1.583985527805806e-15],[1.4357506148113372e-15,1.2796668192346713e-15,9.798079796534743e-16,7.127087801252591e-16,5.30893979705331e-16,5.30721477203841e-16,7.121435428099342e-16,9.787546844022278e-16,1.2784749575936362e-15,1.4345651778832575e-15],[1.3548936986074102e-15,1.1883801556939404e-15,8.570111344496268e-16,5.314970337691539e-16,2.374269116953047e-16,2.3686131231004715e-16,5.30565958703174e-16,8.558543580055678e-16,1.1872896772717394e-15,1.354022477407224e-15],[1.355082884684139e-15,1.1886370353183774e-15,8.57295369290537e-16,5.318626246898435e-16,2.3828219054517945e-16,2.379851604827843e-16,5.312482479891001e-16,8.563735203711714e-16,1.187705591206501e-15,1.3544088132699185e-15],[1.4360603848285512e-15,1.2805638835396297e-15,9.804473824359684e-16,7.134138026456937e-16,5.319463896364532e-16,5.321608236962553e-16,7.136441787558009e-16,9.801318777244367e-16,1.2797494464666832e-15,1.4354921621685475e-15],[1.587411294054976e-15,1.4456652481650734e-15,1.1885221388521315e-15,9.800070603561568e-16,8.572238005244555e-16,8.577006019093831e-16,9.810735543365874e-16,1.1891349215684874e-15,1.4452850716736202e-15,1.5869375809822097e-15],[1.7760882890227975e-15,1.6644969765019214e-15,1.4452522031085967e-15,1.2796946455199548e-15,1.1886079278775634e-15,1.189162316196663e-15,1.2814063267493104e-15,1.4459635546958473e-15,1.666474599350702e-15,1.7758021228906214e-15],[1.9090722895323294e-15,1.7846749578027788e-15,1.5851619818311413e-15,1.4357907785352137e-15,1.3552789497684567e-15,1.3557078049565285e-15,1.4366986456892198e-15,1.5895904066553155e-15,1.7674831678055088e-15,1.9218457945911332e-15]],\"type\":\"surface\"}],                        {\"template\":{\"data\":{\"bar\":[{\"error_x\":{\"color\":\"#2a3f5f\"},\"error_y\":{\"color\":\"#2a3f5f\"},\"marker\":{\"line\":{\"color\":\"#E5ECF6\",\"width\":0.5},\"pattern\":{\"fillmode\":\"overlay\",\"size\":10,\"solidity\":0.2}},\"type\":\"bar\"}],\"barpolar\":[{\"marker\":{\"line\":{\"color\":\"#E5ECF6\",\"width\":0.5},\"pattern\":{\"fillmode\":\"overlay\",\"size\":10,\"solidity\":0.2}},\"type\":\"barpolar\"}],\"carpet\":[{\"aaxis\":{\"endlinecolor\":\"#2a3f5f\",\"gridcolor\":\"white\",\"linecolor\":\"white\",\"minorgridcolor\":\"white\",\"startlinecolor\":\"#2a3f5f\"},\"baxis\":{\"endlinecolor\":\"#2a3f5f\",\"gridcolor\":\"white\",\"linecolor\":\"white\",\"minorgridcolor\":\"white\",\"startlinecolor\":\"#2a3f5f\"},\"type\":\"carpet\"}],\"choropleth\":[{\"colorbar\":{\"outlinewidth\":0,\"ticks\":\"\"},\"type\":\"choropleth\"}],\"contour\":[{\"colorbar\":{\"outlinewidth\":0,\"ticks\":\"\"},\"colorscale\":[[0.0,\"#0d0887\"],[0.1111111111111111,\"#46039f\"],[0.2222222222222222,\"#7201a8\"],[0.3333333333333333,\"#9c179e\"],[0.4444444444444444,\"#bd3786\"],[0.5555555555555556,\"#d8576b\"],[0.6666666666666666,\"#ed7953\"],[0.7777777777777778,\"#fb9f3a\"],[0.8888888888888888,\"#fdca26\"],[1.0,\"#f0f921\"]],\"type\":\"contour\"}],\"contourcarpet\":[{\"colorbar\":{\"outlinewidth\":0,\"ticks\":\"\"},\"type\":\"contourcarpet\"}],\"heatmap\":[{\"colorbar\":{\"outlinewidth\":0,\"ticks\":\"\"},\"colorscale\":[[0.0,\"#0d0887\"],[0.1111111111111111,\"#46039f\"],[0.2222222222222222,\"#7201a8\"],[0.3333333333333333,\"#9c179e\"],[0.4444444444444444,\"#bd3786\"],[0.5555555555555556,\"#d8576b\"],[0.6666666666666666,\"#ed7953\"],[0.7777777777777778,\"#fb9f3a\"],[0.8888888888888888,\"#fdca26\"],[1.0,\"#f0f921\"]],\"type\":\"heatmap\"}],\"heatmapgl\":[{\"colorbar\":{\"outlinewidth\":0,\"ticks\":\"\"},\"colorscale\":[[0.0,\"#0d0887\"],[0.1111111111111111,\"#46039f\"],[0.2222222222222222,\"#7201a8\"],[0.3333333333333333,\"#9c179e\"],[0.4444444444444444,\"#bd3786\"],[0.5555555555555556,\"#d8576b\"],[0.6666666666666666,\"#ed7953\"],[0.7777777777777778,\"#fb9f3a\"],[0.8888888888888888,\"#fdca26\"],[1.0,\"#f0f921\"]],\"type\":\"heatmapgl\"}],\"histogram\":[{\"marker\":{\"pattern\":{\"fillmode\":\"overlay\",\"size\":10,\"solidity\":0.2}},\"type\":\"histogram\"}],\"histogram2d\":[{\"colorbar\":{\"outlinewidth\":0,\"ticks\":\"\"},\"colorscale\":[[0.0,\"#0d0887\"],[0.1111111111111111,\"#46039f\"],[0.2222222222222222,\"#7201a8\"],[0.3333333333333333,\"#9c179e\"],[0.4444444444444444,\"#bd3786\"],[0.5555555555555556,\"#d8576b\"],[0.6666666666666666,\"#ed7953\"],[0.7777777777777778,\"#fb9f3a\"],[0.8888888888888888,\"#fdca26\"],[1.0,\"#f0f921\"]],\"type\":\"histogram2d\"}],\"histogram2dcontour\":[{\"colorbar\":{\"outlinewidth\":0,\"ticks\":\"\"},\"colorscale\":[[0.0,\"#0d0887\"],[0.1111111111111111,\"#46039f\"],[0.2222222222222222,\"#7201a8\"],[0.3333333333333333,\"#9c179e\"],[0.4444444444444444,\"#bd3786\"],[0.5555555555555556,\"#d8576b\"],[0.6666666666666666,\"#ed7953\"],[0.7777777777777778,\"#fb9f3a\"],[0.8888888888888888,\"#fdca26\"],[1.0,\"#f0f921\"]],\"type\":\"histogram2dcontour\"}],\"mesh3d\":[{\"colorbar\":{\"outlinewidth\":0,\"ticks\":\"\"},\"type\":\"mesh3d\"}],\"parcoords\":[{\"line\":{\"colorbar\":{\"outlinewidth\":0,\"ticks\":\"\"}},\"type\":\"parcoords\"}],\"pie\":[{\"automargin\":true,\"type\":\"pie\"}],\"scatter\":[{\"marker\":{\"colorbar\":{\"outlinewidth\":0,\"ticks\":\"\"}},\"type\":\"scatter\"}],\"scatter3d\":[{\"line\":{\"colorbar\":{\"outlinewidth\":0,\"ticks\":\"\"}},\"marker\":{\"colorbar\":{\"outlinewidth\":0,\"ticks\":\"\"}},\"type\":\"scatter3d\"}],\"scattercarpet\":[{\"marker\":{\"colorbar\":{\"outlinewidth\":0,\"ticks\":\"\"}},\"type\":\"scattercarpet\"}],\"scattergeo\":[{\"marker\":{\"colorbar\":{\"outlinewidth\":0,\"ticks\":\"\"}},\"type\":\"scattergeo\"}],\"scattergl\":[{\"marker\":{\"colorbar\":{\"outlinewidth\":0,\"ticks\":\"\"}},\"type\":\"scattergl\"}],\"scattermapbox\":[{\"marker\":{\"colorbar\":{\"outlinewidth\":0,\"ticks\":\"\"}},\"type\":\"scattermapbox\"}],\"scatterpolar\":[{\"marker\":{\"colorbar\":{\"outlinewidth\":0,\"ticks\":\"\"}},\"type\":\"scatterpolar\"}],\"scatterpolargl\":[{\"marker\":{\"colorbar\":{\"outlinewidth\":0,\"ticks\":\"\"}},\"type\":\"scatterpolargl\"}],\"scatterternary\":[{\"marker\":{\"colorbar\":{\"outlinewidth\":0,\"ticks\":\"\"}},\"type\":\"scatterternary\"}],\"surface\":[{\"colorbar\":{\"outlinewidth\":0,\"ticks\":\"\"},\"colorscale\":[[0.0,\"#0d0887\"],[0.1111111111111111,\"#46039f\"],[0.2222222222222222,\"#7201a8\"],[0.3333333333333333,\"#9c179e\"],[0.4444444444444444,\"#bd3786\"],[0.5555555555555556,\"#d8576b\"],[0.6666666666666666,\"#ed7953\"],[0.7777777777777778,\"#fb9f3a\"],[0.8888888888888888,\"#fdca26\"],[1.0,\"#f0f921\"]],\"type\":\"surface\"}],\"table\":[{\"cells\":{\"fill\":{\"color\":\"#EBF0F8\"},\"line\":{\"color\":\"white\"}},\"header\":{\"fill\":{\"color\":\"#C8D4E3\"},\"line\":{\"color\":\"white\"}},\"type\":\"table\"}]},\"layout\":{\"annotationdefaults\":{\"arrowcolor\":\"#2a3f5f\",\"arrowhead\":0,\"arrowwidth\":1},\"autotypenumbers\":\"strict\",\"coloraxis\":{\"colorbar\":{\"outlinewidth\":0,\"ticks\":\"\"}},\"colorscale\":{\"diverging\":[[0,\"#8e0152\"],[0.1,\"#c51b7d\"],[0.2,\"#de77ae\"],[0.3,\"#f1b6da\"],[0.4,\"#fde0ef\"],[0.5,\"#f7f7f7\"],[0.6,\"#e6f5d0\"],[0.7,\"#b8e186\"],[0.8,\"#7fbc41\"],[0.9,\"#4d9221\"],[1,\"#276419\"]],\"sequential\":[[0.0,\"#0d0887\"],[0.1111111111111111,\"#46039f\"],[0.2222222222222222,\"#7201a8\"],[0.3333333333333333,\"#9c179e\"],[0.4444444444444444,\"#bd3786\"],[0.5555555555555556,\"#d8576b\"],[0.6666666666666666,\"#ed7953\"],[0.7777777777777778,\"#fb9f3a\"],[0.8888888888888888,\"#fdca26\"],[1.0,\"#f0f921\"]],\"sequentialminus\":[[0.0,\"#0d0887\"],[0.1111111111111111,\"#46039f\"],[0.2222222222222222,\"#7201a8\"],[0.3333333333333333,\"#9c179e\"],[0.4444444444444444,\"#bd3786\"],[0.5555555555555556,\"#d8576b\"],[0.6666666666666666,\"#ed7953\"],[0.7777777777777778,\"#fb9f3a\"],[0.8888888888888888,\"#fdca26\"],[1.0,\"#f0f921\"]]},\"colorway\":[\"#636efa\",\"#EF553B\",\"#00cc96\",\"#ab63fa\",\"#FFA15A\",\"#19d3f3\",\"#FF6692\",\"#B6E880\",\"#FF97FF\",\"#FECB52\"],\"font\":{\"color\":\"#2a3f5f\"},\"geo\":{\"bgcolor\":\"white\",\"lakecolor\":\"white\",\"landcolor\":\"#E5ECF6\",\"showlakes\":true,\"showland\":true,\"subunitcolor\":\"white\"},\"hoverlabel\":{\"align\":\"left\"},\"hovermode\":\"closest\",\"mapbox\":{\"style\":\"light\"},\"paper_bgcolor\":\"white\",\"plot_bgcolor\":\"#E5ECF6\",\"polar\":{\"angularaxis\":{\"gridcolor\":\"white\",\"linecolor\":\"white\",\"ticks\":\"\"},\"bgcolor\":\"#E5ECF6\",\"radialaxis\":{\"gridcolor\":\"white\",\"linecolor\":\"white\",\"ticks\":\"\"}},\"scene\":{\"xaxis\":{\"backgroundcolor\":\"#E5ECF6\",\"gridcolor\":\"white\",\"gridwidth\":2,\"linecolor\":\"white\",\"showbackground\":true,\"ticks\":\"\",\"zerolinecolor\":\"white\"},\"yaxis\":{\"backgroundcolor\":\"#E5ECF6\",\"gridcolor\":\"white\",\"gridwidth\":2,\"linecolor\":\"white\",\"showbackground\":true,\"ticks\":\"\",\"zerolinecolor\":\"white\"},\"zaxis\":{\"backgroundcolor\":\"#E5ECF6\",\"gridcolor\":\"white\",\"gridwidth\":2,\"linecolor\":\"white\",\"showbackground\":true,\"ticks\":\"\",\"zerolinecolor\":\"white\"}},\"shapedefaults\":{\"line\":{\"color\":\"#2a3f5f\"}},\"ternary\":{\"aaxis\":{\"gridcolor\":\"white\",\"linecolor\":\"white\",\"ticks\":\"\"},\"baxis\":{\"gridcolor\":\"white\",\"linecolor\":\"white\",\"ticks\":\"\"},\"bgcolor\":\"#E5ECF6\",\"caxis\":{\"gridcolor\":\"white\",\"linecolor\":\"white\",\"ticks\":\"\"}},\"title\":{\"x\":0.05},\"xaxis\":{\"automargin\":true,\"gridcolor\":\"white\",\"linecolor\":\"white\",\"ticks\":\"\",\"title\":{\"standoff\":15},\"zerolinecolor\":\"white\",\"zerolinewidth\":2},\"yaxis\":{\"automargin\":true,\"gridcolor\":\"white\",\"linecolor\":\"white\",\"ticks\":\"\",\"title\":{\"standoff\":15},\"zerolinecolor\":\"white\",\"zerolinewidth\":2}}}},                        {\"responsive\": true}                    ).then(function(){\n",
       "                            \n",
       "var gd = document.getElementById('b717b2ac-8967-4bb5-bffd-5fc531a6c89a');\n",
       "var x = new MutationObserver(function (mutations, observer) {{\n",
       "        var display = window.getComputedStyle(gd).display;\n",
       "        if (!display || display === 'none') {{\n",
       "            console.log([gd, 'removed!']);\n",
       "            Plotly.purge(gd);\n",
       "            observer.disconnect();\n",
       "        }}\n",
       "}});\n",
       "\n",
       "// Listen for the removal of the full notebook cells\n",
       "var notebookContainer = gd.closest('#notebook-container');\n",
       "if (notebookContainer) {{\n",
       "    x.observe(notebookContainer, {childList: true});\n",
       "}}\n",
       "\n",
       "// Listen for the clearing of the current output cell\n",
       "var outputEl = gd.closest('.output');\n",
       "if (outputEl) {{\n",
       "    x.observe(outputEl, {childList: true});\n",
       "}}\n",
       "\n",
       "                        })                };                });            </script>        </div>"
      ]
     },
     "metadata": {},
     "output_type": "display_data"
    },
    {
     "name": "stdout",
     "output_type": "stream",
     "text": [
      "U graph\n"
     ]
    },
    {
     "data": {
      "application/vnd.plotly.v1+json": {
       "config": {
        "plotlyServerURL": "https://plot.ly"
       },
       "data": [
        {
         "type": "surface",
         "x": [
          [
           0,
           0.000625,
           0.001875,
           0.0031249999999999997,
           0.0043749999999999995,
           0.005624999999999999,
           0.006874999999999998,
           0.008124999999999999,
           0.009375,
           0.01
          ],
          [
           0,
           0.000625,
           0.001875,
           0.0031249999999999997,
           0.0043749999999999995,
           0.005624999999999999,
           0.006874999999999998,
           0.008124999999999999,
           0.009375,
           0.01
          ],
          [
           0,
           0.000625,
           0.001875,
           0.0031249999999999997,
           0.0043749999999999995,
           0.005624999999999999,
           0.006874999999999998,
           0.008124999999999999,
           0.009375,
           0.01
          ],
          [
           0,
           0.000625,
           0.001875,
           0.0031249999999999997,
           0.0043749999999999995,
           0.005624999999999999,
           0.006874999999999998,
           0.008124999999999999,
           0.009375,
           0.01
          ],
          [
           0,
           0.000625,
           0.001875,
           0.0031249999999999997,
           0.0043749999999999995,
           0.005624999999999999,
           0.006874999999999998,
           0.008124999999999999,
           0.009375,
           0.01
          ],
          [
           0,
           0.000625,
           0.001875,
           0.0031249999999999997,
           0.0043749999999999995,
           0.005624999999999999,
           0.006874999999999998,
           0.008124999999999999,
           0.009375,
           0.01
          ],
          [
           0,
           0.000625,
           0.001875,
           0.0031249999999999997,
           0.0043749999999999995,
           0.005624999999999999,
           0.006874999999999998,
           0.008124999999999999,
           0.009375,
           0.01
          ],
          [
           0,
           0.000625,
           0.001875,
           0.0031249999999999997,
           0.0043749999999999995,
           0.005624999999999999,
           0.006874999999999998,
           0.008124999999999999,
           0.009375,
           0.01
          ],
          [
           0,
           0.000625,
           0.001875,
           0.0031249999999999997,
           0.0043749999999999995,
           0.005624999999999999,
           0.006874999999999998,
           0.008124999999999999,
           0.009375,
           0.01
          ],
          [
           0,
           0.000625,
           0.001875,
           0.0031249999999999997,
           0.0043749999999999995,
           0.005624999999999999,
           0.006874999999999998,
           0.008124999999999999,
           0.009375,
           0.01
          ]
         ],
         "y": [
          [
           0,
           0,
           0,
           0,
           0,
           0,
           0,
           0,
           0,
           0
          ],
          [
           0.000625,
           0.000625,
           0.000625,
           0.000625,
           0.000625,
           0.000625,
           0.000625,
           0.000625,
           0.000625,
           0.000625
          ],
          [
           0.001875,
           0.001875,
           0.001875,
           0.001875,
           0.001875,
           0.001875,
           0.001875,
           0.001875,
           0.001875,
           0.001875
          ],
          [
           0.0031249999999999997,
           0.0031249999999999997,
           0.0031249999999999997,
           0.0031249999999999997,
           0.0031249999999999997,
           0.0031249999999999997,
           0.0031249999999999997,
           0.0031249999999999997,
           0.0031249999999999997,
           0.0031249999999999997
          ],
          [
           0.0043749999999999995,
           0.0043749999999999995,
           0.0043749999999999995,
           0.0043749999999999995,
           0.0043749999999999995,
           0.0043749999999999995,
           0.0043749999999999995,
           0.0043749999999999995,
           0.0043749999999999995,
           0.0043749999999999995
          ],
          [
           0.005624999999999999,
           0.005624999999999999,
           0.005624999999999999,
           0.005624999999999999,
           0.005624999999999999,
           0.005624999999999999,
           0.005624999999999999,
           0.005624999999999999,
           0.005624999999999999,
           0.005624999999999999
          ],
          [
           0.006874999999999998,
           0.006874999999999998,
           0.006874999999999998,
           0.006874999999999998,
           0.006874999999999998,
           0.006874999999999998,
           0.006874999999999998,
           0.006874999999999998,
           0.006874999999999998,
           0.006874999999999998
          ],
          [
           0.008124999999999999,
           0.008124999999999999,
           0.008124999999999999,
           0.008124999999999999,
           0.008124999999999999,
           0.008124999999999999,
           0.008124999999999999,
           0.008124999999999999,
           0.008124999999999999,
           0.008124999999999999
          ],
          [
           0.009375,
           0.009375,
           0.009375,
           0.009375,
           0.009375,
           0.009375,
           0.009375,
           0.009375,
           0.009375,
           0.009375
          ],
          [
           0.01,
           0.01,
           0.01,
           0.01,
           0.01,
           0.01,
           0.01,
           0.01,
           0.01,
           0.01
          ]
         ],
         "z": [
          [
           -1.3283503083403309e-21,
           -1.1883627602189397e-21,
           -8.369428762135858e-22,
           -5.060900498702868e-22,
           -1.70355306927613e-22,
           1.6558094576304648e-22,
           5.020740196645017e-22,
           8.432013127057192e-22,
           1.1810631048478644e-21,
           1.3485254556761223e-21
          ],
          [
           -1.3462530673216002e-21,
           -1.1737618782704713e-21,
           -8.4202221202644295e-22,
           -5.0596244899917455e-22,
           -1.7010673572300316e-22,
           1.6589549963847734e-22,
           5.02064040083973e-22,
           8.3839341630357915e-22,
           1.178021964228526e-21,
           1.3442733071942024e-21
          ],
          [
           -1.3445420175078337e-21,
           -1.1773401124387918e-21,
           -8.414631737065937e-22,
           -5.056062771647214e-22,
           -1.6953880597701226e-22,
           1.6649299921837927e-22,
           5.024814645037743e-22,
           8.385675986001673e-22,
           1.1751082499902115e-21,
           1.3435414631669357e-21
          ],
          [
           -1.3450106679673543e-21,
           -1.1770050969921217e-21,
           -8.410752782429696e-22,
           -5.05114404366971e-22,
           -1.6908188720140965e-22,
           1.6689909664891272e-22,
           5.027877125589465e-22,
           8.386671606540053e-22,
           1.1748246661938078e-21,
           1.3430611060010354e-21
          ],
          [
           -1.3446792248419792e-21,
           -1.1767102809795671e-21,
           -8.4069586507440845e-22,
           -5.046645844786641e-22,
           -1.68613315213391e-22,
           1.6736865950973668e-22,
           5.032433751389353e-22,
           8.390985497635936e-22,
           1.1752041488271057e-21,
           1.3434126462515306e-21
          ],
          [
           -1.3443608080446396e-21,
           -1.1764215912355256e-21,
           -8.403320223501908e-22,
           -5.0419633536682145e-22,
           -1.6806321039629775e-22,
           1.6798884609068292e-22,
           5.03922393994412e-22,
           8.398290805407548e-22,
           1.1760033951880424e-21,
           1.3442043336784157e-21
          ],
          [
           -1.3437054395153175e-21,
           -1.1762700223804632e-21,
           -8.39931431327898e-22,
           -5.036474751704924e-22,
           -1.6741123465585445e-22,
           1.6874019755873995e-22,
           5.047890158829546e-22,
           8.408547441177402e-22,
           1.1773861596503165e-21,
           1.3452300363501787e-21
          ],
          [
           -1.3420621189799498e-21,
           -1.1747715581689817e-21,
           -8.389422443954457e-22,
           -5.027949466554783e-22,
           -1.666702174629134e-22,
           1.6943661453290342e-22,
           5.055180712923084e-22,
           8.418176535099879e-22,
           1.1786928917159236e-21,
           1.3466407478943084e-21
          ],
          [
           -1.3223128632659062e-21,
           -1.1717952759046397e-21,
           -8.3671399911118015e-22,
           -5.0149752610056045e-22,
           -1.660110857768781e-22,
           1.69613504549055e-22,
           5.054389777512425e-22,
           8.412948217727373e-22,
           1.1829466019899742e-21,
           1.3326790308622114e-21
          ],
          [
           -1.3469184729038221e-21,
           -1.1691030738881774e-21,
           -8.359356665053157e-22,
           -5.010090299400404e-22,
           -1.6583046492417868e-22,
           1.6977860913161377e-22,
           5.060014144547306e-22,
           8.504044657165632e-22,
           1.1883179013983195e-21,
           1.361577342777039e-21
          ]
         ]
        }
       ],
       "layout": {
        "template": {
         "data": {
          "bar": [
           {
            "error_x": {
             "color": "#2a3f5f"
            },
            "error_y": {
             "color": "#2a3f5f"
            },
            "marker": {
             "line": {
              "color": "#E5ECF6",
              "width": 0.5
             },
             "pattern": {
              "fillmode": "overlay",
              "size": 10,
              "solidity": 0.2
             }
            },
            "type": "bar"
           }
          ],
          "barpolar": [
           {
            "marker": {
             "line": {
              "color": "#E5ECF6",
              "width": 0.5
             },
             "pattern": {
              "fillmode": "overlay",
              "size": 10,
              "solidity": 0.2
             }
            },
            "type": "barpolar"
           }
          ],
          "carpet": [
           {
            "aaxis": {
             "endlinecolor": "#2a3f5f",
             "gridcolor": "white",
             "linecolor": "white",
             "minorgridcolor": "white",
             "startlinecolor": "#2a3f5f"
            },
            "baxis": {
             "endlinecolor": "#2a3f5f",
             "gridcolor": "white",
             "linecolor": "white",
             "minorgridcolor": "white",
             "startlinecolor": "#2a3f5f"
            },
            "type": "carpet"
           }
          ],
          "choropleth": [
           {
            "colorbar": {
             "outlinewidth": 0,
             "ticks": ""
            },
            "type": "choropleth"
           }
          ],
          "contour": [
           {
            "colorbar": {
             "outlinewidth": 0,
             "ticks": ""
            },
            "colorscale": [
             [
              0,
              "#0d0887"
             ],
             [
              0.1111111111111111,
              "#46039f"
             ],
             [
              0.2222222222222222,
              "#7201a8"
             ],
             [
              0.3333333333333333,
              "#9c179e"
             ],
             [
              0.4444444444444444,
              "#bd3786"
             ],
             [
              0.5555555555555556,
              "#d8576b"
             ],
             [
              0.6666666666666666,
              "#ed7953"
             ],
             [
              0.7777777777777778,
              "#fb9f3a"
             ],
             [
              0.8888888888888888,
              "#fdca26"
             ],
             [
              1,
              "#f0f921"
             ]
            ],
            "type": "contour"
           }
          ],
          "contourcarpet": [
           {
            "colorbar": {
             "outlinewidth": 0,
             "ticks": ""
            },
            "type": "contourcarpet"
           }
          ],
          "heatmap": [
           {
            "colorbar": {
             "outlinewidth": 0,
             "ticks": ""
            },
            "colorscale": [
             [
              0,
              "#0d0887"
             ],
             [
              0.1111111111111111,
              "#46039f"
             ],
             [
              0.2222222222222222,
              "#7201a8"
             ],
             [
              0.3333333333333333,
              "#9c179e"
             ],
             [
              0.4444444444444444,
              "#bd3786"
             ],
             [
              0.5555555555555556,
              "#d8576b"
             ],
             [
              0.6666666666666666,
              "#ed7953"
             ],
             [
              0.7777777777777778,
              "#fb9f3a"
             ],
             [
              0.8888888888888888,
              "#fdca26"
             ],
             [
              1,
              "#f0f921"
             ]
            ],
            "type": "heatmap"
           }
          ],
          "heatmapgl": [
           {
            "colorbar": {
             "outlinewidth": 0,
             "ticks": ""
            },
            "colorscale": [
             [
              0,
              "#0d0887"
             ],
             [
              0.1111111111111111,
              "#46039f"
             ],
             [
              0.2222222222222222,
              "#7201a8"
             ],
             [
              0.3333333333333333,
              "#9c179e"
             ],
             [
              0.4444444444444444,
              "#bd3786"
             ],
             [
              0.5555555555555556,
              "#d8576b"
             ],
             [
              0.6666666666666666,
              "#ed7953"
             ],
             [
              0.7777777777777778,
              "#fb9f3a"
             ],
             [
              0.8888888888888888,
              "#fdca26"
             ],
             [
              1,
              "#f0f921"
             ]
            ],
            "type": "heatmapgl"
           }
          ],
          "histogram": [
           {
            "marker": {
             "pattern": {
              "fillmode": "overlay",
              "size": 10,
              "solidity": 0.2
             }
            },
            "type": "histogram"
           }
          ],
          "histogram2d": [
           {
            "colorbar": {
             "outlinewidth": 0,
             "ticks": ""
            },
            "colorscale": [
             [
              0,
              "#0d0887"
             ],
             [
              0.1111111111111111,
              "#46039f"
             ],
             [
              0.2222222222222222,
              "#7201a8"
             ],
             [
              0.3333333333333333,
              "#9c179e"
             ],
             [
              0.4444444444444444,
              "#bd3786"
             ],
             [
              0.5555555555555556,
              "#d8576b"
             ],
             [
              0.6666666666666666,
              "#ed7953"
             ],
             [
              0.7777777777777778,
              "#fb9f3a"
             ],
             [
              0.8888888888888888,
              "#fdca26"
             ],
             [
              1,
              "#f0f921"
             ]
            ],
            "type": "histogram2d"
           }
          ],
          "histogram2dcontour": [
           {
            "colorbar": {
             "outlinewidth": 0,
             "ticks": ""
            },
            "colorscale": [
             [
              0,
              "#0d0887"
             ],
             [
              0.1111111111111111,
              "#46039f"
             ],
             [
              0.2222222222222222,
              "#7201a8"
             ],
             [
              0.3333333333333333,
              "#9c179e"
             ],
             [
              0.4444444444444444,
              "#bd3786"
             ],
             [
              0.5555555555555556,
              "#d8576b"
             ],
             [
              0.6666666666666666,
              "#ed7953"
             ],
             [
              0.7777777777777778,
              "#fb9f3a"
             ],
             [
              0.8888888888888888,
              "#fdca26"
             ],
             [
              1,
              "#f0f921"
             ]
            ],
            "type": "histogram2dcontour"
           }
          ],
          "mesh3d": [
           {
            "colorbar": {
             "outlinewidth": 0,
             "ticks": ""
            },
            "type": "mesh3d"
           }
          ],
          "parcoords": [
           {
            "line": {
             "colorbar": {
              "outlinewidth": 0,
              "ticks": ""
             }
            },
            "type": "parcoords"
           }
          ],
          "pie": [
           {
            "automargin": true,
            "type": "pie"
           }
          ],
          "scatter": [
           {
            "marker": {
             "colorbar": {
              "outlinewidth": 0,
              "ticks": ""
             }
            },
            "type": "scatter"
           }
          ],
          "scatter3d": [
           {
            "line": {
             "colorbar": {
              "outlinewidth": 0,
              "ticks": ""
             }
            },
            "marker": {
             "colorbar": {
              "outlinewidth": 0,
              "ticks": ""
             }
            },
            "type": "scatter3d"
           }
          ],
          "scattercarpet": [
           {
            "marker": {
             "colorbar": {
              "outlinewidth": 0,
              "ticks": ""
             }
            },
            "type": "scattercarpet"
           }
          ],
          "scattergeo": [
           {
            "marker": {
             "colorbar": {
              "outlinewidth": 0,
              "ticks": ""
             }
            },
            "type": "scattergeo"
           }
          ],
          "scattergl": [
           {
            "marker": {
             "colorbar": {
              "outlinewidth": 0,
              "ticks": ""
             }
            },
            "type": "scattergl"
           }
          ],
          "scattermapbox": [
           {
            "marker": {
             "colorbar": {
              "outlinewidth": 0,
              "ticks": ""
             }
            },
            "type": "scattermapbox"
           }
          ],
          "scatterpolar": [
           {
            "marker": {
             "colorbar": {
              "outlinewidth": 0,
              "ticks": ""
             }
            },
            "type": "scatterpolar"
           }
          ],
          "scatterpolargl": [
           {
            "marker": {
             "colorbar": {
              "outlinewidth": 0,
              "ticks": ""
             }
            },
            "type": "scatterpolargl"
           }
          ],
          "scatterternary": [
           {
            "marker": {
             "colorbar": {
              "outlinewidth": 0,
              "ticks": ""
             }
            },
            "type": "scatterternary"
           }
          ],
          "surface": [
           {
            "colorbar": {
             "outlinewidth": 0,
             "ticks": ""
            },
            "colorscale": [
             [
              0,
              "#0d0887"
             ],
             [
              0.1111111111111111,
              "#46039f"
             ],
             [
              0.2222222222222222,
              "#7201a8"
             ],
             [
              0.3333333333333333,
              "#9c179e"
             ],
             [
              0.4444444444444444,
              "#bd3786"
             ],
             [
              0.5555555555555556,
              "#d8576b"
             ],
             [
              0.6666666666666666,
              "#ed7953"
             ],
             [
              0.7777777777777778,
              "#fb9f3a"
             ],
             [
              0.8888888888888888,
              "#fdca26"
             ],
             [
              1,
              "#f0f921"
             ]
            ],
            "type": "surface"
           }
          ],
          "table": [
           {
            "cells": {
             "fill": {
              "color": "#EBF0F8"
             },
             "line": {
              "color": "white"
             }
            },
            "header": {
             "fill": {
              "color": "#C8D4E3"
             },
             "line": {
              "color": "white"
             }
            },
            "type": "table"
           }
          ]
         },
         "layout": {
          "annotationdefaults": {
           "arrowcolor": "#2a3f5f",
           "arrowhead": 0,
           "arrowwidth": 1
          },
          "autotypenumbers": "strict",
          "coloraxis": {
           "colorbar": {
            "outlinewidth": 0,
            "ticks": ""
           }
          },
          "colorscale": {
           "diverging": [
            [
             0,
             "#8e0152"
            ],
            [
             0.1,
             "#c51b7d"
            ],
            [
             0.2,
             "#de77ae"
            ],
            [
             0.3,
             "#f1b6da"
            ],
            [
             0.4,
             "#fde0ef"
            ],
            [
             0.5,
             "#f7f7f7"
            ],
            [
             0.6,
             "#e6f5d0"
            ],
            [
             0.7,
             "#b8e186"
            ],
            [
             0.8,
             "#7fbc41"
            ],
            [
             0.9,
             "#4d9221"
            ],
            [
             1,
             "#276419"
            ]
           ],
           "sequential": [
            [
             0,
             "#0d0887"
            ],
            [
             0.1111111111111111,
             "#46039f"
            ],
            [
             0.2222222222222222,
             "#7201a8"
            ],
            [
             0.3333333333333333,
             "#9c179e"
            ],
            [
             0.4444444444444444,
             "#bd3786"
            ],
            [
             0.5555555555555556,
             "#d8576b"
            ],
            [
             0.6666666666666666,
             "#ed7953"
            ],
            [
             0.7777777777777778,
             "#fb9f3a"
            ],
            [
             0.8888888888888888,
             "#fdca26"
            ],
            [
             1,
             "#f0f921"
            ]
           ],
           "sequentialminus": [
            [
             0,
             "#0d0887"
            ],
            [
             0.1111111111111111,
             "#46039f"
            ],
            [
             0.2222222222222222,
             "#7201a8"
            ],
            [
             0.3333333333333333,
             "#9c179e"
            ],
            [
             0.4444444444444444,
             "#bd3786"
            ],
            [
             0.5555555555555556,
             "#d8576b"
            ],
            [
             0.6666666666666666,
             "#ed7953"
            ],
            [
             0.7777777777777778,
             "#fb9f3a"
            ],
            [
             0.8888888888888888,
             "#fdca26"
            ],
            [
             1,
             "#f0f921"
            ]
           ]
          },
          "colorway": [
           "#636efa",
           "#EF553B",
           "#00cc96",
           "#ab63fa",
           "#FFA15A",
           "#19d3f3",
           "#FF6692",
           "#B6E880",
           "#FF97FF",
           "#FECB52"
          ],
          "font": {
           "color": "#2a3f5f"
          },
          "geo": {
           "bgcolor": "white",
           "lakecolor": "white",
           "landcolor": "#E5ECF6",
           "showlakes": true,
           "showland": true,
           "subunitcolor": "white"
          },
          "hoverlabel": {
           "align": "left"
          },
          "hovermode": "closest",
          "mapbox": {
           "style": "light"
          },
          "paper_bgcolor": "white",
          "plot_bgcolor": "#E5ECF6",
          "polar": {
           "angularaxis": {
            "gridcolor": "white",
            "linecolor": "white",
            "ticks": ""
           },
           "bgcolor": "#E5ECF6",
           "radialaxis": {
            "gridcolor": "white",
            "linecolor": "white",
            "ticks": ""
           }
          },
          "scene": {
           "xaxis": {
            "backgroundcolor": "#E5ECF6",
            "gridcolor": "white",
            "gridwidth": 2,
            "linecolor": "white",
            "showbackground": true,
            "ticks": "",
            "zerolinecolor": "white"
           },
           "yaxis": {
            "backgroundcolor": "#E5ECF6",
            "gridcolor": "white",
            "gridwidth": 2,
            "linecolor": "white",
            "showbackground": true,
            "ticks": "",
            "zerolinecolor": "white"
           },
           "zaxis": {
            "backgroundcolor": "#E5ECF6",
            "gridcolor": "white",
            "gridwidth": 2,
            "linecolor": "white",
            "showbackground": true,
            "ticks": "",
            "zerolinecolor": "white"
           }
          },
          "shapedefaults": {
           "line": {
            "color": "#2a3f5f"
           }
          },
          "ternary": {
           "aaxis": {
            "gridcolor": "white",
            "linecolor": "white",
            "ticks": ""
           },
           "baxis": {
            "gridcolor": "white",
            "linecolor": "white",
            "ticks": ""
           },
           "bgcolor": "#E5ECF6",
           "caxis": {
            "gridcolor": "white",
            "linecolor": "white",
            "ticks": ""
           }
          },
          "title": {
           "x": 0.05
          },
          "xaxis": {
           "automargin": true,
           "gridcolor": "white",
           "linecolor": "white",
           "ticks": "",
           "title": {
            "standoff": 15
           },
           "zerolinecolor": "white",
           "zerolinewidth": 2
          },
          "yaxis": {
           "automargin": true,
           "gridcolor": "white",
           "linecolor": "white",
           "ticks": "",
           "title": {
            "standoff": 15
           },
           "zerolinecolor": "white",
           "zerolinewidth": 2
          }
         }
        }
       }
      },
      "text/html": [
       "<div>                            <div id=\"0f2526cb-6ae2-47e9-bc8c-1eb2d63db68f\" class=\"plotly-graph-div\" style=\"height:525px; width:100%;\"></div>            <script type=\"text/javascript\">                require([\"plotly\"], function(Plotly) {                    window.PLOTLYENV=window.PLOTLYENV || {};                                    if (document.getElementById(\"0f2526cb-6ae2-47e9-bc8c-1eb2d63db68f\")) {                    Plotly.newPlot(                        \"0f2526cb-6ae2-47e9-bc8c-1eb2d63db68f\",                        [{\"x\":[[0.0,0.000625,0.001875,0.0031249999999999997,0.0043749999999999995,0.005624999999999999,0.006874999999999998,0.008124999999999999,0.009375,0.01],[0.0,0.000625,0.001875,0.0031249999999999997,0.0043749999999999995,0.005624999999999999,0.006874999999999998,0.008124999999999999,0.009375,0.01],[0.0,0.000625,0.001875,0.0031249999999999997,0.0043749999999999995,0.005624999999999999,0.006874999999999998,0.008124999999999999,0.009375,0.01],[0.0,0.000625,0.001875,0.0031249999999999997,0.0043749999999999995,0.005624999999999999,0.006874999999999998,0.008124999999999999,0.009375,0.01],[0.0,0.000625,0.001875,0.0031249999999999997,0.0043749999999999995,0.005624999999999999,0.006874999999999998,0.008124999999999999,0.009375,0.01],[0.0,0.000625,0.001875,0.0031249999999999997,0.0043749999999999995,0.005624999999999999,0.006874999999999998,0.008124999999999999,0.009375,0.01],[0.0,0.000625,0.001875,0.0031249999999999997,0.0043749999999999995,0.005624999999999999,0.006874999999999998,0.008124999999999999,0.009375,0.01],[0.0,0.000625,0.001875,0.0031249999999999997,0.0043749999999999995,0.005624999999999999,0.006874999999999998,0.008124999999999999,0.009375,0.01],[0.0,0.000625,0.001875,0.0031249999999999997,0.0043749999999999995,0.005624999999999999,0.006874999999999998,0.008124999999999999,0.009375,0.01],[0.0,0.000625,0.001875,0.0031249999999999997,0.0043749999999999995,0.005624999999999999,0.006874999999999998,0.008124999999999999,0.009375,0.01]],\"y\":[[0.0,0.0,0.0,0.0,0.0,0.0,0.0,0.0,0.0,0.0],[0.000625,0.000625,0.000625,0.000625,0.000625,0.000625,0.000625,0.000625,0.000625,0.000625],[0.001875,0.001875,0.001875,0.001875,0.001875,0.001875,0.001875,0.001875,0.001875,0.001875],[0.0031249999999999997,0.0031249999999999997,0.0031249999999999997,0.0031249999999999997,0.0031249999999999997,0.0031249999999999997,0.0031249999999999997,0.0031249999999999997,0.0031249999999999997,0.0031249999999999997],[0.0043749999999999995,0.0043749999999999995,0.0043749999999999995,0.0043749999999999995,0.0043749999999999995,0.0043749999999999995,0.0043749999999999995,0.0043749999999999995,0.0043749999999999995,0.0043749999999999995],[0.005624999999999999,0.005624999999999999,0.005624999999999999,0.005624999999999999,0.005624999999999999,0.005624999999999999,0.005624999999999999,0.005624999999999999,0.005624999999999999,0.005624999999999999],[0.006874999999999998,0.006874999999999998,0.006874999999999998,0.006874999999999998,0.006874999999999998,0.006874999999999998,0.006874999999999998,0.006874999999999998,0.006874999999999998,0.006874999999999998],[0.008124999999999999,0.008124999999999999,0.008124999999999999,0.008124999999999999,0.008124999999999999,0.008124999999999999,0.008124999999999999,0.008124999999999999,0.008124999999999999,0.008124999999999999],[0.009375,0.009375,0.009375,0.009375,0.009375,0.009375,0.009375,0.009375,0.009375,0.009375],[0.01,0.01,0.01,0.01,0.01,0.01,0.01,0.01,0.01,0.01]],\"z\":[[-1.3283503083403309e-21,-1.1883627602189397e-21,-8.369428762135858e-22,-5.060900498702868e-22,-1.70355306927613e-22,1.6558094576304648e-22,5.020740196645017e-22,8.432013127057192e-22,1.1810631048478644e-21,1.3485254556761223e-21],[-1.3462530673216002e-21,-1.1737618782704713e-21,-8.4202221202644295e-22,-5.0596244899917455e-22,-1.7010673572300316e-22,1.6589549963847734e-22,5.02064040083973e-22,8.3839341630357915e-22,1.178021964228526e-21,1.3442733071942024e-21],[-1.3445420175078337e-21,-1.1773401124387918e-21,-8.414631737065937e-22,-5.056062771647214e-22,-1.6953880597701226e-22,1.6649299921837927e-22,5.024814645037743e-22,8.385675986001673e-22,1.1751082499902115e-21,1.3435414631669357e-21],[-1.3450106679673543e-21,-1.1770050969921217e-21,-8.410752782429696e-22,-5.05114404366971e-22,-1.6908188720140965e-22,1.6689909664891272e-22,5.027877125589465e-22,8.386671606540053e-22,1.1748246661938078e-21,1.3430611060010354e-21],[-1.3446792248419792e-21,-1.1767102809795671e-21,-8.4069586507440845e-22,-5.046645844786641e-22,-1.68613315213391e-22,1.6736865950973668e-22,5.032433751389353e-22,8.390985497635936e-22,1.1752041488271057e-21,1.3434126462515306e-21],[-1.3443608080446396e-21,-1.1764215912355256e-21,-8.403320223501908e-22,-5.0419633536682145e-22,-1.6806321039629775e-22,1.6798884609068292e-22,5.03922393994412e-22,8.398290805407548e-22,1.1760033951880424e-21,1.3442043336784157e-21],[-1.3437054395153175e-21,-1.1762700223804632e-21,-8.39931431327898e-22,-5.036474751704924e-22,-1.6741123465585445e-22,1.6874019755873995e-22,5.047890158829546e-22,8.408547441177402e-22,1.1773861596503165e-21,1.3452300363501787e-21],[-1.3420621189799498e-21,-1.1747715581689817e-21,-8.389422443954457e-22,-5.027949466554783e-22,-1.666702174629134e-22,1.6943661453290342e-22,5.055180712923084e-22,8.418176535099879e-22,1.1786928917159236e-21,1.3466407478943084e-21],[-1.3223128632659062e-21,-1.1717952759046397e-21,-8.3671399911118015e-22,-5.0149752610056045e-22,-1.660110857768781e-22,1.69613504549055e-22,5.054389777512425e-22,8.412948217727373e-22,1.1829466019899742e-21,1.3326790308622114e-21],[-1.3469184729038221e-21,-1.1691030738881774e-21,-8.359356665053157e-22,-5.010090299400404e-22,-1.6583046492417868e-22,1.6977860913161377e-22,5.060014144547306e-22,8.504044657165632e-22,1.1883179013983195e-21,1.361577342777039e-21]],\"type\":\"surface\"}],                        {\"template\":{\"data\":{\"bar\":[{\"error_x\":{\"color\":\"#2a3f5f\"},\"error_y\":{\"color\":\"#2a3f5f\"},\"marker\":{\"line\":{\"color\":\"#E5ECF6\",\"width\":0.5},\"pattern\":{\"fillmode\":\"overlay\",\"size\":10,\"solidity\":0.2}},\"type\":\"bar\"}],\"barpolar\":[{\"marker\":{\"line\":{\"color\":\"#E5ECF6\",\"width\":0.5},\"pattern\":{\"fillmode\":\"overlay\",\"size\":10,\"solidity\":0.2}},\"type\":\"barpolar\"}],\"carpet\":[{\"aaxis\":{\"endlinecolor\":\"#2a3f5f\",\"gridcolor\":\"white\",\"linecolor\":\"white\",\"minorgridcolor\":\"white\",\"startlinecolor\":\"#2a3f5f\"},\"baxis\":{\"endlinecolor\":\"#2a3f5f\",\"gridcolor\":\"white\",\"linecolor\":\"white\",\"minorgridcolor\":\"white\",\"startlinecolor\":\"#2a3f5f\"},\"type\":\"carpet\"}],\"choropleth\":[{\"colorbar\":{\"outlinewidth\":0,\"ticks\":\"\"},\"type\":\"choropleth\"}],\"contour\":[{\"colorbar\":{\"outlinewidth\":0,\"ticks\":\"\"},\"colorscale\":[[0.0,\"#0d0887\"],[0.1111111111111111,\"#46039f\"],[0.2222222222222222,\"#7201a8\"],[0.3333333333333333,\"#9c179e\"],[0.4444444444444444,\"#bd3786\"],[0.5555555555555556,\"#d8576b\"],[0.6666666666666666,\"#ed7953\"],[0.7777777777777778,\"#fb9f3a\"],[0.8888888888888888,\"#fdca26\"],[1.0,\"#f0f921\"]],\"type\":\"contour\"}],\"contourcarpet\":[{\"colorbar\":{\"outlinewidth\":0,\"ticks\":\"\"},\"type\":\"contourcarpet\"}],\"heatmap\":[{\"colorbar\":{\"outlinewidth\":0,\"ticks\":\"\"},\"colorscale\":[[0.0,\"#0d0887\"],[0.1111111111111111,\"#46039f\"],[0.2222222222222222,\"#7201a8\"],[0.3333333333333333,\"#9c179e\"],[0.4444444444444444,\"#bd3786\"],[0.5555555555555556,\"#d8576b\"],[0.6666666666666666,\"#ed7953\"],[0.7777777777777778,\"#fb9f3a\"],[0.8888888888888888,\"#fdca26\"],[1.0,\"#f0f921\"]],\"type\":\"heatmap\"}],\"heatmapgl\":[{\"colorbar\":{\"outlinewidth\":0,\"ticks\":\"\"},\"colorscale\":[[0.0,\"#0d0887\"],[0.1111111111111111,\"#46039f\"],[0.2222222222222222,\"#7201a8\"],[0.3333333333333333,\"#9c179e\"],[0.4444444444444444,\"#bd3786\"],[0.5555555555555556,\"#d8576b\"],[0.6666666666666666,\"#ed7953\"],[0.7777777777777778,\"#fb9f3a\"],[0.8888888888888888,\"#fdca26\"],[1.0,\"#f0f921\"]],\"type\":\"heatmapgl\"}],\"histogram\":[{\"marker\":{\"pattern\":{\"fillmode\":\"overlay\",\"size\":10,\"solidity\":0.2}},\"type\":\"histogram\"}],\"histogram2d\":[{\"colorbar\":{\"outlinewidth\":0,\"ticks\":\"\"},\"colorscale\":[[0.0,\"#0d0887\"],[0.1111111111111111,\"#46039f\"],[0.2222222222222222,\"#7201a8\"],[0.3333333333333333,\"#9c179e\"],[0.4444444444444444,\"#bd3786\"],[0.5555555555555556,\"#d8576b\"],[0.6666666666666666,\"#ed7953\"],[0.7777777777777778,\"#fb9f3a\"],[0.8888888888888888,\"#fdca26\"],[1.0,\"#f0f921\"]],\"type\":\"histogram2d\"}],\"histogram2dcontour\":[{\"colorbar\":{\"outlinewidth\":0,\"ticks\":\"\"},\"colorscale\":[[0.0,\"#0d0887\"],[0.1111111111111111,\"#46039f\"],[0.2222222222222222,\"#7201a8\"],[0.3333333333333333,\"#9c179e\"],[0.4444444444444444,\"#bd3786\"],[0.5555555555555556,\"#d8576b\"],[0.6666666666666666,\"#ed7953\"],[0.7777777777777778,\"#fb9f3a\"],[0.8888888888888888,\"#fdca26\"],[1.0,\"#f0f921\"]],\"type\":\"histogram2dcontour\"}],\"mesh3d\":[{\"colorbar\":{\"outlinewidth\":0,\"ticks\":\"\"},\"type\":\"mesh3d\"}],\"parcoords\":[{\"line\":{\"colorbar\":{\"outlinewidth\":0,\"ticks\":\"\"}},\"type\":\"parcoords\"}],\"pie\":[{\"automargin\":true,\"type\":\"pie\"}],\"scatter\":[{\"marker\":{\"colorbar\":{\"outlinewidth\":0,\"ticks\":\"\"}},\"type\":\"scatter\"}],\"scatter3d\":[{\"line\":{\"colorbar\":{\"outlinewidth\":0,\"ticks\":\"\"}},\"marker\":{\"colorbar\":{\"outlinewidth\":0,\"ticks\":\"\"}},\"type\":\"scatter3d\"}],\"scattercarpet\":[{\"marker\":{\"colorbar\":{\"outlinewidth\":0,\"ticks\":\"\"}},\"type\":\"scattercarpet\"}],\"scattergeo\":[{\"marker\":{\"colorbar\":{\"outlinewidth\":0,\"ticks\":\"\"}},\"type\":\"scattergeo\"}],\"scattergl\":[{\"marker\":{\"colorbar\":{\"outlinewidth\":0,\"ticks\":\"\"}},\"type\":\"scattergl\"}],\"scattermapbox\":[{\"marker\":{\"colorbar\":{\"outlinewidth\":0,\"ticks\":\"\"}},\"type\":\"scattermapbox\"}],\"scatterpolar\":[{\"marker\":{\"colorbar\":{\"outlinewidth\":0,\"ticks\":\"\"}},\"type\":\"scatterpolar\"}],\"scatterpolargl\":[{\"marker\":{\"colorbar\":{\"outlinewidth\":0,\"ticks\":\"\"}},\"type\":\"scatterpolargl\"}],\"scatterternary\":[{\"marker\":{\"colorbar\":{\"outlinewidth\":0,\"ticks\":\"\"}},\"type\":\"scatterternary\"}],\"surface\":[{\"colorbar\":{\"outlinewidth\":0,\"ticks\":\"\"},\"colorscale\":[[0.0,\"#0d0887\"],[0.1111111111111111,\"#46039f\"],[0.2222222222222222,\"#7201a8\"],[0.3333333333333333,\"#9c179e\"],[0.4444444444444444,\"#bd3786\"],[0.5555555555555556,\"#d8576b\"],[0.6666666666666666,\"#ed7953\"],[0.7777777777777778,\"#fb9f3a\"],[0.8888888888888888,\"#fdca26\"],[1.0,\"#f0f921\"]],\"type\":\"surface\"}],\"table\":[{\"cells\":{\"fill\":{\"color\":\"#EBF0F8\"},\"line\":{\"color\":\"white\"}},\"header\":{\"fill\":{\"color\":\"#C8D4E3\"},\"line\":{\"color\":\"white\"}},\"type\":\"table\"}]},\"layout\":{\"annotationdefaults\":{\"arrowcolor\":\"#2a3f5f\",\"arrowhead\":0,\"arrowwidth\":1},\"autotypenumbers\":\"strict\",\"coloraxis\":{\"colorbar\":{\"outlinewidth\":0,\"ticks\":\"\"}},\"colorscale\":{\"diverging\":[[0,\"#8e0152\"],[0.1,\"#c51b7d\"],[0.2,\"#de77ae\"],[0.3,\"#f1b6da\"],[0.4,\"#fde0ef\"],[0.5,\"#f7f7f7\"],[0.6,\"#e6f5d0\"],[0.7,\"#b8e186\"],[0.8,\"#7fbc41\"],[0.9,\"#4d9221\"],[1,\"#276419\"]],\"sequential\":[[0.0,\"#0d0887\"],[0.1111111111111111,\"#46039f\"],[0.2222222222222222,\"#7201a8\"],[0.3333333333333333,\"#9c179e\"],[0.4444444444444444,\"#bd3786\"],[0.5555555555555556,\"#d8576b\"],[0.6666666666666666,\"#ed7953\"],[0.7777777777777778,\"#fb9f3a\"],[0.8888888888888888,\"#fdca26\"],[1.0,\"#f0f921\"]],\"sequentialminus\":[[0.0,\"#0d0887\"],[0.1111111111111111,\"#46039f\"],[0.2222222222222222,\"#7201a8\"],[0.3333333333333333,\"#9c179e\"],[0.4444444444444444,\"#bd3786\"],[0.5555555555555556,\"#d8576b\"],[0.6666666666666666,\"#ed7953\"],[0.7777777777777778,\"#fb9f3a\"],[0.8888888888888888,\"#fdca26\"],[1.0,\"#f0f921\"]]},\"colorway\":[\"#636efa\",\"#EF553B\",\"#00cc96\",\"#ab63fa\",\"#FFA15A\",\"#19d3f3\",\"#FF6692\",\"#B6E880\",\"#FF97FF\",\"#FECB52\"],\"font\":{\"color\":\"#2a3f5f\"},\"geo\":{\"bgcolor\":\"white\",\"lakecolor\":\"white\",\"landcolor\":\"#E5ECF6\",\"showlakes\":true,\"showland\":true,\"subunitcolor\":\"white\"},\"hoverlabel\":{\"align\":\"left\"},\"hovermode\":\"closest\",\"mapbox\":{\"style\":\"light\"},\"paper_bgcolor\":\"white\",\"plot_bgcolor\":\"#E5ECF6\",\"polar\":{\"angularaxis\":{\"gridcolor\":\"white\",\"linecolor\":\"white\",\"ticks\":\"\"},\"bgcolor\":\"#E5ECF6\",\"radialaxis\":{\"gridcolor\":\"white\",\"linecolor\":\"white\",\"ticks\":\"\"}},\"scene\":{\"xaxis\":{\"backgroundcolor\":\"#E5ECF6\",\"gridcolor\":\"white\",\"gridwidth\":2,\"linecolor\":\"white\",\"showbackground\":true,\"ticks\":\"\",\"zerolinecolor\":\"white\"},\"yaxis\":{\"backgroundcolor\":\"#E5ECF6\",\"gridcolor\":\"white\",\"gridwidth\":2,\"linecolor\":\"white\",\"showbackground\":true,\"ticks\":\"\",\"zerolinecolor\":\"white\"},\"zaxis\":{\"backgroundcolor\":\"#E5ECF6\",\"gridcolor\":\"white\",\"gridwidth\":2,\"linecolor\":\"white\",\"showbackground\":true,\"ticks\":\"\",\"zerolinecolor\":\"white\"}},\"shapedefaults\":{\"line\":{\"color\":\"#2a3f5f\"}},\"ternary\":{\"aaxis\":{\"gridcolor\":\"white\",\"linecolor\":\"white\",\"ticks\":\"\"},\"baxis\":{\"gridcolor\":\"white\",\"linecolor\":\"white\",\"ticks\":\"\"},\"bgcolor\":\"#E5ECF6\",\"caxis\":{\"gridcolor\":\"white\",\"linecolor\":\"white\",\"ticks\":\"\"}},\"title\":{\"x\":0.05},\"xaxis\":{\"automargin\":true,\"gridcolor\":\"white\",\"linecolor\":\"white\",\"ticks\":\"\",\"title\":{\"standoff\":15},\"zerolinecolor\":\"white\",\"zerolinewidth\":2},\"yaxis\":{\"automargin\":true,\"gridcolor\":\"white\",\"linecolor\":\"white\",\"ticks\":\"\",\"title\":{\"standoff\":15},\"zerolinecolor\":\"white\",\"zerolinewidth\":2}}}},                        {\"responsive\": true}                    ).then(function(){\n",
       "                            \n",
       "var gd = document.getElementById('0f2526cb-6ae2-47e9-bc8c-1eb2d63db68f');\n",
       "var x = new MutationObserver(function (mutations, observer) {{\n",
       "        var display = window.getComputedStyle(gd).display;\n",
       "        if (!display || display === 'none') {{\n",
       "            console.log([gd, 'removed!']);\n",
       "            Plotly.purge(gd);\n",
       "            observer.disconnect();\n",
       "        }}\n",
       "}});\n",
       "\n",
       "// Listen for the removal of the full notebook cells\n",
       "var notebookContainer = gd.closest('#notebook-container');\n",
       "if (notebookContainer) {{\n",
       "    x.observe(notebookContainer, {childList: true});\n",
       "}}\n",
       "\n",
       "// Listen for the clearing of the current output cell\n",
       "var outputEl = gd.closest('.output');\n",
       "if (outputEl) {{\n",
       "    x.observe(outputEl, {childList: true});\n",
       "}}\n",
       "\n",
       "                        })                };                });            </script>        </div>"
      ]
     },
     "metadata": {},
     "output_type": "display_data"
    },
    {
     "name": "stdout",
     "output_type": "stream",
     "text": [
      "V graph\n"
     ]
    },
    {
     "data": {
      "application/vnd.plotly.v1+json": {
       "config": {
        "plotlyServerURL": "https://plot.ly"
       },
       "data": [
        {
         "type": "surface",
         "x": [
          [
           0,
           0.000625,
           0.001875,
           0.0031249999999999997,
           0.0043749999999999995,
           0.005624999999999999,
           0.006874999999999998,
           0.008124999999999999,
           0.009375,
           0.01
          ],
          [
           0,
           0.000625,
           0.001875,
           0.0031249999999999997,
           0.0043749999999999995,
           0.005624999999999999,
           0.006874999999999998,
           0.008124999999999999,
           0.009375,
           0.01
          ],
          [
           0,
           0.000625,
           0.001875,
           0.0031249999999999997,
           0.0043749999999999995,
           0.005624999999999999,
           0.006874999999999998,
           0.008124999999999999,
           0.009375,
           0.01
          ],
          [
           0,
           0.000625,
           0.001875,
           0.0031249999999999997,
           0.0043749999999999995,
           0.005624999999999999,
           0.006874999999999998,
           0.008124999999999999,
           0.009375,
           0.01
          ],
          [
           0,
           0.000625,
           0.001875,
           0.0031249999999999997,
           0.0043749999999999995,
           0.005624999999999999,
           0.006874999999999998,
           0.008124999999999999,
           0.009375,
           0.01
          ],
          [
           0,
           0.000625,
           0.001875,
           0.0031249999999999997,
           0.0043749999999999995,
           0.005624999999999999,
           0.006874999999999998,
           0.008124999999999999,
           0.009375,
           0.01
          ],
          [
           0,
           0.000625,
           0.001875,
           0.0031249999999999997,
           0.0043749999999999995,
           0.005624999999999999,
           0.006874999999999998,
           0.008124999999999999,
           0.009375,
           0.01
          ],
          [
           0,
           0.000625,
           0.001875,
           0.0031249999999999997,
           0.0043749999999999995,
           0.005624999999999999,
           0.006874999999999998,
           0.008124999999999999,
           0.009375,
           0.01
          ],
          [
           0,
           0.000625,
           0.001875,
           0.0031249999999999997,
           0.0043749999999999995,
           0.005624999999999999,
           0.006874999999999998,
           0.008124999999999999,
           0.009375,
           0.01
          ],
          [
           0,
           0.000625,
           0.001875,
           0.0031249999999999997,
           0.0043749999999999995,
           0.005624999999999999,
           0.006874999999999998,
           0.008124999999999999,
           0.009375,
           0.01
          ]
         ],
         "y": [
          [
           0,
           0,
           0,
           0,
           0,
           0,
           0,
           0,
           0,
           0
          ],
          [
           0.000625,
           0.000625,
           0.000625,
           0.000625,
           0.000625,
           0.000625,
           0.000625,
           0.000625,
           0.000625,
           0.000625
          ],
          [
           0.001875,
           0.001875,
           0.001875,
           0.001875,
           0.001875,
           0.001875,
           0.001875,
           0.001875,
           0.001875,
           0.001875
          ],
          [
           0.0031249999999999997,
           0.0031249999999999997,
           0.0031249999999999997,
           0.0031249999999999997,
           0.0031249999999999997,
           0.0031249999999999997,
           0.0031249999999999997,
           0.0031249999999999997,
           0.0031249999999999997,
           0.0031249999999999997
          ],
          [
           0.0043749999999999995,
           0.0043749999999999995,
           0.0043749999999999995,
           0.0043749999999999995,
           0.0043749999999999995,
           0.0043749999999999995,
           0.0043749999999999995,
           0.0043749999999999995,
           0.0043749999999999995,
           0.0043749999999999995
          ],
          [
           0.005624999999999999,
           0.005624999999999999,
           0.005624999999999999,
           0.005624999999999999,
           0.005624999999999999,
           0.005624999999999999,
           0.005624999999999999,
           0.005624999999999999,
           0.005624999999999999,
           0.005624999999999999
          ],
          [
           0.006874999999999998,
           0.006874999999999998,
           0.006874999999999998,
           0.006874999999999998,
           0.006874999999999998,
           0.006874999999999998,
           0.006874999999999998,
           0.006874999999999998,
           0.006874999999999998,
           0.006874999999999998
          ],
          [
           0.008124999999999999,
           0.008124999999999999,
           0.008124999999999999,
           0.008124999999999999,
           0.008124999999999999,
           0.008124999999999999,
           0.008124999999999999,
           0.008124999999999999,
           0.008124999999999999,
           0.008124999999999999
          ],
          [
           0.009375,
           0.009375,
           0.009375,
           0.009375,
           0.009375,
           0.009375,
           0.009375,
           0.009375,
           0.009375,
           0.009375
          ],
          [
           0.01,
           0.01,
           0.01,
           0.01,
           0.01,
           0.01,
           0.01,
           0.01,
           0.01,
           0.01
          ]
         ],
         "z": [
          [
           -1.324293519047987e-21,
           -1.3637864850441781e-21,
           -1.3430693701408334e-21,
           -1.3432567767138276e-21,
           -1.343370570892664e-21,
           -1.3440385218514602e-21,
           -1.3444134027898523e-21,
           -1.343775646272907e-21,
           -1.324945044001632e-21,
           -1.3501317110813703e-21
          ],
          [
           -1.182297036258825e-21,
           -1.1736772369065998e-21,
           -1.1761065783449545e-21,
           -1.1746883145436273e-21,
           -1.1753221356722968e-21,
           -1.1760678550454502e-21,
           -1.1769741131876244e-21,
           -1.1764790223669346e-21,
           -1.1744391716187017e-21,
           -1.1720486144060016e-21
          ],
          [
           -8.381461783364356e-22,
           -8.383732480306894e-22,
           -8.38906511470859e-22,
           -8.388230626558828e-22,
           -8.392995831710139e-22,
           -8.399599426094151e-22,
           -8.406276551038215e-22,
           -8.406760412126715e-22,
           -8.393843526344977e-22,
           -8.389913521899304e-22
          ],
          [
           -5.02320745127199e-22,
           -5.022013240770552e-22,
           -5.026092451608248e-22,
           -5.028053736473339e-22,
           -5.032491759633334e-22,
           -5.037955715398896e-22,
           -5.043341567508854e-22,
           -5.045771753457079e-22,
           -5.042670134925124e-22,
           -5.041469182118422e-22
          ],
          [
           -1.6605636634721857e-22,
           -1.6613340748971039e-22,
           -1.664288046506019e-22,
           -1.6674157873303992e-22,
           -1.6715588033305818e-22,
           -1.676037382732006e-22,
           -1.6806648063605955e-22,
           -1.6852390305756804e-22,
           -1.689733302494478e-22,
           -1.691724895349611e-22
          ],
          [
           1.7012831086403926e-22,
           1.699712958276637e-22,
           1.696980919746498e-22,
           1.693041846636907e-22,
           1.6891761199560862e-22,
           1.6857248944930914e-22,
           1.681871630726583e-22,
           1.6751931790388642e-22,
           1.6631471940084306e-22,
           1.6594560188024084e-22
          ],
          [
           5.06680491721236e-22,
           5.061943246176935e-22,
           5.057590932380859e-22,
           5.052706943409415e-22,
           5.049162702451365e-22,
           5.046997998859464e-22,
           5.044562055480732e-22,
           5.036087737781381e-22,
           5.015181719495928e-22,
           5.009929110762229e-22
          ],
          [
           8.477876416251538e-22,
           8.425317773647507e-22,
           8.418793174264218e-22,
           8.411962196572393e-22,
           8.408648421693325e-22,
           8.40798166132245e-22,
           8.408072303539793e-22,
           8.398719544862958e-22,
           8.363802995174956e-22,
           8.39600846857794e-22
          ],
          [
           1.1857395591129821e-21,
           1.1821362087981265e-21,
           1.178415722180262e-21,
           1.1773353885310086e-21,
           1.1769575717130067e-21,
           1.1770039393888196e-21,
           1.177511619476827e-21,
           1.1760244999008433e-21,
           1.1737865764786443e-21,
           1.173643804722282e-21
          ],
          [
           1.3529108004634475e-21,
           1.348429719204366e-21,
           1.3468296366308344e-21,
           1.345542682951862e-21,
           1.345095271194023e-21,
           1.3450348978005677e-21,
           1.3446432861897055e-21,
           1.3429854450514115e-21,
           1.3083949379648678e-21,
           1.3563179560205793e-21
          ]
         ]
        }
       ],
       "layout": {
        "template": {
         "data": {
          "bar": [
           {
            "error_x": {
             "color": "#2a3f5f"
            },
            "error_y": {
             "color": "#2a3f5f"
            },
            "marker": {
             "line": {
              "color": "#E5ECF6",
              "width": 0.5
             },
             "pattern": {
              "fillmode": "overlay",
              "size": 10,
              "solidity": 0.2
             }
            },
            "type": "bar"
           }
          ],
          "barpolar": [
           {
            "marker": {
             "line": {
              "color": "#E5ECF6",
              "width": 0.5
             },
             "pattern": {
              "fillmode": "overlay",
              "size": 10,
              "solidity": 0.2
             }
            },
            "type": "barpolar"
           }
          ],
          "carpet": [
           {
            "aaxis": {
             "endlinecolor": "#2a3f5f",
             "gridcolor": "white",
             "linecolor": "white",
             "minorgridcolor": "white",
             "startlinecolor": "#2a3f5f"
            },
            "baxis": {
             "endlinecolor": "#2a3f5f",
             "gridcolor": "white",
             "linecolor": "white",
             "minorgridcolor": "white",
             "startlinecolor": "#2a3f5f"
            },
            "type": "carpet"
           }
          ],
          "choropleth": [
           {
            "colorbar": {
             "outlinewidth": 0,
             "ticks": ""
            },
            "type": "choropleth"
           }
          ],
          "contour": [
           {
            "colorbar": {
             "outlinewidth": 0,
             "ticks": ""
            },
            "colorscale": [
             [
              0,
              "#0d0887"
             ],
             [
              0.1111111111111111,
              "#46039f"
             ],
             [
              0.2222222222222222,
              "#7201a8"
             ],
             [
              0.3333333333333333,
              "#9c179e"
             ],
             [
              0.4444444444444444,
              "#bd3786"
             ],
             [
              0.5555555555555556,
              "#d8576b"
             ],
             [
              0.6666666666666666,
              "#ed7953"
             ],
             [
              0.7777777777777778,
              "#fb9f3a"
             ],
             [
              0.8888888888888888,
              "#fdca26"
             ],
             [
              1,
              "#f0f921"
             ]
            ],
            "type": "contour"
           }
          ],
          "contourcarpet": [
           {
            "colorbar": {
             "outlinewidth": 0,
             "ticks": ""
            },
            "type": "contourcarpet"
           }
          ],
          "heatmap": [
           {
            "colorbar": {
             "outlinewidth": 0,
             "ticks": ""
            },
            "colorscale": [
             [
              0,
              "#0d0887"
             ],
             [
              0.1111111111111111,
              "#46039f"
             ],
             [
              0.2222222222222222,
              "#7201a8"
             ],
             [
              0.3333333333333333,
              "#9c179e"
             ],
             [
              0.4444444444444444,
              "#bd3786"
             ],
             [
              0.5555555555555556,
              "#d8576b"
             ],
             [
              0.6666666666666666,
              "#ed7953"
             ],
             [
              0.7777777777777778,
              "#fb9f3a"
             ],
             [
              0.8888888888888888,
              "#fdca26"
             ],
             [
              1,
              "#f0f921"
             ]
            ],
            "type": "heatmap"
           }
          ],
          "heatmapgl": [
           {
            "colorbar": {
             "outlinewidth": 0,
             "ticks": ""
            },
            "colorscale": [
             [
              0,
              "#0d0887"
             ],
             [
              0.1111111111111111,
              "#46039f"
             ],
             [
              0.2222222222222222,
              "#7201a8"
             ],
             [
              0.3333333333333333,
              "#9c179e"
             ],
             [
              0.4444444444444444,
              "#bd3786"
             ],
             [
              0.5555555555555556,
              "#d8576b"
             ],
             [
              0.6666666666666666,
              "#ed7953"
             ],
             [
              0.7777777777777778,
              "#fb9f3a"
             ],
             [
              0.8888888888888888,
              "#fdca26"
             ],
             [
              1,
              "#f0f921"
             ]
            ],
            "type": "heatmapgl"
           }
          ],
          "histogram": [
           {
            "marker": {
             "pattern": {
              "fillmode": "overlay",
              "size": 10,
              "solidity": 0.2
             }
            },
            "type": "histogram"
           }
          ],
          "histogram2d": [
           {
            "colorbar": {
             "outlinewidth": 0,
             "ticks": ""
            },
            "colorscale": [
             [
              0,
              "#0d0887"
             ],
             [
              0.1111111111111111,
              "#46039f"
             ],
             [
              0.2222222222222222,
              "#7201a8"
             ],
             [
              0.3333333333333333,
              "#9c179e"
             ],
             [
              0.4444444444444444,
              "#bd3786"
             ],
             [
              0.5555555555555556,
              "#d8576b"
             ],
             [
              0.6666666666666666,
              "#ed7953"
             ],
             [
              0.7777777777777778,
              "#fb9f3a"
             ],
             [
              0.8888888888888888,
              "#fdca26"
             ],
             [
              1,
              "#f0f921"
             ]
            ],
            "type": "histogram2d"
           }
          ],
          "histogram2dcontour": [
           {
            "colorbar": {
             "outlinewidth": 0,
             "ticks": ""
            },
            "colorscale": [
             [
              0,
              "#0d0887"
             ],
             [
              0.1111111111111111,
              "#46039f"
             ],
             [
              0.2222222222222222,
              "#7201a8"
             ],
             [
              0.3333333333333333,
              "#9c179e"
             ],
             [
              0.4444444444444444,
              "#bd3786"
             ],
             [
              0.5555555555555556,
              "#d8576b"
             ],
             [
              0.6666666666666666,
              "#ed7953"
             ],
             [
              0.7777777777777778,
              "#fb9f3a"
             ],
             [
              0.8888888888888888,
              "#fdca26"
             ],
             [
              1,
              "#f0f921"
             ]
            ],
            "type": "histogram2dcontour"
           }
          ],
          "mesh3d": [
           {
            "colorbar": {
             "outlinewidth": 0,
             "ticks": ""
            },
            "type": "mesh3d"
           }
          ],
          "parcoords": [
           {
            "line": {
             "colorbar": {
              "outlinewidth": 0,
              "ticks": ""
             }
            },
            "type": "parcoords"
           }
          ],
          "pie": [
           {
            "automargin": true,
            "type": "pie"
           }
          ],
          "scatter": [
           {
            "marker": {
             "colorbar": {
              "outlinewidth": 0,
              "ticks": ""
             }
            },
            "type": "scatter"
           }
          ],
          "scatter3d": [
           {
            "line": {
             "colorbar": {
              "outlinewidth": 0,
              "ticks": ""
             }
            },
            "marker": {
             "colorbar": {
              "outlinewidth": 0,
              "ticks": ""
             }
            },
            "type": "scatter3d"
           }
          ],
          "scattercarpet": [
           {
            "marker": {
             "colorbar": {
              "outlinewidth": 0,
              "ticks": ""
             }
            },
            "type": "scattercarpet"
           }
          ],
          "scattergeo": [
           {
            "marker": {
             "colorbar": {
              "outlinewidth": 0,
              "ticks": ""
             }
            },
            "type": "scattergeo"
           }
          ],
          "scattergl": [
           {
            "marker": {
             "colorbar": {
              "outlinewidth": 0,
              "ticks": ""
             }
            },
            "type": "scattergl"
           }
          ],
          "scattermapbox": [
           {
            "marker": {
             "colorbar": {
              "outlinewidth": 0,
              "ticks": ""
             }
            },
            "type": "scattermapbox"
           }
          ],
          "scatterpolar": [
           {
            "marker": {
             "colorbar": {
              "outlinewidth": 0,
              "ticks": ""
             }
            },
            "type": "scatterpolar"
           }
          ],
          "scatterpolargl": [
           {
            "marker": {
             "colorbar": {
              "outlinewidth": 0,
              "ticks": ""
             }
            },
            "type": "scatterpolargl"
           }
          ],
          "scatterternary": [
           {
            "marker": {
             "colorbar": {
              "outlinewidth": 0,
              "ticks": ""
             }
            },
            "type": "scatterternary"
           }
          ],
          "surface": [
           {
            "colorbar": {
             "outlinewidth": 0,
             "ticks": ""
            },
            "colorscale": [
             [
              0,
              "#0d0887"
             ],
             [
              0.1111111111111111,
              "#46039f"
             ],
             [
              0.2222222222222222,
              "#7201a8"
             ],
             [
              0.3333333333333333,
              "#9c179e"
             ],
             [
              0.4444444444444444,
              "#bd3786"
             ],
             [
              0.5555555555555556,
              "#d8576b"
             ],
             [
              0.6666666666666666,
              "#ed7953"
             ],
             [
              0.7777777777777778,
              "#fb9f3a"
             ],
             [
              0.8888888888888888,
              "#fdca26"
             ],
             [
              1,
              "#f0f921"
             ]
            ],
            "type": "surface"
           }
          ],
          "table": [
           {
            "cells": {
             "fill": {
              "color": "#EBF0F8"
             },
             "line": {
              "color": "white"
             }
            },
            "header": {
             "fill": {
              "color": "#C8D4E3"
             },
             "line": {
              "color": "white"
             }
            },
            "type": "table"
           }
          ]
         },
         "layout": {
          "annotationdefaults": {
           "arrowcolor": "#2a3f5f",
           "arrowhead": 0,
           "arrowwidth": 1
          },
          "autotypenumbers": "strict",
          "coloraxis": {
           "colorbar": {
            "outlinewidth": 0,
            "ticks": ""
           }
          },
          "colorscale": {
           "diverging": [
            [
             0,
             "#8e0152"
            ],
            [
             0.1,
             "#c51b7d"
            ],
            [
             0.2,
             "#de77ae"
            ],
            [
             0.3,
             "#f1b6da"
            ],
            [
             0.4,
             "#fde0ef"
            ],
            [
             0.5,
             "#f7f7f7"
            ],
            [
             0.6,
             "#e6f5d0"
            ],
            [
             0.7,
             "#b8e186"
            ],
            [
             0.8,
             "#7fbc41"
            ],
            [
             0.9,
             "#4d9221"
            ],
            [
             1,
             "#276419"
            ]
           ],
           "sequential": [
            [
             0,
             "#0d0887"
            ],
            [
             0.1111111111111111,
             "#46039f"
            ],
            [
             0.2222222222222222,
             "#7201a8"
            ],
            [
             0.3333333333333333,
             "#9c179e"
            ],
            [
             0.4444444444444444,
             "#bd3786"
            ],
            [
             0.5555555555555556,
             "#d8576b"
            ],
            [
             0.6666666666666666,
             "#ed7953"
            ],
            [
             0.7777777777777778,
             "#fb9f3a"
            ],
            [
             0.8888888888888888,
             "#fdca26"
            ],
            [
             1,
             "#f0f921"
            ]
           ],
           "sequentialminus": [
            [
             0,
             "#0d0887"
            ],
            [
             0.1111111111111111,
             "#46039f"
            ],
            [
             0.2222222222222222,
             "#7201a8"
            ],
            [
             0.3333333333333333,
             "#9c179e"
            ],
            [
             0.4444444444444444,
             "#bd3786"
            ],
            [
             0.5555555555555556,
             "#d8576b"
            ],
            [
             0.6666666666666666,
             "#ed7953"
            ],
            [
             0.7777777777777778,
             "#fb9f3a"
            ],
            [
             0.8888888888888888,
             "#fdca26"
            ],
            [
             1,
             "#f0f921"
            ]
           ]
          },
          "colorway": [
           "#636efa",
           "#EF553B",
           "#00cc96",
           "#ab63fa",
           "#FFA15A",
           "#19d3f3",
           "#FF6692",
           "#B6E880",
           "#FF97FF",
           "#FECB52"
          ],
          "font": {
           "color": "#2a3f5f"
          },
          "geo": {
           "bgcolor": "white",
           "lakecolor": "white",
           "landcolor": "#E5ECF6",
           "showlakes": true,
           "showland": true,
           "subunitcolor": "white"
          },
          "hoverlabel": {
           "align": "left"
          },
          "hovermode": "closest",
          "mapbox": {
           "style": "light"
          },
          "paper_bgcolor": "white",
          "plot_bgcolor": "#E5ECF6",
          "polar": {
           "angularaxis": {
            "gridcolor": "white",
            "linecolor": "white",
            "ticks": ""
           },
           "bgcolor": "#E5ECF6",
           "radialaxis": {
            "gridcolor": "white",
            "linecolor": "white",
            "ticks": ""
           }
          },
          "scene": {
           "xaxis": {
            "backgroundcolor": "#E5ECF6",
            "gridcolor": "white",
            "gridwidth": 2,
            "linecolor": "white",
            "showbackground": true,
            "ticks": "",
            "zerolinecolor": "white"
           },
           "yaxis": {
            "backgroundcolor": "#E5ECF6",
            "gridcolor": "white",
            "gridwidth": 2,
            "linecolor": "white",
            "showbackground": true,
            "ticks": "",
            "zerolinecolor": "white"
           },
           "zaxis": {
            "backgroundcolor": "#E5ECF6",
            "gridcolor": "white",
            "gridwidth": 2,
            "linecolor": "white",
            "showbackground": true,
            "ticks": "",
            "zerolinecolor": "white"
           }
          },
          "shapedefaults": {
           "line": {
            "color": "#2a3f5f"
           }
          },
          "ternary": {
           "aaxis": {
            "gridcolor": "white",
            "linecolor": "white",
            "ticks": ""
           },
           "baxis": {
            "gridcolor": "white",
            "linecolor": "white",
            "ticks": ""
           },
           "bgcolor": "#E5ECF6",
           "caxis": {
            "gridcolor": "white",
            "linecolor": "white",
            "ticks": ""
           }
          },
          "title": {
           "x": 0.05
          },
          "xaxis": {
           "automargin": true,
           "gridcolor": "white",
           "linecolor": "white",
           "ticks": "",
           "title": {
            "standoff": 15
           },
           "zerolinecolor": "white",
           "zerolinewidth": 2
          },
          "yaxis": {
           "automargin": true,
           "gridcolor": "white",
           "linecolor": "white",
           "ticks": "",
           "title": {
            "standoff": 15
           },
           "zerolinecolor": "white",
           "zerolinewidth": 2
          }
         }
        }
       }
      },
      "text/html": [
       "<div>                            <div id=\"7fabea70-668d-45a2-a62a-b343bfe5b246\" class=\"plotly-graph-div\" style=\"height:525px; width:100%;\"></div>            <script type=\"text/javascript\">                require([\"plotly\"], function(Plotly) {                    window.PLOTLYENV=window.PLOTLYENV || {};                                    if (document.getElementById(\"7fabea70-668d-45a2-a62a-b343bfe5b246\")) {                    Plotly.newPlot(                        \"7fabea70-668d-45a2-a62a-b343bfe5b246\",                        [{\"x\":[[0.0,0.000625,0.001875,0.0031249999999999997,0.0043749999999999995,0.005624999999999999,0.006874999999999998,0.008124999999999999,0.009375,0.01],[0.0,0.000625,0.001875,0.0031249999999999997,0.0043749999999999995,0.005624999999999999,0.006874999999999998,0.008124999999999999,0.009375,0.01],[0.0,0.000625,0.001875,0.0031249999999999997,0.0043749999999999995,0.005624999999999999,0.006874999999999998,0.008124999999999999,0.009375,0.01],[0.0,0.000625,0.001875,0.0031249999999999997,0.0043749999999999995,0.005624999999999999,0.006874999999999998,0.008124999999999999,0.009375,0.01],[0.0,0.000625,0.001875,0.0031249999999999997,0.0043749999999999995,0.005624999999999999,0.006874999999999998,0.008124999999999999,0.009375,0.01],[0.0,0.000625,0.001875,0.0031249999999999997,0.0043749999999999995,0.005624999999999999,0.006874999999999998,0.008124999999999999,0.009375,0.01],[0.0,0.000625,0.001875,0.0031249999999999997,0.0043749999999999995,0.005624999999999999,0.006874999999999998,0.008124999999999999,0.009375,0.01],[0.0,0.000625,0.001875,0.0031249999999999997,0.0043749999999999995,0.005624999999999999,0.006874999999999998,0.008124999999999999,0.009375,0.01],[0.0,0.000625,0.001875,0.0031249999999999997,0.0043749999999999995,0.005624999999999999,0.006874999999999998,0.008124999999999999,0.009375,0.01],[0.0,0.000625,0.001875,0.0031249999999999997,0.0043749999999999995,0.005624999999999999,0.006874999999999998,0.008124999999999999,0.009375,0.01]],\"y\":[[0.0,0.0,0.0,0.0,0.0,0.0,0.0,0.0,0.0,0.0],[0.000625,0.000625,0.000625,0.000625,0.000625,0.000625,0.000625,0.000625,0.000625,0.000625],[0.001875,0.001875,0.001875,0.001875,0.001875,0.001875,0.001875,0.001875,0.001875,0.001875],[0.0031249999999999997,0.0031249999999999997,0.0031249999999999997,0.0031249999999999997,0.0031249999999999997,0.0031249999999999997,0.0031249999999999997,0.0031249999999999997,0.0031249999999999997,0.0031249999999999997],[0.0043749999999999995,0.0043749999999999995,0.0043749999999999995,0.0043749999999999995,0.0043749999999999995,0.0043749999999999995,0.0043749999999999995,0.0043749999999999995,0.0043749999999999995,0.0043749999999999995],[0.005624999999999999,0.005624999999999999,0.005624999999999999,0.005624999999999999,0.005624999999999999,0.005624999999999999,0.005624999999999999,0.005624999999999999,0.005624999999999999,0.005624999999999999],[0.006874999999999998,0.006874999999999998,0.006874999999999998,0.006874999999999998,0.006874999999999998,0.006874999999999998,0.006874999999999998,0.006874999999999998,0.006874999999999998,0.006874999999999998],[0.008124999999999999,0.008124999999999999,0.008124999999999999,0.008124999999999999,0.008124999999999999,0.008124999999999999,0.008124999999999999,0.008124999999999999,0.008124999999999999,0.008124999999999999],[0.009375,0.009375,0.009375,0.009375,0.009375,0.009375,0.009375,0.009375,0.009375,0.009375],[0.01,0.01,0.01,0.01,0.01,0.01,0.01,0.01,0.01,0.01]],\"z\":[[-1.324293519047987e-21,-1.3637864850441781e-21,-1.3430693701408334e-21,-1.3432567767138276e-21,-1.343370570892664e-21,-1.3440385218514602e-21,-1.3444134027898523e-21,-1.343775646272907e-21,-1.324945044001632e-21,-1.3501317110813703e-21],[-1.182297036258825e-21,-1.1736772369065998e-21,-1.1761065783449545e-21,-1.1746883145436273e-21,-1.1753221356722968e-21,-1.1760678550454502e-21,-1.1769741131876244e-21,-1.1764790223669346e-21,-1.1744391716187017e-21,-1.1720486144060016e-21],[-8.381461783364356e-22,-8.383732480306894e-22,-8.38906511470859e-22,-8.388230626558828e-22,-8.392995831710139e-22,-8.399599426094151e-22,-8.406276551038215e-22,-8.406760412126715e-22,-8.393843526344977e-22,-8.389913521899304e-22],[-5.02320745127199e-22,-5.022013240770552e-22,-5.026092451608248e-22,-5.028053736473339e-22,-5.032491759633334e-22,-5.037955715398896e-22,-5.043341567508854e-22,-5.045771753457079e-22,-5.042670134925124e-22,-5.041469182118422e-22],[-1.6605636634721857e-22,-1.6613340748971039e-22,-1.664288046506019e-22,-1.6674157873303992e-22,-1.6715588033305818e-22,-1.676037382732006e-22,-1.6806648063605955e-22,-1.6852390305756804e-22,-1.689733302494478e-22,-1.691724895349611e-22],[1.7012831086403926e-22,1.699712958276637e-22,1.696980919746498e-22,1.693041846636907e-22,1.6891761199560862e-22,1.6857248944930914e-22,1.681871630726583e-22,1.6751931790388642e-22,1.6631471940084306e-22,1.6594560188024084e-22],[5.06680491721236e-22,5.061943246176935e-22,5.057590932380859e-22,5.052706943409415e-22,5.049162702451365e-22,5.046997998859464e-22,5.044562055480732e-22,5.036087737781381e-22,5.015181719495928e-22,5.009929110762229e-22],[8.477876416251538e-22,8.425317773647507e-22,8.418793174264218e-22,8.411962196572393e-22,8.408648421693325e-22,8.40798166132245e-22,8.408072303539793e-22,8.398719544862958e-22,8.363802995174956e-22,8.39600846857794e-22],[1.1857395591129821e-21,1.1821362087981265e-21,1.178415722180262e-21,1.1773353885310086e-21,1.1769575717130067e-21,1.1770039393888196e-21,1.177511619476827e-21,1.1760244999008433e-21,1.1737865764786443e-21,1.173643804722282e-21],[1.3529108004634475e-21,1.348429719204366e-21,1.3468296366308344e-21,1.345542682951862e-21,1.345095271194023e-21,1.3450348978005677e-21,1.3446432861897055e-21,1.3429854450514115e-21,1.3083949379648678e-21,1.3563179560205793e-21]],\"type\":\"surface\"}],                        {\"template\":{\"data\":{\"bar\":[{\"error_x\":{\"color\":\"#2a3f5f\"},\"error_y\":{\"color\":\"#2a3f5f\"},\"marker\":{\"line\":{\"color\":\"#E5ECF6\",\"width\":0.5},\"pattern\":{\"fillmode\":\"overlay\",\"size\":10,\"solidity\":0.2}},\"type\":\"bar\"}],\"barpolar\":[{\"marker\":{\"line\":{\"color\":\"#E5ECF6\",\"width\":0.5},\"pattern\":{\"fillmode\":\"overlay\",\"size\":10,\"solidity\":0.2}},\"type\":\"barpolar\"}],\"carpet\":[{\"aaxis\":{\"endlinecolor\":\"#2a3f5f\",\"gridcolor\":\"white\",\"linecolor\":\"white\",\"minorgridcolor\":\"white\",\"startlinecolor\":\"#2a3f5f\"},\"baxis\":{\"endlinecolor\":\"#2a3f5f\",\"gridcolor\":\"white\",\"linecolor\":\"white\",\"minorgridcolor\":\"white\",\"startlinecolor\":\"#2a3f5f\"},\"type\":\"carpet\"}],\"choropleth\":[{\"colorbar\":{\"outlinewidth\":0,\"ticks\":\"\"},\"type\":\"choropleth\"}],\"contour\":[{\"colorbar\":{\"outlinewidth\":0,\"ticks\":\"\"},\"colorscale\":[[0.0,\"#0d0887\"],[0.1111111111111111,\"#46039f\"],[0.2222222222222222,\"#7201a8\"],[0.3333333333333333,\"#9c179e\"],[0.4444444444444444,\"#bd3786\"],[0.5555555555555556,\"#d8576b\"],[0.6666666666666666,\"#ed7953\"],[0.7777777777777778,\"#fb9f3a\"],[0.8888888888888888,\"#fdca26\"],[1.0,\"#f0f921\"]],\"type\":\"contour\"}],\"contourcarpet\":[{\"colorbar\":{\"outlinewidth\":0,\"ticks\":\"\"},\"type\":\"contourcarpet\"}],\"heatmap\":[{\"colorbar\":{\"outlinewidth\":0,\"ticks\":\"\"},\"colorscale\":[[0.0,\"#0d0887\"],[0.1111111111111111,\"#46039f\"],[0.2222222222222222,\"#7201a8\"],[0.3333333333333333,\"#9c179e\"],[0.4444444444444444,\"#bd3786\"],[0.5555555555555556,\"#d8576b\"],[0.6666666666666666,\"#ed7953\"],[0.7777777777777778,\"#fb9f3a\"],[0.8888888888888888,\"#fdca26\"],[1.0,\"#f0f921\"]],\"type\":\"heatmap\"}],\"heatmapgl\":[{\"colorbar\":{\"outlinewidth\":0,\"ticks\":\"\"},\"colorscale\":[[0.0,\"#0d0887\"],[0.1111111111111111,\"#46039f\"],[0.2222222222222222,\"#7201a8\"],[0.3333333333333333,\"#9c179e\"],[0.4444444444444444,\"#bd3786\"],[0.5555555555555556,\"#d8576b\"],[0.6666666666666666,\"#ed7953\"],[0.7777777777777778,\"#fb9f3a\"],[0.8888888888888888,\"#fdca26\"],[1.0,\"#f0f921\"]],\"type\":\"heatmapgl\"}],\"histogram\":[{\"marker\":{\"pattern\":{\"fillmode\":\"overlay\",\"size\":10,\"solidity\":0.2}},\"type\":\"histogram\"}],\"histogram2d\":[{\"colorbar\":{\"outlinewidth\":0,\"ticks\":\"\"},\"colorscale\":[[0.0,\"#0d0887\"],[0.1111111111111111,\"#46039f\"],[0.2222222222222222,\"#7201a8\"],[0.3333333333333333,\"#9c179e\"],[0.4444444444444444,\"#bd3786\"],[0.5555555555555556,\"#d8576b\"],[0.6666666666666666,\"#ed7953\"],[0.7777777777777778,\"#fb9f3a\"],[0.8888888888888888,\"#fdca26\"],[1.0,\"#f0f921\"]],\"type\":\"histogram2d\"}],\"histogram2dcontour\":[{\"colorbar\":{\"outlinewidth\":0,\"ticks\":\"\"},\"colorscale\":[[0.0,\"#0d0887\"],[0.1111111111111111,\"#46039f\"],[0.2222222222222222,\"#7201a8\"],[0.3333333333333333,\"#9c179e\"],[0.4444444444444444,\"#bd3786\"],[0.5555555555555556,\"#d8576b\"],[0.6666666666666666,\"#ed7953\"],[0.7777777777777778,\"#fb9f3a\"],[0.8888888888888888,\"#fdca26\"],[1.0,\"#f0f921\"]],\"type\":\"histogram2dcontour\"}],\"mesh3d\":[{\"colorbar\":{\"outlinewidth\":0,\"ticks\":\"\"},\"type\":\"mesh3d\"}],\"parcoords\":[{\"line\":{\"colorbar\":{\"outlinewidth\":0,\"ticks\":\"\"}},\"type\":\"parcoords\"}],\"pie\":[{\"automargin\":true,\"type\":\"pie\"}],\"scatter\":[{\"marker\":{\"colorbar\":{\"outlinewidth\":0,\"ticks\":\"\"}},\"type\":\"scatter\"}],\"scatter3d\":[{\"line\":{\"colorbar\":{\"outlinewidth\":0,\"ticks\":\"\"}},\"marker\":{\"colorbar\":{\"outlinewidth\":0,\"ticks\":\"\"}},\"type\":\"scatter3d\"}],\"scattercarpet\":[{\"marker\":{\"colorbar\":{\"outlinewidth\":0,\"ticks\":\"\"}},\"type\":\"scattercarpet\"}],\"scattergeo\":[{\"marker\":{\"colorbar\":{\"outlinewidth\":0,\"ticks\":\"\"}},\"type\":\"scattergeo\"}],\"scattergl\":[{\"marker\":{\"colorbar\":{\"outlinewidth\":0,\"ticks\":\"\"}},\"type\":\"scattergl\"}],\"scattermapbox\":[{\"marker\":{\"colorbar\":{\"outlinewidth\":0,\"ticks\":\"\"}},\"type\":\"scattermapbox\"}],\"scatterpolar\":[{\"marker\":{\"colorbar\":{\"outlinewidth\":0,\"ticks\":\"\"}},\"type\":\"scatterpolar\"}],\"scatterpolargl\":[{\"marker\":{\"colorbar\":{\"outlinewidth\":0,\"ticks\":\"\"}},\"type\":\"scatterpolargl\"}],\"scatterternary\":[{\"marker\":{\"colorbar\":{\"outlinewidth\":0,\"ticks\":\"\"}},\"type\":\"scatterternary\"}],\"surface\":[{\"colorbar\":{\"outlinewidth\":0,\"ticks\":\"\"},\"colorscale\":[[0.0,\"#0d0887\"],[0.1111111111111111,\"#46039f\"],[0.2222222222222222,\"#7201a8\"],[0.3333333333333333,\"#9c179e\"],[0.4444444444444444,\"#bd3786\"],[0.5555555555555556,\"#d8576b\"],[0.6666666666666666,\"#ed7953\"],[0.7777777777777778,\"#fb9f3a\"],[0.8888888888888888,\"#fdca26\"],[1.0,\"#f0f921\"]],\"type\":\"surface\"}],\"table\":[{\"cells\":{\"fill\":{\"color\":\"#EBF0F8\"},\"line\":{\"color\":\"white\"}},\"header\":{\"fill\":{\"color\":\"#C8D4E3\"},\"line\":{\"color\":\"white\"}},\"type\":\"table\"}]},\"layout\":{\"annotationdefaults\":{\"arrowcolor\":\"#2a3f5f\",\"arrowhead\":0,\"arrowwidth\":1},\"autotypenumbers\":\"strict\",\"coloraxis\":{\"colorbar\":{\"outlinewidth\":0,\"ticks\":\"\"}},\"colorscale\":{\"diverging\":[[0,\"#8e0152\"],[0.1,\"#c51b7d\"],[0.2,\"#de77ae\"],[0.3,\"#f1b6da\"],[0.4,\"#fde0ef\"],[0.5,\"#f7f7f7\"],[0.6,\"#e6f5d0\"],[0.7,\"#b8e186\"],[0.8,\"#7fbc41\"],[0.9,\"#4d9221\"],[1,\"#276419\"]],\"sequential\":[[0.0,\"#0d0887\"],[0.1111111111111111,\"#46039f\"],[0.2222222222222222,\"#7201a8\"],[0.3333333333333333,\"#9c179e\"],[0.4444444444444444,\"#bd3786\"],[0.5555555555555556,\"#d8576b\"],[0.6666666666666666,\"#ed7953\"],[0.7777777777777778,\"#fb9f3a\"],[0.8888888888888888,\"#fdca26\"],[1.0,\"#f0f921\"]],\"sequentialminus\":[[0.0,\"#0d0887\"],[0.1111111111111111,\"#46039f\"],[0.2222222222222222,\"#7201a8\"],[0.3333333333333333,\"#9c179e\"],[0.4444444444444444,\"#bd3786\"],[0.5555555555555556,\"#d8576b\"],[0.6666666666666666,\"#ed7953\"],[0.7777777777777778,\"#fb9f3a\"],[0.8888888888888888,\"#fdca26\"],[1.0,\"#f0f921\"]]},\"colorway\":[\"#636efa\",\"#EF553B\",\"#00cc96\",\"#ab63fa\",\"#FFA15A\",\"#19d3f3\",\"#FF6692\",\"#B6E880\",\"#FF97FF\",\"#FECB52\"],\"font\":{\"color\":\"#2a3f5f\"},\"geo\":{\"bgcolor\":\"white\",\"lakecolor\":\"white\",\"landcolor\":\"#E5ECF6\",\"showlakes\":true,\"showland\":true,\"subunitcolor\":\"white\"},\"hoverlabel\":{\"align\":\"left\"},\"hovermode\":\"closest\",\"mapbox\":{\"style\":\"light\"},\"paper_bgcolor\":\"white\",\"plot_bgcolor\":\"#E5ECF6\",\"polar\":{\"angularaxis\":{\"gridcolor\":\"white\",\"linecolor\":\"white\",\"ticks\":\"\"},\"bgcolor\":\"#E5ECF6\",\"radialaxis\":{\"gridcolor\":\"white\",\"linecolor\":\"white\",\"ticks\":\"\"}},\"scene\":{\"xaxis\":{\"backgroundcolor\":\"#E5ECF6\",\"gridcolor\":\"white\",\"gridwidth\":2,\"linecolor\":\"white\",\"showbackground\":true,\"ticks\":\"\",\"zerolinecolor\":\"white\"},\"yaxis\":{\"backgroundcolor\":\"#E5ECF6\",\"gridcolor\":\"white\",\"gridwidth\":2,\"linecolor\":\"white\",\"showbackground\":true,\"ticks\":\"\",\"zerolinecolor\":\"white\"},\"zaxis\":{\"backgroundcolor\":\"#E5ECF6\",\"gridcolor\":\"white\",\"gridwidth\":2,\"linecolor\":\"white\",\"showbackground\":true,\"ticks\":\"\",\"zerolinecolor\":\"white\"}},\"shapedefaults\":{\"line\":{\"color\":\"#2a3f5f\"}},\"ternary\":{\"aaxis\":{\"gridcolor\":\"white\",\"linecolor\":\"white\",\"ticks\":\"\"},\"baxis\":{\"gridcolor\":\"white\",\"linecolor\":\"white\",\"ticks\":\"\"},\"bgcolor\":\"#E5ECF6\",\"caxis\":{\"gridcolor\":\"white\",\"linecolor\":\"white\",\"ticks\":\"\"}},\"title\":{\"x\":0.05},\"xaxis\":{\"automargin\":true,\"gridcolor\":\"white\",\"linecolor\":\"white\",\"ticks\":\"\",\"title\":{\"standoff\":15},\"zerolinecolor\":\"white\",\"zerolinewidth\":2},\"yaxis\":{\"automargin\":true,\"gridcolor\":\"white\",\"linecolor\":\"white\",\"ticks\":\"\",\"title\":{\"standoff\":15},\"zerolinecolor\":\"white\",\"zerolinewidth\":2}}}},                        {\"responsive\": true}                    ).then(function(){\n",
       "                            \n",
       "var gd = document.getElementById('7fabea70-668d-45a2-a62a-b343bfe5b246');\n",
       "var x = new MutationObserver(function (mutations, observer) {{\n",
       "        var display = window.getComputedStyle(gd).display;\n",
       "        if (!display || display === 'none') {{\n",
       "            console.log([gd, 'removed!']);\n",
       "            Plotly.purge(gd);\n",
       "            observer.disconnect();\n",
       "        }}\n",
       "}});\n",
       "\n",
       "// Listen for the removal of the full notebook cells\n",
       "var notebookContainer = gd.closest('#notebook-container');\n",
       "if (notebookContainer) {{\n",
       "    x.observe(notebookContainer, {childList: true});\n",
       "}}\n",
       "\n",
       "// Listen for the clearing of the current output cell\n",
       "var outputEl = gd.closest('.output');\n",
       "if (outputEl) {{\n",
       "    x.observe(outputEl, {childList: true});\n",
       "}}\n",
       "\n",
       "                        })                };                });            </script>        </div>"
      ]
     },
     "metadata": {},
     "output_type": "display_data"
    }
   ],
   "source": [
    "## Time loop\n",
    "\n",
    "!rm -r savedVariables\n",
    "! mkdir savedVariables\n",
    "\n",
    "for time in t:\n",
    "\n",
    "    print(\"\\nTime = \" + str(time))\n",
    "    \n",
    "    # Set number of maximum iterations for convergence\n",
    "    \n",
    "    icorr = 1\n",
    "    maxcorr = 100000\n",
    "\n",
    "    # Make directory\n",
    "\n",
    "    ! mkdir savedVariables/{time}\n",
    "    \n",
    "    while True:\n",
    "    # for iteration in [1]:\n",
    "            \n",
    "        u_previous = u_new #store latest guess values\n",
    "\n",
    "        A_x = A(\"x\").createMatrix()\n",
    "        \n",
    "        for k in np.arange(0,(nx+2)*(ny+2)):   # k is the cell number\n",
    "\n",
    "            xy = \"x\"\n",
    "\n",
    "            U = displacement(k, u_previous, 0)\n",
    "            V = displacement(k, u_previous, 1)\n",
    "\n",
    "            #Bottom left corner coefficients\n",
    "               \n",
    "            if cell_index().bottom_left_corner(k):\n",
    "                sides = [\"b\", \"l\"]\n",
    "\n",
    "                #print(str(k) + \": Bottom left corner coefficients\")\n",
    "\n",
    "                #ap\n",
    "                A_x[k,k] = boundaryCellTraction(sides, \"x\").a_P\n",
    "\n",
    "                #an\n",
    "                A_x[k,index(k).n] = - boundaryCellTraction(sides, \"x\").a_N\n",
    "\n",
    "                #ae\n",
    "                A_x[k, index(k).e] = - (Sfx/dx)*(2*mu + Lambda)\n",
    "\n",
    "                b_x[k] =(\n",
    "                            boundaryCellTraction.b_temp(u_old, u_old_old, k, xy)\n",
    "                            +\n",
    "                            boundaryCellTraction.b_diff(sides, k, xy, u_previous)\n",
    "                            # (Sfy/(4*dx))*mu*(\n",
    "                            #                     + V.NE\n",
    "                            #                     + V.E\n",
    "                            #                     + V.P\n",
    "                            #                     + V.N\n",
    "                            #                     - 2*V.NW #l\n",
    "                            #                     - 2*V.W #l\n",
    "                            #                 )\n",
    "                            # +\n",
    "                            # (Sfx/(4*dy))*Lambda*(\n",
    "                            #                         + V.NE\n",
    "                            #                         + V.N\n",
    "                            #                         + V.P\n",
    "                            #                         + V.E\n",
    "                            #                         - 2*V.SE #b\n",
    "                            #                         - 2*V.S #b\n",
    "                            #                     )\n",
    "                            # +\n",
    "                            # Sfy*tr_bottom_x\n",
    "                            # +\n",
    "                            # Sfx*tr_left_x\n",
    "                        )   \n",
    "\n",
    "            #Bottom right corner coefficients\n",
    "                \n",
    "            elif  cell_index().bottom_right_corner(k):\n",
    "                sides = [\"b\", \"r\"]\n",
    "\n",
    "                #print(str(k) + \": Bottom right corner coefficients\")\n",
    "\n",
    "                #ap\n",
    "                A_x[k,k] = (rho*dx*dy/(dt**2)) + (Sfy/dy)*mu + (Sfx/dx)*(2*mu + Lambda)\n",
    "\n",
    "                #an\n",
    "                A_x[k,index(k).n] = -(Sfy/dy)*mu\n",
    "\n",
    "                #aw\n",
    "                A_x[k, index(k).w] = -(Sfx/dx)*(2*mu + Lambda)\n",
    "\n",
    "                #b_x = A + B(u_b) + C(u_r) + D(-V.W -V.NW + 2v_r) + E(-V.N -V.NW + 2v_b)\n",
    "\n",
    "\n",
    "                b_x[k] =(\n",
    "                            boundaryCellTraction.b_temp(u_old, u_old_old, k, xy)\n",
    "                            +\n",
    "                            boundaryCellTraction.b_diff(sides, k, xy, u_previous)                          \n",
    "                            # (Sfy/(4*dx))*mu*(\n",
    "                            #                     + 2*V.NE #r\n",
    "                            #                     + 2*V.E #r\n",
    "                            #                     - V.NW\n",
    "                            #                     - V.W\n",
    "                            #                     - V.P\n",
    "                            #                     - V.N\n",
    "                            #                 )\n",
    "                            # +\n",
    "                            # (Sfx/(4*dy))*Lambda*(\n",
    "                            #                         - V.N\n",
    "                            #                         - V.NW\n",
    "                            #                         - V.P\n",
    "                            #                         - V.W\n",
    "                            #                         + 2*V.S #b\n",
    "                            #                         + 2*V.SW #b\n",
    "                            #                     )\n",
    "                            # +\n",
    "                            # Sfx*tr_right_x\n",
    "                            # +\n",
    "                            # Sfy*tr_bottom_x\n",
    "                        ) \n",
    "\n",
    "            # Top Left Corner Coeficients\n",
    "                \n",
    "            elif  cell_index().top_left_corner(k):\n",
    "                sides = [\"t\", \"l\"]\n",
    "\n",
    "                #print(str(k) + \":Top Left corner coefficients\")\n",
    "\n",
    "                #ap                \n",
    "                A_x[k,k] = (rho*dx*dy/(dt**2)) + (Sfy/dy)*mu + (Sfx/dx)*(2*mu + Lambda)\n",
    "                \n",
    "                #as\n",
    "                A_x[k,k-nx-2] = -(Sfy/dy)*mu\n",
    "\n",
    "                #ae                \n",
    "                A_x[k, index(k).e] = -(Sfx/dx)*(2*mu + Lambda)\n",
    "                \n",
    "                b_x[k] =(\n",
    "                            boundaryCellTraction.b_temp(u_old, u_old_old, k, xy)\n",
    "                            +\n",
    "                            boundaryCellTraction.b_diff(sides, k, xy, u_previous)  \n",
    "                            # (rho/(dt**2))*( 2*(u_old[k,0])*dx*dy - u_old_old[k,0]*dx*dy) \n",
    "                            # +\n",
    "                            # (Sfy/(4*dx))*mu*(\n",
    "                            #                     - V.E\n",
    "                            #                     - V.SE\n",
    "                            #                     - V.P\n",
    "                            #                     - V.S\n",
    "                            #                     + 2*V.W #l\n",
    "                            #                     + 2*V.SW #l\n",
    "                            #                 )\n",
    "                            # +\n",
    "                            # (Sfx/(4*dy))*Lambda*(\n",
    "                            #                         + 2*V.NE #t\n",
    "                            #                         + 2*V.N #t\n",
    "                            #                         - V.P\n",
    "                            #                         - V.E\n",
    "                            #                         - V.SE\n",
    "                            #                         - V.S\n",
    "                            #                     )\n",
    "                            # +\n",
    "                            # Sfy*tr_top_x\n",
    "                            # +\n",
    "                            # Sfx*tr_left_x\n",
    "                        )\n",
    "                \n",
    "            # Top right corner coefficients\n",
    "                \n",
    "            elif  cell_index().top_right_corner(k):   \n",
    "                sides = [\"t\", \"r\"]\n",
    "\n",
    "                #print(str(k) + \":Top right corner coefficients\")\n",
    "\n",
    "                #ap\n",
    "                A_x[k,k] = (rho*dx*dy/(dt**2)) + (Sfy/dy)*mu + (Sfx/dx)*(2*mu + Lambda)\n",
    "\n",
    "                #as\n",
    "                A_x[k,k-nx-2] = -(Sfy/dy)*mu\n",
    "\n",
    "                #aw\n",
    "                A_x[k, index(k).w] = -(Sfx/dx)*(2*mu + Lambda)\n",
    "\n",
    "                b_x[k] =(\n",
    "                            boundaryCellTraction.b_temp(u_old, u_old_old, k, xy)\n",
    "                            +\n",
    "                            boundaryCellTraction.b_diff(sides, k, xy, u_previous)  \n",
    "                            # (rho/(dt**2))*( 2*(u_old[k,0])*dx*dy - u_old_old[k,0]*dx*dy) \n",
    "                            # +\n",
    "                            # (Sfy/(4*dx))*mu*(\n",
    "                            #                     - 2*V.E #r\n",
    "                            #                     - 2*V.SE #r\n",
    "                            #                     + V.W\n",
    "                            #                     + V.SW\n",
    "                            #                     + V.P\n",
    "                            #                     + V.S\n",
    "                            #                 )\n",
    "                            # +\n",
    "                            # (Sfx/(4*dy))*Lambda*(\n",
    "                            #                         - 2*V.N #t\n",
    "                            #                         - 2*V.NW #t\n",
    "                            #                         + V.S\n",
    "                            #                         + V.SW\n",
    "                            #                         + V.P\n",
    "                            #                         + V.W\n",
    "                            #                     )\n",
    "                            # +\n",
    "                            # Sfy*tr_top_x\n",
    "                            # +\n",
    "                            # Sfx*tr_right_x  \n",
    "                        )\n",
    "                \n",
    "            # Center Bottom Boundaries\n",
    "\n",
    "            elif  cell_index().center_bottom(k):\n",
    "                side = \"b\"\n",
    "\n",
    "                #print(str(k) + \": Bottom Center Coefficents for Cell\")\n",
    "\n",
    "                #ap\n",
    "                A_x[k,k] = boundaryCellTraction(side, xy).a_P\n",
    "\n",
    "                #an\n",
    "                A_x[k,index(k).n] = - boundaryCellTraction(side, xy).a_N                \n",
    "                #ae\n",
    "                A_x[k, index(k).e] = - boundaryCellTraction(side, xy).a_E\n",
    "                #aw\n",
    "                A_x[k, index(k).w] = - boundaryCellTraction(side, xy).a_W\n",
    "\n",
    "                b_x[k] =(\n",
    "                            boundaryCellTraction.b_temp(u_old, u_old_old, k, xy)\n",
    "                            +\n",
    "                            boundaryCellTraction.b_diff(side, k, xy, u_previous)\n",
    "                        )                                 \n",
    "\n",
    "            # Center Top Boundaries\n",
    "\n",
    "            elif cell_index().center_top(k):\n",
    "                side = \"t\"\n",
    "\n",
    "                #print(str(k) + \": Top Center Coefficents for Cell\")\n",
    "\n",
    "                #ap\n",
    "                A_x[k,k] = boundaryCellTraction(side, xy).a_P\n",
    "                #as\n",
    "                A_x[k,index(k).s] = - boundaryCellTraction(side, xy).a_S                   \n",
    "                #ae\n",
    "                A_x[k, index(k).e] = - boundaryCellTraction(side, xy).a_E  \n",
    "                #aw\n",
    "                A_x[k, index(k).w] = - boundaryCellTraction(side, xy).a_W  \n",
    "\n",
    "                b_x[k] =(\n",
    "                            boundaryCellTraction.b_temp(u_old, u_old_old, k, xy)\n",
    "                            +\n",
    "                            boundaryCellTraction.b_diff(side, k, xy, u_previous)\n",
    "                        )\n",
    "            \n",
    "            # Center Left Boundaries\n",
    "\n",
    "            elif  cell_index().center_left(k):\n",
    "                side = \"l\"\n",
    "\n",
    "                #print(str(k) + \": Left Center Coefficents for Cell\")\n",
    "\n",
    "                #ap\n",
    "                A_x[k,k] = boundaryCellTraction(side, xy).a_P\n",
    "                #an\n",
    "                A_x[k,index(k).n] = - boundaryCellTraction(side, xy).a_N            \n",
    "                #as\n",
    "                A_x[k,index(k).s] = - boundaryCellTraction(side, xy).a_S\n",
    "                #ae\n",
    "                A_x[k,index(k).e] = - boundaryCellTraction(side, xy).a_E\n",
    "\n",
    "                # b_x[k] =(\n",
    "                #             boundaryCellTraction.b_temp(u_old, u_old_old, k, xy)\n",
    "                #             +\n",
    "                #             boundaryCellTraction.b_diff(side, k, xy, u_previous)\n",
    "                #         )\n",
    "\n",
    "                b_x[k] =(\n",
    "                            boundaryCellTraction.b_temp(u_old, u_old_old, k, xy)\n",
    "                            +\n",
    "                            boundaryCellTraction.b_diff(side, k, xy, u_previous)\n",
    "                        )\n",
    "\n",
    "            # Center Right Boundaries\n",
    "\n",
    "            elif  cell_index().center_right(k):\n",
    "                side = \"r\"\n",
    "\n",
    "                #print(str(k) + \": Right Center Coefficents for Cell\")\n",
    "\n",
    "                #ap\n",
    "                A_x[k,k] = boundaryCellTraction(side, xy).a_P\n",
    "                #an\n",
    "                A_x[k,index(k).n] = - boundaryCellTraction(side, xy).a_N            \n",
    "                #as\n",
    "                A_x[k,index(k).s] = - boundaryCellTraction(side, xy).a_S\n",
    "                #aw\n",
    "                A_x[k,index(k).w] = - boundaryCellTraction(side, xy).a_W\n",
    "\n",
    "                b_x[k] =(\n",
    "                            boundaryCellTraction.b_temp(u_old, u_old_old, k, xy)\n",
    "                            +\n",
    "                            boundaryCellTraction.b_diff(side, k, xy, u_previous)\n",
    "                        )\n",
    "\n",
    "            #### Points on Boundary ####\n",
    "\n",
    "            # Center Bottom\n",
    "\n",
    "            elif boundary_point_index().center_bottom(k):\n",
    "\n",
    "                #print(str(k) +  \": Bottom points\")\n",
    "\n",
    "                #ap\n",
    "                A_x[k,k] = 2*mu/dy\n",
    "\n",
    "                #an\n",
    "                A_x[k,index(k).n] = -2*mu/dy\n",
    "\n",
    "                #b\n",
    "                b_x[k] =(\n",
    "                        tr_bottom_x\n",
    "                        +\n",
    "                        (mu/(2*dx))*(\n",
    "                                        + V.E\n",
    "                                        - V.W\n",
    "                                    )\n",
    "                        ) \n",
    "\n",
    "            # Center Top\n",
    "\n",
    "            elif boundary_point_index().center_top(k):\n",
    "                \n",
    "                #print( str(k) + \": Center points\" )\n",
    "                \n",
    "                #ap\n",
    "                A_x[k,k] = 2*mu/dy\n",
    "\n",
    "                #as\n",
    "                A_x[k,k-nx-2] = -2*mu/dy\n",
    "\n",
    "                #b\n",
    "                b_x[k] =(\n",
    "                        tr_top_x\n",
    "                        +\n",
    "                        (mu/(2*dx))*(\n",
    "                                        - V.E\n",
    "                                        + V.W\n",
    "                                    )\n",
    "                        ) \n",
    "\n",
    "                \n",
    "            # Center Left\n",
    "\n",
    "            elif boundary_point_index().center_left(k):\n",
    "\n",
    "                #print( str(k) + \": Left points\" )\n",
    "\n",
    "                #ap\n",
    "                A_x[k,k] = (4*mu + 2*Lambda)/dx\n",
    "\n",
    "                #ae\n",
    "                A_x[k, index(k).e] = -(4*mu + 2*Lambda)/dx\n",
    "\n",
    "                #b\n",
    "                b_x[k] =(\n",
    "                        tr_left_x\n",
    "                        +\n",
    "                        (Lambda/(2*dy))*(\n",
    "                                        + V.N\n",
    "                                        - V.S\n",
    "                                    )\n",
    "                        )\n",
    "\n",
    "            # Center Right\n",
    "\n",
    "            elif boundary_point_index().center_right(k):\n",
    "\n",
    "                #print( str(k) + \": Right points\" )\n",
    "\n",
    "                #ap\n",
    "                A_x[k,k] = (4*mu + 2*Lambda)/dx\n",
    "\n",
    "                #aw\n",
    "                A_x[k, index(k).w] = -(4*mu + 2*Lambda)/dx\n",
    "\n",
    "                #b\n",
    "                b_x[k] =(\n",
    "                        tr_right_x\n",
    "                        +\n",
    "                        (Lambda/(2*dy))*(\n",
    "                                        - V.N\n",
    "                                        + V.S\n",
    "                                    )\n",
    "                        )\n",
    "\n",
    "            # Bottom Left: Bottom\n",
    "\n",
    "            elif boundary_point_index().bottom_left_bottom(k):\n",
    "\n",
    "                # print( str(k) + \": Bottom Left: Bottom points\" )\n",
    "                \n",
    "                # ap\n",
    "                A_x[k,k] = 2*mu/dy\n",
    "\n",
    "                #an\n",
    "                A_x[k,index(k).n] = -2*mu/dy\n",
    "\n",
    "                #b\n",
    "                b_x[k] =(\n",
    "                        tr_bottom_x\n",
    "                        +\n",
    "                        ((mu)/(2*dx))*(\n",
    "                                        + V.E\n",
    "                                        + V.P\n",
    "                                        - 2*V.W\n",
    "                                    )\n",
    "                        ) \n",
    "\n",
    "            # Bottom Left: Left\n",
    "\n",
    "            elif boundary_point_index().bottom_left_left(k):\n",
    "\n",
    "                #print( str(k) +  \": Bottom Left: Left points\" )\n",
    "                \n",
    "                #ap\n",
    "                A_x[k,k] = (4*mu + 2*Lambda)/dx\n",
    "\n",
    "                #ae\n",
    "                A_x[k, index(k).e] = -(4*mu + 2*Lambda)/dx\n",
    "\n",
    "                #b\n",
    "                b_x[k] =(\n",
    "                        tr_left_x\n",
    "                        +\n",
    "                        ((Lambda)/(2*dy))*(\n",
    "                                        + V.N\n",
    "                                        + V.P\n",
    "                                        - 2*V.S\n",
    "                                    )\n",
    "                        )\n",
    "            \n",
    "            # Bottom Right: Right\n",
    "\n",
    "            elif boundary_point_index().bottom_right_right(k):\n",
    "\n",
    "                #print( str(k) + \": Bottom Right: Right points\" )\n",
    "\n",
    "                #ap\n",
    "                A_x[k,k] = (4*mu + 2*Lambda)/dx\n",
    "\n",
    "                #aw\n",
    "                A_x[k, index(k).w] = -(4*mu + 2*Lambda)/dx\n",
    "\n",
    "                #b\n",
    "                b_x[k] =(\n",
    "                        tr_right_x\n",
    "                        +\n",
    "                        ((Lambda)/(2*dy))*(\n",
    "                                        - V.N\n",
    "                                        - V.P\n",
    "                                        + 2*V.S\n",
    "                                    )\n",
    "                        )\n",
    "\n",
    "            # Bottom Right: Bottom\n",
    "\n",
    "            elif boundary_point_index().bottom_right_bottom(k):\n",
    "\n",
    "                #print( str(k) + \": Bottom Right: Bottom points\" )\n",
    "\n",
    "\n",
    "                #ap\n",
    "                A_x[k,k] = 2*mu/dy\n",
    "\n",
    "                #an\n",
    "                A_x[k,index(k).n] = -2*mu/dy\n",
    "\n",
    "                #b\n",
    "                b_x[k] =(\n",
    "                        tr_bottom_x\n",
    "                        +\n",
    "                        ((mu)/(2*dx))*(\n",
    "                                        + V.E\n",
    "                                        + V.P\n",
    "                                        - 2*V.W\n",
    "                                    )\n",
    "                        )\n",
    "\n",
    "            # Top Left: Left\n",
    "\n",
    "            elif boundary_point_index().top_left_left(k):\n",
    "\n",
    "                #print( str(k) + \" Top Left: Left points\" )\n",
    "\n",
    "                \n",
    "                #ap\n",
    "                A_x[k,k] = (4*mu + 2*Lambda)/dx\n",
    "\n",
    "                #ae\n",
    "                A_x[k, index(k).e] = -(4*mu + 2*Lambda)/dx\n",
    "\n",
    "                #b\n",
    "                b_x[k] =(\n",
    "                        tr_left_x\n",
    "                        +\n",
    "                        ((Lambda)/(2*dy))*(\n",
    "                                        + V.N\n",
    "                                        + V.P\n",
    "                                        - 2*V.S\n",
    "                                    )\n",
    "                        )\n",
    "\n",
    "            # Top Left: Top\n",
    "\n",
    "            elif boundary_point_index().top_left_top(k):\n",
    "\n",
    "                #print( str(k) + \" Top Left: Top points\" )\n",
    "\n",
    "                \n",
    "                #ap\n",
    "                A_x[k,k] = 2*mu/dy\n",
    "\n",
    "                #as\n",
    "                A_x[k,k-nx-2] = -2*mu/dy\n",
    "\n",
    "                #b\n",
    "                b_x[k] =(\n",
    "                        tr_top_x\n",
    "                        +\n",
    "                        ((mu)/(2*dx))*(\n",
    "                                        - V.E\n",
    "                                        - V.P\n",
    "                                        + 2*V.W\n",
    "                                    )\n",
    "                        )\n",
    "\n",
    "            # Top Right: Right\n",
    "\n",
    "            elif boundary_point_index().top_right_right(k):\n",
    "\n",
    "                #print( str(k) + \" Top Right: Right points\" )\n",
    "\n",
    "                #ap\n",
    "                A_x[k,k] = (4*mu + 2*Lambda)/dx\n",
    "\n",
    "                #aw\n",
    "                A_x[k, index(k).w] = -(4*mu + 2*Lambda)/dx\n",
    "\n",
    "                #b\n",
    "                b_x[k] =(\n",
    "                        tr_right_x\n",
    "                        +\n",
    "                        ((Lambda)/(2*dy))*(\n",
    "                                                - V.N\n",
    "                                                - V.P\n",
    "                                                + 2*V.S\n",
    "                                            )\n",
    "                        )\n",
    "\n",
    "            # Top Right: Top\n",
    "            \n",
    "            elif boundary_point_index().top_right_top(k):\n",
    "\n",
    "                #print( str(k) + \" Top Right: Top points\" )\n",
    "\n",
    "                #ap\n",
    "                A_x[k,k] = 2*mu/dy\n",
    "\n",
    "                #as\n",
    "                A_x[k,k-nx-2] = -2*mu/dy\n",
    "\n",
    "                #b\n",
    "                b_x[k] =(\n",
    "                        tr_top_x\n",
    "                        +\n",
    "                        ((mu)/(2*dx))*(\n",
    "                                            - V.E\n",
    "                                            - V.P\n",
    "                                            + 2*V.W\n",
    "                                    )\n",
    "                        ) \n",
    "            # Corner Points\n",
    "\n",
    "            elif boundary_point_index().bottom_left_corner(k):\n",
    "\n",
    "                #print(str(k) + \": Bottom Left Corner Point on Boundary\")\n",
    "\n",
    "                A_x[k,k] = 4\n",
    "\n",
    "                A_x[k,index(k).n] = 2 \n",
    "                A_x[k,index(k).e] = 2\n",
    "\n",
    "                A_x[k,index(k).ne] = -15\n",
    "\n",
    "                A_x[k,index(k).dir([\"n\", \"n\"])] = 2 \n",
    "                A_x[k,index(k).dir([\"e\", \"e\"])] = 2\n",
    "\n",
    "                A_x[k,index(k).dir([\"n\", \"ne\"])] = 1\n",
    "                A_x[k,index(k).dir([\"ne\", \"ne\"])] = 1\n",
    "                A_x[k,index(k).dir([\"e\", \"ne\"])] = 1\n",
    "\n",
    "                b_x[k] = 0\n",
    "\n",
    "            elif boundary_point_index().bottom_right_corner(k):\n",
    "                #print(str(k) + \": Bottom Right Corner Point on Boundary\")\n",
    "                A_x[k,k] = 4\n",
    "\n",
    "                A_x[k,index(k).n] = 2 \n",
    "                A_x[k,index(k).w] = 2\n",
    "\n",
    "                A_x[k,index(k).nw] = -15\n",
    "\n",
    "                A_x[k,index(k).dir([\"n\", \"n\"])] = 2 \n",
    "                A_x[k,index(k).dir([\"w\", \"w\"])] = 2\n",
    "\n",
    "                A_x[k,index(k).dir([\"n\", \"nw\"])] = 1\n",
    "                A_x[k,index(k).dir([\"nw\", \"nw\"])] = 1\n",
    "                A_x[k,index(k).dir([\"w\", \"nw\"])] = 1\n",
    "\n",
    "                b_x[k] = 0\n",
    "\n",
    "            elif boundary_point_index().top_left_corner(k):\n",
    "                #print(str(k) + \": Top Left Corner Point on Boundary\")\n",
    "                A_x[k,k] = 4\n",
    "\n",
    "                A_x[k,index(k).s] = 2 \n",
    "                A_x[k,index(k).e] = 2\n",
    "\n",
    "                A_x[k,index(k).se] = -15\n",
    "\n",
    "                A_x[k,index(k).dir([\"s\", \"s\"])] = 2 \n",
    "                A_x[k,index(k).dir([\"e\", \"e\"])] = 2\n",
    "\n",
    "                A_x[k,index(k).dir([\"s\", \"se\"])] = 1\n",
    "                A_x[k,index(k).dir([\"se\", \"se\"])] = 1\n",
    "                A_x[k,index(k).dir([\"e\", \"se\"])] = 1\n",
    "\n",
    "                b_x[k] = 0\n",
    "\n",
    "            elif boundary_point_index().top_right_corner(k):\n",
    "                #print(str(k) + \": Top Right Corner Point on Boundary\")\n",
    "                A_x[k,k] = 4\n",
    "\n",
    "                A_x[k,index(k).s] = 2 \n",
    "                A_x[k,index(k).w] = 2\n",
    "\n",
    "                A_x[k,index(k).sw] = -15\n",
    "\n",
    "                A_x[k,index(k).dir([\"s\", \"s\"])] = 2 \n",
    "                A_x[k,index(k).dir([\"w\", \"w\"])] = 2\n",
    "\n",
    "                A_x[k,index(k).dir([\"s\", \"sw\"])] = 1\n",
    "                A_x[k,index(k).dir([\"sw\", \"sw\"])] = 1\n",
    "                A_x[k,index(k).dir([\"w\", \"sw\"])] = 1\n",
    "\n",
    "                b_x[k] = 0\n",
    "                \n",
    "            else:\n",
    "\n",
    "                # print(str(k) + \": NO BC Cell\")\n",
    "\n",
    "                b_x[k] = (\n",
    "                            A.b_temp(u_old, u_old_old, k, \"x\")\n",
    "                            +\n",
    "                            A.b_diff(k, \"x\", u_previous)\n",
    "                        )\n",
    "\n",
    "        # saveArray(str(time) + \"/A_x_\" + str(icorr) , A_x.todense())   \n",
    "        # saveArray(str(time) + \"/b_x_\" + str(icorr), b_x)  \n",
    "\n",
    "        ## Solve the x-equation\n",
    "        \n",
    "        Ux = spsolve(A_x, b_x)\n",
    "        Ux = np.array(Ux)\n",
    "\n",
    "        # #print(Ux)\n",
    "\n",
    "        saveArray(str(time) + \"/Ux_\" + str(icorr), Ux)\n",
    "        \n",
    "        ## Prepare matrix A and b vector for the y-equation\n",
    "        \n",
    "        A_y = A(\"y\").createMatrix()\n",
    "        \n",
    "        for k in np.arange(0,(nx+2)*(ny+2)):   # j is the cell number\n",
    "\n",
    "            xy = \"y\"\n",
    "\n",
    "\n",
    "            U = displacement(k, u_previous, 0)\n",
    "            V = displacement(k, u_previous, 1)\n",
    " \n",
    "            #Bottom left corner coefficients\n",
    "            \n",
    "            if cell_index().bottom_left_corner(k):\n",
    "                sides = [\"b\", \"l\"]\n",
    "\n",
    "                #print(str(k) + \": Bottom left corner coefficients\")\n",
    "\n",
    "                #ap\n",
    "                A_y[k,k] = boundaryCellTraction(sides, xy).a_P\n",
    "\n",
    "                #an\n",
    "                A_y[k,index(k).n] = - boundaryCellTraction(sides, xy).a_N\n",
    "\n",
    "                #ae\n",
    "                A_y[k, index(k).e] = - boundaryCellTraction(sides, xy).a_E\n",
    "\n",
    "                b_y[k] =(\n",
    "                            boundaryCellTraction.b_temp(u_old, u_old_old, k, xy)\n",
    "                            +\n",
    "                            boundaryCellTraction.b_diff(sides, k, xy, u_previous)\n",
    "                        )   \n",
    "\n",
    "                   #Bottom right corner coefficients\n",
    "                \n",
    "            elif  cell_index().bottom_right_corner(k):\n",
    "                sides = [\"b\", \"r\"]\n",
    "\n",
    "                #print(str(k) + \": Bottom right corner coefficients\")\n",
    "\n",
    "                #ap\n",
    "                A_y[k,k] = boundaryCellTraction(sides, xy).a_P\n",
    "\n",
    "                #an\n",
    "                A_y[k,index(k).n] = - boundaryCellTraction(sides, xy).a_N\n",
    "\n",
    "                #aw\n",
    "                A_y[k, index(k).w] = - boundaryCellTraction(sides, xy).a_W\n",
    "\n",
    "                b_y[k] =(\n",
    "                            boundaryCellTraction.b_temp(u_old, u_old_old, k, xy)\n",
    "                            +\n",
    "                            boundaryCellTraction.b_diff(sides, k, xy, u_previous)   \n",
    "                        )\n",
    "                     \n",
    "            #Top left corner coefficients\n",
    "                \n",
    "            elif  cell_index().top_left_corner(k):\n",
    "                sides = [\"t\", \"l\"]\n",
    "\n",
    "                #print(str(k) + \":Top Left corner coefficients\")\n",
    "\n",
    "                #ap                \n",
    "                A_y[k,k] = boundaryCellTraction(sides, xy).a_P\n",
    "                \n",
    "                #as\n",
    "                A_y[k,index(k).s] = - boundaryCellTraction(sides, xy).a_S\n",
    "\n",
    "                #ae                \n",
    "                A_y[k, index(k).e] = - boundaryCellTraction(sides, xy).a_E\n",
    "                \n",
    "                b_y[k] =(\n",
    "                            boundaryCellTraction.b_temp(u_old, u_old_old, k, xy)\n",
    "                            +\n",
    "                            boundaryCellTraction.b_diff(sides, k, xy, u_previous)  \n",
    "                        )\n",
    "                \n",
    "            #Top right corner coefficients\n",
    "                \n",
    "            elif  cell_index().top_right_corner(k):   \n",
    "                sides = [\"t\", \"r\"]\n",
    "\n",
    "                #print(str(k) + \":Top right corner coefficients\")\n",
    "\n",
    "                #ap\n",
    "                A_y[k,k] = boundaryCellTraction(sides, xy).a_P\n",
    "\n",
    "                #as\n",
    "                A_y[k,index(k).s] = - boundaryCellTraction(sides, xy).a_S\n",
    "\n",
    "                #aw\n",
    "                A_y[k, index(k).w] = - boundaryCellTraction(sides, xy).a_W\n",
    "\n",
    "                b_y[k] =(\n",
    "                            boundaryCellTraction.b_temp(u_old, u_old_old, k, xy)\n",
    "                            +\n",
    "                            boundaryCellTraction.b_diff(sides, k, xy, u_previous) \n",
    "                        )\n",
    "            \n",
    "            # Center Bottom Boundaries\n",
    "\n",
    "            elif  cell_index().center_bottom(k):\n",
    "                side = \"b\"\n",
    "\n",
    "                #print(str(k) + \": Bottom Center Coefficents for Cell\")\n",
    "\n",
    "                #ap\n",
    "                A_y[k,k] = boundaryCellTraction(side, xy).a_P\n",
    "\n",
    "                #an\n",
    "                A_y[k,index(k).n] = - boundaryCellTraction(side, xy).a_N                \n",
    "                #ae\n",
    "                A_y[k, index(k).e] = - boundaryCellTraction(side, xy).a_E\n",
    "                #aw\n",
    "                A_y[k, index(k).w] = - boundaryCellTraction(side, xy).a_W\n",
    "\n",
    "                b_y[k] =(\n",
    "                            boundaryCellTraction.b_temp(u_old, u_old_old, k, xy)\n",
    "                            +\n",
    "                            boundaryCellTraction.b_diff(side, k, xy, u_previous)\n",
    "                        )\n",
    "\n",
    "            # Center Top Boundaries\n",
    "\n",
    "            elif cell_index().center_top(k):\n",
    "                side = \"t\"\n",
    "\n",
    "                #print(str(k) + \": Top Center Coefficents for Cell\")\n",
    "\n",
    "                #ap\n",
    "                A_y[k,k] = boundaryCellTraction(side, xy).a_P\n",
    "                #as\n",
    "                A_y[k,index(k).s] = - boundaryCellTraction(side, xy).a_S                   \n",
    "                #ae\n",
    "                A_y[k, index(k).e] = - boundaryCellTraction(side, xy).a_E  \n",
    "                #aw\n",
    "                A_y[k, index(k).w] = - boundaryCellTraction(side, xy).a_W \n",
    "\n",
    "                b_y[k] =(\n",
    "                            boundaryCellTraction.b_temp(u_old, u_old_old, k, xy)\n",
    "                            +\n",
    "                            boundaryCellTraction.b_diff(side, k, xy, u_previous)\n",
    "                        )\n",
    "\n",
    "            # Center Left Boundaries\n",
    "\n",
    "            elif  cell_index().center_left(k):\n",
    "\n",
    "                side = \"l\"\n",
    "\n",
    "                #print(str(k) + \": Left Center Coefficents for Cell\")\n",
    "\n",
    "                #ap\n",
    "                A_y[k,k] = boundaryCellTraction(side, xy).a_P\n",
    "                #an\n",
    "                A_y[k,index(k).n] = - boundaryCellTraction(side, xy).a_N            \n",
    "                #as\n",
    "                A_y[k,index(k).s] = - boundaryCellTraction(side, xy).a_S\n",
    "                #ae\n",
    "                A_y[k,index(k).e] = - boundaryCellTraction(side, xy).a_E\n",
    "\n",
    "                b_y[k] =(\n",
    "                            boundaryCellTraction.b_temp(u_old, u_old_old, k, xy)\n",
    "                            +\n",
    "                            boundaryCellTraction.b_diff(side, k, xy, u_previous)\n",
    "                        )\n",
    "\n",
    "            # Center Right Boundaries\n",
    "\n",
    "            elif  cell_index().center_right(k):\n",
    "                side = \"r\"\n",
    "\n",
    "                #print(str(k) + \": Right Center Coefficents for Cell\")\n",
    "\n",
    "                #ap\n",
    "                A_y[k,k] = boundaryCellTraction(side, xy).a_P\n",
    "                #an\n",
    "                A_y[k,index(k).n] = - boundaryCellTraction(side, xy).a_N            \n",
    "                #as\n",
    "                A_y[k,index(k).s] = - boundaryCellTraction(side, xy).a_S\n",
    "                #aw\n",
    "                A_y[k,index(k).w] = - boundaryCellTraction(side, xy).a_W\n",
    "\n",
    "                b_y[k] =(\n",
    "                            boundaryCellTraction.b_temp(u_old, u_old_old, k, xy)\n",
    "                            +\n",
    "                            boundaryCellTraction.b_diff(side, k, xy, u_previous)\n",
    "                        )\n",
    "\n",
    "\n",
    "            #### Points on Boundary ####\n",
    "\n",
    "            # Center Bottom\n",
    "\n",
    "            elif boundary_point_index().center_bottom(k):\n",
    "\n",
    "                #print(str(k) +  \": Bottom points\")\n",
    "\n",
    "                #ap\n",
    "                A_y[k,k] = (4*mu + 2*Lambda)/dy\n",
    "\n",
    "                #an\n",
    "                A_y[k,index(k).n] = -(4*mu + 2*Lambda)/dy\n",
    "\n",
    "                #b\n",
    "                b_y[k] =(\n",
    "                        tr_bottom_y\n",
    "                        +\n",
    "                        (Lambda/(2*dx))*(\n",
    "                                        + U.E\n",
    "                                        - U.W\n",
    "                                    )\n",
    "                        ) \n",
    "\n",
    "            # Center Top\n",
    "\n",
    "            elif boundary_point_index().center_top(k):\n",
    "                \n",
    "                #print( str(k) + \": Center points\" )\n",
    "                \n",
    "                #ap\n",
    "                A_y[k,k] = (4*mu + 2*Lambda)/dy\n",
    "\n",
    "                #as\n",
    "                A_y[k,k-nx-2] = - (4*mu + 2*Lambda)/dy\n",
    "\n",
    "                #b\n",
    "                b_y[k] =(\n",
    "                        tr_top_y\n",
    "                        +\n",
    "                        (Lambda/(2*dx))*(\n",
    "                                        - U.E\n",
    "                                        + U.W\n",
    "                                    )\n",
    "                        ) \n",
    "                \n",
    "            # Center Left\n",
    "\n",
    "            elif boundary_point_index().center_left(k):\n",
    "\n",
    "                #print( str(k) + \": Left points\" )\n",
    "\n",
    "                #ap\n",
    "                A_y[k,k] = (2*mu)/dx\n",
    "\n",
    "                #ae\n",
    "                A_y[k, index(k).e] = -(2*mu)/dx\n",
    "\n",
    "                #b\n",
    "                b_y[k] =(\n",
    "                        tr_left_y\n",
    "                        +\n",
    "                        (mu/(2*dy))*(\n",
    "                                        + U.N\n",
    "                                        - U.S\n",
    "                                    )\n",
    "                        )\n",
    "\n",
    "            # Center Right\n",
    "\n",
    "            elif boundary_point_index().center_right(k):\n",
    "\n",
    "                #print( str(k) + \": Right points\" )\n",
    "\n",
    "                #ap\n",
    "                A_y[k,k] = (2*mu)/dx\n",
    "\n",
    "                #aw\n",
    "                A_y[k, index(k).w] = -(2*mu)/dx\n",
    "\n",
    "                #b\n",
    "                b_y[k] =(\n",
    "                        tr_right_y\n",
    "                        +\n",
    "                        (mu/(2*dy))*(\n",
    "                                        - U.N\n",
    "                                        + U.S\n",
    "                                    )\n",
    "                        )\n",
    "\n",
    "            # Bottom Left: Bottom\n",
    "\n",
    "            elif boundary_point_index().bottom_left_bottom(k):\n",
    "\n",
    "                #print( str(k) + \": Bottom Left: Bottom points\" )\n",
    "                #ap\n",
    "                A_y[k,k] = (4*mu + 2*Lambda)/dx      \n",
    "\n",
    "                #an\n",
    "                A_y[k,index(k).n] = -(4*mu + 2*Lambda)/dx\n",
    "\n",
    "                #b\n",
    "                b_y[k] =(\n",
    "                        tr_bottom_y\n",
    "                        +\n",
    "                        ((mu)/(2*dx))*(\n",
    "                                        + U.E\n",
    "                                        + U.P\n",
    "                                        - 2*U.W\n",
    "                                    )\n",
    "                        ) \n",
    "            # Bottom Left: Left\n",
    "\n",
    "            elif boundary_point_index().bottom_left_left(k):\n",
    "\n",
    "                #print( str(k) +  \": Bottom Left: Left points\" )\n",
    "                \n",
    "                #ap\n",
    "                A_y[k,k] = (2*mu)/dx\n",
    "\n",
    "                #ae\n",
    "                A_y[k, index(k).e] = -(2*mu)/dx\n",
    "\n",
    "                #b\n",
    "                b_y[k] =(\n",
    "                        tr_left_y\n",
    "                        +\n",
    "                        ((mu)/(2*dy))*(\n",
    "                                        + U.N\n",
    "                                        + U.P\n",
    "                                        - 2*U.S\n",
    "                                    )\n",
    "                        )\n",
    "            \n",
    "            # Bottom Right: Right\n",
    "\n",
    "            elif boundary_point_index().bottom_right_right(k):\n",
    "\n",
    "                #print( str(k) + \": Bottom Right: Right points\" )\n",
    "\n",
    "                #ap\n",
    "                A_y[k,k] = (2*mu)/dx\n",
    "\n",
    "                #aw\n",
    "                A_y[k, index(k).w] = -(2*mu)/dx\n",
    "\n",
    "                #b\n",
    "                b_y[k] =(\n",
    "                        tr_right_y\n",
    "                        +\n",
    "                        ((mu)/(2*dy))*(\n",
    "                                        - U.N\n",
    "                                        - U.P\n",
    "                                        + 2*U.S\n",
    "                                    )\n",
    "                        )\n",
    "\n",
    "            # Bottom Right: Bottom\n",
    "\n",
    "            elif boundary_point_index().bottom_right_bottom(k):\n",
    "\n",
    "                #print( str(k) + \": Bottom Right: Bottom points\" )\n",
    "\n",
    "\n",
    "                #ap\n",
    "                A_y[k,k] = (4*mu + 2*Lambda)/dy\n",
    "\n",
    "                #an\n",
    "                A_y[k,index(k).n] = -(4*mu + 2*Lambda)/dy\n",
    "\n",
    "                #b\n",
    "                b_y[k] =(\n",
    "                        tr_bottom_y\n",
    "                        +\n",
    "                        ((Lambda)/(2*dx))*(\n",
    "                                        + U.E\n",
    "                                        + U.P\n",
    "                                        - 2*U.W\n",
    "                                    )\n",
    "                        )\n",
    "\n",
    "            # Top Left: Left\n",
    "\n",
    "            elif boundary_point_index().top_left_left(k):\n",
    "\n",
    "                #print( str(k) + \" Top Left: Left points\" )\n",
    "\n",
    "                \n",
    "                #ap\n",
    "                A_y[k,k] = 2*mu/dx\n",
    "\n",
    "                #ae\n",
    "                A_y[k, index(k).e] = - 2*mu/dx\n",
    "\n",
    "                #b\n",
    "                b_y[k] =(\n",
    "                        tr_left_y\n",
    "                        +\n",
    "                        ((mu)/(2*dy))*(\n",
    "                                        + U.N\n",
    "                                        + U.P\n",
    "                                        - 2*U.S\n",
    "                                    )\n",
    "                        )\n",
    "\n",
    "            # Top Left: Top\n",
    "\n",
    "            elif boundary_point_index().top_left_top(k):\n",
    "\n",
    "                #print( str(k) + \" Top Left: Top points\" )\n",
    "\n",
    "                \n",
    "                #ap\n",
    "                A_y[k,k] = (4*mu + 2*Lambda)/dy\n",
    "\n",
    "                #as\n",
    "                A_y[k,k-nx-2] = -(4*mu + 2*Lambda)/dy\n",
    "\n",
    "                #b\n",
    "                b_y[k] =(\n",
    "                        tr_top_y\n",
    "                        +\n",
    "                        ((Lambda)/(2*dx))*(\n",
    "                                        - U.E\n",
    "                                        - U.P\n",
    "                                        + 2*U.W\n",
    "                                    )\n",
    "                        )\n",
    "\n",
    "            # Top Right: Right\n",
    "\n",
    "            elif boundary_point_index().top_right_right(k):\n",
    "\n",
    "                #print( str(k) + \" Top Right: Right points\" )\n",
    "\n",
    "                #ap\n",
    "                A_y[k,k] =  2*mu/dx\n",
    "\n",
    "                #aw\n",
    "                A_y[k, index(k).w] = - 2*mu/dx\n",
    "\n",
    "                #b\n",
    "                b_y[k] =(\n",
    "                        tr_right_y\n",
    "                        +\n",
    "                        ((mu)/(2*dy))*(\n",
    "                                        - U.N\n",
    "                                        - U.P\n",
    "                                        + 2*U.S\n",
    "                                    )\n",
    "                        )\n",
    "\n",
    "            # Top Right: Top\n",
    "            \n",
    "            elif boundary_point_index().top_right_top(k):\n",
    "\n",
    "                #print( str(k) + \" Top Right: Top points\" )\n",
    "\n",
    "                #ap\n",
    "                A_y[k,k] = (4*Lambda + 2*mu)/dy\n",
    "\n",
    "                #as\n",
    "                A_y[k,k-nx-2] = -(4*Lambda + 2*mu)/dy\n",
    "\n",
    "                #b\n",
    "                b_y[k] =(\n",
    "                        tr_top_y\n",
    "                        +\n",
    "                        ((Lambda)/(2*dx))*(\n",
    "                                        - U.E\n",
    "                                        - U.P\n",
    "                                        + 2*U.W\n",
    "                                    )\n",
    "                        ) \n",
    "            # # Corner Points\n",
    "            elif boundary_point_index().bottom_left_corner(k):\n",
    "\n",
    "                #print(str(k) + \": Bottom Left Corner Point on Boundary\")\n",
    "\n",
    "                A_y[k,k] = 4\n",
    "\n",
    "                A_y[k,index(k).n] = 2 \n",
    "                A_y[k,index(k).e] = 2\n",
    "\n",
    "                A_y[k,index(k).ne] = -15\n",
    "\n",
    "                A_y[k,index(k).dir([\"n\", \"n\"])] = 2 \n",
    "                A_y[k,index(k).dir([\"e\", \"e\"])] = 2\n",
    "\n",
    "                A_y[k,index(k).dir([\"n\", \"ne\"])] = 1\n",
    "                A_y[k,index(k).dir([\"ne\", \"ne\"])] = 1\n",
    "                A_y[k,index(k).dir([\"e\", \"ne\"])] = 1\n",
    "\n",
    "                b_y[k] = 0\n",
    "\n",
    "            elif boundary_point_index().bottom_right_corner(k):\n",
    "                #print(str(k) + \": Bottom Right Corner Point on Boundary\")\n",
    "                A_y[k,k] = 4\n",
    "\n",
    "                A_y[k,index(k).n] = 2 \n",
    "                A_y[k,index(k).w] = 2\n",
    "\n",
    "                A_y[k,index(k).nw] = -15\n",
    "\n",
    "                A_y[k,index(k).dir([\"n\", \"n\"])] = 2 \n",
    "                A_y[k,index(k).dir([\"w\", \"w\"])] = 2\n",
    "\n",
    "                A_y[k,index(k).dir([\"n\", \"nw\"])] = 1\n",
    "                A_y[k,index(k).dir([\"nw\", \"nw\"])] = 1\n",
    "                A_y[k,index(k).dir([\"w\", \"nw\"])] = 1\n",
    "\n",
    "                b_y[k] = 0\n",
    "\n",
    "            elif boundary_point_index().top_left_corner(k):\n",
    "                #print(str(k) + \": Top Left Corner Point on Boundary\")\n",
    "                A_y[k,k] = 4\n",
    "\n",
    "                A_y[k,index(k).s] = 2 \n",
    "                A_y[k,index(k).e] = 2\n",
    "\n",
    "                A_y[k,index(k).se] = -15\n",
    "\n",
    "                A_y[k,index(k).dir([\"s\", \"s\"])] = 2 \n",
    "                A_y[k,index(k).dir([\"e\", \"e\"])] = 2\n",
    "\n",
    "                A_y[k,index(k).dir([\"s\", \"se\"])] = 1\n",
    "                A_y[k,index(k).dir([\"se\", \"se\"])] = 1\n",
    "                A_y[k,index(k).dir([\"e\", \"se\"])] = 1\n",
    "\n",
    "                b_y[k] = 0\n",
    "\n",
    "            elif boundary_point_index().top_right_corner(k):\n",
    "                #print(str(k) + \": Top Right Corner Point on Boundary\")\n",
    "                A_y[k,k] = 4\n",
    "\n",
    "                A_y[k,index(k).s] = 2 \n",
    "                A_y[k,index(k).w] = 2\n",
    "\n",
    "                A_y[k,index(k).sw] = -15\n",
    "\n",
    "                A_y[k,index(k).dir([\"s\", \"s\"])] = 2 \n",
    "                A_y[k,index(k).dir([\"w\", \"w\"])] = 2\n",
    "\n",
    "                A_y[k,index(k).dir([\"s\", \"sw\"])] = 1\n",
    "                A_y[k,index(k).dir([\"sw\", \"sw\"])] = 1\n",
    "                A_y[k,index(k).dir([\"w\", \"sw\"])] = 1\n",
    "\n",
    "                b_y[k] = 0\n",
    "            \n",
    "\n",
    "            else:\n",
    "\n",
    "                #print(str(k) + \": NO BC Cell\")\n",
    "\n",
    "                b_y[k] = (\n",
    "                            A.b_temp(u_old, u_old_old, k, \"y\")\n",
    "                            +\n",
    "                            A.b_diff(k, \"y\", u_previous)\n",
    "                        )\n",
    "        # saveArray(str(time) + \"/A_y_\" + str(icorr) , A_y)\n",
    "        # saveArray(str(time) + \"/b_y_\" + str(icorr), b_y)       \n",
    "                \n",
    "        ## Solve the y-equation\n",
    "        Uy = spsolve(A_y, b_y)\n",
    "        Uy = np.array(Uy)\n",
    "\n",
    "        saveArray(str(time) + \"/Uy_\" + str(icorr), Uy)\n",
    "        \n",
    "        # ## Update U.New with new x and y displacements\n",
    "\n",
    "        u_new1 = np.vstack((Ux, Uy)).T\n",
    "        saveArray (str(time) + \"/U_new1_\" + str(icorr), u_new1)    \n",
    "        saveArray (str(time) + \"/u_previous_\" + str(icorr), u_previous)\n",
    "\n",
    "        # # U.New[:,0] = Ux\n",
    "        # # U.New[:,1] = Uy\n",
    "        \n",
    "        ## Calculate the residual of each iteration\n",
    "        \n",
    "        normFactor = np.max(u_new1)\n",
    "        residual = math.sqrt(np.mean((u_new1 - u_previous)**2))/normFactor\n",
    "        tolerance = 1e-3\n",
    "\n",
    "        u_new = u_new1\n",
    "    \n",
    "        ##print out residual of each iteration\n",
    "        print(\"icorr = {:01d}, Residual = {:.20f}, normFactor = {:.20f}\".format(icorr, residual, normFactor))\n",
    "             \n",
    "        ## Convergence check\n",
    "        \n",
    "        if residual < tolerance:\n",
    "            \n",
    "            break\n",
    "            \n",
    "        elif icorr > maxcorr:\n",
    "            \n",
    "            break            \n",
    "        \n",
    "        icorr = icorr + 1\n",
    "    \n",
    "    ## Update variables\n",
    "    \n",
    "    u_old_old = u_old\n",
    "    u_old = u_new1\n",
    "    \n",
    "    # ## Add the boundary conditions to the solution matrices\n",
    "    u_reshape_x = u_new[:,0].reshape(nx+2, ny+2)\n",
    "    u_reshape_y = u_new[:,1].reshape(nx+2, ny+2)\n",
    "    \n",
    "    # #Boundary conditions for u matrix\n",
    "    U = np.zeros((nx+2,ny+2))\n",
    "    V = np.zeros((nx+2,ny+2))\n",
    " \n",
    "    U[:, :] = u_reshape_x\n",
    "    V[:, :] = u_reshape_y \n",
    "\n",
    "    #Modulus of displacement\n",
    "\n",
    "    disp_mod = np.sqrt((U**2) + (V**2))\n",
    "    disp_mod_converted = disp_mod*1e6 #Convert displacement to micrometers\n",
    "    \n",
    "#     # ## Plot the results\n",
    "\n",
    "    import plotly.graph_objects as go\n",
    "\n",
    "    disp_mod = np.sqrt((U**2) + (V**2))*1e-10\n",
    "\n",
    "    dispx, dispy = np.meshgrid(x, y)\n",
    "    fig = go.Figure(data=[go.Surface(z=disp_mod_converted, x=dispx, y=dispy)])\n",
    "    \n",
    "fig.show()   \n",
    "\n",
    "print(\"U graph\")\n",
    "fig = go.Figure(data=[go.Surface(z=U, x=dispx, y=dispy)])\n",
    "\n",
    "fig.show()   \n",
    "\n",
    "print(\"V graph\")\n",
    "fig = go.Figure(data=[go.Surface(z=V, x=dispx, y=dispy)])\n",
    "\n",
    "fig.show()   \n",
    "\n"
   ]
  },
  {
   "cell_type": "code",
   "execution_count": 71,
   "metadata": {},
   "outputs": [
    {
     "name": "stdout",
     "output_type": "stream",
     "text": [
      "(100, 100)\n"
     ]
    },
    {
     "data": {
      "text/plain": [
       "<matplotlib.collections.PathCollection at 0x7fc37a4a6040>"
      ]
     },
     "execution_count": 71,
     "metadata": {},
     "output_type": "execute_result"
    },
    {
     "data": {
      "image/png": "[encoded data removed]",
      "text/plain": [
       "<Figure size 720x720 with 1 Axes>"
      ]
     },
     "metadata": {
      "needs_background": "light"
     },
     "output_type": "display_data"
    }
   ],
   "source": [
    "from matplotlib import pyplot as plt\n",
    "\n",
    "plt.figure(figsize=(10, 10))\n",
    "\n",
    "\n",
    "# Displacement Scatter:\n",
    "\n",
    "#\n",
    "x_values = (dispx.reshape((nx+2)*(ny+2), 1) + u_new[:, 0])#*scale\n",
    "y_values = (dispy.reshape((nx+2)*(ny+2), 1) + u_new[:, 1])#*scale\n",
    "\n",
    "print(x_values.shape)\n",
    "\n",
    "plt.scatter(x_values, y_values, s=1)"
   ]
  },
  {
   "cell_type": "code",
   "execution_count": 72,
   "metadata": {},
   "outputs": [
    {
     "name": "stdout",
     "output_type": "stream",
     "text": [
      "0 10\n",
      "10 20\n",
      "20 30\n",
      "30 40\n",
      "40 50\n",
      "50 60\n",
      "60 70\n",
      "70 80\n",
      "80 90\n",
      "90 100\n"
     ]
    },
    {
     "data": {
      "text/plain": [
       "array([[-1.32835031e-21],\n",
       "       [ 6.25000000e-04],\n",
       "       [ 1.87500000e-03],\n",
       "       [ 3.12500000e-03],\n",
       "       [ 4.37500000e-03],\n",
       "       [ 5.62500000e-03],\n",
       "       [ 6.87500000e-03],\n",
       "       [ 8.12500000e-03],\n",
       "       [ 9.37500000e-03],\n",
       "       [ 1.00000000e-02]])"
      ]
     },
     "execution_count": 72,
     "metadata": {},
     "output_type": "execute_result"
    },
    {
     "data": {
      "image/png": "[encoded data removed]",
      "text/plain": [
       "<Figure size 720x720 with 1 Axes>"
      ]
     },
     "metadata": {
      "needs_background": "light"
     },
     "output_type": "display_data"
    },
    {
     "data": {
      "image/png": "[encoded data removed]",
      "text/plain": [
       "<Figure size 720x720 with 1 Axes>"
      ]
     },
     "metadata": {
      "needs_background": "light"
     },
     "output_type": "display_data"
    },
    {
     "data": {
      "image/png": "[encoded data removed]",
      "text/plain": [
       "<Figure size 720x720 with 1 Axes>"
      ]
     },
     "metadata": {
      "needs_background": "light"
     },
     "output_type": "display_data"
    },
    {
     "data": {
      "image/png": "[encoded data removed]",
      "text/plain": [
       "<Figure size 720x720 with 1 Axes>"
      ]
     },
     "metadata": {
      "needs_background": "light"
     },
     "output_type": "display_data"
    },
    {
     "data": {
      "image/png": "[encoded data removed]",
      "text/plain": [
       "<Figure size 720x720 with 1 Axes>"
      ]
     },
     "metadata": {
      "needs_background": "light"
     },
     "output_type": "display_data"
    },
    {
     "data": {
      "image/png": "[encoded data removed]",
      "text/plain": [
       "<Figure size 720x720 with 1 Axes>"
      ]
     },
     "metadata": {
      "needs_background": "light"
     },
     "output_type": "display_data"
    },
    {
     "data": {
      "image/png": "[encoded data removed]",
      "text/plain": [
       "<Figure size 720x720 with 1 Axes>"
      ]
     },
     "metadata": {
      "needs_background": "light"
     },
     "output_type": "display_data"
    },
    {
     "data": {
      "image/png": "[encoded data removed]",
      "text/plain": [
       "<Figure size 720x720 with 1 Axes>"
      ]
     },
     "metadata": {
      "needs_background": "light"
     },
     "output_type": "display_data"
    },
    {
     "data": {
      "image/png": "[encoded data removed]",
      "text/plain": [
       "<Figure size 720x720 with 1 Axes>"
      ]
     },
     "metadata": {
      "needs_background": "light"
     },
     "output_type": "display_data"
    },
    {
     "data": {
      "image/png": "[encoded data removed]",
      "text/plain": [
       "<Figure size 720x720 with 1 Axes>"
      ]
     },
     "metadata": {
      "needs_background": "light"
     },
     "output_type": "display_data"
    }
   ],
   "source": [
    "for i in np.arange(0,ny+2):\n",
    "    \n",
    "    plt.figure(figsize=(10, 10))\n",
    "\n",
    "    print(str(0+(i*10)), str(10+(i*10)))\n",
    "    \n",
    "    x_values = dispx.reshape((nx+2)*(ny+2), 1)[0+(i*10):10+(i*10)] + u_new[:,0].reshape((nx+2)*(ny+2), 1)[0:10]\n",
    "\n",
    "    y_values = u_new[:,1].reshape((nx+2)*(ny+2), 1)[0:10]\n",
    "\n",
    "    plt.plot(x_values, y_values)\n",
    "    plt.title(str(i))\n",
    "\n",
    "    plt.show\n",
    "\n",
    "x_values"
   ]
  },
  {
   "cell_type": "code",
   "execution_count": 73,
   "metadata": {},
   "outputs": [
    {
     "data": {
      "text/plain": [
       "array([[-1.32835031e-21, -1.32429352e-21],\n",
       "       [-1.18836276e-21, -1.36378649e-21],\n",
       "       [-8.36942876e-22, -1.34306937e-21],\n",
       "       [-5.06090050e-22, -1.34325678e-21],\n",
       "       [-1.70355307e-22, -1.34337057e-21],\n",
       "       [ 1.65580946e-22, -1.34403852e-21],\n",
       "       [ 5.02074020e-22, -1.34441340e-21],\n",
       "       [ 8.43201313e-22, -1.34377565e-21],\n",
       "       [ 1.18106310e-21, -1.32494504e-21],\n",
       "       [ 1.34852546e-21, -1.35013171e-21],\n",
       "       [-1.34625307e-21, -1.18229704e-21],\n",
       "       [-1.17376188e-21, -1.17367724e-21],\n",
       "       [-8.42022212e-22, -1.17610658e-21],\n",
       "       [-5.05962449e-22, -1.17468831e-21],\n",
       "       [-1.70106736e-22, -1.17532214e-21],\n",
       "       [ 1.65895500e-22, -1.17606786e-21],\n",
       "       [ 5.02064040e-22, -1.17697411e-21],\n",
       "       [ 8.38393416e-22, -1.17647902e-21],\n",
       "       [ 1.17802196e-21, -1.17443917e-21],\n",
       "       [ 1.34427331e-21, -1.17204861e-21],\n",
       "       [-1.34454202e-21, -8.38146178e-22],\n",
       "       [-1.17734011e-21, -8.38373248e-22],\n",
       "       [-8.41463174e-22, -8.38906511e-22],\n",
       "       [-5.05606277e-22, -8.38823063e-22],\n",
       "       [-1.69538806e-22, -8.39299583e-22],\n",
       "       [ 1.66492999e-22, -8.39959943e-22],\n",
       "       [ 5.02481465e-22, -8.40627655e-22],\n",
       "       [ 8.38567599e-22, -8.40676041e-22],\n",
       "       [ 1.17510825e-21, -8.39384353e-22],\n",
       "       [ 1.34354146e-21, -8.38991352e-22],\n",
       "       [-1.34501067e-21, -5.02320745e-22],\n",
       "       [-1.17700510e-21, -5.02201324e-22],\n",
       "       [-8.41075278e-22, -5.02609245e-22],\n",
       "       [-5.05114404e-22, -5.02805374e-22],\n",
       "       [-1.69081887e-22, -5.03249176e-22],\n",
       "       [ 1.66899097e-22, -5.03795572e-22],\n",
       "       [ 5.02787713e-22, -5.04334157e-22],\n",
       "       [ 8.38667161e-22, -5.04577175e-22],\n",
       "       [ 1.17482467e-21, -5.04267013e-22],\n",
       "       [ 1.34306111e-21, -5.04146918e-22],\n",
       "       [-1.34467922e-21, -1.66056366e-22],\n",
       "       [-1.17671028e-21, -1.66133407e-22],\n",
       "       [-8.40695865e-22, -1.66428805e-22],\n",
       "       [-5.04664584e-22, -1.66741579e-22],\n",
       "       [-1.68613315e-22, -1.67155880e-22],\n",
       "       [ 1.67368660e-22, -1.67603738e-22],\n",
       "       [ 5.03243375e-22, -1.68066481e-22],\n",
       "       [ 8.39098550e-22, -1.68523903e-22],\n",
       "       [ 1.17520415e-21, -1.68973330e-22],\n",
       "       [ 1.34341265e-21, -1.69172490e-22],\n",
       "       [-1.34436081e-21,  1.70128311e-22],\n",
       "       [-1.17642159e-21,  1.69971296e-22],\n",
       "       [-8.40332022e-22,  1.69698092e-22],\n",
       "       [-5.04196335e-22,  1.69304185e-22],\n",
       "       [-1.68063210e-22,  1.68917612e-22],\n",
       "       [ 1.67988846e-22,  1.68572489e-22],\n",
       "       [ 5.03922394e-22,  1.68187163e-22],\n",
       "       [ 8.39829081e-22,  1.67519318e-22],\n",
       "       [ 1.17600340e-21,  1.66314719e-22],\n",
       "       [ 1.34420433e-21,  1.65945602e-22],\n",
       "       [-1.34370544e-21,  5.06680492e-22],\n",
       "       [-1.17627002e-21,  5.06194325e-22],\n",
       "       [-8.39931431e-22,  5.05759093e-22],\n",
       "       [-5.03647475e-22,  5.05270694e-22],\n",
       "       [-1.67411235e-22,  5.04916270e-22],\n",
       "       [ 1.68740198e-22,  5.04699800e-22],\n",
       "       [ 5.04789016e-22,  5.04456206e-22],\n",
       "       [ 8.40854744e-22,  5.03608774e-22],\n",
       "       [ 1.17738616e-21,  5.01518172e-22],\n",
       "       [ 1.34523004e-21,  5.00992911e-22],\n",
       "       [-1.34206212e-21,  8.47787642e-22],\n",
       "       [-1.17477156e-21,  8.42531777e-22],\n",
       "       [-8.38942244e-22,  8.41879317e-22],\n",
       "       [-5.02794947e-22,  8.41196220e-22],\n",
       "       [-1.66670217e-22,  8.40864842e-22],\n",
       "       [ 1.69436615e-22,  8.40798166e-22],\n",
       "       [ 5.05518071e-22,  8.40807230e-22],\n",
       "       [ 8.41817654e-22,  8.39871954e-22],\n",
       "       [ 1.17869289e-21,  8.36380300e-22],\n",
       "       [ 1.34664075e-21,  8.39600847e-22],\n",
       "       [-1.32231286e-21,  1.18573956e-21],\n",
       "       [-1.17179528e-21,  1.18213621e-21],\n",
       "       [-8.36713999e-22,  1.17841572e-21],\n",
       "       [-5.01497526e-22,  1.17733539e-21],\n",
       "       [-1.66011086e-22,  1.17695757e-21],\n",
       "       [ 1.69613505e-22,  1.17700394e-21],\n",
       "       [ 5.05438978e-22,  1.17751162e-21],\n",
       "       [ 8.41294822e-22,  1.17602450e-21],\n",
       "       [ 1.18294660e-21,  1.17378658e-21],\n",
       "       [ 1.33267903e-21,  1.17364380e-21],\n",
       "       [-1.34691847e-21,  1.35291080e-21],\n",
       "       [-1.16910307e-21,  1.34842972e-21],\n",
       "       [-8.35935667e-22,  1.34682964e-21],\n",
       "       [-5.01009030e-22,  1.34554268e-21],\n",
       "       [-1.65830465e-22,  1.34509527e-21],\n",
       "       [ 1.69778609e-22,  1.34503490e-21],\n",
       "       [ 5.06001414e-22,  1.34464329e-21],\n",
       "       [ 8.50404466e-22,  1.34298545e-21],\n",
       "       [ 1.18831790e-21,  1.30839494e-21],\n",
       "       [ 1.36157734e-21,  1.35631796e-21]])"
      ]
     },
     "execution_count": 73,
     "metadata": {},
     "output_type": "execute_result"
    }
   ],
   "source": [
    "u_new"
   ]
  },
  {
   "cell_type": "code",
   "execution_count": 74,
   "metadata": {},
   "outputs": [
    {
     "data": {
      "text/plain": [
       "(-1.3283503083403309e-21,\n",
       " 1.3485254556761223e-21,\n",
       " -1.3469184729038221e-21,\n",
       " 1.361577342777039e-21)"
      ]
     },
     "execution_count": 74,
     "metadata": {},
     "output_type": "execute_result"
    }
   ],
   "source": [
    "Ux[0], Ux[9], Ux[90], Ux[99]"
   ]
  },
  {
   "cell_type": "code",
   "execution_count": 75,
   "metadata": {},
   "outputs": [
    {
     "data": {
      "text/plain": [
       "(-1.324293519047987e-21,\n",
       " -1.3501317110813703e-21,\n",
       " 1.3529108004634475e-21,\n",
       " 1.3563179560205793e-21)"
      ]
     },
     "execution_count": 75,
     "metadata": {},
     "output_type": "execute_result"
    }
   ],
   "source": [
    "Uy[0], Uy[9], Uy[90], Uy[99]"
   ]
  },
  {
   "cell_type": "code",
   "execution_count": 76,
   "metadata": {},
   "outputs": [
    {
     "data": {
      "text/plain": [
       "-4.056789292343908e-24"
      ]
     },
     "execution_count": 76,
     "metadata": {},
     "output_type": "execute_result"
    }
   ],
   "source": [
    "Ux[0] - Uy[0]"
   ]
  },
  {
   "cell_type": "code",
   "execution_count": null,
   "metadata": {},
   "outputs": [],
   "source": []
  }
 ],
 "metadata": {
  "interpreter": {
   "hash": "1b2f9133931ab063f1f037caeeb0be83973bf9a3d4f21c40e4cd03e999a0b9b9"
  },
  "kernelspec": {
   "display_name": "Python 3.6.13 64-bit ('python3': conda)",
   "language": "python",
   "name": "python3"
  },
  "language_info": {
   "codemirror_mode": {
    "name": "ipython",
    "version": 3
   },
   "file_extension": ".py",
   "mimetype": "text/x-python",
   "name": "python",
   "nbconvert_exporter": "python",
   "pygments_lexer": "ipython3",
   "version": "3.9.5"
  },
  "orig_nbformat": 4
 },
 "nbformat": 4,
 "nbformat_minor": 2
}
