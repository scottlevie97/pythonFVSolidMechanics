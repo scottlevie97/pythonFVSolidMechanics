{
 "cells": [
  {
   "cell_type": "code",
   "execution_count": 2,
   "metadata": {},
   "outputs": [
    {
     "name": "stdout",
     "output_type": "stream",
     "text": [
      "40\n",
      "4\n",
      "40\n",
      "4\n",
      "Shear Modulus (mu): 76923076923.07692\n",
      "Lame Modulus (Lambda): 115384615384.61539\n"
     ]
    }
   ],
   "source": [
    "from ipynb.fs.full.setup import *\n",
    "from ipynb.fs.full.A_matrix import *\n",
    "from ipynb.fs.full.boundaryCellDisplacement import *\n",
    "from ipynb.fs.full.boundaryCellTraction import *\n",
    "from ipynb.fs.full.boundaryPointTraction import *\n",
    "from ipynb.fs.full.cell_corner_BCs import *\n",
    "from ipynb.fs.full.boundary_conditions import *\n",
    "\n",
    "import math\n",
    "from matplotlib import pyplot as plt"
   ]
  },
  {
   "cell_type": "code",
   "execution_count": 3,
   "metadata": {},
   "outputs": [
    {
     "name": "stdout",
     "output_type": "stream",
     "text": [
      "mkdir: cannot create directory ‘savedVariables’: File exists\n",
      "\n",
      "Time = 0.0\n"
     ]
    },
    {
     "ename": "NameError",
     "evalue": "name 'fac' is not defined",
     "output_type": "error",
     "traceback": [
      "\u001b[0;31m---------------------------------------------------------------------------\u001b[0m",
      "\u001b[0;31mNameError\u001b[0m                                 Traceback (most recent call last)",
      "\u001b[0;32m/tmp/ipykernel_821/3789439612.py\u001b[0m in \u001b[0;36m<module>\u001b[0;34m\u001b[0m\n\u001b[1;32m     28\u001b[0m \u001b[0;34m\u001b[0m\u001b[0m\n\u001b[1;32m     29\u001b[0m         \u001b[0mA_x\u001b[0m \u001b[0;34m=\u001b[0m \u001b[0mA\u001b[0m\u001b[0;34m(\u001b[0m\u001b[0;34m\"x\"\u001b[0m\u001b[0;34m)\u001b[0m\u001b[0;34m.\u001b[0m\u001b[0mcreateMatrix\u001b[0m\u001b[0;34m(\u001b[0m\u001b[0;34m)\u001b[0m\u001b[0;34m\u001b[0m\u001b[0;34m\u001b[0m\u001b[0m\n\u001b[0;32m---> 30\u001b[0;31m         \u001b[0mA_x\u001b[0m\u001b[0;34m,\u001b[0m \u001b[0mb_x\u001b[0m \u001b[0;34m=\u001b[0m \u001b[0mboundary_conditions\u001b[0m\u001b[0;34m(\u001b[0m\u001b[0mA_x\u001b[0m\u001b[0;34m,\u001b[0m \u001b[0mb_x\u001b[0m\u001b[0;34m,\u001b[0m \u001b[0mU_previous\u001b[0m\u001b[0;34m,\u001b[0m \u001b[0mU_old\u001b[0m\u001b[0;34m,\u001b[0m \u001b[0mU_old_old\u001b[0m\u001b[0;34m,\u001b[0m \u001b[0;34m\"x\"\u001b[0m\u001b[0;34m)\u001b[0m\u001b[0;34m\u001b[0m\u001b[0;34m\u001b[0m\u001b[0m\n\u001b[0m\u001b[1;32m     31\u001b[0m \u001b[0;34m\u001b[0m\u001b[0m\n\u001b[1;32m     32\u001b[0m         \u001b[0msaveArray\u001b[0m\u001b[0;34m(\u001b[0m\u001b[0;34m\"A_x\"\u001b[0m\u001b[0;34m,\u001b[0m \u001b[0mA_x\u001b[0m\u001b[0;34m)\u001b[0m\u001b[0;34m\u001b[0m\u001b[0;34m\u001b[0m\u001b[0m\n",
      "\u001b[0;32m~/newPythonSolver/pythonsolver_new/paper_code/finalSolver_transient_example/boundary_conditions.ipynb\u001b[0m in \u001b[0;36mboundary_conditions\u001b[0;34m(A_matrix, b_matrix, U_previous, U_old, U_old_old, xy)\u001b[0m\n\u001b[1;32m    216\u001b[0m     \u001b[0;34m\"            elif BC_settings(edges[0]).traction & BC_settings(edges[1]).fixed_displacement:\\n\"\u001b[0m\u001b[0;34m,\u001b[0m\u001b[0;34m\u001b[0m\u001b[0;34m\u001b[0m\u001b[0m\n\u001b[1;32m    217\u001b[0m     \u001b[0;34m\"                A_matrix, b_matrix = displacement_point_BCs(A_matrix, b_matrix, k, edges[1], xy)\\n\"\u001b[0m\u001b[0;34m,\u001b[0m\u001b[0;34m\u001b[0m\u001b[0;34m\u001b[0m\u001b[0m\n\u001b[0;32m--> 218\u001b[0;31m     \u001b[0;34m\"\\n\"\u001b[0m\u001b[0;34m,\u001b[0m\u001b[0;34m\u001b[0m\u001b[0;34m\u001b[0m\u001b[0m\n\u001b[0m\u001b[1;32m    219\u001b[0m     \u001b[0;34m\"            else: \\n\"\u001b[0m\u001b[0;34m,\u001b[0m\u001b[0;34m\u001b[0m\u001b[0;34m\u001b[0m\u001b[0m\n\u001b[1;32m    220\u001b[0m     \u001b[0;34m\"                A_matrix[k,k] = 4*fac\\n\"\u001b[0m\u001b[0;34m,\u001b[0m\u001b[0;34m\u001b[0m\u001b[0;34m\u001b[0m\u001b[0m\n",
      "\u001b[0;31mNameError\u001b[0m: name 'fac' is not defined"
     ]
    }
   ],
   "source": [
    "## Time loop\n",
    "\n",
    "! mkdir savedVariables\n",
    "\n",
    "for time in t:\n",
    "\n",
    "    print(\"\\nTime = \" + str(time))\n",
    "\n",
    "    # Set number of maximum iterations for convergence\n",
    "\n",
    "    icorr = 1\n",
    "    maxcorr = 10000000\n",
    "    fac = 10 ** math.ceil((math.log((A(\"x\").a_P), 10)))\n",
    "\n",
    "    # Make directory\n",
    "\n",
    "    # ! mkdir savedVariables/{time}\n",
    "\n",
    "    residual_array = np.array([])\n",
    "    moving_average_array = np.array([])\n",
    "\n",
    "    \n",
    "\n",
    "    while True:\n",
    "        # for iteration in [1]:\n",
    "\n",
    "        U_previous = U_new  # store latest guess values    # change_u new to U\n",
    "\n",
    "        A_x = A(\"x\").createMatrix()\n",
    "        A_x, b_x = boundary_conditions(A_x, b_x, U_previous, U_old, U_old_old, \"x\")\n",
    "\n",
    "        saveArray(\"A_x\", A_x)\n",
    "\n",
    "        ## Solve the x-equation\n",
    "\n",
    "        Ux = spsolve(A_x, b_x)\n",
    "        Ux = np.array(Ux)\n",
    "\n",
    "        ## Prepare matrix A and b vector for the y-equation\n",
    "\n",
    "        A_y = A(\"y\").createMatrix()\n",
    "        A_y, b_y = boundary_conditions(A_y, b_y, U_previous, U_old, U_old_old, \"y\")\n",
    "\n",
    "        ## Solve the y-equation\n",
    "        Uy = spsolve(A_y, b_y)\n",
    "        Uy = np.array(Uy)\n",
    "\n",
    "        # ## Update U.New with new x and y displacements\n",
    "\n",
    "        U_new = np.vstack((Ux, Uy)).T\n",
    "\n",
    "        ## Calculate the residual of each iteration\n",
    "\n",
    "        normFactor = np.max(U_new)\n",
    "        residual = math.sqrt(np.mean((U_new - U_previous) ** 2)) / normFactor\n",
    "        tolerance = 1e-6\n",
    "\n",
    "        residual_array = np.append(residual_array, residual)\n",
    "\n",
    "        ##print out residual of each iteration\n",
    "        if icorr % 100 == 0:\n",
    "            moving_average = np.mean(\n",
    "                residual_array[len(residual_array) - 100 : len(residual_array)]\n",
    "            )\n",
    "            moving_average_array = np.append(moving_average_array, moving_average)\n",
    "            print(\n",
    "                \"icorr = {:01d}, Residual = {:.20f}, normFactor = {:.20f}, moving average = {:.20f}, time = {:.5f}\".format(\n",
    "                    icorr, residual, normFactor, moving_average, time\n",
    "                )\n",
    "            )\n",
    "            print(tolerance - residual)\n",
    "\n",
    "        if icorr % 1000 == 0:\n",
    "\n",
    "            plt.plot(np.arange(0, len(moving_average_array)), moving_average_array)\n",
    "            plt.hlines(tolerance, 0, len(moving_average_array), color = \"C1\")\n",
    "            plt.yscale(\"log\")\n",
    "            plt.xlabel(\"Iterations\")\n",
    "            plt.ylabel(\"Residual\")\n",
    "            plt.show()\n",
    "\n",
    "        ## Convergence check\n",
    "\n",
    "        if residual < tolerance:\n",
    "\n",
    "            print(\n",
    "                \"icorr = {:01d}, Residual = {:.20f}, normFactor = {:.20f}, moving average = {:.20f}, time = {:.5f}\".format(\n",
    "                    icorr, residual, normFactor, moving_average, time\n",
    "                )\n",
    "            )\n",
    "\n",
    "            break\n",
    "\n",
    "        elif icorr > maxcorr:\n",
    "\n",
    "            break\n",
    "\n",
    "        icorr = icorr + 1\n",
    "\n",
    "    ## Update variables\n",
    "\n",
    "    U_old_old = U_old\n",
    "    U_old = U_new\n",
    "\n",
    "    # ## Add the boundary conditions to the solution matrices\n",
    "    u_reshape_x = U_new[:, 0].reshape(ny + 2, nx + 2)\n",
    "    u_reshape_y = U_new[:, 1].reshape(ny + 2, nx + 2)\n",
    "\n",
    "    # #Boundary conditions for u matrix\n",
    "    U = np.zeros((ny + 2, nx + 2))\n",
    "    V = np.zeros((ny + 2, nx + 2))\n",
    "\n",
    "    U[:, :] = u_reshape_x\n",
    "    V[:, :] = u_reshape_y\n",
    "\n",
    "    # Modulus of displacement\n",
    "\n",
    "    disp_mod = np.sqrt((U ** 2) + (V ** 2))\n",
    "    disp_mod_converted = disp_mod * 1e6  # Convert displacement to micrometers\n",
    "\n",
    "    ### Plot the results\n",
    "\n",
    "    import plotly.graph_objects as go\n",
    "\n",
    "    disp_mod = np.sqrt((U ** 2) + (V ** 2)) * 1e-10\n",
    "\n",
    "    dispx, dispy = np.meshgrid(x, y)\n",
    "    fig = go.Figure(data=[go.Surface(z=disp_mod_converted, x=dispx, y=dispy)])\n",
    "\n",
    "fig.show()\n",
    "\n",
    "print(\"U graph\")\n",
    "fig = go.Figure(data=[go.Surface(z=U, x=dispx, y=dispy)])\n",
    "\n",
    "fig.show()\n",
    "\n",
    "print(\"V graph\")\n",
    "fig = go.Figure(data=[go.Surface(z=V, x=dispx, y=dispy)])\n",
    "\n",
    "fig.show()\n"
   ]
  },
  {
   "cell_type": "code",
   "execution_count": null,
   "metadata": {},
   "outputs": [
    {
     "data": {
      "text/plain": [
       "6153846153846.153"
      ]
     },
     "execution_count": 9,
     "metadata": {},
     "output_type": "execute_result"
    }
   ],
   "source": [
    "A(\"x\").a_S*2/(Sfy)"
   ]
  },
  {
   "cell_type": "code",
   "execution_count": null,
   "metadata": {},
   "outputs": [],
   "source": []
  }
 ],
 "metadata": {
  "interpreter": {
   "hash": "18ed160ad9db49083d5c6dbf82376d1730af41ed005a12d6dc5900d1b4ae07ba"
  },
  "kernelspec": {
   "display_name": "Python 3.9.5 ('base')",
   "language": "python",
   "name": "python3"
  },
  "language_info": {
   "codemirror_mode": {
    "name": "ipython",
    "version": 3
   },
   "file_extension": ".py",
   "mimetype": "text/x-python",
   "name": "python",
   "nbconvert_exporter": "python",
   "pygments_lexer": "ipython3",
   "version": "3.9.5"
  },
  "orig_nbformat": 4
 },
 "nbformat": 4,
 "nbformat_minor": 2
}
