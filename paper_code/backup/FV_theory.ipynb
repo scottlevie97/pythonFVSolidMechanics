{
 "cells": [
  {
   "cell_type": "markdown",
   "metadata": {},
   "source": [
    "Finite Volume Method for Solid Mechanics\n",
    "======\n",
    "***"
   ]
  },
  {
   "cell_type": "markdown",
   "metadata": {},
   "source": [
    "Navier-Stokes Equation\n",
    "======\n",
    "***\n",
    "\n",
    "\n",
    "Navier-Stokes equation: \n",
    "$$\\frac{\\partial^2 (\\rho u)}{\\partial t^2} - \\nabla  \\cdot \\sigma = \\rho f$$\n",
    "\n",
    "where $\\rho$ is the density, $u$ is the displacement vector, $\\sigma$ is the stress tensor and $f$ is the body forces.\n",
    "\n",
    "Assuming no body forces, $ f = 0$:\n",
    "\n",
    "$$\\frac{\\partial^2 (\\rho u)}{\\partial t^2} - \\nabla \\cdot \\sigma = 0$$\n",
    "\n",
    "Assuming density is constant thoughout the domain and integrating over a Control Volume (CV):\n",
    "\n",
    "$$ \\rho \\int_V \\frac{\\partial^2 (u)}{\\partial t^2} \\, dV - \\int_V \\nabla \\cdot \\sigma \\, dV = 0$$ \n",
    "\n",
    "Gauss' Divergence Theorem states: \n",
    "\n",
    "$$\\int_V \\nabla \\cdot F \\, dV= \\oint_S F \\cdot n \\, dS$$\n",
    "\n",
    "where $F$ is any vector field, and $n$ is the outward pointing unit vector on the CV surface.\n",
    "\n",
    "Applying this to above: \n",
    "\n",
    "$$ \\underbrace{  \\rho \\int_V \\frac{\\partial^2 (u)}{\\partial t^2} \\, dV }_{Temporal\\space term} -\\underbrace{ \\oint_S \\sigma \\cdot n \\, dS }_{Diffusion\\space term} = 0$$\n"
   ]
  },
  {
   "cell_type": "markdown",
   "metadata": {},
   "source": [
    "Temporal Term Discretization\n",
    "======\n",
    "***\n",
    "\n",
    "$$ \\frac{\\partial^2 u}{\\partial t^2} = \\frac{u^n - 2u^o + u^{oo}}{\\Delta t^2} $$\n",
    "\n",
    "$n$ = new, $o$ = old, $oo$ = old, old\n",
    "\n",
    "$$  \\rho \\int_V \\frac{\\partial^2 u}{\\partial t^2} \\, dV = \\rho \\int_V \\frac{u^n - 2u^o + u^{oo}}{\\Delta t^2} \\, dV = \\frac{\\rho}{\\Delta t^2} \\left( \\int_V u^n \\, dV -2\\int_V u^o \\, dV + \\int_V u^{oo} \\, dV \\right) $$\n",
    "\n",
    "From Spatial Variation:\n",
    "\n",
    "$$ \\int u(x)\\, dV = u_p V $$\n",
    "\n",
    "$$  \\rho \\int_V \\frac{\\partial^2 u}{\\partial t^2} \\, dV =  \\frac{\\rho}{\\Delta t^2} \\left(  u_p^n V^n -2 u_p^o V^o + u_p^{oo} V^{oo} \\right) $$\n"
   ]
  },
  {
   "cell_type": "markdown",
   "metadata": {},
   "source": [
    "Diffusion Term Discretization\n",
    "======\n",
    "***\n",
    "\n",
    "$$\\begin{align} \\oint_S \\sigma \\cdot n \\, dS & = \\sum_{f=1}^{nFaces} \\int_{S_f} \\sigma_f \\cdot n \\, dS_f \\\\ & = \\sum_{f=1}^{nFaces} \\sigma_f \\cdot n |S_f|  \\\\ \n",
    "& =  \\sum_{f=1}^{nFaces} \\sigma_f \\cdot \\bold{S_f} \\end{align} $$\n",
    "\n",
    "where $\\bold{S_f}$ is the Surface Area vector\n"
   ]
  },
  {
   "cell_type": "markdown",
   "metadata": {},
   "source": [
    "Linear Elastic Consitutive Law:\n",
    "\n",
    "$$ \\sigma = 2 \\mu \\epsilon + \\lambda tr(\\epsilon)I $$\n",
    "\n",
    "$$ \\epsilon = \\dfrac{1}{2}[\\nabla u + (\\nabla u)^T] $$\n",
    "\n",
    "For 2D:\n",
    "\n",
    "$$ \\bold{u} = \n",
    "\\begin{bmatrix}\n",
    "u & v\n",
    "\\end{bmatrix}\n",
    "$$\n",
    "\n",
    "$$ \\nabla = \n",
    "\\begin{bmatrix}\n",
    "\\dfrac{\\delta}{\\delta x} \\\\ \\dfrac{\\delta}{\\delta y}\n",
    "\\end{bmatrix}\n",
    "$$\n",
    "\n",
    "$$\n",
    "\\nabla \\bold{u} = \\begin{bmatrix} \\dfrac{\\delta}{\\delta x} \\\\ \\dfrac{\\delta}{\\delta y} \\end{bmatrix} \\begin{bmatrix} u & v \\end{bmatrix}\n",
    "=\n",
    "\\begin{bmatrix}\n",
    "\\dfrac{\\delta u}{\\delta x} & \\dfrac{\\delta v}{\\delta x} \\\\ \\dfrac{\\delta u }{\\delta y} & \\dfrac{\\delta v }{\\delta y}\n",
    "\\end{bmatrix}\n",
    "$$\n",
    "\n",
    "$$\n",
    "\\epsilon  = \\dfrac{1}{2}\\left[\n",
    "\\begin{bmatrix}\n",
    "\\dfrac{\\delta u}{\\delta x} & \\dfrac{\\delta v}{\\delta x} \\\\ \\dfrac{\\delta u }{\\delta y} & \\dfrac{\\delta v }{\\delta y}\n",
    "\\end{bmatrix}\n",
    "+ \n",
    "\\begin{bmatrix}\n",
    "\\dfrac{\\delta u}{\\delta x} & \\dfrac{\\delta u }{\\delta y} \\\\ \\dfrac{\\delta v}{\\delta x} & \\dfrac{\\delta v }{\\delta y}\n",
    "\\end{bmatrix}\n",
    "\\right]\n",
    "$$\n",
    "$$\n",
    "\\epsilon\n",
    "=\n",
    "\\begin{bmatrix}\n",
    "\\dfrac{\\delta u}{\\delta x} & \\dfrac{1}{2}\\left(\\dfrac{\\delta v}{\\delta x} + \\dfrac{\\delta u}{\\delta y}\\right) \\\\ \\dfrac{1}{2}\\left(\\dfrac{\\delta v}{\\delta x} + \\dfrac{\\delta u}{\\delta y}\\right) & \\dfrac{\\delta v }{\\delta y}\n",
    "\\end{bmatrix}\n",
    "$$\n",
    "\n",
    "$$ \\sigma = 2 \\mu \\epsilon + \\lambda \\left(\\dfrac{\\delta u}{\\delta x} + \\dfrac{\\delta v}{\\delta y} \\right)\n",
    "\\begin{bmatrix}\n",
    "1 & 0 \\\\ 0 & 1\n",
    "\\end{bmatrix}\n",
    "$$\n",
    "\n",
    "$$ \n",
    "\\sigma = \n",
    "\\begin{bmatrix}\n",
    "(2\\mu + \\lambda)\\dfrac{\\delta u}{\\delta x} + \\lambda\\dfrac{\\delta v}{\\delta y}\n",
    "& \n",
    "\\mu \\left( \\dfrac{\\delta v}{\\delta x} + \\dfrac{\\delta u}{\\delta y} \\right)\n",
    "\\\\\n",
    "\\mu \\left( \\dfrac{\\delta v}{\\delta x} + \\dfrac{\\delta u}{\\delta y} \\right)\n",
    "&\n",
    "(2\\mu + \\lambda)\\dfrac{\\delta v}{\\delta y} + \\lambda\\dfrac{\\delta u}{\\delta x}\n",
    "\\end{bmatrix}\n",
    "$$\n"
   ]
  },
  {
   "cell_type": "markdown",
   "metadata": {},
   "source": [
    "Introducing the Stencil\n",
    "======\n",
    "***\n",
    "\n",
    "The Navier-Stokes equation is solved for each CV within our mesh. In order to solve, let's look at what we need so far: \n",
    "\n",
    "We've shown that: \n",
    "\n",
    "$$ \\underbrace{  \\rho \\int_V \\frac{\\partial^2 (u)}{\\partial t^2} \\, dV }_{Temporal\\space term} -\\underbrace{ \\oint_S \\sigma \\cdot n \\, dS }_{Diffusion\\space term} = 0$$\n",
    "\n",
    "can be written as: \n",
    "\n",
    "$$ \\underbrace{ \\frac{\\rho}{\\Delta t^2} \\left(  u_p^n V^n -2 u_p^o V^o + u_p^{oo} V^{oo} \\right)}_{Temporal\\space term} \n",
    "-\n",
    "\\underbrace{\n",
    "\\sum_{f=1}^{nFaces} \\begin{bmatrix}\n",
    "(2\\mu + \\lambda)\\dfrac{\\delta u}{\\delta x} + \\lambda\\dfrac{\\delta v}{\\delta y}\n",
    "& \n",
    "\\mu \\left( \\dfrac{\\delta v}{\\delta x} + \\dfrac{\\delta u}{\\delta y} \\right)\n",
    "\\\\\n",
    "\\mu \\left( \\dfrac{\\delta v}{\\delta x} + \\dfrac{\\delta u}{\\delta y} \\right)\n",
    "&\n",
    "(2\\mu + \\lambda)\\dfrac{\\delta v}{\\delta y}\n",
    "+ \n",
    "\\lambda\\dfrac{\\delta u}{\\delta x}\n",
    "\\end{bmatrix}_f \\cdot \\bold{S_f}\n",
    "}_{Diffusion\\space term}\n",
    " = 0 $$\n"
   ]
  },
  {
   "cell_type": "markdown",
   "metadata": {},
   "source": [
    "So for each CV what information do we need: \n",
    "\n",
    "### Temporal term:\n",
    "\n",
    "$u_p^n \\rightarrow$ new displacement of cell centre \n",
    "\n",
    "$u_p^o \\rightarrow$ old displacement of cell centre \n",
    "\n",
    "$u_p^{oo} \\rightarrow$ old, old displacement of cell centre \n",
    "\n",
    "$V^n \\rightarrow$ new Volume of cell centre \n",
    "\n",
    "$V^o \\rightarrow$ old Volume of cell centre \n",
    "\n",
    "$V^{oo} \\rightarrow$ old, old Volume of cell centre \n",
    "\n",
    "### Diffusion term:\n",
    "\n",
    "$\\mu \\rightarrow$ Shear Modulus (constant)\n",
    "\n",
    "$\\lambda \\rightarrow$ Lame Modulus (constant)\n",
    "\n",
    "For each bounding face ($f$) we need: \n",
    "\n",
    "$ \\dfrac{\\delta u}{\\delta x} \\rightarrow $ change of $u$ in the x-direction\n",
    "\n",
    "$ \\dfrac{\\delta v}{\\delta x} \\rightarrow $ change of $v$ in the x-direction\n",
    "\n",
    "$ \\dfrac{\\delta u}{\\delta y} \\rightarrow $ change of $u$ in the y-direction\n",
    "\n",
    "$ \\dfrac{\\delta v}{\\delta y} \\rightarrow $ change of $v$ in the y-direction"
   ]
  },
  {
   "cell_type": "code",
   "execution_count": null,
   "metadata": {},
   "outputs": [],
   "source": []
  },
  {
   "cell_type": "code",
   "execution_count": 1,
   "metadata": {
    "collapsed": false
   },
   "outputs": [],
   "source": [
    "# Remember: comments in python are denoted by the pound sign\n",
    "import numpy                       #here we load numpy\n",
    "from matplotlib import pyplot      #here we load matplotlib\n",
    "import time, sys                   #and load some utilities\n"
   ]
  },
  {
   "cell_type": "code",
   "execution_count": 2,
   "metadata": {
    "collapsed": false
   },
   "outputs": [],
   "source": [
    "#this makes matplotlib plots appear in the notebook (instead of a separate window)\n",
    "%matplotlib inline                  "
   ]
  },
  {
   "cell_type": "markdown",
   "metadata": {},
   "source": [
    "Now let's define a few variables; we want to define an evenly spaced grid of points within a spatial domain that is 2 units of length wide, i.e., $x_i\\in(0,2)$.  We'll define a variable `nx`, which will be the number of grid points we want and `dx` will be the distance between any pair of adjacent grid points.  "
   ]
  },
  {
   "cell_type": "code",
   "execution_count": 3,
   "metadata": {
    "collapsed": false
   },
   "outputs": [],
   "source": [
    "nx = 41  # try changing this number from 41 to 81 and Run All ... what happens?\n",
    "dx = 2 / (nx-1)\n",
    "nt = 25    #nt is the number of timesteps we want to calculate\n",
    "dt = .025  #dt is the amount of time each timestep covers (delta t)\n",
    "c = 1      #assume wavespeed of c = 1"
   ]
  },
  {
   "cell_type": "markdown",
   "metadata": {},
   "source": [
    "We also need to set up our initial conditions. The initial velocity $u_0$ is given as \n",
    "$u = 2$ in the interval $0.5 \\leq x \\leq 1$  and $u = 1$ everywhere else in $(0,2)$ (i.e., a hat function).\n",
    "\n",
    "Here, we use the function `ones()` defining a `numpy` array which is `nx` elements long with every value equal to 1."
   ]
  },
  {
   "cell_type": "code",
   "execution_count": 4,
   "metadata": {
    "collapsed": false
   },
   "outputs": [
    {
     "name": "stdout",
     "output_type": "stream",
     "text": [
      "[1. 1. 1. 1. 1. 1. 1. 1. 1. 1. 2. 2. 2. 2. 2. 2. 2. 2. 2. 2. 2. 1. 1. 1.\n",
      " 1. 1. 1. 1. 1. 1. 1. 1. 1. 1. 1. 1. 1. 1. 1. 1. 1.]\n"
     ]
    }
   ],
   "source": [
    "u = numpy.ones(nx)      #numpy function ones()\n",
    "u[int(.5 / dx):int(1 / dx + 1)] = 2  #setting u = 2 between 0.5 and 1 as per our I.C.s\n",
    "print(u)"
   ]
  },
  {
   "cell_type": "markdown",
   "metadata": {},
   "source": [
    "Now let's take a look at those initial conditions using a Matplotlib plot.  We've imported the `matplotlib` plotting library `pyplot` and the plotting function is called `plot`, so we'll call `pyplot.plot`. To learn about the myriad possibilities of Matplotlib, explore the [Gallery](http://matplotlib.org/gallery.html) of example plots.\n",
    "\n",
    "Here, we use the syntax for a simple 2D plot: `plot(x,y)`, where the `x` values are evenly distributed grid points:"
   ]
  },
  {
   "cell_type": "code",
   "execution_count": 5,
   "metadata": {
    "collapsed": false
   },
   "outputs": [
    {
     "data": {
      "image/png": "[encoded data removed]",
      "text/plain": [
       "<Figure size 432x288 with 1 Axes>"
      ]
     },
     "metadata": {
      "needs_background": "light"
     },
     "output_type": "display_data"
    }
   ],
   "source": [
    "pyplot.plot(numpy.linspace(0, 2, nx), u);"
   ]
  },
  {
   "cell_type": "markdown",
   "metadata": {},
   "source": [
    "Why doesn't the hat function have perfectly straight sides? Think for a bit."
   ]
  },
  {
   "cell_type": "markdown",
   "metadata": {},
   "source": [
    "Now it's time to implement the discretization of the convection equation using a finite-difference scheme.  \n",
    "\n",
    "For every element of our array `u`, we need to perform the operation $u_i^{n+1} = u_i^n - c \\frac{\\Delta t}{\\Delta x}(u_i^n-u_{i-1}^n)$\n",
    "\n",
    "We'll store the result in a new (temporary) array `un`, which will be the solution $u$ for the next time-step.  We will repeat this operation for as many time-steps as we specify and then we can see how far the wave has convected.  \n",
    "\n",
    "We first initialize our placeholder array `un` to hold the values we calculate for the $n+1$ timestep, using once again the NumPy function `ones()`.\n",
    "\n",
    "Then, we may think we have two iterative operations: one in space and one in time (we'll learn differently later), so we'll start by nesting one loop inside the other. Note the use of the nifty `range()` function. When we write: `for i in range(1,nx)` we will iterate through the `u` array, but we'll be skipping the first element (the zero-th element).  *Why?*"
   ]
  },
  {
   "cell_type": "code",
   "execution_count": 6,
   "metadata": {
    "collapsed": false
   },
   "outputs": [],
   "source": [
    "un = numpy.ones(nx) #initialize a temporary array\n",
    "\n",
    "for n in range(nt):  #loop for values of n from 0 to nt, so it will run nt times\n",
    "    un = u.copy() ##copy the existing values of u into un\n",
    "    for i in range(1, nx): ## you can try commenting this line and...\n",
    "    #for i in range(nx): ## ... uncommenting this line and see what happens!\n",
    "        u[i] = un[i] - c * dt / dx * (un[i] - un[i-1])"
   ]
  },
  {
   "cell_type": "markdown",
   "metadata": {},
   "source": [
    "**Note**—We will learn later that the code as written above is quite inefficient, and there are better ways to write this, Python-style. But let's carry on.\n",
    "\n",
    "Now let's try plotting our `u` array after advancing in time."
   ]
  },
  {
   "cell_type": "code",
   "execution_count": 7,
   "metadata": {
    "collapsed": false
   },
   "outputs": [
    {
     "data": {
      "image/png": "[encoded data removed]",
      "text/plain": [
       "<Figure size 432x288 with 1 Axes>"
      ]
     },
     "metadata": {
      "needs_background": "light"
     },
     "output_type": "display_data"
    }
   ],
   "source": [
    "pyplot.plot(numpy.linspace(0, 2, nx), u);"
   ]
  },
  {
   "cell_type": "markdown",
   "metadata": {},
   "source": [
    "OK! So our hat function has definitely moved to the right, but it's no longer a hat.  **What's going on?**"
   ]
  },
  {
   "cell_type": "markdown",
   "metadata": {},
   "source": [
    "Learn More\n",
    "-----\n",
    "***"
   ]
  },
  {
   "cell_type": "markdown",
   "metadata": {},
   "source": [
    "For a more thorough explanation of the finite-difference method, including topics like the truncation error, order of convergence and other details, watch **Video Lessons 2 and 3** by Prof. Barba on YouTube."
   ]
  },
  {
   "cell_type": "code",
   "execution_count": 8,
   "metadata": {
    "collapsed": false
   },
   "outputs": [
    {
     "data": {
      "image/jpeg": "[encoded data removed]",
      "text/html": [
       "\n",
       "        <iframe\n",
       "            width=\"400\"\n",
       "            height=\"300\"\n",
       "            src=\"https://www.youtube.com/embed/iz22_37mMkk\"\n",
       "            frameborder=\"0\"\n",
       "            allowfullscreen\n",
       "            \n",
       "        ></iframe>\n",
       "        "
      ],
      "text/plain": [
       "<IPython.lib.display.YouTubeVideo at 0x7f60a8142af0>"
      ]
     },
     "execution_count": 8,
     "metadata": {},
     "output_type": "execute_result"
    }
   ],
   "source": [
    "from IPython.display import YouTubeVideo\n",
    "YouTubeVideo('iz22_37mMkk')"
   ]
  },
  {
   "cell_type": "code",
   "execution_count": 9,
   "metadata": {
    "collapsed": false
   },
   "outputs": [
    {
     "data": {
      "image/jpeg": "[encoded data removed]",
      "text/html": [
       "\n",
       "        <iframe\n",
       "            width=\"400\"\n",
       "            height=\"300\"\n",
       "            src=\"https://www.youtube.com/embed/xq9YTcv-fQg\"\n",
       "            frameborder=\"0\"\n",
       "            allowfullscreen\n",
       "            \n",
       "        ></iframe>\n",
       "        "
      ],
      "text/plain": [
       "<IPython.lib.display.YouTubeVideo at 0x7f60a822fd90>"
      ]
     },
     "execution_count": 9,
     "metadata": {},
     "output_type": "execute_result"
    }
   ],
   "source": [
    "YouTubeVideo('xq9YTcv-fQg')"
   ]
  },
  {
   "cell_type": "markdown",
   "metadata": {},
   "source": [
    "For a careful walk-through of the discretization of the linear convection equation with finite differences (and also the following steps, up to Step 4), watch **Video Lesson 4** by Prof. Barba on YouTube."
   ]
  },
  {
   "cell_type": "code",
   "execution_count": 10,
   "metadata": {
    "collapsed": false
   },
   "outputs": [
    {
     "data": {
      "image/jpeg": "[encoded data removed]",
      "text/html": [
       "\n",
       "        <iframe\n",
       "            width=\"400\"\n",
       "            height=\"300\"\n",
       "            src=\"https://www.youtube.com/embed/y2WaK7_iMRI\"\n",
       "            frameborder=\"0\"\n",
       "            allowfullscreen\n",
       "            \n",
       "        ></iframe>\n",
       "        "
      ],
      "text/plain": [
       "<IPython.lib.display.YouTubeVideo at 0x7f60a813bcd0>"
      ]
     },
     "execution_count": 10,
     "metadata": {},
     "output_type": "execute_result"
    }
   ],
   "source": [
    "YouTubeVideo('y2WaK7_iMRI')"
   ]
  },
  {
   "cell_type": "code",
   "execution_count": null,
   "metadata": {},
   "outputs": [],
   "source": []
  },
  {
   "cell_type": "markdown",
   "metadata": {},
   "source": [
    "## Last but not least"
   ]
  },
  {
   "cell_type": "markdown",
   "metadata": {},
   "source": [
    "**Remember** to rewrite Step 1 as a fresh Python script or in *your own* Jupyter notebook and then experiment by changing the discretization parameters. Once you have done this, you will be ready for [Step 2](./02_Step_2.ipynb).\n",
    "\n",
    "\n",
    "***"
   ]
  },
  {
   "cell_type": "code",
   "execution_count": 11,
   "metadata": {
    "collapsed": false
   },
   "outputs": [
    {
     "data": {
      "text/html": [
       "<link href='http://fonts.googleapis.com/css?family=Fenix' rel='stylesheet' type='text/css'>\n",
       "<link href='http://fonts.googleapis.com/css?family=Alegreya+Sans:100,300,400,500,700,800,900,100italic,300italic,400italic,500italic,700italic,800italic,900italic' rel='stylesheet' type='text/css'>\n",
       "<link href='http://fonts.googleapis.com/css?family=Source+Code+Pro:300,400' rel='stylesheet' type='text/css'>\n",
       "<style>\n",
       "    @font-face {\n",
       "        font-family: \"Computer Modern\";\n",
       "        src: url('http://mirrors.ctan.org/fonts/cm-unicode/fonts/otf/cmunss.otf');\n",
       "    }\n",
       "    div.cell{\n",
       "        width:800px;\n",
       "        margin-left:16% !important;\n",
       "        margin-right:auto;\n",
       "    }\n",
       "    h1 {\n",
       "        font-family: 'Alegreya Sans', sans-serif;\n",
       "    }\n",
       "    h2 {\n",
       "        font-family: 'Fenix', serif;\n",
       "    }\n",
       "    h3{\n",
       "\t\tfont-family: 'Fenix', serif;\n",
       "        margin-top:12px;\n",
       "        margin-bottom: 3px;\n",
       "       }\n",
       "\th4{\n",
       "\t\tfont-family: 'Fenix', serif;\n",
       "       }\n",
       "    h5 {\n",
       "        font-family: 'Alegreya Sans', sans-serif;\n",
       "    }\t   \n",
       "    div.text_cell_render{\n",
       "        font-family: 'Alegreya Sans',Computer Modern, \"Helvetica Neue\", Arial, Helvetica, Geneva, sans-serif;\n",
       "        line-height: 135%;\n",
       "        font-size: 120%;\n",
       "        width:600px;\n",
       "        margin-left:auto;\n",
       "        margin-right:auto;\n",
       "    }\n",
       "    .CodeMirror{\n",
       "            font-family: \"Source Code Pro\";\n",
       "\t\t\tfont-size: 90%;\n",
       "    }\n",
       "/*    .prompt{\n",
       "        display: None;\n",
       "    }*/\n",
       "    .text_cell_render h1 {\n",
       "        font-weight: 200;\n",
       "        font-size: 50pt;\n",
       "\t\tline-height: 100%;\n",
       "        color:#CD2305;\n",
       "        margin-bottom: 0.5em;\n",
       "        margin-top: 0.5em;\n",
       "        display: block;\n",
       "    }\t\n",
       "    .text_cell_render h5 {\n",
       "        font-weight: 300;\n",
       "        font-size: 16pt;\n",
       "        color: #CD2305;\n",
       "        font-style: italic;\n",
       "        margin-bottom: .5em;\n",
       "        margin-top: 0.5em;\n",
       "        display: block;\n",
       "    }\n",
       "    \n",
       "    .warning{\n",
       "        color: rgb( 240, 20, 20 )\n",
       "        }  \n",
       "</style>\n",
       "<script>\n",
       "    MathJax.Hub.Config({\n",
       "                        TeX: {\n",
       "                           extensions: [\"AMSmath.js\"]\n",
       "                           },\n",
       "                tex2jax: {\n",
       "                    inlineMath: [ ['$','$'], [\"\\\\(\",\"\\\\)\"] ],\n",
       "                    displayMath: [ ['$$','$$'], [\"\\\\[\",\"\\\\]\"] ]\n",
       "                },\n",
       "                displayAlign: 'center', // Change this to 'center' to center equations.\n",
       "                \"HTML-CSS\": {\n",
       "                    styles: {'.MathJax_Display': {\"margin\": 4}}\n",
       "                }\n",
       "        });\n",
       "</script>\n"
      ],
      "text/plain": [
       "<IPython.core.display.HTML object>"
      ]
     },
     "execution_count": 11,
     "metadata": {},
     "output_type": "execute_result"
    }
   ],
   "source": [
    "from IPython.core.display import HTML\n",
    "def css_styling():\n",
    "    styles = open(\"../styles/custom.css\", \"r\").read()\n",
    "    return HTML(styles)\n",
    "css_styling()"
   ]
  },
  {
   "cell_type": "markdown",
   "metadata": {},
   "source": [
    "> (The cell above executes the style for this notebook. We modified a style we found on the GitHub of [CamDavidsonPilon](https://github.com/CamDavidsonPilon), [@Cmrn_DP](https://twitter.com/cmrn_dp).)"
   ]
  }
 ],
 "metadata": {
  "kernelspec": {
   "display_name": "Python 3",
   "language": "python",
   "name": "python3"
  },
  "language_info": {
   "codemirror_mode": {
    "name": "ipython",
    "version": 3
   },
   "file_extension": ".py",
   "mimetype": "text/x-python",
   "name": "python",
   "nbconvert_exporter": "python",
   "pygments_lexer": "ipython3",
   "version": "3.9.5"
  }
 },
 "nbformat": 4,
 "nbformat_minor": 0
}
