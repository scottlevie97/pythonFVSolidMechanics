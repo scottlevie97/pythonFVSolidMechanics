{
 "cells": [
  {
   "cell_type": "markdown",
   "metadata": {},
   "source": [
    "### Traction BC: Boundary Points\n"
   ]
  },
  {
   "cell_type": "markdown",
   "metadata": {},
   "source": [
    "$$ \\underbrace{  \\rho \\int_V \\frac{\\partial^2 (\\bold{u})}{\\partial t^2} \\, dV }_{Temporal\\space term} -\\underbrace{ \\oint_S \\sigma \\cdot n \\, dS }_{Diffusion\\space term} = 0$$\n",
    "\n",
    "The RHS is the negative of the forces acting on the surface - this is why the signs are changed"
   ]
  },
  {
   "cell_type": "markdown",
   "metadata": {},
   "source": [
    "From the cell-centre perspective:"
   ]
  },
  {
   "cell_type": "markdown",
   "metadata": {},
   "source": [
    "\n",
    "$$\n",
    "\\left[\n",
    "\\mu \\left( \\dfrac{\\delta v}{\\delta x} + \\dfrac{\\delta u}{\\delta y} \\right)\n",
    "\\right] _N \n",
    "|S_N|\n",
    "=\n",
    "{tr_x}_N \n",
    "|S_N|\n",
    "\n",
    "\n",
    "$$"
   ]
  },
  {
   "cell_type": "markdown",
   "metadata": {},
   "source": [
    "$$\n",
    "\n",
    "\n",
    "\\left[\n",
    "\\mu\\dfrac{\\delta v}{\\delta x} \\right] _N + \\mu\\dfrac{u_N - u_P}{ dy / 2}\n",
    "\n",
    "=\n",
    "{tr_y}_N \n",
    "\n",
    "\n",
    "$$"
   ]
  },
  {
   "cell_type": "markdown",
   "metadata": {},
   "source": [
    "Now from the boundary point perspective: $u_N \\rightarrow u_P$, $u_P \\rightarrow u_S$:"
   ]
  },
  {
   "cell_type": "markdown",
   "metadata": {},
   "source": [
    "$$\n",
    "\n",
    "\n",
    "\\left[\n",
    "\\mu\\dfrac{\\delta v}{\\delta x} \\right] _N + \\mu\\dfrac{u_P - u_S}{ dy / 2}\n",
    "\n",
    "=\n",
    "{tr_y}_N \n",
    "\n",
    "\n",
    "$$"
   ]
  },
  {
   "cell_type": "markdown",
   "metadata": {},
   "source": [
    "$$\n",
    "\n",
    "\n",
    "\\left(\\dfrac{2\\mu}{ dy} \\right) u_P\n",
    "\n",
    "- \\left( \\dfrac{2\\mu}{dy}\\right) u_S\n",
    "\n",
    "=\n",
    "\n",
    "-\n",
    "\n",
    "\\left[\n",
    "\\mu\\dfrac{\\delta v}{\\delta x} \\right] _N\n",
    "\n",
    "+\n",
    "\n",
    "{tr_y}_N \n",
    "\n",
    "$$"
   ]
  },
  {
   "cell_type": "markdown",
   "metadata": {},
   "source": [
    "$$\n",
    "\n",
    "\n",
    "\\left(\\dfrac{2\\mu}{ dy} \\right) u_P\n",
    "\n",
    "- \\left( \\dfrac{2\\mu}{dy}\\right) u_S\n",
    "\n",
    "=\n",
    "\n",
    "-\n",
    "\n",
    "\\mu\\dfrac{v_E - v_W}{ 2dx} \n",
    "\n",
    "+\n",
    "\n",
    "{tr_y}_N \n",
    "\n",
    "$$"
   ]
  },
  {
   "cell_type": "markdown",
   "metadata": {},
   "source": [
    "#### y - direction"
   ]
  },
  {
   "cell_type": "markdown",
   "metadata": {},
   "source": [
    "$$\n",
    "\n",
    "\n",
    "\\left[\n",
    "(2\\mu + \\lambda)\\dfrac{\\delta v}{\\delta y} + \\lambda\\dfrac{\\delta u}{\\delta x}\n",
    "\\right] _N \n",
    "|S_N|\n",
    "=\n",
    "{tr_y}_N |S_N|\n",
    "\n",
    "$$"
   ]
  },
  {
   "cell_type": "markdown",
   "metadata": {},
   "source": [
    "$$\n",
    "\n",
    "\n",
    "(2\\mu + \\lambda)\\dfrac{v_N - v_P}{ dy/2} + \n",
    "\\left[\\lambda\\dfrac{\\delta u}{\\delta x}\n",
    "\\right] _N \n",
    "\n",
    "=\n",
    "{tr_y}_N \n",
    "\n",
    "$$"
   ]
  },
  {
   "cell_type": "markdown",
   "metadata": {},
   "source": [
    "Now from the boundary point perspective: $v_N \\rightarrow v_P$, $v_P \\rightarrow v_S$:"
   ]
  },
  {
   "cell_type": "markdown",
   "metadata": {},
   "source": [
    "$$\n",
    "\n",
    "\n",
    "2(2\\mu + \\lambda)\\dfrac{v_P - v_S}{ dy}\n",
    "\n",
    "=\n",
    "\n",
    "-\n",
    "\\left[\\lambda\\dfrac{\\delta u}{\\delta x}\n",
    "\\right] _N \n",
    "+ \n",
    "{tr_y}_N \n",
    "\n",
    "$$\n",
    "\n",
    "$$\n",
    "\n",
    "\n",
    "2\\left(\\dfrac{2\\mu + \\lambda}{dy} \\right)v_P - 2\\left(\\dfrac{2\\mu + \\lambda}{dy} \\right)v_s\n",
    "\n",
    "=\n",
    "\n",
    "-\n",
    "\n",
    "(\\lambda)\\dfrac{u_E - u_W}{2 dx} \n",
    "\n",
    "+ \n",
    "{tr_y}_N \n",
    "\n",
    "$$"
   ]
  },
  {
   "cell_type": "markdown",
   "metadata": {},
   "source": [
    "For each boundary we get: "
   ]
  },
  {
   "cell_type": "markdown",
   "metadata": {},
   "source": [
    "#### South x-direction"
   ]
  },
  {
   "cell_type": "markdown",
   "metadata": {},
   "source": [
    "\n",
    "$$\n",
    "-\n",
    "\\left[\n",
    "\\mu \\left( \\dfrac{\\delta v}{\\delta x} + \\dfrac{\\delta u}{\\delta y} \\right)\n",
    "\\right] _S \n",
    "|S_S|\n",
    "=\n",
    "{tr_x}_S \n",
    "|S_S|\n",
    "\n",
    "\n",
    "$$"
   ]
  },
  {
   "cell_type": "markdown",
   "metadata": {},
   "source": [
    "$$\n",
    "\n",
    "-\n",
    "\\left[\n",
    "\\mu\\dfrac{\\delta v}{\\delta x} \\right] _S\n",
    "\n",
    "- \\mu\\dfrac{u_P - u_S}{ dy / 2}\n",
    "\n",
    "=\n",
    "{tr_x}_S\n",
    "\n",
    "\n",
    "$$"
   ]
  },
  {
   "cell_type": "markdown",
   "metadata": {},
   "source": [
    "Now from the boundary point perspective: $u_S \\rightarrow u_P$, $u_P \\rightarrow u_N$:"
   ]
  },
  {
   "cell_type": "markdown",
   "metadata": {},
   "source": [
    "$$\n",
    "\n",
    "-\n",
    "\\left[\n",
    "\\mu\\dfrac{\\delta v}{\\delta x} \\right] _S\n",
    "\n",
    "- \\mu\\dfrac{u_N - u_P}{ dy / 2}\n",
    "\n",
    "=\n",
    "{tr_x}_S\n",
    "\n",
    "\n",
    "$$"
   ]
  },
  {
   "cell_type": "markdown",
   "metadata": {},
   "source": [
    "$$\n",
    "\n",
    "\n",
    "2\\left(\\dfrac{\\mu}{ dy} \\right) u_P\n",
    "\n",
    "- 2\\left( \\dfrac{\\mu}{dy}\\right) u_N\n",
    "\n",
    "=\n",
    "\n",
    "+\n",
    "\n",
    "\\left[\n",
    "\\mu\\dfrac{\\delta v}{\\delta x} \\right] _S\n",
    "\n",
    "+\n",
    "\n",
    "{tr_x}_S \n",
    "\n",
    "$$"
   ]
  },
  {
   "cell_type": "markdown",
   "metadata": {},
   "source": [
    "$$\n",
    "\n",
    "2\\left(\\dfrac{\\mu}{ dy} \\right) u_P\n",
    "\n",
    "- 2\\left( \\dfrac{\\mu}{dy}\\right) u_N\n",
    "\n",
    "=\n",
    "\n",
    "+\n",
    "\n",
    "\\mu\\dfrac{v_E - v_W}{ 2dx} \n",
    "\n",
    "+\n",
    "\n",
    "{tr_x}_S\n",
    "\n",
    "$$"
   ]
  },
  {
   "cell_type": "markdown",
   "metadata": {},
   "source": [
    "#### South y-direction"
   ]
  },
  {
   "cell_type": "markdown",
   "metadata": {},
   "source": [
    "$$\n",
    "\n",
    "-\n",
    "\\left[\n",
    "(2\\mu + \\lambda)\\dfrac{\\delta v}{\\delta y} + \\lambda\\dfrac{\\delta u}{\\delta x}\n",
    "\\right] _S \n",
    "|S_S|\n",
    "=\n",
    "{tr_y}_S |S_S|\n",
    "\n",
    "$$"
   ]
  },
  {
   "cell_type": "markdown",
   "metadata": {},
   "source": [
    "$$\n",
    "\n",
    "-\n",
    "(2\\mu + \\lambda)\\dfrac{v_P - v_S}{ dy/2} -\n",
    "\\left[\\lambda\\dfrac{\\delta u}{\\delta x}\n",
    "\\right] _S \n",
    "\n",
    "=\n",
    "{tr_y}_S \n",
    "\n",
    "$$"
   ]
  },
  {
   "cell_type": "markdown",
   "metadata": {},
   "source": [
    "Now from the boundary point perspective: $v_S \\rightarrow v_P$, $v_P \\rightarrow v_N$:"
   ]
  },
  {
   "cell_type": "markdown",
   "metadata": {},
   "source": [
    "$$\n",
    "\n",
    "\n",
    "-2(2\\mu + \\lambda)\\dfrac{v_S - v_P}{ dy}\n",
    "\n",
    "=\n",
    "\n",
    "+\n",
    "\\left[\\lambda\\dfrac{\\delta u}{\\delta x}\n",
    "\\right] _S \n",
    "+ \n",
    "{tr_y}_S \n",
    "\n",
    "$$\n",
    "\n",
    "$$\n",
    "\n",
    "\n",
    "2\\left(\\dfrac{2\\mu + \\lambda}{dy} \\right)v_P - 2\\left(\\dfrac{2\\mu + \\lambda}{dy} \\right)v_s\n",
    "\n",
    "=\n",
    "\n",
    "+\n",
    "\n",
    "(\\lambda)\\dfrac{u_E - u_W}{ 2dx} \n",
    "\n",
    "+ \n",
    "{tr_y}_S \n",
    "\n",
    "$$"
   ]
  },
  {
   "cell_type": "markdown",
   "metadata": {},
   "source": [
    "#### East: x-direction\n"
   ]
  },
  {
   "cell_type": "markdown",
   "metadata": {},
   "source": [
    "$$\n",
    "\n",
    "\\left[\n",
    "(2\\mu + \\lambda)\\dfrac{\\delta u}{\\delta x} + \\lambda\\dfrac{\\delta v}{\\delta y}\n",
    "\\right] _W |S_E|\n",
    "= \n",
    "{tr_x}_E |S_E|\n",
    "$$\n",
    "\n"
   ]
  },
  {
   "cell_type": "markdown",
   "metadata": {},
   "source": [
    "$$\n",
    "\n",
    "\n",
    "(2\\mu + \\lambda)\\dfrac{u_E - u_P}{dx/2} + \\left[ \\lambda\\dfrac{\\delta v}{\\delta y}\n",
    "\\right] _E \n",
    "= \n",
    "{tr_x}_E\n",
    "$$\n"
   ]
  },
  {
   "cell_type": "markdown",
   "metadata": {},
   "source": [
    "Now from the boundary point perspective: $u_E \\rightarrow u_P$, $u_P \\rightarrow u_W$:\n",
    "\n"
   ]
  },
  {
   "cell_type": "markdown",
   "metadata": {},
   "source": [
    "$$\n",
    "\n",
    "2(2\\mu + \\lambda)\\dfrac{u_P - u_W}{dx} \n",
    "= \n",
    "\n",
    "- \\left[ \\lambda\\dfrac{\\delta v}{\\delta y}\n",
    "\\right] _E \n",
    "+\n",
    "{tr_x}_E\n",
    "$$"
   ]
  },
  {
   "cell_type": "markdown",
   "metadata": {},
   "source": [
    "$$\n",
    "\n",
    "2\\left(\\frac{2\\mu + \\lambda}{dx}\\right)u_P - 2\\left(\\frac{2\\mu + \\lambda}{dx}\\right)u_W\n",
    "= \n",
    "\n",
    "-  (\\lambda)\\dfrac{v_N - v_S}{2dy}\n",
    "\n",
    "+\n",
    "{tr_x}_E\n",
    "$$"
   ]
  },
  {
   "cell_type": "markdown",
   "metadata": {},
   "source": [
    "#### East: y-direction\n"
   ]
  },
  {
   "cell_type": "markdown",
   "metadata": {},
   "source": [
    "$$ \n",
    "\n",
    "\\left[\n",
    "\\mu \\left( \\dfrac{\\delta v}{\\delta x} + \\dfrac{\\delta u}{\\delta y} \\right)\n",
    "\\right] _E|S_E|\n",
    "=\n",
    "{tr_y}_E|S_E|\n",
    "$$"
   ]
  },
  {
   "cell_type": "markdown",
   "metadata": {},
   "source": [
    "$$\n",
    "\\mu\\frac{v_E - v_P}{dx/2} + \\left[\\mu \\frac{\\delta u}{\\delta y}\\right]_E = {tr_y}_E\n",
    "$$"
   ]
  },
  {
   "cell_type": "markdown",
   "metadata": {},
   "source": [
    "Now from the boundary point perspective: $v_E \\rightarrow v_P$, $v_P \\rightarrow v_W$:"
   ]
  },
  {
   "cell_type": "markdown",
   "metadata": {},
   "source": [
    "$$\n",
    "2\\mu\\frac{v_P - v_W}{dx}x =  - \\left[\\mu \\frac{\\delta u}{\\delta y}\\right]_E + {tr_y}_E\n",
    "\n",
    "$$"
   ]
  },
  {
   "cell_type": "markdown",
   "metadata": {},
   "source": [
    "$$\n",
    "\n",
    "2\\left( \\frac{\\mu}{dx} \\right) v_P - 2\\left( \\frac{\\mu}{dx} \\right) v_W = - (\\mu) \\dfrac{u_N - u_S}{2dy} +  {tr_y}_E\n",
    "\n",
    "$$"
   ]
  },
  {
   "cell_type": "markdown",
   "metadata": {},
   "source": [
    "#### West: x-direction\n"
   ]
  },
  {
   "cell_type": "markdown",
   "metadata": {},
   "source": [
    "$$\n",
    "-\n",
    "\\left[\n",
    "(2\\mu + \\lambda)\\dfrac{\\delta u}{\\delta x} + \\lambda\\dfrac{\\delta v}{\\delta y}\n",
    "\\right] _W |S_W|\n",
    "= \n",
    "{tr_x}_W |S_W|\n",
    "$$\n",
    "\n"
   ]
  },
  {
   "cell_type": "markdown",
   "metadata": {},
   "source": [
    "$$\n",
    "\n",
    "-\n",
    "(2\\mu + \\lambda)\\dfrac{u_P - u_W}{dx/2} \n",
    "\n",
    "-\n",
    " \\left[ \\lambda\\dfrac{\\delta v}{\\delta y}\n",
    "\\right] _W \n",
    "= \n",
    "\n",
    "{tr_x}_W\n",
    "$$\n"
   ]
  },
  {
   "cell_type": "markdown",
   "metadata": {},
   "source": [
    "Now from the boundary point perspective: $u_W \\rightarrow u_P$, $u_P \\rightarrow u_E$:"
   ]
  },
  {
   "cell_type": "markdown",
   "metadata": {},
   "source": [
    "$$\n",
    "-\n",
    "2(2\\mu + \\lambda)\\dfrac{u_E - u_P}{dx} \n",
    "= \n",
    "\n",
    " \\left[ \\lambda\\dfrac{\\delta v}{\\delta y}\n",
    "\\right] _W \n",
    "+\n",
    "{tr_x}_W\n",
    "$$"
   ]
  },
  {
   "cell_type": "markdown",
   "metadata": {},
   "source": [
    "$$\n",
    "\n",
    "2\\left(\\frac{2\\mu + \\lambda}{dx}\\right)u_P - 2\\left(\\frac{2\\mu + \\lambda}{dx}\\right)u_E\n",
    "= \n",
    "\n",
    "(\\lambda)\\dfrac{v_N - v_S}{2dy}\n",
    "\n",
    "+\n",
    "{tr_x}_W\n",
    "$$"
   ]
  },
  {
   "cell_type": "markdown",
   "metadata": {},
   "source": [
    "#### West: y-direction\n"
   ]
  },
  {
   "cell_type": "markdown",
   "metadata": {},
   "source": [
    "$$ \n",
    "-\n",
    "\\left[\n",
    "\\mu \\left( \\dfrac{\\delta v}{\\delta x} + \\dfrac{\\delta u}{\\delta y} \\right)\n",
    "\\right] _W|S_W|\n",
    "=\n",
    "{tr_y}_W|S_W|\n",
    "$$"
   ]
  },
  {
   "cell_type": "markdown",
   "metadata": {},
   "source": [
    "$$\n",
    "-\n",
    "\\mu\\frac{v_P - v_W}{dx/2} \n",
    "-\n",
    " \\left[\\mu \\frac{\\delta u}{\\delta y}\\right]_W = {tr_y}_W\n",
    "$$"
   ]
  },
  {
   "cell_type": "markdown",
   "metadata": {},
   "source": [
    "Now from the boundary point perspective: $v_W \\rightarrow v_P$, $v_P \\rightarrow v_E$:"
   ]
  },
  {
   "cell_type": "markdown",
   "metadata": {},
   "source": [
    "$$\n",
    "- 2\\mu\\frac{v_E - v_P}{dx} =  \\left[\\mu \\frac{\\delta u}{\\delta y}\\right]_W + {tr_y}_W\n",
    "\n",
    "$$"
   ]
  },
  {
   "cell_type": "markdown",
   "metadata": {},
   "source": [
    "$$\n",
    "\n",
    "2\\left( \\frac{\\mu}{dx} \\right) v_P - 2\\left( \\frac{\\mu}{dx} \\right) v_E = (\\mu) \\dfrac{u_N - u_S}{2dy} +  {tr_y}_W\n",
    "\n",
    "$$"
   ]
  },
  {
   "cell_type": "markdown",
   "metadata": {},
   "source": [
    "<table border=\"0\">\n",
    " <tr>\n",
    "    <td>Face</b></td>\n",
    "    <td>x-direction</b></td>\n",
    "    <td>y-direction</b></td>\n",
    " </tr>\n",
    " <tr>\n",
    "<td>\n",
    "\n",
    "North N\n",
    "\n",
    "\n",
    "\n",
    "South S\n",
    "\n",
    "\n",
    "\n",
    "East E\n",
    "\n",
    "West W\n",
    "<td>\n",
    "\n",
    "$$\n",
    "2\\left(\\dfrac{\\mu}{ dy} \\right) u_P\n",
    "- 2\\left( \\dfrac{\\mu}{dy}\\right) u_S\n",
    "=\n",
    "-\n",
    "(\\mu)\\dfrac{v_E - v_W}{ 2dx} \n",
    "+\n",
    "{tr_y}_N \n",
    "$$\n",
    "\n",
    "$$\n",
    "2\\left(\\dfrac{\\mu}{ dy} \\right) u_P\n",
    "- 2\\left( \\dfrac{\\mu}{dy}\\right) u_N\n",
    "=\n",
    "+\n",
    "(\\mu)\\dfrac{v_E - v_W}{ 2dx} \n",
    "+\n",
    "{tr_x}_S\n",
    "$$\n",
    "\n",
    "$$\n",
    "2\\left(\\frac{2\\mu + \\lambda}{dx}\\right)u_P - 2\\left(\\frac{2\\mu + \\lambda}{dx}\\right)u_W\n",
    "= \n",
    "-  (\\lambda)\\dfrac{v_N - v_S}{2dy}\n",
    "+\n",
    "{tr_x}_E\n",
    "$$\n",
    "\n",
    "$$\n",
    "2\\left(\\frac{2\\mu + \\lambda}{dx}\\right)u_P - 2\\left(\\frac{2\\mu + \\lambda}{dx}\\right)u_E\n",
    "= \n",
    "(\\lambda)\\dfrac{v_N - v_S}{2dy}\n",
    "+\n",
    "{tr_x}_W\n",
    "$$\n",
    "</td>\n",
    "<td>\n",
    "\n",
    "$$\n",
    "2\\left(\\dfrac{2\\mu + \\lambda}{dy} \\right)v_P - 2\\left(\\dfrac{2\\mu + \\lambda}{dy} \\right)v_s\n",
    "=\n",
    "-\n",
    "(\\lambda)\\dfrac{u_E - u_W}{2 dx} \n",
    "+ \n",
    "{tr_y}_N \n",
    "$$\n",
    "\n",
    "$$\n",
    "2\\left(\\dfrac{2\\mu + \\lambda}{dy} \\right)v_P - 2\\left(\\dfrac{2\\mu + \\lambda}{dy} \\right)v_s\n",
    "=\n",
    "+\n",
    "(\\lambda)\\dfrac{u_E - u_W}{ 2dx} \n",
    "+ \n",
    "{tr_y}_S \n",
    "$$\n",
    "\n",
    "$$\n",
    "2\\left( \\frac{\\mu}{dx} \\right) v_P - 2\\left( \\frac{\\mu}{dx} \\right) v_W = - (\\mu) \\dfrac{u_N - u_S}{2dy} +  {tr_y}_E\n",
    "$$\n",
    "\n",
    "$$\n",
    "2\\left( \\frac{\\mu}{dx} \\right) v_P - 2\\left( \\frac{\\mu}{dx} \\right) v_E = (\\mu) \\dfrac{u_N - u_S}{2dy} +  {tr_y}_W\n",
    "$$\n",
    "\n",
    "</td>\n",
    " </tr>\n",
    "</table>"
   ]
  },
  {
   "cell_type": "markdown",
   "metadata": {},
   "source": [
    "| Face | x-direction | y-direction |\n",
    "--|:---------:|:-----------:\n",
    "| North N |$$ 2\\left(\\dfrac{\\mu}{ dy} \\right) u_P- 2\\left( \\dfrac{\\mu}{dy}\\right) u_S=-(\\mu)\\dfrac{v_E - v_W}{ 2dx} + {tr_y}_N $$ |$$2\\left(\\dfrac{2\\mu + \\lambda}{dy} \\right)v_P - 2\\left(\\dfrac{2\\mu + \\lambda}{dy} \\right)v_s=-(\\lambda)\\dfrac{u_E - u_W}{2 dx} + {tr_y}_N $$|\n",
    "| South S |$$2\\left(\\dfrac{\\mu}{ dy} \\right) u_P- 2\\left( \\dfrac{\\mu}{dy}\\right) u_N=+(\\mu)\\dfrac{v_E - v_W}{ 2dx} +{tr_x}_S$$ | $$2\\left(\\dfrac{2\\mu + \\lambda}{dy} \\right)v_P - 2\\left(\\dfrac{2\\mu + \\lambda}{dy} \\right)v_s=+(\\lambda)\\dfrac{u_E - u_W}{ 2dx} + {tr_y}_S $$ |\n",
    "| East E |$$2\\left(\\frac{2\\mu + \\lambda}{dx}\\right)u_P - 2\\left(\\frac{2\\mu + \\lambda}{dx}\\right)u_W= -  (\\lambda)\\dfrac{v_N - v_S}{2dy}+{tr_x}_E$$ | $$2\\left( \\frac{\\mu}{dx} \\right) v_P - 2\\left( \\frac{\\mu}{dx} \\right) v_W = - (\\mu) \\dfrac{u_N - u_S}{2dy} +  {tr_y}_E$$ |\n",
    "| West W |$$2\\left(\\frac{2\\mu + \\lambda}{dx}\\right)u_P - 2\\left(\\frac{2\\mu + \\lambda}{dx}\\right)u_E= (\\lambda)\\dfrac{v_N - v_S}{2dy}+{tr_x}_W$$ | $$2\\left( \\frac{\\mu}{dx} \\right) v_P - 2\\left( \\frac{\\mu}{dx} \\right) v_E = (\\mu) \\dfrac{u_N - u_S}{2dy} +  {tr_y}_W$$ |\n"
   ]
  },
  {
   "cell_type": "markdown",
   "metadata": {},
   "source": []
  }
 ],
 "metadata": {
  "interpreter": {
   "hash": "18ed160ad9db49083d5c6dbf82376d1730af41ed005a12d6dc5900d1b4ae07ba"
  },
  "kernelspec": {
   "display_name": "Python 3.9.5 64-bit ('base': conda)",
   "language": "python",
   "name": "python3"
  },
  "language_info": {
   "codemirror_mode": {
    "name": "ipython",
    "version": 3
   },
   "file_extension": ".py",
   "mimetype": "text/x-python",
   "name": "python",
   "nbconvert_exporter": "python",
   "pygments_lexer": "ipython3",
   "version": "3.9.5"
  },
  "orig_nbformat": 4
 },
 "nbformat": 4,
 "nbformat_minor": 2
}
