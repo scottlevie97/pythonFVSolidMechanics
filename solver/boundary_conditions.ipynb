{
 "cells": [
  {
   "cell_type": "code",
   "execution_count": 2,
   "metadata": {},
   "outputs": [],
   "source": [
    "from ipynb.fs.full.setup import *\n",
    "from ipynb.fs.full.A_matrix import *\n",
    "from ipynb.fs.full.boundaryCellDisplacement import *\n",
    "from ipynb.fs.full.boundaryCellTraction import *\n",
    "from ipynb.fs.full.boundaryPointTraction import *\n",
    "from ipynb.fs.full.cell_corner_BCs import *\n"
   ]
  },
  {
   "cell_type": "code",
   "execution_count": 3,
   "metadata": {},
   "outputs": [],
   "source": [
    "def cell_boundary_selection(\n",
    "    A_matrix, b_matrix, k, edges, xy, U_old, U_old_old, U_previous\n",
    "):\n",
    "\n",
    "    if BC_settings(edges[0]).traction:\n",
    "        A_matrix, b_matrix = traction_cell_BCs(\n",
    "            A_matrix, b_matrix, k, edges, xy, U_old, U_old_old, U_previous\n",
    "        )\n",
    "\n",
    "    elif BC_settings(edges[0]).fixed_displacement:\n",
    "        A_matrix, b_matrix = displacement_cell_BCs(\n",
    "            A_matrix, b_matrix, k, edges, xy, U_old, U_old_old, U_previous\n",
    "        )\n",
    "\n",
    "    return A_matrix, b_matrix"
   ]
  },
  {
   "cell_type": "code",
   "execution_count": 4,
   "metadata": {},
   "outputs": [],
   "source": [
    "def boundary_conditions(A_matrix, b_matrix, U_previous, U_old, U_old_old, xy):\n",
    "    for k in np.arange(0,(nx)*(ny)):   # j is the cell number\n",
    "\n",
    "    #    #Bottom left corner coefficients        \n",
    "        if cell_index().bottom_left_corner(k):  \n",
    "\n",
    "            edges = [\"b\", \"l\"]\n",
    "            \n",
    "            A_matrix, b_matrix = cell_corner_BCs(A_matrix, b_matrix, k, edges, xy, U_previous, U_old, U_old_old)          \n",
    "\n",
    "        #Bottom right corner coefficients            \n",
    "        elif  cell_index().bottom_right_corner(k):\n",
    "            edges = [\"b\", \"r\"]\n",
    "            \n",
    "            A_matrix, b_matrix = cell_corner_BCs(A_matrix, b_matrix, k, edges, xy, U_previous, U_old, U_old_old)\n",
    "\n",
    "        #Top left corner coefficients            \n",
    "        elif  cell_index().top_left_corner(k):\n",
    "            edges = [\"t\", \"l\"]\n",
    "        \n",
    "            A_matrix, b_matrix = cell_corner_BCs(A_matrix, b_matrix, k, edges, xy, U_previous, U_old, U_old_old)\n",
    "\n",
    "        #Top right corner coefficients            \n",
    "        elif  cell_index().top_right_corner(k):  \n",
    "            edges = [\"t\", \"r\"]\n",
    "            \n",
    "            A_matrix, b_matrix = cell_corner_BCs(A_matrix, b_matrix, k, edges, xy, U_previous, U_old, U_old_old)\n",
    "\n",
    "        # Center Bottom Boundaries\n",
    "        elif  cell_index().center_bottom(k):\n",
    "            edges = [\"b\"]\n",
    "\n",
    "            A_matrix, b_matrix = cell_boundary_selection(A_matrix, b_matrix, k, edges, xy, U_old, U_old_old, U_previous)\n",
    "\n",
    "        # Center Top Boundaries\n",
    "        elif cell_index().center_top(k):\n",
    "            edges = [\"t\"]\n",
    "\n",
    "            A_matrix, b_matrix = cell_boundary_selection(A_matrix, b_matrix, k, edges, xy, U_old, U_old_old, U_previous)\n",
    "\n",
    "        # Center Left Boundaries\n",
    "        elif  cell_index().center_left(k):\n",
    "            edges = [\"l\"]\n",
    "\n",
    "            A_matrix, b_matrix = cell_boundary_selection(A_matrix, b_matrix, k, edges, xy, U_old, U_old_old, U_previous)\n",
    "\n",
    "        # Center Right Boundaries\n",
    "        elif  cell_index().center_right(k):\n",
    "            edges = [\"r\"]\n",
    "\n",
    "            A_matrix, b_matrix = cell_boundary_selection(A_matrix, b_matrix, k, edges, xy, U_old, U_old_old, U_previous)\n",
    "\n",
    "        else:\n",
    "\n",
    "            b_matrix[k] = (\n",
    "                            A.b_temp(U_old, U_old_old, k, xy)\n",
    "                            +\n",
    "                            A.b_diff(k, xy, U_previous)\n",
    "                        )\n",
    "\n",
    "    return A_matrix, b_matrix\n"
   ]
  }
 ],
 "metadata": {
  "interpreter": {
   "hash": "18ed160ad9db49083d5c6dbf82376d1730af41ed005a12d6dc5900d1b4ae07ba"
  },
  "kernelspec": {
   "display_name": "Python 3.9.5 ('base')",
   "language": "python",
   "name": "python3"
  },
  "language_info": {
   "codemirror_mode": {
    "name": "ipython",
    "version": 3
   },
   "file_extension": ".py",
   "mimetype": "text/x-python",
   "name": "python",
   "nbconvert_exporter": "python",
   "pygments_lexer": "ipython3",
   "version": "3.9.5"
  },
  "orig_nbformat": 4
 },
 "nbformat": 4,
 "nbformat_minor": 2
}
