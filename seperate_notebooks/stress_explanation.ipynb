{
 "cells": [
  {
   "cell_type": "markdown",
   "metadata": {},
   "source": [
    "Stress throughout a 3 dimensional domain is a 2nd order tensor field, i.e, it requires 9 values to describe it's properties (a vector requires 3) at a given point within the field.\n",
    "\n",
    "The stress tensor at a point within field can be given in matrix form: \n",
    "\n",
    "$$ \n",
    "\\sigma\n",
    "=\n",
    "\\begin{bmatrix}\n",
    "\\sigma_{11} & \\sigma_{12} & \\sigma_{13} \\\\\n",
    "\\sigma_{21} & \\sigma_{22} & \\sigma_{23} \\\\\n",
    "\\sigma_{31} & \\sigma_{32} & \\sigma_{33}\n",
    "\\end{bmatrix}\n",
    "$$\n",
    "\n",
    "So what is stress? \n",
    "\n",
    "Stress is force per area: $\\frac{Force}{Area}$\n",
    "\n",
    "This can be either **normal stress** or **shear stress**:\n",
    "\n",
    "- Normal stress acts perpendicular to the area in question\n",
    "- Shear stress acts parallel to the area in question. \n",
    "\n"
   ]
  },
  {
   "cell_type": "markdown",
   "metadata": {},
   "source": [
    "As stress is a field, it can be determined/evaluated at every point within the field. However, as you can see above stress has Area in it's equation. TO derive stress we look at a point within the field and the cross-sectional planes this point is on, and use plane areas that become infinitely small.  "
   ]
  },
  {
   "cell_type": "markdown",
   "metadata": {},
   "source": [
    "<center><img src=\"./Paper_Images/Stress_Images/all_planes.png\" alt=\"Drawing\" style=\"width: 300px;\"/></center> "
   ]
  },
  {
   "cell_type": "markdown",
   "metadata": {},
   "source": [
    "Taking a closer look at each plane: \n",
    "\n",
    "<img src=\"./Paper_Images/Stress_Images/x_plane.png\" alt=\"Drawing\" style=\"width: 200px;\"/>\n",
    "<img src=\"./Paper_Images/Stress_Images/y_plane.png\" alt=\"Drawing\" style=\"width: 200px;\"/>\n",
    "<img src=\"./Paper_Images/Stress_Images/z_plane.png\" alt=\"Drawing\" style=\"width: 200px;\"/>\n"
   ]
  },
  {
   "cell_type": "markdown",
   "metadata": {},
   "source": [
    "Now imagine a force $F$ is acting on this point. This force can be decomposed into 3 vectors along the coordinate axis: \n",
    "\n",
    "<center><img src=\"./Paper_Images/Stress_Images/forces.png\" alt=\"Drawing\" style=\"width: 300px;\"/></center> "
   ]
  },
  {
   "cell_type": "markdown",
   "metadata": {},
   "source": [
    "Now let's inspect how these forces effect each of our planes. Starting with the $x$-plane. The area the forces acts on the x-plane will be denoted $\\Delta A_x$\n",
    "\n",
    "<center><img src=\"./Paper_Images/Stress_Images/x_1.png\" alt=\"Drawing\" style=\"width: 300px;\"/></center> "
   ]
  },
  {
   "cell_type": "markdown",
   "metadata": {},
   "source": [
    "As said previously normal stress occurs normal stress acts perpendicular to the area in question. The force causing this stress is $\\Delta F_x$.\n",
    "\n",
    "Shear stress acts parallel to the area in question. The force causing the shear stress for this plane is $\\Delta F_y$ and $\\Delta F_z$.\n",
    "\n",
    "So we now can derive 3 expressions for 3 values of stress. 1 normal and 2 shear. For simplicity we will use $\\tau$ to denote shear stress, so that we differentiate from normal stress $\\sigma$. "
   ]
  },
  {
   "cell_type": "markdown",
   "metadata": {},
   "source": [
    "As a naming convention the first subscript will denote the plane in question, and the second subscript will denote the direction of the force.\n",
    "\n",
    "The normal stress for the $x$-plane is expressed as: \n",
    "\n",
    "$$ \\sigma_{xx} = \\frac{\\Delta F_x}{\\Delta A_x} $$\n",
    "\n",
    "\n",
    "<center><img src=\"./Paper_Images/Stress_Images/x_x.png\" alt=\"Drawing\" style=\"width: 300px;\"/></center> "
   ]
  },
  {
   "cell_type": "markdown",
   "metadata": {},
   "source": [
    "\n",
    "and the shear stresses as;\n",
    "\n",
    "$$ \\tau_{xy} = \\frac{\\Delta F_y}{\\Delta A_x}$$\n",
    "$$ \\tau_{xz} = \\frac{\\Delta F_z}{\\Delta A_x} $$  \n",
    "\n",
    "<img src=\"./Paper_Images/Stress_Images/x_y.png\" alt=\"Drawing\" style=\"width: 300px;\"/>\n",
    "<img src=\"./Paper_Images/Stress_Images/x_z.png\" alt=\"Drawing\" style=\"width: 300px;\"/>\n"
   ]
  },
  {
   "cell_type": "markdown",
   "metadata": {},
   "source": []
  }
 ],
 "metadata": {
  "kernelspec": {
   "display_name": "Python 3.9.5 ('base')",
   "language": "python",
   "name": "python3"
  },
  "language_info": {
   "codemirror_mode": {
    "name": "ipython",
    "version": 3
   },
   "file_extension": ".py",
   "mimetype": "text/x-python",
   "name": "python",
   "nbconvert_exporter": "python",
   "pygments_lexer": "ipython3",
   "version": "3.9.5"
  },
  "orig_nbformat": 4,
  "vscode": {
   "interpreter": {
    "hash": "18ed160ad9db49083d5c6dbf82376d1730af41ed005a12d6dc5900d1b4ae07ba"
   }
  }
 },
 "nbformat": 4,
 "nbformat_minor": 2
}
