{
 "cells": [
  {
   "cell_type": "code",
   "execution_count": 17,
   "metadata": {},
   "outputs": [],
   "source": [
    "import numpy as np\n",
    "import pandas as pd\n",
    "import math\n",
    "from scipy.sparse import csr_matrix\n",
    "from scipy.sparse.linalg import spsolve\n",
    "\n",
    "def printVar (varname, var):\n",
    "\n",
    "    print(varname)\n",
    "    print(var)\n",
    "\n",
    "def saveArray (name, array):\n",
    "\n",
    "    pd.DataFrame(array).to_csv(\"savedVariables/\" + name + \".csv\")\n",
    "\n"
   ]
  },
  {
   "cell_type": "code",
   "execution_count": 18,
   "metadata": {},
   "outputs": [],
   "source": [
    "# Solve the 2D Navier-Cauchy equation using a segregated finite volume method\n",
    "\n",
    "# Define mesh geometry and boundary conditions\n",
    "\n",
    "Lx = .01 #width of domain\n",
    "Ly = .01 #height of domain\n",
    "\n",
    "fac = 1\n",
    "\n",
    "u_left = fac*5e-6      #u boundary condition at the left boundary\n",
    "v_left = fac*3e-6      #v boundary condition at the left boundary\n",
    "\n",
    "u_right = fac*5e-6     #u boundary condition at the right boundary\n",
    "v_right = fac*1e-6     #v boundary condition at the right boundary\n",
    "\n",
    "u_top = fac*1e-6       #u boundary condition at the top boundary\n",
    "v_top = fac*1e-6       #v boundary condition at the top boundary\n",
    "\n",
    "u_bottom = fac*7e-6    #u boundary condition at the bottom boundary \n",
    "v_bottom = fac*1e-6    #v boundary condition at the bottom boundary\n",
    "\n",
    "nx = 10            #number of control volumes in the x-direction\n",
    "ny = 10            #number of control volumes in the y-direction\n"
   ]
  },
  {
   "cell_type": "code",
   "execution_count": 19,
   "metadata": {},
   "outputs": [],
   "source": [
    "# Solve the 2D Navier-Cauchy equation using a segregated finite volume method\n",
    "\n",
    "# Define mesh geometry and boundary conditions\n",
    "\n",
    "# Lx = .01 #width of domain\n",
    "# Ly = .01 #height of domain\n",
    "\n",
    "# u_left = 0e-6      #u boundary condition at the left boundary\n",
    "# v_left = 0e-6      #v boundary condition at the left boundary\n",
    "\n",
    "# u_right = 0e-6     #u boundary condition at the right boundary\n",
    "# v_right = 0e-6     #v boundary condition at the right boundary\n",
    "\n",
    "# u_top = 0e-6       #u boundary condition at the top boundary\n",
    "# v_top = 0e-6       #v boundary condition at the top boundary\n",
    "\n",
    "# u_bottom = 0e-6    #u boundary condition at the bottom boundary \n",
    "# v_bottom = 0e-6    #v boundary condition at the bottom boundary\n",
    "\n",
    "# nx = 10            #number of control volumes in the x-direction\n",
    "# ny = 10            #number of control volumes in the y-direction\n"
   ]
  },
  {
   "cell_type": "code",
   "execution_count": 20,
   "metadata": {},
   "outputs": [
    {
     "name": "stdout",
     "output_type": "stream",
     "text": [
      "1080000000000.0\n"
     ]
    }
   ],
   "source": [
    "# Define material properties\n",
    "\n",
    "rho = 8050         #density of steel in kg/m^3\n",
    "mu = 78*10e9       #shear modulus in Pa\n",
    "K = 1.6*10e11      #bulk modulus in Pa\n",
    "\n",
    "Lambda = K - (2/3)*mu\n",
    "\n",
    "print(Lambda)"
   ]
  },
  {
   "cell_type": "code",
   "execution_count": 21,
   "metadata": {},
   "outputs": [],
   "source": [
    "\n",
    "\n",
    "## Define required variables\n",
    "\n",
    "tf = 0.01              #total time in seconds\n",
    "dx = Lx/nx          #length of each control volume in the x-direction\n",
    "dy = Ly/ny          #length of each control volume in the y-direction\n",
    "dt = tf/10         #size of time steps\n",
    "Sfx = dy            #area vector x component (Area of East and West Faces)\n",
    "Sfy = dx            #area vector y component (Area of North and South Faces)\n"
   ]
  },
  {
   "cell_type": "code",
   "execution_count": 22,
   "metadata": {},
   "outputs": [
    {
     "name": "stdout",
     "output_type": "stream",
     "text": [
      "[[0.     0.0005 0.0015 0.0025 0.0035 0.0045 0.0055 0.0065 0.0075 0.0085\n",
      "  0.0095 0.01  ]]\n",
      "[[0.     0.0005 0.0015 0.0025 0.0035 0.0045 0.0055 0.0065 0.0075 0.0085\n",
      "  0.0095 0.01  ]]\n"
     ]
    }
   ],
   "source": [
    "## Define  position and time vectors\n",
    "\n",
    "t = np.array(np.arange(0,tf, dt))        #time vector (could possibly use a list)\n",
    "x = np.zeros((1,nx+2))   #position vector defining the center points of the control volumes in the x-direction.\n",
    "x[0,nx+1] = Lx\n",
    "x[0,1:nx+1] = np.arange(dx/2,Lx,dx)\n",
    "\n",
    "t = np.array(np.arange(0,tf, dt))        #time vector (could possibly use a list)\n",
    "y = np.zeros((1,ny+2))   #position vector defining the center points of the control volumes in the y-direction.\n",
    "y[0,ny+1] = Ly\n",
    "y[0,1:ny+1] = np.arange(dy/2,Ly,dy)\n",
    "\n",
    "print(x)\n",
    "print(y)\n"
   ]
  },
  {
   "cell_type": "code",
   "execution_count": 23,
   "metadata": {},
   "outputs": [],
   "source": [
    "## Define required displacement matrices and b vector\n",
    "\n",
    "u_new = np.zeros([nx*ny,2])         #unknown displacements at t + 1    (Column 1 = x, Column2 = y)\n",
    "u_old = np.zeros([nx*ny,2])         #displacement at time t\n",
    "u_old_old = np.zeros([nx*ny,2])     #displacement at time t - 1\n",
    "\n",
    "#rhs vector\n",
    "b_x = np.zeros([nx*ny,1])\n",
    "b_y = np.zeros([nx*ny,1])"
   ]
  },
  {
   "cell_type": "code",
   "execution_count": 24,
   "metadata": {},
   "outputs": [
    {
     "name": "stdout",
     "output_type": "stream",
     "text": [
      "(100, 100)\n"
     ]
    }
   ],
   "source": [
    "## Define coefficient matrix A with no boundary conditions\n",
    "\n",
    "internalFaceNo = ny*(nx - 1) + nx*(ny - 1)    # Number of internal faces\n",
    "nonZeroNo = nx*ny + 2*internalFaceNo\n",
    "A_no_boundary = np.zeros([ny*nx, ny*nx])\n",
    "A_no_boundary = csr_matrix(A_no_boundary)\n",
    "\n",
    "# To display A_no_boundary:\n",
    "\n",
    "print(A_no_boundary.todense().shape)"
   ]
  },
  {
   "cell_type": "markdown",
   "metadata": {},
   "source": [
    "## X equation:"
   ]
  },
  {
   "cell_type": "code",
   "execution_count": 25,
   "metadata": {},
   "outputs": [],
   "source": [
    "# Only for x-equation:\n",
    "\n",
    "a_P_x = (rho*dx*dy/(dt**2))+((4*mu+2*Lambda)*Sfx)/dx + ((2*mu)*Sfy)/dy\n",
    "\n",
    "a_N_x = ((mu)*Sfy)/dy\n",
    "a_S_x = ((mu)*Sfy)/dy\n",
    "a_E_x = ((2*mu + Lambda)*Sfx)/dx\n",
    "a_W_x = ((2*mu + Lambda)*Sfx)/dx\n"
   ]
  },
  {
   "cell_type": "code",
   "execution_count": 26,
   "metadata": {},
   "outputs": [
    {
     "name": "stderr",
     "output_type": "stream",
     "text": [
      "/home/scottlevie/miniconda3/lib/python3.9/site-packages/scipy/sparse/_index.py:82: SparseEfficiencyWarning:\n",
      "\n",
      "Changing the sparsity structure of a csr_matrix is expensive. lil_matrix is more efficient.\n",
      "\n"
     ]
    }
   ],
   "source": [
    "A_no_boundary_x = A_no_boundary\n",
    "\n",
    "## Define internal coefficients of matrix A for values with no B.C.s for x-equation\n",
    "\n",
    "#j is column number in mesh (y-coord)\n",
    "#k is point number in mesh\n",
    "\n",
    "for j in np.arange(1, ny-1):     #main diagonal, starting from y=1 because all values at y=0 have B.C.s\n",
    "\n",
    "    for k in np.arange((j*nx)+1, (j*nx)+nx-1):  \n",
    "        \n",
    "        A_no_boundary_x[k,k] = a_P_x\n",
    "        A_no_boundary_x[k,k+nx] = -a_N_x\n",
    "        A_no_boundary_x[k,k-nx] = -a_S_x\n",
    "        A_no_boundary_x[k,k+1] = -a_E_x\n",
    "        A_no_boundary_x[k,k-1] = -a_W_x\n",
    "\n",
    "        # print(\"\\tN: \" + str(k+nx), \"\\nW: \" + str(k-1), \"\\tP: \" + str(k), \"\\tE: \" + str(k+1), \"\\n\\tS: \" + str(k-nx) + \"\\n\")"
   ]
  },
  {
   "cell_type": "markdown",
   "metadata": {},
   "source": [
    "## y equation:"
   ]
  },
  {
   "cell_type": "code",
   "execution_count": 27,
   "metadata": {},
   "outputs": [],
   "source": [
    "# Only for y-equation:\n",
    "\n",
    "a_P_y = (rho*dx*dy/(dt**2))+((4*mu+2*Lambda)*Sfy)/dy + ((2*mu)*Sfx)/dx \n",
    "\n",
    "a_N_y = ((2*mu + Lambda)*Sfy)/dy\n",
    "a_S_y = ((2*mu + Lambda)*Sfy)/dy\n",
    "a_E_y = ((mu)*Sfx)/dx\n",
    "a_W_y = ((mu)*Sfx)/dx\n"
   ]
  },
  {
   "cell_type": "code",
   "execution_count": 28,
   "metadata": {},
   "outputs": [],
   "source": [
    "A_no_boundary_y = A_no_boundary\n",
    "\n",
    "## Define internal coefficients of matrix A for values with no B.C.s for x-equation\n",
    "\n",
    "#j is column number in mesh (y-coord)\n",
    "#k is point number in mesh\n",
    "\n",
    "for j in np.arange(1, ny-1):     #main diagonal, starting from y=1 because all values at y=0 have B.C.s\n",
    "\n",
    "    for k in np.arange((j*nx)+1, (j*nx)+nx-1):  \n",
    "        \n",
    "        A_no_boundary_y[k,k] = a_P_y\n",
    "\n",
    "        A_no_boundary_y[k,k+nx] = -a_N_y\n",
    "        A_no_boundary_y[k,k-nx] = -a_S_y\n",
    "        A_no_boundary_y[k,k+1] = -a_E_y\n",
    "        A_no_boundary_y[k,k-1] = -a_W_y\n",
    "\n",
    "        # print(\"\\tN: \" + str(k+nx), \"\\nW: \" + str(k-1), \"\\tP: \" + str(k), \"\\tE: \" + str(k+1), \"\\n\\tS: \" + str(k-nx) + \"\\n\")"
   ]
  },
  {
   "cell_type": "code",
   "execution_count": 29,
   "metadata": {},
   "outputs": [
    {
     "name": "stdout",
     "output_type": "stream",
     "text": [
      "\n",
      "Time = 1\n",
      "-2640000000000.0\n",
      "icorr = 1, Residual = 0.51381969393152016057, normFactor = 0.00000665908276492223\n"
     ]
    },
    {
     "data": {
      "application/vnd.plotly.v1+json": {
       "config": {
        "plotlyServerURL": "https://plot.ly"
       },
       "data": [
        {
         "type": "surface",
         "x": [
          [
           0,
           0.0005,
           0.0015,
           0.0025,
           0.0035,
           0.0045000000000000005,
           0.0055,
           0.006500000000000001,
           0.0075,
           0.0085,
           0.009500000000000001,
           0.01
          ],
          [
           0,
           0.0005,
           0.0015,
           0.0025,
           0.0035,
           0.0045000000000000005,
           0.0055,
           0.006500000000000001,
           0.0075,
           0.0085,
           0.009500000000000001,
           0.01
          ],
          [
           0,
           0.0005,
           0.0015,
           0.0025,
           0.0035,
           0.0045000000000000005,
           0.0055,
           0.006500000000000001,
           0.0075,
           0.0085,
           0.009500000000000001,
           0.01
          ],
          [
           0,
           0.0005,
           0.0015,
           0.0025,
           0.0035,
           0.0045000000000000005,
           0.0055,
           0.006500000000000001,
           0.0075,
           0.0085,
           0.009500000000000001,
           0.01
          ],
          [
           0,
           0.0005,
           0.0015,
           0.0025,
           0.0035,
           0.0045000000000000005,
           0.0055,
           0.006500000000000001,
           0.0075,
           0.0085,
           0.009500000000000001,
           0.01
          ],
          [
           0,
           0.0005,
           0.0015,
           0.0025,
           0.0035,
           0.0045000000000000005,
           0.0055,
           0.006500000000000001,
           0.0075,
           0.0085,
           0.009500000000000001,
           0.01
          ],
          [
           0,
           0.0005,
           0.0015,
           0.0025,
           0.0035,
           0.0045000000000000005,
           0.0055,
           0.006500000000000001,
           0.0075,
           0.0085,
           0.009500000000000001,
           0.01
          ],
          [
           0,
           0.0005,
           0.0015,
           0.0025,
           0.0035,
           0.0045000000000000005,
           0.0055,
           0.006500000000000001,
           0.0075,
           0.0085,
           0.009500000000000001,
           0.01
          ],
          [
           0,
           0.0005,
           0.0015,
           0.0025,
           0.0035,
           0.0045000000000000005,
           0.0055,
           0.006500000000000001,
           0.0075,
           0.0085,
           0.009500000000000001,
           0.01
          ],
          [
           0,
           0.0005,
           0.0015,
           0.0025,
           0.0035,
           0.0045000000000000005,
           0.0055,
           0.006500000000000001,
           0.0075,
           0.0085,
           0.009500000000000001,
           0.01
          ],
          [
           0,
           0.0005,
           0.0015,
           0.0025,
           0.0035,
           0.0045000000000000005,
           0.0055,
           0.006500000000000001,
           0.0075,
           0.0085,
           0.009500000000000001,
           0.01
          ],
          [
           0,
           0.0005,
           0.0015,
           0.0025,
           0.0035,
           0.0045000000000000005,
           0.0055,
           0.006500000000000001,
           0.0075,
           0.0085,
           0.009500000000000001,
           0.01
          ]
         ],
         "y": [
          [
           0,
           0,
           0,
           0,
           0,
           0,
           0,
           0,
           0,
           0,
           0,
           0
          ],
          [
           0.0005,
           0.0005,
           0.0005,
           0.0005,
           0.0005,
           0.0005,
           0.0005,
           0.0005,
           0.0005,
           0.0005,
           0.0005,
           0.0005
          ],
          [
           0.0015,
           0.0015,
           0.0015,
           0.0015,
           0.0015,
           0.0015,
           0.0015,
           0.0015,
           0.0015,
           0.0015,
           0.0015,
           0.0015
          ],
          [
           0.0025,
           0.0025,
           0.0025,
           0.0025,
           0.0025,
           0.0025,
           0.0025,
           0.0025,
           0.0025,
           0.0025,
           0.0025,
           0.0025
          ],
          [
           0.0035,
           0.0035,
           0.0035,
           0.0035,
           0.0035,
           0.0035,
           0.0035,
           0.0035,
           0.0035,
           0.0035,
           0.0035,
           0.0035
          ],
          [
           0.0045000000000000005,
           0.0045000000000000005,
           0.0045000000000000005,
           0.0045000000000000005,
           0.0045000000000000005,
           0.0045000000000000005,
           0.0045000000000000005,
           0.0045000000000000005,
           0.0045000000000000005,
           0.0045000000000000005,
           0.0045000000000000005,
           0.0045000000000000005
          ],
          [
           0.0055,
           0.0055,
           0.0055,
           0.0055,
           0.0055,
           0.0055,
           0.0055,
           0.0055,
           0.0055,
           0.0055,
           0.0055,
           0.0055
          ],
          [
           0.006500000000000001,
           0.006500000000000001,
           0.006500000000000001,
           0.006500000000000001,
           0.006500000000000001,
           0.006500000000000001,
           0.006500000000000001,
           0.006500000000000001,
           0.006500000000000001,
           0.006500000000000001,
           0.006500000000000001,
           0.006500000000000001
          ],
          [
           0.0075,
           0.0075,
           0.0075,
           0.0075,
           0.0075,
           0.0075,
           0.0075,
           0.0075,
           0.0075,
           0.0075,
           0.0075,
           0.0075
          ],
          [
           0.0085,
           0.0085,
           0.0085,
           0.0085,
           0.0085,
           0.0085,
           0.0085,
           0.0085,
           0.0085,
           0.0085,
           0.0085,
           0.0085
          ],
          [
           0.009500000000000001,
           0.009500000000000001,
           0.009500000000000001,
           0.009500000000000001,
           0.009500000000000001,
           0.009500000000000001,
           0.009500000000000001,
           0.009500000000000001,
           0.009500000000000001,
           0.009500000000000001,
           0.009500000000000001,
           0.009500000000000001
          ],
          [
           0.01,
           0.01,
           0.01,
           0.01,
           0.01,
           0.01,
           0.01,
           0.01,
           0.01,
           0.01,
           0.01,
           0.01
          ]
         ],
         "z": [
          [
           0,
           7.0710678118654755,
           7.0710678118654755,
           7.0710678118654755,
           7.0710678118654755,
           7.0710678118654755,
           7.0710678118654755,
           7.0710678118654755,
           7.0710678118654755,
           7.0710678118654755,
           7.0710678118654755,
           0
          ],
          [
           5.830951894845301,
           5.48364486343411,
           6.222104131491892,
           6.536333538703799,
           6.673846867797186,
           6.728413049569725,
           6.736531170550378,
           6.703099971419884,
           6.605847107266608,
           6.390167613848838,
           6.0753273678843405,
           5.099019513592785
          ],
          [
           5.830951894845301,
           5.58190671503424,
           5.894776405450402,
           6.085602101600029,
           6.1733586954647315,
           6.207823765959734,
           6.213504040694565,
           6.191491263816878,
           6.1182877194513265,
           5.932897212376343,
           5.4808294153841635,
           5.099019513592785
          ],
          [
           5.830951894845301,
           5.627538402319364,
           5.637054652965384,
           5.677764078625424,
           5.694667157080723,
           5.699264712980378,
           5.701062694060557,
           5.696915029177338,
           5.665894309175314,
           5.558915319261404,
           5.283753845433971,
           5.099019513592785
          ],
          [
           5.830951894845301,
           5.6134660882483,
           5.400097419305404,
           5.290004821069234,
           5.22632758317132,
           5.195580161759543,
           5.193145442714743,
           5.212306725781693,
           5.237428417453304,
           5.23544411654885,
           5.156036503845118,
           5.099019513592785
          ],
          [
           5.830951894845301,
           5.561428322492928,
           5.155015841125531,
           4.900738039024663,
           4.7552970656013365,
           4.688096993254471,
           4.682083391341388,
           4.728220345949326,
           4.818294322344623,
           4.935115211741107,
           5.047967543913638,
           5.099019513592785
          ],
          [
           5.830951894845301,
           5.481125683898816,
           4.880614168149981,
           4.489823167582369,
           4.268230399932243,
           4.167715038864414,
           4.159568661282865,
           4.233994025500884,
           4.392831024795453,
           4.636351951132337,
           4.943700032080131,
           5.099019513592785
          ],
          [
           5.830951894845301,
           5.3711232477315285,
           4.554609242576936,
           4.037404109329988,
           3.7524542192904993,
           3.626170977142699,
           3.6178741978533213,
           3.7188120350919385,
           3.944709428355395,
           4.319600463126618,
           4.8331972401606045,
           5.099019513592785
          ],
          [
           5.830951894845301,
           5.218787287610394,
           4.146426313526443,
           3.5229007305150617,
           3.1972685222217367,
           3.057791576959971,
           3.0516095636227445,
           3.173075203024155,
           3.456736763810698,
           3.963764720394546,
           4.70732070344875,
           5.099019513592785
          ],
          [
           5.830951894845301,
           4.985163744531568,
           3.6086504823546055,
           2.9256326015368215,
           2.596651589652046,
           2.4625841206107415,
           2.460917400638022,
           2.5912040106055616,
           2.9112604906008603,
           3.5424587160856005,
           4.56989518195867,
           5.099019513592785
          ],
          [
           5.830951894845301,
           4.456985783341566,
           2.8669345075577244,
           2.230407282905055,
           1.9560715531216346,
           1.853456911950046,
           1.8591845739715918,
           1.97935486332711,
           2.2942872102878766,
           3.016789827917605,
           4.6349347678869,
           5.099019513592785
          ],
          [
           0,
           1.414213562373095,
           1.414213562373095,
           1.414213562373095,
           1.414213562373095,
           1.414213562373095,
           1.414213562373095,
           1.414213562373095,
           1.414213562373095,
           1.414213562373095,
           1.414213562373095,
           0
          ]
         ]
        }
       ],
       "layout": {
        "template": {
         "data": {
          "bar": [
           {
            "error_x": {
             "color": "#2a3f5f"
            },
            "error_y": {
             "color": "#2a3f5f"
            },
            "marker": {
             "line": {
              "color": "#E5ECF6",
              "width": 0.5
             },
             "pattern": {
              "fillmode": "overlay",
              "size": 10,
              "solidity": 0.2
             }
            },
            "type": "bar"
           }
          ],
          "barpolar": [
           {
            "marker": {
             "line": {
              "color": "#E5ECF6",
              "width": 0.5
             },
             "pattern": {
              "fillmode": "overlay",
              "size": 10,
              "solidity": 0.2
             }
            },
            "type": "barpolar"
           }
          ],
          "carpet": [
           {
            "aaxis": {
             "endlinecolor": "#2a3f5f",
             "gridcolor": "white",
             "linecolor": "white",
             "minorgridcolor": "white",
             "startlinecolor": "#2a3f5f"
            },
            "baxis": {
             "endlinecolor": "#2a3f5f",
             "gridcolor": "white",
             "linecolor": "white",
             "minorgridcolor": "white",
             "startlinecolor": "#2a3f5f"
            },
            "type": "carpet"
           }
          ],
          "choropleth": [
           {
            "colorbar": {
             "outlinewidth": 0,
             "ticks": ""
            },
            "type": "choropleth"
           }
          ],
          "contour": [
           {
            "colorbar": {
             "outlinewidth": 0,
             "ticks": ""
            },
            "colorscale": [
             [
              0,
              "#0d0887"
             ],
             [
              0.1111111111111111,
              "#46039f"
             ],
             [
              0.2222222222222222,
              "#7201a8"
             ],
             [
              0.3333333333333333,
              "#9c179e"
             ],
             [
              0.4444444444444444,
              "#bd3786"
             ],
             [
              0.5555555555555556,
              "#d8576b"
             ],
             [
              0.6666666666666666,
              "#ed7953"
             ],
             [
              0.7777777777777778,
              "#fb9f3a"
             ],
             [
              0.8888888888888888,
              "#fdca26"
             ],
             [
              1,
              "#f0f921"
             ]
            ],
            "type": "contour"
           }
          ],
          "contourcarpet": [
           {
            "colorbar": {
             "outlinewidth": 0,
             "ticks": ""
            },
            "type": "contourcarpet"
           }
          ],
          "heatmap": [
           {
            "colorbar": {
             "outlinewidth": 0,
             "ticks": ""
            },
            "colorscale": [
             [
              0,
              "#0d0887"
             ],
             [
              0.1111111111111111,
              "#46039f"
             ],
             [
              0.2222222222222222,
              "#7201a8"
             ],
             [
              0.3333333333333333,
              "#9c179e"
             ],
             [
              0.4444444444444444,
              "#bd3786"
             ],
             [
              0.5555555555555556,
              "#d8576b"
             ],
             [
              0.6666666666666666,
              "#ed7953"
             ],
             [
              0.7777777777777778,
              "#fb9f3a"
             ],
             [
              0.8888888888888888,
              "#fdca26"
             ],
             [
              1,
              "#f0f921"
             ]
            ],
            "type": "heatmap"
           }
          ],
          "heatmapgl": [
           {
            "colorbar": {
             "outlinewidth": 0,
             "ticks": ""
            },
            "colorscale": [
             [
              0,
              "#0d0887"
             ],
             [
              0.1111111111111111,
              "#46039f"
             ],
             [
              0.2222222222222222,
              "#7201a8"
             ],
             [
              0.3333333333333333,
              "#9c179e"
             ],
             [
              0.4444444444444444,
              "#bd3786"
             ],
             [
              0.5555555555555556,
              "#d8576b"
             ],
             [
              0.6666666666666666,
              "#ed7953"
             ],
             [
              0.7777777777777778,
              "#fb9f3a"
             ],
             [
              0.8888888888888888,
              "#fdca26"
             ],
             [
              1,
              "#f0f921"
             ]
            ],
            "type": "heatmapgl"
           }
          ],
          "histogram": [
           {
            "marker": {
             "pattern": {
              "fillmode": "overlay",
              "size": 10,
              "solidity": 0.2
             }
            },
            "type": "histogram"
           }
          ],
          "histogram2d": [
           {
            "colorbar": {
             "outlinewidth": 0,
             "ticks": ""
            },
            "colorscale": [
             [
              0,
              "#0d0887"
             ],
             [
              0.1111111111111111,
              "#46039f"
             ],
             [
              0.2222222222222222,
              "#7201a8"
             ],
             [
              0.3333333333333333,
              "#9c179e"
             ],
             [
              0.4444444444444444,
              "#bd3786"
             ],
             [
              0.5555555555555556,
              "#d8576b"
             ],
             [
              0.6666666666666666,
              "#ed7953"
             ],
             [
              0.7777777777777778,
              "#fb9f3a"
             ],
             [
              0.8888888888888888,
              "#fdca26"
             ],
             [
              1,
              "#f0f921"
             ]
            ],
            "type": "histogram2d"
           }
          ],
          "histogram2dcontour": [
           {
            "colorbar": {
             "outlinewidth": 0,
             "ticks": ""
            },
            "colorscale": [
             [
              0,
              "#0d0887"
             ],
             [
              0.1111111111111111,
              "#46039f"
             ],
             [
              0.2222222222222222,
              "#7201a8"
             ],
             [
              0.3333333333333333,
              "#9c179e"
             ],
             [
              0.4444444444444444,
              "#bd3786"
             ],
             [
              0.5555555555555556,
              "#d8576b"
             ],
             [
              0.6666666666666666,
              "#ed7953"
             ],
             [
              0.7777777777777778,
              "#fb9f3a"
             ],
             [
              0.8888888888888888,
              "#fdca26"
             ],
             [
              1,
              "#f0f921"
             ]
            ],
            "type": "histogram2dcontour"
           }
          ],
          "mesh3d": [
           {
            "colorbar": {
             "outlinewidth": 0,
             "ticks": ""
            },
            "type": "mesh3d"
           }
          ],
          "parcoords": [
           {
            "line": {
             "colorbar": {
              "outlinewidth": 0,
              "ticks": ""
             }
            },
            "type": "parcoords"
           }
          ],
          "pie": [
           {
            "automargin": true,
            "type": "pie"
           }
          ],
          "scatter": [
           {
            "marker": {
             "colorbar": {
              "outlinewidth": 0,
              "ticks": ""
             }
            },
            "type": "scatter"
           }
          ],
          "scatter3d": [
           {
            "line": {
             "colorbar": {
              "outlinewidth": 0,
              "ticks": ""
             }
            },
            "marker": {
             "colorbar": {
              "outlinewidth": 0,
              "ticks": ""
             }
            },
            "type": "scatter3d"
           }
          ],
          "scattercarpet": [
           {
            "marker": {
             "colorbar": {
              "outlinewidth": 0,
              "ticks": ""
             }
            },
            "type": "scattercarpet"
           }
          ],
          "scattergeo": [
           {
            "marker": {
             "colorbar": {
              "outlinewidth": 0,
              "ticks": ""
             }
            },
            "type": "scattergeo"
           }
          ],
          "scattergl": [
           {
            "marker": {
             "colorbar": {
              "outlinewidth": 0,
              "ticks": ""
             }
            },
            "type": "scattergl"
           }
          ],
          "scattermapbox": [
           {
            "marker": {
             "colorbar": {
              "outlinewidth": 0,
              "ticks": ""
             }
            },
            "type": "scattermapbox"
           }
          ],
          "scatterpolar": [
           {
            "marker": {
             "colorbar": {
              "outlinewidth": 0,
              "ticks": ""
             }
            },
            "type": "scatterpolar"
           }
          ],
          "scatterpolargl": [
           {
            "marker": {
             "colorbar": {
              "outlinewidth": 0,
              "ticks": ""
             }
            },
            "type": "scatterpolargl"
           }
          ],
          "scatterternary": [
           {
            "marker": {
             "colorbar": {
              "outlinewidth": 0,
              "ticks": ""
             }
            },
            "type": "scatterternary"
           }
          ],
          "surface": [
           {
            "colorbar": {
             "outlinewidth": 0,
             "ticks": ""
            },
            "colorscale": [
             [
              0,
              "#0d0887"
             ],
             [
              0.1111111111111111,
              "#46039f"
             ],
             [
              0.2222222222222222,
              "#7201a8"
             ],
             [
              0.3333333333333333,
              "#9c179e"
             ],
             [
              0.4444444444444444,
              "#bd3786"
             ],
             [
              0.5555555555555556,
              "#d8576b"
             ],
             [
              0.6666666666666666,
              "#ed7953"
             ],
             [
              0.7777777777777778,
              "#fb9f3a"
             ],
             [
              0.8888888888888888,
              "#fdca26"
             ],
             [
              1,
              "#f0f921"
             ]
            ],
            "type": "surface"
           }
          ],
          "table": [
           {
            "cells": {
             "fill": {
              "color": "#EBF0F8"
             },
             "line": {
              "color": "white"
             }
            },
            "header": {
             "fill": {
              "color": "#C8D4E3"
             },
             "line": {
              "color": "white"
             }
            },
            "type": "table"
           }
          ]
         },
         "layout": {
          "annotationdefaults": {
           "arrowcolor": "#2a3f5f",
           "arrowhead": 0,
           "arrowwidth": 1
          },
          "autotypenumbers": "strict",
          "coloraxis": {
           "colorbar": {
            "outlinewidth": 0,
            "ticks": ""
           }
          },
          "colorscale": {
           "diverging": [
            [
             0,
             "#8e0152"
            ],
            [
             0.1,
             "#c51b7d"
            ],
            [
             0.2,
             "#de77ae"
            ],
            [
             0.3,
             "#f1b6da"
            ],
            [
             0.4,
             "#fde0ef"
            ],
            [
             0.5,
             "#f7f7f7"
            ],
            [
             0.6,
             "#e6f5d0"
            ],
            [
             0.7,
             "#b8e186"
            ],
            [
             0.8,
             "#7fbc41"
            ],
            [
             0.9,
             "#4d9221"
            ],
            [
             1,
             "#276419"
            ]
           ],
           "sequential": [
            [
             0,
             "#0d0887"
            ],
            [
             0.1111111111111111,
             "#46039f"
            ],
            [
             0.2222222222222222,
             "#7201a8"
            ],
            [
             0.3333333333333333,
             "#9c179e"
            ],
            [
             0.4444444444444444,
             "#bd3786"
            ],
            [
             0.5555555555555556,
             "#d8576b"
            ],
            [
             0.6666666666666666,
             "#ed7953"
            ],
            [
             0.7777777777777778,
             "#fb9f3a"
            ],
            [
             0.8888888888888888,
             "#fdca26"
            ],
            [
             1,
             "#f0f921"
            ]
           ],
           "sequentialminus": [
            [
             0,
             "#0d0887"
            ],
            [
             0.1111111111111111,
             "#46039f"
            ],
            [
             0.2222222222222222,
             "#7201a8"
            ],
            [
             0.3333333333333333,
             "#9c179e"
            ],
            [
             0.4444444444444444,
             "#bd3786"
            ],
            [
             0.5555555555555556,
             "#d8576b"
            ],
            [
             0.6666666666666666,
             "#ed7953"
            ],
            [
             0.7777777777777778,
             "#fb9f3a"
            ],
            [
             0.8888888888888888,
             "#fdca26"
            ],
            [
             1,
             "#f0f921"
            ]
           ]
          },
          "colorway": [
           "#636efa",
           "#EF553B",
           "#00cc96",
           "#ab63fa",
           "#FFA15A",
           "#19d3f3",
           "#FF6692",
           "#B6E880",
           "#FF97FF",
           "#FECB52"
          ],
          "font": {
           "color": "#2a3f5f"
          },
          "geo": {
           "bgcolor": "white",
           "lakecolor": "white",
           "landcolor": "#E5ECF6",
           "showlakes": true,
           "showland": true,
           "subunitcolor": "white"
          },
          "hoverlabel": {
           "align": "left"
          },
          "hovermode": "closest",
          "mapbox": {
           "style": "light"
          },
          "paper_bgcolor": "white",
          "plot_bgcolor": "#E5ECF6",
          "polar": {
           "angularaxis": {
            "gridcolor": "white",
            "linecolor": "white",
            "ticks": ""
           },
           "bgcolor": "#E5ECF6",
           "radialaxis": {
            "gridcolor": "white",
            "linecolor": "white",
            "ticks": ""
           }
          },
          "scene": {
           "xaxis": {
            "backgroundcolor": "#E5ECF6",
            "gridcolor": "white",
            "gridwidth": 2,
            "linecolor": "white",
            "showbackground": true,
            "ticks": "",
            "zerolinecolor": "white"
           },
           "yaxis": {
            "backgroundcolor": "#E5ECF6",
            "gridcolor": "white",
            "gridwidth": 2,
            "linecolor": "white",
            "showbackground": true,
            "ticks": "",
            "zerolinecolor": "white"
           },
           "zaxis": {
            "backgroundcolor": "#E5ECF6",
            "gridcolor": "white",
            "gridwidth": 2,
            "linecolor": "white",
            "showbackground": true,
            "ticks": "",
            "zerolinecolor": "white"
           }
          },
          "shapedefaults": {
           "line": {
            "color": "#2a3f5f"
           }
          },
          "ternary": {
           "aaxis": {
            "gridcolor": "white",
            "linecolor": "white",
            "ticks": ""
           },
           "baxis": {
            "gridcolor": "white",
            "linecolor": "white",
            "ticks": ""
           },
           "bgcolor": "#E5ECF6",
           "caxis": {
            "gridcolor": "white",
            "linecolor": "white",
            "ticks": ""
           }
          },
          "title": {
           "x": 0.05
          },
          "xaxis": {
           "automargin": true,
           "gridcolor": "white",
           "linecolor": "white",
           "ticks": "",
           "title": {
            "standoff": 15
           },
           "zerolinecolor": "white",
           "zerolinewidth": 2
          },
          "yaxis": {
           "automargin": true,
           "gridcolor": "white",
           "linecolor": "white",
           "ticks": "",
           "title": {
            "standoff": 15
           },
           "zerolinecolor": "white",
           "zerolinewidth": 2
          }
         }
        }
       }
      },
      "text/html": [
       "<div>                            <div id=\"0f23dc75-ffc7-40d6-b218-8bc1e2e04214\" class=\"plotly-graph-div\" style=\"height:525px; width:100%;\"></div>            <script type=\"text/javascript\">                require([\"plotly\"], function(Plotly) {                    window.PLOTLYENV=window.PLOTLYENV || {};                                    if (document.getElementById(\"0f23dc75-ffc7-40d6-b218-8bc1e2e04214\")) {                    Plotly.newPlot(                        \"0f23dc75-ffc7-40d6-b218-8bc1e2e04214\",                        [{\"x\":[[0.0,0.0005,0.0015,0.0025,0.0035,0.0045000000000000005,0.0055,0.006500000000000001,0.0075,0.0085,0.009500000000000001,0.01],[0.0,0.0005,0.0015,0.0025,0.0035,0.0045000000000000005,0.0055,0.006500000000000001,0.0075,0.0085,0.009500000000000001,0.01],[0.0,0.0005,0.0015,0.0025,0.0035,0.0045000000000000005,0.0055,0.006500000000000001,0.0075,0.0085,0.009500000000000001,0.01],[0.0,0.0005,0.0015,0.0025,0.0035,0.0045000000000000005,0.0055,0.006500000000000001,0.0075,0.0085,0.009500000000000001,0.01],[0.0,0.0005,0.0015,0.0025,0.0035,0.0045000000000000005,0.0055,0.006500000000000001,0.0075,0.0085,0.009500000000000001,0.01],[0.0,0.0005,0.0015,0.0025,0.0035,0.0045000000000000005,0.0055,0.006500000000000001,0.0075,0.0085,0.009500000000000001,0.01],[0.0,0.0005,0.0015,0.0025,0.0035,0.0045000000000000005,0.0055,0.006500000000000001,0.0075,0.0085,0.009500000000000001,0.01],[0.0,0.0005,0.0015,0.0025,0.0035,0.0045000000000000005,0.0055,0.006500000000000001,0.0075,0.0085,0.009500000000000001,0.01],[0.0,0.0005,0.0015,0.0025,0.0035,0.0045000000000000005,0.0055,0.006500000000000001,0.0075,0.0085,0.009500000000000001,0.01],[0.0,0.0005,0.0015,0.0025,0.0035,0.0045000000000000005,0.0055,0.006500000000000001,0.0075,0.0085,0.009500000000000001,0.01],[0.0,0.0005,0.0015,0.0025,0.0035,0.0045000000000000005,0.0055,0.006500000000000001,0.0075,0.0085,0.009500000000000001,0.01],[0.0,0.0005,0.0015,0.0025,0.0035,0.0045000000000000005,0.0055,0.006500000000000001,0.0075,0.0085,0.009500000000000001,0.01]],\"y\":[[0.0,0.0,0.0,0.0,0.0,0.0,0.0,0.0,0.0,0.0,0.0,0.0],[0.0005,0.0005,0.0005,0.0005,0.0005,0.0005,0.0005,0.0005,0.0005,0.0005,0.0005,0.0005],[0.0015,0.0015,0.0015,0.0015,0.0015,0.0015,0.0015,0.0015,0.0015,0.0015,0.0015,0.0015],[0.0025,0.0025,0.0025,0.0025,0.0025,0.0025,0.0025,0.0025,0.0025,0.0025,0.0025,0.0025],[0.0035,0.0035,0.0035,0.0035,0.0035,0.0035,0.0035,0.0035,0.0035,0.0035,0.0035,0.0035],[0.0045000000000000005,0.0045000000000000005,0.0045000000000000005,0.0045000000000000005,0.0045000000000000005,0.0045000000000000005,0.0045000000000000005,0.0045000000000000005,0.0045000000000000005,0.0045000000000000005,0.0045000000000000005,0.0045000000000000005],[0.0055,0.0055,0.0055,0.0055,0.0055,0.0055,0.0055,0.0055,0.0055,0.0055,0.0055,0.0055],[0.006500000000000001,0.006500000000000001,0.006500000000000001,0.006500000000000001,0.006500000000000001,0.006500000000000001,0.006500000000000001,0.006500000000000001,0.006500000000000001,0.006500000000000001,0.006500000000000001,0.006500000000000001],[0.0075,0.0075,0.0075,0.0075,0.0075,0.0075,0.0075,0.0075,0.0075,0.0075,0.0075,0.0075],[0.0085,0.0085,0.0085,0.0085,0.0085,0.0085,0.0085,0.0085,0.0085,0.0085,0.0085,0.0085],[0.009500000000000001,0.009500000000000001,0.009500000000000001,0.009500000000000001,0.009500000000000001,0.009500000000000001,0.009500000000000001,0.009500000000000001,0.009500000000000001,0.009500000000000001,0.009500000000000001,0.009500000000000001],[0.01,0.01,0.01,0.01,0.01,0.01,0.01,0.01,0.01,0.01,0.01,0.01]],\"z\":[[0.0,7.0710678118654755,7.0710678118654755,7.0710678118654755,7.0710678118654755,7.0710678118654755,7.0710678118654755,7.0710678118654755,7.0710678118654755,7.0710678118654755,7.0710678118654755,0.0],[5.830951894845301,5.48364486343411,6.222104131491892,6.536333538703799,6.673846867797186,6.728413049569725,6.736531170550378,6.703099971419884,6.605847107266608,6.390167613848838,6.0753273678843405,5.099019513592785],[5.830951894845301,5.58190671503424,5.894776405450402,6.085602101600029,6.1733586954647315,6.207823765959734,6.213504040694565,6.191491263816878,6.1182877194513265,5.932897212376343,5.4808294153841635,5.099019513592785],[5.830951894845301,5.627538402319364,5.637054652965384,5.677764078625424,5.694667157080723,5.699264712980378,5.701062694060557,5.696915029177338,5.665894309175314,5.558915319261404,5.283753845433971,5.099019513592785],[5.830951894845301,5.6134660882483,5.400097419305404,5.290004821069234,5.22632758317132,5.195580161759543,5.193145442714743,5.212306725781693,5.237428417453304,5.23544411654885,5.156036503845118,5.099019513592785],[5.830951894845301,5.561428322492928,5.155015841125531,4.900738039024663,4.7552970656013365,4.688096993254471,4.682083391341388,4.728220345949326,4.818294322344623,4.935115211741107,5.047967543913638,5.099019513592785],[5.830951894845301,5.481125683898816,4.880614168149981,4.489823167582369,4.268230399932243,4.167715038864414,4.159568661282865,4.233994025500884,4.392831024795453,4.636351951132337,4.943700032080131,5.099019513592785],[5.830951894845301,5.3711232477315285,4.554609242576936,4.037404109329988,3.7524542192904993,3.626170977142699,3.6178741978533213,3.7188120350919385,3.944709428355395,4.319600463126618,4.8331972401606045,5.099019513592785],[5.830951894845301,5.218787287610394,4.146426313526443,3.5229007305150617,3.1972685222217367,3.057791576959971,3.0516095636227445,3.173075203024155,3.456736763810698,3.963764720394546,4.70732070344875,5.099019513592785],[5.830951894845301,4.985163744531568,3.6086504823546055,2.9256326015368215,2.596651589652046,2.4625841206107415,2.460917400638022,2.5912040106055616,2.9112604906008603,3.5424587160856005,4.56989518195867,5.099019513592785],[5.830951894845301,4.456985783341566,2.8669345075577244,2.230407282905055,1.9560715531216346,1.853456911950046,1.8591845739715918,1.97935486332711,2.2942872102878766,3.016789827917605,4.6349347678869,5.099019513592785],[0.0,1.414213562373095,1.414213562373095,1.414213562373095,1.414213562373095,1.414213562373095,1.414213562373095,1.414213562373095,1.414213562373095,1.414213562373095,1.414213562373095,0.0]],\"type\":\"surface\"}],                        {\"template\":{\"data\":{\"bar\":[{\"error_x\":{\"color\":\"#2a3f5f\"},\"error_y\":{\"color\":\"#2a3f5f\"},\"marker\":{\"line\":{\"color\":\"#E5ECF6\",\"width\":0.5},\"pattern\":{\"fillmode\":\"overlay\",\"size\":10,\"solidity\":0.2}},\"type\":\"bar\"}],\"barpolar\":[{\"marker\":{\"line\":{\"color\":\"#E5ECF6\",\"width\":0.5},\"pattern\":{\"fillmode\":\"overlay\",\"size\":10,\"solidity\":0.2}},\"type\":\"barpolar\"}],\"carpet\":[{\"aaxis\":{\"endlinecolor\":\"#2a3f5f\",\"gridcolor\":\"white\",\"linecolor\":\"white\",\"minorgridcolor\":\"white\",\"startlinecolor\":\"#2a3f5f\"},\"baxis\":{\"endlinecolor\":\"#2a3f5f\",\"gridcolor\":\"white\",\"linecolor\":\"white\",\"minorgridcolor\":\"white\",\"startlinecolor\":\"#2a3f5f\"},\"type\":\"carpet\"}],\"choropleth\":[{\"colorbar\":{\"outlinewidth\":0,\"ticks\":\"\"},\"type\":\"choropleth\"}],\"contour\":[{\"colorbar\":{\"outlinewidth\":0,\"ticks\":\"\"},\"colorscale\":[[0.0,\"#0d0887\"],[0.1111111111111111,\"#46039f\"],[0.2222222222222222,\"#7201a8\"],[0.3333333333333333,\"#9c179e\"],[0.4444444444444444,\"#bd3786\"],[0.5555555555555556,\"#d8576b\"],[0.6666666666666666,\"#ed7953\"],[0.7777777777777778,\"#fb9f3a\"],[0.8888888888888888,\"#fdca26\"],[1.0,\"#f0f921\"]],\"type\":\"contour\"}],\"contourcarpet\":[{\"colorbar\":{\"outlinewidth\":0,\"ticks\":\"\"},\"type\":\"contourcarpet\"}],\"heatmap\":[{\"colorbar\":{\"outlinewidth\":0,\"ticks\":\"\"},\"colorscale\":[[0.0,\"#0d0887\"],[0.1111111111111111,\"#46039f\"],[0.2222222222222222,\"#7201a8\"],[0.3333333333333333,\"#9c179e\"],[0.4444444444444444,\"#bd3786\"],[0.5555555555555556,\"#d8576b\"],[0.6666666666666666,\"#ed7953\"],[0.7777777777777778,\"#fb9f3a\"],[0.8888888888888888,\"#fdca26\"],[1.0,\"#f0f921\"]],\"type\":\"heatmap\"}],\"heatmapgl\":[{\"colorbar\":{\"outlinewidth\":0,\"ticks\":\"\"},\"colorscale\":[[0.0,\"#0d0887\"],[0.1111111111111111,\"#46039f\"],[0.2222222222222222,\"#7201a8\"],[0.3333333333333333,\"#9c179e\"],[0.4444444444444444,\"#bd3786\"],[0.5555555555555556,\"#d8576b\"],[0.6666666666666666,\"#ed7953\"],[0.7777777777777778,\"#fb9f3a\"],[0.8888888888888888,\"#fdca26\"],[1.0,\"#f0f921\"]],\"type\":\"heatmapgl\"}],\"histogram\":[{\"marker\":{\"pattern\":{\"fillmode\":\"overlay\",\"size\":10,\"solidity\":0.2}},\"type\":\"histogram\"}],\"histogram2d\":[{\"colorbar\":{\"outlinewidth\":0,\"ticks\":\"\"},\"colorscale\":[[0.0,\"#0d0887\"],[0.1111111111111111,\"#46039f\"],[0.2222222222222222,\"#7201a8\"],[0.3333333333333333,\"#9c179e\"],[0.4444444444444444,\"#bd3786\"],[0.5555555555555556,\"#d8576b\"],[0.6666666666666666,\"#ed7953\"],[0.7777777777777778,\"#fb9f3a\"],[0.8888888888888888,\"#fdca26\"],[1.0,\"#f0f921\"]],\"type\":\"histogram2d\"}],\"histogram2dcontour\":[{\"colorbar\":{\"outlinewidth\":0,\"ticks\":\"\"},\"colorscale\":[[0.0,\"#0d0887\"],[0.1111111111111111,\"#46039f\"],[0.2222222222222222,\"#7201a8\"],[0.3333333333333333,\"#9c179e\"],[0.4444444444444444,\"#bd3786\"],[0.5555555555555556,\"#d8576b\"],[0.6666666666666666,\"#ed7953\"],[0.7777777777777778,\"#fb9f3a\"],[0.8888888888888888,\"#fdca26\"],[1.0,\"#f0f921\"]],\"type\":\"histogram2dcontour\"}],\"mesh3d\":[{\"colorbar\":{\"outlinewidth\":0,\"ticks\":\"\"},\"type\":\"mesh3d\"}],\"parcoords\":[{\"line\":{\"colorbar\":{\"outlinewidth\":0,\"ticks\":\"\"}},\"type\":\"parcoords\"}],\"pie\":[{\"automargin\":true,\"type\":\"pie\"}],\"scatter\":[{\"marker\":{\"colorbar\":{\"outlinewidth\":0,\"ticks\":\"\"}},\"type\":\"scatter\"}],\"scatter3d\":[{\"line\":{\"colorbar\":{\"outlinewidth\":0,\"ticks\":\"\"}},\"marker\":{\"colorbar\":{\"outlinewidth\":0,\"ticks\":\"\"}},\"type\":\"scatter3d\"}],\"scattercarpet\":[{\"marker\":{\"colorbar\":{\"outlinewidth\":0,\"ticks\":\"\"}},\"type\":\"scattercarpet\"}],\"scattergeo\":[{\"marker\":{\"colorbar\":{\"outlinewidth\":0,\"ticks\":\"\"}},\"type\":\"scattergeo\"}],\"scattergl\":[{\"marker\":{\"colorbar\":{\"outlinewidth\":0,\"ticks\":\"\"}},\"type\":\"scattergl\"}],\"scattermapbox\":[{\"marker\":{\"colorbar\":{\"outlinewidth\":0,\"ticks\":\"\"}},\"type\":\"scattermapbox\"}],\"scatterpolar\":[{\"marker\":{\"colorbar\":{\"outlinewidth\":0,\"ticks\":\"\"}},\"type\":\"scatterpolar\"}],\"scatterpolargl\":[{\"marker\":{\"colorbar\":{\"outlinewidth\":0,\"ticks\":\"\"}},\"type\":\"scatterpolargl\"}],\"scatterternary\":[{\"marker\":{\"colorbar\":{\"outlinewidth\":0,\"ticks\":\"\"}},\"type\":\"scatterternary\"}],\"surface\":[{\"colorbar\":{\"outlinewidth\":0,\"ticks\":\"\"},\"colorscale\":[[0.0,\"#0d0887\"],[0.1111111111111111,\"#46039f\"],[0.2222222222222222,\"#7201a8\"],[0.3333333333333333,\"#9c179e\"],[0.4444444444444444,\"#bd3786\"],[0.5555555555555556,\"#d8576b\"],[0.6666666666666666,\"#ed7953\"],[0.7777777777777778,\"#fb9f3a\"],[0.8888888888888888,\"#fdca26\"],[1.0,\"#f0f921\"]],\"type\":\"surface\"}],\"table\":[{\"cells\":{\"fill\":{\"color\":\"#EBF0F8\"},\"line\":{\"color\":\"white\"}},\"header\":{\"fill\":{\"color\":\"#C8D4E3\"},\"line\":{\"color\":\"white\"}},\"type\":\"table\"}]},\"layout\":{\"annotationdefaults\":{\"arrowcolor\":\"#2a3f5f\",\"arrowhead\":0,\"arrowwidth\":1},\"autotypenumbers\":\"strict\",\"coloraxis\":{\"colorbar\":{\"outlinewidth\":0,\"ticks\":\"\"}},\"colorscale\":{\"diverging\":[[0,\"#8e0152\"],[0.1,\"#c51b7d\"],[0.2,\"#de77ae\"],[0.3,\"#f1b6da\"],[0.4,\"#fde0ef\"],[0.5,\"#f7f7f7\"],[0.6,\"#e6f5d0\"],[0.7,\"#b8e186\"],[0.8,\"#7fbc41\"],[0.9,\"#4d9221\"],[1,\"#276419\"]],\"sequential\":[[0.0,\"#0d0887\"],[0.1111111111111111,\"#46039f\"],[0.2222222222222222,\"#7201a8\"],[0.3333333333333333,\"#9c179e\"],[0.4444444444444444,\"#bd3786\"],[0.5555555555555556,\"#d8576b\"],[0.6666666666666666,\"#ed7953\"],[0.7777777777777778,\"#fb9f3a\"],[0.8888888888888888,\"#fdca26\"],[1.0,\"#f0f921\"]],\"sequentialminus\":[[0.0,\"#0d0887\"],[0.1111111111111111,\"#46039f\"],[0.2222222222222222,\"#7201a8\"],[0.3333333333333333,\"#9c179e\"],[0.4444444444444444,\"#bd3786\"],[0.5555555555555556,\"#d8576b\"],[0.6666666666666666,\"#ed7953\"],[0.7777777777777778,\"#fb9f3a\"],[0.8888888888888888,\"#fdca26\"],[1.0,\"#f0f921\"]]},\"colorway\":[\"#636efa\",\"#EF553B\",\"#00cc96\",\"#ab63fa\",\"#FFA15A\",\"#19d3f3\",\"#FF6692\",\"#B6E880\",\"#FF97FF\",\"#FECB52\"],\"font\":{\"color\":\"#2a3f5f\"},\"geo\":{\"bgcolor\":\"white\",\"lakecolor\":\"white\",\"landcolor\":\"#E5ECF6\",\"showlakes\":true,\"showland\":true,\"subunitcolor\":\"white\"},\"hoverlabel\":{\"align\":\"left\"},\"hovermode\":\"closest\",\"mapbox\":{\"style\":\"light\"},\"paper_bgcolor\":\"white\",\"plot_bgcolor\":\"#E5ECF6\",\"polar\":{\"angularaxis\":{\"gridcolor\":\"white\",\"linecolor\":\"white\",\"ticks\":\"\"},\"bgcolor\":\"#E5ECF6\",\"radialaxis\":{\"gridcolor\":\"white\",\"linecolor\":\"white\",\"ticks\":\"\"}},\"scene\":{\"xaxis\":{\"backgroundcolor\":\"#E5ECF6\",\"gridcolor\":\"white\",\"gridwidth\":2,\"linecolor\":\"white\",\"showbackground\":true,\"ticks\":\"\",\"zerolinecolor\":\"white\"},\"yaxis\":{\"backgroundcolor\":\"#E5ECF6\",\"gridcolor\":\"white\",\"gridwidth\":2,\"linecolor\":\"white\",\"showbackground\":true,\"ticks\":\"\",\"zerolinecolor\":\"white\"},\"zaxis\":{\"backgroundcolor\":\"#E5ECF6\",\"gridcolor\":\"white\",\"gridwidth\":2,\"linecolor\":\"white\",\"showbackground\":true,\"ticks\":\"\",\"zerolinecolor\":\"white\"}},\"shapedefaults\":{\"line\":{\"color\":\"#2a3f5f\"}},\"ternary\":{\"aaxis\":{\"gridcolor\":\"white\",\"linecolor\":\"white\",\"ticks\":\"\"},\"baxis\":{\"gridcolor\":\"white\",\"linecolor\":\"white\",\"ticks\":\"\"},\"bgcolor\":\"#E5ECF6\",\"caxis\":{\"gridcolor\":\"white\",\"linecolor\":\"white\",\"ticks\":\"\"}},\"title\":{\"x\":0.05},\"xaxis\":{\"automargin\":true,\"gridcolor\":\"white\",\"linecolor\":\"white\",\"ticks\":\"\",\"title\":{\"standoff\":15},\"zerolinecolor\":\"white\",\"zerolinewidth\":2},\"yaxis\":{\"automargin\":true,\"gridcolor\":\"white\",\"linecolor\":\"white\",\"ticks\":\"\",\"title\":{\"standoff\":15},\"zerolinecolor\":\"white\",\"zerolinewidth\":2}}}},                        {\"responsive\": true}                    ).then(function(){\n",
       "                            \n",
       "var gd = document.getElementById('0f23dc75-ffc7-40d6-b218-8bc1e2e04214');\n",
       "var x = new MutationObserver(function (mutations, observer) {{\n",
       "        var display = window.getComputedStyle(gd).display;\n",
       "        if (!display || display === 'none') {{\n",
       "            console.log([gd, 'removed!']);\n",
       "            Plotly.purge(gd);\n",
       "            observer.disconnect();\n",
       "        }}\n",
       "}});\n",
       "\n",
       "// Listen for the removal of the full notebook cells\n",
       "var notebookContainer = gd.closest('#notebook-container');\n",
       "if (notebookContainer) {{\n",
       "    x.observe(notebookContainer, {childList: true});\n",
       "}}\n",
       "\n",
       "// Listen for the clearing of the current output cell\n",
       "var outputEl = gd.closest('.output');\n",
       "if (outputEl) {{\n",
       "    x.observe(outputEl, {childList: true});\n",
       "}}\n",
       "\n",
       "                        })                };                });            </script>        </div>"
      ]
     },
     "metadata": {},
     "output_type": "display_data"
    }
   ],
   "source": [
    "## Time loop\n",
    "\n",
    "!rm -r savedVariables\n",
    "!mkdir savedVariables\n",
    "\n",
    "for time in [1]:\n",
    "\n",
    "    print(\"\\nTime = \" + str(time))\n",
    "    \n",
    "    # Set number of maximum iterations for convergence\n",
    "    \n",
    "    icorr = 1\n",
    "    maxcorr = 100\n",
    "\n",
    "    # Make directory\n",
    "\n",
    "    !mkdir savedVariables/{time}\n",
    "    \n",
    "    # while True:\n",
    "    for iteration in [1]:\n",
    "            \n",
    "        u_previous = u_new #store latest guess values\n",
    "        \n",
    "        #Counters will be used later for the center left and right boundary conditions.\n",
    "        x_counter_left = 1\n",
    "        x_counter_right = 2\n",
    "        y_counter_left = 1\n",
    "        y_counter_right = 2\n",
    "        \n",
    "        # Prepare matrix A and b vector for the x-equation\n",
    "        \n",
    "        A_x = A_no_boundary_x #make copy of matrix A with no boundary conditions\n",
    "        \n",
    "        for k in np.arange(0,nx*ny):   # k is the cell number\n",
    "\n",
    "            #Bottom left corner coefficients\n",
    "                \n",
    "            if k == 0:\n",
    "\n",
    "                #ap\n",
    "                A_x[k,k] = (rho*dx*dy/(dt**2)) + (Sfy/dy)*3*mu + (Sfx/dx)*(6*mu + 3*Lambda)\n",
    "\n",
    "                #an\n",
    "                A_x[k,k+nx] = -(Sfy/dy)*mu\n",
    "\n",
    "                #ae\n",
    "                A_x[k,k+1] = -(Sfx/dx)*(2*mu + Lambda)\n",
    "\n",
    "                #b_x = A + B(ub) + C(ul) + D(ve + vne - 2vl) + E(vn + vne - 2vb)\n",
    "\n",
    "                b_x[k] =(\n",
    "                            (rho/(dt**2))*( 2*(u_old[k,0])*dx*dy - u_old_old[k,0]*dx*dy) \n",
    "                            + (Sfy/dy)*(2*mu)*u_bottom\n",
    "                            + (Sfx/dx)*(4*mu +2*Lambda)*u_left\n",
    "                            + (Sfy/(3*dx))*mu*( \n",
    "                                                u_previous[k+1,1] \n",
    "                                                +  u_previous[k+1+nx, 1]\n",
    "                                                + - 2*v_left\n",
    "                                                )\n",
    "                            + (Sfx/(3*dy))*Lambda*( \n",
    "                                                    + u_previous[k+nx , 1]\n",
    "                                                    + u_previous[k+1+nx , 1]\n",
    "                                                    - 2*v_bottom\n",
    "                                                    )\n",
    "                        )   \n",
    "\n",
    "            #Bottom right corner coefficients\n",
    "                \n",
    "            elif  k == nx-1:\n",
    "\n",
    "                #ap\n",
    "                A_x[k,k] = (rho*dx*dy/(dt**2)) + (Sfy/dy)*3*mu + (Sfx/dx)*(6*mu + 3*Lambda)\n",
    "\n",
    "                #an\n",
    "                A_x[k,k+nx] = -(Sfy/dy)*mu\n",
    "\n",
    "                #aw\n",
    "                A_x[k,k-1] = -(Sfx/dx)*(2*mu + Lambda)\n",
    "\n",
    "                #b_x = A + B(u_b) + C(u_r) + D(-v_w -v_nw + 2v_r) + E(-v_n -v_nw + 2v_b)\n",
    "\n",
    "                b_x[k] =(\n",
    "                            (rho/(dt**2))*( 2*(u_old[k,0])*dx*dy - u_old_old[k,0]*dx*dy) \n",
    "                            + (Sfy/dy)*(2*mu)*u_bottom\n",
    "                            + (Sfx/dx)*(4*mu +2*Lambda)*u_right\n",
    "                            + (Sfy/(3*dx))*mu*( \n",
    "                                                - u_previous[k-1,1]      #v_w\n",
    "                                                - u_previous[k-1+nx, 1]  #v_nw\n",
    "                                                + 2*v_right              #v_r\n",
    "                                                )\n",
    "                            + (Sfx/(3*dy))*Lambda*( \n",
    "                                                    - u_previous[k+nx , 1]      #v_n\n",
    "                                                    - u_previous[k-1+nx , 1]    #v_nw\n",
    "                                                    + 2*v_bottom                #v_b\n",
    "                                                    )\n",
    "                        )\n",
    "\n",
    "            # Top Left Corner Coeficients\n",
    "                \n",
    "            elif  k == (nx*ny)-(nx):\n",
    "                \n",
    "                A_x[k,k] = (rho*dx*dy/(dt**2)) + (Sfy/dy)*3*mu + (Sfx/dx)*(6*mu + 3*Lambda)  ##ap               \n",
    "                \n",
    "                #as\n",
    "                A_x[k,k-nx] = -(Sfy/dy)*mu\n",
    "\n",
    "                #ae                \n",
    "                A_x[k,k+1] = -(Sfx/dx)*(2*mu + Lambda)\n",
    "\n",
    "                #b_x = A + B(ut) + C(ul) + D(-ve -vse + 2vl) + E(-vs - vse + 2vt) \n",
    "                \n",
    "                b_x[k] =( \n",
    "                            (rho/(dt**2))*(2*(u_old[k,0])*dx*dy - u_old_old[k,0]*dx*dy) \n",
    "                            + (Sfy/dy)*(2*mu)*u_top \n",
    "                            + (Sfx/dx)*(4*mu +2*Lambda)*u_left \n",
    "                            + (Sfy/(3*dx))*mu*( \n",
    "                                                    - u_previous[k+1,1] \n",
    "                                                    - u_previous[k+1-nx, 1] \n",
    "                                                    + 2*v_left\n",
    "                                                ) \n",
    "                            + (Sfx/(3*dy))*Lambda*(\n",
    "                                                    - u_previous[k-nx , 1]\n",
    "                                                    - u_previous[k+1-nx , 1]\n",
    "                                                    + 2*v_top\n",
    "                                                    )    \n",
    "                        )\n",
    "                \n",
    "            # Top right corner coefficients\n",
    "                \n",
    "            elif  k == (nx*ny)-1:\n",
    "\n",
    "                #ap\n",
    "                A_x[k,k] = (rho*dx*dy/(dt**2)) + (Sfy/dy)*3*mu + (Sfx/dx)*(6*mu + 3*Lambda)\n",
    "\n",
    "                #as\n",
    "                A_x[k,k-nx] = -(Sfy/dy)*mu\n",
    "\n",
    "                #aw\n",
    "                A_x[k,k-1] = -(Sfx/dx)*(2*mu + Lambda)\n",
    "\n",
    "                #b_x = A + B(u_t) + C(u_r) + D(+ v_w + v_sw - 2v_r) + E(+ v_s + v_sw - 2v_t)\n",
    "\n",
    "                b_x[k] =(\n",
    "                            (rho/(dt**2))*( 2*(u_old[k,0])*dx*dy - u_old_old[k,0]*dx*dy) \n",
    "                            + (Sfy/dy)*(2*mu)*u_bottom\n",
    "                            + (Sfx/dx)*(4*mu +2*Lambda)*u_right\n",
    "                            + (Sfy/(3*dx))*mu*( \n",
    "                                                + u_previous[k-1,1]      # + v_w\n",
    "                                                + u_previous[k-1-nx, 1]  # + v_sw\n",
    "                                                - 2*v_right              # - 2v_r\n",
    "                                                )\n",
    "                            + (Sfx/(3*dy))*Lambda*( \n",
    "                                                    + u_previous[k-nx , 1]      # + v_s\n",
    "                                                    + u_previous[k-1-nx , 1]    # + v_sw\n",
    "                                                    - 2*v_bottom                # - 2v_t\n",
    "                                                    )\n",
    "                        )\n",
    "                \n",
    "            # Center Bottom Boundaries\n",
    "\n",
    "            elif  (k > 0) & (k < nx):\n",
    "\n",
    "                # print(\"x - Bottom Center Coefficents for Cell: \" + str(k))\n",
    "\n",
    "                #ap\n",
    "                A_x[k,k] = (rho*dx*dy/(dt**2)) + (Sfy/dy)*3*mu + (Sfx/dx)*(4*mu + 2*Lambda)\n",
    "\n",
    "                #an\n",
    "                A_x[k,k+nx] = -(Sfy/dy)*mu\n",
    "                \n",
    "                #ae\n",
    "                A_x[k,k+1] = -(Sfx/dx)*(2*mu + Lambda)\n",
    "\n",
    "                #aw\n",
    "                A_x[k,k-1] = -(Sfx/dx)*(2*mu + Lambda)\n",
    "\n",
    "                #b_x = A + B(u_b) + C(v_ne - v_nw)\n",
    "\n",
    "                b_x[k] =(\n",
    "                            (rho/(dt**2))*( 2*(u_old[k,0])*dx*dy - u_old_old[k,0]*dx*dy) \n",
    "                            + (Sfy/dy)*(2*mu)*u_bottom # u-b\n",
    "                            + (\n",
    "                                (Sfy/(4*dx))*mu \n",
    "                                +\n",
    "                                (Sfx/(3*dy))*Lambda\n",
    "                            )*(\n",
    "                                + u_previous[k+1+nx, 1] #v_ne\n",
    "                                - u_previous[k-1+nx, 1] #v_nw\n",
    "                            )\n",
    "                        )\n",
    "\n",
    "            # Center Top Boundaries\n",
    "\n",
    "            elif  ( k > (nx*ny)-(nx) ) & ( k < (nx*ny)-1 ):\n",
    "\n",
    "                # print(\"x - Top Center Coefficents for Cell: \" + str(k))\n",
    "\n",
    "                #ap\n",
    "                A_x[k,k] = (rho*dx*dy/(dt**2)) + (Sfy/dy)*3*mu + (Sfx/dx)*(4*mu + 2*Lambda)\n",
    "\n",
    "                #as\n",
    "                A_x[k,k-nx] = -(Sfy/dy)*mu\n",
    "                \n",
    "                #ae\n",
    "                A_x[k,k+1] = -(Sfx/dx)*(2*mu + Lambda)\n",
    "\n",
    "                #aw\n",
    "                A_x[k,k-1] = -(Sfx/dx)*(2*mu + Lambda)\n",
    "\n",
    "                #b_x = A + B(u_t) + C(-v_se + v_sw)\n",
    "\n",
    "                b_x[k] =(\n",
    "                            (rho/(dt**2))*( 2*(u_old[k,0])*dx*dy - u_old_old[k,0]*dx*dy) \n",
    "                            + (Sfy/dy)*(2*mu)*u_top # u_t\n",
    "                            + (\n",
    "                                (Sfy/(4*dx))*mu \n",
    "                                +\n",
    "                                (Sfx/(3*dy))*Lambda\n",
    "                            )*(\n",
    "                                - u_previous[k+1-nx, 1] # - v_se\n",
    "                                + u_previous[k-1-nx, 1] # + v_sw\n",
    "                            )\n",
    "                        )\n",
    "            \n",
    "            # Center Left Boundaries\n",
    "\n",
    "            elif  ( k > 0) & ( k%nx == 0 ) & ( k < (nx*ny)-(nx) ):\n",
    "\n",
    "                # print(\"x - Left Center Coefficents for Cell: \" + str(k))\n",
    "\n",
    "                #ap\n",
    "                A_x[k,k] = (rho*dx*dy/(dt**2)) + (Sfy/dy)*2*mu + (Sfx/dx)*(6*mu + 3*Lambda)\n",
    "\n",
    "                #an\n",
    "                A_x[k,k+nx] = -(Sfy/dy)*mu\n",
    "                \n",
    "                #as\n",
    "                A_x[k,k-nx] = -(Sfy/dy)*mu\n",
    "\n",
    "                #ae\n",
    "                A_x[k,k+1] = -(Sfx/dx)*(2*mu + Lambda)\n",
    "\n",
    "                #b_x = A + B(u_l) + C( + v_ne - v_se)\n",
    "\n",
    "                b_x[k] =(\n",
    "                            (rho/(dt**2))*( 2*(u_old[k,0])*dx*dy - u_old_old[k,0]*dx*dy) \n",
    "                            + (Sfx/dx)*(4*mu + 2*Lambda)*u_left # u_l\n",
    "                            + (\n",
    "                                (Sfy/(3*dx))*mu \n",
    "                                +\n",
    "                                (Sfx/(4*dy))*Lambda\n",
    "                            )*(\n",
    "                                + u_previous[k+1+nx, 1] # + v_ne\n",
    "                                - u_previous[k+1-nx, 1] # - v_se\n",
    "                            )\n",
    "                        )\n",
    "\n",
    "            # Center Right Boundaries\n",
    "\n",
    "            elif  ( k > nx - 1) & ( k%(nx) == nx - 1 ) & ( k < nx*ny -1 ):\n",
    "\n",
    "                # print(\"x - Right Center Coefficents for Cell: \" + str(k))\n",
    "\n",
    "                #ap\n",
    "                A_x[k,k] = (rho*dx*dy/(dt**2)) + (Sfy/dy)*2*mu + (Sfx/dx)*(6*mu + 3*Lambda)\n",
    "\n",
    "                #an\n",
    "                A_x[k,k+nx] = -(Sfy/dy)*mu\n",
    "                \n",
    "                #as\n",
    "                A_x[k,k-nx] = -(Sfy/dy)*mu\n",
    "\n",
    "                #aw\n",
    "                A_x[k,k-1] = -(Sfx/dx)*(2*mu + Lambda)\n",
    "\n",
    "                #b_x = A + B(u_r) + C( - v_nw + v_sw)\n",
    "\n",
    "                b_x[k] =(\n",
    "                            (rho/(dt**2))*( 2*(u_old[k,0])*dx*dy - u_old_old[k,0]*dx*dy) \n",
    "                            + (Sfx/dx)*(4*mu + 2*Lambda)*u_right # u_l\n",
    "                            + (\n",
    "                                (Sfy/(3*dx))*mu \n",
    "                                +\n",
    "                                (Sfx/(4*dy))*Lambda\n",
    "                            )*(\n",
    "                                - u_previous[k-1+nx, 1] # - v_nw\n",
    "                                + u_previous[k-1-nx, 1] # + v_sw\n",
    "                            )\n",
    "                        )\n",
    "            \n",
    "            else:\n",
    "\n",
    "                b_x[k] = (\n",
    "                            (rho/(dt**2))*( 2*(u_old[k,0])*dx*dy - u_old_old[k,0]*dx*dy)\n",
    "                            + (Sfy/(4*dx))*mu*(\n",
    "                                                + u_previous[k+1+nx,1]    # + v_ne\n",
    "                                                - u_previous[k-1+nx,1]    # - v_nw\n",
    "                                                - u_previous[k+1-nx,1]    # - v_se\n",
    "                                                + u_previous[k-1-nx,1]    # + v_sw\n",
    "                                            )\n",
    "                            +(Sfx/(4*dy))*Lambda*(\n",
    "                                                    + u_previous[k+1+nx,1]    # + v_ne\n",
    "                                                    - u_previous[k-1+nx,1]    # - v_nw\n",
    "                                                    - u_previous[k+1-nx,1]    # - v_se\n",
    "                                                    + u_previous[k-1-nx,1]    # + v_sw \n",
    "                                                )\n",
    "                            )\n",
    "        saveArray(str(time) + \"/A_x_\" + str(icorr) , A_x.todense())   \n",
    "        saveArray(str(time) + \"/b_x_\" + str(icorr), b_x)     \n",
    "        \n",
    "        \n",
    "        ## Solve the x-equation\n",
    "        \n",
    "        Ux = spsolve(A_x, b_x)\n",
    "        Ux = np.array(Ux)\n",
    "\n",
    "        saveArray(str(time) + \"/Ux_\" + str(icorr), Ux)\n",
    "        \n",
    "        ## Prepare matrix A and b vector for the y-equation\n",
    "        \n",
    "        A_y = A_no_boundary_y #make copy of A with no boundary conditions\n",
    "        \n",
    "        for k in np.arange(0,nx*ny):   # j is the cell number\n",
    "            \n",
    "            #Bottom left corner coefficients\n",
    "            \n",
    "            if k == 0:\n",
    "                \n",
    "                A_y[k,k] = (rho*dx*dy/(dt**2)) + (Sfy/dy)*(6*mu + 3*Lambda) + (Sfx/dx)*(3*mu)  ##ap       (6*mu + 3*Lambda)        \n",
    "                \n",
    "                #an\n",
    "                A_y[k,k+nx] = -(Sfy/dy)*(2*mu + Lambda)\n",
    "\n",
    "                #ae                \n",
    "                A_y[k,k+1] = -(Sfx/dx)*(mu)\n",
    "\n",
    "                # b_y = A + B(vb) + C(vl) + D(ue + une - 2ul) + E(un + une - 2ub) \n",
    "                \n",
    "                b_y[k] = (\n",
    "                                (rho/(dt**2))*( 2*(u_old[k,1])*dx*dy - u_old_old[k,1]*dx*dy)\n",
    "                                + (Sfy/dy)*(4*mu +2*Lambda)*v_bottom\n",
    "                                + (Sfx/dx)*(2*Lambda)*v_left\n",
    "                                + (Sfy/(3*dx))*Lambda*( \n",
    "                                                        + u_previous[k+1,0] \n",
    "                                                        + u_previous[k+1+nx, 0]\n",
    "                                                        - 2*u_left\n",
    "                                                        ) \n",
    "                                + (Sfx/(3*dy))*mu*(\n",
    "                                                    + u_previous[k+nx,0]\n",
    "                                                    + u_previous[k+1+nx, 0]\n",
    "                                                    - 2*u_bottom\n",
    "                                                    )\n",
    "                            )\n",
    "                \n",
    "            #Bottom right corner coefficients\n",
    "\n",
    "            elif k == nx-1:\n",
    "                \n",
    "                A_y[k,k] = (rho*dx*dy/(dt**2)) + (Sfy/dy)*(6*mu + 3*Lambda) + (Sfx/dx)*(3*mu)  ##ap       (6*mu + 3*Lambda)        \n",
    "                \n",
    "                #an\n",
    "                A_y[k,k+nx] = -(Sfy/dy)*(2*mu + Lambda)\n",
    "\n",
    "                #aw                \n",
    "                A_y[k,k-1] = -(Sfx/dx)*(mu)\n",
    "\n",
    "                #b_y = A + B(vb) + C(vr) + D(- u_w - u_nw + 2u_r) + E(- u_n - u_nw + 2u_b) \n",
    "                \n",
    "                b_y[k] = (\n",
    "                                (rho/(dt**2))*( 2*(u_old[k,1])*dx*dy - u_old_old[k,1]*dx*dy)\n",
    "                                + (Sfy/dy)*(4*mu +2*Lambda)*v_bottom\n",
    "                                + (Sfx/dx)*(2*Lambda)*v_right\n",
    "                                + (Sfy/(3*dx))*Lambda*( \n",
    "                                                        - u_previous[k-1,0]        # - u_w\n",
    "                                                        - u_previous[k-1+nx, 0]    # - u_nw\n",
    "                                                        + 2*u_right                # + 2u_r\n",
    "                                                        ) \n",
    "                                + (Sfx/(3*dy))*mu*(\n",
    "                                                    - u_previous[k+nx,0]        # - u_n \n",
    "                                                    - u_previous[k-1+nx, 0]     # - u_nw \n",
    "                                                    + 2*u_bottom                # + 2u_b\n",
    "                                                    ) \n",
    "                            )\n",
    "                     \n",
    "            #Top left corner coefficients\n",
    "                \n",
    "            elif k == (nx*ny)-(nx):\n",
    "                \n",
    "                A_y[k,k] = (rho*dx*dy/(dt**2)) + (Sfy/dy)*(6*mu + 3*Lambda) + (Sfx/dx)*(3*mu)  ##ap       (6*mu + 3*Lambda)        \n",
    "                \n",
    "                #as\n",
    "                A_y[k,k-nx] = -(Sfy/dy)*(2*mu + Lambda)\n",
    "\n",
    "                #ae                \n",
    "                A_y[k,k+1] = -(Sfx/dx)*(mu)\n",
    "                \n",
    "                b_y[k] =(\n",
    "                            (rho/(dt**2))*( 2*(u_old[k,1])*dx*dy - u_old_old[k,1]*dx*dy)\n",
    "                            + (Sfy/dy)*(4*mu +2*Lambda)*v_top\n",
    "                            + (Sfx/dx)*(2*mu)*v_left\n",
    "                            + (Sfy/(3*dx))*Lambda*(\n",
    "                                                    - u_previous[k+1, 0]\n",
    "                                                    -  u_previous[k+1-nx, 0]\n",
    "                                                    + 2*u_left\n",
    "                                                    )\n",
    "                            + (Sfx/(3*dy))*mu*(\n",
    "                                                - u_previous[k-nx , 0]\n",
    "                                                - u_previous[k+1-nx , 0]\n",
    "                                                + 2*u_top\n",
    "                                                )\n",
    "                        )    \n",
    "                \n",
    "            #Top right corner coefficients\n",
    "                \n",
    "            elif k == (nx*ny)-1:\n",
    "                #ap\n",
    "                \n",
    "                A_y[k,k] = (rho*dx*dy/(dt**2)) + (Sfy/dy)*(6*mu + 3*Lambda) + (Sfx/dx)*(3*mu) \n",
    "                \n",
    "                #as\n",
    "                A_y[k,k-nx] = -(Sfy/dy)*(2*mu + Lambda)\n",
    "\n",
    "                #aw                \n",
    "                A_y[k,k-1] = -(Sfx/dx)*(mu)\n",
    "\n",
    "                #b_y = A + B(v_t) + C(v_r) + D(+ u_w + u_sw - 2u_r) + E(+ u_s + u_sw - 2u_t) \n",
    "                \n",
    "                b_y[k] = (\n",
    "                                (rho/(dt**2))*( 2*(u_old[k,1])*dx*dy - u_old_old[k,1]*dx*dy)   # A\n",
    "                                + (Sfy/dy)*(4*mu +2*Lambda)*v_top  # + B(v_t)\n",
    "                                + (Sfx/dx)*(2*Lambda)*v_right      # + C(v_r)\n",
    "                                + (Sfy/(3*dx))*Lambda*( \n",
    "                                                        + u_previous[k-1,0]        # + u_w\n",
    "                                                        + u_previous[k-1-nx, 0]    # + u_sw\n",
    "                                                        - 2*u_right                # - 2u_r\n",
    "                                                        ) \n",
    "                                + (Sfx/(3*dy))*mu*(\n",
    "                                                    + u_previous[k-nx,0]        # + u_s\n",
    "                                                    + u_previous[k-1-nx, 0]     # + u_sw\n",
    "                                                    - 2*u_top                   # - 2u_t\n",
    "                                                    )\n",
    "                            )\n",
    "            \n",
    "            # Center Bottom Boundaries\n",
    "\n",
    "            elif (k > 0) & (k < nx):\n",
    "\n",
    "                # print(\"y - Bottom Center Coefficents for Cell: \" + str(k))\n",
    "\n",
    "                #ap\n",
    "                A_y[k,k] = (rho*dx*dy/(dt**2)) + (Sfy/dy)*(6*mu + 3*Lambda) + (Sfx/dx)*(2*mu)\n",
    "\n",
    "                #an\n",
    "                A_y[k,k+nx] = -(Sfy/dy)*(2*mu + Lambda)\n",
    "                \n",
    "                #ae\n",
    "                A_y[k,k+1] = -(Sfx/dx)*(mu)\n",
    "\n",
    "                #aw\n",
    "                A_y[k,k-1] = -(Sfx/dx)*(mu)\n",
    "\n",
    "                #b_y = A + B(v_b) + C(+ u_ne - u_nw)\n",
    "\n",
    "                b_y[k] =(\n",
    "                            (rho/(dt**2))*( 2*(u_old[k,1])*dx*dy - u_old_old[k,1]*dx*dy) \n",
    "                            + (Sfy/dy)*(4*mu + 2*Lambda)*v_bottom # v_b\n",
    "                            + (\n",
    "                                (Sfy/(4*dx))*Lambda \n",
    "                                +\n",
    "                                (Sfx/(3*dy))*mu\n",
    "                            )*(\n",
    "                                + u_previous[k+1+nx, 0] # + u_ne\n",
    "                                - u_previous[k-1+nx, 0] # - u_nw\n",
    "                            )\n",
    "                        )\n",
    "\n",
    "            # Center Top Boundaries\n",
    "\n",
    "            elif ( k > (nx*ny)-(nx )) & ( k < (nx*ny)-1 ) :\n",
    "\n",
    "                # print(\"y - Top Center Coefficents for Cell: \" + str(k))\n",
    "\n",
    "                #ap\n",
    "                A_y[k,k] = (rho*dx*dy/(dt**2)) + (Sfy/dy)*(6*mu + 3*Lambda) + (Sfx/dx)*(2*mu)\n",
    "\n",
    "                #as\n",
    "                A_y[k,k-nx] = -(Sfy/dy)*(2*mu + Lambda)\n",
    "                \n",
    "                #ae\n",
    "                A_y[k,k+1] = -(Sfx/dx)*(mu)\n",
    "\n",
    "                #aw\n",
    "                A_y[k,k-1] = -(Sfx/dx)*(mu)\n",
    "\n",
    "                #b_y = A + B(v_t) + C(- u_se + u_sw)\n",
    "\n",
    "                b_y[k] =(\n",
    "                            (rho/(dt**2))*( 2*(u_old[k,1])*dx*dy - u_old_old[k,1]*dx*dy) \n",
    "                            + (Sfy/dy)*(4*mu + 2*Lambda)*v_top # v_t\n",
    "                            + (\n",
    "                                (Sfy/(4*dx))*Lambda \n",
    "                                +\n",
    "                                (Sfx/(3*dy))*mu\n",
    "                            )*(\n",
    "                                - u_previous[k+1-nx, 0] # - u_se\n",
    "                                + u_previous[k-1-nx, 0] # + u_sw\n",
    "                            )\n",
    "                        )\n",
    "\n",
    "            # Center Left Boundaries\n",
    "\n",
    "            elif ( k > 0) & ( k%nx == 0 ) & ( k < (nx*ny)-(nx) ):\n",
    "\n",
    "                # print(\"x - Left Center Coefficents for Cell: \" + str(k))\n",
    "\n",
    "                #ap\n",
    "                A_y[k,k] = (rho*dx*dy/(dt**2)) + (Sfy/dy)*(4*mu + 2*Lambda) + (Sfx/dx)*(3*mu)\n",
    "\n",
    "                #an\n",
    "                A_y[k,k+nx] = -(Sfy/dy)*(2*mu + Lambda)\n",
    "                \n",
    "                #as\n",
    "                A_y[k,k-nx] = -(Sfy/dy)*(2*mu + Lambda)\n",
    "\n",
    "                #ae\n",
    "                A_y[k,k+1] = -(Sfx/dx)*(mu)\n",
    "\n",
    "                #b_y = A + B(v_l) + C( + u_ne - u_se)\n",
    "\n",
    "                b_y[k] =(\n",
    "                            (rho/(dt**2))*( 2*(u_old[k,1])*dx*dy - u_old_old[k,1]*dx*dy) \n",
    "                            + (Sfx/dx)*(2*mu)*v_left # v_l\n",
    "                            + (\n",
    "                                (Sfy/(3*dx))*Lambda \n",
    "                                +\n",
    "                                (Sfx/(4*dy))*mu\n",
    "                            )*(\n",
    "                                + u_previous[k+1+nx, 0] # + u_ne\n",
    "                                - u_previous[k+1-nx, 0] # - u_se\n",
    "                            )\n",
    "                        )\n",
    "\n",
    "            # Center Right Boundaries\n",
    "\n",
    "            elif ( k > nx - 1) & ( k%(nx) == nx - 1 ) & ( k < nx*ny -1 ):\n",
    "\n",
    "                # print(\"x - Right Center Coefficents for Cell: \" + str(k))\n",
    "\n",
    "                #ap\n",
    "                A_y[k,k] = (rho*dx*dy/(dt**2)) + (Sfy/dy)*(4*mu + 2*Lambda) + (Sfx/dx)*(3*mu)\n",
    "\n",
    "                #an\n",
    "                A_y[k,k+nx] = -(Sfy/dy)*(2*mu + Lambda)\n",
    "                \n",
    "                #as\n",
    "                A_y[k,k-nx] = -(Sfy/dy)*(2*mu + Lambda)\n",
    "\n",
    "                #aw\n",
    "                A_y[k,k-1] = -(Sfx/dx)*(mu)\n",
    "\n",
    "                #b_y = A + B(v_r) + C( - u_nw + u_sw)\n",
    "\n",
    "                b_y[k] =(\n",
    "                            (rho/(dt**2))*( 2*(u_old[k,1])*dx*dy - u_old_old[k,1]*dx*dy) \n",
    "                            + (Sfx/dx)*(2*mu)*v_right # v_r\n",
    "                            + (\n",
    "                                (Sfy/(3*dx))*Lambda \n",
    "                                +\n",
    "                                (Sfx/(4*dy))*mu\n",
    "                            )*(\n",
    "                                - u_previous[k-1+nx, 0] # - u_nw\n",
    "                                + u_previous[k-1-nx, 0] # + u_sw\n",
    "                            )\n",
    "                        )\n",
    "\n",
    "            else:\n",
    "\n",
    "                b_y[k] = (\n",
    "                            (rho/(dt**2))*( 2*(u_old[k,1])*dx*dy - u_old_old[k,1]*dx*dy)\n",
    "                            + (Sfy/(4*dx))*Lambda*(\n",
    "                                                + u_previous[k+1+nx,0]    # + u_ne\n",
    "                                                - u_previous[k-1+nx,0]    # - u_nw\n",
    "                                                - u_previous[k+1-nx,0]    # - u_se\n",
    "                                                + u_previous[k-1-nx,0]    # + u_sw\n",
    "                                            )\n",
    "                            +(Sfx/(4*dy))*mu*(\n",
    "                                                    + u_previous[k+1+nx,0]    # + u_ne\n",
    "                                                    - u_previous[k-1+nx,0]    # - u_nw\n",
    "                                                    - u_previous[k+1-nx,0]    # - u_se\n",
    "                                                    + u_previous[k-1-nx,0]    # + u_sw \n",
    "                                                )\n",
    "                            )\n",
    "        saveArray(str(time) + \"/A_y_\" + str(icorr) , A_y.todense())   \n",
    "        saveArray(str(time) + \"/b_y_\" + str(icorr), b_y)     \n",
    "               \n",
    "                \n",
    "        ## Solve the y-equation\n",
    "        Uy = spsolve(A_y, b_y)\n",
    "        Uy = np.array(Uy)\n",
    "\n",
    "        saveArray(str(time) + \"/Uy_\" + str(icorr), Uy)\n",
    "        \n",
    "        # ## Update u_new with new x and y displacements\n",
    "\n",
    "        u_new1 = np.vstack((Ux, Uy)).T\n",
    "        saveArray (str(time) + \"/u_new1_\" + str(icorr), u_new1)    \n",
    "        saveArray (str(time) + \"/u_previous_\" + str(icorr), u_previous)\n",
    "\n",
    "        # # u_new[:,0] = Ux\n",
    "        # # u_new[:,1] = Uy\n",
    "        \n",
    "        ## Calculate the residual of each iteration\n",
    "        \n",
    "        normFactor = np.max(u_new1)\n",
    "        residual = math.sqrt(np.mean((u_new1 - u_previous)**2))/normFactor\n",
    "        tolerance = 1e-6\n",
    "\n",
    "        u_new = u_new1\n",
    "    \n",
    "        # #Print out residual of each iteration\n",
    "        print(\"icorr = {:01d}, Residual = {:.20f}, normFactor = {:.20f}\".format(icorr, residual, normFactor))\n",
    "             \n",
    "        ## Convergence check\n",
    "        \n",
    "        if residual < tolerance:\n",
    "            \n",
    "            break\n",
    "            \n",
    "        elif icorr > maxcorr:\n",
    "            \n",
    "            break\n",
    "            \n",
    "        \n",
    "        icorr = icorr + 1\n",
    "    \n",
    "    ## Update variables\n",
    "    \n",
    "    u_old_old = u_old\n",
    "    u_old = u_new\n",
    "    \n",
    "    ## Add the boundary conditions to the solution matrices\n",
    "    u_reshape_x = u_new[:,0].reshape(nx, ny)\n",
    "    u_reshape_y = u_new[:,1].reshape(nx, ny)\n",
    "    \n",
    "    #Boundary conditions for u matrix\n",
    "    U = np.zeros((nx+2,ny+2))\n",
    "    U[0,1:nx+1] = u_bottom\n",
    "    U[1:ny+1,0] = u_left\n",
    "    U[1:ny+1,nx+1] = u_right\n",
    "    U[ny+1,1:nx+1] = u_top    \n",
    "    U[1:nx+1,1:nx+1] = u_reshape_x\n",
    "    \n",
    "    # #Boundary conditions for v matrix\n",
    "    V = np.zeros((nx+2,ny+2))\n",
    "    V[0,1:nx+1] = v_bottom\n",
    "    V[1:ny+1,0] = v_left\n",
    "    V[1:ny+1,nx+1] = v_right\n",
    "    V[ny+1,1:nx+1] = v_top    \n",
    "    V[1:nx+1,1:nx+1] = u_reshape_y  \n",
    "    \n",
    "    #Modulus of displacement\n",
    "    disp_mod = np.sqrt((U**2) + (V**2))\n",
    "    disp_mod_converted = disp_mod*1e6 #Convert displacement to micrometers\n",
    "    \n",
    "    # ## Plot the results\n",
    "\n",
    "    import plotly.graph_objects as go\n",
    "\n",
    "    disp_mod = np.sqrt((U**2) + (V**2))*1e-6\n",
    "\n",
    "    dispx, dispy = np.meshgrid(x, y)\n",
    "    fig = go.Figure(data=[go.Surface(z=disp_mod_converted, x=dispx, y=dispy)])\n",
    "    \n",
    "fig.show()   \n",
    "\n"
   ]
  },
  {
   "cell_type": "code",
   "execution_count": 31,
   "metadata": {},
   "outputs": [
    {
     "data": {
      "text/plain": [
       "-780000000000.0"
      ]
     },
     "execution_count": 31,
     "metadata": {},
     "output_type": "execute_result"
    }
   ],
   "source": [
    "A_x[1,2]"
   ]
  },
  {
   "cell_type": "code",
   "execution_count": null,
   "metadata": {},
   "outputs": [],
   "source": []
  }
 ],
 "metadata": {
  "interpreter": {
   "hash": "1b2f9133931ab063f1f037caeeb0be83973bf9a3d4f21c40e4cd03e999a0b9b9"
  },
  "kernelspec": {
   "display_name": "Python 3.6.13 64-bit ('python3': conda)",
   "language": "python",
   "name": "python3"
  },
  "language_info": {
   "codemirror_mode": {
    "name": "ipython",
    "version": 3
   },
   "file_extension": ".py",
   "mimetype": "text/x-python",
   "name": "python",
   "nbconvert_exporter": "python",
   "pygments_lexer": "ipython3",
   "version": "3.9.5"
  },
  "orig_nbformat": 4
 },
 "nbformat": 4,
 "nbformat_minor": 2
}
