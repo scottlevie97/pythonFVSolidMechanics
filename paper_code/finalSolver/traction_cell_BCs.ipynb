{
 "cells": [
  {
   "cell_type": "code",
   "execution_count": 4,
   "metadata": {},
   "outputs": [],
   "source": [
    "from ipynb.fs.full.setup import *\n",
    "from ipynb.fs.full.A_matrix import *\n",
    "from ipynb.fs.full.boundaryCellTraction import *"
   ]
  },
  {
   "cell_type": "code",
   "execution_count": 5,
   "metadata": {},
   "outputs": [],
   "source": [
    "def traction_cell_BCs(A_matrix, b_matrix, k, edges, xy, u_old, u_old_old, u_previous):\n",
    "\n",
    "    A_matrix[k,k] = boundaryCellTraction(edges, xy).a_P\n",
    "\n",
    "    b_matrix[k] =(\n",
    "                    boundaryCellTraction.b_temp(u_old, u_old_old, k, xy)\n",
    "                    +\n",
    "                    boundaryCellTraction.b_diff(edges, k, xy, u_previous)  \n",
    "                )\n",
    "                \n",
    "    for edge in edges:\n",
    "        if edge == \"b\":\n",
    "            #an\n",
    "            A_matrix[k,index(k).n] = - boundaryCellTraction(edges, xy).a_N\n",
    "\n",
    "        if edge == \"t\":\n",
    "            #as\n",
    "            A_matrix[k,index(k).s] = - boundaryCellTraction(edges, xy).a_S\n",
    "\n",
    "        if edge == \"l\":\n",
    "            #ae\n",
    "            A_matrix[k,index(k).e] = - boundaryCellTraction(edges, xy).a_E\n",
    "\n",
    "        if edge == \"r\":\n",
    "            #aw\n",
    "            A_matrix[k,index(k).w] = - boundaryCellTraction(edges, xy).a_W           \n",
    "\n",
    "    if len(edges) == 1:\n",
    "\n",
    "        if (edges[0] == \"b\") | (edges[0] == \"t\") :\n",
    "            #ae\n",
    "            A_matrix[k, index(k).e] = - boundaryCellTraction(edges, xy).a_E\n",
    "            #aw\n",
    "            A_matrix[k, index(k).w] = - boundaryCellTraction(edges, xy).a_W\n",
    "\n",
    "        if (edges[0] == \"l\") | (edges[0] == \"r\") :\n",
    "            #an\n",
    "            A_matrix[k,index(k).n] = - boundaryCellTraction(edges, xy).a_N            \n",
    "            #as\n",
    "            A_matrix[k,index(k).s] = - boundaryCellTraction(edges, xy).a_S\n",
    "\n",
    "    return A_matrix, b_matrix"
   ]
  }
 ],
 "metadata": {
  "interpreter": {
   "hash": "18ed160ad9db49083d5c6dbf82376d1730af41ed005a12d6dc5900d1b4ae07ba"
  },
  "kernelspec": {
   "display_name": "Python 3.9.5 ('base')",
   "language": "python",
   "name": "python3"
  },
  "language_info": {
   "codemirror_mode": {
    "name": "ipython",
    "version": 3
   },
   "file_extension": ".py",
   "mimetype": "text/x-python",
   "name": "python",
   "nbconvert_exporter": "python",
   "pygments_lexer": "ipython3",
   "version": "3.9.5"
  },
  "orig_nbformat": 4
 },
 "nbformat": 4,
 "nbformat_minor": 2
}
