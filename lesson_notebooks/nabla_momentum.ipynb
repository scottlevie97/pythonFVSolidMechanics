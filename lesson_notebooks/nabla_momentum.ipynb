{
 "cells": [
  {
   "cell_type": "markdown",
   "metadata": {},
   "source": [
    "$$ \\boldsymbol{\\sigma} = 2 \\mu \\epsilon + \\lambda tr(\\epsilon)I $$\n"
   ]
  },
  {
   "cell_type": "markdown",
   "metadata": {},
   "source": [
    "$$ \\epsilon = \\dfrac{1}{2}[\\nabla u + (\\nabla u)^T] $$\n",
    "\n"
   ]
  },
  {
   "cell_type": "markdown",
   "metadata": {},
   "source": [
    "$$\n",
    "\\sigma = \\mu \\nabla u + (\\mu \\nabla u)^T + \\lambda tr(\\epsilon)I\n",
    "$$\n"
   ]
  },
  {
   "cell_type": "markdown",
   "metadata": {},
   "source": [
    "\n",
    "$$\n",
    "tr(\\epsilon) = tr(\\dfrac{1}{2}[\\nabla u + (\\nabla u)^T]) \n",
    "$$\n",
    "$$\n",
    "tr(\\nabla u) = tr((\\nabla u)^T)\n",
    "$$\n",
    "$$\n",
    "tr(\\dfrac{1}{2}[\\nabla u + (\\nabla u)^T])  = tr(\\nabla u)\n",
    "$$\n",
    "$$\n",
    "tr(\\epsilon)  = tr(\\nabla u)\n",
    "$$"
   ]
  },
  {
   "cell_type": "markdown",
   "metadata": {},
   "source": [
    "$$\n",
    "\\sigma = \\mu \\nabla u + (\\mu \\nabla u)^T + \\lambda tr(\\nabla u)I\n",
    "$$\n",
    "\n",
    "$$\n",
    "\\nabla \\cdot \\sigma = \\nabla \\cdot \\mu \\nabla u + \\nabla \\cdot (\\mu \\nabla u)^T + \\nabla \\cdot \\lambda tr(\\nabla u)I\n",
    "$$\n"
   ]
  },
  {
   "cell_type": "markdown",
   "metadata": {},
   "source": [
    "### $\\nabla \\cdot (\\nabla \\boldsymbol{u})$"
   ]
  },
  {
   "cell_type": "markdown",
   "metadata": {},
   "source": [
    "\n",
    "$$\n",
    "\\nabla \\boldsymbol{u} = \\begin{bmatrix} \\dfrac{\\delta}{\\delta x} \\\\ \\dfrac{\\delta}{\\delta y} \\end{bmatrix} \\begin{bmatrix} u & v \\end{bmatrix}\n",
    "=\n",
    "\\begin{bmatrix}\n",
    "\\dfrac{\\delta u}{\\delta x} & \\dfrac{\\delta v}{\\delta x} \\\\ \\dfrac{\\delta u }{\\delta y} & \\dfrac{\\delta v }{\\delta y}\n",
    "\\end{bmatrix}\n",
    "$$\n",
    "\n",
    "$$\n",
    "\\nabla \\cdot \\nabla \\boldsymbol{u} \n",
    "= \n",
    "\\begin{bmatrix} \\dfrac{\\delta}{\\delta x} &\\ \\dfrac{\\delta}{\\delta y} \\end{bmatrix}\n",
    "\\cdot\n",
    "\\begin{bmatrix}\n",
    "\\dfrac{\\delta u}{\\delta x} & \\dfrac{\\delta v}{\\delta x} \\\\ \\dfrac{\\delta u }{\\delta y} & \\dfrac{\\delta v }{\\delta y}\n",
    "\\end{bmatrix}\n",
    "$$\n",
    "\n",
    "$$\n",
    "\\nabla \\cdot \\nabla \\boldsymbol{u} \n",
    "= \n",
    "\\begin{bmatrix}\n",
    "\\dfrac{\\delta}{\\delta x}\\left(\\dfrac{\\delta u}{\\delta x}\\right) \n",
    "+\n",
    "\\dfrac{\\delta}{\\delta y}\\left(\\dfrac{\\delta u }{\\delta y}\\right) \n",
    "& \n",
    "\\dfrac{\\delta}{\\delta x}\\left(\\dfrac{\\delta v }{\\delta x}\\right)\n",
    "+\n",
    "\\dfrac{\\delta}{\\delta y}\\left(\\dfrac{\\delta v }{\\delta y}\\right)\n",
    "\\end{bmatrix}\n",
    "$$\n"
   ]
  },
  {
   "cell_type": "markdown",
   "metadata": {},
   "source": [
    "### $\\nabla \\cdot (\\nabla \\boldsymbol{u})^T $"
   ]
  },
  {
   "cell_type": "markdown",
   "metadata": {},
   "source": [
    "\n",
    "$$\n",
    "\\nabla \\cdot (\\nabla \\boldsymbol{u})^T \n",
    "= \n",
    "\\begin{bmatrix} \\dfrac{\\delta}{\\delta x} &\\ \\dfrac{\\delta}{\\delta y} \\end{bmatrix}\n",
    "\\cdot\n",
    "\\begin{bmatrix}\n",
    "\\dfrac{\\delta u}{\\delta x} &  \\dfrac{\\delta u }{\\delta y} \\\\\n",
    " \\dfrac{\\delta v}{\\delta x}  & \\dfrac{\\delta v }{\\delta y}\n",
    "\\end{bmatrix}\n",
    "$$\n",
    "\n",
    "$$\n",
    "\\nabla \\cdot (\\nabla \\boldsymbol{u})^T \n",
    "= \n",
    "\\begin{bmatrix}\n",
    "\\dfrac{\\delta}{\\delta x}\\left(\\dfrac{\\delta u}{\\delta x}\\right) \n",
    "+\n",
    "\\dfrac{\\delta}{\\delta y}\\left(\\dfrac{\\delta v}{\\delta x}\\right) \n",
    "& \n",
    "\\dfrac{\\delta}{\\delta x}\\left(\\dfrac{\\delta u}{\\delta y}\\right)\n",
    "+\n",
    "\\dfrac{\\delta}{\\delta y}\\left(\\dfrac{\\delta v }{\\delta y}\\right)\n",
    "\\end{bmatrix}\n",
    "$$\n",
    "\n"
   ]
  },
  {
   "cell_type": "markdown",
   "metadata": {},
   "source": [
    "### $\\nabla \\cdot \\lambda tr(\\nabla u)I$"
   ]
  },
  {
   "cell_type": "markdown",
   "metadata": {},
   "source": [
    "$$\n",
    "\\nabla \\cdot \\lambda tr(\\nabla u)I\n",
    "=\n",
    "\\nabla \\cdot \\lambda \\left(\\dfrac{\\delta u}{\\delta x} + \\dfrac{\\delta v}{\\delta y} \\right)\n",
    "\\begin{bmatrix}\n",
    "1 & 0 \\\\ 0 & 1\n",
    "\\end{bmatrix}\n",
    "$$\n",
    "\n",
    "$$\n",
    "\\nabla \\cdot \\lambda tr(\\nabla u)I\n",
    "=\n",
    "\\begin{bmatrix} \\dfrac{\\delta}{\\delta x} &\\ \\dfrac{\\delta}{\\delta y} \\end{bmatrix}\n",
    "\\cdot\n",
    "\\lambda \n",
    "\\begin{bmatrix}\n",
    "\\left(\\dfrac{\\delta u}{\\delta x} + \\dfrac{\\delta v}{\\delta y} \\right) & 0 \n",
    "\\\\ 0 & \\left(\\dfrac{\\delta u}{\\delta x} + \\dfrac{\\delta v}{\\delta y} \\right)\n",
    "\\end{bmatrix}\n",
    "$$\n"
   ]
  },
  {
   "cell_type": "markdown",
   "metadata": {},
   "source": [
    "\n",
    "$$\n",
    "\\nabla \\cdot \\lambda tr(\\nabla u)I\n",
    "=\n",
    "\\lambda\n",
    "\\begin{bmatrix}\n",
    "\\dfrac{\\delta}{\\delta x}\\left(\\dfrac{\\delta u}{\\delta x} + \\dfrac{\\delta v}{\\delta y} \\right)\n",
    "&\n",
    "\\dfrac{\\delta}{\\delta y}\\left(\\dfrac{\\delta u}{\\delta x} + \\dfrac{\\delta v}{\\delta y} \\right)\n",
    "\\end{bmatrix}\n",
    "$$"
   ]
  },
  {
   "cell_type": "markdown",
   "metadata": {},
   "source": [
    "#### $\\nabla \\cdot \\sigma$  in x and y direction"
   ]
  },
  {
   "cell_type": "markdown",
   "metadata": {},
   "source": [
    "$$\n",
    "\\nabla \\cdot \\sigma = \\nabla \\cdot \\mu \\nabla u + \\nabla \\cdot (\\mu \\nabla u)^T + \\nabla \\cdot \\lambda tr(\\nabla u)I\n",
    "$$\n",
    "\n",
    "$$\n",
    "\\nabla \\cdot \\sigma = \n",
    "\\mu\n",
    "\\begin{bmatrix}\n",
    "\\dfrac{\\delta}{\\delta x}\\left(\\dfrac{\\delta u}{\\delta x}\\right) \n",
    "+\n",
    "\\dfrac{\\delta}{\\delta y}\\left(\\dfrac{\\delta u }{\\delta y}\\right) \n",
    "\\\\ \n",
    "\\dfrac{\\delta}{\\delta x}\\left(\\dfrac{\\delta v }{\\delta x}\\right)\n",
    "+\n",
    "\\dfrac{\\delta}{\\delta y}\\left(\\dfrac{\\delta v }{\\delta y}\\right)\n",
    "\\end{bmatrix}\n",
    "\n",
    "+\n",
    "\\mu\n",
    "\\begin{bmatrix}\n",
    "\\dfrac{\\delta}{\\delta x}\\left(\\dfrac{\\delta u}{\\delta x}\\right) \n",
    "+\n",
    "\\dfrac{\\delta}{\\delta y}\\left(\\dfrac{\\delta v}{\\delta x}\\right) \n",
    "\\\\ \n",
    "\\dfrac{\\delta}{\\delta x}\\left(\\dfrac{\\delta u}{\\delta y}\\right)\n",
    "+\n",
    "\\dfrac{\\delta}{\\delta y}\\left(\\dfrac{\\delta v }{\\delta y}\\right)\n",
    "\\end{bmatrix}\n",
    "\n",
    "+\n",
    "\n",
    "\\lambda\n",
    "\\begin{bmatrix}\n",
    "\\dfrac{\\delta}{\\delta x}\\left(\\dfrac{\\delta u}{\\delta x} + \\dfrac{\\delta v}{\\delta y} \\right)\n",
    "\\\\\n",
    "\\dfrac{\\delta}{\\delta y}\\left(\\dfrac{\\delta u}{\\delta x} + \\dfrac{\\delta v}{\\delta y} \\right)\n",
    "\\end{bmatrix}\n",
    "\n",
    "$$"
   ]
  },
  {
   "cell_type": "markdown",
   "metadata": {},
   "source": []
  }
 ],
 "metadata": {
  "kernelspec": {
   "display_name": "Python 3.8.10 64-bit",
   "language": "python",
   "name": "python3"
  },
  "language_info": {
   "codemirror_mode": {
    "name": "ipython",
    "version": 3
   },
   "file_extension": ".py",
   "mimetype": "text/x-python",
   "name": "python",
   "nbconvert_exporter": "python",
   "pygments_lexer": "ipython3",
   "version": "3.8.10"
  },
  "orig_nbformat": 4,
  "vscode": {
   "interpreter": {
    "hash": "31f2aee4e71d21fbe5cf8b01ff0e069b9275f58929596ceb00d14d90e3e16cd6"
   }
  }
 },
 "nbformat": 4,
 "nbformat_minor": 2
}
