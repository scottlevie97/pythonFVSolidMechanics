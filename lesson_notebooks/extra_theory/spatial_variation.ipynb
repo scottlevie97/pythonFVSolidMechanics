{
 "cells": [
  {
   "cell_type": "markdown",
   "metadata": {},
   "source": [
    "\n",
    "##### Spatial Variation\n",
    "Spatial variation is a key assumption in the finite volume method. It stems from the definition of the centroid rule; where for a volume $V$ the centroid of said volume $\\boldsymbol{\\textrm{x}}_P$ is given by the equation:\n",
    "\n",
    "$$\n",
    "\\int_{V} (\\boldsymbol{\\textrm{x}} - \\boldsymbol{\\textrm{x}}_P) \\, dV = 0\n",
    "$$\n",
    "\n",
    "where $\\boldsymbol{\\textrm{x}}$ is the coordinate vector.\n",
    "\n",
    "<!-- ** try explain this with moments?: The centroid is the location within a volume of constant density where the total moments are zero ** -->\n",
    "\n",
    "The spatial variation for our solver assumes that all intensive properties $\\phi$ vary linearly within the CV with distance from the centroid. \n",
    "\n",
    "This raises some questions:\n",
    "\n",
    "1. **What is an intensive property?** They are properties that are independent of the amount of matter within a system. Examples are density (mass per volume) and velocity (momentum per unit mass). \n",
    "\n",
    "2. **What does varying linearly mean?** This means that the change of intensive property from the value at the centroid will be directly proportional to the distance from the centroid:\n",
    "\n",
    "$$\n",
    "\\phi_x - \\phi_P ∝ \\boldsymbol{\\textrm{x}} - \\boldsymbol{\\textrm{x}}_P \n",
    "$$\n",
    "\n",
    "or concretely: \n",
    "\n",
    "$$\n",
    "\\phi_x - \\phi_P = k(\\boldsymbol{\\textrm{x}} - \\boldsymbol{\\textrm{x}}_P)\n",
    "$$\n",
    "\n",
    "where $k$ is some constant value, which will be denoted as:  \n",
    "\n",
    "$$ \n",
    "k = \\frac{\\phi_x - \\phi_P }{\\boldsymbol{\\textrm{x}} - \\boldsymbol{\\textrm{x}}_P} = \\frac{\\partial \\phi}{\\partial \\boldsymbol{\\textrm{x}}} \n",
    "$$\n",
    "\n",
    "The intensive property at a coordinate $x$, $\\phi_x$ can be given in terms of $\\phi_P$, the spatial difference between the point on the centroid $x - \\boldsymbol{\\textrm{x}}_P$ and an assumed constant linear variation coefficient $\\frac{\\partial\\phi}{\\partial \\boldsymbol{\\textrm{x}}}$:\n",
    "\n",
    "$$\n",
    "\\phi_x = \\phi_P +  ({\\boldsymbol{\\textrm{x}} - \\boldsymbol{\\textrm{x}}_P})\\frac{\\partial \\phi}{\\partial \\boldsymbol{\\textrm{x}}} \n",
    "$$\n"
   ]
  },
  {
   "cell_type": "markdown",
   "metadata": {},
   "source": [
    "***\n",
    "\n",
    "***This will be deleted, interesting point to note:***\n",
    "\n",
    "Is this not the same as saying $\\phi_x = \\phi_P$, i.e it is the same value within the CV, i.e. $\\frac{\\partial\\phi}{\\partial x} = 0$:\n",
    "\n",
    "$$\n",
    "\\phi_x = \\phi_P +  ({x - \\boldsymbol{\\textrm{x}}_P})\\frac{\\partial\\phi}{\\partial x} \\\\\n",
    "\n",
    "\\phi_x = \\phi_P +  ({x - \\boldsymbol{\\textrm{x}}_P})(0) \\\\\n",
    "\n",
    "\\phi_x = \\phi_P \n",
    "$$\n",
    "\n",
    "***"
   ]
  }
 ],
 "metadata": {
  "language_info": {
   "name": "python"
  },
  "orig_nbformat": 4
 },
 "nbformat": 4,
 "nbformat_minor": 2
}
