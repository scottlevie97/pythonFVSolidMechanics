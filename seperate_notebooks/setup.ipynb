{
 "cells": [
  {
   "cell_type": "code",
   "execution_count": 2,
   "metadata": {},
   "outputs": [],
   "source": [
    "import numpy as np\n",
    "import pandas as pd\n",
    "from scipy.sparse.linalg import spsolve\n",
    "from matplotlib import pyplot as plt\n",
    "\n",
    "def printVar (varname, var):\n",
    "\n",
    "    print(varname)\n",
    "    print(var)\n",
    "\n",
    "def saveArray (name, array): \n",
    "\n",
    "    pd.DataFrame(array).to_csv(\"Solution/\" + name + \".csv\", index=False, header=None)\n",
    "\n"
   ]
  },
  {
   "cell_type": "code",
   "execution_count": 3,
   "metadata": {},
   "outputs": [
    {
     "data": {
      "text/plain": [
       "False"
      ]
     },
     "execution_count": 3,
     "metadata": {},
     "output_type": "execute_result"
    }
   ],
   "source": [
    "# Set Boundary Conditions:\n",
    "class BC_settings:\n",
    "\n",
    "    left = \"fixed_displacement\"\n",
    "    right = \"traction\"\n",
    "    top = \"traction\"\n",
    "    bottom = \"traction\"\n",
    "\n",
    "    def __init__(self, boundary):\n",
    "\n",
    "        if boundary == \"l\":\n",
    "            if BC_settings.left == \"traction\":\n",
    "                self.traction = True\n",
    "                self.fixed_displacement = False\n",
    "            elif BC_settings.left == \"fixed_displacement\":\n",
    "                self.fixed_displacement = True\n",
    "                self.traction = False\n",
    "\n",
    "        if boundary == \"r\":\n",
    "            if BC_settings.right == \"traction\":\n",
    "                self.traction = True\n",
    "                self.fixed_displacement = False\n",
    "            elif BC_settings.right == \"fixed_displacement\":\n",
    "                self.fixed_displacement = True\n",
    "                self.traction = False\n",
    "\n",
    "        if boundary == \"t\":\n",
    "            if BC_settings.top == \"traction\":\n",
    "                self.traction = True\n",
    "                self.fixed_displacement = False\n",
    "            elif BC_settings.top == \"fixed_displacement\":\n",
    "                self.fixed_displacement = True\n",
    "                self.traction = False\n",
    "\n",
    "        if boundary == \"b\":\n",
    "            if BC_settings.bottom == \"traction\":\n",
    "                self.traction = True\n",
    "                self.fixed_displacement = False\n",
    "            elif BC_settings.bottom == \"fixed_displacement\":\n",
    "                self.fixed_displacement = True\n",
    "                self.traction = False\n",
    "\n",
    "BC_settings(\"b\").fixed_displacement"
   ]
  },
  {
   "cell_type": "code",
   "execution_count": 4,
   "metadata": {},
   "outputs": [],
   "source": [
    "# Solve the 2D Navier-Cauchy equation using a segregated finite volume method\n",
    "\n",
    "# Define mesh geometry and boundary conditions\n",
    "\n",
    "Lx = 2 #width of domain\n",
    "Ly = .1 #height of domain\n",
    "\n",
    "fac = 1\n",
    "\n",
    "nx = 40      #number of control volumes in the x-direction\n",
    "ny = 4    #number of control volumes in the y-direction\n"
   ]
  },
  {
   "cell_type": "code",
   "execution_count": 5,
   "metadata": {},
   "outputs": [],
   "source": [
    "# Cantilever Setup \n",
    "\n",
    "tr_right_x = 0    #u boundary condition at the right boundary\n",
    "tr_right_y = - 1e6   #v boundary condition at the right boundary\n",
    "\n",
    "tr_top_x = 0    #u boundary condition at the top boundary\n",
    "tr_top_y = 0       #v boundary condition at the top boundary\n",
    "\n",
    "tr_bottom_x = 0    #u boundary condition at the bottom boundary \n",
    "tr_bottom_y = 0  #v boundary condition at the bottom boundary\n",
    "\n",
    "u_left = 0\n",
    "v_left = 0\n"
   ]
  },
  {
   "cell_type": "code",
   "execution_count": 6,
   "metadata": {},
   "outputs": [],
   "source": [
    "my_file = open(\"index_and_direction.py\")\n",
    "string_list = my_file.readlines()\n",
    "my_file.close()\n",
    "\n",
    "string_list[9] = \"\\tnx = \" + str(nx) + \"\\n\"\n",
    "string_list[10] = \"\\tny = \" + str(ny) + \"\\n\"\n",
    "\n",
    "my_file = open(\"index_and_direction.py\", \"w\")\n",
    "my_file.writelines(string_list)\n",
    "my_file.close()"
   ]
  },
  {
   "cell_type": "code",
   "execution_count": 7,
   "metadata": {},
   "outputs": [
    {
     "name": "stdout",
     "output_type": "stream",
     "text": [
      "40\n",
      "4\n",
      "40\n",
      "4\n"
     ]
    }
   ],
   "source": [
    "# sys.path.append(\"/home/scottlevie/newPythonSolver/pythonsolver_new/tractionBCs/Classes/\")\n",
    "\n",
    "from index_and_direction import dim\n",
    "\n",
    "print(dim().nx)\n",
    "print(dim().ny)"
   ]
  },
  {
   "cell_type": "code",
   "execution_count": 8,
   "metadata": {},
   "outputs": [],
   "source": [
    "from index_and_direction import index\n",
    "from index_and_direction import boundary_point_index\n",
    "from index_and_direction import cell_index\n",
    "from index_and_direction import displacement"
   ]
  },
  {
   "cell_type": "code",
   "execution_count": 9,
   "metadata": {},
   "outputs": [],
   "source": [
    "# # Define material properties\n",
    "\n",
    "# rho = 8050         #density of steel in kg/m^3\n",
    "# mu = 78*10e9       #shear modulus in Pa\n",
    "# K1 = 1.6*10e11      #bulk modulus in Pa\n",
    "\n",
    "# _lambda = K - (2/3)*mu\n",
    "\n",
    "# #print(_lambda)\n",
    "# #\n",
    "# E = mu*(2*(1+0.3))\n",
    "\n",
    "# print(E)"
   ]
  },
  {
   "cell_type": "code",
   "execution_count": 10,
   "metadata": {},
   "outputs": [
    {
     "data": {
      "text/plain": [
       "0.0"
      ]
     },
     "execution_count": 10,
     "metadata": {},
     "output_type": "execute_result"
    }
   ],
   "source": [
    "1e9 - (10**9)"
   ]
  },
  {
   "cell_type": "code",
   "execution_count": 11,
   "metadata": {},
   "outputs": [
    {
     "name": "stdout",
     "output_type": "stream",
     "text": [
      "Shear Modulus (mu): 76923076923.07692\n",
      "Lame Modulus (_lambda): 115384615384.61539\n"
     ]
    }
   ],
   "source": [
    "rho = 8050 #density of steel in kg/m^3\n",
    "\n",
    "\n",
    "# Elastic Modulus (Pa) \n",
    "E = 200*1e9\n",
    "\n",
    "# Poissons Ratio \n",
    "v = 0.3\n",
    "\n",
    "# Shear Modulus (Pa)\n",
    "mu = E/(2*(1+v))\n",
    "print(\"Shear Modulus (mu): \" + str(mu))\n",
    "\n",
    "# Lame Modulus (Pa)\n",
    "_lambda = (v*E)/((1+v)*(1-2*v))\n",
    "print(\"Lame Modulus (_lambda): \" + str(_lambda))"
   ]
  },
  {
   "cell_type": "code",
   "execution_count": 12,
   "metadata": {},
   "outputs": [],
   "source": [
    "## Define required variables\n",
    "\n",
    "tf = 2           #total time in seconds\n",
    "dx = Lx/nx          #length of each control volume in the x-direction\n",
    "dy = Ly/ny          #length of each control volume in the y-direction\n",
    "dt = tf/2          #size of time steps\n",
    "Sfx = dy            #area vector x component (Area of East and West Faces)\n",
    "Sfy = dx            #area vector y component (Area of North and South Faces)\n",
    "\n",
    "transient = False\n"
   ]
  },
  {
   "cell_type": "code",
   "execution_count": 13,
   "metadata": {},
   "outputs": [],
   "source": [
    "## Define  position and time vectors\n",
    "\n",
    "t = np.array(np.arange(0,tf, dt))        #time vector (could possibly use a list)\n",
    "x = np.zeros((1,nx+2))   #position vector defining the center points of the control volumes in the x-direction.\n",
    "x[0,nx+1] = Lx\n",
    "x[0,1:nx+1] = np.arange(dx/2,Lx,dx)\n",
    "\n",
    "t = np.array(np.arange(0,tf, dt))        #time vector (could possibly use a list)\n",
    "y = np.zeros((1,ny+2))   #position vector defining the center points of the control volumes in the y-direction.\n",
    "y[0,ny+1] = Ly\n",
    "y[0,1:ny+1] = np.arange(dy/2,Ly,dy)"
   ]
  },
  {
   "cell_type": "code",
   "execution_count": 14,
   "metadata": {},
   "outputs": [],
   "source": [
    "## Define required displacement matrices and b vector\n",
    "\n",
    "U_new = np.zeros([(ny+2)*(nx+2),2])         #unknown displacements at t + 1    (Column 1 = x, Column2 = y)\n",
    "U_old = np.zeros([(ny+2)*(nx+2),2])         #displacement at time t\n",
    "U_old_old = np.zeros([(ny+2)*(nx+2),2])     #displacement at time t - 1\n",
    "\n",
    "#rhs vector\n",
    "b_x = np.zeros([(ny+2)*(nx+2),1])\n",
    "b_y = np.zeros([(ny+2)*(nx+2),1])"
   ]
  },
  {
   "cell_type": "code",
   "execution_count": 15,
   "metadata": {},
   "outputs": [],
   "source": [
    "class boundary_U:\n",
    "\n",
    "    def __init__(self, boundaries, xy):\n",
    "\n",
    "        if xy == \"x\":\n",
    "            if boundaries[0] == \"b\":\n",
    "                if BC_settings(boundaries[0]).fixed_displacement:\n",
    "                    self.BC = u_bottom\n",
    "            if boundaries[0] == \"t\":\n",
    "                if BC_settings(boundaries[0]).fixed_displacement:\n",
    "                    self.BC = u_top\n",
    "            if boundaries[0] == \"l\":\n",
    "                if BC_settings(boundaries[0]).fixed_displacement:\n",
    "                    self.BC = u_left\n",
    "            if boundaries[0] == \"r\":\n",
    "                if BC_settings(boundaries[0]).fixed_displacement:\n",
    "                    self.BC = u_right\n",
    "\n",
    "        if xy == \"y\":\n",
    "            if boundaries[0] == \"b\":\n",
    "                if BC_settings(boundaries[0]).fixed_displacement:\n",
    "                    self.BC = v_bottom\n",
    "            if boundaries[0] == \"t\":\n",
    "                if BC_settings(boundaries[0]).fixed_displacement:\n",
    "                    self.BC = v_top\n",
    "            if boundaries[0] == \"l\":\n",
    "                if BC_settings(boundaries[0]).fixed_displacement:\n",
    "                    self.BC = v_left\n",
    "            if boundaries[0] == \"r\":\n",
    "                if BC_settings(boundaries[0]).fixed_displacement:\n",
    "                    self.BC = v_right"
   ]
  },
  {
   "cell_type": "code",
   "execution_count": null,
   "metadata": {},
   "outputs": [],
   "source": []
  }
 ],
 "metadata": {
  "interpreter": {
   "hash": "18ed160ad9db49083d5c6dbf82376d1730af41ed005a12d6dc5900d1b4ae07ba"
  },
  "kernelspec": {
   "display_name": "Python 3.9.5 ('base')",
   "language": "python",
   "name": "python3"
  },
  "language_info": {
   "codemirror_mode": {
    "name": "ipython",
    "version": 3
   },
   "file_extension": ".py",
   "mimetype": "text/x-python",
   "name": "python",
   "nbconvert_exporter": "python",
   "pygments_lexer": "ipython3",
   "version": "3.9.5"
  },
  "orig_nbformat": 4
 },
 "nbformat": 4,
 "nbformat_minor": 2
}
