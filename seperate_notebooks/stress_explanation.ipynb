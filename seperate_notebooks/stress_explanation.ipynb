{
 "cells": [
  {
   "cell_type": "markdown",
   "metadata": {},
   "source": [
    "Stress throughout a 3 dimensional domain is a 2nd order tensor field, i.e, it requires 9 values to describe it's properties (a vector requires 3) at a given point within the field.\n",
    "\n",
    "The stress tensor at a point within field can be given in matrix form: \n",
    "\n",
    "$$ \n",
    "\\sigma\n",
    "=\n",
    "\\begin{bmatrix}\n",
    "\\sigma_{11} & \\sigma_{12} & \\sigma_{13} \\\\\n",
    "\\sigma_{21} & \\sigma_{22} & \\sigma_{23} \\\\\n",
    "\\sigma_{31} & \\sigma_{32} & \\sigma_{33}\n",
    "\\end{bmatrix}\n",
    "$$\n",
    "\n",
    "So what is stress? \n",
    "\n",
    "Stress is force per area: $\\frac{Force}{Area}$\n",
    "\n",
    "This can be either **normal stress** or **shear stress**:\n",
    "\n",
    "- Normal stress acts perpendicular to the area in question\n",
    "- Shear stress acts parallel to the area in question. \n",
    "\n"
   ]
  },
  {
   "cell_type": "markdown",
   "metadata": {},
   "source": [
    "As stress is a field, it can be determined/evaluated at every point within the field. However, as you can see above stress has Area in it's equation. TO derive stress we look at a point within the field and the cross-sectional planes this point is on, and use plane areas that become infinitely small.  "
   ]
  },
  {
   "cell_type": "markdown",
   "metadata": {},
   "source": [
    "<center><img src=\"./Paper_Images/Stress_Images/all_planes.png\" alt=\"Drawing\" style=\"width: 300px;\"/></center> "
   ]
  },
  {
   "cell_type": "markdown",
   "metadata": {},
   "source": [
    "Taking a closer look at each plane: \n",
    "\n",
    "<img src=\"./Paper_Images/Stress_Images/x_plane.png\" alt=\"Drawing\" style=\"width: 200px;\"/>\n",
    "<img src=\"./Paper_Images/Stress_Images/y_plane.png\" alt=\"Drawing\" style=\"width: 200px;\"/>\n",
    "<img src=\"./Paper_Images/Stress_Images/z_plane.png\" alt=\"Drawing\" style=\"width: 200px;\"/>\n"
   ]
  },
  {
   "cell_type": "markdown",
   "metadata": {},
   "source": [
    "Now imagine a force $F$ is acting on this point. This force can be decomposed into 3 vectors along the coordinate axis: \n",
    "\n",
    "<center><img src=\"./Paper_Images/Stress_Images/forces.png\" alt=\"Drawing\" style=\"width: 300px;\"/></center> "
   ]
  },
  {
   "cell_type": "markdown",
   "metadata": {},
   "source": [
    "Now let's inspect how these forces effect each of our planes. Starting with the $x$-plane. The area the forces acts on the x-plane will be denoted $\\Delta A_x$\n",
    "\n",
    "<center><img src=\"./Paper_Images/Stress_Images/x_1.png\" alt=\"Drawing\" style=\"width: 300px;\"/></center> "
   ]
  },
  {
   "cell_type": "markdown",
   "metadata": {},
   "source": [
    "As said previously normal stress occurs normal stress acts perpendicular to the area in question. The force causing this stress is $\\Delta F_x$.\n",
    "\n",
    "Shear stress acts parallel to the area in question. The force causing the shear stress for this plane is $\\Delta F_y$ and $\\Delta F_z$.\n",
    "\n",
    "So we now can derive 3 expressions for 3 values of stress. 1 normal and 2 shear. For simplicity we will use $\\tau$ to denote shear stress, so that we differentiate from normal stress $\\sigma$. "
   ]
  },
  {
   "cell_type": "markdown",
   "metadata": {},
   "source": [
    "As a naming convention the first subscript will denote the plane in question, and the second subscript will denote the direction of the force.\n",
    "\n",
    "The normal stress for the $x$-plane is expressed as: \n",
    "\n",
    "$$ \\sigma_{xx} = \\frac{\\Delta F_x}{\\Delta A_x} $$\n",
    "\n",
    "\n",
    "<center><img src=\"./Paper_Images/Stress_Images/x_x.png\" alt=\"Drawing\" style=\"width: 300px;\"/></center> "
   ]
  },
  {
   "cell_type": "markdown",
   "metadata": {},
   "source": [
    "\n",
    "and the shear stresses as;\n",
    "\n",
    "$$ \\tau_{xy} = \\frac{\\Delta F_y}{\\Delta A_x}$$\n",
    "$$ \\tau_{xz} = \\frac{\\Delta F_z}{\\Delta A_x} $$  \n",
    "\n",
    "<img src=\"./Paper_Images/Stress_Images/x_y.png\" alt=\"Drawing\" style=\"width: 300px;\"/>\n",
    "<img src=\"./Paper_Images/Stress_Images/x_z.png\" alt=\"Drawing\" style=\"width: 300px;\"/>\n"
   ]
  },
  {
   "cell_type": "markdown",
   "metadata": {},
   "source": [
    "So $\\sigma_{xx}$, $\\tau_{xy}$ & $\\tau_{xz}$ describe stress on the $x$-plane at a particular point.\n",
    "\n",
    "Repeating this for the $y$-plane and $z$-plane we get the following:\n",
    "\n",
    "$$ \\tau_{yx} = \\frac{\\Delta F_x}{\\Delta A_y} \n",
    "\\space \\space \\space \\space \\space \\space\n",
    " \\sigma_{yy} = \\frac{\\Delta F_y}{\\Delta A_y}\n",
    " \\space \\space \\space \\space \\space \\space\n",
    " \\tau_{yz} = \\frac{\\Delta F_z}{\\Delta A_y} $$  \n",
    "\n",
    "<center><img src=\"./Paper_Images/Stress_Images/y_stresses.png\" alt=\"Drawing\" style=\"width: 360px;\"/></center> \n",
    "\n",
    "$$ \\tau_{zx} = \\frac{\\Delta F_x}{\\Delta A_z}\n",
    "\\space \\space \\space \\space \\space \\space\n",
    "\\tau_{zy} = \\frac{\\Delta F_y}{\\Delta A_z}\n",
    "\\space \\space \\space \\space \\space \\space\n",
    "\\sigma_{zz} = \\frac{\\Delta F_z}{\\Delta A_z} $$  \n",
    "\n",
    "<center><img src=\"./Paper_Images/Stress_Images/z_stresses.png\" alt=\"Drawing\" style=\"width: 360px;\"/></center> \n"
   ]
  },
  {
   "cell_type": "markdown",
   "metadata": {},
   "source": [
    "Now we need to plug-in the 9 stress expressions into the stress tensor: \n",
    "\n",
    "$$ \n",
    "\\sigma\n",
    "=\n",
    "\\begin{bmatrix}\n",
    "\\sigma_{11} & \\sigma_{12} & \\sigma_{13} \\\\\n",
    "\\sigma_{21} & \\sigma_{22} & \\sigma_{23} \\\\\n",
    "\\sigma_{31} & \\sigma_{32} & \\sigma_{33}\n",
    "\\end{bmatrix}\n",
    "$$\n",
    "\n",
    "The convention for this is to replace the indexes above with the planes directions, i.e., $1 \\rightarrow x$, $2 \\rightarrow y$ & $3 \\rightarrow z$. The convention also states that the rows of the tensor matrix should all have the same plane/area and the columns should have the same force direction.\n",
    "\n",
    "- Rows $\\rightarrow$ same place\n",
    "- Coloumns $\\rightarrow$ same force direction\n",
    "\n",
    "$$\n",
    "\\begin{align} \n",
    "\\sigma\n",
    "=\n",
    "&\n",
    "\\begin{bmatrix}\n",
    "\\sigma_{xx} & \\sigma_{xy} & \\sigma_{xz} \\\\ \n",
    "\\sigma_{yx} & \\sigma_{yy} & \\sigma_{yz} \\\\\n",
    "\\sigma_{zx} & \\sigma_{zy} & \\sigma_{zz}\n",
    "\\end{bmatrix}\n",
    "\\begin{matrix}\n",
    "\\rightarrow x \\textrm{-plane}\\\\ \n",
    "\\rightarrow y \\textrm{-plane}\\\\\n",
    "\\rightarrow z \\textrm{-plane}\n",
    "\\end{matrix}\n",
    "\\\\\n",
    "&\n",
    "\\begin{matrix}\n",
    "\\space \\space \\space \\space \\space \n",
    "\\downarrow &\n",
    "\\space \\space \\space \\space \n",
    "\\downarrow &\n",
    "\\space \\space \\space \\space \n",
    "\\downarrow\n",
    "\\end{matrix}\n",
    "\\\\\n",
    "&\n",
    "\\begin{matrix}\n",
    "\\space \\space \\space \\space \\space \n",
    "F_x\n",
    "&\n",
    "\\space\n",
    "F_y\n",
    "&\n",
    "\\space\n",
    "F_z\n",
    "\\end{matrix}\n",
    "\\end{align} \n",
    "$$\n",
    "\n",
    "The same can be described using $\\tau$ for shear force:\n",
    "\n",
    "$$\n",
    "\\sigma  = \n",
    "\\begin{bmatrix}\n",
    "\\sigma_{xx} & \\tau_{xy} & \\tau_{xz} \\\\ \n",
    "\\tau_{yx} & \\sigma_{yy} & \\tau_{yz} \\\\\n",
    "\\tau_{zx} & \\tau_{zy} & \\sigma_{zz}\n",
    "\\end{bmatrix}\n",
    "$$\n"
   ]
  },
  {
   "cell_type": "markdown",
   "metadata": {},
   "source": [
    "Why is this the convention?\n",
    "\n",
    "This is the convention so that if you want to find the stress values acting on a specific plane you find the dot product of the normal vector of that plane and the stress tensor. \n",
    "\n",
    "Remember the stress acting on a plane has 3 values. So the dot product of a [1x3] vector and a [3x3] tensor will be a [1x3] vector.\n",
    "\n",
    "-> scott -> is this called the traction vector?\n",
    "\n",
    "If the plane of interest has a unit normal $\\hat{n}$ of $[1, 0, 0]$, the traction vector is calculated as: \n",
    "\n",
    "$$ \n",
    "\\begin{align}\n",
    "\n",
    "\\hat{n} \\cdot \\sigma  & =  \n",
    "\\begin{bmatrix}\n",
    "1 & 0 & 0\n",
    "\\end{bmatrix} \n",
    "\\cdot\n",
    "\\begin{bmatrix}\n",
    "\\sigma_{xx} & \\tau_{xy} & \\tau_{xz} \\\\ \n",
    "\\tau_{yx} & \\sigma_{yy} & \\tau_{yz} \\\\\n",
    "\\tau_{zx} & \\tau_{zy} & \\sigma_{zz}\n",
    "\\end{bmatrix}\n",
    "\\\\\n",
    "& = \n",
    "\\begin{bmatrix}\n",
    "\\sigma_{xx} & \\tau_{xy} & \\tau_{xz} \n",
    "\\end{bmatrix} \n",
    "\\end{align}\n",
    "$$\n",
    "\n",
    "These are the 3 values we derived before. \n",
    "\n",
    "So what if the unit normal of the plane was $[1, 1, 1]$? \n",
    "\n"
   ]
  },
  {
   "cell_type": "markdown",
   "metadata": {},
   "source": [
    "\n",
    "So what if the unit normal of the plane was $[1, 1, 1]$? \n",
    "\n",
    "$$ \n",
    "\\begin{align}\n",
    "\n",
    "\\hat{n} \\cdot \\sigma  & =  \n",
    "\\begin{bmatrix}\n",
    "1 & 1 & 1\n",
    "\\end{bmatrix} \n",
    "\\cdot\n",
    "\\begin{bmatrix}\n",
    "\\sigma_{xx} & \\sigma_{xy} & \\sigma_{xz} \\\\ \n",
    "\\sigma_{yx} & \\sigma_{yy} & \\sigma_{yz} \\\\\n",
    "\\sigma_{zx} & \\sigma_{zy} & \\sigma_{zz}\n",
    "\\end{bmatrix}\n",
    "\\\\\n",
    "& = \n",
    "\\begin{bmatrix}\n",
    "\\sigma_{xx} + \\sigma_{yx} + \\sigma_{zx} &\n",
    "\\sigma_{xy} +\\sigma_{yy} +\\sigma_{zy} &\n",
    "\\sigma_{xz} +\\sigma_{yz} +\\sigma_{zz} &\n",
    "\\end{bmatrix} \n",
    "\\\\\n",
    "& = \n",
    "\\begin{bmatrix}\n",
    "T_x &\n",
    "T_y &\n",
    "T_z \n",
    "\\end{bmatrix} \n",
    "\\end{align}\n",
    "$$\n",
    "\n"
   ]
  },
  {
   "cell_type": "markdown",
   "metadata": {},
   "source": []
  }
 ],
 "metadata": {
  "kernelspec": {
   "display_name": "Python 3.9.5 ('base')",
   "language": "python",
   "name": "python3"
  },
  "language_info": {
   "codemirror_mode": {
    "name": "ipython",
    "version": 3
   },
   "file_extension": ".py",
   "mimetype": "text/x-python",
   "name": "python",
   "nbconvert_exporter": "python",
   "pygments_lexer": "ipython3",
   "version": "3.9.5"
  },
  "orig_nbformat": 4,
  "vscode": {
   "interpreter": {
    "hash": "18ed160ad9db49083d5c6dbf82376d1730af41ed005a12d6dc5900d1b4ae07ba"
   }
  }
 },
 "nbformat": 4,
 "nbformat_minor": 2
}
