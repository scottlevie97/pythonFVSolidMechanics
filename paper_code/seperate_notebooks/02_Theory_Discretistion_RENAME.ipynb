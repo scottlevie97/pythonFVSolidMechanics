{
 "cells": [
  {
   "cell_type": "markdown",
   "metadata": {},
   "source": [
    "#### Theory / Derivation / Discretization"
   ]
  },
  {
   "cell_type": "markdown",
   "metadata": {},
   "source": [
    "Each cell within this mesh will be treated as a Control Volume (CV). Where energy and momentum are conserved within each CV.\n",
    "\n",
    "\n",
    "### Conservation of Mass\n",
    "For mass/energy to be conserved within each CV, the mass ($m$) of each CV must remain the same:\n",
    "\n",
    "$$\\frac{\\partial m}{ \\partial t}_{CV} = 0$$\n",
    "\n",
    "$$\\frac{\\partial}{\\partial t}\\int_{V}{\\rho V} = 0$$\n",
    "\n",
    "As the mesh is structured, it is assumed that the Volume of each cell does not change with time. So, assuming density ($\\rho$) remains constant with time, mass is conserved.\n",
    "\n",
    "### Conservation of Momentum\n",
    "\n",
    "In order for momentum to be conserved the change of momentum of the CV must be equal to the sum of the forces ($f$) acting on the CV.\n",
    "\n",
    "\n",
    "$$ \\frac{\\partial^2 (\\rho \\boldsymbol{u})}{\\partial t^2} = \\sum\\boldsymbol{f} $$\n",
    "\n",
    "The forces acting on the CV are the forces due to stress given as the divergence of the stress tensor $\\sigma$ and body forces $b$\n",
    "\n",
    "$$ \\frac{\\partial^2 (\\rho \\boldsymbol{u})}{\\partial t^2} = \\nabla \\cdot \\sigma + \\rho b $$\n",
    "\n",
    "Integrating over the whole CV gives and assuming density remains constant:\n",
    "\n",
    "$$ \\rho \\int_V \\frac{\\partial^2 (\\boldsymbol{u})}{\\partial t^2} \\, dV = \\int_V (\\nabla \\cdot \\sigma + \\rho f)\\, dV$$ \n",
    "\n",
    "For this particular solver the effects of gravity are ignored. However, this can easily be change as will be shown later.\n",
    "\n",
    "This leaves:"
   ]
  },
  {
   "cell_type": "markdown",
   "metadata": {},
   "source": [
    "$$ \\rho \\int_V \\frac{\\partial^2 (\\boldsymbol{u})}{\\partial t^2} \\, dV - \\int_V \\nabla \\cdot \\sigma \\, dV = 0$$ \n",
    "\n",
    "Gauss' Divergence Theorem states: \n",
    "\n",
    "$$\\int_V \\nabla \\cdot F \\, dV= \\oint_S F \\cdot n \\, dS$$\n",
    "\n",
    "where $F$ is any vector field, and $n$ is the outward pointing unit vector on the CV surface.\n",
    "\n",
    "Applying this to above: \n",
    "\n",
    "$$ \\underbrace{  \\rho \\int_V \\frac{\\partial^2 (\\boldsymbol{u})}{\\partial t^2} \\, dV }_{Temporal\\space term} -\\underbrace{ \\oint_S \\sigma \\cdot n \\, dS }_{Diffusion\\space term} = 0$$\n",
    "\n",
    "These two terms are knwon as the temporal term (*relates to time*) and the diffusion term ()"
   ]
  },
  {
   "cell_type": "code",
   "execution_count": null,
   "metadata": {},
   "outputs": [],
   "source": []
  }
 ],
 "metadata": {
  "language_info": {
   "name": "python"
  },
  "orig_nbformat": 4
 },
 "nbformat": 4,
 "nbformat_minor": 2
}
