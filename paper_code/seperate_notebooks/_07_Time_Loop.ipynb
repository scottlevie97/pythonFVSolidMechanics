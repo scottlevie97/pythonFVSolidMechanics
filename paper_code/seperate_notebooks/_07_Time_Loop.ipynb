{
 "cells": [
  {
   "cell_type": "markdown",
   "metadata": {},
   "source": [
    "### Time Loop"
   ]
  },
  {
   "cell_type": "code",
   "execution_count": 10,
   "metadata": {},
   "outputs": [],
   "source": [
    "from ipynb.fs.full.Background_Functions import *\n",
    "from ipynb.fs.full._06_Solution_Algorithm import *\n",
    "\n",
    "\n",
    "import math\n",
    "import numpy as np"
   ]
  },
  {
   "cell_type": "code",
   "execution_count": null,
   "metadata": {},
   "outputs": [],
   "source": []
  },
  {
   "cell_type": "code",
   "execution_count": null,
   "metadata": {},
   "outputs": [],
   "source": []
  },
  {
   "cell_type": "code",
   "execution_count": null,
   "metadata": {},
   "outputs": [],
   "source": []
  },
  {
   "cell_type": "code",
   "execution_count": null,
   "metadata": {},
   "outputs": [],
   "source": []
  },
  {
   "cell_type": "code",
   "execution_count": null,
   "metadata": {},
   "outputs": [],
   "source": []
  },
  {
   "cell_type": "code",
   "execution_count": null,
   "metadata": {},
   "outputs": [],
   "source": []
  },
  {
   "cell_type": "code",
   "execution_count": null,
   "metadata": {},
   "outputs": [],
   "source": []
  },
  {
   "cell_type": "code",
   "execution_count": null,
   "metadata": {},
   "outputs": [],
   "source": []
  },
  {
   "cell_type": "code",
   "execution_count": null,
   "metadata": {},
   "outputs": [],
   "source": []
  },
  {
   "cell_type": "code",
   "execution_count": null,
   "metadata": {},
   "outputs": [],
   "source": []
  },
  {
   "cell_type": "code",
   "execution_count": null,
   "metadata": {},
   "outputs": [],
   "source": []
  },
  {
   "cell_type": "code",
   "execution_count": null,
   "metadata": {},
   "outputs": [],
   "source": []
  },
  {
   "cell_type": "code",
   "execution_count": null,
   "metadata": {},
   "outputs": [],
   "source": []
  },
  {
   "cell_type": "markdown",
   "metadata": {},
   "source": [
    "#### Final notebook output: \n",
    "\n",
    "\n",
    "\n",
    "\n"
   ]
  },
  {
   "cell_type": "code",
   "execution_count": 11,
   "metadata": {},
   "outputs": [
    {
     "data": {
      "text/plain": [
       "(40, 4)"
      ]
     },
     "execution_count": 11,
     "metadata": {},
     "output_type": "execute_result"
    }
   ],
   "source": [
    "nx, ny"
   ]
  },
  {
   "cell_type": "code",
   "execution_count": 12,
   "metadata": {},
   "outputs": [],
   "source": [
    "## Define required variables\n",
    "\n",
    "tf = 2           #total time in seconds\n",
    "dx = Lx/nx          #length of each control volume in the x-direction\n",
    "dy = Ly/ny          #length of each control volume in the y-direction\n",
    "dt = tf/2          #size of time steps\n",
    "Sfx = dy            #area vector x component (Area of East and West Faces)\n",
    "Sfy = dx            #area vector y component (Area of North and South Faces)\n",
    "\n",
    "\n",
    "\n",
    "t = np.array(np.arange(0,tf, dt))        #time vector (could possibly use a list)\n",
    "x = np.zeros((1,nx+2))   #position vector defining the center points of the control volumes in the x-direction.\n",
    "x[0,nx+1] = Lx\n",
    "x[0,1:nx+1] = np.arange(dx/2,Lx,dx)\n",
    "\n",
    "t = np.array(np.arange(0,tf, dt))        #time vector (could possibly use a list)\n",
    "y = np.zeros((1,ny+2))   #position vector defining the center points of the control volumes in the y-direction.\n",
    "y[0,ny+1] = Ly\n",
    "y[0,1:ny+1] = np.arange(dy/2,Ly,dy)\n",
    "\n",
    "#rhs vector\n",
    "b_x = np.zeros([(ny+2)*(nx+2),1])\n",
    "b_y = np.zeros([(ny+2)*(nx+2),1])"
   ]
  },
  {
   "cell_type": "code",
   "execution_count": 13,
   "metadata": {},
   "outputs": [],
   "source": [
    "from scipy.sparse.linalg import spsolve\n"
   ]
  },
  {
   "cell_type": "code",
   "execution_count": 14,
   "metadata": {},
   "outputs": [],
   "source": [
    "tolerance = 1e-6\n",
    "b_x = np.zeros([(ny+2)*(nx+2),1])\n",
    "b_y = np.zeros([(ny+2)*(nx+2),1])\n",
    "\n",
    "U_new = np.zeros([(ny+2)*(nx+2),2])\n",
    "U_old = np.zeros([(ny+2)*(nx+2),2])\n",
    "U_old_old = np.zeros([(ny+2)*(nx+2),2])"
   ]
  },
  {
   "cell_type": "code",
   "execution_count": 15,
   "metadata": {},
   "outputs": [],
   "source": [
    "import pandas as pd"
   ]
  },
  {
   "cell_type": "code",
   "execution_count": 16,
   "metadata": {},
   "outputs": [
    {
     "name": "stdout",
     "output_type": "stream",
     "text": [
      "\n",
      "Time = 0.0\n",
      "icorr = 100, Residual = 0.00861212273732550604, normFactor = 0.00003249705114586239, moving average = 4730760749301.85644531250000000000, time = 0.00000\n",
      "-0.008611122737325507\n",
      "icorr = 200, Residual = 0.00391950111409105836, normFactor = 0.00006476581518589251, moving average = 0.07861821722827591619, time = 0.00000\n",
      "-0.003918501114091058\n",
      "icorr = 300, Residual = 0.00241552941698397168, normFactor = 0.00009594279699085700, moving average = 0.04010187889655321414, time = 0.00000\n",
      "-0.0024145294169839716\n",
      "icorr = 400, Residual = 0.00169048478586489434, normFactor = 0.00012527358440423769, moving average = 0.02577807253600772341, time = 0.00000\n",
      "-0.0016894847858648944\n",
      "icorr = 500, Residual = 0.00126925296165225697, normFactor = 0.00015245681107656784, moving average = 0.01848121474168253411, time = 0.00000\n",
      "-0.001268252961652257\n",
      "icorr = 600, Residual = 0.00099621193662743175, normFactor = 0.00017746276984364199, moving average = 0.01410911545090359244, time = 0.00000\n",
      "-0.0009952119366274318\n"
     ]
    }
   ],
   "source": [
    "## Time loop\n",
    "\n",
    "!rm -r savedVariables\n",
    "! mkdir savedVariables\n",
    "\n",
    "for time in t:\n",
    "\n",
    "    print(\"\\nTime = \" + str(time))\n",
    "    \n",
    "    # Set number of maximum iterations for convergence\n",
    "    \n",
    "    icorr = 1\n",
    "    maxcorr = 100000\n",
    "    fac = 10**math.ceil((math.log((A(\"x\").a_P), 10)))\n",
    "\n",
    "    # Make directory\n",
    "\n",
    "    ! mkdir savedVariables/{time}\n",
    "\n",
    "    residual_array = np.array([])\n",
    "    \n",
    "    while True:\n",
    "    # for iteration in [1]:\n",
    "        \n",
    "        U_previous = U_new #store latest guess values    # change_u new to U\n",
    "\n",
    "        A_x = A(\"x\").createMatrix()        \n",
    "        A_x, b_x = boundary_conditions(A_x, b_x, U_previous, U_old, U_old_old, \"x\")\n",
    "\n",
    "        pd.DataFrame(A_x).to_csv(\"savedVariables/\" + \"A_x\" + \".csv\", index=False, header=None)\n",
    "\n",
    "        ## Solve the x-equation\n",
    "        \n",
    "        Ux = spsolve(A_x, b_x)\n",
    "        Ux = np.array(Ux)\n",
    "        \n",
    "        ## Prepare matrix A and b vector for the y-equation\n",
    "        \n",
    "        A_y = A(\"y\").createMatrix()\n",
    "        A_y, b_y = boundary_conditions(A_y, b_y, U_previous, U_old, U_old_old, \"y\")\n",
    "        \n",
    "        ## Solve the y-equation\n",
    "        Uy = spsolve(A_y, b_y)\n",
    "        Uy = np.array(Uy)\n",
    "        \n",
    "        # ## Update U.New with new x and y displacements\n",
    "\n",
    "        U_new = np.vstack((Ux, Uy)).T\n",
    "       \n",
    "        ## Calculate the residual of each iteration\n",
    "        \n",
    "        normFactor = np.max(U_new)\n",
    "        residual = math.sqrt(np.mean((U_new - U_previous)**2))/normFactor\n",
    "        tolerance = 1e-6\n",
    "\n",
    "        residual_array = np.append(residual_array, residual)\n",
    "\n",
    "        # print(icorr)\n",
    "        # print(\"icorr = {:01d}, Residual = {:.20f}, normFactor = {:.20f}, time = {:.5f}\".format(icorr, residual, normFactor, time))\n",
    "\n",
    "    \n",
    "        ##print out residual of each iteration\n",
    "        if icorr%100 == 0 :\n",
    "            moving_average = np.mean(residual_array[len(residual_array)-100 :len(residual_array) ])\n",
    "            print(\"icorr = {:01d}, Residual = {:.20f}, normFactor = {:.20f}, moving average = {:.20f}, time = {:.5f}\".format(icorr, residual, normFactor, moving_average, time))\n",
    "            print(tolerance - residual)\n",
    "\n",
    "\n",
    "        ## Convergence check\n",
    "        \n",
    "        if residual < tolerance:\n",
    "\n",
    "            print(residual)\n",
    "            \n",
    "            print(\"icorr = {:01d}, Residual = {:.20f}, normFactor = {:.20f}, moving average = {:.20f}, time = {:.5f}\".format(icorr, residual, normFactor, moving_average, time))\n",
    "\n",
    "            break\n",
    "            \n",
    "        elif icorr > maxcorr:\n",
    "            \n",
    "            break            \n",
    "        \n",
    "        icorr = icorr + 1\n",
    "    \n",
    "    ## Update variables\n",
    "    \n",
    "    U_old_old = U_old\n",
    "    U_old = U_new\n",
    "    \n",
    "    # ## Add the boundary conditions to the solution matrices\n",
    "    u_reshape_x = U_new[:,0].reshape(ny+2, nx+2)\n",
    "    u_reshape_y = U_new[:,1].reshape(ny+2, nx+2)\n",
    "    \n",
    "    # #Boundary conditions for u matrix\n",
    "    U = np.zeros((ny+2,nx+2))\n",
    "    V = np.zeros((ny+2,nx+2))\n",
    " \n",
    " \n",
    "    U[:, :] = u_reshape_x\n",
    "    V[:, :] = u_reshape_y \n",
    "\n",
    "    #Modulus of displacement\n",
    "\n",
    "    disp_mod = np.sqrt((U**2) + (V**2))\n",
    "    disp_mod_converted = disp_mod*1e6 #Convert displacement to micrometers\n",
    "    \n",
    "   ### Plot the results\n",
    "\n",
    "    import plotly.graph_objects as go\n",
    "\n",
    "    disp_mod = np.sqrt((U**2) + (V**2))*1e-10\n",
    "\n",
    "    dispx, dispy = np.meshgrid(x, y)\n",
    "    fig = go.Figure(data=[go.Surface(z=disp_mod_converted, x=dispx, y=dispy)])\n",
    "    \n",
    "fig.show()   \n",
    "\n",
    "print(\"U graph\")\n",
    "fig = go.Figure(data=[go.Surface(z=U, x=dispx, y=dispy)])\n",
    "\n",
    "fig.show()   \n",
    "\n",
    "print(\"V graph\")\n",
    "fig = go.Figure(data=[go.Surface(z=V, x=dispx, y=dispy)])\n",
    "\n",
    "fig.show()"
   ]
  },
  {
   "cell_type": "code",
   "execution_count": null,
   "metadata": {},
   "outputs": [
    {
     "data": {
      "text/plain": [
       "6153846153846.153"
      ]
     },
     "execution_count": 8,
     "metadata": {},
     "output_type": "execute_result"
    }
   ],
   "source": [
    "A(\"x\").a_S*2/(Sfy)"
   ]
  },
  {
   "cell_type": "code",
   "execution_count": null,
   "metadata": {},
   "outputs": [
    {
     "data": {
      "text/plain": [
       "0.05"
      ]
     },
     "execution_count": 9,
     "metadata": {},
     "output_type": "execute_result"
    }
   ],
   "source": [
    "Sfy"
   ]
  },
  {
   "cell_type": "markdown",
   "metadata": {},
   "source": [
    "#### Final notebook output: \n",
    "\n",
    "\n",
    "\n",
    "\n"
   ]
  },
  {
   "cell_type": "markdown",
   "metadata": {},
   "source": []
  }
 ],
 "metadata": {
  "interpreter": {
   "hash": "18ed160ad9db49083d5c6dbf82376d1730af41ed005a12d6dc5900d1b4ae07ba"
  },
  "kernelspec": {
   "display_name": "Python 3.9.5 ('base')",
   "language": "python",
   "name": "python3"
  },
  "language_info": {
   "codemirror_mode": {
    "name": "ipython",
    "version": 3
   },
   "file_extension": ".py",
   "mimetype": "text/x-python",
   "name": "python",
   "nbconvert_exporter": "python",
   "pygments_lexer": "ipython3",
   "version": "3.9.5"
  },
  "orig_nbformat": 4
 },
 "nbformat": 4,
 "nbformat_minor": 2
}
