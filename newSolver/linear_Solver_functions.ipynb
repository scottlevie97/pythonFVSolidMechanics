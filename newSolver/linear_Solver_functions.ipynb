{
 "cells": [
  {
   "cell_type": "code",
   "execution_count": 275,
   "metadata": {},
   "outputs": [],
   "source": [
    "import numpy as np\n",
    "import pandas as pd\n",
    "import math\n",
    "from scipy.sparse import csr_matrix\n",
    "from scipy.sparse.linalg import spsolve\n",
    "\n",
    "def printVar (varname, var):\n",
    "\n",
    "    print(varname)\n",
    "    print(var)\n",
    "\n",
    "def saveArray (name, array):\n",
    "\n",
    "    pd.DataFrame(array).to_csv(\"savedVariables/\" + name + \".csv\", index=False, header=None)\n",
    "\n"
   ]
  },
  {
   "cell_type": "code",
   "execution_count": 276,
   "metadata": {},
   "outputs": [
    {
     "data": {
      "text/plain": [
       "False"
      ]
     },
     "execution_count": 276,
     "metadata": {},
     "output_type": "execute_result"
    }
   ],
   "source": [
    "# Set Boundary Conditions:\n",
    "class BC_settings:\n",
    "\n",
    "    left = \"fixed_displacement\"\n",
    "    right = \"traction\"\n",
    "    top = \"traction\"\n",
    "    bottom = \"traction\"\n",
    "\n",
    "    def __init__(self, edge):\n",
    "\n",
    "        if edge == \"l\":\n",
    "            if BC_settings.left == \"traction\":\n",
    "                self.traction = True\n",
    "                self.fixed_displacement = False\n",
    "            elif BC_settings.left == \"fixed_displacement\":\n",
    "                self.fixed_displacement = True\n",
    "                self.traction = False\n",
    "\n",
    "        if edge == \"r\":\n",
    "            if BC_settings.right == \"traction\":\n",
    "                self.traction = True\n",
    "                self.fixed_displacement = False\n",
    "            elif BC_settings.right == \"fixed_displacement\":\n",
    "                self.fixed_displacement = True\n",
    "                self.traction = False\n",
    "\n",
    "        if edge == \"t\":\n",
    "            if BC_settings.top == \"traction\":\n",
    "                self.traction = True\n",
    "                self.fixed_displacement = False\n",
    "            elif BC_settings.top == \"fixed_displacement\":\n",
    "                self.fixed_displacement = True\n",
    "                self.traction = False\n",
    "\n",
    "        if edge == \"b\":\n",
    "            if BC_settings.bottom == \"traction\":\n",
    "                self.traction = True\n",
    "                self.fixed_displacement = False\n",
    "            elif BC_settings.bottom == \"fixed_displacement\":\n",
    "                self.fixed_displacement = True\n",
    "                self.traction = False\n",
    "\n",
    "BC_settings(\"b\").fixed_displacement"
   ]
  },
  {
   "cell_type": "code",
   "execution_count": 277,
   "metadata": {},
   "outputs": [],
   "source": [
    "# Solve the 2D Navier-Cauchy equation using a segregated finite volume method\n",
    "\n",
    "# Define mesh geometry and boundary conditions\n",
    "\n",
    "Lx = .01 #width of domain\n",
    "Ly = .01 #height of domain\n",
    "\n",
    "fac = 1\n",
    "\n",
    "nx = 8          #number of control volumes in the x-direction\n",
    "ny = 8        #number of control volumes in the y-direction\n"
   ]
  },
  {
   "cell_type": "code",
   "execution_count": 278,
   "metadata": {},
   "outputs": [],
   "source": [
    "# Cantilever Setup \n",
    "\n",
    "tr_right_x = 0    #u boundary condition at the right boundary\n",
    "tr_right_y = - 1    #v boundary condition at the right boundary\n",
    "\n",
    "tr_top_x = 0    #u boundary condition at the top boundary\n",
    "tr_top_y = 0       #v boundary condition at the top boundary\n",
    "\n",
    "tr_bottom_x = 0    #u boundary condition at the bottom boundary \n",
    "tr_bottom_y = 0  #v boundary condition at the bottom boundary\n",
    "\n",
    "u_left = 0\n",
    "v_left = 0\n"
   ]
  },
  {
   "cell_type": "code",
   "execution_count": 279,
   "metadata": {},
   "outputs": [
    {
     "name": "stdout",
     "output_type": "stream",
     "text": [
      "8\n"
     ]
    }
   ],
   "source": [
    "sys.path.append(\"/home/scottlevie/pythonsolver/tractionBCs/Classes/\")\n",
    "\n",
    "from index_and_direction import dim\n",
    "\n",
    "print(dim().nx)"
   ]
  },
  {
   "cell_type": "code",
   "execution_count": 280,
   "metadata": {},
   "outputs": [],
   "source": [
    "from index_and_direction import index\n",
    "from index_and_direction import boundary_point_index\n",
    "from index_and_direction import cell_index\n",
    "from index_and_direction import displacement"
   ]
  },
  {
   "cell_type": "code",
   "execution_count": 281,
   "metadata": {},
   "outputs": [],
   "source": [
    "# Define material properties\n",
    "\n",
    "rho = 8050         #density of steel in kg/m^3\n",
    "mu = 78*10e9       #shear modulus in Pa\n",
    "K = 1.6*10e11      #bulk modulus in Pa\n",
    "\n",
    "Lambda = K - (2/3)*mu\n",
    "\n",
    "#print(Lambda)"
   ]
  },
  {
   "cell_type": "code",
   "execution_count": 282,
   "metadata": {},
   "outputs": [],
   "source": [
    "## Define required variables\n",
    "\n",
    "tf = 0.01           #total time in seconds\n",
    "dx = Lx/nx          #length of each control volume in the x-direction\n",
    "dy = Ly/ny          #length of each control volume in the y-direction\n",
    "dt = tf/10          #size of time steps\n",
    "Sfx = dy            #area vector x component (Area of East and West Faces)\n",
    "Sfy = dx            #area vector y component (Area of North and South Faces)\n"
   ]
  },
  {
   "cell_type": "code",
   "execution_count": 283,
   "metadata": {},
   "outputs": [],
   "source": [
    "## Define  position and time vectors\n",
    "\n",
    "t = np.array(np.arange(0,tf, dt))        #time vector (could possibly use a list)\n",
    "x = np.zeros((1,nx+2))   #position vector defining the center points of the control volumes in the x-direction.\n",
    "x[0,nx+1] = Lx\n",
    "x[0,1:nx+1] = np.arange(dx/2,Lx,dx)\n",
    "\n",
    "t = np.array(np.arange(0,tf, dt))        #time vector (could possibly use a list)\n",
    "y = np.zeros((1,ny+2))   #position vector defining the center points of the control volumes in the y-direction.\n",
    "y[0,ny+1] = Ly\n",
    "y[0,1:ny+1] = np.arange(dy/2,Ly,dy)"
   ]
  },
  {
   "cell_type": "code",
   "execution_count": 284,
   "metadata": {},
   "outputs": [],
   "source": [
    "## Define required displacement matrices and b vector\n",
    "\n",
    "u_new = np.zeros([(ny+2)*(nx+2),2])         #unknown displacements at t + 1    (Column 1 = x, Column2 = y)\n",
    "u_old = np.zeros([(ny+2)*(nx+2),2])         #displacement at time t\n",
    "u_old_old = np.zeros([(ny+2)*(nx+2),2])     #displacement at time t - 1\n",
    "\n",
    "#rhs vector\n",
    "b_x = np.zeros([(ny+2)*(nx+2),1])\n",
    "b_y = np.zeros([(ny+2)*(nx+2),1])"
   ]
  },
  {
   "cell_type": "markdown",
   "metadata": {},
   "source": [
    "## X equation:"
   ]
  },
  {
   "cell_type": "code",
   "execution_count": 285,
   "metadata": {},
   "outputs": [],
   "source": [
    "class A(index, displacement):\n",
    "\n",
    "    val = \"value that stays in class without changning with instance\"\n",
    "\n",
    "    def __init__(self, xy):\n",
    "\n",
    "        if xy == \"x\":\n",
    "\n",
    "            self.a_P = (rho*dx*dy/(dt**2))+((4*mu+2*Lambda)*Sfx)/dx + ((2*mu)*Sfy)/dy\n",
    "            self.a_N = + A.coef(xy, \"N\", \"u\")*(Sfy)/dy\n",
    "            self.a_S = - A.coef(xy, \"S\", \"u\")*(Sfy)/dy\n",
    "            self.a_E = + A.coef(xy, \"E\", \"u\")*(Sfx)/dx\n",
    "            self.a_W = - A.coef(xy, \"W\", \"u\")*(Sfx)/dx\n",
    "\n",
    "        if xy == \"y\":\n",
    "\n",
    "            self.a_P = (rho*dx*dy/(dt**2))+((4*mu+2*Lambda)*Sfy)/dy + ((2*mu)*Sfx)/dx \n",
    "            self.a_N = + A.coef(xy, \"N\", \"v\")*(Sfy)/dy\n",
    "            self.a_S = - A.coef(xy, \"S\", \"v\")*(Sfy)/dy\n",
    "            self.a_E = + A.coef(xy, \"E\", \"v\")*(Sfx)/dx\n",
    "            self.a_W = - A.coef(xy, \"W\", \"v\")*(Sfx)/dx\n",
    "\n",
    "    def createMatrix(self):\n",
    "\n",
    "        A_no_boundary = np.zeros([(ny+2)*(nx+2), (ny+2)*(nx+2)])\n",
    "        # A_no_boundary = csr_matrix(A_no_boundary)  \n",
    "\n",
    "        for j in np.arange(2, ny):     \n",
    "\n",
    "            for k in np.arange((j*(nx+2)+2), (j*(nx+2)+nx)):  \n",
    "                \n",
    "                A_no_boundary[k,k] = self.a_P\n",
    "                A_no_boundary[k,index(k).n] = -self.a_N\n",
    "                A_no_boundary[k,index(k).s] = -self.a_S\n",
    "                A_no_boundary[k, index(k).e] = -self.a_E\n",
    "                A_no_boundary[k, index(k).w] = -self.a_W\n",
    "\n",
    "        return A_no_boundary\n",
    "\n",
    "    # b temporal term\n",
    "    def b_temp(u_old, u_old_old, k, xy):\n",
    "\n",
    "        if xy == \"x\":\n",
    "            b_temporal_term = (rho/(dt**2))*( 2*(u_old[k,0])*dx*dy - u_old_old[k,0]*dx*dy)\n",
    "        if xy == \"y\":\n",
    "            b_temporal_term = (rho/(dt**2))*( 2*(u_old[k,1])*dx*dy - u_old_old[k,1]*dx*dy)\n",
    "        \n",
    "        return b_temporal_term\n",
    "    \n",
    "    def b_diff(k, xy, u_previous):\n",
    "\n",
    "        if xy == \"x\":\n",
    "            uv = \"v\"\n",
    "        if xy == \"y\":\n",
    "            uv = \"u\"\n",
    "\n",
    "        b_diffusion = (\n",
    "                                Sfy*A.coef(xy, \"N\", uv)*(\n",
    "                                    (A.corner(\"NE\", uv, u_previous, k) - A.corner(\"NW\", uv, u_previous, k))\n",
    "                                    /dx)\n",
    "                                + \n",
    "                                Sfy*A.coef(xy, \"S\", uv)*(\n",
    "                                    (A.corner(\"SE\", uv, u_previous, k) - A.corner(\"SW\", uv, u_previous, k))\n",
    "                                    /dx)\n",
    "                                +\n",
    "                                Sfx*A.coef(xy, \"E\", uv)*(\n",
    "                                    (A.corner(\"NE\", uv, u_previous, k) - A.corner(\"SE\", uv, u_previous, k))\n",
    "                                    /dy)\n",
    "                                +\n",
    "                                Sfx*A.coef(xy, \"W\", uv)*(\n",
    "                                    (A.corner(\"NW\", uv, u_previous, k) - A.corner(\"SW\", uv, u_previous, k))\n",
    "                                    /dy)\n",
    "        )\n",
    "\n",
    "        return b_diffusion\n",
    "    \n",
    "    def corner(corner_placement, uv, u_previous, k):\n",
    "        if uv == \"u\":\n",
    "            uv_i = 0\n",
    "        elif uv == \"v\":\n",
    "            uv_i = 1\n",
    "\n",
    "        disp = displacement(k, u_previous, uv_i)\n",
    "\n",
    "        if corner_placement == \"NE\":\n",
    "            return (1/4)*(disp.P + disp.NE + disp.N + disp.E)\n",
    "        if corner_placement == \"SE\":\n",
    "            return (1/4)*(disp.P + disp.SE + disp.S + disp.E)\n",
    "        if corner_placement == \"SW\":\n",
    "            return (1/4)*(disp.P + disp.SW + disp.S + disp.W)\n",
    "        if corner_placement == \"NW\":\n",
    "            return (1/4)*(disp.P + disp.NW + disp.N + disp.W)\n",
    "\n",
    "\n",
    "    \n",
    "    def coef(xy, face, uv):\n",
    "        # could have and statements\n",
    "        if xy == \"x\":\n",
    "            if face == \"N\":\n",
    "                if uv == \"u\":\n",
    "                    return mu\n",
    "                if uv == \"v\":\n",
    "                    return mu\n",
    "            if face == \"S\":\n",
    "                if uv == \"u\":\n",
    "                    return - mu\n",
    "                if uv == \"v\":\n",
    "                    return - mu\n",
    "            if face == \"E\":\n",
    "                if uv == \"u\":\n",
    "                    return 2*mu + Lambda\n",
    "                if uv == \"v\":\n",
    "                    return Lambda\n",
    "            if face == \"W\":\n",
    "                if uv == \"u\":\n",
    "                    return - (2*mu + Lambda)\n",
    "                if uv == \"v\":\n",
    "                    return - Lambda\n",
    "\n",
    "        elif xy == \"y\":\n",
    "            if face == \"N\":\n",
    "                if uv == \"u\":\n",
    "                    return Lambda\n",
    "                if uv == \"v\":\n",
    "                    return 2*mu + Lambda\n",
    "            if face == \"S\":\n",
    "                if uv == \"u\":\n",
    "                    return - Lambda\n",
    "                if uv == \"v\":\n",
    "                    return - (2*mu + Lambda)\n",
    "            if face == \"E\":\n",
    "                if uv == \"u\":\n",
    "                    return mu\n",
    "                if uv == \"v\":\n",
    "                    return mu\n",
    "            if face == \"W\":\n",
    "                if uv == \"u\":\n",
    "                    return - mu\n",
    "                if uv == \"v\":\n",
    "                    return - mu\n",
    "\n",
    "u_previous = u_new\n",
    "\n",
    "# A.b_diff(25, \"x\", u_previous)"
   ]
  },
  {
   "cell_type": "code",
   "execution_count": 286,
   "metadata": {},
   "outputs": [],
   "source": [
    "class boundaryCellTraction(A):\n",
    "\n",
    "    def __init__(self, edges, xy):\n",
    "        \n",
    "        sw_S, sw_N, sw_W, sw_E = 1, 1, 1, 1\n",
    "\n",
    "        for edge in edges:\n",
    "            if edge == \"b\": sw_S = 0\n",
    "            if edge == \"t\": sw_N = 0\n",
    "            if edge == \"l\": sw_W = 0\n",
    "            if edge == \"r\": sw_E = 0\n",
    "        \n",
    "        self.a_P = (rho*dx*dy/(dt**2)) + A(xy).a_N*sw_N + A(xy).a_S**sw_S + A(xy).a_E*sw_E + A(xy).a_W*sw_W\n",
    "        \n",
    "        self.a_N = A(xy).a_N \n",
    "        self.a_S = A(xy).a_S \n",
    "        self.a_E = A(xy).a_E \n",
    "        self.a_W = A(xy).a_W \n",
    "\n",
    "        # self.a_faces = A(xy).a_N*sw_N + A(xy).a_S*sw_S + A(xy).a_E*sw_E + A(xy).a_W*sw_W \n",
    "\n",
    "    def b_temp(u_old, u_old_old, k, xy):      \n",
    "        return A.b_temp(u_old, u_old_old, k, xy)\n",
    "    \n",
    "    def b_diff(edges, k, xy, u_previous):\n",
    "\n",
    "        if xy == \"x\":\n",
    "            uv = \"v\"\n",
    "        if xy == \"y\":\n",
    "            uv = \"u\"\n",
    "            \n",
    "        N_term =(\n",
    "                    Sfy*A.coef(xy, \"N\", uv)*(\n",
    "                    (boundaryCellTraction.corner(edges, \"NE\", uv, u_previous, k) - boundaryCellTraction.corner(edges, \"NW\", uv, u_previous, k))\n",
    "                    /dx)\n",
    "                )\n",
    "        S_term =(\n",
    "                    Sfy*A.coef(xy, \"S\", uv)*(\n",
    "                        (boundaryCellTraction.corner(edges, \"SE\", uv, u_previous, k) - boundaryCellTraction.corner(edges, \"SW\", uv, u_previous, k))\n",
    "                        /dx)\n",
    "                ) \n",
    "        E_term =(\n",
    "                    Sfx*A.coef(xy, \"E\", uv)*(\n",
    "                        (boundaryCellTraction.corner(edges, \"NE\", uv, u_previous, k) - boundaryCellTraction.corner(edges, \"SE\", uv, u_previous, k))\n",
    "                        /dy)\n",
    "                ) \n",
    "        W_term =(\n",
    "                    Sfx*A.coef(xy, \"W\", uv)*(\n",
    "                        (boundaryCellTraction.corner(edges, \"NW\", uv, u_previous, k) - boundaryCellTraction.corner(edges, \"SW\", uv, u_previous, k))\n",
    "                        /dy)\n",
    "                )\n",
    "\n",
    "        for edge in edges:\n",
    "\n",
    "            if (edge == \"b\") & (xy == \"x\") : S_term =  Sfy*tr_bottom_x  \n",
    "            if (edge == \"b\") & (xy == \"y\") : S_term =  Sfy*tr_bottom_y  \n",
    "            if (edge == \"t\") & (xy == \"x\") : N_term =  Sfy*tr_top_x  \n",
    "            if (edge == \"t\") & (xy == \"y\") : N_term =  Sfy*tr_top_y  \n",
    "            if (edge == \"l\") & (xy == \"x\") : W_term =  Sfx*tr_left_x  \n",
    "            if (edge == \"l\") & (xy == \"y\") : W_term =  Sfx*tr_left_y  \n",
    "            if (edge == \"r\") & (xy == \"x\") : E_term =  Sfx*tr_right_x  \n",
    "            if (edge == \"r\") & (xy == \"y\") : E_term =  Sfx*tr_right_y        \n",
    "\n",
    "        b_diffusion = (N_term + S_term + E_term + W_term)\n",
    "\n",
    "        return b_diffusion\n",
    "    \n",
    "    def corner(edges, corner_placement, uv, u_previous, k):\n",
    "\n",
    "        if uv == \"u\":\n",
    "            uv_i = 0\n",
    "        elif uv == \"v\":\n",
    "            uv_i = 1\n",
    "\n",
    "        disp = displacement(k, u_previous, uv_i)\n",
    "\n",
    "        if corner_placement == \"NE\":\n",
    "            corner =  (1/4)*(disp.P + disp.NE + disp.N + disp.E)\n",
    "        if corner_placement == \"SE\":\n",
    "            corner =  (1/4)*(disp.P + disp.SE + disp.S + disp.E)\n",
    "        if corner_placement == \"SW\":\n",
    "            corner =  (1/4)*(disp.P + disp.SW + disp.S + disp.W)\n",
    "        if corner_placement == \"NW\":\n",
    "            corner =  (1/4)*(disp.P + disp.NW + disp.N + disp.W)\n",
    "\n",
    "        for edge in edges:\n",
    "            if (edge == \"b\") & (corner_placement == \"SE\"):\n",
    "                corner =  (1/2)*(disp.SE + disp.S)\n",
    "            if (edge == \"b\") & (corner_placement == \"SW\"):\n",
    "                corner =  (1/2)*(disp.SW + disp.S)\n",
    "\n",
    "            if (edge == \"t\") & (corner_placement == \"NE\"):\n",
    "                corner =  (1/2)*(disp.NE + disp.N)\n",
    "            if (edge == \"t\") & (corner_placement == \"NW\"):\n",
    "                corner =  (1/2)*(disp.NW + disp.N)\n",
    "\n",
    "            if (edge == \"l\") & (corner_placement == \"NW\"):\n",
    "                corner =  (1/2)*(disp.NW + disp.W)\n",
    "            if (edge == \"l\") & (corner_placement == \"SW\"):\n",
    "                corner =  (1/2)*(disp.SW + disp.W)\n",
    "\n",
    "            if (edge == \"r\") & (corner_placement == \"NE\"):\n",
    "                corner =  (1/2)*(disp.NE + disp.E)\n",
    "            if (edge == \"r\") & (corner_placement == \"SE\"):\n",
    "                corner =  (1/2)*(disp.SE + disp.E)\n",
    "        \n",
    "        return corner\n",
    "\n",
    "# boundaryCellTraction.b_diff([\"b\", \"l\"], 14, \"x\", u_previous)\n",
    "   "
   ]
  },
  {
   "cell_type": "code",
   "execution_count": 287,
   "metadata": {},
   "outputs": [],
   "source": [
    "class boundaryPointTraction(A):\n",
    "\n",
    "    def __init__(self, edges, xy):    # The order matters for edges, bottom left corner on the bottom is : [\"b\", \"l\"]\n",
    "        \n",
    "        sw_S, sw_N, sw_W, sw_E = 0, 0, 0, 0\n",
    "\n",
    "        if edges[0] == \"b\": sw_S = 1\n",
    "        if edges[0] == \"t\": sw_N = 1\n",
    "        if edges[0] == \"l\": sw_W = 1\n",
    "        if edges[0] == \"r\": sw_E = 1\n",
    "        \n",
    "        a_P = (A(xy).a_N*sw_N + A(xy).a_S**sw_S + A(xy).a_E*sw_E + A(xy).a_W*sw_W)*2/(Sfy)\n",
    "        \n",
    "        a_N = A(xy).a_N*2/(Sfy) # are terms cancel in derivation\n",
    "        a_S = A(xy).a_S*2/(Sfy)\n",
    "        a_E = A(xy).a_E*2/(Sfx)\n",
    "        a_W = A(xy).a_W*2/(Sfx)\n",
    "\n",
    "        if edges[0] == \"b\":\n",
    "            self.a_N = a_P\n",
    "            self.a_P = a_S\n",
    "        if edges[0] == \"t\":\n",
    "            self.a_S = a_P\n",
    "            self.a_P = a_N\n",
    "        if edges[0] == \"l\":\n",
    "            self.a_E = a_P\n",
    "            self.a_P = a_W\n",
    "        if edges[0] == \"r\":\n",
    "            self.a_W = a_P\n",
    "            self.a_P = a_E\n",
    "    \n",
    "    def b_diff(edges, k, xy, u_previous):\n",
    "\n",
    "        if xy == \"x\":\n",
    "            uv = \"v\"\n",
    "        if xy == \"y\":\n",
    "            uv = \"u\"\n",
    "            \n",
    "        def N_term():\n",
    "            \n",
    "            N_term =( A.coef(xy, \"N\", uv)*(\n",
    "                    (boundaryPointTraction.corner(edges, \"E\", uv, u_previous, k) - boundaryPointTraction.corner(edges, \"W\", uv, u_previous, k))\n",
    "                    /dx)\n",
    "            )\n",
    "\n",
    "            return N_term\n",
    "\n",
    "        def S_term():\n",
    "            \n",
    "            S_term =(\n",
    "                    A.coef(xy, \"S\", uv)*(\n",
    "                        (boundaryPointTraction.corner(edges, \"E\", uv, u_previous, k) - boundaryPointTraction.corner(edges, \"W\", uv, u_previous, k))\n",
    "                        /dx)\n",
    "                ) \n",
    "            return S_term\n",
    "        def E_term():\n",
    "            \n",
    "            E_term =(\n",
    "                    A.coef(xy, \"E\", uv)*(\n",
    "                        (boundaryPointTraction.corner(edges, \"N\", uv, u_previous, k) - boundaryPointTraction.corner(edges, \"S\", uv, u_previous, k))\n",
    "                        /dy)\n",
    "                ) \n",
    "            return E_term\n",
    "        def W_term():\n",
    "            \n",
    "            W_term =(\n",
    "                        A.coef(xy, \"W\", uv)*(\n",
    "                        (boundaryPointTraction.corner(edges, \"N\", uv, u_previous, k) - boundaryPointTraction.corner(edges, \"S\", uv, u_previous, k))\n",
    "                        /dy)\n",
    "                )\n",
    "                \n",
    "            return W_term\n",
    "\n",
    "        # This can be tidied up/shortened\n",
    "\n",
    "        if (edges[0] == \"b\") & (xy == \"x\") : b_diffusion =  tr_bottom_x  + N_term()\n",
    "        if (edges[0] == \"b\") & (xy == \"y\") : b_diffusion =  tr_bottom_y  + N_term()\n",
    "        if (edges[0] == \"t\") & (xy == \"x\") : b_diffusion =  tr_top_x + S_term()\n",
    "        if (edges[0] == \"t\") & (xy == \"y\") : b_diffusion =  tr_top_y + S_term()\n",
    "        if (edges[0] == \"l\") & (xy == \"x\") : b_diffusion =  tr_left_x + E_term()\n",
    "        if (edges[0] == \"l\") & (xy == \"y\") : b_diffusion =  tr_left_y + E_term()\n",
    "        if (edges[0] == \"r\") & (xy == \"x\") : b_diffusion =  tr_right_x + W_term()\n",
    "        if (edges[0] == \"r\") & (xy == \"y\") : b_diffusion =  tr_right_y + W_term()  \n",
    "\n",
    "        return b_diffusion\n",
    "    \n",
    "    def corner(edges, corner_placement, uv, u_previous, k):\n",
    "\n",
    "        if uv == \"u\":\n",
    "            uv_i = 0\n",
    "        elif uv == \"v\":\n",
    "            uv_i = 1\n",
    "\n",
    "        disp = displacement(k, u_previous, uv_i)\n",
    "\n",
    "\n",
    "        if corner_placement == \"E\":\n",
    "            corner =  (1/2)*(disp.E + disp.P)\n",
    "        if corner_placement == \"W\":\n",
    "            corner =  (1/2)*(disp.W + disp.P)\n",
    "        if  corner_placement == \"N\":\n",
    "            corner =  (1/2)*(disp.N + disp.P)\n",
    "        if  corner_placement == \"S\":\n",
    "            corner =  (1/2)*(disp.S + disp.P)\n",
    "\n",
    "        if len(edges) > 1:\n",
    "\n",
    "            if (edges[1] == \"r\") & (corner_placement == \"E\"):\n",
    "                    corner =  disp.E\n",
    "            if (edges[1] == \"l\") & (corner_placement == \"W\"):\n",
    "                    corner =  disp.W\n",
    "            if (edges[1] == \"t\") & (corner_placement == \"N\"):\n",
    "                    corner =  disp.N\n",
    "            if (edges[1] == \"b\") & (corner_placement == \"S\"):\n",
    "                    corner =  disp.S\n",
    "        \n",
    "        return corner\n",
    "# boundaryCellTraction.b_diff([\"b\", \"l\"], 14, \"x\", u_previous)\n",
    "   "
   ]
  },
  {
   "cell_type": "code",
   "execution_count": 288,
   "metadata": {},
   "outputs": [],
   "source": [
    "class boundaryCellDisplacement(A):\n",
    "\n",
    "    def __init__(self, edges, xy):\n",
    "        \n",
    "        sw_S, sw_N, sw_W, sw_E = 1, 1, 1, 1\n",
    "\n",
    "        for edge in edges:\n",
    "            if edge == \"b\": sw_S = 2\n",
    "            if edge == \"t\": sw_N = 2\n",
    "            if edge == \"l\": sw_W = 2\n",
    "            if edge == \"r\": sw_E = 2\n",
    "        \n",
    "        self.a_P = (rho*dx*dy/(dt**2)) + A(xy).a_N*sw_N + A(xy).a_S**sw_S + A(xy).a_E*sw_E + A(xy).a_W*sw_W\n",
    "        \n",
    "        self.a_N = A(xy).a_N*sw_N\n",
    "        self.a_S = A(xy).a_S*sw_S\n",
    "        self.a_E = A(xy).a_E*sw_E\n",
    "        self.a_W = A(xy).a_W*sw_W\n",
    "\n",
    "    def b_temp(u_old, u_old_old, k, xy):      \n",
    "        return A.b_temp(u_old, u_old_old, k, xy)\n",
    "    \n",
    "    def b_diff(edges, k, xy, u_previous):\n",
    "\n",
    "        if xy == \"x\":\n",
    "            uv = \"v\"\n",
    "        if xy == \"y\":\n",
    "            uv = \"u\"\n",
    "            \n",
    "        N_term =(\n",
    "                    Sfy*A.coef(xy, \"N\", uv)*(\n",
    "                    (boundaryCellDisplacement.corner(edges, \"NE\", uv, u_previous, k) - boundaryCellDisplacement.corner(edges, \"NW\", uv, u_previous, k))\n",
    "                    /dx)\n",
    "                )\n",
    "        S_term =(\n",
    "                    Sfy*A.coef(xy, \"S\", uv)*(\n",
    "                        (boundaryCellDisplacement.corner(edges, \"SE\", uv, u_previous, k) - boundaryCellDisplacement.corner(edges, \"SW\", uv, u_previous, k))\n",
    "                        /dx)\n",
    "                ) \n",
    "        E_term =(\n",
    "                    Sfx*A.coef(xy, \"E\", uv)*(\n",
    "                        (boundaryCellDisplacement.corner(edges, \"NE\", uv, u_previous, k) - boundaryCellDisplacement.corner(edges, \"SE\", uv, u_previous, k))\n",
    "                        /dy)\n",
    "                ) \n",
    "        W_term =(\n",
    "                    Sfx*A.coef(xy, \"W\", uv)*(\n",
    "                        (boundaryCellDisplacement.corner(edges, \"NW\", uv, u_previous, k) - boundaryCellDisplacement.corner(edges, \"SW\", uv, u_previous, k))\n",
    "                        /dy)\n",
    "                ) \n",
    "\n",
    "        b_diffusion = (N_term + S_term + E_term + W_term)\n",
    "\n",
    "        return b_diffusion\n",
    "    \n",
    "    def corner(edges, corner_placement, uv, u_previous, k):\n",
    "\n",
    "        if uv == \"u\":\n",
    "            uv_i = 0\n",
    "        elif uv == \"v\":\n",
    "            uv_i = 1\n",
    "\n",
    "        disp = displacement(k, u_previous, uv_i)\n",
    "\n",
    "        if corner_placement == \"NE\":\n",
    "            corner =  (1/4)*(disp.P + disp.NE + disp.N + disp.E)\n",
    "        if corner_placement == \"SE\":\n",
    "            corner =  (1/4)*(disp.P + disp.SE + disp.S + disp.E)\n",
    "        if corner_placement == \"SW\":\n",
    "            corner =  (1/4)*(disp.P + disp.SW + disp.S + disp.W)\n",
    "        if corner_placement == \"NW\":\n",
    "            corner =  (1/4)*(disp.P + disp.NW + disp.N + disp.W)\n",
    "\n",
    "        for edge in edges:\n",
    "            if (edge == \"b\") & (corner_placement == \"SE\"):\n",
    "                corner =  (1/2)*(disp.SE + disp.S)\n",
    "            if (edge == \"b\") & (corner_placement == \"SW\"):\n",
    "                corner =  (1/2)*(disp.SW + disp.S)\n",
    "\n",
    "            if (edge == \"t\") & (corner_placement == \"NE\"):\n",
    "                corner =  (1/2)*(disp.NE + disp.N)\n",
    "            if (edge == \"t\") & (corner_placement == \"NW\"):\n",
    "                corner =  (1/2)*(disp.NW + disp.N)\n",
    "\n",
    "            if (edge == \"l\") & (corner_placement == \"NW\"):\n",
    "                corner =  (1/2)*(disp.NW + disp.W)\n",
    "            if (edge == \"l\") & (corner_placement == \"SW\"):\n",
    "                corner =  (1/2)*(disp.SW + disp.W)\n",
    "\n",
    "            if (edge == \"r\") & (corner_placement == \"NE\"):\n",
    "                corner =  (1/2)*(disp.NE + disp.E)\n",
    "            if (edge == \"r\") & (corner_placement == \"SE\"):\n",
    "                corner =  (1/2)*(disp.SE + disp.E)\n",
    "\n",
    "        if len(edges) > 1:\n",
    "\n",
    "            if (edges[0] == \"b\") & (edges[1] == \"l\") & (corner_placement == \"SW\"):\n",
    "                corner = disp.SW \n",
    "            if (edges[0] == \"b\") & (edges[1] == \"r\") & (corner_placement == \"SE\"):\n",
    "                corner = disp.SE\n",
    "            if (edges[0] == \"t\") & (edges[1] == \"l\") & (corner_placement == \"NW\"):\n",
    "                corner = disp.NW\n",
    "            if (edges[0] == \"t\") & (edges[1] == \"r\") & (corner_placement == \"NE\"):\n",
    "                corner = disp.NE\n",
    "\n",
    "        \n",
    "        return corner\n",
    "\n",
    "# boundaryCellDisplacement.b_diff([\"b\", \"l\"], 14, \"x\", u_previous)\n",
    "\n",
    "\n"
   ]
  },
  {
   "cell_type": "code",
   "execution_count": 289,
   "metadata": {},
   "outputs": [],
   "source": [
    "def traction_cell_BCs(A_matrix, b_matrix, k, edges, xy, u_old, u_old_old, u_previous):\n",
    "\n",
    "    A_matrix[k,k] = boundaryCellTraction(edges, xy).a_P\n",
    "\n",
    "    b_matrix[k] =(\n",
    "                    boundaryCellTraction.b_temp(u_old, u_old_old, k, xy)\n",
    "                    +\n",
    "                    boundaryCellTraction.b_diff(edges, k, xy, u_previous)  \n",
    "                )\n",
    "    for edge in edges:\n",
    "        if edge == \"b\":\n",
    "            #an\n",
    "            A_matrix[k,index(k).n] = - boundaryCellTraction(edges, xy).a_N\n",
    "\n",
    "        if edge == \"t\":\n",
    "            #as\n",
    "            A_matrix[k,index(k).s] = - boundaryCellTraction(edges, xy).a_S\n",
    "\n",
    "        if edge == \"l\":\n",
    "            #ae\n",
    "            A_matrix[k,index(k).e] = - boundaryCellTraction(edges, xy).a_E\n",
    "\n",
    "        if edge == \"r\":\n",
    "            #aw\n",
    "            A_matrix[k,index(k).w] = - boundaryCellTraction(edges, xy).a_W           \n",
    "\n",
    "    if len(edges) == 1:\n",
    "\n",
    "        if (edges[0] == \"b\") | (edges[0] == \"t\") :\n",
    "            #ae\n",
    "            A_matrix[k, index(k).e] = - boundaryCellTraction(edges, xy).a_E\n",
    "            #aw\n",
    "            A_matrix[k, index(k).w] = - boundaryCellTraction(edges, xy).a_W\n",
    "\n",
    "        if (edges[0] == \"l\") | (edges[0] == \"r\") :\n",
    "            #an\n",
    "            A_matrix[k,index(k).n] = - boundaryCellTraction(edges, xy).a_N            \n",
    "            #as\n",
    "            A_matrix[k,index(k).s] = - boundaryCellTraction(edges, xy).a_S\n",
    "\n",
    "    return A_matrix, b_matrix"
   ]
  },
  {
   "cell_type": "code",
   "execution_count": 290,
   "metadata": {},
   "outputs": [],
   "source": [
    "def traction_point_BCs(A_matrix, b_matrix, k, edges, xy, u_previous):\n",
    "    \n",
    "    #ap\n",
    "    A_matrix[k,k] = boundaryPointTraction(edges, xy).a_P\n",
    "    #b\n",
    "    b_matrix[k] =boundaryPointTraction.b_diff(edges, k, xy, u_previous)\n",
    "\n",
    "    if edges[0] == \"b\":\n",
    "        #an\n",
    "        A_matrix[k,index(k).n] = - boundaryPointTraction(edges, xy).a_N\n",
    "    if edges[0] == \"t\":\n",
    "        #as\n",
    "        A_matrix[k,index(k).s] = - boundaryPointTraction(edges, xy).a_S\n",
    "    if edges[0] == \"l\":\n",
    "        #ae\n",
    "        A_matrix[k, index(k).e] = - boundaryPointTraction(edges, xy).a_E\n",
    "    if edges[0] == \"r\":\n",
    "        #aw\n",
    "        A_matrix[k, index(k).w] = -  boundaryPointTraction(edges, xy).a_W\n",
    "\n",
    "    return A_matrix, b_matrix"
   ]
  },
  {
   "cell_type": "code",
   "execution_count": 291,
   "metadata": {},
   "outputs": [],
   "source": [
    "class edge_U:\n",
    "\n",
    "    def __init__(self, edges, xy):\n",
    "\n",
    "        if xy == \"x\":\n",
    "            if edges[0] == \"b\":\n",
    "                if BC_settings(edges[0]).fixed_displacement:\n",
    "                    self.BC = u_bottom\n",
    "            if edges[0] == \"t\":\n",
    "                if BC_settings(edges[0]).fixed_displacement:\n",
    "                    self.BC = u_top\n",
    "            if edges[0] == \"l\":\n",
    "                if BC_settings(edges[0]).fixed_displacement:\n",
    "                    self.BC = u_left\n",
    "            if edges[0] == \"r\":\n",
    "                if BC_settings(edges[0]).fixed_displacement:\n",
    "                    self.BC = u_right\n",
    "\n",
    "        if xy == \"y\":\n",
    "            if edges[0] == \"b\":\n",
    "                if BC_settings(edges[0]).fixed_displacement:\n",
    "                    self.BC = v_bottom\n",
    "            if edges[0] == \"t\":\n",
    "                if BC_settings(edges[0]).fixed_displacement:\n",
    "                    self.BC = v_top\n",
    "            if edges[0] == \"l\":\n",
    "                if BC_settings(edges[0]).fixed_displacement:\n",
    "                    self.BC = v_left\n",
    "            if edges[0] == \"r\":\n",
    "                if BC_settings(edges[0]).fixed_displacement:\n",
    "                    self.BC = v_right"
   ]
  },
  {
   "cell_type": "code",
   "execution_count": 292,
   "metadata": {},
   "outputs": [],
   "source": [
    "def displacement_cell_BCs(A_matrix, b_matrix, k, edges, xy, u_old, u_old_old, u_previous):\n",
    "\n",
    "    A_matrix[k,k] = boundaryCellDisplacement(edges, xy).a_P\n",
    "    #an\n",
    "    A_matrix[k,index(k).n] = - boundaryCellDisplacement(edges, xy).a_N        \n",
    "    #as\n",
    "    A_matrix[k,index(k).s] = - boundaryCellDisplacement(edges, xy).a_S   \n",
    "    #ae\n",
    "    A_matrix[k, index(k).e] = - boundaryCellDisplacement(edges, xy).a_E\n",
    "    #aw\n",
    "    A_matrix[k, index(k).w] = - boundaryCellDisplacement(edges, xy).a_W\n",
    "\n",
    "    b_matrix[k] =(\n",
    "                boundaryCellDisplacement.b_temp(u_old, u_old_old, k, xy)\n",
    "                +\n",
    "                boundaryCellDisplacement.b_diff(edges, k, xy, u_previous)\n",
    "            )   \n",
    "\n",
    "    return A_matrix, b_matrix\n",
    "\n",
    "def displacement_point_BCs(A_matrix, b_matrix, k, edges, xy):\n",
    "    \n",
    "    A_matrix[k,k] = 1e10\n",
    "    b_matrix[k] = edge_U(edges, xy).BC*1e10\n",
    "\n",
    "    return A_matrix, b_matrix"
   ]
  },
  {
   "cell_type": "code",
   "execution_count": 293,
   "metadata": {},
   "outputs": [],
   "source": [
    "def boundary_conditions(A_matrix, b_matrix, u_previous, u_old, u_old_old, xy):\n",
    "    for k in np.arange(0,(nx+2)*(ny+2)):   # j is the cell number\n",
    "\n",
    "        U = displacement(k, u_previous, 0)\n",
    "        V = displacement(k, u_previous, 1)\n",
    "\n",
    "        #Bottom left corner coefficients        \n",
    "        if cell_index().bottom_left_corner(k):  \n",
    "            edges = [\"b\", \"l\"]\n",
    "            \n",
    "            if BC_settings(edges[1]).traction:\n",
    "                A_matrix, b_matrix = traction_cell_BCs(A_matrix, b_matrix, k, edges, xy, u_old, u_old_old, u_previous)\n",
    "            \n",
    "            elif BC_settings(edges[1]).fixed_displacement:\n",
    "                A_matrix, b_matrix = displacement_cell_BCs(A_matrix, b_matrix, k, edges, xy, u_old, u_old_old, u_previous)\n",
    "\n",
    "        #Bottom right corner coefficients            \n",
    "        elif  cell_index().bottom_right_corner(k):\n",
    "            edges = [\"b\", \"r\"]\n",
    "            \n",
    "            if BC_settings(edges[1]).traction:\n",
    "                A_matrix, b_matrix = traction_cell_BCs(A_matrix, b_matrix, k, edges, xy, u_old, u_old_old, u_previous)\n",
    "\n",
    "            elif BC_settings(edges[1]).fixed_displacement:\n",
    "                A_matrix, b_matrix = displacement_cell_BCs(A_matrix, b_matrix, k, edges, xy, u_old, u_old_old, u_previous)\n",
    "\n",
    "        #Top left corner coefficients            \n",
    "        elif  cell_index().top_left_corner(k):\n",
    "            edges = [\"t\", \"l\"]\n",
    "        \n",
    "            if BC_settings(edges[1]).traction:\n",
    "                A_matrix, b_matrix = traction_cell_BCs(A_matrix, b_matrix, k, edges, xy, u_old, u_old_old, u_previous)\n",
    "\n",
    "            elif BC_settings(edges[1]).fixed_displacement:\n",
    "                \tA_matrix, b_matrix = displacement_cell_BCs(A_matrix, b_matrix, k, edges, xy, u_old, u_old_old, u_previous)\n",
    "\n",
    "        #Top right corner coefficients            \n",
    "        elif  cell_index().top_right_corner(k):  \n",
    "            edges = [\"t\", \"r\"]\n",
    "            \n",
    "            if BC_settings(edges[1]).traction:\n",
    "                A_matrix, b_matrix = traction_cell_BCs(A_matrix, b_matrix, k, edges, xy, u_old, u_old_old, u_previous)\n",
    "\n",
    "            elif BC_settings(edges[1]).fixed_displacement:\n",
    "                A_matrix, b_matrix = displacement_cell_BCs(A_matrix, b_matrix, k, edges, xy, u_old, u_old_old, u_previous)\n",
    "\n",
    "        # Center Bottom Boundaries\n",
    "        elif  cell_index().center_bottom(k):\n",
    "            edges = [\"b\"]\n",
    "\n",
    "            if BC_settings(edges[0]).traction:\n",
    "                A_matrix, b_matrix = traction_cell_BCs(A_matrix, b_matrix, k, edges, xy, u_old, u_old_old, u_previous)\n",
    "\n",
    "            elif BC_settings(edges[0]).fixed_displacement:\n",
    "                A_matrix, b_matrix = displacement_cell_BCs(A_matrix, b_matrix, k, edges, xy, u_old, u_old_old, u_previous)\n",
    "\n",
    "        # Center Top Boundaries\n",
    "        elif cell_index().center_top(k):\n",
    "            edges = [\"t\"]\n",
    "\n",
    "            if BC_settings(edges[0]).traction:\n",
    "                A_matrix, b_matrix = traction_cell_BCs(A_matrix, b_matrix, k, edges, xy, u_old, u_old_old, u_previous)\n",
    "\n",
    "            elif BC_settings(edges[0]).fixed_displacement:\n",
    "                A_matrix, b_matrix = displacement_cell_BCs(A_matrix, b_matrix, k, edges, xy, u_old, u_old_old, u_previous)\n",
    "\n",
    "        # Center Left Boundaries\n",
    "        elif  cell_index().center_left(k):\n",
    "            edges = [\"l\"]\n",
    "\n",
    "            if BC_settings(edges[0]).traction:\n",
    "                A_matrix, b_matrix = traction_cell_BCs(A_matrix, b_matrix, k, edges, xy, u_old, u_old_old, u_previous)\n",
    "\n",
    "            elif BC_settings(edges[0]).fixed_displacement:\n",
    "                A_matrix, b_matrix = displacement_cell_BCs(A_matrix, b_matrix, k, edges, xy, u_old, u_old_old, u_previous)\n",
    "\n",
    "        # Center Right Boundaries\n",
    "        elif  cell_index().center_right(k):\n",
    "            edges = [\"r\"]\n",
    "\n",
    "            if BC_settings(edges[0]).traction:\n",
    "                A_matrix, b_matrix = traction_cell_BCs(A_matrix, b_matrix, k, edges, xy, u_old, u_old_old, u_previous)\n",
    "\n",
    "            elif BC_settings(edges[0]).fixed_displacement:\n",
    "                A_matrix, b_matrix = displacement_cell_BCs(A_matrix, b_matrix, k, edges, xy, u_old, u_old_old, u_previous)\n",
    "\n",
    "        #### Points on Boundary ####\n",
    "\n",
    "        # Center Bottom\n",
    "        elif boundary_point_index().center_bottom(k):\n",
    "            edges = [\"b\"]\n",
    "\n",
    "            if BC_settings(edges[0]).traction:\n",
    "                A_matrix, b_matrix = traction_point_BCs(A_matrix, b_matrix, k, edges, xy, u_previous)\n",
    "\n",
    "            elif BC_settings(edges[0]).fixed_displacement:\n",
    "                A_matrix, b_matrix = displacement_point_BCs(A_matrix, b_matrix, k, edges, xy)\n",
    "\n",
    "        # Center Top\n",
    "        elif boundary_point_index().center_top(k):\n",
    "            edges = [\"t\"]\n",
    "\n",
    "            if BC_settings(edges[0]).traction:\n",
    "                A_matrix, b_matrix = traction_point_BCs(A_matrix, b_matrix, k, edges, xy, u_previous)\n",
    "\n",
    "            elif BC_settings(edges[0]).fixed_displacement:\n",
    "                A_matrix, b_matrix = displacement_point_BCs(A_matrix, b_matrix, k, edges, xy)\n",
    "            \n",
    "        # Center Left\n",
    "        elif boundary_point_index().center_left(k):\n",
    "            edges = [\"l\"]\n",
    "\n",
    "            if BC_settings(edges[0]).traction:\n",
    "                A_matrix, b_matrix = traction_point_BCs(A_matrix, b_matrix, k, edges, xy, u_previous)\n",
    "\n",
    "            elif BC_settings(edges[0]).fixed_displacement:\n",
    "                A_matrix, b_matrix = displacement_point_BCs(A_matrix, b_matrix, k, edges, xy)\n",
    "\n",
    "        # Center Right\n",
    "        elif boundary_point_index().center_right(k):\n",
    "            edges = [\"r\"]\n",
    "\n",
    "            if BC_settings(edges[0]).traction:\n",
    "                A_matrix, b_matrix = traction_point_BCs(A_matrix, b_matrix, k, edges, xy, u_previous)\n",
    "\n",
    "            elif BC_settings(edges[0]).fixed_displacement:\n",
    "                A_matrix, b_matrix = displacement_point_BCs(A_matrix, b_matrix, k, edges, xy)\n",
    "\n",
    "        # Bottom Left: Bottom\n",
    "        elif boundary_point_index().bottom_left_bottom(k):\n",
    "            edges = [\"b\", \"l\"]\n",
    "\n",
    "            if BC_settings(edges[0]).traction:\n",
    "                A_matrix, b_matrix = traction_point_BCs(A_matrix, b_matrix, k, edges, xy, u_previous) \n",
    "\n",
    "            elif BC_settings(edges[0]).fixed_displacement:\n",
    "                A_matrix, b_matrix = displacement_point_BCs(A_matrix, b_matrix, k, edges, xy)\n",
    "\n",
    "        # Bottom Left: Left\n",
    "        elif boundary_point_index().bottom_left_left(k):\n",
    "            edges = [\"l\", \"b\"]\n",
    "            \n",
    "            if BC_settings(edges[0]).traction:\n",
    "                A_matrix, b_matrix = traction_point_BCs(A_matrix, b_matrix, k, edges, xy, u_previous)\n",
    "\n",
    "            elif BC_settings(edges[0]).fixed_displacement:\n",
    "                A_matrix, b_matrix = displacement_point_BCs(A_matrix, b_matrix, k, edges, xy)\n",
    "            \n",
    "        # Bottom Right: Right\n",
    "        elif boundary_point_index().bottom_right_right(k):\n",
    "            edges = [\"r\", \"b\"]\n",
    "\n",
    "            if BC_settings(edges[0]).traction:\n",
    "                A_matrix, b_matrix = traction_point_BCs(A_matrix, b_matrix, k, edges, xy, u_previous)\n",
    "\n",
    "            elif BC_settings(edges[0]).fixed_displacement:\n",
    "                A_matrix, b_matrix = displacement_point_BCs(A_matrix, b_matrix, k, edges, xy)\n",
    "\n",
    "        # Bottom Right: Bottom\n",
    "        elif boundary_point_index().bottom_right_bottom(k):\n",
    "            edges = [\"b\", \"r\"]\n",
    "\n",
    "            if BC_settings(edges[0]).traction:\n",
    "                A_matrix, b_matrix = traction_point_BCs(A_matrix, b_matrix, k, edges, xy, u_previous) \n",
    "\n",
    "            elif BC_settings(edges[0]).fixed_displacement:\n",
    "                A_matrix, b_matrix = displacement_point_BCs(A_matrix, b_matrix, k, edges, xy)\n",
    "\n",
    "        # Top Left: Left\n",
    "        elif boundary_point_index().top_left_left(k):\n",
    "            edges = [\"l\", \"t\"]\n",
    "\n",
    "            if BC_settings(edges[0]).traction:\n",
    "                A_matrix, b_matrix = traction_point_BCs(A_matrix, b_matrix, k, edges, xy, u_previous)\n",
    "\n",
    "            elif BC_settings(edges[0]).fixed_displacement:\n",
    "                A_matrix, b_matrix = displacement_point_BCs(A_matrix, b_matrix, k, edges, xy)\n",
    "\n",
    "        # Top Left: Top\n",
    "        elif boundary_point_index().top_left_top(k):\n",
    "            edges = [\"t\", \"l\"]\n",
    "\n",
    "            if BC_settings(edges[0]).traction:  \n",
    "                A_matrix, b_matrix = traction_point_BCs(A_matrix, b_matrix, k, edges, xy, u_previous)\n",
    "\n",
    "            elif BC_settings(edges[0]).fixed_displacement:\n",
    "                A_matrix, b_matrix = displacement_point_BCs(A_matrix, b_matrix, k, edges, xy)\n",
    "\n",
    "        # Top Right: Right\n",
    "        elif boundary_point_index().top_right_right(k):\n",
    "            edges = [\"r\", \"t\"]\n",
    "\n",
    "            if BC_settings(edges[0]).traction:  \n",
    "                A_matrix, b_matrix = traction_point_BCs(A_matrix, b_matrix, k, edges, xy, u_previous)\n",
    "\n",
    "            elif BC_settings(edges[0]).fixed_displacement:\n",
    "                A_matrix, b_matrix = displacement_point_BCs(A_matrix, b_matrix, k, edges, xy)\n",
    "\n",
    "        # Top Right: Top        \n",
    "        elif boundary_point_index().top_right_top(k):\n",
    "            edges = [\"t\", \"r\"]\n",
    "\n",
    "            if BC_settings(edges[0]).traction:  \n",
    "                A_matrix, b_matrix = traction_point_BCs(A_matrix, b_matrix, k, edges, xy, u_previous)\n",
    "\n",
    "            elif BC_settings(edges[0]).fixed_displacement:\n",
    "                A_matrix, b_matrix = displacement_point_BCs(A_matrix, b_matrix, k, edges, xy)\n",
    "\n",
    "        # # Corner Points\n",
    "\n",
    "        # If on of the edges uses fixed displacement this BC is used, if both edges use traction an interpolation is used\n",
    "\n",
    "        elif boundary_point_index().bottom_left_corner(k):\n",
    "\n",
    "            edges = [\"b\", \"l\"]\n",
    "\n",
    "            #print(str(k) + \": Bottom Left Corner Point on Boundary\")\n",
    "                    \n",
    "            if BC_settings(edges[0]).fixed_displacement | BC_settings(edges[1]).fixed_displacement:\n",
    "                for i in [0,1]:                 \n",
    "                    if BC_settings(edges[i]).fixed_displacement:\n",
    "                        edges = [edges[i]]\n",
    "                        A_matrix, b_matrix = displacement_point_BCs(A_matrix, b_matrix, k, edges, xy)\n",
    "            else: \n",
    "                A_matrix[k,k] = 4\n",
    "\n",
    "                A_matrix[k,index(k).n] = 2 \n",
    "                A_matrix[k,index(k).e] = 2\n",
    "\n",
    "                A_matrix[k,index(k).ne] = -15\n",
    "\n",
    "                A_matrix[k,index(k).dir([\"n\", \"n\"])] = 2 \n",
    "                A_matrix[k,index(k).dir([\"e\", \"e\"])] = 2\n",
    "\n",
    "                A_matrix[k,index(k).dir([\"n\", \"ne\"])] = 1\n",
    "                A_matrix[k,index(k).dir([\"ne\", \"ne\"])] = 1\n",
    "                A_matrix[k,index(k).dir([\"e\", \"ne\"])] = 1\n",
    "\n",
    "                b_matrix[k] = 0\n",
    "\n",
    "            # edges = [\"l\"]\n",
    "\n",
    "            # A_matrix, b_matrix = displacement_point_BCs(A_matrix, b_matrix, k, edges, xy)\n",
    "\n",
    "        elif boundary_point_index().bottom_right_corner(k):\n",
    "            edges = [\"b\", \"r\"]\n",
    "            \n",
    "            if BC_settings(edges[0]).fixed_displacement | BC_settings(edges[1]).fixed_displacement:\n",
    "                for i in [0,1]:                 \n",
    "                    if BC_settings(edges[i]).fixed_displacement:\n",
    "                        edges = [edges[i]]\n",
    "                        A_matrix, b_matrix = displacement_point_BCs(A_matrix, b_matrix, k, edges, xy)\n",
    "            else: \n",
    "                A_matrix[k,k] = 4\n",
    "\n",
    "                A_matrix[k,index(k).n] = 2 \n",
    "                A_matrix[k,index(k).w] = 2\n",
    "\n",
    "                A_matrix[k,index(k).nw] = -15\n",
    "\n",
    "                A_matrix[k,index(k).dir([\"n\", \"n\"])] = 2 \n",
    "                A_matrix[k,index(k).dir([\"w\", \"w\"])] = 2\n",
    "\n",
    "                A_matrix[k,index(k).dir([\"n\", \"nw\"])] = 1\n",
    "                A_matrix[k,index(k).dir([\"nw\", \"nw\"])] = 1\n",
    "                A_matrix[k,index(k).dir([\"w\", \"nw\"])] = 1\n",
    "\n",
    "                b_matrix[k] = 0\n",
    "\n",
    "        elif boundary_point_index().top_left_corner(k):\n",
    "\n",
    "            edges = [\"t\", \"l\"]\n",
    "            \n",
    "            if BC_settings(edges[0]).fixed_displacement | BC_settings(edges[1]).fixed_displacement:\n",
    "                for i in [0,1]:                 \n",
    "                    if BC_settings(edges[i]).fixed_displacement:\n",
    "                        edges = [edges[i]]\n",
    "                        A_matrix, b_matrix = displacement_point_BCs(A_matrix, b_matrix, k, edges, xy)\n",
    "            else: \n",
    "                A_matrix[k,k] = 4\n",
    "\n",
    "                A_matrix[k,index(k).s] = 2 \n",
    "                A_matrix[k,index(k).e] = 2\n",
    "\n",
    "                A_matrix[k,index(k).se] = -15\n",
    "\n",
    "                A_matrix[k,index(k).dir([\"s\", \"s\"])] = 2 \n",
    "                A_matrix[k,index(k).dir([\"e\", \"e\"])] = 2\n",
    "\n",
    "                A_matrix[k,index(k).dir([\"s\", \"se\"])] = 1\n",
    "                A_matrix[k,index(k).dir([\"se\", \"se\"])] = 1\n",
    "                A_matrix[k,index(k).dir([\"e\", \"se\"])] = 1\n",
    "\n",
    "                b_matrix[k] = 0\n",
    "\n",
    "        elif boundary_point_index().top_right_corner(k):\n",
    "\n",
    "            edges = [\"t\", \"r\"]\n",
    "            \n",
    "            if BC_settings(edges[0]).fixed_displacement | BC_settings(edges[1]).fixed_displacement:\n",
    "                for i in [0,1]:                 \n",
    "                    if BC_settings(edges[i]).fixed_displacement:\n",
    "                        edges = [edges[i]]\n",
    "                        A_matrix, b_matrix = displacement_point_BCs(A_matrix, b_matrix, k, edges, xy)\n",
    "            else: \n",
    "                A_matrix[k,k] = 4\n",
    "\n",
    "                A_matrix[k,index(k).s] = 2 \n",
    "                A_matrix[k,index(k).w] = 2\n",
    "\n",
    "                A_matrix[k,index(k).sw] = -15\n",
    "\n",
    "                A_matrix[k,index(k).dir([\"s\", \"s\"])] = 2 \n",
    "                A_matrix[k,index(k).dir([\"w\", \"w\"])] = 2\n",
    "\n",
    "                A_matrix[k,index(k).dir([\"s\", \"sw\"])] = 1\n",
    "                A_matrix[k,index(k).dir([\"sw\", \"sw\"])] = 1\n",
    "                A_matrix[k,index(k).dir([\"w\", \"sw\"])] = 1\n",
    "\n",
    "                b_matrix[k] = 0      \n",
    "            # # \n",
    "            \n",
    "            # edges = [\"l\"]\n",
    "\n",
    "            # A_matrix[k,k] = 1\n",
    "            # b_matrix[k] = edge_U(edges, xy).BC  \n",
    "\n",
    "        else:\n",
    "\n",
    "            #print(str(k) + \": NO BC Cell\")\n",
    "\n",
    "            b_matrix[k] = (\n",
    "                            A.b_temp(u_old, u_old_old, k, xy)\n",
    "                            +\n",
    "                            A.b_diff(k, xy, u_previous)\n",
    "                        )\n",
    "\n",
    "    return A_matrix, b_matrix\n"
   ]
  },
  {
   "cell_type": "code",
   "execution_count": 294,
   "metadata": {},
   "outputs": [
    {
     "name": "stdout",
     "output_type": "stream",
     "text": [
      "\n",
      "Time = 0.0\n",
      "icorr = 1, Residual = 8568267336326.04101562500000000000, normFactor = 0.00000000000000000000\n"
     ]
    },
    {
     "name": "stderr",
     "output_type": "stream",
     "text": [
      "/home/scottlevie/miniconda3/lib/python3.9/site-packages/scipy/sparse/linalg/dsolve/linsolve.py:144: SparseEfficiencyWarning:\n",
      "\n",
      "spsolve requires A be CSC or CSR matrix format\n",
      "\n"
     ]
    },
    {
     "name": "stdout",
     "output_type": "stream",
     "text": [
      "icorr = 2, Residual = 0.33086538711812663038, normFactor = 0.00000000000000465966\n",
      "icorr = 3, Residual = 0.55110031086492616836, normFactor = 0.00000000000000465966\n",
      "icorr = 4, Residual = 0.12889257245435747912, normFactor = 0.00000000000000791963\n",
      "icorr = 5, Residual = 0.19666249883683570299, normFactor = 0.00000000000000791963\n",
      "icorr = 6, Residual = 0.06608950393474437301, normFactor = 0.00000000000001012802\n",
      "icorr = 7, Residual = 0.09791920056531346062, normFactor = 0.00000000000001012802\n",
      "icorr = 8, Residual = 0.03778586151019420331, normFactor = 0.00000000000001160006\n",
      "icorr = 9, Residual = 0.05533990001512694573, normFactor = 0.00000000000001160006\n",
      "icorr = 10, Residual = 0.02282457008480300378, normFactor = 0.00000000000001257322\n",
      "icorr = 11, Residual = 0.03326494600197241192, normFactor = 0.00000000000001257322\n",
      "icorr = 12, Residual = 0.01422082137578075701, normFactor = 0.00000000000001321390\n",
      "icorr = 13, Residual = 0.02068054794696044807, normFactor = 0.00000000000001321390\n",
      "icorr = 14, Residual = 0.00902551729736227569, normFactor = 0.00000000000001363478\n",
      "icorr = 15, Residual = 0.01311201805397761017, normFactor = 0.00000000000001363478\n",
      "icorr = 16, Residual = 0.00579391225091613338, normFactor = 0.00000000000001391094\n",
      "icorr = 17, Residual = 0.00841315008091006629, normFactor = 0.00000000000001391094\n",
      "icorr = 18, Residual = 0.00374620688940073641, normFactor = 0.00000000000001409202\n",
      "icorr = 19, Residual = 0.00543845651202753185, normFactor = 0.00000000000001409202\n",
      "icorr = 20, Residual = 0.00243334365886456894, normFactor = 0.00000000000001421072\n",
      "icorr = 21, Residual = 0.00353213127153722238, normFactor = 0.00000000000001421072\n",
      "icorr = 22, Residual = 0.00158525006072159276, normFactor = 0.00000000000001428850\n",
      "icorr = 23, Residual = 0.00230094630113461193, normFactor = 0.00000000000001428850\n",
      "icorr = 24, Residual = 0.00103471985570678269, normFactor = 0.00000000000001433947\n",
      "icorr = 25, Residual = 0.00150182615803611387, normFactor = 0.00000000000001433947\n",
      "icorr = 26, Residual = 0.00067621966876467378, normFactor = 0.00000000000001437286\n",
      "icorr = 27, Residual = 0.00098147500267019164, normFactor = 0.00000000000001437286\n",
      "icorr = 28, Residual = 0.00044228759489208056, normFactor = 0.00000000000001439473\n",
      "icorr = 29, Residual = 0.00064193919747605624, normFactor = 0.00000000000001439473\n",
      "icorr = 30, Residual = 0.00028943529067473618, normFactor = 0.00000000000001440907\n",
      "icorr = 31, Residual = 0.00042008754134075887, normFactor = 0.00000000000001440907\n",
      "icorr = 32, Residual = 0.00018947345767127672, normFactor = 0.00000000000001441845\n",
      "icorr = 33, Residual = 0.00027500244439027251, normFactor = 0.00000000000001441845\n",
      "icorr = 34, Residual = 0.00012406335064498404, normFactor = 0.00000000000001442460\n",
      "icorr = 35, Residual = 0.00018006603796019190, normFactor = 0.00000000000001442460\n",
      "icorr = 36, Residual = 0.00008124617384846571, normFactor = 0.00000000000001442863\n",
      "icorr = 37, Residual = 0.00011792107654081917, normFactor = 0.00000000000001442863\n",
      "icorr = 38, Residual = 0.00005321136712499712, normFactor = 0.00000000000001443127\n",
      "icorr = 39, Residual = 0.00007723126581635980, normFactor = 0.00000000000001443127\n",
      "icorr = 40, Residual = 0.00003485246329838762, normFactor = 0.00000000000001443300\n",
      "icorr = 41, Residual = 0.00005058507568267452, normFactor = 0.00000000000001443300\n",
      "icorr = 42, Residual = 0.00002282866909044197, normFactor = 0.00000000000001443413\n",
      "icorr = 43, Residual = 0.00003313367984283412, normFactor = 0.00000000000001443413\n",
      "icorr = 44, Residual = 0.00001495338564167891, normFactor = 0.00000000000001443487\n",
      "icorr = 45, Residual = 0.00002170344777368375, normFactor = 0.00000000000001443487\n",
      "icorr = 46, Residual = 0.00000979504019582388, normFactor = 0.00000000000001443536\n",
      "icorr = 47, Residual = 0.00001421659228128395, normFactor = 0.00000000000001443536\n",
      "icorr = 48, Residual = 0.00000641620140682433, normFactor = 0.00000000000001443568\n",
      "icorr = 49, Residual = 0.00000931252260062346, normFactor = 0.00000000000001443568\n",
      "icorr = 50, Residual = 0.00000420293893822038, normFactor = 0.00000000000001443589\n",
      "icorr = 51, Residual = 0.00000610017761316695, normFactor = 0.00000000000001443589\n",
      "icorr = 52, Residual = 0.00000275315303635246, normFactor = 0.00000000000001443602\n",
      "icorr = 53, Residual = 0.00000399594762315700, normFactor = 0.00000000000001443602\n",
      "icorr = 54, Residual = 0.00000180347054486156, normFactor = 0.00000000000001443611\n",
      "icorr = 55, Residual = 0.00000261757125507202, normFactor = 0.00000000000001443611\n",
      "icorr = 56, Residual = 0.00000118137748864574, normFactor = 0.00000000000001443617\n",
      "icorr = 57, Residual = 0.00000171466059621472, normFactor = 0.00000000000001443617\n",
      "icorr = 58, Residual = 0.00000077387165767330, normFactor = 0.00000000000001443621\n",
      "icorr = 59, Residual = 0.00000112320345622463, normFactor = 0.00000000000001443621\n",
      "icorr = 60, Residual = 0.00000050693187068362, normFactor = 0.00000000000001443624\n",
      "icorr = 61, Residual = 0.00000073576494994114, normFactor = 0.00000000000001443624\n",
      "icorr = 62, Residual = 0.00000033207066570933, normFactor = 0.00000000000001443625\n",
      "icorr = 63, Residual = 0.00000048197001232503, normFactor = 0.00000000000001443625\n",
      "icorr = 64, Residual = 0.00000021752621326979, normFactor = 0.00000000000001443626\n",
      "icorr = 65, Residual = 0.00000031571928576942, normFactor = 0.00000000000001443626\n",
      "icorr = 66, Residual = 0.00000014249276232989, normFactor = 0.00000000000001443627\n",
      "icorr = 67, Residual = 0.00000020681513345454, normFactor = 0.00000000000001443627\n",
      "icorr = 68, Residual = 0.00000009334135119508, normFactor = 0.00000000000001443627\n",
      "icorr = 69, Residual = 0.00000013547638560310, normFactor = 0.00000000000001443627\n",
      "icorr = 70, Residual = 0.00000006114421952113, normFactor = 0.00000000000001443628\n",
      "icorr = 71, Residual = 0.00000008874520709433, normFactor = 0.00000000000001443628\n",
      "icorr = 72, Residual = 0.00000004005315714575, normFactor = 0.00000000000001443628\n",
      "icorr = 73, Residual = 0.00000005813347474373, normFactor = 0.00000000000001443628\n",
      "icorr = 74, Residual = 0.00000002623724005554, normFactor = 0.00000000000001443628\n",
      "icorr = 75, Residual = 0.00000003808094080783, normFactor = 0.00000000000001443628\n",
      "icorr = 76, Residual = 0.00000001718698007038, normFactor = 0.00000000000001443628\n",
      "icorr = 77, Residual = 0.00000002494531912194, normFactor = 0.00000000000001443628\n",
      "icorr = 78, Residual = 0.00000001125850923230, normFactor = 0.00000000000001443628\n",
      "icorr = 79, Residual = 0.00000001634069421623, normFactor = 0.00000000000001443628\n",
      "icorr = 80, Residual = 0.00000000737500597559, normFactor = 0.00000000000001443628\n",
      "icorr = 81, Residual = 0.00000001070414202106, normFactor = 0.00000000000001443628\n",
      "icorr = 82, Residual = 0.00000000483107373210, normFactor = 0.00000000000001443628\n",
      "icorr = 83, Residual = 0.00000000701185777940, normFactor = 0.00000000000001443628\n",
      "icorr = 84, Residual = 0.00000000316464604992, normFactor = 0.00000000000001443628\n",
      "icorr = 85, Residual = 0.00000000459319295567, normFactor = 0.00000000000001443628\n",
      "icorr = 86, Residual = 0.00000000207303498172, normFactor = 0.00000000000001443628\n",
      "icorr = 87, Residual = 0.00000000300881948605, normFactor = 0.00000000000001443628\n",
      "icorr = 88, Residual = 0.00000000135796298502, normFactor = 0.00000000000001443628\n",
      "icorr = 89, Residual = 0.00000000197095877027, normFactor = 0.00000000000001443628\n",
      "icorr = 90, Residual = 0.00000000088954823960, normFactor = 0.00000000000001443628\n",
      "icorr = 91, Residual = 0.00000000129109818307, normFactor = 0.00000000000001443628\n",
      "icorr = 92, Residual = 0.00000000058270835539, normFactor = 0.00000000000001443628\n",
      "icorr = 93, Residual = 0.00000000084574683419, normFactor = 0.00000000000001443628\n",
      "icorr = 94, Residual = 0.00000000038170785248, normFactor = 0.00000000000001443628\n",
      "icorr = 95, Residual = 0.00000000055401412364, normFactor = 0.00000000000001443628\n",
      "icorr = 96, Residual = 0.00000000025004348181, normFactor = 0.00000000000001443628\n",
      "icorr = 97, Residual = 0.00000000036291532127, normFactor = 0.00000000000001443628\n",
      "icorr = 98, Residual = 0.00000000016379165472, normFactor = 0.00000000000001443628\n",
      "icorr = 99, Residual = 0.00000000023772877450, normFactor = 0.00000000000001443628\n",
      "icorr = 100, Residual = 0.00000000010729439082, normFactor = 0.00000000000001443628\n",
      "icorr = 101, Residual = 0.00000000015572770471, normFactor = 0.00000000000001443628\n",
      "icorr = 102, Residual = 0.00000000007028403939, normFactor = 0.00000000000001443628\n",
      "\n",
      "Time = 0.001\n",
      "icorr = 1, Residual = 0.00000062334826075323, normFactor = 0.00000000000001443628\n",
      "icorr = 2, Residual = 0.00000013414115772126, normFactor = 0.00000000000001443629\n",
      "icorr = 3, Residual = 0.00000024706221754048, normFactor = 0.00000000000001443629\n",
      "icorr = 4, Residual = 0.00000008834300760093, normFactor = 0.00000000000001443629\n",
      "icorr = 5, Residual = 0.00000013807085067180, normFactor = 0.00000000000001443629\n",
      "icorr = 6, Residual = 0.00000005785482644201, normFactor = 0.00000000000001443630\n",
      "icorr = 7, Residual = 0.00000008496282649217, normFactor = 0.00000000000001443630\n",
      "icorr = 8, Residual = 0.00000003785380333909, normFactor = 0.00000000000001443630\n",
      "icorr = 9, Residual = 0.00000005418120256012, normFactor = 0.00000000000001443630\n",
      "icorr = 10, Residual = 0.00000002476860467011, normFactor = 0.00000000000001443630\n",
      "icorr = 11, Residual = 0.00000003505954631556, normFactor = 0.00000000000001443630\n",
      "icorr = 12, Residual = 0.00000001621206076782, normFactor = 0.00000000000001443630\n",
      "icorr = 13, Residual = 0.00000002283171833573, normFactor = 0.00000000000001443630\n",
      "icorr = 14, Residual = 0.00000001061469628333, normFactor = 0.00000000000001443630\n",
      "icorr = 15, Residual = 0.00000001491261952434, normFactor = 0.00000000000001443630\n",
      "icorr = 16, Residual = 0.00000000695133127249, normFactor = 0.00000000000001443630\n",
      "icorr = 17, Residual = 0.00000000975414936581, normFactor = 0.00000000000001443630\n",
      "icorr = 18, Residual = 0.00000000455285470892, normFactor = 0.00000000000001443630\n",
      "icorr = 19, Residual = 0.00000000638461755350, normFactor = 0.00000000000001443630\n",
      "icorr = 20, Residual = 0.00000000298216063754, normFactor = 0.00000000000001443630\n",
      "icorr = 21, Residual = 0.00000000418060801428, normFactor = 0.00000000000001443630\n",
      "icorr = 22, Residual = 0.00000000195341998794, normFactor = 0.00000000000001443630\n",
      "icorr = 23, Residual = 0.00000000273796151339, normFactor = 0.00000000000001443630\n",
      "icorr = 24, Residual = 0.00000000127958474602, normFactor = 0.00000000000001443630\n",
      "icorr = 25, Residual = 0.00000000179332096452, normFactor = 0.00000000000001443630\n",
      "icorr = 26, Residual = 0.00000000083819854918, normFactor = 0.00000000000001443630\n",
      "icorr = 27, Residual = 0.00000000117466223193, normFactor = 0.00000000000001443630\n",
      "icorr = 28, Residual = 0.00000000054907060115, normFactor = 0.00000000000001443630\n",
      "icorr = 29, Residual = 0.00000000076944896802, normFactor = 0.00000000000001443630\n",
      "icorr = 30, Residual = 0.00000000035967413261, normFactor = 0.00000000000001443630\n",
      "icorr = 31, Residual = 0.00000000050402957010, normFactor = 0.00000000000001443630\n",
      "icorr = 32, Residual = 0.00000000023560871692, normFactor = 0.00000000000001443630\n",
      "icorr = 33, Residual = 0.00000000033016653404, normFactor = 0.00000000000001443630\n",
      "icorr = 34, Residual = 0.00000000015433781119, normFactor = 0.00000000000001443630\n",
      "icorr = 35, Residual = 0.00000000021627694019, normFactor = 0.00000000000001443630\n",
      "icorr = 36, Residual = 0.00000000010109977371, normFactor = 0.00000000000001443630\n",
      "icorr = 37, Residual = 0.00000000014167342404, normFactor = 0.00000000000001443630\n",
      "icorr = 38, Residual = 0.00000000006622813823, normFactor = 0.00000000000001443630\n",
      "\n",
      "Time = 0.002\n",
      "icorr = 1, Residual = 0.00000031153611301419, normFactor = 0.00000000000001443630\n",
      "icorr = 2, Residual = 0.00000006700801648224, normFactor = 0.00000000000001443630\n",
      "icorr = 3, Residual = 0.00000012343761435557, normFactor = 0.00000000000001443630\n",
      "icorr = 4, Residual = 0.00000004412885465798, normFactor = 0.00000000000001443630\n",
      "icorr = 5, Residual = 0.00000006897371547282, normFactor = 0.00000000000001443630\n",
      "icorr = 6, Residual = 0.00000002889927593907, normFactor = 0.00000000000001443630\n",
      "icorr = 7, Residual = 0.00000004244093271294, normFactor = 0.00000000000001443630\n",
      "icorr = 8, Residual = 0.00000001890844222085, normFactor = 0.00000000000001443630\n",
      "icorr = 9, Residual = 0.00000002706407920255, normFactor = 0.00000000000001443630\n",
      "icorr = 10, Residual = 0.00000001237220717705, normFactor = 0.00000000000001443629\n",
      "icorr = 11, Residual = 0.00000001751240049253, normFactor = 0.00000000000001443629\n",
      "icorr = 12, Residual = 0.00000000809810618572, normFactor = 0.00000000000001443629\n",
      "icorr = 13, Residual = 0.00000001140447937367, normFactor = 0.00000000000001443629\n",
      "icorr = 14, Residual = 0.00000000530215507408, normFactor = 0.00000000000001443629\n",
      "icorr = 15, Residual = 0.00000000744885817150, normFactor = 0.00000000000001443629\n",
      "icorr = 16, Residual = 0.00000000347226610590, normFactor = 0.00000000000001443629\n",
      "icorr = 17, Residual = 0.00000000487219283454, normFactor = 0.00000000000001443629\n",
      "icorr = 18, Residual = 0.00000000227420143912, normFactor = 0.00000000000001443629\n",
      "icorr = 19, Residual = 0.00000000318911344677, normFactor = 0.00000000000001443629\n",
      "icorr = 20, Residual = 0.00000000148962132409, normFactor = 0.00000000000001443629\n",
      "icorr = 21, Residual = 0.00000000208820951304, normFactor = 0.00000000000001443629\n",
      "icorr = 22, Residual = 0.00000000097575363261, normFactor = 0.00000000000001443629\n",
      "icorr = 23, Residual = 0.00000000136760704455, normFactor = 0.00000000000001443629\n",
      "icorr = 24, Residual = 0.00000000063916473316, normFactor = 0.00000000000001443629\n",
      "icorr = 25, Residual = 0.00000000089576047392, normFactor = 0.00000000000001443629\n",
      "icorr = 26, Residual = 0.00000000041868938131, normFactor = 0.00000000000001443629\n",
      "icorr = 27, Residual = 0.00000000058674142601, normFactor = 0.00000000000001443629\n",
      "icorr = 28, Residual = 0.00000000027426651056, normFactor = 0.00000000000001443629\n",
      "icorr = 29, Residual = 0.00000000038433716455, normFactor = 0.00000000000001443629\n",
      "icorr = 30, Residual = 0.00000000017966076696, normFactor = 0.00000000000001443629\n",
      "icorr = 31, Residual = 0.00000000025176040469, normFactor = 0.00000000000001443629\n",
      "icorr = 32, Residual = 0.00000000011768839779, normFactor = 0.00000000000001443629\n",
      "icorr = 33, Residual = 0.00000000016491576921, normFactor = 0.00000000000001443629\n",
      "icorr = 34, Residual = 0.00000000007709346621, normFactor = 0.00000000000001443629\n",
      "\n",
      "Time = 0.003\n",
      "icorr = 1, Residual = 0.00000000010899876778, normFactor = 0.00000000000001443629\n",
      "icorr = 2, Residual = 0.00000000005070457309, normFactor = 0.00000000000001443629\n",
      "\n",
      "Time = 0.004\n",
      "icorr = 1, Residual = 0.00000000007092278820, normFactor = 0.00000000000001443629\n",
      "\n",
      "Time = 0.005\n",
      "icorr = 1, Residual = 0.00000000003316894055, normFactor = 0.00000000000001443629\n",
      "\n",
      "Time = 0.006\n",
      "icorr = 1, Residual = 0.00000000004648119804, normFactor = 0.00000000000001443629\n",
      "\n",
      "Time = 0.007\n",
      "icorr = 1, Residual = 0.00000000002172925572, normFactor = 0.00000000000001443629\n",
      "\n",
      "Time = 0.008\n",
      "icorr = 1, Residual = 0.00000000003045012520, normFactor = 0.00000000000001443629\n",
      "\n",
      "Time = 0.009000000000000001\n",
      "icorr = 1, Residual = 0.00000000001423293997, normFactor = 0.00000000000001443629\n"
     ]
    },
    {
     "data": {
      "application/vnd.plotly.v1+json": {
       "config": {
        "plotlyServerURL": "https://plot.ly"
       },
       "data": [
        {
         "type": "surface",
         "x": [
          [
           0,
           0.000625,
           0.001875,
           0.0031249999999999997,
           0.0043749999999999995,
           0.005624999999999999,
           0.006874999999999998,
           0.008124999999999999,
           0.009375,
           0.01
          ],
          [
           0,
           0.000625,
           0.001875,
           0.0031249999999999997,
           0.0043749999999999995,
           0.005624999999999999,
           0.006874999999999998,
           0.008124999999999999,
           0.009375,
           0.01
          ],
          [
           0,
           0.000625,
           0.001875,
           0.0031249999999999997,
           0.0043749999999999995,
           0.005624999999999999,
           0.006874999999999998,
           0.008124999999999999,
           0.009375,
           0.01
          ],
          [
           0,
           0.000625,
           0.001875,
           0.0031249999999999997,
           0.0043749999999999995,
           0.005624999999999999,
           0.006874999999999998,
           0.008124999999999999,
           0.009375,
           0.01
          ],
          [
           0,
           0.000625,
           0.001875,
           0.0031249999999999997,
           0.0043749999999999995,
           0.005624999999999999,
           0.006874999999999998,
           0.008124999999999999,
           0.009375,
           0.01
          ],
          [
           0,
           0.000625,
           0.001875,
           0.0031249999999999997,
           0.0043749999999999995,
           0.005624999999999999,
           0.006874999999999998,
           0.008124999999999999,
           0.009375,
           0.01
          ],
          [
           0,
           0.000625,
           0.001875,
           0.0031249999999999997,
           0.0043749999999999995,
           0.005624999999999999,
           0.006874999999999998,
           0.008124999999999999,
           0.009375,
           0.01
          ],
          [
           0,
           0.000625,
           0.001875,
           0.0031249999999999997,
           0.0043749999999999995,
           0.005624999999999999,
           0.006874999999999998,
           0.008124999999999999,
           0.009375,
           0.01
          ],
          [
           0,
           0.000625,
           0.001875,
           0.0031249999999999997,
           0.0043749999999999995,
           0.005624999999999999,
           0.006874999999999998,
           0.008124999999999999,
           0.009375,
           0.01
          ],
          [
           0,
           0.000625,
           0.001875,
           0.0031249999999999997,
           0.0043749999999999995,
           0.005624999999999999,
           0.006874999999999998,
           0.008124999999999999,
           0.009375,
           0.01
          ]
         ],
         "y": [
          [
           0,
           0,
           0,
           0,
           0,
           0,
           0,
           0,
           0,
           0
          ],
          [
           0.000625,
           0.000625,
           0.000625,
           0.000625,
           0.000625,
           0.000625,
           0.000625,
           0.000625,
           0.000625,
           0.000625
          ],
          [
           0.001875,
           0.001875,
           0.001875,
           0.001875,
           0.001875,
           0.001875,
           0.001875,
           0.001875,
           0.001875,
           0.001875
          ],
          [
           0.0031249999999999997,
           0.0031249999999999997,
           0.0031249999999999997,
           0.0031249999999999997,
           0.0031249999999999997,
           0.0031249999999999997,
           0.0031249999999999997,
           0.0031249999999999997,
           0.0031249999999999997,
           0.0031249999999999997
          ],
          [
           0.0043749999999999995,
           0.0043749999999999995,
           0.0043749999999999995,
           0.0043749999999999995,
           0.0043749999999999995,
           0.0043749999999999995,
           0.0043749999999999995,
           0.0043749999999999995,
           0.0043749999999999995,
           0.0043749999999999995
          ],
          [
           0.005624999999999999,
           0.005624999999999999,
           0.005624999999999999,
           0.005624999999999999,
           0.005624999999999999,
           0.005624999999999999,
           0.005624999999999999,
           0.005624999999999999,
           0.005624999999999999,
           0.005624999999999999
          ],
          [
           0.006874999999999998,
           0.006874999999999998,
           0.006874999999999998,
           0.006874999999999998,
           0.006874999999999998,
           0.006874999999999998,
           0.006874999999999998,
           0.006874999999999998,
           0.006874999999999998,
           0.006874999999999998
          ],
          [
           0.008124999999999999,
           0.008124999999999999,
           0.008124999999999999,
           0.008124999999999999,
           0.008124999999999999,
           0.008124999999999999,
           0.008124999999999999,
           0.008124999999999999,
           0.008124999999999999,
           0.008124999999999999
          ],
          [
           0.009375,
           0.009375,
           0.009375,
           0.009375,
           0.009375,
           0.009375,
           0.009375,
           0.009375,
           0.009375,
           0.009375
          ],
          [
           0.01,
           0.01,
           0.01,
           0.01,
           0.01,
           0.01,
           0.01,
           0.01,
           0.01,
           0.01
          ]
         ],
         "z": [
          [
           0,
           1.2474689914987616e-9,
           5.926028069749499e-9,
           9.921819305060188e-9,
           1.40072526064089e-8,
           1.8201754488142746e-8,
           2.2553268945806637e-8,
           2.7107499502537652e-8,
           3.1901895140359904e-8,
           3.433579848866577e-8
          ],
          [
           4.517509052022935e-25,
           1.3990557170356622e-20,
           4.344814366252771e-9,
           8.44050927894133e-9,
           1.2538434367376125e-8,
           1.67841703644853e-8,
           2.121540191937181e-8,
           2.586434834927228e-8,
           3.091517648107722e-8,
           3.3429380839788145e-8
          ],
          [
           1.992878601317955e-22,
           5.989757139065522e-10,
           3.2250250806600864e-9,
           6.747261831219016e-9,
           1.0686201568428047e-8,
           1.494876601506181e-8,
           1.9486960682970075e-8,
           2.427182771959821e-8,
           2.9319211726972115e-8,
           3.1915188323419724e-8
          ],
          [
           6.008587317508212e-22,
           5.30504321695931e-10,
           2.7519630233830486e-9,
           5.920069597265923e-9,
           9.722159925149802e-9,
           1.3983835655434151e-8,
           1.8586931446288095e-8,
           2.3420006888902123e-8,
           2.833296228307669e-8,
           3.0645093449793064e-8
          ],
          [
           4.435165642689842e-23,
           4.880744494919846e-10,
           2.6006091047209368e-9,
           5.637679498304269e-9,
           9.369777343029734e-9,
           1.3620657882506285e-8,
           1.8243227810003806e-8,
           2.307642882744924e-8,
           2.787810814793329e-8,
           3.003221639304505e-8
          ],
          [
           8.321391915137133e-22,
           5.323007454867386e-10,
           2.706047738916926e-9,
           5.751353963302742e-9,
           9.467734355454285e-9,
           1.3697574524469231e-8,
           1.8301647099918257e-8,
           2.312102598526691e-8,
           2.7914081543751113e-8,
           3.006733765619941e-8
          ],
          [
           3.298934475441152e-22,
           6.752748116601847e-10,
           3.099275573395886e-9,
           6.2734682333879565e-9,
           1.0016575510834478e-8,
           1.4212453662910354e-8,
           1.8761037896896765e-8,
           2.3554024962831713e-8,
           2.8440875101169135e-8,
           3.074866592164613e-8
          ],
          [
           5.224228156120224e-22,
           9.716088452133653e-10,
           3.93321098151929e-9,
           7.359325690896215e-9,
           1.116486253118833e-8,
           1.5315499953238523e-8,
           1.9769567947221515e-8,
           2.4494071833029815e-8,
           2.9499337223817428e-8,
           3.208163001729568e-8
          ],
          [
           3.7697390018530395e-22,
           1.7263911532588408e-9,
           5.550242162852486e-9,
           9.25441052843592e-9,
           1.3141009717979305e-8,
           1.7247601448203883e-8,
           2.1584644529023212e-8,
           2.616784823157363e-8,
           3.116572063941821e-8,
           3.366808708981185e-8
          ],
          [
           0,
           3.5085185286440786e-9,
           6.893912836294059e-9,
           1.069563132184643e-8,
           1.459855904303283e-8,
           1.8679173414449092e-8,
           2.295048023642463e-8,
           2.7445558582651288e-8,
           3.2194997299709354e-8,
           3.457665724437006e-8
          ]
         ]
        }
       ],
       "layout": {
        "template": {
         "data": {
          "bar": [
           {
            "error_x": {
             "color": "#2a3f5f"
            },
            "error_y": {
             "color": "#2a3f5f"
            },
            "marker": {
             "line": {
              "color": "#E5ECF6",
              "width": 0.5
             },
             "pattern": {
              "fillmode": "overlay",
              "size": 10,
              "solidity": 0.2
             }
            },
            "type": "bar"
           }
          ],
          "barpolar": [
           {
            "marker": {
             "line": {
              "color": "#E5ECF6",
              "width": 0.5
             },
             "pattern": {
              "fillmode": "overlay",
              "size": 10,
              "solidity": 0.2
             }
            },
            "type": "barpolar"
           }
          ],
          "carpet": [
           {
            "aaxis": {
             "endlinecolor": "#2a3f5f",
             "gridcolor": "white",
             "linecolor": "white",
             "minorgridcolor": "white",
             "startlinecolor": "#2a3f5f"
            },
            "baxis": {
             "endlinecolor": "#2a3f5f",
             "gridcolor": "white",
             "linecolor": "white",
             "minorgridcolor": "white",
             "startlinecolor": "#2a3f5f"
            },
            "type": "carpet"
           }
          ],
          "choropleth": [
           {
            "colorbar": {
             "outlinewidth": 0,
             "ticks": ""
            },
            "type": "choropleth"
           }
          ],
          "contour": [
           {
            "colorbar": {
             "outlinewidth": 0,
             "ticks": ""
            },
            "colorscale": [
             [
              0,
              "#0d0887"
             ],
             [
              0.1111111111111111,
              "#46039f"
             ],
             [
              0.2222222222222222,
              "#7201a8"
             ],
             [
              0.3333333333333333,
              "#9c179e"
             ],
             [
              0.4444444444444444,
              "#bd3786"
             ],
             [
              0.5555555555555556,
              "#d8576b"
             ],
             [
              0.6666666666666666,
              "#ed7953"
             ],
             [
              0.7777777777777778,
              "#fb9f3a"
             ],
             [
              0.8888888888888888,
              "#fdca26"
             ],
             [
              1,
              "#f0f921"
             ]
            ],
            "type": "contour"
           }
          ],
          "contourcarpet": [
           {
            "colorbar": {
             "outlinewidth": 0,
             "ticks": ""
            },
            "type": "contourcarpet"
           }
          ],
          "heatmap": [
           {
            "colorbar": {
             "outlinewidth": 0,
             "ticks": ""
            },
            "colorscale": [
             [
              0,
              "#0d0887"
             ],
             [
              0.1111111111111111,
              "#46039f"
             ],
             [
              0.2222222222222222,
              "#7201a8"
             ],
             [
              0.3333333333333333,
              "#9c179e"
             ],
             [
              0.4444444444444444,
              "#bd3786"
             ],
             [
              0.5555555555555556,
              "#d8576b"
             ],
             [
              0.6666666666666666,
              "#ed7953"
             ],
             [
              0.7777777777777778,
              "#fb9f3a"
             ],
             [
              0.8888888888888888,
              "#fdca26"
             ],
             [
              1,
              "#f0f921"
             ]
            ],
            "type": "heatmap"
           }
          ],
          "heatmapgl": [
           {
            "colorbar": {
             "outlinewidth": 0,
             "ticks": ""
            },
            "colorscale": [
             [
              0,
              "#0d0887"
             ],
             [
              0.1111111111111111,
              "#46039f"
             ],
             [
              0.2222222222222222,
              "#7201a8"
             ],
             [
              0.3333333333333333,
              "#9c179e"
             ],
             [
              0.4444444444444444,
              "#bd3786"
             ],
             [
              0.5555555555555556,
              "#d8576b"
             ],
             [
              0.6666666666666666,
              "#ed7953"
             ],
             [
              0.7777777777777778,
              "#fb9f3a"
             ],
             [
              0.8888888888888888,
              "#fdca26"
             ],
             [
              1,
              "#f0f921"
             ]
            ],
            "type": "heatmapgl"
           }
          ],
          "histogram": [
           {
            "marker": {
             "pattern": {
              "fillmode": "overlay",
              "size": 10,
              "solidity": 0.2
             }
            },
            "type": "histogram"
           }
          ],
          "histogram2d": [
           {
            "colorbar": {
             "outlinewidth": 0,
             "ticks": ""
            },
            "colorscale": [
             [
              0,
              "#0d0887"
             ],
             [
              0.1111111111111111,
              "#46039f"
             ],
             [
              0.2222222222222222,
              "#7201a8"
             ],
             [
              0.3333333333333333,
              "#9c179e"
             ],
             [
              0.4444444444444444,
              "#bd3786"
             ],
             [
              0.5555555555555556,
              "#d8576b"
             ],
             [
              0.6666666666666666,
              "#ed7953"
             ],
             [
              0.7777777777777778,
              "#fb9f3a"
             ],
             [
              0.8888888888888888,
              "#fdca26"
             ],
             [
              1,
              "#f0f921"
             ]
            ],
            "type": "histogram2d"
           }
          ],
          "histogram2dcontour": [
           {
            "colorbar": {
             "outlinewidth": 0,
             "ticks": ""
            },
            "colorscale": [
             [
              0,
              "#0d0887"
             ],
             [
              0.1111111111111111,
              "#46039f"
             ],
             [
              0.2222222222222222,
              "#7201a8"
             ],
             [
              0.3333333333333333,
              "#9c179e"
             ],
             [
              0.4444444444444444,
              "#bd3786"
             ],
             [
              0.5555555555555556,
              "#d8576b"
             ],
             [
              0.6666666666666666,
              "#ed7953"
             ],
             [
              0.7777777777777778,
              "#fb9f3a"
             ],
             [
              0.8888888888888888,
              "#fdca26"
             ],
             [
              1,
              "#f0f921"
             ]
            ],
            "type": "histogram2dcontour"
           }
          ],
          "mesh3d": [
           {
            "colorbar": {
             "outlinewidth": 0,
             "ticks": ""
            },
            "type": "mesh3d"
           }
          ],
          "parcoords": [
           {
            "line": {
             "colorbar": {
              "outlinewidth": 0,
              "ticks": ""
             }
            },
            "type": "parcoords"
           }
          ],
          "pie": [
           {
            "automargin": true,
            "type": "pie"
           }
          ],
          "scatter": [
           {
            "marker": {
             "colorbar": {
              "outlinewidth": 0,
              "ticks": ""
             }
            },
            "type": "scatter"
           }
          ],
          "scatter3d": [
           {
            "line": {
             "colorbar": {
              "outlinewidth": 0,
              "ticks": ""
             }
            },
            "marker": {
             "colorbar": {
              "outlinewidth": 0,
              "ticks": ""
             }
            },
            "type": "scatter3d"
           }
          ],
          "scattercarpet": [
           {
            "marker": {
             "colorbar": {
              "outlinewidth": 0,
              "ticks": ""
             }
            },
            "type": "scattercarpet"
           }
          ],
          "scattergeo": [
           {
            "marker": {
             "colorbar": {
              "outlinewidth": 0,
              "ticks": ""
             }
            },
            "type": "scattergeo"
           }
          ],
          "scattergl": [
           {
            "marker": {
             "colorbar": {
              "outlinewidth": 0,
              "ticks": ""
             }
            },
            "type": "scattergl"
           }
          ],
          "scattermapbox": [
           {
            "marker": {
             "colorbar": {
              "outlinewidth": 0,
              "ticks": ""
             }
            },
            "type": "scattermapbox"
           }
          ],
          "scatterpolar": [
           {
            "marker": {
             "colorbar": {
              "outlinewidth": 0,
              "ticks": ""
             }
            },
            "type": "scatterpolar"
           }
          ],
          "scatterpolargl": [
           {
            "marker": {
             "colorbar": {
              "outlinewidth": 0,
              "ticks": ""
             }
            },
            "type": "scatterpolargl"
           }
          ],
          "scatterternary": [
           {
            "marker": {
             "colorbar": {
              "outlinewidth": 0,
              "ticks": ""
             }
            },
            "type": "scatterternary"
           }
          ],
          "surface": [
           {
            "colorbar": {
             "outlinewidth": 0,
             "ticks": ""
            },
            "colorscale": [
             [
              0,
              "#0d0887"
             ],
             [
              0.1111111111111111,
              "#46039f"
             ],
             [
              0.2222222222222222,
              "#7201a8"
             ],
             [
              0.3333333333333333,
              "#9c179e"
             ],
             [
              0.4444444444444444,
              "#bd3786"
             ],
             [
              0.5555555555555556,
              "#d8576b"
             ],
             [
              0.6666666666666666,
              "#ed7953"
             ],
             [
              0.7777777777777778,
              "#fb9f3a"
             ],
             [
              0.8888888888888888,
              "#fdca26"
             ],
             [
              1,
              "#f0f921"
             ]
            ],
            "type": "surface"
           }
          ],
          "table": [
           {
            "cells": {
             "fill": {
              "color": "#EBF0F8"
             },
             "line": {
              "color": "white"
             }
            },
            "header": {
             "fill": {
              "color": "#C8D4E3"
             },
             "line": {
              "color": "white"
             }
            },
            "type": "table"
           }
          ]
         },
         "layout": {
          "annotationdefaults": {
           "arrowcolor": "#2a3f5f",
           "arrowhead": 0,
           "arrowwidth": 1
          },
          "autotypenumbers": "strict",
          "coloraxis": {
           "colorbar": {
            "outlinewidth": 0,
            "ticks": ""
           }
          },
          "colorscale": {
           "diverging": [
            [
             0,
             "#8e0152"
            ],
            [
             0.1,
             "#c51b7d"
            ],
            [
             0.2,
             "#de77ae"
            ],
            [
             0.3,
             "#f1b6da"
            ],
            [
             0.4,
             "#fde0ef"
            ],
            [
             0.5,
             "#f7f7f7"
            ],
            [
             0.6,
             "#e6f5d0"
            ],
            [
             0.7,
             "#b8e186"
            ],
            [
             0.8,
             "#7fbc41"
            ],
            [
             0.9,
             "#4d9221"
            ],
            [
             1,
             "#276419"
            ]
           ],
           "sequential": [
            [
             0,
             "#0d0887"
            ],
            [
             0.1111111111111111,
             "#46039f"
            ],
            [
             0.2222222222222222,
             "#7201a8"
            ],
            [
             0.3333333333333333,
             "#9c179e"
            ],
            [
             0.4444444444444444,
             "#bd3786"
            ],
            [
             0.5555555555555556,
             "#d8576b"
            ],
            [
             0.6666666666666666,
             "#ed7953"
            ],
            [
             0.7777777777777778,
             "#fb9f3a"
            ],
            [
             0.8888888888888888,
             "#fdca26"
            ],
            [
             1,
             "#f0f921"
            ]
           ],
           "sequentialminus": [
            [
             0,
             "#0d0887"
            ],
            [
             0.1111111111111111,
             "#46039f"
            ],
            [
             0.2222222222222222,
             "#7201a8"
            ],
            [
             0.3333333333333333,
             "#9c179e"
            ],
            [
             0.4444444444444444,
             "#bd3786"
            ],
            [
             0.5555555555555556,
             "#d8576b"
            ],
            [
             0.6666666666666666,
             "#ed7953"
            ],
            [
             0.7777777777777778,
             "#fb9f3a"
            ],
            [
             0.8888888888888888,
             "#fdca26"
            ],
            [
             1,
             "#f0f921"
            ]
           ]
          },
          "colorway": [
           "#636efa",
           "#EF553B",
           "#00cc96",
           "#ab63fa",
           "#FFA15A",
           "#19d3f3",
           "#FF6692",
           "#B6E880",
           "#FF97FF",
           "#FECB52"
          ],
          "font": {
           "color": "#2a3f5f"
          },
          "geo": {
           "bgcolor": "white",
           "lakecolor": "white",
           "landcolor": "#E5ECF6",
           "showlakes": true,
           "showland": true,
           "subunitcolor": "white"
          },
          "hoverlabel": {
           "align": "left"
          },
          "hovermode": "closest",
          "mapbox": {
           "style": "light"
          },
          "paper_bgcolor": "white",
          "plot_bgcolor": "#E5ECF6",
          "polar": {
           "angularaxis": {
            "gridcolor": "white",
            "linecolor": "white",
            "ticks": ""
           },
           "bgcolor": "#E5ECF6",
           "radialaxis": {
            "gridcolor": "white",
            "linecolor": "white",
            "ticks": ""
           }
          },
          "scene": {
           "xaxis": {
            "backgroundcolor": "#E5ECF6",
            "gridcolor": "white",
            "gridwidth": 2,
            "linecolor": "white",
            "showbackground": true,
            "ticks": "",
            "zerolinecolor": "white"
           },
           "yaxis": {
            "backgroundcolor": "#E5ECF6",
            "gridcolor": "white",
            "gridwidth": 2,
            "linecolor": "white",
            "showbackground": true,
            "ticks": "",
            "zerolinecolor": "white"
           },
           "zaxis": {
            "backgroundcolor": "#E5ECF6",
            "gridcolor": "white",
            "gridwidth": 2,
            "linecolor": "white",
            "showbackground": true,
            "ticks": "",
            "zerolinecolor": "white"
           }
          },
          "shapedefaults": {
           "line": {
            "color": "#2a3f5f"
           }
          },
          "ternary": {
           "aaxis": {
            "gridcolor": "white",
            "linecolor": "white",
            "ticks": ""
           },
           "baxis": {
            "gridcolor": "white",
            "linecolor": "white",
            "ticks": ""
           },
           "bgcolor": "#E5ECF6",
           "caxis": {
            "gridcolor": "white",
            "linecolor": "white",
            "ticks": ""
           }
          },
          "title": {
           "x": 0.05
          },
          "xaxis": {
           "automargin": true,
           "gridcolor": "white",
           "linecolor": "white",
           "ticks": "",
           "title": {
            "standoff": 15
           },
           "zerolinecolor": "white",
           "zerolinewidth": 2
          },
          "yaxis": {
           "automargin": true,
           "gridcolor": "white",
           "linecolor": "white",
           "ticks": "",
           "title": {
            "standoff": 15
           },
           "zerolinecolor": "white",
           "zerolinewidth": 2
          }
         }
        }
       }
      },
      "text/html": [
       "<div>                            <div id=\"353e4e98-268c-4a2f-bd2f-da29def21d91\" class=\"plotly-graph-div\" style=\"height:525px; width:100%;\"></div>            <script type=\"text/javascript\">                require([\"plotly\"], function(Plotly) {                    window.PLOTLYENV=window.PLOTLYENV || {};                                    if (document.getElementById(\"353e4e98-268c-4a2f-bd2f-da29def21d91\")) {                    Plotly.newPlot(                        \"353e4e98-268c-4a2f-bd2f-da29def21d91\",                        [{\"x\":[[0.0,0.000625,0.001875,0.0031249999999999997,0.0043749999999999995,0.005624999999999999,0.006874999999999998,0.008124999999999999,0.009375,0.01],[0.0,0.000625,0.001875,0.0031249999999999997,0.0043749999999999995,0.005624999999999999,0.006874999999999998,0.008124999999999999,0.009375,0.01],[0.0,0.000625,0.001875,0.0031249999999999997,0.0043749999999999995,0.005624999999999999,0.006874999999999998,0.008124999999999999,0.009375,0.01],[0.0,0.000625,0.001875,0.0031249999999999997,0.0043749999999999995,0.005624999999999999,0.006874999999999998,0.008124999999999999,0.009375,0.01],[0.0,0.000625,0.001875,0.0031249999999999997,0.0043749999999999995,0.005624999999999999,0.006874999999999998,0.008124999999999999,0.009375,0.01],[0.0,0.000625,0.001875,0.0031249999999999997,0.0043749999999999995,0.005624999999999999,0.006874999999999998,0.008124999999999999,0.009375,0.01],[0.0,0.000625,0.001875,0.0031249999999999997,0.0043749999999999995,0.005624999999999999,0.006874999999999998,0.008124999999999999,0.009375,0.01],[0.0,0.000625,0.001875,0.0031249999999999997,0.0043749999999999995,0.005624999999999999,0.006874999999999998,0.008124999999999999,0.009375,0.01],[0.0,0.000625,0.001875,0.0031249999999999997,0.0043749999999999995,0.005624999999999999,0.006874999999999998,0.008124999999999999,0.009375,0.01],[0.0,0.000625,0.001875,0.0031249999999999997,0.0043749999999999995,0.005624999999999999,0.006874999999999998,0.008124999999999999,0.009375,0.01]],\"y\":[[0.0,0.0,0.0,0.0,0.0,0.0,0.0,0.0,0.0,0.0],[0.000625,0.000625,0.000625,0.000625,0.000625,0.000625,0.000625,0.000625,0.000625,0.000625],[0.001875,0.001875,0.001875,0.001875,0.001875,0.001875,0.001875,0.001875,0.001875,0.001875],[0.0031249999999999997,0.0031249999999999997,0.0031249999999999997,0.0031249999999999997,0.0031249999999999997,0.0031249999999999997,0.0031249999999999997,0.0031249999999999997,0.0031249999999999997,0.0031249999999999997],[0.0043749999999999995,0.0043749999999999995,0.0043749999999999995,0.0043749999999999995,0.0043749999999999995,0.0043749999999999995,0.0043749999999999995,0.0043749999999999995,0.0043749999999999995,0.0043749999999999995],[0.005624999999999999,0.005624999999999999,0.005624999999999999,0.005624999999999999,0.005624999999999999,0.005624999999999999,0.005624999999999999,0.005624999999999999,0.005624999999999999,0.005624999999999999],[0.006874999999999998,0.006874999999999998,0.006874999999999998,0.006874999999999998,0.006874999999999998,0.006874999999999998,0.006874999999999998,0.006874999999999998,0.006874999999999998,0.006874999999999998],[0.008124999999999999,0.008124999999999999,0.008124999999999999,0.008124999999999999,0.008124999999999999,0.008124999999999999,0.008124999999999999,0.008124999999999999,0.008124999999999999,0.008124999999999999],[0.009375,0.009375,0.009375,0.009375,0.009375,0.009375,0.009375,0.009375,0.009375,0.009375],[0.01,0.01,0.01,0.01,0.01,0.01,0.01,0.01,0.01,0.01]],\"z\":[[0.0,1.2474689914987616e-09,5.926028069749499e-09,9.921819305060188e-09,1.40072526064089e-08,1.8201754488142746e-08,2.2553268945806637e-08,2.7107499502537652e-08,3.1901895140359904e-08,3.433579848866577e-08],[4.517509052022935e-25,1.3990557170356622e-20,4.344814366252771e-09,8.44050927894133e-09,1.2538434367376125e-08,1.67841703644853e-08,2.121540191937181e-08,2.586434834927228e-08,3.091517648107722e-08,3.3429380839788145e-08],[1.992878601317955e-22,5.989757139065522e-10,3.2250250806600864e-09,6.747261831219016e-09,1.0686201568428047e-08,1.494876601506181e-08,1.9486960682970075e-08,2.427182771959821e-08,2.9319211726972115e-08,3.1915188323419724e-08],[6.008587317508212e-22,5.30504321695931e-10,2.7519630233830486e-09,5.920069597265923e-09,9.722159925149802e-09,1.3983835655434151e-08,1.8586931446288095e-08,2.3420006888902123e-08,2.833296228307669e-08,3.0645093449793064e-08],[4.435165642689842e-23,4.880744494919846e-10,2.6006091047209368e-09,5.637679498304269e-09,9.369777343029734e-09,1.3620657882506285e-08,1.8243227810003806e-08,2.307642882744924e-08,2.787810814793329e-08,3.003221639304505e-08],[8.321391915137133e-22,5.323007454867386e-10,2.706047738916926e-09,5.751353963302742e-09,9.467734355454285e-09,1.3697574524469231e-08,1.8301647099918257e-08,2.312102598526691e-08,2.7914081543751113e-08,3.006733765619941e-08],[3.298934475441152e-22,6.752748116601847e-10,3.099275573395886e-09,6.2734682333879565e-09,1.0016575510834478e-08,1.4212453662910354e-08,1.8761037896896765e-08,2.3554024962831713e-08,2.8440875101169135e-08,3.074866592164613e-08],[5.224228156120224e-22,9.716088452133653e-10,3.93321098151929e-09,7.359325690896215e-09,1.116486253118833e-08,1.5315499953238523e-08,1.9769567947221515e-08,2.4494071833029815e-08,2.9499337223817428e-08,3.208163001729568e-08],[3.7697390018530395e-22,1.7263911532588408e-09,5.550242162852486e-09,9.25441052843592e-09,1.3141009717979305e-08,1.7247601448203883e-08,2.1584644529023212e-08,2.616784823157363e-08,3.116572063941821e-08,3.366808708981185e-08],[0.0,3.5085185286440786e-09,6.893912836294059e-09,1.069563132184643e-08,1.459855904303283e-08,1.8679173414449092e-08,2.295048023642463e-08,2.7445558582651288e-08,3.2194997299709354e-08,3.457665724437006e-08]],\"type\":\"surface\"}],                        {\"template\":{\"data\":{\"bar\":[{\"error_x\":{\"color\":\"#2a3f5f\"},\"error_y\":{\"color\":\"#2a3f5f\"},\"marker\":{\"line\":{\"color\":\"#E5ECF6\",\"width\":0.5},\"pattern\":{\"fillmode\":\"overlay\",\"size\":10,\"solidity\":0.2}},\"type\":\"bar\"}],\"barpolar\":[{\"marker\":{\"line\":{\"color\":\"#E5ECF6\",\"width\":0.5},\"pattern\":{\"fillmode\":\"overlay\",\"size\":10,\"solidity\":0.2}},\"type\":\"barpolar\"}],\"carpet\":[{\"aaxis\":{\"endlinecolor\":\"#2a3f5f\",\"gridcolor\":\"white\",\"linecolor\":\"white\",\"minorgridcolor\":\"white\",\"startlinecolor\":\"#2a3f5f\"},\"baxis\":{\"endlinecolor\":\"#2a3f5f\",\"gridcolor\":\"white\",\"linecolor\":\"white\",\"minorgridcolor\":\"white\",\"startlinecolor\":\"#2a3f5f\"},\"type\":\"carpet\"}],\"choropleth\":[{\"colorbar\":{\"outlinewidth\":0,\"ticks\":\"\"},\"type\":\"choropleth\"}],\"contour\":[{\"colorbar\":{\"outlinewidth\":0,\"ticks\":\"\"},\"colorscale\":[[0.0,\"#0d0887\"],[0.1111111111111111,\"#46039f\"],[0.2222222222222222,\"#7201a8\"],[0.3333333333333333,\"#9c179e\"],[0.4444444444444444,\"#bd3786\"],[0.5555555555555556,\"#d8576b\"],[0.6666666666666666,\"#ed7953\"],[0.7777777777777778,\"#fb9f3a\"],[0.8888888888888888,\"#fdca26\"],[1.0,\"#f0f921\"]],\"type\":\"contour\"}],\"contourcarpet\":[{\"colorbar\":{\"outlinewidth\":0,\"ticks\":\"\"},\"type\":\"contourcarpet\"}],\"heatmap\":[{\"colorbar\":{\"outlinewidth\":0,\"ticks\":\"\"},\"colorscale\":[[0.0,\"#0d0887\"],[0.1111111111111111,\"#46039f\"],[0.2222222222222222,\"#7201a8\"],[0.3333333333333333,\"#9c179e\"],[0.4444444444444444,\"#bd3786\"],[0.5555555555555556,\"#d8576b\"],[0.6666666666666666,\"#ed7953\"],[0.7777777777777778,\"#fb9f3a\"],[0.8888888888888888,\"#fdca26\"],[1.0,\"#f0f921\"]],\"type\":\"heatmap\"}],\"heatmapgl\":[{\"colorbar\":{\"outlinewidth\":0,\"ticks\":\"\"},\"colorscale\":[[0.0,\"#0d0887\"],[0.1111111111111111,\"#46039f\"],[0.2222222222222222,\"#7201a8\"],[0.3333333333333333,\"#9c179e\"],[0.4444444444444444,\"#bd3786\"],[0.5555555555555556,\"#d8576b\"],[0.6666666666666666,\"#ed7953\"],[0.7777777777777778,\"#fb9f3a\"],[0.8888888888888888,\"#fdca26\"],[1.0,\"#f0f921\"]],\"type\":\"heatmapgl\"}],\"histogram\":[{\"marker\":{\"pattern\":{\"fillmode\":\"overlay\",\"size\":10,\"solidity\":0.2}},\"type\":\"histogram\"}],\"histogram2d\":[{\"colorbar\":{\"outlinewidth\":0,\"ticks\":\"\"},\"colorscale\":[[0.0,\"#0d0887\"],[0.1111111111111111,\"#46039f\"],[0.2222222222222222,\"#7201a8\"],[0.3333333333333333,\"#9c179e\"],[0.4444444444444444,\"#bd3786\"],[0.5555555555555556,\"#d8576b\"],[0.6666666666666666,\"#ed7953\"],[0.7777777777777778,\"#fb9f3a\"],[0.8888888888888888,\"#fdca26\"],[1.0,\"#f0f921\"]],\"type\":\"histogram2d\"}],\"histogram2dcontour\":[{\"colorbar\":{\"outlinewidth\":0,\"ticks\":\"\"},\"colorscale\":[[0.0,\"#0d0887\"],[0.1111111111111111,\"#46039f\"],[0.2222222222222222,\"#7201a8\"],[0.3333333333333333,\"#9c179e\"],[0.4444444444444444,\"#bd3786\"],[0.5555555555555556,\"#d8576b\"],[0.6666666666666666,\"#ed7953\"],[0.7777777777777778,\"#fb9f3a\"],[0.8888888888888888,\"#fdca26\"],[1.0,\"#f0f921\"]],\"type\":\"histogram2dcontour\"}],\"mesh3d\":[{\"colorbar\":{\"outlinewidth\":0,\"ticks\":\"\"},\"type\":\"mesh3d\"}],\"parcoords\":[{\"line\":{\"colorbar\":{\"outlinewidth\":0,\"ticks\":\"\"}},\"type\":\"parcoords\"}],\"pie\":[{\"automargin\":true,\"type\":\"pie\"}],\"scatter\":[{\"marker\":{\"colorbar\":{\"outlinewidth\":0,\"ticks\":\"\"}},\"type\":\"scatter\"}],\"scatter3d\":[{\"line\":{\"colorbar\":{\"outlinewidth\":0,\"ticks\":\"\"}},\"marker\":{\"colorbar\":{\"outlinewidth\":0,\"ticks\":\"\"}},\"type\":\"scatter3d\"}],\"scattercarpet\":[{\"marker\":{\"colorbar\":{\"outlinewidth\":0,\"ticks\":\"\"}},\"type\":\"scattercarpet\"}],\"scattergeo\":[{\"marker\":{\"colorbar\":{\"outlinewidth\":0,\"ticks\":\"\"}},\"type\":\"scattergeo\"}],\"scattergl\":[{\"marker\":{\"colorbar\":{\"outlinewidth\":0,\"ticks\":\"\"}},\"type\":\"scattergl\"}],\"scattermapbox\":[{\"marker\":{\"colorbar\":{\"outlinewidth\":0,\"ticks\":\"\"}},\"type\":\"scattermapbox\"}],\"scatterpolar\":[{\"marker\":{\"colorbar\":{\"outlinewidth\":0,\"ticks\":\"\"}},\"type\":\"scatterpolar\"}],\"scatterpolargl\":[{\"marker\":{\"colorbar\":{\"outlinewidth\":0,\"ticks\":\"\"}},\"type\":\"scatterpolargl\"}],\"scatterternary\":[{\"marker\":{\"colorbar\":{\"outlinewidth\":0,\"ticks\":\"\"}},\"type\":\"scatterternary\"}],\"surface\":[{\"colorbar\":{\"outlinewidth\":0,\"ticks\":\"\"},\"colorscale\":[[0.0,\"#0d0887\"],[0.1111111111111111,\"#46039f\"],[0.2222222222222222,\"#7201a8\"],[0.3333333333333333,\"#9c179e\"],[0.4444444444444444,\"#bd3786\"],[0.5555555555555556,\"#d8576b\"],[0.6666666666666666,\"#ed7953\"],[0.7777777777777778,\"#fb9f3a\"],[0.8888888888888888,\"#fdca26\"],[1.0,\"#f0f921\"]],\"type\":\"surface\"}],\"table\":[{\"cells\":{\"fill\":{\"color\":\"#EBF0F8\"},\"line\":{\"color\":\"white\"}},\"header\":{\"fill\":{\"color\":\"#C8D4E3\"},\"line\":{\"color\":\"white\"}},\"type\":\"table\"}]},\"layout\":{\"annotationdefaults\":{\"arrowcolor\":\"#2a3f5f\",\"arrowhead\":0,\"arrowwidth\":1},\"autotypenumbers\":\"strict\",\"coloraxis\":{\"colorbar\":{\"outlinewidth\":0,\"ticks\":\"\"}},\"colorscale\":{\"diverging\":[[0,\"#8e0152\"],[0.1,\"#c51b7d\"],[0.2,\"#de77ae\"],[0.3,\"#f1b6da\"],[0.4,\"#fde0ef\"],[0.5,\"#f7f7f7\"],[0.6,\"#e6f5d0\"],[0.7,\"#b8e186\"],[0.8,\"#7fbc41\"],[0.9,\"#4d9221\"],[1,\"#276419\"]],\"sequential\":[[0.0,\"#0d0887\"],[0.1111111111111111,\"#46039f\"],[0.2222222222222222,\"#7201a8\"],[0.3333333333333333,\"#9c179e\"],[0.4444444444444444,\"#bd3786\"],[0.5555555555555556,\"#d8576b\"],[0.6666666666666666,\"#ed7953\"],[0.7777777777777778,\"#fb9f3a\"],[0.8888888888888888,\"#fdca26\"],[1.0,\"#f0f921\"]],\"sequentialminus\":[[0.0,\"#0d0887\"],[0.1111111111111111,\"#46039f\"],[0.2222222222222222,\"#7201a8\"],[0.3333333333333333,\"#9c179e\"],[0.4444444444444444,\"#bd3786\"],[0.5555555555555556,\"#d8576b\"],[0.6666666666666666,\"#ed7953\"],[0.7777777777777778,\"#fb9f3a\"],[0.8888888888888888,\"#fdca26\"],[1.0,\"#f0f921\"]]},\"colorway\":[\"#636efa\",\"#EF553B\",\"#00cc96\",\"#ab63fa\",\"#FFA15A\",\"#19d3f3\",\"#FF6692\",\"#B6E880\",\"#FF97FF\",\"#FECB52\"],\"font\":{\"color\":\"#2a3f5f\"},\"geo\":{\"bgcolor\":\"white\",\"lakecolor\":\"white\",\"landcolor\":\"#E5ECF6\",\"showlakes\":true,\"showland\":true,\"subunitcolor\":\"white\"},\"hoverlabel\":{\"align\":\"left\"},\"hovermode\":\"closest\",\"mapbox\":{\"style\":\"light\"},\"paper_bgcolor\":\"white\",\"plot_bgcolor\":\"#E5ECF6\",\"polar\":{\"angularaxis\":{\"gridcolor\":\"white\",\"linecolor\":\"white\",\"ticks\":\"\"},\"bgcolor\":\"#E5ECF6\",\"radialaxis\":{\"gridcolor\":\"white\",\"linecolor\":\"white\",\"ticks\":\"\"}},\"scene\":{\"xaxis\":{\"backgroundcolor\":\"#E5ECF6\",\"gridcolor\":\"white\",\"gridwidth\":2,\"linecolor\":\"white\",\"showbackground\":true,\"ticks\":\"\",\"zerolinecolor\":\"white\"},\"yaxis\":{\"backgroundcolor\":\"#E5ECF6\",\"gridcolor\":\"white\",\"gridwidth\":2,\"linecolor\":\"white\",\"showbackground\":true,\"ticks\":\"\",\"zerolinecolor\":\"white\"},\"zaxis\":{\"backgroundcolor\":\"#E5ECF6\",\"gridcolor\":\"white\",\"gridwidth\":2,\"linecolor\":\"white\",\"showbackground\":true,\"ticks\":\"\",\"zerolinecolor\":\"white\"}},\"shapedefaults\":{\"line\":{\"color\":\"#2a3f5f\"}},\"ternary\":{\"aaxis\":{\"gridcolor\":\"white\",\"linecolor\":\"white\",\"ticks\":\"\"},\"baxis\":{\"gridcolor\":\"white\",\"linecolor\":\"white\",\"ticks\":\"\"},\"bgcolor\":\"#E5ECF6\",\"caxis\":{\"gridcolor\":\"white\",\"linecolor\":\"white\",\"ticks\":\"\"}},\"title\":{\"x\":0.05},\"xaxis\":{\"automargin\":true,\"gridcolor\":\"white\",\"linecolor\":\"white\",\"ticks\":\"\",\"title\":{\"standoff\":15},\"zerolinecolor\":\"white\",\"zerolinewidth\":2},\"yaxis\":{\"automargin\":true,\"gridcolor\":\"white\",\"linecolor\":\"white\",\"ticks\":\"\",\"title\":{\"standoff\":15},\"zerolinecolor\":\"white\",\"zerolinewidth\":2}}}},                        {\"responsive\": true}                    ).then(function(){\n",
       "                            \n",
       "var gd = document.getElementById('353e4e98-268c-4a2f-bd2f-da29def21d91');\n",
       "var x = new MutationObserver(function (mutations, observer) {{\n",
       "        var display = window.getComputedStyle(gd).display;\n",
       "        if (!display || display === 'none') {{\n",
       "            console.log([gd, 'removed!']);\n",
       "            Plotly.purge(gd);\n",
       "            observer.disconnect();\n",
       "        }}\n",
       "}});\n",
       "\n",
       "// Listen for the removal of the full notebook cells\n",
       "var notebookContainer = gd.closest('#notebook-container');\n",
       "if (notebookContainer) {{\n",
       "    x.observe(notebookContainer, {childList: true});\n",
       "}}\n",
       "\n",
       "// Listen for the clearing of the current output cell\n",
       "var outputEl = gd.closest('.output');\n",
       "if (outputEl) {{\n",
       "    x.observe(outputEl, {childList: true});\n",
       "}}\n",
       "\n",
       "                        })                };                });            </script>        </div>"
      ]
     },
     "metadata": {},
     "output_type": "display_data"
    },
    {
     "name": "stdout",
     "output_type": "stream",
     "text": [
      "U graph\n"
     ]
    },
    {
     "data": {
      "application/vnd.plotly.v1+json": {
       "config": {
        "plotlyServerURL": "https://plot.ly"
       },
       "data": [
        {
         "type": "surface",
         "x": [
          [
           0,
           0.000625,
           0.001875,
           0.0031249999999999997,
           0.0043749999999999995,
           0.005624999999999999,
           0.006874999999999998,
           0.008124999999999999,
           0.009375,
           0.01
          ],
          [
           0,
           0.000625,
           0.001875,
           0.0031249999999999997,
           0.0043749999999999995,
           0.005624999999999999,
           0.006874999999999998,
           0.008124999999999999,
           0.009375,
           0.01
          ],
          [
           0,
           0.000625,
           0.001875,
           0.0031249999999999997,
           0.0043749999999999995,
           0.005624999999999999,
           0.006874999999999998,
           0.008124999999999999,
           0.009375,
           0.01
          ],
          [
           0,
           0.000625,
           0.001875,
           0.0031249999999999997,
           0.0043749999999999995,
           0.005624999999999999,
           0.006874999999999998,
           0.008124999999999999,
           0.009375,
           0.01
          ],
          [
           0,
           0.000625,
           0.001875,
           0.0031249999999999997,
           0.0043749999999999995,
           0.005624999999999999,
           0.006874999999999998,
           0.008124999999999999,
           0.009375,
           0.01
          ],
          [
           0,
           0.000625,
           0.001875,
           0.0031249999999999997,
           0.0043749999999999995,
           0.005624999999999999,
           0.006874999999999998,
           0.008124999999999999,
           0.009375,
           0.01
          ],
          [
           0,
           0.000625,
           0.001875,
           0.0031249999999999997,
           0.0043749999999999995,
           0.005624999999999999,
           0.006874999999999998,
           0.008124999999999999,
           0.009375,
           0.01
          ],
          [
           0,
           0.000625,
           0.001875,
           0.0031249999999999997,
           0.0043749999999999995,
           0.005624999999999999,
           0.006874999999999998,
           0.008124999999999999,
           0.009375,
           0.01
          ],
          [
           0,
           0.000625,
           0.001875,
           0.0031249999999999997,
           0.0043749999999999995,
           0.005624999999999999,
           0.006874999999999998,
           0.008124999999999999,
           0.009375,
           0.01
          ],
          [
           0,
           0.000625,
           0.001875,
           0.0031249999999999997,
           0.0043749999999999995,
           0.005624999999999999,
           0.006874999999999998,
           0.008124999999999999,
           0.009375,
           0.01
          ]
         ],
         "y": [
          [
           0,
           0,
           0,
           0,
           0,
           0,
           0,
           0,
           0,
           0
          ],
          [
           0.000625,
           0.000625,
           0.000625,
           0.000625,
           0.000625,
           0.000625,
           0.000625,
           0.000625,
           0.000625,
           0.000625
          ],
          [
           0.001875,
           0.001875,
           0.001875,
           0.001875,
           0.001875,
           0.001875,
           0.001875,
           0.001875,
           0.001875,
           0.001875
          ],
          [
           0.0031249999999999997,
           0.0031249999999999997,
           0.0031249999999999997,
           0.0031249999999999997,
           0.0031249999999999997,
           0.0031249999999999997,
           0.0031249999999999997,
           0.0031249999999999997,
           0.0031249999999999997,
           0.0031249999999999997
          ],
          [
           0.0043749999999999995,
           0.0043749999999999995,
           0.0043749999999999995,
           0.0043749999999999995,
           0.0043749999999999995,
           0.0043749999999999995,
           0.0043749999999999995,
           0.0043749999999999995,
           0.0043749999999999995,
           0.0043749999999999995
          ],
          [
           0.005624999999999999,
           0.005624999999999999,
           0.005624999999999999,
           0.005624999999999999,
           0.005624999999999999,
           0.005624999999999999,
           0.005624999999999999,
           0.005624999999999999,
           0.005624999999999999,
           0.005624999999999999
          ],
          [
           0.006874999999999998,
           0.006874999999999998,
           0.006874999999999998,
           0.006874999999999998,
           0.006874999999999998,
           0.006874999999999998,
           0.006874999999999998,
           0.006874999999999998,
           0.006874999999999998,
           0.006874999999999998
          ],
          [
           0.008124999999999999,
           0.008124999999999999,
           0.008124999999999999,
           0.008124999999999999,
           0.008124999999999999,
           0.008124999999999999,
           0.008124999999999999,
           0.008124999999999999,
           0.008124999999999999,
           0.008124999999999999
          ],
          [
           0.009375,
           0.009375,
           0.009375,
           0.009375,
           0.009375,
           0.009375,
           0.009375,
           0.009375,
           0.009375,
           0.009375
          ],
          [
           0.01,
           0.01,
           0.01,
           0.01,
           0.01,
           0.01,
           0.01,
           0.01,
           0.01,
           0.01
          ]
         ],
         "z": [
          [
           0,
           -1.107918207919915e-15,
           -4.497879964577821e-15,
           -6.9522762377669495e-15,
           -9.059042384924482e-15,
           -1.0760486044111118e-14,
           -1.208502539535296e-14,
           -1.3037382034806638e-14,
           -1.3837811740829093e-14,
           -1.2771207696223287e-14
          ],
          [
           -4.517509052022935e-31,
           -1.3980997480641876e-26,
           -2.8715286788841454e-15,
           -5.245992837378286e-15,
           -7.158609582780044e-15,
           -8.670829113390494e-15,
           -9.813532028969765e-15,
           -1.0611787248413337e-14,
           -1.102939405349366e-14,
           -1.114204842084993e-14
          ],
          [
           -1.1804221578508631e-30,
           -5.01909421596152e-16,
           -1.7534373575384838e-15,
           -3.1499297030356156e-15,
           -4.402110758515411e-15,
           -5.416447712777671e-15,
           -6.165825218238492e-15,
           -6.651854453784331e-15,
           -6.9437947037784e-15,
           -7.057079609282176e-15
          ],
          [
           5.58528391886472e-29,
           -3.1529705475601627e-16,
           -9.505567393811986e-16,
           -1.6443520816655548e-15,
           -2.30574112914181e-15,
           -2.8569362300483384e-15,
           -3.2604933466858108e-15,
           -3.5136372176630167e-15,
           -3.6733093316830835e-15,
           -3.786781497440317e-15
          ],
          [
           -3.853229880055017e-29,
           -9.221479465911339e-17,
           -2.454604717994376e-16,
           -4.0795301038456156e-16,
           -5.749290734814518e-16,
           -7.234804122273793e-16,
           -8.358891791108908e-16,
           -9.074089466630656e-16,
           -9.57072379323321e-16,
           -9.966300695243255e-16
          ],
          [
           -1.237797480254284e-28,
           1.3029930687340174e-16,
           4.449865858782648e-16,
           7.70461242037285e-16,
           1.0557200841613358e-15,
           1.2775245724624787e-15,
           1.4305992644482083e-15,
           1.5225865642184252e-15,
           1.5817125981712314e-15,
           1.6240911159246437e-15
          ],
          [
           -1.181123275783451e-28,
           3.732685477412774e-16,
           1.2249075259018454e-15,
           2.0826666834384417e-15,
           2.8378232722581903e-15,
           3.4394304114787634e-15,
           3.8687737142871025e-15,
           4.134454296112002e-15,
           4.3000741948008936e-15,
           4.415082233371951e-15
          ],
          [
           3.6140072416183477e-28,
           6.888905774643839e-16,
           2.2605195048123682e-15,
           3.750018322512085e-15,
           5.022447466801299e-15,
           6.040430860835281e-15,
           6.790121851075055e-15,
           7.276528459285736e-15,
           7.568952491452091e-15,
           7.68343699066093e-15
          ],
          [
           7.063741426799498e-29,
           1.327955048654497e-15,
           3.899444531664525e-15,
           6.049009304182764e-15,
           7.853620075805553e-15,
           9.314659654872657e-15,
           1.0436731207459952e-14,
           1.1228809473379918e-14,
           1.1647152416159283e-14,
           1.1754679722014161e-14
          ],
          [
           0,
           2.922174323247598e-15,
           5.277892885051327e-15,
           7.668807546785072e-15,
           9.695189727703574e-15,
           1.1367653044118871e-14,
           1.2685088431707286e-14,
           1.3641480046446201e-14,
           1.4436293409332226e-14,
           1.3400303870341117e-14
          ]
         ]
        }
       ],
       "layout": {
        "template": {
         "data": {
          "bar": [
           {
            "error_x": {
             "color": "#2a3f5f"
            },
            "error_y": {
             "color": "#2a3f5f"
            },
            "marker": {
             "line": {
              "color": "#E5ECF6",
              "width": 0.5
             },
             "pattern": {
              "fillmode": "overlay",
              "size": 10,
              "solidity": 0.2
             }
            },
            "type": "bar"
           }
          ],
          "barpolar": [
           {
            "marker": {
             "line": {
              "color": "#E5ECF6",
              "width": 0.5
             },
             "pattern": {
              "fillmode": "overlay",
              "size": 10,
              "solidity": 0.2
             }
            },
            "type": "barpolar"
           }
          ],
          "carpet": [
           {
            "aaxis": {
             "endlinecolor": "#2a3f5f",
             "gridcolor": "white",
             "linecolor": "white",
             "minorgridcolor": "white",
             "startlinecolor": "#2a3f5f"
            },
            "baxis": {
             "endlinecolor": "#2a3f5f",
             "gridcolor": "white",
             "linecolor": "white",
             "minorgridcolor": "white",
             "startlinecolor": "#2a3f5f"
            },
            "type": "carpet"
           }
          ],
          "choropleth": [
           {
            "colorbar": {
             "outlinewidth": 0,
             "ticks": ""
            },
            "type": "choropleth"
           }
          ],
          "contour": [
           {
            "colorbar": {
             "outlinewidth": 0,
             "ticks": ""
            },
            "colorscale": [
             [
              0,
              "#0d0887"
             ],
             [
              0.1111111111111111,
              "#46039f"
             ],
             [
              0.2222222222222222,
              "#7201a8"
             ],
             [
              0.3333333333333333,
              "#9c179e"
             ],
             [
              0.4444444444444444,
              "#bd3786"
             ],
             [
              0.5555555555555556,
              "#d8576b"
             ],
             [
              0.6666666666666666,
              "#ed7953"
             ],
             [
              0.7777777777777778,
              "#fb9f3a"
             ],
             [
              0.8888888888888888,
              "#fdca26"
             ],
             [
              1,
              "#f0f921"
             ]
            ],
            "type": "contour"
           }
          ],
          "contourcarpet": [
           {
            "colorbar": {
             "outlinewidth": 0,
             "ticks": ""
            },
            "type": "contourcarpet"
           }
          ],
          "heatmap": [
           {
            "colorbar": {
             "outlinewidth": 0,
             "ticks": ""
            },
            "colorscale": [
             [
              0,
              "#0d0887"
             ],
             [
              0.1111111111111111,
              "#46039f"
             ],
             [
              0.2222222222222222,
              "#7201a8"
             ],
             [
              0.3333333333333333,
              "#9c179e"
             ],
             [
              0.4444444444444444,
              "#bd3786"
             ],
             [
              0.5555555555555556,
              "#d8576b"
             ],
             [
              0.6666666666666666,
              "#ed7953"
             ],
             [
              0.7777777777777778,
              "#fb9f3a"
             ],
             [
              0.8888888888888888,
              "#fdca26"
             ],
             [
              1,
              "#f0f921"
             ]
            ],
            "type": "heatmap"
           }
          ],
          "heatmapgl": [
           {
            "colorbar": {
             "outlinewidth": 0,
             "ticks": ""
            },
            "colorscale": [
             [
              0,
              "#0d0887"
             ],
             [
              0.1111111111111111,
              "#46039f"
             ],
             [
              0.2222222222222222,
              "#7201a8"
             ],
             [
              0.3333333333333333,
              "#9c179e"
             ],
             [
              0.4444444444444444,
              "#bd3786"
             ],
             [
              0.5555555555555556,
              "#d8576b"
             ],
             [
              0.6666666666666666,
              "#ed7953"
             ],
             [
              0.7777777777777778,
              "#fb9f3a"
             ],
             [
              0.8888888888888888,
              "#fdca26"
             ],
             [
              1,
              "#f0f921"
             ]
            ],
            "type": "heatmapgl"
           }
          ],
          "histogram": [
           {
            "marker": {
             "pattern": {
              "fillmode": "overlay",
              "size": 10,
              "solidity": 0.2
             }
            },
            "type": "histogram"
           }
          ],
          "histogram2d": [
           {
            "colorbar": {
             "outlinewidth": 0,
             "ticks": ""
            },
            "colorscale": [
             [
              0,
              "#0d0887"
             ],
             [
              0.1111111111111111,
              "#46039f"
             ],
             [
              0.2222222222222222,
              "#7201a8"
             ],
             [
              0.3333333333333333,
              "#9c179e"
             ],
             [
              0.4444444444444444,
              "#bd3786"
             ],
             [
              0.5555555555555556,
              "#d8576b"
             ],
             [
              0.6666666666666666,
              "#ed7953"
             ],
             [
              0.7777777777777778,
              "#fb9f3a"
             ],
             [
              0.8888888888888888,
              "#fdca26"
             ],
             [
              1,
              "#f0f921"
             ]
            ],
            "type": "histogram2d"
           }
          ],
          "histogram2dcontour": [
           {
            "colorbar": {
             "outlinewidth": 0,
             "ticks": ""
            },
            "colorscale": [
             [
              0,
              "#0d0887"
             ],
             [
              0.1111111111111111,
              "#46039f"
             ],
             [
              0.2222222222222222,
              "#7201a8"
             ],
             [
              0.3333333333333333,
              "#9c179e"
             ],
             [
              0.4444444444444444,
              "#bd3786"
             ],
             [
              0.5555555555555556,
              "#d8576b"
             ],
             [
              0.6666666666666666,
              "#ed7953"
             ],
             [
              0.7777777777777778,
              "#fb9f3a"
             ],
             [
              0.8888888888888888,
              "#fdca26"
             ],
             [
              1,
              "#f0f921"
             ]
            ],
            "type": "histogram2dcontour"
           }
          ],
          "mesh3d": [
           {
            "colorbar": {
             "outlinewidth": 0,
             "ticks": ""
            },
            "type": "mesh3d"
           }
          ],
          "parcoords": [
           {
            "line": {
             "colorbar": {
              "outlinewidth": 0,
              "ticks": ""
             }
            },
            "type": "parcoords"
           }
          ],
          "pie": [
           {
            "automargin": true,
            "type": "pie"
           }
          ],
          "scatter": [
           {
            "marker": {
             "colorbar": {
              "outlinewidth": 0,
              "ticks": ""
             }
            },
            "type": "scatter"
           }
          ],
          "scatter3d": [
           {
            "line": {
             "colorbar": {
              "outlinewidth": 0,
              "ticks": ""
             }
            },
            "marker": {
             "colorbar": {
              "outlinewidth": 0,
              "ticks": ""
             }
            },
            "type": "scatter3d"
           }
          ],
          "scattercarpet": [
           {
            "marker": {
             "colorbar": {
              "outlinewidth": 0,
              "ticks": ""
             }
            },
            "type": "scattercarpet"
           }
          ],
          "scattergeo": [
           {
            "marker": {
             "colorbar": {
              "outlinewidth": 0,
              "ticks": ""
             }
            },
            "type": "scattergeo"
           }
          ],
          "scattergl": [
           {
            "marker": {
             "colorbar": {
              "outlinewidth": 0,
              "ticks": ""
             }
            },
            "type": "scattergl"
           }
          ],
          "scattermapbox": [
           {
            "marker": {
             "colorbar": {
              "outlinewidth": 0,
              "ticks": ""
             }
            },
            "type": "scattermapbox"
           }
          ],
          "scatterpolar": [
           {
            "marker": {
             "colorbar": {
              "outlinewidth": 0,
              "ticks": ""
             }
            },
            "type": "scatterpolar"
           }
          ],
          "scatterpolargl": [
           {
            "marker": {
             "colorbar": {
              "outlinewidth": 0,
              "ticks": ""
             }
            },
            "type": "scatterpolargl"
           }
          ],
          "scatterternary": [
           {
            "marker": {
             "colorbar": {
              "outlinewidth": 0,
              "ticks": ""
             }
            },
            "type": "scatterternary"
           }
          ],
          "surface": [
           {
            "colorbar": {
             "outlinewidth": 0,
             "ticks": ""
            },
            "colorscale": [
             [
              0,
              "#0d0887"
             ],
             [
              0.1111111111111111,
              "#46039f"
             ],
             [
              0.2222222222222222,
              "#7201a8"
             ],
             [
              0.3333333333333333,
              "#9c179e"
             ],
             [
              0.4444444444444444,
              "#bd3786"
             ],
             [
              0.5555555555555556,
              "#d8576b"
             ],
             [
              0.6666666666666666,
              "#ed7953"
             ],
             [
              0.7777777777777778,
              "#fb9f3a"
             ],
             [
              0.8888888888888888,
              "#fdca26"
             ],
             [
              1,
              "#f0f921"
             ]
            ],
            "type": "surface"
           }
          ],
          "table": [
           {
            "cells": {
             "fill": {
              "color": "#EBF0F8"
             },
             "line": {
              "color": "white"
             }
            },
            "header": {
             "fill": {
              "color": "#C8D4E3"
             },
             "line": {
              "color": "white"
             }
            },
            "type": "table"
           }
          ]
         },
         "layout": {
          "annotationdefaults": {
           "arrowcolor": "#2a3f5f",
           "arrowhead": 0,
           "arrowwidth": 1
          },
          "autotypenumbers": "strict",
          "coloraxis": {
           "colorbar": {
            "outlinewidth": 0,
            "ticks": ""
           }
          },
          "colorscale": {
           "diverging": [
            [
             0,
             "#8e0152"
            ],
            [
             0.1,
             "#c51b7d"
            ],
            [
             0.2,
             "#de77ae"
            ],
            [
             0.3,
             "#f1b6da"
            ],
            [
             0.4,
             "#fde0ef"
            ],
            [
             0.5,
             "#f7f7f7"
            ],
            [
             0.6,
             "#e6f5d0"
            ],
            [
             0.7,
             "#b8e186"
            ],
            [
             0.8,
             "#7fbc41"
            ],
            [
             0.9,
             "#4d9221"
            ],
            [
             1,
             "#276419"
            ]
           ],
           "sequential": [
            [
             0,
             "#0d0887"
            ],
            [
             0.1111111111111111,
             "#46039f"
            ],
            [
             0.2222222222222222,
             "#7201a8"
            ],
            [
             0.3333333333333333,
             "#9c179e"
            ],
            [
             0.4444444444444444,
             "#bd3786"
            ],
            [
             0.5555555555555556,
             "#d8576b"
            ],
            [
             0.6666666666666666,
             "#ed7953"
            ],
            [
             0.7777777777777778,
             "#fb9f3a"
            ],
            [
             0.8888888888888888,
             "#fdca26"
            ],
            [
             1,
             "#f0f921"
            ]
           ],
           "sequentialminus": [
            [
             0,
             "#0d0887"
            ],
            [
             0.1111111111111111,
             "#46039f"
            ],
            [
             0.2222222222222222,
             "#7201a8"
            ],
            [
             0.3333333333333333,
             "#9c179e"
            ],
            [
             0.4444444444444444,
             "#bd3786"
            ],
            [
             0.5555555555555556,
             "#d8576b"
            ],
            [
             0.6666666666666666,
             "#ed7953"
            ],
            [
             0.7777777777777778,
             "#fb9f3a"
            ],
            [
             0.8888888888888888,
             "#fdca26"
            ],
            [
             1,
             "#f0f921"
            ]
           ]
          },
          "colorway": [
           "#636efa",
           "#EF553B",
           "#00cc96",
           "#ab63fa",
           "#FFA15A",
           "#19d3f3",
           "#FF6692",
           "#B6E880",
           "#FF97FF",
           "#FECB52"
          ],
          "font": {
           "color": "#2a3f5f"
          },
          "geo": {
           "bgcolor": "white",
           "lakecolor": "white",
           "landcolor": "#E5ECF6",
           "showlakes": true,
           "showland": true,
           "subunitcolor": "white"
          },
          "hoverlabel": {
           "align": "left"
          },
          "hovermode": "closest",
          "mapbox": {
           "style": "light"
          },
          "paper_bgcolor": "white",
          "plot_bgcolor": "#E5ECF6",
          "polar": {
           "angularaxis": {
            "gridcolor": "white",
            "linecolor": "white",
            "ticks": ""
           },
           "bgcolor": "#E5ECF6",
           "radialaxis": {
            "gridcolor": "white",
            "linecolor": "white",
            "ticks": ""
           }
          },
          "scene": {
           "xaxis": {
            "backgroundcolor": "#E5ECF6",
            "gridcolor": "white",
            "gridwidth": 2,
            "linecolor": "white",
            "showbackground": true,
            "ticks": "",
            "zerolinecolor": "white"
           },
           "yaxis": {
            "backgroundcolor": "#E5ECF6",
            "gridcolor": "white",
            "gridwidth": 2,
            "linecolor": "white",
            "showbackground": true,
            "ticks": "",
            "zerolinecolor": "white"
           },
           "zaxis": {
            "backgroundcolor": "#E5ECF6",
            "gridcolor": "white",
            "gridwidth": 2,
            "linecolor": "white",
            "showbackground": true,
            "ticks": "",
            "zerolinecolor": "white"
           }
          },
          "shapedefaults": {
           "line": {
            "color": "#2a3f5f"
           }
          },
          "ternary": {
           "aaxis": {
            "gridcolor": "white",
            "linecolor": "white",
            "ticks": ""
           },
           "baxis": {
            "gridcolor": "white",
            "linecolor": "white",
            "ticks": ""
           },
           "bgcolor": "#E5ECF6",
           "caxis": {
            "gridcolor": "white",
            "linecolor": "white",
            "ticks": ""
           }
          },
          "title": {
           "x": 0.05
          },
          "xaxis": {
           "automargin": true,
           "gridcolor": "white",
           "linecolor": "white",
           "ticks": "",
           "title": {
            "standoff": 15
           },
           "zerolinecolor": "white",
           "zerolinewidth": 2
          },
          "yaxis": {
           "automargin": true,
           "gridcolor": "white",
           "linecolor": "white",
           "ticks": "",
           "title": {
            "standoff": 15
           },
           "zerolinecolor": "white",
           "zerolinewidth": 2
          }
         }
        }
       }
      },
      "text/html": [
       "<div>                            <div id=\"f91d57ab-55ea-4566-976f-f553f74e8ce1\" class=\"plotly-graph-div\" style=\"height:525px; width:100%;\"></div>            <script type=\"text/javascript\">                require([\"plotly\"], function(Plotly) {                    window.PLOTLYENV=window.PLOTLYENV || {};                                    if (document.getElementById(\"f91d57ab-55ea-4566-976f-f553f74e8ce1\")) {                    Plotly.newPlot(                        \"f91d57ab-55ea-4566-976f-f553f74e8ce1\",                        [{\"x\":[[0.0,0.000625,0.001875,0.0031249999999999997,0.0043749999999999995,0.005624999999999999,0.006874999999999998,0.008124999999999999,0.009375,0.01],[0.0,0.000625,0.001875,0.0031249999999999997,0.0043749999999999995,0.005624999999999999,0.006874999999999998,0.008124999999999999,0.009375,0.01],[0.0,0.000625,0.001875,0.0031249999999999997,0.0043749999999999995,0.005624999999999999,0.006874999999999998,0.008124999999999999,0.009375,0.01],[0.0,0.000625,0.001875,0.0031249999999999997,0.0043749999999999995,0.005624999999999999,0.006874999999999998,0.008124999999999999,0.009375,0.01],[0.0,0.000625,0.001875,0.0031249999999999997,0.0043749999999999995,0.005624999999999999,0.006874999999999998,0.008124999999999999,0.009375,0.01],[0.0,0.000625,0.001875,0.0031249999999999997,0.0043749999999999995,0.005624999999999999,0.006874999999999998,0.008124999999999999,0.009375,0.01],[0.0,0.000625,0.001875,0.0031249999999999997,0.0043749999999999995,0.005624999999999999,0.006874999999999998,0.008124999999999999,0.009375,0.01],[0.0,0.000625,0.001875,0.0031249999999999997,0.0043749999999999995,0.005624999999999999,0.006874999999999998,0.008124999999999999,0.009375,0.01],[0.0,0.000625,0.001875,0.0031249999999999997,0.0043749999999999995,0.005624999999999999,0.006874999999999998,0.008124999999999999,0.009375,0.01],[0.0,0.000625,0.001875,0.0031249999999999997,0.0043749999999999995,0.005624999999999999,0.006874999999999998,0.008124999999999999,0.009375,0.01]],\"y\":[[0.0,0.0,0.0,0.0,0.0,0.0,0.0,0.0,0.0,0.0],[0.000625,0.000625,0.000625,0.000625,0.000625,0.000625,0.000625,0.000625,0.000625,0.000625],[0.001875,0.001875,0.001875,0.001875,0.001875,0.001875,0.001875,0.001875,0.001875,0.001875],[0.0031249999999999997,0.0031249999999999997,0.0031249999999999997,0.0031249999999999997,0.0031249999999999997,0.0031249999999999997,0.0031249999999999997,0.0031249999999999997,0.0031249999999999997,0.0031249999999999997],[0.0043749999999999995,0.0043749999999999995,0.0043749999999999995,0.0043749999999999995,0.0043749999999999995,0.0043749999999999995,0.0043749999999999995,0.0043749999999999995,0.0043749999999999995,0.0043749999999999995],[0.005624999999999999,0.005624999999999999,0.005624999999999999,0.005624999999999999,0.005624999999999999,0.005624999999999999,0.005624999999999999,0.005624999999999999,0.005624999999999999,0.005624999999999999],[0.006874999999999998,0.006874999999999998,0.006874999999999998,0.006874999999999998,0.006874999999999998,0.006874999999999998,0.006874999999999998,0.006874999999999998,0.006874999999999998,0.006874999999999998],[0.008124999999999999,0.008124999999999999,0.008124999999999999,0.008124999999999999,0.008124999999999999,0.008124999999999999,0.008124999999999999,0.008124999999999999,0.008124999999999999,0.008124999999999999],[0.009375,0.009375,0.009375,0.009375,0.009375,0.009375,0.009375,0.009375,0.009375,0.009375],[0.01,0.01,0.01,0.01,0.01,0.01,0.01,0.01,0.01,0.01]],\"z\":[[0.0,-1.107918207919915e-15,-4.497879964577821e-15,-6.9522762377669495e-15,-9.059042384924482e-15,-1.0760486044111118e-14,-1.208502539535296e-14,-1.3037382034806638e-14,-1.3837811740829093e-14,-1.2771207696223287e-14],[-4.517509052022935e-31,-1.3980997480641876e-26,-2.8715286788841454e-15,-5.245992837378286e-15,-7.158609582780044e-15,-8.670829113390494e-15,-9.813532028969765e-15,-1.0611787248413337e-14,-1.102939405349366e-14,-1.114204842084993e-14],[-1.1804221578508631e-30,-5.01909421596152e-16,-1.7534373575384838e-15,-3.1499297030356156e-15,-4.402110758515411e-15,-5.416447712777671e-15,-6.165825218238492e-15,-6.651854453784331e-15,-6.9437947037784e-15,-7.057079609282176e-15],[5.58528391886472e-29,-3.1529705475601627e-16,-9.505567393811986e-16,-1.6443520816655548e-15,-2.30574112914181e-15,-2.8569362300483384e-15,-3.2604933466858108e-15,-3.5136372176630167e-15,-3.6733093316830835e-15,-3.786781497440317e-15],[-3.853229880055017e-29,-9.221479465911339e-17,-2.454604717994376e-16,-4.0795301038456156e-16,-5.749290734814518e-16,-7.234804122273793e-16,-8.358891791108908e-16,-9.074089466630656e-16,-9.57072379323321e-16,-9.966300695243255e-16],[-1.237797480254284e-28,1.3029930687340174e-16,4.449865858782648e-16,7.70461242037285e-16,1.0557200841613358e-15,1.2775245724624787e-15,1.4305992644482083e-15,1.5225865642184252e-15,1.5817125981712314e-15,1.6240911159246437e-15],[-1.181123275783451e-28,3.732685477412774e-16,1.2249075259018454e-15,2.0826666834384417e-15,2.8378232722581903e-15,3.4394304114787634e-15,3.8687737142871025e-15,4.134454296112002e-15,4.3000741948008936e-15,4.415082233371951e-15],[3.6140072416183477e-28,6.888905774643839e-16,2.2605195048123682e-15,3.750018322512085e-15,5.022447466801299e-15,6.040430860835281e-15,6.790121851075055e-15,7.276528459285736e-15,7.568952491452091e-15,7.68343699066093e-15],[7.063741426799498e-29,1.327955048654497e-15,3.899444531664525e-15,6.049009304182764e-15,7.853620075805553e-15,9.314659654872657e-15,1.0436731207459952e-14,1.1228809473379918e-14,1.1647152416159283e-14,1.1754679722014161e-14],[0.0,2.922174323247598e-15,5.277892885051327e-15,7.668807546785072e-15,9.695189727703574e-15,1.1367653044118871e-14,1.2685088431707286e-14,1.3641480046446201e-14,1.4436293409332226e-14,1.3400303870341117e-14]],\"type\":\"surface\"}],                        {\"template\":{\"data\":{\"bar\":[{\"error_x\":{\"color\":\"#2a3f5f\"},\"error_y\":{\"color\":\"#2a3f5f\"},\"marker\":{\"line\":{\"color\":\"#E5ECF6\",\"width\":0.5},\"pattern\":{\"fillmode\":\"overlay\",\"size\":10,\"solidity\":0.2}},\"type\":\"bar\"}],\"barpolar\":[{\"marker\":{\"line\":{\"color\":\"#E5ECF6\",\"width\":0.5},\"pattern\":{\"fillmode\":\"overlay\",\"size\":10,\"solidity\":0.2}},\"type\":\"barpolar\"}],\"carpet\":[{\"aaxis\":{\"endlinecolor\":\"#2a3f5f\",\"gridcolor\":\"white\",\"linecolor\":\"white\",\"minorgridcolor\":\"white\",\"startlinecolor\":\"#2a3f5f\"},\"baxis\":{\"endlinecolor\":\"#2a3f5f\",\"gridcolor\":\"white\",\"linecolor\":\"white\",\"minorgridcolor\":\"white\",\"startlinecolor\":\"#2a3f5f\"},\"type\":\"carpet\"}],\"choropleth\":[{\"colorbar\":{\"outlinewidth\":0,\"ticks\":\"\"},\"type\":\"choropleth\"}],\"contour\":[{\"colorbar\":{\"outlinewidth\":0,\"ticks\":\"\"},\"colorscale\":[[0.0,\"#0d0887\"],[0.1111111111111111,\"#46039f\"],[0.2222222222222222,\"#7201a8\"],[0.3333333333333333,\"#9c179e\"],[0.4444444444444444,\"#bd3786\"],[0.5555555555555556,\"#d8576b\"],[0.6666666666666666,\"#ed7953\"],[0.7777777777777778,\"#fb9f3a\"],[0.8888888888888888,\"#fdca26\"],[1.0,\"#f0f921\"]],\"type\":\"contour\"}],\"contourcarpet\":[{\"colorbar\":{\"outlinewidth\":0,\"ticks\":\"\"},\"type\":\"contourcarpet\"}],\"heatmap\":[{\"colorbar\":{\"outlinewidth\":0,\"ticks\":\"\"},\"colorscale\":[[0.0,\"#0d0887\"],[0.1111111111111111,\"#46039f\"],[0.2222222222222222,\"#7201a8\"],[0.3333333333333333,\"#9c179e\"],[0.4444444444444444,\"#bd3786\"],[0.5555555555555556,\"#d8576b\"],[0.6666666666666666,\"#ed7953\"],[0.7777777777777778,\"#fb9f3a\"],[0.8888888888888888,\"#fdca26\"],[1.0,\"#f0f921\"]],\"type\":\"heatmap\"}],\"heatmapgl\":[{\"colorbar\":{\"outlinewidth\":0,\"ticks\":\"\"},\"colorscale\":[[0.0,\"#0d0887\"],[0.1111111111111111,\"#46039f\"],[0.2222222222222222,\"#7201a8\"],[0.3333333333333333,\"#9c179e\"],[0.4444444444444444,\"#bd3786\"],[0.5555555555555556,\"#d8576b\"],[0.6666666666666666,\"#ed7953\"],[0.7777777777777778,\"#fb9f3a\"],[0.8888888888888888,\"#fdca26\"],[1.0,\"#f0f921\"]],\"type\":\"heatmapgl\"}],\"histogram\":[{\"marker\":{\"pattern\":{\"fillmode\":\"overlay\",\"size\":10,\"solidity\":0.2}},\"type\":\"histogram\"}],\"histogram2d\":[{\"colorbar\":{\"outlinewidth\":0,\"ticks\":\"\"},\"colorscale\":[[0.0,\"#0d0887\"],[0.1111111111111111,\"#46039f\"],[0.2222222222222222,\"#7201a8\"],[0.3333333333333333,\"#9c179e\"],[0.4444444444444444,\"#bd3786\"],[0.5555555555555556,\"#d8576b\"],[0.6666666666666666,\"#ed7953\"],[0.7777777777777778,\"#fb9f3a\"],[0.8888888888888888,\"#fdca26\"],[1.0,\"#f0f921\"]],\"type\":\"histogram2d\"}],\"histogram2dcontour\":[{\"colorbar\":{\"outlinewidth\":0,\"ticks\":\"\"},\"colorscale\":[[0.0,\"#0d0887\"],[0.1111111111111111,\"#46039f\"],[0.2222222222222222,\"#7201a8\"],[0.3333333333333333,\"#9c179e\"],[0.4444444444444444,\"#bd3786\"],[0.5555555555555556,\"#d8576b\"],[0.6666666666666666,\"#ed7953\"],[0.7777777777777778,\"#fb9f3a\"],[0.8888888888888888,\"#fdca26\"],[1.0,\"#f0f921\"]],\"type\":\"histogram2dcontour\"}],\"mesh3d\":[{\"colorbar\":{\"outlinewidth\":0,\"ticks\":\"\"},\"type\":\"mesh3d\"}],\"parcoords\":[{\"line\":{\"colorbar\":{\"outlinewidth\":0,\"ticks\":\"\"}},\"type\":\"parcoords\"}],\"pie\":[{\"automargin\":true,\"type\":\"pie\"}],\"scatter\":[{\"marker\":{\"colorbar\":{\"outlinewidth\":0,\"ticks\":\"\"}},\"type\":\"scatter\"}],\"scatter3d\":[{\"line\":{\"colorbar\":{\"outlinewidth\":0,\"ticks\":\"\"}},\"marker\":{\"colorbar\":{\"outlinewidth\":0,\"ticks\":\"\"}},\"type\":\"scatter3d\"}],\"scattercarpet\":[{\"marker\":{\"colorbar\":{\"outlinewidth\":0,\"ticks\":\"\"}},\"type\":\"scattercarpet\"}],\"scattergeo\":[{\"marker\":{\"colorbar\":{\"outlinewidth\":0,\"ticks\":\"\"}},\"type\":\"scattergeo\"}],\"scattergl\":[{\"marker\":{\"colorbar\":{\"outlinewidth\":0,\"ticks\":\"\"}},\"type\":\"scattergl\"}],\"scattermapbox\":[{\"marker\":{\"colorbar\":{\"outlinewidth\":0,\"ticks\":\"\"}},\"type\":\"scattermapbox\"}],\"scatterpolar\":[{\"marker\":{\"colorbar\":{\"outlinewidth\":0,\"ticks\":\"\"}},\"type\":\"scatterpolar\"}],\"scatterpolargl\":[{\"marker\":{\"colorbar\":{\"outlinewidth\":0,\"ticks\":\"\"}},\"type\":\"scatterpolargl\"}],\"scatterternary\":[{\"marker\":{\"colorbar\":{\"outlinewidth\":0,\"ticks\":\"\"}},\"type\":\"scatterternary\"}],\"surface\":[{\"colorbar\":{\"outlinewidth\":0,\"ticks\":\"\"},\"colorscale\":[[0.0,\"#0d0887\"],[0.1111111111111111,\"#46039f\"],[0.2222222222222222,\"#7201a8\"],[0.3333333333333333,\"#9c179e\"],[0.4444444444444444,\"#bd3786\"],[0.5555555555555556,\"#d8576b\"],[0.6666666666666666,\"#ed7953\"],[0.7777777777777778,\"#fb9f3a\"],[0.8888888888888888,\"#fdca26\"],[1.0,\"#f0f921\"]],\"type\":\"surface\"}],\"table\":[{\"cells\":{\"fill\":{\"color\":\"#EBF0F8\"},\"line\":{\"color\":\"white\"}},\"header\":{\"fill\":{\"color\":\"#C8D4E3\"},\"line\":{\"color\":\"white\"}},\"type\":\"table\"}]},\"layout\":{\"annotationdefaults\":{\"arrowcolor\":\"#2a3f5f\",\"arrowhead\":0,\"arrowwidth\":1},\"autotypenumbers\":\"strict\",\"coloraxis\":{\"colorbar\":{\"outlinewidth\":0,\"ticks\":\"\"}},\"colorscale\":{\"diverging\":[[0,\"#8e0152\"],[0.1,\"#c51b7d\"],[0.2,\"#de77ae\"],[0.3,\"#f1b6da\"],[0.4,\"#fde0ef\"],[0.5,\"#f7f7f7\"],[0.6,\"#e6f5d0\"],[0.7,\"#b8e186\"],[0.8,\"#7fbc41\"],[0.9,\"#4d9221\"],[1,\"#276419\"]],\"sequential\":[[0.0,\"#0d0887\"],[0.1111111111111111,\"#46039f\"],[0.2222222222222222,\"#7201a8\"],[0.3333333333333333,\"#9c179e\"],[0.4444444444444444,\"#bd3786\"],[0.5555555555555556,\"#d8576b\"],[0.6666666666666666,\"#ed7953\"],[0.7777777777777778,\"#fb9f3a\"],[0.8888888888888888,\"#fdca26\"],[1.0,\"#f0f921\"]],\"sequentialminus\":[[0.0,\"#0d0887\"],[0.1111111111111111,\"#46039f\"],[0.2222222222222222,\"#7201a8\"],[0.3333333333333333,\"#9c179e\"],[0.4444444444444444,\"#bd3786\"],[0.5555555555555556,\"#d8576b\"],[0.6666666666666666,\"#ed7953\"],[0.7777777777777778,\"#fb9f3a\"],[0.8888888888888888,\"#fdca26\"],[1.0,\"#f0f921\"]]},\"colorway\":[\"#636efa\",\"#EF553B\",\"#00cc96\",\"#ab63fa\",\"#FFA15A\",\"#19d3f3\",\"#FF6692\",\"#B6E880\",\"#FF97FF\",\"#FECB52\"],\"font\":{\"color\":\"#2a3f5f\"},\"geo\":{\"bgcolor\":\"white\",\"lakecolor\":\"white\",\"landcolor\":\"#E5ECF6\",\"showlakes\":true,\"showland\":true,\"subunitcolor\":\"white\"},\"hoverlabel\":{\"align\":\"left\"},\"hovermode\":\"closest\",\"mapbox\":{\"style\":\"light\"},\"paper_bgcolor\":\"white\",\"plot_bgcolor\":\"#E5ECF6\",\"polar\":{\"angularaxis\":{\"gridcolor\":\"white\",\"linecolor\":\"white\",\"ticks\":\"\"},\"bgcolor\":\"#E5ECF6\",\"radialaxis\":{\"gridcolor\":\"white\",\"linecolor\":\"white\",\"ticks\":\"\"}},\"scene\":{\"xaxis\":{\"backgroundcolor\":\"#E5ECF6\",\"gridcolor\":\"white\",\"gridwidth\":2,\"linecolor\":\"white\",\"showbackground\":true,\"ticks\":\"\",\"zerolinecolor\":\"white\"},\"yaxis\":{\"backgroundcolor\":\"#E5ECF6\",\"gridcolor\":\"white\",\"gridwidth\":2,\"linecolor\":\"white\",\"showbackground\":true,\"ticks\":\"\",\"zerolinecolor\":\"white\"},\"zaxis\":{\"backgroundcolor\":\"#E5ECF6\",\"gridcolor\":\"white\",\"gridwidth\":2,\"linecolor\":\"white\",\"showbackground\":true,\"ticks\":\"\",\"zerolinecolor\":\"white\"}},\"shapedefaults\":{\"line\":{\"color\":\"#2a3f5f\"}},\"ternary\":{\"aaxis\":{\"gridcolor\":\"white\",\"linecolor\":\"white\",\"ticks\":\"\"},\"baxis\":{\"gridcolor\":\"white\",\"linecolor\":\"white\",\"ticks\":\"\"},\"bgcolor\":\"#E5ECF6\",\"caxis\":{\"gridcolor\":\"white\",\"linecolor\":\"white\",\"ticks\":\"\"}},\"title\":{\"x\":0.05},\"xaxis\":{\"automargin\":true,\"gridcolor\":\"white\",\"linecolor\":\"white\",\"ticks\":\"\",\"title\":{\"standoff\":15},\"zerolinecolor\":\"white\",\"zerolinewidth\":2},\"yaxis\":{\"automargin\":true,\"gridcolor\":\"white\",\"linecolor\":\"white\",\"ticks\":\"\",\"title\":{\"standoff\":15},\"zerolinecolor\":\"white\",\"zerolinewidth\":2}}}},                        {\"responsive\": true}                    ).then(function(){\n",
       "                            \n",
       "var gd = document.getElementById('f91d57ab-55ea-4566-976f-f553f74e8ce1');\n",
       "var x = new MutationObserver(function (mutations, observer) {{\n",
       "        var display = window.getComputedStyle(gd).display;\n",
       "        if (!display || display === 'none') {{\n",
       "            console.log([gd, 'removed!']);\n",
       "            Plotly.purge(gd);\n",
       "            observer.disconnect();\n",
       "        }}\n",
       "}});\n",
       "\n",
       "// Listen for the removal of the full notebook cells\n",
       "var notebookContainer = gd.closest('#notebook-container');\n",
       "if (notebookContainer) {{\n",
       "    x.observe(notebookContainer, {childList: true});\n",
       "}}\n",
       "\n",
       "// Listen for the clearing of the current output cell\n",
       "var outputEl = gd.closest('.output');\n",
       "if (outputEl) {{\n",
       "    x.observe(outputEl, {childList: true});\n",
       "}}\n",
       "\n",
       "                        })                };                });            </script>        </div>"
      ]
     },
     "metadata": {},
     "output_type": "display_data"
    },
    {
     "name": "stdout",
     "output_type": "stream",
     "text": [
      "V graph\n"
     ]
    },
    {
     "data": {
      "application/vnd.plotly.v1+json": {
       "config": {
        "plotlyServerURL": "https://plot.ly"
       },
       "data": [
        {
         "type": "surface",
         "x": [
          [
           0,
           0.000625,
           0.001875,
           0.0031249999999999997,
           0.0043749999999999995,
           0.005624999999999999,
           0.006874999999999998,
           0.008124999999999999,
           0.009375,
           0.01
          ],
          [
           0,
           0.000625,
           0.001875,
           0.0031249999999999997,
           0.0043749999999999995,
           0.005624999999999999,
           0.006874999999999998,
           0.008124999999999999,
           0.009375,
           0.01
          ],
          [
           0,
           0.000625,
           0.001875,
           0.0031249999999999997,
           0.0043749999999999995,
           0.005624999999999999,
           0.006874999999999998,
           0.008124999999999999,
           0.009375,
           0.01
          ],
          [
           0,
           0.000625,
           0.001875,
           0.0031249999999999997,
           0.0043749999999999995,
           0.005624999999999999,
           0.006874999999999998,
           0.008124999999999999,
           0.009375,
           0.01
          ],
          [
           0,
           0.000625,
           0.001875,
           0.0031249999999999997,
           0.0043749999999999995,
           0.005624999999999999,
           0.006874999999999998,
           0.008124999999999999,
           0.009375,
           0.01
          ],
          [
           0,
           0.000625,
           0.001875,
           0.0031249999999999997,
           0.0043749999999999995,
           0.005624999999999999,
           0.006874999999999998,
           0.008124999999999999,
           0.009375,
           0.01
          ],
          [
           0,
           0.000625,
           0.001875,
           0.0031249999999999997,
           0.0043749999999999995,
           0.005624999999999999,
           0.006874999999999998,
           0.008124999999999999,
           0.009375,
           0.01
          ],
          [
           0,
           0.000625,
           0.001875,
           0.0031249999999999997,
           0.0043749999999999995,
           0.005624999999999999,
           0.006874999999999998,
           0.008124999999999999,
           0.009375,
           0.01
          ],
          [
           0,
           0.000625,
           0.001875,
           0.0031249999999999997,
           0.0043749999999999995,
           0.005624999999999999,
           0.006874999999999998,
           0.008124999999999999,
           0.009375,
           0.01
          ],
          [
           0,
           0.000625,
           0.001875,
           0.0031249999999999997,
           0.0043749999999999995,
           0.005624999999999999,
           0.006874999999999998,
           0.008124999999999999,
           0.009375,
           0.01
          ]
         ],
         "y": [
          [
           0,
           0,
           0,
           0,
           0,
           0,
           0,
           0,
           0,
           0
          ],
          [
           0.000625,
           0.000625,
           0.000625,
           0.000625,
           0.000625,
           0.000625,
           0.000625,
           0.000625,
           0.000625,
           0.000625
          ],
          [
           0.001875,
           0.001875,
           0.001875,
           0.001875,
           0.001875,
           0.001875,
           0.001875,
           0.001875,
           0.001875,
           0.001875
          ],
          [
           0.0031249999999999997,
           0.0031249999999999997,
           0.0031249999999999997,
           0.0031249999999999997,
           0.0031249999999999997,
           0.0031249999999999997,
           0.0031249999999999997,
           0.0031249999999999997,
           0.0031249999999999997,
           0.0031249999999999997
          ],
          [
           0.0043749999999999995,
           0.0043749999999999995,
           0.0043749999999999995,
           0.0043749999999999995,
           0.0043749999999999995,
           0.0043749999999999995,
           0.0043749999999999995,
           0.0043749999999999995,
           0.0043749999999999995,
           0.0043749999999999995
          ],
          [
           0.005624999999999999,
           0.005624999999999999,
           0.005624999999999999,
           0.005624999999999999,
           0.005624999999999999,
           0.005624999999999999,
           0.005624999999999999,
           0.005624999999999999,
           0.005624999999999999,
           0.005624999999999999
          ],
          [
           0.006874999999999998,
           0.006874999999999998,
           0.006874999999999998,
           0.006874999999999998,
           0.006874999999999998,
           0.006874999999999998,
           0.006874999999999998,
           0.006874999999999998,
           0.006874999999999998,
           0.006874999999999998
          ],
          [
           0.008124999999999999,
           0.008124999999999999,
           0.008124999999999999,
           0.008124999999999999,
           0.008124999999999999,
           0.008124999999999999,
           0.008124999999999999,
           0.008124999999999999,
           0.008124999999999999,
           0.008124999999999999
          ],
          [
           0.009375,
           0.009375,
           0.009375,
           0.009375,
           0.009375,
           0.009375,
           0.009375,
           0.009375,
           0.009375,
           0.009375
          ],
          [
           0.01,
           0.01,
           0.01,
           0.01,
           0.01,
           0.01,
           0.01,
           0.01,
           0.01,
           0.01
          ]
         ],
         "z": [
          [
           0,
           -5.733202676606346e-16,
           -3.858352563945964e-15,
           -7.078725410414368e-15,
           -1.0683486165474764e-14,
           -1.4680456618958227e-14,
           -1.9042113888315024e-14,
           -2.3766430084440115e-14,
           -2.874449303382982e-14,
           -3.1872296933766624e-14
          ],
          [
           0,
           -5.171067426581714e-28,
           -3.26063412905256e-15,
           -6.612242890129673e-15,
           -1.0294010162532793e-14,
           -1.4370981083782913e-14,
           -1.8809249525615576e-14,
           -2.358716784454878e-14,
           -2.888079991393778e-14,
           -3.1517903805916886e-14
          ],
          [
           1.9928436416196667e-28,
           -3.268927016054045e-16,
           -2.706703567824718e-15,
           -5.966865599706344e-15,
           -9.737367448691506e-15,
           -1.3932971669669485e-14,
           -1.848578470170406e-14,
           -2.3342545987435163e-14,
           -2.848508190970843e-14,
           -3.112518069196708e-14
          ],
          [
           -5.982571987663604e-28,
           -4.266410699876906e-16,
           -2.5825844356544385e-15,
           -5.687119681173808e-15,
           -9.444784351988807e-15,
           -1.3688885090306977e-14,
           -1.829872136858832e-14,
           -2.315493632422418e-14,
           -2.8093834738034898e-14,
           -3.04102291743616e-14
          ],
          [
           -2.1962044006757654e-29,
           -4.792839449563081e-16,
           -2.5889992028468126e-15,
           -5.622900005061308e-15,
           -9.352121899249343e-15,
           -1.3601429970609851e-14,
           -1.8224067883102874e-14,
           -2.305858140545177e-14,
           -2.7861674866536664e-14,
           -3.0015675071255745e-14
          ],
          [
           8.228816488607932e-28,
           -5.16106746975903e-16,
           -2.6692098650510443e-15,
           -5.699514179797829e-15,
           -9.408690075103321e-15,
           -1.3637869291797127e-14,
           -1.8245648037669328e-14,
           -2.3070838146149985e-14,
           -2.786923274308019e-14,
           -3.002344287018199e-14
          ],
          [
           3.080246172087023e-28,
           -5.627314301954491e-16,
           -2.8469475992433403e-15,
           -5.917677176141271e-15,
           -9.60617218457377e-15,
           -1.3790002087199588e-14,
           -1.8357808499830196e-14,
           -2.3188324209029433e-14,
           -2.8113924280318996e-14,
           -3.0430042800389964e-14
          ],
          [
           -3.7724675591354605e-28,
           -6.851667828913168e-16,
           -3.2187264862841e-15,
           -6.332222138041962e-15,
           -9.971417992620423e-15,
           -1.4074009159905997e-14,
           -1.856690771419305e-14,
           -2.3388281008719503e-14,
           -2.8511784490393473e-14,
           -3.114796591395963e-14
          ],
          [
           3.702967419873569e-28,
           -1.1031599171486532e-15,
           -3.9496228187989135e-15,
           -7.00382757260171e-15,
           -1.0535975897510897e-14,
           -1.4516090080664705e-14,
           -1.889368998230688e-14,
           -2.3636203563203728e-14,
           -2.890754198421258e-14,
           -3.154944679261467e-14
          ],
          [
           0,
           -1.941803154388017e-15,
           -4.435073943954552e-15,
           -7.455596567896815e-15,
           -1.0914266914307469e-14,
           -1.4821875175415447e-14,
           -1.9126240471203003e-14,
           -2.3815304072300944e-14,
           -2.8776922763352643e-14,
           -3.187439540410405e-14
          ]
         ]
        }
       ],
       "layout": {
        "template": {
         "data": {
          "bar": [
           {
            "error_x": {
             "color": "#2a3f5f"
            },
            "error_y": {
             "color": "#2a3f5f"
            },
            "marker": {
             "line": {
              "color": "#E5ECF6",
              "width": 0.5
             },
             "pattern": {
              "fillmode": "overlay",
              "size": 10,
              "solidity": 0.2
             }
            },
            "type": "bar"
           }
          ],
          "barpolar": [
           {
            "marker": {
             "line": {
              "color": "#E5ECF6",
              "width": 0.5
             },
             "pattern": {
              "fillmode": "overlay",
              "size": 10,
              "solidity": 0.2
             }
            },
            "type": "barpolar"
           }
          ],
          "carpet": [
           {
            "aaxis": {
             "endlinecolor": "#2a3f5f",
             "gridcolor": "white",
             "linecolor": "white",
             "minorgridcolor": "white",
             "startlinecolor": "#2a3f5f"
            },
            "baxis": {
             "endlinecolor": "#2a3f5f",
             "gridcolor": "white",
             "linecolor": "white",
             "minorgridcolor": "white",
             "startlinecolor": "#2a3f5f"
            },
            "type": "carpet"
           }
          ],
          "choropleth": [
           {
            "colorbar": {
             "outlinewidth": 0,
             "ticks": ""
            },
            "type": "choropleth"
           }
          ],
          "contour": [
           {
            "colorbar": {
             "outlinewidth": 0,
             "ticks": ""
            },
            "colorscale": [
             [
              0,
              "#0d0887"
             ],
             [
              0.1111111111111111,
              "#46039f"
             ],
             [
              0.2222222222222222,
              "#7201a8"
             ],
             [
              0.3333333333333333,
              "#9c179e"
             ],
             [
              0.4444444444444444,
              "#bd3786"
             ],
             [
              0.5555555555555556,
              "#d8576b"
             ],
             [
              0.6666666666666666,
              "#ed7953"
             ],
             [
              0.7777777777777778,
              "#fb9f3a"
             ],
             [
              0.8888888888888888,
              "#fdca26"
             ],
             [
              1,
              "#f0f921"
             ]
            ],
            "type": "contour"
           }
          ],
          "contourcarpet": [
           {
            "colorbar": {
             "outlinewidth": 0,
             "ticks": ""
            },
            "type": "contourcarpet"
           }
          ],
          "heatmap": [
           {
            "colorbar": {
             "outlinewidth": 0,
             "ticks": ""
            },
            "colorscale": [
             [
              0,
              "#0d0887"
             ],
             [
              0.1111111111111111,
              "#46039f"
             ],
             [
              0.2222222222222222,
              "#7201a8"
             ],
             [
              0.3333333333333333,
              "#9c179e"
             ],
             [
              0.4444444444444444,
              "#bd3786"
             ],
             [
              0.5555555555555556,
              "#d8576b"
             ],
             [
              0.6666666666666666,
              "#ed7953"
             ],
             [
              0.7777777777777778,
              "#fb9f3a"
             ],
             [
              0.8888888888888888,
              "#fdca26"
             ],
             [
              1,
              "#f0f921"
             ]
            ],
            "type": "heatmap"
           }
          ],
          "heatmapgl": [
           {
            "colorbar": {
             "outlinewidth": 0,
             "ticks": ""
            },
            "colorscale": [
             [
              0,
              "#0d0887"
             ],
             [
              0.1111111111111111,
              "#46039f"
             ],
             [
              0.2222222222222222,
              "#7201a8"
             ],
             [
              0.3333333333333333,
              "#9c179e"
             ],
             [
              0.4444444444444444,
              "#bd3786"
             ],
             [
              0.5555555555555556,
              "#d8576b"
             ],
             [
              0.6666666666666666,
              "#ed7953"
             ],
             [
              0.7777777777777778,
              "#fb9f3a"
             ],
             [
              0.8888888888888888,
              "#fdca26"
             ],
             [
              1,
              "#f0f921"
             ]
            ],
            "type": "heatmapgl"
           }
          ],
          "histogram": [
           {
            "marker": {
             "pattern": {
              "fillmode": "overlay",
              "size": 10,
              "solidity": 0.2
             }
            },
            "type": "histogram"
           }
          ],
          "histogram2d": [
           {
            "colorbar": {
             "outlinewidth": 0,
             "ticks": ""
            },
            "colorscale": [
             [
              0,
              "#0d0887"
             ],
             [
              0.1111111111111111,
              "#46039f"
             ],
             [
              0.2222222222222222,
              "#7201a8"
             ],
             [
              0.3333333333333333,
              "#9c179e"
             ],
             [
              0.4444444444444444,
              "#bd3786"
             ],
             [
              0.5555555555555556,
              "#d8576b"
             ],
             [
              0.6666666666666666,
              "#ed7953"
             ],
             [
              0.7777777777777778,
              "#fb9f3a"
             ],
             [
              0.8888888888888888,
              "#fdca26"
             ],
             [
              1,
              "#f0f921"
             ]
            ],
            "type": "histogram2d"
           }
          ],
          "histogram2dcontour": [
           {
            "colorbar": {
             "outlinewidth": 0,
             "ticks": ""
            },
            "colorscale": [
             [
              0,
              "#0d0887"
             ],
             [
              0.1111111111111111,
              "#46039f"
             ],
             [
              0.2222222222222222,
              "#7201a8"
             ],
             [
              0.3333333333333333,
              "#9c179e"
             ],
             [
              0.4444444444444444,
              "#bd3786"
             ],
             [
              0.5555555555555556,
              "#d8576b"
             ],
             [
              0.6666666666666666,
              "#ed7953"
             ],
             [
              0.7777777777777778,
              "#fb9f3a"
             ],
             [
              0.8888888888888888,
              "#fdca26"
             ],
             [
              1,
              "#f0f921"
             ]
            ],
            "type": "histogram2dcontour"
           }
          ],
          "mesh3d": [
           {
            "colorbar": {
             "outlinewidth": 0,
             "ticks": ""
            },
            "type": "mesh3d"
           }
          ],
          "parcoords": [
           {
            "line": {
             "colorbar": {
              "outlinewidth": 0,
              "ticks": ""
             }
            },
            "type": "parcoords"
           }
          ],
          "pie": [
           {
            "automargin": true,
            "type": "pie"
           }
          ],
          "scatter": [
           {
            "marker": {
             "colorbar": {
              "outlinewidth": 0,
              "ticks": ""
             }
            },
            "type": "scatter"
           }
          ],
          "scatter3d": [
           {
            "line": {
             "colorbar": {
              "outlinewidth": 0,
              "ticks": ""
             }
            },
            "marker": {
             "colorbar": {
              "outlinewidth": 0,
              "ticks": ""
             }
            },
            "type": "scatter3d"
           }
          ],
          "scattercarpet": [
           {
            "marker": {
             "colorbar": {
              "outlinewidth": 0,
              "ticks": ""
             }
            },
            "type": "scattercarpet"
           }
          ],
          "scattergeo": [
           {
            "marker": {
             "colorbar": {
              "outlinewidth": 0,
              "ticks": ""
             }
            },
            "type": "scattergeo"
           }
          ],
          "scattergl": [
           {
            "marker": {
             "colorbar": {
              "outlinewidth": 0,
              "ticks": ""
             }
            },
            "type": "scattergl"
           }
          ],
          "scattermapbox": [
           {
            "marker": {
             "colorbar": {
              "outlinewidth": 0,
              "ticks": ""
             }
            },
            "type": "scattermapbox"
           }
          ],
          "scatterpolar": [
           {
            "marker": {
             "colorbar": {
              "outlinewidth": 0,
              "ticks": ""
             }
            },
            "type": "scatterpolar"
           }
          ],
          "scatterpolargl": [
           {
            "marker": {
             "colorbar": {
              "outlinewidth": 0,
              "ticks": ""
             }
            },
            "type": "scatterpolargl"
           }
          ],
          "scatterternary": [
           {
            "marker": {
             "colorbar": {
              "outlinewidth": 0,
              "ticks": ""
             }
            },
            "type": "scatterternary"
           }
          ],
          "surface": [
           {
            "colorbar": {
             "outlinewidth": 0,
             "ticks": ""
            },
            "colorscale": [
             [
              0,
              "#0d0887"
             ],
             [
              0.1111111111111111,
              "#46039f"
             ],
             [
              0.2222222222222222,
              "#7201a8"
             ],
             [
              0.3333333333333333,
              "#9c179e"
             ],
             [
              0.4444444444444444,
              "#bd3786"
             ],
             [
              0.5555555555555556,
              "#d8576b"
             ],
             [
              0.6666666666666666,
              "#ed7953"
             ],
             [
              0.7777777777777778,
              "#fb9f3a"
             ],
             [
              0.8888888888888888,
              "#fdca26"
             ],
             [
              1,
              "#f0f921"
             ]
            ],
            "type": "surface"
           }
          ],
          "table": [
           {
            "cells": {
             "fill": {
              "color": "#EBF0F8"
             },
             "line": {
              "color": "white"
             }
            },
            "header": {
             "fill": {
              "color": "#C8D4E3"
             },
             "line": {
              "color": "white"
             }
            },
            "type": "table"
           }
          ]
         },
         "layout": {
          "annotationdefaults": {
           "arrowcolor": "#2a3f5f",
           "arrowhead": 0,
           "arrowwidth": 1
          },
          "autotypenumbers": "strict",
          "coloraxis": {
           "colorbar": {
            "outlinewidth": 0,
            "ticks": ""
           }
          },
          "colorscale": {
           "diverging": [
            [
             0,
             "#8e0152"
            ],
            [
             0.1,
             "#c51b7d"
            ],
            [
             0.2,
             "#de77ae"
            ],
            [
             0.3,
             "#f1b6da"
            ],
            [
             0.4,
             "#fde0ef"
            ],
            [
             0.5,
             "#f7f7f7"
            ],
            [
             0.6,
             "#e6f5d0"
            ],
            [
             0.7,
             "#b8e186"
            ],
            [
             0.8,
             "#7fbc41"
            ],
            [
             0.9,
             "#4d9221"
            ],
            [
             1,
             "#276419"
            ]
           ],
           "sequential": [
            [
             0,
             "#0d0887"
            ],
            [
             0.1111111111111111,
             "#46039f"
            ],
            [
             0.2222222222222222,
             "#7201a8"
            ],
            [
             0.3333333333333333,
             "#9c179e"
            ],
            [
             0.4444444444444444,
             "#bd3786"
            ],
            [
             0.5555555555555556,
             "#d8576b"
            ],
            [
             0.6666666666666666,
             "#ed7953"
            ],
            [
             0.7777777777777778,
             "#fb9f3a"
            ],
            [
             0.8888888888888888,
             "#fdca26"
            ],
            [
             1,
             "#f0f921"
            ]
           ],
           "sequentialminus": [
            [
             0,
             "#0d0887"
            ],
            [
             0.1111111111111111,
             "#46039f"
            ],
            [
             0.2222222222222222,
             "#7201a8"
            ],
            [
             0.3333333333333333,
             "#9c179e"
            ],
            [
             0.4444444444444444,
             "#bd3786"
            ],
            [
             0.5555555555555556,
             "#d8576b"
            ],
            [
             0.6666666666666666,
             "#ed7953"
            ],
            [
             0.7777777777777778,
             "#fb9f3a"
            ],
            [
             0.8888888888888888,
             "#fdca26"
            ],
            [
             1,
             "#f0f921"
            ]
           ]
          },
          "colorway": [
           "#636efa",
           "#EF553B",
           "#00cc96",
           "#ab63fa",
           "#FFA15A",
           "#19d3f3",
           "#FF6692",
           "#B6E880",
           "#FF97FF",
           "#FECB52"
          ],
          "font": {
           "color": "#2a3f5f"
          },
          "geo": {
           "bgcolor": "white",
           "lakecolor": "white",
           "landcolor": "#E5ECF6",
           "showlakes": true,
           "showland": true,
           "subunitcolor": "white"
          },
          "hoverlabel": {
           "align": "left"
          },
          "hovermode": "closest",
          "mapbox": {
           "style": "light"
          },
          "paper_bgcolor": "white",
          "plot_bgcolor": "#E5ECF6",
          "polar": {
           "angularaxis": {
            "gridcolor": "white",
            "linecolor": "white",
            "ticks": ""
           },
           "bgcolor": "#E5ECF6",
           "radialaxis": {
            "gridcolor": "white",
            "linecolor": "white",
            "ticks": ""
           }
          },
          "scene": {
           "xaxis": {
            "backgroundcolor": "#E5ECF6",
            "gridcolor": "white",
            "gridwidth": 2,
            "linecolor": "white",
            "showbackground": true,
            "ticks": "",
            "zerolinecolor": "white"
           },
           "yaxis": {
            "backgroundcolor": "#E5ECF6",
            "gridcolor": "white",
            "gridwidth": 2,
            "linecolor": "white",
            "showbackground": true,
            "ticks": "",
            "zerolinecolor": "white"
           },
           "zaxis": {
            "backgroundcolor": "#E5ECF6",
            "gridcolor": "white",
            "gridwidth": 2,
            "linecolor": "white",
            "showbackground": true,
            "ticks": "",
            "zerolinecolor": "white"
           }
          },
          "shapedefaults": {
           "line": {
            "color": "#2a3f5f"
           }
          },
          "ternary": {
           "aaxis": {
            "gridcolor": "white",
            "linecolor": "white",
            "ticks": ""
           },
           "baxis": {
            "gridcolor": "white",
            "linecolor": "white",
            "ticks": ""
           },
           "bgcolor": "#E5ECF6",
           "caxis": {
            "gridcolor": "white",
            "linecolor": "white",
            "ticks": ""
           }
          },
          "title": {
           "x": 0.05
          },
          "xaxis": {
           "automargin": true,
           "gridcolor": "white",
           "linecolor": "white",
           "ticks": "",
           "title": {
            "standoff": 15
           },
           "zerolinecolor": "white",
           "zerolinewidth": 2
          },
          "yaxis": {
           "automargin": true,
           "gridcolor": "white",
           "linecolor": "white",
           "ticks": "",
           "title": {
            "standoff": 15
           },
           "zerolinecolor": "white",
           "zerolinewidth": 2
          }
         }
        }
       }
      },
      "text/html": [
       "<div>                            <div id=\"5d75a5da-1667-4636-9ea2-f7ca20edf029\" class=\"plotly-graph-div\" style=\"height:525px; width:100%;\"></div>            <script type=\"text/javascript\">                require([\"plotly\"], function(Plotly) {                    window.PLOTLYENV=window.PLOTLYENV || {};                                    if (document.getElementById(\"5d75a5da-1667-4636-9ea2-f7ca20edf029\")) {                    Plotly.newPlot(                        \"5d75a5da-1667-4636-9ea2-f7ca20edf029\",                        [{\"x\":[[0.0,0.000625,0.001875,0.0031249999999999997,0.0043749999999999995,0.005624999999999999,0.006874999999999998,0.008124999999999999,0.009375,0.01],[0.0,0.000625,0.001875,0.0031249999999999997,0.0043749999999999995,0.005624999999999999,0.006874999999999998,0.008124999999999999,0.009375,0.01],[0.0,0.000625,0.001875,0.0031249999999999997,0.0043749999999999995,0.005624999999999999,0.006874999999999998,0.008124999999999999,0.009375,0.01],[0.0,0.000625,0.001875,0.0031249999999999997,0.0043749999999999995,0.005624999999999999,0.006874999999999998,0.008124999999999999,0.009375,0.01],[0.0,0.000625,0.001875,0.0031249999999999997,0.0043749999999999995,0.005624999999999999,0.006874999999999998,0.008124999999999999,0.009375,0.01],[0.0,0.000625,0.001875,0.0031249999999999997,0.0043749999999999995,0.005624999999999999,0.006874999999999998,0.008124999999999999,0.009375,0.01],[0.0,0.000625,0.001875,0.0031249999999999997,0.0043749999999999995,0.005624999999999999,0.006874999999999998,0.008124999999999999,0.009375,0.01],[0.0,0.000625,0.001875,0.0031249999999999997,0.0043749999999999995,0.005624999999999999,0.006874999999999998,0.008124999999999999,0.009375,0.01],[0.0,0.000625,0.001875,0.0031249999999999997,0.0043749999999999995,0.005624999999999999,0.006874999999999998,0.008124999999999999,0.009375,0.01],[0.0,0.000625,0.001875,0.0031249999999999997,0.0043749999999999995,0.005624999999999999,0.006874999999999998,0.008124999999999999,0.009375,0.01]],\"y\":[[0.0,0.0,0.0,0.0,0.0,0.0,0.0,0.0,0.0,0.0],[0.000625,0.000625,0.000625,0.000625,0.000625,0.000625,0.000625,0.000625,0.000625,0.000625],[0.001875,0.001875,0.001875,0.001875,0.001875,0.001875,0.001875,0.001875,0.001875,0.001875],[0.0031249999999999997,0.0031249999999999997,0.0031249999999999997,0.0031249999999999997,0.0031249999999999997,0.0031249999999999997,0.0031249999999999997,0.0031249999999999997,0.0031249999999999997,0.0031249999999999997],[0.0043749999999999995,0.0043749999999999995,0.0043749999999999995,0.0043749999999999995,0.0043749999999999995,0.0043749999999999995,0.0043749999999999995,0.0043749999999999995,0.0043749999999999995,0.0043749999999999995],[0.005624999999999999,0.005624999999999999,0.005624999999999999,0.005624999999999999,0.005624999999999999,0.005624999999999999,0.005624999999999999,0.005624999999999999,0.005624999999999999,0.005624999999999999],[0.006874999999999998,0.006874999999999998,0.006874999999999998,0.006874999999999998,0.006874999999999998,0.006874999999999998,0.006874999999999998,0.006874999999999998,0.006874999999999998,0.006874999999999998],[0.008124999999999999,0.008124999999999999,0.008124999999999999,0.008124999999999999,0.008124999999999999,0.008124999999999999,0.008124999999999999,0.008124999999999999,0.008124999999999999,0.008124999999999999],[0.009375,0.009375,0.009375,0.009375,0.009375,0.009375,0.009375,0.009375,0.009375,0.009375],[0.01,0.01,0.01,0.01,0.01,0.01,0.01,0.01,0.01,0.01]],\"z\":[[0.0,-5.733202676606346e-16,-3.858352563945964e-15,-7.078725410414368e-15,-1.0683486165474764e-14,-1.4680456618958227e-14,-1.9042113888315024e-14,-2.3766430084440115e-14,-2.874449303382982e-14,-3.1872296933766624e-14],[-0.0,-5.171067426581714e-28,-3.26063412905256e-15,-6.612242890129673e-15,-1.0294010162532793e-14,-1.4370981083782913e-14,-1.8809249525615576e-14,-2.358716784454878e-14,-2.888079991393778e-14,-3.1517903805916886e-14],[1.9928436416196667e-28,-3.268927016054045e-16,-2.706703567824718e-15,-5.966865599706344e-15,-9.737367448691506e-15,-1.3932971669669485e-14,-1.848578470170406e-14,-2.3342545987435163e-14,-2.848508190970843e-14,-3.112518069196708e-14],[-5.982571987663604e-28,-4.266410699876906e-16,-2.5825844356544385e-15,-5.687119681173808e-15,-9.444784351988807e-15,-1.3688885090306977e-14,-1.829872136858832e-14,-2.315493632422418e-14,-2.8093834738034898e-14,-3.04102291743616e-14],[-2.1962044006757654e-29,-4.792839449563081e-16,-2.5889992028468126e-15,-5.622900005061308e-15,-9.352121899249343e-15,-1.3601429970609851e-14,-1.8224067883102874e-14,-2.305858140545177e-14,-2.7861674866536664e-14,-3.0015675071255745e-14],[8.228816488607932e-28,-5.16106746975903e-16,-2.6692098650510443e-15,-5.699514179797829e-15,-9.408690075103321e-15,-1.3637869291797127e-14,-1.8245648037669328e-14,-2.3070838146149985e-14,-2.786923274308019e-14,-3.002344287018199e-14],[3.080246172087023e-28,-5.627314301954491e-16,-2.8469475992433403e-15,-5.917677176141271e-15,-9.60617218457377e-15,-1.3790002087199588e-14,-1.8357808499830196e-14,-2.3188324209029433e-14,-2.8113924280318996e-14,-3.0430042800389964e-14],[-3.7724675591354605e-28,-6.851667828913168e-16,-3.2187264862841e-15,-6.332222138041962e-15,-9.971417992620423e-15,-1.4074009159905997e-14,-1.856690771419305e-14,-2.3388281008719503e-14,-2.8511784490393473e-14,-3.114796591395963e-14],[3.702967419873569e-28,-1.1031599171486532e-15,-3.9496228187989135e-15,-7.00382757260171e-15,-1.0535975897510897e-14,-1.4516090080664705e-14,-1.889368998230688e-14,-2.3636203563203728e-14,-2.890754198421258e-14,-3.154944679261467e-14],[0.0,-1.941803154388017e-15,-4.435073943954552e-15,-7.455596567896815e-15,-1.0914266914307469e-14,-1.4821875175415447e-14,-1.9126240471203003e-14,-2.3815304072300944e-14,-2.8776922763352643e-14,-3.187439540410405e-14]],\"type\":\"surface\"}],                        {\"template\":{\"data\":{\"bar\":[{\"error_x\":{\"color\":\"#2a3f5f\"},\"error_y\":{\"color\":\"#2a3f5f\"},\"marker\":{\"line\":{\"color\":\"#E5ECF6\",\"width\":0.5},\"pattern\":{\"fillmode\":\"overlay\",\"size\":10,\"solidity\":0.2}},\"type\":\"bar\"}],\"barpolar\":[{\"marker\":{\"line\":{\"color\":\"#E5ECF6\",\"width\":0.5},\"pattern\":{\"fillmode\":\"overlay\",\"size\":10,\"solidity\":0.2}},\"type\":\"barpolar\"}],\"carpet\":[{\"aaxis\":{\"endlinecolor\":\"#2a3f5f\",\"gridcolor\":\"white\",\"linecolor\":\"white\",\"minorgridcolor\":\"white\",\"startlinecolor\":\"#2a3f5f\"},\"baxis\":{\"endlinecolor\":\"#2a3f5f\",\"gridcolor\":\"white\",\"linecolor\":\"white\",\"minorgridcolor\":\"white\",\"startlinecolor\":\"#2a3f5f\"},\"type\":\"carpet\"}],\"choropleth\":[{\"colorbar\":{\"outlinewidth\":0,\"ticks\":\"\"},\"type\":\"choropleth\"}],\"contour\":[{\"colorbar\":{\"outlinewidth\":0,\"ticks\":\"\"},\"colorscale\":[[0.0,\"#0d0887\"],[0.1111111111111111,\"#46039f\"],[0.2222222222222222,\"#7201a8\"],[0.3333333333333333,\"#9c179e\"],[0.4444444444444444,\"#bd3786\"],[0.5555555555555556,\"#d8576b\"],[0.6666666666666666,\"#ed7953\"],[0.7777777777777778,\"#fb9f3a\"],[0.8888888888888888,\"#fdca26\"],[1.0,\"#f0f921\"]],\"type\":\"contour\"}],\"contourcarpet\":[{\"colorbar\":{\"outlinewidth\":0,\"ticks\":\"\"},\"type\":\"contourcarpet\"}],\"heatmap\":[{\"colorbar\":{\"outlinewidth\":0,\"ticks\":\"\"},\"colorscale\":[[0.0,\"#0d0887\"],[0.1111111111111111,\"#46039f\"],[0.2222222222222222,\"#7201a8\"],[0.3333333333333333,\"#9c179e\"],[0.4444444444444444,\"#bd3786\"],[0.5555555555555556,\"#d8576b\"],[0.6666666666666666,\"#ed7953\"],[0.7777777777777778,\"#fb9f3a\"],[0.8888888888888888,\"#fdca26\"],[1.0,\"#f0f921\"]],\"type\":\"heatmap\"}],\"heatmapgl\":[{\"colorbar\":{\"outlinewidth\":0,\"ticks\":\"\"},\"colorscale\":[[0.0,\"#0d0887\"],[0.1111111111111111,\"#46039f\"],[0.2222222222222222,\"#7201a8\"],[0.3333333333333333,\"#9c179e\"],[0.4444444444444444,\"#bd3786\"],[0.5555555555555556,\"#d8576b\"],[0.6666666666666666,\"#ed7953\"],[0.7777777777777778,\"#fb9f3a\"],[0.8888888888888888,\"#fdca26\"],[1.0,\"#f0f921\"]],\"type\":\"heatmapgl\"}],\"histogram\":[{\"marker\":{\"pattern\":{\"fillmode\":\"overlay\",\"size\":10,\"solidity\":0.2}},\"type\":\"histogram\"}],\"histogram2d\":[{\"colorbar\":{\"outlinewidth\":0,\"ticks\":\"\"},\"colorscale\":[[0.0,\"#0d0887\"],[0.1111111111111111,\"#46039f\"],[0.2222222222222222,\"#7201a8\"],[0.3333333333333333,\"#9c179e\"],[0.4444444444444444,\"#bd3786\"],[0.5555555555555556,\"#d8576b\"],[0.6666666666666666,\"#ed7953\"],[0.7777777777777778,\"#fb9f3a\"],[0.8888888888888888,\"#fdca26\"],[1.0,\"#f0f921\"]],\"type\":\"histogram2d\"}],\"histogram2dcontour\":[{\"colorbar\":{\"outlinewidth\":0,\"ticks\":\"\"},\"colorscale\":[[0.0,\"#0d0887\"],[0.1111111111111111,\"#46039f\"],[0.2222222222222222,\"#7201a8\"],[0.3333333333333333,\"#9c179e\"],[0.4444444444444444,\"#bd3786\"],[0.5555555555555556,\"#d8576b\"],[0.6666666666666666,\"#ed7953\"],[0.7777777777777778,\"#fb9f3a\"],[0.8888888888888888,\"#fdca26\"],[1.0,\"#f0f921\"]],\"type\":\"histogram2dcontour\"}],\"mesh3d\":[{\"colorbar\":{\"outlinewidth\":0,\"ticks\":\"\"},\"type\":\"mesh3d\"}],\"parcoords\":[{\"line\":{\"colorbar\":{\"outlinewidth\":0,\"ticks\":\"\"}},\"type\":\"parcoords\"}],\"pie\":[{\"automargin\":true,\"type\":\"pie\"}],\"scatter\":[{\"marker\":{\"colorbar\":{\"outlinewidth\":0,\"ticks\":\"\"}},\"type\":\"scatter\"}],\"scatter3d\":[{\"line\":{\"colorbar\":{\"outlinewidth\":0,\"ticks\":\"\"}},\"marker\":{\"colorbar\":{\"outlinewidth\":0,\"ticks\":\"\"}},\"type\":\"scatter3d\"}],\"scattercarpet\":[{\"marker\":{\"colorbar\":{\"outlinewidth\":0,\"ticks\":\"\"}},\"type\":\"scattercarpet\"}],\"scattergeo\":[{\"marker\":{\"colorbar\":{\"outlinewidth\":0,\"ticks\":\"\"}},\"type\":\"scattergeo\"}],\"scattergl\":[{\"marker\":{\"colorbar\":{\"outlinewidth\":0,\"ticks\":\"\"}},\"type\":\"scattergl\"}],\"scattermapbox\":[{\"marker\":{\"colorbar\":{\"outlinewidth\":0,\"ticks\":\"\"}},\"type\":\"scattermapbox\"}],\"scatterpolar\":[{\"marker\":{\"colorbar\":{\"outlinewidth\":0,\"ticks\":\"\"}},\"type\":\"scatterpolar\"}],\"scatterpolargl\":[{\"marker\":{\"colorbar\":{\"outlinewidth\":0,\"ticks\":\"\"}},\"type\":\"scatterpolargl\"}],\"scatterternary\":[{\"marker\":{\"colorbar\":{\"outlinewidth\":0,\"ticks\":\"\"}},\"type\":\"scatterternary\"}],\"surface\":[{\"colorbar\":{\"outlinewidth\":0,\"ticks\":\"\"},\"colorscale\":[[0.0,\"#0d0887\"],[0.1111111111111111,\"#46039f\"],[0.2222222222222222,\"#7201a8\"],[0.3333333333333333,\"#9c179e\"],[0.4444444444444444,\"#bd3786\"],[0.5555555555555556,\"#d8576b\"],[0.6666666666666666,\"#ed7953\"],[0.7777777777777778,\"#fb9f3a\"],[0.8888888888888888,\"#fdca26\"],[1.0,\"#f0f921\"]],\"type\":\"surface\"}],\"table\":[{\"cells\":{\"fill\":{\"color\":\"#EBF0F8\"},\"line\":{\"color\":\"white\"}},\"header\":{\"fill\":{\"color\":\"#C8D4E3\"},\"line\":{\"color\":\"white\"}},\"type\":\"table\"}]},\"layout\":{\"annotationdefaults\":{\"arrowcolor\":\"#2a3f5f\",\"arrowhead\":0,\"arrowwidth\":1},\"autotypenumbers\":\"strict\",\"coloraxis\":{\"colorbar\":{\"outlinewidth\":0,\"ticks\":\"\"}},\"colorscale\":{\"diverging\":[[0,\"#8e0152\"],[0.1,\"#c51b7d\"],[0.2,\"#de77ae\"],[0.3,\"#f1b6da\"],[0.4,\"#fde0ef\"],[0.5,\"#f7f7f7\"],[0.6,\"#e6f5d0\"],[0.7,\"#b8e186\"],[0.8,\"#7fbc41\"],[0.9,\"#4d9221\"],[1,\"#276419\"]],\"sequential\":[[0.0,\"#0d0887\"],[0.1111111111111111,\"#46039f\"],[0.2222222222222222,\"#7201a8\"],[0.3333333333333333,\"#9c179e\"],[0.4444444444444444,\"#bd3786\"],[0.5555555555555556,\"#d8576b\"],[0.6666666666666666,\"#ed7953\"],[0.7777777777777778,\"#fb9f3a\"],[0.8888888888888888,\"#fdca26\"],[1.0,\"#f0f921\"]],\"sequentialminus\":[[0.0,\"#0d0887\"],[0.1111111111111111,\"#46039f\"],[0.2222222222222222,\"#7201a8\"],[0.3333333333333333,\"#9c179e\"],[0.4444444444444444,\"#bd3786\"],[0.5555555555555556,\"#d8576b\"],[0.6666666666666666,\"#ed7953\"],[0.7777777777777778,\"#fb9f3a\"],[0.8888888888888888,\"#fdca26\"],[1.0,\"#f0f921\"]]},\"colorway\":[\"#636efa\",\"#EF553B\",\"#00cc96\",\"#ab63fa\",\"#FFA15A\",\"#19d3f3\",\"#FF6692\",\"#B6E880\",\"#FF97FF\",\"#FECB52\"],\"font\":{\"color\":\"#2a3f5f\"},\"geo\":{\"bgcolor\":\"white\",\"lakecolor\":\"white\",\"landcolor\":\"#E5ECF6\",\"showlakes\":true,\"showland\":true,\"subunitcolor\":\"white\"},\"hoverlabel\":{\"align\":\"left\"},\"hovermode\":\"closest\",\"mapbox\":{\"style\":\"light\"},\"paper_bgcolor\":\"white\",\"plot_bgcolor\":\"#E5ECF6\",\"polar\":{\"angularaxis\":{\"gridcolor\":\"white\",\"linecolor\":\"white\",\"ticks\":\"\"},\"bgcolor\":\"#E5ECF6\",\"radialaxis\":{\"gridcolor\":\"white\",\"linecolor\":\"white\",\"ticks\":\"\"}},\"scene\":{\"xaxis\":{\"backgroundcolor\":\"#E5ECF6\",\"gridcolor\":\"white\",\"gridwidth\":2,\"linecolor\":\"white\",\"showbackground\":true,\"ticks\":\"\",\"zerolinecolor\":\"white\"},\"yaxis\":{\"backgroundcolor\":\"#E5ECF6\",\"gridcolor\":\"white\",\"gridwidth\":2,\"linecolor\":\"white\",\"showbackground\":true,\"ticks\":\"\",\"zerolinecolor\":\"white\"},\"zaxis\":{\"backgroundcolor\":\"#E5ECF6\",\"gridcolor\":\"white\",\"gridwidth\":2,\"linecolor\":\"white\",\"showbackground\":true,\"ticks\":\"\",\"zerolinecolor\":\"white\"}},\"shapedefaults\":{\"line\":{\"color\":\"#2a3f5f\"}},\"ternary\":{\"aaxis\":{\"gridcolor\":\"white\",\"linecolor\":\"white\",\"ticks\":\"\"},\"baxis\":{\"gridcolor\":\"white\",\"linecolor\":\"white\",\"ticks\":\"\"},\"bgcolor\":\"#E5ECF6\",\"caxis\":{\"gridcolor\":\"white\",\"linecolor\":\"white\",\"ticks\":\"\"}},\"title\":{\"x\":0.05},\"xaxis\":{\"automargin\":true,\"gridcolor\":\"white\",\"linecolor\":\"white\",\"ticks\":\"\",\"title\":{\"standoff\":15},\"zerolinecolor\":\"white\",\"zerolinewidth\":2},\"yaxis\":{\"automargin\":true,\"gridcolor\":\"white\",\"linecolor\":\"white\",\"ticks\":\"\",\"title\":{\"standoff\":15},\"zerolinecolor\":\"white\",\"zerolinewidth\":2}}}},                        {\"responsive\": true}                    ).then(function(){\n",
       "                            \n",
       "var gd = document.getElementById('5d75a5da-1667-4636-9ea2-f7ca20edf029');\n",
       "var x = new MutationObserver(function (mutations, observer) {{\n",
       "        var display = window.getComputedStyle(gd).display;\n",
       "        if (!display || display === 'none') {{\n",
       "            console.log([gd, 'removed!']);\n",
       "            Plotly.purge(gd);\n",
       "            observer.disconnect();\n",
       "        }}\n",
       "}});\n",
       "\n",
       "// Listen for the removal of the full notebook cells\n",
       "var notebookContainer = gd.closest('#notebook-container');\n",
       "if (notebookContainer) {{\n",
       "    x.observe(notebookContainer, {childList: true});\n",
       "}}\n",
       "\n",
       "// Listen for the clearing of the current output cell\n",
       "var outputEl = gd.closest('.output');\n",
       "if (outputEl) {{\n",
       "    x.observe(outputEl, {childList: true});\n",
       "}}\n",
       "\n",
       "                        })                };                });            </script>        </div>"
      ]
     },
     "metadata": {},
     "output_type": "display_data"
    }
   ],
   "source": [
    "## Time loop\n",
    "\n",
    "!rm -r savedVariables\n",
    "! mkdir savedVariables\n",
    "\n",
    "for time in t:\n",
    "\n",
    "    print(\"\\nTime = \" + str(time))\n",
    "    \n",
    "    # Set number of maximum iterations for convergence\n",
    "    \n",
    "    icorr = 1\n",
    "    maxcorr = 100000\n",
    "\n",
    "    # Make directory\n",
    "\n",
    "    ! mkdir savedVariables/{time}\n",
    "    \n",
    "    while True:\n",
    "    # for iteration in [1]:\n",
    "            \n",
    "        u_previous = u_new #store latest guess values    # change_u new to U\n",
    "\n",
    "        A_x = A(\"x\").createMatrix()        \n",
    "        A_x, b_x = boundary_conditions(A_x, b_x, u_previous, u_old, u_old_old, \"x\")\n",
    "\n",
    "        ## Solve the x-equation\n",
    "        \n",
    "        Ux = spsolve(A_x, b_x)\n",
    "        Ux = np.array(Ux)\n",
    "        \n",
    "        ## Prepare matrix A and b vector for the y-equation\n",
    "        \n",
    "        A_y = A(\"y\").createMatrix()\n",
    "        A_y, b_y = boundary_conditions(A_y, b_y, u_previous, u_old, u_old_old, \"y\")\n",
    "        \n",
    "        ## Solve the y-equation\n",
    "        Uy = spsolve(A_y, b_y)\n",
    "        Uy = np.array(Uy)\n",
    "        \n",
    "        # ## Update U.New with new x and y displacements\n",
    "\n",
    "        u_new = np.vstack((Ux, Uy)).T\n",
    "       \n",
    "        ## Calculate the residual of each iteration\n",
    "        \n",
    "        normFactor = np.max(u_new)\n",
    "        residual = math.sqrt(np.mean((u_new - u_previous)**2))/normFactor\n",
    "        tolerance = 1e-10\n",
    "        \n",
    "    \n",
    "        ##print out residual of each iteration\n",
    "        print(\"icorr = {:01d}, Residual = {:.20f}, normFactor = {:.20f}\".format(icorr, residual, normFactor))\n",
    "             \n",
    "        ## Convergence check\n",
    "        \n",
    "        if residual < tolerance:\n",
    "            \n",
    "            break\n",
    "            \n",
    "        elif icorr > maxcorr:\n",
    "            \n",
    "            break            \n",
    "        \n",
    "        icorr = icorr + 1\n",
    "    \n",
    "    ## Update variables\n",
    "    \n",
    "    u_old_old = u_old\n",
    "    u_old = u_new\n",
    "    \n",
    "    # ## Add the boundary conditions to the solution matrices\n",
    "    u_reshape_x = u_new[:,0].reshape(nx+2, ny+2)\n",
    "    u_reshape_y = u_new[:,1].reshape(nx+2, ny+2)\n",
    "    \n",
    "    # #Boundary conditions for u matrix\n",
    "    U = np.zeros((nx+2,ny+2))\n",
    "    V = np.zeros((nx+2,ny+2))\n",
    " \n",
    "    U[:, :] = u_reshape_x\n",
    "    V[:, :] = u_reshape_y \n",
    "\n",
    "    #Modulus of displacement\n",
    "\n",
    "    disp_mod = np.sqrt((U**2) + (V**2))\n",
    "    disp_mod_converted = disp_mod*1e6 #Convert displacement to micrometers\n",
    "    \n",
    "   ### Plot the results\n",
    "\n",
    "    import plotly.graph_objects as go\n",
    "\n",
    "    disp_mod = np.sqrt((U**2) + (V**2))*1e-10\n",
    "\n",
    "    dispx, dispy = np.meshgrid(x, y)\n",
    "    fig = go.Figure(data=[go.Surface(z=disp_mod_converted, x=dispx, y=dispy)])\n",
    "    \n",
    "fig.show()   \n",
    "\n",
    "print(\"U graph\")\n",
    "fig = go.Figure(data=[go.Surface(z=U, x=dispx, y=dispy)])\n",
    "\n",
    "fig.show()   \n",
    "\n",
    "print(\"V graph\")\n",
    "fig = go.Figure(data=[go.Surface(z=V, x=dispx, y=dispy)])\n",
    "\n",
    "fig.show()"
   ]
  },
  {
   "cell_type": "code",
   "execution_count": 295,
   "metadata": {},
   "outputs": [],
   "source": [
    "df1 = pd.read_csv('/home/scottlevie/pythonsolver/newSolver/OF_GRAPHS/openFoam_U_values_y_0.009375.csv')  \n",
    "df2 = pd.read_csv('/home/scottlevie/pythonsolver/newSolver/OF_GRAPHS/openFoam_U_values_y_0.000625.csv')  "
   ]
  },
  {
   "cell_type": "code",
   "execution_count": 296,
   "metadata": {},
   "outputs": [
    {
     "data": {
      "text/plain": [
       "array([[0.      , 0.000625, 0.001875, 0.003125, 0.004375, 0.005625,\n",
       "        0.006875, 0.008125, 0.009375, 0.01    ]])"
      ]
     },
     "execution_count": 296,
     "metadata": {},
     "output_type": "execute_result"
    },
    {
     "data": {
      "image/png": "[encoded data removed]",
      "text/plain": [
       "<Figure size 720x720 with 1 Axes>"
      ]
     },
     "metadata": {
      "needs_background": "light"
     },
     "output_type": "display_data"
    }
   ],
   "source": [
    "plt.figure(figsize=(10, 10))\n",
    "plt.plot(df1[\"arc_length\"], df1[\"D:0\"], label = \"OF, U @ y = 0.009375\")\n",
    "plt.scatter(x, u_reshape_x[nx,:],  label = \"Python, U @ y = 0.009375\")\n",
    "plt.plot(df2[\"arc_length\"], df2[\"D:0\"], label = \"OF, U @ y = 0.000625\")\n",
    "plt.scatter(x, u_reshape_x[1,:], label = \"Python, U @ y = 0.000625\")\n",
    "plt.title(\"U along x-axis\")\n",
    "plt.legend()\n",
    "\n",
    "x"
   ]
  },
  {
   "cell_type": "code",
   "execution_count": null,
   "metadata": {},
   "outputs": [],
   "source": []
  },
  {
   "cell_type": "code",
   "execution_count": null,
   "metadata": {},
   "outputs": [],
   "source": []
  }
 ],
 "metadata": {
  "interpreter": {
   "hash": "1b2f9133931ab063f1f037caeeb0be83973bf9a3d4f21c40e4cd03e999a0b9b9"
  },
  "kernelspec": {
   "display_name": "Python 3.6.13 64-bit ('python3': conda)",
   "language": "python",
   "name": "python3"
  },
  "language_info": {
   "codemirror_mode": {
    "name": "ipython",
    "version": 3
   },
   "file_extension": ".py",
   "mimetype": "text/x-python",
   "name": "python",
   "nbconvert_exporter": "python",
   "pygments_lexer": "ipython3",
   "version": "3.9.5"
  },
  "orig_nbformat": 4
 },
 "nbformat": 4,
 "nbformat_minor": 2
}
