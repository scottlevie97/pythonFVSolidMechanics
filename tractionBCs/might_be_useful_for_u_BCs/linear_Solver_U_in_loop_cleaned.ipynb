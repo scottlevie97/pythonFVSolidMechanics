{
 "cells": [
  {
   "cell_type": "code",
   "execution_count": 127,
   "metadata": {},
   "outputs": [],
   "source": [
    "import numpy as np\n",
    "import pandas as pd\n",
    "import math\n",
    "from scipy.sparse import csr_matrix\n",
    "from scipy.sparse.linalg import spsolve\n",
    "\n",
    "def printVar (varname, var):\n",
    "\n",
    "    print(varname)\n",
    "    print(var)\n",
    "\n",
    "def saveArray (name, array):\n",
    "\n",
    "    pd.DataFrame(array).to_csv(\"savedVariables/\" + name + \".csv\", index=False, header=None)\n",
    "\n"
   ]
  },
  {
   "cell_type": "code",
   "execution_count": 128,
   "metadata": {},
   "outputs": [],
   "source": [
    "# Solve the 2D Navier-Cauchy equation using a segregated finite volume method\n",
    "\n",
    "# Define mesh geometry and boundary conditions\n",
    "\n",
    "Lx = .01 #width of domain\n",
    "Ly = .01 #height of domain\n",
    "\n",
    "fac = 1000000\n",
    "\n",
    "tr_left_x = +1e-6*fac      #u boundary condition at the left boundary\n",
    "tr_left_y =  1e-6*0     #v boundary condition at the left boundary\n",
    "\n",
    "tr_right_x = -1e-6*fac    #u boundary condition at the right boundary\n",
    "tr_right_y = 1e-6*0     #v boundary condition at the right boundary\n",
    "\n",
    "tr_top_x = 1e-6*0       #u boundary condition at the top boundary\n",
    "tr_top_y = +1e-6*fac       #v boundary condition at the top boundary\n",
    "\n",
    "tr_bottom_x = -1e-6*0    #u boundary condition at the bottom boundary \n",
    "tr_bottom_y = -1e-6*fac    #v boundary condition at the bottom boundary\n",
    "\n",
    "nx = 8          #number of control volumes in the x-direction\n",
    "ny = 8            #number of control volumes in the y-direction\n"
   ]
  },
  {
   "cell_type": "code",
   "execution_count": 129,
   "metadata": {},
   "outputs": [],
   "source": [
    "sys.path.append(\"./Classes/\")\n",
    "\n",
    "from index_and_direction import dim\n",
    "\n",
    "# dim().nx = 9\n",
    "# dim().ny = 9\n",
    "\n",
    "# print(dim().nx)"
   ]
  },
  {
   "cell_type": "code",
   "execution_count": 130,
   "metadata": {},
   "outputs": [
    {
     "name": "stdout",
     "output_type": "stream",
     "text": [
      "8\n"
     ]
    }
   ],
   "source": [
    "print(dim().nx)"
   ]
  },
  {
   "cell_type": "code",
   "execution_count": 131,
   "metadata": {},
   "outputs": [],
   "source": [
    "from index_and_direction import index\n",
    "from index_and_direction import boundary_point_index\n",
    "from index_and_direction import cell_index\n",
    "from index_and_direction import displacement"
   ]
  },
  {
   "cell_type": "code",
   "execution_count": 132,
   "metadata": {},
   "outputs": [],
   "source": [
    "# Define material properties\n",
    "\n",
    "rho = 8050         #density of steel in kg/m^3\n",
    "mu = 78*10e9       #shear modulus in Pa\n",
    "K = 1.6*10e11      #bulk modulus in Pa\n",
    "\n",
    "Lambda = K - (2/3)*mu\n",
    "\n",
    "#print(Lambda)"
   ]
  },
  {
   "cell_type": "code",
   "execution_count": 133,
   "metadata": {},
   "outputs": [],
   "source": [
    "## Define required variables\n",
    "\n",
    "tf = 0.01           #total time in seconds\n",
    "dx = Lx/nx          #length of each control volume in the x-direction\n",
    "dy = Ly/ny          #length of each control volume in the y-direction\n",
    "dt = tf/10          #size of time steps\n",
    "Sfx = dy            #area vector x component (Area of East and West Faces)\n",
    "Sfy = dx            #area vector y component (Area of North and South Faces)\n"
   ]
  },
  {
   "cell_type": "code",
   "execution_count": 134,
   "metadata": {},
   "outputs": [],
   "source": [
    "## Define  position and time vectors\n",
    "\n",
    "t = np.array(np.arange(0,tf, dt))        #time vector (could possibly use a list)\n",
    "x = np.zeros((1,nx+2))   #position vector defining the center points of the control volumes in the x-direction.\n",
    "x[0,nx+1] = Lx\n",
    "x[0,1:nx+1] = np.arange(dx/2,Lx,dx)\n",
    "\n",
    "t = np.array(np.arange(0,tf, dt))        #time vector (could possibly use a list)\n",
    "y = np.zeros((1,ny+2))   #position vector defining the center points of the control volumes in the y-direction.\n",
    "y[0,ny+1] = Ly\n",
    "y[0,1:ny+1] = np.arange(dy/2,Ly,dy)"
   ]
  },
  {
   "cell_type": "code",
   "execution_count": 135,
   "metadata": {},
   "outputs": [],
   "source": [
    "## Define required displacement matrices and b vector\n",
    "\n",
    "u_new = np.zeros([(ny+2)*(nx+2),2])         #unknown displacements at t + 1    (Column 1 = x, Column2 = y)\n",
    "u_old = np.zeros([(ny+2)*(nx+2),2])         #displacement at time t\n",
    "u_old_old = np.zeros([(ny+2)*(nx+2),2])     #displacement at time t - 1\n",
    "\n",
    "#rhs vector\n",
    "b_x = np.zeros([(ny+2)*(nx+2),1])\n",
    "b_y = np.zeros([(ny+2)*(nx+2),1])"
   ]
  },
  {
   "cell_type": "markdown",
   "metadata": {},
   "source": [
    "## X equation:"
   ]
  },
  {
   "cell_type": "code",
   "execution_count": 136,
   "metadata": {},
   "outputs": [],
   "source": [
    "class A:\n",
    "\n",
    "    val = \"value that stays in class without changning with instance\"\n",
    "\n",
    "    def __init__(self, xy):\n",
    "\n",
    "        if xy == \"x\":\n",
    "\n",
    "            self.a_P = (rho*dx*dy/(dt**2))+((4*mu+2*Lambda)*Sfx)/dx + ((2*mu)*Sfy)/dy\n",
    "            self.a_N = ((mu)*Sfy)/dy\n",
    "            self.a_S = ((mu)*Sfy)/dy\n",
    "            self.a_E = ((2*mu + Lambda)*Sfx)/dx\n",
    "            self.a_W = ((2*mu + Lambda)*Sfx)/dx\n",
    "\n",
    "        if xy == \"y\":\n",
    "\n",
    "            self.a_P = (rho*dx*dy/(dt**2))+((4*mu+2*Lambda)*Sfy)/dy + ((2*mu)*Sfx)/dx \n",
    "            self.a_N = ((2*mu + Lambda)*Sfy)/dy\n",
    "            self.a_S = ((2*mu + Lambda)*Sfy)/dy\n",
    "            self.a_E = ((mu)*Sfx)/dx\n",
    "            self.a_W = ((mu)*Sfx)/dx          \n",
    "\n",
    "    def createMatrix(self):\n",
    "\n",
    "        A_no_boundary = np.zeros([(ny+2)*(nx+2), (ny+2)*(nx+2)])\n",
    "        # A_no_boundary = csr_matrix(A_no_boundary)  \n",
    "\n",
    "        for j in np.arange(2, ny):     \n",
    "\n",
    "            for k in np.arange((j*(nx+2)+2), (j*(nx+2)+nx)):  \n",
    "                \n",
    "                A_no_boundary[k,k] = self.a_P\n",
    "                A_no_boundary[k,k+nx+2] = -self.a_N\n",
    "                A_no_boundary[k,k-nx-2] = -self.a_S\n",
    "                A_no_boundary[k,k+1] = -self.a_E\n",
    "                A_no_boundary[k,k-1] = -self.a_W\n",
    "            \n",
    "        return A_no_boundary\n",
    "\n",
    "\n",
    "\n",
    "\n"
   ]
  },
  {
   "cell_type": "code",
   "execution_count": 137,
   "metadata": {},
   "outputs": [
    {
     "name": "stdout",
     "output_type": "stream",
     "text": [
      "\n",
      "Time = 0.0\n",
      "icorr = 1, Residual = 0.67571795189002248350, normFactor = 0.00000000000000190602\n",
      "icorr = 2, Residual = 0.19571926032113845517, normFactor = 0.00000000000000269280\n",
      "icorr = 3, Residual = 0.07149648856110409068, normFactor = 0.00000000000000301974\n",
      "icorr = 4, Residual = 0.02805634765458554780, normFactor = 0.00000000000000315472\n",
      "icorr = 5, Residual = 0.01130593264493476129, normFactor = 0.00000000000000320994\n",
      "icorr = 6, Residual = 0.00460933597453980909, normFactor = 0.00000000000000323334\n",
      "icorr = 7, Residual = 0.00189167199866793279, normFactor = 0.00000000000000324292\n",
      "icorr = 8, Residual = 0.00078262829202866519, normFactor = 0.00000000000000324733\n",
      "icorr = 9, Residual = 0.00033077364897754914, normFactor = 0.00000000000000324916\n",
      "icorr = 10, Residual = 0.00015183506339673311, normFactor = 0.00000000000000325028\n",
      "icorr = 11, Residual = 0.00008885838051367876, normFactor = 0.00000000000000325077\n",
      "\n",
      "Time = 0.001\n"
     ]
    },
    {
     "name": "stderr",
     "output_type": "stream",
     "text": [
      "/home/scottlevie/miniconda3/lib/python3.9/site-packages/scipy/sparse/linalg/dsolve/linsolve.py:144: SparseEfficiencyWarning:\n",
      "\n",
      "spsolve requires A be CSC or CSR matrix format\n",
      "\n"
     ]
    },
    {
     "name": "stdout",
     "output_type": "stream",
     "text": [
      "icorr = 1, Residual = 0.00007171179001698833, normFactor = 0.00000000000000325129\n",
      "\n",
      "Time = 0.002\n",
      "icorr = 1, Residual = 0.00006786699234853282, normFactor = 0.00000000000000325154\n",
      "\n",
      "Time = 0.003\n",
      "icorr = 1, Residual = 0.00006704891288387217, normFactor = 0.00000000000000325194\n",
      "\n",
      "Time = 0.004\n",
      "icorr = 1, Residual = 0.00006688853195252807, normFactor = 0.00000000000000325214\n",
      "\n",
      "Time = 0.005\n",
      "icorr = 1, Residual = 0.00006688961041670938, normFactor = 0.00000000000000325251\n",
      "\n",
      "Time = 0.006\n",
      "icorr = 1, Residual = 0.00006694309405612611, normFactor = 0.00000000000000325270\n",
      "\n",
      "Time = 0.007\n",
      "icorr = 1, Residual = 0.00006701031834050418, normFactor = 0.00000000000000325306\n",
      "\n",
      "Time = 0.008\n",
      "icorr = 1, Residual = 0.00006708839765319319, normFactor = 0.00000000000000325325\n",
      "\n",
      "Time = 0.009000000000000001\n",
      "icorr = 1, Residual = 0.00006716603256832866, normFactor = 0.00000000000000325360\n"
     ]
    },
    {
     "data": {
      "application/vnd.plotly.v1+json": {
       "config": {
        "plotlyServerURL": "https://plot.ly"
       },
       "data": [
        {
         "type": "surface",
         "x": [
          [
           0,
           0.000625,
           0.001875,
           0.0031249999999999997,
           0.0043749999999999995,
           0.005624999999999999,
           0.006874999999999998,
           0.008124999999999999,
           0.009375,
           0.01
          ],
          [
           0,
           0.000625,
           0.001875,
           0.0031249999999999997,
           0.0043749999999999995,
           0.005624999999999999,
           0.006874999999999998,
           0.008124999999999999,
           0.009375,
           0.01
          ],
          [
           0,
           0.000625,
           0.001875,
           0.0031249999999999997,
           0.0043749999999999995,
           0.005624999999999999,
           0.006874999999999998,
           0.008124999999999999,
           0.009375,
           0.01
          ],
          [
           0,
           0.000625,
           0.001875,
           0.0031249999999999997,
           0.0043749999999999995,
           0.005624999999999999,
           0.006874999999999998,
           0.008124999999999999,
           0.009375,
           0.01
          ],
          [
           0,
           0.000625,
           0.001875,
           0.0031249999999999997,
           0.0043749999999999995,
           0.005624999999999999,
           0.006874999999999998,
           0.008124999999999999,
           0.009375,
           0.01
          ],
          [
           0,
           0.000625,
           0.001875,
           0.0031249999999999997,
           0.0043749999999999995,
           0.005624999999999999,
           0.006874999999999998,
           0.008124999999999999,
           0.009375,
           0.01
          ],
          [
           0,
           0.000625,
           0.001875,
           0.0031249999999999997,
           0.0043749999999999995,
           0.005624999999999999,
           0.006874999999999998,
           0.008124999999999999,
           0.009375,
           0.01
          ],
          [
           0,
           0.000625,
           0.001875,
           0.0031249999999999997,
           0.0043749999999999995,
           0.005624999999999999,
           0.006874999999999998,
           0.008124999999999999,
           0.009375,
           0.01
          ],
          [
           0,
           0.000625,
           0.001875,
           0.0031249999999999997,
           0.0043749999999999995,
           0.005624999999999999,
           0.006874999999999998,
           0.008124999999999999,
           0.009375,
           0.01
          ],
          [
           0,
           0.000625,
           0.001875,
           0.0031249999999999997,
           0.0043749999999999995,
           0.005624999999999999,
           0.006874999999999998,
           0.008124999999999999,
           0.009375,
           0.01
          ]
         ],
         "y": [
          [
           0,
           0,
           0,
           0,
           0,
           0,
           0,
           0,
           0,
           0
          ],
          [
           0.000625,
           0.000625,
           0.000625,
           0.000625,
           0.000625,
           0.000625,
           0.000625,
           0.000625,
           0.000625,
           0.000625
          ],
          [
           0.001875,
           0.001875,
           0.001875,
           0.001875,
           0.001875,
           0.001875,
           0.001875,
           0.001875,
           0.001875,
           0.001875
          ],
          [
           0.0031249999999999997,
           0.0031249999999999997,
           0.0031249999999999997,
           0.0031249999999999997,
           0.0031249999999999997,
           0.0031249999999999997,
           0.0031249999999999997,
           0.0031249999999999997,
           0.0031249999999999997,
           0.0031249999999999997
          ],
          [
           0.0043749999999999995,
           0.0043749999999999995,
           0.0043749999999999995,
           0.0043749999999999995,
           0.0043749999999999995,
           0.0043749999999999995,
           0.0043749999999999995,
           0.0043749999999999995,
           0.0043749999999999995,
           0.0043749999999999995
          ],
          [
           0.005624999999999999,
           0.005624999999999999,
           0.005624999999999999,
           0.005624999999999999,
           0.005624999999999999,
           0.005624999999999999,
           0.005624999999999999,
           0.005624999999999999,
           0.005624999999999999,
           0.005624999999999999
          ],
          [
           0.006874999999999998,
           0.006874999999999998,
           0.006874999999999998,
           0.006874999999999998,
           0.006874999999999998,
           0.006874999999999998,
           0.006874999999999998,
           0.006874999999999998,
           0.006874999999999998,
           0.006874999999999998
          ],
          [
           0.008124999999999999,
           0.008124999999999999,
           0.008124999999999999,
           0.008124999999999999,
           0.008124999999999999,
           0.008124999999999999,
           0.008124999999999999,
           0.008124999999999999,
           0.008124999999999999,
           0.008124999999999999
          ],
          [
           0.009375,
           0.009375,
           0.009375,
           0.009375,
           0.009375,
           0.009375,
           0.009375,
           0.009375,
           0.009375,
           0.009375
          ],
          [
           0.01,
           0.01,
           0.01,
           0.01,
           0.01,
           0.01,
           0.01,
           0.01,
           0.01,
           0.01
          ]
         ],
         "z": [
          [
           4.53160647123264e-9,
           4.231706404512869e-9,
           3.7693305561351225e-9,
           3.4194064415541666e-9,
           3.2288508391720043e-9,
           3.230536446135215e-9,
           3.4262478408880976e-9,
           3.791698759532375e-9,
           4.307105075176671e-9,
           4.534858452484275e-9
          ],
          [
           4.246668769432967e-9,
           3.9574185412785175e-9,
           3.4408575781093236e-9,
           3.0486648021877314e-9,
           2.831725702721656e-9,
           2.8333274383964644e-9,
           3.053006293892992e-9,
           3.451265785452358e-9,
           3.978656009463079e-9,
           4.2708198747135655e-9
          ],
          [
           3.773962587046173e-9,
           3.4416677310222838e-9,
           2.82878287596226e-9,
           2.33341622924917e-9,
           2.041575884815719e-9,
           2.043346817668456e-9,
           2.3381780351861387e-9,
           2.836820565512972e-9,
           3.453205927201946e-9,
           3.787182837278026e-9
          ],
          [
           3.41970522862264e-9,
           3.0479483909455428e-9,
           2.3331072810734905e-9,
           1.697410589065129e-9,
           1.2657130583768923e-9,
           1.2675212846327395e-9,
           1.7014891075042977e-9,
           2.3385030350307005e-9,
           3.0544952021893273e-9,
           3.4267270145457065e-9
          ],
          [
           3.228627555091134e-9,
           2.8315380249133e-9,
           2.0415176306766513e-9,
           1.265770380244545e-9,
           5.658181789779524e-10,
           5.670132378003459e-10,
           1.267308869944462e-9,
           2.0431026244693613e-9,
           2.8332856693823994e-9,
           3.230560683490573e-9
          ],
          [
           3.2305118566845814e-9,
           2.8333155220808582e-9,
           2.043415214724281e-9,
           1.2676666609975395e-9,
           5.672677752900715e-10,
           5.65414016994925e-10,
           1.2650958459218633e-9,
           2.0406551125864405e-9,
           2.8305388973554338e-9,
           3.2278193628005103e-9
          ],
          [
           3.4261725244812096e-9,
           3.0529764134121588e-9,
           2.338199107025327e-9,
           1.7015704100257951e-9,
           1.2674922858122892e-9,
           1.2652894377682517e-9,
           1.696601277776194e-9,
           2.3321071482328792e-9,
           3.046432855150803e-9,
           3.4195834954800334e-9
          ],
          [
           3.791462311307244e-9,
           3.451086800380945e-9,
           2.836688191631651e-9,
           2.3384248542420454e-9,
           2.0431670862120655e-9,
           2.040964639648044e-9,
           2.3326340084786315e-9,
           2.8286972035475364e-9,
           3.4418024685787344e-9,
           3.7818251008032396e-9
          ],
          [
           4.306698054166457e-9,
           3.978339415313398e-9,
           3.4529483950635545e-9,
           3.0543021311053576e-9,
           2.83330806160999e-9,
           2.8311300834005505e-9,
           3.0482416763380944e-9,
           3.4439698593873646e-9,
           3.967049343024455e-9,
           4.294720344619222e-9
          ],
          [
           4.534460546940669e-9,
           4.2704991177124365e-9,
           3.786937981579642e-9,
           3.4265700234036577e-9,
           3.2306284280969394e-9,
           3.2284536062412434e-9,
           3.4203740126340468e-9,
           3.777243905680134e-9,
           4.256332745693185e-9,
           4.5224976848421135e-9
          ]
         ]
        }
       ],
       "layout": {
        "template": {
         "data": {
          "bar": [
           {
            "error_x": {
             "color": "#2a3f5f"
            },
            "error_y": {
             "color": "#2a3f5f"
            },
            "marker": {
             "line": {
              "color": "#E5ECF6",
              "width": 0.5
             },
             "pattern": {
              "fillmode": "overlay",
              "size": 10,
              "solidity": 0.2
             }
            },
            "type": "bar"
           }
          ],
          "barpolar": [
           {
            "marker": {
             "line": {
              "color": "#E5ECF6",
              "width": 0.5
             },
             "pattern": {
              "fillmode": "overlay",
              "size": 10,
              "solidity": 0.2
             }
            },
            "type": "barpolar"
           }
          ],
          "carpet": [
           {
            "aaxis": {
             "endlinecolor": "#2a3f5f",
             "gridcolor": "white",
             "linecolor": "white",
             "minorgridcolor": "white",
             "startlinecolor": "#2a3f5f"
            },
            "baxis": {
             "endlinecolor": "#2a3f5f",
             "gridcolor": "white",
             "linecolor": "white",
             "minorgridcolor": "white",
             "startlinecolor": "#2a3f5f"
            },
            "type": "carpet"
           }
          ],
          "choropleth": [
           {
            "colorbar": {
             "outlinewidth": 0,
             "ticks": ""
            },
            "type": "choropleth"
           }
          ],
          "contour": [
           {
            "colorbar": {
             "outlinewidth": 0,
             "ticks": ""
            },
            "colorscale": [
             [
              0,
              "#0d0887"
             ],
             [
              0.1111111111111111,
              "#46039f"
             ],
             [
              0.2222222222222222,
              "#7201a8"
             ],
             [
              0.3333333333333333,
              "#9c179e"
             ],
             [
              0.4444444444444444,
              "#bd3786"
             ],
             [
              0.5555555555555556,
              "#d8576b"
             ],
             [
              0.6666666666666666,
              "#ed7953"
             ],
             [
              0.7777777777777778,
              "#fb9f3a"
             ],
             [
              0.8888888888888888,
              "#fdca26"
             ],
             [
              1,
              "#f0f921"
             ]
            ],
            "type": "contour"
           }
          ],
          "contourcarpet": [
           {
            "colorbar": {
             "outlinewidth": 0,
             "ticks": ""
            },
            "type": "contourcarpet"
           }
          ],
          "heatmap": [
           {
            "colorbar": {
             "outlinewidth": 0,
             "ticks": ""
            },
            "colorscale": [
             [
              0,
              "#0d0887"
             ],
             [
              0.1111111111111111,
              "#46039f"
             ],
             [
              0.2222222222222222,
              "#7201a8"
             ],
             [
              0.3333333333333333,
              "#9c179e"
             ],
             [
              0.4444444444444444,
              "#bd3786"
             ],
             [
              0.5555555555555556,
              "#d8576b"
             ],
             [
              0.6666666666666666,
              "#ed7953"
             ],
             [
              0.7777777777777778,
              "#fb9f3a"
             ],
             [
              0.8888888888888888,
              "#fdca26"
             ],
             [
              1,
              "#f0f921"
             ]
            ],
            "type": "heatmap"
           }
          ],
          "heatmapgl": [
           {
            "colorbar": {
             "outlinewidth": 0,
             "ticks": ""
            },
            "colorscale": [
             [
              0,
              "#0d0887"
             ],
             [
              0.1111111111111111,
              "#46039f"
             ],
             [
              0.2222222222222222,
              "#7201a8"
             ],
             [
              0.3333333333333333,
              "#9c179e"
             ],
             [
              0.4444444444444444,
              "#bd3786"
             ],
             [
              0.5555555555555556,
              "#d8576b"
             ],
             [
              0.6666666666666666,
              "#ed7953"
             ],
             [
              0.7777777777777778,
              "#fb9f3a"
             ],
             [
              0.8888888888888888,
              "#fdca26"
             ],
             [
              1,
              "#f0f921"
             ]
            ],
            "type": "heatmapgl"
           }
          ],
          "histogram": [
           {
            "marker": {
             "pattern": {
              "fillmode": "overlay",
              "size": 10,
              "solidity": 0.2
             }
            },
            "type": "histogram"
           }
          ],
          "histogram2d": [
           {
            "colorbar": {
             "outlinewidth": 0,
             "ticks": ""
            },
            "colorscale": [
             [
              0,
              "#0d0887"
             ],
             [
              0.1111111111111111,
              "#46039f"
             ],
             [
              0.2222222222222222,
              "#7201a8"
             ],
             [
              0.3333333333333333,
              "#9c179e"
             ],
             [
              0.4444444444444444,
              "#bd3786"
             ],
             [
              0.5555555555555556,
              "#d8576b"
             ],
             [
              0.6666666666666666,
              "#ed7953"
             ],
             [
              0.7777777777777778,
              "#fb9f3a"
             ],
             [
              0.8888888888888888,
              "#fdca26"
             ],
             [
              1,
              "#f0f921"
             ]
            ],
            "type": "histogram2d"
           }
          ],
          "histogram2dcontour": [
           {
            "colorbar": {
             "outlinewidth": 0,
             "ticks": ""
            },
            "colorscale": [
             [
              0,
              "#0d0887"
             ],
             [
              0.1111111111111111,
              "#46039f"
             ],
             [
              0.2222222222222222,
              "#7201a8"
             ],
             [
              0.3333333333333333,
              "#9c179e"
             ],
             [
              0.4444444444444444,
              "#bd3786"
             ],
             [
              0.5555555555555556,
              "#d8576b"
             ],
             [
              0.6666666666666666,
              "#ed7953"
             ],
             [
              0.7777777777777778,
              "#fb9f3a"
             ],
             [
              0.8888888888888888,
              "#fdca26"
             ],
             [
              1,
              "#f0f921"
             ]
            ],
            "type": "histogram2dcontour"
           }
          ],
          "mesh3d": [
           {
            "colorbar": {
             "outlinewidth": 0,
             "ticks": ""
            },
            "type": "mesh3d"
           }
          ],
          "parcoords": [
           {
            "line": {
             "colorbar": {
              "outlinewidth": 0,
              "ticks": ""
             }
            },
            "type": "parcoords"
           }
          ],
          "pie": [
           {
            "automargin": true,
            "type": "pie"
           }
          ],
          "scatter": [
           {
            "marker": {
             "colorbar": {
              "outlinewidth": 0,
              "ticks": ""
             }
            },
            "type": "scatter"
           }
          ],
          "scatter3d": [
           {
            "line": {
             "colorbar": {
              "outlinewidth": 0,
              "ticks": ""
             }
            },
            "marker": {
             "colorbar": {
              "outlinewidth": 0,
              "ticks": ""
             }
            },
            "type": "scatter3d"
           }
          ],
          "scattercarpet": [
           {
            "marker": {
             "colorbar": {
              "outlinewidth": 0,
              "ticks": ""
             }
            },
            "type": "scattercarpet"
           }
          ],
          "scattergeo": [
           {
            "marker": {
             "colorbar": {
              "outlinewidth": 0,
              "ticks": ""
             }
            },
            "type": "scattergeo"
           }
          ],
          "scattergl": [
           {
            "marker": {
             "colorbar": {
              "outlinewidth": 0,
              "ticks": ""
             }
            },
            "type": "scattergl"
           }
          ],
          "scattermapbox": [
           {
            "marker": {
             "colorbar": {
              "outlinewidth": 0,
              "ticks": ""
             }
            },
            "type": "scattermapbox"
           }
          ],
          "scatterpolar": [
           {
            "marker": {
             "colorbar": {
              "outlinewidth": 0,
              "ticks": ""
             }
            },
            "type": "scatterpolar"
           }
          ],
          "scatterpolargl": [
           {
            "marker": {
             "colorbar": {
              "outlinewidth": 0,
              "ticks": ""
             }
            },
            "type": "scatterpolargl"
           }
          ],
          "scatterternary": [
           {
            "marker": {
             "colorbar": {
              "outlinewidth": 0,
              "ticks": ""
             }
            },
            "type": "scatterternary"
           }
          ],
          "surface": [
           {
            "colorbar": {
             "outlinewidth": 0,
             "ticks": ""
            },
            "colorscale": [
             [
              0,
              "#0d0887"
             ],
             [
              0.1111111111111111,
              "#46039f"
             ],
             [
              0.2222222222222222,
              "#7201a8"
             ],
             [
              0.3333333333333333,
              "#9c179e"
             ],
             [
              0.4444444444444444,
              "#bd3786"
             ],
             [
              0.5555555555555556,
              "#d8576b"
             ],
             [
              0.6666666666666666,
              "#ed7953"
             ],
             [
              0.7777777777777778,
              "#fb9f3a"
             ],
             [
              0.8888888888888888,
              "#fdca26"
             ],
             [
              1,
              "#f0f921"
             ]
            ],
            "type": "surface"
           }
          ],
          "table": [
           {
            "cells": {
             "fill": {
              "color": "#EBF0F8"
             },
             "line": {
              "color": "white"
             }
            },
            "header": {
             "fill": {
              "color": "#C8D4E3"
             },
             "line": {
              "color": "white"
             }
            },
            "type": "table"
           }
          ]
         },
         "layout": {
          "annotationdefaults": {
           "arrowcolor": "#2a3f5f",
           "arrowhead": 0,
           "arrowwidth": 1
          },
          "autotypenumbers": "strict",
          "coloraxis": {
           "colorbar": {
            "outlinewidth": 0,
            "ticks": ""
           }
          },
          "colorscale": {
           "diverging": [
            [
             0,
             "#8e0152"
            ],
            [
             0.1,
             "#c51b7d"
            ],
            [
             0.2,
             "#de77ae"
            ],
            [
             0.3,
             "#f1b6da"
            ],
            [
             0.4,
             "#fde0ef"
            ],
            [
             0.5,
             "#f7f7f7"
            ],
            [
             0.6,
             "#e6f5d0"
            ],
            [
             0.7,
             "#b8e186"
            ],
            [
             0.8,
             "#7fbc41"
            ],
            [
             0.9,
             "#4d9221"
            ],
            [
             1,
             "#276419"
            ]
           ],
           "sequential": [
            [
             0,
             "#0d0887"
            ],
            [
             0.1111111111111111,
             "#46039f"
            ],
            [
             0.2222222222222222,
             "#7201a8"
            ],
            [
             0.3333333333333333,
             "#9c179e"
            ],
            [
             0.4444444444444444,
             "#bd3786"
            ],
            [
             0.5555555555555556,
             "#d8576b"
            ],
            [
             0.6666666666666666,
             "#ed7953"
            ],
            [
             0.7777777777777778,
             "#fb9f3a"
            ],
            [
             0.8888888888888888,
             "#fdca26"
            ],
            [
             1,
             "#f0f921"
            ]
           ],
           "sequentialminus": [
            [
             0,
             "#0d0887"
            ],
            [
             0.1111111111111111,
             "#46039f"
            ],
            [
             0.2222222222222222,
             "#7201a8"
            ],
            [
             0.3333333333333333,
             "#9c179e"
            ],
            [
             0.4444444444444444,
             "#bd3786"
            ],
            [
             0.5555555555555556,
             "#d8576b"
            ],
            [
             0.6666666666666666,
             "#ed7953"
            ],
            [
             0.7777777777777778,
             "#fb9f3a"
            ],
            [
             0.8888888888888888,
             "#fdca26"
            ],
            [
             1,
             "#f0f921"
            ]
           ]
          },
          "colorway": [
           "#636efa",
           "#EF553B",
           "#00cc96",
           "#ab63fa",
           "#FFA15A",
           "#19d3f3",
           "#FF6692",
           "#B6E880",
           "#FF97FF",
           "#FECB52"
          ],
          "font": {
           "color": "#2a3f5f"
          },
          "geo": {
           "bgcolor": "white",
           "lakecolor": "white",
           "landcolor": "#E5ECF6",
           "showlakes": true,
           "showland": true,
           "subunitcolor": "white"
          },
          "hoverlabel": {
           "align": "left"
          },
          "hovermode": "closest",
          "mapbox": {
           "style": "light"
          },
          "paper_bgcolor": "white",
          "plot_bgcolor": "#E5ECF6",
          "polar": {
           "angularaxis": {
            "gridcolor": "white",
            "linecolor": "white",
            "ticks": ""
           },
           "bgcolor": "#E5ECF6",
           "radialaxis": {
            "gridcolor": "white",
            "linecolor": "white",
            "ticks": ""
           }
          },
          "scene": {
           "xaxis": {
            "backgroundcolor": "#E5ECF6",
            "gridcolor": "white",
            "gridwidth": 2,
            "linecolor": "white",
            "showbackground": true,
            "ticks": "",
            "zerolinecolor": "white"
           },
           "yaxis": {
            "backgroundcolor": "#E5ECF6",
            "gridcolor": "white",
            "gridwidth": 2,
            "linecolor": "white",
            "showbackground": true,
            "ticks": "",
            "zerolinecolor": "white"
           },
           "zaxis": {
            "backgroundcolor": "#E5ECF6",
            "gridcolor": "white",
            "gridwidth": 2,
            "linecolor": "white",
            "showbackground": true,
            "ticks": "",
            "zerolinecolor": "white"
           }
          },
          "shapedefaults": {
           "line": {
            "color": "#2a3f5f"
           }
          },
          "ternary": {
           "aaxis": {
            "gridcolor": "white",
            "linecolor": "white",
            "ticks": ""
           },
           "baxis": {
            "gridcolor": "white",
            "linecolor": "white",
            "ticks": ""
           },
           "bgcolor": "#E5ECF6",
           "caxis": {
            "gridcolor": "white",
            "linecolor": "white",
            "ticks": ""
           }
          },
          "title": {
           "x": 0.05
          },
          "xaxis": {
           "automargin": true,
           "gridcolor": "white",
           "linecolor": "white",
           "ticks": "",
           "title": {
            "standoff": 15
           },
           "zerolinecolor": "white",
           "zerolinewidth": 2
          },
          "yaxis": {
           "automargin": true,
           "gridcolor": "white",
           "linecolor": "white",
           "ticks": "",
           "title": {
            "standoff": 15
           },
           "zerolinecolor": "white",
           "zerolinewidth": 2
          }
         }
        }
       }
      },
      "text/html": [
       "<div>                            <div id=\"19218293-3425-446c-8bc3-201181c66e06\" class=\"plotly-graph-div\" style=\"height:525px; width:100%;\"></div>            <script type=\"text/javascript\">                require([\"plotly\"], function(Plotly) {                    window.PLOTLYENV=window.PLOTLYENV || {};                                    if (document.getElementById(\"19218293-3425-446c-8bc3-201181c66e06\")) {                    Plotly.newPlot(                        \"19218293-3425-446c-8bc3-201181c66e06\",                        [{\"x\":[[0.0,0.000625,0.001875,0.0031249999999999997,0.0043749999999999995,0.005624999999999999,0.006874999999999998,0.008124999999999999,0.009375,0.01],[0.0,0.000625,0.001875,0.0031249999999999997,0.0043749999999999995,0.005624999999999999,0.006874999999999998,0.008124999999999999,0.009375,0.01],[0.0,0.000625,0.001875,0.0031249999999999997,0.0043749999999999995,0.005624999999999999,0.006874999999999998,0.008124999999999999,0.009375,0.01],[0.0,0.000625,0.001875,0.0031249999999999997,0.0043749999999999995,0.005624999999999999,0.006874999999999998,0.008124999999999999,0.009375,0.01],[0.0,0.000625,0.001875,0.0031249999999999997,0.0043749999999999995,0.005624999999999999,0.006874999999999998,0.008124999999999999,0.009375,0.01],[0.0,0.000625,0.001875,0.0031249999999999997,0.0043749999999999995,0.005624999999999999,0.006874999999999998,0.008124999999999999,0.009375,0.01],[0.0,0.000625,0.001875,0.0031249999999999997,0.0043749999999999995,0.005624999999999999,0.006874999999999998,0.008124999999999999,0.009375,0.01],[0.0,0.000625,0.001875,0.0031249999999999997,0.0043749999999999995,0.005624999999999999,0.006874999999999998,0.008124999999999999,0.009375,0.01],[0.0,0.000625,0.001875,0.0031249999999999997,0.0043749999999999995,0.005624999999999999,0.006874999999999998,0.008124999999999999,0.009375,0.01],[0.0,0.000625,0.001875,0.0031249999999999997,0.0043749999999999995,0.005624999999999999,0.006874999999999998,0.008124999999999999,0.009375,0.01]],\"y\":[[0.0,0.0,0.0,0.0,0.0,0.0,0.0,0.0,0.0,0.0],[0.000625,0.000625,0.000625,0.000625,0.000625,0.000625,0.000625,0.000625,0.000625,0.000625],[0.001875,0.001875,0.001875,0.001875,0.001875,0.001875,0.001875,0.001875,0.001875,0.001875],[0.0031249999999999997,0.0031249999999999997,0.0031249999999999997,0.0031249999999999997,0.0031249999999999997,0.0031249999999999997,0.0031249999999999997,0.0031249999999999997,0.0031249999999999997,0.0031249999999999997],[0.0043749999999999995,0.0043749999999999995,0.0043749999999999995,0.0043749999999999995,0.0043749999999999995,0.0043749999999999995,0.0043749999999999995,0.0043749999999999995,0.0043749999999999995,0.0043749999999999995],[0.005624999999999999,0.005624999999999999,0.005624999999999999,0.005624999999999999,0.005624999999999999,0.005624999999999999,0.005624999999999999,0.005624999999999999,0.005624999999999999,0.005624999999999999],[0.006874999999999998,0.006874999999999998,0.006874999999999998,0.006874999999999998,0.006874999999999998,0.006874999999999998,0.006874999999999998,0.006874999999999998,0.006874999999999998,0.006874999999999998],[0.008124999999999999,0.008124999999999999,0.008124999999999999,0.008124999999999999,0.008124999999999999,0.008124999999999999,0.008124999999999999,0.008124999999999999,0.008124999999999999,0.008124999999999999],[0.009375,0.009375,0.009375,0.009375,0.009375,0.009375,0.009375,0.009375,0.009375,0.009375],[0.01,0.01,0.01,0.01,0.01,0.01,0.01,0.01,0.01,0.01]],\"z\":[[4.53160647123264e-09,4.231706404512869e-09,3.7693305561351225e-09,3.4194064415541666e-09,3.2288508391720043e-09,3.230536446135215e-09,3.4262478408880976e-09,3.791698759532375e-09,4.307105075176671e-09,4.534858452484275e-09],[4.246668769432967e-09,3.9574185412785175e-09,3.4408575781093236e-09,3.0486648021877314e-09,2.831725702721656e-09,2.8333274383964644e-09,3.053006293892992e-09,3.451265785452358e-09,3.978656009463079e-09,4.2708198747135655e-09],[3.773962587046173e-09,3.4416677310222838e-09,2.82878287596226e-09,2.33341622924917e-09,2.041575884815719e-09,2.043346817668456e-09,2.3381780351861387e-09,2.836820565512972e-09,3.453205927201946e-09,3.787182837278026e-09],[3.41970522862264e-09,3.0479483909455428e-09,2.3331072810734905e-09,1.697410589065129e-09,1.2657130583768923e-09,1.2675212846327395e-09,1.7014891075042977e-09,2.3385030350307005e-09,3.0544952021893273e-09,3.4267270145457065e-09],[3.228627555091134e-09,2.8315380249133e-09,2.0415176306766513e-09,1.265770380244545e-09,5.658181789779524e-10,5.670132378003459e-10,1.267308869944462e-09,2.0431026244693613e-09,2.8332856693823994e-09,3.230560683490573e-09],[3.2305118566845814e-09,2.8333155220808582e-09,2.043415214724281e-09,1.2676666609975395e-09,5.672677752900715e-10,5.65414016994925e-10,1.2650958459218633e-09,2.0406551125864405e-09,2.8305388973554338e-09,3.2278193628005103e-09],[3.4261725244812096e-09,3.0529764134121588e-09,2.338199107025327e-09,1.7015704100257951e-09,1.2674922858122892e-09,1.2652894377682517e-09,1.696601277776194e-09,2.3321071482328792e-09,3.046432855150803e-09,3.4195834954800334e-09],[3.791462311307244e-09,3.451086800380945e-09,2.836688191631651e-09,2.3384248542420454e-09,2.0431670862120655e-09,2.040964639648044e-09,2.3326340084786315e-09,2.8286972035475364e-09,3.4418024685787344e-09,3.7818251008032396e-09],[4.306698054166457e-09,3.978339415313398e-09,3.4529483950635545e-09,3.0543021311053576e-09,2.83330806160999e-09,2.8311300834005505e-09,3.0482416763380944e-09,3.4439698593873646e-09,3.967049343024455e-09,4.294720344619222e-09],[4.534460546940669e-09,4.2704991177124365e-09,3.786937981579642e-09,3.4265700234036577e-09,3.2306284280969394e-09,3.2284536062412434e-09,3.4203740126340468e-09,3.777243905680134e-09,4.256332745693185e-09,4.5224976848421135e-09]],\"type\":\"surface\"}],                        {\"template\":{\"data\":{\"bar\":[{\"error_x\":{\"color\":\"#2a3f5f\"},\"error_y\":{\"color\":\"#2a3f5f\"},\"marker\":{\"line\":{\"color\":\"#E5ECF6\",\"width\":0.5},\"pattern\":{\"fillmode\":\"overlay\",\"size\":10,\"solidity\":0.2}},\"type\":\"bar\"}],\"barpolar\":[{\"marker\":{\"line\":{\"color\":\"#E5ECF6\",\"width\":0.5},\"pattern\":{\"fillmode\":\"overlay\",\"size\":10,\"solidity\":0.2}},\"type\":\"barpolar\"}],\"carpet\":[{\"aaxis\":{\"endlinecolor\":\"#2a3f5f\",\"gridcolor\":\"white\",\"linecolor\":\"white\",\"minorgridcolor\":\"white\",\"startlinecolor\":\"#2a3f5f\"},\"baxis\":{\"endlinecolor\":\"#2a3f5f\",\"gridcolor\":\"white\",\"linecolor\":\"white\",\"minorgridcolor\":\"white\",\"startlinecolor\":\"#2a3f5f\"},\"type\":\"carpet\"}],\"choropleth\":[{\"colorbar\":{\"outlinewidth\":0,\"ticks\":\"\"},\"type\":\"choropleth\"}],\"contour\":[{\"colorbar\":{\"outlinewidth\":0,\"ticks\":\"\"},\"colorscale\":[[0.0,\"#0d0887\"],[0.1111111111111111,\"#46039f\"],[0.2222222222222222,\"#7201a8\"],[0.3333333333333333,\"#9c179e\"],[0.4444444444444444,\"#bd3786\"],[0.5555555555555556,\"#d8576b\"],[0.6666666666666666,\"#ed7953\"],[0.7777777777777778,\"#fb9f3a\"],[0.8888888888888888,\"#fdca26\"],[1.0,\"#f0f921\"]],\"type\":\"contour\"}],\"contourcarpet\":[{\"colorbar\":{\"outlinewidth\":0,\"ticks\":\"\"},\"type\":\"contourcarpet\"}],\"heatmap\":[{\"colorbar\":{\"outlinewidth\":0,\"ticks\":\"\"},\"colorscale\":[[0.0,\"#0d0887\"],[0.1111111111111111,\"#46039f\"],[0.2222222222222222,\"#7201a8\"],[0.3333333333333333,\"#9c179e\"],[0.4444444444444444,\"#bd3786\"],[0.5555555555555556,\"#d8576b\"],[0.6666666666666666,\"#ed7953\"],[0.7777777777777778,\"#fb9f3a\"],[0.8888888888888888,\"#fdca26\"],[1.0,\"#f0f921\"]],\"type\":\"heatmap\"}],\"heatmapgl\":[{\"colorbar\":{\"outlinewidth\":0,\"ticks\":\"\"},\"colorscale\":[[0.0,\"#0d0887\"],[0.1111111111111111,\"#46039f\"],[0.2222222222222222,\"#7201a8\"],[0.3333333333333333,\"#9c179e\"],[0.4444444444444444,\"#bd3786\"],[0.5555555555555556,\"#d8576b\"],[0.6666666666666666,\"#ed7953\"],[0.7777777777777778,\"#fb9f3a\"],[0.8888888888888888,\"#fdca26\"],[1.0,\"#f0f921\"]],\"type\":\"heatmapgl\"}],\"histogram\":[{\"marker\":{\"pattern\":{\"fillmode\":\"overlay\",\"size\":10,\"solidity\":0.2}},\"type\":\"histogram\"}],\"histogram2d\":[{\"colorbar\":{\"outlinewidth\":0,\"ticks\":\"\"},\"colorscale\":[[0.0,\"#0d0887\"],[0.1111111111111111,\"#46039f\"],[0.2222222222222222,\"#7201a8\"],[0.3333333333333333,\"#9c179e\"],[0.4444444444444444,\"#bd3786\"],[0.5555555555555556,\"#d8576b\"],[0.6666666666666666,\"#ed7953\"],[0.7777777777777778,\"#fb9f3a\"],[0.8888888888888888,\"#fdca26\"],[1.0,\"#f0f921\"]],\"type\":\"histogram2d\"}],\"histogram2dcontour\":[{\"colorbar\":{\"outlinewidth\":0,\"ticks\":\"\"},\"colorscale\":[[0.0,\"#0d0887\"],[0.1111111111111111,\"#46039f\"],[0.2222222222222222,\"#7201a8\"],[0.3333333333333333,\"#9c179e\"],[0.4444444444444444,\"#bd3786\"],[0.5555555555555556,\"#d8576b\"],[0.6666666666666666,\"#ed7953\"],[0.7777777777777778,\"#fb9f3a\"],[0.8888888888888888,\"#fdca26\"],[1.0,\"#f0f921\"]],\"type\":\"histogram2dcontour\"}],\"mesh3d\":[{\"colorbar\":{\"outlinewidth\":0,\"ticks\":\"\"},\"type\":\"mesh3d\"}],\"parcoords\":[{\"line\":{\"colorbar\":{\"outlinewidth\":0,\"ticks\":\"\"}},\"type\":\"parcoords\"}],\"pie\":[{\"automargin\":true,\"type\":\"pie\"}],\"scatter\":[{\"marker\":{\"colorbar\":{\"outlinewidth\":0,\"ticks\":\"\"}},\"type\":\"scatter\"}],\"scatter3d\":[{\"line\":{\"colorbar\":{\"outlinewidth\":0,\"ticks\":\"\"}},\"marker\":{\"colorbar\":{\"outlinewidth\":0,\"ticks\":\"\"}},\"type\":\"scatter3d\"}],\"scattercarpet\":[{\"marker\":{\"colorbar\":{\"outlinewidth\":0,\"ticks\":\"\"}},\"type\":\"scattercarpet\"}],\"scattergeo\":[{\"marker\":{\"colorbar\":{\"outlinewidth\":0,\"ticks\":\"\"}},\"type\":\"scattergeo\"}],\"scattergl\":[{\"marker\":{\"colorbar\":{\"outlinewidth\":0,\"ticks\":\"\"}},\"type\":\"scattergl\"}],\"scattermapbox\":[{\"marker\":{\"colorbar\":{\"outlinewidth\":0,\"ticks\":\"\"}},\"type\":\"scattermapbox\"}],\"scatterpolar\":[{\"marker\":{\"colorbar\":{\"outlinewidth\":0,\"ticks\":\"\"}},\"type\":\"scatterpolar\"}],\"scatterpolargl\":[{\"marker\":{\"colorbar\":{\"outlinewidth\":0,\"ticks\":\"\"}},\"type\":\"scatterpolargl\"}],\"scatterternary\":[{\"marker\":{\"colorbar\":{\"outlinewidth\":0,\"ticks\":\"\"}},\"type\":\"scatterternary\"}],\"surface\":[{\"colorbar\":{\"outlinewidth\":0,\"ticks\":\"\"},\"colorscale\":[[0.0,\"#0d0887\"],[0.1111111111111111,\"#46039f\"],[0.2222222222222222,\"#7201a8\"],[0.3333333333333333,\"#9c179e\"],[0.4444444444444444,\"#bd3786\"],[0.5555555555555556,\"#d8576b\"],[0.6666666666666666,\"#ed7953\"],[0.7777777777777778,\"#fb9f3a\"],[0.8888888888888888,\"#fdca26\"],[1.0,\"#f0f921\"]],\"type\":\"surface\"}],\"table\":[{\"cells\":{\"fill\":{\"color\":\"#EBF0F8\"},\"line\":{\"color\":\"white\"}},\"header\":{\"fill\":{\"color\":\"#C8D4E3\"},\"line\":{\"color\":\"white\"}},\"type\":\"table\"}]},\"layout\":{\"annotationdefaults\":{\"arrowcolor\":\"#2a3f5f\",\"arrowhead\":0,\"arrowwidth\":1},\"autotypenumbers\":\"strict\",\"coloraxis\":{\"colorbar\":{\"outlinewidth\":0,\"ticks\":\"\"}},\"colorscale\":{\"diverging\":[[0,\"#8e0152\"],[0.1,\"#c51b7d\"],[0.2,\"#de77ae\"],[0.3,\"#f1b6da\"],[0.4,\"#fde0ef\"],[0.5,\"#f7f7f7\"],[0.6,\"#e6f5d0\"],[0.7,\"#b8e186\"],[0.8,\"#7fbc41\"],[0.9,\"#4d9221\"],[1,\"#276419\"]],\"sequential\":[[0.0,\"#0d0887\"],[0.1111111111111111,\"#46039f\"],[0.2222222222222222,\"#7201a8\"],[0.3333333333333333,\"#9c179e\"],[0.4444444444444444,\"#bd3786\"],[0.5555555555555556,\"#d8576b\"],[0.6666666666666666,\"#ed7953\"],[0.7777777777777778,\"#fb9f3a\"],[0.8888888888888888,\"#fdca26\"],[1.0,\"#f0f921\"]],\"sequentialminus\":[[0.0,\"#0d0887\"],[0.1111111111111111,\"#46039f\"],[0.2222222222222222,\"#7201a8\"],[0.3333333333333333,\"#9c179e\"],[0.4444444444444444,\"#bd3786\"],[0.5555555555555556,\"#d8576b\"],[0.6666666666666666,\"#ed7953\"],[0.7777777777777778,\"#fb9f3a\"],[0.8888888888888888,\"#fdca26\"],[1.0,\"#f0f921\"]]},\"colorway\":[\"#636efa\",\"#EF553B\",\"#00cc96\",\"#ab63fa\",\"#FFA15A\",\"#19d3f3\",\"#FF6692\",\"#B6E880\",\"#FF97FF\",\"#FECB52\"],\"font\":{\"color\":\"#2a3f5f\"},\"geo\":{\"bgcolor\":\"white\",\"lakecolor\":\"white\",\"landcolor\":\"#E5ECF6\",\"showlakes\":true,\"showland\":true,\"subunitcolor\":\"white\"},\"hoverlabel\":{\"align\":\"left\"},\"hovermode\":\"closest\",\"mapbox\":{\"style\":\"light\"},\"paper_bgcolor\":\"white\",\"plot_bgcolor\":\"#E5ECF6\",\"polar\":{\"angularaxis\":{\"gridcolor\":\"white\",\"linecolor\":\"white\",\"ticks\":\"\"},\"bgcolor\":\"#E5ECF6\",\"radialaxis\":{\"gridcolor\":\"white\",\"linecolor\":\"white\",\"ticks\":\"\"}},\"scene\":{\"xaxis\":{\"backgroundcolor\":\"#E5ECF6\",\"gridcolor\":\"white\",\"gridwidth\":2,\"linecolor\":\"white\",\"showbackground\":true,\"ticks\":\"\",\"zerolinecolor\":\"white\"},\"yaxis\":{\"backgroundcolor\":\"#E5ECF6\",\"gridcolor\":\"white\",\"gridwidth\":2,\"linecolor\":\"white\",\"showbackground\":true,\"ticks\":\"\",\"zerolinecolor\":\"white\"},\"zaxis\":{\"backgroundcolor\":\"#E5ECF6\",\"gridcolor\":\"white\",\"gridwidth\":2,\"linecolor\":\"white\",\"showbackground\":true,\"ticks\":\"\",\"zerolinecolor\":\"white\"}},\"shapedefaults\":{\"line\":{\"color\":\"#2a3f5f\"}},\"ternary\":{\"aaxis\":{\"gridcolor\":\"white\",\"linecolor\":\"white\",\"ticks\":\"\"},\"baxis\":{\"gridcolor\":\"white\",\"linecolor\":\"white\",\"ticks\":\"\"},\"bgcolor\":\"#E5ECF6\",\"caxis\":{\"gridcolor\":\"white\",\"linecolor\":\"white\",\"ticks\":\"\"}},\"title\":{\"x\":0.05},\"xaxis\":{\"automargin\":true,\"gridcolor\":\"white\",\"linecolor\":\"white\",\"ticks\":\"\",\"title\":{\"standoff\":15},\"zerolinecolor\":\"white\",\"zerolinewidth\":2},\"yaxis\":{\"automargin\":true,\"gridcolor\":\"white\",\"linecolor\":\"white\",\"ticks\":\"\",\"title\":{\"standoff\":15},\"zerolinecolor\":\"white\",\"zerolinewidth\":2}}}},                        {\"responsive\": true}                    ).then(function(){\n",
       "                            \n",
       "var gd = document.getElementById('19218293-3425-446c-8bc3-201181c66e06');\n",
       "var x = new MutationObserver(function (mutations, observer) {{\n",
       "        var display = window.getComputedStyle(gd).display;\n",
       "        if (!display || display === 'none') {{\n",
       "            console.log([gd, 'removed!']);\n",
       "            Plotly.purge(gd);\n",
       "            observer.disconnect();\n",
       "        }}\n",
       "}});\n",
       "\n",
       "// Listen for the removal of the full notebook cells\n",
       "var notebookContainer = gd.closest('#notebook-container');\n",
       "if (notebookContainer) {{\n",
       "    x.observe(notebookContainer, {childList: true});\n",
       "}}\n",
       "\n",
       "// Listen for the clearing of the current output cell\n",
       "var outputEl = gd.closest('.output');\n",
       "if (outputEl) {{\n",
       "    x.observe(outputEl, {childList: true});\n",
       "}}\n",
       "\n",
       "                        })                };                });            </script>        </div>"
      ]
     },
     "metadata": {},
     "output_type": "display_data"
    },
    {
     "name": "stdout",
     "output_type": "stream",
     "text": [
      "U graph\n"
     ]
    },
    {
     "data": {
      "application/vnd.plotly.v1+json": {
       "config": {
        "plotlyServerURL": "https://plot.ly"
       },
       "data": [
        {
         "type": "surface",
         "x": [
          [
           0,
           0.000625,
           0.001875,
           0.0031249999999999997,
           0.0043749999999999995,
           0.005624999999999999,
           0.006874999999999998,
           0.008124999999999999,
           0.009375,
           0.01
          ],
          [
           0,
           0.000625,
           0.001875,
           0.0031249999999999997,
           0.0043749999999999995,
           0.005624999999999999,
           0.006874999999999998,
           0.008124999999999999,
           0.009375,
           0.01
          ],
          [
           0,
           0.000625,
           0.001875,
           0.0031249999999999997,
           0.0043749999999999995,
           0.005624999999999999,
           0.006874999999999998,
           0.008124999999999999,
           0.009375,
           0.01
          ],
          [
           0,
           0.000625,
           0.001875,
           0.0031249999999999997,
           0.0043749999999999995,
           0.005624999999999999,
           0.006874999999999998,
           0.008124999999999999,
           0.009375,
           0.01
          ],
          [
           0,
           0.000625,
           0.001875,
           0.0031249999999999997,
           0.0043749999999999995,
           0.005624999999999999,
           0.006874999999999998,
           0.008124999999999999,
           0.009375,
           0.01
          ],
          [
           0,
           0.000625,
           0.001875,
           0.0031249999999999997,
           0.0043749999999999995,
           0.005624999999999999,
           0.006874999999999998,
           0.008124999999999999,
           0.009375,
           0.01
          ],
          [
           0,
           0.000625,
           0.001875,
           0.0031249999999999997,
           0.0043749999999999995,
           0.005624999999999999,
           0.006874999999999998,
           0.008124999999999999,
           0.009375,
           0.01
          ],
          [
           0,
           0.000625,
           0.001875,
           0.0031249999999999997,
           0.0043749999999999995,
           0.005624999999999999,
           0.006874999999999998,
           0.008124999999999999,
           0.009375,
           0.01
          ],
          [
           0,
           0.000625,
           0.001875,
           0.0031249999999999997,
           0.0043749999999999995,
           0.005624999999999999,
           0.006874999999999998,
           0.008124999999999999,
           0.009375,
           0.01
          ],
          [
           0,
           0.000625,
           0.001875,
           0.0031249999999999997,
           0.0043749999999999995,
           0.005624999999999999,
           0.006874999999999998,
           0.008124999999999999,
           0.009375,
           0.01
          ]
         ],
         "y": [
          [
           0,
           0,
           0,
           0,
           0,
           0,
           0,
           0,
           0,
           0
          ],
          [
           0.000625,
           0.000625,
           0.000625,
           0.000625,
           0.000625,
           0.000625,
           0.000625,
           0.000625,
           0.000625,
           0.000625
          ],
          [
           0.001875,
           0.001875,
           0.001875,
           0.001875,
           0.001875,
           0.001875,
           0.001875,
           0.001875,
           0.001875,
           0.001875
          ],
          [
           0.0031249999999999997,
           0.0031249999999999997,
           0.0031249999999999997,
           0.0031249999999999997,
           0.0031249999999999997,
           0.0031249999999999997,
           0.0031249999999999997,
           0.0031249999999999997,
           0.0031249999999999997,
           0.0031249999999999997
          ],
          [
           0.0043749999999999995,
           0.0043749999999999995,
           0.0043749999999999995,
           0.0043749999999999995,
           0.0043749999999999995,
           0.0043749999999999995,
           0.0043749999999999995,
           0.0043749999999999995,
           0.0043749999999999995,
           0.0043749999999999995
          ],
          [
           0.005624999999999999,
           0.005624999999999999,
           0.005624999999999999,
           0.005624999999999999,
           0.005624999999999999,
           0.005624999999999999,
           0.005624999999999999,
           0.005624999999999999,
           0.005624999999999999,
           0.005624999999999999
          ],
          [
           0.006874999999999998,
           0.006874999999999998,
           0.006874999999999998,
           0.006874999999999998,
           0.006874999999999998,
           0.006874999999999998,
           0.006874999999999998,
           0.006874999999999998,
           0.006874999999999998,
           0.006874999999999998
          ],
          [
           0.008124999999999999,
           0.008124999999999999,
           0.008124999999999999,
           0.008124999999999999,
           0.008124999999999999,
           0.008124999999999999,
           0.008124999999999999,
           0.008124999999999999,
           0.008124999999999999,
           0.008124999999999999
          ],
          [
           0.009375,
           0.009375,
           0.009375,
           0.009375,
           0.009375,
           0.009375,
           0.009375,
           0.009375,
           0.009375,
           0.009375
          ],
          [
           0.01,
           0.01,
           0.01,
           0.01,
           0.01,
           0.01,
           0.01,
           0.01,
           0.01,
           0.01
          ]
         ],
         "z": [
          [
           3.1737910687857408e-15,
           2.8240135397041366e-15,
           1.987455486879723e-15,
           1.1982347340570283e-15,
           3.96732226783186e-16,
           -4.0464608054243475e-16,
           -1.2067051565891563e-15,
           -2.0191233102896068e-15,
           -2.821957967568836e-15,
           -3.216967943178638e-15
          ],
          [
           3.2040731033900405e-15,
           2.795284057741785e-15,
           2.000188271231742e-15,
           1.1986068979733386e-15,
           3.9733230081193313e-16,
           -4.0408932486399017e-16,
           -1.2056605111788213e-15,
           -2.0073612820339016e-15,
           -2.814149936541425e-15,
           -3.2110392760861987e-15
          ],
          [
           3.2005669508706283e-15,
           2.8012530309955213e-15,
           2.000437127067487e-15,
           1.1994204858529933e-15,
           3.980634408523796e-16,
           -4.032657598780979e-16,
           -1.2045613195204684e-15,
           -2.006010843964687e-15,
           -2.8081606719959815e-15,
           -3.209301684761482e-15
          ],
          [
           3.203165387606742e-15,
           2.8024701635908443e-15,
           2.001383999305074e-15,
           1.200263420701424e-15,
           3.990648739714412e-16,
           -4.02088768204824e-16,
           -1.2031818157677421e-15,
           -2.004301299711601e-15,
           -2.805743034049903e-15,
           -3.206584768253163e-15
          ],
          [
           3.2041641158823544e-15,
           2.8035519567998627e-15,
           2.002359626720553e-15,
           1.2012338369108362e-15,
           4.0015649496886604e-16,
           -4.008540759724006e-16,
           -1.2018259935421164e-15,
           -2.002855145756512e-15,
           -2.804118308545303e-15,
           -3.204918605732439e-15
          ],
          [
           3.2050577029547894e-15,
           2.8043416582839363e-15,
           2.00321931734906e-15,
           1.2021932641946826e-15,
           4.012382857335583e-16,
           -3.9966396504292034e-16,
           -1.200552714434211e-15,
           -2.0015180468504908e-15,
           -2.8026794988473552e-15,
           -3.203472117541643e-15
          ],
          [
           3.206675745347262e-15,
           2.8048488895093565e-15,
           2.0040671024580704e-15,
           1.2031994744882997e-15,
           4.023182318423502e-16,
           -3.985597869713859e-16,
           -1.1994122665926245e-15,
           -2.0002645791132547e-15,
           -2.801073956466156e-15,
           -3.202931316358095e-15
          ],
          [
           3.209242639497737e-15,
           2.80732565466254e-15,
           2.005763907072803e-15,
           1.2046598409796315e-15,
           4.035180672798566e-16,
           -3.9764772643756566e-16,
           -1.198779891469317e-15,
           -1.9998867357317155e-15,
           -2.8014403847732368e-15,
           -3.2033465186177596e-15
          ],
          [
           3.25360270818382e-15,
           2.8122477160666053e-15,
           2.0094013071810983e-15,
           1.2069920899215386e-15,
           4.0493947476287805e-16,
           -3.970186584205522e-16,
           -1.1990641556244734e-15,
           -2.0014521018453916e-15,
           -2.804092984391146e-15,
           -3.245463701692459e-15
          ],
          [
           3.195856965402339e-15,
           2.8156127202930886e-15,
           2.010440437262e-15,
           1.2080000289467773e-15,
           4.0555672684548253e-16,
           -3.9661005232579756e-16,
           -1.199006879483872e-15,
           -2.0010218682242705e-15,
           -2.8047648227115707e-15,
           -3.1873554302561824e-15
          ]
         ]
        }
       ],
       "layout": {
        "template": {
         "data": {
          "bar": [
           {
            "error_x": {
             "color": "#2a3f5f"
            },
            "error_y": {
             "color": "#2a3f5f"
            },
            "marker": {
             "line": {
              "color": "#E5ECF6",
              "width": 0.5
             },
             "pattern": {
              "fillmode": "overlay",
              "size": 10,
              "solidity": 0.2
             }
            },
            "type": "bar"
           }
          ],
          "barpolar": [
           {
            "marker": {
             "line": {
              "color": "#E5ECF6",
              "width": 0.5
             },
             "pattern": {
              "fillmode": "overlay",
              "size": 10,
              "solidity": 0.2
             }
            },
            "type": "barpolar"
           }
          ],
          "carpet": [
           {
            "aaxis": {
             "endlinecolor": "#2a3f5f",
             "gridcolor": "white",
             "linecolor": "white",
             "minorgridcolor": "white",
             "startlinecolor": "#2a3f5f"
            },
            "baxis": {
             "endlinecolor": "#2a3f5f",
             "gridcolor": "white",
             "linecolor": "white",
             "minorgridcolor": "white",
             "startlinecolor": "#2a3f5f"
            },
            "type": "carpet"
           }
          ],
          "choropleth": [
           {
            "colorbar": {
             "outlinewidth": 0,
             "ticks": ""
            },
            "type": "choropleth"
           }
          ],
          "contour": [
           {
            "colorbar": {
             "outlinewidth": 0,
             "ticks": ""
            },
            "colorscale": [
             [
              0,
              "#0d0887"
             ],
             [
              0.1111111111111111,
              "#46039f"
             ],
             [
              0.2222222222222222,
              "#7201a8"
             ],
             [
              0.3333333333333333,
              "#9c179e"
             ],
             [
              0.4444444444444444,
              "#bd3786"
             ],
             [
              0.5555555555555556,
              "#d8576b"
             ],
             [
              0.6666666666666666,
              "#ed7953"
             ],
             [
              0.7777777777777778,
              "#fb9f3a"
             ],
             [
              0.8888888888888888,
              "#fdca26"
             ],
             [
              1,
              "#f0f921"
             ]
            ],
            "type": "contour"
           }
          ],
          "contourcarpet": [
           {
            "colorbar": {
             "outlinewidth": 0,
             "ticks": ""
            },
            "type": "contourcarpet"
           }
          ],
          "heatmap": [
           {
            "colorbar": {
             "outlinewidth": 0,
             "ticks": ""
            },
            "colorscale": [
             [
              0,
              "#0d0887"
             ],
             [
              0.1111111111111111,
              "#46039f"
             ],
             [
              0.2222222222222222,
              "#7201a8"
             ],
             [
              0.3333333333333333,
              "#9c179e"
             ],
             [
              0.4444444444444444,
              "#bd3786"
             ],
             [
              0.5555555555555556,
              "#d8576b"
             ],
             [
              0.6666666666666666,
              "#ed7953"
             ],
             [
              0.7777777777777778,
              "#fb9f3a"
             ],
             [
              0.8888888888888888,
              "#fdca26"
             ],
             [
              1,
              "#f0f921"
             ]
            ],
            "type": "heatmap"
           }
          ],
          "heatmapgl": [
           {
            "colorbar": {
             "outlinewidth": 0,
             "ticks": ""
            },
            "colorscale": [
             [
              0,
              "#0d0887"
             ],
             [
              0.1111111111111111,
              "#46039f"
             ],
             [
              0.2222222222222222,
              "#7201a8"
             ],
             [
              0.3333333333333333,
              "#9c179e"
             ],
             [
              0.4444444444444444,
              "#bd3786"
             ],
             [
              0.5555555555555556,
              "#d8576b"
             ],
             [
              0.6666666666666666,
              "#ed7953"
             ],
             [
              0.7777777777777778,
              "#fb9f3a"
             ],
             [
              0.8888888888888888,
              "#fdca26"
             ],
             [
              1,
              "#f0f921"
             ]
            ],
            "type": "heatmapgl"
           }
          ],
          "histogram": [
           {
            "marker": {
             "pattern": {
              "fillmode": "overlay",
              "size": 10,
              "solidity": 0.2
             }
            },
            "type": "histogram"
           }
          ],
          "histogram2d": [
           {
            "colorbar": {
             "outlinewidth": 0,
             "ticks": ""
            },
            "colorscale": [
             [
              0,
              "#0d0887"
             ],
             [
              0.1111111111111111,
              "#46039f"
             ],
             [
              0.2222222222222222,
              "#7201a8"
             ],
             [
              0.3333333333333333,
              "#9c179e"
             ],
             [
              0.4444444444444444,
              "#bd3786"
             ],
             [
              0.5555555555555556,
              "#d8576b"
             ],
             [
              0.6666666666666666,
              "#ed7953"
             ],
             [
              0.7777777777777778,
              "#fb9f3a"
             ],
             [
              0.8888888888888888,
              "#fdca26"
             ],
             [
              1,
              "#f0f921"
             ]
            ],
            "type": "histogram2d"
           }
          ],
          "histogram2dcontour": [
           {
            "colorbar": {
             "outlinewidth": 0,
             "ticks": ""
            },
            "colorscale": [
             [
              0,
              "#0d0887"
             ],
             [
              0.1111111111111111,
              "#46039f"
             ],
             [
              0.2222222222222222,
              "#7201a8"
             ],
             [
              0.3333333333333333,
              "#9c179e"
             ],
             [
              0.4444444444444444,
              "#bd3786"
             ],
             [
              0.5555555555555556,
              "#d8576b"
             ],
             [
              0.6666666666666666,
              "#ed7953"
             ],
             [
              0.7777777777777778,
              "#fb9f3a"
             ],
             [
              0.8888888888888888,
              "#fdca26"
             ],
             [
              1,
              "#f0f921"
             ]
            ],
            "type": "histogram2dcontour"
           }
          ],
          "mesh3d": [
           {
            "colorbar": {
             "outlinewidth": 0,
             "ticks": ""
            },
            "type": "mesh3d"
           }
          ],
          "parcoords": [
           {
            "line": {
             "colorbar": {
              "outlinewidth": 0,
              "ticks": ""
             }
            },
            "type": "parcoords"
           }
          ],
          "pie": [
           {
            "automargin": true,
            "type": "pie"
           }
          ],
          "scatter": [
           {
            "marker": {
             "colorbar": {
              "outlinewidth": 0,
              "ticks": ""
             }
            },
            "type": "scatter"
           }
          ],
          "scatter3d": [
           {
            "line": {
             "colorbar": {
              "outlinewidth": 0,
              "ticks": ""
             }
            },
            "marker": {
             "colorbar": {
              "outlinewidth": 0,
              "ticks": ""
             }
            },
            "type": "scatter3d"
           }
          ],
          "scattercarpet": [
           {
            "marker": {
             "colorbar": {
              "outlinewidth": 0,
              "ticks": ""
             }
            },
            "type": "scattercarpet"
           }
          ],
          "scattergeo": [
           {
            "marker": {
             "colorbar": {
              "outlinewidth": 0,
              "ticks": ""
             }
            },
            "type": "scattergeo"
           }
          ],
          "scattergl": [
           {
            "marker": {
             "colorbar": {
              "outlinewidth": 0,
              "ticks": ""
             }
            },
            "type": "scattergl"
           }
          ],
          "scattermapbox": [
           {
            "marker": {
             "colorbar": {
              "outlinewidth": 0,
              "ticks": ""
             }
            },
            "type": "scattermapbox"
           }
          ],
          "scatterpolar": [
           {
            "marker": {
             "colorbar": {
              "outlinewidth": 0,
              "ticks": ""
             }
            },
            "type": "scatterpolar"
           }
          ],
          "scatterpolargl": [
           {
            "marker": {
             "colorbar": {
              "outlinewidth": 0,
              "ticks": ""
             }
            },
            "type": "scatterpolargl"
           }
          ],
          "scatterternary": [
           {
            "marker": {
             "colorbar": {
              "outlinewidth": 0,
              "ticks": ""
             }
            },
            "type": "scatterternary"
           }
          ],
          "surface": [
           {
            "colorbar": {
             "outlinewidth": 0,
             "ticks": ""
            },
            "colorscale": [
             [
              0,
              "#0d0887"
             ],
             [
              0.1111111111111111,
              "#46039f"
             ],
             [
              0.2222222222222222,
              "#7201a8"
             ],
             [
              0.3333333333333333,
              "#9c179e"
             ],
             [
              0.4444444444444444,
              "#bd3786"
             ],
             [
              0.5555555555555556,
              "#d8576b"
             ],
             [
              0.6666666666666666,
              "#ed7953"
             ],
             [
              0.7777777777777778,
              "#fb9f3a"
             ],
             [
              0.8888888888888888,
              "#fdca26"
             ],
             [
              1,
              "#f0f921"
             ]
            ],
            "type": "surface"
           }
          ],
          "table": [
           {
            "cells": {
             "fill": {
              "color": "#EBF0F8"
             },
             "line": {
              "color": "white"
             }
            },
            "header": {
             "fill": {
              "color": "#C8D4E3"
             },
             "line": {
              "color": "white"
             }
            },
            "type": "table"
           }
          ]
         },
         "layout": {
          "annotationdefaults": {
           "arrowcolor": "#2a3f5f",
           "arrowhead": 0,
           "arrowwidth": 1
          },
          "autotypenumbers": "strict",
          "coloraxis": {
           "colorbar": {
            "outlinewidth": 0,
            "ticks": ""
           }
          },
          "colorscale": {
           "diverging": [
            [
             0,
             "#8e0152"
            ],
            [
             0.1,
             "#c51b7d"
            ],
            [
             0.2,
             "#de77ae"
            ],
            [
             0.3,
             "#f1b6da"
            ],
            [
             0.4,
             "#fde0ef"
            ],
            [
             0.5,
             "#f7f7f7"
            ],
            [
             0.6,
             "#e6f5d0"
            ],
            [
             0.7,
             "#b8e186"
            ],
            [
             0.8,
             "#7fbc41"
            ],
            [
             0.9,
             "#4d9221"
            ],
            [
             1,
             "#276419"
            ]
           ],
           "sequential": [
            [
             0,
             "#0d0887"
            ],
            [
             0.1111111111111111,
             "#46039f"
            ],
            [
             0.2222222222222222,
             "#7201a8"
            ],
            [
             0.3333333333333333,
             "#9c179e"
            ],
            [
             0.4444444444444444,
             "#bd3786"
            ],
            [
             0.5555555555555556,
             "#d8576b"
            ],
            [
             0.6666666666666666,
             "#ed7953"
            ],
            [
             0.7777777777777778,
             "#fb9f3a"
            ],
            [
             0.8888888888888888,
             "#fdca26"
            ],
            [
             1,
             "#f0f921"
            ]
           ],
           "sequentialminus": [
            [
             0,
             "#0d0887"
            ],
            [
             0.1111111111111111,
             "#46039f"
            ],
            [
             0.2222222222222222,
             "#7201a8"
            ],
            [
             0.3333333333333333,
             "#9c179e"
            ],
            [
             0.4444444444444444,
             "#bd3786"
            ],
            [
             0.5555555555555556,
             "#d8576b"
            ],
            [
             0.6666666666666666,
             "#ed7953"
            ],
            [
             0.7777777777777778,
             "#fb9f3a"
            ],
            [
             0.8888888888888888,
             "#fdca26"
            ],
            [
             1,
             "#f0f921"
            ]
           ]
          },
          "colorway": [
           "#636efa",
           "#EF553B",
           "#00cc96",
           "#ab63fa",
           "#FFA15A",
           "#19d3f3",
           "#FF6692",
           "#B6E880",
           "#FF97FF",
           "#FECB52"
          ],
          "font": {
           "color": "#2a3f5f"
          },
          "geo": {
           "bgcolor": "white",
           "lakecolor": "white",
           "landcolor": "#E5ECF6",
           "showlakes": true,
           "showland": true,
           "subunitcolor": "white"
          },
          "hoverlabel": {
           "align": "left"
          },
          "hovermode": "closest",
          "mapbox": {
           "style": "light"
          },
          "paper_bgcolor": "white",
          "plot_bgcolor": "#E5ECF6",
          "polar": {
           "angularaxis": {
            "gridcolor": "white",
            "linecolor": "white",
            "ticks": ""
           },
           "bgcolor": "#E5ECF6",
           "radialaxis": {
            "gridcolor": "white",
            "linecolor": "white",
            "ticks": ""
           }
          },
          "scene": {
           "xaxis": {
            "backgroundcolor": "#E5ECF6",
            "gridcolor": "white",
            "gridwidth": 2,
            "linecolor": "white",
            "showbackground": true,
            "ticks": "",
            "zerolinecolor": "white"
           },
           "yaxis": {
            "backgroundcolor": "#E5ECF6",
            "gridcolor": "white",
            "gridwidth": 2,
            "linecolor": "white",
            "showbackground": true,
            "ticks": "",
            "zerolinecolor": "white"
           },
           "zaxis": {
            "backgroundcolor": "#E5ECF6",
            "gridcolor": "white",
            "gridwidth": 2,
            "linecolor": "white",
            "showbackground": true,
            "ticks": "",
            "zerolinecolor": "white"
           }
          },
          "shapedefaults": {
           "line": {
            "color": "#2a3f5f"
           }
          },
          "ternary": {
           "aaxis": {
            "gridcolor": "white",
            "linecolor": "white",
            "ticks": ""
           },
           "baxis": {
            "gridcolor": "white",
            "linecolor": "white",
            "ticks": ""
           },
           "bgcolor": "#E5ECF6",
           "caxis": {
            "gridcolor": "white",
            "linecolor": "white",
            "ticks": ""
           }
          },
          "title": {
           "x": 0.05
          },
          "xaxis": {
           "automargin": true,
           "gridcolor": "white",
           "linecolor": "white",
           "ticks": "",
           "title": {
            "standoff": 15
           },
           "zerolinecolor": "white",
           "zerolinewidth": 2
          },
          "yaxis": {
           "automargin": true,
           "gridcolor": "white",
           "linecolor": "white",
           "ticks": "",
           "title": {
            "standoff": 15
           },
           "zerolinecolor": "white",
           "zerolinewidth": 2
          }
         }
        }
       }
      },
      "text/html": [
       "<div>                            <div id=\"0d53a5ac-375a-41a0-9082-06f57a03a5a1\" class=\"plotly-graph-div\" style=\"height:525px; width:100%;\"></div>            <script type=\"text/javascript\">                require([\"plotly\"], function(Plotly) {                    window.PLOTLYENV=window.PLOTLYENV || {};                                    if (document.getElementById(\"0d53a5ac-375a-41a0-9082-06f57a03a5a1\")) {                    Plotly.newPlot(                        \"0d53a5ac-375a-41a0-9082-06f57a03a5a1\",                        [{\"x\":[[0.0,0.000625,0.001875,0.0031249999999999997,0.0043749999999999995,0.005624999999999999,0.006874999999999998,0.008124999999999999,0.009375,0.01],[0.0,0.000625,0.001875,0.0031249999999999997,0.0043749999999999995,0.005624999999999999,0.006874999999999998,0.008124999999999999,0.009375,0.01],[0.0,0.000625,0.001875,0.0031249999999999997,0.0043749999999999995,0.005624999999999999,0.006874999999999998,0.008124999999999999,0.009375,0.01],[0.0,0.000625,0.001875,0.0031249999999999997,0.0043749999999999995,0.005624999999999999,0.006874999999999998,0.008124999999999999,0.009375,0.01],[0.0,0.000625,0.001875,0.0031249999999999997,0.0043749999999999995,0.005624999999999999,0.006874999999999998,0.008124999999999999,0.009375,0.01],[0.0,0.000625,0.001875,0.0031249999999999997,0.0043749999999999995,0.005624999999999999,0.006874999999999998,0.008124999999999999,0.009375,0.01],[0.0,0.000625,0.001875,0.0031249999999999997,0.0043749999999999995,0.005624999999999999,0.006874999999999998,0.008124999999999999,0.009375,0.01],[0.0,0.000625,0.001875,0.0031249999999999997,0.0043749999999999995,0.005624999999999999,0.006874999999999998,0.008124999999999999,0.009375,0.01],[0.0,0.000625,0.001875,0.0031249999999999997,0.0043749999999999995,0.005624999999999999,0.006874999999999998,0.008124999999999999,0.009375,0.01],[0.0,0.000625,0.001875,0.0031249999999999997,0.0043749999999999995,0.005624999999999999,0.006874999999999998,0.008124999999999999,0.009375,0.01]],\"y\":[[0.0,0.0,0.0,0.0,0.0,0.0,0.0,0.0,0.0,0.0],[0.000625,0.000625,0.000625,0.000625,0.000625,0.000625,0.000625,0.000625,0.000625,0.000625],[0.001875,0.001875,0.001875,0.001875,0.001875,0.001875,0.001875,0.001875,0.001875,0.001875],[0.0031249999999999997,0.0031249999999999997,0.0031249999999999997,0.0031249999999999997,0.0031249999999999997,0.0031249999999999997,0.0031249999999999997,0.0031249999999999997,0.0031249999999999997,0.0031249999999999997],[0.0043749999999999995,0.0043749999999999995,0.0043749999999999995,0.0043749999999999995,0.0043749999999999995,0.0043749999999999995,0.0043749999999999995,0.0043749999999999995,0.0043749999999999995,0.0043749999999999995],[0.005624999999999999,0.005624999999999999,0.005624999999999999,0.005624999999999999,0.005624999999999999,0.005624999999999999,0.005624999999999999,0.005624999999999999,0.005624999999999999,0.005624999999999999],[0.006874999999999998,0.006874999999999998,0.006874999999999998,0.006874999999999998,0.006874999999999998,0.006874999999999998,0.006874999999999998,0.006874999999999998,0.006874999999999998,0.006874999999999998],[0.008124999999999999,0.008124999999999999,0.008124999999999999,0.008124999999999999,0.008124999999999999,0.008124999999999999,0.008124999999999999,0.008124999999999999,0.008124999999999999,0.008124999999999999],[0.009375,0.009375,0.009375,0.009375,0.009375,0.009375,0.009375,0.009375,0.009375,0.009375],[0.01,0.01,0.01,0.01,0.01,0.01,0.01,0.01,0.01,0.01]],\"z\":[[3.1737910687857408e-15,2.8240135397041366e-15,1.987455486879723e-15,1.1982347340570283e-15,3.96732226783186e-16,-4.0464608054243475e-16,-1.2067051565891563e-15,-2.0191233102896068e-15,-2.821957967568836e-15,-3.216967943178638e-15],[3.2040731033900405e-15,2.795284057741785e-15,2.000188271231742e-15,1.1986068979733386e-15,3.9733230081193313e-16,-4.0408932486399017e-16,-1.2056605111788213e-15,-2.0073612820339016e-15,-2.814149936541425e-15,-3.2110392760861987e-15],[3.2005669508706283e-15,2.8012530309955213e-15,2.000437127067487e-15,1.1994204858529933e-15,3.980634408523796e-16,-4.032657598780979e-16,-1.2045613195204684e-15,-2.006010843964687e-15,-2.8081606719959815e-15,-3.209301684761482e-15],[3.203165387606742e-15,2.8024701635908443e-15,2.001383999305074e-15,1.200263420701424e-15,3.990648739714412e-16,-4.02088768204824e-16,-1.2031818157677421e-15,-2.004301299711601e-15,-2.805743034049903e-15,-3.206584768253163e-15],[3.2041641158823544e-15,2.8035519567998627e-15,2.002359626720553e-15,1.2012338369108362e-15,4.0015649496886604e-16,-4.008540759724006e-16,-1.2018259935421164e-15,-2.002855145756512e-15,-2.804118308545303e-15,-3.204918605732439e-15],[3.2050577029547894e-15,2.8043416582839363e-15,2.00321931734906e-15,1.2021932641946826e-15,4.012382857335583e-16,-3.9966396504292034e-16,-1.200552714434211e-15,-2.0015180468504908e-15,-2.8026794988473552e-15,-3.203472117541643e-15],[3.206675745347262e-15,2.8048488895093565e-15,2.0040671024580704e-15,1.2031994744882997e-15,4.023182318423502e-16,-3.985597869713859e-16,-1.1994122665926245e-15,-2.0002645791132547e-15,-2.801073956466156e-15,-3.202931316358095e-15],[3.209242639497737e-15,2.80732565466254e-15,2.005763907072803e-15,1.2046598409796315e-15,4.035180672798566e-16,-3.9764772643756566e-16,-1.198779891469317e-15,-1.9998867357317155e-15,-2.8014403847732368e-15,-3.2033465186177596e-15],[3.25360270818382e-15,2.8122477160666053e-15,2.0094013071810983e-15,1.2069920899215386e-15,4.0493947476287805e-16,-3.970186584205522e-16,-1.1990641556244734e-15,-2.0014521018453916e-15,-2.804092984391146e-15,-3.245463701692459e-15],[3.195856965402339e-15,2.8156127202930886e-15,2.010440437262e-15,1.2080000289467773e-15,4.0555672684548253e-16,-3.9661005232579756e-16,-1.199006879483872e-15,-2.0010218682242705e-15,-2.8047648227115707e-15,-3.1873554302561824e-15]],\"type\":\"surface\"}],                        {\"template\":{\"data\":{\"bar\":[{\"error_x\":{\"color\":\"#2a3f5f\"},\"error_y\":{\"color\":\"#2a3f5f\"},\"marker\":{\"line\":{\"color\":\"#E5ECF6\",\"width\":0.5},\"pattern\":{\"fillmode\":\"overlay\",\"size\":10,\"solidity\":0.2}},\"type\":\"bar\"}],\"barpolar\":[{\"marker\":{\"line\":{\"color\":\"#E5ECF6\",\"width\":0.5},\"pattern\":{\"fillmode\":\"overlay\",\"size\":10,\"solidity\":0.2}},\"type\":\"barpolar\"}],\"carpet\":[{\"aaxis\":{\"endlinecolor\":\"#2a3f5f\",\"gridcolor\":\"white\",\"linecolor\":\"white\",\"minorgridcolor\":\"white\",\"startlinecolor\":\"#2a3f5f\"},\"baxis\":{\"endlinecolor\":\"#2a3f5f\",\"gridcolor\":\"white\",\"linecolor\":\"white\",\"minorgridcolor\":\"white\",\"startlinecolor\":\"#2a3f5f\"},\"type\":\"carpet\"}],\"choropleth\":[{\"colorbar\":{\"outlinewidth\":0,\"ticks\":\"\"},\"type\":\"choropleth\"}],\"contour\":[{\"colorbar\":{\"outlinewidth\":0,\"ticks\":\"\"},\"colorscale\":[[0.0,\"#0d0887\"],[0.1111111111111111,\"#46039f\"],[0.2222222222222222,\"#7201a8\"],[0.3333333333333333,\"#9c179e\"],[0.4444444444444444,\"#bd3786\"],[0.5555555555555556,\"#d8576b\"],[0.6666666666666666,\"#ed7953\"],[0.7777777777777778,\"#fb9f3a\"],[0.8888888888888888,\"#fdca26\"],[1.0,\"#f0f921\"]],\"type\":\"contour\"}],\"contourcarpet\":[{\"colorbar\":{\"outlinewidth\":0,\"ticks\":\"\"},\"type\":\"contourcarpet\"}],\"heatmap\":[{\"colorbar\":{\"outlinewidth\":0,\"ticks\":\"\"},\"colorscale\":[[0.0,\"#0d0887\"],[0.1111111111111111,\"#46039f\"],[0.2222222222222222,\"#7201a8\"],[0.3333333333333333,\"#9c179e\"],[0.4444444444444444,\"#bd3786\"],[0.5555555555555556,\"#d8576b\"],[0.6666666666666666,\"#ed7953\"],[0.7777777777777778,\"#fb9f3a\"],[0.8888888888888888,\"#fdca26\"],[1.0,\"#f0f921\"]],\"type\":\"heatmap\"}],\"heatmapgl\":[{\"colorbar\":{\"outlinewidth\":0,\"ticks\":\"\"},\"colorscale\":[[0.0,\"#0d0887\"],[0.1111111111111111,\"#46039f\"],[0.2222222222222222,\"#7201a8\"],[0.3333333333333333,\"#9c179e\"],[0.4444444444444444,\"#bd3786\"],[0.5555555555555556,\"#d8576b\"],[0.6666666666666666,\"#ed7953\"],[0.7777777777777778,\"#fb9f3a\"],[0.8888888888888888,\"#fdca26\"],[1.0,\"#f0f921\"]],\"type\":\"heatmapgl\"}],\"histogram\":[{\"marker\":{\"pattern\":{\"fillmode\":\"overlay\",\"size\":10,\"solidity\":0.2}},\"type\":\"histogram\"}],\"histogram2d\":[{\"colorbar\":{\"outlinewidth\":0,\"ticks\":\"\"},\"colorscale\":[[0.0,\"#0d0887\"],[0.1111111111111111,\"#46039f\"],[0.2222222222222222,\"#7201a8\"],[0.3333333333333333,\"#9c179e\"],[0.4444444444444444,\"#bd3786\"],[0.5555555555555556,\"#d8576b\"],[0.6666666666666666,\"#ed7953\"],[0.7777777777777778,\"#fb9f3a\"],[0.8888888888888888,\"#fdca26\"],[1.0,\"#f0f921\"]],\"type\":\"histogram2d\"}],\"histogram2dcontour\":[{\"colorbar\":{\"outlinewidth\":0,\"ticks\":\"\"},\"colorscale\":[[0.0,\"#0d0887\"],[0.1111111111111111,\"#46039f\"],[0.2222222222222222,\"#7201a8\"],[0.3333333333333333,\"#9c179e\"],[0.4444444444444444,\"#bd3786\"],[0.5555555555555556,\"#d8576b\"],[0.6666666666666666,\"#ed7953\"],[0.7777777777777778,\"#fb9f3a\"],[0.8888888888888888,\"#fdca26\"],[1.0,\"#f0f921\"]],\"type\":\"histogram2dcontour\"}],\"mesh3d\":[{\"colorbar\":{\"outlinewidth\":0,\"ticks\":\"\"},\"type\":\"mesh3d\"}],\"parcoords\":[{\"line\":{\"colorbar\":{\"outlinewidth\":0,\"ticks\":\"\"}},\"type\":\"parcoords\"}],\"pie\":[{\"automargin\":true,\"type\":\"pie\"}],\"scatter\":[{\"marker\":{\"colorbar\":{\"outlinewidth\":0,\"ticks\":\"\"}},\"type\":\"scatter\"}],\"scatter3d\":[{\"line\":{\"colorbar\":{\"outlinewidth\":0,\"ticks\":\"\"}},\"marker\":{\"colorbar\":{\"outlinewidth\":0,\"ticks\":\"\"}},\"type\":\"scatter3d\"}],\"scattercarpet\":[{\"marker\":{\"colorbar\":{\"outlinewidth\":0,\"ticks\":\"\"}},\"type\":\"scattercarpet\"}],\"scattergeo\":[{\"marker\":{\"colorbar\":{\"outlinewidth\":0,\"ticks\":\"\"}},\"type\":\"scattergeo\"}],\"scattergl\":[{\"marker\":{\"colorbar\":{\"outlinewidth\":0,\"ticks\":\"\"}},\"type\":\"scattergl\"}],\"scattermapbox\":[{\"marker\":{\"colorbar\":{\"outlinewidth\":0,\"ticks\":\"\"}},\"type\":\"scattermapbox\"}],\"scatterpolar\":[{\"marker\":{\"colorbar\":{\"outlinewidth\":0,\"ticks\":\"\"}},\"type\":\"scatterpolar\"}],\"scatterpolargl\":[{\"marker\":{\"colorbar\":{\"outlinewidth\":0,\"ticks\":\"\"}},\"type\":\"scatterpolargl\"}],\"scatterternary\":[{\"marker\":{\"colorbar\":{\"outlinewidth\":0,\"ticks\":\"\"}},\"type\":\"scatterternary\"}],\"surface\":[{\"colorbar\":{\"outlinewidth\":0,\"ticks\":\"\"},\"colorscale\":[[0.0,\"#0d0887\"],[0.1111111111111111,\"#46039f\"],[0.2222222222222222,\"#7201a8\"],[0.3333333333333333,\"#9c179e\"],[0.4444444444444444,\"#bd3786\"],[0.5555555555555556,\"#d8576b\"],[0.6666666666666666,\"#ed7953\"],[0.7777777777777778,\"#fb9f3a\"],[0.8888888888888888,\"#fdca26\"],[1.0,\"#f0f921\"]],\"type\":\"surface\"}],\"table\":[{\"cells\":{\"fill\":{\"color\":\"#EBF0F8\"},\"line\":{\"color\":\"white\"}},\"header\":{\"fill\":{\"color\":\"#C8D4E3\"},\"line\":{\"color\":\"white\"}},\"type\":\"table\"}]},\"layout\":{\"annotationdefaults\":{\"arrowcolor\":\"#2a3f5f\",\"arrowhead\":0,\"arrowwidth\":1},\"autotypenumbers\":\"strict\",\"coloraxis\":{\"colorbar\":{\"outlinewidth\":0,\"ticks\":\"\"}},\"colorscale\":{\"diverging\":[[0,\"#8e0152\"],[0.1,\"#c51b7d\"],[0.2,\"#de77ae\"],[0.3,\"#f1b6da\"],[0.4,\"#fde0ef\"],[0.5,\"#f7f7f7\"],[0.6,\"#e6f5d0\"],[0.7,\"#b8e186\"],[0.8,\"#7fbc41\"],[0.9,\"#4d9221\"],[1,\"#276419\"]],\"sequential\":[[0.0,\"#0d0887\"],[0.1111111111111111,\"#46039f\"],[0.2222222222222222,\"#7201a8\"],[0.3333333333333333,\"#9c179e\"],[0.4444444444444444,\"#bd3786\"],[0.5555555555555556,\"#d8576b\"],[0.6666666666666666,\"#ed7953\"],[0.7777777777777778,\"#fb9f3a\"],[0.8888888888888888,\"#fdca26\"],[1.0,\"#f0f921\"]],\"sequentialminus\":[[0.0,\"#0d0887\"],[0.1111111111111111,\"#46039f\"],[0.2222222222222222,\"#7201a8\"],[0.3333333333333333,\"#9c179e\"],[0.4444444444444444,\"#bd3786\"],[0.5555555555555556,\"#d8576b\"],[0.6666666666666666,\"#ed7953\"],[0.7777777777777778,\"#fb9f3a\"],[0.8888888888888888,\"#fdca26\"],[1.0,\"#f0f921\"]]},\"colorway\":[\"#636efa\",\"#EF553B\",\"#00cc96\",\"#ab63fa\",\"#FFA15A\",\"#19d3f3\",\"#FF6692\",\"#B6E880\",\"#FF97FF\",\"#FECB52\"],\"font\":{\"color\":\"#2a3f5f\"},\"geo\":{\"bgcolor\":\"white\",\"lakecolor\":\"white\",\"landcolor\":\"#E5ECF6\",\"showlakes\":true,\"showland\":true,\"subunitcolor\":\"white\"},\"hoverlabel\":{\"align\":\"left\"},\"hovermode\":\"closest\",\"mapbox\":{\"style\":\"light\"},\"paper_bgcolor\":\"white\",\"plot_bgcolor\":\"#E5ECF6\",\"polar\":{\"angularaxis\":{\"gridcolor\":\"white\",\"linecolor\":\"white\",\"ticks\":\"\"},\"bgcolor\":\"#E5ECF6\",\"radialaxis\":{\"gridcolor\":\"white\",\"linecolor\":\"white\",\"ticks\":\"\"}},\"scene\":{\"xaxis\":{\"backgroundcolor\":\"#E5ECF6\",\"gridcolor\":\"white\",\"gridwidth\":2,\"linecolor\":\"white\",\"showbackground\":true,\"ticks\":\"\",\"zerolinecolor\":\"white\"},\"yaxis\":{\"backgroundcolor\":\"#E5ECF6\",\"gridcolor\":\"white\",\"gridwidth\":2,\"linecolor\":\"white\",\"showbackground\":true,\"ticks\":\"\",\"zerolinecolor\":\"white\"},\"zaxis\":{\"backgroundcolor\":\"#E5ECF6\",\"gridcolor\":\"white\",\"gridwidth\":2,\"linecolor\":\"white\",\"showbackground\":true,\"ticks\":\"\",\"zerolinecolor\":\"white\"}},\"shapedefaults\":{\"line\":{\"color\":\"#2a3f5f\"}},\"ternary\":{\"aaxis\":{\"gridcolor\":\"white\",\"linecolor\":\"white\",\"ticks\":\"\"},\"baxis\":{\"gridcolor\":\"white\",\"linecolor\":\"white\",\"ticks\":\"\"},\"bgcolor\":\"#E5ECF6\",\"caxis\":{\"gridcolor\":\"white\",\"linecolor\":\"white\",\"ticks\":\"\"}},\"title\":{\"x\":0.05},\"xaxis\":{\"automargin\":true,\"gridcolor\":\"white\",\"linecolor\":\"white\",\"ticks\":\"\",\"title\":{\"standoff\":15},\"zerolinecolor\":\"white\",\"zerolinewidth\":2},\"yaxis\":{\"automargin\":true,\"gridcolor\":\"white\",\"linecolor\":\"white\",\"ticks\":\"\",\"title\":{\"standoff\":15},\"zerolinecolor\":\"white\",\"zerolinewidth\":2}}}},                        {\"responsive\": true}                    ).then(function(){\n",
       "                            \n",
       "var gd = document.getElementById('0d53a5ac-375a-41a0-9082-06f57a03a5a1');\n",
       "var x = new MutationObserver(function (mutations, observer) {{\n",
       "        var display = window.getComputedStyle(gd).display;\n",
       "        if (!display || display === 'none') {{\n",
       "            console.log([gd, 'removed!']);\n",
       "            Plotly.purge(gd);\n",
       "            observer.disconnect();\n",
       "        }}\n",
       "}});\n",
       "\n",
       "// Listen for the removal of the full notebook cells\n",
       "var notebookContainer = gd.closest('#notebook-container');\n",
       "if (notebookContainer) {{\n",
       "    x.observe(notebookContainer, {childList: true});\n",
       "}}\n",
       "\n",
       "// Listen for the clearing of the current output cell\n",
       "var outputEl = gd.closest('.output');\n",
       "if (outputEl) {{\n",
       "    x.observe(outputEl, {childList: true});\n",
       "}}\n",
       "\n",
       "                        })                };                });            </script>        </div>"
      ]
     },
     "metadata": {},
     "output_type": "display_data"
    },
    {
     "name": "stdout",
     "output_type": "stream",
     "text": [
      "V graph\n"
     ]
    },
    {
     "data": {
      "application/vnd.plotly.v1+json": {
       "config": {
        "plotlyServerURL": "https://plot.ly"
       },
       "data": [
        {
         "type": "surface",
         "x": [
          [
           0,
           0.000625,
           0.001875,
           0.0031249999999999997,
           0.0043749999999999995,
           0.005624999999999999,
           0.006874999999999998,
           0.008124999999999999,
           0.009375,
           0.01
          ],
          [
           0,
           0.000625,
           0.001875,
           0.0031249999999999997,
           0.0043749999999999995,
           0.005624999999999999,
           0.006874999999999998,
           0.008124999999999999,
           0.009375,
           0.01
          ],
          [
           0,
           0.000625,
           0.001875,
           0.0031249999999999997,
           0.0043749999999999995,
           0.005624999999999999,
           0.006874999999999998,
           0.008124999999999999,
           0.009375,
           0.01
          ],
          [
           0,
           0.000625,
           0.001875,
           0.0031249999999999997,
           0.0043749999999999995,
           0.005624999999999999,
           0.006874999999999998,
           0.008124999999999999,
           0.009375,
           0.01
          ],
          [
           0,
           0.000625,
           0.001875,
           0.0031249999999999997,
           0.0043749999999999995,
           0.005624999999999999,
           0.006874999999999998,
           0.008124999999999999,
           0.009375,
           0.01
          ],
          [
           0,
           0.000625,
           0.001875,
           0.0031249999999999997,
           0.0043749999999999995,
           0.005624999999999999,
           0.006874999999999998,
           0.008124999999999999,
           0.009375,
           0.01
          ],
          [
           0,
           0.000625,
           0.001875,
           0.0031249999999999997,
           0.0043749999999999995,
           0.005624999999999999,
           0.006874999999999998,
           0.008124999999999999,
           0.009375,
           0.01
          ],
          [
           0,
           0.000625,
           0.001875,
           0.0031249999999999997,
           0.0043749999999999995,
           0.005624999999999999,
           0.006874999999999998,
           0.008124999999999999,
           0.009375,
           0.01
          ],
          [
           0,
           0.000625,
           0.001875,
           0.0031249999999999997,
           0.0043749999999999995,
           0.005624999999999999,
           0.006874999999999998,
           0.008124999999999999,
           0.009375,
           0.01
          ],
          [
           0,
           0.000625,
           0.001875,
           0.0031249999999999997,
           0.0043749999999999995,
           0.005624999999999999,
           0.006874999999999998,
           0.008124999999999999,
           0.009375,
           0.01
          ]
         ],
         "y": [
          [
           0,
           0,
           0,
           0,
           0,
           0,
           0,
           0,
           0,
           0
          ],
          [
           0.000625,
           0.000625,
           0.000625,
           0.000625,
           0.000625,
           0.000625,
           0.000625,
           0.000625,
           0.000625,
           0.000625
          ],
          [
           0.001875,
           0.001875,
           0.001875,
           0.001875,
           0.001875,
           0.001875,
           0.001875,
           0.001875,
           0.001875,
           0.001875
          ],
          [
           0.0031249999999999997,
           0.0031249999999999997,
           0.0031249999999999997,
           0.0031249999999999997,
           0.0031249999999999997,
           0.0031249999999999997,
           0.0031249999999999997,
           0.0031249999999999997,
           0.0031249999999999997,
           0.0031249999999999997
          ],
          [
           0.0043749999999999995,
           0.0043749999999999995,
           0.0043749999999999995,
           0.0043749999999999995,
           0.0043749999999999995,
           0.0043749999999999995,
           0.0043749999999999995,
           0.0043749999999999995,
           0.0043749999999999995,
           0.0043749999999999995
          ],
          [
           0.005624999999999999,
           0.005624999999999999,
           0.005624999999999999,
           0.005624999999999999,
           0.005624999999999999,
           0.005624999999999999,
           0.005624999999999999,
           0.005624999999999999,
           0.005624999999999999,
           0.005624999999999999
          ],
          [
           0.006874999999999998,
           0.006874999999999998,
           0.006874999999999998,
           0.006874999999999998,
           0.006874999999999998,
           0.006874999999999998,
           0.006874999999999998,
           0.006874999999999998,
           0.006874999999999998,
           0.006874999999999998
          ],
          [
           0.008124999999999999,
           0.008124999999999999,
           0.008124999999999999,
           0.008124999999999999,
           0.008124999999999999,
           0.008124999999999999,
           0.008124999999999999,
           0.008124999999999999,
           0.008124999999999999,
           0.008124999999999999
          ],
          [
           0.009375,
           0.009375,
           0.009375,
           0.009375,
           0.009375,
           0.009375,
           0.009375,
           0.009375,
           0.009375,
           0.009375
          ],
          [
           0.01,
           0.01,
           0.01,
           0.01,
           0.01,
           0.01,
           0.01,
           0.01,
           0.01,
           0.01
          ]
         ],
         "z": [
          [
           -3.2345799513713382e-15,
           -3.1515530491430643e-15,
           -3.20279152132723e-15,
           -3.2025886302554396e-15,
           -3.2043846962955945e-15,
           -3.2050939579534308e-15,
           -3.2067174699763447e-15,
           -3.2093800866965717e-15,
           -3.253875744076193e-15,
           -3.196256941584809e-15
          ],
          [
           -2.7871331481308578e-15,
           -2.801347630585967e-15,
           -2.799776375437748e-15,
           -2.803158679102753e-15,
           -2.803711379258919e-15,
           -2.8043637764564776e-15,
           -2.804858314128228e-15,
           -2.8074430012424638e-15,
           -2.812519115721806e-15,
           -2.815870943363743e-15
          ],
          [
           -1.999791189454273e-15,
           -1.9995144978465348e-15,
           -2.000065963909014e-15,
           -2.0015548448742507e-15,
           -2.0023929660578243e-15,
           -2.0031582424226367e-15,
           -2.0040230916189615e-15,
           -2.0058592709393704e-15,
           -2.00969271678974e-15,
           -2.0107552161216317e-15
          ],
          [
           -1.1975455524977631e-15,
           -1.19839491656575e-15,
           -1.199104529356704e-15,
           -1.2002376551319096e-15,
           -1.201156431322725e-15,
           -1.2020544203489945e-15,
           -1.2030871544329655e-15,
           -1.2047293242974473e-15,
           -1.2073719257453623e-15,
           -1.2084172111585216e-15
          ],
          [
           -3.9669661957924884e-16,
           -3.971196445072621e-16,
           -3.97932358125267e-16,
           -3.990136896960942e-16,
           -4.000312377754492e-16,
           -4.010237170257446e-16,
           -4.021020431263868e-16,
           -4.035338885772202e-16,
           -4.054974673271104e-16,
           -4.062253812172718e-16
          ],
          [
           4.0473692308687244e-16,
           4.0415926474303164e-16,
           4.033089465487277e-16,
           4.0213196705756315e-16,
           4.0099946002973927e-16,
           3.999521542141119e-16,
           3.98924402905366e-16,
           3.977421233122978e-16,
           3.9615410660859486e-16,
           3.957072541704968e-16
          ],
          [
           1.2066021845295688e-15,
           1.2056067716586105e-15,
           1.2045290004559256e-15,
           1.203184476656191e-15,
           1.2019470599493584e-15,
           1.2008777862618752e-15,
           1.1999442114110794e-15,
           1.1990268405601964e-15,
           1.1978054229921106e-15,
           1.1978239708955751e-15
          ],
          [
           2.0188977534518354e-15,
           2.0072176694213133e-15,
           2.0059190027582094e-15,
           2.0042518470660968e-15,
           2.0029240903137172e-15,
           2.0018523786615e-15,
           2.0010267837587533e-15,
           2.000495167102884e-15,
           1.999483934238095e-15,
           2.010167200688767e-15
          ],
          [
           2.821651563722931e-15,
           2.8139735760867245e-15,
           2.8080525290084708e-15,
           2.8056962777431144e-15,
           2.8042215664535004e-15,
           2.803154247272446e-15,
           2.8025028934973544e-15,
           2.802698320616632e-15,
           2.806161617740345e-15,
           2.812754557277071e-15
          ],
          [
           3.216804424961334e-15,
           3.2108390996290134e-15,
           3.2092099533299893e-15,
           3.2065741930217565e-15,
           3.2050715720149653e-15,
           3.2039995558748472e-15,
           3.203332778412614e-15,
           3.203667118457528e-15,
           3.2015094457677024e-15,
           3.208387549941357e-15
          ]
         ]
        }
       ],
       "layout": {
        "template": {
         "data": {
          "bar": [
           {
            "error_x": {
             "color": "#2a3f5f"
            },
            "error_y": {
             "color": "#2a3f5f"
            },
            "marker": {
             "line": {
              "color": "#E5ECF6",
              "width": 0.5
             },
             "pattern": {
              "fillmode": "overlay",
              "size": 10,
              "solidity": 0.2
             }
            },
            "type": "bar"
           }
          ],
          "barpolar": [
           {
            "marker": {
             "line": {
              "color": "#E5ECF6",
              "width": 0.5
             },
             "pattern": {
              "fillmode": "overlay",
              "size": 10,
              "solidity": 0.2
             }
            },
            "type": "barpolar"
           }
          ],
          "carpet": [
           {
            "aaxis": {
             "endlinecolor": "#2a3f5f",
             "gridcolor": "white",
             "linecolor": "white",
             "minorgridcolor": "white",
             "startlinecolor": "#2a3f5f"
            },
            "baxis": {
             "endlinecolor": "#2a3f5f",
             "gridcolor": "white",
             "linecolor": "white",
             "minorgridcolor": "white",
             "startlinecolor": "#2a3f5f"
            },
            "type": "carpet"
           }
          ],
          "choropleth": [
           {
            "colorbar": {
             "outlinewidth": 0,
             "ticks": ""
            },
            "type": "choropleth"
           }
          ],
          "contour": [
           {
            "colorbar": {
             "outlinewidth": 0,
             "ticks": ""
            },
            "colorscale": [
             [
              0,
              "#0d0887"
             ],
             [
              0.1111111111111111,
              "#46039f"
             ],
             [
              0.2222222222222222,
              "#7201a8"
             ],
             [
              0.3333333333333333,
              "#9c179e"
             ],
             [
              0.4444444444444444,
              "#bd3786"
             ],
             [
              0.5555555555555556,
              "#d8576b"
             ],
             [
              0.6666666666666666,
              "#ed7953"
             ],
             [
              0.7777777777777778,
              "#fb9f3a"
             ],
             [
              0.8888888888888888,
              "#fdca26"
             ],
             [
              1,
              "#f0f921"
             ]
            ],
            "type": "contour"
           }
          ],
          "contourcarpet": [
           {
            "colorbar": {
             "outlinewidth": 0,
             "ticks": ""
            },
            "type": "contourcarpet"
           }
          ],
          "heatmap": [
           {
            "colorbar": {
             "outlinewidth": 0,
             "ticks": ""
            },
            "colorscale": [
             [
              0,
              "#0d0887"
             ],
             [
              0.1111111111111111,
              "#46039f"
             ],
             [
              0.2222222222222222,
              "#7201a8"
             ],
             [
              0.3333333333333333,
              "#9c179e"
             ],
             [
              0.4444444444444444,
              "#bd3786"
             ],
             [
              0.5555555555555556,
              "#d8576b"
             ],
             [
              0.6666666666666666,
              "#ed7953"
             ],
             [
              0.7777777777777778,
              "#fb9f3a"
             ],
             [
              0.8888888888888888,
              "#fdca26"
             ],
             [
              1,
              "#f0f921"
             ]
            ],
            "type": "heatmap"
           }
          ],
          "heatmapgl": [
           {
            "colorbar": {
             "outlinewidth": 0,
             "ticks": ""
            },
            "colorscale": [
             [
              0,
              "#0d0887"
             ],
             [
              0.1111111111111111,
              "#46039f"
             ],
             [
              0.2222222222222222,
              "#7201a8"
             ],
             [
              0.3333333333333333,
              "#9c179e"
             ],
             [
              0.4444444444444444,
              "#bd3786"
             ],
             [
              0.5555555555555556,
              "#d8576b"
             ],
             [
              0.6666666666666666,
              "#ed7953"
             ],
             [
              0.7777777777777778,
              "#fb9f3a"
             ],
             [
              0.8888888888888888,
              "#fdca26"
             ],
             [
              1,
              "#f0f921"
             ]
            ],
            "type": "heatmapgl"
           }
          ],
          "histogram": [
           {
            "marker": {
             "pattern": {
              "fillmode": "overlay",
              "size": 10,
              "solidity": 0.2
             }
            },
            "type": "histogram"
           }
          ],
          "histogram2d": [
           {
            "colorbar": {
             "outlinewidth": 0,
             "ticks": ""
            },
            "colorscale": [
             [
              0,
              "#0d0887"
             ],
             [
              0.1111111111111111,
              "#46039f"
             ],
             [
              0.2222222222222222,
              "#7201a8"
             ],
             [
              0.3333333333333333,
              "#9c179e"
             ],
             [
              0.4444444444444444,
              "#bd3786"
             ],
             [
              0.5555555555555556,
              "#d8576b"
             ],
             [
              0.6666666666666666,
              "#ed7953"
             ],
             [
              0.7777777777777778,
              "#fb9f3a"
             ],
             [
              0.8888888888888888,
              "#fdca26"
             ],
             [
              1,
              "#f0f921"
             ]
            ],
            "type": "histogram2d"
           }
          ],
          "histogram2dcontour": [
           {
            "colorbar": {
             "outlinewidth": 0,
             "ticks": ""
            },
            "colorscale": [
             [
              0,
              "#0d0887"
             ],
             [
              0.1111111111111111,
              "#46039f"
             ],
             [
              0.2222222222222222,
              "#7201a8"
             ],
             [
              0.3333333333333333,
              "#9c179e"
             ],
             [
              0.4444444444444444,
              "#bd3786"
             ],
             [
              0.5555555555555556,
              "#d8576b"
             ],
             [
              0.6666666666666666,
              "#ed7953"
             ],
             [
              0.7777777777777778,
              "#fb9f3a"
             ],
             [
              0.8888888888888888,
              "#fdca26"
             ],
             [
              1,
              "#f0f921"
             ]
            ],
            "type": "histogram2dcontour"
           }
          ],
          "mesh3d": [
           {
            "colorbar": {
             "outlinewidth": 0,
             "ticks": ""
            },
            "type": "mesh3d"
           }
          ],
          "parcoords": [
           {
            "line": {
             "colorbar": {
              "outlinewidth": 0,
              "ticks": ""
             }
            },
            "type": "parcoords"
           }
          ],
          "pie": [
           {
            "automargin": true,
            "type": "pie"
           }
          ],
          "scatter": [
           {
            "marker": {
             "colorbar": {
              "outlinewidth": 0,
              "ticks": ""
             }
            },
            "type": "scatter"
           }
          ],
          "scatter3d": [
           {
            "line": {
             "colorbar": {
              "outlinewidth": 0,
              "ticks": ""
             }
            },
            "marker": {
             "colorbar": {
              "outlinewidth": 0,
              "ticks": ""
             }
            },
            "type": "scatter3d"
           }
          ],
          "scattercarpet": [
           {
            "marker": {
             "colorbar": {
              "outlinewidth": 0,
              "ticks": ""
             }
            },
            "type": "scattercarpet"
           }
          ],
          "scattergeo": [
           {
            "marker": {
             "colorbar": {
              "outlinewidth": 0,
              "ticks": ""
             }
            },
            "type": "scattergeo"
           }
          ],
          "scattergl": [
           {
            "marker": {
             "colorbar": {
              "outlinewidth": 0,
              "ticks": ""
             }
            },
            "type": "scattergl"
           }
          ],
          "scattermapbox": [
           {
            "marker": {
             "colorbar": {
              "outlinewidth": 0,
              "ticks": ""
             }
            },
            "type": "scattermapbox"
           }
          ],
          "scatterpolar": [
           {
            "marker": {
             "colorbar": {
              "outlinewidth": 0,
              "ticks": ""
             }
            },
            "type": "scatterpolar"
           }
          ],
          "scatterpolargl": [
           {
            "marker": {
             "colorbar": {
              "outlinewidth": 0,
              "ticks": ""
             }
            },
            "type": "scatterpolargl"
           }
          ],
          "scatterternary": [
           {
            "marker": {
             "colorbar": {
              "outlinewidth": 0,
              "ticks": ""
             }
            },
            "type": "scatterternary"
           }
          ],
          "surface": [
           {
            "colorbar": {
             "outlinewidth": 0,
             "ticks": ""
            },
            "colorscale": [
             [
              0,
              "#0d0887"
             ],
             [
              0.1111111111111111,
              "#46039f"
             ],
             [
              0.2222222222222222,
              "#7201a8"
             ],
             [
              0.3333333333333333,
              "#9c179e"
             ],
             [
              0.4444444444444444,
              "#bd3786"
             ],
             [
              0.5555555555555556,
              "#d8576b"
             ],
             [
              0.6666666666666666,
              "#ed7953"
             ],
             [
              0.7777777777777778,
              "#fb9f3a"
             ],
             [
              0.8888888888888888,
              "#fdca26"
             ],
             [
              1,
              "#f0f921"
             ]
            ],
            "type": "surface"
           }
          ],
          "table": [
           {
            "cells": {
             "fill": {
              "color": "#EBF0F8"
             },
             "line": {
              "color": "white"
             }
            },
            "header": {
             "fill": {
              "color": "#C8D4E3"
             },
             "line": {
              "color": "white"
             }
            },
            "type": "table"
           }
          ]
         },
         "layout": {
          "annotationdefaults": {
           "arrowcolor": "#2a3f5f",
           "arrowhead": 0,
           "arrowwidth": 1
          },
          "autotypenumbers": "strict",
          "coloraxis": {
           "colorbar": {
            "outlinewidth": 0,
            "ticks": ""
           }
          },
          "colorscale": {
           "diverging": [
            [
             0,
             "#8e0152"
            ],
            [
             0.1,
             "#c51b7d"
            ],
            [
             0.2,
             "#de77ae"
            ],
            [
             0.3,
             "#f1b6da"
            ],
            [
             0.4,
             "#fde0ef"
            ],
            [
             0.5,
             "#f7f7f7"
            ],
            [
             0.6,
             "#e6f5d0"
            ],
            [
             0.7,
             "#b8e186"
            ],
            [
             0.8,
             "#7fbc41"
            ],
            [
             0.9,
             "#4d9221"
            ],
            [
             1,
             "#276419"
            ]
           ],
           "sequential": [
            [
             0,
             "#0d0887"
            ],
            [
             0.1111111111111111,
             "#46039f"
            ],
            [
             0.2222222222222222,
             "#7201a8"
            ],
            [
             0.3333333333333333,
             "#9c179e"
            ],
            [
             0.4444444444444444,
             "#bd3786"
            ],
            [
             0.5555555555555556,
             "#d8576b"
            ],
            [
             0.6666666666666666,
             "#ed7953"
            ],
            [
             0.7777777777777778,
             "#fb9f3a"
            ],
            [
             0.8888888888888888,
             "#fdca26"
            ],
            [
             1,
             "#f0f921"
            ]
           ],
           "sequentialminus": [
            [
             0,
             "#0d0887"
            ],
            [
             0.1111111111111111,
             "#46039f"
            ],
            [
             0.2222222222222222,
             "#7201a8"
            ],
            [
             0.3333333333333333,
             "#9c179e"
            ],
            [
             0.4444444444444444,
             "#bd3786"
            ],
            [
             0.5555555555555556,
             "#d8576b"
            ],
            [
             0.6666666666666666,
             "#ed7953"
            ],
            [
             0.7777777777777778,
             "#fb9f3a"
            ],
            [
             0.8888888888888888,
             "#fdca26"
            ],
            [
             1,
             "#f0f921"
            ]
           ]
          },
          "colorway": [
           "#636efa",
           "#EF553B",
           "#00cc96",
           "#ab63fa",
           "#FFA15A",
           "#19d3f3",
           "#FF6692",
           "#B6E880",
           "#FF97FF",
           "#FECB52"
          ],
          "font": {
           "color": "#2a3f5f"
          },
          "geo": {
           "bgcolor": "white",
           "lakecolor": "white",
           "landcolor": "#E5ECF6",
           "showlakes": true,
           "showland": true,
           "subunitcolor": "white"
          },
          "hoverlabel": {
           "align": "left"
          },
          "hovermode": "closest",
          "mapbox": {
           "style": "light"
          },
          "paper_bgcolor": "white",
          "plot_bgcolor": "#E5ECF6",
          "polar": {
           "angularaxis": {
            "gridcolor": "white",
            "linecolor": "white",
            "ticks": ""
           },
           "bgcolor": "#E5ECF6",
           "radialaxis": {
            "gridcolor": "white",
            "linecolor": "white",
            "ticks": ""
           }
          },
          "scene": {
           "xaxis": {
            "backgroundcolor": "#E5ECF6",
            "gridcolor": "white",
            "gridwidth": 2,
            "linecolor": "white",
            "showbackground": true,
            "ticks": "",
            "zerolinecolor": "white"
           },
           "yaxis": {
            "backgroundcolor": "#E5ECF6",
            "gridcolor": "white",
            "gridwidth": 2,
            "linecolor": "white",
            "showbackground": true,
            "ticks": "",
            "zerolinecolor": "white"
           },
           "zaxis": {
            "backgroundcolor": "#E5ECF6",
            "gridcolor": "white",
            "gridwidth": 2,
            "linecolor": "white",
            "showbackground": true,
            "ticks": "",
            "zerolinecolor": "white"
           }
          },
          "shapedefaults": {
           "line": {
            "color": "#2a3f5f"
           }
          },
          "ternary": {
           "aaxis": {
            "gridcolor": "white",
            "linecolor": "white",
            "ticks": ""
           },
           "baxis": {
            "gridcolor": "white",
            "linecolor": "white",
            "ticks": ""
           },
           "bgcolor": "#E5ECF6",
           "caxis": {
            "gridcolor": "white",
            "linecolor": "white",
            "ticks": ""
           }
          },
          "title": {
           "x": 0.05
          },
          "xaxis": {
           "automargin": true,
           "gridcolor": "white",
           "linecolor": "white",
           "ticks": "",
           "title": {
            "standoff": 15
           },
           "zerolinecolor": "white",
           "zerolinewidth": 2
          },
          "yaxis": {
           "automargin": true,
           "gridcolor": "white",
           "linecolor": "white",
           "ticks": "",
           "title": {
            "standoff": 15
           },
           "zerolinecolor": "white",
           "zerolinewidth": 2
          }
         }
        }
       }
      },
      "text/html": [
       "<div>                            <div id=\"4b4986f8-d590-4e03-bd1e-8efc4568a692\" class=\"plotly-graph-div\" style=\"height:525px; width:100%;\"></div>            <script type=\"text/javascript\">                require([\"plotly\"], function(Plotly) {                    window.PLOTLYENV=window.PLOTLYENV || {};                                    if (document.getElementById(\"4b4986f8-d590-4e03-bd1e-8efc4568a692\")) {                    Plotly.newPlot(                        \"4b4986f8-d590-4e03-bd1e-8efc4568a692\",                        [{\"x\":[[0.0,0.000625,0.001875,0.0031249999999999997,0.0043749999999999995,0.005624999999999999,0.006874999999999998,0.008124999999999999,0.009375,0.01],[0.0,0.000625,0.001875,0.0031249999999999997,0.0043749999999999995,0.005624999999999999,0.006874999999999998,0.008124999999999999,0.009375,0.01],[0.0,0.000625,0.001875,0.0031249999999999997,0.0043749999999999995,0.005624999999999999,0.006874999999999998,0.008124999999999999,0.009375,0.01],[0.0,0.000625,0.001875,0.0031249999999999997,0.0043749999999999995,0.005624999999999999,0.006874999999999998,0.008124999999999999,0.009375,0.01],[0.0,0.000625,0.001875,0.0031249999999999997,0.0043749999999999995,0.005624999999999999,0.006874999999999998,0.008124999999999999,0.009375,0.01],[0.0,0.000625,0.001875,0.0031249999999999997,0.0043749999999999995,0.005624999999999999,0.006874999999999998,0.008124999999999999,0.009375,0.01],[0.0,0.000625,0.001875,0.0031249999999999997,0.0043749999999999995,0.005624999999999999,0.006874999999999998,0.008124999999999999,0.009375,0.01],[0.0,0.000625,0.001875,0.0031249999999999997,0.0043749999999999995,0.005624999999999999,0.006874999999999998,0.008124999999999999,0.009375,0.01],[0.0,0.000625,0.001875,0.0031249999999999997,0.0043749999999999995,0.005624999999999999,0.006874999999999998,0.008124999999999999,0.009375,0.01],[0.0,0.000625,0.001875,0.0031249999999999997,0.0043749999999999995,0.005624999999999999,0.006874999999999998,0.008124999999999999,0.009375,0.01]],\"y\":[[0.0,0.0,0.0,0.0,0.0,0.0,0.0,0.0,0.0,0.0],[0.000625,0.000625,0.000625,0.000625,0.000625,0.000625,0.000625,0.000625,0.000625,0.000625],[0.001875,0.001875,0.001875,0.001875,0.001875,0.001875,0.001875,0.001875,0.001875,0.001875],[0.0031249999999999997,0.0031249999999999997,0.0031249999999999997,0.0031249999999999997,0.0031249999999999997,0.0031249999999999997,0.0031249999999999997,0.0031249999999999997,0.0031249999999999997,0.0031249999999999997],[0.0043749999999999995,0.0043749999999999995,0.0043749999999999995,0.0043749999999999995,0.0043749999999999995,0.0043749999999999995,0.0043749999999999995,0.0043749999999999995,0.0043749999999999995,0.0043749999999999995],[0.005624999999999999,0.005624999999999999,0.005624999999999999,0.005624999999999999,0.005624999999999999,0.005624999999999999,0.005624999999999999,0.005624999999999999,0.005624999999999999,0.005624999999999999],[0.006874999999999998,0.006874999999999998,0.006874999999999998,0.006874999999999998,0.006874999999999998,0.006874999999999998,0.006874999999999998,0.006874999999999998,0.006874999999999998,0.006874999999999998],[0.008124999999999999,0.008124999999999999,0.008124999999999999,0.008124999999999999,0.008124999999999999,0.008124999999999999,0.008124999999999999,0.008124999999999999,0.008124999999999999,0.008124999999999999],[0.009375,0.009375,0.009375,0.009375,0.009375,0.009375,0.009375,0.009375,0.009375,0.009375],[0.01,0.01,0.01,0.01,0.01,0.01,0.01,0.01,0.01,0.01]],\"z\":[[-3.2345799513713382e-15,-3.1515530491430643e-15,-3.20279152132723e-15,-3.2025886302554396e-15,-3.2043846962955945e-15,-3.2050939579534308e-15,-3.2067174699763447e-15,-3.2093800866965717e-15,-3.253875744076193e-15,-3.196256941584809e-15],[-2.7871331481308578e-15,-2.801347630585967e-15,-2.799776375437748e-15,-2.803158679102753e-15,-2.803711379258919e-15,-2.8043637764564776e-15,-2.804858314128228e-15,-2.8074430012424638e-15,-2.812519115721806e-15,-2.815870943363743e-15],[-1.999791189454273e-15,-1.9995144978465348e-15,-2.000065963909014e-15,-2.0015548448742507e-15,-2.0023929660578243e-15,-2.0031582424226367e-15,-2.0040230916189615e-15,-2.0058592709393704e-15,-2.00969271678974e-15,-2.0107552161216317e-15],[-1.1975455524977631e-15,-1.19839491656575e-15,-1.199104529356704e-15,-1.2002376551319096e-15,-1.201156431322725e-15,-1.2020544203489945e-15,-1.2030871544329655e-15,-1.2047293242974473e-15,-1.2073719257453623e-15,-1.2084172111585216e-15],[-3.9669661957924884e-16,-3.971196445072621e-16,-3.97932358125267e-16,-3.990136896960942e-16,-4.000312377754492e-16,-4.010237170257446e-16,-4.021020431263868e-16,-4.035338885772202e-16,-4.054974673271104e-16,-4.062253812172718e-16],[4.0473692308687244e-16,4.0415926474303164e-16,4.033089465487277e-16,4.0213196705756315e-16,4.0099946002973927e-16,3.999521542141119e-16,3.98924402905366e-16,3.977421233122978e-16,3.9615410660859486e-16,3.957072541704968e-16],[1.2066021845295688e-15,1.2056067716586105e-15,1.2045290004559256e-15,1.203184476656191e-15,1.2019470599493584e-15,1.2008777862618752e-15,1.1999442114110794e-15,1.1990268405601964e-15,1.1978054229921106e-15,1.1978239708955751e-15],[2.0188977534518354e-15,2.0072176694213133e-15,2.0059190027582094e-15,2.0042518470660968e-15,2.0029240903137172e-15,2.0018523786615e-15,2.0010267837587533e-15,2.000495167102884e-15,1.999483934238095e-15,2.010167200688767e-15],[2.821651563722931e-15,2.8139735760867245e-15,2.8080525290084708e-15,2.8056962777431144e-15,2.8042215664535004e-15,2.803154247272446e-15,2.8025028934973544e-15,2.802698320616632e-15,2.806161617740345e-15,2.812754557277071e-15],[3.216804424961334e-15,3.2108390996290134e-15,3.2092099533299893e-15,3.2065741930217565e-15,3.2050715720149653e-15,3.2039995558748472e-15,3.203332778412614e-15,3.203667118457528e-15,3.2015094457677024e-15,3.208387549941357e-15]],\"type\":\"surface\"}],                        {\"template\":{\"data\":{\"bar\":[{\"error_x\":{\"color\":\"#2a3f5f\"},\"error_y\":{\"color\":\"#2a3f5f\"},\"marker\":{\"line\":{\"color\":\"#E5ECF6\",\"width\":0.5},\"pattern\":{\"fillmode\":\"overlay\",\"size\":10,\"solidity\":0.2}},\"type\":\"bar\"}],\"barpolar\":[{\"marker\":{\"line\":{\"color\":\"#E5ECF6\",\"width\":0.5},\"pattern\":{\"fillmode\":\"overlay\",\"size\":10,\"solidity\":0.2}},\"type\":\"barpolar\"}],\"carpet\":[{\"aaxis\":{\"endlinecolor\":\"#2a3f5f\",\"gridcolor\":\"white\",\"linecolor\":\"white\",\"minorgridcolor\":\"white\",\"startlinecolor\":\"#2a3f5f\"},\"baxis\":{\"endlinecolor\":\"#2a3f5f\",\"gridcolor\":\"white\",\"linecolor\":\"white\",\"minorgridcolor\":\"white\",\"startlinecolor\":\"#2a3f5f\"},\"type\":\"carpet\"}],\"choropleth\":[{\"colorbar\":{\"outlinewidth\":0,\"ticks\":\"\"},\"type\":\"choropleth\"}],\"contour\":[{\"colorbar\":{\"outlinewidth\":0,\"ticks\":\"\"},\"colorscale\":[[0.0,\"#0d0887\"],[0.1111111111111111,\"#46039f\"],[0.2222222222222222,\"#7201a8\"],[0.3333333333333333,\"#9c179e\"],[0.4444444444444444,\"#bd3786\"],[0.5555555555555556,\"#d8576b\"],[0.6666666666666666,\"#ed7953\"],[0.7777777777777778,\"#fb9f3a\"],[0.8888888888888888,\"#fdca26\"],[1.0,\"#f0f921\"]],\"type\":\"contour\"}],\"contourcarpet\":[{\"colorbar\":{\"outlinewidth\":0,\"ticks\":\"\"},\"type\":\"contourcarpet\"}],\"heatmap\":[{\"colorbar\":{\"outlinewidth\":0,\"ticks\":\"\"},\"colorscale\":[[0.0,\"#0d0887\"],[0.1111111111111111,\"#46039f\"],[0.2222222222222222,\"#7201a8\"],[0.3333333333333333,\"#9c179e\"],[0.4444444444444444,\"#bd3786\"],[0.5555555555555556,\"#d8576b\"],[0.6666666666666666,\"#ed7953\"],[0.7777777777777778,\"#fb9f3a\"],[0.8888888888888888,\"#fdca26\"],[1.0,\"#f0f921\"]],\"type\":\"heatmap\"}],\"heatmapgl\":[{\"colorbar\":{\"outlinewidth\":0,\"ticks\":\"\"},\"colorscale\":[[0.0,\"#0d0887\"],[0.1111111111111111,\"#46039f\"],[0.2222222222222222,\"#7201a8\"],[0.3333333333333333,\"#9c179e\"],[0.4444444444444444,\"#bd3786\"],[0.5555555555555556,\"#d8576b\"],[0.6666666666666666,\"#ed7953\"],[0.7777777777777778,\"#fb9f3a\"],[0.8888888888888888,\"#fdca26\"],[1.0,\"#f0f921\"]],\"type\":\"heatmapgl\"}],\"histogram\":[{\"marker\":{\"pattern\":{\"fillmode\":\"overlay\",\"size\":10,\"solidity\":0.2}},\"type\":\"histogram\"}],\"histogram2d\":[{\"colorbar\":{\"outlinewidth\":0,\"ticks\":\"\"},\"colorscale\":[[0.0,\"#0d0887\"],[0.1111111111111111,\"#46039f\"],[0.2222222222222222,\"#7201a8\"],[0.3333333333333333,\"#9c179e\"],[0.4444444444444444,\"#bd3786\"],[0.5555555555555556,\"#d8576b\"],[0.6666666666666666,\"#ed7953\"],[0.7777777777777778,\"#fb9f3a\"],[0.8888888888888888,\"#fdca26\"],[1.0,\"#f0f921\"]],\"type\":\"histogram2d\"}],\"histogram2dcontour\":[{\"colorbar\":{\"outlinewidth\":0,\"ticks\":\"\"},\"colorscale\":[[0.0,\"#0d0887\"],[0.1111111111111111,\"#46039f\"],[0.2222222222222222,\"#7201a8\"],[0.3333333333333333,\"#9c179e\"],[0.4444444444444444,\"#bd3786\"],[0.5555555555555556,\"#d8576b\"],[0.6666666666666666,\"#ed7953\"],[0.7777777777777778,\"#fb9f3a\"],[0.8888888888888888,\"#fdca26\"],[1.0,\"#f0f921\"]],\"type\":\"histogram2dcontour\"}],\"mesh3d\":[{\"colorbar\":{\"outlinewidth\":0,\"ticks\":\"\"},\"type\":\"mesh3d\"}],\"parcoords\":[{\"line\":{\"colorbar\":{\"outlinewidth\":0,\"ticks\":\"\"}},\"type\":\"parcoords\"}],\"pie\":[{\"automargin\":true,\"type\":\"pie\"}],\"scatter\":[{\"marker\":{\"colorbar\":{\"outlinewidth\":0,\"ticks\":\"\"}},\"type\":\"scatter\"}],\"scatter3d\":[{\"line\":{\"colorbar\":{\"outlinewidth\":0,\"ticks\":\"\"}},\"marker\":{\"colorbar\":{\"outlinewidth\":0,\"ticks\":\"\"}},\"type\":\"scatter3d\"}],\"scattercarpet\":[{\"marker\":{\"colorbar\":{\"outlinewidth\":0,\"ticks\":\"\"}},\"type\":\"scattercarpet\"}],\"scattergeo\":[{\"marker\":{\"colorbar\":{\"outlinewidth\":0,\"ticks\":\"\"}},\"type\":\"scattergeo\"}],\"scattergl\":[{\"marker\":{\"colorbar\":{\"outlinewidth\":0,\"ticks\":\"\"}},\"type\":\"scattergl\"}],\"scattermapbox\":[{\"marker\":{\"colorbar\":{\"outlinewidth\":0,\"ticks\":\"\"}},\"type\":\"scattermapbox\"}],\"scatterpolar\":[{\"marker\":{\"colorbar\":{\"outlinewidth\":0,\"ticks\":\"\"}},\"type\":\"scatterpolar\"}],\"scatterpolargl\":[{\"marker\":{\"colorbar\":{\"outlinewidth\":0,\"ticks\":\"\"}},\"type\":\"scatterpolargl\"}],\"scatterternary\":[{\"marker\":{\"colorbar\":{\"outlinewidth\":0,\"ticks\":\"\"}},\"type\":\"scatterternary\"}],\"surface\":[{\"colorbar\":{\"outlinewidth\":0,\"ticks\":\"\"},\"colorscale\":[[0.0,\"#0d0887\"],[0.1111111111111111,\"#46039f\"],[0.2222222222222222,\"#7201a8\"],[0.3333333333333333,\"#9c179e\"],[0.4444444444444444,\"#bd3786\"],[0.5555555555555556,\"#d8576b\"],[0.6666666666666666,\"#ed7953\"],[0.7777777777777778,\"#fb9f3a\"],[0.8888888888888888,\"#fdca26\"],[1.0,\"#f0f921\"]],\"type\":\"surface\"}],\"table\":[{\"cells\":{\"fill\":{\"color\":\"#EBF0F8\"},\"line\":{\"color\":\"white\"}},\"header\":{\"fill\":{\"color\":\"#C8D4E3\"},\"line\":{\"color\":\"white\"}},\"type\":\"table\"}]},\"layout\":{\"annotationdefaults\":{\"arrowcolor\":\"#2a3f5f\",\"arrowhead\":0,\"arrowwidth\":1},\"autotypenumbers\":\"strict\",\"coloraxis\":{\"colorbar\":{\"outlinewidth\":0,\"ticks\":\"\"}},\"colorscale\":{\"diverging\":[[0,\"#8e0152\"],[0.1,\"#c51b7d\"],[0.2,\"#de77ae\"],[0.3,\"#f1b6da\"],[0.4,\"#fde0ef\"],[0.5,\"#f7f7f7\"],[0.6,\"#e6f5d0\"],[0.7,\"#b8e186\"],[0.8,\"#7fbc41\"],[0.9,\"#4d9221\"],[1,\"#276419\"]],\"sequential\":[[0.0,\"#0d0887\"],[0.1111111111111111,\"#46039f\"],[0.2222222222222222,\"#7201a8\"],[0.3333333333333333,\"#9c179e\"],[0.4444444444444444,\"#bd3786\"],[0.5555555555555556,\"#d8576b\"],[0.6666666666666666,\"#ed7953\"],[0.7777777777777778,\"#fb9f3a\"],[0.8888888888888888,\"#fdca26\"],[1.0,\"#f0f921\"]],\"sequentialminus\":[[0.0,\"#0d0887\"],[0.1111111111111111,\"#46039f\"],[0.2222222222222222,\"#7201a8\"],[0.3333333333333333,\"#9c179e\"],[0.4444444444444444,\"#bd3786\"],[0.5555555555555556,\"#d8576b\"],[0.6666666666666666,\"#ed7953\"],[0.7777777777777778,\"#fb9f3a\"],[0.8888888888888888,\"#fdca26\"],[1.0,\"#f0f921\"]]},\"colorway\":[\"#636efa\",\"#EF553B\",\"#00cc96\",\"#ab63fa\",\"#FFA15A\",\"#19d3f3\",\"#FF6692\",\"#B6E880\",\"#FF97FF\",\"#FECB52\"],\"font\":{\"color\":\"#2a3f5f\"},\"geo\":{\"bgcolor\":\"white\",\"lakecolor\":\"white\",\"landcolor\":\"#E5ECF6\",\"showlakes\":true,\"showland\":true,\"subunitcolor\":\"white\"},\"hoverlabel\":{\"align\":\"left\"},\"hovermode\":\"closest\",\"mapbox\":{\"style\":\"light\"},\"paper_bgcolor\":\"white\",\"plot_bgcolor\":\"#E5ECF6\",\"polar\":{\"angularaxis\":{\"gridcolor\":\"white\",\"linecolor\":\"white\",\"ticks\":\"\"},\"bgcolor\":\"#E5ECF6\",\"radialaxis\":{\"gridcolor\":\"white\",\"linecolor\":\"white\",\"ticks\":\"\"}},\"scene\":{\"xaxis\":{\"backgroundcolor\":\"#E5ECF6\",\"gridcolor\":\"white\",\"gridwidth\":2,\"linecolor\":\"white\",\"showbackground\":true,\"ticks\":\"\",\"zerolinecolor\":\"white\"},\"yaxis\":{\"backgroundcolor\":\"#E5ECF6\",\"gridcolor\":\"white\",\"gridwidth\":2,\"linecolor\":\"white\",\"showbackground\":true,\"ticks\":\"\",\"zerolinecolor\":\"white\"},\"zaxis\":{\"backgroundcolor\":\"#E5ECF6\",\"gridcolor\":\"white\",\"gridwidth\":2,\"linecolor\":\"white\",\"showbackground\":true,\"ticks\":\"\",\"zerolinecolor\":\"white\"}},\"shapedefaults\":{\"line\":{\"color\":\"#2a3f5f\"}},\"ternary\":{\"aaxis\":{\"gridcolor\":\"white\",\"linecolor\":\"white\",\"ticks\":\"\"},\"baxis\":{\"gridcolor\":\"white\",\"linecolor\":\"white\",\"ticks\":\"\"},\"bgcolor\":\"#E5ECF6\",\"caxis\":{\"gridcolor\":\"white\",\"linecolor\":\"white\",\"ticks\":\"\"}},\"title\":{\"x\":0.05},\"xaxis\":{\"automargin\":true,\"gridcolor\":\"white\",\"linecolor\":\"white\",\"ticks\":\"\",\"title\":{\"standoff\":15},\"zerolinecolor\":\"white\",\"zerolinewidth\":2},\"yaxis\":{\"automargin\":true,\"gridcolor\":\"white\",\"linecolor\":\"white\",\"ticks\":\"\",\"title\":{\"standoff\":15},\"zerolinecolor\":\"white\",\"zerolinewidth\":2}}}},                        {\"responsive\": true}                    ).then(function(){\n",
       "                            \n",
       "var gd = document.getElementById('4b4986f8-d590-4e03-bd1e-8efc4568a692');\n",
       "var x = new MutationObserver(function (mutations, observer) {{\n",
       "        var display = window.getComputedStyle(gd).display;\n",
       "        if (!display || display === 'none') {{\n",
       "            console.log([gd, 'removed!']);\n",
       "            Plotly.purge(gd);\n",
       "            observer.disconnect();\n",
       "        }}\n",
       "}});\n",
       "\n",
       "// Listen for the removal of the full notebook cells\n",
       "var notebookContainer = gd.closest('#notebook-container');\n",
       "if (notebookContainer) {{\n",
       "    x.observe(notebookContainer, {childList: true});\n",
       "}}\n",
       "\n",
       "// Listen for the clearing of the current output cell\n",
       "var outputEl = gd.closest('.output');\n",
       "if (outputEl) {{\n",
       "    x.observe(outputEl, {childList: true});\n",
       "}}\n",
       "\n",
       "                        })                };                });            </script>        </div>"
      ]
     },
     "metadata": {},
     "output_type": "display_data"
    }
   ],
   "source": [
    "## Time loop\n",
    "\n",
    "!rm -r savedVariables\n",
    "!mkdir savedVariables\n",
    "\n",
    "for time in t:\n",
    "\n",
    "    print(\"\\nTime = \" + str(time))\n",
    "    \n",
    "    # Set number of maximum iterations for convergence\n",
    "    \n",
    "    icorr = 1\n",
    "    maxcorr = 100000\n",
    "\n",
    "    # Make directory\n",
    "\n",
    "    !mkdir savedVariables/{time}\n",
    "    \n",
    "    while True:\n",
    "    # for iteration in [1]:\n",
    "            \n",
    "        u_previous = u_new #store latest guess values\n",
    "\n",
    "        A_x = A(\"x\").createMatrix()\n",
    "        \n",
    "        for k in np.arange(0,(nx+2)*(ny+2)):   # k is the cell number\n",
    "\n",
    "            U = displacement(k, u_previous, 0)\n",
    "            V = displacement(k, u_previous, 1)\n",
    "               \n",
    "            if cell_index().bottom_left_corner(k):\n",
    "\n",
    "                #print(str(k) + \": Bottom left corner coefficients\")\n",
    "\n",
    "                #ap\n",
    "                A_x[k,k] = (rho*dx*dy/(dt**2)) + (Sfy/dy)*mu + (Sfx/dx)*(2*mu + Lambda)\n",
    "\n",
    "                #an\n",
    "                A_x[k,k+nx+2] = -(Sfy/dy)*mu\n",
    "\n",
    "                #ae\n",
    "                A_x[k,k+1] = - (Sfx/dx)*(2*mu + Lambda)\n",
    "\n",
    "                b_x[k] =(\n",
    "                            (rho/(dt**2))*( 2*(u_old[k,0])*dx*dy - u_old_old[k,0]*dx*dy) \n",
    "                            +\n",
    "                            (Sfy/(3*dx))*mu*(\n",
    "                                                + V.NE\n",
    "                                                + V.E\n",
    "                                                - V.NW #l\n",
    "                                                - V.W #l\n",
    "                                            )\n",
    "                            +\n",
    "                            (Sfx/(3*dy))*Lambda*(\n",
    "                                                    + V.NE\n",
    "                                                    + V.N\n",
    "                                                    - V.SE #b\n",
    "                                                    - V.S #b\n",
    "                                                )\n",
    "                            +\n",
    "                            Sfy*tr_bottom_x\n",
    "                            +\n",
    "                            Sfx*tr_left_x\n",
    "                        )   \n",
    "\n",
    "            #Bottom right corner coefficients\n",
    "                \n",
    "            elif  cell_index().bottom_right_corner(k):\n",
    "\n",
    "                #print(str(k) + \": Bottom right corner coefficients\")\n",
    "\n",
    "                #ap\n",
    "                A_x[k,k] = (rho*dx*dy/(dt**2)) + (Sfy/dy)*mu + (Sfx/dx)*(2*mu + Lambda)\n",
    "\n",
    "                #an\n",
    "                A_x[k,k+nx+2] = -(Sfy/dy)*mu\n",
    "\n",
    "                #aw\n",
    "                A_x[k,k-1] = -(Sfx/dx)*(2*mu + Lambda)\n",
    "\n",
    "                #b_x = A + B(u_b) + C(u_r) + D(-V.W -V.NW + 2v_r) + E(-V.N -V.NW + 2v_b)\n",
    "\n",
    "\n",
    "                b_x[k] =(\n",
    "                            (rho/(dt**2))*( 2*(u_old[k,0])*dx*dy - u_old_old[k,0]*dx*dy) \n",
    "                            +\n",
    "                            (Sfy/(3*dx))*mu*(\n",
    "                                                + V.NE #r\n",
    "                                                + V.E #r\n",
    "                                                - V.NW\n",
    "                                                - V.W\n",
    "                                            )\n",
    "                            +\n",
    "                            (Sfx/(3*dy))*Lambda*(\n",
    "                                                    - V.N\n",
    "                                                    - V.NW\n",
    "                                                    + V.S #b\n",
    "                                                    + V.SW #b\n",
    "                                                )\n",
    "                            +\n",
    "                            Sfx*tr_right_x\n",
    "                            +\n",
    "                            Sfy*tr_bottom_x\n",
    "                        ) \n",
    "\n",
    "            # Top Left Corner Coeficients\n",
    "                \n",
    "            elif  cell_index().top_left_corner(k):\n",
    "\n",
    "                #print(str(k) + \":Top Left corner coefficients\")\n",
    "\n",
    "                #ap                \n",
    "                A_x[k,k] = (rho*dx*dy/(dt**2)) + (Sfy/dy)*mu + (Sfx/dx)*(2*mu + Lambda)\n",
    "                \n",
    "                #as\n",
    "                A_x[k,k-nx-2] = -(Sfy/dy)*mu\n",
    "\n",
    "                #ae                \n",
    "                A_x[k,k+1] = -(Sfx/dx)*(2*mu + Lambda)\n",
    "                \n",
    "                b_x[k] =(\n",
    "                            (rho/(dt**2))*( 2*(u_old[k,0])*dx*dy - u_old_old[k,0]*dx*dy) \n",
    "                            +\n",
    "                            (Sfy/(3*dx))*mu*(\n",
    "                                                - V.E\n",
    "                                                - V.SE\n",
    "                                                + V.W #l\n",
    "                                                + V.SW #l\n",
    "                                            )\n",
    "                            +\n",
    "                            (Sfx/(3*dy))*Lambda*(\n",
    "                                                    + V.NE #t\n",
    "                                                    + V.N #t\n",
    "                                                    - V.SE\n",
    "                                                    - V.S\n",
    "                                                )\n",
    "                            +\n",
    "                            Sfy*tr_top_x\n",
    "                            +\n",
    "                            Sfx*tr_left_x\n",
    "                        )\n",
    "                \n",
    "            # Top right corner coefficients\n",
    "                \n",
    "            elif  cell_index().top_right_corner(k):   \n",
    "\n",
    "                #print(str(k) + \":Top right corner coefficients\")\n",
    "\n",
    "                #ap\n",
    "                A_x[k,k] = (rho*dx*dy/(dt**2)) + (Sfy/dy)*mu + (Sfx/dx)*(2*mu + Lambda)\n",
    "\n",
    "                #as\n",
    "                A_x[k,k-nx-2] = -(Sfy/dy)*mu\n",
    "\n",
    "                #aw\n",
    "                A_x[k,k-1] = -(Sfx/dx)*(2*mu + Lambda)\n",
    "\n",
    "                b_x[k] =(\n",
    "                            (rho/(dt**2))*( 2*(u_old[k,0])*dx*dy - u_old_old[k,0]*dx*dy) \n",
    "                            +\n",
    "                            (Sfy/(3*dx))*mu*(\n",
    "                                                - V.E #r\n",
    "                                                - V.SE #r\n",
    "                                                + V.W\n",
    "                                                + V.SW\n",
    "                                            )\n",
    "                            +\n",
    "                            (Sfx/(3*dy))*Lambda*(\n",
    "                                                    - V.N #t\n",
    "                                                    - V.NW #t\n",
    "                                                    + V.S\n",
    "                                                    + V.SW\n",
    "                                                )\n",
    "                            +\n",
    "                            Sfy*tr_top_x\n",
    "                            +\n",
    "                            Sfx*tr_right_x\n",
    "                        )\n",
    "                \n",
    "            # Center Bottom Boundaries\n",
    "\n",
    "            elif  cell_index().center_bottom(k):\n",
    "\n",
    "                #print(str(k) + \": Bottom Center Coefficents for Cell\")\n",
    "\n",
    "                #ap\n",
    "                A_x[k,k] = (rho*dx*dy/(dt**2)) + (Sfy/dy)*mu + (Sfx/dx)*(2*mu + Lambda) + (Sfx/dx)*(2*mu + Lambda)\n",
    "\n",
    "                #an\n",
    "                A_x[k,k+nx+2] = -(Sfy/dy)*mu\n",
    "                \n",
    "                #ae\n",
    "                A_x[k,k+1] = -(Sfx/dx)*(2*mu + Lambda)\n",
    "\n",
    "                #aw\n",
    "                A_x[k,k-1] = -(Sfx/dx)*(2*mu + Lambda)\n",
    "\n",
    "                b_x[k] =(\n",
    "                            (rho/(dt**2))*( 2*(u_old[k,0])*dx*dy - u_old_old[k,0]*dx*dy) \n",
    "                            +\n",
    "                            (Sfy/(4*dx))*mu*(\n",
    "                                                + V.NE\n",
    "                                                + V.E\n",
    "                                                - V.NW\n",
    "                                                - V.W\n",
    "                                            )\n",
    "                            +\n",
    "                            (Sfx/(3*dy))*Lambda*(\n",
    "                                                    + V.NE\n",
    "                                                    + V.N\n",
    "                                                    - V.SE #b\n",
    "                                                    - V.S #b\n",
    "                                                )\n",
    "                            +\n",
    "                            (Sfx/(3*dy))*Lambda*(\n",
    "                                                    - V.N\n",
    "                                                    - V.NW\n",
    "                                                    + V.S #b\n",
    "                                                    + V.SW #b\n",
    "                                                )\n",
    "                            +\n",
    "                            Sfy*tr_bottom_x\n",
    "                        )                                 \n",
    "\n",
    "            # Center Top Boundaries\n",
    "\n",
    "            elif cell_index().center_top(k):\n",
    "\n",
    "                # #print(k)\n",
    "\n",
    "                #print(str(k) + \": Top Center Coefficents for Cell\")\n",
    "\n",
    "                #ap\n",
    "                A_x[k,k] = (rho*dx*dy/(dt**2)) + (Sfy/dy)*mu + (Sfx/dx)*(2*mu + Lambda) + (Sfx/dx)*(2*mu + Lambda)\n",
    "\n",
    "                #as\n",
    "                A_x[k,k-nx-2] = -(Sfy/dy)*mu\n",
    "                \n",
    "                #ae\n",
    "                A_x[k,k+1] = -(Sfx/dx)*(2*mu + Lambda)\n",
    "\n",
    "                #aw\n",
    "                A_x[k,k-1] = -(Sfx/dx)*(2*mu + Lambda)\n",
    "\n",
    "                b_x[k] =(\n",
    "                            (rho/(dt**2))*( 2*(u_old[k,0])*dx*dy - u_old_old[k,0]*dx*dy) \n",
    "                            +\n",
    "                            (Sfy/(4*dx))*mu*(\n",
    "                                                - V.E\n",
    "                                                - V.SE\n",
    "                                                + V.W\n",
    "                                                + V.SW\n",
    "                                            )\n",
    "                            +\n",
    "                            (Sfx/(3*dy))*Lambda*(\n",
    "                                                    + V.NE #t\n",
    "                                                    + V.N #t\n",
    "                                                    - V.SE\n",
    "                                                    - V.S\n",
    "                                                )\n",
    "                            +\n",
    "                            (Sfx/(3*dy))*Lambda*(\n",
    "                                                    - V.N #t\n",
    "                                                    - V.NW #t\n",
    "                                                    + V.S\n",
    "                                                    + V.SW\n",
    "                                                )\n",
    "                            +\n",
    "                            Sfy*tr_top_x\n",
    "                        )\n",
    "            \n",
    "            # Center Left Boundaries\n",
    "\n",
    "            elif  cell_index().center_left(k):\n",
    "\n",
    "                #print(str(k) + \": Left Center Coefficents for Cell\")\n",
    "\n",
    "                #ap\n",
    "                A_x[k,k] = (rho*dx*dy/(dt**2)) + (Sfy/dy)*mu + (Sfy/dy)*mu + (Sfx/dx)*(2*mu + Lambda)\n",
    "\n",
    "                #an\n",
    "                A_x[k,k+nx+2] = -(Sfy/dy)*mu\n",
    "                \n",
    "                #as\n",
    "                A_x[k,k-nx-2] = -(Sfy/dy)*mu\n",
    "\n",
    "                #ae\n",
    "                A_x[k,k+1] = -(Sfx/dx)*(2*mu + Lambda)\n",
    "\n",
    "                b_x[k] =(\n",
    "                            (rho/(dt**2))*( 2*(u_old[k,0])*dx*dy - u_old_old[k,0]*dx*dy) \n",
    "                            +\n",
    "                            (Sfy/(3*dx))*mu*(\n",
    "                                                + V.NE\n",
    "                                                + V.E\n",
    "                                                - V.NW #l\n",
    "                                                - V.W #l\n",
    "                                            )\n",
    "                            +\n",
    "                            (Sfy/(3*dx))*mu*(\n",
    "                                                - V.E\n",
    "                                                - V.SE\n",
    "                                                + V.W #l\n",
    "                                                + V.SW #l \n",
    "                                            )\n",
    "                            +\n",
    "                            (Sfx/(4*dy))*Lambda*(\n",
    "                                                   + V.NE\n",
    "                                                   + V.N\n",
    "                                                   - V.SE\n",
    "                                                   - V.S\n",
    "                                                )\n",
    "                            +\n",
    "                            Sfx*tr_left_x\n",
    "                        )\n",
    "\n",
    "            # Center Right Boundaries\n",
    "\n",
    "            elif  cell_index().center_right(k):\n",
    "\n",
    "                #print(str(k) + \": Right Center Coefficents for Cell\")\n",
    "\n",
    "                #ap\n",
    "                A_x[k,k] = (rho*dx*dy/(dt**2)) + (Sfy/dy)*mu + (Sfy/dy)*mu + (Sfx/dx)*(2*mu + Lambda)\n",
    "\n",
    "                #an\n",
    "                A_x[k,k+nx+2] = -(Sfy/dy)*mu\n",
    "                \n",
    "                #as\n",
    "                A_x[k,k-nx-2] = -(Sfy/dy)*mu\n",
    "\n",
    "                #aw\n",
    "                A_x[k,k-1] = -(Sfx/dx)*(2*mu + Lambda)\n",
    "\n",
    "                b_x[k] =(\n",
    "                            (rho/(dt**2))*( 2*(u_old[k,0])*dx*dy - u_old_old[k,0]*dx*dy) \n",
    "                            +\n",
    "                            (Sfy/(3*dx))*mu*(\n",
    "                                                + V.NE #r\n",
    "                                                + V.E #r\n",
    "                                                - V.NW \n",
    "                                                - V.W \n",
    "                                            )\n",
    "                            +\n",
    "                            (Sfy/(3*dx))*mu*(\n",
    "                                                - V.E #r\n",
    "                                                - V.SE #r\n",
    "                                                + V.W \n",
    "                                                + V.SW \n",
    "                                            )\n",
    "                            +\n",
    "                            (Sfx/(4*dy))*Lambda*(\n",
    "                                                   - V.N \n",
    "                                                   - V.NW\n",
    "                                                   + V.S\n",
    "                                                   + V.SW\n",
    "                                                )\n",
    "                            +\n",
    "                            Sfx*tr_right_x\n",
    "                        )\n",
    "\n",
    "            #### Points on Boundary ####\n",
    "\n",
    "            # Center Bottom\n",
    "\n",
    "            elif boundary_point_index().center_bottom(k):\n",
    "\n",
    "                #print(str(k) +  \": Bottom points\")\n",
    "\n",
    "                #ap\n",
    "                A_x[k,k] = 2*mu/dy\n",
    "\n",
    "                #an\n",
    "                A_x[k,k+nx+2] = -2*mu/dy\n",
    "\n",
    "                #b\n",
    "                b_x[k] =(\n",
    "                        tr_bottom_x\n",
    "                        +\n",
    "                        (mu/(2*dx))*(\n",
    "                                        + V.E\n",
    "                                        - V.W\n",
    "                                    )\n",
    "                        ) \n",
    "\n",
    "            # Center Top\n",
    "\n",
    "            elif boundary_point_index().center_top(k):\n",
    "                \n",
    "                #print( str(k) + \": Center points\" )\n",
    "                \n",
    "                #ap\n",
    "                A_x[k,k] = 2*mu/dy\n",
    "\n",
    "                #as\n",
    "                A_x[k,k-nx-2] = -2*mu/dy\n",
    "\n",
    "                #b\n",
    "                b_x[k] =(\n",
    "                        tr_top_x\n",
    "                        +\n",
    "                        (mu/(2*dx))*(\n",
    "                                        - V.E\n",
    "                                        + V.W\n",
    "                                    )\n",
    "                        ) \n",
    "\n",
    "                \n",
    "            # Center Left\n",
    "\n",
    "            elif boundary_point_index().center_left(k):\n",
    "\n",
    "                #print( str(k) + \": Left points\" )\n",
    "\n",
    "                #ap\n",
    "                A_x[k,k] = (4*mu + 2*Lambda)/dx\n",
    "\n",
    "                #ae\n",
    "                A_x[k,k+1] = -(4*mu + 2*Lambda)/dx\n",
    "\n",
    "                #b\n",
    "                b_x[k] =(\n",
    "                        tr_left_x\n",
    "                        +\n",
    "                        (Lambda/(2*dy))*(\n",
    "                                        + V.N\n",
    "                                        - V.S\n",
    "                                    )\n",
    "                        )\n",
    "\n",
    "            # Center Right\n",
    "\n",
    "            elif boundary_point_index().center_right(k):\n",
    "\n",
    "                #print( str(k) + \": Right points\" )\n",
    "\n",
    "                #ap\n",
    "                A_x[k,k] = (4*mu + 2*Lambda)/dx\n",
    "\n",
    "                #aw\n",
    "                A_x[k,k-1] = -(4*mu + 2*Lambda)/dx\n",
    "\n",
    "                #b\n",
    "                b_x[k] =(\n",
    "                        tr_right_x\n",
    "                        +\n",
    "                        (Lambda/(2*dy))*(\n",
    "                                        - V.N\n",
    "                                        + V.S\n",
    "                                    )\n",
    "                        )\n",
    "\n",
    "            # Bottom Left: Bottom\n",
    "\n",
    "            elif boundary_point_index().bottom_left_bottom(k):\n",
    "\n",
    "                # print( str(k) + \": Bottom Left: Bottom points\" )\n",
    "                \n",
    "                # ap\n",
    "                A_x[k,k] = 2*mu/dy\n",
    "\n",
    "                #an\n",
    "                A_x[k,k+nx+2] = -2*mu/dy\n",
    "\n",
    "                #b\n",
    "                b_x[k] =(\n",
    "                        tr_bottom_x\n",
    "                        +\n",
    "                        ((mu)/(2*dx))*(\n",
    "                                        + V.E\n",
    "                                        + V.P\n",
    "                                        - 2*V.W\n",
    "                                    )\n",
    "                        ) \n",
    "\n",
    "            # Bottom Left: Left\n",
    "\n",
    "            elif boundary_point_index().bottom_left_left(k):\n",
    "\n",
    "                #print( str(k) +  \": Bottom Left: Left points\" )\n",
    "                \n",
    "                #ap\n",
    "                A_x[k,k] = (4*mu + 2*Lambda)/dx\n",
    "\n",
    "                #ae\n",
    "                A_x[k,k+1] = -(4*mu + 2*Lambda)/dx\n",
    "\n",
    "                #b\n",
    "                b_x[k] =(\n",
    "                        tr_left_x\n",
    "                        +\n",
    "                        ((Lambda)/(2*dy))*(\n",
    "                                        + V.N\n",
    "                                        + V.P\n",
    "                                        - 2*V.S\n",
    "                                    )\n",
    "                        )\n",
    "            \n",
    "            # Bottom Right: Right\n",
    "\n",
    "            elif boundary_point_index().bottom_right_right(k):\n",
    "\n",
    "                #print( str(k) + \": Bottom Right: Right points\" )\n",
    "\n",
    "                #ap\n",
    "                A_x[k,k] = (4*mu + 2*Lambda)/dx\n",
    "\n",
    "                #aw\n",
    "                A_x[k,k-1] = -(4*mu + 2*Lambda)/dx\n",
    "\n",
    "                #b\n",
    "                b_x[k] =(\n",
    "                        tr_right_x\n",
    "                        +\n",
    "                        ((Lambda)/(2*dy))*(\n",
    "                                        - V.N\n",
    "                                        - V.P\n",
    "                                        + 2*V.S\n",
    "                                    )\n",
    "                        )\n",
    "\n",
    "            # Bottom Right: Bottom\n",
    "\n",
    "            elif boundary_point_index().bottom_right_bottom(k):\n",
    "\n",
    "                #print( str(k) + \": Bottom Right: Bottom points\" )\n",
    "\n",
    "\n",
    "                #ap\n",
    "                A_x[k,k] = 2*mu/dy\n",
    "\n",
    "                #an\n",
    "                A_x[k,k+nx+2] = -2*mu/dy\n",
    "\n",
    "                #b\n",
    "                b_x[k] =(\n",
    "                        tr_bottom_x\n",
    "                        +\n",
    "                        ((mu)/(2*dx))*(\n",
    "                                        + V.E\n",
    "                                        + V.P\n",
    "                                        - 2*V.W\n",
    "                                    )\n",
    "                        )\n",
    "\n",
    "            # Top Left: Left\n",
    "\n",
    "            elif boundary_point_index().top_left_left(k):\n",
    "\n",
    "                #print( str(k) + \" Top Left: Left points\" )\n",
    "\n",
    "                \n",
    "                #ap\n",
    "                A_x[k,k] = (4*mu + 2*Lambda)/dx\n",
    "\n",
    "                #ae\n",
    "                A_x[k,k+1] = -(4*mu + 2*Lambda)/dx\n",
    "\n",
    "                #b\n",
    "                b_x[k] =(\n",
    "                        tr_left_x\n",
    "                        +\n",
    "                        ((Lambda)/(2*dy))*(\n",
    "                                        + V.N\n",
    "                                        + V.P\n",
    "                                        - 2*V.S\n",
    "                                    )\n",
    "                        )\n",
    "\n",
    "            # Top Left: Top\n",
    "\n",
    "            elif boundary_point_index().top_left_top(k):\n",
    "\n",
    "                #print( str(k) + \" Top Left: Top points\" )\n",
    "\n",
    "                \n",
    "                #ap\n",
    "                A_x[k,k] = 2*mu/dy\n",
    "\n",
    "                #as\n",
    "                A_x[k,k-nx-2] = -2*mu/dy\n",
    "\n",
    "                #b\n",
    "                b_x[k] =(\n",
    "                        tr_top_x\n",
    "                        +\n",
    "                        ((mu)/(2*dx))*(\n",
    "                                        - V.E\n",
    "                                        - V.P\n",
    "                                        + 2*V.W\n",
    "                                    )\n",
    "                        )\n",
    "\n",
    "            # Top Right: Right\n",
    "\n",
    "            elif boundary_point_index().top_right_right(k):\n",
    "\n",
    "                #print( str(k) + \" Top Right: Right points\" )\n",
    "\n",
    "                #ap\n",
    "                A_x[k,k] = (4*mu + 2*Lambda)/dx\n",
    "\n",
    "                #aw\n",
    "                A_x[k,k-1] = -(4*mu + 2*Lambda)/dx\n",
    "\n",
    "                #b\n",
    "                b_x[k] =(\n",
    "                        tr_right_x\n",
    "                        +\n",
    "                        ((Lambda)/(2*dy))*(\n",
    "                                                - V.N\n",
    "                                                - V.P\n",
    "                                                + 2*V.S\n",
    "                                            )\n",
    "                        )\n",
    "\n",
    "            # Top Right: Top\n",
    "            \n",
    "            elif boundary_point_index().top_right_top(k):\n",
    "\n",
    "                #print( str(k) + \" Top Right: Top points\" )\n",
    "\n",
    "                #ap\n",
    "                A_x[k,k] = 2*mu/dy\n",
    "\n",
    "                #as\n",
    "                A_x[k,k-nx-2] = -2*mu/dy\n",
    "\n",
    "                #b\n",
    "                b_x[k] =(\n",
    "                        tr_top_x\n",
    "                        +\n",
    "                        ((mu)/(2*dx))*(\n",
    "                                            - V.E\n",
    "                                            - V.P\n",
    "                                            + 2*V.W\n",
    "                                    )\n",
    "                        ) \n",
    "            # Corner Points\n",
    "\n",
    "            elif boundary_point_index().bottom_left_corner(k):\n",
    "\n",
    "                #print(str(k) + \": Bottom Left Corner Point on Boundary\")\n",
    "\n",
    "                A_x[k,k] = 4\n",
    "\n",
    "                A_x[k,index(k).n] = 2 \n",
    "                A_x[k,index(k).e] = 2\n",
    "\n",
    "                A_x[k,index(k).ne] = -15\n",
    "\n",
    "                A_x[k,index(k).dir([\"n\", \"n\"])] = 2 \n",
    "                A_x[k,index(k).dir([\"e\", \"e\"])] = 2\n",
    "\n",
    "                A_x[k,index(k).dir([\"n\", \"ne\"])] = 1\n",
    "                A_x[k,index(k).dir([\"ne\", \"ne\"])] = 1\n",
    "                A_x[k,index(k).dir([\"e\", \"ne\"])] = 1\n",
    "\n",
    "                b_x[k] = 0\n",
    "\n",
    "            elif boundary_point_index().bottom_right_corner(k):\n",
    "                #print(str(k) + \": Bottom Right Corner Point on Boundary\")\n",
    "                A_x[k,k] = 4\n",
    "\n",
    "                A_x[k,index(k).n] = 2 \n",
    "                A_x[k,index(k).w] = 2\n",
    "\n",
    "                A_x[k,index(k).nw] = -15\n",
    "\n",
    "                A_x[k,index(k).dir([\"n\", \"n\"])] = 2 \n",
    "                A_x[k,index(k).dir([\"w\", \"w\"])] = 2\n",
    "\n",
    "                A_x[k,index(k).dir([\"n\", \"nw\"])] = 1\n",
    "                A_x[k,index(k).dir([\"nw\", \"nw\"])] = 1\n",
    "                A_x[k,index(k).dir([\"w\", \"nw\"])] = 1\n",
    "\n",
    "                b_x[k] = 0\n",
    "\n",
    "            elif boundary_point_index().top_left_corner(k):\n",
    "                #print(str(k) + \": Top Left Corner Point on Boundary\")\n",
    "                A_x[k,k] = 4\n",
    "\n",
    "                A_x[k,index(k).s] = 2 \n",
    "                A_x[k,index(k).e] = 2\n",
    "\n",
    "                A_x[k,index(k).se] = -15\n",
    "\n",
    "                A_x[k,index(k).dir([\"s\", \"s\"])] = 2 \n",
    "                A_x[k,index(k).dir([\"e\", \"e\"])] = 2\n",
    "\n",
    "                A_x[k,index(k).dir([\"s\", \"se\"])] = 1\n",
    "                A_x[k,index(k).dir([\"se\", \"se\"])] = 1\n",
    "                A_x[k,index(k).dir([\"e\", \"se\"])] = 1\n",
    "\n",
    "                b_x[k] = 0\n",
    "\n",
    "            elif boundary_point_index().top_right_corner(k):\n",
    "                #print(str(k) + \": Top Right Corner Point on Boundary\")\n",
    "                A_x[k,k] = 4\n",
    "\n",
    "                A_x[k,index(k).s] = 2 \n",
    "                A_x[k,index(k).w] = 2\n",
    "\n",
    "                A_x[k,index(k).sw] = -15\n",
    "\n",
    "                A_x[k,index(k).dir([\"s\", \"s\"])] = 2 \n",
    "                A_x[k,index(k).dir([\"w\", \"w\"])] = 2\n",
    "\n",
    "                A_x[k,index(k).dir([\"s\", \"sw\"])] = 1\n",
    "                A_x[k,index(k).dir([\"sw\", \"sw\"])] = 1\n",
    "                A_x[k,index(k).dir([\"w\", \"sw\"])] = 1\n",
    "\n",
    "                b_x[k] = 0\n",
    "                \n",
    "            else:\n",
    "\n",
    "                # print(str(k) + \": NO BC Cell\")\n",
    "\n",
    "                b_x[k] = (\n",
    "                            (rho/(dt**2))*( 2*(u_old[k,0])*dx*dy - u_old_old[k,0]*dx*dy)\n",
    "                            + (Sfy/(4*dx))*mu*(\n",
    "                                                + V.NE    # + V.Ne\n",
    "                                                - V.NW    # - V.NW\n",
    "                                                - V.SE    # - V.SE\n",
    "                                                + V.SW    # + V.SW\n",
    "                                            )\n",
    "                            +(Sfx/(4*dy))*Lambda*(\n",
    "                                                    + V.NE    # + V.Ne\n",
    "                                                    - V.NW    # - V.NW\n",
    "                                                    - V.SE    # - V.SE\n",
    "                                                    + V.SW    # + V.SW \n",
    "                                                )\n",
    "                            )\n",
    "\n",
    "        # saveArray(str(time) + \"/A_x_\" + str(icorr) , A_x.todense())   \n",
    "        # saveArray(str(time) + \"/b_x_\" + str(icorr), b_x)  \n",
    "\n",
    "        ## Solve the x-equation\n",
    "        \n",
    "        Ux = spsolve(A_x, b_x)\n",
    "        Ux = np.array(Ux)\n",
    "\n",
    "        # #print(Ux)\n",
    "\n",
    "        saveArray(str(time) + \"/Ux_\" + str(icorr), Ux)\n",
    "        \n",
    "        ## Prepare matrix A and b vector for the y-equation\n",
    "        \n",
    "        A_y = A(\"y\").createMatrix()\n",
    "        \n",
    "        for k in np.arange(0,(nx+2)*(ny+2)):   # j is the cell number\n",
    "\n",
    "\n",
    "            U = displacement(k, u_previous, 0)\n",
    "            V = displacement(k, u_previous, 1)\n",
    " \n",
    "            #Bottom left corner coefficients\n",
    "            \n",
    "            if cell_index().bottom_left_corner(k):\n",
    "\n",
    "                #print(str(k) + \": Bottom left corner coefficients\")\n",
    "                \n",
    "                #ap\n",
    "                A_y[k,k] = (rho*dx*dy/(dt**2)) + (Sfy/dy)*(2*mu + Lambda) + (Sfx/dx)*(mu)    \n",
    "                \n",
    "                #an\n",
    "                A_y[k,k+nx+2] = -(Sfy/dy)*(2*mu + Lambda)\n",
    "\n",
    "                #ae                \n",
    "                A_y[k,k+1] = -(Sfx/dx)*(mu)\n",
    "                \n",
    "                b_y[k] =(\n",
    "                            (rho/(dt**2))*( 2*(u_old[k,1])*dx*dy - u_old_old[k,1]*dx*dy) \n",
    "                            +\n",
    "                            (Sfy/(3*dx))*Lambda*(\n",
    "                                                + U.NE\n",
    "                                                + U.E\n",
    "                                                - U.NW #l\n",
    "                                                - U.W #l\n",
    "                                            )\n",
    "                            +\n",
    "                            (Sfx/(3*dy))*mu*(\n",
    "                                                    + U.NE\n",
    "                                                    + U.N\n",
    "                                                    - U.SE #b\n",
    "                                                    - U.S #b\n",
    "                                                )\n",
    "                            +\n",
    "                            Sfy*tr_bottom_y\n",
    "                            +\n",
    "                            Sfx*tr_left_y\n",
    "                        )\n",
    "                \n",
    "            #Bottom right corner coefficients\n",
    "\n",
    "            elif  cell_index().bottom_right_corner(k):\n",
    "                \n",
    "                #print(str(k) + \": Bottom right corner coefficients\")\n",
    "               \n",
    "                A_y[k,k] = (rho*dx*dy/(dt**2)) + (Sfy/dy)*(2*mu + Lambda) + (Sfx/dx)*(mu)    \n",
    "                \n",
    "                #an\n",
    "                A_y[k,k+nx+2] = -(Sfy/dy)*(2*mu + Lambda)\n",
    "\n",
    "                #aw                \n",
    "                A_y[k,k-1] = -(Sfx/dx)*(mu)\n",
    "                \n",
    "                b_y[k] =(\n",
    "                            (rho/(dt**2))*( 2*(u_old[k,1])*dx*dy - u_old_old[k,1]*dx*dy) \n",
    "                            +\n",
    "                            (Sfy/(3*dx))*Lambda*(\n",
    "                                                + U.NE #r\n",
    "                                                + U.E #r\n",
    "                                                - U.NW\n",
    "                                                - U.W\n",
    "                                            )\n",
    "                            +\n",
    "                            (Sfx/(3*dy))*mu*(\n",
    "                                                    - U.N\n",
    "                                                    - U.NW\n",
    "                                                    + U.S #b\n",
    "                                                    + U.SW #b\n",
    "                                                )\n",
    "                            +\n",
    "                            Sfy*tr_bottom_y\n",
    "                            +\n",
    "                            Sfx*tr_right_y\n",
    "                        )\n",
    "                     \n",
    "            #Top left corner coefficients\n",
    "                \n",
    "            elif  cell_index().top_left_corner(k):\n",
    "\n",
    "                #print(str(k) + \":Top Left corner coefficients\")\n",
    "\n",
    "                A_y[k,k] = (rho*dx*dy/(dt**2)) + (Sfy/dy)*(2*mu + Lambda) + (Sfx/dx)*(mu)    \n",
    "                \n",
    "                #as\n",
    "                A_y[k,k-nx-2] = -(Sfy/dy)*(2*mu + Lambda)\n",
    "\n",
    "                #ae                \n",
    "                A_y[k,k+1] = -(Sfx/dx)*(mu)\n",
    "                \n",
    "                b_y[k] =(\n",
    "                            (rho/(dt**2))*( 2*(u_old[k,1])*dx*dy - u_old_old[k,1]*dx*dy) \n",
    "                            +\n",
    "                            (Sfy/(3*dx))*Lambda*(\n",
    "                                                - U.E\n",
    "                                                - U.SE\n",
    "                                                + U.W #l\n",
    "                                                + U.SW #l\n",
    "                                            )\n",
    "                            +\n",
    "                            (Sfx/(3*dy))*mu*(\n",
    "                                                    + U.NE #t\n",
    "                                                    + U.N #t\n",
    "                                                    - U.SE\n",
    "                                                    - U.S\n",
    "                                                )\n",
    "                            +\n",
    "                            Sfy*tr_top_y\n",
    "                            +\n",
    "                            Sfx*tr_left_y\n",
    "                        )    \n",
    "                \n",
    "            #Top right corner coefficients\n",
    "                \n",
    "            elif  cell_index().top_right_corner(k):   \n",
    "\n",
    "                #print(str(k) + \":Top right corner coefficients\")\n",
    "\n",
    "                #ap\n",
    "                \n",
    "                A_y[k,k] = (rho*dx*dy/(dt**2)) + (Sfy/dy)*(2*mu + Lambda) + (Sfx/dx)*(mu)    \n",
    "                \n",
    "                #as\n",
    "                A_y[k,k-nx-2] = -(Sfy/dy)*(2*mu + Lambda)\n",
    "\n",
    "                #aw                \n",
    "                A_y[k,k-1] = -(Sfx/dx)*(mu)\n",
    "                \n",
    "                b_y[k] = (\n",
    "                            (rho/(dt**2))*( 2*(u_old[k,1])*dx*dy - u_old_old[k,1]*dx*dy) \n",
    "                            +\n",
    "                            (Sfy/(3*dx))*Lambda*(\n",
    "                                                - U.E #r\n",
    "                                                - U.SE #r\n",
    "                                                + U.W\n",
    "                                                + U.SW\n",
    "                                            )\n",
    "                            +\n",
    "                            (Sfx/(3*dy))*mu*(\n",
    "                                                    - U.N #t\n",
    "                                                    - U.NW #t\n",
    "                                                    + U.S\n",
    "                                                    + U.SW\n",
    "                                                )\n",
    "                            +\n",
    "                            Sfy*tr_top_y\n",
    "                            +\n",
    "                            Sfx*tr_right_y\n",
    "                        )\n",
    "            \n",
    "            # Center Bottom Boundaries\n",
    "\n",
    "            elif  cell_index().center_bottom(k):\n",
    "\n",
    "                #print(str(k) + \": Bottom Center Coefficents for Cell\")\n",
    "\n",
    "\n",
    "                #ap\n",
    "                A_y[k,k] = (rho*dx*dy/(dt**2)) + (Sfy/dy)*(2*mu + Lambda) + (Sfx/dx)*(mu) + (Sfx/dx)*(mu)\n",
    "\n",
    "                #an\n",
    "                A_y[k,k+nx+2] = -(Sfy/dy)*(2*mu + Lambda)\n",
    "                \n",
    "                #ae\n",
    "                A_y[k,k+1] = -(Sfx/dx)*(mu)\n",
    "\n",
    "                #aw\n",
    "                A_y[k,k-1] = -(Sfx/dx)*(mu)\n",
    "\n",
    "                b_y[k] =(\n",
    "                            (rho/(dt**2))*( 2*(u_old[k,1])*dx*dy - u_old_old[k,1]*dx*dy) \n",
    "                            +\n",
    "                            (Sfy/(4*dx))*Lambda*(\n",
    "                                                + U.NE\n",
    "                                                + U.E\n",
    "                                                - U.NW\n",
    "                                                - U.W\n",
    "                                            )\n",
    "                            +\n",
    "                            (Sfx/(3*dy))*mu*(\n",
    "                                                    + U.NE\n",
    "                                                    + U.N\n",
    "                                                    - U.SE #b\n",
    "                                                    - U.S #b\n",
    "                                                )\n",
    "                            +\n",
    "                            (Sfx/(3*dy))*mu*(\n",
    "                                                    - U.N\n",
    "                                                    - U.NW\n",
    "                                                    + U.S #b\n",
    "                                                    + U.SW #b\n",
    "                                                )\n",
    "                            +\n",
    "                            Sfy*tr_bottom_y\n",
    "                        )\n",
    "\n",
    "            # Center Top Boundaries\n",
    "\n",
    "            elif cell_index().center_top(k):\n",
    "\n",
    "                #print(str(k) + \": Top Center Coefficents for Cell\")\n",
    "\n",
    "                #ap\n",
    "                A_y[k,k] = (rho*dx*dy/(dt**2)) + (Sfy/dy)*(2*mu + Lambda) + (Sfx/dx)*(mu) + (Sfx/dx)*(mu)\n",
    "\n",
    "                #as\n",
    "                A_y[k,k-nx-2] = -(Sfy/dy)*(2*mu + Lambda)\n",
    "                \n",
    "                #ae\n",
    "                A_y[k,k+1] = -(Sfx/dx)*(mu)\n",
    "\n",
    "                #aw\n",
    "                A_y[k,k-1] = -(Sfx/dx)*(mu)\n",
    "\n",
    "                b_y[k] =(\n",
    "                            (rho/(dt**2))*( 2*(u_old[k,1])*dx*dy - u_old_old[k,1]*dx*dy) \n",
    "                            +\n",
    "                            (Sfy/(4*dx))*Lambda*(\n",
    "                                                - U.E\n",
    "                                                - U.SE\n",
    "                                                + U.W\n",
    "                                                + U.SW\n",
    "                                            )\n",
    "                            +\n",
    "                            (Sfx/(3*dy))*mu*(\n",
    "                                                    + U.NE #t\n",
    "                                                    + U.N #t\n",
    "                                                    - U.SE\n",
    "                                                    - U.S\n",
    "                                                )\n",
    "                            +\n",
    "                            (Sfx/(3*dy))*mu*(\n",
    "                                                    - U.N #t\n",
    "                                                    - U.NW #t\n",
    "                                                    + U.S\n",
    "                                                    + U.SW\n",
    "                                                )\n",
    "                            +\n",
    "                            Sfy*tr_top_y\n",
    "                        )\n",
    "\n",
    "            # Center Left Boundaries\n",
    "\n",
    "            elif  cell_index().center_left(k):\n",
    "\n",
    "                #print(str(k) + \": Left Center Coefficents for Cell\")\n",
    "\n",
    "                #ap\n",
    "                A_y[k,k] = (rho*dx*dy/(dt**2)) + (Sfy/dy)*(2*mu + Lambda) + (Sfy/dy)*(2*mu + Lambda) + (Sfx/dx)*mu\n",
    "\n",
    "                #an\n",
    "                A_y[k,k+nx+2] = -(Sfy/dy)*(2*mu + Lambda)\n",
    "                \n",
    "                #as\n",
    "                A_y[k,k-nx-2] = -(Sfy/dy)*(2*mu + Lambda)\n",
    "\n",
    "                #ae\n",
    "                A_y[k,k+1] = -(Sfx/dx)*(mu)\n",
    "\n",
    "                b_y[k] =(\n",
    "                            (rho/(dt**2))*( 2*(u_old[k,1])*dx*dy - u_old_old[k,1]*dx*dy) \n",
    "                            +\n",
    "                            (Sfy/(3*dx))*Lambda*(\n",
    "                                                + U.NE\n",
    "                                                + U.E\n",
    "                                                - U.NW #l\n",
    "                                                - U.W #l\n",
    "                                            )\n",
    "                            +\n",
    "                            (Sfy/(3*dx))*Lambda*(\n",
    "                                                - U.E\n",
    "                                                - U.SE\n",
    "                                                + U.W #l\n",
    "                                                + U.SW #l \n",
    "                                            )\n",
    "                            +\n",
    "                            (Sfx/(4*dy))*mu*(\n",
    "                                                   + U.NE\n",
    "                                                   + U.N\n",
    "                                                   - U.SE\n",
    "                                                   - U.S\n",
    "                                                )\n",
    "                            +\n",
    "                            Sfx*tr_left_y\n",
    "                        )\n",
    "\n",
    "            # Center Right Boundaries\n",
    "\n",
    "            elif  cell_index().center_right(k):\n",
    "\n",
    "                #print(str(k) + \": Right Center Coefficents for Cell\")\n",
    "\n",
    "                #ap\n",
    "                A_y[k,k] = (rho*dx*dy/(dt**2)) + (Sfy/dy)*(2*mu + Lambda) + (Sfy/dy)*(2*mu + Lambda) + (Sfx/dx)*mu\n",
    "\n",
    "                #an\n",
    "                A_y[k,k+nx+2] = -(Sfy/dy)*(2*mu + Lambda)\n",
    "                \n",
    "                #as\n",
    "                A_y[k,k-nx-2] = -(Sfy/dy)*(2*mu + Lambda)\n",
    "\n",
    "                #aw\n",
    "                A_y[k,k-1] = -(Sfx/dx)*(mu)\n",
    "\n",
    "                b_y[k] =(\n",
    "                            (rho/(dt**2))*( 2*(u_old[k,1])*dx*dy - u_old_old[k,1]*dx*dy)\n",
    "                            +\n",
    "                            (Sfy/(3*dx))*Lambda*(\n",
    "                                                + U.NE #r\n",
    "                                                + U.E #r\n",
    "                                                - U.NW \n",
    "                                                - U.W \n",
    "                                            )\n",
    "                            +\n",
    "                            (Sfy/(3*dx))*Lambda*(\n",
    "                                                - U.E #r\n",
    "                                                - U.SE #r\n",
    "                                                + U.W \n",
    "                                                + U.SW \n",
    "                                            )\n",
    "                            +\n",
    "                            (Sfx/(4*dy))*mu*(\n",
    "                                                   - U.N \n",
    "                                                   - U.NW\n",
    "                                                   + U.S\n",
    "                                                   + U.SW\n",
    "                                                )\n",
    "                            +\n",
    "                            Sfx*tr_right_y\n",
    "                        )\n",
    "\n",
    "\n",
    "            #### Points on Boundary ####\n",
    "\n",
    "            # Center Bottom\n",
    "\n",
    "            elif boundary_point_index().center_bottom(k):\n",
    "\n",
    "                #print(str(k) +  \": Bottom points\")\n",
    "\n",
    "                #ap\n",
    "                A_y[k,k] = (4*mu + 2*Lambda)/dy\n",
    "\n",
    "                #an\n",
    "                A_y[k,k+nx+2] = -(4*mu + 2*Lambda)/dy\n",
    "\n",
    "                #b\n",
    "                b_y[k] =(\n",
    "                        tr_bottom_y\n",
    "                        +\n",
    "                        (Lambda/(2*dx))*(\n",
    "                                        + U.E\n",
    "                                        - U.W\n",
    "                                    )\n",
    "                        ) \n",
    "\n",
    "            # Center Top\n",
    "\n",
    "            elif boundary_point_index().center_top(k):\n",
    "                \n",
    "                #print( str(k) + \": Center points\" )\n",
    "                \n",
    "                #ap\n",
    "                A_y[k,k] = (4*mu + 2*Lambda)/dy\n",
    "\n",
    "                #as\n",
    "                A_y[k,k-nx-2] = - (4*mu + 2*Lambda)/dy\n",
    "\n",
    "                #b\n",
    "                b_y[k] =(\n",
    "                        tr_top_y\n",
    "                        +\n",
    "                        (Lambda/(2*dx))*(\n",
    "                                        - U.E\n",
    "                                        + U.W\n",
    "                                    )\n",
    "                        ) \n",
    "                \n",
    "            # Center Left\n",
    "\n",
    "            elif boundary_point_index().center_left(k):\n",
    "\n",
    "                #print( str(k) + \": Left points\" )\n",
    "\n",
    "                #ap\n",
    "                A_y[k,k] = (2*mu)/dx\n",
    "\n",
    "                #ae\n",
    "                A_y[k,k+1] = -(2*mu)/dx\n",
    "\n",
    "                #b\n",
    "                b_y[k] =(\n",
    "                        tr_left_y\n",
    "                        +\n",
    "                        (mu/(2*dy))*(\n",
    "                                        + U.N\n",
    "                                        - U.S\n",
    "                                    )\n",
    "                        )\n",
    "\n",
    "            # Center Right\n",
    "\n",
    "            elif boundary_point_index().center_right(k):\n",
    "\n",
    "                #print( str(k) + \": Right points\" )\n",
    "\n",
    "                #ap\n",
    "                A_y[k,k] = (2*mu)/dx\n",
    "\n",
    "                #aw\n",
    "                A_y[k,k-1] = -(2*mu)/dx\n",
    "\n",
    "                #b\n",
    "                b_y[k] =(\n",
    "                        tr_right_y\n",
    "                        +\n",
    "                        (mu/(2*dy))*(\n",
    "                                        - U.N\n",
    "                                        + U.S\n",
    "                                    )\n",
    "                        )\n",
    "\n",
    "            # Bottom Left: Bottom\n",
    "\n",
    "            elif boundary_point_index().bottom_left_bottom(k):\n",
    "\n",
    "                #print( str(k) + \": Bottom Left: Bottom points\" )\n",
    "                #ap\n",
    "                A_y[k,k] = (4*mu + 2*Lambda)/dx      \n",
    "\n",
    "                #an\n",
    "                A_y[k,k+nx+2] = -(4*mu + 2*Lambda)/dx\n",
    "\n",
    "                #b\n",
    "                b_y[k] =(\n",
    "                        tr_bottom_y\n",
    "                        +\n",
    "                        ((mu)/(2*dx))*(\n",
    "                                        + U.E\n",
    "                                        + U.P\n",
    "                                        - 2*U.W\n",
    "                                    )\n",
    "                        ) \n",
    "            # Bottom Left: Left\n",
    "\n",
    "            elif boundary_point_index().bottom_left_left(k):\n",
    "\n",
    "                #print( str(k) +  \": Bottom Left: Left points\" )\n",
    "                \n",
    "                #ap\n",
    "                A_y[k,k] = (2*mu)/dx\n",
    "\n",
    "                #ae\n",
    "                A_y[k,k+1] = -(2*mu)/dx\n",
    "\n",
    "                #b\n",
    "                b_y[k] =(\n",
    "                        tr_left_y\n",
    "                        +\n",
    "                        ((mu)/(2*dy))*(\n",
    "                                        + U.N\n",
    "                                        + U.P\n",
    "                                        - 2*U.S\n",
    "                                    )\n",
    "                        )\n",
    "            \n",
    "            # Bottom Right: Right\n",
    "\n",
    "            elif boundary_point_index().bottom_right_right(k):\n",
    "\n",
    "                #print( str(k) + \": Bottom Right: Right points\" )\n",
    "\n",
    "                #ap\n",
    "                A_y[k,k] = (2*mu)/dx\n",
    "\n",
    "                #aw\n",
    "                A_y[k,k-1] = -(2*mu)/dx\n",
    "\n",
    "                #b\n",
    "                b_y[k] =(\n",
    "                        tr_right_y\n",
    "                        +\n",
    "                        ((mu)/(2*dy))*(\n",
    "                                        - U.N\n",
    "                                        - U.P\n",
    "                                        + 2*U.S\n",
    "                                    )\n",
    "                        )\n",
    "\n",
    "            # Bottom Right: Bottom\n",
    "\n",
    "            elif boundary_point_index().bottom_right_bottom(k):\n",
    "\n",
    "                #print( str(k) + \": Bottom Right: Bottom points\" )\n",
    "\n",
    "\n",
    "                #ap\n",
    "                A_y[k,k] = (4*mu + 2*Lambda)/dy\n",
    "\n",
    "                #an\n",
    "                A_y[k,k+nx+2] = -(4*mu + 2*Lambda)/dy\n",
    "\n",
    "                #b\n",
    "                b_y[k] =(\n",
    "                        tr_bottom_y\n",
    "                        +\n",
    "                        ((Lambda)/(2*dx))*(\n",
    "                                        + U.E\n",
    "                                        + U.P\n",
    "                                        - 2*U.W\n",
    "                                    )\n",
    "                        )\n",
    "\n",
    "            # Top Left: Left\n",
    "\n",
    "            elif boundary_point_index().top_left_left(k):\n",
    "\n",
    "                #print( str(k) + \" Top Left: Left points\" )\n",
    "\n",
    "                \n",
    "                #ap\n",
    "                A_y[k,k] = 2*mu/dx\n",
    "\n",
    "                #ae\n",
    "                A_y[k,k+1] = - 2*mu/dx\n",
    "\n",
    "                #b\n",
    "                b_y[k] =(\n",
    "                        tr_left_y\n",
    "                        +\n",
    "                        ((mu)/(2*dy))*(\n",
    "                                        + U.N\n",
    "                                        + U.P\n",
    "                                        - 2*U.S\n",
    "                                    )\n",
    "                        )\n",
    "\n",
    "            # Top Left: Top\n",
    "\n",
    "            elif boundary_point_index().top_left_top(k):\n",
    "\n",
    "                #print( str(k) + \" Top Left: Top points\" )\n",
    "\n",
    "                \n",
    "                #ap\n",
    "                A_y[k,k] = (4*mu + 2*Lambda)/dy\n",
    "\n",
    "                #as\n",
    "                A_y[k,k-nx-2] = -(4*mu + 2*Lambda)/dy\n",
    "\n",
    "                #b\n",
    "                b_y[k] =(\n",
    "                        tr_top_y\n",
    "                        +\n",
    "                        ((Lambda)/(2*dx))*(\n",
    "                                        - U.E\n",
    "                                        - U.P\n",
    "                                        + 2*U.W\n",
    "                                    )\n",
    "                        )\n",
    "\n",
    "            # Top Right: Right\n",
    "\n",
    "            elif boundary_point_index().top_right_right(k):\n",
    "\n",
    "                #print( str(k) + \" Top Right: Right points\" )\n",
    "\n",
    "                #ap\n",
    "                A_y[k,k] =  2*mu/dx\n",
    "\n",
    "                #aw\n",
    "                A_y[k,k-1] = - 2*mu/dx\n",
    "\n",
    "                #b\n",
    "                b_y[k] =(\n",
    "                        tr_right_y\n",
    "                        +\n",
    "                        ((mu)/(2*dy))*(\n",
    "                                        - U.N\n",
    "                                        - U.P\n",
    "                                        + 2*U.S\n",
    "                                    )\n",
    "                        )\n",
    "\n",
    "            # Top Right: Top\n",
    "            \n",
    "            elif boundary_point_index().top_right_top(k):\n",
    "\n",
    "                #print( str(k) + \" Top Right: Top points\" )\n",
    "\n",
    "                #ap\n",
    "                A_y[k,k] = (4*Lambda + 2*mu)/dy\n",
    "\n",
    "                #as\n",
    "                A_y[k,k-nx-2] = -(4*Lambda + 2*mu)/dy\n",
    "\n",
    "                #b\n",
    "                b_y[k] =(\n",
    "                        tr_top_y\n",
    "                        +\n",
    "                        ((Lambda)/(2*dx))*(\n",
    "                                        - U.E\n",
    "                                        - U.P\n",
    "                                        + 2*U.W\n",
    "                                    )\n",
    "                        ) \n",
    "            # # Corner Points\n",
    "            elif boundary_point_index().bottom_left_corner(k):\n",
    "\n",
    "                #print(str(k) + \": Bottom Left Corner Point on Boundary\")\n",
    "\n",
    "                A_y[k,k] = 4\n",
    "\n",
    "                A_y[k,index(k).n] = 2 \n",
    "                A_y[k,index(k).e] = 2\n",
    "\n",
    "                A_y[k,index(k).ne] = -15\n",
    "\n",
    "                A_y[k,index(k).dir([\"n\", \"n\"])] = 2 \n",
    "                A_y[k,index(k).dir([\"e\", \"e\"])] = 2\n",
    "\n",
    "                A_y[k,index(k).dir([\"n\", \"ne\"])] = 1\n",
    "                A_y[k,index(k).dir([\"ne\", \"ne\"])] = 1\n",
    "                A_y[k,index(k).dir([\"e\", \"ne\"])] = 1\n",
    "\n",
    "                b_y[k] = 0\n",
    "\n",
    "            elif boundary_point_index().bottom_right_corner(k):\n",
    "                #print(str(k) + \": Bottom Right Corner Point on Boundary\")\n",
    "                A_y[k,k] = 4\n",
    "\n",
    "                A_y[k,index(k).n] = 2 \n",
    "                A_y[k,index(k).w] = 2\n",
    "\n",
    "                A_y[k,index(k).nw] = -15\n",
    "\n",
    "                A_y[k,index(k).dir([\"n\", \"n\"])] = 2 \n",
    "                A_y[k,index(k).dir([\"w\", \"w\"])] = 2\n",
    "\n",
    "                A_y[k,index(k).dir([\"n\", \"nw\"])] = 1\n",
    "                A_y[k,index(k).dir([\"nw\", \"nw\"])] = 1\n",
    "                A_y[k,index(k).dir([\"w\", \"nw\"])] = 1\n",
    "\n",
    "                b_y[k] = 0\n",
    "\n",
    "            elif boundary_point_index().top_left_corner(k):\n",
    "                #print(str(k) + \": Top Left Corner Point on Boundary\")\n",
    "                A_y[k,k] = 4\n",
    "\n",
    "                A_y[k,index(k).s] = 2 \n",
    "                A_y[k,index(k).e] = 2\n",
    "\n",
    "                A_y[k,index(k).se] = -15\n",
    "\n",
    "                A_y[k,index(k).dir([\"s\", \"s\"])] = 2 \n",
    "                A_y[k,index(k).dir([\"e\", \"e\"])] = 2\n",
    "\n",
    "                A_y[k,index(k).dir([\"s\", \"se\"])] = 1\n",
    "                A_y[k,index(k).dir([\"se\", \"se\"])] = 1\n",
    "                A_y[k,index(k).dir([\"e\", \"se\"])] = 1\n",
    "\n",
    "                b_y[k] = 0\n",
    "\n",
    "            elif boundary_point_index().top_right_corner(k):\n",
    "                #print(str(k) + \": Top Right Corner Point on Boundary\")\n",
    "                A_y[k,k] = 4\n",
    "\n",
    "                A_y[k,index(k).s] = 2 \n",
    "                A_y[k,index(k).w] = 2\n",
    "\n",
    "                A_y[k,index(k).sw] = -15\n",
    "\n",
    "                A_y[k,index(k).dir([\"s\", \"s\"])] = 2 \n",
    "                A_y[k,index(k).dir([\"w\", \"w\"])] = 2\n",
    "\n",
    "                A_y[k,index(k).dir([\"s\", \"sw\"])] = 1\n",
    "                A_y[k,index(k).dir([\"sw\", \"sw\"])] = 1\n",
    "                A_y[k,index(k).dir([\"w\", \"sw\"])] = 1\n",
    "\n",
    "                b_y[k] = 0\n",
    "            \n",
    "            # Corner Points\n",
    "            # elif boundary_point_index().bottom_left_corner(k):\n",
    "\n",
    "            #     #print(str(k) + \": Bottom Left Corner Point on Boundary\")\n",
    "\n",
    "            #     A_y[k,k] = 1\n",
    "            #     b_y[k] = 1e-16\n",
    "\n",
    "            # elif boundary_point_index().bottom_right_corner(k):\n",
    "            #     #print(str(k) + \": Bottom Right Corner Point on Boundary\")\n",
    "            #     A_y[k,k] = 1\n",
    "            #     b_y[k] = 1e-16\n",
    "\n",
    "            # elif boundary_point_index().top_left_corner(k):\n",
    "            #     #print(str(k) + \": Top Left Corner Point on Boundary\")\n",
    "            #     A_y[k,k] = 1\n",
    "            #     b_y[k] = 1e-16\n",
    "\n",
    "            # elif boundary_point_index().top_right_corner(k):\n",
    "            #     #print(str(k) + \": Top Right Corner Point on Boundary\")\n",
    "            #     A_y[k,k] = 1\n",
    "            #     b_y[k] = 1e-16\n",
    "\n",
    "            else:\n",
    "\n",
    "                #print(str(k) + \": NO BC Cell\")\n",
    "\n",
    "                b_y[k] = (\n",
    "                            (rho/(dt**2))*( 2*(u_old[k,1])*dx*dy - u_old_old[k,1]*dx*dy)\n",
    "                            + (Sfy/(4*dx))*Lambda*(\n",
    "                                                + U.NE    # + U.Ne\n",
    "                                                - U.NW    # - U.Nw\n",
    "                                                - U.SE    # - U.Se\n",
    "                                                + U.SW    # + U.Sw\n",
    "                                            )\n",
    "                            +(Sfx/(4*dy))*mu*(\n",
    "                                                    + U.NE    # + U.Ne\n",
    "                                                    - U.NW    # - U.Nw\n",
    "                                                    - U.SE    # - U.Se\n",
    "                                                    + U.SW    # + U.Sw \n",
    "                                                )\n",
    "                            )\n",
    "        # saveArray(str(time) + \"/A_y_\" + str(icorr) , A_y)\n",
    "        # saveArray(str(time) + \"/b_y_\" + str(icorr), b_y)       \n",
    "                \n",
    "        ## Solve the y-equation\n",
    "        Uy = spsolve(A_y, b_y)\n",
    "        Uy = np.array(Uy)\n",
    "\n",
    "        saveArray(str(time) + \"/Uy_\" + str(icorr), Uy)\n",
    "        \n",
    "        # ## Update U.New with new x and y displacements\n",
    "\n",
    "        u_new1 = np.vstack((Ux, Uy)).T\n",
    "        saveArray (str(time) + \"/U_new1_\" + str(icorr), u_new1)    \n",
    "        saveArray (str(time) + \"/u_previous_\" + str(icorr), u_previous)\n",
    "\n",
    "        # # U.New[:,0] = Ux\n",
    "        # # U.New[:,1] = Uy\n",
    "        \n",
    "        ## Calculate the residual of each iteration\n",
    "        \n",
    "        normFactor = np.max(u_new1)\n",
    "        residual = math.sqrt(np.mean((u_new1 - u_previous)**2))/normFactor\n",
    "        tolerance = 1e-4\n",
    "\n",
    "        u_new = u_new1\n",
    "    \n",
    "        ##print out residual of each iteration\n",
    "        print(\"icorr = {:01d}, Residual = {:.20f}, normFactor = {:.20f}\".format(icorr, residual, normFactor))\n",
    "             \n",
    "        ## Convergence check\n",
    "        \n",
    "        if residual < tolerance:\n",
    "            \n",
    "            break\n",
    "            \n",
    "        elif icorr > maxcorr:\n",
    "            \n",
    "            break            \n",
    "        \n",
    "        icorr = icorr + 1\n",
    "    \n",
    "    ## Update variables\n",
    "    \n",
    "    u_old_old = u_old\n",
    "    u_old = u_new1\n",
    "    \n",
    "    # ## Add the boundary conditions to the solution matrices\n",
    "    u_reshape_x = u_new[:,0].reshape(nx+2, ny+2)\n",
    "    u_reshape_y = u_new[:,1].reshape(nx+2, ny+2)\n",
    "    \n",
    "    # #Boundary conditions for u matrix\n",
    "    U = np.zeros((nx+2,ny+2))\n",
    "    V = np.zeros((nx+2,ny+2))\n",
    " \n",
    "    U[:, :] = u_reshape_x\n",
    "    V[:, :] = u_reshape_y \n",
    "\n",
    "    #Modulus of displacement\n",
    "\n",
    "    disp_mod = np.sqrt((U**2) + (V**2))\n",
    "    disp_mod_converted = disp_mod*1e6 #Convert displacement to micrometers\n",
    "    \n",
    "#     # ## Plot the results\n",
    "\n",
    "    import plotly.graph_objects as go\n",
    "\n",
    "    disp_mod = np.sqrt((U**2) + (V**2))*1e-10\n",
    "\n",
    "    dispx, dispy = np.meshgrid(x, y)\n",
    "    fig = go.Figure(data=[go.Surface(z=disp_mod_converted, x=dispx, y=dispy)])\n",
    "    \n",
    "fig.show()   \n",
    "\n",
    "print(\"U graph\")\n",
    "fig = go.Figure(data=[go.Surface(z=U, x=dispx, y=dispy)])\n",
    "\n",
    "fig.show()   \n",
    "\n",
    "print(\"V graph\")\n",
    "fig = go.Figure(data=[go.Surface(z=V, x=dispx, y=dispy)])\n",
    "\n",
    "fig.show()   \n",
    "\n"
   ]
  },
  {
   "cell_type": "code",
   "execution_count": 138,
   "metadata": {},
   "outputs": [
    {
     "name": "stdout",
     "output_type": "stream",
     "text": [
      "(100, 100)\n"
     ]
    },
    {
     "data": {
      "text/plain": [
       "<matplotlib.collections.PathCollection at 0x7fb989eac1c0>"
      ]
     },
     "execution_count": 138,
     "metadata": {},
     "output_type": "execute_result"
    },
    {
     "data": {
      "image/png": "[encoded data removed]",
      "text/plain": [
       "<Figure size 720x720 with 1 Axes>"
      ]
     },
     "metadata": {
      "needs_background": "light"
     },
     "output_type": "display_data"
    }
   ],
   "source": [
    "from matplotlib import pyplot as plt\n",
    "\n",
    "plt.figure(figsize=(10, 10))\n",
    "\n",
    "\n",
    "# Displacement Scatter:\n",
    "\n",
    "#\n",
    "x_values = (dispx.reshape((nx+2)*(ny+2), 1) + u_new[:, 0])#*scale\n",
    "y_values = (dispy.reshape((nx+2)*(ny+2), 1) + u_new[:, 1])#*scale\n",
    "\n",
    "print(x_values.shape)\n",
    "\n",
    "plt.scatter(x_values, y_values, s=1)"
   ]
  },
  {
   "cell_type": "code",
   "execution_count": 151,
   "metadata": {},
   "outputs": [
    {
     "name": "stdout",
     "output_type": "stream",
     "text": [
      "0 10\n",
      "10 20\n",
      "20 30\n",
      "30 40\n",
      "40 50\n",
      "50 60\n",
      "60 70\n",
      "70 80\n",
      "80 90\n",
      "90 100\n"
     ]
    },
    {
     "data": {
      "text/plain": [
       "array([[3.17379107e-15],\n",
       "       [6.25000000e-04],\n",
       "       [1.87500000e-03],\n",
       "       [3.12500000e-03],\n",
       "       [4.37500000e-03],\n",
       "       [5.62500000e-03],\n",
       "       [6.87500000e-03],\n",
       "       [8.12500000e-03],\n",
       "       [9.37500000e-03],\n",
       "       [1.00000000e-02]])"
      ]
     },
     "execution_count": 151,
     "metadata": {},
     "output_type": "execute_result"
    },
    {
     "data": {
      "image/png": "[encoded data removed]",
      "text/plain": [
       "<Figure size 720x720 with 1 Axes>"
      ]
     },
     "metadata": {
      "needs_background": "light"
     },
     "output_type": "display_data"
    },
    {
     "data": {
      "image/png": "[encoded data removed]",
      "text/plain": [
       "<Figure size 720x720 with 1 Axes>"
      ]
     },
     "metadata": {
      "needs_background": "light"
     },
     "output_type": "display_data"
    },
    {
     "data": {
      "image/png": "[encoded data removed]",
      "text/plain": [
       "<Figure size 720x720 with 1 Axes>"
      ]
     },
     "metadata": {
      "needs_background": "light"
     },
     "output_type": "display_data"
    },
    {
     "data": {
      "image/png": "[encoded data removed]",
      "text/plain": [
       "<Figure size 720x720 with 1 Axes>"
      ]
     },
     "metadata": {
      "needs_background": "light"
     },
     "output_type": "display_data"
    },
    {
     "data": {
      "image/png": "[encoded data removed]",
      "text/plain": [
       "<Figure size 720x720 with 1 Axes>"
      ]
     },
     "metadata": {
      "needs_background": "light"
     },
     "output_type": "display_data"
    },
    {
     "data": {
      "image/png": "[encoded data removed]",
      "text/plain": [
       "<Figure size 720x720 with 1 Axes>"
      ]
     },
     "metadata": {
      "needs_background": "light"
     },
     "output_type": "display_data"
    },
    {
     "data": {
      "image/png": "[encoded data removed]",
      "text/plain": [
       "<Figure size 720x720 with 1 Axes>"
      ]
     },
     "metadata": {
      "needs_background": "light"
     },
     "output_type": "display_data"
    },
    {
     "data": {
      "image/png": "[encoded data removed]",
      "text/plain": [
       "<Figure size 720x720 with 1 Axes>"
      ]
     },
     "metadata": {
      "needs_background": "light"
     },
     "output_type": "display_data"
    },
    {
     "data": {
      "image/png": "[encoded data removed]",
      "text/plain": [
       "<Figure size 720x720 with 1 Axes>"
      ]
     },
     "metadata": {
      "needs_background": "light"
     },
     "output_type": "display_data"
    },
    {
     "data": {
      "image/png": "[encoded data removed]",
      "text/plain": [
       "<Figure size 720x720 with 1 Axes>"
      ]
     },
     "metadata": {
      "needs_background": "light"
     },
     "output_type": "display_data"
    }
   ],
   "source": [
    "for i in np.arange(0,ny+2):\n",
    "    \n",
    "    plt.figure(figsize=(10, 10))\n",
    "\n",
    "    print(str(0+(i*10)), str(10+(i*10)))\n",
    "    \n",
    "    x_values = dispx.reshape((nx+2)*(ny+2), 1)[0+(i*10):10+(i*10)] + u_new[:,0].reshape((nx+2)*(ny+2), 1)[0:10]\n",
    "\n",
    "    y_values = dispy.reshape((nx+2)*(ny+2), 1)[0+(i*10):10+(i*10)] + u_new[:,1].reshape((nx+2)*(ny+2), 1)[0:10]\n",
    "\n",
    "    plt.plot(x_values, y_values)\n",
    "    plt.title(str(i))\n",
    "\n",
    "    plt.show\n",
    "\n",
    "x_values"
   ]
  },
  {
   "cell_type": "code",
   "execution_count": 89,
   "metadata": {},
   "outputs": [
    {
     "data": {
      "text/plain": [
       "(10, 10)"
      ]
     },
     "execution_count": 89,
     "metadata": {},
     "output_type": "execute_result"
    }
   ],
   "source": [
    "dispx.shape"
   ]
  },
  {
   "cell_type": "code",
   "execution_count": 90,
   "metadata": {},
   "outputs": [
    {
     "data": {
      "text/plain": [
       "(3.1737910687857408e-15,\n",
       " -3.216967943178638e-15,\n",
       " 3.195856965402339e-15,\n",
       " -3.1873554302561824e-15)"
      ]
     },
     "execution_count": 90,
     "metadata": {},
     "output_type": "execute_result"
    }
   ],
   "source": [
    "Ux[0], Ux[9], Ux[90], Ux[99]"
   ]
  },
  {
   "cell_type": "code",
   "execution_count": 91,
   "metadata": {},
   "outputs": [
    {
     "data": {
      "text/plain": [
       "(-3.2345799513713382e-15,\n",
       " -3.196256941584809e-15,\n",
       " 3.216804424961334e-15,\n",
       " 3.208387549941357e-15)"
      ]
     },
     "execution_count": 91,
     "metadata": {},
     "output_type": "execute_result"
    }
   ],
   "source": [
    "Uy[0], Uy[9], Uy[90], Uy[99]"
   ]
  },
  {
   "cell_type": "code",
   "execution_count": 92,
   "metadata": {},
   "outputs": [
    {
     "data": {
      "text/plain": [
       "6.408371020157079e-15"
      ]
     },
     "execution_count": 92,
     "metadata": {},
     "output_type": "execute_result"
    }
   ],
   "source": [
    "Ux[0] - Uy[0]"
   ]
  },
  {
   "cell_type": "code",
   "execution_count": null,
   "metadata": {},
   "outputs": [],
   "source": []
  }
 ],
 "metadata": {
  "interpreter": {
   "hash": "1b2f9133931ab063f1f037caeeb0be83973bf9a3d4f21c40e4cd03e999a0b9b9"
  },
  "kernelspec": {
   "display_name": "Python 3.6.13 64-bit ('python3': conda)",
   "language": "python",
   "name": "python3"
  },
  "language_info": {
   "codemirror_mode": {
    "name": "ipython",
    "version": 3
   },
   "file_extension": ".py",
   "mimetype": "text/x-python",
   "name": "python",
   "nbconvert_exporter": "python",
   "pygments_lexer": "ipython3",
   "version": "3.9.5"
  },
  "orig_nbformat": 4
 },
 "nbformat": 4,
 "nbformat_minor": 2
}
