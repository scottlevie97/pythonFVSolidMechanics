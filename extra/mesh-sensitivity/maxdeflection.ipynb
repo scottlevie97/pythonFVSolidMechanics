{
 "cells": [
  {
   "cell_type": "code",
   "execution_count": 35,
   "metadata": {},
   "outputs": [],
   "source": [
    "from openfoamToPythonArray import openfoamToPythonArray\n",
    "import numpy as np\n",
    "\n"
   ]
  },
  {
   "cell_type": "code",
   "execution_count": 40,
   "metadata": {},
   "outputs": [],
   "source": [
    "# nx 80 ny 8\n",
    "nx = 80\n",
    "ny = 8\n",
    "filepath = \"solids4foam/\" + str(nx) + \"segregatedCantilever2d\"\n",
    "nx80 = openfoamToPythonArray(filepath, 1, \"D\", nx*ny)\n",
    "\n",
    "# # nx 160 ny 16\n",
    "nx = 160\n",
    "ny = 16\n",
    "filepath = \"solids4foam/\" + str(nx) + \"segregatedCantilever2d\"\n",
    "nx160 = openfoamToPythonArray(filepath, 1, \"D\", nx*ny)\n",
    "\n",
    "# nx 320 ny 32\n",
    "nx = 320\n",
    "ny = 32\n",
    "filepath = \"solids4foam/\" + str(nx) + \"segregatedCantilever2d\"\n",
    "nx320 = openfoamToPythonArray(filepath, 1, \"D\", nx*ny)\n",
    "\n",
    "# nx 640 ny 64\n",
    "nx = 640\n",
    "ny = 64\n",
    "filepath = \"solids4foam/\" + str(nx) + \"segregatedCantilever2d\"\n",
    "nx640 = openfoamToPythonArray(filepath, 1, \"D\", nx*ny)\n"
   ]
  },
  {
   "cell_type": "code",
   "execution_count": 41,
   "metadata": {},
   "outputs": [],
   "source": [
    "nx80y = nx80[:,1]\n",
    "nx160y = nx160[:,1]\n",
    "nx320y = nx320[:,1]\n",
    "nx640y = nx640[:,1]\n",
    "\n",
    "nx80y_max = np.min(nx80[:,1])\n",
    "nx160y_max = np.min(nx160[:,1])\n",
    "nx320y_max = np.min(nx320[:,1])\n",
    "nx640y_max = np.min(nx640[:,1])"
   ]
  },
  {
   "cell_type": "code",
   "execution_count": 45,
   "metadata": {},
   "outputs": [
    {
     "data": {
      "text/plain": [
       "(-0.0139089, -0.0143575, -0.0144772, -0.0144608)"
      ]
     },
     "execution_count": 45,
     "metadata": {},
     "output_type": "execute_result"
    }
   ],
   "source": [
    "nx80y_max, nx160y_max, nx320y_max, nx640y_max, "
   ]
  }
 ],
 "metadata": {
  "kernelspec": {
   "display_name": "Python 3.8.10 64-bit",
   "language": "python",
   "name": "python3"
  },
  "language_info": {
   "codemirror_mode": {
    "name": "ipython",
    "version": 3
   },
   "file_extension": ".py",
   "mimetype": "text/x-python",
   "name": "python",
   "nbconvert_exporter": "python",
   "pygments_lexer": "ipython3",
   "version": "3.8.10"
  },
  "orig_nbformat": 4,
  "vscode": {
   "interpreter": {
    "hash": "31f2aee4e71d21fbe5cf8b01ff0e069b9275f58929596ceb00d14d90e3e16cd6"
   }
  }
 },
 "nbformat": 4,
 "nbformat_minor": 2
}
