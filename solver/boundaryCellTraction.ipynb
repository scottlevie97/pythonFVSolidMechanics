{
 "cells": [
  {
   "cell_type": "code",
   "execution_count": 2,
   "metadata": {},
   "outputs": [],
   "source": [
    "from ipynb.fs.full.boundaryCellDisplacement import *"
   ]
  },
  {
   "cell_type": "code",
   "execution_count": null,
   "metadata": {},
   "outputs": [],
   "source": [
    "class boundaryCellTraction(boundaryCellDisplacement, A):\n",
    "\n",
    "    def __init__(self, boundaries, xy):\n",
    "\n",
    "        # Initialise a terms to the same as internal cell values        \n",
    "        self.a_N = A(xy).a_N\n",
    "        self.a_S = A(xy).a_S\n",
    "        self.a_E = A(xy).a_E\n",
    "        self.a_W = A(xy).a_W\n",
    "\n",
    "        # Zero a terms if on the boundary\n",
    "        for boundary in boundaries:\n",
    "            if boundary == \"b\": self.a_S = 0\n",
    "            if boundary == \"t\": self.a_N = 0\n",
    "            if boundary == \"l\": self.a_W = 0\n",
    "            if boundary == \"r\": self.a_E = 0\n",
    "\n",
    "        if transient:\n",
    "            self.a_P = (rho*dx*dy/(dt**2)) + self.a_N + self.a_S + self.a_E + self.a_W\n",
    "        else:\n",
    "            self.a_P = self.a_N + self.a_S + self.a_E + self.a_W\n",
    "\n",
    "\n",
    "    def b_temp(U_old, U_old_old, k, xy):      \n",
    "        return A.b_temp(U_old, U_old_old, k, xy)\n",
    "    \n",
    "    def b_diff(edges, k, xy, U_previous, time):\n",
    "\n",
    "        if xy == \"x\":\n",
    "            uv = \"v\"\n",
    "        if xy == \"y\":\n",
    "            uv = \"u\"\n",
    "            \n",
    "        N_term =(\n",
    "                    Sfy*A.coef(xy, \"N\", uv)*(\n",
    "                    (boundaryCellDisplacement.corner(edges, \"NE\", uv, U_previous, k) - boundaryCellDisplacement.corner(edges, \"NW\", uv, U_previous, k))\n",
    "                    /dx)\n",
    "                )\n",
    "        S_term =(\n",
    "                    Sfy*A.coef(xy, \"S\", uv)*(\n",
    "                        (boundaryCellDisplacement.corner(edges, \"SE\", uv, U_previous, k) - boundaryCellDisplacement.corner(edges, \"SW\", uv, U_previous, k))\n",
    "                        /dx)\n",
    "                ) \n",
    "        E_term =(\n",
    "                    Sfx*A.coef(xy, \"E\", uv)*(\n",
    "                        (boundaryCellDisplacement.corner(edges, \"NE\", uv, U_previous, k) - boundaryCellDisplacement.corner(edges, \"SE\", uv, U_previous, k))\n",
    "                        /dy)\n",
    "                ) \n",
    "        W_term =(\n",
    "                    Sfx*A.coef(xy, \"W\", uv)*(\n",
    "                        (boundaryCellDisplacement.corner(edges, \"NW\", uv, U_previous, k) - boundaryCellDisplacement.corner(edges, \"SW\", uv, U_previous, k))\n",
    "                        /dy)\n",
    "                )\n",
    "\n",
    "        for edge in edges:\n",
    "\n",
    "            if (edge == \"b\") & (xy == \"x\") : S_term =  Sfy*tr_bottom_x(time)   \n",
    "            if (edge == \"b\") & (xy == \"y\") : S_term =  Sfy*tr_bottom_y(time)  \n",
    "            if (edge == \"t\") & (xy == \"x\") : N_term =  Sfy*tr_top_x(time)  \n",
    "            if (edge == \"t\") & (xy == \"y\") : N_term =  Sfy*tr_top_y(time) \n",
    "            if (edge == \"l\") & (xy == \"x\") : W_term =  Sfx*tr_left_x  \n",
    "            if (edge == \"l\") & (xy == \"y\") : W_term =  Sfx*tr_left_y  \n",
    "            if (edge == \"r\") & (xy == \"x\") : E_term =  Sfx*tr_right_x(time)  \n",
    "            if (edge == \"r\") & (xy == \"y\") : E_term =  Sfx*tr_right_y(time)        \n",
    "\n",
    "        b_diffusion = (N_term + S_term + E_term + W_term)\n",
    "\n",
    "        return b_diffusion"
   ]
  },
  {
   "cell_type": "code",
   "execution_count": null,
   "metadata": {},
   "outputs": [],
   "source": [
    "def traction_cell_BCs(A_matrix, b_matrix, k, edges, xy, U_old, U_old_old, U_previous, time):\n",
    "\n",
    "    A_matrix[k,k] = boundaryCellTraction(edges, xy).a_P\n",
    "\n",
    "    b_matrix[k] =(\n",
    "                    boundaryCellTraction.b_temp(U_old, U_old_old, k, xy)\n",
    "                    +\n",
    "                    boundaryCellTraction.b_diff(edges, k, xy, U_previous, time)  \n",
    "                )\n",
    "                \n",
    "    A_matrix[k,index(k).n] = - boundaryCellTraction(edges, xy).a_N\n",
    "\n",
    "    A_matrix[k,index(k).s] = - boundaryCellTraction(edges, xy).a_S\n",
    "\n",
    "    A_matrix[k,index(k).e] = - boundaryCellTraction(edges, xy).a_E\n",
    "\n",
    "    A_matrix[k,index(k).w] = - boundaryCellTraction(edges, xy).a_W           \n",
    "\n",
    "    return A_matrix, b_matrix"
   ]
  },
  {
   "cell_type": "code",
   "execution_count": null,
   "metadata": {},
   "outputs": [],
   "source": []
  },
  {
   "cell_type": "code",
   "execution_count": null,
   "metadata": {},
   "outputs": [],
   "source": []
  }
 ],
 "metadata": {
  "interpreter": {
   "hash": "18ed160ad9db49083d5c6dbf82376d1730af41ed005a12d6dc5900d1b4ae07ba"
  },
  "kernelspec": {
   "display_name": "Python 3.9.5 ('base')",
   "language": "python",
   "name": "python3"
  },
  "language_info": {
   "codemirror_mode": {
    "name": "ipython",
    "version": 3
   },
   "file_extension": ".py",
   "mimetype": "text/x-python",
   "name": "python",
   "nbconvert_exporter": "python",
   "pygments_lexer": "ipython3",
   "version": "3.9.5"
  },
  "orig_nbformat": 4
 },
 "nbformat": 4,
 "nbformat_minor": 2
}
