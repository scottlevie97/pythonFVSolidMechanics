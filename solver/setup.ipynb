{
 "cells": [
  {
   "cell_type": "code",
   "execution_count": 34,
   "metadata": {},
   "outputs": [],
   "source": [
    "import numpy as np\n",
    "import pandas as pd\n",
    "from scipy.sparse.linalg import spsolve\n",
    "from matplotlib import pyplot as plt\n",
    "import math\n",
    "\n",
    "def printVar (varname, var):  \n",
    "    print(varname)\n",
    "    print(var)"
   ]
  },
  {
   "cell_type": "code",
   "execution_count": 35,
   "metadata": {},
   "outputs": [
    {
     "data": {
      "text/plain": [
       "False"
      ]
     },
     "execution_count": 35,
     "metadata": {},
     "output_type": "execute_result"
    }
   ],
   "source": [
    "# Set Boundary Conditions:\n",
    "class BC_settings:\n",
    "\n",
    "    left = \"fixed_displacement\"\n",
    "    right = \"traction\"\n",
    "    top = \"traction\"\n",
    "    bottom = \"traction\"\n",
    "\n",
    "    def __init__(self, boundary):\n",
    "\n",
    "        if boundary == \"l\":\n",
    "            if BC_settings.left == \"traction\":\n",
    "                self.traction = True\n",
    "                self.fixed_displacement = False\n",
    "            elif BC_settings.left == \"fixed_displacement\":\n",
    "                self.fixed_displacement = True\n",
    "                self.traction = False\n",
    "\n",
    "        if boundary == \"r\":\n",
    "            if BC_settings.right == \"traction\":\n",
    "                self.traction = True\n",
    "                self.fixed_displacement = False\n",
    "            elif BC_settings.right == \"fixed_displacement\":\n",
    "                self.fixed_displacement = True\n",
    "                self.traction = False\n",
    "\n",
    "        if boundary == \"t\":\n",
    "            if BC_settings.top == \"traction\":\n",
    "                self.traction = True\n",
    "                self.fixed_displacement = False\n",
    "            elif BC_settings.top == \"fixed_displacement\":\n",
    "                self.fixed_displacement = True\n",
    "                self.traction = False\n",
    "\n",
    "        if boundary == \"b\":\n",
    "            if BC_settings.bottom == \"traction\":\n",
    "                self.traction = True\n",
    "                self.fixed_displacement = False\n",
    "            elif BC_settings.bottom == \"fixed_displacement\":\n",
    "                self.fixed_displacement = True\n",
    "                self.traction = False\n",
    "\n",
    "BC_settings(\"b\").fixed_displacement"
   ]
  },
  {
   "cell_type": "code",
   "execution_count": 36,
   "metadata": {},
   "outputs": [],
   "source": [
    "# Solve the 2D Navier-Cauchy equation using a segregated finite volume method\n",
    "\n",
    "# Define mesh geometry and boundary conditions\n",
    "\n",
    "Lx = 2 #width of domain\n",
    "Ly = .1 #height of domain\n",
    "\n",
    "nx = 20      #number of control volumes in the $x$-direction\n",
    "ny = 4  #number of control volumes in the $y$-direction\n"
   ]
  },
  {
   "cell_type": "code",
   "execution_count": 37,
   "metadata": {},
   "outputs": [],
   "source": [
    "# # Cantilever Setup WITH DISTRIBUTED LOAD\n",
    "\n",
    "tr_right_x = 0       #u boundary condition at the right boundary\n",
    "tr_right_y = -1e6   #v boundary condition at the right boundary\n",
    "\n",
    "tr_top_x = 0    #u boundary condition at the top boundary\n",
    "tr_top_y = 0       #v boundary condition at the top boundary\n",
    "\n",
    "tr_bottom_x = 0    #u boundary condition at the bottom boundary \n",
    "tr_bottom_y = 0  #v boundary condition at the bottom boundary\n",
    "\n",
    "u_left = 0\n",
    "v_left = 0\n"
   ]
  },
  {
   "cell_type": "code",
   "execution_count": null,
   "metadata": {},
   "outputs": [],
   "source": [
    "# # Solve the 2D Navier-Cauchy equation using a segregated finite volume method\n",
    "\n",
    "# # Define mesh geometry and boundary conditions\n",
    "\n",
    "# Lx = .1 #width of domain\n",
    "# Ly = 2 #height of domain\n",
    "\n",
    "# nx = 8      #number of control volumes in the $x$-direction\n",
    "# ny = 80  #number of control volumes in the $y$-direction\n"
   ]
  },
  {
   "cell_type": "code",
   "execution_count": null,
   "metadata": {},
   "outputs": [],
   "source": [
    "# # # Cantilever Setup WITH DISTRIBUTED LOAD\n",
    "\n",
    "# tr_right_x = 0       #u boundary condition at the right boundary\n",
    "# tr_right_y = 0   #v boundary condition at the right boundary\n",
    "\n",
    "# tr_top_x = 1e6    #u boundary condition at the top boundary\n",
    "# tr_top_y = 0       #v boundary condition at the top boundary\n",
    "\n",
    "# u_bottom = 0    #u boundary condition at the bottom boundary \n",
    "# v_bottom = 0  #v boundary condition at the bottom boundary\n",
    "\n",
    "# tr_left_x = 0       #u boundary condition at the right boundary\n",
    "# tr_left_y = 0 \n"
   ]
  },
  {
   "cell_type": "code",
   "execution_count": 38,
   "metadata": {},
   "outputs": [],
   "source": [
    "# Cantilever Setup transient\n",
    "\n",
    "# # Boundary condition at the right boundary\n",
    "# def tr_right_x(time): return 0    \n",
    "# def tr_right_y(time):  return  - 1e-10  #+ 1e5*time - 1e5*(time**2) + 2e4*(time**3)\n",
    "\n",
    "# # Boundary conditions at the top boundary\n",
    "# def tr_top_x(time): return 0\n",
    "# def tr_top_y(time): return 0\n",
    "\n",
    "# # Boundary conditions at the bottom boundary\n",
    "# def tr_bottom_x(time): return 0\n",
    "# def tr_bottom_y(time): return 0\n",
    "\n",
    "# u_left = 0\n",
    "# v_left = 0\n"
   ]
  },
  {
   "cell_type": "code",
   "execution_count": 1,
   "metadata": {},
   "outputs": [],
   "source": [
    "# The original directory has to be made manually\n",
    "\n",
    "def saveDirectory(nx, ny):\n",
    "    return \"Solution_rightTraction/x_\" + str(nx) + \"_y_\" + str(ny)\n",
    "\n",
    "def saveArray (name, array): \n",
    "\n",
    "    pd.DataFrame(array).to_csv(saveDirectory(nx, ny) + \"/\" + name + \".csv\", index=False, header=None)\n"
   ]
  },
  {
   "cell_type": "code",
   "execution_count": 39,
   "metadata": {},
   "outputs": [],
   "source": [
    "my_file = open(\"index_and_direction.py\")\n",
    "string_list = my_file.readlines()\n",
    "my_file.close()\n",
    "\n",
    "string_list[9] = \"\\tnx = \" + str(nx) + \"\\n\"\n",
    "string_list[10] = \"\\tny = \" + str(ny) + \"\\n\"\n",
    "\n",
    "my_file = open(\"index_and_direction.py\", \"w\")\n",
    "my_file.writelines(string_list)\n",
    "my_file.close()"
   ]
  },
  {
   "cell_type": "code",
   "execution_count": 40,
   "metadata": {},
   "outputs": [
    {
     "name": "stdout",
     "output_type": "stream",
     "text": [
      "6\n",
      "5\n"
     ]
    }
   ],
   "source": [
    "# sys.path.append(\"/home/scottlevie/newPythonSolver/pythonsolver_new/tractionBCs/Classes/\")\n",
    "\n",
    "from index_and_direction import dim\n",
    "\n",
    "print(dim().nx)\n",
    "print(dim().ny)"
   ]
  },
  {
   "cell_type": "code",
   "execution_count": 41,
   "metadata": {},
   "outputs": [],
   "source": [
    "from index_and_direction import index\n",
    "# from index_and_direction import boundary_point_index\n",
    "from index_and_direction import cell_index\n",
    "from index_and_direction import displacement"
   ]
  },
  {
   "cell_type": "code",
   "execution_count": 42,
   "metadata": {},
   "outputs": [],
   "source": [
    "# Define material properties\n",
    "\n",
    "# rho = 8050         #density of steel in kg/m^3\n",
    "# mu = 78*10e9       #shear modulus in Pa\n",
    "# K1 = 1.6*10e11      #bulk modulus in Pa\n",
    "\n",
    "# lambda_ = K - (2/3)*mu\n",
    "\n",
    "# #print(lambda_)\n",
    "# #\n",
    "# E = mu*(2*(1+0.3))\n",
    "\n",
    "# print(E)"
   ]
  },
  {
   "cell_type": "code",
   "execution_count": 43,
   "metadata": {},
   "outputs": [
    {
     "data": {
      "text/plain": [
       "0.0"
      ]
     },
     "execution_count": 43,
     "metadata": {},
     "output_type": "execute_result"
    }
   ],
   "source": [
    "1e9 - (10**9)"
   ]
  },
  {
   "cell_type": "code",
   "execution_count": 44,
   "metadata": {},
   "outputs": [
    {
     "name": "stdout",
     "output_type": "stream",
     "text": [
      "Shear Modulus (mu): 76923076923.07692\n",
      "Lame Modulus (lambda_): 115384615384.61539\n"
     ]
    }
   ],
   "source": [
    "rho = 8050 #density of steel in kg/m^3\n",
    "\n",
    "# Elastic Modulus (Pa) \n",
    "E = 200*1e9\n",
    "\n",
    "# Poissons Ratio \n",
    "v = 0.3\n",
    "\n",
    "# Shear Modulus (Pa)\n",
    "mu_ = E/(2*(1+v))\n",
    "print(\"Shear Modulus (mu): \" + str(mu_))\n",
    "\n",
    "# Lame Modulus (Pa)\n",
    "lambda_ = (v*E)/((1+v)*(1-2*v))\n",
    "print(\"Lame Modulus (lambda_): \" + str(lambda_))\n"
   ]
  },
  {
   "cell_type": "code",
   "execution_count": 45,
   "metadata": {},
   "outputs": [],
   "source": [
    "## Define required variables\n",
    "\n",
    "tf = 4              #total time in seconds\n",
    "dx = Lx/nx          #length of each control volume in the $x$-direction\n",
    "dy = Ly/ny          #length of each control volume in the $y$-direction\n",
    "dt = tf/100         #size of time steps\n",
    "Sfx = dy            #area vector x component (Area of East and West Faces)\n",
    "Sfy = dx            #area vector y component (Area of North and South Faces)\n",
    "\n",
    "transient = False\n"
   ]
  },
  {
   "cell_type": "code",
   "execution_count": 46,
   "metadata": {},
   "outputs": [],
   "source": [
    "## Define  position and time vectors\n",
    "\n",
    "t = np.array(np.arange(0,tf, dt))        #time vector (could possibly use a list)\n",
    "x = np.zeros((1,nx+2))   #position vector defining the center points of the control volumes in the $x$-direction.\n",
    "x[0,nx+1] = Lx\n",
    "x[0,1:nx+1] = np.arange(dx/2,Lx,dx)\n",
    "\n",
    "t = np.array(np.arange(0,tf, dt))        #time vector (could possibly use a list)\n",
    "y = np.zeros((1,ny+2))   #position vector defining the center points of the control volumes in the $y$-direction.\n",
    "y[0,ny+1] = Ly\n",
    "y[0,1:ny+1] = np.arange(dy/2,Ly,dy)"
   ]
  },
  {
   "cell_type": "code",
   "execution_count": 47,
   "metadata": {},
   "outputs": [],
   "source": [
    "## Define required displacement matrices and b vector\n",
    "\n",
    "U_new = np.zeros([(ny)*(nx),2])         #unknown displacements at t + 1    (Column 1 = x, Column2 = y)\n",
    "U_old = np.zeros([(ny)*(nx),2])         #displacement at time t\n",
    "U_old_old = np.zeros([(ny)*(nx),2])     #displacement at time t - 1\n",
    "\n",
    "#rhs vector\n",
    "b_x = np.zeros([(ny)*(nx),1])\n",
    "b_y = np.zeros([(ny)*(nx),1])"
   ]
  },
  {
   "cell_type": "code",
   "execution_count": 48,
   "metadata": {},
   "outputs": [],
   "source": [
    "class boundary_U:\n",
    "\n",
    "    def __init__(self, boundaries, xy):\n",
    "\n",
    "        if xy == \"x\":\n",
    "            if boundaries[0] == \"b\":\n",
    "                if BC_settings(boundaries[0]).fixed_displacement:\n",
    "                    self.BC = u_bottom\n",
    "            if boundaries[0] == \"t\":\n",
    "                if BC_settings(boundaries[0]).fixed_displacement:\n",
    "                    self.BC = u_top\n",
    "            if boundaries[0] == \"l\":\n",
    "                if BC_settings(boundaries[0]).fixed_displacement:\n",
    "                    self.BC = u_left\n",
    "            if boundaries[0] == \"r\":\n",
    "                if BC_settings(boundaries[0]).fixed_displacement:\n",
    "                    self.BC = u_right\n",
    "\n",
    "        if xy == \"y\":\n",
    "            if boundaries[0] == \"b\":\n",
    "                if BC_settings(boundaries[0]).fixed_displacement:\n",
    "                    self.BC = v_bottom\n",
    "            if boundaries[0] == \"t\":\n",
    "                if BC_settings(boundaries[0]).fixed_displacement:\n",
    "                    self.BC = v_top\n",
    "            if boundaries[0] == \"l\":\n",
    "                if BC_settings(boundaries[0]).fixed_displacement:\n",
    "                    self.BC = v_left\n",
    "            if boundaries[0] == \"r\":\n",
    "                if BC_settings(boundaries[0]).fixed_displacement:\n",
    "                    self.BC = v_right"
   ]
  },
  {
   "cell_type": "code",
   "execution_count": null,
   "metadata": {},
   "outputs": [],
   "source": [
    "# ### Proposed alternative BC class:\n",
    "\n",
    "\n",
    "# # Set Boundary Conditions:\n",
    "# class BC_settings:\n",
    "\n",
    "#     left = \"fixed_displacement\"\n",
    "#     u_left = 0\n",
    "#     v_left = 0\n",
    "\n",
    "#     right = \"traction\"\n",
    "#     tr_x_right = 0      \n",
    "#     tr_y_right = -1e6 \n",
    "\n",
    "#     top = \"traction\"\n",
    "#     tr_x_top = 0\n",
    "#     tr_y_top = 0       \n",
    "\n",
    "#     bottom = \"traction\"\n",
    "#     tr_x_bottom = 0\n",
    "#     tr_y_bottom = 0    \n",
    "\n",
    "#     def __init__(self, boundary):\n",
    "\n",
    "#         if boundary == \"l\":\n",
    "#             if BC_settings.left == \"traction\":\n",
    "#                 self.traction = True\n",
    "#                 self.fixed_displacement = False\n",
    "#                 self.tr_x = BC_settings.tr_x_left\n",
    "#                 self.tr_y = BC_settings.tr_left_y\n",
    "\n",
    "#             elif BC_settings.left == \"fixed_displacement\":\n",
    "#                 self.fixed_displacement = True\n",
    "#                 self.traction = False\n",
    "#                 self.u = BC_settings.u_left\n",
    "#                 self.v = BC_settings.v_left\n",
    "\n",
    "#         if boundary == \"r\":\n",
    "#             if BC_settings.right == \"traction\":\n",
    "#                 self.traction = True\n",
    "#                 self.fixed_displacement = False\n",
    "#                 self.tr_x = BC_settings.tr_x_right\n",
    "#                 self.tr_y = BC_settings.tr_y_right\n",
    "\n",
    "#             elif BC_settings.right == \"fixed_displacement\":\n",
    "#                 self.fixed_displacement = True\n",
    "#                 self.traction = False\n",
    "#                 self.u = BC_settings.u_right\n",
    "#                 self.v = BC_settings.v_right\n",
    "\n",
    "#         if boundary == \"t\":\n",
    "#             if BC_settings.top == \"traction\":\n",
    "#                 self.traction = True\n",
    "#                 self.fixed_displacement = False\n",
    "#                 self.tr_x = BC_settings.tr_x_top\n",
    "#                 self.tr_y = BC_settings.tr_y_top\n",
    "\n",
    "#             elif BC_settings.top == \"fixed_displacement\":\n",
    "#                 self.fixed_displacement = True\n",
    "#                 self.traction = False\n",
    "#                 self.u = BC_settings.u_top\n",
    "#                 self.v = BC_settings.v_top\n",
    "\n",
    "#         if boundary == \"b\":\n",
    "#             if BC_settings.bottom == \"traction\":\n",
    "#                 self.traction = True\n",
    "#                 self.fixed_displacement = False\n",
    "#                 self.tr_x = BC_settings.tr_x_bottom\n",
    "#                 self.tr_y = BC_settings.tr_y_bottom\n",
    "\n",
    "#             elif BC_settings.bottom == \"fixed_displacement\":\n",
    "#                 self.fixed_displacement = True\n",
    "#                 self.traction = False\n",
    "#                 self.u = BC_settings.u_bottom\n",
    "#                 self.v = BC_settings.v_bottom\n",
    "\n",
    "# # BC_settings(\"b\").fixed_displacement"
   ]
  }
 ],
 "metadata": {
  "interpreter": {
   "hash": "18ed160ad9db49083d5c6dbf82376d1730af41ed005a12d6dc5900d1b4ae07ba"
  },
  "kernelspec": {
   "display_name": "Python 3.9.5 ('base')",
   "language": "python",
   "name": "python3"
  },
  "language_info": {
   "codemirror_mode": {
    "name": "ipython",
    "version": 3
   },
   "file_extension": ".py",
   "mimetype": "text/x-python",
   "name": "python",
   "nbconvert_exporter": "python",
   "pygments_lexer": "ipython3",
   "version": "3.9.5"
  },
  "orig_nbformat": 4
 },
 "nbformat": 4,
 "nbformat_minor": 2
}
