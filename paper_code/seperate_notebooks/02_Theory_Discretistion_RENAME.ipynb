{
 "cells": [
  {
   "cell_type": "markdown",
   "metadata": {},
   "source": [
    "# Theory / Derivation / Discretization"
   ]
  },
  {
   "cell_type": "markdown",
   "metadata": {},
   "source": [
    "Each cell within this mesh will be treated as a Control Volume (CV). Where energy and momentum are conserved within each CV.\n",
    "\n",
    "\n",
    "### Conservation of Mass\n",
    "For mass/energy to be conserved within each CV, the mass ($m$) of each CV must remain the same:\n",
    "\n",
    "$$\\frac{\\partial m}{ \\partial t}_{CV} = 0$$\n",
    "\n",
    "$$\\frac{\\partial}{\\partial t}\\int_{V}{\\rho V} = 0$$\n",
    "\n",
    "As the mesh is structured, it is assumed that the Volume of each cell does not change with time. So, assuming density ($\\rho$) remains constant with time, mass is conserved.\n",
    "\n",
    "### Conservation of Momentum\n",
    "\n",
    "In order for momentum to be conserved the change of momentum of the CV must be equal to the sum of the forces ($f$) acting on the CV.\n",
    "\n",
    "\n",
    "$$ \\frac{\\partial^2 (\\rho \\boldsymbol{u})}{\\partial t^2} = \\sum\\boldsymbol{f} $$\n",
    "\n",
    "The forces acting on the CV are the forces due to stress given as the divergence of the stress tensor $\\sigma$ and body forces $b$\n",
    "\n",
    "$$ \\frac{\\partial^2 (\\rho \\boldsymbol{u})}{\\partial t^2} = \\nabla \\cdot \\sigma + \\rho b $$\n",
    "\n",
    "Integrating over the whole CV gives and assuming density remains constant:\n",
    "\n",
    "$$ \\rho \\int_V \\frac{\\partial^2 (\\boldsymbol{u})}{\\partial t^2} \\, dV = \\int_V (\\nabla \\cdot \\sigma + \\rho f)\\, dV$$ \n",
    "\n",
    "For this particular solver the effects of gravity are ignored. However, this can easily be change as will be shown later.\n",
    "\n",
    "This leaves:"
   ]
  },
  {
   "cell_type": "markdown",
   "metadata": {},
   "source": [
    "$$ \\rho \\int_V \\frac{\\partial^2 (\\boldsymbol{u})}{\\partial t^2} \\, dV - \\int_V \\nabla \\cdot \\sigma \\, dV = 0$$ \n",
    "\n",
    "Gauss' Divergence Theorem states: \n",
    "\n",
    "$$\\int_V \\nabla \\cdot F \\, dV= \\oint_S F \\cdot n \\, dS$$\n",
    "\n",
    "where $F$ is any vector field, and $n$ is the outward pointing unit vector on the CV surface.\n",
    "\n",
    "Applying this to above: \n",
    "\n",
    "$$ \\underbrace{  \\rho \\int_V \\frac{\\partial^2 (\\boldsymbol{u})}{\\partial t^2} \\, dV }_{Temporal\\space term} -\\underbrace{ \\oint_S \\sigma \\cdot n \\, dS }_{Diffusion\\space term} = 0$$\n",
    "\n",
    "These two terms are knwon as the temporal term (*relates to time*) and the diffusion term ()"
   ]
  },
  {
   "cell_type": "markdown",
   "metadata": {},
   "source": [
    "Discretization\n",
    "======\n",
    "***\n",
    "\n",
    "Discretization of the governing eqautions is essentially how we \"break up\" the continuous function that is the momentum equation.In other words, how we will take the temporal and diffusion terms and express the in terms of variables with discrete values. \n",
    "\n"
   ]
  },
  {
   "cell_type": "markdown",
   "metadata": {},
   "source": [
    "### Temporal Term Discretization\n",
    "\n",
    "\\*\\* This needs explaining\n",
    "\n",
    "$$ \\frac{\\partial^2 u}{\\partial t^2} = \\frac{u^n - 2u^o + u^{oo}}{\\Delta t^2} $$\n",
    "\n",
    "where n is the new timestep (one being calculated), o is the previous timestep and oo is the timestep previous to the previous timestep.\n",
    "\n",
    "$n$ = new, $o$ = old, $oo$ = old, old\n",
    "\n",
    "$$  \\rho \\int_V \\frac{\\partial^2 u}{\\partial t^2} \\, dV = \\rho \\int_V \\frac{u^n - 2u^o + u^{oo}}{\\Delta t^2} \\, dV = \\frac{\\rho}{\\Delta t^2} \\left( \\int_V u^n \\, dV -2\\int_V u^o \\, dV + \\int_V u^{oo} \\, dV \\right) $$\n",
    "\n",
    "From Spatial Variation:\n",
    "\n",
    "\\*\\* needs explaing\n",
    "\n",
    "$$ \\int u(x)\\, dV = u_p V $$\n",
    "\n",
    "$$  \\rho \\int_V \\frac{\\partial^2 u}{\\partial t^2} \\, dV =  \\frac{\\rho}{\\Delta t^2} \\left(  u_p^n V^n -2 u_p^o V^o + u_p^{oo} V^{oo} \\right) $$\n"
   ]
  },
  {
   "cell_type": "markdown",
   "metadata": {},
   "source": []
  },
  {
   "cell_type": "markdown",
   "metadata": {},
   "source": [
    "Diffusion Term Discretization\n",
    "======\n",
    "***"
   ]
  },
  {
   "cell_type": "markdown",
   "metadata": {},
   "source": [
    "<img src=\"./Paper_Images/SurfaceAreaVectors.png\" alt=\"Drawing\" style=\"width: 400px;\"/> "
   ]
  },
  {
   "cell_type": "markdown",
   "metadata": {},
   "source": [
    "\n",
    "\n",
    "$$\\begin{align} \\oint_S \\sigma \\cdot n \\, dS & = \\sum_{f=1}^{nFaces} \\int_{S_f} \\sigma_f \\cdot n \\, dS_f \\\\ & = \\sum_{f=1}^{nFaces} \\sigma_f \\cdot n |S_f|  \\\\ \n",
    "& =  \\sum_{f=1}^{nFaces} \\sigma_f \\cdot \\bold{S_f} \\end{align} $$\n",
    "\n",
    "where $\\bold{S_f}$ is the Surface Area vector\n"
   ]
  },
  {
   "cell_type": "markdown",
   "metadata": {},
   "source": [
    "Linear Elastic Consitutive Law:\n",
    "\n",
    "$$ \\sigma = 2 \\mu \\epsilon + \\lambda tr(\\epsilon)I $$\n",
    "\n",
    "$$ \\epsilon = \\dfrac{1}{2}[\\nabla u + (\\nabla u)^T] $$\n",
    "\n",
    "For 2D:\n",
    "\n",
    "$$ \\bold{u} = \n",
    "\\begin{bmatrix}\n",
    "u & v\n",
    "\\end{bmatrix}\n",
    "$$\n",
    "\n",
    "$$ \\nabla = \n",
    "\\begin{bmatrix}\n",
    "\\dfrac{\\delta}{\\delta x} \\\\ \\dfrac{\\delta}{\\delta y}\n",
    "\\end{bmatrix}\n",
    "$$\n",
    "\n",
    "$$\n",
    "\\nabla \\bold{u} = \\begin{bmatrix} \\dfrac{\\delta}{\\delta x} \\\\ \\dfrac{\\delta}{\\delta y} \\end{bmatrix} \\begin{bmatrix} u & v \\end{bmatrix}\n",
    "=\n",
    "\\begin{bmatrix}\n",
    "\\dfrac{\\delta u}{\\delta x} & \\dfrac{\\delta v}{\\delta x} \\\\ \\dfrac{\\delta u }{\\delta y} & \\dfrac{\\delta v }{\\delta y}\n",
    "\\end{bmatrix}\n",
    "$$\n",
    "\n",
    "$$\n",
    "\\epsilon  = \\dfrac{1}{2}\\left[\n",
    "\\begin{bmatrix}\n",
    "\\dfrac{\\delta u}{\\delta x} & \\dfrac{\\delta v}{\\delta x} \\\\ \\dfrac{\\delta u }{\\delta y} & \\dfrac{\\delta v }{\\delta y}\n",
    "\\end{bmatrix}\n",
    "+ \n",
    "\\begin{bmatrix}\n",
    "\\dfrac{\\delta u}{\\delta x} & \\dfrac{\\delta u }{\\delta y} \\\\ \\dfrac{\\delta v}{\\delta x} & \\dfrac{\\delta v }{\\delta y}\n",
    "\\end{bmatrix}\n",
    "\\right]\n",
    "$$\n",
    "$$\n",
    "\\epsilon\n",
    "=\n",
    "\\begin{bmatrix}\n",
    "\\dfrac{\\delta u}{\\delta x} & \\dfrac{1}{2}\\left(\\dfrac{\\delta v}{\\delta x} + \\dfrac{\\delta u}{\\delta y}\\right) \\\\ \\dfrac{1}{2}\\left(\\dfrac{\\delta v}{\\delta x} + \\dfrac{\\delta u}{\\delta y}\\right) & \\dfrac{\\delta v }{\\delta y}\n",
    "\\end{bmatrix}\n",
    "$$\n",
    "\n",
    "$$ \\sigma = 2 \\mu \\epsilon + \\lambda \\left(\\dfrac{\\delta u}{\\delta x} + \\dfrac{\\delta v}{\\delta y} \\right)\n",
    "\\begin{bmatrix}\n",
    "1 & 0 \\\\ 0 & 1\n",
    "\\end{bmatrix}\n",
    "$$\n",
    "\n",
    "$$ \n",
    "\\sigma = \n",
    "\\begin{bmatrix}\n",
    "(2\\mu + \\lambda)\\dfrac{\\delta u}{\\delta x} + \\lambda\\dfrac{\\delta v}{\\delta y}\n",
    "& \n",
    "\\mu \\left( \\dfrac{\\delta v}{\\delta x} + \\dfrac{\\delta u}{\\delta y} \\right)\n",
    "\\\\\n",
    "\\mu \\left( \\dfrac{\\delta v}{\\delta x} + \\dfrac{\\delta u}{\\delta y} \\right)\n",
    "&\n",
    "(2\\mu + \\lambda)\\dfrac{\\delta v}{\\delta y} + \\lambda\\dfrac{\\delta u}{\\delta x}\n",
    "\\end{bmatrix}\n",
    "$$\n"
   ]
  },
  {
   "cell_type": "markdown",
   "metadata": {},
   "source": []
  }
 ],
 "metadata": {
  "language_info": {
   "name": "python"
  },
  "orig_nbformat": 4
 },
 "nbformat": 4,
 "nbformat_minor": 2
}
