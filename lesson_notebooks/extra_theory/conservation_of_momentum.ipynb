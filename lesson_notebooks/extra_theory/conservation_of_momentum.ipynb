{
 "cells": [
  {
   "cell_type": "markdown",
   "metadata": {},
   "source": [
    "# Conservation of Momentum"
   ]
  },
  {
   "cell_type": "markdown",
   "metadata": {},
   "source": [
    "Option 1:\n",
    "\n",
    "Begin with Newtons second law on a CM then convert to CV (Ferziger Peric)\n",
    "\n",
    "Option 2: \n",
    "\n",
    "Begin with momentum equation on an infitisimal point, then expand the CV (Jasak)\n",
    " "
   ]
  },
  {
   "cell_type": "markdown",
   "metadata": {},
   "source": [
    "# Option 1"
   ]
  },
  {
   "cell_type": "markdown",
   "metadata": {},
   "source": [
    "An intensive property ($\\phi$) are independent of the amount of matter within a system. Examples are density (mass per volume) and velocity (momentum per unit mass).\n",
    "\n",
    "For momentum $mv$ the corresponding intensive property is velocity $v$\n",
    "\n",
    "For any Control Mass (CM) which is a closed system, an intensive property $\\phi$ can be described as:\n",
    "\n",
    "$$ \\phi = \\int_{V_{CM}} \\rho \\phi \\, dV  $$\n",
    "\n",
    "$V_{CM}$ is the volume occupied by the CM"
   ]
  },
  {
   "cell_type": "markdown",
   "metadata": {},
   "source": []
  }
 ],
 "metadata": {
  "kernelspec": {
   "display_name": "Python 3.8.10 64-bit",
   "language": "python",
   "name": "python3"
  },
  "language_info": {
   "name": "python",
   "version": "3.8.10"
  },
  "orig_nbformat": 4,
  "vscode": {
   "interpreter": {
    "hash": "31f2aee4e71d21fbe5cf8b01ff0e069b9275f58929596ceb00d14d90e3e16cd6"
   }
  }
 },
 "nbformat": 4,
 "nbformat_minor": 2
}
