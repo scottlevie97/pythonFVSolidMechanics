{
 "cells": [
  {
   "cell_type": "markdown",
   "metadata": {},
   "source": [
    "[![Open In Colab](https://colab.research.google.com/assets/colab-badge.svg)](https://colab.research.google.com/github/scottlevie97/python_FVM_CSM/blob/newBoundaryConditions/seperate_notebooks/_06_Solution_Algorithm.ipynb)"
   ]
  },
  {
   "cell_type": "markdown",
   "metadata": {},
   "source": [
    "# 6. **Solution Algorithm**\n",
    "---\n"
   ]
  },
  {
   "cell_type": "markdown",
   "metadata": {},
   "source": [
    "We've described the $A$-matrices and $b$-matrices for:\n",
    "\n",
    "- All points within the mesh\n",
    "- Both the x and y momentum equations.\n",
    "\n",
    "How will these matrices be used to solve the momentum equations? This notebook describes the procedure that finds a solution to the equations.  "
   ]
  },
  {
   "cell_type": "markdown",
   "metadata": {},
   "source": [
    "## **Step 1:** Initialise Matrix\n",
    "\n",
    "We'll create both the A and b matrices for the x and y equations\n",
    "\n",
    "### Creating the $A$-matrix\n",
    "\n",
    "Previously we have created the A matrix for internal cells. This is as follows:\n"
   ]
  },
  {
   "cell_type": "code",
   "execution_count": 15,
   "metadata": {},
   "outputs": [],
   "source": [
    "from functions.setup import *\n",
    "from ipynb.fs.defs._05_Fixed_Traction_BCs import *\n",
    "\n",
    "# x A matrix\n",
    "A_x = A(\"x\").createMatrix()\n",
    "\n",
    "# y A matrix\n",
    "A_y = A(\"y\").createMatrix()"
   ]
  },
  {
   "cell_type": "markdown",
   "metadata": {},
   "source": [
    "### Add BC Terms to $A$ and $b$ Matrices\n",
    "\n",
    "For each cell on boundaries, we've created functions that take in A and b matrices and assign the a-terms and b-terms to these matrices. We need to write a function that loops through each point <code>k</code> in the mesh and assigns the correct term."
   ]
  },
  {
   "cell_type": "code",
   "execution_count": 16,
   "metadata": {},
   "outputs": [],
   "source": [
    "from ipynb.fs.defs._04_Fixed_Displacement_BCs import *"
   ]
  },
  {
   "cell_type": "code",
   "execution_count": 17,
   "metadata": {},
   "outputs": [],
   "source": [
    "def cell_boundary_selection_A(A_matrix, k, boundaries, xy, U_old, U_old_old, U_previous):\n",
    "\n",
    "    if BC_settings(boundaries[0]).traction:\n",
    "        A_matrix = traction_cell_BCs_A(A_matrix, k, boundaries, xy)\n",
    "\n",
    "    elif BC_settings(boundaries[0]).fixed_displacement:\n",
    "        A_matrix = displacement_cell_BCs_A(A_matrix, k, boundaries, xy, U_old, U_old_old, U_previous)\n",
    "\n",
    "    return A_matrix\n",
    "\n",
    "def cell_boundary_selection_b(\n",
    "    b_matrix, k, boundaries, xy, U_old, U_old_old, U_previous\n",
    "):\n",
    "\n",
    "    if BC_settings(boundaries[0]).traction:\n",
    "        b_matrix = traction_cell_BCs_b(\n",
    "            b_matrix, k, boundaries, xy, U_old, U_old_old, U_previous\n",
    "        )\n",
    "\n",
    "    elif BC_settings(boundaries[0]).fixed_displacement:\n",
    "        b_matrix = displacement_cell_BCs_b(\n",
    "            b_matrix, k, boundaries, xy, U_old, U_old_old, U_previous\n",
    "        )\n",
    "\n",
    "    return b_matrix"
   ]
  },
  {
   "cell_type": "markdown",
   "metadata": {},
   "source": [
    "The following functions loop through each cell <code>k</code> to determine if the cell is an internal, boundary or corner cell. Then the BC terms are applied. These functions are long but straightforward. \n"
   ]
  },
  {
   "cell_type": "code",
   "execution_count": 18,
   "metadata": {},
   "outputs": [],
   "source": [
    "def boundary_conditions_A(A_matrix, U_previous, U_old, U_old_old, xy):\n",
    "    for k in np.arange(0,(nx)*(ny)):  \n",
    "\n",
    "        #Bottom left corner coefficients        \n",
    "        if cell_index().bottom_left_corner(k):  \n",
    "\n",
    "            boundaries = [\"b\", \"l\"]\n",
    "            A_matrix = cell_corner_BCs_A(A_matrix, k, boundaries, xy, U_previous, U_old, U_old_old)          \n",
    "\n",
    "        #Bottom right corner coefficients            \n",
    "        elif  cell_index().bottom_right_corner(k):\n",
    "            \n",
    "            boundaries = [\"b\", \"r\"]\n",
    "            A_matrix = cell_corner_BCs_A(A_matrix, k, boundaries, xy, U_previous, U_old, U_old_old)          \n",
    "\n",
    "        #Top left corner coefficients            \n",
    "        elif  cell_index().top_left_corner(k):\n",
    "            \n",
    "            boundaries = [\"t\", \"l\"]\n",
    "            A_matrix = cell_corner_BCs_A(A_matrix, k, boundaries, xy, U_previous, U_old, U_old_old)          \n",
    "            \n",
    "        #Top right corner coefficients            \n",
    "        elif  cell_index().top_right_corner(k):\n",
    "\n",
    "            boundaries = [\"t\", \"r\"]\n",
    "            A_matrix = cell_corner_BCs_A(A_matrix, k, boundaries, xy, U_previous, U_old, U_old_old)          \n",
    "            \n",
    "        # Center Bottom Boundaries\n",
    "        elif  cell_index().center_bottom(k):\n",
    "            \n",
    "            boundaries = [\"b\"]\n",
    "            A_matrix = cell_boundary_selection_A(A_matrix, k, boundaries, xy, U_old, U_old_old, U_previous)\n",
    "\n",
    "        # Center Top Boundaries\n",
    "        elif cell_index().center_top(k):\n",
    "            boundaries = [\"t\"]\n",
    "\n",
    "            A_matrix = cell_boundary_selection_A(A_matrix, k, boundaries, xy, U_old, U_old_old, U_previous)\n",
    "\n",
    "        # Center Left Boundaries\n",
    "        elif  cell_index().center_left(k):\n",
    "            boundaries = [\"l\"]\n",
    "\n",
    "            A_matrix = cell_boundary_selection_A(A_matrix, k, boundaries, xy, U_old, U_old_old, U_previous)\n",
    "\n",
    "        # Center Right Boundaries\n",
    "        elif  cell_index().center_right(k):\n",
    "            boundaries = [\"r\"]\n",
    "\n",
    "            A_matrix = cell_boundary_selection_A(A_matrix, k, boundaries, xy, U_old, U_old_old, U_previous)\n",
    "\n",
    "\n",
    "    return A_matrix\n"
   ]
  },
  {
   "cell_type": "code",
   "execution_count": 19,
   "metadata": {},
   "outputs": [],
   "source": [
    "def boundary_conditions_b(b_matrix, U_previous, U_old, U_old_old, xy):\n",
    "    for k in np.arange(0,(nx)*(ny)):   # j is the cell number\n",
    "\n",
    "    #    #Bottom left corner coefficients        \n",
    "        if cell_index().bottom_left_corner(k):  \n",
    "\n",
    "            boundaries = [\"b\", \"l\"]\n",
    "            \n",
    "            b_matrix = cell_corner_BCs_b(b_matrix, k, boundaries, xy, U_previous, U_old, U_old_old)          \n",
    "\n",
    "        #Bottom right corner coefficients            \n",
    "        elif  cell_index().bottom_right_corner(k):\n",
    "            boundaries = [\"b\", \"r\"]\n",
    "            \n",
    "            b_matrix = cell_corner_BCs_b(b_matrix, k, boundaries, xy, U_previous, U_old, U_old_old)\n",
    "\n",
    "        #Top left corner coefficients            \n",
    "        elif  cell_index().top_left_corner(k):\n",
    "            boundaries = [\"t\", \"l\"]\n",
    "        \n",
    "            b_matrix = cell_corner_BCs_b(b_matrix, k, boundaries, xy, U_previous, U_old, U_old_old)\n",
    "\n",
    "        #Top right corner coefficients            \n",
    "        elif  cell_index().top_right_corner(k):  \n",
    "            boundaries = [\"t\", \"r\"]\n",
    "            \n",
    "            b_matrix = cell_corner_BCs_b(b_matrix, k, boundaries, xy, U_previous, U_old, U_old_old)\n",
    "\n",
    "        # Center Bottom Boundaries\n",
    "        elif  cell_index().center_bottom(k):\n",
    "            boundaries = [\"b\"]\n",
    "\n",
    "            b_matrix = cell_boundary_selection_b(b_matrix, k, boundaries, xy, U_old, U_old_old, U_previous)\n",
    "\n",
    "        # Center Top Boundaries\n",
    "        elif cell_index().center_top(k):\n",
    "            boundaries = [\"t\"]\n",
    "\n",
    "            b_matrix = cell_boundary_selection_b(b_matrix, k, boundaries, xy, U_old, U_old_old, U_previous)\n",
    "\n",
    "        # Center Left Boundaries\n",
    "        elif  cell_index().center_left(k):\n",
    "            boundaries = [\"l\"]\n",
    "\n",
    "            b_matrix = cell_boundary_selection_b(b_matrix, k, boundaries, xy, U_old, U_old_old, U_previous)\n",
    "\n",
    "        # Center Right Boundaries\n",
    "        elif  cell_index().center_right(k):\n",
    "            boundaries = [\"r\"]\n",
    "\n",
    "            b_matrix = cell_boundary_selection_b(b_matrix, k, boundaries, xy, U_old, U_old_old, U_previous)\n",
    "\n",
    "        else:\n",
    "\n",
    "            b_matrix[k] = (\n",
    "                            A.b_temporal(U_old, U_old_old, k, xy)\n",
    "                            +\n",
    "                            A.b_force(k, xy, U_previous)\n",
    "                        )\n",
    "\n",
    "    return b_matrix\n"
   ]
  },
  {
   "cell_type": "markdown",
   "metadata": {},
   "source": [
    "Using this function to assign BC values to A and b matrices: "
   ]
  },
  {
   "cell_type": "code",
   "execution_count": 20,
   "metadata": {},
   "outputs": [],
   "source": [
    "# Initialise $b$-matrix \n",
    "b_x = np.zeros([ny*nx,1])\n",
    "b_y = np.zeros([ny*nx,1])\n",
    "\n",
    "# Assign boundary conditions to matrices\n",
    "A_x = boundary_conditions_A(A_x, U_previous, U_old, U_old_old, \"x\")\n",
    "b_x = boundary_conditions_b(b_x, U_previous, U_old, U_old_old, \"x\")\n",
    "\n",
    "A_y = boundary_conditions_A(A_y, U_previous, U_old, U_old_old, \"y\")\n",
    "b_y = boundary_conditions_b(b_y, U_previous, U_old, U_old_old, \"y\")"
   ]
  },
  {
   "cell_type": "markdown",
   "metadata": {},
   "source": [
    "Now that Both A matrices and b matrices are fully formed, how will we solve for the displacement field?"
   ]
  },
  {
   "cell_type": "markdown",
   "metadata": {},
   "source": [
    "## **Step 2:** Solve Matrix\n",
    "\n",
    "In order solve for a solution displacement field $(u , v)$. We know:\n",
    "\n",
    "$$\n",
    "\\begin{bmatrix} a \\end{bmatrix}_x\n",
    "\\begin{bmatrix} u \\end{bmatrix}\n",
    " = \\begin{bmatrix} b \\end{bmatrix}_x\n",
    "$$\n",
    "\n",
    "$$\n",
    "\\begin{bmatrix} a \\end{bmatrix}_y\n",
    "\\begin{bmatrix} v \\end{bmatrix}\n",
    " = \\begin{bmatrix} b \\end{bmatrix}_y\n",
    "$$\n"
   ]
  },
  {
   "cell_type": "markdown",
   "metadata": {},
   "source": [
    "\n",
    "To solve these matrices we'll use a function from <code>numpy</code>:  <code>linalg.solve</code>:\n"
   ]
  },
  {
   "cell_type": "code",
   "execution_count": 21,
   "metadata": {},
   "outputs": [],
   "source": [
    "from numpy.linalg import solve\n",
    "\n",
    "# solve x displacement\n",
    "u = solve(A_x, b_x)\n",
    "# convert to numpy array\n",
    "u = np.array(u)\n",
    "\n",
    "# solve y displacement\n",
    "v = solve(A_y, b_y)\n",
    "# convert to numpy array\n",
    "v = np.array(v)\n",
    "\n",
    "# Update U_new with new x and y displacements\n",
    "U_new = np.hstack((u, v))"
   ]
  },
  {
   "cell_type": "markdown",
   "metadata": {},
   "source": [
    "However, we also know that:\n",
    "\n",
    "- $ \\begin{bmatrix} b \\end{bmatrix} _x $ is a function of $v$\n",
    "\n",
    "- $ \\begin{bmatrix} b \\end{bmatrix}_y $ is a function of $u$\n",
    "\n",
    "Perhaps you can see a problem: when you solve for $u$ and $v$ using the matrices, these fields may differ from those used in the b-terms.\n",
    "\n",
    "*So how do we solve this?*\n",
    "\n",
    "One solution is to pass the solution field back into the b-terms, create new b-matrices, and resolve the displacement fields.\n",
    "\n",
    "But again, the solution field may still be different to the field used to create the b matrix."
   ]
  },
  {
   "cell_type": "markdown",
   "metadata": {},
   "source": [
    "$$\n",
    "\\begin{align*}\n",
    "\\begin{bmatrix} a \\end{bmatrix}_x\n",
    "\\begin{bmatrix} u_0 \\end{bmatrix}\n",
    " = \\begin{bmatrix} b(v_0) \\end{bmatrix}_x  \\rightarrow &   \\space \\space \\space \\space u_1  &\\\\\n",
    "\\begin{bmatrix} a \\end{bmatrix}_y\n",
    "\\begin{bmatrix} v_0 \\end{bmatrix}\n",
    " = \\begin{bmatrix} b(u_0) \\end{bmatrix}_y  \\rightarrow &  \\space \\space \\space \\space v_1 &\\\\\n",
    " \\space \\space & \\space \\space \\space \\downarrow &\\\\\n",
    "\\begin{bmatrix} a \\end{bmatrix}_x\n",
    "\\begin{bmatrix} u_1 \\end{bmatrix}\n",
    "= & \\begin{bmatrix} b(v_1) \\end{bmatrix}_x \\rightarrow &  u_2  \\\\\n",
    "\\begin{bmatrix} a \\end{bmatrix}_y\n",
    "\\begin{bmatrix} v_1 \\end{bmatrix}\n",
    "= & \\begin{bmatrix} b(u_1) \\end{bmatrix}_y \\rightarrow &  v_2 \\\\\n",
    "\\end{align*}\n",
    "$$\n"
   ]
  },
  {
   "cell_type": "markdown",
   "metadata": {},
   "source": [
    "If we do this repeatedly $i$ times (subscript), the difference between the solution displacement ($i+1$) and the displacement used to generate the b matrix  ($i$) should decrease. Each repetition of this process is called an iteration.\n",
    "\n",
    "We need to discuss how to measure this difference and set a tolerance for how small this difference can be before we consider the solution to be solved."
   ]
  },
  {
   "cell_type": "markdown",
   "metadata": {},
   "source": [
    "## **Step 3**: Calculate Residual"
   ]
  },
  {
   "cell_type": "markdown",
   "metadata": {},
   "source": [
    "The difference between the displacement fields in adjacent iterations is known as the residual.\n",
    "\n",
    "There are multiple ways how to calculate the residual. A standard method is to find the Root Mean Squared Error (RMSE) and \"normalise\" this against the largest value. Effectively, we can say the mean of the squared errors of all points *$x$* times the size of the largest displacement, where the *$x$* value is the tolerance we want. "
   ]
  },
  {
   "cell_type": "markdown",
   "metadata": {},
   "source": [
    "Firstly we square the differences so that all values are positive:"
   ]
  },
  {
   "cell_type": "code",
   "execution_count": 22,
   "metadata": {},
   "outputs": [],
   "source": [
    "# This give a 2D array of the squared difference\n",
    "\n",
    "sqrDiff = (U_new - U_previous)**2"
   ]
  },
  {
   "cell_type": "markdown",
   "metadata": {},
   "source": [
    "Then we find the mean of this array"
   ]
  },
  {
   "cell_type": "code",
   "execution_count": 23,
   "metadata": {},
   "outputs": [
    {
     "data": {
      "text/plain": [
       "1.1264906249953836e-10"
      ]
     },
     "execution_count": 23,
     "metadata": {},
     "output_type": "execute_result"
    }
   ],
   "source": [
    "np.mean((U_new - U_previous)**2)"
   ]
  },
  {
   "cell_type": "markdown",
   "metadata": {},
   "source": [
    "Now we need to return this value into displacement units by finding the square root"
   ]
  },
  {
   "cell_type": "code",
   "execution_count": 24,
   "metadata": {},
   "outputs": [
    {
     "data": {
      "text/plain": [
       "1.0613626265303408e-05"
      ]
     },
     "execution_count": 24,
     "metadata": {},
     "output_type": "execute_result"
    }
   ],
   "source": [
    "import math \n",
    "math.sqrt(np.mean((U_new - U_previous)**2))"
   ]
  },
  {
   "cell_type": "markdown",
   "metadata": {},
   "source": [
    "This value is the RMSE; however, depending on the geometry of the test case used, this value can mean different things. So, we need to normalise this value by dividing it by the largest displacement (<code>normFactor</code>). A variable <code>SMALL</code> is added to <code>normFactor</code> to avoid dividing by zero."
   ]
  },
  {
   "cell_type": "code",
   "execution_count": 25,
   "metadata": {},
   "outputs": [],
   "source": [
    "SMALL = 1e-16\n",
    "\n",
    "normFactor = np.max(U_new) + SMALL\n",
    "\n",
    "residual = math.sqrt(np.mean((U_new - U_previous)**2))/normFactor"
   ]
  },
  {
   "cell_type": "markdown",
   "metadata": {},
   "source": [
    "To Summarise: \n",
    "\n",
    "1. We calculate the difference between each point on the mesh in the displacement solution field for iteration $i$ and $i+1$.\n",
    "2. We square these values so that positive and negative values are treated equally.\n",
    "3. We take an average of these values (*** why do we do this?)\n",
    "4. We take the square root of this to bring the residual back into the unit used in the displacement field.\n",
    "5. We normalise this by the largest displacement in the solution field. \n",
    "\n",
    "So our residual is a measure of the percentage of the root mean squared error of displacement fields, for two adjacent iterations, in comparison to the largest displacement in the field. If we enforced that the residual must be 0.0000001, i.e, 0.00001 %, we can say that the difference between the solution fields are reasonably small.\n",
    "\n",
    "The value we enforce the residual to drop to before accepting that reasonable solution fields are found is called the **tolerance**. When this is reached, the solution is said to be **converged**."
   ]
  },
  {
   "cell_type": "markdown",
   "metadata": {},
   "source": [
    "## **Step 4**: Combine into Momentum Loop"
   ]
  },
  {
   "cell_type": "markdown",
   "metadata": {},
   "source": [
    "To enforce the residual to drop to a certain tolerance. We need to create a loop that performs these iterations to solve the momentum equations, the **momentum loop**."
   ]
  },
  {
   "cell_type": "markdown",
   "metadata": {},
   "source": [
    "\n",
    "Let's think of how this loop will be solved:"
   ]
  },
  {
   "cell_type": "markdown",
   "metadata": {},
   "source": [
    "        create A matrices\n",
    "        \n",
    "        while (!converged):\n",
    "\n",
    "                # set previous displacement solutions\n",
    "                U_previous = U_new \n",
    "\n",
    "                # x equation\n",
    "                create b matrix using previous v\n",
    "                solve for u\n",
    "\n",
    "                # y equation\n",
    "                create b matrix using previous u\n",
    "                solve for v\n",
    "\n",
    "                Calculate the residual\n",
    "\n",
    "                if (residual < tolerance>):\n",
    "                        converged = True\n",
    "                else\n",
    "                        converged = False\n",
    "\n"
   ]
  },
  {
   "cell_type": "code",
   "execution_count": 26,
   "metadata": {},
   "outputs": [
    {
     "name": "stderr",
     "output_type": "stream",
     "text": [
      "/tmp/ipykernel_12136/2379744722.py:53: RuntimeWarning: divide by zero encountered in double_scalars\n",
      "  residual = math.sqrt(np.mean((U_new - U_previous)**2))/normFactor\n"
     ]
    },
    {
     "name": "stdout",
     "output_type": "stream",
     "text": [
      "Iteration: 0,\t Residual = inf,\t normFactor = 0.00000000000000000000\n",
      "Iteration: 1,\t Residual = 0.51523940885836416737,\t normFactor = 0.00000048749999999975\n",
      "Iteration: 2,\t Residual = 20.87325183127153138685,\t normFactor = 0.00000048749999999975\n",
      "Iteration: 3,\t Residual = 0.25476369375290025543,\t normFactor = 0.00000097499999999926\n",
      "Iteration: 4,\t Residual = 10.17080655277777090362,\t normFactor = 0.00000097499999999926\n",
      "Iteration: 5,\t Residual = 0.16833692481888815062,\t normFactor = 0.00000146249999999799\n",
      "Iteration: 6,\t Residual = 6.64817614566296466450,\t normFactor = 0.00000146249999999799\n"
     ]
    }
   ],
   "source": [
    "# Initialise fields\n",
    "b_x = np.zeros([(ny)*(nx),1])\n",
    "b_y = np.zeros([(ny)*(nx),1])\n",
    "\n",
    "U_new = initalise_U_field(nx, ny)\n",
    "U_old = initalise_U_field(nx, ny)\n",
    "U_old_old = initalise_U_field(nx, ny)\n",
    "\n",
    "# Set tolerance\n",
    "tolerance = 1e-6\n",
    "\n",
    "# Iteration counter \n",
    "icorr = 0\n",
    "\n",
    "# Maximum iteration limit (This will be increased for final implementation)\n",
    "maxcorr = 5\n",
    "\n",
    "# Create A matrices:\n",
    "A_x = A(\"x\").createMatrix()   \n",
    "A_y = A(\"y\").createMatrix()   \n",
    "\n",
    "# Add boundary conditions to A matrices\n",
    "A_x = boundary_conditions_A(A_x, U_previous, U_old, U_old_old, \"x\")\n",
    "A_y = boundary_conditions_A(A_y, U_previous, U_old, U_old_old, \"y\")\n",
    "\n",
    "while True:\n",
    "\n",
    "    # set previous displacement solutions\n",
    "    U_previous = U_new\n",
    "\n",
    "    # x-equation\n",
    "    # Create b matrices\n",
    "    b_x = boundary_conditions_b(b_x, U_previous, U_old, U_old_old, \"x\")\n",
    "\n",
    "    # solve for u\n",
    "    u = solve(A_x, b_x)\n",
    "    u = np.array(u)\n",
    "\n",
    "    # y-equation\n",
    "    # Create b matrices        \n",
    "    b_y = boundary_conditions_b(b_y, U_previous, U_old, U_old_old, \"y\")\n",
    "\n",
    "    # solve for v\n",
    "    v = solve(A_y, b_y)\n",
    "    v = np.array(v)\n",
    "        \n",
    "    # Update U_new with new x and y displacements\n",
    "    U_new = np.hstack((u, v))\n",
    "\n",
    "    ## Calculate the residual of each iteration    \n",
    "    normFactor = np.max(U_new)\n",
    "\n",
    "    residual = math.sqrt(np.mean((U_new - U_previous)**2))/normFactor\n",
    "\n",
    "    # print values\n",
    "    print(\"Iteration: {:01d},\\t Residual = {:.20f},\\t normFactor = {:.20f}\".format(icorr, residual, normFactor))\n",
    "\n",
    "    # Convergence check\n",
    "    if residual < tolerance:\n",
    "\n",
    "        print(\"Solution has converged\")\n",
    "\n",
    "        break\n",
    "        \n",
    "    elif icorr > maxcorr:\n",
    "        \n",
    "        break            \n",
    "    \n",
    "    icorr = icorr + 1\n"
   ]
  },
  {
   "cell_type": "markdown",
   "metadata": {},
   "source": [
    "The residual tends to change substantially from iteration to iteration, so it's useful to calculate the moving average of the residual. This will be added to the momentum loop in the next notebook."
   ]
  },
  {
   "cell_type": "markdown",
   "metadata": {},
   "source": [
    "Once the momentum loop has converged, the solution algorithm moves to the next time-step. This procedure is known as the **time loop**, this will be discussed in the next notebook."
   ]
  },
  {
   "cell_type": "markdown",
   "metadata": {},
   "source": [
    "Below is an overview of the solution algorithm used in this solver:"
   ]
  },
  {
   "cell_type": "markdown",
   "metadata": {},
   "source": [
    "<code>\n",
    "    \n",
    "Solution Algorithm \n",
    "---------\n",
    "1. Switch to next time-step\n",
    "2. Switch to next iteration\n",
    "3. Initialise A & b matrices with internal cell values\n",
    "4. Apply boundary conditions to A & b matrices\n",
    "5. Solve for the displacement field\n",
    "6. Calculate residual\n",
    "7. **If** converged **then**:\n",
    "8.  Go to next time-step (line 1)\n",
    "9. **else** \n",
    "10.  Go to next iteration (line 2)\n",
    "\n",
    "</code>\n",
    "\n"
   ]
  }
 ],
 "metadata": {
  "interpreter": {
   "hash": "18ed160ad9db49083d5c6dbf82376d1730af41ed005a12d6dc5900d1b4ae07ba"
  },
  "kernelspec": {
   "display_name": "Python 3 (ipykernel)",
   "language": "python",
   "name": "python3"
  },
  "language_info": {
   "codemirror_mode": {
    "name": "ipython",
    "version": 3
   },
   "file_extension": ".py",
   "mimetype": "text/x-python",
   "name": "python",
   "nbconvert_exporter": "python",
   "pygments_lexer": "ipython3",
   "version": "3.9.5"
  }
 },
 "nbformat": 4,
 "nbformat_minor": 4
}
