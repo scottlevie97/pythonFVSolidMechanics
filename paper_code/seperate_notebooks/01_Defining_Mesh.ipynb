{
 "cells": [
  {
   "cell_type": "markdown",
   "metadata": {},
   "source": [
    "# Defining Mesh"
   ]
  },
  {
   "cell_type": "markdown",
   "metadata": {},
   "source": [
    "Firstly, out mesh will be rectangular in shape with an x-dimension length of $L_x$ metres and a y-dimension length of $L_y$ metres. \n",
    "\n",
    "\n",
    "*** define structured mesh ***\n",
    "\n",
    "This spatial domain is divided into computational cells with x-dimensions of $dx$ metres y-dimensions of $dy$ metres\n",
    "\n",
    "The number of cell in the x-direction = $n_x$\n",
    "\n",
    "The number of cell in the y-direction = $n_y$\n"
   ]
  },
  {
   "cell_type": "markdown",
   "metadata": {},
   "source": [
    "<img src=\"./Paper_Images/Mesh.jpg\" alt=\"Drawing\" style=\"width: 600px;\"/> "
   ]
  },
  {
   "cell_type": "code",
   "execution_count": null,
   "metadata": {},
   "outputs": [],
   "source": [
    "# Defining these values:\n",
    "\n",
    "Lx = 1 #width of domain\n",
    "Ly = 1 #height of domain\n",
    "\n",
    "nx = 4    #number of cells in the x-direction\n",
    "ny = 4    #number of cells in the y-direction\n",
    "\n",
    "dx = Lx/nx          #length of each control volume in the x-direction\n",
    "dy = Ly/ny          #length of each control volume in the y-direction"
   ]
  }
 ],
 "metadata": {
  "interpreter": {
   "hash": "18ed160ad9db49083d5c6dbf82376d1730af41ed005a12d6dc5900d1b4ae07ba"
  },
  "kernelspec": {
   "display_name": "Python 3.9.5 ('base')",
   "language": "python",
   "name": "python3"
  },
  "language_info": {
   "codemirror_mode": {
    "name": "ipython",
    "version": 3
   },
   "file_extension": ".py",
   "mimetype": "text/x-python",
   "name": "python",
   "nbconvert_exporter": "python",
   "pygments_lexer": "ipython3",
   "version": "3.9.5"
  },
  "orig_nbformat": 4
 },
 "nbformat": 4,
 "nbformat_minor": 2
}
