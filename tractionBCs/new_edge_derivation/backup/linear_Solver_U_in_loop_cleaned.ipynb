{
 "cells": [
  {
   "cell_type": "code",
   "execution_count": 41,
   "metadata": {},
   "outputs": [],
   "source": [
    "import numpy as np\n",
    "import pandas as pd\n",
    "import math\n",
    "from scipy.sparse import csr_matrix\n",
    "from scipy.sparse.linalg import spsolve\n",
    "\n",
    "def printVar (varname, var):\n",
    "\n",
    "    print(varname)\n",
    "    print(var)\n",
    "\n",
    "def saveArray (name, array):\n",
    "\n",
    "    pd.DataFrame(array).to_csv(\"savedVariables/\" + name + \".csv\", index=False, header=None)\n",
    "\n"
   ]
  },
  {
   "cell_type": "code",
   "execution_count": 42,
   "metadata": {},
   "outputs": [],
   "source": [
    "# Solve the 2D Navier-Cauchy equation using a segregated finite volume method\n",
    "\n",
    "# Define mesh geometry and boundary conditions\n",
    "\n",
    "Lx = .01 #width of domain\n",
    "Ly = .01 #height of domain\n",
    "\n",
    "fac = 1\n",
    "\n",
    "tr_left_x = -1e-6*fac      #u boundary condition at the left boundary\n",
    "tr_left_y =  1e-6*0     #v boundary condition at the left boundary\n",
    "\n",
    "tr_right_x = +1e-6*fac    #u boundary condition at the right boundary\n",
    "tr_right_y = 1e-6*0     #v boundary condition at the right boundary\n",
    "\n",
    "tr_top_x = 1e-6*0       #u boundary condition at the top boundary\n",
    "tr_top_y = +1e-6*fac       #v boundary condition at the top boundary\n",
    "\n",
    "tr_bottom_x = -1e-6*0    #u boundary condition at the bottom boundary \n",
    "tr_bottom_y = -1e-6*fac    #v boundary condition at the bottom boundary\n",
    "\n",
    "nx = 20          #number of control volumes in the x-direction\n",
    "ny = 20          #number of control volumes in the y-direction\n"
   ]
  },
  {
   "cell_type": "code",
   "execution_count": 43,
   "metadata": {},
   "outputs": [],
   "source": [
    "sys.path.append(\"../../Classes/\")\n",
    "\n",
    "from index_and_direction import dim\n",
    "\n",
    "# dim().nx = 9\n",
    "# dim().ny = 9\n",
    "\n",
    "# print(dim().nx)"
   ]
  },
  {
   "cell_type": "code",
   "execution_count": 44,
   "metadata": {},
   "outputs": [
    {
     "name": "stdout",
     "output_type": "stream",
     "text": [
      "20\n"
     ]
    }
   ],
   "source": [
    "print(dim().nx)"
   ]
  },
  {
   "cell_type": "code",
   "execution_count": 45,
   "metadata": {},
   "outputs": [],
   "source": [
    "from index_and_direction import index\n",
    "from index_and_direction import boundary_point_index\n",
    "from index_and_direction import cell_index\n",
    "from index_and_direction import displacement"
   ]
  },
  {
   "cell_type": "code",
   "execution_count": 46,
   "metadata": {},
   "outputs": [],
   "source": [
    "# Define material properties\n",
    "\n",
    "rho = 8050         #density of steel in kg/m^3\n",
    "mu = 78*10e9       #shear modulus in Pa\n",
    "K = 1.6*10e11      #bulk modulus in Pa\n",
    "\n",
    "Lambda = K - (2/3)*mu\n",
    "\n",
    "#print(Lambda)"
   ]
  },
  {
   "cell_type": "code",
   "execution_count": 47,
   "metadata": {},
   "outputs": [],
   "source": [
    "## Define required variables\n",
    "\n",
    "tf = 0.01           #total time in seconds\n",
    "dx = Lx/nx          #length of each control volume in the x-direction\n",
    "dy = Ly/ny          #length of each control volume in the y-direction\n",
    "dt = tf/10          #size of time steps\n",
    "Sfx = dy            #area vector x component (Area of East and West Faces)\n",
    "Sfy = dx            #area vector y component (Area of North and South Faces)\n"
   ]
  },
  {
   "cell_type": "code",
   "execution_count": 48,
   "metadata": {},
   "outputs": [],
   "source": [
    "## Define  position and time vectors\n",
    "\n",
    "t = np.array(np.arange(0,tf, dt))        #time vector (could possibly use a list)\n",
    "x = np.zeros((1,nx+2))   #position vector defining the center points of the control volumes in the x-direction.\n",
    "x[0,nx+1] = Lx\n",
    "x[0,1:nx+1] = np.arange(dx/2,Lx,dx)\n",
    "\n",
    "t = np.array(np.arange(0,tf, dt))        #time vector (could possibly use a list)\n",
    "y = np.zeros((1,ny+2))   #position vector defining the center points of the control volumes in the y-direction.\n",
    "y[0,ny+1] = Ly\n",
    "y[0,1:ny+1] = np.arange(dy/2,Ly,dy)"
   ]
  },
  {
   "cell_type": "code",
   "execution_count": 49,
   "metadata": {},
   "outputs": [],
   "source": [
    "## Define required displacement matrices and b vector\n",
    "\n",
    "u_new = np.zeros([(ny+2)*(nx+2),2])         #unknown displacements at t + 1    (Column 1 = x, Column2 = y)\n",
    "u_old = np.zeros([(ny+2)*(nx+2),2])         #displacement at time t\n",
    "u_old_old = np.zeros([(ny+2)*(nx+2),2])     #displacement at time t - 1\n",
    "\n",
    "#rhs vector\n",
    "b_x = np.zeros([(ny+2)*(nx+2),1])\n",
    "b_y = np.zeros([(ny+2)*(nx+2),1])"
   ]
  },
  {
   "cell_type": "markdown",
   "metadata": {},
   "source": [
    "## X equation:"
   ]
  },
  {
   "cell_type": "code",
   "execution_count": 50,
   "metadata": {},
   "outputs": [],
   "source": [
    "class A(index, displacement):\n",
    "\n",
    "    val = \"value that stays in class without changning with instance\"\n",
    "\n",
    "    def __init__(self, xy):\n",
    "\n",
    "        if xy == \"x\":\n",
    "\n",
    "            self.a_P = (rho*dx*dy/(dt**2))+((4*mu+2*Lambda)*Sfx)/dx + ((2*mu)*Sfy)/dy\n",
    "            self.a_N = + A.coef(xy, \"N\", \"u\")*(Sfy)/dy\n",
    "            self.a_S = - A.coef(xy, \"S\", \"u\")*(Sfy)/dy\n",
    "            self.a_E = + A.coef(xy, \"E\", \"u\")*(Sfx)/dx\n",
    "            self.a_W = - A.coef(xy, \"W\", \"u\")*(Sfx)/dx\n",
    "\n",
    "        if xy == \"y\":\n",
    "\n",
    "            self.a_P = (rho*dx*dy/(dt**2))+((4*mu+2*Lambda)*Sfy)/dy + ((2*mu)*Sfx)/dx \n",
    "            self.a_N = + A.coef(xy, \"N\", \"v\")*(Sfy)/dy\n",
    "            self.a_S = - A.coef(xy, \"S\", \"v\")*(Sfy)/dy\n",
    "            self.a_E = + A.coef(xy, \"E\", \"v\")*(Sfx)/dx\n",
    "            self.a_W = - A.coef(xy, \"W\", \"v\")*(Sfx)/dx\n",
    "\n",
    "    def createMatrix(self):\n",
    "\n",
    "        A_no_boundary = np.zeros([(ny+2)*(nx+2), (ny+2)*(nx+2)])\n",
    "        # A_no_boundary = csr_matrix(A_no_boundary)  \n",
    "\n",
    "        for j in np.arange(2, ny):     \n",
    "\n",
    "            for k in np.arange((j*(nx+2)+2), (j*(nx+2)+nx)):  \n",
    "                \n",
    "                A_no_boundary[k,k] = self.a_P\n",
    "                A_no_boundary[k,index(k).n] = -self.a_N\n",
    "                A_no_boundary[k,index(k).s] = -self.a_S\n",
    "                A_no_boundary[k, index(k).e] = -self.a_E\n",
    "                A_no_boundary[k, index(k).w] = -self.a_W\n",
    "\n",
    "        return A_no_boundary\n",
    "\n",
    "    # b temporal term\n",
    "    def b_temp(u_old, u_old_old, k, xy):\n",
    "\n",
    "        if xy == \"x\":\n",
    "            b_temporal_term = (rho/(dt**2))*( 2*(u_old[k,0])*dx*dy - u_old_old[k,0]*dx*dy)\n",
    "        if xy == \"y\":\n",
    "            b_temporal_term = (rho/(dt**2))*( 2*(u_old[k,1])*dx*dy - u_old_old[k,1]*dx*dy)\n",
    "        \n",
    "        return b_temporal_term\n",
    "    \n",
    "    def b_diff(k, xy, u_previous):\n",
    "\n",
    "        if xy == \"x\":\n",
    "            uv = \"v\"\n",
    "        if xy == \"y\":\n",
    "            uv = \"u\"\n",
    "\n",
    "        b_diffusion = (\n",
    "                                Sfy*A.coef(xy, \"N\", uv)*(\n",
    "                                    (A.corner(\"NE\", uv, u_previous, k) - A.corner(\"NW\", uv, u_previous, k))\n",
    "                                    /dx)\n",
    "                                + \n",
    "                                Sfy*A.coef(xy, \"S\", uv)*(\n",
    "                                    (A.corner(\"SE\", uv, u_previous, k) - A.corner(\"SW\", uv, u_previous, k))\n",
    "                                    /dx)\n",
    "                                +\n",
    "                                Sfx*A.coef(xy, \"E\", uv)*(\n",
    "                                    (A.corner(\"NE\", uv, u_previous, k) - A.corner(\"SE\", uv, u_previous, k))\n",
    "                                    /dy)\n",
    "                                +\n",
    "                                Sfx*A.coef(xy, \"W\", uv)*(\n",
    "                                    (A.corner(\"NW\", uv, u_previous, k) - A.corner(\"SW\", uv, u_previous, k))\n",
    "                                    /dy)\n",
    "        )\n",
    "\n",
    "        return b_diffusion\n",
    "    \n",
    "    def corner(corner_placement, uv, u_previous, k):\n",
    "        if uv == \"u\":\n",
    "            uv_i = 0\n",
    "        elif uv == \"v\":\n",
    "            uv_i = 1\n",
    "\n",
    "        disp = displacement(k, u_previous, uv_i)\n",
    "\n",
    "        if corner_placement == \"NE\":\n",
    "            return (1/4)*(disp.P + disp.NE + disp.N + disp.E)\n",
    "        if corner_placement == \"SE\":\n",
    "            return (1/4)*(disp.P + disp.SE + disp.S + disp.E)\n",
    "        if corner_placement == \"SW\":\n",
    "            return (1/4)*(disp.P + disp.SW + disp.S + disp.W)\n",
    "        if corner_placement == \"NW\":\n",
    "            return (1/4)*(disp.P + disp.NW + disp.N + disp.W)\n",
    "\n",
    "\n",
    "    \n",
    "    def coef(xy, face, uv):\n",
    "        # could have and statements\n",
    "        if xy == \"x\":\n",
    "            if face == \"N\":\n",
    "                if uv == \"u\":\n",
    "                    return mu\n",
    "                if uv == \"v\":\n",
    "                    return mu\n",
    "            if face == \"S\":\n",
    "                if uv == \"u\":\n",
    "                    return - mu\n",
    "                if uv == \"v\":\n",
    "                    return - mu\n",
    "            if face == \"E\":\n",
    "                if uv == \"u\":\n",
    "                    return 2*mu + Lambda\n",
    "                if uv == \"v\":\n",
    "                    return Lambda\n",
    "            if face == \"W\":\n",
    "                if uv == \"u\":\n",
    "                    return - (2*mu + Lambda)\n",
    "                if uv == \"v\":\n",
    "                    return - Lambda\n",
    "\n",
    "        elif xy == \"y\":\n",
    "            if face == \"N\":\n",
    "                if uv == \"u\":\n",
    "                    return Lambda\n",
    "                if uv == \"v\":\n",
    "                    return 2*mu + Lambda\n",
    "            if face == \"S\":\n",
    "                if uv == \"u\":\n",
    "                    return - Lambda\n",
    "                if uv == \"v\":\n",
    "                    return - (2*mu + Lambda)\n",
    "            if face == \"E\":\n",
    "                if uv == \"u\":\n",
    "                    return mu\n",
    "                if uv == \"v\":\n",
    "                    return mu\n",
    "            if face == \"W\":\n",
    "                if uv == \"u\":\n",
    "                    return - mu\n",
    "                if uv == \"v\":\n",
    "                    return - mu\n",
    "\n",
    "u_previous = u_new\n",
    "\n",
    "# A.b_diff(25, \"x\", u_previous)"
   ]
  },
  {
   "cell_type": "code",
   "execution_count": 51,
   "metadata": {},
   "outputs": [],
   "source": [
    "class boundaryCellTraction(A):\n",
    "\n",
    "    def __init__(self, edges, xy):\n",
    "        \n",
    "        sw_S, sw_N, sw_W, sw_E = 1, 1, 1, 1\n",
    "\n",
    "        for edge in edges:\n",
    "            if edge == \"b\": sw_S = 0\n",
    "            if edge == \"t\": sw_N = 0\n",
    "            if edge == \"l\": sw_W = 0\n",
    "            if edge == \"r\": sw_E = 0\n",
    "        \n",
    "        self.a_P = (rho*dx*dy/(dt**2)) + A(xy).a_N*sw_N + A(xy).a_S**sw_S + A(xy).a_E*sw_E + A(xy).a_W*sw_W\n",
    "        \n",
    "        self.a_N = A(xy).a_N \n",
    "        self.a_S = A(xy).a_S \n",
    "        self.a_E = A(xy).a_E \n",
    "        self.a_W = A(xy).a_W \n",
    "\n",
    "        # self.a_faces = A(xy).a_N*sw_N + A(xy).a_S*sw_S + A(xy).a_E*sw_E + A(xy).a_W*sw_W \n",
    "\n",
    "    def b_temp(u_old, u_old_old, k, xy):      \n",
    "        return A.b_temp(u_old, u_old_old, k, xy)\n",
    "    \n",
    "    def b_diff(edges, k, xy, u_previous):\n",
    "\n",
    "        if xy == \"x\":\n",
    "            uv = \"v\"\n",
    "        if xy == \"y\":\n",
    "            uv = \"u\"\n",
    "            \n",
    "        N_term =(\n",
    "                    Sfy*A.coef(xy, \"N\", uv)*(\n",
    "                    (boundaryCellTraction.corner(edges, \"NE\", uv, u_previous, k) - boundaryCellTraction.corner(edges, \"NW\", uv, u_previous, k))\n",
    "                    /dx)\n",
    "                )\n",
    "        S_term =(\n",
    "                    Sfy*A.coef(xy, \"S\", uv)*(\n",
    "                        (boundaryCellTraction.corner(edges, \"SE\", uv, u_previous, k) - boundaryCellTraction.corner(edges, \"SW\", uv, u_previous, k))\n",
    "                        /dx)\n",
    "                ) \n",
    "        E_term =(\n",
    "                    Sfx*A.coef(xy, \"E\", uv)*(\n",
    "                        (boundaryCellTraction.corner(edges, \"NE\", uv, u_previous, k) - boundaryCellTraction.corner(edges, \"SE\", uv, u_previous, k))\n",
    "                        /dy)\n",
    "                ) \n",
    "        W_term =(\n",
    "                    Sfx*A.coef(xy, \"W\", uv)*(\n",
    "                        (boundaryCellTraction.corner(edges, \"NW\", uv, u_previous, k) - boundaryCellTraction.corner(edges, \"SW\", uv, u_previous, k))\n",
    "                        /dy)\n",
    "                )\n",
    "\n",
    "        for edge in edges:\n",
    "\n",
    "            if (edge == \"b\") & (xy == \"x\") : S_term =  Sfy*tr_bottom_x  \n",
    "            if (edge == \"b\") & (xy == \"y\") : S_term =  Sfy*tr_bottom_y  \n",
    "            if (edge == \"t\") & (xy == \"x\") : N_term =  Sfy*tr_top_x  \n",
    "            if (edge == \"t\") & (xy == \"y\") : N_term =  Sfy*tr_top_y  \n",
    "            if (edge == \"l\") & (xy == \"x\") : W_term =  Sfx*tr_left_x  \n",
    "            if (edge == \"l\") & (xy == \"y\") : W_term =  Sfx*tr_left_y  \n",
    "            if (edge == \"r\") & (xy == \"x\") : E_term =  Sfx*tr_right_x  \n",
    "            if (edge == \"r\") & (xy == \"y\") : E_term =  Sfx*tr_right_y        \n",
    "\n",
    "        b_diffusion = (N_term + S_term + E_term + W_term)\n",
    "\n",
    "        return b_diffusion\n",
    "    \n",
    "    def corner(edges, corner_placement, uv, u_previous, k):\n",
    "\n",
    "        if uv == \"u\":\n",
    "            uv_i = 0\n",
    "        elif uv == \"v\":\n",
    "            uv_i = 1\n",
    "\n",
    "        disp = displacement(k, u_previous, uv_i)\n",
    "\n",
    "        if corner_placement == \"NE\":\n",
    "            corner =  (1/4)*(disp.P + disp.NE + disp.N + disp.E)\n",
    "        if corner_placement == \"SE\":\n",
    "            corner =  (1/4)*(disp.P + disp.SE + disp.S + disp.E)\n",
    "        if corner_placement == \"SW\":\n",
    "            corner =  (1/4)*(disp.P + disp.SW + disp.S + disp.W)\n",
    "        if corner_placement == \"NW\":\n",
    "            corner =  (1/4)*(disp.P + disp.NW + disp.N + disp.W)\n",
    "\n",
    "        for edge in edges:\n",
    "            if (edge == \"b\") & (corner_placement == \"SE\"):\n",
    "                corner =  (1/2)*(disp.SE + disp.S)\n",
    "            if (edge == \"b\") & (corner_placement == \"SW\"):\n",
    "                corner =  (1/2)*(disp.SW + disp.S)\n",
    "\n",
    "            if (edge == \"t\") & (corner_placement == \"NE\"):\n",
    "                corner =  (1/2)*(disp.NE + disp.N)\n",
    "            if (edge == \"t\") & (corner_placement == \"NW\"):\n",
    "                corner =  (1/2)*(disp.NW + disp.N)\n",
    "\n",
    "            if (edge == \"l\") & (corner_placement == \"NW\"):\n",
    "                corner =  (1/2)*(disp.NW + disp.W)\n",
    "            if (edge == \"l\") & (corner_placement == \"SW\"):\n",
    "                corner =  (1/2)*(disp.SW + disp.W)\n",
    "\n",
    "            if (edge == \"r\") & (corner_placement == \"NE\"):\n",
    "                corner =  (1/2)*(disp.NE + disp.E)\n",
    "            if (edge == \"r\") & (corner_placement == \"SE\"):\n",
    "                corner =  (1/2)*(disp.SE + disp.E)\n",
    "        \n",
    "        return corner\n",
    "\n",
    "# boundaryCellTraction.b_diff([\"b\", \"l\"], 14, \"x\", u_previous)\n",
    "   "
   ]
  },
  {
   "cell_type": "code",
   "execution_count": 52,
   "metadata": {},
   "outputs": [],
   "source": [
    "class boundaryPointTraction(A):\n",
    "\n",
    "    def __init__(self, edges, xy):    # The order matters for edges, bottom left corner on the bottom is : [\"b\", \"l\"]\n",
    "        \n",
    "        sw_S, sw_N, sw_W, sw_E = 0, 0, 0, 0\n",
    "\n",
    "        if edges[0] == \"b\": sw_S = 1\n",
    "        if edges[0] == \"t\": sw_N = 1\n",
    "        if edges[0] == \"l\": sw_W = 1\n",
    "        if edges[0] == \"r\": sw_E = 1\n",
    "        \n",
    "        a_P = (A(xy).a_N*sw_N + A(xy).a_S**sw_S + A(xy).a_E*sw_E + A(xy).a_W*sw_W)*2/(Sfy)\n",
    "        \n",
    "        a_N = A(xy).a_N*2/(Sfy) # are terms cancel in derivation\n",
    "        a_S = A(xy).a_S*2/(Sfy)\n",
    "        a_E = A(xy).a_E*2/(Sfx)\n",
    "        a_W = A(xy).a_W*2/(Sfx)\n",
    "\n",
    "        if edges[0] == \"b\":\n",
    "            self.a_N = a_P\n",
    "            self.a_P = a_S\n",
    "        if edges[0] == \"t\":\n",
    "            self.a_S = a_P\n",
    "            self.a_P = a_N\n",
    "        if edges[0] == \"l\":\n",
    "            self.a_E = a_P\n",
    "            self.a_P = a_W\n",
    "        if edges[0] == \"r\":\n",
    "            self.a_W = a_P\n",
    "            self.a_P = a_E\n",
    "    \n",
    "    def b_diff(edges, k, xy, u_previous):\n",
    "\n",
    "        if xy == \"x\":\n",
    "            uv = \"v\"\n",
    "        if xy == \"y\":\n",
    "            uv = \"u\"\n",
    "            \n",
    "        def N_term():\n",
    "            \n",
    "            N_term =( A.coef(xy, \"N\", uv)*(\n",
    "                    (boundaryPointTraction.corner(edges, \"E\", uv, u_previous, k) - boundaryPointTraction.corner(edges, \"W\", uv, u_previous, k))\n",
    "                    /dx)\n",
    "            )\n",
    "\n",
    "            return N_term\n",
    "\n",
    "        def S_term():\n",
    "            \n",
    "            S_term =(\n",
    "                    A.coef(xy, \"S\", uv)*(\n",
    "                        (boundaryPointTraction.corner(edges, \"E\", uv, u_previous, k) - boundaryPointTraction.corner(edges, \"W\", uv, u_previous, k))\n",
    "                        /dx)\n",
    "                ) \n",
    "            return S_term\n",
    "        def E_term():\n",
    "            \n",
    "            E_term =(\n",
    "                    A.coef(xy, \"E\", uv)*(\n",
    "                        (boundaryPointTraction.corner(edges, \"N\", uv, u_previous, k) - boundaryPointTraction.corner(edges, \"S\", uv, u_previous, k))\n",
    "                        /dy)\n",
    "                ) \n",
    "            return E_term\n",
    "        def W_term():\n",
    "            \n",
    "            W_term =(\n",
    "                        A.coef(xy, \"W\", uv)*(\n",
    "                        (boundaryPointTraction.corner(edges, \"N\", uv, u_previous, k) - boundaryPointTraction.corner(edges, \"S\", uv, u_previous, k))\n",
    "                        /dy)\n",
    "                )\n",
    "                \n",
    "            return W_term\n",
    "\n",
    "        # This can be tidied up/shortened\n",
    "\n",
    "        if (edges[0] == \"b\") & (xy == \"x\") : b_diffusion =  tr_bottom_x  + N_term()\n",
    "        if (edges[0] == \"b\") & (xy == \"y\") : b_diffusion =  tr_bottom_y  + N_term()\n",
    "        if (edges[0] == \"t\") & (xy == \"x\") : b_diffusion =  tr_top_x + S_term()\n",
    "        if (edges[0] == \"t\") & (xy == \"y\") : b_diffusion =  tr_top_y + S_term()\n",
    "        if (edges[0] == \"l\") & (xy == \"x\") : b_diffusion =  tr_left_x + E_term()\n",
    "        if (edges[0] == \"l\") & (xy == \"y\") : b_diffusion =  tr_left_y + E_term()\n",
    "        if (edges[0] == \"r\") & (xy == \"x\") : b_diffusion =  tr_right_x + W_term()\n",
    "        if (edges[0] == \"r\") & (xy == \"y\") : b_diffusion =  tr_right_y + W_term()  \n",
    "\n",
    "        return b_diffusion\n",
    "    \n",
    "    def corner(edges, corner_placement, uv, u_previous, k):\n",
    "\n",
    "        if uv == \"u\":\n",
    "            uv_i = 0\n",
    "        elif uv == \"v\":\n",
    "            uv_i = 1\n",
    "\n",
    "        disp = displacement(k, u_previous, uv_i)\n",
    "\n",
    "\n",
    "        if corner_placement == \"E\":\n",
    "            corner =  (1/2)*(disp.E + disp.P)\n",
    "        if corner_placement == \"W\":\n",
    "            corner =  (1/2)*(disp.W + disp.P)\n",
    "        if  corner_placement == \"N\":\n",
    "            corner =  (1/2)*(disp.N + disp.P)\n",
    "        if  corner_placement == \"S\":\n",
    "            corner =  (1/2)*(disp.S + disp.P)\n",
    "\n",
    "        if len(edges) > 1:\n",
    "\n",
    "            if (edges[1] == \"r\") & (corner_placement == \"E\"):\n",
    "                    corner =  disp.E\n",
    "            if (edges[1] == \"l\") & (corner_placement == \"W\"):\n",
    "                    corner =  disp.W\n",
    "            if (edges[1] == \"t\") & (corner_placement == \"N\"):\n",
    "                    corner =  disp.N\n",
    "            if (edges[1] == \"b\") & (corner_placement == \"S\"):\n",
    "                    corner =  disp.S\n",
    "        \n",
    "        return corner\n",
    "# boundaryCellTraction.b_diff([\"b\", \"l\"], 14, \"x\", u_previous)\n",
    "   "
   ]
  },
  {
   "cell_type": "code",
   "execution_count": 53,
   "metadata": {},
   "outputs": [
    {
     "name": "stdout",
     "output_type": "stream",
     "text": [
      "\n",
      "Time = 0.0\n"
     ]
    },
    {
     "name": "stderr",
     "output_type": "stream",
     "text": [
      "/home/scottlevie/miniconda3/lib/python3.9/site-packages/scipy/sparse/linalg/dsolve/linsolve.py:144: SparseEfficiencyWarning:\n",
      "\n",
      "spsolve requires A be CSC or CSR matrix format\n",
      "\n"
     ]
    },
    {
     "name": "stdout",
     "output_type": "stream",
     "text": [
      "icorr = 1, Residual = 0.62702730808459339329, normFactor = 0.00000000000000000000\n",
      "icorr = 2, Residual = 0.43409580678435932821, normFactor = 0.00000000000000000000\n",
      "icorr = 3, Residual = 0.13839021583829017037, normFactor = 0.00000000000000000000\n",
      "icorr = 4, Residual = 0.06223320187506343332, normFactor = 0.00000000000000000000\n",
      "icorr = 5, Residual = 0.02446566309251696145, normFactor = 0.00000000000000000000\n",
      "icorr = 6, Residual = 0.01017103131836350795, normFactor = 0.00000000000000000000\n",
      "icorr = 7, Residual = 0.00413344731112856752, normFactor = 0.00000000000000000000\n",
      "icorr = 8, Residual = 0.00169552815383358342, normFactor = 0.00000000000000000000\n",
      "icorr = 9, Residual = 0.00069285869490330783, normFactor = 0.00000000000000000000\n",
      "icorr = 10, Residual = 0.00028357038002068741, normFactor = 0.00000000000000000000\n",
      "icorr = 11, Residual = 0.00011598460937569059, normFactor = 0.00000000000000000000\n",
      "icorr = 12, Residual = 0.00004745184334257864, normFactor = 0.00000000000000000000\n",
      "icorr = 13, Residual = 0.00001941151984990777, normFactor = 0.00000000000000000000\n",
      "icorr = 14, Residual = 0.00000794118137884437, normFactor = 0.00000000000000000000\n",
      "icorr = 15, Residual = 0.00000324865249828634, normFactor = 0.00000000000000000000\n",
      "icorr = 16, Residual = 0.00000132900458185636, normFactor = 0.00000000000000000000\n",
      "icorr = 17, Residual = 0.00000054372719441409, normFactor = 0.00000000000000000000\n",
      "\n",
      "Time = 0.001\n",
      "icorr = 1, Residual = 0.00003343791146684904, normFactor = 0.00000000000000000000\n",
      "icorr = 2, Residual = 0.00000007876342077514, normFactor = 0.00000000000000000000\n",
      "\n",
      "Time = 0.002\n",
      "icorr = 1, Residual = 0.00005015142080608844, normFactor = 0.00000000000000000000\n",
      "icorr = 2, Residual = 0.00000001983589984912, normFactor = 0.00000000000000000000\n",
      "\n",
      "Time = 0.003\n",
      "icorr = 1, Residual = 0.00006686262341213844, normFactor = 0.00000000000000000000\n",
      "icorr = 2, Residual = 0.00000000942876285969, normFactor = 0.00000000000000000000\n",
      "\n",
      "Time = 0.004\n",
      "icorr = 1, Residual = 0.00008355447919752360, normFactor = 0.00000000000000000000\n",
      "icorr = 2, Residual = 0.00000000204306731440, normFactor = 0.00000000000000000000\n",
      "\n",
      "Time = 0.005\n",
      "icorr = 1, Residual = 0.00010024529800275106, normFactor = 0.00000000000000000000\n",
      "icorr = 2, Residual = 0.00000000319250526521, normFactor = 0.00000000000000000000\n",
      "\n",
      "Time = 0.006\n",
      "icorr = 1, Residual = 0.00011692309079724873, normFactor = 0.00000000000000000000\n",
      "icorr = 2, Residual = 0.00000000401936017166, normFactor = 0.00000000000000000000\n",
      "\n",
      "Time = 0.007\n",
      "icorr = 1, Residual = 0.00013359465551978058, normFactor = 0.00000000000000000000\n",
      "icorr = 2, Residual = 0.00000000108013356784, normFactor = 0.00000000000000000000\n",
      "\n",
      "Time = 0.008\n",
      "icorr = 1, Residual = 0.00015025073580163495, normFactor = 0.00000000000000000000\n",
      "icorr = 2, Residual = 0.00000000459130850964, normFactor = 0.00000000000000000000\n",
      "\n",
      "Time = 0.009000000000000001\n",
      "icorr = 1, Residual = 0.00016688815700052756, normFactor = 0.00000000000000000000\n",
      "icorr = 2, Residual = 0.00000000424861315900, normFactor = 0.00000000000000000000\n"
     ]
    },
    {
     "data": {
      "application/vnd.plotly.v1+json": {
       "config": {
        "plotlyServerURL": "https://plot.ly"
       },
       "data": [
        {
         "type": "surface",
         "x": [
          [
           0,
           0.00025,
           0.00075,
           0.00125,
           0.00175,
           0.0022500000000000003,
           0.00275,
           0.0032500000000000003,
           0.00375,
           0.00425,
           0.004750000000000001,
           0.00525,
           0.00575,
           0.00625,
           0.006750000000000001,
           0.00725,
           0.00775,
           0.00825,
           0.00875,
           0.009250000000000001,
           0.00975,
           0.01
          ],
          [
           0,
           0.00025,
           0.00075,
           0.00125,
           0.00175,
           0.0022500000000000003,
           0.00275,
           0.0032500000000000003,
           0.00375,
           0.00425,
           0.004750000000000001,
           0.00525,
           0.00575,
           0.00625,
           0.006750000000000001,
           0.00725,
           0.00775,
           0.00825,
           0.00875,
           0.009250000000000001,
           0.00975,
           0.01
          ],
          [
           0,
           0.00025,
           0.00075,
           0.00125,
           0.00175,
           0.0022500000000000003,
           0.00275,
           0.0032500000000000003,
           0.00375,
           0.00425,
           0.004750000000000001,
           0.00525,
           0.00575,
           0.00625,
           0.006750000000000001,
           0.00725,
           0.00775,
           0.00825,
           0.00875,
           0.009250000000000001,
           0.00975,
           0.01
          ],
          [
           0,
           0.00025,
           0.00075,
           0.00125,
           0.00175,
           0.0022500000000000003,
           0.00275,
           0.0032500000000000003,
           0.00375,
           0.00425,
           0.004750000000000001,
           0.00525,
           0.00575,
           0.00625,
           0.006750000000000001,
           0.00725,
           0.00775,
           0.00825,
           0.00875,
           0.009250000000000001,
           0.00975,
           0.01
          ],
          [
           0,
           0.00025,
           0.00075,
           0.00125,
           0.00175,
           0.0022500000000000003,
           0.00275,
           0.0032500000000000003,
           0.00375,
           0.00425,
           0.004750000000000001,
           0.00525,
           0.00575,
           0.00625,
           0.006750000000000001,
           0.00725,
           0.00775,
           0.00825,
           0.00875,
           0.009250000000000001,
           0.00975,
           0.01
          ],
          [
           0,
           0.00025,
           0.00075,
           0.00125,
           0.00175,
           0.0022500000000000003,
           0.00275,
           0.0032500000000000003,
           0.00375,
           0.00425,
           0.004750000000000001,
           0.00525,
           0.00575,
           0.00625,
           0.006750000000000001,
           0.00725,
           0.00775,
           0.00825,
           0.00875,
           0.009250000000000001,
           0.00975,
           0.01
          ],
          [
           0,
           0.00025,
           0.00075,
           0.00125,
           0.00175,
           0.0022500000000000003,
           0.00275,
           0.0032500000000000003,
           0.00375,
           0.00425,
           0.004750000000000001,
           0.00525,
           0.00575,
           0.00625,
           0.006750000000000001,
           0.00725,
           0.00775,
           0.00825,
           0.00875,
           0.009250000000000001,
           0.00975,
           0.01
          ],
          [
           0,
           0.00025,
           0.00075,
           0.00125,
           0.00175,
           0.0022500000000000003,
           0.00275,
           0.0032500000000000003,
           0.00375,
           0.00425,
           0.004750000000000001,
           0.00525,
           0.00575,
           0.00625,
           0.006750000000000001,
           0.00725,
           0.00775,
           0.00825,
           0.00875,
           0.009250000000000001,
           0.00975,
           0.01
          ],
          [
           0,
           0.00025,
           0.00075,
           0.00125,
           0.00175,
           0.0022500000000000003,
           0.00275,
           0.0032500000000000003,
           0.00375,
           0.00425,
           0.004750000000000001,
           0.00525,
           0.00575,
           0.00625,
           0.006750000000000001,
           0.00725,
           0.00775,
           0.00825,
           0.00875,
           0.009250000000000001,
           0.00975,
           0.01
          ],
          [
           0,
           0.00025,
           0.00075,
           0.00125,
           0.00175,
           0.0022500000000000003,
           0.00275,
           0.0032500000000000003,
           0.00375,
           0.00425,
           0.004750000000000001,
           0.00525,
           0.00575,
           0.00625,
           0.006750000000000001,
           0.00725,
           0.00775,
           0.00825,
           0.00875,
           0.009250000000000001,
           0.00975,
           0.01
          ],
          [
           0,
           0.00025,
           0.00075,
           0.00125,
           0.00175,
           0.0022500000000000003,
           0.00275,
           0.0032500000000000003,
           0.00375,
           0.00425,
           0.004750000000000001,
           0.00525,
           0.00575,
           0.00625,
           0.006750000000000001,
           0.00725,
           0.00775,
           0.00825,
           0.00875,
           0.009250000000000001,
           0.00975,
           0.01
          ],
          [
           0,
           0.00025,
           0.00075,
           0.00125,
           0.00175,
           0.0022500000000000003,
           0.00275,
           0.0032500000000000003,
           0.00375,
           0.00425,
           0.004750000000000001,
           0.00525,
           0.00575,
           0.00625,
           0.006750000000000001,
           0.00725,
           0.00775,
           0.00825,
           0.00875,
           0.009250000000000001,
           0.00975,
           0.01
          ],
          [
           0,
           0.00025,
           0.00075,
           0.00125,
           0.00175,
           0.0022500000000000003,
           0.00275,
           0.0032500000000000003,
           0.00375,
           0.00425,
           0.004750000000000001,
           0.00525,
           0.00575,
           0.00625,
           0.006750000000000001,
           0.00725,
           0.00775,
           0.00825,
           0.00875,
           0.009250000000000001,
           0.00975,
           0.01
          ],
          [
           0,
           0.00025,
           0.00075,
           0.00125,
           0.00175,
           0.0022500000000000003,
           0.00275,
           0.0032500000000000003,
           0.00375,
           0.00425,
           0.004750000000000001,
           0.00525,
           0.00575,
           0.00625,
           0.006750000000000001,
           0.00725,
           0.00775,
           0.00825,
           0.00875,
           0.009250000000000001,
           0.00975,
           0.01
          ],
          [
           0,
           0.00025,
           0.00075,
           0.00125,
           0.00175,
           0.0022500000000000003,
           0.00275,
           0.0032500000000000003,
           0.00375,
           0.00425,
           0.004750000000000001,
           0.00525,
           0.00575,
           0.00625,
           0.006750000000000001,
           0.00725,
           0.00775,
           0.00825,
           0.00875,
           0.009250000000000001,
           0.00975,
           0.01
          ],
          [
           0,
           0.00025,
           0.00075,
           0.00125,
           0.00175,
           0.0022500000000000003,
           0.00275,
           0.0032500000000000003,
           0.00375,
           0.00425,
           0.004750000000000001,
           0.00525,
           0.00575,
           0.00625,
           0.006750000000000001,
           0.00725,
           0.00775,
           0.00825,
           0.00875,
           0.009250000000000001,
           0.00975,
           0.01
          ],
          [
           0,
           0.00025,
           0.00075,
           0.00125,
           0.00175,
           0.0022500000000000003,
           0.00275,
           0.0032500000000000003,
           0.00375,
           0.00425,
           0.004750000000000001,
           0.00525,
           0.00575,
           0.00625,
           0.006750000000000001,
           0.00725,
           0.00775,
           0.00825,
           0.00875,
           0.009250000000000001,
           0.00975,
           0.01
          ],
          [
           0,
           0.00025,
           0.00075,
           0.00125,
           0.00175,
           0.0022500000000000003,
           0.00275,
           0.0032500000000000003,
           0.00375,
           0.00425,
           0.004750000000000001,
           0.00525,
           0.00575,
           0.00625,
           0.006750000000000001,
           0.00725,
           0.00775,
           0.00825,
           0.00875,
           0.009250000000000001,
           0.00975,
           0.01
          ],
          [
           0,
           0.00025,
           0.00075,
           0.00125,
           0.00175,
           0.0022500000000000003,
           0.00275,
           0.0032500000000000003,
           0.00375,
           0.00425,
           0.004750000000000001,
           0.00525,
           0.00575,
           0.00625,
           0.006750000000000001,
           0.00725,
           0.00775,
           0.00825,
           0.00875,
           0.009250000000000001,
           0.00975,
           0.01
          ],
          [
           0,
           0.00025,
           0.00075,
           0.00125,
           0.00175,
           0.0022500000000000003,
           0.00275,
           0.0032500000000000003,
           0.00375,
           0.00425,
           0.004750000000000001,
           0.00525,
           0.00575,
           0.00625,
           0.006750000000000001,
           0.00725,
           0.00775,
           0.00825,
           0.00875,
           0.009250000000000001,
           0.00975,
           0.01
          ],
          [
           0,
           0.00025,
           0.00075,
           0.00125,
           0.00175,
           0.0022500000000000003,
           0.00275,
           0.0032500000000000003,
           0.00375,
           0.00425,
           0.004750000000000001,
           0.00525,
           0.00575,
           0.00625,
           0.006750000000000001,
           0.00725,
           0.00775,
           0.00825,
           0.00875,
           0.009250000000000001,
           0.00975,
           0.01
          ],
          [
           0,
           0.00025,
           0.00075,
           0.00125,
           0.00175,
           0.0022500000000000003,
           0.00275,
           0.0032500000000000003,
           0.00375,
           0.00425,
           0.004750000000000001,
           0.00525,
           0.00575,
           0.00625,
           0.006750000000000001,
           0.00725,
           0.00775,
           0.00825,
           0.00875,
           0.009250000000000001,
           0.00975,
           0.01
          ]
         ],
         "y": [
          [
           0,
           0,
           0,
           0,
           0,
           0,
           0,
           0,
           0,
           0,
           0,
           0,
           0,
           0,
           0,
           0,
           0,
           0,
           0,
           0,
           0,
           0
          ],
          [
           0.00025,
           0.00025,
           0.00025,
           0.00025,
           0.00025,
           0.00025,
           0.00025,
           0.00025,
           0.00025,
           0.00025,
           0.00025,
           0.00025,
           0.00025,
           0.00025,
           0.00025,
           0.00025,
           0.00025,
           0.00025,
           0.00025,
           0.00025,
           0.00025,
           0.00025
          ],
          [
           0.00075,
           0.00075,
           0.00075,
           0.00075,
           0.00075,
           0.00075,
           0.00075,
           0.00075,
           0.00075,
           0.00075,
           0.00075,
           0.00075,
           0.00075,
           0.00075,
           0.00075,
           0.00075,
           0.00075,
           0.00075,
           0.00075,
           0.00075,
           0.00075,
           0.00075
          ],
          [
           0.00125,
           0.00125,
           0.00125,
           0.00125,
           0.00125,
           0.00125,
           0.00125,
           0.00125,
           0.00125,
           0.00125,
           0.00125,
           0.00125,
           0.00125,
           0.00125,
           0.00125,
           0.00125,
           0.00125,
           0.00125,
           0.00125,
           0.00125,
           0.00125,
           0.00125
          ],
          [
           0.00175,
           0.00175,
           0.00175,
           0.00175,
           0.00175,
           0.00175,
           0.00175,
           0.00175,
           0.00175,
           0.00175,
           0.00175,
           0.00175,
           0.00175,
           0.00175,
           0.00175,
           0.00175,
           0.00175,
           0.00175,
           0.00175,
           0.00175,
           0.00175,
           0.00175
          ],
          [
           0.0022500000000000003,
           0.0022500000000000003,
           0.0022500000000000003,
           0.0022500000000000003,
           0.0022500000000000003,
           0.0022500000000000003,
           0.0022500000000000003,
           0.0022500000000000003,
           0.0022500000000000003,
           0.0022500000000000003,
           0.0022500000000000003,
           0.0022500000000000003,
           0.0022500000000000003,
           0.0022500000000000003,
           0.0022500000000000003,
           0.0022500000000000003,
           0.0022500000000000003,
           0.0022500000000000003,
           0.0022500000000000003,
           0.0022500000000000003,
           0.0022500000000000003,
           0.0022500000000000003
          ],
          [
           0.00275,
           0.00275,
           0.00275,
           0.00275,
           0.00275,
           0.00275,
           0.00275,
           0.00275,
           0.00275,
           0.00275,
           0.00275,
           0.00275,
           0.00275,
           0.00275,
           0.00275,
           0.00275,
           0.00275,
           0.00275,
           0.00275,
           0.00275,
           0.00275,
           0.00275
          ],
          [
           0.0032500000000000003,
           0.0032500000000000003,
           0.0032500000000000003,
           0.0032500000000000003,
           0.0032500000000000003,
           0.0032500000000000003,
           0.0032500000000000003,
           0.0032500000000000003,
           0.0032500000000000003,
           0.0032500000000000003,
           0.0032500000000000003,
           0.0032500000000000003,
           0.0032500000000000003,
           0.0032500000000000003,
           0.0032500000000000003,
           0.0032500000000000003,
           0.0032500000000000003,
           0.0032500000000000003,
           0.0032500000000000003,
           0.0032500000000000003,
           0.0032500000000000003,
           0.0032500000000000003
          ],
          [
           0.00375,
           0.00375,
           0.00375,
           0.00375,
           0.00375,
           0.00375,
           0.00375,
           0.00375,
           0.00375,
           0.00375,
           0.00375,
           0.00375,
           0.00375,
           0.00375,
           0.00375,
           0.00375,
           0.00375,
           0.00375,
           0.00375,
           0.00375,
           0.00375,
           0.00375
          ],
          [
           0.00425,
           0.00425,
           0.00425,
           0.00425,
           0.00425,
           0.00425,
           0.00425,
           0.00425,
           0.00425,
           0.00425,
           0.00425,
           0.00425,
           0.00425,
           0.00425,
           0.00425,
           0.00425,
           0.00425,
           0.00425,
           0.00425,
           0.00425,
           0.00425,
           0.00425
          ],
          [
           0.004750000000000001,
           0.004750000000000001,
           0.004750000000000001,
           0.004750000000000001,
           0.004750000000000001,
           0.004750000000000001,
           0.004750000000000001,
           0.004750000000000001,
           0.004750000000000001,
           0.004750000000000001,
           0.004750000000000001,
           0.004750000000000001,
           0.004750000000000001,
           0.004750000000000001,
           0.004750000000000001,
           0.004750000000000001,
           0.004750000000000001,
           0.004750000000000001,
           0.004750000000000001,
           0.004750000000000001,
           0.004750000000000001,
           0.004750000000000001
          ],
          [
           0.00525,
           0.00525,
           0.00525,
           0.00525,
           0.00525,
           0.00525,
           0.00525,
           0.00525,
           0.00525,
           0.00525,
           0.00525,
           0.00525,
           0.00525,
           0.00525,
           0.00525,
           0.00525,
           0.00525,
           0.00525,
           0.00525,
           0.00525,
           0.00525,
           0.00525
          ],
          [
           0.00575,
           0.00575,
           0.00575,
           0.00575,
           0.00575,
           0.00575,
           0.00575,
           0.00575,
           0.00575,
           0.00575,
           0.00575,
           0.00575,
           0.00575,
           0.00575,
           0.00575,
           0.00575,
           0.00575,
           0.00575,
           0.00575,
           0.00575,
           0.00575,
           0.00575
          ],
          [
           0.00625,
           0.00625,
           0.00625,
           0.00625,
           0.00625,
           0.00625,
           0.00625,
           0.00625,
           0.00625,
           0.00625,
           0.00625,
           0.00625,
           0.00625,
           0.00625,
           0.00625,
           0.00625,
           0.00625,
           0.00625,
           0.00625,
           0.00625,
           0.00625,
           0.00625
          ],
          [
           0.006750000000000001,
           0.006750000000000001,
           0.006750000000000001,
           0.006750000000000001,
           0.006750000000000001,
           0.006750000000000001,
           0.006750000000000001,
           0.006750000000000001,
           0.006750000000000001,
           0.006750000000000001,
           0.006750000000000001,
           0.006750000000000001,
           0.006750000000000001,
           0.006750000000000001,
           0.006750000000000001,
           0.006750000000000001,
           0.006750000000000001,
           0.006750000000000001,
           0.006750000000000001,
           0.006750000000000001,
           0.006750000000000001,
           0.006750000000000001
          ],
          [
           0.00725,
           0.00725,
           0.00725,
           0.00725,
           0.00725,
           0.00725,
           0.00725,
           0.00725,
           0.00725,
           0.00725,
           0.00725,
           0.00725,
           0.00725,
           0.00725,
           0.00725,
           0.00725,
           0.00725,
           0.00725,
           0.00725,
           0.00725,
           0.00725,
           0.00725
          ],
          [
           0.00775,
           0.00775,
           0.00775,
           0.00775,
           0.00775,
           0.00775,
           0.00775,
           0.00775,
           0.00775,
           0.00775,
           0.00775,
           0.00775,
           0.00775,
           0.00775,
           0.00775,
           0.00775,
           0.00775,
           0.00775,
           0.00775,
           0.00775,
           0.00775,
           0.00775
          ],
          [
           0.00825,
           0.00825,
           0.00825,
           0.00825,
           0.00825,
           0.00825,
           0.00825,
           0.00825,
           0.00825,
           0.00825,
           0.00825,
           0.00825,
           0.00825,
           0.00825,
           0.00825,
           0.00825,
           0.00825,
           0.00825,
           0.00825,
           0.00825,
           0.00825,
           0.00825
          ],
          [
           0.00875,
           0.00875,
           0.00875,
           0.00875,
           0.00875,
           0.00875,
           0.00875,
           0.00875,
           0.00875,
           0.00875,
           0.00875,
           0.00875,
           0.00875,
           0.00875,
           0.00875,
           0.00875,
           0.00875,
           0.00875,
           0.00875,
           0.00875,
           0.00875,
           0.00875
          ],
          [
           0.009250000000000001,
           0.009250000000000001,
           0.009250000000000001,
           0.009250000000000001,
           0.009250000000000001,
           0.009250000000000001,
           0.009250000000000001,
           0.009250000000000001,
           0.009250000000000001,
           0.009250000000000001,
           0.009250000000000001,
           0.009250000000000001,
           0.009250000000000001,
           0.009250000000000001,
           0.009250000000000001,
           0.009250000000000001,
           0.009250000000000001,
           0.009250000000000001,
           0.009250000000000001,
           0.009250000000000001,
           0.009250000000000001,
           0.009250000000000001
          ],
          [
           0.00975,
           0.00975,
           0.00975,
           0.00975,
           0.00975,
           0.00975,
           0.00975,
           0.00975,
           0.00975,
           0.00975,
           0.00975,
           0.00975,
           0.00975,
           0.00975,
           0.00975,
           0.00975,
           0.00975,
           0.00975,
           0.00975,
           0.00975,
           0.00975,
           0.00975
          ],
          [
           0.01,
           0.01,
           0.01,
           0.01,
           0.01,
           0.01,
           0.01,
           0.01,
           0.01,
           0.01,
           0.01,
           0.01,
           0.01,
           0.01,
           0.01,
           0.01,
           0.01,
           0.01,
           0.01,
           0.01,
           0.01,
           0.01
          ]
         ],
         "z": [
          [
           1.899529086700857e-15,
           1.8525879765904863e-15,
           1.7626467709054247e-15,
           1.678659111206052e-15,
           1.6015619029407725e-15,
           1.5323955073454257e-15,
           1.472278097907516e-15,
           1.4223575320179594e-15,
           1.3837378526521629e-15,
           1.3573839860189401e-15,
           1.3440176601529092e-15,
           1.3440264137170447e-15,
           1.3574099879547333e-15,
           1.3837803636030732e-15,
           1.4224154311071438e-15,
           1.4723500152050103e-15,
           1.532479957637639e-15,
           1.601657397358304e-15,
           1.6787642363146723e-15,
           1.7627602356561483e-15,
           1.8527086334245575e-15,
           1.899652955293406e-15
          ],
          [
           1.852648109999293e-15,
           1.804487871726155e-15,
           1.7120215849090785e-15,
           1.6254201548662487e-15,
           1.545669692127618e-15,
           1.4738827155317318e-15,
           1.411274978800732e-15,
           1.3591156010800175e-15,
           1.3186450292149567e-15,
           1.2909630334411464e-15,
           1.2769016168107093e-15,
           1.2769108304732975e-15,
           1.2909903731671202e-15,
           1.3186896385823183e-15,
           1.3591761941936083e-15,
           1.4113500046002252e-15,
           1.4739705182844856e-15,
           1.545768639455208e-15,
           1.6255287230127648e-15,
           1.7121384046336417e-15,
           1.804611744549766e-15,
           1.8527751128529184e-15
          ],
          [
           1.7628363691494444e-15,
           1.7121517234562942e-15,
           1.6144054484913686e-15,
           1.5222607282489645e-15,
           1.4367956855743209e-15,
           1.35927087222004e-15,
           1.2911173884319114e-15,
           1.2338890801125497e-15,
           1.1891643107640548e-15,
           1.1583922473122054e-15,
           1.1427006536863297e-15,
           1.1427109494099382e-15,
           1.1584227158216547e-15,
           1.1892137771763175e-15,
           1.2339558224606141e-15,
           1.2911993960683092e-15,
           1.359366077881249e-15,
           1.436902130155673e-15,
           1.522376653217741e-15,
           1.6145293312740675e-15,
           1.7122822762301545e-15,
           1.762969841976737e-15
          ],
          [
           1.6789909034837988e-15,
           1.6256942866727926e-15,
           1.522407088037192e-15,
           1.4243230372202968e-15,
           1.3325915472012193e-15,
           1.248613508517606e-15,
           1.174053874529493e-15,
           1.1108108081969523e-15,
           1.0609100563105637e-15,
           1.0262996581012717e-15,
           1.0085549928094345e-15,
           1.0085666579294688e-15,
           1.0263340480162054e-15,
           1.0609655024607534e-15,
           1.1108849451542962e-15,
           1.174144058449982e-15,
           1.2487171510316895e-15,
           1.3327063146967254e-15,
           1.4244469326194912e-15,
           1.5225384563716555e-15,
           1.6258317819126235e-15,
           1.6791310411352374e-15
          ],
          [
           1.6020487471451206e-15,
           1.5461020820017346e-15,
           1.4371057984561627e-15,
           1.332758736083643e-15,
           1.2342406434415345e-15,
           1.1430596781897791e-15,
           1.0611089645027853e-15,
           9.90681778300888e-16,
           9.34387436682955e-16,
           8.948970457369457e-16,
           8.744900844324559e-16,
           8.745035378641066e-16,
           8.949364851022554e-16,
           9.34450390155476e-16,
           9.907649043140835e-16,
           1.0612087467805527e-15,
           1.1431728904811218e-15,
           1.2343645553412598e-15,
           1.3328911426291533e-15,
           1.4372449635953976e-15,
           1.5462466547501713e-15,
           1.6021956146336503e-15
          ],
          [
           1.533049662320581e-15,
           1.4744872759312536e-15,
           1.3597625362062795e-15,
           1.248970346934421e-15,
           1.1432545844374907e-15,
           1.0441582767079313e-15,
           9.537469860830172e-16,
           8.747179344060343e-16,
           8.104078977558032e-16,
           7.645402549131466e-16,
           7.40549786769646e-16,
           7.405656734218065e-16,
           7.645864184518549e-16,
           8.10480481304517e-16,
           8.7481207955446845e-16,
           9.538579994724085e-16,
           1.0442822111119778e-15,
           1.1433883567697883e-15,
           1.2491116351283185e-15,
           1.3599096162222032e-15,
           1.474638869770731e-15,
           1.5332031393337454e-15
          ],
          [
           1.4731102099698156e-15,
           1.412064145306439e-15,
           1.2918074850563003e-15,
           1.1746230676685993e-15,
           1.0615288354139216e-15,
           9.539805712883527e-16,
           8.540759550768424e-16,
           7.648162448258461e-16,
           6.903429468915299e-16,
           6.358728056463119e-16,
           6.06816619962226e-16,
           6.068360076894542e-16,
           6.359283095277285e-16,
           6.904281527815504e-16,
           7.64923916551271e-16,
           8.541999219943725e-16,
           9.541162193477995e-16,
           1.061672905359369e-15,
           1.1747732975302968e-15,
           1.291962301257486e-15,
           1.4122224399205424e-15,
           1.4732699311526437e-15
          ],
          [
           1.4233753752814008e-15,
           1.3600988635759877e-15,
           1.2347916207557078e-15,
           1.1116128459767311e-15,
           9.913562612182995e-16,
           8.752272268601217e-16,
           7.651075122373918e-16,
           6.639937172829301e-16,
           5.766430027014791e-16,
           5.101744732953569e-16,
           4.734661323727814e-16,
           4.734909803471494e-16,
           5.102436507203068e-16,
           5.767450063892089e-16,
           6.641177353102533e-16,
           7.652458918390833e-16,
           8.753750786170622e-16,
           9.915105275363134e-16,
           1.1117715902248678e-15,
           1.234953584597894e-15,
           1.3602632054332155e-15,
           1.423540676720651e-15
          ],
          [
           1.3849449706980077e-15,
           1.3198272733980324e-15,
           1.1902879733885002e-15,
           1.061959618933546e-15,
           9.353407665454799e-16,
           8.112322796477867e-16,
           6.909881461989514e-16,
           5.770292622533391e-16,
           4.739116642055114e-16,
           3.903243601258607e-16,
           3.40947637342594e-16,
           3.409821423117835e-16,
           3.904147743179934e-16,
           4.740357742831319e-16,
           5.771719667991999e-16,
           6.91141366061768e-16,
           8.113917926432536e-16,
           9.355042699636323e-16,
           1.062125784328672e-15,
           1.1904559920533157e-15,
           1.3199966291470924e-15,
           1.3851148584800327e-15
          ],
          [
           1.3587785063909517e-15,
           1.2923430230298052e-15,
           1.1597378657101562e-15,
           1.0276014255606416e-15,
           8.961410643033816e-16,
           7.657050797216697e-16,
           6.369231317487035e-16,
           5.110471867311381e-16,
           3.908947723355437e-16,
           2.8383016696063173e-16,
           2.1083583419032564e-16,
           2.1089162843683806e-16,
           2.839544920844375e-16,
           3.910452312320173e-16,
           5.112083106013265e-16,
           6.370893543692478e-16,
           7.658740749872697e-16,
           8.963117184823707e-16,
           1.0277731458372886e-15,
           1.1599103097153548e-15,
           1.2925159799893676e-15,
           1.358951665347272e-15
          ],
          [
           1.3455916288616082e-15,
           1.2784710757018768e-15,
           1.1442594633187442e-15,
           1.010100238613426e-15,
           8.760174709236851e-16,
           7.420526068577552e-16,
           6.082835506484415e-16,
           4.748758040780434e-16,
           3.42252136987124e-16,
           2.1188998539316325e-16,
           9.375260642639698e-17,
           9.387801221655081e-17,
           2.1205649202011577e-16,
           3.4242396981255016e-16,
           4.750491964635519e-16,
           6.084575972763691e-16,
           7.422269874978965e-16,
           8.761920445434877e-16,
           1.0102749336376862e-15,
           1.1444342396207016e-15,
           1.278645909061628e-15,
           1.3457664845663896e-15
          ],
          [
           1.345765944939516e-15,
           1.2786545422055192e-15,
           1.144464445184297e-15,
           1.0103324398154534e-15,
           8.762852025796957e-16,
           7.423686538648198e-16,
           6.086690602340544e-16,
           4.753695154251525e-16,
           3.429368340803556e-16,
           2.1299416143812706e-16,
           9.622212899616392e-17,
           9.634432040614562e-17,
           2.1315980555590864e-16,
           3.4310832400116796e-16,
           4.755427277935229e-16,
           6.088429966583263e-16,
           7.425429602835587e-16,
           8.7645972287246e-16,
           1.0105070946969704e-15,
           1.1446391901872037e-15,
           1.278829350482775e-15,
           1.3459407779981775e-15
          ],
          [
           1.3592963143184014e-15,
           1.2928874389765414e-15,
           1.1603444996428825e-15,
           1.0282860159041104e-15,
           8.969259990772226e-16,
           7.666235776452741e-16,
           6.380270499334786e-16,
           5.124223529044966e-16,
           3.9269092646725053e-16,
           2.8629880259509186e-16,
           2.1414758852062435e-16,
           2.1420252014191684e-16,
           2.8642205617799667e-16,
           3.928406974327528e-16,
           5.125830445087091e-16,
           6.381929850290931e-16,
           7.667923704804681e-16,
           8.970965039381111e-16,
           1.0284576218751831e-15,
           1.160516853506494e-15,
           1.293060323115815e-15,
           1.3594694073198657e-15
          ],
          [
           1.3857915811349104e-15,
           1.3207156265024983e-15,
           1.1912729301364994e-15,
           1.063063481984233e-15,
           9.365938735893883e-16,
           8.126767783234347e-16,
           6.926834433356622e-16,
           5.790582906588252e-16,
           4.763801002920331e-16,
           3.9331773490641947e-16,
           3.443704776744366e-16,
           3.4440463971853437e-16,
           3.934074611515609e-16,
           4.765035674409085e-16,
           5.792004952883302e-16,
           6.928362882851431e-16,
           8.128360078462306e-16,
           9.367571582871798e-16,
           1.0632294748629776e-15,
           1.1914408099007001e-15,
           1.3208848683517475e-15,
           1.385961365140847e-15
          ],
          [
           1.4245285140120602e-15,
           1.3613056038144192e-15,
           1.2361206959534979e-15,
           1.1130890115426332e-15,
           9.930112108801569e-16,
           8.771013207803617e-16,
           7.672506328181461e-16,
           6.664620655890404e-16,
           5.794835466540239e-16,
           5.133829189604792e-16,
           4.769215939566699e-16,
           4.769462619080798e-16,
           5.134516641107907e-16,
           5.795850504216975e-16,
           6.665856243804232e-16,
           7.673886259602121e-16,
           8.772488566762205e-16,
           9.931652201374038e-16,
           1.113247545295153e-15,
           1.2362824856743376e-15,
           1.3614698000062086e-15,
           1.4246936816564282e-15
          ],
          [
           1.4745426452926694e-15,
           1.4135584432662604e-15,
           1.2934407216866192e-15,
           1.1764190040838018e-15,
           1.0635157687999788e-15,
           9.56191012542564e-16,
           8.565442540303163e-16,
           7.675716321111018e-16,
           6.933943368640966e-16,
           6.391842825295689e-16,
           6.102857792334783e-16,
           6.103050567548342e-16,
           6.392394988817272e-16,
           6.934791678376035e-16,
           7.676789173756452e-16,
           8.566678637637193e-16,
           9.563263470657449e-16,
           1.0636595696194043e-15,
           1.1765690046308526e-15,
           1.293595342422622e-15,
           1.4137165705619455e-15,
           1.4747022113310557e-15
          ],
          [
           1.5347318602949421e-15,
           1.4762362083170595e-15,
           1.3616588305203249e-15,
           1.2510345892045492e-15,
           1.1455093455327328e-15,
           1.046626544037445e-15,
           9.564486025547434e-16,
           8.776628513491113e-16,
           8.135856295508994e-16,
           7.679078181978337e-16,
           7.440259421223955e-16,
           7.440417545521323e-16,
           7.67953779303838e-16,
           8.136579296247387e-16,
           8.777566806350835e-16,
           9.565593024073138e-16,
           1.0467501861994477e-15,
           1.14564285458401e-15,
           1.2511756442940024e-15,
           1.3618057057282576e-15,
           1.4763876225768522e-15,
           1.5348851690996477e-15
          ],
          [
           1.6039510896179256e-15,
           1.5480731757987457e-15,
           1.439226175976164e-15,
           1.3350448525300722e-15,
           1.2367088887784407e-15,
           1.1457243724231853e-15,
           1.0639789209423413e-15,
           9.937551486754352e-16,
           9.376453441959811e-16,
           8.982981866451741e-16,
           8.779702827725762e-16,
           8.779836828766503e-16,
           8.983374766910663e-16,
           9.37708078946661e-16,
           9.938380176266865e-16,
           1.0640784340933667e-15,
           1.1458373214331993e-15,
           1.2368325533959898e-15,
           1.335177032365069e-15,
           1.4393651361050875e-15,
           1.548217564484767e-15,
           1.6040977829309241e-15
          ],
          [
           1.6810852617977124e-15,
           1.6278572164576443e-15,
           1.5247165458406732e-15,
           1.4267912663778805e-15,
           1.3352293567506136e-15,
           1.2514283427785572e-15,
           1.1770470269936397e-15,
           1.113973902326189e-15,
           1.064221476496916e-15,
           1.0297223857306714e-15,
           1.0120377349568558e-15,
           1.0120493599338346e-15,
           1.029756661339225e-15,
           1.064276750129718e-15,
           1.114047828786982e-15,
           1.177136981598768e-15,
           1.2515317521877366e-15,
           1.335343897535383e-15,
           1.4269149474654089e-15,
           1.5248477152096139e-15,
           1.6279945290216794e-15,
           1.6812252248733898e-15
          ],
          [
           1.7650970402908715e-15,
           1.714479227457613e-15,
           1.6168736652472936e-15,
           1.5248781007089976e-15,
           1.4395684559402389e-15,
           1.3622014540143683e-15,
           1.2942023056554345e-15,
           1.2371167120660226e-15,
           1.192513000032468e-15,
           1.1618296328997622e-15,
           1.1461850990070125e-15,
           1.1461953634313777e-15,
           1.1618600112671123e-15,
           1.1925623275434278e-15,
           1.2371832802920295e-15,
           1.2942841178260175e-15,
           1.3622964548670776e-15,
           1.4396746955109033e-15,
           1.5249938267120292e-15,
           1.6169973589309782e-15,
           1.71460960301019e-15,
           1.7652303421821356e-15
          ],
          [
           1.855052239300474e-15,
           1.8069560786730034e-15,
           1.714622902636371e-15,
           1.6281598419370058e-15,
           1.5485504797107415e-15,
           1.4769035344912645e-15,
           1.414429516390821e-15,
           1.3623909160540656e-15,
           1.3220206141055195e-15,
           1.2944108098889776e-15,
           1.2803872578478474e-15,
           1.2803964464278218e-15,
           1.2944380767943414e-15,
           1.3220651095726175e-15,
           1.3624513635017151e-15,
           1.4145043748714037e-15,
           1.4769911576638742e-15,
           1.5486492429754869e-15,
           1.6282682274073243e-15,
           1.714739545139335e-15,
           1.8070797823019137e-15,
           1.8551790775691776e-15
          ],
          [
           1.9019972894710725e-15,
           1.8551186347412985e-15,
           1.76530636914272e-15,
           1.6814515602857428e-15,
           1.6044885374791784e-15,
           1.5354539813623963e-15,
           1.4754611941781954e-15,
           1.4256520917931958e-15,
           1.387124141094539e-15,
           1.3608358547027404e-15,
           1.3475037694738055e-15,
           1.3475125003917308e-15,
           1.3608617906834327e-15,
           1.3871665482690108e-15,
           1.4257098570871048e-15,
           1.4755329563308573e-15,
           1.5355382634457788e-15,
           1.6045838577208164e-15,
           1.6815565108182315e-15,
           1.7654196629570333e-15,
           1.855239126990229e-15,
           1.9021209973269378e-15
          ]
         ]
        }
       ],
       "layout": {
        "template": {
         "data": {
          "bar": [
           {
            "error_x": {
             "color": "#2a3f5f"
            },
            "error_y": {
             "color": "#2a3f5f"
            },
            "marker": {
             "line": {
              "color": "#E5ECF6",
              "width": 0.5
             },
             "pattern": {
              "fillmode": "overlay",
              "size": 10,
              "solidity": 0.2
             }
            },
            "type": "bar"
           }
          ],
          "barpolar": [
           {
            "marker": {
             "line": {
              "color": "#E5ECF6",
              "width": 0.5
             },
             "pattern": {
              "fillmode": "overlay",
              "size": 10,
              "solidity": 0.2
             }
            },
            "type": "barpolar"
           }
          ],
          "carpet": [
           {
            "aaxis": {
             "endlinecolor": "#2a3f5f",
             "gridcolor": "white",
             "linecolor": "white",
             "minorgridcolor": "white",
             "startlinecolor": "#2a3f5f"
            },
            "baxis": {
             "endlinecolor": "#2a3f5f",
             "gridcolor": "white",
             "linecolor": "white",
             "minorgridcolor": "white",
             "startlinecolor": "#2a3f5f"
            },
            "type": "carpet"
           }
          ],
          "choropleth": [
           {
            "colorbar": {
             "outlinewidth": 0,
             "ticks": ""
            },
            "type": "choropleth"
           }
          ],
          "contour": [
           {
            "colorbar": {
             "outlinewidth": 0,
             "ticks": ""
            },
            "colorscale": [
             [
              0,
              "#0d0887"
             ],
             [
              0.1111111111111111,
              "#46039f"
             ],
             [
              0.2222222222222222,
              "#7201a8"
             ],
             [
              0.3333333333333333,
              "#9c179e"
             ],
             [
              0.4444444444444444,
              "#bd3786"
             ],
             [
              0.5555555555555556,
              "#d8576b"
             ],
             [
              0.6666666666666666,
              "#ed7953"
             ],
             [
              0.7777777777777778,
              "#fb9f3a"
             ],
             [
              0.8888888888888888,
              "#fdca26"
             ],
             [
              1,
              "#f0f921"
             ]
            ],
            "type": "contour"
           }
          ],
          "contourcarpet": [
           {
            "colorbar": {
             "outlinewidth": 0,
             "ticks": ""
            },
            "type": "contourcarpet"
           }
          ],
          "heatmap": [
           {
            "colorbar": {
             "outlinewidth": 0,
             "ticks": ""
            },
            "colorscale": [
             [
              0,
              "#0d0887"
             ],
             [
              0.1111111111111111,
              "#46039f"
             ],
             [
              0.2222222222222222,
              "#7201a8"
             ],
             [
              0.3333333333333333,
              "#9c179e"
             ],
             [
              0.4444444444444444,
              "#bd3786"
             ],
             [
              0.5555555555555556,
              "#d8576b"
             ],
             [
              0.6666666666666666,
              "#ed7953"
             ],
             [
              0.7777777777777778,
              "#fb9f3a"
             ],
             [
              0.8888888888888888,
              "#fdca26"
             ],
             [
              1,
              "#f0f921"
             ]
            ],
            "type": "heatmap"
           }
          ],
          "heatmapgl": [
           {
            "colorbar": {
             "outlinewidth": 0,
             "ticks": ""
            },
            "colorscale": [
             [
              0,
              "#0d0887"
             ],
             [
              0.1111111111111111,
              "#46039f"
             ],
             [
              0.2222222222222222,
              "#7201a8"
             ],
             [
              0.3333333333333333,
              "#9c179e"
             ],
             [
              0.4444444444444444,
              "#bd3786"
             ],
             [
              0.5555555555555556,
              "#d8576b"
             ],
             [
              0.6666666666666666,
              "#ed7953"
             ],
             [
              0.7777777777777778,
              "#fb9f3a"
             ],
             [
              0.8888888888888888,
              "#fdca26"
             ],
             [
              1,
              "#f0f921"
             ]
            ],
            "type": "heatmapgl"
           }
          ],
          "histogram": [
           {
            "marker": {
             "pattern": {
              "fillmode": "overlay",
              "size": 10,
              "solidity": 0.2
             }
            },
            "type": "histogram"
           }
          ],
          "histogram2d": [
           {
            "colorbar": {
             "outlinewidth": 0,
             "ticks": ""
            },
            "colorscale": [
             [
              0,
              "#0d0887"
             ],
             [
              0.1111111111111111,
              "#46039f"
             ],
             [
              0.2222222222222222,
              "#7201a8"
             ],
             [
              0.3333333333333333,
              "#9c179e"
             ],
             [
              0.4444444444444444,
              "#bd3786"
             ],
             [
              0.5555555555555556,
              "#d8576b"
             ],
             [
              0.6666666666666666,
              "#ed7953"
             ],
             [
              0.7777777777777778,
              "#fb9f3a"
             ],
             [
              0.8888888888888888,
              "#fdca26"
             ],
             [
              1,
              "#f0f921"
             ]
            ],
            "type": "histogram2d"
           }
          ],
          "histogram2dcontour": [
           {
            "colorbar": {
             "outlinewidth": 0,
             "ticks": ""
            },
            "colorscale": [
             [
              0,
              "#0d0887"
             ],
             [
              0.1111111111111111,
              "#46039f"
             ],
             [
              0.2222222222222222,
              "#7201a8"
             ],
             [
              0.3333333333333333,
              "#9c179e"
             ],
             [
              0.4444444444444444,
              "#bd3786"
             ],
             [
              0.5555555555555556,
              "#d8576b"
             ],
             [
              0.6666666666666666,
              "#ed7953"
             ],
             [
              0.7777777777777778,
              "#fb9f3a"
             ],
             [
              0.8888888888888888,
              "#fdca26"
             ],
             [
              1,
              "#f0f921"
             ]
            ],
            "type": "histogram2dcontour"
           }
          ],
          "mesh3d": [
           {
            "colorbar": {
             "outlinewidth": 0,
             "ticks": ""
            },
            "type": "mesh3d"
           }
          ],
          "parcoords": [
           {
            "line": {
             "colorbar": {
              "outlinewidth": 0,
              "ticks": ""
             }
            },
            "type": "parcoords"
           }
          ],
          "pie": [
           {
            "automargin": true,
            "type": "pie"
           }
          ],
          "scatter": [
           {
            "marker": {
             "colorbar": {
              "outlinewidth": 0,
              "ticks": ""
             }
            },
            "type": "scatter"
           }
          ],
          "scatter3d": [
           {
            "line": {
             "colorbar": {
              "outlinewidth": 0,
              "ticks": ""
             }
            },
            "marker": {
             "colorbar": {
              "outlinewidth": 0,
              "ticks": ""
             }
            },
            "type": "scatter3d"
           }
          ],
          "scattercarpet": [
           {
            "marker": {
             "colorbar": {
              "outlinewidth": 0,
              "ticks": ""
             }
            },
            "type": "scattercarpet"
           }
          ],
          "scattergeo": [
           {
            "marker": {
             "colorbar": {
              "outlinewidth": 0,
              "ticks": ""
             }
            },
            "type": "scattergeo"
           }
          ],
          "scattergl": [
           {
            "marker": {
             "colorbar": {
              "outlinewidth": 0,
              "ticks": ""
             }
            },
            "type": "scattergl"
           }
          ],
          "scattermapbox": [
           {
            "marker": {
             "colorbar": {
              "outlinewidth": 0,
              "ticks": ""
             }
            },
            "type": "scattermapbox"
           }
          ],
          "scatterpolar": [
           {
            "marker": {
             "colorbar": {
              "outlinewidth": 0,
              "ticks": ""
             }
            },
            "type": "scatterpolar"
           }
          ],
          "scatterpolargl": [
           {
            "marker": {
             "colorbar": {
              "outlinewidth": 0,
              "ticks": ""
             }
            },
            "type": "scatterpolargl"
           }
          ],
          "scatterternary": [
           {
            "marker": {
             "colorbar": {
              "outlinewidth": 0,
              "ticks": ""
             }
            },
            "type": "scatterternary"
           }
          ],
          "surface": [
           {
            "colorbar": {
             "outlinewidth": 0,
             "ticks": ""
            },
            "colorscale": [
             [
              0,
              "#0d0887"
             ],
             [
              0.1111111111111111,
              "#46039f"
             ],
             [
              0.2222222222222222,
              "#7201a8"
             ],
             [
              0.3333333333333333,
              "#9c179e"
             ],
             [
              0.4444444444444444,
              "#bd3786"
             ],
             [
              0.5555555555555556,
              "#d8576b"
             ],
             [
              0.6666666666666666,
              "#ed7953"
             ],
             [
              0.7777777777777778,
              "#fb9f3a"
             ],
             [
              0.8888888888888888,
              "#fdca26"
             ],
             [
              1,
              "#f0f921"
             ]
            ],
            "type": "surface"
           }
          ],
          "table": [
           {
            "cells": {
             "fill": {
              "color": "#EBF0F8"
             },
             "line": {
              "color": "white"
             }
            },
            "header": {
             "fill": {
              "color": "#C8D4E3"
             },
             "line": {
              "color": "white"
             }
            },
            "type": "table"
           }
          ]
         },
         "layout": {
          "annotationdefaults": {
           "arrowcolor": "#2a3f5f",
           "arrowhead": 0,
           "arrowwidth": 1
          },
          "autotypenumbers": "strict",
          "coloraxis": {
           "colorbar": {
            "outlinewidth": 0,
            "ticks": ""
           }
          },
          "colorscale": {
           "diverging": [
            [
             0,
             "#8e0152"
            ],
            [
             0.1,
             "#c51b7d"
            ],
            [
             0.2,
             "#de77ae"
            ],
            [
             0.3,
             "#f1b6da"
            ],
            [
             0.4,
             "#fde0ef"
            ],
            [
             0.5,
             "#f7f7f7"
            ],
            [
             0.6,
             "#e6f5d0"
            ],
            [
             0.7,
             "#b8e186"
            ],
            [
             0.8,
             "#7fbc41"
            ],
            [
             0.9,
             "#4d9221"
            ],
            [
             1,
             "#276419"
            ]
           ],
           "sequential": [
            [
             0,
             "#0d0887"
            ],
            [
             0.1111111111111111,
             "#46039f"
            ],
            [
             0.2222222222222222,
             "#7201a8"
            ],
            [
             0.3333333333333333,
             "#9c179e"
            ],
            [
             0.4444444444444444,
             "#bd3786"
            ],
            [
             0.5555555555555556,
             "#d8576b"
            ],
            [
             0.6666666666666666,
             "#ed7953"
            ],
            [
             0.7777777777777778,
             "#fb9f3a"
            ],
            [
             0.8888888888888888,
             "#fdca26"
            ],
            [
             1,
             "#f0f921"
            ]
           ],
           "sequentialminus": [
            [
             0,
             "#0d0887"
            ],
            [
             0.1111111111111111,
             "#46039f"
            ],
            [
             0.2222222222222222,
             "#7201a8"
            ],
            [
             0.3333333333333333,
             "#9c179e"
            ],
            [
             0.4444444444444444,
             "#bd3786"
            ],
            [
             0.5555555555555556,
             "#d8576b"
            ],
            [
             0.6666666666666666,
             "#ed7953"
            ],
            [
             0.7777777777777778,
             "#fb9f3a"
            ],
            [
             0.8888888888888888,
             "#fdca26"
            ],
            [
             1,
             "#f0f921"
            ]
           ]
          },
          "colorway": [
           "#636efa",
           "#EF553B",
           "#00cc96",
           "#ab63fa",
           "#FFA15A",
           "#19d3f3",
           "#FF6692",
           "#B6E880",
           "#FF97FF",
           "#FECB52"
          ],
          "font": {
           "color": "#2a3f5f"
          },
          "geo": {
           "bgcolor": "white",
           "lakecolor": "white",
           "landcolor": "#E5ECF6",
           "showlakes": true,
           "showland": true,
           "subunitcolor": "white"
          },
          "hoverlabel": {
           "align": "left"
          },
          "hovermode": "closest",
          "mapbox": {
           "style": "light"
          },
          "paper_bgcolor": "white",
          "plot_bgcolor": "#E5ECF6",
          "polar": {
           "angularaxis": {
            "gridcolor": "white",
            "linecolor": "white",
            "ticks": ""
           },
           "bgcolor": "#E5ECF6",
           "radialaxis": {
            "gridcolor": "white",
            "linecolor": "white",
            "ticks": ""
           }
          },
          "scene": {
           "xaxis": {
            "backgroundcolor": "#E5ECF6",
            "gridcolor": "white",
            "gridwidth": 2,
            "linecolor": "white",
            "showbackground": true,
            "ticks": "",
            "zerolinecolor": "white"
           },
           "yaxis": {
            "backgroundcolor": "#E5ECF6",
            "gridcolor": "white",
            "gridwidth": 2,
            "linecolor": "white",
            "showbackground": true,
            "ticks": "",
            "zerolinecolor": "white"
           },
           "zaxis": {
            "backgroundcolor": "#E5ECF6",
            "gridcolor": "white",
            "gridwidth": 2,
            "linecolor": "white",
            "showbackground": true,
            "ticks": "",
            "zerolinecolor": "white"
           }
          },
          "shapedefaults": {
           "line": {
            "color": "#2a3f5f"
           }
          },
          "ternary": {
           "aaxis": {
            "gridcolor": "white",
            "linecolor": "white",
            "ticks": ""
           },
           "baxis": {
            "gridcolor": "white",
            "linecolor": "white",
            "ticks": ""
           },
           "bgcolor": "#E5ECF6",
           "caxis": {
            "gridcolor": "white",
            "linecolor": "white",
            "ticks": ""
           }
          },
          "title": {
           "x": 0.05
          },
          "xaxis": {
           "automargin": true,
           "gridcolor": "white",
           "linecolor": "white",
           "ticks": "",
           "title": {
            "standoff": 15
           },
           "zerolinecolor": "white",
           "zerolinewidth": 2
          },
          "yaxis": {
           "automargin": true,
           "gridcolor": "white",
           "linecolor": "white",
           "ticks": "",
           "title": {
            "standoff": 15
           },
           "zerolinecolor": "white",
           "zerolinewidth": 2
          }
         }
        }
       }
      },
      "text/html": [
       "<div>                            <div id=\"6620f338-95d5-4649-8c10-27e4bc669e4f\" class=\"plotly-graph-div\" style=\"height:525px; width:100%;\"></div>            <script type=\"text/javascript\">                require([\"plotly\"], function(Plotly) {                    window.PLOTLYENV=window.PLOTLYENV || {};                                    if (document.getElementById(\"6620f338-95d5-4649-8c10-27e4bc669e4f\")) {                    Plotly.newPlot(                        \"6620f338-95d5-4649-8c10-27e4bc669e4f\",                        [{\"x\":[[0.0,0.00025,0.00075,0.00125,0.00175,0.0022500000000000003,0.00275,0.0032500000000000003,0.00375,0.00425,0.004750000000000001,0.00525,0.00575,0.00625,0.006750000000000001,0.00725,0.00775,0.00825,0.00875,0.009250000000000001,0.00975,0.01],[0.0,0.00025,0.00075,0.00125,0.00175,0.0022500000000000003,0.00275,0.0032500000000000003,0.00375,0.00425,0.004750000000000001,0.00525,0.00575,0.00625,0.006750000000000001,0.00725,0.00775,0.00825,0.00875,0.009250000000000001,0.00975,0.01],[0.0,0.00025,0.00075,0.00125,0.00175,0.0022500000000000003,0.00275,0.0032500000000000003,0.00375,0.00425,0.004750000000000001,0.00525,0.00575,0.00625,0.006750000000000001,0.00725,0.00775,0.00825,0.00875,0.009250000000000001,0.00975,0.01],[0.0,0.00025,0.00075,0.00125,0.00175,0.0022500000000000003,0.00275,0.0032500000000000003,0.00375,0.00425,0.004750000000000001,0.00525,0.00575,0.00625,0.006750000000000001,0.00725,0.00775,0.00825,0.00875,0.009250000000000001,0.00975,0.01],[0.0,0.00025,0.00075,0.00125,0.00175,0.0022500000000000003,0.00275,0.0032500000000000003,0.00375,0.00425,0.004750000000000001,0.00525,0.00575,0.00625,0.006750000000000001,0.00725,0.00775,0.00825,0.00875,0.009250000000000001,0.00975,0.01],[0.0,0.00025,0.00075,0.00125,0.00175,0.0022500000000000003,0.00275,0.0032500000000000003,0.00375,0.00425,0.004750000000000001,0.00525,0.00575,0.00625,0.006750000000000001,0.00725,0.00775,0.00825,0.00875,0.009250000000000001,0.00975,0.01],[0.0,0.00025,0.00075,0.00125,0.00175,0.0022500000000000003,0.00275,0.0032500000000000003,0.00375,0.00425,0.004750000000000001,0.00525,0.00575,0.00625,0.006750000000000001,0.00725,0.00775,0.00825,0.00875,0.009250000000000001,0.00975,0.01],[0.0,0.00025,0.00075,0.00125,0.00175,0.0022500000000000003,0.00275,0.0032500000000000003,0.00375,0.00425,0.004750000000000001,0.00525,0.00575,0.00625,0.006750000000000001,0.00725,0.00775,0.00825,0.00875,0.009250000000000001,0.00975,0.01],[0.0,0.00025,0.00075,0.00125,0.00175,0.0022500000000000003,0.00275,0.0032500000000000003,0.00375,0.00425,0.004750000000000001,0.00525,0.00575,0.00625,0.006750000000000001,0.00725,0.00775,0.00825,0.00875,0.009250000000000001,0.00975,0.01],[0.0,0.00025,0.00075,0.00125,0.00175,0.0022500000000000003,0.00275,0.0032500000000000003,0.00375,0.00425,0.004750000000000001,0.00525,0.00575,0.00625,0.006750000000000001,0.00725,0.00775,0.00825,0.00875,0.009250000000000001,0.00975,0.01],[0.0,0.00025,0.00075,0.00125,0.00175,0.0022500000000000003,0.00275,0.0032500000000000003,0.00375,0.00425,0.004750000000000001,0.00525,0.00575,0.00625,0.006750000000000001,0.00725,0.00775,0.00825,0.00875,0.009250000000000001,0.00975,0.01],[0.0,0.00025,0.00075,0.00125,0.00175,0.0022500000000000003,0.00275,0.0032500000000000003,0.00375,0.00425,0.004750000000000001,0.00525,0.00575,0.00625,0.006750000000000001,0.00725,0.00775,0.00825,0.00875,0.009250000000000001,0.00975,0.01],[0.0,0.00025,0.00075,0.00125,0.00175,0.0022500000000000003,0.00275,0.0032500000000000003,0.00375,0.00425,0.004750000000000001,0.00525,0.00575,0.00625,0.006750000000000001,0.00725,0.00775,0.00825,0.00875,0.009250000000000001,0.00975,0.01],[0.0,0.00025,0.00075,0.00125,0.00175,0.0022500000000000003,0.00275,0.0032500000000000003,0.00375,0.00425,0.004750000000000001,0.00525,0.00575,0.00625,0.006750000000000001,0.00725,0.00775,0.00825,0.00875,0.009250000000000001,0.00975,0.01],[0.0,0.00025,0.00075,0.00125,0.00175,0.0022500000000000003,0.00275,0.0032500000000000003,0.00375,0.00425,0.004750000000000001,0.00525,0.00575,0.00625,0.006750000000000001,0.00725,0.00775,0.00825,0.00875,0.009250000000000001,0.00975,0.01],[0.0,0.00025,0.00075,0.00125,0.00175,0.0022500000000000003,0.00275,0.0032500000000000003,0.00375,0.00425,0.004750000000000001,0.00525,0.00575,0.00625,0.006750000000000001,0.00725,0.00775,0.00825,0.00875,0.009250000000000001,0.00975,0.01],[0.0,0.00025,0.00075,0.00125,0.00175,0.0022500000000000003,0.00275,0.0032500000000000003,0.00375,0.00425,0.004750000000000001,0.00525,0.00575,0.00625,0.006750000000000001,0.00725,0.00775,0.00825,0.00875,0.009250000000000001,0.00975,0.01],[0.0,0.00025,0.00075,0.00125,0.00175,0.0022500000000000003,0.00275,0.0032500000000000003,0.00375,0.00425,0.004750000000000001,0.00525,0.00575,0.00625,0.006750000000000001,0.00725,0.00775,0.00825,0.00875,0.009250000000000001,0.00975,0.01],[0.0,0.00025,0.00075,0.00125,0.00175,0.0022500000000000003,0.00275,0.0032500000000000003,0.00375,0.00425,0.004750000000000001,0.00525,0.00575,0.00625,0.006750000000000001,0.00725,0.00775,0.00825,0.00875,0.009250000000000001,0.00975,0.01],[0.0,0.00025,0.00075,0.00125,0.00175,0.0022500000000000003,0.00275,0.0032500000000000003,0.00375,0.00425,0.004750000000000001,0.00525,0.00575,0.00625,0.006750000000000001,0.00725,0.00775,0.00825,0.00875,0.009250000000000001,0.00975,0.01],[0.0,0.00025,0.00075,0.00125,0.00175,0.0022500000000000003,0.00275,0.0032500000000000003,0.00375,0.00425,0.004750000000000001,0.00525,0.00575,0.00625,0.006750000000000001,0.00725,0.00775,0.00825,0.00875,0.009250000000000001,0.00975,0.01],[0.0,0.00025,0.00075,0.00125,0.00175,0.0022500000000000003,0.00275,0.0032500000000000003,0.00375,0.00425,0.004750000000000001,0.00525,0.00575,0.00625,0.006750000000000001,0.00725,0.00775,0.00825,0.00875,0.009250000000000001,0.00975,0.01]],\"y\":[[0.0,0.0,0.0,0.0,0.0,0.0,0.0,0.0,0.0,0.0,0.0,0.0,0.0,0.0,0.0,0.0,0.0,0.0,0.0,0.0,0.0,0.0],[0.00025,0.00025,0.00025,0.00025,0.00025,0.00025,0.00025,0.00025,0.00025,0.00025,0.00025,0.00025,0.00025,0.00025,0.00025,0.00025,0.00025,0.00025,0.00025,0.00025,0.00025,0.00025],[0.00075,0.00075,0.00075,0.00075,0.00075,0.00075,0.00075,0.00075,0.00075,0.00075,0.00075,0.00075,0.00075,0.00075,0.00075,0.00075,0.00075,0.00075,0.00075,0.00075,0.00075,0.00075],[0.00125,0.00125,0.00125,0.00125,0.00125,0.00125,0.00125,0.00125,0.00125,0.00125,0.00125,0.00125,0.00125,0.00125,0.00125,0.00125,0.00125,0.00125,0.00125,0.00125,0.00125,0.00125],[0.00175,0.00175,0.00175,0.00175,0.00175,0.00175,0.00175,0.00175,0.00175,0.00175,0.00175,0.00175,0.00175,0.00175,0.00175,0.00175,0.00175,0.00175,0.00175,0.00175,0.00175,0.00175],[0.0022500000000000003,0.0022500000000000003,0.0022500000000000003,0.0022500000000000003,0.0022500000000000003,0.0022500000000000003,0.0022500000000000003,0.0022500000000000003,0.0022500000000000003,0.0022500000000000003,0.0022500000000000003,0.0022500000000000003,0.0022500000000000003,0.0022500000000000003,0.0022500000000000003,0.0022500000000000003,0.0022500000000000003,0.0022500000000000003,0.0022500000000000003,0.0022500000000000003,0.0022500000000000003,0.0022500000000000003],[0.00275,0.00275,0.00275,0.00275,0.00275,0.00275,0.00275,0.00275,0.00275,0.00275,0.00275,0.00275,0.00275,0.00275,0.00275,0.00275,0.00275,0.00275,0.00275,0.00275,0.00275,0.00275],[0.0032500000000000003,0.0032500000000000003,0.0032500000000000003,0.0032500000000000003,0.0032500000000000003,0.0032500000000000003,0.0032500000000000003,0.0032500000000000003,0.0032500000000000003,0.0032500000000000003,0.0032500000000000003,0.0032500000000000003,0.0032500000000000003,0.0032500000000000003,0.0032500000000000003,0.0032500000000000003,0.0032500000000000003,0.0032500000000000003,0.0032500000000000003,0.0032500000000000003,0.0032500000000000003,0.0032500000000000003],[0.00375,0.00375,0.00375,0.00375,0.00375,0.00375,0.00375,0.00375,0.00375,0.00375,0.00375,0.00375,0.00375,0.00375,0.00375,0.00375,0.00375,0.00375,0.00375,0.00375,0.00375,0.00375],[0.00425,0.00425,0.00425,0.00425,0.00425,0.00425,0.00425,0.00425,0.00425,0.00425,0.00425,0.00425,0.00425,0.00425,0.00425,0.00425,0.00425,0.00425,0.00425,0.00425,0.00425,0.00425],[0.004750000000000001,0.004750000000000001,0.004750000000000001,0.004750000000000001,0.004750000000000001,0.004750000000000001,0.004750000000000001,0.004750000000000001,0.004750000000000001,0.004750000000000001,0.004750000000000001,0.004750000000000001,0.004750000000000001,0.004750000000000001,0.004750000000000001,0.004750000000000001,0.004750000000000001,0.004750000000000001,0.004750000000000001,0.004750000000000001,0.004750000000000001,0.004750000000000001],[0.00525,0.00525,0.00525,0.00525,0.00525,0.00525,0.00525,0.00525,0.00525,0.00525,0.00525,0.00525,0.00525,0.00525,0.00525,0.00525,0.00525,0.00525,0.00525,0.00525,0.00525,0.00525],[0.00575,0.00575,0.00575,0.00575,0.00575,0.00575,0.00575,0.00575,0.00575,0.00575,0.00575,0.00575,0.00575,0.00575,0.00575,0.00575,0.00575,0.00575,0.00575,0.00575,0.00575,0.00575],[0.00625,0.00625,0.00625,0.00625,0.00625,0.00625,0.00625,0.00625,0.00625,0.00625,0.00625,0.00625,0.00625,0.00625,0.00625,0.00625,0.00625,0.00625,0.00625,0.00625,0.00625,0.00625],[0.006750000000000001,0.006750000000000001,0.006750000000000001,0.006750000000000001,0.006750000000000001,0.006750000000000001,0.006750000000000001,0.006750000000000001,0.006750000000000001,0.006750000000000001,0.006750000000000001,0.006750000000000001,0.006750000000000001,0.006750000000000001,0.006750000000000001,0.006750000000000001,0.006750000000000001,0.006750000000000001,0.006750000000000001,0.006750000000000001,0.006750000000000001,0.006750000000000001],[0.00725,0.00725,0.00725,0.00725,0.00725,0.00725,0.00725,0.00725,0.00725,0.00725,0.00725,0.00725,0.00725,0.00725,0.00725,0.00725,0.00725,0.00725,0.00725,0.00725,0.00725,0.00725],[0.00775,0.00775,0.00775,0.00775,0.00775,0.00775,0.00775,0.00775,0.00775,0.00775,0.00775,0.00775,0.00775,0.00775,0.00775,0.00775,0.00775,0.00775,0.00775,0.00775,0.00775,0.00775],[0.00825,0.00825,0.00825,0.00825,0.00825,0.00825,0.00825,0.00825,0.00825,0.00825,0.00825,0.00825,0.00825,0.00825,0.00825,0.00825,0.00825,0.00825,0.00825,0.00825,0.00825,0.00825],[0.00875,0.00875,0.00875,0.00875,0.00875,0.00875,0.00875,0.00875,0.00875,0.00875,0.00875,0.00875,0.00875,0.00875,0.00875,0.00875,0.00875,0.00875,0.00875,0.00875,0.00875,0.00875],[0.009250000000000001,0.009250000000000001,0.009250000000000001,0.009250000000000001,0.009250000000000001,0.009250000000000001,0.009250000000000001,0.009250000000000001,0.009250000000000001,0.009250000000000001,0.009250000000000001,0.009250000000000001,0.009250000000000001,0.009250000000000001,0.009250000000000001,0.009250000000000001,0.009250000000000001,0.009250000000000001,0.009250000000000001,0.009250000000000001,0.009250000000000001,0.009250000000000001],[0.00975,0.00975,0.00975,0.00975,0.00975,0.00975,0.00975,0.00975,0.00975,0.00975,0.00975,0.00975,0.00975,0.00975,0.00975,0.00975,0.00975,0.00975,0.00975,0.00975,0.00975,0.00975],[0.01,0.01,0.01,0.01,0.01,0.01,0.01,0.01,0.01,0.01,0.01,0.01,0.01,0.01,0.01,0.01,0.01,0.01,0.01,0.01,0.01,0.01]],\"z\":[[1.899529086700857e-15,1.8525879765904863e-15,1.7626467709054247e-15,1.678659111206052e-15,1.6015619029407725e-15,1.5323955073454257e-15,1.472278097907516e-15,1.4223575320179594e-15,1.3837378526521629e-15,1.3573839860189401e-15,1.3440176601529092e-15,1.3440264137170447e-15,1.3574099879547333e-15,1.3837803636030732e-15,1.4224154311071438e-15,1.4723500152050103e-15,1.532479957637639e-15,1.601657397358304e-15,1.6787642363146723e-15,1.7627602356561483e-15,1.8527086334245575e-15,1.899652955293406e-15],[1.852648109999293e-15,1.804487871726155e-15,1.7120215849090785e-15,1.6254201548662487e-15,1.545669692127618e-15,1.4738827155317318e-15,1.411274978800732e-15,1.3591156010800175e-15,1.3186450292149567e-15,1.2909630334411464e-15,1.2769016168107093e-15,1.2769108304732975e-15,1.2909903731671202e-15,1.3186896385823183e-15,1.3591761941936083e-15,1.4113500046002252e-15,1.4739705182844856e-15,1.545768639455208e-15,1.6255287230127648e-15,1.7121384046336417e-15,1.804611744549766e-15,1.8527751128529184e-15],[1.7628363691494444e-15,1.7121517234562942e-15,1.6144054484913686e-15,1.5222607282489645e-15,1.4367956855743209e-15,1.35927087222004e-15,1.2911173884319114e-15,1.2338890801125497e-15,1.1891643107640548e-15,1.1583922473122054e-15,1.1427006536863297e-15,1.1427109494099382e-15,1.1584227158216547e-15,1.1892137771763175e-15,1.2339558224606141e-15,1.2911993960683092e-15,1.359366077881249e-15,1.436902130155673e-15,1.522376653217741e-15,1.6145293312740675e-15,1.7122822762301545e-15,1.762969841976737e-15],[1.6789909034837988e-15,1.6256942866727926e-15,1.522407088037192e-15,1.4243230372202968e-15,1.3325915472012193e-15,1.248613508517606e-15,1.174053874529493e-15,1.1108108081969523e-15,1.0609100563105637e-15,1.0262996581012717e-15,1.0085549928094345e-15,1.0085666579294688e-15,1.0263340480162054e-15,1.0609655024607534e-15,1.1108849451542962e-15,1.174144058449982e-15,1.2487171510316895e-15,1.3327063146967254e-15,1.4244469326194912e-15,1.5225384563716555e-15,1.6258317819126235e-15,1.6791310411352374e-15],[1.6020487471451206e-15,1.5461020820017346e-15,1.4371057984561627e-15,1.332758736083643e-15,1.2342406434415345e-15,1.1430596781897791e-15,1.0611089645027853e-15,9.90681778300888e-16,9.34387436682955e-16,8.948970457369457e-16,8.744900844324559e-16,8.745035378641066e-16,8.949364851022554e-16,9.34450390155476e-16,9.907649043140835e-16,1.0612087467805527e-15,1.1431728904811218e-15,1.2343645553412598e-15,1.3328911426291533e-15,1.4372449635953976e-15,1.5462466547501713e-15,1.6021956146336503e-15],[1.533049662320581e-15,1.4744872759312536e-15,1.3597625362062795e-15,1.248970346934421e-15,1.1432545844374907e-15,1.0441582767079313e-15,9.537469860830172e-16,8.747179344060343e-16,8.104078977558032e-16,7.645402549131466e-16,7.40549786769646e-16,7.405656734218065e-16,7.645864184518549e-16,8.10480481304517e-16,8.7481207955446845e-16,9.538579994724085e-16,1.0442822111119778e-15,1.1433883567697883e-15,1.2491116351283185e-15,1.3599096162222032e-15,1.474638869770731e-15,1.5332031393337454e-15],[1.4731102099698156e-15,1.412064145306439e-15,1.2918074850563003e-15,1.1746230676685993e-15,1.0615288354139216e-15,9.539805712883527e-16,8.540759550768424e-16,7.648162448258461e-16,6.903429468915299e-16,6.358728056463119e-16,6.06816619962226e-16,6.068360076894542e-16,6.359283095277285e-16,6.904281527815504e-16,7.64923916551271e-16,8.541999219943725e-16,9.541162193477995e-16,1.061672905359369e-15,1.1747732975302968e-15,1.291962301257486e-15,1.4122224399205424e-15,1.4732699311526437e-15],[1.4233753752814008e-15,1.3600988635759877e-15,1.2347916207557078e-15,1.1116128459767311e-15,9.913562612182995e-16,8.752272268601217e-16,7.651075122373918e-16,6.639937172829301e-16,5.766430027014791e-16,5.101744732953569e-16,4.734661323727814e-16,4.734909803471494e-16,5.102436507203068e-16,5.767450063892089e-16,6.641177353102533e-16,7.652458918390833e-16,8.753750786170622e-16,9.915105275363134e-16,1.1117715902248678e-15,1.234953584597894e-15,1.3602632054332155e-15,1.423540676720651e-15],[1.3849449706980077e-15,1.3198272733980324e-15,1.1902879733885002e-15,1.061959618933546e-15,9.353407665454799e-16,8.112322796477867e-16,6.909881461989514e-16,5.770292622533391e-16,4.739116642055114e-16,3.903243601258607e-16,3.40947637342594e-16,3.409821423117835e-16,3.904147743179934e-16,4.740357742831319e-16,5.771719667991999e-16,6.91141366061768e-16,8.113917926432536e-16,9.355042699636323e-16,1.062125784328672e-15,1.1904559920533157e-15,1.3199966291470924e-15,1.3851148584800327e-15],[1.3587785063909517e-15,1.2923430230298052e-15,1.1597378657101562e-15,1.0276014255606416e-15,8.961410643033816e-16,7.657050797216697e-16,6.369231317487035e-16,5.110471867311381e-16,3.908947723355437e-16,2.8383016696063173e-16,2.1083583419032564e-16,2.1089162843683806e-16,2.839544920844375e-16,3.910452312320173e-16,5.112083106013265e-16,6.370893543692478e-16,7.658740749872697e-16,8.963117184823707e-16,1.0277731458372886e-15,1.1599103097153548e-15,1.2925159799893676e-15,1.358951665347272e-15],[1.3455916288616082e-15,1.2784710757018768e-15,1.1442594633187442e-15,1.010100238613426e-15,8.760174709236851e-16,7.420526068577552e-16,6.082835506484415e-16,4.748758040780434e-16,3.42252136987124e-16,2.1188998539316325e-16,9.375260642639698e-17,9.387801221655081e-17,2.1205649202011577e-16,3.4242396981255016e-16,4.750491964635519e-16,6.084575972763691e-16,7.422269874978965e-16,8.761920445434877e-16,1.0102749336376862e-15,1.1444342396207016e-15,1.278645909061628e-15,1.3457664845663896e-15],[1.345765944939516e-15,1.2786545422055192e-15,1.144464445184297e-15,1.0103324398154534e-15,8.762852025796957e-16,7.423686538648198e-16,6.086690602340544e-16,4.753695154251525e-16,3.429368340803556e-16,2.1299416143812706e-16,9.622212899616392e-17,9.634432040614562e-17,2.1315980555590864e-16,3.4310832400116796e-16,4.755427277935229e-16,6.088429966583263e-16,7.425429602835587e-16,8.7645972287246e-16,1.0105070946969704e-15,1.1446391901872037e-15,1.278829350482775e-15,1.3459407779981775e-15],[1.3592963143184014e-15,1.2928874389765414e-15,1.1603444996428825e-15,1.0282860159041104e-15,8.969259990772226e-16,7.666235776452741e-16,6.380270499334786e-16,5.124223529044966e-16,3.9269092646725053e-16,2.8629880259509186e-16,2.1414758852062435e-16,2.1420252014191684e-16,2.8642205617799667e-16,3.928406974327528e-16,5.125830445087091e-16,6.381929850290931e-16,7.667923704804681e-16,8.970965039381111e-16,1.0284576218751831e-15,1.160516853506494e-15,1.293060323115815e-15,1.3594694073198657e-15],[1.3857915811349104e-15,1.3207156265024983e-15,1.1912729301364994e-15,1.063063481984233e-15,9.365938735893883e-16,8.126767783234347e-16,6.926834433356622e-16,5.790582906588252e-16,4.763801002920331e-16,3.9331773490641947e-16,3.443704776744366e-16,3.4440463971853437e-16,3.934074611515609e-16,4.765035674409085e-16,5.792004952883302e-16,6.928362882851431e-16,8.128360078462306e-16,9.367571582871798e-16,1.0632294748629776e-15,1.1914408099007001e-15,1.3208848683517475e-15,1.385961365140847e-15],[1.4245285140120602e-15,1.3613056038144192e-15,1.2361206959534979e-15,1.1130890115426332e-15,9.930112108801569e-16,8.771013207803617e-16,7.672506328181461e-16,6.664620655890404e-16,5.794835466540239e-16,5.133829189604792e-16,4.769215939566699e-16,4.769462619080798e-16,5.134516641107907e-16,5.795850504216975e-16,6.665856243804232e-16,7.673886259602121e-16,8.772488566762205e-16,9.931652201374038e-16,1.113247545295153e-15,1.2362824856743376e-15,1.3614698000062086e-15,1.4246936816564282e-15],[1.4745426452926694e-15,1.4135584432662604e-15,1.2934407216866192e-15,1.1764190040838018e-15,1.0635157687999788e-15,9.56191012542564e-16,8.565442540303163e-16,7.675716321111018e-16,6.933943368640966e-16,6.391842825295689e-16,6.102857792334783e-16,6.103050567548342e-16,6.392394988817272e-16,6.934791678376035e-16,7.676789173756452e-16,8.566678637637193e-16,9.563263470657449e-16,1.0636595696194043e-15,1.1765690046308526e-15,1.293595342422622e-15,1.4137165705619455e-15,1.4747022113310557e-15],[1.5347318602949421e-15,1.4762362083170595e-15,1.3616588305203249e-15,1.2510345892045492e-15,1.1455093455327328e-15,1.046626544037445e-15,9.564486025547434e-16,8.776628513491113e-16,8.135856295508994e-16,7.679078181978337e-16,7.440259421223955e-16,7.440417545521323e-16,7.67953779303838e-16,8.136579296247387e-16,8.777566806350835e-16,9.565593024073138e-16,1.0467501861994477e-15,1.14564285458401e-15,1.2511756442940024e-15,1.3618057057282576e-15,1.4763876225768522e-15,1.5348851690996477e-15],[1.6039510896179256e-15,1.5480731757987457e-15,1.439226175976164e-15,1.3350448525300722e-15,1.2367088887784407e-15,1.1457243724231853e-15,1.0639789209423413e-15,9.937551486754352e-16,9.376453441959811e-16,8.982981866451741e-16,8.779702827725762e-16,8.779836828766503e-16,8.983374766910663e-16,9.37708078946661e-16,9.938380176266865e-16,1.0640784340933667e-15,1.1458373214331993e-15,1.2368325533959898e-15,1.335177032365069e-15,1.4393651361050875e-15,1.548217564484767e-15,1.6040977829309241e-15],[1.6810852617977124e-15,1.6278572164576443e-15,1.5247165458406732e-15,1.4267912663778805e-15,1.3352293567506136e-15,1.2514283427785572e-15,1.1770470269936397e-15,1.113973902326189e-15,1.064221476496916e-15,1.0297223857306714e-15,1.0120377349568558e-15,1.0120493599338346e-15,1.029756661339225e-15,1.064276750129718e-15,1.114047828786982e-15,1.177136981598768e-15,1.2515317521877366e-15,1.335343897535383e-15,1.4269149474654089e-15,1.5248477152096139e-15,1.6279945290216794e-15,1.6812252248733898e-15],[1.7650970402908715e-15,1.714479227457613e-15,1.6168736652472936e-15,1.5248781007089976e-15,1.4395684559402389e-15,1.3622014540143683e-15,1.2942023056554345e-15,1.2371167120660226e-15,1.192513000032468e-15,1.1618296328997622e-15,1.1461850990070125e-15,1.1461953634313777e-15,1.1618600112671123e-15,1.1925623275434278e-15,1.2371832802920295e-15,1.2942841178260175e-15,1.3622964548670776e-15,1.4396746955109033e-15,1.5249938267120292e-15,1.6169973589309782e-15,1.71460960301019e-15,1.7652303421821356e-15],[1.855052239300474e-15,1.8069560786730034e-15,1.714622902636371e-15,1.6281598419370058e-15,1.5485504797107415e-15,1.4769035344912645e-15,1.414429516390821e-15,1.3623909160540656e-15,1.3220206141055195e-15,1.2944108098889776e-15,1.2803872578478474e-15,1.2803964464278218e-15,1.2944380767943414e-15,1.3220651095726175e-15,1.3624513635017151e-15,1.4145043748714037e-15,1.4769911576638742e-15,1.5486492429754869e-15,1.6282682274073243e-15,1.714739545139335e-15,1.8070797823019137e-15,1.8551790775691776e-15],[1.9019972894710725e-15,1.8551186347412985e-15,1.76530636914272e-15,1.6814515602857428e-15,1.6044885374791784e-15,1.5354539813623963e-15,1.4754611941781954e-15,1.4256520917931958e-15,1.387124141094539e-15,1.3608358547027404e-15,1.3475037694738055e-15,1.3475125003917308e-15,1.3608617906834327e-15,1.3871665482690108e-15,1.4257098570871048e-15,1.4755329563308573e-15,1.5355382634457788e-15,1.6045838577208164e-15,1.6815565108182315e-15,1.7654196629570333e-15,1.855239126990229e-15,1.9021209973269378e-15]],\"type\":\"surface\"}],                        {\"template\":{\"data\":{\"bar\":[{\"error_x\":{\"color\":\"#2a3f5f\"},\"error_y\":{\"color\":\"#2a3f5f\"},\"marker\":{\"line\":{\"color\":\"#E5ECF6\",\"width\":0.5},\"pattern\":{\"fillmode\":\"overlay\",\"size\":10,\"solidity\":0.2}},\"type\":\"bar\"}],\"barpolar\":[{\"marker\":{\"line\":{\"color\":\"#E5ECF6\",\"width\":0.5},\"pattern\":{\"fillmode\":\"overlay\",\"size\":10,\"solidity\":0.2}},\"type\":\"barpolar\"}],\"carpet\":[{\"aaxis\":{\"endlinecolor\":\"#2a3f5f\",\"gridcolor\":\"white\",\"linecolor\":\"white\",\"minorgridcolor\":\"white\",\"startlinecolor\":\"#2a3f5f\"},\"baxis\":{\"endlinecolor\":\"#2a3f5f\",\"gridcolor\":\"white\",\"linecolor\":\"white\",\"minorgridcolor\":\"white\",\"startlinecolor\":\"#2a3f5f\"},\"type\":\"carpet\"}],\"choropleth\":[{\"colorbar\":{\"outlinewidth\":0,\"ticks\":\"\"},\"type\":\"choropleth\"}],\"contour\":[{\"colorbar\":{\"outlinewidth\":0,\"ticks\":\"\"},\"colorscale\":[[0.0,\"#0d0887\"],[0.1111111111111111,\"#46039f\"],[0.2222222222222222,\"#7201a8\"],[0.3333333333333333,\"#9c179e\"],[0.4444444444444444,\"#bd3786\"],[0.5555555555555556,\"#d8576b\"],[0.6666666666666666,\"#ed7953\"],[0.7777777777777778,\"#fb9f3a\"],[0.8888888888888888,\"#fdca26\"],[1.0,\"#f0f921\"]],\"type\":\"contour\"}],\"contourcarpet\":[{\"colorbar\":{\"outlinewidth\":0,\"ticks\":\"\"},\"type\":\"contourcarpet\"}],\"heatmap\":[{\"colorbar\":{\"outlinewidth\":0,\"ticks\":\"\"},\"colorscale\":[[0.0,\"#0d0887\"],[0.1111111111111111,\"#46039f\"],[0.2222222222222222,\"#7201a8\"],[0.3333333333333333,\"#9c179e\"],[0.4444444444444444,\"#bd3786\"],[0.5555555555555556,\"#d8576b\"],[0.6666666666666666,\"#ed7953\"],[0.7777777777777778,\"#fb9f3a\"],[0.8888888888888888,\"#fdca26\"],[1.0,\"#f0f921\"]],\"type\":\"heatmap\"}],\"heatmapgl\":[{\"colorbar\":{\"outlinewidth\":0,\"ticks\":\"\"},\"colorscale\":[[0.0,\"#0d0887\"],[0.1111111111111111,\"#46039f\"],[0.2222222222222222,\"#7201a8\"],[0.3333333333333333,\"#9c179e\"],[0.4444444444444444,\"#bd3786\"],[0.5555555555555556,\"#d8576b\"],[0.6666666666666666,\"#ed7953\"],[0.7777777777777778,\"#fb9f3a\"],[0.8888888888888888,\"#fdca26\"],[1.0,\"#f0f921\"]],\"type\":\"heatmapgl\"}],\"histogram\":[{\"marker\":{\"pattern\":{\"fillmode\":\"overlay\",\"size\":10,\"solidity\":0.2}},\"type\":\"histogram\"}],\"histogram2d\":[{\"colorbar\":{\"outlinewidth\":0,\"ticks\":\"\"},\"colorscale\":[[0.0,\"#0d0887\"],[0.1111111111111111,\"#46039f\"],[0.2222222222222222,\"#7201a8\"],[0.3333333333333333,\"#9c179e\"],[0.4444444444444444,\"#bd3786\"],[0.5555555555555556,\"#d8576b\"],[0.6666666666666666,\"#ed7953\"],[0.7777777777777778,\"#fb9f3a\"],[0.8888888888888888,\"#fdca26\"],[1.0,\"#f0f921\"]],\"type\":\"histogram2d\"}],\"histogram2dcontour\":[{\"colorbar\":{\"outlinewidth\":0,\"ticks\":\"\"},\"colorscale\":[[0.0,\"#0d0887\"],[0.1111111111111111,\"#46039f\"],[0.2222222222222222,\"#7201a8\"],[0.3333333333333333,\"#9c179e\"],[0.4444444444444444,\"#bd3786\"],[0.5555555555555556,\"#d8576b\"],[0.6666666666666666,\"#ed7953\"],[0.7777777777777778,\"#fb9f3a\"],[0.8888888888888888,\"#fdca26\"],[1.0,\"#f0f921\"]],\"type\":\"histogram2dcontour\"}],\"mesh3d\":[{\"colorbar\":{\"outlinewidth\":0,\"ticks\":\"\"},\"type\":\"mesh3d\"}],\"parcoords\":[{\"line\":{\"colorbar\":{\"outlinewidth\":0,\"ticks\":\"\"}},\"type\":\"parcoords\"}],\"pie\":[{\"automargin\":true,\"type\":\"pie\"}],\"scatter\":[{\"marker\":{\"colorbar\":{\"outlinewidth\":0,\"ticks\":\"\"}},\"type\":\"scatter\"}],\"scatter3d\":[{\"line\":{\"colorbar\":{\"outlinewidth\":0,\"ticks\":\"\"}},\"marker\":{\"colorbar\":{\"outlinewidth\":0,\"ticks\":\"\"}},\"type\":\"scatter3d\"}],\"scattercarpet\":[{\"marker\":{\"colorbar\":{\"outlinewidth\":0,\"ticks\":\"\"}},\"type\":\"scattercarpet\"}],\"scattergeo\":[{\"marker\":{\"colorbar\":{\"outlinewidth\":0,\"ticks\":\"\"}},\"type\":\"scattergeo\"}],\"scattergl\":[{\"marker\":{\"colorbar\":{\"outlinewidth\":0,\"ticks\":\"\"}},\"type\":\"scattergl\"}],\"scattermapbox\":[{\"marker\":{\"colorbar\":{\"outlinewidth\":0,\"ticks\":\"\"}},\"type\":\"scattermapbox\"}],\"scatterpolar\":[{\"marker\":{\"colorbar\":{\"outlinewidth\":0,\"ticks\":\"\"}},\"type\":\"scatterpolar\"}],\"scatterpolargl\":[{\"marker\":{\"colorbar\":{\"outlinewidth\":0,\"ticks\":\"\"}},\"type\":\"scatterpolargl\"}],\"scatterternary\":[{\"marker\":{\"colorbar\":{\"outlinewidth\":0,\"ticks\":\"\"}},\"type\":\"scatterternary\"}],\"surface\":[{\"colorbar\":{\"outlinewidth\":0,\"ticks\":\"\"},\"colorscale\":[[0.0,\"#0d0887\"],[0.1111111111111111,\"#46039f\"],[0.2222222222222222,\"#7201a8\"],[0.3333333333333333,\"#9c179e\"],[0.4444444444444444,\"#bd3786\"],[0.5555555555555556,\"#d8576b\"],[0.6666666666666666,\"#ed7953\"],[0.7777777777777778,\"#fb9f3a\"],[0.8888888888888888,\"#fdca26\"],[1.0,\"#f0f921\"]],\"type\":\"surface\"}],\"table\":[{\"cells\":{\"fill\":{\"color\":\"#EBF0F8\"},\"line\":{\"color\":\"white\"}},\"header\":{\"fill\":{\"color\":\"#C8D4E3\"},\"line\":{\"color\":\"white\"}},\"type\":\"table\"}]},\"layout\":{\"annotationdefaults\":{\"arrowcolor\":\"#2a3f5f\",\"arrowhead\":0,\"arrowwidth\":1},\"autotypenumbers\":\"strict\",\"coloraxis\":{\"colorbar\":{\"outlinewidth\":0,\"ticks\":\"\"}},\"colorscale\":{\"diverging\":[[0,\"#8e0152\"],[0.1,\"#c51b7d\"],[0.2,\"#de77ae\"],[0.3,\"#f1b6da\"],[0.4,\"#fde0ef\"],[0.5,\"#f7f7f7\"],[0.6,\"#e6f5d0\"],[0.7,\"#b8e186\"],[0.8,\"#7fbc41\"],[0.9,\"#4d9221\"],[1,\"#276419\"]],\"sequential\":[[0.0,\"#0d0887\"],[0.1111111111111111,\"#46039f\"],[0.2222222222222222,\"#7201a8\"],[0.3333333333333333,\"#9c179e\"],[0.4444444444444444,\"#bd3786\"],[0.5555555555555556,\"#d8576b\"],[0.6666666666666666,\"#ed7953\"],[0.7777777777777778,\"#fb9f3a\"],[0.8888888888888888,\"#fdca26\"],[1.0,\"#f0f921\"]],\"sequentialminus\":[[0.0,\"#0d0887\"],[0.1111111111111111,\"#46039f\"],[0.2222222222222222,\"#7201a8\"],[0.3333333333333333,\"#9c179e\"],[0.4444444444444444,\"#bd3786\"],[0.5555555555555556,\"#d8576b\"],[0.6666666666666666,\"#ed7953\"],[0.7777777777777778,\"#fb9f3a\"],[0.8888888888888888,\"#fdca26\"],[1.0,\"#f0f921\"]]},\"colorway\":[\"#636efa\",\"#EF553B\",\"#00cc96\",\"#ab63fa\",\"#FFA15A\",\"#19d3f3\",\"#FF6692\",\"#B6E880\",\"#FF97FF\",\"#FECB52\"],\"font\":{\"color\":\"#2a3f5f\"},\"geo\":{\"bgcolor\":\"white\",\"lakecolor\":\"white\",\"landcolor\":\"#E5ECF6\",\"showlakes\":true,\"showland\":true,\"subunitcolor\":\"white\"},\"hoverlabel\":{\"align\":\"left\"},\"hovermode\":\"closest\",\"mapbox\":{\"style\":\"light\"},\"paper_bgcolor\":\"white\",\"plot_bgcolor\":\"#E5ECF6\",\"polar\":{\"angularaxis\":{\"gridcolor\":\"white\",\"linecolor\":\"white\",\"ticks\":\"\"},\"bgcolor\":\"#E5ECF6\",\"radialaxis\":{\"gridcolor\":\"white\",\"linecolor\":\"white\",\"ticks\":\"\"}},\"scene\":{\"xaxis\":{\"backgroundcolor\":\"#E5ECF6\",\"gridcolor\":\"white\",\"gridwidth\":2,\"linecolor\":\"white\",\"showbackground\":true,\"ticks\":\"\",\"zerolinecolor\":\"white\"},\"yaxis\":{\"backgroundcolor\":\"#E5ECF6\",\"gridcolor\":\"white\",\"gridwidth\":2,\"linecolor\":\"white\",\"showbackground\":true,\"ticks\":\"\",\"zerolinecolor\":\"white\"},\"zaxis\":{\"backgroundcolor\":\"#E5ECF6\",\"gridcolor\":\"white\",\"gridwidth\":2,\"linecolor\":\"white\",\"showbackground\":true,\"ticks\":\"\",\"zerolinecolor\":\"white\"}},\"shapedefaults\":{\"line\":{\"color\":\"#2a3f5f\"}},\"ternary\":{\"aaxis\":{\"gridcolor\":\"white\",\"linecolor\":\"white\",\"ticks\":\"\"},\"baxis\":{\"gridcolor\":\"white\",\"linecolor\":\"white\",\"ticks\":\"\"},\"bgcolor\":\"#E5ECF6\",\"caxis\":{\"gridcolor\":\"white\",\"linecolor\":\"white\",\"ticks\":\"\"}},\"title\":{\"x\":0.05},\"xaxis\":{\"automargin\":true,\"gridcolor\":\"white\",\"linecolor\":\"white\",\"ticks\":\"\",\"title\":{\"standoff\":15},\"zerolinecolor\":\"white\",\"zerolinewidth\":2},\"yaxis\":{\"automargin\":true,\"gridcolor\":\"white\",\"linecolor\":\"white\",\"ticks\":\"\",\"title\":{\"standoff\":15},\"zerolinecolor\":\"white\",\"zerolinewidth\":2}}}},                        {\"responsive\": true}                    ).then(function(){\n",
       "                            \n",
       "var gd = document.getElementById('6620f338-95d5-4649-8c10-27e4bc669e4f');\n",
       "var x = new MutationObserver(function (mutations, observer) {{\n",
       "        var display = window.getComputedStyle(gd).display;\n",
       "        if (!display || display === 'none') {{\n",
       "            console.log([gd, 'removed!']);\n",
       "            Plotly.purge(gd);\n",
       "            observer.disconnect();\n",
       "        }}\n",
       "}});\n",
       "\n",
       "// Listen for the removal of the full notebook cells\n",
       "var notebookContainer = gd.closest('#notebook-container');\n",
       "if (notebookContainer) {{\n",
       "    x.observe(notebookContainer, {childList: true});\n",
       "}}\n",
       "\n",
       "// Listen for the clearing of the current output cell\n",
       "var outputEl = gd.closest('.output');\n",
       "if (outputEl) {{\n",
       "    x.observe(outputEl, {childList: true});\n",
       "}}\n",
       "\n",
       "                        })                };                });            </script>        </div>"
      ]
     },
     "metadata": {},
     "output_type": "display_data"
    },
    {
     "name": "stdout",
     "output_type": "stream",
     "text": [
      "U graph\n"
     ]
    },
    {
     "data": {
      "application/vnd.plotly.v1+json": {
       "config": {
        "plotlyServerURL": "https://plot.ly"
       },
       "data": [
        {
         "type": "surface",
         "x": [
          [
           0,
           0.00025,
           0.00075,
           0.00125,
           0.00175,
           0.0022500000000000003,
           0.00275,
           0.0032500000000000003,
           0.00375,
           0.00425,
           0.004750000000000001,
           0.00525,
           0.00575,
           0.00625,
           0.006750000000000001,
           0.00725,
           0.00775,
           0.00825,
           0.00875,
           0.009250000000000001,
           0.00975,
           0.01
          ],
          [
           0,
           0.00025,
           0.00075,
           0.00125,
           0.00175,
           0.0022500000000000003,
           0.00275,
           0.0032500000000000003,
           0.00375,
           0.00425,
           0.004750000000000001,
           0.00525,
           0.00575,
           0.00625,
           0.006750000000000001,
           0.00725,
           0.00775,
           0.00825,
           0.00875,
           0.009250000000000001,
           0.00975,
           0.01
          ],
          [
           0,
           0.00025,
           0.00075,
           0.00125,
           0.00175,
           0.0022500000000000003,
           0.00275,
           0.0032500000000000003,
           0.00375,
           0.00425,
           0.004750000000000001,
           0.00525,
           0.00575,
           0.00625,
           0.006750000000000001,
           0.00725,
           0.00775,
           0.00825,
           0.00875,
           0.009250000000000001,
           0.00975,
           0.01
          ],
          [
           0,
           0.00025,
           0.00075,
           0.00125,
           0.00175,
           0.0022500000000000003,
           0.00275,
           0.0032500000000000003,
           0.00375,
           0.00425,
           0.004750000000000001,
           0.00525,
           0.00575,
           0.00625,
           0.006750000000000001,
           0.00725,
           0.00775,
           0.00825,
           0.00875,
           0.009250000000000001,
           0.00975,
           0.01
          ],
          [
           0,
           0.00025,
           0.00075,
           0.00125,
           0.00175,
           0.0022500000000000003,
           0.00275,
           0.0032500000000000003,
           0.00375,
           0.00425,
           0.004750000000000001,
           0.00525,
           0.00575,
           0.00625,
           0.006750000000000001,
           0.00725,
           0.00775,
           0.00825,
           0.00875,
           0.009250000000000001,
           0.00975,
           0.01
          ],
          [
           0,
           0.00025,
           0.00075,
           0.00125,
           0.00175,
           0.0022500000000000003,
           0.00275,
           0.0032500000000000003,
           0.00375,
           0.00425,
           0.004750000000000001,
           0.00525,
           0.00575,
           0.00625,
           0.006750000000000001,
           0.00725,
           0.00775,
           0.00825,
           0.00875,
           0.009250000000000001,
           0.00975,
           0.01
          ],
          [
           0,
           0.00025,
           0.00075,
           0.00125,
           0.00175,
           0.0022500000000000003,
           0.00275,
           0.0032500000000000003,
           0.00375,
           0.00425,
           0.004750000000000001,
           0.00525,
           0.00575,
           0.00625,
           0.006750000000000001,
           0.00725,
           0.00775,
           0.00825,
           0.00875,
           0.009250000000000001,
           0.00975,
           0.01
          ],
          [
           0,
           0.00025,
           0.00075,
           0.00125,
           0.00175,
           0.0022500000000000003,
           0.00275,
           0.0032500000000000003,
           0.00375,
           0.00425,
           0.004750000000000001,
           0.00525,
           0.00575,
           0.00625,
           0.006750000000000001,
           0.00725,
           0.00775,
           0.00825,
           0.00875,
           0.009250000000000001,
           0.00975,
           0.01
          ],
          [
           0,
           0.00025,
           0.00075,
           0.00125,
           0.00175,
           0.0022500000000000003,
           0.00275,
           0.0032500000000000003,
           0.00375,
           0.00425,
           0.004750000000000001,
           0.00525,
           0.00575,
           0.00625,
           0.006750000000000001,
           0.00725,
           0.00775,
           0.00825,
           0.00875,
           0.009250000000000001,
           0.00975,
           0.01
          ],
          [
           0,
           0.00025,
           0.00075,
           0.00125,
           0.00175,
           0.0022500000000000003,
           0.00275,
           0.0032500000000000003,
           0.00375,
           0.00425,
           0.004750000000000001,
           0.00525,
           0.00575,
           0.00625,
           0.006750000000000001,
           0.00725,
           0.00775,
           0.00825,
           0.00875,
           0.009250000000000001,
           0.00975,
           0.01
          ],
          [
           0,
           0.00025,
           0.00075,
           0.00125,
           0.00175,
           0.0022500000000000003,
           0.00275,
           0.0032500000000000003,
           0.00375,
           0.00425,
           0.004750000000000001,
           0.00525,
           0.00575,
           0.00625,
           0.006750000000000001,
           0.00725,
           0.00775,
           0.00825,
           0.00875,
           0.009250000000000001,
           0.00975,
           0.01
          ],
          [
           0,
           0.00025,
           0.00075,
           0.00125,
           0.00175,
           0.0022500000000000003,
           0.00275,
           0.0032500000000000003,
           0.00375,
           0.00425,
           0.004750000000000001,
           0.00525,
           0.00575,
           0.00625,
           0.006750000000000001,
           0.00725,
           0.00775,
           0.00825,
           0.00875,
           0.009250000000000001,
           0.00975,
           0.01
          ],
          [
           0,
           0.00025,
           0.00075,
           0.00125,
           0.00175,
           0.0022500000000000003,
           0.00275,
           0.0032500000000000003,
           0.00375,
           0.00425,
           0.004750000000000001,
           0.00525,
           0.00575,
           0.00625,
           0.006750000000000001,
           0.00725,
           0.00775,
           0.00825,
           0.00875,
           0.009250000000000001,
           0.00975,
           0.01
          ],
          [
           0,
           0.00025,
           0.00075,
           0.00125,
           0.00175,
           0.0022500000000000003,
           0.00275,
           0.0032500000000000003,
           0.00375,
           0.00425,
           0.004750000000000001,
           0.00525,
           0.00575,
           0.00625,
           0.006750000000000001,
           0.00725,
           0.00775,
           0.00825,
           0.00875,
           0.009250000000000001,
           0.00975,
           0.01
          ],
          [
           0,
           0.00025,
           0.00075,
           0.00125,
           0.00175,
           0.0022500000000000003,
           0.00275,
           0.0032500000000000003,
           0.00375,
           0.00425,
           0.004750000000000001,
           0.00525,
           0.00575,
           0.00625,
           0.006750000000000001,
           0.00725,
           0.00775,
           0.00825,
           0.00875,
           0.009250000000000001,
           0.00975,
           0.01
          ],
          [
           0,
           0.00025,
           0.00075,
           0.00125,
           0.00175,
           0.0022500000000000003,
           0.00275,
           0.0032500000000000003,
           0.00375,
           0.00425,
           0.004750000000000001,
           0.00525,
           0.00575,
           0.00625,
           0.006750000000000001,
           0.00725,
           0.00775,
           0.00825,
           0.00875,
           0.009250000000000001,
           0.00975,
           0.01
          ],
          [
           0,
           0.00025,
           0.00075,
           0.00125,
           0.00175,
           0.0022500000000000003,
           0.00275,
           0.0032500000000000003,
           0.00375,
           0.00425,
           0.004750000000000001,
           0.00525,
           0.00575,
           0.00625,
           0.006750000000000001,
           0.00725,
           0.00775,
           0.00825,
           0.00875,
           0.009250000000000001,
           0.00975,
           0.01
          ],
          [
           0,
           0.00025,
           0.00075,
           0.00125,
           0.00175,
           0.0022500000000000003,
           0.00275,
           0.0032500000000000003,
           0.00375,
           0.00425,
           0.004750000000000001,
           0.00525,
           0.00575,
           0.00625,
           0.006750000000000001,
           0.00725,
           0.00775,
           0.00825,
           0.00875,
           0.009250000000000001,
           0.00975,
           0.01
          ],
          [
           0,
           0.00025,
           0.00075,
           0.00125,
           0.00175,
           0.0022500000000000003,
           0.00275,
           0.0032500000000000003,
           0.00375,
           0.00425,
           0.004750000000000001,
           0.00525,
           0.00575,
           0.00625,
           0.006750000000000001,
           0.00725,
           0.00775,
           0.00825,
           0.00875,
           0.009250000000000001,
           0.00975,
           0.01
          ],
          [
           0,
           0.00025,
           0.00075,
           0.00125,
           0.00175,
           0.0022500000000000003,
           0.00275,
           0.0032500000000000003,
           0.00375,
           0.00425,
           0.004750000000000001,
           0.00525,
           0.00575,
           0.00625,
           0.006750000000000001,
           0.00725,
           0.00775,
           0.00825,
           0.00875,
           0.009250000000000001,
           0.00975,
           0.01
          ],
          [
           0,
           0.00025,
           0.00075,
           0.00125,
           0.00175,
           0.0022500000000000003,
           0.00275,
           0.0032500000000000003,
           0.00375,
           0.00425,
           0.004750000000000001,
           0.00525,
           0.00575,
           0.00625,
           0.006750000000000001,
           0.00725,
           0.00775,
           0.00825,
           0.00875,
           0.009250000000000001,
           0.00975,
           0.01
          ],
          [
           0,
           0.00025,
           0.00075,
           0.00125,
           0.00175,
           0.0022500000000000003,
           0.00275,
           0.0032500000000000003,
           0.00375,
           0.00425,
           0.004750000000000001,
           0.00525,
           0.00575,
           0.00625,
           0.006750000000000001,
           0.00725,
           0.00775,
           0.00825,
           0.00875,
           0.009250000000000001,
           0.00975,
           0.01
          ]
         ],
         "y": [
          [
           0,
           0,
           0,
           0,
           0,
           0,
           0,
           0,
           0,
           0,
           0,
           0,
           0,
           0,
           0,
           0,
           0,
           0,
           0,
           0,
           0,
           0
          ],
          [
           0.00025,
           0.00025,
           0.00025,
           0.00025,
           0.00025,
           0.00025,
           0.00025,
           0.00025,
           0.00025,
           0.00025,
           0.00025,
           0.00025,
           0.00025,
           0.00025,
           0.00025,
           0.00025,
           0.00025,
           0.00025,
           0.00025,
           0.00025,
           0.00025,
           0.00025
          ],
          [
           0.00075,
           0.00075,
           0.00075,
           0.00075,
           0.00075,
           0.00075,
           0.00075,
           0.00075,
           0.00075,
           0.00075,
           0.00075,
           0.00075,
           0.00075,
           0.00075,
           0.00075,
           0.00075,
           0.00075,
           0.00075,
           0.00075,
           0.00075,
           0.00075,
           0.00075
          ],
          [
           0.00125,
           0.00125,
           0.00125,
           0.00125,
           0.00125,
           0.00125,
           0.00125,
           0.00125,
           0.00125,
           0.00125,
           0.00125,
           0.00125,
           0.00125,
           0.00125,
           0.00125,
           0.00125,
           0.00125,
           0.00125,
           0.00125,
           0.00125,
           0.00125,
           0.00125
          ],
          [
           0.00175,
           0.00175,
           0.00175,
           0.00175,
           0.00175,
           0.00175,
           0.00175,
           0.00175,
           0.00175,
           0.00175,
           0.00175,
           0.00175,
           0.00175,
           0.00175,
           0.00175,
           0.00175,
           0.00175,
           0.00175,
           0.00175,
           0.00175,
           0.00175,
           0.00175
          ],
          [
           0.0022500000000000003,
           0.0022500000000000003,
           0.0022500000000000003,
           0.0022500000000000003,
           0.0022500000000000003,
           0.0022500000000000003,
           0.0022500000000000003,
           0.0022500000000000003,
           0.0022500000000000003,
           0.0022500000000000003,
           0.0022500000000000003,
           0.0022500000000000003,
           0.0022500000000000003,
           0.0022500000000000003,
           0.0022500000000000003,
           0.0022500000000000003,
           0.0022500000000000003,
           0.0022500000000000003,
           0.0022500000000000003,
           0.0022500000000000003,
           0.0022500000000000003,
           0.0022500000000000003
          ],
          [
           0.00275,
           0.00275,
           0.00275,
           0.00275,
           0.00275,
           0.00275,
           0.00275,
           0.00275,
           0.00275,
           0.00275,
           0.00275,
           0.00275,
           0.00275,
           0.00275,
           0.00275,
           0.00275,
           0.00275,
           0.00275,
           0.00275,
           0.00275,
           0.00275,
           0.00275
          ],
          [
           0.0032500000000000003,
           0.0032500000000000003,
           0.0032500000000000003,
           0.0032500000000000003,
           0.0032500000000000003,
           0.0032500000000000003,
           0.0032500000000000003,
           0.0032500000000000003,
           0.0032500000000000003,
           0.0032500000000000003,
           0.0032500000000000003,
           0.0032500000000000003,
           0.0032500000000000003,
           0.0032500000000000003,
           0.0032500000000000003,
           0.0032500000000000003,
           0.0032500000000000003,
           0.0032500000000000003,
           0.0032500000000000003,
           0.0032500000000000003,
           0.0032500000000000003,
           0.0032500000000000003
          ],
          [
           0.00375,
           0.00375,
           0.00375,
           0.00375,
           0.00375,
           0.00375,
           0.00375,
           0.00375,
           0.00375,
           0.00375,
           0.00375,
           0.00375,
           0.00375,
           0.00375,
           0.00375,
           0.00375,
           0.00375,
           0.00375,
           0.00375,
           0.00375,
           0.00375,
           0.00375
          ],
          [
           0.00425,
           0.00425,
           0.00425,
           0.00425,
           0.00425,
           0.00425,
           0.00425,
           0.00425,
           0.00425,
           0.00425,
           0.00425,
           0.00425,
           0.00425,
           0.00425,
           0.00425,
           0.00425,
           0.00425,
           0.00425,
           0.00425,
           0.00425,
           0.00425,
           0.00425
          ],
          [
           0.004750000000000001,
           0.004750000000000001,
           0.004750000000000001,
           0.004750000000000001,
           0.004750000000000001,
           0.004750000000000001,
           0.004750000000000001,
           0.004750000000000001,
           0.004750000000000001,
           0.004750000000000001,
           0.004750000000000001,
           0.004750000000000001,
           0.004750000000000001,
           0.004750000000000001,
           0.004750000000000001,
           0.004750000000000001,
           0.004750000000000001,
           0.004750000000000001,
           0.004750000000000001,
           0.004750000000000001,
           0.004750000000000001,
           0.004750000000000001
          ],
          [
           0.00525,
           0.00525,
           0.00525,
           0.00525,
           0.00525,
           0.00525,
           0.00525,
           0.00525,
           0.00525,
           0.00525,
           0.00525,
           0.00525,
           0.00525,
           0.00525,
           0.00525,
           0.00525,
           0.00525,
           0.00525,
           0.00525,
           0.00525,
           0.00525,
           0.00525
          ],
          [
           0.00575,
           0.00575,
           0.00575,
           0.00575,
           0.00575,
           0.00575,
           0.00575,
           0.00575,
           0.00575,
           0.00575,
           0.00575,
           0.00575,
           0.00575,
           0.00575,
           0.00575,
           0.00575,
           0.00575,
           0.00575,
           0.00575,
           0.00575,
           0.00575,
           0.00575
          ],
          [
           0.00625,
           0.00625,
           0.00625,
           0.00625,
           0.00625,
           0.00625,
           0.00625,
           0.00625,
           0.00625,
           0.00625,
           0.00625,
           0.00625,
           0.00625,
           0.00625,
           0.00625,
           0.00625,
           0.00625,
           0.00625,
           0.00625,
           0.00625,
           0.00625,
           0.00625
          ],
          [
           0.006750000000000001,
           0.006750000000000001,
           0.006750000000000001,
           0.006750000000000001,
           0.006750000000000001,
           0.006750000000000001,
           0.006750000000000001,
           0.006750000000000001,
           0.006750000000000001,
           0.006750000000000001,
           0.006750000000000001,
           0.006750000000000001,
           0.006750000000000001,
           0.006750000000000001,
           0.006750000000000001,
           0.006750000000000001,
           0.006750000000000001,
           0.006750000000000001,
           0.006750000000000001,
           0.006750000000000001,
           0.006750000000000001,
           0.006750000000000001
          ],
          [
           0.00725,
           0.00725,
           0.00725,
           0.00725,
           0.00725,
           0.00725,
           0.00725,
           0.00725,
           0.00725,
           0.00725,
           0.00725,
           0.00725,
           0.00725,
           0.00725,
           0.00725,
           0.00725,
           0.00725,
           0.00725,
           0.00725,
           0.00725,
           0.00725,
           0.00725
          ],
          [
           0.00775,
           0.00775,
           0.00775,
           0.00775,
           0.00775,
           0.00775,
           0.00775,
           0.00775,
           0.00775,
           0.00775,
           0.00775,
           0.00775,
           0.00775,
           0.00775,
           0.00775,
           0.00775,
           0.00775,
           0.00775,
           0.00775,
           0.00775,
           0.00775,
           0.00775
          ],
          [
           0.00825,
           0.00825,
           0.00825,
           0.00825,
           0.00825,
           0.00825,
           0.00825,
           0.00825,
           0.00825,
           0.00825,
           0.00825,
           0.00825,
           0.00825,
           0.00825,
           0.00825,
           0.00825,
           0.00825,
           0.00825,
           0.00825,
           0.00825,
           0.00825,
           0.00825
          ],
          [
           0.00875,
           0.00875,
           0.00875,
           0.00875,
           0.00875,
           0.00875,
           0.00875,
           0.00875,
           0.00875,
           0.00875,
           0.00875,
           0.00875,
           0.00875,
           0.00875,
           0.00875,
           0.00875,
           0.00875,
           0.00875,
           0.00875,
           0.00875,
           0.00875,
           0.00875
          ],
          [
           0.009250000000000001,
           0.009250000000000001,
           0.009250000000000001,
           0.009250000000000001,
           0.009250000000000001,
           0.009250000000000001,
           0.009250000000000001,
           0.009250000000000001,
           0.009250000000000001,
           0.009250000000000001,
           0.009250000000000001,
           0.009250000000000001,
           0.009250000000000001,
           0.009250000000000001,
           0.009250000000000001,
           0.009250000000000001,
           0.009250000000000001,
           0.009250000000000001,
           0.009250000000000001,
           0.009250000000000001,
           0.009250000000000001,
           0.009250000000000001
          ],
          [
           0.00975,
           0.00975,
           0.00975,
           0.00975,
           0.00975,
           0.00975,
           0.00975,
           0.00975,
           0.00975,
           0.00975,
           0.00975,
           0.00975,
           0.00975,
           0.00975,
           0.00975,
           0.00975,
           0.00975,
           0.00975,
           0.00975,
           0.00975,
           0.00975,
           0.00975
          ],
          [
           0.01,
           0.01,
           0.01,
           0.01,
           0.01,
           0.01,
           0.01,
           0.01,
           0.01,
           0.01,
           0.01,
           0.01,
           0.01,
           0.01,
           0.01,
           0.01,
           0.01,
           0.01,
           0.01,
           0.01,
           0.01,
           0.01
          ]
         ],
         "z": [
          [
           -1.3439984900135197e-21,
           -1.276794188947072e-21,
           -1.1423855867940285e-21,
           -1.0079769846440906e-21,
           -8.735683824939694e-22,
           -7.391597803439123e-22,
           -6.047511781938976e-22,
           -4.70342576043929e-22,
           -3.3593397389399826e-22,
           -2.0152537174409393e-22,
           -6.71167695942017e-23,
           6.729183255569493e-23,
           2.017004347056133e-22,
           3.361090368555721e-22,
           4.70517639005589e-22,
           6.049262411556807e-22,
           7.393348433058634e-22,
           8.737434454561498e-22,
           1.0081520476065763e-21,
           1.1425606497569789e-21,
           1.2769692519100044e-21,
           1.3441735529783819e-21
          ],
          [
           -1.3439984900220287e-21,
           -1.2767941889444472e-21,
           -1.1423855867945989e-21,
           -1.0079769846444747e-21,
           -8.735683824943892e-22,
           -7.391597803443303e-22,
           -6.047511781943113e-22,
           -4.703425760443319e-22,
           -3.3593397389438604e-22,
           -2.0152537174446323e-22,
           -6.711676959455048e-23,
           6.729183255536702e-23,
           2.0170043470530497e-22,
           3.3610903685527943e-22,
           4.705176390053059e-22,
           6.049262411553991e-22,
           7.393348433055716e-22,
           8.737434454558335e-22,
           1.008152047606188e-21,
           1.1425606497566582e-21,
           1.2769692519070218e-21,
           1.344173552984355e-21
          ],
          [
           -1.3439984900234295e-21,
           -1.2767941889478341e-21,
           -1.1423855867970802e-21,
           -1.007976984646636e-21,
           -8.735683824963044e-22,
           -7.39159780346049e-22,
           -6.047511781958472e-22,
           -4.703425760456869e-22,
           -3.359339738955572e-22,
           -2.0152537174544758e-22,
           -6.711676959534693e-23,
           6.729183255475731e-23,
           2.017004347048776e-22,
           3.361090368550263e-22,
           4.705176390052152e-22,
           6.049262411554548e-22,
           7.393348433057544e-22,
           8.737434454561239e-22,
           1.0081520476065782e-21,
           1.1425606497571434e-21,
           1.2769692519079726e-21,
           1.3441735529836744e-21
          ],
          [
           -1.3439984900255464e-21,
           -1.2767941889497204e-21,
           -1.1423855867990193e-21,
           -1.0079769846484567e-21,
           -8.735683824979922e-22,
           -7.391597803475987e-22,
           -6.047511781972552e-22,
           -4.7034257604694795e-22,
           -3.3593397389666725e-22,
           -2.0152537174640343e-22,
           -6.711676959614742e-23,
           6.729183255411042e-23,
           2.0170043470437936e-22,
           3.3610903685466855e-22,
           4.705176390049858e-22,
           6.049262411553386e-22,
           7.393348433057334e-22,
           8.737434454561786e-22,
           1.008152047606688e-21,
           1.1425606497572864e-21,
           1.2769692519080224e-21,
           1.3441735529838877e-21
          ],
          [
           -1.3439984900271413e-21,
           -1.2767941889513525e-21,
           -1.1423855868006455e-21,
           -1.0079769846500193e-21,
           -8.735683824994662e-22,
           -7.391597803489719e-22,
           -6.047511781985212e-22,
           -4.703425760481017e-22,
           -3.359339738977044e-22,
           -2.0152537174732123e-22,
           -6.711676959694464e-23,
           6.729183255343208e-23,
           2.0170043470381566e-22,
           3.3610903685421227e-22,
           4.705176390046276e-22,
           6.049262411550671e-22,
           7.393348433055376e-22,
           8.737434454560479e-22,
           1.0081520476066115e-21,
           1.1425606497572474e-21,
           1.276969251907977e-21,
           1.3441735529837963e-21
          ],
          [
           -1.3439984900285097e-21,
           -1.2767941889527334e-21,
           -1.142385586802029e-21,
           -1.0079769846513651e-21,
           -8.735683825007512e-22,
           -7.391597803501841e-22,
           -6.047511781996541e-22,
           -4.703425760491517e-22,
           -3.359339738986686e-22,
           -2.0152537174819775e-22,
           -6.711676959773329e-23,
           6.729183255273003e-23,
           2.0170043470319695e-22,
           3.3610903685367197e-22,
           4.705176390041598e-22,
           6.049262411546658e-22,
           7.393348433051969e-22,
           8.737434454557628e-22,
           1.0081520476063743e-21,
           1.1425606497570419e-21,
           1.2769692519077666e-21,
           1.3441735529835663e-21
          ],
          [
           -1.3439984900296888e-21,
           -1.276794188953921e-21,
           -1.1423855868032172e-21,
           -1.0079769846525305e-21,
           -8.735683825018759e-22,
           -7.391597803512574e-22,
           -6.047511782006711e-22,
           -4.7034257605010965e-22,
           -3.359339738995664e-22,
           -2.0152537174903524e-22,
           -6.711676959851081e-23,
           6.729183255201131e-23,
           2.017004347025351e-22,
           3.3610903685306466e-22,
           4.705176390036044e-22,
           6.0492624115416e-22,
           7.393348433047388e-22,
           8.737434454553488e-22,
           1.0081520476059974e-21,
           1.1425606497566873e-21,
           1.2769692519074106e-21,
           1.3441735529831978e-21
          ],
          [
           -1.3439984900307148e-21,
           -1.2767941889549494e-21,
           -1.1423855868042457e-21,
           -1.0079769846535457e-21,
           -8.735683825028663e-22,
           -7.391597803522147e-22,
           -6.04751178201591e-22,
           -4.703425760509904e-22,
           -3.3593397390040805e-22,
           -2.0152537174983834e-22,
           -6.711676959927619e-23,
           6.729183255128268e-23,
           2.0170043470184248e-22,
           3.3610903685240723e-22,
           4.70517639002982e-22,
           6.049262411535727e-22,
           7.393348433041856e-22,
           8.737434454548273e-22,
           1.008152047605501e-21,
           1.142560649756205e-21,
           1.2769692519069276e-21,
           1.34417355298271e-21
          ],
          [
           -1.3439984900316172e-21,
           -1.2767941889558499e-21,
           -1.1423855868051447e-21,
           -1.0079769846544393e-21,
           -8.735683825037478e-22,
           -7.391597803530783e-22,
           -6.047511782024326e-22,
           -4.703425760518095e-22,
           -3.3593397390120447e-22,
           -2.015253717506128e-22,
           -6.711676960002969e-23,
           6.729183255054956e-23,
           2.0170043470112945e-22,
           3.361090368517147e-22,
           4.705176390023107e-22,
           6.049262411529232e-22,
           7.393348433035576e-22,
           8.737434454542188e-22,
           1.0081520476049069e-21,
           1.1425606497556181e-21,
           1.2769692519063417e-21,
           1.344173552982124e-21
          ],
          [
           -1.3439984900324225e-21,
           -1.2767941889566517e-21,
           -1.1423855868059446e-21,
           -1.007976984655238e-21,
           -8.735683825045432e-22,
           -7.391597803538671e-22,
           -6.047511782032127e-22,
           -4.703425760525798e-22,
           -3.359339739019649e-22,
           -2.0152537175136397e-22,
           -6.711676960077186e-23,
           6.729183254981606e-23,
           2.017004347004047e-22,
           3.3610903685099927e-22,
           4.70517639001605e-22,
           6.049262411522276e-22,
           7.393348433028725e-22,
           8.737434454535421e-22,
           1.0081520476042362e-21,
           1.1425606497549504e-21,
           1.2769692519056752e-21,
           1.34417355298146e-21
          ],
          [
           -1.343998490033154e-21,
           -1.2767941889573786e-21,
           -1.1423855868066693e-21,
           -1.0079769846559644e-21,
           -8.735683825052724e-22,
           -7.391597803545986e-22,
           -6.047511782039459e-22,
           -4.703425760533134e-22,
           -3.3593397390269847e-22,
           -2.015253717520968e-22,
           -6.711676960150372e-23,
           6.729183254908535e-23,
           2.017004346996752e-22,
           3.3610903685027093e-22,
           4.705176390008779e-22,
           6.049262411515016e-22,
           7.393348433021467e-22,
           8.737434454528158e-22,
           1.0081520476035085e-21,
           1.1425606497542222e-21,
           1.276969251904949e-21,
           1.3441735529807372e-21
          ],
          [
           -1.34399849003383e-21,
           -1.2767941889580498e-21,
           -1.1423855868073377e-21,
           -1.0079769846566366e-21,
           -8.735683825059525e-22,
           -7.391597803552883e-22,
           -6.047511782046453e-22,
           -4.703425760540212e-22,
           -3.359339739034127e-22,
           -2.0152537175281584e-22,
           -6.711676960222635e-23,
           6.729183254835973e-23,
           2.017004346989464e-22,
           3.3610903684953794e-22,
           4.705176390001395e-22,
           6.049262411507562e-22,
           7.393348433013933e-22,
           8.737434454520546e-22,
           1.0081520476027415e-21,
           1.1425606497534522e-21,
           1.2769692519041809e-21,
           1.344173552979973e-21
          ],
          [
           -1.3439984900344673e-21,
           -1.2767941889586823e-21,
           -1.1423855868079672e-21,
           -1.0079769846572712e-21,
           -8.735683825065991e-22,
           -7.391597803559507e-22,
           -6.047511782053234e-22,
           -4.703425760547131e-22,
           -3.359339739041152e-22,
           -2.015253717535256e-22,
           -6.71167696029411e-23,
           6.729183254764089e-23,
           2.017004346982229e-22,
           3.361090368488078e-22,
           4.705176389993998e-22,
           6.049262411500041e-22,
           7.393348433006266e-22,
           8.737434454512733e-22,
           1.008152047601949e-21,
           1.1425606497526532e-21,
           1.276969251903384e-21,
           1.3441735529791809e-21
          ],
          [
           -1.3439984900350788e-21,
           -1.2767941889592874e-21,
           -1.1423855868085694e-21,
           -1.0079769846578819e-21,
           -8.73568382507227e-22,
           -7.391597803565992e-22,
           -6.047511782059924e-22,
           -4.703425760553989e-22,
           -3.359339739048128e-22,
           -2.0152537175423036e-22,
           -6.71167696036496e-23,
           6.729183254693e-23,
           2.0170043469750864e-22,
           3.361090368480872e-22,
           4.7051763899866835e-22,
           6.049262411492566e-22,
           7.393348432998594e-22,
           8.737434454504858e-22,
           1.008152047601144e-21,
           1.1425606497518396e-21,
           1.2769692519025725e-21,
           1.3441735529783753e-21
          ],
          [
           -1.3439984900356767e-21,
           -1.276794188959876e-21,
           -1.142385586809155e-21,
           -1.007976984658481e-21,
           -8.73568382507849e-22,
           -7.391597803572474e-22,
           -6.047511782066641e-22,
           -4.703425760560878e-22,
           -3.359339739055119e-22,
           -2.0152537175493354e-22,
           -6.711676960435296e-23,
           6.729183254622803e-23,
           2.0170043469680694e-22,
           3.3610903684738222e-22,
           4.70517638997954e-22,
           6.04926241148526e-22,
           7.393348432991061e-22,
           8.737434454497059e-22,
           1.0081520476003403e-21,
           1.142560649751022e-21,
           1.2769692519017571e-21,
           1.3441735529775688e-21
          ],
          [
           -1.343998490036278e-21,
           -1.2767941889604629e-21,
           -1.1423855868097389e-21,
           -1.0079769846590843e-21,
           -8.73568382508482e-22,
           -7.391597803579105e-22,
           -6.047511782073502e-22,
           -4.703425760567879e-22,
           -3.359339739062175e-22,
           -2.0152537175563802e-22,
           -6.711676960505213e-23,
           6.72918325455356e-23,
           2.017004346961201e-22,
           3.36109036846697e-22,
           4.7051763899726415e-22,
           6.049262411478229e-22,
           7.393348432983807e-22,
           8.737434454489511e-22,
           1.0081520475995551e-21,
           1.1425606497502163e-21,
           1.2769692519009535e-21,
           1.3441735529767795e-21
          ],
          [
           -1.3439984900369077e-21,
           -1.2767941889610704e-21,
           -1.1423855868103438e-21,
           -1.0079769846597172e-21,
           -8.735683825091497e-22,
           -7.39159780358606e-22,
           -6.047511782080624e-22,
           -4.7034257605750605e-22,
           -3.3593397390693293e-22,
           -2.015253717563453e-22,
           -6.711676960574807e-23,
           6.72918325448521e-23,
           2.0170043469544828e-22,
           3.361090368460342e-22,
           4.705176389966052e-22,
           6.049262411471594e-22,
           7.393348432977011e-22,
           8.737434454482441e-22,
           1.0081520475988137e-21,
           1.1425606497494467e-21,
           1.2769692519001852e-21,
           1.3441735529760326e-21
          ],
          [
           -1.3439984900376011e-21,
           -1.2767941889617394e-21,
           -1.142385586811008e-21,
           -1.0079769846604136e-21,
           -8.735683825098768e-22,
           -7.391597803593505e-22,
           -6.047511782088098e-22,
           -4.70342576058246e-22,
           -3.3593397390765953e-22,
           -2.0152537175705564e-22,
           -6.711676960644118e-23,
           6.729183254417671e-23,
           2.0170043469479097e-22,
           3.361090368453945e-22,
           4.705176389959806e-22,
           6.049262411465445e-22,
           7.393348432970856e-22,
           8.73743445447613e-22,
           1.0081520475981522e-21,
           1.1425606497487517e-21,
           1.2769692518994936e-21,
           1.3441735529753651e-21
          ],
          [
           -1.3439984900384352e-21,
           -1.2767941889625182e-21,
           -1.1423855868117846e-21,
           -1.0079769846612186e-21,
           -8.73568382510693e-22,
           -7.391597803601589e-22,
           -6.047511782095978e-22,
           -4.703425760590087e-22,
           -3.3593397390839713e-22,
           -2.0152537175776945e-22,
           -6.711676960713245e-23,
           6.729183254350777e-23,
           2.0170043469414562e-22,
           3.361090368447751e-22,
           4.705176389953895e-22,
           6.049262411459817e-22,
           7.393348432965465e-22,
           8.737434454470848e-22,
           1.0081520475976147e-21,
           1.1425606497481865e-21,
           1.27696925189893e-21,
           1.344173552974856e-21
          ],
          [
           -1.3439984900391535e-21,
           -1.2767941889636211e-21,
           -1.1423855868127397e-21,
           -1.007976984662178e-21,
           -8.735683825116191e-22,
           -7.391597803610374e-22,
           -6.04751178210427e-22,
           -4.70342576059794e-22,
           -3.359339739091453e-22,
           -2.015253717584869e-22,
           -6.711676960782284e-23,
           6.729183254284368e-23,
           2.0170043469350996e-22,
           3.3610903684417294e-22,
           4.705176389948283e-22,
           6.049262411454696e-22,
           7.393348432960894e-22,
           8.737434454466812e-22,
           1.0081520475972504e-21,
           1.1425606497478224e-21,
           1.2769692518987138e-21,
           1.3441735529742534e-21
          ],
          [
           -1.3439984900416207e-21,
           -1.2767941889635171e-21,
           -1.1423855868137232e-21,
           -1.0079769846632203e-21,
           -8.735683825126344e-22,
           -7.391597803619791e-22,
           -6.0475117821129565e-22,
           -4.703425760606021e-22,
           -3.3593397390990585e-22,
           -2.015253717592098e-22,
           -6.711676960851381e-23,
           6.72918325421835e-23,
           2.0170043469288338e-22,
           3.3610903684358683e-22,
           4.705176389942941e-22,
           6.049262411450023e-22,
           7.393348432957031e-22,
           8.73743445446379e-22,
           1.0081520475969875e-21,
           1.1425606497475127e-21,
           1.276969251897323e-21,
           1.3441735529754262e-21
          ],
          [
           -1.3439984900319364e-21,
           -1.2767941889708063e-21,
           -1.1423855868158816e-21,
           -1.0079769846653242e-21,
           -8.735683825143702e-22,
           -7.3915978036345385e-22,
           -6.047511782125351e-22,
           -4.703425760616262e-22,
           -3.359339739107271e-22,
           -2.0152537175983538e-22,
           -6.711676960894733e-23,
           6.72918325419411e-23,
           2.0170043469283408e-22,
           3.3610903684373466e-22,
           4.705176389946474e-22,
           6.049262411455742e-22,
           7.393348432965151e-22,
           8.737434454474585e-22,
           1.0081520475984447e-21,
           1.1425606497490365e-21,
           1.2769692519039877e-21,
           1.3441735529650975e-21
          ]
         ]
        }
       ],
       "layout": {
        "template": {
         "data": {
          "bar": [
           {
            "error_x": {
             "color": "#2a3f5f"
            },
            "error_y": {
             "color": "#2a3f5f"
            },
            "marker": {
             "line": {
              "color": "#E5ECF6",
              "width": 0.5
             },
             "pattern": {
              "fillmode": "overlay",
              "size": 10,
              "solidity": 0.2
             }
            },
            "type": "bar"
           }
          ],
          "barpolar": [
           {
            "marker": {
             "line": {
              "color": "#E5ECF6",
              "width": 0.5
             },
             "pattern": {
              "fillmode": "overlay",
              "size": 10,
              "solidity": 0.2
             }
            },
            "type": "barpolar"
           }
          ],
          "carpet": [
           {
            "aaxis": {
             "endlinecolor": "#2a3f5f",
             "gridcolor": "white",
             "linecolor": "white",
             "minorgridcolor": "white",
             "startlinecolor": "#2a3f5f"
            },
            "baxis": {
             "endlinecolor": "#2a3f5f",
             "gridcolor": "white",
             "linecolor": "white",
             "minorgridcolor": "white",
             "startlinecolor": "#2a3f5f"
            },
            "type": "carpet"
           }
          ],
          "choropleth": [
           {
            "colorbar": {
             "outlinewidth": 0,
             "ticks": ""
            },
            "type": "choropleth"
           }
          ],
          "contour": [
           {
            "colorbar": {
             "outlinewidth": 0,
             "ticks": ""
            },
            "colorscale": [
             [
              0,
              "#0d0887"
             ],
             [
              0.1111111111111111,
              "#46039f"
             ],
             [
              0.2222222222222222,
              "#7201a8"
             ],
             [
              0.3333333333333333,
              "#9c179e"
             ],
             [
              0.4444444444444444,
              "#bd3786"
             ],
             [
              0.5555555555555556,
              "#d8576b"
             ],
             [
              0.6666666666666666,
              "#ed7953"
             ],
             [
              0.7777777777777778,
              "#fb9f3a"
             ],
             [
              0.8888888888888888,
              "#fdca26"
             ],
             [
              1,
              "#f0f921"
             ]
            ],
            "type": "contour"
           }
          ],
          "contourcarpet": [
           {
            "colorbar": {
             "outlinewidth": 0,
             "ticks": ""
            },
            "type": "contourcarpet"
           }
          ],
          "heatmap": [
           {
            "colorbar": {
             "outlinewidth": 0,
             "ticks": ""
            },
            "colorscale": [
             [
              0,
              "#0d0887"
             ],
             [
              0.1111111111111111,
              "#46039f"
             ],
             [
              0.2222222222222222,
              "#7201a8"
             ],
             [
              0.3333333333333333,
              "#9c179e"
             ],
             [
              0.4444444444444444,
              "#bd3786"
             ],
             [
              0.5555555555555556,
              "#d8576b"
             ],
             [
              0.6666666666666666,
              "#ed7953"
             ],
             [
              0.7777777777777778,
              "#fb9f3a"
             ],
             [
              0.8888888888888888,
              "#fdca26"
             ],
             [
              1,
              "#f0f921"
             ]
            ],
            "type": "heatmap"
           }
          ],
          "heatmapgl": [
           {
            "colorbar": {
             "outlinewidth": 0,
             "ticks": ""
            },
            "colorscale": [
             [
              0,
              "#0d0887"
             ],
             [
              0.1111111111111111,
              "#46039f"
             ],
             [
              0.2222222222222222,
              "#7201a8"
             ],
             [
              0.3333333333333333,
              "#9c179e"
             ],
             [
              0.4444444444444444,
              "#bd3786"
             ],
             [
              0.5555555555555556,
              "#d8576b"
             ],
             [
              0.6666666666666666,
              "#ed7953"
             ],
             [
              0.7777777777777778,
              "#fb9f3a"
             ],
             [
              0.8888888888888888,
              "#fdca26"
             ],
             [
              1,
              "#f0f921"
             ]
            ],
            "type": "heatmapgl"
           }
          ],
          "histogram": [
           {
            "marker": {
             "pattern": {
              "fillmode": "overlay",
              "size": 10,
              "solidity": 0.2
             }
            },
            "type": "histogram"
           }
          ],
          "histogram2d": [
           {
            "colorbar": {
             "outlinewidth": 0,
             "ticks": ""
            },
            "colorscale": [
             [
              0,
              "#0d0887"
             ],
             [
              0.1111111111111111,
              "#46039f"
             ],
             [
              0.2222222222222222,
              "#7201a8"
             ],
             [
              0.3333333333333333,
              "#9c179e"
             ],
             [
              0.4444444444444444,
              "#bd3786"
             ],
             [
              0.5555555555555556,
              "#d8576b"
             ],
             [
              0.6666666666666666,
              "#ed7953"
             ],
             [
              0.7777777777777778,
              "#fb9f3a"
             ],
             [
              0.8888888888888888,
              "#fdca26"
             ],
             [
              1,
              "#f0f921"
             ]
            ],
            "type": "histogram2d"
           }
          ],
          "histogram2dcontour": [
           {
            "colorbar": {
             "outlinewidth": 0,
             "ticks": ""
            },
            "colorscale": [
             [
              0,
              "#0d0887"
             ],
             [
              0.1111111111111111,
              "#46039f"
             ],
             [
              0.2222222222222222,
              "#7201a8"
             ],
             [
              0.3333333333333333,
              "#9c179e"
             ],
             [
              0.4444444444444444,
              "#bd3786"
             ],
             [
              0.5555555555555556,
              "#d8576b"
             ],
             [
              0.6666666666666666,
              "#ed7953"
             ],
             [
              0.7777777777777778,
              "#fb9f3a"
             ],
             [
              0.8888888888888888,
              "#fdca26"
             ],
             [
              1,
              "#f0f921"
             ]
            ],
            "type": "histogram2dcontour"
           }
          ],
          "mesh3d": [
           {
            "colorbar": {
             "outlinewidth": 0,
             "ticks": ""
            },
            "type": "mesh3d"
           }
          ],
          "parcoords": [
           {
            "line": {
             "colorbar": {
              "outlinewidth": 0,
              "ticks": ""
             }
            },
            "type": "parcoords"
           }
          ],
          "pie": [
           {
            "automargin": true,
            "type": "pie"
           }
          ],
          "scatter": [
           {
            "marker": {
             "colorbar": {
              "outlinewidth": 0,
              "ticks": ""
             }
            },
            "type": "scatter"
           }
          ],
          "scatter3d": [
           {
            "line": {
             "colorbar": {
              "outlinewidth": 0,
              "ticks": ""
             }
            },
            "marker": {
             "colorbar": {
              "outlinewidth": 0,
              "ticks": ""
             }
            },
            "type": "scatter3d"
           }
          ],
          "scattercarpet": [
           {
            "marker": {
             "colorbar": {
              "outlinewidth": 0,
              "ticks": ""
             }
            },
            "type": "scattercarpet"
           }
          ],
          "scattergeo": [
           {
            "marker": {
             "colorbar": {
              "outlinewidth": 0,
              "ticks": ""
             }
            },
            "type": "scattergeo"
           }
          ],
          "scattergl": [
           {
            "marker": {
             "colorbar": {
              "outlinewidth": 0,
              "ticks": ""
             }
            },
            "type": "scattergl"
           }
          ],
          "scattermapbox": [
           {
            "marker": {
             "colorbar": {
              "outlinewidth": 0,
              "ticks": ""
             }
            },
            "type": "scattermapbox"
           }
          ],
          "scatterpolar": [
           {
            "marker": {
             "colorbar": {
              "outlinewidth": 0,
              "ticks": ""
             }
            },
            "type": "scatterpolar"
           }
          ],
          "scatterpolargl": [
           {
            "marker": {
             "colorbar": {
              "outlinewidth": 0,
              "ticks": ""
             }
            },
            "type": "scatterpolargl"
           }
          ],
          "scatterternary": [
           {
            "marker": {
             "colorbar": {
              "outlinewidth": 0,
              "ticks": ""
             }
            },
            "type": "scatterternary"
           }
          ],
          "surface": [
           {
            "colorbar": {
             "outlinewidth": 0,
             "ticks": ""
            },
            "colorscale": [
             [
              0,
              "#0d0887"
             ],
             [
              0.1111111111111111,
              "#46039f"
             ],
             [
              0.2222222222222222,
              "#7201a8"
             ],
             [
              0.3333333333333333,
              "#9c179e"
             ],
             [
              0.4444444444444444,
              "#bd3786"
             ],
             [
              0.5555555555555556,
              "#d8576b"
             ],
             [
              0.6666666666666666,
              "#ed7953"
             ],
             [
              0.7777777777777778,
              "#fb9f3a"
             ],
             [
              0.8888888888888888,
              "#fdca26"
             ],
             [
              1,
              "#f0f921"
             ]
            ],
            "type": "surface"
           }
          ],
          "table": [
           {
            "cells": {
             "fill": {
              "color": "#EBF0F8"
             },
             "line": {
              "color": "white"
             }
            },
            "header": {
             "fill": {
              "color": "#C8D4E3"
             },
             "line": {
              "color": "white"
             }
            },
            "type": "table"
           }
          ]
         },
         "layout": {
          "annotationdefaults": {
           "arrowcolor": "#2a3f5f",
           "arrowhead": 0,
           "arrowwidth": 1
          },
          "autotypenumbers": "strict",
          "coloraxis": {
           "colorbar": {
            "outlinewidth": 0,
            "ticks": ""
           }
          },
          "colorscale": {
           "diverging": [
            [
             0,
             "#8e0152"
            ],
            [
             0.1,
             "#c51b7d"
            ],
            [
             0.2,
             "#de77ae"
            ],
            [
             0.3,
             "#f1b6da"
            ],
            [
             0.4,
             "#fde0ef"
            ],
            [
             0.5,
             "#f7f7f7"
            ],
            [
             0.6,
             "#e6f5d0"
            ],
            [
             0.7,
             "#b8e186"
            ],
            [
             0.8,
             "#7fbc41"
            ],
            [
             0.9,
             "#4d9221"
            ],
            [
             1,
             "#276419"
            ]
           ],
           "sequential": [
            [
             0,
             "#0d0887"
            ],
            [
             0.1111111111111111,
             "#46039f"
            ],
            [
             0.2222222222222222,
             "#7201a8"
            ],
            [
             0.3333333333333333,
             "#9c179e"
            ],
            [
             0.4444444444444444,
             "#bd3786"
            ],
            [
             0.5555555555555556,
             "#d8576b"
            ],
            [
             0.6666666666666666,
             "#ed7953"
            ],
            [
             0.7777777777777778,
             "#fb9f3a"
            ],
            [
             0.8888888888888888,
             "#fdca26"
            ],
            [
             1,
             "#f0f921"
            ]
           ],
           "sequentialminus": [
            [
             0,
             "#0d0887"
            ],
            [
             0.1111111111111111,
             "#46039f"
            ],
            [
             0.2222222222222222,
             "#7201a8"
            ],
            [
             0.3333333333333333,
             "#9c179e"
            ],
            [
             0.4444444444444444,
             "#bd3786"
            ],
            [
             0.5555555555555556,
             "#d8576b"
            ],
            [
             0.6666666666666666,
             "#ed7953"
            ],
            [
             0.7777777777777778,
             "#fb9f3a"
            ],
            [
             0.8888888888888888,
             "#fdca26"
            ],
            [
             1,
             "#f0f921"
            ]
           ]
          },
          "colorway": [
           "#636efa",
           "#EF553B",
           "#00cc96",
           "#ab63fa",
           "#FFA15A",
           "#19d3f3",
           "#FF6692",
           "#B6E880",
           "#FF97FF",
           "#FECB52"
          ],
          "font": {
           "color": "#2a3f5f"
          },
          "geo": {
           "bgcolor": "white",
           "lakecolor": "white",
           "landcolor": "#E5ECF6",
           "showlakes": true,
           "showland": true,
           "subunitcolor": "white"
          },
          "hoverlabel": {
           "align": "left"
          },
          "hovermode": "closest",
          "mapbox": {
           "style": "light"
          },
          "paper_bgcolor": "white",
          "plot_bgcolor": "#E5ECF6",
          "polar": {
           "angularaxis": {
            "gridcolor": "white",
            "linecolor": "white",
            "ticks": ""
           },
           "bgcolor": "#E5ECF6",
           "radialaxis": {
            "gridcolor": "white",
            "linecolor": "white",
            "ticks": ""
           }
          },
          "scene": {
           "xaxis": {
            "backgroundcolor": "#E5ECF6",
            "gridcolor": "white",
            "gridwidth": 2,
            "linecolor": "white",
            "showbackground": true,
            "ticks": "",
            "zerolinecolor": "white"
           },
           "yaxis": {
            "backgroundcolor": "#E5ECF6",
            "gridcolor": "white",
            "gridwidth": 2,
            "linecolor": "white",
            "showbackground": true,
            "ticks": "",
            "zerolinecolor": "white"
           },
           "zaxis": {
            "backgroundcolor": "#E5ECF6",
            "gridcolor": "white",
            "gridwidth": 2,
            "linecolor": "white",
            "showbackground": true,
            "ticks": "",
            "zerolinecolor": "white"
           }
          },
          "shapedefaults": {
           "line": {
            "color": "#2a3f5f"
           }
          },
          "ternary": {
           "aaxis": {
            "gridcolor": "white",
            "linecolor": "white",
            "ticks": ""
           },
           "baxis": {
            "gridcolor": "white",
            "linecolor": "white",
            "ticks": ""
           },
           "bgcolor": "#E5ECF6",
           "caxis": {
            "gridcolor": "white",
            "linecolor": "white",
            "ticks": ""
           }
          },
          "title": {
           "x": 0.05
          },
          "xaxis": {
           "automargin": true,
           "gridcolor": "white",
           "linecolor": "white",
           "ticks": "",
           "title": {
            "standoff": 15
           },
           "zerolinecolor": "white",
           "zerolinewidth": 2
          },
          "yaxis": {
           "automargin": true,
           "gridcolor": "white",
           "linecolor": "white",
           "ticks": "",
           "title": {
            "standoff": 15
           },
           "zerolinecolor": "white",
           "zerolinewidth": 2
          }
         }
        }
       }
      },
      "text/html": [
       "<div>                            <div id=\"b222ed73-c766-4208-b06d-af9c45147bed\" class=\"plotly-graph-div\" style=\"height:525px; width:100%;\"></div>            <script type=\"text/javascript\">                require([\"plotly\"], function(Plotly) {                    window.PLOTLYENV=window.PLOTLYENV || {};                                    if (document.getElementById(\"b222ed73-c766-4208-b06d-af9c45147bed\")) {                    Plotly.newPlot(                        \"b222ed73-c766-4208-b06d-af9c45147bed\",                        [{\"x\":[[0.0,0.00025,0.00075,0.00125,0.00175,0.0022500000000000003,0.00275,0.0032500000000000003,0.00375,0.00425,0.004750000000000001,0.00525,0.00575,0.00625,0.006750000000000001,0.00725,0.00775,0.00825,0.00875,0.009250000000000001,0.00975,0.01],[0.0,0.00025,0.00075,0.00125,0.00175,0.0022500000000000003,0.00275,0.0032500000000000003,0.00375,0.00425,0.004750000000000001,0.00525,0.00575,0.00625,0.006750000000000001,0.00725,0.00775,0.00825,0.00875,0.009250000000000001,0.00975,0.01],[0.0,0.00025,0.00075,0.00125,0.00175,0.0022500000000000003,0.00275,0.0032500000000000003,0.00375,0.00425,0.004750000000000001,0.00525,0.00575,0.00625,0.006750000000000001,0.00725,0.00775,0.00825,0.00875,0.009250000000000001,0.00975,0.01],[0.0,0.00025,0.00075,0.00125,0.00175,0.0022500000000000003,0.00275,0.0032500000000000003,0.00375,0.00425,0.004750000000000001,0.00525,0.00575,0.00625,0.006750000000000001,0.00725,0.00775,0.00825,0.00875,0.009250000000000001,0.00975,0.01],[0.0,0.00025,0.00075,0.00125,0.00175,0.0022500000000000003,0.00275,0.0032500000000000003,0.00375,0.00425,0.004750000000000001,0.00525,0.00575,0.00625,0.006750000000000001,0.00725,0.00775,0.00825,0.00875,0.009250000000000001,0.00975,0.01],[0.0,0.00025,0.00075,0.00125,0.00175,0.0022500000000000003,0.00275,0.0032500000000000003,0.00375,0.00425,0.004750000000000001,0.00525,0.00575,0.00625,0.006750000000000001,0.00725,0.00775,0.00825,0.00875,0.009250000000000001,0.00975,0.01],[0.0,0.00025,0.00075,0.00125,0.00175,0.0022500000000000003,0.00275,0.0032500000000000003,0.00375,0.00425,0.004750000000000001,0.00525,0.00575,0.00625,0.006750000000000001,0.00725,0.00775,0.00825,0.00875,0.009250000000000001,0.00975,0.01],[0.0,0.00025,0.00075,0.00125,0.00175,0.0022500000000000003,0.00275,0.0032500000000000003,0.00375,0.00425,0.004750000000000001,0.00525,0.00575,0.00625,0.006750000000000001,0.00725,0.00775,0.00825,0.00875,0.009250000000000001,0.00975,0.01],[0.0,0.00025,0.00075,0.00125,0.00175,0.0022500000000000003,0.00275,0.0032500000000000003,0.00375,0.00425,0.004750000000000001,0.00525,0.00575,0.00625,0.006750000000000001,0.00725,0.00775,0.00825,0.00875,0.009250000000000001,0.00975,0.01],[0.0,0.00025,0.00075,0.00125,0.00175,0.0022500000000000003,0.00275,0.0032500000000000003,0.00375,0.00425,0.004750000000000001,0.00525,0.00575,0.00625,0.006750000000000001,0.00725,0.00775,0.00825,0.00875,0.009250000000000001,0.00975,0.01],[0.0,0.00025,0.00075,0.00125,0.00175,0.0022500000000000003,0.00275,0.0032500000000000003,0.00375,0.00425,0.004750000000000001,0.00525,0.00575,0.00625,0.006750000000000001,0.00725,0.00775,0.00825,0.00875,0.009250000000000001,0.00975,0.01],[0.0,0.00025,0.00075,0.00125,0.00175,0.0022500000000000003,0.00275,0.0032500000000000003,0.00375,0.00425,0.004750000000000001,0.00525,0.00575,0.00625,0.006750000000000001,0.00725,0.00775,0.00825,0.00875,0.009250000000000001,0.00975,0.01],[0.0,0.00025,0.00075,0.00125,0.00175,0.0022500000000000003,0.00275,0.0032500000000000003,0.00375,0.00425,0.004750000000000001,0.00525,0.00575,0.00625,0.006750000000000001,0.00725,0.00775,0.00825,0.00875,0.009250000000000001,0.00975,0.01],[0.0,0.00025,0.00075,0.00125,0.00175,0.0022500000000000003,0.00275,0.0032500000000000003,0.00375,0.00425,0.004750000000000001,0.00525,0.00575,0.00625,0.006750000000000001,0.00725,0.00775,0.00825,0.00875,0.009250000000000001,0.00975,0.01],[0.0,0.00025,0.00075,0.00125,0.00175,0.0022500000000000003,0.00275,0.0032500000000000003,0.00375,0.00425,0.004750000000000001,0.00525,0.00575,0.00625,0.006750000000000001,0.00725,0.00775,0.00825,0.00875,0.009250000000000001,0.00975,0.01],[0.0,0.00025,0.00075,0.00125,0.00175,0.0022500000000000003,0.00275,0.0032500000000000003,0.00375,0.00425,0.004750000000000001,0.00525,0.00575,0.00625,0.006750000000000001,0.00725,0.00775,0.00825,0.00875,0.009250000000000001,0.00975,0.01],[0.0,0.00025,0.00075,0.00125,0.00175,0.0022500000000000003,0.00275,0.0032500000000000003,0.00375,0.00425,0.004750000000000001,0.00525,0.00575,0.00625,0.006750000000000001,0.00725,0.00775,0.00825,0.00875,0.009250000000000001,0.00975,0.01],[0.0,0.00025,0.00075,0.00125,0.00175,0.0022500000000000003,0.00275,0.0032500000000000003,0.00375,0.00425,0.004750000000000001,0.00525,0.00575,0.00625,0.006750000000000001,0.00725,0.00775,0.00825,0.00875,0.009250000000000001,0.00975,0.01],[0.0,0.00025,0.00075,0.00125,0.00175,0.0022500000000000003,0.00275,0.0032500000000000003,0.00375,0.00425,0.004750000000000001,0.00525,0.00575,0.00625,0.006750000000000001,0.00725,0.00775,0.00825,0.00875,0.009250000000000001,0.00975,0.01],[0.0,0.00025,0.00075,0.00125,0.00175,0.0022500000000000003,0.00275,0.0032500000000000003,0.00375,0.00425,0.004750000000000001,0.00525,0.00575,0.00625,0.006750000000000001,0.00725,0.00775,0.00825,0.00875,0.009250000000000001,0.00975,0.01],[0.0,0.00025,0.00075,0.00125,0.00175,0.0022500000000000003,0.00275,0.0032500000000000003,0.00375,0.00425,0.004750000000000001,0.00525,0.00575,0.00625,0.006750000000000001,0.00725,0.00775,0.00825,0.00875,0.009250000000000001,0.00975,0.01],[0.0,0.00025,0.00075,0.00125,0.00175,0.0022500000000000003,0.00275,0.0032500000000000003,0.00375,0.00425,0.004750000000000001,0.00525,0.00575,0.00625,0.006750000000000001,0.00725,0.00775,0.00825,0.00875,0.009250000000000001,0.00975,0.01]],\"y\":[[0.0,0.0,0.0,0.0,0.0,0.0,0.0,0.0,0.0,0.0,0.0,0.0,0.0,0.0,0.0,0.0,0.0,0.0,0.0,0.0,0.0,0.0],[0.00025,0.00025,0.00025,0.00025,0.00025,0.00025,0.00025,0.00025,0.00025,0.00025,0.00025,0.00025,0.00025,0.00025,0.00025,0.00025,0.00025,0.00025,0.00025,0.00025,0.00025,0.00025],[0.00075,0.00075,0.00075,0.00075,0.00075,0.00075,0.00075,0.00075,0.00075,0.00075,0.00075,0.00075,0.00075,0.00075,0.00075,0.00075,0.00075,0.00075,0.00075,0.00075,0.00075,0.00075],[0.00125,0.00125,0.00125,0.00125,0.00125,0.00125,0.00125,0.00125,0.00125,0.00125,0.00125,0.00125,0.00125,0.00125,0.00125,0.00125,0.00125,0.00125,0.00125,0.00125,0.00125,0.00125],[0.00175,0.00175,0.00175,0.00175,0.00175,0.00175,0.00175,0.00175,0.00175,0.00175,0.00175,0.00175,0.00175,0.00175,0.00175,0.00175,0.00175,0.00175,0.00175,0.00175,0.00175,0.00175],[0.0022500000000000003,0.0022500000000000003,0.0022500000000000003,0.0022500000000000003,0.0022500000000000003,0.0022500000000000003,0.0022500000000000003,0.0022500000000000003,0.0022500000000000003,0.0022500000000000003,0.0022500000000000003,0.0022500000000000003,0.0022500000000000003,0.0022500000000000003,0.0022500000000000003,0.0022500000000000003,0.0022500000000000003,0.0022500000000000003,0.0022500000000000003,0.0022500000000000003,0.0022500000000000003,0.0022500000000000003],[0.00275,0.00275,0.00275,0.00275,0.00275,0.00275,0.00275,0.00275,0.00275,0.00275,0.00275,0.00275,0.00275,0.00275,0.00275,0.00275,0.00275,0.00275,0.00275,0.00275,0.00275,0.00275],[0.0032500000000000003,0.0032500000000000003,0.0032500000000000003,0.0032500000000000003,0.0032500000000000003,0.0032500000000000003,0.0032500000000000003,0.0032500000000000003,0.0032500000000000003,0.0032500000000000003,0.0032500000000000003,0.0032500000000000003,0.0032500000000000003,0.0032500000000000003,0.0032500000000000003,0.0032500000000000003,0.0032500000000000003,0.0032500000000000003,0.0032500000000000003,0.0032500000000000003,0.0032500000000000003,0.0032500000000000003],[0.00375,0.00375,0.00375,0.00375,0.00375,0.00375,0.00375,0.00375,0.00375,0.00375,0.00375,0.00375,0.00375,0.00375,0.00375,0.00375,0.00375,0.00375,0.00375,0.00375,0.00375,0.00375],[0.00425,0.00425,0.00425,0.00425,0.00425,0.00425,0.00425,0.00425,0.00425,0.00425,0.00425,0.00425,0.00425,0.00425,0.00425,0.00425,0.00425,0.00425,0.00425,0.00425,0.00425,0.00425],[0.004750000000000001,0.004750000000000001,0.004750000000000001,0.004750000000000001,0.004750000000000001,0.004750000000000001,0.004750000000000001,0.004750000000000001,0.004750000000000001,0.004750000000000001,0.004750000000000001,0.004750000000000001,0.004750000000000001,0.004750000000000001,0.004750000000000001,0.004750000000000001,0.004750000000000001,0.004750000000000001,0.004750000000000001,0.004750000000000001,0.004750000000000001,0.004750000000000001],[0.00525,0.00525,0.00525,0.00525,0.00525,0.00525,0.00525,0.00525,0.00525,0.00525,0.00525,0.00525,0.00525,0.00525,0.00525,0.00525,0.00525,0.00525,0.00525,0.00525,0.00525,0.00525],[0.00575,0.00575,0.00575,0.00575,0.00575,0.00575,0.00575,0.00575,0.00575,0.00575,0.00575,0.00575,0.00575,0.00575,0.00575,0.00575,0.00575,0.00575,0.00575,0.00575,0.00575,0.00575],[0.00625,0.00625,0.00625,0.00625,0.00625,0.00625,0.00625,0.00625,0.00625,0.00625,0.00625,0.00625,0.00625,0.00625,0.00625,0.00625,0.00625,0.00625,0.00625,0.00625,0.00625,0.00625],[0.006750000000000001,0.006750000000000001,0.006750000000000001,0.006750000000000001,0.006750000000000001,0.006750000000000001,0.006750000000000001,0.006750000000000001,0.006750000000000001,0.006750000000000001,0.006750000000000001,0.006750000000000001,0.006750000000000001,0.006750000000000001,0.006750000000000001,0.006750000000000001,0.006750000000000001,0.006750000000000001,0.006750000000000001,0.006750000000000001,0.006750000000000001,0.006750000000000001],[0.00725,0.00725,0.00725,0.00725,0.00725,0.00725,0.00725,0.00725,0.00725,0.00725,0.00725,0.00725,0.00725,0.00725,0.00725,0.00725,0.00725,0.00725,0.00725,0.00725,0.00725,0.00725],[0.00775,0.00775,0.00775,0.00775,0.00775,0.00775,0.00775,0.00775,0.00775,0.00775,0.00775,0.00775,0.00775,0.00775,0.00775,0.00775,0.00775,0.00775,0.00775,0.00775,0.00775,0.00775],[0.00825,0.00825,0.00825,0.00825,0.00825,0.00825,0.00825,0.00825,0.00825,0.00825,0.00825,0.00825,0.00825,0.00825,0.00825,0.00825,0.00825,0.00825,0.00825,0.00825,0.00825,0.00825],[0.00875,0.00875,0.00875,0.00875,0.00875,0.00875,0.00875,0.00875,0.00875,0.00875,0.00875,0.00875,0.00875,0.00875,0.00875,0.00875,0.00875,0.00875,0.00875,0.00875,0.00875,0.00875],[0.009250000000000001,0.009250000000000001,0.009250000000000001,0.009250000000000001,0.009250000000000001,0.009250000000000001,0.009250000000000001,0.009250000000000001,0.009250000000000001,0.009250000000000001,0.009250000000000001,0.009250000000000001,0.009250000000000001,0.009250000000000001,0.009250000000000001,0.009250000000000001,0.009250000000000001,0.009250000000000001,0.009250000000000001,0.009250000000000001,0.009250000000000001,0.009250000000000001],[0.00975,0.00975,0.00975,0.00975,0.00975,0.00975,0.00975,0.00975,0.00975,0.00975,0.00975,0.00975,0.00975,0.00975,0.00975,0.00975,0.00975,0.00975,0.00975,0.00975,0.00975,0.00975],[0.01,0.01,0.01,0.01,0.01,0.01,0.01,0.01,0.01,0.01,0.01,0.01,0.01,0.01,0.01,0.01,0.01,0.01,0.01,0.01,0.01,0.01]],\"z\":[[-1.3439984900135197e-21,-1.276794188947072e-21,-1.1423855867940285e-21,-1.0079769846440906e-21,-8.735683824939694e-22,-7.391597803439123e-22,-6.047511781938976e-22,-4.70342576043929e-22,-3.3593397389399826e-22,-2.0152537174409393e-22,-6.71167695942017e-23,6.729183255569493e-23,2.017004347056133e-22,3.361090368555721e-22,4.70517639005589e-22,6.049262411556807e-22,7.393348433058634e-22,8.737434454561498e-22,1.0081520476065763e-21,1.1425606497569789e-21,1.2769692519100044e-21,1.3441735529783819e-21],[-1.3439984900220287e-21,-1.2767941889444472e-21,-1.1423855867945989e-21,-1.0079769846444747e-21,-8.735683824943892e-22,-7.391597803443303e-22,-6.047511781943113e-22,-4.703425760443319e-22,-3.3593397389438604e-22,-2.0152537174446323e-22,-6.711676959455048e-23,6.729183255536702e-23,2.0170043470530497e-22,3.3610903685527943e-22,4.705176390053059e-22,6.049262411553991e-22,7.393348433055716e-22,8.737434454558335e-22,1.008152047606188e-21,1.1425606497566582e-21,1.2769692519070218e-21,1.344173552984355e-21],[-1.3439984900234295e-21,-1.2767941889478341e-21,-1.1423855867970802e-21,-1.007976984646636e-21,-8.735683824963044e-22,-7.39159780346049e-22,-6.047511781958472e-22,-4.703425760456869e-22,-3.359339738955572e-22,-2.0152537174544758e-22,-6.711676959534693e-23,6.729183255475731e-23,2.017004347048776e-22,3.361090368550263e-22,4.705176390052152e-22,6.049262411554548e-22,7.393348433057544e-22,8.737434454561239e-22,1.0081520476065782e-21,1.1425606497571434e-21,1.2769692519079726e-21,1.3441735529836744e-21],[-1.3439984900255464e-21,-1.2767941889497204e-21,-1.1423855867990193e-21,-1.0079769846484567e-21,-8.735683824979922e-22,-7.391597803475987e-22,-6.047511781972552e-22,-4.7034257604694795e-22,-3.3593397389666725e-22,-2.0152537174640343e-22,-6.711676959614742e-23,6.729183255411042e-23,2.0170043470437936e-22,3.3610903685466855e-22,4.705176390049858e-22,6.049262411553386e-22,7.393348433057334e-22,8.737434454561786e-22,1.008152047606688e-21,1.1425606497572864e-21,1.2769692519080224e-21,1.3441735529838877e-21],[-1.3439984900271413e-21,-1.2767941889513525e-21,-1.1423855868006455e-21,-1.0079769846500193e-21,-8.735683824994662e-22,-7.391597803489719e-22,-6.047511781985212e-22,-4.703425760481017e-22,-3.359339738977044e-22,-2.0152537174732123e-22,-6.711676959694464e-23,6.729183255343208e-23,2.0170043470381566e-22,3.3610903685421227e-22,4.705176390046276e-22,6.049262411550671e-22,7.393348433055376e-22,8.737434454560479e-22,1.0081520476066115e-21,1.1425606497572474e-21,1.276969251907977e-21,1.3441735529837963e-21],[-1.3439984900285097e-21,-1.2767941889527334e-21,-1.142385586802029e-21,-1.0079769846513651e-21,-8.735683825007512e-22,-7.391597803501841e-22,-6.047511781996541e-22,-4.703425760491517e-22,-3.359339738986686e-22,-2.0152537174819775e-22,-6.711676959773329e-23,6.729183255273003e-23,2.0170043470319695e-22,3.3610903685367197e-22,4.705176390041598e-22,6.049262411546658e-22,7.393348433051969e-22,8.737434454557628e-22,1.0081520476063743e-21,1.1425606497570419e-21,1.2769692519077666e-21,1.3441735529835663e-21],[-1.3439984900296888e-21,-1.276794188953921e-21,-1.1423855868032172e-21,-1.0079769846525305e-21,-8.735683825018759e-22,-7.391597803512574e-22,-6.047511782006711e-22,-4.7034257605010965e-22,-3.359339738995664e-22,-2.0152537174903524e-22,-6.711676959851081e-23,6.729183255201131e-23,2.017004347025351e-22,3.3610903685306466e-22,4.705176390036044e-22,6.0492624115416e-22,7.393348433047388e-22,8.737434454553488e-22,1.0081520476059974e-21,1.1425606497566873e-21,1.2769692519074106e-21,1.3441735529831978e-21],[-1.3439984900307148e-21,-1.2767941889549494e-21,-1.1423855868042457e-21,-1.0079769846535457e-21,-8.735683825028663e-22,-7.391597803522147e-22,-6.04751178201591e-22,-4.703425760509904e-22,-3.3593397390040805e-22,-2.0152537174983834e-22,-6.711676959927619e-23,6.729183255128268e-23,2.0170043470184248e-22,3.3610903685240723e-22,4.70517639002982e-22,6.049262411535727e-22,7.393348433041856e-22,8.737434454548273e-22,1.008152047605501e-21,1.142560649756205e-21,1.2769692519069276e-21,1.34417355298271e-21],[-1.3439984900316172e-21,-1.2767941889558499e-21,-1.1423855868051447e-21,-1.0079769846544393e-21,-8.735683825037478e-22,-7.391597803530783e-22,-6.047511782024326e-22,-4.703425760518095e-22,-3.3593397390120447e-22,-2.015253717506128e-22,-6.711676960002969e-23,6.729183255054956e-23,2.0170043470112945e-22,3.361090368517147e-22,4.705176390023107e-22,6.049262411529232e-22,7.393348433035576e-22,8.737434454542188e-22,1.0081520476049069e-21,1.1425606497556181e-21,1.2769692519063417e-21,1.344173552982124e-21],[-1.3439984900324225e-21,-1.2767941889566517e-21,-1.1423855868059446e-21,-1.007976984655238e-21,-8.735683825045432e-22,-7.391597803538671e-22,-6.047511782032127e-22,-4.703425760525798e-22,-3.359339739019649e-22,-2.0152537175136397e-22,-6.711676960077186e-23,6.729183254981606e-23,2.017004347004047e-22,3.3610903685099927e-22,4.70517639001605e-22,6.049262411522276e-22,7.393348433028725e-22,8.737434454535421e-22,1.0081520476042362e-21,1.1425606497549504e-21,1.2769692519056752e-21,1.34417355298146e-21],[-1.343998490033154e-21,-1.2767941889573786e-21,-1.1423855868066693e-21,-1.0079769846559644e-21,-8.735683825052724e-22,-7.391597803545986e-22,-6.047511782039459e-22,-4.703425760533134e-22,-3.3593397390269847e-22,-2.015253717520968e-22,-6.711676960150372e-23,6.729183254908535e-23,2.017004346996752e-22,3.3610903685027093e-22,4.705176390008779e-22,6.049262411515016e-22,7.393348433021467e-22,8.737434454528158e-22,1.0081520476035085e-21,1.1425606497542222e-21,1.276969251904949e-21,1.3441735529807372e-21],[-1.34399849003383e-21,-1.2767941889580498e-21,-1.1423855868073377e-21,-1.0079769846566366e-21,-8.735683825059525e-22,-7.391597803552883e-22,-6.047511782046453e-22,-4.703425760540212e-22,-3.359339739034127e-22,-2.0152537175281584e-22,-6.711676960222635e-23,6.729183254835973e-23,2.017004346989464e-22,3.3610903684953794e-22,4.705176390001395e-22,6.049262411507562e-22,7.393348433013933e-22,8.737434454520546e-22,1.0081520476027415e-21,1.1425606497534522e-21,1.2769692519041809e-21,1.344173552979973e-21],[-1.3439984900344673e-21,-1.2767941889586823e-21,-1.1423855868079672e-21,-1.0079769846572712e-21,-8.735683825065991e-22,-7.391597803559507e-22,-6.047511782053234e-22,-4.703425760547131e-22,-3.359339739041152e-22,-2.015253717535256e-22,-6.71167696029411e-23,6.729183254764089e-23,2.017004346982229e-22,3.361090368488078e-22,4.705176389993998e-22,6.049262411500041e-22,7.393348433006266e-22,8.737434454512733e-22,1.008152047601949e-21,1.1425606497526532e-21,1.276969251903384e-21,1.3441735529791809e-21],[-1.3439984900350788e-21,-1.2767941889592874e-21,-1.1423855868085694e-21,-1.0079769846578819e-21,-8.73568382507227e-22,-7.391597803565992e-22,-6.047511782059924e-22,-4.703425760553989e-22,-3.359339739048128e-22,-2.0152537175423036e-22,-6.71167696036496e-23,6.729183254693e-23,2.0170043469750864e-22,3.361090368480872e-22,4.7051763899866835e-22,6.049262411492566e-22,7.393348432998594e-22,8.737434454504858e-22,1.008152047601144e-21,1.1425606497518396e-21,1.2769692519025725e-21,1.3441735529783753e-21],[-1.3439984900356767e-21,-1.276794188959876e-21,-1.142385586809155e-21,-1.007976984658481e-21,-8.73568382507849e-22,-7.391597803572474e-22,-6.047511782066641e-22,-4.703425760560878e-22,-3.359339739055119e-22,-2.0152537175493354e-22,-6.711676960435296e-23,6.729183254622803e-23,2.0170043469680694e-22,3.3610903684738222e-22,4.70517638997954e-22,6.04926241148526e-22,7.393348432991061e-22,8.737434454497059e-22,1.0081520476003403e-21,1.142560649751022e-21,1.2769692519017571e-21,1.3441735529775688e-21],[-1.343998490036278e-21,-1.2767941889604629e-21,-1.1423855868097389e-21,-1.0079769846590843e-21,-8.73568382508482e-22,-7.391597803579105e-22,-6.047511782073502e-22,-4.703425760567879e-22,-3.359339739062175e-22,-2.0152537175563802e-22,-6.711676960505213e-23,6.72918325455356e-23,2.017004346961201e-22,3.36109036846697e-22,4.7051763899726415e-22,6.049262411478229e-22,7.393348432983807e-22,8.737434454489511e-22,1.0081520475995551e-21,1.1425606497502163e-21,1.2769692519009535e-21,1.3441735529767795e-21],[-1.3439984900369077e-21,-1.2767941889610704e-21,-1.1423855868103438e-21,-1.0079769846597172e-21,-8.735683825091497e-22,-7.39159780358606e-22,-6.047511782080624e-22,-4.7034257605750605e-22,-3.3593397390693293e-22,-2.015253717563453e-22,-6.711676960574807e-23,6.72918325448521e-23,2.0170043469544828e-22,3.361090368460342e-22,4.705176389966052e-22,6.049262411471594e-22,7.393348432977011e-22,8.737434454482441e-22,1.0081520475988137e-21,1.1425606497494467e-21,1.2769692519001852e-21,1.3441735529760326e-21],[-1.3439984900376011e-21,-1.2767941889617394e-21,-1.142385586811008e-21,-1.0079769846604136e-21,-8.735683825098768e-22,-7.391597803593505e-22,-6.047511782088098e-22,-4.70342576058246e-22,-3.3593397390765953e-22,-2.0152537175705564e-22,-6.711676960644118e-23,6.729183254417671e-23,2.0170043469479097e-22,3.361090368453945e-22,4.705176389959806e-22,6.049262411465445e-22,7.393348432970856e-22,8.73743445447613e-22,1.0081520475981522e-21,1.1425606497487517e-21,1.2769692518994936e-21,1.3441735529753651e-21],[-1.3439984900384352e-21,-1.2767941889625182e-21,-1.1423855868117846e-21,-1.0079769846612186e-21,-8.73568382510693e-22,-7.391597803601589e-22,-6.047511782095978e-22,-4.703425760590087e-22,-3.3593397390839713e-22,-2.0152537175776945e-22,-6.711676960713245e-23,6.729183254350777e-23,2.0170043469414562e-22,3.361090368447751e-22,4.705176389953895e-22,6.049262411459817e-22,7.393348432965465e-22,8.737434454470848e-22,1.0081520475976147e-21,1.1425606497481865e-21,1.27696925189893e-21,1.344173552974856e-21],[-1.3439984900391535e-21,-1.2767941889636211e-21,-1.1423855868127397e-21,-1.007976984662178e-21,-8.735683825116191e-22,-7.391597803610374e-22,-6.04751178210427e-22,-4.70342576059794e-22,-3.359339739091453e-22,-2.015253717584869e-22,-6.711676960782284e-23,6.729183254284368e-23,2.0170043469350996e-22,3.3610903684417294e-22,4.705176389948283e-22,6.049262411454696e-22,7.393348432960894e-22,8.737434454466812e-22,1.0081520475972504e-21,1.1425606497478224e-21,1.2769692518987138e-21,1.3441735529742534e-21],[-1.3439984900416207e-21,-1.2767941889635171e-21,-1.1423855868137232e-21,-1.0079769846632203e-21,-8.735683825126344e-22,-7.391597803619791e-22,-6.0475117821129565e-22,-4.703425760606021e-22,-3.3593397390990585e-22,-2.015253717592098e-22,-6.711676960851381e-23,6.72918325421835e-23,2.0170043469288338e-22,3.3610903684358683e-22,4.705176389942941e-22,6.049262411450023e-22,7.393348432957031e-22,8.73743445446379e-22,1.0081520475969875e-21,1.1425606497475127e-21,1.276969251897323e-21,1.3441735529754262e-21],[-1.3439984900319364e-21,-1.2767941889708063e-21,-1.1423855868158816e-21,-1.0079769846653242e-21,-8.735683825143702e-22,-7.3915978036345385e-22,-6.047511782125351e-22,-4.703425760616262e-22,-3.359339739107271e-22,-2.0152537175983538e-22,-6.711676960894733e-23,6.72918325419411e-23,2.0170043469283408e-22,3.3610903684373466e-22,4.705176389946474e-22,6.049262411455742e-22,7.393348432965151e-22,8.737434454474585e-22,1.0081520475984447e-21,1.1425606497490365e-21,1.2769692519039877e-21,1.3441735529650975e-21]],\"type\":\"surface\"}],                        {\"template\":{\"data\":{\"bar\":[{\"error_x\":{\"color\":\"#2a3f5f\"},\"error_y\":{\"color\":\"#2a3f5f\"},\"marker\":{\"line\":{\"color\":\"#E5ECF6\",\"width\":0.5},\"pattern\":{\"fillmode\":\"overlay\",\"size\":10,\"solidity\":0.2}},\"type\":\"bar\"}],\"barpolar\":[{\"marker\":{\"line\":{\"color\":\"#E5ECF6\",\"width\":0.5},\"pattern\":{\"fillmode\":\"overlay\",\"size\":10,\"solidity\":0.2}},\"type\":\"barpolar\"}],\"carpet\":[{\"aaxis\":{\"endlinecolor\":\"#2a3f5f\",\"gridcolor\":\"white\",\"linecolor\":\"white\",\"minorgridcolor\":\"white\",\"startlinecolor\":\"#2a3f5f\"},\"baxis\":{\"endlinecolor\":\"#2a3f5f\",\"gridcolor\":\"white\",\"linecolor\":\"white\",\"minorgridcolor\":\"white\",\"startlinecolor\":\"#2a3f5f\"},\"type\":\"carpet\"}],\"choropleth\":[{\"colorbar\":{\"outlinewidth\":0,\"ticks\":\"\"},\"type\":\"choropleth\"}],\"contour\":[{\"colorbar\":{\"outlinewidth\":0,\"ticks\":\"\"},\"colorscale\":[[0.0,\"#0d0887\"],[0.1111111111111111,\"#46039f\"],[0.2222222222222222,\"#7201a8\"],[0.3333333333333333,\"#9c179e\"],[0.4444444444444444,\"#bd3786\"],[0.5555555555555556,\"#d8576b\"],[0.6666666666666666,\"#ed7953\"],[0.7777777777777778,\"#fb9f3a\"],[0.8888888888888888,\"#fdca26\"],[1.0,\"#f0f921\"]],\"type\":\"contour\"}],\"contourcarpet\":[{\"colorbar\":{\"outlinewidth\":0,\"ticks\":\"\"},\"type\":\"contourcarpet\"}],\"heatmap\":[{\"colorbar\":{\"outlinewidth\":0,\"ticks\":\"\"},\"colorscale\":[[0.0,\"#0d0887\"],[0.1111111111111111,\"#46039f\"],[0.2222222222222222,\"#7201a8\"],[0.3333333333333333,\"#9c179e\"],[0.4444444444444444,\"#bd3786\"],[0.5555555555555556,\"#d8576b\"],[0.6666666666666666,\"#ed7953\"],[0.7777777777777778,\"#fb9f3a\"],[0.8888888888888888,\"#fdca26\"],[1.0,\"#f0f921\"]],\"type\":\"heatmap\"}],\"heatmapgl\":[{\"colorbar\":{\"outlinewidth\":0,\"ticks\":\"\"},\"colorscale\":[[0.0,\"#0d0887\"],[0.1111111111111111,\"#46039f\"],[0.2222222222222222,\"#7201a8\"],[0.3333333333333333,\"#9c179e\"],[0.4444444444444444,\"#bd3786\"],[0.5555555555555556,\"#d8576b\"],[0.6666666666666666,\"#ed7953\"],[0.7777777777777778,\"#fb9f3a\"],[0.8888888888888888,\"#fdca26\"],[1.0,\"#f0f921\"]],\"type\":\"heatmapgl\"}],\"histogram\":[{\"marker\":{\"pattern\":{\"fillmode\":\"overlay\",\"size\":10,\"solidity\":0.2}},\"type\":\"histogram\"}],\"histogram2d\":[{\"colorbar\":{\"outlinewidth\":0,\"ticks\":\"\"},\"colorscale\":[[0.0,\"#0d0887\"],[0.1111111111111111,\"#46039f\"],[0.2222222222222222,\"#7201a8\"],[0.3333333333333333,\"#9c179e\"],[0.4444444444444444,\"#bd3786\"],[0.5555555555555556,\"#d8576b\"],[0.6666666666666666,\"#ed7953\"],[0.7777777777777778,\"#fb9f3a\"],[0.8888888888888888,\"#fdca26\"],[1.0,\"#f0f921\"]],\"type\":\"histogram2d\"}],\"histogram2dcontour\":[{\"colorbar\":{\"outlinewidth\":0,\"ticks\":\"\"},\"colorscale\":[[0.0,\"#0d0887\"],[0.1111111111111111,\"#46039f\"],[0.2222222222222222,\"#7201a8\"],[0.3333333333333333,\"#9c179e\"],[0.4444444444444444,\"#bd3786\"],[0.5555555555555556,\"#d8576b\"],[0.6666666666666666,\"#ed7953\"],[0.7777777777777778,\"#fb9f3a\"],[0.8888888888888888,\"#fdca26\"],[1.0,\"#f0f921\"]],\"type\":\"histogram2dcontour\"}],\"mesh3d\":[{\"colorbar\":{\"outlinewidth\":0,\"ticks\":\"\"},\"type\":\"mesh3d\"}],\"parcoords\":[{\"line\":{\"colorbar\":{\"outlinewidth\":0,\"ticks\":\"\"}},\"type\":\"parcoords\"}],\"pie\":[{\"automargin\":true,\"type\":\"pie\"}],\"scatter\":[{\"marker\":{\"colorbar\":{\"outlinewidth\":0,\"ticks\":\"\"}},\"type\":\"scatter\"}],\"scatter3d\":[{\"line\":{\"colorbar\":{\"outlinewidth\":0,\"ticks\":\"\"}},\"marker\":{\"colorbar\":{\"outlinewidth\":0,\"ticks\":\"\"}},\"type\":\"scatter3d\"}],\"scattercarpet\":[{\"marker\":{\"colorbar\":{\"outlinewidth\":0,\"ticks\":\"\"}},\"type\":\"scattercarpet\"}],\"scattergeo\":[{\"marker\":{\"colorbar\":{\"outlinewidth\":0,\"ticks\":\"\"}},\"type\":\"scattergeo\"}],\"scattergl\":[{\"marker\":{\"colorbar\":{\"outlinewidth\":0,\"ticks\":\"\"}},\"type\":\"scattergl\"}],\"scattermapbox\":[{\"marker\":{\"colorbar\":{\"outlinewidth\":0,\"ticks\":\"\"}},\"type\":\"scattermapbox\"}],\"scatterpolar\":[{\"marker\":{\"colorbar\":{\"outlinewidth\":0,\"ticks\":\"\"}},\"type\":\"scatterpolar\"}],\"scatterpolargl\":[{\"marker\":{\"colorbar\":{\"outlinewidth\":0,\"ticks\":\"\"}},\"type\":\"scatterpolargl\"}],\"scatterternary\":[{\"marker\":{\"colorbar\":{\"outlinewidth\":0,\"ticks\":\"\"}},\"type\":\"scatterternary\"}],\"surface\":[{\"colorbar\":{\"outlinewidth\":0,\"ticks\":\"\"},\"colorscale\":[[0.0,\"#0d0887\"],[0.1111111111111111,\"#46039f\"],[0.2222222222222222,\"#7201a8\"],[0.3333333333333333,\"#9c179e\"],[0.4444444444444444,\"#bd3786\"],[0.5555555555555556,\"#d8576b\"],[0.6666666666666666,\"#ed7953\"],[0.7777777777777778,\"#fb9f3a\"],[0.8888888888888888,\"#fdca26\"],[1.0,\"#f0f921\"]],\"type\":\"surface\"}],\"table\":[{\"cells\":{\"fill\":{\"color\":\"#EBF0F8\"},\"line\":{\"color\":\"white\"}},\"header\":{\"fill\":{\"color\":\"#C8D4E3\"},\"line\":{\"color\":\"white\"}},\"type\":\"table\"}]},\"layout\":{\"annotationdefaults\":{\"arrowcolor\":\"#2a3f5f\",\"arrowhead\":0,\"arrowwidth\":1},\"autotypenumbers\":\"strict\",\"coloraxis\":{\"colorbar\":{\"outlinewidth\":0,\"ticks\":\"\"}},\"colorscale\":{\"diverging\":[[0,\"#8e0152\"],[0.1,\"#c51b7d\"],[0.2,\"#de77ae\"],[0.3,\"#f1b6da\"],[0.4,\"#fde0ef\"],[0.5,\"#f7f7f7\"],[0.6,\"#e6f5d0\"],[0.7,\"#b8e186\"],[0.8,\"#7fbc41\"],[0.9,\"#4d9221\"],[1,\"#276419\"]],\"sequential\":[[0.0,\"#0d0887\"],[0.1111111111111111,\"#46039f\"],[0.2222222222222222,\"#7201a8\"],[0.3333333333333333,\"#9c179e\"],[0.4444444444444444,\"#bd3786\"],[0.5555555555555556,\"#d8576b\"],[0.6666666666666666,\"#ed7953\"],[0.7777777777777778,\"#fb9f3a\"],[0.8888888888888888,\"#fdca26\"],[1.0,\"#f0f921\"]],\"sequentialminus\":[[0.0,\"#0d0887\"],[0.1111111111111111,\"#46039f\"],[0.2222222222222222,\"#7201a8\"],[0.3333333333333333,\"#9c179e\"],[0.4444444444444444,\"#bd3786\"],[0.5555555555555556,\"#d8576b\"],[0.6666666666666666,\"#ed7953\"],[0.7777777777777778,\"#fb9f3a\"],[0.8888888888888888,\"#fdca26\"],[1.0,\"#f0f921\"]]},\"colorway\":[\"#636efa\",\"#EF553B\",\"#00cc96\",\"#ab63fa\",\"#FFA15A\",\"#19d3f3\",\"#FF6692\",\"#B6E880\",\"#FF97FF\",\"#FECB52\"],\"font\":{\"color\":\"#2a3f5f\"},\"geo\":{\"bgcolor\":\"white\",\"lakecolor\":\"white\",\"landcolor\":\"#E5ECF6\",\"showlakes\":true,\"showland\":true,\"subunitcolor\":\"white\"},\"hoverlabel\":{\"align\":\"left\"},\"hovermode\":\"closest\",\"mapbox\":{\"style\":\"light\"},\"paper_bgcolor\":\"white\",\"plot_bgcolor\":\"#E5ECF6\",\"polar\":{\"angularaxis\":{\"gridcolor\":\"white\",\"linecolor\":\"white\",\"ticks\":\"\"},\"bgcolor\":\"#E5ECF6\",\"radialaxis\":{\"gridcolor\":\"white\",\"linecolor\":\"white\",\"ticks\":\"\"}},\"scene\":{\"xaxis\":{\"backgroundcolor\":\"#E5ECF6\",\"gridcolor\":\"white\",\"gridwidth\":2,\"linecolor\":\"white\",\"showbackground\":true,\"ticks\":\"\",\"zerolinecolor\":\"white\"},\"yaxis\":{\"backgroundcolor\":\"#E5ECF6\",\"gridcolor\":\"white\",\"gridwidth\":2,\"linecolor\":\"white\",\"showbackground\":true,\"ticks\":\"\",\"zerolinecolor\":\"white\"},\"zaxis\":{\"backgroundcolor\":\"#E5ECF6\",\"gridcolor\":\"white\",\"gridwidth\":2,\"linecolor\":\"white\",\"showbackground\":true,\"ticks\":\"\",\"zerolinecolor\":\"white\"}},\"shapedefaults\":{\"line\":{\"color\":\"#2a3f5f\"}},\"ternary\":{\"aaxis\":{\"gridcolor\":\"white\",\"linecolor\":\"white\",\"ticks\":\"\"},\"baxis\":{\"gridcolor\":\"white\",\"linecolor\":\"white\",\"ticks\":\"\"},\"bgcolor\":\"#E5ECF6\",\"caxis\":{\"gridcolor\":\"white\",\"linecolor\":\"white\",\"ticks\":\"\"}},\"title\":{\"x\":0.05},\"xaxis\":{\"automargin\":true,\"gridcolor\":\"white\",\"linecolor\":\"white\",\"ticks\":\"\",\"title\":{\"standoff\":15},\"zerolinecolor\":\"white\",\"zerolinewidth\":2},\"yaxis\":{\"automargin\":true,\"gridcolor\":\"white\",\"linecolor\":\"white\",\"ticks\":\"\",\"title\":{\"standoff\":15},\"zerolinecolor\":\"white\",\"zerolinewidth\":2}}}},                        {\"responsive\": true}                    ).then(function(){\n",
       "                            \n",
       "var gd = document.getElementById('b222ed73-c766-4208-b06d-af9c45147bed');\n",
       "var x = new MutationObserver(function (mutations, observer) {{\n",
       "        var display = window.getComputedStyle(gd).display;\n",
       "        if (!display || display === 'none') {{\n",
       "            console.log([gd, 'removed!']);\n",
       "            Plotly.purge(gd);\n",
       "            observer.disconnect();\n",
       "        }}\n",
       "}});\n",
       "\n",
       "// Listen for the removal of the full notebook cells\n",
       "var notebookContainer = gd.closest('#notebook-container');\n",
       "if (notebookContainer) {{\n",
       "    x.observe(notebookContainer, {childList: true});\n",
       "}}\n",
       "\n",
       "// Listen for the clearing of the current output cell\n",
       "var outputEl = gd.closest('.output');\n",
       "if (outputEl) {{\n",
       "    x.observe(outputEl, {childList: true});\n",
       "}}\n",
       "\n",
       "                        })                };                });            </script>        </div>"
      ]
     },
     "metadata": {},
     "output_type": "display_data"
    },
    {
     "name": "stdout",
     "output_type": "stream",
     "text": [
      "V graph\n"
     ]
    },
    {
     "data": {
      "application/vnd.plotly.v1+json": {
       "config": {
        "plotlyServerURL": "https://plot.ly"
       },
       "data": [
        {
         "type": "surface",
         "x": [
          [
           0,
           0.00025,
           0.00075,
           0.00125,
           0.00175,
           0.0022500000000000003,
           0.00275,
           0.0032500000000000003,
           0.00375,
           0.00425,
           0.004750000000000001,
           0.00525,
           0.00575,
           0.00625,
           0.006750000000000001,
           0.00725,
           0.00775,
           0.00825,
           0.00875,
           0.009250000000000001,
           0.00975,
           0.01
          ],
          [
           0,
           0.00025,
           0.00075,
           0.00125,
           0.00175,
           0.0022500000000000003,
           0.00275,
           0.0032500000000000003,
           0.00375,
           0.00425,
           0.004750000000000001,
           0.00525,
           0.00575,
           0.00625,
           0.006750000000000001,
           0.00725,
           0.00775,
           0.00825,
           0.00875,
           0.009250000000000001,
           0.00975,
           0.01
          ],
          [
           0,
           0.00025,
           0.00075,
           0.00125,
           0.00175,
           0.0022500000000000003,
           0.00275,
           0.0032500000000000003,
           0.00375,
           0.00425,
           0.004750000000000001,
           0.00525,
           0.00575,
           0.00625,
           0.006750000000000001,
           0.00725,
           0.00775,
           0.00825,
           0.00875,
           0.009250000000000001,
           0.00975,
           0.01
          ],
          [
           0,
           0.00025,
           0.00075,
           0.00125,
           0.00175,
           0.0022500000000000003,
           0.00275,
           0.0032500000000000003,
           0.00375,
           0.00425,
           0.004750000000000001,
           0.00525,
           0.00575,
           0.00625,
           0.006750000000000001,
           0.00725,
           0.00775,
           0.00825,
           0.00875,
           0.009250000000000001,
           0.00975,
           0.01
          ],
          [
           0,
           0.00025,
           0.00075,
           0.00125,
           0.00175,
           0.0022500000000000003,
           0.00275,
           0.0032500000000000003,
           0.00375,
           0.00425,
           0.004750000000000001,
           0.00525,
           0.00575,
           0.00625,
           0.006750000000000001,
           0.00725,
           0.00775,
           0.00825,
           0.00875,
           0.009250000000000001,
           0.00975,
           0.01
          ],
          [
           0,
           0.00025,
           0.00075,
           0.00125,
           0.00175,
           0.0022500000000000003,
           0.00275,
           0.0032500000000000003,
           0.00375,
           0.00425,
           0.004750000000000001,
           0.00525,
           0.00575,
           0.00625,
           0.006750000000000001,
           0.00725,
           0.00775,
           0.00825,
           0.00875,
           0.009250000000000001,
           0.00975,
           0.01
          ],
          [
           0,
           0.00025,
           0.00075,
           0.00125,
           0.00175,
           0.0022500000000000003,
           0.00275,
           0.0032500000000000003,
           0.00375,
           0.00425,
           0.004750000000000001,
           0.00525,
           0.00575,
           0.00625,
           0.006750000000000001,
           0.00725,
           0.00775,
           0.00825,
           0.00875,
           0.009250000000000001,
           0.00975,
           0.01
          ],
          [
           0,
           0.00025,
           0.00075,
           0.00125,
           0.00175,
           0.0022500000000000003,
           0.00275,
           0.0032500000000000003,
           0.00375,
           0.00425,
           0.004750000000000001,
           0.00525,
           0.00575,
           0.00625,
           0.006750000000000001,
           0.00725,
           0.00775,
           0.00825,
           0.00875,
           0.009250000000000001,
           0.00975,
           0.01
          ],
          [
           0,
           0.00025,
           0.00075,
           0.00125,
           0.00175,
           0.0022500000000000003,
           0.00275,
           0.0032500000000000003,
           0.00375,
           0.00425,
           0.004750000000000001,
           0.00525,
           0.00575,
           0.00625,
           0.006750000000000001,
           0.00725,
           0.00775,
           0.00825,
           0.00875,
           0.009250000000000001,
           0.00975,
           0.01
          ],
          [
           0,
           0.00025,
           0.00075,
           0.00125,
           0.00175,
           0.0022500000000000003,
           0.00275,
           0.0032500000000000003,
           0.00375,
           0.00425,
           0.004750000000000001,
           0.00525,
           0.00575,
           0.00625,
           0.006750000000000001,
           0.00725,
           0.00775,
           0.00825,
           0.00875,
           0.009250000000000001,
           0.00975,
           0.01
          ],
          [
           0,
           0.00025,
           0.00075,
           0.00125,
           0.00175,
           0.0022500000000000003,
           0.00275,
           0.0032500000000000003,
           0.00375,
           0.00425,
           0.004750000000000001,
           0.00525,
           0.00575,
           0.00625,
           0.006750000000000001,
           0.00725,
           0.00775,
           0.00825,
           0.00875,
           0.009250000000000001,
           0.00975,
           0.01
          ],
          [
           0,
           0.00025,
           0.00075,
           0.00125,
           0.00175,
           0.0022500000000000003,
           0.00275,
           0.0032500000000000003,
           0.00375,
           0.00425,
           0.004750000000000001,
           0.00525,
           0.00575,
           0.00625,
           0.006750000000000001,
           0.00725,
           0.00775,
           0.00825,
           0.00875,
           0.009250000000000001,
           0.00975,
           0.01
          ],
          [
           0,
           0.00025,
           0.00075,
           0.00125,
           0.00175,
           0.0022500000000000003,
           0.00275,
           0.0032500000000000003,
           0.00375,
           0.00425,
           0.004750000000000001,
           0.00525,
           0.00575,
           0.00625,
           0.006750000000000001,
           0.00725,
           0.00775,
           0.00825,
           0.00875,
           0.009250000000000001,
           0.00975,
           0.01
          ],
          [
           0,
           0.00025,
           0.00075,
           0.00125,
           0.00175,
           0.0022500000000000003,
           0.00275,
           0.0032500000000000003,
           0.00375,
           0.00425,
           0.004750000000000001,
           0.00525,
           0.00575,
           0.00625,
           0.006750000000000001,
           0.00725,
           0.00775,
           0.00825,
           0.00875,
           0.009250000000000001,
           0.00975,
           0.01
          ],
          [
           0,
           0.00025,
           0.00075,
           0.00125,
           0.00175,
           0.0022500000000000003,
           0.00275,
           0.0032500000000000003,
           0.00375,
           0.00425,
           0.004750000000000001,
           0.00525,
           0.00575,
           0.00625,
           0.006750000000000001,
           0.00725,
           0.00775,
           0.00825,
           0.00875,
           0.009250000000000001,
           0.00975,
           0.01
          ],
          [
           0,
           0.00025,
           0.00075,
           0.00125,
           0.00175,
           0.0022500000000000003,
           0.00275,
           0.0032500000000000003,
           0.00375,
           0.00425,
           0.004750000000000001,
           0.00525,
           0.00575,
           0.00625,
           0.006750000000000001,
           0.00725,
           0.00775,
           0.00825,
           0.00875,
           0.009250000000000001,
           0.00975,
           0.01
          ],
          [
           0,
           0.00025,
           0.00075,
           0.00125,
           0.00175,
           0.0022500000000000003,
           0.00275,
           0.0032500000000000003,
           0.00375,
           0.00425,
           0.004750000000000001,
           0.00525,
           0.00575,
           0.00625,
           0.006750000000000001,
           0.00725,
           0.00775,
           0.00825,
           0.00875,
           0.009250000000000001,
           0.00975,
           0.01
          ],
          [
           0,
           0.00025,
           0.00075,
           0.00125,
           0.00175,
           0.0022500000000000003,
           0.00275,
           0.0032500000000000003,
           0.00375,
           0.00425,
           0.004750000000000001,
           0.00525,
           0.00575,
           0.00625,
           0.006750000000000001,
           0.00725,
           0.00775,
           0.00825,
           0.00875,
           0.009250000000000001,
           0.00975,
           0.01
          ],
          [
           0,
           0.00025,
           0.00075,
           0.00125,
           0.00175,
           0.0022500000000000003,
           0.00275,
           0.0032500000000000003,
           0.00375,
           0.00425,
           0.004750000000000001,
           0.00525,
           0.00575,
           0.00625,
           0.006750000000000001,
           0.00725,
           0.00775,
           0.00825,
           0.00875,
           0.009250000000000001,
           0.00975,
           0.01
          ],
          [
           0,
           0.00025,
           0.00075,
           0.00125,
           0.00175,
           0.0022500000000000003,
           0.00275,
           0.0032500000000000003,
           0.00375,
           0.00425,
           0.004750000000000001,
           0.00525,
           0.00575,
           0.00625,
           0.006750000000000001,
           0.00725,
           0.00775,
           0.00825,
           0.00875,
           0.009250000000000001,
           0.00975,
           0.01
          ],
          [
           0,
           0.00025,
           0.00075,
           0.00125,
           0.00175,
           0.0022500000000000003,
           0.00275,
           0.0032500000000000003,
           0.00375,
           0.00425,
           0.004750000000000001,
           0.00525,
           0.00575,
           0.00625,
           0.006750000000000001,
           0.00725,
           0.00775,
           0.00825,
           0.00875,
           0.009250000000000001,
           0.00975,
           0.01
          ],
          [
           0,
           0.00025,
           0.00075,
           0.00125,
           0.00175,
           0.0022500000000000003,
           0.00275,
           0.0032500000000000003,
           0.00375,
           0.00425,
           0.004750000000000001,
           0.00525,
           0.00575,
           0.00625,
           0.006750000000000001,
           0.00725,
           0.00775,
           0.00825,
           0.00875,
           0.009250000000000001,
           0.00975,
           0.01
          ]
         ],
         "y": [
          [
           0,
           0,
           0,
           0,
           0,
           0,
           0,
           0,
           0,
           0,
           0,
           0,
           0,
           0,
           0,
           0,
           0,
           0,
           0,
           0,
           0,
           0
          ],
          [
           0.00025,
           0.00025,
           0.00025,
           0.00025,
           0.00025,
           0.00025,
           0.00025,
           0.00025,
           0.00025,
           0.00025,
           0.00025,
           0.00025,
           0.00025,
           0.00025,
           0.00025,
           0.00025,
           0.00025,
           0.00025,
           0.00025,
           0.00025,
           0.00025,
           0.00025
          ],
          [
           0.00075,
           0.00075,
           0.00075,
           0.00075,
           0.00075,
           0.00075,
           0.00075,
           0.00075,
           0.00075,
           0.00075,
           0.00075,
           0.00075,
           0.00075,
           0.00075,
           0.00075,
           0.00075,
           0.00075,
           0.00075,
           0.00075,
           0.00075,
           0.00075,
           0.00075
          ],
          [
           0.00125,
           0.00125,
           0.00125,
           0.00125,
           0.00125,
           0.00125,
           0.00125,
           0.00125,
           0.00125,
           0.00125,
           0.00125,
           0.00125,
           0.00125,
           0.00125,
           0.00125,
           0.00125,
           0.00125,
           0.00125,
           0.00125,
           0.00125,
           0.00125,
           0.00125
          ],
          [
           0.00175,
           0.00175,
           0.00175,
           0.00175,
           0.00175,
           0.00175,
           0.00175,
           0.00175,
           0.00175,
           0.00175,
           0.00175,
           0.00175,
           0.00175,
           0.00175,
           0.00175,
           0.00175,
           0.00175,
           0.00175,
           0.00175,
           0.00175,
           0.00175,
           0.00175
          ],
          [
           0.0022500000000000003,
           0.0022500000000000003,
           0.0022500000000000003,
           0.0022500000000000003,
           0.0022500000000000003,
           0.0022500000000000003,
           0.0022500000000000003,
           0.0022500000000000003,
           0.0022500000000000003,
           0.0022500000000000003,
           0.0022500000000000003,
           0.0022500000000000003,
           0.0022500000000000003,
           0.0022500000000000003,
           0.0022500000000000003,
           0.0022500000000000003,
           0.0022500000000000003,
           0.0022500000000000003,
           0.0022500000000000003,
           0.0022500000000000003,
           0.0022500000000000003,
           0.0022500000000000003
          ],
          [
           0.00275,
           0.00275,
           0.00275,
           0.00275,
           0.00275,
           0.00275,
           0.00275,
           0.00275,
           0.00275,
           0.00275,
           0.00275,
           0.00275,
           0.00275,
           0.00275,
           0.00275,
           0.00275,
           0.00275,
           0.00275,
           0.00275,
           0.00275,
           0.00275,
           0.00275
          ],
          [
           0.0032500000000000003,
           0.0032500000000000003,
           0.0032500000000000003,
           0.0032500000000000003,
           0.0032500000000000003,
           0.0032500000000000003,
           0.0032500000000000003,
           0.0032500000000000003,
           0.0032500000000000003,
           0.0032500000000000003,
           0.0032500000000000003,
           0.0032500000000000003,
           0.0032500000000000003,
           0.0032500000000000003,
           0.0032500000000000003,
           0.0032500000000000003,
           0.0032500000000000003,
           0.0032500000000000003,
           0.0032500000000000003,
           0.0032500000000000003,
           0.0032500000000000003,
           0.0032500000000000003
          ],
          [
           0.00375,
           0.00375,
           0.00375,
           0.00375,
           0.00375,
           0.00375,
           0.00375,
           0.00375,
           0.00375,
           0.00375,
           0.00375,
           0.00375,
           0.00375,
           0.00375,
           0.00375,
           0.00375,
           0.00375,
           0.00375,
           0.00375,
           0.00375,
           0.00375,
           0.00375
          ],
          [
           0.00425,
           0.00425,
           0.00425,
           0.00425,
           0.00425,
           0.00425,
           0.00425,
           0.00425,
           0.00425,
           0.00425,
           0.00425,
           0.00425,
           0.00425,
           0.00425,
           0.00425,
           0.00425,
           0.00425,
           0.00425,
           0.00425,
           0.00425,
           0.00425,
           0.00425
          ],
          [
           0.004750000000000001,
           0.004750000000000001,
           0.004750000000000001,
           0.004750000000000001,
           0.004750000000000001,
           0.004750000000000001,
           0.004750000000000001,
           0.004750000000000001,
           0.004750000000000001,
           0.004750000000000001,
           0.004750000000000001,
           0.004750000000000001,
           0.004750000000000001,
           0.004750000000000001,
           0.004750000000000001,
           0.004750000000000001,
           0.004750000000000001,
           0.004750000000000001,
           0.004750000000000001,
           0.004750000000000001,
           0.004750000000000001,
           0.004750000000000001
          ],
          [
           0.00525,
           0.00525,
           0.00525,
           0.00525,
           0.00525,
           0.00525,
           0.00525,
           0.00525,
           0.00525,
           0.00525,
           0.00525,
           0.00525,
           0.00525,
           0.00525,
           0.00525,
           0.00525,
           0.00525,
           0.00525,
           0.00525,
           0.00525,
           0.00525,
           0.00525
          ],
          [
           0.00575,
           0.00575,
           0.00575,
           0.00575,
           0.00575,
           0.00575,
           0.00575,
           0.00575,
           0.00575,
           0.00575,
           0.00575,
           0.00575,
           0.00575,
           0.00575,
           0.00575,
           0.00575,
           0.00575,
           0.00575,
           0.00575,
           0.00575,
           0.00575,
           0.00575
          ],
          [
           0.00625,
           0.00625,
           0.00625,
           0.00625,
           0.00625,
           0.00625,
           0.00625,
           0.00625,
           0.00625,
           0.00625,
           0.00625,
           0.00625,
           0.00625,
           0.00625,
           0.00625,
           0.00625,
           0.00625,
           0.00625,
           0.00625,
           0.00625,
           0.00625,
           0.00625
          ],
          [
           0.006750000000000001,
           0.006750000000000001,
           0.006750000000000001,
           0.006750000000000001,
           0.006750000000000001,
           0.006750000000000001,
           0.006750000000000001,
           0.006750000000000001,
           0.006750000000000001,
           0.006750000000000001,
           0.006750000000000001,
           0.006750000000000001,
           0.006750000000000001,
           0.006750000000000001,
           0.006750000000000001,
           0.006750000000000001,
           0.006750000000000001,
           0.006750000000000001,
           0.006750000000000001,
           0.006750000000000001,
           0.006750000000000001,
           0.006750000000000001
          ],
          [
           0.00725,
           0.00725,
           0.00725,
           0.00725,
           0.00725,
           0.00725,
           0.00725,
           0.00725,
           0.00725,
           0.00725,
           0.00725,
           0.00725,
           0.00725,
           0.00725,
           0.00725,
           0.00725,
           0.00725,
           0.00725,
           0.00725,
           0.00725,
           0.00725,
           0.00725
          ],
          [
           0.00775,
           0.00775,
           0.00775,
           0.00775,
           0.00775,
           0.00775,
           0.00775,
           0.00775,
           0.00775,
           0.00775,
           0.00775,
           0.00775,
           0.00775,
           0.00775,
           0.00775,
           0.00775,
           0.00775,
           0.00775,
           0.00775,
           0.00775,
           0.00775,
           0.00775
          ],
          [
           0.00825,
           0.00825,
           0.00825,
           0.00825,
           0.00825,
           0.00825,
           0.00825,
           0.00825,
           0.00825,
           0.00825,
           0.00825,
           0.00825,
           0.00825,
           0.00825,
           0.00825,
           0.00825,
           0.00825,
           0.00825,
           0.00825,
           0.00825,
           0.00825,
           0.00825
          ],
          [
           0.00875,
           0.00875,
           0.00875,
           0.00875,
           0.00875,
           0.00875,
           0.00875,
           0.00875,
           0.00875,
           0.00875,
           0.00875,
           0.00875,
           0.00875,
           0.00875,
           0.00875,
           0.00875,
           0.00875,
           0.00875,
           0.00875,
           0.00875,
           0.00875,
           0.00875
          ],
          [
           0.009250000000000001,
           0.009250000000000001,
           0.009250000000000001,
           0.009250000000000001,
           0.009250000000000001,
           0.009250000000000001,
           0.009250000000000001,
           0.009250000000000001,
           0.009250000000000001,
           0.009250000000000001,
           0.009250000000000001,
           0.009250000000000001,
           0.009250000000000001,
           0.009250000000000001,
           0.009250000000000001,
           0.009250000000000001,
           0.009250000000000001,
           0.009250000000000001,
           0.009250000000000001,
           0.009250000000000001,
           0.009250000000000001,
           0.009250000000000001
          ],
          [
           0.00975,
           0.00975,
           0.00975,
           0.00975,
           0.00975,
           0.00975,
           0.00975,
           0.00975,
           0.00975,
           0.00975,
           0.00975,
           0.00975,
           0.00975,
           0.00975,
           0.00975,
           0.00975,
           0.00975,
           0.00975,
           0.00975,
           0.00975,
           0.00975,
           0.00975
          ],
          [
           0.01,
           0.01,
           0.01,
           0.01,
           0.01,
           0.01,
           0.01,
           0.01,
           0.01,
           0.01,
           0.01,
           0.01,
           0.01,
           0.01,
           0.01,
           0.01,
           0.01,
           0.01,
           0.01,
           0.01,
           0.01,
           0.01
          ]
         ],
         "z": [
          [
           -1.3423407950531684e-21,
           -1.3423407950586251e-21,
           -1.3423407950548865e-21,
           -1.3423407950527687e-21,
           -1.3423407950509953e-21,
           -1.3423407950495967e-21,
           -1.3423407950484354e-21,
           -1.3423407950474355e-21,
           -1.3423407950465506e-21,
           -1.3423407950457554e-21,
           -1.3423407950450362e-21,
           -1.342340795044387e-21,
           -1.3423407950438056e-21,
           -1.3423407950432978e-21,
           -1.3423407950428712e-21,
           -1.3423407950425457e-21,
           -1.3423407950423596e-21,
           -1.3423407950423738e-21,
           -1.3423407950426942e-21,
           -1.3423407950432818e-21,
           -1.3423407950450938e-21,
           -1.3423407950399347e-21
          ],
          [
           -1.2751364939889608e-21,
           -1.2751364939819102e-21,
           -1.2751364939795867e-21,
           -1.2751364939771945e-21,
           -1.2751364939754574e-21,
           -1.2751364939740818e-21,
           -1.275136493972939e-21,
           -1.275136493971951e-21,
           -1.275136493971073e-21,
           -1.2751364939702817e-21,
           -1.2751364939695655e-21,
           -1.2751364939689189e-21,
           -1.2751364939683403e-21,
           -1.2751364939678346e-21,
           -1.2751364939674082e-21,
           -1.2751364939670793e-21,
           -1.2751364939668854e-21,
           -1.2751364939668904e-21,
           -1.2751364939671989e-21,
           -1.275136493968028e-21,
           -1.2751364939687714e-21,
           -1.2751364939741003e-21
          ],
          [
           -1.1407278918351818e-21,
           -1.1407278918319658e-21,
           -1.1407278918291194e-21,
           -1.1407278918268557e-21,
           -1.1407278918251158e-21,
           -1.1407278918237287e-21,
           -1.140727891822574e-21,
           -1.1407278918215778e-21,
           -1.1407278918206958e-21,
           -1.1407278918199032e-21,
           -1.1407278918191885e-21,
           -1.1407278918185462e-21,
           -1.140727891817975e-21,
           -1.1407278918174792e-21,
           -1.1407278918170662e-21,
           -1.1407278918167553e-21,
           -1.1407278918165828e-21,
           -1.140727891816612e-21,
           -1.1407278918169372e-21,
           -1.1407278918176857e-21,
           -1.1407278918188648e-21,
           -1.1407278918211505e-21
          ],
          [
           -1.0063192896841413e-21,
           -1.0063192896813541e-21,
           -1.0063192896788485e-21,
           -1.0063192896767187e-21,
           -1.0063192896749923e-21,
           -1.0063192896735785e-21,
           -1.0063192896723914e-21,
           -1.0063192896713684e-21,
           -1.0063192896704687e-21,
           -1.006319289669666e-21,
           -1.006319289668948e-21,
           -1.006319289668308e-21,
           -1.006319289667745e-21,
           -1.0063192896672636e-21,
           -1.0063192896668716e-21,
           -1.006319289666589e-21,
           -1.0063192896664487e-21,
           -1.006319289666502e-21,
           -1.006319289666813e-21,
           -1.0063192896674453e-21,
           -1.0063192896683646e-21,
           -1.00631928967032e-21
          ],
          [
           -8.719106875328541e-22,
           -8.719106875306418e-22,
           -8.719106875285278e-22,
           -8.719106875266094e-22,
           -8.719106875249546e-22,
           -8.71910687523545e-22,
           -8.719106875223366e-22,
           -8.71910687521288e-22,
           -8.719106875203674e-22,
           -8.719106875195515e-22,
           -8.719106875188276e-22,
           -8.719106875181883e-22,
           -8.719106875176329e-22,
           -8.719106875171648e-22,
           -8.719106875167926e-22,
           -8.719106875165326e-22,
           -8.719106875164102e-22,
           -8.719106875164568e-22,
           -8.719106875167013e-22,
           -8.719106875171516e-22,
           -8.71910687517751e-22,
           -8.719106875192079e-22
          ],
          [
           -7.375020853816843e-22,
           -7.375020853798994e-22,
           -7.375020853781483e-22,
           -7.375020853764614e-22,
           -7.375020853749231e-22,
           -7.375020853735563e-22,
           -7.3750208537235285e-22,
           -7.37502085371294e-22,
           -7.375020853703596e-22,
           -7.37502085369533e-22,
           -7.375020853688029e-22,
           -7.375020853681629e-22,
           -7.375020853676119e-22,
           -7.375020853671524e-22,
           -7.375020853667907e-22,
           -7.375020853665382e-22,
           -7.375020853664087e-22,
           -7.375020853664138e-22,
           -7.375020853665542e-22,
           -7.37502085366805e-22,
           -7.375020853670979e-22,
           -7.375020853681622e-22
          ],
          [
           -6.030934832306105e-22,
           -6.030934832291788e-22,
           -6.030934832277271e-22,
           -6.030934832262599e-22,
           -6.030934832248587e-22,
           -6.030934832235655e-22,
           -6.030934832223946e-22,
           -6.030934832213456e-22,
           -6.030934832204102e-22,
           -6.030934832195797e-22,
           -6.030934832188465e-22,
           -6.030934832182051e-22,
           -6.030934832176541e-22,
           -6.030934832171951e-22,
           -6.030934832168308e-22,
           -6.030934832165665e-22,
           -6.030934832164048e-22,
           -6.030934832163417e-22,
           -6.030934832163602e-22,
           -6.03093483216421e-22,
           -6.030934832164565e-22,
           -6.03093483217189e-22
          ],
          [
           -4.686848810796299e-22,
           -4.6868488107849835e-22,
           -4.686848810772832e-22,
           -4.686848810760096e-22,
           -4.686848810747483e-22,
           -4.686848810735467e-22,
           -4.6868488107243035e-22,
           -4.686848810714102e-22,
           -4.686848810704885e-22,
           -4.686848810696632e-22,
           -4.686848810689308e-22,
           -4.686848810682874e-22,
           -4.686848810677321e-22,
           -4.686848810672644e-22,
           -4.686848810668839e-22,
           -4.686848810665898e-22,
           -4.68684881066376e-22,
           -4.686848810662296e-22,
           -4.68684881066124e-22,
           -4.68684881066017e-22,
           -4.68684881065848e-22,
           -4.6868488106629465e-22
          ],
          [
           -3.342762789287303e-22,
           -3.3427627892786223e-22,
           -3.3427627892683075e-22,
           -3.342762789257207e-22,
           -3.342762789245916e-22,
           -3.342762789234884e-22,
           -3.342762789224403e-22,
           -3.342762789214644e-22,
           -3.3427627892056936e-22,
           -3.342762789197581e-22,
           -3.342762789190306e-22,
           -3.342762789183854e-22,
           -3.3427627891782143e-22,
           -3.3427627891733666e-22,
           -3.3427627891692815e-22,
           -3.3427627891659055e-22,
           -3.342762789163127e-22,
           -3.3427627891607695e-22,
           -3.342762789158544e-22,
           -3.342762789156054e-22,
           -3.342762789152777e-22,
           -3.342762789154722e-22
          ],
          [
           -1.9986767677789646e-22,
           -1.9986767677726612e-22,
           -1.998676767763769e-22,
           -1.9986767677540303e-22,
           -1.998676767743936e-22,
           -1.9986767677338807e-22,
           -1.998676767724148e-22,
           -1.9986767677149272e-22,
           -1.9986767677063365e-22,
           -1.9986767676984353e-22,
           -1.9986767676912492e-22,
           -1.998676767684782e-22,
           -1.9986767676790217e-22,
           -1.9986767676739408e-22,
           -1.9986767676694908e-22,
           -1.9986767676655938e-22,
           -1.9986767676621198e-22,
           -1.9986767676588797e-22,
           -1.998676767655599e-22,
           -1.998676767651926e-22,
           -1.9986767676474285e-22,
           -1.9986767676470822e-22
          ],
          [
           -6.545907462711123e-23,
           -6.545907462670164e-23,
           -6.545907462592384e-23,
           -6.545907462506363e-23,
           -6.545907462416061e-23,
           -6.545907462324777e-23,
           -6.545907462235031e-23,
           -6.545907462148636e-23,
           -6.545907462066827e-23,
           -6.545907461990368e-23,
           -6.545907461919668e-23,
           -6.545907461854866e-23,
           -6.545907461795879e-23,
           -6.545907461742383e-23,
           -6.545907461693811e-23,
           -6.545907461649296e-23,
           -6.545907461607539e-23,
           -6.545907461566767e-23,
           -6.545907461524595e-23,
           -6.545907461478043e-23,
           -6.545907461423562e-23,
           -6.545907461398787e-23
          ],
          [
           6.894952752364192e-23,
           6.894952752384194e-23,
           6.894952752452933e-23,
           6.894952752529283e-23,
           6.89495275261012e-23,
           6.894952752692817e-23,
           6.894952752775282e-23,
           6.894952752855917e-23,
           6.894952752933534e-23,
           6.894952753007308e-23,
           6.894952753076757e-23,
           6.894952753141651e-23,
           6.89495275320205e-23,
           6.89495275325829e-23,
           6.894952753310952e-23,
           6.894952753360926e-23,
           6.894952753409391e-23,
           6.894952753457884e-23,
           6.894952753508357e-23,
           6.89495275356323e-23,
           6.894952753625389e-23,
           6.894952753670518e-23
          ],
          [
           2.0335812967438052e-22,
           2.0335812967437615e-22,
           2.0335812967498468e-22,
           2.0335812967566268e-22,
           2.0335812967638624e-22,
           2.0335812967713494e-22,
           2.033581296778928e-22,
           2.0335812967864582e-22,
           2.0335812967938316e-22,
           2.033581296800959e-22,
           2.033581296807786e-22,
           2.0335812968142815e-22,
           2.0335812968204493e-22,
           2.0335812968263247e-22,
           2.0335812968319666e-22,
           2.0335812968374643e-22,
           2.0335812968429212e-22,
           2.0335812968484698e-22,
           2.0335812968542622e-22,
           2.0335812968604862e-22,
           2.0335812968673626e-22,
           2.0335812968738626e-22
          ],
          [
           3.377667318251207e-22,
           3.377667318249115e-22,
           3.3776673182544455e-22,
           3.3776673182604264e-22,
           3.377667318266888e-22,
           3.37766731827368e-22,
           3.377667318280676e-22,
           3.3776673182877533e-22,
           3.3776673182948025e-22,
           3.3776673183017257e-22,
           3.3776673183084547e-22,
           3.3776673183149547e-22,
           3.3776673183212253e-22,
           3.3776673183273035e-22,
           3.377667318333257e-22,
           3.3776673183391746e-22,
           3.3776673183451593e-22,
           3.3776673183513273e-22,
           3.3776673183577987e-22,
           3.3776673183647087e-22,
           3.3776673183722154e-22,
           3.3776673183807025e-22
          ],
          [
           4.721753339758759e-22,
           4.721753339754559e-22,
           4.721753339759098e-22,
           4.721753339764293e-22,
           4.721753339770042e-22,
           4.721753339776239e-22,
           4.721753339782769e-22,
           4.721753339789506e-22,
           4.721753339796322e-22,
           4.721753339803105e-22,
           4.721753339809767e-22,
           4.721753339816269e-22,
           4.721753339822607e-22,
           4.721753339828827e-22,
           4.721753339834998e-22,
           4.721753339841227e-22,
           4.721753339847629e-22,
           4.721753339854324e-22,
           4.721753339861418e-22,
           4.721753339869005e-22,
           4.721753339877178e-22,
           4.721753339887706e-22
          ],
          [
           6.065839361266564e-22,
           6.065839361260133e-22,
           6.065839361263787e-22,
           6.065839361268187e-22,
           6.065839361273297e-22,
           6.065839361279025e-22,
           6.065839361285237e-22,
           6.065839361291768e-22,
           6.065839361298459e-22,
           6.065839361305174e-22,
           6.065839361311806e-22,
           6.065839361318308e-22,
           6.065839361324678e-22,
           6.065839361330967e-22,
           6.0658393613372495e-22,
           6.065839361343657e-22,
           6.065839361350337e-22,
           6.065839361357439e-22,
           6.065839361365088e-22,
           6.0658393613733635e-22,
           6.065839361382294e-22,
           6.065839361394986e-22
          ],
          [
           7.409925382774691e-22,
           7.409925382765814e-22,
           7.409925382768477e-22,
           7.409925382772079e-22,
           7.40992538277666e-22,
           7.4099253827820905e-22,
           7.409925382788156e-22,
           7.409925382794629e-22,
           7.409925382801296e-22,
           7.409925382808009e-22,
           7.409925382814641e-22,
           7.409925382821146e-22,
           7.409925382827516e-22,
           7.409925382833808e-22,
           7.409925382840102e-22,
           7.409925382846549e-22,
           7.409925382853338e-22,
           7.409925382860684e-22,
           7.409925382868784e-22,
           7.409925382877754e-22,
           7.409925382887543e-22,
           7.409925382902603e-22
          ],
          [
           8.754011404283063e-22,
           8.754011404271464e-22,
           8.754011404273134e-22,
           8.754011404275999e-22,
           8.754011404280232e-22,
           8.75401140428557e-22,
           8.754011404291664e-22,
           8.7540114042982e-22,
           8.754011404304929e-22,
           8.754011404311673e-22,
           8.754011404318328e-22,
           8.754011404324835e-22,
           8.754011404331187e-22,
           8.754011404337435e-22,
           8.754011404343668e-22,
           8.754011404350032e-22,
           8.754011404356765e-22,
           8.754011404364163e-22,
           8.754011404372543e-22,
           8.754011404382149e-22,
           8.754011404392794e-22,
           8.754011404410492e-22
          ],
          [
           1.0098097425792091e-21,
           1.0098097425776675e-21,
           1.0098097425777828e-21,
           1.0098097425780132e-21,
           1.0098097425784267e-21,
           1.0098097425789709e-21,
           1.0098097425795957e-21,
           1.009809742580261e-21,
           1.009809742580942e-21,
           1.0098097425816205e-21,
           1.0098097425822876e-21,
           1.0098097425829386e-21,
           1.0098097425835718e-21,
           1.009809742584192e-21,
           1.0098097425848066e-21,
           1.0098097425854297e-21,
           1.009809742586086e-21,
           1.0098097425868128e-21,
           1.0098097425876556e-21,
           1.009809742588663e-21,
           1.009809742589765e-21,
           1.0098097425919066e-21
          ],
          [
           1.1442183447297413e-21,
           1.1442183447281306e-21,
           1.144218344728282e-21,
           1.1442183447284975e-21,
           1.1442183447289234e-21,
           1.1442183447294848e-21,
           1.1442183447301233e-21,
           1.1442183447307962e-21,
           1.1442183447314793e-21,
           1.1442183447321581e-21,
           1.1442183447328249e-21,
           1.1442183447334752e-21,
           1.1442183447341087e-21,
           1.1442183447347277e-21,
           1.144218344735339e-21,
           1.1442183447359538e-21,
           1.1442183447365955e-21,
           1.1442183447373034e-21,
           1.1442183447381313e-21,
           1.1442183447391468e-21,
           1.1442183447401987e-21,
           1.1442183447423973e-21
          ],
          [
           1.2786269468846442e-21,
           1.2786269468779046e-21,
           1.2786269468791277e-21,
           1.2786269468791817e-21,
           1.278626946879592e-21,
           1.278626946880137e-21,
           1.2786269468807629e-21,
           1.2786269468814241e-21,
           1.2786269468820975e-21,
           1.2786269468827691e-21,
           1.2786269468834323e-21,
           1.2786269468840819e-21,
           1.278626946884718e-21,
           1.278626946885343e-21,
           1.2786269468859625e-21,
           1.2786269468865884e-21,
           1.2786269468872418e-21,
           1.2786269468879652e-21,
           1.2786269468888066e-21,
           1.2786269468899814e-21,
           1.2786269468899532e-21,
           1.278626946897274e-21
          ],
          [
           1.3458312479457376e-21,
           1.3458312479559983e-21,
           1.345831247954656e-21,
           1.3458312479550917e-21,
           1.3458312479554412e-21,
           1.3458312479559558e-21,
           1.3458312479565546e-21,
           1.3458312479571977e-21,
           1.3458312479578595e-21,
           1.3458312479585242e-21,
           1.345831247959184e-21,
           1.345831247959833e-21,
           1.3458312479604717e-21,
           1.3458312479611026e-21,
           1.3458312479617328e-21,
           1.345831247962376e-21,
           1.3458312479630556e-21,
           1.3458312479638083e-21,
           1.34583124796471e-21,
           1.3458312479655034e-21,
           1.3458312479680489e-21,
           1.3458312479583807e-21
          ]
         ]
        }
       ],
       "layout": {
        "template": {
         "data": {
          "bar": [
           {
            "error_x": {
             "color": "#2a3f5f"
            },
            "error_y": {
             "color": "#2a3f5f"
            },
            "marker": {
             "line": {
              "color": "#E5ECF6",
              "width": 0.5
             },
             "pattern": {
              "fillmode": "overlay",
              "size": 10,
              "solidity": 0.2
             }
            },
            "type": "bar"
           }
          ],
          "barpolar": [
           {
            "marker": {
             "line": {
              "color": "#E5ECF6",
              "width": 0.5
             },
             "pattern": {
              "fillmode": "overlay",
              "size": 10,
              "solidity": 0.2
             }
            },
            "type": "barpolar"
           }
          ],
          "carpet": [
           {
            "aaxis": {
             "endlinecolor": "#2a3f5f",
             "gridcolor": "white",
             "linecolor": "white",
             "minorgridcolor": "white",
             "startlinecolor": "#2a3f5f"
            },
            "baxis": {
             "endlinecolor": "#2a3f5f",
             "gridcolor": "white",
             "linecolor": "white",
             "minorgridcolor": "white",
             "startlinecolor": "#2a3f5f"
            },
            "type": "carpet"
           }
          ],
          "choropleth": [
           {
            "colorbar": {
             "outlinewidth": 0,
             "ticks": ""
            },
            "type": "choropleth"
           }
          ],
          "contour": [
           {
            "colorbar": {
             "outlinewidth": 0,
             "ticks": ""
            },
            "colorscale": [
             [
              0,
              "#0d0887"
             ],
             [
              0.1111111111111111,
              "#46039f"
             ],
             [
              0.2222222222222222,
              "#7201a8"
             ],
             [
              0.3333333333333333,
              "#9c179e"
             ],
             [
              0.4444444444444444,
              "#bd3786"
             ],
             [
              0.5555555555555556,
              "#d8576b"
             ],
             [
              0.6666666666666666,
              "#ed7953"
             ],
             [
              0.7777777777777778,
              "#fb9f3a"
             ],
             [
              0.8888888888888888,
              "#fdca26"
             ],
             [
              1,
              "#f0f921"
             ]
            ],
            "type": "contour"
           }
          ],
          "contourcarpet": [
           {
            "colorbar": {
             "outlinewidth": 0,
             "ticks": ""
            },
            "type": "contourcarpet"
           }
          ],
          "heatmap": [
           {
            "colorbar": {
             "outlinewidth": 0,
             "ticks": ""
            },
            "colorscale": [
             [
              0,
              "#0d0887"
             ],
             [
              0.1111111111111111,
              "#46039f"
             ],
             [
              0.2222222222222222,
              "#7201a8"
             ],
             [
              0.3333333333333333,
              "#9c179e"
             ],
             [
              0.4444444444444444,
              "#bd3786"
             ],
             [
              0.5555555555555556,
              "#d8576b"
             ],
             [
              0.6666666666666666,
              "#ed7953"
             ],
             [
              0.7777777777777778,
              "#fb9f3a"
             ],
             [
              0.8888888888888888,
              "#fdca26"
             ],
             [
              1,
              "#f0f921"
             ]
            ],
            "type": "heatmap"
           }
          ],
          "heatmapgl": [
           {
            "colorbar": {
             "outlinewidth": 0,
             "ticks": ""
            },
            "colorscale": [
             [
              0,
              "#0d0887"
             ],
             [
              0.1111111111111111,
              "#46039f"
             ],
             [
              0.2222222222222222,
              "#7201a8"
             ],
             [
              0.3333333333333333,
              "#9c179e"
             ],
             [
              0.4444444444444444,
              "#bd3786"
             ],
             [
              0.5555555555555556,
              "#d8576b"
             ],
             [
              0.6666666666666666,
              "#ed7953"
             ],
             [
              0.7777777777777778,
              "#fb9f3a"
             ],
             [
              0.8888888888888888,
              "#fdca26"
             ],
             [
              1,
              "#f0f921"
             ]
            ],
            "type": "heatmapgl"
           }
          ],
          "histogram": [
           {
            "marker": {
             "pattern": {
              "fillmode": "overlay",
              "size": 10,
              "solidity": 0.2
             }
            },
            "type": "histogram"
           }
          ],
          "histogram2d": [
           {
            "colorbar": {
             "outlinewidth": 0,
             "ticks": ""
            },
            "colorscale": [
             [
              0,
              "#0d0887"
             ],
             [
              0.1111111111111111,
              "#46039f"
             ],
             [
              0.2222222222222222,
              "#7201a8"
             ],
             [
              0.3333333333333333,
              "#9c179e"
             ],
             [
              0.4444444444444444,
              "#bd3786"
             ],
             [
              0.5555555555555556,
              "#d8576b"
             ],
             [
              0.6666666666666666,
              "#ed7953"
             ],
             [
              0.7777777777777778,
              "#fb9f3a"
             ],
             [
              0.8888888888888888,
              "#fdca26"
             ],
             [
              1,
              "#f0f921"
             ]
            ],
            "type": "histogram2d"
           }
          ],
          "histogram2dcontour": [
           {
            "colorbar": {
             "outlinewidth": 0,
             "ticks": ""
            },
            "colorscale": [
             [
              0,
              "#0d0887"
             ],
             [
              0.1111111111111111,
              "#46039f"
             ],
             [
              0.2222222222222222,
              "#7201a8"
             ],
             [
              0.3333333333333333,
              "#9c179e"
             ],
             [
              0.4444444444444444,
              "#bd3786"
             ],
             [
              0.5555555555555556,
              "#d8576b"
             ],
             [
              0.6666666666666666,
              "#ed7953"
             ],
             [
              0.7777777777777778,
              "#fb9f3a"
             ],
             [
              0.8888888888888888,
              "#fdca26"
             ],
             [
              1,
              "#f0f921"
             ]
            ],
            "type": "histogram2dcontour"
           }
          ],
          "mesh3d": [
           {
            "colorbar": {
             "outlinewidth": 0,
             "ticks": ""
            },
            "type": "mesh3d"
           }
          ],
          "parcoords": [
           {
            "line": {
             "colorbar": {
              "outlinewidth": 0,
              "ticks": ""
             }
            },
            "type": "parcoords"
           }
          ],
          "pie": [
           {
            "automargin": true,
            "type": "pie"
           }
          ],
          "scatter": [
           {
            "marker": {
             "colorbar": {
              "outlinewidth": 0,
              "ticks": ""
             }
            },
            "type": "scatter"
           }
          ],
          "scatter3d": [
           {
            "line": {
             "colorbar": {
              "outlinewidth": 0,
              "ticks": ""
             }
            },
            "marker": {
             "colorbar": {
              "outlinewidth": 0,
              "ticks": ""
             }
            },
            "type": "scatter3d"
           }
          ],
          "scattercarpet": [
           {
            "marker": {
             "colorbar": {
              "outlinewidth": 0,
              "ticks": ""
             }
            },
            "type": "scattercarpet"
           }
          ],
          "scattergeo": [
           {
            "marker": {
             "colorbar": {
              "outlinewidth": 0,
              "ticks": ""
             }
            },
            "type": "scattergeo"
           }
          ],
          "scattergl": [
           {
            "marker": {
             "colorbar": {
              "outlinewidth": 0,
              "ticks": ""
             }
            },
            "type": "scattergl"
           }
          ],
          "scattermapbox": [
           {
            "marker": {
             "colorbar": {
              "outlinewidth": 0,
              "ticks": ""
             }
            },
            "type": "scattermapbox"
           }
          ],
          "scatterpolar": [
           {
            "marker": {
             "colorbar": {
              "outlinewidth": 0,
              "ticks": ""
             }
            },
            "type": "scatterpolar"
           }
          ],
          "scatterpolargl": [
           {
            "marker": {
             "colorbar": {
              "outlinewidth": 0,
              "ticks": ""
             }
            },
            "type": "scatterpolargl"
           }
          ],
          "scatterternary": [
           {
            "marker": {
             "colorbar": {
              "outlinewidth": 0,
              "ticks": ""
             }
            },
            "type": "scatterternary"
           }
          ],
          "surface": [
           {
            "colorbar": {
             "outlinewidth": 0,
             "ticks": ""
            },
            "colorscale": [
             [
              0,
              "#0d0887"
             ],
             [
              0.1111111111111111,
              "#46039f"
             ],
             [
              0.2222222222222222,
              "#7201a8"
             ],
             [
              0.3333333333333333,
              "#9c179e"
             ],
             [
              0.4444444444444444,
              "#bd3786"
             ],
             [
              0.5555555555555556,
              "#d8576b"
             ],
             [
              0.6666666666666666,
              "#ed7953"
             ],
             [
              0.7777777777777778,
              "#fb9f3a"
             ],
             [
              0.8888888888888888,
              "#fdca26"
             ],
             [
              1,
              "#f0f921"
             ]
            ],
            "type": "surface"
           }
          ],
          "table": [
           {
            "cells": {
             "fill": {
              "color": "#EBF0F8"
             },
             "line": {
              "color": "white"
             }
            },
            "header": {
             "fill": {
              "color": "#C8D4E3"
             },
             "line": {
              "color": "white"
             }
            },
            "type": "table"
           }
          ]
         },
         "layout": {
          "annotationdefaults": {
           "arrowcolor": "#2a3f5f",
           "arrowhead": 0,
           "arrowwidth": 1
          },
          "autotypenumbers": "strict",
          "coloraxis": {
           "colorbar": {
            "outlinewidth": 0,
            "ticks": ""
           }
          },
          "colorscale": {
           "diverging": [
            [
             0,
             "#8e0152"
            ],
            [
             0.1,
             "#c51b7d"
            ],
            [
             0.2,
             "#de77ae"
            ],
            [
             0.3,
             "#f1b6da"
            ],
            [
             0.4,
             "#fde0ef"
            ],
            [
             0.5,
             "#f7f7f7"
            ],
            [
             0.6,
             "#e6f5d0"
            ],
            [
             0.7,
             "#b8e186"
            ],
            [
             0.8,
             "#7fbc41"
            ],
            [
             0.9,
             "#4d9221"
            ],
            [
             1,
             "#276419"
            ]
           ],
           "sequential": [
            [
             0,
             "#0d0887"
            ],
            [
             0.1111111111111111,
             "#46039f"
            ],
            [
             0.2222222222222222,
             "#7201a8"
            ],
            [
             0.3333333333333333,
             "#9c179e"
            ],
            [
             0.4444444444444444,
             "#bd3786"
            ],
            [
             0.5555555555555556,
             "#d8576b"
            ],
            [
             0.6666666666666666,
             "#ed7953"
            ],
            [
             0.7777777777777778,
             "#fb9f3a"
            ],
            [
             0.8888888888888888,
             "#fdca26"
            ],
            [
             1,
             "#f0f921"
            ]
           ],
           "sequentialminus": [
            [
             0,
             "#0d0887"
            ],
            [
             0.1111111111111111,
             "#46039f"
            ],
            [
             0.2222222222222222,
             "#7201a8"
            ],
            [
             0.3333333333333333,
             "#9c179e"
            ],
            [
             0.4444444444444444,
             "#bd3786"
            ],
            [
             0.5555555555555556,
             "#d8576b"
            ],
            [
             0.6666666666666666,
             "#ed7953"
            ],
            [
             0.7777777777777778,
             "#fb9f3a"
            ],
            [
             0.8888888888888888,
             "#fdca26"
            ],
            [
             1,
             "#f0f921"
            ]
           ]
          },
          "colorway": [
           "#636efa",
           "#EF553B",
           "#00cc96",
           "#ab63fa",
           "#FFA15A",
           "#19d3f3",
           "#FF6692",
           "#B6E880",
           "#FF97FF",
           "#FECB52"
          ],
          "font": {
           "color": "#2a3f5f"
          },
          "geo": {
           "bgcolor": "white",
           "lakecolor": "white",
           "landcolor": "#E5ECF6",
           "showlakes": true,
           "showland": true,
           "subunitcolor": "white"
          },
          "hoverlabel": {
           "align": "left"
          },
          "hovermode": "closest",
          "mapbox": {
           "style": "light"
          },
          "paper_bgcolor": "white",
          "plot_bgcolor": "#E5ECF6",
          "polar": {
           "angularaxis": {
            "gridcolor": "white",
            "linecolor": "white",
            "ticks": ""
           },
           "bgcolor": "#E5ECF6",
           "radialaxis": {
            "gridcolor": "white",
            "linecolor": "white",
            "ticks": ""
           }
          },
          "scene": {
           "xaxis": {
            "backgroundcolor": "#E5ECF6",
            "gridcolor": "white",
            "gridwidth": 2,
            "linecolor": "white",
            "showbackground": true,
            "ticks": "",
            "zerolinecolor": "white"
           },
           "yaxis": {
            "backgroundcolor": "#E5ECF6",
            "gridcolor": "white",
            "gridwidth": 2,
            "linecolor": "white",
            "showbackground": true,
            "ticks": "",
            "zerolinecolor": "white"
           },
           "zaxis": {
            "backgroundcolor": "#E5ECF6",
            "gridcolor": "white",
            "gridwidth": 2,
            "linecolor": "white",
            "showbackground": true,
            "ticks": "",
            "zerolinecolor": "white"
           }
          },
          "shapedefaults": {
           "line": {
            "color": "#2a3f5f"
           }
          },
          "ternary": {
           "aaxis": {
            "gridcolor": "white",
            "linecolor": "white",
            "ticks": ""
           },
           "baxis": {
            "gridcolor": "white",
            "linecolor": "white",
            "ticks": ""
           },
           "bgcolor": "#E5ECF6",
           "caxis": {
            "gridcolor": "white",
            "linecolor": "white",
            "ticks": ""
           }
          },
          "title": {
           "x": 0.05
          },
          "xaxis": {
           "automargin": true,
           "gridcolor": "white",
           "linecolor": "white",
           "ticks": "",
           "title": {
            "standoff": 15
           },
           "zerolinecolor": "white",
           "zerolinewidth": 2
          },
          "yaxis": {
           "automargin": true,
           "gridcolor": "white",
           "linecolor": "white",
           "ticks": "",
           "title": {
            "standoff": 15
           },
           "zerolinecolor": "white",
           "zerolinewidth": 2
          }
         }
        }
       }
      },
      "text/html": [
       "<div>                            <div id=\"31d4a4bd-6699-4d4e-954e-cb182a35cd8f\" class=\"plotly-graph-div\" style=\"height:525px; width:100%;\"></div>            <script type=\"text/javascript\">                require([\"plotly\"], function(Plotly) {                    window.PLOTLYENV=window.PLOTLYENV || {};                                    if (document.getElementById(\"31d4a4bd-6699-4d4e-954e-cb182a35cd8f\")) {                    Plotly.newPlot(                        \"31d4a4bd-6699-4d4e-954e-cb182a35cd8f\",                        [{\"x\":[[0.0,0.00025,0.00075,0.00125,0.00175,0.0022500000000000003,0.00275,0.0032500000000000003,0.00375,0.00425,0.004750000000000001,0.00525,0.00575,0.00625,0.006750000000000001,0.00725,0.00775,0.00825,0.00875,0.009250000000000001,0.00975,0.01],[0.0,0.00025,0.00075,0.00125,0.00175,0.0022500000000000003,0.00275,0.0032500000000000003,0.00375,0.00425,0.004750000000000001,0.00525,0.00575,0.00625,0.006750000000000001,0.00725,0.00775,0.00825,0.00875,0.009250000000000001,0.00975,0.01],[0.0,0.00025,0.00075,0.00125,0.00175,0.0022500000000000003,0.00275,0.0032500000000000003,0.00375,0.00425,0.004750000000000001,0.00525,0.00575,0.00625,0.006750000000000001,0.00725,0.00775,0.00825,0.00875,0.009250000000000001,0.00975,0.01],[0.0,0.00025,0.00075,0.00125,0.00175,0.0022500000000000003,0.00275,0.0032500000000000003,0.00375,0.00425,0.004750000000000001,0.00525,0.00575,0.00625,0.006750000000000001,0.00725,0.00775,0.00825,0.00875,0.009250000000000001,0.00975,0.01],[0.0,0.00025,0.00075,0.00125,0.00175,0.0022500000000000003,0.00275,0.0032500000000000003,0.00375,0.00425,0.004750000000000001,0.00525,0.00575,0.00625,0.006750000000000001,0.00725,0.00775,0.00825,0.00875,0.009250000000000001,0.00975,0.01],[0.0,0.00025,0.00075,0.00125,0.00175,0.0022500000000000003,0.00275,0.0032500000000000003,0.00375,0.00425,0.004750000000000001,0.00525,0.00575,0.00625,0.006750000000000001,0.00725,0.00775,0.00825,0.00875,0.009250000000000001,0.00975,0.01],[0.0,0.00025,0.00075,0.00125,0.00175,0.0022500000000000003,0.00275,0.0032500000000000003,0.00375,0.00425,0.004750000000000001,0.00525,0.00575,0.00625,0.006750000000000001,0.00725,0.00775,0.00825,0.00875,0.009250000000000001,0.00975,0.01],[0.0,0.00025,0.00075,0.00125,0.00175,0.0022500000000000003,0.00275,0.0032500000000000003,0.00375,0.00425,0.004750000000000001,0.00525,0.00575,0.00625,0.006750000000000001,0.00725,0.00775,0.00825,0.00875,0.009250000000000001,0.00975,0.01],[0.0,0.00025,0.00075,0.00125,0.00175,0.0022500000000000003,0.00275,0.0032500000000000003,0.00375,0.00425,0.004750000000000001,0.00525,0.00575,0.00625,0.006750000000000001,0.00725,0.00775,0.00825,0.00875,0.009250000000000001,0.00975,0.01],[0.0,0.00025,0.00075,0.00125,0.00175,0.0022500000000000003,0.00275,0.0032500000000000003,0.00375,0.00425,0.004750000000000001,0.00525,0.00575,0.00625,0.006750000000000001,0.00725,0.00775,0.00825,0.00875,0.009250000000000001,0.00975,0.01],[0.0,0.00025,0.00075,0.00125,0.00175,0.0022500000000000003,0.00275,0.0032500000000000003,0.00375,0.00425,0.004750000000000001,0.00525,0.00575,0.00625,0.006750000000000001,0.00725,0.00775,0.00825,0.00875,0.009250000000000001,0.00975,0.01],[0.0,0.00025,0.00075,0.00125,0.00175,0.0022500000000000003,0.00275,0.0032500000000000003,0.00375,0.00425,0.004750000000000001,0.00525,0.00575,0.00625,0.006750000000000001,0.00725,0.00775,0.00825,0.00875,0.009250000000000001,0.00975,0.01],[0.0,0.00025,0.00075,0.00125,0.00175,0.0022500000000000003,0.00275,0.0032500000000000003,0.00375,0.00425,0.004750000000000001,0.00525,0.00575,0.00625,0.006750000000000001,0.00725,0.00775,0.00825,0.00875,0.009250000000000001,0.00975,0.01],[0.0,0.00025,0.00075,0.00125,0.00175,0.0022500000000000003,0.00275,0.0032500000000000003,0.00375,0.00425,0.004750000000000001,0.00525,0.00575,0.00625,0.006750000000000001,0.00725,0.00775,0.00825,0.00875,0.009250000000000001,0.00975,0.01],[0.0,0.00025,0.00075,0.00125,0.00175,0.0022500000000000003,0.00275,0.0032500000000000003,0.00375,0.00425,0.004750000000000001,0.00525,0.00575,0.00625,0.006750000000000001,0.00725,0.00775,0.00825,0.00875,0.009250000000000001,0.00975,0.01],[0.0,0.00025,0.00075,0.00125,0.00175,0.0022500000000000003,0.00275,0.0032500000000000003,0.00375,0.00425,0.004750000000000001,0.00525,0.00575,0.00625,0.006750000000000001,0.00725,0.00775,0.00825,0.00875,0.009250000000000001,0.00975,0.01],[0.0,0.00025,0.00075,0.00125,0.00175,0.0022500000000000003,0.00275,0.0032500000000000003,0.00375,0.00425,0.004750000000000001,0.00525,0.00575,0.00625,0.006750000000000001,0.00725,0.00775,0.00825,0.00875,0.009250000000000001,0.00975,0.01],[0.0,0.00025,0.00075,0.00125,0.00175,0.0022500000000000003,0.00275,0.0032500000000000003,0.00375,0.00425,0.004750000000000001,0.00525,0.00575,0.00625,0.006750000000000001,0.00725,0.00775,0.00825,0.00875,0.009250000000000001,0.00975,0.01],[0.0,0.00025,0.00075,0.00125,0.00175,0.0022500000000000003,0.00275,0.0032500000000000003,0.00375,0.00425,0.004750000000000001,0.00525,0.00575,0.00625,0.006750000000000001,0.00725,0.00775,0.00825,0.00875,0.009250000000000001,0.00975,0.01],[0.0,0.00025,0.00075,0.00125,0.00175,0.0022500000000000003,0.00275,0.0032500000000000003,0.00375,0.00425,0.004750000000000001,0.00525,0.00575,0.00625,0.006750000000000001,0.00725,0.00775,0.00825,0.00875,0.009250000000000001,0.00975,0.01],[0.0,0.00025,0.00075,0.00125,0.00175,0.0022500000000000003,0.00275,0.0032500000000000003,0.00375,0.00425,0.004750000000000001,0.00525,0.00575,0.00625,0.006750000000000001,0.00725,0.00775,0.00825,0.00875,0.009250000000000001,0.00975,0.01],[0.0,0.00025,0.00075,0.00125,0.00175,0.0022500000000000003,0.00275,0.0032500000000000003,0.00375,0.00425,0.004750000000000001,0.00525,0.00575,0.00625,0.006750000000000001,0.00725,0.00775,0.00825,0.00875,0.009250000000000001,0.00975,0.01]],\"y\":[[0.0,0.0,0.0,0.0,0.0,0.0,0.0,0.0,0.0,0.0,0.0,0.0,0.0,0.0,0.0,0.0,0.0,0.0,0.0,0.0,0.0,0.0],[0.00025,0.00025,0.00025,0.00025,0.00025,0.00025,0.00025,0.00025,0.00025,0.00025,0.00025,0.00025,0.00025,0.00025,0.00025,0.00025,0.00025,0.00025,0.00025,0.00025,0.00025,0.00025],[0.00075,0.00075,0.00075,0.00075,0.00075,0.00075,0.00075,0.00075,0.00075,0.00075,0.00075,0.00075,0.00075,0.00075,0.00075,0.00075,0.00075,0.00075,0.00075,0.00075,0.00075,0.00075],[0.00125,0.00125,0.00125,0.00125,0.00125,0.00125,0.00125,0.00125,0.00125,0.00125,0.00125,0.00125,0.00125,0.00125,0.00125,0.00125,0.00125,0.00125,0.00125,0.00125,0.00125,0.00125],[0.00175,0.00175,0.00175,0.00175,0.00175,0.00175,0.00175,0.00175,0.00175,0.00175,0.00175,0.00175,0.00175,0.00175,0.00175,0.00175,0.00175,0.00175,0.00175,0.00175,0.00175,0.00175],[0.0022500000000000003,0.0022500000000000003,0.0022500000000000003,0.0022500000000000003,0.0022500000000000003,0.0022500000000000003,0.0022500000000000003,0.0022500000000000003,0.0022500000000000003,0.0022500000000000003,0.0022500000000000003,0.0022500000000000003,0.0022500000000000003,0.0022500000000000003,0.0022500000000000003,0.0022500000000000003,0.0022500000000000003,0.0022500000000000003,0.0022500000000000003,0.0022500000000000003,0.0022500000000000003,0.0022500000000000003],[0.00275,0.00275,0.00275,0.00275,0.00275,0.00275,0.00275,0.00275,0.00275,0.00275,0.00275,0.00275,0.00275,0.00275,0.00275,0.00275,0.00275,0.00275,0.00275,0.00275,0.00275,0.00275],[0.0032500000000000003,0.0032500000000000003,0.0032500000000000003,0.0032500000000000003,0.0032500000000000003,0.0032500000000000003,0.0032500000000000003,0.0032500000000000003,0.0032500000000000003,0.0032500000000000003,0.0032500000000000003,0.0032500000000000003,0.0032500000000000003,0.0032500000000000003,0.0032500000000000003,0.0032500000000000003,0.0032500000000000003,0.0032500000000000003,0.0032500000000000003,0.0032500000000000003,0.0032500000000000003,0.0032500000000000003],[0.00375,0.00375,0.00375,0.00375,0.00375,0.00375,0.00375,0.00375,0.00375,0.00375,0.00375,0.00375,0.00375,0.00375,0.00375,0.00375,0.00375,0.00375,0.00375,0.00375,0.00375,0.00375],[0.00425,0.00425,0.00425,0.00425,0.00425,0.00425,0.00425,0.00425,0.00425,0.00425,0.00425,0.00425,0.00425,0.00425,0.00425,0.00425,0.00425,0.00425,0.00425,0.00425,0.00425,0.00425],[0.004750000000000001,0.004750000000000001,0.004750000000000001,0.004750000000000001,0.004750000000000001,0.004750000000000001,0.004750000000000001,0.004750000000000001,0.004750000000000001,0.004750000000000001,0.004750000000000001,0.004750000000000001,0.004750000000000001,0.004750000000000001,0.004750000000000001,0.004750000000000001,0.004750000000000001,0.004750000000000001,0.004750000000000001,0.004750000000000001,0.004750000000000001,0.004750000000000001],[0.00525,0.00525,0.00525,0.00525,0.00525,0.00525,0.00525,0.00525,0.00525,0.00525,0.00525,0.00525,0.00525,0.00525,0.00525,0.00525,0.00525,0.00525,0.00525,0.00525,0.00525,0.00525],[0.00575,0.00575,0.00575,0.00575,0.00575,0.00575,0.00575,0.00575,0.00575,0.00575,0.00575,0.00575,0.00575,0.00575,0.00575,0.00575,0.00575,0.00575,0.00575,0.00575,0.00575,0.00575],[0.00625,0.00625,0.00625,0.00625,0.00625,0.00625,0.00625,0.00625,0.00625,0.00625,0.00625,0.00625,0.00625,0.00625,0.00625,0.00625,0.00625,0.00625,0.00625,0.00625,0.00625,0.00625],[0.006750000000000001,0.006750000000000001,0.006750000000000001,0.006750000000000001,0.006750000000000001,0.006750000000000001,0.006750000000000001,0.006750000000000001,0.006750000000000001,0.006750000000000001,0.006750000000000001,0.006750000000000001,0.006750000000000001,0.006750000000000001,0.006750000000000001,0.006750000000000001,0.006750000000000001,0.006750000000000001,0.006750000000000001,0.006750000000000001,0.006750000000000001,0.006750000000000001],[0.00725,0.00725,0.00725,0.00725,0.00725,0.00725,0.00725,0.00725,0.00725,0.00725,0.00725,0.00725,0.00725,0.00725,0.00725,0.00725,0.00725,0.00725,0.00725,0.00725,0.00725,0.00725],[0.00775,0.00775,0.00775,0.00775,0.00775,0.00775,0.00775,0.00775,0.00775,0.00775,0.00775,0.00775,0.00775,0.00775,0.00775,0.00775,0.00775,0.00775,0.00775,0.00775,0.00775,0.00775],[0.00825,0.00825,0.00825,0.00825,0.00825,0.00825,0.00825,0.00825,0.00825,0.00825,0.00825,0.00825,0.00825,0.00825,0.00825,0.00825,0.00825,0.00825,0.00825,0.00825,0.00825,0.00825],[0.00875,0.00875,0.00875,0.00875,0.00875,0.00875,0.00875,0.00875,0.00875,0.00875,0.00875,0.00875,0.00875,0.00875,0.00875,0.00875,0.00875,0.00875,0.00875,0.00875,0.00875,0.00875],[0.009250000000000001,0.009250000000000001,0.009250000000000001,0.009250000000000001,0.009250000000000001,0.009250000000000001,0.009250000000000001,0.009250000000000001,0.009250000000000001,0.009250000000000001,0.009250000000000001,0.009250000000000001,0.009250000000000001,0.009250000000000001,0.009250000000000001,0.009250000000000001,0.009250000000000001,0.009250000000000001,0.009250000000000001,0.009250000000000001,0.009250000000000001,0.009250000000000001],[0.00975,0.00975,0.00975,0.00975,0.00975,0.00975,0.00975,0.00975,0.00975,0.00975,0.00975,0.00975,0.00975,0.00975,0.00975,0.00975,0.00975,0.00975,0.00975,0.00975,0.00975,0.00975],[0.01,0.01,0.01,0.01,0.01,0.01,0.01,0.01,0.01,0.01,0.01,0.01,0.01,0.01,0.01,0.01,0.01,0.01,0.01,0.01,0.01,0.01]],\"z\":[[-1.3423407950531684e-21,-1.3423407950586251e-21,-1.3423407950548865e-21,-1.3423407950527687e-21,-1.3423407950509953e-21,-1.3423407950495967e-21,-1.3423407950484354e-21,-1.3423407950474355e-21,-1.3423407950465506e-21,-1.3423407950457554e-21,-1.3423407950450362e-21,-1.342340795044387e-21,-1.3423407950438056e-21,-1.3423407950432978e-21,-1.3423407950428712e-21,-1.3423407950425457e-21,-1.3423407950423596e-21,-1.3423407950423738e-21,-1.3423407950426942e-21,-1.3423407950432818e-21,-1.3423407950450938e-21,-1.3423407950399347e-21],[-1.2751364939889608e-21,-1.2751364939819102e-21,-1.2751364939795867e-21,-1.2751364939771945e-21,-1.2751364939754574e-21,-1.2751364939740818e-21,-1.275136493972939e-21,-1.275136493971951e-21,-1.275136493971073e-21,-1.2751364939702817e-21,-1.2751364939695655e-21,-1.2751364939689189e-21,-1.2751364939683403e-21,-1.2751364939678346e-21,-1.2751364939674082e-21,-1.2751364939670793e-21,-1.2751364939668854e-21,-1.2751364939668904e-21,-1.2751364939671989e-21,-1.275136493968028e-21,-1.2751364939687714e-21,-1.2751364939741003e-21],[-1.1407278918351818e-21,-1.1407278918319658e-21,-1.1407278918291194e-21,-1.1407278918268557e-21,-1.1407278918251158e-21,-1.1407278918237287e-21,-1.140727891822574e-21,-1.1407278918215778e-21,-1.1407278918206958e-21,-1.1407278918199032e-21,-1.1407278918191885e-21,-1.1407278918185462e-21,-1.140727891817975e-21,-1.1407278918174792e-21,-1.1407278918170662e-21,-1.1407278918167553e-21,-1.1407278918165828e-21,-1.140727891816612e-21,-1.1407278918169372e-21,-1.1407278918176857e-21,-1.1407278918188648e-21,-1.1407278918211505e-21],[-1.0063192896841413e-21,-1.0063192896813541e-21,-1.0063192896788485e-21,-1.0063192896767187e-21,-1.0063192896749923e-21,-1.0063192896735785e-21,-1.0063192896723914e-21,-1.0063192896713684e-21,-1.0063192896704687e-21,-1.006319289669666e-21,-1.006319289668948e-21,-1.006319289668308e-21,-1.006319289667745e-21,-1.0063192896672636e-21,-1.0063192896668716e-21,-1.006319289666589e-21,-1.0063192896664487e-21,-1.006319289666502e-21,-1.006319289666813e-21,-1.0063192896674453e-21,-1.0063192896683646e-21,-1.00631928967032e-21],[-8.719106875328541e-22,-8.719106875306418e-22,-8.719106875285278e-22,-8.719106875266094e-22,-8.719106875249546e-22,-8.71910687523545e-22,-8.719106875223366e-22,-8.71910687521288e-22,-8.719106875203674e-22,-8.719106875195515e-22,-8.719106875188276e-22,-8.719106875181883e-22,-8.719106875176329e-22,-8.719106875171648e-22,-8.719106875167926e-22,-8.719106875165326e-22,-8.719106875164102e-22,-8.719106875164568e-22,-8.719106875167013e-22,-8.719106875171516e-22,-8.71910687517751e-22,-8.719106875192079e-22],[-7.375020853816843e-22,-7.375020853798994e-22,-7.375020853781483e-22,-7.375020853764614e-22,-7.375020853749231e-22,-7.375020853735563e-22,-7.3750208537235285e-22,-7.37502085371294e-22,-7.375020853703596e-22,-7.37502085369533e-22,-7.375020853688029e-22,-7.375020853681629e-22,-7.375020853676119e-22,-7.375020853671524e-22,-7.375020853667907e-22,-7.375020853665382e-22,-7.375020853664087e-22,-7.375020853664138e-22,-7.375020853665542e-22,-7.37502085366805e-22,-7.375020853670979e-22,-7.375020853681622e-22],[-6.030934832306105e-22,-6.030934832291788e-22,-6.030934832277271e-22,-6.030934832262599e-22,-6.030934832248587e-22,-6.030934832235655e-22,-6.030934832223946e-22,-6.030934832213456e-22,-6.030934832204102e-22,-6.030934832195797e-22,-6.030934832188465e-22,-6.030934832182051e-22,-6.030934832176541e-22,-6.030934832171951e-22,-6.030934832168308e-22,-6.030934832165665e-22,-6.030934832164048e-22,-6.030934832163417e-22,-6.030934832163602e-22,-6.03093483216421e-22,-6.030934832164565e-22,-6.03093483217189e-22],[-4.686848810796299e-22,-4.6868488107849835e-22,-4.686848810772832e-22,-4.686848810760096e-22,-4.686848810747483e-22,-4.686848810735467e-22,-4.6868488107243035e-22,-4.686848810714102e-22,-4.686848810704885e-22,-4.686848810696632e-22,-4.686848810689308e-22,-4.686848810682874e-22,-4.686848810677321e-22,-4.686848810672644e-22,-4.686848810668839e-22,-4.686848810665898e-22,-4.68684881066376e-22,-4.686848810662296e-22,-4.68684881066124e-22,-4.68684881066017e-22,-4.68684881065848e-22,-4.6868488106629465e-22],[-3.342762789287303e-22,-3.3427627892786223e-22,-3.3427627892683075e-22,-3.342762789257207e-22,-3.342762789245916e-22,-3.342762789234884e-22,-3.342762789224403e-22,-3.342762789214644e-22,-3.3427627892056936e-22,-3.342762789197581e-22,-3.342762789190306e-22,-3.342762789183854e-22,-3.3427627891782143e-22,-3.3427627891733666e-22,-3.3427627891692815e-22,-3.3427627891659055e-22,-3.342762789163127e-22,-3.3427627891607695e-22,-3.342762789158544e-22,-3.342762789156054e-22,-3.342762789152777e-22,-3.342762789154722e-22],[-1.9986767677789646e-22,-1.9986767677726612e-22,-1.998676767763769e-22,-1.9986767677540303e-22,-1.998676767743936e-22,-1.9986767677338807e-22,-1.998676767724148e-22,-1.9986767677149272e-22,-1.9986767677063365e-22,-1.9986767676984353e-22,-1.9986767676912492e-22,-1.998676767684782e-22,-1.9986767676790217e-22,-1.9986767676739408e-22,-1.9986767676694908e-22,-1.9986767676655938e-22,-1.9986767676621198e-22,-1.9986767676588797e-22,-1.998676767655599e-22,-1.998676767651926e-22,-1.9986767676474285e-22,-1.9986767676470822e-22],[-6.545907462711123e-23,-6.545907462670164e-23,-6.545907462592384e-23,-6.545907462506363e-23,-6.545907462416061e-23,-6.545907462324777e-23,-6.545907462235031e-23,-6.545907462148636e-23,-6.545907462066827e-23,-6.545907461990368e-23,-6.545907461919668e-23,-6.545907461854866e-23,-6.545907461795879e-23,-6.545907461742383e-23,-6.545907461693811e-23,-6.545907461649296e-23,-6.545907461607539e-23,-6.545907461566767e-23,-6.545907461524595e-23,-6.545907461478043e-23,-6.545907461423562e-23,-6.545907461398787e-23],[6.894952752364192e-23,6.894952752384194e-23,6.894952752452933e-23,6.894952752529283e-23,6.89495275261012e-23,6.894952752692817e-23,6.894952752775282e-23,6.894952752855917e-23,6.894952752933534e-23,6.894952753007308e-23,6.894952753076757e-23,6.894952753141651e-23,6.89495275320205e-23,6.89495275325829e-23,6.894952753310952e-23,6.894952753360926e-23,6.894952753409391e-23,6.894952753457884e-23,6.894952753508357e-23,6.89495275356323e-23,6.894952753625389e-23,6.894952753670518e-23],[2.0335812967438052e-22,2.0335812967437615e-22,2.0335812967498468e-22,2.0335812967566268e-22,2.0335812967638624e-22,2.0335812967713494e-22,2.033581296778928e-22,2.0335812967864582e-22,2.0335812967938316e-22,2.033581296800959e-22,2.033581296807786e-22,2.0335812968142815e-22,2.0335812968204493e-22,2.0335812968263247e-22,2.0335812968319666e-22,2.0335812968374643e-22,2.0335812968429212e-22,2.0335812968484698e-22,2.0335812968542622e-22,2.0335812968604862e-22,2.0335812968673626e-22,2.0335812968738626e-22],[3.377667318251207e-22,3.377667318249115e-22,3.3776673182544455e-22,3.3776673182604264e-22,3.377667318266888e-22,3.37766731827368e-22,3.377667318280676e-22,3.3776673182877533e-22,3.3776673182948025e-22,3.3776673183017257e-22,3.3776673183084547e-22,3.3776673183149547e-22,3.3776673183212253e-22,3.3776673183273035e-22,3.377667318333257e-22,3.3776673183391746e-22,3.3776673183451593e-22,3.3776673183513273e-22,3.3776673183577987e-22,3.3776673183647087e-22,3.3776673183722154e-22,3.3776673183807025e-22],[4.721753339758759e-22,4.721753339754559e-22,4.721753339759098e-22,4.721753339764293e-22,4.721753339770042e-22,4.721753339776239e-22,4.721753339782769e-22,4.721753339789506e-22,4.721753339796322e-22,4.721753339803105e-22,4.721753339809767e-22,4.721753339816269e-22,4.721753339822607e-22,4.721753339828827e-22,4.721753339834998e-22,4.721753339841227e-22,4.721753339847629e-22,4.721753339854324e-22,4.721753339861418e-22,4.721753339869005e-22,4.721753339877178e-22,4.721753339887706e-22],[6.065839361266564e-22,6.065839361260133e-22,6.065839361263787e-22,6.065839361268187e-22,6.065839361273297e-22,6.065839361279025e-22,6.065839361285237e-22,6.065839361291768e-22,6.065839361298459e-22,6.065839361305174e-22,6.065839361311806e-22,6.065839361318308e-22,6.065839361324678e-22,6.065839361330967e-22,6.0658393613372495e-22,6.065839361343657e-22,6.065839361350337e-22,6.065839361357439e-22,6.065839361365088e-22,6.0658393613733635e-22,6.065839361382294e-22,6.065839361394986e-22],[7.409925382774691e-22,7.409925382765814e-22,7.409925382768477e-22,7.409925382772079e-22,7.40992538277666e-22,7.4099253827820905e-22,7.409925382788156e-22,7.409925382794629e-22,7.409925382801296e-22,7.409925382808009e-22,7.409925382814641e-22,7.409925382821146e-22,7.409925382827516e-22,7.409925382833808e-22,7.409925382840102e-22,7.409925382846549e-22,7.409925382853338e-22,7.409925382860684e-22,7.409925382868784e-22,7.409925382877754e-22,7.409925382887543e-22,7.409925382902603e-22],[8.754011404283063e-22,8.754011404271464e-22,8.754011404273134e-22,8.754011404275999e-22,8.754011404280232e-22,8.75401140428557e-22,8.754011404291664e-22,8.7540114042982e-22,8.754011404304929e-22,8.754011404311673e-22,8.754011404318328e-22,8.754011404324835e-22,8.754011404331187e-22,8.754011404337435e-22,8.754011404343668e-22,8.754011404350032e-22,8.754011404356765e-22,8.754011404364163e-22,8.754011404372543e-22,8.754011404382149e-22,8.754011404392794e-22,8.754011404410492e-22],[1.0098097425792091e-21,1.0098097425776675e-21,1.0098097425777828e-21,1.0098097425780132e-21,1.0098097425784267e-21,1.0098097425789709e-21,1.0098097425795957e-21,1.009809742580261e-21,1.009809742580942e-21,1.0098097425816205e-21,1.0098097425822876e-21,1.0098097425829386e-21,1.0098097425835718e-21,1.009809742584192e-21,1.0098097425848066e-21,1.0098097425854297e-21,1.009809742586086e-21,1.0098097425868128e-21,1.0098097425876556e-21,1.009809742588663e-21,1.009809742589765e-21,1.0098097425919066e-21],[1.1442183447297413e-21,1.1442183447281306e-21,1.144218344728282e-21,1.1442183447284975e-21,1.1442183447289234e-21,1.1442183447294848e-21,1.1442183447301233e-21,1.1442183447307962e-21,1.1442183447314793e-21,1.1442183447321581e-21,1.1442183447328249e-21,1.1442183447334752e-21,1.1442183447341087e-21,1.1442183447347277e-21,1.144218344735339e-21,1.1442183447359538e-21,1.1442183447365955e-21,1.1442183447373034e-21,1.1442183447381313e-21,1.1442183447391468e-21,1.1442183447401987e-21,1.1442183447423973e-21],[1.2786269468846442e-21,1.2786269468779046e-21,1.2786269468791277e-21,1.2786269468791817e-21,1.278626946879592e-21,1.278626946880137e-21,1.2786269468807629e-21,1.2786269468814241e-21,1.2786269468820975e-21,1.2786269468827691e-21,1.2786269468834323e-21,1.2786269468840819e-21,1.278626946884718e-21,1.278626946885343e-21,1.2786269468859625e-21,1.2786269468865884e-21,1.2786269468872418e-21,1.2786269468879652e-21,1.2786269468888066e-21,1.2786269468899814e-21,1.2786269468899532e-21,1.278626946897274e-21],[1.3458312479457376e-21,1.3458312479559983e-21,1.345831247954656e-21,1.3458312479550917e-21,1.3458312479554412e-21,1.3458312479559558e-21,1.3458312479565546e-21,1.3458312479571977e-21,1.3458312479578595e-21,1.3458312479585242e-21,1.345831247959184e-21,1.345831247959833e-21,1.3458312479604717e-21,1.3458312479611026e-21,1.3458312479617328e-21,1.345831247962376e-21,1.3458312479630556e-21,1.3458312479638083e-21,1.34583124796471e-21,1.3458312479655034e-21,1.3458312479680489e-21,1.3458312479583807e-21]],\"type\":\"surface\"}],                        {\"template\":{\"data\":{\"bar\":[{\"error_x\":{\"color\":\"#2a3f5f\"},\"error_y\":{\"color\":\"#2a3f5f\"},\"marker\":{\"line\":{\"color\":\"#E5ECF6\",\"width\":0.5},\"pattern\":{\"fillmode\":\"overlay\",\"size\":10,\"solidity\":0.2}},\"type\":\"bar\"}],\"barpolar\":[{\"marker\":{\"line\":{\"color\":\"#E5ECF6\",\"width\":0.5},\"pattern\":{\"fillmode\":\"overlay\",\"size\":10,\"solidity\":0.2}},\"type\":\"barpolar\"}],\"carpet\":[{\"aaxis\":{\"endlinecolor\":\"#2a3f5f\",\"gridcolor\":\"white\",\"linecolor\":\"white\",\"minorgridcolor\":\"white\",\"startlinecolor\":\"#2a3f5f\"},\"baxis\":{\"endlinecolor\":\"#2a3f5f\",\"gridcolor\":\"white\",\"linecolor\":\"white\",\"minorgridcolor\":\"white\",\"startlinecolor\":\"#2a3f5f\"},\"type\":\"carpet\"}],\"choropleth\":[{\"colorbar\":{\"outlinewidth\":0,\"ticks\":\"\"},\"type\":\"choropleth\"}],\"contour\":[{\"colorbar\":{\"outlinewidth\":0,\"ticks\":\"\"},\"colorscale\":[[0.0,\"#0d0887\"],[0.1111111111111111,\"#46039f\"],[0.2222222222222222,\"#7201a8\"],[0.3333333333333333,\"#9c179e\"],[0.4444444444444444,\"#bd3786\"],[0.5555555555555556,\"#d8576b\"],[0.6666666666666666,\"#ed7953\"],[0.7777777777777778,\"#fb9f3a\"],[0.8888888888888888,\"#fdca26\"],[1.0,\"#f0f921\"]],\"type\":\"contour\"}],\"contourcarpet\":[{\"colorbar\":{\"outlinewidth\":0,\"ticks\":\"\"},\"type\":\"contourcarpet\"}],\"heatmap\":[{\"colorbar\":{\"outlinewidth\":0,\"ticks\":\"\"},\"colorscale\":[[0.0,\"#0d0887\"],[0.1111111111111111,\"#46039f\"],[0.2222222222222222,\"#7201a8\"],[0.3333333333333333,\"#9c179e\"],[0.4444444444444444,\"#bd3786\"],[0.5555555555555556,\"#d8576b\"],[0.6666666666666666,\"#ed7953\"],[0.7777777777777778,\"#fb9f3a\"],[0.8888888888888888,\"#fdca26\"],[1.0,\"#f0f921\"]],\"type\":\"heatmap\"}],\"heatmapgl\":[{\"colorbar\":{\"outlinewidth\":0,\"ticks\":\"\"},\"colorscale\":[[0.0,\"#0d0887\"],[0.1111111111111111,\"#46039f\"],[0.2222222222222222,\"#7201a8\"],[0.3333333333333333,\"#9c179e\"],[0.4444444444444444,\"#bd3786\"],[0.5555555555555556,\"#d8576b\"],[0.6666666666666666,\"#ed7953\"],[0.7777777777777778,\"#fb9f3a\"],[0.8888888888888888,\"#fdca26\"],[1.0,\"#f0f921\"]],\"type\":\"heatmapgl\"}],\"histogram\":[{\"marker\":{\"pattern\":{\"fillmode\":\"overlay\",\"size\":10,\"solidity\":0.2}},\"type\":\"histogram\"}],\"histogram2d\":[{\"colorbar\":{\"outlinewidth\":0,\"ticks\":\"\"},\"colorscale\":[[0.0,\"#0d0887\"],[0.1111111111111111,\"#46039f\"],[0.2222222222222222,\"#7201a8\"],[0.3333333333333333,\"#9c179e\"],[0.4444444444444444,\"#bd3786\"],[0.5555555555555556,\"#d8576b\"],[0.6666666666666666,\"#ed7953\"],[0.7777777777777778,\"#fb9f3a\"],[0.8888888888888888,\"#fdca26\"],[1.0,\"#f0f921\"]],\"type\":\"histogram2d\"}],\"histogram2dcontour\":[{\"colorbar\":{\"outlinewidth\":0,\"ticks\":\"\"},\"colorscale\":[[0.0,\"#0d0887\"],[0.1111111111111111,\"#46039f\"],[0.2222222222222222,\"#7201a8\"],[0.3333333333333333,\"#9c179e\"],[0.4444444444444444,\"#bd3786\"],[0.5555555555555556,\"#d8576b\"],[0.6666666666666666,\"#ed7953\"],[0.7777777777777778,\"#fb9f3a\"],[0.8888888888888888,\"#fdca26\"],[1.0,\"#f0f921\"]],\"type\":\"histogram2dcontour\"}],\"mesh3d\":[{\"colorbar\":{\"outlinewidth\":0,\"ticks\":\"\"},\"type\":\"mesh3d\"}],\"parcoords\":[{\"line\":{\"colorbar\":{\"outlinewidth\":0,\"ticks\":\"\"}},\"type\":\"parcoords\"}],\"pie\":[{\"automargin\":true,\"type\":\"pie\"}],\"scatter\":[{\"marker\":{\"colorbar\":{\"outlinewidth\":0,\"ticks\":\"\"}},\"type\":\"scatter\"}],\"scatter3d\":[{\"line\":{\"colorbar\":{\"outlinewidth\":0,\"ticks\":\"\"}},\"marker\":{\"colorbar\":{\"outlinewidth\":0,\"ticks\":\"\"}},\"type\":\"scatter3d\"}],\"scattercarpet\":[{\"marker\":{\"colorbar\":{\"outlinewidth\":0,\"ticks\":\"\"}},\"type\":\"scattercarpet\"}],\"scattergeo\":[{\"marker\":{\"colorbar\":{\"outlinewidth\":0,\"ticks\":\"\"}},\"type\":\"scattergeo\"}],\"scattergl\":[{\"marker\":{\"colorbar\":{\"outlinewidth\":0,\"ticks\":\"\"}},\"type\":\"scattergl\"}],\"scattermapbox\":[{\"marker\":{\"colorbar\":{\"outlinewidth\":0,\"ticks\":\"\"}},\"type\":\"scattermapbox\"}],\"scatterpolar\":[{\"marker\":{\"colorbar\":{\"outlinewidth\":0,\"ticks\":\"\"}},\"type\":\"scatterpolar\"}],\"scatterpolargl\":[{\"marker\":{\"colorbar\":{\"outlinewidth\":0,\"ticks\":\"\"}},\"type\":\"scatterpolargl\"}],\"scatterternary\":[{\"marker\":{\"colorbar\":{\"outlinewidth\":0,\"ticks\":\"\"}},\"type\":\"scatterternary\"}],\"surface\":[{\"colorbar\":{\"outlinewidth\":0,\"ticks\":\"\"},\"colorscale\":[[0.0,\"#0d0887\"],[0.1111111111111111,\"#46039f\"],[0.2222222222222222,\"#7201a8\"],[0.3333333333333333,\"#9c179e\"],[0.4444444444444444,\"#bd3786\"],[0.5555555555555556,\"#d8576b\"],[0.6666666666666666,\"#ed7953\"],[0.7777777777777778,\"#fb9f3a\"],[0.8888888888888888,\"#fdca26\"],[1.0,\"#f0f921\"]],\"type\":\"surface\"}],\"table\":[{\"cells\":{\"fill\":{\"color\":\"#EBF0F8\"},\"line\":{\"color\":\"white\"}},\"header\":{\"fill\":{\"color\":\"#C8D4E3\"},\"line\":{\"color\":\"white\"}},\"type\":\"table\"}]},\"layout\":{\"annotationdefaults\":{\"arrowcolor\":\"#2a3f5f\",\"arrowhead\":0,\"arrowwidth\":1},\"autotypenumbers\":\"strict\",\"coloraxis\":{\"colorbar\":{\"outlinewidth\":0,\"ticks\":\"\"}},\"colorscale\":{\"diverging\":[[0,\"#8e0152\"],[0.1,\"#c51b7d\"],[0.2,\"#de77ae\"],[0.3,\"#f1b6da\"],[0.4,\"#fde0ef\"],[0.5,\"#f7f7f7\"],[0.6,\"#e6f5d0\"],[0.7,\"#b8e186\"],[0.8,\"#7fbc41\"],[0.9,\"#4d9221\"],[1,\"#276419\"]],\"sequential\":[[0.0,\"#0d0887\"],[0.1111111111111111,\"#46039f\"],[0.2222222222222222,\"#7201a8\"],[0.3333333333333333,\"#9c179e\"],[0.4444444444444444,\"#bd3786\"],[0.5555555555555556,\"#d8576b\"],[0.6666666666666666,\"#ed7953\"],[0.7777777777777778,\"#fb9f3a\"],[0.8888888888888888,\"#fdca26\"],[1.0,\"#f0f921\"]],\"sequentialminus\":[[0.0,\"#0d0887\"],[0.1111111111111111,\"#46039f\"],[0.2222222222222222,\"#7201a8\"],[0.3333333333333333,\"#9c179e\"],[0.4444444444444444,\"#bd3786\"],[0.5555555555555556,\"#d8576b\"],[0.6666666666666666,\"#ed7953\"],[0.7777777777777778,\"#fb9f3a\"],[0.8888888888888888,\"#fdca26\"],[1.0,\"#f0f921\"]]},\"colorway\":[\"#636efa\",\"#EF553B\",\"#00cc96\",\"#ab63fa\",\"#FFA15A\",\"#19d3f3\",\"#FF6692\",\"#B6E880\",\"#FF97FF\",\"#FECB52\"],\"font\":{\"color\":\"#2a3f5f\"},\"geo\":{\"bgcolor\":\"white\",\"lakecolor\":\"white\",\"landcolor\":\"#E5ECF6\",\"showlakes\":true,\"showland\":true,\"subunitcolor\":\"white\"},\"hoverlabel\":{\"align\":\"left\"},\"hovermode\":\"closest\",\"mapbox\":{\"style\":\"light\"},\"paper_bgcolor\":\"white\",\"plot_bgcolor\":\"#E5ECF6\",\"polar\":{\"angularaxis\":{\"gridcolor\":\"white\",\"linecolor\":\"white\",\"ticks\":\"\"},\"bgcolor\":\"#E5ECF6\",\"radialaxis\":{\"gridcolor\":\"white\",\"linecolor\":\"white\",\"ticks\":\"\"}},\"scene\":{\"xaxis\":{\"backgroundcolor\":\"#E5ECF6\",\"gridcolor\":\"white\",\"gridwidth\":2,\"linecolor\":\"white\",\"showbackground\":true,\"ticks\":\"\",\"zerolinecolor\":\"white\"},\"yaxis\":{\"backgroundcolor\":\"#E5ECF6\",\"gridcolor\":\"white\",\"gridwidth\":2,\"linecolor\":\"white\",\"showbackground\":true,\"ticks\":\"\",\"zerolinecolor\":\"white\"},\"zaxis\":{\"backgroundcolor\":\"#E5ECF6\",\"gridcolor\":\"white\",\"gridwidth\":2,\"linecolor\":\"white\",\"showbackground\":true,\"ticks\":\"\",\"zerolinecolor\":\"white\"}},\"shapedefaults\":{\"line\":{\"color\":\"#2a3f5f\"}},\"ternary\":{\"aaxis\":{\"gridcolor\":\"white\",\"linecolor\":\"white\",\"ticks\":\"\"},\"baxis\":{\"gridcolor\":\"white\",\"linecolor\":\"white\",\"ticks\":\"\"},\"bgcolor\":\"#E5ECF6\",\"caxis\":{\"gridcolor\":\"white\",\"linecolor\":\"white\",\"ticks\":\"\"}},\"title\":{\"x\":0.05},\"xaxis\":{\"automargin\":true,\"gridcolor\":\"white\",\"linecolor\":\"white\",\"ticks\":\"\",\"title\":{\"standoff\":15},\"zerolinecolor\":\"white\",\"zerolinewidth\":2},\"yaxis\":{\"automargin\":true,\"gridcolor\":\"white\",\"linecolor\":\"white\",\"ticks\":\"\",\"title\":{\"standoff\":15},\"zerolinecolor\":\"white\",\"zerolinewidth\":2}}}},                        {\"responsive\": true}                    ).then(function(){\n",
       "                            \n",
       "var gd = document.getElementById('31d4a4bd-6699-4d4e-954e-cb182a35cd8f');\n",
       "var x = new MutationObserver(function (mutations, observer) {{\n",
       "        var display = window.getComputedStyle(gd).display;\n",
       "        if (!display || display === 'none') {{\n",
       "            console.log([gd, 'removed!']);\n",
       "            Plotly.purge(gd);\n",
       "            observer.disconnect();\n",
       "        }}\n",
       "}});\n",
       "\n",
       "// Listen for the removal of the full notebook cells\n",
       "var notebookContainer = gd.closest('#notebook-container');\n",
       "if (notebookContainer) {{\n",
       "    x.observe(notebookContainer, {childList: true});\n",
       "}}\n",
       "\n",
       "// Listen for the clearing of the current output cell\n",
       "var outputEl = gd.closest('.output');\n",
       "if (outputEl) {{\n",
       "    x.observe(outputEl, {childList: true});\n",
       "}}\n",
       "\n",
       "                        })                };                });            </script>        </div>"
      ]
     },
     "metadata": {},
     "output_type": "display_data"
    }
   ],
   "source": [
    "## Time loop\n",
    "\n",
    "!rm -r savedVariables\n",
    "! mkdir savedVariables\n",
    "\n",
    "for time in t:\n",
    "\n",
    "    print(\"\\nTime = \" + str(time))\n",
    "    \n",
    "    # Set number of maximum iterations for convergence\n",
    "    \n",
    "    icorr = 1\n",
    "    maxcorr = 100000\n",
    "\n",
    "    # Make directory\n",
    "\n",
    "    ! mkdir savedVariables/{time}\n",
    "    \n",
    "    while True:\n",
    "    # for iteration in [1]:\n",
    "            \n",
    "        u_previous = u_new #store latest guess values\n",
    "\n",
    "        A_x = A(\"x\").createMatrix()\n",
    "        \n",
    "        for k in np.arange(0,(nx+2)*(ny+2)):   # k is the cell number\n",
    "\n",
    "            xy = \"x\"\n",
    "\n",
    "            U = displacement(k, u_previous, 0)\n",
    "            V = displacement(k, u_previous, 1)\n",
    "\n",
    "            #Bottom left corner coefficients\n",
    "               \n",
    "            if cell_index().bottom_left_corner(k):\n",
    "                sides = [\"b\", \"l\"]\n",
    "\n",
    "                #print(str(k) + \": Bottom left corner coefficients\")\n",
    "\n",
    "                #ap\n",
    "                A_x[k,k] = boundaryCellTraction(sides, \"x\").a_P\n",
    "\n",
    "                #an\n",
    "                A_x[k,index(k).n] = - boundaryCellTraction(sides, \"x\").a_N\n",
    "\n",
    "                #ae\n",
    "                A_x[k, index(k).e] = - (Sfx/dx)*(2*mu + Lambda)\n",
    "\n",
    "                b_x[k] =(\n",
    "                            boundaryCellTraction.b_temp(u_old, u_old_old, k, xy)\n",
    "                            +\n",
    "                            boundaryCellTraction.b_diff(sides, k, xy, u_previous)\n",
    "                        )   \n",
    "\n",
    "            #Bottom right corner coefficients\n",
    "                \n",
    "            elif  cell_index().bottom_right_corner(k):\n",
    "                sides = [\"b\", \"r\"]\n",
    "\n",
    "                #print(str(k) + \": Bottom right corner coefficients\")\n",
    "\n",
    "                #ap\n",
    "                A_x[k,k] = (rho*dx*dy/(dt**2)) + (Sfy/dy)*mu + (Sfx/dx)*(2*mu + Lambda)\n",
    "\n",
    "                #an\n",
    "                A_x[k,index(k).n] = -(Sfy/dy)*mu\n",
    "\n",
    "                #aw\n",
    "                A_x[k, index(k).w] = -(Sfx/dx)*(2*mu + Lambda)\n",
    "\n",
    "                b_x[k] =(\n",
    "                            boundaryCellTraction.b_temp(u_old, u_old_old, k, xy)\n",
    "                            +\n",
    "                            boundaryCellTraction.b_diff(sides, k, xy, u_previous)                          \n",
    "                        ) \n",
    "\n",
    "            # Top Left Corner Coeficients\n",
    "                \n",
    "            elif  cell_index().top_left_corner(k):\n",
    "                sides = [\"t\", \"l\"]\n",
    "\n",
    "                #print(str(k) + \":Top Left corner coefficients\")\n",
    "\n",
    "                #ap                \n",
    "                A_x[k,k] = (rho*dx*dy/(dt**2)) + (Sfy/dy)*mu + (Sfx/dx)*(2*mu + Lambda)\n",
    "                \n",
    "                #as\n",
    "                A_x[k,index(k).s] = -(Sfy/dy)*mu\n",
    "\n",
    "                #ae                \n",
    "                A_x[k, index(k).e] = -(Sfx/dx)*(2*mu + Lambda)\n",
    "                \n",
    "                b_x[k] =(\n",
    "                            boundaryCellTraction.b_temp(u_old, u_old_old, k, xy)\n",
    "                            +\n",
    "                            boundaryCellTraction.b_diff(sides, k, xy, u_previous)  \n",
    "                        )\n",
    "                \n",
    "            # Top right corner coefficients\n",
    "                \n",
    "            elif  cell_index().top_right_corner(k):   \n",
    "                sides = [\"t\", \"r\"]\n",
    "\n",
    "                #print(str(k) + \":Top right corner coefficients\")\n",
    "\n",
    "                #ap\n",
    "                A_x[k,k] = (rho*dx*dy/(dt**2)) + (Sfy/dy)*mu + (Sfx/dx)*(2*mu + Lambda)\n",
    "\n",
    "                #as\n",
    "                A_x[k,index(k).s] = -(Sfy/dy)*mu\n",
    "\n",
    "                #aw\n",
    "                A_x[k, index(k).w] = -(Sfx/dx)*(2*mu + Lambda)\n",
    "\n",
    "                b_x[k] =(\n",
    "                            boundaryCellTraction.b_temp(u_old, u_old_old, k, xy)\n",
    "                            +\n",
    "                            boundaryCellTraction.b_diff(sides, k, xy, u_previous)\n",
    "                        )\n",
    "                \n",
    "            # Center Bottom Boundaries\n",
    "\n",
    "            elif  cell_index().center_bottom(k):\n",
    "                side = \"b\"\n",
    "\n",
    "                #print(str(k) + \": Bottom Center Coefficents for Cell\")\n",
    "\n",
    "                #ap\n",
    "                A_x[k,k] = boundaryCellTraction(side, xy).a_P\n",
    "\n",
    "                #an\n",
    "                A_x[k,index(k).n] = - boundaryCellTraction(side, xy).a_N                \n",
    "                #ae\n",
    "                A_x[k, index(k).e] = - boundaryCellTraction(side, xy).a_E\n",
    "                #aw\n",
    "                A_x[k, index(k).w] = - boundaryCellTraction(side, xy).a_W\n",
    "\n",
    "                b_x[k] =(\n",
    "                            boundaryCellTraction.b_temp(u_old, u_old_old, k, xy)\n",
    "                            +\n",
    "                            boundaryCellTraction.b_diff(side, k, xy, u_previous)\n",
    "                        )                                 \n",
    "\n",
    "            # Center Top Boundaries\n",
    "\n",
    "            elif cell_index().center_top(k):\n",
    "                side = \"t\"\n",
    "\n",
    "                #print(str(k) + \": Top Center Coefficents for Cell\")\n",
    "\n",
    "                #ap\n",
    "                A_x[k,k] = boundaryCellTraction(side, xy).a_P\n",
    "                #as\n",
    "                A_x[k,index(k).s] = - boundaryCellTraction(side, xy).a_S                   \n",
    "                #ae\n",
    "                A_x[k, index(k).e] = - boundaryCellTraction(side, xy).a_E  \n",
    "                #aw\n",
    "                A_x[k, index(k).w] = - boundaryCellTraction(side, xy).a_W  \n",
    "\n",
    "                b_x[k] =(\n",
    "                            boundaryCellTraction.b_temp(u_old, u_old_old, k, xy)\n",
    "                            +\n",
    "                            boundaryCellTraction.b_diff(side, k, xy, u_previous)\n",
    "                        )\n",
    "            \n",
    "            # Center Left Boundaries\n",
    "\n",
    "            elif  cell_index().center_left(k):\n",
    "                side = \"l\"\n",
    "\n",
    "                #print(str(k) + \": Left Center Coefficents for Cell\")\n",
    "\n",
    "                #ap\n",
    "                A_x[k,k] = boundaryCellTraction(side, xy).a_P\n",
    "                #an\n",
    "                A_x[k,index(k).n] = - boundaryCellTraction(side, xy).a_N            \n",
    "                #as\n",
    "                A_x[k,index(k).s] = - boundaryCellTraction(side, xy).a_S\n",
    "                #ae\n",
    "                A_x[k,index(k).e] = - boundaryCellTraction(side, xy).a_E\n",
    "\n",
    "                # b_x[k] =(\n",
    "                #             boundaryCellTraction.b_temp(u_old, u_old_old, k, xy)\n",
    "                #             +\n",
    "                #             boundaryCellTraction.b_diff(side, k, xy, u_previous)\n",
    "                #         )\n",
    "\n",
    "                b_x[k] =(\n",
    "                            boundaryCellTraction.b_temp(u_old, u_old_old, k, xy)\n",
    "                            +\n",
    "                            boundaryCellTraction.b_diff(side, k, xy, u_previous)\n",
    "                        )\n",
    "\n",
    "            # Center Right Boundaries\n",
    "\n",
    "            elif  cell_index().center_right(k):\n",
    "                side = \"r\"\n",
    "\n",
    "                #print(str(k) + \": Right Center Coefficents for Cell\")\n",
    "\n",
    "                #ap\n",
    "                A_x[k,k] = boundaryCellTraction(side, xy).a_P\n",
    "                #an\n",
    "                A_x[k,index(k).n] = - boundaryCellTraction(side, xy).a_N            \n",
    "                #as\n",
    "                A_x[k,index(k).s] = - boundaryCellTraction(side, xy).a_S\n",
    "                #aw\n",
    "                A_x[k,index(k).w] = - boundaryCellTraction(side, xy).a_W\n",
    "\n",
    "                b_x[k] =(\n",
    "                            boundaryCellTraction.b_temp(u_old, u_old_old, k, xy)\n",
    "                            +\n",
    "                            boundaryCellTraction.b_diff(side, k, xy, u_previous)\n",
    "                        )\n",
    "\n",
    "            #### Points on Boundary ####\n",
    "\n",
    "            # Center Bottom\n",
    "\n",
    "            elif boundary_point_index().center_bottom(k):\n",
    "                edges = [\"b\"]\n",
    "                #print(str(k) +  \": Bottom points\")\n",
    "\n",
    "                #ap\n",
    "                A_x[k,k] = boundaryPointTraction(edges, xy).a_P\n",
    "\n",
    "\n",
    "                #an\n",
    "                A_x[k,index(k).n] = - boundaryPointTraction(edges, xy).a_N\n",
    "\n",
    "                #b\n",
    "                b_x[k] =(\n",
    "                        boundaryPointTraction.b_diff(edges, k, xy, u_previous)\n",
    "                        ) \n",
    "\n",
    "\n",
    "            # Center Top\n",
    "\n",
    "            elif boundary_point_index().center_top(k):\n",
    "                edges = [\"t\"]\n",
    "                #print( str(k) + \": Center points\" )\n",
    "                \n",
    "                #ap\n",
    "                A_x[k,k] = boundaryPointTraction(edges, xy).a_P\n",
    "\n",
    "                #as\n",
    "                A_x[k,index(k).s] = - boundaryPointTraction(edges, xy).a_S\n",
    "\n",
    "                #b\n",
    "                b_x[k] =(\n",
    "                        boundaryPointTraction.b_diff(edges, k, xy, u_previous)\n",
    "                        )\n",
    "                \n",
    "            # Center Left\n",
    "\n",
    "            elif boundary_point_index().center_left(k):\n",
    "                edges = [\"l\"]\n",
    "                #print( str(k) + \": Left points\" )\n",
    "\n",
    "                #ap\n",
    "                A_x[k,k] = boundaryPointTraction(edges, xy).a_P\n",
    "\n",
    "                #ae\n",
    "                A_x[k, index(k).e] = - boundaryPointTraction(edges, xy).a_E\n",
    "\n",
    "                #b\n",
    "                b_x[k] =(\n",
    "                        boundaryPointTraction.b_diff(edges, k, xy, u_previous)\n",
    "                        ) \n",
    "\n",
    "            # Center Right\n",
    "\n",
    "            elif boundary_point_index().center_right(k):\n",
    "                edges = [\"r\"]\n",
    "                #print( str(k) + \": Left points\" )\n",
    "\n",
    "                #ap\n",
    "                A_x[k,k] = boundaryPointTraction(edges, xy).a_P\n",
    "\n",
    "                #aw\n",
    "                A_x[k, index(k).w] = - boundaryPointTraction(edges, xy).a_W\n",
    "\n",
    "                #b\n",
    "                b_x[k] =(\n",
    "                        boundaryPointTraction.b_diff(edges, k, xy, u_previous)\n",
    "                        ) \n",
    "\n",
    "            # Bottom Left: Bottom\n",
    "\n",
    "            elif boundary_point_index().bottom_left_bottom(k):\n",
    "                edges = [\"b\", \"l\"]\n",
    "                # print( str(k) + \": Bottom Left: Bottom points\" )\n",
    "                \n",
    "                # ap\n",
    "                A_x[k,k] = boundaryPointTraction(edges, xy).a_P\n",
    "\n",
    "                #an\n",
    "                A_x[k,index(k).n] = - boundaryPointTraction(edges, xy).a_N\n",
    "\n",
    "                #b\n",
    "                b_x[k] =(\n",
    "                            boundaryPointTraction.b_diff(edges, k, xy, u_previous)\n",
    "                        ) \n",
    "\n",
    "            # Bottom Left: Left\n",
    "\n",
    "            elif boundary_point_index().bottom_left_left(k):\n",
    "                edges = [\"l\", \"b\"]\n",
    "                #print( str(k) +  \": Bottom Left: Left points\" )\n",
    "                \n",
    "                #ap\n",
    "                A_x[k,k] = boundaryPointTraction(edges, xy).a_P\n",
    "\n",
    "                #ae\n",
    "                A_x[k, index(k).e] = - boundaryPointTraction(edges, xy).a_E\n",
    "\n",
    "                #b\n",
    "                b_x[k] =(\n",
    "                            boundaryPointTraction.b_diff(edges, k, xy, u_previous)\n",
    "                        ) \n",
    "            \n",
    "            # Bottom Right: Right\n",
    "\n",
    "            elif boundary_point_index().bottom_right_right(k):\n",
    "                edges = [\"r\", \"b\"]\n",
    "\n",
    "                #print( str(k) + \": Bottom Right: Right points\" )\n",
    "\n",
    "                #ap\n",
    "                A_x[k,k] = boundaryPointTraction(edges, xy).a_P\n",
    "\n",
    "                #aw\n",
    "                A_x[k, index(k).w] = - boundaryPointTraction(edges, xy).a_W\n",
    "\n",
    "                #b\n",
    "                b_x[k] =(\n",
    "                            boundaryPointTraction.b_diff(edges, k, xy, u_previous)\n",
    "                        ) \n",
    "\n",
    "            # Bottom Right: Bottom\n",
    "\n",
    "            elif boundary_point_index().bottom_right_bottom(k):\n",
    "                edges = [\"b\", \"r\"]\n",
    "\n",
    "                #print( str(k) + \": Bottom Right: Bottom points\" )\n",
    "\n",
    "\n",
    "                #ap\n",
    "                A_x[k,k] = boundaryPointTraction(edges, xy).a_P\n",
    "\n",
    "                #an\n",
    "                A_x[k,index(k).n] = - boundaryPointTraction(edges, xy).a_N\n",
    "\n",
    "                #b\n",
    "                b_x[k] =(\n",
    "                            boundaryPointTraction.b_diff(edges, k, xy, u_previous)\n",
    "                        ) \n",
    "\n",
    "            # Top Left: Left\n",
    "\n",
    "            elif boundary_point_index().top_left_left(k):\n",
    "                edges = [\"l\", \"t\"]\n",
    "\n",
    "                #print( str(k) + \" Top Left: Left points\" )\n",
    "\n",
    "                \n",
    "                #ap\n",
    "                A_x[k,k] = boundaryPointTraction(edges, xy).a_P\n",
    "\n",
    "                #ae\n",
    "                A_x[k, index(k).e] = - boundaryPointTraction(edges, xy).a_E\n",
    "\n",
    "                #b\n",
    "                b_x[k] =(\n",
    "                            boundaryPointTraction.b_diff(edges, k, xy, u_previous)\n",
    "                        ) \n",
    "\n",
    "            # Top Left: Top\n",
    "\n",
    "            elif boundary_point_index().top_left_top(k):\n",
    "                edges = [\"t\", \"l\"]\n",
    "\n",
    "                #print( str(k) + \" Top Left: Top points\" )\n",
    "\n",
    "                \n",
    "                #ap\n",
    "                A_x[k,k] = boundaryPointTraction(edges, xy).a_P\n",
    "\n",
    "                #as\n",
    "                A_x[k,index(k).s] = - boundaryPointTraction(edges, xy).a_S\n",
    "\n",
    "                #b\n",
    "                b_x[k] =(\n",
    "                            boundaryPointTraction.b_diff(edges, k, xy, u_previous)\n",
    "                        ) \n",
    "\n",
    "            # Top Right: Right\n",
    "\n",
    "            elif boundary_point_index().top_right_right(k):\n",
    "                edges = [\"r\", \"t\"]\n",
    "\n",
    "                #print( str(k) + \" Top Right: Right points\" )\n",
    "\n",
    "                #ap\n",
    "                A_x[k,k] = boundaryPointTraction(edges, xy).a_P\n",
    "\n",
    "                #aw\n",
    "                A_x[k, index(k).w] = - boundaryPointTraction(edges, xy).a_W\n",
    "\n",
    "                #b\n",
    "                b_x[k] =(\n",
    "                            boundaryPointTraction.b_diff(edges, k, xy, u_previous)\n",
    "                        ) \n",
    "\n",
    "            # Top Right: Top\n",
    "            \n",
    "            elif boundary_point_index().top_right_top(k):\n",
    "                edges = [\"t\", \"r\"]\n",
    "\n",
    "                #print( str(k) + \" Top Right: Top points\" )\n",
    "\n",
    "                #ap\n",
    "                A_x[k,k] = boundaryPointTraction(edges, xy).a_P\n",
    "\n",
    "                #as\n",
    "                A_x[k,index(k).s] = - boundaryPointTraction(edges, xy).a_S\n",
    "\n",
    "                #b\n",
    "                b_x[k] =(\n",
    "                            boundaryPointTraction.b_diff(edges, k, xy, u_previous)\n",
    "                        ) \n",
    "                        \n",
    "            # Corner Points\n",
    "\n",
    "            elif boundary_point_index().bottom_left_corner(k):\n",
    "\n",
    "                #print(str(k) + \": Bottom Left Corner Point on Boundary\")\n",
    "\n",
    "                A_x[k,k] = 4\n",
    "\n",
    "                A_x[k,index(k).n] = 2 \n",
    "                A_x[k,index(k).e] = 2\n",
    "\n",
    "                A_x[k,index(k).ne] = -15\n",
    "\n",
    "                A_x[k,index(k).dir([\"n\", \"n\"])] = 2 \n",
    "                A_x[k,index(k).dir([\"e\", \"e\"])] = 2\n",
    "\n",
    "                A_x[k,index(k).dir([\"n\", \"ne\"])] = 1\n",
    "                A_x[k,index(k).dir([\"ne\", \"ne\"])] = 1\n",
    "                A_x[k,index(k).dir([\"e\", \"ne\"])] = 1\n",
    "\n",
    "                b_x[k] = 0\n",
    "\n",
    "            elif boundary_point_index().bottom_right_corner(k):\n",
    "                #print(str(k) + \": Bottom Right Corner Point on Boundary\")\n",
    "                A_x[k,k] = 4\n",
    "\n",
    "                A_x[k,index(k).n] = 2 \n",
    "                A_x[k,index(k).w] = 2\n",
    "\n",
    "                A_x[k,index(k).nw] = -15\n",
    "\n",
    "                A_x[k,index(k).dir([\"n\", \"n\"])] = 2 \n",
    "                A_x[k,index(k).dir([\"w\", \"w\"])] = 2\n",
    "\n",
    "                A_x[k,index(k).dir([\"n\", \"nw\"])] = 1\n",
    "                A_x[k,index(k).dir([\"nw\", \"nw\"])] = 1\n",
    "                A_x[k,index(k).dir([\"w\", \"nw\"])] = 1\n",
    "\n",
    "                b_x[k] = 0\n",
    "\n",
    "            elif boundary_point_index().top_left_corner(k):\n",
    "                #print(str(k) + \": Top Left Corner Point on Boundary\")\n",
    "                A_x[k,k] = 4\n",
    "\n",
    "                A_x[k,index(k).s] = 2 \n",
    "                A_x[k,index(k).e] = 2\n",
    "\n",
    "                A_x[k,index(k).se] = -15\n",
    "\n",
    "                A_x[k,index(k).dir([\"s\", \"s\"])] = 2 \n",
    "                A_x[k,index(k).dir([\"e\", \"e\"])] = 2\n",
    "\n",
    "                A_x[k,index(k).dir([\"s\", \"se\"])] = 1\n",
    "                A_x[k,index(k).dir([\"se\", \"se\"])] = 1\n",
    "                A_x[k,index(k).dir([\"e\", \"se\"])] = 1\n",
    "\n",
    "                b_x[k] = 0\n",
    "\n",
    "            elif boundary_point_index().top_right_corner(k):\n",
    "                #print(str(k) + \": Top Right Corner Point on Boundary\")\n",
    "                A_x[k,k] = 4\n",
    "\n",
    "                A_x[k,index(k).s] = 2 \n",
    "                A_x[k,index(k).w] = 2\n",
    "\n",
    "                A_x[k,index(k).sw] = -15\n",
    "\n",
    "                A_x[k,index(k).dir([\"s\", \"s\"])] = 2 \n",
    "                A_x[k,index(k).dir([\"w\", \"w\"])] = 2\n",
    "\n",
    "                A_x[k,index(k).dir([\"s\", \"sw\"])] = 1\n",
    "                A_x[k,index(k).dir([\"sw\", \"sw\"])] = 1\n",
    "                A_x[k,index(k).dir([\"w\", \"sw\"])] = 1\n",
    "\n",
    "                b_x[k] = 0\n",
    "                \n",
    "            else:\n",
    "\n",
    "                # print(str(k) + \": NO BC Cell\")\n",
    "\n",
    "                b_x[k] = (\n",
    "                            A.b_temp(u_old, u_old_old, k, \"x\")\n",
    "                            +\n",
    "                            A.b_diff(k, \"x\", u_previous)\n",
    "                        )\n",
    "\n",
    "        # saveArray(str(time) + \"/A_x_\" + str(icorr) , A_x.todense())   \n",
    "        # saveArray(str(time) + \"/b_x_\" + str(icorr), b_x)  \n",
    "\n",
    "        ## Solve the x-equation\n",
    "        \n",
    "        Ux = spsolve(A_x, b_x)\n",
    "        Ux = np.array(Ux)\n",
    "\n",
    "        # #print(Ux)\n",
    "\n",
    "        saveArray(str(time) + \"/Ux_\" + str(icorr), Ux)\n",
    "        \n",
    "        ## Prepare matrix A and b vector for the y-equation\n",
    "        \n",
    "        A_y = A(\"y\").createMatrix()\n",
    "        \n",
    "        for k in np.arange(0,(nx+2)*(ny+2)):   # j is the cell number\n",
    "\n",
    "            xy = \"y\"\n",
    "\n",
    "\n",
    "            U = displacement(k, u_previous, 0)\n",
    "            V = displacement(k, u_previous, 1)\n",
    " \n",
    "            #Bottom left corner coefficients\n",
    "            \n",
    "            if cell_index().bottom_left_corner(k):\n",
    "                sides = [\"b\", \"l\"]\n",
    "\n",
    "                #print(str(k) + \": Bottom left corner coefficients\")\n",
    "\n",
    "                #ap\n",
    "                A_y[k,k] = boundaryCellTraction(sides, xy).a_P\n",
    "\n",
    "                #an\n",
    "                A_y[k,index(k).n] = - boundaryCellTraction(sides, xy).a_N\n",
    "\n",
    "                #ae\n",
    "                A_y[k, index(k).e] = - boundaryCellTraction(sides, xy).a_E\n",
    "\n",
    "                b_y[k] =(\n",
    "                            boundaryCellTraction.b_temp(u_old, u_old_old, k, xy)\n",
    "                            +\n",
    "                            boundaryCellTraction.b_diff(sides, k, xy, u_previous)\n",
    "                        )   \n",
    "\n",
    "                   #Bottom right corner coefficients\n",
    "                \n",
    "            elif  cell_index().bottom_right_corner(k):\n",
    "                sides = [\"b\", \"r\"]\n",
    "\n",
    "                #print(str(k) + \": Bottom right corner coefficients\")\n",
    "\n",
    "                #ap\n",
    "                A_y[k,k] = boundaryCellTraction(sides, xy).a_P\n",
    "\n",
    "                #an\n",
    "                A_y[k,index(k).n] = - boundaryCellTraction(sides, xy).a_N\n",
    "\n",
    "                #aw\n",
    "                A_y[k, index(k).w] = - boundaryCellTraction(sides, xy).a_W\n",
    "\n",
    "                b_y[k] =(\n",
    "                            boundaryCellTraction.b_temp(u_old, u_old_old, k, xy)\n",
    "                            +\n",
    "                            boundaryCellTraction.b_diff(sides, k, xy, u_previous)   \n",
    "                        )\n",
    "                     \n",
    "            #Top left corner coefficients\n",
    "                \n",
    "            elif  cell_index().top_left_corner(k):\n",
    "                sides = [\"t\", \"l\"]\n",
    "\n",
    "                #print(str(k) + \":Top Left corner coefficients\")\n",
    "\n",
    "                #ap                \n",
    "                A_y[k,k] = boundaryCellTraction(sides, xy).a_P\n",
    "                \n",
    "                #as\n",
    "                A_y[k,index(k).s] = - boundaryCellTraction(sides, xy).a_S\n",
    "\n",
    "                #ae                \n",
    "                A_y[k, index(k).e] = - boundaryCellTraction(sides, xy).a_E\n",
    "                \n",
    "                b_y[k] =(\n",
    "                            boundaryCellTraction.b_temp(u_old, u_old_old, k, xy)\n",
    "                            +\n",
    "                            boundaryCellTraction.b_diff(sides, k, xy, u_previous)  \n",
    "                        )\n",
    "                \n",
    "            #Top right corner coefficients\n",
    "                \n",
    "            elif  cell_index().top_right_corner(k):   \n",
    "                sides = [\"t\", \"r\"]\n",
    "\n",
    "                #print(str(k) + \":Top right corner coefficients\")\n",
    "\n",
    "                #ap\n",
    "                A_y[k,k] = boundaryCellTraction(sides, xy).a_P\n",
    "\n",
    "                #as\n",
    "                A_y[k,index(k).s] = - boundaryCellTraction(sides, xy).a_S\n",
    "\n",
    "                #aw\n",
    "                A_y[k, index(k).w] = - boundaryCellTraction(sides, xy).a_W\n",
    "\n",
    "                b_y[k] =(\n",
    "                            boundaryCellTraction.b_temp(u_old, u_old_old, k, xy)\n",
    "                            +\n",
    "                            boundaryCellTraction.b_diff(sides, k, xy, u_previous) \n",
    "                        )\n",
    "            \n",
    "            # Center Bottom Boundaries\n",
    "\n",
    "            elif  cell_index().center_bottom(k):\n",
    "                side = \"b\"\n",
    "\n",
    "                #print(str(k) + \": Bottom Center Coefficents for Cell\")\n",
    "\n",
    "                #ap\n",
    "                A_y[k,k] = boundaryCellTraction(side, xy).a_P\n",
    "\n",
    "                #an\n",
    "                A_y[k,index(k).n] = - boundaryCellTraction(side, xy).a_N                \n",
    "                #ae\n",
    "                A_y[k, index(k).e] = - boundaryCellTraction(side, xy).a_E\n",
    "                #aw\n",
    "                A_y[k, index(k).w] = - boundaryCellTraction(side, xy).a_W\n",
    "\n",
    "                b_y[k] =(\n",
    "                            boundaryCellTraction.b_temp(u_old, u_old_old, k, xy)\n",
    "                            +\n",
    "                            boundaryCellTraction.b_diff(side, k, xy, u_previous)\n",
    "                        )\n",
    "\n",
    "            # Center Top Boundaries\n",
    "\n",
    "            elif cell_index().center_top(k):\n",
    "                side = \"t\"\n",
    "\n",
    "                #print(str(k) + \": Top Center Coefficents for Cell\")\n",
    "\n",
    "                #ap\n",
    "                A_y[k,k] = boundaryCellTraction(side, xy).a_P\n",
    "                #as\n",
    "                A_y[k,index(k).s] = - boundaryCellTraction(side, xy).a_S                   \n",
    "                #ae\n",
    "                A_y[k, index(k).e] = - boundaryCellTraction(side, xy).a_E  \n",
    "                #aw\n",
    "                A_y[k, index(k).w] = - boundaryCellTraction(side, xy).a_W \n",
    "\n",
    "                b_y[k] =(\n",
    "                            boundaryCellTraction.b_temp(u_old, u_old_old, k, xy)\n",
    "                            +\n",
    "                            boundaryCellTraction.b_diff(side, k, xy, u_previous)\n",
    "                        )\n",
    "\n",
    "            # Center Left Boundaries\n",
    "\n",
    "            elif  cell_index().center_left(k):\n",
    "\n",
    "                side = \"l\"\n",
    "\n",
    "                #print(str(k) + \": Left Center Coefficents for Cell\")\n",
    "\n",
    "                #ap\n",
    "                A_y[k,k] = boundaryCellTraction(side, xy).a_P\n",
    "                #an\n",
    "                A_y[k,index(k).n] = - boundaryCellTraction(side, xy).a_N            \n",
    "                #as\n",
    "                A_y[k,index(k).s] = - boundaryCellTraction(side, xy).a_S\n",
    "                #ae\n",
    "                A_y[k,index(k).e] = - boundaryCellTraction(side, xy).a_E\n",
    "\n",
    "                b_y[k] =(\n",
    "                            boundaryCellTraction.b_temp(u_old, u_old_old, k, xy)\n",
    "                            +\n",
    "                            boundaryCellTraction.b_diff(side, k, xy, u_previous)\n",
    "                        )\n",
    "\n",
    "            # Center Right Boundaries\n",
    "\n",
    "            elif  cell_index().center_right(k):\n",
    "                side = \"r\"\n",
    "\n",
    "                #print(str(k) + \": Right Center Coefficents for Cell\")\n",
    "\n",
    "                #ap\n",
    "                A_y[k,k] = boundaryCellTraction(side, xy).a_P\n",
    "                #an\n",
    "                A_y[k,index(k).n] = - boundaryCellTraction(side, xy).a_N            \n",
    "                #as\n",
    "                A_y[k,index(k).s] = - boundaryCellTraction(side, xy).a_S\n",
    "                #aw\n",
    "                A_y[k,index(k).w] = - boundaryCellTraction(side, xy).a_W\n",
    "\n",
    "                b_y[k] =(\n",
    "                            boundaryCellTraction.b_temp(u_old, u_old_old, k, xy)\n",
    "                            +\n",
    "                            boundaryCellTraction.b_diff(side, k, xy, u_previous)\n",
    "                        )\n",
    "\n",
    "\n",
    "            #### Points on Boundary ####\n",
    "\n",
    "            # Center Bottom\n",
    "\n",
    "            elif boundary_point_index().center_bottom(k):\n",
    "                edges = [\"b\"]\n",
    "\n",
    "                #print(str(k) +  \": Bottom points\")\n",
    "\n",
    "                #ap\n",
    "                A_y[k,k] = boundaryPointTraction(edges, xy).a_P\n",
    "\n",
    "\n",
    "                #an\n",
    "                A_y[k,index(k).n] = - boundaryPointTraction(edges, xy).a_N\n",
    "\n",
    "                #b\n",
    "                b_y[k] =(\n",
    "                        boundaryPointTraction.b_diff(edges, k, xy, u_previous)\n",
    "                        ) \n",
    "\n",
    "            # Center Top\n",
    "\n",
    "            elif boundary_point_index().center_top(k):\n",
    "                edges = [\"t\"]\n",
    "\n",
    "                #print( str(k) + \": Center points\" )\n",
    "                \n",
    "                #ap\n",
    "                A_y[k,k] = boundaryPointTraction(edges, xy).a_P\n",
    "\n",
    "                #as\n",
    "                A_y[k,index(k).s] = - boundaryPointTraction(edges, xy).a_S\n",
    "\n",
    "                #b\n",
    "                b_y[k] =(\n",
    "                        boundaryPointTraction.b_diff(edges, k, xy, u_previous)\n",
    "                        ) \n",
    "                \n",
    "            # Center Left\n",
    "\n",
    "            elif boundary_point_index().center_left(k):\n",
    "                edges = [\"l\"]\n",
    "\n",
    "                #print( str(k) + \": Left points\" )\n",
    "\n",
    "                #ap\n",
    "                A_y[k,k] =  boundaryPointTraction(edges, xy).a_P\n",
    "\n",
    "                #ae\n",
    "                A_y[k, index(k).e] = - boundaryPointTraction(edges, xy).a_E\n",
    "\n",
    "                #b\n",
    "                b_y[k] =(\n",
    "                        boundaryPointTraction.b_diff(edges, k, xy, u_previous)\n",
    "                        ) \n",
    "\n",
    "            # Center Right\n",
    "\n",
    "            elif boundary_point_index().center_right(k):\n",
    "                edges = [\"r\"]\n",
    "\n",
    "                #print( str(k) + \": Right points\" )\n",
    "\n",
    "                #ap\n",
    "                A_y[k,k] = boundaryPointTraction(edges, xy).a_P\n",
    "\n",
    "                #aw\n",
    "                A_y[k, index(k).w] = -  boundaryPointTraction(edges, xy).a_W\n",
    "\n",
    "                #b\n",
    "                b_y[k] =(\n",
    "                        boundaryPointTraction.b_diff(edges, k, xy, u_previous)\n",
    "                        ) \n",
    "\n",
    "            # Bottom Left: Bottom\n",
    "\n",
    "            elif boundary_point_index().bottom_left_bottom(k):\n",
    "                edges = [\"b\", \"l\"]\n",
    "\n",
    "                #print( str(k) + \": Bottom Left: Bottom points\" )\n",
    "                #ap\n",
    "                A_y[k,k] = boundaryPointTraction(edges, xy).a_P     \n",
    "\n",
    "                #an\n",
    "                A_y[k,index(k).n] = - boundaryPointTraction(edges, xy).a_N\n",
    "\n",
    "                #b\n",
    "                b_y[k] =(\n",
    "                            boundaryPointTraction.b_diff(edges, k, xy, u_previous)\n",
    "                        ) \n",
    "\n",
    "            elif boundary_point_index().bottom_left_left(k):\n",
    "                edges = [\"l\", \"b\"]\n",
    "\n",
    "                #print( str(k) +  \": Bottom Left: Left points\" )\n",
    "                \n",
    "                #ap\n",
    "                A_y[k,k] = boundaryPointTraction(edges, xy).a_P\n",
    "\n",
    "                #ae\n",
    "                A_y[k, index(k).e] = - boundaryPointTraction(edges, xy).a_E\n",
    "\n",
    "                #b\n",
    "                b_y[k] =(\n",
    "                            boundaryPointTraction.b_diff(edges, k, xy, u_previous)\n",
    "                        ) \n",
    "            \n",
    "            # Bottom Right: Right\n",
    "\n",
    "            elif boundary_point_index().bottom_right_right(k):\n",
    "                edges = [\"r\", \"b\"]\n",
    "\n",
    "                #print( str(k) + \": Bottom Right: Right points\" )\n",
    "\n",
    "                #ap\n",
    "                A_y[k,k] = boundaryPointTraction(edges, xy).a_P\n",
    "\n",
    "                #aw\n",
    "                A_y[k, index(k).w] = - boundaryPointTraction(edges, xy).a_W\n",
    "\n",
    "                #b\n",
    "                b_y[k] =(\n",
    "                            boundaryPointTraction.b_diff(edges, k, xy, u_previous)\n",
    "                        ) \n",
    "\n",
    "            # Bottom Right: Bottom\n",
    "\n",
    "            elif boundary_point_index().bottom_right_bottom(k):\n",
    "                edges = [\"b\", \"r\"]\n",
    "\n",
    "\n",
    "                #print( str(k) + \": Bottom Right: Bottom points\" )\n",
    "\n",
    "\n",
    "                #ap\n",
    "                A_y[k,k] = boundaryPointTraction(edges, xy).a_P\n",
    "\n",
    "                #an\n",
    "                A_y[k,index(k).n] = - boundaryPointTraction(edges, xy).a_N\n",
    "\n",
    "                #b\n",
    "                b_y[k] =(\n",
    "                            boundaryPointTraction.b_diff(edges, k, xy, u_previous)\n",
    "                        ) \n",
    "\n",
    "            # Top Left: Left\n",
    "\n",
    "            elif boundary_point_index().top_left_left(k):\n",
    "                edges = [\"l\", \"t\"]\n",
    "\n",
    "                #print( str(k) + \" Top Left: Left points\" )\n",
    "\n",
    "                \n",
    "                #ap\n",
    "                A_y[k,k] = boundaryPointTraction(edges, xy).a_P\n",
    "\n",
    "                #ae\n",
    "                A_y[k, index(k).e] = - boundaryPointTraction(edges, xy).a_E\n",
    "\n",
    "                #b\n",
    "                b_y[k] =(\n",
    "                            boundaryPointTraction.b_diff(edges, k, xy, u_previous)\n",
    "                        ) \n",
    "\n",
    "            # Top Left: Top\n",
    "\n",
    "            elif boundary_point_index().top_left_top(k):\n",
    "                edges = [\"t\", \"l\"]\n",
    "\n",
    "                #print( str(k) + \" Top Left: Top points\" )\n",
    "\n",
    "                \n",
    "                #ap\n",
    "                A_y[k,k] = boundaryPointTraction(edges, xy).a_P\n",
    "\n",
    "                #as\n",
    "                A_y[k,index(k).s] = - boundaryPointTraction(edges, xy).a_S\n",
    "\n",
    "                #b\n",
    "                b_y[k] =(\n",
    "                            boundaryPointTraction.b_diff(edges, k, xy, u_previous)\n",
    "                        ) \n",
    "\n",
    "            # Top Right: Right\n",
    "\n",
    "            elif boundary_point_index().top_right_right(k):\n",
    "                edges = [\"r\", \"t\"]\n",
    "\n",
    "                #print( str(k) + \" Top Right: Right points\" )\n",
    "\n",
    "                #ap\n",
    "                A_y[k,k] =  boundaryPointTraction(edges, xy).a_P\n",
    "\n",
    "                #aw\n",
    "                A_y[k, index(k).w] = - boundaryPointTraction(edges, xy).a_W\n",
    "\n",
    "                #b\n",
    "                b_y[k] =(\n",
    "                            boundaryPointTraction.b_diff(edges, k, xy, u_previous)\n",
    "                        ) \n",
    "\n",
    "            # Top Right: Top\n",
    "            \n",
    "            elif boundary_point_index().top_right_top(k):\n",
    "                edges = [\"t\", \"r\"]\n",
    "\n",
    "\n",
    "                #print( str(k) + \" Top Right: Top points\" )\n",
    "\n",
    "                #ap\n",
    "                A_y[k,k] = boundaryPointTraction(edges, xy).a_P\n",
    "\n",
    "                #as\n",
    "                A_y[k,index(k).s] = - boundaryPointTraction(edges, xy).a_S\n",
    "\n",
    "                #b\n",
    "                b_y[k] =(\n",
    "                            boundaryPointTraction.b_diff(edges, k, xy, u_previous)\n",
    "                        ) \n",
    "\n",
    "            # # Corner Points\n",
    "            elif boundary_point_index().bottom_left_corner(k):\n",
    "\n",
    "                #print(str(k) + \": Bottom Left Corner Point on Boundary\")\n",
    "\n",
    "                A_y[k,k] = 4\n",
    "\n",
    "                A_y[k,index(k).n] = 2 \n",
    "                A_y[k,index(k).e] = 2\n",
    "\n",
    "                A_y[k,index(k).ne] = -15\n",
    "\n",
    "                A_y[k,index(k).dir([\"n\", \"n\"])] = 2 \n",
    "                A_y[k,index(k).dir([\"e\", \"e\"])] = 2\n",
    "\n",
    "                A_y[k,index(k).dir([\"n\", \"ne\"])] = 1\n",
    "                A_y[k,index(k).dir([\"ne\", \"ne\"])] = 1\n",
    "                A_y[k,index(k).dir([\"e\", \"ne\"])] = 1\n",
    "\n",
    "                b_y[k] = 0\n",
    "\n",
    "            elif boundary_point_index().bottom_right_corner(k):\n",
    "                #print(str(k) + \": Bottom Right Corner Point on Boundary\")\n",
    "                A_y[k,k] = 4\n",
    "\n",
    "                A_y[k,index(k).n] = 2 \n",
    "                A_y[k,index(k).w] = 2\n",
    "\n",
    "                A_y[k,index(k).nw] = -15\n",
    "\n",
    "                A_y[k,index(k).dir([\"n\", \"n\"])] = 2 \n",
    "                A_y[k,index(k).dir([\"w\", \"w\"])] = 2\n",
    "\n",
    "                A_y[k,index(k).dir([\"n\", \"nw\"])] = 1\n",
    "                A_y[k,index(k).dir([\"nw\", \"nw\"])] = 1\n",
    "                A_y[k,index(k).dir([\"w\", \"nw\"])] = 1\n",
    "\n",
    "                b_y[k] = 0\n",
    "\n",
    "            elif boundary_point_index().top_left_corner(k):\n",
    "                #print(str(k) + \": Top Left Corner Point on Boundary\")\n",
    "                A_y[k,k] = 4\n",
    "\n",
    "                A_y[k,index(k).s] = 2 \n",
    "                A_y[k,index(k).e] = 2\n",
    "\n",
    "                A_y[k,index(k).se] = -15\n",
    "\n",
    "                A_y[k,index(k).dir([\"s\", \"s\"])] = 2 \n",
    "                A_y[k,index(k).dir([\"e\", \"e\"])] = 2\n",
    "\n",
    "                A_y[k,index(k).dir([\"s\", \"se\"])] = 1\n",
    "                A_y[k,index(k).dir([\"se\", \"se\"])] = 1\n",
    "                A_y[k,index(k).dir([\"e\", \"se\"])] = 1\n",
    "\n",
    "                b_y[k] = 0\n",
    "\n",
    "            elif boundary_point_index().top_right_corner(k):\n",
    "                #print(str(k) + \": Top Right Corner Point on Boundary\")\n",
    "                A_y[k,k] = 4\n",
    "\n",
    "                A_y[k,index(k).s] = 2 \n",
    "                A_y[k,index(k).w] = 2\n",
    "\n",
    "                A_y[k,index(k).sw] = -15\n",
    "\n",
    "                A_y[k,index(k).dir([\"s\", \"s\"])] = 2 \n",
    "                A_y[k,index(k).dir([\"w\", \"w\"])] = 2\n",
    "\n",
    "                A_y[k,index(k).dir([\"s\", \"sw\"])] = 1\n",
    "                A_y[k,index(k).dir([\"sw\", \"sw\"])] = 1\n",
    "                A_y[k,index(k).dir([\"w\", \"sw\"])] = 1\n",
    "\n",
    "                b_y[k] = 0\n",
    "            \n",
    "\n",
    "            else:\n",
    "\n",
    "                #print(str(k) + \": NO BC Cell\")\n",
    "\n",
    "                b_y[k] = (\n",
    "                            A.b_temp(u_old, u_old_old, k, \"y\")\n",
    "                            +\n",
    "                            A.b_diff(k, \"y\", u_previous)\n",
    "                        )\n",
    "        # saveArray(str(time) + \"/A_y_\" + str(icorr) , A_y)\n",
    "        # saveArray(str(time) + \"/b_y_\" + str(icorr), b_y)       \n",
    "                \n",
    "        ## Solve the y-equation\n",
    "        Uy = spsolve(A_y, b_y)\n",
    "        Uy = np.array(Uy)\n",
    "\n",
    "        saveArray(str(time) + \"/Uy_\" + str(icorr), Uy)\n",
    "        \n",
    "        # ## Update U.New with new x and y displacements\n",
    "\n",
    "        u_new1 = np.vstack((Ux, Uy)).T\n",
    "        saveArray (str(time) + \"/U_new1_\" + str(icorr), u_new1)    \n",
    "        saveArray (str(time) + \"/u_previous_\" + str(icorr), u_previous)\n",
    "\n",
    "        # # U.New[:,0] = Ux\n",
    "        # # U.New[:,1] = Uy\n",
    "        \n",
    "        ## Calculate the residual of each iteration\n",
    "        \n",
    "        normFactor = np.max(u_new1)\n",
    "        residual = math.sqrt(np.mean((u_new1 - u_previous)**2))/normFactor\n",
    "        tolerance = 1e-6\n",
    "        u_new = u_new1\n",
    "    \n",
    "        ##print out residual of each iteration\n",
    "        print(\"icorr = {:01d}, Residual = {:.20f}, normFactor = {:.20f}\".format(icorr, residual, normFactor))\n",
    "             \n",
    "        ## Convergence check\n",
    "        \n",
    "        if residual < tolerance:\n",
    "            \n",
    "            break\n",
    "            \n",
    "        elif icorr > maxcorr:\n",
    "            \n",
    "            break            \n",
    "        \n",
    "        icorr = icorr + 1\n",
    "    \n",
    "    ## Update variables\n",
    "    \n",
    "    u_old_old = u_old\n",
    "    u_old = u_new1\n",
    "    \n",
    "    # ## Add the boundary conditions to the solution matrices\n",
    "    u_reshape_x = u_new[:,0].reshape(nx+2, ny+2)\n",
    "    u_reshape_y = u_new[:,1].reshape(nx+2, ny+2)\n",
    "    \n",
    "    # #Boundary conditions for u matrix\n",
    "    U = np.zeros((nx+2,ny+2))\n",
    "    V = np.zeros((nx+2,ny+2))\n",
    " \n",
    "    U[:, :] = u_reshape_x\n",
    "    V[:, :] = u_reshape_y \n",
    "\n",
    "    #Modulus of displacement\n",
    "\n",
    "    disp_mod = np.sqrt((U**2) + (V**2))\n",
    "    disp_mod_converted = disp_mod*1e6 #Convert displacement to micrometers\n",
    "    \n",
    "#     # ## Plot the results\n",
    "\n",
    "    import plotly.graph_objects as go\n",
    "\n",
    "    disp_mod = np.sqrt((U**2) + (V**2))*1e-10\n",
    "\n",
    "    dispx, dispy = np.meshgrid(x, y)\n",
    "    fig = go.Figure(data=[go.Surface(z=disp_mod_converted, x=dispx, y=dispy)])\n",
    "    \n",
    "fig.show()   \n",
    "\n",
    "print(\"U graph\")\n",
    "fig = go.Figure(data=[go.Surface(z=U, x=dispx, y=dispy)])\n",
    "\n",
    "fig.show()   \n",
    "\n",
    "print(\"V graph\")\n",
    "fig = go.Figure(data=[go.Surface(z=V, x=dispx, y=dispy)])\n",
    "\n",
    "fig.show()   \n",
    "\n"
   ]
  },
  {
   "cell_type": "code",
   "execution_count": 54,
   "metadata": {},
   "outputs": [
    {
     "name": "stdout",
     "output_type": "stream",
     "text": [
      "(484, 484)\n"
     ]
    },
    {
     "data": {
      "text/plain": [
       "<matplotlib.collections.PathCollection at 0x7fa5d056c310>"
      ]
     },
     "execution_count": 54,
     "metadata": {},
     "output_type": "execute_result"
    },
    {
     "data": {
      "image/png": "[encoded data removed]",
      "text/plain": [
       "<Figure size 720x720 with 1 Axes>"
      ]
     },
     "metadata": {
      "needs_background": "light"
     },
     "output_type": "display_data"
    }
   ],
   "source": [
    "from matplotlib import pyplot as plt\n",
    "\n",
    "plt.figure(figsize=(10, 10))\n",
    "\n",
    "\n",
    "# Displacement Scatter:\n",
    "\n",
    "#\n",
    "x_values = (dispx.reshape((nx+2)*(ny+2), 1) + u_new[:, 0])#*scale\n",
    "y_values = (dispy.reshape((nx+2)*(ny+2), 1) + u_new[:, 1])#*scale\n",
    "\n",
    "print(x_values.shape)\n",
    "\n",
    "plt.scatter(x_values, y_values, s=1)"
   ]
  },
  {
   "cell_type": "code",
   "execution_count": 55,
   "metadata": {},
   "outputs": [
    {
     "name": "stdout",
     "output_type": "stream",
     "text": [
      "0 10\n",
      "10 20\n",
      "20 30\n",
      "30 40\n",
      "40 50\n",
      "50 60\n",
      "60 70\n",
      "70 80\n",
      "80 90\n",
      "90 100\n",
      "100 110\n",
      "110 120\n",
      "120 130\n",
      "130 140\n",
      "140 150\n",
      "150 160\n",
      "160 170\n",
      "170 180\n",
      "180 190\n",
      "190 200\n",
      "200 210\n",
      "210 220\n"
     ]
    },
    {
     "name": "stderr",
     "output_type": "stream",
     "text": [
      "/tmp/ipykernel_4168/2851556086.py:3: RuntimeWarning:\n",
      "\n",
      "More than 20 figures have been opened. Figures created through the pyplot interface (`matplotlib.pyplot.figure`) are retained until explicitly closed and may consume too much memory. (To control this warning, see the rcParam `figure.max_open_warning`).\n",
      "\n"
     ]
    },
    {
     "data": {
      "text/plain": [
       "array([[0.00575],\n",
       "       [0.00625],\n",
       "       [0.00675],\n",
       "       [0.00725],\n",
       "       [0.00775],\n",
       "       [0.00825],\n",
       "       [0.00875],\n",
       "       [0.00925],\n",
       "       [0.00975],\n",
       "       [0.01   ]])"
      ]
     },
     "execution_count": 55,
     "metadata": {},
     "output_type": "execute_result"
    },
    {
     "data": {
      "image/png": "[encoded data removed]",
      "text/plain": [
       "<Figure size 720x720 with 1 Axes>"
      ]
     },
     "metadata": {
      "needs_background": "light"
     },
     "output_type": "display_data"
    },
    {
     "data": {
      "image/png": "[encoded data removed]",
      "text/plain": [
       "<Figure size 720x720 with 1 Axes>"
      ]
     },
     "metadata": {
      "needs_background": "light"
     },
     "output_type": "display_data"
    },
    {
     "data": {
      "image/png": "[encoded data removed]",
      "text/plain": [
       "<Figure size 720x720 with 1 Axes>"
      ]
     },
     "metadata": {
      "needs_background": "light"
     },
     "output_type": "display_data"
    },
    {
     "data": {
      "image/png": "[encoded data removed]",
      "text/plain": [
       "<Figure size 720x720 with 1 Axes>"
      ]
     },
     "metadata": {
      "needs_background": "light"
     },
     "output_type": "display_data"
    },
    {
     "data": {
      "image/png": "[encoded data removed]",
      "text/plain": [
       "<Figure size 720x720 with 1 Axes>"
      ]
     },
     "metadata": {
      "needs_background": "light"
     },
     "output_type": "display_data"
    },
    {
     "data": {
      "image/png": "[encoded data removed]",
      "text/plain": [
       "<Figure size 720x720 with 1 Axes>"
      ]
     },
     "metadata": {
      "needs_background": "light"
     },
     "output_type": "display_data"
    },
    {
     "data": {
      "image/png": "[encoded data removed]",
      "text/plain": [
       "<Figure size 720x720 with 1 Axes>"
      ]
     },
     "metadata": {
      "needs_background": "light"
     },
     "output_type": "display_data"
    },
    {
     "data": {
      "image/png": "[encoded data removed]",
      "text/plain": [
       "<Figure size 720x720 with 1 Axes>"
      ]
     },
     "metadata": {
      "needs_background": "light"
     },
     "output_type": "display_data"
    },
    {
     "data": {
      "image/png": "[encoded data removed]",
      "text/plain": [
       "<Figure size 720x720 with 1 Axes>"
      ]
     },
     "metadata": {
      "needs_background": "light"
     },
     "output_type": "display_data"
    },
    {
     "data": {
      "image/png": "[encoded data removed]",
      "text/plain": [
       "<Figure size 720x720 with 1 Axes>"
      ]
     },
     "metadata": {
      "needs_background": "light"
     },
     "output_type": "display_data"
    },
    {
     "data": {
      "image/png": "[encoded data removed]",
      "text/plain": [
       "<Figure size 720x720 with 1 Axes>"
      ]
     },
     "metadata": {
      "needs_background": "light"
     },
     "output_type": "display_data"
    },
    {
     "data": {
      "image/png": "[encoded data removed]",
      "text/plain": [
       "<Figure size 720x720 with 1 Axes>"
      ]
     },
     "metadata": {
      "needs_background": "light"
     },
     "output_type": "display_data"
    },
    {
     "data": {
      "image/png": "[encoded data removed]",
      "text/plain": [
       "<Figure size 720x720 with 1 Axes>"
      ]
     },
     "metadata": {
      "needs_background": "light"
     },
     "output_type": "display_data"
    },
    {
     "data": {
      "image/png": "[encoded data removed]",
      "text/plain": [
       "<Figure size 720x720 with 1 Axes>"
      ]
     },
     "metadata": {
      "needs_background": "light"
     },
     "output_type": "display_data"
    },
    {
     "data": {
      "image/png": "[encoded data removed]",
      "text/plain": [
       "<Figure size 720x720 with 1 Axes>"
      ]
     },
     "metadata": {
      "needs_background": "light"
     },
     "output_type": "display_data"
    },
    {
     "data": {
      "image/png": "[encoded data removed]",
      "text/plain": [
       "<Figure size 720x720 with 1 Axes>"
      ]
     },
     "metadata": {
      "needs_background": "light"
     },
     "output_type": "display_data"
    },
    {
     "data": {
      "image/png": "[encoded data removed]",
      "text/plain": [
       "<Figure size 720x720 with 1 Axes>"
      ]
     },
     "metadata": {
      "needs_background": "light"
     },
     "output_type": "display_data"
    },
    {
     "data": {
      "image/png": "[encoded data removed]",
      "text/plain": [
       "<Figure size 720x720 with 1 Axes>"
      ]
     },
     "metadata": {
      "needs_background": "light"
     },
     "output_type": "display_data"
    },
    {
     "data": {
      "image/png": "[encoded data removed]",
      "text/plain": [
       "<Figure size 720x720 with 1 Axes>"
      ]
     },
     "metadata": {
      "needs_background": "light"
     },
     "output_type": "display_data"
    },
    {
     "data": {
      "image/png": "[encoded data removed]",
      "text/plain": [
       "<Figure size 720x720 with 1 Axes>"
      ]
     },
     "metadata": {
      "needs_background": "light"
     },
     "output_type": "display_data"
    },
    {
     "data": {
      "image/png": "[encoded data removed]",
      "text/plain": [
       "<Figure size 720x720 with 1 Axes>"
      ]
     },
     "metadata": {
      "needs_background": "light"
     },
     "output_type": "display_data"
    },
    {
     "data": {
      "image/png": "[encoded data removed]",
      "text/plain": [
       "<Figure size 720x720 with 1 Axes>"
      ]
     },
     "metadata": {
      "needs_background": "light"
     },
     "output_type": "display_data"
    }
   ],
   "source": [
    "for i in np.arange(0,ny+2):\n",
    "    \n",
    "    plt.figure(figsize=(10, 10))\n",
    "\n",
    "    print(str(0+(i*10)), str(10+(i*10)))\n",
    "    \n",
    "    x_values = dispx.reshape((nx+2)*(ny+2), 1)[0+(i*10):10+(i*10)] + u_new[:,0].reshape((nx+2)*(ny+2), 1)[0:10]\n",
    "\n",
    "    y_values = u_new[:,1].reshape((nx+2)*(ny+2), 1)[0:10]\n",
    "\n",
    "    plt.plot(x_values, y_values)\n",
    "    plt.title(str(i))\n",
    "\n",
    "    plt.show\n",
    "\n",
    "x_values"
   ]
  },
  {
   "cell_type": "code",
   "execution_count": 56,
   "metadata": {},
   "outputs": [
    {
     "data": {
      "text/plain": [
       "array([[-1.34399849e-21, -1.34234080e-21],\n",
       "       [-1.27679419e-21, -1.34234080e-21],\n",
       "       [-1.14238559e-21, -1.34234080e-21],\n",
       "       [-1.00797698e-21, -1.34234080e-21],\n",
       "       [-8.73568382e-22, -1.34234080e-21],\n",
       "       [-7.39159780e-22, -1.34234080e-21],\n",
       "       [-6.04751178e-22, -1.34234080e-21],\n",
       "       [-4.70342576e-22, -1.34234080e-21],\n",
       "       [-3.35933974e-22, -1.34234080e-21],\n",
       "       [-2.01525372e-22, -1.34234080e-21],\n",
       "       [-6.71167696e-23, -1.34234080e-21],\n",
       "       [ 6.72918326e-23, -1.34234080e-21],\n",
       "       [ 2.01700435e-22, -1.34234080e-21],\n",
       "       [ 3.36109037e-22, -1.34234080e-21],\n",
       "       [ 4.70517639e-22, -1.34234080e-21],\n",
       "       [ 6.04926241e-22, -1.34234080e-21],\n",
       "       [ 7.39334843e-22, -1.34234080e-21],\n",
       "       [ 8.73743445e-22, -1.34234080e-21],\n",
       "       [ 1.00815205e-21, -1.34234080e-21],\n",
       "       [ 1.14256065e-21, -1.34234080e-21],\n",
       "       [ 1.27696925e-21, -1.34234080e-21],\n",
       "       [ 1.34417355e-21, -1.34234080e-21],\n",
       "       [-1.34399849e-21, -1.27513649e-21],\n",
       "       [-1.27679419e-21, -1.27513649e-21],\n",
       "       [-1.14238559e-21, -1.27513649e-21],\n",
       "       [-1.00797698e-21, -1.27513649e-21],\n",
       "       [-8.73568382e-22, -1.27513649e-21],\n",
       "       [-7.39159780e-22, -1.27513649e-21],\n",
       "       [-6.04751178e-22, -1.27513649e-21],\n",
       "       [-4.70342576e-22, -1.27513649e-21],\n",
       "       [-3.35933974e-22, -1.27513649e-21],\n",
       "       [-2.01525372e-22, -1.27513649e-21],\n",
       "       [-6.71167696e-23, -1.27513649e-21],\n",
       "       [ 6.72918326e-23, -1.27513649e-21],\n",
       "       [ 2.01700435e-22, -1.27513649e-21],\n",
       "       [ 3.36109037e-22, -1.27513649e-21],\n",
       "       [ 4.70517639e-22, -1.27513649e-21],\n",
       "       [ 6.04926241e-22, -1.27513649e-21],\n",
       "       [ 7.39334843e-22, -1.27513649e-21],\n",
       "       [ 8.73743445e-22, -1.27513649e-21],\n",
       "       [ 1.00815205e-21, -1.27513649e-21],\n",
       "       [ 1.14256065e-21, -1.27513649e-21],\n",
       "       [ 1.27696925e-21, -1.27513649e-21],\n",
       "       [ 1.34417355e-21, -1.27513649e-21],\n",
       "       [-1.34399849e-21, -1.14072789e-21],\n",
       "       [-1.27679419e-21, -1.14072789e-21],\n",
       "       [-1.14238559e-21, -1.14072789e-21],\n",
       "       [-1.00797698e-21, -1.14072789e-21],\n",
       "       [-8.73568382e-22, -1.14072789e-21],\n",
       "       [-7.39159780e-22, -1.14072789e-21],\n",
       "       [-6.04751178e-22, -1.14072789e-21],\n",
       "       [-4.70342576e-22, -1.14072789e-21],\n",
       "       [-3.35933974e-22, -1.14072789e-21],\n",
       "       [-2.01525372e-22, -1.14072789e-21],\n",
       "       [-6.71167696e-23, -1.14072789e-21],\n",
       "       [ 6.72918326e-23, -1.14072789e-21],\n",
       "       [ 2.01700435e-22, -1.14072789e-21],\n",
       "       [ 3.36109037e-22, -1.14072789e-21],\n",
       "       [ 4.70517639e-22, -1.14072789e-21],\n",
       "       [ 6.04926241e-22, -1.14072789e-21],\n",
       "       [ 7.39334843e-22, -1.14072789e-21],\n",
       "       [ 8.73743445e-22, -1.14072789e-21],\n",
       "       [ 1.00815205e-21, -1.14072789e-21],\n",
       "       [ 1.14256065e-21, -1.14072789e-21],\n",
       "       [ 1.27696925e-21, -1.14072789e-21],\n",
       "       [ 1.34417355e-21, -1.14072789e-21],\n",
       "       [-1.34399849e-21, -1.00631929e-21],\n",
       "       [-1.27679419e-21, -1.00631929e-21],\n",
       "       [-1.14238559e-21, -1.00631929e-21],\n",
       "       [-1.00797698e-21, -1.00631929e-21],\n",
       "       [-8.73568382e-22, -1.00631929e-21],\n",
       "       [-7.39159780e-22, -1.00631929e-21],\n",
       "       [-6.04751178e-22, -1.00631929e-21],\n",
       "       [-4.70342576e-22, -1.00631929e-21],\n",
       "       [-3.35933974e-22, -1.00631929e-21],\n",
       "       [-2.01525372e-22, -1.00631929e-21],\n",
       "       [-6.71167696e-23, -1.00631929e-21],\n",
       "       [ 6.72918326e-23, -1.00631929e-21],\n",
       "       [ 2.01700435e-22, -1.00631929e-21],\n",
       "       [ 3.36109037e-22, -1.00631929e-21],\n",
       "       [ 4.70517639e-22, -1.00631929e-21],\n",
       "       [ 6.04926241e-22, -1.00631929e-21],\n",
       "       [ 7.39334843e-22, -1.00631929e-21],\n",
       "       [ 8.73743445e-22, -1.00631929e-21],\n",
       "       [ 1.00815205e-21, -1.00631929e-21],\n",
       "       [ 1.14256065e-21, -1.00631929e-21],\n",
       "       [ 1.27696925e-21, -1.00631929e-21],\n",
       "       [ 1.34417355e-21, -1.00631929e-21],\n",
       "       [-1.34399849e-21, -8.71910688e-22],\n",
       "       [-1.27679419e-21, -8.71910688e-22],\n",
       "       [-1.14238559e-21, -8.71910688e-22],\n",
       "       [-1.00797698e-21, -8.71910688e-22],\n",
       "       [-8.73568382e-22, -8.71910688e-22],\n",
       "       [-7.39159780e-22, -8.71910688e-22],\n",
       "       [-6.04751178e-22, -8.71910688e-22],\n",
       "       [-4.70342576e-22, -8.71910688e-22],\n",
       "       [-3.35933974e-22, -8.71910688e-22],\n",
       "       [-2.01525372e-22, -8.71910688e-22],\n",
       "       [-6.71167696e-23, -8.71910688e-22],\n",
       "       [ 6.72918326e-23, -8.71910688e-22],\n",
       "       [ 2.01700435e-22, -8.71910688e-22],\n",
       "       [ 3.36109037e-22, -8.71910688e-22],\n",
       "       [ 4.70517639e-22, -8.71910688e-22],\n",
       "       [ 6.04926241e-22, -8.71910688e-22],\n",
       "       [ 7.39334843e-22, -8.71910688e-22],\n",
       "       [ 8.73743445e-22, -8.71910688e-22],\n",
       "       [ 1.00815205e-21, -8.71910688e-22],\n",
       "       [ 1.14256065e-21, -8.71910688e-22],\n",
       "       [ 1.27696925e-21, -8.71910688e-22],\n",
       "       [ 1.34417355e-21, -8.71910688e-22],\n",
       "       [-1.34399849e-21, -7.37502085e-22],\n",
       "       [-1.27679419e-21, -7.37502085e-22],\n",
       "       [-1.14238559e-21, -7.37502085e-22],\n",
       "       [-1.00797698e-21, -7.37502085e-22],\n",
       "       [-8.73568383e-22, -7.37502085e-22],\n",
       "       [-7.39159780e-22, -7.37502085e-22],\n",
       "       [-6.04751178e-22, -7.37502085e-22],\n",
       "       [-4.70342576e-22, -7.37502085e-22],\n",
       "       [-3.35933974e-22, -7.37502085e-22],\n",
       "       [-2.01525372e-22, -7.37502085e-22],\n",
       "       [-6.71167696e-23, -7.37502085e-22],\n",
       "       [ 6.72918326e-23, -7.37502085e-22],\n",
       "       [ 2.01700435e-22, -7.37502085e-22],\n",
       "       [ 3.36109037e-22, -7.37502085e-22],\n",
       "       [ 4.70517639e-22, -7.37502085e-22],\n",
       "       [ 6.04926241e-22, -7.37502085e-22],\n",
       "       [ 7.39334843e-22, -7.37502085e-22],\n",
       "       [ 8.73743445e-22, -7.37502085e-22],\n",
       "       [ 1.00815205e-21, -7.37502085e-22],\n",
       "       [ 1.14256065e-21, -7.37502085e-22],\n",
       "       [ 1.27696925e-21, -7.37502085e-22],\n",
       "       [ 1.34417355e-21, -7.37502085e-22],\n",
       "       [-1.34399849e-21, -6.03093483e-22],\n",
       "       [-1.27679419e-21, -6.03093483e-22],\n",
       "       [-1.14238559e-21, -6.03093483e-22],\n",
       "       [-1.00797698e-21, -6.03093483e-22],\n",
       "       [-8.73568383e-22, -6.03093483e-22],\n",
       "       [-7.39159780e-22, -6.03093483e-22],\n",
       "       [-6.04751178e-22, -6.03093483e-22],\n",
       "       [-4.70342576e-22, -6.03093483e-22],\n",
       "       [-3.35933974e-22, -6.03093483e-22],\n",
       "       [-2.01525372e-22, -6.03093483e-22],\n",
       "       [-6.71167696e-23, -6.03093483e-22],\n",
       "       [ 6.72918326e-23, -6.03093483e-22],\n",
       "       [ 2.01700435e-22, -6.03093483e-22],\n",
       "       [ 3.36109037e-22, -6.03093483e-22],\n",
       "       [ 4.70517639e-22, -6.03093483e-22],\n",
       "       [ 6.04926241e-22, -6.03093483e-22],\n",
       "       [ 7.39334843e-22, -6.03093483e-22],\n",
       "       [ 8.73743445e-22, -6.03093483e-22],\n",
       "       [ 1.00815205e-21, -6.03093483e-22],\n",
       "       [ 1.14256065e-21, -6.03093483e-22],\n",
       "       [ 1.27696925e-21, -6.03093483e-22],\n",
       "       [ 1.34417355e-21, -6.03093483e-22],\n",
       "       [-1.34399849e-21, -4.68684881e-22],\n",
       "       [-1.27679419e-21, -4.68684881e-22],\n",
       "       [-1.14238559e-21, -4.68684881e-22],\n",
       "       [-1.00797698e-21, -4.68684881e-22],\n",
       "       [-8.73568383e-22, -4.68684881e-22],\n",
       "       [-7.39159780e-22, -4.68684881e-22],\n",
       "       [-6.04751178e-22, -4.68684881e-22],\n",
       "       [-4.70342576e-22, -4.68684881e-22],\n",
       "       [-3.35933974e-22, -4.68684881e-22],\n",
       "       [-2.01525372e-22, -4.68684881e-22],\n",
       "       [-6.71167696e-23, -4.68684881e-22],\n",
       "       [ 6.72918326e-23, -4.68684881e-22],\n",
       "       [ 2.01700435e-22, -4.68684881e-22],\n",
       "       [ 3.36109037e-22, -4.68684881e-22],\n",
       "       [ 4.70517639e-22, -4.68684881e-22],\n",
       "       [ 6.04926241e-22, -4.68684881e-22],\n",
       "       [ 7.39334843e-22, -4.68684881e-22],\n",
       "       [ 8.73743445e-22, -4.68684881e-22],\n",
       "       [ 1.00815205e-21, -4.68684881e-22],\n",
       "       [ 1.14256065e-21, -4.68684881e-22],\n",
       "       [ 1.27696925e-21, -4.68684881e-22],\n",
       "       [ 1.34417355e-21, -4.68684881e-22],\n",
       "       [-1.34399849e-21, -3.34276279e-22],\n",
       "       [-1.27679419e-21, -3.34276279e-22],\n",
       "       [-1.14238559e-21, -3.34276279e-22],\n",
       "       [-1.00797698e-21, -3.34276279e-22],\n",
       "       [-8.73568383e-22, -3.34276279e-22],\n",
       "       [-7.39159780e-22, -3.34276279e-22],\n",
       "       [-6.04751178e-22, -3.34276279e-22],\n",
       "       [-4.70342576e-22, -3.34276279e-22],\n",
       "       [-3.35933974e-22, -3.34276279e-22],\n",
       "       [-2.01525372e-22, -3.34276279e-22],\n",
       "       [-6.71167696e-23, -3.34276279e-22],\n",
       "       [ 6.72918326e-23, -3.34276279e-22],\n",
       "       [ 2.01700435e-22, -3.34276279e-22],\n",
       "       [ 3.36109037e-22, -3.34276279e-22],\n",
       "       [ 4.70517639e-22, -3.34276279e-22],\n",
       "       [ 6.04926241e-22, -3.34276279e-22],\n",
       "       [ 7.39334843e-22, -3.34276279e-22],\n",
       "       [ 8.73743445e-22, -3.34276279e-22],\n",
       "       [ 1.00815205e-21, -3.34276279e-22],\n",
       "       [ 1.14256065e-21, -3.34276279e-22],\n",
       "       [ 1.27696925e-21, -3.34276279e-22],\n",
       "       [ 1.34417355e-21, -3.34276279e-22],\n",
       "       [-1.34399849e-21, -1.99867677e-22],\n",
       "       [-1.27679419e-21, -1.99867677e-22],\n",
       "       [-1.14238559e-21, -1.99867677e-22],\n",
       "       [-1.00797698e-21, -1.99867677e-22],\n",
       "       [-8.73568383e-22, -1.99867677e-22],\n",
       "       [-7.39159780e-22, -1.99867677e-22],\n",
       "       [-6.04751178e-22, -1.99867677e-22],\n",
       "       [-4.70342576e-22, -1.99867677e-22],\n",
       "       [-3.35933974e-22, -1.99867677e-22],\n",
       "       [-2.01525372e-22, -1.99867677e-22],\n",
       "       [-6.71167696e-23, -1.99867677e-22],\n",
       "       [ 6.72918325e-23, -1.99867677e-22],\n",
       "       [ 2.01700435e-22, -1.99867677e-22],\n",
       "       [ 3.36109037e-22, -1.99867677e-22],\n",
       "       [ 4.70517639e-22, -1.99867677e-22],\n",
       "       [ 6.04926241e-22, -1.99867677e-22],\n",
       "       [ 7.39334843e-22, -1.99867677e-22],\n",
       "       [ 8.73743445e-22, -1.99867677e-22],\n",
       "       [ 1.00815205e-21, -1.99867677e-22],\n",
       "       [ 1.14256065e-21, -1.99867677e-22],\n",
       "       [ 1.27696925e-21, -1.99867677e-22],\n",
       "       [ 1.34417355e-21, -1.99867677e-22],\n",
       "       [-1.34399849e-21, -6.54590746e-23],\n",
       "       [-1.27679419e-21, -6.54590746e-23],\n",
       "       [-1.14238559e-21, -6.54590746e-23],\n",
       "       [-1.00797698e-21, -6.54590746e-23],\n",
       "       [-8.73568383e-22, -6.54590746e-23],\n",
       "       [-7.39159780e-22, -6.54590746e-23],\n",
       "       [-6.04751178e-22, -6.54590746e-23],\n",
       "       [-4.70342576e-22, -6.54590746e-23],\n",
       "       [-3.35933974e-22, -6.54590746e-23],\n",
       "       [-2.01525372e-22, -6.54590746e-23],\n",
       "       [-6.71167696e-23, -6.54590746e-23],\n",
       "       [ 6.72918325e-23, -6.54590746e-23],\n",
       "       [ 2.01700435e-22, -6.54590746e-23],\n",
       "       [ 3.36109037e-22, -6.54590746e-23],\n",
       "       [ 4.70517639e-22, -6.54590746e-23],\n",
       "       [ 6.04926241e-22, -6.54590746e-23],\n",
       "       [ 7.39334843e-22, -6.54590746e-23],\n",
       "       [ 8.73743445e-22, -6.54590746e-23],\n",
       "       [ 1.00815205e-21, -6.54590746e-23],\n",
       "       [ 1.14256065e-21, -6.54590746e-23],\n",
       "       [ 1.27696925e-21, -6.54590746e-23],\n",
       "       [ 1.34417355e-21, -6.54590746e-23],\n",
       "       [-1.34399849e-21,  6.89495275e-23],\n",
       "       [-1.27679419e-21,  6.89495275e-23],\n",
       "       [-1.14238559e-21,  6.89495275e-23],\n",
       "       [-1.00797698e-21,  6.89495275e-23],\n",
       "       [-8.73568383e-22,  6.89495275e-23],\n",
       "       [-7.39159780e-22,  6.89495275e-23],\n",
       "       [-6.04751178e-22,  6.89495275e-23],\n",
       "       [-4.70342576e-22,  6.89495275e-23],\n",
       "       [-3.35933974e-22,  6.89495275e-23],\n",
       "       [-2.01525372e-22,  6.89495275e-23],\n",
       "       [-6.71167696e-23,  6.89495275e-23],\n",
       "       [ 6.72918325e-23,  6.89495275e-23],\n",
       "       [ 2.01700435e-22,  6.89495275e-23],\n",
       "       [ 3.36109037e-22,  6.89495275e-23],\n",
       "       [ 4.70517639e-22,  6.89495275e-23],\n",
       "       [ 6.04926241e-22,  6.89495275e-23],\n",
       "       [ 7.39334843e-22,  6.89495275e-23],\n",
       "       [ 8.73743445e-22,  6.89495275e-23],\n",
       "       [ 1.00815205e-21,  6.89495275e-23],\n",
       "       [ 1.14256065e-21,  6.89495275e-23],\n",
       "       [ 1.27696925e-21,  6.89495275e-23],\n",
       "       [ 1.34417355e-21,  6.89495275e-23],\n",
       "       [-1.34399849e-21,  2.03358130e-22],\n",
       "       [-1.27679419e-21,  2.03358130e-22],\n",
       "       [-1.14238559e-21,  2.03358130e-22],\n",
       "       [-1.00797698e-21,  2.03358130e-22],\n",
       "       [-8.73568383e-22,  2.03358130e-22],\n",
       "       [-7.39159780e-22,  2.03358130e-22],\n",
       "       [-6.04751178e-22,  2.03358130e-22],\n",
       "       [-4.70342576e-22,  2.03358130e-22],\n",
       "       [-3.35933974e-22,  2.03358130e-22],\n",
       "       [-2.01525372e-22,  2.03358130e-22],\n",
       "       [-6.71167696e-23,  2.03358130e-22],\n",
       "       [ 6.72918325e-23,  2.03358130e-22],\n",
       "       [ 2.01700435e-22,  2.03358130e-22],\n",
       "       [ 3.36109037e-22,  2.03358130e-22],\n",
       "       [ 4.70517639e-22,  2.03358130e-22],\n",
       "       [ 6.04926241e-22,  2.03358130e-22],\n",
       "       [ 7.39334843e-22,  2.03358130e-22],\n",
       "       [ 8.73743445e-22,  2.03358130e-22],\n",
       "       [ 1.00815205e-21,  2.03358130e-22],\n",
       "       [ 1.14256065e-21,  2.03358130e-22],\n",
       "       [ 1.27696925e-21,  2.03358130e-22],\n",
       "       [ 1.34417355e-21,  2.03358130e-22],\n",
       "       [-1.34399849e-21,  3.37766732e-22],\n",
       "       [-1.27679419e-21,  3.37766732e-22],\n",
       "       [-1.14238559e-21,  3.37766732e-22],\n",
       "       [-1.00797698e-21,  3.37766732e-22],\n",
       "       [-8.73568383e-22,  3.37766732e-22],\n",
       "       [-7.39159780e-22,  3.37766732e-22],\n",
       "       [-6.04751178e-22,  3.37766732e-22],\n",
       "       [-4.70342576e-22,  3.37766732e-22],\n",
       "       [-3.35933974e-22,  3.37766732e-22],\n",
       "       [-2.01525372e-22,  3.37766732e-22],\n",
       "       [-6.71167696e-23,  3.37766732e-22],\n",
       "       [ 6.72918325e-23,  3.37766732e-22],\n",
       "       [ 2.01700435e-22,  3.37766732e-22],\n",
       "       [ 3.36109037e-22,  3.37766732e-22],\n",
       "       [ 4.70517639e-22,  3.37766732e-22],\n",
       "       [ 6.04926241e-22,  3.37766732e-22],\n",
       "       [ 7.39334843e-22,  3.37766732e-22],\n",
       "       [ 8.73743445e-22,  3.37766732e-22],\n",
       "       [ 1.00815205e-21,  3.37766732e-22],\n",
       "       [ 1.14256065e-21,  3.37766732e-22],\n",
       "       [ 1.27696925e-21,  3.37766732e-22],\n",
       "       [ 1.34417355e-21,  3.37766732e-22],\n",
       "       [-1.34399849e-21,  4.72175334e-22],\n",
       "       [-1.27679419e-21,  4.72175334e-22],\n",
       "       [-1.14238559e-21,  4.72175334e-22],\n",
       "       [-1.00797698e-21,  4.72175334e-22],\n",
       "       [-8.73568383e-22,  4.72175334e-22],\n",
       "       [-7.39159780e-22,  4.72175334e-22],\n",
       "       [-6.04751178e-22,  4.72175334e-22],\n",
       "       [-4.70342576e-22,  4.72175334e-22],\n",
       "       [-3.35933974e-22,  4.72175334e-22],\n",
       "       [-2.01525372e-22,  4.72175334e-22],\n",
       "       [-6.71167696e-23,  4.72175334e-22],\n",
       "       [ 6.72918325e-23,  4.72175334e-22],\n",
       "       [ 2.01700435e-22,  4.72175334e-22],\n",
       "       [ 3.36109037e-22,  4.72175334e-22],\n",
       "       [ 4.70517639e-22,  4.72175334e-22],\n",
       "       [ 6.04926241e-22,  4.72175334e-22],\n",
       "       [ 7.39334843e-22,  4.72175334e-22],\n",
       "       [ 8.73743445e-22,  4.72175334e-22],\n",
       "       [ 1.00815205e-21,  4.72175334e-22],\n",
       "       [ 1.14256065e-21,  4.72175334e-22],\n",
       "       [ 1.27696925e-21,  4.72175334e-22],\n",
       "       [ 1.34417355e-21,  4.72175334e-22],\n",
       "       [-1.34399849e-21,  6.06583936e-22],\n",
       "       [-1.27679419e-21,  6.06583936e-22],\n",
       "       [-1.14238559e-21,  6.06583936e-22],\n",
       "       [-1.00797698e-21,  6.06583936e-22],\n",
       "       [-8.73568383e-22,  6.06583936e-22],\n",
       "       [-7.39159780e-22,  6.06583936e-22],\n",
       "       [-6.04751178e-22,  6.06583936e-22],\n",
       "       [-4.70342576e-22,  6.06583936e-22],\n",
       "       [-3.35933974e-22,  6.06583936e-22],\n",
       "       [-2.01525372e-22,  6.06583936e-22],\n",
       "       [-6.71167696e-23,  6.06583936e-22],\n",
       "       [ 6.72918325e-23,  6.06583936e-22],\n",
       "       [ 2.01700435e-22,  6.06583936e-22],\n",
       "       [ 3.36109037e-22,  6.06583936e-22],\n",
       "       [ 4.70517639e-22,  6.06583936e-22],\n",
       "       [ 6.04926241e-22,  6.06583936e-22],\n",
       "       [ 7.39334843e-22,  6.06583936e-22],\n",
       "       [ 8.73743445e-22,  6.06583936e-22],\n",
       "       [ 1.00815205e-21,  6.06583936e-22],\n",
       "       [ 1.14256065e-21,  6.06583936e-22],\n",
       "       [ 1.27696925e-21,  6.06583936e-22],\n",
       "       [ 1.34417355e-21,  6.06583936e-22],\n",
       "       [-1.34399849e-21,  7.40992538e-22],\n",
       "       [-1.27679419e-21,  7.40992538e-22],\n",
       "       [-1.14238559e-21,  7.40992538e-22],\n",
       "       [-1.00797698e-21,  7.40992538e-22],\n",
       "       [-8.73568383e-22,  7.40992538e-22],\n",
       "       [-7.39159780e-22,  7.40992538e-22],\n",
       "       [-6.04751178e-22,  7.40992538e-22],\n",
       "       [-4.70342576e-22,  7.40992538e-22],\n",
       "       [-3.35933974e-22,  7.40992538e-22],\n",
       "       [-2.01525372e-22,  7.40992538e-22],\n",
       "       [-6.71167696e-23,  7.40992538e-22],\n",
       "       [ 6.72918325e-23,  7.40992538e-22],\n",
       "       [ 2.01700435e-22,  7.40992538e-22],\n",
       "       [ 3.36109037e-22,  7.40992538e-22],\n",
       "       [ 4.70517639e-22,  7.40992538e-22],\n",
       "       [ 6.04926241e-22,  7.40992538e-22],\n",
       "       [ 7.39334843e-22,  7.40992538e-22],\n",
       "       [ 8.73743445e-22,  7.40992538e-22],\n",
       "       [ 1.00815205e-21,  7.40992538e-22],\n",
       "       [ 1.14256065e-21,  7.40992538e-22],\n",
       "       [ 1.27696925e-21,  7.40992538e-22],\n",
       "       [ 1.34417355e-21,  7.40992538e-22],\n",
       "       [-1.34399849e-21,  8.75401140e-22],\n",
       "       [-1.27679419e-21,  8.75401140e-22],\n",
       "       [-1.14238559e-21,  8.75401140e-22],\n",
       "       [-1.00797698e-21,  8.75401140e-22],\n",
       "       [-8.73568383e-22,  8.75401140e-22],\n",
       "       [-7.39159780e-22,  8.75401140e-22],\n",
       "       [-6.04751178e-22,  8.75401140e-22],\n",
       "       [-4.70342576e-22,  8.75401140e-22],\n",
       "       [-3.35933974e-22,  8.75401140e-22],\n",
       "       [-2.01525372e-22,  8.75401140e-22],\n",
       "       [-6.71167696e-23,  8.75401140e-22],\n",
       "       [ 6.72918325e-23,  8.75401140e-22],\n",
       "       [ 2.01700435e-22,  8.75401140e-22],\n",
       "       [ 3.36109037e-22,  8.75401140e-22],\n",
       "       [ 4.70517639e-22,  8.75401140e-22],\n",
       "       [ 6.04926241e-22,  8.75401140e-22],\n",
       "       [ 7.39334843e-22,  8.75401140e-22],\n",
       "       [ 8.73743445e-22,  8.75401140e-22],\n",
       "       [ 1.00815205e-21,  8.75401140e-22],\n",
       "       [ 1.14256065e-21,  8.75401140e-22],\n",
       "       [ 1.27696925e-21,  8.75401140e-22],\n",
       "       [ 1.34417355e-21,  8.75401140e-22],\n",
       "       [-1.34399849e-21,  1.00980974e-21],\n",
       "       [-1.27679419e-21,  1.00980974e-21],\n",
       "       [-1.14238559e-21,  1.00980974e-21],\n",
       "       [-1.00797698e-21,  1.00980974e-21],\n",
       "       [-8.73568383e-22,  1.00980974e-21],\n",
       "       [-7.39159780e-22,  1.00980974e-21],\n",
       "       [-6.04751178e-22,  1.00980974e-21],\n",
       "       [-4.70342576e-22,  1.00980974e-21],\n",
       "       [-3.35933974e-22,  1.00980974e-21],\n",
       "       [-2.01525372e-22,  1.00980974e-21],\n",
       "       [-6.71167696e-23,  1.00980974e-21],\n",
       "       [ 6.72918325e-23,  1.00980974e-21],\n",
       "       [ 2.01700435e-22,  1.00980974e-21],\n",
       "       [ 3.36109037e-22,  1.00980974e-21],\n",
       "       [ 4.70517639e-22,  1.00980974e-21],\n",
       "       [ 6.04926241e-22,  1.00980974e-21],\n",
       "       [ 7.39334843e-22,  1.00980974e-21],\n",
       "       [ 8.73743445e-22,  1.00980974e-21],\n",
       "       [ 1.00815205e-21,  1.00980974e-21],\n",
       "       [ 1.14256065e-21,  1.00980974e-21],\n",
       "       [ 1.27696925e-21,  1.00980974e-21],\n",
       "       [ 1.34417355e-21,  1.00980974e-21],\n",
       "       [-1.34399849e-21,  1.14421834e-21],\n",
       "       [-1.27679419e-21,  1.14421834e-21],\n",
       "       [-1.14238559e-21,  1.14421834e-21],\n",
       "       [-1.00797698e-21,  1.14421834e-21],\n",
       "       [-8.73568383e-22,  1.14421834e-21],\n",
       "       [-7.39159780e-22,  1.14421834e-21],\n",
       "       [-6.04751178e-22,  1.14421834e-21],\n",
       "       [-4.70342576e-22,  1.14421834e-21],\n",
       "       [-3.35933974e-22,  1.14421834e-21],\n",
       "       [-2.01525372e-22,  1.14421834e-21],\n",
       "       [-6.71167696e-23,  1.14421834e-21],\n",
       "       [ 6.72918325e-23,  1.14421834e-21],\n",
       "       [ 2.01700435e-22,  1.14421834e-21],\n",
       "       [ 3.36109037e-22,  1.14421834e-21],\n",
       "       [ 4.70517639e-22,  1.14421834e-21],\n",
       "       [ 6.04926241e-22,  1.14421834e-21],\n",
       "       [ 7.39334843e-22,  1.14421834e-21],\n",
       "       [ 8.73743445e-22,  1.14421834e-21],\n",
       "       [ 1.00815205e-21,  1.14421834e-21],\n",
       "       [ 1.14256065e-21,  1.14421834e-21],\n",
       "       [ 1.27696925e-21,  1.14421834e-21],\n",
       "       [ 1.34417355e-21,  1.14421834e-21],\n",
       "       [-1.34399849e-21,  1.27862695e-21],\n",
       "       [-1.27679419e-21,  1.27862695e-21],\n",
       "       [-1.14238559e-21,  1.27862695e-21],\n",
       "       [-1.00797698e-21,  1.27862695e-21],\n",
       "       [-8.73568383e-22,  1.27862695e-21],\n",
       "       [-7.39159780e-22,  1.27862695e-21],\n",
       "       [-6.04751178e-22,  1.27862695e-21],\n",
       "       [-4.70342576e-22,  1.27862695e-21],\n",
       "       [-3.35933974e-22,  1.27862695e-21],\n",
       "       [-2.01525372e-22,  1.27862695e-21],\n",
       "       [-6.71167696e-23,  1.27862695e-21],\n",
       "       [ 6.72918325e-23,  1.27862695e-21],\n",
       "       [ 2.01700435e-22,  1.27862695e-21],\n",
       "       [ 3.36109037e-22,  1.27862695e-21],\n",
       "       [ 4.70517639e-22,  1.27862695e-21],\n",
       "       [ 6.04926241e-22,  1.27862695e-21],\n",
       "       [ 7.39334843e-22,  1.27862695e-21],\n",
       "       [ 8.73743445e-22,  1.27862695e-21],\n",
       "       [ 1.00815205e-21,  1.27862695e-21],\n",
       "       [ 1.14256065e-21,  1.27862695e-21],\n",
       "       [ 1.27696925e-21,  1.27862695e-21],\n",
       "       [ 1.34417355e-21,  1.27862695e-21],\n",
       "       [-1.34399849e-21,  1.34583125e-21],\n",
       "       [-1.27679419e-21,  1.34583125e-21],\n",
       "       [-1.14238559e-21,  1.34583125e-21],\n",
       "       [-1.00797698e-21,  1.34583125e-21],\n",
       "       [-8.73568383e-22,  1.34583125e-21],\n",
       "       [-7.39159780e-22,  1.34583125e-21],\n",
       "       [-6.04751178e-22,  1.34583125e-21],\n",
       "       [-4.70342576e-22,  1.34583125e-21],\n",
       "       [-3.35933974e-22,  1.34583125e-21],\n",
       "       [-2.01525372e-22,  1.34583125e-21],\n",
       "       [-6.71167696e-23,  1.34583125e-21],\n",
       "       [ 6.72918325e-23,  1.34583125e-21],\n",
       "       [ 2.01700435e-22,  1.34583125e-21],\n",
       "       [ 3.36109037e-22,  1.34583125e-21],\n",
       "       [ 4.70517639e-22,  1.34583125e-21],\n",
       "       [ 6.04926241e-22,  1.34583125e-21],\n",
       "       [ 7.39334843e-22,  1.34583125e-21],\n",
       "       [ 8.73743445e-22,  1.34583125e-21],\n",
       "       [ 1.00815205e-21,  1.34583125e-21],\n",
       "       [ 1.14256065e-21,  1.34583125e-21],\n",
       "       [ 1.27696925e-21,  1.34583125e-21],\n",
       "       [ 1.34417355e-21,  1.34583125e-21]])"
      ]
     },
     "execution_count": 56,
     "metadata": {},
     "output_type": "execute_result"
    }
   ],
   "source": [
    "u_new"
   ]
  },
  {
   "cell_type": "code",
   "execution_count": 57,
   "metadata": {},
   "outputs": [
    {
     "data": {
      "text/plain": [
       "(-1.3439984900135197e-21,\n",
       " -2.0152537174409393e-22,\n",
       " -1.1423855868006455e-21,\n",
       " 6.729183255343208e-23)"
      ]
     },
     "execution_count": 57,
     "metadata": {},
     "output_type": "execute_result"
    }
   ],
   "source": [
    "Ux[0], Ux[9], Ux[90], Ux[99]"
   ]
  },
  {
   "cell_type": "code",
   "execution_count": 58,
   "metadata": {},
   "outputs": [
    {
     "data": {
      "text/plain": [
       "(-1.3423407950531684e-21,\n",
       " -1.3423407950457554e-21,\n",
       " -8.719106875285278e-22,\n",
       " -8.719106875181883e-22)"
      ]
     },
     "execution_count": 58,
     "metadata": {},
     "output_type": "execute_result"
    }
   ],
   "source": [
    "Uy[0], Uy[9], Uy[90], Uy[99]"
   ]
  },
  {
   "cell_type": "code",
   "execution_count": 59,
   "metadata": {},
   "outputs": [
    {
     "data": {
      "text/plain": [
       "-1.6576949603512894e-24"
      ]
     },
     "execution_count": 59,
     "metadata": {},
     "output_type": "execute_result"
    }
   ],
   "source": [
    "Ux[0] - Uy[0]"
   ]
  },
  {
   "cell_type": "code",
   "execution_count": null,
   "metadata": {},
   "outputs": [],
   "source": []
  }
 ],
 "metadata": {
  "interpreter": {
   "hash": "1b2f9133931ab063f1f037caeeb0be83973bf9a3d4f21c40e4cd03e999a0b9b9"
  },
  "kernelspec": {
   "display_name": "Python 3.6.13 64-bit ('python3': conda)",
   "language": "python",
   "name": "python3"
  },
  "language_info": {
   "codemirror_mode": {
    "name": "ipython",
    "version": 3
   },
   "file_extension": ".py",
   "mimetype": "text/x-python",
   "name": "python",
   "nbconvert_exporter": "python",
   "pygments_lexer": "ipython3",
   "version": "3.9.5"
  },
  "orig_nbformat": 4
 },
 "nbformat": 4,
 "nbformat_minor": 2
}
