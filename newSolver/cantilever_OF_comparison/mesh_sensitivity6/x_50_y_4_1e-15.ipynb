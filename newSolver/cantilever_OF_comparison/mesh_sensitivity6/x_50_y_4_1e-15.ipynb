{
 "cells": [
  {
   "cell_type": "code",
   "execution_count": 188,
   "metadata": {},
   "outputs": [],
   "source": [
    "import numpy as np\n",
    "import pandas as pd\n",
    "import math\n",
    "from scipy.sparse import csr_matrix\n",
    "from scipy.sparse.linalg import spsolve\n",
    "from matplotlib import pyplot as plt\n",
    "\n",
    "def printVar (varname, var):\n",
    "\n",
    "    print(varname)\n",
    "    print(var)\n",
    "\n",
    "def saveArray (name, array): \n",
    "\n",
    "    pd.DataFrame(array).to_csv(\"savedVariables/\" + name + \".csv\", index=False, header=None)\n",
    "\n"
   ]
  },
  {
   "cell_type": "code",
   "execution_count": 189,
   "metadata": {},
   "outputs": [
    {
     "data": {
      "text/plain": [
       "False"
      ]
     },
     "execution_count": 189,
     "metadata": {},
     "output_type": "execute_result"
    }
   ],
   "source": [
    "# Set Boundary Conditions:\n",
    "class BC_settings:\n",
    "\n",
    "    left = \"fixed_displacement\"\n",
    "    right = \"traction\"\n",
    "    top = \"traction\"\n",
    "    bottom = \"traction\"\n",
    "\n",
    "    def __init__(self, edge):\n",
    "\n",
    "        if edge == \"l\":\n",
    "            if BC_settings.left == \"traction\":\n",
    "                self.traction = True\n",
    "                self.fixed_displacement = False\n",
    "            elif BC_settings.left == \"fixed_displacement\":\n",
    "                self.fixed_displacement = True\n",
    "                self.traction = False\n",
    "\n",
    "        if edge == \"r\":\n",
    "            if BC_settings.right == \"traction\":\n",
    "                self.traction = True\n",
    "                self.fixed_displacement = False\n",
    "            elif BC_settings.right == \"fixed_displacement\":\n",
    "                self.fixed_displacement = True\n",
    "                self.traction = False\n",
    "\n",
    "        if edge == \"t\":\n",
    "            if BC_settings.top == \"traction\":\n",
    "                self.traction = True\n",
    "                self.fixed_displacement = False\n",
    "            elif BC_settings.top == \"fixed_displacement\":\n",
    "                self.fixed_displacement = True\n",
    "                self.traction = False\n",
    "\n",
    "        if edge == \"b\":\n",
    "            if BC_settings.bottom == \"traction\":\n",
    "                self.traction = True\n",
    "                self.fixed_displacement = False\n",
    "            elif BC_settings.bottom == \"fixed_displacement\":\n",
    "                self.fixed_displacement = True\n",
    "                self.traction = False\n",
    "\n",
    "BC_settings(\"b\").fixed_displacement"
   ]
  },
  {
   "cell_type": "code",
   "execution_count": 190,
   "metadata": {},
   "outputs": [],
   "source": [
    "# Solve the 2D Navier-Cauchy equation using a segregated finite volume method\n",
    "\n",
    "# Define mesh geometry and boundary conditions\n",
    "\n",
    "Lx = 2 #width of domain\n",
    "Ly = .1 #height of domain\n",
    "\n",
    "fac = 1\n",
    "\n",
    "nx = 50      #number of control volumes in the x-direction\n",
    "ny = 4    #number of control volumes in the y-direction\n"
   ]
  },
  {
   "cell_type": "code",
   "execution_count": 191,
   "metadata": {},
   "outputs": [],
   "source": [
    "# Cantilever Setup \n",
    "\n",
    "tr_right_x = 0    #u boundary condition at the right boundary\n",
    "tr_right_y = - 1e6   #v boundary condition at the right boundary\n",
    "\n",
    "tr_top_x = 0    #u boundary condition at the top boundary\n",
    "tr_top_y = 0       #v boundary condition at the top boundary\n",
    "\n",
    "tr_bottom_x = 0    #u boundary condition at the bottom boundary \n",
    "tr_bottom_y = 0  #v boundary condition at the bottom boundary\n",
    "\n",
    "u_left = 0\n",
    "v_left = 0\n"
   ]
  },
  {
   "cell_type": "code",
   "execution_count": 192,
   "metadata": {},
   "outputs": [
    {
     "name": "stdout",
     "output_type": "stream",
     "text": [
      "50\n"
     ]
    }
   ],
   "source": [
    "sys.path.append(\"/home/scottlevie/newPythonSolver/pythonsolver_new/tractionBCs/Classes/\")\n",
    "\n",
    "from index_and_direction import dim\n",
    "\n",
    "print(dim().nx)"
   ]
  },
  {
   "cell_type": "code",
   "execution_count": 193,
   "metadata": {},
   "outputs": [],
   "source": [
    "from index_and_direction import index\n",
    "from index_and_direction import boundary_point_index\n",
    "from index_and_direction import cell_index\n",
    "from index_and_direction import displacement"
   ]
  },
  {
   "cell_type": "code",
   "execution_count": 194,
   "metadata": {},
   "outputs": [],
   "source": [
    "# # Define material properties\n",
    "\n",
    "# rho = 8050         #density of steel in kg/m^3\n",
    "# mu = 78*10e9       #shear modulus in Pa\n",
    "# K1 = 1.6*10e11      #bulk modulus in Pa\n",
    "\n",
    "# Lambda = K - (2/3)*mu\n",
    "\n",
    "# #print(Lambda)\n",
    "# #\n",
    "# E = mu*(2*(1+0.3))\n",
    "\n",
    "# print(E)"
   ]
  },
  {
   "cell_type": "code",
   "execution_count": 195,
   "metadata": {},
   "outputs": [
    {
     "data": {
      "text/plain": [
       "0.0"
      ]
     },
     "execution_count": 195,
     "metadata": {},
     "output_type": "execute_result"
    }
   ],
   "source": [
    "1e9 - (10**9)"
   ]
  },
  {
   "cell_type": "code",
   "execution_count": 196,
   "metadata": {},
   "outputs": [
    {
     "name": "stdout",
     "output_type": "stream",
     "text": [
      "76923076923.07692 166666666666.66666\n"
     ]
    }
   ],
   "source": [
    "# Define material properties\n",
    "\n",
    "v = 0.3\n",
    "E = 200*1e9\n",
    "rho = 8050 #density of steel in kg/m^3\n",
    "\n",
    "mu = E/(2*(1+v)) #shear modulus in Pa\n",
    "K = E/(3*(1-2*v))     #bulk modulus in Pa\n",
    "\n",
    "Lambda = K - (2/3)*mu\n",
    "\n",
    "print(mu, K)\n"
   ]
  },
  {
   "cell_type": "code",
   "execution_count": 197,
   "metadata": {},
   "outputs": [],
   "source": [
    "## Define required variables\n",
    "\n",
    "tf = 0.01           #total time in seconds\n",
    "dx = Lx/nx          #length of each control volume in the x-direction\n",
    "dy = Ly/ny          #length of each control volume in the y-direction\n",
    "dt = tf/1          #size of time steps\n",
    "Sfx = dy            #area vector x component (Area of East and West Faces)\n",
    "Sfy = dx            #area vector y component (Area of North and South Faces)\n"
   ]
  },
  {
   "cell_type": "code",
   "execution_count": 198,
   "metadata": {},
   "outputs": [],
   "source": [
    "## Define  position and time vectors\n",
    "\n",
    "t = np.array(np.arange(0,tf, dt))        #time vector (could possibly use a list)\n",
    "x = np.zeros((1,nx+2))   #position vector defining the center points of the control volumes in the x-direction.\n",
    "x[0,nx+1] = Lx\n",
    "x[0,1:nx+1] = np.arange(dx/2,Lx,dx)\n",
    "\n",
    "t = np.array(np.arange(0,tf, dt))        #time vector (could possibly use a list)\n",
    "y = np.zeros((1,ny+2))   #position vector defining the center points of the control volumes in the y-direction.\n",
    "y[0,ny+1] = Ly\n",
    "y[0,1:ny+1] = np.arange(dy/2,Ly,dy)"
   ]
  },
  {
   "cell_type": "code",
   "execution_count": 199,
   "metadata": {},
   "outputs": [],
   "source": [
    "## Define required displacement matrices and b vector\n",
    "\n",
    "u_new = np.zeros([(ny+2)*(nx+2),2])         #unknown displacements at t + 1    (Column 1 = x, Column2 = y)\n",
    "u_old = np.zeros([(ny+2)*(nx+2),2])         #displacement at time t\n",
    "u_old_old = np.zeros([(ny+2)*(nx+2),2])     #displacement at time t - 1\n",
    "\n",
    "#rhs vector\n",
    "b_x = np.zeros([(ny+2)*(nx+2),1])\n",
    "b_y = np.zeros([(ny+2)*(nx+2),1])"
   ]
  },
  {
   "cell_type": "markdown",
   "metadata": {},
   "source": [
    "## X equation:"
   ]
  },
  {
   "cell_type": "code",
   "execution_count": 200,
   "metadata": {},
   "outputs": [],
   "source": [
    "class A(index, displacement):\n",
    "\n",
    "    val = \"value that stays in class without changning with instance\"\n",
    "\n",
    "    def __init__(self, xy):\n",
    "\n",
    "        if xy == \"x\":\n",
    "\n",
    "            self.a_P = (rho*dx*dy/(dt**2))+((4*mu+2*Lambda)*Sfx)/dx + ((2*mu)*Sfy)/dy\n",
    "            self.a_N = + A.coef(xy, \"N\", \"u\")*(Sfy)/dy\n",
    "            self.a_S = - A.coef(xy, \"S\", \"u\")*(Sfy)/dy\n",
    "            self.a_E = + A.coef(xy, \"E\", \"u\")*(Sfx)/dx\n",
    "            self.a_W = - A.coef(xy, \"W\", \"u\")*(Sfx)/dx\n",
    "\n",
    "        if xy == \"y\":\n",
    "\n",
    "            self.a_P = (rho*dx*dy/(dt**2))+((4*mu+2*Lambda)*Sfy)/dy + ((2*mu)*Sfx)/dx \n",
    "            self.a_N = + A.coef(xy, \"N\", \"v\")*(Sfy)/dy\n",
    "            self.a_S = - A.coef(xy, \"S\", \"v\")*(Sfy)/dy\n",
    "            self.a_E = + A.coef(xy, \"E\", \"v\")*(Sfx)/dx\n",
    "            self.a_W = - A.coef(xy, \"W\", \"v\")*(Sfx)/dx\n",
    "\n",
    "    def createMatrix(self):\n",
    "\n",
    "        A_no_boundary = np.zeros([(ny+2)*(nx+2), (ny+2)*(nx+2)])\n",
    "        # A_no_boundary = csr_matrix(A_no_boundary)  \n",
    "\n",
    "        for j in np.arange(2, ny):     \n",
    "\n",
    "            for k in np.arange((j*(nx+2)+2), (j*(nx+2)+nx)):  \n",
    "                \n",
    "                A_no_boundary[k,k] = self.a_P\n",
    "                A_no_boundary[k,index(k).n] = -self.a_N\n",
    "                A_no_boundary[k,index(k).s] = -self.a_S\n",
    "                A_no_boundary[k, index(k).e] = -self.a_E\n",
    "                A_no_boundary[k, index(k).w] = -self.a_W\n",
    "\n",
    "        return A_no_boundary\n",
    "\n",
    "    # b temporal term\n",
    "    def b_temp(u_old, u_old_old, k, xy):\n",
    "\n",
    "        if xy == \"x\":\n",
    "            b_temporal_term = (rho/(dt**2))*( 2*(u_old[k,0])*dx*dy - u_old_old[k,0]*dx*dy)\n",
    "        if xy == \"y\":\n",
    "            b_temporal_term = (rho/(dt**2))*( 2*(u_old[k,1])*dx*dy - u_old_old[k,1]*dx*dy)\n",
    "        \n",
    "        return b_temporal_term\n",
    "    \n",
    "    def b_diff(k, xy, u_previous):\n",
    "\n",
    "        if xy == \"x\":\n",
    "            uv = \"v\"\n",
    "        if xy == \"y\":\n",
    "            uv = \"u\"\n",
    "\n",
    "        b_diffusion = (\n",
    "                                Sfy*A.coef(xy, \"N\", uv)*(\n",
    "                                    (A.corner(\"NE\", uv, u_previous, k) - A.corner(\"NW\", uv, u_previous, k))\n",
    "                                    /dx)\n",
    "                                + \n",
    "                                Sfy*A.coef(xy, \"S\", uv)*(\n",
    "                                    (A.corner(\"SE\", uv, u_previous, k) - A.corner(\"SW\", uv, u_previous, k))\n",
    "                                    /dx)\n",
    "                                +\n",
    "                                Sfx*A.coef(xy, \"E\", uv)*(\n",
    "                                    (A.corner(\"NE\", uv, u_previous, k) - A.corner(\"SE\", uv, u_previous, k))\n",
    "                                    /dy)\n",
    "                                +\n",
    "                                Sfx*A.coef(xy, \"W\", uv)*(\n",
    "                                    (A.corner(\"NW\", uv, u_previous, k) - A.corner(\"SW\", uv, u_previous, k))\n",
    "                                    /dy)\n",
    "        )\n",
    "\n",
    "        return b_diffusion\n",
    "    \n",
    "    def corner(corner_placement, uv, u_previous, k):\n",
    "        if uv == \"u\":\n",
    "            uv_i = 0\n",
    "        elif uv == \"v\":\n",
    "            uv_i = 1\n",
    "\n",
    "        disp = displacement(k, u_previous, uv_i)\n",
    "\n",
    "        if corner_placement == \"NE\":\n",
    "            return (1/4)*(disp.P + disp.NE + disp.N + disp.E)\n",
    "        if corner_placement == \"SE\":\n",
    "            return (1/4)*(disp.P + disp.SE + disp.S + disp.E)\n",
    "        if corner_placement == \"SW\":\n",
    "            return (1/4)*(disp.P + disp.SW + disp.S + disp.W)\n",
    "        if corner_placement == \"NW\":\n",
    "            return (1/4)*(disp.P + disp.NW + disp.N + disp.W)\n",
    "\n",
    "\n",
    "    \n",
    "    def coef(xy, face, uv):\n",
    "        # could have and statements\n",
    "        if xy == \"x\":\n",
    "            if face == \"N\":\n",
    "                if uv == \"u\":\n",
    "                    return mu\n",
    "                if uv == \"v\":\n",
    "                    return mu\n",
    "            if face == \"S\":\n",
    "                if uv == \"u\":\n",
    "                    return - mu\n",
    "                if uv == \"v\":\n",
    "                    return - mu\n",
    "            if face == \"E\":\n",
    "                if uv == \"u\":\n",
    "                    return 2*mu + Lambda\n",
    "                if uv == \"v\":\n",
    "                    return Lambda\n",
    "            if face == \"W\":\n",
    "                if uv == \"u\":\n",
    "                    return - (2*mu + Lambda)\n",
    "                if uv == \"v\":\n",
    "                    return - Lambda\n",
    "\n",
    "        elif xy == \"y\":\n",
    "            if face == \"N\":\n",
    "                if uv == \"u\":\n",
    "                    return Lambda\n",
    "                if uv == \"v\":\n",
    "                    return 2*mu + Lambda\n",
    "            if face == \"S\":\n",
    "                if uv == \"u\":\n",
    "                    return - Lambda\n",
    "                if uv == \"v\":\n",
    "                    return - (2*mu + Lambda)\n",
    "            if face == \"E\":\n",
    "                if uv == \"u\":\n",
    "                    return mu\n",
    "                if uv == \"v\":\n",
    "                    return mu\n",
    "            if face == \"W\":\n",
    "                if uv == \"u\":\n",
    "                    return - mu\n",
    "                if uv == \"v\":\n",
    "                    return - mu\n",
    "\n",
    "u_previous = u_new\n",
    "\n",
    "# A.b_diff(25, \"x\", u_previous)"
   ]
  },
  {
   "cell_type": "code",
   "execution_count": 201,
   "metadata": {},
   "outputs": [],
   "source": [
    "class boundaryCellTraction(A):\n",
    "\n",
    "    def __init__(self, edges, xy):\n",
    "        \n",
    "        sw_S, sw_N, sw_W, sw_E = 1, 1, 1, 1\n",
    "\n",
    "        for edge in edges:\n",
    "            if edge == \"b\": sw_S = 0\n",
    "            if edge == \"t\": sw_N = 0\n",
    "            if edge == \"l\": sw_W = 0\n",
    "            if edge == \"r\": sw_E = 0\n",
    "        \n",
    "        self.a_P = (rho*dx*dy/(dt**2)) + A(xy).a_N*sw_N + A(xy).a_S**sw_S + A(xy).a_E*sw_E + A(xy).a_W*sw_W\n",
    "        \n",
    "        self.a_N = A(xy).a_N \n",
    "        self.a_S = A(xy).a_S \n",
    "        self.a_E = A(xy).a_E \n",
    "        self.a_W = A(xy).a_W \n",
    "\n",
    "        # self.a_faces = A(xy).a_N*sw_N + A(xy).a_S*sw_S + A(xy).a_E*sw_E + A(xy).a_W*sw_W \n",
    "\n",
    "    def b_temp(u_old, u_old_old, k, xy):      \n",
    "        return A.b_temp(u_old, u_old_old, k, xy)\n",
    "    \n",
    "    def b_diff(edges, k, xy, u_previous):\n",
    "\n",
    "        if xy == \"x\":\n",
    "            uv = \"v\"\n",
    "        if xy == \"y\":\n",
    "            uv = \"u\"\n",
    "            \n",
    "        N_term =(\n",
    "                    Sfy*A.coef(xy, \"N\", uv)*(\n",
    "                    (boundaryCellTraction.corner(edges, \"NE\", uv, u_previous, k) - boundaryCellTraction.corner(edges, \"NW\", uv, u_previous, k))\n",
    "                    /dx)\n",
    "                )\n",
    "        S_term =(\n",
    "                    Sfy*A.coef(xy, \"S\", uv)*(\n",
    "                        (boundaryCellTraction.corner(edges, \"SE\", uv, u_previous, k) - boundaryCellTraction.corner(edges, \"SW\", uv, u_previous, k))\n",
    "                        /dx)\n",
    "                ) \n",
    "        E_term =(\n",
    "                    Sfx*A.coef(xy, \"E\", uv)*(\n",
    "                        (boundaryCellTraction.corner(edges, \"NE\", uv, u_previous, k) - boundaryCellTraction.corner(edges, \"SE\", uv, u_previous, k))\n",
    "                        /dy)\n",
    "                ) \n",
    "        W_term =(\n",
    "                    Sfx*A.coef(xy, \"W\", uv)*(\n",
    "                        (boundaryCellTraction.corner(edges, \"NW\", uv, u_previous, k) - boundaryCellTraction.corner(edges, \"SW\", uv, u_previous, k))\n",
    "                        /dy)\n",
    "                )\n",
    "\n",
    "        for edge in edges:\n",
    "\n",
    "            if (edge == \"b\") & (xy == \"x\") : S_term =  Sfy*tr_bottom_x  \n",
    "            if (edge == \"b\") & (xy == \"y\") : S_term =  Sfy*tr_bottom_y  \n",
    "            if (edge == \"t\") & (xy == \"x\") : N_term =  Sfy*tr_top_x  \n",
    "            if (edge == \"t\") & (xy == \"y\") : N_term =  Sfy*tr_top_y  \n",
    "            if (edge == \"l\") & (xy == \"x\") : W_term =  Sfx*tr_left_x  \n",
    "            if (edge == \"l\") & (xy == \"y\") : W_term =  Sfx*tr_left_y  \n",
    "            if (edge == \"r\") & (xy == \"x\") : E_term =  Sfx*tr_right_x  \n",
    "            if (edge == \"r\") & (xy == \"y\") : E_term =  Sfx*tr_right_y        \n",
    "\n",
    "        b_diffusion = (N_term + S_term + E_term + W_term)\n",
    "\n",
    "        return b_diffusion\n",
    "    \n",
    "    def corner(edges, corner_placement, uv, u_previous, k):\n",
    "\n",
    "        if uv == \"u\":\n",
    "            uv_i = 0\n",
    "        elif uv == \"v\":\n",
    "            uv_i = 1\n",
    "\n",
    "        disp = displacement(k, u_previous, uv_i)\n",
    "\n",
    "        if corner_placement == \"NE\":\n",
    "            corner =  (1/4)*(disp.P + disp.NE + disp.N + disp.E)\n",
    "        if corner_placement == \"SE\":\n",
    "            corner =  (1/4)*(disp.P + disp.SE + disp.S + disp.E)\n",
    "        if corner_placement == \"SW\":\n",
    "            corner =  (1/4)*(disp.P + disp.SW + disp.S + disp.W)\n",
    "        if corner_placement == \"NW\":\n",
    "            corner =  (1/4)*(disp.P + disp.NW + disp.N + disp.W)\n",
    "\n",
    "        for edge in edges:\n",
    "            if (edge == \"b\") & (corner_placement == \"SE\"):\n",
    "                corner =  (1/2)*(disp.SE + disp.S)\n",
    "            if (edge == \"b\") & (corner_placement == \"SW\"):\n",
    "                corner =  (1/2)*(disp.SW + disp.S)\n",
    "\n",
    "            if (edge == \"t\") & (corner_placement == \"NE\"):\n",
    "                corner =  (1/2)*(disp.NE + disp.N)\n",
    "            if (edge == \"t\") & (corner_placement == \"NW\"):\n",
    "                corner =  (1/2)*(disp.NW + disp.N)\n",
    "\n",
    "            if (edge == \"l\") & (corner_placement == \"NW\"):\n",
    "                corner =  (1/2)*(disp.NW + disp.W)\n",
    "            if (edge == \"l\") & (corner_placement == \"SW\"):\n",
    "                corner =  (1/2)*(disp.SW + disp.W)\n",
    "\n",
    "            if (edge == \"r\") & (corner_placement == \"NE\"):\n",
    "                corner =  (1/2)*(disp.NE + disp.E)\n",
    "            if (edge == \"r\") & (corner_placement == \"SE\"):\n",
    "                corner =  (1/2)*(disp.SE + disp.E)\n",
    "        \n",
    "        return corner\n",
    "\n",
    "# boundaryCellTraction.b_diff([\"b\", \"l\"], 14, \"x\", u_previous)\n",
    "   "
   ]
  },
  {
   "cell_type": "code",
   "execution_count": 202,
   "metadata": {},
   "outputs": [],
   "source": [
    "class boundaryPointTraction(A):\n",
    "\n",
    "    def __init__(self, edges, xy):    # The order matters for edges, bottom left corner on the bottom is : [\"b\", \"l\"]\n",
    "        \n",
    "        sw_S, sw_N, sw_W, sw_E = 0, 0, 0, 0\n",
    "\n",
    "        if edges[0] == \"b\": sw_S = 1\n",
    "        if edges[0] == \"t\": sw_N = 1\n",
    "        if edges[0] == \"l\": sw_W = 1\n",
    "        if edges[0] == \"r\": sw_E = 1\n",
    "        \n",
    "        a_P = (A(xy).a_N*sw_N + A(xy).a_S**sw_S )*2/(Sfy) + (A(xy).a_E*sw_E + A(xy).a_W*sw_W)*2/(Sfx)\n",
    "        \n",
    "        a_N = A(xy).a_N*2/(Sfy) # are terms cancel in derivation\n",
    "        a_S = A(xy).a_S*2/(Sfy)\n",
    "        a_E = A(xy).a_E*2/(Sfx)\n",
    "        a_W = A(xy).a_W*2/(Sfx)\n",
    "\n",
    "        if edges[0] == \"b\":\n",
    "            self.a_N = a_P\n",
    "            self.a_P = a_S\n",
    "        if edges[0] == \"t\":\n",
    "            self.a_S = a_P\n",
    "            self.a_P = a_N\n",
    "        if edges[0] == \"l\":\n",
    "            self.a_E = a_P\n",
    "            self.a_P = a_W\n",
    "        if edges[0] == \"r\":\n",
    "            self.a_W = a_P\n",
    "            self.a_P = a_E\n",
    "    \n",
    "    def b_diff(edges, k, xy, u_previous):\n",
    "\n",
    "        if xy == \"x\":\n",
    "            uv = \"v\"\n",
    "        if xy == \"y\":\n",
    "            uv = \"u\"\n",
    "            \n",
    "        def N_term():\n",
    "            \n",
    "            N_term =( A.coef(xy, \"N\", uv)*(\n",
    "                    (boundaryPointTraction.corner(edges, \"E\", uv, u_previous, k) - boundaryPointTraction.corner(edges, \"W\", uv, u_previous, k))\n",
    "                    /dx)\n",
    "            )\n",
    "\n",
    "            return N_term\n",
    "\n",
    "        def S_term():\n",
    "            \n",
    "            S_term =(\n",
    "                    A.coef(xy, \"S\", uv)*(\n",
    "                        (boundaryPointTraction.corner(edges, \"E\", uv, u_previous, k) - boundaryPointTraction.corner(edges, \"W\", uv, u_previous, k))\n",
    "                        /dx)\n",
    "                ) \n",
    "            return S_term\n",
    "        def E_term():\n",
    "            \n",
    "            E_term =(\n",
    "                    A.coef(xy, \"E\", uv)*(\n",
    "                        (boundaryPointTraction.corner(edges, \"N\", uv, u_previous, k) - boundaryPointTraction.corner(edges, \"S\", uv, u_previous, k))\n",
    "                        /dy)\n",
    "                ) \n",
    "            return E_term\n",
    "        def W_term():\n",
    "            \n",
    "            W_term =(\n",
    "                        A.coef(xy, \"W\", uv)*(\n",
    "                        (boundaryPointTraction.corner(edges, \"N\", uv, u_previous, k) - boundaryPointTraction.corner(edges, \"S\", uv, u_previous, k))\n",
    "                        /dy)\n",
    "                )\n",
    "                \n",
    "            return W_term\n",
    "\n",
    "        # This can be tidied up/shortened\n",
    "\n",
    "        if (edges[0] == \"b\") & (xy == \"x\") : b_diffusion =  tr_bottom_x  + N_term()\n",
    "        if (edges[0] == \"b\") & (xy == \"y\") : b_diffusion =  tr_bottom_y  + N_term()\n",
    "        if (edges[0] == \"t\") & (xy == \"x\") : b_diffusion =  tr_top_x + S_term()\n",
    "        if (edges[0] == \"t\") & (xy == \"y\") : b_diffusion =  tr_top_y + S_term()\n",
    "        if (edges[0] == \"l\") & (xy == \"x\") : b_diffusion =  tr_left_x + E_term()\n",
    "        if (edges[0] == \"l\") & (xy == \"y\") : b_diffusion =  tr_left_y + E_term()\n",
    "        if (edges[0] == \"r\") & (xy == \"x\") : b_diffusion =  tr_right_x + W_term()\n",
    "        if (edges[0] == \"r\") & (xy == \"y\") : b_diffusion =  tr_right_y + W_term()  \n",
    "\n",
    "        return b_diffusion\n",
    "    \n",
    "    def corner(edges, corner_placement, uv, u_previous, k):\n",
    "\n",
    "        if uv == \"u\":\n",
    "            uv_i = 0\n",
    "        elif uv == \"v\":\n",
    "            uv_i = 1\n",
    "\n",
    "        disp = displacement(k, u_previous, uv_i)\n",
    "\n",
    "\n",
    "        if corner_placement == \"E\":\n",
    "            corner =  (1/2)*(disp.E + disp.P)\n",
    "        if corner_placement == \"W\":\n",
    "            corner =  (1/2)*(disp.W + disp.P)\n",
    "        if  corner_placement == \"N\":\n",
    "            corner =  (1/2)*(disp.N + disp.P)\n",
    "        if  corner_placement == \"S\":\n",
    "            corner =  (1/2)*(disp.S + disp.P)\n",
    "\n",
    "        if len(edges) > 1:\n",
    "\n",
    "            if (edges[1] == \"r\") & (corner_placement == \"E\"):\n",
    "                    corner =  disp.E\n",
    "            if (edges[1] == \"l\") & (corner_placement == \"W\"):\n",
    "                    corner =  disp.W\n",
    "            if (edges[1] == \"t\") & (corner_placement == \"N\"):\n",
    "                    corner =  disp.N\n",
    "            if (edges[1] == \"b\") & (corner_placement == \"S\"):\n",
    "                    corner =  disp.S\n",
    "        \n",
    "        return corner\n",
    "# boundaryCellTraction.b_diff([\"b\", \"l\"], 14, \"x\", u_previous)\n",
    "   "
   ]
  },
  {
   "cell_type": "code",
   "execution_count": 203,
   "metadata": {},
   "outputs": [],
   "source": [
    "class boundaryCellDisplacement(A):\n",
    "\n",
    "    def __init__(self, edges, xy):\n",
    "        \n",
    "        sw_S, sw_N, sw_W, sw_E = 1, 1, 1, 1\n",
    "\n",
    "        for edge in edges:\n",
    "            if edge == \"b\": sw_S = 2\n",
    "            if edge == \"t\": sw_N = 2\n",
    "            if edge == \"l\": sw_W = 2\n",
    "            if edge == \"r\": sw_E = 2\n",
    "        \n",
    "        self.a_P = (rho*dx*dy/(dt**2)) + A(xy).a_N*sw_N + A(xy).a_S*sw_S + A(xy).a_E*sw_E + A(xy).a_W*sw_W\n",
    "        \n",
    "        self.a_N = A(xy).a_N*sw_N\n",
    "        self.a_S = A(xy).a_S*sw_S\n",
    "        self.a_E = A(xy).a_E*sw_E\n",
    "        self.a_W = A(xy).a_W*sw_W\n",
    "\n",
    "    def b_temp(u_old, u_old_old, k, xy):      \n",
    "        return A.b_temp(u_old, u_old_old, k, xy)\n",
    "    \n",
    "    def b_diff(edges, k, xy, u_previous):\n",
    "\n",
    "        if xy == \"x\":\n",
    "            uv = \"v\"\n",
    "        if xy == \"y\":\n",
    "            uv = \"u\"\n",
    "            \n",
    "        N_term =(\n",
    "                    Sfy*A.coef(xy, \"N\", uv)*(\n",
    "                    (boundaryCellDisplacement.corner(edges, \"NE\", uv, u_previous, k) - boundaryCellDisplacement.corner(edges, \"NW\", uv, u_previous, k))\n",
    "                    /dx)\n",
    "                )\n",
    "        S_term =(\n",
    "                    Sfy*A.coef(xy, \"S\", uv)*(\n",
    "                        (boundaryCellDisplacement.corner(edges, \"SE\", uv, u_previous, k) - boundaryCellDisplacement.corner(edges, \"SW\", uv, u_previous, k))\n",
    "                        /dx)\n",
    "                ) \n",
    "        E_term =(\n",
    "                    Sfx*A.coef(xy, \"E\", uv)*(\n",
    "                        (boundaryCellDisplacement.corner(edges, \"NE\", uv, u_previous, k) - boundaryCellDisplacement.corner(edges, \"SE\", uv, u_previous, k))\n",
    "                        /dy)\n",
    "                ) \n",
    "        W_term =(\n",
    "                    Sfx*A.coef(xy, \"W\", uv)*(\n",
    "                        (boundaryCellDisplacement.corner(edges, \"NW\", uv, u_previous, k) - boundaryCellDisplacement.corner(edges, \"SW\", uv, u_previous, k))\n",
    "                        /dy)\n",
    "                ) \n",
    "\n",
    "        b_diffusion = (N_term + S_term + E_term + W_term)\n",
    "\n",
    "        return b_diffusion\n",
    "    \n",
    "    def corner(edges, corner_placement, uv, u_previous, k):\n",
    "\n",
    "        if uv == \"u\":\n",
    "            uv_i = 0\n",
    "        elif uv == \"v\":\n",
    "            uv_i = 1\n",
    "\n",
    "        disp = displacement(k, u_previous, uv_i)\n",
    "\n",
    "        if corner_placement == \"NE\":\n",
    "            corner =  (1/4)*(disp.P + disp.NE + disp.N + disp.E)\n",
    "        if corner_placement == \"SE\":\n",
    "            corner =  (1/4)*(disp.P + disp.SE + disp.S + disp.E)\n",
    "        if corner_placement == \"SW\":\n",
    "            corner =  (1/4)*(disp.P + disp.SW + disp.S + disp.W)\n",
    "        if corner_placement == \"NW\":\n",
    "            corner =  (1/4)*(disp.P + disp.NW + disp.N + disp.W)\n",
    "\n",
    "        for edge in edges:\n",
    "            if (edge == \"b\") & (corner_placement == \"SE\"):\n",
    "                corner =  (1/2)*(disp.SE + disp.S)\n",
    "            if (edge == \"b\") & (corner_placement == \"SW\"):\n",
    "                corner =  (1/2)*(disp.SW + disp.S)\n",
    "\n",
    "            if (edge == \"t\") & (corner_placement == \"NE\"):\n",
    "                corner =  (1/2)*(disp.NE + disp.N)\n",
    "            if (edge == \"t\") & (corner_placement == \"NW\"):\n",
    "                corner =  (1/2)*(disp.NW + disp.N)\n",
    "\n",
    "            if (edge == \"l\") & (corner_placement == \"NW\"):\n",
    "                corner =  (1/2)*(disp.NW + disp.W)\n",
    "            if (edge == \"l\") & (corner_placement == \"SW\"):\n",
    "                corner =  (1/2)*(disp.SW + disp.W)\n",
    "\n",
    "            if (edge == \"r\") & (corner_placement == \"NE\"):\n",
    "                corner =  (1/2)*(disp.NE + disp.E)\n",
    "            if (edge == \"r\") & (corner_placement == \"SE\"):\n",
    "                corner =  (1/2)*(disp.SE + disp.E)\n",
    "\n",
    "        if len(edges) > 1:\n",
    "\n",
    "            if (edges[0] == \"b\") & (edges[1] == \"l\") & (corner_placement == \"SW\"):\n",
    "                corner = disp.SW \n",
    "            if (edges[0] == \"b\") & (edges[1] == \"r\") & (corner_placement == \"SE\"):\n",
    "                corner = disp.SE\n",
    "            if (edges[0] == \"t\") & (edges[1] == \"l\") & (corner_placement == \"NW\"):\n",
    "                corner = disp.NW\n",
    "            if (edges[0] == \"t\") & (edges[1] == \"r\") & (corner_placement == \"NE\"):\n",
    "                corner = disp.NE\n",
    "\n",
    "        \n",
    "        return corner\n",
    "\n",
    "# boundaryCellDisplacement.b_diff([\"b\", \"l\"], 14, \"x\", u_previous)\n",
    "\n",
    "\n"
   ]
  },
  {
   "cell_type": "code",
   "execution_count": 204,
   "metadata": {},
   "outputs": [],
   "source": [
    "def traction_cell_BCs(A_matrix, b_matrix, k, edges, xy, u_old, u_old_old, u_previous):\n",
    "\n",
    "    A_matrix[k,k] = boundaryCellTraction(edges, xy).a_P\n",
    "\n",
    "    b_matrix[k] =(\n",
    "                    boundaryCellTraction.b_temp(u_old, u_old_old, k, xy)\n",
    "                    +\n",
    "                    boundaryCellTraction.b_diff(edges, k, xy, u_previous)  \n",
    "                )\n",
    "    for edge in edges:\n",
    "        if edge == \"b\":\n",
    "            #an\n",
    "            A_matrix[k,index(k).n] = - boundaryCellTraction(edges, xy).a_N\n",
    "\n",
    "        if edge == \"t\":\n",
    "            #as\n",
    "            A_matrix[k,index(k).s] = - boundaryCellTraction(edges, xy).a_S\n",
    "\n",
    "        if edge == \"l\":\n",
    "            #ae\n",
    "            A_matrix[k,index(k).e] = - boundaryCellTraction(edges, xy).a_E\n",
    "\n",
    "        if edge == \"r\":\n",
    "            #aw\n",
    "            A_matrix[k,index(k).w] = - boundaryCellTraction(edges, xy).a_W           \n",
    "\n",
    "    if len(edges) == 1:\n",
    "\n",
    "        if (edges[0] == \"b\") | (edges[0] == \"t\") :\n",
    "            #ae\n",
    "            A_matrix[k, index(k).e] = - boundaryCellTraction(edges, xy).a_E\n",
    "            #aw\n",
    "            A_matrix[k, index(k).w] = - boundaryCellTraction(edges, xy).a_W\n",
    "\n",
    "        if (edges[0] == \"l\") | (edges[0] == \"r\") :\n",
    "            #an\n",
    "            A_matrix[k,index(k).n] = - boundaryCellTraction(edges, xy).a_N            \n",
    "            #as\n",
    "            A_matrix[k,index(k).s] = - boundaryCellTraction(edges, xy).a_S\n",
    "\n",
    "    return A_matrix, b_matrix"
   ]
  },
  {
   "cell_type": "code",
   "execution_count": 205,
   "metadata": {},
   "outputs": [],
   "source": [
    "def traction_point_BCs(A_matrix, b_matrix, k, edges, xy, u_previous):\n",
    "    \n",
    "    #ap\n",
    "    A_matrix[k,k] = boundaryPointTraction(edges, xy).a_P\n",
    "    #b\n",
    "    b_matrix[k] =boundaryPointTraction.b_diff(edges, k, xy, u_previous)\n",
    "\n",
    "    if edges[0] == \"b\":\n",
    "        #an\n",
    "        A_matrix[k,index(k).n] = - boundaryPointTraction(edges, xy).a_N\n",
    "    if edges[0] == \"t\":\n",
    "        #as\n",
    "        A_matrix[k,index(k).s] = - boundaryPointTraction(edges, xy).a_S\n",
    "    if edges[0] == \"l\":\n",
    "        #ae\n",
    "        A_matrix[k, index(k).e] = - boundaryPointTraction(edges, xy).a_E\n",
    "    if edges[0] == \"r\":\n",
    "        #aw\n",
    "        A_matrix[k, index(k).w] = -  boundaryPointTraction(edges, xy).a_W\n",
    "\n",
    "    return A_matrix, b_matrix"
   ]
  },
  {
   "cell_type": "code",
   "execution_count": 206,
   "metadata": {},
   "outputs": [],
   "source": [
    "class edge_U:\n",
    "\n",
    "    def __init__(self, edges, xy):\n",
    "\n",
    "        if xy == \"x\":\n",
    "            if edges[0] == \"b\":\n",
    "                if BC_settings(edges[0]).fixed_displacement:\n",
    "                    self.BC = u_bottom\n",
    "            if edges[0] == \"t\":\n",
    "                if BC_settings(edges[0]).fixed_displacement:\n",
    "                    self.BC = u_top\n",
    "            if edges[0] == \"l\":\n",
    "                if BC_settings(edges[0]).fixed_displacement:\n",
    "                    self.BC = u_left\n",
    "            if edges[0] == \"r\":\n",
    "                if BC_settings(edges[0]).fixed_displacement:\n",
    "                    self.BC = u_right\n",
    "\n",
    "        if xy == \"y\":\n",
    "            if edges[0] == \"b\":\n",
    "                if BC_settings(edges[0]).fixed_displacement:\n",
    "                    self.BC = v_bottom\n",
    "            if edges[0] == \"t\":\n",
    "                if BC_settings(edges[0]).fixed_displacement:\n",
    "                    self.BC = v_top\n",
    "            if edges[0] == \"l\":\n",
    "                if BC_settings(edges[0]).fixed_displacement:\n",
    "                    self.BC = v_left\n",
    "            if edges[0] == \"r\":\n",
    "                if BC_settings(edges[0]).fixed_displacement:\n",
    "                    self.BC = v_right"
   ]
  },
  {
   "cell_type": "code",
   "execution_count": 207,
   "metadata": {},
   "outputs": [],
   "source": [
    "def displacement_cell_BCs(A_matrix, b_matrix, k, edges, xy, u_old, u_old_old, u_previous):\n",
    "\n",
    "    A_matrix[k,k] = boundaryCellDisplacement(edges, xy).a_P\n",
    "    #an\n",
    "    A_matrix[k,index(k).n] = - boundaryCellDisplacement(edges, xy).a_N        \n",
    "    #as\n",
    "    A_matrix[k,index(k).s] = - boundaryCellDisplacement(edges, xy).a_S   \n",
    "    #ae\n",
    "    A_matrix[k, index(k).e] = - boundaryCellDisplacement(edges, xy).a_E\n",
    "    #aw\n",
    "    A_matrix[k, index(k).w] = - boundaryCellDisplacement(edges, xy).a_W\n",
    "\n",
    "    b_matrix[k] =(\n",
    "                boundaryCellDisplacement.b_temp(u_old, u_old_old, k, xy)\n",
    "                +\n",
    "                boundaryCellDisplacement.b_diff(edges, k, xy, u_previous)\n",
    "            )   \n",
    "\n",
    "    return A_matrix, b_matrix\n",
    "\n",
    "def displacement_point_BCs(A_matrix, b_matrix, k, edges, xy):\n",
    "    \n",
    "    A_matrix[k,k] = 1e10\n",
    "    b_matrix[k] = edge_U(edges, xy).BC*1e10\n",
    "\n",
    "    return A_matrix, b_matrix"
   ]
  },
  {
   "cell_type": "code",
   "execution_count": 208,
   "metadata": {},
   "outputs": [],
   "source": [
    "def boundary_conditions(A_matrix, b_matrix, u_previous, u_old, u_old_old, xy):\n",
    "    for k in np.arange(0,(nx+2)*(ny+2)):   # j is the cell number\n",
    "\n",
    "        U = displacement(k, u_previous, 0)\n",
    "        V = displacement(k, u_previous, 1)\n",
    "\n",
    "        #Bottom left corner coefficients        \n",
    "        if cell_index().bottom_left_corner(k):  \n",
    "            edges = [\"b\", \"l\"]\n",
    "            \n",
    "            if BC_settings(edges[1]).traction:\n",
    "                A_matrix, b_matrix = traction_cell_BCs(A_matrix, b_matrix, k, edges, xy, u_old, u_old_old, u_previous)\n",
    "            \n",
    "            elif BC_settings(edges[1]).fixed_displacement:\n",
    "                A_matrix, b_matrix = displacement_cell_BCs(A_matrix, b_matrix, k, edges, xy, u_old, u_old_old, u_previous)\n",
    "\n",
    "        #Bottom right corner coefficients            \n",
    "        elif  cell_index().bottom_right_corner(k):\n",
    "            edges = [\"b\", \"r\"]\n",
    "            \n",
    "            if BC_settings(edges[1]).traction:\n",
    "                A_matrix, b_matrix = traction_cell_BCs(A_matrix, b_matrix, k, edges, xy, u_old, u_old_old, u_previous)\n",
    "\n",
    "            elif BC_settings(edges[1]).fixed_displacement:\n",
    "                A_matrix, b_matrix = displacement_cell_BCs(A_matrix, b_matrix, k, edges, xy, u_old, u_old_old, u_previous)\n",
    "\n",
    "        #Top left corner coefficients            \n",
    "        elif  cell_index().top_left_corner(k):\n",
    "            edges = [\"t\", \"l\"]\n",
    "        \n",
    "            if BC_settings(edges[1]).traction:\n",
    "                A_matrix, b_matrix = traction_cell_BCs(A_matrix, b_matrix, k, edges, xy, u_old, u_old_old, u_previous)\n",
    "\n",
    "            elif BC_settings(edges[1]).fixed_displacement:\n",
    "                A_matrix, b_matrix = displacement_cell_BCs(A_matrix, b_matrix, k, edges, xy, u_old, u_old_old, u_previous)\n",
    "\n",
    "        #Top right corner coefficients            \n",
    "        elif  cell_index().top_right_corner(k):  \n",
    "            edges = [\"t\", \"r\"]\n",
    "            \n",
    "            if BC_settings(edges[1]).traction:\n",
    "                A_matrix, b_matrix = traction_cell_BCs(A_matrix, b_matrix, k, edges, xy, u_old, u_old_old, u_previous)\n",
    "\n",
    "            elif BC_settings(edges[1]).fixed_displacement:\n",
    "                A_matrix, b_matrix = displacement_cell_BCs(A_matrix, b_matrix, k, edges, xy, u_old, u_old_old, u_previous)\n",
    "\n",
    "        # Center Bottom Boundaries\n",
    "        elif  cell_index().center_bottom(k):\n",
    "            edges = [\"b\"]\n",
    "\n",
    "            if BC_settings(edges[0]).traction:\n",
    "                A_matrix, b_matrix = traction_cell_BCs(A_matrix, b_matrix, k, edges, xy, u_old, u_old_old, u_previous)\n",
    "\n",
    "            elif BC_settings(edges[0]).fixed_displacement:\n",
    "                A_matrix, b_matrix = displacement_cell_BCs(A_matrix, b_matrix, k, edges, xy, u_old, u_old_old, u_previous)\n",
    "\n",
    "        # Center Top Boundaries\n",
    "        elif cell_index().center_top(k):\n",
    "            edges = [\"t\"]\n",
    "\n",
    "            if BC_settings(edges[0]).traction:\n",
    "                A_matrix, b_matrix = traction_cell_BCs(A_matrix, b_matrix, k, edges, xy, u_old, u_old_old, u_previous)\n",
    "\n",
    "            elif BC_settings(edges[0]).fixed_displacement:\n",
    "                A_matrix, b_matrix = displacement_cell_BCs(A_matrix, b_matrix, k, edges, xy, u_old, u_old_old, u_previous)\n",
    "\n",
    "        # Center Left Boundaries\n",
    "        elif  cell_index().center_left(k):\n",
    "            edges = [\"l\"]\n",
    "\n",
    "            if BC_settings(edges[0]).traction:\n",
    "                A_matrix, b_matrix = traction_cell_BCs(A_matrix, b_matrix, k, edges, xy, u_old, u_old_old, u_previous)\n",
    "\n",
    "            elif BC_settings(edges[0]).fixed_displacement:\n",
    "                A_matrix, b_matrix = displacement_cell_BCs(A_matrix, b_matrix, k, edges, xy, u_old, u_old_old, u_previous)\n",
    "\n",
    "        # Center Right Boundaries\n",
    "        elif  cell_index().center_right(k):\n",
    "            edges = [\"r\"]\n",
    "\n",
    "            if BC_settings(edges[0]).traction:\n",
    "                A_matrix, b_matrix = traction_cell_BCs(A_matrix, b_matrix, k, edges, xy, u_old, u_old_old, u_previous)\n",
    "\n",
    "            elif BC_settings(edges[0]).fixed_displacement:\n",
    "                A_matrix, b_matrix = displacement_cell_BCs(A_matrix, b_matrix, k, edges, xy, u_old, u_old_old, u_previous)\n",
    "\n",
    "        #### Points on Boundary ####\n",
    "\n",
    "        # Center Bottom\n",
    "        elif boundary_point_index().center_bottom(k):\n",
    "            edges = [\"b\"]\n",
    "\n",
    "            if BC_settings(edges[0]).traction:\n",
    "                A_matrix, b_matrix = traction_point_BCs(A_matrix, b_matrix, k, edges, xy, u_previous)\n",
    "\n",
    "            elif BC_settings(edges[0]).fixed_displacement:\n",
    "                A_matrix, b_matrix = displacement_point_BCs(A_matrix, b_matrix, k, edges, xy)\n",
    "\n",
    "        # Center Top\n",
    "        elif boundary_point_index().center_top(k):\n",
    "            edges = [\"t\"]\n",
    "\n",
    "            if BC_settings(edges[0]).traction:\n",
    "                A_matrix, b_matrix = traction_point_BCs(A_matrix, b_matrix, k, edges, xy, u_previous)\n",
    "\n",
    "            elif BC_settings(edges[0]).fixed_displacement:\n",
    "                A_matrix, b_matrix = displacement_point_BCs(A_matrix, b_matrix, k, edges, xy)\n",
    "            \n",
    "        # Center Left\n",
    "        elif boundary_point_index().center_left(k):\n",
    "            edges = [\"l\"]\n",
    "\n",
    "            if BC_settings(edges[0]).traction:\n",
    "                A_matrix, b_matrix = traction_point_BCs(A_matrix, b_matrix, k, edges, xy, u_previous)\n",
    "\n",
    "            elif BC_settings(edges[0]).fixed_displacement:\n",
    "                A_matrix, b_matrix = displacement_point_BCs(A_matrix, b_matrix, k, edges, xy)\n",
    "\n",
    "        # Center Right\n",
    "        elif boundary_point_index().center_right(k):\n",
    "            edges = [\"r\"]\n",
    "\n",
    "            if BC_settings(edges[0]).traction:\n",
    "                A_matrix, b_matrix = traction_point_BCs(A_matrix, b_matrix, k, edges, xy, u_previous)\n",
    "\n",
    "            elif BC_settings(edges[0]).fixed_displacement:\n",
    "                A_matrix, b_matrix = displacement_point_BCs(A_matrix, b_matrix, k, edges, xy)\n",
    "\n",
    "        # Bottom Left: Bottom\n",
    "        elif boundary_point_index().bottom_left_bottom(k):\n",
    "            edges = [\"b\", \"l\"]\n",
    "\n",
    "            if BC_settings(edges[0]).traction:\n",
    "                A_matrix, b_matrix = traction_point_BCs(A_matrix, b_matrix, k, edges, xy, u_previous) \n",
    "\n",
    "            elif BC_settings(edges[0]).fixed_displacement:\n",
    "                A_matrix, b_matrix = displacement_point_BCs(A_matrix, b_matrix, k, edges, xy)\n",
    "\n",
    "        # Bottom Left: Left\n",
    "        elif boundary_point_index().bottom_left_left(k):\n",
    "            edges = [\"l\", \"b\"]\n",
    "            \n",
    "            if BC_settings(edges[0]).traction:\n",
    "                A_matrix, b_matrix = traction_point_BCs(A_matrix, b_matrix, k, edges, xy, u_previous)\n",
    "\n",
    "            elif BC_settings(edges[0]).fixed_displacement:\n",
    "                A_matrix, b_matrix = displacement_point_BCs(A_matrix, b_matrix, k, edges, xy)\n",
    "            \n",
    "        # Bottom Right: Right\n",
    "        elif boundary_point_index().bottom_right_right(k):\n",
    "            edges = [\"r\", \"b\"]\n",
    "\n",
    "            if BC_settings(edges[0]).traction:\n",
    "                A_matrix, b_matrix = traction_point_BCs(A_matrix, b_matrix, k, edges, xy, u_previous)\n",
    "\n",
    "            elif BC_settings(edges[0]).fixed_displacement:\n",
    "                A_matrix, b_matrix = displacement_point_BCs(A_matrix, b_matrix, k, edges, xy)\n",
    "\n",
    "        # Bottom Right: Bottom\n",
    "        elif boundary_point_index().bottom_right_bottom(k):\n",
    "            edges = [\"b\", \"r\"]\n",
    "\n",
    "            if BC_settings(edges[0]).traction:\n",
    "                A_matrix, b_matrix = traction_point_BCs(A_matrix, b_matrix, k, edges, xy, u_previous) \n",
    "\n",
    "            elif BC_settings(edges[0]).fixed_displacement:\n",
    "                A_matrix, b_matrix = displacement_point_BCs(A_matrix, b_matrix, k, edges, xy)\n",
    "\n",
    "        # Top Left: Left\n",
    "        elif boundary_point_index().top_left_left(k):\n",
    "            edges = [\"l\", \"t\"]\n",
    "\n",
    "            if BC_settings(edges[0]).traction:\n",
    "                A_matrix, b_matrix = traction_point_BCs(A_matrix, b_matrix, k, edges, xy, u_previous)\n",
    "\n",
    "            elif BC_settings(edges[0]).fixed_displacement:\n",
    "                A_matrix, b_matrix = displacement_point_BCs(A_matrix, b_matrix, k, edges, xy)\n",
    "\n",
    "        # Top Left: Top\n",
    "        elif boundary_point_index().top_left_top(k):\n",
    "            edges = [\"t\", \"l\"]\n",
    "\n",
    "            if BC_settings(edges[0]).traction:  \n",
    "                A_matrix, b_matrix = traction_point_BCs(A_matrix, b_matrix, k, edges, xy, u_previous)\n",
    "\n",
    "            elif BC_settings(edges[0]).fixed_displacement:\n",
    "                A_matrix, b_matrix = displacement_point_BCs(A_matrix, b_matrix, k, edges, xy)\n",
    "\n",
    "        # Top Right: Right\n",
    "        elif boundary_point_index().top_right_right(k):\n",
    "            edges = [\"r\", \"t\"]\n",
    "\n",
    "            if BC_settings(edges[0]).traction:  \n",
    "                A_matrix, b_matrix = traction_point_BCs(A_matrix, b_matrix, k, edges, xy, u_previous)\n",
    "\n",
    "            elif BC_settings(edges[0]).fixed_displacement:\n",
    "                A_matrix, b_matrix = displacement_point_BCs(A_matrix, b_matrix, k, edges, xy)\n",
    "\n",
    "        # Top Right: Top        \n",
    "        elif boundary_point_index().top_right_top(k):\n",
    "            edges = [\"t\", \"r\"]\n",
    "\n",
    "            if BC_settings(edges[0]).traction:  \n",
    "                A_matrix, b_matrix = traction_point_BCs(A_matrix, b_matrix, k, edges, xy, u_previous)\n",
    "\n",
    "            elif BC_settings(edges[0]).fixed_displacement:\n",
    "                A_matrix, b_matrix = displacement_point_BCs(A_matrix, b_matrix, k, edges, xy)\n",
    "\n",
    "        # # Corner Points\n",
    "\n",
    "        # If on of the edges uses fixed displacement this BC is used, if both edges use traction an interpolation is used\n",
    "\n",
    "        elif boundary_point_index().bottom_left_corner(k):\n",
    "\n",
    "            edges = [\"b\", \"l\"]\n",
    "\n",
    "            #print(str(k) + \": Bottom Left Corner Point on Boundary\")\n",
    "                    \n",
    "            if BC_settings(edges[0]).fixed_displacement | BC_settings(edges[1]).fixed_displacement:\n",
    "                for i in [0,1]:                 \n",
    "                    if BC_settings(edges[i]).fixed_displacement:\n",
    "                        edges = [edges[i]]\n",
    "                        A_matrix, b_matrix = displacement_point_BCs(A_matrix, b_matrix, k, edges, xy)\n",
    "            else: \n",
    "                A_matrix[k,k] = 4*fac\n",
    "\n",
    "                A_matrix[k,index(k).n] = 2*fac\n",
    "                A_matrix[k,index(k).e] = 2*fac\n",
    "\n",
    "                A_matrix[k,index(k).ne] = -15*fac\n",
    "\n",
    "                A_matrix[k,index(k).dir([\"n\", \"n\"])] = 2*fac \n",
    "                A_matrix[k,index(k).dir([\"e\", \"e\"])] = 2*fac\n",
    "\n",
    "                A_matrix[k,index(k).dir([\"n\", \"ne\"])] = 1*fac\n",
    "                A_matrix[k,index(k).dir([\"ne\", \"ne\"])] = 1*fac\n",
    "                A_matrix[k,index(k).dir([\"e\", \"ne\"])] = 1*fac\n",
    "\n",
    "                b_matrix[k] = 0\n",
    "\n",
    "            # edges = [\"l\"]\n",
    "\n",
    "            # A_matrix, b_matrix = displacement_point_BCs(A_matrix, b_matrix, k, edges, xy)\n",
    "\n",
    "        elif boundary_point_index().bottom_right_corner(k):\n",
    "            edges = [\"b\", \"r\"]\n",
    "            \n",
    "            if BC_settings(edges[0]).fixed_displacement | BC_settings(edges[1]).fixed_displacement:\n",
    "                for i in [0,1]:                 \n",
    "                    if BC_settings(edges[i]).fixed_displacement:\n",
    "                        edges = [edges[i]]\n",
    "                        A_matrix, b_matrix = displacement_point_BCs(A_matrix, b_matrix, k, edges, xy)\n",
    "            else: \n",
    "                A_matrix[k,k] = 4*fac\n",
    "\n",
    "                A_matrix[k,index(k).n] = 2 *fac\n",
    "                A_matrix[k,index(k).w] = 2*fac\n",
    "\n",
    "                A_matrix[k,index(k).nw] = -15*fac\n",
    "\n",
    "                A_matrix[k,index(k).dir([\"n\", \"n\"])] = 2 *fac\n",
    "                A_matrix[k,index(k).dir([\"w\", \"w\"])] = 2*fac\n",
    "\n",
    "                A_matrix[k,index(k).dir([\"n\", \"nw\"])] = 1*fac\n",
    "                A_matrix[k,index(k).dir([\"nw\", \"nw\"])] = 1*fac\n",
    "                A_matrix[k,index(k).dir([\"w\", \"nw\"])] = 1*fac\n",
    "\n",
    "                b_matrix[k] = 0\n",
    "\n",
    "        elif boundary_point_index().top_left_corner(k):\n",
    "\n",
    "            edges = [\"t\", \"l\"]\n",
    "            \n",
    "            if BC_settings(edges[0]).fixed_displacement | BC_settings(edges[1]).fixed_displacement:\n",
    "                for i in [0,1]:                 \n",
    "                    if BC_settings(edges[i]).fixed_displacement:\n",
    "                        edges = [edges[i]]\n",
    "                        A_matrix, b_matrix = displacement_point_BCs(A_matrix, b_matrix, k, edges, xy)\n",
    "            else: \n",
    "                A_matrix[k,k] = 4*fac\n",
    "\n",
    "                A_matrix[k,index(k).s] = 2 *fac\n",
    "                A_matrix[k,index(k).e] = 2*fac\n",
    "\n",
    "                A_matrix[k,index(k).se] = -15*fac\n",
    "\n",
    "                A_matrix[k,index(k).dir([\"s\", \"s\"])] = 2 *fac\n",
    "                A_matrix[k,index(k).dir([\"e\", \"e\"])] = 2*fac\n",
    "\n",
    "                A_matrix[k,index(k).dir([\"s\", \"se\"])] = 1*fac\n",
    "                A_matrix[k,index(k).dir([\"se\", \"se\"])] = 1*fac\n",
    "                A_matrix[k,index(k).dir([\"e\", \"se\"])] = 1*fac\n",
    "\n",
    "                b_matrix[k] = 0\n",
    "\n",
    "        elif boundary_point_index().top_right_corner(k):\n",
    "\n",
    "            edges = [\"t\", \"r\"]\n",
    "            \n",
    "            if BC_settings(edges[0]).fixed_displacement | BC_settings(edges[1]).fixed_displacement:\n",
    "                for i in [0,1]:                 \n",
    "                    if BC_settings(edges[i]).fixed_displacement:\n",
    "                        edges = [edges[i]]\n",
    "                        A_matrix, b_matrix = displacement_point_BCs(A_matrix, b_matrix, k, edges, xy)\n",
    "            else: \n",
    "                A_matrix[k,k] = 4*fac\n",
    "\n",
    "                A_matrix[k,index(k).s] = 2 *fac\n",
    "                A_matrix[k,index(k).w] = 2*fac\n",
    "\n",
    "                A_matrix[k,index(k).sw] = -15*fac\n",
    "\n",
    "                A_matrix[k,index(k).dir([\"s\", \"s\"])] = 2 *fac\n",
    "                A_matrix[k,index(k).dir([\"w\", \"w\"])] = 2*fac\n",
    "\n",
    "                A_matrix[k,index(k).dir([\"s\", \"sw\"])] = 1*fac\n",
    "                A_matrix[k,index(k).dir([\"sw\", \"sw\"])] = 1*fac\n",
    "                A_matrix[k,index(k).dir([\"w\", \"sw\"])] = 1*fac\n",
    "\n",
    "                b_matrix[k] = 0      \n",
    "            # # \n",
    "            \n",
    "            # edges = [\"l\"]\n",
    "\n",
    "            # A_matrix[k,k] = 1\n",
    "            # b_matrix[k] = edge_U(edges, xy).BC  \n",
    "\n",
    "        else:\n",
    "\n",
    "            #print(str(k) + \": NO BC Cell\")\n",
    "\n",
    "            b_matrix[k] = (\n",
    "                            A.b_temp(u_old, u_old_old, k, xy)\n",
    "                            +\n",
    "                            A.b_diff(k, xy, u_previous)\n",
    "                        )\n",
    "\n",
    "    return A_matrix, b_matrix\n"
   ]
  },
  {
   "cell_type": "code",
   "execution_count": 209,
   "metadata": {},
   "outputs": [
    {
     "name": "stdout",
     "output_type": "stream",
     "text": [
      "\n",
      "Time = 0.0\n",
      "icorr = 100, Residual = 0.00834770621592163808, normFactor = 0.00003219256247245452, moving average = 18124900183088.57421875000000000000, time = 0.0\n",
      "icorr = 200, Residual = 0.00371801199469193148, normFactor = 0.00006333502696461601, moving average = 0.07399289327483676848, time = 0.0\n",
      "icorr = 300, Residual = 0.00224882790405505923, normFactor = 0.00009264358131476350, moving average = 0.03659495855322060509, time = 0.0\n",
      "icorr = 400, Residual = 0.00154542979987865817, normFactor = 0.00011950760789922695, moving average = 0.02292363809470825825, time = 0.0\n",
      "icorr = 500, Residual = 0.00113934382047827117, normFactor = 0.00014374053498622243, moving average = 0.01606241831657177072, time = 0.0\n",
      "icorr = 600, Residual = 0.00087785179062123289, normFactor = 0.00016541600258489515, moving average = 0.01200530368946382646, time = 0.0\n",
      "icorr = 700, Residual = 0.00069697208982482804, normFactor = 0.00018471973454727529, moving average = 0.00934860930993217272, time = 0.0\n",
      "icorr = 800, Residual = 0.00056540143403296971, normFactor = 0.00020187291277780936, moving average = 0.00748536165792487631, time = 0.0\n",
      "icorr = 900, Residual = 0.00046609275321893556, normFactor = 0.00021709765323247121, moving average = 0.00611380331527051814, time = 0.0\n",
      "icorr = 1000, Residual = 0.00038899852310842484, normFactor = 0.00023060278945771150, moving average = 0.00506784355977325709, time = 0.0\n",
      "icorr = 1100, Residual = 0.00032782383693847304, normFactor = 0.00024257890787811475, moving average = 0.00424865900812530350, time = 0.0\n",
      "icorr = 1200, Residual = 0.00027842819056253195, normFactor = 0.00025319745731694612, moving average = 0.00359373834292804747, time = 0.0\n",
      "icorr = 1300, Residual = 0.00023797788189816246, normFactor = 0.00026261156695596552, moving average = 0.00306155567176054485, time = 0.0\n",
      "icorr = 1400, Residual = 0.00020446858955900816, normFactor = 0.00027095750656532701, moving average = 0.00262340785599619267, time = 0.0\n",
      "icorr = 1500, Residual = 0.00017644272670934896, normFactor = 0.00027835631708320101, moving average = 0.00225879618604522651, time = 0.0\n",
      "icorr = 1600, Residual = 0.00015281493769199084, normFactor = 0.00028491540976455796, moving average = 0.00195267725153010240, time = 0.0\n",
      "icorr = 1700, Residual = 0.00013276042892687836, normFactor = 0.00029073005405770309, moving average = 0.00169375457256837033, time = 0.0\n",
      "icorr = 1800, Residual = 0.00011564125969387231, normFactor = 0.00029588472871007568, moving average = 0.00147337734913942885, time = 0.0\n",
      "icorr = 1900, Residual = 0.00010095635443016340, normFactor = 0.00030045433419621250, moving average = 0.00128480788359690962, time = 0.0\n",
      "icorr = 2000, Residual = 0.00008830678455057280, normFactor = 0.00030450527424022016, moving average = 0.00112272080928704928, time = 0.0\n",
      "icorr = 2100, Residual = 0.00007737113973892168, normFactor = 0.00030809641764843103, moving average = 0.00098285255183772524, time = 0.0\n",
      "icorr = 2200, Residual = 0.00006788772282037717, normFactor = 0.00031127995237248022, moving average = 0.00086175077150905412, time = 0.0\n",
      "icorr = 2300, Residual = 0.00005964145650875757, normFactor = 0.00031410214327406993, moving average = 0.00075659191571154417, time = 0.0\n",
      "icorr = 2400, Residual = 0.00005245410542905707, normFactor = 0.00031660400417237691, moving average = 0.00066504614120979329, time = 0.0\n",
      "icorr = 2500, Residual = 0.00004617687063987159, normFactor = 0.00031882189374584800, moving average = 0.00058517579659982176, time = 0.0\n",
      "icorr = 2600, Residual = 0.00004068470847891266, normFactor = 0.00032078804385927235, moving average = 0.00051535808080893609, time = 0.0\n",
      "icorr = 2700, Residual = 0.00003587192043577486, normFactor = 0.00032253102794813798, moving average = 0.00045422538233033470, time = 0.0\n",
      "icorr = 2800, Residual = 0.00003164869222458757, normFactor = 0.00032407617625764175, moving average = 0.00040061872846954320, time = 0.0\n",
      "icorr = 2900, Residual = 0.00002793835029371470, normFactor = 0.00032544594394970258, moving average = 0.00035355107929251317, time = 0.0\n",
      "icorr = 3000, Residual = 0.00002467516666362438, normFactor = 0.00032666023743637145, moving average = 0.00031217810116217594, time = 0.0\n",
      "icorr = 3100, Residual = 0.00002180258725964446, normFactor = 0.00032773670367221709, moving average = 0.00027577468502313989, time = 0.0\n",
      "icorr = 3200, Residual = 0.00001927179051546585, normFactor = 0.00032869098661015200, moving average = 0.00024371592185014224, time = 0.0\n",
      "icorr = 3300, Residual = 0.00001704050589780404, normFactor = 0.00032953695455195631, moving average = 0.00021546156918224175, time = 0.0\n",
      "icorr = 3400, Residual = 0.00001507203879306653, normFactor = 0.00033028690169009222, moving average = 0.00019054327651209073, time = 0.0\n",
      "icorr = 3500, Residual = 0.00001333446050635361, normFactor = 0.00033095172677663839, moving average = 0.00016855400922733175, time = 0.0\n",
      "icorr = 3600, Residual = 0.00001179993145346005, normFactor = 0.00033154109151059904, moving average = 0.00014913923843207563, time = 0.0\n",
      "icorr = 3700, Residual = 0.00001044413250564272, normFactor = 0.00033206356094946603, moving average = 0.00013198955979303080, time = 0.0\n",
      "icorr = 3800, Residual = 0.00000924578481585847, normFactor = 0.00033252672798067697, moving average = 0.00011683447692916923, time = 0.0\n",
      "icorr = 3900, Residual = 0.00000818624245111557, normFactor = 0.00033293732366949464, moving average = 0.00010343714012323084, time = 0.0\n",
      "icorr = 4000, Residual = 0.00000724914532723223, normFactor = 0.00033330131507698304, moving average = 0.00009158987365024174, time = 0.0\n",
      "icorr = 4100, Residual = 0.00000642012236386554, normFactor = 0.00033362399197848938, moving average = 0.00008111035793586022, time = 0.0\n",
      "icorr = 4200, Residual = 0.00000568653667177969, normFactor = 0.00033391004373862804, moving average = 0.00007183835845909929, time = 0.0\n",
      "icorr = 4300, Residual = 0.00000503726613420420, normFactor = 0.00033416362746016201, moving average = 0.00006363291351294719, time = 0.0\n",
      "icorr = 4400, Residual = 0.00000446251387685996, normFactor = 0.00033438842839756576, moving average = 0.00005636990893963499, time = 0.0\n",
      "icorr = 4500, Residual = 0.00000395364414452309, normFactor = 0.00033458771351367052, moving average = 0.00004993998066393846, time = 0.0\n",
      "icorr = 4600, Residual = 0.00000350303980924159, normFactor = 0.00033476437895833897, moving average = 0.00004424669608006787, time = 0.0\n",
      "icorr = 4700, Residual = 0.00000310397839994456, normFactor = 0.00033492099215626421, moving average = 0.00003920497356611349, time = 0.0\n",
      "icorr = 4800, Residual = 0.00000275052402893764, normFactor = 0.00033505982911899115, moving average = 0.00003473970604713700, time = 0.0\n",
      "icorr = 4900, Residual = 0.00000243743301104992, normFactor = 0.00033518290752129054, moving average = 0.00003078456003820710, time = 0.0\n",
      "icorr = 5000, Residual = 0.00000216007130085052, normFactor = 0.00033529201602436261, moving average = 0.00002728092596886261, time = 0.0\n",
      "icorr = 5100, Residual = 0.00000191434217436206, normFactor = 0.00033538874026797219, moving average = 0.00002417699937779992, time = 0.0\n",
      "icorr = 5200, Residual = 0.00000169662278867609, normFactor = 0.00033547448591686338, moving average = 0.00002142697552576892, time = 0.0\n",
      "icorr = 5300, Residual = 0.00000150370848222422, normFactor = 0.00033555049908542316, moving average = 0.00001899034257231848, time = 0.0\n",
      "icorr = 5400, Residual = 0.00000133276380496972, normFactor = 0.00033561788445010687, moving average = 0.00001683126057535979, time = 0.0\n",
      "icorr = 5500, Residual = 0.00000118127943404245, normFactor = 0.00033567762130181148, moving average = 0.00001491801534272539, time = 0.0\n",
      "icorr = 5600, Residual = 0.00000104703423112512, normFactor = 0.00033573057777765099, moving average = 0.00001322253771388303, time = 0.0\n",
      "icorr = 5700, Residual = 0.00000092806181336860, normFactor = 0.00033577752347813898, moving average = 0.00001171998007356724, time = 0.0\n",
      "icorr = 5800, Residual = 0.00000082262106319123, normFactor = 0.00033581914065030548, moving average = 0.00001038834304778803, time = 0.0\n",
      "icorr = 5900, Residual = 0.00000072917011791905, normFactor = 0.00033585603410445704, moving average = 0.00000920814620383757, time = 0.0\n",
      "icorr = 6000, Residual = 0.00000064634340127299, normFactor = 0.00033588874000120767, moving average = 0.00000816213744092213, time = 0.0\n",
      "icorr = 6100, Residual = 0.00000057293134086693, normFactor = 0.00033591773364561239, moving average = 0.00000723503635968621, time = 0.0\n",
      "icorr = 6200, Residual = 0.00000050786244281941, normFactor = 0.00033594343639357048, moving average = 0.00000641330756400474, time = 0.0\n",
      "icorr = 6300, Residual = 0.00000045018745521119, normFactor = 0.00033596622177490567, moving average = 0.00000568496032447321, time = 0.0\n",
      "icorr = 6400, Residual = 0.00000039906535461963, normFactor = 0.00033598642092275550, moving average = 0.00000503937145156318, time = 0.0\n",
      "icorr = 6500, Residual = 0.00000035375095907118, normFactor = 0.00033600432738515663, moving average = 0.00000446712868095585, time = 0.0\n",
      "icorr = 6600, Residual = 0.00000031358397103755, normFactor = 0.00033602020139107002, moving average = 0.00000395989211810027, time = 0.0\n",
      "icorr = 6700, Residual = 0.00000027797927353808, normFactor = 0.00033603427363310329, moving average = 0.00000351027165590473, time = 0.0\n",
      "icorr = 6800, Residual = 0.00000024641834590718, normFactor = 0.00033604674861805551, moving average = 0.00000311171848508303, time = 0.0\n",
      "icorr = 6900, Residual = 0.00000021844167232593, normFactor = 0.00033605780764146370, moving average = 0.00000275842907847372, time = 0.0\n",
      "icorr = 7000, Residual = 0.00000019364200500983, normFactor = 0.00033606761142085243, moving average = 0.00000244526016696857, time = 0.0\n",
      "icorr = 7100, Residual = 0.00000017165841023268, normFactor = 0.00033607630243135246, moving average = 0.00000216765347481837, time = 0.0\n",
      "icorr = 7200, Residual = 0.00000015217099397801, normFactor = 0.00033608400697691091, moving average = 0.00000192156906235377, time = 0.0\n",
      "icorr = 7300, Residual = 0.00000013489622562117, normFactor = 0.00033609083702510736, moving average = 0.00000170342627760613, time = 0.0\n",
      "icorr = 7400, Residual = 0.00000011958280015684, normFactor = 0.00033609689183505500, moving average = 0.00000151005148686571, time = 0.0\n",
      "icorr = 7500, Residual = 0.00000010600797271479, normFactor = 0.00033610225939927855, moving average = 0.00000133863172644422, time = 0.0\n",
      "icorr = 7600, Residual = 0.00000009397430714935, normFactor = 0.00033610701772328441, moving average = 0.00000118667368361771, time = 0.0\n",
      "icorr = 7700, Residual = 0.00000008330679508299, normFactor = 0.00033611123595808488, moving average = 0.00000105196732896963, time = 0.0\n",
      "icorr = 7800, Residual = 0.00000007385031245665, normFactor = 0.00033611497540611020, moving average = 0.00000093255370487360, time = 0.0\n",
      "icorr = 7900, Residual = 0.00000006546735552630, normFactor = 0.00033611829041156632, moving average = 0.00000082669637937075, time = 0.0\n",
      "icorr = 8000, Residual = 0.00000005803603741928, normFactor = 0.00033612122915043028, moving average = 0.00000073285615086795, time = 0.0\n",
      "icorr = 8100, Residual = 0.00000005144831315724, normFactor = 0.00033612383433051144, moving average = 0.00000064966863272204, time = 0.0\n",
      "icorr = 8200, Residual = 0.00000004560840588630, normFactor = 0.00033612614381204605, moving average = 0.00000057592438423357, time = 0.0\n",
      "icorr = 8300, Residual = 0.00000004043142004375, normFactor = 0.00033612819115807211, moving average = 0.00000051055131077152, time = 0.0\n",
      "icorr = 8400, Residual = 0.00000003584209594732, normFactor = 0.00033613000612177645, moving average = 0.00000045259905568785, time = 0.0\n",
      "icorr = 8500, Residual = 0.00000003177371978361, normFactor = 0.00033613161507991158, moving average = 0.00000040122517566984, time = 0.0\n",
      "icorr = 8600, Residual = 0.00000002816715374820, normFactor = 0.00033613304141466067, moving average = 0.00000035568287841395, time = 0.0\n",
      "icorr = 8700, Residual = 0.00000002496997378240, normFactor = 0.00033613430585466313, moving average = 0.00000031531016221517, time = 0.0\n",
      "icorr = 8800, Residual = 0.00000002213570671600, normFactor = 0.00033613542677571047, moving average = 0.00000027952018036097, time = 0.0\n",
      "icorr = 8900, Residual = 0.00000001962315616830, normFactor = 0.00033613642046723396, moving average = 0.00000024779272405236, time = 0.0\n",
      "icorr = 9000, Residual = 0.00000001739580118546, normFactor = 0.00033613730137106680, moving average = 0.00000021966662782609, time = 0.0\n",
      "icorr = 9100, Residual = 0.00000001542127203991, normFactor = 0.00033613808228866133, moving average = 0.00000019473309064259, time = 0.0\n",
      "icorr = 9200, Residual = 0.00000001367086701250, normFactor = 0.00033613877456885468, moving average = 0.00000017262971288496, time = 0.0\n",
      "icorr = 9300, Residual = 0.00000001211914583920, normFactor = 0.00033613938827271037, moving average = 0.00000015303523963229, time = 0.0\n",
      "icorr = 9400, Residual = 0.00000001074355554089, normFactor = 0.00033613993231829575, moving average = 0.00000013566488357267, time = 0.0\n",
      "icorr = 9500, Residual = 0.00000000952410469380, normFactor = 0.00033614041461269586, moving average = 0.00000012026618361876, time = 0.0\n",
      "icorr = 9600, Residual = 0.00000000844306934829, normFactor = 0.00033614084216464072, moving average = 0.00000010661533736261, time = 0.0\n",
      "icorr = 9700, Residual = 0.00000000748473808448, normFactor = 0.00033614122118787680, moving average = 0.00000009451395011035, time = 0.0\n",
      "icorr = 9800, Residual = 0.00000000663518363462, normFactor = 0.00033614155719020910, moving average = 0.00000008378614382504, time = 0.0\n",
      "icorr = 9900, Residual = 0.00000000588205787572, normFactor = 0.00033614185505501147, moving average = 0.00000007427600403787, time = 0.0\n",
      "icorr = 10000, Residual = 0.00000000521441567155, normFactor = 0.00033614211911107750, moving average = 0.00000006584532054113, time = 0.0\n",
      "icorr = 10100, Residual = 0.00000000462255578211, normFactor = 0.00033614235319554691, moving average = 0.00000005837156632646, time = 0.0\n",
      "icorr = 10200, Residual = 0.00000000409787411118, normFactor = 0.00033614256071042156, moving average = 0.00000005174612062770, time = 0.0\n",
      "icorr = 10300, Residual = 0.00000000363274707840, normFactor = 0.00033614274467161560, moving average = 0.00000004587269992082, time = 0.0\n",
      "icorr = 10400, Residual = 0.00000000322041361296, normFactor = 0.00033614290775245366, moving average = 0.00000004066594026916, time = 0.0\n",
      "icorr = 10500, Residual = 0.00000000285488303948, normFactor = 0.00033614305232287385, moving average = 0.00000003605017397868, time = 0.0\n",
      "icorr = 10600, Residual = 0.00000000253084132887, normFactor = 0.00033614318048406266, moving average = 0.00000003195831953478, time = 0.0\n",
      "icorr = 10700, Residual = 0.00000000224357932285, normFactor = 0.00033614329409839718, moving average = 0.00000002833091027821, time = 0.0\n",
      "icorr = 10800, Residual = 0.00000000198892310322, normFactor = 0.00033614339481701882, moving average = 0.00000002511522927251, time = 0.0\n",
      "icorr = 10900, Residual = 0.00000000176317220064, normFactor = 0.00033614348410384426, moving average = 0.00000002226454202573, time = 0.0\n",
      "icorr = 11000, Residual = 0.00000000156304397140, normFactor = 0.00033614356325616633, moving average = 0.00000001973742017751, time = 0.0\n",
      "icorr = 11100, Residual = 0.00000000138563246007, normFactor = 0.00033614363342430851, moving average = 0.00000001749713996388, time = 0.0\n",
      "icorr = 11200, Residual = 0.00000000122835761000, normFactor = 0.00033614369562796312, moving average = 0.00000001551114046945, time = 0.0\n",
      "icorr = 11300, Residual = 0.00000000108893334730, normFactor = 0.00033614375077139347, moving average = 0.00000001375055921204, time = 0.0\n",
      "icorr = 11400, Residual = 0.00000000096533436499, normFactor = 0.00033614379965573541, moving average = 0.00000001218981335767, time = 0.0\n",
      "icorr = 11500, Residual = 0.00000000085576504711, normFactor = 0.00033614384299158155, moving average = 0.00000001080621801790, time = 0.0\n",
      "icorr = 11600, Residual = 0.00000000075863247163, normFactor = 0.00033614388140859581, moving average = 0.00000000957966802472, time = 0.0\n",
      "icorr = 11700, Residual = 0.00000000067252479613, normFactor = 0.00033614391546517351, moving average = 0.00000000849233543364, time = 0.0\n",
      "icorr = 11800, Residual = 0.00000000059618972015, normFactor = 0.00033614394565627053, moving average = 0.00000000752841983207, time = 0.0\n",
      "icorr = 11900, Residual = 0.00000000052852069627, normFactor = 0.00033614397242042322, moving average = 0.00000000667391299634, time = 0.0\n",
      "icorr = 12000, Residual = 0.00000000046853087896, normFactor = 0.00033614399614674214, moving average = 0.00000000591639698384, time = 0.0\n",
      "icorr = 12100, Residual = 0.00000000041535028455, normFactor = 0.00033614401718000083, moving average = 0.00000000524486108182, time = 0.0\n",
      "icorr = 12200, Residual = 0.00000000036820705321, normFactor = 0.00033614403582615533, moving average = 0.00000000464954676861, time = 0.0\n",
      "icorr = 12300, Residual = 0.00000000032641412321, normFactor = 0.00033614405235552879, moving average = 0.00000000412180564119, time = 0.0\n",
      "icorr = 12400, Residual = 0.00000000028936480716, normFactor = 0.00033614406700890214, moving average = 0.00000000365396292100, time = 0.0\n",
      "icorr = 12500, Residual = 0.00000000025652034560, normFactor = 0.00033614407999898251, moving average = 0.00000000323922335385, time = 0.0\n",
      "icorr = 12600, Residual = 0.00000000022740399500, normFactor = 0.00033614409151482743, moving average = 0.00000000287155802622, time = 0.0\n",
      "icorr = 12700, Residual = 0.00000000020159251413, normFactor = 0.00033614410172363654, moving average = 0.00000000254562518876, time = 0.0\n",
      "icorr = 12800, Residual = 0.00000000017871188873, normFactor = 0.00033614411077348920, moving average = 0.00000000225668549426, time = 0.0\n",
      "icorr = 12900, Residual = 0.00000000015842705137, normFactor = 0.00033614411879617507, moving average = 0.00000000200054150105, time = 0.0\n",
      "icorr = 13000, Residual = 0.00000000014044426497, normFactor = 0.00033614412590820641, moving average = 0.00000000177347392794, time = 0.0\n",
      "icorr = 13100, Residual = 0.00000000012450438357, normFactor = 0.00033614413221325431, moving average = 0.00000000157217614623, time = 0.0\n",
      "icorr = 13200, Residual = 0.00000000011037191567, normFactor = 0.00033614413780229000, moving average = 0.00000000139372739110, time = 0.0\n",
      "icorr = 13300, Residual = 0.00000000009784409166, normFactor = 0.00033614414275711350, moving average = 0.00000000123553488319, time = 0.0\n",
      "icorr = 13400, Residual = 0.00000000008673880660, normFactor = 0.00033614414714951070, moving average = 0.00000000109529534535, time = 0.0\n",
      "icorr = 13500, Residual = 0.00000000007689425175, normFactor = 0.00033614415104355134, moving average = 0.00000000097097616985, time = 0.0\n",
      "icorr = 13600, Residual = 0.00000000006816598950, normFactor = 0.00033614415449539074, moving average = 0.00000000086076614589, time = 0.0\n",
      "icorr = 13700, Residual = 0.00000000006042865575, normFactor = 0.00033614415755538597, moving average = 0.00000000076306605815, time = 0.0\n",
      "icorr = 13800, Residual = 0.00000000005356973974, normFactor = 0.00033614416026819268, moving average = 0.00000000067645446514, time = 0.0\n",
      "icorr = 13900, Residual = 0.00000000004748941445, normFactor = 0.00033614416267302883, moving average = 0.00000000059967400206, time = 0.0\n",
      "icorr = 14000, Residual = 0.00000000004209894534, normFactor = 0.00033614416480496045, moving average = 0.00000000053160745984, time = 0.0\n",
      "icorr = 14100, Residual = 0.00000000003732116972, normFactor = 0.00033614416669488600, moving average = 0.00000000047126865429, time = 0.0\n",
      "icorr = 14200, Residual = 0.00000000003308501091, normFactor = 0.00033614416837040987, moving average = 0.00000000041777831532, time = 0.0\n",
      "icorr = 14300, Residual = 0.00000000002932983574, normFactor = 0.00033614416985532097, moving average = 0.00000000037035849404, time = 0.0\n",
      "icorr = 14400, Residual = 0.00000000002600071917, normFactor = 0.00033614417117219374, moving average = 0.00000000032832192611, time = 0.0\n",
      "icorr = 14500, Residual = 0.00000000002305033306, normFactor = 0.00033614417233941533, moving average = 0.00000000029105498679, time = 0.0\n",
      "icorr = 14600, Residual = 0.00000000002043320873, normFactor = 0.00033614417337408156, moving average = 0.00000000025801934295, time = 0.0\n",
      "icorr = 14700, Residual = 0.00000000001811464061, normFactor = 0.00033614417429143515, moving average = 0.00000000022873415313, time = 0.0\n",
      "icorr = 14800, Residual = 0.00000000001605926976, normFactor = 0.00033614417510461714, moving average = 0.00000000020277237918, time = 0.0\n",
      "icorr = 14900, Residual = 0.00000000001423558211, normFactor = 0.00033614417582555005, moving average = 0.00000000017975504100, time = 0.0\n",
      "icorr = 15000, Residual = 0.00000000001261955458, normFactor = 0.00033614417646446026, moving average = 0.00000000015935350780, time = 0.0\n",
      "icorr = 15100, Residual = 0.00000000001119229447, normFactor = 0.00033614417703085501, moving average = 0.00000000014126622009, time = 0.0\n",
      "icorr = 15200, Residual = 0.00000000000991794728, normFactor = 0.00033614417753316159, moving average = 0.00000000012523048404, time = 0.0\n",
      "icorr = 15300, Residual = 0.00000000000879179254, normFactor = 0.00033614417797846093, moving average = 0.00000000011101778375, time = 0.0\n",
      "icorr = 15400, Residual = 0.00000000000779765661, normFactor = 0.00033614417837306764, moving average = 0.00000000009841642648, time = 0.0\n",
      "icorr = 15500, Residual = 0.00000000000690964560, normFactor = 0.00033614417872304355, moving average = 0.00000000008724681016, time = 0.0\n",
      "icorr = 15600, Residual = 0.00000000000612664506, normFactor = 0.00033614417903299505, moving average = 0.00000000007734391920, time = 0.0\n",
      "icorr = 15700, Residual = 0.00000000000543004480, normFactor = 0.00033614417930805823, moving average = 0.00000000006856363194, time = 0.0\n",
      "icorr = 15800, Residual = 0.00000000000481392599, normFactor = 0.00033614417955182303, moving average = 0.00000000006078283559, time = 0.0\n",
      "icorr = 15900, Residual = 0.00000000000426732259, normFactor = 0.00033614417976783172, moving average = 0.00000000005388274550, time = 0.0\n",
      "icorr = 16000, Residual = 0.00000000000378387415, normFactor = 0.00033614417995955217, moving average = 0.00000000004776946363, time = 0.0\n",
      "icorr = 16100, Residual = 0.00000000000335889434, normFactor = 0.00033614418012948438, moving average = 0.00000000004234689772, time = 0.0\n",
      "icorr = 16200, Residual = 0.00000000000297946052, normFactor = 0.00033614418027987818, moving average = 0.00000000003753979316, time = 0.0\n",
      "icorr = 16300, Residual = 0.00000000000263764289, normFactor = 0.00033614418041323196, moving average = 0.00000000003327943509, time = 0.0\n",
      "icorr = 16400, Residual = 0.00000000000235296584, normFactor = 0.00033614418053154709, moving average = 0.00000000002950252009, time = 0.0\n",
      "icorr = 16500, Residual = 0.00000000000207115245, normFactor = 0.00033614418063644105, moving average = 0.00000000002615307107, time = 0.0\n",
      "icorr = 16600, Residual = 0.00000000000185144285, normFactor = 0.00033614418072931977, moving average = 0.00000000002318717241, time = 0.0\n",
      "icorr = 16700, Residual = 0.00000000000164570245, normFactor = 0.00033614418081174288, moving average = 0.00000000002055654653, time = 0.0\n",
      "icorr = 16800, Residual = 0.00000000000146177923, normFactor = 0.00033614418088501787, moving average = 0.00000000001822266962, time = 0.0\n",
      "icorr = 16900, Residual = 0.00000000000127981016, normFactor = 0.00033614418094977380, moving average = 0.00000000001615442838, time = 0.0\n",
      "icorr = 17000, Residual = 0.00000000000113591656, normFactor = 0.00033614418100722199, moving average = 0.00000000001432344721, time = 0.0\n",
      "icorr = 17100, Residual = 0.00000000000100969721, normFactor = 0.00033614418105814919, moving average = 0.00000000001269713560, time = 0.0\n",
      "icorr = 17200, Residual = 0.00000000000089162755, normFactor = 0.00033614418110313170, moving average = 0.00000000001125845579, time = 0.0\n",
      "icorr = 17300, Residual = 0.00000000000079441917, normFactor = 0.00033614418114312765, moving average = 0.00000000000997972875, time = 0.0\n",
      "icorr = 17400, Residual = 0.00000000000070335840, normFactor = 0.00033614418117856144, moving average = 0.00000000000884757718, time = 0.0\n",
      "icorr = 17500, Residual = 0.00000000000063671901, normFactor = 0.00033614418121006797, moving average = 0.00000000000784894700, time = 0.0\n",
      "icorr = 17600, Residual = 0.00000000000058135615, normFactor = 0.00033614418123800640, moving average = 0.00000000000695933065, time = 0.0\n",
      "icorr = 17700, Residual = 0.00000000000053715999, normFactor = 0.00033614418126260120, moving average = 0.00000000000616742491, time = 0.0\n",
      "icorr = 17800, Residual = 0.00000000000049309678, normFactor = 0.00033614418128468282, moving average = 0.00000000000547254091, time = 0.0\n",
      "icorr = 17900, Residual = 0.00000000000039245203, normFactor = 0.00033614418130381774, moving average = 0.00000000000485434701, time = 0.0\n",
      "icorr = 18000, Residual = 0.00000000000042146317, normFactor = 0.00033614418132102761, moving average = 0.00000000000430210107, time = 0.0\n",
      "icorr = 18100, Residual = 0.00000000000030991089, normFactor = 0.00033614418133641515, moving average = 0.00000000000381877780, time = 0.0\n",
      "icorr = 18200, Residual = 0.00000000000028293087, normFactor = 0.00033614418135008943, moving average = 0.00000000000339252495, time = 0.0\n",
      "icorr = 18300, Residual = 0.00000000000024401996, normFactor = 0.00033614418136196231, moving average = 0.00000000000300471315, time = 0.0\n",
      "icorr = 18400, Residual = 0.00000000000021210104, normFactor = 0.00033614418137253502, moving average = 0.00000000000266582522, time = 0.0\n",
      "icorr = 18500, Residual = 0.00000000000023405354, normFactor = 0.00033614418138208684, moving average = 0.00000000000236956614, time = 0.0\n",
      "icorr = 18600, Residual = 0.00000000000021511723, normFactor = 0.00033614418139030721, moving average = 0.00000000000210581866, time = 0.0\n",
      "icorr = 18700, Residual = 0.00000000000014932212, normFactor = 0.00033614418139789245, moving average = 0.00000000000187426363, time = 0.0\n",
      "icorr = 18800, Residual = 0.00000000000015912635, normFactor = 0.00033614418140421622, moving average = 0.00000000000166454545, time = 0.0\n",
      "icorr = 18900, Residual = 0.00000000000017364228, normFactor = 0.00033614418141006446, moving average = 0.00000000000148187895, time = 0.0\n",
      "icorr = 19000, Residual = 0.00000000000022360679, normFactor = 0.00033614418141528544, moving average = 0.00000000000130864991, time = 0.0\n",
      "icorr = 19100, Residual = 0.00000000000009226968, normFactor = 0.00033614418141992040, moving average = 0.00000000000116953646, time = 0.0\n",
      "icorr = 19200, Residual = 0.00000000000017929577, normFactor = 0.00033614418142372009, moving average = 0.00000000000103679430, time = 0.0\n",
      "icorr = 19300, Residual = 0.00000000000008753693, normFactor = 0.00033614418142756587, moving average = 0.00000000000092489720, time = 0.0\n",
      "icorr = 19400, Residual = 0.00000000000025419368, normFactor = 0.00033614418143055453, moving average = 0.00000000000083389602, time = 0.0\n",
      "icorr = 19500, Residual = 0.00000000000019712275, normFactor = 0.00033614418143343590, moving average = 0.00000000000074379825, time = 0.0\n",
      "icorr = 19600, Residual = 0.00000000000014543692, normFactor = 0.00033614418143611643, moving average = 0.00000000000065588324, time = 0.0\n",
      "icorr = 19700, Residual = 0.00000000000015009128, normFactor = 0.00033614418143840144, moving average = 0.00000000000058814621, time = 0.0\n",
      "icorr = 19800, Residual = 0.00000000000023155258, normFactor = 0.00033614418144024231, moving average = 0.00000000000053942221, time = 0.0\n",
      "icorr = 19900, Residual = 0.00000000000016237981, normFactor = 0.00033614418144192754, moving average = 0.00000000000048366549, time = 0.0\n",
      "icorr = 20000, Residual = 0.00000000000005931313, normFactor = 0.00033614418144353915, moving average = 0.00000000000043541601, time = 0.0\n",
      "icorr = 20100, Residual = 0.00000000000007824034, normFactor = 0.00033614418144481574, moving average = 0.00000000000038911839, time = 0.0\n",
      "icorr = 20200, Residual = 0.00000000000030702834, normFactor = 0.00033614418144588558, moving average = 0.00000000000034639258, time = 0.0\n",
      "icorr = 20300, Residual = 0.00000000000019277502, normFactor = 0.00033614418144730523, moving average = 0.00000000000031984565, time = 0.0\n",
      "icorr = 20400, Residual = 0.00000000000018400868, normFactor = 0.00033614418144810662, moving average = 0.00000000000030852799, time = 0.0\n",
      "icorr = 20500, Residual = 0.00000000000019942301, normFactor = 0.00033614418144892324, moving average = 0.00000000000025463666, time = 0.0\n",
      "icorr = 20600, Residual = 0.00000000000012763610, normFactor = 0.00033614418144988346, moving average = 0.00000000000023275801, time = 0.0\n",
      "icorr = 20700, Residual = 0.00000000000025064658, normFactor = 0.00033614418145051480, moving average = 0.00000000000021690105, time = 0.0\n",
      "icorr = 20800, Residual = 0.00000000000007322151, normFactor = 0.00033614418145101304, moving average = 0.00000000000018344023, time = 0.0\n",
      "icorr = 20900, Residual = 0.00000000000016449993, normFactor = 0.00033614418145147280, moving average = 0.00000000000019159024, time = 0.0\n",
      "icorr = 21000, Residual = 0.00000000000007690363, normFactor = 0.00033614418145202363, moving average = 0.00000000000015968518, time = 0.0\n",
      "icorr = 21100, Residual = 0.00000000000012384381, normFactor = 0.00033614418145239193, moving average = 0.00000000000016117975, time = 0.0\n",
      "icorr = 21200, Residual = 0.00000000000019882634, normFactor = 0.00033614418145282019, moving average = 0.00000000000014685024, time = 0.0\n",
      "icorr = 21300, Residual = 0.00000000000003324222, normFactor = 0.00033614418145307823, moving average = 0.00000000000013469846, time = 0.0\n",
      "icorr = 21400, Residual = 0.00000000000005105906, normFactor = 0.00033614418145341265, moving average = 0.00000000000010917223, time = 0.0\n",
      "icorr = 21500, Residual = 0.00000000000026342558, normFactor = 0.00033614418145379483, moving average = 0.00000000000011776503, time = 0.0\n",
      "icorr = 21600, Residual = 0.00000000000003049450, normFactor = 0.00033614418145379809, moving average = 0.00000000000011889006, time = 0.0\n",
      "icorr = 21700, Residual = 0.00000000000001841555, normFactor = 0.00033614418145402674, moving average = 0.00000000000010102792, time = 0.0\n",
      "icorr = 21800, Residual = 0.00000000000019618250, normFactor = 0.00033614418145419523, moving average = 0.00000000000010016555, time = 0.0\n",
      "icorr = 21900, Residual = 0.00000000000007695008, normFactor = 0.00033614418145437255, moving average = 0.00000000000008582333, time = 0.0\n",
      "icorr = 22000, Residual = 0.00000000000003235149, normFactor = 0.00033614418145440768, moving average = 0.00000000000008950522, time = 0.0\n",
      "icorr = 22100, Residual = 0.00000000000005526416, normFactor = 0.00033614418145453540, moving average = 0.00000000000007803458, time = 0.0\n",
      "icorr = 22200, Residual = 0.00000000000012740824, normFactor = 0.00033614418145475733, moving average = 0.00000000000008088195, time = 0.0\n",
      "icorr = 22300, Residual = 0.00000000000014478782, normFactor = 0.00033614418145467537, moving average = 0.00000000000007922822, time = 0.0\n",
      "icorr = 22400, Residual = 0.00000000000004708481, normFactor = 0.00033614418145494013, moving average = 0.00000000000007042335, time = 0.0\n",
      "icorr = 22500, Residual = 0.00000000000001593310, normFactor = 0.00033614418145493731, moving average = 0.00000000000006517291, time = 0.0\n",
      "icorr = 22600, Residual = 0.00000000000015557916, normFactor = 0.00033614418145499065, moving average = 0.00000000000007067490, time = 0.0\n",
      "icorr = 22700, Residual = 0.00000000000007024534, normFactor = 0.00033614418145499938, moving average = 0.00000000000006331331, time = 0.0\n",
      "icorr = 22800, Residual = 0.00000000000020815433, normFactor = 0.00033614418145525590, moving average = 0.00000000000006615186, time = 0.0\n",
      "icorr = 22900, Residual = 0.00000000000006156588, normFactor = 0.00033614418145526940, moving average = 0.00000000000006704752, time = 0.0\n",
      "icorr = 23000, Residual = 0.00000000000019259522, normFactor = 0.00033614418145534811, moving average = 0.00000000000006936089, time = 0.0\n",
      "icorr = 23100, Residual = 0.00000000000018422084, normFactor = 0.00033614418145516456, moving average = 0.00000000000005805028, time = 0.0\n",
      "icorr = 23200, Residual = 0.00000000000020357565, normFactor = 0.00033614418145515632, moving average = 0.00000000000005786852, time = 0.0\n",
      "icorr = 23300, Residual = 0.00000000000007807678, normFactor = 0.00033614418145539262, moving average = 0.00000000000007016210, time = 0.0\n",
      "icorr = 23400, Residual = 0.00000000000009626300, normFactor = 0.00033614418145539197, moving average = 0.00000000000005599872, time = 0.0\n",
      "icorr = 23500, Residual = 0.00000000000027570053, normFactor = 0.00033614418145517844, moving average = 0.00000000000007350310, time = 0.0\n",
      "icorr = 23600, Residual = 0.00000000000029177923, normFactor = 0.00033614418145551438, moving average = 0.00000000000006407310, time = 0.0\n",
      "icorr = 23700, Residual = 0.00000000000001132191, normFactor = 0.00033614418145541051, moving average = 0.00000000000005316120, time = 0.0\n",
      "icorr = 23800, Residual = 0.00000000000023207728, normFactor = 0.00033614418145526940, moving average = 0.00000000000005896580, time = 0.0\n",
      "icorr = 23900, Residual = 0.00000000000001816642, normFactor = 0.00033614418145554566, moving average = 0.00000000000005194817, time = 0.0\n",
      "icorr = 24000, Residual = 0.00000000000018360553, normFactor = 0.00033614418145532898, moving average = 0.00000000000004687042, time = 0.0\n",
      "icorr = 24100, Residual = 0.00000000000023443849, normFactor = 0.00033614418145552527, moving average = 0.00000000000005451712, time = 0.0\n",
      "icorr = 24200, Residual = 0.00000000000002957230, normFactor = 0.00033614418145544098, moving average = 0.00000000000006358342, time = 0.0\n",
      "icorr = 24300, Residual = 0.00000000000001514316, normFactor = 0.00033614418145549356, moving average = 0.00000000000005676346, time = 0.0\n",
      "icorr = 24400, Residual = 0.00000000000010176297, normFactor = 0.00033614418145555032, moving average = 0.00000000000006464650, time = 0.0\n",
      "icorr = 24500, Residual = 0.00000000000030947644, normFactor = 0.00033614418145565158, moving average = 0.00000000000005957134, time = 0.0\n",
      "icorr = 24600, Residual = 0.00000000000003059331, normFactor = 0.00033614418145562095, moving average = 0.00000000000004714742, time = 0.0\n",
      "icorr = 24700, Residual = 0.00000000000004943773, normFactor = 0.00033614418145552592, moving average = 0.00000000000006153129, time = 0.0\n",
      "icorr = 24800, Residual = 0.00000000000005807197, normFactor = 0.00033614418145551785, moving average = 0.00000000000005093263, time = 0.0\n",
      "icorr = 24900, Residual = 0.00000000000009838862, normFactor = 0.00033614418145562155, moving average = 0.00000000000005590918, time = 0.0\n",
      "icorr = 25000, Residual = 0.00000000000006408188, normFactor = 0.00033614418145547567, moving average = 0.00000000000005725117, time = 0.0\n",
      "icorr = 25100, Residual = 0.00000000000013127048, normFactor = 0.00033614418145559965, moving average = 0.00000000000005816458, time = 0.0\n",
      "icorr = 25200, Residual = 0.00000000000006109444, normFactor = 0.00033614418145555249, moving average = 0.00000000000005243566, time = 0.0\n",
      "icorr = 25300, Residual = 0.00000000000016400196, normFactor = 0.00033614418145563434, moving average = 0.00000000000005353349, time = 0.0\n",
      "icorr = 25400, Residual = 0.00000000000018753046, normFactor = 0.00033614418145557677, moving average = 0.00000000000005984949, time = 0.0\n",
      "icorr = 25500, Residual = 0.00000000000024014112, normFactor = 0.00033614418145540411, moving average = 0.00000000000006090804, time = 0.0\n",
      "icorr = 25600, Residual = 0.00000000000009664121, normFactor = 0.00033614418145554923, moving average = 0.00000000000005881809, time = 0.0\n",
      "icorr = 25700, Residual = 0.00000000000005579998, normFactor = 0.00033614418145557195, moving average = 0.00000000000006350151, time = 0.0\n"
     ]
    },
    {
     "data": {
      "application/vnd.plotly.v1+json": {
       "config": {
        "plotlyServerURL": "https://plot.ly"
       },
       "data": [
        {
         "type": "surface",
         "x": [
          [
           0,
           0.02,
           0.06,
           0.09999999999999999,
           0.13999999999999999,
           0.17999999999999997,
           0.21999999999999995,
           0.25999999999999995,
           0.3,
           0.33999999999999997,
           0.37999999999999995,
           0.41999999999999993,
           0.45999999999999996,
           0.49999999999999994,
           0.5399999999999999,
           0.58,
           0.6199999999999999,
           0.6599999999999999,
           0.7,
           0.7399999999999999,
           0.7799999999999999,
           0.8199999999999998,
           0.8599999999999999,
           0.8999999999999999,
           0.9399999999999998,
           0.9799999999999999,
           1.0199999999999998,
           1.0599999999999998,
           1.0999999999999999,
           1.14,
           1.18,
           1.2199999999999998,
           1.2599999999999998,
           1.2999999999999998,
           1.3399999999999999,
           1.38,
           1.4199999999999997,
           1.4599999999999997,
           1.4999999999999998,
           1.5399999999999998,
           1.5799999999999998,
           1.6199999999999997,
           1.6599999999999997,
           1.6999999999999997,
           1.7399999999999998,
           1.7799999999999998,
           1.8199999999999998,
           1.8599999999999997,
           1.8999999999999997,
           1.9399999999999997,
           1.9799999999999998,
           2
          ],
          [
           0,
           0.02,
           0.06,
           0.09999999999999999,
           0.13999999999999999,
           0.17999999999999997,
           0.21999999999999995,
           0.25999999999999995,
           0.3,
           0.33999999999999997,
           0.37999999999999995,
           0.41999999999999993,
           0.45999999999999996,
           0.49999999999999994,
           0.5399999999999999,
           0.58,
           0.6199999999999999,
           0.6599999999999999,
           0.7,
           0.7399999999999999,
           0.7799999999999999,
           0.8199999999999998,
           0.8599999999999999,
           0.8999999999999999,
           0.9399999999999998,
           0.9799999999999999,
           1.0199999999999998,
           1.0599999999999998,
           1.0999999999999999,
           1.14,
           1.18,
           1.2199999999999998,
           1.2599999999999998,
           1.2999999999999998,
           1.3399999999999999,
           1.38,
           1.4199999999999997,
           1.4599999999999997,
           1.4999999999999998,
           1.5399999999999998,
           1.5799999999999998,
           1.6199999999999997,
           1.6599999999999997,
           1.6999999999999997,
           1.7399999999999998,
           1.7799999999999998,
           1.8199999999999998,
           1.8599999999999997,
           1.8999999999999997,
           1.9399999999999997,
           1.9799999999999998,
           2
          ],
          [
           0,
           0.02,
           0.06,
           0.09999999999999999,
           0.13999999999999999,
           0.17999999999999997,
           0.21999999999999995,
           0.25999999999999995,
           0.3,
           0.33999999999999997,
           0.37999999999999995,
           0.41999999999999993,
           0.45999999999999996,
           0.49999999999999994,
           0.5399999999999999,
           0.58,
           0.6199999999999999,
           0.6599999999999999,
           0.7,
           0.7399999999999999,
           0.7799999999999999,
           0.8199999999999998,
           0.8599999999999999,
           0.8999999999999999,
           0.9399999999999998,
           0.9799999999999999,
           1.0199999999999998,
           1.0599999999999998,
           1.0999999999999999,
           1.14,
           1.18,
           1.2199999999999998,
           1.2599999999999998,
           1.2999999999999998,
           1.3399999999999999,
           1.38,
           1.4199999999999997,
           1.4599999999999997,
           1.4999999999999998,
           1.5399999999999998,
           1.5799999999999998,
           1.6199999999999997,
           1.6599999999999997,
           1.6999999999999997,
           1.7399999999999998,
           1.7799999999999998,
           1.8199999999999998,
           1.8599999999999997,
           1.8999999999999997,
           1.9399999999999997,
           1.9799999999999998,
           2
          ],
          [
           0,
           0.02,
           0.06,
           0.09999999999999999,
           0.13999999999999999,
           0.17999999999999997,
           0.21999999999999995,
           0.25999999999999995,
           0.3,
           0.33999999999999997,
           0.37999999999999995,
           0.41999999999999993,
           0.45999999999999996,
           0.49999999999999994,
           0.5399999999999999,
           0.58,
           0.6199999999999999,
           0.6599999999999999,
           0.7,
           0.7399999999999999,
           0.7799999999999999,
           0.8199999999999998,
           0.8599999999999999,
           0.8999999999999999,
           0.9399999999999998,
           0.9799999999999999,
           1.0199999999999998,
           1.0599999999999998,
           1.0999999999999999,
           1.14,
           1.18,
           1.2199999999999998,
           1.2599999999999998,
           1.2999999999999998,
           1.3399999999999999,
           1.38,
           1.4199999999999997,
           1.4599999999999997,
           1.4999999999999998,
           1.5399999999999998,
           1.5799999999999998,
           1.6199999999999997,
           1.6599999999999997,
           1.6999999999999997,
           1.7399999999999998,
           1.7799999999999998,
           1.8199999999999998,
           1.8599999999999997,
           1.8999999999999997,
           1.9399999999999997,
           1.9799999999999998,
           2
          ],
          [
           0,
           0.02,
           0.06,
           0.09999999999999999,
           0.13999999999999999,
           0.17999999999999997,
           0.21999999999999995,
           0.25999999999999995,
           0.3,
           0.33999999999999997,
           0.37999999999999995,
           0.41999999999999993,
           0.45999999999999996,
           0.49999999999999994,
           0.5399999999999999,
           0.58,
           0.6199999999999999,
           0.6599999999999999,
           0.7,
           0.7399999999999999,
           0.7799999999999999,
           0.8199999999999998,
           0.8599999999999999,
           0.8999999999999999,
           0.9399999999999998,
           0.9799999999999999,
           1.0199999999999998,
           1.0599999999999998,
           1.0999999999999999,
           1.14,
           1.18,
           1.2199999999999998,
           1.2599999999999998,
           1.2999999999999998,
           1.3399999999999999,
           1.38,
           1.4199999999999997,
           1.4599999999999997,
           1.4999999999999998,
           1.5399999999999998,
           1.5799999999999998,
           1.6199999999999997,
           1.6599999999999997,
           1.6999999999999997,
           1.7399999999999998,
           1.7799999999999998,
           1.8199999999999998,
           1.8599999999999997,
           1.8999999999999997,
           1.9399999999999997,
           1.9799999999999998,
           2
          ],
          [
           0,
           0.02,
           0.06,
           0.09999999999999999,
           0.13999999999999999,
           0.17999999999999997,
           0.21999999999999995,
           0.25999999999999995,
           0.3,
           0.33999999999999997,
           0.37999999999999995,
           0.41999999999999993,
           0.45999999999999996,
           0.49999999999999994,
           0.5399999999999999,
           0.58,
           0.6199999999999999,
           0.6599999999999999,
           0.7,
           0.7399999999999999,
           0.7799999999999999,
           0.8199999999999998,
           0.8599999999999999,
           0.8999999999999999,
           0.9399999999999998,
           0.9799999999999999,
           1.0199999999999998,
           1.0599999999999998,
           1.0999999999999999,
           1.14,
           1.18,
           1.2199999999999998,
           1.2599999999999998,
           1.2999999999999998,
           1.3399999999999999,
           1.38,
           1.4199999999999997,
           1.4599999999999997,
           1.4999999999999998,
           1.5399999999999998,
           1.5799999999999998,
           1.6199999999999997,
           1.6599999999999997,
           1.6999999999999997,
           1.7399999999999998,
           1.7799999999999998,
           1.8199999999999998,
           1.8599999999999997,
           1.8999999999999997,
           1.9399999999999997,
           1.9799999999999998,
           2
          ]
         ],
         "y": [
          [
           0,
           0,
           0,
           0,
           0,
           0,
           0,
           0,
           0,
           0,
           0,
           0,
           0,
           0,
           0,
           0,
           0,
           0,
           0,
           0,
           0,
           0,
           0,
           0,
           0,
           0,
           0,
           0,
           0,
           0,
           0,
           0,
           0,
           0,
           0,
           0,
           0,
           0,
           0,
           0,
           0,
           0,
           0,
           0,
           0,
           0,
           0,
           0,
           0,
           0,
           0,
           0
          ],
          [
           0.0125,
           0.0125,
           0.0125,
           0.0125,
           0.0125,
           0.0125,
           0.0125,
           0.0125,
           0.0125,
           0.0125,
           0.0125,
           0.0125,
           0.0125,
           0.0125,
           0.0125,
           0.0125,
           0.0125,
           0.0125,
           0.0125,
           0.0125,
           0.0125,
           0.0125,
           0.0125,
           0.0125,
           0.0125,
           0.0125,
           0.0125,
           0.0125,
           0.0125,
           0.0125,
           0.0125,
           0.0125,
           0.0125,
           0.0125,
           0.0125,
           0.0125,
           0.0125,
           0.0125,
           0.0125,
           0.0125,
           0.0125,
           0.0125,
           0.0125,
           0.0125,
           0.0125,
           0.0125,
           0.0125,
           0.0125,
           0.0125,
           0.0125,
           0.0125,
           0.0125
          ],
          [
           0.037500000000000006,
           0.037500000000000006,
           0.037500000000000006,
           0.037500000000000006,
           0.037500000000000006,
           0.037500000000000006,
           0.037500000000000006,
           0.037500000000000006,
           0.037500000000000006,
           0.037500000000000006,
           0.037500000000000006,
           0.037500000000000006,
           0.037500000000000006,
           0.037500000000000006,
           0.037500000000000006,
           0.037500000000000006,
           0.037500000000000006,
           0.037500000000000006,
           0.037500000000000006,
           0.037500000000000006,
           0.037500000000000006,
           0.037500000000000006,
           0.037500000000000006,
           0.037500000000000006,
           0.037500000000000006,
           0.037500000000000006,
           0.037500000000000006,
           0.037500000000000006,
           0.037500000000000006,
           0.037500000000000006,
           0.037500000000000006,
           0.037500000000000006,
           0.037500000000000006,
           0.037500000000000006,
           0.037500000000000006,
           0.037500000000000006,
           0.037500000000000006,
           0.037500000000000006,
           0.037500000000000006,
           0.037500000000000006,
           0.037500000000000006,
           0.037500000000000006,
           0.037500000000000006,
           0.037500000000000006,
           0.037500000000000006,
           0.037500000000000006,
           0.037500000000000006,
           0.037500000000000006,
           0.037500000000000006,
           0.037500000000000006,
           0.037500000000000006,
           0.037500000000000006
          ],
          [
           0.06250000000000001,
           0.06250000000000001,
           0.06250000000000001,
           0.06250000000000001,
           0.06250000000000001,
           0.06250000000000001,
           0.06250000000000001,
           0.06250000000000001,
           0.06250000000000001,
           0.06250000000000001,
           0.06250000000000001,
           0.06250000000000001,
           0.06250000000000001,
           0.06250000000000001,
           0.06250000000000001,
           0.06250000000000001,
           0.06250000000000001,
           0.06250000000000001,
           0.06250000000000001,
           0.06250000000000001,
           0.06250000000000001,
           0.06250000000000001,
           0.06250000000000001,
           0.06250000000000001,
           0.06250000000000001,
           0.06250000000000001,
           0.06250000000000001,
           0.06250000000000001,
           0.06250000000000001,
           0.06250000000000001,
           0.06250000000000001,
           0.06250000000000001,
           0.06250000000000001,
           0.06250000000000001,
           0.06250000000000001,
           0.06250000000000001,
           0.06250000000000001,
           0.06250000000000001,
           0.06250000000000001,
           0.06250000000000001,
           0.06250000000000001,
           0.06250000000000001,
           0.06250000000000001,
           0.06250000000000001,
           0.06250000000000001,
           0.06250000000000001,
           0.06250000000000001,
           0.06250000000000001,
           0.06250000000000001,
           0.06250000000000001,
           0.06250000000000001,
           0.06250000000000001
          ],
          [
           0.08750000000000001,
           0.08750000000000001,
           0.08750000000000001,
           0.08750000000000001,
           0.08750000000000001,
           0.08750000000000001,
           0.08750000000000001,
           0.08750000000000001,
           0.08750000000000001,
           0.08750000000000001,
           0.08750000000000001,
           0.08750000000000001,
           0.08750000000000001,
           0.08750000000000001,
           0.08750000000000001,
           0.08750000000000001,
           0.08750000000000001,
           0.08750000000000001,
           0.08750000000000001,
           0.08750000000000001,
           0.08750000000000001,
           0.08750000000000001,
           0.08750000000000001,
           0.08750000000000001,
           0.08750000000000001,
           0.08750000000000001,
           0.08750000000000001,
           0.08750000000000001,
           0.08750000000000001,
           0.08750000000000001,
           0.08750000000000001,
           0.08750000000000001,
           0.08750000000000001,
           0.08750000000000001,
           0.08750000000000001,
           0.08750000000000001,
           0.08750000000000001,
           0.08750000000000001,
           0.08750000000000001,
           0.08750000000000001,
           0.08750000000000001,
           0.08750000000000001,
           0.08750000000000001,
           0.08750000000000001,
           0.08750000000000001,
           0.08750000000000001,
           0.08750000000000001,
           0.08750000000000001,
           0.08750000000000001,
           0.08750000000000001,
           0.08750000000000001,
           0.08750000000000001
          ],
          [
           0.1,
           0.1,
           0.1,
           0.1,
           0.1,
           0.1,
           0.1,
           0.1,
           0.1,
           0.1,
           0.1,
           0.1,
           0.1,
           0.1,
           0.1,
           0.1,
           0.1,
           0.1,
           0.1,
           0.1,
           0.1,
           0.1,
           0.1,
           0.1,
           0.1,
           0.1,
           0.1,
           0.1,
           0.1,
           0.1,
           0.1,
           0.1,
           0.1,
           0.1,
           0.1,
           0.1,
           0.1,
           0.1,
           0.1,
           0.1,
           0.1,
           0.1,
           0.1,
           0.1,
           0.1,
           0.1,
           0.1,
           0.1,
           0.1,
           0.1,
           0.1,
           0.1
          ]
         ],
         "z": [
          [
           0,
           6.4498470879720085,
           20.77484900979669,
           41.68723270066556,
           70.41930446388828,
           107.59968586583764,
           153.39911467521603,
           207.80652838989909,
           270.73659057676906,
           342.0715400695577,
           421.6781849192882,
           509.41533096947376,
           605.1372486933928,
           708.6953742205848,
           819.9391679030343,
           938.7165452965871,
           1064.8740783535509,
           1198.2570662287521,
           1338.7095280510293,
           1486.0741464147754,
           1640.1921779978884,
           1800.9033410011562,
           1968.0456853307062,
           2141.4554492581315,
           2320.966904990101,
           2506.4121947838826,
           2697.621158748849,
           2894.4211551579665,
           3096.636873888644,
           3304.0901434777174,
           3516.5997321858586,
           3733.981143406438,
           3956.0464057135778,
           4182.603857816504,
           4413.457928669374,
           4648.408912973655,
           4887.252742302996,
           5129.780752076224,
           5375.779444602536,
           5625.030248423042,
           5877.309274173926,
           6132.387067197934,
           6390.0283571286045,
           6649.991804655071,
           6912.029745623988,
           7175.887932624572,
           7441.305275922949,
           7708.013589484916,
           7975.737455034316,
           8244.192030880617,
           8513.09430030117,
           8647.352199980305
          ],
          [
           3.7981995514460975e-13,
           3.8779367716567767,
           16.36514410902229,
           35.88530195507489,
           63.90734666635454,
           100.73749657441758,
           146.3703275138686,
           200.7087872165245,
           263.6252093477669,
           334.97975473938715,
           414.62701521630396,
           502.4186704523227,
           598.2046415958503,
           701.8336070306456,
           813.1532220633338,
           932.0101896312544,
           1058.2502500481437,
           1191.7181232434855,
           1332.2574208680132,
           1479.7105377356152,
           1633.9185280010727,
           1794.7209692870238,
           1961.9558167559658,
           2135.4592484227483,
           2315.0655025884153,
           2500.6067080246135,
           2691.9127073817926,
           2888.8108741957935,
           3091.1259238043076,
           3298.679718443867,
           3511.291066771517,
           3728.7755180382155,
           3950.9451511304223,
           4177.60835868968,
           4408.569626516796,
           4643.6293084658055,
           4882.583397033395,
           5125.22328985078,
           5371.335552287624,
           5620.701676380642,
           5873.09783630302,
           6128.294640593884,
           6386.056881365611,
           6646.1432806864095,
           6908.306234241953,
           7172.291552173927,
           7437.8381970028795,
           7704.678038032315,
           7972.535603948318,
           8241.130507596365,
           8510.147090538447,
           8644.945823104641
          ],
          [
           1.3920350128246554e-13,
           1.2837536827065537,
           9.736867327435503,
           28.210095885399813,
           55.85823607347631,
           92.55748876180778,
           138.1633433173515,
           192.52565033777577,
           255.49339547512312,
           326.9153497398394,
           406.6400654125345,
           494.5157975245199,
           590.3904184647395,
           694.1113280858973,
           805.5253574839821,
           924.4786655885026,
           1050.816628317269,
           1184.3837202997472,
           1325.0233892688523,
           1472.5779232581592,
           1626.8883107562883,
           1787.794093976197,
           1955.1332153997992,
           2128.7418577598796,
           2308.454277622486,
           2494.102632734213,
           2685.5168033003233,
           2882.52420736131,
           3084.9496104374693,
           3292.6149296132603,
           3505.3390322356936,
           3722.9375294035476,
           3945.222564427359,
           4172.002596442991,
           4403.082179365195,
           4638.261736370996,
           4877.337330106779,
           5120.100428816745,
           5366.337668594966,
           5615.83061196775,
           5868.355503017963,
           6123.683019269168,
           6381.578020558076,
           6641.799295160454,
           6904.099303607504,
           7168.223921473831,
           7433.912185739628,
           7700.896055699005,
           7968.900091643634,
           8237.639824174421,
           8506.798616040931,
           8641.36811006247
          ],
          [
           8.618112446088252e-14,
           1.283753692134146,
           9.736867348001198,
           28.21009590680019,
           55.85823609508894,
           92.55748878351278,
           138.16334333911877,
           192.52565035959202,
           255.49339549698144,
           326.9153497617367,
           406.6400654344706,
           494.515797546496,
           590.3904184867583,
           694.1113281079619,
           805.5253575060959,
           924.4786656106696,
           1050.8166283394926,
           1184.3837203220323,
           1325.023389291202,
           1472.5779232805787,
           1626.8883107787815,
           1787.794093998767,
           1955.1332154224494,
           2128.7418577826143,
           2308.454277645309,
           2494.102632757126,
           2685.5168033233317,
           2882.524207384415,
           3084.9496104606746,
           3292.6149296365675,
           3505.3390322591063,
           3722.9375294270667,
           3945.2225644509867,
           4172.0025964667275,
           4403.082179389044,
           4638.261736394958,
           4877.337330130855,
           5120.100428840934,
           5366.3376686192705,
           5615.830611992167,
           5868.355503042494,
           6123.68301929381,
           6381.578020582831,
           6641.7992951853175,
           6904.099303632474,
           7168.223921498904,
           7433.912185764789,
           7700.896055724223,
           7968.900091668871,
           8237.639824199761,
           8506.798616066824,
           8641.3681100856
          ],
          [
           2.8781547093300324e-13,
           3.877936785634868,
           16.365144148184722,
           35.885302006394696,
           63.907346723465146,
           100.73749663455524,
           146.37032757575741,
           200.7087872795152,
           263.62520941150336,
           334.9797548036634,
           414.62701528099655,
           502.41867051735574,
           598.2046416611769,
           701.8336070962367,
           813.1532221291732,
           932.0101896973329,
           1058.250250114458,
           1191.7181233100364,
           1332.2574209348033,
           1479.7105378026506,
           1633.9185280683596,
           1794.720969354568,
           1961.9558168237745,
           2135.4592484908294,
           2315.065502656776,
           2500.606708093262,
           2691.9127074507387,
           2888.810874265042,
           3091.125923873866,
           3298.6797185137407,
           3511.291066841714,
           3728.77551810874,
           3950.945151201279,
           4177.608358760872,
           4408.569626588327,
           4643.629308537678,
           4882.583397105614,
           5125.223289923345,
           5371.335552360533,
           5620.701676453894,
           5873.097836376619,
           6128.29464066782,
           6386.056881439884,
           6646.143280761012,
           6908.306234316879,
           7172.2915522491685,
           7437.838197078407,
           7704.67803810808,
           7972.53560402429,
           8241.13050767323,
           8510.147090614162,
           8644.945823204564
          ],
          [
           0,
           6.4498471079105055,
           20.77484905289758,
           41.687232760471666,
           70.41930453365538,
           107.59968594150627,
           153.39911475453897,
           207.80652847162054,
           270.7365906601615,
           342.071540154184,
           421.6781850048779,
           509.415331055856,
           605.1372487804584,
           708.6953743082646,
           819.9391679912858,
           938.7165453853848,
           1064.8740784428826,
           1198.2570663186136,
           1338.7095281414229,
           1486.074146505708,
           1640.19217808937,
           1800.9033410931968,
           1968.0456854233182,
           2141.455449351331,
           2320.9669050839007,
           2506.4121948782977,
           2697.6211588438955,
           2894.4211552536576,
           3096.6368739849922,
           3304.0901435747364,
           3516.599732283562,
           3733.981143504839,
           3956.046405812685,
           4182.603857916329,
           4413.457928769923,
           4648.408913074934,
           4887.252742405019,
           5129.780752178991,
           5375.77944470605,
           5625.030248527306,
           5877.309274278944,
           6132.387067303701,
           6390.028357235123,
           6649.991804762332,
           6912.029745731984,
           7175.887932733299,
           7441.305276032376,
           7708.013589595012,
           7975.737455145096,
           8244.19203099212,
           8513.094300415349,
           8647.352200058123
          ]
         ]
        }
       ],
       "layout": {
        "template": {
         "data": {
          "bar": [
           {
            "error_x": {
             "color": "#2a3f5f"
            },
            "error_y": {
             "color": "#2a3f5f"
            },
            "marker": {
             "line": {
              "color": "#E5ECF6",
              "width": 0.5
             },
             "pattern": {
              "fillmode": "overlay",
              "size": 10,
              "solidity": 0.2
             }
            },
            "type": "bar"
           }
          ],
          "barpolar": [
           {
            "marker": {
             "line": {
              "color": "#E5ECF6",
              "width": 0.5
             },
             "pattern": {
              "fillmode": "overlay",
              "size": 10,
              "solidity": 0.2
             }
            },
            "type": "barpolar"
           }
          ],
          "carpet": [
           {
            "aaxis": {
             "endlinecolor": "#2a3f5f",
             "gridcolor": "white",
             "linecolor": "white",
             "minorgridcolor": "white",
             "startlinecolor": "#2a3f5f"
            },
            "baxis": {
             "endlinecolor": "#2a3f5f",
             "gridcolor": "white",
             "linecolor": "white",
             "minorgridcolor": "white",
             "startlinecolor": "#2a3f5f"
            },
            "type": "carpet"
           }
          ],
          "choropleth": [
           {
            "colorbar": {
             "outlinewidth": 0,
             "ticks": ""
            },
            "type": "choropleth"
           }
          ],
          "contour": [
           {
            "colorbar": {
             "outlinewidth": 0,
             "ticks": ""
            },
            "colorscale": [
             [
              0,
              "#0d0887"
             ],
             [
              0.1111111111111111,
              "#46039f"
             ],
             [
              0.2222222222222222,
              "#7201a8"
             ],
             [
              0.3333333333333333,
              "#9c179e"
             ],
             [
              0.4444444444444444,
              "#bd3786"
             ],
             [
              0.5555555555555556,
              "#d8576b"
             ],
             [
              0.6666666666666666,
              "#ed7953"
             ],
             [
              0.7777777777777778,
              "#fb9f3a"
             ],
             [
              0.8888888888888888,
              "#fdca26"
             ],
             [
              1,
              "#f0f921"
             ]
            ],
            "type": "contour"
           }
          ],
          "contourcarpet": [
           {
            "colorbar": {
             "outlinewidth": 0,
             "ticks": ""
            },
            "type": "contourcarpet"
           }
          ],
          "heatmap": [
           {
            "colorbar": {
             "outlinewidth": 0,
             "ticks": ""
            },
            "colorscale": [
             [
              0,
              "#0d0887"
             ],
             [
              0.1111111111111111,
              "#46039f"
             ],
             [
              0.2222222222222222,
              "#7201a8"
             ],
             [
              0.3333333333333333,
              "#9c179e"
             ],
             [
              0.4444444444444444,
              "#bd3786"
             ],
             [
              0.5555555555555556,
              "#d8576b"
             ],
             [
              0.6666666666666666,
              "#ed7953"
             ],
             [
              0.7777777777777778,
              "#fb9f3a"
             ],
             [
              0.8888888888888888,
              "#fdca26"
             ],
             [
              1,
              "#f0f921"
             ]
            ],
            "type": "heatmap"
           }
          ],
          "heatmapgl": [
           {
            "colorbar": {
             "outlinewidth": 0,
             "ticks": ""
            },
            "colorscale": [
             [
              0,
              "#0d0887"
             ],
             [
              0.1111111111111111,
              "#46039f"
             ],
             [
              0.2222222222222222,
              "#7201a8"
             ],
             [
              0.3333333333333333,
              "#9c179e"
             ],
             [
              0.4444444444444444,
              "#bd3786"
             ],
             [
              0.5555555555555556,
              "#d8576b"
             ],
             [
              0.6666666666666666,
              "#ed7953"
             ],
             [
              0.7777777777777778,
              "#fb9f3a"
             ],
             [
              0.8888888888888888,
              "#fdca26"
             ],
             [
              1,
              "#f0f921"
             ]
            ],
            "type": "heatmapgl"
           }
          ],
          "histogram": [
           {
            "marker": {
             "pattern": {
              "fillmode": "overlay",
              "size": 10,
              "solidity": 0.2
             }
            },
            "type": "histogram"
           }
          ],
          "histogram2d": [
           {
            "colorbar": {
             "outlinewidth": 0,
             "ticks": ""
            },
            "colorscale": [
             [
              0,
              "#0d0887"
             ],
             [
              0.1111111111111111,
              "#46039f"
             ],
             [
              0.2222222222222222,
              "#7201a8"
             ],
             [
              0.3333333333333333,
              "#9c179e"
             ],
             [
              0.4444444444444444,
              "#bd3786"
             ],
             [
              0.5555555555555556,
              "#d8576b"
             ],
             [
              0.6666666666666666,
              "#ed7953"
             ],
             [
              0.7777777777777778,
              "#fb9f3a"
             ],
             [
              0.8888888888888888,
              "#fdca26"
             ],
             [
              1,
              "#f0f921"
             ]
            ],
            "type": "histogram2d"
           }
          ],
          "histogram2dcontour": [
           {
            "colorbar": {
             "outlinewidth": 0,
             "ticks": ""
            },
            "colorscale": [
             [
              0,
              "#0d0887"
             ],
             [
              0.1111111111111111,
              "#46039f"
             ],
             [
              0.2222222222222222,
              "#7201a8"
             ],
             [
              0.3333333333333333,
              "#9c179e"
             ],
             [
              0.4444444444444444,
              "#bd3786"
             ],
             [
              0.5555555555555556,
              "#d8576b"
             ],
             [
              0.6666666666666666,
              "#ed7953"
             ],
             [
              0.7777777777777778,
              "#fb9f3a"
             ],
             [
              0.8888888888888888,
              "#fdca26"
             ],
             [
              1,
              "#f0f921"
             ]
            ],
            "type": "histogram2dcontour"
           }
          ],
          "mesh3d": [
           {
            "colorbar": {
             "outlinewidth": 0,
             "ticks": ""
            },
            "type": "mesh3d"
           }
          ],
          "parcoords": [
           {
            "line": {
             "colorbar": {
              "outlinewidth": 0,
              "ticks": ""
             }
            },
            "type": "parcoords"
           }
          ],
          "pie": [
           {
            "automargin": true,
            "type": "pie"
           }
          ],
          "scatter": [
           {
            "marker": {
             "colorbar": {
              "outlinewidth": 0,
              "ticks": ""
             }
            },
            "type": "scatter"
           }
          ],
          "scatter3d": [
           {
            "line": {
             "colorbar": {
              "outlinewidth": 0,
              "ticks": ""
             }
            },
            "marker": {
             "colorbar": {
              "outlinewidth": 0,
              "ticks": ""
             }
            },
            "type": "scatter3d"
           }
          ],
          "scattercarpet": [
           {
            "marker": {
             "colorbar": {
              "outlinewidth": 0,
              "ticks": ""
             }
            },
            "type": "scattercarpet"
           }
          ],
          "scattergeo": [
           {
            "marker": {
             "colorbar": {
              "outlinewidth": 0,
              "ticks": ""
             }
            },
            "type": "scattergeo"
           }
          ],
          "scattergl": [
           {
            "marker": {
             "colorbar": {
              "outlinewidth": 0,
              "ticks": ""
             }
            },
            "type": "scattergl"
           }
          ],
          "scattermapbox": [
           {
            "marker": {
             "colorbar": {
              "outlinewidth": 0,
              "ticks": ""
             }
            },
            "type": "scattermapbox"
           }
          ],
          "scatterpolar": [
           {
            "marker": {
             "colorbar": {
              "outlinewidth": 0,
              "ticks": ""
             }
            },
            "type": "scatterpolar"
           }
          ],
          "scatterpolargl": [
           {
            "marker": {
             "colorbar": {
              "outlinewidth": 0,
              "ticks": ""
             }
            },
            "type": "scatterpolargl"
           }
          ],
          "scatterternary": [
           {
            "marker": {
             "colorbar": {
              "outlinewidth": 0,
              "ticks": ""
             }
            },
            "type": "scatterternary"
           }
          ],
          "surface": [
           {
            "colorbar": {
             "outlinewidth": 0,
             "ticks": ""
            },
            "colorscale": [
             [
              0,
              "#0d0887"
             ],
             [
              0.1111111111111111,
              "#46039f"
             ],
             [
              0.2222222222222222,
              "#7201a8"
             ],
             [
              0.3333333333333333,
              "#9c179e"
             ],
             [
              0.4444444444444444,
              "#bd3786"
             ],
             [
              0.5555555555555556,
              "#d8576b"
             ],
             [
              0.6666666666666666,
              "#ed7953"
             ],
             [
              0.7777777777777778,
              "#fb9f3a"
             ],
             [
              0.8888888888888888,
              "#fdca26"
             ],
             [
              1,
              "#f0f921"
             ]
            ],
            "type": "surface"
           }
          ],
          "table": [
           {
            "cells": {
             "fill": {
              "color": "#EBF0F8"
             },
             "line": {
              "color": "white"
             }
            },
            "header": {
             "fill": {
              "color": "#C8D4E3"
             },
             "line": {
              "color": "white"
             }
            },
            "type": "table"
           }
          ]
         },
         "layout": {
          "annotationdefaults": {
           "arrowcolor": "#2a3f5f",
           "arrowhead": 0,
           "arrowwidth": 1
          },
          "autotypenumbers": "strict",
          "coloraxis": {
           "colorbar": {
            "outlinewidth": 0,
            "ticks": ""
           }
          },
          "colorscale": {
           "diverging": [
            [
             0,
             "#8e0152"
            ],
            [
             0.1,
             "#c51b7d"
            ],
            [
             0.2,
             "#de77ae"
            ],
            [
             0.3,
             "#f1b6da"
            ],
            [
             0.4,
             "#fde0ef"
            ],
            [
             0.5,
             "#f7f7f7"
            ],
            [
             0.6,
             "#e6f5d0"
            ],
            [
             0.7,
             "#b8e186"
            ],
            [
             0.8,
             "#7fbc41"
            ],
            [
             0.9,
             "#4d9221"
            ],
            [
             1,
             "#276419"
            ]
           ],
           "sequential": [
            [
             0,
             "#0d0887"
            ],
            [
             0.1111111111111111,
             "#46039f"
            ],
            [
             0.2222222222222222,
             "#7201a8"
            ],
            [
             0.3333333333333333,
             "#9c179e"
            ],
            [
             0.4444444444444444,
             "#bd3786"
            ],
            [
             0.5555555555555556,
             "#d8576b"
            ],
            [
             0.6666666666666666,
             "#ed7953"
            ],
            [
             0.7777777777777778,
             "#fb9f3a"
            ],
            [
             0.8888888888888888,
             "#fdca26"
            ],
            [
             1,
             "#f0f921"
            ]
           ],
           "sequentialminus": [
            [
             0,
             "#0d0887"
            ],
            [
             0.1111111111111111,
             "#46039f"
            ],
            [
             0.2222222222222222,
             "#7201a8"
            ],
            [
             0.3333333333333333,
             "#9c179e"
            ],
            [
             0.4444444444444444,
             "#bd3786"
            ],
            [
             0.5555555555555556,
             "#d8576b"
            ],
            [
             0.6666666666666666,
             "#ed7953"
            ],
            [
             0.7777777777777778,
             "#fb9f3a"
            ],
            [
             0.8888888888888888,
             "#fdca26"
            ],
            [
             1,
             "#f0f921"
            ]
           ]
          },
          "colorway": [
           "#636efa",
           "#EF553B",
           "#00cc96",
           "#ab63fa",
           "#FFA15A",
           "#19d3f3",
           "#FF6692",
           "#B6E880",
           "#FF97FF",
           "#FECB52"
          ],
          "font": {
           "color": "#2a3f5f"
          },
          "geo": {
           "bgcolor": "white",
           "lakecolor": "white",
           "landcolor": "#E5ECF6",
           "showlakes": true,
           "showland": true,
           "subunitcolor": "white"
          },
          "hoverlabel": {
           "align": "left"
          },
          "hovermode": "closest",
          "mapbox": {
           "style": "light"
          },
          "paper_bgcolor": "white",
          "plot_bgcolor": "#E5ECF6",
          "polar": {
           "angularaxis": {
            "gridcolor": "white",
            "linecolor": "white",
            "ticks": ""
           },
           "bgcolor": "#E5ECF6",
           "radialaxis": {
            "gridcolor": "white",
            "linecolor": "white",
            "ticks": ""
           }
          },
          "scene": {
           "xaxis": {
            "backgroundcolor": "#E5ECF6",
            "gridcolor": "white",
            "gridwidth": 2,
            "linecolor": "white",
            "showbackground": true,
            "ticks": "",
            "zerolinecolor": "white"
           },
           "yaxis": {
            "backgroundcolor": "#E5ECF6",
            "gridcolor": "white",
            "gridwidth": 2,
            "linecolor": "white",
            "showbackground": true,
            "ticks": "",
            "zerolinecolor": "white"
           },
           "zaxis": {
            "backgroundcolor": "#E5ECF6",
            "gridcolor": "white",
            "gridwidth": 2,
            "linecolor": "white",
            "showbackground": true,
            "ticks": "",
            "zerolinecolor": "white"
           }
          },
          "shapedefaults": {
           "line": {
            "color": "#2a3f5f"
           }
          },
          "ternary": {
           "aaxis": {
            "gridcolor": "white",
            "linecolor": "white",
            "ticks": ""
           },
           "baxis": {
            "gridcolor": "white",
            "linecolor": "white",
            "ticks": ""
           },
           "bgcolor": "#E5ECF6",
           "caxis": {
            "gridcolor": "white",
            "linecolor": "white",
            "ticks": ""
           }
          },
          "title": {
           "x": 0.05
          },
          "xaxis": {
           "automargin": true,
           "gridcolor": "white",
           "linecolor": "white",
           "ticks": "",
           "title": {
            "standoff": 15
           },
           "zerolinecolor": "white",
           "zerolinewidth": 2
          },
          "yaxis": {
           "automargin": true,
           "gridcolor": "white",
           "linecolor": "white",
           "ticks": "",
           "title": {
            "standoff": 15
           },
           "zerolinecolor": "white",
           "zerolinewidth": 2
          }
         }
        }
       }
      },
      "text/html": [
       "<div>                            <div id=\"fba0dffa-cfbf-46cf-ac99-9695e9997985\" class=\"plotly-graph-div\" style=\"height:525px; width:100%;\"></div>            <script type=\"text/javascript\">                require([\"plotly\"], function(Plotly) {                    window.PLOTLYENV=window.PLOTLYENV || {};                                    if (document.getElementById(\"fba0dffa-cfbf-46cf-ac99-9695e9997985\")) {                    Plotly.newPlot(                        \"fba0dffa-cfbf-46cf-ac99-9695e9997985\",                        [{\"x\":[[0.0,0.02,0.06,0.09999999999999999,0.13999999999999999,0.17999999999999997,0.21999999999999995,0.25999999999999995,0.3,0.33999999999999997,0.37999999999999995,0.41999999999999993,0.45999999999999996,0.49999999999999994,0.5399999999999999,0.58,0.6199999999999999,0.6599999999999999,0.7,0.7399999999999999,0.7799999999999999,0.8199999999999998,0.8599999999999999,0.8999999999999999,0.9399999999999998,0.9799999999999999,1.0199999999999998,1.0599999999999998,1.0999999999999999,1.14,1.18,1.2199999999999998,1.2599999999999998,1.2999999999999998,1.3399999999999999,1.38,1.4199999999999997,1.4599999999999997,1.4999999999999998,1.5399999999999998,1.5799999999999998,1.6199999999999997,1.6599999999999997,1.6999999999999997,1.7399999999999998,1.7799999999999998,1.8199999999999998,1.8599999999999997,1.8999999999999997,1.9399999999999997,1.9799999999999998,2.0],[0.0,0.02,0.06,0.09999999999999999,0.13999999999999999,0.17999999999999997,0.21999999999999995,0.25999999999999995,0.3,0.33999999999999997,0.37999999999999995,0.41999999999999993,0.45999999999999996,0.49999999999999994,0.5399999999999999,0.58,0.6199999999999999,0.6599999999999999,0.7,0.7399999999999999,0.7799999999999999,0.8199999999999998,0.8599999999999999,0.8999999999999999,0.9399999999999998,0.9799999999999999,1.0199999999999998,1.0599999999999998,1.0999999999999999,1.14,1.18,1.2199999999999998,1.2599999999999998,1.2999999999999998,1.3399999999999999,1.38,1.4199999999999997,1.4599999999999997,1.4999999999999998,1.5399999999999998,1.5799999999999998,1.6199999999999997,1.6599999999999997,1.6999999999999997,1.7399999999999998,1.7799999999999998,1.8199999999999998,1.8599999999999997,1.8999999999999997,1.9399999999999997,1.9799999999999998,2.0],[0.0,0.02,0.06,0.09999999999999999,0.13999999999999999,0.17999999999999997,0.21999999999999995,0.25999999999999995,0.3,0.33999999999999997,0.37999999999999995,0.41999999999999993,0.45999999999999996,0.49999999999999994,0.5399999999999999,0.58,0.6199999999999999,0.6599999999999999,0.7,0.7399999999999999,0.7799999999999999,0.8199999999999998,0.8599999999999999,0.8999999999999999,0.9399999999999998,0.9799999999999999,1.0199999999999998,1.0599999999999998,1.0999999999999999,1.14,1.18,1.2199999999999998,1.2599999999999998,1.2999999999999998,1.3399999999999999,1.38,1.4199999999999997,1.4599999999999997,1.4999999999999998,1.5399999999999998,1.5799999999999998,1.6199999999999997,1.6599999999999997,1.6999999999999997,1.7399999999999998,1.7799999999999998,1.8199999999999998,1.8599999999999997,1.8999999999999997,1.9399999999999997,1.9799999999999998,2.0],[0.0,0.02,0.06,0.09999999999999999,0.13999999999999999,0.17999999999999997,0.21999999999999995,0.25999999999999995,0.3,0.33999999999999997,0.37999999999999995,0.41999999999999993,0.45999999999999996,0.49999999999999994,0.5399999999999999,0.58,0.6199999999999999,0.6599999999999999,0.7,0.7399999999999999,0.7799999999999999,0.8199999999999998,0.8599999999999999,0.8999999999999999,0.9399999999999998,0.9799999999999999,1.0199999999999998,1.0599999999999998,1.0999999999999999,1.14,1.18,1.2199999999999998,1.2599999999999998,1.2999999999999998,1.3399999999999999,1.38,1.4199999999999997,1.4599999999999997,1.4999999999999998,1.5399999999999998,1.5799999999999998,1.6199999999999997,1.6599999999999997,1.6999999999999997,1.7399999999999998,1.7799999999999998,1.8199999999999998,1.8599999999999997,1.8999999999999997,1.9399999999999997,1.9799999999999998,2.0],[0.0,0.02,0.06,0.09999999999999999,0.13999999999999999,0.17999999999999997,0.21999999999999995,0.25999999999999995,0.3,0.33999999999999997,0.37999999999999995,0.41999999999999993,0.45999999999999996,0.49999999999999994,0.5399999999999999,0.58,0.6199999999999999,0.6599999999999999,0.7,0.7399999999999999,0.7799999999999999,0.8199999999999998,0.8599999999999999,0.8999999999999999,0.9399999999999998,0.9799999999999999,1.0199999999999998,1.0599999999999998,1.0999999999999999,1.14,1.18,1.2199999999999998,1.2599999999999998,1.2999999999999998,1.3399999999999999,1.38,1.4199999999999997,1.4599999999999997,1.4999999999999998,1.5399999999999998,1.5799999999999998,1.6199999999999997,1.6599999999999997,1.6999999999999997,1.7399999999999998,1.7799999999999998,1.8199999999999998,1.8599999999999997,1.8999999999999997,1.9399999999999997,1.9799999999999998,2.0],[0.0,0.02,0.06,0.09999999999999999,0.13999999999999999,0.17999999999999997,0.21999999999999995,0.25999999999999995,0.3,0.33999999999999997,0.37999999999999995,0.41999999999999993,0.45999999999999996,0.49999999999999994,0.5399999999999999,0.58,0.6199999999999999,0.6599999999999999,0.7,0.7399999999999999,0.7799999999999999,0.8199999999999998,0.8599999999999999,0.8999999999999999,0.9399999999999998,0.9799999999999999,1.0199999999999998,1.0599999999999998,1.0999999999999999,1.14,1.18,1.2199999999999998,1.2599999999999998,1.2999999999999998,1.3399999999999999,1.38,1.4199999999999997,1.4599999999999997,1.4999999999999998,1.5399999999999998,1.5799999999999998,1.6199999999999997,1.6599999999999997,1.6999999999999997,1.7399999999999998,1.7799999999999998,1.8199999999999998,1.8599999999999997,1.8999999999999997,1.9399999999999997,1.9799999999999998,2.0]],\"y\":[[0.0,0.0,0.0,0.0,0.0,0.0,0.0,0.0,0.0,0.0,0.0,0.0,0.0,0.0,0.0,0.0,0.0,0.0,0.0,0.0,0.0,0.0,0.0,0.0,0.0,0.0,0.0,0.0,0.0,0.0,0.0,0.0,0.0,0.0,0.0,0.0,0.0,0.0,0.0,0.0,0.0,0.0,0.0,0.0,0.0,0.0,0.0,0.0,0.0,0.0,0.0,0.0],[0.0125,0.0125,0.0125,0.0125,0.0125,0.0125,0.0125,0.0125,0.0125,0.0125,0.0125,0.0125,0.0125,0.0125,0.0125,0.0125,0.0125,0.0125,0.0125,0.0125,0.0125,0.0125,0.0125,0.0125,0.0125,0.0125,0.0125,0.0125,0.0125,0.0125,0.0125,0.0125,0.0125,0.0125,0.0125,0.0125,0.0125,0.0125,0.0125,0.0125,0.0125,0.0125,0.0125,0.0125,0.0125,0.0125,0.0125,0.0125,0.0125,0.0125,0.0125,0.0125],[0.037500000000000006,0.037500000000000006,0.037500000000000006,0.037500000000000006,0.037500000000000006,0.037500000000000006,0.037500000000000006,0.037500000000000006,0.037500000000000006,0.037500000000000006,0.037500000000000006,0.037500000000000006,0.037500000000000006,0.037500000000000006,0.037500000000000006,0.037500000000000006,0.037500000000000006,0.037500000000000006,0.037500000000000006,0.037500000000000006,0.037500000000000006,0.037500000000000006,0.037500000000000006,0.037500000000000006,0.037500000000000006,0.037500000000000006,0.037500000000000006,0.037500000000000006,0.037500000000000006,0.037500000000000006,0.037500000000000006,0.037500000000000006,0.037500000000000006,0.037500000000000006,0.037500000000000006,0.037500000000000006,0.037500000000000006,0.037500000000000006,0.037500000000000006,0.037500000000000006,0.037500000000000006,0.037500000000000006,0.037500000000000006,0.037500000000000006,0.037500000000000006,0.037500000000000006,0.037500000000000006,0.037500000000000006,0.037500000000000006,0.037500000000000006,0.037500000000000006,0.037500000000000006],[0.06250000000000001,0.06250000000000001,0.06250000000000001,0.06250000000000001,0.06250000000000001,0.06250000000000001,0.06250000000000001,0.06250000000000001,0.06250000000000001,0.06250000000000001,0.06250000000000001,0.06250000000000001,0.06250000000000001,0.06250000000000001,0.06250000000000001,0.06250000000000001,0.06250000000000001,0.06250000000000001,0.06250000000000001,0.06250000000000001,0.06250000000000001,0.06250000000000001,0.06250000000000001,0.06250000000000001,0.06250000000000001,0.06250000000000001,0.06250000000000001,0.06250000000000001,0.06250000000000001,0.06250000000000001,0.06250000000000001,0.06250000000000001,0.06250000000000001,0.06250000000000001,0.06250000000000001,0.06250000000000001,0.06250000000000001,0.06250000000000001,0.06250000000000001,0.06250000000000001,0.06250000000000001,0.06250000000000001,0.06250000000000001,0.06250000000000001,0.06250000000000001,0.06250000000000001,0.06250000000000001,0.06250000000000001,0.06250000000000001,0.06250000000000001,0.06250000000000001,0.06250000000000001],[0.08750000000000001,0.08750000000000001,0.08750000000000001,0.08750000000000001,0.08750000000000001,0.08750000000000001,0.08750000000000001,0.08750000000000001,0.08750000000000001,0.08750000000000001,0.08750000000000001,0.08750000000000001,0.08750000000000001,0.08750000000000001,0.08750000000000001,0.08750000000000001,0.08750000000000001,0.08750000000000001,0.08750000000000001,0.08750000000000001,0.08750000000000001,0.08750000000000001,0.08750000000000001,0.08750000000000001,0.08750000000000001,0.08750000000000001,0.08750000000000001,0.08750000000000001,0.08750000000000001,0.08750000000000001,0.08750000000000001,0.08750000000000001,0.08750000000000001,0.08750000000000001,0.08750000000000001,0.08750000000000001,0.08750000000000001,0.08750000000000001,0.08750000000000001,0.08750000000000001,0.08750000000000001,0.08750000000000001,0.08750000000000001,0.08750000000000001,0.08750000000000001,0.08750000000000001,0.08750000000000001,0.08750000000000001,0.08750000000000001,0.08750000000000001,0.08750000000000001,0.08750000000000001],[0.1,0.1,0.1,0.1,0.1,0.1,0.1,0.1,0.1,0.1,0.1,0.1,0.1,0.1,0.1,0.1,0.1,0.1,0.1,0.1,0.1,0.1,0.1,0.1,0.1,0.1,0.1,0.1,0.1,0.1,0.1,0.1,0.1,0.1,0.1,0.1,0.1,0.1,0.1,0.1,0.1,0.1,0.1,0.1,0.1,0.1,0.1,0.1,0.1,0.1,0.1,0.1]],\"z\":[[0.0,6.4498470879720085,20.77484900979669,41.68723270066556,70.41930446388828,107.59968586583764,153.39911467521603,207.80652838989909,270.73659057676906,342.0715400695577,421.6781849192882,509.41533096947376,605.1372486933928,708.6953742205848,819.9391679030343,938.7165452965871,1064.8740783535509,1198.2570662287521,1338.7095280510293,1486.0741464147754,1640.1921779978884,1800.9033410011562,1968.0456853307062,2141.4554492581315,2320.966904990101,2506.4121947838826,2697.621158748849,2894.4211551579665,3096.636873888644,3304.0901434777174,3516.5997321858586,3733.981143406438,3956.0464057135778,4182.603857816504,4413.457928669374,4648.408912973655,4887.252742302996,5129.780752076224,5375.779444602536,5625.030248423042,5877.309274173926,6132.387067197934,6390.0283571286045,6649.991804655071,6912.029745623988,7175.887932624572,7441.305275922949,7708.013589484916,7975.737455034316,8244.192030880617,8513.09430030117,8647.352199980305],[3.7981995514460975e-13,3.8779367716567767,16.36514410902229,35.88530195507489,63.90734666635454,100.73749657441758,146.3703275138686,200.7087872165245,263.6252093477669,334.97975473938715,414.62701521630396,502.4186704523227,598.2046415958503,701.8336070306456,813.1532220633338,932.0101896312544,1058.2502500481437,1191.7181232434855,1332.2574208680132,1479.7105377356152,1633.9185280010727,1794.7209692870238,1961.9558167559658,2135.4592484227483,2315.0655025884153,2500.6067080246135,2691.9127073817926,2888.8108741957935,3091.1259238043076,3298.679718443867,3511.291066771517,3728.7755180382155,3950.9451511304223,4177.60835868968,4408.569626516796,4643.6293084658055,4882.583397033395,5125.22328985078,5371.335552287624,5620.701676380642,5873.09783630302,6128.294640593884,6386.056881365611,6646.1432806864095,6908.306234241953,7172.291552173927,7437.8381970028795,7704.678038032315,7972.535603948318,8241.130507596365,8510.147090538447,8644.945823104641],[1.3920350128246554e-13,1.2837536827065537,9.736867327435503,28.210095885399813,55.85823607347631,92.55748876180778,138.1633433173515,192.52565033777577,255.49339547512312,326.9153497398394,406.6400654125345,494.5157975245199,590.3904184647395,694.1113280858973,805.5253574839821,924.4786655885026,1050.816628317269,1184.3837202997472,1325.0233892688523,1472.5779232581592,1626.8883107562883,1787.794093976197,1955.1332153997992,2128.7418577598796,2308.454277622486,2494.102632734213,2685.5168033003233,2882.52420736131,3084.9496104374693,3292.6149296132603,3505.3390322356936,3722.9375294035476,3945.222564427359,4172.002596442991,4403.082179365195,4638.261736370996,4877.337330106779,5120.100428816745,5366.337668594966,5615.83061196775,5868.355503017963,6123.683019269168,6381.578020558076,6641.799295160454,6904.099303607504,7168.223921473831,7433.912185739628,7700.896055699005,7968.900091643634,8237.639824174421,8506.798616040931,8641.36811006247],[8.618112446088252e-14,1.283753692134146,9.736867348001198,28.21009590680019,55.85823609508894,92.55748878351278,138.16334333911877,192.52565035959202,255.49339549698144,326.9153497617367,406.6400654344706,494.515797546496,590.3904184867583,694.1113281079619,805.5253575060959,924.4786656106696,1050.8166283394926,1184.3837203220323,1325.023389291202,1472.5779232805787,1626.8883107787815,1787.794093998767,1955.1332154224494,2128.7418577826143,2308.454277645309,2494.102632757126,2685.5168033233317,2882.524207384415,3084.9496104606746,3292.6149296365675,3505.3390322591063,3722.9375294270667,3945.2225644509867,4172.0025964667275,4403.082179389044,4638.261736394958,4877.337330130855,5120.100428840934,5366.3376686192705,5615.830611992167,5868.355503042494,6123.68301929381,6381.578020582831,6641.7992951853175,6904.099303632474,7168.223921498904,7433.912185764789,7700.896055724223,7968.900091668871,8237.639824199761,8506.798616066824,8641.3681100856],[2.8781547093300324e-13,3.877936785634868,16.365144148184722,35.885302006394696,63.907346723465146,100.73749663455524,146.37032757575741,200.7087872795152,263.62520941150336,334.9797548036634,414.62701528099655,502.41867051735574,598.2046416611769,701.8336070962367,813.1532221291732,932.0101896973329,1058.250250114458,1191.7181233100364,1332.2574209348033,1479.7105378026506,1633.9185280683596,1794.720969354568,1961.9558168237745,2135.4592484908294,2315.065502656776,2500.606708093262,2691.9127074507387,2888.810874265042,3091.125923873866,3298.6797185137407,3511.291066841714,3728.77551810874,3950.945151201279,4177.608358760872,4408.569626588327,4643.629308537678,4882.583397105614,5125.223289923345,5371.335552360533,5620.701676453894,5873.097836376619,6128.29464066782,6386.056881439884,6646.143280761012,6908.306234316879,7172.2915522491685,7437.838197078407,7704.67803810808,7972.53560402429,8241.13050767323,8510.147090614162,8644.945823204564],[0.0,6.4498471079105055,20.77484905289758,41.687232760471666,70.41930453365538,107.59968594150627,153.39911475453897,207.80652847162054,270.7365906601615,342.071540154184,421.6781850048779,509.415331055856,605.1372487804584,708.6953743082646,819.9391679912858,938.7165453853848,1064.8740784428826,1198.2570663186136,1338.7095281414229,1486.074146505708,1640.19217808937,1800.9033410931968,1968.0456854233182,2141.455449351331,2320.9669050839007,2506.4121948782977,2697.6211588438955,2894.4211552536576,3096.6368739849922,3304.0901435747364,3516.599732283562,3733.981143504839,3956.046405812685,4182.603857916329,4413.457928769923,4648.408913074934,4887.252742405019,5129.780752178991,5375.77944470605,5625.030248527306,5877.309274278944,6132.387067303701,6390.028357235123,6649.991804762332,6912.029745731984,7175.887932733299,7441.305276032376,7708.013589595012,7975.737455145096,8244.19203099212,8513.094300415349,8647.352200058123]],\"type\":\"surface\"}],                        {\"template\":{\"data\":{\"bar\":[{\"error_x\":{\"color\":\"#2a3f5f\"},\"error_y\":{\"color\":\"#2a3f5f\"},\"marker\":{\"line\":{\"color\":\"#E5ECF6\",\"width\":0.5},\"pattern\":{\"fillmode\":\"overlay\",\"size\":10,\"solidity\":0.2}},\"type\":\"bar\"}],\"barpolar\":[{\"marker\":{\"line\":{\"color\":\"#E5ECF6\",\"width\":0.5},\"pattern\":{\"fillmode\":\"overlay\",\"size\":10,\"solidity\":0.2}},\"type\":\"barpolar\"}],\"carpet\":[{\"aaxis\":{\"endlinecolor\":\"#2a3f5f\",\"gridcolor\":\"white\",\"linecolor\":\"white\",\"minorgridcolor\":\"white\",\"startlinecolor\":\"#2a3f5f\"},\"baxis\":{\"endlinecolor\":\"#2a3f5f\",\"gridcolor\":\"white\",\"linecolor\":\"white\",\"minorgridcolor\":\"white\",\"startlinecolor\":\"#2a3f5f\"},\"type\":\"carpet\"}],\"choropleth\":[{\"colorbar\":{\"outlinewidth\":0,\"ticks\":\"\"},\"type\":\"choropleth\"}],\"contour\":[{\"colorbar\":{\"outlinewidth\":0,\"ticks\":\"\"},\"colorscale\":[[0.0,\"#0d0887\"],[0.1111111111111111,\"#46039f\"],[0.2222222222222222,\"#7201a8\"],[0.3333333333333333,\"#9c179e\"],[0.4444444444444444,\"#bd3786\"],[0.5555555555555556,\"#d8576b\"],[0.6666666666666666,\"#ed7953\"],[0.7777777777777778,\"#fb9f3a\"],[0.8888888888888888,\"#fdca26\"],[1.0,\"#f0f921\"]],\"type\":\"contour\"}],\"contourcarpet\":[{\"colorbar\":{\"outlinewidth\":0,\"ticks\":\"\"},\"type\":\"contourcarpet\"}],\"heatmap\":[{\"colorbar\":{\"outlinewidth\":0,\"ticks\":\"\"},\"colorscale\":[[0.0,\"#0d0887\"],[0.1111111111111111,\"#46039f\"],[0.2222222222222222,\"#7201a8\"],[0.3333333333333333,\"#9c179e\"],[0.4444444444444444,\"#bd3786\"],[0.5555555555555556,\"#d8576b\"],[0.6666666666666666,\"#ed7953\"],[0.7777777777777778,\"#fb9f3a\"],[0.8888888888888888,\"#fdca26\"],[1.0,\"#f0f921\"]],\"type\":\"heatmap\"}],\"heatmapgl\":[{\"colorbar\":{\"outlinewidth\":0,\"ticks\":\"\"},\"colorscale\":[[0.0,\"#0d0887\"],[0.1111111111111111,\"#46039f\"],[0.2222222222222222,\"#7201a8\"],[0.3333333333333333,\"#9c179e\"],[0.4444444444444444,\"#bd3786\"],[0.5555555555555556,\"#d8576b\"],[0.6666666666666666,\"#ed7953\"],[0.7777777777777778,\"#fb9f3a\"],[0.8888888888888888,\"#fdca26\"],[1.0,\"#f0f921\"]],\"type\":\"heatmapgl\"}],\"histogram\":[{\"marker\":{\"pattern\":{\"fillmode\":\"overlay\",\"size\":10,\"solidity\":0.2}},\"type\":\"histogram\"}],\"histogram2d\":[{\"colorbar\":{\"outlinewidth\":0,\"ticks\":\"\"},\"colorscale\":[[0.0,\"#0d0887\"],[0.1111111111111111,\"#46039f\"],[0.2222222222222222,\"#7201a8\"],[0.3333333333333333,\"#9c179e\"],[0.4444444444444444,\"#bd3786\"],[0.5555555555555556,\"#d8576b\"],[0.6666666666666666,\"#ed7953\"],[0.7777777777777778,\"#fb9f3a\"],[0.8888888888888888,\"#fdca26\"],[1.0,\"#f0f921\"]],\"type\":\"histogram2d\"}],\"histogram2dcontour\":[{\"colorbar\":{\"outlinewidth\":0,\"ticks\":\"\"},\"colorscale\":[[0.0,\"#0d0887\"],[0.1111111111111111,\"#46039f\"],[0.2222222222222222,\"#7201a8\"],[0.3333333333333333,\"#9c179e\"],[0.4444444444444444,\"#bd3786\"],[0.5555555555555556,\"#d8576b\"],[0.6666666666666666,\"#ed7953\"],[0.7777777777777778,\"#fb9f3a\"],[0.8888888888888888,\"#fdca26\"],[1.0,\"#f0f921\"]],\"type\":\"histogram2dcontour\"}],\"mesh3d\":[{\"colorbar\":{\"outlinewidth\":0,\"ticks\":\"\"},\"type\":\"mesh3d\"}],\"parcoords\":[{\"line\":{\"colorbar\":{\"outlinewidth\":0,\"ticks\":\"\"}},\"type\":\"parcoords\"}],\"pie\":[{\"automargin\":true,\"type\":\"pie\"}],\"scatter\":[{\"marker\":{\"colorbar\":{\"outlinewidth\":0,\"ticks\":\"\"}},\"type\":\"scatter\"}],\"scatter3d\":[{\"line\":{\"colorbar\":{\"outlinewidth\":0,\"ticks\":\"\"}},\"marker\":{\"colorbar\":{\"outlinewidth\":0,\"ticks\":\"\"}},\"type\":\"scatter3d\"}],\"scattercarpet\":[{\"marker\":{\"colorbar\":{\"outlinewidth\":0,\"ticks\":\"\"}},\"type\":\"scattercarpet\"}],\"scattergeo\":[{\"marker\":{\"colorbar\":{\"outlinewidth\":0,\"ticks\":\"\"}},\"type\":\"scattergeo\"}],\"scattergl\":[{\"marker\":{\"colorbar\":{\"outlinewidth\":0,\"ticks\":\"\"}},\"type\":\"scattergl\"}],\"scattermapbox\":[{\"marker\":{\"colorbar\":{\"outlinewidth\":0,\"ticks\":\"\"}},\"type\":\"scattermapbox\"}],\"scatterpolar\":[{\"marker\":{\"colorbar\":{\"outlinewidth\":0,\"ticks\":\"\"}},\"type\":\"scatterpolar\"}],\"scatterpolargl\":[{\"marker\":{\"colorbar\":{\"outlinewidth\":0,\"ticks\":\"\"}},\"type\":\"scatterpolargl\"}],\"scatterternary\":[{\"marker\":{\"colorbar\":{\"outlinewidth\":0,\"ticks\":\"\"}},\"type\":\"scatterternary\"}],\"surface\":[{\"colorbar\":{\"outlinewidth\":0,\"ticks\":\"\"},\"colorscale\":[[0.0,\"#0d0887\"],[0.1111111111111111,\"#46039f\"],[0.2222222222222222,\"#7201a8\"],[0.3333333333333333,\"#9c179e\"],[0.4444444444444444,\"#bd3786\"],[0.5555555555555556,\"#d8576b\"],[0.6666666666666666,\"#ed7953\"],[0.7777777777777778,\"#fb9f3a\"],[0.8888888888888888,\"#fdca26\"],[1.0,\"#f0f921\"]],\"type\":\"surface\"}],\"table\":[{\"cells\":{\"fill\":{\"color\":\"#EBF0F8\"},\"line\":{\"color\":\"white\"}},\"header\":{\"fill\":{\"color\":\"#C8D4E3\"},\"line\":{\"color\":\"white\"}},\"type\":\"table\"}]},\"layout\":{\"annotationdefaults\":{\"arrowcolor\":\"#2a3f5f\",\"arrowhead\":0,\"arrowwidth\":1},\"autotypenumbers\":\"strict\",\"coloraxis\":{\"colorbar\":{\"outlinewidth\":0,\"ticks\":\"\"}},\"colorscale\":{\"diverging\":[[0,\"#8e0152\"],[0.1,\"#c51b7d\"],[0.2,\"#de77ae\"],[0.3,\"#f1b6da\"],[0.4,\"#fde0ef\"],[0.5,\"#f7f7f7\"],[0.6,\"#e6f5d0\"],[0.7,\"#b8e186\"],[0.8,\"#7fbc41\"],[0.9,\"#4d9221\"],[1,\"#276419\"]],\"sequential\":[[0.0,\"#0d0887\"],[0.1111111111111111,\"#46039f\"],[0.2222222222222222,\"#7201a8\"],[0.3333333333333333,\"#9c179e\"],[0.4444444444444444,\"#bd3786\"],[0.5555555555555556,\"#d8576b\"],[0.6666666666666666,\"#ed7953\"],[0.7777777777777778,\"#fb9f3a\"],[0.8888888888888888,\"#fdca26\"],[1.0,\"#f0f921\"]],\"sequentialminus\":[[0.0,\"#0d0887\"],[0.1111111111111111,\"#46039f\"],[0.2222222222222222,\"#7201a8\"],[0.3333333333333333,\"#9c179e\"],[0.4444444444444444,\"#bd3786\"],[0.5555555555555556,\"#d8576b\"],[0.6666666666666666,\"#ed7953\"],[0.7777777777777778,\"#fb9f3a\"],[0.8888888888888888,\"#fdca26\"],[1.0,\"#f0f921\"]]},\"colorway\":[\"#636efa\",\"#EF553B\",\"#00cc96\",\"#ab63fa\",\"#FFA15A\",\"#19d3f3\",\"#FF6692\",\"#B6E880\",\"#FF97FF\",\"#FECB52\"],\"font\":{\"color\":\"#2a3f5f\"},\"geo\":{\"bgcolor\":\"white\",\"lakecolor\":\"white\",\"landcolor\":\"#E5ECF6\",\"showlakes\":true,\"showland\":true,\"subunitcolor\":\"white\"},\"hoverlabel\":{\"align\":\"left\"},\"hovermode\":\"closest\",\"mapbox\":{\"style\":\"light\"},\"paper_bgcolor\":\"white\",\"plot_bgcolor\":\"#E5ECF6\",\"polar\":{\"angularaxis\":{\"gridcolor\":\"white\",\"linecolor\":\"white\",\"ticks\":\"\"},\"bgcolor\":\"#E5ECF6\",\"radialaxis\":{\"gridcolor\":\"white\",\"linecolor\":\"white\",\"ticks\":\"\"}},\"scene\":{\"xaxis\":{\"backgroundcolor\":\"#E5ECF6\",\"gridcolor\":\"white\",\"gridwidth\":2,\"linecolor\":\"white\",\"showbackground\":true,\"ticks\":\"\",\"zerolinecolor\":\"white\"},\"yaxis\":{\"backgroundcolor\":\"#E5ECF6\",\"gridcolor\":\"white\",\"gridwidth\":2,\"linecolor\":\"white\",\"showbackground\":true,\"ticks\":\"\",\"zerolinecolor\":\"white\"},\"zaxis\":{\"backgroundcolor\":\"#E5ECF6\",\"gridcolor\":\"white\",\"gridwidth\":2,\"linecolor\":\"white\",\"showbackground\":true,\"ticks\":\"\",\"zerolinecolor\":\"white\"}},\"shapedefaults\":{\"line\":{\"color\":\"#2a3f5f\"}},\"ternary\":{\"aaxis\":{\"gridcolor\":\"white\",\"linecolor\":\"white\",\"ticks\":\"\"},\"baxis\":{\"gridcolor\":\"white\",\"linecolor\":\"white\",\"ticks\":\"\"},\"bgcolor\":\"#E5ECF6\",\"caxis\":{\"gridcolor\":\"white\",\"linecolor\":\"white\",\"ticks\":\"\"}},\"title\":{\"x\":0.05},\"xaxis\":{\"automargin\":true,\"gridcolor\":\"white\",\"linecolor\":\"white\",\"ticks\":\"\",\"title\":{\"standoff\":15},\"zerolinecolor\":\"white\",\"zerolinewidth\":2},\"yaxis\":{\"automargin\":true,\"gridcolor\":\"white\",\"linecolor\":\"white\",\"ticks\":\"\",\"title\":{\"standoff\":15},\"zerolinecolor\":\"white\",\"zerolinewidth\":2}}}},                        {\"responsive\": true}                    ).then(function(){\n",
       "                            \n",
       "var gd = document.getElementById('fba0dffa-cfbf-46cf-ac99-9695e9997985');\n",
       "var x = new MutationObserver(function (mutations, observer) {{\n",
       "        var display = window.getComputedStyle(gd).display;\n",
       "        if (!display || display === 'none') {{\n",
       "            console.log([gd, 'removed!']);\n",
       "            Plotly.purge(gd);\n",
       "            observer.disconnect();\n",
       "        }}\n",
       "}});\n",
       "\n",
       "// Listen for the removal of the full notebook cells\n",
       "var notebookContainer = gd.closest('#notebook-container');\n",
       "if (notebookContainer) {{\n",
       "    x.observe(notebookContainer, {childList: true});\n",
       "}}\n",
       "\n",
       "// Listen for the clearing of the current output cell\n",
       "var outputEl = gd.closest('.output');\n",
       "if (outputEl) {{\n",
       "    x.observe(outputEl, {childList: true});\n",
       "}}\n",
       "\n",
       "                        })                };                });            </script>        </div>"
      ]
     },
     "metadata": {},
     "output_type": "display_data"
    },
    {
     "name": "stdout",
     "output_type": "stream",
     "text": [
      "U graph\n"
     ]
    },
    {
     "data": {
      "application/vnd.plotly.v1+json": {
       "config": {
        "plotlyServerURL": "https://plot.ly"
       },
       "data": [
        {
         "type": "surface",
         "x": [
          [
           0,
           0.02,
           0.06,
           0.09999999999999999,
           0.13999999999999999,
           0.17999999999999997,
           0.21999999999999995,
           0.25999999999999995,
           0.3,
           0.33999999999999997,
           0.37999999999999995,
           0.41999999999999993,
           0.45999999999999996,
           0.49999999999999994,
           0.5399999999999999,
           0.58,
           0.6199999999999999,
           0.6599999999999999,
           0.7,
           0.7399999999999999,
           0.7799999999999999,
           0.8199999999999998,
           0.8599999999999999,
           0.8999999999999999,
           0.9399999999999998,
           0.9799999999999999,
           1.0199999999999998,
           1.0599999999999998,
           1.0999999999999999,
           1.14,
           1.18,
           1.2199999999999998,
           1.2599999999999998,
           1.2999999999999998,
           1.3399999999999999,
           1.38,
           1.4199999999999997,
           1.4599999999999997,
           1.4999999999999998,
           1.5399999999999998,
           1.5799999999999998,
           1.6199999999999997,
           1.6599999999999997,
           1.6999999999999997,
           1.7399999999999998,
           1.7799999999999998,
           1.8199999999999998,
           1.8599999999999997,
           1.8999999999999997,
           1.9399999999999997,
           1.9799999999999998,
           2
          ],
          [
           0,
           0.02,
           0.06,
           0.09999999999999999,
           0.13999999999999999,
           0.17999999999999997,
           0.21999999999999995,
           0.25999999999999995,
           0.3,
           0.33999999999999997,
           0.37999999999999995,
           0.41999999999999993,
           0.45999999999999996,
           0.49999999999999994,
           0.5399999999999999,
           0.58,
           0.6199999999999999,
           0.6599999999999999,
           0.7,
           0.7399999999999999,
           0.7799999999999999,
           0.8199999999999998,
           0.8599999999999999,
           0.8999999999999999,
           0.9399999999999998,
           0.9799999999999999,
           1.0199999999999998,
           1.0599999999999998,
           1.0999999999999999,
           1.14,
           1.18,
           1.2199999999999998,
           1.2599999999999998,
           1.2999999999999998,
           1.3399999999999999,
           1.38,
           1.4199999999999997,
           1.4599999999999997,
           1.4999999999999998,
           1.5399999999999998,
           1.5799999999999998,
           1.6199999999999997,
           1.6599999999999997,
           1.6999999999999997,
           1.7399999999999998,
           1.7799999999999998,
           1.8199999999999998,
           1.8599999999999997,
           1.8999999999999997,
           1.9399999999999997,
           1.9799999999999998,
           2
          ],
          [
           0,
           0.02,
           0.06,
           0.09999999999999999,
           0.13999999999999999,
           0.17999999999999997,
           0.21999999999999995,
           0.25999999999999995,
           0.3,
           0.33999999999999997,
           0.37999999999999995,
           0.41999999999999993,
           0.45999999999999996,
           0.49999999999999994,
           0.5399999999999999,
           0.58,
           0.6199999999999999,
           0.6599999999999999,
           0.7,
           0.7399999999999999,
           0.7799999999999999,
           0.8199999999999998,
           0.8599999999999999,
           0.8999999999999999,
           0.9399999999999998,
           0.9799999999999999,
           1.0199999999999998,
           1.0599999999999998,
           1.0999999999999999,
           1.14,
           1.18,
           1.2199999999999998,
           1.2599999999999998,
           1.2999999999999998,
           1.3399999999999999,
           1.38,
           1.4199999999999997,
           1.4599999999999997,
           1.4999999999999998,
           1.5399999999999998,
           1.5799999999999998,
           1.6199999999999997,
           1.6599999999999997,
           1.6999999999999997,
           1.7399999999999998,
           1.7799999999999998,
           1.8199999999999998,
           1.8599999999999997,
           1.8999999999999997,
           1.9399999999999997,
           1.9799999999999998,
           2
          ],
          [
           0,
           0.02,
           0.06,
           0.09999999999999999,
           0.13999999999999999,
           0.17999999999999997,
           0.21999999999999995,
           0.25999999999999995,
           0.3,
           0.33999999999999997,
           0.37999999999999995,
           0.41999999999999993,
           0.45999999999999996,
           0.49999999999999994,
           0.5399999999999999,
           0.58,
           0.6199999999999999,
           0.6599999999999999,
           0.7,
           0.7399999999999999,
           0.7799999999999999,
           0.8199999999999998,
           0.8599999999999999,
           0.8999999999999999,
           0.9399999999999998,
           0.9799999999999999,
           1.0199999999999998,
           1.0599999999999998,
           1.0999999999999999,
           1.14,
           1.18,
           1.2199999999999998,
           1.2599999999999998,
           1.2999999999999998,
           1.3399999999999999,
           1.38,
           1.4199999999999997,
           1.4599999999999997,
           1.4999999999999998,
           1.5399999999999998,
           1.5799999999999998,
           1.6199999999999997,
           1.6599999999999997,
           1.6999999999999997,
           1.7399999999999998,
           1.7799999999999998,
           1.8199999999999998,
           1.8599999999999997,
           1.8999999999999997,
           1.9399999999999997,
           1.9799999999999998,
           2
          ],
          [
           0,
           0.02,
           0.06,
           0.09999999999999999,
           0.13999999999999999,
           0.17999999999999997,
           0.21999999999999995,
           0.25999999999999995,
           0.3,
           0.33999999999999997,
           0.37999999999999995,
           0.41999999999999993,
           0.45999999999999996,
           0.49999999999999994,
           0.5399999999999999,
           0.58,
           0.6199999999999999,
           0.6599999999999999,
           0.7,
           0.7399999999999999,
           0.7799999999999999,
           0.8199999999999998,
           0.8599999999999999,
           0.8999999999999999,
           0.9399999999999998,
           0.9799999999999999,
           1.0199999999999998,
           1.0599999999999998,
           1.0999999999999999,
           1.14,
           1.18,
           1.2199999999999998,
           1.2599999999999998,
           1.2999999999999998,
           1.3399999999999999,
           1.38,
           1.4199999999999997,
           1.4599999999999997,
           1.4999999999999998,
           1.5399999999999998,
           1.5799999999999998,
           1.6199999999999997,
           1.6599999999999997,
           1.6999999999999997,
           1.7399999999999998,
           1.7799999999999998,
           1.8199999999999998,
           1.8599999999999997,
           1.8999999999999997,
           1.9399999999999997,
           1.9799999999999998,
           2
          ],
          [
           0,
           0.02,
           0.06,
           0.09999999999999999,
           0.13999999999999999,
           0.17999999999999997,
           0.21999999999999995,
           0.25999999999999995,
           0.3,
           0.33999999999999997,
           0.37999999999999995,
           0.41999999999999993,
           0.45999999999999996,
           0.49999999999999994,
           0.5399999999999999,
           0.58,
           0.6199999999999999,
           0.6599999999999999,
           0.7,
           0.7399999999999999,
           0.7799999999999999,
           0.8199999999999998,
           0.8599999999999999,
           0.8999999999999999,
           0.9399999999999998,
           0.9799999999999999,
           1.0199999999999998,
           1.0599999999999998,
           1.0999999999999999,
           1.14,
           1.18,
           1.2199999999999998,
           1.2599999999999998,
           1.2999999999999998,
           1.3399999999999999,
           1.38,
           1.4199999999999997,
           1.4599999999999997,
           1.4999999999999998,
           1.5399999999999998,
           1.5799999999999998,
           1.6199999999999997,
           1.6599999999999997,
           1.6999999999999997,
           1.7399999999999998,
           1.7799999999999998,
           1.8199999999999998,
           1.8599999999999997,
           1.8999999999999997,
           1.9399999999999997,
           1.9799999999999998,
           2
          ]
         ],
         "y": [
          [
           0,
           0,
           0,
           0,
           0,
           0,
           0,
           0,
           0,
           0,
           0,
           0,
           0,
           0,
           0,
           0,
           0,
           0,
           0,
           0,
           0,
           0,
           0,
           0,
           0,
           0,
           0,
           0,
           0,
           0,
           0,
           0,
           0,
           0,
           0,
           0,
           0,
           0,
           0,
           0,
           0,
           0,
           0,
           0,
           0,
           0,
           0,
           0,
           0,
           0,
           0,
           0
          ],
          [
           0.0125,
           0.0125,
           0.0125,
           0.0125,
           0.0125,
           0.0125,
           0.0125,
           0.0125,
           0.0125,
           0.0125,
           0.0125,
           0.0125,
           0.0125,
           0.0125,
           0.0125,
           0.0125,
           0.0125,
           0.0125,
           0.0125,
           0.0125,
           0.0125,
           0.0125,
           0.0125,
           0.0125,
           0.0125,
           0.0125,
           0.0125,
           0.0125,
           0.0125,
           0.0125,
           0.0125,
           0.0125,
           0.0125,
           0.0125,
           0.0125,
           0.0125,
           0.0125,
           0.0125,
           0.0125,
           0.0125,
           0.0125,
           0.0125,
           0.0125,
           0.0125,
           0.0125,
           0.0125,
           0.0125,
           0.0125,
           0.0125,
           0.0125,
           0.0125,
           0.0125
          ],
          [
           0.037500000000000006,
           0.037500000000000006,
           0.037500000000000006,
           0.037500000000000006,
           0.037500000000000006,
           0.037500000000000006,
           0.037500000000000006,
           0.037500000000000006,
           0.037500000000000006,
           0.037500000000000006,
           0.037500000000000006,
           0.037500000000000006,
           0.037500000000000006,
           0.037500000000000006,
           0.037500000000000006,
           0.037500000000000006,
           0.037500000000000006,
           0.037500000000000006,
           0.037500000000000006,
           0.037500000000000006,
           0.037500000000000006,
           0.037500000000000006,
           0.037500000000000006,
           0.037500000000000006,
           0.037500000000000006,
           0.037500000000000006,
           0.037500000000000006,
           0.037500000000000006,
           0.037500000000000006,
           0.037500000000000006,
           0.037500000000000006,
           0.037500000000000006,
           0.037500000000000006,
           0.037500000000000006,
           0.037500000000000006,
           0.037500000000000006,
           0.037500000000000006,
           0.037500000000000006,
           0.037500000000000006,
           0.037500000000000006,
           0.037500000000000006,
           0.037500000000000006,
           0.037500000000000006,
           0.037500000000000006,
           0.037500000000000006,
           0.037500000000000006,
           0.037500000000000006,
           0.037500000000000006,
           0.037500000000000006,
           0.037500000000000006,
           0.037500000000000006,
           0.037500000000000006
          ],
          [
           0.06250000000000001,
           0.06250000000000001,
           0.06250000000000001,
           0.06250000000000001,
           0.06250000000000001,
           0.06250000000000001,
           0.06250000000000001,
           0.06250000000000001,
           0.06250000000000001,
           0.06250000000000001,
           0.06250000000000001,
           0.06250000000000001,
           0.06250000000000001,
           0.06250000000000001,
           0.06250000000000001,
           0.06250000000000001,
           0.06250000000000001,
           0.06250000000000001,
           0.06250000000000001,
           0.06250000000000001,
           0.06250000000000001,
           0.06250000000000001,
           0.06250000000000001,
           0.06250000000000001,
           0.06250000000000001,
           0.06250000000000001,
           0.06250000000000001,
           0.06250000000000001,
           0.06250000000000001,
           0.06250000000000001,
           0.06250000000000001,
           0.06250000000000001,
           0.06250000000000001,
           0.06250000000000001,
           0.06250000000000001,
           0.06250000000000001,
           0.06250000000000001,
           0.06250000000000001,
           0.06250000000000001,
           0.06250000000000001,
           0.06250000000000001,
           0.06250000000000001,
           0.06250000000000001,
           0.06250000000000001,
           0.06250000000000001,
           0.06250000000000001,
           0.06250000000000001,
           0.06250000000000001,
           0.06250000000000001,
           0.06250000000000001,
           0.06250000000000001,
           0.06250000000000001
          ],
          [
           0.08750000000000001,
           0.08750000000000001,
           0.08750000000000001,
           0.08750000000000001,
           0.08750000000000001,
           0.08750000000000001,
           0.08750000000000001,
           0.08750000000000001,
           0.08750000000000001,
           0.08750000000000001,
           0.08750000000000001,
           0.08750000000000001,
           0.08750000000000001,
           0.08750000000000001,
           0.08750000000000001,
           0.08750000000000001,
           0.08750000000000001,
           0.08750000000000001,
           0.08750000000000001,
           0.08750000000000001,
           0.08750000000000001,
           0.08750000000000001,
           0.08750000000000001,
           0.08750000000000001,
           0.08750000000000001,
           0.08750000000000001,
           0.08750000000000001,
           0.08750000000000001,
           0.08750000000000001,
           0.08750000000000001,
           0.08750000000000001,
           0.08750000000000001,
           0.08750000000000001,
           0.08750000000000001,
           0.08750000000000001,
           0.08750000000000001,
           0.08750000000000001,
           0.08750000000000001,
           0.08750000000000001,
           0.08750000000000001,
           0.08750000000000001,
           0.08750000000000001,
           0.08750000000000001,
           0.08750000000000001,
           0.08750000000000001,
           0.08750000000000001,
           0.08750000000000001,
           0.08750000000000001,
           0.08750000000000001,
           0.08750000000000001,
           0.08750000000000001,
           0.08750000000000001
          ],
          [
           0.1,
           0.1,
           0.1,
           0.1,
           0.1,
           0.1,
           0.1,
           0.1,
           0.1,
           0.1,
           0.1,
           0.1,
           0.1,
           0.1,
           0.1,
           0.1,
           0.1,
           0.1,
           0.1,
           0.1,
           0.1,
           0.1,
           0.1,
           0.1,
           0.1,
           0.1,
           0.1,
           0.1,
           0.1,
           0.1,
           0.1,
           0.1,
           0.1,
           0.1,
           0.1,
           0.1,
           0.1,
           0.1,
           0.1,
           0.1,
           0.1,
           0.1,
           0.1,
           0.1,
           0.1,
           0.1,
           0.1,
           0.1,
           0.1,
           0.1,
           0.1,
           0.1
          ]
         ],
         "z": [
          [
           0,
           -0.000006022457463885895,
           -0.00001702589794837174,
           -0.0000285358504843111,
           -0.00003993783562158968,
           -0.00005116462929506065,
           -0.0000622042226730796,
           -0.00007305514362094222,
           -0.0000837170574150418,
           -0.00009418968603278431,
           -0.00010447267703697997,
           -0.000114565584102436,
           -0.00012446785662352086,
           -0.00013417882981460507,
           -0.00014369771491213592,
           -0.0001530235895399063,
           -0.00016215538825971218,
           -0.0001710918933125075,
           -0.00017983172555174732,
           -0.00018837333557019967,
           -0.00019671499502159167,
           -0.0002048547881385982,
           -0.00021279060344887488,
           -0.0002205201256910257,
           -0.00022804082793257286,
           -0.00023534996389221516,
           -0.000242444560468862,
           -0.00024932141048015317,
           -0.00025597706561340496,
           -0.0002624078295921434,
           -0.00026860975156162625,
           -0.0002745786196970252,
           -0.00028030995503816575,
           -0.0002857990055549823,
           -0.0002910407404481343,
           -0.0002960298446894929,
           -0.0003007607138074574,
           -0.00030522744892237793,
           -0.0003094238520376344,
           -0.00031334342159220396,
           -0.0003169793482807862,
           -0.0003203245111477179,
           -0.00032337147396133327,
           -0.0003261124818829161,
           -0.00032853945851866323,
           -0.00033064400408018416,
           -0.0003324173981381402,
           -0.00033385063604337905,
           -0.00033493428479115653,
           -0.00033566035252179967,
           -0.0003359518441231736,
           -0.00033614418011658845
          ],
          [
           3.7981995514460973e-19,
           -0.0000038016561998323314,
           -0.000012638264892532954,
           -0.00002133360766799342,
           -0.00002989612314198326,
           -0.000038317396151946844,
           -0.0000465971662565195,
           -0.00005473530127980677,
           -0.00006273165285617531,
           -0.00007058601624348154,
           -0.00007829812387207193,
           -0.00008586763779191474,
           -0.00009329414203461713,
           -0.00010057713508861431,
           -0.00010771602252206079,
           -0.00011471010975127574,
           -0.00012155859495301778,
           -0.00012826056212049907,
           -0.00013481497426372257,
           -0.00014122066675498814,
           -0.00014747634082057907,
           -0.00015358055717975912,
           -0.000159531729832359,
           -0.000165328119996369,
           -0.00017096783019709597,
           -0.00017644879850959688,
           -0.00018176879295626078,
           -0.00018692540606157123,
           -0.00019191604956625587,
           -0.00019673794930319809,
           -0.00020138814023766644,
           -0.00020586346167460922,
           -0.00021016055263594727,
           -0.00021427584741098165,
           -0.00021820557128325282,
           -0.00022194573643738113,
           -0.0002254921380496181,
           -0.00022884035056606848,
           -0.0002319857241727453,
           -0.00023492338146190026,
           -0.00023764821429940483,
           -0.00024015488089889145,
           -0.00024243780311185463,
           -0.0002444911639587123,
           -0.0002463089055036527,
           -0.00024788472755372693,
           -0.00024921208997763316,
           -0.0002502842288697512,
           -0.00025109432713224587,
           -0.0002516351682433497,
           -0.0002519184418864008,
           -0.00025181473855634135
          ],
          [
           1.378490456512996e-19,
           -0.0000011777051596044,
           -0.000004156040146976001,
           -0.000007088215569068817,
           -0.000009949067191935156,
           -0.000012757330630899154,
           -0.000015517423533991214,
           -0.00001823014568572249,
           -0.00002089557800412241,
           -0.00002351367091087509,
           -0.000026084337271293165,
           -0.000028607464082587395,
           -0.000031082911976655385,
           -0.000033510513021646875,
           -0.00003589006831486559,
           -0.00003822134558213809,
           -0.00004050407681734389,
           -0.00004273795596827488,
           -0.000044922636670271524,
           -0.00004705773002818628,
           -0.00004914280244707088,
           -0.000051177373511978957,
           -0.000053160913917310895,
           -0.00005509284344617506,
           -0.00005697252900029037,
           -0.00005879928268099279,
           -0.00006057235992197879,
           -0.00006229095767445957,
           -0.00006395421264545993,
           -0.00006556119959006022,
           -0.00006711092965842884,
           -0.00006860234879856402,
           -0.00007003433621571927,
           -0.00007140570288956014,
           -0.00007271519015015316,
           -0.0000739614683139726,
           -0.0000751431353811675,
           -0.0000762587157953848,
           -0.00007730665926749937,
           -0.00007828533966445365,
           -0.0000791930539635548,
           -0.00008002802126814118,
           -0.00008078838185880923,
           -0.00008147219614925922,
           -0.00008207744291017896,
           -0.0000826020137579825,
           -0.00008304369028768155,
           -0.00008340005025574879,
           -0.00008366810621184978,
           -0.00008384392260263466,
           -0.00008391936780840093,
           -0.0000839737893863219
          ],
          [
           -8.215595568929399e-20,
           0.0000011777051708822683,
           0.000004156040186982609,
           0.000007088215638724458,
           0.000009949067291080108,
           0.00001275733075940074,
           0.000015517423691776946,
           0.000018230145872737395,
           0.000020895578220309577,
           0.000023513671156170445,
           0.000026084337545624653,
           0.000028607464385874812,
           0.00003108291230881062,
           0.00003351051338257425,
           0.000035890068704461774,
           0.000038221346000292564,
           0.000040504077263938666,
           0.0000427379564431851,
           0.000044922637173364954,
           0.00004705773055932413,
           0.00004914280300610869,
           0.000051177374098765036,
           0.00005316091453168658,
           0.00005509284408797651,
           0.00005697252966934695,
           0.00005879928337712834,
           0.00006057236064501183,
           0.00006229095842420221,
           0.00006395421342171951,
           0.00006556120039263949,
           0.0000671109304871257,
           0.00006860234965317082,
           0.00007003433709602475,
           0.00007140570379534698,
           0.00007271519108119915,
           0.00007396146927005347,
           0.00007514313636205339,
           0.0000762587168008434,
           0.0000773066602972944,
           0.0000782853407183454,
           0.00007919305504130115,
           0.00008002802236949746,
           0.00008078838298352699,
           0.00008147219729708844,
           0.00008207744408086612,
           0.0000826020149512702,
           0.00008304369150329736,
           0.0000834000514933632,
           0.00008366810747098121,
           0.00008384392388258212,
           0.00008391936910715491,
           0.00008397379069747665
          ],
          [
           -2.8780528477260044e-19,
           0.0000038016562125692984,
           0.000012638264933687928,
           0.000021333607738088956,
           0.000029896123241348397,
           0.0000383173962806457,
           0.00004659716641453199,
           0.000054735301467087266,
           0.00006273165307266721,
           0.00007058601648911989,
           0.00007829812414678392,
           0.00008586763809561946,
           0.00009329414236722581,
           0.00010057713545003047,
           0.0001077160229121805,
           0.00011471011016998757,
           0.00012155859540020329,
           0.00012826056259603255,
           0.00013481497476747122,
           0.00014122066728681278,
           0.00014747634138033354,
           0.00015358055776729107,
           0.00015953173044750955,
           0.00016532812063897338,
           0.0001709678308669827,
           0.00017644879920658955,
           0.00018176879368017666,
           0.00018692540681222215,
           0.0001919160503434482,
           0.00019673795010673317,
           0.00020138814106734096,
           0.00020586346253021577,
           0.00021016055351727271,
           0.00021427584831780873,
           0.00021820557221535942,
           0.00022194573739453996,
           0.00022549213903159994,
           0.00022884035157263812,
           0.0002319857252036655,
           0.0002349233825169326,
           0.00023764821537830506,
           0.00024015488200141363,
           0.00024243780423774966,
           0.0002444911651077278,
           0.0002463089066755369,
           0.0002478847287482254,
           0.00024921209119449977,
           0.00025028423010877836,
           0.0002510943283933746,
           0.00025163516952675017,
           0.00025191844319437157,
           0.00025181473986075426
          ],
          [
           0,
           0.00000602245748082939,
           0.00001702589799032116,
           0.000028535850554714886,
           0.0000399378357212474,
           0.00005116462942413234,
           0.00006220422283155096,
           0.00007305514380876387,
           0.0000837170576321544,
           0.00009418968627912115,
           0.00010447267731246666,
           0.00011456558440699025,
           0.00012446785695705248,
           0.00013417883017701615,
           0.0001436977153033212,
           0.0001530235899597528,
           0.00016215538870810009,
           0.00017109189378930955,
           0.0001798317260568296,
           0.00018837333610342128,
           0.0001967149955828049,
           0.00020485478872764892,
           0.00021279060406560323,
           0.00022052012633526518,
           0.00022804082860415056,
           0.0002353499645909533,
           0.0002424445611945755,
           0.0002493214112326528,
           0.000255977066392495,
           0.00026240783039762407,
           0.0002686097523932929,
           0.0002745786205546679,
           0.00028030995592156956,
           0.00028579900646392823,
           0.00029104074138239895,
           0.000296029845648847,
           0.0003007607147916695,
           0.0003052274499312105,
           0.00030942385307084906,
           0.00031334342264955977,
           0.0003169793493620369,
           0.000320324512252615,
           0.0003233714750896253,
           0.0003261124830343496,
           0.0003285394596929824,
           0.00033064400527712986,
           0.00033241739935746046,
           0.0003338506372848703,
           0.00033493428605476397,
           0.0003356603538080573,
           0.0003359518454221649,
           0.0003361441814555449
          ]
         ]
        }
       ],
       "layout": {
        "template": {
         "data": {
          "bar": [
           {
            "error_x": {
             "color": "#2a3f5f"
            },
            "error_y": {
             "color": "#2a3f5f"
            },
            "marker": {
             "line": {
              "color": "#E5ECF6",
              "width": 0.5
             },
             "pattern": {
              "fillmode": "overlay",
              "size": 10,
              "solidity": 0.2
             }
            },
            "type": "bar"
           }
          ],
          "barpolar": [
           {
            "marker": {
             "line": {
              "color": "#E5ECF6",
              "width": 0.5
             },
             "pattern": {
              "fillmode": "overlay",
              "size": 10,
              "solidity": 0.2
             }
            },
            "type": "barpolar"
           }
          ],
          "carpet": [
           {
            "aaxis": {
             "endlinecolor": "#2a3f5f",
             "gridcolor": "white",
             "linecolor": "white",
             "minorgridcolor": "white",
             "startlinecolor": "#2a3f5f"
            },
            "baxis": {
             "endlinecolor": "#2a3f5f",
             "gridcolor": "white",
             "linecolor": "white",
             "minorgridcolor": "white",
             "startlinecolor": "#2a3f5f"
            },
            "type": "carpet"
           }
          ],
          "choropleth": [
           {
            "colorbar": {
             "outlinewidth": 0,
             "ticks": ""
            },
            "type": "choropleth"
           }
          ],
          "contour": [
           {
            "colorbar": {
             "outlinewidth": 0,
             "ticks": ""
            },
            "colorscale": [
             [
              0,
              "#0d0887"
             ],
             [
              0.1111111111111111,
              "#46039f"
             ],
             [
              0.2222222222222222,
              "#7201a8"
             ],
             [
              0.3333333333333333,
              "#9c179e"
             ],
             [
              0.4444444444444444,
              "#bd3786"
             ],
             [
              0.5555555555555556,
              "#d8576b"
             ],
             [
              0.6666666666666666,
              "#ed7953"
             ],
             [
              0.7777777777777778,
              "#fb9f3a"
             ],
             [
              0.8888888888888888,
              "#fdca26"
             ],
             [
              1,
              "#f0f921"
             ]
            ],
            "type": "contour"
           }
          ],
          "contourcarpet": [
           {
            "colorbar": {
             "outlinewidth": 0,
             "ticks": ""
            },
            "type": "contourcarpet"
           }
          ],
          "heatmap": [
           {
            "colorbar": {
             "outlinewidth": 0,
             "ticks": ""
            },
            "colorscale": [
             [
              0,
              "#0d0887"
             ],
             [
              0.1111111111111111,
              "#46039f"
             ],
             [
              0.2222222222222222,
              "#7201a8"
             ],
             [
              0.3333333333333333,
              "#9c179e"
             ],
             [
              0.4444444444444444,
              "#bd3786"
             ],
             [
              0.5555555555555556,
              "#d8576b"
             ],
             [
              0.6666666666666666,
              "#ed7953"
             ],
             [
              0.7777777777777778,
              "#fb9f3a"
             ],
             [
              0.8888888888888888,
              "#fdca26"
             ],
             [
              1,
              "#f0f921"
             ]
            ],
            "type": "heatmap"
           }
          ],
          "heatmapgl": [
           {
            "colorbar": {
             "outlinewidth": 0,
             "ticks": ""
            },
            "colorscale": [
             [
              0,
              "#0d0887"
             ],
             [
              0.1111111111111111,
              "#46039f"
             ],
             [
              0.2222222222222222,
              "#7201a8"
             ],
             [
              0.3333333333333333,
              "#9c179e"
             ],
             [
              0.4444444444444444,
              "#bd3786"
             ],
             [
              0.5555555555555556,
              "#d8576b"
             ],
             [
              0.6666666666666666,
              "#ed7953"
             ],
             [
              0.7777777777777778,
              "#fb9f3a"
             ],
             [
              0.8888888888888888,
              "#fdca26"
             ],
             [
              1,
              "#f0f921"
             ]
            ],
            "type": "heatmapgl"
           }
          ],
          "histogram": [
           {
            "marker": {
             "pattern": {
              "fillmode": "overlay",
              "size": 10,
              "solidity": 0.2
             }
            },
            "type": "histogram"
           }
          ],
          "histogram2d": [
           {
            "colorbar": {
             "outlinewidth": 0,
             "ticks": ""
            },
            "colorscale": [
             [
              0,
              "#0d0887"
             ],
             [
              0.1111111111111111,
              "#46039f"
             ],
             [
              0.2222222222222222,
              "#7201a8"
             ],
             [
              0.3333333333333333,
              "#9c179e"
             ],
             [
              0.4444444444444444,
              "#bd3786"
             ],
             [
              0.5555555555555556,
              "#d8576b"
             ],
             [
              0.6666666666666666,
              "#ed7953"
             ],
             [
              0.7777777777777778,
              "#fb9f3a"
             ],
             [
              0.8888888888888888,
              "#fdca26"
             ],
             [
              1,
              "#f0f921"
             ]
            ],
            "type": "histogram2d"
           }
          ],
          "histogram2dcontour": [
           {
            "colorbar": {
             "outlinewidth": 0,
             "ticks": ""
            },
            "colorscale": [
             [
              0,
              "#0d0887"
             ],
             [
              0.1111111111111111,
              "#46039f"
             ],
             [
              0.2222222222222222,
              "#7201a8"
             ],
             [
              0.3333333333333333,
              "#9c179e"
             ],
             [
              0.4444444444444444,
              "#bd3786"
             ],
             [
              0.5555555555555556,
              "#d8576b"
             ],
             [
              0.6666666666666666,
              "#ed7953"
             ],
             [
              0.7777777777777778,
              "#fb9f3a"
             ],
             [
              0.8888888888888888,
              "#fdca26"
             ],
             [
              1,
              "#f0f921"
             ]
            ],
            "type": "histogram2dcontour"
           }
          ],
          "mesh3d": [
           {
            "colorbar": {
             "outlinewidth": 0,
             "ticks": ""
            },
            "type": "mesh3d"
           }
          ],
          "parcoords": [
           {
            "line": {
             "colorbar": {
              "outlinewidth": 0,
              "ticks": ""
             }
            },
            "type": "parcoords"
           }
          ],
          "pie": [
           {
            "automargin": true,
            "type": "pie"
           }
          ],
          "scatter": [
           {
            "marker": {
             "colorbar": {
              "outlinewidth": 0,
              "ticks": ""
             }
            },
            "type": "scatter"
           }
          ],
          "scatter3d": [
           {
            "line": {
             "colorbar": {
              "outlinewidth": 0,
              "ticks": ""
             }
            },
            "marker": {
             "colorbar": {
              "outlinewidth": 0,
              "ticks": ""
             }
            },
            "type": "scatter3d"
           }
          ],
          "scattercarpet": [
           {
            "marker": {
             "colorbar": {
              "outlinewidth": 0,
              "ticks": ""
             }
            },
            "type": "scattercarpet"
           }
          ],
          "scattergeo": [
           {
            "marker": {
             "colorbar": {
              "outlinewidth": 0,
              "ticks": ""
             }
            },
            "type": "scattergeo"
           }
          ],
          "scattergl": [
           {
            "marker": {
             "colorbar": {
              "outlinewidth": 0,
              "ticks": ""
             }
            },
            "type": "scattergl"
           }
          ],
          "scattermapbox": [
           {
            "marker": {
             "colorbar": {
              "outlinewidth": 0,
              "ticks": ""
             }
            },
            "type": "scattermapbox"
           }
          ],
          "scatterpolar": [
           {
            "marker": {
             "colorbar": {
              "outlinewidth": 0,
              "ticks": ""
             }
            },
            "type": "scatterpolar"
           }
          ],
          "scatterpolargl": [
           {
            "marker": {
             "colorbar": {
              "outlinewidth": 0,
              "ticks": ""
             }
            },
            "type": "scatterpolargl"
           }
          ],
          "scatterternary": [
           {
            "marker": {
             "colorbar": {
              "outlinewidth": 0,
              "ticks": ""
             }
            },
            "type": "scatterternary"
           }
          ],
          "surface": [
           {
            "colorbar": {
             "outlinewidth": 0,
             "ticks": ""
            },
            "colorscale": [
             [
              0,
              "#0d0887"
             ],
             [
              0.1111111111111111,
              "#46039f"
             ],
             [
              0.2222222222222222,
              "#7201a8"
             ],
             [
              0.3333333333333333,
              "#9c179e"
             ],
             [
              0.4444444444444444,
              "#bd3786"
             ],
             [
              0.5555555555555556,
              "#d8576b"
             ],
             [
              0.6666666666666666,
              "#ed7953"
             ],
             [
              0.7777777777777778,
              "#fb9f3a"
             ],
             [
              0.8888888888888888,
              "#fdca26"
             ],
             [
              1,
              "#f0f921"
             ]
            ],
            "type": "surface"
           }
          ],
          "table": [
           {
            "cells": {
             "fill": {
              "color": "#EBF0F8"
             },
             "line": {
              "color": "white"
             }
            },
            "header": {
             "fill": {
              "color": "#C8D4E3"
             },
             "line": {
              "color": "white"
             }
            },
            "type": "table"
           }
          ]
         },
         "layout": {
          "annotationdefaults": {
           "arrowcolor": "#2a3f5f",
           "arrowhead": 0,
           "arrowwidth": 1
          },
          "autotypenumbers": "strict",
          "coloraxis": {
           "colorbar": {
            "outlinewidth": 0,
            "ticks": ""
           }
          },
          "colorscale": {
           "diverging": [
            [
             0,
             "#8e0152"
            ],
            [
             0.1,
             "#c51b7d"
            ],
            [
             0.2,
             "#de77ae"
            ],
            [
             0.3,
             "#f1b6da"
            ],
            [
             0.4,
             "#fde0ef"
            ],
            [
             0.5,
             "#f7f7f7"
            ],
            [
             0.6,
             "#e6f5d0"
            ],
            [
             0.7,
             "#b8e186"
            ],
            [
             0.8,
             "#7fbc41"
            ],
            [
             0.9,
             "#4d9221"
            ],
            [
             1,
             "#276419"
            ]
           ],
           "sequential": [
            [
             0,
             "#0d0887"
            ],
            [
             0.1111111111111111,
             "#46039f"
            ],
            [
             0.2222222222222222,
             "#7201a8"
            ],
            [
             0.3333333333333333,
             "#9c179e"
            ],
            [
             0.4444444444444444,
             "#bd3786"
            ],
            [
             0.5555555555555556,
             "#d8576b"
            ],
            [
             0.6666666666666666,
             "#ed7953"
            ],
            [
             0.7777777777777778,
             "#fb9f3a"
            ],
            [
             0.8888888888888888,
             "#fdca26"
            ],
            [
             1,
             "#f0f921"
            ]
           ],
           "sequentialminus": [
            [
             0,
             "#0d0887"
            ],
            [
             0.1111111111111111,
             "#46039f"
            ],
            [
             0.2222222222222222,
             "#7201a8"
            ],
            [
             0.3333333333333333,
             "#9c179e"
            ],
            [
             0.4444444444444444,
             "#bd3786"
            ],
            [
             0.5555555555555556,
             "#d8576b"
            ],
            [
             0.6666666666666666,
             "#ed7953"
            ],
            [
             0.7777777777777778,
             "#fb9f3a"
            ],
            [
             0.8888888888888888,
             "#fdca26"
            ],
            [
             1,
             "#f0f921"
            ]
           ]
          },
          "colorway": [
           "#636efa",
           "#EF553B",
           "#00cc96",
           "#ab63fa",
           "#FFA15A",
           "#19d3f3",
           "#FF6692",
           "#B6E880",
           "#FF97FF",
           "#FECB52"
          ],
          "font": {
           "color": "#2a3f5f"
          },
          "geo": {
           "bgcolor": "white",
           "lakecolor": "white",
           "landcolor": "#E5ECF6",
           "showlakes": true,
           "showland": true,
           "subunitcolor": "white"
          },
          "hoverlabel": {
           "align": "left"
          },
          "hovermode": "closest",
          "mapbox": {
           "style": "light"
          },
          "paper_bgcolor": "white",
          "plot_bgcolor": "#E5ECF6",
          "polar": {
           "angularaxis": {
            "gridcolor": "white",
            "linecolor": "white",
            "ticks": ""
           },
           "bgcolor": "#E5ECF6",
           "radialaxis": {
            "gridcolor": "white",
            "linecolor": "white",
            "ticks": ""
           }
          },
          "scene": {
           "xaxis": {
            "backgroundcolor": "#E5ECF6",
            "gridcolor": "white",
            "gridwidth": 2,
            "linecolor": "white",
            "showbackground": true,
            "ticks": "",
            "zerolinecolor": "white"
           },
           "yaxis": {
            "backgroundcolor": "#E5ECF6",
            "gridcolor": "white",
            "gridwidth": 2,
            "linecolor": "white",
            "showbackground": true,
            "ticks": "",
            "zerolinecolor": "white"
           },
           "zaxis": {
            "backgroundcolor": "#E5ECF6",
            "gridcolor": "white",
            "gridwidth": 2,
            "linecolor": "white",
            "showbackground": true,
            "ticks": "",
            "zerolinecolor": "white"
           }
          },
          "shapedefaults": {
           "line": {
            "color": "#2a3f5f"
           }
          },
          "ternary": {
           "aaxis": {
            "gridcolor": "white",
            "linecolor": "white",
            "ticks": ""
           },
           "baxis": {
            "gridcolor": "white",
            "linecolor": "white",
            "ticks": ""
           },
           "bgcolor": "#E5ECF6",
           "caxis": {
            "gridcolor": "white",
            "linecolor": "white",
            "ticks": ""
           }
          },
          "title": {
           "x": 0.05
          },
          "xaxis": {
           "automargin": true,
           "gridcolor": "white",
           "linecolor": "white",
           "ticks": "",
           "title": {
            "standoff": 15
           },
           "zerolinecolor": "white",
           "zerolinewidth": 2
          },
          "yaxis": {
           "automargin": true,
           "gridcolor": "white",
           "linecolor": "white",
           "ticks": "",
           "title": {
            "standoff": 15
           },
           "zerolinecolor": "white",
           "zerolinewidth": 2
          }
         }
        }
       }
      },
      "text/html": [
       "<div>                            <div id=\"eddb0fff-1028-4c88-809f-826a83cd7a4f\" class=\"plotly-graph-div\" style=\"height:525px; width:100%;\"></div>            <script type=\"text/javascript\">                require([\"plotly\"], function(Plotly) {                    window.PLOTLYENV=window.PLOTLYENV || {};                                    if (document.getElementById(\"eddb0fff-1028-4c88-809f-826a83cd7a4f\")) {                    Plotly.newPlot(                        \"eddb0fff-1028-4c88-809f-826a83cd7a4f\",                        [{\"x\":[[0.0,0.02,0.06,0.09999999999999999,0.13999999999999999,0.17999999999999997,0.21999999999999995,0.25999999999999995,0.3,0.33999999999999997,0.37999999999999995,0.41999999999999993,0.45999999999999996,0.49999999999999994,0.5399999999999999,0.58,0.6199999999999999,0.6599999999999999,0.7,0.7399999999999999,0.7799999999999999,0.8199999999999998,0.8599999999999999,0.8999999999999999,0.9399999999999998,0.9799999999999999,1.0199999999999998,1.0599999999999998,1.0999999999999999,1.14,1.18,1.2199999999999998,1.2599999999999998,1.2999999999999998,1.3399999999999999,1.38,1.4199999999999997,1.4599999999999997,1.4999999999999998,1.5399999999999998,1.5799999999999998,1.6199999999999997,1.6599999999999997,1.6999999999999997,1.7399999999999998,1.7799999999999998,1.8199999999999998,1.8599999999999997,1.8999999999999997,1.9399999999999997,1.9799999999999998,2.0],[0.0,0.02,0.06,0.09999999999999999,0.13999999999999999,0.17999999999999997,0.21999999999999995,0.25999999999999995,0.3,0.33999999999999997,0.37999999999999995,0.41999999999999993,0.45999999999999996,0.49999999999999994,0.5399999999999999,0.58,0.6199999999999999,0.6599999999999999,0.7,0.7399999999999999,0.7799999999999999,0.8199999999999998,0.8599999999999999,0.8999999999999999,0.9399999999999998,0.9799999999999999,1.0199999999999998,1.0599999999999998,1.0999999999999999,1.14,1.18,1.2199999999999998,1.2599999999999998,1.2999999999999998,1.3399999999999999,1.38,1.4199999999999997,1.4599999999999997,1.4999999999999998,1.5399999999999998,1.5799999999999998,1.6199999999999997,1.6599999999999997,1.6999999999999997,1.7399999999999998,1.7799999999999998,1.8199999999999998,1.8599999999999997,1.8999999999999997,1.9399999999999997,1.9799999999999998,2.0],[0.0,0.02,0.06,0.09999999999999999,0.13999999999999999,0.17999999999999997,0.21999999999999995,0.25999999999999995,0.3,0.33999999999999997,0.37999999999999995,0.41999999999999993,0.45999999999999996,0.49999999999999994,0.5399999999999999,0.58,0.6199999999999999,0.6599999999999999,0.7,0.7399999999999999,0.7799999999999999,0.8199999999999998,0.8599999999999999,0.8999999999999999,0.9399999999999998,0.9799999999999999,1.0199999999999998,1.0599999999999998,1.0999999999999999,1.14,1.18,1.2199999999999998,1.2599999999999998,1.2999999999999998,1.3399999999999999,1.38,1.4199999999999997,1.4599999999999997,1.4999999999999998,1.5399999999999998,1.5799999999999998,1.6199999999999997,1.6599999999999997,1.6999999999999997,1.7399999999999998,1.7799999999999998,1.8199999999999998,1.8599999999999997,1.8999999999999997,1.9399999999999997,1.9799999999999998,2.0],[0.0,0.02,0.06,0.09999999999999999,0.13999999999999999,0.17999999999999997,0.21999999999999995,0.25999999999999995,0.3,0.33999999999999997,0.37999999999999995,0.41999999999999993,0.45999999999999996,0.49999999999999994,0.5399999999999999,0.58,0.6199999999999999,0.6599999999999999,0.7,0.7399999999999999,0.7799999999999999,0.8199999999999998,0.8599999999999999,0.8999999999999999,0.9399999999999998,0.9799999999999999,1.0199999999999998,1.0599999999999998,1.0999999999999999,1.14,1.18,1.2199999999999998,1.2599999999999998,1.2999999999999998,1.3399999999999999,1.38,1.4199999999999997,1.4599999999999997,1.4999999999999998,1.5399999999999998,1.5799999999999998,1.6199999999999997,1.6599999999999997,1.6999999999999997,1.7399999999999998,1.7799999999999998,1.8199999999999998,1.8599999999999997,1.8999999999999997,1.9399999999999997,1.9799999999999998,2.0],[0.0,0.02,0.06,0.09999999999999999,0.13999999999999999,0.17999999999999997,0.21999999999999995,0.25999999999999995,0.3,0.33999999999999997,0.37999999999999995,0.41999999999999993,0.45999999999999996,0.49999999999999994,0.5399999999999999,0.58,0.6199999999999999,0.6599999999999999,0.7,0.7399999999999999,0.7799999999999999,0.8199999999999998,0.8599999999999999,0.8999999999999999,0.9399999999999998,0.9799999999999999,1.0199999999999998,1.0599999999999998,1.0999999999999999,1.14,1.18,1.2199999999999998,1.2599999999999998,1.2999999999999998,1.3399999999999999,1.38,1.4199999999999997,1.4599999999999997,1.4999999999999998,1.5399999999999998,1.5799999999999998,1.6199999999999997,1.6599999999999997,1.6999999999999997,1.7399999999999998,1.7799999999999998,1.8199999999999998,1.8599999999999997,1.8999999999999997,1.9399999999999997,1.9799999999999998,2.0],[0.0,0.02,0.06,0.09999999999999999,0.13999999999999999,0.17999999999999997,0.21999999999999995,0.25999999999999995,0.3,0.33999999999999997,0.37999999999999995,0.41999999999999993,0.45999999999999996,0.49999999999999994,0.5399999999999999,0.58,0.6199999999999999,0.6599999999999999,0.7,0.7399999999999999,0.7799999999999999,0.8199999999999998,0.8599999999999999,0.8999999999999999,0.9399999999999998,0.9799999999999999,1.0199999999999998,1.0599999999999998,1.0999999999999999,1.14,1.18,1.2199999999999998,1.2599999999999998,1.2999999999999998,1.3399999999999999,1.38,1.4199999999999997,1.4599999999999997,1.4999999999999998,1.5399999999999998,1.5799999999999998,1.6199999999999997,1.6599999999999997,1.6999999999999997,1.7399999999999998,1.7799999999999998,1.8199999999999998,1.8599999999999997,1.8999999999999997,1.9399999999999997,1.9799999999999998,2.0]],\"y\":[[0.0,0.0,0.0,0.0,0.0,0.0,0.0,0.0,0.0,0.0,0.0,0.0,0.0,0.0,0.0,0.0,0.0,0.0,0.0,0.0,0.0,0.0,0.0,0.0,0.0,0.0,0.0,0.0,0.0,0.0,0.0,0.0,0.0,0.0,0.0,0.0,0.0,0.0,0.0,0.0,0.0,0.0,0.0,0.0,0.0,0.0,0.0,0.0,0.0,0.0,0.0,0.0],[0.0125,0.0125,0.0125,0.0125,0.0125,0.0125,0.0125,0.0125,0.0125,0.0125,0.0125,0.0125,0.0125,0.0125,0.0125,0.0125,0.0125,0.0125,0.0125,0.0125,0.0125,0.0125,0.0125,0.0125,0.0125,0.0125,0.0125,0.0125,0.0125,0.0125,0.0125,0.0125,0.0125,0.0125,0.0125,0.0125,0.0125,0.0125,0.0125,0.0125,0.0125,0.0125,0.0125,0.0125,0.0125,0.0125,0.0125,0.0125,0.0125,0.0125,0.0125,0.0125],[0.037500000000000006,0.037500000000000006,0.037500000000000006,0.037500000000000006,0.037500000000000006,0.037500000000000006,0.037500000000000006,0.037500000000000006,0.037500000000000006,0.037500000000000006,0.037500000000000006,0.037500000000000006,0.037500000000000006,0.037500000000000006,0.037500000000000006,0.037500000000000006,0.037500000000000006,0.037500000000000006,0.037500000000000006,0.037500000000000006,0.037500000000000006,0.037500000000000006,0.037500000000000006,0.037500000000000006,0.037500000000000006,0.037500000000000006,0.037500000000000006,0.037500000000000006,0.037500000000000006,0.037500000000000006,0.037500000000000006,0.037500000000000006,0.037500000000000006,0.037500000000000006,0.037500000000000006,0.037500000000000006,0.037500000000000006,0.037500000000000006,0.037500000000000006,0.037500000000000006,0.037500000000000006,0.037500000000000006,0.037500000000000006,0.037500000000000006,0.037500000000000006,0.037500000000000006,0.037500000000000006,0.037500000000000006,0.037500000000000006,0.037500000000000006,0.037500000000000006,0.037500000000000006],[0.06250000000000001,0.06250000000000001,0.06250000000000001,0.06250000000000001,0.06250000000000001,0.06250000000000001,0.06250000000000001,0.06250000000000001,0.06250000000000001,0.06250000000000001,0.06250000000000001,0.06250000000000001,0.06250000000000001,0.06250000000000001,0.06250000000000001,0.06250000000000001,0.06250000000000001,0.06250000000000001,0.06250000000000001,0.06250000000000001,0.06250000000000001,0.06250000000000001,0.06250000000000001,0.06250000000000001,0.06250000000000001,0.06250000000000001,0.06250000000000001,0.06250000000000001,0.06250000000000001,0.06250000000000001,0.06250000000000001,0.06250000000000001,0.06250000000000001,0.06250000000000001,0.06250000000000001,0.06250000000000001,0.06250000000000001,0.06250000000000001,0.06250000000000001,0.06250000000000001,0.06250000000000001,0.06250000000000001,0.06250000000000001,0.06250000000000001,0.06250000000000001,0.06250000000000001,0.06250000000000001,0.06250000000000001,0.06250000000000001,0.06250000000000001,0.06250000000000001,0.06250000000000001],[0.08750000000000001,0.08750000000000001,0.08750000000000001,0.08750000000000001,0.08750000000000001,0.08750000000000001,0.08750000000000001,0.08750000000000001,0.08750000000000001,0.08750000000000001,0.08750000000000001,0.08750000000000001,0.08750000000000001,0.08750000000000001,0.08750000000000001,0.08750000000000001,0.08750000000000001,0.08750000000000001,0.08750000000000001,0.08750000000000001,0.08750000000000001,0.08750000000000001,0.08750000000000001,0.08750000000000001,0.08750000000000001,0.08750000000000001,0.08750000000000001,0.08750000000000001,0.08750000000000001,0.08750000000000001,0.08750000000000001,0.08750000000000001,0.08750000000000001,0.08750000000000001,0.08750000000000001,0.08750000000000001,0.08750000000000001,0.08750000000000001,0.08750000000000001,0.08750000000000001,0.08750000000000001,0.08750000000000001,0.08750000000000001,0.08750000000000001,0.08750000000000001,0.08750000000000001,0.08750000000000001,0.08750000000000001,0.08750000000000001,0.08750000000000001,0.08750000000000001,0.08750000000000001],[0.1,0.1,0.1,0.1,0.1,0.1,0.1,0.1,0.1,0.1,0.1,0.1,0.1,0.1,0.1,0.1,0.1,0.1,0.1,0.1,0.1,0.1,0.1,0.1,0.1,0.1,0.1,0.1,0.1,0.1,0.1,0.1,0.1,0.1,0.1,0.1,0.1,0.1,0.1,0.1,0.1,0.1,0.1,0.1,0.1,0.1,0.1,0.1,0.1,0.1,0.1,0.1]],\"z\":[[0.0,-6.022457463885895e-06,-1.702589794837174e-05,-2.85358504843111e-05,-3.993783562158968e-05,-5.116462929506065e-05,-6.22042226730796e-05,-7.305514362094222e-05,-8.37170574150418e-05,-9.418968603278431e-05,-0.00010447267703697997,-0.000114565584102436,-0.00012446785662352086,-0.00013417882981460507,-0.00014369771491213592,-0.0001530235895399063,-0.00016215538825971218,-0.0001710918933125075,-0.00017983172555174732,-0.00018837333557019967,-0.00019671499502159167,-0.0002048547881385982,-0.00021279060344887488,-0.0002205201256910257,-0.00022804082793257286,-0.00023534996389221516,-0.000242444560468862,-0.00024932141048015317,-0.00025597706561340496,-0.0002624078295921434,-0.00026860975156162625,-0.0002745786196970252,-0.00028030995503816575,-0.0002857990055549823,-0.0002910407404481343,-0.0002960298446894929,-0.0003007607138074574,-0.00030522744892237793,-0.0003094238520376344,-0.00031334342159220396,-0.0003169793482807862,-0.0003203245111477179,-0.00032337147396133327,-0.0003261124818829161,-0.00032853945851866323,-0.00033064400408018416,-0.0003324173981381402,-0.00033385063604337905,-0.00033493428479115653,-0.00033566035252179967,-0.0003359518441231736,-0.00033614418011658845],[3.7981995514460973e-19,-3.8016561998323314e-06,-1.2638264892532954e-05,-2.133360766799342e-05,-2.989612314198326e-05,-3.8317396151946844e-05,-4.65971662565195e-05,-5.473530127980677e-05,-6.273165285617531e-05,-7.058601624348154e-05,-7.829812387207193e-05,-8.586763779191474e-05,-9.329414203461713e-05,-0.00010057713508861431,-0.00010771602252206079,-0.00011471010975127574,-0.00012155859495301778,-0.00012826056212049907,-0.00013481497426372257,-0.00014122066675498814,-0.00014747634082057907,-0.00015358055717975912,-0.000159531729832359,-0.000165328119996369,-0.00017096783019709597,-0.00017644879850959688,-0.00018176879295626078,-0.00018692540606157123,-0.00019191604956625587,-0.00019673794930319809,-0.00020138814023766644,-0.00020586346167460922,-0.00021016055263594727,-0.00021427584741098165,-0.00021820557128325282,-0.00022194573643738113,-0.0002254921380496181,-0.00022884035056606848,-0.0002319857241727453,-0.00023492338146190026,-0.00023764821429940483,-0.00024015488089889145,-0.00024243780311185463,-0.0002444911639587123,-0.0002463089055036527,-0.00024788472755372693,-0.00024921208997763316,-0.0002502842288697512,-0.00025109432713224587,-0.0002516351682433497,-0.0002519184418864008,-0.00025181473855634135],[1.378490456512996e-19,-1.1777051596044e-06,-4.156040146976001e-06,-7.088215569068817e-06,-9.949067191935156e-06,-1.2757330630899154e-05,-1.5517423533991214e-05,-1.823014568572249e-05,-2.089557800412241e-05,-2.351367091087509e-05,-2.6084337271293165e-05,-2.8607464082587395e-05,-3.1082911976655385e-05,-3.3510513021646875e-05,-3.589006831486559e-05,-3.822134558213809e-05,-4.050407681734389e-05,-4.273795596827488e-05,-4.4922636670271524e-05,-4.705773002818628e-05,-4.914280244707088e-05,-5.1177373511978957e-05,-5.3160913917310895e-05,-5.509284344617506e-05,-5.697252900029037e-05,-5.879928268099279e-05,-6.057235992197879e-05,-6.229095767445957e-05,-6.395421264545993e-05,-6.556119959006022e-05,-6.711092965842884e-05,-6.860234879856402e-05,-7.003433621571927e-05,-7.140570288956014e-05,-7.271519015015316e-05,-7.39614683139726e-05,-7.51431353811675e-05,-7.62587157953848e-05,-7.730665926749937e-05,-7.828533966445365e-05,-7.91930539635548e-05,-8.002802126814118e-05,-8.078838185880923e-05,-8.147219614925922e-05,-8.207744291017896e-05,-8.26020137579825e-05,-8.304369028768155e-05,-8.340005025574879e-05,-8.366810621184978e-05,-8.384392260263466e-05,-8.391936780840093e-05,-8.39737893863219e-05],[-8.215595568929399e-20,1.1777051708822683e-06,4.156040186982609e-06,7.088215638724458e-06,9.949067291080108e-06,1.275733075940074e-05,1.5517423691776946e-05,1.8230145872737395e-05,2.0895578220309577e-05,2.3513671156170445e-05,2.6084337545624653e-05,2.8607464385874812e-05,3.108291230881062e-05,3.351051338257425e-05,3.5890068704461774e-05,3.8221346000292564e-05,4.0504077263938666e-05,4.27379564431851e-05,4.4922637173364954e-05,4.705773055932413e-05,4.914280300610869e-05,5.1177374098765036e-05,5.316091453168658e-05,5.509284408797651e-05,5.697252966934695e-05,5.879928337712834e-05,6.057236064501183e-05,6.229095842420221e-05,6.395421342171951e-05,6.556120039263949e-05,6.71109304871257e-05,6.860234965317082e-05,7.003433709602475e-05,7.140570379534698e-05,7.271519108119915e-05,7.396146927005347e-05,7.514313636205339e-05,7.62587168008434e-05,7.73066602972944e-05,7.82853407183454e-05,7.919305504130115e-05,8.002802236949746e-05,8.078838298352699e-05,8.147219729708844e-05,8.207744408086612e-05,8.26020149512702e-05,8.304369150329736e-05,8.34000514933632e-05,8.366810747098121e-05,8.384392388258212e-05,8.391936910715491e-05,8.397379069747665e-05],[-2.8780528477260044e-19,3.8016562125692984e-06,1.2638264933687928e-05,2.1333607738088956e-05,2.9896123241348397e-05,3.83173962806457e-05,4.659716641453199e-05,5.4735301467087266e-05,6.273165307266721e-05,7.058601648911989e-05,7.829812414678392e-05,8.586763809561946e-05,9.329414236722581e-05,0.00010057713545003047,0.0001077160229121805,0.00011471011016998757,0.00012155859540020329,0.00012826056259603255,0.00013481497476747122,0.00014122066728681278,0.00014747634138033354,0.00015358055776729107,0.00015953173044750955,0.00016532812063897338,0.0001709678308669827,0.00017644879920658955,0.00018176879368017666,0.00018692540681222215,0.0001919160503434482,0.00019673795010673317,0.00020138814106734096,0.00020586346253021577,0.00021016055351727271,0.00021427584831780873,0.00021820557221535942,0.00022194573739453996,0.00022549213903159994,0.00022884035157263812,0.0002319857252036655,0.0002349233825169326,0.00023764821537830506,0.00024015488200141363,0.00024243780423774966,0.0002444911651077278,0.0002463089066755369,0.0002478847287482254,0.00024921209119449977,0.00025028423010877836,0.0002510943283933746,0.00025163516952675017,0.00025191844319437157,0.00025181473986075426],[0.0,6.02245748082939e-06,1.702589799032116e-05,2.8535850554714886e-05,3.99378357212474e-05,5.116462942413234e-05,6.220422283155096e-05,7.305514380876387e-05,8.37170576321544e-05,9.418968627912115e-05,0.00010447267731246666,0.00011456558440699025,0.00012446785695705248,0.00013417883017701615,0.0001436977153033212,0.0001530235899597528,0.00016215538870810009,0.00017109189378930955,0.0001798317260568296,0.00018837333610342128,0.0001967149955828049,0.00020485478872764892,0.00021279060406560323,0.00022052012633526518,0.00022804082860415056,0.0002353499645909533,0.0002424445611945755,0.0002493214112326528,0.000255977066392495,0.00026240783039762407,0.0002686097523932929,0.0002745786205546679,0.00028030995592156956,0.00028579900646392823,0.00029104074138239895,0.000296029845648847,0.0003007607147916695,0.0003052274499312105,0.00030942385307084906,0.00031334342264955977,0.0003169793493620369,0.000320324512252615,0.0003233714750896253,0.0003261124830343496,0.0003285394596929824,0.00033064400527712986,0.00033241739935746046,0.0003338506372848703,0.00033493428605476397,0.0003356603538080573,0.0003359518454221649,0.0003361441814555449]],\"type\":\"surface\"}],                        {\"template\":{\"data\":{\"bar\":[{\"error_x\":{\"color\":\"#2a3f5f\"},\"error_y\":{\"color\":\"#2a3f5f\"},\"marker\":{\"line\":{\"color\":\"#E5ECF6\",\"width\":0.5},\"pattern\":{\"fillmode\":\"overlay\",\"size\":10,\"solidity\":0.2}},\"type\":\"bar\"}],\"barpolar\":[{\"marker\":{\"line\":{\"color\":\"#E5ECF6\",\"width\":0.5},\"pattern\":{\"fillmode\":\"overlay\",\"size\":10,\"solidity\":0.2}},\"type\":\"barpolar\"}],\"carpet\":[{\"aaxis\":{\"endlinecolor\":\"#2a3f5f\",\"gridcolor\":\"white\",\"linecolor\":\"white\",\"minorgridcolor\":\"white\",\"startlinecolor\":\"#2a3f5f\"},\"baxis\":{\"endlinecolor\":\"#2a3f5f\",\"gridcolor\":\"white\",\"linecolor\":\"white\",\"minorgridcolor\":\"white\",\"startlinecolor\":\"#2a3f5f\"},\"type\":\"carpet\"}],\"choropleth\":[{\"colorbar\":{\"outlinewidth\":0,\"ticks\":\"\"},\"type\":\"choropleth\"}],\"contour\":[{\"colorbar\":{\"outlinewidth\":0,\"ticks\":\"\"},\"colorscale\":[[0.0,\"#0d0887\"],[0.1111111111111111,\"#46039f\"],[0.2222222222222222,\"#7201a8\"],[0.3333333333333333,\"#9c179e\"],[0.4444444444444444,\"#bd3786\"],[0.5555555555555556,\"#d8576b\"],[0.6666666666666666,\"#ed7953\"],[0.7777777777777778,\"#fb9f3a\"],[0.8888888888888888,\"#fdca26\"],[1.0,\"#f0f921\"]],\"type\":\"contour\"}],\"contourcarpet\":[{\"colorbar\":{\"outlinewidth\":0,\"ticks\":\"\"},\"type\":\"contourcarpet\"}],\"heatmap\":[{\"colorbar\":{\"outlinewidth\":0,\"ticks\":\"\"},\"colorscale\":[[0.0,\"#0d0887\"],[0.1111111111111111,\"#46039f\"],[0.2222222222222222,\"#7201a8\"],[0.3333333333333333,\"#9c179e\"],[0.4444444444444444,\"#bd3786\"],[0.5555555555555556,\"#d8576b\"],[0.6666666666666666,\"#ed7953\"],[0.7777777777777778,\"#fb9f3a\"],[0.8888888888888888,\"#fdca26\"],[1.0,\"#f0f921\"]],\"type\":\"heatmap\"}],\"heatmapgl\":[{\"colorbar\":{\"outlinewidth\":0,\"ticks\":\"\"},\"colorscale\":[[0.0,\"#0d0887\"],[0.1111111111111111,\"#46039f\"],[0.2222222222222222,\"#7201a8\"],[0.3333333333333333,\"#9c179e\"],[0.4444444444444444,\"#bd3786\"],[0.5555555555555556,\"#d8576b\"],[0.6666666666666666,\"#ed7953\"],[0.7777777777777778,\"#fb9f3a\"],[0.8888888888888888,\"#fdca26\"],[1.0,\"#f0f921\"]],\"type\":\"heatmapgl\"}],\"histogram\":[{\"marker\":{\"pattern\":{\"fillmode\":\"overlay\",\"size\":10,\"solidity\":0.2}},\"type\":\"histogram\"}],\"histogram2d\":[{\"colorbar\":{\"outlinewidth\":0,\"ticks\":\"\"},\"colorscale\":[[0.0,\"#0d0887\"],[0.1111111111111111,\"#46039f\"],[0.2222222222222222,\"#7201a8\"],[0.3333333333333333,\"#9c179e\"],[0.4444444444444444,\"#bd3786\"],[0.5555555555555556,\"#d8576b\"],[0.6666666666666666,\"#ed7953\"],[0.7777777777777778,\"#fb9f3a\"],[0.8888888888888888,\"#fdca26\"],[1.0,\"#f0f921\"]],\"type\":\"histogram2d\"}],\"histogram2dcontour\":[{\"colorbar\":{\"outlinewidth\":0,\"ticks\":\"\"},\"colorscale\":[[0.0,\"#0d0887\"],[0.1111111111111111,\"#46039f\"],[0.2222222222222222,\"#7201a8\"],[0.3333333333333333,\"#9c179e\"],[0.4444444444444444,\"#bd3786\"],[0.5555555555555556,\"#d8576b\"],[0.6666666666666666,\"#ed7953\"],[0.7777777777777778,\"#fb9f3a\"],[0.8888888888888888,\"#fdca26\"],[1.0,\"#f0f921\"]],\"type\":\"histogram2dcontour\"}],\"mesh3d\":[{\"colorbar\":{\"outlinewidth\":0,\"ticks\":\"\"},\"type\":\"mesh3d\"}],\"parcoords\":[{\"line\":{\"colorbar\":{\"outlinewidth\":0,\"ticks\":\"\"}},\"type\":\"parcoords\"}],\"pie\":[{\"automargin\":true,\"type\":\"pie\"}],\"scatter\":[{\"marker\":{\"colorbar\":{\"outlinewidth\":0,\"ticks\":\"\"}},\"type\":\"scatter\"}],\"scatter3d\":[{\"line\":{\"colorbar\":{\"outlinewidth\":0,\"ticks\":\"\"}},\"marker\":{\"colorbar\":{\"outlinewidth\":0,\"ticks\":\"\"}},\"type\":\"scatter3d\"}],\"scattercarpet\":[{\"marker\":{\"colorbar\":{\"outlinewidth\":0,\"ticks\":\"\"}},\"type\":\"scattercarpet\"}],\"scattergeo\":[{\"marker\":{\"colorbar\":{\"outlinewidth\":0,\"ticks\":\"\"}},\"type\":\"scattergeo\"}],\"scattergl\":[{\"marker\":{\"colorbar\":{\"outlinewidth\":0,\"ticks\":\"\"}},\"type\":\"scattergl\"}],\"scattermapbox\":[{\"marker\":{\"colorbar\":{\"outlinewidth\":0,\"ticks\":\"\"}},\"type\":\"scattermapbox\"}],\"scatterpolar\":[{\"marker\":{\"colorbar\":{\"outlinewidth\":0,\"ticks\":\"\"}},\"type\":\"scatterpolar\"}],\"scatterpolargl\":[{\"marker\":{\"colorbar\":{\"outlinewidth\":0,\"ticks\":\"\"}},\"type\":\"scatterpolargl\"}],\"scatterternary\":[{\"marker\":{\"colorbar\":{\"outlinewidth\":0,\"ticks\":\"\"}},\"type\":\"scatterternary\"}],\"surface\":[{\"colorbar\":{\"outlinewidth\":0,\"ticks\":\"\"},\"colorscale\":[[0.0,\"#0d0887\"],[0.1111111111111111,\"#46039f\"],[0.2222222222222222,\"#7201a8\"],[0.3333333333333333,\"#9c179e\"],[0.4444444444444444,\"#bd3786\"],[0.5555555555555556,\"#d8576b\"],[0.6666666666666666,\"#ed7953\"],[0.7777777777777778,\"#fb9f3a\"],[0.8888888888888888,\"#fdca26\"],[1.0,\"#f0f921\"]],\"type\":\"surface\"}],\"table\":[{\"cells\":{\"fill\":{\"color\":\"#EBF0F8\"},\"line\":{\"color\":\"white\"}},\"header\":{\"fill\":{\"color\":\"#C8D4E3\"},\"line\":{\"color\":\"white\"}},\"type\":\"table\"}]},\"layout\":{\"annotationdefaults\":{\"arrowcolor\":\"#2a3f5f\",\"arrowhead\":0,\"arrowwidth\":1},\"autotypenumbers\":\"strict\",\"coloraxis\":{\"colorbar\":{\"outlinewidth\":0,\"ticks\":\"\"}},\"colorscale\":{\"diverging\":[[0,\"#8e0152\"],[0.1,\"#c51b7d\"],[0.2,\"#de77ae\"],[0.3,\"#f1b6da\"],[0.4,\"#fde0ef\"],[0.5,\"#f7f7f7\"],[0.6,\"#e6f5d0\"],[0.7,\"#b8e186\"],[0.8,\"#7fbc41\"],[0.9,\"#4d9221\"],[1,\"#276419\"]],\"sequential\":[[0.0,\"#0d0887\"],[0.1111111111111111,\"#46039f\"],[0.2222222222222222,\"#7201a8\"],[0.3333333333333333,\"#9c179e\"],[0.4444444444444444,\"#bd3786\"],[0.5555555555555556,\"#d8576b\"],[0.6666666666666666,\"#ed7953\"],[0.7777777777777778,\"#fb9f3a\"],[0.8888888888888888,\"#fdca26\"],[1.0,\"#f0f921\"]],\"sequentialminus\":[[0.0,\"#0d0887\"],[0.1111111111111111,\"#46039f\"],[0.2222222222222222,\"#7201a8\"],[0.3333333333333333,\"#9c179e\"],[0.4444444444444444,\"#bd3786\"],[0.5555555555555556,\"#d8576b\"],[0.6666666666666666,\"#ed7953\"],[0.7777777777777778,\"#fb9f3a\"],[0.8888888888888888,\"#fdca26\"],[1.0,\"#f0f921\"]]},\"colorway\":[\"#636efa\",\"#EF553B\",\"#00cc96\",\"#ab63fa\",\"#FFA15A\",\"#19d3f3\",\"#FF6692\",\"#B6E880\",\"#FF97FF\",\"#FECB52\"],\"font\":{\"color\":\"#2a3f5f\"},\"geo\":{\"bgcolor\":\"white\",\"lakecolor\":\"white\",\"landcolor\":\"#E5ECF6\",\"showlakes\":true,\"showland\":true,\"subunitcolor\":\"white\"},\"hoverlabel\":{\"align\":\"left\"},\"hovermode\":\"closest\",\"mapbox\":{\"style\":\"light\"},\"paper_bgcolor\":\"white\",\"plot_bgcolor\":\"#E5ECF6\",\"polar\":{\"angularaxis\":{\"gridcolor\":\"white\",\"linecolor\":\"white\",\"ticks\":\"\"},\"bgcolor\":\"#E5ECF6\",\"radialaxis\":{\"gridcolor\":\"white\",\"linecolor\":\"white\",\"ticks\":\"\"}},\"scene\":{\"xaxis\":{\"backgroundcolor\":\"#E5ECF6\",\"gridcolor\":\"white\",\"gridwidth\":2,\"linecolor\":\"white\",\"showbackground\":true,\"ticks\":\"\",\"zerolinecolor\":\"white\"},\"yaxis\":{\"backgroundcolor\":\"#E5ECF6\",\"gridcolor\":\"white\",\"gridwidth\":2,\"linecolor\":\"white\",\"showbackground\":true,\"ticks\":\"\",\"zerolinecolor\":\"white\"},\"zaxis\":{\"backgroundcolor\":\"#E5ECF6\",\"gridcolor\":\"white\",\"gridwidth\":2,\"linecolor\":\"white\",\"showbackground\":true,\"ticks\":\"\",\"zerolinecolor\":\"white\"}},\"shapedefaults\":{\"line\":{\"color\":\"#2a3f5f\"}},\"ternary\":{\"aaxis\":{\"gridcolor\":\"white\",\"linecolor\":\"white\",\"ticks\":\"\"},\"baxis\":{\"gridcolor\":\"white\",\"linecolor\":\"white\",\"ticks\":\"\"},\"bgcolor\":\"#E5ECF6\",\"caxis\":{\"gridcolor\":\"white\",\"linecolor\":\"white\",\"ticks\":\"\"}},\"title\":{\"x\":0.05},\"xaxis\":{\"automargin\":true,\"gridcolor\":\"white\",\"linecolor\":\"white\",\"ticks\":\"\",\"title\":{\"standoff\":15},\"zerolinecolor\":\"white\",\"zerolinewidth\":2},\"yaxis\":{\"automargin\":true,\"gridcolor\":\"white\",\"linecolor\":\"white\",\"ticks\":\"\",\"title\":{\"standoff\":15},\"zerolinecolor\":\"white\",\"zerolinewidth\":2}}}},                        {\"responsive\": true}                    ).then(function(){\n",
       "                            \n",
       "var gd = document.getElementById('eddb0fff-1028-4c88-809f-826a83cd7a4f');\n",
       "var x = new MutationObserver(function (mutations, observer) {{\n",
       "        var display = window.getComputedStyle(gd).display;\n",
       "        if (!display || display === 'none') {{\n",
       "            console.log([gd, 'removed!']);\n",
       "            Plotly.purge(gd);\n",
       "            observer.disconnect();\n",
       "        }}\n",
       "}});\n",
       "\n",
       "// Listen for the removal of the full notebook cells\n",
       "var notebookContainer = gd.closest('#notebook-container');\n",
       "if (notebookContainer) {{\n",
       "    x.observe(notebookContainer, {childList: true});\n",
       "}}\n",
       "\n",
       "// Listen for the clearing of the current output cell\n",
       "var outputEl = gd.closest('.output');\n",
       "if (outputEl) {{\n",
       "    x.observe(outputEl, {childList: true});\n",
       "}}\n",
       "\n",
       "                        })                };                });            </script>        </div>"
      ]
     },
     "metadata": {},
     "output_type": "display_data"
    },
    {
     "name": "stdout",
     "output_type": "stream",
     "text": [
      "V graph\n"
     ]
    },
    {
     "data": {
      "application/vnd.plotly.v1+json": {
       "config": {
        "plotlyServerURL": "https://plot.ly"
       },
       "data": [
        {
         "type": "surface",
         "x": [
          [
           0,
           0.02,
           0.06,
           0.09999999999999999,
           0.13999999999999999,
           0.17999999999999997,
           0.21999999999999995,
           0.25999999999999995,
           0.3,
           0.33999999999999997,
           0.37999999999999995,
           0.41999999999999993,
           0.45999999999999996,
           0.49999999999999994,
           0.5399999999999999,
           0.58,
           0.6199999999999999,
           0.6599999999999999,
           0.7,
           0.7399999999999999,
           0.7799999999999999,
           0.8199999999999998,
           0.8599999999999999,
           0.8999999999999999,
           0.9399999999999998,
           0.9799999999999999,
           1.0199999999999998,
           1.0599999999999998,
           1.0999999999999999,
           1.14,
           1.18,
           1.2199999999999998,
           1.2599999999999998,
           1.2999999999999998,
           1.3399999999999999,
           1.38,
           1.4199999999999997,
           1.4599999999999997,
           1.4999999999999998,
           1.5399999999999998,
           1.5799999999999998,
           1.6199999999999997,
           1.6599999999999997,
           1.6999999999999997,
           1.7399999999999998,
           1.7799999999999998,
           1.8199999999999998,
           1.8599999999999997,
           1.8999999999999997,
           1.9399999999999997,
           1.9799999999999998,
           2
          ],
          [
           0,
           0.02,
           0.06,
           0.09999999999999999,
           0.13999999999999999,
           0.17999999999999997,
           0.21999999999999995,
           0.25999999999999995,
           0.3,
           0.33999999999999997,
           0.37999999999999995,
           0.41999999999999993,
           0.45999999999999996,
           0.49999999999999994,
           0.5399999999999999,
           0.58,
           0.6199999999999999,
           0.6599999999999999,
           0.7,
           0.7399999999999999,
           0.7799999999999999,
           0.8199999999999998,
           0.8599999999999999,
           0.8999999999999999,
           0.9399999999999998,
           0.9799999999999999,
           1.0199999999999998,
           1.0599999999999998,
           1.0999999999999999,
           1.14,
           1.18,
           1.2199999999999998,
           1.2599999999999998,
           1.2999999999999998,
           1.3399999999999999,
           1.38,
           1.4199999999999997,
           1.4599999999999997,
           1.4999999999999998,
           1.5399999999999998,
           1.5799999999999998,
           1.6199999999999997,
           1.6599999999999997,
           1.6999999999999997,
           1.7399999999999998,
           1.7799999999999998,
           1.8199999999999998,
           1.8599999999999997,
           1.8999999999999997,
           1.9399999999999997,
           1.9799999999999998,
           2
          ],
          [
           0,
           0.02,
           0.06,
           0.09999999999999999,
           0.13999999999999999,
           0.17999999999999997,
           0.21999999999999995,
           0.25999999999999995,
           0.3,
           0.33999999999999997,
           0.37999999999999995,
           0.41999999999999993,
           0.45999999999999996,
           0.49999999999999994,
           0.5399999999999999,
           0.58,
           0.6199999999999999,
           0.6599999999999999,
           0.7,
           0.7399999999999999,
           0.7799999999999999,
           0.8199999999999998,
           0.8599999999999999,
           0.8999999999999999,
           0.9399999999999998,
           0.9799999999999999,
           1.0199999999999998,
           1.0599999999999998,
           1.0999999999999999,
           1.14,
           1.18,
           1.2199999999999998,
           1.2599999999999998,
           1.2999999999999998,
           1.3399999999999999,
           1.38,
           1.4199999999999997,
           1.4599999999999997,
           1.4999999999999998,
           1.5399999999999998,
           1.5799999999999998,
           1.6199999999999997,
           1.6599999999999997,
           1.6999999999999997,
           1.7399999999999998,
           1.7799999999999998,
           1.8199999999999998,
           1.8599999999999997,
           1.8999999999999997,
           1.9399999999999997,
           1.9799999999999998,
           2
          ],
          [
           0,
           0.02,
           0.06,
           0.09999999999999999,
           0.13999999999999999,
           0.17999999999999997,
           0.21999999999999995,
           0.25999999999999995,
           0.3,
           0.33999999999999997,
           0.37999999999999995,
           0.41999999999999993,
           0.45999999999999996,
           0.49999999999999994,
           0.5399999999999999,
           0.58,
           0.6199999999999999,
           0.6599999999999999,
           0.7,
           0.7399999999999999,
           0.7799999999999999,
           0.8199999999999998,
           0.8599999999999999,
           0.8999999999999999,
           0.9399999999999998,
           0.9799999999999999,
           1.0199999999999998,
           1.0599999999999998,
           1.0999999999999999,
           1.14,
           1.18,
           1.2199999999999998,
           1.2599999999999998,
           1.2999999999999998,
           1.3399999999999999,
           1.38,
           1.4199999999999997,
           1.4599999999999997,
           1.4999999999999998,
           1.5399999999999998,
           1.5799999999999998,
           1.6199999999999997,
           1.6599999999999997,
           1.6999999999999997,
           1.7399999999999998,
           1.7799999999999998,
           1.8199999999999998,
           1.8599999999999997,
           1.8999999999999997,
           1.9399999999999997,
           1.9799999999999998,
           2
          ],
          [
           0,
           0.02,
           0.06,
           0.09999999999999999,
           0.13999999999999999,
           0.17999999999999997,
           0.21999999999999995,
           0.25999999999999995,
           0.3,
           0.33999999999999997,
           0.37999999999999995,
           0.41999999999999993,
           0.45999999999999996,
           0.49999999999999994,
           0.5399999999999999,
           0.58,
           0.6199999999999999,
           0.6599999999999999,
           0.7,
           0.7399999999999999,
           0.7799999999999999,
           0.8199999999999998,
           0.8599999999999999,
           0.8999999999999999,
           0.9399999999999998,
           0.9799999999999999,
           1.0199999999999998,
           1.0599999999999998,
           1.0999999999999999,
           1.14,
           1.18,
           1.2199999999999998,
           1.2599999999999998,
           1.2999999999999998,
           1.3399999999999999,
           1.38,
           1.4199999999999997,
           1.4599999999999997,
           1.4999999999999998,
           1.5399999999999998,
           1.5799999999999998,
           1.6199999999999997,
           1.6599999999999997,
           1.6999999999999997,
           1.7399999999999998,
           1.7799999999999998,
           1.8199999999999998,
           1.8599999999999997,
           1.8999999999999997,
           1.9399999999999997,
           1.9799999999999998,
           2
          ],
          [
           0,
           0.02,
           0.06,
           0.09999999999999999,
           0.13999999999999999,
           0.17999999999999997,
           0.21999999999999995,
           0.25999999999999995,
           0.3,
           0.33999999999999997,
           0.37999999999999995,
           0.41999999999999993,
           0.45999999999999996,
           0.49999999999999994,
           0.5399999999999999,
           0.58,
           0.6199999999999999,
           0.6599999999999999,
           0.7,
           0.7399999999999999,
           0.7799999999999999,
           0.8199999999999998,
           0.8599999999999999,
           0.8999999999999999,
           0.9399999999999998,
           0.9799999999999999,
           1.0199999999999998,
           1.0599999999999998,
           1.0999999999999999,
           1.14,
           1.18,
           1.2199999999999998,
           1.2599999999999998,
           1.2999999999999998,
           1.3399999999999999,
           1.38,
           1.4199999999999997,
           1.4599999999999997,
           1.4999999999999998,
           1.5399999999999998,
           1.5799999999999998,
           1.6199999999999997,
           1.6599999999999997,
           1.6999999999999997,
           1.7399999999999998,
           1.7799999999999998,
           1.8199999999999998,
           1.8599999999999997,
           1.8999999999999997,
           1.9399999999999997,
           1.9799999999999998,
           2
          ]
         ],
         "y": [
          [
           0,
           0,
           0,
           0,
           0,
           0,
           0,
           0,
           0,
           0,
           0,
           0,
           0,
           0,
           0,
           0,
           0,
           0,
           0,
           0,
           0,
           0,
           0,
           0,
           0,
           0,
           0,
           0,
           0,
           0,
           0,
           0,
           0,
           0,
           0,
           0,
           0,
           0,
           0,
           0,
           0,
           0,
           0,
           0,
           0,
           0,
           0,
           0,
           0,
           0,
           0,
           0
          ],
          [
           0.0125,
           0.0125,
           0.0125,
           0.0125,
           0.0125,
           0.0125,
           0.0125,
           0.0125,
           0.0125,
           0.0125,
           0.0125,
           0.0125,
           0.0125,
           0.0125,
           0.0125,
           0.0125,
           0.0125,
           0.0125,
           0.0125,
           0.0125,
           0.0125,
           0.0125,
           0.0125,
           0.0125,
           0.0125,
           0.0125,
           0.0125,
           0.0125,
           0.0125,
           0.0125,
           0.0125,
           0.0125,
           0.0125,
           0.0125,
           0.0125,
           0.0125,
           0.0125,
           0.0125,
           0.0125,
           0.0125,
           0.0125,
           0.0125,
           0.0125,
           0.0125,
           0.0125,
           0.0125,
           0.0125,
           0.0125,
           0.0125,
           0.0125,
           0.0125,
           0.0125
          ],
          [
           0.037500000000000006,
           0.037500000000000006,
           0.037500000000000006,
           0.037500000000000006,
           0.037500000000000006,
           0.037500000000000006,
           0.037500000000000006,
           0.037500000000000006,
           0.037500000000000006,
           0.037500000000000006,
           0.037500000000000006,
           0.037500000000000006,
           0.037500000000000006,
           0.037500000000000006,
           0.037500000000000006,
           0.037500000000000006,
           0.037500000000000006,
           0.037500000000000006,
           0.037500000000000006,
           0.037500000000000006,
           0.037500000000000006,
           0.037500000000000006,
           0.037500000000000006,
           0.037500000000000006,
           0.037500000000000006,
           0.037500000000000006,
           0.037500000000000006,
           0.037500000000000006,
           0.037500000000000006,
           0.037500000000000006,
           0.037500000000000006,
           0.037500000000000006,
           0.037500000000000006,
           0.037500000000000006,
           0.037500000000000006,
           0.037500000000000006,
           0.037500000000000006,
           0.037500000000000006,
           0.037500000000000006,
           0.037500000000000006,
           0.037500000000000006,
           0.037500000000000006,
           0.037500000000000006,
           0.037500000000000006,
           0.037500000000000006,
           0.037500000000000006,
           0.037500000000000006,
           0.037500000000000006,
           0.037500000000000006,
           0.037500000000000006,
           0.037500000000000006,
           0.037500000000000006
          ],
          [
           0.06250000000000001,
           0.06250000000000001,
           0.06250000000000001,
           0.06250000000000001,
           0.06250000000000001,
           0.06250000000000001,
           0.06250000000000001,
           0.06250000000000001,
           0.06250000000000001,
           0.06250000000000001,
           0.06250000000000001,
           0.06250000000000001,
           0.06250000000000001,
           0.06250000000000001,
           0.06250000000000001,
           0.06250000000000001,
           0.06250000000000001,
           0.06250000000000001,
           0.06250000000000001,
           0.06250000000000001,
           0.06250000000000001,
           0.06250000000000001,
           0.06250000000000001,
           0.06250000000000001,
           0.06250000000000001,
           0.06250000000000001,
           0.06250000000000001,
           0.06250000000000001,
           0.06250000000000001,
           0.06250000000000001,
           0.06250000000000001,
           0.06250000000000001,
           0.06250000000000001,
           0.06250000000000001,
           0.06250000000000001,
           0.06250000000000001,
           0.06250000000000001,
           0.06250000000000001,
           0.06250000000000001,
           0.06250000000000001,
           0.06250000000000001,
           0.06250000000000001,
           0.06250000000000001,
           0.06250000000000001,
           0.06250000000000001,
           0.06250000000000001,
           0.06250000000000001,
           0.06250000000000001,
           0.06250000000000001,
           0.06250000000000001,
           0.06250000000000001,
           0.06250000000000001
          ],
          [
           0.08750000000000001,
           0.08750000000000001,
           0.08750000000000001,
           0.08750000000000001,
           0.08750000000000001,
           0.08750000000000001,
           0.08750000000000001,
           0.08750000000000001,
           0.08750000000000001,
           0.08750000000000001,
           0.08750000000000001,
           0.08750000000000001,
           0.08750000000000001,
           0.08750000000000001,
           0.08750000000000001,
           0.08750000000000001,
           0.08750000000000001,
           0.08750000000000001,
           0.08750000000000001,
           0.08750000000000001,
           0.08750000000000001,
           0.08750000000000001,
           0.08750000000000001,
           0.08750000000000001,
           0.08750000000000001,
           0.08750000000000001,
           0.08750000000000001,
           0.08750000000000001,
           0.08750000000000001,
           0.08750000000000001,
           0.08750000000000001,
           0.08750000000000001,
           0.08750000000000001,
           0.08750000000000001,
           0.08750000000000001,
           0.08750000000000001,
           0.08750000000000001,
           0.08750000000000001,
           0.08750000000000001,
           0.08750000000000001,
           0.08750000000000001,
           0.08750000000000001,
           0.08750000000000001,
           0.08750000000000001,
           0.08750000000000001,
           0.08750000000000001,
           0.08750000000000001,
           0.08750000000000001,
           0.08750000000000001,
           0.08750000000000001,
           0.08750000000000001,
           0.08750000000000001
          ],
          [
           0.1,
           0.1,
           0.1,
           0.1,
           0.1,
           0.1,
           0.1,
           0.1,
           0.1,
           0.1,
           0.1,
           0.1,
           0.1,
           0.1,
           0.1,
           0.1,
           0.1,
           0.1,
           0.1,
           0.1,
           0.1,
           0.1,
           0.1,
           0.1,
           0.1,
           0.1,
           0.1,
           0.1,
           0.1,
           0.1,
           0.1,
           0.1,
           0.1,
           0.1,
           0.1,
           0.1,
           0.1,
           0.1,
           0.1,
           0.1,
           0.1,
           0.1,
           0.1,
           0.1,
           0.1,
           0.1,
           0.1,
           0.1,
           0.1,
           0.1,
           0.1,
           0.1
          ]
         ],
         "z": [
          [
           0,
           -0.0000023087948271568152,
           -0.000011904333262786348,
           -0.000030389646384525142,
           -0.00005799868728721951,
           -0.0000946566062540062,
           -0.0001402209794031478,
           -0.00019454176731999078,
           -0.0002574679703864146,
           -0.00032884835649673623,
           -0.00040853145703795236,
           -0.0004963654967521475,
           -0.0005921983134252882,
           -0.0006958772701211312,
           -0.0008072491596716288,
           -0.0009261601014176121,
           -0.0010524554303188644,
           -0.0011859795785804567,
           -0.0013265759499477181,
           -0.0014740867868238154,
           -0.0016283530303650717,
           -0.0017892141737102958,
           -0.0019565081085016417,
           -0.0021300709648559976,
           -0.0023097369449474447,
           -0.002495338150363051,
           -0.002686704403396202,
           -0.0028836630624436976,
           -0.003086038831675127,
           -0.003293653565145452,
           -0.003506326065524376,
           -0.003723871877618795,
           -0.003946103076867838,
           -0.004172828052992993,
           -0.004403851288989441,
           -0.004638973135648236,
           -0.004877989581802957,
           -0.005120692020498406,
           -0.005366867011283337,
           -0.005616296038833697,
           -0.00586875526811728,
           -0.006124015296314539,
           -0.00638184090170977,
           -0.006641990789751201,
           -0.006904217336424678,
           -0.007168266329047267,
           -0.0074338767061940016,
           -0.007700780301274512,
           -0.007968701712105222,
           -0.00823735603029154,
           -0.008506462891487302,
           -0.008640816348047097
          ],
          [
           0,
           -7.653781700859917e-7,
           -0.00001039673998016859,
           -0.00002885536484390787,
           -0.0000564833672775711,
           -0.00009316555354966535,
           -0.0001387550967473968,
           -0.00019310117570780583,
           -0.0002560527108499073,
           -0.00032745847125419575,
           -0.000407166999577931,
           -0.000495026533833406,
           -0.0005908849264356339,
           -0.0006945895563964472,
           -0.0008059872337971666,
           -0.0009249240965059441,
           -0.0010512454992626637,
           -0.0011847958952796508,
           -0.001325418710510819,
           -0.0014729562107432454,
           -0.0016272493616662949,
           -0.00178813768207454,
           -0.00195545909036197,
           -0.0021290497444664638,
           -0.0023087438754250435,
           -0.002494373614702139,
           -0.0026857688154550453,
           -0.0028827568679027685,
           -0.0030851625089667344,
           -0.003292807626354276,
           -0.003505511057258424,
           -0.0037230883818502765,
           -0.003945351711743422,
           -0.004172109473612862,
           -0.0044031661881545415,
           -0.004638322244575067,
           -0.0048773736708052195,
           -0.005120111899634778,
           -0.005366323530970625,
           -0.0056157900904245574,
           -0.005868287784441687,
           -0.006123587252184145,
           -0.006381453314383751,
           -0.006641644719356736,
           -0.006903913886277539,
           -0.007168006645590606,
           -0.0074336619763750375,
           -0.007700611759757569,
           -0.0079685805257339,
           -0.008237287890157699,
           -0.008506417612675593,
           -0.008641277545702382
          ],
          [
           -1.9371509552001952e-20,
           5.109149390102164e-7,
           -0.000008805334499540872,
           -0.00002730506747674984,
           -0.000054965067081288725,
           -0.00009167409252927511,
           -0.00013728918021277232,
           -0.00019166060582775175,
           -0.00025463748732518015,
           -0.0003260686326156145,
           -0.0004058025999766731,
           -0.0004936876411255151,
           -0.0005895716231282012,
           -0.0006933019409277564,
           -0.0008047254218340884,
           -0.0009236882222212154,
           -0.001050035716587416,
           -0.001183612379130399,
           -0.0013242616579906355,
           -0.0014718258423169189,
           -0.0016261459223092796,
           -0.0017870614423954724,
           -0.0019544103476985156,
           -0.002128028823954224,
           -0.0023077511310392344,
           -0.002493409430271718,
           -0.0026848336056489366,
           -0.0028818510791878108,
           -0.0030842866205369425,
           -0.0032919621510309693,
           -0.0035046965423607577,
           -0.0037223054100356556,
           -0.003944600901817269,
           -0.004171391481307156,
           -0.004402481706874519,
           -0.0046376720061134255,
           -0.004876758446023158,
           -0.005119532499109138,
           -0.0053657808056064085,
           -0.005615284932032185,
           -0.005867821126278913,
           -0.006123160069465557,
           -0.006381066624775718,
           -0.006641299583549029,
           -0.0069036114090698176,
           -0.007167747979366517,
           -0.007433448333767548,
           -0.0077004444347256885,
           -0.007968460850038786,
           -0.00823721312516964,
           -0.008506384674677165,
           -0.008640960086489275
          ],
          [
           -2.6030465960502622e-20,
           5.109149367020099e-7,
           -0.000008805334503399483,
           -0.000027305067480777392,
           -0.000054965067085306616,
           -0.00009167409253330706,
           -0.00013728918021684407,
           -0.00019166060583187823,
           -0.0002546374873293716,
           -0.00032606863261987976,
           -0.0004058025999810209,
           -0.0004936876411299537,
           -0.000589571623132739,
           -0.0006933019409324014,
           -0.0008047254218388485,
           -0.0009236882222260984,
           -0.0010500357165924292,
           -0.0011836123791355505,
           -0.0013242616579959318,
           -0.001471825842322368,
           -0.0016261459223148888,
           -0.0017870614424012473,
           -0.001954410347704463,
           -0.002128028823960351,
           -0.002307751131045547,
           -0.0024934094302782213,
           -0.0026848336056556387,
           -0.0028818510791947154,
           -0.0030842866205440566,
           -0.0032919621510382976,
           -0.003504696542368306,
           -0.0037223054100434284,
           -0.003944600901825271,
           -0.004171391481315391,
           -0.004402481706882993,
           -0.0046376720061221425,
           -0.004876758446032123,
           -0.005119532499118353,
           -0.005365780805615878,
           -0.005615284932041911,
           -0.005867821126288902,
           -0.006123160069475807,
           -0.006381066624786235,
           -0.006641299583559814,
           -0.006903611409080871,
           -0.0071677479793778405,
           -0.00743344833377913,
           -0.007700444434737504,
           -0.007968460850050804,
           -0.008237213125181954,
           -0.008506384674690247,
           -0.008640960086499661
          ],
          [
           2.421438694000244e-21,
           -7.653781776438019e-7,
           -0.00001039673999178486,
           -0.000028855364855906884,
           -0.00005648336728959508,
           -0.00009316555356175902,
           -0.00013875509675961799,
           -0.00019310117572019273,
           -0.00025605271086248926,
           -0.0003274584712669992,
           -0.0004071669995909818,
           -0.0004950265338467293,
           -0.0005908849264492544,
           -0.0006945895564103889,
           -0.0008059872338114538,
           -0.0009249240965205997,
           -0.0010512454992777102,
           -0.0011847958952951113,
           -0.001325418710526715,
           -0.001472956210759599,
           -0.0016272493616831276,
           -0.0017881376820918706,
           -0.0019554590903798183,
           -0.0021290497444848497,
           -0.002308743875443985,
           -0.002494373614721655,
           -0.0026857688154751556,
           -0.0028827568679234885,
           -0.0030851625089880815,
           -0.003292807626376265,
           -0.003505511057281072,
           -0.003723088381873599,
           -0.003945351711767432,
           -0.004172109473637573,
           -0.004403166188179968,
           -0.0046383222446012215,
           -0.0048773736708321155,
           -0.005120111899662427,
           -0.005366323530999036,
           -0.005615790090453739,
           -0.005868287784471653,
           -0.006123587252214899,
           -0.006381453314415305,
           -0.006641644719389092,
           -0.006903913886310704,
           -0.007168006645624584,
           -0.007433661976409812,
           -0.007700611759793103,
           -0.007968580525770172,
           -0.008237287890195392,
           -0.008506417612712607,
           -0.008641277545764334
          ],
          [
           0,
           -0.0000023087948386601245,
           -0.000011904333278006685,
           -0.000030389646400455538,
           -0.000057998687303303276,
           -0.00009465660627025455,
           -0.00014022097941962525,
           -0.00019454176733675285,
           -0.0002574679704035094,
           -0.0003288483565142089,
           -0.00040853145705584685,
           -0.0004963654967705069,
           -0.0005921983134441546,
           -0.0006958772701405461,
           -0.0008072491596916331,
           -0.0009261601014382454,
           -0.0010524554303401657,
           -0.001185979578602464,
           -0.001326575949970469,
           -0.0014740867868473471,
           -0.0016283530303894205,
           -0.0017892141737354949,
           -0.0019565081085277246,
           -0.0021300709648829986,
           -0.002309736944975395,
           -0.002495338150391983,
           -0.0026867044034261474,
           -0.002883663062474684,
           -0.0030860388317071833,
           -0.0032936535651786046,
           -0.0035063260655586546,
           -0.0037238718776542246,
           -0.003946103076904443,
           -0.004172828053030796,
           -0.004403851289028466,
           -0.004638973135688502,
           -0.004877989581844489,
           -0.005120692020541222,
           -0.005366867011327454,
           -0.0056162960388791315,
           -0.0058687552681640515,
           -0.006124015296362658,
           -0.006381840901759253,
           -0.006641990789802057,
           -0.006904217336476916,
           -0.0071682663291009,
           -0.007433876706249015,
           -0.007700780301330889,
           -0.00796870171216299,
           -0.008237356030350725,
           -0.008506462891550269,
           -0.008640816348072886
          ]
         ]
        }
       ],
       "layout": {
        "template": {
         "data": {
          "bar": [
           {
            "error_x": {
             "color": "#2a3f5f"
            },
            "error_y": {
             "color": "#2a3f5f"
            },
            "marker": {
             "line": {
              "color": "#E5ECF6",
              "width": 0.5
             },
             "pattern": {
              "fillmode": "overlay",
              "size": 10,
              "solidity": 0.2
             }
            },
            "type": "bar"
           }
          ],
          "barpolar": [
           {
            "marker": {
             "line": {
              "color": "#E5ECF6",
              "width": 0.5
             },
             "pattern": {
              "fillmode": "overlay",
              "size": 10,
              "solidity": 0.2
             }
            },
            "type": "barpolar"
           }
          ],
          "carpet": [
           {
            "aaxis": {
             "endlinecolor": "#2a3f5f",
             "gridcolor": "white",
             "linecolor": "white",
             "minorgridcolor": "white",
             "startlinecolor": "#2a3f5f"
            },
            "baxis": {
             "endlinecolor": "#2a3f5f",
             "gridcolor": "white",
             "linecolor": "white",
             "minorgridcolor": "white",
             "startlinecolor": "#2a3f5f"
            },
            "type": "carpet"
           }
          ],
          "choropleth": [
           {
            "colorbar": {
             "outlinewidth": 0,
             "ticks": ""
            },
            "type": "choropleth"
           }
          ],
          "contour": [
           {
            "colorbar": {
             "outlinewidth": 0,
             "ticks": ""
            },
            "colorscale": [
             [
              0,
              "#0d0887"
             ],
             [
              0.1111111111111111,
              "#46039f"
             ],
             [
              0.2222222222222222,
              "#7201a8"
             ],
             [
              0.3333333333333333,
              "#9c179e"
             ],
             [
              0.4444444444444444,
              "#bd3786"
             ],
             [
              0.5555555555555556,
              "#d8576b"
             ],
             [
              0.6666666666666666,
              "#ed7953"
             ],
             [
              0.7777777777777778,
              "#fb9f3a"
             ],
             [
              0.8888888888888888,
              "#fdca26"
             ],
             [
              1,
              "#f0f921"
             ]
            ],
            "type": "contour"
           }
          ],
          "contourcarpet": [
           {
            "colorbar": {
             "outlinewidth": 0,
             "ticks": ""
            },
            "type": "contourcarpet"
           }
          ],
          "heatmap": [
           {
            "colorbar": {
             "outlinewidth": 0,
             "ticks": ""
            },
            "colorscale": [
             [
              0,
              "#0d0887"
             ],
             [
              0.1111111111111111,
              "#46039f"
             ],
             [
              0.2222222222222222,
              "#7201a8"
             ],
             [
              0.3333333333333333,
              "#9c179e"
             ],
             [
              0.4444444444444444,
              "#bd3786"
             ],
             [
              0.5555555555555556,
              "#d8576b"
             ],
             [
              0.6666666666666666,
              "#ed7953"
             ],
             [
              0.7777777777777778,
              "#fb9f3a"
             ],
             [
              0.8888888888888888,
              "#fdca26"
             ],
             [
              1,
              "#f0f921"
             ]
            ],
            "type": "heatmap"
           }
          ],
          "heatmapgl": [
           {
            "colorbar": {
             "outlinewidth": 0,
             "ticks": ""
            },
            "colorscale": [
             [
              0,
              "#0d0887"
             ],
             [
              0.1111111111111111,
              "#46039f"
             ],
             [
              0.2222222222222222,
              "#7201a8"
             ],
             [
              0.3333333333333333,
              "#9c179e"
             ],
             [
              0.4444444444444444,
              "#bd3786"
             ],
             [
              0.5555555555555556,
              "#d8576b"
             ],
             [
              0.6666666666666666,
              "#ed7953"
             ],
             [
              0.7777777777777778,
              "#fb9f3a"
             ],
             [
              0.8888888888888888,
              "#fdca26"
             ],
             [
              1,
              "#f0f921"
             ]
            ],
            "type": "heatmapgl"
           }
          ],
          "histogram": [
           {
            "marker": {
             "pattern": {
              "fillmode": "overlay",
              "size": 10,
              "solidity": 0.2
             }
            },
            "type": "histogram"
           }
          ],
          "histogram2d": [
           {
            "colorbar": {
             "outlinewidth": 0,
             "ticks": ""
            },
            "colorscale": [
             [
              0,
              "#0d0887"
             ],
             [
              0.1111111111111111,
              "#46039f"
             ],
             [
              0.2222222222222222,
              "#7201a8"
             ],
             [
              0.3333333333333333,
              "#9c179e"
             ],
             [
              0.4444444444444444,
              "#bd3786"
             ],
             [
              0.5555555555555556,
              "#d8576b"
             ],
             [
              0.6666666666666666,
              "#ed7953"
             ],
             [
              0.7777777777777778,
              "#fb9f3a"
             ],
             [
              0.8888888888888888,
              "#fdca26"
             ],
             [
              1,
              "#f0f921"
             ]
            ],
            "type": "histogram2d"
           }
          ],
          "histogram2dcontour": [
           {
            "colorbar": {
             "outlinewidth": 0,
             "ticks": ""
            },
            "colorscale": [
             [
              0,
              "#0d0887"
             ],
             [
              0.1111111111111111,
              "#46039f"
             ],
             [
              0.2222222222222222,
              "#7201a8"
             ],
             [
              0.3333333333333333,
              "#9c179e"
             ],
             [
              0.4444444444444444,
              "#bd3786"
             ],
             [
              0.5555555555555556,
              "#d8576b"
             ],
             [
              0.6666666666666666,
              "#ed7953"
             ],
             [
              0.7777777777777778,
              "#fb9f3a"
             ],
             [
              0.8888888888888888,
              "#fdca26"
             ],
             [
              1,
              "#f0f921"
             ]
            ],
            "type": "histogram2dcontour"
           }
          ],
          "mesh3d": [
           {
            "colorbar": {
             "outlinewidth": 0,
             "ticks": ""
            },
            "type": "mesh3d"
           }
          ],
          "parcoords": [
           {
            "line": {
             "colorbar": {
              "outlinewidth": 0,
              "ticks": ""
             }
            },
            "type": "parcoords"
           }
          ],
          "pie": [
           {
            "automargin": true,
            "type": "pie"
           }
          ],
          "scatter": [
           {
            "marker": {
             "colorbar": {
              "outlinewidth": 0,
              "ticks": ""
             }
            },
            "type": "scatter"
           }
          ],
          "scatter3d": [
           {
            "line": {
             "colorbar": {
              "outlinewidth": 0,
              "ticks": ""
             }
            },
            "marker": {
             "colorbar": {
              "outlinewidth": 0,
              "ticks": ""
             }
            },
            "type": "scatter3d"
           }
          ],
          "scattercarpet": [
           {
            "marker": {
             "colorbar": {
              "outlinewidth": 0,
              "ticks": ""
             }
            },
            "type": "scattercarpet"
           }
          ],
          "scattergeo": [
           {
            "marker": {
             "colorbar": {
              "outlinewidth": 0,
              "ticks": ""
             }
            },
            "type": "scattergeo"
           }
          ],
          "scattergl": [
           {
            "marker": {
             "colorbar": {
              "outlinewidth": 0,
              "ticks": ""
             }
            },
            "type": "scattergl"
           }
          ],
          "scattermapbox": [
           {
            "marker": {
             "colorbar": {
              "outlinewidth": 0,
              "ticks": ""
             }
            },
            "type": "scattermapbox"
           }
          ],
          "scatterpolar": [
           {
            "marker": {
             "colorbar": {
              "outlinewidth": 0,
              "ticks": ""
             }
            },
            "type": "scatterpolar"
           }
          ],
          "scatterpolargl": [
           {
            "marker": {
             "colorbar": {
              "outlinewidth": 0,
              "ticks": ""
             }
            },
            "type": "scatterpolargl"
           }
          ],
          "scatterternary": [
           {
            "marker": {
             "colorbar": {
              "outlinewidth": 0,
              "ticks": ""
             }
            },
            "type": "scatterternary"
           }
          ],
          "surface": [
           {
            "colorbar": {
             "outlinewidth": 0,
             "ticks": ""
            },
            "colorscale": [
             [
              0,
              "#0d0887"
             ],
             [
              0.1111111111111111,
              "#46039f"
             ],
             [
              0.2222222222222222,
              "#7201a8"
             ],
             [
              0.3333333333333333,
              "#9c179e"
             ],
             [
              0.4444444444444444,
              "#bd3786"
             ],
             [
              0.5555555555555556,
              "#d8576b"
             ],
             [
              0.6666666666666666,
              "#ed7953"
             ],
             [
              0.7777777777777778,
              "#fb9f3a"
             ],
             [
              0.8888888888888888,
              "#fdca26"
             ],
             [
              1,
              "#f0f921"
             ]
            ],
            "type": "surface"
           }
          ],
          "table": [
           {
            "cells": {
             "fill": {
              "color": "#EBF0F8"
             },
             "line": {
              "color": "white"
             }
            },
            "header": {
             "fill": {
              "color": "#C8D4E3"
             },
             "line": {
              "color": "white"
             }
            },
            "type": "table"
           }
          ]
         },
         "layout": {
          "annotationdefaults": {
           "arrowcolor": "#2a3f5f",
           "arrowhead": 0,
           "arrowwidth": 1
          },
          "autotypenumbers": "strict",
          "coloraxis": {
           "colorbar": {
            "outlinewidth": 0,
            "ticks": ""
           }
          },
          "colorscale": {
           "diverging": [
            [
             0,
             "#8e0152"
            ],
            [
             0.1,
             "#c51b7d"
            ],
            [
             0.2,
             "#de77ae"
            ],
            [
             0.3,
             "#f1b6da"
            ],
            [
             0.4,
             "#fde0ef"
            ],
            [
             0.5,
             "#f7f7f7"
            ],
            [
             0.6,
             "#e6f5d0"
            ],
            [
             0.7,
             "#b8e186"
            ],
            [
             0.8,
             "#7fbc41"
            ],
            [
             0.9,
             "#4d9221"
            ],
            [
             1,
             "#276419"
            ]
           ],
           "sequential": [
            [
             0,
             "#0d0887"
            ],
            [
             0.1111111111111111,
             "#46039f"
            ],
            [
             0.2222222222222222,
             "#7201a8"
            ],
            [
             0.3333333333333333,
             "#9c179e"
            ],
            [
             0.4444444444444444,
             "#bd3786"
            ],
            [
             0.5555555555555556,
             "#d8576b"
            ],
            [
             0.6666666666666666,
             "#ed7953"
            ],
            [
             0.7777777777777778,
             "#fb9f3a"
            ],
            [
             0.8888888888888888,
             "#fdca26"
            ],
            [
             1,
             "#f0f921"
            ]
           ],
           "sequentialminus": [
            [
             0,
             "#0d0887"
            ],
            [
             0.1111111111111111,
             "#46039f"
            ],
            [
             0.2222222222222222,
             "#7201a8"
            ],
            [
             0.3333333333333333,
             "#9c179e"
            ],
            [
             0.4444444444444444,
             "#bd3786"
            ],
            [
             0.5555555555555556,
             "#d8576b"
            ],
            [
             0.6666666666666666,
             "#ed7953"
            ],
            [
             0.7777777777777778,
             "#fb9f3a"
            ],
            [
             0.8888888888888888,
             "#fdca26"
            ],
            [
             1,
             "#f0f921"
            ]
           ]
          },
          "colorway": [
           "#636efa",
           "#EF553B",
           "#00cc96",
           "#ab63fa",
           "#FFA15A",
           "#19d3f3",
           "#FF6692",
           "#B6E880",
           "#FF97FF",
           "#FECB52"
          ],
          "font": {
           "color": "#2a3f5f"
          },
          "geo": {
           "bgcolor": "white",
           "lakecolor": "white",
           "landcolor": "#E5ECF6",
           "showlakes": true,
           "showland": true,
           "subunitcolor": "white"
          },
          "hoverlabel": {
           "align": "left"
          },
          "hovermode": "closest",
          "mapbox": {
           "style": "light"
          },
          "paper_bgcolor": "white",
          "plot_bgcolor": "#E5ECF6",
          "polar": {
           "angularaxis": {
            "gridcolor": "white",
            "linecolor": "white",
            "ticks": ""
           },
           "bgcolor": "#E5ECF6",
           "radialaxis": {
            "gridcolor": "white",
            "linecolor": "white",
            "ticks": ""
           }
          },
          "scene": {
           "xaxis": {
            "backgroundcolor": "#E5ECF6",
            "gridcolor": "white",
            "gridwidth": 2,
            "linecolor": "white",
            "showbackground": true,
            "ticks": "",
            "zerolinecolor": "white"
           },
           "yaxis": {
            "backgroundcolor": "#E5ECF6",
            "gridcolor": "white",
            "gridwidth": 2,
            "linecolor": "white",
            "showbackground": true,
            "ticks": "",
            "zerolinecolor": "white"
           },
           "zaxis": {
            "backgroundcolor": "#E5ECF6",
            "gridcolor": "white",
            "gridwidth": 2,
            "linecolor": "white",
            "showbackground": true,
            "ticks": "",
            "zerolinecolor": "white"
           }
          },
          "shapedefaults": {
           "line": {
            "color": "#2a3f5f"
           }
          },
          "ternary": {
           "aaxis": {
            "gridcolor": "white",
            "linecolor": "white",
            "ticks": ""
           },
           "baxis": {
            "gridcolor": "white",
            "linecolor": "white",
            "ticks": ""
           },
           "bgcolor": "#E5ECF6",
           "caxis": {
            "gridcolor": "white",
            "linecolor": "white",
            "ticks": ""
           }
          },
          "title": {
           "x": 0.05
          },
          "xaxis": {
           "automargin": true,
           "gridcolor": "white",
           "linecolor": "white",
           "ticks": "",
           "title": {
            "standoff": 15
           },
           "zerolinecolor": "white",
           "zerolinewidth": 2
          },
          "yaxis": {
           "automargin": true,
           "gridcolor": "white",
           "linecolor": "white",
           "ticks": "",
           "title": {
            "standoff": 15
           },
           "zerolinecolor": "white",
           "zerolinewidth": 2
          }
         }
        }
       }
      },
      "text/html": [
       "<div>                            <div id=\"7ce6c358-2ed1-4c4d-b12e-f44987d7f78a\" class=\"plotly-graph-div\" style=\"height:525px; width:100%;\"></div>            <script type=\"text/javascript\">                require([\"plotly\"], function(Plotly) {                    window.PLOTLYENV=window.PLOTLYENV || {};                                    if (document.getElementById(\"7ce6c358-2ed1-4c4d-b12e-f44987d7f78a\")) {                    Plotly.newPlot(                        \"7ce6c358-2ed1-4c4d-b12e-f44987d7f78a\",                        [{\"x\":[[0.0,0.02,0.06,0.09999999999999999,0.13999999999999999,0.17999999999999997,0.21999999999999995,0.25999999999999995,0.3,0.33999999999999997,0.37999999999999995,0.41999999999999993,0.45999999999999996,0.49999999999999994,0.5399999999999999,0.58,0.6199999999999999,0.6599999999999999,0.7,0.7399999999999999,0.7799999999999999,0.8199999999999998,0.8599999999999999,0.8999999999999999,0.9399999999999998,0.9799999999999999,1.0199999999999998,1.0599999999999998,1.0999999999999999,1.14,1.18,1.2199999999999998,1.2599999999999998,1.2999999999999998,1.3399999999999999,1.38,1.4199999999999997,1.4599999999999997,1.4999999999999998,1.5399999999999998,1.5799999999999998,1.6199999999999997,1.6599999999999997,1.6999999999999997,1.7399999999999998,1.7799999999999998,1.8199999999999998,1.8599999999999997,1.8999999999999997,1.9399999999999997,1.9799999999999998,2.0],[0.0,0.02,0.06,0.09999999999999999,0.13999999999999999,0.17999999999999997,0.21999999999999995,0.25999999999999995,0.3,0.33999999999999997,0.37999999999999995,0.41999999999999993,0.45999999999999996,0.49999999999999994,0.5399999999999999,0.58,0.6199999999999999,0.6599999999999999,0.7,0.7399999999999999,0.7799999999999999,0.8199999999999998,0.8599999999999999,0.8999999999999999,0.9399999999999998,0.9799999999999999,1.0199999999999998,1.0599999999999998,1.0999999999999999,1.14,1.18,1.2199999999999998,1.2599999999999998,1.2999999999999998,1.3399999999999999,1.38,1.4199999999999997,1.4599999999999997,1.4999999999999998,1.5399999999999998,1.5799999999999998,1.6199999999999997,1.6599999999999997,1.6999999999999997,1.7399999999999998,1.7799999999999998,1.8199999999999998,1.8599999999999997,1.8999999999999997,1.9399999999999997,1.9799999999999998,2.0],[0.0,0.02,0.06,0.09999999999999999,0.13999999999999999,0.17999999999999997,0.21999999999999995,0.25999999999999995,0.3,0.33999999999999997,0.37999999999999995,0.41999999999999993,0.45999999999999996,0.49999999999999994,0.5399999999999999,0.58,0.6199999999999999,0.6599999999999999,0.7,0.7399999999999999,0.7799999999999999,0.8199999999999998,0.8599999999999999,0.8999999999999999,0.9399999999999998,0.9799999999999999,1.0199999999999998,1.0599999999999998,1.0999999999999999,1.14,1.18,1.2199999999999998,1.2599999999999998,1.2999999999999998,1.3399999999999999,1.38,1.4199999999999997,1.4599999999999997,1.4999999999999998,1.5399999999999998,1.5799999999999998,1.6199999999999997,1.6599999999999997,1.6999999999999997,1.7399999999999998,1.7799999999999998,1.8199999999999998,1.8599999999999997,1.8999999999999997,1.9399999999999997,1.9799999999999998,2.0],[0.0,0.02,0.06,0.09999999999999999,0.13999999999999999,0.17999999999999997,0.21999999999999995,0.25999999999999995,0.3,0.33999999999999997,0.37999999999999995,0.41999999999999993,0.45999999999999996,0.49999999999999994,0.5399999999999999,0.58,0.6199999999999999,0.6599999999999999,0.7,0.7399999999999999,0.7799999999999999,0.8199999999999998,0.8599999999999999,0.8999999999999999,0.9399999999999998,0.9799999999999999,1.0199999999999998,1.0599999999999998,1.0999999999999999,1.14,1.18,1.2199999999999998,1.2599999999999998,1.2999999999999998,1.3399999999999999,1.38,1.4199999999999997,1.4599999999999997,1.4999999999999998,1.5399999999999998,1.5799999999999998,1.6199999999999997,1.6599999999999997,1.6999999999999997,1.7399999999999998,1.7799999999999998,1.8199999999999998,1.8599999999999997,1.8999999999999997,1.9399999999999997,1.9799999999999998,2.0],[0.0,0.02,0.06,0.09999999999999999,0.13999999999999999,0.17999999999999997,0.21999999999999995,0.25999999999999995,0.3,0.33999999999999997,0.37999999999999995,0.41999999999999993,0.45999999999999996,0.49999999999999994,0.5399999999999999,0.58,0.6199999999999999,0.6599999999999999,0.7,0.7399999999999999,0.7799999999999999,0.8199999999999998,0.8599999999999999,0.8999999999999999,0.9399999999999998,0.9799999999999999,1.0199999999999998,1.0599999999999998,1.0999999999999999,1.14,1.18,1.2199999999999998,1.2599999999999998,1.2999999999999998,1.3399999999999999,1.38,1.4199999999999997,1.4599999999999997,1.4999999999999998,1.5399999999999998,1.5799999999999998,1.6199999999999997,1.6599999999999997,1.6999999999999997,1.7399999999999998,1.7799999999999998,1.8199999999999998,1.8599999999999997,1.8999999999999997,1.9399999999999997,1.9799999999999998,2.0],[0.0,0.02,0.06,0.09999999999999999,0.13999999999999999,0.17999999999999997,0.21999999999999995,0.25999999999999995,0.3,0.33999999999999997,0.37999999999999995,0.41999999999999993,0.45999999999999996,0.49999999999999994,0.5399999999999999,0.58,0.6199999999999999,0.6599999999999999,0.7,0.7399999999999999,0.7799999999999999,0.8199999999999998,0.8599999999999999,0.8999999999999999,0.9399999999999998,0.9799999999999999,1.0199999999999998,1.0599999999999998,1.0999999999999999,1.14,1.18,1.2199999999999998,1.2599999999999998,1.2999999999999998,1.3399999999999999,1.38,1.4199999999999997,1.4599999999999997,1.4999999999999998,1.5399999999999998,1.5799999999999998,1.6199999999999997,1.6599999999999997,1.6999999999999997,1.7399999999999998,1.7799999999999998,1.8199999999999998,1.8599999999999997,1.8999999999999997,1.9399999999999997,1.9799999999999998,2.0]],\"y\":[[0.0,0.0,0.0,0.0,0.0,0.0,0.0,0.0,0.0,0.0,0.0,0.0,0.0,0.0,0.0,0.0,0.0,0.0,0.0,0.0,0.0,0.0,0.0,0.0,0.0,0.0,0.0,0.0,0.0,0.0,0.0,0.0,0.0,0.0,0.0,0.0,0.0,0.0,0.0,0.0,0.0,0.0,0.0,0.0,0.0,0.0,0.0,0.0,0.0,0.0,0.0,0.0],[0.0125,0.0125,0.0125,0.0125,0.0125,0.0125,0.0125,0.0125,0.0125,0.0125,0.0125,0.0125,0.0125,0.0125,0.0125,0.0125,0.0125,0.0125,0.0125,0.0125,0.0125,0.0125,0.0125,0.0125,0.0125,0.0125,0.0125,0.0125,0.0125,0.0125,0.0125,0.0125,0.0125,0.0125,0.0125,0.0125,0.0125,0.0125,0.0125,0.0125,0.0125,0.0125,0.0125,0.0125,0.0125,0.0125,0.0125,0.0125,0.0125,0.0125,0.0125,0.0125],[0.037500000000000006,0.037500000000000006,0.037500000000000006,0.037500000000000006,0.037500000000000006,0.037500000000000006,0.037500000000000006,0.037500000000000006,0.037500000000000006,0.037500000000000006,0.037500000000000006,0.037500000000000006,0.037500000000000006,0.037500000000000006,0.037500000000000006,0.037500000000000006,0.037500000000000006,0.037500000000000006,0.037500000000000006,0.037500000000000006,0.037500000000000006,0.037500000000000006,0.037500000000000006,0.037500000000000006,0.037500000000000006,0.037500000000000006,0.037500000000000006,0.037500000000000006,0.037500000000000006,0.037500000000000006,0.037500000000000006,0.037500000000000006,0.037500000000000006,0.037500000000000006,0.037500000000000006,0.037500000000000006,0.037500000000000006,0.037500000000000006,0.037500000000000006,0.037500000000000006,0.037500000000000006,0.037500000000000006,0.037500000000000006,0.037500000000000006,0.037500000000000006,0.037500000000000006,0.037500000000000006,0.037500000000000006,0.037500000000000006,0.037500000000000006,0.037500000000000006,0.037500000000000006],[0.06250000000000001,0.06250000000000001,0.06250000000000001,0.06250000000000001,0.06250000000000001,0.06250000000000001,0.06250000000000001,0.06250000000000001,0.06250000000000001,0.06250000000000001,0.06250000000000001,0.06250000000000001,0.06250000000000001,0.06250000000000001,0.06250000000000001,0.06250000000000001,0.06250000000000001,0.06250000000000001,0.06250000000000001,0.06250000000000001,0.06250000000000001,0.06250000000000001,0.06250000000000001,0.06250000000000001,0.06250000000000001,0.06250000000000001,0.06250000000000001,0.06250000000000001,0.06250000000000001,0.06250000000000001,0.06250000000000001,0.06250000000000001,0.06250000000000001,0.06250000000000001,0.06250000000000001,0.06250000000000001,0.06250000000000001,0.06250000000000001,0.06250000000000001,0.06250000000000001,0.06250000000000001,0.06250000000000001,0.06250000000000001,0.06250000000000001,0.06250000000000001,0.06250000000000001,0.06250000000000001,0.06250000000000001,0.06250000000000001,0.06250000000000001,0.06250000000000001,0.06250000000000001],[0.08750000000000001,0.08750000000000001,0.08750000000000001,0.08750000000000001,0.08750000000000001,0.08750000000000001,0.08750000000000001,0.08750000000000001,0.08750000000000001,0.08750000000000001,0.08750000000000001,0.08750000000000001,0.08750000000000001,0.08750000000000001,0.08750000000000001,0.08750000000000001,0.08750000000000001,0.08750000000000001,0.08750000000000001,0.08750000000000001,0.08750000000000001,0.08750000000000001,0.08750000000000001,0.08750000000000001,0.08750000000000001,0.08750000000000001,0.08750000000000001,0.08750000000000001,0.08750000000000001,0.08750000000000001,0.08750000000000001,0.08750000000000001,0.08750000000000001,0.08750000000000001,0.08750000000000001,0.08750000000000001,0.08750000000000001,0.08750000000000001,0.08750000000000001,0.08750000000000001,0.08750000000000001,0.08750000000000001,0.08750000000000001,0.08750000000000001,0.08750000000000001,0.08750000000000001,0.08750000000000001,0.08750000000000001,0.08750000000000001,0.08750000000000001,0.08750000000000001,0.08750000000000001],[0.1,0.1,0.1,0.1,0.1,0.1,0.1,0.1,0.1,0.1,0.1,0.1,0.1,0.1,0.1,0.1,0.1,0.1,0.1,0.1,0.1,0.1,0.1,0.1,0.1,0.1,0.1,0.1,0.1,0.1,0.1,0.1,0.1,0.1,0.1,0.1,0.1,0.1,0.1,0.1,0.1,0.1,0.1,0.1,0.1,0.1,0.1,0.1,0.1,0.1,0.1,0.1]],\"z\":[[0.0,-2.3087948271568152e-06,-1.1904333262786348e-05,-3.0389646384525142e-05,-5.799868728721951e-05,-9.46566062540062e-05,-0.0001402209794031478,-0.00019454176731999078,-0.0002574679703864146,-0.00032884835649673623,-0.00040853145703795236,-0.0004963654967521475,-0.0005921983134252882,-0.0006958772701211312,-0.0008072491596716288,-0.0009261601014176121,-0.0010524554303188644,-0.0011859795785804567,-0.0013265759499477181,-0.0014740867868238154,-0.0016283530303650717,-0.0017892141737102958,-0.0019565081085016417,-0.0021300709648559976,-0.0023097369449474447,-0.002495338150363051,-0.002686704403396202,-0.0028836630624436976,-0.003086038831675127,-0.003293653565145452,-0.003506326065524376,-0.003723871877618795,-0.003946103076867838,-0.004172828052992993,-0.004403851288989441,-0.004638973135648236,-0.004877989581802957,-0.005120692020498406,-0.005366867011283337,-0.005616296038833697,-0.00586875526811728,-0.006124015296314539,-0.00638184090170977,-0.006641990789751201,-0.006904217336424678,-0.007168266329047267,-0.0074338767061940016,-0.007700780301274512,-0.007968701712105222,-0.00823735603029154,-0.008506462891487302,-0.008640816348047097],[-0.0,-7.653781700859917e-07,-1.039673998016859e-05,-2.885536484390787e-05,-5.64833672775711e-05,-9.316555354966535e-05,-0.0001387550967473968,-0.00019310117570780583,-0.0002560527108499073,-0.00032745847125419575,-0.000407166999577931,-0.000495026533833406,-0.0005908849264356339,-0.0006945895563964472,-0.0008059872337971666,-0.0009249240965059441,-0.0010512454992626637,-0.0011847958952796508,-0.001325418710510819,-0.0014729562107432454,-0.0016272493616662949,-0.00178813768207454,-0.00195545909036197,-0.0021290497444664638,-0.0023087438754250435,-0.002494373614702139,-0.0026857688154550453,-0.0028827568679027685,-0.0030851625089667344,-0.003292807626354276,-0.003505511057258424,-0.0037230883818502765,-0.003945351711743422,-0.004172109473612862,-0.0044031661881545415,-0.004638322244575067,-0.0048773736708052195,-0.005120111899634778,-0.005366323530970625,-0.0056157900904245574,-0.005868287784441687,-0.006123587252184145,-0.006381453314383751,-0.006641644719356736,-0.006903913886277539,-0.007168006645590606,-0.0074336619763750375,-0.007700611759757569,-0.0079685805257339,-0.008237287890157699,-0.008506417612675593,-0.008641277545702382],[-1.9371509552001952e-20,5.109149390102164e-07,-8.805334499540872e-06,-2.730506747674984e-05,-5.4965067081288725e-05,-9.167409252927511e-05,-0.00013728918021277232,-0.00019166060582775175,-0.00025463748732518015,-0.0003260686326156145,-0.0004058025999766731,-0.0004936876411255151,-0.0005895716231282012,-0.0006933019409277564,-0.0008047254218340884,-0.0009236882222212154,-0.001050035716587416,-0.001183612379130399,-0.0013242616579906355,-0.0014718258423169189,-0.0016261459223092796,-0.0017870614423954724,-0.0019544103476985156,-0.002128028823954224,-0.0023077511310392344,-0.002493409430271718,-0.0026848336056489366,-0.0028818510791878108,-0.0030842866205369425,-0.0032919621510309693,-0.0035046965423607577,-0.0037223054100356556,-0.003944600901817269,-0.004171391481307156,-0.004402481706874519,-0.0046376720061134255,-0.004876758446023158,-0.005119532499109138,-0.0053657808056064085,-0.005615284932032185,-0.005867821126278913,-0.006123160069465557,-0.006381066624775718,-0.006641299583549029,-0.0069036114090698176,-0.007167747979366517,-0.007433448333767548,-0.0077004444347256885,-0.007968460850038786,-0.00823721312516964,-0.008506384674677165,-0.008640960086489275],[-2.6030465960502622e-20,5.109149367020099e-07,-8.805334503399483e-06,-2.7305067480777392e-05,-5.4965067085306616e-05,-9.167409253330706e-05,-0.00013728918021684407,-0.00019166060583187823,-0.0002546374873293716,-0.00032606863261987976,-0.0004058025999810209,-0.0004936876411299537,-0.000589571623132739,-0.0006933019409324014,-0.0008047254218388485,-0.0009236882222260984,-0.0010500357165924292,-0.0011836123791355505,-0.0013242616579959318,-0.001471825842322368,-0.0016261459223148888,-0.0017870614424012473,-0.001954410347704463,-0.002128028823960351,-0.002307751131045547,-0.0024934094302782213,-0.0026848336056556387,-0.0028818510791947154,-0.0030842866205440566,-0.0032919621510382976,-0.003504696542368306,-0.0037223054100434284,-0.003944600901825271,-0.004171391481315391,-0.004402481706882993,-0.0046376720061221425,-0.004876758446032123,-0.005119532499118353,-0.005365780805615878,-0.005615284932041911,-0.005867821126288902,-0.006123160069475807,-0.006381066624786235,-0.006641299583559814,-0.006903611409080871,-0.0071677479793778405,-0.00743344833377913,-0.007700444434737504,-0.007968460850050804,-0.008237213125181954,-0.008506384674690247,-0.008640960086499661],[2.421438694000244e-21,-7.653781776438019e-07,-1.039673999178486e-05,-2.8855364855906884e-05,-5.648336728959508e-05,-9.316555356175902e-05,-0.00013875509675961799,-0.00019310117572019273,-0.00025605271086248926,-0.0003274584712669992,-0.0004071669995909818,-0.0004950265338467293,-0.0005908849264492544,-0.0006945895564103889,-0.0008059872338114538,-0.0009249240965205997,-0.0010512454992777102,-0.0011847958952951113,-0.001325418710526715,-0.001472956210759599,-0.0016272493616831276,-0.0017881376820918706,-0.0019554590903798183,-0.0021290497444848497,-0.002308743875443985,-0.002494373614721655,-0.0026857688154751556,-0.0028827568679234885,-0.0030851625089880815,-0.003292807626376265,-0.003505511057281072,-0.003723088381873599,-0.003945351711767432,-0.004172109473637573,-0.004403166188179968,-0.0046383222446012215,-0.0048773736708321155,-0.005120111899662427,-0.005366323530999036,-0.005615790090453739,-0.005868287784471653,-0.006123587252214899,-0.006381453314415305,-0.006641644719389092,-0.006903913886310704,-0.007168006645624584,-0.007433661976409812,-0.007700611759793103,-0.007968580525770172,-0.008237287890195392,-0.008506417612712607,-0.008641277545764334],[0.0,-2.3087948386601245e-06,-1.1904333278006685e-05,-3.0389646400455538e-05,-5.7998687303303276e-05,-9.465660627025455e-05,-0.00014022097941962525,-0.00019454176733675285,-0.0002574679704035094,-0.0003288483565142089,-0.00040853145705584685,-0.0004963654967705069,-0.0005921983134441546,-0.0006958772701405461,-0.0008072491596916331,-0.0009261601014382454,-0.0010524554303401657,-0.001185979578602464,-0.001326575949970469,-0.0014740867868473471,-0.0016283530303894205,-0.0017892141737354949,-0.0019565081085277246,-0.0021300709648829986,-0.002309736944975395,-0.002495338150391983,-0.0026867044034261474,-0.002883663062474684,-0.0030860388317071833,-0.0032936535651786046,-0.0035063260655586546,-0.0037238718776542246,-0.003946103076904443,-0.004172828053030796,-0.004403851289028466,-0.004638973135688502,-0.004877989581844489,-0.005120692020541222,-0.005366867011327454,-0.0056162960388791315,-0.0058687552681640515,-0.006124015296362658,-0.006381840901759253,-0.006641990789802057,-0.006904217336476916,-0.0071682663291009,-0.007433876706249015,-0.007700780301330889,-0.00796870171216299,-0.008237356030350725,-0.008506462891550269,-0.008640816348072886]],\"type\":\"surface\"}],                        {\"template\":{\"data\":{\"bar\":[{\"error_x\":{\"color\":\"#2a3f5f\"},\"error_y\":{\"color\":\"#2a3f5f\"},\"marker\":{\"line\":{\"color\":\"#E5ECF6\",\"width\":0.5},\"pattern\":{\"fillmode\":\"overlay\",\"size\":10,\"solidity\":0.2}},\"type\":\"bar\"}],\"barpolar\":[{\"marker\":{\"line\":{\"color\":\"#E5ECF6\",\"width\":0.5},\"pattern\":{\"fillmode\":\"overlay\",\"size\":10,\"solidity\":0.2}},\"type\":\"barpolar\"}],\"carpet\":[{\"aaxis\":{\"endlinecolor\":\"#2a3f5f\",\"gridcolor\":\"white\",\"linecolor\":\"white\",\"minorgridcolor\":\"white\",\"startlinecolor\":\"#2a3f5f\"},\"baxis\":{\"endlinecolor\":\"#2a3f5f\",\"gridcolor\":\"white\",\"linecolor\":\"white\",\"minorgridcolor\":\"white\",\"startlinecolor\":\"#2a3f5f\"},\"type\":\"carpet\"}],\"choropleth\":[{\"colorbar\":{\"outlinewidth\":0,\"ticks\":\"\"},\"type\":\"choropleth\"}],\"contour\":[{\"colorbar\":{\"outlinewidth\":0,\"ticks\":\"\"},\"colorscale\":[[0.0,\"#0d0887\"],[0.1111111111111111,\"#46039f\"],[0.2222222222222222,\"#7201a8\"],[0.3333333333333333,\"#9c179e\"],[0.4444444444444444,\"#bd3786\"],[0.5555555555555556,\"#d8576b\"],[0.6666666666666666,\"#ed7953\"],[0.7777777777777778,\"#fb9f3a\"],[0.8888888888888888,\"#fdca26\"],[1.0,\"#f0f921\"]],\"type\":\"contour\"}],\"contourcarpet\":[{\"colorbar\":{\"outlinewidth\":0,\"ticks\":\"\"},\"type\":\"contourcarpet\"}],\"heatmap\":[{\"colorbar\":{\"outlinewidth\":0,\"ticks\":\"\"},\"colorscale\":[[0.0,\"#0d0887\"],[0.1111111111111111,\"#46039f\"],[0.2222222222222222,\"#7201a8\"],[0.3333333333333333,\"#9c179e\"],[0.4444444444444444,\"#bd3786\"],[0.5555555555555556,\"#d8576b\"],[0.6666666666666666,\"#ed7953\"],[0.7777777777777778,\"#fb9f3a\"],[0.8888888888888888,\"#fdca26\"],[1.0,\"#f0f921\"]],\"type\":\"heatmap\"}],\"heatmapgl\":[{\"colorbar\":{\"outlinewidth\":0,\"ticks\":\"\"},\"colorscale\":[[0.0,\"#0d0887\"],[0.1111111111111111,\"#46039f\"],[0.2222222222222222,\"#7201a8\"],[0.3333333333333333,\"#9c179e\"],[0.4444444444444444,\"#bd3786\"],[0.5555555555555556,\"#d8576b\"],[0.6666666666666666,\"#ed7953\"],[0.7777777777777778,\"#fb9f3a\"],[0.8888888888888888,\"#fdca26\"],[1.0,\"#f0f921\"]],\"type\":\"heatmapgl\"}],\"histogram\":[{\"marker\":{\"pattern\":{\"fillmode\":\"overlay\",\"size\":10,\"solidity\":0.2}},\"type\":\"histogram\"}],\"histogram2d\":[{\"colorbar\":{\"outlinewidth\":0,\"ticks\":\"\"},\"colorscale\":[[0.0,\"#0d0887\"],[0.1111111111111111,\"#46039f\"],[0.2222222222222222,\"#7201a8\"],[0.3333333333333333,\"#9c179e\"],[0.4444444444444444,\"#bd3786\"],[0.5555555555555556,\"#d8576b\"],[0.6666666666666666,\"#ed7953\"],[0.7777777777777778,\"#fb9f3a\"],[0.8888888888888888,\"#fdca26\"],[1.0,\"#f0f921\"]],\"type\":\"histogram2d\"}],\"histogram2dcontour\":[{\"colorbar\":{\"outlinewidth\":0,\"ticks\":\"\"},\"colorscale\":[[0.0,\"#0d0887\"],[0.1111111111111111,\"#46039f\"],[0.2222222222222222,\"#7201a8\"],[0.3333333333333333,\"#9c179e\"],[0.4444444444444444,\"#bd3786\"],[0.5555555555555556,\"#d8576b\"],[0.6666666666666666,\"#ed7953\"],[0.7777777777777778,\"#fb9f3a\"],[0.8888888888888888,\"#fdca26\"],[1.0,\"#f0f921\"]],\"type\":\"histogram2dcontour\"}],\"mesh3d\":[{\"colorbar\":{\"outlinewidth\":0,\"ticks\":\"\"},\"type\":\"mesh3d\"}],\"parcoords\":[{\"line\":{\"colorbar\":{\"outlinewidth\":0,\"ticks\":\"\"}},\"type\":\"parcoords\"}],\"pie\":[{\"automargin\":true,\"type\":\"pie\"}],\"scatter\":[{\"marker\":{\"colorbar\":{\"outlinewidth\":0,\"ticks\":\"\"}},\"type\":\"scatter\"}],\"scatter3d\":[{\"line\":{\"colorbar\":{\"outlinewidth\":0,\"ticks\":\"\"}},\"marker\":{\"colorbar\":{\"outlinewidth\":0,\"ticks\":\"\"}},\"type\":\"scatter3d\"}],\"scattercarpet\":[{\"marker\":{\"colorbar\":{\"outlinewidth\":0,\"ticks\":\"\"}},\"type\":\"scattercarpet\"}],\"scattergeo\":[{\"marker\":{\"colorbar\":{\"outlinewidth\":0,\"ticks\":\"\"}},\"type\":\"scattergeo\"}],\"scattergl\":[{\"marker\":{\"colorbar\":{\"outlinewidth\":0,\"ticks\":\"\"}},\"type\":\"scattergl\"}],\"scattermapbox\":[{\"marker\":{\"colorbar\":{\"outlinewidth\":0,\"ticks\":\"\"}},\"type\":\"scattermapbox\"}],\"scatterpolar\":[{\"marker\":{\"colorbar\":{\"outlinewidth\":0,\"ticks\":\"\"}},\"type\":\"scatterpolar\"}],\"scatterpolargl\":[{\"marker\":{\"colorbar\":{\"outlinewidth\":0,\"ticks\":\"\"}},\"type\":\"scatterpolargl\"}],\"scatterternary\":[{\"marker\":{\"colorbar\":{\"outlinewidth\":0,\"ticks\":\"\"}},\"type\":\"scatterternary\"}],\"surface\":[{\"colorbar\":{\"outlinewidth\":0,\"ticks\":\"\"},\"colorscale\":[[0.0,\"#0d0887\"],[0.1111111111111111,\"#46039f\"],[0.2222222222222222,\"#7201a8\"],[0.3333333333333333,\"#9c179e\"],[0.4444444444444444,\"#bd3786\"],[0.5555555555555556,\"#d8576b\"],[0.6666666666666666,\"#ed7953\"],[0.7777777777777778,\"#fb9f3a\"],[0.8888888888888888,\"#fdca26\"],[1.0,\"#f0f921\"]],\"type\":\"surface\"}],\"table\":[{\"cells\":{\"fill\":{\"color\":\"#EBF0F8\"},\"line\":{\"color\":\"white\"}},\"header\":{\"fill\":{\"color\":\"#C8D4E3\"},\"line\":{\"color\":\"white\"}},\"type\":\"table\"}]},\"layout\":{\"annotationdefaults\":{\"arrowcolor\":\"#2a3f5f\",\"arrowhead\":0,\"arrowwidth\":1},\"autotypenumbers\":\"strict\",\"coloraxis\":{\"colorbar\":{\"outlinewidth\":0,\"ticks\":\"\"}},\"colorscale\":{\"diverging\":[[0,\"#8e0152\"],[0.1,\"#c51b7d\"],[0.2,\"#de77ae\"],[0.3,\"#f1b6da\"],[0.4,\"#fde0ef\"],[0.5,\"#f7f7f7\"],[0.6,\"#e6f5d0\"],[0.7,\"#b8e186\"],[0.8,\"#7fbc41\"],[0.9,\"#4d9221\"],[1,\"#276419\"]],\"sequential\":[[0.0,\"#0d0887\"],[0.1111111111111111,\"#46039f\"],[0.2222222222222222,\"#7201a8\"],[0.3333333333333333,\"#9c179e\"],[0.4444444444444444,\"#bd3786\"],[0.5555555555555556,\"#d8576b\"],[0.6666666666666666,\"#ed7953\"],[0.7777777777777778,\"#fb9f3a\"],[0.8888888888888888,\"#fdca26\"],[1.0,\"#f0f921\"]],\"sequentialminus\":[[0.0,\"#0d0887\"],[0.1111111111111111,\"#46039f\"],[0.2222222222222222,\"#7201a8\"],[0.3333333333333333,\"#9c179e\"],[0.4444444444444444,\"#bd3786\"],[0.5555555555555556,\"#d8576b\"],[0.6666666666666666,\"#ed7953\"],[0.7777777777777778,\"#fb9f3a\"],[0.8888888888888888,\"#fdca26\"],[1.0,\"#f0f921\"]]},\"colorway\":[\"#636efa\",\"#EF553B\",\"#00cc96\",\"#ab63fa\",\"#FFA15A\",\"#19d3f3\",\"#FF6692\",\"#B6E880\",\"#FF97FF\",\"#FECB52\"],\"font\":{\"color\":\"#2a3f5f\"},\"geo\":{\"bgcolor\":\"white\",\"lakecolor\":\"white\",\"landcolor\":\"#E5ECF6\",\"showlakes\":true,\"showland\":true,\"subunitcolor\":\"white\"},\"hoverlabel\":{\"align\":\"left\"},\"hovermode\":\"closest\",\"mapbox\":{\"style\":\"light\"},\"paper_bgcolor\":\"white\",\"plot_bgcolor\":\"#E5ECF6\",\"polar\":{\"angularaxis\":{\"gridcolor\":\"white\",\"linecolor\":\"white\",\"ticks\":\"\"},\"bgcolor\":\"#E5ECF6\",\"radialaxis\":{\"gridcolor\":\"white\",\"linecolor\":\"white\",\"ticks\":\"\"}},\"scene\":{\"xaxis\":{\"backgroundcolor\":\"#E5ECF6\",\"gridcolor\":\"white\",\"gridwidth\":2,\"linecolor\":\"white\",\"showbackground\":true,\"ticks\":\"\",\"zerolinecolor\":\"white\"},\"yaxis\":{\"backgroundcolor\":\"#E5ECF6\",\"gridcolor\":\"white\",\"gridwidth\":2,\"linecolor\":\"white\",\"showbackground\":true,\"ticks\":\"\",\"zerolinecolor\":\"white\"},\"zaxis\":{\"backgroundcolor\":\"#E5ECF6\",\"gridcolor\":\"white\",\"gridwidth\":2,\"linecolor\":\"white\",\"showbackground\":true,\"ticks\":\"\",\"zerolinecolor\":\"white\"}},\"shapedefaults\":{\"line\":{\"color\":\"#2a3f5f\"}},\"ternary\":{\"aaxis\":{\"gridcolor\":\"white\",\"linecolor\":\"white\",\"ticks\":\"\"},\"baxis\":{\"gridcolor\":\"white\",\"linecolor\":\"white\",\"ticks\":\"\"},\"bgcolor\":\"#E5ECF6\",\"caxis\":{\"gridcolor\":\"white\",\"linecolor\":\"white\",\"ticks\":\"\"}},\"title\":{\"x\":0.05},\"xaxis\":{\"automargin\":true,\"gridcolor\":\"white\",\"linecolor\":\"white\",\"ticks\":\"\",\"title\":{\"standoff\":15},\"zerolinecolor\":\"white\",\"zerolinewidth\":2},\"yaxis\":{\"automargin\":true,\"gridcolor\":\"white\",\"linecolor\":\"white\",\"ticks\":\"\",\"title\":{\"standoff\":15},\"zerolinecolor\":\"white\",\"zerolinewidth\":2}}}},                        {\"responsive\": true}                    ).then(function(){\n",
       "                            \n",
       "var gd = document.getElementById('7ce6c358-2ed1-4c4d-b12e-f44987d7f78a');\n",
       "var x = new MutationObserver(function (mutations, observer) {{\n",
       "        var display = window.getComputedStyle(gd).display;\n",
       "        if (!display || display === 'none') {{\n",
       "            console.log([gd, 'removed!']);\n",
       "            Plotly.purge(gd);\n",
       "            observer.disconnect();\n",
       "        }}\n",
       "}});\n",
       "\n",
       "// Listen for the removal of the full notebook cells\n",
       "var notebookContainer = gd.closest('#notebook-container');\n",
       "if (notebookContainer) {{\n",
       "    x.observe(notebookContainer, {childList: true});\n",
       "}}\n",
       "\n",
       "// Listen for the clearing of the current output cell\n",
       "var outputEl = gd.closest('.output');\n",
       "if (outputEl) {{\n",
       "    x.observe(outputEl, {childList: true});\n",
       "}}\n",
       "\n",
       "                        })                };                });            </script>        </div>"
      ]
     },
     "metadata": {},
     "output_type": "display_data"
    }
   ],
   "source": [
    "## Time loop\n",
    "\n",
    "!rm -r savedVariables\n",
    "! mkdir savedVariables\n",
    "\n",
    "for time in t:\n",
    "\n",
    "    print(\"\\nTime = \" + str(time))\n",
    "    \n",
    "    # Set number of maximum iterations for convergence\n",
    "    \n",
    "    icorr = 1\n",
    "    maxcorr = 100000\n",
    "    fac = 10**math.ceil((math.log((A(\"x\").a_P), 10)))\n",
    "\n",
    "    # Make directory\n",
    "\n",
    "    ! mkdir savedVariables/{time}\n",
    "\n",
    "    residual_array = np.array([])\n",
    "    \n",
    "    while True:\n",
    "    # for iteration in [1]:\n",
    "        \n",
    "        u_previous = u_new #store latest guess values    # change_u new to U\n",
    "\n",
    "        A_x = A(\"x\").createMatrix()        \n",
    "        A_x, b_x = boundary_conditions(A_x, b_x, u_previous, u_old, u_old_old, \"x\")\n",
    "\n",
    "        ## Solve the x-equation\n",
    "        \n",
    "        Ux = spsolve(A_x, b_x)\n",
    "        Ux = np.array(Ux)\n",
    "        \n",
    "        ## Prepare matrix A and b vector for the y-equation\n",
    "        \n",
    "        A_y = A(\"y\").createMatrix()\n",
    "        A_y, b_y = boundary_conditions(A_y, b_y, u_previous, u_old, u_old_old, \"y\")\n",
    "        \n",
    "        ## Solve the y-equation\n",
    "        Uy = spsolve(A_y, b_y)\n",
    "        Uy = np.array(Uy)\n",
    "        \n",
    "        # ## Update U.New with new x and y displacements\n",
    "\n",
    "        u_new = np.vstack((Ux, Uy)).T\n",
    "       \n",
    "        ## Calculate the residual of each iteration\n",
    "        \n",
    "        normFactor = np.max(u_new)\n",
    "        residual = math.sqrt(np.mean((u_new - u_previous)**2))/normFactor\n",
    "        tolerance = 1e-15\n",
    "\n",
    "        residual_array = np.append(residual_array, residual)\n",
    "        \n",
    "    \n",
    "        ##print out residual of each iteration\n",
    "        if icorr%100 == 0 :\n",
    "            moving_average = np.mean(residual_array[len(residual_array)-100 :len(residual_array) ])\n",
    "            print(\"icorr = {:01d}, Residual = {:.20f}, normFactor = {:.20f}, moving average = {:.20f}, time = {:.5f}\".format(icorr, residual, normFactor, moving_average, time))\n",
    "\n",
    "\n",
    "        ## Convergence check\n",
    "        \n",
    "        if residual < tolerance:\n",
    "            \n",
    "            break\n",
    "            \n",
    "        elif icorr > maxcorr:\n",
    "            \n",
    "            break            \n",
    "        \n",
    "        icorr = icorr + 1\n",
    "    \n",
    "    ## Update variables\n",
    "    \n",
    "    u_old_old = u_old\n",
    "    u_old = u_new\n",
    "    \n",
    "    # ## Add the boundary conditions to the solution matrices\n",
    "    u_reshape_x = u_new[:,0].reshape(ny+2, nx+2)\n",
    "    u_reshape_y = u_new[:,1].reshape(ny+2, nx+2)\n",
    "    \n",
    "    # #Boundary conditions for u matrix\n",
    "    U = np.zeros((ny+2,nx+2))\n",
    "    V = np.zeros((ny+2,nx+2))\n",
    " \n",
    " \n",
    "    U[:, :] = u_reshape_x\n",
    "    V[:, :] = u_reshape_y \n",
    "\n",
    "    #Modulus of displacement\n",
    "\n",
    "    disp_mod = np.sqrt((U**2) + (V**2))\n",
    "    disp_mod_converted = disp_mod*1e6 #Convert displacement to micrometers\n",
    "    \n",
    "   ### Plot the results\n",
    "\n",
    "    import plotly.graph_objects as go\n",
    "\n",
    "    disp_mod = np.sqrt((U**2) + (V**2))*1e-10\n",
    "\n",
    "    dispx, dispy = np.meshgrid(x, y)\n",
    "    fig = go.Figure(data=[go.Surface(z=disp_mod_converted, x=dispx, y=dispy)])\n",
    "    \n",
    "fig.show()   \n",
    "\n",
    "print(\"U graph\")\n",
    "fig = go.Figure(data=[go.Surface(z=U, x=dispx, y=dispy)])\n",
    "\n",
    "fig.show()   \n",
    "\n",
    "print(\"V graph\")\n",
    "fig = go.Figure(data=[go.Surface(z=V, x=dispx, y=dispy)])\n",
    "\n",
    "fig.show()"
   ]
  },
  {
   "cell_type": "code",
   "execution_count": 210,
   "metadata": {},
   "outputs": [
    {
     "data": {
      "text/plain": [
       "[<matplotlib.lines.Line2D at 0x7fd3879e2d60>]"
      ]
     },
     "execution_count": 210,
     "metadata": {},
     "output_type": "execute_result"
    },
    {
     "data": {
      "image/png": "[encoded data removed]",
      "text/plain": [
       "<Figure size 432x288 with 1 Axes>"
      ]
     },
     "metadata": {
      "needs_background": "light"
     },
     "output_type": "display_data"
    }
   ],
   "source": [
    "\n",
    "residual_array.shape\n",
    "\n",
    "plt.plot(np.arange(0, len(residual_array)), residual_array)"
   ]
  },
  {
   "cell_type": "code",
   "execution_count": 211,
   "metadata": {},
   "outputs": [
    {
     "data": {
      "text/plain": [
       "(6, 52)"
      ]
     },
     "execution_count": 211,
     "metadata": {},
     "output_type": "execute_result"
    }
   ],
   "source": [
    "u_reshape_x.shape\n",
    "\n",
    "# plt.scatter(x, u_reshape_x[nx,:],  label = \"Python, U @ y = 0.009375\")\n",
    "\n",
    "u_reshape_x[:,:].shape"
   ]
  },
  {
   "cell_type": "code",
   "execution_count": 212,
   "metadata": {},
   "outputs": [
    {
     "data": {
      "text/plain": [
       "array([[0.  , 0.02, 0.06, 0.1 , 0.14, 0.18, 0.22, 0.26, 0.3 , 0.34, 0.38,\n",
       "        0.42, 0.46, 0.5 , 0.54, 0.58, 0.62, 0.66, 0.7 , 0.74, 0.78, 0.82,\n",
       "        0.86, 0.9 , 0.94, 0.98, 1.02, 1.06, 1.1 , 1.14, 1.18, 1.22, 1.26,\n",
       "        1.3 , 1.34, 1.38, 1.42, 1.46, 1.5 , 1.54, 1.58, 1.62, 1.66, 1.7 ,\n",
       "        1.74, 1.78, 1.82, 1.86, 1.9 , 1.94, 1.98, 2.  ]])"
      ]
     },
     "execution_count": 212,
     "metadata": {},
     "output_type": "execute_result"
    },
    {
     "data": {
      "image/png": "[encoded data removed]",
      "text/plain": [
       "<Figure size 720x720 with 1 Axes>"
      ]
     },
     "metadata": {
      "needs_background": "light"
     },
     "output_type": "display_data"
    }
   ],
   "source": [
    "import matplotlib.pyplot as plt\n",
    "\n",
    "plt.figure(figsize=(10, 10))\n",
    "plt.scatter(x, u_reshape_x[ny,:],  label = \"Python, U @ y = 0.09\")\n",
    "plt.title(\"U along x-axis\")\n",
    "plt.legend()\n",
    "\n",
    "x"
   ]
  },
  {
   "cell_type": "code",
   "execution_count": 213,
   "metadata": {},
   "outputs": [
    {
     "data": {
      "text/plain": [
       "-0.008641277545764334"
      ]
     },
     "execution_count": 213,
     "metadata": {},
     "output_type": "execute_result"
    },
    {
     "data": {
      "image/png": "[encoded data removed]",
      "text/plain": [
       "<Figure size 720x720 with 1 Axes>"
      ]
     },
     "metadata": {
      "needs_background": "light"
     },
     "output_type": "display_data"
    }
   ],
   "source": [
    "import matplotlib.pyplot as plt\n",
    "\n",
    "plt.figure(figsize=(10, 10))\n",
    "plt.scatter(x, u_reshape_y[ny,:],  label = \"Python, U @ y = 0.09\")\n",
    "plt.title(\"U along x-axis\")\n",
    "plt.legend()\n",
    "\n",
    "u_reshape_y[ny, nx+1]"
   ]
  },
  {
   "cell_type": "markdown",
   "metadata": {},
   "source": [
    "Above graph indicates some error in Python model? Further benchmark testing is required\n"
   ]
  },
  {
   "cell_type": "code",
   "execution_count": 214,
   "metadata": {},
   "outputs": [
    {
     "name": "stdout",
     "output_type": "stream",
     "text": [
      "mkdir: cannot create directory ‘x_50_y_4’: File exists\n"
     ]
    }
   ],
   "source": [
    "!mkdir x_50_y_4\n",
    "np.save(\"x_50_y_4/u_reshape_x.npy\", u_reshape_x)\n",
    "np.save(\"x_50_y_4/u_reshape_y.npy\", u_reshape_y)\n"
   ]
  },
  {
   "cell_type": "code",
   "execution_count": 215,
   "metadata": {},
   "outputs": [
    {
     "data": {
      "text/plain": [
       "array([-0.00864082, -0.00864128, -0.00864096, -0.00864096, -0.00864128,\n",
       "       -0.00864082])"
      ]
     },
     "execution_count": 215,
     "metadata": {},
     "output_type": "execute_result"
    }
   ],
   "source": [
    "u_reshape_y[:, nx+1]"
   ]
  },
  {
   "cell_type": "code",
   "execution_count": 216,
   "metadata": {},
   "outputs": [
    {
     "data": {
      "text/plain": [
       "array([-0.00850646, -0.00850642, -0.00850638, -0.00850638, -0.00850642,\n",
       "       -0.00850646])"
      ]
     },
     "execution_count": 216,
     "metadata": {},
     "output_type": "execute_result"
    }
   ],
   "source": [
    "u_reshape_y[:, nx]"
   ]
  },
  {
   "cell_type": "code",
   "execution_count": 217,
   "metadata": {},
   "outputs": [
    {
     "data": {
      "text/plain": [
       "-0.008640816348047097"
      ]
     },
     "execution_count": 217,
     "metadata": {},
     "output_type": "execute_result"
    }
   ],
   "source": [
    "u_reshape_y[0, nx+1]"
   ]
  },
  {
   "cell_type": "code",
   "execution_count": null,
   "metadata": {},
   "outputs": [],
   "source": []
  }
 ],
 "metadata": {
  "interpreter": {
   "hash": "1b2f9133931ab063f1f037caeeb0be83973bf9a3d4f21c40e4cd03e999a0b9b9"
  },
  "kernelspec": {
   "display_name": "Python 3.6.13 64-bit ('python3': conda)",
   "language": "python",
   "name": "python3"
  },
  "language_info": {
   "codemirror_mode": {
    "name": "ipython",
    "version": 3
   },
   "file_extension": ".py",
   "mimetype": "text/x-python",
   "name": "python",
   "nbconvert_exporter": "python",
   "pygments_lexer": "ipython3",
   "version": "3.9.5"
  },
  "orig_nbformat": 4
 },
 "nbformat": 4,
 "nbformat_minor": 2
}
