{
 "cells": [
  {
   "cell_type": "code",
   "execution_count": 1,
   "metadata": {},
   "outputs": [
    {
     "name": "stdout",
     "output_type": "stream",
     "text": [
      "25\n",
      "2\n"
     ]
    }
   ],
   "source": [
    "sys.path.append(\"/home/scottlevie/newPythonSolver/pythonsolver_new/tractionBCs/Classes/\")\n",
    "\n",
    "from index_and_direction import dim\n",
    "from index_and_direction import index\n",
    "from index_and_direction import boundary_point_index\n",
    "from index_and_direction import cell_index\n",
    "from index_and_direction import displacement"
   ]
  },
  {
   "cell_type": "markdown",
   "metadata": {},
   "source": [
    "### Traction BC: Boundary Points\n"
   ]
  },
  {
   "cell_type": "markdown",
   "metadata": {},
   "source": [
    "$$ \\underbrace{  \\rho \\int_V \\frac{\\partial^2 (\\bold{u})}{\\partial t^2} \\, dV }_{Temporal\\space term} -\\underbrace{ \\oint_S \\sigma \\cdot n \\, dS }_{Diffusion\\space term} = 0$$\n",
    "\n",
    "The RHS is the negative of the forces acting on the surface - this is why the signs are changed"
   ]
  },
  {
   "cell_type": "markdown",
   "metadata": {},
   "source": [
    "From the cell-centre perspective:"
   ]
  },
  {
   "cell_type": "markdown",
   "metadata": {},
   "source": [
    "\n",
    "$$\n",
    "\\left[\n",
    "\\mu \\left( \\dfrac{\\delta v}{\\delta x} + \\dfrac{\\delta u}{\\delta y} \\right)\n",
    "\\right] _N \n",
    "|S_N|\n",
    "=\n",
    "{tr_x}_N \n",
    "|S_N|\n",
    "\n",
    "\n",
    "$$"
   ]
  },
  {
   "cell_type": "markdown",
   "metadata": {},
   "source": [
    "$$\n",
    "\n",
    "\n",
    "\\left[\n",
    "\\mu\\dfrac{\\delta v}{\\delta x} \\right] _N + \\mu\\dfrac{u_N - u_P}{ dy / 2}\n",
    "\n",
    "=\n",
    "{tr_y}_N \n",
    "\n",
    "\n",
    "$$"
   ]
  },
  {
   "cell_type": "markdown",
   "metadata": {},
   "source": [
    "Now from the boundary point perspective: $u_N \\rightarrow u_P$, $u_P \\rightarrow u_S$:"
   ]
  },
  {
   "cell_type": "markdown",
   "metadata": {},
   "source": [
    "Cell Center Perspective |   |  Boundary Point Perspective\n",
    ":-------------------------:|:-------------------------:|:-------------------------:\n",
    "<img src=\"./Paper_Images/N.jpg\" alt=\"Drawing\" style=\"width: 600px;\"/> |  $$ N \\rightarrow P \\\\ P \\rightarrow S $$ |  <img src=\"./Paper_Images/N_converted.jpg\" alt=\"Drawing\" style=\"width: 600px;\"/>"
   ]
  },
  {
   "cell_type": "markdown",
   "metadata": {},
   "source": [
    "$$\n",
    "\n",
    "\n",
    "\\left[\n",
    "\\mu\\dfrac{\\delta v}{\\delta x} \\right] _N + \\mu\\dfrac{u_P - u_S}{ dy / 2}\n",
    "\n",
    "=\n",
    "{tr_y}_N \n",
    "\n",
    "\n",
    "$$"
   ]
  },
  {
   "cell_type": "markdown",
   "metadata": {},
   "source": [
    "$$\n",
    "\n",
    "\n",
    "\\left(\\dfrac{2\\mu}{ dy} \\right) u_P\n",
    "\n",
    "- \\left( \\dfrac{2\\mu}{dy}\\right) u_S\n",
    "\n",
    "=\n",
    "\n",
    "-\n",
    "\n",
    "\\left[\n",
    "\\mu\\dfrac{\\delta v}{\\delta x} \\right] _N\n",
    "\n",
    "+\n",
    "\n",
    "{tr_y}_N \n",
    "\n",
    "$$"
   ]
  },
  {
   "cell_type": "markdown",
   "metadata": {},
   "source": [
    "$$\n",
    "\n",
    "\n",
    "\\left(\\dfrac{2\\mu}{ dy} \\right) u_P\n",
    "\n",
    "- \\left( \\dfrac{2\\mu}{dy}\\right) u_S\n",
    "\n",
    "=\n",
    "\n",
    "-\n",
    "\n",
    "\\mu\\dfrac{v_E - v_W}{ 2dx} \n",
    "\n",
    "+\n",
    "\n",
    "{tr_y}_N \n",
    "\n",
    "$$"
   ]
  },
  {
   "cell_type": "markdown",
   "metadata": {},
   "source": [
    "The differemtial term on the LHS refers to the E and W verteces (corners)"
   ]
  },
  {
   "cell_type": "code",
   "execution_count": null,
   "metadata": {},
   "outputs": [],
   "source": []
  },
  {
   "cell_type": "markdown",
   "metadata": {},
   "source": [
    "#### y - direction"
   ]
  },
  {
   "cell_type": "markdown",
   "metadata": {},
   "source": [
    "$$\n",
    "\n",
    "\n",
    "\\left[\n",
    "(2\\mu + \\lambda)\\dfrac{\\delta v}{\\delta y} + \\lambda\\dfrac{\\delta u}{\\delta x}\n",
    "\\right] _N \n",
    "|S_N|\n",
    "=\n",
    "{tr_y}_N |S_N|\n",
    "\n",
    "$$"
   ]
  },
  {
   "cell_type": "markdown",
   "metadata": {},
   "source": [
    "$$\n",
    "\n",
    "\n",
    "(2\\mu + \\lambda)\\dfrac{v_N - v_P}{ dy/2} + \n",
    "\\left[\\lambda\\dfrac{\\delta u}{\\delta x}\n",
    "\\right] _N \n",
    "\n",
    "=\n",
    "{tr_y}_N \n",
    "\n",
    "$$"
   ]
  },
  {
   "cell_type": "markdown",
   "metadata": {},
   "source": [
    "Now from the boundary point perspective: $v_N \\rightarrow v_P$, $v_P \\rightarrow v_S$:"
   ]
  },
  {
   "cell_type": "markdown",
   "metadata": {},
   "source": [
    "$$\n",
    "\n",
    "\n",
    "2(2\\mu + \\lambda)\\dfrac{v_P - v_S}{ dy}\n",
    "\n",
    "=\n",
    "\n",
    "-\n",
    "\\left[\\lambda\\dfrac{\\delta u}{\\delta x}\n",
    "\\right] _N \n",
    "+ \n",
    "{tr_y}_N \n",
    "\n",
    "$$\n",
    "\n",
    "$$\n",
    "\n",
    "\n",
    "2\\left(\\dfrac{2\\mu + \\lambda}{dy} \\right)v_P - 2\\left(\\dfrac{2\\mu + \\lambda}{dy} \\right)v_s\n",
    "\n",
    "=\n",
    "\n",
    "-\n",
    "\n",
    "(\\lambda)\\dfrac{u_E - u_W}{2 dx} \n",
    "\n",
    "+ \n",
    "{tr_y}_N \n",
    "\n",
    "$$"
   ]
  },
  {
   "cell_type": "markdown",
   "metadata": {},
   "source": [
    "For each boundary we get: "
   ]
  },
  {
   "cell_type": "markdown",
   "metadata": {},
   "source": [
    "#### South x-direction"
   ]
  },
  {
   "cell_type": "markdown",
   "metadata": {},
   "source": [
    "\n",
    "$$\n",
    "-\n",
    "\\left[\n",
    "\\mu \\left( \\dfrac{\\delta v}{\\delta x} + \\dfrac{\\delta u}{\\delta y} \\right)\n",
    "\\right] _S \n",
    "|S_S|\n",
    "=\n",
    "{tr_x}_S \n",
    "|S_S|\n",
    "\n",
    "\n",
    "$$"
   ]
  },
  {
   "cell_type": "markdown",
   "metadata": {},
   "source": [
    "$$\n",
    "\n",
    "-\n",
    "\\left[\n",
    "\\mu\\dfrac{\\delta v}{\\delta x} \\right] _S\n",
    "\n",
    "- \\mu\\dfrac{u_P - u_S}{ dy / 2}\n",
    "\n",
    "=\n",
    "{tr_x}_S\n",
    "\n",
    "\n",
    "$$"
   ]
  },
  {
   "cell_type": "markdown",
   "metadata": {},
   "source": [
    "Now from the boundary point perspective: $u_S \\rightarrow u_P$, $u_P \\rightarrow u_N$:"
   ]
  },
  {
   "cell_type": "markdown",
   "metadata": {},
   "source": []
  },
  {
   "cell_type": "markdown",
   "metadata": {},
   "source": [
    "Cell Center Perspective |   |  Boundary Point Perspective\n",
    ":-------------------------:|:-------------------------:|:-------------------------:\n",
    "<img src=\"./Paper_Images/S.jpg\" alt=\"Drawing\" style=\"width: 600px;\"/>  |  $$ S \\rightarrow P \\\\ P \\rightarrow N $$ |  <img src=\"./Paper_Images/S_converted.jpg\" alt=\"Drawing\" style=\"width: 600px;\"/>"
   ]
  },
  {
   "cell_type": "markdown",
   "metadata": {},
   "source": [
    "$$\n",
    "\n",
    "-\n",
    "\\left[\n",
    "\\mu\\dfrac{\\delta v}{\\delta x} \\right] _S\n",
    "\n",
    "- \\mu\\dfrac{u_N - u_P}{ dy / 2}\n",
    "\n",
    "=\n",
    "{tr_x}_S\n",
    "\n",
    "\n",
    "$$"
   ]
  },
  {
   "cell_type": "markdown",
   "metadata": {},
   "source": [
    "$$\n",
    "\n",
    "\n",
    "2\\left(\\dfrac{\\mu}{ dy} \\right) u_P\n",
    "\n",
    "- 2\\left( \\dfrac{\\mu}{dy}\\right) u_N\n",
    "\n",
    "=\n",
    "\n",
    "+\n",
    "\n",
    "\\left[\n",
    "\\mu\\dfrac{\\delta v}{\\delta x} \\right] _S\n",
    "\n",
    "+\n",
    "\n",
    "{tr_x}_S \n",
    "\n",
    "$$"
   ]
  },
  {
   "cell_type": "markdown",
   "metadata": {},
   "source": [
    "$$\n",
    "\n",
    "2\\left(\\dfrac{\\mu}{ dy} \\right) u_P\n",
    "\n",
    "- 2\\left( \\dfrac{\\mu}{dy}\\right) u_N\n",
    "\n",
    "=\n",
    "\n",
    "+\n",
    "\n",
    "\\mu\\dfrac{v_E - v_W}{ 2dx} \n",
    "\n",
    "+\n",
    "\n",
    "{tr_x}_S\n",
    "\n",
    "$$"
   ]
  },
  {
   "cell_type": "markdown",
   "metadata": {},
   "source": [
    "#### South y-direction"
   ]
  },
  {
   "cell_type": "markdown",
   "metadata": {},
   "source": [
    "$$\n",
    "\n",
    "-\n",
    "\\left[\n",
    "(2\\mu + \\lambda)\\dfrac{\\delta v}{\\delta y} + \\lambda\\dfrac{\\delta u}{\\delta x}\n",
    "\\right] _S \n",
    "|S_S|\n",
    "=\n",
    "{tr_y}_S |S_S|\n",
    "\n",
    "$$"
   ]
  },
  {
   "cell_type": "markdown",
   "metadata": {},
   "source": [
    "$$\n",
    "\n",
    "-\n",
    "(2\\mu + \\lambda)\\dfrac{v_P - v_S}{ dy/2} -\n",
    "\\left[\\lambda\\dfrac{\\delta u}{\\delta x}\n",
    "\\right] _S \n",
    "\n",
    "=\n",
    "{tr_y}_S \n",
    "\n",
    "$$"
   ]
  },
  {
   "cell_type": "markdown",
   "metadata": {},
   "source": [
    "Now from the boundary point perspective: $v_S \\rightarrow v_P$, $v_P \\rightarrow v_N$:"
   ]
  },
  {
   "cell_type": "markdown",
   "metadata": {},
   "source": [
    "$$\n",
    "\n",
    "\n",
    "-2(2\\mu + \\lambda)\\dfrac{v_S - v_P}{ dy}\n",
    "\n",
    "=\n",
    "\n",
    "+\n",
    "\\left[\\lambda\\dfrac{\\delta u}{\\delta x}\n",
    "\\right] _S \n",
    "+ \n",
    "{tr_y}_S \n",
    "\n",
    "$$\n",
    "\n",
    "$$\n",
    "\n",
    "\n",
    "2\\left(\\dfrac{2\\mu + \\lambda}{dy} \\right)v_P - 2\\left(\\dfrac{2\\mu + \\lambda}{dy} \\right)v_s\n",
    "\n",
    "=\n",
    "\n",
    "+\n",
    "\n",
    "(\\lambda)\\dfrac{u_E - u_W}{ 2dx} \n",
    "\n",
    "+ \n",
    "{tr_y}_S \n",
    "\n",
    "$$"
   ]
  },
  {
   "cell_type": "markdown",
   "metadata": {},
   "source": [
    "#### East: x-direction\n"
   ]
  },
  {
   "cell_type": "markdown",
   "metadata": {},
   "source": [
    "$$\n",
    "\n",
    "\\left[\n",
    "(2\\mu + \\lambda)\\dfrac{\\delta u}{\\delta x} + \\lambda\\dfrac{\\delta v}{\\delta y}\n",
    "\\right] _W |S_E|\n",
    "= \n",
    "{tr_x}_E |S_E|\n",
    "$$\n",
    "\n"
   ]
  },
  {
   "cell_type": "markdown",
   "metadata": {},
   "source": [
    "$$\n",
    "\n",
    "\n",
    "(2\\mu + \\lambda)\\dfrac{u_E - u_P}{dx/2} + \\left[ \\lambda\\dfrac{\\delta v}{\\delta y}\n",
    "\\right] _E \n",
    "= \n",
    "{tr_x}_E\n",
    "$$\n"
   ]
  },
  {
   "cell_type": "markdown",
   "metadata": {},
   "source": [
    "Now from the boundary point perspective: $u_E \\rightarrow u_P$, $u_P \\rightarrow u_W$:\n",
    "\n"
   ]
  },
  {
   "cell_type": "markdown",
   "metadata": {},
   "source": [
    "Cell Center Perspective |   |  Boundary Point Perspective\n",
    ":-------------------------:|:-------------------------:|:-------------------------:\n",
    "<img src=\"./Paper_Images/E.jpg\" alt=\"Drawing\" style=\"width: 300px;\"/>  |  $$ E \\rightarrow P \\\\ P \\rightarrow W $$ |  <img src=\"./Paper_Images/E_converted.jpg\" alt=\"Drawing\" style=\"width: 300px;\"/>\n",
    "\n",
    "\n",
    "\n"
   ]
  },
  {
   "cell_type": "markdown",
   "metadata": {},
   "source": [
    "$$\n",
    "\n",
    "2(2\\mu + \\lambda)\\dfrac{u_P - u_W}{dx} \n",
    "= \n",
    "\n",
    "- \\left[ \\lambda\\dfrac{\\delta v}{\\delta y}\n",
    "\\right] _E \n",
    "+\n",
    "{tr_x}_E\n",
    "$$"
   ]
  },
  {
   "cell_type": "markdown",
   "metadata": {},
   "source": [
    "$$\n",
    "\n",
    "2\\left(\\frac{2\\mu + \\lambda}{dx}\\right)u_P - 2\\left(\\frac{2\\mu + \\lambda}{dx}\\right)u_W\n",
    "= \n",
    "\n",
    "-  (\\lambda)\\dfrac{v_N - v_S}{2dy}\n",
    "\n",
    "+\n",
    "{tr_x}_E\n",
    "$$"
   ]
  },
  {
   "cell_type": "markdown",
   "metadata": {},
   "source": [
    "#### East: y-direction\n"
   ]
  },
  {
   "cell_type": "markdown",
   "metadata": {},
   "source": [
    "$$ \n",
    "\n",
    "\\left[\n",
    "\\mu \\left( \\dfrac{\\delta v}{\\delta x} + \\dfrac{\\delta u}{\\delta y} \\right)\n",
    "\\right] _E|S_E|\n",
    "=\n",
    "{tr_y}_E|S_E|\n",
    "$$"
   ]
  },
  {
   "cell_type": "markdown",
   "metadata": {},
   "source": [
    "$$\n",
    "\\mu\\frac{v_E - v_P}{dx/2} + \\left[\\mu \\frac{\\delta u}{\\delta y}\\right]_E = {tr_y}_E\n",
    "$$"
   ]
  },
  {
   "cell_type": "markdown",
   "metadata": {},
   "source": [
    "Now from the boundary point perspective: $v_E \\rightarrow v_P$, $v_P \\rightarrow v_W$:"
   ]
  },
  {
   "cell_type": "markdown",
   "metadata": {},
   "source": [
    "$$\n",
    "2\\mu\\frac{v_P - v_W}{dx}x =  - \\left[\\mu \\frac{\\delta u}{\\delta y}\\right]_E + {tr_y}_E\n",
    "\n",
    "$$"
   ]
  },
  {
   "cell_type": "markdown",
   "metadata": {},
   "source": [
    "$$\n",
    "\n",
    "2\\left( \\frac{\\mu}{dx} \\right) v_P - 2\\left( \\frac{\\mu}{dx} \\right) v_W = - (\\mu) \\dfrac{u_N - u_S}{2dy} +  {tr_y}_E\n",
    "\n",
    "$$"
   ]
  },
  {
   "cell_type": "markdown",
   "metadata": {},
   "source": [
    "#### West: x-direction\n"
   ]
  },
  {
   "cell_type": "markdown",
   "metadata": {},
   "source": [
    "$$\n",
    "-\n",
    "\\left[\n",
    "(2\\mu + \\lambda)\\dfrac{\\delta u}{\\delta x} + \\lambda\\dfrac{\\delta v}{\\delta y}\n",
    "\\right] _W |S_W|\n",
    "= \n",
    "{tr_x}_W |S_W|\n",
    "$$\n",
    "\n"
   ]
  },
  {
   "cell_type": "markdown",
   "metadata": {},
   "source": [
    "$$\n",
    "\n",
    "-\n",
    "(2\\mu + \\lambda)\\dfrac{u_P - u_W}{dx/2} \n",
    "\n",
    "-\n",
    " \\left[ \\lambda\\dfrac{\\delta v}{\\delta y}\n",
    "\\right] _W \n",
    "= \n",
    "\n",
    "{tr_x}_W\n",
    "$$\n"
   ]
  },
  {
   "cell_type": "markdown",
   "metadata": {},
   "source": [
    "Now from the boundary point perspective: $u_W \\rightarrow u_P$, $u_P \\rightarrow u_E$:"
   ]
  },
  {
   "cell_type": "markdown",
   "metadata": {},
   "source": [
    "Cell Center Perspective |   |  Boundary Point Perspective\n",
    ":-------------------------:|:-------------------------:|:-------------------------:\n",
    "<img src=\"./Paper_Images/W.jpg\" alt=\"Drawing\" style=\"width: 300px;\"/> |  $$ W \\rightarrow P \\\\ P \\rightarrow E $$ |  <img src=\"./Paper_Images/W_converted.jpg\" alt=\"Drawing\" style=\"width: 300px;\"/>"
   ]
  },
  {
   "cell_type": "markdown",
   "metadata": {},
   "source": [
    "$$\n",
    "-\n",
    "2(2\\mu + \\lambda)\\dfrac{u_E - u_P}{dx} \n",
    "= \n",
    "\n",
    " \\left[ \\lambda\\dfrac{\\delta v}{\\delta y}\n",
    "\\right] _W \n",
    "+\n",
    "{tr_x}_W\n",
    "$$"
   ]
  },
  {
   "cell_type": "markdown",
   "metadata": {},
   "source": [
    "$$\n",
    "\n",
    "2\\left(\\frac{2\\mu + \\lambda}{dx}\\right)u_P - 2\\left(\\frac{2\\mu + \\lambda}{dx}\\right)u_E\n",
    "= \n",
    "\n",
    "(\\lambda)\\dfrac{v_N - v_S}{2dy}\n",
    "\n",
    "+\n",
    "{tr_x}_W\n",
    "$$"
   ]
  },
  {
   "cell_type": "markdown",
   "metadata": {},
   "source": [
    "#### West: y-direction\n"
   ]
  },
  {
   "cell_type": "markdown",
   "metadata": {},
   "source": [
    "$$ \n",
    "-\n",
    "\\left[\n",
    "\\mu \\left( \\dfrac{\\delta v}{\\delta x} + \\dfrac{\\delta u}{\\delta y} \\right)\n",
    "\\right] _W|S_W|\n",
    "=\n",
    "{tr_y}_W|S_W|\n",
    "$$"
   ]
  },
  {
   "cell_type": "markdown",
   "metadata": {},
   "source": [
    "$$\n",
    "-\n",
    "\\mu\\frac{v_P - v_W}{dx/2} \n",
    "-\n",
    " \\left[\\mu \\frac{\\delta u}{\\delta y}\\right]_W = {tr_y}_W\n",
    "$$"
   ]
  },
  {
   "cell_type": "markdown",
   "metadata": {},
   "source": [
    "Now from the boundary point perspective: $v_W \\rightarrow v_P$, $v_P \\rightarrow v_E$:"
   ]
  },
  {
   "cell_type": "markdown",
   "metadata": {},
   "source": [
    "$$\n",
    "- 2\\mu\\frac{v_E - v_P}{dx} =  \\left[\\mu \\frac{\\delta u}{\\delta y}\\right]_W + {tr_y}_W\n",
    "\n",
    "$$"
   ]
  },
  {
   "cell_type": "markdown",
   "metadata": {},
   "source": [
    "$$\n",
    "\n",
    "2\\left( \\frac{\\mu}{dx} \\right) v_P - 2\\left( \\frac{\\mu}{dx} \\right) v_E = (\\mu) \\dfrac{u_N - u_S}{2dy} +  {tr_y}_W\n",
    "\n",
    "$$"
   ]
  },
  {
   "cell_type": "markdown",
   "metadata": {},
   "source": [
    "<table border=\"0\">\n",
    " <tr>\n",
    "    <td>Face</b></td>\n",
    "    <td>x-direction</b></td>\n",
    "    <td>y-direction</b></td>\n",
    " </tr>\n",
    " <tr>\n",
    "<td>\n",
    "\n",
    "North N\n",
    "\n",
    "\n",
    "\n",
    "South S\n",
    "\n",
    "\n",
    "\n",
    "East E\n",
    "\n",
    "West W\n",
    "<td>\n",
    "\n",
    "$$\n",
    "2\\left(\\dfrac{\\mu}{ dy} \\right) u_P\n",
    "- 2\\left( \\dfrac{\\mu}{dy}\\right) u_S\n",
    "=\n",
    "-\n",
    "(\\mu)\\dfrac{v_E - v_W}{ dx} \n",
    "+\n",
    "{tr_y}_N \n",
    "$$\n",
    "\n",
    "$$\n",
    "2\\left(\\dfrac{\\mu}{ dy} \\right) u_P\n",
    "- 2\\left( \\dfrac{\\mu}{dy}\\right) u_N\n",
    "=\n",
    "+\n",
    "(\\mu)\\dfrac{v_E - v_W}{ dx} \n",
    "+\n",
    "{tr_x}_S\n",
    "$$\n",
    "\n",
    "$$\n",
    "2\\left(\\frac{2\\mu + \\lambda}{dx}\\right)u_P - 2\\left(\\frac{2\\mu + \\lambda}{dx}\\right)u_W\n",
    "= \n",
    "-  (\\lambda)\\dfrac{v_N - v_S}{dy}\n",
    "+\n",
    "{tr_x}_E\n",
    "$$\n",
    "\n",
    "$$\n",
    "2\\left(\\frac{2\\mu + \\lambda}{dx}\\right)u_P - 2\\left(\\frac{2\\mu + \\lambda}{dx}\\right)u_E\n",
    "= \n",
    "(\\lambda)\\dfrac{v_N - v_S}{dy}\n",
    "+\n",
    "{tr_x}_W\n",
    "$$\n",
    "</td>\n",
    "<td>\n",
    "\n",
    "$$\n",
    "2\\left(\\dfrac{2\\mu + \\lambda}{dy} \\right)v_P - 2\\left(\\dfrac{2\\mu + \\lambda}{dy} \\right)v_s\n",
    "=\n",
    "-\n",
    "(\\lambda)\\dfrac{u_E - u_W}{ dx} \n",
    "+ \n",
    "{tr_y}_N \n",
    "$$\n",
    "\n",
    "$$\n",
    "2\\left(\\dfrac{2\\mu + \\lambda}{dy} \\right)v_P - 2\\left(\\dfrac{2\\mu + \\lambda}{dy} \\right)v_s\n",
    "=\n",
    "+\n",
    "(\\lambda)\\dfrac{u_E - u_W}{ dx} \n",
    "+ \n",
    "{tr_y}_S \n",
    "$$\n",
    "\n",
    "$$\n",
    "2\\left( \\frac{\\mu}{dx} \\right) v_P - 2\\left( \\frac{\\mu}{dx} \\right) v_W = - (\\mu) \\dfrac{u_N - u_S}{dy} +  {tr_y}_E\n",
    "$$\n",
    "\n",
    "$$\n",
    "2\\left( \\frac{\\mu}{dx} \\right) v_P - 2\\left( \\frac{\\mu}{dx} \\right) v_E = (\\mu) \\dfrac{u_N - u_S}{dy} +  {tr_y}_W\n",
    "$$\n",
    "\n",
    "</td>\n",
    " </tr>\n",
    "</table>"
   ]
  },
  {
   "cell_type": "markdown",
   "metadata": {},
   "source": [
    "| Face | x-direction | y-direction |\n",
    ":---------:|:---------:|:-----------:\n",
    "| North $N$  $\\\\$ (Top) |$$ 2\\left(\\dfrac{\\mu}{ dy} \\right) u_P- 2\\left( \\dfrac{\\mu}{dy}\\right) u_S=-(\\mu)\\dfrac{v_E - v_W}{ dx} + {tr_y}_N $$ |$$2\\left(\\dfrac{2\\mu + \\lambda}{dy} \\right)v_P - 2\\left(\\dfrac{2\\mu + \\lambda}{dy} \\right)v_S=-(\\lambda)\\dfrac{u_E - u_W}{ dx} + {tr_y}_N $$|\n",
    "| South $S$ $\\\\$ (Bottom) |$$2\\left(\\dfrac{\\mu}{ dy} \\right) u_P- 2\\left( \\dfrac{\\mu}{dy}\\right) u_N=+(\\mu)\\dfrac{v_E - v_W}{ dx} +{tr_x}_S$$ | $$2\\left(\\dfrac{2\\mu + \\lambda}{dy} \\right)v_P - 2\\left(\\dfrac{2\\mu + \\lambda}{dy} \\right)v_N=+(\\lambda)\\dfrac{u_E - u_W}{ dx} + {tr_y}_S $$ |\n",
    "| East $E$ $\\\\$ (Right) |$$2\\left(\\frac{2\\mu + \\lambda}{dx}\\right)u_P - 2\\left(\\frac{2\\mu + \\lambda}{dx}\\right)u_W= -  (\\lambda)\\dfrac{v_N - v_S}{dy}+{tr_x}_E$$ | $$2\\left( \\frac{\\mu}{dx} \\right) v_P - 2\\left( \\frac{\\mu}{dx} \\right) v_W = - (\\mu) \\dfrac{u_N - u_S}{dy} +  {tr_y}_E$$ |\n",
    "| West $W$ $\\\\$ (Left) |$$2\\left(\\frac{2\\mu + \\lambda}{dx}\\right)u_P - 2\\left(\\frac{2\\mu + \\lambda}{dx}\\right)u_E= (\\lambda)\\dfrac{v_N - v_S}{dy}+{tr_x}_W$$ | $$2\\left( \\frac{\\mu}{dx} \\right) v_P - 2\\left( \\frac{\\mu}{dx} \\right) v_E = (\\mu) \\dfrac{u_N - u_S}{dy} +  {tr_y}_W$$ |\n"
   ]
  },
  {
   "cell_type": "markdown",
   "metadata": {},
   "source": [
    "For the points adjacent to the corner point, how displacement at the adjacent vertex changes:\n",
    "\n",
    "Two letters will be used to label these points. The first letter will state which face it point is on. The second is state which face other the the on it is on it is closest to.\n",
    "\n",
    "The four face are: bottom (b) , top (t), left (l) and right (r)"
   ]
  },
  {
   "cell_type": "markdown",
   "metadata": {},
   "source": [
    "<img src=\"./Paper_Images/Specific_Points.jpg\" alt=\"Drawing\"/>"
   ]
  },
  {
   "cell_type": "markdown",
   "metadata": {},
   "source": [
    "From this we can create a corner function which describes how the displacements of the corners on the boundary are calculated. \n",
    "\n",
    "To do this an array called \"edges\" will be assigned to each point on the boundary. This array will contain either one of 2 letters. If it contains two letters this means it is one of the highlighted points in the figure above. If not it is a point on the boundary that is not adjacent to a corner.  "
   ]
  },
  {
   "cell_type": "code",
   "execution_count": 2,
   "metadata": {},
   "outputs": [],
   "source": [
    "# edges is an array containing 1 or 2 letters\n",
    "# corner_placement is a letter indicating the position of the corner with respect to P\n",
    "# uv determines the direction of the displacement vector (0 = u, 1 = v)\n",
    "\n",
    "def corner(edges, corner_placement, uv, u_previous, k):\n",
    "\n",
    "    if uv == \"u\":\n",
    "        uv_i = 0\n",
    "    elif uv == \"v\":\n",
    "        uv_i = 1\n",
    "\n",
    "    disp = displacement(k, u_previous, uv_i)\n",
    "\n",
    "\n",
    "    if corner_placement == \"E\":\n",
    "        corner =  (1/2)*(disp.E + disp.P)\n",
    "    if corner_placement == \"W\":\n",
    "        corner =  (1/2)*(disp.W + disp.P)\n",
    "    if  corner_placement == \"N\":\n",
    "        corner =  (1/2)*(disp.N + disp.P)\n",
    "    if  corner_placement == \"S\":\n",
    "        corner =  (1/2)*(disp.S + disp.P)\n",
    "\n",
    "    # For points adjacent to corner\n",
    "    if len(edges) > 1:\n",
    "\n",
    "        # This assigns the displacement in the corner as the corner value\n",
    "        if (edges[1] == \"r\") & (corner_placement == \"E\"):\n",
    "                corner =  disp.E\n",
    "        if (edges[1] == \"l\") & (corner_placement == \"W\"):\n",
    "                corner =  disp.W\n",
    "        if (edges[1] == \"t\") & (corner_placement == \"N\"):\n",
    "                corner =  disp.N\n",
    "        if (edges[1] == \"b\") & (corner_placement == \"S\"):\n",
    "                corner =  disp.S\n",
    "    \n",
    "    return corner\n",
    "\n",
    "    "
   ]
  },
  {
   "cell_type": "markdown",
   "metadata": {},
   "source": [
    "### Labelling Coefficients"
   ]
  },
  {
   "cell_type": "markdown",
   "metadata": {},
   "source": [
    "$$\n",
    "\n",
    "\n",
    "\\begin{bmatrix}\n",
    "(2\\mu + \\lambda)\\dfrac{\\delta u}{\\delta x} + \\lambda\\dfrac{\\delta v}{\\delta y}\n",
    "& \n",
    "\\mu \\left( \\dfrac{\\delta v}{\\delta x} + \\dfrac{\\delta u}{\\delta y} \\right)\n",
    "\\\\\n",
    "\\mu \\left( \\dfrac{\\delta v}{\\delta x} + \\dfrac{\\delta u}{\\delta y} \\right)\n",
    "&\n",
    "(2\\mu + \\lambda)\\dfrac{\\delta v}{\\delta y}\n",
    "+ \n",
    "\\lambda\\dfrac{\\delta u}{\\delta x}\n",
    "\\end{bmatrix}\n",
    "\n",
    "= \n",
    "\n",
    "\\begin{bmatrix}\n",
    "(K_{E, W, u, x})\\dfrac{\\delta u}{\\delta x} + (K_{E, W, v, x})\\dfrac{\\delta v}{\\delta y}\n",
    "& \n",
    "(K_{N, S, v, x}) \\dfrac{\\delta v}{\\delta x} + (K_{N, S, u, x}) \\dfrac{\\delta u}{\\delta y}\n",
    "\\\\\n",
    "(K_{E, W, v, y})\\dfrac{\\delta v}{\\delta x} + (K_{E, W, u, y})\\dfrac{\\delta u}{\\delta y}\n",
    "&\n",
    "(K_{N, S, v, y})\\dfrac{\\delta v}{\\delta y}\n",
    "+ \n",
    "(K_{N, S, v, y})\\dfrac{\\delta u}{\\delta x}\n",
    "\\end{bmatrix}\n",
    "\n",
    "\n",
    "\n",
    "$$"
   ]
  },
  {
   "cell_type": "markdown",
   "metadata": {},
   "source": [
    "|  |E/W | E/W | N/S | N/S |\n",
    "--|:---------:|:-----------:|:---------:|:-----------:|\n",
    "|  | **u** | **v** | **u**  | **v** |\n",
    "|**x**| $K_{E, W, u, x}$    |   $K_{E, W, v, x}$  |   $K_{N, S, u, x}$    |    $K_{N, S, v, x}$\n",
    "|**y**| $K_{E, W, u, y}$    |   $K_{E, W, v, y}$  |   $K_{N, S, u, y}$    |    $K_{N, S, v, y}$"
   ]
  },
  {
   "cell_type": "markdown",
   "metadata": {},
   "source": [
    "\n",
    "|  |E/W | E/W | N/S | N/S |\n",
    "--|:---------:|:-----------:|:---------:|:-----------:|\n",
    "|  | **u** | **v** | **u**  | **v** |\n",
    "|**x**| $2\\mu + \\lambda $    |   $\\lambda$  |   $\\mu$    |    $\\mu$ |\n",
    "|**y**| $\\mu$    |   $\\mu$  |  $\\lambda$    |  $2\\mu + \\lambda$  |"
   ]
  },
  {
   "cell_type": "markdown",
   "metadata": {},
   "source": [
    "N/S and E/W have the same modulus value coefficients, however, N and E are positive and S and W are negative"
   ]
  },
  {
   "cell_type": "code",
   "execution_count": 4,
   "metadata": {},
   "outputs": [],
   "source": [
    "mu = 2\n",
    "Lambda = 3"
   ]
  },
  {
   "cell_type": "markdown",
   "metadata": {},
   "source": [
    "Creating a coeficient function:"
   ]
  },
  {
   "cell_type": "code",
   "execution_count": 5,
   "metadata": {},
   "outputs": [],
   "source": [
    "import numpy as np\n",
    "\n",
    "def coef(xy, face, uv):\n",
    "# could have and statements\n",
    "\n",
    "    coef = np.zeros((2,2,2))\n",
    "    # i = E/W, N/S\n",
    "    # j = u, v\n",
    "    # k = x, y \n",
    "\n",
    "    coef[0,0,0] =  2*mu + Lambda      # E/W, u, x\n",
    "    coef[0,0,1] =  mu                 # E/W, u, y\n",
    "    coef[0,1,0] =  Lambda             # E/W, v, x            \n",
    "    coef[0,1,1] =  mu                 # E/W, v, y\n",
    "    coef[1,0,0] =  mu                 # N/S, u, x\n",
    "    coef[1,0,1] =  Lambda             # N/S, u, y\n",
    "    coef[1,1,0] =  mu                 # N/S, v, x            \n",
    "    coef[1,1,1] =  2*mu + Lambda      # N/S, v, y\n",
    "\n",
    "    if (face == \"E\") | ((face == \"W\")):\n",
    "        i = 0\n",
    "    elif (face == \"N\") | ((face == \"S\")):\n",
    "        i = 1\n",
    "    if uv == \"u\":\n",
    "        j = 0\n",
    "    elif uv == \"v\":\n",
    "        j = 1\n",
    "    if xy == \"x\":\n",
    "        k = 0\n",
    "    elif xy == \"y\":\n",
    "        k = 1\n",
    "\n",
    "    if (face == \"E\") | ((face == \"N\")):\n",
    "        return + coef[i,j,k]\n",
    "    if (face == \"W\") | ((face == \"S\")):\n",
    "        return - coef[i,j,k]"
   ]
  },
  {
   "cell_type": "code",
   "execution_count": 6,
   "metadata": {},
   "outputs": [
    {
     "name": "stdout",
     "output_type": "stream",
     "text": [
      "Nxu\n",
      "2.0\n",
      "Nxv\n",
      "2.0\n",
      "Nyu\n",
      "3.0\n",
      "Nyv\n",
      "7.0\n",
      "Sxu\n",
      "-2.0\n",
      "Sxv\n",
      "-2.0\n",
      "Syu\n",
      "-3.0\n",
      "Syv\n",
      "-7.0\n",
      "Exu\n",
      "7.0\n",
      "Exv\n",
      "3.0\n",
      "Eyu\n",
      "2.0\n",
      "Eyv\n",
      "2.0\n",
      "Wxu\n",
      "-7.0\n",
      "Wxv\n",
      "-3.0\n",
      "Wyu\n",
      "-2.0\n",
      "Wyv\n",
      "-2.0\n"
     ]
    }
   ],
   "source": [
    "for face in [\"N\", \"S\", \"E\", \"W\"]:\n",
    "    for xy in [\"x\", \"y\"]:\n",
    "        for uv in [\"u\", \"v\"]:\n",
    "            print(face + xy + uv)\n",
    "            print(coef(xy, face, uv))"
   ]
  },
  {
   "cell_type": "code",
   "execution_count": null,
   "metadata": {},
   "outputs": [],
   "source": []
  }
 ],
 "metadata": {
  "interpreter": {
   "hash": "18ed160ad9db49083d5c6dbf82376d1730af41ed005a12d6dc5900d1b4ae07ba"
  },
  "kernelspec": {
   "display_name": "Python 3.9.5 64-bit ('base': conda)",
   "language": "python",
   "name": "python3"
  },
  "language_info": {
   "codemirror_mode": {
    "name": "ipython",
    "version": 3
   },
   "file_extension": ".py",
   "mimetype": "text/x-python",
   "name": "python",
   "nbconvert_exporter": "python",
   "pygments_lexer": "ipython3",
   "version": "3.9.5"
  },
  "orig_nbformat": 4
 },
 "nbformat": 4,
 "nbformat_minor": 2
}
