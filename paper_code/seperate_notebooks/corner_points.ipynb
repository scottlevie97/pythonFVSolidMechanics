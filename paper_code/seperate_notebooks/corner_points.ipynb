{
 "cells": [
  {
   "cell_type": "markdown",
   "metadata": {},
   "source": [
    "#### Points at the corner\n"
   ]
  },
  {
   "cell_type": "markdown",
   "metadata": {},
   "source": [
    "Following the same method used for approximating displacement, e can say that the displacement at point **SW** is equal to the average of the four surrounding vertices (blue).\n"
   ]
  },
  {
   "cell_type": "markdown",
   "metadata": {},
   "source": [
    "<img src=\"./Paper_Images/corner_points.png\" alt=\"Drawing\" style=\"width: 400px;\"/>\n"
   ]
  },
  {
   "cell_type": "markdown",
   "metadata": {},
   "source": [
    "This gives:\n",
    "\n",
    "$$\n",
    "\n",
    "SW  = \\frac{1}{4}\\left(P + \\frac{1}{2}(S + S,S) + \\frac{1}{2}(W+ W,W)  + \\frac{1}{4}(SW + W, SW + S, SW + SW, SW)\\right)\n",
    "\n",
    "\n",
    "$$\n"
   ]
  },
  {
   "cell_type": "markdown",
   "metadata": {},
   "source": [
    "Bottom Left:\n",
    "\n",
    "$$\n",
    "\n",
    "4P -15NE + 2N + 2N,N + 2E + 2E,E  + E,NE + N,NE + NE, NE = 0\n",
    "\n",
    "\n",
    "$$\n"
   ]
  },
  {
   "cell_type": "markdown",
   "metadata": {},
   "source": [
    "$$\n",
    "\n",
    "16 (SW)  = 4P + 2(S + S,S) + 2(W+ W,W)  + 1(SW + W, SW + S, SW + SW, SW)\n",
    "\n",
    "\n",
    "$$\n"
   ]
  },
  {
   "cell_type": "markdown",
   "metadata": {},
   "source": [
    "$$\n",
    "\n",
    "4P -15SW + 2S + 2S,S + 2W + 2W,W  + W,SW + S,SW + SW, SW = 0\n",
    "\n",
    "\n",
    "$$\n"
   ]
  },
  {
   "cell_type": "markdown",
   "metadata": {},
   "source": [
    "Repeating for each corner gives:\n"
   ]
  },
  {
   "cell_type": "markdown",
   "metadata": {},
   "source": [
    "Top Left:\n",
    "\n",
    "$$\n",
    "\n",
    "4P -15SE + 2S + 2S,S + 2E + 2E,E  + E,SE + S,SE + SE, SE = 0\n",
    "\n",
    "\n",
    "$$\n"
   ]
  },
  {
   "cell_type": "markdown",
   "metadata": {},
   "source": [
    "Bottom Left:\n",
    "\n",
    "$$\n",
    "\n",
    "4P -15NE + 2N + 2N,N + 2E + 2E,E  + E,NE + N,NE + NE, NE = 0\n",
    "\n",
    "\n",
    "$$\n"
   ]
  },
  {
   "cell_type": "markdown",
   "metadata": {},
   "source": [
    "Bottom right:\n",
    "\n",
    "$$\n",
    "\n",
    "4P -15NW + 2N + 2N,N + 2W + 2W,W  + W,NW + N,NW + NW, NW = 0\n",
    "\n",
    "\n",
    "$$\n"
   ]
  },
  {
   "cell_type": "markdown",
   "metadata": {},
   "source": [
    "Coding the top left corner expressions:\n"
   ]
  },
  {
   "cell_type": "code",
   "execution_count": 1,
   "metadata": {},
   "outputs": [
    {
     "ename": "NameError",
     "evalue": "name 'fac' is not defined",
     "output_type": "error",
     "traceback": [
      "\u001b[0;31m---------------------------------------------------------------------------\u001b[0m",
      "\u001b[0;31mNameError\u001b[0m                                 Traceback (most recent call last)",
      "\u001b[0;32m/tmp/ipykernel_26707/3507338717.py\u001b[0m in \u001b[0;36m<module>\u001b[0;34m\u001b[0m\n\u001b[0;32m----> 1\u001b[0;31m \u001b[0mA_matrix\u001b[0m\u001b[0;34m[\u001b[0m\u001b[0mk\u001b[0m\u001b[0;34m,\u001b[0m \u001b[0mk\u001b[0m\u001b[0;34m]\u001b[0m \u001b[0;34m=\u001b[0m \u001b[0;36m4\u001b[0m \u001b[0;34m*\u001b[0m \u001b[0mfac\u001b[0m\u001b[0;34m\u001b[0m\u001b[0;34m\u001b[0m\u001b[0m\n\u001b[0m\u001b[1;32m      2\u001b[0m \u001b[0;34m\u001b[0m\u001b[0m\n\u001b[1;32m      3\u001b[0m \u001b[0mA_matrix\u001b[0m\u001b[0;34m[\u001b[0m\u001b[0mk\u001b[0m\u001b[0;34m,\u001b[0m \u001b[0mindex\u001b[0m\u001b[0;34m(\u001b[0m\u001b[0mk\u001b[0m\u001b[0;34m)\u001b[0m\u001b[0;34m.\u001b[0m\u001b[0ms\u001b[0m\u001b[0;34m]\u001b[0m \u001b[0;34m=\u001b[0m \u001b[0;36m2\u001b[0m \u001b[0;34m*\u001b[0m \u001b[0mfac\u001b[0m\u001b[0;34m\u001b[0m\u001b[0;34m\u001b[0m\u001b[0m\n\u001b[1;32m      4\u001b[0m \u001b[0mA_matrix\u001b[0m\u001b[0;34m[\u001b[0m\u001b[0mk\u001b[0m\u001b[0;34m,\u001b[0m \u001b[0mindex\u001b[0m\u001b[0;34m(\u001b[0m\u001b[0mk\u001b[0m\u001b[0;34m)\u001b[0m\u001b[0;34m.\u001b[0m\u001b[0mw\u001b[0m\u001b[0;34m]\u001b[0m \u001b[0;34m=\u001b[0m \u001b[0;36m2\u001b[0m \u001b[0;34m*\u001b[0m \u001b[0mfac\u001b[0m\u001b[0;34m\u001b[0m\u001b[0;34m\u001b[0m\u001b[0m\n\u001b[1;32m      5\u001b[0m \u001b[0;34m\u001b[0m\u001b[0m\n",
      "\u001b[0;31mNameError\u001b[0m: name 'fac' is not defined"
     ]
    }
   ],
   "source": [
    "A_matrix[k, k] = 4\n",
    "\n",
    "A_matrix[k, index(k).s] = 2\n",
    "A_matrix[k, index(k).w] = 2\n",
    "\n",
    "A_matrix[k, index(k).sw] = -15\n",
    "\n",
    "A_matrix[k, index(k).dir([\"s\", \"s\"])] = 2\n",
    "A_matrix[k, index(k).dir([\"w\", \"w\"])] = 2\n",
    "\n",
    "A_matrix[k, index(k).dir([\"s\", \"sw\"])] = 1\n",
    "A_matrix[k, index(k).dir([\"sw\", \"sw\"])] = 1\n",
    "A_matrix[k, index(k).dir([\"w\", \"sw\"])] = 1\n",
    "\n",
    "b_matrix[k] = 0"
   ]
  },
  {
   "cell_type": "markdown",
   "metadata": {},
   "source": [
    "Should this approximation be for every corner point? \n",
    "\n",
    "There's no correct answer to this question. However it may help convergence to avoid using this when possible. \n",
    "\n",
    "Since this is an approximation of displacement, it would make sense to use the fixed displacement value if the corner point is on a boundary with fixed displacement. \n",
    "\n",
    "However, what if it is at a corner with 2 different fixed displacement values? Then we should use the approximation as there can't be two different displacements at one point. \n",
    "\n",
    "So, there's three different scenarios that can happen:\n",
    "\n",
    "- Fixed Displacement & Fixed Traction  $\\rightarrow$ Use Fixed Displacement\n",
    "- Fixed Displacement & Fixed Displacement  $\\rightarrow$ Use Approximation\n",
    "- Fixed Traction & Fixed Traction     $\\rightarrow$ Use Approximation"
   ]
  },
  {
   "cell_type": "code",
   "execution_count": null,
   "metadata": {},
   "outputs": [],
   "source": [
    "edges = [\"t\", \"r\"]\n",
    "\n",
    "if BC_settings(edges[0]).fixed_displacement & BC_settings(edges[1]).traction:\n",
    "    A_matrix, b_matrix = displacement_point_BCs(A_matrix, b_matrix, k, edges[0], xy)\n",
    "\n",
    "elif BC_settings(edges[0]).traction & BC_settings(edges[1]).fixed_displacement:\n",
    "    A_matrix, b_matrix = displacement_point_BCs(A_matrix, b_matrix, k, edges[1], xy)\n",
    "\n",
    "else: \n",
    "\n",
    "    A_matrix[k,k] = 4\n",
    "\n",
    "    A_matrix[k,index(k).s] = 2 \n",
    "    A_matrix[k,index(k).w] = 2\n",
    "\n",
    "    A_matrix[k,index(k).sw] = -15\n",
    "\n",
    "    A_matrix[k,index(k).dir([\"s\", \"s\"])] = 2 \n",
    "    A_matrix[k,index(k).dir([\"w\", \"w\"])] = 2\n",
    "\n",
    "    A_matrix[k,index(k).dir([\"s\", \"sw\"])] = 1\n",
    "    A_matrix[k,index(k).dir([\"sw\", \"sw\"])] = 1\n",
    "    A_matrix[k,index(k).dir([\"w\", \"sw\"])] = 1\n",
    "\n",
    "    b_matrix[k] = 0  "
   ]
  }
 ],
 "metadata": {
  "interpreter": {
   "hash": "18ed160ad9db49083d5c6dbf82376d1730af41ed005a12d6dc5900d1b4ae07ba"
  },
  "kernelspec": {
   "display_name": "Python 3.9.5 ('base')",
   "language": "python",
   "name": "python3"
  },
  "language_info": {
   "codemirror_mode": {
    "name": "ipython",
    "version": 3
   },
   "file_extension": ".py",
   "mimetype": "text/x-python",
   "name": "python",
   "nbconvert_exporter": "python",
   "pygments_lexer": "ipython3",
   "version": "3.9.5"
  },
  "orig_nbformat": 4
 },
 "nbformat": 4,
 "nbformat_minor": 2
}
