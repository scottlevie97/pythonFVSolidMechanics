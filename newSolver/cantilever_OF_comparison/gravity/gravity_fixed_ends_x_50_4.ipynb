{
 "cells": [
  {
   "cell_type": "code",
   "execution_count": 75,
   "metadata": {},
   "outputs": [],
   "source": [
    "import numpy as np\n",
    "import pandas as pd\n",
    "import math\n",
    "from scipy.sparse import csr_matrix\n",
    "from scipy.sparse.linalg import spsolve\n",
    "from matplotlib import pyplot as plt\n",
    "\n",
    "def printVar (varname, var):\n",
    "\n",
    "    print(varname)\n",
    "    print(var)\n",
    "\n",
    "def saveArray (name, array): \n",
    "\n",
    "    pd.DataFrame(array).to_csv(\"savedVariables/\" + name + \".csv\", index=False, header=None)\n",
    "\n"
   ]
  },
  {
   "cell_type": "code",
   "execution_count": 76,
   "metadata": {},
   "outputs": [
    {
     "data": {
      "text/plain": [
       "False"
      ]
     },
     "execution_count": 76,
     "metadata": {},
     "output_type": "execute_result"
    }
   ],
   "source": [
    "# Set Boundary Conditions:\n",
    "class BC_settings:\n",
    "\n",
    "    left = \"fixed_displacement\"\n",
    "    right = \"fixed_displacement\"\n",
    "    top = \"traction\"\n",
    "    bottom = \"traction\"\n",
    "\n",
    "    def __init__(self, edge):\n",
    "\n",
    "        if edge == \"l\":\n",
    "            if BC_settings.left == \"traction\":\n",
    "                self.traction = True\n",
    "                self.fixed_displacement = False\n",
    "            elif BC_settings.left == \"fixed_displacement\":\n",
    "                self.fixed_displacement = True\n",
    "                self.traction = False\n",
    "\n",
    "        if edge == \"r\":\n",
    "            if BC_settings.right == \"traction\":\n",
    "                self.traction = True\n",
    "                self.fixed_displacement = False\n",
    "            elif BC_settings.right == \"fixed_displacement\":\n",
    "                self.fixed_displacement = True\n",
    "                self.traction = False\n",
    "\n",
    "        if edge == \"t\":\n",
    "            if BC_settings.top == \"traction\":\n",
    "                self.traction = True\n",
    "                self.fixed_displacement = False\n",
    "            elif BC_settings.top == \"fixed_displacement\":\n",
    "                self.fixed_displacement = True\n",
    "                self.traction = False\n",
    "\n",
    "        if edge == \"b\":\n",
    "            if BC_settings.bottom == \"traction\":\n",
    "                self.traction = True\n",
    "                self.fixed_displacement = False\n",
    "            elif BC_settings.bottom == \"fixed_displacement\":\n",
    "                self.fixed_displacement = True\n",
    "                self.traction = False\n",
    "\n",
    "BC_settings(\"b\").fixed_displacement"
   ]
  },
  {
   "cell_type": "code",
   "execution_count": 77,
   "metadata": {},
   "outputs": [],
   "source": [
    "# Solve the 2D Navier-Cauchy equation using a segregated finite volume method\n",
    "\n",
    "# Define mesh geometry and boundary conditions\n",
    "\n",
    "Lx = 2 #width of domain\n",
    "Ly = .1 #height of domain\n",
    "\n",
    "fac = 1\n",
    "\n",
    "nx = 50      #number of control volumes in the x-direction\n",
    "ny = 4    #number of control volumes in the y-direction\n"
   ]
  },
  {
   "cell_type": "code",
   "execution_count": 78,
   "metadata": {},
   "outputs": [],
   "source": [
    "# Cantilever Setup \n",
    "\n",
    "# tr_right_x = 0   \n",
    "# tr_right_y = 0  \n",
    "\n",
    "tr_top_x = 0    #u boundary condition at the top boundary\n",
    "tr_top_y = 0       #v boundary condition at the top boundary\n",
    "\n",
    "tr_bottom_x = 0    #u boundary condition at the bottom boundary \n",
    "tr_bottom_y = 0  #v boundary condition at the bottom boundary\n",
    "\n",
    "u_left = 0\n",
    "v_left = 0\n",
    "\n",
    "u_right = 0\n",
    "v_right = 0\n",
    "\n",
    "g = -9.8\n"
   ]
  },
  {
   "cell_type": "code",
   "execution_count": 79,
   "metadata": {},
   "outputs": [
    {
     "name": "stdout",
     "output_type": "stream",
     "text": [
      "50\n"
     ]
    }
   ],
   "source": [
    "sys.path.append(\"/home/scottlevie/newPythonSolver/pythonsolver_new/tractionBCs/Classes/\")\n",
    "\n",
    "from index_and_direction import dim\n",
    "\n",
    "print(dim().nx)"
   ]
  },
  {
   "cell_type": "code",
   "execution_count": 80,
   "metadata": {},
   "outputs": [],
   "source": [
    "from index_and_direction import index\n",
    "from index_and_direction import boundary_point_index\n",
    "from index_and_direction import cell_index\n",
    "from index_and_direction import displacement"
   ]
  },
  {
   "cell_type": "code",
   "execution_count": 81,
   "metadata": {},
   "outputs": [],
   "source": [
    "# # Define material properties\n",
    "\n",
    "# rho = 8050         #density of steel in kg/m^3\n",
    "# mu = 78*10e9       #shear modulus in Pa\n",
    "# K1 = 1.6*10e11      #bulk modulus in Pa\n",
    "\n",
    "# Lambda = K - (2/3)*mu\n",
    "\n",
    "# #print(Lambda)\n",
    "# #\n",
    "# E = mu*(2*(1+0.3))\n",
    "\n",
    "# print(E)"
   ]
  },
  {
   "cell_type": "code",
   "execution_count": 82,
   "metadata": {},
   "outputs": [
    {
     "data": {
      "text/plain": [
       "0.0"
      ]
     },
     "execution_count": 82,
     "metadata": {},
     "output_type": "execute_result"
    }
   ],
   "source": [
    "1e9 - (10**9)"
   ]
  },
  {
   "cell_type": "code",
   "execution_count": 83,
   "metadata": {},
   "outputs": [
    {
     "name": "stdout",
     "output_type": "stream",
     "text": [
      "76923076923.07692 95238095238.09526\n"
     ]
    }
   ],
   "source": [
    "# Define material properties\n",
    "\n",
    "v = 0.3\n",
    "E = 200*1e9\n",
    "rho = 8050 #density of steel in kg/m^3\n",
    "\n",
    "mu = E/(2*(1+v)) #shear modulus in Pa\n",
    "K = E/(3*(1-v))     #bulk modulus in Pa\n",
    "\n",
    "Lambda = K - (2/3)*mu\n",
    "\n",
    "print(mu, K)\n"
   ]
  },
  {
   "cell_type": "code",
   "execution_count": 84,
   "metadata": {},
   "outputs": [],
   "source": [
    "## Define required variables\n",
    "\n",
    "tf = 2           #total time in seconds\n",
    "dx = Lx/nx          #length of each control volume in the x-direction\n",
    "dy = Ly/ny          #length of each control volume in the y-direction\n",
    "dt = tf/2          #size of time steps\n",
    "Sfx = dy            #area vector x component (Area of East and West Faces)\n",
    "Sfy = dx            #area vector y component (Area of North and South Faces)\n"
   ]
  },
  {
   "cell_type": "code",
   "execution_count": 85,
   "metadata": {},
   "outputs": [],
   "source": [
    "## Define  position and time vectors\n",
    "\n",
    "t = np.array(np.arange(0,tf, dt))        #time vector (could possibly use a list)\n",
    "x = np.zeros((1,nx+2))   #position vector defining the center points of the control volumes in the x-direction.\n",
    "x[0,nx+1] = Lx\n",
    "x[0,1:nx+1] = np.arange(dx/2,Lx,dx)\n",
    "\n",
    "t = np.array(np.arange(0,tf, dt))        #time vector (could possibly use a list)\n",
    "y = np.zeros((1,ny+2))   #position vector defining the center points of the control volumes in the y-direction.\n",
    "y[0,ny+1] = Ly\n",
    "y[0,1:ny+1] = np.arange(dy/2,Ly,dy)"
   ]
  },
  {
   "cell_type": "code",
   "execution_count": 86,
   "metadata": {},
   "outputs": [],
   "source": [
    "## Define required displacement matrices and b vector\n",
    "\n",
    "u_new = np.zeros([(ny+2)*(nx+2),2])         #unknown displacements at t + 1    (Column 1 = x, Column2 = y)\n",
    "u_old = np.zeros([(ny+2)*(nx+2),2])         #displacement at time t\n",
    "u_old_old = np.zeros([(ny+2)*(nx+2),2])     #displacement at time t - 1\n",
    "\n",
    "#rhs vector\n",
    "b_x = np.zeros([(ny+2)*(nx+2),1])\n",
    "b_y = np.zeros([(ny+2)*(nx+2),1])"
   ]
  },
  {
   "cell_type": "markdown",
   "metadata": {},
   "source": [
    "## X equation:"
   ]
  },
  {
   "cell_type": "code",
   "execution_count": 87,
   "metadata": {},
   "outputs": [],
   "source": [
    "class A(index, displacement):\n",
    "\n",
    "    val = \"value that stays in class without changning with instance\"\n",
    "\n",
    "    def __init__(self, xy):\n",
    "\n",
    "        if xy == \"x\":\n",
    "\n",
    "            self.a_P = (rho*dx*dy/(dt**2))+((4*mu+2*Lambda)*Sfx)/dx + ((2*mu)*Sfy)/dy\n",
    "            self.a_N = + A.coef(xy, \"N\", \"u\")*(Sfy)/dy\n",
    "            self.a_S = - A.coef(xy, \"S\", \"u\")*(Sfy)/dy\n",
    "            self.a_E = + A.coef(xy, \"E\", \"u\")*(Sfx)/dx\n",
    "            self.a_W = - A.coef(xy, \"W\", \"u\")*(Sfx)/dx\n",
    "\n",
    "        if xy == \"y\":\n",
    "\n",
    "            self.a_P = (rho*dx*dy/(dt**2))+((4*mu+2*Lambda)*Sfy)/dy + ((2*mu)*Sfx)/dx \n",
    "            self.a_N = + A.coef(xy, \"N\", \"v\")*(Sfy)/dy\n",
    "            self.a_S = - A.coef(xy, \"S\", \"v\")*(Sfy)/dy\n",
    "            self.a_E = + A.coef(xy, \"E\", \"v\")*(Sfx)/dx\n",
    "            self.a_W = - A.coef(xy, \"W\", \"v\")*(Sfx)/dx\n",
    "\n",
    "    def createMatrix(self):\n",
    "\n",
    "        A_no_boundary = np.zeros([(ny+2)*(nx+2), (ny+2)*(nx+2)])\n",
    "        # A_no_boundary = csr_matrix(A_no_boundary)  \n",
    "\n",
    "        for j in np.arange(2, ny):     \n",
    "\n",
    "            for k in np.arange((j*(nx+2)+2), (j*(nx+2)+nx)):  \n",
    "                \n",
    "                A_no_boundary[k,k] = self.a_P\n",
    "                A_no_boundary[k,index(k).n] = -self.a_N\n",
    "                A_no_boundary[k,index(k).s] = -self.a_S\n",
    "                A_no_boundary[k, index(k).e] = -self.a_E\n",
    "                A_no_boundary[k, index(k).w] = -self.a_W\n",
    "\n",
    "        return A_no_boundary\n",
    "\n",
    "    # b temporal term\n",
    "    def b_temp(u_old, u_old_old, k, xy):\n",
    "\n",
    "        if xy == \"x\":\n",
    "            b_temporal_term = (rho/(dt**2))*( 2*(u_old[k,0])*dx*dy - u_old_old[k,0]*dx*dy)\n",
    "        if xy == \"y\":\n",
    "            b_temporal_term = (rho/(dt**2))*( 2*(u_old[k,1])*dx*dy - u_old_old[k,1]*dx*dy)\n",
    "        \n",
    "        return b_temporal_term\n",
    "    \n",
    "    def b_diff(k, xy, u_previous):\n",
    "\n",
    "        if xy == \"x\":\n",
    "            uv = \"v\"\n",
    "        if xy == \"y\":\n",
    "            uv = \"u\"\n",
    "\n",
    "        b_diffusion = (\n",
    "                                Sfy*A.coef(xy, \"N\", uv)*(\n",
    "                                    (A.corner(\"NE\", uv, u_previous, k) - A.corner(\"NW\", uv, u_previous, k))\n",
    "                                    /dx)\n",
    "                                + \n",
    "                                Sfy*A.coef(xy, \"S\", uv)*(\n",
    "                                    (A.corner(\"SE\", uv, u_previous, k) - A.corner(\"SW\", uv, u_previous, k))\n",
    "                                    /dx)\n",
    "                                +\n",
    "                                Sfx*A.coef(xy, \"E\", uv)*(\n",
    "                                    (A.corner(\"NE\", uv, u_previous, k) - A.corner(\"SE\", uv, u_previous, k))\n",
    "                                    /dy)\n",
    "                                +\n",
    "                                Sfx*A.coef(xy, \"W\", uv)*(\n",
    "                                    (A.corner(\"NW\", uv, u_previous, k) - A.corner(\"SW\", uv, u_previous, k))\n",
    "                                    /dy)\n",
    "                                +\n",
    "                                rho*g*dx*dy\n",
    "        )\n",
    "\n",
    "        return b_diffusion\n",
    "    \n",
    "    def corner(corner_placement, uv, u_previous, k):\n",
    "        if uv == \"u\":\n",
    "            uv_i = 0\n",
    "        elif uv == \"v\":\n",
    "            uv_i = 1\n",
    "\n",
    "        disp = displacement(k, u_previous, uv_i)\n",
    "\n",
    "        if corner_placement == \"NE\":\n",
    "            return (1/4)*(disp.P + disp.NE + disp.N + disp.E)\n",
    "        if corner_placement == \"SE\":\n",
    "            return (1/4)*(disp.P + disp.SE + disp.S + disp.E)\n",
    "        if corner_placement == \"SW\":\n",
    "            return (1/4)*(disp.P + disp.SW + disp.S + disp.W)\n",
    "        if corner_placement == \"NW\":\n",
    "            return (1/4)*(disp.P + disp.NW + disp.N + disp.W)\n",
    "\n",
    "\n",
    "    \n",
    "    def coef(xy, face, uv):\n",
    "        # could have and statements\n",
    "        if xy == \"x\":\n",
    "            if face == \"N\":\n",
    "                if uv == \"u\":\n",
    "                    return mu\n",
    "                if uv == \"v\":\n",
    "                    return mu\n",
    "            if face == \"S\":\n",
    "                if uv == \"u\":\n",
    "                    return - mu\n",
    "                if uv == \"v\":\n",
    "                    return - mu\n",
    "            if face == \"E\":\n",
    "                if uv == \"u\":\n",
    "                    return 2*mu + Lambda\n",
    "                if uv == \"v\":\n",
    "                    return Lambda\n",
    "            if face == \"W\":\n",
    "                if uv == \"u\":\n",
    "                    return - (2*mu + Lambda)\n",
    "                if uv == \"v\":\n",
    "                    return - Lambda\n",
    "\n",
    "        elif xy == \"y\":\n",
    "            if face == \"N\":\n",
    "                if uv == \"u\":\n",
    "                    return Lambda\n",
    "                if uv == \"v\":\n",
    "                    return 2*mu + Lambda\n",
    "            if face == \"S\":\n",
    "                if uv == \"u\":\n",
    "                    return - Lambda\n",
    "                if uv == \"v\":\n",
    "                    return - (2*mu + Lambda)\n",
    "            if face == \"E\":\n",
    "                if uv == \"u\":\n",
    "                    return mu\n",
    "                if uv == \"v\":\n",
    "                    return mu\n",
    "            if face == \"W\":\n",
    "                if uv == \"u\":\n",
    "                    return - mu\n",
    "                if uv == \"v\":\n",
    "                    return - mu\n",
    "\n",
    "u_previous = u_new\n",
    "\n",
    "# A.b_diff(25, \"x\", u_previous)"
   ]
  },
  {
   "cell_type": "code",
   "execution_count": 88,
   "metadata": {},
   "outputs": [],
   "source": [
    "class boundaryCellTraction(A):\n",
    "\n",
    "    def __init__(self, edges, xy):\n",
    "        \n",
    "        sw_S, sw_N, sw_W, sw_E = 1, 1, 1, 1\n",
    "\n",
    "        for edge in edges:\n",
    "            if edge == \"b\": sw_S = 0\n",
    "            if edge == \"t\": sw_N = 0\n",
    "            if edge == \"l\": sw_W = 0\n",
    "            if edge == \"r\": sw_E = 0\n",
    "        \n",
    "        self.a_P = (rho*dx*dy/(dt**2)) + A(xy).a_N*sw_N + A(xy).a_S**sw_S + A(xy).a_E*sw_E + A(xy).a_W*sw_W\n",
    "        \n",
    "        self.a_N = A(xy).a_N \n",
    "        self.a_S = A(xy).a_S \n",
    "        self.a_E = A(xy).a_E \n",
    "        self.a_W = A(xy).a_W \n",
    "\n",
    "        # self.a_faces = A(xy).a_N*sw_N + A(xy).a_S*sw_S + A(xy).a_E*sw_E + A(xy).a_W*sw_W \n",
    "\n",
    "    def b_temp(u_old, u_old_old, k, xy):      \n",
    "        return A.b_temp(u_old, u_old_old, k, xy)\n",
    "    \n",
    "    def b_diff(edges, k, xy, u_previous):\n",
    "\n",
    "        if xy == \"x\":\n",
    "            uv = \"v\"\n",
    "        if xy == \"y\":\n",
    "            uv = \"u\"\n",
    "            \n",
    "        N_term =(\n",
    "                    Sfy*A.coef(xy, \"N\", uv)*(\n",
    "                    (boundaryCellTraction.corner(edges, \"NE\", uv, u_previous, k) - boundaryCellTraction.corner(edges, \"NW\", uv, u_previous, k))\n",
    "                    /dx)\n",
    "                )\n",
    "        S_term =(\n",
    "                    Sfy*A.coef(xy, \"S\", uv)*(\n",
    "                        (boundaryCellTraction.corner(edges, \"SE\", uv, u_previous, k) - boundaryCellTraction.corner(edges, \"SW\", uv, u_previous, k))\n",
    "                        /dx)\n",
    "                ) \n",
    "        E_term =(\n",
    "                    Sfx*A.coef(xy, \"E\", uv)*(\n",
    "                        (boundaryCellTraction.corner(edges, \"NE\", uv, u_previous, k) - boundaryCellTraction.corner(edges, \"SE\", uv, u_previous, k))\n",
    "                        /dy)\n",
    "                ) \n",
    "        W_term =(\n",
    "                    Sfx*A.coef(xy, \"W\", uv)*(\n",
    "                        (boundaryCellTraction.corner(edges, \"NW\", uv, u_previous, k) - boundaryCellTraction.corner(edges, \"SW\", uv, u_previous, k))\n",
    "                        /dy)\n",
    "                )\n",
    "\n",
    "        for edge in edges:\n",
    "\n",
    "            if (edge == \"b\") & (xy == \"x\") : S_term =  Sfy*tr_bottom_x  \n",
    "            if (edge == \"b\") & (xy == \"y\") : S_term =  Sfy*tr_bottom_y  \n",
    "            if (edge == \"t\") & (xy == \"x\") : N_term =  Sfy*tr_top_x  \n",
    "            if (edge == \"t\") & (xy == \"y\") : N_term =  Sfy*tr_top_y  \n",
    "            if (edge == \"l\") & (xy == \"x\") : W_term =  Sfx*tr_left_x  \n",
    "            if (edge == \"l\") & (xy == \"y\") : W_term =  Sfx*tr_left_y  \n",
    "            if (edge == \"r\") & (xy == \"x\") : E_term =  Sfx*tr_right_x  \n",
    "            if (edge == \"r\") & (xy == \"y\") : E_term =  Sfx*tr_right_y        \n",
    "\n",
    "        b_diffusion = (N_term + S_term + E_term + W_term) + rho*g*dx*dy\n",
    "\n",
    "        return b_diffusion\n",
    "    \n",
    "    def corner(edges, corner_placement, uv, u_previous, k):\n",
    "\n",
    "        if uv == \"u\":\n",
    "            uv_i = 0\n",
    "        elif uv == \"v\":\n",
    "            uv_i = 1\n",
    "\n",
    "        disp = displacement(k, u_previous, uv_i)\n",
    "\n",
    "        if corner_placement == \"NE\":\n",
    "            corner =  (1/4)*(disp.P + disp.NE + disp.N + disp.E)\n",
    "        if corner_placement == \"SE\":\n",
    "            corner =  (1/4)*(disp.P + disp.SE + disp.S + disp.E)\n",
    "        if corner_placement == \"SW\":\n",
    "            corner =  (1/4)*(disp.P + disp.SW + disp.S + disp.W)\n",
    "        if corner_placement == \"NW\":\n",
    "            corner =  (1/4)*(disp.P + disp.NW + disp.N + disp.W)\n",
    "\n",
    "        for edge in edges:\n",
    "            if (edge == \"b\") & (corner_placement == \"SE\"):\n",
    "                corner =  (1/2)*(disp.SE + disp.S)\n",
    "            if (edge == \"b\") & (corner_placement == \"SW\"):\n",
    "                corner =  (1/2)*(disp.SW + disp.S)\n",
    "\n",
    "            if (edge == \"t\") & (corner_placement == \"NE\"):\n",
    "                corner =  (1/2)*(disp.NE + disp.N)\n",
    "            if (edge == \"t\") & (corner_placement == \"NW\"):\n",
    "                corner =  (1/2)*(disp.NW + disp.N)\n",
    "\n",
    "            if (edge == \"l\") & (corner_placement == \"NW\"):\n",
    "                corner =  (1/2)*(disp.NW + disp.W)\n",
    "            if (edge == \"l\") & (corner_placement == \"SW\"):\n",
    "                corner =  (1/2)*(disp.SW + disp.W)\n",
    "\n",
    "            if (edge == \"r\") & (corner_placement == \"NE\"):\n",
    "                corner =  (1/2)*(disp.NE + disp.E)\n",
    "            if (edge == \"r\") & (corner_placement == \"SE\"):\n",
    "                corner =  (1/2)*(disp.SE + disp.E)\n",
    "        \n",
    "        return corner\n",
    "\n",
    "# boundaryCellTraction.b_diff([\"b\", \"l\"], 14, \"x\", u_previous)\n",
    "   "
   ]
  },
  {
   "cell_type": "code",
   "execution_count": 89,
   "metadata": {},
   "outputs": [],
   "source": [
    "class boundaryPointTraction(A):\n",
    "\n",
    "    def __init__(self, edges, xy):    # The order matters for edges, bottom left corner on the bottom is : [\"b\", \"l\"]\n",
    "        \n",
    "        sw_S, sw_N, sw_W, sw_E = 0, 0, 0, 0\n",
    "\n",
    "        if edges[0] == \"b\": sw_S = 1\n",
    "        if edges[0] == \"t\": sw_N = 1\n",
    "        if edges[0] == \"l\": sw_W = 1\n",
    "        if edges[0] == \"r\": sw_E = 1\n",
    "        \n",
    "        a_P = (A(xy).a_N*sw_N + A(xy).a_S**sw_S )*2/(Sfy) + (A(xy).a_E*sw_E + A(xy).a_W*sw_W)*2/(Sfx)\n",
    "        \n",
    "        a_N = A(xy).a_N*2/(Sfy) # are terms cancel in derivation\n",
    "        a_S = A(xy).a_S*2/(Sfy)\n",
    "        a_E = A(xy).a_E*2/(Sfx)\n",
    "        a_W = A(xy).a_W*2/(Sfx)\n",
    "\n",
    "        if edges[0] == \"b\":\n",
    "            self.a_N = a_P\n",
    "            self.a_P = a_S\n",
    "        if edges[0] == \"t\":\n",
    "            self.a_S = a_P\n",
    "            self.a_P = a_N\n",
    "        if edges[0] == \"l\":\n",
    "            self.a_E = a_P\n",
    "            self.a_P = a_W\n",
    "        if edges[0] == \"r\":\n",
    "            self.a_W = a_P\n",
    "            self.a_P = a_E\n",
    "    \n",
    "    def b_diff(edges, k, xy, u_previous):\n",
    "\n",
    "        if xy == \"x\":\n",
    "            uv = \"v\"\n",
    "        if xy == \"y\":\n",
    "            uv = \"u\"\n",
    "            \n",
    "        def N_term():\n",
    "            \n",
    "            N_term =( A.coef(xy, \"N\", uv)*(\n",
    "                    (boundaryPointTraction.corner(edges, \"E\", uv, u_previous, k) - boundaryPointTraction.corner(edges, \"W\", uv, u_previous, k))\n",
    "                    /dx)\n",
    "            )\n",
    "\n",
    "            return N_term\n",
    "\n",
    "        def S_term():\n",
    "            \n",
    "            S_term =(\n",
    "                    A.coef(xy, \"S\", uv)*(\n",
    "                        (boundaryPointTraction.corner(edges, \"E\", uv, u_previous, k) - boundaryPointTraction.corner(edges, \"W\", uv, u_previous, k))\n",
    "                        /dx)\n",
    "                ) \n",
    "            return S_term\n",
    "        def E_term():\n",
    "            \n",
    "            E_term =(\n",
    "                    A.coef(xy, \"E\", uv)*(\n",
    "                        (boundaryPointTraction.corner(edges, \"N\", uv, u_previous, k) - boundaryPointTraction.corner(edges, \"S\", uv, u_previous, k))\n",
    "                        /dy)\n",
    "                ) \n",
    "            return E_term\n",
    "        def W_term():\n",
    "            \n",
    "            W_term =(\n",
    "                        A.coef(xy, \"W\", uv)*(\n",
    "                        (boundaryPointTraction.corner(edges, \"N\", uv, u_previous, k) - boundaryPointTraction.corner(edges, \"S\", uv, u_previous, k))\n",
    "                        /dy)\n",
    "                )\n",
    "                \n",
    "            return W_term\n",
    "\n",
    "        # This can be tidied up/shortened\n",
    "\n",
    "        if (edges[0] == \"b\") & (xy == \"x\") : b_diffusion =  tr_bottom_x  + N_term()\n",
    "        if (edges[0] == \"b\") & (xy == \"y\") : b_diffusion =  tr_bottom_y  + N_term()\n",
    "        if (edges[0] == \"t\") & (xy == \"x\") : b_diffusion =  tr_top_x + S_term()\n",
    "        if (edges[0] == \"t\") & (xy == \"y\") : b_diffusion =  tr_top_y + S_term()\n",
    "        if (edges[0] == \"l\") & (xy == \"x\") : b_diffusion =  tr_left_x + E_term()\n",
    "        if (edges[0] == \"l\") & (xy == \"y\") : b_diffusion =  tr_left_y + E_term()\n",
    "        if (edges[0] == \"r\") & (xy == \"x\") : b_diffusion =  tr_right_x + W_term()\n",
    "        if (edges[0] == \"r\") & (xy == \"y\") : b_diffusion =  tr_right_y + W_term()  \n",
    "\n",
    "        return b_diffusion\n",
    "    \n",
    "    def corner(edges, corner_placement, uv, u_previous, k):\n",
    "\n",
    "        if uv == \"u\":\n",
    "            uv_i = 0\n",
    "        elif uv == \"v\":\n",
    "            uv_i = 1\n",
    "\n",
    "        disp = displacement(k, u_previous, uv_i)\n",
    "\n",
    "\n",
    "        if corner_placement == \"E\":\n",
    "            corner =  (1/2)*(disp.E + disp.P)\n",
    "        if corner_placement == \"W\":\n",
    "            corner =  (1/2)*(disp.W + disp.P)\n",
    "        if  corner_placement == \"N\":\n",
    "            corner =  (1/2)*(disp.N + disp.P)\n",
    "        if  corner_placement == \"S\":\n",
    "            corner =  (1/2)*(disp.S + disp.P)\n",
    "\n",
    "        if len(edges) > 1:\n",
    "\n",
    "            if (edges[1] == \"r\") & (corner_placement == \"E\"):\n",
    "                    corner =  disp.E\n",
    "            if (edges[1] == \"l\") & (corner_placement == \"W\"):\n",
    "                    corner =  disp.W\n",
    "            if (edges[1] == \"t\") & (corner_placement == \"N\"):\n",
    "                    corner =  disp.N\n",
    "            if (edges[1] == \"b\") & (corner_placement == \"S\"):\n",
    "                    corner =  disp.S\n",
    "        \n",
    "        return corner\n",
    "# boundaryCellTraction.b_diff([\"b\", \"l\"], 14, \"x\", u_previous)\n",
    "   "
   ]
  },
  {
   "cell_type": "code",
   "execution_count": 90,
   "metadata": {},
   "outputs": [],
   "source": [
    "class boundaryCellDisplacement(A):\n",
    "\n",
    "    def __init__(self, edges, xy):\n",
    "        \n",
    "        sw_S, sw_N, sw_W, sw_E = 1, 1, 1, 1\n",
    "\n",
    "        for edge in edges:\n",
    "            if edge == \"b\": sw_S = 2\n",
    "            if edge == \"t\": sw_N = 2\n",
    "            if edge == \"l\": sw_W = 2\n",
    "            if edge == \"r\": sw_E = 2\n",
    "        \n",
    "        self.a_P = (rho*dx*dy/(dt**2)) + A(xy).a_N*sw_N + A(xy).a_S*sw_S + A(xy).a_E*sw_E + A(xy).a_W*sw_W\n",
    "        \n",
    "        self.a_N = A(xy).a_N*sw_N\n",
    "        self.a_S = A(xy).a_S*sw_S\n",
    "        self.a_E = A(xy).a_E*sw_E\n",
    "        self.a_W = A(xy).a_W*sw_W\n",
    "\n",
    "    def b_temp(u_old, u_old_old, k, xy):      \n",
    "        return A.b_temp(u_old, u_old_old, k, xy)\n",
    "    \n",
    "    def b_diff(edges, k, xy, u_previous):\n",
    "\n",
    "        if xy == \"x\":\n",
    "            uv = \"v\"\n",
    "        if xy == \"y\":\n",
    "            uv = \"u\"\n",
    "            \n",
    "        N_term =(\n",
    "                    Sfy*A.coef(xy, \"N\", uv)*(\n",
    "                    (boundaryCellDisplacement.corner(edges, \"NE\", uv, u_previous, k) - boundaryCellDisplacement.corner(edges, \"NW\", uv, u_previous, k))\n",
    "                    /dx)\n",
    "                )\n",
    "        S_term =(\n",
    "                    Sfy*A.coef(xy, \"S\", uv)*(\n",
    "                        (boundaryCellDisplacement.corner(edges, \"SE\", uv, u_previous, k) - boundaryCellDisplacement.corner(edges, \"SW\", uv, u_previous, k))\n",
    "                        /dx)\n",
    "                ) \n",
    "        E_term =(\n",
    "                    Sfx*A.coef(xy, \"E\", uv)*(\n",
    "                        (boundaryCellDisplacement.corner(edges, \"NE\", uv, u_previous, k) - boundaryCellDisplacement.corner(edges, \"SE\", uv, u_previous, k))\n",
    "                        /dy)\n",
    "                ) \n",
    "        W_term =(\n",
    "                    Sfx*A.coef(xy, \"W\", uv)*(\n",
    "                        (boundaryCellDisplacement.corner(edges, \"NW\", uv, u_previous, k) - boundaryCellDisplacement.corner(edges, \"SW\", uv, u_previous, k))\n",
    "                        /dy)\n",
    "                ) \n",
    "\n",
    "        b_diffusion = (N_term + S_term + E_term + W_term) + rho*g*dx*dy\n",
    "\n",
    "        return b_diffusion\n",
    "    \n",
    "    def corner(edges, corner_placement, uv, u_previous, k):\n",
    "\n",
    "        if uv == \"u\":\n",
    "            uv_i = 0\n",
    "        elif uv == \"v\":\n",
    "            uv_i = 1\n",
    "\n",
    "        disp = displacement(k, u_previous, uv_i)\n",
    "\n",
    "        if corner_placement == \"NE\":\n",
    "            corner =  (1/4)*(disp.P + disp.NE + disp.N + disp.E)\n",
    "        if corner_placement == \"SE\":\n",
    "            corner =  (1/4)*(disp.P + disp.SE + disp.S + disp.E)\n",
    "        if corner_placement == \"SW\":\n",
    "            corner =  (1/4)*(disp.P + disp.SW + disp.S + disp.W)\n",
    "        if corner_placement == \"NW\":\n",
    "            corner =  (1/4)*(disp.P + disp.NW + disp.N + disp.W)\n",
    "\n",
    "        for edge in edges:\n",
    "            if (edge == \"b\") & (corner_placement == \"SE\"):\n",
    "                corner =  (1/2)*(disp.SE + disp.S)\n",
    "            if (edge == \"b\") & (corner_placement == \"SW\"):\n",
    "                corner =  (1/2)*(disp.SW + disp.S)\n",
    "\n",
    "            if (edge == \"t\") & (corner_placement == \"NE\"):\n",
    "                corner =  (1/2)*(disp.NE + disp.N)\n",
    "            if (edge == \"t\") & (corner_placement == \"NW\"):\n",
    "                corner =  (1/2)*(disp.NW + disp.N)\n",
    "\n",
    "            if (edge == \"l\") & (corner_placement == \"NW\"):\n",
    "                corner =  (1/2)*(disp.NW + disp.W)\n",
    "            if (edge == \"l\") & (corner_placement == \"SW\"):\n",
    "                corner =  (1/2)*(disp.SW + disp.W)\n",
    "\n",
    "            if (edge == \"r\") & (corner_placement == \"NE\"):\n",
    "                corner =  (1/2)*(disp.NE + disp.E)\n",
    "            if (edge == \"r\") & (corner_placement == \"SE\"):\n",
    "                corner =  (1/2)*(disp.SE + disp.E)\n",
    "\n",
    "        if len(edges) > 1:\n",
    "\n",
    "            if (edges[0] == \"b\") & (edges[1] == \"l\") & (corner_placement == \"SW\"):\n",
    "                corner = disp.SW \n",
    "            if (edges[0] == \"b\") & (edges[1] == \"r\") & (corner_placement == \"SE\"):\n",
    "                corner = disp.SE\n",
    "            if (edges[0] == \"t\") & (edges[1] == \"l\") & (corner_placement == \"NW\"):\n",
    "                corner = disp.NW\n",
    "            if (edges[0] == \"t\") & (edges[1] == \"r\") & (corner_placement == \"NE\"):\n",
    "                corner = disp.NE\n",
    "\n",
    "        \n",
    "        return corner\n",
    "\n",
    "# boundaryCellDisplacement.b_diff([\"b\", \"l\"], 14, \"x\", u_previous)\n",
    "\n",
    "\n"
   ]
  },
  {
   "cell_type": "code",
   "execution_count": 91,
   "metadata": {},
   "outputs": [],
   "source": [
    "def traction_cell_BCs(A_matrix, b_matrix, k, edges, xy, u_old, u_old_old, u_previous):\n",
    "\n",
    "    A_matrix[k,k] = boundaryCellTraction(edges, xy).a_P\n",
    "\n",
    "    b_matrix[k] =(\n",
    "                    boundaryCellTraction.b_temp(u_old, u_old_old, k, xy)\n",
    "                    +\n",
    "                    boundaryCellTraction.b_diff(edges, k, xy, u_previous)  \n",
    "                )\n",
    "    for edge in edges:\n",
    "        if edge == \"b\":\n",
    "            #an\n",
    "            A_matrix[k,index(k).n] = - boundaryCellTraction(edges, xy).a_N\n",
    "\n",
    "        if edge == \"t\":\n",
    "            #as\n",
    "            A_matrix[k,index(k).s] = - boundaryCellTraction(edges, xy).a_S\n",
    "\n",
    "        if edge == \"l\":\n",
    "            #ae\n",
    "            A_matrix[k,index(k).e] = - boundaryCellTraction(edges, xy).a_E\n",
    "\n",
    "        if edge == \"r\":\n",
    "            #aw\n",
    "            A_matrix[k,index(k).w] = - boundaryCellTraction(edges, xy).a_W           \n",
    "\n",
    "    if len(edges) == 1:\n",
    "\n",
    "        if (edges[0] == \"b\") | (edges[0] == \"t\") :\n",
    "            #ae\n",
    "            A_matrix[k, index(k).e] = - boundaryCellTraction(edges, xy).a_E\n",
    "            #aw\n",
    "            A_matrix[k, index(k).w] = - boundaryCellTraction(edges, xy).a_W\n",
    "\n",
    "        if (edges[0] == \"l\") | (edges[0] == \"r\") :\n",
    "            #an\n",
    "            A_matrix[k,index(k).n] = - boundaryCellTraction(edges, xy).a_N            \n",
    "            #as\n",
    "            A_matrix[k,index(k).s] = - boundaryCellTraction(edges, xy).a_S\n",
    "\n",
    "    return A_matrix, b_matrix"
   ]
  },
  {
   "cell_type": "code",
   "execution_count": 92,
   "metadata": {},
   "outputs": [],
   "source": [
    "def traction_point_BCs(A_matrix, b_matrix, k, edges, xy, u_previous):\n",
    "    \n",
    "    #ap\n",
    "    A_matrix[k,k] = boundaryPointTraction(edges, xy).a_P\n",
    "    #b\n",
    "    b_matrix[k] =boundaryPointTraction.b_diff(edges, k, xy, u_previous)\n",
    "\n",
    "    if edges[0] == \"b\":\n",
    "        #an\n",
    "        A_matrix[k,index(k).n] = - boundaryPointTraction(edges, xy).a_N\n",
    "    if edges[0] == \"t\":\n",
    "        #as\n",
    "        A_matrix[k,index(k).s] = - boundaryPointTraction(edges, xy).a_S\n",
    "    if edges[0] == \"l\":\n",
    "        #ae\n",
    "        A_matrix[k, index(k).e] = - boundaryPointTraction(edges, xy).a_E\n",
    "    if edges[0] == \"r\":\n",
    "        #aw\n",
    "        A_matrix[k, index(k).w] = -  boundaryPointTraction(edges, xy).a_W\n",
    "\n",
    "    return A_matrix, b_matrix"
   ]
  },
  {
   "cell_type": "code",
   "execution_count": 93,
   "metadata": {},
   "outputs": [],
   "source": [
    "class edge_U:\n",
    "\n",
    "    def __init__(self, edges, xy):\n",
    "\n",
    "        if xy == \"x\":\n",
    "            if edges[0] == \"b\":\n",
    "                if BC_settings(edges[0]).fixed_displacement:\n",
    "                    self.BC = u_bottom\n",
    "            if edges[0] == \"t\":\n",
    "                if BC_settings(edges[0]).fixed_displacement:\n",
    "                    self.BC = u_top\n",
    "            if edges[0] == \"l\":\n",
    "                if BC_settings(edges[0]).fixed_displacement:\n",
    "                    self.BC = u_left\n",
    "            if edges[0] == \"r\":\n",
    "                if BC_settings(edges[0]).fixed_displacement:\n",
    "                    self.BC = u_right\n",
    "\n",
    "        if xy == \"y\":\n",
    "            if edges[0] == \"b\":\n",
    "                if BC_settings(edges[0]).fixed_displacement:\n",
    "                    self.BC = v_bottom\n",
    "            if edges[0] == \"t\":\n",
    "                if BC_settings(edges[0]).fixed_displacement:\n",
    "                    self.BC = v_top\n",
    "            if edges[0] == \"l\":\n",
    "                if BC_settings(edges[0]).fixed_displacement:\n",
    "                    self.BC = v_left\n",
    "            if edges[0] == \"r\":\n",
    "                if BC_settings(edges[0]).fixed_displacement:\n",
    "                    self.BC = v_right"
   ]
  },
  {
   "cell_type": "code",
   "execution_count": 94,
   "metadata": {},
   "outputs": [],
   "source": [
    "def displacement_cell_BCs(A_matrix, b_matrix, k, edges, xy, u_old, u_old_old, u_previous):\n",
    "\n",
    "    A_matrix[k,k] = boundaryCellDisplacement(edges, xy).a_P\n",
    "    #an\n",
    "    A_matrix[k,index(k).n] = - boundaryCellDisplacement(edges, xy).a_N        \n",
    "    #as\n",
    "    A_matrix[k,index(k).s] = - boundaryCellDisplacement(edges, xy).a_S   \n",
    "    #ae\n",
    "    A_matrix[k, index(k).e] = - boundaryCellDisplacement(edges, xy).a_E\n",
    "    #aw\n",
    "    A_matrix[k, index(k).w] = - boundaryCellDisplacement(edges, xy).a_W\n",
    "\n",
    "    b_matrix[k] =(\n",
    "                boundaryCellDisplacement.b_temp(u_old, u_old_old, k, xy)\n",
    "                +\n",
    "                boundaryCellDisplacement.b_diff(edges, k, xy, u_previous)\n",
    "            )   \n",
    "\n",
    "    return A_matrix, b_matrix\n",
    "\n",
    "def displacement_point_BCs(A_matrix, b_matrix, k, edges, xy):\n",
    "    \n",
    "    A_matrix[k,k] = 1e10\n",
    "    b_matrix[k] = edge_U(edges, xy).BC*1e10\n",
    "\n",
    "    return A_matrix, b_matrix"
   ]
  },
  {
   "cell_type": "code",
   "execution_count": 95,
   "metadata": {},
   "outputs": [],
   "source": [
    "def boundary_conditions(A_matrix, b_matrix, u_previous, u_old, u_old_old, xy):\n",
    "    for k in np.arange(0,(nx+2)*(ny+2)):   # j is the cell number\n",
    "\n",
    "        U = displacement(k, u_previous, 0)\n",
    "        V = displacement(k, u_previous, 1)\n",
    "\n",
    "        #Bottom left corner coefficients        \n",
    "        if cell_index().bottom_left_corner(k):  \n",
    "            edges = [\"b\", \"l\"]\n",
    "            \n",
    "            if BC_settings(edges[1]).traction:\n",
    "                A_matrix, b_matrix = traction_cell_BCs(A_matrix, b_matrix, k, edges, xy, u_old, u_old_old, u_previous)\n",
    "            \n",
    "            elif BC_settings(edges[1]).fixed_displacement:\n",
    "                A_matrix, b_matrix = displacement_cell_BCs(A_matrix, b_matrix, k, edges, xy, u_old, u_old_old, u_previous)\n",
    "\n",
    "        #Bottom right corner coefficients            \n",
    "        elif  cell_index().bottom_right_corner(k):\n",
    "            edges = [\"b\", \"r\"]\n",
    "            \n",
    "            if BC_settings(edges[1]).traction:\n",
    "                A_matrix, b_matrix = traction_cell_BCs(A_matrix, b_matrix, k, edges, xy, u_old, u_old_old, u_previous)\n",
    "\n",
    "            elif BC_settings(edges[1]).fixed_displacement:\n",
    "                A_matrix, b_matrix = displacement_cell_BCs(A_matrix, b_matrix, k, edges, xy, u_old, u_old_old, u_previous)\n",
    "\n",
    "        #Top left corner coefficients            \n",
    "        elif  cell_index().top_left_corner(k):\n",
    "            edges = [\"t\", \"l\"]\n",
    "        \n",
    "            if BC_settings(edges[1]).traction:\n",
    "                A_matrix, b_matrix = traction_cell_BCs(A_matrix, b_matrix, k, edges, xy, u_old, u_old_old, u_previous)\n",
    "\n",
    "            elif BC_settings(edges[1]).fixed_displacement:\n",
    "                A_matrix, b_matrix = displacement_cell_BCs(A_matrix, b_matrix, k, edges, xy, u_old, u_old_old, u_previous)\n",
    "\n",
    "        #Top right corner coefficients            \n",
    "        elif  cell_index().top_right_corner(k):  \n",
    "            edges = [\"t\", \"r\"]\n",
    "            \n",
    "            if BC_settings(edges[1]).traction:\n",
    "                A_matrix, b_matrix = traction_cell_BCs(A_matrix, b_matrix, k, edges, xy, u_old, u_old_old, u_previous)\n",
    "\n",
    "            elif BC_settings(edges[1]).fixed_displacement:\n",
    "                A_matrix, b_matrix = displacement_cell_BCs(A_matrix, b_matrix, k, edges, xy, u_old, u_old_old, u_previous)\n",
    "\n",
    "        # Center Bottom Boundaries\n",
    "        elif  cell_index().center_bottom(k):\n",
    "            edges = [\"b\"]\n",
    "\n",
    "            if BC_settings(edges[0]).traction:\n",
    "                A_matrix, b_matrix = traction_cell_BCs(A_matrix, b_matrix, k, edges, xy, u_old, u_old_old, u_previous)\n",
    "\n",
    "            elif BC_settings(edges[0]).fixed_displacement:\n",
    "                A_matrix, b_matrix = displacement_cell_BCs(A_matrix, b_matrix, k, edges, xy, u_old, u_old_old, u_previous)\n",
    "\n",
    "        # Center Top Boundaries\n",
    "        elif cell_index().center_top(k):\n",
    "            edges = [\"t\"]\n",
    "\n",
    "            if BC_settings(edges[0]).traction:\n",
    "                A_matrix, b_matrix = traction_cell_BCs(A_matrix, b_matrix, k, edges, xy, u_old, u_old_old, u_previous)\n",
    "\n",
    "            elif BC_settings(edges[0]).fixed_displacement:\n",
    "                A_matrix, b_matrix = displacement_cell_BCs(A_matrix, b_matrix, k, edges, xy, u_old, u_old_old, u_previous)\n",
    "\n",
    "        # Center Left Boundaries\n",
    "        elif  cell_index().center_left(k):\n",
    "            edges = [\"l\"]\n",
    "\n",
    "            if BC_settings(edges[0]).traction:\n",
    "                A_matrix, b_matrix = traction_cell_BCs(A_matrix, b_matrix, k, edges, xy, u_old, u_old_old, u_previous)\n",
    "\n",
    "            elif BC_settings(edges[0]).fixed_displacement:\n",
    "                A_matrix, b_matrix = displacement_cell_BCs(A_matrix, b_matrix, k, edges, xy, u_old, u_old_old, u_previous)\n",
    "\n",
    "        # Center Right Boundaries\n",
    "        elif  cell_index().center_right(k):\n",
    "            edges = [\"r\"]\n",
    "\n",
    "            if BC_settings(edges[0]).traction:\n",
    "                A_matrix, b_matrix = traction_cell_BCs(A_matrix, b_matrix, k, edges, xy, u_old, u_old_old, u_previous)\n",
    "\n",
    "            elif BC_settings(edges[0]).fixed_displacement:\n",
    "                A_matrix, b_matrix = displacement_cell_BCs(A_matrix, b_matrix, k, edges, xy, u_old, u_old_old, u_previous)\n",
    "\n",
    "        #### Points on Boundary ####\n",
    "\n",
    "        # Center Bottom\n",
    "        elif boundary_point_index().center_bottom(k):\n",
    "            edges = [\"b\"]\n",
    "\n",
    "            if BC_settings(edges[0]).traction:\n",
    "                A_matrix, b_matrix = traction_point_BCs(A_matrix, b_matrix, k, edges, xy, u_previous)\n",
    "\n",
    "            elif BC_settings(edges[0]).fixed_displacement:\n",
    "                A_matrix, b_matrix = displacement_point_BCs(A_matrix, b_matrix, k, edges, xy)\n",
    "\n",
    "        # Center Top\n",
    "        elif boundary_point_index().center_top(k):\n",
    "            edges = [\"t\"]\n",
    "\n",
    "            if BC_settings(edges[0]).traction:\n",
    "                A_matrix, b_matrix = traction_point_BCs(A_matrix, b_matrix, k, edges, xy, u_previous)\n",
    "\n",
    "            elif BC_settings(edges[0]).fixed_displacement:\n",
    "                A_matrix, b_matrix = displacement_point_BCs(A_matrix, b_matrix, k, edges, xy)\n",
    "            \n",
    "        # Center Left\n",
    "        elif boundary_point_index().center_left(k):\n",
    "            edges = [\"l\"]\n",
    "\n",
    "            if BC_settings(edges[0]).traction:\n",
    "                A_matrix, b_matrix = traction_point_BCs(A_matrix, b_matrix, k, edges, xy, u_previous)\n",
    "\n",
    "            elif BC_settings(edges[0]).fixed_displacement:\n",
    "                A_matrix, b_matrix = displacement_point_BCs(A_matrix, b_matrix, k, edges, xy)\n",
    "\n",
    "        # Center Right\n",
    "        elif boundary_point_index().center_right(k):\n",
    "            edges = [\"r\"]\n",
    "\n",
    "            if BC_settings(edges[0]).traction:\n",
    "                A_matrix, b_matrix = traction_point_BCs(A_matrix, b_matrix, k, edges, xy, u_previous)\n",
    "\n",
    "            elif BC_settings(edges[0]).fixed_displacement:\n",
    "                A_matrix, b_matrix = displacement_point_BCs(A_matrix, b_matrix, k, edges, xy)\n",
    "\n",
    "        # Bottom Left: Bottom\n",
    "        elif boundary_point_index().bottom_left_bottom(k):\n",
    "            edges = [\"b\", \"l\"]\n",
    "\n",
    "            if BC_settings(edges[0]).traction:\n",
    "                A_matrix, b_matrix = traction_point_BCs(A_matrix, b_matrix, k, edges, xy, u_previous) \n",
    "\n",
    "            elif BC_settings(edges[0]).fixed_displacement:\n",
    "                A_matrix, b_matrix = displacement_point_BCs(A_matrix, b_matrix, k, edges, xy)\n",
    "\n",
    "        # Bottom Left: Left\n",
    "        elif boundary_point_index().bottom_left_left(k):\n",
    "            edges = [\"l\", \"b\"]\n",
    "            \n",
    "            if BC_settings(edges[0]).traction:\n",
    "                A_matrix, b_matrix = traction_point_BCs(A_matrix, b_matrix, k, edges, xy, u_previous)\n",
    "\n",
    "            elif BC_settings(edges[0]).fixed_displacement:\n",
    "                A_matrix, b_matrix = displacement_point_BCs(A_matrix, b_matrix, k, edges, xy)\n",
    "            \n",
    "        # Bottom Right: Right\n",
    "        elif boundary_point_index().bottom_right_right(k):\n",
    "            edges = [\"r\", \"b\"]\n",
    "\n",
    "            if BC_settings(edges[0]).traction:\n",
    "                A_matrix, b_matrix = traction_point_BCs(A_matrix, b_matrix, k, edges, xy, u_previous)\n",
    "\n",
    "            elif BC_settings(edges[0]).fixed_displacement:\n",
    "                A_matrix, b_matrix = displacement_point_BCs(A_matrix, b_matrix, k, edges, xy)\n",
    "\n",
    "        # Bottom Right: Bottom\n",
    "        elif boundary_point_index().bottom_right_bottom(k):\n",
    "            edges = [\"b\", \"r\"]\n",
    "\n",
    "            if BC_settings(edges[0]).traction:\n",
    "                A_matrix, b_matrix = traction_point_BCs(A_matrix, b_matrix, k, edges, xy, u_previous) \n",
    "\n",
    "            elif BC_settings(edges[0]).fixed_displacement:\n",
    "                A_matrix, b_matrix = displacement_point_BCs(A_matrix, b_matrix, k, edges, xy)\n",
    "\n",
    "        # Top Left: Left\n",
    "        elif boundary_point_index().top_left_left(k):\n",
    "            edges = [\"l\", \"t\"]\n",
    "\n",
    "            if BC_settings(edges[0]).traction:\n",
    "                A_matrix, b_matrix = traction_point_BCs(A_matrix, b_matrix, k, edges, xy, u_previous)\n",
    "\n",
    "            elif BC_settings(edges[0]).fixed_displacement:\n",
    "                A_matrix, b_matrix = displacement_point_BCs(A_matrix, b_matrix, k, edges, xy)\n",
    "\n",
    "        # Top Left: Top\n",
    "        elif boundary_point_index().top_left_top(k):\n",
    "            edges = [\"t\", \"l\"]\n",
    "\n",
    "            if BC_settings(edges[0]).traction:  \n",
    "                A_matrix, b_matrix = traction_point_BCs(A_matrix, b_matrix, k, edges, xy, u_previous)\n",
    "\n",
    "            elif BC_settings(edges[0]).fixed_displacement:\n",
    "                A_matrix, b_matrix = displacement_point_BCs(A_matrix, b_matrix, k, edges, xy)\n",
    "\n",
    "        # Top Right: Right\n",
    "        elif boundary_point_index().top_right_right(k):\n",
    "            edges = [\"r\", \"t\"]\n",
    "\n",
    "            if BC_settings(edges[0]).traction:  \n",
    "                A_matrix, b_matrix = traction_point_BCs(A_matrix, b_matrix, k, edges, xy, u_previous)\n",
    "\n",
    "            elif BC_settings(edges[0]).fixed_displacement:\n",
    "                A_matrix, b_matrix = displacement_point_BCs(A_matrix, b_matrix, k, edges, xy)\n",
    "\n",
    "        # Top Right: Top        \n",
    "        elif boundary_point_index().top_right_top(k):\n",
    "            edges = [\"t\", \"r\"]\n",
    "\n",
    "            if BC_settings(edges[0]).traction:  \n",
    "                A_matrix, b_matrix = traction_point_BCs(A_matrix, b_matrix, k, edges, xy, u_previous)\n",
    "\n",
    "            elif BC_settings(edges[0]).fixed_displacement:\n",
    "                A_matrix, b_matrix = displacement_point_BCs(A_matrix, b_matrix, k, edges, xy)\n",
    "\n",
    "        # # Corner Points\n",
    "\n",
    "        # If on of the edges uses fixed displacement this BC is used, if both edges use traction an interpolation is used\n",
    "\n",
    "        elif boundary_point_index().bottom_left_corner(k):\n",
    "\n",
    "            edges = [\"b\", \"l\"]\n",
    "\n",
    "            #print(str(k) + \": Bottom Left Corner Point on Boundary\")\n",
    "                    \n",
    "            if BC_settings(edges[0]).fixed_displacement | BC_settings(edges[1]).fixed_displacement:\n",
    "                for i in [0,1]:                 \n",
    "                    if BC_settings(edges[i]).fixed_displacement:\n",
    "                        edges = [edges[i]]\n",
    "                        A_matrix, b_matrix = displacement_point_BCs(A_matrix, b_matrix, k, edges, xy)\n",
    "            else: \n",
    "                A_matrix[k,k] = 4*fac\n",
    "\n",
    "                A_matrix[k,index(k).n] = 2*fac\n",
    "                A_matrix[k,index(k).e] = 2*fac\n",
    "\n",
    "                A_matrix[k,index(k).ne] = -15*fac\n",
    "\n",
    "                A_matrix[k,index(k).dir([\"n\", \"n\"])] = 2*fac \n",
    "                A_matrix[k,index(k).dir([\"e\", \"e\"])] = 2*fac\n",
    "\n",
    "                A_matrix[k,index(k).dir([\"n\", \"ne\"])] = 1*fac\n",
    "                A_matrix[k,index(k).dir([\"ne\", \"ne\"])] = 1*fac\n",
    "                A_matrix[k,index(k).dir([\"e\", \"ne\"])] = 1*fac\n",
    "\n",
    "                b_matrix[k] = 0\n",
    "\n",
    "            # edges = [\"l\"]\n",
    "\n",
    "            # A_matrix, b_matrix = displacement_point_BCs(A_matrix, b_matrix, k, edges, xy)\n",
    "\n",
    "        elif boundary_point_index().bottom_right_corner(k):\n",
    "            edges = [\"b\", \"r\"]\n",
    "            \n",
    "            if BC_settings(edges[0]).fixed_displacement | BC_settings(edges[1]).fixed_displacement:\n",
    "                for i in [0,1]:                 \n",
    "                    if BC_settings(edges[i]).fixed_displacement:\n",
    "                        edges = [edges[i]]\n",
    "                        A_matrix, b_matrix = displacement_point_BCs(A_matrix, b_matrix, k, edges, xy)\n",
    "            else: \n",
    "                A_matrix[k,k] = 4*fac\n",
    "\n",
    "                A_matrix[k,index(k).n] = 2 *fac\n",
    "                A_matrix[k,index(k).w] = 2*fac\n",
    "\n",
    "                A_matrix[k,index(k).nw] = -15*fac\n",
    "\n",
    "                A_matrix[k,index(k).dir([\"n\", \"n\"])] = 2 *fac\n",
    "                A_matrix[k,index(k).dir([\"w\", \"w\"])] = 2*fac\n",
    "\n",
    "                A_matrix[k,index(k).dir([\"n\", \"nw\"])] = 1*fac\n",
    "                A_matrix[k,index(k).dir([\"nw\", \"nw\"])] = 1*fac\n",
    "                A_matrix[k,index(k).dir([\"w\", \"nw\"])] = 1*fac\n",
    "\n",
    "                b_matrix[k] = 0\n",
    "\n",
    "        elif boundary_point_index().top_left_corner(k):\n",
    "\n",
    "            edges = [\"t\", \"l\"]\n",
    "            \n",
    "            if BC_settings(edges[0]).fixed_displacement | BC_settings(edges[1]).fixed_displacement:\n",
    "                for i in [0,1]:                 \n",
    "                    if BC_settings(edges[i]).fixed_displacement:\n",
    "                        edges = [edges[i]]\n",
    "                        A_matrix, b_matrix = displacement_point_BCs(A_matrix, b_matrix, k, edges, xy)\n",
    "            else: \n",
    "                A_matrix[k,k] = 4*fac\n",
    "\n",
    "                A_matrix[k,index(k).s] = 2 *fac\n",
    "                A_matrix[k,index(k).e] = 2*fac\n",
    "\n",
    "                A_matrix[k,index(k).se] = -15*fac\n",
    "\n",
    "                A_matrix[k,index(k).dir([\"s\", \"s\"])] = 2 *fac\n",
    "                A_matrix[k,index(k).dir([\"e\", \"e\"])] = 2*fac\n",
    "\n",
    "                A_matrix[k,index(k).dir([\"s\", \"se\"])] = 1*fac\n",
    "                A_matrix[k,index(k).dir([\"se\", \"se\"])] = 1*fac\n",
    "                A_matrix[k,index(k).dir([\"e\", \"se\"])] = 1*fac\n",
    "\n",
    "                b_matrix[k] = 0\n",
    "\n",
    "        elif boundary_point_index().top_right_corner(k):\n",
    "\n",
    "            edges = [\"t\", \"r\"]\n",
    "            \n",
    "            if BC_settings(edges[0]).fixed_displacement | BC_settings(edges[1]).fixed_displacement:\n",
    "                for i in [0,1]:                 \n",
    "                    if BC_settings(edges[i]).fixed_displacement:\n",
    "                        edges = [edges[i]]\n",
    "                        A_matrix, b_matrix = displacement_point_BCs(A_matrix, b_matrix, k, edges, xy)\n",
    "            else: \n",
    "                A_matrix[k,k] = 4*fac\n",
    "\n",
    "                A_matrix[k,index(k).s] = 2 *fac\n",
    "                A_matrix[k,index(k).w] = 2*fac\n",
    "\n",
    "                A_matrix[k,index(k).sw] = -15*fac\n",
    "\n",
    "                A_matrix[k,index(k).dir([\"s\", \"s\"])] = 2 *fac\n",
    "                A_matrix[k,index(k).dir([\"w\", \"w\"])] = 2*fac\n",
    "\n",
    "                A_matrix[k,index(k).dir([\"s\", \"sw\"])] = 1*fac\n",
    "                A_matrix[k,index(k).dir([\"sw\", \"sw\"])] = 1*fac\n",
    "                A_matrix[k,index(k).dir([\"w\", \"sw\"])] = 1*fac\n",
    "\n",
    "                b_matrix[k] = 0      \n",
    "            # # \n",
    "            \n",
    "            # edges = [\"l\"]\n",
    "\n",
    "            # A_matrix[k,k] = 1\n",
    "            # b_matrix[k] = edge_U(edges, xy).BC  \n",
    "\n",
    "        else:\n",
    "\n",
    "            #print(str(k) + \": NO BC Cell\")\n",
    "\n",
    "            b_matrix[k] = (\n",
    "                            A.b_temp(u_old, u_old_old, k, xy)\n",
    "                            +\n",
    "                            A.b_diff(k, xy, u_previous)\n",
    "                        )\n",
    "\n",
    "    return A_matrix, b_matrix\n"
   ]
  },
  {
   "cell_type": "code",
   "execution_count": 96,
   "metadata": {},
   "outputs": [
    {
     "name": "stdout",
     "output_type": "stream",
     "text": [
      "\n",
      "Time = 0.0\n"
     ]
    },
    {
     "name": "stderr",
     "output_type": "stream",
     "text": [
      "/home/scottlevie/miniconda3/lib/python3.9/site-packages/scipy/sparse/linalg/dsolve/linsolve.py:144: SparseEfficiencyWarning:\n",
      "\n",
      "spsolve requires A be CSC or CSR matrix format\n",
      "\n"
     ]
    },
    {
     "name": "stdout",
     "output_type": "stream",
     "text": [
      "icorr = 100, Residual = 0.00443361687703348710, normFactor = 0.00000084914591899747, moving average = 3274357222939.13330078125000000000, time = 0.00000\n",
      "-0.004432616877033487\n",
      "icorr = 200, Residual = 0.00105823702001946207, normFactor = 0.00000113542916051902, moving average = 0.01847881998127937422, time = 0.00000\n",
      "-0.0010572370200194622\n",
      "icorr = 300, Residual = 0.00031262523669761964, normFactor = 0.00000122688823479301, moving average = 0.00489800869416003905, time = 0.00000\n",
      "-0.0003116252366976196\n",
      "icorr = 400, Residual = 0.00009742759720022977, normFactor = 0.00000125670463570933, moving average = 0.00148577310644515729, time = 0.00000\n",
      "-9.642759720022977e-05\n",
      "icorr = 500, Residual = 0.00003086214100922435, normFactor = 0.00000126641291795196, moving average = 0.00046670158925395610, time = 0.00000\n",
      "-2.9862141009224354e-05\n",
      "icorr = 600, Residual = 0.00000982767436584144, normFactor = 0.00000126951196720474, moving average = 0.00014821849155089112, time = 0.00000\n",
      "-8.827674365841435e-06\n",
      "icorr = 700, Residual = 0.00000313471916387398, normFactor = 0.00000127050123677178, moving average = 0.00004723693973070094, time = 0.00000\n",
      "-2.1347191638739824e-06\n",
      "icorr = 800, Residual = 0.00000100040736565879, normFactor = 0.00000127081702855307, moving average = 0.00001507101798579899, time = 0.00000\n",
      "-4.0736565878893946e-10\n",
      "icorr = 802, Residual = 0.00000097781672577351, normFactor = 0.00000127082037189329, moving average = 0.00001507101798579899, time = 0.00000\n",
      "\n",
      "Time = 1.0\n",
      "icorr = 2, Residual = 0.00000098300270870328, normFactor = 0.00000127082372628291, moving average = 0.00001507101798579899, time = 1.00000\n"
     ]
    },
    {
     "data": {
      "application/vnd.plotly.v1+json": {
       "config": {
        "plotlyServerURL": "https://plot.ly"
       },
       "data": [
        {
         "type": "surface",
         "x": [
          [
           0,
           0.02,
           0.06,
           0.09999999999999999,
           0.13999999999999999,
           0.17999999999999997,
           0.21999999999999995,
           0.25999999999999995,
           0.3,
           0.33999999999999997,
           0.37999999999999995,
           0.41999999999999993,
           0.45999999999999996,
           0.49999999999999994,
           0.5399999999999999,
           0.58,
           0.6199999999999999,
           0.6599999999999999,
           0.7,
           0.7399999999999999,
           0.7799999999999999,
           0.8199999999999998,
           0.8599999999999999,
           0.8999999999999999,
           0.9399999999999998,
           0.9799999999999999,
           1.0199999999999998,
           1.0599999999999998,
           1.0999999999999999,
           1.14,
           1.18,
           1.2199999999999998,
           1.2599999999999998,
           1.2999999999999998,
           1.3399999999999999,
           1.38,
           1.4199999999999997,
           1.4599999999999997,
           1.4999999999999998,
           1.5399999999999998,
           1.5799999999999998,
           1.6199999999999997,
           1.6599999999999997,
           1.6999999999999997,
           1.7399999999999998,
           1.7799999999999998,
           1.8199999999999998,
           1.8599999999999997,
           1.8999999999999997,
           1.9399999999999997,
           1.9799999999999998,
           2
          ],
          [
           0,
           0.02,
           0.06,
           0.09999999999999999,
           0.13999999999999999,
           0.17999999999999997,
           0.21999999999999995,
           0.25999999999999995,
           0.3,
           0.33999999999999997,
           0.37999999999999995,
           0.41999999999999993,
           0.45999999999999996,
           0.49999999999999994,
           0.5399999999999999,
           0.58,
           0.6199999999999999,
           0.6599999999999999,
           0.7,
           0.7399999999999999,
           0.7799999999999999,
           0.8199999999999998,
           0.8599999999999999,
           0.8999999999999999,
           0.9399999999999998,
           0.9799999999999999,
           1.0199999999999998,
           1.0599999999999998,
           1.0999999999999999,
           1.14,
           1.18,
           1.2199999999999998,
           1.2599999999999998,
           1.2999999999999998,
           1.3399999999999999,
           1.38,
           1.4199999999999997,
           1.4599999999999997,
           1.4999999999999998,
           1.5399999999999998,
           1.5799999999999998,
           1.6199999999999997,
           1.6599999999999997,
           1.6999999999999997,
           1.7399999999999998,
           1.7799999999999998,
           1.8199999999999998,
           1.8599999999999997,
           1.8999999999999997,
           1.9399999999999997,
           1.9799999999999998,
           2
          ],
          [
           0,
           0.02,
           0.06,
           0.09999999999999999,
           0.13999999999999999,
           0.17999999999999997,
           0.21999999999999995,
           0.25999999999999995,
           0.3,
           0.33999999999999997,
           0.37999999999999995,
           0.41999999999999993,
           0.45999999999999996,
           0.49999999999999994,
           0.5399999999999999,
           0.58,
           0.6199999999999999,
           0.6599999999999999,
           0.7,
           0.7399999999999999,
           0.7799999999999999,
           0.8199999999999998,
           0.8599999999999999,
           0.8999999999999999,
           0.9399999999999998,
           0.9799999999999999,
           1.0199999999999998,
           1.0599999999999998,
           1.0999999999999999,
           1.14,
           1.18,
           1.2199999999999998,
           1.2599999999999998,
           1.2999999999999998,
           1.3399999999999999,
           1.38,
           1.4199999999999997,
           1.4599999999999997,
           1.4999999999999998,
           1.5399999999999998,
           1.5799999999999998,
           1.6199999999999997,
           1.6599999999999997,
           1.6999999999999997,
           1.7399999999999998,
           1.7799999999999998,
           1.8199999999999998,
           1.8599999999999997,
           1.8999999999999997,
           1.9399999999999997,
           1.9799999999999998,
           2
          ],
          [
           0,
           0.02,
           0.06,
           0.09999999999999999,
           0.13999999999999999,
           0.17999999999999997,
           0.21999999999999995,
           0.25999999999999995,
           0.3,
           0.33999999999999997,
           0.37999999999999995,
           0.41999999999999993,
           0.45999999999999996,
           0.49999999999999994,
           0.5399999999999999,
           0.58,
           0.6199999999999999,
           0.6599999999999999,
           0.7,
           0.7399999999999999,
           0.7799999999999999,
           0.8199999999999998,
           0.8599999999999999,
           0.8999999999999999,
           0.9399999999999998,
           0.9799999999999999,
           1.0199999999999998,
           1.0599999999999998,
           1.0999999999999999,
           1.14,
           1.18,
           1.2199999999999998,
           1.2599999999999998,
           1.2999999999999998,
           1.3399999999999999,
           1.38,
           1.4199999999999997,
           1.4599999999999997,
           1.4999999999999998,
           1.5399999999999998,
           1.5799999999999998,
           1.6199999999999997,
           1.6599999999999997,
           1.6999999999999997,
           1.7399999999999998,
           1.7799999999999998,
           1.8199999999999998,
           1.8599999999999997,
           1.8999999999999997,
           1.9399999999999997,
           1.9799999999999998,
           2
          ],
          [
           0,
           0.02,
           0.06,
           0.09999999999999999,
           0.13999999999999999,
           0.17999999999999997,
           0.21999999999999995,
           0.25999999999999995,
           0.3,
           0.33999999999999997,
           0.37999999999999995,
           0.41999999999999993,
           0.45999999999999996,
           0.49999999999999994,
           0.5399999999999999,
           0.58,
           0.6199999999999999,
           0.6599999999999999,
           0.7,
           0.7399999999999999,
           0.7799999999999999,
           0.8199999999999998,
           0.8599999999999999,
           0.8999999999999999,
           0.9399999999999998,
           0.9799999999999999,
           1.0199999999999998,
           1.0599999999999998,
           1.0999999999999999,
           1.14,
           1.18,
           1.2199999999999998,
           1.2599999999999998,
           1.2999999999999998,
           1.3399999999999999,
           1.38,
           1.4199999999999997,
           1.4599999999999997,
           1.4999999999999998,
           1.5399999999999998,
           1.5799999999999998,
           1.6199999999999997,
           1.6599999999999997,
           1.6999999999999997,
           1.7399999999999998,
           1.7799999999999998,
           1.8199999999999998,
           1.8599999999999997,
           1.8999999999999997,
           1.9399999999999997,
           1.9799999999999998,
           2
          ],
          [
           0,
           0.02,
           0.06,
           0.09999999999999999,
           0.13999999999999999,
           0.17999999999999997,
           0.21999999999999995,
           0.25999999999999995,
           0.3,
           0.33999999999999997,
           0.37999999999999995,
           0.41999999999999993,
           0.45999999999999996,
           0.49999999999999994,
           0.5399999999999999,
           0.58,
           0.6199999999999999,
           0.6599999999999999,
           0.7,
           0.7399999999999999,
           0.7799999999999999,
           0.8199999999999998,
           0.8599999999999999,
           0.8999999999999999,
           0.9399999999999998,
           0.9799999999999999,
           1.0199999999999998,
           1.0599999999999998,
           1.0999999999999999,
           1.14,
           1.18,
           1.2199999999999998,
           1.2599999999999998,
           1.2999999999999998,
           1.3399999999999999,
           1.38,
           1.4199999999999997,
           1.4599999999999997,
           1.4999999999999998,
           1.5399999999999998,
           1.5799999999999998,
           1.6199999999999997,
           1.6599999999999997,
           1.6999999999999997,
           1.7399999999999998,
           1.7799999999999998,
           1.8199999999999998,
           1.8599999999999997,
           1.8999999999999997,
           1.9399999999999997,
           1.9799999999999998,
           2
          ]
         ],
         "y": [
          [
           0,
           0,
           0,
           0,
           0,
           0,
           0,
           0,
           0,
           0,
           0,
           0,
           0,
           0,
           0,
           0,
           0,
           0,
           0,
           0,
           0,
           0,
           0,
           0,
           0,
           0,
           0,
           0,
           0,
           0,
           0,
           0,
           0,
           0,
           0,
           0,
           0,
           0,
           0,
           0,
           0,
           0,
           0,
           0,
           0,
           0,
           0,
           0,
           0,
           0,
           0,
           0
          ],
          [
           0.0125,
           0.0125,
           0.0125,
           0.0125,
           0.0125,
           0.0125,
           0.0125,
           0.0125,
           0.0125,
           0.0125,
           0.0125,
           0.0125,
           0.0125,
           0.0125,
           0.0125,
           0.0125,
           0.0125,
           0.0125,
           0.0125,
           0.0125,
           0.0125,
           0.0125,
           0.0125,
           0.0125,
           0.0125,
           0.0125,
           0.0125,
           0.0125,
           0.0125,
           0.0125,
           0.0125,
           0.0125,
           0.0125,
           0.0125,
           0.0125,
           0.0125,
           0.0125,
           0.0125,
           0.0125,
           0.0125,
           0.0125,
           0.0125,
           0.0125,
           0.0125,
           0.0125,
           0.0125,
           0.0125,
           0.0125,
           0.0125,
           0.0125,
           0.0125,
           0.0125
          ],
          [
           0.037500000000000006,
           0.037500000000000006,
           0.037500000000000006,
           0.037500000000000006,
           0.037500000000000006,
           0.037500000000000006,
           0.037500000000000006,
           0.037500000000000006,
           0.037500000000000006,
           0.037500000000000006,
           0.037500000000000006,
           0.037500000000000006,
           0.037500000000000006,
           0.037500000000000006,
           0.037500000000000006,
           0.037500000000000006,
           0.037500000000000006,
           0.037500000000000006,
           0.037500000000000006,
           0.037500000000000006,
           0.037500000000000006,
           0.037500000000000006,
           0.037500000000000006,
           0.037500000000000006,
           0.037500000000000006,
           0.037500000000000006,
           0.037500000000000006,
           0.037500000000000006,
           0.037500000000000006,
           0.037500000000000006,
           0.037500000000000006,
           0.037500000000000006,
           0.037500000000000006,
           0.037500000000000006,
           0.037500000000000006,
           0.037500000000000006,
           0.037500000000000006,
           0.037500000000000006,
           0.037500000000000006,
           0.037500000000000006,
           0.037500000000000006,
           0.037500000000000006,
           0.037500000000000006,
           0.037500000000000006,
           0.037500000000000006,
           0.037500000000000006,
           0.037500000000000006,
           0.037500000000000006,
           0.037500000000000006,
           0.037500000000000006,
           0.037500000000000006,
           0.037500000000000006
          ],
          [
           0.06250000000000001,
           0.06250000000000001,
           0.06250000000000001,
           0.06250000000000001,
           0.06250000000000001,
           0.06250000000000001,
           0.06250000000000001,
           0.06250000000000001,
           0.06250000000000001,
           0.06250000000000001,
           0.06250000000000001,
           0.06250000000000001,
           0.06250000000000001,
           0.06250000000000001,
           0.06250000000000001,
           0.06250000000000001,
           0.06250000000000001,
           0.06250000000000001,
           0.06250000000000001,
           0.06250000000000001,
           0.06250000000000001,
           0.06250000000000001,
           0.06250000000000001,
           0.06250000000000001,
           0.06250000000000001,
           0.06250000000000001,
           0.06250000000000001,
           0.06250000000000001,
           0.06250000000000001,
           0.06250000000000001,
           0.06250000000000001,
           0.06250000000000001,
           0.06250000000000001,
           0.06250000000000001,
           0.06250000000000001,
           0.06250000000000001,
           0.06250000000000001,
           0.06250000000000001,
           0.06250000000000001,
           0.06250000000000001,
           0.06250000000000001,
           0.06250000000000001,
           0.06250000000000001,
           0.06250000000000001,
           0.06250000000000001,
           0.06250000000000001,
           0.06250000000000001,
           0.06250000000000001,
           0.06250000000000001,
           0.06250000000000001,
           0.06250000000000001,
           0.06250000000000001
          ],
          [
           0.08750000000000001,
           0.08750000000000001,
           0.08750000000000001,
           0.08750000000000001,
           0.08750000000000001,
           0.08750000000000001,
           0.08750000000000001,
           0.08750000000000001,
           0.08750000000000001,
           0.08750000000000001,
           0.08750000000000001,
           0.08750000000000001,
           0.08750000000000001,
           0.08750000000000001,
           0.08750000000000001,
           0.08750000000000001,
           0.08750000000000001,
           0.08750000000000001,
           0.08750000000000001,
           0.08750000000000001,
           0.08750000000000001,
           0.08750000000000001,
           0.08750000000000001,
           0.08750000000000001,
           0.08750000000000001,
           0.08750000000000001,
           0.08750000000000001,
           0.08750000000000001,
           0.08750000000000001,
           0.08750000000000001,
           0.08750000000000001,
           0.08750000000000001,
           0.08750000000000001,
           0.08750000000000001,
           0.08750000000000001,
           0.08750000000000001,
           0.08750000000000001,
           0.08750000000000001,
           0.08750000000000001,
           0.08750000000000001,
           0.08750000000000001,
           0.08750000000000001,
           0.08750000000000001,
           0.08750000000000001,
           0.08750000000000001,
           0.08750000000000001,
           0.08750000000000001,
           0.08750000000000001,
           0.08750000000000001,
           0.08750000000000001,
           0.08750000000000001,
           0.08750000000000001
          ],
          [
           0.1,
           0.1,
           0.1,
           0.1,
           0.1,
           0.1,
           0.1,
           0.1,
           0.1,
           0.1,
           0.1,
           0.1,
           0.1,
           0.1,
           0.1,
           0.1,
           0.1,
           0.1,
           0.1,
           0.1,
           0.1,
           0.1,
           0.1,
           0.1,
           0.1,
           0.1,
           0.1,
           0.1,
           0.1,
           0.1,
           0.1,
           0.1,
           0.1,
           0.1,
           0.1,
           0.1,
           0.1,
           0.1,
           0.1,
           0.1,
           0.1,
           0.1,
           0.1,
           0.1,
           0.1,
           0.1,
           0.1,
           0.1,
           0.1,
           0.1,
           0.1,
           0.1
          ]
         ],
         "z": [
          [
           0,
           0.1775654796880861,
           0.5382442489592161,
           1.0223949596167645,
           1.642016850348087,
           2.38954319972156,
           3.248503835022324,
           4.199634828565341,
           5.223177660944087,
           6.299771931561196,
           7.410827775169843,
           8.538693912539173,
           9.666739043910297,
           10.77939378257317,
           11.862173448322316,
           12.901691045907732,
           13.885664957768954,
           14.802923664869859,
           15.643408731929402,
           16.398176744457473,
           17.05940059354577,
           17.620370343710743,
           18.075493827487236,
           18.42029705659055,
           18.65142450681064,
           18.76663931339779,
           18.764823400497377,
           18.645977559248568,
           18.411221482681988,
           18.0627937603536,
           17.60405183085705,
           17.0394718851644,
           16.37464870724444,
           15.616295429331549,
           14.772243165582443,
           13.85144046630933,
           12.863952499581037,
           11.820959806811922,
           10.734756373159119,
           9.618746560764398,
           8.487440087578948,
           7.356443511257922,
           6.242445172066074,
           5.163187228663373,
           4.13741060098695,
           3.1847388161164463,
           2.3254123432824736,
           1.5796221699557316,
           0.9656698934698891,
           0.4944872274448453,
           0.15761769871595502,
           0
          ],
          [
           2.6736355366793368e-15,
           0.116476149572559,
           0.44034821963632215,
           0.9082128275748212,
           1.5256899114162397,
           2.2777695569632326,
           3.1443215734746817,
           4.1043640660746075,
           5.137298211137509,
           6.223325871434812,
           7.343615027829287,
           8.480373210185757,
           9.616883000757733,
           10.737520421810615,
           11.827765024279051,
           12.874205700778486,
           13.864544176938736,
           14.787597183190162,
           15.633297846298865,
           16.392696603414073,
           17.05796181501826,
           17.622380182929586,
           18.080357039054338,
           18.42741654652154,
           18.660201840065188,
           18.776475123167245,
           18.775117733335673,
           18.656130182673625,
           18.420632177801156,
           18.070862620693553,
           17.61017958970995,
           17.04306029764996,
           16.375101020705316,
           15.613016988137048,
           14.764642216597029,
           13.838929263878201,
           12.845948862177805,
           11.796889366436238,
           10.704055910958385,
           9.580869091633287,
           8.441862849510429,
           7.302680955050275,
           6.18007092243315,
           5.0918729289816325,
           4.056998335219215,
           3.095384712577544,
           2.227892593565947,
           1.4760400659637913,
           0.8611986172764509,
           0.4015994536558434,
           0.09947466270114062,
           4.168500714731137e-15
          ],
          [
           3.622972318920111e-16,
           0.04239015484625745,
           0.30566987037130233,
           0.7621198023750971,
           1.382273765127074,
           2.1423060073966247,
           3.018958838142038,
           3.9899326070580834,
           5.033999269117919,
           6.131030592576146,
           7.262007805265193,
           8.409026075076747,
           9.55529688204293,
           10.685149341189293,
           11.784030966762217,
           12.838508127307696,
           13.836266323138611,
           14.766110358048707,
           15.617964446133023,
           16.382872277892943,
           17.052997060467202,
           17.621621541402195,
           18.08314802210555,
           18.43309836509227,
           18.66811399782343,
           18.785955915064612,
           18.78550468108661,
           18.6667604325926,
           18.43084288291988,
           18.079991327789127,
           17.617564652629223,
           17.048041341267393,
           16.377019485517472,
           15.611216794894297,
           14.758470605287469,
           13.82773788487659,
           12.829095234754995,
           11.77373888045961,
           10.673984648547863,
           9.543267918902739,
           8.396143537423697,
           7.248285662814403,
           6.116487499876119,
           5.018660825250126,
           3.9738350943626677,
           3.0021555784379417,
           2.1248788146734663,
           1.3643586450966223,
           0.7439937751687917,
           0.2881059772586346,
           0.02764415704045712,
           1.863605094233761e-15
          ],
          [
           1.872229237018308e-15,
           0.027644157051669397,
           0.2881059772786033,
           0.7439937752021216,
           1.3643586451460252,
           2.124878814740686,
           3.002155578523757,
           3.9738350944669927,
           5.018660825372113,
           6.116487500014295,
           7.248285662966767,
           8.396143537587824,
           9.543267919075893,
           10.67398464872708,
           11.77373888064183,
           12.829095234937085,
           13.827737885055457,
           14.758470605460065,
           15.611216795057743,
           16.377019485669067,
           17.04804134140466,
           17.617564652749934,
           18.079991327891417,
           18.430842883002256,
           18.666760432653923,
           18.78550468112615,
           18.785955915082045,
           18.668113997818892,
           18.433098365066332,
           18.08314802205917,
           17.62162154133669,
           17.052997060384293,
           16.382872277794686,
           15.61796444602177,
           14.766110357927015,
           13.836266323009255,
           12.838508127173613,
           11.78403096662641,
           10.685149341054828,
           9.555296881912813,
           8.40902607495391,
           7.262007805152365,
           6.131030592475756,
           5.033999269031997,
           3.9899326069881464,
           3.018958838088982,
           2.1423060073605806,
           1.3822737651072685,
           0.7621198023696424,
           0.3056698703767378,
           0.04239015485565579,
           2.652532534777476e-16
          ],
          [
           4.211331418450681e-15,
           0.09947466271675764,
           0.40159945369668076,
           0.8611986173370689,
           1.476040066043674,
           2.2278925936656564,
           3.095384712697417,
           4.056998335359018,
           5.091872929140495,
           6.180070922609621,
           7.302680955242392,
           8.441862849715804,
           9.580869091849205,
           10.704055911181902,
           11.796889366664267,
           12.845948862407186,
           13.838929264105783,
           14.76464221681971,
           15.613016988351857,
           16.375101020909455,
           17.04306029784083,
           17.6101795898852,
           18.07086262085118,
           18.420632177939513,
           18.656130182791422,
           18.775117733432,
           18.77647512324164,
           18.660201840117587,
           18.427416546552344,
           18.08035703906434,
           17.622380182919915,
           17.057961814990463,
           16.39269660337004,
           15.633297846240788,
           14.787597183120452,
           13.864544176860022,
           12.874205700693567,
           11.827765024190812,
           10.737520421722003,
           9.616883000671654,
           8.480373210105054,
           7.34361502775661,
           6.223325871372507,
           5.137298211087516,
           4.104364066038334,
           3.1443215734528454,
           2.277769556955642,
           1.5256899114214821,
           0.9082128275896485,
           0.4403482196543277,
           0.1164761495820403,
           7.540441485118456e-16
          ],
          [
           0,
           0.15761769873674505,
           0.49448722749530627,
           0.9656698935454148,
           1.5796221700542403,
           2.3254123434035425,
           3.184738816259982,
           4.1374106011525855,
           5.163187228850232,
           6.242445172272752,
           7.356443511482513,
           8.487440087819111,
           9.618746561017431,
           10.734756373422085,
           11.820959807081703,
           12.863952499854411,
           13.851440466583055,
           14.772243165853302,
           15.61629542959643,
           16.374648707500377,
           17.03947188540862,
           17.60405183108699,
           18.062793760567043,
           18.41122148287707,
           18.645977559423752,
           18.7648234006515,
           18.76663931353013,
           18.65142450692089,
           18.42029705667884,
           18.075493827554098,
           17.620370343757063,
           17.059400593572843,
           16.398176744466948,
           15.643408731923245,
           14.802923664850272,
           13.885664957738374,
           12.901691045868782,
           11.862173448277717,
           10.779393782525739,
           9.666739043862819,
           8.538693912494397,
           7.4108277751303415,
           6.299771931529247,
           5.223177660921573,
           4.199634828553587,
           3.2485038350219138,
           2.389543199732048,
           1.6420168503675707,
           1.0223949596411925,
           0.5382442489815163,
           0.1775654796989653,
           0
          ]
         ]
        }
       ],
       "layout": {
        "template": {
         "data": {
          "bar": [
           {
            "error_x": {
             "color": "#2a3f5f"
            },
            "error_y": {
             "color": "#2a3f5f"
            },
            "marker": {
             "line": {
              "color": "#E5ECF6",
              "width": 0.5
             },
             "pattern": {
              "fillmode": "overlay",
              "size": 10,
              "solidity": 0.2
             }
            },
            "type": "bar"
           }
          ],
          "barpolar": [
           {
            "marker": {
             "line": {
              "color": "#E5ECF6",
              "width": 0.5
             },
             "pattern": {
              "fillmode": "overlay",
              "size": 10,
              "solidity": 0.2
             }
            },
            "type": "barpolar"
           }
          ],
          "carpet": [
           {
            "aaxis": {
             "endlinecolor": "#2a3f5f",
             "gridcolor": "white",
             "linecolor": "white",
             "minorgridcolor": "white",
             "startlinecolor": "#2a3f5f"
            },
            "baxis": {
             "endlinecolor": "#2a3f5f",
             "gridcolor": "white",
             "linecolor": "white",
             "minorgridcolor": "white",
             "startlinecolor": "#2a3f5f"
            },
            "type": "carpet"
           }
          ],
          "choropleth": [
           {
            "colorbar": {
             "outlinewidth": 0,
             "ticks": ""
            },
            "type": "choropleth"
           }
          ],
          "contour": [
           {
            "colorbar": {
             "outlinewidth": 0,
             "ticks": ""
            },
            "colorscale": [
             [
              0,
              "#0d0887"
             ],
             [
              0.1111111111111111,
              "#46039f"
             ],
             [
              0.2222222222222222,
              "#7201a8"
             ],
             [
              0.3333333333333333,
              "#9c179e"
             ],
             [
              0.4444444444444444,
              "#bd3786"
             ],
             [
              0.5555555555555556,
              "#d8576b"
             ],
             [
              0.6666666666666666,
              "#ed7953"
             ],
             [
              0.7777777777777778,
              "#fb9f3a"
             ],
             [
              0.8888888888888888,
              "#fdca26"
             ],
             [
              1,
              "#f0f921"
             ]
            ],
            "type": "contour"
           }
          ],
          "contourcarpet": [
           {
            "colorbar": {
             "outlinewidth": 0,
             "ticks": ""
            },
            "type": "contourcarpet"
           }
          ],
          "heatmap": [
           {
            "colorbar": {
             "outlinewidth": 0,
             "ticks": ""
            },
            "colorscale": [
             [
              0,
              "#0d0887"
             ],
             [
              0.1111111111111111,
              "#46039f"
             ],
             [
              0.2222222222222222,
              "#7201a8"
             ],
             [
              0.3333333333333333,
              "#9c179e"
             ],
             [
              0.4444444444444444,
              "#bd3786"
             ],
             [
              0.5555555555555556,
              "#d8576b"
             ],
             [
              0.6666666666666666,
              "#ed7953"
             ],
             [
              0.7777777777777778,
              "#fb9f3a"
             ],
             [
              0.8888888888888888,
              "#fdca26"
             ],
             [
              1,
              "#f0f921"
             ]
            ],
            "type": "heatmap"
           }
          ],
          "heatmapgl": [
           {
            "colorbar": {
             "outlinewidth": 0,
             "ticks": ""
            },
            "colorscale": [
             [
              0,
              "#0d0887"
             ],
             [
              0.1111111111111111,
              "#46039f"
             ],
             [
              0.2222222222222222,
              "#7201a8"
             ],
             [
              0.3333333333333333,
              "#9c179e"
             ],
             [
              0.4444444444444444,
              "#bd3786"
             ],
             [
              0.5555555555555556,
              "#d8576b"
             ],
             [
              0.6666666666666666,
              "#ed7953"
             ],
             [
              0.7777777777777778,
              "#fb9f3a"
             ],
             [
              0.8888888888888888,
              "#fdca26"
             ],
             [
              1,
              "#f0f921"
             ]
            ],
            "type": "heatmapgl"
           }
          ],
          "histogram": [
           {
            "marker": {
             "pattern": {
              "fillmode": "overlay",
              "size": 10,
              "solidity": 0.2
             }
            },
            "type": "histogram"
           }
          ],
          "histogram2d": [
           {
            "colorbar": {
             "outlinewidth": 0,
             "ticks": ""
            },
            "colorscale": [
             [
              0,
              "#0d0887"
             ],
             [
              0.1111111111111111,
              "#46039f"
             ],
             [
              0.2222222222222222,
              "#7201a8"
             ],
             [
              0.3333333333333333,
              "#9c179e"
             ],
             [
              0.4444444444444444,
              "#bd3786"
             ],
             [
              0.5555555555555556,
              "#d8576b"
             ],
             [
              0.6666666666666666,
              "#ed7953"
             ],
             [
              0.7777777777777778,
              "#fb9f3a"
             ],
             [
              0.8888888888888888,
              "#fdca26"
             ],
             [
              1,
              "#f0f921"
             ]
            ],
            "type": "histogram2d"
           }
          ],
          "histogram2dcontour": [
           {
            "colorbar": {
             "outlinewidth": 0,
             "ticks": ""
            },
            "colorscale": [
             [
              0,
              "#0d0887"
             ],
             [
              0.1111111111111111,
              "#46039f"
             ],
             [
              0.2222222222222222,
              "#7201a8"
             ],
             [
              0.3333333333333333,
              "#9c179e"
             ],
             [
              0.4444444444444444,
              "#bd3786"
             ],
             [
              0.5555555555555556,
              "#d8576b"
             ],
             [
              0.6666666666666666,
              "#ed7953"
             ],
             [
              0.7777777777777778,
              "#fb9f3a"
             ],
             [
              0.8888888888888888,
              "#fdca26"
             ],
             [
              1,
              "#f0f921"
             ]
            ],
            "type": "histogram2dcontour"
           }
          ],
          "mesh3d": [
           {
            "colorbar": {
             "outlinewidth": 0,
             "ticks": ""
            },
            "type": "mesh3d"
           }
          ],
          "parcoords": [
           {
            "line": {
             "colorbar": {
              "outlinewidth": 0,
              "ticks": ""
             }
            },
            "type": "parcoords"
           }
          ],
          "pie": [
           {
            "automargin": true,
            "type": "pie"
           }
          ],
          "scatter": [
           {
            "marker": {
             "colorbar": {
              "outlinewidth": 0,
              "ticks": ""
             }
            },
            "type": "scatter"
           }
          ],
          "scatter3d": [
           {
            "line": {
             "colorbar": {
              "outlinewidth": 0,
              "ticks": ""
             }
            },
            "marker": {
             "colorbar": {
              "outlinewidth": 0,
              "ticks": ""
             }
            },
            "type": "scatter3d"
           }
          ],
          "scattercarpet": [
           {
            "marker": {
             "colorbar": {
              "outlinewidth": 0,
              "ticks": ""
             }
            },
            "type": "scattercarpet"
           }
          ],
          "scattergeo": [
           {
            "marker": {
             "colorbar": {
              "outlinewidth": 0,
              "ticks": ""
             }
            },
            "type": "scattergeo"
           }
          ],
          "scattergl": [
           {
            "marker": {
             "colorbar": {
              "outlinewidth": 0,
              "ticks": ""
             }
            },
            "type": "scattergl"
           }
          ],
          "scattermapbox": [
           {
            "marker": {
             "colorbar": {
              "outlinewidth": 0,
              "ticks": ""
             }
            },
            "type": "scattermapbox"
           }
          ],
          "scatterpolar": [
           {
            "marker": {
             "colorbar": {
              "outlinewidth": 0,
              "ticks": ""
             }
            },
            "type": "scatterpolar"
           }
          ],
          "scatterpolargl": [
           {
            "marker": {
             "colorbar": {
              "outlinewidth": 0,
              "ticks": ""
             }
            },
            "type": "scatterpolargl"
           }
          ],
          "scatterternary": [
           {
            "marker": {
             "colorbar": {
              "outlinewidth": 0,
              "ticks": ""
             }
            },
            "type": "scatterternary"
           }
          ],
          "surface": [
           {
            "colorbar": {
             "outlinewidth": 0,
             "ticks": ""
            },
            "colorscale": [
             [
              0,
              "#0d0887"
             ],
             [
              0.1111111111111111,
              "#46039f"
             ],
             [
              0.2222222222222222,
              "#7201a8"
             ],
             [
              0.3333333333333333,
              "#9c179e"
             ],
             [
              0.4444444444444444,
              "#bd3786"
             ],
             [
              0.5555555555555556,
              "#d8576b"
             ],
             [
              0.6666666666666666,
              "#ed7953"
             ],
             [
              0.7777777777777778,
              "#fb9f3a"
             ],
             [
              0.8888888888888888,
              "#fdca26"
             ],
             [
              1,
              "#f0f921"
             ]
            ],
            "type": "surface"
           }
          ],
          "table": [
           {
            "cells": {
             "fill": {
              "color": "#EBF0F8"
             },
             "line": {
              "color": "white"
             }
            },
            "header": {
             "fill": {
              "color": "#C8D4E3"
             },
             "line": {
              "color": "white"
             }
            },
            "type": "table"
           }
          ]
         },
         "layout": {
          "annotationdefaults": {
           "arrowcolor": "#2a3f5f",
           "arrowhead": 0,
           "arrowwidth": 1
          },
          "autotypenumbers": "strict",
          "coloraxis": {
           "colorbar": {
            "outlinewidth": 0,
            "ticks": ""
           }
          },
          "colorscale": {
           "diverging": [
            [
             0,
             "#8e0152"
            ],
            [
             0.1,
             "#c51b7d"
            ],
            [
             0.2,
             "#de77ae"
            ],
            [
             0.3,
             "#f1b6da"
            ],
            [
             0.4,
             "#fde0ef"
            ],
            [
             0.5,
             "#f7f7f7"
            ],
            [
             0.6,
             "#e6f5d0"
            ],
            [
             0.7,
             "#b8e186"
            ],
            [
             0.8,
             "#7fbc41"
            ],
            [
             0.9,
             "#4d9221"
            ],
            [
             1,
             "#276419"
            ]
           ],
           "sequential": [
            [
             0,
             "#0d0887"
            ],
            [
             0.1111111111111111,
             "#46039f"
            ],
            [
             0.2222222222222222,
             "#7201a8"
            ],
            [
             0.3333333333333333,
             "#9c179e"
            ],
            [
             0.4444444444444444,
             "#bd3786"
            ],
            [
             0.5555555555555556,
             "#d8576b"
            ],
            [
             0.6666666666666666,
             "#ed7953"
            ],
            [
             0.7777777777777778,
             "#fb9f3a"
            ],
            [
             0.8888888888888888,
             "#fdca26"
            ],
            [
             1,
             "#f0f921"
            ]
           ],
           "sequentialminus": [
            [
             0,
             "#0d0887"
            ],
            [
             0.1111111111111111,
             "#46039f"
            ],
            [
             0.2222222222222222,
             "#7201a8"
            ],
            [
             0.3333333333333333,
             "#9c179e"
            ],
            [
             0.4444444444444444,
             "#bd3786"
            ],
            [
             0.5555555555555556,
             "#d8576b"
            ],
            [
             0.6666666666666666,
             "#ed7953"
            ],
            [
             0.7777777777777778,
             "#fb9f3a"
            ],
            [
             0.8888888888888888,
             "#fdca26"
            ],
            [
             1,
             "#f0f921"
            ]
           ]
          },
          "colorway": [
           "#636efa",
           "#EF553B",
           "#00cc96",
           "#ab63fa",
           "#FFA15A",
           "#19d3f3",
           "#FF6692",
           "#B6E880",
           "#FF97FF",
           "#FECB52"
          ],
          "font": {
           "color": "#2a3f5f"
          },
          "geo": {
           "bgcolor": "white",
           "lakecolor": "white",
           "landcolor": "#E5ECF6",
           "showlakes": true,
           "showland": true,
           "subunitcolor": "white"
          },
          "hoverlabel": {
           "align": "left"
          },
          "hovermode": "closest",
          "mapbox": {
           "style": "light"
          },
          "paper_bgcolor": "white",
          "plot_bgcolor": "#E5ECF6",
          "polar": {
           "angularaxis": {
            "gridcolor": "white",
            "linecolor": "white",
            "ticks": ""
           },
           "bgcolor": "#E5ECF6",
           "radialaxis": {
            "gridcolor": "white",
            "linecolor": "white",
            "ticks": ""
           }
          },
          "scene": {
           "xaxis": {
            "backgroundcolor": "#E5ECF6",
            "gridcolor": "white",
            "gridwidth": 2,
            "linecolor": "white",
            "showbackground": true,
            "ticks": "",
            "zerolinecolor": "white"
           },
           "yaxis": {
            "backgroundcolor": "#E5ECF6",
            "gridcolor": "white",
            "gridwidth": 2,
            "linecolor": "white",
            "showbackground": true,
            "ticks": "",
            "zerolinecolor": "white"
           },
           "zaxis": {
            "backgroundcolor": "#E5ECF6",
            "gridcolor": "white",
            "gridwidth": 2,
            "linecolor": "white",
            "showbackground": true,
            "ticks": "",
            "zerolinecolor": "white"
           }
          },
          "shapedefaults": {
           "line": {
            "color": "#2a3f5f"
           }
          },
          "ternary": {
           "aaxis": {
            "gridcolor": "white",
            "linecolor": "white",
            "ticks": ""
           },
           "baxis": {
            "gridcolor": "white",
            "linecolor": "white",
            "ticks": ""
           },
           "bgcolor": "#E5ECF6",
           "caxis": {
            "gridcolor": "white",
            "linecolor": "white",
            "ticks": ""
           }
          },
          "title": {
           "x": 0.05
          },
          "xaxis": {
           "automargin": true,
           "gridcolor": "white",
           "linecolor": "white",
           "ticks": "",
           "title": {
            "standoff": 15
           },
           "zerolinecolor": "white",
           "zerolinewidth": 2
          },
          "yaxis": {
           "automargin": true,
           "gridcolor": "white",
           "linecolor": "white",
           "ticks": "",
           "title": {
            "standoff": 15
           },
           "zerolinecolor": "white",
           "zerolinewidth": 2
          }
         }
        }
       }
      },
      "text/html": [
       "<div>                            <div id=\"54aad5b1-fa5b-41ad-b6a4-982d628ff539\" class=\"plotly-graph-div\" style=\"height:525px; width:100%;\"></div>            <script type=\"text/javascript\">                require([\"plotly\"], function(Plotly) {                    window.PLOTLYENV=window.PLOTLYENV || {};                                    if (document.getElementById(\"54aad5b1-fa5b-41ad-b6a4-982d628ff539\")) {                    Plotly.newPlot(                        \"54aad5b1-fa5b-41ad-b6a4-982d628ff539\",                        [{\"x\":[[0.0,0.02,0.06,0.09999999999999999,0.13999999999999999,0.17999999999999997,0.21999999999999995,0.25999999999999995,0.3,0.33999999999999997,0.37999999999999995,0.41999999999999993,0.45999999999999996,0.49999999999999994,0.5399999999999999,0.58,0.6199999999999999,0.6599999999999999,0.7,0.7399999999999999,0.7799999999999999,0.8199999999999998,0.8599999999999999,0.8999999999999999,0.9399999999999998,0.9799999999999999,1.0199999999999998,1.0599999999999998,1.0999999999999999,1.14,1.18,1.2199999999999998,1.2599999999999998,1.2999999999999998,1.3399999999999999,1.38,1.4199999999999997,1.4599999999999997,1.4999999999999998,1.5399999999999998,1.5799999999999998,1.6199999999999997,1.6599999999999997,1.6999999999999997,1.7399999999999998,1.7799999999999998,1.8199999999999998,1.8599999999999997,1.8999999999999997,1.9399999999999997,1.9799999999999998,2.0],[0.0,0.02,0.06,0.09999999999999999,0.13999999999999999,0.17999999999999997,0.21999999999999995,0.25999999999999995,0.3,0.33999999999999997,0.37999999999999995,0.41999999999999993,0.45999999999999996,0.49999999999999994,0.5399999999999999,0.58,0.6199999999999999,0.6599999999999999,0.7,0.7399999999999999,0.7799999999999999,0.8199999999999998,0.8599999999999999,0.8999999999999999,0.9399999999999998,0.9799999999999999,1.0199999999999998,1.0599999999999998,1.0999999999999999,1.14,1.18,1.2199999999999998,1.2599999999999998,1.2999999999999998,1.3399999999999999,1.38,1.4199999999999997,1.4599999999999997,1.4999999999999998,1.5399999999999998,1.5799999999999998,1.6199999999999997,1.6599999999999997,1.6999999999999997,1.7399999999999998,1.7799999999999998,1.8199999999999998,1.8599999999999997,1.8999999999999997,1.9399999999999997,1.9799999999999998,2.0],[0.0,0.02,0.06,0.09999999999999999,0.13999999999999999,0.17999999999999997,0.21999999999999995,0.25999999999999995,0.3,0.33999999999999997,0.37999999999999995,0.41999999999999993,0.45999999999999996,0.49999999999999994,0.5399999999999999,0.58,0.6199999999999999,0.6599999999999999,0.7,0.7399999999999999,0.7799999999999999,0.8199999999999998,0.8599999999999999,0.8999999999999999,0.9399999999999998,0.9799999999999999,1.0199999999999998,1.0599999999999998,1.0999999999999999,1.14,1.18,1.2199999999999998,1.2599999999999998,1.2999999999999998,1.3399999999999999,1.38,1.4199999999999997,1.4599999999999997,1.4999999999999998,1.5399999999999998,1.5799999999999998,1.6199999999999997,1.6599999999999997,1.6999999999999997,1.7399999999999998,1.7799999999999998,1.8199999999999998,1.8599999999999997,1.8999999999999997,1.9399999999999997,1.9799999999999998,2.0],[0.0,0.02,0.06,0.09999999999999999,0.13999999999999999,0.17999999999999997,0.21999999999999995,0.25999999999999995,0.3,0.33999999999999997,0.37999999999999995,0.41999999999999993,0.45999999999999996,0.49999999999999994,0.5399999999999999,0.58,0.6199999999999999,0.6599999999999999,0.7,0.7399999999999999,0.7799999999999999,0.8199999999999998,0.8599999999999999,0.8999999999999999,0.9399999999999998,0.9799999999999999,1.0199999999999998,1.0599999999999998,1.0999999999999999,1.14,1.18,1.2199999999999998,1.2599999999999998,1.2999999999999998,1.3399999999999999,1.38,1.4199999999999997,1.4599999999999997,1.4999999999999998,1.5399999999999998,1.5799999999999998,1.6199999999999997,1.6599999999999997,1.6999999999999997,1.7399999999999998,1.7799999999999998,1.8199999999999998,1.8599999999999997,1.8999999999999997,1.9399999999999997,1.9799999999999998,2.0],[0.0,0.02,0.06,0.09999999999999999,0.13999999999999999,0.17999999999999997,0.21999999999999995,0.25999999999999995,0.3,0.33999999999999997,0.37999999999999995,0.41999999999999993,0.45999999999999996,0.49999999999999994,0.5399999999999999,0.58,0.6199999999999999,0.6599999999999999,0.7,0.7399999999999999,0.7799999999999999,0.8199999999999998,0.8599999999999999,0.8999999999999999,0.9399999999999998,0.9799999999999999,1.0199999999999998,1.0599999999999998,1.0999999999999999,1.14,1.18,1.2199999999999998,1.2599999999999998,1.2999999999999998,1.3399999999999999,1.38,1.4199999999999997,1.4599999999999997,1.4999999999999998,1.5399999999999998,1.5799999999999998,1.6199999999999997,1.6599999999999997,1.6999999999999997,1.7399999999999998,1.7799999999999998,1.8199999999999998,1.8599999999999997,1.8999999999999997,1.9399999999999997,1.9799999999999998,2.0],[0.0,0.02,0.06,0.09999999999999999,0.13999999999999999,0.17999999999999997,0.21999999999999995,0.25999999999999995,0.3,0.33999999999999997,0.37999999999999995,0.41999999999999993,0.45999999999999996,0.49999999999999994,0.5399999999999999,0.58,0.6199999999999999,0.6599999999999999,0.7,0.7399999999999999,0.7799999999999999,0.8199999999999998,0.8599999999999999,0.8999999999999999,0.9399999999999998,0.9799999999999999,1.0199999999999998,1.0599999999999998,1.0999999999999999,1.14,1.18,1.2199999999999998,1.2599999999999998,1.2999999999999998,1.3399999999999999,1.38,1.4199999999999997,1.4599999999999997,1.4999999999999998,1.5399999999999998,1.5799999999999998,1.6199999999999997,1.6599999999999997,1.6999999999999997,1.7399999999999998,1.7799999999999998,1.8199999999999998,1.8599999999999997,1.8999999999999997,1.9399999999999997,1.9799999999999998,2.0]],\"y\":[[0.0,0.0,0.0,0.0,0.0,0.0,0.0,0.0,0.0,0.0,0.0,0.0,0.0,0.0,0.0,0.0,0.0,0.0,0.0,0.0,0.0,0.0,0.0,0.0,0.0,0.0,0.0,0.0,0.0,0.0,0.0,0.0,0.0,0.0,0.0,0.0,0.0,0.0,0.0,0.0,0.0,0.0,0.0,0.0,0.0,0.0,0.0,0.0,0.0,0.0,0.0,0.0],[0.0125,0.0125,0.0125,0.0125,0.0125,0.0125,0.0125,0.0125,0.0125,0.0125,0.0125,0.0125,0.0125,0.0125,0.0125,0.0125,0.0125,0.0125,0.0125,0.0125,0.0125,0.0125,0.0125,0.0125,0.0125,0.0125,0.0125,0.0125,0.0125,0.0125,0.0125,0.0125,0.0125,0.0125,0.0125,0.0125,0.0125,0.0125,0.0125,0.0125,0.0125,0.0125,0.0125,0.0125,0.0125,0.0125,0.0125,0.0125,0.0125,0.0125,0.0125,0.0125],[0.037500000000000006,0.037500000000000006,0.037500000000000006,0.037500000000000006,0.037500000000000006,0.037500000000000006,0.037500000000000006,0.037500000000000006,0.037500000000000006,0.037500000000000006,0.037500000000000006,0.037500000000000006,0.037500000000000006,0.037500000000000006,0.037500000000000006,0.037500000000000006,0.037500000000000006,0.037500000000000006,0.037500000000000006,0.037500000000000006,0.037500000000000006,0.037500000000000006,0.037500000000000006,0.037500000000000006,0.037500000000000006,0.037500000000000006,0.037500000000000006,0.037500000000000006,0.037500000000000006,0.037500000000000006,0.037500000000000006,0.037500000000000006,0.037500000000000006,0.037500000000000006,0.037500000000000006,0.037500000000000006,0.037500000000000006,0.037500000000000006,0.037500000000000006,0.037500000000000006,0.037500000000000006,0.037500000000000006,0.037500000000000006,0.037500000000000006,0.037500000000000006,0.037500000000000006,0.037500000000000006,0.037500000000000006,0.037500000000000006,0.037500000000000006,0.037500000000000006,0.037500000000000006],[0.06250000000000001,0.06250000000000001,0.06250000000000001,0.06250000000000001,0.06250000000000001,0.06250000000000001,0.06250000000000001,0.06250000000000001,0.06250000000000001,0.06250000000000001,0.06250000000000001,0.06250000000000001,0.06250000000000001,0.06250000000000001,0.06250000000000001,0.06250000000000001,0.06250000000000001,0.06250000000000001,0.06250000000000001,0.06250000000000001,0.06250000000000001,0.06250000000000001,0.06250000000000001,0.06250000000000001,0.06250000000000001,0.06250000000000001,0.06250000000000001,0.06250000000000001,0.06250000000000001,0.06250000000000001,0.06250000000000001,0.06250000000000001,0.06250000000000001,0.06250000000000001,0.06250000000000001,0.06250000000000001,0.06250000000000001,0.06250000000000001,0.06250000000000001,0.06250000000000001,0.06250000000000001,0.06250000000000001,0.06250000000000001,0.06250000000000001,0.06250000000000001,0.06250000000000001,0.06250000000000001,0.06250000000000001,0.06250000000000001,0.06250000000000001,0.06250000000000001,0.06250000000000001],[0.08750000000000001,0.08750000000000001,0.08750000000000001,0.08750000000000001,0.08750000000000001,0.08750000000000001,0.08750000000000001,0.08750000000000001,0.08750000000000001,0.08750000000000001,0.08750000000000001,0.08750000000000001,0.08750000000000001,0.08750000000000001,0.08750000000000001,0.08750000000000001,0.08750000000000001,0.08750000000000001,0.08750000000000001,0.08750000000000001,0.08750000000000001,0.08750000000000001,0.08750000000000001,0.08750000000000001,0.08750000000000001,0.08750000000000001,0.08750000000000001,0.08750000000000001,0.08750000000000001,0.08750000000000001,0.08750000000000001,0.08750000000000001,0.08750000000000001,0.08750000000000001,0.08750000000000001,0.08750000000000001,0.08750000000000001,0.08750000000000001,0.08750000000000001,0.08750000000000001,0.08750000000000001,0.08750000000000001,0.08750000000000001,0.08750000000000001,0.08750000000000001,0.08750000000000001,0.08750000000000001,0.08750000000000001,0.08750000000000001,0.08750000000000001,0.08750000000000001,0.08750000000000001],[0.1,0.1,0.1,0.1,0.1,0.1,0.1,0.1,0.1,0.1,0.1,0.1,0.1,0.1,0.1,0.1,0.1,0.1,0.1,0.1,0.1,0.1,0.1,0.1,0.1,0.1,0.1,0.1,0.1,0.1,0.1,0.1,0.1,0.1,0.1,0.1,0.1,0.1,0.1,0.1,0.1,0.1,0.1,0.1,0.1,0.1,0.1,0.1,0.1,0.1,0.1,0.1]],\"z\":[[0.0,0.1775654796880861,0.5382442489592161,1.0223949596167645,1.642016850348087,2.38954319972156,3.248503835022324,4.199634828565341,5.223177660944087,6.299771931561196,7.410827775169843,8.538693912539173,9.666739043910297,10.77939378257317,11.862173448322316,12.901691045907732,13.885664957768954,14.802923664869859,15.643408731929402,16.398176744457473,17.05940059354577,17.620370343710743,18.075493827487236,18.42029705659055,18.65142450681064,18.76663931339779,18.764823400497377,18.645977559248568,18.411221482681988,18.0627937603536,17.60405183085705,17.0394718851644,16.37464870724444,15.616295429331549,14.772243165582443,13.85144046630933,12.863952499581037,11.820959806811922,10.734756373159119,9.618746560764398,8.487440087578948,7.356443511257922,6.242445172066074,5.163187228663373,4.13741060098695,3.1847388161164463,2.3254123432824736,1.5796221699557316,0.9656698934698891,0.4944872274448453,0.15761769871595502,0.0],[2.6736355366793368e-15,0.116476149572559,0.44034821963632215,0.9082128275748212,1.5256899114162397,2.2777695569632326,3.1443215734746817,4.1043640660746075,5.137298211137509,6.223325871434812,7.343615027829287,8.480373210185757,9.616883000757733,10.737520421810615,11.827765024279051,12.874205700778486,13.864544176938736,14.787597183190162,15.633297846298865,16.392696603414073,17.05796181501826,17.622380182929586,18.080357039054338,18.42741654652154,18.660201840065188,18.776475123167245,18.775117733335673,18.656130182673625,18.420632177801156,18.070862620693553,17.61017958970995,17.04306029764996,16.375101020705316,15.613016988137048,14.764642216597029,13.838929263878201,12.845948862177805,11.796889366436238,10.704055910958385,9.580869091633287,8.441862849510429,7.302680955050275,6.18007092243315,5.0918729289816325,4.056998335219215,3.095384712577544,2.227892593565947,1.4760400659637913,0.8611986172764509,0.4015994536558434,0.09947466270114062,4.168500714731137e-15],[3.622972318920111e-16,0.04239015484625745,0.30566987037130233,0.7621198023750971,1.382273765127074,2.1423060073966247,3.018958838142038,3.9899326070580834,5.033999269117919,6.131030592576146,7.262007805265193,8.409026075076747,9.55529688204293,10.685149341189293,11.784030966762217,12.838508127307696,13.836266323138611,14.766110358048707,15.617964446133023,16.382872277892943,17.052997060467202,17.621621541402195,18.08314802210555,18.43309836509227,18.66811399782343,18.785955915064612,18.78550468108661,18.6667604325926,18.43084288291988,18.079991327789127,17.617564652629223,17.048041341267393,16.377019485517472,15.611216794894297,14.758470605287469,13.82773788487659,12.829095234754995,11.77373888045961,10.673984648547863,9.543267918902739,8.396143537423697,7.248285662814403,6.116487499876119,5.018660825250126,3.9738350943626677,3.0021555784379417,2.1248788146734663,1.3643586450966223,0.7439937751687917,0.2881059772586346,0.02764415704045712,1.863605094233761e-15],[1.872229237018308e-15,0.027644157051669397,0.2881059772786033,0.7439937752021216,1.3643586451460252,2.124878814740686,3.002155578523757,3.9738350944669927,5.018660825372113,6.116487500014295,7.248285662966767,8.396143537587824,9.543267919075893,10.67398464872708,11.77373888064183,12.829095234937085,13.827737885055457,14.758470605460065,15.611216795057743,16.377019485669067,17.04804134140466,17.617564652749934,18.079991327891417,18.430842883002256,18.666760432653923,18.78550468112615,18.785955915082045,18.668113997818892,18.433098365066332,18.08314802205917,17.62162154133669,17.052997060384293,16.382872277794686,15.61796444602177,14.766110357927015,13.836266323009255,12.838508127173613,11.78403096662641,10.685149341054828,9.555296881912813,8.40902607495391,7.262007805152365,6.131030592475756,5.033999269031997,3.9899326069881464,3.018958838088982,2.1423060073605806,1.3822737651072685,0.7621198023696424,0.3056698703767378,0.04239015485565579,2.652532534777476e-16],[4.211331418450681e-15,0.09947466271675764,0.40159945369668076,0.8611986173370689,1.476040066043674,2.2278925936656564,3.095384712697417,4.056998335359018,5.091872929140495,6.180070922609621,7.302680955242392,8.441862849715804,9.580869091849205,10.704055911181902,11.796889366664267,12.845948862407186,13.838929264105783,14.76464221681971,15.613016988351857,16.375101020909455,17.04306029784083,17.6101795898852,18.07086262085118,18.420632177939513,18.656130182791422,18.775117733432,18.77647512324164,18.660201840117587,18.427416546552344,18.08035703906434,17.622380182919915,17.057961814990463,16.39269660337004,15.633297846240788,14.787597183120452,13.864544176860022,12.874205700693567,11.827765024190812,10.737520421722003,9.616883000671654,8.480373210105054,7.34361502775661,6.223325871372507,5.137298211087516,4.104364066038334,3.1443215734528454,2.277769556955642,1.5256899114214821,0.9082128275896485,0.4403482196543277,0.1164761495820403,7.540441485118456e-16],[0.0,0.15761769873674505,0.49448722749530627,0.9656698935454148,1.5796221700542403,2.3254123434035425,3.184738816259982,4.1374106011525855,5.163187228850232,6.242445172272752,7.356443511482513,8.487440087819111,9.618746561017431,10.734756373422085,11.820959807081703,12.863952499854411,13.851440466583055,14.772243165853302,15.61629542959643,16.374648707500377,17.03947188540862,17.60405183108699,18.062793760567043,18.41122148287707,18.645977559423752,18.7648234006515,18.76663931353013,18.65142450692089,18.42029705667884,18.075493827554098,17.620370343757063,17.059400593572843,16.398176744466948,15.643408731923245,14.802923664850272,13.885664957738374,12.901691045868782,11.862173448277717,10.779393782525739,9.666739043862819,8.538693912494397,7.4108277751303415,6.299771931529247,5.223177660921573,4.199634828553587,3.2485038350219138,2.389543199732048,1.6420168503675707,1.0223949596411925,0.5382442489815163,0.1775654796989653,0.0]],\"type\":\"surface\"}],                        {\"template\":{\"data\":{\"bar\":[{\"error_x\":{\"color\":\"#2a3f5f\"},\"error_y\":{\"color\":\"#2a3f5f\"},\"marker\":{\"line\":{\"color\":\"#E5ECF6\",\"width\":0.5},\"pattern\":{\"fillmode\":\"overlay\",\"size\":10,\"solidity\":0.2}},\"type\":\"bar\"}],\"barpolar\":[{\"marker\":{\"line\":{\"color\":\"#E5ECF6\",\"width\":0.5},\"pattern\":{\"fillmode\":\"overlay\",\"size\":10,\"solidity\":0.2}},\"type\":\"barpolar\"}],\"carpet\":[{\"aaxis\":{\"endlinecolor\":\"#2a3f5f\",\"gridcolor\":\"white\",\"linecolor\":\"white\",\"minorgridcolor\":\"white\",\"startlinecolor\":\"#2a3f5f\"},\"baxis\":{\"endlinecolor\":\"#2a3f5f\",\"gridcolor\":\"white\",\"linecolor\":\"white\",\"minorgridcolor\":\"white\",\"startlinecolor\":\"#2a3f5f\"},\"type\":\"carpet\"}],\"choropleth\":[{\"colorbar\":{\"outlinewidth\":0,\"ticks\":\"\"},\"type\":\"choropleth\"}],\"contour\":[{\"colorbar\":{\"outlinewidth\":0,\"ticks\":\"\"},\"colorscale\":[[0.0,\"#0d0887\"],[0.1111111111111111,\"#46039f\"],[0.2222222222222222,\"#7201a8\"],[0.3333333333333333,\"#9c179e\"],[0.4444444444444444,\"#bd3786\"],[0.5555555555555556,\"#d8576b\"],[0.6666666666666666,\"#ed7953\"],[0.7777777777777778,\"#fb9f3a\"],[0.8888888888888888,\"#fdca26\"],[1.0,\"#f0f921\"]],\"type\":\"contour\"}],\"contourcarpet\":[{\"colorbar\":{\"outlinewidth\":0,\"ticks\":\"\"},\"type\":\"contourcarpet\"}],\"heatmap\":[{\"colorbar\":{\"outlinewidth\":0,\"ticks\":\"\"},\"colorscale\":[[0.0,\"#0d0887\"],[0.1111111111111111,\"#46039f\"],[0.2222222222222222,\"#7201a8\"],[0.3333333333333333,\"#9c179e\"],[0.4444444444444444,\"#bd3786\"],[0.5555555555555556,\"#d8576b\"],[0.6666666666666666,\"#ed7953\"],[0.7777777777777778,\"#fb9f3a\"],[0.8888888888888888,\"#fdca26\"],[1.0,\"#f0f921\"]],\"type\":\"heatmap\"}],\"heatmapgl\":[{\"colorbar\":{\"outlinewidth\":0,\"ticks\":\"\"},\"colorscale\":[[0.0,\"#0d0887\"],[0.1111111111111111,\"#46039f\"],[0.2222222222222222,\"#7201a8\"],[0.3333333333333333,\"#9c179e\"],[0.4444444444444444,\"#bd3786\"],[0.5555555555555556,\"#d8576b\"],[0.6666666666666666,\"#ed7953\"],[0.7777777777777778,\"#fb9f3a\"],[0.8888888888888888,\"#fdca26\"],[1.0,\"#f0f921\"]],\"type\":\"heatmapgl\"}],\"histogram\":[{\"marker\":{\"pattern\":{\"fillmode\":\"overlay\",\"size\":10,\"solidity\":0.2}},\"type\":\"histogram\"}],\"histogram2d\":[{\"colorbar\":{\"outlinewidth\":0,\"ticks\":\"\"},\"colorscale\":[[0.0,\"#0d0887\"],[0.1111111111111111,\"#46039f\"],[0.2222222222222222,\"#7201a8\"],[0.3333333333333333,\"#9c179e\"],[0.4444444444444444,\"#bd3786\"],[0.5555555555555556,\"#d8576b\"],[0.6666666666666666,\"#ed7953\"],[0.7777777777777778,\"#fb9f3a\"],[0.8888888888888888,\"#fdca26\"],[1.0,\"#f0f921\"]],\"type\":\"histogram2d\"}],\"histogram2dcontour\":[{\"colorbar\":{\"outlinewidth\":0,\"ticks\":\"\"},\"colorscale\":[[0.0,\"#0d0887\"],[0.1111111111111111,\"#46039f\"],[0.2222222222222222,\"#7201a8\"],[0.3333333333333333,\"#9c179e\"],[0.4444444444444444,\"#bd3786\"],[0.5555555555555556,\"#d8576b\"],[0.6666666666666666,\"#ed7953\"],[0.7777777777777778,\"#fb9f3a\"],[0.8888888888888888,\"#fdca26\"],[1.0,\"#f0f921\"]],\"type\":\"histogram2dcontour\"}],\"mesh3d\":[{\"colorbar\":{\"outlinewidth\":0,\"ticks\":\"\"},\"type\":\"mesh3d\"}],\"parcoords\":[{\"line\":{\"colorbar\":{\"outlinewidth\":0,\"ticks\":\"\"}},\"type\":\"parcoords\"}],\"pie\":[{\"automargin\":true,\"type\":\"pie\"}],\"scatter\":[{\"marker\":{\"colorbar\":{\"outlinewidth\":0,\"ticks\":\"\"}},\"type\":\"scatter\"}],\"scatter3d\":[{\"line\":{\"colorbar\":{\"outlinewidth\":0,\"ticks\":\"\"}},\"marker\":{\"colorbar\":{\"outlinewidth\":0,\"ticks\":\"\"}},\"type\":\"scatter3d\"}],\"scattercarpet\":[{\"marker\":{\"colorbar\":{\"outlinewidth\":0,\"ticks\":\"\"}},\"type\":\"scattercarpet\"}],\"scattergeo\":[{\"marker\":{\"colorbar\":{\"outlinewidth\":0,\"ticks\":\"\"}},\"type\":\"scattergeo\"}],\"scattergl\":[{\"marker\":{\"colorbar\":{\"outlinewidth\":0,\"ticks\":\"\"}},\"type\":\"scattergl\"}],\"scattermapbox\":[{\"marker\":{\"colorbar\":{\"outlinewidth\":0,\"ticks\":\"\"}},\"type\":\"scattermapbox\"}],\"scatterpolar\":[{\"marker\":{\"colorbar\":{\"outlinewidth\":0,\"ticks\":\"\"}},\"type\":\"scatterpolar\"}],\"scatterpolargl\":[{\"marker\":{\"colorbar\":{\"outlinewidth\":0,\"ticks\":\"\"}},\"type\":\"scatterpolargl\"}],\"scatterternary\":[{\"marker\":{\"colorbar\":{\"outlinewidth\":0,\"ticks\":\"\"}},\"type\":\"scatterternary\"}],\"surface\":[{\"colorbar\":{\"outlinewidth\":0,\"ticks\":\"\"},\"colorscale\":[[0.0,\"#0d0887\"],[0.1111111111111111,\"#46039f\"],[0.2222222222222222,\"#7201a8\"],[0.3333333333333333,\"#9c179e\"],[0.4444444444444444,\"#bd3786\"],[0.5555555555555556,\"#d8576b\"],[0.6666666666666666,\"#ed7953\"],[0.7777777777777778,\"#fb9f3a\"],[0.8888888888888888,\"#fdca26\"],[1.0,\"#f0f921\"]],\"type\":\"surface\"}],\"table\":[{\"cells\":{\"fill\":{\"color\":\"#EBF0F8\"},\"line\":{\"color\":\"white\"}},\"header\":{\"fill\":{\"color\":\"#C8D4E3\"},\"line\":{\"color\":\"white\"}},\"type\":\"table\"}]},\"layout\":{\"annotationdefaults\":{\"arrowcolor\":\"#2a3f5f\",\"arrowhead\":0,\"arrowwidth\":1},\"autotypenumbers\":\"strict\",\"coloraxis\":{\"colorbar\":{\"outlinewidth\":0,\"ticks\":\"\"}},\"colorscale\":{\"diverging\":[[0,\"#8e0152\"],[0.1,\"#c51b7d\"],[0.2,\"#de77ae\"],[0.3,\"#f1b6da\"],[0.4,\"#fde0ef\"],[0.5,\"#f7f7f7\"],[0.6,\"#e6f5d0\"],[0.7,\"#b8e186\"],[0.8,\"#7fbc41\"],[0.9,\"#4d9221\"],[1,\"#276419\"]],\"sequential\":[[0.0,\"#0d0887\"],[0.1111111111111111,\"#46039f\"],[0.2222222222222222,\"#7201a8\"],[0.3333333333333333,\"#9c179e\"],[0.4444444444444444,\"#bd3786\"],[0.5555555555555556,\"#d8576b\"],[0.6666666666666666,\"#ed7953\"],[0.7777777777777778,\"#fb9f3a\"],[0.8888888888888888,\"#fdca26\"],[1.0,\"#f0f921\"]],\"sequentialminus\":[[0.0,\"#0d0887\"],[0.1111111111111111,\"#46039f\"],[0.2222222222222222,\"#7201a8\"],[0.3333333333333333,\"#9c179e\"],[0.4444444444444444,\"#bd3786\"],[0.5555555555555556,\"#d8576b\"],[0.6666666666666666,\"#ed7953\"],[0.7777777777777778,\"#fb9f3a\"],[0.8888888888888888,\"#fdca26\"],[1.0,\"#f0f921\"]]},\"colorway\":[\"#636efa\",\"#EF553B\",\"#00cc96\",\"#ab63fa\",\"#FFA15A\",\"#19d3f3\",\"#FF6692\",\"#B6E880\",\"#FF97FF\",\"#FECB52\"],\"font\":{\"color\":\"#2a3f5f\"},\"geo\":{\"bgcolor\":\"white\",\"lakecolor\":\"white\",\"landcolor\":\"#E5ECF6\",\"showlakes\":true,\"showland\":true,\"subunitcolor\":\"white\"},\"hoverlabel\":{\"align\":\"left\"},\"hovermode\":\"closest\",\"mapbox\":{\"style\":\"light\"},\"paper_bgcolor\":\"white\",\"plot_bgcolor\":\"#E5ECF6\",\"polar\":{\"angularaxis\":{\"gridcolor\":\"white\",\"linecolor\":\"white\",\"ticks\":\"\"},\"bgcolor\":\"#E5ECF6\",\"radialaxis\":{\"gridcolor\":\"white\",\"linecolor\":\"white\",\"ticks\":\"\"}},\"scene\":{\"xaxis\":{\"backgroundcolor\":\"#E5ECF6\",\"gridcolor\":\"white\",\"gridwidth\":2,\"linecolor\":\"white\",\"showbackground\":true,\"ticks\":\"\",\"zerolinecolor\":\"white\"},\"yaxis\":{\"backgroundcolor\":\"#E5ECF6\",\"gridcolor\":\"white\",\"gridwidth\":2,\"linecolor\":\"white\",\"showbackground\":true,\"ticks\":\"\",\"zerolinecolor\":\"white\"},\"zaxis\":{\"backgroundcolor\":\"#E5ECF6\",\"gridcolor\":\"white\",\"gridwidth\":2,\"linecolor\":\"white\",\"showbackground\":true,\"ticks\":\"\",\"zerolinecolor\":\"white\"}},\"shapedefaults\":{\"line\":{\"color\":\"#2a3f5f\"}},\"ternary\":{\"aaxis\":{\"gridcolor\":\"white\",\"linecolor\":\"white\",\"ticks\":\"\"},\"baxis\":{\"gridcolor\":\"white\",\"linecolor\":\"white\",\"ticks\":\"\"},\"bgcolor\":\"#E5ECF6\",\"caxis\":{\"gridcolor\":\"white\",\"linecolor\":\"white\",\"ticks\":\"\"}},\"title\":{\"x\":0.05},\"xaxis\":{\"automargin\":true,\"gridcolor\":\"white\",\"linecolor\":\"white\",\"ticks\":\"\",\"title\":{\"standoff\":15},\"zerolinecolor\":\"white\",\"zerolinewidth\":2},\"yaxis\":{\"automargin\":true,\"gridcolor\":\"white\",\"linecolor\":\"white\",\"ticks\":\"\",\"title\":{\"standoff\":15},\"zerolinecolor\":\"white\",\"zerolinewidth\":2}}}},                        {\"responsive\": true}                    ).then(function(){\n",
       "                            \n",
       "var gd = document.getElementById('54aad5b1-fa5b-41ad-b6a4-982d628ff539');\n",
       "var x = new MutationObserver(function (mutations, observer) {{\n",
       "        var display = window.getComputedStyle(gd).display;\n",
       "        if (!display || display === 'none') {{\n",
       "            console.log([gd, 'removed!']);\n",
       "            Plotly.purge(gd);\n",
       "            observer.disconnect();\n",
       "        }}\n",
       "}});\n",
       "\n",
       "// Listen for the removal of the full notebook cells\n",
       "var notebookContainer = gd.closest('#notebook-container');\n",
       "if (notebookContainer) {{\n",
       "    x.observe(notebookContainer, {childList: true});\n",
       "}}\n",
       "\n",
       "// Listen for the clearing of the current output cell\n",
       "var outputEl = gd.closest('.output');\n",
       "if (outputEl) {{\n",
       "    x.observe(outputEl, {childList: true});\n",
       "}}\n",
       "\n",
       "                        })                };                });            </script>        </div>"
      ]
     },
     "metadata": {},
     "output_type": "display_data"
    },
    {
     "name": "stdout",
     "output_type": "stream",
     "text": [
      "U graph\n"
     ]
    },
    {
     "data": {
      "application/vnd.plotly.v1+json": {
       "config": {
        "plotlyServerURL": "https://plot.ly"
       },
       "data": [
        {
         "type": "surface",
         "x": [
          [
           0,
           0.02,
           0.06,
           0.09999999999999999,
           0.13999999999999999,
           0.17999999999999997,
           0.21999999999999995,
           0.25999999999999995,
           0.3,
           0.33999999999999997,
           0.37999999999999995,
           0.41999999999999993,
           0.45999999999999996,
           0.49999999999999994,
           0.5399999999999999,
           0.58,
           0.6199999999999999,
           0.6599999999999999,
           0.7,
           0.7399999999999999,
           0.7799999999999999,
           0.8199999999999998,
           0.8599999999999999,
           0.8999999999999999,
           0.9399999999999998,
           0.9799999999999999,
           1.0199999999999998,
           1.0599999999999998,
           1.0999999999999999,
           1.14,
           1.18,
           1.2199999999999998,
           1.2599999999999998,
           1.2999999999999998,
           1.3399999999999999,
           1.38,
           1.4199999999999997,
           1.4599999999999997,
           1.4999999999999998,
           1.5399999999999998,
           1.5799999999999998,
           1.6199999999999997,
           1.6599999999999997,
           1.6999999999999997,
           1.7399999999999998,
           1.7799999999999998,
           1.8199999999999998,
           1.8599999999999997,
           1.8999999999999997,
           1.9399999999999997,
           1.9799999999999998,
           2
          ],
          [
           0,
           0.02,
           0.06,
           0.09999999999999999,
           0.13999999999999999,
           0.17999999999999997,
           0.21999999999999995,
           0.25999999999999995,
           0.3,
           0.33999999999999997,
           0.37999999999999995,
           0.41999999999999993,
           0.45999999999999996,
           0.49999999999999994,
           0.5399999999999999,
           0.58,
           0.6199999999999999,
           0.6599999999999999,
           0.7,
           0.7399999999999999,
           0.7799999999999999,
           0.8199999999999998,
           0.8599999999999999,
           0.8999999999999999,
           0.9399999999999998,
           0.9799999999999999,
           1.0199999999999998,
           1.0599999999999998,
           1.0999999999999999,
           1.14,
           1.18,
           1.2199999999999998,
           1.2599999999999998,
           1.2999999999999998,
           1.3399999999999999,
           1.38,
           1.4199999999999997,
           1.4599999999999997,
           1.4999999999999998,
           1.5399999999999998,
           1.5799999999999998,
           1.6199999999999997,
           1.6599999999999997,
           1.6999999999999997,
           1.7399999999999998,
           1.7799999999999998,
           1.8199999999999998,
           1.8599999999999997,
           1.8999999999999997,
           1.9399999999999997,
           1.9799999999999998,
           2
          ],
          [
           0,
           0.02,
           0.06,
           0.09999999999999999,
           0.13999999999999999,
           0.17999999999999997,
           0.21999999999999995,
           0.25999999999999995,
           0.3,
           0.33999999999999997,
           0.37999999999999995,
           0.41999999999999993,
           0.45999999999999996,
           0.49999999999999994,
           0.5399999999999999,
           0.58,
           0.6199999999999999,
           0.6599999999999999,
           0.7,
           0.7399999999999999,
           0.7799999999999999,
           0.8199999999999998,
           0.8599999999999999,
           0.8999999999999999,
           0.9399999999999998,
           0.9799999999999999,
           1.0199999999999998,
           1.0599999999999998,
           1.0999999999999999,
           1.14,
           1.18,
           1.2199999999999998,
           1.2599999999999998,
           1.2999999999999998,
           1.3399999999999999,
           1.38,
           1.4199999999999997,
           1.4599999999999997,
           1.4999999999999998,
           1.5399999999999998,
           1.5799999999999998,
           1.6199999999999997,
           1.6599999999999997,
           1.6999999999999997,
           1.7399999999999998,
           1.7799999999999998,
           1.8199999999999998,
           1.8599999999999997,
           1.8999999999999997,
           1.9399999999999997,
           1.9799999999999998,
           2
          ],
          [
           0,
           0.02,
           0.06,
           0.09999999999999999,
           0.13999999999999999,
           0.17999999999999997,
           0.21999999999999995,
           0.25999999999999995,
           0.3,
           0.33999999999999997,
           0.37999999999999995,
           0.41999999999999993,
           0.45999999999999996,
           0.49999999999999994,
           0.5399999999999999,
           0.58,
           0.6199999999999999,
           0.6599999999999999,
           0.7,
           0.7399999999999999,
           0.7799999999999999,
           0.8199999999999998,
           0.8599999999999999,
           0.8999999999999999,
           0.9399999999999998,
           0.9799999999999999,
           1.0199999999999998,
           1.0599999999999998,
           1.0999999999999999,
           1.14,
           1.18,
           1.2199999999999998,
           1.2599999999999998,
           1.2999999999999998,
           1.3399999999999999,
           1.38,
           1.4199999999999997,
           1.4599999999999997,
           1.4999999999999998,
           1.5399999999999998,
           1.5799999999999998,
           1.6199999999999997,
           1.6599999999999997,
           1.6999999999999997,
           1.7399999999999998,
           1.7799999999999998,
           1.8199999999999998,
           1.8599999999999997,
           1.8999999999999997,
           1.9399999999999997,
           1.9799999999999998,
           2
          ],
          [
           0,
           0.02,
           0.06,
           0.09999999999999999,
           0.13999999999999999,
           0.17999999999999997,
           0.21999999999999995,
           0.25999999999999995,
           0.3,
           0.33999999999999997,
           0.37999999999999995,
           0.41999999999999993,
           0.45999999999999996,
           0.49999999999999994,
           0.5399999999999999,
           0.58,
           0.6199999999999999,
           0.6599999999999999,
           0.7,
           0.7399999999999999,
           0.7799999999999999,
           0.8199999999999998,
           0.8599999999999999,
           0.8999999999999999,
           0.9399999999999998,
           0.9799999999999999,
           1.0199999999999998,
           1.0599999999999998,
           1.0999999999999999,
           1.14,
           1.18,
           1.2199999999999998,
           1.2599999999999998,
           1.2999999999999998,
           1.3399999999999999,
           1.38,
           1.4199999999999997,
           1.4599999999999997,
           1.4999999999999998,
           1.5399999999999998,
           1.5799999999999998,
           1.6199999999999997,
           1.6599999999999997,
           1.6999999999999997,
           1.7399999999999998,
           1.7799999999999998,
           1.8199999999999998,
           1.8599999999999997,
           1.8999999999999997,
           1.9399999999999997,
           1.9799999999999998,
           2
          ],
          [
           0,
           0.02,
           0.06,
           0.09999999999999999,
           0.13999999999999999,
           0.17999999999999997,
           0.21999999999999995,
           0.25999999999999995,
           0.3,
           0.33999999999999997,
           0.37999999999999995,
           0.41999999999999993,
           0.45999999999999996,
           0.49999999999999994,
           0.5399999999999999,
           0.58,
           0.6199999999999999,
           0.6599999999999999,
           0.7,
           0.7399999999999999,
           0.7799999999999999,
           0.8199999999999998,
           0.8599999999999999,
           0.8999999999999999,
           0.9399999999999998,
           0.9799999999999999,
           1.0199999999999998,
           1.0599999999999998,
           1.0999999999999999,
           1.14,
           1.18,
           1.2199999999999998,
           1.2599999999999998,
           1.2999999999999998,
           1.3399999999999999,
           1.38,
           1.4199999999999997,
           1.4599999999999997,
           1.4999999999999998,
           1.5399999999999998,
           1.5799999999999998,
           1.6199999999999997,
           1.6599999999999997,
           1.6999999999999997,
           1.7399999999999998,
           1.7799999999999998,
           1.8199999999999998,
           1.8599999999999997,
           1.8999999999999997,
           1.9399999999999997,
           1.9799999999999998,
           2
          ]
         ],
         "y": [
          [
           0,
           0,
           0,
           0,
           0,
           0,
           0,
           0,
           0,
           0,
           0,
           0,
           0,
           0,
           0,
           0,
           0,
           0,
           0,
           0,
           0,
           0,
           0,
           0,
           0,
           0,
           0,
           0,
           0,
           0,
           0,
           0,
           0,
           0,
           0,
           0,
           0,
           0,
           0,
           0,
           0,
           0,
           0,
           0,
           0,
           0,
           0,
           0,
           0,
           0,
           0,
           0
          ],
          [
           0.0125,
           0.0125,
           0.0125,
           0.0125,
           0.0125,
           0.0125,
           0.0125,
           0.0125,
           0.0125,
           0.0125,
           0.0125,
           0.0125,
           0.0125,
           0.0125,
           0.0125,
           0.0125,
           0.0125,
           0.0125,
           0.0125,
           0.0125,
           0.0125,
           0.0125,
           0.0125,
           0.0125,
           0.0125,
           0.0125,
           0.0125,
           0.0125,
           0.0125,
           0.0125,
           0.0125,
           0.0125,
           0.0125,
           0.0125,
           0.0125,
           0.0125,
           0.0125,
           0.0125,
           0.0125,
           0.0125,
           0.0125,
           0.0125,
           0.0125,
           0.0125,
           0.0125,
           0.0125,
           0.0125,
           0.0125,
           0.0125,
           0.0125,
           0.0125,
           0.0125
          ],
          [
           0.037500000000000006,
           0.037500000000000006,
           0.037500000000000006,
           0.037500000000000006,
           0.037500000000000006,
           0.037500000000000006,
           0.037500000000000006,
           0.037500000000000006,
           0.037500000000000006,
           0.037500000000000006,
           0.037500000000000006,
           0.037500000000000006,
           0.037500000000000006,
           0.037500000000000006,
           0.037500000000000006,
           0.037500000000000006,
           0.037500000000000006,
           0.037500000000000006,
           0.037500000000000006,
           0.037500000000000006,
           0.037500000000000006,
           0.037500000000000006,
           0.037500000000000006,
           0.037500000000000006,
           0.037500000000000006,
           0.037500000000000006,
           0.037500000000000006,
           0.037500000000000006,
           0.037500000000000006,
           0.037500000000000006,
           0.037500000000000006,
           0.037500000000000006,
           0.037500000000000006,
           0.037500000000000006,
           0.037500000000000006,
           0.037500000000000006,
           0.037500000000000006,
           0.037500000000000006,
           0.037500000000000006,
           0.037500000000000006,
           0.037500000000000006,
           0.037500000000000006,
           0.037500000000000006,
           0.037500000000000006,
           0.037500000000000006,
           0.037500000000000006,
           0.037500000000000006,
           0.037500000000000006,
           0.037500000000000006,
           0.037500000000000006,
           0.037500000000000006,
           0.037500000000000006
          ],
          [
           0.06250000000000001,
           0.06250000000000001,
           0.06250000000000001,
           0.06250000000000001,
           0.06250000000000001,
           0.06250000000000001,
           0.06250000000000001,
           0.06250000000000001,
           0.06250000000000001,
           0.06250000000000001,
           0.06250000000000001,
           0.06250000000000001,
           0.06250000000000001,
           0.06250000000000001,
           0.06250000000000001,
           0.06250000000000001,
           0.06250000000000001,
           0.06250000000000001,
           0.06250000000000001,
           0.06250000000000001,
           0.06250000000000001,
           0.06250000000000001,
           0.06250000000000001,
           0.06250000000000001,
           0.06250000000000001,
           0.06250000000000001,
           0.06250000000000001,
           0.06250000000000001,
           0.06250000000000001,
           0.06250000000000001,
           0.06250000000000001,
           0.06250000000000001,
           0.06250000000000001,
           0.06250000000000001,
           0.06250000000000001,
           0.06250000000000001,
           0.06250000000000001,
           0.06250000000000001,
           0.06250000000000001,
           0.06250000000000001,
           0.06250000000000001,
           0.06250000000000001,
           0.06250000000000001,
           0.06250000000000001,
           0.06250000000000001,
           0.06250000000000001,
           0.06250000000000001,
           0.06250000000000001,
           0.06250000000000001,
           0.06250000000000001,
           0.06250000000000001,
           0.06250000000000001
          ],
          [
           0.08750000000000001,
           0.08750000000000001,
           0.08750000000000001,
           0.08750000000000001,
           0.08750000000000001,
           0.08750000000000001,
           0.08750000000000001,
           0.08750000000000001,
           0.08750000000000001,
           0.08750000000000001,
           0.08750000000000001,
           0.08750000000000001,
           0.08750000000000001,
           0.08750000000000001,
           0.08750000000000001,
           0.08750000000000001,
           0.08750000000000001,
           0.08750000000000001,
           0.08750000000000001,
           0.08750000000000001,
           0.08750000000000001,
           0.08750000000000001,
           0.08750000000000001,
           0.08750000000000001,
           0.08750000000000001,
           0.08750000000000001,
           0.08750000000000001,
           0.08750000000000001,
           0.08750000000000001,
           0.08750000000000001,
           0.08750000000000001,
           0.08750000000000001,
           0.08750000000000001,
           0.08750000000000001,
           0.08750000000000001,
           0.08750000000000001,
           0.08750000000000001,
           0.08750000000000001,
           0.08750000000000001,
           0.08750000000000001,
           0.08750000000000001,
           0.08750000000000001,
           0.08750000000000001,
           0.08750000000000001,
           0.08750000000000001,
           0.08750000000000001,
           0.08750000000000001,
           0.08750000000000001,
           0.08750000000000001,
           0.08750000000000001,
           0.08750000000000001,
           0.08750000000000001
          ],
          [
           0.1,
           0.1,
           0.1,
           0.1,
           0.1,
           0.1,
           0.1,
           0.1,
           0.1,
           0.1,
           0.1,
           0.1,
           0.1,
           0.1,
           0.1,
           0.1,
           0.1,
           0.1,
           0.1,
           0.1,
           0.1,
           0.1,
           0.1,
           0.1,
           0.1,
           0.1,
           0.1,
           0.1,
           0.1,
           0.1,
           0.1,
           0.1,
           0.1,
           0.1,
           0.1,
           0.1,
           0.1,
           0.1,
           0.1,
           0.1,
           0.1,
           0.1,
           0.1,
           0.1,
           0.1,
           0.1,
           0.1,
           0.1,
           0.1,
           0.1,
           0.1,
           0.1
          ]
         ],
         "z": [
          [
           0,
           -1.701609338171355e-7,
           -4.345860205025847e-7,
           -6.729915309869167e-7,
           -8.80153841231804e-7,
           -0.0000010566792480087235,
           -0.0000012038470196445783,
           -0.0000013230471055837492,
           -0.0000014156800550941795,
           -0.0000014831464079858059,
           -0.0000015268463034840265,
           -0.0000015481797240059296,
           -0.0000015485465913843865,
           -0.0000015293467886185966,
           -0.000001491980162531404,
           -0.00000143784652358468,
           -0.0000013683456460244954,
           -0.0000012848772686844641,
           -0.0000011888410963920193,
           -0.0000010816368019226367,
           -9.64664028461419e-7,
           -8.393223925313238e-7,
           -7.070114873416421e-7,
           -5.691308865040423e-7,
           -4.270801480576457e-7,
           -2.822588187396024e-7,
           -1.3606643843381205e-7,
           1.0097455272289589e-8,
           1.548333224947414e-7,
           2.9674161649627134e-7,
           4.344227792375332e-7,
           5.664772371065609e-7,
           6.915053968937178e-7,
           8.081076420756601e-7,
           9.148843294668882e-7,
           0.0000010104357862917653,
           0.0000010933623077229697,
           0.00000116226415492334,
           0.0000012157415536122474,
           0.000001252394693146411,
           0.0000012708237260877038,
           0.000001269628768579871,
           0.0000012474099044152018,
           0.000001202767206182592,
           0.0000011343008093311943,
           0.0000010406110393266987,
           9.202981613257946e-7,
           7.719615649798079e-7,
           5.942321246042734e-7,
           3.8609742453112335e-7,
           1.5133425954166525e-7,
           0
          ],
          [
           2.177613269951608e-21,
           -1.1261435061164838e-7,
           -3.222553619699513e-7,
           -5.06016024483588e-7,
           -6.655365086339008e-7,
           -8.018345196045876e-7,
           -9.159446098882693e-7,
           -0.0000010089125183262609,
           -0.0000010817876929237085,
           -0.0000011356201722367507,
           -0.0000011714599863285207,
           -0.0000011903571131123304,
           -0.0000011933614941369366,
           -0.0000011815230420226522,
           -0.000001155891641995758,
           -0.0000011175171520165638,
           -0.0000010674494030045616,
           -0.0000010067381994660191,
           -9.36433320546987e-7,
           -8.575845214907441e-7,
           -7.712415354733365e-7,
           -6.784540757872578e-7,
           -5.802718383385956e-7,
           -4.777445044183198e-7,
           -3.719217437040185e-7,
           -2.638532174447062e-7,
           -1.5458858177852934e-7,
           -4.517749113103159e-8,
           6.333039835957791e-8,
           1.6988542544414072e-7,
           2.734379204448499e-7,
           3.729382020704381e-7,
           4.6733657441445096e-7,
           5.555833241839799e-7,
           6.366287182025004e-7,
           7.094230012262129e-7,
           7.729163941081078e-7,
           8.260590923376881e-7,
           8.678012649759544e-7,
           8.970930539980277e-7,
           9.128845740874254e-7,
           9.141259132027523e-7,
           8.997671354848903e-7,
           8.687582914920919e-7,
           8.200494411990581e-7,
           7.525906340116092e-7,
           6.653313405708451e-7,
           5.572167024136274e-7,
           4.271695878073762e-7,
           2.7404623595635096e-7,
           9.617738897229674e-8,
           2.3541765080557927e-22
          ],
          [
           -3.089856666823228e-22,
           -3.997406214245216e-8,
           -1.2052062695664819e-7,
           -1.9258452032965083e-7,
           -2.5580927626738356e-7,
           -3.1075982329469907e-7,
           -3.5785036689845367e-7,
           -3.9744381629055916e-7,
           -4.2989209665195324e-7,
           -4.5554535908061517e-7,
           -4.747535700568759e-7,
           -4.878667008039093e-7,
           -4.95234726407022e-7,
           -4.972076168652494e-7,
           -4.941353338862376e-7,
           -4.86367830182425e-7,
           -4.742550494699584e-7,
           -4.5814692668899013e-7,
           -4.3839338836160986e-7,
           -4.1534435307796914e-7,
           -3.893497321058349e-7,
           -3.6075943011520877e-7,
           -3.299233460069394e-7,
           -2.9719137383228984e-7,
           -2.629134037889711e-7,
           -2.2743932327793492e-7,
           -1.9111901800426075e-7,
           -1.54302373104776e-7,
           -1.173392742846351e-7,
           -8.057960894494264e-8,
           -4.4373267283644823e-8,
           -9.070143352314582e-9,
           2.4979863947805597e-8,
           5.742684994622995e-8,
           8.792090337460848e-8,
           1.1611210564217703e-7,
           1.4165053022701435e-7,
           1.6418624219394163e-7,
           1.8336929784934002e-7,
           1.9884974453350334e-7,
           2.1027762046932414e-7,
           2.1730295417392214e-7,
           2.1957576158829529e-7,
           2.167460372811123e-7,
           2.0846374673531707e-7,
           1.943789107053045e-7,
           1.7414206740161954e-7,
           1.474040884697714e-7,
           1.1379953445934583e-7,
           7.284345282327059e-8,
           2.4504401115937116e-8,
           2.942720635069741e-23
          ],
          [
           -7.577505635304583e-22,
           2.450440112765138e-8,
           7.28434528595444e-8,
           1.1379953451925079e-7,
           1.4740408855171816e-7,
           1.741420675037262e-7,
           1.9437891082542862e-7,
           2.0846374687108893e-7,
           2.1674603742998026e-7,
           2.1957576174757578e-7,
           2.1730295434084666e-7,
           2.1027762064108173e-7,
           1.98849744707285e-7,
           1.833692980223782e-7,
           1.641862423635431e-7,
           1.4165053039059245e-7,
           1.1611210579728195e-7,
           8.792090351895446e-8,
           5.74268500777216e-8,
           2.4979864064559418e-8,
           -9.070143251950755e-9,
           -4.4373267201069586e-8,
           -8.05796088812968e-8,
           -1.1733927424078176e-7,
           -1.5430237308129981e-7,
           -1.9111901800146245e-7,
           -2.2743932329582505e-7,
           -2.629134038272752e-7,
           -2.971913738904525e-7,
           -3.2992334608412953e-7,
           -3.607594302103263e-7,
           -3.8934973221753067e-7,
           -4.153443532046513e-7,
           -4.3839338850146204e-7,
           -4.5814692683999434e-7,
           -4.742550496299127e-7,
           -4.863678303489722e-7,
           -4.941353340568948e-7,
           -4.972076170374359e-7,
           -4.952347265780983e-7,
           -4.878667009712109e-7,
           -4.747535702177529e-7,
           -4.5554535923248193e-7,
           -4.2989209679233143e-7,
           -3.974438164171232e-7,
           -3.5785036700908427e-7,
           -3.1075982338753563e-7,
           -2.55809276340873e-7,
           -1.9258452038258684e-7,
           -1.2052062698820898e-7,
           -3.9974062152497235e-8,
           1.4713603175348704e-23
          ],
          [
           3.884391238292058e-21,
           9.617738898736724e-8,
           2.740462359998627e-7,
           4.271695878773794e-7,
           5.572167025078457e-7,
           6.653313406866683e-7,
           7.525906341462012e-7,
           8.200494413494277e-7,
           8.687582916551481e-7,
           8.997671356574902e-7,
           9.141259133817399e-7,
           9.128845742696751e-7,
           8.970930541804871e-7,
           8.678012651556758e-7,
           8.260590925118533e-7,
           7.729163942740559e-7,
           7.094230013814679e-7,
           6.366287183447956e-7,
           5.555833243112791e-7,
           4.6733657452495927e-7,
           3.7293820216262513e-7,
           2.734379205174796e-7,
           1.6988542549626718e-7,
           6.333039839055098e-8,
           -4.5177491121568825e-8,
           -1.545885817906294e-7,
           -2.638532174781135e-7,
           -3.7192174375818754e-7,
           -4.777445044924288e-7,
           -5.802718384315527e-7,
           -6.784540758977141e-7,
           -7.712415355996902e-7,
           -8.575845216311762e-7,
           -9.36433320699484e-7,
           -0.0000010067381996283822,
           -0.00000106744940317443,
           -0.0000011175171521914513,
           -0.0000011558916421730846,
           -0.0000011815230421997746,
           -0.0000011933614943111905,
           -0.0000011903571132810708,
           -0.000001171459986489172,
           -0.0000011356201723868578,
           -0.000001081787693060984,
           -0.0000010089125184486343,
           -9.159446099939406e-7,
           -8.018345196920894e-7,
           -6.655365087021612e-7,
           -5.060160245320155e-7,
           -3.222553619985557e-7,
           -1.1261435062107204e-7,
           -3.236992698576715e-22
          ],
          [
           0,
           1.5133425956139696e-7,
           3.8609742458115954e-7,
           5.942321246833191e-7,
           7.719615650851693e-7,
           9.202981614543204e-7,
           0.0000010406110394750374,
           0.0000011343008094958882,
           0.0000012027672063601347,
           0.0000012474099046020855,
           0.000001269628768772617,
           0.000001270823726282909,
           0.0000012523946933407876,
           0.0000012157415538026594,
           0.000001162264155106808,
           0.0000010933623078967097,
           0.0000010104357864532091,
           9.148843296137059e-7,
           8.081076422057825e-7,
           6.915053970053391e-7,
           5.66477237198158e-7,
           4.344227793079122e-7,
           2.967416165445583e-7,
           1.5483332252036969e-7,
           1.0097455274994432e-8,
           -1.3606643845396135e-7,
           -2.822588187822157e-7,
           -4.2708014812202684e-7,
           -5.691308865892179e-7,
           -7.070114874463761e-7,
           -8.393223926541016e-7,
           -9.646640286004682e-7,
           -0.0000010816368020759776,
           -0.0000011888410965574812,
           -0.0000012848772688596979,
           -0.0000013683456462069844,
           -0.0000014378465237717918,
           -0.000001491980162720419,
           -0.0000015293467888067434,
           -0.000001548546591568879,
           -0.0000015481797241840168,
           -0.0000015268463036530474,
           -0.00000148314640814324,
           -0.0000014156800552376963,
           -0.0000013230471057112582,
           -0.0000012038470197542852,
           -0.0000010566792480991912,
           -8.801538413020206e-7,
           -6.729915310364069e-7,
           -4.3458602053166044e-7,
           -1.7016093382761822e-7,
           0
          ]
         ]
        }
       ],
       "layout": {
        "template": {
         "data": {
          "bar": [
           {
            "error_x": {
             "color": "#2a3f5f"
            },
            "error_y": {
             "color": "#2a3f5f"
            },
            "marker": {
             "line": {
              "color": "#E5ECF6",
              "width": 0.5
             },
             "pattern": {
              "fillmode": "overlay",
              "size": 10,
              "solidity": 0.2
             }
            },
            "type": "bar"
           }
          ],
          "barpolar": [
           {
            "marker": {
             "line": {
              "color": "#E5ECF6",
              "width": 0.5
             },
             "pattern": {
              "fillmode": "overlay",
              "size": 10,
              "solidity": 0.2
             }
            },
            "type": "barpolar"
           }
          ],
          "carpet": [
           {
            "aaxis": {
             "endlinecolor": "#2a3f5f",
             "gridcolor": "white",
             "linecolor": "white",
             "minorgridcolor": "white",
             "startlinecolor": "#2a3f5f"
            },
            "baxis": {
             "endlinecolor": "#2a3f5f",
             "gridcolor": "white",
             "linecolor": "white",
             "minorgridcolor": "white",
             "startlinecolor": "#2a3f5f"
            },
            "type": "carpet"
           }
          ],
          "choropleth": [
           {
            "colorbar": {
             "outlinewidth": 0,
             "ticks": ""
            },
            "type": "choropleth"
           }
          ],
          "contour": [
           {
            "colorbar": {
             "outlinewidth": 0,
             "ticks": ""
            },
            "colorscale": [
             [
              0,
              "#0d0887"
             ],
             [
              0.1111111111111111,
              "#46039f"
             ],
             [
              0.2222222222222222,
              "#7201a8"
             ],
             [
              0.3333333333333333,
              "#9c179e"
             ],
             [
              0.4444444444444444,
              "#bd3786"
             ],
             [
              0.5555555555555556,
              "#d8576b"
             ],
             [
              0.6666666666666666,
              "#ed7953"
             ],
             [
              0.7777777777777778,
              "#fb9f3a"
             ],
             [
              0.8888888888888888,
              "#fdca26"
             ],
             [
              1,
              "#f0f921"
             ]
            ],
            "type": "contour"
           }
          ],
          "contourcarpet": [
           {
            "colorbar": {
             "outlinewidth": 0,
             "ticks": ""
            },
            "type": "contourcarpet"
           }
          ],
          "heatmap": [
           {
            "colorbar": {
             "outlinewidth": 0,
             "ticks": ""
            },
            "colorscale": [
             [
              0,
              "#0d0887"
             ],
             [
              0.1111111111111111,
              "#46039f"
             ],
             [
              0.2222222222222222,
              "#7201a8"
             ],
             [
              0.3333333333333333,
              "#9c179e"
             ],
             [
              0.4444444444444444,
              "#bd3786"
             ],
             [
              0.5555555555555556,
              "#d8576b"
             ],
             [
              0.6666666666666666,
              "#ed7953"
             ],
             [
              0.7777777777777778,
              "#fb9f3a"
             ],
             [
              0.8888888888888888,
              "#fdca26"
             ],
             [
              1,
              "#f0f921"
             ]
            ],
            "type": "heatmap"
           }
          ],
          "heatmapgl": [
           {
            "colorbar": {
             "outlinewidth": 0,
             "ticks": ""
            },
            "colorscale": [
             [
              0,
              "#0d0887"
             ],
             [
              0.1111111111111111,
              "#46039f"
             ],
             [
              0.2222222222222222,
              "#7201a8"
             ],
             [
              0.3333333333333333,
              "#9c179e"
             ],
             [
              0.4444444444444444,
              "#bd3786"
             ],
             [
              0.5555555555555556,
              "#d8576b"
             ],
             [
              0.6666666666666666,
              "#ed7953"
             ],
             [
              0.7777777777777778,
              "#fb9f3a"
             ],
             [
              0.8888888888888888,
              "#fdca26"
             ],
             [
              1,
              "#f0f921"
             ]
            ],
            "type": "heatmapgl"
           }
          ],
          "histogram": [
           {
            "marker": {
             "pattern": {
              "fillmode": "overlay",
              "size": 10,
              "solidity": 0.2
             }
            },
            "type": "histogram"
           }
          ],
          "histogram2d": [
           {
            "colorbar": {
             "outlinewidth": 0,
             "ticks": ""
            },
            "colorscale": [
             [
              0,
              "#0d0887"
             ],
             [
              0.1111111111111111,
              "#46039f"
             ],
             [
              0.2222222222222222,
              "#7201a8"
             ],
             [
              0.3333333333333333,
              "#9c179e"
             ],
             [
              0.4444444444444444,
              "#bd3786"
             ],
             [
              0.5555555555555556,
              "#d8576b"
             ],
             [
              0.6666666666666666,
              "#ed7953"
             ],
             [
              0.7777777777777778,
              "#fb9f3a"
             ],
             [
              0.8888888888888888,
              "#fdca26"
             ],
             [
              1,
              "#f0f921"
             ]
            ],
            "type": "histogram2d"
           }
          ],
          "histogram2dcontour": [
           {
            "colorbar": {
             "outlinewidth": 0,
             "ticks": ""
            },
            "colorscale": [
             [
              0,
              "#0d0887"
             ],
             [
              0.1111111111111111,
              "#46039f"
             ],
             [
              0.2222222222222222,
              "#7201a8"
             ],
             [
              0.3333333333333333,
              "#9c179e"
             ],
             [
              0.4444444444444444,
              "#bd3786"
             ],
             [
              0.5555555555555556,
              "#d8576b"
             ],
             [
              0.6666666666666666,
              "#ed7953"
             ],
             [
              0.7777777777777778,
              "#fb9f3a"
             ],
             [
              0.8888888888888888,
              "#fdca26"
             ],
             [
              1,
              "#f0f921"
             ]
            ],
            "type": "histogram2dcontour"
           }
          ],
          "mesh3d": [
           {
            "colorbar": {
             "outlinewidth": 0,
             "ticks": ""
            },
            "type": "mesh3d"
           }
          ],
          "parcoords": [
           {
            "line": {
             "colorbar": {
              "outlinewidth": 0,
              "ticks": ""
             }
            },
            "type": "parcoords"
           }
          ],
          "pie": [
           {
            "automargin": true,
            "type": "pie"
           }
          ],
          "scatter": [
           {
            "marker": {
             "colorbar": {
              "outlinewidth": 0,
              "ticks": ""
             }
            },
            "type": "scatter"
           }
          ],
          "scatter3d": [
           {
            "line": {
             "colorbar": {
              "outlinewidth": 0,
              "ticks": ""
             }
            },
            "marker": {
             "colorbar": {
              "outlinewidth": 0,
              "ticks": ""
             }
            },
            "type": "scatter3d"
           }
          ],
          "scattercarpet": [
           {
            "marker": {
             "colorbar": {
              "outlinewidth": 0,
              "ticks": ""
             }
            },
            "type": "scattercarpet"
           }
          ],
          "scattergeo": [
           {
            "marker": {
             "colorbar": {
              "outlinewidth": 0,
              "ticks": ""
             }
            },
            "type": "scattergeo"
           }
          ],
          "scattergl": [
           {
            "marker": {
             "colorbar": {
              "outlinewidth": 0,
              "ticks": ""
             }
            },
            "type": "scattergl"
           }
          ],
          "scattermapbox": [
           {
            "marker": {
             "colorbar": {
              "outlinewidth": 0,
              "ticks": ""
             }
            },
            "type": "scattermapbox"
           }
          ],
          "scatterpolar": [
           {
            "marker": {
             "colorbar": {
              "outlinewidth": 0,
              "ticks": ""
             }
            },
            "type": "scatterpolar"
           }
          ],
          "scatterpolargl": [
           {
            "marker": {
             "colorbar": {
              "outlinewidth": 0,
              "ticks": ""
             }
            },
            "type": "scatterpolargl"
           }
          ],
          "scatterternary": [
           {
            "marker": {
             "colorbar": {
              "outlinewidth": 0,
              "ticks": ""
             }
            },
            "type": "scatterternary"
           }
          ],
          "surface": [
           {
            "colorbar": {
             "outlinewidth": 0,
             "ticks": ""
            },
            "colorscale": [
             [
              0,
              "#0d0887"
             ],
             [
              0.1111111111111111,
              "#46039f"
             ],
             [
              0.2222222222222222,
              "#7201a8"
             ],
             [
              0.3333333333333333,
              "#9c179e"
             ],
             [
              0.4444444444444444,
              "#bd3786"
             ],
             [
              0.5555555555555556,
              "#d8576b"
             ],
             [
              0.6666666666666666,
              "#ed7953"
             ],
             [
              0.7777777777777778,
              "#fb9f3a"
             ],
             [
              0.8888888888888888,
              "#fdca26"
             ],
             [
              1,
              "#f0f921"
             ]
            ],
            "type": "surface"
           }
          ],
          "table": [
           {
            "cells": {
             "fill": {
              "color": "#EBF0F8"
             },
             "line": {
              "color": "white"
             }
            },
            "header": {
             "fill": {
              "color": "#C8D4E3"
             },
             "line": {
              "color": "white"
             }
            },
            "type": "table"
           }
          ]
         },
         "layout": {
          "annotationdefaults": {
           "arrowcolor": "#2a3f5f",
           "arrowhead": 0,
           "arrowwidth": 1
          },
          "autotypenumbers": "strict",
          "coloraxis": {
           "colorbar": {
            "outlinewidth": 0,
            "ticks": ""
           }
          },
          "colorscale": {
           "diverging": [
            [
             0,
             "#8e0152"
            ],
            [
             0.1,
             "#c51b7d"
            ],
            [
             0.2,
             "#de77ae"
            ],
            [
             0.3,
             "#f1b6da"
            ],
            [
             0.4,
             "#fde0ef"
            ],
            [
             0.5,
             "#f7f7f7"
            ],
            [
             0.6,
             "#e6f5d0"
            ],
            [
             0.7,
             "#b8e186"
            ],
            [
             0.8,
             "#7fbc41"
            ],
            [
             0.9,
             "#4d9221"
            ],
            [
             1,
             "#276419"
            ]
           ],
           "sequential": [
            [
             0,
             "#0d0887"
            ],
            [
             0.1111111111111111,
             "#46039f"
            ],
            [
             0.2222222222222222,
             "#7201a8"
            ],
            [
             0.3333333333333333,
             "#9c179e"
            ],
            [
             0.4444444444444444,
             "#bd3786"
            ],
            [
             0.5555555555555556,
             "#d8576b"
            ],
            [
             0.6666666666666666,
             "#ed7953"
            ],
            [
             0.7777777777777778,
             "#fb9f3a"
            ],
            [
             0.8888888888888888,
             "#fdca26"
            ],
            [
             1,
             "#f0f921"
            ]
           ],
           "sequentialminus": [
            [
             0,
             "#0d0887"
            ],
            [
             0.1111111111111111,
             "#46039f"
            ],
            [
             0.2222222222222222,
             "#7201a8"
            ],
            [
             0.3333333333333333,
             "#9c179e"
            ],
            [
             0.4444444444444444,
             "#bd3786"
            ],
            [
             0.5555555555555556,
             "#d8576b"
            ],
            [
             0.6666666666666666,
             "#ed7953"
            ],
            [
             0.7777777777777778,
             "#fb9f3a"
            ],
            [
             0.8888888888888888,
             "#fdca26"
            ],
            [
             1,
             "#f0f921"
            ]
           ]
          },
          "colorway": [
           "#636efa",
           "#EF553B",
           "#00cc96",
           "#ab63fa",
           "#FFA15A",
           "#19d3f3",
           "#FF6692",
           "#B6E880",
           "#FF97FF",
           "#FECB52"
          ],
          "font": {
           "color": "#2a3f5f"
          },
          "geo": {
           "bgcolor": "white",
           "lakecolor": "white",
           "landcolor": "#E5ECF6",
           "showlakes": true,
           "showland": true,
           "subunitcolor": "white"
          },
          "hoverlabel": {
           "align": "left"
          },
          "hovermode": "closest",
          "mapbox": {
           "style": "light"
          },
          "paper_bgcolor": "white",
          "plot_bgcolor": "#E5ECF6",
          "polar": {
           "angularaxis": {
            "gridcolor": "white",
            "linecolor": "white",
            "ticks": ""
           },
           "bgcolor": "#E5ECF6",
           "radialaxis": {
            "gridcolor": "white",
            "linecolor": "white",
            "ticks": ""
           }
          },
          "scene": {
           "xaxis": {
            "backgroundcolor": "#E5ECF6",
            "gridcolor": "white",
            "gridwidth": 2,
            "linecolor": "white",
            "showbackground": true,
            "ticks": "",
            "zerolinecolor": "white"
           },
           "yaxis": {
            "backgroundcolor": "#E5ECF6",
            "gridcolor": "white",
            "gridwidth": 2,
            "linecolor": "white",
            "showbackground": true,
            "ticks": "",
            "zerolinecolor": "white"
           },
           "zaxis": {
            "backgroundcolor": "#E5ECF6",
            "gridcolor": "white",
            "gridwidth": 2,
            "linecolor": "white",
            "showbackground": true,
            "ticks": "",
            "zerolinecolor": "white"
           }
          },
          "shapedefaults": {
           "line": {
            "color": "#2a3f5f"
           }
          },
          "ternary": {
           "aaxis": {
            "gridcolor": "white",
            "linecolor": "white",
            "ticks": ""
           },
           "baxis": {
            "gridcolor": "white",
            "linecolor": "white",
            "ticks": ""
           },
           "bgcolor": "#E5ECF6",
           "caxis": {
            "gridcolor": "white",
            "linecolor": "white",
            "ticks": ""
           }
          },
          "title": {
           "x": 0.05
          },
          "xaxis": {
           "automargin": true,
           "gridcolor": "white",
           "linecolor": "white",
           "ticks": "",
           "title": {
            "standoff": 15
           },
           "zerolinecolor": "white",
           "zerolinewidth": 2
          },
          "yaxis": {
           "automargin": true,
           "gridcolor": "white",
           "linecolor": "white",
           "ticks": "",
           "title": {
            "standoff": 15
           },
           "zerolinecolor": "white",
           "zerolinewidth": 2
          }
         }
        }
       }
      },
      "text/html": [
       "<div>                            <div id=\"e7073292-d868-42e4-a5bb-9f94853b1e0a\" class=\"plotly-graph-div\" style=\"height:525px; width:100%;\"></div>            <script type=\"text/javascript\">                require([\"plotly\"], function(Plotly) {                    window.PLOTLYENV=window.PLOTLYENV || {};                                    if (document.getElementById(\"e7073292-d868-42e4-a5bb-9f94853b1e0a\")) {                    Plotly.newPlot(                        \"e7073292-d868-42e4-a5bb-9f94853b1e0a\",                        [{\"x\":[[0.0,0.02,0.06,0.09999999999999999,0.13999999999999999,0.17999999999999997,0.21999999999999995,0.25999999999999995,0.3,0.33999999999999997,0.37999999999999995,0.41999999999999993,0.45999999999999996,0.49999999999999994,0.5399999999999999,0.58,0.6199999999999999,0.6599999999999999,0.7,0.7399999999999999,0.7799999999999999,0.8199999999999998,0.8599999999999999,0.8999999999999999,0.9399999999999998,0.9799999999999999,1.0199999999999998,1.0599999999999998,1.0999999999999999,1.14,1.18,1.2199999999999998,1.2599999999999998,1.2999999999999998,1.3399999999999999,1.38,1.4199999999999997,1.4599999999999997,1.4999999999999998,1.5399999999999998,1.5799999999999998,1.6199999999999997,1.6599999999999997,1.6999999999999997,1.7399999999999998,1.7799999999999998,1.8199999999999998,1.8599999999999997,1.8999999999999997,1.9399999999999997,1.9799999999999998,2.0],[0.0,0.02,0.06,0.09999999999999999,0.13999999999999999,0.17999999999999997,0.21999999999999995,0.25999999999999995,0.3,0.33999999999999997,0.37999999999999995,0.41999999999999993,0.45999999999999996,0.49999999999999994,0.5399999999999999,0.58,0.6199999999999999,0.6599999999999999,0.7,0.7399999999999999,0.7799999999999999,0.8199999999999998,0.8599999999999999,0.8999999999999999,0.9399999999999998,0.9799999999999999,1.0199999999999998,1.0599999999999998,1.0999999999999999,1.14,1.18,1.2199999999999998,1.2599999999999998,1.2999999999999998,1.3399999999999999,1.38,1.4199999999999997,1.4599999999999997,1.4999999999999998,1.5399999999999998,1.5799999999999998,1.6199999999999997,1.6599999999999997,1.6999999999999997,1.7399999999999998,1.7799999999999998,1.8199999999999998,1.8599999999999997,1.8999999999999997,1.9399999999999997,1.9799999999999998,2.0],[0.0,0.02,0.06,0.09999999999999999,0.13999999999999999,0.17999999999999997,0.21999999999999995,0.25999999999999995,0.3,0.33999999999999997,0.37999999999999995,0.41999999999999993,0.45999999999999996,0.49999999999999994,0.5399999999999999,0.58,0.6199999999999999,0.6599999999999999,0.7,0.7399999999999999,0.7799999999999999,0.8199999999999998,0.8599999999999999,0.8999999999999999,0.9399999999999998,0.9799999999999999,1.0199999999999998,1.0599999999999998,1.0999999999999999,1.14,1.18,1.2199999999999998,1.2599999999999998,1.2999999999999998,1.3399999999999999,1.38,1.4199999999999997,1.4599999999999997,1.4999999999999998,1.5399999999999998,1.5799999999999998,1.6199999999999997,1.6599999999999997,1.6999999999999997,1.7399999999999998,1.7799999999999998,1.8199999999999998,1.8599999999999997,1.8999999999999997,1.9399999999999997,1.9799999999999998,2.0],[0.0,0.02,0.06,0.09999999999999999,0.13999999999999999,0.17999999999999997,0.21999999999999995,0.25999999999999995,0.3,0.33999999999999997,0.37999999999999995,0.41999999999999993,0.45999999999999996,0.49999999999999994,0.5399999999999999,0.58,0.6199999999999999,0.6599999999999999,0.7,0.7399999999999999,0.7799999999999999,0.8199999999999998,0.8599999999999999,0.8999999999999999,0.9399999999999998,0.9799999999999999,1.0199999999999998,1.0599999999999998,1.0999999999999999,1.14,1.18,1.2199999999999998,1.2599999999999998,1.2999999999999998,1.3399999999999999,1.38,1.4199999999999997,1.4599999999999997,1.4999999999999998,1.5399999999999998,1.5799999999999998,1.6199999999999997,1.6599999999999997,1.6999999999999997,1.7399999999999998,1.7799999999999998,1.8199999999999998,1.8599999999999997,1.8999999999999997,1.9399999999999997,1.9799999999999998,2.0],[0.0,0.02,0.06,0.09999999999999999,0.13999999999999999,0.17999999999999997,0.21999999999999995,0.25999999999999995,0.3,0.33999999999999997,0.37999999999999995,0.41999999999999993,0.45999999999999996,0.49999999999999994,0.5399999999999999,0.58,0.6199999999999999,0.6599999999999999,0.7,0.7399999999999999,0.7799999999999999,0.8199999999999998,0.8599999999999999,0.8999999999999999,0.9399999999999998,0.9799999999999999,1.0199999999999998,1.0599999999999998,1.0999999999999999,1.14,1.18,1.2199999999999998,1.2599999999999998,1.2999999999999998,1.3399999999999999,1.38,1.4199999999999997,1.4599999999999997,1.4999999999999998,1.5399999999999998,1.5799999999999998,1.6199999999999997,1.6599999999999997,1.6999999999999997,1.7399999999999998,1.7799999999999998,1.8199999999999998,1.8599999999999997,1.8999999999999997,1.9399999999999997,1.9799999999999998,2.0],[0.0,0.02,0.06,0.09999999999999999,0.13999999999999999,0.17999999999999997,0.21999999999999995,0.25999999999999995,0.3,0.33999999999999997,0.37999999999999995,0.41999999999999993,0.45999999999999996,0.49999999999999994,0.5399999999999999,0.58,0.6199999999999999,0.6599999999999999,0.7,0.7399999999999999,0.7799999999999999,0.8199999999999998,0.8599999999999999,0.8999999999999999,0.9399999999999998,0.9799999999999999,1.0199999999999998,1.0599999999999998,1.0999999999999999,1.14,1.18,1.2199999999999998,1.2599999999999998,1.2999999999999998,1.3399999999999999,1.38,1.4199999999999997,1.4599999999999997,1.4999999999999998,1.5399999999999998,1.5799999999999998,1.6199999999999997,1.6599999999999997,1.6999999999999997,1.7399999999999998,1.7799999999999998,1.8199999999999998,1.8599999999999997,1.8999999999999997,1.9399999999999997,1.9799999999999998,2.0]],\"y\":[[0.0,0.0,0.0,0.0,0.0,0.0,0.0,0.0,0.0,0.0,0.0,0.0,0.0,0.0,0.0,0.0,0.0,0.0,0.0,0.0,0.0,0.0,0.0,0.0,0.0,0.0,0.0,0.0,0.0,0.0,0.0,0.0,0.0,0.0,0.0,0.0,0.0,0.0,0.0,0.0,0.0,0.0,0.0,0.0,0.0,0.0,0.0,0.0,0.0,0.0,0.0,0.0],[0.0125,0.0125,0.0125,0.0125,0.0125,0.0125,0.0125,0.0125,0.0125,0.0125,0.0125,0.0125,0.0125,0.0125,0.0125,0.0125,0.0125,0.0125,0.0125,0.0125,0.0125,0.0125,0.0125,0.0125,0.0125,0.0125,0.0125,0.0125,0.0125,0.0125,0.0125,0.0125,0.0125,0.0125,0.0125,0.0125,0.0125,0.0125,0.0125,0.0125,0.0125,0.0125,0.0125,0.0125,0.0125,0.0125,0.0125,0.0125,0.0125,0.0125,0.0125,0.0125],[0.037500000000000006,0.037500000000000006,0.037500000000000006,0.037500000000000006,0.037500000000000006,0.037500000000000006,0.037500000000000006,0.037500000000000006,0.037500000000000006,0.037500000000000006,0.037500000000000006,0.037500000000000006,0.037500000000000006,0.037500000000000006,0.037500000000000006,0.037500000000000006,0.037500000000000006,0.037500000000000006,0.037500000000000006,0.037500000000000006,0.037500000000000006,0.037500000000000006,0.037500000000000006,0.037500000000000006,0.037500000000000006,0.037500000000000006,0.037500000000000006,0.037500000000000006,0.037500000000000006,0.037500000000000006,0.037500000000000006,0.037500000000000006,0.037500000000000006,0.037500000000000006,0.037500000000000006,0.037500000000000006,0.037500000000000006,0.037500000000000006,0.037500000000000006,0.037500000000000006,0.037500000000000006,0.037500000000000006,0.037500000000000006,0.037500000000000006,0.037500000000000006,0.037500000000000006,0.037500000000000006,0.037500000000000006,0.037500000000000006,0.037500000000000006,0.037500000000000006,0.037500000000000006],[0.06250000000000001,0.06250000000000001,0.06250000000000001,0.06250000000000001,0.06250000000000001,0.06250000000000001,0.06250000000000001,0.06250000000000001,0.06250000000000001,0.06250000000000001,0.06250000000000001,0.06250000000000001,0.06250000000000001,0.06250000000000001,0.06250000000000001,0.06250000000000001,0.06250000000000001,0.06250000000000001,0.06250000000000001,0.06250000000000001,0.06250000000000001,0.06250000000000001,0.06250000000000001,0.06250000000000001,0.06250000000000001,0.06250000000000001,0.06250000000000001,0.06250000000000001,0.06250000000000001,0.06250000000000001,0.06250000000000001,0.06250000000000001,0.06250000000000001,0.06250000000000001,0.06250000000000001,0.06250000000000001,0.06250000000000001,0.06250000000000001,0.06250000000000001,0.06250000000000001,0.06250000000000001,0.06250000000000001,0.06250000000000001,0.06250000000000001,0.06250000000000001,0.06250000000000001,0.06250000000000001,0.06250000000000001,0.06250000000000001,0.06250000000000001,0.06250000000000001,0.06250000000000001],[0.08750000000000001,0.08750000000000001,0.08750000000000001,0.08750000000000001,0.08750000000000001,0.08750000000000001,0.08750000000000001,0.08750000000000001,0.08750000000000001,0.08750000000000001,0.08750000000000001,0.08750000000000001,0.08750000000000001,0.08750000000000001,0.08750000000000001,0.08750000000000001,0.08750000000000001,0.08750000000000001,0.08750000000000001,0.08750000000000001,0.08750000000000001,0.08750000000000001,0.08750000000000001,0.08750000000000001,0.08750000000000001,0.08750000000000001,0.08750000000000001,0.08750000000000001,0.08750000000000001,0.08750000000000001,0.08750000000000001,0.08750000000000001,0.08750000000000001,0.08750000000000001,0.08750000000000001,0.08750000000000001,0.08750000000000001,0.08750000000000001,0.08750000000000001,0.08750000000000001,0.08750000000000001,0.08750000000000001,0.08750000000000001,0.08750000000000001,0.08750000000000001,0.08750000000000001,0.08750000000000001,0.08750000000000001,0.08750000000000001,0.08750000000000001,0.08750000000000001,0.08750000000000001],[0.1,0.1,0.1,0.1,0.1,0.1,0.1,0.1,0.1,0.1,0.1,0.1,0.1,0.1,0.1,0.1,0.1,0.1,0.1,0.1,0.1,0.1,0.1,0.1,0.1,0.1,0.1,0.1,0.1,0.1,0.1,0.1,0.1,0.1,0.1,0.1,0.1,0.1,0.1,0.1,0.1,0.1,0.1,0.1,0.1,0.1,0.1,0.1,0.1,0.1,0.1,0.1]],\"z\":[[0.0,-1.701609338171355e-07,-4.345860205025847e-07,-6.729915309869167e-07,-8.80153841231804e-07,-1.0566792480087235e-06,-1.2038470196445783e-06,-1.3230471055837492e-06,-1.4156800550941795e-06,-1.4831464079858059e-06,-1.5268463034840265e-06,-1.5481797240059296e-06,-1.5485465913843865e-06,-1.5293467886185966e-06,-1.491980162531404e-06,-1.43784652358468e-06,-1.3683456460244954e-06,-1.2848772686844641e-06,-1.1888410963920193e-06,-1.0816368019226367e-06,-9.64664028461419e-07,-8.393223925313238e-07,-7.070114873416421e-07,-5.691308865040423e-07,-4.270801480576457e-07,-2.822588187396024e-07,-1.3606643843381205e-07,1.0097455272289589e-08,1.548333224947414e-07,2.9674161649627134e-07,4.344227792375332e-07,5.664772371065609e-07,6.915053968937178e-07,8.081076420756601e-07,9.148843294668882e-07,1.0104357862917653e-06,1.0933623077229697e-06,1.16226415492334e-06,1.2157415536122474e-06,1.252394693146411e-06,1.2708237260877038e-06,1.269628768579871e-06,1.2474099044152018e-06,1.202767206182592e-06,1.1343008093311943e-06,1.0406110393266987e-06,9.202981613257946e-07,7.719615649798079e-07,5.942321246042734e-07,3.8609742453112335e-07,1.5133425954166525e-07,0.0],[2.177613269951608e-21,-1.1261435061164838e-07,-3.222553619699513e-07,-5.06016024483588e-07,-6.655365086339008e-07,-8.018345196045876e-07,-9.159446098882693e-07,-1.0089125183262609e-06,-1.0817876929237085e-06,-1.1356201722367507e-06,-1.1714599863285207e-06,-1.1903571131123304e-06,-1.1933614941369366e-06,-1.1815230420226522e-06,-1.155891641995758e-06,-1.1175171520165638e-06,-1.0674494030045616e-06,-1.0067381994660191e-06,-9.36433320546987e-07,-8.575845214907441e-07,-7.712415354733365e-07,-6.784540757872578e-07,-5.802718383385956e-07,-4.777445044183198e-07,-3.719217437040185e-07,-2.638532174447062e-07,-1.5458858177852934e-07,-4.517749113103159e-08,6.333039835957791e-08,1.6988542544414072e-07,2.734379204448499e-07,3.729382020704381e-07,4.6733657441445096e-07,5.555833241839799e-07,6.366287182025004e-07,7.094230012262129e-07,7.729163941081078e-07,8.260590923376881e-07,8.678012649759544e-07,8.970930539980277e-07,9.128845740874254e-07,9.141259132027523e-07,8.997671354848903e-07,8.687582914920919e-07,8.200494411990581e-07,7.525906340116092e-07,6.653313405708451e-07,5.572167024136274e-07,4.271695878073762e-07,2.7404623595635096e-07,9.617738897229674e-08,2.3541765080557927e-22],[-3.089856666823228e-22,-3.997406214245216e-08,-1.2052062695664819e-07,-1.9258452032965083e-07,-2.5580927626738356e-07,-3.1075982329469907e-07,-3.5785036689845367e-07,-3.9744381629055916e-07,-4.2989209665195324e-07,-4.5554535908061517e-07,-4.747535700568759e-07,-4.878667008039093e-07,-4.95234726407022e-07,-4.972076168652494e-07,-4.941353338862376e-07,-4.86367830182425e-07,-4.742550494699584e-07,-4.5814692668899013e-07,-4.3839338836160986e-07,-4.1534435307796914e-07,-3.893497321058349e-07,-3.6075943011520877e-07,-3.299233460069394e-07,-2.9719137383228984e-07,-2.629134037889711e-07,-2.2743932327793492e-07,-1.9111901800426075e-07,-1.54302373104776e-07,-1.173392742846351e-07,-8.057960894494264e-08,-4.4373267283644823e-08,-9.070143352314582e-09,2.4979863947805597e-08,5.742684994622995e-08,8.792090337460848e-08,1.1611210564217703e-07,1.4165053022701435e-07,1.6418624219394163e-07,1.8336929784934002e-07,1.9884974453350334e-07,2.1027762046932414e-07,2.1730295417392214e-07,2.1957576158829529e-07,2.167460372811123e-07,2.0846374673531707e-07,1.943789107053045e-07,1.7414206740161954e-07,1.474040884697714e-07,1.1379953445934583e-07,7.284345282327059e-08,2.4504401115937116e-08,2.942720635069741e-23],[-7.577505635304583e-22,2.450440112765138e-08,7.28434528595444e-08,1.1379953451925079e-07,1.4740408855171816e-07,1.741420675037262e-07,1.9437891082542862e-07,2.0846374687108893e-07,2.1674603742998026e-07,2.1957576174757578e-07,2.1730295434084666e-07,2.1027762064108173e-07,1.98849744707285e-07,1.833692980223782e-07,1.641862423635431e-07,1.4165053039059245e-07,1.1611210579728195e-07,8.792090351895446e-08,5.74268500777216e-08,2.4979864064559418e-08,-9.070143251950755e-09,-4.4373267201069586e-08,-8.05796088812968e-08,-1.1733927424078176e-07,-1.5430237308129981e-07,-1.9111901800146245e-07,-2.2743932329582505e-07,-2.629134038272752e-07,-2.971913738904525e-07,-3.2992334608412953e-07,-3.607594302103263e-07,-3.8934973221753067e-07,-4.153443532046513e-07,-4.3839338850146204e-07,-4.5814692683999434e-07,-4.742550496299127e-07,-4.863678303489722e-07,-4.941353340568948e-07,-4.972076170374359e-07,-4.952347265780983e-07,-4.878667009712109e-07,-4.747535702177529e-07,-4.5554535923248193e-07,-4.2989209679233143e-07,-3.974438164171232e-07,-3.5785036700908427e-07,-3.1075982338753563e-07,-2.55809276340873e-07,-1.9258452038258684e-07,-1.2052062698820898e-07,-3.9974062152497235e-08,1.4713603175348704e-23],[3.884391238292058e-21,9.617738898736724e-08,2.740462359998627e-07,4.271695878773794e-07,5.572167025078457e-07,6.653313406866683e-07,7.525906341462012e-07,8.200494413494277e-07,8.687582916551481e-07,8.997671356574902e-07,9.141259133817399e-07,9.128845742696751e-07,8.970930541804871e-07,8.678012651556758e-07,8.260590925118533e-07,7.729163942740559e-07,7.094230013814679e-07,6.366287183447956e-07,5.555833243112791e-07,4.6733657452495927e-07,3.7293820216262513e-07,2.734379205174796e-07,1.6988542549626718e-07,6.333039839055098e-08,-4.5177491121568825e-08,-1.545885817906294e-07,-2.638532174781135e-07,-3.7192174375818754e-07,-4.777445044924288e-07,-5.802718384315527e-07,-6.784540758977141e-07,-7.712415355996902e-07,-8.575845216311762e-07,-9.36433320699484e-07,-1.0067381996283822e-06,-1.06744940317443e-06,-1.1175171521914513e-06,-1.1558916421730846e-06,-1.1815230421997746e-06,-1.1933614943111905e-06,-1.1903571132810708e-06,-1.171459986489172e-06,-1.1356201723868578e-06,-1.081787693060984e-06,-1.0089125184486343e-06,-9.159446099939406e-07,-8.018345196920894e-07,-6.655365087021612e-07,-5.060160245320155e-07,-3.222553619985557e-07,-1.1261435062107204e-07,-3.236992698576715e-22],[0.0,1.5133425956139696e-07,3.8609742458115954e-07,5.942321246833191e-07,7.719615650851693e-07,9.202981614543204e-07,1.0406110394750374e-06,1.1343008094958882e-06,1.2027672063601347e-06,1.2474099046020855e-06,1.269628768772617e-06,1.270823726282909e-06,1.2523946933407876e-06,1.2157415538026594e-06,1.162264155106808e-06,1.0933623078967097e-06,1.0104357864532091e-06,9.148843296137059e-07,8.081076422057825e-07,6.915053970053391e-07,5.66477237198158e-07,4.344227793079122e-07,2.967416165445583e-07,1.5483332252036969e-07,1.0097455274994432e-08,-1.3606643845396135e-07,-2.822588187822157e-07,-4.2708014812202684e-07,-5.691308865892179e-07,-7.070114874463761e-07,-8.393223926541016e-07,-9.646640286004682e-07,-1.0816368020759776e-06,-1.1888410965574812e-06,-1.2848772688596979e-06,-1.3683456462069844e-06,-1.4378465237717918e-06,-1.491980162720419e-06,-1.5293467888067434e-06,-1.548546591568879e-06,-1.5481797241840168e-06,-1.5268463036530474e-06,-1.48314640814324e-06,-1.4156800552376963e-06,-1.3230471057112582e-06,-1.2038470197542852e-06,-1.0566792480991912e-06,-8.801538413020206e-07,-6.729915310364069e-07,-4.3458602053166044e-07,-1.7016093382761822e-07,0.0]],\"type\":\"surface\"}],                        {\"template\":{\"data\":{\"bar\":[{\"error_x\":{\"color\":\"#2a3f5f\"},\"error_y\":{\"color\":\"#2a3f5f\"},\"marker\":{\"line\":{\"color\":\"#E5ECF6\",\"width\":0.5},\"pattern\":{\"fillmode\":\"overlay\",\"size\":10,\"solidity\":0.2}},\"type\":\"bar\"}],\"barpolar\":[{\"marker\":{\"line\":{\"color\":\"#E5ECF6\",\"width\":0.5},\"pattern\":{\"fillmode\":\"overlay\",\"size\":10,\"solidity\":0.2}},\"type\":\"barpolar\"}],\"carpet\":[{\"aaxis\":{\"endlinecolor\":\"#2a3f5f\",\"gridcolor\":\"white\",\"linecolor\":\"white\",\"minorgridcolor\":\"white\",\"startlinecolor\":\"#2a3f5f\"},\"baxis\":{\"endlinecolor\":\"#2a3f5f\",\"gridcolor\":\"white\",\"linecolor\":\"white\",\"minorgridcolor\":\"white\",\"startlinecolor\":\"#2a3f5f\"},\"type\":\"carpet\"}],\"choropleth\":[{\"colorbar\":{\"outlinewidth\":0,\"ticks\":\"\"},\"type\":\"choropleth\"}],\"contour\":[{\"colorbar\":{\"outlinewidth\":0,\"ticks\":\"\"},\"colorscale\":[[0.0,\"#0d0887\"],[0.1111111111111111,\"#46039f\"],[0.2222222222222222,\"#7201a8\"],[0.3333333333333333,\"#9c179e\"],[0.4444444444444444,\"#bd3786\"],[0.5555555555555556,\"#d8576b\"],[0.6666666666666666,\"#ed7953\"],[0.7777777777777778,\"#fb9f3a\"],[0.8888888888888888,\"#fdca26\"],[1.0,\"#f0f921\"]],\"type\":\"contour\"}],\"contourcarpet\":[{\"colorbar\":{\"outlinewidth\":0,\"ticks\":\"\"},\"type\":\"contourcarpet\"}],\"heatmap\":[{\"colorbar\":{\"outlinewidth\":0,\"ticks\":\"\"},\"colorscale\":[[0.0,\"#0d0887\"],[0.1111111111111111,\"#46039f\"],[0.2222222222222222,\"#7201a8\"],[0.3333333333333333,\"#9c179e\"],[0.4444444444444444,\"#bd3786\"],[0.5555555555555556,\"#d8576b\"],[0.6666666666666666,\"#ed7953\"],[0.7777777777777778,\"#fb9f3a\"],[0.8888888888888888,\"#fdca26\"],[1.0,\"#f0f921\"]],\"type\":\"heatmap\"}],\"heatmapgl\":[{\"colorbar\":{\"outlinewidth\":0,\"ticks\":\"\"},\"colorscale\":[[0.0,\"#0d0887\"],[0.1111111111111111,\"#46039f\"],[0.2222222222222222,\"#7201a8\"],[0.3333333333333333,\"#9c179e\"],[0.4444444444444444,\"#bd3786\"],[0.5555555555555556,\"#d8576b\"],[0.6666666666666666,\"#ed7953\"],[0.7777777777777778,\"#fb9f3a\"],[0.8888888888888888,\"#fdca26\"],[1.0,\"#f0f921\"]],\"type\":\"heatmapgl\"}],\"histogram\":[{\"marker\":{\"pattern\":{\"fillmode\":\"overlay\",\"size\":10,\"solidity\":0.2}},\"type\":\"histogram\"}],\"histogram2d\":[{\"colorbar\":{\"outlinewidth\":0,\"ticks\":\"\"},\"colorscale\":[[0.0,\"#0d0887\"],[0.1111111111111111,\"#46039f\"],[0.2222222222222222,\"#7201a8\"],[0.3333333333333333,\"#9c179e\"],[0.4444444444444444,\"#bd3786\"],[0.5555555555555556,\"#d8576b\"],[0.6666666666666666,\"#ed7953\"],[0.7777777777777778,\"#fb9f3a\"],[0.8888888888888888,\"#fdca26\"],[1.0,\"#f0f921\"]],\"type\":\"histogram2d\"}],\"histogram2dcontour\":[{\"colorbar\":{\"outlinewidth\":0,\"ticks\":\"\"},\"colorscale\":[[0.0,\"#0d0887\"],[0.1111111111111111,\"#46039f\"],[0.2222222222222222,\"#7201a8\"],[0.3333333333333333,\"#9c179e\"],[0.4444444444444444,\"#bd3786\"],[0.5555555555555556,\"#d8576b\"],[0.6666666666666666,\"#ed7953\"],[0.7777777777777778,\"#fb9f3a\"],[0.8888888888888888,\"#fdca26\"],[1.0,\"#f0f921\"]],\"type\":\"histogram2dcontour\"}],\"mesh3d\":[{\"colorbar\":{\"outlinewidth\":0,\"ticks\":\"\"},\"type\":\"mesh3d\"}],\"parcoords\":[{\"line\":{\"colorbar\":{\"outlinewidth\":0,\"ticks\":\"\"}},\"type\":\"parcoords\"}],\"pie\":[{\"automargin\":true,\"type\":\"pie\"}],\"scatter\":[{\"marker\":{\"colorbar\":{\"outlinewidth\":0,\"ticks\":\"\"}},\"type\":\"scatter\"}],\"scatter3d\":[{\"line\":{\"colorbar\":{\"outlinewidth\":0,\"ticks\":\"\"}},\"marker\":{\"colorbar\":{\"outlinewidth\":0,\"ticks\":\"\"}},\"type\":\"scatter3d\"}],\"scattercarpet\":[{\"marker\":{\"colorbar\":{\"outlinewidth\":0,\"ticks\":\"\"}},\"type\":\"scattercarpet\"}],\"scattergeo\":[{\"marker\":{\"colorbar\":{\"outlinewidth\":0,\"ticks\":\"\"}},\"type\":\"scattergeo\"}],\"scattergl\":[{\"marker\":{\"colorbar\":{\"outlinewidth\":0,\"ticks\":\"\"}},\"type\":\"scattergl\"}],\"scattermapbox\":[{\"marker\":{\"colorbar\":{\"outlinewidth\":0,\"ticks\":\"\"}},\"type\":\"scattermapbox\"}],\"scatterpolar\":[{\"marker\":{\"colorbar\":{\"outlinewidth\":0,\"ticks\":\"\"}},\"type\":\"scatterpolar\"}],\"scatterpolargl\":[{\"marker\":{\"colorbar\":{\"outlinewidth\":0,\"ticks\":\"\"}},\"type\":\"scatterpolargl\"}],\"scatterternary\":[{\"marker\":{\"colorbar\":{\"outlinewidth\":0,\"ticks\":\"\"}},\"type\":\"scatterternary\"}],\"surface\":[{\"colorbar\":{\"outlinewidth\":0,\"ticks\":\"\"},\"colorscale\":[[0.0,\"#0d0887\"],[0.1111111111111111,\"#46039f\"],[0.2222222222222222,\"#7201a8\"],[0.3333333333333333,\"#9c179e\"],[0.4444444444444444,\"#bd3786\"],[0.5555555555555556,\"#d8576b\"],[0.6666666666666666,\"#ed7953\"],[0.7777777777777778,\"#fb9f3a\"],[0.8888888888888888,\"#fdca26\"],[1.0,\"#f0f921\"]],\"type\":\"surface\"}],\"table\":[{\"cells\":{\"fill\":{\"color\":\"#EBF0F8\"},\"line\":{\"color\":\"white\"}},\"header\":{\"fill\":{\"color\":\"#C8D4E3\"},\"line\":{\"color\":\"white\"}},\"type\":\"table\"}]},\"layout\":{\"annotationdefaults\":{\"arrowcolor\":\"#2a3f5f\",\"arrowhead\":0,\"arrowwidth\":1},\"autotypenumbers\":\"strict\",\"coloraxis\":{\"colorbar\":{\"outlinewidth\":0,\"ticks\":\"\"}},\"colorscale\":{\"diverging\":[[0,\"#8e0152\"],[0.1,\"#c51b7d\"],[0.2,\"#de77ae\"],[0.3,\"#f1b6da\"],[0.4,\"#fde0ef\"],[0.5,\"#f7f7f7\"],[0.6,\"#e6f5d0\"],[0.7,\"#b8e186\"],[0.8,\"#7fbc41\"],[0.9,\"#4d9221\"],[1,\"#276419\"]],\"sequential\":[[0.0,\"#0d0887\"],[0.1111111111111111,\"#46039f\"],[0.2222222222222222,\"#7201a8\"],[0.3333333333333333,\"#9c179e\"],[0.4444444444444444,\"#bd3786\"],[0.5555555555555556,\"#d8576b\"],[0.6666666666666666,\"#ed7953\"],[0.7777777777777778,\"#fb9f3a\"],[0.8888888888888888,\"#fdca26\"],[1.0,\"#f0f921\"]],\"sequentialminus\":[[0.0,\"#0d0887\"],[0.1111111111111111,\"#46039f\"],[0.2222222222222222,\"#7201a8\"],[0.3333333333333333,\"#9c179e\"],[0.4444444444444444,\"#bd3786\"],[0.5555555555555556,\"#d8576b\"],[0.6666666666666666,\"#ed7953\"],[0.7777777777777778,\"#fb9f3a\"],[0.8888888888888888,\"#fdca26\"],[1.0,\"#f0f921\"]]},\"colorway\":[\"#636efa\",\"#EF553B\",\"#00cc96\",\"#ab63fa\",\"#FFA15A\",\"#19d3f3\",\"#FF6692\",\"#B6E880\",\"#FF97FF\",\"#FECB52\"],\"font\":{\"color\":\"#2a3f5f\"},\"geo\":{\"bgcolor\":\"white\",\"lakecolor\":\"white\",\"landcolor\":\"#E5ECF6\",\"showlakes\":true,\"showland\":true,\"subunitcolor\":\"white\"},\"hoverlabel\":{\"align\":\"left\"},\"hovermode\":\"closest\",\"mapbox\":{\"style\":\"light\"},\"paper_bgcolor\":\"white\",\"plot_bgcolor\":\"#E5ECF6\",\"polar\":{\"angularaxis\":{\"gridcolor\":\"white\",\"linecolor\":\"white\",\"ticks\":\"\"},\"bgcolor\":\"#E5ECF6\",\"radialaxis\":{\"gridcolor\":\"white\",\"linecolor\":\"white\",\"ticks\":\"\"}},\"scene\":{\"xaxis\":{\"backgroundcolor\":\"#E5ECF6\",\"gridcolor\":\"white\",\"gridwidth\":2,\"linecolor\":\"white\",\"showbackground\":true,\"ticks\":\"\",\"zerolinecolor\":\"white\"},\"yaxis\":{\"backgroundcolor\":\"#E5ECF6\",\"gridcolor\":\"white\",\"gridwidth\":2,\"linecolor\":\"white\",\"showbackground\":true,\"ticks\":\"\",\"zerolinecolor\":\"white\"},\"zaxis\":{\"backgroundcolor\":\"#E5ECF6\",\"gridcolor\":\"white\",\"gridwidth\":2,\"linecolor\":\"white\",\"showbackground\":true,\"ticks\":\"\",\"zerolinecolor\":\"white\"}},\"shapedefaults\":{\"line\":{\"color\":\"#2a3f5f\"}},\"ternary\":{\"aaxis\":{\"gridcolor\":\"white\",\"linecolor\":\"white\",\"ticks\":\"\"},\"baxis\":{\"gridcolor\":\"white\",\"linecolor\":\"white\",\"ticks\":\"\"},\"bgcolor\":\"#E5ECF6\",\"caxis\":{\"gridcolor\":\"white\",\"linecolor\":\"white\",\"ticks\":\"\"}},\"title\":{\"x\":0.05},\"xaxis\":{\"automargin\":true,\"gridcolor\":\"white\",\"linecolor\":\"white\",\"ticks\":\"\",\"title\":{\"standoff\":15},\"zerolinecolor\":\"white\",\"zerolinewidth\":2},\"yaxis\":{\"automargin\":true,\"gridcolor\":\"white\",\"linecolor\":\"white\",\"ticks\":\"\",\"title\":{\"standoff\":15},\"zerolinecolor\":\"white\",\"zerolinewidth\":2}}}},                        {\"responsive\": true}                    ).then(function(){\n",
       "                            \n",
       "var gd = document.getElementById('e7073292-d868-42e4-a5bb-9f94853b1e0a');\n",
       "var x = new MutationObserver(function (mutations, observer) {{\n",
       "        var display = window.getComputedStyle(gd).display;\n",
       "        if (!display || display === 'none') {{\n",
       "            console.log([gd, 'removed!']);\n",
       "            Plotly.purge(gd);\n",
       "            observer.disconnect();\n",
       "        }}\n",
       "}});\n",
       "\n",
       "// Listen for the removal of the full notebook cells\n",
       "var notebookContainer = gd.closest('#notebook-container');\n",
       "if (notebookContainer) {{\n",
       "    x.observe(notebookContainer, {childList: true});\n",
       "}}\n",
       "\n",
       "// Listen for the clearing of the current output cell\n",
       "var outputEl = gd.closest('.output');\n",
       "if (outputEl) {{\n",
       "    x.observe(outputEl, {childList: true});\n",
       "}}\n",
       "\n",
       "                        })                };                });            </script>        </div>"
      ]
     },
     "metadata": {},
     "output_type": "display_data"
    },
    {
     "name": "stdout",
     "output_type": "stream",
     "text": [
      "V graph\n"
     ]
    },
    {
     "data": {
      "application/vnd.plotly.v1+json": {
       "config": {
        "plotlyServerURL": "https://plot.ly"
       },
       "data": [
        {
         "type": "surface",
         "x": [
          [
           0,
           0.02,
           0.06,
           0.09999999999999999,
           0.13999999999999999,
           0.17999999999999997,
           0.21999999999999995,
           0.25999999999999995,
           0.3,
           0.33999999999999997,
           0.37999999999999995,
           0.41999999999999993,
           0.45999999999999996,
           0.49999999999999994,
           0.5399999999999999,
           0.58,
           0.6199999999999999,
           0.6599999999999999,
           0.7,
           0.7399999999999999,
           0.7799999999999999,
           0.8199999999999998,
           0.8599999999999999,
           0.8999999999999999,
           0.9399999999999998,
           0.9799999999999999,
           1.0199999999999998,
           1.0599999999999998,
           1.0999999999999999,
           1.14,
           1.18,
           1.2199999999999998,
           1.2599999999999998,
           1.2999999999999998,
           1.3399999999999999,
           1.38,
           1.4199999999999997,
           1.4599999999999997,
           1.4999999999999998,
           1.5399999999999998,
           1.5799999999999998,
           1.6199999999999997,
           1.6599999999999997,
           1.6999999999999997,
           1.7399999999999998,
           1.7799999999999998,
           1.8199999999999998,
           1.8599999999999997,
           1.8999999999999997,
           1.9399999999999997,
           1.9799999999999998,
           2
          ],
          [
           0,
           0.02,
           0.06,
           0.09999999999999999,
           0.13999999999999999,
           0.17999999999999997,
           0.21999999999999995,
           0.25999999999999995,
           0.3,
           0.33999999999999997,
           0.37999999999999995,
           0.41999999999999993,
           0.45999999999999996,
           0.49999999999999994,
           0.5399999999999999,
           0.58,
           0.6199999999999999,
           0.6599999999999999,
           0.7,
           0.7399999999999999,
           0.7799999999999999,
           0.8199999999999998,
           0.8599999999999999,
           0.8999999999999999,
           0.9399999999999998,
           0.9799999999999999,
           1.0199999999999998,
           1.0599999999999998,
           1.0999999999999999,
           1.14,
           1.18,
           1.2199999999999998,
           1.2599999999999998,
           1.2999999999999998,
           1.3399999999999999,
           1.38,
           1.4199999999999997,
           1.4599999999999997,
           1.4999999999999998,
           1.5399999999999998,
           1.5799999999999998,
           1.6199999999999997,
           1.6599999999999997,
           1.6999999999999997,
           1.7399999999999998,
           1.7799999999999998,
           1.8199999999999998,
           1.8599999999999997,
           1.8999999999999997,
           1.9399999999999997,
           1.9799999999999998,
           2
          ],
          [
           0,
           0.02,
           0.06,
           0.09999999999999999,
           0.13999999999999999,
           0.17999999999999997,
           0.21999999999999995,
           0.25999999999999995,
           0.3,
           0.33999999999999997,
           0.37999999999999995,
           0.41999999999999993,
           0.45999999999999996,
           0.49999999999999994,
           0.5399999999999999,
           0.58,
           0.6199999999999999,
           0.6599999999999999,
           0.7,
           0.7399999999999999,
           0.7799999999999999,
           0.8199999999999998,
           0.8599999999999999,
           0.8999999999999999,
           0.9399999999999998,
           0.9799999999999999,
           1.0199999999999998,
           1.0599999999999998,
           1.0999999999999999,
           1.14,
           1.18,
           1.2199999999999998,
           1.2599999999999998,
           1.2999999999999998,
           1.3399999999999999,
           1.38,
           1.4199999999999997,
           1.4599999999999997,
           1.4999999999999998,
           1.5399999999999998,
           1.5799999999999998,
           1.6199999999999997,
           1.6599999999999997,
           1.6999999999999997,
           1.7399999999999998,
           1.7799999999999998,
           1.8199999999999998,
           1.8599999999999997,
           1.8999999999999997,
           1.9399999999999997,
           1.9799999999999998,
           2
          ],
          [
           0,
           0.02,
           0.06,
           0.09999999999999999,
           0.13999999999999999,
           0.17999999999999997,
           0.21999999999999995,
           0.25999999999999995,
           0.3,
           0.33999999999999997,
           0.37999999999999995,
           0.41999999999999993,
           0.45999999999999996,
           0.49999999999999994,
           0.5399999999999999,
           0.58,
           0.6199999999999999,
           0.6599999999999999,
           0.7,
           0.7399999999999999,
           0.7799999999999999,
           0.8199999999999998,
           0.8599999999999999,
           0.8999999999999999,
           0.9399999999999998,
           0.9799999999999999,
           1.0199999999999998,
           1.0599999999999998,
           1.0999999999999999,
           1.14,
           1.18,
           1.2199999999999998,
           1.2599999999999998,
           1.2999999999999998,
           1.3399999999999999,
           1.38,
           1.4199999999999997,
           1.4599999999999997,
           1.4999999999999998,
           1.5399999999999998,
           1.5799999999999998,
           1.6199999999999997,
           1.6599999999999997,
           1.6999999999999997,
           1.7399999999999998,
           1.7799999999999998,
           1.8199999999999998,
           1.8599999999999997,
           1.8999999999999997,
           1.9399999999999997,
           1.9799999999999998,
           2
          ],
          [
           0,
           0.02,
           0.06,
           0.09999999999999999,
           0.13999999999999999,
           0.17999999999999997,
           0.21999999999999995,
           0.25999999999999995,
           0.3,
           0.33999999999999997,
           0.37999999999999995,
           0.41999999999999993,
           0.45999999999999996,
           0.49999999999999994,
           0.5399999999999999,
           0.58,
           0.6199999999999999,
           0.6599999999999999,
           0.7,
           0.7399999999999999,
           0.7799999999999999,
           0.8199999999999998,
           0.8599999999999999,
           0.8999999999999999,
           0.9399999999999998,
           0.9799999999999999,
           1.0199999999999998,
           1.0599999999999998,
           1.0999999999999999,
           1.14,
           1.18,
           1.2199999999999998,
           1.2599999999999998,
           1.2999999999999998,
           1.3399999999999999,
           1.38,
           1.4199999999999997,
           1.4599999999999997,
           1.4999999999999998,
           1.5399999999999998,
           1.5799999999999998,
           1.6199999999999997,
           1.6599999999999997,
           1.6999999999999997,
           1.7399999999999998,
           1.7799999999999998,
           1.8199999999999998,
           1.8599999999999997,
           1.8999999999999997,
           1.9399999999999997,
           1.9799999999999998,
           2
          ],
          [
           0,
           0.02,
           0.06,
           0.09999999999999999,
           0.13999999999999999,
           0.17999999999999997,
           0.21999999999999995,
           0.25999999999999995,
           0.3,
           0.33999999999999997,
           0.37999999999999995,
           0.41999999999999993,
           0.45999999999999996,
           0.49999999999999994,
           0.5399999999999999,
           0.58,
           0.6199999999999999,
           0.6599999999999999,
           0.7,
           0.7399999999999999,
           0.7799999999999999,
           0.8199999999999998,
           0.8599999999999999,
           0.8999999999999999,
           0.9399999999999998,
           0.9799999999999999,
           1.0199999999999998,
           1.0599999999999998,
           1.0999999999999999,
           1.14,
           1.18,
           1.2199999999999998,
           1.2599999999999998,
           1.2999999999999998,
           1.3399999999999999,
           1.38,
           1.4199999999999997,
           1.4599999999999997,
           1.4999999999999998,
           1.5399999999999998,
           1.5799999999999998,
           1.6199999999999997,
           1.6599999999999997,
           1.6999999999999997,
           1.7399999999999998,
           1.7799999999999998,
           1.8199999999999998,
           1.8599999999999997,
           1.8999999999999997,
           1.9399999999999997,
           1.9799999999999998,
           2
          ]
         ],
         "y": [
          [
           0,
           0,
           0,
           0,
           0,
           0,
           0,
           0,
           0,
           0,
           0,
           0,
           0,
           0,
           0,
           0,
           0,
           0,
           0,
           0,
           0,
           0,
           0,
           0,
           0,
           0,
           0,
           0,
           0,
           0,
           0,
           0,
           0,
           0,
           0,
           0,
           0,
           0,
           0,
           0,
           0,
           0,
           0,
           0,
           0,
           0,
           0,
           0,
           0,
           0,
           0,
           0
          ],
          [
           0.0125,
           0.0125,
           0.0125,
           0.0125,
           0.0125,
           0.0125,
           0.0125,
           0.0125,
           0.0125,
           0.0125,
           0.0125,
           0.0125,
           0.0125,
           0.0125,
           0.0125,
           0.0125,
           0.0125,
           0.0125,
           0.0125,
           0.0125,
           0.0125,
           0.0125,
           0.0125,
           0.0125,
           0.0125,
           0.0125,
           0.0125,
           0.0125,
           0.0125,
           0.0125,
           0.0125,
           0.0125,
           0.0125,
           0.0125,
           0.0125,
           0.0125,
           0.0125,
           0.0125,
           0.0125,
           0.0125,
           0.0125,
           0.0125,
           0.0125,
           0.0125,
           0.0125,
           0.0125,
           0.0125,
           0.0125,
           0.0125,
           0.0125,
           0.0125,
           0.0125
          ],
          [
           0.037500000000000006,
           0.037500000000000006,
           0.037500000000000006,
           0.037500000000000006,
           0.037500000000000006,
           0.037500000000000006,
           0.037500000000000006,
           0.037500000000000006,
           0.037500000000000006,
           0.037500000000000006,
           0.037500000000000006,
           0.037500000000000006,
           0.037500000000000006,
           0.037500000000000006,
           0.037500000000000006,
           0.037500000000000006,
           0.037500000000000006,
           0.037500000000000006,
           0.037500000000000006,
           0.037500000000000006,
           0.037500000000000006,
           0.037500000000000006,
           0.037500000000000006,
           0.037500000000000006,
           0.037500000000000006,
           0.037500000000000006,
           0.037500000000000006,
           0.037500000000000006,
           0.037500000000000006,
           0.037500000000000006,
           0.037500000000000006,
           0.037500000000000006,
           0.037500000000000006,
           0.037500000000000006,
           0.037500000000000006,
           0.037500000000000006,
           0.037500000000000006,
           0.037500000000000006,
           0.037500000000000006,
           0.037500000000000006,
           0.037500000000000006,
           0.037500000000000006,
           0.037500000000000006,
           0.037500000000000006,
           0.037500000000000006,
           0.037500000000000006,
           0.037500000000000006,
           0.037500000000000006,
           0.037500000000000006,
           0.037500000000000006,
           0.037500000000000006,
           0.037500000000000006
          ],
          [
           0.06250000000000001,
           0.06250000000000001,
           0.06250000000000001,
           0.06250000000000001,
           0.06250000000000001,
           0.06250000000000001,
           0.06250000000000001,
           0.06250000000000001,
           0.06250000000000001,
           0.06250000000000001,
           0.06250000000000001,
           0.06250000000000001,
           0.06250000000000001,
           0.06250000000000001,
           0.06250000000000001,
           0.06250000000000001,
           0.06250000000000001,
           0.06250000000000001,
           0.06250000000000001,
           0.06250000000000001,
           0.06250000000000001,
           0.06250000000000001,
           0.06250000000000001,
           0.06250000000000001,
           0.06250000000000001,
           0.06250000000000001,
           0.06250000000000001,
           0.06250000000000001,
           0.06250000000000001,
           0.06250000000000001,
           0.06250000000000001,
           0.06250000000000001,
           0.06250000000000001,
           0.06250000000000001,
           0.06250000000000001,
           0.06250000000000001,
           0.06250000000000001,
           0.06250000000000001,
           0.06250000000000001,
           0.06250000000000001,
           0.06250000000000001,
           0.06250000000000001,
           0.06250000000000001,
           0.06250000000000001,
           0.06250000000000001,
           0.06250000000000001,
           0.06250000000000001,
           0.06250000000000001,
           0.06250000000000001,
           0.06250000000000001,
           0.06250000000000001,
           0.06250000000000001
          ],
          [
           0.08750000000000001,
           0.08750000000000001,
           0.08750000000000001,
           0.08750000000000001,
           0.08750000000000001,
           0.08750000000000001,
           0.08750000000000001,
           0.08750000000000001,
           0.08750000000000001,
           0.08750000000000001,
           0.08750000000000001,
           0.08750000000000001,
           0.08750000000000001,
           0.08750000000000001,
           0.08750000000000001,
           0.08750000000000001,
           0.08750000000000001,
           0.08750000000000001,
           0.08750000000000001,
           0.08750000000000001,
           0.08750000000000001,
           0.08750000000000001,
           0.08750000000000001,
           0.08750000000000001,
           0.08750000000000001,
           0.08750000000000001,
           0.08750000000000001,
           0.08750000000000001,
           0.08750000000000001,
           0.08750000000000001,
           0.08750000000000001,
           0.08750000000000001,
           0.08750000000000001,
           0.08750000000000001,
           0.08750000000000001,
           0.08750000000000001,
           0.08750000000000001,
           0.08750000000000001,
           0.08750000000000001,
           0.08750000000000001,
           0.08750000000000001,
           0.08750000000000001,
           0.08750000000000001,
           0.08750000000000001,
           0.08750000000000001,
           0.08750000000000001,
           0.08750000000000001,
           0.08750000000000001,
           0.08750000000000001,
           0.08750000000000001,
           0.08750000000000001,
           0.08750000000000001
          ],
          [
           0.1,
           0.1,
           0.1,
           0.1,
           0.1,
           0.1,
           0.1,
           0.1,
           0.1,
           0.1,
           0.1,
           0.1,
           0.1,
           0.1,
           0.1,
           0.1,
           0.1,
           0.1,
           0.1,
           0.1,
           0.1,
           0.1,
           0.1,
           0.1,
           0.1,
           0.1,
           0.1,
           0.1,
           0.1,
           0.1,
           0.1,
           0.1,
           0.1,
           0.1,
           0.1,
           0.1,
           0.1,
           0.1,
           0.1,
           0.1,
           0.1,
           0.1,
           0.1,
           0.1,
           0.1,
           0.1,
           0.1,
           0.1,
           0.1,
           0.1,
           0.1,
           0.1
          ]
         ],
         "z": [
          [
           0,
           -5.07420553322443e-8,
           -3.175560774436503e-7,
           -7.696582700586354e-7,
           -0.000001386199319214936,
           -0.0000021432091988798646,
           -0.000003017205581236985,
           -0.000003985784621590272,
           -0.0000050276669399825885,
           -0.000006122695739800001,
           -0.000007251834849109981,
           -0.000008397168169937438,
           -0.000009541899559174345,
           -0.000010670352792664314,
           -0.000011767971537724576,
           -0.000012821319324417094,
           -0.000013818079516069463,
           -0.000014747055280034114,
           -0.00001559816955933402,
           -0.00001636246504568283,
           -0.000017032104154309955,
           -0.000017600369000987353,
           -0.000018061661381619802,
           -0.000018411502754720092,
           -0.000018646534227045828,
           -0.000018764516542624038,
           -0.000018764330075336714,
           -0.000018645974825184074,
           -0.0000184105704182846,
           -0.000018060356110611665,
           -0.000017598690795408075,
           -0.000017030053014161408,
           -0.000016360040970967307,
           -0.000015595372550054082,
           -0.000014743885336192532,
           -0.000013814536637668762,
           -0.000012817403511457687,
           -0.000011763682790199814,
           -0.00001066569111056104,
           -0.000009536864942568685,
           -0.000008391760619646792,
           -0.000007246054369401539,
           -0.00000611654234487246,
           -0.000005021140647897078,
           -0.000003978885290519167,
           -0.0000030099318915401046,
           -0.0000021355546962208307,
           -0.0000013781442384632965,
           -7.611875755964742e-7,
           -3.089440028168919e-7,
           -4.4059968650572895e-8,
           0
          ],
          [
           1.5512341633439064e-21,
           -2.9743931407362198e-8,
           -3.0009671144231873e-7,
           -7.541871936974777e-7,
           -0.0000013728768559024844,
           -0.00000213196987731979,
           -0.0000030079567199404523,
           -0.00000397842932791938,
           -0.000005022107953598314,
           -0.000006118835814636542,
           -0.000007249576758500549,
           -0.000008396414694814636,
           -0.000009542553483977667,
           -0.000010672316904494991,
           -0.00001177114862626087,
           -0.000012825612181915764,
           -0.000013823390937331948,
           -0.000014753288062327988,
           -0.000015605226502273592,
           -0.000016370248951072272,
           -0.000017040517825951822,
           -0.000017609315244459592,
           -0.00001807104300402478,
           -0.000018421222564409612,
           -0.000018656495033326392,
           -0.000018774621155447116,
           -0.000018774481304978823,
           -0.000018656075481921724,
           -0.000018420523312069256,
           -0.000018070064050749823,
           -0.000017608056590251512,
           -0.00001703897947081247,
           -0.00001636843089500392,
           -0.00001560312874527877,
           -0.000014750910604409447,
           -0.000013820733778492213,
           -0.000012822675322155129,
           -0.00001176793206557136,
           -0.000010668820642855952,
           -0.000009538777521437565,
           -0.000008392359032139744,
           -0.000007245241400123617,
           -0.000006114220776861516,
           -0.0000050172132659335635,
           -0.000003973254888118883,
           -0.0000030025012666869554,
           -0.0000021262266143852596,
           -0.000001366822527939043,
           -7.477895436894977e-7,
           -2.9356563445817e-7,
           -2.5399180498142703e-8,
           4.1618477553129195e-21
          ],
          [
           -1.8917489796876905e-22,
           -1.4106721225042235e-8,
           -2.8090718775208516e-7,
           -7.373857848519019e-7,
           -0.000001358396987604925,
           -0.000002119646989843713,
           -0.00000299767502930297,
           -0.000003970088238535475,
           -0.000005015609776160415,
           -0.000006114083296204323,
           -0.000007246472687552947,
           -0.000008394861857920438,
           -0.000009542454666894672,
           -0.000010673574894535061,
           -0.000011773666213096751,
           -0.000012829292157742352,
           -0.000013828136096845154,
           -0.00001475900120264372,
           -0.000015611810422808624,
           -0.000016377606453389923,
           -0.000017048551713574152,
           -0.000017617928322648856,
           -0.00001808013807953743,
           -0.000018430702445226743,
           -0.00001866626252836489,
           -0.00001878457907425604,
           -0.000018784532457425822,
           -0.00001866612267787445,
           -0.000018430469361076746,
           -0.000018079811761728946,
           -0.00001761750877118332,
           -0.000017048038928453373,
           -0.000016377000434616104,
           -0.000015611111170384222,
           -0.0000147582087165714,
           -0.000013827250377127576,
           -0.000012828313204381148,
           -0.0000117725940260896,
           -0.00001067240947387429,
           -0.00000954119601261064,
           -0.000008393509970408773,
           -0.00000724502756902057,
           -0.000006112544954522931,
           -0.0000050139782243467325,
           -0.000003968363418776741,
           -0.0000029958562976583294,
           -0.000002117730983248157,
           -0.0000013563725694484855,
           -7.352390111023399e-7,
           -2.7874519818812456e-7,
           -1.2795848718499084e-8,
           -1.863372744992375e-21
          ],
          [
           -1.71203282661736e-21,
           -1.2795848720288954e-8,
           -2.787451981992846e-7,
           -7.352390111267947e-7,
           -0.0000013563725694892735,
           -0.0000021177309833072073,
           -0.000002995856297736531,
           -0.000003968363418874077,
           -0.000005013978224462397,
           -0.0000061125449546554745,
           -0.000007245027569167996,
           -0.000008393509970568649,
           -0.00000954119601278021,
           -0.00001067240947405056,
           -0.000011772594026269473,
           -0.000012828313204561443,
           -0.000013827250377305145,
           -0.00001475820871674314,
           -0.000015611111170547184,
           -0.00001637700043476752,
           -0.000017048038928590694,
           -0.000017617508771304238,
           -0.00001807981176183152,
           -0.000018430469361159407,
           -0.00001866612267793597,
           -0.000018784532457465385,
           -0.00001878457907427326,
           -0.000018666262528359814,
           -0.00001843070244519986,
           -0.000018080138079489635,
           -0.000017617928322581394,
           -0.00001704855171348867,
           -0.000016377606453288425,
           -0.0000156118104226934,
           -0.000014759001202517282,
           -0.000013828136096710235,
           -0.000012829292157601858,
           -0.000011773666212953664,
           -0.00001067357489439243,
           -0.000009542454666755501,
           -0.00000839486185778767,
           -0.000007246472687429337,
           -0.00000611408329609234,
           -0.000005015609776062147,
           -0.000003970088238452518,
           -0.000002997675029236331,
           -0.0000021196469897936734,
           -0.0000013583969875709321,
           -7.373857848324388e-7,
           -2.809071877444589e-7,
           -1.4106721224819265e-8,
           2.648448571562767e-22
          ],
          [
           1.6269041225314139e-21,
           -2.5399180502239473e-8,
           -2.935656344734172e-7,
           -7.477895437193202e-7,
           -0.0000013668225279868987,
           -0.000002126226614453494,
           -0.0000030025012667768006,
           -0.0000039732548882305975,
           -0.000005017213266066555,
           -0.000006114220777014488,
           -0.000007245241400294674,
           -0.000008392359032326508,
           -0.000009538777521637275,
           -0.000010668820643065587,
           -0.000011767932065787723,
           -0.000012822675322374924,
           -0.000013820733778712125,
           -0.000014750910604626192,
           -0.000015603128745489184,
           -0.000016368430895204984,
           -0.00001703897947100137,
           -0.000017608056590425652,
           -0.000018070064050906965,
           -0.00001842052331220751,
           -0.000018656075482039546,
           -0.000018774481305075056,
           -0.00001877462115552105,
           -0.000018656495033377723,
           -0.000018421222564438506,
           -0.0000180710430040318,
           -0.00001760931524444566,
           -0.000017040517825918276,
           -0.000016370248951020823,
           -0.00001560522650220626,
           -0.000014753288062247037,
           -0.000013823390937239882,
           -0.000012825612181815286,
           -0.000011771148626154793,
           -0.000010672316904386229,
           -0.000009542553483869127,
           -0.000008396414694709205,
           -0.000007249576758400969,
           -0.000006118835814545314,
           -0.000005022107953517605,
           -0.000003978429327850924,
           -0.000003007956719885448,
           -0.0000021319698772787712,
           -0.0000013728768558752195,
           -7.541871936828412e-7,
           -3.0009671143802273e-7,
           -2.974393140881143e-8,
           -6.810296326875686e-22
          ],
          [
           0,
           -4.405996865717285e-8,
           -3.0894400283512633e-7,
           -7.611875756305808e-7,
           -0.0000013781442385171892,
           -0.0000021355546962972763,
           -0.0000030099318916406923,
           -0.00000397888529064445,
           -0.0000050211406480466945,
           -0.000006116542345045279,
           -0.000007246054369595779,
           -0.000008391760619860131,
           -0.000009536864942798367,
           -0.000010665691110804006,
           -0.000011763682790452782,
           -0.000012817403511717237,
           -0.00001381453663793141,
           -0.0000147438853364548,
           -0.000015595372550312576,
           -0.000016360040971218754,
           -0.000017030053014402717,
           -0.00001759869079563635,
           -0.000018060356110824348,
           -0.000018410570418479474,
           -0.000018645974825359254,
           -0.000018764330075490695,
           -0.000018764516542755755,
           -0.00001864653422715463,
           -0.00001841150275480579,
           -0.000018061661381682614,
           -0.000017600369001027868,
           -0.000017032104154329193,
           -0.00001636246504568219,
           -0.000015598169559315236,
           -0.000014747055279999187,
           -0.000013818079516020662,
           -0.000012821319324356916,
           -0.000011767971537655656,
           -0.00001067035279258943,
           -0.000009541899559096304,
           -0.000008397168169859073,
           -0.000007251834849034026,
           -0.000006122695739728992,
           -0.000005027666939918788,
           -0.000003985784621535561,
           -0.000003017205581192771,
           -0.000002143209198846954,
           -0.0000013861993191934322,
           -7.696582700478107e-7,
           -3.175560774416572e-7,
           -5.074205533516146e-8,
           0
          ]
         ]
        }
       ],
       "layout": {
        "template": {
         "data": {
          "bar": [
           {
            "error_x": {
             "color": "#2a3f5f"
            },
            "error_y": {
             "color": "#2a3f5f"
            },
            "marker": {
             "line": {
              "color": "#E5ECF6",
              "width": 0.5
             },
             "pattern": {
              "fillmode": "overlay",
              "size": 10,
              "solidity": 0.2
             }
            },
            "type": "bar"
           }
          ],
          "barpolar": [
           {
            "marker": {
             "line": {
              "color": "#E5ECF6",
              "width": 0.5
             },
             "pattern": {
              "fillmode": "overlay",
              "size": 10,
              "solidity": 0.2
             }
            },
            "type": "barpolar"
           }
          ],
          "carpet": [
           {
            "aaxis": {
             "endlinecolor": "#2a3f5f",
             "gridcolor": "white",
             "linecolor": "white",
             "minorgridcolor": "white",
             "startlinecolor": "#2a3f5f"
            },
            "baxis": {
             "endlinecolor": "#2a3f5f",
             "gridcolor": "white",
             "linecolor": "white",
             "minorgridcolor": "white",
             "startlinecolor": "#2a3f5f"
            },
            "type": "carpet"
           }
          ],
          "choropleth": [
           {
            "colorbar": {
             "outlinewidth": 0,
             "ticks": ""
            },
            "type": "choropleth"
           }
          ],
          "contour": [
           {
            "colorbar": {
             "outlinewidth": 0,
             "ticks": ""
            },
            "colorscale": [
             [
              0,
              "#0d0887"
             ],
             [
              0.1111111111111111,
              "#46039f"
             ],
             [
              0.2222222222222222,
              "#7201a8"
             ],
             [
              0.3333333333333333,
              "#9c179e"
             ],
             [
              0.4444444444444444,
              "#bd3786"
             ],
             [
              0.5555555555555556,
              "#d8576b"
             ],
             [
              0.6666666666666666,
              "#ed7953"
             ],
             [
              0.7777777777777778,
              "#fb9f3a"
             ],
             [
              0.8888888888888888,
              "#fdca26"
             ],
             [
              1,
              "#f0f921"
             ]
            ],
            "type": "contour"
           }
          ],
          "contourcarpet": [
           {
            "colorbar": {
             "outlinewidth": 0,
             "ticks": ""
            },
            "type": "contourcarpet"
           }
          ],
          "heatmap": [
           {
            "colorbar": {
             "outlinewidth": 0,
             "ticks": ""
            },
            "colorscale": [
             [
              0,
              "#0d0887"
             ],
             [
              0.1111111111111111,
              "#46039f"
             ],
             [
              0.2222222222222222,
              "#7201a8"
             ],
             [
              0.3333333333333333,
              "#9c179e"
             ],
             [
              0.4444444444444444,
              "#bd3786"
             ],
             [
              0.5555555555555556,
              "#d8576b"
             ],
             [
              0.6666666666666666,
              "#ed7953"
             ],
             [
              0.7777777777777778,
              "#fb9f3a"
             ],
             [
              0.8888888888888888,
              "#fdca26"
             ],
             [
              1,
              "#f0f921"
             ]
            ],
            "type": "heatmap"
           }
          ],
          "heatmapgl": [
           {
            "colorbar": {
             "outlinewidth": 0,
             "ticks": ""
            },
            "colorscale": [
             [
              0,
              "#0d0887"
             ],
             [
              0.1111111111111111,
              "#46039f"
             ],
             [
              0.2222222222222222,
              "#7201a8"
             ],
             [
              0.3333333333333333,
              "#9c179e"
             ],
             [
              0.4444444444444444,
              "#bd3786"
             ],
             [
              0.5555555555555556,
              "#d8576b"
             ],
             [
              0.6666666666666666,
              "#ed7953"
             ],
             [
              0.7777777777777778,
              "#fb9f3a"
             ],
             [
              0.8888888888888888,
              "#fdca26"
             ],
             [
              1,
              "#f0f921"
             ]
            ],
            "type": "heatmapgl"
           }
          ],
          "histogram": [
           {
            "marker": {
             "pattern": {
              "fillmode": "overlay",
              "size": 10,
              "solidity": 0.2
             }
            },
            "type": "histogram"
           }
          ],
          "histogram2d": [
           {
            "colorbar": {
             "outlinewidth": 0,
             "ticks": ""
            },
            "colorscale": [
             [
              0,
              "#0d0887"
             ],
             [
              0.1111111111111111,
              "#46039f"
             ],
             [
              0.2222222222222222,
              "#7201a8"
             ],
             [
              0.3333333333333333,
              "#9c179e"
             ],
             [
              0.4444444444444444,
              "#bd3786"
             ],
             [
              0.5555555555555556,
              "#d8576b"
             ],
             [
              0.6666666666666666,
              "#ed7953"
             ],
             [
              0.7777777777777778,
              "#fb9f3a"
             ],
             [
              0.8888888888888888,
              "#fdca26"
             ],
             [
              1,
              "#f0f921"
             ]
            ],
            "type": "histogram2d"
           }
          ],
          "histogram2dcontour": [
           {
            "colorbar": {
             "outlinewidth": 0,
             "ticks": ""
            },
            "colorscale": [
             [
              0,
              "#0d0887"
             ],
             [
              0.1111111111111111,
              "#46039f"
             ],
             [
              0.2222222222222222,
              "#7201a8"
             ],
             [
              0.3333333333333333,
              "#9c179e"
             ],
             [
              0.4444444444444444,
              "#bd3786"
             ],
             [
              0.5555555555555556,
              "#d8576b"
             ],
             [
              0.6666666666666666,
              "#ed7953"
             ],
             [
              0.7777777777777778,
              "#fb9f3a"
             ],
             [
              0.8888888888888888,
              "#fdca26"
             ],
             [
              1,
              "#f0f921"
             ]
            ],
            "type": "histogram2dcontour"
           }
          ],
          "mesh3d": [
           {
            "colorbar": {
             "outlinewidth": 0,
             "ticks": ""
            },
            "type": "mesh3d"
           }
          ],
          "parcoords": [
           {
            "line": {
             "colorbar": {
              "outlinewidth": 0,
              "ticks": ""
             }
            },
            "type": "parcoords"
           }
          ],
          "pie": [
           {
            "automargin": true,
            "type": "pie"
           }
          ],
          "scatter": [
           {
            "marker": {
             "colorbar": {
              "outlinewidth": 0,
              "ticks": ""
             }
            },
            "type": "scatter"
           }
          ],
          "scatter3d": [
           {
            "line": {
             "colorbar": {
              "outlinewidth": 0,
              "ticks": ""
             }
            },
            "marker": {
             "colorbar": {
              "outlinewidth": 0,
              "ticks": ""
             }
            },
            "type": "scatter3d"
           }
          ],
          "scattercarpet": [
           {
            "marker": {
             "colorbar": {
              "outlinewidth": 0,
              "ticks": ""
             }
            },
            "type": "scattercarpet"
           }
          ],
          "scattergeo": [
           {
            "marker": {
             "colorbar": {
              "outlinewidth": 0,
              "ticks": ""
             }
            },
            "type": "scattergeo"
           }
          ],
          "scattergl": [
           {
            "marker": {
             "colorbar": {
              "outlinewidth": 0,
              "ticks": ""
             }
            },
            "type": "scattergl"
           }
          ],
          "scattermapbox": [
           {
            "marker": {
             "colorbar": {
              "outlinewidth": 0,
              "ticks": ""
             }
            },
            "type": "scattermapbox"
           }
          ],
          "scatterpolar": [
           {
            "marker": {
             "colorbar": {
              "outlinewidth": 0,
              "ticks": ""
             }
            },
            "type": "scatterpolar"
           }
          ],
          "scatterpolargl": [
           {
            "marker": {
             "colorbar": {
              "outlinewidth": 0,
              "ticks": ""
             }
            },
            "type": "scatterpolargl"
           }
          ],
          "scatterternary": [
           {
            "marker": {
             "colorbar": {
              "outlinewidth": 0,
              "ticks": ""
             }
            },
            "type": "scatterternary"
           }
          ],
          "surface": [
           {
            "colorbar": {
             "outlinewidth": 0,
             "ticks": ""
            },
            "colorscale": [
             [
              0,
              "#0d0887"
             ],
             [
              0.1111111111111111,
              "#46039f"
             ],
             [
              0.2222222222222222,
              "#7201a8"
             ],
             [
              0.3333333333333333,
              "#9c179e"
             ],
             [
              0.4444444444444444,
              "#bd3786"
             ],
             [
              0.5555555555555556,
              "#d8576b"
             ],
             [
              0.6666666666666666,
              "#ed7953"
             ],
             [
              0.7777777777777778,
              "#fb9f3a"
             ],
             [
              0.8888888888888888,
              "#fdca26"
             ],
             [
              1,
              "#f0f921"
             ]
            ],
            "type": "surface"
           }
          ],
          "table": [
           {
            "cells": {
             "fill": {
              "color": "#EBF0F8"
             },
             "line": {
              "color": "white"
             }
            },
            "header": {
             "fill": {
              "color": "#C8D4E3"
             },
             "line": {
              "color": "white"
             }
            },
            "type": "table"
           }
          ]
         },
         "layout": {
          "annotationdefaults": {
           "arrowcolor": "#2a3f5f",
           "arrowhead": 0,
           "arrowwidth": 1
          },
          "autotypenumbers": "strict",
          "coloraxis": {
           "colorbar": {
            "outlinewidth": 0,
            "ticks": ""
           }
          },
          "colorscale": {
           "diverging": [
            [
             0,
             "#8e0152"
            ],
            [
             0.1,
             "#c51b7d"
            ],
            [
             0.2,
             "#de77ae"
            ],
            [
             0.3,
             "#f1b6da"
            ],
            [
             0.4,
             "#fde0ef"
            ],
            [
             0.5,
             "#f7f7f7"
            ],
            [
             0.6,
             "#e6f5d0"
            ],
            [
             0.7,
             "#b8e186"
            ],
            [
             0.8,
             "#7fbc41"
            ],
            [
             0.9,
             "#4d9221"
            ],
            [
             1,
             "#276419"
            ]
           ],
           "sequential": [
            [
             0,
             "#0d0887"
            ],
            [
             0.1111111111111111,
             "#46039f"
            ],
            [
             0.2222222222222222,
             "#7201a8"
            ],
            [
             0.3333333333333333,
             "#9c179e"
            ],
            [
             0.4444444444444444,
             "#bd3786"
            ],
            [
             0.5555555555555556,
             "#d8576b"
            ],
            [
             0.6666666666666666,
             "#ed7953"
            ],
            [
             0.7777777777777778,
             "#fb9f3a"
            ],
            [
             0.8888888888888888,
             "#fdca26"
            ],
            [
             1,
             "#f0f921"
            ]
           ],
           "sequentialminus": [
            [
             0,
             "#0d0887"
            ],
            [
             0.1111111111111111,
             "#46039f"
            ],
            [
             0.2222222222222222,
             "#7201a8"
            ],
            [
             0.3333333333333333,
             "#9c179e"
            ],
            [
             0.4444444444444444,
             "#bd3786"
            ],
            [
             0.5555555555555556,
             "#d8576b"
            ],
            [
             0.6666666666666666,
             "#ed7953"
            ],
            [
             0.7777777777777778,
             "#fb9f3a"
            ],
            [
             0.8888888888888888,
             "#fdca26"
            ],
            [
             1,
             "#f0f921"
            ]
           ]
          },
          "colorway": [
           "#636efa",
           "#EF553B",
           "#00cc96",
           "#ab63fa",
           "#FFA15A",
           "#19d3f3",
           "#FF6692",
           "#B6E880",
           "#FF97FF",
           "#FECB52"
          ],
          "font": {
           "color": "#2a3f5f"
          },
          "geo": {
           "bgcolor": "white",
           "lakecolor": "white",
           "landcolor": "#E5ECF6",
           "showlakes": true,
           "showland": true,
           "subunitcolor": "white"
          },
          "hoverlabel": {
           "align": "left"
          },
          "hovermode": "closest",
          "mapbox": {
           "style": "light"
          },
          "paper_bgcolor": "white",
          "plot_bgcolor": "#E5ECF6",
          "polar": {
           "angularaxis": {
            "gridcolor": "white",
            "linecolor": "white",
            "ticks": ""
           },
           "bgcolor": "#E5ECF6",
           "radialaxis": {
            "gridcolor": "white",
            "linecolor": "white",
            "ticks": ""
           }
          },
          "scene": {
           "xaxis": {
            "backgroundcolor": "#E5ECF6",
            "gridcolor": "white",
            "gridwidth": 2,
            "linecolor": "white",
            "showbackground": true,
            "ticks": "",
            "zerolinecolor": "white"
           },
           "yaxis": {
            "backgroundcolor": "#E5ECF6",
            "gridcolor": "white",
            "gridwidth": 2,
            "linecolor": "white",
            "showbackground": true,
            "ticks": "",
            "zerolinecolor": "white"
           },
           "zaxis": {
            "backgroundcolor": "#E5ECF6",
            "gridcolor": "white",
            "gridwidth": 2,
            "linecolor": "white",
            "showbackground": true,
            "ticks": "",
            "zerolinecolor": "white"
           }
          },
          "shapedefaults": {
           "line": {
            "color": "#2a3f5f"
           }
          },
          "ternary": {
           "aaxis": {
            "gridcolor": "white",
            "linecolor": "white",
            "ticks": ""
           },
           "baxis": {
            "gridcolor": "white",
            "linecolor": "white",
            "ticks": ""
           },
           "bgcolor": "#E5ECF6",
           "caxis": {
            "gridcolor": "white",
            "linecolor": "white",
            "ticks": ""
           }
          },
          "title": {
           "x": 0.05
          },
          "xaxis": {
           "automargin": true,
           "gridcolor": "white",
           "linecolor": "white",
           "ticks": "",
           "title": {
            "standoff": 15
           },
           "zerolinecolor": "white",
           "zerolinewidth": 2
          },
          "yaxis": {
           "automargin": true,
           "gridcolor": "white",
           "linecolor": "white",
           "ticks": "",
           "title": {
            "standoff": 15
           },
           "zerolinecolor": "white",
           "zerolinewidth": 2
          }
         }
        }
       }
      },
      "text/html": [
       "<div>                            <div id=\"acd895e8-8eef-4699-a199-93b06639b1b5\" class=\"plotly-graph-div\" style=\"height:525px; width:100%;\"></div>            <script type=\"text/javascript\">                require([\"plotly\"], function(Plotly) {                    window.PLOTLYENV=window.PLOTLYENV || {};                                    if (document.getElementById(\"acd895e8-8eef-4699-a199-93b06639b1b5\")) {                    Plotly.newPlot(                        \"acd895e8-8eef-4699-a199-93b06639b1b5\",                        [{\"x\":[[0.0,0.02,0.06,0.09999999999999999,0.13999999999999999,0.17999999999999997,0.21999999999999995,0.25999999999999995,0.3,0.33999999999999997,0.37999999999999995,0.41999999999999993,0.45999999999999996,0.49999999999999994,0.5399999999999999,0.58,0.6199999999999999,0.6599999999999999,0.7,0.7399999999999999,0.7799999999999999,0.8199999999999998,0.8599999999999999,0.8999999999999999,0.9399999999999998,0.9799999999999999,1.0199999999999998,1.0599999999999998,1.0999999999999999,1.14,1.18,1.2199999999999998,1.2599999999999998,1.2999999999999998,1.3399999999999999,1.38,1.4199999999999997,1.4599999999999997,1.4999999999999998,1.5399999999999998,1.5799999999999998,1.6199999999999997,1.6599999999999997,1.6999999999999997,1.7399999999999998,1.7799999999999998,1.8199999999999998,1.8599999999999997,1.8999999999999997,1.9399999999999997,1.9799999999999998,2.0],[0.0,0.02,0.06,0.09999999999999999,0.13999999999999999,0.17999999999999997,0.21999999999999995,0.25999999999999995,0.3,0.33999999999999997,0.37999999999999995,0.41999999999999993,0.45999999999999996,0.49999999999999994,0.5399999999999999,0.58,0.6199999999999999,0.6599999999999999,0.7,0.7399999999999999,0.7799999999999999,0.8199999999999998,0.8599999999999999,0.8999999999999999,0.9399999999999998,0.9799999999999999,1.0199999999999998,1.0599999999999998,1.0999999999999999,1.14,1.18,1.2199999999999998,1.2599999999999998,1.2999999999999998,1.3399999999999999,1.38,1.4199999999999997,1.4599999999999997,1.4999999999999998,1.5399999999999998,1.5799999999999998,1.6199999999999997,1.6599999999999997,1.6999999999999997,1.7399999999999998,1.7799999999999998,1.8199999999999998,1.8599999999999997,1.8999999999999997,1.9399999999999997,1.9799999999999998,2.0],[0.0,0.02,0.06,0.09999999999999999,0.13999999999999999,0.17999999999999997,0.21999999999999995,0.25999999999999995,0.3,0.33999999999999997,0.37999999999999995,0.41999999999999993,0.45999999999999996,0.49999999999999994,0.5399999999999999,0.58,0.6199999999999999,0.6599999999999999,0.7,0.7399999999999999,0.7799999999999999,0.8199999999999998,0.8599999999999999,0.8999999999999999,0.9399999999999998,0.9799999999999999,1.0199999999999998,1.0599999999999998,1.0999999999999999,1.14,1.18,1.2199999999999998,1.2599999999999998,1.2999999999999998,1.3399999999999999,1.38,1.4199999999999997,1.4599999999999997,1.4999999999999998,1.5399999999999998,1.5799999999999998,1.6199999999999997,1.6599999999999997,1.6999999999999997,1.7399999999999998,1.7799999999999998,1.8199999999999998,1.8599999999999997,1.8999999999999997,1.9399999999999997,1.9799999999999998,2.0],[0.0,0.02,0.06,0.09999999999999999,0.13999999999999999,0.17999999999999997,0.21999999999999995,0.25999999999999995,0.3,0.33999999999999997,0.37999999999999995,0.41999999999999993,0.45999999999999996,0.49999999999999994,0.5399999999999999,0.58,0.6199999999999999,0.6599999999999999,0.7,0.7399999999999999,0.7799999999999999,0.8199999999999998,0.8599999999999999,0.8999999999999999,0.9399999999999998,0.9799999999999999,1.0199999999999998,1.0599999999999998,1.0999999999999999,1.14,1.18,1.2199999999999998,1.2599999999999998,1.2999999999999998,1.3399999999999999,1.38,1.4199999999999997,1.4599999999999997,1.4999999999999998,1.5399999999999998,1.5799999999999998,1.6199999999999997,1.6599999999999997,1.6999999999999997,1.7399999999999998,1.7799999999999998,1.8199999999999998,1.8599999999999997,1.8999999999999997,1.9399999999999997,1.9799999999999998,2.0],[0.0,0.02,0.06,0.09999999999999999,0.13999999999999999,0.17999999999999997,0.21999999999999995,0.25999999999999995,0.3,0.33999999999999997,0.37999999999999995,0.41999999999999993,0.45999999999999996,0.49999999999999994,0.5399999999999999,0.58,0.6199999999999999,0.6599999999999999,0.7,0.7399999999999999,0.7799999999999999,0.8199999999999998,0.8599999999999999,0.8999999999999999,0.9399999999999998,0.9799999999999999,1.0199999999999998,1.0599999999999998,1.0999999999999999,1.14,1.18,1.2199999999999998,1.2599999999999998,1.2999999999999998,1.3399999999999999,1.38,1.4199999999999997,1.4599999999999997,1.4999999999999998,1.5399999999999998,1.5799999999999998,1.6199999999999997,1.6599999999999997,1.6999999999999997,1.7399999999999998,1.7799999999999998,1.8199999999999998,1.8599999999999997,1.8999999999999997,1.9399999999999997,1.9799999999999998,2.0],[0.0,0.02,0.06,0.09999999999999999,0.13999999999999999,0.17999999999999997,0.21999999999999995,0.25999999999999995,0.3,0.33999999999999997,0.37999999999999995,0.41999999999999993,0.45999999999999996,0.49999999999999994,0.5399999999999999,0.58,0.6199999999999999,0.6599999999999999,0.7,0.7399999999999999,0.7799999999999999,0.8199999999999998,0.8599999999999999,0.8999999999999999,0.9399999999999998,0.9799999999999999,1.0199999999999998,1.0599999999999998,1.0999999999999999,1.14,1.18,1.2199999999999998,1.2599999999999998,1.2999999999999998,1.3399999999999999,1.38,1.4199999999999997,1.4599999999999997,1.4999999999999998,1.5399999999999998,1.5799999999999998,1.6199999999999997,1.6599999999999997,1.6999999999999997,1.7399999999999998,1.7799999999999998,1.8199999999999998,1.8599999999999997,1.8999999999999997,1.9399999999999997,1.9799999999999998,2.0]],\"y\":[[0.0,0.0,0.0,0.0,0.0,0.0,0.0,0.0,0.0,0.0,0.0,0.0,0.0,0.0,0.0,0.0,0.0,0.0,0.0,0.0,0.0,0.0,0.0,0.0,0.0,0.0,0.0,0.0,0.0,0.0,0.0,0.0,0.0,0.0,0.0,0.0,0.0,0.0,0.0,0.0,0.0,0.0,0.0,0.0,0.0,0.0,0.0,0.0,0.0,0.0,0.0,0.0],[0.0125,0.0125,0.0125,0.0125,0.0125,0.0125,0.0125,0.0125,0.0125,0.0125,0.0125,0.0125,0.0125,0.0125,0.0125,0.0125,0.0125,0.0125,0.0125,0.0125,0.0125,0.0125,0.0125,0.0125,0.0125,0.0125,0.0125,0.0125,0.0125,0.0125,0.0125,0.0125,0.0125,0.0125,0.0125,0.0125,0.0125,0.0125,0.0125,0.0125,0.0125,0.0125,0.0125,0.0125,0.0125,0.0125,0.0125,0.0125,0.0125,0.0125,0.0125,0.0125],[0.037500000000000006,0.037500000000000006,0.037500000000000006,0.037500000000000006,0.037500000000000006,0.037500000000000006,0.037500000000000006,0.037500000000000006,0.037500000000000006,0.037500000000000006,0.037500000000000006,0.037500000000000006,0.037500000000000006,0.037500000000000006,0.037500000000000006,0.037500000000000006,0.037500000000000006,0.037500000000000006,0.037500000000000006,0.037500000000000006,0.037500000000000006,0.037500000000000006,0.037500000000000006,0.037500000000000006,0.037500000000000006,0.037500000000000006,0.037500000000000006,0.037500000000000006,0.037500000000000006,0.037500000000000006,0.037500000000000006,0.037500000000000006,0.037500000000000006,0.037500000000000006,0.037500000000000006,0.037500000000000006,0.037500000000000006,0.037500000000000006,0.037500000000000006,0.037500000000000006,0.037500000000000006,0.037500000000000006,0.037500000000000006,0.037500000000000006,0.037500000000000006,0.037500000000000006,0.037500000000000006,0.037500000000000006,0.037500000000000006,0.037500000000000006,0.037500000000000006,0.037500000000000006],[0.06250000000000001,0.06250000000000001,0.06250000000000001,0.06250000000000001,0.06250000000000001,0.06250000000000001,0.06250000000000001,0.06250000000000001,0.06250000000000001,0.06250000000000001,0.06250000000000001,0.06250000000000001,0.06250000000000001,0.06250000000000001,0.06250000000000001,0.06250000000000001,0.06250000000000001,0.06250000000000001,0.06250000000000001,0.06250000000000001,0.06250000000000001,0.06250000000000001,0.06250000000000001,0.06250000000000001,0.06250000000000001,0.06250000000000001,0.06250000000000001,0.06250000000000001,0.06250000000000001,0.06250000000000001,0.06250000000000001,0.06250000000000001,0.06250000000000001,0.06250000000000001,0.06250000000000001,0.06250000000000001,0.06250000000000001,0.06250000000000001,0.06250000000000001,0.06250000000000001,0.06250000000000001,0.06250000000000001,0.06250000000000001,0.06250000000000001,0.06250000000000001,0.06250000000000001,0.06250000000000001,0.06250000000000001,0.06250000000000001,0.06250000000000001,0.06250000000000001,0.06250000000000001],[0.08750000000000001,0.08750000000000001,0.08750000000000001,0.08750000000000001,0.08750000000000001,0.08750000000000001,0.08750000000000001,0.08750000000000001,0.08750000000000001,0.08750000000000001,0.08750000000000001,0.08750000000000001,0.08750000000000001,0.08750000000000001,0.08750000000000001,0.08750000000000001,0.08750000000000001,0.08750000000000001,0.08750000000000001,0.08750000000000001,0.08750000000000001,0.08750000000000001,0.08750000000000001,0.08750000000000001,0.08750000000000001,0.08750000000000001,0.08750000000000001,0.08750000000000001,0.08750000000000001,0.08750000000000001,0.08750000000000001,0.08750000000000001,0.08750000000000001,0.08750000000000001,0.08750000000000001,0.08750000000000001,0.08750000000000001,0.08750000000000001,0.08750000000000001,0.08750000000000001,0.08750000000000001,0.08750000000000001,0.08750000000000001,0.08750000000000001,0.08750000000000001,0.08750000000000001,0.08750000000000001,0.08750000000000001,0.08750000000000001,0.08750000000000001,0.08750000000000001,0.08750000000000001],[0.1,0.1,0.1,0.1,0.1,0.1,0.1,0.1,0.1,0.1,0.1,0.1,0.1,0.1,0.1,0.1,0.1,0.1,0.1,0.1,0.1,0.1,0.1,0.1,0.1,0.1,0.1,0.1,0.1,0.1,0.1,0.1,0.1,0.1,0.1,0.1,0.1,0.1,0.1,0.1,0.1,0.1,0.1,0.1,0.1,0.1,0.1,0.1,0.1,0.1,0.1,0.1]],\"z\":[[0.0,-5.07420553322443e-08,-3.175560774436503e-07,-7.696582700586354e-07,-1.386199319214936e-06,-2.1432091988798646e-06,-3.017205581236985e-06,-3.985784621590272e-06,-5.0276669399825885e-06,-6.122695739800001e-06,-7.251834849109981e-06,-8.397168169937438e-06,-9.541899559174345e-06,-1.0670352792664314e-05,-1.1767971537724576e-05,-1.2821319324417094e-05,-1.3818079516069463e-05,-1.4747055280034114e-05,-1.559816955933402e-05,-1.636246504568283e-05,-1.7032104154309955e-05,-1.7600369000987353e-05,-1.8061661381619802e-05,-1.8411502754720092e-05,-1.8646534227045828e-05,-1.8764516542624038e-05,-1.8764330075336714e-05,-1.8645974825184074e-05,-1.84105704182846e-05,-1.8060356110611665e-05,-1.7598690795408075e-05,-1.7030053014161408e-05,-1.6360040970967307e-05,-1.5595372550054082e-05,-1.4743885336192532e-05,-1.3814536637668762e-05,-1.2817403511457687e-05,-1.1763682790199814e-05,-1.066569111056104e-05,-9.536864942568685e-06,-8.391760619646792e-06,-7.246054369401539e-06,-6.11654234487246e-06,-5.021140647897078e-06,-3.978885290519167e-06,-3.0099318915401046e-06,-2.1355546962208307e-06,-1.3781442384632965e-06,-7.611875755964742e-07,-3.089440028168919e-07,-4.4059968650572895e-08,0.0],[1.5512341633439064e-21,-2.9743931407362198e-08,-3.0009671144231873e-07,-7.541871936974777e-07,-1.3728768559024844e-06,-2.13196987731979e-06,-3.0079567199404523e-06,-3.97842932791938e-06,-5.022107953598314e-06,-6.118835814636542e-06,-7.249576758500549e-06,-8.396414694814636e-06,-9.542553483977667e-06,-1.0672316904494991e-05,-1.177114862626087e-05,-1.2825612181915764e-05,-1.3823390937331948e-05,-1.4753288062327988e-05,-1.5605226502273592e-05,-1.6370248951072272e-05,-1.7040517825951822e-05,-1.7609315244459592e-05,-1.807104300402478e-05,-1.8421222564409612e-05,-1.8656495033326392e-05,-1.8774621155447116e-05,-1.8774481304978823e-05,-1.8656075481921724e-05,-1.8420523312069256e-05,-1.8070064050749823e-05,-1.7608056590251512e-05,-1.703897947081247e-05,-1.636843089500392e-05,-1.560312874527877e-05,-1.4750910604409447e-05,-1.3820733778492213e-05,-1.2822675322155129e-05,-1.176793206557136e-05,-1.0668820642855952e-05,-9.538777521437565e-06,-8.392359032139744e-06,-7.245241400123617e-06,-6.114220776861516e-06,-5.0172132659335635e-06,-3.973254888118883e-06,-3.0025012666869554e-06,-2.1262266143852596e-06,-1.366822527939043e-06,-7.477895436894977e-07,-2.9356563445817e-07,-2.5399180498142703e-08,4.1618477553129195e-21],[-1.8917489796876905e-22,-1.4106721225042235e-08,-2.8090718775208516e-07,-7.373857848519019e-07,-1.358396987604925e-06,-2.119646989843713e-06,-2.99767502930297e-06,-3.970088238535475e-06,-5.015609776160415e-06,-6.114083296204323e-06,-7.246472687552947e-06,-8.394861857920438e-06,-9.542454666894672e-06,-1.0673574894535061e-05,-1.1773666213096751e-05,-1.2829292157742352e-05,-1.3828136096845154e-05,-1.475900120264372e-05,-1.5611810422808624e-05,-1.6377606453389923e-05,-1.7048551713574152e-05,-1.7617928322648856e-05,-1.808013807953743e-05,-1.8430702445226743e-05,-1.866626252836489e-05,-1.878457907425604e-05,-1.8784532457425822e-05,-1.866612267787445e-05,-1.8430469361076746e-05,-1.8079811761728946e-05,-1.761750877118332e-05,-1.7048038928453373e-05,-1.6377000434616104e-05,-1.5611111170384222e-05,-1.47582087165714e-05,-1.3827250377127576e-05,-1.2828313204381148e-05,-1.17725940260896e-05,-1.067240947387429e-05,-9.54119601261064e-06,-8.393509970408773e-06,-7.24502756902057e-06,-6.112544954522931e-06,-5.0139782243467325e-06,-3.968363418776741e-06,-2.9958562976583294e-06,-2.117730983248157e-06,-1.3563725694484855e-06,-7.352390111023399e-07,-2.7874519818812456e-07,-1.2795848718499084e-08,-1.863372744992375e-21],[-1.71203282661736e-21,-1.2795848720288954e-08,-2.787451981992846e-07,-7.352390111267947e-07,-1.3563725694892735e-06,-2.1177309833072073e-06,-2.995856297736531e-06,-3.968363418874077e-06,-5.013978224462397e-06,-6.1125449546554745e-06,-7.245027569167996e-06,-8.393509970568649e-06,-9.54119601278021e-06,-1.067240947405056e-05,-1.1772594026269473e-05,-1.2828313204561443e-05,-1.3827250377305145e-05,-1.475820871674314e-05,-1.5611111170547184e-05,-1.637700043476752e-05,-1.7048038928590694e-05,-1.7617508771304238e-05,-1.807981176183152e-05,-1.8430469361159407e-05,-1.866612267793597e-05,-1.8784532457465385e-05,-1.878457907427326e-05,-1.8666262528359814e-05,-1.843070244519986e-05,-1.8080138079489635e-05,-1.7617928322581394e-05,-1.704855171348867e-05,-1.6377606453288425e-05,-1.56118104226934e-05,-1.4759001202517282e-05,-1.3828136096710235e-05,-1.2829292157601858e-05,-1.1773666212953664e-05,-1.067357489439243e-05,-9.542454666755501e-06,-8.39486185778767e-06,-7.246472687429337e-06,-6.11408329609234e-06,-5.015609776062147e-06,-3.970088238452518e-06,-2.997675029236331e-06,-2.1196469897936734e-06,-1.3583969875709321e-06,-7.373857848324388e-07,-2.809071877444589e-07,-1.4106721224819265e-08,2.648448571562767e-22],[1.6269041225314139e-21,-2.5399180502239473e-08,-2.935656344734172e-07,-7.477895437193202e-07,-1.3668225279868987e-06,-2.126226614453494e-06,-3.0025012667768006e-06,-3.9732548882305975e-06,-5.017213266066555e-06,-6.114220777014488e-06,-7.245241400294674e-06,-8.392359032326508e-06,-9.538777521637275e-06,-1.0668820643065587e-05,-1.1767932065787723e-05,-1.2822675322374924e-05,-1.3820733778712125e-05,-1.4750910604626192e-05,-1.5603128745489184e-05,-1.6368430895204984e-05,-1.703897947100137e-05,-1.7608056590425652e-05,-1.8070064050906965e-05,-1.842052331220751e-05,-1.8656075482039546e-05,-1.8774481305075056e-05,-1.877462115552105e-05,-1.8656495033377723e-05,-1.8421222564438506e-05,-1.80710430040318e-05,-1.760931524444566e-05,-1.7040517825918276e-05,-1.6370248951020823e-05,-1.560522650220626e-05,-1.4753288062247037e-05,-1.3823390937239882e-05,-1.2825612181815286e-05,-1.1771148626154793e-05,-1.0672316904386229e-05,-9.542553483869127e-06,-8.396414694709205e-06,-7.249576758400969e-06,-6.118835814545314e-06,-5.022107953517605e-06,-3.978429327850924e-06,-3.007956719885448e-06,-2.1319698772787712e-06,-1.3728768558752195e-06,-7.541871936828412e-07,-3.0009671143802273e-07,-2.974393140881143e-08,-6.810296326875686e-22],[0.0,-4.405996865717285e-08,-3.0894400283512633e-07,-7.611875756305808e-07,-1.3781442385171892e-06,-2.1355546962972763e-06,-3.0099318916406923e-06,-3.97888529064445e-06,-5.0211406480466945e-06,-6.116542345045279e-06,-7.246054369595779e-06,-8.391760619860131e-06,-9.536864942798367e-06,-1.0665691110804006e-05,-1.1763682790452782e-05,-1.2817403511717237e-05,-1.381453663793141e-05,-1.47438853364548e-05,-1.5595372550312576e-05,-1.6360040971218754e-05,-1.7030053014402717e-05,-1.759869079563635e-05,-1.8060356110824348e-05,-1.8410570418479474e-05,-1.8645974825359254e-05,-1.8764330075490695e-05,-1.8764516542755755e-05,-1.864653422715463e-05,-1.841150275480579e-05,-1.8061661381682614e-05,-1.7600369001027868e-05,-1.7032104154329193e-05,-1.636246504568219e-05,-1.5598169559315236e-05,-1.4747055279999187e-05,-1.3818079516020662e-05,-1.2821319324356916e-05,-1.1767971537655656e-05,-1.067035279258943e-05,-9.541899559096304e-06,-8.397168169859073e-06,-7.251834849034026e-06,-6.122695739728992e-06,-5.027666939918788e-06,-3.985784621535561e-06,-3.017205581192771e-06,-2.143209198846954e-06,-1.3861993191934322e-06,-7.696582700478107e-07,-3.175560774416572e-07,-5.074205533516146e-08,0.0]],\"type\":\"surface\"}],                        {\"template\":{\"data\":{\"bar\":[{\"error_x\":{\"color\":\"#2a3f5f\"},\"error_y\":{\"color\":\"#2a3f5f\"},\"marker\":{\"line\":{\"color\":\"#E5ECF6\",\"width\":0.5},\"pattern\":{\"fillmode\":\"overlay\",\"size\":10,\"solidity\":0.2}},\"type\":\"bar\"}],\"barpolar\":[{\"marker\":{\"line\":{\"color\":\"#E5ECF6\",\"width\":0.5},\"pattern\":{\"fillmode\":\"overlay\",\"size\":10,\"solidity\":0.2}},\"type\":\"barpolar\"}],\"carpet\":[{\"aaxis\":{\"endlinecolor\":\"#2a3f5f\",\"gridcolor\":\"white\",\"linecolor\":\"white\",\"minorgridcolor\":\"white\",\"startlinecolor\":\"#2a3f5f\"},\"baxis\":{\"endlinecolor\":\"#2a3f5f\",\"gridcolor\":\"white\",\"linecolor\":\"white\",\"minorgridcolor\":\"white\",\"startlinecolor\":\"#2a3f5f\"},\"type\":\"carpet\"}],\"choropleth\":[{\"colorbar\":{\"outlinewidth\":0,\"ticks\":\"\"},\"type\":\"choropleth\"}],\"contour\":[{\"colorbar\":{\"outlinewidth\":0,\"ticks\":\"\"},\"colorscale\":[[0.0,\"#0d0887\"],[0.1111111111111111,\"#46039f\"],[0.2222222222222222,\"#7201a8\"],[0.3333333333333333,\"#9c179e\"],[0.4444444444444444,\"#bd3786\"],[0.5555555555555556,\"#d8576b\"],[0.6666666666666666,\"#ed7953\"],[0.7777777777777778,\"#fb9f3a\"],[0.8888888888888888,\"#fdca26\"],[1.0,\"#f0f921\"]],\"type\":\"contour\"}],\"contourcarpet\":[{\"colorbar\":{\"outlinewidth\":0,\"ticks\":\"\"},\"type\":\"contourcarpet\"}],\"heatmap\":[{\"colorbar\":{\"outlinewidth\":0,\"ticks\":\"\"},\"colorscale\":[[0.0,\"#0d0887\"],[0.1111111111111111,\"#46039f\"],[0.2222222222222222,\"#7201a8\"],[0.3333333333333333,\"#9c179e\"],[0.4444444444444444,\"#bd3786\"],[0.5555555555555556,\"#d8576b\"],[0.6666666666666666,\"#ed7953\"],[0.7777777777777778,\"#fb9f3a\"],[0.8888888888888888,\"#fdca26\"],[1.0,\"#f0f921\"]],\"type\":\"heatmap\"}],\"heatmapgl\":[{\"colorbar\":{\"outlinewidth\":0,\"ticks\":\"\"},\"colorscale\":[[0.0,\"#0d0887\"],[0.1111111111111111,\"#46039f\"],[0.2222222222222222,\"#7201a8\"],[0.3333333333333333,\"#9c179e\"],[0.4444444444444444,\"#bd3786\"],[0.5555555555555556,\"#d8576b\"],[0.6666666666666666,\"#ed7953\"],[0.7777777777777778,\"#fb9f3a\"],[0.8888888888888888,\"#fdca26\"],[1.0,\"#f0f921\"]],\"type\":\"heatmapgl\"}],\"histogram\":[{\"marker\":{\"pattern\":{\"fillmode\":\"overlay\",\"size\":10,\"solidity\":0.2}},\"type\":\"histogram\"}],\"histogram2d\":[{\"colorbar\":{\"outlinewidth\":0,\"ticks\":\"\"},\"colorscale\":[[0.0,\"#0d0887\"],[0.1111111111111111,\"#46039f\"],[0.2222222222222222,\"#7201a8\"],[0.3333333333333333,\"#9c179e\"],[0.4444444444444444,\"#bd3786\"],[0.5555555555555556,\"#d8576b\"],[0.6666666666666666,\"#ed7953\"],[0.7777777777777778,\"#fb9f3a\"],[0.8888888888888888,\"#fdca26\"],[1.0,\"#f0f921\"]],\"type\":\"histogram2d\"}],\"histogram2dcontour\":[{\"colorbar\":{\"outlinewidth\":0,\"ticks\":\"\"},\"colorscale\":[[0.0,\"#0d0887\"],[0.1111111111111111,\"#46039f\"],[0.2222222222222222,\"#7201a8\"],[0.3333333333333333,\"#9c179e\"],[0.4444444444444444,\"#bd3786\"],[0.5555555555555556,\"#d8576b\"],[0.6666666666666666,\"#ed7953\"],[0.7777777777777778,\"#fb9f3a\"],[0.8888888888888888,\"#fdca26\"],[1.0,\"#f0f921\"]],\"type\":\"histogram2dcontour\"}],\"mesh3d\":[{\"colorbar\":{\"outlinewidth\":0,\"ticks\":\"\"},\"type\":\"mesh3d\"}],\"parcoords\":[{\"line\":{\"colorbar\":{\"outlinewidth\":0,\"ticks\":\"\"}},\"type\":\"parcoords\"}],\"pie\":[{\"automargin\":true,\"type\":\"pie\"}],\"scatter\":[{\"marker\":{\"colorbar\":{\"outlinewidth\":0,\"ticks\":\"\"}},\"type\":\"scatter\"}],\"scatter3d\":[{\"line\":{\"colorbar\":{\"outlinewidth\":0,\"ticks\":\"\"}},\"marker\":{\"colorbar\":{\"outlinewidth\":0,\"ticks\":\"\"}},\"type\":\"scatter3d\"}],\"scattercarpet\":[{\"marker\":{\"colorbar\":{\"outlinewidth\":0,\"ticks\":\"\"}},\"type\":\"scattercarpet\"}],\"scattergeo\":[{\"marker\":{\"colorbar\":{\"outlinewidth\":0,\"ticks\":\"\"}},\"type\":\"scattergeo\"}],\"scattergl\":[{\"marker\":{\"colorbar\":{\"outlinewidth\":0,\"ticks\":\"\"}},\"type\":\"scattergl\"}],\"scattermapbox\":[{\"marker\":{\"colorbar\":{\"outlinewidth\":0,\"ticks\":\"\"}},\"type\":\"scattermapbox\"}],\"scatterpolar\":[{\"marker\":{\"colorbar\":{\"outlinewidth\":0,\"ticks\":\"\"}},\"type\":\"scatterpolar\"}],\"scatterpolargl\":[{\"marker\":{\"colorbar\":{\"outlinewidth\":0,\"ticks\":\"\"}},\"type\":\"scatterpolargl\"}],\"scatterternary\":[{\"marker\":{\"colorbar\":{\"outlinewidth\":0,\"ticks\":\"\"}},\"type\":\"scatterternary\"}],\"surface\":[{\"colorbar\":{\"outlinewidth\":0,\"ticks\":\"\"},\"colorscale\":[[0.0,\"#0d0887\"],[0.1111111111111111,\"#46039f\"],[0.2222222222222222,\"#7201a8\"],[0.3333333333333333,\"#9c179e\"],[0.4444444444444444,\"#bd3786\"],[0.5555555555555556,\"#d8576b\"],[0.6666666666666666,\"#ed7953\"],[0.7777777777777778,\"#fb9f3a\"],[0.8888888888888888,\"#fdca26\"],[1.0,\"#f0f921\"]],\"type\":\"surface\"}],\"table\":[{\"cells\":{\"fill\":{\"color\":\"#EBF0F8\"},\"line\":{\"color\":\"white\"}},\"header\":{\"fill\":{\"color\":\"#C8D4E3\"},\"line\":{\"color\":\"white\"}},\"type\":\"table\"}]},\"layout\":{\"annotationdefaults\":{\"arrowcolor\":\"#2a3f5f\",\"arrowhead\":0,\"arrowwidth\":1},\"autotypenumbers\":\"strict\",\"coloraxis\":{\"colorbar\":{\"outlinewidth\":0,\"ticks\":\"\"}},\"colorscale\":{\"diverging\":[[0,\"#8e0152\"],[0.1,\"#c51b7d\"],[0.2,\"#de77ae\"],[0.3,\"#f1b6da\"],[0.4,\"#fde0ef\"],[0.5,\"#f7f7f7\"],[0.6,\"#e6f5d0\"],[0.7,\"#b8e186\"],[0.8,\"#7fbc41\"],[0.9,\"#4d9221\"],[1,\"#276419\"]],\"sequential\":[[0.0,\"#0d0887\"],[0.1111111111111111,\"#46039f\"],[0.2222222222222222,\"#7201a8\"],[0.3333333333333333,\"#9c179e\"],[0.4444444444444444,\"#bd3786\"],[0.5555555555555556,\"#d8576b\"],[0.6666666666666666,\"#ed7953\"],[0.7777777777777778,\"#fb9f3a\"],[0.8888888888888888,\"#fdca26\"],[1.0,\"#f0f921\"]],\"sequentialminus\":[[0.0,\"#0d0887\"],[0.1111111111111111,\"#46039f\"],[0.2222222222222222,\"#7201a8\"],[0.3333333333333333,\"#9c179e\"],[0.4444444444444444,\"#bd3786\"],[0.5555555555555556,\"#d8576b\"],[0.6666666666666666,\"#ed7953\"],[0.7777777777777778,\"#fb9f3a\"],[0.8888888888888888,\"#fdca26\"],[1.0,\"#f0f921\"]]},\"colorway\":[\"#636efa\",\"#EF553B\",\"#00cc96\",\"#ab63fa\",\"#FFA15A\",\"#19d3f3\",\"#FF6692\",\"#B6E880\",\"#FF97FF\",\"#FECB52\"],\"font\":{\"color\":\"#2a3f5f\"},\"geo\":{\"bgcolor\":\"white\",\"lakecolor\":\"white\",\"landcolor\":\"#E5ECF6\",\"showlakes\":true,\"showland\":true,\"subunitcolor\":\"white\"},\"hoverlabel\":{\"align\":\"left\"},\"hovermode\":\"closest\",\"mapbox\":{\"style\":\"light\"},\"paper_bgcolor\":\"white\",\"plot_bgcolor\":\"#E5ECF6\",\"polar\":{\"angularaxis\":{\"gridcolor\":\"white\",\"linecolor\":\"white\",\"ticks\":\"\"},\"bgcolor\":\"#E5ECF6\",\"radialaxis\":{\"gridcolor\":\"white\",\"linecolor\":\"white\",\"ticks\":\"\"}},\"scene\":{\"xaxis\":{\"backgroundcolor\":\"#E5ECF6\",\"gridcolor\":\"white\",\"gridwidth\":2,\"linecolor\":\"white\",\"showbackground\":true,\"ticks\":\"\",\"zerolinecolor\":\"white\"},\"yaxis\":{\"backgroundcolor\":\"#E5ECF6\",\"gridcolor\":\"white\",\"gridwidth\":2,\"linecolor\":\"white\",\"showbackground\":true,\"ticks\":\"\",\"zerolinecolor\":\"white\"},\"zaxis\":{\"backgroundcolor\":\"#E5ECF6\",\"gridcolor\":\"white\",\"gridwidth\":2,\"linecolor\":\"white\",\"showbackground\":true,\"ticks\":\"\",\"zerolinecolor\":\"white\"}},\"shapedefaults\":{\"line\":{\"color\":\"#2a3f5f\"}},\"ternary\":{\"aaxis\":{\"gridcolor\":\"white\",\"linecolor\":\"white\",\"ticks\":\"\"},\"baxis\":{\"gridcolor\":\"white\",\"linecolor\":\"white\",\"ticks\":\"\"},\"bgcolor\":\"#E5ECF6\",\"caxis\":{\"gridcolor\":\"white\",\"linecolor\":\"white\",\"ticks\":\"\"}},\"title\":{\"x\":0.05},\"xaxis\":{\"automargin\":true,\"gridcolor\":\"white\",\"linecolor\":\"white\",\"ticks\":\"\",\"title\":{\"standoff\":15},\"zerolinecolor\":\"white\",\"zerolinewidth\":2},\"yaxis\":{\"automargin\":true,\"gridcolor\":\"white\",\"linecolor\":\"white\",\"ticks\":\"\",\"title\":{\"standoff\":15},\"zerolinecolor\":\"white\",\"zerolinewidth\":2}}}},                        {\"responsive\": true}                    ).then(function(){\n",
       "                            \n",
       "var gd = document.getElementById('acd895e8-8eef-4699-a199-93b06639b1b5');\n",
       "var x = new MutationObserver(function (mutations, observer) {{\n",
       "        var display = window.getComputedStyle(gd).display;\n",
       "        if (!display || display === 'none') {{\n",
       "            console.log([gd, 'removed!']);\n",
       "            Plotly.purge(gd);\n",
       "            observer.disconnect();\n",
       "        }}\n",
       "}});\n",
       "\n",
       "// Listen for the removal of the full notebook cells\n",
       "var notebookContainer = gd.closest('#notebook-container');\n",
       "if (notebookContainer) {{\n",
       "    x.observe(notebookContainer, {childList: true});\n",
       "}}\n",
       "\n",
       "// Listen for the clearing of the current output cell\n",
       "var outputEl = gd.closest('.output');\n",
       "if (outputEl) {{\n",
       "    x.observe(outputEl, {childList: true});\n",
       "}}\n",
       "\n",
       "                        })                };                });            </script>        </div>"
      ]
     },
     "metadata": {},
     "output_type": "display_data"
    }
   ],
   "source": [
    "## Time loop\n",
    "\n",
    "!rm -r savedVariables\n",
    "! mkdir savedVariables\n",
    "\n",
    "for time in t:\n",
    "\n",
    "    print(\"\\nTime = \" + str(time))\n",
    "    \n",
    "    # Set number of maximum iterations for convergence\n",
    "    \n",
    "    icorr = 1\n",
    "    maxcorr = 100000\n",
    "    fac = 10**math.ceil((math.log((A(\"x\").a_P), 10)))\n",
    "\n",
    "    # Make directory\n",
    "\n",
    "    ! mkdir savedVariables/{time}\n",
    "\n",
    "    residual_array = np.array([])\n",
    "    \n",
    "    while True:\n",
    "    # for iteration in [1]:\n",
    "        \n",
    "        u_previous = u_new #store latest guess values    # change_u new to U\n",
    "\n",
    "        A_x = A(\"x\").createMatrix()        \n",
    "        A_x, b_x = boundary_conditions(A_x, b_x, u_previous, u_old, u_old_old, \"x\")\n",
    "\n",
    "        ## Solve the x-equation\n",
    "        \n",
    "        Ux = spsolve(A_x, b_x)\n",
    "        Ux = np.array(Ux)\n",
    "        \n",
    "        ## Prepare matrix A and b vector for the y-equation\n",
    "        \n",
    "        A_y = A(\"y\").createMatrix()\n",
    "        A_y, b_y = boundary_conditions(A_y, b_y, u_previous, u_old, u_old_old, \"y\")\n",
    "        \n",
    "        ## Solve the y-equation\n",
    "        Uy = spsolve(A_y, b_y)\n",
    "        Uy = np.array(Uy)\n",
    "        \n",
    "        # ## Update U.New with new x and y displacements\n",
    "\n",
    "        u_new = np.vstack((Ux, Uy)).T\n",
    "       \n",
    "        ## Calculate the residual of each iteration\n",
    "        \n",
    "        normFactor = np.max(u_new)\n",
    "        residual = math.sqrt(np.mean((u_new - u_previous)**2))/normFactor\n",
    "        tolerance = 1e-6\n",
    "\n",
    "        residual_array = np.append(residual_array, residual)\n",
    "        \n",
    "    \n",
    "        ##print out residual of each iteration\n",
    "        if icorr%100 == 0 :\n",
    "            moving_average = np.mean(residual_array[len(residual_array)-100 :len(residual_array) ])\n",
    "            print(\"icorr = {:01d}, Residual = {:.20f}, normFactor = {:.20f}, moving average = {:.20f}, time = {:.5f}\".format(icorr, residual, normFactor, moving_average, time))\n",
    "            print(tolerance - residual)\n",
    "\n",
    "\n",
    "        ## Convergence check\n",
    "        \n",
    "        if residual < tolerance:\n",
    "            \n",
    "            print(\"icorr = {:01d}, Residual = {:.20f}, normFactor = {:.20f}, moving average = {:.20f}, time = {:.5f}\".format(icorr, residual, normFactor, moving_average, time))\n",
    "\n",
    "            break\n",
    "            \n",
    "        elif icorr > maxcorr:\n",
    "            \n",
    "            break            \n",
    "        \n",
    "        icorr = icorr + 1\n",
    "    \n",
    "    ## Update variables\n",
    "    \n",
    "    u_old_old = u_old\n",
    "    u_old = u_new\n",
    "    \n",
    "    # ## Add the boundary conditions to the solution matrices\n",
    "    u_reshape_x = u_new[:,0].reshape(ny+2, nx+2)\n",
    "    u_reshape_y = u_new[:,1].reshape(ny+2, nx+2)\n",
    "    \n",
    "    # #Boundary conditions for u matrix\n",
    "    U = np.zeros((ny+2,nx+2))\n",
    "    V = np.zeros((ny+2,nx+2))\n",
    " \n",
    " \n",
    "    U[:, :] = u_reshape_x\n",
    "    V[:, :] = u_reshape_y \n",
    "\n",
    "    #Modulus of displacement\n",
    "\n",
    "    disp_mod = np.sqrt((U**2) + (V**2))\n",
    "    disp_mod_converted = disp_mod*1e6 #Convert displacement to micrometers\n",
    "    \n",
    "   ### Plot the results\n",
    "\n",
    "    import plotly.graph_objects as go\n",
    "\n",
    "    disp_mod = np.sqrt((U**2) + (V**2))*1e-10\n",
    "\n",
    "    dispx, dispy = np.meshgrid(x, y)\n",
    "    fig = go.Figure(data=[go.Surface(z=disp_mod_converted, x=dispx, y=dispy)])\n",
    "    \n",
    "fig.show()   \n",
    "\n",
    "print(\"U graph\")\n",
    "fig = go.Figure(data=[go.Surface(z=U, x=dispx, y=dispy)])\n",
    "\n",
    "fig.show()   \n",
    "\n",
    "print(\"V graph\")\n",
    "fig = go.Figure(data=[go.Surface(z=V, x=dispx, y=dispy)])\n",
    "\n",
    "fig.show()"
   ]
  },
  {
   "cell_type": "code",
   "execution_count": 97,
   "metadata": {},
   "outputs": [
    {
     "data": {
      "text/plain": [
       "[<matplotlib.lines.Line2D at 0x7f3a77777100>]"
      ]
     },
     "execution_count": 97,
     "metadata": {},
     "output_type": "execute_result"
    },
    {
     "data": {
      "image/png": "[encoded data removed]",
      "text/plain": [
       "<Figure size 432x288 with 1 Axes>"
      ]
     },
     "metadata": {
      "needs_background": "light"
     },
     "output_type": "display_data"
    }
   ],
   "source": [
    "\n",
    "residual_array.shape\n",
    "\n",
    "plt.plot(np.arange(0, len(residual_array)), residual_array)"
   ]
  },
  {
   "cell_type": "code",
   "execution_count": 98,
   "metadata": {},
   "outputs": [
    {
     "data": {
      "text/plain": [
       "(6, 52)"
      ]
     },
     "execution_count": 98,
     "metadata": {},
     "output_type": "execute_result"
    }
   ],
   "source": [
    "u_reshape_x.shape\n",
    "\n",
    "# plt.scatter(x, u_reshape_x[nx,:],  label = \"Python, U @ y = 0.009375\")\n",
    "\n",
    "u_reshape_x[:,:].shape"
   ]
  },
  {
   "cell_type": "code",
   "execution_count": 99,
   "metadata": {},
   "outputs": [
    {
     "data": {
      "text/plain": [
       "array([[0.  , 0.02, 0.06, 0.1 , 0.14, 0.18, 0.22, 0.26, 0.3 , 0.34, 0.38,\n",
       "        0.42, 0.46, 0.5 , 0.54, 0.58, 0.62, 0.66, 0.7 , 0.74, 0.78, 0.82,\n",
       "        0.86, 0.9 , 0.94, 0.98, 1.02, 1.06, 1.1 , 1.14, 1.18, 1.22, 1.26,\n",
       "        1.3 , 1.34, 1.38, 1.42, 1.46, 1.5 , 1.54, 1.58, 1.62, 1.66, 1.7 ,\n",
       "        1.74, 1.78, 1.82, 1.86, 1.9 , 1.94, 1.98, 2.  ]])"
      ]
     },
     "execution_count": 99,
     "metadata": {},
     "output_type": "execute_result"
    },
    {
     "data": {
      "image/png": "[encoded data removed]",
      "text/plain": [
       "<Figure size 720x720 with 1 Axes>"
      ]
     },
     "metadata": {
      "needs_background": "light"
     },
     "output_type": "display_data"
    }
   ],
   "source": [
    "import matplotlib.pyplot as plt\n",
    "\n",
    "plt.figure(figsize=(10, 10))\n",
    "plt.scatter(x, u_reshape_x[ny,:],  label = \"Python, U @ y = 0.09\")\n",
    "plt.title(\"U along x-axis\")\n",
    "plt.legend()\n",
    "\n",
    "x"
   ]
  },
  {
   "cell_type": "code",
   "execution_count": 100,
   "metadata": {},
   "outputs": [
    {
     "data": {
      "text/plain": [
       "-1.8764516542755755e-05"
      ]
     },
     "execution_count": 100,
     "metadata": {},
     "output_type": "execute_result"
    },
    {
     "data": {
      "image/png": "[encoded data removed]",
      "text/plain": [
       "<Figure size 720x720 with 1 Axes>"
      ]
     },
     "metadata": {
      "needs_background": "light"
     },
     "output_type": "display_data"
    }
   ],
   "source": [
    "import matplotlib.pyplot as plt\n",
    "\n",
    "plt.figure(figsize=(10, 10))\n",
    "plt.scatter(x, u_reshape_y[ny+1,:],  label = \"Python, U @ y = 0.09\")\n",
    "plt.title(\"U along x-axis\")\n",
    "plt.legend()\n",
    "\n",
    "np.min(u_reshape_y[ny+1,:])"
   ]
  },
  {
   "cell_type": "markdown",
   "metadata": {},
   "source": [
    "Above graph indicates some error in Python model? Further benchmark testing is required\n"
   ]
  },
  {
   "cell_type": "code",
   "execution_count": 101,
   "metadata": {},
   "outputs": [
    {
     "name": "stdout",
     "output_type": "stream",
     "text": [
      "mkdir: cannot create directory ‘x_25_y_2’: File exists\n"
     ]
    }
   ],
   "source": [
    "!mkdir x_25_y_2\n",
    "np.save(\"x_25_y_2/u_reshape_x.npy\", u_reshape_x)\n",
    "np.save(\"x_25_y_2/u_reshape_y.npy\", u_reshape_y)\n"
   ]
  },
  {
   "cell_type": "code",
   "execution_count": 102,
   "metadata": {},
   "outputs": [
    {
     "data": {
      "text/plain": [
       "array([ 0.00000000e+00,  4.16184776e-21, -1.86337274e-21,  2.64844857e-22,\n",
       "       -6.81029633e-22,  0.00000000e+00])"
      ]
     },
     "execution_count": 102,
     "metadata": {},
     "output_type": "execute_result"
    }
   ],
   "source": [
    "u_reshape_y[:, nx+1]"
   ]
  },
  {
   "cell_type": "code",
   "execution_count": 103,
   "metadata": {},
   "outputs": [
    {
     "data": {
      "text/plain": [
       "array([-4.40599687e-08, -2.53991805e-08, -1.27958487e-08, -1.41067212e-08,\n",
       "       -2.97439314e-08, -5.07420553e-08])"
      ]
     },
     "execution_count": 103,
     "metadata": {},
     "output_type": "execute_result"
    }
   ],
   "source": [
    "u_reshape_y[:, nx]"
   ]
  },
  {
   "cell_type": "code",
   "execution_count": 104,
   "metadata": {},
   "outputs": [
    {
     "data": {
      "text/plain": [
       "0.0"
      ]
     },
     "execution_count": 104,
     "metadata": {},
     "output_type": "execute_result"
    }
   ],
   "source": [
    "u_reshape_y[0, nx+1]"
   ]
  },
  {
   "cell_type": "code",
   "execution_count": null,
   "metadata": {},
   "outputs": [],
   "source": []
  }
 ],
 "metadata": {
  "interpreter": {
   "hash": "1b2f9133931ab063f1f037caeeb0be83973bf9a3d4f21c40e4cd03e999a0b9b9"
  },
  "kernelspec": {
   "display_name": "Python 3.6.13 64-bit ('python3': conda)",
   "language": "python",
   "name": "python3"
  },
  "language_info": {
   "codemirror_mode": {
    "name": "ipython",
    "version": 3
   },
   "file_extension": ".py",
   "mimetype": "text/x-python",
   "name": "python",
   "nbconvert_exporter": "python",
   "pygments_lexer": "ipython3",
   "version": "3.9.5"
  },
  "orig_nbformat": 4
 },
 "nbformat": 4,
 "nbformat_minor": 2
}
