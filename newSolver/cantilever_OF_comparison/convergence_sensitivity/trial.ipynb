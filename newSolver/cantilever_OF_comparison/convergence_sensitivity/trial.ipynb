{
 "cells": [
  {
   "cell_type": "code",
   "execution_count": 109,
   "metadata": {},
   "outputs": [],
   "source": [
    "import numpy as np\n",
    "import pandas as pd\n",
    "import math\n",
    "from scipy.sparse import csr_matrix\n",
    "from scipy.sparse.linalg import spsolve\n",
    "\n",
    "def printVar (varname, var):\n",
    "\n",
    "    print(varname)\n",
    "    print(var)\n",
    "\n",
    "def saveArray (name, array): \n",
    "\n",
    "    pd.DataFrame(array).to_csv(\"savedVariables/\" + name + \".csv\", index=False, header=None)\n",
    "\n"
   ]
  },
  {
   "cell_type": "code",
   "execution_count": 110,
   "metadata": {},
   "outputs": [
    {
     "data": {
      "text/plain": [
       "False"
      ]
     },
     "execution_count": 110,
     "metadata": {},
     "output_type": "execute_result"
    }
   ],
   "source": [
    "# Set Boundary Conditions:\n",
    "class BC_settings:\n",
    "\n",
    "    left = \"fixed_displacement\"\n",
    "    right = \"traction\"\n",
    "    top = \"traction\"\n",
    "    bottom = \"traction\"\n",
    "\n",
    "    def __init__(self, edge):\n",
    "\n",
    "        if edge == \"l\":\n",
    "            if BC_settings.left == \"traction\":\n",
    "                self.traction = True\n",
    "                self.fixed_displacement = False\n",
    "            elif BC_settings.left == \"fixed_displacement\":\n",
    "                self.fixed_displacement = True\n",
    "                self.traction = False\n",
    "\n",
    "        if edge == \"r\":\n",
    "            if BC_settings.right == \"traction\":\n",
    "                self.traction = True\n",
    "                self.fixed_displacement = False\n",
    "            elif BC_settings.right == \"fixed_displacement\":\n",
    "                self.fixed_displacement = True\n",
    "                self.traction = False\n",
    "\n",
    "        if edge == \"t\":\n",
    "            if BC_settings.top == \"traction\":\n",
    "                self.traction = True\n",
    "                self.fixed_displacement = False\n",
    "            elif BC_settings.top == \"fixed_displacement\":\n",
    "                self.fixed_displacement = True\n",
    "                self.traction = False\n",
    "\n",
    "        if edge == \"b\":\n",
    "            if BC_settings.bottom == \"traction\":\n",
    "                self.traction = True\n",
    "                self.fixed_displacement = False\n",
    "            elif BC_settings.bottom == \"fixed_displacement\":\n",
    "                self.fixed_displacement = True\n",
    "                self.traction = False\n",
    "\n",
    "BC_settings(\"b\").fixed_displacement"
   ]
  },
  {
   "cell_type": "code",
   "execution_count": 111,
   "metadata": {},
   "outputs": [],
   "source": [
    "# Solve the 2D Navier-Cauchy equation using a segregated finite volume method\n",
    "\n",
    "# Define mesh geometry and boundary conditions\n",
    "\n",
    "Lx = 1 #width of domain\n",
    "Ly = 1 #height of domain\n",
    "\n",
    "fac = 1\n",
    "\n",
    "nx = 8      #number of control volumes in the x-direction\n",
    "ny = 8  #number of control volumes in the y-direction\n"
   ]
  },
  {
   "cell_type": "code",
   "execution_count": 112,
   "metadata": {},
   "outputs": [],
   "source": [
    "# Cantilever Setup \n",
    "\n",
    "tr_right_x = 0    #u boundary condition at the right boundary\n",
    "tr_right_y = - 1e6   #v boundary condition at the right boundary\n",
    "\n",
    "tr_top_x = 0    #u boundary condition at the top boundary\n",
    "tr_top_y = 0       #v boundary condition at the top boundary\n",
    "\n",
    "tr_bottom_x = 0    #u boundary condition at the bottom boundary \n",
    "tr_bottom_y = 0  #v boundary condition at the bottom boundary\n",
    "\n",
    "u_left = 0\n",
    "v_left = 0\n"
   ]
  },
  {
   "cell_type": "code",
   "execution_count": 113,
   "metadata": {},
   "outputs": [
    {
     "name": "stdout",
     "output_type": "stream",
     "text": [
      "8\n"
     ]
    }
   ],
   "source": [
    "sys.path.append(\"/home/scottlevie/newPythonSolver/pythonsolver_new/tractionBCs/Classes/\")\n",
    "\n",
    "from index_and_direction import dim\n",
    "\n",
    "print(dim().nx)"
   ]
  },
  {
   "cell_type": "code",
   "execution_count": 114,
   "metadata": {},
   "outputs": [],
   "source": [
    "from index_and_direction import index\n",
    "from index_and_direction import boundary_point_index\n",
    "from index_and_direction import cell_index\n",
    "from index_and_direction import displacement"
   ]
  },
  {
   "cell_type": "code",
   "execution_count": 115,
   "metadata": {},
   "outputs": [],
   "source": [
    "# # Define material properties\n",
    "\n",
    "# rho = 8050         #density of steel in kg/m^3\n",
    "# mu = 78*10e9       #shear modulus in Pa\n",
    "# K1 = 1.6*10e11      #bulk modulus in Pa\n",
    "\n",
    "# Lambda = K - (2/3)*mu\n",
    "\n",
    "# #print(Lambda)\n",
    "# #\n",
    "# E = mu*(2*(1+0.3))\n",
    "\n",
    "# print(E)"
   ]
  },
  {
   "cell_type": "code",
   "execution_count": 116,
   "metadata": {},
   "outputs": [
    {
     "data": {
      "text/plain": [
       "0.0"
      ]
     },
     "execution_count": 116,
     "metadata": {},
     "output_type": "execute_result"
    }
   ],
   "source": [
    "1e9 - (10**9)"
   ]
  },
  {
   "cell_type": "code",
   "execution_count": 117,
   "metadata": {},
   "outputs": [
    {
     "name": "stdout",
     "output_type": "stream",
     "text": [
      "76923076923.07692 166666666666.66666\n"
     ]
    }
   ],
   "source": [
    "# Define material properties\n",
    "\n",
    "v = 0.3\n",
    "E = 200*1e9\n",
    "rho = 8050 #density of steel in kg/m^3\n",
    "\n",
    "mu = E/(2*(1+v)) #shear modulus in Pa\n",
    "K = E/(3*(1-2*v))     #bulk modulus in Pa\n",
    "\n",
    "Lambda = K - (2/3)*mu\n",
    "\n",
    "print(mu, K)\n"
   ]
  },
  {
   "cell_type": "code",
   "execution_count": 118,
   "metadata": {},
   "outputs": [],
   "source": [
    "## Define required variables\n",
    "\n",
    "tf = 0.01           #total time in seconds\n",
    "dx = Lx/nx          #length of each control volume in the x-direction\n",
    "dy = Ly/ny          #length of each control volume in the y-direction\n",
    "dt = tf/10          #size of time steps\n",
    "Sfx = dy            #area vector x component (Area of East and West Faces)\n",
    "Sfy = dx            #area vector y component (Area of North and South Faces)\n"
   ]
  },
  {
   "cell_type": "code",
   "execution_count": 119,
   "metadata": {},
   "outputs": [],
   "source": [
    "## Define  position and time vectors\n",
    "\n",
    "t = np.array(np.arange(0,tf, dt))        #time vector (could possibly use a list)\n",
    "x = np.zeros((1,nx+2))   #position vector defining the center points of the control volumes in the x-direction.\n",
    "x[0,nx+1] = Lx\n",
    "x[0,1:nx+1] = np.arange(dx/2,Lx,dx)\n",
    "\n",
    "t = np.array(np.arange(0,tf, dt))        #time vector (could possibly use a list)\n",
    "y = np.zeros((1,ny+2))   #position vector defining the center points of the control volumes in the y-direction.\n",
    "y[0,ny+1] = Ly\n",
    "y[0,1:ny+1] = np.arange(dy/2,Ly,dy)"
   ]
  },
  {
   "cell_type": "code",
   "execution_count": 120,
   "metadata": {},
   "outputs": [],
   "source": [
    "## Define required displacement matrices and b vector\n",
    "\n",
    "u_new = np.zeros([(ny+2)*(nx+2),2])         #unknown displacements at t + 1    (Column 1 = x, Column2 = y)\n",
    "u_old = np.zeros([(ny+2)*(nx+2),2])         #displacement at time t\n",
    "u_old_old = np.zeros([(ny+2)*(nx+2),2])     #displacement at time t - 1\n",
    "\n",
    "#rhs vector\n",
    "b_x = np.zeros([(ny+2)*(nx+2),1])\n",
    "b_y = np.zeros([(ny+2)*(nx+2),1])"
   ]
  },
  {
   "cell_type": "markdown",
   "metadata": {},
   "source": [
    "## X equation:"
   ]
  },
  {
   "cell_type": "code",
   "execution_count": 121,
   "metadata": {},
   "outputs": [],
   "source": [
    "class A(index, displacement):\n",
    "\n",
    "    val = \"value that stays in class without changning with instance\"\n",
    "\n",
    "    def __init__(self, xy):\n",
    "\n",
    "        if xy == \"x\":\n",
    "\n",
    "            self.a_P = (rho*dx*dy/(dt**2))+((4*mu+2*Lambda)*Sfx)/dx + ((2*mu)*Sfy)/dy\n",
    "            self.a_N = + A.coef(xy, \"N\", \"u\")*(Sfy)/dy\n",
    "            self.a_S = - A.coef(xy, \"S\", \"u\")*(Sfy)/dy\n",
    "            self.a_E = + A.coef(xy, \"E\", \"u\")*(Sfx)/dx\n",
    "            self.a_W = - A.coef(xy, \"W\", \"u\")*(Sfx)/dx\n",
    "\n",
    "        if xy == \"y\":\n",
    "\n",
    "            self.a_P = (rho*dx*dy/(dt**2))+((4*mu+2*Lambda)*Sfy)/dy + ((2*mu)*Sfx)/dx \n",
    "            self.a_N = + A.coef(xy, \"N\", \"v\")*(Sfy)/dy\n",
    "            self.a_S = - A.coef(xy, \"S\", \"v\")*(Sfy)/dy\n",
    "            self.a_E = + A.coef(xy, \"E\", \"v\")*(Sfx)/dx\n",
    "            self.a_W = - A.coef(xy, \"W\", \"v\")*(Sfx)/dx\n",
    "\n",
    "    def createMatrix(self):\n",
    "\n",
    "        A_no_boundary = np.zeros([(ny+2)*(nx+2), (ny+2)*(nx+2)])\n",
    "        # A_no_boundary = csr_matrix(A_no_boundary)  \n",
    "\n",
    "        for j in np.arange(2, ny):     \n",
    "\n",
    "            for k in np.arange((j*(nx+2)+2), (j*(nx+2)+nx)):  \n",
    "                \n",
    "                A_no_boundary[k,k] = self.a_P\n",
    "                A_no_boundary[k,index(k).n] = -self.a_N\n",
    "                A_no_boundary[k,index(k).s] = -self.a_S\n",
    "                A_no_boundary[k, index(k).e] = -self.a_E\n",
    "                A_no_boundary[k, index(k).w] = -self.a_W\n",
    "\n",
    "        return A_no_boundary\n",
    "\n",
    "    # b temporal term\n",
    "    def b_temp(u_old, u_old_old, k, xy):\n",
    "\n",
    "        if xy == \"x\":\n",
    "            b_temporal_term = (rho/(dt**2))*( 2*(u_old[k,0])*dx*dy - u_old_old[k,0]*dx*dy)\n",
    "        if xy == \"y\":\n",
    "            b_temporal_term = (rho/(dt**2))*( 2*(u_old[k,1])*dx*dy - u_old_old[k,1]*dx*dy)\n",
    "        \n",
    "        return b_temporal_term\n",
    "    \n",
    "    def b_diff(k, xy, u_previous):\n",
    "\n",
    "        if xy == \"x\":\n",
    "            uv = \"v\"\n",
    "        if xy == \"y\":\n",
    "            uv = \"u\"\n",
    "\n",
    "        b_diffusion = (\n",
    "                                Sfy*A.coef(xy, \"N\", uv)*(\n",
    "                                    (A.corner(\"NE\", uv, u_previous, k) - A.corner(\"NW\", uv, u_previous, k))\n",
    "                                    /dx)\n",
    "                                + \n",
    "                                Sfy*A.coef(xy, \"S\", uv)*(\n",
    "                                    (A.corner(\"SE\", uv, u_previous, k) - A.corner(\"SW\", uv, u_previous, k))\n",
    "                                    /dx)\n",
    "                                +\n",
    "                                Sfx*A.coef(xy, \"E\", uv)*(\n",
    "                                    (A.corner(\"NE\", uv, u_previous, k) - A.corner(\"SE\", uv, u_previous, k))\n",
    "                                    /dy)\n",
    "                                +\n",
    "                                Sfx*A.coef(xy, \"W\", uv)*(\n",
    "                                    (A.corner(\"NW\", uv, u_previous, k) - A.corner(\"SW\", uv, u_previous, k))\n",
    "                                    /dy)\n",
    "        )\n",
    "\n",
    "        return b_diffusion\n",
    "    \n",
    "    def corner(corner_placement, uv, u_previous, k):\n",
    "        if uv == \"u\":\n",
    "            uv_i = 0\n",
    "        elif uv == \"v\":\n",
    "            uv_i = 1\n",
    "\n",
    "        disp = displacement(k, u_previous, uv_i)\n",
    "\n",
    "        if corner_placement == \"NE\":\n",
    "            return (1/4)*(disp.P + disp.NE + disp.N + disp.E)\n",
    "        if corner_placement == \"SE\":\n",
    "            return (1/4)*(disp.P + disp.SE + disp.S + disp.E)\n",
    "        if corner_placement == \"SW\":\n",
    "            return (1/4)*(disp.P + disp.SW + disp.S + disp.W)\n",
    "        if corner_placement == \"NW\":\n",
    "            return (1/4)*(disp.P + disp.NW + disp.N + disp.W)\n",
    "\n",
    "\n",
    "    \n",
    "    def coef(xy, face, uv):\n",
    "        # could have and statements\n",
    "        if xy == \"x\":\n",
    "            if face == \"N\":\n",
    "                if uv == \"u\":\n",
    "                    return mu\n",
    "                if uv == \"v\":\n",
    "                    return mu\n",
    "            if face == \"S\":\n",
    "                if uv == \"u\":\n",
    "                    return - mu\n",
    "                if uv == \"v\":\n",
    "                    return - mu\n",
    "            if face == \"E\":\n",
    "                if uv == \"u\":\n",
    "                    return 2*mu + Lambda\n",
    "                if uv == \"v\":\n",
    "                    return Lambda\n",
    "            if face == \"W\":\n",
    "                if uv == \"u\":\n",
    "                    return - (2*mu + Lambda)\n",
    "                if uv == \"v\":\n",
    "                    return - Lambda\n",
    "\n",
    "        elif xy == \"y\":\n",
    "            if face == \"N\":\n",
    "                if uv == \"u\":\n",
    "                    return Lambda\n",
    "                if uv == \"v\":\n",
    "                    return 2*mu + Lambda\n",
    "            if face == \"S\":\n",
    "                if uv == \"u\":\n",
    "                    return - Lambda\n",
    "                if uv == \"v\":\n",
    "                    return - (2*mu + Lambda)\n",
    "            if face == \"E\":\n",
    "                if uv == \"u\":\n",
    "                    return mu\n",
    "                if uv == \"v\":\n",
    "                    return mu\n",
    "            if face == \"W\":\n",
    "                if uv == \"u\":\n",
    "                    return - mu\n",
    "                if uv == \"v\":\n",
    "                    return - mu\n",
    "\n",
    "u_previous = u_new\n",
    "\n",
    "# A.b_diff(25, \"x\", u_previous)"
   ]
  },
  {
   "cell_type": "code",
   "execution_count": 122,
   "metadata": {},
   "outputs": [],
   "source": [
    "class boundaryCellTraction(A):\n",
    "\n",
    "    def __init__(self, edges, xy):\n",
    "        \n",
    "        sw_S, sw_N, sw_W, sw_E = 1, 1, 1, 1\n",
    "\n",
    "        for edge in edges:\n",
    "            if edge == \"b\": sw_S = 0\n",
    "            if edge == \"t\": sw_N = 0\n",
    "            if edge == \"l\": sw_W = 0\n",
    "            if edge == \"r\": sw_E = 0\n",
    "        \n",
    "        self.a_P = (rho*dx*dy/(dt**2)) + A(xy).a_N*sw_N + A(xy).a_S**sw_S + A(xy).a_E*sw_E + A(xy).a_W*sw_W\n",
    "        \n",
    "        self.a_N = A(xy).a_N \n",
    "        self.a_S = A(xy).a_S \n",
    "        self.a_E = A(xy).a_E \n",
    "        self.a_W = A(xy).a_W \n",
    "\n",
    "        # self.a_faces = A(xy).a_N*sw_N + A(xy).a_S*sw_S + A(xy).a_E*sw_E + A(xy).a_W*sw_W \n",
    "\n",
    "    def b_temp(u_old, u_old_old, k, xy):      \n",
    "        return A.b_temp(u_old, u_old_old, k, xy)\n",
    "    \n",
    "    def b_diff(edges, k, xy, u_previous):\n",
    "\n",
    "        if xy == \"x\":\n",
    "            uv = \"v\"\n",
    "        if xy == \"y\":\n",
    "            uv = \"u\"\n",
    "            \n",
    "        N_term =(\n",
    "                    Sfy*A.coef(xy, \"N\", uv)*(\n",
    "                    (boundaryCellTraction.corner(edges, \"NE\", uv, u_previous, k) - boundaryCellTraction.corner(edges, \"NW\", uv, u_previous, k))\n",
    "                    /dx)\n",
    "                )\n",
    "        S_term =(\n",
    "                    Sfy*A.coef(xy, \"S\", uv)*(\n",
    "                        (boundaryCellTraction.corner(edges, \"SE\", uv, u_previous, k) - boundaryCellTraction.corner(edges, \"SW\", uv, u_previous, k))\n",
    "                        /dx)\n",
    "                ) \n",
    "        E_term =(\n",
    "                    Sfx*A.coef(xy, \"E\", uv)*(\n",
    "                        (boundaryCellTraction.corner(edges, \"NE\", uv, u_previous, k) - boundaryCellTraction.corner(edges, \"SE\", uv, u_previous, k))\n",
    "                        /dy)\n",
    "                ) \n",
    "        W_term =(\n",
    "                    Sfx*A.coef(xy, \"W\", uv)*(\n",
    "                        (boundaryCellTraction.corner(edges, \"NW\", uv, u_previous, k) - boundaryCellTraction.corner(edges, \"SW\", uv, u_previous, k))\n",
    "                        /dy)\n",
    "                )\n",
    "\n",
    "        for edge in edges:\n",
    "\n",
    "            if (edge == \"b\") & (xy == \"x\") : S_term =  Sfy*tr_bottom_x  \n",
    "            if (edge == \"b\") & (xy == \"y\") : S_term =  Sfy*tr_bottom_y  \n",
    "            if (edge == \"t\") & (xy == \"x\") : N_term =  Sfy*tr_top_x  \n",
    "            if (edge == \"t\") & (xy == \"y\") : N_term =  Sfy*tr_top_y  \n",
    "            if (edge == \"l\") & (xy == \"x\") : W_term =  Sfx*tr_left_x  \n",
    "            if (edge == \"l\") & (xy == \"y\") : W_term =  Sfx*tr_left_y  \n",
    "            if (edge == \"r\") & (xy == \"x\") : E_term =  Sfx*tr_right_x  \n",
    "            if (edge == \"r\") & (xy == \"y\") : E_term =  Sfx*tr_right_y        \n",
    "\n",
    "        b_diffusion = (N_term + S_term + E_term + W_term)\n",
    "\n",
    "        return b_diffusion\n",
    "    \n",
    "    def corner(edges, corner_placement, uv, u_previous, k):\n",
    "\n",
    "        if uv == \"u\":\n",
    "            uv_i = 0\n",
    "        elif uv == \"v\":\n",
    "            uv_i = 1\n",
    "\n",
    "        disp = displacement(k, u_previous, uv_i)\n",
    "\n",
    "        if corner_placement == \"NE\":\n",
    "            corner =  (1/4)*(disp.P + disp.NE + disp.N + disp.E)\n",
    "        if corner_placement == \"SE\":\n",
    "            corner =  (1/4)*(disp.P + disp.SE + disp.S + disp.E)\n",
    "        if corner_placement == \"SW\":\n",
    "            corner =  (1/4)*(disp.P + disp.SW + disp.S + disp.W)\n",
    "        if corner_placement == \"NW\":\n",
    "            corner =  (1/4)*(disp.P + disp.NW + disp.N + disp.W)\n",
    "\n",
    "        for edge in edges:\n",
    "            if (edge == \"b\") & (corner_placement == \"SE\"):\n",
    "                corner =  (1/2)*(disp.SE + disp.S)\n",
    "            if (edge == \"b\") & (corner_placement == \"SW\"):\n",
    "                corner =  (1/2)*(disp.SW + disp.S)\n",
    "\n",
    "            if (edge == \"t\") & (corner_placement == \"NE\"):\n",
    "                corner =  (1/2)*(disp.NE + disp.N)\n",
    "            if (edge == \"t\") & (corner_placement == \"NW\"):\n",
    "                corner =  (1/2)*(disp.NW + disp.N)\n",
    "\n",
    "            if (edge == \"l\") & (corner_placement == \"NW\"):\n",
    "                corner =  (1/2)*(disp.NW + disp.W)\n",
    "            if (edge == \"l\") & (corner_placement == \"SW\"):\n",
    "                corner =  (1/2)*(disp.SW + disp.W)\n",
    "\n",
    "            if (edge == \"r\") & (corner_placement == \"NE\"):\n",
    "                corner =  (1/2)*(disp.NE + disp.E)\n",
    "            if (edge == \"r\") & (corner_placement == \"SE\"):\n",
    "                corner =  (1/2)*(disp.SE + disp.E)\n",
    "        \n",
    "        return corner\n",
    "\n",
    "# boundaryCellTraction.b_diff([\"b\", \"l\"], 14, \"x\", u_previous)\n",
    "   "
   ]
  },
  {
   "cell_type": "code",
   "execution_count": 123,
   "metadata": {},
   "outputs": [],
   "source": [
    "class boundaryPointTraction(A):\n",
    "\n",
    "    def __init__(self, edges, xy):    # The order matters for edges, bottom left corner on the bottom is : [\"b\", \"l\"]\n",
    "        \n",
    "        sw_S, sw_N, sw_W, sw_E = 0, 0, 0, 0\n",
    "\n",
    "        if edges[0] == \"b\": sw_S = 1\n",
    "        if edges[0] == \"t\": sw_N = 1\n",
    "        if edges[0] == \"l\": sw_W = 1\n",
    "        if edges[0] == \"r\": sw_E = 1\n",
    "        \n",
    "        a_P = (A(xy).a_N*sw_N + A(xy).a_S**sw_S )*2/(Sfy) + (A(xy).a_E*sw_E + A(xy).a_W*sw_W)*2/(Sfx)\n",
    "        \n",
    "        a_N = A(xy).a_N*2/(Sfy) # are terms cancel in derivation\n",
    "        a_S = A(xy).a_S*2/(Sfy)\n",
    "        a_E = A(xy).a_E*2/(Sfx)\n",
    "        a_W = A(xy).a_W*2/(Sfx)\n",
    "\n",
    "        if edges[0] == \"b\":\n",
    "            self.a_N = a_P\n",
    "            self.a_P = a_S\n",
    "        if edges[0] == \"t\":\n",
    "            self.a_S = a_P\n",
    "            self.a_P = a_N\n",
    "        if edges[0] == \"l\":\n",
    "            self.a_E = a_P\n",
    "            self.a_P = a_W\n",
    "        if edges[0] == \"r\":\n",
    "            self.a_W = a_P\n",
    "            self.a_P = a_E\n",
    "    \n",
    "    def b_diff(edges, k, xy, u_previous):\n",
    "\n",
    "        if xy == \"x\":\n",
    "            uv = \"v\"\n",
    "        if xy == \"y\":\n",
    "            uv = \"u\"\n",
    "            \n",
    "        def N_term():\n",
    "            \n",
    "            N_term =( A.coef(xy, \"N\", uv)*(\n",
    "                    (boundaryPointTraction.corner(edges, \"E\", uv, u_previous, k) - boundaryPointTraction.corner(edges, \"W\", uv, u_previous, k))\n",
    "                    /dx)\n",
    "            )\n",
    "\n",
    "            return N_term\n",
    "\n",
    "        def S_term():\n",
    "            \n",
    "            S_term =(\n",
    "                    A.coef(xy, \"S\", uv)*(\n",
    "                        (boundaryPointTraction.corner(edges, \"E\", uv, u_previous, k) - boundaryPointTraction.corner(edges, \"W\", uv, u_previous, k))\n",
    "                        /dx)\n",
    "                ) \n",
    "            return S_term\n",
    "        def E_term():\n",
    "            \n",
    "            E_term =(\n",
    "                    A.coef(xy, \"E\", uv)*(\n",
    "                        (boundaryPointTraction.corner(edges, \"N\", uv, u_previous, k) - boundaryPointTraction.corner(edges, \"S\", uv, u_previous, k))\n",
    "                        /dy)\n",
    "                ) \n",
    "            return E_term\n",
    "        def W_term():\n",
    "            \n",
    "            W_term =(\n",
    "                        A.coef(xy, \"W\", uv)*(\n",
    "                        (boundaryPointTraction.corner(edges, \"N\", uv, u_previous, k) - boundaryPointTraction.corner(edges, \"S\", uv, u_previous, k))\n",
    "                        /dy)\n",
    "                )\n",
    "                \n",
    "            return W_term\n",
    "\n",
    "        # This can be tidied up/shortened\n",
    "\n",
    "        if (edges[0] == \"b\") & (xy == \"x\") : b_diffusion =  tr_bottom_x  + N_term()\n",
    "        if (edges[0] == \"b\") & (xy == \"y\") : b_diffusion =  tr_bottom_y  + N_term()\n",
    "        if (edges[0] == \"t\") & (xy == \"x\") : b_diffusion =  tr_top_x + S_term()\n",
    "        if (edges[0] == \"t\") & (xy == \"y\") : b_diffusion =  tr_top_y + S_term()\n",
    "        if (edges[0] == \"l\") & (xy == \"x\") : b_diffusion =  tr_left_x + E_term()\n",
    "        if (edges[0] == \"l\") & (xy == \"y\") : b_diffusion =  tr_left_y + E_term()\n",
    "        if (edges[0] == \"r\") & (xy == \"x\") : b_diffusion =  tr_right_x + W_term()\n",
    "        if (edges[0] == \"r\") & (xy == \"y\") : b_diffusion =  tr_right_y + W_term()  \n",
    "\n",
    "        return b_diffusion\n",
    "    \n",
    "    def corner(edges, corner_placement, uv, u_previous, k):\n",
    "\n",
    "        if uv == \"u\":\n",
    "            uv_i = 0\n",
    "        elif uv == \"v\":\n",
    "            uv_i = 1\n",
    "\n",
    "        disp = displacement(k, u_previous, uv_i)\n",
    "\n",
    "\n",
    "        if corner_placement == \"E\":\n",
    "            corner =  (1/2)*(disp.E + disp.P)\n",
    "        if corner_placement == \"W\":\n",
    "            corner =  (1/2)*(disp.W + disp.P)\n",
    "        if  corner_placement == \"N\":\n",
    "            corner =  (1/2)*(disp.N + disp.P)\n",
    "        if  corner_placement == \"S\":\n",
    "            corner =  (1/2)*(disp.S + disp.P)\n",
    "\n",
    "        if len(edges) > 1:\n",
    "\n",
    "            if (edges[1] == \"r\") & (corner_placement == \"E\"):\n",
    "                    corner =  disp.E\n",
    "            if (edges[1] == \"l\") & (corner_placement == \"W\"):\n",
    "                    corner =  disp.W\n",
    "            if (edges[1] == \"t\") & (corner_placement == \"N\"):\n",
    "                    corner =  disp.N\n",
    "            if (edges[1] == \"b\") & (corner_placement == \"S\"):\n",
    "                    corner =  disp.S\n",
    "        \n",
    "        return corner\n",
    "# boundaryCellTraction.b_diff([\"b\", \"l\"], 14, \"x\", u_previous)\n",
    "   "
   ]
  },
  {
   "cell_type": "code",
   "execution_count": 124,
   "metadata": {},
   "outputs": [],
   "source": [
    "class boundaryCellDisplacement(A):\n",
    "\n",
    "    def __init__(self, edges, xy):\n",
    "        \n",
    "        sw_S, sw_N, sw_W, sw_E = 1, 1, 1, 1\n",
    "\n",
    "        for edge in edges:\n",
    "            if edge == \"b\": sw_S = 2\n",
    "            if edge == \"t\": sw_N = 2\n",
    "            if edge == \"l\": sw_W = 2\n",
    "            if edge == \"r\": sw_E = 2\n",
    "        \n",
    "        self.a_P = (rho*dx*dy/(dt**2)) + A(xy).a_N*sw_N + A(xy).a_S*sw_S + A(xy).a_E*sw_E + A(xy).a_W*sw_W\n",
    "        \n",
    "        self.a_N = A(xy).a_N*sw_N\n",
    "        self.a_S = A(xy).a_S*sw_S\n",
    "        self.a_E = A(xy).a_E*sw_E\n",
    "        self.a_W = A(xy).a_W*sw_W\n",
    "\n",
    "    def b_temp(u_old, u_old_old, k, xy):      \n",
    "        return A.b_temp(u_old, u_old_old, k, xy)\n",
    "    \n",
    "    def b_diff(edges, k, xy, u_previous):\n",
    "\n",
    "        if xy == \"x\":\n",
    "            uv = \"v\"\n",
    "        if xy == \"y\":\n",
    "            uv = \"u\"\n",
    "            \n",
    "        N_term =(\n",
    "                    Sfy*A.coef(xy, \"N\", uv)*(\n",
    "                    (boundaryCellDisplacement.corner(edges, \"NE\", uv, u_previous, k) - boundaryCellDisplacement.corner(edges, \"NW\", uv, u_previous, k))\n",
    "                    /dx)\n",
    "                )\n",
    "        S_term =(\n",
    "                    Sfy*A.coef(xy, \"S\", uv)*(\n",
    "                        (boundaryCellDisplacement.corner(edges, \"SE\", uv, u_previous, k) - boundaryCellDisplacement.corner(edges, \"SW\", uv, u_previous, k))\n",
    "                        /dx)\n",
    "                ) \n",
    "        E_term =(\n",
    "                    Sfx*A.coef(xy, \"E\", uv)*(\n",
    "                        (boundaryCellDisplacement.corner(edges, \"NE\", uv, u_previous, k) - boundaryCellDisplacement.corner(edges, \"SE\", uv, u_previous, k))\n",
    "                        /dy)\n",
    "                ) \n",
    "        W_term =(\n",
    "                    Sfx*A.coef(xy, \"W\", uv)*(\n",
    "                        (boundaryCellDisplacement.corner(edges, \"NW\", uv, u_previous, k) - boundaryCellDisplacement.corner(edges, \"SW\", uv, u_previous, k))\n",
    "                        /dy)\n",
    "                ) \n",
    "\n",
    "        b_diffusion = (N_term + S_term + E_term + W_term)\n",
    "\n",
    "        return b_diffusion\n",
    "    \n",
    "    def corner(edges, corner_placement, uv, u_previous, k):\n",
    "\n",
    "        if uv == \"u\":\n",
    "            uv_i = 0\n",
    "        elif uv == \"v\":\n",
    "            uv_i = 1\n",
    "\n",
    "        disp = displacement(k, u_previous, uv_i)\n",
    "\n",
    "        if corner_placement == \"NE\":\n",
    "            corner =  (1/4)*(disp.P + disp.NE + disp.N + disp.E)\n",
    "        if corner_placement == \"SE\":\n",
    "            corner =  (1/4)*(disp.P + disp.SE + disp.S + disp.E)\n",
    "        if corner_placement == \"SW\":\n",
    "            corner =  (1/4)*(disp.P + disp.SW + disp.S + disp.W)\n",
    "        if corner_placement == \"NW\":\n",
    "            corner =  (1/4)*(disp.P + disp.NW + disp.N + disp.W)\n",
    "\n",
    "        for edge in edges:\n",
    "            if (edge == \"b\") & (corner_placement == \"SE\"):\n",
    "                corner =  (1/2)*(disp.SE + disp.S)\n",
    "            if (edge == \"b\") & (corner_placement == \"SW\"):\n",
    "                corner =  (1/2)*(disp.SW + disp.S)\n",
    "\n",
    "            if (edge == \"t\") & (corner_placement == \"NE\"):\n",
    "                corner =  (1/2)*(disp.NE + disp.N)\n",
    "            if (edge == \"t\") & (corner_placement == \"NW\"):\n",
    "                corner =  (1/2)*(disp.NW + disp.N)\n",
    "\n",
    "            if (edge == \"l\") & (corner_placement == \"NW\"):\n",
    "                corner =  (1/2)*(disp.NW + disp.W)\n",
    "            if (edge == \"l\") & (corner_placement == \"SW\"):\n",
    "                corner =  (1/2)*(disp.SW + disp.W)\n",
    "\n",
    "            if (edge == \"r\") & (corner_placement == \"NE\"):\n",
    "                corner =  (1/2)*(disp.NE + disp.E)\n",
    "            if (edge == \"r\") & (corner_placement == \"SE\"):\n",
    "                corner =  (1/2)*(disp.SE + disp.E)\n",
    "\n",
    "        if len(edges) > 1:\n",
    "\n",
    "            if (edges[0] == \"b\") & (edges[1] == \"l\") & (corner_placement == \"SW\"):\n",
    "                corner = disp.SW \n",
    "            if (edges[0] == \"b\") & (edges[1] == \"r\") & (corner_placement == \"SE\"):\n",
    "                corner = disp.SE\n",
    "            if (edges[0] == \"t\") & (edges[1] == \"l\") & (corner_placement == \"NW\"):\n",
    "                corner = disp.NW\n",
    "            if (edges[0] == \"t\") & (edges[1] == \"r\") & (corner_placement == \"NE\"):\n",
    "                corner = disp.NE\n",
    "\n",
    "        \n",
    "        return corner\n",
    "\n",
    "# boundaryCellDisplacement.b_diff([\"b\", \"l\"], 14, \"x\", u_previous)\n",
    "\n",
    "\n"
   ]
  },
  {
   "cell_type": "code",
   "execution_count": 125,
   "metadata": {},
   "outputs": [],
   "source": [
    "def traction_cell_BCs(A_matrix, b_matrix, k, edges, xy, u_old, u_old_old, u_previous):\n",
    "\n",
    "    A_matrix[k,k] = boundaryCellTraction(edges, xy).a_P\n",
    "\n",
    "    b_matrix[k] =(\n",
    "                    boundaryCellTraction.b_temp(u_old, u_old_old, k, xy)\n",
    "                    +\n",
    "                    boundaryCellTraction.b_diff(edges, k, xy, u_previous)  \n",
    "                )\n",
    "    for edge in edges:\n",
    "        if edge == \"b\":\n",
    "            #an\n",
    "            A_matrix[k,index(k).n] = - boundaryCellTraction(edges, xy).a_N\n",
    "\n",
    "        if edge == \"t\":\n",
    "            #as\n",
    "            A_matrix[k,index(k).s] = - boundaryCellTraction(edges, xy).a_S\n",
    "\n",
    "        if edge == \"l\":\n",
    "            #ae\n",
    "            A_matrix[k,index(k).e] = - boundaryCellTraction(edges, xy).a_E\n",
    "\n",
    "        if edge == \"r\":\n",
    "            #aw\n",
    "            A_matrix[k,index(k).w] = - boundaryCellTraction(edges, xy).a_W           \n",
    "\n",
    "    if len(edges) == 1:\n",
    "\n",
    "        if (edges[0] == \"b\") | (edges[0] == \"t\") :\n",
    "            #ae\n",
    "            A_matrix[k, index(k).e] = - boundaryCellTraction(edges, xy).a_E\n",
    "            #aw\n",
    "            A_matrix[k, index(k).w] = - boundaryCellTraction(edges, xy).a_W\n",
    "\n",
    "        if (edges[0] == \"l\") | (edges[0] == \"r\") :\n",
    "            #an\n",
    "            A_matrix[k,index(k).n] = - boundaryCellTraction(edges, xy).a_N            \n",
    "            #as\n",
    "            A_matrix[k,index(k).s] = - boundaryCellTraction(edges, xy).a_S\n",
    "\n",
    "    return A_matrix, b_matrix"
   ]
  },
  {
   "cell_type": "code",
   "execution_count": 126,
   "metadata": {},
   "outputs": [],
   "source": [
    "def traction_point_BCs(A_matrix, b_matrix, k, edges, xy, u_previous):\n",
    "    \n",
    "    #ap\n",
    "    A_matrix[k,k] = boundaryPointTraction(edges, xy).a_P\n",
    "    #b\n",
    "    b_matrix[k] =boundaryPointTraction.b_diff(edges, k, xy, u_previous)\n",
    "\n",
    "    if edges[0] == \"b\":\n",
    "        #an\n",
    "        A_matrix[k,index(k).n] = - boundaryPointTraction(edges, xy).a_N\n",
    "    if edges[0] == \"t\":\n",
    "        #as\n",
    "        A_matrix[k,index(k).s] = - boundaryPointTraction(edges, xy).a_S\n",
    "    if edges[0] == \"l\":\n",
    "        #ae\n",
    "        A_matrix[k, index(k).e] = - boundaryPointTraction(edges, xy).a_E\n",
    "    if edges[0] == \"r\":\n",
    "        #aw\n",
    "        A_matrix[k, index(k).w] = -  boundaryPointTraction(edges, xy).a_W\n",
    "\n",
    "    return A_matrix, b_matrix"
   ]
  },
  {
   "cell_type": "code",
   "execution_count": 127,
   "metadata": {},
   "outputs": [],
   "source": [
    "class edge_U:\n",
    "\n",
    "    def __init__(self, edges, xy):\n",
    "\n",
    "        if xy == \"x\":\n",
    "            if edges[0] == \"b\":\n",
    "                if BC_settings(edges[0]).fixed_displacement:\n",
    "                    self.BC = u_bottom\n",
    "            if edges[0] == \"t\":\n",
    "                if BC_settings(edges[0]).fixed_displacement:\n",
    "                    self.BC = u_top\n",
    "            if edges[0] == \"l\":\n",
    "                if BC_settings(edges[0]).fixed_displacement:\n",
    "                    self.BC = u_left\n",
    "            if edges[0] == \"r\":\n",
    "                if BC_settings(edges[0]).fixed_displacement:\n",
    "                    self.BC = u_right\n",
    "\n",
    "        if xy == \"y\":\n",
    "            if edges[0] == \"b\":\n",
    "                if BC_settings(edges[0]).fixed_displacement:\n",
    "                    self.BC = v_bottom\n",
    "            if edges[0] == \"t\":\n",
    "                if BC_settings(edges[0]).fixed_displacement:\n",
    "                    self.BC = v_top\n",
    "            if edges[0] == \"l\":\n",
    "                if BC_settings(edges[0]).fixed_displacement:\n",
    "                    self.BC = v_left\n",
    "            if edges[0] == \"r\":\n",
    "                if BC_settings(edges[0]).fixed_displacement:\n",
    "                    self.BC = v_right"
   ]
  },
  {
   "cell_type": "code",
   "execution_count": 128,
   "metadata": {},
   "outputs": [],
   "source": [
    "def displacement_cell_BCs(A_matrix, b_matrix, k, edges, xy, u_old, u_old_old, u_previous):\n",
    "\n",
    "    A_matrix[k,k] = boundaryCellDisplacement(edges, xy).a_P\n",
    "    #an\n",
    "    A_matrix[k,index(k).n] = - boundaryCellDisplacement(edges, xy).a_N        \n",
    "    #as\n",
    "    A_matrix[k,index(k).s] = - boundaryCellDisplacement(edges, xy).a_S   \n",
    "    #ae\n",
    "    A_matrix[k, index(k).e] = - boundaryCellDisplacement(edges, xy).a_E\n",
    "    #aw\n",
    "    A_matrix[k, index(k).w] = - boundaryCellDisplacement(edges, xy).a_W\n",
    "\n",
    "    b_matrix[k] =(\n",
    "                boundaryCellDisplacement.b_temp(u_old, u_old_old, k, xy)\n",
    "                +\n",
    "                boundaryCellDisplacement.b_diff(edges, k, xy, u_previous)\n",
    "            )   \n",
    "\n",
    "    return A_matrix, b_matrix\n",
    "\n",
    "def displacement_point_BCs(A_matrix, b_matrix, k, edges, xy):\n",
    "    \n",
    "    A_matrix[k,k] = 1e10\n",
    "    b_matrix[k] = edge_U(edges, xy).BC*1e10\n",
    "\n",
    "    return A_matrix, b_matrix"
   ]
  },
  {
   "cell_type": "code",
   "execution_count": 129,
   "metadata": {},
   "outputs": [],
   "source": [
    "def boundary_conditions(A_matrix, b_matrix, u_previous, u_old, u_old_old, xy):\n",
    "    for k in np.arange(0,(nx+2)*(ny+2)):   # j is the cell number\n",
    "\n",
    "        U = displacement(k, u_previous, 0)\n",
    "        V = displacement(k, u_previous, 1)\n",
    "\n",
    "        #Bottom left corner coefficients        \n",
    "        if cell_index().bottom_left_corner(k):  \n",
    "            edges = [\"b\", \"l\"]\n",
    "            \n",
    "            if BC_settings(edges[1]).traction:\n",
    "                A_matrix, b_matrix = traction_cell_BCs(A_matrix, b_matrix, k, edges, xy, u_old, u_old_old, u_previous)\n",
    "            \n",
    "            elif BC_settings(edges[1]).fixed_displacement:\n",
    "                A_matrix, b_matrix = displacement_cell_BCs(A_matrix, b_matrix, k, edges, xy, u_old, u_old_old, u_previous)\n",
    "\n",
    "        #Bottom right corner coefficients            \n",
    "        elif  cell_index().bottom_right_corner(k):\n",
    "            edges = [\"b\", \"r\"]\n",
    "            \n",
    "            if BC_settings(edges[1]).traction:\n",
    "                A_matrix, b_matrix = traction_cell_BCs(A_matrix, b_matrix, k, edges, xy, u_old, u_old_old, u_previous)\n",
    "\n",
    "            elif BC_settings(edges[1]).fixed_displacement:\n",
    "                A_matrix, b_matrix = displacement_cell_BCs(A_matrix, b_matrix, k, edges, xy, u_old, u_old_old, u_previous)\n",
    "\n",
    "        #Top left corner coefficients            \n",
    "        elif  cell_index().top_left_corner(k):\n",
    "            edges = [\"t\", \"l\"]\n",
    "        \n",
    "            if BC_settings(edges[1]).traction:\n",
    "                A_matrix, b_matrix = traction_cell_BCs(A_matrix, b_matrix, k, edges, xy, u_old, u_old_old, u_previous)\n",
    "\n",
    "            elif BC_settings(edges[1]).fixed_displacement:\n",
    "                A_matrix, b_matrix = displacement_cell_BCs(A_matrix, b_matrix, k, edges, xy, u_old, u_old_old, u_previous)\n",
    "\n",
    "        #Top right corner coefficients            \n",
    "        elif  cell_index().top_right_corner(k):  \n",
    "            edges = [\"t\", \"r\"]\n",
    "            \n",
    "            if BC_settings(edges[1]).traction:\n",
    "                A_matrix, b_matrix = traction_cell_BCs(A_matrix, b_matrix, k, edges, xy, u_old, u_old_old, u_previous)\n",
    "\n",
    "            elif BC_settings(edges[1]).fixed_displacement:\n",
    "                A_matrix, b_matrix = displacement_cell_BCs(A_matrix, b_matrix, k, edges, xy, u_old, u_old_old, u_previous)\n",
    "\n",
    "        # Center Bottom Boundaries\n",
    "        elif  cell_index().center_bottom(k):\n",
    "            edges = [\"b\"]\n",
    "\n",
    "            if BC_settings(edges[0]).traction:\n",
    "                A_matrix, b_matrix = traction_cell_BCs(A_matrix, b_matrix, k, edges, xy, u_old, u_old_old, u_previous)\n",
    "\n",
    "            elif BC_settings(edges[0]).fixed_displacement:\n",
    "                A_matrix, b_matrix = displacement_cell_BCs(A_matrix, b_matrix, k, edges, xy, u_old, u_old_old, u_previous)\n",
    "\n",
    "        # Center Top Boundaries\n",
    "        elif cell_index().center_top(k):\n",
    "            edges = [\"t\"]\n",
    "\n",
    "            if BC_settings(edges[0]).traction:\n",
    "                A_matrix, b_matrix = traction_cell_BCs(A_matrix, b_matrix, k, edges, xy, u_old, u_old_old, u_previous)\n",
    "\n",
    "            elif BC_settings(edges[0]).fixed_displacement:\n",
    "                A_matrix, b_matrix = displacement_cell_BCs(A_matrix, b_matrix, k, edges, xy, u_old, u_old_old, u_previous)\n",
    "\n",
    "        # Center Left Boundaries\n",
    "        elif  cell_index().center_left(k):\n",
    "            edges = [\"l\"]\n",
    "\n",
    "            if BC_settings(edges[0]).traction:\n",
    "                A_matrix, b_matrix = traction_cell_BCs(A_matrix, b_matrix, k, edges, xy, u_old, u_old_old, u_previous)\n",
    "\n",
    "            elif BC_settings(edges[0]).fixed_displacement:\n",
    "                A_matrix, b_matrix = displacement_cell_BCs(A_matrix, b_matrix, k, edges, xy, u_old, u_old_old, u_previous)\n",
    "\n",
    "        # Center Right Boundaries\n",
    "        elif  cell_index().center_right(k):\n",
    "            edges = [\"r\"]\n",
    "\n",
    "            if BC_settings(edges[0]).traction:\n",
    "                A_matrix, b_matrix = traction_cell_BCs(A_matrix, b_matrix, k, edges, xy, u_old, u_old_old, u_previous)\n",
    "\n",
    "            elif BC_settings(edges[0]).fixed_displacement:\n",
    "                A_matrix, b_matrix = displacement_cell_BCs(A_matrix, b_matrix, k, edges, xy, u_old, u_old_old, u_previous)\n",
    "\n",
    "        #### Points on Boundary ####\n",
    "\n",
    "        # Center Bottom\n",
    "        elif boundary_point_index().center_bottom(k):\n",
    "            edges = [\"b\"]\n",
    "\n",
    "            if BC_settings(edges[0]).traction:\n",
    "                A_matrix, b_matrix = traction_point_BCs(A_matrix, b_matrix, k, edges, xy, u_previous)\n",
    "\n",
    "            elif BC_settings(edges[0]).fixed_displacement:\n",
    "                A_matrix, b_matrix = displacement_point_BCs(A_matrix, b_matrix, k, edges, xy)\n",
    "\n",
    "        # Center Top\n",
    "        elif boundary_point_index().center_top(k):\n",
    "            edges = [\"t\"]\n",
    "\n",
    "            if BC_settings(edges[0]).traction:\n",
    "                A_matrix, b_matrix = traction_point_BCs(A_matrix, b_matrix, k, edges, xy, u_previous)\n",
    "\n",
    "            elif BC_settings(edges[0]).fixed_displacement:\n",
    "                A_matrix, b_matrix = displacement_point_BCs(A_matrix, b_matrix, k, edges, xy)\n",
    "            \n",
    "        # Center Left\n",
    "        elif boundary_point_index().center_left(k):\n",
    "            edges = [\"l\"]\n",
    "\n",
    "            if BC_settings(edges[0]).traction:\n",
    "                A_matrix, b_matrix = traction_point_BCs(A_matrix, b_matrix, k, edges, xy, u_previous)\n",
    "\n",
    "            elif BC_settings(edges[0]).fixed_displacement:\n",
    "                A_matrix, b_matrix = displacement_point_BCs(A_matrix, b_matrix, k, edges, xy)\n",
    "\n",
    "        # Center Right\n",
    "        elif boundary_point_index().center_right(k):\n",
    "            edges = [\"r\"]\n",
    "\n",
    "            if BC_settings(edges[0]).traction:\n",
    "                A_matrix, b_matrix = traction_point_BCs(A_matrix, b_matrix, k, edges, xy, u_previous)\n",
    "\n",
    "            elif BC_settings(edges[0]).fixed_displacement:\n",
    "                A_matrix, b_matrix = displacement_point_BCs(A_matrix, b_matrix, k, edges, xy)\n",
    "\n",
    "        # Bottom Left: Bottom\n",
    "        elif boundary_point_index().bottom_left_bottom(k):\n",
    "            edges = [\"b\", \"l\"]\n",
    "\n",
    "            if BC_settings(edges[0]).traction:\n",
    "                A_matrix, b_matrix = traction_point_BCs(A_matrix, b_matrix, k, edges, xy, u_previous) \n",
    "\n",
    "            elif BC_settings(edges[0]).fixed_displacement:\n",
    "                A_matrix, b_matrix = displacement_point_BCs(A_matrix, b_matrix, k, edges, xy)\n",
    "\n",
    "        # Bottom Left: Left\n",
    "        elif boundary_point_index().bottom_left_left(k):\n",
    "            edges = [\"l\", \"b\"]\n",
    "            \n",
    "            if BC_settings(edges[0]).traction:\n",
    "                A_matrix, b_matrix = traction_point_BCs(A_matrix, b_matrix, k, edges, xy, u_previous)\n",
    "\n",
    "            elif BC_settings(edges[0]).fixed_displacement:\n",
    "                A_matrix, b_matrix = displacement_point_BCs(A_matrix, b_matrix, k, edges, xy)\n",
    "            \n",
    "        # Bottom Right: Right\n",
    "        elif boundary_point_index().bottom_right_right(k):\n",
    "            edges = [\"r\", \"b\"]\n",
    "\n",
    "            if BC_settings(edges[0]).traction:\n",
    "                A_matrix, b_matrix = traction_point_BCs(A_matrix, b_matrix, k, edges, xy, u_previous)\n",
    "\n",
    "            elif BC_settings(edges[0]).fixed_displacement:\n",
    "                A_matrix, b_matrix = displacement_point_BCs(A_matrix, b_matrix, k, edges, xy)\n",
    "\n",
    "        # Bottom Right: Bottom\n",
    "        elif boundary_point_index().bottom_right_bottom(k):\n",
    "            edges = [\"b\", \"r\"]\n",
    "\n",
    "            if BC_settings(edges[0]).traction:\n",
    "                A_matrix, b_matrix = traction_point_BCs(A_matrix, b_matrix, k, edges, xy, u_previous) \n",
    "\n",
    "            elif BC_settings(edges[0]).fixed_displacement:\n",
    "                A_matrix, b_matrix = displacement_point_BCs(A_matrix, b_matrix, k, edges, xy)\n",
    "\n",
    "        # Top Left: Left\n",
    "        elif boundary_point_index().top_left_left(k):\n",
    "            edges = [\"l\", \"t\"]\n",
    "\n",
    "            if BC_settings(edges[0]).traction:\n",
    "                A_matrix, b_matrix = traction_point_BCs(A_matrix, b_matrix, k, edges, xy, u_previous)\n",
    "\n",
    "            elif BC_settings(edges[0]).fixed_displacement:\n",
    "                A_matrix, b_matrix = displacement_point_BCs(A_matrix, b_matrix, k, edges, xy)\n",
    "\n",
    "        # Top Left: Top\n",
    "        elif boundary_point_index().top_left_top(k):\n",
    "            edges = [\"t\", \"l\"]\n",
    "\n",
    "            if BC_settings(edges[0]).traction:  \n",
    "                A_matrix, b_matrix = traction_point_BCs(A_matrix, b_matrix, k, edges, xy, u_previous)\n",
    "\n",
    "            elif BC_settings(edges[0]).fixed_displacement:\n",
    "                A_matrix, b_matrix = displacement_point_BCs(A_matrix, b_matrix, k, edges, xy)\n",
    "\n",
    "        # Top Right: Right\n",
    "        elif boundary_point_index().top_right_right(k):\n",
    "            edges = [\"r\", \"t\"]\n",
    "\n",
    "            if BC_settings(edges[0]).traction:  \n",
    "                A_matrix, b_matrix = traction_point_BCs(A_matrix, b_matrix, k, edges, xy, u_previous)\n",
    "\n",
    "            elif BC_settings(edges[0]).fixed_displacement:\n",
    "                A_matrix, b_matrix = displacement_point_BCs(A_matrix, b_matrix, k, edges, xy)\n",
    "\n",
    "        # Top Right: Top        \n",
    "        elif boundary_point_index().top_right_top(k):\n",
    "            edges = [\"t\", \"r\"]\n",
    "\n",
    "            if BC_settings(edges[0]).traction:  \n",
    "                A_matrix, b_matrix = traction_point_BCs(A_matrix, b_matrix, k, edges, xy, u_previous)\n",
    "\n",
    "            elif BC_settings(edges[0]).fixed_displacement:\n",
    "                A_matrix, b_matrix = displacement_point_BCs(A_matrix, b_matrix, k, edges, xy)\n",
    "\n",
    "        # # Corner Points\n",
    "\n",
    "        # If on of the edges uses fixed displacement this BC is used, if both edges use traction an interpolation is used\n",
    "\n",
    "        elif boundary_point_index().bottom_left_corner(k):\n",
    "\n",
    "            edges = [\"b\", \"l\"]\n",
    "\n",
    "            #print(str(k) + \": Bottom Left Corner Point on Boundary\")\n",
    "                    \n",
    "            if BC_settings(edges[0]).fixed_displacement | BC_settings(edges[1]).fixed_displacement:\n",
    "                for i in [0,1]:                 \n",
    "                    if BC_settings(edges[i]).fixed_displacement:\n",
    "                        edges = [edges[i]]\n",
    "                        A_matrix, b_matrix = displacement_point_BCs(A_matrix, b_matrix, k, edges, xy)\n",
    "            else: \n",
    "                A_matrix[k,k] = 4*fac\n",
    "\n",
    "                A_matrix[k,index(k).n] = 2*fac\n",
    "                A_matrix[k,index(k).e] = 2*fac\n",
    "\n",
    "                A_matrix[k,index(k).ne] = -15*fac\n",
    "\n",
    "                A_matrix[k,index(k).dir([\"n\", \"n\"])] = 2*fac \n",
    "                A_matrix[k,index(k).dir([\"e\", \"e\"])] = 2*fac\n",
    "\n",
    "                A_matrix[k,index(k).dir([\"n\", \"ne\"])] = 1*fac\n",
    "                A_matrix[k,index(k).dir([\"ne\", \"ne\"])] = 1*fac\n",
    "                A_matrix[k,index(k).dir([\"e\", \"ne\"])] = 1*fac\n",
    "\n",
    "                b_matrix[k] = 0\n",
    "\n",
    "            # edges = [\"l\"]\n",
    "\n",
    "            # A_matrix, b_matrix = displacement_point_BCs(A_matrix, b_matrix, k, edges, xy)\n",
    "\n",
    "        elif boundary_point_index().bottom_right_corner(k):\n",
    "            edges = [\"b\", \"r\"]\n",
    "            \n",
    "            if BC_settings(edges[0]).fixed_displacement | BC_settings(edges[1]).fixed_displacement:\n",
    "                for i in [0,1]:                 \n",
    "                    if BC_settings(edges[i]).fixed_displacement:\n",
    "                        edges = [edges[i]]\n",
    "                        A_matrix, b_matrix = displacement_point_BCs(A_matrix, b_matrix, k, edges, xy)\n",
    "            else: \n",
    "                A_matrix[k,k] = 4*fac\n",
    "\n",
    "                A_matrix[k,index(k).n] = 2 *fac\n",
    "                A_matrix[k,index(k).w] = 2*fac\n",
    "\n",
    "                A_matrix[k,index(k).nw] = -15*fac\n",
    "\n",
    "                A_matrix[k,index(k).dir([\"n\", \"n\"])] = 2 *fac\n",
    "                A_matrix[k,index(k).dir([\"w\", \"w\"])] = 2*fac\n",
    "\n",
    "                A_matrix[k,index(k).dir([\"n\", \"nw\"])] = 1*fac\n",
    "                A_matrix[k,index(k).dir([\"nw\", \"nw\"])] = 1*fac\n",
    "                A_matrix[k,index(k).dir([\"w\", \"nw\"])] = 1*fac\n",
    "\n",
    "                b_matrix[k] = 0\n",
    "\n",
    "        elif boundary_point_index().top_left_corner(k):\n",
    "\n",
    "            edges = [\"t\", \"l\"]\n",
    "            \n",
    "            if BC_settings(edges[0]).fixed_displacement | BC_settings(edges[1]).fixed_displacement:\n",
    "                for i in [0,1]:                 \n",
    "                    if BC_settings(edges[i]).fixed_displacement:\n",
    "                        edges = [edges[i]]\n",
    "                        A_matrix, b_matrix = displacement_point_BCs(A_matrix, b_matrix, k, edges, xy)\n",
    "            else: \n",
    "                A_matrix[k,k] = 4*fac\n",
    "\n",
    "                A_matrix[k,index(k).s] = 2 *fac\n",
    "                A_matrix[k,index(k).e] = 2*fac\n",
    "\n",
    "                A_matrix[k,index(k).se] = -15*fac\n",
    "\n",
    "                A_matrix[k,index(k).dir([\"s\", \"s\"])] = 2 *fac\n",
    "                A_matrix[k,index(k).dir([\"e\", \"e\"])] = 2*fac\n",
    "\n",
    "                A_matrix[k,index(k).dir([\"s\", \"se\"])] = 1*fac\n",
    "                A_matrix[k,index(k).dir([\"se\", \"se\"])] = 1*fac\n",
    "                A_matrix[k,index(k).dir([\"e\", \"se\"])] = 1*fac\n",
    "\n",
    "                b_matrix[k] = 0\n",
    "\n",
    "        elif boundary_point_index().top_right_corner(k):\n",
    "\n",
    "            edges = [\"t\", \"r\"]\n",
    "            \n",
    "            if BC_settings(edges[0]).fixed_displacement | BC_settings(edges[1]).fixed_displacement:\n",
    "                for i in [0,1]:                 \n",
    "                    if BC_settings(edges[i]).fixed_displacement:\n",
    "                        edges = [edges[i]]\n",
    "                        A_matrix, b_matrix = displacement_point_BCs(A_matrix, b_matrix, k, edges, xy)\n",
    "            else: \n",
    "                A_matrix[k,k] = 4*fac\n",
    "\n",
    "                A_matrix[k,index(k).s] = 2 *fac\n",
    "                A_matrix[k,index(k).w] = 2*fac\n",
    "\n",
    "                A_matrix[k,index(k).sw] = -15*fac\n",
    "\n",
    "                A_matrix[k,index(k).dir([\"s\", \"s\"])] = 2 *fac\n",
    "                A_matrix[k,index(k).dir([\"w\", \"w\"])] = 2*fac\n",
    "\n",
    "                A_matrix[k,index(k).dir([\"s\", \"sw\"])] = 1*fac\n",
    "                A_matrix[k,index(k).dir([\"sw\", \"sw\"])] = 1*fac\n",
    "                A_matrix[k,index(k).dir([\"w\", \"sw\"])] = 1*fac\n",
    "\n",
    "                b_matrix[k] = 0      \n",
    "            # # \n",
    "            \n",
    "            # edges = [\"l\"]\n",
    "\n",
    "            # A_matrix[k,k] = 1\n",
    "            # b_matrix[k] = edge_U(edges, xy).BC  \n",
    "\n",
    "        else:\n",
    "\n",
    "            #print(str(k) + \": NO BC Cell\")\n",
    "\n",
    "            b_matrix[k] = (\n",
    "                            A.b_temp(u_old, u_old_old, k, xy)\n",
    "                            +\n",
    "                            A.b_diff(k, xy, u_previous)\n",
    "                        )\n",
    "\n",
    "    return A_matrix, b_matrix\n"
   ]
  },
  {
   "cell_type": "code",
   "execution_count": 130,
   "metadata": {},
   "outputs": [
    {
     "name": "stdout",
     "output_type": "stream",
     "text": [
      "\n",
      "Time = 0.0\n",
      "icorr = 1, Residual = 300549076001397.93750000000000000000, normFactor = 0.00000000000000000002, time = 0.0000\n",
      "icorr = 2, Residual = 0.34458016715267320018, normFactor = 0.00000449787568443944, time = 0.0000\n",
      "icorr = 3, Residual = 0.56429183050317466286, normFactor = 0.00000449787568443944, time = 0.0000\n",
      "icorr = 4, Residual = 0.13233279787780738435, normFactor = 0.00000765348220675997, time = 0.0000\n",
      "icorr = 5, Residual = 0.19871614968438389148, normFactor = 0.00000765348220675997, time = 0.0000\n",
      "icorr = 6, Residual = 0.06722810690857558558, normFactor = 0.00000977938346704498, time = 0.0000\n",
      "icorr = 7, Residual = 0.09796814191198306709, normFactor = 0.00000977938346704498, time = 0.0000\n",
      "icorr = 8, Residual = 0.03812060142785141797, normFactor = 0.00001118592052844793, time = 0.0000\n",
      "icorr = 9, Residual = 0.05488485849255878707, normFactor = 0.00001118592052844793, time = 0.0000\n",
      "icorr = 10, Residual = 0.02284105455724551315, normFactor = 0.00001210805606158465, time = 0.0000\n",
      "icorr = 11, Residual = 0.03271579805480930719, normFactor = 0.00001210805606158465, time = 0.0000\n",
      "icorr = 12, Residual = 0.01411495788576931296, normFactor = 0.00001270983165974006, time = 0.0000\n",
      "icorr = 13, Residual = 0.02016997895806967034, normFactor = 0.00001270983165974006, time = 0.0000\n",
      "icorr = 14, Residual = 0.00888367229600883074, normFactor = 0.00001310160430960871, time = 0.0000\n",
      "icorr = 15, Residual = 0.01268066825196972891, normFactor = 0.00001310160430960871, time = 0.0000\n",
      "icorr = 16, Residual = 0.00565428281287521425, normFactor = 0.00001335633056833727, time = 0.0000\n",
      "icorr = 17, Residual = 0.00806672519701760217, normFactor = 0.00001335633056833727, time = 0.0000\n",
      "icorr = 18, Residual = 0.00362417717431329093, normFactor = 0.00001352183123100609, time = 0.0000\n",
      "icorr = 19, Residual = 0.00516911526652657702, normFactor = 0.00001352183123100609, time = 0.0000\n",
      "icorr = 20, Residual = 0.00233330394578570985, normFactor = 0.00001362931509985504, time = 0.0000\n",
      "icorr = 21, Residual = 0.00332753237050918606, normFactor = 0.00001362931509985504, time = 0.0000\n",
      "icorr = 22, Residual = 0.00150648872281679866, normFactor = 0.00001369910248650039, time = 0.0000\n",
      "icorr = 23, Residual = 0.00214827292997243034, normFactor = 0.00001369910248650039, time = 0.0000\n",
      "icorr = 24, Residual = 0.00097443310166405144, normFactor = 0.00001374440709006931, time = 0.0000\n",
      "icorr = 25, Residual = 0.00138951249051727293, normFactor = 0.00001374440709006931, time = 0.0000\n",
      "icorr = 26, Residual = 0.00063102753688618150, normFactor = 0.00001377381500414600, time = 0.0000\n",
      "icorr = 27, Residual = 0.00089981396789014147, normFactor = 0.00001377381500414600, time = 0.0000\n",
      "icorr = 28, Residual = 0.00040895370225046626, normFactor = 0.00001379290288524946, time = 0.0000\n",
      "icorr = 29, Residual = 0.00058314435726274018, normFactor = 0.00001379290288524946, time = 0.0000\n",
      "icorr = 30, Residual = 0.00026516317306083672, normFactor = 0.00001380529177352109, time = 0.0000\n",
      "icorr = 31, Residual = 0.00037810667127716527, normFactor = 0.00001380529177352109, time = 0.0000\n",
      "icorr = 32, Residual = 0.00017198492780755710, normFactor = 0.00001381333247939514, time = 0.0000\n",
      "icorr = 33, Residual = 0.00024524009760787797, normFactor = 0.00001381333247939514, time = 0.0000\n",
      "icorr = 34, Residual = 0.00011157248384566893, normFactor = 0.00001381855099819758, time = 0.0000\n",
      "icorr = 35, Residual = 0.00015909570506119928, normFactor = 0.00001381855099819758, time = 0.0000\n",
      "icorr = 36, Residual = 0.00007239055107522064, normFactor = 0.00001382193783483205, time = 0.0000\n",
      "icorr = 37, Residual = 0.00010322468949027547, normFactor = 0.00001382193783483205, time = 0.0000\n",
      "icorr = 38, Residual = 0.00004697257191791309, normFactor = 0.00001382413588189464, time = 0.0000\n",
      "icorr = 39, Residual = 0.00006698019088516798, normFactor = 0.00001382413588189464, time = 0.0000\n",
      "icorr = 40, Residual = 0.00003048114309917703, normFactor = 0.00001382556239813716, time = 0.0000\n",
      "icorr = 41, Residual = 0.00004346438937769085, normFactor = 0.00001382556239813716, time = 0.0000\n",
      "icorr = 42, Residual = 0.00001978035280570971, normFactor = 0.00001382648819205476, time = 0.0000\n",
      "icorr = 43, Residual = 0.00002820568187949003, normFactor = 0.00001382648819205476, time = 0.0000\n",
      "icorr = 44, Residual = 0.00001283651474707092, normFactor = 0.00001382708902038954, time = 0.0000\n",
      "icorr = 45, Residual = 0.00001830416320869233, normFactor = 0.00001382708902038954, time = 0.0000\n",
      "icorr = 46, Residual = 0.00000833042019381138, normFactor = 0.00001382747894926804, time = 0.0000\n",
      "icorr = 47, Residual = 0.00001187872437890553, normFactor = 0.00001382747894926804, time = 0.0000\n",
      "icorr = 48, Residual = 0.00000540618670116677, normFactor = 0.00001382773200700250, time = 0.0000\n",
      "icorr = 49, Residual = 0.00000770892897162740, normFactor = 0.00001382773200700250, time = 0.0000\n",
      "icorr = 50, Residual = 0.00000350847184687035, normFactor = 0.00001382789623729633, time = 0.0000\n",
      "icorr = 51, Residual = 0.00000500289145090511, normFactor = 0.00001382789623729633, time = 0.0000\n",
      "icorr = 52, Residual = 0.00000227691483736226, normFactor = 0.00001382800281994782, time = 0.0000\n",
      "icorr = 53, Residual = 0.00000324675808098049, normFactor = 0.00001382800281994782, time = 0.0000\n",
      "icorr = 54, Residual = 0.00000147766766816383, normFactor = 0.00001382807199021916, time = 0.0000\n",
      "icorr = 55, Residual = 0.00000210707481906749, normFactor = 0.00001382807199021916, time = 0.0000\n",
      "icorr = 56, Residual = 0.00000095897553931340, normFactor = 0.00001382811688049026, time = 0.0000\n",
      "icorr = 57, Residual = 0.00000136744777183616, normFactor = 0.00001382811688049026, time = 0.0000\n",
      "icorr = 58, Residual = 0.00000062235587398973, normFactor = 0.00001382814601346458, time = 0.0000\n",
      "icorr = 59, Residual = 0.00000088744619918204, normFactor = 0.00001382814601346458, time = 0.0000\n",
      "icorr = 60, Residual = 0.00000040389677251031, normFactor = 0.00001382816492023338, time = 0.0000\n",
      "icorr = 61, Residual = 0.00000057593522448290, normFactor = 0.00001382816492023338, time = 0.0000\n",
      "icorr = 62, Residual = 0.00000026212122374263, normFactor = 0.00001382817719037913, time = 0.0000\n",
      "icorr = 63, Residual = 0.00000037377087480439, normFactor = 0.00001382817719037913, time = 0.0000\n",
      "icorr = 64, Residual = 0.00000017011167818400, normFactor = 0.00001382818515347736, time = 0.0000\n",
      "icorr = 65, Residual = 0.00000024257017874372, normFactor = 0.00001382818515347736, time = 0.0000\n",
      "icorr = 66, Residual = 0.00000011039925984013, normFactor = 0.00001382819032138070, time = 0.0000\n",
      "icorr = 67, Residual = 0.00000015742345776722, normFactor = 0.00001382819032138070, time = 0.0000\n",
      "icorr = 68, Residual = 0.00000007164703996820, normFactor = 0.00001382819367525408, time = 0.0000\n",
      "icorr = 69, Residual = 0.00000010216485951486, normFactor = 0.00001382819367525408, time = 0.0000\n",
      "icorr = 70, Residual = 0.00000004649758342220, normFactor = 0.00001382819585185555, time = 0.0000\n",
      "icorr = 71, Residual = 0.00000006630307616658, normFactor = 0.00001382819585185555, time = 0.0000\n",
      "icorr = 72, Residual = 0.00000003017606007989, normFactor = 0.00001382819726442941, time = 0.0000\n",
      "icorr = 73, Residual = 0.00000004302945365399, normFactor = 0.00001382819726442941, time = 0.0000\n",
      "icorr = 74, Residual = 0.00000001958369838583, normFactor = 0.00001382819818116355, time = 0.0000\n",
      "icorr = 75, Residual = 0.00000002792531047273, normFactor = 0.00001382819818116355, time = 0.0000\n",
      "icorr = 76, Residual = 0.00000001270945374778, normFactor = 0.00001382819877610688, time = 0.0000\n",
      "icorr = 77, Residual = 0.00000001812300419554, normFactor = 0.00001382819877610688, time = 0.0000\n",
      "icorr = 78, Residual = 0.00000000824819812672, normFactor = 0.00001382819916221404, time = 0.0000\n",
      "icorr = 79, Residual = 0.00000001176149028926, normFactor = 0.00001382819916221404, time = 0.0000\n",
      "icorr = 80, Residual = 0.00000000535292624034, normFactor = 0.00001382819941279037, time = 0.0000\n",
      "icorr = 81, Residual = 0.00000000763298806228, normFactor = 0.00001382819941279037, time = 0.0000\n",
      "icorr = 82, Residual = 0.00000000347394926119, normFactor = 0.00001382819957540973, time = 0.0000\n",
      "icorr = 83, Residual = 0.00000000495366687378, normFactor = 0.00001382819957540973, time = 0.0000\n",
      "icorr = 84, Residual = 0.00000000225452807626, normFactor = 0.00001382819968094668, time = 0.0000\n",
      "icorr = 85, Residual = 0.00000000321483689156, normFactor = 0.00001382819968094668, time = 0.0000\n",
      "icorr = 86, Residual = 0.00000000146314651671, normFactor = 0.00001382819974943815, time = 0.0000\n",
      "icorr = 87, Residual = 0.00000000208636902836, normFactor = 0.00001382819974943815, time = 0.0000\n",
      "icorr = 88, Residual = 0.00000000094955526500, normFactor = 0.00001382819979388787, time = 0.0000\n",
      "icorr = 89, Residual = 0.00000000135401504611, normFactor = 0.00001382819979388787, time = 0.0000\n",
      "icorr = 90, Residual = 0.00000000061624330394, normFactor = 0.00001382819982273488, time = 0.0000\n",
      "icorr = 91, Residual = 0.00000000087873019712, normFactor = 0.00001382819982273488, time = 0.0000\n",
      "icorr = 92, Residual = 0.00000000039993058170, normFactor = 0.00001382819984145607, time = 0.0000\n",
      "icorr = 93, Residual = 0.00000000057028007311, normFactor = 0.00001382819984145607, time = 0.0000\n",
      "icorr = 94, Residual = 0.00000000025954744840, normFactor = 0.00001382819985360577, time = 0.0000\n",
      "icorr = 95, Residual = 0.00000000037010037844, normFactor = 0.00001382819985360577, time = 0.0000\n",
      "icorr = 96, Residual = 0.00000000016844130774, normFactor = 0.00001382819986149068, time = 0.0000\n",
      "icorr = 97, Residual = 0.00000000024018821181, normFactor = 0.00001382819986149068, time = 0.0000\n",
      "icorr = 98, Residual = 0.00000000010931513996, normFactor = 0.00001382819986660785, time = 0.0000\n",
      "icorr = 99, Residual = 0.00000000015587779888, normFactor = 0.00001382819986660785, time = 0.0000\n",
      "icorr = 100, Residual = 0.00000000007094379231, normFactor = 0.00001382819986992881, time = 0.0000\n",
      "icorr = 101, Residual = 0.00000000010116210285, normFactor = 0.00001382819986992881, time = 0.0000\n",
      "icorr = 102, Residual = 0.00000000004604120348, normFactor = 0.00001382819987208406, time = 0.0000\n",
      "icorr = 103, Residual = 0.00000000006565224995, normFactor = 0.00001382819987208406, time = 0.0000\n",
      "icorr = 104, Residual = 0.00000000002987957111, normFactor = 0.00001382819987348274, time = 0.0000\n",
      "icorr = 105, Residual = 0.00000000004260625185, normFactor = 0.00001382819987348274, time = 0.0000\n",
      "icorr = 106, Residual = 0.00000000001939145318, normFactor = 0.00001382819987439047, time = 0.0000\n",
      "icorr = 107, Residual = 0.00000000002765119168, normFactor = 0.00001382819987439047, time = 0.0000\n",
      "icorr = 108, Residual = 0.00000000001258484421, normFactor = 0.00001382819987497958, time = 0.0000\n",
      "icorr = 109, Residual = 0.00000000001794582504, normFactor = 0.00001382819987497958, time = 0.0000\n",
      "icorr = 110, Residual = 0.00000000000816711490, normFactor = 0.00001382819987536188, time = 0.0000\n",
      "icorr = 111, Residual = 0.00000000001164539374, normFactor = 0.00001382819987536188, time = 0.0000\n",
      "icorr = 112, Residual = 0.00000000000530031011, normFactor = 0.00001382819987561001, time = 0.0000\n",
      "icorr = 113, Residual = 0.00000000000755815973, normFactor = 0.00001382819987561001, time = 0.0000\n",
      "icorr = 114, Residual = 0.00000000000343980594, normFactor = 0.00001382819987577105, time = 0.0000\n",
      "icorr = 115, Residual = 0.00000000000490499731, normFactor = 0.00001382819987577105, time = 0.0000\n",
      "icorr = 116, Residual = 0.00000000000223253049, normFactor = 0.00001382819987587555, time = 0.0000\n",
      "icorr = 117, Residual = 0.00000000000318307303, normFactor = 0.00001382819987587555, time = 0.0000\n",
      "icorr = 118, Residual = 0.00000000000144856763, normFactor = 0.00001382819987594336, time = 0.0000\n",
      "icorr = 119, Residual = 0.00000000000206580042, normFactor = 0.00001382819987594336, time = 0.0000\n",
      "icorr = 120, Residual = 0.00000000000094012739, normFactor = 0.00001382819987598737, time = 0.0000\n",
      "icorr = 121, Residual = 0.00000000000134050959, normFactor = 0.00001382819987598737, time = 0.0000\n",
      "icorr = 122, Residual = 0.00000000000061017881, normFactor = 0.00001382819987601593, time = 0.0000\n",
      "icorr = 123, Residual = 0.00000000000087017918, normFactor = 0.00001382819987601593, time = 0.0000\n",
      "icorr = 124, Residual = 0.00000000000039615722, normFactor = 0.00001382819987603447, time = 0.0000\n",
      "icorr = 125, Residual = 0.00000000000056510313, normFactor = 0.00001382819987603447, time = 0.0000\n",
      "icorr = 126, Residual = 0.00000000000025674275, normFactor = 0.00001382819987604648, time = 0.0000\n",
      "icorr = 127, Residual = 0.00000000000036643912, normFactor = 0.00001382819987604648, time = 0.0000\n",
      "icorr = 128, Residual = 0.00000000000016667797, normFactor = 0.00001382819987605430, time = 0.0000\n",
      "icorr = 129, Residual = 0.00000000000023728717, normFactor = 0.00001382819987605430, time = 0.0000\n",
      "icorr = 130, Residual = 0.00000000000010814252, normFactor = 0.00001382819987605936, time = 0.0000\n",
      "icorr = 131, Residual = 0.00000000000015428131, normFactor = 0.00001382819987605936, time = 0.0000\n",
      "icorr = 132, Residual = 0.00000000000007029594, normFactor = 0.00001382819987606266, time = 0.0000\n",
      "icorr = 133, Residual = 0.00000000000010012537, normFactor = 0.00001382819987606266, time = 0.0000\n",
      "icorr = 134, Residual = 0.00000000000004560296, normFactor = 0.00001382819987606479, time = 0.0000\n",
      "icorr = 135, Residual = 0.00000000000006556856, normFactor = 0.00001382819987606479, time = 0.0000\n",
      "icorr = 136, Residual = 0.00000000000003007434, normFactor = 0.00001382819987606618, time = 0.0000\n",
      "icorr = 137, Residual = 0.00000000000004226618, normFactor = 0.00001382819987606618, time = 0.0000\n",
      "icorr = 138, Residual = 0.00000000000001899157, normFactor = 0.00001382819987606708, time = 0.0000\n",
      "icorr = 139, Residual = 0.00000000000002666680, normFactor = 0.00001382819987606708, time = 0.0000\n",
      "icorr = 140, Residual = 0.00000000000001227261, normFactor = 0.00001382819987606766, time = 0.0000\n",
      "icorr = 141, Residual = 0.00000000000001775513, normFactor = 0.00001382819987606766, time = 0.0000\n",
      "icorr = 142, Residual = 0.00000000000000827873, normFactor = 0.00001382819987606805, time = 0.0000\n",
      "\n",
      "Time = 0.001\n",
      "icorr = 1, Residual = 0.06360623896863792925, normFactor = 0.00001394011301695219, time = 0.0010\n",
      "icorr = 2, Residual = 0.01341730777383247537, normFactor = 0.00001437009937895685, time = 0.0010\n",
      "icorr = 3, Residual = 0.02403550567311021555, normFactor = 0.00001443883425617581, time = 0.0010\n",
      "icorr = 4, Residual = 0.00841840170856380382, normFactor = 0.00001478715751256258, time = 0.0010\n",
      "icorr = 5, Residual = 0.01291255414668941205, normFactor = 0.00001483338703681090, time = 0.0010\n",
      "icorr = 6, Residual = 0.00534321818790062675, normFactor = 0.00001507852818677035, time = 0.0010\n",
      "icorr = 7, Residual = 0.00770929732293282668, normFactor = 0.00001510960349577109, time = 0.0010\n",
      "icorr = 8, Residual = 0.00341635962900017345, normFactor = 0.00001527436729634501, time = 0.0010\n",
      "icorr = 9, Residual = 0.00480417328079431674, normFactor = 0.00001529507619573523, time = 0.0010\n",
      "icorr = 10, Residual = 0.00219531991996708802, normFactor = 0.00001540368934466193, time = 0.0010\n",
      "icorr = 11, Residual = 0.00305268726072697831, normFactor = 0.00001541738111042256, time = 0.0010\n",
      "icorr = 12, Residual = 0.00141557186646026011, normFactor = 0.00001548836401997318, time = 0.0010\n",
      "icorr = 13, Residual = 0.00195839655499411907, normFactor = 0.00001549736427762923, time = 0.0010\n",
      "icorr = 14, Residual = 0.00091488694479987067, normFactor = 0.00001554357228838051, time = 0.0010\n",
      "icorr = 15, Residual = 0.00126266043409253609, normFactor = 0.00001554946510654534, time = 0.0010\n",
      "icorr = 16, Residual = 0.00059218077994402124, normFactor = 0.00001557949105657918, time = 0.0010\n",
      "icorr = 17, Residual = 0.00081631568087237429, normFactor = 0.00001558333888375296, time = 0.0010\n",
      "icorr = 18, Residual = 0.00038367065793671549, normFactor = 0.00001560283370619600, time = 0.0010\n",
      "icorr = 19, Residual = 0.00052856910587985718, normFactor = 0.00001560534158286549, time = 0.0010\n",
      "icorr = 20, Residual = 0.00024873014374006614, normFactor = 0.00001561799432712821, time = 0.0010\n",
      "icorr = 21, Residual = 0.00034255994251780082, normFactor = 0.00001561962679894517, time = 0.0010\n",
      "icorr = 22, Residual = 0.00016131202835025808, normFactor = 0.00001562783762325445, time = 0.0010\n",
      "icorr = 23, Residual = 0.00022212813157432030, normFactor = 0.00001562889932647490, time = 0.0010\n",
      "icorr = 24, Residual = 0.00010464343062108707, normFactor = 0.00001563422737925209, time = 0.0010\n",
      "icorr = 25, Residual = 0.00014408223416449841, normFactor = 0.00001563491744974901, time = 0.0010\n",
      "icorr = 26, Residual = 0.00006789300803770106, normFactor = 0.00001563837484433026, time = 0.0010\n",
      "icorr = 27, Residual = 0.00009347652586088576, normFactor = 0.00001563882317212958, time = 0.0010\n",
      "icorr = 28, Residual = 0.00004405358752765297, normFactor = 0.00001564106672065275, time = 0.0010\n",
      "icorr = 29, Residual = 0.00006065228164474202, normFactor = 0.00001564135790269731, time = 0.0010\n",
      "icorr = 30, Residual = 0.00002858676333481989, normFactor = 0.00001564281379806796, time = 0.0010\n",
      "icorr = 31, Residual = 0.00003935720420247491, normFactor = 0.00001564300287502949, time = 0.0010\n",
      "icorr = 32, Residual = 0.00001855095232245937, normFactor = 0.00001564394765964513, time = 0.0010\n",
      "icorr = 33, Residual = 0.00002554004321152342, normFactor = 0.00001564407041623356, time = 0.0010\n",
      "icorr = 34, Residual = 0.00001203867290428444, normFactor = 0.00001564468353175822, time = 0.0010\n",
      "icorr = 35, Residual = 0.00001657416840061721, normFactor = 0.00001564476322149319, time = 0.0010\n",
      "icorr = 36, Residual = 0.00000781264632618637, normFactor = 0.00001564516110631229, time = 0.0010\n",
      "icorr = 37, Residual = 0.00001075597772141451, normFactor = 0.00001564521283423252, time = 0.0010\n",
      "icorr = 38, Residual = 0.00000507016720507288, normFactor = 0.00001564547104644088, time = 0.0010\n",
      "icorr = 39, Residual = 0.00000698028449210221, normFactor = 0.00001564550462194216, time = 0.0010\n",
      "icorr = 40, Residual = 0.00000329040472408568, normFactor = 0.00001564567219318751, time = 0.0010\n",
      "icorr = 41, Residual = 0.00000453001439722307, normFactor = 0.00001564569398542725, time = 0.0010\n",
      "icorr = 42, Residual = 0.00000213539502407188, normFactor = 0.00001564580273428997, time = 0.0010\n",
      "icorr = 43, Residual = 0.00000293986982101787, normFactor = 0.00001564581687815663, time = 0.0010\n",
      "icorr = 44, Residual = 0.00000138582479401553, normFactor = 0.00001564588745330726, time = 0.0010\n",
      "icorr = 45, Residual = 0.00000190791021791313, normFactor = 0.00001564589663293347, time = 0.0010\n",
      "icorr = 46, Residual = 0.00000089937164490004, normFactor = 0.00001564594243449458, time = 0.0010\n",
      "icorr = 47, Residual = 0.00000123819376033887, normFactor = 0.00001564594839214503, time = 0.0010\n",
      "icorr = 48, Residual = 0.00000058367426197914, normFactor = 0.00001564597811631668, time = 0.0010\n",
      "icorr = 49, Residual = 0.00000080356281215432, normFactor = 0.00001564598198283530, time = 0.0010\n",
      "icorr = 50, Residual = 0.00000037879322752967, normFactor = 0.00001564600127317973, time = 0.0010\n",
      "icorr = 51, Residual = 0.00000052149649832457, normFactor = 0.00001564600378253201, time = 0.0010\n",
      "icorr = 52, Residual = 0.00000024582953880620, normFactor = 0.00001564601630156384, time = 0.0010\n",
      "icorr = 53, Residual = 0.00000033844117009482, normFactor = 0.00001564601793011191, time = 0.0010\n",
      "icorr = 54, Residual = 0.00000015953870125440, normFactor = 0.00001564602605471029, time = 0.0010\n",
      "icorr = 55, Residual = 0.00000021964186600695, normFactor = 0.00001564602711161943, time = 0.0010\n",
      "icorr = 56, Residual = 0.00000010353760596617, normFactor = 0.00001564603238432287, time = 0.0010\n",
      "icorr = 57, Residual = 0.00000014254341391948, normFactor = 0.00001564603307024272, time = 0.0010\n",
      "icorr = 58, Residual = 0.00000006719396042297, normFactor = 0.00001564603649212450, time = 0.0010\n",
      "icorr = 59, Residual = 0.00000009250799008145, normFactor = 0.00001564603693727630, time = 0.0010\n",
      "icorr = 60, Residual = 0.00000004360762036756, normFactor = 0.00001564603915801165, time = 0.0010\n",
      "icorr = 61, Residual = 0.00000006003594897813, normFactor = 0.00001564603944690807, time = 0.0010\n",
      "icorr = 62, Residual = 0.00000002830052906395, normFactor = 0.00001564604088812289, time = 0.0010\n",
      "icorr = 63, Residual = 0.00000003896220537641, normFactor = 0.00001564604107561186, time = 0.0010\n",
      "icorr = 64, Residual = 0.00000001836651407825, normFactor = 0.00001564604201093291, time = 0.0010\n",
      "icorr = 65, Residual = 0.00000002528574181277, normFactor = 0.00001564604213261004, time = 0.0010\n",
      "icorr = 66, Residual = 0.00000001191952450266, normFactor = 0.00001564604273961570, time = 0.0010\n",
      "icorr = 67, Residual = 0.00000001640997323675, normFactor = 0.00001564604281858202, time = 0.0010\n",
      "icorr = 68, Residual = 0.00000000773554855444, normFactor = 0.00001564604321251727, time = 0.0010\n",
      "icorr = 69, Residual = 0.00000001064976640835, normFactor = 0.00001564604326376497, time = 0.0010\n",
      "icorr = 70, Residual = 0.00000000502022651426, normFactor = 0.00001564604351942157, time = 0.0010\n",
      "icorr = 71, Residual = 0.00000000691149898710, normFactor = 0.00001564604355268039, time = 0.0010\n",
      "icorr = 72, Residual = 0.00000000325803329339, normFactor = 0.00001564604371859670, time = 0.0010\n",
      "icorr = 73, Residual = 0.00000000448543335130, normFactor = 0.00001564604374018111, time = 0.0010\n",
      "icorr = 74, Residual = 0.00000000211440263339, normFactor = 0.00001564604384785767, time = 0.0010\n",
      "icorr = 75, Residual = 0.00000000291096274896, normFactor = 0.00001564604386186555, time = 0.0010\n",
      "icorr = 76, Residual = 0.00000000137220779573, normFactor = 0.00001564604393174564, time = 0.0010\n",
      "icorr = 77, Residual = 0.00000000188916048746, normFactor = 0.00001564604394083649, time = 0.0010\n",
      "icorr = 78, Residual = 0.00000000089053699882, normFactor = 0.00001564604398618732, time = 0.0010\n",
      "icorr = 79, Residual = 0.00000000122602878947, normFactor = 0.00001564604399208712, time = 0.0010\n",
      "icorr = 80, Residual = 0.00000000057794232612, normFactor = 0.00001564604402151900, time = 0.0010\n",
      "icorr = 81, Residual = 0.00000000079566994762, normFactor = 0.00001564604402534785, time = 0.0010\n",
      "icorr = 82, Residual = 0.00000000037507387454, normFactor = 0.00001564604404444859, time = 0.0010\n",
      "icorr = 83, Residual = 0.00000000051637513806, normFactor = 0.00001564604404693343, time = 0.0010\n",
      "icorr = 84, Residual = 0.00000000024341609685, normFactor = 0.00001564604405932947, time = 0.0010\n",
      "icorr = 85, Residual = 0.00000000033511748396, normFactor = 0.00001564604406094209, time = 0.0010\n",
      "icorr = 86, Residual = 0.00000000015797230334, normFactor = 0.00001564604406898689, time = 0.0010\n",
      "icorr = 87, Residual = 0.00000000021748452469, normFactor = 0.00001564604407003344, time = 0.0010\n",
      "icorr = 88, Residual = 0.00000000010252099154, normFactor = 0.00001564604407525437, time = 0.0010\n",
      "icorr = 89, Residual = 0.00000000014114282115, normFactor = 0.00001564604407593355, time = 0.0010\n",
      "icorr = 90, Residual = 0.00000000006653433044, normFactor = 0.00001564604407932185, time = 0.0010\n",
      "icorr = 91, Residual = 0.00000000009159928905, normFactor = 0.00001564604407976264, time = 0.0010\n",
      "icorr = 92, Residual = 0.00000000004317948110, normFactor = 0.00001564604408196157, time = 0.0010\n",
      "icorr = 93, Residual = 0.00000000005944636074, normFactor = 0.00001564604408224761, time = 0.0010\n",
      "icorr = 94, Residual = 0.00000000002802258405, normFactor = 0.00001564604408367469, time = 0.0010\n",
      "icorr = 95, Residual = 0.00000000003858048821, normFactor = 0.00001564604408386031, time = 0.0010\n",
      "icorr = 96, Residual = 0.00000000001818658029, normFactor = 0.00001564604408478649, time = 0.0010\n",
      "icorr = 97, Residual = 0.00000000002503900696, normFactor = 0.00001564604408490694, time = 0.0010\n",
      "icorr = 98, Residual = 0.00000000001180262281, normFactor = 0.00001564604408550800, time = 0.0010\n",
      "icorr = 99, Residual = 0.00000000001624960022, normFactor = 0.00001564604408558616, time = 0.0010\n",
      "icorr = 100, Residual = 0.00000000000765982469, normFactor = 0.00001564604408597628, time = 0.0010\n",
      "icorr = 101, Residual = 0.00000000001054627739, normFactor = 0.00001564604408602698, time = 0.0010\n",
      "icorr = 102, Residual = 0.00000000000497086105, normFactor = 0.00001564604408628014, time = 0.0010\n",
      "icorr = 103, Residual = 0.00000000000684447588, normFactor = 0.00001564604408631305, time = 0.0010\n",
      "icorr = 104, Residual = 0.00000000000322653259, normFactor = 0.00001564604408647736, time = 0.0010\n",
      "icorr = 105, Residual = 0.00000000000444112672, normFactor = 0.00001564604408649871, time = 0.0010\n",
      "icorr = 106, Residual = 0.00000000000209407018, normFactor = 0.00001564604408660537, time = 0.0010\n",
      "icorr = 107, Residual = 0.00000000000288200544, normFactor = 0.00001564604408661919, time = 0.0010\n",
      "icorr = 108, Residual = 0.00000000000135863725, normFactor = 0.00001564604408668841, time = 0.0010\n",
      "icorr = 109, Residual = 0.00000000000187061307, normFactor = 0.00001564604408669740, time = 0.0010\n",
      "icorr = 110, Residual = 0.00000000000088171282, normFactor = 0.00001564604408674230, time = 0.0010\n",
      "icorr = 111, Residual = 0.00000000000121448446, normFactor = 0.00001564604408674814, time = 0.0010\n",
      "icorr = 112, Residual = 0.00000000000057235808, normFactor = 0.00001564604408677730, time = 0.0010\n",
      "icorr = 113, Residual = 0.00000000000078895443, normFactor = 0.00001564604408678109, time = 0.0010\n",
      "icorr = 114, Residual = 0.00000000000037146603, normFactor = 0.00001564604408680001, time = 0.0010\n",
      "icorr = 115, Residual = 0.00000000000051116912, normFactor = 0.00001564604408680246, time = 0.0010\n",
      "icorr = 116, Residual = 0.00000000000024111306, normFactor = 0.00001564604408681474, time = 0.0010\n",
      "icorr = 117, Residual = 0.00000000000033186085, normFactor = 0.00001564604408681634, time = 0.0010\n",
      "icorr = 118, Residual = 0.00000000000015624973, normFactor = 0.00001564604408682431, time = 0.0010\n",
      "icorr = 119, Residual = 0.00000000000021577114, normFactor = 0.00001564604408682535, time = 0.0010\n",
      "icorr = 120, Residual = 0.00000000000010115808, normFactor = 0.00001564604408683050, time = 0.0010\n",
      "icorr = 121, Residual = 0.00000000000014013003, normFactor = 0.00001564604408683121, time = 0.0010\n",
      "icorr = 122, Residual = 0.00000000000006584783, normFactor = 0.00001564604408683454, time = 0.0010\n",
      "icorr = 123, Residual = 0.00000000000009054129, normFactor = 0.00001564604408683498, time = 0.0010\n",
      "icorr = 124, Residual = 0.00000000000004270349, normFactor = 0.00001564604408683717, time = 0.0010\n",
      "icorr = 125, Residual = 0.00000000000005876580, normFactor = 0.00001564604408683745, time = 0.0010\n",
      "icorr = 126, Residual = 0.00000000000002772259, normFactor = 0.00001564604408683886, time = 0.0010\n",
      "icorr = 127, Residual = 0.00000000000003792689, normFactor = 0.00001564604408683903, time = 0.0010\n",
      "icorr = 128, Residual = 0.00000000000001786340, normFactor = 0.00001564604408683994, time = 0.0010\n",
      "icorr = 129, Residual = 0.00000000000002403894, normFactor = 0.00001564604408684008, time = 0.0010\n",
      "icorr = 130, Residual = 0.00000000000001199488, normFactor = 0.00001564604408684067, time = 0.0010\n",
      "icorr = 131, Residual = 0.00000000000001635237, normFactor = 0.00001564604408684075, time = 0.0010\n",
      "icorr = 132, Residual = 0.00000000000000744216, normFactor = 0.00001564604408684113, time = 0.0010\n",
      "\n",
      "Time = 0.002\n",
      "icorr = 1, Residual = 0.01916855274978843116, normFactor = 0.00001560617353255857, time = 0.0020\n",
      "icorr = 2, Residual = 0.00425813405528701911, normFactor = 0.00001545847558323233, time = 0.0020\n",
      "icorr = 3, Residual = 0.00763306768775786314, normFactor = 0.00001543407281327862, time = 0.0020\n",
      "icorr = 4, Residual = 0.00277964937305391797, normFactor = 0.00001531477042968422, time = 0.0020\n",
      "icorr = 5, Residual = 0.00426229230075703906, normFactor = 0.00001529837395770701, time = 0.0020\n",
      "icorr = 6, Residual = 0.00181144641230284527, normFactor = 0.00001521456117642721, time = 0.0020\n",
      "icorr = 7, Residual = 0.00261146797457543611, normFactor = 0.00001520354110647618, time = 0.0020\n",
      "icorr = 8, Residual = 0.00117856267994320457, normFactor = 0.00001514726307831480, time = 0.0020\n",
      "icorr = 9, Residual = 0.00165514832553122129, normFactor = 0.00001513991855719476, time = 0.0020\n",
      "icorr = 10, Residual = 0.00076601824819379585, normFactor = 0.00001510283982063084, time = 0.0020\n",
      "icorr = 11, Residual = 0.00106333008781024575, normFactor = 0.00001509798330612011, time = 0.0020\n",
      "icorr = 12, Residual = 0.00049762172706556873, normFactor = 0.00001507375864362916, time = 0.0020\n",
      "icorr = 13, Residual = 0.00068702488834040303, normFactor = 0.00001507056581265330, time = 0.0020\n",
      "icorr = 14, Residual = 0.00032317058636762894, normFactor = 0.00001505479930192392, time = 0.0020\n",
      "icorr = 15, Residual = 0.00044499517418426830, normFactor = 0.00001505270860854021, time = 0.0020\n",
      "icorr = 16, Residual = 0.00020983619173080013, normFactor = 0.00001504246483014776, time = 0.0020\n",
      "icorr = 17, Residual = 0.00028854886225292966, normFactor = 0.00001504109955795862, time = 0.0020\n",
      "icorr = 18, Residual = 0.00013622867727084849, normFactor = 0.00001503444917810376, time = 0.0020\n",
      "icorr = 19, Residual = 0.00018719745516596422, normFactor = 0.00001503355928544050, time = 0.0020\n",
      "icorr = 20, Residual = 0.00008843252093650678, normFactor = 0.00001502924322594174, time = 0.0020\n",
      "icorr = 21, Residual = 0.00012147220548013346, normFactor = 0.00001502866393334237, time = 0.0020\n",
      "icorr = 22, Residual = 0.00005740141779770118, normFactor = 0.00001502586319429775, time = 0.0020\n",
      "icorr = 23, Residual = 0.00007883067657834072, normFactor = 0.00001502548642899884, time = 0.0020\n",
      "icorr = 24, Residual = 0.00003725713477124794, normFactor = 0.00001502366906166959, time = 0.0020\n",
      "icorr = 25, Residual = 0.00005115992268318082, normFactor = 0.00001502342417077843, time = 0.0020\n",
      "icorr = 26, Residual = 0.00002418128382245157, normFactor = 0.00001502224489619457, time = 0.0020\n",
      "icorr = 27, Residual = 0.00003320241539989813, normFactor = 0.00001502208579142003, time = 0.0020\n",
      "icorr = 28, Residual = 0.00001569413463607195, normFactor = 0.00001502132055496010, time = 0.0020\n",
      "icorr = 29, Residual = 0.00002154815155072481, normFactor = 0.00001502121721738733, time = 0.0020\n",
      "icorr = 30, Residual = 0.00001018561255199674, normFactor = 0.00001502072064081768, time = 0.0020\n",
      "icorr = 31, Residual = 0.00001398457357066453, normFactor = 0.00001502065353861992, time = 0.0020\n",
      "icorr = 32, Residual = 0.00000661045368541399, normFactor = 0.00001502033129381580, time = 0.0020\n",
      "icorr = 33, Residual = 0.00000907584150487182, normFactor = 0.00001502028772796597, time = 0.0020\n",
      "icorr = 34, Residual = 0.00000429014051688951, normFactor = 0.00001502007860905369, time = 0.0020\n",
      "icorr = 35, Residual = 0.00000589010663064134, normFactor = 0.00001502005032731374, time = 0.0020\n",
      "icorr = 36, Residual = 0.00000278425587376772, normFactor = 0.00001501991461887615, time = 0.0020\n",
      "icorr = 37, Residual = 0.00000382259474631443, normFactor = 0.00001501989626066017, time = 0.0020\n",
      "icorr = 38, Residual = 0.00000180694527205878, normFactor = 0.00001501980819123508, time = 0.0020\n",
      "icorr = 39, Residual = 0.00000248080419572849, normFactor = 0.00001501979627527036, time = 0.0020\n",
      "icorr = 40, Residual = 0.00000117268037774362, normFactor = 0.00001501973912120859, time = 0.0020\n",
      "icorr = 41, Residual = 0.00000161000076880821, normFactor = 0.00001501973138711413, time = 0.0020\n",
      "icorr = 42, Residual = 0.00000076105056591910, normFactor = 0.00001501969429583938, time = 0.0020\n",
      "icorr = 43, Residual = 0.00000104486271436942, normFactor = 0.00001501968927615498, time = 0.0020\n",
      "icorr = 44, Residual = 0.00000049390887219048, normFactor = 0.00001501966520491631, time = 0.0020\n",
      "icorr = 45, Residual = 0.00000067809738500434, normFactor = 0.00001501966194704644, time = 0.0020\n",
      "icorr = 46, Residual = 0.00000032053818892465, normFactor = 0.00001501964632540699, time = 0.0020\n",
      "icorr = 47, Residual = 0.00000044007297209055, normFactor = 0.00001501964421102186, time = 0.0020\n",
      "icorr = 48, Residual = 0.00000020802354158978, normFactor = 0.00001501963407293807, time = 0.0020\n",
      "icorr = 49, Residual = 0.00000028559932676698, normFactor = 0.00001501963270070010, time = 0.0020\n",
      "icorr = 50, Residual = 0.00000013500350031707, normFactor = 0.00001501962612130539, time = 0.0020\n",
      "icorr = 51, Residual = 0.00000018534870956400, normFactor = 0.00001501962523072906, time = 0.0020\n",
      "icorr = 52, Residual = 0.00000008761479742689, normFactor = 0.00001501962096084000, time = 0.0020\n",
      "icorr = 53, Residual = 0.00000012028788571725, normFactor = 0.00001501962038286343, time = 0.0020\n",
      "icorr = 54, Residual = 0.00000005686038807569, normFactor = 0.00001501961761179232, time = 0.0020\n",
      "icorr = 55, Residual = 0.00000007806460642066, normFactor = 0.00001501961723669205, time = 0.0020\n",
      "icorr = 56, Residual = 0.00000003690133934180, normFactor = 0.00001501961543832203, time = 0.0020\n",
      "icorr = 57, Residual = 0.00000005066247858305, normFactor = 0.00001501961519488692, time = 0.0020\n",
      "icorr = 58, Residual = 0.00000002394828415928, normFactor = 0.00001501961402777994, time = 0.0020\n",
      "icorr = 59, Residual = 0.00000003287900479303, normFactor = 0.00001501961386979416, time = 0.0020\n",
      "icorr = 60, Residual = 0.00000001554199069861, normFactor = 0.00001501961311236430, time = 0.0020\n",
      "icorr = 61, Residual = 0.00000002133786080039, normFactor = 0.00001501961300983399, time = 0.0020\n",
      "icorr = 62, Residual = 0.00000001008646241617, normFactor = 0.00001501961251827651, time = 0.0020\n",
      "icorr = 63, Residual = 0.00000001384787312698, normFactor = 0.00001501961245173605, time = 0.0020\n",
      "icorr = 64, Residual = 0.00000000654592595457, normFactor = 0.00001501961213272459, time = 0.0020\n",
      "icorr = 65, Residual = 0.00000000898701188377, normFactor = 0.00001501961208954101, time = 0.0020\n",
      "icorr = 66, Residual = 0.00000000424818420990, normFactor = 0.00001501961188250859, time = 0.0020\n",
      "icorr = 67, Residual = 0.00000000583240226476, normFactor = 0.00001501961185448319, time = 0.0020\n",
      "icorr = 68, Residual = 0.00000000275699240459, normFactor = 0.00001501961172012304, time = 0.0020\n",
      "icorr = 69, Residual = 0.00000000378512043425, normFactor = 0.00001501961170193507, time = 0.0020\n",
      "icorr = 70, Residual = 0.00000000178923696792, normFactor = 0.00001501961161473785, time = 0.0020\n",
      "icorr = 71, Residual = 0.00000000245647278601, normFactor = 0.00001501961160293417, time = 0.0020\n",
      "icorr = 72, Residual = 0.00000000116118098712, normFactor = 0.00001501961154634485, time = 0.0020\n",
      "icorr = 73, Residual = 0.00000000159420415742, normFactor = 0.00001501961153868445, time = 0.0020\n",
      "icorr = 74, Residual = 0.00000000075358479143, normFactor = 0.00001501961150195904, time = 0.0020\n",
      "icorr = 75, Residual = 0.00000000103460850263, normFactor = 0.00001501961149698760, time = 0.0020\n",
      "icorr = 76, Residual = 0.00000000048906249431, normFactor = 0.00001501961147315349, time = 0.0020\n",
      "icorr = 77, Residual = 0.00000000067144111330, normFactor = 0.00001501961146992714, time = 0.0020\n",
      "icorr = 78, Residual = 0.00000000031739220753, normFactor = 0.00001501961145445925, time = 0.0020\n",
      "icorr = 79, Residual = 0.00000000043575269054, normFactor = 0.00001501961145236541, time = 0.0020\n",
      "icorr = 80, Residual = 0.00000000020598196809, normFactor = 0.00001501961144232703, time = 0.0020\n",
      "icorr = 81, Residual = 0.00000000028279471840, normFactor = 0.00001501961144096813, time = 0.0020\n",
      "icorr = 82, Residual = 0.00000000013367815278, normFactor = 0.00001501961143445343, time = 0.0020\n",
      "icorr = 83, Residual = 0.00000000018352938272, normFactor = 0.00001501961143357156, time = 0.0020\n",
      "icorr = 84, Residual = 0.00000000008675464950, normFactor = 0.00001501961142934361, time = 0.0020\n",
      "icorr = 85, Residual = 0.00000000011910707495, normFactor = 0.00001501961142877129, time = 0.0020\n",
      "icorr = 86, Residual = 0.00000000005630218925, normFactor = 0.00001501961142602746, time = 0.0020\n",
      "icorr = 87, Residual = 0.00000000007729825869, normFactor = 0.00001501961142565602, time = 0.0020\n",
      "icorr = 88, Residual = 0.00000000003653891936, normFactor = 0.00001501961142387532, time = 0.0020\n",
      "icorr = 89, Residual = 0.00000000005016562909, normFactor = 0.00001501961142363427, time = 0.0020\n",
      "icorr = 90, Residual = 0.00000000002371278935, normFactor = 0.00001501961142247863, time = 0.0020\n",
      "icorr = 91, Residual = 0.00000000003255710506, normFactor = 0.00001501961142232219, time = 0.0020\n",
      "icorr = 92, Residual = 0.00000000001538924589, normFactor = 0.00001501961142157219, time = 0.0020\n",
      "icorr = 93, Residual = 0.00000000002112841516, normFactor = 0.00001501961142147066, time = 0.0020\n",
      "icorr = 94, Residual = 0.00000000000998767909, normFactor = 0.00001501961142098392, time = 0.0020\n",
      "icorr = 95, Residual = 0.00000000001371254753, normFactor = 0.00001501961142091806, time = 0.0020\n",
      "icorr = 96, Residual = 0.00000000000648191860, normFactor = 0.00001501961142060215, time = 0.0020\n",
      "icorr = 97, Residual = 0.00000000000889884187, normFactor = 0.00001501961142055940, time = 0.0020\n",
      "icorr = 98, Residual = 0.00000000000420618285, normFactor = 0.00001501961142035440, time = 0.0020\n",
      "icorr = 99, Residual = 0.00000000000577543769, normFactor = 0.00001501961142032666, time = 0.0020\n",
      "icorr = 100, Residual = 0.00000000000273009806, normFactor = 0.00001501961142019361, time = 0.0020\n",
      "icorr = 101, Residual = 0.00000000000374746603, normFactor = 0.00001501961142017562, time = 0.0020\n",
      "icorr = 102, Residual = 0.00000000000177162817, normFactor = 0.00001501961142008926, time = 0.0020\n",
      "icorr = 103, Residual = 0.00000000000243164251, normFactor = 0.00001501961142007757, time = 0.0020\n",
      "icorr = 104, Residual = 0.00000000000114989968, normFactor = 0.00001501961142002155, time = 0.0020\n",
      "icorr = 105, Residual = 0.00000000000157890266, normFactor = 0.00001501961142001394, time = 0.0020\n",
      "icorr = 106, Residual = 0.00000000000074632540, normFactor = 0.00001501961141997760, time = 0.0020\n",
      "icorr = 107, Residual = 0.00000000000102415655, normFactor = 0.00001501961141997265, time = 0.0020\n",
      "icorr = 108, Residual = 0.00000000000048456753, normFactor = 0.00001501961141994905, time = 0.0020\n",
      "icorr = 109, Residual = 0.00000000000066473127, normFactor = 0.00001501961141994587, time = 0.0020\n",
      "icorr = 110, Residual = 0.00000000000031436743, normFactor = 0.00001501961141993058, time = 0.0020\n",
      "icorr = 111, Residual = 0.00000000000043198535, normFactor = 0.00001501961141992849, time = 0.0020\n",
      "icorr = 112, Residual = 0.00000000000020413897, normFactor = 0.00001501961141991853, time = 0.0020\n",
      "icorr = 113, Residual = 0.00000000000028021277, normFactor = 0.00001501961141991720, time = 0.0020\n",
      "icorr = 114, Residual = 0.00000000000013241162, normFactor = 0.00001501961141991075, time = 0.0020\n",
      "icorr = 115, Residual = 0.00000000000018209705, normFactor = 0.00001501961141990988, time = 0.0020\n",
      "icorr = 116, Residual = 0.00000000000008618190, normFactor = 0.00001501961141990569, time = 0.0020\n",
      "icorr = 117, Residual = 0.00000000000011758837, normFactor = 0.00001501961141990512, time = 0.0020\n",
      "icorr = 118, Residual = 0.00000000000005608794, normFactor = 0.00001501961141990239, time = 0.0020\n",
      "icorr = 119, Residual = 0.00000000000007705134, normFactor = 0.00001501961141990203, time = 0.0020\n",
      "icorr = 120, Residual = 0.00000000000003631733, normFactor = 0.00001501961141990027, time = 0.0020\n",
      "icorr = 121, Residual = 0.00000000000004937643, normFactor = 0.00001501961141990003, time = 0.0020\n",
      "icorr = 122, Residual = 0.00000000000002327144, normFactor = 0.00001501961141989890, time = 0.0020\n",
      "icorr = 123, Residual = 0.00000000000003247451, normFactor = 0.00001501961141989874, time = 0.0020\n",
      "icorr = 124, Residual = 0.00000000000001533665, normFactor = 0.00001501961141989800, time = 0.0020\n",
      "icorr = 125, Residual = 0.00000000000002083031, normFactor = 0.00001501961141989789, time = 0.0020\n",
      "icorr = 126, Residual = 0.00000000000000996099, normFactor = 0.00001501961141989741, time = 0.0020\n",
      "\n",
      "Time = 0.003\n",
      "icorr = 1, Residual = 0.00806665230459691768, normFactor = 0.00001500604168540308, time = 0.0030\n",
      "icorr = 2, Residual = 0.00171904022246882745, normFactor = 0.00001494950691834822, time = 0.0030\n",
      "icorr = 3, Residual = 0.00313124906205282686, normFactor = 0.00001494110224982315, time = 0.0030\n",
      "icorr = 4, Residual = 0.00110996746101314553, normFactor = 0.00001489502015641518, time = 0.0030\n",
      "icorr = 5, Residual = 0.00172388589226392798, normFactor = 0.00001488935394751722, time = 0.0030\n",
      "icorr = 6, Residual = 0.00071974674274149185, normFactor = 0.00001485679951304789, time = 0.0030\n",
      "icorr = 7, Residual = 0.00104830063293017794, normFactor = 0.00001485298943116637, time = 0.0030\n",
      "icorr = 8, Residual = 0.00046689347753127246, normFactor = 0.00001483106446173033, time = 0.0030\n",
      "icorr = 9, Residual = 0.00066164438737694559, normFactor = 0.00001482852592057060, time = 0.0030\n",
      "icorr = 10, Residual = 0.00030288587103549685, normFactor = 0.00001481405636211018, time = 0.0030\n",
      "icorr = 11, Residual = 0.00042403530968201908, normFactor = 0.00001481237854434225, time = 0.0030\n",
      "icorr = 12, Residual = 0.00019651811524873611, normFactor = 0.00001480291575475026, time = 0.0030\n",
      "icorr = 13, Residual = 0.00027357320745564293, normFactor = 0.00001480181318553604, time = 0.0030\n",
      "icorr = 14, Residual = 0.00012752208678934774, normFactor = 0.00001479565059575377, time = 0.0030\n",
      "icorr = 15, Residual = 0.00017703856314249520, normFactor = 0.00001479492888643260, time = 0.0030\n",
      "icorr = 16, Residual = 0.00008275729437257876, normFactor = 0.00001479092337011183, time = 0.0030\n",
      "icorr = 17, Residual = 0.00011473341308090905, normFactor = 0.00001479045221151169, time = 0.0030\n",
      "icorr = 18, Residual = 0.00005370890017065496, normFactor = 0.00001478785110911836, time = 0.0030\n",
      "icorr = 19, Residual = 0.00007440776148113265, normFactor = 0.00001478754407206456, time = 0.0030\n",
      "icorr = 20, Residual = 0.00003485726717942149, normFactor = 0.00001478585567540628, time = 0.0030\n",
      "icorr = 21, Residual = 0.00004827238972358928, normFactor = 0.00001478565583649695, time = 0.0030\n",
      "icorr = 22, Residual = 0.00002262253344412022, normFactor = 0.00001478456008534667, time = 0.0030\n",
      "icorr = 23, Residual = 0.00003132245430992846, normFactor = 0.00001478443012820045, time = 0.0030\n",
      "icorr = 24, Residual = 0.00001468206896978800, normFactor = 0.00001478371904842437, time = 0.0030\n",
      "icorr = 25, Residual = 0.00002032596772107913, normFactor = 0.00001478363458611278, time = 0.0030\n",
      "icorr = 26, Residual = 0.00000952863271342860, normFactor = 0.00001478317314524909, time = 0.0030\n",
      "icorr = 27, Residual = 0.00001319064232708172, normFactor = 0.00001478311827398435, time = 0.0030\n",
      "icorr = 28, Residual = 0.00000618402579331333, normFactor = 0.00001478281883054385, time = 0.0030\n",
      "icorr = 29, Residual = 0.00000856032373605471, normFactor = 0.00001478278319370931, time = 0.0030\n",
      "icorr = 30, Residual = 0.00000401337537585480, normFactor = 0.00001478258887339600, time = 0.0030\n",
      "icorr = 31, Residual = 0.00000555544751189951, normFactor = 0.00001478256573344849, time = 0.0030\n",
      "icorr = 32, Residual = 0.00000260463295147570, normFactor = 0.00001478243962997102, time = 0.0030\n",
      "icorr = 33, Residual = 0.00000360537184902249, normFactor = 0.00001478242460683075, time = 0.0030\n",
      "icorr = 34, Residual = 0.00000169037075646661, normFactor = 0.00001478234277146746, time = 0.0030\n",
      "icorr = 35, Residual = 0.00000233981771921203, normFactor = 0.00001478233301904304, time = 0.0030\n",
      "icorr = 36, Residual = 0.00000109702482221722, normFactor = 0.00001478227991112598, time = 0.0030\n",
      "icorr = 37, Residual = 0.00000151849847049432, normFactor = 0.00001478227358072692, time = 0.0030\n",
      "icorr = 38, Residual = 0.00000071195124228857, normFactor = 0.00001478223911551353, time = 0.0030\n",
      "icorr = 39, Residual = 0.00000098547769983302, normFactor = 0.00001478223500661353, time = 0.0030\n",
      "icorr = 40, Residual = 0.00000046204424383398, normFactor = 0.00001478221263973628, time = 0.0030\n",
      "icorr = 41, Residual = 0.00000063955697949043, normFactor = 0.00001478220997286066, time = 0.0030\n",
      "icorr = 42, Residual = 0.00000029985861907003, normFactor = 0.00001478219545736812, time = 0.0030\n",
      "icorr = 43, Residual = 0.00000041506073027390, normFactor = 0.00001478219372648611, time = 0.0030\n",
      "icorr = 44, Residual = 0.00000019460288389902, normFactor = 0.00001478218430629462, time = 0.0030\n",
      "icorr = 45, Residual = 0.00000026936675931274, normFactor = 0.00001478218318292377, time = 0.0030\n",
      "icorr = 46, Residual = 0.00000012629374491944, normFactor = 0.00001478217706943917, time = 0.0030\n",
      "icorr = 47, Residual = 0.00000017481404236696, normFactor = 0.00001478217634036392, time = 0.0030\n",
      "icorr = 48, Residual = 0.00000008196233023556, normFactor = 0.00001478217237284735, time = 0.0030\n",
      "icorr = 49, Residual = 0.00000011345106958242, normFactor = 0.00001478217189967773, time = 0.0030\n",
      "icorr = 50, Residual = 0.00000005319204353775, normFactor = 0.00001478216932484336, time = 0.0030\n",
      "icorr = 51, Residual = 0.00000007362763554251, normFactor = 0.00001478216901775882, time = 0.0030\n",
      "icorr = 52, Residual = 0.00000003452065281982, normFactor = 0.00001478216734674404, time = 0.0030\n",
      "icorr = 53, Residual = 0.00000004778296462796, normFactor = 0.00001478216714744893, time = 0.0030\n",
      "icorr = 54, Residual = 0.00000002240326314010, normFactor = 0.00001478216606299373, time = 0.0030\n",
      "icorr = 55, Residual = 0.00000003101025392124, normFactor = 0.00001478216593365354, time = 0.0030\n",
      "icorr = 56, Residual = 0.00000001453930133699, normFactor = 0.00001478216522986340, time = 0.0030\n",
      "icorr = 57, Residual = 0.00000002012507658052, normFactor = 0.00001478216514592337, time = 0.0030\n",
      "icorr = 58, Residual = 0.00000000943573610596, normFactor = 0.00001478216468917721, time = 0.0030\n",
      "icorr = 59, Residual = 0.00000001306079902148, normFactor = 0.00001478216463470141, time = 0.0030\n",
      "icorr = 60, Residual = 0.00000000612361699962, normFactor = 0.00001478216433828188, time = 0.0030\n",
      "icorr = 61, Residual = 0.00000000847621482961, normFactor = 0.00001478216430292795, time = 0.0030\n",
      "icorr = 62, Residual = 0.00000000397411334651, normFactor = 0.00001478216411055733, time = 0.0030\n",
      "icorr = 63, Residual = 0.00000000550090532276, normFactor = 0.00001478216408761322, time = 0.0030\n",
      "icorr = 64, Residual = 0.00000000257912562838, normFactor = 0.00001478216396276832, time = 0.0030\n",
      "icorr = 65, Residual = 0.00000000356998474082, normFactor = 0.00001478216394787800, time = 0.0030\n",
      "icorr = 66, Residual = 0.00000000167380422807, normFactor = 0.00001478216386685602, time = 0.0030\n",
      "icorr = 67, Residual = 0.00000000231685412005, normFactor = 0.00001478216385719247, time = 0.0030\n",
      "icorr = 68, Residual = 0.00000000108626776559, normFactor = 0.00001478216380461071, time = 0.0030\n",
      "icorr = 69, Residual = 0.00000000150359430714, normFactor = 0.00001478216379833923, time = 0.0030\n",
      "icorr = 70, Residual = 0.00000000070496747168, normFactor = 0.00001478216376421468, time = 0.0030\n",
      "icorr = 71, Residual = 0.00000000097580530703, normFactor = 0.00001478216376014462, time = 0.0030\n",
      "icorr = 72, Residual = 0.00000000045751072604, normFactor = 0.00001478216373799840, time = 0.0030\n",
      "icorr = 73, Residual = 0.00000000063327911193, normFactor = 0.00001478216373535701, time = 0.0030\n",
      "icorr = 74, Residual = 0.00000000029691626947, normFactor = 0.00001478216372098453, time = 0.0030\n",
      "icorr = 75, Residual = 0.00000000041098643299, normFactor = 0.00001478216371927031, time = 0.0030\n",
      "icorr = 76, Residual = 0.00000000019269284862, normFactor = 0.00001478216370994285, time = 0.0030\n",
      "icorr = 77, Residual = 0.00000000026672243684, normFactor = 0.00001478216370883035, time = 0.0030\n",
      "icorr = 78, Residual = 0.00000000012505398732, normFactor = 0.00001478216370277699, time = 0.0030\n",
      "icorr = 79, Residual = 0.00000000017309817917, normFactor = 0.00001478216370205502, time = 0.0030\n",
      "icorr = 80, Residual = 0.00000000008115802132, normFactor = 0.00001478216369812650, time = 0.0030\n",
      "icorr = 81, Residual = 0.00000000011233793220, normFactor = 0.00001478216369765795, time = 0.0030\n",
      "icorr = 82, Residual = 0.00000000005267005205, normFactor = 0.00001478216369510840, time = 0.0030\n",
      "icorr = 83, Residual = 0.00000000007290519452, normFactor = 0.00001478216369480431, time = 0.0030\n",
      "icorr = 84, Residual = 0.00000000003418185713, normFactor = 0.00001478216369314972, time = 0.0030\n",
      "icorr = 85, Residual = 0.00000000004731410842, normFactor = 0.00001478216369295238, time = 0.0030\n",
      "icorr = 86, Residual = 0.00000000002218314376, normFactor = 0.00001478216369187855, time = 0.0030\n",
      "icorr = 87, Residual = 0.00000000003070616624, normFactor = 0.00001478216369175049, time = 0.0030\n",
      "icorr = 88, Residual = 0.00000000001439679786, normFactor = 0.00001478216369105360, time = 0.0030\n",
      "icorr = 89, Residual = 0.00000000001992822145, normFactor = 0.00001478216369097051, time = 0.0030\n",
      "icorr = 90, Residual = 0.00000000000934330440, normFactor = 0.00001478216369051823, time = 0.0030\n",
      "icorr = 91, Residual = 0.00000000001293306055, normFactor = 0.00001478216369046431, time = 0.0030\n",
      "icorr = 92, Residual = 0.00000000000606364291, normFactor = 0.00001478216369017079, time = 0.0030\n",
      "icorr = 93, Residual = 0.00000000000839358373, normFactor = 0.00001478216369013580, time = 0.0030\n",
      "icorr = 94, Residual = 0.00000000000393494661, normFactor = 0.00001478216368994531, time = 0.0030\n",
      "icorr = 95, Residual = 0.00000000000544754196, normFactor = 0.00001478216368992257, time = 0.0030\n",
      "icorr = 96, Residual = 0.00000000000255358420, normFactor = 0.00001478216368979897, time = 0.0030\n",
      "icorr = 97, Residual = 0.00000000000353502898, normFactor = 0.00001478216368978421, time = 0.0030\n",
      "icorr = 98, Residual = 0.00000000000165716543, normFactor = 0.00001478216368970403, time = 0.0030\n",
      "icorr = 99, Residual = 0.00000000000229450450, normFactor = 0.00001478216368969441, time = 0.0030\n",
      "icorr = 100, Residual = 0.00000000000107549238, normFactor = 0.00001478216368964237, time = 0.0030\n",
      "icorr = 101, Residual = 0.00000000000148909556, normFactor = 0.00001478216368963617, time = 0.0030\n",
      "icorr = 102, Residual = 0.00000000000069833939, normFactor = 0.00001478216368960236, time = 0.0030\n",
      "icorr = 103, Residual = 0.00000000000096736599, normFactor = 0.00001478216368959835, time = 0.0030\n",
      "icorr = 104, Residual = 0.00000000000045299328, normFactor = 0.00001478216368957641, time = 0.0030\n",
      "icorr = 105, Residual = 0.00000000000062747445, normFactor = 0.00001478216368957381, time = 0.0030\n",
      "icorr = 106, Residual = 0.00000000000029399124, normFactor = 0.00001478216368955957, time = 0.0030\n",
      "icorr = 107, Residual = 0.00000000000040749879, normFactor = 0.00001478216368955789, time = 0.0030\n",
      "icorr = 108, Residual = 0.00000000000019081464, normFactor = 0.00001478216368954862, time = 0.0030\n",
      "icorr = 109, Residual = 0.00000000000026433417, normFactor = 0.00001478216368954752, time = 0.0030\n",
      "icorr = 110, Residual = 0.00000000000012399897, normFactor = 0.00001478216368954150, time = 0.0030\n",
      "icorr = 111, Residual = 0.00000000000017168360, normFactor = 0.00001478216368954083, time = 0.0030\n",
      "icorr = 112, Residual = 0.00000000000008033319, normFactor = 0.00001478216368953692, time = 0.0030\n",
      "icorr = 113, Residual = 0.00000000000011119699, normFactor = 0.00001478216368953647, time = 0.0030\n",
      "icorr = 114, Residual = 0.00000000000005207083, normFactor = 0.00001478216368953392, time = 0.0030\n",
      "icorr = 115, Residual = 0.00000000000007214655, normFactor = 0.00001478216368953363, time = 0.0030\n",
      "icorr = 116, Residual = 0.00000000000003351076, normFactor = 0.00001478216368953202, time = 0.0030\n",
      "icorr = 117, Residual = 0.00000000000004693086, normFactor = 0.00001478216368953179, time = 0.0030\n",
      "icorr = 118, Residual = 0.00000000000002207955, normFactor = 0.00001478216368953073, time = 0.0030\n",
      "icorr = 119, Residual = 0.00000000000003097012, normFactor = 0.00001478216368953063, time = 0.0030\n",
      "icorr = 120, Residual = 0.00000000000001434349, normFactor = 0.00001478216368952993, time = 0.0030\n",
      "icorr = 121, Residual = 0.00000000000001943626, normFactor = 0.00001478216368952984, time = 0.0030\n",
      "icorr = 122, Residual = 0.00000000000000913807, normFactor = 0.00001478216368952941, time = 0.0030\n",
      "\n",
      "Time = 0.004\n",
      "icorr = 1, Residual = 0.00034029410516953578, normFactor = 0.00001478281216868127, time = 0.0040\n",
      "icorr = 2, Residual = 0.00007375109950172074, normFactor = 0.00001478521822523488, time = 0.0040\n",
      "icorr = 3, Residual = 0.00013269066544523774, normFactor = 0.00001478561827067378, time = 0.0040\n",
      "icorr = 4, Residual = 0.00004756474948062832, normFactor = 0.00001478757284473540, time = 0.0040\n",
      "icorr = 5, Residual = 0.00007308788728354355, normFactor = 0.00001478784214895021, time = 0.0040\n",
      "icorr = 6, Residual = 0.00003077192223357681, normFactor = 0.00001478921995465418, time = 0.0040\n",
      "icorr = 7, Residual = 0.00004440754803041631, normFactor = 0.00001478940097610221, time = 0.0040\n",
      "icorr = 8, Residual = 0.00001992633426284250, normFactor = 0.00001479032781096564, time = 0.0040\n",
      "icorr = 9, Residual = 0.00002800053344820885, normFactor = 0.00001479044842010051, time = 0.0040\n",
      "icorr = 10, Residual = 0.00001291127569266762, normFactor = 0.00001479105968545608, time = 0.0040\n",
      "icorr = 11, Residual = 0.00001793050669462400, normFactor = 0.00001479113940829306, time = 0.0040\n",
      "icorr = 12, Residual = 0.00000837049481007706, normFactor = 0.00001479153900712794, time = 0.0040\n",
      "icorr = 13, Residual = 0.00001156132965398582, normFactor = 0.00001479159140218806, time = 0.0040\n",
      "icorr = 14, Residual = 0.00000542889688341896, normFactor = 0.00001479185157652256, time = 0.0040\n",
      "icorr = 15, Residual = 0.00000747866426323618, normFactor = 0.00001479188587596431, time = 0.0040\n",
      "icorr = 16, Residual = 0.00000352199101473277, normFactor = 0.00001479205495650352, time = 0.0040\n",
      "icorr = 17, Residual = 0.00000484535302947931, normFactor = 0.00001479207735009953, time = 0.0040\n",
      "icorr = 18, Residual = 0.00000228525572247164, normFactor = 0.00001479218713666935, time = 0.0040\n",
      "icorr = 19, Residual = 0.00000314176085152316, normFactor = 0.00001479220173058905, time = 0.0040\n",
      "icorr = 20, Residual = 0.00000148293259229606, normFactor = 0.00001479227298916296, time = 0.0040\n",
      "icorr = 21, Residual = 0.00000203798152745144, normFactor = 0.00001479228248819891, time = 0.0040\n",
      "icorr = 22, Residual = 0.00000096234363844984, normFactor = 0.00001479232873212038, time = 0.0040\n",
      "icorr = 23, Residual = 0.00000132227562406281, normFactor = 0.00001479233490962703, time = 0.0040\n",
      "icorr = 24, Residual = 0.00000062452651310866, normFactor = 0.00001479236491833048, time = 0.0040\n",
      "icorr = 25, Residual = 0.00000085801382707113, normFactor = 0.00001479236893333464, time = 0.0040\n",
      "icorr = 26, Residual = 0.00000040530114216387, normFactor = 0.00001479238840644289, time = 0.0040\n",
      "icorr = 27, Residual = 0.00000055679307380547, normFactor = 0.00001479239101484965, time = 0.0040\n",
      "icorr = 28, Residual = 0.00000026303160775522, normFactor = 0.00001479240365136114, time = 0.0040\n",
      "icorr = 29, Residual = 0.00000036133342669427, normFactor = 0.00001479240534544463, time = 0.0040\n",
      "icorr = 30, Residual = 0.00000017070238135755, normFactor = 0.00001479241354566911, time = 0.0040\n",
      "icorr = 31, Residual = 0.00000023449333934252, normFactor = 0.00001479241464569254, time = 0.0040\n",
      "icorr = 32, Residual = 0.00000011078268854945, normFactor = 0.00001479241996715666, time = 0.0040\n",
      "icorr = 33, Residual = 0.00000015217989924538, normFactor = 0.00001479242068132916, time = 0.0040\n",
      "icorr = 34, Residual = 0.00000007189595897209, normFactor = 0.00001479242413469517, time = 0.0040\n",
      "icorr = 35, Residual = 0.00000009876123087314, normFactor = 0.00001479242459830971, time = 0.0040\n",
      "icorr = 36, Residual = 0.00000004665918159492, normFactor = 0.00001479242683939862, time = 0.0040\n",
      "icorr = 37, Residual = 0.00000006409394870108, normFactor = 0.00001479242714033661, time = 0.0040\n",
      "icorr = 38, Residual = 0.00000003028096562277, normFactor = 0.00001479242859472203, time = 0.0040\n",
      "icorr = 39, Residual = 0.00000004159568746981, normFactor = 0.00001479242879005365, time = 0.0040\n",
      "icorr = 40, Residual = 0.00000001965179691041, normFactor = 0.00001479242973390364, time = 0.0040\n",
      "icorr = 41, Residual = 0.00000002699479178897, normFactor = 0.00001479242986068357, time = 0.0040\n",
      "icorr = 42, Residual = 0.00000001275365736016, normFactor = 0.00001479243047321551, time = 0.0040\n",
      "icorr = 43, Residual = 0.00000001751910379663, normFactor = 0.00001479243055549959, time = 0.0040\n",
      "icorr = 44, Residual = 0.00000000827688967308, normFactor = 0.00001479243095301705, time = 0.0040\n",
      "icorr = 45, Residual = 0.00000001136956648334, normFactor = 0.00001479243100642082, time = 0.0040\n",
      "icorr = 46, Residual = 0.00000000537154882545, normFactor = 0.00001479243126440015, time = 0.0040\n",
      "icorr = 47, Residual = 0.00000000737863416955, normFactor = 0.00001479243129905957, time = 0.0040\n",
      "icorr = 48, Residual = 0.00000000348603569281, normFactor = 0.00001479243146648238, time = 0.0040\n",
      "icorr = 49, Residual = 0.00000000478859569434, normFactor = 0.00001479243148897634, time = 0.0040\n",
      "icorr = 50, Residual = 0.00000000226237293484, normFactor = 0.00001479243159763017, time = 0.0040\n",
      "icorr = 51, Residual = 0.00000000310770899843, normFactor = 0.00001479243161222867, time = 0.0040\n",
      "icorr = 52, Residual = 0.00000000146823802849, normFactor = 0.00001479243168274272, time = 0.0040\n",
      "icorr = 53, Residual = 0.00000000201684475130, normFactor = 0.00001479243169221700, time = 0.0040\n",
      "icorr = 54, Residual = 0.00000000095285901357, normFactor = 0.00001479243173797921, time = 0.0040\n",
      "icorr = 55, Residual = 0.00000000130889460371, normFactor = 0.00001479243174412792, time = 0.0040\n",
      "icorr = 56, Residual = 0.00000000061838765969, normFactor = 0.00001479243177382669, time = 0.0040\n",
      "icorr = 57, Residual = 0.00000000084944800233, normFactor = 0.00001479243177781712, time = 0.0040\n",
      "icorr = 58, Residual = 0.00000000040132252302, normFactor = 0.00001479243179709107, time = 0.0040\n",
      "icorr = 59, Residual = 0.00000000055127546347, normFactor = 0.00001479243179968082, time = 0.0040\n",
      "icorr = 60, Residual = 0.00000000026045044916, normFactor = 0.00001479243181218918, time = 0.0040\n",
      "icorr = 61, Residual = 0.00000000035776789905, normFactor = 0.00001479243181386990, time = 0.0040\n",
      "icorr = 62, Residual = 0.00000000016902757908, normFactor = 0.00001479243182198760, time = 0.0040\n",
      "icorr = 63, Residual = 0.00000000023218460617, normFactor = 0.00001479243182307836, time = 0.0040\n",
      "icorr = 64, Residual = 0.00000000010969570646, normFactor = 0.00001479243182834660, time = 0.0040\n",
      "icorr = 65, Residual = 0.00000000015068339141, normFactor = 0.00001479243182905448, time = 0.0040\n",
      "icorr = 66, Residual = 0.00000000007119062846, normFactor = 0.00001479243183247346, time = 0.0040\n",
      "icorr = 67, Residual = 0.00000000009779115908, normFactor = 0.00001479243183293285, time = 0.0040\n",
      "icorr = 68, Residual = 0.00000000004620124207, normFactor = 0.00001479243183515173, time = 0.0040\n",
      "icorr = 69, Residual = 0.00000000006346535700, normFactor = 0.00001479243183544983, time = 0.0040\n",
      "icorr = 70, Residual = 0.00000000002998397156, normFactor = 0.00001479243183688985, time = 0.0040\n",
      "icorr = 71, Residual = 0.00000000004118869835, normFactor = 0.00001479243183708332, time = 0.0040\n",
      "icorr = 72, Residual = 0.00000000001945897970, normFactor = 0.00001479243183801786, time = 0.0040\n",
      "icorr = 73, Residual = 0.00000000002673070581, normFactor = 0.00001479243183814342, time = 0.0040\n",
      "icorr = 74, Residual = 0.00000000001262872967, normFactor = 0.00001479243183874994, time = 0.0040\n",
      "icorr = 75, Residual = 0.00000000001734881340, normFactor = 0.00001479243183883141, time = 0.0040\n",
      "icorr = 76, Residual = 0.00000000000819579512, normFactor = 0.00001479243183922503, time = 0.0040\n",
      "icorr = 77, Residual = 0.00000000001125885672, normFactor = 0.00001479243183927791, time = 0.0040\n",
      "icorr = 78, Residual = 0.00000000000531898387, normFactor = 0.00001479243183953337, time = 0.0040\n",
      "icorr = 79, Residual = 0.00000000000730674431, normFactor = 0.00001479243183956768, time = 0.0040\n",
      "icorr = 80, Residual = 0.00000000000345216770, normFactor = 0.00001479243183973346, time = 0.0040\n",
      "icorr = 81, Residual = 0.00000000000474213278, normFactor = 0.00001479243183975574, time = 0.0040\n",
      "icorr = 82, Residual = 0.00000000000223968555, normFactor = 0.00001479243183986330, time = 0.0040\n",
      "icorr = 83, Residual = 0.00000000000307687015, normFactor = 0.00001479243183987777, time = 0.0040\n",
      "icorr = 84, Residual = 0.00000000000145348268, normFactor = 0.00001479243183994757, time = 0.0040\n",
      "icorr = 85, Residual = 0.00000000000199680263, normFactor = 0.00001479243183995698, time = 0.0040\n",
      "icorr = 86, Residual = 0.00000000000094352955, normFactor = 0.00001479243184000230, time = 0.0040\n",
      "icorr = 87, Residual = 0.00000000000129501471, normFactor = 0.00001479243184000839, time = 0.0040\n",
      "icorr = 88, Residual = 0.00000000000061219655, normFactor = 0.00001479243184003779, time = 0.0040\n",
      "icorr = 89, Residual = 0.00000000000084070964, normFactor = 0.00001479243184004174, time = 0.0040\n",
      "icorr = 90, Residual = 0.00000000000039733770, normFactor = 0.00001479243184006082, time = 0.0040\n",
      "icorr = 91, Residual = 0.00000000000054615734, normFactor = 0.00001479243184006340, time = 0.0040\n",
      "icorr = 92, Residual = 0.00000000000025778117, normFactor = 0.00001479243184007576, time = 0.0040\n",
      "icorr = 93, Residual = 0.00000000000035419062, normFactor = 0.00001479243184007746, time = 0.0040\n",
      "icorr = 94, Residual = 0.00000000000016725491, normFactor = 0.00001479243184008547, time = 0.0040\n",
      "icorr = 95, Residual = 0.00000000000022997524, normFactor = 0.00001479243184008655, time = 0.0040\n",
      "icorr = 96, Residual = 0.00000000000010852465, normFactor = 0.00001479243184009177, time = 0.0040\n",
      "icorr = 97, Residual = 0.00000000000014913690, normFactor = 0.00001479243184009249, time = 0.0040\n",
      "icorr = 98, Residual = 0.00000000000007038999, normFactor = 0.00001479243184009585, time = 0.0040\n",
      "icorr = 99, Residual = 0.00000000000009692219, normFactor = 0.00001479243184009632, time = 0.0040\n",
      "icorr = 100, Residual = 0.00000000000004522748, normFactor = 0.00001479243184009848, time = 0.0040\n",
      "icorr = 101, Residual = 0.00000000000006204141, normFactor = 0.00001479243184009882, time = 0.0040\n",
      "icorr = 102, Residual = 0.00000000000002942191, normFactor = 0.00001479243184010022, time = 0.0040\n",
      "icorr = 103, Residual = 0.00000000000004056195, normFactor = 0.00001479243184010042, time = 0.0040\n",
      "icorr = 104, Residual = 0.00000000000001910553, normFactor = 0.00001479243184010135, time = 0.0040\n",
      "icorr = 105, Residual = 0.00000000000002644596, normFactor = 0.00001479243184010147, time = 0.0040\n",
      "icorr = 106, Residual = 0.00000000000001236262, normFactor = 0.00001479243184010205, time = 0.0040\n",
      "icorr = 107, Residual = 0.00000000000001643680, normFactor = 0.00001479243184010214, time = 0.0040\n",
      "icorr = 108, Residual = 0.00000000000000834767, normFactor = 0.00001479243184010253, time = 0.0040\n",
      "\n",
      "Time = 0.005\n",
      "icorr = 1, Residual = 0.00071248610392444752, normFactor = 0.00001479358049788847, time = 0.0050\n",
      "icorr = 2, Residual = 0.00015063291911332561, normFactor = 0.00001479848086523074, time = 0.0050\n",
      "icorr = 3, Residual = 0.00027479668577051790, normFactor = 0.00001479919294082436, time = 0.0050\n",
      "icorr = 4, Residual = 0.00009682777114347672, normFactor = 0.00001480318990041355, time = 0.0050\n",
      "icorr = 5, Residual = 0.00015059983928786827, normFactor = 0.00001480367011900120, time = 0.0050\n",
      "icorr = 6, Residual = 0.00006260724574491075, normFactor = 0.00001480649493009325, time = 0.0050\n",
      "icorr = 7, Residual = 0.00009130740594426538, normFactor = 0.00001480681786469617, time = 0.0050\n",
      "icorr = 8, Residual = 0.00004053593225764702, normFactor = 0.00001480872077041030, time = 0.0050\n",
      "icorr = 9, Residual = 0.00005751831602085944, normFactor = 0.00001480893593173318, time = 0.0050\n",
      "icorr = 10, Residual = 0.00002626391838745555, normFactor = 0.00001481019193015875, time = 0.0050\n",
      "icorr = 11, Residual = 0.00003681647223767026, normFactor = 0.00001481033413531708, time = 0.0050\n",
      "icorr = 12, Residual = 0.00001702660513836863, normFactor = 0.00001481115559370958, time = 0.0050\n",
      "icorr = 13, Residual = 0.00002373363309708984, normFactor = 0.00001481124904084891, time = 0.0050\n",
      "icorr = 14, Residual = 0.00001104279804940992, normFactor = 0.00001481178403569623, time = 0.0050\n",
      "icorr = 15, Residual = 0.00001535086255191415, normFactor = 0.00001481184520217241, time = 0.0050\n",
      "icorr = 16, Residual = 0.00000716389245082063, normFactor = 0.00001481219294448692, time = 0.0050\n",
      "icorr = 17, Residual = 0.00000994509385534350, normFactor = 0.00001481223287557260, time = 0.0050\n",
      "icorr = 18, Residual = 0.00000464826465805401, normFactor = 0.00001481245869682530, time = 0.0050\n",
      "icorr = 19, Residual = 0.00000644826407715827, normFactor = 0.00001481248471814496, time = 0.0050\n",
      "icorr = 20, Residual = 0.00000301629701329848, normFactor = 0.00001481263130244012, time = 0.0050\n",
      "icorr = 21, Residual = 0.00000418275359030862, normFactor = 0.00001481264823858186, time = 0.0050\n",
      "icorr = 22, Residual = 0.00000195740432112770, normFactor = 0.00001481274337104072, time = 0.0050\n",
      "icorr = 23, Residual = 0.00000271381168271676, normFactor = 0.00001481275438469798, time = 0.0050\n",
      "icorr = 24, Residual = 0.00000127028049371297, normFactor = 0.00001481281612059574, time = 0.0050\n",
      "icorr = 25, Residual = 0.00000176096016441763, normFactor = 0.00001481282327860275, time = 0.0050\n",
      "icorr = 26, Residual = 0.00000082437623298122, normFactor = 0.00001481286334103866, time = 0.0050\n",
      "icorr = 27, Residual = 0.00000114274056019022, normFactor = 0.00001481286799124785, time = 0.0050\n",
      "icorr = 28, Residual = 0.00000053500126109796, normFactor = 0.00001481289398909688, time = 0.0050\n",
      "icorr = 29, Residual = 0.00000074158532625896, normFactor = 0.00001481289700922555, time = 0.0050\n",
      "icorr = 30, Residual = 0.00000034720495605484, normFactor = 0.00001481291388026140, time = 0.0050\n",
      "icorr = 31, Residual = 0.00000048126359628712, normFactor = 0.00001481291584130760, time = 0.0050\n",
      "icorr = 32, Residual = 0.00000022532940608333, normFactor = 0.00001481292678972319, time = 0.0050\n",
      "icorr = 33, Residual = 0.00000031232698289528, normFactor = 0.00001481292806289069, time = 0.0050\n",
      "icorr = 34, Residual = 0.00000014623461952812, normFactor = 0.00001481293516791719, time = 0.0050\n",
      "icorr = 35, Residual = 0.00000020269289949894, normFactor = 0.00001481293599440595, time = 0.0050\n",
      "icorr = 36, Residual = 0.00000009490359460428, normFactor = 0.00001481294060529100, time = 0.0050\n",
      "icorr = 37, Residual = 0.00000013154337091607, normFactor = 0.00001481294114177298, time = 0.0050\n",
      "icorr = 38, Residual = 0.00000006159070067681, normFactor = 0.00001481294413408065, time = 0.0050\n",
      "icorr = 39, Residual = 0.00000008536899659456, normFactor = 0.00001481294448229716, time = 0.0050\n",
      "icorr = 40, Residual = 0.00000003997123858309, normFactor = 0.00001481294642421482, time = 0.0050\n",
      "icorr = 41, Residual = 0.00000005540281364041, normFactor = 0.00001481294665022416, time = 0.0050\n",
      "icorr = 42, Residual = 0.00000002594060018096, normFactor = 0.00001481294791047605, time = 0.0050\n",
      "icorr = 43, Residual = 0.00000003595536558852, normFactor = 0.00001481294805716280, time = 0.0050\n",
      "icorr = 44, Residual = 0.00000001683497197548, normFactor = 0.00001481294887503493, time = 0.0050\n",
      "icorr = 45, Residual = 0.00000002333435046110, normFactor = 0.00001481294897023701, time = 0.0050\n",
      "icorr = 46, Residual = 0.00000001092558577299, normFactor = 0.00001481294950101707, time = 0.0050\n",
      "icorr = 47, Residual = 0.00000001514355443174, normFactor = 0.00001481294956280382, time = 0.0050\n",
      "icorr = 48, Residual = 0.00000000709050274732, normFactor = 0.00001481294990726841, time = 0.0050\n",
      "icorr = 49, Residual = 0.00000000982788179869, normFactor = 0.00001481294994736800, time = 0.0050\n",
      "icorr = 50, Residual = 0.00000000460160443839, normFactor = 0.00001481295017091823, time = 0.0050\n",
      "icorr = 51, Residual = 0.00000000637811151706, normFactor = 0.00001481295019694264, time = 0.0050\n",
      "icorr = 52, Residual = 0.00000000298635609688, normFactor = 0.00001481295034202218, time = 0.0050\n",
      "icorr = 53, Residual = 0.00000000413927464591, normFactor = 0.00001481295035891181, time = 0.0050\n",
      "icorr = 54, Residual = 0.00000000193808937116, normFactor = 0.00001481295045306552, time = 0.0050\n",
      "icorr = 55, Residual = 0.00000000268631165308, normFactor = 0.00001481295046402668, time = 0.0050\n",
      "icorr = 56, Residual = 0.00000000125778396066, normFactor = 0.00001481295052513060, time = 0.0050\n",
      "icorr = 57, Residual = 0.00000000174336543299, normFactor = 0.00001481295053224426, time = 0.0050\n",
      "icorr = 58, Residual = 0.00000000081627840043, normFactor = 0.00001481295057189952, time = 0.0050\n",
      "icorr = 59, Residual = 0.00000000113141158101, normFactor = 0.00001481295057651618, time = 0.0050\n",
      "icorr = 60, Residual = 0.00000000052974947782, normFactor = 0.00001481295060225167, time = 0.0050\n",
      "icorr = 61, Residual = 0.00000000073426524723, normFactor = 0.00001481295060524781, time = 0.0050\n",
      "icorr = 62, Residual = 0.00000000034379724204, normFactor = 0.00001481295062194965, time = 0.0050\n",
      "icorr = 63, Residual = 0.00000000047652399062, normFactor = 0.00001481295062389410, time = 0.0050\n",
      "icorr = 64, Residual = 0.00000000022311788984, normFactor = 0.00001481295063473329, time = 0.0050\n",
      "icorr = 65, Residual = 0.00000000030925476497, normFactor = 0.00001481295063599522, time = 0.0050\n",
      "icorr = 66, Residual = 0.00000000014479897874, normFactor = 0.00001481295064302960, time = 0.0050\n",
      "icorr = 67, Residual = 0.00000000020070021937, normFactor = 0.00001481295064384859, time = 0.0050\n",
      "icorr = 68, Residual = 0.00000000009397204834, normFactor = 0.00001481295064841378, time = 0.0050\n",
      "icorr = 69, Residual = 0.00000000013025006195, normFactor = 0.00001481295064894529, time = 0.0050\n",
      "icorr = 70, Residual = 0.00000000006098577242, normFactor = 0.00001481295065190801, time = 0.0050\n",
      "icorr = 71, Residual = 0.00000000008452988978, normFactor = 0.00001481295065225295, time = 0.0050\n",
      "icorr = 72, Residual = 0.00000000003957874659, normFactor = 0.00001481295065417570, time = 0.0050\n",
      "icorr = 73, Residual = 0.00000000005485880378, normFactor = 0.00001481295065439955, time = 0.0050\n",
      "icorr = 74, Residual = 0.00000000002568571168, normFactor = 0.00001481295065564738, time = 0.0050\n",
      "icorr = 75, Residual = 0.00000000003560158622, normFactor = 0.00001481295065579264, time = 0.0050\n",
      "icorr = 76, Residual = 0.00000000001666953435, normFactor = 0.00001481295065660248, time = 0.0050\n",
      "icorr = 77, Residual = 0.00000000002310469789, normFactor = 0.00001481295065669676, time = 0.0050\n",
      "icorr = 78, Residual = 0.00000000001081806335, normFactor = 0.00001481295065722231, time = 0.0050\n",
      "icorr = 79, Residual = 0.00000000001499493036, normFactor = 0.00001481295065728349, time = 0.0050\n",
      "icorr = 80, Residual = 0.00000000000702100650, normFactor = 0.00001481295065762459, time = 0.0050\n",
      "icorr = 81, Residual = 0.00000000000973176601, normFactor = 0.00001481295065766427, time = 0.0050\n",
      "icorr = 82, Residual = 0.00000000000455625420, normFactor = 0.00001481295065788564, time = 0.0050\n",
      "icorr = 83, Residual = 0.00000000000631614966, normFactor = 0.00001481295065791140, time = 0.0050\n",
      "icorr = 84, Residual = 0.00000000000295686967, normFactor = 0.00001481295065805506, time = 0.0050\n",
      "icorr = 85, Residual = 0.00000000000409881832, normFactor = 0.00001481295065807178, time = 0.0050\n",
      "icorr = 86, Residual = 0.00000000000191903718, normFactor = 0.00001481295065816504, time = 0.0050\n",
      "icorr = 87, Residual = 0.00000000000266079573, normFactor = 0.00001481295065817588, time = 0.0050\n",
      "icorr = 88, Residual = 0.00000000000124559421, normFactor = 0.00001481295065823640, time = 0.0050\n",
      "icorr = 89, Residual = 0.00000000000172608627, normFactor = 0.00001481295065824342, time = 0.0050\n",
      "icorr = 90, Residual = 0.00000000000080829083, normFactor = 0.00001481295065828270, time = 0.0050\n",
      "icorr = 91, Residual = 0.00000000000112051501, normFactor = 0.00001481295065828726, time = 0.0050\n",
      "icorr = 92, Residual = 0.00000000000052449992, normFactor = 0.00001481295065831273, time = 0.0050\n",
      "icorr = 93, Residual = 0.00000000000072684117, normFactor = 0.00001481295065831571, time = 0.0050\n",
      "icorr = 94, Residual = 0.00000000000034030387, normFactor = 0.00001481295065833221, time = 0.0050\n",
      "icorr = 95, Residual = 0.00000000000047140233, normFactor = 0.00001481295065833417, time = 0.0050\n",
      "icorr = 96, Residual = 0.00000000000022071146, normFactor = 0.00001481295065834490, time = 0.0050\n",
      "icorr = 97, Residual = 0.00000000000030573125, normFactor = 0.00001481295065834615, time = 0.0050\n",
      "icorr = 98, Residual = 0.00000000000014353082, normFactor = 0.00001481295065835309, time = 0.0050\n",
      "icorr = 99, Residual = 0.00000000000019861386, normFactor = 0.00001481295065835392, time = 0.0050\n",
      "icorr = 100, Residual = 0.00000000000009298133, normFactor = 0.00001481295065835845, time = 0.0050\n",
      "icorr = 101, Residual = 0.00000000000012872675, normFactor = 0.00001481295065835897, time = 0.0050\n",
      "icorr = 102, Residual = 0.00000000000006033981, normFactor = 0.00001481295065836190, time = 0.0050\n",
      "icorr = 103, Residual = 0.00000000000008395025, normFactor = 0.00001481295065836224, time = 0.0050\n",
      "icorr = 104, Residual = 0.00000000000003927432, normFactor = 0.00001481295065836418, time = 0.0050\n",
      "icorr = 105, Residual = 0.00000000000005363287, normFactor = 0.00001481295065836435, time = 0.0050\n",
      "icorr = 106, Residual = 0.00000000000002561538, normFactor = 0.00001481295065836560, time = 0.0050\n",
      "icorr = 107, Residual = 0.00000000000003620642, normFactor = 0.00001481295065836573, time = 0.0050\n",
      "icorr = 108, Residual = 0.00000000000001651358, normFactor = 0.00001481295065836655, time = 0.0050\n",
      "icorr = 109, Residual = 0.00000000000002337237, normFactor = 0.00001481295065836662, time = 0.0050\n",
      "icorr = 110, Residual = 0.00000000000001056389, normFactor = 0.00001481295065836716, time = 0.0050\n",
      "icorr = 111, Residual = 0.00000000000001525129, normFactor = 0.00001481295065836721, time = 0.0050\n",
      "icorr = 112, Residual = 0.00000000000000708418, normFactor = 0.00001481295065836756, time = 0.0050\n",
      "\n",
      "Time = 0.006\n",
      "icorr = 1, Residual = 0.00008639495555799071, normFactor = 0.00001481308790201260, time = 0.0060\n",
      "icorr = 2, Residual = 0.00001823575513098411, normFactor = 0.00001481368167177371, time = 0.0060\n",
      "icorr = 3, Residual = 0.00003330600682882123, normFactor = 0.00001481376678662760, time = 0.0060\n",
      "icorr = 4, Residual = 0.00001172249718561070, normFactor = 0.00001481425123219036, time = 0.0060\n",
      "icorr = 5, Residual = 0.00001825129495583310, normFactor = 0.00001481430864225937, time = 0.0060\n",
      "icorr = 6, Residual = 0.00000758082434569398, normFactor = 0.00001481465108267653, time = 0.0060\n",
      "icorr = 7, Residual = 0.00001106601171431457, normFactor = 0.00001481468969114291, time = 0.0060\n",
      "icorr = 8, Residual = 0.00000490894930820684, normFactor = 0.00001481492039597084, time = 0.0060\n",
      "icorr = 9, Residual = 0.00000697136894064611, normFactor = 0.00001481494611969329, time = 0.0060\n",
      "icorr = 10, Residual = 0.00000318087341598261, normFactor = 0.00001481509840325490, time = 0.0060\n",
      "icorr = 11, Residual = 0.00000446249434947033, normFactor = 0.00001481511540454122, time = 0.0060\n",
      "icorr = 12, Residual = 0.00000206224462954946, normFactor = 0.00001481521500557262, time = 0.0060\n",
      "icorr = 13, Residual = 0.00000287685179176430, normFactor = 0.00001481522617751096, time = 0.0060\n",
      "icorr = 14, Residual = 0.00000133754263521141, normFactor = 0.00001481529104642355, time = 0.0060\n",
      "icorr = 15, Residual = 0.00000186079520003468, normFactor = 0.00001481529835903559, time = 0.0060\n",
      "icorr = 16, Residual = 0.00000086773709094733, normFactor = 0.00001481534052384232, time = 0.0060\n",
      "icorr = 17, Residual = 0.00000120554450815067, normFactor = 0.00001481534529767780, time = 0.0060\n",
      "icorr = 18, Residual = 0.00000056303682584197, normFactor = 0.00001481537267941652, time = 0.0060\n",
      "icorr = 19, Residual = 0.00000078166909035173, normFactor = 0.00001481537579029868, time = 0.0060\n",
      "icorr = 20, Residual = 0.00000036536293099397, normFactor = 0.00001481539356433619, time = 0.0060\n",
      "icorr = 21, Residual = 0.00000050704469052922, normFactor = 0.00001481539558906641, time = 0.0060\n",
      "icorr = 22, Residual = 0.00000023710121517267, normFactor = 0.00001481540712437021, time = 0.0060\n",
      "icorr = 23, Residual = 0.00000032897750528823, normFactor = 0.00001481540844105886, time = 0.0060\n",
      "icorr = 24, Residual = 0.00000015387026904049, normFactor = 0.00001481541592687640, time = 0.0060\n",
      "icorr = 25, Residual = 0.00000021347041637537, normFactor = 0.00001481541678261832, time = 0.0060\n",
      "icorr = 26, Residual = 0.00000009985774169283, normFactor = 0.00001481542164041831, time = 0.0060\n",
      "icorr = 27, Residual = 0.00000013852778989881, normFactor = 0.00001481542219635144, time = 0.0060\n",
      "icorr = 28, Residual = 0.00000006480549838918, normFactor = 0.00001481542534874382, time = 0.0060\n",
      "icorr = 29, Residual = 0.00000008989822385726, normFactor = 0.00001481542570980022, time = 0.0060\n",
      "icorr = 30, Residual = 0.00000004205750080700, normFactor = 0.00001481542775551464, time = 0.0060\n",
      "icorr = 31, Residual = 0.00000005834094600899, normFactor = 0.00001481542798995754, time = 0.0060\n",
      "icorr = 32, Residual = 0.00000002729453763539, normFactor = 0.00001481542931751955, time = 0.0060\n",
      "icorr = 33, Residual = 0.00000003786171402857, normFactor = 0.00001481542946972654, time = 0.0060\n",
      "icorr = 34, Residual = 0.00000001771365836937, normFactor = 0.00001481543033125464, time = 0.0060\n",
      "icorr = 35, Residual = 0.00000002457137700192, normFactor = 0.00001481543043006124, time = 0.0060\n",
      "icorr = 36, Residual = 0.00000001149584395455, normFactor = 0.00001481543098915953, time = 0.0060\n",
      "icorr = 37, Residual = 0.00000001594630472223, normFactor = 0.00001481543105329587, time = 0.0060\n",
      "icorr = 38, Residual = 0.00000000746059441250, normFactor = 0.00001481543141613176, time = 0.0060\n",
      "icorr = 39, Residual = 0.00000001034883292803, normFactor = 0.00001481543145776094, time = 0.0060\n",
      "icorr = 40, Residual = 0.00000000484178980965, normFactor = 0.00001481543169323056, time = 0.0060\n",
      "icorr = 41, Residual = 0.00000000671619137090, normFactor = 0.00001481543172024994, time = 0.0060\n",
      "icorr = 42, Residual = 0.00000000314223313343, normFactor = 0.00001481543187306334, time = 0.0060\n",
      "icorr = 43, Residual = 0.00000000435867979136, normFactor = 0.00001481543189059972, time = 0.0060\n",
      "icorr = 44, Residual = 0.00000000203925140865, normFactor = 0.00001481543198977182, time = 0.0060\n",
      "icorr = 45, Residual = 0.00000000282870090828, normFactor = 0.00001481543200115322, time = 0.0060\n",
      "icorr = 46, Residual = 0.00000000132343653997, normFactor = 0.00001481543206551359, time = 0.0060\n",
      "icorr = 47, Residual = 0.00000000183577347064, normFactor = 0.00001481543207290022, time = 0.0060\n",
      "icorr = 48, Residual = 0.00000000085888604940, normFactor = 0.00001481543211466869, time = 0.0060\n",
      "icorr = 49, Residual = 0.00000000119138325255, normFactor = 0.00001481543211946259, time = 0.0060\n",
      "icorr = 50, Residual = 0.00000000055740089443, normFactor = 0.00001481543214656945, time = 0.0060\n",
      "icorr = 51, Residual = 0.00000000077318529570, normFactor = 0.00001481543214968067, time = 0.0060\n",
      "icorr = 52, Residual = 0.00000000036174299607, normFactor = 0.00001481543216727247, time = 0.0060\n",
      "icorr = 53, Residual = 0.00000000050178213760, normFactor = 0.00001481543216929160, time = 0.0060\n",
      "icorr = 54, Residual = 0.00000000023476431246, normFactor = 0.00001481543218070835, time = 0.0060\n",
      "icorr = 55, Residual = 0.00000000032564810976, normFactor = 0.00001481543218201874, time = 0.0060\n",
      "icorr = 56, Residual = 0.00000000015235773122, normFactor = 0.00001481543218942796, time = 0.0060\n",
      "icorr = 57, Residual = 0.00000000021133956991, normFactor = 0.00001481543219027842, time = 0.0060\n",
      "icorr = 58, Residual = 0.00000000009887733042, normFactor = 0.00001481543219508688, time = 0.0060\n",
      "icorr = 59, Residual = 0.00000000013715493354, normFactor = 0.00001481543219563878, time = 0.0060\n",
      "icorr = 60, Residual = 0.00000000006416968439, normFactor = 0.00001481543219875937, time = 0.0060\n",
      "icorr = 61, Residual = 0.00000000008901146326, normFactor = 0.00001481543219911756, time = 0.0060\n",
      "icorr = 62, Residual = 0.00000000004164513182, normFactor = 0.00001481543220114278, time = 0.0060\n",
      "icorr = 63, Residual = 0.00000000005776653214, normFactor = 0.00001481543220137523, time = 0.0060\n",
      "icorr = 64, Residual = 0.00000000002702679071, normFactor = 0.00001481543220268954, time = 0.0060\n",
      "icorr = 65, Residual = 0.00000000003749048915, normFactor = 0.00001481543220284042, time = 0.0060\n",
      "icorr = 66, Residual = 0.00000000001754004233, normFactor = 0.00001481543220369337, time = 0.0060\n",
      "icorr = 67, Residual = 0.00000000002433070910, normFactor = 0.00001481543220379129, time = 0.0060\n",
      "icorr = 68, Residual = 0.00000000001138309742, normFactor = 0.00001481543220434486, time = 0.0060\n",
      "icorr = 69, Residual = 0.00000000001578993988, normFactor = 0.00001481543220440837, time = 0.0060\n",
      "icorr = 70, Residual = 0.00000000000738773182, normFactor = 0.00001481543220476764, time = 0.0060\n",
      "icorr = 71, Residual = 0.00000000001024740410, normFactor = 0.00001481543220480887, time = 0.0060\n",
      "icorr = 72, Residual = 0.00000000000479436219, normFactor = 0.00001481543220504200, time = 0.0060\n",
      "icorr = 73, Residual = 0.00000000000665086483, normFactor = 0.00001481543220506878, time = 0.0060\n",
      "icorr = 74, Residual = 0.00000000000311125254, normFactor = 0.00001481543220522009, time = 0.0060\n",
      "icorr = 75, Residual = 0.00000000000431581690, normFactor = 0.00001481543220523745, time = 0.0060\n",
      "icorr = 76, Residual = 0.00000000000201910543, normFactor = 0.00001481543220533565, time = 0.0060\n",
      "icorr = 77, Residual = 0.00000000000280066503, normFactor = 0.00001481543220534694, time = 0.0060\n",
      "icorr = 78, Residual = 0.00000000000131047309, normFactor = 0.00001481543220541065, time = 0.0060\n",
      "icorr = 79, Residual = 0.00000000000181755016, normFactor = 0.00001481543220541796, time = 0.0060\n",
      "icorr = 80, Residual = 0.00000000000085020637, normFactor = 0.00001481543220545930, time = 0.0060\n",
      "icorr = 81, Residual = 0.00000000000117914892, normFactor = 0.00001481543220546407, time = 0.0060\n",
      "icorr = 82, Residual = 0.00000000000055165390, normFactor = 0.00001481543220549090, time = 0.0060\n",
      "icorr = 83, Residual = 0.00000000000076482117, normFactor = 0.00001481543220549400, time = 0.0060\n",
      "icorr = 84, Residual = 0.00000000000035848255, normFactor = 0.00001481543220551143, time = 0.0060\n",
      "icorr = 85, Residual = 0.00000000000049641749, normFactor = 0.00001481543220551344, time = 0.0060\n",
      "icorr = 86, Residual = 0.00000000000023233772, normFactor = 0.00001481543220552473, time = 0.0060\n",
      "icorr = 87, Residual = 0.00000000000032259717, normFactor = 0.00001481543220552603, time = 0.0060\n",
      "icorr = 88, Residual = 0.00000000000015080193, normFactor = 0.00001481543220553336, time = 0.0060\n",
      "icorr = 89, Residual = 0.00000000000020894867, normFactor = 0.00001481543220553421, time = 0.0060\n",
      "icorr = 90, Residual = 0.00000000000009784370, normFactor = 0.00001481543220553895, time = 0.0060\n",
      "icorr = 91, Residual = 0.00000000000013565930, normFactor = 0.00001481543220553952, time = 0.0060\n",
      "icorr = 92, Residual = 0.00000000000006349472, normFactor = 0.00001481543220554258, time = 0.0060\n",
      "icorr = 93, Residual = 0.00000000000008817100, normFactor = 0.00001481543220554298, time = 0.0060\n",
      "icorr = 94, Residual = 0.00000000000004111036, normFactor = 0.00001481543220554495, time = 0.0060\n",
      "icorr = 95, Residual = 0.00000000000005711462, normFactor = 0.00001481543220554522, time = 0.0060\n",
      "icorr = 96, Residual = 0.00000000000002678874, normFactor = 0.00001481543220554650, time = 0.0060\n",
      "icorr = 97, Residual = 0.00000000000003741230, normFactor = 0.00001481543220554665, time = 0.0060\n",
      "icorr = 98, Residual = 0.00000000000001719501, normFactor = 0.00001481543220554748, time = 0.0060\n",
      "icorr = 99, Residual = 0.00000000000002374977, normFactor = 0.00001481543220554757, time = 0.0060\n",
      "icorr = 100, Residual = 0.00000000000001132500, normFactor = 0.00001481543220554813, time = 0.0060\n",
      "icorr = 101, Residual = 0.00000000000001547658, normFactor = 0.00001481543220554819, time = 0.0060\n",
      "icorr = 102, Residual = 0.00000000000000683335, normFactor = 0.00001481543220554855, time = 0.0060\n",
      "\n",
      "Time = 0.007\n",
      "icorr = 1, Residual = 0.00004317674933946601, normFactor = 0.00001481536289797048, time = 0.0070\n",
      "icorr = 2, Residual = 0.00000912517074237717, normFactor = 0.00001481506572244226, time = 0.0070\n",
      "icorr = 3, Residual = 0.00001665455420659225, normFactor = 0.00001481502275093710, time = 0.0070\n",
      "icorr = 4, Residual = 0.00000586717622156792, normFactor = 0.00001481478033550225, time = 0.0070\n",
      "icorr = 5, Residual = 0.00000912909396627073, normFactor = 0.00001481475135414775, time = 0.0070\n",
      "icorr = 6, Residual = 0.00000379447435378723, normFactor = 0.00001481458001784199, time = 0.0070\n",
      "icorr = 7, Residual = 0.00000553583584260019, normFactor = 0.00001481456052832457, time = 0.0070\n",
      "icorr = 8, Residual = 0.00000245717507074202, normFactor = 0.00001481444510506697, time = 0.0070\n",
      "icorr = 9, Residual = 0.00000348769943409636, normFactor = 0.00001481443211978827, time = 0.0070\n",
      "icorr = 10, Residual = 0.00000159221388180592, normFactor = 0.00001481435593396807, time = 0.0070\n",
      "icorr = 11, Residual = 0.00000223261577755613, normFactor = 0.00001481434735171636, time = 0.0070\n",
      "icorr = 12, Residual = 0.00000103228606406254, normFactor = 0.00001481429752343789, time = 0.0070\n",
      "icorr = 13, Residual = 0.00000143933657414351, normFactor = 0.00001481429188380968, time = 0.0070\n",
      "icorr = 14, Residual = 0.00000066953107576711, normFactor = 0.00001481425943168591, time = 0.0070\n",
      "icorr = 15, Residual = 0.00000093099729815510, normFactor = 0.00001481425574023868, time = 0.0070\n",
      "icorr = 16, Residual = 0.00000043436357906285, normFactor = 0.00001481423464652223, time = 0.0070\n",
      "icorr = 17, Residual = 0.00000060316489595247, normFactor = 0.00001481423223665389, time = 0.0070\n",
      "icorr = 18, Residual = 0.00000028184053620560, normFactor = 0.00001481421853851041, time = 0.0070\n",
      "icorr = 19, Residual = 0.00000039109075549749, normFactor = 0.00001481421696810874, time = 0.0070\n",
      "icorr = 20, Residual = 0.00000018289088898181, normFactor = 0.00001481420807639982, time = 0.0070\n",
      "icorr = 21, Residual = 0.00000025368918934246, normFactor = 0.00001481420705429521, time = 0.0070\n",
      "icorr = 22, Residual = 0.00000011868668033762, normFactor = 0.00001481420128361343, time = 0.0070\n",
      "icorr = 23, Residual = 0.00000016459726588692, normFactor = 0.00001481420061893435, time = 0.0070\n",
      "icorr = 24, Residual = 0.00000007702351255383, normFactor = 0.00001481419687406566, time = 0.0070\n",
      "icorr = 25, Residual = 0.00000010680572824840, normFactor = 0.00001481419644207710, time = 0.0070\n",
      "icorr = 26, Residual = 0.00000004998625644808, normFactor = 0.00001481419401190806, time = 0.0070\n",
      "icorr = 27, Residual = 0.00000006930970098594, normFactor = 0.00001481419373126625, time = 0.0070\n",
      "icorr = 28, Residual = 0.00000003244000417781, normFactor = 0.00001481419215424789, time = 0.0070\n",
      "icorr = 29, Residual = 0.00000004497885566630, normFactor = 0.00001481419197198207, time = 0.0070\n",
      "icorr = 30, Residual = 0.00000002105293379128, normFactor = 0.00001481419094859194, time = 0.0070\n",
      "icorr = 31, Residual = 0.00000002918978204222, normFactor = 0.00001481419083024214, time = 0.0070\n",
      "icorr = 32, Residual = 0.00000001366296558555, normFactor = 0.00001481419016611558, time = 0.0070\n",
      "icorr = 33, Residual = 0.00000001894339059506, normFactor = 0.00001481419008927950, time = 0.0070\n",
      "icorr = 34, Residual = 0.00000000886701728781, normFactor = 0.00001481418965829134, time = 0.0070\n",
      "icorr = 35, Residual = 0.00000001229382387621, normFactor = 0.00001481418960841246, time = 0.0070\n",
      "icorr = 36, Residual = 0.00000000575453446432, normFactor = 0.00001481418932871793, time = 0.0070\n",
      "icorr = 37, Residual = 0.00000000797843294834, normFactor = 0.00001481418929634106, time = 0.0070\n",
      "icorr = 38, Residual = 0.00000000373458884595, normFactor = 0.00001481418911482878, time = 0.0070\n",
      "icorr = 39, Residual = 0.00000000517784340573, normFactor = 0.00001481418909381379, time = 0.0070\n",
      "icorr = 40, Residual = 0.00000000242368033847, normFactor = 0.00001481418897601780, time = 0.0070\n",
      "icorr = 41, Residual = 0.00000000336032029200, normFactor = 0.00001481418896237805, time = 0.0070\n",
      "icorr = 42, Residual = 0.00000000157292419932, normFactor = 0.00001481418888593166, time = 0.0070\n",
      "icorr = 43, Residual = 0.00000000218078281291, normFactor = 0.00001481418887707906, time = 0.0070\n",
      "icorr = 44, Residual = 0.00000000102079875867, normFactor = 0.00001481418882746725, time = 0.0070\n",
      "icorr = 45, Residual = 0.00000000141528668017, normFactor = 0.00001481418882172175, time = 0.0070\n",
      "icorr = 46, Residual = 0.00000000066247958227, normFactor = 0.00001481418878952483, time = 0.0070\n",
      "icorr = 47, Residual = 0.00000000091849473014, normFactor = 0.00001481418878579599, time = 0.0070\n",
      "icorr = 48, Residual = 0.00000000042993712437, normFactor = 0.00001481418876490089, time = 0.0070\n",
      "icorr = 49, Residual = 0.00000000059608629406, normFactor = 0.00001481418876248088, time = 0.0070\n",
      "icorr = 50, Residual = 0.00000000027902143779, normFactor = 0.00001481418874892039, time = 0.0070\n",
      "icorr = 51, Residual = 0.00000000038684784583, normFactor = 0.00001481418874734980, time = 0.0070\n",
      "icorr = 52, Residual = 0.00000000018107940999, normFactor = 0.00001481418873854934, time = 0.0070\n",
      "icorr = 53, Residual = 0.00000000025105679441, normFactor = 0.00001481418873753005, time = 0.0070\n",
      "icorr = 54, Residual = 0.00000000011751742729, normFactor = 0.00001481418873181874, time = 0.0070\n",
      "icorr = 55, Residual = 0.00000000016293117353, normFactor = 0.00001481418873115721, time = 0.0070\n",
      "icorr = 56, Residual = 0.00000000007626645750, normFactor = 0.00001481418872745065, time = 0.0070\n",
      "icorr = 57, Residual = 0.00000000010573882287, normFactor = 0.00001481418872702135, time = 0.0070\n",
      "icorr = 58, Residual = 0.00000000004949554195, normFactor = 0.00001481418872461587, time = 0.0070\n",
      "icorr = 59, Residual = 0.00000000006862200103, normFactor = 0.00001481418872433727, time = 0.0070\n",
      "icorr = 60, Residual = 0.00000000003212167159, normFactor = 0.00001481418872277615, time = 0.0070\n",
      "icorr = 61, Residual = 0.00000000004453541554, normFactor = 0.00001481418872259532, time = 0.0070\n",
      "icorr = 62, Residual = 0.00000000002084618558, normFactor = 0.00001481418872158218, time = 0.0070\n",
      "icorr = 63, Residual = 0.00000000002890175870, normFactor = 0.00001481418872146485, time = 0.0070\n",
      "icorr = 64, Residual = 0.00000000001352888018, normFactor = 0.00001481418872080735, time = 0.0070\n",
      "icorr = 65, Residual = 0.00000000001875727529, normFactor = 0.00001481418872073122, time = 0.0070\n",
      "icorr = 66, Residual = 0.00000000000878013335, normFactor = 0.00001481418872030450, time = 0.0070\n",
      "icorr = 67, Residual = 0.00000000001217334031, normFactor = 0.00001481418872025507, time = 0.0070\n",
      "icorr = 68, Residual = 0.00000000000569790799, normFactor = 0.00001481418871997816, time = 0.0070\n",
      "icorr = 69, Residual = 0.00000000000790066670, normFactor = 0.00001481418871994608, time = 0.0070\n",
      "icorr = 70, Residual = 0.00000000000369800347, normFactor = 0.00001481418871976635, time = 0.0070\n",
      "icorr = 71, Residual = 0.00000000000512644398, normFactor = 0.00001481418871974553, time = 0.0070\n",
      "icorr = 72, Residual = 0.00000000000239989623, normFactor = 0.00001481418871962891, time = 0.0070\n",
      "icorr = 73, Residual = 0.00000000000332633009, normFactor = 0.00001481418871961540, time = 0.0070\n",
      "icorr = 74, Residual = 0.00000000000155749671, normFactor = 0.00001481418871953970, time = 0.0070\n",
      "icorr = 75, Residual = 0.00000000000215964721, normFactor = 0.00001481418871953094, time = 0.0070\n",
      "icorr = 76, Residual = 0.00000000000101081372, normFactor = 0.00001481418871948181, time = 0.0070\n",
      "icorr = 77, Residual = 0.00000000000140082229, normFactor = 0.00001481418871947613, time = 0.0070\n",
      "icorr = 78, Residual = 0.00000000000065604802, normFactor = 0.00001481418871944426, time = 0.0070\n",
      "icorr = 79, Residual = 0.00000000000090974276, normFactor = 0.00001481418871944056, time = 0.0070\n",
      "icorr = 80, Residual = 0.00000000000042585752, normFactor = 0.00001481418871941986, time = 0.0070\n",
      "icorr = 81, Residual = 0.00000000000059119634, normFactor = 0.00001481418871941747, time = 0.0070\n",
      "icorr = 82, Residual = 0.00000000000027662775, normFactor = 0.00001481418871940403, time = 0.0070\n",
      "icorr = 83, Residual = 0.00000000000038340759, normFactor = 0.00001481418871940248, time = 0.0070\n",
      "icorr = 84, Residual = 0.00000000000017915227, normFactor = 0.00001481418871939377, time = 0.0070\n",
      "icorr = 85, Residual = 0.00000000000024832604, normFactor = 0.00001481418871939275, time = 0.0070\n",
      "icorr = 86, Residual = 0.00000000000011629027, normFactor = 0.00001481418871938709, time = 0.0070\n",
      "icorr = 87, Residual = 0.00000000000016054373, normFactor = 0.00001481418871938641, time = 0.0070\n",
      "icorr = 88, Residual = 0.00000000000007531007, normFactor = 0.00001481418871938277, time = 0.0070\n",
      "icorr = 89, Residual = 0.00000000000010407818, normFactor = 0.00001481418871938233, time = 0.0070\n",
      "icorr = 90, Residual = 0.00000000000004872388, normFactor = 0.00001481418871937997, time = 0.0070\n",
      "icorr = 91, Residual = 0.00000000000006797052, normFactor = 0.00001481418871937968, time = 0.0070\n",
      "icorr = 92, Residual = 0.00000000000003175837, normFactor = 0.00001481418871937815, time = 0.0070\n",
      "icorr = 93, Residual = 0.00000000000004454472, normFactor = 0.00001481418871937796, time = 0.0070\n",
      "icorr = 94, Residual = 0.00000000000002065858, normFactor = 0.00001481418871937696, time = 0.0070\n",
      "icorr = 95, Residual = 0.00000000000002838940, normFactor = 0.00001481418871937687, time = 0.0070\n",
      "icorr = 96, Residual = 0.00000000000001309132, normFactor = 0.00001481418871937619, time = 0.0070\n",
      "icorr = 97, Residual = 0.00000000000001839551, normFactor = 0.00001481418871937612, time = 0.0070\n",
      "icorr = 98, Residual = 0.00000000000000854006, normFactor = 0.00001481418871937570, time = 0.0070\n",
      "\n",
      "Time = 0.008\n",
      "icorr = 1, Residual = 0.00001382867409591717, normFactor = 0.00001481416657830943, time = 0.0080\n",
      "icorr = 2, Residual = 0.00000292173564514175, normFactor = 0.00001481407143475137, time = 0.0080\n",
      "icorr = 3, Residual = 0.00000533342960188661, normFactor = 0.00001481405770621140, time = 0.0080\n",
      "icorr = 4, Residual = 0.00000187848580476508, normFactor = 0.00001481398009137143, time = 0.0080\n",
      "icorr = 5, Residual = 0.00000292329717720993, normFactor = 0.00001481397083218403, time = 0.0080\n",
      "icorr = 6, Residual = 0.00000121485513795894, normFactor = 0.00001481391597348930, time = 0.0080\n",
      "icorr = 7, Residual = 0.00000177261827870006, normFactor = 0.00001481390974678602, time = 0.0080\n",
      "icorr = 8, Residual = 0.00000078669468994177, normFactor = 0.00001481387278987202, time = 0.0080\n",
      "icorr = 9, Residual = 0.00000111677189446613, normFactor = 0.00001481386864120412, time = 0.0080\n",
      "icorr = 10, Residual = 0.00000050976482559437, normFactor = 0.00001481384424737131, time = 0.0080\n",
      "icorr = 11, Residual = 0.00000071488456739307, normFactor = 0.00001481384150542954, time = 0.0080\n",
      "icorr = 12, Residual = 0.00000033049693866666, normFactor = 0.00001481382555090609, time = 0.0080\n",
      "icorr = 13, Residual = 0.00000046087414413606, normFactor = 0.00001481382374910466, time = 0.0080\n",
      "icorr = 14, Residual = 0.00000021435686489919, normFactor = 0.00001481381335822459, time = 0.0080\n",
      "icorr = 15, Residual = 0.00000029810363544730, normFactor = 0.00001481381217884759, time = 0.0080\n",
      "icorr = 16, Residual = 0.00000013906555779048, normFactor = 0.00001481380542481569, time = 0.0080\n",
      "icorr = 17, Residual = 0.00000019313199881933, normFactor = 0.00001481380465488981, time = 0.0080\n",
      "icorr = 18, Residual = 0.00000009023381498506, normFactor = 0.00001481380026885335, time = 0.0080\n",
      "icorr = 19, Residual = 0.00000012522623315354, normFactor = 0.00001481379976712798, time = 0.0080\n",
      "icorr = 20, Residual = 0.00000005855415558450, normFactor = 0.00001481379692007132, time = 0.0080\n",
      "icorr = 21, Residual = 0.00000008123056531083, normFactor = 0.00001481379659352075, time = 0.0080\n",
      "icorr = 22, Residual = 0.00000003799859135881, normFactor = 0.00001481379474579189, time = 0.0080\n",
      "icorr = 23, Residual = 0.00000005270356287714, normFactor = 0.00001481379453343473, time = 0.0080\n",
      "icorr = 24, Residual = 0.00000002465975416014, normFactor = 0.00001481379333435549, time = 0.0080\n",
      "icorr = 25, Residual = 0.00000003419887370729, normFactor = 0.00001481379319634024, time = 0.0080\n",
      "icorr = 26, Residual = 0.00000001600353693239, normFactor = 0.00001481379241821792, time = 0.0080\n",
      "icorr = 27, Residual = 0.00000002219275556705, normFactor = 0.00001481379232855615, time = 0.0080\n",
      "icorr = 28, Residual = 0.00000001038595007429, normFactor = 0.00001481379182360634, time = 0.0080\n",
      "icorr = 29, Residual = 0.00000001440209175867, normFactor = 0.00001481379176537459, time = 0.0080\n",
      "icorr = 30, Residual = 0.00000000674027975021, normFactor = 0.00001481379143769244, time = 0.0080\n",
      "icorr = 31, Residual = 0.00000000934647871699, normFactor = 0.00001481379139988110, time = 0.0080\n",
      "icorr = 32, Residual = 0.00000000437431704403, normFactor = 0.00001481379118723256, time = 0.0080\n",
      "icorr = 33, Residual = 0.00000000606561515359, normFactor = 0.00001481379116268435, time = 0.0080\n",
      "icorr = 34, Residual = 0.00000000283885269747, normFactor = 0.00001481379102468501, time = 0.0080\n",
      "icorr = 35, Residual = 0.00000000393644457507, normFactor = 0.00001481379100874933, time = 0.0080\n",
      "icorr = 36, Residual = 0.00000000184236406400, normFactor = 0.00001481379091919309, time = 0.0080\n",
      "icorr = 37, Residual = 0.00000000255466947967, normFactor = 0.00001481379090884909, time = 0.0080\n",
      "icorr = 38, Residual = 0.00000000119566071443, normFactor = 0.00001481379085073017, time = 0.0080\n",
      "icorr = 39, Residual = 0.00000000165792974906, normFactor = 0.00001481379084401614, time = 0.0080\n",
      "icorr = 40, Residual = 0.00000000077596204409, normFactor = 0.00001481379080629871, time = 0.0080\n",
      "icorr = 41, Residual = 0.00000000107596380827, normFactor = 0.00001481379080194098, time = 0.0080\n",
      "icorr = 42, Residual = 0.00000000050358541052, normFactor = 0.00001481379077746338, time = 0.0080\n",
      "icorr = 43, Residual = 0.00000000069828018840, normFactor = 0.00001481379077463507, time = 0.0080\n",
      "icorr = 44, Residual = 0.00000000032681758685, normFactor = 0.00001481379075874973, time = 0.0080\n",
      "icorr = 45, Residual = 0.00000000045317054286, normFactor = 0.00001481379075691411, time = 0.0080\n",
      "icorr = 46, Residual = 0.00000000021209869056, normFactor = 0.00001481379074660490, time = 0.0080\n",
      "icorr = 47, Residual = 0.00000000029409912107, normFactor = 0.00001481379074541356, time = 0.0080\n",
      "icorr = 48, Residual = 0.00000000013764798805, normFactor = 0.00001481379073872311, time = 0.0080\n",
      "icorr = 49, Residual = 0.00000000019086458952, normFactor = 0.00001481379073794993, time = 0.0080\n",
      "icorr = 50, Residual = 0.00000000008933123536, normFactor = 0.00001481379073360797, time = 0.0080\n",
      "icorr = 51, Residual = 0.00000000012386715301, normFactor = 0.00001481379073310618, time = 0.0080\n",
      "icorr = 52, Residual = 0.00000000005797418023, normFactor = 0.00001481379073028834, time = 0.0080\n",
      "icorr = 53, Residual = 0.00000000008038836783, normFactor = 0.00001481379072996266, time = 0.0080\n",
      "icorr = 54, Residual = 0.00000000003762389804, normFactor = 0.00001481379072813396, time = 0.0080\n",
      "icorr = 55, Residual = 0.00000000005216997520, normFactor = 0.00001481379072792260, time = 0.0080\n",
      "icorr = 56, Residual = 0.00000000002441714299, normFactor = 0.00001481379072673580, time = 0.0080\n",
      "icorr = 57, Residual = 0.00000000003385664029, normFactor = 0.00001481379072659864, time = 0.0080\n",
      "icorr = 58, Residual = 0.00000000001584613727, normFactor = 0.00001481379072582843, time = 0.0080\n",
      "icorr = 59, Residual = 0.00000000002197268286, normFactor = 0.00001481379072573938, time = 0.0080\n",
      "icorr = 60, Residual = 0.00000000001028390267, normFactor = 0.00001481379072523956, time = 0.0080\n",
      "icorr = 61, Residual = 0.00000000001425894753, normFactor = 0.00001481379072518178, time = 0.0080\n",
      "icorr = 62, Residual = 0.00000000000667405007, normFactor = 0.00001481379072485739, time = 0.0080\n",
      "icorr = 63, Residual = 0.00000000000925425231, normFactor = 0.00001481379072481990, time = 0.0080\n",
      "icorr = 64, Residual = 0.00000000000433154908, normFactor = 0.00001481379072460936, time = 0.0080\n",
      "icorr = 65, Residual = 0.00000000000600525590, normFactor = 0.00001481379072458504, time = 0.0080\n",
      "icorr = 66, Residual = 0.00000000000281111794, normFactor = 0.00001481379072444840, time = 0.0080\n",
      "icorr = 67, Residual = 0.00000000000389732794, normFactor = 0.00001481379072443263, time = 0.0080\n",
      "icorr = 68, Residual = 0.00000000000182449020, normFactor = 0.00001481379072434395, time = 0.0080\n",
      "icorr = 69, Residual = 0.00000000000252911305, normFactor = 0.00001481379072433371, time = 0.0080\n",
      "icorr = 70, Residual = 0.00000000000118387202, normFactor = 0.00001481379072427618, time = 0.0080\n",
      "icorr = 71, Residual = 0.00000000000164176700, normFactor = 0.00001481379072426952, time = 0.0080\n",
      "icorr = 72, Residual = 0.00000000000076839423, normFactor = 0.00001481379072423219, time = 0.0080\n",
      "icorr = 73, Residual = 0.00000000000106567083, normFactor = 0.00001481379072422784, time = 0.0080\n",
      "icorr = 74, Residual = 0.00000000000049848650, normFactor = 0.00001481379072420363, time = 0.0080\n",
      "icorr = 75, Residual = 0.00000000000069132101, normFactor = 0.00001481379072420080, time = 0.0080\n",
      "icorr = 76, Residual = 0.00000000000032329973, normFactor = 0.00001481379072418510, time = 0.0080\n",
      "icorr = 77, Residual = 0.00000000000044904487, normFactor = 0.00001481379072418328, time = 0.0080\n",
      "icorr = 78, Residual = 0.00000000000020980069, normFactor = 0.00001481379072417309, time = 0.0080\n",
      "icorr = 79, Residual = 0.00000000000029126186, normFactor = 0.00001481379072417188, time = 0.0080\n",
      "icorr = 80, Residual = 0.00000000000013639669, normFactor = 0.00001481379072416525, time = 0.0080\n",
      "icorr = 81, Residual = 0.00000000000018836567, normFactor = 0.00001481379072416447, time = 0.0080\n",
      "icorr = 82, Residual = 0.00000000000008833592, normFactor = 0.00001481379072416018, time = 0.0080\n",
      "icorr = 83, Residual = 0.00000000000012279520, normFactor = 0.00001481379072415968, time = 0.0080\n",
      "icorr = 84, Residual = 0.00000000000005712553, normFactor = 0.00001481379072415691, time = 0.0080\n",
      "icorr = 85, Residual = 0.00000000000007910141, normFactor = 0.00001481379072415658, time = 0.0080\n",
      "icorr = 86, Residual = 0.00000000000003707713, normFactor = 0.00001481379072415479, time = 0.0080\n",
      "icorr = 87, Residual = 0.00000000000005160974, normFactor = 0.00001481379072415455, time = 0.0080\n",
      "icorr = 88, Residual = 0.00000000000002400622, normFactor = 0.00001481379072415339, time = 0.0080\n",
      "icorr = 89, Residual = 0.00000000000003330364, normFactor = 0.00001481379072415326, time = 0.0080\n",
      "icorr = 90, Residual = 0.00000000000001531332, normFactor = 0.00001481379072415249, time = 0.0080\n",
      "icorr = 91, Residual = 0.00000000000002174899, normFactor = 0.00001481379072415242, time = 0.0080\n",
      "icorr = 92, Residual = 0.00000000000001056133, normFactor = 0.00001481379072415190, time = 0.0080\n",
      "icorr = 93, Residual = 0.00000000000001435101, normFactor = 0.00001481379072415185, time = 0.0080\n",
      "icorr = 94, Residual = 0.00000000000000694670, normFactor = 0.00001481379072415154, time = 0.0080\n",
      "\n",
      "Time = 0.009000000000000001\n",
      "icorr = 1, Residual = 0.00000124358747212075, normFactor = 0.00001481379271811044, time = 0.0090\n",
      "icorr = 2, Residual = 0.00000026278853763447, normFactor = 0.00001481380127545639, time = 0.0090\n",
      "icorr = 3, Residual = 0.00000047965396149135, normFactor = 0.00001481380251176493, time = 0.0090\n",
      "icorr = 4, Residual = 0.00000016895827977693, normFactor = 0.00001481380949238404, time = 0.0090\n",
      "icorr = 5, Residual = 0.00000026290867482531, normFactor = 0.00001481381032619824, time = 0.0090\n",
      "icorr = 6, Residual = 0.00000010926853409082, normFactor = 0.00001481381526007089, time = 0.0090\n",
      "icorr = 7, Residual = 0.00000015942290179091, normFactor = 0.00001481381582079975, time = 0.0090\n",
      "icorr = 8, Residual = 0.00000007075799100710, normFactor = 0.00001481381914459691, time = 0.0090\n",
      "icorr = 9, Residual = 0.00000010043867890733, normFactor = 0.00001481381951819377, time = 0.0090\n",
      "icorr = 10, Residual = 0.00000004584987486268, normFactor = 0.00001481382171209368, time = 0.0090\n",
      "icorr = 11, Residual = 0.00000006429432135051, normFactor = 0.00001481382195901184, time = 0.0090\n",
      "icorr = 12, Residual = 0.00000002972590459070, normFactor = 0.00001481382339390450, time = 0.0090\n",
      "icorr = 13, Residual = 0.00000004144946820397, normFactor = 0.00001481382355616097, time = 0.0090\n",
      "icorr = 14, Residual = 0.00000001927989314069, normFactor = 0.00001481382449067794, time = 0.0090\n",
      "icorr = 15, Residual = 0.00000002681042941481, normFactor = 0.00001481382459688367, time = 0.0090\n",
      "icorr = 16, Residual = 0.00000001250796186975, normFactor = 0.00001481382520431545, time = 0.0090\n",
      "icorr = 17, Residual = 0.00000001736963174249, normFactor = 0.00001481382527364915, time = 0.0090\n",
      "icorr = 18, Residual = 0.00000000811588945064, normFactor = 0.00001481382566811220, time = 0.0090\n",
      "icorr = 19, Residual = 0.00000001126241752715, normFactor = 0.00001481382571329384, time = 0.0090\n",
      "icorr = 20, Residual = 0.00000000526652833492, normFactor = 0.00001481382596934690, time = 0.0090\n",
      "icorr = 21, Residual = 0.00000000730559615770, normFactor = 0.00001481382599875362, time = 0.0090\n",
      "icorr = 22, Residual = 0.00000000341770146224, normFactor = 0.00001481382616493102, time = 0.0090\n",
      "icorr = 23, Residual = 0.00000000473997595591, normFactor = 0.00001481382618405434, time = 0.0090\n",
      "icorr = 24, Residual = 0.00000000221796803137, normFactor = 0.00001481382629189472, time = 0.0090\n",
      "icorr = 25, Residual = 0.00000000307572754977, normFactor = 0.00001481382630432337, time = 0.0090\n",
      "icorr = 26, Residual = 0.00000000143940340214, normFactor = 0.00001481382637430458, time = 0.0090\n",
      "icorr = 27, Residual = 0.00000000199593981395, normFactor = 0.00001481382638237884, time = 0.0090\n",
      "icorr = 28, Residual = 0.00000000093414149205, normFactor = 0.00001481382642779200, time = 0.0090\n",
      "icorr = 29, Residual = 0.00000000129527479980, normFactor = 0.00001481382643303593, time = 0.0090\n",
      "icorr = 30, Residual = 0.00000000060623960228, normFactor = 0.00001481382646250635, time = 0.0090\n",
      "icorr = 31, Residual = 0.00000000084058947457, normFactor = 0.00001481382646591138, time = 0.0090\n",
      "icorr = 32, Residual = 0.00000000039343867007, normFactor = 0.00001481382648503611, time = 0.0090\n",
      "icorr = 33, Residual = 0.00000000054552028529, normFactor = 0.00001481382648724679, time = 0.0090\n",
      "icorr = 34, Residual = 0.00000000025533418270, normFactor = 0.00001481382649965786, time = 0.0090\n",
      "icorr = 35, Residual = 0.00000000035403003638, normFactor = 0.00001481382650109289, time = 0.0090\n",
      "icorr = 36, Residual = 0.00000000016570762474, normFactor = 0.00001481382650914723, time = 0.0090\n",
      "icorr = 37, Residual = 0.00000000022975751971, normFactor = 0.00001481382651007874, time = 0.0090\n",
      "icorr = 38, Residual = 0.00000000010754133853, normFactor = 0.00001481382651530571, time = 0.0090\n",
      "icorr = 39, Residual = 0.00000000014910833642, normFactor = 0.00001481382651591033, time = 0.0090\n",
      "icorr = 40, Residual = 0.00000000006979234501, normFactor = 0.00001481382651930249, time = 0.0090\n",
      "icorr = 41, Residual = 0.00000000009676908530, normFactor = 0.00001481382651969488, time = 0.0090\n",
      "icorr = 42, Residual = 0.00000000004529402918, normFactor = 0.00001481382652189633, time = 0.0090\n",
      "icorr = 43, Residual = 0.00000000006280168912, normFactor = 0.00001481382652215100, time = 0.0090\n",
      "icorr = 44, Residual = 0.00000000002939539843, normFactor = 0.00001481382652357970, time = 0.0090\n",
      "icorr = 45, Residual = 0.00000000004075669884, normFactor = 0.00001481382652374495, time = 0.0090\n",
      "icorr = 46, Residual = 0.00000000001907705714, normFactor = 0.00001481382652467214, time = 0.0090\n",
      "icorr = 47, Residual = 0.00000000002645045886, normFactor = 0.00001481382652477939, time = 0.0090\n",
      "icorr = 48, Residual = 0.00000000001238052937, normFactor = 0.00001481382652538114, time = 0.0090\n",
      "icorr = 49, Residual = 0.00000000001716629297, normFactor = 0.00001481382652545075, time = 0.0090\n",
      "icorr = 50, Residual = 0.00000000000803473619, normFactor = 0.00001481382652584125, time = 0.0090\n",
      "icorr = 51, Residual = 0.00000000001113963603, normFactor = 0.00001481382652588646, time = 0.0090\n",
      "icorr = 52, Residual = 0.00000000000521406132, normFactor = 0.00001481382652613986, time = 0.0090\n",
      "icorr = 53, Residual = 0.00000000000722873731, normFactor = 0.00001481382652616920, time = 0.0090\n",
      "icorr = 54, Residual = 0.00000000000338389159, normFactor = 0.00001481382652633366, time = 0.0090\n",
      "icorr = 55, Residual = 0.00000000000469111229, normFactor = 0.00001481382652635271, time = 0.0090\n",
      "icorr = 56, Residual = 0.00000000000219638538, normFactor = 0.00001481382652645941, time = 0.0090\n",
      "icorr = 57, Residual = 0.00000000000304550793, normFactor = 0.00001481382652647180, time = 0.0090\n",
      "icorr = 58, Residual = 0.00000000000142531918, normFactor = 0.00001481382652654106, time = 0.0090\n",
      "icorr = 59, Residual = 0.00000000000197650255, normFactor = 0.00001481382652654911, time = 0.0090\n",
      "icorr = 60, Residual = 0.00000000000092465181, normFactor = 0.00001481382652659403, time = 0.0090\n",
      "icorr = 61, Residual = 0.00000000000128250761, normFactor = 0.00001481382652659924, time = 0.0090\n",
      "icorr = 62, Residual = 0.00000000000060021183, normFactor = 0.00001481382652662843, time = 0.0090\n",
      "icorr = 63, Residual = 0.00000000000083239391, normFactor = 0.00001481382652663180, time = 0.0090\n",
      "icorr = 64, Residual = 0.00000000000038958784, normFactor = 0.00001481382652665073, time = 0.0090\n",
      "icorr = 65, Residual = 0.00000000000054084052, normFactor = 0.00001481382652665291, time = 0.0090\n",
      "icorr = 66, Residual = 0.00000000000025296069, normFactor = 0.00001481382652666522, time = 0.0090\n",
      "icorr = 67, Residual = 0.00000000000035066720, normFactor = 0.00001481382652666663, time = 0.0090\n",
      "icorr = 68, Residual = 0.00000000000016404822, normFactor = 0.00001481382652667459, time = 0.0090\n",
      "icorr = 69, Residual = 0.00000000000022731668, normFactor = 0.00001481382652667551, time = 0.0090\n",
      "icorr = 70, Residual = 0.00000000000010618589, normFactor = 0.00001481382652668069, time = 0.0090\n",
      "icorr = 71, Residual = 0.00000000000014765445, normFactor = 0.00001481382652668131, time = 0.0090\n",
      "icorr = 72, Residual = 0.00000000000006907487, normFactor = 0.00001481382652668467, time = 0.0090\n",
      "icorr = 73, Residual = 0.00000000000009598289, normFactor = 0.00001481382652668505, time = 0.0090\n",
      "icorr = 74, Residual = 0.00000000000004477532, normFactor = 0.00001481382652668723, time = 0.0090\n",
      "icorr = 75, Residual = 0.00000000000006217646, normFactor = 0.00001481382652668747, time = 0.0090\n",
      "icorr = 76, Residual = 0.00000000000002932970, normFactor = 0.00001481382652668889, time = 0.0090\n",
      "icorr = 77, Residual = 0.00000000000004081942, normFactor = 0.00001481382652668906, time = 0.0090\n",
      "icorr = 78, Residual = 0.00000000000001876241, normFactor = 0.00001481382652668997, time = 0.0090\n",
      "icorr = 79, Residual = 0.00000000000002615321, normFactor = 0.00001481382652669009, time = 0.0090\n",
      "icorr = 80, Residual = 0.00000000000001221625, normFactor = 0.00001481382652669064, time = 0.0090\n",
      "icorr = 81, Residual = 0.00000000000001655827, normFactor = 0.00001481382652669076, time = 0.0090\n",
      "icorr = 82, Residual = 0.00000000000000738538, normFactor = 0.00001481382652669111, time = 0.0090\n"
     ]
    },
    {
     "data": {
      "application/vnd.plotly.v1+json": {
       "config": {
        "plotlyServerURL": "https://plot.ly"
       },
       "data": [
        {
         "type": "surface",
         "x": [
          [
           0,
           0.0625,
           0.1875,
           0.3125,
           0.4375,
           0.5625,
           0.6875,
           0.8125,
           0.9375,
           1
          ],
          [
           0,
           0.0625,
           0.1875,
           0.3125,
           0.4375,
           0.5625,
           0.6875,
           0.8125,
           0.9375,
           1
          ],
          [
           0,
           0.0625,
           0.1875,
           0.3125,
           0.4375,
           0.5625,
           0.6875,
           0.8125,
           0.9375,
           1
          ],
          [
           0,
           0.0625,
           0.1875,
           0.3125,
           0.4375,
           0.5625,
           0.6875,
           0.8125,
           0.9375,
           1
          ],
          [
           0,
           0.0625,
           0.1875,
           0.3125,
           0.4375,
           0.5625,
           0.6875,
           0.8125,
           0.9375,
           1
          ],
          [
           0,
           0.0625,
           0.1875,
           0.3125,
           0.4375,
           0.5625,
           0.6875,
           0.8125,
           0.9375,
           1
          ],
          [
           0,
           0.0625,
           0.1875,
           0.3125,
           0.4375,
           0.5625,
           0.6875,
           0.8125,
           0.9375,
           1
          ],
          [
           0,
           0.0625,
           0.1875,
           0.3125,
           0.4375,
           0.5625,
           0.6875,
           0.8125,
           0.9375,
           1
          ],
          [
           0,
           0.0625,
           0.1875,
           0.3125,
           0.4375,
           0.5625,
           0.6875,
           0.8125,
           0.9375,
           1
          ],
          [
           0,
           0.0625,
           0.1875,
           0.3125,
           0.4375,
           0.5625,
           0.6875,
           0.8125,
           0.9375,
           1
          ]
         ],
         "y": [
          [
           0,
           0,
           0,
           0,
           0,
           0,
           0,
           0,
           0,
           0
          ],
          [
           0.0625,
           0.0625,
           0.0625,
           0.0625,
           0.0625,
           0.0625,
           0.0625,
           0.0625,
           0.0625,
           0.0625
          ],
          [
           0.1875,
           0.1875,
           0.1875,
           0.1875,
           0.1875,
           0.1875,
           0.1875,
           0.1875,
           0.1875,
           0.1875
          ],
          [
           0.3125,
           0.3125,
           0.3125,
           0.3125,
           0.3125,
           0.3125,
           0.3125,
           0.3125,
           0.3125,
           0.3125
          ],
          [
           0.4375,
           0.4375,
           0.4375,
           0.4375,
           0.4375,
           0.4375,
           0.4375,
           0.4375,
           0.4375,
           0.4375
          ],
          [
           0.5625,
           0.5625,
           0.5625,
           0.5625,
           0.5625,
           0.5625,
           0.5625,
           0.5625,
           0.5625,
           0.5625
          ],
          [
           0.6875,
           0.6875,
           0.6875,
           0.6875,
           0.6875,
           0.6875,
           0.6875,
           0.6875,
           0.6875,
           0.6875
          ],
          [
           0.8125,
           0.8125,
           0.8125,
           0.8125,
           0.8125,
           0.8125,
           0.8125,
           0.8125,
           0.8125,
           0.8125
          ],
          [
           0.9375,
           0.9375,
           0.9375,
           0.9375,
           0.9375,
           0.9375,
           0.9375,
           0.9375,
           0.9375,
           0.9375
          ],
          [
           1,
           1,
           1,
           1,
           1,
           1,
           1,
           1,
           1,
           1
          ]
         ],
         "z": [
          [
           0,
           3.7935678500746404,
           7.365615270466077,
           11.386635923150816,
           15.4921353315579,
           19.770495696617285,
           24.23561143621557,
           28.921813319230736,
           33.85000715973825,
           36.35490516414502
          ],
          [
           3.855036258814018e-14,
           1.8384849378379133,
           5.9311560345168655,
           9.866435254833847,
           13.97582758491801,
           18.296432462116893,
           22.840444526749504,
           27.623984738966083,
           32.821635322430545,
           35.412950276666535
          ],
          [
           6.881764888870791e-14,
           1.0368671302440953,
           4.229818336783613,
           7.897426833187439,
           11.94061758307579,
           16.320223275607788,
           20.993884554407288,
           25.92977036557563,
           31.14103110730474,
           33.823901365829066
          ],
          [
           1.2956218837914206e-14,
           0.7424247209662318,
           3.3917286007023177,
           6.808772939941913,
           10.791605820299345,
           15.217585929403317,
           19.98647015052984,
           24.991478891299693,
           30.08381321061519,
           32.488617492743955
          ],
          [
           2.816138424578268e-14,
           0.6243763685053559,
           3.048501193273344,
           6.341950804503256,
           10.292216113052554,
           14.742454848664481,
           19.55757155162757,
           24.58179725714294,
           29.574922198845588,
           31.824168860868877
          ],
          [
           3.5579909777419515e-14,
           0.6243763685070381,
           3.0485011932826707,
           6.341950804523074,
           10.292216113084462,
           14.742454848710603,
           19.557571551691975,
           24.581797257232648,
           29.574922198970118,
           31.82416886101388
          ],
          [
           2.546780484056114e-14,
           0.7424247209745031,
           3.3917286007388174,
           6.808772940013149,
           10.791605820408419,
           15.217585929555106,
           19.986470150735055,
           24.99147889157828,
           30.083813210996926,
           32.48861749318728
          ],
          [
           9.315783348818468e-15,
           1.0368671302668624,
           4.22981833687074,
           7.897426833342694,
           11.940617583299971,
           16.32022327590535,
           20.993884554791745,
           25.92977036607588,
           31.141031107969734,
           33.8239013665974
          ],
          [
           9.144513926775986e-15,
           1.8384849378933972,
           5.93115603469117,
           9.866435255118175,
           13.975827585310535,
           18.296432462620515,
           22.840444527377752,
           27.623984739749062,
           32.82163532342441,
           35.4129502777312
          ],
          [
           0,
           3.7935678502119208,
           7.365615270740097,
           11.38663592357129,
           15.492135332119135,
           19.770495697321177,
           24.235611437074546,
           28.921813320267905,
           33.85000716096341,
           36.354905165365444
          ]
         ]
        }
       ],
       "layout": {
        "template": {
         "data": {
          "bar": [
           {
            "error_x": {
             "color": "#2a3f5f"
            },
            "error_y": {
             "color": "#2a3f5f"
            },
            "marker": {
             "line": {
              "color": "#E5ECF6",
              "width": 0.5
             },
             "pattern": {
              "fillmode": "overlay",
              "size": 10,
              "solidity": 0.2
             }
            },
            "type": "bar"
           }
          ],
          "barpolar": [
           {
            "marker": {
             "line": {
              "color": "#E5ECF6",
              "width": 0.5
             },
             "pattern": {
              "fillmode": "overlay",
              "size": 10,
              "solidity": 0.2
             }
            },
            "type": "barpolar"
           }
          ],
          "carpet": [
           {
            "aaxis": {
             "endlinecolor": "#2a3f5f",
             "gridcolor": "white",
             "linecolor": "white",
             "minorgridcolor": "white",
             "startlinecolor": "#2a3f5f"
            },
            "baxis": {
             "endlinecolor": "#2a3f5f",
             "gridcolor": "white",
             "linecolor": "white",
             "minorgridcolor": "white",
             "startlinecolor": "#2a3f5f"
            },
            "type": "carpet"
           }
          ],
          "choropleth": [
           {
            "colorbar": {
             "outlinewidth": 0,
             "ticks": ""
            },
            "type": "choropleth"
           }
          ],
          "contour": [
           {
            "colorbar": {
             "outlinewidth": 0,
             "ticks": ""
            },
            "colorscale": [
             [
              0,
              "#0d0887"
             ],
             [
              0.1111111111111111,
              "#46039f"
             ],
             [
              0.2222222222222222,
              "#7201a8"
             ],
             [
              0.3333333333333333,
              "#9c179e"
             ],
             [
              0.4444444444444444,
              "#bd3786"
             ],
             [
              0.5555555555555556,
              "#d8576b"
             ],
             [
              0.6666666666666666,
              "#ed7953"
             ],
             [
              0.7777777777777778,
              "#fb9f3a"
             ],
             [
              0.8888888888888888,
              "#fdca26"
             ],
             [
              1,
              "#f0f921"
             ]
            ],
            "type": "contour"
           }
          ],
          "contourcarpet": [
           {
            "colorbar": {
             "outlinewidth": 0,
             "ticks": ""
            },
            "type": "contourcarpet"
           }
          ],
          "heatmap": [
           {
            "colorbar": {
             "outlinewidth": 0,
             "ticks": ""
            },
            "colorscale": [
             [
              0,
              "#0d0887"
             ],
             [
              0.1111111111111111,
              "#46039f"
             ],
             [
              0.2222222222222222,
              "#7201a8"
             ],
             [
              0.3333333333333333,
              "#9c179e"
             ],
             [
              0.4444444444444444,
              "#bd3786"
             ],
             [
              0.5555555555555556,
              "#d8576b"
             ],
             [
              0.6666666666666666,
              "#ed7953"
             ],
             [
              0.7777777777777778,
              "#fb9f3a"
             ],
             [
              0.8888888888888888,
              "#fdca26"
             ],
             [
              1,
              "#f0f921"
             ]
            ],
            "type": "heatmap"
           }
          ],
          "heatmapgl": [
           {
            "colorbar": {
             "outlinewidth": 0,
             "ticks": ""
            },
            "colorscale": [
             [
              0,
              "#0d0887"
             ],
             [
              0.1111111111111111,
              "#46039f"
             ],
             [
              0.2222222222222222,
              "#7201a8"
             ],
             [
              0.3333333333333333,
              "#9c179e"
             ],
             [
              0.4444444444444444,
              "#bd3786"
             ],
             [
              0.5555555555555556,
              "#d8576b"
             ],
             [
              0.6666666666666666,
              "#ed7953"
             ],
             [
              0.7777777777777778,
              "#fb9f3a"
             ],
             [
              0.8888888888888888,
              "#fdca26"
             ],
             [
              1,
              "#f0f921"
             ]
            ],
            "type": "heatmapgl"
           }
          ],
          "histogram": [
           {
            "marker": {
             "pattern": {
              "fillmode": "overlay",
              "size": 10,
              "solidity": 0.2
             }
            },
            "type": "histogram"
           }
          ],
          "histogram2d": [
           {
            "colorbar": {
             "outlinewidth": 0,
             "ticks": ""
            },
            "colorscale": [
             [
              0,
              "#0d0887"
             ],
             [
              0.1111111111111111,
              "#46039f"
             ],
             [
              0.2222222222222222,
              "#7201a8"
             ],
             [
              0.3333333333333333,
              "#9c179e"
             ],
             [
              0.4444444444444444,
              "#bd3786"
             ],
             [
              0.5555555555555556,
              "#d8576b"
             ],
             [
              0.6666666666666666,
              "#ed7953"
             ],
             [
              0.7777777777777778,
              "#fb9f3a"
             ],
             [
              0.8888888888888888,
              "#fdca26"
             ],
             [
              1,
              "#f0f921"
             ]
            ],
            "type": "histogram2d"
           }
          ],
          "histogram2dcontour": [
           {
            "colorbar": {
             "outlinewidth": 0,
             "ticks": ""
            },
            "colorscale": [
             [
              0,
              "#0d0887"
             ],
             [
              0.1111111111111111,
              "#46039f"
             ],
             [
              0.2222222222222222,
              "#7201a8"
             ],
             [
              0.3333333333333333,
              "#9c179e"
             ],
             [
              0.4444444444444444,
              "#bd3786"
             ],
             [
              0.5555555555555556,
              "#d8576b"
             ],
             [
              0.6666666666666666,
              "#ed7953"
             ],
             [
              0.7777777777777778,
              "#fb9f3a"
             ],
             [
              0.8888888888888888,
              "#fdca26"
             ],
             [
              1,
              "#f0f921"
             ]
            ],
            "type": "histogram2dcontour"
           }
          ],
          "mesh3d": [
           {
            "colorbar": {
             "outlinewidth": 0,
             "ticks": ""
            },
            "type": "mesh3d"
           }
          ],
          "parcoords": [
           {
            "line": {
             "colorbar": {
              "outlinewidth": 0,
              "ticks": ""
             }
            },
            "type": "parcoords"
           }
          ],
          "pie": [
           {
            "automargin": true,
            "type": "pie"
           }
          ],
          "scatter": [
           {
            "marker": {
             "colorbar": {
              "outlinewidth": 0,
              "ticks": ""
             }
            },
            "type": "scatter"
           }
          ],
          "scatter3d": [
           {
            "line": {
             "colorbar": {
              "outlinewidth": 0,
              "ticks": ""
             }
            },
            "marker": {
             "colorbar": {
              "outlinewidth": 0,
              "ticks": ""
             }
            },
            "type": "scatter3d"
           }
          ],
          "scattercarpet": [
           {
            "marker": {
             "colorbar": {
              "outlinewidth": 0,
              "ticks": ""
             }
            },
            "type": "scattercarpet"
           }
          ],
          "scattergeo": [
           {
            "marker": {
             "colorbar": {
              "outlinewidth": 0,
              "ticks": ""
             }
            },
            "type": "scattergeo"
           }
          ],
          "scattergl": [
           {
            "marker": {
             "colorbar": {
              "outlinewidth": 0,
              "ticks": ""
             }
            },
            "type": "scattergl"
           }
          ],
          "scattermapbox": [
           {
            "marker": {
             "colorbar": {
              "outlinewidth": 0,
              "ticks": ""
             }
            },
            "type": "scattermapbox"
           }
          ],
          "scatterpolar": [
           {
            "marker": {
             "colorbar": {
              "outlinewidth": 0,
              "ticks": ""
             }
            },
            "type": "scatterpolar"
           }
          ],
          "scatterpolargl": [
           {
            "marker": {
             "colorbar": {
              "outlinewidth": 0,
              "ticks": ""
             }
            },
            "type": "scatterpolargl"
           }
          ],
          "scatterternary": [
           {
            "marker": {
             "colorbar": {
              "outlinewidth": 0,
              "ticks": ""
             }
            },
            "type": "scatterternary"
           }
          ],
          "surface": [
           {
            "colorbar": {
             "outlinewidth": 0,
             "ticks": ""
            },
            "colorscale": [
             [
              0,
              "#0d0887"
             ],
             [
              0.1111111111111111,
              "#46039f"
             ],
             [
              0.2222222222222222,
              "#7201a8"
             ],
             [
              0.3333333333333333,
              "#9c179e"
             ],
             [
              0.4444444444444444,
              "#bd3786"
             ],
             [
              0.5555555555555556,
              "#d8576b"
             ],
             [
              0.6666666666666666,
              "#ed7953"
             ],
             [
              0.7777777777777778,
              "#fb9f3a"
             ],
             [
              0.8888888888888888,
              "#fdca26"
             ],
             [
              1,
              "#f0f921"
             ]
            ],
            "type": "surface"
           }
          ],
          "table": [
           {
            "cells": {
             "fill": {
              "color": "#EBF0F8"
             },
             "line": {
              "color": "white"
             }
            },
            "header": {
             "fill": {
              "color": "#C8D4E3"
             },
             "line": {
              "color": "white"
             }
            },
            "type": "table"
           }
          ]
         },
         "layout": {
          "annotationdefaults": {
           "arrowcolor": "#2a3f5f",
           "arrowhead": 0,
           "arrowwidth": 1
          },
          "autotypenumbers": "strict",
          "coloraxis": {
           "colorbar": {
            "outlinewidth": 0,
            "ticks": ""
           }
          },
          "colorscale": {
           "diverging": [
            [
             0,
             "#8e0152"
            ],
            [
             0.1,
             "#c51b7d"
            ],
            [
             0.2,
             "#de77ae"
            ],
            [
             0.3,
             "#f1b6da"
            ],
            [
             0.4,
             "#fde0ef"
            ],
            [
             0.5,
             "#f7f7f7"
            ],
            [
             0.6,
             "#e6f5d0"
            ],
            [
             0.7,
             "#b8e186"
            ],
            [
             0.8,
             "#7fbc41"
            ],
            [
             0.9,
             "#4d9221"
            ],
            [
             1,
             "#276419"
            ]
           ],
           "sequential": [
            [
             0,
             "#0d0887"
            ],
            [
             0.1111111111111111,
             "#46039f"
            ],
            [
             0.2222222222222222,
             "#7201a8"
            ],
            [
             0.3333333333333333,
             "#9c179e"
            ],
            [
             0.4444444444444444,
             "#bd3786"
            ],
            [
             0.5555555555555556,
             "#d8576b"
            ],
            [
             0.6666666666666666,
             "#ed7953"
            ],
            [
             0.7777777777777778,
             "#fb9f3a"
            ],
            [
             0.8888888888888888,
             "#fdca26"
            ],
            [
             1,
             "#f0f921"
            ]
           ],
           "sequentialminus": [
            [
             0,
             "#0d0887"
            ],
            [
             0.1111111111111111,
             "#46039f"
            ],
            [
             0.2222222222222222,
             "#7201a8"
            ],
            [
             0.3333333333333333,
             "#9c179e"
            ],
            [
             0.4444444444444444,
             "#bd3786"
            ],
            [
             0.5555555555555556,
             "#d8576b"
            ],
            [
             0.6666666666666666,
             "#ed7953"
            ],
            [
             0.7777777777777778,
             "#fb9f3a"
            ],
            [
             0.8888888888888888,
             "#fdca26"
            ],
            [
             1,
             "#f0f921"
            ]
           ]
          },
          "colorway": [
           "#636efa",
           "#EF553B",
           "#00cc96",
           "#ab63fa",
           "#FFA15A",
           "#19d3f3",
           "#FF6692",
           "#B6E880",
           "#FF97FF",
           "#FECB52"
          ],
          "font": {
           "color": "#2a3f5f"
          },
          "geo": {
           "bgcolor": "white",
           "lakecolor": "white",
           "landcolor": "#E5ECF6",
           "showlakes": true,
           "showland": true,
           "subunitcolor": "white"
          },
          "hoverlabel": {
           "align": "left"
          },
          "hovermode": "closest",
          "mapbox": {
           "style": "light"
          },
          "paper_bgcolor": "white",
          "plot_bgcolor": "#E5ECF6",
          "polar": {
           "angularaxis": {
            "gridcolor": "white",
            "linecolor": "white",
            "ticks": ""
           },
           "bgcolor": "#E5ECF6",
           "radialaxis": {
            "gridcolor": "white",
            "linecolor": "white",
            "ticks": ""
           }
          },
          "scene": {
           "xaxis": {
            "backgroundcolor": "#E5ECF6",
            "gridcolor": "white",
            "gridwidth": 2,
            "linecolor": "white",
            "showbackground": true,
            "ticks": "",
            "zerolinecolor": "white"
           },
           "yaxis": {
            "backgroundcolor": "#E5ECF6",
            "gridcolor": "white",
            "gridwidth": 2,
            "linecolor": "white",
            "showbackground": true,
            "ticks": "",
            "zerolinecolor": "white"
           },
           "zaxis": {
            "backgroundcolor": "#E5ECF6",
            "gridcolor": "white",
            "gridwidth": 2,
            "linecolor": "white",
            "showbackground": true,
            "ticks": "",
            "zerolinecolor": "white"
           }
          },
          "shapedefaults": {
           "line": {
            "color": "#2a3f5f"
           }
          },
          "ternary": {
           "aaxis": {
            "gridcolor": "white",
            "linecolor": "white",
            "ticks": ""
           },
           "baxis": {
            "gridcolor": "white",
            "linecolor": "white",
            "ticks": ""
           },
           "bgcolor": "#E5ECF6",
           "caxis": {
            "gridcolor": "white",
            "linecolor": "white",
            "ticks": ""
           }
          },
          "title": {
           "x": 0.05
          },
          "xaxis": {
           "automargin": true,
           "gridcolor": "white",
           "linecolor": "white",
           "ticks": "",
           "title": {
            "standoff": 15
           },
           "zerolinecolor": "white",
           "zerolinewidth": 2
          },
          "yaxis": {
           "automargin": true,
           "gridcolor": "white",
           "linecolor": "white",
           "ticks": "",
           "title": {
            "standoff": 15
           },
           "zerolinecolor": "white",
           "zerolinewidth": 2
          }
         }
        }
       }
      },
      "text/html": [
       "<div>                            <div id=\"063d5183-6157-4f7c-8ba6-223c5ac79f2e\" class=\"plotly-graph-div\" style=\"height:525px; width:100%;\"></div>            <script type=\"text/javascript\">                require([\"plotly\"], function(Plotly) {                    window.PLOTLYENV=window.PLOTLYENV || {};                                    if (document.getElementById(\"063d5183-6157-4f7c-8ba6-223c5ac79f2e\")) {                    Plotly.newPlot(                        \"063d5183-6157-4f7c-8ba6-223c5ac79f2e\",                        [{\"x\":[[0.0,0.0625,0.1875,0.3125,0.4375,0.5625,0.6875,0.8125,0.9375,1.0],[0.0,0.0625,0.1875,0.3125,0.4375,0.5625,0.6875,0.8125,0.9375,1.0],[0.0,0.0625,0.1875,0.3125,0.4375,0.5625,0.6875,0.8125,0.9375,1.0],[0.0,0.0625,0.1875,0.3125,0.4375,0.5625,0.6875,0.8125,0.9375,1.0],[0.0,0.0625,0.1875,0.3125,0.4375,0.5625,0.6875,0.8125,0.9375,1.0],[0.0,0.0625,0.1875,0.3125,0.4375,0.5625,0.6875,0.8125,0.9375,1.0],[0.0,0.0625,0.1875,0.3125,0.4375,0.5625,0.6875,0.8125,0.9375,1.0],[0.0,0.0625,0.1875,0.3125,0.4375,0.5625,0.6875,0.8125,0.9375,1.0],[0.0,0.0625,0.1875,0.3125,0.4375,0.5625,0.6875,0.8125,0.9375,1.0],[0.0,0.0625,0.1875,0.3125,0.4375,0.5625,0.6875,0.8125,0.9375,1.0]],\"y\":[[0.0,0.0,0.0,0.0,0.0,0.0,0.0,0.0,0.0,0.0],[0.0625,0.0625,0.0625,0.0625,0.0625,0.0625,0.0625,0.0625,0.0625,0.0625],[0.1875,0.1875,0.1875,0.1875,0.1875,0.1875,0.1875,0.1875,0.1875,0.1875],[0.3125,0.3125,0.3125,0.3125,0.3125,0.3125,0.3125,0.3125,0.3125,0.3125],[0.4375,0.4375,0.4375,0.4375,0.4375,0.4375,0.4375,0.4375,0.4375,0.4375],[0.5625,0.5625,0.5625,0.5625,0.5625,0.5625,0.5625,0.5625,0.5625,0.5625],[0.6875,0.6875,0.6875,0.6875,0.6875,0.6875,0.6875,0.6875,0.6875,0.6875],[0.8125,0.8125,0.8125,0.8125,0.8125,0.8125,0.8125,0.8125,0.8125,0.8125],[0.9375,0.9375,0.9375,0.9375,0.9375,0.9375,0.9375,0.9375,0.9375,0.9375],[1.0,1.0,1.0,1.0,1.0,1.0,1.0,1.0,1.0,1.0]],\"z\":[[0.0,3.7935678500746404,7.365615270466077,11.386635923150816,15.4921353315579,19.770495696617285,24.23561143621557,28.921813319230736,33.85000715973825,36.35490516414502],[3.855036258814018e-14,1.8384849378379133,5.9311560345168655,9.866435254833847,13.97582758491801,18.296432462116893,22.840444526749504,27.623984738966083,32.821635322430545,35.412950276666535],[6.881764888870791e-14,1.0368671302440953,4.229818336783613,7.897426833187439,11.94061758307579,16.320223275607788,20.993884554407288,25.92977036557563,31.14103110730474,33.823901365829066],[1.2956218837914206e-14,0.7424247209662318,3.3917286007023177,6.808772939941913,10.791605820299345,15.217585929403317,19.98647015052984,24.991478891299693,30.08381321061519,32.488617492743955],[2.816138424578268e-14,0.6243763685053559,3.048501193273344,6.341950804503256,10.292216113052554,14.742454848664481,19.55757155162757,24.58179725714294,29.574922198845588,31.824168860868877],[3.5579909777419515e-14,0.6243763685070381,3.0485011932826707,6.341950804523074,10.292216113084462,14.742454848710603,19.557571551691975,24.581797257232648,29.574922198970118,31.82416886101388],[2.546780484056114e-14,0.7424247209745031,3.3917286007388174,6.808772940013149,10.791605820408419,15.217585929555106,19.986470150735055,24.99147889157828,30.083813210996926,32.48861749318728],[9.315783348818468e-15,1.0368671302668624,4.22981833687074,7.897426833342694,11.940617583299971,16.32022327590535,20.993884554791745,25.92977036607588,31.141031107969734,33.8239013665974],[9.144513926775986e-15,1.8384849378933972,5.93115603469117,9.866435255118175,13.975827585310535,18.296432462620515,22.840444527377752,27.623984739749062,32.82163532342441,35.4129502777312],[0.0,3.7935678502119208,7.365615270740097,11.38663592357129,15.492135332119135,19.770495697321177,24.235611437074546,28.921813320267905,33.85000716096341,36.354905165365444]],\"type\":\"surface\"}],                        {\"template\":{\"data\":{\"bar\":[{\"error_x\":{\"color\":\"#2a3f5f\"},\"error_y\":{\"color\":\"#2a3f5f\"},\"marker\":{\"line\":{\"color\":\"#E5ECF6\",\"width\":0.5},\"pattern\":{\"fillmode\":\"overlay\",\"size\":10,\"solidity\":0.2}},\"type\":\"bar\"}],\"barpolar\":[{\"marker\":{\"line\":{\"color\":\"#E5ECF6\",\"width\":0.5},\"pattern\":{\"fillmode\":\"overlay\",\"size\":10,\"solidity\":0.2}},\"type\":\"barpolar\"}],\"carpet\":[{\"aaxis\":{\"endlinecolor\":\"#2a3f5f\",\"gridcolor\":\"white\",\"linecolor\":\"white\",\"minorgridcolor\":\"white\",\"startlinecolor\":\"#2a3f5f\"},\"baxis\":{\"endlinecolor\":\"#2a3f5f\",\"gridcolor\":\"white\",\"linecolor\":\"white\",\"minorgridcolor\":\"white\",\"startlinecolor\":\"#2a3f5f\"},\"type\":\"carpet\"}],\"choropleth\":[{\"colorbar\":{\"outlinewidth\":0,\"ticks\":\"\"},\"type\":\"choropleth\"}],\"contour\":[{\"colorbar\":{\"outlinewidth\":0,\"ticks\":\"\"},\"colorscale\":[[0.0,\"#0d0887\"],[0.1111111111111111,\"#46039f\"],[0.2222222222222222,\"#7201a8\"],[0.3333333333333333,\"#9c179e\"],[0.4444444444444444,\"#bd3786\"],[0.5555555555555556,\"#d8576b\"],[0.6666666666666666,\"#ed7953\"],[0.7777777777777778,\"#fb9f3a\"],[0.8888888888888888,\"#fdca26\"],[1.0,\"#f0f921\"]],\"type\":\"contour\"}],\"contourcarpet\":[{\"colorbar\":{\"outlinewidth\":0,\"ticks\":\"\"},\"type\":\"contourcarpet\"}],\"heatmap\":[{\"colorbar\":{\"outlinewidth\":0,\"ticks\":\"\"},\"colorscale\":[[0.0,\"#0d0887\"],[0.1111111111111111,\"#46039f\"],[0.2222222222222222,\"#7201a8\"],[0.3333333333333333,\"#9c179e\"],[0.4444444444444444,\"#bd3786\"],[0.5555555555555556,\"#d8576b\"],[0.6666666666666666,\"#ed7953\"],[0.7777777777777778,\"#fb9f3a\"],[0.8888888888888888,\"#fdca26\"],[1.0,\"#f0f921\"]],\"type\":\"heatmap\"}],\"heatmapgl\":[{\"colorbar\":{\"outlinewidth\":0,\"ticks\":\"\"},\"colorscale\":[[0.0,\"#0d0887\"],[0.1111111111111111,\"#46039f\"],[0.2222222222222222,\"#7201a8\"],[0.3333333333333333,\"#9c179e\"],[0.4444444444444444,\"#bd3786\"],[0.5555555555555556,\"#d8576b\"],[0.6666666666666666,\"#ed7953\"],[0.7777777777777778,\"#fb9f3a\"],[0.8888888888888888,\"#fdca26\"],[1.0,\"#f0f921\"]],\"type\":\"heatmapgl\"}],\"histogram\":[{\"marker\":{\"pattern\":{\"fillmode\":\"overlay\",\"size\":10,\"solidity\":0.2}},\"type\":\"histogram\"}],\"histogram2d\":[{\"colorbar\":{\"outlinewidth\":0,\"ticks\":\"\"},\"colorscale\":[[0.0,\"#0d0887\"],[0.1111111111111111,\"#46039f\"],[0.2222222222222222,\"#7201a8\"],[0.3333333333333333,\"#9c179e\"],[0.4444444444444444,\"#bd3786\"],[0.5555555555555556,\"#d8576b\"],[0.6666666666666666,\"#ed7953\"],[0.7777777777777778,\"#fb9f3a\"],[0.8888888888888888,\"#fdca26\"],[1.0,\"#f0f921\"]],\"type\":\"histogram2d\"}],\"histogram2dcontour\":[{\"colorbar\":{\"outlinewidth\":0,\"ticks\":\"\"},\"colorscale\":[[0.0,\"#0d0887\"],[0.1111111111111111,\"#46039f\"],[0.2222222222222222,\"#7201a8\"],[0.3333333333333333,\"#9c179e\"],[0.4444444444444444,\"#bd3786\"],[0.5555555555555556,\"#d8576b\"],[0.6666666666666666,\"#ed7953\"],[0.7777777777777778,\"#fb9f3a\"],[0.8888888888888888,\"#fdca26\"],[1.0,\"#f0f921\"]],\"type\":\"histogram2dcontour\"}],\"mesh3d\":[{\"colorbar\":{\"outlinewidth\":0,\"ticks\":\"\"},\"type\":\"mesh3d\"}],\"parcoords\":[{\"line\":{\"colorbar\":{\"outlinewidth\":0,\"ticks\":\"\"}},\"type\":\"parcoords\"}],\"pie\":[{\"automargin\":true,\"type\":\"pie\"}],\"scatter\":[{\"marker\":{\"colorbar\":{\"outlinewidth\":0,\"ticks\":\"\"}},\"type\":\"scatter\"}],\"scatter3d\":[{\"line\":{\"colorbar\":{\"outlinewidth\":0,\"ticks\":\"\"}},\"marker\":{\"colorbar\":{\"outlinewidth\":0,\"ticks\":\"\"}},\"type\":\"scatter3d\"}],\"scattercarpet\":[{\"marker\":{\"colorbar\":{\"outlinewidth\":0,\"ticks\":\"\"}},\"type\":\"scattercarpet\"}],\"scattergeo\":[{\"marker\":{\"colorbar\":{\"outlinewidth\":0,\"ticks\":\"\"}},\"type\":\"scattergeo\"}],\"scattergl\":[{\"marker\":{\"colorbar\":{\"outlinewidth\":0,\"ticks\":\"\"}},\"type\":\"scattergl\"}],\"scattermapbox\":[{\"marker\":{\"colorbar\":{\"outlinewidth\":0,\"ticks\":\"\"}},\"type\":\"scattermapbox\"}],\"scatterpolar\":[{\"marker\":{\"colorbar\":{\"outlinewidth\":0,\"ticks\":\"\"}},\"type\":\"scatterpolar\"}],\"scatterpolargl\":[{\"marker\":{\"colorbar\":{\"outlinewidth\":0,\"ticks\":\"\"}},\"type\":\"scatterpolargl\"}],\"scatterternary\":[{\"marker\":{\"colorbar\":{\"outlinewidth\":0,\"ticks\":\"\"}},\"type\":\"scatterternary\"}],\"surface\":[{\"colorbar\":{\"outlinewidth\":0,\"ticks\":\"\"},\"colorscale\":[[0.0,\"#0d0887\"],[0.1111111111111111,\"#46039f\"],[0.2222222222222222,\"#7201a8\"],[0.3333333333333333,\"#9c179e\"],[0.4444444444444444,\"#bd3786\"],[0.5555555555555556,\"#d8576b\"],[0.6666666666666666,\"#ed7953\"],[0.7777777777777778,\"#fb9f3a\"],[0.8888888888888888,\"#fdca26\"],[1.0,\"#f0f921\"]],\"type\":\"surface\"}],\"table\":[{\"cells\":{\"fill\":{\"color\":\"#EBF0F8\"},\"line\":{\"color\":\"white\"}},\"header\":{\"fill\":{\"color\":\"#C8D4E3\"},\"line\":{\"color\":\"white\"}},\"type\":\"table\"}]},\"layout\":{\"annotationdefaults\":{\"arrowcolor\":\"#2a3f5f\",\"arrowhead\":0,\"arrowwidth\":1},\"autotypenumbers\":\"strict\",\"coloraxis\":{\"colorbar\":{\"outlinewidth\":0,\"ticks\":\"\"}},\"colorscale\":{\"diverging\":[[0,\"#8e0152\"],[0.1,\"#c51b7d\"],[0.2,\"#de77ae\"],[0.3,\"#f1b6da\"],[0.4,\"#fde0ef\"],[0.5,\"#f7f7f7\"],[0.6,\"#e6f5d0\"],[0.7,\"#b8e186\"],[0.8,\"#7fbc41\"],[0.9,\"#4d9221\"],[1,\"#276419\"]],\"sequential\":[[0.0,\"#0d0887\"],[0.1111111111111111,\"#46039f\"],[0.2222222222222222,\"#7201a8\"],[0.3333333333333333,\"#9c179e\"],[0.4444444444444444,\"#bd3786\"],[0.5555555555555556,\"#d8576b\"],[0.6666666666666666,\"#ed7953\"],[0.7777777777777778,\"#fb9f3a\"],[0.8888888888888888,\"#fdca26\"],[1.0,\"#f0f921\"]],\"sequentialminus\":[[0.0,\"#0d0887\"],[0.1111111111111111,\"#46039f\"],[0.2222222222222222,\"#7201a8\"],[0.3333333333333333,\"#9c179e\"],[0.4444444444444444,\"#bd3786\"],[0.5555555555555556,\"#d8576b\"],[0.6666666666666666,\"#ed7953\"],[0.7777777777777778,\"#fb9f3a\"],[0.8888888888888888,\"#fdca26\"],[1.0,\"#f0f921\"]]},\"colorway\":[\"#636efa\",\"#EF553B\",\"#00cc96\",\"#ab63fa\",\"#FFA15A\",\"#19d3f3\",\"#FF6692\",\"#B6E880\",\"#FF97FF\",\"#FECB52\"],\"font\":{\"color\":\"#2a3f5f\"},\"geo\":{\"bgcolor\":\"white\",\"lakecolor\":\"white\",\"landcolor\":\"#E5ECF6\",\"showlakes\":true,\"showland\":true,\"subunitcolor\":\"white\"},\"hoverlabel\":{\"align\":\"left\"},\"hovermode\":\"closest\",\"mapbox\":{\"style\":\"light\"},\"paper_bgcolor\":\"white\",\"plot_bgcolor\":\"#E5ECF6\",\"polar\":{\"angularaxis\":{\"gridcolor\":\"white\",\"linecolor\":\"white\",\"ticks\":\"\"},\"bgcolor\":\"#E5ECF6\",\"radialaxis\":{\"gridcolor\":\"white\",\"linecolor\":\"white\",\"ticks\":\"\"}},\"scene\":{\"xaxis\":{\"backgroundcolor\":\"#E5ECF6\",\"gridcolor\":\"white\",\"gridwidth\":2,\"linecolor\":\"white\",\"showbackground\":true,\"ticks\":\"\",\"zerolinecolor\":\"white\"},\"yaxis\":{\"backgroundcolor\":\"#E5ECF6\",\"gridcolor\":\"white\",\"gridwidth\":2,\"linecolor\":\"white\",\"showbackground\":true,\"ticks\":\"\",\"zerolinecolor\":\"white\"},\"zaxis\":{\"backgroundcolor\":\"#E5ECF6\",\"gridcolor\":\"white\",\"gridwidth\":2,\"linecolor\":\"white\",\"showbackground\":true,\"ticks\":\"\",\"zerolinecolor\":\"white\"}},\"shapedefaults\":{\"line\":{\"color\":\"#2a3f5f\"}},\"ternary\":{\"aaxis\":{\"gridcolor\":\"white\",\"linecolor\":\"white\",\"ticks\":\"\"},\"baxis\":{\"gridcolor\":\"white\",\"linecolor\":\"white\",\"ticks\":\"\"},\"bgcolor\":\"#E5ECF6\",\"caxis\":{\"gridcolor\":\"white\",\"linecolor\":\"white\",\"ticks\":\"\"}},\"title\":{\"x\":0.05},\"xaxis\":{\"automargin\":true,\"gridcolor\":\"white\",\"linecolor\":\"white\",\"ticks\":\"\",\"title\":{\"standoff\":15},\"zerolinecolor\":\"white\",\"zerolinewidth\":2},\"yaxis\":{\"automargin\":true,\"gridcolor\":\"white\",\"linecolor\":\"white\",\"ticks\":\"\",\"title\":{\"standoff\":15},\"zerolinecolor\":\"white\",\"zerolinewidth\":2}}}},                        {\"responsive\": true}                    ).then(function(){\n",
       "                            \n",
       "var gd = document.getElementById('063d5183-6157-4f7c-8ba6-223c5ac79f2e');\n",
       "var x = new MutationObserver(function (mutations, observer) {{\n",
       "        var display = window.getComputedStyle(gd).display;\n",
       "        if (!display || display === 'none') {{\n",
       "            console.log([gd, 'removed!']);\n",
       "            Plotly.purge(gd);\n",
       "            observer.disconnect();\n",
       "        }}\n",
       "}});\n",
       "\n",
       "// Listen for the removal of the full notebook cells\n",
       "var notebookContainer = gd.closest('#notebook-container');\n",
       "if (notebookContainer) {{\n",
       "    x.observe(notebookContainer, {childList: true});\n",
       "}}\n",
       "\n",
       "// Listen for the clearing of the current output cell\n",
       "var outputEl = gd.closest('.output');\n",
       "if (outputEl) {{\n",
       "    x.observe(outputEl, {childList: true});\n",
       "}}\n",
       "\n",
       "                        })                };                });            </script>        </div>"
      ]
     },
     "metadata": {},
     "output_type": "display_data"
    },
    {
     "name": "stdout",
     "output_type": "stream",
     "text": [
      "U graph\n"
     ]
    },
    {
     "data": {
      "application/vnd.plotly.v1+json": {
       "config": {
        "plotlyServerURL": "https://plot.ly"
       },
       "data": [
        {
         "type": "surface",
         "x": [
          [
           0,
           0.0625,
           0.1875,
           0.3125,
           0.4375,
           0.5625,
           0.6875,
           0.8125,
           0.9375,
           1
          ],
          [
           0,
           0.0625,
           0.1875,
           0.3125,
           0.4375,
           0.5625,
           0.6875,
           0.8125,
           0.9375,
           1
          ],
          [
           0,
           0.0625,
           0.1875,
           0.3125,
           0.4375,
           0.5625,
           0.6875,
           0.8125,
           0.9375,
           1
          ],
          [
           0,
           0.0625,
           0.1875,
           0.3125,
           0.4375,
           0.5625,
           0.6875,
           0.8125,
           0.9375,
           1
          ],
          [
           0,
           0.0625,
           0.1875,
           0.3125,
           0.4375,
           0.5625,
           0.6875,
           0.8125,
           0.9375,
           1
          ],
          [
           0,
           0.0625,
           0.1875,
           0.3125,
           0.4375,
           0.5625,
           0.6875,
           0.8125,
           0.9375,
           1
          ],
          [
           0,
           0.0625,
           0.1875,
           0.3125,
           0.4375,
           0.5625,
           0.6875,
           0.8125,
           0.9375,
           1
          ],
          [
           0,
           0.0625,
           0.1875,
           0.3125,
           0.4375,
           0.5625,
           0.6875,
           0.8125,
           0.9375,
           1
          ],
          [
           0,
           0.0625,
           0.1875,
           0.3125,
           0.4375,
           0.5625,
           0.6875,
           0.8125,
           0.9375,
           1
          ],
          [
           0,
           0.0625,
           0.1875,
           0.3125,
           0.4375,
           0.5625,
           0.6875,
           0.8125,
           0.9375,
           1
          ]
         ],
         "y": [
          [
           0,
           0,
           0,
           0,
           0,
           0,
           0,
           0,
           0,
           0
          ],
          [
           0.0625,
           0.0625,
           0.0625,
           0.0625,
           0.0625,
           0.0625,
           0.0625,
           0.0625,
           0.0625,
           0.0625
          ],
          [
           0.1875,
           0.1875,
           0.1875,
           0.1875,
           0.1875,
           0.1875,
           0.1875,
           0.1875,
           0.1875,
           0.1875
          ],
          [
           0.3125,
           0.3125,
           0.3125,
           0.3125,
           0.3125,
           0.3125,
           0.3125,
           0.3125,
           0.3125,
           0.3125
          ],
          [
           0.4375,
           0.4375,
           0.4375,
           0.4375,
           0.4375,
           0.4375,
           0.4375,
           0.4375,
           0.4375,
           0.4375
          ],
          [
           0.5625,
           0.5625,
           0.5625,
           0.5625,
           0.5625,
           0.5625,
           0.5625,
           0.5625,
           0.5625,
           0.5625
          ],
          [
           0.6875,
           0.6875,
           0.6875,
           0.6875,
           0.6875,
           0.6875,
           0.6875,
           0.6875,
           0.6875,
           0.6875
          ],
          [
           0.8125,
           0.8125,
           0.8125,
           0.8125,
           0.8125,
           0.8125,
           0.8125,
           0.8125,
           0.8125,
           0.8125
          ],
          [
           0.9375,
           0.9375,
           0.9375,
           0.9375,
           0.9375,
           0.9375,
           0.9375,
           0.9375,
           0.9375,
           0.9375
          ],
          [
           1,
           1,
           1,
           1,
           1,
           1,
           1,
           1,
           1,
           1
          ]
         ],
         "z": [
          [
           0,
           -0.000003124261264732297,
           -0.000005537102405064438,
           -0.000007991172030342855,
           -0.000010048013505474275,
           -0.000011733960653921733,
           -0.00001305508516200947,
           -0.000014007030807473446,
           -0.000014813826525571821,
           -0.000013734737112248498
          ],
          [
           1.2917943032724517e-20,
           -0.0000013720066386485895,
           -0.000004047168593461762,
           -0.000006257562531471847,
           -0.000008097931698318096,
           -0.000009577166689309213,
           -0.000010707134410695201,
           -0.000011502648160097047,
           -0.000011918532640394488,
           -0.000012036577496228272
          ],
          [
           5.480667044009481e-20,
           -6.959751963323748e-7,
           -0.0000022999046761506836,
           -0.000003816252287740346,
           -0.000005104441218608026,
           -0.000006130500760704662,
           -0.0000068841027972687015,
           -0.000007373012284872485,
           -0.00000767028602250686,
           -0.000007789112515449919
          ],
          [
           -7.458895977054323e-21,
           -3.6881005950933423e-7,
           -0.0000012063281171079554,
           -0.000002048442645538147,
           -0.0000027892306154552337,
           -0.0000033800654370792183,
           -0.000003802796866225969,
           -0.00000406584872490318,
           -0.000004233628844988082,
           -0.000004353760604304904
          ],
          [
           1.1451837573466557e-20,
           -1.1711742572195107e-7,
           -3.777922908126914e-7,
           -6.449831523199774e-7,
           -8.843576382592538e-7,
           -0.0000010759113239883818,
           -0.0000012115456030010875,
           -0.0000012949461969772492,
           -0.0000013514602505642143,
           -0.0000013945289568739059
          ],
          [
           -2.7079035394958087e-20,
           1.1711742573838683e-7,
           3.7779229086298516e-7,
           6.449831524083475e-7,
           8.843576383893274e-7,
           0.0000010759113241632209,
           0.0000012115456032252814,
           0.0000012949461972607435,
           0.0000013514602509269326,
           0.0000013945289572910124
          ],
          [
           1.859318997178759e-20,
           3.6881005953025457e-7,
           0.000001206328117175767,
           0.00000204844264565796,
           0.0000027892306156299775,
           0.000003380065437310695,
           0.0000038027968665166525,
           0.000004065848725259527,
           0.00000423362884542572,
           0.000004353760604797148
          ],
          [
           9.080395102500916e-21,
           6.959751963630341e-7,
           0.0000022999046762558224,
           0.000003816252287924698,
           0.0000051044412188728675,
           0.000006130500761050453,
           0.000006884102797695851,
           0.000007373012285382722,
           0.00000767028602310825,
           0.000007789112516096757
          ],
          [
           -1.0809994169643947e-21,
           0.000001372006638701083,
           0.000004047168593631574,
           0.000006257562531756648,
           0.00000809793169871778,
           0.000009577166689824773,
           0.000010707134411328704,
           0.000011502648160849683,
           0.000011918532641252007,
           0.000012036577497133274
          ],
          [
           0,
           0.0000031242612648514667,
           0.000005537102405318093,
           0.000007991172030745133,
           0.000010048013506021692,
           0.000011733960654614431,
           0.000013055085162851104,
           0.00001400703080845971,
           0.000014813826526691105,
           0.000013734737113169447
          ]
         ]
        }
       ],
       "layout": {
        "template": {
         "data": {
          "bar": [
           {
            "error_x": {
             "color": "#2a3f5f"
            },
            "error_y": {
             "color": "#2a3f5f"
            },
            "marker": {
             "line": {
              "color": "#E5ECF6",
              "width": 0.5
             },
             "pattern": {
              "fillmode": "overlay",
              "size": 10,
              "solidity": 0.2
             }
            },
            "type": "bar"
           }
          ],
          "barpolar": [
           {
            "marker": {
             "line": {
              "color": "#E5ECF6",
              "width": 0.5
             },
             "pattern": {
              "fillmode": "overlay",
              "size": 10,
              "solidity": 0.2
             }
            },
            "type": "barpolar"
           }
          ],
          "carpet": [
           {
            "aaxis": {
             "endlinecolor": "#2a3f5f",
             "gridcolor": "white",
             "linecolor": "white",
             "minorgridcolor": "white",
             "startlinecolor": "#2a3f5f"
            },
            "baxis": {
             "endlinecolor": "#2a3f5f",
             "gridcolor": "white",
             "linecolor": "white",
             "minorgridcolor": "white",
             "startlinecolor": "#2a3f5f"
            },
            "type": "carpet"
           }
          ],
          "choropleth": [
           {
            "colorbar": {
             "outlinewidth": 0,
             "ticks": ""
            },
            "type": "choropleth"
           }
          ],
          "contour": [
           {
            "colorbar": {
             "outlinewidth": 0,
             "ticks": ""
            },
            "colorscale": [
             [
              0,
              "#0d0887"
             ],
             [
              0.1111111111111111,
              "#46039f"
             ],
             [
              0.2222222222222222,
              "#7201a8"
             ],
             [
              0.3333333333333333,
              "#9c179e"
             ],
             [
              0.4444444444444444,
              "#bd3786"
             ],
             [
              0.5555555555555556,
              "#d8576b"
             ],
             [
              0.6666666666666666,
              "#ed7953"
             ],
             [
              0.7777777777777778,
              "#fb9f3a"
             ],
             [
              0.8888888888888888,
              "#fdca26"
             ],
             [
              1,
              "#f0f921"
             ]
            ],
            "type": "contour"
           }
          ],
          "contourcarpet": [
           {
            "colorbar": {
             "outlinewidth": 0,
             "ticks": ""
            },
            "type": "contourcarpet"
           }
          ],
          "heatmap": [
           {
            "colorbar": {
             "outlinewidth": 0,
             "ticks": ""
            },
            "colorscale": [
             [
              0,
              "#0d0887"
             ],
             [
              0.1111111111111111,
              "#46039f"
             ],
             [
              0.2222222222222222,
              "#7201a8"
             ],
             [
              0.3333333333333333,
              "#9c179e"
             ],
             [
              0.4444444444444444,
              "#bd3786"
             ],
             [
              0.5555555555555556,
              "#d8576b"
             ],
             [
              0.6666666666666666,
              "#ed7953"
             ],
             [
              0.7777777777777778,
              "#fb9f3a"
             ],
             [
              0.8888888888888888,
              "#fdca26"
             ],
             [
              1,
              "#f0f921"
             ]
            ],
            "type": "heatmap"
           }
          ],
          "heatmapgl": [
           {
            "colorbar": {
             "outlinewidth": 0,
             "ticks": ""
            },
            "colorscale": [
             [
              0,
              "#0d0887"
             ],
             [
              0.1111111111111111,
              "#46039f"
             ],
             [
              0.2222222222222222,
              "#7201a8"
             ],
             [
              0.3333333333333333,
              "#9c179e"
             ],
             [
              0.4444444444444444,
              "#bd3786"
             ],
             [
              0.5555555555555556,
              "#d8576b"
             ],
             [
              0.6666666666666666,
              "#ed7953"
             ],
             [
              0.7777777777777778,
              "#fb9f3a"
             ],
             [
              0.8888888888888888,
              "#fdca26"
             ],
             [
              1,
              "#f0f921"
             ]
            ],
            "type": "heatmapgl"
           }
          ],
          "histogram": [
           {
            "marker": {
             "pattern": {
              "fillmode": "overlay",
              "size": 10,
              "solidity": 0.2
             }
            },
            "type": "histogram"
           }
          ],
          "histogram2d": [
           {
            "colorbar": {
             "outlinewidth": 0,
             "ticks": ""
            },
            "colorscale": [
             [
              0,
              "#0d0887"
             ],
             [
              0.1111111111111111,
              "#46039f"
             ],
             [
              0.2222222222222222,
              "#7201a8"
             ],
             [
              0.3333333333333333,
              "#9c179e"
             ],
             [
              0.4444444444444444,
              "#bd3786"
             ],
             [
              0.5555555555555556,
              "#d8576b"
             ],
             [
              0.6666666666666666,
              "#ed7953"
             ],
             [
              0.7777777777777778,
              "#fb9f3a"
             ],
             [
              0.8888888888888888,
              "#fdca26"
             ],
             [
              1,
              "#f0f921"
             ]
            ],
            "type": "histogram2d"
           }
          ],
          "histogram2dcontour": [
           {
            "colorbar": {
             "outlinewidth": 0,
             "ticks": ""
            },
            "colorscale": [
             [
              0,
              "#0d0887"
             ],
             [
              0.1111111111111111,
              "#46039f"
             ],
             [
              0.2222222222222222,
              "#7201a8"
             ],
             [
              0.3333333333333333,
              "#9c179e"
             ],
             [
              0.4444444444444444,
              "#bd3786"
             ],
             [
              0.5555555555555556,
              "#d8576b"
             ],
             [
              0.6666666666666666,
              "#ed7953"
             ],
             [
              0.7777777777777778,
              "#fb9f3a"
             ],
             [
              0.8888888888888888,
              "#fdca26"
             ],
             [
              1,
              "#f0f921"
             ]
            ],
            "type": "histogram2dcontour"
           }
          ],
          "mesh3d": [
           {
            "colorbar": {
             "outlinewidth": 0,
             "ticks": ""
            },
            "type": "mesh3d"
           }
          ],
          "parcoords": [
           {
            "line": {
             "colorbar": {
              "outlinewidth": 0,
              "ticks": ""
             }
            },
            "type": "parcoords"
           }
          ],
          "pie": [
           {
            "automargin": true,
            "type": "pie"
           }
          ],
          "scatter": [
           {
            "marker": {
             "colorbar": {
              "outlinewidth": 0,
              "ticks": ""
             }
            },
            "type": "scatter"
           }
          ],
          "scatter3d": [
           {
            "line": {
             "colorbar": {
              "outlinewidth": 0,
              "ticks": ""
             }
            },
            "marker": {
             "colorbar": {
              "outlinewidth": 0,
              "ticks": ""
             }
            },
            "type": "scatter3d"
           }
          ],
          "scattercarpet": [
           {
            "marker": {
             "colorbar": {
              "outlinewidth": 0,
              "ticks": ""
             }
            },
            "type": "scattercarpet"
           }
          ],
          "scattergeo": [
           {
            "marker": {
             "colorbar": {
              "outlinewidth": 0,
              "ticks": ""
             }
            },
            "type": "scattergeo"
           }
          ],
          "scattergl": [
           {
            "marker": {
             "colorbar": {
              "outlinewidth": 0,
              "ticks": ""
             }
            },
            "type": "scattergl"
           }
          ],
          "scattermapbox": [
           {
            "marker": {
             "colorbar": {
              "outlinewidth": 0,
              "ticks": ""
             }
            },
            "type": "scattermapbox"
           }
          ],
          "scatterpolar": [
           {
            "marker": {
             "colorbar": {
              "outlinewidth": 0,
              "ticks": ""
             }
            },
            "type": "scatterpolar"
           }
          ],
          "scatterpolargl": [
           {
            "marker": {
             "colorbar": {
              "outlinewidth": 0,
              "ticks": ""
             }
            },
            "type": "scatterpolargl"
           }
          ],
          "scatterternary": [
           {
            "marker": {
             "colorbar": {
              "outlinewidth": 0,
              "ticks": ""
             }
            },
            "type": "scatterternary"
           }
          ],
          "surface": [
           {
            "colorbar": {
             "outlinewidth": 0,
             "ticks": ""
            },
            "colorscale": [
             [
              0,
              "#0d0887"
             ],
             [
              0.1111111111111111,
              "#46039f"
             ],
             [
              0.2222222222222222,
              "#7201a8"
             ],
             [
              0.3333333333333333,
              "#9c179e"
             ],
             [
              0.4444444444444444,
              "#bd3786"
             ],
             [
              0.5555555555555556,
              "#d8576b"
             ],
             [
              0.6666666666666666,
              "#ed7953"
             ],
             [
              0.7777777777777778,
              "#fb9f3a"
             ],
             [
              0.8888888888888888,
              "#fdca26"
             ],
             [
              1,
              "#f0f921"
             ]
            ],
            "type": "surface"
           }
          ],
          "table": [
           {
            "cells": {
             "fill": {
              "color": "#EBF0F8"
             },
             "line": {
              "color": "white"
             }
            },
            "header": {
             "fill": {
              "color": "#C8D4E3"
             },
             "line": {
              "color": "white"
             }
            },
            "type": "table"
           }
          ]
         },
         "layout": {
          "annotationdefaults": {
           "arrowcolor": "#2a3f5f",
           "arrowhead": 0,
           "arrowwidth": 1
          },
          "autotypenumbers": "strict",
          "coloraxis": {
           "colorbar": {
            "outlinewidth": 0,
            "ticks": ""
           }
          },
          "colorscale": {
           "diverging": [
            [
             0,
             "#8e0152"
            ],
            [
             0.1,
             "#c51b7d"
            ],
            [
             0.2,
             "#de77ae"
            ],
            [
             0.3,
             "#f1b6da"
            ],
            [
             0.4,
             "#fde0ef"
            ],
            [
             0.5,
             "#f7f7f7"
            ],
            [
             0.6,
             "#e6f5d0"
            ],
            [
             0.7,
             "#b8e186"
            ],
            [
             0.8,
             "#7fbc41"
            ],
            [
             0.9,
             "#4d9221"
            ],
            [
             1,
             "#276419"
            ]
           ],
           "sequential": [
            [
             0,
             "#0d0887"
            ],
            [
             0.1111111111111111,
             "#46039f"
            ],
            [
             0.2222222222222222,
             "#7201a8"
            ],
            [
             0.3333333333333333,
             "#9c179e"
            ],
            [
             0.4444444444444444,
             "#bd3786"
            ],
            [
             0.5555555555555556,
             "#d8576b"
            ],
            [
             0.6666666666666666,
             "#ed7953"
            ],
            [
             0.7777777777777778,
             "#fb9f3a"
            ],
            [
             0.8888888888888888,
             "#fdca26"
            ],
            [
             1,
             "#f0f921"
            ]
           ],
           "sequentialminus": [
            [
             0,
             "#0d0887"
            ],
            [
             0.1111111111111111,
             "#46039f"
            ],
            [
             0.2222222222222222,
             "#7201a8"
            ],
            [
             0.3333333333333333,
             "#9c179e"
            ],
            [
             0.4444444444444444,
             "#bd3786"
            ],
            [
             0.5555555555555556,
             "#d8576b"
            ],
            [
             0.6666666666666666,
             "#ed7953"
            ],
            [
             0.7777777777777778,
             "#fb9f3a"
            ],
            [
             0.8888888888888888,
             "#fdca26"
            ],
            [
             1,
             "#f0f921"
            ]
           ]
          },
          "colorway": [
           "#636efa",
           "#EF553B",
           "#00cc96",
           "#ab63fa",
           "#FFA15A",
           "#19d3f3",
           "#FF6692",
           "#B6E880",
           "#FF97FF",
           "#FECB52"
          ],
          "font": {
           "color": "#2a3f5f"
          },
          "geo": {
           "bgcolor": "white",
           "lakecolor": "white",
           "landcolor": "#E5ECF6",
           "showlakes": true,
           "showland": true,
           "subunitcolor": "white"
          },
          "hoverlabel": {
           "align": "left"
          },
          "hovermode": "closest",
          "mapbox": {
           "style": "light"
          },
          "paper_bgcolor": "white",
          "plot_bgcolor": "#E5ECF6",
          "polar": {
           "angularaxis": {
            "gridcolor": "white",
            "linecolor": "white",
            "ticks": ""
           },
           "bgcolor": "#E5ECF6",
           "radialaxis": {
            "gridcolor": "white",
            "linecolor": "white",
            "ticks": ""
           }
          },
          "scene": {
           "xaxis": {
            "backgroundcolor": "#E5ECF6",
            "gridcolor": "white",
            "gridwidth": 2,
            "linecolor": "white",
            "showbackground": true,
            "ticks": "",
            "zerolinecolor": "white"
           },
           "yaxis": {
            "backgroundcolor": "#E5ECF6",
            "gridcolor": "white",
            "gridwidth": 2,
            "linecolor": "white",
            "showbackground": true,
            "ticks": "",
            "zerolinecolor": "white"
           },
           "zaxis": {
            "backgroundcolor": "#E5ECF6",
            "gridcolor": "white",
            "gridwidth": 2,
            "linecolor": "white",
            "showbackground": true,
            "ticks": "",
            "zerolinecolor": "white"
           }
          },
          "shapedefaults": {
           "line": {
            "color": "#2a3f5f"
           }
          },
          "ternary": {
           "aaxis": {
            "gridcolor": "white",
            "linecolor": "white",
            "ticks": ""
           },
           "baxis": {
            "gridcolor": "white",
            "linecolor": "white",
            "ticks": ""
           },
           "bgcolor": "#E5ECF6",
           "caxis": {
            "gridcolor": "white",
            "linecolor": "white",
            "ticks": ""
           }
          },
          "title": {
           "x": 0.05
          },
          "xaxis": {
           "automargin": true,
           "gridcolor": "white",
           "linecolor": "white",
           "ticks": "",
           "title": {
            "standoff": 15
           },
           "zerolinecolor": "white",
           "zerolinewidth": 2
          },
          "yaxis": {
           "automargin": true,
           "gridcolor": "white",
           "linecolor": "white",
           "ticks": "",
           "title": {
            "standoff": 15
           },
           "zerolinecolor": "white",
           "zerolinewidth": 2
          }
         }
        }
       }
      },
      "text/html": [
       "<div>                            <div id=\"0f3bd023-12d9-42a7-a4df-7ac2c9a67b11\" class=\"plotly-graph-div\" style=\"height:525px; width:100%;\"></div>            <script type=\"text/javascript\">                require([\"plotly\"], function(Plotly) {                    window.PLOTLYENV=window.PLOTLYENV || {};                                    if (document.getElementById(\"0f3bd023-12d9-42a7-a4df-7ac2c9a67b11\")) {                    Plotly.newPlot(                        \"0f3bd023-12d9-42a7-a4df-7ac2c9a67b11\",                        [{\"x\":[[0.0,0.0625,0.1875,0.3125,0.4375,0.5625,0.6875,0.8125,0.9375,1.0],[0.0,0.0625,0.1875,0.3125,0.4375,0.5625,0.6875,0.8125,0.9375,1.0],[0.0,0.0625,0.1875,0.3125,0.4375,0.5625,0.6875,0.8125,0.9375,1.0],[0.0,0.0625,0.1875,0.3125,0.4375,0.5625,0.6875,0.8125,0.9375,1.0],[0.0,0.0625,0.1875,0.3125,0.4375,0.5625,0.6875,0.8125,0.9375,1.0],[0.0,0.0625,0.1875,0.3125,0.4375,0.5625,0.6875,0.8125,0.9375,1.0],[0.0,0.0625,0.1875,0.3125,0.4375,0.5625,0.6875,0.8125,0.9375,1.0],[0.0,0.0625,0.1875,0.3125,0.4375,0.5625,0.6875,0.8125,0.9375,1.0],[0.0,0.0625,0.1875,0.3125,0.4375,0.5625,0.6875,0.8125,0.9375,1.0],[0.0,0.0625,0.1875,0.3125,0.4375,0.5625,0.6875,0.8125,0.9375,1.0]],\"y\":[[0.0,0.0,0.0,0.0,0.0,0.0,0.0,0.0,0.0,0.0],[0.0625,0.0625,0.0625,0.0625,0.0625,0.0625,0.0625,0.0625,0.0625,0.0625],[0.1875,0.1875,0.1875,0.1875,0.1875,0.1875,0.1875,0.1875,0.1875,0.1875],[0.3125,0.3125,0.3125,0.3125,0.3125,0.3125,0.3125,0.3125,0.3125,0.3125],[0.4375,0.4375,0.4375,0.4375,0.4375,0.4375,0.4375,0.4375,0.4375,0.4375],[0.5625,0.5625,0.5625,0.5625,0.5625,0.5625,0.5625,0.5625,0.5625,0.5625],[0.6875,0.6875,0.6875,0.6875,0.6875,0.6875,0.6875,0.6875,0.6875,0.6875],[0.8125,0.8125,0.8125,0.8125,0.8125,0.8125,0.8125,0.8125,0.8125,0.8125],[0.9375,0.9375,0.9375,0.9375,0.9375,0.9375,0.9375,0.9375,0.9375,0.9375],[1.0,1.0,1.0,1.0,1.0,1.0,1.0,1.0,1.0,1.0]],\"z\":[[0.0,-3.124261264732297e-06,-5.537102405064438e-06,-7.991172030342855e-06,-1.0048013505474275e-05,-1.1733960653921733e-05,-1.305508516200947e-05,-1.4007030807473446e-05,-1.4813826525571821e-05,-1.3734737112248498e-05],[1.2917943032724517e-20,-1.3720066386485895e-06,-4.047168593461762e-06,-6.257562531471847e-06,-8.097931698318096e-06,-9.577166689309213e-06,-1.0707134410695201e-05,-1.1502648160097047e-05,-1.1918532640394488e-05,-1.2036577496228272e-05],[5.480667044009481e-20,-6.959751963323748e-07,-2.2999046761506836e-06,-3.816252287740346e-06,-5.104441218608026e-06,-6.130500760704662e-06,-6.8841027972687015e-06,-7.373012284872485e-06,-7.67028602250686e-06,-7.789112515449919e-06],[-7.458895977054323e-21,-3.6881005950933423e-07,-1.2063281171079554e-06,-2.048442645538147e-06,-2.7892306154552337e-06,-3.3800654370792183e-06,-3.802796866225969e-06,-4.06584872490318e-06,-4.233628844988082e-06,-4.353760604304904e-06],[1.1451837573466557e-20,-1.1711742572195107e-07,-3.777922908126914e-07,-6.449831523199774e-07,-8.843576382592538e-07,-1.0759113239883818e-06,-1.2115456030010875e-06,-1.2949461969772492e-06,-1.3514602505642143e-06,-1.3945289568739059e-06],[-2.7079035394958087e-20,1.1711742573838683e-07,3.7779229086298516e-07,6.449831524083475e-07,8.843576383893274e-07,1.0759113241632209e-06,1.2115456032252814e-06,1.2949461972607435e-06,1.3514602509269326e-06,1.3945289572910124e-06],[1.859318997178759e-20,3.6881005953025457e-07,1.206328117175767e-06,2.04844264565796e-06,2.7892306156299775e-06,3.380065437310695e-06,3.8027968665166525e-06,4.065848725259527e-06,4.23362884542572e-06,4.353760604797148e-06],[9.080395102500916e-21,6.959751963630341e-07,2.2999046762558224e-06,3.816252287924698e-06,5.1044412188728675e-06,6.130500761050453e-06,6.884102797695851e-06,7.373012285382722e-06,7.67028602310825e-06,7.789112516096757e-06],[-1.0809994169643947e-21,1.372006638701083e-06,4.047168593631574e-06,6.257562531756648e-06,8.09793169871778e-06,9.577166689824773e-06,1.0707134411328704e-05,1.1502648160849683e-05,1.1918532641252007e-05,1.2036577497133274e-05],[0.0,3.1242612648514667e-06,5.537102405318093e-06,7.991172030745133e-06,1.0048013506021692e-05,1.1733960654614431e-05,1.3055085162851104e-05,1.400703080845971e-05,1.4813826526691105e-05,1.3734737113169447e-05]],\"type\":\"surface\"}],                        {\"template\":{\"data\":{\"bar\":[{\"error_x\":{\"color\":\"#2a3f5f\"},\"error_y\":{\"color\":\"#2a3f5f\"},\"marker\":{\"line\":{\"color\":\"#E5ECF6\",\"width\":0.5},\"pattern\":{\"fillmode\":\"overlay\",\"size\":10,\"solidity\":0.2}},\"type\":\"bar\"}],\"barpolar\":[{\"marker\":{\"line\":{\"color\":\"#E5ECF6\",\"width\":0.5},\"pattern\":{\"fillmode\":\"overlay\",\"size\":10,\"solidity\":0.2}},\"type\":\"barpolar\"}],\"carpet\":[{\"aaxis\":{\"endlinecolor\":\"#2a3f5f\",\"gridcolor\":\"white\",\"linecolor\":\"white\",\"minorgridcolor\":\"white\",\"startlinecolor\":\"#2a3f5f\"},\"baxis\":{\"endlinecolor\":\"#2a3f5f\",\"gridcolor\":\"white\",\"linecolor\":\"white\",\"minorgridcolor\":\"white\",\"startlinecolor\":\"#2a3f5f\"},\"type\":\"carpet\"}],\"choropleth\":[{\"colorbar\":{\"outlinewidth\":0,\"ticks\":\"\"},\"type\":\"choropleth\"}],\"contour\":[{\"colorbar\":{\"outlinewidth\":0,\"ticks\":\"\"},\"colorscale\":[[0.0,\"#0d0887\"],[0.1111111111111111,\"#46039f\"],[0.2222222222222222,\"#7201a8\"],[0.3333333333333333,\"#9c179e\"],[0.4444444444444444,\"#bd3786\"],[0.5555555555555556,\"#d8576b\"],[0.6666666666666666,\"#ed7953\"],[0.7777777777777778,\"#fb9f3a\"],[0.8888888888888888,\"#fdca26\"],[1.0,\"#f0f921\"]],\"type\":\"contour\"}],\"contourcarpet\":[{\"colorbar\":{\"outlinewidth\":0,\"ticks\":\"\"},\"type\":\"contourcarpet\"}],\"heatmap\":[{\"colorbar\":{\"outlinewidth\":0,\"ticks\":\"\"},\"colorscale\":[[0.0,\"#0d0887\"],[0.1111111111111111,\"#46039f\"],[0.2222222222222222,\"#7201a8\"],[0.3333333333333333,\"#9c179e\"],[0.4444444444444444,\"#bd3786\"],[0.5555555555555556,\"#d8576b\"],[0.6666666666666666,\"#ed7953\"],[0.7777777777777778,\"#fb9f3a\"],[0.8888888888888888,\"#fdca26\"],[1.0,\"#f0f921\"]],\"type\":\"heatmap\"}],\"heatmapgl\":[{\"colorbar\":{\"outlinewidth\":0,\"ticks\":\"\"},\"colorscale\":[[0.0,\"#0d0887\"],[0.1111111111111111,\"#46039f\"],[0.2222222222222222,\"#7201a8\"],[0.3333333333333333,\"#9c179e\"],[0.4444444444444444,\"#bd3786\"],[0.5555555555555556,\"#d8576b\"],[0.6666666666666666,\"#ed7953\"],[0.7777777777777778,\"#fb9f3a\"],[0.8888888888888888,\"#fdca26\"],[1.0,\"#f0f921\"]],\"type\":\"heatmapgl\"}],\"histogram\":[{\"marker\":{\"pattern\":{\"fillmode\":\"overlay\",\"size\":10,\"solidity\":0.2}},\"type\":\"histogram\"}],\"histogram2d\":[{\"colorbar\":{\"outlinewidth\":0,\"ticks\":\"\"},\"colorscale\":[[0.0,\"#0d0887\"],[0.1111111111111111,\"#46039f\"],[0.2222222222222222,\"#7201a8\"],[0.3333333333333333,\"#9c179e\"],[0.4444444444444444,\"#bd3786\"],[0.5555555555555556,\"#d8576b\"],[0.6666666666666666,\"#ed7953\"],[0.7777777777777778,\"#fb9f3a\"],[0.8888888888888888,\"#fdca26\"],[1.0,\"#f0f921\"]],\"type\":\"histogram2d\"}],\"histogram2dcontour\":[{\"colorbar\":{\"outlinewidth\":0,\"ticks\":\"\"},\"colorscale\":[[0.0,\"#0d0887\"],[0.1111111111111111,\"#46039f\"],[0.2222222222222222,\"#7201a8\"],[0.3333333333333333,\"#9c179e\"],[0.4444444444444444,\"#bd3786\"],[0.5555555555555556,\"#d8576b\"],[0.6666666666666666,\"#ed7953\"],[0.7777777777777778,\"#fb9f3a\"],[0.8888888888888888,\"#fdca26\"],[1.0,\"#f0f921\"]],\"type\":\"histogram2dcontour\"}],\"mesh3d\":[{\"colorbar\":{\"outlinewidth\":0,\"ticks\":\"\"},\"type\":\"mesh3d\"}],\"parcoords\":[{\"line\":{\"colorbar\":{\"outlinewidth\":0,\"ticks\":\"\"}},\"type\":\"parcoords\"}],\"pie\":[{\"automargin\":true,\"type\":\"pie\"}],\"scatter\":[{\"marker\":{\"colorbar\":{\"outlinewidth\":0,\"ticks\":\"\"}},\"type\":\"scatter\"}],\"scatter3d\":[{\"line\":{\"colorbar\":{\"outlinewidth\":0,\"ticks\":\"\"}},\"marker\":{\"colorbar\":{\"outlinewidth\":0,\"ticks\":\"\"}},\"type\":\"scatter3d\"}],\"scattercarpet\":[{\"marker\":{\"colorbar\":{\"outlinewidth\":0,\"ticks\":\"\"}},\"type\":\"scattercarpet\"}],\"scattergeo\":[{\"marker\":{\"colorbar\":{\"outlinewidth\":0,\"ticks\":\"\"}},\"type\":\"scattergeo\"}],\"scattergl\":[{\"marker\":{\"colorbar\":{\"outlinewidth\":0,\"ticks\":\"\"}},\"type\":\"scattergl\"}],\"scattermapbox\":[{\"marker\":{\"colorbar\":{\"outlinewidth\":0,\"ticks\":\"\"}},\"type\":\"scattermapbox\"}],\"scatterpolar\":[{\"marker\":{\"colorbar\":{\"outlinewidth\":0,\"ticks\":\"\"}},\"type\":\"scatterpolar\"}],\"scatterpolargl\":[{\"marker\":{\"colorbar\":{\"outlinewidth\":0,\"ticks\":\"\"}},\"type\":\"scatterpolargl\"}],\"scatterternary\":[{\"marker\":{\"colorbar\":{\"outlinewidth\":0,\"ticks\":\"\"}},\"type\":\"scatterternary\"}],\"surface\":[{\"colorbar\":{\"outlinewidth\":0,\"ticks\":\"\"},\"colorscale\":[[0.0,\"#0d0887\"],[0.1111111111111111,\"#46039f\"],[0.2222222222222222,\"#7201a8\"],[0.3333333333333333,\"#9c179e\"],[0.4444444444444444,\"#bd3786\"],[0.5555555555555556,\"#d8576b\"],[0.6666666666666666,\"#ed7953\"],[0.7777777777777778,\"#fb9f3a\"],[0.8888888888888888,\"#fdca26\"],[1.0,\"#f0f921\"]],\"type\":\"surface\"}],\"table\":[{\"cells\":{\"fill\":{\"color\":\"#EBF0F8\"},\"line\":{\"color\":\"white\"}},\"header\":{\"fill\":{\"color\":\"#C8D4E3\"},\"line\":{\"color\":\"white\"}},\"type\":\"table\"}]},\"layout\":{\"annotationdefaults\":{\"arrowcolor\":\"#2a3f5f\",\"arrowhead\":0,\"arrowwidth\":1},\"autotypenumbers\":\"strict\",\"coloraxis\":{\"colorbar\":{\"outlinewidth\":0,\"ticks\":\"\"}},\"colorscale\":{\"diverging\":[[0,\"#8e0152\"],[0.1,\"#c51b7d\"],[0.2,\"#de77ae\"],[0.3,\"#f1b6da\"],[0.4,\"#fde0ef\"],[0.5,\"#f7f7f7\"],[0.6,\"#e6f5d0\"],[0.7,\"#b8e186\"],[0.8,\"#7fbc41\"],[0.9,\"#4d9221\"],[1,\"#276419\"]],\"sequential\":[[0.0,\"#0d0887\"],[0.1111111111111111,\"#46039f\"],[0.2222222222222222,\"#7201a8\"],[0.3333333333333333,\"#9c179e\"],[0.4444444444444444,\"#bd3786\"],[0.5555555555555556,\"#d8576b\"],[0.6666666666666666,\"#ed7953\"],[0.7777777777777778,\"#fb9f3a\"],[0.8888888888888888,\"#fdca26\"],[1.0,\"#f0f921\"]],\"sequentialminus\":[[0.0,\"#0d0887\"],[0.1111111111111111,\"#46039f\"],[0.2222222222222222,\"#7201a8\"],[0.3333333333333333,\"#9c179e\"],[0.4444444444444444,\"#bd3786\"],[0.5555555555555556,\"#d8576b\"],[0.6666666666666666,\"#ed7953\"],[0.7777777777777778,\"#fb9f3a\"],[0.8888888888888888,\"#fdca26\"],[1.0,\"#f0f921\"]]},\"colorway\":[\"#636efa\",\"#EF553B\",\"#00cc96\",\"#ab63fa\",\"#FFA15A\",\"#19d3f3\",\"#FF6692\",\"#B6E880\",\"#FF97FF\",\"#FECB52\"],\"font\":{\"color\":\"#2a3f5f\"},\"geo\":{\"bgcolor\":\"white\",\"lakecolor\":\"white\",\"landcolor\":\"#E5ECF6\",\"showlakes\":true,\"showland\":true,\"subunitcolor\":\"white\"},\"hoverlabel\":{\"align\":\"left\"},\"hovermode\":\"closest\",\"mapbox\":{\"style\":\"light\"},\"paper_bgcolor\":\"white\",\"plot_bgcolor\":\"#E5ECF6\",\"polar\":{\"angularaxis\":{\"gridcolor\":\"white\",\"linecolor\":\"white\",\"ticks\":\"\"},\"bgcolor\":\"#E5ECF6\",\"radialaxis\":{\"gridcolor\":\"white\",\"linecolor\":\"white\",\"ticks\":\"\"}},\"scene\":{\"xaxis\":{\"backgroundcolor\":\"#E5ECF6\",\"gridcolor\":\"white\",\"gridwidth\":2,\"linecolor\":\"white\",\"showbackground\":true,\"ticks\":\"\",\"zerolinecolor\":\"white\"},\"yaxis\":{\"backgroundcolor\":\"#E5ECF6\",\"gridcolor\":\"white\",\"gridwidth\":2,\"linecolor\":\"white\",\"showbackground\":true,\"ticks\":\"\",\"zerolinecolor\":\"white\"},\"zaxis\":{\"backgroundcolor\":\"#E5ECF6\",\"gridcolor\":\"white\",\"gridwidth\":2,\"linecolor\":\"white\",\"showbackground\":true,\"ticks\":\"\",\"zerolinecolor\":\"white\"}},\"shapedefaults\":{\"line\":{\"color\":\"#2a3f5f\"}},\"ternary\":{\"aaxis\":{\"gridcolor\":\"white\",\"linecolor\":\"white\",\"ticks\":\"\"},\"baxis\":{\"gridcolor\":\"white\",\"linecolor\":\"white\",\"ticks\":\"\"},\"bgcolor\":\"#E5ECF6\",\"caxis\":{\"gridcolor\":\"white\",\"linecolor\":\"white\",\"ticks\":\"\"}},\"title\":{\"x\":0.05},\"xaxis\":{\"automargin\":true,\"gridcolor\":\"white\",\"linecolor\":\"white\",\"ticks\":\"\",\"title\":{\"standoff\":15},\"zerolinecolor\":\"white\",\"zerolinewidth\":2},\"yaxis\":{\"automargin\":true,\"gridcolor\":\"white\",\"linecolor\":\"white\",\"ticks\":\"\",\"title\":{\"standoff\":15},\"zerolinecolor\":\"white\",\"zerolinewidth\":2}}}},                        {\"responsive\": true}                    ).then(function(){\n",
       "                            \n",
       "var gd = document.getElementById('0f3bd023-12d9-42a7-a4df-7ac2c9a67b11');\n",
       "var x = new MutationObserver(function (mutations, observer) {{\n",
       "        var display = window.getComputedStyle(gd).display;\n",
       "        if (!display || display === 'none') {{\n",
       "            console.log([gd, 'removed!']);\n",
       "            Plotly.purge(gd);\n",
       "            observer.disconnect();\n",
       "        }}\n",
       "}});\n",
       "\n",
       "// Listen for the removal of the full notebook cells\n",
       "var notebookContainer = gd.closest('#notebook-container');\n",
       "if (notebookContainer) {{\n",
       "    x.observe(notebookContainer, {childList: true});\n",
       "}}\n",
       "\n",
       "// Listen for the clearing of the current output cell\n",
       "var outputEl = gd.closest('.output');\n",
       "if (outputEl) {{\n",
       "    x.observe(outputEl, {childList: true});\n",
       "}}\n",
       "\n",
       "                        })                };                });            </script>        </div>"
      ]
     },
     "metadata": {},
     "output_type": "display_data"
    },
    {
     "name": "stdout",
     "output_type": "stream",
     "text": [
      "V graph\n"
     ]
    },
    {
     "data": {
      "application/vnd.plotly.v1+json": {
       "config": {
        "plotlyServerURL": "https://plot.ly"
       },
       "data": [
        {
         "type": "surface",
         "x": [
          [
           0,
           0.0625,
           0.1875,
           0.3125,
           0.4375,
           0.5625,
           0.6875,
           0.8125,
           0.9375,
           1
          ],
          [
           0,
           0.0625,
           0.1875,
           0.3125,
           0.4375,
           0.5625,
           0.6875,
           0.8125,
           0.9375,
           1
          ],
          [
           0,
           0.0625,
           0.1875,
           0.3125,
           0.4375,
           0.5625,
           0.6875,
           0.8125,
           0.9375,
           1
          ],
          [
           0,
           0.0625,
           0.1875,
           0.3125,
           0.4375,
           0.5625,
           0.6875,
           0.8125,
           0.9375,
           1
          ],
          [
           0,
           0.0625,
           0.1875,
           0.3125,
           0.4375,
           0.5625,
           0.6875,
           0.8125,
           0.9375,
           1
          ],
          [
           0,
           0.0625,
           0.1875,
           0.3125,
           0.4375,
           0.5625,
           0.6875,
           0.8125,
           0.9375,
           1
          ],
          [
           0,
           0.0625,
           0.1875,
           0.3125,
           0.4375,
           0.5625,
           0.6875,
           0.8125,
           0.9375,
           1
          ],
          [
           0,
           0.0625,
           0.1875,
           0.3125,
           0.4375,
           0.5625,
           0.6875,
           0.8125,
           0.9375,
           1
          ],
          [
           0,
           0.0625,
           0.1875,
           0.3125,
           0.4375,
           0.5625,
           0.6875,
           0.8125,
           0.9375,
           1
          ],
          [
           0,
           0.0625,
           0.1875,
           0.3125,
           0.4375,
           0.5625,
           0.6875,
           0.8125,
           0.9375,
           1
          ]
         ],
         "y": [
          [
           0,
           0,
           0,
           0,
           0,
           0,
           0,
           0,
           0,
           0
          ],
          [
           0.0625,
           0.0625,
           0.0625,
           0.0625,
           0.0625,
           0.0625,
           0.0625,
           0.0625,
           0.0625,
           0.0625
          ],
          [
           0.1875,
           0.1875,
           0.1875,
           0.1875,
           0.1875,
           0.1875,
           0.1875,
           0.1875,
           0.1875,
           0.1875
          ],
          [
           0.3125,
           0.3125,
           0.3125,
           0.3125,
           0.3125,
           0.3125,
           0.3125,
           0.3125,
           0.3125,
           0.3125
          ],
          [
           0.4375,
           0.4375,
           0.4375,
           0.4375,
           0.4375,
           0.4375,
           0.4375,
           0.4375,
           0.4375,
           0.4375
          ],
          [
           0.5625,
           0.5625,
           0.5625,
           0.5625,
           0.5625,
           0.5625,
           0.5625,
           0.5625,
           0.5625,
           0.5625
          ],
          [
           0.6875,
           0.6875,
           0.6875,
           0.6875,
           0.6875,
           0.6875,
           0.6875,
           0.6875,
           0.6875,
           0.6875
          ],
          [
           0.8125,
           0.8125,
           0.8125,
           0.8125,
           0.8125,
           0.8125,
           0.8125,
           0.8125,
           0.8125,
           0.8125
          ],
          [
           0.9375,
           0.9375,
           0.9375,
           0.9375,
           0.9375,
           0.9375,
           0.9375,
           0.9375,
           0.9375,
           0.9375
          ],
          [
           1,
           1,
           1,
           1,
           1,
           1,
           1,
           1,
           1,
           1
          ]
         ],
         "z": [
          [
           0,
           -0.0000021517780050026724,
           -0.000004857240499332175,
           -0.00000811151325141337,
           -0.000011791678494816215,
           -0.000015911840480038106,
           -0.000020418854353266322,
           -0.0000253036434852952,
           -0.00003043638494277195,
           -0.000033660601984388254
          ],
          [
           -3.6321580410003663e-20,
           -0.0000012237747546673264,
           -0.000004335785774445339,
           -0.000007628201347798042,
           -0.000011390665428004203,
           -0.00001558965423112363,
           -0.00002017531112252865,
           -0.000025115206910627814,
           -0.0000305811759901164,
           -0.000033304622043718616
          ],
          [
           4.1618477553129197e-20,
           -7.685778892674044e-7,
           -0.0000035499016384698758,
           -0.000006914157147611382,
           -0.000010794583276395348,
           -0.000015125033824381674,
           -0.00001983311164090038,
           -0.000024859438470299437,
           -0.000030181625714315943,
           -0.0000329148299376891
          ],
          [
           -1.0593794286251068e-20,
           -6.44339666873388e-7,
           -0.0000031699519514807916,
           -0.000006493325163244631,
           -0.000010424919604223619,
           -0.000014837455279118327,
           -0.000019621358899735825,
           -0.0000246585257329079,
           -0.000029784428886484797,
           -0.000032195574776515966
          ],
          [
           -2.5727786123752595e-20,
           -6.132938595324426e-7,
           -0.00000302500124138677,
           -0.0000063090678186212955,
           -0.000010254151553660164,
           -0.000014703142173964872,
           -0.000019520009278913798,
           -0.00002454766528080042,
           -0.00002954402779342916,
           -0.000031793600184212176
          ],
          [
           2.307933755218983e-20,
           -6.132938595310164e-7,
           -0.0000030250012413898884,
           -0.000006309067818632183,
           -0.000010254151553680972,
           -0.000014703142173998321,
           -0.00001952000927896441,
           -0.0000245476652808753,
           -0.000029544027793537224,
           -0.00003179360018433903
          ],
          [
           -1.7404090613126755e-20,
           -6.443396668709439e-7,
           -0.0000031699519514940388,
           -0.00000649332516328153,
           -0.000010424919604289775,
           -0.000014837455279221274,
           -0.00001962135889988852,
           -0.000024658525733131495,
           -0.000029784428886808163,
           -0.00003219557477689676
          ],
          [
           -2.0809238776564598e-21,
           -7.685778892703554e-7,
           -0.000003549901638505573,
           -0.000006914157147686962,
           -0.000010794583276518093,
           -0.000015125033824562593,
           -0.000019833111641159074,
           -0.00002485943847066989,
           -0.00003018162571484924,
           -0.00003291482993832559
          ],
          [
           9.080395102500916e-21,
           -0.0000012237747546918283,
           -0.000004335785774525272,
           -0.00000762820134793217,
           -0.000011390665428201669,
           -0.000015589654231397968,
           -0.000020175311122903684,
           -0.0000251152069111443,
           -0.00003058117599084887,
           -0.000033304622044523595
          ],
          [
           0,
           -0.0000021517780050716683,
           -0.000004857240499458545,
           -0.000008111513251607306,
           -0.000011791678495087104,
           -0.000015911840480401873,
           -0.00002041885435374775,
           -0.00002530364348593472,
           -0.000030436384943589755,
           -0.000033660601985330575
          ]
         ]
        }
       ],
       "layout": {
        "template": {
         "data": {
          "bar": [
           {
            "error_x": {
             "color": "#2a3f5f"
            },
            "error_y": {
             "color": "#2a3f5f"
            },
            "marker": {
             "line": {
              "color": "#E5ECF6",
              "width": 0.5
             },
             "pattern": {
              "fillmode": "overlay",
              "size": 10,
              "solidity": 0.2
             }
            },
            "type": "bar"
           }
          ],
          "barpolar": [
           {
            "marker": {
             "line": {
              "color": "#E5ECF6",
              "width": 0.5
             },
             "pattern": {
              "fillmode": "overlay",
              "size": 10,
              "solidity": 0.2
             }
            },
            "type": "barpolar"
           }
          ],
          "carpet": [
           {
            "aaxis": {
             "endlinecolor": "#2a3f5f",
             "gridcolor": "white",
             "linecolor": "white",
             "minorgridcolor": "white",
             "startlinecolor": "#2a3f5f"
            },
            "baxis": {
             "endlinecolor": "#2a3f5f",
             "gridcolor": "white",
             "linecolor": "white",
             "minorgridcolor": "white",
             "startlinecolor": "#2a3f5f"
            },
            "type": "carpet"
           }
          ],
          "choropleth": [
           {
            "colorbar": {
             "outlinewidth": 0,
             "ticks": ""
            },
            "type": "choropleth"
           }
          ],
          "contour": [
           {
            "colorbar": {
             "outlinewidth": 0,
             "ticks": ""
            },
            "colorscale": [
             [
              0,
              "#0d0887"
             ],
             [
              0.1111111111111111,
              "#46039f"
             ],
             [
              0.2222222222222222,
              "#7201a8"
             ],
             [
              0.3333333333333333,
              "#9c179e"
             ],
             [
              0.4444444444444444,
              "#bd3786"
             ],
             [
              0.5555555555555556,
              "#d8576b"
             ],
             [
              0.6666666666666666,
              "#ed7953"
             ],
             [
              0.7777777777777778,
              "#fb9f3a"
             ],
             [
              0.8888888888888888,
              "#fdca26"
             ],
             [
              1,
              "#f0f921"
             ]
            ],
            "type": "contour"
           }
          ],
          "contourcarpet": [
           {
            "colorbar": {
             "outlinewidth": 0,
             "ticks": ""
            },
            "type": "contourcarpet"
           }
          ],
          "heatmap": [
           {
            "colorbar": {
             "outlinewidth": 0,
             "ticks": ""
            },
            "colorscale": [
             [
              0,
              "#0d0887"
             ],
             [
              0.1111111111111111,
              "#46039f"
             ],
             [
              0.2222222222222222,
              "#7201a8"
             ],
             [
              0.3333333333333333,
              "#9c179e"
             ],
             [
              0.4444444444444444,
              "#bd3786"
             ],
             [
              0.5555555555555556,
              "#d8576b"
             ],
             [
              0.6666666666666666,
              "#ed7953"
             ],
             [
              0.7777777777777778,
              "#fb9f3a"
             ],
             [
              0.8888888888888888,
              "#fdca26"
             ],
             [
              1,
              "#f0f921"
             ]
            ],
            "type": "heatmap"
           }
          ],
          "heatmapgl": [
           {
            "colorbar": {
             "outlinewidth": 0,
             "ticks": ""
            },
            "colorscale": [
             [
              0,
              "#0d0887"
             ],
             [
              0.1111111111111111,
              "#46039f"
             ],
             [
              0.2222222222222222,
              "#7201a8"
             ],
             [
              0.3333333333333333,
              "#9c179e"
             ],
             [
              0.4444444444444444,
              "#bd3786"
             ],
             [
              0.5555555555555556,
              "#d8576b"
             ],
             [
              0.6666666666666666,
              "#ed7953"
             ],
             [
              0.7777777777777778,
              "#fb9f3a"
             ],
             [
              0.8888888888888888,
              "#fdca26"
             ],
             [
              1,
              "#f0f921"
             ]
            ],
            "type": "heatmapgl"
           }
          ],
          "histogram": [
           {
            "marker": {
             "pattern": {
              "fillmode": "overlay",
              "size": 10,
              "solidity": 0.2
             }
            },
            "type": "histogram"
           }
          ],
          "histogram2d": [
           {
            "colorbar": {
             "outlinewidth": 0,
             "ticks": ""
            },
            "colorscale": [
             [
              0,
              "#0d0887"
             ],
             [
              0.1111111111111111,
              "#46039f"
             ],
             [
              0.2222222222222222,
              "#7201a8"
             ],
             [
              0.3333333333333333,
              "#9c179e"
             ],
             [
              0.4444444444444444,
              "#bd3786"
             ],
             [
              0.5555555555555556,
              "#d8576b"
             ],
             [
              0.6666666666666666,
              "#ed7953"
             ],
             [
              0.7777777777777778,
              "#fb9f3a"
             ],
             [
              0.8888888888888888,
              "#fdca26"
             ],
             [
              1,
              "#f0f921"
             ]
            ],
            "type": "histogram2d"
           }
          ],
          "histogram2dcontour": [
           {
            "colorbar": {
             "outlinewidth": 0,
             "ticks": ""
            },
            "colorscale": [
             [
              0,
              "#0d0887"
             ],
             [
              0.1111111111111111,
              "#46039f"
             ],
             [
              0.2222222222222222,
              "#7201a8"
             ],
             [
              0.3333333333333333,
              "#9c179e"
             ],
             [
              0.4444444444444444,
              "#bd3786"
             ],
             [
              0.5555555555555556,
              "#d8576b"
             ],
             [
              0.6666666666666666,
              "#ed7953"
             ],
             [
              0.7777777777777778,
              "#fb9f3a"
             ],
             [
              0.8888888888888888,
              "#fdca26"
             ],
             [
              1,
              "#f0f921"
             ]
            ],
            "type": "histogram2dcontour"
           }
          ],
          "mesh3d": [
           {
            "colorbar": {
             "outlinewidth": 0,
             "ticks": ""
            },
            "type": "mesh3d"
           }
          ],
          "parcoords": [
           {
            "line": {
             "colorbar": {
              "outlinewidth": 0,
              "ticks": ""
             }
            },
            "type": "parcoords"
           }
          ],
          "pie": [
           {
            "automargin": true,
            "type": "pie"
           }
          ],
          "scatter": [
           {
            "marker": {
             "colorbar": {
              "outlinewidth": 0,
              "ticks": ""
             }
            },
            "type": "scatter"
           }
          ],
          "scatter3d": [
           {
            "line": {
             "colorbar": {
              "outlinewidth": 0,
              "ticks": ""
             }
            },
            "marker": {
             "colorbar": {
              "outlinewidth": 0,
              "ticks": ""
             }
            },
            "type": "scatter3d"
           }
          ],
          "scattercarpet": [
           {
            "marker": {
             "colorbar": {
              "outlinewidth": 0,
              "ticks": ""
             }
            },
            "type": "scattercarpet"
           }
          ],
          "scattergeo": [
           {
            "marker": {
             "colorbar": {
              "outlinewidth": 0,
              "ticks": ""
             }
            },
            "type": "scattergeo"
           }
          ],
          "scattergl": [
           {
            "marker": {
             "colorbar": {
              "outlinewidth": 0,
              "ticks": ""
             }
            },
            "type": "scattergl"
           }
          ],
          "scattermapbox": [
           {
            "marker": {
             "colorbar": {
              "outlinewidth": 0,
              "ticks": ""
             }
            },
            "type": "scattermapbox"
           }
          ],
          "scatterpolar": [
           {
            "marker": {
             "colorbar": {
              "outlinewidth": 0,
              "ticks": ""
             }
            },
            "type": "scatterpolar"
           }
          ],
          "scatterpolargl": [
           {
            "marker": {
             "colorbar": {
              "outlinewidth": 0,
              "ticks": ""
             }
            },
            "type": "scatterpolargl"
           }
          ],
          "scatterternary": [
           {
            "marker": {
             "colorbar": {
              "outlinewidth": 0,
              "ticks": ""
             }
            },
            "type": "scatterternary"
           }
          ],
          "surface": [
           {
            "colorbar": {
             "outlinewidth": 0,
             "ticks": ""
            },
            "colorscale": [
             [
              0,
              "#0d0887"
             ],
             [
              0.1111111111111111,
              "#46039f"
             ],
             [
              0.2222222222222222,
              "#7201a8"
             ],
             [
              0.3333333333333333,
              "#9c179e"
             ],
             [
              0.4444444444444444,
              "#bd3786"
             ],
             [
              0.5555555555555556,
              "#d8576b"
             ],
             [
              0.6666666666666666,
              "#ed7953"
             ],
             [
              0.7777777777777778,
              "#fb9f3a"
             ],
             [
              0.8888888888888888,
              "#fdca26"
             ],
             [
              1,
              "#f0f921"
             ]
            ],
            "type": "surface"
           }
          ],
          "table": [
           {
            "cells": {
             "fill": {
              "color": "#EBF0F8"
             },
             "line": {
              "color": "white"
             }
            },
            "header": {
             "fill": {
              "color": "#C8D4E3"
             },
             "line": {
              "color": "white"
             }
            },
            "type": "table"
           }
          ]
         },
         "layout": {
          "annotationdefaults": {
           "arrowcolor": "#2a3f5f",
           "arrowhead": 0,
           "arrowwidth": 1
          },
          "autotypenumbers": "strict",
          "coloraxis": {
           "colorbar": {
            "outlinewidth": 0,
            "ticks": ""
           }
          },
          "colorscale": {
           "diverging": [
            [
             0,
             "#8e0152"
            ],
            [
             0.1,
             "#c51b7d"
            ],
            [
             0.2,
             "#de77ae"
            ],
            [
             0.3,
             "#f1b6da"
            ],
            [
             0.4,
             "#fde0ef"
            ],
            [
             0.5,
             "#f7f7f7"
            ],
            [
             0.6,
             "#e6f5d0"
            ],
            [
             0.7,
             "#b8e186"
            ],
            [
             0.8,
             "#7fbc41"
            ],
            [
             0.9,
             "#4d9221"
            ],
            [
             1,
             "#276419"
            ]
           ],
           "sequential": [
            [
             0,
             "#0d0887"
            ],
            [
             0.1111111111111111,
             "#46039f"
            ],
            [
             0.2222222222222222,
             "#7201a8"
            ],
            [
             0.3333333333333333,
             "#9c179e"
            ],
            [
             0.4444444444444444,
             "#bd3786"
            ],
            [
             0.5555555555555556,
             "#d8576b"
            ],
            [
             0.6666666666666666,
             "#ed7953"
            ],
            [
             0.7777777777777778,
             "#fb9f3a"
            ],
            [
             0.8888888888888888,
             "#fdca26"
            ],
            [
             1,
             "#f0f921"
            ]
           ],
           "sequentialminus": [
            [
             0,
             "#0d0887"
            ],
            [
             0.1111111111111111,
             "#46039f"
            ],
            [
             0.2222222222222222,
             "#7201a8"
            ],
            [
             0.3333333333333333,
             "#9c179e"
            ],
            [
             0.4444444444444444,
             "#bd3786"
            ],
            [
             0.5555555555555556,
             "#d8576b"
            ],
            [
             0.6666666666666666,
             "#ed7953"
            ],
            [
             0.7777777777777778,
             "#fb9f3a"
            ],
            [
             0.8888888888888888,
             "#fdca26"
            ],
            [
             1,
             "#f0f921"
            ]
           ]
          },
          "colorway": [
           "#636efa",
           "#EF553B",
           "#00cc96",
           "#ab63fa",
           "#FFA15A",
           "#19d3f3",
           "#FF6692",
           "#B6E880",
           "#FF97FF",
           "#FECB52"
          ],
          "font": {
           "color": "#2a3f5f"
          },
          "geo": {
           "bgcolor": "white",
           "lakecolor": "white",
           "landcolor": "#E5ECF6",
           "showlakes": true,
           "showland": true,
           "subunitcolor": "white"
          },
          "hoverlabel": {
           "align": "left"
          },
          "hovermode": "closest",
          "mapbox": {
           "style": "light"
          },
          "paper_bgcolor": "white",
          "plot_bgcolor": "#E5ECF6",
          "polar": {
           "angularaxis": {
            "gridcolor": "white",
            "linecolor": "white",
            "ticks": ""
           },
           "bgcolor": "#E5ECF6",
           "radialaxis": {
            "gridcolor": "white",
            "linecolor": "white",
            "ticks": ""
           }
          },
          "scene": {
           "xaxis": {
            "backgroundcolor": "#E5ECF6",
            "gridcolor": "white",
            "gridwidth": 2,
            "linecolor": "white",
            "showbackground": true,
            "ticks": "",
            "zerolinecolor": "white"
           },
           "yaxis": {
            "backgroundcolor": "#E5ECF6",
            "gridcolor": "white",
            "gridwidth": 2,
            "linecolor": "white",
            "showbackground": true,
            "ticks": "",
            "zerolinecolor": "white"
           },
           "zaxis": {
            "backgroundcolor": "#E5ECF6",
            "gridcolor": "white",
            "gridwidth": 2,
            "linecolor": "white",
            "showbackground": true,
            "ticks": "",
            "zerolinecolor": "white"
           }
          },
          "shapedefaults": {
           "line": {
            "color": "#2a3f5f"
           }
          },
          "ternary": {
           "aaxis": {
            "gridcolor": "white",
            "linecolor": "white",
            "ticks": ""
           },
           "baxis": {
            "gridcolor": "white",
            "linecolor": "white",
            "ticks": ""
           },
           "bgcolor": "#E5ECF6",
           "caxis": {
            "gridcolor": "white",
            "linecolor": "white",
            "ticks": ""
           }
          },
          "title": {
           "x": 0.05
          },
          "xaxis": {
           "automargin": true,
           "gridcolor": "white",
           "linecolor": "white",
           "ticks": "",
           "title": {
            "standoff": 15
           },
           "zerolinecolor": "white",
           "zerolinewidth": 2
          },
          "yaxis": {
           "automargin": true,
           "gridcolor": "white",
           "linecolor": "white",
           "ticks": "",
           "title": {
            "standoff": 15
           },
           "zerolinecolor": "white",
           "zerolinewidth": 2
          }
         }
        }
       }
      },
      "text/html": [
       "<div>                            <div id=\"10b5e631-85ec-4ba5-bd13-1077073488cd\" class=\"plotly-graph-div\" style=\"height:525px; width:100%;\"></div>            <script type=\"text/javascript\">                require([\"plotly\"], function(Plotly) {                    window.PLOTLYENV=window.PLOTLYENV || {};                                    if (document.getElementById(\"10b5e631-85ec-4ba5-bd13-1077073488cd\")) {                    Plotly.newPlot(                        \"10b5e631-85ec-4ba5-bd13-1077073488cd\",                        [{\"x\":[[0.0,0.0625,0.1875,0.3125,0.4375,0.5625,0.6875,0.8125,0.9375,1.0],[0.0,0.0625,0.1875,0.3125,0.4375,0.5625,0.6875,0.8125,0.9375,1.0],[0.0,0.0625,0.1875,0.3125,0.4375,0.5625,0.6875,0.8125,0.9375,1.0],[0.0,0.0625,0.1875,0.3125,0.4375,0.5625,0.6875,0.8125,0.9375,1.0],[0.0,0.0625,0.1875,0.3125,0.4375,0.5625,0.6875,0.8125,0.9375,1.0],[0.0,0.0625,0.1875,0.3125,0.4375,0.5625,0.6875,0.8125,0.9375,1.0],[0.0,0.0625,0.1875,0.3125,0.4375,0.5625,0.6875,0.8125,0.9375,1.0],[0.0,0.0625,0.1875,0.3125,0.4375,0.5625,0.6875,0.8125,0.9375,1.0],[0.0,0.0625,0.1875,0.3125,0.4375,0.5625,0.6875,0.8125,0.9375,1.0],[0.0,0.0625,0.1875,0.3125,0.4375,0.5625,0.6875,0.8125,0.9375,1.0]],\"y\":[[0.0,0.0,0.0,0.0,0.0,0.0,0.0,0.0,0.0,0.0],[0.0625,0.0625,0.0625,0.0625,0.0625,0.0625,0.0625,0.0625,0.0625,0.0625],[0.1875,0.1875,0.1875,0.1875,0.1875,0.1875,0.1875,0.1875,0.1875,0.1875],[0.3125,0.3125,0.3125,0.3125,0.3125,0.3125,0.3125,0.3125,0.3125,0.3125],[0.4375,0.4375,0.4375,0.4375,0.4375,0.4375,0.4375,0.4375,0.4375,0.4375],[0.5625,0.5625,0.5625,0.5625,0.5625,0.5625,0.5625,0.5625,0.5625,0.5625],[0.6875,0.6875,0.6875,0.6875,0.6875,0.6875,0.6875,0.6875,0.6875,0.6875],[0.8125,0.8125,0.8125,0.8125,0.8125,0.8125,0.8125,0.8125,0.8125,0.8125],[0.9375,0.9375,0.9375,0.9375,0.9375,0.9375,0.9375,0.9375,0.9375,0.9375],[1.0,1.0,1.0,1.0,1.0,1.0,1.0,1.0,1.0,1.0]],\"z\":[[0.0,-2.1517780050026724e-06,-4.857240499332175e-06,-8.11151325141337e-06,-1.1791678494816215e-05,-1.5911840480038106e-05,-2.0418854353266322e-05,-2.53036434852952e-05,-3.043638494277195e-05,-3.3660601984388254e-05],[-3.6321580410003663e-20,-1.2237747546673264e-06,-4.335785774445339e-06,-7.628201347798042e-06,-1.1390665428004203e-05,-1.558965423112363e-05,-2.017531112252865e-05,-2.5115206910627814e-05,-3.05811759901164e-05,-3.3304622043718616e-05],[4.1618477553129197e-20,-7.685778892674044e-07,-3.5499016384698758e-06,-6.914157147611382e-06,-1.0794583276395348e-05,-1.5125033824381674e-05,-1.983311164090038e-05,-2.4859438470299437e-05,-3.0181625714315943e-05,-3.29148299376891e-05],[-1.0593794286251068e-20,-6.44339666873388e-07,-3.1699519514807916e-06,-6.493325163244631e-06,-1.0424919604223619e-05,-1.4837455279118327e-05,-1.9621358899735825e-05,-2.46585257329079e-05,-2.9784428886484797e-05,-3.2195574776515966e-05],[-2.5727786123752595e-20,-6.132938595324426e-07,-3.02500124138677e-06,-6.3090678186212955e-06,-1.0254151553660164e-05,-1.4703142173964872e-05,-1.9520009278913798e-05,-2.454766528080042e-05,-2.954402779342916e-05,-3.1793600184212176e-05],[2.307933755218983e-20,-6.132938595310164e-07,-3.0250012413898884e-06,-6.309067818632183e-06,-1.0254151553680972e-05,-1.4703142173998321e-05,-1.952000927896441e-05,-2.45476652808753e-05,-2.9544027793537224e-05,-3.179360018433903e-05],[-1.7404090613126755e-20,-6.443396668709439e-07,-3.1699519514940388e-06,-6.49332516328153e-06,-1.0424919604289775e-05,-1.4837455279221274e-05,-1.962135889988852e-05,-2.4658525733131495e-05,-2.9784428886808163e-05,-3.219557477689676e-05],[-2.0809238776564598e-21,-7.685778892703554e-07,-3.549901638505573e-06,-6.914157147686962e-06,-1.0794583276518093e-05,-1.5125033824562593e-05,-1.9833111641159074e-05,-2.485943847066989e-05,-3.018162571484924e-05,-3.291482993832559e-05],[9.080395102500916e-21,-1.2237747546918283e-06,-4.335785774525272e-06,-7.62820134793217e-06,-1.1390665428201669e-05,-1.5589654231397968e-05,-2.0175311122903684e-05,-2.51152069111443e-05,-3.058117599084887e-05,-3.3304622044523595e-05],[0.0,-2.1517780050716683e-06,-4.857240499458545e-06,-8.111513251607306e-06,-1.1791678495087104e-05,-1.5911840480401873e-05,-2.041885435374775e-05,-2.530364348593472e-05,-3.0436384943589755e-05,-3.3660601985330575e-05]],\"type\":\"surface\"}],                        {\"template\":{\"data\":{\"bar\":[{\"error_x\":{\"color\":\"#2a3f5f\"},\"error_y\":{\"color\":\"#2a3f5f\"},\"marker\":{\"line\":{\"color\":\"#E5ECF6\",\"width\":0.5},\"pattern\":{\"fillmode\":\"overlay\",\"size\":10,\"solidity\":0.2}},\"type\":\"bar\"}],\"barpolar\":[{\"marker\":{\"line\":{\"color\":\"#E5ECF6\",\"width\":0.5},\"pattern\":{\"fillmode\":\"overlay\",\"size\":10,\"solidity\":0.2}},\"type\":\"barpolar\"}],\"carpet\":[{\"aaxis\":{\"endlinecolor\":\"#2a3f5f\",\"gridcolor\":\"white\",\"linecolor\":\"white\",\"minorgridcolor\":\"white\",\"startlinecolor\":\"#2a3f5f\"},\"baxis\":{\"endlinecolor\":\"#2a3f5f\",\"gridcolor\":\"white\",\"linecolor\":\"white\",\"minorgridcolor\":\"white\",\"startlinecolor\":\"#2a3f5f\"},\"type\":\"carpet\"}],\"choropleth\":[{\"colorbar\":{\"outlinewidth\":0,\"ticks\":\"\"},\"type\":\"choropleth\"}],\"contour\":[{\"colorbar\":{\"outlinewidth\":0,\"ticks\":\"\"},\"colorscale\":[[0.0,\"#0d0887\"],[0.1111111111111111,\"#46039f\"],[0.2222222222222222,\"#7201a8\"],[0.3333333333333333,\"#9c179e\"],[0.4444444444444444,\"#bd3786\"],[0.5555555555555556,\"#d8576b\"],[0.6666666666666666,\"#ed7953\"],[0.7777777777777778,\"#fb9f3a\"],[0.8888888888888888,\"#fdca26\"],[1.0,\"#f0f921\"]],\"type\":\"contour\"}],\"contourcarpet\":[{\"colorbar\":{\"outlinewidth\":0,\"ticks\":\"\"},\"type\":\"contourcarpet\"}],\"heatmap\":[{\"colorbar\":{\"outlinewidth\":0,\"ticks\":\"\"},\"colorscale\":[[0.0,\"#0d0887\"],[0.1111111111111111,\"#46039f\"],[0.2222222222222222,\"#7201a8\"],[0.3333333333333333,\"#9c179e\"],[0.4444444444444444,\"#bd3786\"],[0.5555555555555556,\"#d8576b\"],[0.6666666666666666,\"#ed7953\"],[0.7777777777777778,\"#fb9f3a\"],[0.8888888888888888,\"#fdca26\"],[1.0,\"#f0f921\"]],\"type\":\"heatmap\"}],\"heatmapgl\":[{\"colorbar\":{\"outlinewidth\":0,\"ticks\":\"\"},\"colorscale\":[[0.0,\"#0d0887\"],[0.1111111111111111,\"#46039f\"],[0.2222222222222222,\"#7201a8\"],[0.3333333333333333,\"#9c179e\"],[0.4444444444444444,\"#bd3786\"],[0.5555555555555556,\"#d8576b\"],[0.6666666666666666,\"#ed7953\"],[0.7777777777777778,\"#fb9f3a\"],[0.8888888888888888,\"#fdca26\"],[1.0,\"#f0f921\"]],\"type\":\"heatmapgl\"}],\"histogram\":[{\"marker\":{\"pattern\":{\"fillmode\":\"overlay\",\"size\":10,\"solidity\":0.2}},\"type\":\"histogram\"}],\"histogram2d\":[{\"colorbar\":{\"outlinewidth\":0,\"ticks\":\"\"},\"colorscale\":[[0.0,\"#0d0887\"],[0.1111111111111111,\"#46039f\"],[0.2222222222222222,\"#7201a8\"],[0.3333333333333333,\"#9c179e\"],[0.4444444444444444,\"#bd3786\"],[0.5555555555555556,\"#d8576b\"],[0.6666666666666666,\"#ed7953\"],[0.7777777777777778,\"#fb9f3a\"],[0.8888888888888888,\"#fdca26\"],[1.0,\"#f0f921\"]],\"type\":\"histogram2d\"}],\"histogram2dcontour\":[{\"colorbar\":{\"outlinewidth\":0,\"ticks\":\"\"},\"colorscale\":[[0.0,\"#0d0887\"],[0.1111111111111111,\"#46039f\"],[0.2222222222222222,\"#7201a8\"],[0.3333333333333333,\"#9c179e\"],[0.4444444444444444,\"#bd3786\"],[0.5555555555555556,\"#d8576b\"],[0.6666666666666666,\"#ed7953\"],[0.7777777777777778,\"#fb9f3a\"],[0.8888888888888888,\"#fdca26\"],[1.0,\"#f0f921\"]],\"type\":\"histogram2dcontour\"}],\"mesh3d\":[{\"colorbar\":{\"outlinewidth\":0,\"ticks\":\"\"},\"type\":\"mesh3d\"}],\"parcoords\":[{\"line\":{\"colorbar\":{\"outlinewidth\":0,\"ticks\":\"\"}},\"type\":\"parcoords\"}],\"pie\":[{\"automargin\":true,\"type\":\"pie\"}],\"scatter\":[{\"marker\":{\"colorbar\":{\"outlinewidth\":0,\"ticks\":\"\"}},\"type\":\"scatter\"}],\"scatter3d\":[{\"line\":{\"colorbar\":{\"outlinewidth\":0,\"ticks\":\"\"}},\"marker\":{\"colorbar\":{\"outlinewidth\":0,\"ticks\":\"\"}},\"type\":\"scatter3d\"}],\"scattercarpet\":[{\"marker\":{\"colorbar\":{\"outlinewidth\":0,\"ticks\":\"\"}},\"type\":\"scattercarpet\"}],\"scattergeo\":[{\"marker\":{\"colorbar\":{\"outlinewidth\":0,\"ticks\":\"\"}},\"type\":\"scattergeo\"}],\"scattergl\":[{\"marker\":{\"colorbar\":{\"outlinewidth\":0,\"ticks\":\"\"}},\"type\":\"scattergl\"}],\"scattermapbox\":[{\"marker\":{\"colorbar\":{\"outlinewidth\":0,\"ticks\":\"\"}},\"type\":\"scattermapbox\"}],\"scatterpolar\":[{\"marker\":{\"colorbar\":{\"outlinewidth\":0,\"ticks\":\"\"}},\"type\":\"scatterpolar\"}],\"scatterpolargl\":[{\"marker\":{\"colorbar\":{\"outlinewidth\":0,\"ticks\":\"\"}},\"type\":\"scatterpolargl\"}],\"scatterternary\":[{\"marker\":{\"colorbar\":{\"outlinewidth\":0,\"ticks\":\"\"}},\"type\":\"scatterternary\"}],\"surface\":[{\"colorbar\":{\"outlinewidth\":0,\"ticks\":\"\"},\"colorscale\":[[0.0,\"#0d0887\"],[0.1111111111111111,\"#46039f\"],[0.2222222222222222,\"#7201a8\"],[0.3333333333333333,\"#9c179e\"],[0.4444444444444444,\"#bd3786\"],[0.5555555555555556,\"#d8576b\"],[0.6666666666666666,\"#ed7953\"],[0.7777777777777778,\"#fb9f3a\"],[0.8888888888888888,\"#fdca26\"],[1.0,\"#f0f921\"]],\"type\":\"surface\"}],\"table\":[{\"cells\":{\"fill\":{\"color\":\"#EBF0F8\"},\"line\":{\"color\":\"white\"}},\"header\":{\"fill\":{\"color\":\"#C8D4E3\"},\"line\":{\"color\":\"white\"}},\"type\":\"table\"}]},\"layout\":{\"annotationdefaults\":{\"arrowcolor\":\"#2a3f5f\",\"arrowhead\":0,\"arrowwidth\":1},\"autotypenumbers\":\"strict\",\"coloraxis\":{\"colorbar\":{\"outlinewidth\":0,\"ticks\":\"\"}},\"colorscale\":{\"diverging\":[[0,\"#8e0152\"],[0.1,\"#c51b7d\"],[0.2,\"#de77ae\"],[0.3,\"#f1b6da\"],[0.4,\"#fde0ef\"],[0.5,\"#f7f7f7\"],[0.6,\"#e6f5d0\"],[0.7,\"#b8e186\"],[0.8,\"#7fbc41\"],[0.9,\"#4d9221\"],[1,\"#276419\"]],\"sequential\":[[0.0,\"#0d0887\"],[0.1111111111111111,\"#46039f\"],[0.2222222222222222,\"#7201a8\"],[0.3333333333333333,\"#9c179e\"],[0.4444444444444444,\"#bd3786\"],[0.5555555555555556,\"#d8576b\"],[0.6666666666666666,\"#ed7953\"],[0.7777777777777778,\"#fb9f3a\"],[0.8888888888888888,\"#fdca26\"],[1.0,\"#f0f921\"]],\"sequentialminus\":[[0.0,\"#0d0887\"],[0.1111111111111111,\"#46039f\"],[0.2222222222222222,\"#7201a8\"],[0.3333333333333333,\"#9c179e\"],[0.4444444444444444,\"#bd3786\"],[0.5555555555555556,\"#d8576b\"],[0.6666666666666666,\"#ed7953\"],[0.7777777777777778,\"#fb9f3a\"],[0.8888888888888888,\"#fdca26\"],[1.0,\"#f0f921\"]]},\"colorway\":[\"#636efa\",\"#EF553B\",\"#00cc96\",\"#ab63fa\",\"#FFA15A\",\"#19d3f3\",\"#FF6692\",\"#B6E880\",\"#FF97FF\",\"#FECB52\"],\"font\":{\"color\":\"#2a3f5f\"},\"geo\":{\"bgcolor\":\"white\",\"lakecolor\":\"white\",\"landcolor\":\"#E5ECF6\",\"showlakes\":true,\"showland\":true,\"subunitcolor\":\"white\"},\"hoverlabel\":{\"align\":\"left\"},\"hovermode\":\"closest\",\"mapbox\":{\"style\":\"light\"},\"paper_bgcolor\":\"white\",\"plot_bgcolor\":\"#E5ECF6\",\"polar\":{\"angularaxis\":{\"gridcolor\":\"white\",\"linecolor\":\"white\",\"ticks\":\"\"},\"bgcolor\":\"#E5ECF6\",\"radialaxis\":{\"gridcolor\":\"white\",\"linecolor\":\"white\",\"ticks\":\"\"}},\"scene\":{\"xaxis\":{\"backgroundcolor\":\"#E5ECF6\",\"gridcolor\":\"white\",\"gridwidth\":2,\"linecolor\":\"white\",\"showbackground\":true,\"ticks\":\"\",\"zerolinecolor\":\"white\"},\"yaxis\":{\"backgroundcolor\":\"#E5ECF6\",\"gridcolor\":\"white\",\"gridwidth\":2,\"linecolor\":\"white\",\"showbackground\":true,\"ticks\":\"\",\"zerolinecolor\":\"white\"},\"zaxis\":{\"backgroundcolor\":\"#E5ECF6\",\"gridcolor\":\"white\",\"gridwidth\":2,\"linecolor\":\"white\",\"showbackground\":true,\"ticks\":\"\",\"zerolinecolor\":\"white\"}},\"shapedefaults\":{\"line\":{\"color\":\"#2a3f5f\"}},\"ternary\":{\"aaxis\":{\"gridcolor\":\"white\",\"linecolor\":\"white\",\"ticks\":\"\"},\"baxis\":{\"gridcolor\":\"white\",\"linecolor\":\"white\",\"ticks\":\"\"},\"bgcolor\":\"#E5ECF6\",\"caxis\":{\"gridcolor\":\"white\",\"linecolor\":\"white\",\"ticks\":\"\"}},\"title\":{\"x\":0.05},\"xaxis\":{\"automargin\":true,\"gridcolor\":\"white\",\"linecolor\":\"white\",\"ticks\":\"\",\"title\":{\"standoff\":15},\"zerolinecolor\":\"white\",\"zerolinewidth\":2},\"yaxis\":{\"automargin\":true,\"gridcolor\":\"white\",\"linecolor\":\"white\",\"ticks\":\"\",\"title\":{\"standoff\":15},\"zerolinecolor\":\"white\",\"zerolinewidth\":2}}}},                        {\"responsive\": true}                    ).then(function(){\n",
       "                            \n",
       "var gd = document.getElementById('10b5e631-85ec-4ba5-bd13-1077073488cd');\n",
       "var x = new MutationObserver(function (mutations, observer) {{\n",
       "        var display = window.getComputedStyle(gd).display;\n",
       "        if (!display || display === 'none') {{\n",
       "            console.log([gd, 'removed!']);\n",
       "            Plotly.purge(gd);\n",
       "            observer.disconnect();\n",
       "        }}\n",
       "}});\n",
       "\n",
       "// Listen for the removal of the full notebook cells\n",
       "var notebookContainer = gd.closest('#notebook-container');\n",
       "if (notebookContainer) {{\n",
       "    x.observe(notebookContainer, {childList: true});\n",
       "}}\n",
       "\n",
       "// Listen for the clearing of the current output cell\n",
       "var outputEl = gd.closest('.output');\n",
       "if (outputEl) {{\n",
       "    x.observe(outputEl, {childList: true});\n",
       "}}\n",
       "\n",
       "                        })                };                });            </script>        </div>"
      ]
     },
     "metadata": {},
     "output_type": "display_data"
    }
   ],
   "source": [
    "## Time loop\n",
    "\n",
    "!rm -r savedVariables\n",
    "! mkdir savedVariables\n",
    "\n",
    "for time in t:\n",
    "\n",
    "    print(\"\\nTime = \" + str(time))\n",
    "    \n",
    "    # Set number of maximum iterations for convergence\n",
    "    \n",
    "    icorr = 1\n",
    "    maxcorr = 100000\n",
    "    fac = 10**math.ceil((math.log((A(\"x\").a_P), 10)))\n",
    "\n",
    "    # Make directory\n",
    "\n",
    "    ! mkdir savedVariables/{time}\n",
    "    \n",
    "    while True:\n",
    "    # for iteration in [1]:\n",
    "        \n",
    "        u_previous = u_new #store latest guess values    # change_u new to U\n",
    "\n",
    "        A_x = A(\"x\").createMatrix()        \n",
    "        A_x, b_x = boundary_conditions(A_x, b_x, u_previous, u_old, u_old_old, \"x\")\n",
    "\n",
    "        ## Solve the x-equation\n",
    "        \n",
    "        Ux = spsolve(A_x, b_x)\n",
    "        Ux = np.array(Ux)\n",
    "        \n",
    "        ## Prepare matrix A and b vector for the y-equation\n",
    "        \n",
    "        A_y = A(\"y\").createMatrix()\n",
    "        A_y, b_y = boundary_conditions(A_y, b_y, u_previous, u_old, u_old_old, \"y\")\n",
    "        \n",
    "        ## Solve the y-equation\n",
    "        Uy = spsolve(A_y, b_y)\n",
    "        Uy = np.array(Uy)\n",
    "        \n",
    "        # ## Update U.New with new x and y displacements\n",
    "\n",
    "        u_new = np.vstack((Ux, Uy)).T\n",
    "       \n",
    "        ## Calculate the residual of each iteration\n",
    "        \n",
    "        normFactor = np.max(u_new)\n",
    "        residual = math.sqrt(np.mean((u_new - u_previous)**2))/normFactor\n",
    "        tolerance = 1e-14\n",
    "        \n",
    "    \n",
    "        ##print out residual of each iteration\n",
    "        print(\"icorr = {:01d}, Residual = {:.20f}, normFactor = {:.20f}, time = {:.4f}\".format(icorr, residual, normFactor, time))\n",
    "             \n",
    "        ## Convergence check\n",
    "        \n",
    "        if residual < tolerance:\n",
    "            \n",
    "            break\n",
    "            \n",
    "        elif icorr > maxcorr:\n",
    "            \n",
    "            break            \n",
    "        \n",
    "        icorr = icorr + 1\n",
    "    \n",
    "    ## Update variables\n",
    "    \n",
    "    u_old_old = u_old\n",
    "    u_old = u_new\n",
    "    \n",
    "    # ## Add the boundary conditions to the solution matrices\n",
    "    u_reshape_x = u_new[:,0].reshape(ny+2, nx+2)\n",
    "    u_reshape_y = u_new[:,1].reshape(ny+2, nx+2)\n",
    "    \n",
    "    # #Boundary conditions for u matrix\n",
    "    U = np.zeros((ny+2,nx+2))\n",
    "    V = np.zeros((ny+2,nx+2))\n",
    " \n",
    " \n",
    "    U[:, :] = u_reshape_x\n",
    "    V[:, :] = u_reshape_y \n",
    "\n",
    "    #Modulus of displacement\n",
    "\n",
    "    disp_mod = np.sqrt((U**2) + (V**2))\n",
    "    disp_mod_converted = disp_mod*1e6 #Convert displacement to micrometers\n",
    "    \n",
    "   ### Plot the results\n",
    "\n",
    "    import plotly.graph_objects as go\n",
    "\n",
    "    disp_mod = np.sqrt((U**2) + (V**2))*1e-10\n",
    "\n",
    "    dispx, dispy = np.meshgrid(x, y)\n",
    "    fig = go.Figure(data=[go.Surface(z=disp_mod_converted, x=dispx, y=dispy)])\n",
    "    \n",
    "fig.show()   \n",
    "\n",
    "print(\"U graph\")\n",
    "fig = go.Figure(data=[go.Surface(z=U, x=dispx, y=dispy)])\n",
    "\n",
    "fig.show()   \n",
    "\n",
    "print(\"V graph\")\n",
    "fig = go.Figure(data=[go.Surface(z=V, x=dispx, y=dispy)])\n",
    "\n",
    "fig.show()"
   ]
  },
  {
   "cell_type": "code",
   "execution_count": 131,
   "metadata": {},
   "outputs": [
    {
     "data": {
      "text/plain": [
       "(10, 10)"
      ]
     },
     "execution_count": 131,
     "metadata": {},
     "output_type": "execute_result"
    }
   ],
   "source": [
    "u_reshape_x.shape\n",
    "\n",
    "# plt.scatter(x, u_reshape_x[nx,:],  label = \"Python, U @ y = 0.009375\")\n",
    "\n",
    "u_reshape_x[:,:].shape"
   ]
  },
  {
   "cell_type": "code",
   "execution_count": 132,
   "metadata": {},
   "outputs": [
    {
     "data": {
      "text/plain": [
       "array([[0.    , 0.0625, 0.1875, 0.3125, 0.4375, 0.5625, 0.6875, 0.8125,\n",
       "        0.9375, 1.    ]])"
      ]
     },
     "execution_count": 132,
     "metadata": {},
     "output_type": "execute_result"
    },
    {
     "data": {
      "image/png": "[encoded data removed]",
      "text/plain": [
       "<Figure size 720x720 with 1 Axes>"
      ]
     },
     "metadata": {
      "needs_background": "light"
     },
     "output_type": "display_data"
    }
   ],
   "source": [
    "import matplotlib.pyplot as plt\n",
    "\n",
    "plt.figure(figsize=(10, 10))\n",
    "plt.scatter(x, u_reshape_x[ny,:],  label = \"Python, U @ y = 0.09\")\n",
    "plt.title(\"U along x-axis\")\n",
    "plt.legend()\n",
    "\n",
    "x"
   ]
  },
  {
   "cell_type": "code",
   "execution_count": 133,
   "metadata": {},
   "outputs": [
    {
     "data": {
      "text/plain": [
       "-3.3304622044523595e-05"
      ]
     },
     "execution_count": 133,
     "metadata": {},
     "output_type": "execute_result"
    },
    {
     "data": {
      "image/png": "[encoded data removed]",
      "text/plain": [
       "<Figure size 720x720 with 1 Axes>"
      ]
     },
     "metadata": {
      "needs_background": "light"
     },
     "output_type": "display_data"
    }
   ],
   "source": [
    "import matplotlib.pyplot as plt\n",
    "\n",
    "plt.figure(figsize=(10, 10))\n",
    "plt.scatter(x, u_reshape_y[ny,:],  label = \"Python, U @ y = 0.09\")\n",
    "plt.title(\"U along x-axis\")\n",
    "plt.legend()\n",
    "\n",
    "u_reshape_y[ny, nx+1]"
   ]
  },
  {
   "cell_type": "markdown",
   "metadata": {},
   "source": [
    "Above graph indicates some error in Python model? Further benchmark testing is required\n"
   ]
  },
  {
   "cell_type": "code",
   "execution_count": 134,
   "metadata": {},
   "outputs": [
    {
     "name": "stdout",
     "output_type": "stream",
     "text": [
      "mkdir: cannot create directory ‘x_25_y_2’: File exists\n"
     ]
    }
   ],
   "source": [
    "!mkdir x_25_y_2\n",
    "np.save(\"x_25_y_2/u_reshape_x.npy\", u_reshape_x)\n",
    "np.save(\"x_25_y_2/u_reshape_y.npy\", u_reshape_y)\n"
   ]
  },
  {
   "cell_type": "code",
   "execution_count": 135,
   "metadata": {},
   "outputs": [
    {
     "data": {
      "text/plain": [
       "-3.3660601984388254e-05"
      ]
     },
     "execution_count": 135,
     "metadata": {},
     "output_type": "execute_result"
    }
   ],
   "source": [
    "u_reshape_y[:, nx+1]\n",
    "\n",
    "u_reshape_y[0, nx+1]"
   ]
  },
  {
   "cell_type": "code",
   "execution_count": null,
   "metadata": {},
   "outputs": [],
   "source": []
  }
 ],
 "metadata": {
  "interpreter": {
   "hash": "1b2f9133931ab063f1f037caeeb0be83973bf9a3d4f21c40e4cd03e999a0b9b9"
  },
  "kernelspec": {
   "display_name": "Python 3.6.13 64-bit ('python3': conda)",
   "language": "python",
   "name": "python3"
  },
  "language_info": {
   "codemirror_mode": {
    "name": "ipython",
    "version": 3
   },
   "file_extension": ".py",
   "mimetype": "text/x-python",
   "name": "python",
   "nbconvert_exporter": "python",
   "pygments_lexer": "ipython3",
   "version": "3.9.5"
  },
  "orig_nbformat": 4
 },
 "nbformat": 4,
 "nbformat_minor": 2
}
