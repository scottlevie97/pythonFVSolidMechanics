{
 "cells": [
  {
   "cell_type": "code",
   "execution_count": 577,
   "metadata": {},
   "outputs": [],
   "source": [
    "import numpy as np\n",
    "import pandas as pd\n",
    "import math\n",
    "from scipy.sparse import csr_matrix\n",
    "from scipy.sparse.linalg import spsolve\n",
    "\n",
    "def printVar (varname, var):\n",
    "\n",
    "    print(varname)\n",
    "    print(var)\n",
    "\n",
    "def saveArray (name, array):\n",
    "\n",
    "    pd.DataFrame(array).to_csv(\"savedVariables/\" + name + \".csv\", index=False, header=None)\n"
   ]
  },
  {
   "cell_type": "code",
   "execution_count": 578,
   "metadata": {},
   "outputs": [],
   "source": [
    "# Solve the 2D Navier-Cauchy equation using a segregated finite volume method\n",
    "\n",
    "# Define mesh geometry and boundary conditions\n",
    "\n",
    "Lx = .01 #width of domain\n",
    "Ly = .01 #height of domain\n",
    "\n",
    "fac = 1\n",
    "\n",
    "# tr_left_x = -1e-6*fac      #u boundary condition at the left boundary\n",
    "# tr_left_y =  1e-6*0     #v boundary condition at the left boundary\n",
    "\n",
    "# tr_right_x = +1e-6*fac    #u boundary condition at the right boundary\n",
    "# tr_right_y = 1e-6*0     #v boundary condition at the right boundary\n",
    "\n",
    "# tr_top_x = 1e-6*0       #u boundary condition at the top boundary\n",
    "# tr_top_y = +1e-6*fac       #v boundary condition at the top boundary\n",
    "\n",
    "# tr_bottom_x = -1e-6*0    #u boundary condition at the bottom boundary \n",
    "# tr_bottom_y = -1e-6*fac    #v boundary condition at the bottom boundary\n",
    "\n",
    "nx = 8          #number of control volumes in the x-direction\n",
    "ny = 8          #number of control volumes in the y-direction\n",
    "\n",
    "u_bottom = -1e-6\n",
    "v_bottom = -1e-6\n",
    "\n",
    "u_top = 1e-6\n",
    "v_top = 1e-6\n",
    "\n",
    "u_left = -1e-6\n",
    "v_left = -1e-6\n",
    "\n",
    "u_right = 1e-6\n",
    "v_right = 1e-6"
   ]
  },
  {
   "cell_type": "code",
   "execution_count": 579,
   "metadata": {},
   "outputs": [
    {
     "data": {
      "text/plain": [
       "-1e-06"
      ]
     },
     "execution_count": 579,
     "metadata": {},
     "output_type": "execute_result"
    }
   ],
   "source": [
    "class edge_U:\n",
    "\n",
    "    def __init__(self, edges, xy):\n",
    "\n",
    "        if xy == \"x\":\n",
    "            if edges[0] == \"b\":\n",
    "                self.BC = u_bottom\n",
    "            if edges[0] == \"t\":\n",
    "                self.BC = u_top\n",
    "            if edges[0] == \"l\":\n",
    "                self.BC = u_left\n",
    "            if edges[0] == \"r\":\n",
    "                self.BC = u_right\n",
    "\n",
    "        if xy == \"y\":\n",
    "            if edges[0] == \"b\":\n",
    "                self.BC = v_bottom\n",
    "            if edges[0] == \"t\":\n",
    "                self.BC = v_top\n",
    "            if edges[0] == \"l\":\n",
    "                self.BC = v_left\n",
    "            if edges[0] == \"r\":\n",
    "                self.BC = v_right\n",
    "\n",
    "edge_U([\"b\"], \"x\").BC"
   ]
  },
  {
   "cell_type": "code",
   "execution_count": 580,
   "metadata": {},
   "outputs": [],
   "source": [
    "sys.path.append(\"/home/scottlevie/pythonsolver/tractionBCs/Classes/\")\n",
    "\n",
    "from index_and_direction import dim\n",
    "\n",
    "# dim().nx = 9\n",
    "# dim().ny = 9\n",
    "\n",
    "# print(dim().nx)"
   ]
  },
  {
   "cell_type": "code",
   "execution_count": 581,
   "metadata": {},
   "outputs": [
    {
     "name": "stdout",
     "output_type": "stream",
     "text": [
      "8\n"
     ]
    }
   ],
   "source": [
    "print(dim().nx)"
   ]
  },
  {
   "cell_type": "code",
   "execution_count": 582,
   "metadata": {},
   "outputs": [],
   "source": [
    "from index_and_direction import index\n",
    "from index_and_direction import boundary_point_index\n",
    "from index_and_direction import cell_index\n",
    "from index_and_direction import displacement"
   ]
  },
  {
   "cell_type": "code",
   "execution_count": 583,
   "metadata": {},
   "outputs": [],
   "source": [
    "# Define material properties\n",
    "\n",
    "rho = 8050         #density of steel in kg/m^3\n",
    "mu = 78*10e9       #shear modulus in Pa\n",
    "K = 1.6*10e11      #bulk modulus in Pa\n",
    "\n",
    "Lambda = K - (2/3)*mu\n",
    "\n",
    "#print(Lambda)"
   ]
  },
  {
   "cell_type": "code",
   "execution_count": 584,
   "metadata": {},
   "outputs": [],
   "source": [
    "## Define required variables\n",
    "\n",
    "tf = 0.01           #total time in seconds\n",
    "dx = Lx/nx          #length of each control volume in the x-direction\n",
    "dy = Ly/ny          #length of each control volume in the y-direction\n",
    "dt = tf/10          #size of time steps\n",
    "Sfx = dy            #area vector x component (Area of East and West Faces)\n",
    "Sfy = dx            #area vector y component (Area of North and South Faces)\n"
   ]
  },
  {
   "cell_type": "code",
   "execution_count": 585,
   "metadata": {},
   "outputs": [],
   "source": [
    "## Define  position and time vectors\n",
    "\n",
    "t = np.array(np.arange(0,tf, dt))        #time vector (could possibly use a list)\n",
    "x = np.zeros((1,nx+2))   #position vector defining the center points of the control volumes in the x-direction.\n",
    "x[0,nx+1] = Lx\n",
    "x[0,1:nx+1] = np.arange(dx/2,Lx,dx)\n",
    "\n",
    "t = np.array(np.arange(0,tf, dt))        #time vector (could possibly use a list)\n",
    "y = np.zeros((1,ny+2))   #position vector defining the center points of the control volumes in the y-direction.\n",
    "y[0,ny+1] = Ly\n",
    "y[0,1:ny+1] = np.arange(dy/2,Ly,dy)"
   ]
  },
  {
   "cell_type": "code",
   "execution_count": 586,
   "metadata": {},
   "outputs": [],
   "source": [
    "## Define required displacement matrices and b vector\n",
    "\n",
    "u_new = np.zeros([(ny+2)*(nx+2),2])         #unknown displacements at t + 1    (Column 1 = x, Column2 = y)\n",
    "u_old = np.zeros([(ny+2)*(nx+2),2])         #displacement at time t\n",
    "u_old_old = np.zeros([(ny+2)*(nx+2),2])     #displacement at time t - 1\n",
    "\n",
    "#rhs vector\n",
    "b_x = np.zeros([(ny+2)*(nx+2),1])\n",
    "b_y = np.zeros([(ny+2)*(nx+2),1])"
   ]
  },
  {
   "cell_type": "markdown",
   "metadata": {},
   "source": [
    "## X equation:"
   ]
  },
  {
   "cell_type": "code",
   "execution_count": 587,
   "metadata": {},
   "outputs": [],
   "source": [
    "class A(index, displacement):\n",
    "\n",
    "    val = \"value that stays in class without changning with instance\"\n",
    "\n",
    "    def __init__(self, xy):\n",
    "\n",
    "        if xy == \"x\":\n",
    "\n",
    "            self.a_P = (rho*dx*dy/(dt**2))+((4*mu+2*Lambda)*Sfx)/dx + ((2*mu)*Sfy)/dy\n",
    "            \n",
    "            self.a_N = + A.coef(xy, \"N\", \"u\")*(Sfy)/dy\n",
    "            self.a_S = - A.coef(xy, \"S\", \"u\")*(Sfy)/dy\n",
    "            self.a_E = + A.coef(xy, \"E\", \"u\")*(Sfx)/dx\n",
    "            self.a_W = - A.coef(xy, \"W\", \"u\")*(Sfx)/dx\n",
    "\n",
    "        if xy == \"y\":\n",
    "\n",
    "            self.a_P = (rho*dx*dy/(dt**2))+((4*mu+2*Lambda)*Sfy)/dy + ((2*mu)*Sfx)/dx \n",
    "            self.a_N = + A.coef(xy, \"N\", \"v\")*(Sfy)/dy\n",
    "            self.a_S = - A.coef(xy, \"S\", \"v\")*(Sfy)/dy\n",
    "            self.a_E = + A.coef(xy, \"E\", \"v\")*(Sfx)/dx\n",
    "            self.a_W = - A.coef(xy, \"W\", \"v\")*(Sfx)/dx\n",
    "\n",
    "    def createMatrix(self):\n",
    "\n",
    "        A_no_boundary = np.zeros([(ny+2)*(nx+2), (ny+2)*(nx+2)])\n",
    "        A_no_boundary = csr_matrix(A_no_boundary)  \n",
    "\n",
    "        for j in np.arange(2, ny):     \n",
    "\n",
    "            for k in np.arange((j*(nx+2)+2), (j*(nx+2)+nx)):  \n",
    "                \n",
    "                A_no_boundary[k,k] = self.a_P\n",
    "                A_no_boundary[k,index(k).n] = -self.a_N\n",
    "                A_no_boundary[k,index(k).s] = -self.a_S\n",
    "                A_no_boundary[k, index(k).e] = -self.a_E\n",
    "                A_no_boundary[k, index(k).w] = -self.a_W\n",
    "\n",
    "        return A_no_boundary\n",
    "\n",
    "    # b temporal term\n",
    "    def b_temp(u_old, u_old_old, k, xy):\n",
    "\n",
    "        if xy == \"x\":\n",
    "            b_temporal_term = (rho/(dt**2))*( 2*(u_old[k,0])*dx*dy - u_old_old[k,0]*dx*dy)\n",
    "        if xy == \"y\":\n",
    "            b_temporal_term = (rho/(dt**2))*( 2*(u_old[k,1])*dx*dy - u_old_old[k,1]*dx*dy)\n",
    "        \n",
    "        return b_temporal_term\n",
    "    \n",
    "    def b_diff(k, xy, u_previous):\n",
    "\n",
    "        if xy == \"x\":\n",
    "            uv = \"v\"\n",
    "        if xy == \"y\":\n",
    "            uv = \"u\"\n",
    "\n",
    "        b_diffusion = (\n",
    "                                Sfy*A.coef(xy, \"N\", uv)*(\n",
    "                                    (A.corner(\"NE\", uv, u_previous, k) - A.corner(\"NW\", uv, u_previous, k))\n",
    "                                    /dx)\n",
    "                                + \n",
    "                                Sfy*A.coef(xy, \"S\", uv)*(\n",
    "                                    (A.corner(\"SE\", uv, u_previous, k) - A.corner(\"SW\", uv, u_previous, k))\n",
    "                                    /dx)\n",
    "                                +\n",
    "                                Sfx*A.coef(xy, \"E\", uv)*(\n",
    "                                    (A.corner(\"NE\", uv, u_previous, k) - A.corner(\"SE\", uv, u_previous, k))\n",
    "                                    /dy)\n",
    "                                +\n",
    "                                Sfx*A.coef(xy, \"W\", uv)*(\n",
    "                                    (A.corner(\"NW\", uv, u_previous, k) - A.corner(\"SW\", uv, u_previous, k))\n",
    "                                    /dy)\n",
    "        )\n",
    "\n",
    "        return b_diffusion\n",
    "    \n",
    "    def corner(corner_placement, uv, u_previous, k):\n",
    "        if uv == \"u\":\n",
    "            uv_i = 0\n",
    "        elif uv == \"v\":\n",
    "            uv_i = 1\n",
    "\n",
    "        disp = displacement(k, u_previous, uv_i)\n",
    "\n",
    "        if corner_placement == \"NE\":\n",
    "            return (1/4)*(disp.P + disp.NE + disp.N + disp.E)\n",
    "        if corner_placement == \"SE\":\n",
    "            return (1/4)*(disp.P + disp.SE + disp.S + disp.E)\n",
    "        if corner_placement == \"SW\":\n",
    "            return (1/4)*(disp.P + disp.SW + disp.S + disp.W)\n",
    "        if corner_placement == \"NW\":\n",
    "            return (1/4)*(disp.P + disp.NW + disp.N + disp.W)\n",
    "\n",
    "\n",
    "    \n",
    "    def coef(xy, face, uv):\n",
    "        # could have and statements\n",
    "        if xy == \"x\":\n",
    "            if face == \"N\":\n",
    "                if uv == \"u\":\n",
    "                    return mu\n",
    "                if uv == \"v\":\n",
    "                    return mu\n",
    "            if face == \"S\":\n",
    "                if uv == \"u\":\n",
    "                    return - mu\n",
    "                if uv == \"v\":\n",
    "                    return - mu\n",
    "            if face == \"E\":\n",
    "                if uv == \"u\":\n",
    "                    return 2*mu + Lambda\n",
    "                if uv == \"v\":\n",
    "                    return Lambda\n",
    "            if face == \"W\":\n",
    "                if uv == \"u\":\n",
    "                    return - (2*mu + Lambda)\n",
    "                if uv == \"v\":\n",
    "                    return - Lambda\n",
    "\n",
    "        elif xy == \"y\":\n",
    "            if face == \"N\":\n",
    "                if uv == \"u\":\n",
    "                    return Lambda\n",
    "                if uv == \"v\":\n",
    "                    return 2*mu + Lambda\n",
    "            if face == \"S\":\n",
    "                if uv == \"u\":\n",
    "                    return - Lambda\n",
    "                if uv == \"v\":\n",
    "                    return - (2*mu + Lambda)\n",
    "            if face == \"E\":\n",
    "                if uv == \"u\":\n",
    "                    return mu\n",
    "                if uv == \"v\":\n",
    "                    return mu\n",
    "            if face == \"W\":\n",
    "                if uv == \"u\":\n",
    "                    return - mu\n",
    "                if uv == \"v\":\n",
    "                    return - mu\n",
    "\n",
    "u_previous = u_new\n",
    "\n",
    "# A.b_diff(25, \"x\", u_previous)"
   ]
  },
  {
   "cell_type": "code",
   "execution_count": 588,
   "metadata": {},
   "outputs": [],
   "source": [
    "class boundaryCellTraction(A):\n",
    "\n",
    "    def __init__(self, edges, xy):\n",
    "        \n",
    "        sw_S, sw_N, sw_W, sw_E = 1, 1, 1, 1\n",
    "\n",
    "        for edge in edges:\n",
    "            if edge == \"b\": sw_S = 0\n",
    "            if edge == \"t\": sw_N = 0\n",
    "            if edge == \"l\": sw_W = 0\n",
    "            if edge == \"r\": sw_E = 0\n",
    "        \n",
    "        self.a_P = (rho*dx*dy/(dt**2)) + A(xy).a_N*sw_N + A(xy).a_S**sw_S + A(xy).a_E*sw_E + A(xy).a_W*sw_W\n",
    "        \n",
    "        self.a_N = A(xy).a_N \n",
    "        self.a_S = A(xy).a_S \n",
    "        self.a_E = A(xy).a_E \n",
    "        self.a_W = A(xy).a_W \n",
    "\n",
    "        # self.a_faces = A(xy).a_N*sw_N + A(xy).a_S*sw_S + A(xy).a_E*sw_E + A(xy).a_W*sw_W \n",
    "\n",
    "    def b_temp(u_old, u_old_old, k, xy):      \n",
    "        return A.b_temp(u_old, u_old_old, k, xy)\n",
    "    \n",
    "    def b_diff(edges, k, xy, u_previous):\n",
    "\n",
    "        if xy == \"x\":\n",
    "            uv = \"v\"\n",
    "        if xy == \"y\":\n",
    "            uv = \"u\"\n",
    "            \n",
    "        N_term =(\n",
    "                    Sfy*A.coef(xy, \"N\", uv)*(\n",
    "                    (boundaryCellTraction.corner(edges, \"NE\", uv, u_previous, k) - boundaryCellTraction.corner(edges, \"NW\", uv, u_previous, k))\n",
    "                    /dx)\n",
    "                )\n",
    "        S_term =(\n",
    "                    Sfy*A.coef(xy, \"S\", uv)*(\n",
    "                        (boundaryCellTraction.corner(edges, \"SE\", uv, u_previous, k) - boundaryCellTraction.corner(edges, \"SW\", uv, u_previous, k))\n",
    "                        /dx)\n",
    "                ) \n",
    "        E_term =(\n",
    "                    Sfx*A.coef(xy, \"E\", uv)*(\n",
    "                        (boundaryCellTraction.corner(edges, \"NE\", uv, u_previous, k) - boundaryCellTraction.corner(edges, \"SE\", uv, u_previous, k))\n",
    "                        /dy)\n",
    "                ) \n",
    "        W_term =(\n",
    "                    Sfx*A.coef(xy, \"W\", uv)*(\n",
    "                        (boundaryCellTraction.corner(edges, \"NW\", uv, u_previous, k) - boundaryCellTraction.corner(edges, \"SW\", uv, u_previous, k))\n",
    "                        /dy)\n",
    "                )\n",
    "\n",
    "        for edge in edges:\n",
    "\n",
    "            if (edge == \"b\") & (xy == \"x\") : S_term =  Sfy*tr_bottom_x  \n",
    "            if (edge == \"b\") & (xy == \"y\") : S_term =  Sfy*tr_bottom_y  \n",
    "            if (edge == \"t\") & (xy == \"x\") : N_term =  Sfy*tr_top_x  \n",
    "            if (edge == \"t\") & (xy == \"y\") : N_term =  Sfy*tr_top_y  \n",
    "            if (edge == \"l\") & (xy == \"x\") : W_term =  Sfx*tr_left_x  \n",
    "            if (edge == \"l\") & (xy == \"y\") : W_term =  Sfx*tr_left_y  \n",
    "            if (edge == \"r\") & (xy == \"x\") : E_term =  Sfx*tr_right_x  \n",
    "            if (edge == \"r\") & (xy == \"y\") : E_term =  Sfx*tr_right_y        \n",
    "\n",
    "        b_diffusion = (N_term + S_term + E_term + W_term)\n",
    "\n",
    "        return b_diffusion\n",
    "    \n",
    "    def corner(edges, corner_placement, uv, u_previous, k):\n",
    "\n",
    "        if uv == \"u\":\n",
    "            uv_i = 0\n",
    "        elif uv == \"v\":\n",
    "            uv_i = 1\n",
    "\n",
    "        disp = displacement(k, u_previous, uv_i)\n",
    "\n",
    "        if corner_placement == \"NE\":\n",
    "            corner =  (1/4)*(disp.P + disp.NE + disp.N + disp.E)\n",
    "        if corner_placement == \"SE\":\n",
    "            corner =  (1/4)*(disp.P + disp.SE + disp.S + disp.E)\n",
    "        if corner_placement == \"SW\":\n",
    "            corner =  (1/4)*(disp.P + disp.SW + disp.S + disp.W)\n",
    "        if corner_placement == \"NW\":\n",
    "            corner =  (1/4)*(disp.P + disp.NW + disp.N + disp.W)\n",
    "\n",
    "        for edge in edges:\n",
    "            if (edge == \"b\") & (corner_placement == \"SE\"):\n",
    "                corner =  (1/2)*(disp.SE + disp.S)\n",
    "            if (edge == \"b\") & (corner_placement == \"SW\"):\n",
    "                corner =  (1/2)*(disp.SW + disp.S)\n",
    "\n",
    "            if (edge == \"t\") & (corner_placement == \"NE\"):\n",
    "                corner =  (1/2)*(disp.NE + disp.N)\n",
    "            if (edge == \"t\") & (corner_placement == \"NW\"):\n",
    "                corner =  (1/2)*(disp.NW + disp.N)\n",
    "\n",
    "            if (edge == \"l\") & (corner_placement == \"NW\"):\n",
    "                corner =  (1/2)*(disp.NW + disp.W)\n",
    "            if (edge == \"l\") & (corner_placement == \"SW\"):\n",
    "                corner =  (1/2)*(disp.SW + disp.W)\n",
    "\n",
    "            if (edge == \"r\") & (corner_placement == \"NE\"):\n",
    "                corner =  (1/2)*(disp.NE + disp.E)\n",
    "            if (edge == \"r\") & (corner_placement == \"SE\"):\n",
    "                corner =  (1/2)*(disp.SE + disp.E)\n",
    "        \n",
    "        return corner\n",
    "\n",
    "# boundaryCellTraction.b_diff([\"b\", \"l\"], 14, \"x\", u_previous)\n",
    "   "
   ]
  },
  {
   "cell_type": "code",
   "execution_count": 589,
   "metadata": {},
   "outputs": [],
   "source": [
    "class boundaryCellTraction(A):\n",
    "\n",
    "    def __init__(self, edges, xy):\n",
    "        \n",
    "        sw_S, sw_N, sw_W, sw_E = 1, 1, 1, 1\n",
    "\n",
    "        for edge in edges:\n",
    "            if edge == \"b\": sw_S = 0\n",
    "            if edge == \"t\": sw_N = 0\n",
    "            if edge == \"l\": sw_W = 0\n",
    "            if edge == \"r\": sw_E = 0\n",
    "        \n",
    "        self.a_P = (rho*dx*dy/(dt**2)) + A(xy).a_N*sw_N + A(xy).a_S*sw_S + A(xy).a_E*sw_E + A(xy).a_W*sw_W\n",
    "        \n",
    "        self.a_N = A(xy).a_N \n",
    "        self.a_S = A(xy).a_S \n",
    "        self.a_E = A(xy).a_E \n",
    "        self.a_W = A(xy).a_W \n",
    "\n",
    "        # self.a_faces = A(xy).a_N*sw_N + A(xy).a_S*sw_S + A(xy).a_E*sw_E + A(xy).a_W*sw_W \n",
    "\n",
    "    def b_temp(u_old, u_old_old, k, xy):      \n",
    "        return A.b_temp(u_old, u_old_old, k, xy)\n",
    "    \n",
    "    def b_diff(edges, k, xy, u_previous):\n",
    "\n",
    "        if xy == \"x\":\n",
    "            uv = \"v\"\n",
    "        if xy == \"y\":\n",
    "            uv = \"u\"\n",
    "            \n",
    "        N_term =(\n",
    "                    Sfy*A.coef(xy, \"N\", uv)*(\n",
    "                    (boundaryCellTraction.corner(edges, \"NE\", uv, u_previous, k) - boundaryCellTraction.corner(edges, \"NW\", uv, u_previous, k))\n",
    "                    /dx)\n",
    "                )\n",
    "        S_term =(\n",
    "                    Sfy*A.coef(xy, \"S\", uv)*(\n",
    "                        (boundaryCellTraction.corner(edges, \"SE\", uv, u_previous, k) - boundaryCellTraction.corner(edges, \"SW\", uv, u_previous, k))\n",
    "                        /dx)\n",
    "                ) \n",
    "        E_term =(\n",
    "                    Sfx*A.coef(xy, \"E\", uv)*(\n",
    "                        (boundaryCellTraction.corner(edges, \"NE\", uv, u_previous, k) - boundaryCellTraction.corner(edges, \"SE\", uv, u_previous, k))\n",
    "                        /dy)\n",
    "                ) \n",
    "        W_term =(\n",
    "                    Sfx*A.coef(xy, \"W\", uv)*(\n",
    "                        (boundaryCellTraction.corner(edges, \"NW\", uv, u_previous, k) - boundaryCellTraction.corner(edges, \"SW\", uv, u_previous, k))\n",
    "                        /dy)\n",
    "                )\n",
    "\n",
    "        for edge in edges:\n",
    "\n",
    "            if (edge == \"b\") & (xy == \"x\") : S_term =  Sfy*tr_bottom_x  \n",
    "            if (edge == \"b\") & (xy == \"y\") : S_term =  Sfy*tr_bottom_y  \n",
    "            if (edge == \"t\") & (xy == \"x\") : N_term =  Sfy*tr_top_x  \n",
    "            if (edge == \"t\") & (xy == \"y\") : N_term =  Sfy*tr_top_y  \n",
    "            if (edge == \"l\") & (xy == \"x\") : W_term =  Sfx*tr_left_x  \n",
    "            if (edge == \"l\") & (xy == \"y\") : W_term =  Sfx*tr_left_y  \n",
    "            if (edge == \"r\") & (xy == \"x\") : E_term =  Sfx*tr_right_x  \n",
    "            if (edge == \"r\") & (xy == \"y\") : E_term =  Sfx*tr_right_y        \n",
    "\n",
    "        b_diffusion = (N_term + S_term + E_term + W_term)\n",
    "\n",
    "        return b_diffusion\n",
    "    \n",
    "    def corner(edges, corner_placement, uv, u_previous, k):\n",
    "\n",
    "        if uv == \"u\":\n",
    "            uv_i = 0\n",
    "        elif uv == \"v\":\n",
    "            uv_i = 1\n",
    "\n",
    "        disp = displacement(k, u_previous, uv_i)\n",
    "\n",
    "        if corner_placement == \"NE\":\n",
    "            corner =  (1/4)*(disp.P + disp.NE + disp.N + disp.E)\n",
    "        if corner_placement == \"SE\":\n",
    "            corner =  (1/4)*(disp.P + disp.SE + disp.S + disp.E)\n",
    "        if corner_placement == \"SW\":\n",
    "            corner =  (1/4)*(disp.P + disp.SW + disp.S + disp.W)\n",
    "        if corner_placement == \"NW\":\n",
    "            corner =  (1/4)*(disp.P + disp.NW + disp.N + disp.W)\n",
    "\n",
    "        for edge in edges:\n",
    "            if (edge == \"b\") & (corner_placement == \"SE\"):\n",
    "                corner =  (1/2)*(disp.SE + disp.S)\n",
    "            if (edge == \"b\") & (corner_placement == \"SW\"):\n",
    "                corner =  (1/2)*(disp.SW + disp.S)\n",
    "\n",
    "            if (edge == \"t\") & (corner_placement == \"NE\"):\n",
    "                corner =  (1/2)*(disp.NE + disp.N)\n",
    "            if (edge == \"t\") & (corner_placement == \"NW\"):\n",
    "                corner =  (1/2)*(disp.NW + disp.N)\n",
    "\n",
    "            if (edge == \"l\") & (corner_placement == \"NW\"):\n",
    "                corner =  (1/2)*(disp.NW + disp.W)\n",
    "            if (edge == \"l\") & (corner_placement == \"SW\"):\n",
    "                corner =  (1/2)*(disp.SW + disp.W)\n",
    "\n",
    "            if (edge == \"r\") & (corner_placement == \"NE\"):\n",
    "                corner =  (1/2)*(disp.NE + disp.E)\n",
    "            if (edge == \"r\") & (corner_placement == \"SE\"):\n",
    "                corner =  (1/2)*(disp.SE + disp.E)\n",
    "        \n",
    "        return corner\n",
    "\n",
    "# boundaryCellTraction.b_diff([\"b\", \"l\"], 14, \"x\", u_previous)\n",
    "   "
   ]
  },
  {
   "cell_type": "code",
   "execution_count": 590,
   "metadata": {},
   "outputs": [],
   "source": [
    "class boundaryCellDisplacement(A):\n",
    "\n",
    "    def __init__(self, edges, xy):\n",
    "        \n",
    "        sw_S, sw_N, sw_W, sw_E = 1, 1, 1, 1\n",
    "\n",
    "        for edge in edges:\n",
    "            if edge == \"b\": sw_S = 2\n",
    "            if edge == \"t\": sw_N = 2\n",
    "            if edge == \"l\": sw_W = 2\n",
    "            if edge == \"r\": sw_E = 2\n",
    "        \n",
    "        self.a_P = (rho*dx*dy/(dt**2)) + A(xy).a_N*sw_N + A(xy).a_S**sw_S + A(xy).a_E*sw_E + A(xy).a_W*sw_W\n",
    "        \n",
    "        self.a_N = A(xy).a_N*sw_N\n",
    "        self.a_S = A(xy).a_S*sw_S\n",
    "        self.a_E = A(xy).a_E*sw_E\n",
    "        self.a_W = A(xy).a_W*sw_W\n",
    "\n",
    "    def b_temp(u_old, u_old_old, k, xy):      \n",
    "        return A.b_temp(u_old, u_old_old, k, xy)\n",
    "    \n",
    "    def b_diff(edges, k, xy, u_previous):\n",
    "\n",
    "        if xy == \"x\":\n",
    "            uv = \"v\"\n",
    "        if xy == \"y\":\n",
    "            uv = \"u\"\n",
    "            \n",
    "        N_term =(\n",
    "                    Sfy*A.coef(xy, \"N\", uv)*(\n",
    "                    (boundaryCellDisplacement.corner(edges, \"NE\", uv, u_previous, k) - boundaryCellDisplacement.corner(edges, \"NW\", uv, u_previous, k))\n",
    "                    /dx)\n",
    "                )\n",
    "        S_term =(\n",
    "                    Sfy*A.coef(xy, \"S\", uv)*(\n",
    "                        (boundaryCellDisplacement.corner(edges, \"SE\", uv, u_previous, k) - boundaryCellDisplacement.corner(edges, \"SW\", uv, u_previous, k))\n",
    "                        /dx)\n",
    "                ) \n",
    "        E_term =(\n",
    "                    Sfx*A.coef(xy, \"E\", uv)*(\n",
    "                        (boundaryCellDisplacement.corner(edges, \"NE\", uv, u_previous, k) - boundaryCellDisplacement.corner(edges, \"SE\", uv, u_previous, k))\n",
    "                        /dy)\n",
    "                ) \n",
    "        W_term =(\n",
    "                    Sfx*A.coef(xy, \"W\", uv)*(\n",
    "                        (boundaryCellDisplacement.corner(edges, \"NW\", uv, u_previous, k) - boundaryCellDisplacement.corner(edges, \"SW\", uv, u_previous, k))\n",
    "                        /dy)\n",
    "                ) \n",
    "\n",
    "        b_diffusion = (N_term + S_term + E_term + W_term)\n",
    "\n",
    "        return b_diffusion\n",
    "    \n",
    "    def corner(edges, corner_placement, uv, u_previous, k):\n",
    "\n",
    "        if uv == \"u\":\n",
    "            uv_i = 0\n",
    "        elif uv == \"v\":\n",
    "            uv_i = 1\n",
    "\n",
    "        disp = displacement(k, u_previous, uv_i)\n",
    "\n",
    "        if corner_placement == \"NE\":\n",
    "            corner =  (1/4)*(disp.P + disp.NE + disp.N + disp.E)\n",
    "        if corner_placement == \"SE\":\n",
    "            corner =  (1/4)*(disp.P + disp.SE + disp.S + disp.E)\n",
    "        if corner_placement == \"SW\":\n",
    "            corner =  (1/4)*(disp.P + disp.SW + disp.S + disp.W)\n",
    "        if corner_placement == \"NW\":\n",
    "            corner =  (1/4)*(disp.P + disp.NW + disp.N + disp.W)\n",
    "\n",
    "        for edge in edges:\n",
    "            if (edge == \"b\") & (corner_placement == \"SE\"):\n",
    "                corner =  (1/2)*(disp.SE + disp.S)\n",
    "            if (edge == \"b\") & (corner_placement == \"SW\"):\n",
    "                corner =  (1/2)*(disp.SW + disp.S)\n",
    "\n",
    "            if (edge == \"t\") & (corner_placement == \"NE\"):\n",
    "                corner =  (1/2)*(disp.NE + disp.N)\n",
    "            if (edge == \"t\") & (corner_placement == \"NW\"):\n",
    "                corner =  (1/2)*(disp.NW + disp.N)\n",
    "\n",
    "            if (edge == \"l\") & (corner_placement == \"NW\"):\n",
    "                corner =  (1/2)*(disp.NW + disp.W)\n",
    "            if (edge == \"l\") & (corner_placement == \"SW\"):\n",
    "                corner =  (1/2)*(disp.SW + disp.W)\n",
    "\n",
    "            if (edge == \"r\") & (corner_placement == \"NE\"):\n",
    "                corner =  (1/2)*(disp.NE + disp.E)\n",
    "            if (edge == \"r\") & (corner_placement == \"SE\"):\n",
    "                corner =  (1/2)*(disp.SE + disp.E)\n",
    "\n",
    "        if len(edges) > 1:\n",
    "\n",
    "            if (edges[0] == \"b\") & (edges[1] == \"l\") & (corner_placement == \"SW\"):\n",
    "                corner = disp.SW \n",
    "            if (edges[0] == \"b\") & (edges[1] == \"r\") & (corner_placement == \"SE\"):\n",
    "                corner = disp.SE\n",
    "            if (edges[0] == \"t\") & (edges[1] == \"l\") & (corner_placement == \"NW\"):\n",
    "                corner = disp.NW\n",
    "            if (edges[0] == \"t\") & (edges[1] == \"r\") & (corner_placement == \"NE\"):\n",
    "                corner = disp.NE\n",
    "\n",
    "        \n",
    "        return corner\n",
    "\n",
    "# boundaryCellDisplacement.b_diff([\"b\", \"l\"], 14, \"x\", u_previous)\n",
    "   "
   ]
  },
  {
   "cell_type": "code",
   "execution_count": 591,
   "metadata": {},
   "outputs": [],
   "source": [
    "def displacement_cell_BCs(A_matrix, b_matrix, k, edges, xy, u_old, u_old_old, u_previous):\n",
    "\n",
    "    A_matrix[k,k] = boundaryCellDisplacement(edges, xy).a_P\n",
    "    #an\n",
    "    A_matrix[k,index(k).n] = - boundaryCellDisplacement(edges, xy).a_N        \n",
    "    #as\n",
    "    A_matrix[k,index(k).s] = - boundaryCellDisplacement(edges, xy).a_S   \n",
    "    #ae\n",
    "    A_matrix[k, index(k).e] = - boundaryCellDisplacement(edges, xy).a_E\n",
    "    #aw\n",
    "    A_matrix[k, index(k).w] = - boundaryCellDisplacement(edges, xy).a_W\n",
    "\n",
    "    b_matrix[k] =(\n",
    "                boundaryCellDisplacement.b_temp(u_old, u_old_old, k, xy)\n",
    "                +\n",
    "                boundaryCellDisplacement.b_diff(edges, k, xy, u_previous)\n",
    "            )   \n",
    "\n",
    "    return A_matrix, b_matrix\n",
    "\n",
    "def displacement_point_BCs(A_matrix, b_matrix, k, edges, xy):\n",
    "    \n",
    "    A_matrix[k,k] = 1\n",
    "    b_matrix[k] = edge_U(edges, xy).BC\n",
    "\n",
    "    return A_matrix, b_matrix\n"
   ]
  },
  {
   "cell_type": "code",
   "execution_count": 592,
   "metadata": {},
   "outputs": [
    {
     "data": {
      "text/plain": [
       "-1e-06"
      ]
     },
     "execution_count": 592,
     "metadata": {},
     "output_type": "execute_result"
    }
   ],
   "source": [
    "edges = [\"b\"]\n",
    "\n",
    "edge_U(edges, \"x\").BC"
   ]
  },
  {
   "cell_type": "code",
   "execution_count": 593,
   "metadata": {},
   "outputs": [
    {
     "name": "stdout",
     "output_type": "stream",
     "text": [
      "\n",
      "Time = 0.0\n",
      "icorr = 1, Residual = 0.33249823757863083973, normFactor = 0.00000229857332906039\n",
      "icorr = 2, Residual = 0.05792819909369520404, normFactor = 0.00000227816643218719\n",
      "icorr = 3, Residual = 0.03009851397733159101, normFactor = 0.00000322679113148762\n",
      "icorr = 4, Residual = 0.01962805868641278456, normFactor = 0.00000393383778341544\n",
      "icorr = 5, Residual = 0.01353180207992573693, normFactor = 0.00000453498649230826\n",
      "icorr = 6, Residual = 0.00980955481630328870, normFactor = 0.00000498382384337414\n",
      "icorr = 7, Residual = 0.00725539400979238400, normFactor = 0.00000536483913915077\n",
      "icorr = 8, Residual = 0.00548681083829498026, normFactor = 0.00000564946060229507\n",
      "icorr = 9, Residual = 0.00419032454852893109, normFactor = 0.00000589100708652398\n",
      "icorr = 10, Residual = 0.00323752276949098965, normFactor = 0.00000607147109285290\n",
      "icorr = 11, Residual = 0.00251493158955878177, normFactor = 0.00000622460419533171\n",
      "icorr = 12, Residual = 0.00196643225876660076, normFactor = 0.00000633902572325843\n",
      "icorr = 13, Residual = 0.00154246334670869712, normFactor = 0.00000643610812566093\n",
      "icorr = 14, Residual = 0.00121453860858498821, normFactor = 0.00000650865620095155\n",
      "icorr = 15, Residual = 0.00095821506228570914, normFactor = 0.00000657020425229464\n",
      "icorr = 16, Residual = 0.00075770429267970946, normFactor = 0.00000661620300889350\n",
      "icorr = 17, Residual = 0.00059991135414217290, normFactor = 0.00000665522328865774\n",
      "icorr = 18, Residual = 0.00047561683044996682, normFactor = 0.00000668438872665033\n",
      "icorr = 19, Residual = 0.00037739475507069463, normFactor = 0.00000670912696221197\n",
      "icorr = 20, Residual = 0.00029968996425330498, normFactor = 0.00000672761935686855\n",
      "icorr = 21, Residual = 0.00023812537587378549, normFactor = 0.00000674330308594514\n",
      "icorr = 22, Residual = 0.00018928904212642432, normFactor = 0.00000675502828022011\n",
      "icorr = 23, Residual = 0.00015053351202317712, normFactor = 0.00000676497161841518\n",
      "icorr = 24, Residual = 0.00011973827886386035, normFactor = 0.00000677240607421606\n",
      "icorr = 25, Residual = 0.00009527462433339475, normFactor = 0.00000677871009095707\n",
      "icorr = 26, Residual = 0.00007581492476495231, normFactor = 0.00000678342399308978\n",
      "icorr = 27, Residual = 0.00006034606789936200, normFactor = 0.00000678742072272749\n",
      "icorr = 28, Residual = 0.00004803299532096239, normFactor = 0.00000679040964195886\n",
      "icorr = 29, Residual = 0.00003824102116972827, normFactor = 0.00000679294357100369\n",
      "icorr = 30, Residual = 0.00003044337211152395, normFactor = 0.00000679483874913056\n",
      "icorr = 31, Residual = 0.00002424061834911989, normFactor = 0.00000679644527007691\n",
      "icorr = 32, Residual = 0.00001929984655342687, normFactor = 0.00000679764694812595\n",
      "icorr = 33, Residual = 0.00001536894844413819, normFactor = 0.00000679866549401049\n",
      "icorr = 34, Residual = 0.00001223728120773808, normFactor = 0.00000679942744748859\n",
      "icorr = 35, Residual = 0.00000974542575693707, normFactor = 0.00000680007321630017\n",
      "icorr = 36, Residual = 0.00000776000367147705, normFactor = 0.00000680055635409992\n",
      "icorr = 37, Residual = 0.00000618008792522934, normFactor = 0.00000680096578045491\n",
      "icorr = 38, Residual = 0.00000492118348432562, normFactor = 0.00000680127212899173\n",
      "icorr = 39, Residual = 0.00000391934597816637, normFactor = 0.00000680153171231215\n",
      "icorr = 40, Residual = 0.00000312103156327531, normFactor = 0.00000680172596312011\n",
      "icorr = 41, Residual = 0.00000248570745297137, normFactor = 0.00000680189054424643\n",
      "icorr = 42, Residual = 0.00000197943662201009, normFactor = 0.00000680201371627270\n",
      "icorr = 43, Residual = 0.00000157651838151747, normFactor = 0.00000680211806461017\n",
      "icorr = 44, Residual = 0.00000125544006988651, normFactor = 0.00000680219616686369\n",
      "icorr = 45, Residual = 0.00000099990236497564, normFactor = 0.00000680226232652814\n",
      "\n",
      "Time = 0.001\n",
      "icorr = 1, Residual = 0.00000079657541535314, normFactor = 0.00000680231186988394\n",
      "\n",
      "Time = 0.002\n",
      "icorr = 1, Residual = 0.00000063431265034854, normFactor = 0.00000680235382587360\n",
      "\n",
      "Time = 0.003\n",
      "icorr = 1, Residual = 0.00000050512250374631, normFactor = 0.00000680238523792371\n",
      "\n",
      "Time = 0.004\n",
      "icorr = 1, Residual = 0.00000040231331749085, normFactor = 0.00000680241183642587\n",
      "\n",
      "Time = 0.005\n",
      "icorr = 1, Residual = 0.00000032038478745011, normFactor = 0.00000680243175487339\n",
      "\n",
      "Time = 0.006\n",
      "icorr = 1, Residual = 0.00000025517709816959, normFactor = 0.00000680244861928854\n",
      "\n",
      "Time = 0.007\n",
      "icorr = 1, Residual = 0.00000020321350592556, normFactor = 0.00000680246124964454\n",
      "\n",
      "Time = 0.008\n",
      "icorr = 1, Residual = 0.00000016185432690816, normFactor = 0.00000680247194235712\n",
      "\n",
      "Time = 0.009000000000000001\n",
      "icorr = 1, Residual = 0.00000012889558742787, normFactor = 0.00000680247995134972\n"
     ]
    },
    {
     "data": {
      "application/vnd.plotly.v1+json": {
       "config": {
        "plotlyServerURL": "https://plot.ly"
       },
       "data": [
        {
         "type": "surface",
         "x": [
          [
           0,
           0.000625,
           0.001875,
           0.0031249999999999997,
           0.0043749999999999995,
           0.005624999999999999,
           0.006874999999999998,
           0.008124999999999999,
           0.009375,
           0.01
          ],
          [
           0,
           0.000625,
           0.001875,
           0.0031249999999999997,
           0.0043749999999999995,
           0.005624999999999999,
           0.006874999999999998,
           0.008124999999999999,
           0.009375,
           0.01
          ],
          [
           0,
           0.000625,
           0.001875,
           0.0031249999999999997,
           0.0043749999999999995,
           0.005624999999999999,
           0.006874999999999998,
           0.008124999999999999,
           0.009375,
           0.01
          ],
          [
           0,
           0.000625,
           0.001875,
           0.0031249999999999997,
           0.0043749999999999995,
           0.005624999999999999,
           0.006874999999999998,
           0.008124999999999999,
           0.009375,
           0.01
          ],
          [
           0,
           0.000625,
           0.001875,
           0.0031249999999999997,
           0.0043749999999999995,
           0.005624999999999999,
           0.006874999999999998,
           0.008124999999999999,
           0.009375,
           0.01
          ],
          [
           0,
           0.000625,
           0.001875,
           0.0031249999999999997,
           0.0043749999999999995,
           0.005624999999999999,
           0.006874999999999998,
           0.008124999999999999,
           0.009375,
           0.01
          ],
          [
           0,
           0.000625,
           0.001875,
           0.0031249999999999997,
           0.0043749999999999995,
           0.005624999999999999,
           0.006874999999999998,
           0.008124999999999999,
           0.009375,
           0.01
          ],
          [
           0,
           0.000625,
           0.001875,
           0.0031249999999999997,
           0.0043749999999999995,
           0.005624999999999999,
           0.006874999999999998,
           0.008124999999999999,
           0.009375,
           0.01
          ],
          [
           0,
           0.000625,
           0.001875,
           0.0031249999999999997,
           0.0043749999999999995,
           0.005624999999999999,
           0.006874999999999998,
           0.008124999999999999,
           0.009375,
           0.01
          ],
          [
           0,
           0.000625,
           0.001875,
           0.0031249999999999997,
           0.0043749999999999995,
           0.005624999999999999,
           0.006874999999999998,
           0.008124999999999999,
           0.009375,
           0.01
          ]
         ],
         "y": [
          [
           0,
           0,
           0,
           0,
           0,
           0,
           0,
           0,
           0,
           0
          ],
          [
           0.000625,
           0.000625,
           0.000625,
           0.000625,
           0.000625,
           0.000625,
           0.000625,
           0.000625,
           0.000625,
           0.000625
          ],
          [
           0.001875,
           0.001875,
           0.001875,
           0.001875,
           0.001875,
           0.001875,
           0.001875,
           0.001875,
           0.001875,
           0.001875
          ],
          [
           0.0031249999999999997,
           0.0031249999999999997,
           0.0031249999999999997,
           0.0031249999999999997,
           0.0031249999999999997,
           0.0031249999999999997,
           0.0031249999999999997,
           0.0031249999999999997,
           0.0031249999999999997,
           0.0031249999999999997
          ],
          [
           0.0043749999999999995,
           0.0043749999999999995,
           0.0043749999999999995,
           0.0043749999999999995,
           0.0043749999999999995,
           0.0043749999999999995,
           0.0043749999999999995,
           0.0043749999999999995,
           0.0043749999999999995,
           0.0043749999999999995
          ],
          [
           0.005624999999999999,
           0.005624999999999999,
           0.005624999999999999,
           0.005624999999999999,
           0.005624999999999999,
           0.005624999999999999,
           0.005624999999999999,
           0.005624999999999999,
           0.005624999999999999,
           0.005624999999999999
          ],
          [
           0.006874999999999998,
           0.006874999999999998,
           0.006874999999999998,
           0.006874999999999998,
           0.006874999999999998,
           0.006874999999999998,
           0.006874999999999998,
           0.006874999999999998,
           0.006874999999999998,
           0.006874999999999998
          ],
          [
           0.008124999999999999,
           0.008124999999999999,
           0.008124999999999999,
           0.008124999999999999,
           0.008124999999999999,
           0.008124999999999999,
           0.008124999999999999,
           0.008124999999999999,
           0.008124999999999999,
           0.008124999999999999
          ],
          [
           0.009375,
           0.009375,
           0.009375,
           0.009375,
           0.009375,
           0.009375,
           0.009375,
           0.009375,
           0.009375,
           0.009375
          ],
          [
           0.01,
           0.01,
           0.01,
           0.01,
           0.01,
           0.01,
           0.01,
           0.01,
           0.01,
           0.01
          ]
         ],
         "z": [
          [
           3.1199987275063137,
           1.414213562373095,
           1.414213562373095,
           1.414213562373095,
           1.414213562373095,
           1.414213562373095,
           1.414213562373095,
           1.414213562373095,
           1.414213562373095,
           0.330237734058151
          ],
          [
           1.414213562373095,
           1.0483219541346463e-13,
           2.6403782175811773e-12,
           2.6629158610002587e-12,
           2.576887563730889e-12,
           2.446089310623108e-12,
           2.2562665826593892e-12,
           1.972528063151289e-12,
           7.0233852973836485e-12,
           1.414213562373095
          ],
          [
           1.414213562373095,
           0.9067951064752591,
           0.34960906768127775,
           0.17830367668678512,
           0.17861011272245753,
           0.24561917245279863,
           0.35928471517341487,
           0.5329977858247535,
           0.788312914160292,
           1.414213562373095
          ],
          [
           1.414213562373095,
           1.0306176112307592,
           0.5126148851530583,
           0.30545935245636396,
           0.2969323661881961,
           0.378958344885558,
           0.5244843324903867,
           0.7325776547863146,
           1.023202680071832,
           1.414213562373095
          ],
          [
           1.414213562373095,
           1.0188506906458192,
           0.5716935754091972,
           0.4195550796002985,
           0.40629320087929827,
           0.4713154551383195,
           0.6142300361927444,
           0.8299286374734214,
           1.1352615820231446,
           1.414213562373095
          ],
          [
           1.414213562373095,
           0.9420663611502483,
           0.6203544856556085,
           0.5470877392729178,
           0.5201864894998937,
           0.5587092869394399,
           0.6858687236611086,
           0.8939407574090579,
           1.1909304768732794,
           1.414213562373095
          ],
          [
           1.414213562373095,
           0.8214316817326607,
           0.7467586248756178,
           0.6852493199607348,
           0.6262532318182847,
           0.6548543518642566,
           0.7695511736110326,
           0.952316106971269,
           1.2182839767885307,
           1.414213562373095
          ],
          [
           1.414213562373095,
           0.9451824511599395,
           0.9941357290851163,
           0.774964377428061,
           0.7274199372129415,
           0.7978636140729602,
           0.9078156582112352,
           1.0361426772613893,
           1.2278259173360448,
           1.414213562373095
          ],
          [
           1.414213562373095,
           2.752773645996497,
           0.9478112862348687,
           0.8433343911901078,
           0.9909160152376951,
           1.1034886672922302,
           1.1758593568896607,
           1.2149559570663149,
           1.1578180663168958,
           1.414213562373095
          ],
          [
           9.626212262781538,
           1.414213562373095,
           1.414213562373095,
           1.414213562373095,
           1.414213562373095,
           1.414213562373095,
           1.414213562373095,
           1.414213562373095,
           1.414213562373095,
           0.6444328415819004
          ]
         ]
        }
       ],
       "layout": {
        "template": {
         "data": {
          "bar": [
           {
            "error_x": {
             "color": "#2a3f5f"
            },
            "error_y": {
             "color": "#2a3f5f"
            },
            "marker": {
             "line": {
              "color": "#E5ECF6",
              "width": 0.5
             },
             "pattern": {
              "fillmode": "overlay",
              "size": 10,
              "solidity": 0.2
             }
            },
            "type": "bar"
           }
          ],
          "barpolar": [
           {
            "marker": {
             "line": {
              "color": "#E5ECF6",
              "width": 0.5
             },
             "pattern": {
              "fillmode": "overlay",
              "size": 10,
              "solidity": 0.2
             }
            },
            "type": "barpolar"
           }
          ],
          "carpet": [
           {
            "aaxis": {
             "endlinecolor": "#2a3f5f",
             "gridcolor": "white",
             "linecolor": "white",
             "minorgridcolor": "white",
             "startlinecolor": "#2a3f5f"
            },
            "baxis": {
             "endlinecolor": "#2a3f5f",
             "gridcolor": "white",
             "linecolor": "white",
             "minorgridcolor": "white",
             "startlinecolor": "#2a3f5f"
            },
            "type": "carpet"
           }
          ],
          "choropleth": [
           {
            "colorbar": {
             "outlinewidth": 0,
             "ticks": ""
            },
            "type": "choropleth"
           }
          ],
          "contour": [
           {
            "colorbar": {
             "outlinewidth": 0,
             "ticks": ""
            },
            "colorscale": [
             [
              0,
              "#0d0887"
             ],
             [
              0.1111111111111111,
              "#46039f"
             ],
             [
              0.2222222222222222,
              "#7201a8"
             ],
             [
              0.3333333333333333,
              "#9c179e"
             ],
             [
              0.4444444444444444,
              "#bd3786"
             ],
             [
              0.5555555555555556,
              "#d8576b"
             ],
             [
              0.6666666666666666,
              "#ed7953"
             ],
             [
              0.7777777777777778,
              "#fb9f3a"
             ],
             [
              0.8888888888888888,
              "#fdca26"
             ],
             [
              1,
              "#f0f921"
             ]
            ],
            "type": "contour"
           }
          ],
          "contourcarpet": [
           {
            "colorbar": {
             "outlinewidth": 0,
             "ticks": ""
            },
            "type": "contourcarpet"
           }
          ],
          "heatmap": [
           {
            "colorbar": {
             "outlinewidth": 0,
             "ticks": ""
            },
            "colorscale": [
             [
              0,
              "#0d0887"
             ],
             [
              0.1111111111111111,
              "#46039f"
             ],
             [
              0.2222222222222222,
              "#7201a8"
             ],
             [
              0.3333333333333333,
              "#9c179e"
             ],
             [
              0.4444444444444444,
              "#bd3786"
             ],
             [
              0.5555555555555556,
              "#d8576b"
             ],
             [
              0.6666666666666666,
              "#ed7953"
             ],
             [
              0.7777777777777778,
              "#fb9f3a"
             ],
             [
              0.8888888888888888,
              "#fdca26"
             ],
             [
              1,
              "#f0f921"
             ]
            ],
            "type": "heatmap"
           }
          ],
          "heatmapgl": [
           {
            "colorbar": {
             "outlinewidth": 0,
             "ticks": ""
            },
            "colorscale": [
             [
              0,
              "#0d0887"
             ],
             [
              0.1111111111111111,
              "#46039f"
             ],
             [
              0.2222222222222222,
              "#7201a8"
             ],
             [
              0.3333333333333333,
              "#9c179e"
             ],
             [
              0.4444444444444444,
              "#bd3786"
             ],
             [
              0.5555555555555556,
              "#d8576b"
             ],
             [
              0.6666666666666666,
              "#ed7953"
             ],
             [
              0.7777777777777778,
              "#fb9f3a"
             ],
             [
              0.8888888888888888,
              "#fdca26"
             ],
             [
              1,
              "#f0f921"
             ]
            ],
            "type": "heatmapgl"
           }
          ],
          "histogram": [
           {
            "marker": {
             "pattern": {
              "fillmode": "overlay",
              "size": 10,
              "solidity": 0.2
             }
            },
            "type": "histogram"
           }
          ],
          "histogram2d": [
           {
            "colorbar": {
             "outlinewidth": 0,
             "ticks": ""
            },
            "colorscale": [
             [
              0,
              "#0d0887"
             ],
             [
              0.1111111111111111,
              "#46039f"
             ],
             [
              0.2222222222222222,
              "#7201a8"
             ],
             [
              0.3333333333333333,
              "#9c179e"
             ],
             [
              0.4444444444444444,
              "#bd3786"
             ],
             [
              0.5555555555555556,
              "#d8576b"
             ],
             [
              0.6666666666666666,
              "#ed7953"
             ],
             [
              0.7777777777777778,
              "#fb9f3a"
             ],
             [
              0.8888888888888888,
              "#fdca26"
             ],
             [
              1,
              "#f0f921"
             ]
            ],
            "type": "histogram2d"
           }
          ],
          "histogram2dcontour": [
           {
            "colorbar": {
             "outlinewidth": 0,
             "ticks": ""
            },
            "colorscale": [
             [
              0,
              "#0d0887"
             ],
             [
              0.1111111111111111,
              "#46039f"
             ],
             [
              0.2222222222222222,
              "#7201a8"
             ],
             [
              0.3333333333333333,
              "#9c179e"
             ],
             [
              0.4444444444444444,
              "#bd3786"
             ],
             [
              0.5555555555555556,
              "#d8576b"
             ],
             [
              0.6666666666666666,
              "#ed7953"
             ],
             [
              0.7777777777777778,
              "#fb9f3a"
             ],
             [
              0.8888888888888888,
              "#fdca26"
             ],
             [
              1,
              "#f0f921"
             ]
            ],
            "type": "histogram2dcontour"
           }
          ],
          "mesh3d": [
           {
            "colorbar": {
             "outlinewidth": 0,
             "ticks": ""
            },
            "type": "mesh3d"
           }
          ],
          "parcoords": [
           {
            "line": {
             "colorbar": {
              "outlinewidth": 0,
              "ticks": ""
             }
            },
            "type": "parcoords"
           }
          ],
          "pie": [
           {
            "automargin": true,
            "type": "pie"
           }
          ],
          "scatter": [
           {
            "marker": {
             "colorbar": {
              "outlinewidth": 0,
              "ticks": ""
             }
            },
            "type": "scatter"
           }
          ],
          "scatter3d": [
           {
            "line": {
             "colorbar": {
              "outlinewidth": 0,
              "ticks": ""
             }
            },
            "marker": {
             "colorbar": {
              "outlinewidth": 0,
              "ticks": ""
             }
            },
            "type": "scatter3d"
           }
          ],
          "scattercarpet": [
           {
            "marker": {
             "colorbar": {
              "outlinewidth": 0,
              "ticks": ""
             }
            },
            "type": "scattercarpet"
           }
          ],
          "scattergeo": [
           {
            "marker": {
             "colorbar": {
              "outlinewidth": 0,
              "ticks": ""
             }
            },
            "type": "scattergeo"
           }
          ],
          "scattergl": [
           {
            "marker": {
             "colorbar": {
              "outlinewidth": 0,
              "ticks": ""
             }
            },
            "type": "scattergl"
           }
          ],
          "scattermapbox": [
           {
            "marker": {
             "colorbar": {
              "outlinewidth": 0,
              "ticks": ""
             }
            },
            "type": "scattermapbox"
           }
          ],
          "scatterpolar": [
           {
            "marker": {
             "colorbar": {
              "outlinewidth": 0,
              "ticks": ""
             }
            },
            "type": "scatterpolar"
           }
          ],
          "scatterpolargl": [
           {
            "marker": {
             "colorbar": {
              "outlinewidth": 0,
              "ticks": ""
             }
            },
            "type": "scatterpolargl"
           }
          ],
          "scatterternary": [
           {
            "marker": {
             "colorbar": {
              "outlinewidth": 0,
              "ticks": ""
             }
            },
            "type": "scatterternary"
           }
          ],
          "surface": [
           {
            "colorbar": {
             "outlinewidth": 0,
             "ticks": ""
            },
            "colorscale": [
             [
              0,
              "#0d0887"
             ],
             [
              0.1111111111111111,
              "#46039f"
             ],
             [
              0.2222222222222222,
              "#7201a8"
             ],
             [
              0.3333333333333333,
              "#9c179e"
             ],
             [
              0.4444444444444444,
              "#bd3786"
             ],
             [
              0.5555555555555556,
              "#d8576b"
             ],
             [
              0.6666666666666666,
              "#ed7953"
             ],
             [
              0.7777777777777778,
              "#fb9f3a"
             ],
             [
              0.8888888888888888,
              "#fdca26"
             ],
             [
              1,
              "#f0f921"
             ]
            ],
            "type": "surface"
           }
          ],
          "table": [
           {
            "cells": {
             "fill": {
              "color": "#EBF0F8"
             },
             "line": {
              "color": "white"
             }
            },
            "header": {
             "fill": {
              "color": "#C8D4E3"
             },
             "line": {
              "color": "white"
             }
            },
            "type": "table"
           }
          ]
         },
         "layout": {
          "annotationdefaults": {
           "arrowcolor": "#2a3f5f",
           "arrowhead": 0,
           "arrowwidth": 1
          },
          "autotypenumbers": "strict",
          "coloraxis": {
           "colorbar": {
            "outlinewidth": 0,
            "ticks": ""
           }
          },
          "colorscale": {
           "diverging": [
            [
             0,
             "#8e0152"
            ],
            [
             0.1,
             "#c51b7d"
            ],
            [
             0.2,
             "#de77ae"
            ],
            [
             0.3,
             "#f1b6da"
            ],
            [
             0.4,
             "#fde0ef"
            ],
            [
             0.5,
             "#f7f7f7"
            ],
            [
             0.6,
             "#e6f5d0"
            ],
            [
             0.7,
             "#b8e186"
            ],
            [
             0.8,
             "#7fbc41"
            ],
            [
             0.9,
             "#4d9221"
            ],
            [
             1,
             "#276419"
            ]
           ],
           "sequential": [
            [
             0,
             "#0d0887"
            ],
            [
             0.1111111111111111,
             "#46039f"
            ],
            [
             0.2222222222222222,
             "#7201a8"
            ],
            [
             0.3333333333333333,
             "#9c179e"
            ],
            [
             0.4444444444444444,
             "#bd3786"
            ],
            [
             0.5555555555555556,
             "#d8576b"
            ],
            [
             0.6666666666666666,
             "#ed7953"
            ],
            [
             0.7777777777777778,
             "#fb9f3a"
            ],
            [
             0.8888888888888888,
             "#fdca26"
            ],
            [
             1,
             "#f0f921"
            ]
           ],
           "sequentialminus": [
            [
             0,
             "#0d0887"
            ],
            [
             0.1111111111111111,
             "#46039f"
            ],
            [
             0.2222222222222222,
             "#7201a8"
            ],
            [
             0.3333333333333333,
             "#9c179e"
            ],
            [
             0.4444444444444444,
             "#bd3786"
            ],
            [
             0.5555555555555556,
             "#d8576b"
            ],
            [
             0.6666666666666666,
             "#ed7953"
            ],
            [
             0.7777777777777778,
             "#fb9f3a"
            ],
            [
             0.8888888888888888,
             "#fdca26"
            ],
            [
             1,
             "#f0f921"
            ]
           ]
          },
          "colorway": [
           "#636efa",
           "#EF553B",
           "#00cc96",
           "#ab63fa",
           "#FFA15A",
           "#19d3f3",
           "#FF6692",
           "#B6E880",
           "#FF97FF",
           "#FECB52"
          ],
          "font": {
           "color": "#2a3f5f"
          },
          "geo": {
           "bgcolor": "white",
           "lakecolor": "white",
           "landcolor": "#E5ECF6",
           "showlakes": true,
           "showland": true,
           "subunitcolor": "white"
          },
          "hoverlabel": {
           "align": "left"
          },
          "hovermode": "closest",
          "mapbox": {
           "style": "light"
          },
          "paper_bgcolor": "white",
          "plot_bgcolor": "#E5ECF6",
          "polar": {
           "angularaxis": {
            "gridcolor": "white",
            "linecolor": "white",
            "ticks": ""
           },
           "bgcolor": "#E5ECF6",
           "radialaxis": {
            "gridcolor": "white",
            "linecolor": "white",
            "ticks": ""
           }
          },
          "scene": {
           "xaxis": {
            "backgroundcolor": "#E5ECF6",
            "gridcolor": "white",
            "gridwidth": 2,
            "linecolor": "white",
            "showbackground": true,
            "ticks": "",
            "zerolinecolor": "white"
           },
           "yaxis": {
            "backgroundcolor": "#E5ECF6",
            "gridcolor": "white",
            "gridwidth": 2,
            "linecolor": "white",
            "showbackground": true,
            "ticks": "",
            "zerolinecolor": "white"
           },
           "zaxis": {
            "backgroundcolor": "#E5ECF6",
            "gridcolor": "white",
            "gridwidth": 2,
            "linecolor": "white",
            "showbackground": true,
            "ticks": "",
            "zerolinecolor": "white"
           }
          },
          "shapedefaults": {
           "line": {
            "color": "#2a3f5f"
           }
          },
          "ternary": {
           "aaxis": {
            "gridcolor": "white",
            "linecolor": "white",
            "ticks": ""
           },
           "baxis": {
            "gridcolor": "white",
            "linecolor": "white",
            "ticks": ""
           },
           "bgcolor": "#E5ECF6",
           "caxis": {
            "gridcolor": "white",
            "linecolor": "white",
            "ticks": ""
           }
          },
          "title": {
           "x": 0.05
          },
          "xaxis": {
           "automargin": true,
           "gridcolor": "white",
           "linecolor": "white",
           "ticks": "",
           "title": {
            "standoff": 15
           },
           "zerolinecolor": "white",
           "zerolinewidth": 2
          },
          "yaxis": {
           "automargin": true,
           "gridcolor": "white",
           "linecolor": "white",
           "ticks": "",
           "title": {
            "standoff": 15
           },
           "zerolinecolor": "white",
           "zerolinewidth": 2
          }
         }
        }
       }
      },
      "text/html": [
       "<div>                            <div id=\"19d5e26b-33f6-4ab6-b78b-644ecc52bfed\" class=\"plotly-graph-div\" style=\"height:525px; width:100%;\"></div>            <script type=\"text/javascript\">                require([\"plotly\"], function(Plotly) {                    window.PLOTLYENV=window.PLOTLYENV || {};                                    if (document.getElementById(\"19d5e26b-33f6-4ab6-b78b-644ecc52bfed\")) {                    Plotly.newPlot(                        \"19d5e26b-33f6-4ab6-b78b-644ecc52bfed\",                        [{\"x\":[[0.0,0.000625,0.001875,0.0031249999999999997,0.0043749999999999995,0.005624999999999999,0.006874999999999998,0.008124999999999999,0.009375,0.01],[0.0,0.000625,0.001875,0.0031249999999999997,0.0043749999999999995,0.005624999999999999,0.006874999999999998,0.008124999999999999,0.009375,0.01],[0.0,0.000625,0.001875,0.0031249999999999997,0.0043749999999999995,0.005624999999999999,0.006874999999999998,0.008124999999999999,0.009375,0.01],[0.0,0.000625,0.001875,0.0031249999999999997,0.0043749999999999995,0.005624999999999999,0.006874999999999998,0.008124999999999999,0.009375,0.01],[0.0,0.000625,0.001875,0.0031249999999999997,0.0043749999999999995,0.005624999999999999,0.006874999999999998,0.008124999999999999,0.009375,0.01],[0.0,0.000625,0.001875,0.0031249999999999997,0.0043749999999999995,0.005624999999999999,0.006874999999999998,0.008124999999999999,0.009375,0.01],[0.0,0.000625,0.001875,0.0031249999999999997,0.0043749999999999995,0.005624999999999999,0.006874999999999998,0.008124999999999999,0.009375,0.01],[0.0,0.000625,0.001875,0.0031249999999999997,0.0043749999999999995,0.005624999999999999,0.006874999999999998,0.008124999999999999,0.009375,0.01],[0.0,0.000625,0.001875,0.0031249999999999997,0.0043749999999999995,0.005624999999999999,0.006874999999999998,0.008124999999999999,0.009375,0.01],[0.0,0.000625,0.001875,0.0031249999999999997,0.0043749999999999995,0.005624999999999999,0.006874999999999998,0.008124999999999999,0.009375,0.01]],\"y\":[[0.0,0.0,0.0,0.0,0.0,0.0,0.0,0.0,0.0,0.0],[0.000625,0.000625,0.000625,0.000625,0.000625,0.000625,0.000625,0.000625,0.000625,0.000625],[0.001875,0.001875,0.001875,0.001875,0.001875,0.001875,0.001875,0.001875,0.001875,0.001875],[0.0031249999999999997,0.0031249999999999997,0.0031249999999999997,0.0031249999999999997,0.0031249999999999997,0.0031249999999999997,0.0031249999999999997,0.0031249999999999997,0.0031249999999999997,0.0031249999999999997],[0.0043749999999999995,0.0043749999999999995,0.0043749999999999995,0.0043749999999999995,0.0043749999999999995,0.0043749999999999995,0.0043749999999999995,0.0043749999999999995,0.0043749999999999995,0.0043749999999999995],[0.005624999999999999,0.005624999999999999,0.005624999999999999,0.005624999999999999,0.005624999999999999,0.005624999999999999,0.005624999999999999,0.005624999999999999,0.005624999999999999,0.005624999999999999],[0.006874999999999998,0.006874999999999998,0.006874999999999998,0.006874999999999998,0.006874999999999998,0.006874999999999998,0.006874999999999998,0.006874999999999998,0.006874999999999998,0.006874999999999998],[0.008124999999999999,0.008124999999999999,0.008124999999999999,0.008124999999999999,0.008124999999999999,0.008124999999999999,0.008124999999999999,0.008124999999999999,0.008124999999999999,0.008124999999999999],[0.009375,0.009375,0.009375,0.009375,0.009375,0.009375,0.009375,0.009375,0.009375,0.009375],[0.01,0.01,0.01,0.01,0.01,0.01,0.01,0.01,0.01,0.01]],\"z\":[[3.1199987275063137,1.414213562373095,1.414213562373095,1.414213562373095,1.414213562373095,1.414213562373095,1.414213562373095,1.414213562373095,1.414213562373095,0.330237734058151],[1.414213562373095,1.0483219541346463e-13,2.6403782175811773e-12,2.6629158610002587e-12,2.576887563730889e-12,2.446089310623108e-12,2.2562665826593892e-12,1.972528063151289e-12,7.0233852973836485e-12,1.414213562373095],[1.414213562373095,0.9067951064752591,0.34960906768127775,0.17830367668678512,0.17861011272245753,0.24561917245279863,0.35928471517341487,0.5329977858247535,0.788312914160292,1.414213562373095],[1.414213562373095,1.0306176112307592,0.5126148851530583,0.30545935245636396,0.2969323661881961,0.378958344885558,0.5244843324903867,0.7325776547863146,1.023202680071832,1.414213562373095],[1.414213562373095,1.0188506906458192,0.5716935754091972,0.4195550796002985,0.40629320087929827,0.4713154551383195,0.6142300361927444,0.8299286374734214,1.1352615820231446,1.414213562373095],[1.414213562373095,0.9420663611502483,0.6203544856556085,0.5470877392729178,0.5201864894998937,0.5587092869394399,0.6858687236611086,0.8939407574090579,1.1909304768732794,1.414213562373095],[1.414213562373095,0.8214316817326607,0.7467586248756178,0.6852493199607348,0.6262532318182847,0.6548543518642566,0.7695511736110326,0.952316106971269,1.2182839767885307,1.414213562373095],[1.414213562373095,0.9451824511599395,0.9941357290851163,0.774964377428061,0.7274199372129415,0.7978636140729602,0.9078156582112352,1.0361426772613893,1.2278259173360448,1.414213562373095],[1.414213562373095,2.752773645996497,0.9478112862348687,0.8433343911901078,0.9909160152376951,1.1034886672922302,1.1758593568896607,1.2149559570663149,1.1578180663168958,1.414213562373095],[9.626212262781538,1.414213562373095,1.414213562373095,1.414213562373095,1.414213562373095,1.414213562373095,1.414213562373095,1.414213562373095,1.414213562373095,0.6444328415819004]],\"type\":\"surface\"}],                        {\"template\":{\"data\":{\"bar\":[{\"error_x\":{\"color\":\"#2a3f5f\"},\"error_y\":{\"color\":\"#2a3f5f\"},\"marker\":{\"line\":{\"color\":\"#E5ECF6\",\"width\":0.5},\"pattern\":{\"fillmode\":\"overlay\",\"size\":10,\"solidity\":0.2}},\"type\":\"bar\"}],\"barpolar\":[{\"marker\":{\"line\":{\"color\":\"#E5ECF6\",\"width\":0.5},\"pattern\":{\"fillmode\":\"overlay\",\"size\":10,\"solidity\":0.2}},\"type\":\"barpolar\"}],\"carpet\":[{\"aaxis\":{\"endlinecolor\":\"#2a3f5f\",\"gridcolor\":\"white\",\"linecolor\":\"white\",\"minorgridcolor\":\"white\",\"startlinecolor\":\"#2a3f5f\"},\"baxis\":{\"endlinecolor\":\"#2a3f5f\",\"gridcolor\":\"white\",\"linecolor\":\"white\",\"minorgridcolor\":\"white\",\"startlinecolor\":\"#2a3f5f\"},\"type\":\"carpet\"}],\"choropleth\":[{\"colorbar\":{\"outlinewidth\":0,\"ticks\":\"\"},\"type\":\"choropleth\"}],\"contour\":[{\"colorbar\":{\"outlinewidth\":0,\"ticks\":\"\"},\"colorscale\":[[0.0,\"#0d0887\"],[0.1111111111111111,\"#46039f\"],[0.2222222222222222,\"#7201a8\"],[0.3333333333333333,\"#9c179e\"],[0.4444444444444444,\"#bd3786\"],[0.5555555555555556,\"#d8576b\"],[0.6666666666666666,\"#ed7953\"],[0.7777777777777778,\"#fb9f3a\"],[0.8888888888888888,\"#fdca26\"],[1.0,\"#f0f921\"]],\"type\":\"contour\"}],\"contourcarpet\":[{\"colorbar\":{\"outlinewidth\":0,\"ticks\":\"\"},\"type\":\"contourcarpet\"}],\"heatmap\":[{\"colorbar\":{\"outlinewidth\":0,\"ticks\":\"\"},\"colorscale\":[[0.0,\"#0d0887\"],[0.1111111111111111,\"#46039f\"],[0.2222222222222222,\"#7201a8\"],[0.3333333333333333,\"#9c179e\"],[0.4444444444444444,\"#bd3786\"],[0.5555555555555556,\"#d8576b\"],[0.6666666666666666,\"#ed7953\"],[0.7777777777777778,\"#fb9f3a\"],[0.8888888888888888,\"#fdca26\"],[1.0,\"#f0f921\"]],\"type\":\"heatmap\"}],\"heatmapgl\":[{\"colorbar\":{\"outlinewidth\":0,\"ticks\":\"\"},\"colorscale\":[[0.0,\"#0d0887\"],[0.1111111111111111,\"#46039f\"],[0.2222222222222222,\"#7201a8\"],[0.3333333333333333,\"#9c179e\"],[0.4444444444444444,\"#bd3786\"],[0.5555555555555556,\"#d8576b\"],[0.6666666666666666,\"#ed7953\"],[0.7777777777777778,\"#fb9f3a\"],[0.8888888888888888,\"#fdca26\"],[1.0,\"#f0f921\"]],\"type\":\"heatmapgl\"}],\"histogram\":[{\"marker\":{\"pattern\":{\"fillmode\":\"overlay\",\"size\":10,\"solidity\":0.2}},\"type\":\"histogram\"}],\"histogram2d\":[{\"colorbar\":{\"outlinewidth\":0,\"ticks\":\"\"},\"colorscale\":[[0.0,\"#0d0887\"],[0.1111111111111111,\"#46039f\"],[0.2222222222222222,\"#7201a8\"],[0.3333333333333333,\"#9c179e\"],[0.4444444444444444,\"#bd3786\"],[0.5555555555555556,\"#d8576b\"],[0.6666666666666666,\"#ed7953\"],[0.7777777777777778,\"#fb9f3a\"],[0.8888888888888888,\"#fdca26\"],[1.0,\"#f0f921\"]],\"type\":\"histogram2d\"}],\"histogram2dcontour\":[{\"colorbar\":{\"outlinewidth\":0,\"ticks\":\"\"},\"colorscale\":[[0.0,\"#0d0887\"],[0.1111111111111111,\"#46039f\"],[0.2222222222222222,\"#7201a8\"],[0.3333333333333333,\"#9c179e\"],[0.4444444444444444,\"#bd3786\"],[0.5555555555555556,\"#d8576b\"],[0.6666666666666666,\"#ed7953\"],[0.7777777777777778,\"#fb9f3a\"],[0.8888888888888888,\"#fdca26\"],[1.0,\"#f0f921\"]],\"type\":\"histogram2dcontour\"}],\"mesh3d\":[{\"colorbar\":{\"outlinewidth\":0,\"ticks\":\"\"},\"type\":\"mesh3d\"}],\"parcoords\":[{\"line\":{\"colorbar\":{\"outlinewidth\":0,\"ticks\":\"\"}},\"type\":\"parcoords\"}],\"pie\":[{\"automargin\":true,\"type\":\"pie\"}],\"scatter\":[{\"marker\":{\"colorbar\":{\"outlinewidth\":0,\"ticks\":\"\"}},\"type\":\"scatter\"}],\"scatter3d\":[{\"line\":{\"colorbar\":{\"outlinewidth\":0,\"ticks\":\"\"}},\"marker\":{\"colorbar\":{\"outlinewidth\":0,\"ticks\":\"\"}},\"type\":\"scatter3d\"}],\"scattercarpet\":[{\"marker\":{\"colorbar\":{\"outlinewidth\":0,\"ticks\":\"\"}},\"type\":\"scattercarpet\"}],\"scattergeo\":[{\"marker\":{\"colorbar\":{\"outlinewidth\":0,\"ticks\":\"\"}},\"type\":\"scattergeo\"}],\"scattergl\":[{\"marker\":{\"colorbar\":{\"outlinewidth\":0,\"ticks\":\"\"}},\"type\":\"scattergl\"}],\"scattermapbox\":[{\"marker\":{\"colorbar\":{\"outlinewidth\":0,\"ticks\":\"\"}},\"type\":\"scattermapbox\"}],\"scatterpolar\":[{\"marker\":{\"colorbar\":{\"outlinewidth\":0,\"ticks\":\"\"}},\"type\":\"scatterpolar\"}],\"scatterpolargl\":[{\"marker\":{\"colorbar\":{\"outlinewidth\":0,\"ticks\":\"\"}},\"type\":\"scatterpolargl\"}],\"scatterternary\":[{\"marker\":{\"colorbar\":{\"outlinewidth\":0,\"ticks\":\"\"}},\"type\":\"scatterternary\"}],\"surface\":[{\"colorbar\":{\"outlinewidth\":0,\"ticks\":\"\"},\"colorscale\":[[0.0,\"#0d0887\"],[0.1111111111111111,\"#46039f\"],[0.2222222222222222,\"#7201a8\"],[0.3333333333333333,\"#9c179e\"],[0.4444444444444444,\"#bd3786\"],[0.5555555555555556,\"#d8576b\"],[0.6666666666666666,\"#ed7953\"],[0.7777777777777778,\"#fb9f3a\"],[0.8888888888888888,\"#fdca26\"],[1.0,\"#f0f921\"]],\"type\":\"surface\"}],\"table\":[{\"cells\":{\"fill\":{\"color\":\"#EBF0F8\"},\"line\":{\"color\":\"white\"}},\"header\":{\"fill\":{\"color\":\"#C8D4E3\"},\"line\":{\"color\":\"white\"}},\"type\":\"table\"}]},\"layout\":{\"annotationdefaults\":{\"arrowcolor\":\"#2a3f5f\",\"arrowhead\":0,\"arrowwidth\":1},\"autotypenumbers\":\"strict\",\"coloraxis\":{\"colorbar\":{\"outlinewidth\":0,\"ticks\":\"\"}},\"colorscale\":{\"diverging\":[[0,\"#8e0152\"],[0.1,\"#c51b7d\"],[0.2,\"#de77ae\"],[0.3,\"#f1b6da\"],[0.4,\"#fde0ef\"],[0.5,\"#f7f7f7\"],[0.6,\"#e6f5d0\"],[0.7,\"#b8e186\"],[0.8,\"#7fbc41\"],[0.9,\"#4d9221\"],[1,\"#276419\"]],\"sequential\":[[0.0,\"#0d0887\"],[0.1111111111111111,\"#46039f\"],[0.2222222222222222,\"#7201a8\"],[0.3333333333333333,\"#9c179e\"],[0.4444444444444444,\"#bd3786\"],[0.5555555555555556,\"#d8576b\"],[0.6666666666666666,\"#ed7953\"],[0.7777777777777778,\"#fb9f3a\"],[0.8888888888888888,\"#fdca26\"],[1.0,\"#f0f921\"]],\"sequentialminus\":[[0.0,\"#0d0887\"],[0.1111111111111111,\"#46039f\"],[0.2222222222222222,\"#7201a8\"],[0.3333333333333333,\"#9c179e\"],[0.4444444444444444,\"#bd3786\"],[0.5555555555555556,\"#d8576b\"],[0.6666666666666666,\"#ed7953\"],[0.7777777777777778,\"#fb9f3a\"],[0.8888888888888888,\"#fdca26\"],[1.0,\"#f0f921\"]]},\"colorway\":[\"#636efa\",\"#EF553B\",\"#00cc96\",\"#ab63fa\",\"#FFA15A\",\"#19d3f3\",\"#FF6692\",\"#B6E880\",\"#FF97FF\",\"#FECB52\"],\"font\":{\"color\":\"#2a3f5f\"},\"geo\":{\"bgcolor\":\"white\",\"lakecolor\":\"white\",\"landcolor\":\"#E5ECF6\",\"showlakes\":true,\"showland\":true,\"subunitcolor\":\"white\"},\"hoverlabel\":{\"align\":\"left\"},\"hovermode\":\"closest\",\"mapbox\":{\"style\":\"light\"},\"paper_bgcolor\":\"white\",\"plot_bgcolor\":\"#E5ECF6\",\"polar\":{\"angularaxis\":{\"gridcolor\":\"white\",\"linecolor\":\"white\",\"ticks\":\"\"},\"bgcolor\":\"#E5ECF6\",\"radialaxis\":{\"gridcolor\":\"white\",\"linecolor\":\"white\",\"ticks\":\"\"}},\"scene\":{\"xaxis\":{\"backgroundcolor\":\"#E5ECF6\",\"gridcolor\":\"white\",\"gridwidth\":2,\"linecolor\":\"white\",\"showbackground\":true,\"ticks\":\"\",\"zerolinecolor\":\"white\"},\"yaxis\":{\"backgroundcolor\":\"#E5ECF6\",\"gridcolor\":\"white\",\"gridwidth\":2,\"linecolor\":\"white\",\"showbackground\":true,\"ticks\":\"\",\"zerolinecolor\":\"white\"},\"zaxis\":{\"backgroundcolor\":\"#E5ECF6\",\"gridcolor\":\"white\",\"gridwidth\":2,\"linecolor\":\"white\",\"showbackground\":true,\"ticks\":\"\",\"zerolinecolor\":\"white\"}},\"shapedefaults\":{\"line\":{\"color\":\"#2a3f5f\"}},\"ternary\":{\"aaxis\":{\"gridcolor\":\"white\",\"linecolor\":\"white\",\"ticks\":\"\"},\"baxis\":{\"gridcolor\":\"white\",\"linecolor\":\"white\",\"ticks\":\"\"},\"bgcolor\":\"#E5ECF6\",\"caxis\":{\"gridcolor\":\"white\",\"linecolor\":\"white\",\"ticks\":\"\"}},\"title\":{\"x\":0.05},\"xaxis\":{\"automargin\":true,\"gridcolor\":\"white\",\"linecolor\":\"white\",\"ticks\":\"\",\"title\":{\"standoff\":15},\"zerolinecolor\":\"white\",\"zerolinewidth\":2},\"yaxis\":{\"automargin\":true,\"gridcolor\":\"white\",\"linecolor\":\"white\",\"ticks\":\"\",\"title\":{\"standoff\":15},\"zerolinecolor\":\"white\",\"zerolinewidth\":2}}}},                        {\"responsive\": true}                    ).then(function(){\n",
       "                            \n",
       "var gd = document.getElementById('19d5e26b-33f6-4ab6-b78b-644ecc52bfed');\n",
       "var x = new MutationObserver(function (mutations, observer) {{\n",
       "        var display = window.getComputedStyle(gd).display;\n",
       "        if (!display || display === 'none') {{\n",
       "            console.log([gd, 'removed!']);\n",
       "            Plotly.purge(gd);\n",
       "            observer.disconnect();\n",
       "        }}\n",
       "}});\n",
       "\n",
       "// Listen for the removal of the full notebook cells\n",
       "var notebookContainer = gd.closest('#notebook-container');\n",
       "if (notebookContainer) {{\n",
       "    x.observe(notebookContainer, {childList: true});\n",
       "}}\n",
       "\n",
       "// Listen for the clearing of the current output cell\n",
       "var outputEl = gd.closest('.output');\n",
       "if (outputEl) {{\n",
       "    x.observe(outputEl, {childList: true});\n",
       "}}\n",
       "\n",
       "                        })                };                });            </script>        </div>"
      ]
     },
     "metadata": {},
     "output_type": "display_data"
    },
    {
     "name": "stdout",
     "output_type": "stream",
     "text": [
      "U graph\n"
     ]
    },
    {
     "data": {
      "application/vnd.plotly.v1+json": {
       "config": {
        "plotlyServerURL": "https://plot.ly"
       },
       "data": [
        {
         "type": "surface",
         "x": [
          [
           0,
           0.000625,
           0.001875,
           0.0031249999999999997,
           0.0043749999999999995,
           0.005624999999999999,
           0.006874999999999998,
           0.008124999999999999,
           0.009375,
           0.01
          ],
          [
           0,
           0.000625,
           0.001875,
           0.0031249999999999997,
           0.0043749999999999995,
           0.005624999999999999,
           0.006874999999999998,
           0.008124999999999999,
           0.009375,
           0.01
          ],
          [
           0,
           0.000625,
           0.001875,
           0.0031249999999999997,
           0.0043749999999999995,
           0.005624999999999999,
           0.006874999999999998,
           0.008124999999999999,
           0.009375,
           0.01
          ],
          [
           0,
           0.000625,
           0.001875,
           0.0031249999999999997,
           0.0043749999999999995,
           0.005624999999999999,
           0.006874999999999998,
           0.008124999999999999,
           0.009375,
           0.01
          ],
          [
           0,
           0.000625,
           0.001875,
           0.0031249999999999997,
           0.0043749999999999995,
           0.005624999999999999,
           0.006874999999999998,
           0.008124999999999999,
           0.009375,
           0.01
          ],
          [
           0,
           0.000625,
           0.001875,
           0.0031249999999999997,
           0.0043749999999999995,
           0.005624999999999999,
           0.006874999999999998,
           0.008124999999999999,
           0.009375,
           0.01
          ],
          [
           0,
           0.000625,
           0.001875,
           0.0031249999999999997,
           0.0043749999999999995,
           0.005624999999999999,
           0.006874999999999998,
           0.008124999999999999,
           0.009375,
           0.01
          ],
          [
           0,
           0.000625,
           0.001875,
           0.0031249999999999997,
           0.0043749999999999995,
           0.005624999999999999,
           0.006874999999999998,
           0.008124999999999999,
           0.009375,
           0.01
          ],
          [
           0,
           0.000625,
           0.001875,
           0.0031249999999999997,
           0.0043749999999999995,
           0.005624999999999999,
           0.006874999999999998,
           0.008124999999999999,
           0.009375,
           0.01
          ],
          [
           0,
           0.000625,
           0.001875,
           0.0031249999999999997,
           0.0043749999999999995,
           0.005624999999999999,
           0.006874999999999998,
           0.008124999999999999,
           0.009375,
           0.01
          ]
         ],
         "y": [
          [
           0,
           0,
           0,
           0,
           0,
           0,
           0,
           0,
           0,
           0
          ],
          [
           0.000625,
           0.000625,
           0.000625,
           0.000625,
           0.000625,
           0.000625,
           0.000625,
           0.000625,
           0.000625,
           0.000625
          ],
          [
           0.001875,
           0.001875,
           0.001875,
           0.001875,
           0.001875,
           0.001875,
           0.001875,
           0.001875,
           0.001875,
           0.001875
          ],
          [
           0.0031249999999999997,
           0.0031249999999999997,
           0.0031249999999999997,
           0.0031249999999999997,
           0.0031249999999999997,
           0.0031249999999999997,
           0.0031249999999999997,
           0.0031249999999999997,
           0.0031249999999999997,
           0.0031249999999999997
          ],
          [
           0.0043749999999999995,
           0.0043749999999999995,
           0.0043749999999999995,
           0.0043749999999999995,
           0.0043749999999999995,
           0.0043749999999999995,
           0.0043749999999999995,
           0.0043749999999999995,
           0.0043749999999999995,
           0.0043749999999999995
          ],
          [
           0.005624999999999999,
           0.005624999999999999,
           0.005624999999999999,
           0.005624999999999999,
           0.005624999999999999,
           0.005624999999999999,
           0.005624999999999999,
           0.005624999999999999,
           0.005624999999999999,
           0.005624999999999999
          ],
          [
           0.006874999999999998,
           0.006874999999999998,
           0.006874999999999998,
           0.006874999999999998,
           0.006874999999999998,
           0.006874999999999998,
           0.006874999999999998,
           0.006874999999999998,
           0.006874999999999998,
           0.006874999999999998
          ],
          [
           0.008124999999999999,
           0.008124999999999999,
           0.008124999999999999,
           0.008124999999999999,
           0.008124999999999999,
           0.008124999999999999,
           0.008124999999999999,
           0.008124999999999999,
           0.008124999999999999,
           0.008124999999999999
          ],
          [
           0.009375,
           0.009375,
           0.009375,
           0.009375,
           0.009375,
           0.009375,
           0.009375,
           0.009375,
           0.009375,
           0.009375
          ],
          [
           0.01,
           0.01,
           0.01,
           0.01,
           0.01,
           0.01,
           0.01,
           0.01,
           0.01,
           0.01
          ]
         ],
         "z": [
          [
           0.0000022759855471952962,
           -0.000001,
           -0.000001,
           -0.000001,
           -0.000001,
           -0.000001,
           -0.000001,
           -0.000001,
           -0.000001,
           -2.9039033963831154e-7
          ],
          [
           -0.000001,
           1.673985612665293e-20,
           -2.5375629637639257e-18,
           -2.572139265356039e-18,
           -2.4876983706959623e-18,
           -2.354944317429728e-18,
           -2.160728985193169e-18,
           -1.8697965192078802e-18,
           7.012177757423751e-18,
           0.000001
          ],
          [
           -0.000001,
           -7.561736814422183e-7,
           -3.477685073361773e-7,
           -1.3402472289726193e-7,
           6.980025513296922e-9,
           1.3398379287942945e-7,
           2.7817411319537747e-7,
           4.6129347701978265e-7,
           7.00267881640516e-7,
           0.000001
          ],
          [
           -0.000001,
           -8.3268172493093e-7,
           -5.05873294617318e-7,
           -2.4698812204205877e-7,
           -3.569861675754597e-8,
           1.62148339833027e-7,
           3.6698609362363044e-7,
           5.863673210088904e-7,
           8.127655008386119e-7,
           0.000001
          ],
          [
           -0.000001,
           -8.34960462295e-7,
           -5.707684159427839e-7,
           -3.2649546377685725e-7,
           -9.135095072251745e-8,
           1.4068302972651312e-7,
           3.7253121294445366e-7,
           6.050272884151477e-7,
           8.418348600582977e-7,
           0.000001
          ],
          [
           -0.000001,
           -8.2141453937392e-7,
           -6.089065218441959e-7,
           -3.795972382491024e-7,
           -1.2952903401937356e-7,
           1.2254636319894944e-7,
           3.673447381768927e-7,
           6.07229912587944e-7,
           8.548374042402567e-7,
           0.000001
          ],
          [
           -0.000001,
           -8.003838533066433e-7,
           -6.44525849309182e-7,
           -3.9066136921512823e-7,
           -1.0627691518883366e-7,
           1.6049439753777142e-7,
           4.0089615460071097e-7,
           6.278303338504956e-7,
           8.673952573075075e-7,
           0.000001
          ],
          [
           -0.000001,
           -8.446263461304763e-7,
           -6.808942870399048e-7,
           -2.755984913104853e-7,
           6.301703224448801e-8,
           3.209521697722564e-7,
           5.19763341591245e-7,
           6.879963118779288e-7,
           8.800311546829017e-7,
           0.000001
          ],
          [
           -0.000001,
           -0.0000019456231156674033,
           -4.146769201581411e-7,
           2.1257225685142784e-7,
           5.175356477042956e-7,
           6.818545570903327e-7,
           7.751588913888154e-7,
           8.234004159311975e-7,
           8.159552013904939e-7,
           0.000001
          ],
          [
           -0.000006811037295420631,
           0.000001,
           0.000001,
           0.000001,
           0.000001,
           0.000001,
           0.000001,
           0.000001,
           0.000001,
           4.6197503459134493e-7
          ]
         ]
        }
       ],
       "layout": {
        "template": {
         "data": {
          "bar": [
           {
            "error_x": {
             "color": "#2a3f5f"
            },
            "error_y": {
             "color": "#2a3f5f"
            },
            "marker": {
             "line": {
              "color": "#E5ECF6",
              "width": 0.5
             },
             "pattern": {
              "fillmode": "overlay",
              "size": 10,
              "solidity": 0.2
             }
            },
            "type": "bar"
           }
          ],
          "barpolar": [
           {
            "marker": {
             "line": {
              "color": "#E5ECF6",
              "width": 0.5
             },
             "pattern": {
              "fillmode": "overlay",
              "size": 10,
              "solidity": 0.2
             }
            },
            "type": "barpolar"
           }
          ],
          "carpet": [
           {
            "aaxis": {
             "endlinecolor": "#2a3f5f",
             "gridcolor": "white",
             "linecolor": "white",
             "minorgridcolor": "white",
             "startlinecolor": "#2a3f5f"
            },
            "baxis": {
             "endlinecolor": "#2a3f5f",
             "gridcolor": "white",
             "linecolor": "white",
             "minorgridcolor": "white",
             "startlinecolor": "#2a3f5f"
            },
            "type": "carpet"
           }
          ],
          "choropleth": [
           {
            "colorbar": {
             "outlinewidth": 0,
             "ticks": ""
            },
            "type": "choropleth"
           }
          ],
          "contour": [
           {
            "colorbar": {
             "outlinewidth": 0,
             "ticks": ""
            },
            "colorscale": [
             [
              0,
              "#0d0887"
             ],
             [
              0.1111111111111111,
              "#46039f"
             ],
             [
              0.2222222222222222,
              "#7201a8"
             ],
             [
              0.3333333333333333,
              "#9c179e"
             ],
             [
              0.4444444444444444,
              "#bd3786"
             ],
             [
              0.5555555555555556,
              "#d8576b"
             ],
             [
              0.6666666666666666,
              "#ed7953"
             ],
             [
              0.7777777777777778,
              "#fb9f3a"
             ],
             [
              0.8888888888888888,
              "#fdca26"
             ],
             [
              1,
              "#f0f921"
             ]
            ],
            "type": "contour"
           }
          ],
          "contourcarpet": [
           {
            "colorbar": {
             "outlinewidth": 0,
             "ticks": ""
            },
            "type": "contourcarpet"
           }
          ],
          "heatmap": [
           {
            "colorbar": {
             "outlinewidth": 0,
             "ticks": ""
            },
            "colorscale": [
             [
              0,
              "#0d0887"
             ],
             [
              0.1111111111111111,
              "#46039f"
             ],
             [
              0.2222222222222222,
              "#7201a8"
             ],
             [
              0.3333333333333333,
              "#9c179e"
             ],
             [
              0.4444444444444444,
              "#bd3786"
             ],
             [
              0.5555555555555556,
              "#d8576b"
             ],
             [
              0.6666666666666666,
              "#ed7953"
             ],
             [
              0.7777777777777778,
              "#fb9f3a"
             ],
             [
              0.8888888888888888,
              "#fdca26"
             ],
             [
              1,
              "#f0f921"
             ]
            ],
            "type": "heatmap"
           }
          ],
          "heatmapgl": [
           {
            "colorbar": {
             "outlinewidth": 0,
             "ticks": ""
            },
            "colorscale": [
             [
              0,
              "#0d0887"
             ],
             [
              0.1111111111111111,
              "#46039f"
             ],
             [
              0.2222222222222222,
              "#7201a8"
             ],
             [
              0.3333333333333333,
              "#9c179e"
             ],
             [
              0.4444444444444444,
              "#bd3786"
             ],
             [
              0.5555555555555556,
              "#d8576b"
             ],
             [
              0.6666666666666666,
              "#ed7953"
             ],
             [
              0.7777777777777778,
              "#fb9f3a"
             ],
             [
              0.8888888888888888,
              "#fdca26"
             ],
             [
              1,
              "#f0f921"
             ]
            ],
            "type": "heatmapgl"
           }
          ],
          "histogram": [
           {
            "marker": {
             "pattern": {
              "fillmode": "overlay",
              "size": 10,
              "solidity": 0.2
             }
            },
            "type": "histogram"
           }
          ],
          "histogram2d": [
           {
            "colorbar": {
             "outlinewidth": 0,
             "ticks": ""
            },
            "colorscale": [
             [
              0,
              "#0d0887"
             ],
             [
              0.1111111111111111,
              "#46039f"
             ],
             [
              0.2222222222222222,
              "#7201a8"
             ],
             [
              0.3333333333333333,
              "#9c179e"
             ],
             [
              0.4444444444444444,
              "#bd3786"
             ],
             [
              0.5555555555555556,
              "#d8576b"
             ],
             [
              0.6666666666666666,
              "#ed7953"
             ],
             [
              0.7777777777777778,
              "#fb9f3a"
             ],
             [
              0.8888888888888888,
              "#fdca26"
             ],
             [
              1,
              "#f0f921"
             ]
            ],
            "type": "histogram2d"
           }
          ],
          "histogram2dcontour": [
           {
            "colorbar": {
             "outlinewidth": 0,
             "ticks": ""
            },
            "colorscale": [
             [
              0,
              "#0d0887"
             ],
             [
              0.1111111111111111,
              "#46039f"
             ],
             [
              0.2222222222222222,
              "#7201a8"
             ],
             [
              0.3333333333333333,
              "#9c179e"
             ],
             [
              0.4444444444444444,
              "#bd3786"
             ],
             [
              0.5555555555555556,
              "#d8576b"
             ],
             [
              0.6666666666666666,
              "#ed7953"
             ],
             [
              0.7777777777777778,
              "#fb9f3a"
             ],
             [
              0.8888888888888888,
              "#fdca26"
             ],
             [
              1,
              "#f0f921"
             ]
            ],
            "type": "histogram2dcontour"
           }
          ],
          "mesh3d": [
           {
            "colorbar": {
             "outlinewidth": 0,
             "ticks": ""
            },
            "type": "mesh3d"
           }
          ],
          "parcoords": [
           {
            "line": {
             "colorbar": {
              "outlinewidth": 0,
              "ticks": ""
             }
            },
            "type": "parcoords"
           }
          ],
          "pie": [
           {
            "automargin": true,
            "type": "pie"
           }
          ],
          "scatter": [
           {
            "marker": {
             "colorbar": {
              "outlinewidth": 0,
              "ticks": ""
             }
            },
            "type": "scatter"
           }
          ],
          "scatter3d": [
           {
            "line": {
             "colorbar": {
              "outlinewidth": 0,
              "ticks": ""
             }
            },
            "marker": {
             "colorbar": {
              "outlinewidth": 0,
              "ticks": ""
             }
            },
            "type": "scatter3d"
           }
          ],
          "scattercarpet": [
           {
            "marker": {
             "colorbar": {
              "outlinewidth": 0,
              "ticks": ""
             }
            },
            "type": "scattercarpet"
           }
          ],
          "scattergeo": [
           {
            "marker": {
             "colorbar": {
              "outlinewidth": 0,
              "ticks": ""
             }
            },
            "type": "scattergeo"
           }
          ],
          "scattergl": [
           {
            "marker": {
             "colorbar": {
              "outlinewidth": 0,
              "ticks": ""
             }
            },
            "type": "scattergl"
           }
          ],
          "scattermapbox": [
           {
            "marker": {
             "colorbar": {
              "outlinewidth": 0,
              "ticks": ""
             }
            },
            "type": "scattermapbox"
           }
          ],
          "scatterpolar": [
           {
            "marker": {
             "colorbar": {
              "outlinewidth": 0,
              "ticks": ""
             }
            },
            "type": "scatterpolar"
           }
          ],
          "scatterpolargl": [
           {
            "marker": {
             "colorbar": {
              "outlinewidth": 0,
              "ticks": ""
             }
            },
            "type": "scatterpolargl"
           }
          ],
          "scatterternary": [
           {
            "marker": {
             "colorbar": {
              "outlinewidth": 0,
              "ticks": ""
             }
            },
            "type": "scatterternary"
           }
          ],
          "surface": [
           {
            "colorbar": {
             "outlinewidth": 0,
             "ticks": ""
            },
            "colorscale": [
             [
              0,
              "#0d0887"
             ],
             [
              0.1111111111111111,
              "#46039f"
             ],
             [
              0.2222222222222222,
              "#7201a8"
             ],
             [
              0.3333333333333333,
              "#9c179e"
             ],
             [
              0.4444444444444444,
              "#bd3786"
             ],
             [
              0.5555555555555556,
              "#d8576b"
             ],
             [
              0.6666666666666666,
              "#ed7953"
             ],
             [
              0.7777777777777778,
              "#fb9f3a"
             ],
             [
              0.8888888888888888,
              "#fdca26"
             ],
             [
              1,
              "#f0f921"
             ]
            ],
            "type": "surface"
           }
          ],
          "table": [
           {
            "cells": {
             "fill": {
              "color": "#EBF0F8"
             },
             "line": {
              "color": "white"
             }
            },
            "header": {
             "fill": {
              "color": "#C8D4E3"
             },
             "line": {
              "color": "white"
             }
            },
            "type": "table"
           }
          ]
         },
         "layout": {
          "annotationdefaults": {
           "arrowcolor": "#2a3f5f",
           "arrowhead": 0,
           "arrowwidth": 1
          },
          "autotypenumbers": "strict",
          "coloraxis": {
           "colorbar": {
            "outlinewidth": 0,
            "ticks": ""
           }
          },
          "colorscale": {
           "diverging": [
            [
             0,
             "#8e0152"
            ],
            [
             0.1,
             "#c51b7d"
            ],
            [
             0.2,
             "#de77ae"
            ],
            [
             0.3,
             "#f1b6da"
            ],
            [
             0.4,
             "#fde0ef"
            ],
            [
             0.5,
             "#f7f7f7"
            ],
            [
             0.6,
             "#e6f5d0"
            ],
            [
             0.7,
             "#b8e186"
            ],
            [
             0.8,
             "#7fbc41"
            ],
            [
             0.9,
             "#4d9221"
            ],
            [
             1,
             "#276419"
            ]
           ],
           "sequential": [
            [
             0,
             "#0d0887"
            ],
            [
             0.1111111111111111,
             "#46039f"
            ],
            [
             0.2222222222222222,
             "#7201a8"
            ],
            [
             0.3333333333333333,
             "#9c179e"
            ],
            [
             0.4444444444444444,
             "#bd3786"
            ],
            [
             0.5555555555555556,
             "#d8576b"
            ],
            [
             0.6666666666666666,
             "#ed7953"
            ],
            [
             0.7777777777777778,
             "#fb9f3a"
            ],
            [
             0.8888888888888888,
             "#fdca26"
            ],
            [
             1,
             "#f0f921"
            ]
           ],
           "sequentialminus": [
            [
             0,
             "#0d0887"
            ],
            [
             0.1111111111111111,
             "#46039f"
            ],
            [
             0.2222222222222222,
             "#7201a8"
            ],
            [
             0.3333333333333333,
             "#9c179e"
            ],
            [
             0.4444444444444444,
             "#bd3786"
            ],
            [
             0.5555555555555556,
             "#d8576b"
            ],
            [
             0.6666666666666666,
             "#ed7953"
            ],
            [
             0.7777777777777778,
             "#fb9f3a"
            ],
            [
             0.8888888888888888,
             "#fdca26"
            ],
            [
             1,
             "#f0f921"
            ]
           ]
          },
          "colorway": [
           "#636efa",
           "#EF553B",
           "#00cc96",
           "#ab63fa",
           "#FFA15A",
           "#19d3f3",
           "#FF6692",
           "#B6E880",
           "#FF97FF",
           "#FECB52"
          ],
          "font": {
           "color": "#2a3f5f"
          },
          "geo": {
           "bgcolor": "white",
           "lakecolor": "white",
           "landcolor": "#E5ECF6",
           "showlakes": true,
           "showland": true,
           "subunitcolor": "white"
          },
          "hoverlabel": {
           "align": "left"
          },
          "hovermode": "closest",
          "mapbox": {
           "style": "light"
          },
          "paper_bgcolor": "white",
          "plot_bgcolor": "#E5ECF6",
          "polar": {
           "angularaxis": {
            "gridcolor": "white",
            "linecolor": "white",
            "ticks": ""
           },
           "bgcolor": "#E5ECF6",
           "radialaxis": {
            "gridcolor": "white",
            "linecolor": "white",
            "ticks": ""
           }
          },
          "scene": {
           "xaxis": {
            "backgroundcolor": "#E5ECF6",
            "gridcolor": "white",
            "gridwidth": 2,
            "linecolor": "white",
            "showbackground": true,
            "ticks": "",
            "zerolinecolor": "white"
           },
           "yaxis": {
            "backgroundcolor": "#E5ECF6",
            "gridcolor": "white",
            "gridwidth": 2,
            "linecolor": "white",
            "showbackground": true,
            "ticks": "",
            "zerolinecolor": "white"
           },
           "zaxis": {
            "backgroundcolor": "#E5ECF6",
            "gridcolor": "white",
            "gridwidth": 2,
            "linecolor": "white",
            "showbackground": true,
            "ticks": "",
            "zerolinecolor": "white"
           }
          },
          "shapedefaults": {
           "line": {
            "color": "#2a3f5f"
           }
          },
          "ternary": {
           "aaxis": {
            "gridcolor": "white",
            "linecolor": "white",
            "ticks": ""
           },
           "baxis": {
            "gridcolor": "white",
            "linecolor": "white",
            "ticks": ""
           },
           "bgcolor": "#E5ECF6",
           "caxis": {
            "gridcolor": "white",
            "linecolor": "white",
            "ticks": ""
           }
          },
          "title": {
           "x": 0.05
          },
          "xaxis": {
           "automargin": true,
           "gridcolor": "white",
           "linecolor": "white",
           "ticks": "",
           "title": {
            "standoff": 15
           },
           "zerolinecolor": "white",
           "zerolinewidth": 2
          },
          "yaxis": {
           "automargin": true,
           "gridcolor": "white",
           "linecolor": "white",
           "ticks": "",
           "title": {
            "standoff": 15
           },
           "zerolinecolor": "white",
           "zerolinewidth": 2
          }
         }
        }
       }
      },
      "text/html": [
       "<div>                            <div id=\"5ed2d9e5-076a-4139-bea0-cefc41776f42\" class=\"plotly-graph-div\" style=\"height:525px; width:100%;\"></div>            <script type=\"text/javascript\">                require([\"plotly\"], function(Plotly) {                    window.PLOTLYENV=window.PLOTLYENV || {};                                    if (document.getElementById(\"5ed2d9e5-076a-4139-bea0-cefc41776f42\")) {                    Plotly.newPlot(                        \"5ed2d9e5-076a-4139-bea0-cefc41776f42\",                        [{\"x\":[[0.0,0.000625,0.001875,0.0031249999999999997,0.0043749999999999995,0.005624999999999999,0.006874999999999998,0.008124999999999999,0.009375,0.01],[0.0,0.000625,0.001875,0.0031249999999999997,0.0043749999999999995,0.005624999999999999,0.006874999999999998,0.008124999999999999,0.009375,0.01],[0.0,0.000625,0.001875,0.0031249999999999997,0.0043749999999999995,0.005624999999999999,0.006874999999999998,0.008124999999999999,0.009375,0.01],[0.0,0.000625,0.001875,0.0031249999999999997,0.0043749999999999995,0.005624999999999999,0.006874999999999998,0.008124999999999999,0.009375,0.01],[0.0,0.000625,0.001875,0.0031249999999999997,0.0043749999999999995,0.005624999999999999,0.006874999999999998,0.008124999999999999,0.009375,0.01],[0.0,0.000625,0.001875,0.0031249999999999997,0.0043749999999999995,0.005624999999999999,0.006874999999999998,0.008124999999999999,0.009375,0.01],[0.0,0.000625,0.001875,0.0031249999999999997,0.0043749999999999995,0.005624999999999999,0.006874999999999998,0.008124999999999999,0.009375,0.01],[0.0,0.000625,0.001875,0.0031249999999999997,0.0043749999999999995,0.005624999999999999,0.006874999999999998,0.008124999999999999,0.009375,0.01],[0.0,0.000625,0.001875,0.0031249999999999997,0.0043749999999999995,0.005624999999999999,0.006874999999999998,0.008124999999999999,0.009375,0.01],[0.0,0.000625,0.001875,0.0031249999999999997,0.0043749999999999995,0.005624999999999999,0.006874999999999998,0.008124999999999999,0.009375,0.01]],\"y\":[[0.0,0.0,0.0,0.0,0.0,0.0,0.0,0.0,0.0,0.0],[0.000625,0.000625,0.000625,0.000625,0.000625,0.000625,0.000625,0.000625,0.000625,0.000625],[0.001875,0.001875,0.001875,0.001875,0.001875,0.001875,0.001875,0.001875,0.001875,0.001875],[0.0031249999999999997,0.0031249999999999997,0.0031249999999999997,0.0031249999999999997,0.0031249999999999997,0.0031249999999999997,0.0031249999999999997,0.0031249999999999997,0.0031249999999999997,0.0031249999999999997],[0.0043749999999999995,0.0043749999999999995,0.0043749999999999995,0.0043749999999999995,0.0043749999999999995,0.0043749999999999995,0.0043749999999999995,0.0043749999999999995,0.0043749999999999995,0.0043749999999999995],[0.005624999999999999,0.005624999999999999,0.005624999999999999,0.005624999999999999,0.005624999999999999,0.005624999999999999,0.005624999999999999,0.005624999999999999,0.005624999999999999,0.005624999999999999],[0.006874999999999998,0.006874999999999998,0.006874999999999998,0.006874999999999998,0.006874999999999998,0.006874999999999998,0.006874999999999998,0.006874999999999998,0.006874999999999998,0.006874999999999998],[0.008124999999999999,0.008124999999999999,0.008124999999999999,0.008124999999999999,0.008124999999999999,0.008124999999999999,0.008124999999999999,0.008124999999999999,0.008124999999999999,0.008124999999999999],[0.009375,0.009375,0.009375,0.009375,0.009375,0.009375,0.009375,0.009375,0.009375,0.009375],[0.01,0.01,0.01,0.01,0.01,0.01,0.01,0.01,0.01,0.01]],\"z\":[[2.2759855471952962e-06,-1e-06,-1e-06,-1e-06,-1e-06,-1e-06,-1e-06,-1e-06,-1e-06,-2.9039033963831154e-07],[-1e-06,1.673985612665293e-20,-2.5375629637639257e-18,-2.572139265356039e-18,-2.4876983706959623e-18,-2.354944317429728e-18,-2.160728985193169e-18,-1.8697965192078802e-18,7.012177757423751e-18,1e-06],[-1e-06,-7.561736814422183e-07,-3.477685073361773e-07,-1.3402472289726193e-07,6.980025513296922e-09,1.3398379287942945e-07,2.7817411319537747e-07,4.6129347701978265e-07,7.00267881640516e-07,1e-06],[-1e-06,-8.3268172493093e-07,-5.05873294617318e-07,-2.4698812204205877e-07,-3.569861675754597e-08,1.62148339833027e-07,3.6698609362363044e-07,5.863673210088904e-07,8.127655008386119e-07,1e-06],[-1e-06,-8.34960462295e-07,-5.707684159427839e-07,-3.2649546377685725e-07,-9.135095072251745e-08,1.4068302972651312e-07,3.7253121294445366e-07,6.050272884151477e-07,8.418348600582977e-07,1e-06],[-1e-06,-8.2141453937392e-07,-6.089065218441959e-07,-3.795972382491024e-07,-1.2952903401937356e-07,1.2254636319894944e-07,3.673447381768927e-07,6.07229912587944e-07,8.548374042402567e-07,1e-06],[-1e-06,-8.003838533066433e-07,-6.44525849309182e-07,-3.9066136921512823e-07,-1.0627691518883366e-07,1.6049439753777142e-07,4.0089615460071097e-07,6.278303338504956e-07,8.673952573075075e-07,1e-06],[-1e-06,-8.446263461304763e-07,-6.808942870399048e-07,-2.755984913104853e-07,6.301703224448801e-08,3.209521697722564e-07,5.19763341591245e-07,6.879963118779288e-07,8.800311546829017e-07,1e-06],[-1e-06,-1.9456231156674033e-06,-4.146769201581411e-07,2.1257225685142784e-07,5.175356477042956e-07,6.818545570903327e-07,7.751588913888154e-07,8.234004159311975e-07,8.159552013904939e-07,1e-06],[-6.811037295420631e-06,1e-06,1e-06,1e-06,1e-06,1e-06,1e-06,1e-06,1e-06,4.6197503459134493e-07]],\"type\":\"surface\"}],                        {\"template\":{\"data\":{\"bar\":[{\"error_x\":{\"color\":\"#2a3f5f\"},\"error_y\":{\"color\":\"#2a3f5f\"},\"marker\":{\"line\":{\"color\":\"#E5ECF6\",\"width\":0.5},\"pattern\":{\"fillmode\":\"overlay\",\"size\":10,\"solidity\":0.2}},\"type\":\"bar\"}],\"barpolar\":[{\"marker\":{\"line\":{\"color\":\"#E5ECF6\",\"width\":0.5},\"pattern\":{\"fillmode\":\"overlay\",\"size\":10,\"solidity\":0.2}},\"type\":\"barpolar\"}],\"carpet\":[{\"aaxis\":{\"endlinecolor\":\"#2a3f5f\",\"gridcolor\":\"white\",\"linecolor\":\"white\",\"minorgridcolor\":\"white\",\"startlinecolor\":\"#2a3f5f\"},\"baxis\":{\"endlinecolor\":\"#2a3f5f\",\"gridcolor\":\"white\",\"linecolor\":\"white\",\"minorgridcolor\":\"white\",\"startlinecolor\":\"#2a3f5f\"},\"type\":\"carpet\"}],\"choropleth\":[{\"colorbar\":{\"outlinewidth\":0,\"ticks\":\"\"},\"type\":\"choropleth\"}],\"contour\":[{\"colorbar\":{\"outlinewidth\":0,\"ticks\":\"\"},\"colorscale\":[[0.0,\"#0d0887\"],[0.1111111111111111,\"#46039f\"],[0.2222222222222222,\"#7201a8\"],[0.3333333333333333,\"#9c179e\"],[0.4444444444444444,\"#bd3786\"],[0.5555555555555556,\"#d8576b\"],[0.6666666666666666,\"#ed7953\"],[0.7777777777777778,\"#fb9f3a\"],[0.8888888888888888,\"#fdca26\"],[1.0,\"#f0f921\"]],\"type\":\"contour\"}],\"contourcarpet\":[{\"colorbar\":{\"outlinewidth\":0,\"ticks\":\"\"},\"type\":\"contourcarpet\"}],\"heatmap\":[{\"colorbar\":{\"outlinewidth\":0,\"ticks\":\"\"},\"colorscale\":[[0.0,\"#0d0887\"],[0.1111111111111111,\"#46039f\"],[0.2222222222222222,\"#7201a8\"],[0.3333333333333333,\"#9c179e\"],[0.4444444444444444,\"#bd3786\"],[0.5555555555555556,\"#d8576b\"],[0.6666666666666666,\"#ed7953\"],[0.7777777777777778,\"#fb9f3a\"],[0.8888888888888888,\"#fdca26\"],[1.0,\"#f0f921\"]],\"type\":\"heatmap\"}],\"heatmapgl\":[{\"colorbar\":{\"outlinewidth\":0,\"ticks\":\"\"},\"colorscale\":[[0.0,\"#0d0887\"],[0.1111111111111111,\"#46039f\"],[0.2222222222222222,\"#7201a8\"],[0.3333333333333333,\"#9c179e\"],[0.4444444444444444,\"#bd3786\"],[0.5555555555555556,\"#d8576b\"],[0.6666666666666666,\"#ed7953\"],[0.7777777777777778,\"#fb9f3a\"],[0.8888888888888888,\"#fdca26\"],[1.0,\"#f0f921\"]],\"type\":\"heatmapgl\"}],\"histogram\":[{\"marker\":{\"pattern\":{\"fillmode\":\"overlay\",\"size\":10,\"solidity\":0.2}},\"type\":\"histogram\"}],\"histogram2d\":[{\"colorbar\":{\"outlinewidth\":0,\"ticks\":\"\"},\"colorscale\":[[0.0,\"#0d0887\"],[0.1111111111111111,\"#46039f\"],[0.2222222222222222,\"#7201a8\"],[0.3333333333333333,\"#9c179e\"],[0.4444444444444444,\"#bd3786\"],[0.5555555555555556,\"#d8576b\"],[0.6666666666666666,\"#ed7953\"],[0.7777777777777778,\"#fb9f3a\"],[0.8888888888888888,\"#fdca26\"],[1.0,\"#f0f921\"]],\"type\":\"histogram2d\"}],\"histogram2dcontour\":[{\"colorbar\":{\"outlinewidth\":0,\"ticks\":\"\"},\"colorscale\":[[0.0,\"#0d0887\"],[0.1111111111111111,\"#46039f\"],[0.2222222222222222,\"#7201a8\"],[0.3333333333333333,\"#9c179e\"],[0.4444444444444444,\"#bd3786\"],[0.5555555555555556,\"#d8576b\"],[0.6666666666666666,\"#ed7953\"],[0.7777777777777778,\"#fb9f3a\"],[0.8888888888888888,\"#fdca26\"],[1.0,\"#f0f921\"]],\"type\":\"histogram2dcontour\"}],\"mesh3d\":[{\"colorbar\":{\"outlinewidth\":0,\"ticks\":\"\"},\"type\":\"mesh3d\"}],\"parcoords\":[{\"line\":{\"colorbar\":{\"outlinewidth\":0,\"ticks\":\"\"}},\"type\":\"parcoords\"}],\"pie\":[{\"automargin\":true,\"type\":\"pie\"}],\"scatter\":[{\"marker\":{\"colorbar\":{\"outlinewidth\":0,\"ticks\":\"\"}},\"type\":\"scatter\"}],\"scatter3d\":[{\"line\":{\"colorbar\":{\"outlinewidth\":0,\"ticks\":\"\"}},\"marker\":{\"colorbar\":{\"outlinewidth\":0,\"ticks\":\"\"}},\"type\":\"scatter3d\"}],\"scattercarpet\":[{\"marker\":{\"colorbar\":{\"outlinewidth\":0,\"ticks\":\"\"}},\"type\":\"scattercarpet\"}],\"scattergeo\":[{\"marker\":{\"colorbar\":{\"outlinewidth\":0,\"ticks\":\"\"}},\"type\":\"scattergeo\"}],\"scattergl\":[{\"marker\":{\"colorbar\":{\"outlinewidth\":0,\"ticks\":\"\"}},\"type\":\"scattergl\"}],\"scattermapbox\":[{\"marker\":{\"colorbar\":{\"outlinewidth\":0,\"ticks\":\"\"}},\"type\":\"scattermapbox\"}],\"scatterpolar\":[{\"marker\":{\"colorbar\":{\"outlinewidth\":0,\"ticks\":\"\"}},\"type\":\"scatterpolar\"}],\"scatterpolargl\":[{\"marker\":{\"colorbar\":{\"outlinewidth\":0,\"ticks\":\"\"}},\"type\":\"scatterpolargl\"}],\"scatterternary\":[{\"marker\":{\"colorbar\":{\"outlinewidth\":0,\"ticks\":\"\"}},\"type\":\"scatterternary\"}],\"surface\":[{\"colorbar\":{\"outlinewidth\":0,\"ticks\":\"\"},\"colorscale\":[[0.0,\"#0d0887\"],[0.1111111111111111,\"#46039f\"],[0.2222222222222222,\"#7201a8\"],[0.3333333333333333,\"#9c179e\"],[0.4444444444444444,\"#bd3786\"],[0.5555555555555556,\"#d8576b\"],[0.6666666666666666,\"#ed7953\"],[0.7777777777777778,\"#fb9f3a\"],[0.8888888888888888,\"#fdca26\"],[1.0,\"#f0f921\"]],\"type\":\"surface\"}],\"table\":[{\"cells\":{\"fill\":{\"color\":\"#EBF0F8\"},\"line\":{\"color\":\"white\"}},\"header\":{\"fill\":{\"color\":\"#C8D4E3\"},\"line\":{\"color\":\"white\"}},\"type\":\"table\"}]},\"layout\":{\"annotationdefaults\":{\"arrowcolor\":\"#2a3f5f\",\"arrowhead\":0,\"arrowwidth\":1},\"autotypenumbers\":\"strict\",\"coloraxis\":{\"colorbar\":{\"outlinewidth\":0,\"ticks\":\"\"}},\"colorscale\":{\"diverging\":[[0,\"#8e0152\"],[0.1,\"#c51b7d\"],[0.2,\"#de77ae\"],[0.3,\"#f1b6da\"],[0.4,\"#fde0ef\"],[0.5,\"#f7f7f7\"],[0.6,\"#e6f5d0\"],[0.7,\"#b8e186\"],[0.8,\"#7fbc41\"],[0.9,\"#4d9221\"],[1,\"#276419\"]],\"sequential\":[[0.0,\"#0d0887\"],[0.1111111111111111,\"#46039f\"],[0.2222222222222222,\"#7201a8\"],[0.3333333333333333,\"#9c179e\"],[0.4444444444444444,\"#bd3786\"],[0.5555555555555556,\"#d8576b\"],[0.6666666666666666,\"#ed7953\"],[0.7777777777777778,\"#fb9f3a\"],[0.8888888888888888,\"#fdca26\"],[1.0,\"#f0f921\"]],\"sequentialminus\":[[0.0,\"#0d0887\"],[0.1111111111111111,\"#46039f\"],[0.2222222222222222,\"#7201a8\"],[0.3333333333333333,\"#9c179e\"],[0.4444444444444444,\"#bd3786\"],[0.5555555555555556,\"#d8576b\"],[0.6666666666666666,\"#ed7953\"],[0.7777777777777778,\"#fb9f3a\"],[0.8888888888888888,\"#fdca26\"],[1.0,\"#f0f921\"]]},\"colorway\":[\"#636efa\",\"#EF553B\",\"#00cc96\",\"#ab63fa\",\"#FFA15A\",\"#19d3f3\",\"#FF6692\",\"#B6E880\",\"#FF97FF\",\"#FECB52\"],\"font\":{\"color\":\"#2a3f5f\"},\"geo\":{\"bgcolor\":\"white\",\"lakecolor\":\"white\",\"landcolor\":\"#E5ECF6\",\"showlakes\":true,\"showland\":true,\"subunitcolor\":\"white\"},\"hoverlabel\":{\"align\":\"left\"},\"hovermode\":\"closest\",\"mapbox\":{\"style\":\"light\"},\"paper_bgcolor\":\"white\",\"plot_bgcolor\":\"#E5ECF6\",\"polar\":{\"angularaxis\":{\"gridcolor\":\"white\",\"linecolor\":\"white\",\"ticks\":\"\"},\"bgcolor\":\"#E5ECF6\",\"radialaxis\":{\"gridcolor\":\"white\",\"linecolor\":\"white\",\"ticks\":\"\"}},\"scene\":{\"xaxis\":{\"backgroundcolor\":\"#E5ECF6\",\"gridcolor\":\"white\",\"gridwidth\":2,\"linecolor\":\"white\",\"showbackground\":true,\"ticks\":\"\",\"zerolinecolor\":\"white\"},\"yaxis\":{\"backgroundcolor\":\"#E5ECF6\",\"gridcolor\":\"white\",\"gridwidth\":2,\"linecolor\":\"white\",\"showbackground\":true,\"ticks\":\"\",\"zerolinecolor\":\"white\"},\"zaxis\":{\"backgroundcolor\":\"#E5ECF6\",\"gridcolor\":\"white\",\"gridwidth\":2,\"linecolor\":\"white\",\"showbackground\":true,\"ticks\":\"\",\"zerolinecolor\":\"white\"}},\"shapedefaults\":{\"line\":{\"color\":\"#2a3f5f\"}},\"ternary\":{\"aaxis\":{\"gridcolor\":\"white\",\"linecolor\":\"white\",\"ticks\":\"\"},\"baxis\":{\"gridcolor\":\"white\",\"linecolor\":\"white\",\"ticks\":\"\"},\"bgcolor\":\"#E5ECF6\",\"caxis\":{\"gridcolor\":\"white\",\"linecolor\":\"white\",\"ticks\":\"\"}},\"title\":{\"x\":0.05},\"xaxis\":{\"automargin\":true,\"gridcolor\":\"white\",\"linecolor\":\"white\",\"ticks\":\"\",\"title\":{\"standoff\":15},\"zerolinecolor\":\"white\",\"zerolinewidth\":2},\"yaxis\":{\"automargin\":true,\"gridcolor\":\"white\",\"linecolor\":\"white\",\"ticks\":\"\",\"title\":{\"standoff\":15},\"zerolinecolor\":\"white\",\"zerolinewidth\":2}}}},                        {\"responsive\": true}                    ).then(function(){\n",
       "                            \n",
       "var gd = document.getElementById('5ed2d9e5-076a-4139-bea0-cefc41776f42');\n",
       "var x = new MutationObserver(function (mutations, observer) {{\n",
       "        var display = window.getComputedStyle(gd).display;\n",
       "        if (!display || display === 'none') {{\n",
       "            console.log([gd, 'removed!']);\n",
       "            Plotly.purge(gd);\n",
       "            observer.disconnect();\n",
       "        }}\n",
       "}});\n",
       "\n",
       "// Listen for the removal of the full notebook cells\n",
       "var notebookContainer = gd.closest('#notebook-container');\n",
       "if (notebookContainer) {{\n",
       "    x.observe(notebookContainer, {childList: true});\n",
       "}}\n",
       "\n",
       "// Listen for the clearing of the current output cell\n",
       "var outputEl = gd.closest('.output');\n",
       "if (outputEl) {{\n",
       "    x.observe(outputEl, {childList: true});\n",
       "}}\n",
       "\n",
       "                        })                };                });            </script>        </div>"
      ]
     },
     "metadata": {},
     "output_type": "display_data"
    },
    {
     "name": "stdout",
     "output_type": "stream",
     "text": [
      "V graph\n"
     ]
    },
    {
     "data": {
      "application/vnd.plotly.v1+json": {
       "config": {
        "plotlyServerURL": "https://plot.ly"
       },
       "data": [
        {
         "type": "surface",
         "x": [
          [
           0,
           0.000625,
           0.001875,
           0.0031249999999999997,
           0.0043749999999999995,
           0.005624999999999999,
           0.006874999999999998,
           0.008124999999999999,
           0.009375,
           0.01
          ],
          [
           0,
           0.000625,
           0.001875,
           0.0031249999999999997,
           0.0043749999999999995,
           0.005624999999999999,
           0.006874999999999998,
           0.008124999999999999,
           0.009375,
           0.01
          ],
          [
           0,
           0.000625,
           0.001875,
           0.0031249999999999997,
           0.0043749999999999995,
           0.005624999999999999,
           0.006874999999999998,
           0.008124999999999999,
           0.009375,
           0.01
          ],
          [
           0,
           0.000625,
           0.001875,
           0.0031249999999999997,
           0.0043749999999999995,
           0.005624999999999999,
           0.006874999999999998,
           0.008124999999999999,
           0.009375,
           0.01
          ],
          [
           0,
           0.000625,
           0.001875,
           0.0031249999999999997,
           0.0043749999999999995,
           0.005624999999999999,
           0.006874999999999998,
           0.008124999999999999,
           0.009375,
           0.01
          ],
          [
           0,
           0.000625,
           0.001875,
           0.0031249999999999997,
           0.0043749999999999995,
           0.005624999999999999,
           0.006874999999999998,
           0.008124999999999999,
           0.009375,
           0.01
          ],
          [
           0,
           0.000625,
           0.001875,
           0.0031249999999999997,
           0.0043749999999999995,
           0.005624999999999999,
           0.006874999999999998,
           0.008124999999999999,
           0.009375,
           0.01
          ],
          [
           0,
           0.000625,
           0.001875,
           0.0031249999999999997,
           0.0043749999999999995,
           0.005624999999999999,
           0.006874999999999998,
           0.008124999999999999,
           0.009375,
           0.01
          ],
          [
           0,
           0.000625,
           0.001875,
           0.0031249999999999997,
           0.0043749999999999995,
           0.005624999999999999,
           0.006874999999999998,
           0.008124999999999999,
           0.009375,
           0.01
          ],
          [
           0,
           0.000625,
           0.001875,
           0.0031249999999999997,
           0.0043749999999999995,
           0.005624999999999999,
           0.006874999999999998,
           0.008124999999999999,
           0.009375,
           0.01
          ]
         ],
         "y": [
          [
           0,
           0,
           0,
           0,
           0,
           0,
           0,
           0,
           0,
           0
          ],
          [
           0.000625,
           0.000625,
           0.000625,
           0.000625,
           0.000625,
           0.000625,
           0.000625,
           0.000625,
           0.000625,
           0.000625
          ],
          [
           0.001875,
           0.001875,
           0.001875,
           0.001875,
           0.001875,
           0.001875,
           0.001875,
           0.001875,
           0.001875,
           0.001875
          ],
          [
           0.0031249999999999997,
           0.0031249999999999997,
           0.0031249999999999997,
           0.0031249999999999997,
           0.0031249999999999997,
           0.0031249999999999997,
           0.0031249999999999997,
           0.0031249999999999997,
           0.0031249999999999997,
           0.0031249999999999997
          ],
          [
           0.0043749999999999995,
           0.0043749999999999995,
           0.0043749999999999995,
           0.0043749999999999995,
           0.0043749999999999995,
           0.0043749999999999995,
           0.0043749999999999995,
           0.0043749999999999995,
           0.0043749999999999995,
           0.0043749999999999995
          ],
          [
           0.005624999999999999,
           0.005624999999999999,
           0.005624999999999999,
           0.005624999999999999,
           0.005624999999999999,
           0.005624999999999999,
           0.005624999999999999,
           0.005624999999999999,
           0.005624999999999999,
           0.005624999999999999
          ],
          [
           0.006874999999999998,
           0.006874999999999998,
           0.006874999999999998,
           0.006874999999999998,
           0.006874999999999998,
           0.006874999999999998,
           0.006874999999999998,
           0.006874999999999998,
           0.006874999999999998,
           0.006874999999999998
          ],
          [
           0.008124999999999999,
           0.008124999999999999,
           0.008124999999999999,
           0.008124999999999999,
           0.008124999999999999,
           0.008124999999999999,
           0.008124999999999999,
           0.008124999999999999,
           0.008124999999999999,
           0.008124999999999999
          ],
          [
           0.009375,
           0.009375,
           0.009375,
           0.009375,
           0.009375,
           0.009375,
           0.009375,
           0.009375,
           0.009375,
           0.009375
          ],
          [
           0.01,
           0.01,
           0.01,
           0.01,
           0.01,
           0.01,
           0.01,
           0.01,
           0.01,
           0.01
          ]
         ],
         "z": [
          [
           0.0000021340763455413554,
           -0.000001,
           -0.000001,
           -0.000001,
           -0.000001,
           -0.000001,
           -0.000001,
           -0.000001,
           -0.000001,
           -1.5725905900967398e-7
          ],
          [
           -0.000001,
           -1.0348703499504562e-19,
           -7.296378120758244e-19,
           -6.893623737777159e-19,
           -6.720910150772518e-19,
           -6.6150599192302495e-19,
           -6.496069154277649e-19,
           -6.282737752584231e-19,
           -3.9661585167062233e-19,
           0.000001
          ],
          [
           -0.000001,
           -5.004784996596746e-7,
           -3.582688250656782e-8,
           1.175992124647855e-7,
           1.784736720375381e-7,
           2.0585704049665091e-7,
           2.2738660757662747e-7,
           2.6701117533370973e-7,
           3.620250606996653e-7,
           0.000001
          ],
          [
           -0.000001,
           -6.07300424456502e-7,
           -8.286271944308392e-8,
           1.797283605144115e-7,
           2.947786268570346e-7,
           3.425161938475241e-7,
           3.747065813603418e-7,
           4.391393687032327e-7,
           6.215753897579442e-7,
           0.000001
          ],
          [
           -0.000001,
           -5.838645016042529e-7,
           -3.251091395695871e-8,
           2.634903735462601e-7,
           3.9589034957022886e-7,
           4.4982946035048693e-7,
           4.883636275803863e-7,
           5.680876020223496e-7,
           7.616645770996048e-7,
           0.000001
          ],
          [
           -0.000001,
           -4.61266932823068e-7,
           1.1862771821390793e-7,
           3.939681854876181e-7,
           5.03801759826453e-7,
           5.451040782998129e-7,
           5.792009577256138e-7,
           6.560502351310592e-7,
           8.291974511884349e-7,
           0.000001
          ],
          [
           -0.000001,
           -1.8475847780320365e-7,
           3.7714038950820593e-7,
           5.629834145955019e-7,
           6.171696101241472e-7,
           6.348824855944157e-7,
           6.568799601392027e-7,
           7.160551930501508e-7,
           8.554772444081256e-7,
           0.000001
          ],
          [
           -0.000001,
           4.242360208692706e-7,
           7.243540693058991e-7,
           7.243032913564914e-7,
           7.246851859269493e-7,
           7.304629021244312e-7,
           7.44295195491279e-7,
           7.747597837296201e-7,
           8.562135540094998e-7,
           0.000001
          ],
          [
           -0.000001,
           0.000001947386309357626,
           8.522847447903516e-7,
           8.161041177331972e-7,
           8.450274567195124e-7,
           8.676183503231871e-7,
           8.841798008809234e-7,
           8.933810679968858e-7,
           8.21437632455194e-7,
           0.000001
          ],
          [
           0.000006802479951349717,
           0.000001,
           0.000001,
           0.000001,
           0.000001,
           0.000001,
           0.000001,
           0.000001,
           0.000001,
           4.493025202729764e-7
          ]
         ]
        }
       ],
       "layout": {
        "template": {
         "data": {
          "bar": [
           {
            "error_x": {
             "color": "#2a3f5f"
            },
            "error_y": {
             "color": "#2a3f5f"
            },
            "marker": {
             "line": {
              "color": "#E5ECF6",
              "width": 0.5
             },
             "pattern": {
              "fillmode": "overlay",
              "size": 10,
              "solidity": 0.2
             }
            },
            "type": "bar"
           }
          ],
          "barpolar": [
           {
            "marker": {
             "line": {
              "color": "#E5ECF6",
              "width": 0.5
             },
             "pattern": {
              "fillmode": "overlay",
              "size": 10,
              "solidity": 0.2
             }
            },
            "type": "barpolar"
           }
          ],
          "carpet": [
           {
            "aaxis": {
             "endlinecolor": "#2a3f5f",
             "gridcolor": "white",
             "linecolor": "white",
             "minorgridcolor": "white",
             "startlinecolor": "#2a3f5f"
            },
            "baxis": {
             "endlinecolor": "#2a3f5f",
             "gridcolor": "white",
             "linecolor": "white",
             "minorgridcolor": "white",
             "startlinecolor": "#2a3f5f"
            },
            "type": "carpet"
           }
          ],
          "choropleth": [
           {
            "colorbar": {
             "outlinewidth": 0,
             "ticks": ""
            },
            "type": "choropleth"
           }
          ],
          "contour": [
           {
            "colorbar": {
             "outlinewidth": 0,
             "ticks": ""
            },
            "colorscale": [
             [
              0,
              "#0d0887"
             ],
             [
              0.1111111111111111,
              "#46039f"
             ],
             [
              0.2222222222222222,
              "#7201a8"
             ],
             [
              0.3333333333333333,
              "#9c179e"
             ],
             [
              0.4444444444444444,
              "#bd3786"
             ],
             [
              0.5555555555555556,
              "#d8576b"
             ],
             [
              0.6666666666666666,
              "#ed7953"
             ],
             [
              0.7777777777777778,
              "#fb9f3a"
             ],
             [
              0.8888888888888888,
              "#fdca26"
             ],
             [
              1,
              "#f0f921"
             ]
            ],
            "type": "contour"
           }
          ],
          "contourcarpet": [
           {
            "colorbar": {
             "outlinewidth": 0,
             "ticks": ""
            },
            "type": "contourcarpet"
           }
          ],
          "heatmap": [
           {
            "colorbar": {
             "outlinewidth": 0,
             "ticks": ""
            },
            "colorscale": [
             [
              0,
              "#0d0887"
             ],
             [
              0.1111111111111111,
              "#46039f"
             ],
             [
              0.2222222222222222,
              "#7201a8"
             ],
             [
              0.3333333333333333,
              "#9c179e"
             ],
             [
              0.4444444444444444,
              "#bd3786"
             ],
             [
              0.5555555555555556,
              "#d8576b"
             ],
             [
              0.6666666666666666,
              "#ed7953"
             ],
             [
              0.7777777777777778,
              "#fb9f3a"
             ],
             [
              0.8888888888888888,
              "#fdca26"
             ],
             [
              1,
              "#f0f921"
             ]
            ],
            "type": "heatmap"
           }
          ],
          "heatmapgl": [
           {
            "colorbar": {
             "outlinewidth": 0,
             "ticks": ""
            },
            "colorscale": [
             [
              0,
              "#0d0887"
             ],
             [
              0.1111111111111111,
              "#46039f"
             ],
             [
              0.2222222222222222,
              "#7201a8"
             ],
             [
              0.3333333333333333,
              "#9c179e"
             ],
             [
              0.4444444444444444,
              "#bd3786"
             ],
             [
              0.5555555555555556,
              "#d8576b"
             ],
             [
              0.6666666666666666,
              "#ed7953"
             ],
             [
              0.7777777777777778,
              "#fb9f3a"
             ],
             [
              0.8888888888888888,
              "#fdca26"
             ],
             [
              1,
              "#f0f921"
             ]
            ],
            "type": "heatmapgl"
           }
          ],
          "histogram": [
           {
            "marker": {
             "pattern": {
              "fillmode": "overlay",
              "size": 10,
              "solidity": 0.2
             }
            },
            "type": "histogram"
           }
          ],
          "histogram2d": [
           {
            "colorbar": {
             "outlinewidth": 0,
             "ticks": ""
            },
            "colorscale": [
             [
              0,
              "#0d0887"
             ],
             [
              0.1111111111111111,
              "#46039f"
             ],
             [
              0.2222222222222222,
              "#7201a8"
             ],
             [
              0.3333333333333333,
              "#9c179e"
             ],
             [
              0.4444444444444444,
              "#bd3786"
             ],
             [
              0.5555555555555556,
              "#d8576b"
             ],
             [
              0.6666666666666666,
              "#ed7953"
             ],
             [
              0.7777777777777778,
              "#fb9f3a"
             ],
             [
              0.8888888888888888,
              "#fdca26"
             ],
             [
              1,
              "#f0f921"
             ]
            ],
            "type": "histogram2d"
           }
          ],
          "histogram2dcontour": [
           {
            "colorbar": {
             "outlinewidth": 0,
             "ticks": ""
            },
            "colorscale": [
             [
              0,
              "#0d0887"
             ],
             [
              0.1111111111111111,
              "#46039f"
             ],
             [
              0.2222222222222222,
              "#7201a8"
             ],
             [
              0.3333333333333333,
              "#9c179e"
             ],
             [
              0.4444444444444444,
              "#bd3786"
             ],
             [
              0.5555555555555556,
              "#d8576b"
             ],
             [
              0.6666666666666666,
              "#ed7953"
             ],
             [
              0.7777777777777778,
              "#fb9f3a"
             ],
             [
              0.8888888888888888,
              "#fdca26"
             ],
             [
              1,
              "#f0f921"
             ]
            ],
            "type": "histogram2dcontour"
           }
          ],
          "mesh3d": [
           {
            "colorbar": {
             "outlinewidth": 0,
             "ticks": ""
            },
            "type": "mesh3d"
           }
          ],
          "parcoords": [
           {
            "line": {
             "colorbar": {
              "outlinewidth": 0,
              "ticks": ""
             }
            },
            "type": "parcoords"
           }
          ],
          "pie": [
           {
            "automargin": true,
            "type": "pie"
           }
          ],
          "scatter": [
           {
            "marker": {
             "colorbar": {
              "outlinewidth": 0,
              "ticks": ""
             }
            },
            "type": "scatter"
           }
          ],
          "scatter3d": [
           {
            "line": {
             "colorbar": {
              "outlinewidth": 0,
              "ticks": ""
             }
            },
            "marker": {
             "colorbar": {
              "outlinewidth": 0,
              "ticks": ""
             }
            },
            "type": "scatter3d"
           }
          ],
          "scattercarpet": [
           {
            "marker": {
             "colorbar": {
              "outlinewidth": 0,
              "ticks": ""
             }
            },
            "type": "scattercarpet"
           }
          ],
          "scattergeo": [
           {
            "marker": {
             "colorbar": {
              "outlinewidth": 0,
              "ticks": ""
             }
            },
            "type": "scattergeo"
           }
          ],
          "scattergl": [
           {
            "marker": {
             "colorbar": {
              "outlinewidth": 0,
              "ticks": ""
             }
            },
            "type": "scattergl"
           }
          ],
          "scattermapbox": [
           {
            "marker": {
             "colorbar": {
              "outlinewidth": 0,
              "ticks": ""
             }
            },
            "type": "scattermapbox"
           }
          ],
          "scatterpolar": [
           {
            "marker": {
             "colorbar": {
              "outlinewidth": 0,
              "ticks": ""
             }
            },
            "type": "scatterpolar"
           }
          ],
          "scatterpolargl": [
           {
            "marker": {
             "colorbar": {
              "outlinewidth": 0,
              "ticks": ""
             }
            },
            "type": "scatterpolargl"
           }
          ],
          "scatterternary": [
           {
            "marker": {
             "colorbar": {
              "outlinewidth": 0,
              "ticks": ""
             }
            },
            "type": "scatterternary"
           }
          ],
          "surface": [
           {
            "colorbar": {
             "outlinewidth": 0,
             "ticks": ""
            },
            "colorscale": [
             [
              0,
              "#0d0887"
             ],
             [
              0.1111111111111111,
              "#46039f"
             ],
             [
              0.2222222222222222,
              "#7201a8"
             ],
             [
              0.3333333333333333,
              "#9c179e"
             ],
             [
              0.4444444444444444,
              "#bd3786"
             ],
             [
              0.5555555555555556,
              "#d8576b"
             ],
             [
              0.6666666666666666,
              "#ed7953"
             ],
             [
              0.7777777777777778,
              "#fb9f3a"
             ],
             [
              0.8888888888888888,
              "#fdca26"
             ],
             [
              1,
              "#f0f921"
             ]
            ],
            "type": "surface"
           }
          ],
          "table": [
           {
            "cells": {
             "fill": {
              "color": "#EBF0F8"
             },
             "line": {
              "color": "white"
             }
            },
            "header": {
             "fill": {
              "color": "#C8D4E3"
             },
             "line": {
              "color": "white"
             }
            },
            "type": "table"
           }
          ]
         },
         "layout": {
          "annotationdefaults": {
           "arrowcolor": "#2a3f5f",
           "arrowhead": 0,
           "arrowwidth": 1
          },
          "autotypenumbers": "strict",
          "coloraxis": {
           "colorbar": {
            "outlinewidth": 0,
            "ticks": ""
           }
          },
          "colorscale": {
           "diverging": [
            [
             0,
             "#8e0152"
            ],
            [
             0.1,
             "#c51b7d"
            ],
            [
             0.2,
             "#de77ae"
            ],
            [
             0.3,
             "#f1b6da"
            ],
            [
             0.4,
             "#fde0ef"
            ],
            [
             0.5,
             "#f7f7f7"
            ],
            [
             0.6,
             "#e6f5d0"
            ],
            [
             0.7,
             "#b8e186"
            ],
            [
             0.8,
             "#7fbc41"
            ],
            [
             0.9,
             "#4d9221"
            ],
            [
             1,
             "#276419"
            ]
           ],
           "sequential": [
            [
             0,
             "#0d0887"
            ],
            [
             0.1111111111111111,
             "#46039f"
            ],
            [
             0.2222222222222222,
             "#7201a8"
            ],
            [
             0.3333333333333333,
             "#9c179e"
            ],
            [
             0.4444444444444444,
             "#bd3786"
            ],
            [
             0.5555555555555556,
             "#d8576b"
            ],
            [
             0.6666666666666666,
             "#ed7953"
            ],
            [
             0.7777777777777778,
             "#fb9f3a"
            ],
            [
             0.8888888888888888,
             "#fdca26"
            ],
            [
             1,
             "#f0f921"
            ]
           ],
           "sequentialminus": [
            [
             0,
             "#0d0887"
            ],
            [
             0.1111111111111111,
             "#46039f"
            ],
            [
             0.2222222222222222,
             "#7201a8"
            ],
            [
             0.3333333333333333,
             "#9c179e"
            ],
            [
             0.4444444444444444,
             "#bd3786"
            ],
            [
             0.5555555555555556,
             "#d8576b"
            ],
            [
             0.6666666666666666,
             "#ed7953"
            ],
            [
             0.7777777777777778,
             "#fb9f3a"
            ],
            [
             0.8888888888888888,
             "#fdca26"
            ],
            [
             1,
             "#f0f921"
            ]
           ]
          },
          "colorway": [
           "#636efa",
           "#EF553B",
           "#00cc96",
           "#ab63fa",
           "#FFA15A",
           "#19d3f3",
           "#FF6692",
           "#B6E880",
           "#FF97FF",
           "#FECB52"
          ],
          "font": {
           "color": "#2a3f5f"
          },
          "geo": {
           "bgcolor": "white",
           "lakecolor": "white",
           "landcolor": "#E5ECF6",
           "showlakes": true,
           "showland": true,
           "subunitcolor": "white"
          },
          "hoverlabel": {
           "align": "left"
          },
          "hovermode": "closest",
          "mapbox": {
           "style": "light"
          },
          "paper_bgcolor": "white",
          "plot_bgcolor": "#E5ECF6",
          "polar": {
           "angularaxis": {
            "gridcolor": "white",
            "linecolor": "white",
            "ticks": ""
           },
           "bgcolor": "#E5ECF6",
           "radialaxis": {
            "gridcolor": "white",
            "linecolor": "white",
            "ticks": ""
           }
          },
          "scene": {
           "xaxis": {
            "backgroundcolor": "#E5ECF6",
            "gridcolor": "white",
            "gridwidth": 2,
            "linecolor": "white",
            "showbackground": true,
            "ticks": "",
            "zerolinecolor": "white"
           },
           "yaxis": {
            "backgroundcolor": "#E5ECF6",
            "gridcolor": "white",
            "gridwidth": 2,
            "linecolor": "white",
            "showbackground": true,
            "ticks": "",
            "zerolinecolor": "white"
           },
           "zaxis": {
            "backgroundcolor": "#E5ECF6",
            "gridcolor": "white",
            "gridwidth": 2,
            "linecolor": "white",
            "showbackground": true,
            "ticks": "",
            "zerolinecolor": "white"
           }
          },
          "shapedefaults": {
           "line": {
            "color": "#2a3f5f"
           }
          },
          "ternary": {
           "aaxis": {
            "gridcolor": "white",
            "linecolor": "white",
            "ticks": ""
           },
           "baxis": {
            "gridcolor": "white",
            "linecolor": "white",
            "ticks": ""
           },
           "bgcolor": "#E5ECF6",
           "caxis": {
            "gridcolor": "white",
            "linecolor": "white",
            "ticks": ""
           }
          },
          "title": {
           "x": 0.05
          },
          "xaxis": {
           "automargin": true,
           "gridcolor": "white",
           "linecolor": "white",
           "ticks": "",
           "title": {
            "standoff": 15
           },
           "zerolinecolor": "white",
           "zerolinewidth": 2
          },
          "yaxis": {
           "automargin": true,
           "gridcolor": "white",
           "linecolor": "white",
           "ticks": "",
           "title": {
            "standoff": 15
           },
           "zerolinecolor": "white",
           "zerolinewidth": 2
          }
         }
        }
       }
      },
      "text/html": [
       "<div>                            <div id=\"9ff4b9b6-2286-498b-903f-85d930d1c90a\" class=\"plotly-graph-div\" style=\"height:525px; width:100%;\"></div>            <script type=\"text/javascript\">                require([\"plotly\"], function(Plotly) {                    window.PLOTLYENV=window.PLOTLYENV || {};                                    if (document.getElementById(\"9ff4b9b6-2286-498b-903f-85d930d1c90a\")) {                    Plotly.newPlot(                        \"9ff4b9b6-2286-498b-903f-85d930d1c90a\",                        [{\"x\":[[0.0,0.000625,0.001875,0.0031249999999999997,0.0043749999999999995,0.005624999999999999,0.006874999999999998,0.008124999999999999,0.009375,0.01],[0.0,0.000625,0.001875,0.0031249999999999997,0.0043749999999999995,0.005624999999999999,0.006874999999999998,0.008124999999999999,0.009375,0.01],[0.0,0.000625,0.001875,0.0031249999999999997,0.0043749999999999995,0.005624999999999999,0.006874999999999998,0.008124999999999999,0.009375,0.01],[0.0,0.000625,0.001875,0.0031249999999999997,0.0043749999999999995,0.005624999999999999,0.006874999999999998,0.008124999999999999,0.009375,0.01],[0.0,0.000625,0.001875,0.0031249999999999997,0.0043749999999999995,0.005624999999999999,0.006874999999999998,0.008124999999999999,0.009375,0.01],[0.0,0.000625,0.001875,0.0031249999999999997,0.0043749999999999995,0.005624999999999999,0.006874999999999998,0.008124999999999999,0.009375,0.01],[0.0,0.000625,0.001875,0.0031249999999999997,0.0043749999999999995,0.005624999999999999,0.006874999999999998,0.008124999999999999,0.009375,0.01],[0.0,0.000625,0.001875,0.0031249999999999997,0.0043749999999999995,0.005624999999999999,0.006874999999999998,0.008124999999999999,0.009375,0.01],[0.0,0.000625,0.001875,0.0031249999999999997,0.0043749999999999995,0.005624999999999999,0.006874999999999998,0.008124999999999999,0.009375,0.01],[0.0,0.000625,0.001875,0.0031249999999999997,0.0043749999999999995,0.005624999999999999,0.006874999999999998,0.008124999999999999,0.009375,0.01]],\"y\":[[0.0,0.0,0.0,0.0,0.0,0.0,0.0,0.0,0.0,0.0],[0.000625,0.000625,0.000625,0.000625,0.000625,0.000625,0.000625,0.000625,0.000625,0.000625],[0.001875,0.001875,0.001875,0.001875,0.001875,0.001875,0.001875,0.001875,0.001875,0.001875],[0.0031249999999999997,0.0031249999999999997,0.0031249999999999997,0.0031249999999999997,0.0031249999999999997,0.0031249999999999997,0.0031249999999999997,0.0031249999999999997,0.0031249999999999997,0.0031249999999999997],[0.0043749999999999995,0.0043749999999999995,0.0043749999999999995,0.0043749999999999995,0.0043749999999999995,0.0043749999999999995,0.0043749999999999995,0.0043749999999999995,0.0043749999999999995,0.0043749999999999995],[0.005624999999999999,0.005624999999999999,0.005624999999999999,0.005624999999999999,0.005624999999999999,0.005624999999999999,0.005624999999999999,0.005624999999999999,0.005624999999999999,0.005624999999999999],[0.006874999999999998,0.006874999999999998,0.006874999999999998,0.006874999999999998,0.006874999999999998,0.006874999999999998,0.006874999999999998,0.006874999999999998,0.006874999999999998,0.006874999999999998],[0.008124999999999999,0.008124999999999999,0.008124999999999999,0.008124999999999999,0.008124999999999999,0.008124999999999999,0.008124999999999999,0.008124999999999999,0.008124999999999999,0.008124999999999999],[0.009375,0.009375,0.009375,0.009375,0.009375,0.009375,0.009375,0.009375,0.009375,0.009375],[0.01,0.01,0.01,0.01,0.01,0.01,0.01,0.01,0.01,0.01]],\"z\":[[2.1340763455413554e-06,-1e-06,-1e-06,-1e-06,-1e-06,-1e-06,-1e-06,-1e-06,-1e-06,-1.5725905900967398e-07],[-1e-06,-1.0348703499504562e-19,-7.296378120758244e-19,-6.893623737777159e-19,-6.720910150772518e-19,-6.6150599192302495e-19,-6.496069154277649e-19,-6.282737752584231e-19,-3.9661585167062233e-19,1e-06],[-1e-06,-5.004784996596746e-07,-3.582688250656782e-08,1.175992124647855e-07,1.784736720375381e-07,2.0585704049665091e-07,2.2738660757662747e-07,2.6701117533370973e-07,3.620250606996653e-07,1e-06],[-1e-06,-6.07300424456502e-07,-8.286271944308392e-08,1.797283605144115e-07,2.947786268570346e-07,3.425161938475241e-07,3.747065813603418e-07,4.391393687032327e-07,6.215753897579442e-07,1e-06],[-1e-06,-5.838645016042529e-07,-3.251091395695871e-08,2.634903735462601e-07,3.9589034957022886e-07,4.4982946035048693e-07,4.883636275803863e-07,5.680876020223496e-07,7.616645770996048e-07,1e-06],[-1e-06,-4.61266932823068e-07,1.1862771821390793e-07,3.939681854876181e-07,5.03801759826453e-07,5.451040782998129e-07,5.792009577256138e-07,6.560502351310592e-07,8.291974511884349e-07,1e-06],[-1e-06,-1.8475847780320365e-07,3.7714038950820593e-07,5.629834145955019e-07,6.171696101241472e-07,6.348824855944157e-07,6.568799601392027e-07,7.160551930501508e-07,8.554772444081256e-07,1e-06],[-1e-06,4.242360208692706e-07,7.243540693058991e-07,7.243032913564914e-07,7.246851859269493e-07,7.304629021244312e-07,7.44295195491279e-07,7.747597837296201e-07,8.562135540094998e-07,1e-06],[-1e-06,1.947386309357626e-06,8.522847447903516e-07,8.161041177331972e-07,8.450274567195124e-07,8.676183503231871e-07,8.841798008809234e-07,8.933810679968858e-07,8.21437632455194e-07,1e-06],[6.802479951349717e-06,1e-06,1e-06,1e-06,1e-06,1e-06,1e-06,1e-06,1e-06,4.493025202729764e-07]],\"type\":\"surface\"}],                        {\"template\":{\"data\":{\"bar\":[{\"error_x\":{\"color\":\"#2a3f5f\"},\"error_y\":{\"color\":\"#2a3f5f\"},\"marker\":{\"line\":{\"color\":\"#E5ECF6\",\"width\":0.5},\"pattern\":{\"fillmode\":\"overlay\",\"size\":10,\"solidity\":0.2}},\"type\":\"bar\"}],\"barpolar\":[{\"marker\":{\"line\":{\"color\":\"#E5ECF6\",\"width\":0.5},\"pattern\":{\"fillmode\":\"overlay\",\"size\":10,\"solidity\":0.2}},\"type\":\"barpolar\"}],\"carpet\":[{\"aaxis\":{\"endlinecolor\":\"#2a3f5f\",\"gridcolor\":\"white\",\"linecolor\":\"white\",\"minorgridcolor\":\"white\",\"startlinecolor\":\"#2a3f5f\"},\"baxis\":{\"endlinecolor\":\"#2a3f5f\",\"gridcolor\":\"white\",\"linecolor\":\"white\",\"minorgridcolor\":\"white\",\"startlinecolor\":\"#2a3f5f\"},\"type\":\"carpet\"}],\"choropleth\":[{\"colorbar\":{\"outlinewidth\":0,\"ticks\":\"\"},\"type\":\"choropleth\"}],\"contour\":[{\"colorbar\":{\"outlinewidth\":0,\"ticks\":\"\"},\"colorscale\":[[0.0,\"#0d0887\"],[0.1111111111111111,\"#46039f\"],[0.2222222222222222,\"#7201a8\"],[0.3333333333333333,\"#9c179e\"],[0.4444444444444444,\"#bd3786\"],[0.5555555555555556,\"#d8576b\"],[0.6666666666666666,\"#ed7953\"],[0.7777777777777778,\"#fb9f3a\"],[0.8888888888888888,\"#fdca26\"],[1.0,\"#f0f921\"]],\"type\":\"contour\"}],\"contourcarpet\":[{\"colorbar\":{\"outlinewidth\":0,\"ticks\":\"\"},\"type\":\"contourcarpet\"}],\"heatmap\":[{\"colorbar\":{\"outlinewidth\":0,\"ticks\":\"\"},\"colorscale\":[[0.0,\"#0d0887\"],[0.1111111111111111,\"#46039f\"],[0.2222222222222222,\"#7201a8\"],[0.3333333333333333,\"#9c179e\"],[0.4444444444444444,\"#bd3786\"],[0.5555555555555556,\"#d8576b\"],[0.6666666666666666,\"#ed7953\"],[0.7777777777777778,\"#fb9f3a\"],[0.8888888888888888,\"#fdca26\"],[1.0,\"#f0f921\"]],\"type\":\"heatmap\"}],\"heatmapgl\":[{\"colorbar\":{\"outlinewidth\":0,\"ticks\":\"\"},\"colorscale\":[[0.0,\"#0d0887\"],[0.1111111111111111,\"#46039f\"],[0.2222222222222222,\"#7201a8\"],[0.3333333333333333,\"#9c179e\"],[0.4444444444444444,\"#bd3786\"],[0.5555555555555556,\"#d8576b\"],[0.6666666666666666,\"#ed7953\"],[0.7777777777777778,\"#fb9f3a\"],[0.8888888888888888,\"#fdca26\"],[1.0,\"#f0f921\"]],\"type\":\"heatmapgl\"}],\"histogram\":[{\"marker\":{\"pattern\":{\"fillmode\":\"overlay\",\"size\":10,\"solidity\":0.2}},\"type\":\"histogram\"}],\"histogram2d\":[{\"colorbar\":{\"outlinewidth\":0,\"ticks\":\"\"},\"colorscale\":[[0.0,\"#0d0887\"],[0.1111111111111111,\"#46039f\"],[0.2222222222222222,\"#7201a8\"],[0.3333333333333333,\"#9c179e\"],[0.4444444444444444,\"#bd3786\"],[0.5555555555555556,\"#d8576b\"],[0.6666666666666666,\"#ed7953\"],[0.7777777777777778,\"#fb9f3a\"],[0.8888888888888888,\"#fdca26\"],[1.0,\"#f0f921\"]],\"type\":\"histogram2d\"}],\"histogram2dcontour\":[{\"colorbar\":{\"outlinewidth\":0,\"ticks\":\"\"},\"colorscale\":[[0.0,\"#0d0887\"],[0.1111111111111111,\"#46039f\"],[0.2222222222222222,\"#7201a8\"],[0.3333333333333333,\"#9c179e\"],[0.4444444444444444,\"#bd3786\"],[0.5555555555555556,\"#d8576b\"],[0.6666666666666666,\"#ed7953\"],[0.7777777777777778,\"#fb9f3a\"],[0.8888888888888888,\"#fdca26\"],[1.0,\"#f0f921\"]],\"type\":\"histogram2dcontour\"}],\"mesh3d\":[{\"colorbar\":{\"outlinewidth\":0,\"ticks\":\"\"},\"type\":\"mesh3d\"}],\"parcoords\":[{\"line\":{\"colorbar\":{\"outlinewidth\":0,\"ticks\":\"\"}},\"type\":\"parcoords\"}],\"pie\":[{\"automargin\":true,\"type\":\"pie\"}],\"scatter\":[{\"marker\":{\"colorbar\":{\"outlinewidth\":0,\"ticks\":\"\"}},\"type\":\"scatter\"}],\"scatter3d\":[{\"line\":{\"colorbar\":{\"outlinewidth\":0,\"ticks\":\"\"}},\"marker\":{\"colorbar\":{\"outlinewidth\":0,\"ticks\":\"\"}},\"type\":\"scatter3d\"}],\"scattercarpet\":[{\"marker\":{\"colorbar\":{\"outlinewidth\":0,\"ticks\":\"\"}},\"type\":\"scattercarpet\"}],\"scattergeo\":[{\"marker\":{\"colorbar\":{\"outlinewidth\":0,\"ticks\":\"\"}},\"type\":\"scattergeo\"}],\"scattergl\":[{\"marker\":{\"colorbar\":{\"outlinewidth\":0,\"ticks\":\"\"}},\"type\":\"scattergl\"}],\"scattermapbox\":[{\"marker\":{\"colorbar\":{\"outlinewidth\":0,\"ticks\":\"\"}},\"type\":\"scattermapbox\"}],\"scatterpolar\":[{\"marker\":{\"colorbar\":{\"outlinewidth\":0,\"ticks\":\"\"}},\"type\":\"scatterpolar\"}],\"scatterpolargl\":[{\"marker\":{\"colorbar\":{\"outlinewidth\":0,\"ticks\":\"\"}},\"type\":\"scatterpolargl\"}],\"scatterternary\":[{\"marker\":{\"colorbar\":{\"outlinewidth\":0,\"ticks\":\"\"}},\"type\":\"scatterternary\"}],\"surface\":[{\"colorbar\":{\"outlinewidth\":0,\"ticks\":\"\"},\"colorscale\":[[0.0,\"#0d0887\"],[0.1111111111111111,\"#46039f\"],[0.2222222222222222,\"#7201a8\"],[0.3333333333333333,\"#9c179e\"],[0.4444444444444444,\"#bd3786\"],[0.5555555555555556,\"#d8576b\"],[0.6666666666666666,\"#ed7953\"],[0.7777777777777778,\"#fb9f3a\"],[0.8888888888888888,\"#fdca26\"],[1.0,\"#f0f921\"]],\"type\":\"surface\"}],\"table\":[{\"cells\":{\"fill\":{\"color\":\"#EBF0F8\"},\"line\":{\"color\":\"white\"}},\"header\":{\"fill\":{\"color\":\"#C8D4E3\"},\"line\":{\"color\":\"white\"}},\"type\":\"table\"}]},\"layout\":{\"annotationdefaults\":{\"arrowcolor\":\"#2a3f5f\",\"arrowhead\":0,\"arrowwidth\":1},\"autotypenumbers\":\"strict\",\"coloraxis\":{\"colorbar\":{\"outlinewidth\":0,\"ticks\":\"\"}},\"colorscale\":{\"diverging\":[[0,\"#8e0152\"],[0.1,\"#c51b7d\"],[0.2,\"#de77ae\"],[0.3,\"#f1b6da\"],[0.4,\"#fde0ef\"],[0.5,\"#f7f7f7\"],[0.6,\"#e6f5d0\"],[0.7,\"#b8e186\"],[0.8,\"#7fbc41\"],[0.9,\"#4d9221\"],[1,\"#276419\"]],\"sequential\":[[0.0,\"#0d0887\"],[0.1111111111111111,\"#46039f\"],[0.2222222222222222,\"#7201a8\"],[0.3333333333333333,\"#9c179e\"],[0.4444444444444444,\"#bd3786\"],[0.5555555555555556,\"#d8576b\"],[0.6666666666666666,\"#ed7953\"],[0.7777777777777778,\"#fb9f3a\"],[0.8888888888888888,\"#fdca26\"],[1.0,\"#f0f921\"]],\"sequentialminus\":[[0.0,\"#0d0887\"],[0.1111111111111111,\"#46039f\"],[0.2222222222222222,\"#7201a8\"],[0.3333333333333333,\"#9c179e\"],[0.4444444444444444,\"#bd3786\"],[0.5555555555555556,\"#d8576b\"],[0.6666666666666666,\"#ed7953\"],[0.7777777777777778,\"#fb9f3a\"],[0.8888888888888888,\"#fdca26\"],[1.0,\"#f0f921\"]]},\"colorway\":[\"#636efa\",\"#EF553B\",\"#00cc96\",\"#ab63fa\",\"#FFA15A\",\"#19d3f3\",\"#FF6692\",\"#B6E880\",\"#FF97FF\",\"#FECB52\"],\"font\":{\"color\":\"#2a3f5f\"},\"geo\":{\"bgcolor\":\"white\",\"lakecolor\":\"white\",\"landcolor\":\"#E5ECF6\",\"showlakes\":true,\"showland\":true,\"subunitcolor\":\"white\"},\"hoverlabel\":{\"align\":\"left\"},\"hovermode\":\"closest\",\"mapbox\":{\"style\":\"light\"},\"paper_bgcolor\":\"white\",\"plot_bgcolor\":\"#E5ECF6\",\"polar\":{\"angularaxis\":{\"gridcolor\":\"white\",\"linecolor\":\"white\",\"ticks\":\"\"},\"bgcolor\":\"#E5ECF6\",\"radialaxis\":{\"gridcolor\":\"white\",\"linecolor\":\"white\",\"ticks\":\"\"}},\"scene\":{\"xaxis\":{\"backgroundcolor\":\"#E5ECF6\",\"gridcolor\":\"white\",\"gridwidth\":2,\"linecolor\":\"white\",\"showbackground\":true,\"ticks\":\"\",\"zerolinecolor\":\"white\"},\"yaxis\":{\"backgroundcolor\":\"#E5ECF6\",\"gridcolor\":\"white\",\"gridwidth\":2,\"linecolor\":\"white\",\"showbackground\":true,\"ticks\":\"\",\"zerolinecolor\":\"white\"},\"zaxis\":{\"backgroundcolor\":\"#E5ECF6\",\"gridcolor\":\"white\",\"gridwidth\":2,\"linecolor\":\"white\",\"showbackground\":true,\"ticks\":\"\",\"zerolinecolor\":\"white\"}},\"shapedefaults\":{\"line\":{\"color\":\"#2a3f5f\"}},\"ternary\":{\"aaxis\":{\"gridcolor\":\"white\",\"linecolor\":\"white\",\"ticks\":\"\"},\"baxis\":{\"gridcolor\":\"white\",\"linecolor\":\"white\",\"ticks\":\"\"},\"bgcolor\":\"#E5ECF6\",\"caxis\":{\"gridcolor\":\"white\",\"linecolor\":\"white\",\"ticks\":\"\"}},\"title\":{\"x\":0.05},\"xaxis\":{\"automargin\":true,\"gridcolor\":\"white\",\"linecolor\":\"white\",\"ticks\":\"\",\"title\":{\"standoff\":15},\"zerolinecolor\":\"white\",\"zerolinewidth\":2},\"yaxis\":{\"automargin\":true,\"gridcolor\":\"white\",\"linecolor\":\"white\",\"ticks\":\"\",\"title\":{\"standoff\":15},\"zerolinecolor\":\"white\",\"zerolinewidth\":2}}}},                        {\"responsive\": true}                    ).then(function(){\n",
       "                            \n",
       "var gd = document.getElementById('9ff4b9b6-2286-498b-903f-85d930d1c90a');\n",
       "var x = new MutationObserver(function (mutations, observer) {{\n",
       "        var display = window.getComputedStyle(gd).display;\n",
       "        if (!display || display === 'none') {{\n",
       "            console.log([gd, 'removed!']);\n",
       "            Plotly.purge(gd);\n",
       "            observer.disconnect();\n",
       "        }}\n",
       "}});\n",
       "\n",
       "// Listen for the removal of the full notebook cells\n",
       "var notebookContainer = gd.closest('#notebook-container');\n",
       "if (notebookContainer) {{\n",
       "    x.observe(notebookContainer, {childList: true});\n",
       "}}\n",
       "\n",
       "// Listen for the clearing of the current output cell\n",
       "var outputEl = gd.closest('.output');\n",
       "if (outputEl) {{\n",
       "    x.observe(outputEl, {childList: true});\n",
       "}}\n",
       "\n",
       "                        })                };                });            </script>        </div>"
      ]
     },
     "metadata": {},
     "output_type": "display_data"
    }
   ],
   "source": [
    "## Time loop\n",
    "\n",
    "!rm -r savedVariables\n",
    "! mkdir savedVariables\n",
    "\n",
    "for time in t:\n",
    "\n",
    "    print(\"\\nTime = \" + str(time))\n",
    "    \n",
    "    # Set number of maximum iterations for convergence\n",
    "    \n",
    "    icorr = 1\n",
    "    maxcorr = 100000\n",
    "\n",
    "    # Make directory\n",
    "\n",
    "    ! mkdir savedVariables/{time}\n",
    "    \n",
    "    while True:\n",
    "    # for iteration in [1]:\n",
    "            \n",
    "        u_previous = u_new #store latest guess values\n",
    "\n",
    "        A_x = A(\"x\").createMatrix()\n",
    "        \n",
    "        for k in np.arange(0,(nx+2)*(ny+2)):   # k is the cell number\n",
    "\n",
    "            xy = \"x\"\n",
    "\n",
    "            U = displacement(k, u_previous, 0)\n",
    "            V = displacement(k, u_previous, 1)\n",
    "\n",
    "            #Bottom left corner coefficients\n",
    "               \n",
    "            if cell_index().bottom_left_corner(k):\n",
    "                edges = [\"b\", \"l\"]\n",
    "\n",
    "                #print(str(k) + \": Bottom left corner coefficients\")\n",
    "\n",
    "                #ap\n",
    "                A_x, b_x = displacement_cell_BCs(A_x, b_x, k, edges, xy, u_old, u_old_old, u_previous)\n",
    "\n",
    "            #Bottom right corner coefficients\n",
    "                \n",
    "            elif  cell_index().bottom_right_corner(k):\n",
    "                edges = [\"b\", \"r\"]\n",
    "\n",
    "                #print(str(k) + \": Bottom right corner coefficients\")\n",
    "\n",
    "                A_x, b_x = displacement_cell_BCs(A_x, b_x, k, edges, xy, u_old, u_old_old, u_previous)\n",
    "\n",
    "            # Top Left Corner Coeficients\n",
    "                \n",
    "            elif  cell_index().top_left_corner(k):\n",
    "                edges = [\"t\", \"l\"]\n",
    "\n",
    "                #print(str(k) + \":Top Left corner coefficients\")\n",
    "\n",
    "                A_x, b_x = displacement_cell_BCs(A_x, b_x, k, edges, xy, u_old, u_old_old, u_previous)\n",
    "\n",
    "                \n",
    "            # Top right corner coefficients\n",
    "                \n",
    "            elif  cell_index().top_right_corner(k):   \n",
    "                edges = [\"t\", \"r\"]\n",
    "\n",
    "                #print(str(k) + \":Top right corner coefficients\")\n",
    "\n",
    "                A_x, b_x = displacement_cell_BCs(A_x, b_x, k, edges, xy, u_old, u_old_old, u_previous)\n",
    "\n",
    "                \n",
    "            # Center Bottom Boundaries\n",
    "\n",
    "            elif  cell_index().center_bottom(k):\n",
    "                edges = [\"b\"]\n",
    "\n",
    "                #print(str(k) + \": Bottom Center Coefficents for Cell\")\n",
    "\n",
    "                A_x, b_x = displacement_cell_BCs(A_x, b_x, k, edges, xy, u_old, u_old_old, u_previous)\n",
    "                               \n",
    "\n",
    "            # Center Top Boundaries\n",
    "\n",
    "            elif cell_index().center_top(k):\n",
    "                edges = [\"t\"]\n",
    "\n",
    "                #print(str(k) + \": Top Center Coefficents for Cell\")\n",
    "                A_x, b_x = displacement_cell_BCs(A_x, b_x, k, edges, xy, u_old, u_old_old, u_previous)\n",
    "\n",
    "            \n",
    "            # Center Left Boundaries\n",
    "\n",
    "            elif  cell_index().center_left(k):\n",
    "                edges = [\"l\"]\n",
    "\n",
    "                #print(str(k) + \": Left Center Coefficents for Cell\")\n",
    "\n",
    "                A_x, b_x = displacement_cell_BCs(A_x, b_x, k, edges, xy, u_old, u_old_old, u_previous)\n",
    "\n",
    "\n",
    "            # Center Right Boundaries\n",
    "\n",
    "            elif  cell_index().center_right(k):\n",
    "                edges = [\"r\"]\n",
    "\n",
    "                #print(str(k) + \": Right Center Coefficents for Cell\")\n",
    "\n",
    "                A_x, b_x = displacement_cell_BCs(A_x, b_x, k, edges, xy, u_old, u_old_old, u_previous)\n",
    "\n",
    "\n",
    "            #### Points on Boundary ####\n",
    "\n",
    "            # Center Bottom\n",
    "\n",
    "            elif boundary_point_index().center_bottom(k):\n",
    "                edges = [\"b\"]\n",
    "\n",
    "                # A_x[k,k] = 1\n",
    "                # b_x[k] = edge_U(edges, xy).BC\n",
    "\n",
    "                A_x, b_x = displacement_point_BCs(A_x, b_x, k, edges, xy)\n",
    "\n",
    "\n",
    "            # Center Top\n",
    "\n",
    "            elif boundary_point_index().center_top(k):\n",
    "                edges = [\"t\"]\n",
    "\n",
    "                A_x[k,k] = 1\n",
    "                b_x[k] = edge_U(edges, xy).BC\n",
    "                \n",
    "            # Center Left\n",
    "\n",
    "            elif boundary_point_index().center_left(k):\n",
    "                edges = [\"l\"]\n",
    "\n",
    "                A_x[k,k] = 1\n",
    "                b_x[k] = edge_U(edges, xy).BC\n",
    "\n",
    "            # Center Right\n",
    "\n",
    "            elif boundary_point_index().center_right(k):\n",
    "                edges = [\"r\"]\n",
    "\n",
    "                A_x[k,k] = 1\n",
    "                b_x[k] = edge_U(edges, xy).BC \n",
    "\n",
    "            # Bottom Left: Bottom\n",
    "\n",
    "            elif boundary_point_index().bottom_left_bottom(k):\n",
    "                edges = [\"b\", \"l\"]\n",
    "\n",
    "                A_x[k,k] = 1\n",
    "                b_x[k] = edge_U(edges, xy).BC\n",
    "\n",
    "            # Bottom Left: Left\n",
    "\n",
    "            elif boundary_point_index().bottom_left_left(k):\n",
    "                edges = [\"l\", \"b\"]\n",
    "\n",
    "                A_x[k,k] = 1\n",
    "                b_x[k] = edge_U(edges, xy).BC\n",
    "            \n",
    "            # Bottom Right: Right\n",
    "\n",
    "            elif boundary_point_index().bottom_right_right(k):\n",
    "                edges = [\"r\", \"b\"]\n",
    "\n",
    "                A_x[k,k] = 1\n",
    "                b_x[k] = edge_U(edges, xy).BC\n",
    "\n",
    "            # Bottom Right: Bottom\n",
    "\n",
    "            elif boundary_point_index().bottom_right_bottom(k):\n",
    "                edges = [\"b\", \"r\"]\n",
    "\n",
    "                A_x[k,k] = 1\n",
    "                b_x[k] = edge_U(edges, xy).BC\n",
    "\n",
    "            # Top Left: Left\n",
    "\n",
    "            elif boundary_point_index().top_left_left(k):\n",
    "                edges = [\"l\", \"t\"]\n",
    "\n",
    "                A_x[k,k] = 1\n",
    "                b_x[k] = edge_U(edges, xy).BC\n",
    "\n",
    "            # Top Left: Top\n",
    "\n",
    "            elif boundary_point_index().top_left_top(k):\n",
    "                edges = [\"t\", \"l\"]\n",
    "\n",
    "                A_x[k,k] = 1\n",
    "                b_x[k] = edge_U(edges, xy).BC\n",
    "\n",
    "            # Top Right: Right\n",
    "\n",
    "            elif boundary_point_index().top_right_right(k):\n",
    "                edges = [\"r\", \"t\"]\n",
    "\n",
    "                A_x[k,k] = 1\n",
    "                b_x[k] = edge_U(edges, xy).BC\n",
    "\n",
    "            # Top Right: Top\n",
    "            \n",
    "            elif boundary_point_index().top_right_top(k):\n",
    "                edges = [\"t\", \"r\"]\n",
    "\n",
    "                A_x[k,k] = 1\n",
    "                b_x[k] = edge_U(edges, xy).BC\n",
    "                        \n",
    "            # Corner Points\n",
    "\n",
    "            elif boundary_point_index().bottom_left_corner(k):\n",
    "\n",
    "                #print(str(k) + \": Bottom Left Corner Point on Boundary\")\n",
    "\n",
    "                A_x[k,k] = 4\n",
    "\n",
    "                A_x[k,index(k).n] = 2 \n",
    "                A_x[k,index(k).e] = 2\n",
    "\n",
    "                A_x[k,index(k).ne] = -15\n",
    "\n",
    "                A_x[k,index(k).dir([\"n\", \"n\"])] = 2 \n",
    "                A_x[k,index(k).dir([\"e\", \"e\"])] = 2\n",
    "\n",
    "                A_x[k,index(k).dir([\"n\", \"ne\"])] = 1\n",
    "                A_x[k,index(k).dir([\"ne\", \"ne\"])] = 1\n",
    "                A_x[k,index(k).dir([\"e\", \"ne\"])] = 1\n",
    "\n",
    "                b_x[k] = 0\n",
    "\n",
    "                # edges = [\"b\"]\n",
    "\n",
    "                # A_x[k,k] = 1\n",
    "                # b_x[k] = edge_U(edges, xy).BC\n",
    "\n",
    "            elif boundary_point_index().bottom_right_corner(k):\n",
    "                #print(str(k) + \": Bottom Right Corner Point on Boundary\")\n",
    "                A_x[k,k] = 4\n",
    "\n",
    "                A_x[k,index(k).n] = 2 \n",
    "                A_x[k,index(k).w] = 2\n",
    "\n",
    "                A_x[k,index(k).nw] = -15\n",
    "\n",
    "                A_x[k,index(k).dir([\"n\", \"n\"])] = 2 \n",
    "                A_x[k,index(k).dir([\"w\", \"w\"])] = 2\n",
    "\n",
    "                A_x[k,index(k).dir([\"n\", \"nw\"])] = 1\n",
    "                A_x[k,index(k).dir([\"nw\", \"nw\"])] = 1\n",
    "                A_x[k,index(k).dir([\"w\", \"nw\"])] = 1\n",
    "\n",
    "                # edges = [\"b\"]\n",
    "\n",
    "                # A_x[k,k] = 1\n",
    "                # b_x[k] = edge_U(edges, xy).BC\n",
    "\n",
    "            elif boundary_point_index().top_left_corner(k):\n",
    "                #print(str(k) + \": Top Left Corner Point on Boundary\")\n",
    "                A_x[k,k] = 4\n",
    "\n",
    "                A_x[k,index(k).s] = 2 \n",
    "                A_x[k,index(k).e] = 2\n",
    "\n",
    "                A_x[k,index(k).se] = -15\n",
    "\n",
    "                A_x[k,index(k).dir([\"s\", \"s\"])] = 2 \n",
    "                A_x[k,index(k).dir([\"e\", \"e\"])] = 2\n",
    "\n",
    "                A_x[k,index(k).dir([\"s\", \"se\"])] = 1\n",
    "                A_x[k,index(k).dir([\"se\", \"se\"])] = 1\n",
    "                A_x[k,index(k).dir([\"e\", \"se\"])] = 1\n",
    "\n",
    "                b_x[k] = 0\n",
    "                # edges = [\"t\"]\n",
    "\n",
    "                # A_x[k,k] = 1\n",
    "                # b_x[k] = edge_U(edges, xy).BC\n",
    "\n",
    "            elif boundary_point_index().top_right_corner(k):\n",
    "                #print(str(k) + \": Top Right Corner Point on Boundary\")\n",
    "                A_x[k,k] = 4\n",
    "\n",
    "                A_x[k,index(k).s] = 2 \n",
    "                A_x[k,index(k).w] = 2\n",
    "\n",
    "                A_x[k,index(k).sw] = -15\n",
    "\n",
    "                A_x[k,index(k).dir([\"s\", \"s\"])] = 2 \n",
    "                A_x[k,index(k).dir([\"w\", \"w\"])] = 2\n",
    "\n",
    "                A_x[k,index(k).dir([\"s\", \"sw\"])] = 1\n",
    "                A_x[k,index(k).dir([\"sw\", \"sw\"])] = 1\n",
    "                A_x[k,index(k).dir([\"w\", \"sw\"])] = 1\n",
    "\n",
    "                b_x[k] = 0\n",
    "                # edges = [\"t\"]\n",
    "\n",
    "                # A_x[k,k] = 1\n",
    "                # b_x[k] = edge_U(edges, xy).BC\n",
    "\n",
    "                \n",
    "            else:\n",
    "\n",
    "                # print(str(k) + \": NO BC Cell\")\n",
    "\n",
    "                b_x[k] = (\n",
    "                            A.b_temp(u_old, u_old_old, k, \"x\")\n",
    "                            +\n",
    "                            A.b_diff(k, \"x\", u_previous)\n",
    "                        )\n",
    "\n",
    "        # saveArray(str(time) + \"/A_x_\" + str(icorr) , A_x.todense())   \n",
    "        # saveArray(str(time) + \"/b_x_\" + str(icorr), b_x)  \n",
    "\n",
    "        ## Solve the x-equation\n",
    "        \n",
    "        Ux = spsolve(A_x, b_x)\n",
    "        Ux = np.array(Ux)\n",
    "\n",
    "        # #print(Ux)\n",
    "\n",
    "        saveArray(str(time) + \"/Ux_\" + str(icorr), Ux)\n",
    "        \n",
    "        ## Prepare matrix A and b vector for the y-equation\n",
    "        \n",
    "        A_y = A(\"y\").createMatrix()\n",
    "        \n",
    "        for k in np.arange(0,(nx+2)*(ny+2)):   # j is the cell number\n",
    "\n",
    "            xy = \"y\"\n",
    "\n",
    "\n",
    "            U = displacement(k, u_previous, 0)\n",
    "            V = displacement(k, u_previous, 1)\n",
    " \n",
    "            #Bottom left corner coefficients\n",
    "            \n",
    "            if cell_index().bottom_left_corner(k):\n",
    "                edges = [\"b\", \"l\"]\n",
    "\n",
    "                #print(str(k) + \": Bottom left corner coefficients\")\n",
    "\n",
    "                A_y, b_y = displacement_cell_BCs(A_y, b_y, k, edges, xy, u_old, u_old_old, u_previous)\n",
    "\n",
    "            \n",
    "            #Bottom right corner coefficients\n",
    "                \n",
    "            elif  cell_index().bottom_right_corner(k):\n",
    "                edges = [\"b\", \"r\"]\n",
    "\n",
    "                #print(str(k) + \": Bottom right corner coefficients\")\n",
    "\n",
    "                A_y, b_y = displacement_cell_BCs(A_y, b_y, k, edges, xy, u_old, u_old_old, u_previous)\n",
    "\n",
    "                     \n",
    "            #Top left corner coefficients\n",
    "                \n",
    "            elif  cell_index().top_left_corner(k):\n",
    "                edges = [\"t\", \"l\"]\n",
    "\n",
    "                #print(str(k) + \":Top Left corner coefficients\")\n",
    "\n",
    "                A_y, b_y = displacement_cell_BCs(A_y, b_y, k, edges, xy, u_old, u_old_old, u_previous)\n",
    "\n",
    "                \n",
    "            #Top right corner coefficients\n",
    "                \n",
    "            elif  cell_index().top_right_corner(k):   \n",
    "                edges = [\"t\", \"r\"]\n",
    "\n",
    "                #print(str(k) + \":Top right corner coefficients\")\n",
    "                \n",
    "                A_y, b_y = displacement_cell_BCs(A_y, b_y, k, edges, xy, u_old, u_old_old, u_previous)\n",
    "\n",
    "            \n",
    "            # Center Bottom Boundaries\n",
    "\n",
    "            elif  cell_index().center_bottom(k):\n",
    "                edges = [\"b\"]\n",
    "\n",
    "                #print(str(k) + \": Bottom Center Coefficents for Cell\")\n",
    "                A_y, b_y = displacement_cell_BCs(A_y, b_y, k, edges, xy, u_old, u_old_old, u_previous)\n",
    "\n",
    "\n",
    "            # Center Top Boundaries\n",
    "\n",
    "            elif cell_index().center_top(k):\n",
    "                edges = [\"t\"]\n",
    "\n",
    "                #print(str(k) + \": Top Center Coefficents for Cell\")\n",
    "\n",
    "                A_y, b_y = displacement_cell_BCs(A_y, b_y, k, edges, xy, u_old, u_old_old, u_previous)\n",
    "\n",
    "\n",
    "            # Center Left Boundaries\n",
    "\n",
    "            elif  cell_index().center_left(k):\n",
    "\n",
    "                edges = [\"l\"]\n",
    "\n",
    "                #print(str(k) + \": Left Center Coefficents for Cell\")\n",
    "\n",
    "                A_y, b_y = displacement_cell_BCs(A_y, b_y, k, edges, xy, u_old, u_old_old, u_previous)\n",
    "\n",
    "\n",
    "            # Center Right Boundaries\n",
    "\n",
    "            elif  cell_index().center_right(k):\n",
    "                edges = [\"r\"]\n",
    "\n",
    "                #print(str(k) + \": Right Center Coefficents for Cell\")\n",
    "\n",
    "                A_y, b_y = displacement_cell_BCs(A_y, b_y, k, edges, xy, u_old, u_old_old, u_previous)\n",
    "\n",
    "\n",
    "\n",
    "            #### Points on Boundary ####\n",
    "\n",
    "            # Center Bottom\n",
    "\n",
    "            elif boundary_point_index().center_bottom(k):\n",
    "                edges = [\"b\"]\n",
    "\n",
    "                A_y[k,k] = 1\n",
    "                b_y[k] = edge_U(edges, xy).BC\n",
    "\n",
    "            # Center Top\n",
    "\n",
    "            elif boundary_point_index().center_top(k):\n",
    "                edges = [\"t\"]\n",
    "\n",
    "                A_y[k,k] = 1\n",
    "                b_y[k] = edge_U(edges, xy).BC\n",
    "                \n",
    "            # Center Left\n",
    "\n",
    "            elif boundary_point_index().center_left(k):\n",
    "                edges = [\"l\"]\n",
    "\n",
    "                A_y[k,k] = 1\n",
    "                b_y[k] = edge_U(edges, xy).BC\n",
    "\n",
    "            # Center Right\n",
    "\n",
    "            elif boundary_point_index().center_right(k):\n",
    "                edges = [\"r\"]\n",
    "\n",
    "                A_y[k,k] = 1\n",
    "                b_y[k] = edge_U(edges, xy).BC\n",
    "\n",
    "            # Bottom Left: Bottom\n",
    "\n",
    "            elif boundary_point_index().bottom_left_bottom(k):\n",
    "                edges = [\"b\", \"l\"]\n",
    "\n",
    "                A_y[k,k] = 1\n",
    "                b_y[k] = edge_U(edges, xy).BC\n",
    "\n",
    "            elif boundary_point_index().bottom_left_left(k):\n",
    "                edges = [\"l\", \"b\"]\n",
    "\n",
    "                A_y[k,k] = 1\n",
    "                b_y[k] = edge_U(edges, xy).BC\n",
    "            \n",
    "            # Bottom Right: Right\n",
    "\n",
    "            elif boundary_point_index().bottom_right_right(k):\n",
    "                edges = [\"r\", \"b\"]\n",
    "\n",
    "                A_y[k,k] = 1\n",
    "                b_y[k] = edge_U(edges, xy).BC\n",
    "\n",
    "            # Bottom Right: Bottom\n",
    "\n",
    "            elif boundary_point_index().bottom_right_bottom(k):\n",
    "                edges = [\"b\", \"r\"]\n",
    "\n",
    "                A_y[k,k] = 1\n",
    "                b_y[k] = edge_U(edges, xy).BC\n",
    "\n",
    "            # Top Left: Left\n",
    "\n",
    "            elif boundary_point_index().top_left_left(k):\n",
    "                edges = [\"l\", \"t\"]\n",
    "\n",
    "                A_y[k,k] = 1\n",
    "                b_y[k] = edge_U(edges, xy).BC\n",
    "\n",
    "            # Top Left: Top\n",
    "\n",
    "            elif boundary_point_index().top_left_top(k):\n",
    "                edges = [\"t\", \"l\"]\n",
    "\n",
    "                A_y[k,k] = 1\n",
    "                b_y[k] = edge_U(edges, xy).BC\n",
    "\n",
    "            # Top Right: Right\n",
    "\n",
    "            elif boundary_point_index().top_right_right(k):\n",
    "                edges = [\"r\", \"t\"]\n",
    "\n",
    "                A_y[k,k] = 1\n",
    "                b_y[k] = edge_U(edges, xy).BC\n",
    "\n",
    "            # Top Right: Top\n",
    "            \n",
    "            elif boundary_point_index().top_right_top(k):\n",
    "                edges = [\"t\", \"r\"]\n",
    "\n",
    "                A_y[k,k] = 1\n",
    "                b_y[k] = edge_U(edges, xy).BC\n",
    "\n",
    "            # # Corner Points\n",
    "            elif boundary_point_index().bottom_left_corner(k):\n",
    "\n",
    "                #print(str(k) + \": Bottom Left Corner Point on Boundary\")\n",
    "\n",
    "                A_y[k,k] = 4\n",
    "\n",
    "                A_y[k,index(k).n] = 2 \n",
    "                A_y[k,index(k).e] = 2\n",
    "\n",
    "                A_y[k,index(k).ne] = -15\n",
    "\n",
    "                A_y[k,index(k).dir([\"n\", \"n\"])] = 2 \n",
    "                A_y[k,index(k).dir([\"e\", \"e\"])] = 2\n",
    "\n",
    "                A_y[k,index(k).dir([\"n\", \"ne\"])] = 1\n",
    "                A_y[k,index(k).dir([\"ne\", \"ne\"])] = 1\n",
    "                A_y[k,index(k).dir([\"e\", \"ne\"])] = 1\n",
    "\n",
    "                b_y[k] = 0\n",
    "                b_x[k] = 0\n",
    "                # edges = [\"b\"]\n",
    "\n",
    "                # A_y[k,k] = 1\n",
    "                # b_y[k] = edge_U(edges, xy).BC\n",
    "\n",
    "            elif boundary_point_index().bottom_right_corner(k):\n",
    "                #print(str(k) + \": Bottom Right Corner Point on Boundary\")\n",
    "                A_y[k,k] = 4\n",
    "\n",
    "                A_y[k,index(k).n] = 2 \n",
    "                A_y[k,index(k).w] = 2\n",
    "\n",
    "                A_y[k,index(k).nw] = -15\n",
    "\n",
    "                A_y[k,index(k).dir([\"n\", \"n\"])] = 2 \n",
    "                A_y[k,index(k).dir([\"w\", \"w\"])] = 2\n",
    "\n",
    "                A_y[k,index(k).dir([\"n\", \"nw\"])] = 1\n",
    "                A_y[k,index(k).dir([\"nw\", \"nw\"])] = 1\n",
    "                A_y[k,index(k).dir([\"w\", \"nw\"])] = 1\n",
    "\n",
    "                b_y[k] = 0\n",
    "                # edges = [\"b\"]\n",
    "\n",
    "                # A_y[k,k] = 1\n",
    "                # b_y[k] = edge_U(edges, xy).BC\n",
    "\n",
    "\n",
    "            elif boundary_point_index().top_left_corner(k):\n",
    "                #print(str(k) + \": Top Left Corner Point on Boundary\")\n",
    "                A_y[k,k] = 4\n",
    "\n",
    "                A_y[k,index(k).s] = 2 \n",
    "                A_y[k,index(k).e] = 2\n",
    "\n",
    "                A_y[k,index(k).se] = -15\n",
    "\n",
    "                A_y[k,index(k).dir([\"s\", \"s\"])] = 2 \n",
    "                A_y[k,index(k).dir([\"e\", \"e\"])] = 2\n",
    "\n",
    "                A_y[k,index(k).dir([\"s\", \"se\"])] = 1\n",
    "                A_y[k,index(k).dir([\"se\", \"se\"])] = 1\n",
    "                A_y[k,index(k).dir([\"e\", \"se\"])] = 1\n",
    "\n",
    "                b_y[k] = 0\n",
    "                # edges = [\"t\"]\n",
    "\n",
    "                # A_y[k,k] = 1\n",
    "                # b_y[k] = edge_U(edges, xy).BC\n",
    "\n",
    "\n",
    "            elif boundary_point_index().top_right_corner(k):\n",
    "                #print(str(k) + \": Top Right Corner Point on Boundary\")\n",
    "                A_y[k,k] = 4\n",
    "\n",
    "                A_y[k,index(k).s] = 2 \n",
    "                A_y[k,index(k).w] = 2\n",
    "\n",
    "                A_y[k,index(k).sw] = -15\n",
    "\n",
    "                A_y[k,index(k).dir([\"s\", \"s\"])] = 2 \n",
    "                A_y[k,index(k).dir([\"w\", \"w\"])] = 2\n",
    "\n",
    "                A_y[k,index(k).dir([\"s\", \"sw\"])] = 1\n",
    "                A_y[k,index(k).dir([\"sw\", \"sw\"])] = 1\n",
    "                A_y[k,index(k).dir([\"w\", \"sw\"])] = 1\n",
    "\n",
    "                b_y[k] = 0\n",
    "                # edges = [\"t\"]\n",
    "\n",
    "                # A_y[k,k] = 1\n",
    "                # b_y[k] = edge_U(edges, xy).BC\n",
    "            \n",
    "\n",
    "            else:\n",
    "\n",
    "                #print(str(k) + \": NO BC Cell\")\n",
    "\n",
    "                b_y[k] = (\n",
    "                            A.b_temp(u_old, u_old_old, k, \"y\")\n",
    "                            +\n",
    "                            A.b_diff(k, \"y\", u_previous)\n",
    "                        )\n",
    "        # saveArray(str(time) + \"/A_y_\" + str(icorr) , A_y)\n",
    "        # saveArray(str(time) + \"/b_y_\" + str(icorr), b_y)       \n",
    "                \n",
    "        ## Solve the y-equation\n",
    "        Uy = spsolve(A_y, b_y)\n",
    "        Uy = np.array(Uy)\n",
    "\n",
    "        # saveArray(str(time) + \"/Uy_\" + str(icorr), Uy)\n",
    "        \n",
    "        # ## Update U.New with new x and y displacements\n",
    "\n",
    "        u_new1 = np.vstack((Ux, Uy)).T\n",
    "        # saveArray (str(time) + \"/U_new1_\" + str(icorr), u_new1)    \n",
    "        # saveArray (str(time) + \"/u_previous_\" + str(icorr), u_previous)\n",
    "\n",
    "        # # U.New[:,0] = Ux\n",
    "        # # U.New[:,1] = Uy\n",
    "        \n",
    "        ## Calculate the residual of each iteration\n",
    "        \n",
    "        normFactor = np.max(u_new1)\n",
    "        residual = math.sqrt(np.mean((u_new1 - u_previous)**2))/normFactor\n",
    "        tolerance = 1e-6\n",
    "        u_new = u_new1\n",
    "    \n",
    "        ##print out residual of each iteration\n",
    "        print(\"icorr = {:01d}, Residual = {:.20f}, normFactor = {:.20f}\".format(icorr, residual, normFactor))\n",
    "             \n",
    "        ## Convergence check\n",
    "        \n",
    "        if residual < tolerance:\n",
    "            \n",
    "            break\n",
    "            \n",
    "        elif icorr > maxcorr:\n",
    "            \n",
    "            break            \n",
    "        \n",
    "        icorr = icorr + 1\n",
    "    \n",
    "    ## Update variables\n",
    "    \n",
    "    u_old_old = u_old\n",
    "    u_old = u_new1\n",
    "    \n",
    "    # ## Add the boundary conditions to the solution matrices\n",
    "    u_reshape_x = u_new[:,0].reshape(nx+2, ny+2)\n",
    "    u_reshape_y = u_new[:,1].reshape(nx+2, ny+2)\n",
    "    \n",
    "    # #Boundary conditions for u matrix\n",
    "    U = np.zeros((nx+2,ny+2))\n",
    "    V = np.zeros((nx+2,ny+2))\n",
    " \n",
    "    U[:, :] = u_reshape_x\n",
    "    V[:, :] = u_reshape_y \n",
    "\n",
    "    #Modulus of displacement\n",
    "\n",
    "    disp_mod = np.sqrt((U**2) + (V**2))\n",
    "    disp_mod_converted = disp_mod*1e6 #Convert displacement to micrometers\n",
    "    \n",
    "#     # ## Plot the results\n",
    "\n",
    "    import plotly.graph_objects as go\n",
    "\n",
    "    disp_mod = np.sqrt((U**2) + (V**2))*1e-10\n",
    "\n",
    "    dispx, dispy = np.meshgrid(x, y)\n",
    "    fig = go.Figure(data=[go.Surface(z=disp_mod_converted, x=dispx, y=dispy)])\n",
    "\n",
    "    \n",
    "    \n",
    "fig.show()   \n",
    "\n",
    "print(\"U graph\")\n",
    "fig = go.Figure(data=[go.Surface(z=U, x=dispx, y=dispy)])\n",
    "\n",
    "fig.show()   \n",
    "\n",
    "print(\"V graph\")\n",
    "fig = go.Figure(data=[go.Surface(z=V, x=dispx, y=dispy)])\n",
    "\n",
    "fig.show()   \n",
    "\n",
    "\n",
    "\n"
   ]
  },
  {
   "cell_type": "code",
   "execution_count": 594,
   "metadata": {},
   "outputs": [
    {
     "data": {
      "text/plain": [
       "1.4190920165394087e-07"
      ]
     },
     "execution_count": 594,
     "metadata": {},
     "output_type": "execute_result"
    }
   ],
   "source": [
    "Ux[0] - Uy[0]"
   ]
  },
  {
   "cell_type": "code",
   "execution_count": null,
   "metadata": {},
   "outputs": [],
   "source": []
  }
 ],
 "metadata": {
  "interpreter": {
   "hash": "1b2f9133931ab063f1f037caeeb0be83973bf9a3d4f21c40e4cd03e999a0b9b9"
  },
  "kernelspec": {
   "display_name": "Python 3.6.13 64-bit ('python3': conda)",
   "language": "python",
   "name": "python3"
  },
  "language_info": {
   "codemirror_mode": {
    "name": "ipython",
    "version": 3
   },
   "file_extension": ".py",
   "mimetype": "text/x-python",
   "name": "python",
   "nbconvert_exporter": "python",
   "pygments_lexer": "ipython3",
   "version": "3.9.5"
  },
  "orig_nbformat": 4
 },
 "nbformat": 4,
 "nbformat_minor": 2
}
