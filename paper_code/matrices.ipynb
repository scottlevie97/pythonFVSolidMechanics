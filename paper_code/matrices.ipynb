{
 "cells": [
  {
   "cell_type": "code",
   "execution_count": null,
   "metadata": {},
   "outputs": [],
   "source": []
  },
  {
   "cell_type": "markdown",
   "metadata": {},
   "source": [
    "| Syntax      | Description | Test Text     |\n",
    "| :----:   |    :----:   |          :----: |\n",
    "|$\\begin{bmatrix}a_P & - a_N & - a_S & -a_E & - a_W\\end{bmatrix}\\begin{bmatrix}u_P \\\\ u_N \\\\ u_S \\\\ u_E \\\\ u_W\\end{bmatrix}_{k + 2nx}= b$ |  $\\begin{bmatrix}a_P & - a_N & - a_S & -a_E & - a_W\\end{bmatrix}\\begin{bmatrix}u_P \\\\ u_N \\\\ u_S \\\\ u_E \\\\ u_W\\end{bmatrix}_{k+ 1 + 2nx}= b$       | $\\begin{bmatrix}a_P & - a_N & - a_S & -a_E & - a_W\\end{bmatrix}\\begin{bmatrix}u_P \\\\ u_N \\\\ u_S \\\\ u_E \\\\ u_W\\end{bmatrix}_{k+ 2 + 2nx}= b$   |\n",
    "|$\\begin{bmatrix}a_P & - a_N & - a_S & -a_E & - a_W\\end{bmatrix}\\begin{bmatrix}u_P \\\\ u_N \\\\ u_S \\\\ u_E \\\\ u_W\\end{bmatrix}_{k+ nx}= b$ |  $\\begin{bmatrix}a_P & - a_N & - a_S & -a_E & - a_W\\end{bmatrix}\\begin{bmatrix}u_P \\\\ u_N \\\\ u_S \\\\ u_E \\\\ u_W\\end{bmatrix}_{k+1 + nx}= b$       | $\\begin{bmatrix}a_P & - a_N & - a_S & -a_E & - a_W\\end{bmatrix}\\begin{bmatrix}u_P \\\\ u_N \\\\ u_S \\\\ u_E \\\\ u_W\\end{bmatrix}_{k+2+ nx}= b$   |\n",
    "|$\\begin{bmatrix}a_P & - a_N & - a_S & -a_E & - a_W\\end{bmatrix}\\begin{bmatrix}{u_P} \\\\ u_N \\\\ u_S \\\\ u_E \\\\ u_W\\end{bmatrix}_k= b$ |  $\\begin{bmatrix}a_P & - a_N & - a_S & -a_E & - a_W\\end{bmatrix}\\begin{bmatrix}u_P \\\\ u_N \\\\ u_S \\\\ u_E \\\\ u_W\\end{bmatrix}_{k+1}= b$       | $\\begin{bmatrix}a_P & - a_N & - a_S & -a_E & - a_W\\end{bmatrix}\\begin{bmatrix}u_P \\\\ u_N \\\\ u_S \\\\ u_E \\\\ u_W\\end{bmatrix}_{k+2}= b$   |"
   ]
  },
  {
   "cell_type": "markdown",
   "metadata": {},
   "source": [
    "|       |  |       |\n",
    "| :----:   |    :----:   |          :----: |\n",
    "|$\\begin{bmatrix}a_P & - a_N & - a_S & -a_E & - a_W\\end{bmatrix}\\begin{bmatrix}\\color{red}u_P \\\\ u_N \\\\ \\color{lime} u_S \\\\ \\color{magenta} u_E \\\\ u_W\\end{bmatrix}_{k + 2nx}= b_{k + 2nx}$ |  $\\begin{bmatrix}a_P & - a_N & - a_S & - a_E & - a_W\\end{bmatrix}\\begin{bmatrix} \\color{magenta} u_P \\\\ u_N \\\\ \\color{blue} u_S \\\\ \\color{green} u_E \\\\ \\color{red}u_W\\end{bmatrix}_{k+ 1 + 2nx}= b_{k+ 1 + 2nx}$       | $\\begin{bmatrix}a_P & - a_N & - a_S & -a_E & - a_W\\end{bmatrix}\\begin{bmatrix}\\color{green} u_P \\\\ u_N \\\\  \\color{yellow} u_S \\\\ u_E \\\\  \\color{magenta} u_W\\end{bmatrix}_{k+ 2 + 2nx}= b_{k+ 2 + 2nx}$   |\n",
    "|$\\begin{bmatrix}a_P & - a_N & - a_S & -a_E & - a_W\\end{bmatrix}\\begin{bmatrix} \\color{lime} u_P \\\\ \\color{red} u_N \\\\ \\color{orange} u_S \\\\  \\color{blue} u_E \\\\ u_W \\end{bmatrix}_{k+ nx}= b_{k+ nx}$ |  $\\begin{bmatrix}a_P & - a_N & - a_S & -a_E & - a_W\\end{bmatrix}\\begin{bmatrix} \\color{blue} u_P \\\\ \\color{magenta}  u_N \\\\ \\color{cyan} u_S \\\\ \\color{yellow} u_E \\\\ \\color{lime} u_W\\end{bmatrix}_{k+1 + nx}= b_{k+1 + nx}$       | $\\begin{bmatrix}a_P & - a_N & - a_S & -a_E & - a_W\\end{bmatrix}\\begin{bmatrix} \\color{yellow}u_P \\\\  \\color{green} u_N \\\\ \\color{pink} u_S \\\\ u_E \\\\  \\color{blue} u_W\\end{bmatrix}_{k+2+ nx}= b_{k+2+ nx}$   |\n",
    "|$\\begin{bmatrix}a_P & - a_N & - a_S & -a_E & - a_W\\end{bmatrix}\\begin{bmatrix} \\color{orange} {u_P} \\\\  \\color{lime} u_N \\\\ u_S \\\\ \\color {cyan} u_E \\\\ u_W\\end{bmatrix}_k= b_k$ |  $\\begin{bmatrix}a_P & - a_N & - a_S & -a_E & - a_W\\end{bmatrix}\\begin{bmatrix} \\color{cyan} u_P \\\\  \\color{blue} u_N \\\\ u_S \\\\ \\color{pink} u_E \\\\ \\color{orange} u_W\\end{bmatrix}_{k+1}= b_{k+1}$       | $\\begin{bmatrix}a_P & - a_N & - a_S & -a_E & - a_W\\end{bmatrix}\\begin{bmatrix} \\color{pink} u_P \\\\ \\color{yellow} u_N \\\\ u_S \\\\ u_E \\\\ \\color{cyan} u_W\\end{bmatrix}_{k+2}= b_{k+2}$   |"
   ]
  },
  {
   "cell_type": "markdown",
   "metadata": {},
   "source": [
    "|       |  |       |\n",
    "| :----:   |    :----:   |          :----: |\n",
    "|$\\begin{bmatrix}a_P & - a_N & - a_S & -a_E & - a_W\\end{bmatrix}\\begin{bmatrix}\\color{red}u_{k+2nx} \\\\ u_N \\\\ \\color{lime} u_{k+nx} \\\\ \\color{magenta} u_{k+1+2nx} \\\\ u_W\\end{bmatrix}_{k + 2nx}= b_{k + 2nx}$ |  $\\begin{bmatrix}a_P & - a_N & - a_S & - a_E & - a_W\\end{bmatrix}\\begin{bmatrix} \\color{magenta} u_{k+1+2nx} \\\\ u_N \\\\ \\color{blue} u_{k+1+nx} \\\\ \\color{green} u_{k+2+2nx} \\\\ \\color{red}u_{k+2nx}\\end{bmatrix}_{k+ 1 + 2nx}= b_{k+ 1 + 2nx}$       | $\\begin{bmatrix}a_P & - a_N & - a_S & -a_E & - a_W\\end{bmatrix}\\begin{bmatrix}\\color{green} u_{k+2+2nx} \\\\ u_N \\\\  \\color{yellow} u_{k+2+nx} \\\\ u_E \\\\  \\color{magenta} u_{k+1+2nx}\\end{bmatrix}_{k+ 2 + 2nx}= b_{k+ 2 + 2nx}$   |\n",
    "|$\\begin{bmatrix}a_P & - a_N & - a_S & -a_E & - a_W\\end{bmatrix}\\begin{bmatrix} \\color{lime} u_{k+nx} \\\\ \\color{red} u_{k+2nx} \\\\ \\color{orange} u_{k} \\\\  \\color{blue} u_{k+1+nx} \\\\ u_W \\end{bmatrix}_{k+ nx}= b_{k+ nx}$ |  $\\begin{bmatrix}a_P & - a_N & - a_S & -a_E & - a_W\\end{bmatrix}\\begin{bmatrix} \\color{blue} u_{k+1+nx} \\\\ \\color{magenta}  u_{k+1+2nx} \\\\ \\color{cyan} u_{k+1} \\\\ \\color{yellow} u_{k+2+nx} \\\\ \\color{lime} u_{k+nx}\\end{bmatrix}_{k+1 + nx}= b_{k+1 + nx}$       | $\\begin{bmatrix}a_P & - a_N & - a_S & -a_E & - a_W\\end{bmatrix}\\begin{bmatrix} \\color{yellow}u_{k+2+nx} \\\\  \\color{green} u_{k+2+2nx} \\\\ \\color{pink} u_{k+2} \\\\ u_E \\\\  \\color{blue} u_{k+1+nx}\\end{bmatrix}_{k+2+ nx}= b_{k+2+ nx}$   |\n",
    "|$\\begin{bmatrix}a_P & - a_N & - a_S & -a_E & - a_W\\end{bmatrix}\\begin{bmatrix} \\color{orange} u_{k} \\\\  \\color{lime} u_{k+nx} \\\\ u_S \\\\ \\color {cyan} u_{k+1} \\\\ u_W\\end{bmatrix}_k= b_k$ |  $\\begin{bmatrix}a_P & - a_N & - a_S & -a_E & - a_W\\end{bmatrix}\\begin{bmatrix} \\color{cyan} u_{k+1} \\\\  \\color{blue} u_{k+1+nx} \\\\ u_S \\\\ \\color{pink} u_{k+2} \\\\ \\color{orange} u_{k}\\end{bmatrix}_{k+1}= b_{k+1}$       | $\\begin{bmatrix}a_P & - a_N & - a_S & -a_E & - a_W\\end{bmatrix}\\begin{bmatrix} \\color{pink} u_{k+2} \\\\ \\color{yellow} u_{k+2+nx} \\\\ u_S \\\\ u_E \\\\ \\color{cyan} u_{k+1}\\end{bmatrix}_{k+2}= b_{k+2}$   |"
   ]
  },
  {
   "cell_type": "markdown",
   "metadata": {},
   "source": [
    "$$\n",
    "\n",
    "\\begin{bmatrix}\n",
    "\n",
    "\\scriptstyle k & \\scriptstyle k+1 &  \\scriptstyle k+2 & \\scriptstyle  \\dots & \\scriptstyle  k+nx & \\scriptstyle  k+1+nx & \\scriptstyle  k+2+nx & \\scriptstyle \\dots & \\scriptstyle  k+2nx & \\scriptstyle  k+1+2nx &  \\scriptstyle k+2+2nx \\\\\n",
    "a_P & a_E & 0 & \\dots & a_N & 0 & 0 & \\dots & 0 & 0 & 0  \\\\\n",
    "a_W & a_P & a_E & \\dots & 0 & a_N &  0  & \\dots & 0 & 0 & 0  \\\\\n",
    "0 & a_W & a_P & \\dots & 0 & 0 & a_N & \\dots & 0 & 0 & 0  \\\\\n",
    "\\vdots & \\vdots & \\vdots & \\ddots & \\vdots & \\vdots & \\vdots & \\ddots & \\vdots & \\vdots & \\vdots \\\\\n",
    "a_S & 0 & 0 & \\dots & a_P & a_E & 0 & \\dots & a_N & 0 & 0  \\\\\n",
    "0 & a_S & 0 & \\dots & a_W & a_P & a_E & \\dots & 0 & a_N & 0  \\\\\n",
    "0 & 0 & a_S & \\dots & 0 & a_W & a_P & \\dots & 0 & 0 & a_N  \\\\\n",
    "\\vdots & \\vdots & \\vdots & \\ddots & \\vdots & \\vdots & \\vdots & \\ddots & \\vdots & \\vdots & \\vdots \\\\\n",
    "0 & 0 & 0 & \\dots & a_s & 0 & 0 & \\dots & a_P & a_E & 0  \\\\\n",
    "0 & 0 & 0 & \\dots & 0 & a_S & 0 & \\dots & a_W & a_P & a_E  \\\\\n",
    "0 & 0 & 0 & \\dots & 0 & 0 & a_S & \\dots & 0 & a_W & a_P  \\\\\n",
    "\n",
    "\\end{bmatrix}\n",
    "\n",
    "\n",
    "\\begin{bmatrix}\n",
    "   % \\\\\n",
    "   \n",
    "\\color{orange} \\underbrace{\\color{white}u_{k}}\\\\ \n",
    "\\color{cyan} \\underbrace{\\color{white}u_{k+1}}\\\\\n",
    "\\color{pink} \\underbrace{\\color{white}u_{k+2}}\\\\\n",
    "\\vdots\\\\\n",
    "\\color{lime} \\underbrace{\\color{white}u_{k+nx}}\\\\\n",
    "\\color{blue} \\underbrace{\\color{white}u_{k+1+nx}}\\\\\n",
    "\\color{yellow} \\underbrace{\\color{white}u_{k+2+nx}}\\\\\n",
    "\\vdots\\\\\n",
    "\\color{red} \\underbrace{\\color{white}u_{k+2nx}}\\\\\n",
    "\\color{magenta} \\underbrace{\\color{white}u_{k+1+2nx}}\\\\\n",
    "\\color{green} \\underbrace{\\color{white}u_{k+2+2nx}}\\\\\n",
    "\\end{bmatrix}\n",
    "\n",
    "=\n",
    "\n",
    "\\begin{bmatrix}\n",
    "b_{k}\\\\ \n",
    "b_{k+1}\\\\\n",
    "b_{k+2}\\\\\n",
    "\\vdots\\\\\n",
    "b_{k+nx}\\\\\n",
    "b_{k+1+nx}\\\\\n",
    "b_{k+2+nx}\\\\\n",
    "\\vdots\\\\\n",
    "b_{k+2nx}\\\\\n",
    "b_{k+1+2nx}\\\\\n",
    "b_{k+2+2nx}\\\\\n",
    "\\end{bmatrix}\n",
    "$$\n",
    "\n",
    "\n",
    "\n",
    "\n"
   ]
  },
  {
   "cell_type": "markdown",
   "metadata": {},
   "source": []
  }
 ],
 "metadata": {
  "language_info": {
   "name": "python"
  },
  "orig_nbformat": 4
 },
 "nbformat": 4,
 "nbformat_minor": 2
}
